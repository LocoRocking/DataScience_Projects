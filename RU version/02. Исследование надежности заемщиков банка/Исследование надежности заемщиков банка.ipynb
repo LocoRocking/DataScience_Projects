{
 "cells": [
  {
   "cell_type": "markdown",
   "metadata": {},
   "source": [
    "# Исследование надёжности заёмщиков\n",
    "\n",
    "Заказчик — кредитный отдел банка. Нужно разобраться, влияет ли семейное положение и количество детей клиента на факт погашения кредита в срок. Входные данные от банка — статистика о платёжеспособности клиентов.\n",
    "\n",
    "Результаты исследования будут учтены при построении модели **кредитного скоринга** — специальной системы, которая оценивает способность потенциального заёмщика вернуть кредит банку."
   ]
  },
  {
   "cell_type": "markdown",
   "metadata": {},
   "source": [
    "## Шаг 1. Откройте файл с данными и изучите общую информацию"
   ]
  },
  {
   "cell_type": "code",
   "execution_count": 1,
   "metadata": {},
   "outputs": [
    {
     "name": "stdout",
     "output_type": "stream",
     "text": [
      "<class 'pandas.core.frame.DataFrame'>\n",
      "RangeIndex: 21525 entries, 0 to 21524\n",
      "Data columns (total 12 columns):\n",
      "children            21525 non-null int64\n",
      "days_employed       19351 non-null float64\n",
      "dob_years           21525 non-null int64\n",
      "education           21525 non-null object\n",
      "education_id        21525 non-null int64\n",
      "family_status       21525 non-null object\n",
      "family_status_id    21525 non-null int64\n",
      "gender              21525 non-null object\n",
      "income_type         21525 non-null object\n",
      "debt                21525 non-null int64\n",
      "total_income        19351 non-null float64\n",
      "purpose             21525 non-null object\n",
      "dtypes: float64(2), int64(5), object(5)\n",
      "memory usage: 2.0+ MB\n"
     ]
    }
   ],
   "source": [
    "#импортируем библиотеки, которые будут использованы в данном исследовании и изучим общую информацию о файле\n",
    "import pandas as pd\n",
    "\n",
    "from pymystem3 import Mystem\n",
    "m = Mystem()\n",
    "\n",
    "data = pd.read_csv('/datasets/data.csv')\n",
    "data.info()"
   ]
  },
  {
   "cell_type": "markdown",
   "metadata": {},
   "source": [
    "###### Описание представленных в таблице данных\n",
    "- `children` — количество детей в семье;\n",
    "- `days_employed` — общий трудовой стаж в днях;\n",
    "- `dob_years` — возраст клиента в годах;\n",
    "- `education` — уровень образования клиента;\n",
    "- `education_id` — идентификатор уровня образования;\n",
    "- `family_status` — семейное положение;\n",
    "- `family_status_id` — идентификатор семейного положения;\n",
    "- `gender` — пол клиента;\n",
    "- `income_type` — тип занятости;\n",
    "- `debt` — имел ли задолженность по возврату кредитов;\n",
    "- `total_income` — ежемесячный доход;\n",
    "- `purpose` — цель получения кредита."
   ]
  },
  {
   "cell_type": "code",
   "execution_count": 2,
   "metadata": {},
   "outputs": [
    {
     "data": {
      "text/html": [
       "<div>\n",
       "<style scoped>\n",
       "    .dataframe tbody tr th:only-of-type {\n",
       "        vertical-align: middle;\n",
       "    }\n",
       "\n",
       "    .dataframe tbody tr th {\n",
       "        vertical-align: top;\n",
       "    }\n",
       "\n",
       "    .dataframe thead th {\n",
       "        text-align: right;\n",
       "    }\n",
       "</style>\n",
       "<table border=\"1\" class=\"dataframe\">\n",
       "  <thead>\n",
       "    <tr style=\"text-align: right;\">\n",
       "      <th></th>\n",
       "      <th>children</th>\n",
       "      <th>days_employed</th>\n",
       "      <th>dob_years</th>\n",
       "      <th>education</th>\n",
       "      <th>education_id</th>\n",
       "      <th>family_status</th>\n",
       "      <th>family_status_id</th>\n",
       "      <th>gender</th>\n",
       "      <th>income_type</th>\n",
       "      <th>debt</th>\n",
       "      <th>total_income</th>\n",
       "      <th>purpose</th>\n",
       "    </tr>\n",
       "  </thead>\n",
       "  <tbody>\n",
       "    <tr>\n",
       "      <td>0</td>\n",
       "      <td>1</td>\n",
       "      <td>-8437.673028</td>\n",
       "      <td>42</td>\n",
       "      <td>высшее</td>\n",
       "      <td>0</td>\n",
       "      <td>женат / замужем</td>\n",
       "      <td>0</td>\n",
       "      <td>F</td>\n",
       "      <td>сотрудник</td>\n",
       "      <td>0</td>\n",
       "      <td>253875.639453</td>\n",
       "      <td>покупка жилья</td>\n",
       "    </tr>\n",
       "    <tr>\n",
       "      <td>1</td>\n",
       "      <td>1</td>\n",
       "      <td>-4024.803754</td>\n",
       "      <td>36</td>\n",
       "      <td>среднее</td>\n",
       "      <td>1</td>\n",
       "      <td>женат / замужем</td>\n",
       "      <td>0</td>\n",
       "      <td>F</td>\n",
       "      <td>сотрудник</td>\n",
       "      <td>0</td>\n",
       "      <td>112080.014102</td>\n",
       "      <td>приобретение автомобиля</td>\n",
       "    </tr>\n",
       "    <tr>\n",
       "      <td>2</td>\n",
       "      <td>0</td>\n",
       "      <td>-5623.422610</td>\n",
       "      <td>33</td>\n",
       "      <td>Среднее</td>\n",
       "      <td>1</td>\n",
       "      <td>женат / замужем</td>\n",
       "      <td>0</td>\n",
       "      <td>M</td>\n",
       "      <td>сотрудник</td>\n",
       "      <td>0</td>\n",
       "      <td>145885.952297</td>\n",
       "      <td>покупка жилья</td>\n",
       "    </tr>\n",
       "    <tr>\n",
       "      <td>3</td>\n",
       "      <td>3</td>\n",
       "      <td>-4124.747207</td>\n",
       "      <td>32</td>\n",
       "      <td>среднее</td>\n",
       "      <td>1</td>\n",
       "      <td>женат / замужем</td>\n",
       "      <td>0</td>\n",
       "      <td>M</td>\n",
       "      <td>сотрудник</td>\n",
       "      <td>0</td>\n",
       "      <td>267628.550329</td>\n",
       "      <td>дополнительное образование</td>\n",
       "    </tr>\n",
       "    <tr>\n",
       "      <td>4</td>\n",
       "      <td>0</td>\n",
       "      <td>340266.072047</td>\n",
       "      <td>53</td>\n",
       "      <td>среднее</td>\n",
       "      <td>1</td>\n",
       "      <td>гражданский брак</td>\n",
       "      <td>1</td>\n",
       "      <td>F</td>\n",
       "      <td>пенсионер</td>\n",
       "      <td>0</td>\n",
       "      <td>158616.077870</td>\n",
       "      <td>сыграть свадьбу</td>\n",
       "    </tr>\n",
       "    <tr>\n",
       "      <td>5</td>\n",
       "      <td>0</td>\n",
       "      <td>-926.185831</td>\n",
       "      <td>27</td>\n",
       "      <td>высшее</td>\n",
       "      <td>0</td>\n",
       "      <td>гражданский брак</td>\n",
       "      <td>1</td>\n",
       "      <td>M</td>\n",
       "      <td>компаньон</td>\n",
       "      <td>0</td>\n",
       "      <td>255763.565419</td>\n",
       "      <td>покупка жилья</td>\n",
       "    </tr>\n",
       "    <tr>\n",
       "      <td>6</td>\n",
       "      <td>0</td>\n",
       "      <td>-2879.202052</td>\n",
       "      <td>43</td>\n",
       "      <td>высшее</td>\n",
       "      <td>0</td>\n",
       "      <td>женат / замужем</td>\n",
       "      <td>0</td>\n",
       "      <td>F</td>\n",
       "      <td>компаньон</td>\n",
       "      <td>0</td>\n",
       "      <td>240525.971920</td>\n",
       "      <td>операции с жильем</td>\n",
       "    </tr>\n",
       "    <tr>\n",
       "      <td>7</td>\n",
       "      <td>0</td>\n",
       "      <td>-152.779569</td>\n",
       "      <td>50</td>\n",
       "      <td>СРЕДНЕЕ</td>\n",
       "      <td>1</td>\n",
       "      <td>женат / замужем</td>\n",
       "      <td>0</td>\n",
       "      <td>M</td>\n",
       "      <td>сотрудник</td>\n",
       "      <td>0</td>\n",
       "      <td>135823.934197</td>\n",
       "      <td>образование</td>\n",
       "    </tr>\n",
       "    <tr>\n",
       "      <td>8</td>\n",
       "      <td>2</td>\n",
       "      <td>-6929.865299</td>\n",
       "      <td>35</td>\n",
       "      <td>ВЫСШЕЕ</td>\n",
       "      <td>0</td>\n",
       "      <td>гражданский брак</td>\n",
       "      <td>1</td>\n",
       "      <td>F</td>\n",
       "      <td>сотрудник</td>\n",
       "      <td>0</td>\n",
       "      <td>95856.832424</td>\n",
       "      <td>на проведение свадьбы</td>\n",
       "    </tr>\n",
       "    <tr>\n",
       "      <td>9</td>\n",
       "      <td>0</td>\n",
       "      <td>-2188.756445</td>\n",
       "      <td>41</td>\n",
       "      <td>среднее</td>\n",
       "      <td>1</td>\n",
       "      <td>женат / замужем</td>\n",
       "      <td>0</td>\n",
       "      <td>M</td>\n",
       "      <td>сотрудник</td>\n",
       "      <td>0</td>\n",
       "      <td>144425.938277</td>\n",
       "      <td>покупка жилья для семьи</td>\n",
       "    </tr>\n",
       "  </tbody>\n",
       "</table>\n",
       "</div>"
      ],
      "text/plain": [
       "   children  days_employed  dob_years education  education_id  \\\n",
       "0         1   -8437.673028         42    высшее             0   \n",
       "1         1   -4024.803754         36   среднее             1   \n",
       "2         0   -5623.422610         33   Среднее             1   \n",
       "3         3   -4124.747207         32   среднее             1   \n",
       "4         0  340266.072047         53   среднее             1   \n",
       "5         0    -926.185831         27    высшее             0   \n",
       "6         0   -2879.202052         43    высшее             0   \n",
       "7         0    -152.779569         50   СРЕДНЕЕ             1   \n",
       "8         2   -6929.865299         35    ВЫСШЕЕ             0   \n",
       "9         0   -2188.756445         41   среднее             1   \n",
       "\n",
       "      family_status  family_status_id gender income_type  debt   total_income  \\\n",
       "0   женат / замужем                 0      F   сотрудник     0  253875.639453   \n",
       "1   женат / замужем                 0      F   сотрудник     0  112080.014102   \n",
       "2   женат / замужем                 0      M   сотрудник     0  145885.952297   \n",
       "3   женат / замужем                 0      M   сотрудник     0  267628.550329   \n",
       "4  гражданский брак                 1      F   пенсионер     0  158616.077870   \n",
       "5  гражданский брак                 1      M   компаньон     0  255763.565419   \n",
       "6   женат / замужем                 0      F   компаньон     0  240525.971920   \n",
       "7   женат / замужем                 0      M   сотрудник     0  135823.934197   \n",
       "8  гражданский брак                 1      F   сотрудник     0   95856.832424   \n",
       "9   женат / замужем                 0      M   сотрудник     0  144425.938277   \n",
       "\n",
       "                      purpose  \n",
       "0               покупка жилья  \n",
       "1     приобретение автомобиля  \n",
       "2               покупка жилья  \n",
       "3  дополнительное образование  \n",
       "4             сыграть свадьбу  \n",
       "5               покупка жилья  \n",
       "6           операции с жильем  \n",
       "7                 образование  \n",
       "8       на проведение свадьбы  \n",
       "9     покупка жилья для семьи  "
      ]
     },
     "metadata": {},
     "output_type": "display_data"
    }
   ],
   "source": [
    "#посмотрим первые 10 значений датасета\n",
    "display(data.head(10))"
   ]
  },
  {
   "cell_type": "code",
   "execution_count": 3,
   "metadata": {},
   "outputs": [
    {
     "data": {
      "text/plain": [
       " 0     14149\n",
       " 1      4818\n",
       " 2      2055\n",
       " 3       330\n",
       " 20       76\n",
       "-1        47\n",
       " 4        41\n",
       " 5         9\n",
       "Name: children, dtype: int64"
      ]
     },
     "execution_count": 3,
     "metadata": {},
     "output_type": "execute_result"
    }
   ],
   "source": [
    "#так как столбец 'children' потребуется нам для вывода, посмотрим категории, перечисленные в данном столбце\n",
    "data['children'].value_counts()"
   ]
  },
  {
   "cell_type": "markdown",
   "metadata": {},
   "source": [
    "В столбце 'children' есть 76 клиентов с 20 детьми, что маловероятно и, скорее всего, является ошибкой ввода, а также 47 клиентов с минусовым количеством детей, что тоже является ошибкой."
   ]
  },
  {
   "cell_type": "code",
   "execution_count": 4,
   "metadata": {},
   "outputs": [
    {
     "data": {
      "text/plain": [
       "женат / замужем          12380\n",
       "гражданский брак          4177\n",
       "Не женат / не замужем     2813\n",
       "в разводе                 1195\n",
       "вдовец / вдова             960\n",
       "Name: family_status, dtype: int64"
      ]
     },
     "execution_count": 4,
     "metadata": {},
     "output_type": "execute_result"
    }
   ],
   "source": [
    "#также посчитаем категории в столбце 'family_status'\n",
    "data['family_status'].value_counts()"
   ]
  },
  {
   "cell_type": "markdown",
   "metadata": {},
   "source": [
    "В этом столбце есть значения, записанные в разном регистре и их нужно привести к одному регистру."
   ]
  },
  {
   "cell_type": "markdown",
   "metadata": {},
   "source": [
    "**Вывод**"
   ]
  },
  {
   "cell_type": "markdown",
   "metadata": {},
   "source": [
    "1) Наименования столбцов в датасете правильные, переименовывать их не нужно.\n",
    "\n",
    "2) В столбцах есть значения со знаком \"минус\", чего не может быть и значит эти значения нужно перевести в значения без минуса. \n",
    "\n",
    "3) В столбцах с образованием и семейным положением есть значения, записанные в разных регистрах и все их нужно привести к нижнему регистру.\n",
    "\n",
    "4) Пропуски есть только в столбцах с трудовым стажем в днях и в ежемесячном доходе. Так как цели исследования разобраться, влияет ли семейное положение и количество детей клиента на факт погашения кредита в срок, а также есть ли зависимость между уровнем дохода и возвратом кредита в срок, то пропущенные значения в столбце с трудовым стажем не окажут влияния на результаты исследования и их можно заменить нулями, а вот уровень дохода нужно будет заполнить медианными значениями в зависимости от типа занятости клиента."
   ]
  },
  {
   "cell_type": "markdown",
   "metadata": {},
   "source": [
    "## Шаг 2. Предобработка данных"
   ]
  },
  {
   "cell_type": "markdown",
   "metadata": {},
   "source": [
    "### Обработка пропусков"
   ]
  },
  {
   "cell_type": "code",
   "execution_count": 5,
   "metadata": {
    "scrolled": true
   },
   "outputs": [
    {
     "data": {
      "text/plain": [
       "children               0\n",
       "days_employed       2174\n",
       "dob_years              0\n",
       "education              0\n",
       "education_id           0\n",
       "family_status          0\n",
       "family_status_id       0\n",
       "gender                 0\n",
       "income_type            0\n",
       "debt                   0\n",
       "total_income        2174\n",
       "purpose                0\n",
       "dtype: int64"
      ]
     },
     "metadata": {},
     "output_type": "display_data"
    }
   ],
   "source": [
    "#посмотрим на количество пропусков в датасете.\n",
    "display(data.isna().sum())"
   ]
  },
  {
   "cell_type": "markdown",
   "metadata": {},
   "source": [
    "Из информации о файле мы видим, что пропущено более 10 % значений и потеря этих данных может сильно сказаться на результатах исследования, которое направлено в первую очередь на соотношение семейного положения и количества детей клиента на факт погашения кредита в срок."
   ]
  },
  {
   "cell_type": "code",
   "execution_count": 6,
   "metadata": {},
   "outputs": [
    {
     "data": {
      "text/html": [
       "<div>\n",
       "<style scoped>\n",
       "    .dataframe tbody tr th:only-of-type {\n",
       "        vertical-align: middle;\n",
       "    }\n",
       "\n",
       "    .dataframe tbody tr th {\n",
       "        vertical-align: top;\n",
       "    }\n",
       "\n",
       "    .dataframe thead th {\n",
       "        text-align: right;\n",
       "    }\n",
       "</style>\n",
       "<table border=\"1\" class=\"dataframe\">\n",
       "  <thead>\n",
       "    <tr style=\"text-align: right;\">\n",
       "      <th></th>\n",
       "      <th>children</th>\n",
       "      <th>days_employed</th>\n",
       "      <th>dob_years</th>\n",
       "      <th>education</th>\n",
       "      <th>education_id</th>\n",
       "      <th>family_status</th>\n",
       "      <th>family_status_id</th>\n",
       "      <th>gender</th>\n",
       "      <th>income_type</th>\n",
       "      <th>debt</th>\n",
       "      <th>total_income</th>\n",
       "      <th>purpose</th>\n",
       "    </tr>\n",
       "  </thead>\n",
       "  <tbody>\n",
       "    <tr>\n",
       "      <td>12</td>\n",
       "      <td>0</td>\n",
       "      <td>NaN</td>\n",
       "      <td>65</td>\n",
       "      <td>среднее</td>\n",
       "      <td>1</td>\n",
       "      <td>гражданский брак</td>\n",
       "      <td>1</td>\n",
       "      <td>M</td>\n",
       "      <td>пенсионер</td>\n",
       "      <td>0</td>\n",
       "      <td>NaN</td>\n",
       "      <td>сыграть свадьбу</td>\n",
       "    </tr>\n",
       "    <tr>\n",
       "      <td>26</td>\n",
       "      <td>0</td>\n",
       "      <td>NaN</td>\n",
       "      <td>41</td>\n",
       "      <td>среднее</td>\n",
       "      <td>1</td>\n",
       "      <td>женат / замужем</td>\n",
       "      <td>0</td>\n",
       "      <td>M</td>\n",
       "      <td>госслужащий</td>\n",
       "      <td>0</td>\n",
       "      <td>NaN</td>\n",
       "      <td>образование</td>\n",
       "    </tr>\n",
       "    <tr>\n",
       "      <td>29</td>\n",
       "      <td>0</td>\n",
       "      <td>NaN</td>\n",
       "      <td>63</td>\n",
       "      <td>среднее</td>\n",
       "      <td>1</td>\n",
       "      <td>Не женат / не замужем</td>\n",
       "      <td>4</td>\n",
       "      <td>F</td>\n",
       "      <td>пенсионер</td>\n",
       "      <td>0</td>\n",
       "      <td>NaN</td>\n",
       "      <td>строительство жилой недвижимости</td>\n",
       "    </tr>\n",
       "    <tr>\n",
       "      <td>41</td>\n",
       "      <td>0</td>\n",
       "      <td>NaN</td>\n",
       "      <td>50</td>\n",
       "      <td>среднее</td>\n",
       "      <td>1</td>\n",
       "      <td>женат / замужем</td>\n",
       "      <td>0</td>\n",
       "      <td>F</td>\n",
       "      <td>госслужащий</td>\n",
       "      <td>0</td>\n",
       "      <td>NaN</td>\n",
       "      <td>сделка с подержанным автомобилем</td>\n",
       "    </tr>\n",
       "    <tr>\n",
       "      <td>55</td>\n",
       "      <td>0</td>\n",
       "      <td>NaN</td>\n",
       "      <td>54</td>\n",
       "      <td>среднее</td>\n",
       "      <td>1</td>\n",
       "      <td>гражданский брак</td>\n",
       "      <td>1</td>\n",
       "      <td>F</td>\n",
       "      <td>пенсионер</td>\n",
       "      <td>1</td>\n",
       "      <td>NaN</td>\n",
       "      <td>сыграть свадьбу</td>\n",
       "    </tr>\n",
       "  </tbody>\n",
       "</table>\n",
       "</div>"
      ],
      "text/plain": [
       "    children  days_employed  dob_years education  education_id  \\\n",
       "12         0            NaN         65   среднее             1   \n",
       "26         0            NaN         41   среднее             1   \n",
       "29         0            NaN         63   среднее             1   \n",
       "41         0            NaN         50   среднее             1   \n",
       "55         0            NaN         54   среднее             1   \n",
       "\n",
       "            family_status  family_status_id gender  income_type  debt  \\\n",
       "12       гражданский брак                 1      M    пенсионер     0   \n",
       "26        женат / замужем                 0      M  госслужащий     0   \n",
       "29  Не женат / не замужем                 4      F    пенсионер     0   \n",
       "41        женат / замужем                 0      F  госслужащий     0   \n",
       "55       гражданский брак                 1      F    пенсионер     1   \n",
       "\n",
       "    total_income                           purpose  \n",
       "12           NaN                   сыграть свадьбу  \n",
       "26           NaN                       образование  \n",
       "29           NaN  строительство жилой недвижимости  \n",
       "41           NaN  сделка с подержанным автомобилем  \n",
       "55           NaN                   сыграть свадьбу  "
      ]
     },
     "metadata": {},
     "output_type": "display_data"
    }
   ],
   "source": [
    "#посмотрим первые 5 пропущенных значений\n",
    "display(data[data['days_employed'].isna()].head())"
   ]
  },
  {
   "cell_type": "markdown",
   "metadata": {},
   "source": [
    "Пропущены значения в двух разных столбцах в одних и тех же строках и вероятнее всего, это не техническая ошибка, а информация не была внесена сотрудниками банка, либо некорректно выгружена."
   ]
  },
  {
   "cell_type": "code",
   "execution_count": 7,
   "metadata": {},
   "outputs": [],
   "source": [
    "#заменим информацию о доходе медианными значениями в зависимости от типа занятости, так как нулевые значения испортят статистику\n",
    "data['total_income'] = data['total_income'].fillna(data.groupby('income_type')['total_income'].transform('median'))"
   ]
  },
  {
   "cell_type": "code",
   "execution_count": 8,
   "metadata": {},
   "outputs": [],
   "source": [
    "#заменим данные о количестве дней работы нулями, т.к. этот столбец нам не требуется для анализа\n",
    "data['days_employed'] = data['days_employed'].fillna(0)"
   ]
  },
  {
   "cell_type": "code",
   "execution_count": 9,
   "metadata": {},
   "outputs": [
    {
     "data": {
      "text/plain": [
       "children            0\n",
       "days_employed       0\n",
       "dob_years           0\n",
       "education           0\n",
       "education_id        0\n",
       "family_status       0\n",
       "family_status_id    0\n",
       "gender              0\n",
       "income_type         0\n",
       "debt                0\n",
       "total_income        0\n",
       "purpose             0\n",
       "dtype: int64"
      ]
     },
     "metadata": {},
     "output_type": "display_data"
    }
   ],
   "source": [
    "#проверим датасет на пропуски\n",
    "display(data.isna().sum())"
   ]
  },
  {
   "cell_type": "markdown",
   "metadata": {},
   "source": [
    "**Вывод**"
   ]
  },
  {
   "cell_type": "markdown",
   "metadata": {},
   "source": [
    "Пропуски в обеих колонках заполнены."
   ]
  },
  {
   "cell_type": "markdown",
   "metadata": {},
   "source": [
    "### Замена типа данных"
   ]
  },
  {
   "cell_type": "markdown",
   "metadata": {},
   "source": [
    "Здесь мы приведем данные в столбцах 'education' и 'family_status' к нижнему регистру, заменим дробные числа float64 на целочисленные int64 в столбцах 'days_employed' и 'total_income', а также заменим в столбце 'children' отрицательные значения на положительные."
   ]
  },
  {
   "cell_type": "code",
   "execution_count": 10,
   "metadata": {},
   "outputs": [],
   "source": [
    "#приведем все данные к нижнему регистру\n",
    "data['education']=data['education'].str.lower()\n",
    "data['family_status']=data['family_status'].str.lower()"
   ]
  },
  {
   "cell_type": "code",
   "execution_count": 11,
   "metadata": {},
   "outputs": [
    {
     "data": {
      "text/plain": [
       "среднее                15233\n",
       "высшее                  5260\n",
       "неоконченное высшее      744\n",
       "начальное                282\n",
       "ученая степень             6\n",
       "Name: education, dtype: int64"
      ]
     },
     "execution_count": 11,
     "metadata": {},
     "output_type": "execute_result"
    }
   ],
   "source": [
    "#проверим, что изменение произошло\n",
    "data['education'].value_counts()"
   ]
  },
  {
   "cell_type": "code",
   "execution_count": 12,
   "metadata": {},
   "outputs": [
    {
     "data": {
      "text/plain": [
       "женат / замужем          12380\n",
       "гражданский брак          4177\n",
       "не женат / не замужем     2813\n",
       "в разводе                 1195\n",
       "вдовец / вдова             960\n",
       "Name: family_status, dtype: int64"
      ]
     },
     "execution_count": 12,
     "metadata": {},
     "output_type": "execute_result"
    }
   ],
   "source": [
    "data['family_status'].value_counts()"
   ]
  },
  {
   "cell_type": "code",
   "execution_count": 13,
   "metadata": {},
   "outputs": [],
   "source": [
    "#переведем количество дней работы в целое число, т.к. дни работы могут быть только целыми числами\n",
    "#столбцы с доходом тоже переведем в целые числа для удобства, копейки в исследовании большой роли не сыграют\n",
    "#для замены используем метод astype()\n",
    "data['days_employed']=data['days_employed'].astype('int')\n",
    "data['total_income']=data['total_income'].astype('int')"
   ]
  },
  {
   "cell_type": "code",
   "execution_count": 14,
   "metadata": {},
   "outputs": [
    {
     "name": "stdout",
     "output_type": "stream",
     "text": [
      "<class 'pandas.core.frame.DataFrame'>\n",
      "RangeIndex: 21525 entries, 0 to 21524\n",
      "Data columns (total 12 columns):\n",
      "children            21525 non-null int64\n",
      "days_employed       21525 non-null int64\n",
      "dob_years           21525 non-null int64\n",
      "education           21525 non-null object\n",
      "education_id        21525 non-null int64\n",
      "family_status       21525 non-null object\n",
      "family_status_id    21525 non-null int64\n",
      "gender              21525 non-null object\n",
      "income_type         21525 non-null object\n",
      "debt                21525 non-null int64\n",
      "total_income        21525 non-null int64\n",
      "purpose             21525 non-null object\n",
      "dtypes: int64(7), object(5)\n",
      "memory usage: 2.0+ MB\n"
     ]
    }
   ],
   "source": [
    "#проверим, что преобразование прошло успешно\n",
    "data.info()"
   ]
  },
  {
   "cell_type": "code",
   "execution_count": 15,
   "metadata": {},
   "outputs": [],
   "source": [
    "#произведем замену количества дней работы с отрицательного на положительное\n",
    "data['days_employed']=abs(data['days_employed'])"
   ]
  },
  {
   "cell_type": "code",
   "execution_count": 16,
   "metadata": {},
   "outputs": [],
   "source": [
    "#в столбце с количеством детей уберем значение 20, т.к. оно выглядит аномальным и заменим на медиану\n",
    "data.loc[data['children'] == 20, ['children']] = data['children'].median()"
   ]
  },
  {
   "cell_type": "code",
   "execution_count": 17,
   "metadata": {
    "scrolled": true
   },
   "outputs": [
    {
     "data": {
      "text/plain": [
       "0    14225\n",
       "1     4865\n",
       "2     2055\n",
       "3      330\n",
       "4       41\n",
       "5        9\n",
       "Name: children, dtype: int64"
      ]
     },
     "execution_count": 17,
     "metadata": {},
     "output_type": "execute_result"
    }
   ],
   "source": [
    "# произведем замену количества детей с отрицательного на положительное\n",
    "data['children'] = abs(data['children']).astype('int')\n",
    "\n",
    "#и сразу проверим\n",
    "data['children'].value_counts()"
   ]
  },
  {
   "cell_type": "code",
   "execution_count": 18,
   "metadata": {},
   "outputs": [
    {
     "data": {
      "text/html": [
       "<div>\n",
       "<style scoped>\n",
       "    .dataframe tbody tr th:only-of-type {\n",
       "        vertical-align: middle;\n",
       "    }\n",
       "\n",
       "    .dataframe tbody tr th {\n",
       "        vertical-align: top;\n",
       "    }\n",
       "\n",
       "    .dataframe thead th {\n",
       "        text-align: right;\n",
       "    }\n",
       "</style>\n",
       "<table border=\"1\" class=\"dataframe\">\n",
       "  <thead>\n",
       "    <tr style=\"text-align: right;\">\n",
       "      <th></th>\n",
       "      <th>children</th>\n",
       "      <th>days_employed</th>\n",
       "      <th>dob_years</th>\n",
       "      <th>education</th>\n",
       "      <th>education_id</th>\n",
       "      <th>family_status</th>\n",
       "      <th>family_status_id</th>\n",
       "      <th>gender</th>\n",
       "      <th>income_type</th>\n",
       "      <th>debt</th>\n",
       "      <th>total_income</th>\n",
       "      <th>purpose</th>\n",
       "    </tr>\n",
       "  </thead>\n",
       "  <tbody>\n",
       "    <tr>\n",
       "      <td>0</td>\n",
       "      <td>1</td>\n",
       "      <td>8437</td>\n",
       "      <td>42</td>\n",
       "      <td>высшее</td>\n",
       "      <td>0</td>\n",
       "      <td>женат / замужем</td>\n",
       "      <td>0</td>\n",
       "      <td>F</td>\n",
       "      <td>сотрудник</td>\n",
       "      <td>0</td>\n",
       "      <td>253875</td>\n",
       "      <td>покупка жилья</td>\n",
       "    </tr>\n",
       "    <tr>\n",
       "      <td>1</td>\n",
       "      <td>1</td>\n",
       "      <td>4024</td>\n",
       "      <td>36</td>\n",
       "      <td>среднее</td>\n",
       "      <td>1</td>\n",
       "      <td>женат / замужем</td>\n",
       "      <td>0</td>\n",
       "      <td>F</td>\n",
       "      <td>сотрудник</td>\n",
       "      <td>0</td>\n",
       "      <td>112080</td>\n",
       "      <td>приобретение автомобиля</td>\n",
       "    </tr>\n",
       "    <tr>\n",
       "      <td>2</td>\n",
       "      <td>0</td>\n",
       "      <td>5623</td>\n",
       "      <td>33</td>\n",
       "      <td>среднее</td>\n",
       "      <td>1</td>\n",
       "      <td>женат / замужем</td>\n",
       "      <td>0</td>\n",
       "      <td>M</td>\n",
       "      <td>сотрудник</td>\n",
       "      <td>0</td>\n",
       "      <td>145885</td>\n",
       "      <td>покупка жилья</td>\n",
       "    </tr>\n",
       "    <tr>\n",
       "      <td>3</td>\n",
       "      <td>3</td>\n",
       "      <td>4124</td>\n",
       "      <td>32</td>\n",
       "      <td>среднее</td>\n",
       "      <td>1</td>\n",
       "      <td>женат / замужем</td>\n",
       "      <td>0</td>\n",
       "      <td>M</td>\n",
       "      <td>сотрудник</td>\n",
       "      <td>0</td>\n",
       "      <td>267628</td>\n",
       "      <td>дополнительное образование</td>\n",
       "    </tr>\n",
       "    <tr>\n",
       "      <td>4</td>\n",
       "      <td>0</td>\n",
       "      <td>340266</td>\n",
       "      <td>53</td>\n",
       "      <td>среднее</td>\n",
       "      <td>1</td>\n",
       "      <td>гражданский брак</td>\n",
       "      <td>1</td>\n",
       "      <td>F</td>\n",
       "      <td>пенсионер</td>\n",
       "      <td>0</td>\n",
       "      <td>158616</td>\n",
       "      <td>сыграть свадьбу</td>\n",
       "    </tr>\n",
       "  </tbody>\n",
       "</table>\n",
       "</div>"
      ],
      "text/plain": [
       "   children  days_employed  dob_years education  education_id  \\\n",
       "0         1           8437         42    высшее             0   \n",
       "1         1           4024         36   среднее             1   \n",
       "2         0           5623         33   среднее             1   \n",
       "3         3           4124         32   среднее             1   \n",
       "4         0         340266         53   среднее             1   \n",
       "\n",
       "      family_status  family_status_id gender income_type  debt  total_income  \\\n",
       "0   женат / замужем                 0      F   сотрудник     0        253875   \n",
       "1   женат / замужем                 0      F   сотрудник     0        112080   \n",
       "2   женат / замужем                 0      M   сотрудник     0        145885   \n",
       "3   женат / замужем                 0      M   сотрудник     0        267628   \n",
       "4  гражданский брак                 1      F   пенсионер     0        158616   \n",
       "\n",
       "                      purpose  \n",
       "0               покупка жилья  \n",
       "1     приобретение автомобиля  \n",
       "2               покупка жилья  \n",
       "3  дополнительное образование  \n",
       "4             сыграть свадьбу  "
      ]
     },
     "execution_count": 18,
     "metadata": {},
     "output_type": "execute_result"
    }
   ],
   "source": [
    "data.head()"
   ]
  },
  {
   "cell_type": "markdown",
   "metadata": {},
   "source": [
    "**Вывод**"
   ]
  },
  {
   "cell_type": "markdown",
   "metadata": {},
   "source": [
    "Все замены прошли успешно."
   ]
  },
  {
   "cell_type": "markdown",
   "metadata": {},
   "source": [
    "### Обработка дубликатов"
   ]
  },
  {
   "cell_type": "code",
   "execution_count": 19,
   "metadata": {},
   "outputs": [
    {
     "name": "stdout",
     "output_type": "stream",
     "text": [
      "Количество дубликатов в датасете: 71\n"
     ]
    }
   ],
   "source": [
    "#проверим количество дубликатов в датасете\n",
    "print ('Количество дубликатов в датасете:', data.duplicated().sum())"
   ]
  },
  {
   "cell_type": "code",
   "execution_count": 20,
   "metadata": {},
   "outputs": [],
   "source": [
    "#удалим дубликаты и обновим индексацию датасета\n",
    "data = data.drop_duplicates().reset_index(drop=True)"
   ]
  },
  {
   "cell_type": "code",
   "execution_count": 21,
   "metadata": {},
   "outputs": [
    {
     "name": "stdout",
     "output_type": "stream",
     "text": [
      "Количество дубликатов в датасете: 0\n"
     ]
    }
   ],
   "source": [
    "#снова проверим количество дубликатов в датасете\n",
    "print ('Количество дубликатов в датасете:', data.duplicated().sum())"
   ]
  },
  {
   "cell_type": "markdown",
   "metadata": {},
   "source": [
    "**Вывод**"
   ]
  },
  {
   "cell_type": "markdown",
   "metadata": {},
   "source": [
    "Дубликаты были удалены. Так как в датасете нет персонализации клиентов (нет id или каких-либо других данных), то нельзя точно сказать, были это дубликаты или совпадения. Но таких строк было всего 71, поэтому их удаление сильно не повлияет на результаты исследования.\n",
    "\n",
    "Возможно дубликаты образовались при повторном вводе информации сотрудниками банка, либо их появление можно связать с ошибками при выгрузке."
   ]
  },
  {
   "cell_type": "markdown",
   "metadata": {},
   "source": [
    "### Лемматизация"
   ]
  },
  {
   "cell_type": "code",
   "execution_count": 22,
   "metadata": {},
   "outputs": [
    {
     "data": {
      "text/plain": [
       "автомобили                                478\n",
       "автомобиль                                494\n",
       "высшее образование                        452\n",
       "дополнительное образование                460\n",
       "жилье                                     646\n",
       "заняться высшим образованием              496\n",
       "заняться образованием                     408\n",
       "на покупку автомобиля                     471\n",
       "на покупку подержанного автомобиля        478\n",
       "на покупку своего автомобиля              505\n",
       "на проведение свадьбы                     768\n",
       "недвижимость                              633\n",
       "образование                               447\n",
       "операции с жильем                         652\n",
       "операции с коммерческой недвижимостью     650\n",
       "операции с недвижимостью                  675\n",
       "операции со своей недвижимостью           627\n",
       "покупка жилой недвижимости                606\n",
       "покупка жилья                             646\n",
       "покупка жилья для сдачи                   651\n",
       "покупка жилья для семьи                   638\n",
       "покупка коммерческой недвижимости         661\n",
       "покупка недвижимости                      621\n",
       "покупка своего жилья                      620\n",
       "получение высшего образования             426\n",
       "получение дополнительного образования     446\n",
       "получение образования                     442\n",
       "приобретение автомобиля                   461\n",
       "профильное образование                    436\n",
       "ремонт жилью                              607\n",
       "свадьба                                   791\n",
       "свой автомобиль                           478\n",
       "сделка с автомобилем                      455\n",
       "сделка с подержанным автомобилем          486\n",
       "строительство жилой недвижимости          624\n",
       "строительство недвижимости                619\n",
       "строительство собственной недвижимости    635\n",
       "сыграть свадьбу                           765\n",
       "Name: purpose, dtype: int64"
      ]
     },
     "execution_count": 22,
     "metadata": {},
     "output_type": "execute_result"
    }
   ],
   "source": [
    "#проверим значения в столбце 'purpose'\n",
    "data['purpose'].value_counts().sort_index()"
   ]
  },
  {
   "cell_type": "markdown",
   "metadata": {},
   "source": [
    "В этом столбце можно классифицировать следующие категории: \"недвижимость\", \"автомобиль\", \"образование\" и \"свадьба\". Также можно добавить раздел \"иные цели\", если что-то не подойдет под одну из вышеуказанных категорий."
   ]
  },
  {
   "cell_type": "code",
   "execution_count": 23,
   "metadata": {},
   "outputs": [],
   "source": [
    "#для лемматизации используем функцию\n",
    "def lemm(purpose):\n",
    "    lemmas = m.lemmatize(purpose)\n",
    "    if 'жилье' in lemmas or 'недвижимость' in lemmas:\n",
    "        return 'недвижимость'\n",
    "    elif 'автомобиль' in lemmas:\n",
    "        return 'автомобиль'\n",
    "    elif 'образование' in lemmas:\n",
    "        return 'образование'\n",
    "    elif 'свадьба' in lemmas:\n",
    "        return 'свадьба'\n",
    "    return 'иные цели'"
   ]
  },
  {
   "cell_type": "code",
   "execution_count": 24,
   "metadata": {},
   "outputs": [],
   "source": [
    "#создадим новыц столбец, применив к столбцу 'purpose' лемматизацию\n",
    "data['purpose_category'] = data['purpose'].apply(lemm)"
   ]
  },
  {
   "cell_type": "code",
   "execution_count": 25,
   "metadata": {},
   "outputs": [
    {
     "data": {
      "text/html": [
       "<div>\n",
       "<style scoped>\n",
       "    .dataframe tbody tr th:only-of-type {\n",
       "        vertical-align: middle;\n",
       "    }\n",
       "\n",
       "    .dataframe tbody tr th {\n",
       "        vertical-align: top;\n",
       "    }\n",
       "\n",
       "    .dataframe thead th {\n",
       "        text-align: right;\n",
       "    }\n",
       "</style>\n",
       "<table border=\"1\" class=\"dataframe\">\n",
       "  <thead>\n",
       "    <tr style=\"text-align: right;\">\n",
       "      <th></th>\n",
       "      <th>children</th>\n",
       "      <th>days_employed</th>\n",
       "      <th>dob_years</th>\n",
       "      <th>education</th>\n",
       "      <th>education_id</th>\n",
       "      <th>family_status</th>\n",
       "      <th>family_status_id</th>\n",
       "      <th>gender</th>\n",
       "      <th>income_type</th>\n",
       "      <th>debt</th>\n",
       "      <th>total_income</th>\n",
       "      <th>purpose</th>\n",
       "      <th>purpose_category</th>\n",
       "    </tr>\n",
       "  </thead>\n",
       "  <tbody>\n",
       "    <tr>\n",
       "      <td>0</td>\n",
       "      <td>1</td>\n",
       "      <td>8437</td>\n",
       "      <td>42</td>\n",
       "      <td>высшее</td>\n",
       "      <td>0</td>\n",
       "      <td>женат / замужем</td>\n",
       "      <td>0</td>\n",
       "      <td>F</td>\n",
       "      <td>сотрудник</td>\n",
       "      <td>0</td>\n",
       "      <td>253875</td>\n",
       "      <td>покупка жилья</td>\n",
       "      <td>недвижимость</td>\n",
       "    </tr>\n",
       "    <tr>\n",
       "      <td>1</td>\n",
       "      <td>1</td>\n",
       "      <td>4024</td>\n",
       "      <td>36</td>\n",
       "      <td>среднее</td>\n",
       "      <td>1</td>\n",
       "      <td>женат / замужем</td>\n",
       "      <td>0</td>\n",
       "      <td>F</td>\n",
       "      <td>сотрудник</td>\n",
       "      <td>0</td>\n",
       "      <td>112080</td>\n",
       "      <td>приобретение автомобиля</td>\n",
       "      <td>автомобиль</td>\n",
       "    </tr>\n",
       "    <tr>\n",
       "      <td>2</td>\n",
       "      <td>0</td>\n",
       "      <td>5623</td>\n",
       "      <td>33</td>\n",
       "      <td>среднее</td>\n",
       "      <td>1</td>\n",
       "      <td>женат / замужем</td>\n",
       "      <td>0</td>\n",
       "      <td>M</td>\n",
       "      <td>сотрудник</td>\n",
       "      <td>0</td>\n",
       "      <td>145885</td>\n",
       "      <td>покупка жилья</td>\n",
       "      <td>недвижимость</td>\n",
       "    </tr>\n",
       "    <tr>\n",
       "      <td>3</td>\n",
       "      <td>3</td>\n",
       "      <td>4124</td>\n",
       "      <td>32</td>\n",
       "      <td>среднее</td>\n",
       "      <td>1</td>\n",
       "      <td>женат / замужем</td>\n",
       "      <td>0</td>\n",
       "      <td>M</td>\n",
       "      <td>сотрудник</td>\n",
       "      <td>0</td>\n",
       "      <td>267628</td>\n",
       "      <td>дополнительное образование</td>\n",
       "      <td>образование</td>\n",
       "    </tr>\n",
       "    <tr>\n",
       "      <td>4</td>\n",
       "      <td>0</td>\n",
       "      <td>340266</td>\n",
       "      <td>53</td>\n",
       "      <td>среднее</td>\n",
       "      <td>1</td>\n",
       "      <td>гражданский брак</td>\n",
       "      <td>1</td>\n",
       "      <td>F</td>\n",
       "      <td>пенсионер</td>\n",
       "      <td>0</td>\n",
       "      <td>158616</td>\n",
       "      <td>сыграть свадьбу</td>\n",
       "      <td>свадьба</td>\n",
       "    </tr>\n",
       "  </tbody>\n",
       "</table>\n",
       "</div>"
      ],
      "text/plain": [
       "   children  days_employed  dob_years education  education_id  \\\n",
       "0         1           8437         42    высшее             0   \n",
       "1         1           4024         36   среднее             1   \n",
       "2         0           5623         33   среднее             1   \n",
       "3         3           4124         32   среднее             1   \n",
       "4         0         340266         53   среднее             1   \n",
       "\n",
       "      family_status  family_status_id gender income_type  debt  total_income  \\\n",
       "0   женат / замужем                 0      F   сотрудник     0        253875   \n",
       "1   женат / замужем                 0      F   сотрудник     0        112080   \n",
       "2   женат / замужем                 0      M   сотрудник     0        145885   \n",
       "3   женат / замужем                 0      M   сотрудник     0        267628   \n",
       "4  гражданский брак                 1      F   пенсионер     0        158616   \n",
       "\n",
       "                      purpose purpose_category  \n",
       "0               покупка жилья     недвижимость  \n",
       "1     приобретение автомобиля       автомобиль  \n",
       "2               покупка жилья     недвижимость  \n",
       "3  дополнительное образование      образование  \n",
       "4             сыграть свадьбу          свадьба  "
      ]
     },
     "metadata": {},
     "output_type": "display_data"
    }
   ],
   "source": [
    "#проверим, что в датасете появился новый столбец\n",
    "display(data.head())"
   ]
  },
  {
   "cell_type": "code",
   "execution_count": 26,
   "metadata": {},
   "outputs": [
    {
     "data": {
      "text/plain": [
       "недвижимость    10811\n",
       "автомобиль       4306\n",
       "образование      4013\n",
       "свадьба          2324\n",
       "Name: purpose_category, dtype: int64"
      ]
     },
     "execution_count": 26,
     "metadata": {},
     "output_type": "execute_result"
    }
   ],
   "source": [
    "#и проверим количество категорий в новом столбце 'purpose_category'\n",
    "data['purpose_category'].value_counts()"
   ]
  },
  {
   "cell_type": "markdown",
   "metadata": {},
   "source": [
    "**Вывод**"
   ]
  },
  {
   "cell_type": "markdown",
   "metadata": {},
   "source": [
    "При помощи лемматизации мы распределили цели кредита на несколько категорий, для удобства их последующих обработки и анализа. "
   ]
  },
  {
   "cell_type": "markdown",
   "metadata": {},
   "source": [
    "### Категоризация данных"
   ]
  },
  {
   "cell_type": "markdown",
   "metadata": {},
   "source": [
    "Так как у нас в задании стоят вопросы о зависимости 4 различных факторов с возвратом кредита в срок, для ответа на этот вопрос нам нужно выделить 5 категорий:\n",
    "\n",
    "1) Наличие детей;\n",
    "\n",
    "2) Семейное положение;\n",
    "\n",
    "3) Уровень дохода;\n",
    "\n",
    "4) Цель кредита;\n",
    "\n",
    "5) Наличие просроченной задолженности по кредиту."
   ]
  },
  {
   "cell_type": "code",
   "execution_count": 27,
   "metadata": {},
   "outputs": [
    {
     "data": {
      "text/plain": [
       "0    19713\n",
       "1     1741\n",
       "Name: debt, dtype: int64"
      ]
     },
     "execution_count": 27,
     "metadata": {},
     "output_type": "execute_result"
    }
   ],
   "source": [
    "#для начала проверим категории в столбце debt, т.к. он является основным для анализа\n",
    "data['debt'].value_counts()"
   ]
  },
  {
   "cell_type": "markdown",
   "metadata": {},
   "source": [
    "В столбце 'debt' всего 2 значения: 0 и 1, которые исходя из логики означают, что 0 - просроченной задолженности нет и 1 - просроченная задолженность есть.\n",
    "Для удобства анализа и восприятия присвоим двум этим значениям категории \"нет задолженности\" и \"просроченная задолженность."
   ]
  },
  {
   "cell_type": "code",
   "execution_count": 28,
   "metadata": {},
   "outputs": [
    {
     "data": {
      "text/plain": [
       "нет задолженности             19713\n",
       "просроченная задолженность     1741\n",
       "Name: debt_category, dtype: int64"
      ]
     },
     "execution_count": 28,
     "metadata": {},
     "output_type": "execute_result"
    }
   ],
   "source": [
    "#напишем функцию для присваивания категорий значениям 0 и 1 и при помощи метода apply создадим новый столбец с категориями\n",
    "def debt_category(debt):\n",
    "    if debt == 0:\n",
    "        return 'нет задолженности'\n",
    "    return 'просроченная задолженность'\n",
    "data['debt_category'] = data['debt'].apply(debt_category)\n",
    "data['debt_category'].value_counts()"
   ]
  },
  {
   "cell_type": "markdown",
   "metadata": {},
   "source": [
    "Следующим пунктом - наличие детей. Так как нас не интересует конкретное количество детей, мы выделим всего 2 категории: \"есть дети\" и \"нет детей\". Для этого тоже создадим функцию и новый столбец с категориями."
   ]
  },
  {
   "cell_type": "code",
   "execution_count": 29,
   "metadata": {},
   "outputs": [
    {
     "data": {
      "text/plain": [
       "нет детей    14167\n",
       "есть дети     7287\n",
       "Name: children_category, dtype: int64"
      ]
     },
     "execution_count": 29,
     "metadata": {},
     "output_type": "execute_result"
    }
   ],
   "source": [
    "def children_category(children):\n",
    "    if children == 0:\n",
    "        return 'нет детей'\n",
    "    return 'есть дети'\n",
    "data['children_category'] = data['children'].apply(children_category)\n",
    "data['children_category'].value_counts()"
   ]
  },
  {
   "cell_type": "markdown",
   "metadata": {},
   "source": [
    "Семейное положение категоризировать не будем, т.к. данный столбец уже изначально содержит в себе всего 5 категорий."
   ]
  },
  {
   "cell_type": "code",
   "execution_count": 30,
   "metadata": {},
   "outputs": [
    {
     "data": {
      "text/plain": [
       "142594.0"
      ]
     },
     "execution_count": 30,
     "metadata": {},
     "output_type": "execute_result"
    }
   ],
   "source": [
    "#прежде чем выделять категории по доходу населения нужно определить его медиану\n",
    "data['total_income'].median()"
   ]
  },
  {
   "cell_type": "markdown",
   "metadata": {},
   "source": [
    "По официальным данным от Росстата, средний доход населения России в 2020 году составил 35 361 рублей в месяц, среднемесячная зарплата — 51 083 рубля, средняя пенсия — 14 986 рублей. Так как у нас в исследовании присутствуют и пенсионеры, плюс не только Москва, а вся Россия, то будем брать за отправную точку среднемесячный доход в размере 35 361 рублей. Поэтому выделю 4 категории, учитывая медианный доход:\n",
    "1) Менее 35 000 рублей - \"низкий доход\";\n",
    "\n",
    "2) От 35 000 до 145 017 - \"средний доход\";\n",
    "\n",
    "3) От 145 017 до 300 000 - \"доход выше среднего\";\n",
    "\n",
    "4) От 300 000 - \"высокий доход\"\n",
    "\n",
    "Как всегда напишем функцию и добавим новый столбец."
   ]
  },
  {
   "cell_type": "code",
   "execution_count": 31,
   "metadata": {},
   "outputs": [
    {
     "data": {
      "text/plain": [
       "средний доход          11062\n",
       "доход выше среднего     8840\n",
       "высокий доход           1483\n",
       "низкий доход              69\n",
       "Name: income_category, dtype: int64"
      ]
     },
     "execution_count": 31,
     "metadata": {},
     "output_type": "execute_result"
    }
   ],
   "source": [
    "def income_category(total_income):\n",
    "    if total_income < 35000:\n",
    "        return 'низкий доход'\n",
    "    elif total_income < 145017:\n",
    "        return 'средний доход'\n",
    "    elif total_income < 300000:\n",
    "        return 'доход выше среднего'\n",
    "    return 'высокий доход'\n",
    "data['income_category'] = data['total_income'].apply(income_category)\n",
    "data['income_category'].value_counts()"
   ]
  },
  {
   "cell_type": "markdown",
   "metadata": {},
   "source": [
    "Категории по цели кредита были выделены при лемматизации данных."
   ]
  },
  {
   "cell_type": "markdown",
   "metadata": {},
   "source": [
    "Для удобства анализа данных создадим отдельную таблицу с созданными категориями и столбцом с семейным положением клиентов из основного датасета."
   ]
  },
  {
   "cell_type": "code",
   "execution_count": 32,
   "metadata": {},
   "outputs": [
    {
     "data": {
      "text/html": [
       "<div>\n",
       "<style scoped>\n",
       "    .dataframe tbody tr th:only-of-type {\n",
       "        vertical-align: middle;\n",
       "    }\n",
       "\n",
       "    .dataframe tbody tr th {\n",
       "        vertical-align: top;\n",
       "    }\n",
       "\n",
       "    .dataframe thead th {\n",
       "        text-align: right;\n",
       "    }\n",
       "</style>\n",
       "<table border=\"1\" class=\"dataframe\">\n",
       "  <thead>\n",
       "    <tr style=\"text-align: right;\">\n",
       "      <th></th>\n",
       "      <th>children_category</th>\n",
       "      <th>family_status</th>\n",
       "      <th>income_category</th>\n",
       "      <th>purpose_category</th>\n",
       "      <th>debt_category</th>\n",
       "    </tr>\n",
       "  </thead>\n",
       "  <tbody>\n",
       "    <tr>\n",
       "      <td>0</td>\n",
       "      <td>есть дети</td>\n",
       "      <td>женат / замужем</td>\n",
       "      <td>доход выше среднего</td>\n",
       "      <td>недвижимость</td>\n",
       "      <td>нет задолженности</td>\n",
       "    </tr>\n",
       "    <tr>\n",
       "      <td>1</td>\n",
       "      <td>есть дети</td>\n",
       "      <td>женат / замужем</td>\n",
       "      <td>средний доход</td>\n",
       "      <td>автомобиль</td>\n",
       "      <td>нет задолженности</td>\n",
       "    </tr>\n",
       "    <tr>\n",
       "      <td>2</td>\n",
       "      <td>нет детей</td>\n",
       "      <td>женат / замужем</td>\n",
       "      <td>доход выше среднего</td>\n",
       "      <td>недвижимость</td>\n",
       "      <td>нет задолженности</td>\n",
       "    </tr>\n",
       "    <tr>\n",
       "      <td>3</td>\n",
       "      <td>есть дети</td>\n",
       "      <td>женат / замужем</td>\n",
       "      <td>доход выше среднего</td>\n",
       "      <td>образование</td>\n",
       "      <td>нет задолженности</td>\n",
       "    </tr>\n",
       "    <tr>\n",
       "      <td>4</td>\n",
       "      <td>нет детей</td>\n",
       "      <td>гражданский брак</td>\n",
       "      <td>доход выше среднего</td>\n",
       "      <td>свадьба</td>\n",
       "      <td>нет задолженности</td>\n",
       "    </tr>\n",
       "  </tbody>\n",
       "</table>\n",
       "</div>"
      ],
      "text/plain": [
       "  children_category     family_status      income_category purpose_category  \\\n",
       "0         есть дети   женат / замужем  доход выше среднего     недвижимость   \n",
       "1         есть дети   женат / замужем        средний доход       автомобиль   \n",
       "2         нет детей   женат / замужем  доход выше среднего     недвижимость   \n",
       "3         есть дети   женат / замужем  доход выше среднего      образование   \n",
       "4         нет детей  гражданский брак  доход выше среднего          свадьба   \n",
       "\n",
       "       debt_category  \n",
       "0  нет задолженности  \n",
       "1  нет задолженности  \n",
       "2  нет задолженности  \n",
       "3  нет задолженности  \n",
       "4  нет задолженности  "
      ]
     },
     "execution_count": 32,
     "metadata": {},
     "output_type": "execute_result"
    }
   ],
   "source": [
    "analysis = data[['children_category', 'family_status', 'income_category', 'purpose_category', 'debt_category']]\n",
    "analysis.head()"
   ]
  },
  {
   "cell_type": "markdown",
   "metadata": {},
   "source": [
    "**Вывод**"
   ]
  },
  {
   "cell_type": "markdown",
   "metadata": {},
   "source": [
    "На этом шаге были выделены категории, необходимые для ответа на поставленные вопросы и добавлены в новую таблицу для удобства анализа."
   ]
  },
  {
   "cell_type": "markdown",
   "metadata": {},
   "source": [
    "## Шаг 3. Ответьте на вопросы"
   ]
  },
  {
   "cell_type": "markdown",
   "metadata": {},
   "source": [
    "Для ответов на поставленные вопросы мы будем использовать метод сводных таблиц pivot_table()"
   ]
  },
  {
   "cell_type": "markdown",
   "metadata": {},
   "source": [
    "- Есть ли зависимость между наличием детей и возвратом кредита в срок?"
   ]
  },
  {
   "cell_type": "code",
   "execution_count": 33,
   "metadata": {},
   "outputs": [
    {
     "data": {
      "text/html": [
       "<div>\n",
       "<style scoped>\n",
       "    .dataframe tbody tr th:only-of-type {\n",
       "        vertical-align: middle;\n",
       "    }\n",
       "\n",
       "    .dataframe tbody tr th {\n",
       "        vertical-align: top;\n",
       "    }\n",
       "\n",
       "    .dataframe thead th {\n",
       "        text-align: right;\n",
       "    }\n",
       "</style>\n",
       "<table border=\"1\" class=\"dataframe\">\n",
       "  <thead>\n",
       "    <tr style=\"text-align: right;\">\n",
       "      <th>debt_category</th>\n",
       "      <th>нет задолженности</th>\n",
       "      <th>просроченная задолженность</th>\n",
       "      <th>ratio</th>\n",
       "    </tr>\n",
       "    <tr>\n",
       "      <th>children_category</th>\n",
       "      <th></th>\n",
       "      <th></th>\n",
       "      <th></th>\n",
       "    </tr>\n",
       "  </thead>\n",
       "  <tbody>\n",
       "    <tr>\n",
       "      <td>есть дети</td>\n",
       "      <td>6617</td>\n",
       "      <td>670</td>\n",
       "      <td>10.125434</td>\n",
       "    </tr>\n",
       "    <tr>\n",
       "      <td>нет детей</td>\n",
       "      <td>13096</td>\n",
       "      <td>1071</td>\n",
       "      <td>8.178070</td>\n",
       "    </tr>\n",
       "  </tbody>\n",
       "</table>\n",
       "</div>"
      ],
      "text/plain": [
       "debt_category      нет задолженности  просроченная задолженность      ratio\n",
       "children_category                                                          \n",
       "есть дети                       6617                         670  10.125434\n",
       "нет детей                      13096                        1071   8.178070"
      ]
     },
     "metadata": {},
     "output_type": "display_data"
    }
   ],
   "source": [
    "#создаем сводную таблицу с подсчетом просроченной задолженности для категорий с детьми и без\n",
    "children_pivot = analysis.pivot_table(index='children_category', columns='debt_category', values='family_status', aggfunc='count')\n",
    "\n",
    "#добавим в таблицу children_pivot стоблец с процентным соотношением задолженности для большей наглядности\n",
    "children_pivot['ratio'] = (children_pivot['просроченная задолженность']/children_pivot['нет задолженности'])*100\n",
    "\n",
    "display(children_pivot)"
   ]
  },
  {
   "cell_type": "markdown",
   "metadata": {},
   "source": [
    "**Вывод**"
   ]
  },
  {
   "cell_type": "markdown",
   "metadata": {},
   "source": [
    "Как мы видим из получившихся данных у заемщиков с детьми процент просрочки по кредитам выше аж на 2 % по сравнению с заемщиками без детьми, что можно связать с повышенной финансовой нагрузкой и обязательствами заемщиков с детьми."
   ]
  },
  {
   "cell_type": "markdown",
   "metadata": {},
   "source": [
    "- Есть ли зависимость между семейным положением и возвратом кредита в срок?"
   ]
  },
  {
   "cell_type": "code",
   "execution_count": 34,
   "metadata": {},
   "outputs": [
    {
     "data": {
      "text/html": [
       "<div>\n",
       "<style scoped>\n",
       "    .dataframe tbody tr th:only-of-type {\n",
       "        vertical-align: middle;\n",
       "    }\n",
       "\n",
       "    .dataframe tbody tr th {\n",
       "        vertical-align: top;\n",
       "    }\n",
       "\n",
       "    .dataframe thead th {\n",
       "        text-align: right;\n",
       "    }\n",
       "</style>\n",
       "<table border=\"1\" class=\"dataframe\">\n",
       "  <thead>\n",
       "    <tr style=\"text-align: right;\">\n",
       "      <th>debt_category</th>\n",
       "      <th>нет задолженности</th>\n",
       "      <th>просроченная задолженность</th>\n",
       "      <th>ratio</th>\n",
       "    </tr>\n",
       "    <tr>\n",
       "      <th>family_status</th>\n",
       "      <th></th>\n",
       "      <th></th>\n",
       "      <th></th>\n",
       "    </tr>\n",
       "  </thead>\n",
       "  <tbody>\n",
       "    <tr>\n",
       "      <td>вдовец / вдова</td>\n",
       "      <td>896</td>\n",
       "      <td>63</td>\n",
       "      <td>7.031250</td>\n",
       "    </tr>\n",
       "    <tr>\n",
       "      <td>в разводе</td>\n",
       "      <td>1110</td>\n",
       "      <td>85</td>\n",
       "      <td>7.657658</td>\n",
       "    </tr>\n",
       "    <tr>\n",
       "      <td>женат / замужем</td>\n",
       "      <td>11408</td>\n",
       "      <td>931</td>\n",
       "      <td>8.160940</td>\n",
       "    </tr>\n",
       "    <tr>\n",
       "      <td>гражданский брак</td>\n",
       "      <td>3763</td>\n",
       "      <td>388</td>\n",
       "      <td>10.310922</td>\n",
       "    </tr>\n",
       "    <tr>\n",
       "      <td>не женат / не замужем</td>\n",
       "      <td>2536</td>\n",
       "      <td>274</td>\n",
       "      <td>10.804416</td>\n",
       "    </tr>\n",
       "  </tbody>\n",
       "</table>\n",
       "</div>"
      ],
      "text/plain": [
       "debt_category          нет задолженности  просроченная задолженность  \\\n",
       "family_status                                                          \n",
       "вдовец / вдова                       896                          63   \n",
       "в разводе                           1110                          85   \n",
       "женат / замужем                    11408                         931   \n",
       "гражданский брак                    3763                         388   \n",
       "не женат / не замужем               2536                         274   \n",
       "\n",
       "debt_category              ratio  \n",
       "family_status                     \n",
       "вдовец / вдова          7.031250  \n",
       "в разводе               7.657658  \n",
       "женат / замужем         8.160940  \n",
       "гражданский брак       10.310922  \n",
       "не женат / не замужем  10.804416  "
      ]
     },
     "metadata": {},
     "output_type": "display_data"
    }
   ],
   "source": [
    "#теперь сделаем все то же самое для семейного положения\n",
    "family_pivot = analysis.pivot_table(index='family_status', columns='debt_category', values='children_category', aggfunc='count')\n",
    "family_pivot['ratio'] = (family_pivot['просроченная задолженность']/family_pivot['нет задолженности'])*100\n",
    "display(family_pivot.sort_values('ratio'))"
   ]
  },
  {
   "cell_type": "markdown",
   "metadata": {},
   "source": [
    "**Вывод**"
   ]
  },
  {
   "cell_type": "markdown",
   "metadata": {},
   "source": [
    "Как мы видим из таблицы, люди, состоящие или ранее состоявшие в браке реже допускают просрочки, что можно связать с тем, что в семье несколько источников дохода, а также это, скорее всего, более взрослые и зрелые заемщики по сравнению с теми, кто никогда не состоял в браке или состоит в гражданском браке и поэтому они наиболее ответственно подходят к своим финансовым обязательствам.\n",
    "\n",
    "Также из результатов данной таблицы можно сделать вывод, что разница в процентном соотношении между категориями \"не женат / не замужем\" и \"гражданский брак\" очень мала и они допускают больше всего просрочки."
   ]
  },
  {
   "cell_type": "markdown",
   "metadata": {},
   "source": [
    "- Есть ли зависимость между уровнем дохода и возвратом кредита в срок?"
   ]
  },
  {
   "cell_type": "code",
   "execution_count": 35,
   "metadata": {},
   "outputs": [
    {
     "data": {
      "text/html": [
       "<div>\n",
       "<style scoped>\n",
       "    .dataframe tbody tr th:only-of-type {\n",
       "        vertical-align: middle;\n",
       "    }\n",
       "\n",
       "    .dataframe tbody tr th {\n",
       "        vertical-align: top;\n",
       "    }\n",
       "\n",
       "    .dataframe thead th {\n",
       "        text-align: right;\n",
       "    }\n",
       "</style>\n",
       "<table border=\"1\" class=\"dataframe\">\n",
       "  <thead>\n",
       "    <tr style=\"text-align: right;\">\n",
       "      <th>debt_category</th>\n",
       "      <th>нет задолженности</th>\n",
       "      <th>просроченная задолженность</th>\n",
       "      <th>ratio</th>\n",
       "    </tr>\n",
       "    <tr>\n",
       "      <th>income_category</th>\n",
       "      <th></th>\n",
       "      <th></th>\n",
       "      <th></th>\n",
       "    </tr>\n",
       "  </thead>\n",
       "  <tbody>\n",
       "    <tr>\n",
       "      <td>низкий доход</td>\n",
       "      <td>66</td>\n",
       "      <td>3</td>\n",
       "      <td>4.545455</td>\n",
       "    </tr>\n",
       "    <tr>\n",
       "      <td>высокий доход</td>\n",
       "      <td>1377</td>\n",
       "      <td>106</td>\n",
       "      <td>7.697894</td>\n",
       "    </tr>\n",
       "    <tr>\n",
       "      <td>доход выше среднего</td>\n",
       "      <td>8142</td>\n",
       "      <td>698</td>\n",
       "      <td>8.572832</td>\n",
       "    </tr>\n",
       "    <tr>\n",
       "      <td>средний доход</td>\n",
       "      <td>10128</td>\n",
       "      <td>934</td>\n",
       "      <td>9.221959</td>\n",
       "    </tr>\n",
       "  </tbody>\n",
       "</table>\n",
       "</div>"
      ],
      "text/plain": [
       "debt_category        нет задолженности  просроченная задолженность     ratio\n",
       "income_category                                                             \n",
       "низкий доход                        66                           3  4.545455\n",
       "высокий доход                     1377                         106  7.697894\n",
       "доход выше среднего               8142                         698  8.572832\n",
       "средний доход                    10128                         934  9.221959"
      ]
     },
     "metadata": {},
     "output_type": "display_data"
    }
   ],
   "source": [
    "income_pivot = analysis.pivot_table(index='income_category', columns='debt_category', values='family_status', aggfunc='count')\n",
    "income_pivot['ratio'] = (income_pivot['просроченная задолженность']/income_pivot['нет задолженности'])*100\n",
    "display(income_pivot.sort_values('ratio'))"
   ]
  },
  {
   "cell_type": "markdown",
   "metadata": {},
   "source": [
    "**Вывод**"
   ]
  },
  {
   "cell_type": "markdown",
   "metadata": {},
   "source": [
    "Исходя из этих данных можно предположить, что просроченная задолженность возникает в основном у людей со средним доходом. \n",
    "У людей с низким доходом в данной таблице очень низкий процент просрочек, но это можно связать с малочисленностью данной категории заемщиков в текущем исследовании. Плюс в данную категорию попали в основном пенсионеры, а они очень ответственно относятся к своим обязательствам и стараются не допускать просрочек.\n",
    "\n",
    "Можно сделать вывод, что у людей с высоким доходом бывает меньше всего просрочек по кредитам, если убрать статистическую погрешность данного исследования по людям с низким доходом."
   ]
  },
  {
   "cell_type": "markdown",
   "metadata": {},
   "source": [
    "- Как разные цели кредита влияют на его возврат в срок?"
   ]
  },
  {
   "cell_type": "code",
   "execution_count": 36,
   "metadata": {},
   "outputs": [
    {
     "data": {
      "text/html": [
       "<div>\n",
       "<style scoped>\n",
       "    .dataframe tbody tr th:only-of-type {\n",
       "        vertical-align: middle;\n",
       "    }\n",
       "\n",
       "    .dataframe tbody tr th {\n",
       "        vertical-align: top;\n",
       "    }\n",
       "\n",
       "    .dataframe thead th {\n",
       "        text-align: right;\n",
       "    }\n",
       "</style>\n",
       "<table border=\"1\" class=\"dataframe\">\n",
       "  <thead>\n",
       "    <tr style=\"text-align: right;\">\n",
       "      <th>debt_category</th>\n",
       "      <th>нет задолженности</th>\n",
       "      <th>просроченная задолженность</th>\n",
       "      <th>ratio</th>\n",
       "    </tr>\n",
       "    <tr>\n",
       "      <th>purpose_category</th>\n",
       "      <th></th>\n",
       "      <th></th>\n",
       "      <th></th>\n",
       "    </tr>\n",
       "  </thead>\n",
       "  <tbody>\n",
       "    <tr>\n",
       "      <td>недвижимость</td>\n",
       "      <td>10029</td>\n",
       "      <td>782</td>\n",
       "      <td>7.797388</td>\n",
       "    </tr>\n",
       "    <tr>\n",
       "      <td>свадьба</td>\n",
       "      <td>2138</td>\n",
       "      <td>186</td>\n",
       "      <td>8.699719</td>\n",
       "    </tr>\n",
       "    <tr>\n",
       "      <td>образование</td>\n",
       "      <td>3643</td>\n",
       "      <td>370</td>\n",
       "      <td>10.156464</td>\n",
       "    </tr>\n",
       "    <tr>\n",
       "      <td>автомобиль</td>\n",
       "      <td>3903</td>\n",
       "      <td>403</td>\n",
       "      <td>10.325391</td>\n",
       "    </tr>\n",
       "  </tbody>\n",
       "</table>\n",
       "</div>"
      ],
      "text/plain": [
       "debt_category     нет задолженности  просроченная задолженность      ratio\n",
       "purpose_category                                                          \n",
       "недвижимость                  10029                         782   7.797388\n",
       "свадьба                        2138                         186   8.699719\n",
       "образование                    3643                         370  10.156464\n",
       "автомобиль                     3903                         403  10.325391"
      ]
     },
     "metadata": {},
     "output_type": "display_data"
    }
   ],
   "source": [
    "purpose_pivot = analysis.pivot_table(index='purpose_category', columns='debt_category', values='family_status', aggfunc='count')\n",
    "purpose_pivot['ratio'] = (purpose_pivot['просроченная задолженность']/purpose_pivot['нет задолженности'])*100\n",
    "display(purpose_pivot.sort_values('ratio'))"
   ]
  },
  {
   "cell_type": "markdown",
   "metadata": {},
   "source": [
    "**Вывод**"
   ]
  },
  {
   "cell_type": "markdown",
   "metadata": {},
   "source": [
    "Здесь мы видим, что меньше всего просрочек в кредитах, связанных с недвижимостью, а больше всего просрочек в автокредитовании и кредитах на образование.\n",
    "Это можно соотнести с тем, что при кредитовании недвижимости кредит чаще всего является обеспеченным, то есть квартира находится в залоге у банка и при неоплате кредита банк может продать квартиру заемщика для погашения его задолженности перед банком. Также ипотечные кредиты чаще берут семейные пары, а как мы выяснили, они платят по кредитам лучше, чем заемщики, не состоящие в браке.\n",
    "\n",
    "С кредитами на образование всё ясно - студент может не найти хорошую работу с достойной з/п после окончания учебы и возможности платить по кредиту у него не будет.\n",
    "\n",
    "Автокредит хоть и является обеспеченным кредитом, но с автомобилями есть много рисков их утраты, а также дополнительных серьезных расходов на ремонт и обслуживание. В связи с этим, после серьезной аварии у клиента нет автомобиля (или он требует дорогостоящего ремонта) и заемщик перестает платить кредит, т.к. страха потерять предмет залога у него нет (а может от предмета залога ничего и не осталось)."
   ]
  },
  {
   "cell_type": "markdown",
   "metadata": {},
   "source": [
    "## Шаг 4. Общий вывод"
   ]
  },
  {
   "cell_type": "markdown",
   "metadata": {},
   "source": [
    "### Для ответов на поставленные вопросы представленные банком данные были предварительно обработаны и проанализированы. На этапе предварительной обработки было выявлено, что:\n",
    "1. Наименования столбцов в датасете были правильные, переименовывать их не пришлось.\n",
    "2. При этом в столбцах с количеством детей и количеством дней работы присутствовали значения со знаком \"минус\", чего быть не должно и данные значения были переведены в значения без знака минус;\n",
    "3. В столбцах с образованием и семейным положением находились значения, записанные в разных регистрах и все они были приведены к нижнему регистру;\n",
    "4. Пропуски были в 2174 строках, что составляет более 10 % значений и потеря этих данных могла сильно сказаться на результатах исследования, поэтому пропущенные значения в столбце с трудовым стажем были заменены нулями, так как эти данные не требуются для анализа, а вот пропуски по уровню дохода были заполнены медианными значениями в зависимости от типа занятости клиента (предприниматель, студент, сотрудник и т.д.);\n",
    "5. В столбце с количеством детей помимо значений со знаком минус, находились 76 строк с количеством детей 20. Так как значений количества детей от 6 до 19 в датасете не присутствовало, был сделан вывод, что это ошибочные данные и произведена их замена медианным значением;\n",
    "6. В таблице был обнаружен 71 дубликат строк. Так как в датасете нет персонализации клиентов (нет id или каких-либо других данных), то нельзя точно сказать, были это дубликаты или совпадения. Но таких строк было всего 71, поэтому их удаление не повлияет на результаты исследования;\n",
    "7. Столбец с целями кредита для удобства анализа был разделен на следующие категории: \"недвижимость\", \"автомобиль\", \"образование\" и \"свадьба\", а также \"иные цели\", если что-то не подойдет под другие категории. Лемматизация целей проводилась с использованием библиотеки pymystem3.\n",
    "8. Так как у нас в задании стоят вопросы о зависимости 4 различных факторов с фактом возврата кредита в срок, для ответа на этот вопрос из всего датасета были выделены 5 основных категорий для анализа:\n",
    "- Наличие детей;\n",
    "- Семейное положение;\n",
    "- Уровень дохода;\n",
    "- Цель кредита;\n",
    "- Наличие просроченной задолженности по кредиту.\n",
    "\n",
    "### Цель исследования была выяснить влияет ли семейное положение и количество детей клиента на факт погашения кредита в срок.\n",
    "\n",
    "<b>1)</b> Исходя из анализа данных, можно сделать вывод о том, что <b>клиенты, состоящие в браке, являются более благонадежными заемщиками</b>, хотя разница в количестве просрочек с людьми, не состоящими в браке составляет всего 0.6 %, что является очень маленьким показателем.\n",
    "\n",
    "<b>2)</b> А вот <b>наличие детей более негативно влияет на возможность заемщика вернуть кредит вовремя</b>. Разница в просрочке между заемщиками с детьми и без них составляет аж 1.99 %, что по банковским меркам довольно много.\n",
    "\n",
    "<b>3)</b> Если смотреть на цели кредитования, то <b>меньше всего просрочек в кредитах, связанных с недвижимостью, а больше всего просрочек в автокредитовании и кредитах на образование</b>.\n",
    "    \n",
    "Это можно соотнести с тем, что при кредитовании недвижимости кредит чаще всего является обеспеченным, то есть квартира находится в залоге у банка и при неоплате кредита банк может продать квартиру заемщика для погашения его задолженности перед банком. Также ипотечные кредиты чаще берут семейные пары, а как мы выяснили, они платят по кредитам лучше, чем заемщики, не состоящие в браке.\n",
    "    \n",
    "С кредитами на образование всё ясно - студент может не найти хорошую работу с достойной з/п после окончания учебы и возможности платить по кредиту у него не будет.\n",
    "    \n",
    "Автокредит хоть и является обеспеченным кредитом, но с автомобилями есть много рисков их утраты, а также дополнительных серьезных расходов на ремонт и обслуживание. В связи с этим, после серьезной аварии у клиента нет автомобиля (или он требует дорогостоящего ремонта) и заемщик перестает платить кредит, т.к. страха потерять предмет залога у него нет (а может от предмета залога ничего и не осталось).\n",
    "    \n",
    "<b>4)</b> Исходя из проанализированных данных можно составить <b>портрет наиболее благонадежного заемщика: это человек, состоящий или состоявший в браке, пока еще не имеющий детей, берущий кредит на цели, связанные с недвижимостью и с доходом выше среднего или высоким доходом</b>."
   ]
  }
 ],
 "metadata": {
  "ExecuteTimeLog": [
   {
    "duration": 807,
    "start_time": "2022-01-13T08:22:24.659Z"
   },
   {
    "duration": 813,
    "start_time": "2022-01-13T08:25:08.007Z"
   },
   {
    "duration": 98,
    "start_time": "2022-01-13T08:25:37.690Z"
   },
   {
    "duration": 502,
    "start_time": "2022-01-13T08:26:09.192Z"
   },
   {
    "duration": 100,
    "start_time": "2022-01-13T08:26:22.140Z"
   },
   {
    "duration": 813,
    "start_time": "2022-01-13T08:31:32.257Z"
   },
   {
    "duration": 90,
    "start_time": "2022-01-13T08:34:41.801Z"
   },
   {
    "duration": 94,
    "start_time": "2022-01-13T08:35:22.670Z"
   },
   {
    "duration": 92,
    "start_time": "2022-01-13T08:35:58.224Z"
   },
   {
    "duration": 13,
    "start_time": "2022-01-13T08:44:17.412Z"
   },
   {
    "duration": 508,
    "start_time": "2022-01-13T08:45:43.603Z"
   },
   {
    "duration": 11,
    "start_time": "2022-01-13T08:45:52.316Z"
   },
   {
    "duration": 25,
    "start_time": "2022-01-13T08:49:54.460Z"
   },
   {
    "duration": 12,
    "start_time": "2022-01-13T08:50:31.365Z"
   },
   {
    "duration": 3,
    "start_time": "2022-01-13T08:51:01.377Z"
   },
   {
    "duration": 20,
    "start_time": "2022-01-13T08:52:16.604Z"
   },
   {
    "duration": 18,
    "start_time": "2022-01-13T08:52:47.208Z"
   },
   {
    "duration": 19,
    "start_time": "2022-01-13T08:52:54.316Z"
   },
   {
    "duration": 86,
    "start_time": "2022-01-13T09:05:37.991Z"
   },
   {
    "duration": 11,
    "start_time": "2022-01-13T09:05:38.080Z"
   },
   {
    "duration": 39,
    "start_time": "2022-01-13T09:05:38.094Z"
   },
   {
    "duration": 81,
    "start_time": "2022-01-13T09:06:08.492Z"
   },
   {
    "duration": 70,
    "start_time": "2022-01-13T09:06:22.842Z"
   },
   {
    "duration": 18,
    "start_time": "2022-01-13T09:07:00.951Z"
   },
   {
    "duration": 8,
    "start_time": "2022-01-13T09:08:42.409Z"
   },
   {
    "duration": 10,
    "start_time": "2022-01-13T09:12:34.756Z"
   },
   {
    "duration": 820,
    "start_time": "2022-01-13T09:15:10.702Z"
   },
   {
    "duration": 30,
    "start_time": "2022-01-13T09:15:11.525Z"
   },
   {
    "duration": 8,
    "start_time": "2022-01-13T09:15:11.558Z"
   },
   {
    "duration": 10,
    "start_time": "2022-01-13T09:15:11.569Z"
   },
   {
    "duration": 45,
    "start_time": "2022-01-13T09:15:11.581Z"
   },
   {
    "duration": 23,
    "start_time": "2022-01-13T09:15:11.629Z"
   },
   {
    "duration": 14,
    "start_time": "2022-01-13T09:33:39.633Z"
   },
   {
    "duration": 6,
    "start_time": "2022-01-13T09:35:20.915Z"
   },
   {
    "duration": 6,
    "start_time": "2022-01-13T09:36:05.856Z"
   },
   {
    "duration": 5,
    "start_time": "2022-01-13T09:37:49.070Z"
   },
   {
    "duration": 13,
    "start_time": "2022-01-13T09:38:40.714Z"
   },
   {
    "duration": 851,
    "start_time": "2022-01-13T09:38:57.792Z"
   },
   {
    "duration": 28,
    "start_time": "2022-01-13T09:38:58.646Z"
   },
   {
    "duration": 7,
    "start_time": "2022-01-13T09:38:58.677Z"
   },
   {
    "duration": 9,
    "start_time": "2022-01-13T09:38:58.688Z"
   },
   {
    "duration": 13,
    "start_time": "2022-01-13T09:38:58.724Z"
   },
   {
    "duration": 19,
    "start_time": "2022-01-13T09:38:58.740Z"
   },
   {
    "duration": 6,
    "start_time": "2022-01-13T09:38:58.761Z"
   },
   {
    "duration": 7,
    "start_time": "2022-01-13T09:38:58.768Z"
   },
   {
    "duration": 50,
    "start_time": "2022-01-13T09:38:58.778Z"
   },
   {
    "duration": 4,
    "start_time": "2022-01-13T09:42:30.762Z"
   },
   {
    "duration": 5,
    "start_time": "2022-01-13T09:45:18.793Z"
   },
   {
    "duration": 32,
    "start_time": "2022-01-13T10:04:34.909Z"
   },
   {
    "duration": 12,
    "start_time": "2022-01-13T10:05:43.297Z"
   },
   {
    "duration": 12,
    "start_time": "2022-01-13T10:06:05.318Z"
   },
   {
    "duration": 7,
    "start_time": "2022-01-13T10:10:17.348Z"
   },
   {
    "duration": 16,
    "start_time": "2022-01-13T10:10:48.696Z"
   },
   {
    "duration": 5,
    "start_time": "2022-01-13T10:12:10.855Z"
   },
   {
    "duration": 9,
    "start_time": "2022-01-13T10:12:39.261Z"
   },
   {
    "duration": 374,
    "start_time": "2022-01-13T10:17:47.564Z"
   },
   {
    "duration": 28,
    "start_time": "2022-01-13T10:17:53.010Z"
   },
   {
    "duration": 20,
    "start_time": "2022-01-13T10:18:23.559Z"
   },
   {
    "duration": 23,
    "start_time": "2022-01-13T10:20:45.618Z"
   },
   {
    "duration": 29,
    "start_time": "2022-01-13T10:21:21.199Z"
   },
   {
    "duration": 23,
    "start_time": "2022-01-13T10:24:05.328Z"
   },
   {
    "duration": 741,
    "start_time": "2022-01-13T10:27:08.770Z"
   },
   {
    "duration": 28,
    "start_time": "2022-01-13T10:27:09.514Z"
   },
   {
    "duration": 7,
    "start_time": "2022-01-13T10:27:09.545Z"
   },
   {
    "duration": 11,
    "start_time": "2022-01-13T10:27:09.555Z"
   },
   {
    "duration": 19,
    "start_time": "2022-01-13T10:27:09.568Z"
   },
   {
    "duration": 50,
    "start_time": "2022-01-13T10:27:09.590Z"
   },
   {
    "duration": 7,
    "start_time": "2022-01-13T10:27:09.642Z"
   },
   {
    "duration": 9,
    "start_time": "2022-01-13T10:27:09.652Z"
   },
   {
    "duration": 13,
    "start_time": "2022-01-13T10:27:09.664Z"
   },
   {
    "duration": 57,
    "start_time": "2022-01-13T10:27:09.680Z"
   },
   {
    "duration": 12,
    "start_time": "2022-01-13T10:27:09.739Z"
   },
   {
    "duration": 12,
    "start_time": "2022-01-13T10:27:09.753Z"
   },
   {
    "duration": 7,
    "start_time": "2022-01-13T10:27:09.768Z"
   },
   {
    "duration": 50,
    "start_time": "2022-01-13T10:27:09.777Z"
   },
   {
    "duration": 9,
    "start_time": "2022-01-13T10:27:09.830Z"
   },
   {
    "duration": 26,
    "start_time": "2022-01-13T10:27:09.841Z"
   },
   {
    "duration": 57,
    "start_time": "2022-01-13T10:27:09.870Z"
   },
   {
    "duration": 22,
    "start_time": "2022-01-13T10:27:09.930Z"
   },
   {
    "duration": 16,
    "start_time": "2022-01-13T10:30:19.281Z"
   },
   {
    "duration": 11,
    "start_time": "2022-01-13T10:34:41.153Z"
   },
   {
    "duration": 4,
    "start_time": "2022-01-13T10:46:13.243Z"
   },
   {
    "duration": 4953,
    "start_time": "2022-01-13T10:54:27.776Z"
   },
   {
    "duration": 34,
    "start_time": "2022-01-13T10:55:13.556Z"
   },
   {
    "duration": 22,
    "start_time": "2022-01-13T10:55:23.533Z"
   },
   {
    "duration": 10,
    "start_time": "2022-01-13T10:56:26.082Z"
   },
   {
    "duration": 830,
    "start_time": "2022-01-13T10:56:58.994Z"
   },
   {
    "duration": 28,
    "start_time": "2022-01-13T10:56:59.828Z"
   },
   {
    "duration": 11,
    "start_time": "2022-01-13T10:56:59.860Z"
   },
   {
    "duration": 9,
    "start_time": "2022-01-13T10:56:59.875Z"
   },
   {
    "duration": 16,
    "start_time": "2022-01-13T10:56:59.923Z"
   },
   {
    "duration": 22,
    "start_time": "2022-01-13T10:56:59.942Z"
   },
   {
    "duration": 7,
    "start_time": "2022-01-13T10:56:59.967Z"
   },
   {
    "duration": 45,
    "start_time": "2022-01-13T10:56:59.979Z"
   },
   {
    "duration": 19,
    "start_time": "2022-01-13T10:57:00.029Z"
   },
   {
    "duration": 41,
    "start_time": "2022-01-13T10:57:00.051Z"
   },
   {
    "duration": 30,
    "start_time": "2022-01-13T10:57:00.095Z"
   },
   {
    "duration": 23,
    "start_time": "2022-01-13T10:57:00.128Z"
   },
   {
    "duration": 25,
    "start_time": "2022-01-13T10:57:00.153Z"
   },
   {
    "duration": 24,
    "start_time": "2022-01-13T10:57:00.181Z"
   },
   {
    "duration": 21,
    "start_time": "2022-01-13T10:57:00.207Z"
   },
   {
    "duration": 39,
    "start_time": "2022-01-13T10:57:00.230Z"
   },
   {
    "duration": 26,
    "start_time": "2022-01-13T10:57:00.272Z"
   },
   {
    "duration": 39,
    "start_time": "2022-01-13T10:57:00.301Z"
   },
   {
    "duration": 10,
    "start_time": "2022-01-13T10:57:00.342Z"
   },
   {
    "duration": 28,
    "start_time": "2022-01-13T10:57:00.354Z"
   },
   {
    "duration": 14,
    "start_time": "2022-01-13T10:57:00.384Z"
   },
   {
    "duration": 5329,
    "start_time": "2022-01-13T10:57:00.401Z"
   },
   {
    "duration": 20,
    "start_time": "2022-01-13T10:57:05.736Z"
   },
   {
    "duration": 14,
    "start_time": "2022-01-13T10:57:05.758Z"
   },
   {
    "duration": 22,
    "start_time": "2022-01-13T11:06:58.155Z"
   },
   {
    "duration": 11,
    "start_time": "2022-01-13T11:07:12.572Z"
   },
   {
    "duration": 9,
    "start_time": "2022-01-13T11:07:20.788Z"
   },
   {
    "duration": 21,
    "start_time": "2022-01-13T11:07:59.312Z"
   },
   {
    "duration": 22,
    "start_time": "2022-01-13T11:08:03.717Z"
   },
   {
    "duration": 11,
    "start_time": "2022-01-13T11:08:10.226Z"
   },
   {
    "duration": 18,
    "start_time": "2022-01-13T11:08:16.501Z"
   },
   {
    "duration": 10,
    "start_time": "2022-01-13T12:11:59.124Z"
   },
   {
    "duration": 7936,
    "start_time": "2022-01-13T12:19:25.469Z"
   },
   {
    "duration": 18,
    "start_time": "2022-01-13T12:20:28.668Z"
   },
   {
    "duration": 4,
    "start_time": "2022-01-13T12:22:09.056Z"
   },
   {
    "duration": 850,
    "start_time": "2022-01-13T12:22:16.552Z"
   },
   {
    "duration": 29,
    "start_time": "2022-01-13T12:22:17.405Z"
   },
   {
    "duration": 7,
    "start_time": "2022-01-13T12:22:17.436Z"
   },
   {
    "duration": 11,
    "start_time": "2022-01-13T12:22:17.446Z"
   },
   {
    "duration": 12,
    "start_time": "2022-01-13T12:22:17.460Z"
   },
   {
    "duration": 57,
    "start_time": "2022-01-13T12:22:17.474Z"
   },
   {
    "duration": 11,
    "start_time": "2022-01-13T12:22:17.533Z"
   },
   {
    "duration": 5,
    "start_time": "2022-01-13T12:22:17.547Z"
   },
   {
    "duration": 15,
    "start_time": "2022-01-13T12:22:17.556Z"
   },
   {
    "duration": 61,
    "start_time": "2022-01-13T12:22:17.573Z"
   },
   {
    "duration": 13,
    "start_time": "2022-01-13T12:22:17.637Z"
   },
   {
    "duration": 11,
    "start_time": "2022-01-13T12:22:17.652Z"
   },
   {
    "duration": 7,
    "start_time": "2022-01-13T12:22:17.665Z"
   },
   {
    "duration": 49,
    "start_time": "2022-01-13T12:22:17.674Z"
   },
   {
    "duration": 10,
    "start_time": "2022-01-13T12:22:17.726Z"
   },
   {
    "duration": 22,
    "start_time": "2022-01-13T12:22:17.738Z"
   },
   {
    "duration": 27,
    "start_time": "2022-01-13T12:22:17.762Z"
   },
   {
    "duration": 52,
    "start_time": "2022-01-13T12:22:17.792Z"
   },
   {
    "duration": 24,
    "start_time": "2022-01-13T12:22:17.846Z"
   },
   {
    "duration": 9,
    "start_time": "2022-01-13T12:22:17.873Z"
   },
   {
    "duration": 41,
    "start_time": "2022-01-13T12:22:17.884Z"
   },
   {
    "duration": 15,
    "start_time": "2022-01-13T12:22:17.928Z"
   },
   {
    "duration": 5411,
    "start_time": "2022-01-13T12:22:17.945Z"
   },
   {
    "duration": 27,
    "start_time": "2022-01-13T12:22:23.359Z"
   },
   {
    "duration": 34,
    "start_time": "2022-01-13T12:22:23.389Z"
   },
   {
    "duration": 4,
    "start_time": "2022-01-13T12:22:23.425Z"
   },
   {
    "duration": 13,
    "start_time": "2022-01-13T12:22:23.433Z"
   },
   {
    "duration": 575,
    "start_time": "2022-01-13T12:22:23.448Z"
   },
   {
    "duration": 17,
    "start_time": "2022-01-13T12:24:35.486Z"
   },
   {
    "duration": 18,
    "start_time": "2022-01-13T12:28:24.528Z"
   },
   {
    "duration": 7785,
    "start_time": "2022-01-13T12:38:05.910Z"
   },
   {
    "duration": 18,
    "start_time": "2022-01-13T12:38:41.180Z"
   },
   {
    "duration": 16,
    "start_time": "2022-01-13T12:39:09.349Z"
   },
   {
    "duration": 21,
    "start_time": "2022-01-13T12:54:04.483Z"
   },
   {
    "duration": 19,
    "start_time": "2022-01-13T12:54:52.730Z"
   },
   {
    "duration": 7,
    "start_time": "2022-01-13T12:56:23.681Z"
   },
   {
    "duration": 7,
    "start_time": "2022-01-13T12:56:31.146Z"
   },
   {
    "duration": 6,
    "start_time": "2022-01-13T12:57:53.843Z"
   },
   {
    "duration": 19,
    "start_time": "2022-01-13T12:59:04.702Z"
   },
   {
    "duration": 20,
    "start_time": "2022-01-13T13:04:32.597Z"
   },
   {
    "duration": 23,
    "start_time": "2022-01-13T13:09:50.971Z"
   },
   {
    "duration": 782,
    "start_time": "2022-01-13T13:10:11.747Z"
   },
   {
    "duration": 27,
    "start_time": "2022-01-13T13:10:12.532Z"
   },
   {
    "duration": 8,
    "start_time": "2022-01-13T13:10:12.562Z"
   },
   {
    "duration": 9,
    "start_time": "2022-01-13T13:10:12.573Z"
   },
   {
    "duration": 47,
    "start_time": "2022-01-13T13:10:12.584Z"
   },
   {
    "duration": 20,
    "start_time": "2022-01-13T13:10:12.634Z"
   },
   {
    "duration": 7,
    "start_time": "2022-01-13T13:10:12.657Z"
   },
   {
    "duration": 5,
    "start_time": "2022-01-13T13:10:12.669Z"
   },
   {
    "duration": 54,
    "start_time": "2022-01-13T13:10:12.678Z"
   },
   {
    "duration": 31,
    "start_time": "2022-01-13T13:10:12.735Z"
   },
   {
    "duration": 10,
    "start_time": "2022-01-13T13:10:12.768Z"
   },
   {
    "duration": 44,
    "start_time": "2022-01-13T13:10:12.780Z"
   },
   {
    "duration": 8,
    "start_time": "2022-01-13T13:10:12.827Z"
   },
   {
    "duration": 17,
    "start_time": "2022-01-13T13:10:12.837Z"
   },
   {
    "duration": 12,
    "start_time": "2022-01-13T13:10:12.857Z"
   },
   {
    "duration": 59,
    "start_time": "2022-01-13T13:10:12.871Z"
   },
   {
    "duration": 28,
    "start_time": "2022-01-13T13:10:12.933Z"
   },
   {
    "duration": 25,
    "start_time": "2022-01-13T13:10:12.963Z"
   },
   {
    "duration": 21,
    "start_time": "2022-01-13T13:10:13.023Z"
   },
   {
    "duration": 8,
    "start_time": "2022-01-13T13:10:13.047Z"
   },
   {
    "duration": 12,
    "start_time": "2022-01-13T13:10:13.057Z"
   },
   {
    "duration": 5,
    "start_time": "2022-01-13T13:10:13.072Z"
   },
   {
    "duration": 4829,
    "start_time": "2022-01-13T13:10:13.081Z"
   },
   {
    "duration": 27,
    "start_time": "2022-01-13T13:10:17.913Z"
   },
   {
    "duration": 16,
    "start_time": "2022-01-13T13:10:17.942Z"
   },
   {
    "duration": 9,
    "start_time": "2022-01-13T13:10:17.961Z"
   },
   {
    "duration": 17,
    "start_time": "2022-01-13T13:10:17.972Z"
   },
   {
    "duration": 47,
    "start_time": "2022-01-13T13:10:17.992Z"
   },
   {
    "duration": 18,
    "start_time": "2022-01-13T13:10:18.041Z"
   },
   {
    "duration": 9,
    "start_time": "2022-01-13T13:10:18.062Z"
   },
   {
    "duration": 58,
    "start_time": "2022-01-13T13:10:18.074Z"
   },
   {
    "duration": 27,
    "start_time": "2022-01-13T13:10:18.135Z"
   },
   {
    "duration": 731,
    "start_time": "2022-01-13T15:37:34.813Z"
   },
   {
    "duration": 16,
    "start_time": "2022-01-13T15:37:35.546Z"
   },
   {
    "duration": 7,
    "start_time": "2022-01-13T15:37:35.564Z"
   },
   {
    "duration": 7,
    "start_time": "2022-01-13T15:37:35.573Z"
   },
   {
    "duration": 10,
    "start_time": "2022-01-13T15:37:35.581Z"
   },
   {
    "duration": 10,
    "start_time": "2022-01-13T15:37:35.592Z"
   },
   {
    "duration": 25,
    "start_time": "2022-01-13T15:37:35.604Z"
   },
   {
    "duration": 3,
    "start_time": "2022-01-13T15:37:35.631Z"
   },
   {
    "duration": 10,
    "start_time": "2022-01-13T15:37:35.635Z"
   },
   {
    "duration": 19,
    "start_time": "2022-01-13T15:37:35.646Z"
   },
   {
    "duration": 9,
    "start_time": "2022-01-13T15:37:35.666Z"
   },
   {
    "duration": 8,
    "start_time": "2022-01-13T15:37:35.677Z"
   },
   {
    "duration": 5,
    "start_time": "2022-01-13T15:37:35.687Z"
   },
   {
    "duration": 40,
    "start_time": "2022-01-13T15:37:35.694Z"
   },
   {
    "duration": 7,
    "start_time": "2022-01-13T15:37:35.736Z"
   },
   {
    "duration": 10,
    "start_time": "2022-01-13T15:37:35.745Z"
   },
   {
    "duration": 18,
    "start_time": "2022-01-13T15:37:35.757Z"
   },
   {
    "duration": 51,
    "start_time": "2022-01-13T15:37:35.776Z"
   },
   {
    "duration": 13,
    "start_time": "2022-01-13T15:37:35.829Z"
   },
   {
    "duration": 6,
    "start_time": "2022-01-13T15:37:35.844Z"
   },
   {
    "duration": 7,
    "start_time": "2022-01-13T15:37:35.852Z"
   },
   {
    "duration": 6,
    "start_time": "2022-01-13T15:37:35.860Z"
   },
   {
    "duration": 3411,
    "start_time": "2022-01-13T15:37:35.869Z"
   },
   {
    "duration": 10,
    "start_time": "2022-01-13T15:37:39.282Z"
   },
   {
    "duration": 8,
    "start_time": "2022-01-13T15:37:39.294Z"
   },
   {
    "duration": 6,
    "start_time": "2022-01-13T15:37:39.303Z"
   },
   {
    "duration": 9,
    "start_time": "2022-01-13T15:37:39.327Z"
   },
   {
    "duration": 11,
    "start_time": "2022-01-13T15:37:39.338Z"
   },
   {
    "duration": 11,
    "start_time": "2022-01-13T15:37:39.350Z"
   },
   {
    "duration": 10,
    "start_time": "2022-01-13T15:37:39.362Z"
   },
   {
    "duration": 11,
    "start_time": "2022-01-13T15:37:39.374Z"
   },
   {
    "duration": 17,
    "start_time": "2022-01-13T15:37:39.387Z"
   },
   {
    "duration": 10,
    "start_time": "2022-01-13T15:41:32.132Z"
   },
   {
    "duration": 452,
    "start_time": "2022-01-13T15:43:44.556Z"
   },
   {
    "duration": 16,
    "start_time": "2022-01-13T15:43:51.270Z"
   },
   {
    "duration": 16,
    "start_time": "2022-01-13T15:43:56.493Z"
   },
   {
    "duration": 23,
    "start_time": "2022-01-13T15:44:56.127Z"
   },
   {
    "duration": 277,
    "start_time": "2022-01-13T15:46:23.145Z"
   },
   {
    "duration": 20,
    "start_time": "2022-01-13T15:46:32.019Z"
   },
   {
    "duration": 696,
    "start_time": "2022-01-13T15:47:34.771Z"
   },
   {
    "duration": 25,
    "start_time": "2022-01-13T15:47:35.469Z"
   },
   {
    "duration": 8,
    "start_time": "2022-01-13T15:47:35.499Z"
   },
   {
    "duration": 26,
    "start_time": "2022-01-13T15:47:35.509Z"
   },
   {
    "duration": 14,
    "start_time": "2022-01-13T15:47:35.537Z"
   },
   {
    "duration": 12,
    "start_time": "2022-01-13T15:47:35.553Z"
   },
   {
    "duration": 5,
    "start_time": "2022-01-13T15:47:35.568Z"
   },
   {
    "duration": 7,
    "start_time": "2022-01-13T15:47:35.575Z"
   },
   {
    "duration": 43,
    "start_time": "2022-01-13T15:47:35.584Z"
   },
   {
    "duration": 27,
    "start_time": "2022-01-13T15:47:35.629Z"
   },
   {
    "duration": 7,
    "start_time": "2022-01-13T15:47:35.658Z"
   },
   {
    "duration": 9,
    "start_time": "2022-01-13T15:47:35.667Z"
   },
   {
    "duration": 5,
    "start_time": "2022-01-13T15:47:35.677Z"
   },
   {
    "duration": 13,
    "start_time": "2022-01-13T15:47:35.683Z"
   },
   {
    "duration": 35,
    "start_time": "2022-01-13T15:47:35.697Z"
   },
   {
    "duration": 10,
    "start_time": "2022-01-13T15:47:35.734Z"
   },
   {
    "duration": 28,
    "start_time": "2022-01-13T15:47:35.746Z"
   },
   {
    "duration": 50,
    "start_time": "2022-01-13T15:47:35.777Z"
   },
   {
    "duration": 17,
    "start_time": "2022-01-13T15:47:35.829Z"
   },
   {
    "duration": 14,
    "start_time": "2022-01-13T15:47:35.847Z"
   },
   {
    "duration": 8,
    "start_time": "2022-01-13T15:47:35.863Z"
   },
   {
    "duration": 4,
    "start_time": "2022-01-13T15:47:35.874Z"
   },
   {
    "duration": 3796,
    "start_time": "2022-01-13T15:47:35.880Z"
   },
   {
    "duration": 12,
    "start_time": "2022-01-13T15:47:39.678Z"
   },
   {
    "duration": 8,
    "start_time": "2022-01-13T15:47:39.692Z"
   },
   {
    "duration": 28,
    "start_time": "2022-01-13T15:47:39.702Z"
   },
   {
    "duration": 15,
    "start_time": "2022-01-13T15:47:39.732Z"
   },
   {
    "duration": 23,
    "start_time": "2022-01-13T15:47:39.749Z"
   },
   {
    "duration": 14,
    "start_time": "2022-01-13T15:47:39.773Z"
   },
   {
    "duration": 4,
    "start_time": "2022-01-13T15:47:39.788Z"
   },
   {
    "duration": 15,
    "start_time": "2022-01-13T15:47:39.793Z"
   },
   {
    "duration": 761,
    "start_time": "2022-01-13T15:47:39.826Z"
   },
   {
    "duration": -333,
    "start_time": "2022-01-13T15:47:40.922Z"
   },
   {
    "duration": 813,
    "start_time": "2022-01-13T15:47:54.003Z"
   },
   {
    "duration": 18,
    "start_time": "2022-01-13T15:47:54.818Z"
   },
   {
    "duration": 8,
    "start_time": "2022-01-13T15:47:54.838Z"
   },
   {
    "duration": 8,
    "start_time": "2022-01-13T15:47:54.848Z"
   },
   {
    "duration": 18,
    "start_time": "2022-01-13T15:47:54.858Z"
   },
   {
    "duration": 13,
    "start_time": "2022-01-13T15:47:54.878Z"
   },
   {
    "duration": 35,
    "start_time": "2022-01-13T15:47:54.892Z"
   },
   {
    "duration": 3,
    "start_time": "2022-01-13T15:47:54.929Z"
   },
   {
    "duration": 11,
    "start_time": "2022-01-13T15:47:54.935Z"
   },
   {
    "duration": 21,
    "start_time": "2022-01-13T15:47:54.948Z"
   },
   {
    "duration": 9,
    "start_time": "2022-01-13T15:47:54.970Z"
   },
   {
    "duration": 10,
    "start_time": "2022-01-13T15:47:54.981Z"
   },
   {
    "duration": 4,
    "start_time": "2022-01-13T15:47:54.993Z"
   },
   {
    "duration": 35,
    "start_time": "2022-01-13T15:47:54.999Z"
   },
   {
    "duration": 8,
    "start_time": "2022-01-13T15:47:55.036Z"
   },
   {
    "duration": 15,
    "start_time": "2022-01-13T15:47:55.045Z"
   },
   {
    "duration": 22,
    "start_time": "2022-01-13T15:47:55.062Z"
   },
   {
    "duration": 15,
    "start_time": "2022-01-13T15:47:55.086Z"
   },
   {
    "duration": 34,
    "start_time": "2022-01-13T15:47:55.103Z"
   },
   {
    "duration": 15,
    "start_time": "2022-01-13T15:47:55.138Z"
   },
   {
    "duration": 7,
    "start_time": "2022-01-13T15:47:55.155Z"
   },
   {
    "duration": 8,
    "start_time": "2022-01-13T15:47:55.164Z"
   },
   {
    "duration": 3794,
    "start_time": "2022-01-13T15:47:55.174Z"
   },
   {
    "duration": 12,
    "start_time": "2022-01-13T15:47:58.970Z"
   },
   {
    "duration": 9,
    "start_time": "2022-01-13T15:47:58.984Z"
   },
   {
    "duration": 10,
    "start_time": "2022-01-13T15:47:58.995Z"
   },
   {
    "duration": 27,
    "start_time": "2022-01-13T15:47:59.008Z"
   },
   {
    "duration": 13,
    "start_time": "2022-01-13T15:47:59.037Z"
   },
   {
    "duration": 21,
    "start_time": "2022-01-13T15:47:59.051Z"
   },
   {
    "duration": 9,
    "start_time": "2022-01-13T15:47:59.074Z"
   },
   {
    "duration": 12,
    "start_time": "2022-01-13T15:47:59.084Z"
   },
   {
    "duration": 33,
    "start_time": "2022-01-13T15:47:59.098Z"
   },
   {
    "duration": 19,
    "start_time": "2022-01-13T15:47:59.133Z"
   },
   {
    "duration": 16,
    "start_time": "2022-01-13T15:50:02.485Z"
   },
   {
    "duration": 403,
    "start_time": "2022-01-13T15:54:04.221Z"
   },
   {
    "duration": 7,
    "start_time": "2022-01-13T15:54:13.471Z"
   },
   {
    "duration": 7,
    "start_time": "2022-01-13T15:55:22.304Z"
   },
   {
    "duration": 16,
    "start_time": "2022-01-13T15:58:00.228Z"
   },
   {
    "duration": 22,
    "start_time": "2022-01-13T15:58:36.697Z"
   },
   {
    "duration": 17,
    "start_time": "2022-01-13T15:58:43.602Z"
   },
   {
    "duration": 19,
    "start_time": "2022-01-13T15:59:59.533Z"
   },
   {
    "duration": 17,
    "start_time": "2022-01-13T16:00:49.454Z"
   },
   {
    "duration": 638,
    "start_time": "2022-01-13T16:02:45.944Z"
   },
   {
    "duration": 16,
    "start_time": "2022-01-13T16:02:46.584Z"
   },
   {
    "duration": 6,
    "start_time": "2022-01-13T16:02:46.602Z"
   },
   {
    "duration": 6,
    "start_time": "2022-01-13T16:02:46.610Z"
   },
   {
    "duration": 13,
    "start_time": "2022-01-13T16:02:46.618Z"
   },
   {
    "duration": 13,
    "start_time": "2022-01-13T16:02:46.633Z"
   },
   {
    "duration": 5,
    "start_time": "2022-01-13T16:02:46.648Z"
   },
   {
    "duration": 4,
    "start_time": "2022-01-13T16:02:46.656Z"
   },
   {
    "duration": 9,
    "start_time": "2022-01-13T16:02:46.663Z"
   },
   {
    "duration": 64,
    "start_time": "2022-01-13T16:02:46.674Z"
   },
   {
    "duration": 7,
    "start_time": "2022-01-13T16:02:46.740Z"
   },
   {
    "duration": 16,
    "start_time": "2022-01-13T16:02:46.749Z"
   },
   {
    "duration": 6,
    "start_time": "2022-01-13T16:02:46.767Z"
   },
   {
    "duration": 13,
    "start_time": "2022-01-13T16:02:46.774Z"
   },
   {
    "duration": 8,
    "start_time": "2022-01-13T16:02:46.789Z"
   },
   {
    "duration": 34,
    "start_time": "2022-01-13T16:02:46.799Z"
   },
   {
    "duration": 23,
    "start_time": "2022-01-13T16:02:46.835Z"
   },
   {
    "duration": 18,
    "start_time": "2022-01-13T16:02:46.859Z"
   },
   {
    "duration": 14,
    "start_time": "2022-01-13T16:02:46.879Z"
   },
   {
    "duration": 4,
    "start_time": "2022-01-13T16:02:46.895Z"
   },
   {
    "duration": 32,
    "start_time": "2022-01-13T16:02:46.900Z"
   },
   {
    "duration": 4,
    "start_time": "2022-01-13T16:02:46.934Z"
   },
   {
    "duration": 3498,
    "start_time": "2022-01-13T16:02:46.940Z"
   },
   {
    "duration": 13,
    "start_time": "2022-01-13T16:02:50.440Z"
   },
   {
    "duration": 12,
    "start_time": "2022-01-13T16:02:50.455Z"
   },
   {
    "duration": 11,
    "start_time": "2022-01-13T16:02:50.469Z"
   },
   {
    "duration": 23,
    "start_time": "2022-01-13T16:02:50.482Z"
   },
   {
    "duration": 23,
    "start_time": "2022-01-13T16:02:50.506Z"
   },
   {
    "duration": 12,
    "start_time": "2022-01-13T16:02:50.530Z"
   },
   {
    "duration": 6,
    "start_time": "2022-01-13T16:02:50.543Z"
   },
   {
    "duration": 429,
    "start_time": "2022-01-13T16:02:50.550Z"
   },
   {
    "duration": -352,
    "start_time": "2022-01-13T16:02:51.333Z"
   },
   {
    "duration": -352,
    "start_time": "2022-01-13T16:02:51.334Z"
   },
   {
    "duration": -352,
    "start_time": "2022-01-13T16:02:51.336Z"
   },
   {
    "duration": 658,
    "start_time": "2022-01-13T16:03:20.210Z"
   },
   {
    "duration": 15,
    "start_time": "2022-01-13T16:03:20.870Z"
   },
   {
    "duration": 6,
    "start_time": "2022-01-13T16:03:20.888Z"
   },
   {
    "duration": 15,
    "start_time": "2022-01-13T16:03:20.896Z"
   },
   {
    "duration": 19,
    "start_time": "2022-01-13T16:03:20.912Z"
   },
   {
    "duration": 15,
    "start_time": "2022-01-13T16:03:20.933Z"
   },
   {
    "duration": 7,
    "start_time": "2022-01-13T16:03:20.950Z"
   },
   {
    "duration": 4,
    "start_time": "2022-01-13T16:03:20.959Z"
   },
   {
    "duration": 10,
    "start_time": "2022-01-13T16:03:20.965Z"
   },
   {
    "duration": 60,
    "start_time": "2022-01-13T16:03:20.977Z"
   },
   {
    "duration": 13,
    "start_time": "2022-01-13T16:03:21.040Z"
   },
   {
    "duration": 11,
    "start_time": "2022-01-13T16:03:21.054Z"
   },
   {
    "duration": 4,
    "start_time": "2022-01-13T16:03:21.067Z"
   },
   {
    "duration": 12,
    "start_time": "2022-01-13T16:03:21.072Z"
   },
   {
    "duration": 6,
    "start_time": "2022-01-13T16:03:21.086Z"
   },
   {
    "duration": 9,
    "start_time": "2022-01-13T16:03:21.127Z"
   },
   {
    "duration": 22,
    "start_time": "2022-01-13T16:03:21.138Z"
   },
   {
    "duration": 18,
    "start_time": "2022-01-13T16:03:21.162Z"
   },
   {
    "duration": 15,
    "start_time": "2022-01-13T16:03:21.181Z"
   },
   {
    "duration": 33,
    "start_time": "2022-01-13T16:03:21.199Z"
   },
   {
    "duration": 10,
    "start_time": "2022-01-13T16:03:21.234Z"
   },
   {
    "duration": 6,
    "start_time": "2022-01-13T16:03:21.246Z"
   },
   {
    "duration": 4156,
    "start_time": "2022-01-13T16:03:21.255Z"
   },
   {
    "duration": 23,
    "start_time": "2022-01-13T16:03:25.415Z"
   },
   {
    "duration": 12,
    "start_time": "2022-01-13T16:03:25.441Z"
   },
   {
    "duration": 10,
    "start_time": "2022-01-13T16:03:25.454Z"
   },
   {
    "duration": 17,
    "start_time": "2022-01-13T16:03:25.466Z"
   },
   {
    "duration": 19,
    "start_time": "2022-01-13T16:03:25.485Z"
   },
   {
    "duration": 31,
    "start_time": "2022-01-13T16:03:25.506Z"
   },
   {
    "duration": 7,
    "start_time": "2022-01-13T16:03:25.539Z"
   },
   {
    "duration": 18,
    "start_time": "2022-01-13T16:03:25.548Z"
   },
   {
    "duration": 21,
    "start_time": "2022-01-13T16:03:25.568Z"
   },
   {
    "duration": 57,
    "start_time": "2022-01-13T16:03:25.591Z"
   },
   {
    "duration": 25,
    "start_time": "2022-01-13T16:03:25.651Z"
   },
   {
    "duration": 18,
    "start_time": "2022-01-13T16:04:05.148Z"
   },
   {
    "duration": 20,
    "start_time": "2022-01-13T16:06:40.571Z"
   },
   {
    "duration": 19,
    "start_time": "2022-01-13T16:07:20.226Z"
   },
   {
    "duration": 21,
    "start_time": "2022-01-13T16:14:12.518Z"
   },
   {
    "duration": 667,
    "start_time": "2022-01-13T16:33:46.085Z"
   },
   {
    "duration": 18,
    "start_time": "2022-01-13T16:33:46.754Z"
   },
   {
    "duration": 5,
    "start_time": "2022-01-13T16:33:46.774Z"
   },
   {
    "duration": 8,
    "start_time": "2022-01-13T16:33:46.780Z"
   },
   {
    "duration": 9,
    "start_time": "2022-01-13T16:33:46.790Z"
   },
   {
    "duration": 32,
    "start_time": "2022-01-13T16:33:46.800Z"
   },
   {
    "duration": 5,
    "start_time": "2022-01-13T16:33:46.835Z"
   },
   {
    "duration": 3,
    "start_time": "2022-01-13T16:33:46.843Z"
   },
   {
    "duration": 10,
    "start_time": "2022-01-13T16:33:46.848Z"
   },
   {
    "duration": 21,
    "start_time": "2022-01-13T16:33:46.860Z"
   },
   {
    "duration": 8,
    "start_time": "2022-01-13T16:33:46.883Z"
   },
   {
    "duration": 44,
    "start_time": "2022-01-13T16:33:46.892Z"
   },
   {
    "duration": 9,
    "start_time": "2022-01-13T16:33:46.938Z"
   },
   {
    "duration": 13,
    "start_time": "2022-01-13T16:33:46.948Z"
   },
   {
    "duration": 6,
    "start_time": "2022-01-13T16:33:46.963Z"
   },
   {
    "duration": 12,
    "start_time": "2022-01-13T16:33:46.970Z"
   },
   {
    "duration": 20,
    "start_time": "2022-01-13T16:33:46.983Z"
   },
   {
    "duration": 37,
    "start_time": "2022-01-13T16:33:47.005Z"
   },
   {
    "duration": 14,
    "start_time": "2022-01-13T16:33:47.044Z"
   },
   {
    "duration": 4,
    "start_time": "2022-01-13T16:33:47.059Z"
   },
   {
    "duration": 7,
    "start_time": "2022-01-13T16:33:47.065Z"
   },
   {
    "duration": 9,
    "start_time": "2022-01-13T16:33:47.074Z"
   },
   {
    "duration": 3473,
    "start_time": "2022-01-13T16:33:47.086Z"
   },
   {
    "duration": 11,
    "start_time": "2022-01-13T16:33:50.561Z"
   },
   {
    "duration": 8,
    "start_time": "2022-01-13T16:33:50.573Z"
   },
   {
    "duration": 7,
    "start_time": "2022-01-13T16:33:50.582Z"
   },
   {
    "duration": 13,
    "start_time": "2022-01-13T16:33:50.590Z"
   },
   {
    "duration": 28,
    "start_time": "2022-01-13T16:33:50.604Z"
   },
   {
    "duration": 13,
    "start_time": "2022-01-13T16:33:50.634Z"
   },
   {
    "duration": 8,
    "start_time": "2022-01-13T16:33:50.648Z"
   },
   {
    "duration": 13,
    "start_time": "2022-01-13T16:33:50.657Z"
   },
   {
    "duration": 20,
    "start_time": "2022-01-13T16:33:50.671Z"
   },
   {
    "duration": 43,
    "start_time": "2022-01-13T16:33:50.692Z"
   },
   {
    "duration": 17,
    "start_time": "2022-01-13T16:33:50.737Z"
   },
   {
    "duration": 19,
    "start_time": "2022-01-13T16:33:50.756Z"
   },
   {
    "duration": 18,
    "start_time": "2022-01-13T16:33:50.776Z"
   },
   {
    "duration": 627,
    "start_time": "2022-01-13T16:46:43.685Z"
   },
   {
    "duration": 17,
    "start_time": "2022-01-13T16:46:44.314Z"
   },
   {
    "duration": 5,
    "start_time": "2022-01-13T16:46:44.333Z"
   },
   {
    "duration": 9,
    "start_time": "2022-01-13T16:46:44.340Z"
   },
   {
    "duration": 8,
    "start_time": "2022-01-13T16:46:44.351Z"
   },
   {
    "duration": 14,
    "start_time": "2022-01-13T16:46:44.361Z"
   },
   {
    "duration": 5,
    "start_time": "2022-01-13T16:46:44.377Z"
   },
   {
    "duration": 3,
    "start_time": "2022-01-13T16:46:44.385Z"
   },
   {
    "duration": 42,
    "start_time": "2022-01-13T16:46:44.390Z"
   },
   {
    "duration": 20,
    "start_time": "2022-01-13T16:46:44.434Z"
   },
   {
    "duration": 8,
    "start_time": "2022-01-13T16:46:44.456Z"
   },
   {
    "duration": 10,
    "start_time": "2022-01-13T16:46:44.465Z"
   },
   {
    "duration": 5,
    "start_time": "2022-01-13T16:46:44.477Z"
   },
   {
    "duration": 12,
    "start_time": "2022-01-13T16:46:44.483Z"
   },
   {
    "duration": 32,
    "start_time": "2022-01-13T16:46:44.496Z"
   },
   {
    "duration": 9,
    "start_time": "2022-01-13T16:46:44.529Z"
   },
   {
    "duration": 19,
    "start_time": "2022-01-13T16:46:44.539Z"
   },
   {
    "duration": 17,
    "start_time": "2022-01-13T16:46:44.559Z"
   },
   {
    "duration": 14,
    "start_time": "2022-01-13T16:46:44.577Z"
   },
   {
    "duration": 4,
    "start_time": "2022-01-13T16:46:44.592Z"
   },
   {
    "duration": 34,
    "start_time": "2022-01-13T16:46:44.598Z"
   },
   {
    "duration": 5,
    "start_time": "2022-01-13T16:46:44.634Z"
   },
   {
    "duration": 3604,
    "start_time": "2022-01-13T16:46:44.641Z"
   },
   {
    "duration": 12,
    "start_time": "2022-01-13T16:46:48.248Z"
   },
   {
    "duration": 8,
    "start_time": "2022-01-13T16:46:48.262Z"
   },
   {
    "duration": 6,
    "start_time": "2022-01-13T16:46:48.272Z"
   },
   {
    "duration": 12,
    "start_time": "2022-01-13T16:46:48.280Z"
   },
   {
    "duration": 43,
    "start_time": "2022-01-13T16:46:48.293Z"
   },
   {
    "duration": 13,
    "start_time": "2022-01-13T16:46:48.338Z"
   },
   {
    "duration": 5,
    "start_time": "2022-01-13T16:46:48.353Z"
   },
   {
    "duration": 13,
    "start_time": "2022-01-13T16:46:48.360Z"
   },
   {
    "duration": 16,
    "start_time": "2022-01-13T16:46:48.375Z"
   },
   {
    "duration": 58,
    "start_time": "2022-01-13T16:46:48.392Z"
   },
   {
    "duration": 18,
    "start_time": "2022-01-13T16:46:48.452Z"
   },
   {
    "duration": 19,
    "start_time": "2022-01-13T16:46:48.472Z"
   },
   {
    "duration": 39,
    "start_time": "2022-01-13T16:46:48.492Z"
   },
   {
    "duration": 650,
    "start_time": "2022-01-14T06:18:07.363Z"
   },
   {
    "duration": 19,
    "start_time": "2022-01-14T06:18:08.015Z"
   },
   {
    "duration": 6,
    "start_time": "2022-01-14T06:18:08.038Z"
   },
   {
    "duration": 20,
    "start_time": "2022-01-14T06:18:08.045Z"
   },
   {
    "duration": 10,
    "start_time": "2022-01-14T06:18:08.066Z"
   },
   {
    "duration": 16,
    "start_time": "2022-01-14T06:18:08.078Z"
   },
   {
    "duration": 5,
    "start_time": "2022-01-14T06:18:08.097Z"
   },
   {
    "duration": 8,
    "start_time": "2022-01-14T06:18:08.103Z"
   },
   {
    "duration": 11,
    "start_time": "2022-01-14T06:18:08.113Z"
   },
   {
    "duration": 50,
    "start_time": "2022-01-14T06:18:08.126Z"
   },
   {
    "duration": 8,
    "start_time": "2022-01-14T06:18:08.178Z"
   },
   {
    "duration": 12,
    "start_time": "2022-01-14T06:18:08.187Z"
   },
   {
    "duration": 8,
    "start_time": "2022-01-14T06:18:08.201Z"
   },
   {
    "duration": 26,
    "start_time": "2022-01-14T06:18:08.211Z"
   },
   {
    "duration": 18,
    "start_time": "2022-01-14T06:18:08.238Z"
   },
   {
    "duration": 18,
    "start_time": "2022-01-14T06:18:08.257Z"
   },
   {
    "duration": 42,
    "start_time": "2022-01-14T06:18:08.277Z"
   },
   {
    "duration": 20,
    "start_time": "2022-01-14T06:18:08.321Z"
   },
   {
    "duration": 19,
    "start_time": "2022-01-14T06:18:08.342Z"
   },
   {
    "duration": 18,
    "start_time": "2022-01-14T06:18:08.364Z"
   },
   {
    "duration": 17,
    "start_time": "2022-01-14T06:18:08.384Z"
   },
   {
    "duration": 43,
    "start_time": "2022-01-14T06:18:08.404Z"
   },
   {
    "duration": 3549,
    "start_time": "2022-01-14T06:18:08.449Z"
   },
   {
    "duration": 12,
    "start_time": "2022-01-14T06:18:12.000Z"
   },
   {
    "duration": 36,
    "start_time": "2022-01-14T06:18:12.014Z"
   },
   {
    "duration": 31,
    "start_time": "2022-01-14T06:18:12.052Z"
   },
   {
    "duration": 25,
    "start_time": "2022-01-14T06:18:12.084Z"
   },
   {
    "duration": 31,
    "start_time": "2022-01-14T06:18:12.110Z"
   },
   {
    "duration": 40,
    "start_time": "2022-01-14T06:18:12.143Z"
   },
   {
    "duration": 52,
    "start_time": "2022-01-14T06:18:12.185Z"
   },
   {
    "duration": 44,
    "start_time": "2022-01-14T06:18:12.239Z"
   },
   {
    "duration": 54,
    "start_time": "2022-01-14T06:18:12.284Z"
   },
   {
    "duration": 44,
    "start_time": "2022-01-14T06:18:12.340Z"
   },
   {
    "duration": 36,
    "start_time": "2022-01-14T06:18:12.386Z"
   },
   {
    "duration": 59,
    "start_time": "2022-01-14T06:18:12.423Z"
   },
   {
    "duration": 43,
    "start_time": "2022-01-14T06:18:12.483Z"
   },
   {
    "duration": 317,
    "start_time": "2022-01-14T06:23:48.530Z"
   },
   {
    "duration": 685,
    "start_time": "2022-01-14T06:24:00.162Z"
   },
   {
    "duration": 23,
    "start_time": "2022-01-14T06:24:21.262Z"
   },
   {
    "duration": 20,
    "start_time": "2022-01-14T06:24:36.386Z"
   },
   {
    "duration": 20,
    "start_time": "2022-01-14T06:24:49.350Z"
   },
   {
    "duration": 260,
    "start_time": "2022-01-14T06:24:58.837Z"
   },
   {
    "duration": 19,
    "start_time": "2022-01-14T06:25:05.598Z"
   },
   {
    "duration": 22,
    "start_time": "2022-01-14T06:25:13.537Z"
   },
   {
    "duration": 22,
    "start_time": "2022-01-14T06:25:23.504Z"
   },
   {
    "duration": 693,
    "start_time": "2022-01-14T06:25:49.679Z"
   },
   {
    "duration": 18,
    "start_time": "2022-01-14T06:25:50.374Z"
   },
   {
    "duration": 6,
    "start_time": "2022-01-14T06:25:50.394Z"
   },
   {
    "duration": 12,
    "start_time": "2022-01-14T06:25:50.402Z"
   },
   {
    "duration": 12,
    "start_time": "2022-01-14T06:25:50.415Z"
   },
   {
    "duration": 33,
    "start_time": "2022-01-14T06:25:50.429Z"
   },
   {
    "duration": 5,
    "start_time": "2022-01-14T06:25:50.463Z"
   },
   {
    "duration": 7,
    "start_time": "2022-01-14T06:25:50.469Z"
   },
   {
    "duration": 14,
    "start_time": "2022-01-14T06:25:50.480Z"
   },
   {
    "duration": 25,
    "start_time": "2022-01-14T06:25:50.496Z"
   },
   {
    "duration": 8,
    "start_time": "2022-01-14T06:25:50.523Z"
   },
   {
    "duration": 13,
    "start_time": "2022-01-14T06:25:50.533Z"
   },
   {
    "duration": 5,
    "start_time": "2022-01-14T06:25:50.561Z"
   },
   {
    "duration": 15,
    "start_time": "2022-01-14T06:25:50.568Z"
   },
   {
    "duration": 8,
    "start_time": "2022-01-14T06:25:50.585Z"
   },
   {
    "duration": 12,
    "start_time": "2022-01-14T06:25:50.595Z"
   },
   {
    "duration": 22,
    "start_time": "2022-01-14T06:25:50.609Z"
   },
   {
    "duration": 43,
    "start_time": "2022-01-14T06:25:50.633Z"
   },
   {
    "duration": 15,
    "start_time": "2022-01-14T06:25:50.677Z"
   },
   {
    "duration": 15,
    "start_time": "2022-01-14T06:25:50.694Z"
   },
   {
    "duration": 7,
    "start_time": "2022-01-14T06:25:50.711Z"
   },
   {
    "duration": 9,
    "start_time": "2022-01-14T06:25:50.720Z"
   },
   {
    "duration": 3537,
    "start_time": "2022-01-14T06:25:50.731Z"
   },
   {
    "duration": 12,
    "start_time": "2022-01-14T06:25:54.270Z"
   },
   {
    "duration": 14,
    "start_time": "2022-01-14T06:25:54.283Z"
   },
   {
    "duration": 7,
    "start_time": "2022-01-14T06:25:54.298Z"
   },
   {
    "duration": 12,
    "start_time": "2022-01-14T06:25:54.309Z"
   },
   {
    "duration": 11,
    "start_time": "2022-01-14T06:25:54.323Z"
   },
   {
    "duration": 35,
    "start_time": "2022-01-14T06:25:54.335Z"
   },
   {
    "duration": 8,
    "start_time": "2022-01-14T06:25:54.372Z"
   },
   {
    "duration": 21,
    "start_time": "2022-01-14T06:25:54.381Z"
   },
   {
    "duration": 16,
    "start_time": "2022-01-14T06:25:54.404Z"
   },
   {
    "duration": 58,
    "start_time": "2022-01-14T06:25:54.422Z"
   },
   {
    "duration": 21,
    "start_time": "2022-01-14T06:25:54.482Z"
   },
   {
    "duration": 24,
    "start_time": "2022-01-14T06:25:54.504Z"
   },
   {
    "duration": 34,
    "start_time": "2022-01-14T06:25:54.529Z"
   },
   {
    "duration": 552,
    "start_time": "2022-01-16T11:53:14.877Z"
   },
   {
    "duration": 15,
    "start_time": "2022-01-16T11:53:15.431Z"
   },
   {
    "duration": 7,
    "start_time": "2022-01-16T11:53:15.447Z"
   },
   {
    "duration": 6,
    "start_time": "2022-01-16T11:53:15.455Z"
   },
   {
    "duration": 8,
    "start_time": "2022-01-16T11:53:15.462Z"
   },
   {
    "duration": 10,
    "start_time": "2022-01-16T11:53:15.472Z"
   },
   {
    "duration": 3,
    "start_time": "2022-01-16T11:53:15.484Z"
   },
   {
    "duration": 3,
    "start_time": "2022-01-16T11:53:15.512Z"
   },
   {
    "duration": 10,
    "start_time": "2022-01-16T11:53:15.516Z"
   },
   {
    "duration": 17,
    "start_time": "2022-01-16T11:53:15.528Z"
   },
   {
    "duration": 10,
    "start_time": "2022-01-16T11:53:15.546Z"
   },
   {
    "duration": 12,
    "start_time": "2022-01-16T11:53:15.557Z"
   },
   {
    "duration": 5,
    "start_time": "2022-01-16T11:53:15.570Z"
   },
   {
    "duration": 14,
    "start_time": "2022-01-16T11:53:15.576Z"
   },
   {
    "duration": 26,
    "start_time": "2022-01-16T11:53:15.591Z"
   },
   {
    "duration": 8,
    "start_time": "2022-01-16T11:53:15.619Z"
   },
   {
    "duration": 17,
    "start_time": "2022-01-16T11:53:15.628Z"
   },
   {
    "duration": 15,
    "start_time": "2022-01-16T11:53:15.646Z"
   },
   {
    "duration": 13,
    "start_time": "2022-01-16T11:53:15.662Z"
   },
   {
    "duration": 21,
    "start_time": "2022-01-16T11:53:15.676Z"
   },
   {
    "duration": 18,
    "start_time": "2022-01-16T11:53:15.698Z"
   },
   {
    "duration": 6,
    "start_time": "2022-01-16T11:53:15.717Z"
   },
   {
    "duration": 2893,
    "start_time": "2022-01-16T11:53:15.725Z"
   },
   {
    "duration": 11,
    "start_time": "2022-01-16T11:53:18.620Z"
   },
   {
    "duration": 8,
    "start_time": "2022-01-16T11:53:18.632Z"
   },
   {
    "duration": 5,
    "start_time": "2022-01-16T11:53:18.642Z"
   },
   {
    "duration": 9,
    "start_time": "2022-01-16T11:53:18.648Z"
   },
   {
    "duration": 9,
    "start_time": "2022-01-16T11:53:18.659Z"
   },
   {
    "duration": 10,
    "start_time": "2022-01-16T11:53:18.670Z"
   },
   {
    "duration": 33,
    "start_time": "2022-01-16T11:53:18.682Z"
   },
   {
    "duration": 12,
    "start_time": "2022-01-16T11:53:18.716Z"
   },
   {
    "duration": 16,
    "start_time": "2022-01-16T11:53:18.729Z"
   },
   {
    "duration": 19,
    "start_time": "2022-01-16T11:53:18.746Z"
   },
   {
    "duration": 16,
    "start_time": "2022-01-16T11:53:18.767Z"
   },
   {
    "duration": 17,
    "start_time": "2022-01-16T11:53:18.812Z"
   },
   {
    "duration": 19,
    "start_time": "2022-01-16T11:53:18.830Z"
   },
   {
    "duration": 3,
    "start_time": "2022-01-16T12:14:33.728Z"
   },
   {
    "duration": 3,
    "start_time": "2022-01-16T12:17:11.758Z"
   },
   {
    "duration": 618,
    "start_time": "2022-01-16T12:28:34.984Z"
   },
   {
    "duration": 16,
    "start_time": "2022-01-16T12:28:35.604Z"
   },
   {
    "duration": 9,
    "start_time": "2022-01-16T12:28:35.623Z"
   },
   {
    "duration": 12,
    "start_time": "2022-01-16T12:28:35.634Z"
   },
   {
    "duration": 11,
    "start_time": "2022-01-16T12:28:35.647Z"
   },
   {
    "duration": 10,
    "start_time": "2022-01-16T12:28:35.660Z"
   },
   {
    "duration": 4,
    "start_time": "2022-01-16T12:28:35.672Z"
   },
   {
    "duration": 5,
    "start_time": "2022-01-16T12:28:35.677Z"
   },
   {
    "duration": 10,
    "start_time": "2022-01-16T12:28:35.683Z"
   },
   {
    "duration": 35,
    "start_time": "2022-01-16T12:28:35.694Z"
   },
   {
    "duration": 7,
    "start_time": "2022-01-16T12:28:35.730Z"
   },
   {
    "duration": 8,
    "start_time": "2022-01-16T12:28:35.738Z"
   },
   {
    "duration": 5,
    "start_time": "2022-01-16T12:28:35.748Z"
   },
   {
    "duration": 13,
    "start_time": "2022-01-16T12:28:35.754Z"
   },
   {
    "duration": 6,
    "start_time": "2022-01-16T12:28:35.768Z"
   },
   {
    "duration": 9,
    "start_time": "2022-01-16T12:28:35.776Z"
   },
   {
    "duration": 42,
    "start_time": "2022-01-16T12:28:35.786Z"
   },
   {
    "duration": 15,
    "start_time": "2022-01-16T12:28:35.829Z"
   },
   {
    "duration": 12,
    "start_time": "2022-01-16T12:28:35.845Z"
   },
   {
    "duration": 3,
    "start_time": "2022-01-16T12:28:35.859Z"
   },
   {
    "duration": 7,
    "start_time": "2022-01-16T12:28:35.863Z"
   },
   {
    "duration": 3,
    "start_time": "2022-01-16T12:28:35.873Z"
   },
   {
    "duration": 3083,
    "start_time": "2022-01-16T12:28:35.877Z"
   },
   {
    "duration": 11,
    "start_time": "2022-01-16T12:28:38.962Z"
   },
   {
    "duration": 9,
    "start_time": "2022-01-16T12:28:38.974Z"
   },
   {
    "duration": 7,
    "start_time": "2022-01-16T12:28:38.984Z"
   },
   {
    "duration": 27,
    "start_time": "2022-01-16T12:28:38.992Z"
   },
   {
    "duration": 10,
    "start_time": "2022-01-16T12:28:39.021Z"
   },
   {
    "duration": 14,
    "start_time": "2022-01-16T12:28:39.032Z"
   },
   {
    "duration": 7,
    "start_time": "2022-01-16T12:28:39.047Z"
   },
   {
    "duration": 12,
    "start_time": "2022-01-16T12:28:39.055Z"
   },
   {
    "duration": 17,
    "start_time": "2022-01-16T12:28:39.069Z"
   },
   {
    "duration": 42,
    "start_time": "2022-01-16T12:28:39.087Z"
   },
   {
    "duration": 18,
    "start_time": "2022-01-16T12:28:39.130Z"
   },
   {
    "duration": 18,
    "start_time": "2022-01-16T12:28:39.149Z"
   },
   {
    "duration": 17,
    "start_time": "2022-01-16T12:28:39.168Z"
   },
   {
    "duration": 653,
    "start_time": "2022-01-16T13:22:36.275Z"
   },
   {
    "duration": 585,
    "start_time": "2022-01-16T13:28:12.772Z"
   },
   {
    "duration": 17,
    "start_time": "2022-01-16T13:28:13.359Z"
   },
   {
    "duration": 12,
    "start_time": "2022-01-16T13:28:13.378Z"
   },
   {
    "duration": 6,
    "start_time": "2022-01-16T13:28:13.392Z"
   },
   {
    "duration": 9,
    "start_time": "2022-01-16T13:28:13.400Z"
   },
   {
    "duration": 32,
    "start_time": "2022-01-16T13:28:13.411Z"
   },
   {
    "duration": 5,
    "start_time": "2022-01-16T13:28:13.444Z"
   },
   {
    "duration": 21,
    "start_time": "2022-01-16T13:28:13.450Z"
   },
   {
    "duration": 20,
    "start_time": "2022-01-16T13:28:13.473Z"
   },
   {
    "duration": 25,
    "start_time": "2022-01-16T13:28:13.495Z"
   },
   {
    "duration": 36,
    "start_time": "2022-01-16T13:28:13.522Z"
   },
   {
    "duration": 19,
    "start_time": "2022-01-16T13:28:13.560Z"
   },
   {
    "duration": 16,
    "start_time": "2022-01-16T13:28:13.580Z"
   },
   {
    "duration": 32,
    "start_time": "2022-01-16T13:28:13.598Z"
   },
   {
    "duration": 8,
    "start_time": "2022-01-16T13:28:13.632Z"
   },
   {
    "duration": 18,
    "start_time": "2022-01-16T13:28:13.641Z"
   },
   {
    "duration": 35,
    "start_time": "2022-01-16T13:28:13.661Z"
   },
   {
    "duration": 18,
    "start_time": "2022-01-16T13:28:13.698Z"
   },
   {
    "duration": 15,
    "start_time": "2022-01-16T13:28:13.718Z"
   },
   {
    "duration": 3,
    "start_time": "2022-01-16T13:28:13.734Z"
   },
   {
    "duration": 8,
    "start_time": "2022-01-16T13:28:13.740Z"
   },
   {
    "duration": 9,
    "start_time": "2022-01-16T13:28:13.749Z"
   },
   {
    "duration": 3371,
    "start_time": "2022-01-16T13:28:13.759Z"
   },
   {
    "duration": 12,
    "start_time": "2022-01-16T13:28:17.142Z"
   },
   {
    "duration": 10,
    "start_time": "2022-01-16T13:28:17.156Z"
   },
   {
    "duration": 8,
    "start_time": "2022-01-16T13:28:17.168Z"
   },
   {
    "duration": 12,
    "start_time": "2022-01-16T13:28:17.179Z"
   },
   {
    "duration": 11,
    "start_time": "2022-01-16T13:28:17.193Z"
   },
   {
    "duration": 36,
    "start_time": "2022-01-16T13:28:17.206Z"
   },
   {
    "duration": 4,
    "start_time": "2022-01-16T13:28:17.243Z"
   },
   {
    "duration": 12,
    "start_time": "2022-01-16T13:28:17.249Z"
   },
   {
    "duration": 17,
    "start_time": "2022-01-16T13:28:17.263Z"
   },
   {
    "duration": 24,
    "start_time": "2022-01-16T13:28:17.281Z"
   },
   {
    "duration": 51,
    "start_time": "2022-01-16T13:28:17.307Z"
   },
   {
    "duration": 20,
    "start_time": "2022-01-16T13:28:17.359Z"
   },
   {
    "duration": 19,
    "start_time": "2022-01-16T13:28:17.380Z"
   },
   {
    "duration": 73,
    "start_time": "2022-01-16T14:48:08.297Z"
   },
   {
    "duration": 299,
    "start_time": "2022-01-16T14:48:26.882Z"
   },
   {
    "duration": 86,
    "start_time": "2022-01-16T14:49:34.397Z"
   },
   {
    "duration": 234,
    "start_time": "2022-01-16T14:49:41.883Z"
   },
   {
    "duration": 7,
    "start_time": "2022-01-16T14:50:07.002Z"
   },
   {
    "duration": 241,
    "start_time": "2022-01-16T14:50:22.635Z"
   },
   {
    "duration": 305,
    "start_time": "2022-01-16T14:52:49.316Z"
   },
   {
    "duration": 8,
    "start_time": "2022-01-16T14:53:14.282Z"
   },
   {
    "duration": 10,
    "start_time": "2022-01-16T14:53:27.169Z"
   },
   {
    "duration": 291,
    "start_time": "2022-01-16T14:54:41.911Z"
   },
   {
    "duration": 11,
    "start_time": "2022-01-16T14:54:46.626Z"
   },
   {
    "duration": 12,
    "start_time": "2022-01-16T14:55:18.817Z"
   },
   {
    "duration": 10,
    "start_time": "2022-01-16T14:55:30.493Z"
   },
   {
    "duration": 11,
    "start_time": "2022-01-16T14:55:43.027Z"
   },
   {
    "duration": 274,
    "start_time": "2022-01-16T14:56:53.734Z"
   },
   {
    "duration": 12,
    "start_time": "2022-01-16T14:57:47.784Z"
   },
   {
    "duration": 9,
    "start_time": "2022-01-16T14:58:32.730Z"
   },
   {
    "duration": 9,
    "start_time": "2022-01-16T14:58:57.963Z"
   },
   {
    "duration": 628,
    "start_time": "2022-01-16T14:59:12.296Z"
   },
   {
    "duration": 18,
    "start_time": "2022-01-16T14:59:12.926Z"
   },
   {
    "duration": 22,
    "start_time": "2022-01-16T14:59:12.946Z"
   },
   {
    "duration": 26,
    "start_time": "2022-01-16T14:59:12.970Z"
   },
   {
    "duration": 19,
    "start_time": "2022-01-16T14:59:12.998Z"
   },
   {
    "duration": 42,
    "start_time": "2022-01-16T14:59:13.018Z"
   },
   {
    "duration": 20,
    "start_time": "2022-01-16T14:59:13.062Z"
   },
   {
    "duration": 17,
    "start_time": "2022-01-16T14:59:13.083Z"
   },
   {
    "duration": 36,
    "start_time": "2022-01-16T14:59:13.104Z"
   },
   {
    "duration": 23,
    "start_time": "2022-01-16T14:59:13.142Z"
   },
   {
    "duration": 8,
    "start_time": "2022-01-16T14:59:13.167Z"
   },
   {
    "duration": 24,
    "start_time": "2022-01-16T14:59:13.176Z"
   },
   {
    "duration": 30,
    "start_time": "2022-01-16T14:59:13.201Z"
   },
   {
    "duration": 25,
    "start_time": "2022-01-16T14:59:13.233Z"
   },
   {
    "duration": 7,
    "start_time": "2022-01-16T14:59:13.260Z"
   },
   {
    "duration": 13,
    "start_time": "2022-01-16T14:59:13.268Z"
   },
   {
    "duration": 23,
    "start_time": "2022-01-16T14:59:13.283Z"
   },
   {
    "duration": 17,
    "start_time": "2022-01-16T14:59:13.308Z"
   },
   {
    "duration": 22,
    "start_time": "2022-01-16T14:59:13.327Z"
   },
   {
    "duration": 2,
    "start_time": "2022-01-16T14:59:13.351Z"
   },
   {
    "duration": 12,
    "start_time": "2022-01-16T14:59:13.354Z"
   },
   {
    "duration": 6,
    "start_time": "2022-01-16T14:59:13.368Z"
   },
   {
    "duration": 3749,
    "start_time": "2022-01-16T14:59:13.376Z"
   },
   {
    "duration": 25,
    "start_time": "2022-01-16T14:59:17.127Z"
   },
   {
    "duration": 15,
    "start_time": "2022-01-16T14:59:17.154Z"
   },
   {
    "duration": 9,
    "start_time": "2022-01-16T14:59:17.170Z"
   },
   {
    "duration": 14,
    "start_time": "2022-01-16T14:59:17.183Z"
   },
   {
    "duration": 11,
    "start_time": "2022-01-16T14:59:17.199Z"
   },
   {
    "duration": 36,
    "start_time": "2022-01-16T14:59:17.211Z"
   },
   {
    "duration": 11,
    "start_time": "2022-01-16T14:59:17.248Z"
   },
   {
    "duration": 12,
    "start_time": "2022-01-16T14:59:17.261Z"
   },
   {
    "duration": 18,
    "start_time": "2022-01-16T14:59:17.275Z"
   },
   {
    "duration": 24,
    "start_time": "2022-01-16T14:59:17.295Z"
   },
   {
    "duration": 38,
    "start_time": "2022-01-16T14:59:17.321Z"
   },
   {
    "duration": 20,
    "start_time": "2022-01-16T14:59:17.361Z"
   },
   {
    "duration": 21,
    "start_time": "2022-01-16T14:59:17.383Z"
   },
   {
    "duration": 12,
    "start_time": "2022-01-16T15:00:37.237Z"
   },
   {
    "duration": 11,
    "start_time": "2022-01-16T15:00:42.958Z"
   },
   {
    "duration": 636,
    "start_time": "2022-01-16T15:00:56.659Z"
   },
   {
    "duration": 17,
    "start_time": "2022-01-16T15:00:57.297Z"
   },
   {
    "duration": 5,
    "start_time": "2022-01-16T15:00:57.318Z"
   },
   {
    "duration": 9,
    "start_time": "2022-01-16T15:00:57.325Z"
   },
   {
    "duration": 10,
    "start_time": "2022-01-16T15:00:57.341Z"
   },
   {
    "duration": 16,
    "start_time": "2022-01-16T15:00:57.353Z"
   },
   {
    "duration": 10,
    "start_time": "2022-01-16T15:00:57.370Z"
   },
   {
    "duration": 3,
    "start_time": "2022-01-16T15:00:57.383Z"
   },
   {
    "duration": 15,
    "start_time": "2022-01-16T15:00:57.388Z"
   },
   {
    "duration": 47,
    "start_time": "2022-01-16T15:00:57.405Z"
   },
   {
    "duration": 10,
    "start_time": "2022-01-16T15:00:57.454Z"
   },
   {
    "duration": 9,
    "start_time": "2022-01-16T15:00:57.466Z"
   },
   {
    "duration": 303,
    "start_time": "2022-01-16T15:00:57.477Z"
   },
   {
    "duration": -244,
    "start_time": "2022-01-16T15:00:58.027Z"
   },
   {
    "duration": -252,
    "start_time": "2022-01-16T15:00:58.036Z"
   },
   {
    "duration": -254,
    "start_time": "2022-01-16T15:00:58.039Z"
   },
   {
    "duration": -254,
    "start_time": "2022-01-16T15:00:58.040Z"
   },
   {
    "duration": -256,
    "start_time": "2022-01-16T15:00:58.042Z"
   },
   {
    "duration": -257,
    "start_time": "2022-01-16T15:00:58.044Z"
   },
   {
    "duration": -262,
    "start_time": "2022-01-16T15:00:58.050Z"
   },
   {
    "duration": -263,
    "start_time": "2022-01-16T15:00:58.052Z"
   },
   {
    "duration": -266,
    "start_time": "2022-01-16T15:00:58.055Z"
   },
   {
    "duration": -266,
    "start_time": "2022-01-16T15:00:58.056Z"
   },
   {
    "duration": -267,
    "start_time": "2022-01-16T15:00:58.058Z"
   },
   {
    "duration": -268,
    "start_time": "2022-01-16T15:00:58.060Z"
   },
   {
    "duration": -274,
    "start_time": "2022-01-16T15:00:58.066Z"
   },
   {
    "duration": -275,
    "start_time": "2022-01-16T15:00:58.068Z"
   },
   {
    "duration": -276,
    "start_time": "2022-01-16T15:00:58.070Z"
   },
   {
    "duration": -277,
    "start_time": "2022-01-16T15:00:58.072Z"
   },
   {
    "duration": -278,
    "start_time": "2022-01-16T15:00:58.073Z"
   },
   {
    "duration": -279,
    "start_time": "2022-01-16T15:00:58.075Z"
   },
   {
    "duration": -280,
    "start_time": "2022-01-16T15:00:58.077Z"
   },
   {
    "duration": -285,
    "start_time": "2022-01-16T15:00:58.083Z"
   },
   {
    "duration": -286,
    "start_time": "2022-01-16T15:00:58.085Z"
   },
   {
    "duration": -286,
    "start_time": "2022-01-16T15:00:58.086Z"
   },
   {
    "duration": -288,
    "start_time": "2022-01-16T15:00:58.088Z"
   },
   {
    "duration": 11,
    "start_time": "2022-01-16T15:02:11.041Z"
   },
   {
    "duration": 660,
    "start_time": "2022-01-16T15:02:16.777Z"
   },
   {
    "duration": 18,
    "start_time": "2022-01-16T15:02:17.439Z"
   },
   {
    "duration": 13,
    "start_time": "2022-01-16T15:02:17.459Z"
   },
   {
    "duration": 12,
    "start_time": "2022-01-16T15:02:17.473Z"
   },
   {
    "duration": 14,
    "start_time": "2022-01-16T15:02:17.486Z"
   },
   {
    "duration": 13,
    "start_time": "2022-01-16T15:02:17.501Z"
   },
   {
    "duration": 31,
    "start_time": "2022-01-16T15:02:17.516Z"
   },
   {
    "duration": 4,
    "start_time": "2022-01-16T15:02:17.548Z"
   },
   {
    "duration": 10,
    "start_time": "2022-01-16T15:02:17.555Z"
   },
   {
    "duration": 22,
    "start_time": "2022-01-16T15:02:17.567Z"
   },
   {
    "duration": 8,
    "start_time": "2022-01-16T15:02:17.591Z"
   },
   {
    "duration": 14,
    "start_time": "2022-01-16T15:02:17.601Z"
   },
   {
    "duration": 27,
    "start_time": "2022-01-16T15:02:17.617Z"
   },
   {
    "duration": 17,
    "start_time": "2022-01-16T15:02:17.645Z"
   },
   {
    "duration": 7,
    "start_time": "2022-01-16T15:02:17.663Z"
   },
   {
    "duration": 14,
    "start_time": "2022-01-16T15:02:17.671Z"
   },
   {
    "duration": 19,
    "start_time": "2022-01-16T15:02:17.686Z"
   },
   {
    "duration": 43,
    "start_time": "2022-01-16T15:02:17.706Z"
   },
   {
    "duration": 15,
    "start_time": "2022-01-16T15:02:17.751Z"
   },
   {
    "duration": 3,
    "start_time": "2022-01-16T15:02:17.768Z"
   },
   {
    "duration": 11,
    "start_time": "2022-01-16T15:02:17.772Z"
   },
   {
    "duration": 6,
    "start_time": "2022-01-16T15:02:17.785Z"
   },
   {
    "duration": 3482,
    "start_time": "2022-01-16T15:02:17.793Z"
   },
   {
    "duration": 12,
    "start_time": "2022-01-16T15:02:21.278Z"
   },
   {
    "duration": 20,
    "start_time": "2022-01-16T15:02:21.291Z"
   },
   {
    "duration": 7,
    "start_time": "2022-01-16T15:02:21.313Z"
   },
   {
    "duration": 22,
    "start_time": "2022-01-16T15:02:21.324Z"
   },
   {
    "duration": 19,
    "start_time": "2022-01-16T15:02:21.349Z"
   },
   {
    "duration": 14,
    "start_time": "2022-01-16T15:02:21.370Z"
   },
   {
    "duration": 13,
    "start_time": "2022-01-16T15:02:21.386Z"
   },
   {
    "duration": 15,
    "start_time": "2022-01-16T15:02:21.401Z"
   },
   {
    "duration": 33,
    "start_time": "2022-01-16T15:02:21.418Z"
   },
   {
    "duration": 26,
    "start_time": "2022-01-16T15:02:21.453Z"
   },
   {
    "duration": 20,
    "start_time": "2022-01-16T15:02:21.481Z"
   },
   {
    "duration": 46,
    "start_time": "2022-01-16T15:02:21.503Z"
   },
   {
    "duration": 22,
    "start_time": "2022-01-16T15:02:21.551Z"
   },
   {
    "duration": 7,
    "start_time": "2022-01-16T15:03:06.376Z"
   },
   {
    "duration": 686,
    "start_time": "2022-01-16T15:09:13.468Z"
   },
   {
    "duration": 18,
    "start_time": "2022-01-16T15:09:14.156Z"
   },
   {
    "duration": 20,
    "start_time": "2022-01-16T15:09:14.176Z"
   },
   {
    "duration": 24,
    "start_time": "2022-01-16T15:09:14.198Z"
   },
   {
    "duration": 43,
    "start_time": "2022-01-16T15:09:14.224Z"
   },
   {
    "duration": 21,
    "start_time": "2022-01-16T15:09:14.269Z"
   },
   {
    "duration": 17,
    "start_time": "2022-01-16T15:09:14.292Z"
   },
   {
    "duration": 27,
    "start_time": "2022-01-16T15:09:14.312Z"
   },
   {
    "duration": 19,
    "start_time": "2022-01-16T15:09:14.342Z"
   },
   {
    "duration": 37,
    "start_time": "2022-01-16T15:09:14.362Z"
   },
   {
    "duration": 27,
    "start_time": "2022-01-16T15:09:14.401Z"
   },
   {
    "duration": 21,
    "start_time": "2022-01-16T15:09:14.430Z"
   },
   {
    "duration": 21,
    "start_time": "2022-01-16T15:09:14.453Z"
   },
   {
    "duration": 38,
    "start_time": "2022-01-16T15:09:14.476Z"
   },
   {
    "duration": 14,
    "start_time": "2022-01-16T15:09:14.516Z"
   },
   {
    "duration": 33,
    "start_time": "2022-01-16T15:09:14.531Z"
   },
   {
    "duration": 36,
    "start_time": "2022-01-16T15:09:14.566Z"
   },
   {
    "duration": 32,
    "start_time": "2022-01-16T15:09:14.604Z"
   },
   {
    "duration": 32,
    "start_time": "2022-01-16T15:09:14.638Z"
   },
   {
    "duration": 2,
    "start_time": "2022-01-16T15:09:14.673Z"
   },
   {
    "duration": 11,
    "start_time": "2022-01-16T15:09:14.677Z"
   },
   {
    "duration": 4,
    "start_time": "2022-01-16T15:09:14.690Z"
   },
   {
    "duration": 3531,
    "start_time": "2022-01-16T15:09:14.697Z"
   },
   {
    "duration": 20,
    "start_time": "2022-01-16T15:09:18.231Z"
   },
   {
    "duration": 12,
    "start_time": "2022-01-16T15:09:18.253Z"
   },
   {
    "duration": 12,
    "start_time": "2022-01-16T15:09:18.267Z"
   },
   {
    "duration": 22,
    "start_time": "2022-01-16T15:09:18.280Z"
   },
   {
    "duration": 25,
    "start_time": "2022-01-16T15:09:18.304Z"
   },
   {
    "duration": 16,
    "start_time": "2022-01-16T15:09:18.331Z"
   },
   {
    "duration": 16,
    "start_time": "2022-01-16T15:09:18.349Z"
   },
   {
    "duration": 14,
    "start_time": "2022-01-16T15:09:18.367Z"
   },
   {
    "duration": 23,
    "start_time": "2022-01-16T15:09:18.383Z"
   },
   {
    "duration": 43,
    "start_time": "2022-01-16T15:09:18.408Z"
   },
   {
    "duration": 21,
    "start_time": "2022-01-16T15:09:18.452Z"
   },
   {
    "duration": 22,
    "start_time": "2022-01-16T15:09:18.475Z"
   },
   {
    "duration": 43,
    "start_time": "2022-01-16T15:09:18.499Z"
   },
   {
    "duration": 8,
    "start_time": "2022-01-16T15:10:25.197Z"
   },
   {
    "duration": 1752,
    "start_time": "2022-01-16T15:19:37.879Z"
   },
   {
    "duration": 256,
    "start_time": "2022-01-16T15:47:45.967Z"
   },
   {
    "duration": 234,
    "start_time": "2022-01-16T15:48:02.389Z"
   },
   {
    "duration": 18,
    "start_time": "2022-01-16T15:48:29.977Z"
   },
   {
    "duration": 20,
    "start_time": "2022-01-16T15:48:54.778Z"
   },
   {
    "duration": 20,
    "start_time": "2022-01-16T15:50:06.401Z"
   },
   {
    "duration": 19,
    "start_time": "2022-01-16T15:50:24.349Z"
   },
   {
    "duration": 647,
    "start_time": "2022-01-16T15:50:37.535Z"
   },
   {
    "duration": 18,
    "start_time": "2022-01-16T15:50:38.184Z"
   },
   {
    "duration": 10,
    "start_time": "2022-01-16T15:50:38.204Z"
   },
   {
    "duration": 10,
    "start_time": "2022-01-16T15:50:38.216Z"
   },
   {
    "duration": 23,
    "start_time": "2022-01-16T15:50:38.227Z"
   },
   {
    "duration": 11,
    "start_time": "2022-01-16T15:50:38.252Z"
   },
   {
    "duration": 10,
    "start_time": "2022-01-16T15:50:38.265Z"
   },
   {
    "duration": 3,
    "start_time": "2022-01-16T15:50:38.277Z"
   },
   {
    "duration": 17,
    "start_time": "2022-01-16T15:50:38.282Z"
   },
   {
    "duration": 27,
    "start_time": "2022-01-16T15:50:38.300Z"
   },
   {
    "duration": 17,
    "start_time": "2022-01-16T15:50:38.329Z"
   },
   {
    "duration": 13,
    "start_time": "2022-01-16T15:50:38.347Z"
   },
   {
    "duration": 17,
    "start_time": "2022-01-16T15:50:38.362Z"
   },
   {
    "duration": 18,
    "start_time": "2022-01-16T15:50:38.380Z"
   },
   {
    "duration": 3,
    "start_time": "2022-01-16T15:50:38.400Z"
   },
   {
    "duration": 25,
    "start_time": "2022-01-16T15:50:38.404Z"
   },
   {
    "duration": 18,
    "start_time": "2022-01-16T15:50:38.430Z"
   },
   {
    "duration": 15,
    "start_time": "2022-01-16T15:50:38.450Z"
   },
   {
    "duration": 19,
    "start_time": "2022-01-16T15:50:38.467Z"
   },
   {
    "duration": 15,
    "start_time": "2022-01-16T15:50:38.487Z"
   },
   {
    "duration": 3,
    "start_time": "2022-01-16T15:50:38.503Z"
   },
   {
    "duration": 322,
    "start_time": "2022-01-16T15:50:38.507Z"
   },
   {
    "duration": -341,
    "start_time": "2022-01-16T15:50:39.173Z"
   },
   {
    "duration": -342,
    "start_time": "2022-01-16T15:50:39.175Z"
   },
   {
    "duration": -343,
    "start_time": "2022-01-16T15:50:39.177Z"
   },
   {
    "duration": -345,
    "start_time": "2022-01-16T15:50:39.179Z"
   },
   {
    "duration": -346,
    "start_time": "2022-01-16T15:50:39.181Z"
   },
   {
    "duration": -346,
    "start_time": "2022-01-16T15:50:39.182Z"
   },
   {
    "duration": -347,
    "start_time": "2022-01-16T15:50:39.184Z"
   },
   {
    "duration": -349,
    "start_time": "2022-01-16T15:50:39.187Z"
   },
   {
    "duration": -350,
    "start_time": "2022-01-16T15:50:39.189Z"
   },
   {
    "duration": -350,
    "start_time": "2022-01-16T15:50:39.190Z"
   },
   {
    "duration": -352,
    "start_time": "2022-01-16T15:50:39.192Z"
   },
   {
    "duration": -353,
    "start_time": "2022-01-16T15:50:39.194Z"
   },
   {
    "duration": -353,
    "start_time": "2022-01-16T15:50:39.195Z"
   },
   {
    "duration": -357,
    "start_time": "2022-01-16T15:50:39.200Z"
   },
   {
    "duration": -359,
    "start_time": "2022-01-16T15:50:39.202Z"
   },
   {
    "duration": 7,
    "start_time": "2022-01-16T15:51:06.135Z"
   },
   {
    "duration": 17,
    "start_time": "2022-01-16T15:51:37.668Z"
   },
   {
    "duration": 17,
    "start_time": "2022-01-16T15:52:44.514Z"
   },
   {
    "duration": 16,
    "start_time": "2022-01-16T15:52:48.351Z"
   },
   {
    "duration": 1020,
    "start_time": "2022-01-16T15:52:58.217Z"
   },
   {
    "duration": 18,
    "start_time": "2022-01-16T15:52:59.239Z"
   },
   {
    "duration": 28,
    "start_time": "2022-01-16T15:52:59.259Z"
   },
   {
    "duration": 36,
    "start_time": "2022-01-16T15:52:59.288Z"
   },
   {
    "duration": 29,
    "start_time": "2022-01-16T15:52:59.325Z"
   },
   {
    "duration": 21,
    "start_time": "2022-01-16T15:52:59.355Z"
   },
   {
    "duration": 14,
    "start_time": "2022-01-16T15:52:59.378Z"
   },
   {
    "duration": 33,
    "start_time": "2022-01-16T15:52:59.393Z"
   },
   {
    "duration": 16,
    "start_time": "2022-01-16T15:52:59.429Z"
   },
   {
    "duration": 39,
    "start_time": "2022-01-16T15:52:59.447Z"
   },
   {
    "duration": 22,
    "start_time": "2022-01-16T15:52:59.488Z"
   },
   {
    "duration": 27,
    "start_time": "2022-01-16T15:52:59.512Z"
   },
   {
    "duration": 14,
    "start_time": "2022-01-16T15:52:59.541Z"
   },
   {
    "duration": 33,
    "start_time": "2022-01-16T15:52:59.557Z"
   },
   {
    "duration": 16,
    "start_time": "2022-01-16T15:52:59.591Z"
   },
   {
    "duration": 35,
    "start_time": "2022-01-16T15:52:59.609Z"
   },
   {
    "duration": 26,
    "start_time": "2022-01-16T15:52:59.645Z"
   },
   {
    "duration": 19,
    "start_time": "2022-01-16T15:52:59.672Z"
   },
   {
    "duration": 21,
    "start_time": "2022-01-16T15:52:59.692Z"
   },
   {
    "duration": 19,
    "start_time": "2022-01-16T15:52:59.715Z"
   },
   {
    "duration": 11,
    "start_time": "2022-01-16T15:52:59.735Z"
   },
   {
    "duration": 355,
    "start_time": "2022-01-16T15:52:59.748Z"
   },
   {
    "duration": -351,
    "start_time": "2022-01-16T15:53:00.457Z"
   },
   {
    "duration": -352,
    "start_time": "2022-01-16T15:53:00.459Z"
   },
   {
    "duration": -354,
    "start_time": "2022-01-16T15:53:00.462Z"
   },
   {
    "duration": -360,
    "start_time": "2022-01-16T15:53:00.468Z"
   },
   {
    "duration": -360,
    "start_time": "2022-01-16T15:53:00.470Z"
   },
   {
    "duration": -362,
    "start_time": "2022-01-16T15:53:00.472Z"
   },
   {
    "duration": -363,
    "start_time": "2022-01-16T15:53:00.474Z"
   },
   {
    "duration": -364,
    "start_time": "2022-01-16T15:53:00.476Z"
   },
   {
    "duration": -364,
    "start_time": "2022-01-16T15:53:00.477Z"
   },
   {
    "duration": -365,
    "start_time": "2022-01-16T15:53:00.479Z"
   },
   {
    "duration": -365,
    "start_time": "2022-01-16T15:53:00.480Z"
   },
   {
    "duration": -366,
    "start_time": "2022-01-16T15:53:00.482Z"
   },
   {
    "duration": -371,
    "start_time": "2022-01-16T15:53:00.488Z"
   },
   {
    "duration": -372,
    "start_time": "2022-01-16T15:53:00.490Z"
   },
   {
    "duration": -373,
    "start_time": "2022-01-16T15:53:00.492Z"
   },
   {
    "duration": 314,
    "start_time": "2022-01-16T15:58:34.457Z"
   },
   {
    "duration": 640,
    "start_time": "2022-01-16T15:59:12.520Z"
   },
   {
    "duration": 18,
    "start_time": "2022-01-16T15:59:13.162Z"
   },
   {
    "duration": 7,
    "start_time": "2022-01-16T15:59:13.183Z"
   },
   {
    "duration": 18,
    "start_time": "2022-01-16T15:59:13.191Z"
   },
   {
    "duration": 11,
    "start_time": "2022-01-16T15:59:13.210Z"
   },
   {
    "duration": 19,
    "start_time": "2022-01-16T15:59:13.223Z"
   },
   {
    "duration": 6,
    "start_time": "2022-01-16T15:59:13.245Z"
   },
   {
    "duration": 4,
    "start_time": "2022-01-16T15:59:13.252Z"
   },
   {
    "duration": 13,
    "start_time": "2022-01-16T15:59:13.257Z"
   },
   {
    "duration": 23,
    "start_time": "2022-01-16T15:59:13.272Z"
   },
   {
    "duration": 8,
    "start_time": "2022-01-16T15:59:13.296Z"
   },
   {
    "duration": 12,
    "start_time": "2022-01-16T15:59:13.306Z"
   },
   {
    "duration": 5,
    "start_time": "2022-01-16T15:59:13.341Z"
   },
   {
    "duration": 18,
    "start_time": "2022-01-16T15:59:13.347Z"
   },
   {
    "duration": 3,
    "start_time": "2022-01-16T15:59:13.367Z"
   },
   {
    "duration": 27,
    "start_time": "2022-01-16T15:59:13.372Z"
   },
   {
    "duration": 13,
    "start_time": "2022-01-16T15:59:13.401Z"
   },
   {
    "duration": 31,
    "start_time": "2022-01-16T15:59:13.416Z"
   },
   {
    "duration": 20,
    "start_time": "2022-01-16T15:59:13.449Z"
   },
   {
    "duration": 15,
    "start_time": "2022-01-16T15:59:13.470Z"
   },
   {
    "duration": 335,
    "start_time": "2022-01-16T15:59:13.487Z"
   },
   {
    "duration": -357,
    "start_time": "2022-01-16T15:59:14.182Z"
   },
   {
    "duration": -358,
    "start_time": "2022-01-16T15:59:14.184Z"
   },
   {
    "duration": -359,
    "start_time": "2022-01-16T15:59:14.186Z"
   },
   {
    "duration": -359,
    "start_time": "2022-01-16T15:59:14.187Z"
   },
   {
    "duration": -360,
    "start_time": "2022-01-16T15:59:14.189Z"
   },
   {
    "duration": -361,
    "start_time": "2022-01-16T15:59:14.191Z"
   },
   {
    "duration": -362,
    "start_time": "2022-01-16T15:59:14.193Z"
   },
   {
    "duration": -363,
    "start_time": "2022-01-16T15:59:14.195Z"
   },
   {
    "duration": -364,
    "start_time": "2022-01-16T15:59:14.197Z"
   },
   {
    "duration": -365,
    "start_time": "2022-01-16T15:59:14.199Z"
   },
   {
    "duration": -366,
    "start_time": "2022-01-16T15:59:14.201Z"
   },
   {
    "duration": -366,
    "start_time": "2022-01-16T15:59:14.202Z"
   },
   {
    "duration": -367,
    "start_time": "2022-01-16T15:59:14.204Z"
   },
   {
    "duration": -369,
    "start_time": "2022-01-16T15:59:14.207Z"
   },
   {
    "duration": -370,
    "start_time": "2022-01-16T15:59:14.209Z"
   },
   {
    "duration": 9,
    "start_time": "2022-01-16T16:02:02.181Z"
   },
   {
    "duration": 7,
    "start_time": "2022-01-16T16:04:06.769Z"
   },
   {
    "duration": 5,
    "start_time": "2022-01-16T16:04:35.280Z"
   },
   {
    "duration": 7,
    "start_time": "2022-01-16T16:04:44.389Z"
   },
   {
    "duration": 60,
    "start_time": "2022-01-16T16:06:38.061Z"
   },
   {
    "duration": 630,
    "start_time": "2022-01-16T16:07:25.630Z"
   },
   {
    "duration": 20,
    "start_time": "2022-01-16T16:07:31.191Z"
   },
   {
    "duration": 7,
    "start_time": "2022-01-16T16:07:34.339Z"
   },
   {
    "duration": 7,
    "start_time": "2022-01-16T16:07:39.058Z"
   },
   {
    "duration": 9,
    "start_time": "2022-01-16T16:07:49.265Z"
   },
   {
    "duration": 13,
    "start_time": "2022-01-16T16:07:53.888Z"
   },
   {
    "duration": 7,
    "start_time": "2022-01-16T16:07:59.628Z"
   },
   {
    "duration": 4,
    "start_time": "2022-01-16T16:08:09.039Z"
   },
   {
    "duration": 9,
    "start_time": "2022-01-16T16:08:12.448Z"
   },
   {
    "duration": 8,
    "start_time": "2022-01-16T16:08:20.238Z"
   },
   {
    "duration": 22,
    "start_time": "2022-01-16T16:08:32.242Z"
   },
   {
    "duration": 9,
    "start_time": "2022-01-16T16:08:35.205Z"
   },
   {
    "duration": 9,
    "start_time": "2022-01-16T16:08:36.959Z"
   },
   {
    "duration": 5,
    "start_time": "2022-01-16T16:08:40.184Z"
   },
   {
    "duration": 12,
    "start_time": "2022-01-16T16:08:41.288Z"
   },
   {
    "duration": 4,
    "start_time": "2022-01-16T16:08:45.858Z"
   },
   {
    "duration": 8,
    "start_time": "2022-01-16T16:08:52.674Z"
   },
   {
    "duration": 18,
    "start_time": "2022-01-16T16:09:04.170Z"
   },
   {
    "duration": 8,
    "start_time": "2022-01-16T16:09:11.735Z"
   },
   {
    "duration": 651,
    "start_time": "2022-01-16T16:09:55.104Z"
   },
   {
    "duration": 17,
    "start_time": "2022-01-16T16:09:55.757Z"
   },
   {
    "duration": 11,
    "start_time": "2022-01-16T16:09:55.776Z"
   },
   {
    "duration": 7,
    "start_time": "2022-01-16T16:09:55.789Z"
   },
   {
    "duration": 10,
    "start_time": "2022-01-16T16:09:55.797Z"
   },
   {
    "duration": 38,
    "start_time": "2022-01-16T16:09:55.809Z"
   },
   {
    "duration": 6,
    "start_time": "2022-01-16T16:09:55.849Z"
   },
   {
    "duration": 3,
    "start_time": "2022-01-16T16:09:55.856Z"
   },
   {
    "duration": 12,
    "start_time": "2022-01-16T16:09:55.862Z"
   },
   {
    "duration": 20,
    "start_time": "2022-01-16T16:09:55.876Z"
   },
   {
    "duration": 8,
    "start_time": "2022-01-16T16:09:55.897Z"
   },
   {
    "duration": 37,
    "start_time": "2022-01-16T16:09:55.906Z"
   },
   {
    "duration": 6,
    "start_time": "2022-01-16T16:09:55.945Z"
   },
   {
    "duration": 16,
    "start_time": "2022-01-16T16:09:55.953Z"
   },
   {
    "duration": 4,
    "start_time": "2022-01-16T16:10:06.526Z"
   },
   {
    "duration": 8,
    "start_time": "2022-01-16T16:10:12.818Z"
   },
   {
    "duration": 7,
    "start_time": "2022-01-16T16:10:40.271Z"
   },
   {
    "duration": 671,
    "start_time": "2022-01-16T16:11:31.530Z"
   },
   {
    "duration": 23,
    "start_time": "2022-01-16T16:11:32.203Z"
   },
   {
    "duration": 26,
    "start_time": "2022-01-16T16:11:32.228Z"
   },
   {
    "duration": 10,
    "start_time": "2022-01-16T16:11:32.256Z"
   },
   {
    "duration": 21,
    "start_time": "2022-01-16T16:11:32.267Z"
   },
   {
    "duration": 25,
    "start_time": "2022-01-16T16:11:32.289Z"
   },
   {
    "duration": 14,
    "start_time": "2022-01-16T16:11:32.316Z"
   },
   {
    "duration": 3,
    "start_time": "2022-01-16T16:11:32.331Z"
   },
   {
    "duration": 12,
    "start_time": "2022-01-16T16:11:32.337Z"
   },
   {
    "duration": 25,
    "start_time": "2022-01-16T16:11:32.351Z"
   },
   {
    "duration": 8,
    "start_time": "2022-01-16T16:11:32.378Z"
   },
   {
    "duration": 14,
    "start_time": "2022-01-16T16:11:32.387Z"
   },
   {
    "duration": 12,
    "start_time": "2022-01-16T16:11:32.402Z"
   },
   {
    "duration": 24,
    "start_time": "2022-01-16T16:11:32.416Z"
   },
   {
    "duration": 4,
    "start_time": "2022-01-16T16:11:32.442Z"
   },
   {
    "duration": 15,
    "start_time": "2022-01-16T16:11:40.142Z"
   },
   {
    "duration": 8,
    "start_time": "2022-01-16T16:12:00.812Z"
   },
   {
    "duration": 7,
    "start_time": "2022-01-16T16:12:26.708Z"
   },
   {
    "duration": 368,
    "start_time": "2022-01-16T16:13:01.455Z"
   },
   {
    "duration": 16,
    "start_time": "2022-01-16T16:13:36.046Z"
   },
   {
    "duration": 7,
    "start_time": "2022-01-16T16:13:39.978Z"
   },
   {
    "duration": 610,
    "start_time": "2022-01-16T16:14:09.051Z"
   },
   {
    "duration": 17,
    "start_time": "2022-01-16T16:14:09.662Z"
   },
   {
    "duration": 20,
    "start_time": "2022-01-16T16:14:09.680Z"
   },
   {
    "duration": 20,
    "start_time": "2022-01-16T16:14:09.702Z"
   },
   {
    "duration": 26,
    "start_time": "2022-01-16T16:14:09.724Z"
   },
   {
    "duration": 22,
    "start_time": "2022-01-16T16:14:09.752Z"
   },
   {
    "duration": 11,
    "start_time": "2022-01-16T16:14:09.775Z"
   },
   {
    "duration": 19,
    "start_time": "2022-01-16T16:14:09.787Z"
   },
   {
    "duration": 21,
    "start_time": "2022-01-16T16:14:09.809Z"
   },
   {
    "duration": 36,
    "start_time": "2022-01-16T16:14:09.831Z"
   },
   {
    "duration": 25,
    "start_time": "2022-01-16T16:14:09.869Z"
   },
   {
    "duration": 13,
    "start_time": "2022-01-16T16:14:09.896Z"
   },
   {
    "duration": 20,
    "start_time": "2022-01-16T16:14:09.910Z"
   },
   {
    "duration": 30,
    "start_time": "2022-01-16T16:14:09.931Z"
   },
   {
    "duration": 3,
    "start_time": "2022-01-16T16:14:09.963Z"
   },
   {
    "duration": 20,
    "start_time": "2022-01-16T16:14:17.087Z"
   },
   {
    "duration": 9,
    "start_time": "2022-01-16T16:14:19.403Z"
   },
   {
    "duration": 14,
    "start_time": "2022-01-16T16:14:34.570Z"
   },
   {
    "duration": 7,
    "start_time": "2022-01-16T16:14:35.485Z"
   },
   {
    "duration": 12,
    "start_time": "2022-01-16T16:14:40.754Z"
   },
   {
    "duration": 631,
    "start_time": "2022-01-16T16:16:15.287Z"
   },
   {
    "duration": 17,
    "start_time": "2022-01-16T16:16:15.920Z"
   },
   {
    "duration": 7,
    "start_time": "2022-01-16T16:16:15.939Z"
   },
   {
    "duration": 9,
    "start_time": "2022-01-16T16:16:15.947Z"
   },
   {
    "duration": 10,
    "start_time": "2022-01-16T16:16:15.958Z"
   },
   {
    "duration": 16,
    "start_time": "2022-01-16T16:16:15.970Z"
   },
   {
    "duration": 8,
    "start_time": "2022-01-16T16:16:15.987Z"
   },
   {
    "duration": 12,
    "start_time": "2022-01-16T16:16:15.997Z"
   },
   {
    "duration": 15,
    "start_time": "2022-01-16T16:16:16.011Z"
   },
   {
    "duration": 22,
    "start_time": "2022-01-16T16:16:16.041Z"
   },
   {
    "duration": 8,
    "start_time": "2022-01-16T16:16:16.066Z"
   },
   {
    "duration": 12,
    "start_time": "2022-01-16T16:16:16.076Z"
   },
   {
    "duration": 8,
    "start_time": "2022-01-16T16:16:16.090Z"
   },
   {
    "duration": 22,
    "start_time": "2022-01-16T16:16:16.099Z"
   },
   {
    "duration": 19,
    "start_time": "2022-01-16T16:16:16.123Z"
   },
   {
    "duration": 317,
    "start_time": "2022-01-16T16:16:27.012Z"
   },
   {
    "duration": 8,
    "start_time": "2022-01-16T16:16:34.933Z"
   },
   {
    "duration": 7,
    "start_time": "2022-01-16T16:16:39.078Z"
   },
   {
    "duration": 8,
    "start_time": "2022-01-16T16:16:52.779Z"
   },
   {
    "duration": 9,
    "start_time": "2022-01-16T16:17:03.349Z"
   },
   {
    "duration": 664,
    "start_time": "2022-01-16T16:17:31.426Z"
   },
   {
    "duration": 20,
    "start_time": "2022-01-16T16:17:32.093Z"
   },
   {
    "duration": 8,
    "start_time": "2022-01-16T16:17:32.118Z"
   },
   {
    "duration": 8,
    "start_time": "2022-01-16T16:17:32.142Z"
   },
   {
    "duration": 19,
    "start_time": "2022-01-16T16:17:32.151Z"
   },
   {
    "duration": 22,
    "start_time": "2022-01-16T16:17:32.172Z"
   },
   {
    "duration": 12,
    "start_time": "2022-01-16T16:17:32.196Z"
   },
   {
    "duration": 30,
    "start_time": "2022-01-16T16:17:32.210Z"
   },
   {
    "duration": 19,
    "start_time": "2022-01-16T16:17:32.242Z"
   },
   {
    "duration": 30,
    "start_time": "2022-01-16T16:17:32.262Z"
   },
   {
    "duration": 25,
    "start_time": "2022-01-16T16:17:32.294Z"
   },
   {
    "duration": 13,
    "start_time": "2022-01-16T16:17:32.321Z"
   },
   {
    "duration": 8,
    "start_time": "2022-01-16T16:17:32.335Z"
   },
   {
    "duration": 16,
    "start_time": "2022-01-16T16:17:32.345Z"
   },
   {
    "duration": 4,
    "start_time": "2022-01-16T16:17:32.362Z"
   },
   {
    "duration": 17,
    "start_time": "2022-01-16T16:17:32.367Z"
   },
   {
    "duration": 52,
    "start_time": "2022-01-16T16:17:32.386Z"
   },
   {
    "duration": 10,
    "start_time": "2022-01-16T16:17:32.439Z"
   },
   {
    "duration": 22,
    "start_time": "2022-01-16T16:17:32.451Z"
   },
   {
    "duration": 32,
    "start_time": "2022-01-16T16:17:32.475Z"
   },
   {
    "duration": 17,
    "start_time": "2022-01-16T16:17:32.508Z"
   },
   {
    "duration": 8,
    "start_time": "2022-01-16T16:17:32.541Z"
   },
   {
    "duration": 5,
    "start_time": "2022-01-16T16:17:32.551Z"
   },
   {
    "duration": 3653,
    "start_time": "2022-01-16T16:17:32.557Z"
   },
   {
    "duration": 13,
    "start_time": "2022-01-16T16:17:36.212Z"
   },
   {
    "duration": 20,
    "start_time": "2022-01-16T16:17:36.227Z"
   },
   {
    "duration": 8,
    "start_time": "2022-01-16T16:17:36.249Z"
   },
   {
    "duration": 14,
    "start_time": "2022-01-16T16:17:36.259Z"
   },
   {
    "duration": 14,
    "start_time": "2022-01-16T16:17:36.275Z"
   },
   {
    "duration": 15,
    "start_time": "2022-01-16T16:17:36.290Z"
   },
   {
    "duration": 39,
    "start_time": "2022-01-16T16:17:36.307Z"
   },
   {
    "duration": 15,
    "start_time": "2022-01-16T16:17:36.347Z"
   },
   {
    "duration": 19,
    "start_time": "2022-01-16T16:17:36.364Z"
   },
   {
    "duration": 27,
    "start_time": "2022-01-16T16:17:36.385Z"
   },
   {
    "duration": 49,
    "start_time": "2022-01-16T16:17:36.413Z"
   },
   {
    "duration": 25,
    "start_time": "2022-01-16T16:17:36.464Z"
   },
   {
    "duration": 54,
    "start_time": "2022-01-16T16:17:36.491Z"
   },
   {
    "duration": 312,
    "start_time": "2022-01-16T16:18:12.078Z"
   },
   {
    "duration": 7,
    "start_time": "2022-01-16T16:18:23.202Z"
   },
   {
    "duration": 646,
    "start_time": "2022-01-16T16:18:33.857Z"
   },
   {
    "duration": 19,
    "start_time": "2022-01-16T16:18:34.505Z"
   },
   {
    "duration": 10,
    "start_time": "2022-01-16T16:18:34.526Z"
   },
   {
    "duration": 8,
    "start_time": "2022-01-16T16:18:34.538Z"
   },
   {
    "duration": 12,
    "start_time": "2022-01-16T16:18:34.547Z"
   },
   {
    "duration": 14,
    "start_time": "2022-01-16T16:18:34.560Z"
   },
   {
    "duration": 7,
    "start_time": "2022-01-16T16:18:34.575Z"
   },
   {
    "duration": 4,
    "start_time": "2022-01-16T16:18:34.584Z"
   },
   {
    "duration": 12,
    "start_time": "2022-01-16T16:18:34.590Z"
   },
   {
    "duration": 44,
    "start_time": "2022-01-16T16:18:34.603Z"
   },
   {
    "duration": 18,
    "start_time": "2022-01-16T16:18:34.649Z"
   },
   {
    "duration": 14,
    "start_time": "2022-01-16T16:18:34.669Z"
   },
   {
    "duration": 8,
    "start_time": "2022-01-16T16:18:34.684Z"
   },
   {
    "duration": 15,
    "start_time": "2022-01-16T16:18:34.694Z"
   },
   {
    "duration": 3,
    "start_time": "2022-01-16T16:18:34.711Z"
   },
   {
    "duration": 12,
    "start_time": "2022-01-16T16:18:34.715Z"
   },
   {
    "duration": 14,
    "start_time": "2022-01-16T16:18:34.729Z"
   },
   {
    "duration": 16,
    "start_time": "2022-01-16T16:18:34.745Z"
   },
   {
    "duration": 24,
    "start_time": "2022-01-16T16:18:34.763Z"
   },
   {
    "duration": 20,
    "start_time": "2022-01-16T16:18:34.789Z"
   },
   {
    "duration": 35,
    "start_time": "2022-01-16T16:18:34.810Z"
   },
   {
    "duration": 9,
    "start_time": "2022-01-16T16:18:34.847Z"
   },
   {
    "duration": 3,
    "start_time": "2022-01-16T16:18:34.860Z"
   },
   {
    "duration": 3651,
    "start_time": "2022-01-16T16:18:34.865Z"
   },
   {
    "duration": 24,
    "start_time": "2022-01-16T16:18:38.518Z"
   },
   {
    "duration": 11,
    "start_time": "2022-01-16T16:18:38.544Z"
   },
   {
    "duration": 7,
    "start_time": "2022-01-16T16:18:38.557Z"
   },
   {
    "duration": 12,
    "start_time": "2022-01-16T16:18:38.566Z"
   },
   {
    "duration": 14,
    "start_time": "2022-01-16T16:18:38.580Z"
   },
   {
    "duration": 20,
    "start_time": "2022-01-16T16:18:38.595Z"
   },
   {
    "duration": 5,
    "start_time": "2022-01-16T16:18:38.642Z"
   },
   {
    "duration": 15,
    "start_time": "2022-01-16T16:18:38.648Z"
   },
   {
    "duration": 18,
    "start_time": "2022-01-16T16:18:38.665Z"
   },
   {
    "duration": 25,
    "start_time": "2022-01-16T16:18:38.685Z"
   },
   {
    "duration": 44,
    "start_time": "2022-01-16T16:18:38.711Z"
   },
   {
    "duration": 19,
    "start_time": "2022-01-16T16:18:38.757Z"
   },
   {
    "duration": 20,
    "start_time": "2022-01-16T16:18:38.778Z"
   },
   {
    "duration": 342,
    "start_time": "2022-01-16T16:20:39.276Z"
   },
   {
    "duration": 7,
    "start_time": "2022-01-16T16:20:49.141Z"
   },
   {
    "duration": 7,
    "start_time": "2022-01-16T16:20:54.801Z"
   },
   {
    "duration": 10,
    "start_time": "2022-01-16T16:21:05.197Z"
   },
   {
    "duration": 656,
    "start_time": "2022-01-16T16:29:15.442Z"
   },
   {
    "duration": 18,
    "start_time": "2022-01-16T16:29:16.099Z"
   },
   {
    "duration": 8,
    "start_time": "2022-01-16T16:29:16.118Z"
   },
   {
    "duration": 26,
    "start_time": "2022-01-16T16:29:16.128Z"
   },
   {
    "duration": 31,
    "start_time": "2022-01-16T16:29:16.155Z"
   },
   {
    "duration": 27,
    "start_time": "2022-01-16T16:29:16.187Z"
   },
   {
    "duration": 26,
    "start_time": "2022-01-16T16:29:16.215Z"
   },
   {
    "duration": 21,
    "start_time": "2022-01-16T16:29:16.242Z"
   },
   {
    "duration": 52,
    "start_time": "2022-01-16T16:29:16.265Z"
   },
   {
    "duration": 39,
    "start_time": "2022-01-16T16:29:16.319Z"
   },
   {
    "duration": 23,
    "start_time": "2022-01-16T16:29:16.360Z"
   },
   {
    "duration": 37,
    "start_time": "2022-01-16T16:29:16.384Z"
   },
   {
    "duration": 48,
    "start_time": "2022-01-16T16:29:16.423Z"
   },
   {
    "duration": 33,
    "start_time": "2022-01-16T16:29:16.473Z"
   },
   {
    "duration": 6,
    "start_time": "2022-01-16T16:29:16.508Z"
   },
   {
    "duration": 35,
    "start_time": "2022-01-16T16:29:16.516Z"
   },
   {
    "duration": 33,
    "start_time": "2022-01-16T16:29:16.553Z"
   },
   {
    "duration": 45,
    "start_time": "2022-01-16T16:29:16.588Z"
   },
   {
    "duration": 44,
    "start_time": "2022-01-16T16:29:16.635Z"
   },
   {
    "duration": 19,
    "start_time": "2022-01-16T16:29:16.680Z"
   },
   {
    "duration": 16,
    "start_time": "2022-01-16T16:29:16.701Z"
   },
   {
    "duration": 9,
    "start_time": "2022-01-16T16:29:16.719Z"
   },
   {
    "duration": 9,
    "start_time": "2022-01-16T16:29:16.729Z"
   },
   {
    "duration": 3539,
    "start_time": "2022-01-16T16:29:16.739Z"
   },
   {
    "duration": 13,
    "start_time": "2022-01-16T16:29:20.280Z"
   },
   {
    "duration": 9,
    "start_time": "2022-01-16T16:29:20.294Z"
   },
   {
    "duration": 5,
    "start_time": "2022-01-16T16:29:20.306Z"
   },
   {
    "duration": 32,
    "start_time": "2022-01-16T16:29:20.313Z"
   },
   {
    "duration": 11,
    "start_time": "2022-01-16T16:29:20.347Z"
   },
   {
    "duration": 7,
    "start_time": "2022-01-16T16:29:20.360Z"
   },
   {
    "duration": 19,
    "start_time": "2022-01-16T16:29:20.369Z"
   },
   {
    "duration": 14,
    "start_time": "2022-01-16T16:29:20.390Z"
   },
   {
    "duration": 18,
    "start_time": "2022-01-16T16:29:32.074Z"
   },
   {
    "duration": 26,
    "start_time": "2022-01-16T16:29:52.748Z"
   },
   {
    "duration": 22,
    "start_time": "2022-01-16T16:30:13.970Z"
   },
   {
    "duration": 23,
    "start_time": "2022-01-16T16:30:42.947Z"
   },
   {
    "duration": 606,
    "start_time": "2022-01-16T16:31:23.762Z"
   },
   {
    "duration": 17,
    "start_time": "2022-01-16T16:31:24.369Z"
   },
   {
    "duration": 5,
    "start_time": "2022-01-16T16:31:24.388Z"
   },
   {
    "duration": 9,
    "start_time": "2022-01-16T16:31:24.394Z"
   },
   {
    "duration": 10,
    "start_time": "2022-01-16T16:31:24.405Z"
   },
   {
    "duration": 28,
    "start_time": "2022-01-16T16:31:24.417Z"
   },
   {
    "duration": 6,
    "start_time": "2022-01-16T16:31:24.446Z"
   },
   {
    "duration": 3,
    "start_time": "2022-01-16T16:31:24.454Z"
   },
   {
    "duration": 13,
    "start_time": "2022-01-16T16:31:24.459Z"
   },
   {
    "duration": 22,
    "start_time": "2022-01-16T16:31:24.474Z"
   },
   {
    "duration": 7,
    "start_time": "2022-01-16T16:31:24.497Z"
   },
   {
    "duration": 12,
    "start_time": "2022-01-16T16:31:24.506Z"
   },
   {
    "duration": 24,
    "start_time": "2022-01-16T16:31:24.520Z"
   },
   {
    "duration": 17,
    "start_time": "2022-01-16T16:31:24.546Z"
   },
   {
    "duration": 3,
    "start_time": "2022-01-16T16:31:24.564Z"
   },
   {
    "duration": 10,
    "start_time": "2022-01-16T16:31:24.569Z"
   },
   {
    "duration": 9,
    "start_time": "2022-01-16T16:31:24.580Z"
   },
   {
    "duration": 13,
    "start_time": "2022-01-16T16:31:24.590Z"
   },
   {
    "duration": 26,
    "start_time": "2022-01-16T16:31:24.604Z"
   },
   {
    "duration": 18,
    "start_time": "2022-01-16T16:31:24.641Z"
   },
   {
    "duration": 14,
    "start_time": "2022-01-16T16:31:24.661Z"
   },
   {
    "duration": 8,
    "start_time": "2022-01-16T16:31:24.676Z"
   },
   {
    "duration": 6,
    "start_time": "2022-01-16T16:31:24.686Z"
   },
   {
    "duration": 3454,
    "start_time": "2022-01-16T16:31:24.693Z"
   },
   {
    "duration": 11,
    "start_time": "2022-01-16T16:31:28.149Z"
   },
   {
    "duration": 9,
    "start_time": "2022-01-16T16:31:28.162Z"
   },
   {
    "duration": 4,
    "start_time": "2022-01-16T16:31:28.174Z"
   },
   {
    "duration": 12,
    "start_time": "2022-01-16T16:31:28.180Z"
   },
   {
    "duration": 10,
    "start_time": "2022-01-16T16:31:28.193Z"
   },
   {
    "duration": 3,
    "start_time": "2022-01-16T16:31:28.205Z"
   },
   {
    "duration": 32,
    "start_time": "2022-01-16T16:31:28.210Z"
   },
   {
    "duration": 15,
    "start_time": "2022-01-16T16:31:28.243Z"
   },
   {
    "duration": 20,
    "start_time": "2022-01-16T16:31:28.260Z"
   },
   {
    "duration": 25,
    "start_time": "2022-01-16T16:31:28.281Z"
   },
   {
    "duration": 40,
    "start_time": "2022-01-16T16:31:28.308Z"
   },
   {
    "duration": 296,
    "start_time": "2022-01-16T16:31:28.350Z"
   },
   {
    "duration": -408,
    "start_time": "2022-01-16T16:31:29.056Z"
   },
   {
    "duration": 21,
    "start_time": "2022-01-16T16:32:50.070Z"
   },
   {
    "duration": 24,
    "start_time": "2022-01-16T16:33:32.181Z"
   },
   {
    "duration": 677,
    "start_time": "2022-01-16T16:34:00.309Z"
   },
   {
    "duration": 18,
    "start_time": "2022-01-16T16:34:00.988Z"
   },
   {
    "duration": 30,
    "start_time": "2022-01-16T16:34:01.008Z"
   },
   {
    "duration": 23,
    "start_time": "2022-01-16T16:34:01.040Z"
   },
   {
    "duration": 22,
    "start_time": "2022-01-16T16:34:01.064Z"
   },
   {
    "duration": 18,
    "start_time": "2022-01-16T16:34:01.088Z"
   },
   {
    "duration": 18,
    "start_time": "2022-01-16T16:34:01.107Z"
   },
   {
    "duration": 12,
    "start_time": "2022-01-16T16:34:01.126Z"
   },
   {
    "duration": 25,
    "start_time": "2022-01-16T16:34:01.140Z"
   },
   {
    "duration": 26,
    "start_time": "2022-01-16T16:34:01.167Z"
   },
   {
    "duration": 10,
    "start_time": "2022-01-16T16:34:01.195Z"
   },
   {
    "duration": 15,
    "start_time": "2022-01-16T16:34:01.207Z"
   },
   {
    "duration": 19,
    "start_time": "2022-01-16T16:34:01.224Z"
   },
   {
    "duration": 21,
    "start_time": "2022-01-16T16:34:01.245Z"
   },
   {
    "duration": 5,
    "start_time": "2022-01-16T16:34:01.268Z"
   },
   {
    "duration": 24,
    "start_time": "2022-01-16T16:34:01.274Z"
   },
   {
    "duration": 19,
    "start_time": "2022-01-16T16:34:01.300Z"
   },
   {
    "duration": 31,
    "start_time": "2022-01-16T16:34:01.321Z"
   },
   {
    "duration": 32,
    "start_time": "2022-01-16T16:34:01.354Z"
   },
   {
    "duration": 23,
    "start_time": "2022-01-16T16:34:01.388Z"
   },
   {
    "duration": 31,
    "start_time": "2022-01-16T16:34:01.413Z"
   },
   {
    "duration": 28,
    "start_time": "2022-01-16T16:34:01.446Z"
   },
   {
    "duration": 21,
    "start_time": "2022-01-16T16:34:01.476Z"
   },
   {
    "duration": 3682,
    "start_time": "2022-01-16T16:34:01.498Z"
   },
   {
    "duration": 13,
    "start_time": "2022-01-16T16:34:05.183Z"
   },
   {
    "duration": 11,
    "start_time": "2022-01-16T16:34:05.198Z"
   },
   {
    "duration": 7,
    "start_time": "2022-01-16T16:34:05.212Z"
   },
   {
    "duration": 29,
    "start_time": "2022-01-16T16:34:05.221Z"
   },
   {
    "duration": 15,
    "start_time": "2022-01-16T16:34:05.252Z"
   },
   {
    "duration": 16,
    "start_time": "2022-01-16T16:34:05.269Z"
   },
   {
    "duration": 12,
    "start_time": "2022-01-16T16:34:05.287Z"
   },
   {
    "duration": 15,
    "start_time": "2022-01-16T16:34:05.301Z"
   },
   {
    "duration": 25,
    "start_time": "2022-01-16T16:34:05.317Z"
   },
   {
    "duration": 28,
    "start_time": "2022-01-16T16:34:05.344Z"
   },
   {
    "duration": 25,
    "start_time": "2022-01-16T16:34:05.373Z"
   },
   {
    "duration": 50,
    "start_time": "2022-01-16T16:34:05.400Z"
   },
   {
    "duration": 23,
    "start_time": "2022-01-16T16:34:05.452Z"
   },
   {
    "duration": 76,
    "start_time": "2022-01-16T16:40:14.355Z"
   },
   {
    "duration": 683,
    "start_time": "2022-01-16T17:12:37.115Z"
   },
   {
    "duration": 19,
    "start_time": "2022-01-16T17:12:37.800Z"
   },
   {
    "duration": 8,
    "start_time": "2022-01-16T17:12:37.825Z"
   },
   {
    "duration": 16,
    "start_time": "2022-01-16T17:12:37.835Z"
   },
   {
    "duration": 26,
    "start_time": "2022-01-16T17:12:37.853Z"
   },
   {
    "duration": 18,
    "start_time": "2022-01-16T17:12:37.881Z"
   },
   {
    "duration": 8,
    "start_time": "2022-01-16T17:12:37.902Z"
   },
   {
    "duration": 29,
    "start_time": "2022-01-16T17:12:37.912Z"
   },
   {
    "duration": 16,
    "start_time": "2022-01-16T17:12:37.943Z"
   },
   {
    "duration": 34,
    "start_time": "2022-01-16T17:12:37.961Z"
   },
   {
    "duration": 10,
    "start_time": "2022-01-16T17:12:37.997Z"
   },
   {
    "duration": 17,
    "start_time": "2022-01-16T17:12:38.009Z"
   },
   {
    "duration": 27,
    "start_time": "2022-01-16T17:12:38.028Z"
   },
   {
    "duration": 18,
    "start_time": "2022-01-16T17:12:38.057Z"
   },
   {
    "duration": 4,
    "start_time": "2022-01-16T17:12:38.077Z"
   },
   {
    "duration": 22,
    "start_time": "2022-01-16T17:12:38.083Z"
   },
   {
    "duration": 10,
    "start_time": "2022-01-16T17:12:38.107Z"
   },
   {
    "duration": 20,
    "start_time": "2022-01-16T17:12:38.119Z"
   },
   {
    "duration": 22,
    "start_time": "2022-01-16T17:12:38.140Z"
   },
   {
    "duration": 18,
    "start_time": "2022-01-16T17:12:38.164Z"
   },
   {
    "duration": 18,
    "start_time": "2022-01-16T17:12:38.184Z"
   },
   {
    "duration": 17,
    "start_time": "2022-01-16T17:12:38.205Z"
   },
   {
    "duration": 20,
    "start_time": "2022-01-16T17:12:38.223Z"
   },
   {
    "duration": 3859,
    "start_time": "2022-01-16T17:12:38.245Z"
   },
   {
    "duration": 12,
    "start_time": "2022-01-16T17:12:42.106Z"
   },
   {
    "duration": 27,
    "start_time": "2022-01-16T17:12:42.120Z"
   },
   {
    "duration": 6,
    "start_time": "2022-01-16T17:12:42.150Z"
   },
   {
    "duration": 14,
    "start_time": "2022-01-16T17:12:42.158Z"
   },
   {
    "duration": 14,
    "start_time": "2022-01-16T17:12:42.174Z"
   },
   {
    "duration": 6,
    "start_time": "2022-01-16T17:12:42.189Z"
   },
   {
    "duration": 46,
    "start_time": "2022-01-16T17:12:42.197Z"
   },
   {
    "duration": 17,
    "start_time": "2022-01-16T17:12:42.245Z"
   },
   {
    "duration": 26,
    "start_time": "2022-01-16T17:12:42.263Z"
   },
   {
    "duration": 50,
    "start_time": "2022-01-16T17:12:42.291Z"
   },
   {
    "duration": 24,
    "start_time": "2022-01-16T17:12:42.343Z"
   },
   {
    "duration": 23,
    "start_time": "2022-01-16T17:12:42.368Z"
   },
   {
    "duration": 642,
    "start_time": "2022-01-16T17:54:08.963Z"
   },
   {
    "duration": 18,
    "start_time": "2022-01-16T17:54:09.607Z"
   },
   {
    "duration": 8,
    "start_time": "2022-01-16T17:54:09.627Z"
   },
   {
    "duration": 10,
    "start_time": "2022-01-16T17:54:09.637Z"
   },
   {
    "duration": 13,
    "start_time": "2022-01-16T17:54:09.649Z"
   },
   {
    "duration": 16,
    "start_time": "2022-01-16T17:54:09.663Z"
   },
   {
    "duration": 6,
    "start_time": "2022-01-16T17:54:09.681Z"
   },
   {
    "duration": 5,
    "start_time": "2022-01-16T17:54:09.689Z"
   },
   {
    "duration": 13,
    "start_time": "2022-01-16T17:54:09.696Z"
   },
   {
    "duration": 39,
    "start_time": "2022-01-16T17:54:09.710Z"
   },
   {
    "duration": 8,
    "start_time": "2022-01-16T17:54:09.751Z"
   },
   {
    "duration": 14,
    "start_time": "2022-01-16T17:54:09.761Z"
   },
   {
    "duration": 10,
    "start_time": "2022-01-16T17:54:09.776Z"
   },
   {
    "duration": 21,
    "start_time": "2022-01-16T17:54:09.787Z"
   },
   {
    "duration": 3,
    "start_time": "2022-01-16T17:54:09.810Z"
   },
   {
    "duration": 12,
    "start_time": "2022-01-16T17:54:09.815Z"
   },
   {
    "duration": 16,
    "start_time": "2022-01-16T17:54:09.829Z"
   },
   {
    "duration": 11,
    "start_time": "2022-01-16T17:54:09.846Z"
   },
   {
    "duration": 25,
    "start_time": "2022-01-16T17:54:09.858Z"
   },
   {
    "duration": 20,
    "start_time": "2022-01-16T17:54:09.885Z"
   },
   {
    "duration": 37,
    "start_time": "2022-01-16T17:54:09.907Z"
   },
   {
    "duration": 7,
    "start_time": "2022-01-16T17:54:09.946Z"
   },
   {
    "duration": 10,
    "start_time": "2022-01-16T17:54:09.956Z"
   },
   {
    "duration": 3360,
    "start_time": "2022-01-16T17:54:09.968Z"
   },
   {
    "duration": 21,
    "start_time": "2022-01-16T17:54:13.330Z"
   },
   {
    "duration": 10,
    "start_time": "2022-01-16T17:54:13.353Z"
   },
   {
    "duration": 8,
    "start_time": "2022-01-16T17:54:13.365Z"
   },
   {
    "duration": 13,
    "start_time": "2022-01-16T17:54:13.375Z"
   },
   {
    "duration": 13,
    "start_time": "2022-01-16T17:54:13.390Z"
   },
   {
    "duration": 40,
    "start_time": "2022-01-16T17:54:13.405Z"
   },
   {
    "duration": 16,
    "start_time": "2022-01-16T17:54:13.447Z"
   },
   {
    "duration": 26,
    "start_time": "2022-01-16T17:54:13.465Z"
   },
   {
    "duration": 49,
    "start_time": "2022-01-16T17:54:13.493Z"
   },
   {
    "duration": 23,
    "start_time": "2022-01-16T17:54:13.544Z"
   },
   {
    "duration": 22,
    "start_time": "2022-01-16T17:54:13.569Z"
   },
   {
    "duration": 48,
    "start_time": "2022-01-16T17:54:13.593Z"
   },
   {
    "duration": 7,
    "start_time": "2022-01-16T17:57:26.424Z"
   },
   {
    "duration": 669,
    "start_time": "2022-01-16T18:03:05.423Z"
   },
   {
    "duration": 21,
    "start_time": "2022-01-16T18:03:06.094Z"
   },
   {
    "duration": 6,
    "start_time": "2022-01-16T18:03:06.118Z"
   },
   {
    "duration": 22,
    "start_time": "2022-01-16T18:03:06.126Z"
   },
   {
    "duration": 12,
    "start_time": "2022-01-16T18:03:06.150Z"
   },
   {
    "duration": 14,
    "start_time": "2022-01-16T18:03:06.164Z"
   },
   {
    "duration": 8,
    "start_time": "2022-01-16T18:03:06.180Z"
   },
   {
    "duration": 4,
    "start_time": "2022-01-16T18:03:06.191Z"
   },
   {
    "duration": 46,
    "start_time": "2022-01-16T18:03:06.197Z"
   },
   {
    "duration": 23,
    "start_time": "2022-01-16T18:03:06.245Z"
   },
   {
    "duration": 12,
    "start_time": "2022-01-16T18:03:06.270Z"
   },
   {
    "duration": 11,
    "start_time": "2022-01-16T18:03:06.283Z"
   },
   {
    "duration": 10,
    "start_time": "2022-01-16T18:03:06.296Z"
   },
   {
    "duration": 40,
    "start_time": "2022-01-16T18:03:06.308Z"
   },
   {
    "duration": 3,
    "start_time": "2022-01-16T18:03:06.350Z"
   },
   {
    "duration": 16,
    "start_time": "2022-01-16T18:03:06.355Z"
   },
   {
    "duration": 7,
    "start_time": "2022-01-16T18:03:06.373Z"
   },
   {
    "duration": 12,
    "start_time": "2022-01-16T18:03:06.382Z"
   },
   {
    "duration": 30,
    "start_time": "2022-01-16T18:03:06.396Z"
   },
   {
    "duration": 33,
    "start_time": "2022-01-16T18:03:06.428Z"
   },
   {
    "duration": 17,
    "start_time": "2022-01-16T18:03:06.463Z"
   },
   {
    "duration": 8,
    "start_time": "2022-01-16T18:03:06.481Z"
   },
   {
    "duration": 3,
    "start_time": "2022-01-16T18:03:06.493Z"
   },
   {
    "duration": 3604,
    "start_time": "2022-01-16T18:03:06.498Z"
   },
   {
    "duration": 11,
    "start_time": "2022-01-16T18:03:10.105Z"
   },
   {
    "duration": 23,
    "start_time": "2022-01-16T18:03:10.118Z"
   },
   {
    "duration": 5,
    "start_time": "2022-01-16T18:03:10.143Z"
   },
   {
    "duration": 14,
    "start_time": "2022-01-16T18:03:10.149Z"
   },
   {
    "duration": 13,
    "start_time": "2022-01-16T18:03:10.164Z"
   },
   {
    "duration": 6,
    "start_time": "2022-01-16T18:03:10.178Z"
   },
   {
    "duration": 14,
    "start_time": "2022-01-16T18:03:10.186Z"
   },
   {
    "duration": 49,
    "start_time": "2022-01-16T18:03:10.202Z"
   },
   {
    "duration": 25,
    "start_time": "2022-01-16T18:03:10.253Z"
   },
   {
    "duration": 21,
    "start_time": "2022-01-16T18:03:10.280Z"
   },
   {
    "duration": 42,
    "start_time": "2022-01-16T18:03:10.303Z"
   },
   {
    "duration": 22,
    "start_time": "2022-01-16T18:03:10.346Z"
   },
   {
    "duration": 655,
    "start_time": "2022-01-17T16:49:05.028Z"
   },
   {
    "duration": 17,
    "start_time": "2022-01-17T16:49:05.685Z"
   },
   {
    "duration": 5,
    "start_time": "2022-01-17T16:49:05.703Z"
   },
   {
    "duration": 12,
    "start_time": "2022-01-17T16:49:05.709Z"
   },
   {
    "duration": 20,
    "start_time": "2022-01-17T16:49:05.722Z"
   },
   {
    "duration": 14,
    "start_time": "2022-01-17T16:49:05.743Z"
   },
   {
    "duration": 6,
    "start_time": "2022-01-17T16:49:05.758Z"
   },
   {
    "duration": 10,
    "start_time": "2022-01-17T16:49:05.766Z"
   },
   {
    "duration": 11,
    "start_time": "2022-01-17T16:49:05.777Z"
   },
   {
    "duration": 21,
    "start_time": "2022-01-17T16:49:05.790Z"
   },
   {
    "duration": 7,
    "start_time": "2022-01-17T16:49:05.813Z"
   },
   {
    "duration": 24,
    "start_time": "2022-01-17T16:49:05.821Z"
   },
   {
    "duration": 27,
    "start_time": "2022-01-17T16:49:05.846Z"
   },
   {
    "duration": 36,
    "start_time": "2022-01-17T16:49:05.875Z"
   },
   {
    "duration": 7,
    "start_time": "2022-01-17T16:49:05.913Z"
   },
   {
    "duration": 22,
    "start_time": "2022-01-17T16:49:05.921Z"
   },
   {
    "duration": 18,
    "start_time": "2022-01-17T16:49:05.945Z"
   },
   {
    "duration": 26,
    "start_time": "2022-01-17T16:49:05.964Z"
   },
   {
    "duration": 35,
    "start_time": "2022-01-17T16:49:05.992Z"
   },
   {
    "duration": 19,
    "start_time": "2022-01-17T16:49:06.028Z"
   },
   {
    "duration": 18,
    "start_time": "2022-01-17T16:49:06.048Z"
   },
   {
    "duration": 7,
    "start_time": "2022-01-17T16:49:06.067Z"
   },
   {
    "duration": 13,
    "start_time": "2022-01-17T16:49:06.077Z"
   },
   {
    "duration": 3280,
    "start_time": "2022-01-17T16:49:06.091Z"
   },
   {
    "duration": 11,
    "start_time": "2022-01-17T16:49:09.374Z"
   },
   {
    "duration": 8,
    "start_time": "2022-01-17T16:49:09.387Z"
   },
   {
    "duration": 8,
    "start_time": "2022-01-17T16:49:09.396Z"
   },
   {
    "duration": 11,
    "start_time": "2022-01-17T16:49:09.406Z"
   },
   {
    "duration": 32,
    "start_time": "2022-01-17T16:49:09.418Z"
   },
   {
    "duration": 8,
    "start_time": "2022-01-17T16:49:09.451Z"
   },
   {
    "duration": 23,
    "start_time": "2022-01-17T16:49:09.461Z"
   },
   {
    "duration": 19,
    "start_time": "2022-01-17T16:49:09.486Z"
   },
   {
    "duration": 52,
    "start_time": "2022-01-17T16:49:09.507Z"
   },
   {
    "duration": 26,
    "start_time": "2022-01-17T16:49:09.560Z"
   },
   {
    "duration": 24,
    "start_time": "2022-01-17T16:49:09.588Z"
   },
   {
    "duration": 37,
    "start_time": "2022-01-17T16:49:09.614Z"
   },
   {
    "duration": 617,
    "start_time": "2022-01-17T16:58:48.938Z"
   },
   {
    "duration": 17,
    "start_time": "2022-01-17T16:58:49.557Z"
   },
   {
    "duration": 10,
    "start_time": "2022-01-17T16:58:49.575Z"
   },
   {
    "duration": 7,
    "start_time": "2022-01-17T16:58:49.586Z"
   },
   {
    "duration": 10,
    "start_time": "2022-01-17T16:58:49.594Z"
   },
   {
    "duration": 12,
    "start_time": "2022-01-17T16:58:49.605Z"
   },
   {
    "duration": 27,
    "start_time": "2022-01-17T16:58:49.618Z"
   },
   {
    "duration": 3,
    "start_time": "2022-01-17T16:58:49.648Z"
   },
   {
    "duration": 10,
    "start_time": "2022-01-17T16:58:49.653Z"
   },
   {
    "duration": 22,
    "start_time": "2022-01-17T16:58:49.664Z"
   },
   {
    "duration": 8,
    "start_time": "2022-01-17T16:58:49.688Z"
   },
   {
    "duration": 12,
    "start_time": "2022-01-17T16:58:49.697Z"
   },
   {
    "duration": 8,
    "start_time": "2022-01-17T16:58:49.710Z"
   },
   {
    "duration": 32,
    "start_time": "2022-01-17T16:58:49.719Z"
   },
   {
    "duration": 3,
    "start_time": "2022-01-17T16:58:49.753Z"
   },
   {
    "duration": 11,
    "start_time": "2022-01-17T16:58:49.758Z"
   },
   {
    "duration": 12,
    "start_time": "2022-01-17T16:58:49.770Z"
   },
   {
    "duration": 13,
    "start_time": "2022-01-17T16:58:49.784Z"
   },
   {
    "duration": 21,
    "start_time": "2022-01-17T16:58:49.798Z"
   },
   {
    "duration": 33,
    "start_time": "2022-01-17T16:58:49.820Z"
   },
   {
    "duration": 13,
    "start_time": "2022-01-17T16:58:49.855Z"
   },
   {
    "duration": 7,
    "start_time": "2022-01-17T16:58:49.870Z"
   },
   {
    "duration": 4,
    "start_time": "2022-01-17T16:58:49.880Z"
   },
   {
    "duration": 3464,
    "start_time": "2022-01-17T16:58:49.885Z"
   },
   {
    "duration": 11,
    "start_time": "2022-01-17T16:58:53.351Z"
   },
   {
    "duration": 11,
    "start_time": "2022-01-17T16:58:53.364Z"
   },
   {
    "duration": 16,
    "start_time": "2022-01-17T16:58:53.376Z"
   },
   {
    "duration": 22,
    "start_time": "2022-01-17T16:58:53.394Z"
   },
   {
    "duration": 13,
    "start_time": "2022-01-17T16:58:53.418Z"
   },
   {
    "duration": 4,
    "start_time": "2022-01-17T16:58:53.433Z"
   },
   {
    "duration": 13,
    "start_time": "2022-01-17T16:58:53.438Z"
   },
   {
    "duration": 15,
    "start_time": "2022-01-17T16:58:53.452Z"
   },
   {
    "duration": 23,
    "start_time": "2022-01-17T16:58:53.468Z"
   },
   {
    "duration": 19,
    "start_time": "2022-01-17T16:58:53.493Z"
   },
   {
    "duration": 45,
    "start_time": "2022-01-17T16:58:53.513Z"
   },
   {
    "duration": 20,
    "start_time": "2022-01-17T16:58:53.559Z"
   },
   {
    "duration": 646,
    "start_time": "2022-01-17T17:04:08.948Z"
   },
   {
    "duration": 18,
    "start_time": "2022-01-17T17:04:09.596Z"
   },
   {
    "duration": 7,
    "start_time": "2022-01-17T17:04:09.616Z"
   },
   {
    "duration": 18,
    "start_time": "2022-01-17T17:04:09.625Z"
   },
   {
    "duration": 11,
    "start_time": "2022-01-17T17:04:09.645Z"
   },
   {
    "duration": 12,
    "start_time": "2022-01-17T17:04:09.658Z"
   },
   {
    "duration": 6,
    "start_time": "2022-01-17T17:04:09.672Z"
   },
   {
    "duration": 3,
    "start_time": "2022-01-17T17:04:09.681Z"
   },
   {
    "duration": 13,
    "start_time": "2022-01-17T17:04:09.686Z"
   },
   {
    "duration": 46,
    "start_time": "2022-01-17T17:04:09.700Z"
   },
   {
    "duration": 8,
    "start_time": "2022-01-17T17:04:09.748Z"
   },
   {
    "duration": 13,
    "start_time": "2022-01-17T17:04:09.757Z"
   },
   {
    "duration": 9,
    "start_time": "2022-01-17T17:04:09.771Z"
   },
   {
    "duration": 24,
    "start_time": "2022-01-17T17:04:09.781Z"
   },
   {
    "duration": 3,
    "start_time": "2022-01-17T17:04:09.807Z"
   },
   {
    "duration": 20,
    "start_time": "2022-01-17T17:04:09.812Z"
   },
   {
    "duration": 7,
    "start_time": "2022-01-17T17:04:09.842Z"
   },
   {
    "duration": 19,
    "start_time": "2022-01-17T17:04:09.850Z"
   },
   {
    "duration": 22,
    "start_time": "2022-01-17T17:04:09.871Z"
   },
   {
    "duration": 19,
    "start_time": "2022-01-17T17:04:09.895Z"
   },
   {
    "duration": 32,
    "start_time": "2022-01-17T17:04:09.915Z"
   },
   {
    "duration": 385,
    "start_time": "2022-01-17T17:04:09.948Z"
   },
   {
    "duration": -213,
    "start_time": "2022-01-17T17:04:10.548Z"
   },
   {
    "duration": -218,
    "start_time": "2022-01-17T17:04:10.554Z"
   },
   {
    "duration": -247,
    "start_time": "2022-01-17T17:04:10.584Z"
   },
   {
    "duration": -252,
    "start_time": "2022-01-17T17:04:10.590Z"
   },
   {
    "duration": -254,
    "start_time": "2022-01-17T17:04:10.594Z"
   },
   {
    "duration": -257,
    "start_time": "2022-01-17T17:04:10.597Z"
   },
   {
    "duration": -260,
    "start_time": "2022-01-17T17:04:10.601Z"
   },
   {
    "duration": -262,
    "start_time": "2022-01-17T17:04:10.604Z"
   },
   {
    "duration": -265,
    "start_time": "2022-01-17T17:04:10.608Z"
   },
   {
    "duration": -268,
    "start_time": "2022-01-17T17:04:10.611Z"
   },
   {
    "duration": -271,
    "start_time": "2022-01-17T17:04:10.615Z"
   },
   {
    "duration": -273,
    "start_time": "2022-01-17T17:04:10.618Z"
   },
   {
    "duration": -275,
    "start_time": "2022-01-17T17:04:10.621Z"
   },
   {
    "duration": -278,
    "start_time": "2022-01-17T17:04:10.625Z"
   },
   {
    "duration": 639,
    "start_time": "2022-01-17T17:04:47.849Z"
   },
   {
    "duration": 18,
    "start_time": "2022-01-17T17:04:48.490Z"
   },
   {
    "duration": 20,
    "start_time": "2022-01-17T17:04:48.510Z"
   },
   {
    "duration": 16,
    "start_time": "2022-01-17T17:04:48.532Z"
   },
   {
    "duration": 13,
    "start_time": "2022-01-17T17:04:48.549Z"
   },
   {
    "duration": 14,
    "start_time": "2022-01-17T17:04:48.563Z"
   },
   {
    "duration": 7,
    "start_time": "2022-01-17T17:04:48.578Z"
   },
   {
    "duration": 3,
    "start_time": "2022-01-17T17:04:48.587Z"
   },
   {
    "duration": 11,
    "start_time": "2022-01-17T17:04:48.592Z"
   },
   {
    "duration": 37,
    "start_time": "2022-01-17T17:04:48.605Z"
   },
   {
    "duration": 8,
    "start_time": "2022-01-17T17:04:48.644Z"
   },
   {
    "duration": 16,
    "start_time": "2022-01-17T17:04:48.653Z"
   },
   {
    "duration": 12,
    "start_time": "2022-01-17T17:04:48.671Z"
   },
   {
    "duration": 21,
    "start_time": "2022-01-17T17:04:48.684Z"
   },
   {
    "duration": 3,
    "start_time": "2022-01-17T17:04:48.707Z"
   },
   {
    "duration": 306,
    "start_time": "2022-01-17T17:04:48.712Z"
   },
   {
    "duration": -19,
    "start_time": "2022-01-17T17:04:49.039Z"
   },
   {
    "duration": -24,
    "start_time": "2022-01-17T17:04:49.046Z"
   },
   {
    "duration": -27,
    "start_time": "2022-01-17T17:04:49.050Z"
   },
   {
    "duration": -31,
    "start_time": "2022-01-17T17:04:49.054Z"
   },
   {
    "duration": -33,
    "start_time": "2022-01-17T17:04:49.058Z"
   },
   {
    "duration": -35,
    "start_time": "2022-01-17T17:04:49.061Z"
   },
   {
    "duration": -37,
    "start_time": "2022-01-17T17:04:49.064Z"
   },
   {
    "duration": -39,
    "start_time": "2022-01-17T17:04:49.067Z"
   },
   {
    "duration": -42,
    "start_time": "2022-01-17T17:04:49.071Z"
   },
   {
    "duration": -44,
    "start_time": "2022-01-17T17:04:49.074Z"
   },
   {
    "duration": -46,
    "start_time": "2022-01-17T17:04:49.076Z"
   },
   {
    "duration": -47,
    "start_time": "2022-01-17T17:04:49.079Z"
   },
   {
    "duration": -49,
    "start_time": "2022-01-17T17:04:49.082Z"
   },
   {
    "duration": -51,
    "start_time": "2022-01-17T17:04:49.085Z"
   },
   {
    "duration": -61,
    "start_time": "2022-01-17T17:04:49.095Z"
   },
   {
    "duration": -65,
    "start_time": "2022-01-17T17:04:49.100Z"
   },
   {
    "duration": -67,
    "start_time": "2022-01-17T17:04:49.103Z"
   },
   {
    "duration": -69,
    "start_time": "2022-01-17T17:04:49.106Z"
   },
   {
    "duration": -71,
    "start_time": "2022-01-17T17:04:49.109Z"
   },
   {
    "duration": -80,
    "start_time": "2022-01-17T17:04:49.119Z"
   },
   {
    "duration": 247,
    "start_time": "2022-01-17T17:05:16.760Z"
   },
   {
    "duration": 12,
    "start_time": "2022-01-17T17:05:53.779Z"
   },
   {
    "duration": 676,
    "start_time": "2022-01-17T17:05:59.442Z"
   },
   {
    "duration": 20,
    "start_time": "2022-01-17T17:06:00.120Z"
   },
   {
    "duration": 15,
    "start_time": "2022-01-17T17:06:00.142Z"
   },
   {
    "duration": 8,
    "start_time": "2022-01-17T17:06:00.159Z"
   },
   {
    "duration": 13,
    "start_time": "2022-01-17T17:06:00.168Z"
   },
   {
    "duration": 12,
    "start_time": "2022-01-17T17:06:00.183Z"
   },
   {
    "duration": 7,
    "start_time": "2022-01-17T17:06:00.197Z"
   },
   {
    "duration": 35,
    "start_time": "2022-01-17T17:06:00.207Z"
   },
   {
    "duration": 24,
    "start_time": "2022-01-17T17:06:00.245Z"
   },
   {
    "duration": 33,
    "start_time": "2022-01-17T17:06:00.271Z"
   },
   {
    "duration": 17,
    "start_time": "2022-01-17T17:06:00.306Z"
   },
   {
    "duration": 19,
    "start_time": "2022-01-17T17:06:00.324Z"
   },
   {
    "duration": 19,
    "start_time": "2022-01-17T17:06:00.345Z"
   },
   {
    "duration": 25,
    "start_time": "2022-01-17T17:06:00.366Z"
   },
   {
    "duration": 7,
    "start_time": "2022-01-17T17:06:00.393Z"
   },
   {
    "duration": 28,
    "start_time": "2022-01-17T17:06:00.402Z"
   },
   {
    "duration": 8,
    "start_time": "2022-01-17T17:06:00.432Z"
   },
   {
    "duration": 27,
    "start_time": "2022-01-17T17:06:00.442Z"
   },
   {
    "duration": 19,
    "start_time": "2022-01-17T17:06:00.471Z"
   },
   {
    "duration": 20,
    "start_time": "2022-01-17T17:06:00.492Z"
   },
   {
    "duration": 26,
    "start_time": "2022-01-17T17:06:00.515Z"
   },
   {
    "duration": 318,
    "start_time": "2022-01-17T17:06:00.544Z"
   },
   {
    "duration": -115,
    "start_time": "2022-01-17T17:06:00.981Z"
   },
   {
    "duration": -146,
    "start_time": "2022-01-17T17:06:01.013Z"
   },
   {
    "duration": -149,
    "start_time": "2022-01-17T17:06:01.018Z"
   },
   {
    "duration": -153,
    "start_time": "2022-01-17T17:06:01.023Z"
   },
   {
    "duration": -156,
    "start_time": "2022-01-17T17:06:01.027Z"
   },
   {
    "duration": -157,
    "start_time": "2022-01-17T17:06:01.030Z"
   },
   {
    "duration": -158,
    "start_time": "2022-01-17T17:06:01.033Z"
   },
   {
    "duration": -161,
    "start_time": "2022-01-17T17:06:01.037Z"
   },
   {
    "duration": -161,
    "start_time": "2022-01-17T17:06:01.039Z"
   },
   {
    "duration": -164,
    "start_time": "2022-01-17T17:06:01.043Z"
   },
   {
    "duration": -165,
    "start_time": "2022-01-17T17:06:01.045Z"
   },
   {
    "duration": -166,
    "start_time": "2022-01-17T17:06:01.048Z"
   },
   {
    "duration": -167,
    "start_time": "2022-01-17T17:06:01.051Z"
   },
   {
    "duration": -169,
    "start_time": "2022-01-17T17:06:01.054Z"
   },
   {
    "duration": 8,
    "start_time": "2022-01-17T17:06:26.975Z"
   },
   {
    "duration": 250,
    "start_time": "2022-01-17T17:06:33.480Z"
   },
   {
    "duration": 618,
    "start_time": "2022-01-17T17:09:57.855Z"
   },
   {
    "duration": 18,
    "start_time": "2022-01-17T17:09:58.475Z"
   },
   {
    "duration": 6,
    "start_time": "2022-01-17T17:09:58.496Z"
   },
   {
    "duration": 8,
    "start_time": "2022-01-17T17:09:58.504Z"
   },
   {
    "duration": 9,
    "start_time": "2022-01-17T17:09:58.541Z"
   },
   {
    "duration": 11,
    "start_time": "2022-01-17T17:09:58.552Z"
   },
   {
    "duration": 6,
    "start_time": "2022-01-17T17:09:58.564Z"
   },
   {
    "duration": 3,
    "start_time": "2022-01-17T17:09:58.572Z"
   },
   {
    "duration": 16,
    "start_time": "2022-01-17T17:09:58.577Z"
   },
   {
    "duration": 29,
    "start_time": "2022-01-17T17:09:58.595Z"
   },
   {
    "duration": 10,
    "start_time": "2022-01-17T17:09:58.641Z"
   },
   {
    "duration": 13,
    "start_time": "2022-01-17T17:09:58.653Z"
   },
   {
    "duration": 8,
    "start_time": "2022-01-17T17:09:58.667Z"
   },
   {
    "duration": 17,
    "start_time": "2022-01-17T17:09:58.676Z"
   },
   {
    "duration": 4,
    "start_time": "2022-01-17T17:09:58.695Z"
   },
   {
    "duration": 9,
    "start_time": "2022-01-17T17:09:58.700Z"
   },
   {
    "duration": 11,
    "start_time": "2022-01-17T17:09:58.710Z"
   },
   {
    "duration": 28,
    "start_time": "2022-01-17T17:09:58.722Z"
   },
   {
    "duration": 19,
    "start_time": "2022-01-17T17:09:58.752Z"
   },
   {
    "duration": 18,
    "start_time": "2022-01-17T17:09:58.772Z"
   },
   {
    "duration": 49,
    "start_time": "2022-01-17T17:09:58.792Z"
   },
   {
    "duration": 7,
    "start_time": "2022-01-17T17:09:58.843Z"
   },
   {
    "duration": 6,
    "start_time": "2022-01-17T17:09:58.852Z"
   },
   {
    "duration": 3356,
    "start_time": "2022-01-17T17:09:58.859Z"
   },
   {
    "duration": 12,
    "start_time": "2022-01-17T17:10:02.218Z"
   },
   {
    "duration": 8,
    "start_time": "2022-01-17T17:10:02.241Z"
   },
   {
    "duration": 14,
    "start_time": "2022-01-17T17:10:02.252Z"
   },
   {
    "duration": 52,
    "start_time": "2022-01-17T17:10:02.268Z"
   },
   {
    "duration": 24,
    "start_time": "2022-01-17T17:10:02.321Z"
   },
   {
    "duration": 10,
    "start_time": "2022-01-17T17:10:02.347Z"
   },
   {
    "duration": 24,
    "start_time": "2022-01-17T17:10:02.359Z"
   },
   {
    "duration": 41,
    "start_time": "2022-01-17T17:10:02.384Z"
   },
   {
    "duration": 67,
    "start_time": "2022-01-17T17:10:02.426Z"
   },
   {
    "duration": 44,
    "start_time": "2022-01-17T17:10:02.495Z"
   },
   {
    "duration": 20,
    "start_time": "2022-01-17T17:10:02.541Z"
   },
   {
    "duration": 22,
    "start_time": "2022-01-17T17:10:02.563Z"
   },
   {
    "duration": 287,
    "start_time": "2022-01-17T17:10:58.570Z"
   },
   {
    "duration": 40,
    "start_time": "2022-01-17T17:11:10.258Z"
   },
   {
    "duration": 572,
    "start_time": "2022-01-17T17:11:21.183Z"
   },
   {
    "duration": 16,
    "start_time": "2022-01-17T17:11:21.757Z"
   },
   {
    "duration": 8,
    "start_time": "2022-01-17T17:11:21.775Z"
   },
   {
    "duration": 8,
    "start_time": "2022-01-17T17:11:21.784Z"
   },
   {
    "duration": 14,
    "start_time": "2022-01-17T17:11:21.793Z"
   },
   {
    "duration": 15,
    "start_time": "2022-01-17T17:11:21.808Z"
   },
   {
    "duration": 16,
    "start_time": "2022-01-17T17:11:21.825Z"
   },
   {
    "duration": 3,
    "start_time": "2022-01-17T17:11:21.843Z"
   },
   {
    "duration": 11,
    "start_time": "2022-01-17T17:11:21.848Z"
   },
   {
    "duration": 20,
    "start_time": "2022-01-17T17:11:21.861Z"
   },
   {
    "duration": 12,
    "start_time": "2022-01-17T17:11:21.882Z"
   },
   {
    "duration": 12,
    "start_time": "2022-01-17T17:11:21.896Z"
   },
   {
    "duration": 9,
    "start_time": "2022-01-17T17:11:21.909Z"
   },
   {
    "duration": 27,
    "start_time": "2022-01-17T17:11:21.919Z"
   },
   {
    "duration": 3,
    "start_time": "2022-01-17T17:11:21.947Z"
   },
   {
    "duration": 21,
    "start_time": "2022-01-17T17:11:21.951Z"
   },
   {
    "duration": 6,
    "start_time": "2022-01-17T17:11:21.974Z"
   },
   {
    "duration": 13,
    "start_time": "2022-01-17T17:11:21.982Z"
   },
   {
    "duration": 24,
    "start_time": "2022-01-17T17:11:21.996Z"
   },
   {
    "duration": 37,
    "start_time": "2022-01-17T17:11:22.022Z"
   },
   {
    "duration": 19,
    "start_time": "2022-01-17T17:11:22.060Z"
   },
   {
    "duration": 284,
    "start_time": "2022-01-17T17:11:22.080Z"
   },
   {
    "duration": -136,
    "start_time": "2022-01-17T17:11:22.502Z"
   },
   {
    "duration": -141,
    "start_time": "2022-01-17T17:11:22.508Z"
   },
   {
    "duration": -145,
    "start_time": "2022-01-17T17:11:22.513Z"
   },
   {
    "duration": -171,
    "start_time": "2022-01-17T17:11:22.540Z"
   },
   {
    "duration": -174,
    "start_time": "2022-01-17T17:11:22.544Z"
   },
   {
    "duration": -177,
    "start_time": "2022-01-17T17:11:22.548Z"
   },
   {
    "duration": -184,
    "start_time": "2022-01-17T17:11:22.556Z"
   },
   {
    "duration": -186,
    "start_time": "2022-01-17T17:11:22.559Z"
   },
   {
    "duration": -188,
    "start_time": "2022-01-17T17:11:22.562Z"
   },
   {
    "duration": -191,
    "start_time": "2022-01-17T17:11:22.565Z"
   },
   {
    "duration": -193,
    "start_time": "2022-01-17T17:11:22.568Z"
   },
   {
    "duration": -195,
    "start_time": "2022-01-17T17:11:22.571Z"
   },
   {
    "duration": -197,
    "start_time": "2022-01-17T17:11:22.574Z"
   },
   {
    "duration": -200,
    "start_time": "2022-01-17T17:11:22.577Z"
   },
   {
    "duration": 12,
    "start_time": "2022-01-17T17:11:45.956Z"
   },
   {
    "duration": 710,
    "start_time": "2022-01-17T17:12:03.162Z"
   },
   {
    "duration": 27,
    "start_time": "2022-01-17T17:12:03.875Z"
   },
   {
    "duration": 15,
    "start_time": "2022-01-17T17:12:03.905Z"
   },
   {
    "duration": 19,
    "start_time": "2022-01-17T17:12:03.922Z"
   },
   {
    "duration": 31,
    "start_time": "2022-01-17T17:12:03.943Z"
   },
   {
    "duration": 23,
    "start_time": "2022-01-17T17:12:03.975Z"
   },
   {
    "duration": 8,
    "start_time": "2022-01-17T17:12:03.999Z"
   },
   {
    "duration": 21,
    "start_time": "2022-01-17T17:12:04.010Z"
   },
   {
    "duration": 28,
    "start_time": "2022-01-17T17:12:04.034Z"
   },
   {
    "duration": 32,
    "start_time": "2022-01-17T17:12:04.064Z"
   },
   {
    "duration": 28,
    "start_time": "2022-01-17T17:12:04.098Z"
   },
   {
    "duration": 20,
    "start_time": "2022-01-17T17:12:04.128Z"
   },
   {
    "duration": 15,
    "start_time": "2022-01-17T17:12:04.149Z"
   },
   {
    "duration": 29,
    "start_time": "2022-01-17T17:12:04.166Z"
   },
   {
    "duration": 39,
    "start_time": "2022-01-17T17:12:04.197Z"
   },
   {
    "duration": 47,
    "start_time": "2022-01-17T17:12:04.238Z"
   },
   {
    "duration": 28,
    "start_time": "2022-01-17T17:12:04.287Z"
   },
   {
    "duration": 36,
    "start_time": "2022-01-17T17:12:04.316Z"
   },
   {
    "duration": 43,
    "start_time": "2022-01-17T17:12:04.353Z"
   },
   {
    "duration": 52,
    "start_time": "2022-01-17T17:12:04.398Z"
   },
   {
    "duration": 39,
    "start_time": "2022-01-17T17:12:04.452Z"
   },
   {
    "duration": 43,
    "start_time": "2022-01-17T17:12:04.494Z"
   },
   {
    "duration": 331,
    "start_time": "2022-01-17T17:12:04.541Z"
   },
   {
    "duration": -17,
    "start_time": "2022-01-17T17:12:04.891Z"
   },
   {
    "duration": -23,
    "start_time": "2022-01-17T17:12:04.898Z"
   },
   {
    "duration": -37,
    "start_time": "2022-01-17T17:12:04.914Z"
   },
   {
    "duration": -41,
    "start_time": "2022-01-17T17:12:04.919Z"
   },
   {
    "duration": -43,
    "start_time": "2022-01-17T17:12:04.923Z"
   },
   {
    "duration": -46,
    "start_time": "2022-01-17T17:12:04.927Z"
   },
   {
    "duration": -48,
    "start_time": "2022-01-17T17:12:04.931Z"
   },
   {
    "duration": -52,
    "start_time": "2022-01-17T17:12:04.936Z"
   },
   {
    "duration": -54,
    "start_time": "2022-01-17T17:12:04.940Z"
   },
   {
    "duration": -58,
    "start_time": "2022-01-17T17:12:04.945Z"
   },
   {
    "duration": -60,
    "start_time": "2022-01-17T17:12:04.948Z"
   },
   {
    "duration": -63,
    "start_time": "2022-01-17T17:12:04.952Z"
   },
   {
    "duration": -65,
    "start_time": "2022-01-17T17:12:04.955Z"
   },
   {
    "duration": -67,
    "start_time": "2022-01-17T17:12:04.958Z"
   },
   {
    "duration": 13,
    "start_time": "2022-01-17T17:12:25.840Z"
   },
   {
    "duration": 617,
    "start_time": "2022-01-17T17:12:32.258Z"
   },
   {
    "duration": 20,
    "start_time": "2022-01-17T17:12:32.877Z"
   },
   {
    "duration": 6,
    "start_time": "2022-01-17T17:12:32.899Z"
   },
   {
    "duration": 10,
    "start_time": "2022-01-17T17:12:32.907Z"
   },
   {
    "duration": 9,
    "start_time": "2022-01-17T17:12:32.941Z"
   },
   {
    "duration": 11,
    "start_time": "2022-01-17T17:12:32.952Z"
   },
   {
    "duration": 8,
    "start_time": "2022-01-17T17:12:32.964Z"
   },
   {
    "duration": 3,
    "start_time": "2022-01-17T17:12:32.974Z"
   },
   {
    "duration": 12,
    "start_time": "2022-01-17T17:12:32.979Z"
   },
   {
    "duration": 20,
    "start_time": "2022-01-17T17:12:32.993Z"
   },
   {
    "duration": 32,
    "start_time": "2022-01-17T17:12:33.014Z"
   },
   {
    "duration": 9,
    "start_time": "2022-01-17T17:12:33.048Z"
   },
   {
    "duration": 6,
    "start_time": "2022-01-17T17:12:33.059Z"
   },
   {
    "duration": 16,
    "start_time": "2022-01-17T17:12:33.066Z"
   },
   {
    "duration": 3,
    "start_time": "2022-01-17T17:12:33.083Z"
   },
   {
    "duration": 24,
    "start_time": "2022-01-17T17:12:33.087Z"
   },
   {
    "duration": 9,
    "start_time": "2022-01-17T17:12:33.113Z"
   },
   {
    "duration": 19,
    "start_time": "2022-01-17T17:12:33.123Z"
   },
   {
    "duration": 29,
    "start_time": "2022-01-17T17:12:33.144Z"
   },
   {
    "duration": 21,
    "start_time": "2022-01-17T17:12:33.175Z"
   },
   {
    "duration": 15,
    "start_time": "2022-01-17T17:12:33.198Z"
   },
   {
    "duration": 12,
    "start_time": "2022-01-17T17:12:33.215Z"
   },
   {
    "duration": 292,
    "start_time": "2022-01-17T17:12:33.229Z"
   },
   {
    "duration": -386,
    "start_time": "2022-01-17T17:12:33.909Z"
   },
   {
    "duration": -388,
    "start_time": "2022-01-17T17:12:33.912Z"
   },
   {
    "duration": -391,
    "start_time": "2022-01-17T17:12:33.916Z"
   },
   {
    "duration": -393,
    "start_time": "2022-01-17T17:12:33.919Z"
   },
   {
    "duration": -394,
    "start_time": "2022-01-17T17:12:33.922Z"
   },
   {
    "duration": -395,
    "start_time": "2022-01-17T17:12:33.924Z"
   },
   {
    "duration": -479,
    "start_time": "2022-01-17T17:12:34.009Z"
   },
   {
    "duration": -483,
    "start_time": "2022-01-17T17:12:34.014Z"
   },
   {
    "duration": -487,
    "start_time": "2022-01-17T17:12:34.019Z"
   },
   {
    "duration": -522,
    "start_time": "2022-01-17T17:12:34.055Z"
   },
   {
    "duration": -561,
    "start_time": "2022-01-17T17:12:34.095Z"
   },
   {
    "duration": -564,
    "start_time": "2022-01-17T17:12:34.099Z"
   },
   {
    "duration": -567,
    "start_time": "2022-01-17T17:12:34.103Z"
   },
   {
    "duration": -571,
    "start_time": "2022-01-17T17:12:34.108Z"
   },
   {
    "duration": 104,
    "start_time": "2022-01-17T17:14:02.629Z"
   },
   {
    "duration": 589,
    "start_time": "2022-01-17T17:14:13.568Z"
   },
   {
    "duration": 16,
    "start_time": "2022-01-17T17:14:14.159Z"
   },
   {
    "duration": 5,
    "start_time": "2022-01-17T17:14:14.180Z"
   },
   {
    "duration": 8,
    "start_time": "2022-01-17T17:14:14.186Z"
   },
   {
    "duration": 10,
    "start_time": "2022-01-17T17:14:14.195Z"
   },
   {
    "duration": 11,
    "start_time": "2022-01-17T17:14:14.206Z"
   },
   {
    "duration": 27,
    "start_time": "2022-01-17T17:14:14.219Z"
   },
   {
    "duration": 4,
    "start_time": "2022-01-17T17:14:14.248Z"
   },
   {
    "duration": 11,
    "start_time": "2022-01-17T17:14:14.253Z"
   },
   {
    "duration": 18,
    "start_time": "2022-01-17T17:14:14.266Z"
   },
   {
    "duration": 7,
    "start_time": "2022-01-17T17:14:14.285Z"
   },
   {
    "duration": 13,
    "start_time": "2022-01-17T17:14:14.293Z"
   },
   {
    "duration": 7,
    "start_time": "2022-01-17T17:14:14.308Z"
   },
   {
    "duration": 31,
    "start_time": "2022-01-17T17:14:14.316Z"
   },
   {
    "duration": 3,
    "start_time": "2022-01-17T17:14:14.349Z"
   },
   {
    "duration": 12,
    "start_time": "2022-01-17T17:14:14.354Z"
   },
   {
    "duration": 13,
    "start_time": "2022-01-17T17:14:14.368Z"
   },
   {
    "duration": 12,
    "start_time": "2022-01-17T17:14:14.383Z"
   },
   {
    "duration": 22,
    "start_time": "2022-01-17T17:14:14.397Z"
   },
   {
    "duration": 31,
    "start_time": "2022-01-17T17:14:14.421Z"
   },
   {
    "duration": 14,
    "start_time": "2022-01-17T17:14:14.453Z"
   },
   {
    "duration": 7,
    "start_time": "2022-01-17T17:14:14.470Z"
   },
   {
    "duration": 5,
    "start_time": "2022-01-17T17:14:14.478Z"
   },
   {
    "duration": 3602,
    "start_time": "2022-01-17T17:14:14.484Z"
   },
   {
    "duration": 11,
    "start_time": "2022-01-17T17:14:18.088Z"
   },
   {
    "duration": 34,
    "start_time": "2022-01-17T17:14:18.101Z"
   },
   {
    "duration": 23,
    "start_time": "2022-01-17T17:14:18.136Z"
   },
   {
    "duration": 22,
    "start_time": "2022-01-17T17:14:18.161Z"
   },
   {
    "duration": 31,
    "start_time": "2022-01-17T17:14:18.185Z"
   },
   {
    "duration": 17,
    "start_time": "2022-01-17T17:14:18.217Z"
   },
   {
    "duration": 29,
    "start_time": "2022-01-17T17:14:18.235Z"
   },
   {
    "duration": 42,
    "start_time": "2022-01-17T17:14:18.266Z"
   },
   {
    "duration": 23,
    "start_time": "2022-01-17T17:14:18.310Z"
   },
   {
    "duration": 26,
    "start_time": "2022-01-17T17:14:18.335Z"
   },
   {
    "duration": 27,
    "start_time": "2022-01-17T17:14:18.362Z"
   },
   {
    "duration": 18,
    "start_time": "2022-01-17T17:14:18.391Z"
   }
  ],
  "kernelspec": {
   "display_name": "Python 3 (ipykernel)",
   "language": "python",
   "name": "python3"
  },
  "language_info": {
   "codemirror_mode": {
    "name": "ipython",
    "version": 3
   },
   "file_extension": ".py",
   "mimetype": "text/x-python",
   "name": "python",
   "nbconvert_exporter": "python",
   "pygments_lexer": "ipython3",
   "version": "3.9.10"
  },
  "toc": {
   "base_numbering": 1,
   "nav_menu": {},
   "number_sections": true,
   "sideBar": true,
   "skip_h1_title": true,
   "title_cell": "Table of Contents",
   "title_sidebar": "Contents",
   "toc_cell": false,
   "toc_position": {},
   "toc_section_display": true,
   "toc_window_display": false
  }
 },
 "nbformat": 4,
 "nbformat_minor": 2
}
