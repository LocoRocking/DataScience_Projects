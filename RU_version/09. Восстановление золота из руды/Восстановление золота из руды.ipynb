{
 "cells": [
  {
   "cell_type": "markdown",
   "metadata": {},
   "source": [
    "# Восстановление золота из руды"
   ]
  },
  {
   "cell_type": "markdown",
   "metadata": {},
   "source": [
    "Подготовьте прототип модели машинного обучения для «Цифры». Компания разрабатывает решения для эффективной работы промышленных предприятий.\n",
    "\n",
    "Модель должна предсказать коэффициент восстановления золота из золотосодержащей руды. Используйте данные с параметрами добычи и очистки. \n",
    "\n",
    "Модель поможет оптимизировать производство, чтобы не запускать предприятие с убыточными характеристиками.\n",
    "\n",
    "Вам нужно:\n",
    "\n",
    "1. Подготовить данные;\n",
    "2. Провести исследовательский анализ данных;\n",
    "3. Построить и обучить модель."
   ]
  },
  {
   "cell_type": "markdown",
   "metadata": {},
   "source": [
    "<font size=4><b>Описание данных </font></b>\n",
    "\n",
    "<b>Технологический процесс</b>\n",
    "- `Rougher feed` — исходное сырье\n",
    "- `Rougher additions` (или reagent additions) — флотационные реагенты: Xanthate, Sulphate, Depressant\n",
    "- `Xanthate` — ксантогенат (промотер, или активатор флотации);\n",
    "- `Sulphate` — сульфат (на данном производстве сульфид натрия);\n",
    "- `Depressant` — депрессант (силикат натрия).\n",
    "- `Rougher process` (англ. «грубый процесс») — флотация\n",
    "- `Rougher tails` — отвальные хвосты\n",
    "- `Float banks` — флотационная установка\n",
    "- `Cleaner process` — очистка\n",
    "- `Rougher Au` — черновой концентрат золота\n",
    "- `Final Au` — финальный концентрат золота\n",
    "\n",
    "<b>Параметры этапов</b>\n",
    "- `air amount` — объём воздуха\n",
    "- `fluid levels` — уровень жидкости\n",
    "- `feed size` — размер гранул сырья\n",
    "- `feed rate` — скорость подачи\n",
    "\n",
    "<b>Наименование признаков</b>\n",
    "    \n",
    "    Наименование признаков должно быть такое:\n",
    "    [этап].[тип_параметра].[название_параметра]\n",
    "    Пример: rougher.input.feed_ag\n",
    "Возможные значения для блока [этап]:\n",
    "- `rougher` — флотация\n",
    "- `primary_cleaner` — первичная очистка\n",
    "- `secondary_cleaner` — вторичная очистка\n",
    "- `final` — финальные характеристики\n",
    "Возможные значения для блока [тип_параметра]:\n",
    "- `input` — параметры сырья\n",
    "- `output` — параметры продукта\n",
    "- `state` — параметры, характеризующие текущее состояние этапа\n",
    "- `calculation` — расчётные характеристики"
   ]
  },
  {
   "cell_type": "markdown",
   "metadata": {},
   "source": [
    "## Подготовка данных"
   ]
  },
  {
   "cell_type": "code",
   "execution_count": 1,
   "metadata": {},
   "outputs": [],
   "source": [
    "#импортируем необходимые библиотеки\n",
    "\n",
    "import pandas as pd\n",
    "import numpy as np\n",
    "import matplotlib.pyplot as plt\n",
    "import seaborn as sns\n",
    "\n",
    "from sklearn.model_selection import cross_val_score\n",
    "from sklearn.metrics import make_scorer\n",
    "from sklearn.metrics import mean_absolute_error\n",
    "\n",
    "from sklearn.tree import DecisionTreeRegressor\n",
    "from sklearn.linear_model import LinearRegression\n",
    "from sklearn.ensemble import RandomForestRegressor\n",
    "from sklearn.dummy import DummyRegressor\n",
    "\n",
    "import warnings\n",
    "warnings.filterwarnings(\"ignore\")"
   ]
  },
  {
   "cell_type": "markdown",
   "metadata": {},
   "source": [
    "### Загрузим наши датасеты и изучим их."
   ]
  },
  {
   "cell_type": "code",
   "execution_count": 2,
   "metadata": {},
   "outputs": [],
   "source": [
    "df_train=pd.read_csv('/datasets/gold_recovery_train_new.csv')\n",
    "df_test=pd.read_csv('/datasets/gold_recovery_test_new.csv')\n",
    "df_full=pd.read_csv('/datasets/gold_recovery_full_new.csv')"
   ]
  },
  {
   "cell_type": "code",
   "execution_count": 3,
   "metadata": {},
   "outputs": [
    {
     "data": {
      "text/html": [
       "<div>\n",
       "<style scoped>\n",
       "    .dataframe tbody tr th:only-of-type {\n",
       "        vertical-align: middle;\n",
       "    }\n",
       "\n",
       "    .dataframe tbody tr th {\n",
       "        vertical-align: top;\n",
       "    }\n",
       "\n",
       "    .dataframe thead th {\n",
       "        text-align: right;\n",
       "    }\n",
       "</style>\n",
       "<table border=\"1\" class=\"dataframe\">\n",
       "  <thead>\n",
       "    <tr style=\"text-align: right;\">\n",
       "      <th></th>\n",
       "      <th>date</th>\n",
       "      <th>final.output.concentrate_ag</th>\n",
       "      <th>final.output.concentrate_pb</th>\n",
       "      <th>final.output.concentrate_sol</th>\n",
       "      <th>final.output.concentrate_au</th>\n",
       "      <th>final.output.recovery</th>\n",
       "      <th>final.output.tail_ag</th>\n",
       "      <th>final.output.tail_pb</th>\n",
       "      <th>final.output.tail_sol</th>\n",
       "      <th>final.output.tail_au</th>\n",
       "      <th>...</th>\n",
       "      <th>secondary_cleaner.state.floatbank4_a_air</th>\n",
       "      <th>secondary_cleaner.state.floatbank4_a_level</th>\n",
       "      <th>secondary_cleaner.state.floatbank4_b_air</th>\n",
       "      <th>secondary_cleaner.state.floatbank4_b_level</th>\n",
       "      <th>secondary_cleaner.state.floatbank5_a_air</th>\n",
       "      <th>secondary_cleaner.state.floatbank5_a_level</th>\n",
       "      <th>secondary_cleaner.state.floatbank5_b_air</th>\n",
       "      <th>secondary_cleaner.state.floatbank5_b_level</th>\n",
       "      <th>secondary_cleaner.state.floatbank6_a_air</th>\n",
       "      <th>secondary_cleaner.state.floatbank6_a_level</th>\n",
       "    </tr>\n",
       "  </thead>\n",
       "  <tbody>\n",
       "    <tr>\n",
       "      <th>6453</th>\n",
       "      <td>2017-03-29 01:59:59</td>\n",
       "      <td>6.439484</td>\n",
       "      <td>10.337747</td>\n",
       "      <td>10.368218</td>\n",
       "      <td>44.185407</td>\n",
       "      <td>66.176489</td>\n",
       "      <td>10.154185</td>\n",
       "      <td>3.081353</td>\n",
       "      <td>10.234472</td>\n",
       "      <td>3.303333</td>\n",
       "      <td>...</td>\n",
       "      <td>25.012694</td>\n",
       "      <td>-400.869291</td>\n",
       "      <td>22.981782</td>\n",
       "      <td>-400.221335</td>\n",
       "      <td>29.855102</td>\n",
       "      <td>-449.937652</td>\n",
       "      <td>23.983982</td>\n",
       "      <td>-449.973349</td>\n",
       "      <td>24.997469</td>\n",
       "      <td>-500.290213</td>\n",
       "    </tr>\n",
       "    <tr>\n",
       "      <th>1294</th>\n",
       "      <td>2016-03-15 15:00:00</td>\n",
       "      <td>4.891288</td>\n",
       "      <td>10.144035</td>\n",
       "      <td>NaN</td>\n",
       "      <td>43.864960</td>\n",
       "      <td>51.142376</td>\n",
       "      <td>11.737320</td>\n",
       "      <td>2.362321</td>\n",
       "      <td>10.940334</td>\n",
       "      <td>3.537791</td>\n",
       "      <td>...</td>\n",
       "      <td>12.079583</td>\n",
       "      <td>-499.235259</td>\n",
       "      <td>12.070643</td>\n",
       "      <td>-500.609918</td>\n",
       "      <td>12.005231</td>\n",
       "      <td>-499.813593</td>\n",
       "      <td>9.929209</td>\n",
       "      <td>-500.460163</td>\n",
       "      <td>19.982613</td>\n",
       "      <td>-499.968516</td>\n",
       "    </tr>\n",
       "    <tr>\n",
       "      <th>7853</th>\n",
       "      <td>2017-06-08 15:59:59</td>\n",
       "      <td>3.203948</td>\n",
       "      <td>7.685245</td>\n",
       "      <td>6.125540</td>\n",
       "      <td>35.113460</td>\n",
       "      <td>65.275308</td>\n",
       "      <td>9.115348</td>\n",
       "      <td>3.494184</td>\n",
       "      <td>8.999017</td>\n",
       "      <td>3.352367</td>\n",
       "      <td>...</td>\n",
       "      <td>15.062805</td>\n",
       "      <td>-499.764871</td>\n",
       "      <td>9.910267</td>\n",
       "      <td>-380.013862</td>\n",
       "      <td>15.020912</td>\n",
       "      <td>-500.085743</td>\n",
       "      <td>9.990688</td>\n",
       "      <td>-499.919227</td>\n",
       "      <td>14.988442</td>\n",
       "      <td>-500.294811</td>\n",
       "    </tr>\n",
       "    <tr>\n",
       "      <th>11521</th>\n",
       "      <td>2018-04-11 12:59:59</td>\n",
       "      <td>3.990251</td>\n",
       "      <td>10.318484</td>\n",
       "      <td>7.990059</td>\n",
       "      <td>48.031595</td>\n",
       "      <td>75.942548</td>\n",
       "      <td>9.137777</td>\n",
       "      <td>1.817899</td>\n",
       "      <td>7.512217</td>\n",
       "      <td>1.698492</td>\n",
       "      <td>...</td>\n",
       "      <td>22.974744</td>\n",
       "      <td>-500.300473</td>\n",
       "      <td>15.993021</td>\n",
       "      <td>-499.829856</td>\n",
       "      <td>17.994708</td>\n",
       "      <td>-500.281021</td>\n",
       "      <td>12.025567</td>\n",
       "      <td>-499.836729</td>\n",
       "      <td>13.019217</td>\n",
       "      <td>-501.258366</td>\n",
       "    </tr>\n",
       "    <tr>\n",
       "      <th>2101</th>\n",
       "      <td>2016-05-05 09:59:59</td>\n",
       "      <td>4.922136</td>\n",
       "      <td>10.921704</td>\n",
       "      <td>9.840690</td>\n",
       "      <td>45.387092</td>\n",
       "      <td>56.484533</td>\n",
       "      <td>7.794478</td>\n",
       "      <td>2.177571</td>\n",
       "      <td>12.898558</td>\n",
       "      <td>4.053098</td>\n",
       "      <td>...</td>\n",
       "      <td>13.994973</td>\n",
       "      <td>-499.167778</td>\n",
       "      <td>12.007341</td>\n",
       "      <td>-499.559576</td>\n",
       "      <td>11.024725</td>\n",
       "      <td>-499.172166</td>\n",
       "      <td>9.945266</td>\n",
       "      <td>-499.876769</td>\n",
       "      <td>19.985860</td>\n",
       "      <td>-499.434755</td>\n",
       "    </tr>\n",
       "    <tr>\n",
       "      <th>13268</th>\n",
       "      <td>2018-07-01 16:59:59</td>\n",
       "      <td>3.778201</td>\n",
       "      <td>12.018517</td>\n",
       "      <td>6.630570</td>\n",
       "      <td>45.132151</td>\n",
       "      <td>64.196943</td>\n",
       "      <td>10.724112</td>\n",
       "      <td>3.295329</td>\n",
       "      <td>8.145728</td>\n",
       "      <td>2.540952</td>\n",
       "      <td>...</td>\n",
       "      <td>25.023789</td>\n",
       "      <td>-500.323637</td>\n",
       "      <td>20.008901</td>\n",
       "      <td>-499.656440</td>\n",
       "      <td>17.956239</td>\n",
       "      <td>-499.901861</td>\n",
       "      <td>12.983529</td>\n",
       "      <td>-500.005920</td>\n",
       "      <td>12.986782</td>\n",
       "      <td>-499.772841</td>\n",
       "    </tr>\n",
       "    <tr>\n",
       "      <th>3245</th>\n",
       "      <td>2016-06-24 19:59:59</td>\n",
       "      <td>4.876003</td>\n",
       "      <td>9.989649</td>\n",
       "      <td>8.447113</td>\n",
       "      <td>44.663520</td>\n",
       "      <td>69.484108</td>\n",
       "      <td>8.129902</td>\n",
       "      <td>1.805347</td>\n",
       "      <td>11.313432</td>\n",
       "      <td>2.646701</td>\n",
       "      <td>...</td>\n",
       "      <td>15.967932</td>\n",
       "      <td>-498.496684</td>\n",
       "      <td>8.027520</td>\n",
       "      <td>-482.006475</td>\n",
       "      <td>15.991471</td>\n",
       "      <td>-496.255021</td>\n",
       "      <td>7.000942</td>\n",
       "      <td>-499.577076</td>\n",
       "      <td>24.960675</td>\n",
       "      <td>-498.018556</td>\n",
       "    </tr>\n",
       "    <tr>\n",
       "      <th>11506</th>\n",
       "      <td>2018-04-10 21:59:59</td>\n",
       "      <td>4.068076</td>\n",
       "      <td>10.617141</td>\n",
       "      <td>8.219554</td>\n",
       "      <td>47.324779</td>\n",
       "      <td>69.122733</td>\n",
       "      <td>9.749850</td>\n",
       "      <td>1.992082</td>\n",
       "      <td>7.169708</td>\n",
       "      <td>2.237453</td>\n",
       "      <td>...</td>\n",
       "      <td>23.021082</td>\n",
       "      <td>-500.649247</td>\n",
       "      <td>16.017843</td>\n",
       "      <td>-500.122132</td>\n",
       "      <td>18.017044</td>\n",
       "      <td>-500.143387</td>\n",
       "      <td>11.976511</td>\n",
       "      <td>-500.029029</td>\n",
       "      <td>13.006925</td>\n",
       "      <td>-500.535217</td>\n",
       "    </tr>\n",
       "    <tr>\n",
       "      <th>504</th>\n",
       "      <td>2016-02-07 12:00:00</td>\n",
       "      <td>5.067338</td>\n",
       "      <td>10.557382</td>\n",
       "      <td>0.515755</td>\n",
       "      <td>45.156734</td>\n",
       "      <td>36.777016</td>\n",
       "      <td>10.712052</td>\n",
       "      <td>1.240399</td>\n",
       "      <td>16.188759</td>\n",
       "      <td>2.194391</td>\n",
       "      <td>...</td>\n",
       "      <td>17.025506</td>\n",
       "      <td>-500.783983</td>\n",
       "      <td>16.002853</td>\n",
       "      <td>-500.768772</td>\n",
       "      <td>17.996364</td>\n",
       "      <td>-500.202848</td>\n",
       "      <td>16.024853</td>\n",
       "      <td>-499.515336</td>\n",
       "      <td>17.990359</td>\n",
       "      <td>-499.917621</td>\n",
       "    </tr>\n",
       "    <tr>\n",
       "      <th>10703</th>\n",
       "      <td>2018-03-01 20:59:59</td>\n",
       "      <td>5.648765</td>\n",
       "      <td>9.575525</td>\n",
       "      <td>7.665725</td>\n",
       "      <td>45.986914</td>\n",
       "      <td>78.450895</td>\n",
       "      <td>10.625504</td>\n",
       "      <td>1.577467</td>\n",
       "      <td>9.165919</td>\n",
       "      <td>1.811090</td>\n",
       "      <td>...</td>\n",
       "      <td>23.028989</td>\n",
       "      <td>-499.229568</td>\n",
       "      <td>14.952855</td>\n",
       "      <td>-500.296972</td>\n",
       "      <td>18.017754</td>\n",
       "      <td>-499.594700</td>\n",
       "      <td>12.014880</td>\n",
       "      <td>-499.936602</td>\n",
       "      <td>11.991718</td>\n",
       "      <td>-499.460876</td>\n",
       "    </tr>\n",
       "  </tbody>\n",
       "</table>\n",
       "<p>10 rows × 87 columns</p>\n",
       "</div>"
      ],
      "text/plain": [
       "                      date  final.output.concentrate_ag  \\\n",
       "6453   2017-03-29 01:59:59                     6.439484   \n",
       "1294   2016-03-15 15:00:00                     4.891288   \n",
       "7853   2017-06-08 15:59:59                     3.203948   \n",
       "11521  2018-04-11 12:59:59                     3.990251   \n",
       "2101   2016-05-05 09:59:59                     4.922136   \n",
       "13268  2018-07-01 16:59:59                     3.778201   \n",
       "3245   2016-06-24 19:59:59                     4.876003   \n",
       "11506  2018-04-10 21:59:59                     4.068076   \n",
       "504    2016-02-07 12:00:00                     5.067338   \n",
       "10703  2018-03-01 20:59:59                     5.648765   \n",
       "\n",
       "       final.output.concentrate_pb  final.output.concentrate_sol  \\\n",
       "6453                     10.337747                     10.368218   \n",
       "1294                     10.144035                           NaN   \n",
       "7853                      7.685245                      6.125540   \n",
       "11521                    10.318484                      7.990059   \n",
       "2101                     10.921704                      9.840690   \n",
       "13268                    12.018517                      6.630570   \n",
       "3245                      9.989649                      8.447113   \n",
       "11506                    10.617141                      8.219554   \n",
       "504                      10.557382                      0.515755   \n",
       "10703                     9.575525                      7.665725   \n",
       "\n",
       "       final.output.concentrate_au  final.output.recovery  \\\n",
       "6453                     44.185407              66.176489   \n",
       "1294                     43.864960              51.142376   \n",
       "7853                     35.113460              65.275308   \n",
       "11521                    48.031595              75.942548   \n",
       "2101                     45.387092              56.484533   \n",
       "13268                    45.132151              64.196943   \n",
       "3245                     44.663520              69.484108   \n",
       "11506                    47.324779              69.122733   \n",
       "504                      45.156734              36.777016   \n",
       "10703                    45.986914              78.450895   \n",
       "\n",
       "       final.output.tail_ag  final.output.tail_pb  final.output.tail_sol  \\\n",
       "6453              10.154185              3.081353              10.234472   \n",
       "1294              11.737320              2.362321              10.940334   \n",
       "7853               9.115348              3.494184               8.999017   \n",
       "11521              9.137777              1.817899               7.512217   \n",
       "2101               7.794478              2.177571              12.898558   \n",
       "13268             10.724112              3.295329               8.145728   \n",
       "3245               8.129902              1.805347              11.313432   \n",
       "11506              9.749850              1.992082               7.169708   \n",
       "504               10.712052              1.240399              16.188759   \n",
       "10703             10.625504              1.577467               9.165919   \n",
       "\n",
       "       final.output.tail_au  ...  secondary_cleaner.state.floatbank4_a_air  \\\n",
       "6453               3.303333  ...                                 25.012694   \n",
       "1294               3.537791  ...                                 12.079583   \n",
       "7853               3.352367  ...                                 15.062805   \n",
       "11521              1.698492  ...                                 22.974744   \n",
       "2101               4.053098  ...                                 13.994973   \n",
       "13268              2.540952  ...                                 25.023789   \n",
       "3245               2.646701  ...                                 15.967932   \n",
       "11506              2.237453  ...                                 23.021082   \n",
       "504                2.194391  ...                                 17.025506   \n",
       "10703              1.811090  ...                                 23.028989   \n",
       "\n",
       "       secondary_cleaner.state.floatbank4_a_level  \\\n",
       "6453                                  -400.869291   \n",
       "1294                                  -499.235259   \n",
       "7853                                  -499.764871   \n",
       "11521                                 -500.300473   \n",
       "2101                                  -499.167778   \n",
       "13268                                 -500.323637   \n",
       "3245                                  -498.496684   \n",
       "11506                                 -500.649247   \n",
       "504                                   -500.783983   \n",
       "10703                                 -499.229568   \n",
       "\n",
       "       secondary_cleaner.state.floatbank4_b_air  \\\n",
       "6453                                  22.981782   \n",
       "1294                                  12.070643   \n",
       "7853                                   9.910267   \n",
       "11521                                 15.993021   \n",
       "2101                                  12.007341   \n",
       "13268                                 20.008901   \n",
       "3245                                   8.027520   \n",
       "11506                                 16.017843   \n",
       "504                                   16.002853   \n",
       "10703                                 14.952855   \n",
       "\n",
       "       secondary_cleaner.state.floatbank4_b_level  \\\n",
       "6453                                  -400.221335   \n",
       "1294                                  -500.609918   \n",
       "7853                                  -380.013862   \n",
       "11521                                 -499.829856   \n",
       "2101                                  -499.559576   \n",
       "13268                                 -499.656440   \n",
       "3245                                  -482.006475   \n",
       "11506                                 -500.122132   \n",
       "504                                   -500.768772   \n",
       "10703                                 -500.296972   \n",
       "\n",
       "       secondary_cleaner.state.floatbank5_a_air  \\\n",
       "6453                                  29.855102   \n",
       "1294                                  12.005231   \n",
       "7853                                  15.020912   \n",
       "11521                                 17.994708   \n",
       "2101                                  11.024725   \n",
       "13268                                 17.956239   \n",
       "3245                                  15.991471   \n",
       "11506                                 18.017044   \n",
       "504                                   17.996364   \n",
       "10703                                 18.017754   \n",
       "\n",
       "       secondary_cleaner.state.floatbank5_a_level  \\\n",
       "6453                                  -449.937652   \n",
       "1294                                  -499.813593   \n",
       "7853                                  -500.085743   \n",
       "11521                                 -500.281021   \n",
       "2101                                  -499.172166   \n",
       "13268                                 -499.901861   \n",
       "3245                                  -496.255021   \n",
       "11506                                 -500.143387   \n",
       "504                                   -500.202848   \n",
       "10703                                 -499.594700   \n",
       "\n",
       "       secondary_cleaner.state.floatbank5_b_air  \\\n",
       "6453                                  23.983982   \n",
       "1294                                   9.929209   \n",
       "7853                                   9.990688   \n",
       "11521                                 12.025567   \n",
       "2101                                   9.945266   \n",
       "13268                                 12.983529   \n",
       "3245                                   7.000942   \n",
       "11506                                 11.976511   \n",
       "504                                   16.024853   \n",
       "10703                                 12.014880   \n",
       "\n",
       "       secondary_cleaner.state.floatbank5_b_level  \\\n",
       "6453                                  -449.973349   \n",
       "1294                                  -500.460163   \n",
       "7853                                  -499.919227   \n",
       "11521                                 -499.836729   \n",
       "2101                                  -499.876769   \n",
       "13268                                 -500.005920   \n",
       "3245                                  -499.577076   \n",
       "11506                                 -500.029029   \n",
       "504                                   -499.515336   \n",
       "10703                                 -499.936602   \n",
       "\n",
       "       secondary_cleaner.state.floatbank6_a_air  \\\n",
       "6453                                  24.997469   \n",
       "1294                                  19.982613   \n",
       "7853                                  14.988442   \n",
       "11521                                 13.019217   \n",
       "2101                                  19.985860   \n",
       "13268                                 12.986782   \n",
       "3245                                  24.960675   \n",
       "11506                                 13.006925   \n",
       "504                                   17.990359   \n",
       "10703                                 11.991718   \n",
       "\n",
       "       secondary_cleaner.state.floatbank6_a_level  \n",
       "6453                                  -500.290213  \n",
       "1294                                  -499.968516  \n",
       "7853                                  -500.294811  \n",
       "11521                                 -501.258366  \n",
       "2101                                  -499.434755  \n",
       "13268                                 -499.772841  \n",
       "3245                                  -498.018556  \n",
       "11506                                 -500.535217  \n",
       "504                                   -499.917621  \n",
       "10703                                 -499.460876  \n",
       "\n",
       "[10 rows x 87 columns]"
      ]
     },
     "execution_count": 3,
     "metadata": {},
     "output_type": "execute_result"
    }
   ],
   "source": [
    "#обучающая выборка\n",
    "df_train.sample(10)"
   ]
  },
  {
   "cell_type": "code",
   "execution_count": 4,
   "metadata": {},
   "outputs": [
    {
     "name": "stdout",
     "output_type": "stream",
     "text": [
      "<class 'pandas.core.frame.DataFrame'>\n",
      "RangeIndex: 14149 entries, 0 to 14148\n",
      "Data columns (total 87 columns):\n",
      " #   Column                                              Non-Null Count  Dtype  \n",
      "---  ------                                              --------------  -----  \n",
      " 0   date                                                14149 non-null  object \n",
      " 1   final.output.concentrate_ag                         14148 non-null  float64\n",
      " 2   final.output.concentrate_pb                         14148 non-null  float64\n",
      " 3   final.output.concentrate_sol                        13938 non-null  float64\n",
      " 4   final.output.concentrate_au                         14149 non-null  float64\n",
      " 5   final.output.recovery                               14149 non-null  float64\n",
      " 6   final.output.tail_ag                                14149 non-null  float64\n",
      " 7   final.output.tail_pb                                14049 non-null  float64\n",
      " 8   final.output.tail_sol                               14144 non-null  float64\n",
      " 9   final.output.tail_au                                14149 non-null  float64\n",
      " 10  primary_cleaner.input.sulfate                       14129 non-null  float64\n",
      " 11  primary_cleaner.input.depressant                    14117 non-null  float64\n",
      " 12  primary_cleaner.input.feed_size                     14149 non-null  float64\n",
      " 13  primary_cleaner.input.xanthate                      14049 non-null  float64\n",
      " 14  primary_cleaner.output.concentrate_ag               14149 non-null  float64\n",
      " 15  primary_cleaner.output.concentrate_pb               14063 non-null  float64\n",
      " 16  primary_cleaner.output.concentrate_sol              13863 non-null  float64\n",
      " 17  primary_cleaner.output.concentrate_au               14149 non-null  float64\n",
      " 18  primary_cleaner.output.tail_ag                      14148 non-null  float64\n",
      " 19  primary_cleaner.output.tail_pb                      14134 non-null  float64\n",
      " 20  primary_cleaner.output.tail_sol                     14103 non-null  float64\n",
      " 21  primary_cleaner.output.tail_au                      14149 non-null  float64\n",
      " 22  primary_cleaner.state.floatbank8_a_air              14145 non-null  float64\n",
      " 23  primary_cleaner.state.floatbank8_a_level            14148 non-null  float64\n",
      " 24  primary_cleaner.state.floatbank8_b_air              14145 non-null  float64\n",
      " 25  primary_cleaner.state.floatbank8_b_level            14148 non-null  float64\n",
      " 26  primary_cleaner.state.floatbank8_c_air              14147 non-null  float64\n",
      " 27  primary_cleaner.state.floatbank8_c_level            14148 non-null  float64\n",
      " 28  primary_cleaner.state.floatbank8_d_air              14146 non-null  float64\n",
      " 29  primary_cleaner.state.floatbank8_d_level            14148 non-null  float64\n",
      " 30  rougher.calculation.sulfate_to_au_concentrate       14148 non-null  float64\n",
      " 31  rougher.calculation.floatbank10_sulfate_to_au_feed  14148 non-null  float64\n",
      " 32  rougher.calculation.floatbank11_sulfate_to_au_feed  14148 non-null  float64\n",
      " 33  rougher.calculation.au_pb_ratio                     14149 non-null  float64\n",
      " 34  rougher.input.feed_ag                               14149 non-null  float64\n",
      " 35  rougher.input.feed_pb                               14049 non-null  float64\n",
      " 36  rougher.input.feed_rate                             14141 non-null  float64\n",
      " 37  rougher.input.feed_size                             14005 non-null  float64\n",
      " 38  rougher.input.feed_sol                              14071 non-null  float64\n",
      " 39  rougher.input.feed_au                               14149 non-null  float64\n",
      " 40  rougher.input.floatbank10_sulfate                   14120 non-null  float64\n",
      " 41  rougher.input.floatbank10_xanthate                  14141 non-null  float64\n",
      " 42  rougher.input.floatbank11_sulfate                   14113 non-null  float64\n",
      " 43  rougher.input.floatbank11_xanthate                  13721 non-null  float64\n",
      " 44  rougher.output.concentrate_ag                       14149 non-null  float64\n",
      " 45  rougher.output.concentrate_pb                       14149 non-null  float64\n",
      " 46  rougher.output.concentrate_sol                      14127 non-null  float64\n",
      " 47  rougher.output.concentrate_au                       14149 non-null  float64\n",
      " 48  rougher.output.recovery                             14149 non-null  float64\n",
      " 49  rougher.output.tail_ag                              14148 non-null  float64\n",
      " 50  rougher.output.tail_pb                              14149 non-null  float64\n",
      " 51  rougher.output.tail_sol                             14149 non-null  float64\n",
      " 52  rougher.output.tail_au                              14149 non-null  float64\n",
      " 53  rougher.state.floatbank10_a_air                     14148 non-null  float64\n",
      " 54  rougher.state.floatbank10_a_level                   14148 non-null  float64\n",
      " 55  rougher.state.floatbank10_b_air                     14148 non-null  float64\n",
      " 56  rougher.state.floatbank10_b_level                   14148 non-null  float64\n",
      " 57  rougher.state.floatbank10_c_air                     14148 non-null  float64\n",
      " 58  rougher.state.floatbank10_c_level                   14148 non-null  float64\n",
      " 59  rougher.state.floatbank10_d_air                     14149 non-null  float64\n",
      " 60  rougher.state.floatbank10_d_level                   14149 non-null  float64\n",
      " 61  rougher.state.floatbank10_e_air                     13713 non-null  float64\n",
      " 62  rougher.state.floatbank10_e_level                   14149 non-null  float64\n",
      " 63  rougher.state.floatbank10_f_air                     14149 non-null  float64\n",
      " 64  rougher.state.floatbank10_f_level                   14149 non-null  float64\n",
      " 65  secondary_cleaner.output.tail_ag                    14147 non-null  float64\n",
      " 66  secondary_cleaner.output.tail_pb                    14139 non-null  float64\n",
      " 67  secondary_cleaner.output.tail_sol                   12544 non-null  float64\n",
      " 68  secondary_cleaner.output.tail_au                    14149 non-null  float64\n",
      " 69  secondary_cleaner.state.floatbank2_a_air            13932 non-null  float64\n",
      " 70  secondary_cleaner.state.floatbank2_a_level          14148 non-null  float64\n",
      " 71  secondary_cleaner.state.floatbank2_b_air            14128 non-null  float64\n",
      " 72  secondary_cleaner.state.floatbank2_b_level          14148 non-null  float64\n",
      " 73  secondary_cleaner.state.floatbank3_a_air            14145 non-null  float64\n",
      " 74  secondary_cleaner.state.floatbank3_a_level          14148 non-null  float64\n",
      " 75  secondary_cleaner.state.floatbank3_b_air            14148 non-null  float64\n",
      " 76  secondary_cleaner.state.floatbank3_b_level          14148 non-null  float64\n",
      " 77  secondary_cleaner.state.floatbank4_a_air            14143 non-null  float64\n",
      " 78  secondary_cleaner.state.floatbank4_a_level          14148 non-null  float64\n",
      " 79  secondary_cleaner.state.floatbank4_b_air            14148 non-null  float64\n",
      " 80  secondary_cleaner.state.floatbank4_b_level          14148 non-null  float64\n",
      " 81  secondary_cleaner.state.floatbank5_a_air            14148 non-null  float64\n",
      " 82  secondary_cleaner.state.floatbank5_a_level          14148 non-null  float64\n",
      " 83  secondary_cleaner.state.floatbank5_b_air            14148 non-null  float64\n",
      " 84  secondary_cleaner.state.floatbank5_b_level          14148 non-null  float64\n",
      " 85  secondary_cleaner.state.floatbank6_a_air            14147 non-null  float64\n",
      " 86  secondary_cleaner.state.floatbank6_a_level          14148 non-null  float64\n",
      "dtypes: float64(86), object(1)\n",
      "memory usage: 9.4+ MB\n"
     ]
    }
   ],
   "source": [
    "#обучающая выборка\n",
    "df_train.info()"
   ]
  },
  {
   "cell_type": "code",
   "execution_count": 5,
   "metadata": {},
   "outputs": [
    {
     "name": "stdout",
     "output_type": "stream",
     "text": [
      "Строк, столбцов в обучающей выборке: (14149, 87)\n",
      "Количество пропусков в обучающей выборке: 0\n"
     ]
    }
   ],
   "source": [
    "print('Строк, столбцов в обучающей выборке:', df_train.shape)\n",
    "print('Количество пропусков в обучающей выборке:', df_train.duplicated().sum())"
   ]
  },
  {
   "cell_type": "markdown",
   "metadata": {},
   "source": [
    "В обучающей выборке содержится 14149 строк и 87 столбцов, в некоторых столбцах есть пропуски, дубликатов в обучающем датасете нет. Все признаки, кроме столбца date, имеют тип данных `float64`."
   ]
  },
  {
   "cell_type": "code",
   "execution_count": 6,
   "metadata": {},
   "outputs": [
    {
     "data": {
      "text/html": [
       "<div>\n",
       "<style scoped>\n",
       "    .dataframe tbody tr th:only-of-type {\n",
       "        vertical-align: middle;\n",
       "    }\n",
       "\n",
       "    .dataframe tbody tr th {\n",
       "        vertical-align: top;\n",
       "    }\n",
       "\n",
       "    .dataframe thead th {\n",
       "        text-align: right;\n",
       "    }\n",
       "</style>\n",
       "<table border=\"1\" class=\"dataframe\">\n",
       "  <thead>\n",
       "    <tr style=\"text-align: right;\">\n",
       "      <th></th>\n",
       "      <th>date</th>\n",
       "      <th>primary_cleaner.input.sulfate</th>\n",
       "      <th>primary_cleaner.input.depressant</th>\n",
       "      <th>primary_cleaner.input.feed_size</th>\n",
       "      <th>primary_cleaner.input.xanthate</th>\n",
       "      <th>primary_cleaner.state.floatbank8_a_air</th>\n",
       "      <th>primary_cleaner.state.floatbank8_a_level</th>\n",
       "      <th>primary_cleaner.state.floatbank8_b_air</th>\n",
       "      <th>primary_cleaner.state.floatbank8_b_level</th>\n",
       "      <th>primary_cleaner.state.floatbank8_c_air</th>\n",
       "      <th>...</th>\n",
       "      <th>secondary_cleaner.state.floatbank4_a_air</th>\n",
       "      <th>secondary_cleaner.state.floatbank4_a_level</th>\n",
       "      <th>secondary_cleaner.state.floatbank4_b_air</th>\n",
       "      <th>secondary_cleaner.state.floatbank4_b_level</th>\n",
       "      <th>secondary_cleaner.state.floatbank5_a_air</th>\n",
       "      <th>secondary_cleaner.state.floatbank5_a_level</th>\n",
       "      <th>secondary_cleaner.state.floatbank5_b_air</th>\n",
       "      <th>secondary_cleaner.state.floatbank5_b_level</th>\n",
       "      <th>secondary_cleaner.state.floatbank6_a_air</th>\n",
       "      <th>secondary_cleaner.state.floatbank6_a_level</th>\n",
       "    </tr>\n",
       "  </thead>\n",
       "  <tbody>\n",
       "    <tr>\n",
       "      <th>1354</th>\n",
       "      <td>2016-11-07 03:59:59</td>\n",
       "      <td>160.688781</td>\n",
       "      <td>8.967334</td>\n",
       "      <td>7.534</td>\n",
       "      <td>0.890442</td>\n",
       "      <td>1600.585710</td>\n",
       "      <td>-499.016627</td>\n",
       "      <td>1599.623227</td>\n",
       "      <td>-500.316172</td>\n",
       "      <td>1600.674455</td>\n",
       "      <td>...</td>\n",
       "      <td>14.967238</td>\n",
       "      <td>-498.479750</td>\n",
       "      <td>12.956377</td>\n",
       "      <td>-498.539959</td>\n",
       "      <td>16.932982</td>\n",
       "      <td>-500.760946</td>\n",
       "      <td>13.994380</td>\n",
       "      <td>-500.373063</td>\n",
       "      <td>23.508093</td>\n",
       "      <td>-499.233848</td>\n",
       "    </tr>\n",
       "    <tr>\n",
       "      <th>1522</th>\n",
       "      <td>2016-11-14 12:59:59</td>\n",
       "      <td>230.589519</td>\n",
       "      <td>8.908316</td>\n",
       "      <td>7.400</td>\n",
       "      <td>0.902373</td>\n",
       "      <td>1599.940811</td>\n",
       "      <td>-499.843989</td>\n",
       "      <td>1596.625513</td>\n",
       "      <td>-499.749617</td>\n",
       "      <td>1600.065955</td>\n",
       "      <td>...</td>\n",
       "      <td>16.014030</td>\n",
       "      <td>-500.937231</td>\n",
       "      <td>13.991056</td>\n",
       "      <td>-501.570527</td>\n",
       "      <td>15.213491</td>\n",
       "      <td>-499.533809</td>\n",
       "      <td>13.992537</td>\n",
       "      <td>-500.139674</td>\n",
       "      <td>21.981926</td>\n",
       "      <td>-498.161503</td>\n",
       "    </tr>\n",
       "    <tr>\n",
       "      <th>2903</th>\n",
       "      <td>2017-09-16 19:59:59</td>\n",
       "      <td>162.636761</td>\n",
       "      <td>8.446800</td>\n",
       "      <td>7.290</td>\n",
       "      <td>1.200790</td>\n",
       "      <td>1600.807832</td>\n",
       "      <td>-500.045150</td>\n",
       "      <td>1603.381262</td>\n",
       "      <td>-499.525124</td>\n",
       "      <td>1601.500386</td>\n",
       "      <td>...</td>\n",
       "      <td>11.999614</td>\n",
       "      <td>-500.261586</td>\n",
       "      <td>9.050440</td>\n",
       "      <td>-399.571008</td>\n",
       "      <td>8.945573</td>\n",
       "      <td>-499.924937</td>\n",
       "      <td>6.961925</td>\n",
       "      <td>-500.031493</td>\n",
       "      <td>9.991248</td>\n",
       "      <td>-500.361291</td>\n",
       "    </tr>\n",
       "    <tr>\n",
       "      <th>4205</th>\n",
       "      <td>2017-11-13 20:59:59</td>\n",
       "      <td>182.710991</td>\n",
       "      <td>6.971323</td>\n",
       "      <td>6.810</td>\n",
       "      <td>2.489101</td>\n",
       "      <td>1596.611147</td>\n",
       "      <td>-500.316683</td>\n",
       "      <td>1599.287396</td>\n",
       "      <td>-508.914723</td>\n",
       "      <td>1587.806502</td>\n",
       "      <td>...</td>\n",
       "      <td>17.008659</td>\n",
       "      <td>-499.671514</td>\n",
       "      <td>10.031871</td>\n",
       "      <td>-499.694839</td>\n",
       "      <td>10.930412</td>\n",
       "      <td>-500.011765</td>\n",
       "      <td>8.983591</td>\n",
       "      <td>-500.342505</td>\n",
       "      <td>16.005085</td>\n",
       "      <td>-501.049943</td>\n",
       "    </tr>\n",
       "    <tr>\n",
       "      <th>2458</th>\n",
       "      <td>2016-12-24 16:59:59</td>\n",
       "      <td>159.835549</td>\n",
       "      <td>11.523891</td>\n",
       "      <td>7.005</td>\n",
       "      <td>1.444380</td>\n",
       "      <td>1699.338317</td>\n",
       "      <td>-499.969466</td>\n",
       "      <td>1701.447436</td>\n",
       "      <td>-499.651981</td>\n",
       "      <td>1697.633713</td>\n",
       "      <td>...</td>\n",
       "      <td>17.017385</td>\n",
       "      <td>-500.328932</td>\n",
       "      <td>14.897410</td>\n",
       "      <td>-499.033171</td>\n",
       "      <td>12.612152</td>\n",
       "      <td>-500.066229</td>\n",
       "      <td>12.014837</td>\n",
       "      <td>-500.458028</td>\n",
       "      <td>20.984473</td>\n",
       "      <td>-500.043076</td>\n",
       "    </tr>\n",
       "    <tr>\n",
       "      <th>4314</th>\n",
       "      <td>2017-11-18 10:59:59</td>\n",
       "      <td>231.632358</td>\n",
       "      <td>9.932195</td>\n",
       "      <td>6.570</td>\n",
       "      <td>3.890629</td>\n",
       "      <td>1601.938855</td>\n",
       "      <td>-499.476246</td>\n",
       "      <td>1598.263001</td>\n",
       "      <td>-482.306138</td>\n",
       "      <td>1528.593040</td>\n",
       "      <td>...</td>\n",
       "      <td>17.015718</td>\n",
       "      <td>-500.085954</td>\n",
       "      <td>14.898806</td>\n",
       "      <td>-499.916387</td>\n",
       "      <td>10.926903</td>\n",
       "      <td>-500.187676</td>\n",
       "      <td>9.007131</td>\n",
       "      <td>-500.069746</td>\n",
       "      <td>15.978064</td>\n",
       "      <td>-500.062972</td>\n",
       "    </tr>\n",
       "    <tr>\n",
       "      <th>3005</th>\n",
       "      <td>2017-09-21 01:59:59</td>\n",
       "      <td>120.481806</td>\n",
       "      <td>8.473056</td>\n",
       "      <td>7.070</td>\n",
       "      <td>1.436453</td>\n",
       "      <td>1401.155957</td>\n",
       "      <td>-499.936594</td>\n",
       "      <td>1402.148863</td>\n",
       "      <td>-500.444050</td>\n",
       "      <td>1398.307973</td>\n",
       "      <td>...</td>\n",
       "      <td>12.010566</td>\n",
       "      <td>-499.073573</td>\n",
       "      <td>8.970911</td>\n",
       "      <td>-399.833796</td>\n",
       "      <td>8.963417</td>\n",
       "      <td>-499.828178</td>\n",
       "      <td>6.917375</td>\n",
       "      <td>-500.193289</td>\n",
       "      <td>9.943677</td>\n",
       "      <td>-499.301456</td>\n",
       "    </tr>\n",
       "    <tr>\n",
       "      <th>2215</th>\n",
       "      <td>2016-12-14 08:59:59</td>\n",
       "      <td>178.649834</td>\n",
       "      <td>10.527035</td>\n",
       "      <td>7.560</td>\n",
       "      <td>1.502174</td>\n",
       "      <td>1608.106433</td>\n",
       "      <td>-500.968451</td>\n",
       "      <td>1596.290573</td>\n",
       "      <td>-500.080032</td>\n",
       "      <td>1600.223668</td>\n",
       "      <td>...</td>\n",
       "      <td>17.016434</td>\n",
       "      <td>-500.723246</td>\n",
       "      <td>15.032590</td>\n",
       "      <td>-498.940928</td>\n",
       "      <td>17.881399</td>\n",
       "      <td>-499.014118</td>\n",
       "      <td>11.984562</td>\n",
       "      <td>-499.680563</td>\n",
       "      <td>21.018969</td>\n",
       "      <td>-498.130637</td>\n",
       "    </tr>\n",
       "    <tr>\n",
       "      <th>861</th>\n",
       "      <td>2016-10-16 22:59:59</td>\n",
       "      <td>209.929831</td>\n",
       "      <td>20.030388</td>\n",
       "      <td>6.650</td>\n",
       "      <td>1.003994</td>\n",
       "      <td>1648.923169</td>\n",
       "      <td>-500.020046</td>\n",
       "      <td>1700.312602</td>\n",
       "      <td>-500.273389</td>\n",
       "      <td>1700.699141</td>\n",
       "      <td>...</td>\n",
       "      <td>20.032311</td>\n",
       "      <td>-500.393569</td>\n",
       "      <td>14.978120</td>\n",
       "      <td>-499.246776</td>\n",
       "      <td>8.804194</td>\n",
       "      <td>-500.901176</td>\n",
       "      <td>14.015530</td>\n",
       "      <td>-500.743487</td>\n",
       "      <td>16.979761</td>\n",
       "      <td>-499.879572</td>\n",
       "    </tr>\n",
       "    <tr>\n",
       "      <th>4258</th>\n",
       "      <td>2017-11-16 01:59:59</td>\n",
       "      <td>179.323869</td>\n",
       "      <td>8.011662</td>\n",
       "      <td>7.100</td>\n",
       "      <td>2.798026</td>\n",
       "      <td>1595.651816</td>\n",
       "      <td>-499.990576</td>\n",
       "      <td>1598.794799</td>\n",
       "      <td>-507.579980</td>\n",
       "      <td>1566.388527</td>\n",
       "      <td>...</td>\n",
       "      <td>17.029656</td>\n",
       "      <td>-500.348146</td>\n",
       "      <td>10.047170</td>\n",
       "      <td>-499.996690</td>\n",
       "      <td>10.963562</td>\n",
       "      <td>-499.485004</td>\n",
       "      <td>9.008059</td>\n",
       "      <td>-499.277339</td>\n",
       "      <td>15.996524</td>\n",
       "      <td>-501.119845</td>\n",
       "    </tr>\n",
       "  </tbody>\n",
       "</table>\n",
       "<p>10 rows × 53 columns</p>\n",
       "</div>"
      ],
      "text/plain": [
       "                     date  primary_cleaner.input.sulfate  \\\n",
       "1354  2016-11-07 03:59:59                     160.688781   \n",
       "1522  2016-11-14 12:59:59                     230.589519   \n",
       "2903  2017-09-16 19:59:59                     162.636761   \n",
       "4205  2017-11-13 20:59:59                     182.710991   \n",
       "2458  2016-12-24 16:59:59                     159.835549   \n",
       "4314  2017-11-18 10:59:59                     231.632358   \n",
       "3005  2017-09-21 01:59:59                     120.481806   \n",
       "2215  2016-12-14 08:59:59                     178.649834   \n",
       "861   2016-10-16 22:59:59                     209.929831   \n",
       "4258  2017-11-16 01:59:59                     179.323869   \n",
       "\n",
       "      primary_cleaner.input.depressant  primary_cleaner.input.feed_size  \\\n",
       "1354                          8.967334                            7.534   \n",
       "1522                          8.908316                            7.400   \n",
       "2903                          8.446800                            7.290   \n",
       "4205                          6.971323                            6.810   \n",
       "2458                         11.523891                            7.005   \n",
       "4314                          9.932195                            6.570   \n",
       "3005                          8.473056                            7.070   \n",
       "2215                         10.527035                            7.560   \n",
       "861                          20.030388                            6.650   \n",
       "4258                          8.011662                            7.100   \n",
       "\n",
       "      primary_cleaner.input.xanthate  primary_cleaner.state.floatbank8_a_air  \\\n",
       "1354                        0.890442                             1600.585710   \n",
       "1522                        0.902373                             1599.940811   \n",
       "2903                        1.200790                             1600.807832   \n",
       "4205                        2.489101                             1596.611147   \n",
       "2458                        1.444380                             1699.338317   \n",
       "4314                        3.890629                             1601.938855   \n",
       "3005                        1.436453                             1401.155957   \n",
       "2215                        1.502174                             1608.106433   \n",
       "861                         1.003994                             1648.923169   \n",
       "4258                        2.798026                             1595.651816   \n",
       "\n",
       "      primary_cleaner.state.floatbank8_a_level  \\\n",
       "1354                               -499.016627   \n",
       "1522                               -499.843989   \n",
       "2903                               -500.045150   \n",
       "4205                               -500.316683   \n",
       "2458                               -499.969466   \n",
       "4314                               -499.476246   \n",
       "3005                               -499.936594   \n",
       "2215                               -500.968451   \n",
       "861                                -500.020046   \n",
       "4258                               -499.990576   \n",
       "\n",
       "      primary_cleaner.state.floatbank8_b_air  \\\n",
       "1354                             1599.623227   \n",
       "1522                             1596.625513   \n",
       "2903                             1603.381262   \n",
       "4205                             1599.287396   \n",
       "2458                             1701.447436   \n",
       "4314                             1598.263001   \n",
       "3005                             1402.148863   \n",
       "2215                             1596.290573   \n",
       "861                              1700.312602   \n",
       "4258                             1598.794799   \n",
       "\n",
       "      primary_cleaner.state.floatbank8_b_level  \\\n",
       "1354                               -500.316172   \n",
       "1522                               -499.749617   \n",
       "2903                               -499.525124   \n",
       "4205                               -508.914723   \n",
       "2458                               -499.651981   \n",
       "4314                               -482.306138   \n",
       "3005                               -500.444050   \n",
       "2215                               -500.080032   \n",
       "861                                -500.273389   \n",
       "4258                               -507.579980   \n",
       "\n",
       "      primary_cleaner.state.floatbank8_c_air  ...  \\\n",
       "1354                             1600.674455  ...   \n",
       "1522                             1600.065955  ...   \n",
       "2903                             1601.500386  ...   \n",
       "4205                             1587.806502  ...   \n",
       "2458                             1697.633713  ...   \n",
       "4314                             1528.593040  ...   \n",
       "3005                             1398.307973  ...   \n",
       "2215                             1600.223668  ...   \n",
       "861                              1700.699141  ...   \n",
       "4258                             1566.388527  ...   \n",
       "\n",
       "      secondary_cleaner.state.floatbank4_a_air  \\\n",
       "1354                                 14.967238   \n",
       "1522                                 16.014030   \n",
       "2903                                 11.999614   \n",
       "4205                                 17.008659   \n",
       "2458                                 17.017385   \n",
       "4314                                 17.015718   \n",
       "3005                                 12.010566   \n",
       "2215                                 17.016434   \n",
       "861                                  20.032311   \n",
       "4258                                 17.029656   \n",
       "\n",
       "      secondary_cleaner.state.floatbank4_a_level  \\\n",
       "1354                                 -498.479750   \n",
       "1522                                 -500.937231   \n",
       "2903                                 -500.261586   \n",
       "4205                                 -499.671514   \n",
       "2458                                 -500.328932   \n",
       "4314                                 -500.085954   \n",
       "3005                                 -499.073573   \n",
       "2215                                 -500.723246   \n",
       "861                                  -500.393569   \n",
       "4258                                 -500.348146   \n",
       "\n",
       "      secondary_cleaner.state.floatbank4_b_air  \\\n",
       "1354                                 12.956377   \n",
       "1522                                 13.991056   \n",
       "2903                                  9.050440   \n",
       "4205                                 10.031871   \n",
       "2458                                 14.897410   \n",
       "4314                                 14.898806   \n",
       "3005                                  8.970911   \n",
       "2215                                 15.032590   \n",
       "861                                  14.978120   \n",
       "4258                                 10.047170   \n",
       "\n",
       "      secondary_cleaner.state.floatbank4_b_level  \\\n",
       "1354                                 -498.539959   \n",
       "1522                                 -501.570527   \n",
       "2903                                 -399.571008   \n",
       "4205                                 -499.694839   \n",
       "2458                                 -499.033171   \n",
       "4314                                 -499.916387   \n",
       "3005                                 -399.833796   \n",
       "2215                                 -498.940928   \n",
       "861                                  -499.246776   \n",
       "4258                                 -499.996690   \n",
       "\n",
       "      secondary_cleaner.state.floatbank5_a_air  \\\n",
       "1354                                 16.932982   \n",
       "1522                                 15.213491   \n",
       "2903                                  8.945573   \n",
       "4205                                 10.930412   \n",
       "2458                                 12.612152   \n",
       "4314                                 10.926903   \n",
       "3005                                  8.963417   \n",
       "2215                                 17.881399   \n",
       "861                                   8.804194   \n",
       "4258                                 10.963562   \n",
       "\n",
       "      secondary_cleaner.state.floatbank5_a_level  \\\n",
       "1354                                 -500.760946   \n",
       "1522                                 -499.533809   \n",
       "2903                                 -499.924937   \n",
       "4205                                 -500.011765   \n",
       "2458                                 -500.066229   \n",
       "4314                                 -500.187676   \n",
       "3005                                 -499.828178   \n",
       "2215                                 -499.014118   \n",
       "861                                  -500.901176   \n",
       "4258                                 -499.485004   \n",
       "\n",
       "      secondary_cleaner.state.floatbank5_b_air  \\\n",
       "1354                                 13.994380   \n",
       "1522                                 13.992537   \n",
       "2903                                  6.961925   \n",
       "4205                                  8.983591   \n",
       "2458                                 12.014837   \n",
       "4314                                  9.007131   \n",
       "3005                                  6.917375   \n",
       "2215                                 11.984562   \n",
       "861                                  14.015530   \n",
       "4258                                  9.008059   \n",
       "\n",
       "      secondary_cleaner.state.floatbank5_b_level  \\\n",
       "1354                                 -500.373063   \n",
       "1522                                 -500.139674   \n",
       "2903                                 -500.031493   \n",
       "4205                                 -500.342505   \n",
       "2458                                 -500.458028   \n",
       "4314                                 -500.069746   \n",
       "3005                                 -500.193289   \n",
       "2215                                 -499.680563   \n",
       "861                                  -500.743487   \n",
       "4258                                 -499.277339   \n",
       "\n",
       "      secondary_cleaner.state.floatbank6_a_air  \\\n",
       "1354                                 23.508093   \n",
       "1522                                 21.981926   \n",
       "2903                                  9.991248   \n",
       "4205                                 16.005085   \n",
       "2458                                 20.984473   \n",
       "4314                                 15.978064   \n",
       "3005                                  9.943677   \n",
       "2215                                 21.018969   \n",
       "861                                  16.979761   \n",
       "4258                                 15.996524   \n",
       "\n",
       "      secondary_cleaner.state.floatbank6_a_level  \n",
       "1354                                 -499.233848  \n",
       "1522                                 -498.161503  \n",
       "2903                                 -500.361291  \n",
       "4205                                 -501.049943  \n",
       "2458                                 -500.043076  \n",
       "4314                                 -500.062972  \n",
       "3005                                 -499.301456  \n",
       "2215                                 -498.130637  \n",
       "861                                  -499.879572  \n",
       "4258                                 -501.119845  \n",
       "\n",
       "[10 rows x 53 columns]"
      ]
     },
     "execution_count": 6,
     "metadata": {},
     "output_type": "execute_result"
    }
   ],
   "source": [
    "#тестовая выборка\n",
    "df_test.sample(10)"
   ]
  },
  {
   "cell_type": "code",
   "execution_count": 7,
   "metadata": {},
   "outputs": [
    {
     "name": "stdout",
     "output_type": "stream",
     "text": [
      "<class 'pandas.core.frame.DataFrame'>\n",
      "RangeIndex: 5290 entries, 0 to 5289\n",
      "Data columns (total 53 columns):\n",
      " #   Column                                      Non-Null Count  Dtype  \n",
      "---  ------                                      --------------  -----  \n",
      " 0   date                                        5290 non-null   object \n",
      " 1   primary_cleaner.input.sulfate               5286 non-null   float64\n",
      " 2   primary_cleaner.input.depressant            5285 non-null   float64\n",
      " 3   primary_cleaner.input.feed_size             5290 non-null   float64\n",
      " 4   primary_cleaner.input.xanthate              5286 non-null   float64\n",
      " 5   primary_cleaner.state.floatbank8_a_air      5290 non-null   float64\n",
      " 6   primary_cleaner.state.floatbank8_a_level    5290 non-null   float64\n",
      " 7   primary_cleaner.state.floatbank8_b_air      5290 non-null   float64\n",
      " 8   primary_cleaner.state.floatbank8_b_level    5290 non-null   float64\n",
      " 9   primary_cleaner.state.floatbank8_c_air      5290 non-null   float64\n",
      " 10  primary_cleaner.state.floatbank8_c_level    5290 non-null   float64\n",
      " 11  primary_cleaner.state.floatbank8_d_air      5290 non-null   float64\n",
      " 12  primary_cleaner.state.floatbank8_d_level    5290 non-null   float64\n",
      " 13  rougher.input.feed_ag                       5290 non-null   float64\n",
      " 14  rougher.input.feed_pb                       5290 non-null   float64\n",
      " 15  rougher.input.feed_rate                     5287 non-null   float64\n",
      " 16  rougher.input.feed_size                     5289 non-null   float64\n",
      " 17  rougher.input.feed_sol                      5269 non-null   float64\n",
      " 18  rougher.input.feed_au                       5290 non-null   float64\n",
      " 19  rougher.input.floatbank10_sulfate           5285 non-null   float64\n",
      " 20  rougher.input.floatbank10_xanthate          5290 non-null   float64\n",
      " 21  rougher.input.floatbank11_sulfate           5282 non-null   float64\n",
      " 22  rougher.input.floatbank11_xanthate          5265 non-null   float64\n",
      " 23  rougher.state.floatbank10_a_air             5290 non-null   float64\n",
      " 24  rougher.state.floatbank10_a_level           5290 non-null   float64\n",
      " 25  rougher.state.floatbank10_b_air             5290 non-null   float64\n",
      " 26  rougher.state.floatbank10_b_level           5290 non-null   float64\n",
      " 27  rougher.state.floatbank10_c_air             5290 non-null   float64\n",
      " 28  rougher.state.floatbank10_c_level           5290 non-null   float64\n",
      " 29  rougher.state.floatbank10_d_air             5290 non-null   float64\n",
      " 30  rougher.state.floatbank10_d_level           5290 non-null   float64\n",
      " 31  rougher.state.floatbank10_e_air             5290 non-null   float64\n",
      " 32  rougher.state.floatbank10_e_level           5290 non-null   float64\n",
      " 33  rougher.state.floatbank10_f_air             5290 non-null   float64\n",
      " 34  rougher.state.floatbank10_f_level           5290 non-null   float64\n",
      " 35  secondary_cleaner.state.floatbank2_a_air    5287 non-null   float64\n",
      " 36  secondary_cleaner.state.floatbank2_a_level  5290 non-null   float64\n",
      " 37  secondary_cleaner.state.floatbank2_b_air    5288 non-null   float64\n",
      " 38  secondary_cleaner.state.floatbank2_b_level  5290 non-null   float64\n",
      " 39  secondary_cleaner.state.floatbank3_a_air    5281 non-null   float64\n",
      " 40  secondary_cleaner.state.floatbank3_a_level  5290 non-null   float64\n",
      " 41  secondary_cleaner.state.floatbank3_b_air    5290 non-null   float64\n",
      " 42  secondary_cleaner.state.floatbank3_b_level  5290 non-null   float64\n",
      " 43  secondary_cleaner.state.floatbank4_a_air    5290 non-null   float64\n",
      " 44  secondary_cleaner.state.floatbank4_a_level  5290 non-null   float64\n",
      " 45  secondary_cleaner.state.floatbank4_b_air    5290 non-null   float64\n",
      " 46  secondary_cleaner.state.floatbank4_b_level  5290 non-null   float64\n",
      " 47  secondary_cleaner.state.floatbank5_a_air    5290 non-null   float64\n",
      " 48  secondary_cleaner.state.floatbank5_a_level  5290 non-null   float64\n",
      " 49  secondary_cleaner.state.floatbank5_b_air    5290 non-null   float64\n",
      " 50  secondary_cleaner.state.floatbank5_b_level  5290 non-null   float64\n",
      " 51  secondary_cleaner.state.floatbank6_a_air    5290 non-null   float64\n",
      " 52  secondary_cleaner.state.floatbank6_a_level  5290 non-null   float64\n",
      "dtypes: float64(52), object(1)\n",
      "memory usage: 2.1+ MB\n"
     ]
    }
   ],
   "source": [
    "#тестовая выборка\n",
    "df_test.info()"
   ]
  },
  {
   "cell_type": "code",
   "execution_count": 8,
   "metadata": {},
   "outputs": [
    {
     "name": "stdout",
     "output_type": "stream",
     "text": [
      "Строк, столбцов в тестовой выборке: (5290, 53)\n",
      "Количество пропусков в тестовой выборке: 0\n"
     ]
    }
   ],
   "source": [
    "print('Строк, столбцов в тестовой выборке:', df_test.shape)\n",
    "print('Количество пропусков в тестовой выборке:', df_test.duplicated().sum())"
   ]
  },
  {
   "cell_type": "markdown",
   "metadata": {},
   "source": [
    "В тестовой выборке 5290 строк и 53 столбца. В некоторых столбцах есть пропуски, дубликатов в тестовом датасете нет. Все признаки, кроме столбца date, имеют тип данных `float64`.\n",
    "\n",
    "Также в тестовой выборке меньше столбцов, т.к. некоторые параметры недоступны, потому что замеряются и/или рассчитываются значительно позже. Из-за этого в тестовой выборке отсутствуют некоторые признаки, которые могут быть в обучающей. Также в тестовом наборе нет целевых признаков."
   ]
  },
  {
   "cell_type": "code",
   "execution_count": 9,
   "metadata": {},
   "outputs": [
    {
     "data": {
      "text/html": [
       "<div>\n",
       "<style scoped>\n",
       "    .dataframe tbody tr th:only-of-type {\n",
       "        vertical-align: middle;\n",
       "    }\n",
       "\n",
       "    .dataframe tbody tr th {\n",
       "        vertical-align: top;\n",
       "    }\n",
       "\n",
       "    .dataframe thead th {\n",
       "        text-align: right;\n",
       "    }\n",
       "</style>\n",
       "<table border=\"1\" class=\"dataframe\">\n",
       "  <thead>\n",
       "    <tr style=\"text-align: right;\">\n",
       "      <th></th>\n",
       "      <th>date</th>\n",
       "      <th>final.output.concentrate_ag</th>\n",
       "      <th>final.output.concentrate_pb</th>\n",
       "      <th>final.output.concentrate_sol</th>\n",
       "      <th>final.output.concentrate_au</th>\n",
       "      <th>final.output.recovery</th>\n",
       "      <th>final.output.tail_ag</th>\n",
       "      <th>final.output.tail_pb</th>\n",
       "      <th>final.output.tail_sol</th>\n",
       "      <th>final.output.tail_au</th>\n",
       "      <th>...</th>\n",
       "      <th>secondary_cleaner.state.floatbank4_a_air</th>\n",
       "      <th>secondary_cleaner.state.floatbank4_a_level</th>\n",
       "      <th>secondary_cleaner.state.floatbank4_b_air</th>\n",
       "      <th>secondary_cleaner.state.floatbank4_b_level</th>\n",
       "      <th>secondary_cleaner.state.floatbank5_a_air</th>\n",
       "      <th>secondary_cleaner.state.floatbank5_a_level</th>\n",
       "      <th>secondary_cleaner.state.floatbank5_b_air</th>\n",
       "      <th>secondary_cleaner.state.floatbank5_b_level</th>\n",
       "      <th>secondary_cleaner.state.floatbank6_a_air</th>\n",
       "      <th>secondary_cleaner.state.floatbank6_a_level</th>\n",
       "    </tr>\n",
       "  </thead>\n",
       "  <tbody>\n",
       "    <tr>\n",
       "      <th>4862</th>\n",
       "      <td>2016-09-08 21:59:59</td>\n",
       "      <td>5.426128</td>\n",
       "      <td>8.441767</td>\n",
       "      <td>9.991697</td>\n",
       "      <td>46.908948</td>\n",
       "      <td>68.069296</td>\n",
       "      <td>11.821009</td>\n",
       "      <td>2.840910</td>\n",
       "      <td>9.833417</td>\n",
       "      <td>3.859317</td>\n",
       "      <td>...</td>\n",
       "      <td>7.993792</td>\n",
       "      <td>-499.005565</td>\n",
       "      <td>4.982876</td>\n",
       "      <td>-596.301991</td>\n",
       "      <td>8.309094</td>\n",
       "      <td>-598.624902</td>\n",
       "      <td>3.000605</td>\n",
       "      <td>-601.433745</td>\n",
       "      <td>19.990283</td>\n",
       "      <td>-600.210467</td>\n",
       "    </tr>\n",
       "    <tr>\n",
       "      <th>11349</th>\n",
       "      <td>2017-07-17 02:59:59</td>\n",
       "      <td>3.943884</td>\n",
       "      <td>11.307592</td>\n",
       "      <td>11.433789</td>\n",
       "      <td>45.271179</td>\n",
       "      <td>61.224268</td>\n",
       "      <td>7.357417</td>\n",
       "      <td>2.914770</td>\n",
       "      <td>11.281111</td>\n",
       "      <td>2.933470</td>\n",
       "      <td>...</td>\n",
       "      <td>22.032577</td>\n",
       "      <td>-499.586488</td>\n",
       "      <td>14.960289</td>\n",
       "      <td>-380.907013</td>\n",
       "      <td>18.030491</td>\n",
       "      <td>-499.448045</td>\n",
       "      <td>13.001837</td>\n",
       "      <td>-499.952618</td>\n",
       "      <td>14.984868</td>\n",
       "      <td>-499.320747</td>\n",
       "    </tr>\n",
       "    <tr>\n",
       "      <th>18745</th>\n",
       "      <td>2018-07-10 12:59:59</td>\n",
       "      <td>2.988501</td>\n",
       "      <td>11.796082</td>\n",
       "      <td>7.007810</td>\n",
       "      <td>46.758499</td>\n",
       "      <td>74.143633</td>\n",
       "      <td>10.362927</td>\n",
       "      <td>4.285993</td>\n",
       "      <td>8.477213</td>\n",
       "      <td>2.069370</td>\n",
       "      <td>...</td>\n",
       "      <td>24.972114</td>\n",
       "      <td>-500.915578</td>\n",
       "      <td>19.976682</td>\n",
       "      <td>-501.530175</td>\n",
       "      <td>18.015036</td>\n",
       "      <td>-500.708307</td>\n",
       "      <td>13.002405</td>\n",
       "      <td>-500.302093</td>\n",
       "      <td>12.995013</td>\n",
       "      <td>-500.117120</td>\n",
       "    </tr>\n",
       "    <tr>\n",
       "      <th>7790</th>\n",
       "      <td>2017-01-27 18:59:59</td>\n",
       "      <td>4.311087</td>\n",
       "      <td>8.657432</td>\n",
       "      <td>14.638681</td>\n",
       "      <td>42.055453</td>\n",
       "      <td>76.204744</td>\n",
       "      <td>11.216624</td>\n",
       "      <td>3.277021</td>\n",
       "      <td>9.484186</td>\n",
       "      <td>2.848851</td>\n",
       "      <td>...</td>\n",
       "      <td>20.945520</td>\n",
       "      <td>-500.187661</td>\n",
       "      <td>20.998018</td>\n",
       "      <td>-499.661024</td>\n",
       "      <td>23.014511</td>\n",
       "      <td>-500.266176</td>\n",
       "      <td>20.004534</td>\n",
       "      <td>-500.148412</td>\n",
       "      <td>25.001888</td>\n",
       "      <td>-600.046202</td>\n",
       "    </tr>\n",
       "    <tr>\n",
       "      <th>17968</th>\n",
       "      <td>2018-06-04 01:59:59</td>\n",
       "      <td>4.063730</td>\n",
       "      <td>11.767245</td>\n",
       "      <td>5.816548</td>\n",
       "      <td>44.661456</td>\n",
       "      <td>82.515083</td>\n",
       "      <td>6.406692</td>\n",
       "      <td>2.051820</td>\n",
       "      <td>8.743108</td>\n",
       "      <td>1.067801</td>\n",
       "      <td>...</td>\n",
       "      <td>29.924716</td>\n",
       "      <td>-500.043847</td>\n",
       "      <td>21.935435</td>\n",
       "      <td>-500.055980</td>\n",
       "      <td>24.979913</td>\n",
       "      <td>-499.689283</td>\n",
       "      <td>22.951320</td>\n",
       "      <td>-499.650478</td>\n",
       "      <td>24.979158</td>\n",
       "      <td>-500.815718</td>\n",
       "    </tr>\n",
       "    <tr>\n",
       "      <th>18156</th>\n",
       "      <td>2018-06-11 22:59:59</td>\n",
       "      <td>5.472369</td>\n",
       "      <td>8.887982</td>\n",
       "      <td>6.769234</td>\n",
       "      <td>45.354023</td>\n",
       "      <td>77.867938</td>\n",
       "      <td>5.451118</td>\n",
       "      <td>1.302801</td>\n",
       "      <td>2.451839</td>\n",
       "      <td>1.574064</td>\n",
       "      <td>...</td>\n",
       "      <td>30.036581</td>\n",
       "      <td>-493.092406</td>\n",
       "      <td>22.011604</td>\n",
       "      <td>-498.881062</td>\n",
       "      <td>25.004471</td>\n",
       "      <td>-497.930281</td>\n",
       "      <td>23.004864</td>\n",
       "      <td>-500.014398</td>\n",
       "      <td>24.991973</td>\n",
       "      <td>-497.764470</td>\n",
       "    </tr>\n",
       "    <tr>\n",
       "      <th>1121</th>\n",
       "      <td>2016-03-05 12:00:00</td>\n",
       "      <td>5.083276</td>\n",
       "      <td>12.071663</td>\n",
       "      <td>7.104515</td>\n",
       "      <td>39.942376</td>\n",
       "      <td>67.480828</td>\n",
       "      <td>10.042333</td>\n",
       "      <td>0.979425</td>\n",
       "      <td>17.331723</td>\n",
       "      <td>2.278023</td>\n",
       "      <td>...</td>\n",
       "      <td>13.962722</td>\n",
       "      <td>-399.069266</td>\n",
       "      <td>13.981140</td>\n",
       "      <td>-399.792815</td>\n",
       "      <td>11.919977</td>\n",
       "      <td>-399.926145</td>\n",
       "      <td>9.976364</td>\n",
       "      <td>-400.094659</td>\n",
       "      <td>24.033503</td>\n",
       "      <td>-399.764887</td>\n",
       "    </tr>\n",
       "    <tr>\n",
       "      <th>10906</th>\n",
       "      <td>2017-06-27 22:59:59</td>\n",
       "      <td>3.927248</td>\n",
       "      <td>10.994978</td>\n",
       "      <td>10.044905</td>\n",
       "      <td>45.409755</td>\n",
       "      <td>62.256185</td>\n",
       "      <td>8.100815</td>\n",
       "      <td>2.753104</td>\n",
       "      <td>10.483569</td>\n",
       "      <td>2.575788</td>\n",
       "      <td>...</td>\n",
       "      <td>18.022402</td>\n",
       "      <td>-500.447263</td>\n",
       "      <td>12.965083</td>\n",
       "      <td>-379.538579</td>\n",
       "      <td>18.030716</td>\n",
       "      <td>-500.096082</td>\n",
       "      <td>13.017405</td>\n",
       "      <td>-500.278215</td>\n",
       "      <td>15.006200</td>\n",
       "      <td>-500.250979</td>\n",
       "    </tr>\n",
       "    <tr>\n",
       "      <th>16601</th>\n",
       "      <td>2018-03-28 19:59:59</td>\n",
       "      <td>6.030254</td>\n",
       "      <td>10.006327</td>\n",
       "      <td>8.992531</td>\n",
       "      <td>44.576378</td>\n",
       "      <td>77.120180</td>\n",
       "      <td>12.706357</td>\n",
       "      <td>2.668171</td>\n",
       "      <td>7.616510</td>\n",
       "      <td>2.936097</td>\n",
       "      <td>...</td>\n",
       "      <td>22.989890</td>\n",
       "      <td>-500.358546</td>\n",
       "      <td>14.893834</td>\n",
       "      <td>-500.060784</td>\n",
       "      <td>17.967850</td>\n",
       "      <td>-500.308781</td>\n",
       "      <td>11.983343</td>\n",
       "      <td>-499.873804</td>\n",
       "      <td>13.004118</td>\n",
       "      <td>-499.939109</td>\n",
       "    </tr>\n",
       "    <tr>\n",
       "      <th>5741</th>\n",
       "      <td>2016-10-25 06:59:59</td>\n",
       "      <td>5.532580</td>\n",
       "      <td>9.831022</td>\n",
       "      <td>11.537392</td>\n",
       "      <td>45.469893</td>\n",
       "      <td>74.421582</td>\n",
       "      <td>9.597984</td>\n",
       "      <td>2.283684</td>\n",
       "      <td>9.589319</td>\n",
       "      <td>3.312520</td>\n",
       "      <td>...</td>\n",
       "      <td>20.015447</td>\n",
       "      <td>-500.392344</td>\n",
       "      <td>16.979797</td>\n",
       "      <td>-500.915513</td>\n",
       "      <td>16.978273</td>\n",
       "      <td>-500.803030</td>\n",
       "      <td>13.947284</td>\n",
       "      <td>-500.185081</td>\n",
       "      <td>25.017579</td>\n",
       "      <td>-500.995066</td>\n",
       "    </tr>\n",
       "  </tbody>\n",
       "</table>\n",
       "<p>10 rows × 87 columns</p>\n",
       "</div>"
      ],
      "text/plain": [
       "                      date  final.output.concentrate_ag  \\\n",
       "4862   2016-09-08 21:59:59                     5.426128   \n",
       "11349  2017-07-17 02:59:59                     3.943884   \n",
       "18745  2018-07-10 12:59:59                     2.988501   \n",
       "7790   2017-01-27 18:59:59                     4.311087   \n",
       "17968  2018-06-04 01:59:59                     4.063730   \n",
       "18156  2018-06-11 22:59:59                     5.472369   \n",
       "1121   2016-03-05 12:00:00                     5.083276   \n",
       "10906  2017-06-27 22:59:59                     3.927248   \n",
       "16601  2018-03-28 19:59:59                     6.030254   \n",
       "5741   2016-10-25 06:59:59                     5.532580   \n",
       "\n",
       "       final.output.concentrate_pb  final.output.concentrate_sol  \\\n",
       "4862                      8.441767                      9.991697   \n",
       "11349                    11.307592                     11.433789   \n",
       "18745                    11.796082                      7.007810   \n",
       "7790                      8.657432                     14.638681   \n",
       "17968                    11.767245                      5.816548   \n",
       "18156                     8.887982                      6.769234   \n",
       "1121                     12.071663                      7.104515   \n",
       "10906                    10.994978                     10.044905   \n",
       "16601                    10.006327                      8.992531   \n",
       "5741                      9.831022                     11.537392   \n",
       "\n",
       "       final.output.concentrate_au  final.output.recovery  \\\n",
       "4862                     46.908948              68.069296   \n",
       "11349                    45.271179              61.224268   \n",
       "18745                    46.758499              74.143633   \n",
       "7790                     42.055453              76.204744   \n",
       "17968                    44.661456              82.515083   \n",
       "18156                    45.354023              77.867938   \n",
       "1121                     39.942376              67.480828   \n",
       "10906                    45.409755              62.256185   \n",
       "16601                    44.576378              77.120180   \n",
       "5741                     45.469893              74.421582   \n",
       "\n",
       "       final.output.tail_ag  final.output.tail_pb  final.output.tail_sol  \\\n",
       "4862              11.821009              2.840910               9.833417   \n",
       "11349              7.357417              2.914770              11.281111   \n",
       "18745             10.362927              4.285993               8.477213   \n",
       "7790              11.216624              3.277021               9.484186   \n",
       "17968              6.406692              2.051820               8.743108   \n",
       "18156              5.451118              1.302801               2.451839   \n",
       "1121              10.042333              0.979425              17.331723   \n",
       "10906              8.100815              2.753104              10.483569   \n",
       "16601             12.706357              2.668171               7.616510   \n",
       "5741               9.597984              2.283684               9.589319   \n",
       "\n",
       "       final.output.tail_au  ...  secondary_cleaner.state.floatbank4_a_air  \\\n",
       "4862               3.859317  ...                                  7.993792   \n",
       "11349              2.933470  ...                                 22.032577   \n",
       "18745              2.069370  ...                                 24.972114   \n",
       "7790               2.848851  ...                                 20.945520   \n",
       "17968              1.067801  ...                                 29.924716   \n",
       "18156              1.574064  ...                                 30.036581   \n",
       "1121               2.278023  ...                                 13.962722   \n",
       "10906              2.575788  ...                                 18.022402   \n",
       "16601              2.936097  ...                                 22.989890   \n",
       "5741               3.312520  ...                                 20.015447   \n",
       "\n",
       "       secondary_cleaner.state.floatbank4_a_level  \\\n",
       "4862                                  -499.005565   \n",
       "11349                                 -499.586488   \n",
       "18745                                 -500.915578   \n",
       "7790                                  -500.187661   \n",
       "17968                                 -500.043847   \n",
       "18156                                 -493.092406   \n",
       "1121                                  -399.069266   \n",
       "10906                                 -500.447263   \n",
       "16601                                 -500.358546   \n",
       "5741                                  -500.392344   \n",
       "\n",
       "       secondary_cleaner.state.floatbank4_b_air  \\\n",
       "4862                                   4.982876   \n",
       "11349                                 14.960289   \n",
       "18745                                 19.976682   \n",
       "7790                                  20.998018   \n",
       "17968                                 21.935435   \n",
       "18156                                 22.011604   \n",
       "1121                                  13.981140   \n",
       "10906                                 12.965083   \n",
       "16601                                 14.893834   \n",
       "5741                                  16.979797   \n",
       "\n",
       "       secondary_cleaner.state.floatbank4_b_level  \\\n",
       "4862                                  -596.301991   \n",
       "11349                                 -380.907013   \n",
       "18745                                 -501.530175   \n",
       "7790                                  -499.661024   \n",
       "17968                                 -500.055980   \n",
       "18156                                 -498.881062   \n",
       "1121                                  -399.792815   \n",
       "10906                                 -379.538579   \n",
       "16601                                 -500.060784   \n",
       "5741                                  -500.915513   \n",
       "\n",
       "       secondary_cleaner.state.floatbank5_a_air  \\\n",
       "4862                                   8.309094   \n",
       "11349                                 18.030491   \n",
       "18745                                 18.015036   \n",
       "7790                                  23.014511   \n",
       "17968                                 24.979913   \n",
       "18156                                 25.004471   \n",
       "1121                                  11.919977   \n",
       "10906                                 18.030716   \n",
       "16601                                 17.967850   \n",
       "5741                                  16.978273   \n",
       "\n",
       "       secondary_cleaner.state.floatbank5_a_level  \\\n",
       "4862                                  -598.624902   \n",
       "11349                                 -499.448045   \n",
       "18745                                 -500.708307   \n",
       "7790                                  -500.266176   \n",
       "17968                                 -499.689283   \n",
       "18156                                 -497.930281   \n",
       "1121                                  -399.926145   \n",
       "10906                                 -500.096082   \n",
       "16601                                 -500.308781   \n",
       "5741                                  -500.803030   \n",
       "\n",
       "       secondary_cleaner.state.floatbank5_b_air  \\\n",
       "4862                                   3.000605   \n",
       "11349                                 13.001837   \n",
       "18745                                 13.002405   \n",
       "7790                                  20.004534   \n",
       "17968                                 22.951320   \n",
       "18156                                 23.004864   \n",
       "1121                                   9.976364   \n",
       "10906                                 13.017405   \n",
       "16601                                 11.983343   \n",
       "5741                                  13.947284   \n",
       "\n",
       "       secondary_cleaner.state.floatbank5_b_level  \\\n",
       "4862                                  -601.433745   \n",
       "11349                                 -499.952618   \n",
       "18745                                 -500.302093   \n",
       "7790                                  -500.148412   \n",
       "17968                                 -499.650478   \n",
       "18156                                 -500.014398   \n",
       "1121                                  -400.094659   \n",
       "10906                                 -500.278215   \n",
       "16601                                 -499.873804   \n",
       "5741                                  -500.185081   \n",
       "\n",
       "       secondary_cleaner.state.floatbank6_a_air  \\\n",
       "4862                                  19.990283   \n",
       "11349                                 14.984868   \n",
       "18745                                 12.995013   \n",
       "7790                                  25.001888   \n",
       "17968                                 24.979158   \n",
       "18156                                 24.991973   \n",
       "1121                                  24.033503   \n",
       "10906                                 15.006200   \n",
       "16601                                 13.004118   \n",
       "5741                                  25.017579   \n",
       "\n",
       "       secondary_cleaner.state.floatbank6_a_level  \n",
       "4862                                  -600.210467  \n",
       "11349                                 -499.320747  \n",
       "18745                                 -500.117120  \n",
       "7790                                  -600.046202  \n",
       "17968                                 -500.815718  \n",
       "18156                                 -497.764470  \n",
       "1121                                  -399.764887  \n",
       "10906                                 -500.250979  \n",
       "16601                                 -499.939109  \n",
       "5741                                  -500.995066  \n",
       "\n",
       "[10 rows x 87 columns]"
      ]
     },
     "execution_count": 9,
     "metadata": {},
     "output_type": "execute_result"
    }
   ],
   "source": [
    "#исходные данные\n",
    "df_full.sample(10)"
   ]
  },
  {
   "cell_type": "code",
   "execution_count": 10,
   "metadata": {},
   "outputs": [
    {
     "name": "stdout",
     "output_type": "stream",
     "text": [
      "<class 'pandas.core.frame.DataFrame'>\n",
      "RangeIndex: 19439 entries, 0 to 19438\n",
      "Data columns (total 87 columns):\n",
      " #   Column                                              Non-Null Count  Dtype  \n",
      "---  ------                                              --------------  -----  \n",
      " 0   date                                                19439 non-null  object \n",
      " 1   final.output.concentrate_ag                         19438 non-null  float64\n",
      " 2   final.output.concentrate_pb                         19438 non-null  float64\n",
      " 3   final.output.concentrate_sol                        19228 non-null  float64\n",
      " 4   final.output.concentrate_au                         19439 non-null  float64\n",
      " 5   final.output.recovery                               19439 non-null  float64\n",
      " 6   final.output.tail_ag                                19438 non-null  float64\n",
      " 7   final.output.tail_pb                                19338 non-null  float64\n",
      " 8   final.output.tail_sol                               19433 non-null  float64\n",
      " 9   final.output.tail_au                                19439 non-null  float64\n",
      " 10  primary_cleaner.input.sulfate                       19415 non-null  float64\n",
      " 11  primary_cleaner.input.depressant                    19402 non-null  float64\n",
      " 12  primary_cleaner.input.feed_size                     19439 non-null  float64\n",
      " 13  primary_cleaner.input.xanthate                      19335 non-null  float64\n",
      " 14  primary_cleaner.output.concentrate_ag               19439 non-null  float64\n",
      " 15  primary_cleaner.output.concentrate_pb               19323 non-null  float64\n",
      " 16  primary_cleaner.output.concentrate_sol              19069 non-null  float64\n",
      " 17  primary_cleaner.output.concentrate_au               19439 non-null  float64\n",
      " 18  primary_cleaner.output.tail_ag                      19435 non-null  float64\n",
      " 19  primary_cleaner.output.tail_pb                      19418 non-null  float64\n",
      " 20  primary_cleaner.output.tail_sol                     19377 non-null  float64\n",
      " 21  primary_cleaner.output.tail_au                      19439 non-null  float64\n",
      " 22  primary_cleaner.state.floatbank8_a_air              19435 non-null  float64\n",
      " 23  primary_cleaner.state.floatbank8_a_level            19438 non-null  float64\n",
      " 24  primary_cleaner.state.floatbank8_b_air              19435 non-null  float64\n",
      " 25  primary_cleaner.state.floatbank8_b_level            19438 non-null  float64\n",
      " 26  primary_cleaner.state.floatbank8_c_air              19437 non-null  float64\n",
      " 27  primary_cleaner.state.floatbank8_c_level            19438 non-null  float64\n",
      " 28  primary_cleaner.state.floatbank8_d_air              19436 non-null  float64\n",
      " 29  primary_cleaner.state.floatbank8_d_level            19438 non-null  float64\n",
      " 30  rougher.calculation.sulfate_to_au_concentrate       19437 non-null  float64\n",
      " 31  rougher.calculation.floatbank10_sulfate_to_au_feed  19437 non-null  float64\n",
      " 32  rougher.calculation.floatbank11_sulfate_to_au_feed  19437 non-null  float64\n",
      " 33  rougher.calculation.au_pb_ratio                     19439 non-null  float64\n",
      " 34  rougher.input.feed_ag                               19439 non-null  float64\n",
      " 35  rougher.input.feed_pb                               19339 non-null  float64\n",
      " 36  rougher.input.feed_rate                             19428 non-null  float64\n",
      " 37  rougher.input.feed_size                             19294 non-null  float64\n",
      " 38  rougher.input.feed_sol                              19340 non-null  float64\n",
      " 39  rougher.input.feed_au                               19439 non-null  float64\n",
      " 40  rougher.input.floatbank10_sulfate                   19405 non-null  float64\n",
      " 41  rougher.input.floatbank10_xanthate                  19431 non-null  float64\n",
      " 42  rougher.input.floatbank11_sulfate                   19395 non-null  float64\n",
      " 43  rougher.input.floatbank11_xanthate                  18986 non-null  float64\n",
      " 44  rougher.output.concentrate_ag                       19439 non-null  float64\n",
      " 45  rougher.output.concentrate_pb                       19439 non-null  float64\n",
      " 46  rougher.output.concentrate_sol                      19416 non-null  float64\n",
      " 47  rougher.output.concentrate_au                       19439 non-null  float64\n",
      " 48  rougher.output.recovery                             19439 non-null  float64\n",
      " 49  rougher.output.tail_ag                              19438 non-null  float64\n",
      " 50  rougher.output.tail_pb                              19439 non-null  float64\n",
      " 51  rougher.output.tail_sol                             19439 non-null  float64\n",
      " 52  rougher.output.tail_au                              19439 non-null  float64\n",
      " 53  rougher.state.floatbank10_a_air                     19438 non-null  float64\n",
      " 54  rougher.state.floatbank10_a_level                   19438 non-null  float64\n",
      " 55  rougher.state.floatbank10_b_air                     19438 non-null  float64\n",
      " 56  rougher.state.floatbank10_b_level                   19438 non-null  float64\n",
      " 57  rougher.state.floatbank10_c_air                     19438 non-null  float64\n",
      " 58  rougher.state.floatbank10_c_level                   19438 non-null  float64\n",
      " 59  rougher.state.floatbank10_d_air                     19439 non-null  float64\n",
      " 60  rougher.state.floatbank10_d_level                   19439 non-null  float64\n",
      " 61  rougher.state.floatbank10_e_air                     19003 non-null  float64\n",
      " 62  rougher.state.floatbank10_e_level                   19439 non-null  float64\n",
      " 63  rougher.state.floatbank10_f_air                     19439 non-null  float64\n",
      " 64  rougher.state.floatbank10_f_level                   19439 non-null  float64\n",
      " 65  secondary_cleaner.output.tail_ag                    19437 non-null  float64\n",
      " 66  secondary_cleaner.output.tail_pb                    19427 non-null  float64\n",
      " 67  secondary_cleaner.output.tail_sol                   17691 non-null  float64\n",
      " 68  secondary_cleaner.output.tail_au                    19439 non-null  float64\n",
      " 69  secondary_cleaner.state.floatbank2_a_air            19219 non-null  float64\n",
      " 70  secondary_cleaner.state.floatbank2_a_level          19438 non-null  float64\n",
      " 71  secondary_cleaner.state.floatbank2_b_air            19416 non-null  float64\n",
      " 72  secondary_cleaner.state.floatbank2_b_level          19438 non-null  float64\n",
      " 73  secondary_cleaner.state.floatbank3_a_air            19426 non-null  float64\n",
      " 74  secondary_cleaner.state.floatbank3_a_level          19438 non-null  float64\n",
      " 75  secondary_cleaner.state.floatbank3_b_air            19438 non-null  float64\n",
      " 76  secondary_cleaner.state.floatbank3_b_level          19438 non-null  float64\n",
      " 77  secondary_cleaner.state.floatbank4_a_air            19433 non-null  float64\n",
      " 78  secondary_cleaner.state.floatbank4_a_level          19438 non-null  float64\n",
      " 79  secondary_cleaner.state.floatbank4_b_air            19438 non-null  float64\n",
      " 80  secondary_cleaner.state.floatbank4_b_level          19438 non-null  float64\n",
      " 81  secondary_cleaner.state.floatbank5_a_air            19438 non-null  float64\n",
      " 82  secondary_cleaner.state.floatbank5_a_level          19438 non-null  float64\n",
      " 83  secondary_cleaner.state.floatbank5_b_air            19438 non-null  float64\n",
      " 84  secondary_cleaner.state.floatbank5_b_level          19438 non-null  float64\n",
      " 85  secondary_cleaner.state.floatbank6_a_air            19437 non-null  float64\n",
      " 86  secondary_cleaner.state.floatbank6_a_level          19438 non-null  float64\n",
      "dtypes: float64(86), object(1)\n",
      "memory usage: 12.9+ MB\n"
     ]
    }
   ],
   "source": [
    "#исходные данные\n",
    "df_full.info()"
   ]
  },
  {
   "cell_type": "code",
   "execution_count": 11,
   "metadata": {},
   "outputs": [
    {
     "name": "stdout",
     "output_type": "stream",
     "text": [
      "Строк, столбцов в исходной выборке: (19439, 87)\n",
      "Количество пропусков в исходной выборке: 0\n"
     ]
    }
   ],
   "source": [
    "print('Строк, столбцов в исходной выборке:', df_full.shape)\n",
    "print('Количество пропусков в исходной выборке:', df_full.duplicated().sum())"
   ]
  },
  {
   "cell_type": "markdown",
   "metadata": {},
   "source": [
    "### Расчет эффективности обогащения"
   ]
  },
  {
   "cell_type": "markdown",
   "metadata": {},
   "source": [
    "Эффективность обогащения рассчитывается по формуле:\n",
    "\n",
    "$\n",
    "Recovery = \\frac{C*(F-T)}{F*(C-T)}*100%\n",
    "$\n",
    "\n",
    "где:\n",
    "- C — доля золота в концентрате после флотации/очистки;\n",
    "- F — доля золота в сырье/концентрате до флотации/очистки;\n",
    "- T — доля золота в отвальных хвостах после флотации/очистки.\n",
    "\n",
    "Вычислим recovery на обучающей выборке для признака `rougher.output.recovery`"
   ]
  },
  {
   "cell_type": "code",
   "execution_count": 12,
   "metadata": {},
   "outputs": [],
   "source": [
    "C = df_train['rougher.output.concentrate_au']\n",
    "F = df_train['rougher.input.feed_au']\n",
    "T = df_train['rougher.output.tail_au']"
   ]
  },
  {
   "cell_type": "code",
   "execution_count": 13,
   "metadata": {},
   "outputs": [],
   "source": [
    "recovery = ((C*(F-T))/(F*(C-T)))*100\n",
    "mae = mean_absolute_error(df_train['rougher.output.recovery'], recovery)"
   ]
  },
  {
   "cell_type": "code",
   "execution_count": 14,
   "metadata": {
    "scrolled": true
   },
   "outputs": [
    {
     "name": "stdout",
     "output_type": "stream",
     "text": [
      "Показатель МАЕ составляет: 9.73512347450521e-15\n"
     ]
    }
   ],
   "source": [
    "print('Показатель МАЕ составляет:', mae)"
   ]
  },
  {
   "cell_type": "markdown",
   "metadata": {},
   "source": [
    "Показатель МАЕ составляет 9,73, что является хорошим результатом, значит эффективность обогащения рассчитана корректно."
   ]
  },
  {
   "cell_type": "markdown",
   "metadata": {},
   "source": [
    "### Анализ признаков, недоступных в тестовой выборке"
   ]
  },
  {
   "cell_type": "code",
   "execution_count": 15,
   "metadata": {},
   "outputs": [
    {
     "name": "stdout",
     "output_type": "stream",
     "text": [
      "final.output.concentrate_ag\n",
      "final.output.concentrate_pb\n",
      "final.output.concentrate_sol\n",
      "final.output.concentrate_au\n",
      "final.output.recovery\n",
      "final.output.tail_ag\n",
      "final.output.tail_pb\n",
      "final.output.tail_sol\n",
      "final.output.tail_au\n",
      "primary_cleaner.output.concentrate_ag\n",
      "primary_cleaner.output.concentrate_pb\n",
      "primary_cleaner.output.concentrate_sol\n",
      "primary_cleaner.output.concentrate_au\n",
      "primary_cleaner.output.tail_ag\n",
      "primary_cleaner.output.tail_pb\n",
      "primary_cleaner.output.tail_sol\n",
      "primary_cleaner.output.tail_au\n",
      "rougher.calculation.sulfate_to_au_concentrate\n",
      "rougher.calculation.floatbank10_sulfate_to_au_feed\n",
      "rougher.calculation.floatbank11_sulfate_to_au_feed\n",
      "rougher.calculation.au_pb_ratio\n",
      "rougher.output.concentrate_ag\n",
      "rougher.output.concentrate_pb\n",
      "rougher.output.concentrate_sol\n",
      "rougher.output.concentrate_au\n",
      "rougher.output.recovery\n",
      "rougher.output.tail_ag\n",
      "rougher.output.tail_pb\n",
      "rougher.output.tail_sol\n",
      "rougher.output.tail_au\n",
      "secondary_cleaner.output.tail_ag\n",
      "secondary_cleaner.output.tail_pb\n",
      "secondary_cleaner.output.tail_sol\n",
      "secondary_cleaner.output.tail_au\n"
     ]
    }
   ],
   "source": [
    "for column in list(df_train.columns):\n",
    "    if column not in list(df_test.columns):\n",
    "        print(column)"
   ]
  },
  {
   "cell_type": "markdown",
   "metadata": {},
   "source": [
    "В тестовой выборке на всех этапах отсутствуют выходные параметры продукта `(output)`: концентрация металлов `(concentrate)` и отвальные хвосты `(tail)` для металлов (Au, Ag, Pb) и солей (Sol). Эти данные не подойдут для тренировки модели, так как появляются во время или после измерения целевых признаков. Также в тестовой выборке отсутствуют расчётные признаки на этапе флотации - `calculation`.\n",
    "\n",
    "Данные колонки необходимо удалить из тренировочного датасета, за исключением столбцов `final.output.recovery` и `rougher.output.recovery`, т.к. они являются целевыми признаками."
   ]
  },
  {
   "cell_type": "markdown",
   "metadata": {},
   "source": [
    "### Предобработка данных"
   ]
  },
  {
   "cell_type": "markdown",
   "metadata": {},
   "source": [
    "Удалим сразу лишние столбцы из обучающей выборки и выделим столбцы с целевыми признаками."
   ]
  },
  {
   "cell_type": "code",
   "execution_count": 16,
   "metadata": {},
   "outputs": [],
   "source": [
    "#сохраним отдельно целевые признаки\n",
    "target_train = df_train[['final.output.recovery', 'rougher.output.recovery']]"
   ]
  },
  {
   "cell_type": "code",
   "execution_count": 17,
   "metadata": {},
   "outputs": [
    {
     "data": {
      "text/plain": [
       "(14149, 53)"
      ]
     },
     "execution_count": 17,
     "metadata": {},
     "output_type": "execute_result"
    }
   ],
   "source": [
    "#удаляем столбцы из обучающей выборки\n",
    "for column in list(df_train.columns):\n",
    "    if column not in list(df_test.columns):\n",
    "        df_train.drop(column, axis=1, inplace=True)\n",
    "        \n",
    "df_train.shape"
   ]
  },
  {
   "cell_type": "code",
   "execution_count": 18,
   "metadata": {},
   "outputs": [],
   "source": [
    "#снова добавим столбцы с целевыми признаками в обучающий датасет\n",
    "df_train = df_train.join(target_train)"
   ]
  },
  {
   "cell_type": "code",
   "execution_count": 19,
   "metadata": {},
   "outputs": [
    {
     "data": {
      "text/plain": [
       "(14149, 55)"
      ]
     },
     "execution_count": 19,
     "metadata": {},
     "output_type": "execute_result"
    }
   ],
   "source": [
    "df_train.shape"
   ]
  },
  {
   "cell_type": "markdown",
   "metadata": {},
   "source": [
    "Приведем все столбцы с датой к формату `datetime`."
   ]
  },
  {
   "cell_type": "code",
   "execution_count": 20,
   "metadata": {},
   "outputs": [],
   "source": [
    "df_train['date'] = pd.to_datetime(df_train['date'], format='%Y-%m-%d %H:%M:%S')\n",
    "df_test['date'] = pd.to_datetime(df_test['date'], format='%Y-%m-%d %H:%M:%S')\n",
    "df_full['date'] = pd.to_datetime(df_full['date'], format='%Y-%m-%d %H:%M:%S')"
   ]
  },
  {
   "cell_type": "code",
   "execution_count": 21,
   "metadata": {},
   "outputs": [],
   "source": [
    "#проиндексируем наши датасеты по дате\n",
    "df_train= df_train.set_index('date')\n",
    "df_test= df_test.set_index('date')\n",
    "df_full = df_full.set_index('date')"
   ]
  },
  {
   "cell_type": "markdown",
   "metadata": {},
   "source": [
    "Теперь заменим пропуски в датасетах на данные из соседних строк."
   ]
  },
  {
   "cell_type": "code",
   "execution_count": 22,
   "metadata": {
    "scrolled": true
   },
   "outputs": [],
   "source": [
    "df_train = df_train.fillna(method='ffill')\n",
    "df_test = df_test.fillna(method='ffill')\n",
    "df_full = df_full.fillna(method='ffill')\n",
    "target_train = target_train.fillna(method='ffill')"
   ]
  },
  {
   "cell_type": "markdown",
   "metadata": {},
   "source": [
    "### Вывод по разделу"
   ]
  },
  {
   "cell_type": "markdown",
   "metadata": {},
   "source": [
    "1. В обучающей выборке содержится 14149 строк и 87 столбцов, в некоторых столбцах есть пропуски, дубликатов в обучающем датасете нет. Все признаки, кроме столбца date, имеют тип данных float64.\n",
    "2. В тестовой выборке 5290 строк и 53 столбца. В некоторых столбцах есть пропуски, дубликатов в тестовом датасете нет. Все признаки, кроме столбца date, имеют тип данных `float64`. Также в тестовой выборке меньше столбцов, т.к. некоторые параметры недоступны, потому что замеряются и/или рассчитываются значительно позже. Из-за этого в тестовой выборке отсутствуют некоторые признаки, которые могут быть в обучающей. Также в тестовом наборе нет целевых признаков.\n",
    "3. Эффективность обогащения в обучающей выборке рассчитана правильно, т.к. показатель МАЕ составил 9,73, что является хорошим результатом и говорит о корректности расчетов.\n",
    "4. В тестовой выборке на всех этапах отсутствуют выходные параметры продукта (output): концентрация металлов (concentrate) и отвальные хвосты (tail) для металлов (Au, Ag, Pb) и солей (Sol). Эти данные не подойдут для тренировки модели, так как появляются во время или после измерения целевых признаков. Также в тестовой выборке отсутствуют расчётные признаки на этапе флотации - calculation. Данные колонки были удалены из обучающего датасета, а столбцы `final.output.recovery` и `rougher.output.recovery` были назначены целевыми признаками.\n",
    "5. При предобработке:\n",
    "- столбцы с датой были приведены к формату `datetime`;\n",
    "- пропуски в датасетах были заменены на данные из соседних строк."
   ]
  },
  {
   "cell_type": "markdown",
   "metadata": {},
   "source": [
    "## Анализ данных"
   ]
  },
  {
   "cell_type": "markdown",
   "metadata": {},
   "source": [
    "### Посмотрим, как меняется концентрация металлов (Au, Ag, Pb) на различных этапах очистки."
   ]
  },
  {
   "cell_type": "markdown",
   "metadata": {},
   "source": [
    "Построим гистограммы по изменению концентрации каждого металла (золото, серебро, свинец) на всех этапах очистки:\n",
    "1. Исходное сырье;\n",
    "2. Флотация;\n",
    "3. Первичная обработка;\n",
    "4. Финальный концентрат."
   ]
  },
  {
   "cell_type": "code",
   "execution_count": 23,
   "metadata": {},
   "outputs": [],
   "source": [
    "#создадим константы с данными по металлам\n",
    "#золото\n",
    "AU = df_full[['rougher.input.feed_au', 'rougher.output.concentrate_au',\n",
    "              'primary_cleaner.output.concentrate_au', 'final.output.concentrate_au']]\n",
    "#серебро\n",
    "AG = df_full[['rougher.input.feed_ag', 'rougher.output.concentrate_ag',\n",
    "              'primary_cleaner.output.concentrate_ag', 'final.output.concentrate_ag']]\n",
    "#свинец\n",
    "PB = df_full[['rougher.input.feed_pb', 'rougher.output.concentrate_pb',\n",
    "              'primary_cleaner.output.concentrate_pb', 'final.output.concentrate_pb']]"
   ]
  },
  {
   "cell_type": "code",
   "execution_count": 24,
   "metadata": {},
   "outputs": [
    {
     "data": {
      "image/png": "[encoded data removed]",
      "text/plain": [
       "<Figure size 720x576 with 1 Axes>"
      ]
     },
     "metadata": {
      "needs_background": "light"
     },
     "output_type": "display_data"
    }
   ],
   "source": [
    "ax = sns.displot(AU, kind='kde', legend=False)\n",
    "plt.legend(labels = ['Исходное сырье', 'После флотации', 'Первичная обработка', 'Финальный концентрат'])\n",
    "plt.title('Изменение концентрации золота на разных этапах очистки')\n",
    "ax.fig.set_figwidth(10)\n",
    "ax.fig.set_figheight(8)\n",
    "plt.show()"
   ]
  },
  {
   "cell_type": "markdown",
   "metadata": {},
   "source": [
    "Как видно из гистограммы, после прохождения всех этапов очистки концентрация золота увеличивается."
   ]
  },
  {
   "cell_type": "code",
   "execution_count": 25,
   "metadata": {},
   "outputs": [
    {
     "data": {
      "image/png": "[encoded data removed]",
      "text/plain": [
       "<Figure size 720x576 with 1 Axes>"
      ]
     },
     "metadata": {
      "needs_background": "light"
     },
     "output_type": "display_data"
    }
   ],
   "source": [
    "ax = sns.displot(AG, kind='kde', legend=False)\n",
    "plt.legend(labels = ['Исходное сырье', 'После флотации', 'Первичная обработка', 'Финальный концентрат'])\n",
    "plt.title('Изменение концентрации серебра на разных этапах очистки')\n",
    "ax.fig.set_figwidth(10)\n",
    "ax.fig.set_figheight(8)\n",
    "plt.show()"
   ]
  },
  {
   "cell_type": "markdown",
   "metadata": {},
   "source": [
    "Концентрация серебра после обработки, наоборот, уменьшилось."
   ]
  },
  {
   "cell_type": "code",
   "execution_count": 26,
   "metadata": {},
   "outputs": [
    {
     "data": {
      "image/png": "[encoded data removed]",
      "text/plain": [
       "<Figure size 720x576 with 1 Axes>"
      ]
     },
     "metadata": {
      "needs_background": "light"
     },
     "output_type": "display_data"
    }
   ],
   "source": [
    "ax = sns.displot(PB, kind='kde', legend=False)\n",
    "plt.legend(labels = ['Исходное сырье', 'После флотации', 'Первичная обработка', 'Финальный концентрат'])\n",
    "plt.title('Изменение концентрации свинца на разных этапах очистки')\n",
    "ax.fig.set_figwidth(10)\n",
    "ax.fig.set_figheight(8)\n",
    "plt.show()"
   ]
  },
  {
   "cell_type": "markdown",
   "metadata": {},
   "source": [
    "Свинец показывает ту же тенденцию, что и золото и его концентрация после очистки увеличилась."
   ]
  },
  {
   "cell_type": "markdown",
   "metadata": {},
   "source": [
    "### Сравним распределения размеров гранул сырья на обучающей и тестовой выборках."
   ]
  },
  {
   "cell_type": "code",
   "execution_count": 27,
   "metadata": {},
   "outputs": [
    {
     "data": {
      "image/png": "[encoded data removed]",
      "text/plain": [
       "<Figure size 864x576 with 1 Axes>"
      ]
     },
     "metadata": {
      "needs_background": "light"
     },
     "output_type": "display_data"
    }
   ],
   "source": [
    "plt.figure(figsize=(12,8))\n",
    "sns.distplot(df_test['rougher.input.feed_size'], label='Тестовая выборка')\n",
    "sns.distplot(df_train['rougher.input.feed_size'], label='Обучающая выборка')\n",
    "plt.legend()\n",
    "plt.show()"
   ]
  },
  {
   "cell_type": "markdown",
   "metadata": {},
   "source": [
    "Распределения на обучающей и тестовой выборке похожи, поэтому модель будет работать правильно."
   ]
  },
  {
   "cell_type": "markdown",
   "metadata": {},
   "source": [
    "### Исследование суммарной концентрации всех веществ на разных стадиях."
   ]
  },
  {
   "cell_type": "code",
   "execution_count": 28,
   "metadata": {},
   "outputs": [],
   "source": [
    "#исходное сырье\n",
    "sum_feed = (df_full['rougher.input.feed_ag'] +\n",
    "            df_full['rougher.input.feed_pb'] +\n",
    "            df_full['rougher.input.feed_sol'] +\n",
    "            df_full['rougher.input.feed_au'])"
   ]
  },
  {
   "cell_type": "code",
   "execution_count": 29,
   "metadata": {},
   "outputs": [],
   "source": [
    "#флотация\n",
    "sum_rougher = (df_full['rougher.output.concentrate_ag'] + \n",
    "               df_full['rougher.output.concentrate_pb'] + \n",
    "               df_full['rougher.output.concentrate_sol'] + \n",
    "               df_full['rougher.output.concentrate_au'])"
   ]
  },
  {
   "cell_type": "code",
   "execution_count": 30,
   "metadata": {},
   "outputs": [],
   "source": [
    "#первичная очистка\n",
    "sum_primary = (df_full['primary_cleaner.output.concentrate_ag'] + \n",
    "               df_full['primary_cleaner.output.concentrate_pb'] + \n",
    "               df_full['primary_cleaner.output.concentrate_sol'] + \n",
    "               df_full['primary_cleaner.output.concentrate_au'])"
   ]
  },
  {
   "cell_type": "code",
   "execution_count": 31,
   "metadata": {},
   "outputs": [],
   "source": [
    "#финальная концентрация\n",
    "sum_final = (df_full['final.output.concentrate_ag'] + \n",
    "             df_full['final.output.concentrate_pb'] + \n",
    "             df_full['final.output.concentrate_sol'] + \n",
    "             df_full['final.output.concentrate_au'])"
   ]
  },
  {
   "cell_type": "code",
   "execution_count": 32,
   "metadata": {},
   "outputs": [
    {
     "data": {
      "image/png": "[encoded data removed]",
      "text/plain": [
       "<Figure size 1008x576 with 1 Axes>"
      ]
     },
     "metadata": {
      "needs_background": "light"
     },
     "output_type": "display_data"
    }
   ],
   "source": [
    "plt.figure(figsize=(14,8))\n",
    "sns.distplot(sum_feed, label='Исходное сырье')\n",
    "sns.distplot(sum_rougher, label='Флотация')\n",
    "sns.distplot(sum_primary, label='Первичная очистка')\n",
    "sns.distplot(sum_final, label='Финальная концентрация')\n",
    "plt.legend()\n",
    "plt.show()"
   ]
  },
  {
   "cell_type": "markdown",
   "metadata": {},
   "source": [
    "На гистограмме видно, что в сырье и черновом концентрате концентрация всех веществ практически не меняется, а вот в финальном концентрате концентрация всех веществ увеличивается практически вдвое."
   ]
  },
  {
   "cell_type": "markdown",
   "metadata": {},
   "source": [
    "Также на гистограмме видны выбросы в районе нуля на этапе флотации, первичной очистки и в финальной концентрации, но этих данных нет в обучающей и тестовой выборке, а в исходном сырье таких выбросов нет, поэтому эти выбросы никак не повлияют на наши модели. На всякий случай проверим это."
   ]
  },
  {
   "cell_type": "code",
   "execution_count": 33,
   "metadata": {},
   "outputs": [],
   "source": [
    "train_feed = (df_train['rougher.input.feed_ag'] +\n",
    "              df_train['rougher.input.feed_pb'] +\n",
    "              df_train['rougher.input.feed_sol'] +\n",
    "              df_train['rougher.input.feed_au'])"
   ]
  },
  {
   "cell_type": "code",
   "execution_count": 34,
   "metadata": {},
   "outputs": [
    {
     "data": {
      "image/png": "[encoded data removed]",
      "text/plain": [
       "<Figure size 864x576 with 1 Axes>"
      ]
     },
     "metadata": {
      "needs_background": "light"
     },
     "output_type": "display_data"
    }
   ],
   "source": [
    "plt.figure(figsize=(12,8))\n",
    "sns.distplot(train_feed, label='Исходное сырье в обучающей выборке')\n",
    "plt.legend()\n",
    "plt.show()"
   ]
  },
  {
   "cell_type": "markdown",
   "metadata": {},
   "source": [
    "При проверке оказалось, что небольшие выбросы в районе нуля есть, поэтому отфильтруем их."
   ]
  },
  {
   "cell_type": "code",
   "execution_count": 35,
   "metadata": {},
   "outputs": [],
   "source": [
    "df_train = df_train[(df_train['rougher.input.feed_ag']>1)\n",
    "                    &(df_train['rougher.input.feed_pb']>1)\n",
    "                    &(df_train['rougher.input.feed_sol']>1)\n",
    "                    &(df_train['rougher.input.feed_au']>1)]"
   ]
  },
  {
   "cell_type": "code",
   "execution_count": 36,
   "metadata": {},
   "outputs": [],
   "source": [
    "test_feed = (df_test['rougher.input.feed_ag'] +\n",
    "             df_test['rougher.input.feed_pb'] +\n",
    "             df_test['rougher.input.feed_sol'] +\n",
    "             df_test['rougher.input.feed_au'])"
   ]
  },
  {
   "cell_type": "code",
   "execution_count": 37,
   "metadata": {},
   "outputs": [
    {
     "data": {
      "image/png": "[encoded data removed]",
      "text/plain": [
       "<Figure size 864x576 with 1 Axes>"
      ]
     },
     "metadata": {
      "needs_background": "light"
     },
     "output_type": "display_data"
    }
   ],
   "source": [
    "plt.figure(figsize=(12,8))\n",
    "sns.distplot(test_feed, label='Исходное сырье в тестовой выборке')\n",
    "plt.legend()\n",
    "plt.show()"
   ]
  },
  {
   "cell_type": "markdown",
   "metadata": {},
   "source": [
    "В тестовой выборке выбросов нет, поэтому оставляем ее так."
   ]
  },
  {
   "cell_type": "markdown",
   "metadata": {},
   "source": [
    "### Вывод по разделу"
   ]
  },
  {
   "cell_type": "markdown",
   "metadata": {},
   "source": [
    "После анализа данных были сделаны следующие выводы:\n",
    "1. После прохождения всех этапов очистки концентрация золота и свинца увеличивается, а концентрация серебра наоборот снижается.\n",
    "2. Распределение размеров гранул сырья на обучающей и тестовой выборке похожи, поэтому модель будет работать правильно.\n",
    "3. При исследовании суммарной концентрации всех веществ на разных стадиях: в сырье и черновом концентрате она практически не меняется, а вот в финальном концентрате концентрация всех веществ увеличивается практически вдвое."
   ]
  },
  {
   "cell_type": "markdown",
   "metadata": {},
   "source": [
    "## Модель"
   ]
  },
  {
   "cell_type": "markdown",
   "metadata": {},
   "source": [
    "### sMAPE"
   ]
  },
  {
   "cell_type": "markdown",
   "metadata": {},
   "source": [
    "Для решения задачи введём новую метрику качества — <b>sMAPE</b> (англ. Symmetric Mean Absolute Percentage Error, «симметричное среднее абсолютное процентное отклонение»).\n",
    "Она похожа на MAE, но выражается не в абсолютных величинах, а в относительных. Почему симметричная? Она одинаково учитывает масштаб и целевого признака, и предсказания.\n",
    "\n",
    "Для задач регрессии чем меньше значение метрики, тем лучше."
   ]
  },
  {
   "cell_type": "code",
   "execution_count": 38,
   "metadata": {},
   "outputs": [],
   "source": [
    "#создадим функцию для расчета sMAPE\n",
    "def smape (target, predictions):\n",
    "    return 1/len(target)*sum(abs(target-predictions)/((abs(target)+abs(predictions))/2))*100"
   ]
  },
  {
   "cell_type": "code",
   "execution_count": 39,
   "metadata": {},
   "outputs": [],
   "source": [
    "#создадим новую метрику для оценки качества модели\n",
    "smape_score = make_scorer(smape)"
   ]
  },
  {
   "cell_type": "code",
   "execution_count": 40,
   "metadata": {},
   "outputs": [],
   "source": [
    "def total_smape (smape_rougher, smape_final):\n",
    "    return 0.25 * smape_rougher + 0.75 * smape_final"
   ]
  },
  {
   "cell_type": "code",
   "execution_count": 41,
   "metadata": {},
   "outputs": [],
   "source": [
    "#создадим выборки с признаками и целевыми признаками(отдельно для флотации и отдельно для финального концентрата)\n",
    "features_train = df_train.drop(['rougher.output.recovery', 'final.output.recovery'], axis = 1) # общие признаки для двух целевых признаков\n",
    "target_rougher_train = df_train['rougher.output.recovery'] # целевой признак для этапа флотации\n",
    "target_final_train = df_train['final.output.recovery'] # целевой признак для финальной концентрации"
   ]
  },
  {
   "cell_type": "markdown",
   "metadata": {},
   "source": [
    "#### Дерево решений"
   ]
  },
  {
   "cell_type": "code",
   "execution_count": 42,
   "metadata": {},
   "outputs": [],
   "source": [
    "def tree(features, target):\n",
    "    best_tree = None\n",
    "    best_depth = 0\n",
    "    best_smape = 20\n",
    "    for depth in range(1, 10):\n",
    "        model = DecisionTreeRegressor(random_state=12345, max_depth=depth)\n",
    "        model.fit(features, target)\n",
    "        smape_score_tree = cross_val_score(model,\n",
    "                                           features,\n",
    "                                           target,\n",
    "                                           cv=5,\n",
    "                                           scoring=smape_score,\n",
    "                                           n_jobs=-1).mean()\n",
    "        if smape_score_tree < best_smape:\n",
    "            best_tree = model\n",
    "            best_smape = smape_score_tree\n",
    "            best_depth = depth\n",
    "    print('Лучший результат sMAPE: {} с max_depth {}'\n",
    "      .format(best_smape, best_depth))\n",
    "    return best_tree, best_smape"
   ]
  },
  {
   "cell_type": "code",
   "execution_count": 43,
   "metadata": {},
   "outputs": [
    {
     "name": "stdout",
     "output_type": "stream",
     "text": [
      "Лучший результат sMAPE: 11.531455970056712 с max_depth 4\n"
     ]
    }
   ],
   "source": [
    "#посмотрим на результаты модели дерева решений для этапа флотации\n",
    "tree_rougher, tree_rougher_smape = tree(features_train, target_rougher_train)"
   ]
  },
  {
   "cell_type": "code",
   "execution_count": 44,
   "metadata": {},
   "outputs": [
    {
     "name": "stdout",
     "output_type": "stream",
     "text": [
      "Лучший результат sMAPE: 10.312148747789308 с max_depth 2\n"
     ]
    }
   ],
   "source": [
    "#посмотрим на результаты модели дерева решений на финальном этапе\n",
    "tree_final, tree_final_smape = tree(features_train, target_final_train)"
   ]
  },
  {
   "cell_type": "code",
   "execution_count": 45,
   "metadata": {},
   "outputs": [
    {
     "name": "stdout",
     "output_type": "stream",
     "text": [
      "Итоговое sMAPE для дерева решений: 10.61697555335616\n"
     ]
    }
   ],
   "source": [
    "#итоговое sMAPE дерева решений\n",
    "tree_total_smape = total_smape(tree_rougher_smape, tree_final_smape)\n",
    "print('Итоговое sMAPE для дерева решений:', tree_total_smape)"
   ]
  },
  {
   "cell_type": "markdown",
   "metadata": {},
   "source": []
  },
  {
   "cell_type": "markdown",
   "metadata": {},
   "source": [
    "#### Случайный лес"
   ]
  },
  {
   "cell_type": "code",
   "execution_count": 46,
   "metadata": {},
   "outputs": [],
   "source": [
    "def forest(features, target):\n",
    "    best_forest = None\n",
    "    best_est = 0\n",
    "    best_depth = 0\n",
    "    best_smape = 20\n",
    "    for depth in range(1, 10):\n",
    "        for est in range(1,10):\n",
    "            model = RandomForestRegressor(random_state=12345, n_estimators=est, max_depth=depth)\n",
    "            model.fit(features, target)\n",
    "            smape_score_forest = cross_val_score(model,\n",
    "                                                 features,\n",
    "                                                 target,\n",
    "                                                 cv=5,\n",
    "                                                 scoring=smape_score,\n",
    "                                                 n_jobs=-1).mean()\n",
    "            if smape_score_forest < best_smape:\n",
    "                best_forest = model\n",
    "                best_smape = smape_score_forest\n",
    "                best_depth = depth\n",
    "                best_est = est\n",
    "    print('Лучший результат sMAPE: {} с max_depth {} и n_estimators {}'\n",
    "      .format(best_smape, best_depth, best_est))\n",
    "    return (best_forest, best_smape)"
   ]
  },
  {
   "cell_type": "code",
   "execution_count": 47,
   "metadata": {},
   "outputs": [
    {
     "name": "stdout",
     "output_type": "stream",
     "text": [
      "Лучший результат sMAPE: 10.901806523121152 с max_depth 5 и n_estimators 6\n"
     ]
    }
   ],
   "source": [
    "#посмотрим на результаты модели случайного леса для этапа флотации\n",
    "forest_rougher, forest_rougher_smape = forest(features_train, target_rougher_train)"
   ]
  },
  {
   "cell_type": "code",
   "execution_count": 48,
   "metadata": {},
   "outputs": [
    {
     "name": "stdout",
     "output_type": "stream",
     "text": [
      "Лучший результат sMAPE: 10.021508844838745 с max_depth 5 и n_estimators 7\n"
     ]
    }
   ],
   "source": [
    "#посмотрим на результаты модели случайного леса на финальном этапе\n",
    "forest_final, forest_final_smape = forest(features_train, target_final_train)"
   ]
  },
  {
   "cell_type": "code",
   "execution_count": 49,
   "metadata": {},
   "outputs": [
    {
     "name": "stdout",
     "output_type": "stream",
     "text": [
      "Итоговое sMAPE для случайного леса: 10.241583264409346\n"
     ]
    }
   ],
   "source": [
    "#итоговое sMAPE по случайному лесу\n",
    "forest_total_smape = total_smape(forest_rougher_smape, forest_final_smape)\n",
    "print('Итоговое sMAPE для случайного леса:',forest_total_smape)"
   ]
  },
  {
   "cell_type": "markdown",
   "metadata": {},
   "source": []
  },
  {
   "cell_type": "markdown",
   "metadata": {},
   "source": [
    "#### Линейная регрессия"
   ]
  },
  {
   "cell_type": "code",
   "execution_count": 50,
   "metadata": {},
   "outputs": [],
   "source": [
    "def reg_model(features, target):\n",
    "    regression_model = LinearRegression()\n",
    "    regression_model.fit(features, target)\n",
    "    smape_score_regression = cross_val_score(regression_model,\n",
    "                                             features,\n",
    "                                             target,\n",
    "                                             cv=5,\n",
    "                                             scoring=smape_score,\n",
    "                                             n_jobs=-1).mean()\n",
    "    print('Лучший результат sMAPE:', smape_score_regression)\n",
    "    return (regression_model, smape_score_regression)"
   ]
  },
  {
   "cell_type": "code",
   "execution_count": 51,
   "metadata": {},
   "outputs": [
    {
     "name": "stdout",
     "output_type": "stream",
     "text": [
      "Лучший результат sMAPE: 12.774081397480504\n"
     ]
    }
   ],
   "source": [
    "#посмотрим на результаты модели линейной регрессии для этапа флотации\n",
    "regression_rougher, regression_rougher_smape = reg_model(features_train, target_rougher_train)"
   ]
  },
  {
   "cell_type": "code",
   "execution_count": 52,
   "metadata": {},
   "outputs": [
    {
     "name": "stdout",
     "output_type": "stream",
     "text": [
      "Лучший результат sMAPE: 11.971313778991943\n"
     ]
    }
   ],
   "source": [
    "#посмотрим на результаты модели линейной регрессии на финальном этапе\n",
    "regression_final, regression_final_smape = reg_model(features_train, target_final_train)"
   ]
  },
  {
   "cell_type": "code",
   "execution_count": 53,
   "metadata": {},
   "outputs": [
    {
     "name": "stdout",
     "output_type": "stream",
     "text": [
      "Итоговое sMAPE для линейной регрессии: 12.172005683614085\n"
     ]
    }
   ],
   "source": [
    "#итоговое sMAPE по линейной регрессии\n",
    "regression_total_smape = total_smape(regression_rougher_smape, regression_final_smape)\n",
    "print('Итоговое sMAPE для линейной регрессии:', regression_total_smape)"
   ]
  },
  {
   "cell_type": "markdown",
   "metadata": {},
   "source": [
    "Лучший результат итогового sMAPE среди трех моделей продемонстрировал случайный лес с результатом 10.241. "
   ]
  },
  {
   "cell_type": "markdown",
   "metadata": {},
   "source": [
    "### Проверка модели на тестовой выборке"
   ]
  },
  {
   "cell_type": "markdown",
   "metadata": {},
   "source": [
    "Итак, мы определили, что лучшей моделью у нас оказался случайный лес. Проверим результаты его работы на тестовой выборке."
   ]
  },
  {
   "cell_type": "code",
   "execution_count": 54,
   "metadata": {},
   "outputs": [],
   "source": [
    "#для начала подготовим тестовую выборку\n",
    "features_test = df_test # общие признаки для двух целевых признаков\n",
    "\n",
    "#целевые признаки возьмем из датасета full, т.к. в тестовой выборке их нет\n",
    "target_rougher_test = df_full['rougher.output.recovery'][df_test.index] # целевой признак для этапа флотации\n",
    "target_final_test = df_full['final.output.recovery'][df_test.index] # целевой признак для финальной концентрации"
   ]
  },
  {
   "cell_type": "markdown",
   "metadata": {},
   "source": [
    "Будем использовать модели случайного леса с параметрами, показавшими лучший результат на обучающей выборке."
   ]
  },
  {
   "cell_type": "code",
   "execution_count": 55,
   "metadata": {},
   "outputs": [
    {
     "name": "stdout",
     "output_type": "stream",
     "text": [
      "sMAPE случайного леса на тестовой выборке: 12.098099816552534\n"
     ]
    }
   ],
   "source": [
    "forest_model_rougher = RandomForestRegressor(random_state=12345, n_estimators=6, max_depth=5)\n",
    "forest_model_rougher.fit(features_test, target_rougher_test)\n",
    "smape_forest_model_rougher = cross_val_score(forest_model_rougher,\n",
    "                                             features_test,\n",
    "                                             target_rougher_test,\n",
    "                                             cv=5,\n",
    "                                             scoring=smape_score,\n",
    "                                             n_jobs=-1).mean()\n",
    "print('sMAPE случайного леса на тестовой выборке:', smape_forest_model_rougher)"
   ]
  },
  {
   "cell_type": "code",
   "execution_count": 56,
   "metadata": {},
   "outputs": [
    {
     "name": "stdout",
     "output_type": "stream",
     "text": [
      "sMAPE случайного леса на тестовой выборке: 13.132207921468947\n"
     ]
    }
   ],
   "source": [
    "forest_model_final = RandomForestRegressor(random_state=12345, n_estimators=7, max_depth=5)\n",
    "forest_model_final.fit(features_test, target_final_test)\n",
    "smape_forest_model_final = cross_val_score(forest_model_final,\n",
    "                                             features_test,\n",
    "                                             target_final_test,\n",
    "                                             cv=5,\n",
    "                                             scoring=smape_score,\n",
    "                                             n_jobs=-1).mean()\n",
    "print('sMAPE случайного леса на тестовой выборке:', smape_forest_model_final)"
   ]
  },
  {
   "cell_type": "code",
   "execution_count": 57,
   "metadata": {},
   "outputs": [
    {
     "name": "stdout",
     "output_type": "stream",
     "text": [
      "Итоговое sMAPE случайного леса на тестовой выборке: 12.873680895239843\n"
     ]
    }
   ],
   "source": [
    "forest_total_test_smape = total_smape(smape_forest_model_rougher, smape_forest_model_final)\n",
    "print('Итоговое sMAPE случайного леса на тестовой выборке:', forest_total_test_smape)"
   ]
  },
  {
   "cell_type": "markdown",
   "metadata": {},
   "source": [
    "Результат sMAPE получился хуже, чем на обучающей выборке - 12.873. Попробуем проверить показатель линейной регрессии на тестовой выборке."
   ]
  },
  {
   "cell_type": "code",
   "execution_count": 58,
   "metadata": {},
   "outputs": [
    {
     "name": "stdout",
     "output_type": "stream",
     "text": [
      "Лучший результат sMAPE: 12.998592331737893\n"
     ]
    }
   ],
   "source": [
    "#посмотрим на результаты тестовой выборки для этапа флотации\n",
    "regression_test_rougher, regression_test_rougher_smape = reg_model(features_test, target_rougher_test)"
   ]
  },
  {
   "cell_type": "code",
   "execution_count": 59,
   "metadata": {},
   "outputs": [
    {
     "name": "stdout",
     "output_type": "stream",
     "text": [
      "Лучший результат sMAPE: 10.417107059213853\n"
     ]
    }
   ],
   "source": [
    "#посмотрим на результаты тестовой выборки на финальном этапе\n",
    "regression_test_final, regression_test_final_smape = reg_model(features_test, target_final_test)"
   ]
  },
  {
   "cell_type": "code",
   "execution_count": 60,
   "metadata": {},
   "outputs": [
    {
     "name": "stdout",
     "output_type": "stream",
     "text": [
      "Итоговое sMAPE на тестовой выборке: 11.062478377344863\n"
     ]
    }
   ],
   "source": [
    "regression_total_test_smape = total_smape(regression_test_rougher_smape, regression_test_final_smape)\n",
    "print('Итоговое sMAPE на тестовой выборке:', regression_total_test_smape)"
   ]
  },
  {
   "cell_type": "markdown",
   "metadata": {},
   "source": [
    "Итоговое sMAPE линейной регрессии на тестовой выборке составило 11.062. Результат хороший и лучше, чем у случайного леса, поэтому будем использовать линейную регрессию."
   ]
  },
  {
   "cell_type": "markdown",
   "metadata": {},
   "source": [
    "### Проверка модели на адекватность"
   ]
  },
  {
   "cell_type": "markdown",
   "metadata": {},
   "source": [
    "Сравним нашу модель с константной моделью из DummyRegressor, которая предсказывает среднее значение от целевых значений, чтобы убедиться, что она работает адекватно."
   ]
  },
  {
   "cell_type": "code",
   "execution_count": 61,
   "metadata": {},
   "outputs": [],
   "source": [
    "#обучим dummy модель\n",
    "dummy_rougher = DummyRegressor(strategy='mean')\n",
    "dummy_rougher.fit(features_train, target_rougher_train)\n",
    "dummy_rougher_predict = dummy_rougher.predict(features_test)\n",
    "\n",
    "dummy_final = DummyRegressor(strategy='mean')\n",
    "dummy_final.fit(features_train, target_final_train)\n",
    "dummy_final_predict = dummy_rougher.predict(features_test)"
   ]
  },
  {
   "cell_type": "code",
   "execution_count": 62,
   "metadata": {},
   "outputs": [
    {
     "name": "stdout",
     "output_type": "stream",
     "text": [
      "Итоговый sMAPE Dummy модели составляет: 17.854900797328266\n"
     ]
    }
   ],
   "source": [
    "#и проверим получившийся результат sMAPE\n",
    "smape_dummy_rougher_test = smape(target_rougher_test, dummy_rougher_predict)\n",
    "smape_dummy_final_test = smape(target_final_test, dummy_final_predict)\n",
    "\n",
    "dummy_total_test_smape = total_smape(smape_dummy_rougher_test, smape_dummy_final_test)\n",
    "print('Итоговый sMAPE Dummy модели составляет:', dummy_total_test_smape)"
   ]
  },
  {
   "cell_type": "markdown",
   "metadata": {},
   "source": [
    "Итоговый sMAPE Dummy модели составил 17.854, а это означает, что наша модель работает адекватно, т.к. итоговое sMAPE на ней составило 11.062."
   ]
  },
  {
   "cell_type": "markdown",
   "metadata": {},
   "source": [
    "### Вывод по разделу"
   ]
  },
  {
   "cell_type": "markdown",
   "metadata": {},
   "source": [
    "1. Для решения задачи была введена новая метрика качества — sMAPE (англ. Symmetric Mean Absolute Percentage Error, «симметричное среднее абсолютное процентное отклонение»).\n",
    "2. Было обучено 3 модели: дерево решений, случайный лес и линейная регрессия.\n",
    "3. Были получены следующие результаты sMAPE по 3 моделям:\n",
    "    1. Дерево решений - 10.616;\n",
    "    2. Случайный лес - 10.241;\n",
    "    3. Линейная регрессия - 12.172.\n",
    "4. Лучшей по результатам проверки работы модели на тестовой выборке признана линейная регрессия и мы получили показатель sMAPE - 11.062, что является хорошим результатом.\n",
    "5. Исходя из проверки, наша модель работает адекватно."
   ]
  },
  {
   "cell_type": "markdown",
   "metadata": {},
   "source": [
    "## Общий вывод"
   ]
  },
  {
   "cell_type": "markdown",
   "metadata": {},
   "source": [
    "1. Эффективность обогащения в обучающей выборке рассчитана правильно, т.к. показатель МАЕ составил 9,73, что является хорошим . результатом и говорит о корректности расчетов.\n",
    "2. В тестовой выборке на всех этапах отсутствуют выходные параметры продукта (output): концентрация металлов (concentrate) и отвальные хвосты (tail) для металлов (Au, Ag, Pb) и солей (Sol). Эти данные не подойдут для тренировки модели, так как появляются во время или после измерения целевых признаков. Также в тестовой выборке отсутствуют расчётные признаки на этапе флотации - calculation. Данные колонки были удалены из обучающего датасета, а столбцы final.output.recovery и rougher.output.recovery были назначены целевыми признаками.\n",
    "3. После прохождения всех этапов очистки концентрация золота и свинца увеличивается, а концентрация серебра наоборот снижается.\n",
    "4. Распределение размеров гранул сырья на обучающей и тестовой выборке похожи, поэтому модель будет работать правильно.\n",
    "5. При исследовании суммарной концентрации всех веществ на разных стадиях: в сырье и черновом концентрате она практически не меняется, а вот в финальном концентрате концентрация всех веществ увеличивается практически вдвое.\n",
    "6. Для решения задачи была введена новая метрика качества — sMAPE (англ. Symmetric Mean Absolute Percentage Error, «симметричное среднее абсолютное процентное отклонение»).\n",
    "7. Лучшей была признана линейная регрессия и по результатам проверки работы модели на тестовой выборке получили результат sMAPE - 11.062, что является хорошим результатом."
   ]
  }
 ],
 "metadata": {
  "ExecuteTimeLog": [
   {
    "duration": 1708,
    "start_time": "2022-04-21T07:43:16.237Z"
   },
   {
    "duration": 256,
    "start_time": "2022-04-21T07:47:45.145Z"
   },
   {
    "duration": 637,
    "start_time": "2022-04-21T07:48:35.844Z"
   },
   {
    "duration": 25,
    "start_time": "2022-04-21T07:49:33.492Z"
   },
   {
    "duration": 16,
    "start_time": "2022-04-21T07:49:56.077Z"
   },
   {
    "duration": 23,
    "start_time": "2022-04-21T07:50:37.911Z"
   },
   {
    "duration": 13,
    "start_time": "2022-04-21T07:50:50.359Z"
   },
   {
    "duration": 22,
    "start_time": "2022-04-21T07:51:10.214Z"
   },
   {
    "duration": 11,
    "start_time": "2022-04-21T07:51:55.622Z"
   },
   {
    "duration": 21,
    "start_time": "2022-04-21T07:52:36.399Z"
   },
   {
    "duration": 15,
    "start_time": "2022-04-21T07:52:48.119Z"
   },
   {
    "duration": 99,
    "start_time": "2022-04-21T07:59:51.119Z"
   },
   {
    "duration": 4,
    "start_time": "2022-04-21T07:59:57.945Z"
   },
   {
    "duration": 9,
    "start_time": "2022-04-21T08:00:37.724Z"
   },
   {
    "duration": 119,
    "start_time": "2022-04-21T08:01:41.811Z"
   },
   {
    "duration": 233,
    "start_time": "2022-04-21T08:02:25.240Z"
   },
   {
    "duration": 107,
    "start_time": "2022-04-21T08:02:30.568Z"
   },
   {
    "duration": 110,
    "start_time": "2022-04-21T08:03:10.785Z"
   },
   {
    "duration": 106,
    "start_time": "2022-04-21T08:03:38.620Z"
   },
   {
    "duration": 108,
    "start_time": "2022-04-21T08:05:05.461Z"
   },
   {
    "duration": 20,
    "start_time": "2022-04-21T08:05:32.133Z"
   },
   {
    "duration": 20,
    "start_time": "2022-04-21T08:07:54.932Z"
   },
   {
    "duration": 82,
    "start_time": "2022-04-21T08:08:17.077Z"
   },
   {
    "duration": 3,
    "start_time": "2022-04-21T08:09:47.105Z"
   },
   {
    "duration": 4,
    "start_time": "2022-04-21T08:10:05.289Z"
   },
   {
    "duration": 1005,
    "start_time": "2022-04-21T08:19:15.717Z"
   },
   {
    "duration": 689,
    "start_time": "2022-04-21T08:19:48.584Z"
   },
   {
    "duration": 629,
    "start_time": "2022-04-21T08:21:21.971Z"
   },
   {
    "duration": 200,
    "start_time": "2022-04-21T08:23:34.132Z"
   },
   {
    "duration": 185,
    "start_time": "2022-04-21T08:23:39.431Z"
   },
   {
    "duration": 180,
    "start_time": "2022-04-21T08:23:51.511Z"
   },
   {
    "duration": 13,
    "start_time": "2022-04-21T08:48:23.646Z"
   },
   {
    "duration": 3,
    "start_time": "2022-04-21T08:48:47.214Z"
   },
   {
    "duration": 7,
    "start_time": "2022-04-21T08:49:46.623Z"
   },
   {
    "duration": 10,
    "start_time": "2022-04-21T08:49:53.527Z"
   },
   {
    "duration": 209,
    "start_time": "2022-04-21T08:50:00.197Z"
   },
   {
    "duration": 5,
    "start_time": "2022-04-21T08:50:03.958Z"
   },
   {
    "duration": 4,
    "start_time": "2022-04-21T08:50:23.129Z"
   },
   {
    "duration": 6,
    "start_time": "2022-04-21T08:54:12.595Z"
   },
   {
    "duration": 4,
    "start_time": "2022-04-21T08:54:18.734Z"
   },
   {
    "duration": 9,
    "start_time": "2022-04-21T08:54:27.212Z"
   },
   {
    "duration": 4,
    "start_time": "2022-04-21T08:54:31.385Z"
   },
   {
    "duration": 4,
    "start_time": "2022-04-21T08:54:39.913Z"
   },
   {
    "duration": 3,
    "start_time": "2022-04-21T08:54:43.278Z"
   },
   {
    "duration": 6,
    "start_time": "2022-04-21T08:55:14.512Z"
   },
   {
    "duration": 8,
    "start_time": "2022-04-21T08:57:30.938Z"
   },
   {
    "duration": 6,
    "start_time": "2022-04-21T08:57:35.494Z"
   },
   {
    "duration": 3,
    "start_time": "2022-04-21T08:57:36.454Z"
   },
   {
    "duration": 6,
    "start_time": "2022-04-21T08:57:59.774Z"
   },
   {
    "duration": 3,
    "start_time": "2022-04-21T08:58:00.379Z"
   },
   {
    "duration": 5,
    "start_time": "2022-04-21T08:58:10.796Z"
   },
   {
    "duration": 4,
    "start_time": "2022-04-21T08:58:11.766Z"
   },
   {
    "duration": 7,
    "start_time": "2022-04-21T09:31:43.245Z"
   },
   {
    "duration": 8,
    "start_time": "2022-04-21T09:34:19.707Z"
   },
   {
    "duration": 9,
    "start_time": "2022-04-21T09:50:12.992Z"
   },
   {
    "duration": 3207,
    "start_time": "2022-04-21T09:50:22.027Z"
   },
   {
    "duration": 5,
    "start_time": "2022-04-21T09:50:31.471Z"
   },
   {
    "duration": 8,
    "start_time": "2022-04-21T09:50:46.997Z"
   },
   {
    "duration": 14,
    "start_time": "2022-04-21T09:51:41.320Z"
   },
   {
    "duration": 64,
    "start_time": "2022-04-21T09:52:08.798Z"
   },
   {
    "duration": 4,
    "start_time": "2022-04-21T09:52:25.334Z"
   },
   {
    "duration": 12,
    "start_time": "2022-04-21T09:56:06.512Z"
   },
   {
    "duration": 3,
    "start_time": "2022-04-21T09:56:36.062Z"
   },
   {
    "duration": 4,
    "start_time": "2022-04-21T09:56:54.834Z"
   },
   {
    "duration": 1499,
    "start_time": "2022-04-21T09:57:01.552Z"
   },
   {
    "duration": 1061,
    "start_time": "2022-04-21T09:57:03.053Z"
   },
   {
    "duration": 91,
    "start_time": "2022-04-21T09:57:04.116Z"
   },
   {
    "duration": 22,
    "start_time": "2022-04-21T09:57:04.209Z"
   },
   {
    "duration": 305,
    "start_time": "2022-04-21T09:57:04.233Z"
   },
   {
    "duration": 75,
    "start_time": "2022-04-21T09:57:04.540Z"
   },
   {
    "duration": 11,
    "start_time": "2022-04-21T09:57:04.617Z"
   },
   {
    "duration": 75,
    "start_time": "2022-04-21T09:57:04.630Z"
   },
   {
    "duration": 22,
    "start_time": "2022-04-21T09:57:04.706Z"
   },
   {
    "duration": 71,
    "start_time": "2022-04-21T09:57:04.730Z"
   },
   {
    "duration": 241,
    "start_time": "2022-04-21T09:57:04.803Z"
   },
   {
    "duration": 55,
    "start_time": "2022-04-21T09:57:05.046Z"
   },
   {
    "duration": 29,
    "start_time": "2022-04-21T09:57:05.103Z"
   },
   {
    "duration": 5,
    "start_time": "2022-04-21T09:57:05.133Z"
   },
   {
    "duration": 12,
    "start_time": "2022-04-21T09:57:05.139Z"
   },
   {
    "duration": 5,
    "start_time": "2022-04-21T09:57:05.152Z"
   },
   {
    "duration": 157,
    "start_time": "2022-04-21T09:57:05.158Z"
   },
   {
    "duration": 922,
    "start_time": "2022-04-21T10:01:12.971Z"
   },
   {
    "duration": 34,
    "start_time": "2022-04-21T10:01:15.469Z"
   },
   {
    "duration": 16,
    "start_time": "2022-04-21T10:01:17.423Z"
   },
   {
    "duration": 3320,
    "start_time": "2022-04-21T10:03:15.179Z"
   },
   {
    "duration": 1555,
    "start_time": "2022-04-21T10:09:23.000Z"
   },
   {
    "duration": 614,
    "start_time": "2022-04-21T10:09:24.557Z"
   },
   {
    "duration": 32,
    "start_time": "2022-04-21T10:09:25.172Z"
   },
   {
    "duration": 19,
    "start_time": "2022-04-21T10:09:25.206Z"
   },
   {
    "duration": 132,
    "start_time": "2022-04-21T10:09:25.226Z"
   },
   {
    "duration": 22,
    "start_time": "2022-04-21T10:09:25.360Z"
   },
   {
    "duration": 24,
    "start_time": "2022-04-21T10:09:25.384Z"
   },
   {
    "duration": 21,
    "start_time": "2022-04-21T10:09:25.410Z"
   },
   {
    "duration": 21,
    "start_time": "2022-04-21T10:09:25.432Z"
   },
   {
    "duration": 17,
    "start_time": "2022-04-21T10:09:25.456Z"
   },
   {
    "duration": 110,
    "start_time": "2022-04-21T10:09:25.474Z"
   },
   {
    "duration": 3,
    "start_time": "2022-04-21T10:09:25.585Z"
   },
   {
    "duration": 18,
    "start_time": "2022-04-21T10:09:25.589Z"
   },
   {
    "duration": 4,
    "start_time": "2022-04-21T10:09:25.608Z"
   },
   {
    "duration": 10,
    "start_time": "2022-04-21T10:09:25.613Z"
   },
   {
    "duration": 8,
    "start_time": "2022-04-21T10:09:25.624Z"
   },
   {
    "duration": 87,
    "start_time": "2022-04-21T10:09:25.634Z"
   },
   {
    "duration": 13,
    "start_time": "2022-04-21T10:09:25.722Z"
   },
   {
    "duration": 10,
    "start_time": "2022-04-21T10:10:30.362Z"
   },
   {
    "duration": 6,
    "start_time": "2022-04-21T10:11:51.101Z"
   },
   {
    "duration": 26,
    "start_time": "2022-04-21T10:12:52.643Z"
   },
   {
    "duration": 6,
    "start_time": "2022-04-21T10:13:05.602Z"
   },
   {
    "duration": 6,
    "start_time": "2022-04-21T10:14:02.621Z"
   },
   {
    "duration": 6,
    "start_time": "2022-04-21T10:14:12.329Z"
   },
   {
    "duration": 6,
    "start_time": "2022-04-21T10:15:46.642Z"
   },
   {
    "duration": 72,
    "start_time": "2022-04-21T10:18:02.857Z"
   },
   {
    "duration": 42,
    "start_time": "2022-04-21T10:18:15.627Z"
   },
   {
    "duration": 99,
    "start_time": "2022-04-21T10:18:31.633Z"
   },
   {
    "duration": 1707,
    "start_time": "2022-04-21T10:19:03.325Z"
   },
   {
    "duration": 1031,
    "start_time": "2022-04-21T10:19:05.034Z"
   },
   {
    "duration": 33,
    "start_time": "2022-04-21T10:19:06.067Z"
   },
   {
    "duration": 16,
    "start_time": "2022-04-21T10:19:06.102Z"
   },
   {
    "duration": 124,
    "start_time": "2022-04-21T10:19:06.121Z"
   },
   {
    "duration": 22,
    "start_time": "2022-04-21T10:19:06.247Z"
   },
   {
    "duration": 14,
    "start_time": "2022-04-21T10:19:06.270Z"
   },
   {
    "duration": 32,
    "start_time": "2022-04-21T10:19:06.285Z"
   },
   {
    "duration": 21,
    "start_time": "2022-04-21T10:19:06.318Z"
   },
   {
    "duration": 15,
    "start_time": "2022-04-21T10:19:06.341Z"
   },
   {
    "duration": 118,
    "start_time": "2022-04-21T10:19:06.358Z"
   },
   {
    "duration": 3,
    "start_time": "2022-04-21T10:19:06.478Z"
   },
   {
    "duration": 13,
    "start_time": "2022-04-21T10:19:06.482Z"
   },
   {
    "duration": 3,
    "start_time": "2022-04-21T10:19:06.500Z"
   },
   {
    "duration": 11,
    "start_time": "2022-04-21T10:19:06.505Z"
   },
   {
    "duration": 9,
    "start_time": "2022-04-21T10:19:06.518Z"
   },
   {
    "duration": 78,
    "start_time": "2022-04-21T10:19:06.528Z"
   },
   {
    "duration": 14,
    "start_time": "2022-04-21T10:19:06.608Z"
   },
   {
    "duration": 12,
    "start_time": "2022-04-21T10:19:06.624Z"
   },
   {
    "duration": 19,
    "start_time": "2022-04-21T10:19:06.638Z"
   },
   {
    "duration": 42,
    "start_time": "2022-04-21T10:19:06.658Z"
   },
   {
    "duration": 1836,
    "start_time": "2022-04-21T10:19:27.700Z"
   },
   {
    "duration": 2011,
    "start_time": "2022-04-21T10:19:29.538Z"
   },
   {
    "duration": 25,
    "start_time": "2022-04-21T10:19:31.551Z"
   },
   {
    "duration": 30,
    "start_time": "2022-04-21T10:19:31.578Z"
   },
   {
    "duration": 123,
    "start_time": "2022-04-21T10:19:31.611Z"
   },
   {
    "duration": 22,
    "start_time": "2022-04-21T10:19:31.736Z"
   },
   {
    "duration": 21,
    "start_time": "2022-04-21T10:19:31.760Z"
   },
   {
    "duration": 49,
    "start_time": "2022-04-21T10:19:31.783Z"
   },
   {
    "duration": 30,
    "start_time": "2022-04-21T10:19:31.834Z"
   },
   {
    "duration": 41,
    "start_time": "2022-04-21T10:19:31.866Z"
   },
   {
    "duration": 103,
    "start_time": "2022-04-21T10:19:31.909Z"
   },
   {
    "duration": 2,
    "start_time": "2022-04-21T10:19:32.014Z"
   },
   {
    "duration": 15,
    "start_time": "2022-04-21T10:19:32.018Z"
   },
   {
    "duration": 8,
    "start_time": "2022-04-21T10:19:32.035Z"
   },
   {
    "duration": 12,
    "start_time": "2022-04-21T10:19:32.044Z"
   },
   {
    "duration": 7,
    "start_time": "2022-04-21T10:19:32.058Z"
   },
   {
    "duration": 82,
    "start_time": "2022-04-21T10:19:32.066Z"
   },
   {
    "duration": 15,
    "start_time": "2022-04-21T10:19:32.150Z"
   },
   {
    "duration": 35,
    "start_time": "2022-04-21T10:19:32.166Z"
   },
   {
    "duration": 20,
    "start_time": "2022-04-21T10:19:32.202Z"
   },
   {
    "duration": 27,
    "start_time": "2022-04-21T10:19:32.223Z"
   },
   {
    "duration": 2017,
    "start_time": "2022-04-21T10:19:52.616Z"
   },
   {
    "duration": 1207,
    "start_time": "2022-04-21T10:19:54.634Z"
   },
   {
    "duration": 89,
    "start_time": "2022-04-21T10:19:55.843Z"
   },
   {
    "duration": 71,
    "start_time": "2022-04-21T10:19:55.934Z"
   },
   {
    "duration": 144,
    "start_time": "2022-04-21T10:19:56.009Z"
   },
   {
    "duration": 24,
    "start_time": "2022-04-21T10:19:56.155Z"
   },
   {
    "duration": 28,
    "start_time": "2022-04-21T10:19:56.180Z"
   },
   {
    "duration": 19,
    "start_time": "2022-04-21T10:19:56.210Z"
   },
   {
    "duration": 23,
    "start_time": "2022-04-21T10:19:56.231Z"
   },
   {
    "duration": 54,
    "start_time": "2022-04-21T10:19:56.256Z"
   },
   {
    "duration": 153,
    "start_time": "2022-04-21T10:19:56.312Z"
   },
   {
    "duration": 3,
    "start_time": "2022-04-21T10:19:56.468Z"
   },
   {
    "duration": 19,
    "start_time": "2022-04-21T10:19:56.473Z"
   },
   {
    "duration": 5,
    "start_time": "2022-04-21T10:19:56.495Z"
   },
   {
    "duration": 22,
    "start_time": "2022-04-21T10:19:56.501Z"
   },
   {
    "duration": 11,
    "start_time": "2022-04-21T10:19:56.525Z"
   },
   {
    "duration": 77,
    "start_time": "2022-04-21T10:19:56.538Z"
   },
   {
    "duration": 10,
    "start_time": "2022-04-21T10:19:56.617Z"
   },
   {
    "duration": 15,
    "start_time": "2022-04-21T10:19:56.628Z"
   },
   {
    "duration": 12,
    "start_time": "2022-04-21T10:19:56.645Z"
   },
   {
    "duration": 17,
    "start_time": "2022-04-21T10:19:56.659Z"
   },
   {
    "duration": 1616,
    "start_time": "2022-04-21T10:24:00.818Z"
   },
   {
    "duration": 616,
    "start_time": "2022-04-21T10:24:02.435Z"
   },
   {
    "duration": 25,
    "start_time": "2022-04-21T10:24:03.053Z"
   },
   {
    "duration": 33,
    "start_time": "2022-04-21T10:24:03.080Z"
   },
   {
    "duration": 124,
    "start_time": "2022-04-21T10:24:03.115Z"
   },
   {
    "duration": 22,
    "start_time": "2022-04-21T10:24:03.241Z"
   },
   {
    "duration": 14,
    "start_time": "2022-04-21T10:24:03.265Z"
   },
   {
    "duration": 40,
    "start_time": "2022-04-21T10:24:03.281Z"
   },
   {
    "duration": 21,
    "start_time": "2022-04-21T10:24:03.323Z"
   },
   {
    "duration": 19,
    "start_time": "2022-04-21T10:24:03.346Z"
   },
   {
    "duration": 111,
    "start_time": "2022-04-21T10:24:03.367Z"
   },
   {
    "duration": 3,
    "start_time": "2022-04-21T10:24:03.480Z"
   },
   {
    "duration": 22,
    "start_time": "2022-04-21T10:24:03.484Z"
   },
   {
    "duration": 6,
    "start_time": "2022-04-21T10:24:03.508Z"
   },
   {
    "duration": 10,
    "start_time": "2022-04-21T10:24:03.515Z"
   },
   {
    "duration": 8,
    "start_time": "2022-04-21T10:24:03.527Z"
   },
   {
    "duration": 87,
    "start_time": "2022-04-21T10:24:03.537Z"
   },
   {
    "duration": 5,
    "start_time": "2022-04-21T10:24:03.626Z"
   },
   {
    "duration": 14,
    "start_time": "2022-04-21T10:24:03.633Z"
   },
   {
    "duration": 15,
    "start_time": "2022-04-21T10:24:03.649Z"
   },
   {
    "duration": 34,
    "start_time": "2022-04-21T10:24:03.666Z"
   },
   {
    "duration": 14,
    "start_time": "2022-04-21T10:24:53.052Z"
   },
   {
    "duration": 2062,
    "start_time": "2022-04-21T10:30:35.814Z"
   },
   {
    "duration": 641,
    "start_time": "2022-04-21T10:30:37.878Z"
   },
   {
    "duration": 25,
    "start_time": "2022-04-21T10:30:38.520Z"
   },
   {
    "duration": 16,
    "start_time": "2022-04-21T10:30:38.547Z"
   },
   {
    "duration": 131,
    "start_time": "2022-04-21T10:30:38.564Z"
   },
   {
    "duration": 22,
    "start_time": "2022-04-21T10:30:38.700Z"
   },
   {
    "duration": 13,
    "start_time": "2022-04-21T10:30:38.724Z"
   },
   {
    "duration": 20,
    "start_time": "2022-04-21T10:30:38.739Z"
   },
   {
    "duration": 42,
    "start_time": "2022-04-21T10:30:38.760Z"
   },
   {
    "duration": 17,
    "start_time": "2022-04-21T10:30:38.804Z"
   },
   {
    "duration": 107,
    "start_time": "2022-04-21T10:30:38.822Z"
   },
   {
    "duration": 3,
    "start_time": "2022-04-21T10:30:38.930Z"
   },
   {
    "duration": 10,
    "start_time": "2022-04-21T10:30:38.934Z"
   },
   {
    "duration": 3,
    "start_time": "2022-04-21T10:30:38.946Z"
   },
   {
    "duration": 7,
    "start_time": "2022-04-21T10:30:38.950Z"
   },
   {
    "duration": 4,
    "start_time": "2022-04-21T10:30:38.959Z"
   },
   {
    "duration": 91,
    "start_time": "2022-04-21T10:30:38.965Z"
   },
   {
    "duration": 111,
    "start_time": "2022-04-21T10:30:39.058Z"
   },
   {
    "duration": 0,
    "start_time": "2022-04-21T10:30:39.171Z"
   },
   {
    "duration": 0,
    "start_time": "2022-04-21T10:30:39.172Z"
   },
   {
    "duration": 0,
    "start_time": "2022-04-21T10:30:39.173Z"
   },
   {
    "duration": 1476,
    "start_time": "2022-04-21T10:32:20.593Z"
   },
   {
    "duration": 641,
    "start_time": "2022-04-21T10:32:22.071Z"
   },
   {
    "duration": 25,
    "start_time": "2022-04-21T10:32:22.713Z"
   },
   {
    "duration": 15,
    "start_time": "2022-04-21T10:32:22.740Z"
   },
   {
    "duration": 141,
    "start_time": "2022-04-21T10:32:22.756Z"
   },
   {
    "duration": 19,
    "start_time": "2022-04-21T10:32:22.899Z"
   },
   {
    "duration": 26,
    "start_time": "2022-04-21T10:32:22.920Z"
   },
   {
    "duration": 27,
    "start_time": "2022-04-21T10:32:22.947Z"
   },
   {
    "duration": 20,
    "start_time": "2022-04-21T10:32:22.975Z"
   },
   {
    "duration": 28,
    "start_time": "2022-04-21T10:32:22.999Z"
   },
   {
    "duration": 91,
    "start_time": "2022-04-21T10:32:23.028Z"
   },
   {
    "duration": 2,
    "start_time": "2022-04-21T10:32:23.121Z"
   },
   {
    "duration": 10,
    "start_time": "2022-04-21T10:32:23.125Z"
   },
   {
    "duration": 4,
    "start_time": "2022-04-21T10:32:23.136Z"
   },
   {
    "duration": 9,
    "start_time": "2022-04-21T10:32:23.142Z"
   },
   {
    "duration": 3,
    "start_time": "2022-04-21T10:32:23.152Z"
   },
   {
    "duration": 92,
    "start_time": "2022-04-21T10:32:23.156Z"
   },
   {
    "duration": 5,
    "start_time": "2022-04-21T10:32:23.249Z"
   },
   {
    "duration": 18,
    "start_time": "2022-04-21T10:32:23.256Z"
   },
   {
    "duration": 12,
    "start_time": "2022-04-21T10:32:23.275Z"
   },
   {
    "duration": 16,
    "start_time": "2022-04-21T10:32:23.300Z"
   },
   {
    "duration": 1510,
    "start_time": "2022-04-21T10:33:55.170Z"
   },
   {
    "duration": 660,
    "start_time": "2022-04-21T10:33:56.682Z"
   },
   {
    "duration": 26,
    "start_time": "2022-04-21T10:33:57.344Z"
   },
   {
    "duration": 32,
    "start_time": "2022-04-21T10:33:57.372Z"
   },
   {
    "duration": 116,
    "start_time": "2022-04-21T10:33:57.406Z"
   },
   {
    "duration": 23,
    "start_time": "2022-04-21T10:33:57.523Z"
   },
   {
    "duration": 12,
    "start_time": "2022-04-21T10:33:57.547Z"
   },
   {
    "duration": 39,
    "start_time": "2022-04-21T10:33:57.561Z"
   },
   {
    "duration": 21,
    "start_time": "2022-04-21T10:33:57.602Z"
   },
   {
    "duration": 20,
    "start_time": "2022-04-21T10:33:57.624Z"
   },
   {
    "duration": 104,
    "start_time": "2022-04-21T10:33:57.646Z"
   },
   {
    "duration": 4,
    "start_time": "2022-04-21T10:33:57.751Z"
   },
   {
    "duration": 9,
    "start_time": "2022-04-21T10:33:57.756Z"
   },
   {
    "duration": 3,
    "start_time": "2022-04-21T10:33:57.768Z"
   },
   {
    "duration": 28,
    "start_time": "2022-04-21T10:33:57.772Z"
   },
   {
    "duration": 4,
    "start_time": "2022-04-21T10:33:57.802Z"
   },
   {
    "duration": 69,
    "start_time": "2022-04-21T10:33:57.807Z"
   },
   {
    "duration": 22,
    "start_time": "2022-04-21T10:33:57.878Z"
   },
   {
    "duration": 12,
    "start_time": "2022-04-21T10:33:57.902Z"
   },
   {
    "duration": 14,
    "start_time": "2022-04-21T10:33:57.916Z"
   },
   {
    "duration": 15,
    "start_time": "2022-04-21T10:33:57.932Z"
   },
   {
    "duration": 2290,
    "start_time": "2022-04-22T06:53:27.658Z"
   },
   {
    "duration": 930,
    "start_time": "2022-04-22T06:53:29.951Z"
   },
   {
    "duration": 60,
    "start_time": "2022-04-22T06:53:30.883Z"
   },
   {
    "duration": 28,
    "start_time": "2022-04-22T06:53:30.946Z"
   },
   {
    "duration": 290,
    "start_time": "2022-04-22T06:53:30.979Z"
   },
   {
    "duration": 110,
    "start_time": "2022-04-22T06:53:31.325Z"
   },
   {
    "duration": 28,
    "start_time": "2022-04-22T06:53:31.438Z"
   },
   {
    "duration": 156,
    "start_time": "2022-04-22T06:53:31.469Z"
   },
   {
    "duration": 110,
    "start_time": "2022-04-22T06:53:31.628Z"
   },
   {
    "duration": 100,
    "start_time": "2022-04-22T06:53:31.741Z"
   },
   {
    "duration": 317,
    "start_time": "2022-04-22T06:53:31.844Z"
   },
   {
    "duration": 60,
    "start_time": "2022-04-22T06:53:32.163Z"
   },
   {
    "duration": 15,
    "start_time": "2022-04-22T06:53:32.226Z"
   },
   {
    "duration": 5,
    "start_time": "2022-04-22T06:53:32.245Z"
   },
   {
    "duration": 18,
    "start_time": "2022-04-22T06:53:32.253Z"
   },
   {
    "duration": 10,
    "start_time": "2022-04-22T06:53:32.324Z"
   },
   {
    "duration": 288,
    "start_time": "2022-04-22T06:53:32.337Z"
   },
   {
    "duration": 13,
    "start_time": "2022-04-22T06:53:32.628Z"
   },
   {
    "duration": 21,
    "start_time": "2022-04-22T06:53:32.644Z"
   },
   {
    "duration": 81,
    "start_time": "2022-04-22T06:53:32.669Z"
   },
   {
    "duration": 77,
    "start_time": "2022-04-22T06:53:32.754Z"
   },
   {
    "duration": 167,
    "start_time": "2022-04-22T07:03:48.729Z"
   },
   {
    "duration": 15,
    "start_time": "2022-04-22T07:07:21.698Z"
   },
   {
    "duration": 9,
    "start_time": "2022-04-22T07:16:54.267Z"
   },
   {
    "duration": 8,
    "start_time": "2022-04-22T07:18:51.891Z"
   },
   {
    "duration": 1359,
    "start_time": "2022-04-22T07:19:46.988Z"
   },
   {
    "duration": 1772,
    "start_time": "2022-04-22T07:20:29.555Z"
   },
   {
    "duration": 1749,
    "start_time": "2022-04-22T07:20:52.848Z"
   },
   {
    "duration": 1632,
    "start_time": "2022-04-22T07:21:06.169Z"
   },
   {
    "duration": 1638,
    "start_time": "2022-04-22T07:21:28.356Z"
   },
   {
    "duration": 1908,
    "start_time": "2022-04-22T07:26:21.197Z"
   },
   {
    "duration": 2003,
    "start_time": "2022-04-22T07:26:42.605Z"
   },
   {
    "duration": 14,
    "start_time": "2022-04-22T07:27:06.876Z"
   },
   {
    "duration": 13,
    "start_time": "2022-04-22T07:27:13.012Z"
   },
   {
    "duration": 1963,
    "start_time": "2022-04-22T07:27:23.635Z"
   },
   {
    "duration": 2149,
    "start_time": "2022-04-22T07:28:07.301Z"
   },
   {
    "duration": 2247,
    "start_time": "2022-04-22T07:28:16.174Z"
   },
   {
    "duration": 2083,
    "start_time": "2022-04-22T07:28:24.487Z"
   },
   {
    "duration": 2086,
    "start_time": "2022-04-22T07:28:33.219Z"
   },
   {
    "duration": 2060,
    "start_time": "2022-04-22T07:28:40.539Z"
   },
   {
    "duration": 3102,
    "start_time": "2022-04-22T07:29:22.742Z"
   },
   {
    "duration": 862,
    "start_time": "2022-04-22T07:29:25.847Z"
   },
   {
    "duration": 47,
    "start_time": "2022-04-22T07:29:26.711Z"
   },
   {
    "duration": 25,
    "start_time": "2022-04-22T07:29:26.762Z"
   },
   {
    "duration": 217,
    "start_time": "2022-04-22T07:29:26.790Z"
   },
   {
    "duration": 46,
    "start_time": "2022-04-22T07:29:27.009Z"
   },
   {
    "duration": 21,
    "start_time": "2022-04-22T07:29:27.057Z"
   },
   {
    "duration": 65,
    "start_time": "2022-04-22T07:29:27.080Z"
   },
   {
    "duration": 36,
    "start_time": "2022-04-22T07:29:27.148Z"
   },
   {
    "duration": 49,
    "start_time": "2022-04-22T07:29:27.188Z"
   },
   {
    "duration": 184,
    "start_time": "2022-04-22T07:29:27.240Z"
   },
   {
    "duration": 4,
    "start_time": "2022-04-22T07:29:27.426Z"
   },
   {
    "duration": 15,
    "start_time": "2022-04-22T07:29:27.432Z"
   },
   {
    "duration": 5,
    "start_time": "2022-04-22T07:29:27.449Z"
   },
   {
    "duration": 9,
    "start_time": "2022-04-22T07:29:27.456Z"
   },
   {
    "duration": 6,
    "start_time": "2022-04-22T07:29:27.470Z"
   },
   {
    "duration": 134,
    "start_time": "2022-04-22T07:29:27.479Z"
   },
   {
    "duration": 13,
    "start_time": "2022-04-22T07:29:27.616Z"
   },
   {
    "duration": 19,
    "start_time": "2022-04-22T07:29:27.631Z"
   },
   {
    "duration": 17,
    "start_time": "2022-04-22T07:29:27.652Z"
   },
   {
    "duration": 17,
    "start_time": "2022-04-22T07:29:27.672Z"
   },
   {
    "duration": 9,
    "start_time": "2022-04-22T07:29:27.725Z"
   },
   {
    "duration": 2230,
    "start_time": "2022-04-22T07:29:27.736Z"
   },
   {
    "duration": 15,
    "start_time": "2022-04-22T07:29:49.662Z"
   },
   {
    "duration": 13,
    "start_time": "2022-04-22T07:30:39.235Z"
   },
   {
    "duration": 5,
    "start_time": "2022-04-22T07:31:19.293Z"
   },
   {
    "duration": 14,
    "start_time": "2022-04-22T07:31:25.679Z"
   },
   {
    "duration": 1900,
    "start_time": "2022-04-22T07:31:28.986Z"
   },
   {
    "duration": 1685,
    "start_time": "2022-04-22T07:32:37.629Z"
   },
   {
    "duration": 16,
    "start_time": "2022-04-22T07:32:45.237Z"
   },
   {
    "duration": 16,
    "start_time": "2022-04-22T07:32:49.973Z"
   },
   {
    "duration": 1407,
    "start_time": "2022-04-22T07:33:41.162Z"
   },
   {
    "duration": 20,
    "start_time": "2022-04-22T07:35:36.154Z"
   },
   {
    "duration": 16,
    "start_time": "2022-04-22T07:36:21.186Z"
   },
   {
    "duration": 8,
    "start_time": "2022-04-22T07:37:17.172Z"
   },
   {
    "duration": 1332,
    "start_time": "2022-04-22T07:37:18.780Z"
   },
   {
    "duration": 1351,
    "start_time": "2022-04-22T07:37:31.330Z"
   },
   {
    "duration": 1412,
    "start_time": "2022-04-22T07:37:39.771Z"
   },
   {
    "duration": 330,
    "start_time": "2022-04-22T07:38:02.574Z"
   },
   {
    "duration": 1334,
    "start_time": "2022-04-22T07:38:06.991Z"
   },
   {
    "duration": 14,
    "start_time": "2022-04-22T07:38:51.541Z"
   },
   {
    "duration": 14,
    "start_time": "2022-04-22T07:38:57.266Z"
   },
   {
    "duration": 789,
    "start_time": "2022-04-22T07:39:17.407Z"
   },
   {
    "duration": 1319,
    "start_time": "2022-04-22T07:39:26.558Z"
   },
   {
    "duration": 1624,
    "start_time": "2022-04-22T07:42:23.663Z"
   },
   {
    "duration": 2084,
    "start_time": "2022-04-22T07:42:31.760Z"
   },
   {
    "duration": 2858,
    "start_time": "2022-04-22T07:43:23.395Z"
   },
   {
    "duration": 2385,
    "start_time": "2022-04-22T07:43:26.257Z"
   },
   {
    "duration": 45,
    "start_time": "2022-04-22T07:43:28.645Z"
   },
   {
    "duration": 48,
    "start_time": "2022-04-22T07:43:28.692Z"
   },
   {
    "duration": 214,
    "start_time": "2022-04-22T07:43:28.744Z"
   },
   {
    "duration": 38,
    "start_time": "2022-04-22T07:43:28.961Z"
   },
   {
    "duration": 23,
    "start_time": "2022-04-22T07:43:29.025Z"
   },
   {
    "duration": 41,
    "start_time": "2022-04-22T07:43:29.051Z"
   },
   {
    "duration": 70,
    "start_time": "2022-04-22T07:43:29.094Z"
   },
   {
    "duration": 70,
    "start_time": "2022-04-22T07:43:29.166Z"
   },
   {
    "duration": 222,
    "start_time": "2022-04-22T07:43:29.239Z"
   },
   {
    "duration": 4,
    "start_time": "2022-04-22T07:43:29.463Z"
   },
   {
    "duration": 27,
    "start_time": "2022-04-22T07:43:29.470Z"
   },
   {
    "duration": 14,
    "start_time": "2022-04-22T07:43:29.501Z"
   },
   {
    "duration": 12,
    "start_time": "2022-04-22T07:43:29.527Z"
   },
   {
    "duration": 8,
    "start_time": "2022-04-22T07:43:29.542Z"
   },
   {
    "duration": 189,
    "start_time": "2022-04-22T07:43:29.552Z"
   },
   {
    "duration": 11,
    "start_time": "2022-04-22T07:43:29.744Z"
   },
   {
    "duration": 27,
    "start_time": "2022-04-22T07:43:29.757Z"
   },
   {
    "duration": 42,
    "start_time": "2022-04-22T07:43:29.787Z"
   },
   {
    "duration": 19,
    "start_time": "2022-04-22T07:43:29.831Z"
   },
   {
    "duration": 8,
    "start_time": "2022-04-22T07:43:29.853Z"
   },
   {
    "duration": 2800,
    "start_time": "2022-04-22T07:43:29.864Z"
   },
   {
    "duration": 1677,
    "start_time": "2022-04-22T07:43:46.213Z"
   },
   {
    "duration": 1639,
    "start_time": "2022-04-22T07:44:43.650Z"
   },
   {
    "duration": 1842,
    "start_time": "2022-04-22T07:44:52.654Z"
   },
   {
    "duration": 1755,
    "start_time": "2022-04-22T07:45:03.233Z"
   },
   {
    "duration": 1718,
    "start_time": "2022-04-22T07:45:12.168Z"
   },
   {
    "duration": 1720,
    "start_time": "2022-04-22T07:45:23.660Z"
   },
   {
    "duration": 1719,
    "start_time": "2022-04-22T07:50:55.668Z"
   },
   {
    "duration": 2369,
    "start_time": "2022-04-22T07:51:11.276Z"
   },
   {
    "duration": 862,
    "start_time": "2022-04-22T07:51:13.648Z"
   },
   {
    "duration": 47,
    "start_time": "2022-04-22T07:51:14.512Z"
   },
   {
    "duration": 27,
    "start_time": "2022-04-22T07:51:14.561Z"
   },
   {
    "duration": 226,
    "start_time": "2022-04-22T07:51:14.591Z"
   },
   {
    "duration": 42,
    "start_time": "2022-04-22T07:51:14.825Z"
   },
   {
    "duration": 22,
    "start_time": "2022-04-22T07:51:14.869Z"
   },
   {
    "duration": 64,
    "start_time": "2022-04-22T07:51:14.893Z"
   },
   {
    "duration": 35,
    "start_time": "2022-04-22T07:51:14.960Z"
   },
   {
    "duration": 62,
    "start_time": "2022-04-22T07:51:14.997Z"
   },
   {
    "duration": 248,
    "start_time": "2022-04-22T07:51:15.063Z"
   },
   {
    "duration": 11,
    "start_time": "2022-04-22T07:51:15.314Z"
   },
   {
    "duration": 21,
    "start_time": "2022-04-22T07:51:15.327Z"
   },
   {
    "duration": 6,
    "start_time": "2022-04-22T07:51:15.354Z"
   },
   {
    "duration": 15,
    "start_time": "2022-04-22T07:51:15.362Z"
   },
   {
    "duration": 8,
    "start_time": "2022-04-22T07:51:15.379Z"
   },
   {
    "duration": 140,
    "start_time": "2022-04-22T07:51:15.389Z"
   },
   {
    "duration": 11,
    "start_time": "2022-04-22T07:51:15.531Z"
   },
   {
    "duration": 23,
    "start_time": "2022-04-22T07:51:15.544Z"
   },
   {
    "duration": 22,
    "start_time": "2022-04-22T07:51:15.569Z"
   },
   {
    "duration": 43,
    "start_time": "2022-04-22T07:51:15.593Z"
   },
   {
    "duration": 9,
    "start_time": "2022-04-22T07:51:15.638Z"
   },
   {
    "duration": 1947,
    "start_time": "2022-04-22T07:51:15.649Z"
   },
   {
    "duration": 1892,
    "start_time": "2022-04-22T07:51:50.677Z"
   },
   {
    "duration": 1751,
    "start_time": "2022-04-22T07:52:00.676Z"
   },
   {
    "duration": 1766,
    "start_time": "2022-04-22T07:52:08.636Z"
   },
   {
    "duration": 1806,
    "start_time": "2022-04-22T07:52:16.742Z"
   },
   {
    "duration": 1793,
    "start_time": "2022-04-22T07:52:30.401Z"
   },
   {
    "duration": 1808,
    "start_time": "2022-04-22T07:52:34.083Z"
   },
   {
    "duration": 1807,
    "start_time": "2022-04-22T07:52:41.854Z"
   },
   {
    "duration": 1878,
    "start_time": "2022-04-22T07:54:49.432Z"
   },
   {
    "duration": 1857,
    "start_time": "2022-04-22T07:54:59.123Z"
   },
   {
    "duration": 1790,
    "start_time": "2022-04-22T07:55:14.844Z"
   },
   {
    "duration": 1878,
    "start_time": "2022-04-22T07:55:24.401Z"
   },
   {
    "duration": 1761,
    "start_time": "2022-04-22T07:55:30.480Z"
   },
   {
    "duration": 1772,
    "start_time": "2022-04-22T07:57:44.161Z"
   },
   {
    "duration": 1996,
    "start_time": "2022-04-22T07:58:22.882Z"
   },
   {
    "duration": 100,
    "start_time": "2022-04-22T07:58:48.729Z"
   },
   {
    "duration": 1794,
    "start_time": "2022-04-22T07:58:53.460Z"
   },
   {
    "duration": 2459,
    "start_time": "2022-04-22T08:00:33.614Z"
   },
   {
    "duration": 3390,
    "start_time": "2022-04-22T08:00:50.885Z"
   },
   {
    "duration": 93,
    "start_time": "2022-04-22T08:01:12.400Z"
   },
   {
    "duration": 1851,
    "start_time": "2022-04-22T08:01:16.409Z"
   },
   {
    "duration": 1796,
    "start_time": "2022-04-22T08:02:32.740Z"
   },
   {
    "duration": 1806,
    "start_time": "2022-04-22T08:03:49.959Z"
   },
   {
    "duration": 3176,
    "start_time": "2022-04-22T08:16:42.375Z"
   },
   {
    "duration": 2012,
    "start_time": "2022-04-22T08:16:59.270Z"
   },
   {
    "duration": 2418,
    "start_time": "2022-04-22T08:34:13.157Z"
   },
   {
    "duration": 2294,
    "start_time": "2022-04-22T08:34:32.381Z"
   },
   {
    "duration": 2503,
    "start_time": "2022-04-22T08:37:28.550Z"
   },
   {
    "duration": 968,
    "start_time": "2022-04-22T08:37:36.971Z"
   },
   {
    "duration": 766,
    "start_time": "2022-04-22T08:37:46.946Z"
   },
   {
    "duration": 964,
    "start_time": "2022-04-22T08:38:00.053Z"
   },
   {
    "duration": 1446,
    "start_time": "2022-04-22T08:38:13.066Z"
   },
   {
    "duration": 2400,
    "start_time": "2022-04-22T08:38:22.426Z"
   },
   {
    "duration": 763,
    "start_time": "2022-04-22T08:38:31.545Z"
   },
   {
    "duration": 728,
    "start_time": "2022-04-22T08:38:54.898Z"
   },
   {
    "duration": 753,
    "start_time": "2022-04-22T08:39:00.150Z"
   },
   {
    "duration": 1120,
    "start_time": "2022-04-22T08:39:06.846Z"
   },
   {
    "duration": 1422,
    "start_time": "2022-04-22T08:39:19.656Z"
   },
   {
    "duration": 1111,
    "start_time": "2022-04-22T08:39:35.818Z"
   },
   {
    "duration": 1258,
    "start_time": "2022-04-22T08:39:48.512Z"
   },
   {
    "duration": 748,
    "start_time": "2022-04-22T08:40:02.768Z"
   },
   {
    "duration": 1122,
    "start_time": "2022-04-22T08:40:19.244Z"
   },
   {
    "duration": 19,
    "start_time": "2022-04-22T08:40:42.512Z"
   },
   {
    "duration": 854,
    "start_time": "2022-04-22T08:40:53.823Z"
   },
   {
    "duration": 1074,
    "start_time": "2022-04-22T08:41:02.129Z"
   },
   {
    "duration": 1007,
    "start_time": "2022-04-22T08:41:12.668Z"
   },
   {
    "duration": 4444,
    "start_time": "2022-04-22T08:41:30.942Z"
   },
   {
    "duration": 1233,
    "start_time": "2022-04-22T08:41:38.620Z"
   },
   {
    "duration": 4005,
    "start_time": "2022-04-22T08:44:48.087Z"
   },
   {
    "duration": 1272,
    "start_time": "2022-04-22T08:44:52.096Z"
   },
   {
    "duration": 83,
    "start_time": "2022-04-22T08:44:53.371Z"
   },
   {
    "duration": 42,
    "start_time": "2022-04-22T08:44:53.457Z"
   },
   {
    "duration": 264,
    "start_time": "2022-04-22T08:44:53.524Z"
   },
   {
    "duration": 72,
    "start_time": "2022-04-22T08:44:53.791Z"
   },
   {
    "duration": 31,
    "start_time": "2022-04-22T08:44:53.866Z"
   },
   {
    "duration": 71,
    "start_time": "2022-04-22T08:44:53.900Z"
   },
   {
    "duration": 78,
    "start_time": "2022-04-22T08:44:53.974Z"
   },
   {
    "duration": 41,
    "start_time": "2022-04-22T08:44:54.055Z"
   },
   {
    "duration": 204,
    "start_time": "2022-04-22T08:44:54.098Z"
   },
   {
    "duration": 4,
    "start_time": "2022-04-22T08:44:54.304Z"
   },
   {
    "duration": 22,
    "start_time": "2022-04-22T08:44:54.311Z"
   },
   {
    "duration": 6,
    "start_time": "2022-04-22T08:44:54.337Z"
   },
   {
    "duration": 28,
    "start_time": "2022-04-22T08:44:54.345Z"
   },
   {
    "duration": 9,
    "start_time": "2022-04-22T08:44:54.376Z"
   },
   {
    "duration": 145,
    "start_time": "2022-04-22T08:44:54.387Z"
   },
   {
    "duration": 11,
    "start_time": "2022-04-22T08:44:54.534Z"
   },
   {
    "duration": 31,
    "start_time": "2022-04-22T08:44:54.547Z"
   },
   {
    "duration": 16,
    "start_time": "2022-04-22T08:44:54.580Z"
   },
   {
    "duration": 41,
    "start_time": "2022-04-22T08:44:54.599Z"
   },
   {
    "duration": 9,
    "start_time": "2022-04-22T08:44:54.642Z"
   },
   {
    "duration": 1919,
    "start_time": "2022-04-22T08:44:54.654Z"
   },
   {
    "duration": 1883,
    "start_time": "2022-04-22T08:44:56.576Z"
   },
   {
    "duration": 1820,
    "start_time": "2022-04-22T08:44:58.461Z"
   },
   {
    "duration": 0,
    "start_time": "2022-04-22T08:58:00.947Z"
   },
   {
    "duration": 2036,
    "start_time": "2022-04-22T08:58:11.718Z"
   },
   {
    "duration": 886,
    "start_time": "2022-04-22T08:58:13.757Z"
   },
   {
    "duration": 43,
    "start_time": "2022-04-22T08:58:14.645Z"
   },
   {
    "duration": 55,
    "start_time": "2022-04-22T08:58:14.690Z"
   },
   {
    "duration": 207,
    "start_time": "2022-04-22T08:58:14.749Z"
   },
   {
    "duration": 38,
    "start_time": "2022-04-22T08:58:14.959Z"
   },
   {
    "duration": 50,
    "start_time": "2022-04-22T08:58:14.999Z"
   },
   {
    "duration": 41,
    "start_time": "2022-04-22T08:58:15.052Z"
   },
   {
    "duration": 60,
    "start_time": "2022-04-22T08:58:15.096Z"
   },
   {
    "duration": 30,
    "start_time": "2022-04-22T08:58:15.159Z"
   },
   {
    "duration": 227,
    "start_time": "2022-04-22T08:58:15.192Z"
   },
   {
    "duration": 7,
    "start_time": "2022-04-22T08:58:15.425Z"
   },
   {
    "duration": 27,
    "start_time": "2022-04-22T08:58:15.435Z"
   },
   {
    "duration": 5,
    "start_time": "2022-04-22T08:58:15.466Z"
   },
   {
    "duration": 27,
    "start_time": "2022-04-22T08:58:15.473Z"
   },
   {
    "duration": 7,
    "start_time": "2022-04-22T08:58:15.503Z"
   },
   {
    "duration": 117,
    "start_time": "2022-04-22T08:58:15.513Z"
   },
   {
    "duration": 16,
    "start_time": "2022-04-22T08:58:15.632Z"
   },
   {
    "duration": 23,
    "start_time": "2022-04-22T08:58:15.650Z"
   },
   {
    "duration": 28,
    "start_time": "2022-04-22T08:58:15.676Z"
   },
   {
    "duration": 33,
    "start_time": "2022-04-22T08:58:15.706Z"
   },
   {
    "duration": 8,
    "start_time": "2022-04-22T08:58:15.742Z"
   },
   {
    "duration": 1920,
    "start_time": "2022-04-22T08:58:15.753Z"
   },
   {
    "duration": 1788,
    "start_time": "2022-04-22T08:58:17.676Z"
   },
   {
    "duration": 1678,
    "start_time": "2022-04-22T08:58:19.466Z"
   },
   {
    "duration": 936,
    "start_time": "2022-04-22T08:58:21.147Z"
   },
   {
    "duration": 6,
    "start_time": "2022-04-22T09:07:57.912Z"
   },
   {
    "duration": 5,
    "start_time": "2022-04-22T09:08:28.874Z"
   },
   {
    "duration": 6,
    "start_time": "2022-04-22T09:11:22.914Z"
   },
   {
    "duration": 179,
    "start_time": "2022-04-22T09:15:49.281Z"
   },
   {
    "duration": 3705,
    "start_time": "2022-04-22T09:16:01.162Z"
   },
   {
    "duration": 1640,
    "start_time": "2022-04-22T09:16:04.870Z"
   },
   {
    "duration": 50,
    "start_time": "2022-04-22T09:16:06.513Z"
   },
   {
    "duration": 27,
    "start_time": "2022-04-22T09:16:06.565Z"
   },
   {
    "duration": 228,
    "start_time": "2022-04-22T09:16:06.596Z"
   },
   {
    "duration": 37,
    "start_time": "2022-04-22T09:16:06.827Z"
   },
   {
    "duration": 27,
    "start_time": "2022-04-22T09:16:06.867Z"
   },
   {
    "duration": 59,
    "start_time": "2022-04-22T09:16:06.896Z"
   },
   {
    "duration": 39,
    "start_time": "2022-04-22T09:16:06.958Z"
   },
   {
    "duration": 29,
    "start_time": "2022-04-22T09:16:07.024Z"
   },
   {
    "duration": 208,
    "start_time": "2022-04-22T09:16:07.055Z"
   },
   {
    "duration": 4,
    "start_time": "2022-04-22T09:16:07.266Z"
   },
   {
    "duration": 22,
    "start_time": "2022-04-22T09:16:07.273Z"
   },
   {
    "duration": 5,
    "start_time": "2022-04-22T09:16:07.302Z"
   },
   {
    "duration": 15,
    "start_time": "2022-04-22T09:16:07.325Z"
   },
   {
    "duration": 7,
    "start_time": "2022-04-22T09:16:07.343Z"
   },
   {
    "duration": 158,
    "start_time": "2022-04-22T09:16:07.353Z"
   },
   {
    "duration": 12,
    "start_time": "2022-04-22T09:16:07.514Z"
   },
   {
    "duration": 22,
    "start_time": "2022-04-22T09:16:07.528Z"
   },
   {
    "duration": 28,
    "start_time": "2022-04-22T09:16:07.552Z"
   },
   {
    "duration": 46,
    "start_time": "2022-04-22T09:16:07.582Z"
   },
   {
    "duration": 9,
    "start_time": "2022-04-22T09:16:07.630Z"
   },
   {
    "duration": 1752,
    "start_time": "2022-04-22T09:16:07.641Z"
   },
   {
    "duration": 1823,
    "start_time": "2022-04-22T09:16:09.396Z"
   },
   {
    "duration": 1759,
    "start_time": "2022-04-22T09:16:11.225Z"
   },
   {
    "duration": 1056,
    "start_time": "2022-04-22T09:16:12.987Z"
   },
   {
    "duration": 6,
    "start_time": "2022-04-22T09:16:14.045Z"
   },
   {
    "duration": 11,
    "start_time": "2022-04-22T09:16:14.053Z"
   },
   {
    "duration": 7,
    "start_time": "2022-04-22T09:16:14.066Z"
   },
   {
    "duration": 8,
    "start_time": "2022-04-22T09:16:14.075Z"
   },
   {
    "duration": 2591,
    "start_time": "2022-04-22T09:16:14.085Z"
   },
   {
    "duration": 4541,
    "start_time": "2022-04-22T09:17:31.606Z"
   },
   {
    "duration": 1948,
    "start_time": "2022-04-22T09:17:52.868Z"
   },
   {
    "duration": 2663,
    "start_time": "2022-04-22T09:19:35.420Z"
   },
   {
    "duration": 3412,
    "start_time": "2022-04-22T09:19:52.027Z"
   },
   {
    "duration": 2681,
    "start_time": "2022-04-22T09:20:02.764Z"
   },
   {
    "duration": 193,
    "start_time": "2022-04-22T09:23:15.063Z"
   },
   {
    "duration": 21,
    "start_time": "2022-04-22T09:23:37.320Z"
   },
   {
    "duration": 3038,
    "start_time": "2022-04-22T09:24:15.170Z"
   },
   {
    "duration": 1037,
    "start_time": "2022-04-22T09:24:18.217Z"
   },
   {
    "duration": 79,
    "start_time": "2022-04-22T09:24:19.258Z"
   },
   {
    "duration": 34,
    "start_time": "2022-04-22T09:24:19.340Z"
   },
   {
    "duration": 249,
    "start_time": "2022-04-22T09:24:19.380Z"
   },
   {
    "duration": 53,
    "start_time": "2022-04-22T09:24:19.634Z"
   },
   {
    "duration": 48,
    "start_time": "2022-04-22T09:24:19.690Z"
   },
   {
    "duration": 48,
    "start_time": "2022-04-22T09:24:19.742Z"
   },
   {
    "duration": 86,
    "start_time": "2022-04-22T09:24:19.793Z"
   },
   {
    "duration": 48,
    "start_time": "2022-04-22T09:24:19.882Z"
   },
   {
    "duration": 269,
    "start_time": "2022-04-22T09:24:19.934Z"
   },
   {
    "duration": 5,
    "start_time": "2022-04-22T09:24:20.207Z"
   },
   {
    "duration": 27,
    "start_time": "2022-04-22T09:24:20.216Z"
   },
   {
    "duration": 13,
    "start_time": "2022-04-22T09:24:20.255Z"
   },
   {
    "duration": 25,
    "start_time": "2022-04-22T09:24:20.272Z"
   },
   {
    "duration": 11,
    "start_time": "2022-04-22T09:24:20.326Z"
   },
   {
    "duration": 208,
    "start_time": "2022-04-22T09:24:20.341Z"
   },
   {
    "duration": 14,
    "start_time": "2022-04-22T09:24:20.552Z"
   },
   {
    "duration": 25,
    "start_time": "2022-04-22T09:24:20.569Z"
   },
   {
    "duration": 76,
    "start_time": "2022-04-22T09:24:20.596Z"
   },
   {
    "duration": 32,
    "start_time": "2022-04-22T09:24:20.675Z"
   },
   {
    "duration": 12,
    "start_time": "2022-04-22T09:24:20.711Z"
   },
   {
    "duration": 2205,
    "start_time": "2022-04-22T09:24:20.732Z"
   },
   {
    "duration": 1983,
    "start_time": "2022-04-22T09:24:22.943Z"
   },
   {
    "duration": 2900,
    "start_time": "2022-04-22T09:24:24.932Z"
   },
   {
    "duration": 2119,
    "start_time": "2022-04-22T09:24:27.836Z"
   },
   {
    "duration": 8,
    "start_time": "2022-04-22T09:24:29.957Z"
   },
   {
    "duration": 2778,
    "start_time": "2022-04-22T09:24:29.969Z"
   },
   {
    "duration": 0,
    "start_time": "2022-04-22T09:24:32.751Z"
   },
   {
    "duration": 0,
    "start_time": "2022-04-22T09:24:32.754Z"
   },
   {
    "duration": 0,
    "start_time": "2022-04-22T09:24:32.756Z"
   },
   {
    "duration": 22,
    "start_time": "2022-04-22T09:26:13.788Z"
   },
   {
    "duration": 2248,
    "start_time": "2022-04-22T09:28:07.943Z"
   },
   {
    "duration": 1010,
    "start_time": "2022-04-22T09:28:10.194Z"
   },
   {
    "duration": 61,
    "start_time": "2022-04-22T09:28:11.206Z"
   },
   {
    "duration": 61,
    "start_time": "2022-04-22T09:28:11.269Z"
   },
   {
    "duration": 251,
    "start_time": "2022-04-22T09:28:11.334Z"
   },
   {
    "duration": 60,
    "start_time": "2022-04-22T09:28:11.587Z"
   },
   {
    "duration": 27,
    "start_time": "2022-04-22T09:28:11.650Z"
   },
   {
    "duration": 59,
    "start_time": "2022-04-22T09:28:11.680Z"
   },
   {
    "duration": 61,
    "start_time": "2022-04-22T09:28:11.742Z"
   },
   {
    "duration": 55,
    "start_time": "2022-04-22T09:28:11.806Z"
   },
   {
    "duration": 192,
    "start_time": "2022-04-22T09:28:11.863Z"
   },
   {
    "duration": 5,
    "start_time": "2022-04-22T09:28:12.057Z"
   },
   {
    "duration": 20,
    "start_time": "2022-04-22T09:28:12.064Z"
   },
   {
    "duration": 7,
    "start_time": "2022-04-22T09:28:12.090Z"
   },
   {
    "duration": 27,
    "start_time": "2022-04-22T09:28:12.100Z"
   },
   {
    "duration": 8,
    "start_time": "2022-04-22T09:28:12.131Z"
   },
   {
    "duration": 166,
    "start_time": "2022-04-22T09:28:12.142Z"
   },
   {
    "duration": 18,
    "start_time": "2022-04-22T09:28:12.310Z"
   },
   {
    "duration": 25,
    "start_time": "2022-04-22T09:28:12.331Z"
   },
   {
    "duration": 77,
    "start_time": "2022-04-22T09:28:12.360Z"
   },
   {
    "duration": 21,
    "start_time": "2022-04-22T09:28:12.441Z"
   },
   {
    "duration": 9,
    "start_time": "2022-04-22T09:28:12.465Z"
   },
   {
    "duration": 2106,
    "start_time": "2022-04-22T09:28:12.476Z"
   },
   {
    "duration": 1905,
    "start_time": "2022-04-22T09:28:14.585Z"
   },
   {
    "duration": 1690,
    "start_time": "2022-04-22T09:28:16.494Z"
   },
   {
    "duration": 1315,
    "start_time": "2022-04-22T09:28:18.186Z"
   },
   {
    "duration": 39,
    "start_time": "2022-04-22T09:28:19.504Z"
   },
   {
    "duration": 6,
    "start_time": "2022-04-22T09:28:19.547Z"
   },
   {
    "duration": 18,
    "start_time": "2022-04-22T09:28:19.556Z"
   },
   {
    "duration": 3397,
    "start_time": "2022-04-22T09:28:19.577Z"
   },
   {
    "duration": 0,
    "start_time": "2022-04-22T09:28:22.977Z"
   },
   {
    "duration": 0,
    "start_time": "2022-04-22T09:28:22.981Z"
   },
   {
    "duration": 2247,
    "start_time": "2022-04-22T09:39:35.061Z"
   },
   {
    "duration": 1263,
    "start_time": "2022-04-22T09:39:37.312Z"
   },
   {
    "duration": 79,
    "start_time": "2022-04-22T09:39:38.578Z"
   },
   {
    "duration": 41,
    "start_time": "2022-04-22T09:39:38.659Z"
   },
   {
    "duration": 252,
    "start_time": "2022-04-22T09:39:38.726Z"
   },
   {
    "duration": 58,
    "start_time": "2022-04-22T09:39:38.982Z"
   },
   {
    "duration": 29,
    "start_time": "2022-04-22T09:39:39.043Z"
   },
   {
    "duration": 73,
    "start_time": "2022-04-22T09:39:39.075Z"
   },
   {
    "duration": 40,
    "start_time": "2022-04-22T09:39:39.151Z"
   },
   {
    "duration": 48,
    "start_time": "2022-04-22T09:39:39.193Z"
   },
   {
    "duration": 219,
    "start_time": "2022-04-22T09:39:39.245Z"
   },
   {
    "duration": 5,
    "start_time": "2022-04-22T09:39:39.467Z"
   },
   {
    "duration": 17,
    "start_time": "2022-04-22T09:39:39.475Z"
   },
   {
    "duration": 6,
    "start_time": "2022-04-22T09:39:39.496Z"
   },
   {
    "duration": 36,
    "start_time": "2022-04-22T09:39:39.505Z"
   },
   {
    "duration": 30,
    "start_time": "2022-04-22T09:39:39.543Z"
   },
   {
    "duration": 162,
    "start_time": "2022-04-22T09:39:39.576Z"
   },
   {
    "duration": 16,
    "start_time": "2022-04-22T09:39:39.741Z"
   },
   {
    "duration": 30,
    "start_time": "2022-04-22T09:39:39.761Z"
   },
   {
    "duration": 45,
    "start_time": "2022-04-22T09:39:39.794Z"
   },
   {
    "duration": 27,
    "start_time": "2022-04-22T09:39:39.842Z"
   },
   {
    "duration": 10,
    "start_time": "2022-04-22T09:39:39.872Z"
   },
   {
    "duration": 1941,
    "start_time": "2022-04-22T09:39:39.884Z"
   },
   {
    "duration": 1887,
    "start_time": "2022-04-22T09:39:41.828Z"
   },
   {
    "duration": 1666,
    "start_time": "2022-04-22T09:39:43.718Z"
   },
   {
    "duration": 1058,
    "start_time": "2022-04-22T09:39:45.386Z"
   },
   {
    "duration": 8,
    "start_time": "2022-04-22T09:39:46.448Z"
   },
   {
    "duration": 9,
    "start_time": "2022-04-22T09:39:46.461Z"
   },
   {
    "duration": 10,
    "start_time": "2022-04-22T09:39:46.473Z"
   },
   {
    "duration": 6,
    "start_time": "2022-04-22T09:39:46.485Z"
   },
   {
    "duration": 2479,
    "start_time": "2022-04-22T09:39:46.493Z"
   },
   {
    "duration": 28,
    "start_time": "2022-04-22T09:41:08.561Z"
   },
   {
    "duration": 7,
    "start_time": "2022-04-22T09:42:01.089Z"
   },
   {
    "duration": 706,
    "start_time": "2022-04-22T09:42:23.296Z"
   },
   {
    "duration": 7,
    "start_time": "2022-04-22T09:43:01.150Z"
   },
   {
    "duration": 670,
    "start_time": "2022-04-22T09:43:02.346Z"
   },
   {
    "duration": 6,
    "start_time": "2022-04-22T09:48:20.414Z"
   },
   {
    "duration": 2047,
    "start_time": "2022-04-22T09:48:21.215Z"
   },
   {
    "duration": 763,
    "start_time": "2022-04-22T09:48:34.083Z"
   },
   {
    "duration": 291,
    "start_time": "2022-04-22T09:48:42.071Z"
   },
   {
    "duration": 23,
    "start_time": "2022-04-22T09:48:48.279Z"
   },
   {
    "duration": 1023,
    "start_time": "2022-04-22T09:48:57.772Z"
   },
   {
    "duration": 7,
    "start_time": "2022-04-22T09:49:05.547Z"
   },
   {
    "duration": 1782,
    "start_time": "2022-04-22T09:49:06.566Z"
   },
   {
    "duration": 562,
    "start_time": "2022-04-22T09:49:11.557Z"
   },
   {
    "duration": 540,
    "start_time": "2022-04-22T09:49:38.649Z"
   },
   {
    "duration": 63,
    "start_time": "2022-04-22T09:53:46.567Z"
   },
   {
    "duration": 11,
    "start_time": "2022-04-22T09:57:04.404Z"
   },
   {
    "duration": 14,
    "start_time": "2022-04-22T09:57:10.092Z"
   },
   {
    "duration": 842,
    "start_time": "2022-04-22T09:57:19.532Z"
   },
   {
    "duration": 15,
    "start_time": "2022-04-22T09:57:50.583Z"
   },
   {
    "duration": 6,
    "start_time": "2022-04-22T09:57:52.607Z"
   },
   {
    "duration": 743,
    "start_time": "2022-04-22T09:57:54.546Z"
   },
   {
    "duration": 18,
    "start_time": "2022-04-22T09:59:18.184Z"
   },
   {
    "duration": 2452,
    "start_time": "2022-04-22T10:00:57.754Z"
   },
   {
    "duration": 932,
    "start_time": "2022-04-22T10:01:00.209Z"
   },
   {
    "duration": 48,
    "start_time": "2022-04-22T10:01:01.145Z"
   },
   {
    "duration": 66,
    "start_time": "2022-04-22T10:01:01.196Z"
   },
   {
    "duration": 263,
    "start_time": "2022-04-22T10:01:01.266Z"
   },
   {
    "duration": 51,
    "start_time": "2022-04-22T10:01:01.535Z"
   },
   {
    "duration": 38,
    "start_time": "2022-04-22T10:01:01.588Z"
   },
   {
    "duration": 43,
    "start_time": "2022-04-22T10:01:01.630Z"
   },
   {
    "duration": 87,
    "start_time": "2022-04-22T10:01:01.675Z"
   },
   {
    "duration": 34,
    "start_time": "2022-04-22T10:01:01.764Z"
   },
   {
    "duration": 182,
    "start_time": "2022-04-22T10:01:01.800Z"
   },
   {
    "duration": 4,
    "start_time": "2022-04-22T10:01:01.985Z"
   },
   {
    "duration": 19,
    "start_time": "2022-04-22T10:01:01.992Z"
   },
   {
    "duration": 7,
    "start_time": "2022-04-22T10:01:02.034Z"
   },
   {
    "duration": 40,
    "start_time": "2022-04-22T10:01:02.044Z"
   },
   {
    "duration": 15,
    "start_time": "2022-04-22T10:01:02.086Z"
   },
   {
    "duration": 165,
    "start_time": "2022-04-22T10:01:02.103Z"
   },
   {
    "duration": 4,
    "start_time": "2022-04-22T10:01:02.271Z"
   },
   {
    "duration": 22,
    "start_time": "2022-04-22T10:01:02.278Z"
   },
   {
    "duration": 44,
    "start_time": "2022-04-22T10:01:02.303Z"
   },
   {
    "duration": 26,
    "start_time": "2022-04-22T10:01:02.351Z"
   },
   {
    "duration": 12,
    "start_time": "2022-04-22T10:01:02.379Z"
   },
   {
    "duration": 1849,
    "start_time": "2022-04-22T10:01:02.394Z"
   },
   {
    "duration": 1877,
    "start_time": "2022-04-22T10:01:04.260Z"
   },
   {
    "duration": 1761,
    "start_time": "2022-04-22T10:01:06.141Z"
   },
   {
    "duration": 1008,
    "start_time": "2022-04-22T10:01:07.905Z"
   },
   {
    "duration": 15,
    "start_time": "2022-04-22T10:01:08.916Z"
   },
   {
    "duration": 19,
    "start_time": "2022-04-22T10:01:08.934Z"
   },
   {
    "duration": 22,
    "start_time": "2022-04-22T10:01:08.957Z"
   },
   {
    "duration": 16,
    "start_time": "2022-04-22T10:01:08.982Z"
   },
   {
    "duration": 2236,
    "start_time": "2022-04-22T10:01:09.001Z"
   },
   {
    "duration": 11,
    "start_time": "2022-04-22T10:01:11.240Z"
   },
   {
    "duration": 888,
    "start_time": "2022-04-22T10:01:11.255Z"
   },
   {
    "duration": 14,
    "start_time": "2022-04-22T10:01:12.153Z"
   },
   {
    "duration": 230,
    "start_time": "2022-04-22T10:01:12.169Z"
   },
   {
    "duration": 3393,
    "start_time": "2022-04-22T10:02:13.952Z"
   },
   {
    "duration": 1969,
    "start_time": "2022-04-22T10:02:17.349Z"
   },
   {
    "duration": 61,
    "start_time": "2022-04-22T10:02:19.321Z"
   },
   {
    "duration": 45,
    "start_time": "2022-04-22T10:02:19.384Z"
   },
   {
    "duration": 232,
    "start_time": "2022-04-22T10:02:19.437Z"
   },
   {
    "duration": 65,
    "start_time": "2022-04-22T10:02:19.673Z"
   },
   {
    "duration": 31,
    "start_time": "2022-04-22T10:02:19.741Z"
   },
   {
    "duration": 66,
    "start_time": "2022-04-22T10:02:19.774Z"
   },
   {
    "duration": 44,
    "start_time": "2022-04-22T10:02:19.843Z"
   },
   {
    "duration": 47,
    "start_time": "2022-04-22T10:02:19.890Z"
   },
   {
    "duration": 199,
    "start_time": "2022-04-22T10:02:19.940Z"
   },
   {
    "duration": 7,
    "start_time": "2022-04-22T10:02:20.143Z"
   },
   {
    "duration": 26,
    "start_time": "2022-04-22T10:02:20.158Z"
   },
   {
    "duration": 8,
    "start_time": "2022-04-22T10:02:20.190Z"
   },
   {
    "duration": 31,
    "start_time": "2022-04-22T10:02:20.201Z"
   },
   {
    "duration": 8,
    "start_time": "2022-04-22T10:02:20.235Z"
   },
   {
    "duration": 180,
    "start_time": "2022-04-22T10:02:20.248Z"
   },
   {
    "duration": 4,
    "start_time": "2022-04-22T10:02:20.431Z"
   },
   {
    "duration": 58,
    "start_time": "2022-04-22T10:02:20.438Z"
   },
   {
    "duration": 18,
    "start_time": "2022-04-22T10:02:20.500Z"
   },
   {
    "duration": 33,
    "start_time": "2022-04-22T10:02:20.524Z"
   },
   {
    "duration": 15,
    "start_time": "2022-04-22T10:02:20.559Z"
   },
   {
    "duration": 1894,
    "start_time": "2022-04-22T10:02:20.579Z"
   },
   {
    "duration": 1860,
    "start_time": "2022-04-22T10:02:22.476Z"
   },
   {
    "duration": 2030,
    "start_time": "2022-04-22T10:02:24.342Z"
   },
   {
    "duration": 1281,
    "start_time": "2022-04-22T10:02:26.375Z"
   },
   {
    "duration": 9,
    "start_time": "2022-04-22T10:02:27.659Z"
   },
   {
    "duration": 9,
    "start_time": "2022-04-22T10:02:27.671Z"
   },
   {
    "duration": 8,
    "start_time": "2022-04-22T10:02:27.683Z"
   },
   {
    "duration": 12,
    "start_time": "2022-04-22T10:02:27.694Z"
   },
   {
    "duration": 2517,
    "start_time": "2022-04-22T10:02:27.709Z"
   },
   {
    "duration": 7,
    "start_time": "2022-04-22T10:02:30.229Z"
   },
   {
    "duration": 927,
    "start_time": "2022-04-22T10:02:30.239Z"
   },
   {
    "duration": 16,
    "start_time": "2022-04-22T10:02:31.169Z"
   },
   {
    "duration": 7,
    "start_time": "2022-04-22T10:02:31.189Z"
   },
   {
    "duration": 584,
    "start_time": "2022-04-22T10:02:31.199Z"
   },
   {
    "duration": 1876,
    "start_time": "2022-04-23T16:02:15.773Z"
   },
   {
    "duration": 848,
    "start_time": "2022-04-23T16:02:17.652Z"
   },
   {
    "duration": 40,
    "start_time": "2022-04-23T16:02:18.502Z"
   },
   {
    "duration": 16,
    "start_time": "2022-04-23T16:02:18.544Z"
   },
   {
    "duration": 126,
    "start_time": "2022-04-23T16:02:18.563Z"
   },
   {
    "duration": 22,
    "start_time": "2022-04-23T16:02:18.690Z"
   },
   {
    "duration": 25,
    "start_time": "2022-04-23T16:02:18.714Z"
   },
   {
    "duration": 32,
    "start_time": "2022-04-23T16:02:18.741Z"
   },
   {
    "duration": 58,
    "start_time": "2022-04-23T16:02:18.775Z"
   },
   {
    "duration": 18,
    "start_time": "2022-04-23T16:02:18.835Z"
   },
   {
    "duration": 104,
    "start_time": "2022-04-23T16:02:18.854Z"
   },
   {
    "duration": 3,
    "start_time": "2022-04-23T16:02:18.960Z"
   },
   {
    "duration": 13,
    "start_time": "2022-04-23T16:02:18.965Z"
   },
   {
    "duration": 3,
    "start_time": "2022-04-23T16:02:18.981Z"
   },
   {
    "duration": 7,
    "start_time": "2022-04-23T16:02:18.987Z"
   },
   {
    "duration": 33,
    "start_time": "2022-04-23T16:02:18.996Z"
   },
   {
    "duration": 104,
    "start_time": "2022-04-23T16:02:19.032Z"
   },
   {
    "duration": 4,
    "start_time": "2022-04-23T16:02:19.139Z"
   },
   {
    "duration": 20,
    "start_time": "2022-04-23T16:02:19.145Z"
   },
   {
    "duration": 11,
    "start_time": "2022-04-23T16:02:19.166Z"
   },
   {
    "duration": 20,
    "start_time": "2022-04-23T16:02:19.179Z"
   },
   {
    "duration": 32,
    "start_time": "2022-04-23T16:02:19.201Z"
   },
   {
    "duration": 1257,
    "start_time": "2022-04-23T16:02:19.235Z"
   },
   {
    "duration": 1382,
    "start_time": "2022-04-23T16:02:20.495Z"
   },
   {
    "duration": 1394,
    "start_time": "2022-04-23T16:02:21.879Z"
   },
   {
    "duration": 779,
    "start_time": "2022-04-23T16:02:23.275Z"
   },
   {
    "duration": 4,
    "start_time": "2022-04-23T16:02:24.055Z"
   },
   {
    "duration": 11,
    "start_time": "2022-04-23T16:02:24.061Z"
   },
   {
    "duration": 12,
    "start_time": "2022-04-23T16:02:24.073Z"
   },
   {
    "duration": 9,
    "start_time": "2022-04-23T16:02:24.087Z"
   },
   {
    "duration": 1405,
    "start_time": "2022-04-23T16:02:24.097Z"
   },
   {
    "duration": 4,
    "start_time": "2022-04-23T16:02:25.504Z"
   },
   {
    "duration": 561,
    "start_time": "2022-04-23T16:02:25.510Z"
   },
   {
    "duration": 7,
    "start_time": "2022-04-23T16:02:26.072Z"
   },
   {
    "duration": 13,
    "start_time": "2022-04-23T16:02:26.081Z"
   },
   {
    "duration": 273,
    "start_time": "2022-04-23T16:02:26.096Z"
   },
   {
    "duration": 12,
    "start_time": "2022-04-24T07:05:38.907Z"
   },
   {
    "duration": 65,
    "start_time": "2022-04-24T07:05:41.852Z"
   },
   {
    "duration": 3,
    "start_time": "2022-04-24T07:05:44.144Z"
   },
   {
    "duration": 3052,
    "start_time": "2022-04-24T07:06:15.309Z"
   },
   {
    "duration": 2085,
    "start_time": "2022-04-24T07:06:18.365Z"
   },
   {
    "duration": 170,
    "start_time": "2022-04-24T07:06:20.454Z"
   },
   {
    "duration": 41,
    "start_time": "2022-04-24T07:06:20.627Z"
   },
   {
    "duration": 298,
    "start_time": "2022-04-24T07:06:20.726Z"
   },
   {
    "duration": 59,
    "start_time": "2022-04-24T07:06:21.028Z"
   },
   {
    "duration": 60,
    "start_time": "2022-04-24T07:06:21.090Z"
   },
   {
    "duration": 73,
    "start_time": "2022-04-24T07:06:21.153Z"
   },
   {
    "duration": 60,
    "start_time": "2022-04-24T07:06:21.229Z"
   },
   {
    "duration": 68,
    "start_time": "2022-04-24T07:06:21.292Z"
   },
   {
    "duration": 204,
    "start_time": "2022-04-24T07:06:21.364Z"
   },
   {
    "duration": 5,
    "start_time": "2022-04-24T07:06:21.572Z"
   },
   {
    "duration": 14,
    "start_time": "2022-04-24T07:06:21.580Z"
   },
   {
    "duration": 7,
    "start_time": "2022-04-24T07:06:21.627Z"
   },
   {
    "duration": 26,
    "start_time": "2022-04-24T07:06:21.636Z"
   },
   {
    "duration": 6,
    "start_time": "2022-04-24T07:06:21.664Z"
   },
   {
    "duration": 154,
    "start_time": "2022-04-24T07:06:21.672Z"
   },
   {
    "duration": 4,
    "start_time": "2022-04-24T07:06:21.828Z"
   },
   {
    "duration": 24,
    "start_time": "2022-04-24T07:06:21.836Z"
   },
   {
    "duration": 20,
    "start_time": "2022-04-24T07:06:21.864Z"
   },
   {
    "duration": 49,
    "start_time": "2022-04-24T07:06:21.886Z"
   },
   {
    "duration": 12,
    "start_time": "2022-04-24T07:06:21.938Z"
   },
   {
    "duration": 2169,
    "start_time": "2022-04-24T07:06:21.953Z"
   },
   {
    "duration": 1731,
    "start_time": "2022-04-24T07:06:24.124Z"
   },
   {
    "duration": 1594,
    "start_time": "2022-04-24T07:06:25.858Z"
   },
   {
    "duration": 1346,
    "start_time": "2022-04-24T07:06:27.455Z"
   },
   {
    "duration": 8,
    "start_time": "2022-04-24T07:06:28.804Z"
   },
   {
    "duration": 30,
    "start_time": "2022-04-24T07:06:28.814Z"
   },
   {
    "duration": 14,
    "start_time": "2022-04-24T07:06:28.847Z"
   },
   {
    "duration": 14,
    "start_time": "2022-04-24T07:06:28.864Z"
   },
   {
    "duration": 2766,
    "start_time": "2022-04-24T07:06:28.881Z"
   },
   {
    "duration": 8,
    "start_time": "2022-04-24T07:06:31.650Z"
   },
   {
    "duration": 1029,
    "start_time": "2022-04-24T07:06:31.661Z"
   },
   {
    "duration": 15,
    "start_time": "2022-04-24T07:06:32.693Z"
   },
   {
    "duration": 7,
    "start_time": "2022-04-24T07:06:32.723Z"
   },
   {
    "duration": 483,
    "start_time": "2022-04-24T07:06:32.732Z"
   },
   {
    "duration": 6,
    "start_time": "2022-04-24T07:06:33.226Z"
   },
   {
    "duration": 12,
    "start_time": "2022-04-24T07:06:33.235Z"
   },
   {
    "duration": 9,
    "start_time": "2022-04-24T07:06:33.251Z"
   },
   {
    "duration": 4,
    "start_time": "2022-04-24T07:14:48.202Z"
   },
   {
    "duration": 2273,
    "start_time": "2022-04-24T07:36:54.152Z"
   },
   {
    "duration": 1537,
    "start_time": "2022-04-24T07:36:56.428Z"
   },
   {
    "duration": 161,
    "start_time": "2022-04-24T07:36:57.968Z"
   },
   {
    "duration": 93,
    "start_time": "2022-04-24T07:36:58.133Z"
   },
   {
    "duration": 397,
    "start_time": "2022-04-24T07:36:58.229Z"
   },
   {
    "duration": 38,
    "start_time": "2022-04-24T07:36:58.628Z"
   },
   {
    "duration": 78,
    "start_time": "2022-04-24T07:36:58.668Z"
   },
   {
    "duration": 89,
    "start_time": "2022-04-24T07:36:58.749Z"
   },
   {
    "duration": 89,
    "start_time": "2022-04-24T07:36:58.841Z"
   },
   {
    "duration": 27,
    "start_time": "2022-04-24T07:36:58.934Z"
   },
   {
    "duration": 375,
    "start_time": "2022-04-24T07:36:58.963Z"
   },
   {
    "duration": 4,
    "start_time": "2022-04-24T07:36:59.341Z"
   },
   {
    "duration": 15,
    "start_time": "2022-04-24T07:36:59.347Z"
   },
   {
    "duration": 5,
    "start_time": "2022-04-24T07:36:59.364Z"
   },
   {
    "duration": 62,
    "start_time": "2022-04-24T07:36:59.371Z"
   },
   {
    "duration": 5,
    "start_time": "2022-04-24T07:36:59.436Z"
   },
   {
    "duration": 282,
    "start_time": "2022-04-24T07:36:59.444Z"
   },
   {
    "duration": 29,
    "start_time": "2022-04-24T07:36:59.729Z"
   },
   {
    "duration": 72,
    "start_time": "2022-04-24T07:36:59.761Z"
   },
   {
    "duration": 27,
    "start_time": "2022-04-24T07:36:59.835Z"
   },
   {
    "duration": 77,
    "start_time": "2022-04-24T07:36:59.865Z"
   },
   {
    "duration": 2369,
    "start_time": "2022-04-24T07:36:59.944Z"
   },
   {
    "duration": 1536,
    "start_time": "2022-04-24T07:37:02.317Z"
   },
   {
    "duration": 1485,
    "start_time": "2022-04-24T07:37:03.856Z"
   },
   {
    "duration": 915,
    "start_time": "2022-04-24T07:37:05.343Z"
   },
   {
    "duration": 7,
    "start_time": "2022-04-24T07:37:06.261Z"
   },
   {
    "duration": 11,
    "start_time": "2022-04-24T07:37:06.270Z"
   },
   {
    "duration": 5,
    "start_time": "2022-04-24T07:37:06.289Z"
   },
   {
    "duration": 6,
    "start_time": "2022-04-24T07:37:06.324Z"
   },
   {
    "duration": 1866,
    "start_time": "2022-04-24T07:37:06.332Z"
   },
   {
    "duration": 7,
    "start_time": "2022-04-24T07:37:08.200Z"
   },
   {
    "duration": 847,
    "start_time": "2022-04-24T07:37:08.209Z"
   },
   {
    "duration": 12,
    "start_time": "2022-04-24T07:37:09.059Z"
   },
   {
    "duration": 9,
    "start_time": "2022-04-24T07:37:09.074Z"
   },
   {
    "duration": 478,
    "start_time": "2022-04-24T07:37:09.085Z"
   },
   {
    "duration": 5,
    "start_time": "2022-04-24T07:37:09.566Z"
   },
   {
    "duration": 9,
    "start_time": "2022-04-24T07:37:09.573Z"
   },
   {
    "duration": 10,
    "start_time": "2022-04-24T07:37:09.584Z"
   },
   {
    "duration": 32,
    "start_time": "2022-04-24T07:37:09.597Z"
   },
   {
    "duration": 7,
    "start_time": "2022-04-24T07:37:09.631Z"
   },
   {
    "duration": 6,
    "start_time": "2022-04-24T07:37:34.119Z"
   },
   {
    "duration": 11,
    "start_time": "2022-04-24T07:40:59.170Z"
   },
   {
    "duration": 276,
    "start_time": "2022-04-24T07:44:24.479Z"
   },
   {
    "duration": 15,
    "start_time": "2022-04-24T07:44:57.653Z"
   },
   {
    "duration": 6,
    "start_time": "2022-04-24T07:45:01.680Z"
   },
   {
    "duration": 6,
    "start_time": "2022-04-24T07:45:22.697Z"
   },
   {
    "duration": 15,
    "start_time": "2022-04-24T07:47:37.738Z"
   },
   {
    "duration": 6,
    "start_time": "2022-04-24T07:47:42.338Z"
   },
   {
    "duration": 6,
    "start_time": "2022-04-24T07:47:55.011Z"
   },
   {
    "duration": 12,
    "start_time": "2022-04-24T07:48:41.267Z"
   },
   {
    "duration": 12,
    "start_time": "2022-04-24T07:48:50.183Z"
   },
   {
    "duration": 93,
    "start_time": "2022-04-24T07:48:56.749Z"
   },
   {
    "duration": 11,
    "start_time": "2022-04-24T07:49:10.377Z"
   },
   {
    "duration": 2369,
    "start_time": "2022-04-24T07:49:38.115Z"
   },
   {
    "duration": 1249,
    "start_time": "2022-04-24T07:49:40.487Z"
   },
   {
    "duration": 108,
    "start_time": "2022-04-24T07:49:41.740Z"
   },
   {
    "duration": 87,
    "start_time": "2022-04-24T07:49:41.852Z"
   },
   {
    "duration": 513,
    "start_time": "2022-04-24T07:49:41.941Z"
   },
   {
    "duration": 106,
    "start_time": "2022-04-24T07:49:42.457Z"
   },
   {
    "duration": 75,
    "start_time": "2022-04-24T07:49:42.567Z"
   },
   {
    "duration": 93,
    "start_time": "2022-04-24T07:49:42.645Z"
   },
   {
    "duration": 110,
    "start_time": "2022-04-24T07:49:42.741Z"
   },
   {
    "duration": 91,
    "start_time": "2022-04-24T07:49:42.856Z"
   },
   {
    "duration": 396,
    "start_time": "2022-04-24T07:49:42.949Z"
   },
   {
    "duration": 5,
    "start_time": "2022-04-24T07:49:43.347Z"
   },
   {
    "duration": 21,
    "start_time": "2022-04-24T07:49:43.355Z"
   },
   {
    "duration": 6,
    "start_time": "2022-04-24T07:49:43.441Z"
   },
   {
    "duration": 19,
    "start_time": "2022-04-24T07:49:43.450Z"
   },
   {
    "duration": 10,
    "start_time": "2022-04-24T07:49:43.471Z"
   },
   {
    "duration": 6,
    "start_time": "2022-04-24T07:49:43.525Z"
   },
   {
    "duration": 626,
    "start_time": "2022-04-24T07:49:43.533Z"
   },
   {
    "duration": 0,
    "start_time": "2022-04-24T07:49:44.163Z"
   },
   {
    "duration": 0,
    "start_time": "2022-04-24T07:49:44.165Z"
   },
   {
    "duration": 0,
    "start_time": "2022-04-24T07:49:44.167Z"
   },
   {
    "duration": 0,
    "start_time": "2022-04-24T07:49:44.224Z"
   },
   {
    "duration": 0,
    "start_time": "2022-04-24T07:49:44.226Z"
   },
   {
    "duration": 0,
    "start_time": "2022-04-24T07:49:44.228Z"
   },
   {
    "duration": 0,
    "start_time": "2022-04-24T07:49:44.230Z"
   },
   {
    "duration": 0,
    "start_time": "2022-04-24T07:49:44.232Z"
   },
   {
    "duration": 0,
    "start_time": "2022-04-24T07:49:44.234Z"
   },
   {
    "duration": 0,
    "start_time": "2022-04-24T07:49:44.236Z"
   },
   {
    "duration": 0,
    "start_time": "2022-04-24T07:49:44.238Z"
   },
   {
    "duration": 0,
    "start_time": "2022-04-24T07:49:44.240Z"
   },
   {
    "duration": 0,
    "start_time": "2022-04-24T07:49:44.242Z"
   },
   {
    "duration": 0,
    "start_time": "2022-04-24T07:49:44.245Z"
   },
   {
    "duration": 0,
    "start_time": "2022-04-24T07:49:44.247Z"
   },
   {
    "duration": 0,
    "start_time": "2022-04-24T07:49:44.249Z"
   },
   {
    "duration": 0,
    "start_time": "2022-04-24T07:49:44.251Z"
   },
   {
    "duration": 0,
    "start_time": "2022-04-24T07:49:44.253Z"
   },
   {
    "duration": 0,
    "start_time": "2022-04-24T07:49:44.255Z"
   },
   {
    "duration": 0,
    "start_time": "2022-04-24T07:49:44.257Z"
   },
   {
    "duration": 0,
    "start_time": "2022-04-24T07:49:44.258Z"
   },
   {
    "duration": 1,
    "start_time": "2022-04-24T07:49:44.259Z"
   },
   {
    "duration": 0,
    "start_time": "2022-04-24T07:49:44.261Z"
   },
   {
    "duration": 0,
    "start_time": "2022-04-24T07:49:44.263Z"
   },
   {
    "duration": 0,
    "start_time": "2022-04-24T07:49:44.326Z"
   },
   {
    "duration": 0,
    "start_time": "2022-04-24T07:49:44.327Z"
   },
   {
    "duration": 0,
    "start_time": "2022-04-24T07:49:44.332Z"
   },
   {
    "duration": 0,
    "start_time": "2022-04-24T07:49:44.334Z"
   },
   {
    "duration": 40,
    "start_time": "2022-04-24T07:50:21.222Z"
   },
   {
    "duration": 6,
    "start_time": "2022-04-24T07:50:22.330Z"
   },
   {
    "duration": 2560,
    "start_time": "2022-04-24T07:50:36.876Z"
   },
   {
    "duration": 1728,
    "start_time": "2022-04-24T07:50:39.440Z"
   },
   {
    "duration": 111,
    "start_time": "2022-04-24T07:50:41.171Z"
   },
   {
    "duration": 57,
    "start_time": "2022-04-24T07:50:41.286Z"
   },
   {
    "duration": 201,
    "start_time": "2022-04-24T07:50:41.346Z"
   },
   {
    "duration": 42,
    "start_time": "2022-04-24T07:50:41.550Z"
   },
   {
    "duration": 54,
    "start_time": "2022-04-24T07:50:41.595Z"
   },
   {
    "duration": 51,
    "start_time": "2022-04-24T07:50:41.652Z"
   },
   {
    "duration": 47,
    "start_time": "2022-04-24T07:50:41.725Z"
   },
   {
    "duration": 48,
    "start_time": "2022-04-24T07:50:41.778Z"
   },
   {
    "duration": 260,
    "start_time": "2022-04-24T07:50:41.829Z"
   },
   {
    "duration": 4,
    "start_time": "2022-04-24T07:50:42.092Z"
   },
   {
    "duration": 34,
    "start_time": "2022-04-24T07:50:42.100Z"
   },
   {
    "duration": 7,
    "start_time": "2022-04-24T07:50:42.137Z"
   },
   {
    "duration": 24,
    "start_time": "2022-04-24T07:50:42.146Z"
   },
   {
    "duration": 27,
    "start_time": "2022-04-24T07:50:42.172Z"
   },
   {
    "duration": 24,
    "start_time": "2022-04-24T07:50:42.201Z"
   },
   {
    "duration": 49,
    "start_time": "2022-04-24T07:50:42.228Z"
   },
   {
    "duration": 8,
    "start_time": "2022-04-24T07:50:42.280Z"
   },
   {
    "duration": 137,
    "start_time": "2022-04-24T07:50:42.290Z"
   },
   {
    "duration": 21,
    "start_time": "2022-04-24T07:50:42.429Z"
   },
   {
    "duration": 38,
    "start_time": "2022-04-24T07:50:42.452Z"
   },
   {
    "duration": 31,
    "start_time": "2022-04-24T07:50:42.493Z"
   },
   {
    "duration": 11,
    "start_time": "2022-04-24T07:50:42.527Z"
   },
   {
    "duration": 1845,
    "start_time": "2022-04-24T07:50:42.540Z"
   },
   {
    "duration": 2036,
    "start_time": "2022-04-24T07:50:44.388Z"
   },
   {
    "duration": 2125,
    "start_time": "2022-04-24T07:50:46.427Z"
   },
   {
    "duration": 1232,
    "start_time": "2022-04-24T07:50:48.558Z"
   },
   {
    "duration": 7,
    "start_time": "2022-04-24T07:50:49.795Z"
   },
   {
    "duration": 30,
    "start_time": "2022-04-24T07:50:49.805Z"
   },
   {
    "duration": 17,
    "start_time": "2022-04-24T07:50:49.838Z"
   },
   {
    "duration": 11,
    "start_time": "2022-04-24T07:50:49.859Z"
   },
   {
    "duration": 2591,
    "start_time": "2022-04-24T07:50:49.873Z"
   },
   {
    "duration": 6,
    "start_time": "2022-04-24T07:50:52.468Z"
   },
   {
    "duration": 1035,
    "start_time": "2022-04-24T07:50:52.477Z"
   },
   {
    "duration": 36,
    "start_time": "2022-04-24T07:50:53.514Z"
   },
   {
    "duration": 6,
    "start_time": "2022-04-24T07:50:53.553Z"
   },
   {
    "duration": 549,
    "start_time": "2022-04-24T07:50:53.561Z"
   },
   {
    "duration": 17,
    "start_time": "2022-04-24T07:50:54.113Z"
   },
   {
    "duration": 22,
    "start_time": "2022-04-24T07:50:54.133Z"
   },
   {
    "duration": 9,
    "start_time": "2022-04-24T07:50:54.158Z"
   },
   {
    "duration": 16,
    "start_time": "2022-04-24T07:50:54.170Z"
   },
   {
    "duration": 10,
    "start_time": "2022-04-24T07:50:54.189Z"
   },
   {
    "duration": 224,
    "start_time": "2022-04-24T07:50:54.202Z"
   },
   {
    "duration": 0,
    "start_time": "2022-04-24T07:50:54.428Z"
   },
   {
    "duration": 1,
    "start_time": "2022-04-24T07:50:54.429Z"
   },
   {
    "duration": 2961,
    "start_time": "2022-04-24T07:51:31.194Z"
   },
   {
    "duration": 1754,
    "start_time": "2022-04-24T07:51:34.160Z"
   },
   {
    "duration": 54,
    "start_time": "2022-04-24T07:51:35.917Z"
   },
   {
    "duration": 25,
    "start_time": "2022-04-24T07:51:35.974Z"
   },
   {
    "duration": 227,
    "start_time": "2022-04-24T07:51:36.024Z"
   },
   {
    "duration": 41,
    "start_time": "2022-04-24T07:51:36.253Z"
   },
   {
    "duration": 54,
    "start_time": "2022-04-24T07:51:36.296Z"
   },
   {
    "duration": 57,
    "start_time": "2022-04-24T07:51:36.353Z"
   },
   {
    "duration": 62,
    "start_time": "2022-04-24T07:51:36.427Z"
   },
   {
    "duration": 55,
    "start_time": "2022-04-24T07:51:36.494Z"
   },
   {
    "duration": 258,
    "start_time": "2022-04-24T07:51:36.552Z"
   },
   {
    "duration": 4,
    "start_time": "2022-04-24T07:51:36.812Z"
   },
   {
    "duration": 14,
    "start_time": "2022-04-24T07:51:36.827Z"
   },
   {
    "duration": 12,
    "start_time": "2022-04-24T07:51:36.844Z"
   },
   {
    "duration": 16,
    "start_time": "2022-04-24T07:51:36.858Z"
   },
   {
    "duration": 13,
    "start_time": "2022-04-24T07:51:36.876Z"
   },
   {
    "duration": 39,
    "start_time": "2022-04-24T07:51:36.892Z"
   },
   {
    "duration": 151,
    "start_time": "2022-04-24T07:51:36.938Z"
   },
   {
    "duration": 198,
    "start_time": "2022-04-24T07:51:37.091Z"
   },
   {
    "duration": 0,
    "start_time": "2022-04-24T07:51:37.293Z"
   },
   {
    "duration": 0,
    "start_time": "2022-04-24T07:51:37.294Z"
   },
   {
    "duration": 0,
    "start_time": "2022-04-24T07:51:37.296Z"
   },
   {
    "duration": 0,
    "start_time": "2022-04-24T07:51:37.298Z"
   },
   {
    "duration": 1,
    "start_time": "2022-04-24T07:51:37.299Z"
   },
   {
    "duration": 0,
    "start_time": "2022-04-24T07:51:37.301Z"
   },
   {
    "duration": 0,
    "start_time": "2022-04-24T07:51:37.303Z"
   },
   {
    "duration": 0,
    "start_time": "2022-04-24T07:51:37.304Z"
   },
   {
    "duration": 0,
    "start_time": "2022-04-24T07:51:37.306Z"
   },
   {
    "duration": 0,
    "start_time": "2022-04-24T07:51:37.325Z"
   },
   {
    "duration": 0,
    "start_time": "2022-04-24T07:51:37.327Z"
   },
   {
    "duration": 0,
    "start_time": "2022-04-24T07:51:37.329Z"
   },
   {
    "duration": 0,
    "start_time": "2022-04-24T07:51:37.334Z"
   },
   {
    "duration": 0,
    "start_time": "2022-04-24T07:51:37.336Z"
   },
   {
    "duration": 0,
    "start_time": "2022-04-24T07:51:37.338Z"
   },
   {
    "duration": 0,
    "start_time": "2022-04-24T07:51:37.340Z"
   },
   {
    "duration": 0,
    "start_time": "2022-04-24T07:51:37.342Z"
   },
   {
    "duration": 0,
    "start_time": "2022-04-24T07:51:37.345Z"
   },
   {
    "duration": 0,
    "start_time": "2022-04-24T07:51:37.361Z"
   },
   {
    "duration": 0,
    "start_time": "2022-04-24T07:51:37.362Z"
   },
   {
    "duration": 0,
    "start_time": "2022-04-24T07:51:37.364Z"
   },
   {
    "duration": 0,
    "start_time": "2022-04-24T07:51:37.366Z"
   },
   {
    "duration": 0,
    "start_time": "2022-04-24T07:51:37.367Z"
   },
   {
    "duration": 0,
    "start_time": "2022-04-24T07:51:37.369Z"
   },
   {
    "duration": 0,
    "start_time": "2022-04-24T07:51:37.371Z"
   },
   {
    "duration": 0,
    "start_time": "2022-04-24T07:51:37.373Z"
   },
   {
    "duration": 0,
    "start_time": "2022-04-24T07:51:37.375Z"
   },
   {
    "duration": 7,
    "start_time": "2022-04-24T07:51:56.618Z"
   },
   {
    "duration": 5,
    "start_time": "2022-04-24T07:51:58.919Z"
   },
   {
    "duration": 2657,
    "start_time": "2022-04-24T07:52:08.611Z"
   },
   {
    "duration": 1379,
    "start_time": "2022-04-24T07:52:11.324Z"
   },
   {
    "duration": 48,
    "start_time": "2022-04-24T07:52:12.706Z"
   },
   {
    "duration": 27,
    "start_time": "2022-04-24T07:52:12.757Z"
   },
   {
    "duration": 224,
    "start_time": "2022-04-24T07:52:12.787Z"
   },
   {
    "duration": 45,
    "start_time": "2022-04-24T07:52:13.013Z"
   },
   {
    "duration": 29,
    "start_time": "2022-04-24T07:52:13.060Z"
   },
   {
    "duration": 60,
    "start_time": "2022-04-24T07:52:13.091Z"
   },
   {
    "duration": 38,
    "start_time": "2022-04-24T07:52:13.153Z"
   },
   {
    "duration": 50,
    "start_time": "2022-04-24T07:52:13.195Z"
   },
   {
    "duration": 194,
    "start_time": "2022-04-24T07:52:13.247Z"
   },
   {
    "duration": 6,
    "start_time": "2022-04-24T07:52:13.443Z"
   },
   {
    "duration": 18,
    "start_time": "2022-04-24T07:52:13.451Z"
   },
   {
    "duration": 5,
    "start_time": "2022-04-24T07:52:13.472Z"
   },
   {
    "duration": 45,
    "start_time": "2022-04-24T07:52:13.479Z"
   },
   {
    "duration": 6,
    "start_time": "2022-04-24T07:52:13.527Z"
   },
   {
    "duration": 7,
    "start_time": "2022-04-24T07:52:13.535Z"
   },
   {
    "duration": 136,
    "start_time": "2022-04-24T07:52:13.544Z"
   },
   {
    "duration": 9,
    "start_time": "2022-04-24T07:52:13.682Z"
   },
   {
    "duration": 30,
    "start_time": "2022-04-24T07:52:13.694Z"
   },
   {
    "duration": 21,
    "start_time": "2022-04-24T07:52:13.727Z"
   },
   {
    "duration": 18,
    "start_time": "2022-04-24T07:52:13.750Z"
   },
   {
    "duration": 21,
    "start_time": "2022-04-24T07:52:13.771Z"
   },
   {
    "duration": 8,
    "start_time": "2022-04-24T07:52:13.826Z"
   },
   {
    "duration": 1873,
    "start_time": "2022-04-24T07:52:13.836Z"
   },
   {
    "duration": 2057,
    "start_time": "2022-04-24T07:52:15.712Z"
   },
   {
    "duration": 2070,
    "start_time": "2022-04-24T07:52:17.773Z"
   },
   {
    "duration": 1293,
    "start_time": "2022-04-24T07:52:19.851Z"
   },
   {
    "duration": 8,
    "start_time": "2022-04-24T07:52:21.147Z"
   },
   {
    "duration": 9,
    "start_time": "2022-04-24T07:52:21.158Z"
   },
   {
    "duration": 13,
    "start_time": "2022-04-24T07:52:21.170Z"
   },
   {
    "duration": 17,
    "start_time": "2022-04-24T07:52:21.186Z"
   },
   {
    "duration": 2584,
    "start_time": "2022-04-24T07:52:21.224Z"
   },
   {
    "duration": 14,
    "start_time": "2022-04-24T07:52:23.811Z"
   },
   {
    "duration": 919,
    "start_time": "2022-04-24T07:52:23.829Z"
   },
   {
    "duration": 18,
    "start_time": "2022-04-24T07:52:24.751Z"
   },
   {
    "duration": 8,
    "start_time": "2022-04-24T07:52:24.772Z"
   },
   {
    "duration": 730,
    "start_time": "2022-04-24T07:52:24.784Z"
   },
   {
    "duration": 5,
    "start_time": "2022-04-24T07:52:25.526Z"
   },
   {
    "duration": 16,
    "start_time": "2022-04-24T07:52:25.533Z"
   },
   {
    "duration": 8,
    "start_time": "2022-04-24T07:52:25.552Z"
   },
   {
    "duration": 10,
    "start_time": "2022-04-24T07:52:25.563Z"
   },
   {
    "duration": 7,
    "start_time": "2022-04-24T07:52:25.576Z"
   },
   {
    "duration": 216,
    "start_time": "2022-04-24T07:52:25.586Z"
   },
   {
    "duration": 0,
    "start_time": "2022-04-24T07:52:25.804Z"
   },
   {
    "duration": 0,
    "start_time": "2022-04-24T07:52:25.806Z"
   },
   {
    "duration": 3622,
    "start_time": "2022-04-24T07:53:00.903Z"
   },
   {
    "duration": 1659,
    "start_time": "2022-04-24T07:53:04.534Z"
   },
   {
    "duration": 69,
    "start_time": "2022-04-24T07:53:06.196Z"
   },
   {
    "duration": 31,
    "start_time": "2022-04-24T07:53:06.268Z"
   },
   {
    "duration": 440,
    "start_time": "2022-04-24T07:53:06.302Z"
   },
   {
    "duration": 93,
    "start_time": "2022-04-24T07:53:06.749Z"
   },
   {
    "duration": 83,
    "start_time": "2022-04-24T07:53:06.846Z"
   },
   {
    "duration": 110,
    "start_time": "2022-04-24T07:53:06.933Z"
   },
   {
    "duration": 114,
    "start_time": "2022-04-24T07:53:07.048Z"
   },
   {
    "duration": 87,
    "start_time": "2022-04-24T07:53:07.165Z"
   },
   {
    "duration": 509,
    "start_time": "2022-04-24T07:53:07.255Z"
   },
   {
    "duration": 5,
    "start_time": "2022-04-24T07:53:07.767Z"
   },
   {
    "duration": 16,
    "start_time": "2022-04-24T07:53:07.827Z"
   },
   {
    "duration": 7,
    "start_time": "2022-04-24T07:53:07.851Z"
   },
   {
    "duration": 63,
    "start_time": "2022-04-24T07:53:07.860Z"
   },
   {
    "duration": 9,
    "start_time": "2022-04-24T07:53:07.926Z"
   },
   {
    "duration": 24,
    "start_time": "2022-04-24T07:53:07.938Z"
   },
   {
    "duration": 308,
    "start_time": "2022-04-24T07:53:07.964Z"
   },
   {
    "duration": 7,
    "start_time": "2022-04-24T07:53:08.274Z"
   },
   {
    "duration": 78,
    "start_time": "2022-04-24T07:53:08.284Z"
   },
   {
    "duration": 67,
    "start_time": "2022-04-24T07:53:08.365Z"
   },
   {
    "duration": 19,
    "start_time": "2022-04-24T07:53:08.439Z"
   },
   {
    "duration": 71,
    "start_time": "2022-04-24T07:53:08.461Z"
   },
   {
    "duration": 13,
    "start_time": "2022-04-24T07:53:08.536Z"
   },
   {
    "duration": 3345,
    "start_time": "2022-04-24T07:53:08.552Z"
   },
   {
    "duration": 1819,
    "start_time": "2022-04-24T07:53:11.900Z"
   },
   {
    "duration": 1964,
    "start_time": "2022-04-24T07:53:13.725Z"
   },
   {
    "duration": 963,
    "start_time": "2022-04-24T07:53:15.692Z"
   },
   {
    "duration": 6,
    "start_time": "2022-04-24T07:53:16.657Z"
   },
   {
    "duration": 10,
    "start_time": "2022-04-24T07:53:16.666Z"
   },
   {
    "duration": 22,
    "start_time": "2022-04-24T07:53:16.679Z"
   },
   {
    "duration": 26,
    "start_time": "2022-04-24T07:53:16.703Z"
   },
   {
    "duration": 2428,
    "start_time": "2022-04-24T07:53:16.732Z"
   },
   {
    "duration": 5,
    "start_time": "2022-04-24T07:53:19.162Z"
   },
   {
    "duration": 721,
    "start_time": "2022-04-24T07:53:19.169Z"
   },
   {
    "duration": 14,
    "start_time": "2022-04-24T07:53:19.892Z"
   },
   {
    "duration": 19,
    "start_time": "2022-04-24T07:53:19.909Z"
   },
   {
    "duration": 540,
    "start_time": "2022-04-24T07:53:19.931Z"
   },
   {
    "duration": 5,
    "start_time": "2022-04-24T07:53:20.474Z"
   },
   {
    "duration": 11,
    "start_time": "2022-04-24T07:53:20.482Z"
   },
   {
    "duration": 32,
    "start_time": "2022-04-24T07:53:20.499Z"
   },
   {
    "duration": 14,
    "start_time": "2022-04-24T07:53:20.534Z"
   },
   {
    "duration": 11,
    "start_time": "2022-04-24T07:53:20.551Z"
   },
   {
    "duration": 326669,
    "start_time": "2022-04-24T07:53:20.564Z"
   },
   {
    "duration": 7,
    "start_time": "2022-04-24T07:58:47.236Z"
   },
   {
    "duration": 7,
    "start_time": "2022-04-24T07:58:47.245Z"
   },
   {
    "duration": 6,
    "start_time": "2022-04-24T07:58:47.255Z"
   },
   {
    "duration": 398,
    "start_time": "2022-04-24T07:58:47.263Z"
   },
   {
    "duration": 2118,
    "start_time": "2022-04-24T08:14:10.942Z"
   },
   {
    "duration": 841,
    "start_time": "2022-04-24T08:14:13.063Z"
   },
   {
    "duration": 47,
    "start_time": "2022-04-24T08:14:13.907Z"
   },
   {
    "duration": 26,
    "start_time": "2022-04-24T08:14:13.957Z"
   },
   {
    "duration": 221,
    "start_time": "2022-04-24T08:14:13.986Z"
   },
   {
    "duration": 46,
    "start_time": "2022-04-24T08:14:14.210Z"
   },
   {
    "duration": 37,
    "start_time": "2022-04-24T08:14:14.259Z"
   },
   {
    "duration": 57,
    "start_time": "2022-04-24T08:14:14.298Z"
   },
   {
    "duration": 36,
    "start_time": "2022-04-24T08:14:14.358Z"
   },
   {
    "duration": 50,
    "start_time": "2022-04-24T08:14:14.398Z"
   },
   {
    "duration": 187,
    "start_time": "2022-04-24T08:14:14.450Z"
   },
   {
    "duration": 3,
    "start_time": "2022-04-24T08:14:14.640Z"
   },
   {
    "duration": 14,
    "start_time": "2022-04-24T08:14:14.645Z"
   },
   {
    "duration": 5,
    "start_time": "2022-04-24T08:14:14.661Z"
   },
   {
    "duration": 12,
    "start_time": "2022-04-24T08:14:14.668Z"
   },
   {
    "duration": 47,
    "start_time": "2022-04-24T08:14:14.683Z"
   },
   {
    "duration": 7,
    "start_time": "2022-04-24T08:14:14.732Z"
   },
   {
    "duration": 7,
    "start_time": "2022-04-24T08:14:14.742Z"
   },
   {
    "duration": 127,
    "start_time": "2022-04-24T08:14:14.752Z"
   },
   {
    "duration": 7,
    "start_time": "2022-04-24T08:14:14.882Z"
   },
   {
    "duration": 7,
    "start_time": "2022-04-24T08:14:14.892Z"
   },
   {
    "duration": 19,
    "start_time": "2022-04-24T08:14:14.925Z"
   },
   {
    "duration": 19,
    "start_time": "2022-04-24T08:14:14.946Z"
   },
   {
    "duration": 17,
    "start_time": "2022-04-24T08:14:14.967Z"
   },
   {
    "duration": 40,
    "start_time": "2022-04-24T08:14:14.986Z"
   },
   {
    "duration": 1836,
    "start_time": "2022-04-24T08:14:15.029Z"
   },
   {
    "duration": 1791,
    "start_time": "2022-04-24T08:14:16.868Z"
   },
   {
    "duration": 1590,
    "start_time": "2022-04-24T08:14:18.665Z"
   },
   {
    "duration": 1022,
    "start_time": "2022-04-24T08:14:20.257Z"
   },
   {
    "duration": 6,
    "start_time": "2022-04-24T08:14:21.281Z"
   },
   {
    "duration": 7,
    "start_time": "2022-04-24T08:14:21.290Z"
   },
   {
    "duration": 25,
    "start_time": "2022-04-24T08:14:21.299Z"
   },
   {
    "duration": 8,
    "start_time": "2022-04-24T08:14:21.327Z"
   },
   {
    "duration": 1976,
    "start_time": "2022-04-24T08:14:21.338Z"
   },
   {
    "duration": 11,
    "start_time": "2022-04-24T08:14:23.317Z"
   },
   {
    "duration": 825,
    "start_time": "2022-04-24T08:14:23.331Z"
   },
   {
    "duration": 12,
    "start_time": "2022-04-24T08:14:24.159Z"
   },
   {
    "duration": 7,
    "start_time": "2022-04-24T08:14:24.174Z"
   },
   {
    "duration": 473,
    "start_time": "2022-04-24T08:14:24.183Z"
   },
   {
    "duration": 4,
    "start_time": "2022-04-24T08:14:24.659Z"
   },
   {
    "duration": 9,
    "start_time": "2022-04-24T08:14:24.665Z"
   },
   {
    "duration": 7,
    "start_time": "2022-04-24T08:14:24.677Z"
   },
   {
    "duration": 10,
    "start_time": "2022-04-24T08:14:24.687Z"
   },
   {
    "duration": 28,
    "start_time": "2022-04-24T08:14:24.700Z"
   },
   {
    "duration": 332718,
    "start_time": "2022-04-24T08:14:24.731Z"
   },
   {
    "duration": 10,
    "start_time": "2022-04-24T08:31:49.861Z"
   },
   {
    "duration": 178,
    "start_time": "2022-04-24T08:31:51.849Z"
   },
   {
    "duration": 7,
    "start_time": "2022-04-24T08:33:03.536Z"
   },
   {
    "duration": 19895,
    "start_time": "2022-04-24T08:33:05.371Z"
   },
   {
    "duration": 7,
    "start_time": "2022-04-24T08:35:13.040Z"
   },
   {
    "duration": 7,
    "start_time": "2022-04-24T08:35:20.966Z"
   },
   {
    "duration": 3658,
    "start_time": "2022-04-24T08:35:22.338Z"
   },
   {
    "duration": 7,
    "start_time": "2022-04-24T08:35:42.947Z"
   },
   {
    "duration": 20329,
    "start_time": "2022-04-24T08:35:43.803Z"
   },
   {
    "duration": 6,
    "start_time": "2022-04-24T08:36:16.496Z"
   },
   {
    "duration": 20711,
    "start_time": "2022-04-24T08:36:17.274Z"
   },
   {
    "duration": 8,
    "start_time": "2022-04-24T08:36:53.761Z"
   },
   {
    "duration": 156738,
    "start_time": "2022-04-24T08:36:57.479Z"
   },
   {
    "duration": 2772,
    "start_time": "2022-04-24T08:40:26.074Z"
   },
   {
    "duration": 1707,
    "start_time": "2022-04-24T08:40:28.850Z"
   },
   {
    "duration": 96,
    "start_time": "2022-04-24T08:40:30.560Z"
   },
   {
    "duration": 78,
    "start_time": "2022-04-24T08:40:30.659Z"
   },
   {
    "duration": 396,
    "start_time": "2022-04-24T08:40:30.739Z"
   },
   {
    "duration": 88,
    "start_time": "2022-04-24T08:40:31.137Z"
   },
   {
    "duration": 21,
    "start_time": "2022-04-24T08:40:31.228Z"
   },
   {
    "duration": 93,
    "start_time": "2022-04-24T08:40:31.251Z"
   },
   {
    "duration": 38,
    "start_time": "2022-04-24T08:40:31.346Z"
   },
   {
    "duration": 57,
    "start_time": "2022-04-24T08:40:31.390Z"
   },
   {
    "duration": 189,
    "start_time": "2022-04-24T08:40:31.449Z"
   },
   {
    "duration": 4,
    "start_time": "2022-04-24T08:40:31.641Z"
   },
   {
    "duration": 88,
    "start_time": "2022-04-24T08:40:31.647Z"
   },
   {
    "duration": 22,
    "start_time": "2022-04-24T08:40:31.737Z"
   },
   {
    "duration": 33,
    "start_time": "2022-04-24T08:40:31.762Z"
   },
   {
    "duration": 25,
    "start_time": "2022-04-24T08:40:31.798Z"
   },
   {
    "duration": 25,
    "start_time": "2022-04-24T08:40:31.826Z"
   },
   {
    "duration": 33,
    "start_time": "2022-04-24T08:40:31.854Z"
   },
   {
    "duration": 196,
    "start_time": "2022-04-24T08:40:31.890Z"
   },
   {
    "duration": 9,
    "start_time": "2022-04-24T08:40:32.089Z"
   },
   {
    "duration": 29,
    "start_time": "2022-04-24T08:40:32.101Z"
   },
   {
    "duration": 43,
    "start_time": "2022-04-24T08:40:32.133Z"
   },
   {
    "duration": 51,
    "start_time": "2022-04-24T08:40:32.179Z"
   },
   {
    "duration": 29,
    "start_time": "2022-04-24T08:40:32.234Z"
   },
   {
    "duration": 12,
    "start_time": "2022-04-24T08:40:32.266Z"
   },
   {
    "duration": 1993,
    "start_time": "2022-04-24T08:40:32.280Z"
   },
   {
    "duration": 1675,
    "start_time": "2022-04-24T08:40:34.276Z"
   },
   {
    "duration": 1598,
    "start_time": "2022-04-24T08:40:35.956Z"
   },
   {
    "duration": 1016,
    "start_time": "2022-04-24T08:40:37.556Z"
   },
   {
    "duration": 8,
    "start_time": "2022-04-24T08:40:38.574Z"
   },
   {
    "duration": 13,
    "start_time": "2022-04-24T08:40:38.584Z"
   },
   {
    "duration": 27,
    "start_time": "2022-04-24T08:40:38.599Z"
   },
   {
    "duration": 9,
    "start_time": "2022-04-24T08:40:38.629Z"
   },
   {
    "duration": 2593,
    "start_time": "2022-04-24T08:40:38.641Z"
   },
   {
    "duration": 7,
    "start_time": "2022-04-24T08:40:41.238Z"
   },
   {
    "duration": 856,
    "start_time": "2022-04-24T08:40:41.247Z"
   },
   {
    "duration": 21,
    "start_time": "2022-04-24T08:40:42.105Z"
   },
   {
    "duration": 6,
    "start_time": "2022-04-24T08:40:42.128Z"
   },
   {
    "duration": 471,
    "start_time": "2022-04-24T08:40:42.136Z"
   },
   {
    "duration": 15,
    "start_time": "2022-04-24T08:40:42.609Z"
   },
   {
    "duration": 3,
    "start_time": "2022-04-24T08:40:42.627Z"
   },
   {
    "duration": 6,
    "start_time": "2022-04-24T08:40:42.633Z"
   },
   {
    "duration": 9,
    "start_time": "2022-04-24T08:40:42.641Z"
   },
   {
    "duration": 7,
    "start_time": "2022-04-24T08:40:42.653Z"
   },
   {
    "duration": 2742,
    "start_time": "2022-04-24T09:18:10.209Z"
   },
   {
    "duration": 853,
    "start_time": "2022-04-24T09:18:12.955Z"
   },
   {
    "duration": 52,
    "start_time": "2022-04-24T09:18:13.811Z"
   },
   {
    "duration": 34,
    "start_time": "2022-04-24T09:18:13.867Z"
   },
   {
    "duration": 228,
    "start_time": "2022-04-24T09:18:13.929Z"
   },
   {
    "duration": 39,
    "start_time": "2022-04-24T09:18:14.159Z"
   },
   {
    "duration": 49,
    "start_time": "2022-04-24T09:18:14.200Z"
   },
   {
    "duration": 42,
    "start_time": "2022-04-24T09:18:14.251Z"
   },
   {
    "duration": 70,
    "start_time": "2022-04-24T09:18:14.296Z"
   },
   {
    "duration": 26,
    "start_time": "2022-04-24T09:18:14.370Z"
   },
   {
    "duration": 210,
    "start_time": "2022-04-24T09:18:14.399Z"
   },
   {
    "duration": 3,
    "start_time": "2022-04-24T09:18:14.612Z"
   },
   {
    "duration": 14,
    "start_time": "2022-04-24T09:18:14.623Z"
   },
   {
    "duration": 19,
    "start_time": "2022-04-24T09:18:14.640Z"
   },
   {
    "duration": 10,
    "start_time": "2022-04-24T09:18:14.662Z"
   },
   {
    "duration": 6,
    "start_time": "2022-04-24T09:18:14.678Z"
   },
   {
    "duration": 43,
    "start_time": "2022-04-24T09:18:14.687Z"
   },
   {
    "duration": 6,
    "start_time": "2022-04-24T09:18:14.734Z"
   },
   {
    "duration": 145,
    "start_time": "2022-04-24T09:18:14.742Z"
   },
   {
    "duration": 7,
    "start_time": "2022-04-24T09:18:14.889Z"
   },
   {
    "duration": 29,
    "start_time": "2022-04-24T09:18:14.898Z"
   },
   {
    "duration": 28,
    "start_time": "2022-04-24T09:18:14.933Z"
   },
   {
    "duration": 20,
    "start_time": "2022-04-24T09:18:14.963Z"
   },
   {
    "duration": 47,
    "start_time": "2022-04-24T09:18:14.986Z"
   },
   {
    "duration": 12,
    "start_time": "2022-04-24T09:18:15.036Z"
   },
   {
    "duration": 2059,
    "start_time": "2022-04-24T09:18:15.050Z"
   },
   {
    "duration": 1854,
    "start_time": "2022-04-24T09:18:17.112Z"
   },
   {
    "duration": 1795,
    "start_time": "2022-04-24T09:18:18.971Z"
   },
   {
    "duration": 959,
    "start_time": "2022-04-24T09:18:20.768Z"
   },
   {
    "duration": 12,
    "start_time": "2022-04-24T09:18:21.729Z"
   },
   {
    "duration": 11,
    "start_time": "2022-04-24T09:18:21.744Z"
   },
   {
    "duration": 9,
    "start_time": "2022-04-24T09:18:21.757Z"
   },
   {
    "duration": 11,
    "start_time": "2022-04-24T09:18:21.769Z"
   },
   {
    "duration": 2187,
    "start_time": "2022-04-24T09:18:21.782Z"
   },
   {
    "duration": 7,
    "start_time": "2022-04-24T09:18:23.972Z"
   },
   {
    "duration": 979,
    "start_time": "2022-04-24T09:18:23.982Z"
   },
   {
    "duration": 16,
    "start_time": "2022-04-24T09:18:24.964Z"
   },
   {
    "duration": 6,
    "start_time": "2022-04-24T09:18:24.983Z"
   },
   {
    "duration": 750,
    "start_time": "2022-04-24T09:18:24.992Z"
   },
   {
    "duration": 5,
    "start_time": "2022-04-24T09:18:25.745Z"
   },
   {
    "duration": 11,
    "start_time": "2022-04-24T09:18:25.753Z"
   },
   {
    "duration": 9,
    "start_time": "2022-04-24T09:18:25.767Z"
   },
   {
    "duration": 6,
    "start_time": "2022-04-24T09:18:25.779Z"
   },
   {
    "duration": 57,
    "start_time": "2022-04-24T09:18:25.788Z"
   },
   {
    "duration": 2392,
    "start_time": "2022-04-24T10:05:43.589Z"
   },
   {
    "duration": 865,
    "start_time": "2022-04-24T10:05:45.984Z"
   },
   {
    "duration": 46,
    "start_time": "2022-04-24T10:05:46.851Z"
   },
   {
    "duration": 43,
    "start_time": "2022-04-24T10:05:46.900Z"
   },
   {
    "duration": 228,
    "start_time": "2022-04-24T10:05:46.946Z"
   },
   {
    "duration": 51,
    "start_time": "2022-04-24T10:05:47.177Z"
   },
   {
    "duration": 23,
    "start_time": "2022-04-24T10:05:47.234Z"
   },
   {
    "duration": 36,
    "start_time": "2022-04-24T10:05:47.259Z"
   },
   {
    "duration": 78,
    "start_time": "2022-04-24T10:05:47.298Z"
   },
   {
    "duration": 56,
    "start_time": "2022-04-24T10:05:47.381Z"
   },
   {
    "duration": 194,
    "start_time": "2022-04-24T10:05:47.439Z"
   },
   {
    "duration": 9,
    "start_time": "2022-04-24T10:05:47.636Z"
   },
   {
    "duration": 16,
    "start_time": "2022-04-24T10:05:47.648Z"
   },
   {
    "duration": 14,
    "start_time": "2022-04-24T10:05:47.667Z"
   },
   {
    "duration": 21,
    "start_time": "2022-04-24T10:05:47.684Z"
   },
   {
    "duration": 38,
    "start_time": "2022-04-24T10:05:47.707Z"
   },
   {
    "duration": 32,
    "start_time": "2022-04-24T10:05:47.747Z"
   },
   {
    "duration": 21,
    "start_time": "2022-04-24T10:05:47.781Z"
   },
   {
    "duration": 133,
    "start_time": "2022-04-24T10:05:47.804Z"
   },
   {
    "duration": 9,
    "start_time": "2022-04-24T10:05:47.940Z"
   },
   {
    "duration": 22,
    "start_time": "2022-04-24T10:05:47.952Z"
   },
   {
    "duration": 48,
    "start_time": "2022-04-24T10:05:47.977Z"
   },
   {
    "duration": 50,
    "start_time": "2022-04-24T10:05:48.030Z"
   },
   {
    "duration": 22,
    "start_time": "2022-04-24T10:05:48.083Z"
   },
   {
    "duration": 11,
    "start_time": "2022-04-24T10:05:48.108Z"
   },
   {
    "duration": 1871,
    "start_time": "2022-04-24T10:05:48.122Z"
   },
   {
    "duration": 2103,
    "start_time": "2022-04-24T10:05:49.996Z"
   },
   {
    "duration": 1854,
    "start_time": "2022-04-24T10:05:52.108Z"
   },
   {
    "duration": 1324,
    "start_time": "2022-04-24T10:05:53.965Z"
   },
   {
    "duration": 7,
    "start_time": "2022-04-24T10:05:55.291Z"
   },
   {
    "duration": 6,
    "start_time": "2022-04-24T10:05:55.301Z"
   },
   {
    "duration": 9,
    "start_time": "2022-04-24T10:05:55.332Z"
   },
   {
    "duration": 18,
    "start_time": "2022-04-24T10:05:55.343Z"
   },
   {
    "duration": 1998,
    "start_time": "2022-04-24T10:05:55.363Z"
   },
   {
    "duration": 5,
    "start_time": "2022-04-24T10:05:57.364Z"
   },
   {
    "duration": 772,
    "start_time": "2022-04-24T10:05:57.373Z"
   },
   {
    "duration": 13,
    "start_time": "2022-04-24T10:05:58.148Z"
   },
   {
    "duration": 12,
    "start_time": "2022-04-24T10:05:58.163Z"
   },
   {
    "duration": 512,
    "start_time": "2022-04-24T10:05:58.178Z"
   },
   {
    "duration": 5,
    "start_time": "2022-04-24T10:05:58.692Z"
   },
   {
    "duration": 29,
    "start_time": "2022-04-24T10:05:58.699Z"
   },
   {
    "duration": 25,
    "start_time": "2022-04-24T10:05:58.731Z"
   },
   {
    "duration": 13,
    "start_time": "2022-04-24T10:05:58.758Z"
   },
   {
    "duration": 15,
    "start_time": "2022-04-24T10:05:58.774Z"
   },
   {
    "duration": 199,
    "start_time": "2022-04-24T10:05:58.792Z"
   },
   {
    "duration": 0,
    "start_time": "2022-04-24T10:05:58.993Z"
   },
   {
    "duration": 0,
    "start_time": "2022-04-24T10:05:58.995Z"
   },
   {
    "duration": 0,
    "start_time": "2022-04-24T10:05:58.997Z"
   },
   {
    "duration": 0,
    "start_time": "2022-04-24T10:05:58.998Z"
   },
   {
    "duration": 0,
    "start_time": "2022-04-24T10:05:59.000Z"
   },
   {
    "duration": 0,
    "start_time": "2022-04-24T10:05:59.002Z"
   },
   {
    "duration": 0,
    "start_time": "2022-04-24T10:05:59.003Z"
   },
   {
    "duration": 0,
    "start_time": "2022-04-24T10:05:59.005Z"
   },
   {
    "duration": 0,
    "start_time": "2022-04-24T10:05:59.006Z"
   },
   {
    "duration": 16,
    "start_time": "2022-04-24T10:05:59.007Z"
   },
   {
    "duration": 2061,
    "start_time": "2022-04-24T10:06:56.441Z"
   },
   {
    "duration": 1214,
    "start_time": "2022-04-24T10:06:58.505Z"
   },
   {
    "duration": 45,
    "start_time": "2022-04-24T10:06:59.724Z"
   },
   {
    "duration": 28,
    "start_time": "2022-04-24T10:06:59.771Z"
   },
   {
    "duration": 213,
    "start_time": "2022-04-24T10:06:59.832Z"
   },
   {
    "duration": 39,
    "start_time": "2022-04-24T10:07:00.048Z"
   },
   {
    "duration": 62,
    "start_time": "2022-04-24T10:07:00.090Z"
   },
   {
    "duration": 37,
    "start_time": "2022-04-24T10:07:00.155Z"
   },
   {
    "duration": 60,
    "start_time": "2022-04-24T10:07:00.195Z"
   },
   {
    "duration": 40,
    "start_time": "2022-04-24T10:07:00.258Z"
   },
   {
    "duration": 208,
    "start_time": "2022-04-24T10:07:00.302Z"
   },
   {
    "duration": 17,
    "start_time": "2022-04-24T10:07:00.513Z"
   },
   {
    "duration": 21,
    "start_time": "2022-04-24T10:07:00.532Z"
   },
   {
    "duration": 5,
    "start_time": "2022-04-24T10:07:00.559Z"
   },
   {
    "duration": 14,
    "start_time": "2022-04-24T10:07:00.567Z"
   },
   {
    "duration": 13,
    "start_time": "2022-04-24T10:07:00.584Z"
   },
   {
    "duration": 6,
    "start_time": "2022-04-24T10:07:00.625Z"
   },
   {
    "duration": 43,
    "start_time": "2022-04-24T10:07:00.633Z"
   },
   {
    "duration": 131,
    "start_time": "2022-04-24T10:07:00.679Z"
   },
   {
    "duration": 16,
    "start_time": "2022-04-24T10:07:00.813Z"
   },
   {
    "duration": 40,
    "start_time": "2022-04-24T10:07:00.832Z"
   },
   {
    "duration": 32,
    "start_time": "2022-04-24T10:07:00.875Z"
   },
   {
    "duration": 45,
    "start_time": "2022-04-24T10:07:00.909Z"
   },
   {
    "duration": 23,
    "start_time": "2022-04-24T10:07:00.956Z"
   },
   {
    "duration": 8,
    "start_time": "2022-04-24T10:07:00.982Z"
   },
   {
    "duration": 1897,
    "start_time": "2022-04-24T10:07:00.992Z"
   },
   {
    "duration": 1778,
    "start_time": "2022-04-24T10:07:02.892Z"
   },
   {
    "duration": 1696,
    "start_time": "2022-04-24T10:07:04.673Z"
   },
   {
    "duration": 937,
    "start_time": "2022-04-24T10:07:06.371Z"
   },
   {
    "duration": 17,
    "start_time": "2022-04-24T10:07:07.310Z"
   },
   {
    "duration": 16,
    "start_time": "2022-04-24T10:07:07.330Z"
   },
   {
    "duration": 8,
    "start_time": "2022-04-24T10:07:07.349Z"
   },
   {
    "duration": 11,
    "start_time": "2022-04-24T10:07:07.359Z"
   },
   {
    "duration": 1874,
    "start_time": "2022-04-24T10:07:07.372Z"
   },
   {
    "duration": 6,
    "start_time": "2022-04-24T10:07:09.248Z"
   },
   {
    "duration": 702,
    "start_time": "2022-04-24T10:07:09.257Z"
   },
   {
    "duration": 13,
    "start_time": "2022-04-24T10:07:09.962Z"
   },
   {
    "duration": 6,
    "start_time": "2022-04-24T10:07:09.978Z"
   },
   {
    "duration": 509,
    "start_time": "2022-04-24T10:07:09.987Z"
   },
   {
    "duration": 5,
    "start_time": "2022-04-24T10:07:10.499Z"
   },
   {
    "duration": 20,
    "start_time": "2022-04-24T10:07:10.511Z"
   },
   {
    "duration": 10,
    "start_time": "2022-04-24T10:07:10.533Z"
   },
   {
    "duration": 15,
    "start_time": "2022-04-24T10:07:10.545Z"
   },
   {
    "duration": 7,
    "start_time": "2022-04-24T10:07:10.563Z"
   },
   {
    "duration": 22149,
    "start_time": "2022-04-24T10:07:10.572Z"
   },
   {
    "duration": 22402,
    "start_time": "2022-04-24T10:07:32.725Z"
   },
   {
    "duration": 189,
    "start_time": "2022-04-24T10:07:55.129Z"
   },
   {
    "duration": 0,
    "start_time": "2022-04-24T10:07:55.324Z"
   },
   {
    "duration": 0,
    "start_time": "2022-04-24T10:07:55.326Z"
   },
   {
    "duration": 0,
    "start_time": "2022-04-24T10:07:55.328Z"
   },
   {
    "duration": 0,
    "start_time": "2022-04-24T10:07:55.329Z"
   },
   {
    "duration": 0,
    "start_time": "2022-04-24T10:07:55.331Z"
   },
   {
    "duration": 0,
    "start_time": "2022-04-24T10:07:55.332Z"
   },
   {
    "duration": 0,
    "start_time": "2022-04-24T10:07:55.333Z"
   },
   {
    "duration": 0,
    "start_time": "2022-04-24T10:07:55.334Z"
   },
   {
    "duration": 2876,
    "start_time": "2022-04-24T10:12:13.878Z"
   },
   {
    "duration": 1277,
    "start_time": "2022-04-24T10:12:16.758Z"
   },
   {
    "duration": 89,
    "start_time": "2022-04-24T10:12:18.037Z"
   },
   {
    "duration": 38,
    "start_time": "2022-04-24T10:12:18.131Z"
   },
   {
    "duration": 245,
    "start_time": "2022-04-24T10:12:18.171Z"
   },
   {
    "duration": 42,
    "start_time": "2022-04-24T10:12:18.425Z"
   },
   {
    "duration": 59,
    "start_time": "2022-04-24T10:12:18.470Z"
   },
   {
    "duration": 36,
    "start_time": "2022-04-24T10:12:18.531Z"
   },
   {
    "duration": 68,
    "start_time": "2022-04-24T10:12:18.569Z"
   },
   {
    "duration": 35,
    "start_time": "2022-04-24T10:12:18.642Z"
   },
   {
    "duration": 224,
    "start_time": "2022-04-24T10:12:18.679Z"
   },
   {
    "duration": 7,
    "start_time": "2022-04-24T10:12:18.912Z"
   },
   {
    "duration": 33,
    "start_time": "2022-04-24T10:12:18.922Z"
   },
   {
    "duration": 97,
    "start_time": "2022-04-24T10:12:18.959Z"
   },
   {
    "duration": 40,
    "start_time": "2022-04-24T10:12:19.059Z"
   },
   {
    "duration": 35,
    "start_time": "2022-04-24T10:12:19.102Z"
   },
   {
    "duration": 27,
    "start_time": "2022-04-24T10:12:19.140Z"
   },
   {
    "duration": 12,
    "start_time": "2022-04-24T10:12:19.170Z"
   },
   {
    "duration": 173,
    "start_time": "2022-04-24T10:12:19.185Z"
   },
   {
    "duration": 8,
    "start_time": "2022-04-24T10:12:19.361Z"
   },
   {
    "duration": 9,
    "start_time": "2022-04-24T10:12:19.371Z"
   },
   {
    "duration": 48,
    "start_time": "2022-04-24T10:12:19.383Z"
   },
   {
    "duration": 28,
    "start_time": "2022-04-24T10:12:19.433Z"
   },
   {
    "duration": 23,
    "start_time": "2022-04-24T10:12:19.463Z"
   },
   {
    "duration": 9,
    "start_time": "2022-04-24T10:12:19.489Z"
   },
   {
    "duration": 2202,
    "start_time": "2022-04-24T10:12:19.524Z"
   },
   {
    "duration": 2172,
    "start_time": "2022-04-24T10:12:21.729Z"
   },
   {
    "duration": 1642,
    "start_time": "2022-04-24T10:12:23.908Z"
   },
   {
    "duration": 1286,
    "start_time": "2022-04-24T10:12:25.553Z"
   },
   {
    "duration": 7,
    "start_time": "2022-04-24T10:12:26.841Z"
   },
   {
    "duration": 10,
    "start_time": "2022-04-24T10:12:26.851Z"
   },
   {
    "duration": 8,
    "start_time": "2022-04-24T10:12:26.865Z"
   },
   {
    "duration": 11,
    "start_time": "2022-04-24T10:12:26.876Z"
   },
   {
    "duration": 1884,
    "start_time": "2022-04-24T10:12:26.924Z"
   },
   {
    "duration": 17,
    "start_time": "2022-04-24T10:12:28.810Z"
   },
   {
    "duration": 691,
    "start_time": "2022-04-24T10:12:28.829Z"
   },
   {
    "duration": 13,
    "start_time": "2022-04-24T10:12:29.525Z"
   },
   {
    "duration": 6,
    "start_time": "2022-04-24T10:12:29.541Z"
   },
   {
    "duration": 493,
    "start_time": "2022-04-24T10:12:29.549Z"
   },
   {
    "duration": 5,
    "start_time": "2022-04-24T10:12:30.045Z"
   },
   {
    "duration": 17,
    "start_time": "2022-04-24T10:12:30.053Z"
   },
   {
    "duration": 19,
    "start_time": "2022-04-24T10:12:30.073Z"
   },
   {
    "duration": 19,
    "start_time": "2022-04-24T10:12:30.095Z"
   },
   {
    "duration": 33,
    "start_time": "2022-04-24T10:12:30.117Z"
   },
   {
    "duration": 23173,
    "start_time": "2022-04-24T10:12:30.153Z"
   },
   {
    "duration": 21065,
    "start_time": "2022-04-24T10:12:53.328Z"
   },
   {
    "duration": 4,
    "start_time": "2022-04-24T10:13:14.395Z"
   },
   {
    "duration": 130,
    "start_time": "2022-04-24T10:13:14.402Z"
   },
   {
    "duration": 0,
    "start_time": "2022-04-24T10:13:14.534Z"
   },
   {
    "duration": 0,
    "start_time": "2022-04-24T10:13:14.536Z"
   },
   {
    "duration": 0,
    "start_time": "2022-04-24T10:13:14.538Z"
   },
   {
    "duration": 0,
    "start_time": "2022-04-24T10:13:14.541Z"
   },
   {
    "duration": 0,
    "start_time": "2022-04-24T10:13:14.543Z"
   },
   {
    "duration": 0,
    "start_time": "2022-04-24T10:13:14.545Z"
   },
   {
    "duration": 0,
    "start_time": "2022-04-24T10:13:14.547Z"
   },
   {
    "duration": 4,
    "start_time": "2022-04-24T10:56:16.713Z"
   },
   {
    "duration": 2715,
    "start_time": "2022-04-24T10:56:30.623Z"
   },
   {
    "duration": 839,
    "start_time": "2022-04-24T10:56:33.342Z"
   },
   {
    "duration": 61,
    "start_time": "2022-04-24T10:56:34.184Z"
   },
   {
    "duration": 26,
    "start_time": "2022-04-24T10:56:34.250Z"
   },
   {
    "duration": 225,
    "start_time": "2022-04-24T10:56:34.279Z"
   },
   {
    "duration": 64,
    "start_time": "2022-04-24T10:56:34.506Z"
   },
   {
    "duration": 54,
    "start_time": "2022-04-24T10:56:34.573Z"
   },
   {
    "duration": 55,
    "start_time": "2022-04-24T10:56:34.630Z"
   },
   {
    "duration": 60,
    "start_time": "2022-04-24T10:56:34.688Z"
   },
   {
    "duration": 26,
    "start_time": "2022-04-24T10:56:34.754Z"
   },
   {
    "duration": 213,
    "start_time": "2022-04-24T10:56:34.783Z"
   },
   {
    "duration": 4,
    "start_time": "2022-04-24T10:56:34.999Z"
   },
   {
    "duration": 22,
    "start_time": "2022-04-24T10:56:35.006Z"
   },
   {
    "duration": 6,
    "start_time": "2022-04-24T10:56:35.031Z"
   },
   {
    "duration": 15,
    "start_time": "2022-04-24T10:56:35.040Z"
   },
   {
    "duration": 8,
    "start_time": "2022-04-24T10:56:35.058Z"
   },
   {
    "duration": 10,
    "start_time": "2022-04-24T10:56:35.069Z"
   },
   {
    "duration": 8,
    "start_time": "2022-04-24T10:56:35.126Z"
   },
   {
    "duration": 172,
    "start_time": "2022-04-24T10:56:35.137Z"
   },
   {
    "duration": 16,
    "start_time": "2022-04-24T10:56:35.312Z"
   },
   {
    "duration": 16,
    "start_time": "2022-04-24T10:56:35.331Z"
   },
   {
    "duration": 24,
    "start_time": "2022-04-24T10:56:35.350Z"
   },
   {
    "duration": 20,
    "start_time": "2022-04-24T10:56:35.377Z"
   },
   {
    "duration": 39,
    "start_time": "2022-04-24T10:56:35.400Z"
   },
   {
    "duration": 8,
    "start_time": "2022-04-24T10:56:35.442Z"
   },
   {
    "duration": 1829,
    "start_time": "2022-04-24T10:56:35.452Z"
   },
   {
    "duration": 1866,
    "start_time": "2022-04-24T10:56:37.284Z"
   },
   {
    "duration": 1902,
    "start_time": "2022-04-24T10:56:39.156Z"
   },
   {
    "duration": 1022,
    "start_time": "2022-04-24T10:56:41.061Z"
   },
   {
    "duration": 7,
    "start_time": "2022-04-24T10:56:42.085Z"
   },
   {
    "duration": 12,
    "start_time": "2022-04-24T10:56:42.094Z"
   },
   {
    "duration": 19,
    "start_time": "2022-04-24T10:56:42.108Z"
   },
   {
    "duration": 5,
    "start_time": "2022-04-24T10:56:42.130Z"
   },
   {
    "duration": 2270,
    "start_time": "2022-04-24T10:56:42.138Z"
   },
   {
    "duration": 6,
    "start_time": "2022-04-24T10:56:44.410Z"
   },
   {
    "duration": 702,
    "start_time": "2022-04-24T10:56:44.425Z"
   },
   {
    "duration": 14,
    "start_time": "2022-04-24T10:56:45.129Z"
   },
   {
    "duration": 7,
    "start_time": "2022-04-24T10:56:45.146Z"
   },
   {
    "duration": 493,
    "start_time": "2022-04-24T10:56:45.155Z"
   },
   {
    "duration": 4,
    "start_time": "2022-04-24T10:56:45.651Z"
   },
   {
    "duration": 11,
    "start_time": "2022-04-24T10:56:45.657Z"
   },
   {
    "duration": 17,
    "start_time": "2022-04-24T10:56:45.672Z"
   },
   {
    "duration": 16,
    "start_time": "2022-04-24T10:56:45.691Z"
   },
   {
    "duration": 18,
    "start_time": "2022-04-24T10:56:45.710Z"
   },
   {
    "duration": 21097,
    "start_time": "2022-04-24T10:56:45.731Z"
   },
   {
    "duration": 19655,
    "start_time": "2022-04-24T10:57:06.830Z"
   },
   {
    "duration": 5,
    "start_time": "2022-04-24T10:57:26.488Z"
   },
   {
    "duration": 132,
    "start_time": "2022-04-24T10:57:26.496Z"
   },
   {
    "duration": 0,
    "start_time": "2022-04-24T10:57:26.630Z"
   },
   {
    "duration": 0,
    "start_time": "2022-04-24T10:57:26.632Z"
   },
   {
    "duration": 0,
    "start_time": "2022-04-24T10:57:26.634Z"
   },
   {
    "duration": 0,
    "start_time": "2022-04-24T10:57:26.635Z"
   },
   {
    "duration": 0,
    "start_time": "2022-04-24T10:57:26.638Z"
   },
   {
    "duration": 0,
    "start_time": "2022-04-24T10:57:26.639Z"
   },
   {
    "duration": 0,
    "start_time": "2022-04-24T10:57:26.642Z"
   },
   {
    "duration": 126,
    "start_time": "2022-04-24T11:00:13.260Z"
   },
   {
    "duration": 0,
    "start_time": "2022-04-24T11:00:13.388Z"
   },
   {
    "duration": 0,
    "start_time": "2022-04-24T11:00:13.390Z"
   },
   {
    "duration": 0,
    "start_time": "2022-04-24T11:00:13.391Z"
   },
   {
    "duration": 0,
    "start_time": "2022-04-24T11:00:13.393Z"
   },
   {
    "duration": 0,
    "start_time": "2022-04-24T11:00:13.395Z"
   },
   {
    "duration": 0,
    "start_time": "2022-04-24T11:00:13.396Z"
   },
   {
    "duration": 1,
    "start_time": "2022-04-24T11:00:13.397Z"
   },
   {
    "duration": 8,
    "start_time": "2022-04-24T11:00:30.835Z"
   },
   {
    "duration": 652,
    "start_time": "2022-04-24T11:00:30.847Z"
   },
   {
    "duration": 0,
    "start_time": "2022-04-24T11:00:31.503Z"
   },
   {
    "duration": 0,
    "start_time": "2022-04-24T11:00:31.505Z"
   },
   {
    "duration": 0,
    "start_time": "2022-04-24T11:00:31.508Z"
   },
   {
    "duration": 0,
    "start_time": "2022-04-24T11:00:31.526Z"
   },
   {
    "duration": 1,
    "start_time": "2022-04-24T11:00:31.527Z"
   },
   {
    "duration": 0,
    "start_time": "2022-04-24T11:00:31.529Z"
   },
   {
    "duration": 2667,
    "start_time": "2022-04-24T11:01:16.220Z"
   },
   {
    "duration": 1237,
    "start_time": "2022-04-24T11:01:18.891Z"
   },
   {
    "duration": 53,
    "start_time": "2022-04-24T11:01:20.131Z"
   },
   {
    "duration": 61,
    "start_time": "2022-04-24T11:01:20.186Z"
   },
   {
    "duration": 205,
    "start_time": "2022-04-24T11:01:20.252Z"
   },
   {
    "duration": 37,
    "start_time": "2022-04-24T11:01:20.460Z"
   },
   {
    "duration": 62,
    "start_time": "2022-04-24T11:01:20.501Z"
   },
   {
    "duration": 69,
    "start_time": "2022-04-24T11:01:20.567Z"
   },
   {
    "duration": 63,
    "start_time": "2022-04-24T11:01:20.640Z"
   },
   {
    "duration": 47,
    "start_time": "2022-04-24T11:01:20.726Z"
   },
   {
    "duration": 270,
    "start_time": "2022-04-24T11:01:20.777Z"
   },
   {
    "duration": 5,
    "start_time": "2022-04-24T11:01:21.050Z"
   },
   {
    "duration": 20,
    "start_time": "2022-04-24T11:01:21.058Z"
   },
   {
    "duration": 7,
    "start_time": "2022-04-24T11:01:21.083Z"
   },
   {
    "duration": 46,
    "start_time": "2022-04-24T11:01:21.092Z"
   },
   {
    "duration": 6,
    "start_time": "2022-04-24T11:01:21.141Z"
   },
   {
    "duration": 15,
    "start_time": "2022-04-24T11:01:21.149Z"
   },
   {
    "duration": 16,
    "start_time": "2022-04-24T11:01:21.167Z"
   },
   {
    "duration": 186,
    "start_time": "2022-04-24T11:01:21.185Z"
   },
   {
    "duration": 9,
    "start_time": "2022-04-24T11:01:21.374Z"
   },
   {
    "duration": 9,
    "start_time": "2022-04-24T11:01:21.387Z"
   },
   {
    "duration": 52,
    "start_time": "2022-04-24T11:01:21.399Z"
   },
   {
    "duration": 21,
    "start_time": "2022-04-24T11:01:21.454Z"
   },
   {
    "duration": 51,
    "start_time": "2022-04-24T11:01:21.479Z"
   },
   {
    "duration": 11,
    "start_time": "2022-04-24T11:01:21.533Z"
   },
   {
    "duration": 2426,
    "start_time": "2022-04-24T11:01:21.547Z"
   },
   {
    "duration": 1674,
    "start_time": "2022-04-24T11:01:23.977Z"
   },
   {
    "duration": 1503,
    "start_time": "2022-04-24T11:01:25.653Z"
   },
   {
    "duration": 1027,
    "start_time": "2022-04-24T11:01:27.159Z"
   },
   {
    "duration": 6,
    "start_time": "2022-04-24T11:01:28.188Z"
   },
   {
    "duration": 27,
    "start_time": "2022-04-24T11:01:28.197Z"
   },
   {
    "duration": 7,
    "start_time": "2022-04-24T11:01:28.227Z"
   },
   {
    "duration": 8,
    "start_time": "2022-04-24T11:01:28.237Z"
   },
   {
    "duration": 1845,
    "start_time": "2022-04-24T11:01:28.247Z"
   },
   {
    "duration": 8,
    "start_time": "2022-04-24T11:01:30.096Z"
   },
   {
    "duration": 898,
    "start_time": "2022-04-24T11:01:30.107Z"
   },
   {
    "duration": 26,
    "start_time": "2022-04-24T11:01:31.008Z"
   },
   {
    "duration": 7,
    "start_time": "2022-04-24T11:01:31.038Z"
   },
   {
    "duration": 803,
    "start_time": "2022-04-24T11:01:31.048Z"
   },
   {
    "duration": 7,
    "start_time": "2022-04-24T11:01:31.854Z"
   },
   {
    "duration": 10,
    "start_time": "2022-04-24T11:01:31.870Z"
   },
   {
    "duration": 21,
    "start_time": "2022-04-24T11:01:31.883Z"
   },
   {
    "duration": 27,
    "start_time": "2022-04-24T11:01:31.907Z"
   },
   {
    "duration": 20,
    "start_time": "2022-04-24T11:01:31.937Z"
   },
   {
    "duration": 24696,
    "start_time": "2022-04-24T11:01:31.959Z"
   },
   {
    "duration": 21748,
    "start_time": "2022-04-24T11:01:56.658Z"
   },
   {
    "duration": 4,
    "start_time": "2022-04-24T11:02:18.408Z"
   },
   {
    "duration": 16,
    "start_time": "2022-04-24T11:02:18.415Z"
   },
   {
    "duration": 615,
    "start_time": "2022-04-24T11:02:18.433Z"
   },
   {
    "duration": 0,
    "start_time": "2022-04-24T11:02:19.051Z"
   },
   {
    "duration": 0,
    "start_time": "2022-04-24T11:02:19.052Z"
   },
   {
    "duration": 0,
    "start_time": "2022-04-24T11:02:19.054Z"
   },
   {
    "duration": 0,
    "start_time": "2022-04-24T11:02:19.055Z"
   },
   {
    "duration": 0,
    "start_time": "2022-04-24T11:02:19.057Z"
   },
   {
    "duration": 0,
    "start_time": "2022-04-24T11:02:19.058Z"
   },
   {
    "duration": 10,
    "start_time": "2022-04-24T11:03:53.094Z"
   },
   {
    "duration": 2806,
    "start_time": "2022-04-24T11:28:35.064Z"
   },
   {
    "duration": 1313,
    "start_time": "2022-04-24T11:28:37.873Z"
   },
   {
    "duration": 63,
    "start_time": "2022-04-24T11:28:39.189Z"
   },
   {
    "duration": 38,
    "start_time": "2022-04-24T11:28:39.259Z"
   },
   {
    "duration": 300,
    "start_time": "2022-04-24T11:28:39.300Z"
   },
   {
    "duration": 49,
    "start_time": "2022-04-24T11:28:39.603Z"
   },
   {
    "duration": 35,
    "start_time": "2022-04-24T11:28:39.655Z"
   },
   {
    "duration": 67,
    "start_time": "2022-04-24T11:28:39.693Z"
   },
   {
    "duration": 39,
    "start_time": "2022-04-24T11:28:39.763Z"
   },
   {
    "duration": 46,
    "start_time": "2022-04-24T11:28:39.805Z"
   },
   {
    "duration": 214,
    "start_time": "2022-04-24T11:28:39.854Z"
   },
   {
    "duration": 5,
    "start_time": "2022-04-24T11:28:40.071Z"
   },
   {
    "duration": 18,
    "start_time": "2022-04-24T11:28:40.080Z"
   },
   {
    "duration": 26,
    "start_time": "2022-04-24T11:28:40.102Z"
   },
   {
    "duration": 20,
    "start_time": "2022-04-24T11:28:40.131Z"
   },
   {
    "duration": 25,
    "start_time": "2022-04-24T11:28:40.154Z"
   },
   {
    "duration": 16,
    "start_time": "2022-04-24T11:28:40.182Z"
   },
   {
    "duration": 28,
    "start_time": "2022-04-24T11:28:40.201Z"
   },
   {
    "duration": 149,
    "start_time": "2022-04-24T11:28:40.235Z"
   },
   {
    "duration": 6,
    "start_time": "2022-04-24T11:28:40.387Z"
   },
   {
    "duration": 30,
    "start_time": "2022-04-24T11:28:40.396Z"
   },
   {
    "duration": 40,
    "start_time": "2022-04-24T11:28:40.429Z"
   },
   {
    "duration": 32,
    "start_time": "2022-04-24T11:28:40.472Z"
   },
   {
    "duration": 33,
    "start_time": "2022-04-24T11:28:40.507Z"
   },
   {
    "duration": 12,
    "start_time": "2022-04-24T11:28:40.542Z"
   },
   {
    "duration": 2101,
    "start_time": "2022-04-24T11:28:40.556Z"
   },
   {
    "duration": 2185,
    "start_time": "2022-04-24T11:28:42.661Z"
   },
   {
    "duration": 1945,
    "start_time": "2022-04-24T11:28:44.853Z"
   },
   {
    "duration": 949,
    "start_time": "2022-04-24T11:28:46.801Z"
   },
   {
    "duration": 8,
    "start_time": "2022-04-24T11:28:47.754Z"
   },
   {
    "duration": 8,
    "start_time": "2022-04-24T11:28:47.766Z"
   },
   {
    "duration": 12,
    "start_time": "2022-04-24T11:28:47.778Z"
   },
   {
    "duration": 33,
    "start_time": "2022-04-24T11:28:47.792Z"
   },
   {
    "duration": 2359,
    "start_time": "2022-04-24T11:28:47.829Z"
   },
   {
    "duration": 7,
    "start_time": "2022-04-24T11:28:50.191Z"
   },
   {
    "duration": 945,
    "start_time": "2022-04-24T11:28:50.203Z"
   },
   {
    "duration": 17,
    "start_time": "2022-04-24T11:28:51.152Z"
   },
   {
    "duration": 7,
    "start_time": "2022-04-24T11:28:51.172Z"
   },
   {
    "duration": 708,
    "start_time": "2022-04-24T11:28:51.182Z"
   },
   {
    "duration": 6,
    "start_time": "2022-04-24T11:28:51.893Z"
   },
   {
    "duration": 23,
    "start_time": "2022-04-24T11:28:51.903Z"
   },
   {
    "duration": 11,
    "start_time": "2022-04-24T11:28:51.930Z"
   },
   {
    "duration": 11,
    "start_time": "2022-04-24T11:28:51.944Z"
   },
   {
    "duration": 16,
    "start_time": "2022-04-24T11:28:51.958Z"
   },
   {
    "duration": 28206,
    "start_time": "2022-04-24T11:28:51.977Z"
   },
   {
    "duration": 20482,
    "start_time": "2022-04-24T11:29:20.186Z"
   },
   {
    "duration": 7,
    "start_time": "2022-04-24T11:29:40.671Z"
   },
   {
    "duration": 11,
    "start_time": "2022-04-24T11:29:40.682Z"
   },
   {
    "duration": 605523,
    "start_time": "2022-04-24T11:29:40.697Z"
   },
   {
    "duration": 620955,
    "start_time": "2022-04-24T11:39:46.226Z"
   },
   {
    "duration": 4,
    "start_time": "2022-04-24T11:50:07.183Z"
   },
   {
    "duration": 9,
    "start_time": "2022-04-24T11:50:07.190Z"
   },
   {
    "duration": 3040,
    "start_time": "2022-04-24T11:50:07.202Z"
   },
   {
    "duration": 2881,
    "start_time": "2022-04-24T11:50:10.246Z"
   },
   {
    "duration": 8,
    "start_time": "2022-04-24T11:50:13.136Z"
   },
   {
    "duration": 5,
    "start_time": "2022-04-24T11:58:09.906Z"
   },
   {
    "duration": 2642,
    "start_time": "2022-04-24T11:58:10.693Z"
   },
   {
    "duration": 5,
    "start_time": "2022-04-24T11:59:51.369Z"
   },
   {
    "duration": 2345,
    "start_time": "2022-04-24T11:59:52.282Z"
   },
   {
    "duration": 3073,
    "start_time": "2022-04-24T11:59:55.775Z"
   },
   {
    "duration": 4,
    "start_time": "2022-04-24T11:59:59.791Z"
   },
   {
    "duration": 6,
    "start_time": "2022-04-24T12:00:57.700Z"
   },
   {
    "duration": 5,
    "start_time": "2022-04-24T12:02:34.524Z"
   },
   {
    "duration": 5,
    "start_time": "2022-04-24T12:02:42.288Z"
   },
   {
    "duration": 178,
    "start_time": "2022-04-24T12:03:58.722Z"
   },
   {
    "duration": 2303,
    "start_time": "2022-04-24T12:04:33.359Z"
   },
   {
    "duration": 1051,
    "start_time": "2022-04-24T12:04:35.666Z"
   },
   {
    "duration": 63,
    "start_time": "2022-04-24T12:04:36.720Z"
   },
   {
    "duration": 58,
    "start_time": "2022-04-24T12:04:36.787Z"
   },
   {
    "duration": 370,
    "start_time": "2022-04-24T12:04:36.847Z"
   },
   {
    "duration": 44,
    "start_time": "2022-04-24T12:04:37.219Z"
   },
   {
    "duration": 30,
    "start_time": "2022-04-24T12:04:37.266Z"
   },
   {
    "duration": 48,
    "start_time": "2022-04-24T12:04:37.326Z"
   },
   {
    "duration": 63,
    "start_time": "2022-04-24T12:04:37.377Z"
   },
   {
    "duration": 39,
    "start_time": "2022-04-24T12:04:37.445Z"
   },
   {
    "duration": 268,
    "start_time": "2022-04-24T12:04:37.486Z"
   },
   {
    "duration": 4,
    "start_time": "2022-04-24T12:04:37.757Z"
   },
   {
    "duration": 27,
    "start_time": "2022-04-24T12:04:37.764Z"
   },
   {
    "duration": 7,
    "start_time": "2022-04-24T12:04:37.793Z"
   },
   {
    "duration": 29,
    "start_time": "2022-04-24T12:04:37.802Z"
   },
   {
    "duration": 8,
    "start_time": "2022-04-24T12:04:37.834Z"
   },
   {
    "duration": 10,
    "start_time": "2022-04-24T12:04:37.845Z"
   },
   {
    "duration": 21,
    "start_time": "2022-04-24T12:04:37.858Z"
   },
   {
    "duration": 189,
    "start_time": "2022-04-24T12:04:37.882Z"
   },
   {
    "duration": 9,
    "start_time": "2022-04-24T12:04:38.074Z"
   },
   {
    "duration": 15,
    "start_time": "2022-04-24T12:04:38.086Z"
   },
   {
    "duration": 48,
    "start_time": "2022-04-24T12:04:38.103Z"
   },
   {
    "duration": 29,
    "start_time": "2022-04-24T12:04:38.154Z"
   },
   {
    "duration": 36,
    "start_time": "2022-04-24T12:04:38.186Z"
   },
   {
    "duration": 11,
    "start_time": "2022-04-24T12:04:38.224Z"
   },
   {
    "duration": 2023,
    "start_time": "2022-04-24T12:04:38.238Z"
   },
   {
    "duration": 1577,
    "start_time": "2022-04-24T12:04:40.264Z"
   },
   {
    "duration": 1987,
    "start_time": "2022-04-24T12:04:41.852Z"
   },
   {
    "duration": 1142,
    "start_time": "2022-04-24T12:04:43.841Z"
   },
   {
    "duration": 6,
    "start_time": "2022-04-24T12:04:44.987Z"
   },
   {
    "duration": 29,
    "start_time": "2022-04-24T12:04:44.996Z"
   },
   {
    "duration": 17,
    "start_time": "2022-04-24T12:04:45.028Z"
   },
   {
    "duration": 18,
    "start_time": "2022-04-24T12:04:45.047Z"
   },
   {
    "duration": 2217,
    "start_time": "2022-04-24T12:04:45.068Z"
   },
   {
    "duration": 7,
    "start_time": "2022-04-24T12:04:47.288Z"
   },
   {
    "duration": 769,
    "start_time": "2022-04-24T12:04:47.297Z"
   },
   {
    "duration": 16,
    "start_time": "2022-04-24T12:04:48.069Z"
   },
   {
    "duration": 11,
    "start_time": "2022-04-24T12:04:48.087Z"
   },
   {
    "duration": 469,
    "start_time": "2022-04-24T12:04:48.101Z"
   },
   {
    "duration": 5,
    "start_time": "2022-04-24T12:04:48.574Z"
   },
   {
    "duration": 7,
    "start_time": "2022-04-24T12:04:48.581Z"
   },
   {
    "duration": 7,
    "start_time": "2022-04-24T12:04:48.591Z"
   },
   {
    "duration": 6,
    "start_time": "2022-04-24T12:04:48.625Z"
   },
   {
    "duration": 7,
    "start_time": "2022-04-24T12:04:48.633Z"
   },
   {
    "duration": 26276,
    "start_time": "2022-04-24T12:04:48.643Z"
   },
   {
    "duration": 28023,
    "start_time": "2022-04-24T12:05:14.927Z"
   },
   {
    "duration": 392,
    "start_time": "2022-04-24T12:05:42.953Z"
   },
   {
    "duration": 0,
    "start_time": "2022-04-24T12:05:43.348Z"
   },
   {
    "duration": 0,
    "start_time": "2022-04-24T12:05:43.350Z"
   },
   {
    "duration": 0,
    "start_time": "2022-04-24T12:05:43.351Z"
   },
   {
    "duration": 0,
    "start_time": "2022-04-24T12:05:43.352Z"
   },
   {
    "duration": 0,
    "start_time": "2022-04-24T12:05:43.354Z"
   },
   {
    "duration": 0,
    "start_time": "2022-04-24T12:05:43.355Z"
   },
   {
    "duration": 0,
    "start_time": "2022-04-24T12:05:43.356Z"
   },
   {
    "duration": 0,
    "start_time": "2022-04-24T12:05:43.357Z"
   },
   {
    "duration": 4,
    "start_time": "2022-04-24T12:06:45.351Z"
   },
   {
    "duration": 10,
    "start_time": "2022-04-24T12:06:47.944Z"
   },
   {
    "duration": 11,
    "start_time": "2022-04-24T12:06:54.050Z"
   },
   {
    "duration": 639436,
    "start_time": "2022-04-24T12:06:54.064Z"
   },
   {
    "duration": 668055,
    "start_time": "2022-04-24T12:17:33.503Z"
   },
   {
    "duration": 4,
    "start_time": "2022-04-24T12:28:41.562Z"
   },
   {
    "duration": 15,
    "start_time": "2022-04-24T12:28:41.569Z"
   },
   {
    "duration": 2541,
    "start_time": "2022-04-24T12:28:41.587Z"
   },
   {
    "duration": 2607,
    "start_time": "2022-04-24T12:28:44.132Z"
   },
   {
    "duration": 14,
    "start_time": "2022-04-24T12:28:46.824Z"
   },
   {
    "duration": 4,
    "start_time": "2022-04-24T12:36:26.492Z"
   },
   {
    "duration": 5,
    "start_time": "2022-04-24T12:38:14.304Z"
   },
   {
    "duration": 5,
    "start_time": "2022-04-24T12:40:02.839Z"
   },
   {
    "duration": 45,
    "start_time": "2022-04-24T12:40:02.848Z"
   },
   {
    "duration": 0,
    "start_time": "2022-04-24T12:40:02.896Z"
   },
   {
    "duration": 0,
    "start_time": "2022-04-24T12:40:02.898Z"
   },
   {
    "duration": 7,
    "start_time": "2022-04-24T12:41:21.061Z"
   },
   {
    "duration": 2363,
    "start_time": "2022-04-24T12:41:21.071Z"
   },
   {
    "duration": 1887,
    "start_time": "2022-04-24T12:41:23.439Z"
   },
   {
    "duration": 6,
    "start_time": "2022-04-24T12:41:25.330Z"
   },
   {
    "duration": 3401,
    "start_time": "2022-04-24T12:58:57.593Z"
   },
   {
    "duration": 1109,
    "start_time": "2022-04-24T12:59:00.997Z"
   },
   {
    "duration": 72,
    "start_time": "2022-04-24T12:59:02.108Z"
   },
   {
    "duration": 66,
    "start_time": "2022-04-24T12:59:02.184Z"
   },
   {
    "duration": 291,
    "start_time": "2022-04-24T12:59:02.254Z"
   },
   {
    "duration": 44,
    "start_time": "2022-04-24T12:59:02.549Z"
   },
   {
    "duration": 54,
    "start_time": "2022-04-24T12:59:02.597Z"
   },
   {
    "duration": 51,
    "start_time": "2022-04-24T12:59:02.654Z"
   },
   {
    "duration": 45,
    "start_time": "2022-04-24T12:59:02.711Z"
   },
   {
    "duration": 34,
    "start_time": "2022-04-24T12:59:02.761Z"
   },
   {
    "duration": 234,
    "start_time": "2022-04-24T12:59:02.798Z"
   },
   {
    "duration": 12,
    "start_time": "2022-04-24T12:59:03.035Z"
   },
   {
    "duration": 21,
    "start_time": "2022-04-24T12:59:03.050Z"
   },
   {
    "duration": 11,
    "start_time": "2022-04-24T12:59:03.074Z"
   },
   {
    "duration": 37,
    "start_time": "2022-04-24T12:59:03.088Z"
   },
   {
    "duration": 14,
    "start_time": "2022-04-24T12:59:03.128Z"
   },
   {
    "duration": 11,
    "start_time": "2022-04-24T12:59:03.145Z"
   },
   {
    "duration": 17,
    "start_time": "2022-04-24T12:59:03.159Z"
   },
   {
    "duration": 167,
    "start_time": "2022-04-24T12:59:03.179Z"
   },
   {
    "duration": 7,
    "start_time": "2022-04-24T12:59:03.349Z"
   },
   {
    "duration": 17,
    "start_time": "2022-04-24T12:59:03.358Z"
   },
   {
    "duration": 63,
    "start_time": "2022-04-24T12:59:03.377Z"
   },
   {
    "duration": 28,
    "start_time": "2022-04-24T12:59:03.445Z"
   },
   {
    "duration": 27,
    "start_time": "2022-04-24T12:59:03.476Z"
   },
   {
    "duration": 21,
    "start_time": "2022-04-24T12:59:03.507Z"
   },
   {
    "duration": 2279,
    "start_time": "2022-04-24T12:59:03.532Z"
   },
   {
    "duration": 2397,
    "start_time": "2022-04-24T12:59:05.819Z"
   },
   {
    "duration": 2241,
    "start_time": "2022-04-24T12:59:08.229Z"
   },
   {
    "duration": 1578,
    "start_time": "2022-04-24T12:59:10.473Z"
   },
   {
    "duration": 11,
    "start_time": "2022-04-24T12:59:12.054Z"
   },
   {
    "duration": 33,
    "start_time": "2022-04-24T12:59:12.069Z"
   },
   {
    "duration": 11,
    "start_time": "2022-04-24T12:59:12.107Z"
   },
   {
    "duration": 17,
    "start_time": "2022-04-24T12:59:12.123Z"
   },
   {
    "duration": 2804,
    "start_time": "2022-04-24T12:59:12.144Z"
   },
   {
    "duration": 11,
    "start_time": "2022-04-24T12:59:14.951Z"
   },
   {
    "duration": 972,
    "start_time": "2022-04-24T12:59:14.965Z"
   },
   {
    "duration": 17,
    "start_time": "2022-04-24T12:59:15.940Z"
   },
   {
    "duration": 8,
    "start_time": "2022-04-24T12:59:15.961Z"
   },
   {
    "duration": 1571,
    "start_time": "2022-04-24T12:59:15.974Z"
   },
   {
    "duration": 6,
    "start_time": "2022-04-24T12:59:17.549Z"
   },
   {
    "duration": 64,
    "start_time": "2022-04-24T12:59:17.559Z"
   },
   {
    "duration": 5,
    "start_time": "2022-04-24T12:59:17.643Z"
   },
   {
    "duration": 11,
    "start_time": "2022-04-24T12:59:17.652Z"
   },
   {
    "duration": 14,
    "start_time": "2022-04-24T12:59:17.667Z"
   },
   {
    "duration": 30171,
    "start_time": "2022-04-24T12:59:17.725Z"
   },
   {
    "duration": 21299,
    "start_time": "2022-04-24T12:59:47.900Z"
   },
   {
    "duration": 6,
    "start_time": "2022-04-24T13:00:09.203Z"
   },
   {
    "duration": 13,
    "start_time": "2022-04-24T13:00:09.225Z"
   },
   {
    "duration": 709940,
    "start_time": "2022-04-24T13:00:09.241Z"
   },
   {
    "duration": 714915,
    "start_time": "2022-04-24T13:11:59.186Z"
   },
   {
    "duration": 5,
    "start_time": "2022-04-24T13:23:54.103Z"
   },
   {
    "duration": 27,
    "start_time": "2022-04-24T13:23:54.110Z"
   },
   {
    "duration": 3985,
    "start_time": "2022-04-24T13:23:54.140Z"
   },
   {
    "duration": 3300,
    "start_time": "2022-04-24T13:23:58.128Z"
   },
   {
    "duration": 7,
    "start_time": "2022-04-24T13:24:01.433Z"
   },
   {
    "duration": 98,
    "start_time": "2022-04-24T13:24:01.453Z"
   },
   {
    "duration": 2379,
    "start_time": "2022-04-24T13:24:01.554Z"
   },
   {
    "duration": 2396,
    "start_time": "2022-04-24T13:24:03.938Z"
   },
   {
    "duration": 12,
    "start_time": "2022-04-24T13:24:06.343Z"
   },
   {
    "duration": 2183,
    "start_time": "2022-04-24T13:26:41.098Z"
   },
   {
    "duration": 1206,
    "start_time": "2022-04-24T13:26:43.284Z"
   },
   {
    "duration": 55,
    "start_time": "2022-04-24T13:26:44.493Z"
   },
   {
    "duration": 26,
    "start_time": "2022-04-24T13:26:44.552Z"
   },
   {
    "duration": 212,
    "start_time": "2022-04-24T13:26:44.580Z"
   },
   {
    "duration": 53,
    "start_time": "2022-04-24T13:26:44.794Z"
   },
   {
    "duration": 25,
    "start_time": "2022-04-24T13:26:44.850Z"
   },
   {
    "duration": 77,
    "start_time": "2022-04-24T13:26:44.878Z"
   },
   {
    "duration": 50,
    "start_time": "2022-04-24T13:26:44.957Z"
   },
   {
    "duration": 27,
    "start_time": "2022-04-24T13:26:45.034Z"
   },
   {
    "duration": 190,
    "start_time": "2022-04-24T13:26:45.064Z"
   },
   {
    "duration": 4,
    "start_time": "2022-04-24T13:26:45.256Z"
   },
   {
    "duration": 185,
    "start_time": "2022-04-24T13:26:45.262Z"
   },
   {
    "duration": 0,
    "start_time": "2022-04-24T13:26:45.451Z"
   },
   {
    "duration": 0,
    "start_time": "2022-04-24T13:26:45.453Z"
   },
   {
    "duration": 0,
    "start_time": "2022-04-24T13:26:45.454Z"
   },
   {
    "duration": 0,
    "start_time": "2022-04-24T13:26:45.455Z"
   },
   {
    "duration": 0,
    "start_time": "2022-04-24T13:26:45.457Z"
   },
   {
    "duration": 0,
    "start_time": "2022-04-24T13:26:45.458Z"
   },
   {
    "duration": 0,
    "start_time": "2022-04-24T13:26:45.460Z"
   },
   {
    "duration": 0,
    "start_time": "2022-04-24T13:26:45.462Z"
   },
   {
    "duration": 0,
    "start_time": "2022-04-24T13:26:45.463Z"
   },
   {
    "duration": 0,
    "start_time": "2022-04-24T13:26:45.464Z"
   },
   {
    "duration": 0,
    "start_time": "2022-04-24T13:26:45.466Z"
   },
   {
    "duration": 0,
    "start_time": "2022-04-24T13:26:45.467Z"
   },
   {
    "duration": 0,
    "start_time": "2022-04-24T13:26:45.469Z"
   },
   {
    "duration": 0,
    "start_time": "2022-04-24T13:26:45.470Z"
   },
   {
    "duration": 0,
    "start_time": "2022-04-24T13:26:45.472Z"
   },
   {
    "duration": 0,
    "start_time": "2022-04-24T13:26:45.473Z"
   },
   {
    "duration": 0,
    "start_time": "2022-04-24T13:26:45.475Z"
   },
   {
    "duration": 0,
    "start_time": "2022-04-24T13:26:45.476Z"
   },
   {
    "duration": 0,
    "start_time": "2022-04-24T13:26:45.477Z"
   },
   {
    "duration": 0,
    "start_time": "2022-04-24T13:26:45.525Z"
   },
   {
    "duration": 0,
    "start_time": "2022-04-24T13:26:45.527Z"
   },
   {
    "duration": 0,
    "start_time": "2022-04-24T13:26:45.538Z"
   },
   {
    "duration": 0,
    "start_time": "2022-04-24T13:26:45.542Z"
   },
   {
    "duration": 0,
    "start_time": "2022-04-24T13:26:45.544Z"
   },
   {
    "duration": 0,
    "start_time": "2022-04-24T13:26:45.545Z"
   },
   {
    "duration": 0,
    "start_time": "2022-04-24T13:26:45.547Z"
   },
   {
    "duration": 0,
    "start_time": "2022-04-24T13:26:45.549Z"
   },
   {
    "duration": 0,
    "start_time": "2022-04-24T13:26:45.550Z"
   },
   {
    "duration": 0,
    "start_time": "2022-04-24T13:26:45.552Z"
   },
   {
    "duration": 0,
    "start_time": "2022-04-24T13:26:45.553Z"
   },
   {
    "duration": 0,
    "start_time": "2022-04-24T13:26:45.555Z"
   },
   {
    "duration": 0,
    "start_time": "2022-04-24T13:26:45.556Z"
   },
   {
    "duration": 0,
    "start_time": "2022-04-24T13:26:45.559Z"
   },
   {
    "duration": 0,
    "start_time": "2022-04-24T13:26:45.560Z"
   },
   {
    "duration": 0,
    "start_time": "2022-04-24T13:26:45.561Z"
   },
   {
    "duration": 0,
    "start_time": "2022-04-24T13:26:45.562Z"
   },
   {
    "duration": 0,
    "start_time": "2022-04-24T13:26:45.563Z"
   },
   {
    "duration": 0,
    "start_time": "2022-04-24T13:26:45.565Z"
   },
   {
    "duration": 0,
    "start_time": "2022-04-24T13:26:45.567Z"
   },
   {
    "duration": 0,
    "start_time": "2022-04-24T13:26:45.569Z"
   },
   {
    "duration": 0,
    "start_time": "2022-04-24T13:26:45.570Z"
   },
   {
    "duration": 0,
    "start_time": "2022-04-24T13:26:45.572Z"
   },
   {
    "duration": 0,
    "start_time": "2022-04-24T13:26:45.573Z"
   },
   {
    "duration": 0,
    "start_time": "2022-04-24T13:26:45.574Z"
   },
   {
    "duration": 4444,
    "start_time": "2022-04-24T13:28:14.587Z"
   },
   {
    "duration": 1150,
    "start_time": "2022-04-24T13:28:19.035Z"
   },
   {
    "duration": 68,
    "start_time": "2022-04-24T13:28:20.188Z"
   },
   {
    "duration": 43,
    "start_time": "2022-04-24T13:28:20.259Z"
   },
   {
    "duration": 281,
    "start_time": "2022-04-24T13:28:20.306Z"
   },
   {
    "duration": 60,
    "start_time": "2022-04-24T13:28:20.590Z"
   },
   {
    "duration": 30,
    "start_time": "2022-04-24T13:28:20.653Z"
   },
   {
    "duration": 73,
    "start_time": "2022-04-24T13:28:20.686Z"
   },
   {
    "duration": 75,
    "start_time": "2022-04-24T13:28:20.762Z"
   },
   {
    "duration": 38,
    "start_time": "2022-04-24T13:28:20.840Z"
   },
   {
    "duration": 203,
    "start_time": "2022-04-24T13:28:20.881Z"
   },
   {
    "duration": 5,
    "start_time": "2022-04-24T13:28:21.087Z"
   },
   {
    "duration": 26,
    "start_time": "2022-04-24T13:28:21.094Z"
   },
   {
    "duration": 34,
    "start_time": "2022-04-24T13:28:21.126Z"
   },
   {
    "duration": 32,
    "start_time": "2022-04-24T13:28:21.164Z"
   },
   {
    "duration": 28,
    "start_time": "2022-04-24T13:28:21.200Z"
   },
   {
    "duration": 150,
    "start_time": "2022-04-24T13:28:21.232Z"
   },
   {
    "duration": 7,
    "start_time": "2022-04-24T13:28:21.384Z"
   },
   {
    "duration": 36,
    "start_time": "2022-04-24T13:28:21.394Z"
   },
   {
    "duration": 62,
    "start_time": "2022-04-24T13:28:21.433Z"
   },
   {
    "duration": 31,
    "start_time": "2022-04-24T13:28:21.497Z"
   },
   {
    "duration": 29,
    "start_time": "2022-04-24T13:28:21.531Z"
   },
   {
    "duration": 19,
    "start_time": "2022-04-24T13:28:21.563Z"
   },
   {
    "duration": 2262,
    "start_time": "2022-04-24T13:28:21.585Z"
   },
   {
    "duration": 1831,
    "start_time": "2022-04-24T13:28:23.850Z"
   },
   {
    "duration": 2065,
    "start_time": "2022-04-24T13:28:25.684Z"
   },
   {
    "duration": 1211,
    "start_time": "2022-04-24T13:28:27.752Z"
   },
   {
    "duration": 8,
    "start_time": "2022-04-24T13:28:28.967Z"
   },
   {
    "duration": 20,
    "start_time": "2022-04-24T13:28:28.978Z"
   },
   {
    "duration": 27,
    "start_time": "2022-04-24T13:28:29.001Z"
   },
   {
    "duration": 9,
    "start_time": "2022-04-24T13:28:29.031Z"
   },
   {
    "duration": 2129,
    "start_time": "2022-04-24T13:28:29.043Z"
   },
   {
    "duration": 8,
    "start_time": "2022-04-24T13:28:31.176Z"
   },
   {
    "duration": 971,
    "start_time": "2022-04-24T13:28:31.187Z"
   },
   {
    "duration": 14,
    "start_time": "2022-04-24T13:28:32.160Z"
   },
   {
    "duration": 11,
    "start_time": "2022-04-24T13:28:32.178Z"
   },
   {
    "duration": 694,
    "start_time": "2022-04-24T13:28:32.192Z"
   },
   {
    "duration": 5,
    "start_time": "2022-04-24T13:28:32.889Z"
   },
   {
    "duration": 10,
    "start_time": "2022-04-24T13:28:32.897Z"
   },
   {
    "duration": 11,
    "start_time": "2022-04-24T13:28:32.925Z"
   },
   {
    "duration": 24,
    "start_time": "2022-04-24T13:28:32.947Z"
   },
   {
    "duration": 22,
    "start_time": "2022-04-24T13:28:32.974Z"
   },
   {
    "duration": 23865,
    "start_time": "2022-04-24T13:28:32.998Z"
   },
   {
    "duration": 24481,
    "start_time": "2022-04-24T13:28:56.866Z"
   },
   {
    "duration": 6,
    "start_time": "2022-04-24T13:29:21.351Z"
   },
   {
    "duration": 20,
    "start_time": "2022-04-24T13:29:21.360Z"
   },
   {
    "duration": 655291,
    "start_time": "2022-04-24T13:29:21.384Z"
   },
   {
    "duration": 671751,
    "start_time": "2022-04-24T13:40:16.677Z"
   },
   {
    "duration": 8,
    "start_time": "2022-04-24T13:51:28.431Z"
   },
   {
    "duration": 29,
    "start_time": "2022-04-24T13:51:28.445Z"
   },
   {
    "duration": 4986,
    "start_time": "2022-04-24T13:51:28.477Z"
   },
   {
    "duration": 3214,
    "start_time": "2022-04-24T13:51:33.530Z"
   },
   {
    "duration": 63,
    "start_time": "2022-04-24T13:51:36.764Z"
   },
   {
    "duration": 56,
    "start_time": "2022-04-24T13:51:36.831Z"
   },
   {
    "duration": 2876,
    "start_time": "2022-04-24T13:51:36.890Z"
   },
   {
    "duration": 2367,
    "start_time": "2022-04-24T13:51:39.788Z"
   },
   {
    "duration": 17,
    "start_time": "2022-04-24T13:51:42.173Z"
   },
   {
    "duration": 45,
    "start_time": "2022-04-25T13:14:36.262Z"
   },
   {
    "duration": 1587,
    "start_time": "2022-04-25T13:19:07.428Z"
   },
   {
    "duration": 621,
    "start_time": "2022-04-25T13:19:09.017Z"
   },
   {
    "duration": 31,
    "start_time": "2022-04-25T13:19:09.639Z"
   },
   {
    "duration": 16,
    "start_time": "2022-04-25T13:19:09.672Z"
   },
   {
    "duration": 126,
    "start_time": "2022-04-25T13:19:09.690Z"
   },
   {
    "duration": 20,
    "start_time": "2022-04-25T13:19:09.817Z"
   },
   {
    "duration": 13,
    "start_time": "2022-04-25T13:19:09.847Z"
   },
   {
    "duration": 20,
    "start_time": "2022-04-25T13:19:09.861Z"
   },
   {
    "duration": 21,
    "start_time": "2022-04-25T13:19:09.882Z"
   },
   {
    "duration": 44,
    "start_time": "2022-04-25T13:19:09.904Z"
   },
   {
    "duration": 88,
    "start_time": "2022-04-25T13:19:09.949Z"
   },
   {
    "duration": 3,
    "start_time": "2022-04-25T13:19:10.048Z"
   },
   {
    "duration": 10,
    "start_time": "2022-04-25T13:19:10.053Z"
   },
   {
    "duration": 8,
    "start_time": "2022-04-25T13:19:10.066Z"
   },
   {
    "duration": 8,
    "start_time": "2022-04-25T13:19:10.076Z"
   },
   {
    "duration": 3,
    "start_time": "2022-04-25T13:19:10.086Z"
   },
   {
    "duration": 103,
    "start_time": "2022-04-25T13:19:10.091Z"
   },
   {
    "duration": 5,
    "start_time": "2022-04-25T13:19:10.195Z"
   },
   {
    "duration": 7,
    "start_time": "2022-04-25T13:19:10.201Z"
   },
   {
    "duration": 15,
    "start_time": "2022-04-25T13:19:10.210Z"
   },
   {
    "duration": 27,
    "start_time": "2022-04-25T13:19:10.227Z"
   },
   {
    "duration": 16,
    "start_time": "2022-04-25T13:19:10.256Z"
   },
   {
    "duration": 6,
    "start_time": "2022-04-25T13:19:10.273Z"
   },
   {
    "duration": 1324,
    "start_time": "2022-04-25T13:19:10.280Z"
   },
   {
    "duration": 1180,
    "start_time": "2022-04-25T13:19:11.606Z"
   },
   {
    "duration": 1193,
    "start_time": "2022-04-25T13:19:12.788Z"
   },
   {
    "duration": 601,
    "start_time": "2022-04-25T13:19:13.982Z"
   },
   {
    "duration": 4,
    "start_time": "2022-04-25T13:19:14.584Z"
   },
   {
    "duration": 9,
    "start_time": "2022-04-25T13:19:14.589Z"
   },
   {
    "duration": 5,
    "start_time": "2022-04-25T13:19:14.600Z"
   },
   {
    "duration": 5,
    "start_time": "2022-04-25T13:19:14.607Z"
   },
   {
    "duration": 1494,
    "start_time": "2022-04-25T13:19:14.613Z"
   },
   {
    "duration": 5,
    "start_time": "2022-04-25T13:19:16.109Z"
   },
   {
    "duration": 454,
    "start_time": "2022-04-25T13:19:16.115Z"
   },
   {
    "duration": 10,
    "start_time": "2022-04-25T13:19:16.571Z"
   },
   {
    "duration": 4,
    "start_time": "2022-04-25T13:19:16.582Z"
   },
   {
    "duration": 263,
    "start_time": "2022-04-25T13:19:16.587Z"
   },
   {
    "duration": 3,
    "start_time": "2022-04-25T13:19:16.851Z"
   },
   {
    "duration": 5,
    "start_time": "2022-04-25T13:19:16.856Z"
   },
   {
    "duration": 5,
    "start_time": "2022-04-25T13:19:16.862Z"
   },
   {
    "duration": 7,
    "start_time": "2022-04-25T13:19:16.872Z"
   },
   {
    "duration": 5,
    "start_time": "2022-04-25T13:19:16.880Z"
   },
   {
    "duration": 14482,
    "start_time": "2022-04-25T13:19:16.886Z"
   },
   {
    "duration": 14527,
    "start_time": "2022-04-25T13:19:31.369Z"
   },
   {
    "duration": 4,
    "start_time": "2022-04-25T13:19:45.898Z"
   },
   {
    "duration": 6,
    "start_time": "2022-04-25T13:19:45.904Z"
   },
   {
    "duration": 421923,
    "start_time": "2022-04-25T13:19:45.911Z"
   },
   {
    "duration": 420722,
    "start_time": "2022-04-25T13:26:47.836Z"
   },
   {
    "duration": 4,
    "start_time": "2022-04-25T13:33:48.560Z"
   },
   {
    "duration": 4,
    "start_time": "2022-04-25T13:33:48.567Z"
   },
   {
    "duration": 1375,
    "start_time": "2022-04-25T13:33:48.573Z"
   },
   {
    "duration": 1502,
    "start_time": "2022-04-25T13:33:49.950Z"
   },
   {
    "duration": 4,
    "start_time": "2022-04-25T13:33:51.454Z"
   },
   {
    "duration": 13,
    "start_time": "2022-04-25T13:33:51.549Z"
   },
   {
    "duration": 1109,
    "start_time": "2022-04-25T13:33:51.648Z"
   },
   {
    "duration": 1095,
    "start_time": "2022-04-25T13:33:52.759Z"
   },
   {
    "duration": 92,
    "start_time": "2022-04-25T13:33:53.857Z"
   },
   {
    "duration": 3,
    "start_time": "2022-04-25T13:38:53.714Z"
   },
   {
    "duration": 1661,
    "start_time": "2022-04-25T13:39:03.172Z"
   },
   {
    "duration": 681,
    "start_time": "2022-04-25T13:39:04.835Z"
   },
   {
    "duration": 30,
    "start_time": "2022-04-25T13:39:05.518Z"
   },
   {
    "duration": 17,
    "start_time": "2022-04-25T13:39:05.550Z"
   },
   {
    "duration": 124,
    "start_time": "2022-04-25T13:39:05.569Z"
   },
   {
    "duration": 23,
    "start_time": "2022-04-25T13:39:05.694Z"
   },
   {
    "duration": 31,
    "start_time": "2022-04-25T13:39:05.719Z"
   },
   {
    "duration": 22,
    "start_time": "2022-04-25T13:39:05.753Z"
   },
   {
    "duration": 23,
    "start_time": "2022-04-25T13:39:05.776Z"
   },
   {
    "duration": 47,
    "start_time": "2022-04-25T13:39:05.801Z"
   },
   {
    "duration": 87,
    "start_time": "2022-04-25T13:39:05.850Z"
   },
   {
    "duration": 3,
    "start_time": "2022-04-25T13:39:05.947Z"
   },
   {
    "duration": 9,
    "start_time": "2022-04-25T13:39:05.952Z"
   },
   {
    "duration": 3,
    "start_time": "2022-04-25T13:39:05.963Z"
   },
   {
    "duration": 15,
    "start_time": "2022-04-25T13:39:05.968Z"
   },
   {
    "duration": 4,
    "start_time": "2022-04-25T13:39:05.985Z"
   },
   {
    "duration": 114,
    "start_time": "2022-04-25T13:39:05.990Z"
   },
   {
    "duration": 6,
    "start_time": "2022-04-25T13:39:06.105Z"
   },
   {
    "duration": 25,
    "start_time": "2022-04-25T13:39:06.113Z"
   },
   {
    "duration": 31,
    "start_time": "2022-04-25T13:39:06.140Z"
   },
   {
    "duration": 21,
    "start_time": "2022-04-25T13:39:06.175Z"
   },
   {
    "duration": 17,
    "start_time": "2022-04-25T13:39:06.198Z"
   },
   {
    "duration": 6,
    "start_time": "2022-04-25T13:39:06.217Z"
   },
   {
    "duration": 1759,
    "start_time": "2022-04-25T13:39:06.225Z"
   },
   {
    "duration": 1539,
    "start_time": "2022-04-25T13:39:07.987Z"
   },
   {
    "duration": 1379,
    "start_time": "2022-04-25T13:39:09.529Z"
   },
   {
    "duration": 832,
    "start_time": "2022-04-25T13:39:10.911Z"
   },
   {
    "duration": 5,
    "start_time": "2022-04-25T13:39:11.751Z"
   },
   {
    "duration": 6,
    "start_time": "2022-04-25T13:39:11.758Z"
   },
   {
    "duration": 5,
    "start_time": "2022-04-25T13:39:11.766Z"
   },
   {
    "duration": 7,
    "start_time": "2022-04-25T13:39:11.773Z"
   },
   {
    "duration": 1772,
    "start_time": "2022-04-25T13:39:11.782Z"
   },
   {
    "duration": 6,
    "start_time": "2022-04-25T13:39:13.557Z"
   },
   {
    "duration": 642,
    "start_time": "2022-04-25T13:39:13.565Z"
   },
   {
    "duration": 13,
    "start_time": "2022-04-25T13:39:14.210Z"
   },
   {
    "duration": 6,
    "start_time": "2022-04-25T13:39:14.225Z"
   },
   {
    "duration": 403,
    "start_time": "2022-04-25T13:39:14.249Z"
   },
   {
    "duration": 4,
    "start_time": "2022-04-25T13:39:14.655Z"
   },
   {
    "duration": 8,
    "start_time": "2022-04-25T13:39:14.661Z"
   },
   {
    "duration": 6,
    "start_time": "2022-04-25T13:39:14.671Z"
   },
   {
    "duration": 11,
    "start_time": "2022-04-25T13:39:14.679Z"
   },
   {
    "duration": 6,
    "start_time": "2022-04-25T13:39:14.692Z"
   },
   {
    "duration": 18907,
    "start_time": "2022-04-25T13:39:14.700Z"
   },
   {
    "duration": 18538,
    "start_time": "2022-04-25T13:39:33.610Z"
   },
   {
    "duration": 5,
    "start_time": "2022-04-25T13:39:52.150Z"
   },
   {
    "duration": 10,
    "start_time": "2022-04-25T13:39:52.156Z"
   },
   {
    "duration": 418015,
    "start_time": "2022-04-25T13:39:52.167Z"
   },
   {
    "duration": 405145,
    "start_time": "2022-04-25T13:46:50.184Z"
   },
   {
    "duration": 3,
    "start_time": "2022-04-25T13:53:35.331Z"
   },
   {
    "duration": 4,
    "start_time": "2022-04-25T13:53:35.347Z"
   },
   {
    "duration": 1797,
    "start_time": "2022-04-25T13:53:35.352Z"
   },
   {
    "duration": 1402,
    "start_time": "2022-04-25T13:53:37.151Z"
   },
   {
    "duration": 94,
    "start_time": "2022-04-25T13:53:38.555Z"
   },
   {
    "duration": 13,
    "start_time": "2022-04-25T13:53:38.651Z"
   },
   {
    "duration": 1105,
    "start_time": "2022-04-25T13:53:38.747Z"
   },
   {
    "duration": 1995,
    "start_time": "2022-04-25T13:53:39.856Z"
   },
   {
    "duration": 95,
    "start_time": "2022-04-25T13:53:41.853Z"
   },
   {
    "duration": 115,
    "start_time": "2022-04-25T14:09:16.946Z"
   },
   {
    "duration": 2225,
    "start_time": "2022-04-25T14:13:12.924Z"
   },
   {
    "duration": 3630,
    "start_time": "2022-04-25T14:14:13.068Z"
   },
   {
    "duration": 4,
    "start_time": "2022-04-25T14:16:43.215Z"
   },
   {
    "duration": 2105,
    "start_time": "2022-04-25T14:18:46.352Z"
   },
   {
    "duration": 2503,
    "start_time": "2022-04-25T14:18:49.171Z"
   },
   {
    "duration": 4,
    "start_time": "2022-04-25T14:31:31.724Z"
   },
   {
    "duration": 8,
    "start_time": "2022-04-25T14:37:27.876Z"
   },
   {
    "duration": 11,
    "start_time": "2022-04-25T14:40:47.669Z"
   },
   {
    "duration": 5,
    "start_time": "2022-04-25T14:41:04.074Z"
   },
   {
    "duration": 34,
    "start_time": "2022-04-25T14:43:46.612Z"
   },
   {
    "duration": 3,
    "start_time": "2022-04-25T14:46:00.306Z"
   },
   {
    "duration": 46,
    "start_time": "2022-04-25T14:46:01.995Z"
   },
   {
    "duration": 6,
    "start_time": "2022-04-25T14:47:43.653Z"
   },
   {
    "duration": 46,
    "start_time": "2022-04-25T14:47:45.836Z"
   },
   {
    "duration": 16,
    "start_time": "2022-04-25T14:48:45.959Z"
   },
   {
    "duration": 7,
    "start_time": "2022-04-25T14:50:49.512Z"
   },
   {
    "duration": 6,
    "start_time": "2022-04-25T14:55:19.846Z"
   },
   {
    "duration": 15,
    "start_time": "2022-04-25T14:55:23.452Z"
   },
   {
    "duration": 5,
    "start_time": "2022-04-25T14:56:44.772Z"
   },
   {
    "duration": 10,
    "start_time": "2022-04-25T14:56:46.206Z"
   },
   {
    "duration": 7,
    "start_time": "2022-04-25T14:57:07.218Z"
   },
   {
    "duration": 1533,
    "start_time": "2022-04-25T15:02:08.850Z"
   },
   {
    "duration": 662,
    "start_time": "2022-04-25T15:02:10.385Z"
   },
   {
    "duration": 27,
    "start_time": "2022-04-25T15:02:11.049Z"
   },
   {
    "duration": 17,
    "start_time": "2022-04-25T15:02:11.078Z"
   },
   {
    "duration": 136,
    "start_time": "2022-04-25T15:02:11.097Z"
   },
   {
    "duration": 26,
    "start_time": "2022-04-25T15:02:11.235Z"
   },
   {
    "duration": 14,
    "start_time": "2022-04-25T15:02:11.263Z"
   },
   {
    "duration": 21,
    "start_time": "2022-04-25T15:02:11.278Z"
   },
   {
    "duration": 51,
    "start_time": "2022-04-25T15:02:11.300Z"
   },
   {
    "duration": 18,
    "start_time": "2022-04-25T15:02:11.353Z"
   },
   {
    "duration": 122,
    "start_time": "2022-04-25T15:02:11.372Z"
   },
   {
    "duration": 3,
    "start_time": "2022-04-25T15:02:11.495Z"
   },
   {
    "duration": 10,
    "start_time": "2022-04-25T15:02:11.499Z"
   },
   {
    "duration": 3,
    "start_time": "2022-04-25T15:02:11.512Z"
   },
   {
    "duration": 33,
    "start_time": "2022-04-25T15:02:11.517Z"
   },
   {
    "duration": 4,
    "start_time": "2022-04-25T15:02:11.552Z"
   },
   {
    "duration": 104,
    "start_time": "2022-04-25T15:02:11.558Z"
   },
   {
    "duration": 6,
    "start_time": "2022-04-25T15:02:11.663Z"
   },
   {
    "duration": 5,
    "start_time": "2022-04-25T15:02:11.672Z"
   },
   {
    "duration": 21,
    "start_time": "2022-04-25T15:02:11.679Z"
   },
   {
    "duration": 18,
    "start_time": "2022-04-25T15:02:11.703Z"
   },
   {
    "duration": 21,
    "start_time": "2022-04-25T15:02:11.748Z"
   },
   {
    "duration": 8,
    "start_time": "2022-04-25T15:02:11.771Z"
   },
   {
    "duration": 1559,
    "start_time": "2022-04-25T15:02:11.781Z"
   },
   {
    "duration": 1473,
    "start_time": "2022-04-25T15:02:13.343Z"
   },
   {
    "duration": 1414,
    "start_time": "2022-04-25T15:02:14.818Z"
   },
   {
    "duration": 913,
    "start_time": "2022-04-25T15:02:16.234Z"
   },
   {
    "duration": 5,
    "start_time": "2022-04-25T15:02:17.150Z"
   },
   {
    "duration": 8,
    "start_time": "2022-04-25T15:02:17.157Z"
   },
   {
    "duration": 5,
    "start_time": "2022-04-25T15:02:17.167Z"
   },
   {
    "duration": 6,
    "start_time": "2022-04-25T15:02:17.174Z"
   },
   {
    "duration": 1912,
    "start_time": "2022-04-25T15:02:17.182Z"
   },
   {
    "duration": 5,
    "start_time": "2022-04-25T15:02:19.096Z"
   },
   {
    "duration": 589,
    "start_time": "2022-04-25T15:02:19.103Z"
   },
   {
    "duration": 14,
    "start_time": "2022-04-25T15:02:19.694Z"
   },
   {
    "duration": 5,
    "start_time": "2022-04-25T15:02:19.710Z"
   },
   {
    "duration": 435,
    "start_time": "2022-04-25T15:02:19.717Z"
   },
   {
    "duration": 4,
    "start_time": "2022-04-25T15:02:20.154Z"
   },
   {
    "duration": 8,
    "start_time": "2022-04-25T15:02:20.160Z"
   },
   {
    "duration": 6,
    "start_time": "2022-04-25T15:02:20.170Z"
   },
   {
    "duration": 9,
    "start_time": "2022-04-25T15:02:20.181Z"
   },
   {
    "duration": 8,
    "start_time": "2022-04-25T15:02:20.192Z"
   },
   {
    "duration": 19457,
    "start_time": "2022-04-25T15:02:20.202Z"
   },
   {
    "duration": 18424,
    "start_time": "2022-04-25T15:02:39.661Z"
   },
   {
    "duration": 4,
    "start_time": "2022-04-25T15:02:58.087Z"
   },
   {
    "duration": 8,
    "start_time": "2022-04-25T15:02:58.094Z"
   },
   {
    "duration": 489976,
    "start_time": "2022-04-25T15:02:58.104Z"
   },
   {
    "duration": 455654,
    "start_time": "2022-04-25T15:11:08.082Z"
   },
   {
    "duration": 12,
    "start_time": "2022-04-25T15:18:43.738Z"
   },
   {
    "duration": 5,
    "start_time": "2022-04-25T15:18:43.751Z"
   },
   {
    "duration": 1693,
    "start_time": "2022-04-25T15:18:43.758Z"
   },
   {
    "duration": 1705,
    "start_time": "2022-04-25T15:18:45.454Z"
   },
   {
    "duration": 87,
    "start_time": "2022-04-25T15:18:47.162Z"
   },
   {
    "duration": 7,
    "start_time": "2022-04-25T15:18:47.251Z"
   },
   {
    "duration": 2241,
    "start_time": "2022-04-25T15:18:47.260Z"
   },
   {
    "duration": 2817,
    "start_time": "2022-04-25T15:18:49.503Z"
   },
   {
    "duration": 4,
    "start_time": "2022-04-25T15:18:52.321Z"
   },
   {
    "duration": 1430,
    "start_time": "2022-04-25T15:18:52.327Z"
   },
   {
    "duration": 1401,
    "start_time": "2022-04-25T15:18:53.847Z"
   },
   {
    "duration": 3,
    "start_time": "2022-04-25T15:18:55.250Z"
   },
   {
    "duration": 9,
    "start_time": "2022-04-25T15:18:55.254Z"
   },
   {
    "duration": 7,
    "start_time": "2022-04-25T15:18:55.265Z"
   }
  ],
  "kernelspec": {
   "display_name": "Python 3 (ipykernel)",
   "language": "python",
   "name": "python3"
  },
  "language_info": {
   "codemirror_mode": {
    "name": "ipython",
    "version": 3
   },
   "file_extension": ".py",
   "mimetype": "text/x-python",
   "name": "python",
   "nbconvert_exporter": "python",
   "pygments_lexer": "ipython3",
   "version": "3.9.12"
  },
  "toc": {
   "base_numbering": 1,
   "nav_menu": {},
   "number_sections": true,
   "sideBar": true,
   "skip_h1_title": true,
   "title_cell": "Содержание",
   "title_sidebar": "Contents",
   "toc_cell": true,
   "toc_position": {
    "height": "calc(100% - 180px)",
    "left": "10px",
    "top": "150px",
    "width": "261.188px"
   },
   "toc_section_display": true,
   "toc_window_display": true
  }
 },
 "nbformat": 4,
 "nbformat_minor": 2
}
