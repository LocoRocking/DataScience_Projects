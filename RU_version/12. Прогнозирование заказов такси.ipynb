{
 "cells": [
  {
   "cell_type": "markdown",
   "metadata": {},
   "source": [
    "#  Прогнозирование заказов такси"
   ]
  },
  {
   "cell_type": "markdown",
   "metadata": {},
   "source": [
    "Компания «Чётенькое такси» собрала исторические данные о заказах такси в аэропортах. Чтобы привлекать больше водителей в период пиковой нагрузки, нужно спрогнозировать количество заказов такси на следующий час. Постройте модель для такого предсказания.\n",
    "\n",
    "Значение метрики *RMSE* на тестовой выборке должно быть не больше 48.\n",
    "\n",
    "Вам нужно:\n",
    "\n",
    "1. Загрузить данные и выполнить их ресемплирование по одному часу.\n",
    "2. Проанализировать данные.\n",
    "3. Обучить разные модели с различными гиперпараметрами. Сделать тестовую выборку размером 10% от исходных данных.\n",
    "4. Проверить данные на тестовой выборке и сделать выводы.\n",
    "\n",
    "\n",
    "Данные лежат в файле `taxi.csv`. Количество заказов находится в столбце `num_orders` (от англ. *number of orders*, «число заказов»)."
   ]
  },
  {
   "cell_type": "markdown",
   "metadata": {},
   "source": [
    "<font size=3><b>Шаги по выполнению проекта</b></font>\n",
    "\n",
    "1. Загрузить данные и выполнить их ресемплирование по одному часу.\n",
    "2. Проанализировать данные.\n",
    "3. Обучить разные модели с различными гиперпараметрами. Сделать тестовую выборку размером 10% от исходных данных.\n",
    "4. Проверить данные на тестовой выборке и сделать выводы."
   ]
  },
  {
   "cell_type": "markdown",
   "metadata": {},
   "source": [
    "## Подготовка"
   ]
  },
  {
   "cell_type": "code",
   "execution_count": 1,
   "metadata": {},
   "outputs": [],
   "source": [
    "#загрузим необходимые библиотеки\n",
    "import pandas as pd\n",
    "import numpy as np\n",
    "import matplotlib.pyplot as plt\n",
    "\n",
    "from statsmodels.tsa.seasonal import seasonal_decompose\n",
    "\n",
    "from sklearn.model_selection import train_test_split\n",
    "from sklearn.model_selection import GridSearchCV\n",
    "from sklearn.model_selection import TimeSeriesSplit\n",
    "from sklearn.metrics import mean_squared_error\n",
    "\n",
    "from catboost import CatBoostRegressor\n",
    "from lightgbm import LGBMRegressor\n",
    "from sklearn.ensemble import RandomForestRegressor\n",
    "from sklearn.linear_model import LinearRegression\n",
    "\n",
    "import warnings\n",
    "warnings.filterwarnings('ignore')"
   ]
  },
  {
   "cell_type": "code",
   "execution_count": 2,
   "metadata": {},
   "outputs": [],
   "source": [
    "#сохраним датасет и установим индекс таблицы равным столбцу datetime\n",
    "try:\n",
    "    df_taxi = pd.read_csv('/datasets/taxi.csv', index_col='datetime', parse_dates=[0])\n",
    "except FileNotFoundError:\n",
    "    print(\"File not found.\")\n",
    "except pd.errors.EmptyDataError:\n",
    "    print(\"No data\")\n",
    "except pd.errors.ParserError:\n",
    "    print(\"Parse error\")\n",
    "except Exception:\n",
    "    print(\"Some other exception\")"
   ]
  },
  {
   "cell_type": "code",
   "execution_count": 3,
   "metadata": {},
   "outputs": [
    {
     "data": {
      "text/html": [
       "<div>\n",
       "<style scoped>\n",
       "    .dataframe tbody tr th:only-of-type {\n",
       "        vertical-align: middle;\n",
       "    }\n",
       "\n",
       "    .dataframe tbody tr th {\n",
       "        vertical-align: top;\n",
       "    }\n",
       "\n",
       "    .dataframe thead th {\n",
       "        text-align: right;\n",
       "    }\n",
       "</style>\n",
       "<table border=\"1\" class=\"dataframe\">\n",
       "  <thead>\n",
       "    <tr style=\"text-align: right;\">\n",
       "      <th></th>\n",
       "      <th>num_orders</th>\n",
       "    </tr>\n",
       "    <tr>\n",
       "      <th>datetime</th>\n",
       "      <th></th>\n",
       "    </tr>\n",
       "  </thead>\n",
       "  <tbody>\n",
       "    <tr>\n",
       "      <th>2018-03-01 00:00:00</th>\n",
       "      <td>9</td>\n",
       "    </tr>\n",
       "    <tr>\n",
       "      <th>2018-03-01 00:10:00</th>\n",
       "      <td>14</td>\n",
       "    </tr>\n",
       "    <tr>\n",
       "      <th>2018-03-01 00:20:00</th>\n",
       "      <td>28</td>\n",
       "    </tr>\n",
       "    <tr>\n",
       "      <th>2018-03-01 00:30:00</th>\n",
       "      <td>20</td>\n",
       "    </tr>\n",
       "    <tr>\n",
       "      <th>2018-03-01 00:40:00</th>\n",
       "      <td>32</td>\n",
       "    </tr>\n",
       "  </tbody>\n",
       "</table>\n",
       "</div>"
      ],
      "text/plain": [
       "                     num_orders\n",
       "datetime                       \n",
       "2018-03-01 00:00:00           9\n",
       "2018-03-01 00:10:00          14\n",
       "2018-03-01 00:20:00          28\n",
       "2018-03-01 00:30:00          20\n",
       "2018-03-01 00:40:00          32"
      ]
     },
     "execution_count": 3,
     "metadata": {},
     "output_type": "execute_result"
    }
   ],
   "source": [
    "#отсортируем индекс таблицы и ознакомимся с датасетом\n",
    "df_taxi.sort_index(inplace=True)\n",
    "df_taxi.head(5)"
   ]
  },
  {
   "cell_type": "markdown",
   "metadata": {},
   "source": [
    "В датасете всего 2 столбца - с датой и количеством заказов. Проверим типы данных."
   ]
  },
  {
   "cell_type": "code",
   "execution_count": 4,
   "metadata": {},
   "outputs": [
    {
     "name": "stdout",
     "output_type": "stream",
     "text": [
      "<class 'pandas.core.frame.DataFrame'>\n",
      "DatetimeIndex: 26496 entries, 2018-03-01 00:00:00 to 2018-08-31 23:50:00\n",
      "Data columns (total 1 columns):\n",
      " #   Column      Non-Null Count  Dtype\n",
      "---  ------      --------------  -----\n",
      " 0   num_orders  26496 non-null  int64\n",
      "dtypes: int64(1)\n",
      "memory usage: 414.0 KB\n"
     ]
    }
   ],
   "source": [
    "df_taxi.info()"
   ]
  },
  {
   "cell_type": "markdown",
   "metadata": {},
   "source": [
    "Типы данных верные: столбец с датой формата `Datetime`, столбец с количеством заказов `num_orders` формата `int64`. В датасете содержатся данные с 00:00 часов 1 марта 2018 г. по 23:50 часов 31 августа 2018 г. Пропусков в датасете нет."
   ]
  },
  {
   "cell_type": "code",
   "execution_count": 5,
   "metadata": {},
   "outputs": [
    {
     "name": "stdout",
     "output_type": "stream",
     "text": [
      "True\n"
     ]
    }
   ],
   "source": [
    "#проверим, упорядочен ли датасет по индексу\n",
    "print(df_taxi.index.is_monotonic)"
   ]
  },
  {
   "cell_type": "markdown",
   "metadata": {},
   "source": [
    "Датасет упорядочен по индексу, можно приступать к анализу."
   ]
  },
  {
   "cell_type": "markdown",
   "metadata": {},
   "source": [
    "## Анализ данных"
   ]
  },
  {
   "cell_type": "markdown",
   "metadata": {},
   "source": [
    "На данном этапе проведем ресемплирование датасета по 1 часу, а также посмотрим на тренды и сезонность датасета."
   ]
  },
  {
   "cell_type": "code",
   "execution_count": 6,
   "metadata": {},
   "outputs": [],
   "source": [
    "#ресемплирование\n",
    "df_taxi = df_taxi.resample('1H').sum()"
   ]
  },
  {
   "cell_type": "markdown",
   "metadata": {},
   "source": [
    "Количество строк должно уменьшиться в 6 раз, так как до этого была выгрузка за каждые 10 минут. Проверим."
   ]
  },
  {
   "cell_type": "code",
   "execution_count": 7,
   "metadata": {},
   "outputs": [
    {
     "name": "stdout",
     "output_type": "stream",
     "text": [
      "<class 'pandas.core.frame.DataFrame'>\n",
      "DatetimeIndex: 4416 entries, 2018-03-01 00:00:00 to 2018-08-31 23:00:00\n",
      "Freq: H\n",
      "Data columns (total 1 columns):\n",
      " #   Column      Non-Null Count  Dtype\n",
      "---  ------      --------------  -----\n",
      " 0   num_orders  4416 non-null   int64\n",
      "dtypes: int64(1)\n",
      "memory usage: 69.0 KB\n"
     ]
    }
   ],
   "source": [
    "df_taxi.info()"
   ]
  },
  {
   "cell_type": "markdown",
   "metadata": {},
   "source": [
    "Да, количество строк уменьшилось в 6 раз. Теперь посмотрим на тренды и сезонность."
   ]
  },
  {
   "cell_type": "code",
   "execution_count": 8,
   "metadata": {},
   "outputs": [
    {
     "data": {
      "image/png": "[encoded data removed]",
      "text/plain": [
       "<Figure size 864x864 with 3 Axes>"
      ]
     },
     "metadata": {
      "needs_background": "light"
     },
     "output_type": "display_data"
    }
   ],
   "source": [
    "decomposed = seasonal_decompose(df_taxi)\n",
    "\n",
    "plt.figure(figsize=(12, 12))\n",
    "\n",
    "plt.subplot(311)\n",
    "decomposed.trend.plot(ax=plt.gca())\n",
    "plt.title('Тренд')\n",
    "\n",
    "plt.subplot(312)\n",
    "decomposed.seasonal.plot(ax=plt.gca())\n",
    "plt.title('Сезонность')\n",
    "\n",
    "plt.subplot(313)\n",
    "decomposed.resid.plot(ax=plt.gca())\n",
    "plt.title('Остаток')\n",
    "plt.tight_layout()"
   ]
  },
  {
   "cell_type": "markdown",
   "metadata": {},
   "source": [
    "По тренду видим, что количество заказов такси стало непрерывно увеличиваться с июня. По сезонности ничего не понятно, возьмем отрезок времени за последний месяц выборки - август."
   ]
  },
  {
   "cell_type": "code",
   "execution_count": 9,
   "metadata": {},
   "outputs": [
    {
     "data": {
      "image/png": "[encoded data removed]",
      "text/plain": [
       "<Figure size 864x864 with 3 Axes>"
      ]
     },
     "metadata": {
      "needs_background": "light"
     },
     "output_type": "display_data"
    }
   ],
   "source": [
    "decomposed_aug = seasonal_decompose(df_taxi['2018-08-01':'2018-08-31'])\n",
    "\n",
    "plt.figure(figsize=(12, 12))\n",
    "\n",
    "plt.subplot(311)\n",
    "decomposed_aug.trend.plot(ax=plt.gca())\n",
    "plt.title('Тренд за август')\n",
    "\n",
    "plt.subplot(312)\n",
    "decomposed_aug.seasonal.plot(ax=plt.gca())\n",
    "plt.title('Сезонность за август')\n",
    "\n",
    "plt.subplot(313)\n",
    "decomposed_aug.resid.plot(ax=plt.gca())\n",
    "plt.title('Остаток за август')\n",
    "plt.tight_layout()"
   ]
  },
  {
   "cell_type": "markdown",
   "metadata": {},
   "source": [
    "Также видим рост тренда в течение всего августа, а сезонность снова показывает полную стабильность, как кардиограмма космонавта. Рассмотрим сезонность в разрезе одного дня, чтобы можно было сделать какие-то выводы."
   ]
  },
  {
   "cell_type": "code",
   "execution_count": 10,
   "metadata": {},
   "outputs": [
    {
     "data": {
      "text/plain": [
       "Text(0.5, 1.0, 'Сезонность за день')"
      ]
     },
     "execution_count": 10,
     "metadata": {},
     "output_type": "execute_result"
    },
    {
     "data": {
      "image/png": "[encoded data removed]",
      "text/plain": [
       "<Figure size 864x864 with 1 Axes>"
      ]
     },
     "metadata": {
      "needs_background": "light"
     },
     "output_type": "display_data"
    }
   ],
   "source": [
    "decomposed_day = seasonal_decompose(df_taxi)['2018-08-01':'2018-08-02']\n",
    "plt.figure(figsize=(12, 12))\n",
    "plt.subplot(312)\n",
    "decomposed_day.seasonal.plot(ax=plt.gca())\n",
    "plt.title('Сезонность за день')"
   ]
  },
  {
   "cell_type": "markdown",
   "metadata": {},
   "source": [
    "Теперь лучше видно, что в 6 утра начинается рост количества заказов, затем резкое падение количества заказов с 11 до 12 часов дня, затем снова рост количества заказов до 16 часов дня, затем снова падение, и потом рост количества заказов с 18 часов и до 2 часов ночи, после чего идет резкое снижение заказов и в 6 утра начинается новый цикл. Пик заказов приходится на временной отрезок с 0 до 2 часов ночи."
   ]
  },
  {
   "cell_type": "markdown",
   "metadata": {},
   "source": [
    "## Обучение"
   ]
  },
  {
   "cell_type": "markdown",
   "metadata": {},
   "source": [
    "### Подготовка признаков"
   ]
  },
  {
   "cell_type": "markdown",
   "metadata": {},
   "source": [
    "Подготовим наш датасет к работе с моделями. Для этого мы:\n",
    "1. Создадим дополнительные признаки для датасета.\n",
    "2. Создадим константную модель для проверки наших моделей на адекватность.\n",
    "3. Подготовим обучающую и тестовую выборки в соотношении 9:1."
   ]
  },
  {
   "cell_type": "markdown",
   "metadata": {},
   "source": [
    "Создадим новые признаки для датасета:\n",
    "1. Календарные признаки (месяц, день, день недели).\n",
    "2. Отстающие значения.\n",
    "3. Скользящее среднее."
   ]
  },
  {
   "cell_type": "code",
   "execution_count": 11,
   "metadata": {},
   "outputs": [],
   "source": [
    "#создадим функцию расчета RMSE\n",
    "def rmse(target, prediction):\n",
    "    return mean_squared_error(target, prediction)**0.5"
   ]
  },
  {
   "cell_type": "code",
   "execution_count": 12,
   "metadata": {},
   "outputs": [],
   "source": [
    "def make_features(data, max_lag, rolling_mean_size):\n",
    "    df = data.copy(deep=True)\n",
    "    df['month'] = df.index.month\n",
    "    df['day'] = df.index.day\n",
    "    df['dayofweek'] = df.index.dayofweek\n",
    "    \n",
    "    for lag in range(1, max_lag + 1):\n",
    "        df['lag_{}'.format(lag)] = df['num_orders'].shift(lag)\n",
    "\n",
    "    df['rolling_mean'] = df['num_orders'].shift().rolling(rolling_mean_size).mean()\n",
    "    \n",
    "    return df\n",
    "\n",
    "#возьмем произвольные значения\n",
    "df = make_features(df_taxi, 30, 40)"
   ]
  },
  {
   "cell_type": "code",
   "execution_count": 13,
   "metadata": {
    "scrolled": true
   },
   "outputs": [
    {
     "data": {
      "text/html": [
       "<div>\n",
       "<style scoped>\n",
       "    .dataframe tbody tr th:only-of-type {\n",
       "        vertical-align: middle;\n",
       "    }\n",
       "\n",
       "    .dataframe tbody tr th {\n",
       "        vertical-align: top;\n",
       "    }\n",
       "\n",
       "    .dataframe thead th {\n",
       "        text-align: right;\n",
       "    }\n",
       "</style>\n",
       "<table border=\"1\" class=\"dataframe\">\n",
       "  <thead>\n",
       "    <tr style=\"text-align: right;\">\n",
       "      <th></th>\n",
       "      <th>num_orders</th>\n",
       "      <th>month</th>\n",
       "      <th>day</th>\n",
       "      <th>dayofweek</th>\n",
       "      <th>lag_1</th>\n",
       "      <th>lag_2</th>\n",
       "      <th>lag_3</th>\n",
       "      <th>lag_4</th>\n",
       "      <th>lag_5</th>\n",
       "      <th>lag_6</th>\n",
       "      <th>...</th>\n",
       "      <th>lag_22</th>\n",
       "      <th>lag_23</th>\n",
       "      <th>lag_24</th>\n",
       "      <th>lag_25</th>\n",
       "      <th>lag_26</th>\n",
       "      <th>lag_27</th>\n",
       "      <th>lag_28</th>\n",
       "      <th>lag_29</th>\n",
       "      <th>lag_30</th>\n",
       "      <th>rolling_mean</th>\n",
       "    </tr>\n",
       "    <tr>\n",
       "      <th>datetime</th>\n",
       "      <th></th>\n",
       "      <th></th>\n",
       "      <th></th>\n",
       "      <th></th>\n",
       "      <th></th>\n",
       "      <th></th>\n",
       "      <th></th>\n",
       "      <th></th>\n",
       "      <th></th>\n",
       "      <th></th>\n",
       "      <th></th>\n",
       "      <th></th>\n",
       "      <th></th>\n",
       "      <th></th>\n",
       "      <th></th>\n",
       "      <th></th>\n",
       "      <th></th>\n",
       "      <th></th>\n",
       "      <th></th>\n",
       "      <th></th>\n",
       "      <th></th>\n",
       "    </tr>\n",
       "  </thead>\n",
       "  <tbody>\n",
       "    <tr>\n",
       "      <th>2018-05-23 19:00:00</th>\n",
       "      <td>81</td>\n",
       "      <td>5</td>\n",
       "      <td>23</td>\n",
       "      <td>2</td>\n",
       "      <td>46.0</td>\n",
       "      <td>55.0</td>\n",
       "      <td>121.0</td>\n",
       "      <td>116.0</td>\n",
       "      <td>111.0</td>\n",
       "      <td>44.0</td>\n",
       "      <td>...</td>\n",
       "      <td>77.0</td>\n",
       "      <td>77.0</td>\n",
       "      <td>76.0</td>\n",
       "      <td>44.0</td>\n",
       "      <td>64.0</td>\n",
       "      <td>124.0</td>\n",
       "      <td>60.0</td>\n",
       "      <td>62.0</td>\n",
       "      <td>66.0</td>\n",
       "      <td>71.750</td>\n",
       "    </tr>\n",
       "    <tr>\n",
       "      <th>2018-08-15 12:00:00</th>\n",
       "      <td>90</td>\n",
       "      <td>8</td>\n",
       "      <td>15</td>\n",
       "      <td>2</td>\n",
       "      <td>120.0</td>\n",
       "      <td>166.0</td>\n",
       "      <td>131.0</td>\n",
       "      <td>92.0</td>\n",
       "      <td>28.0</td>\n",
       "      <td>36.0</td>\n",
       "      <td>...</td>\n",
       "      <td>112.0</td>\n",
       "      <td>64.0</td>\n",
       "      <td>114.0</td>\n",
       "      <td>162.0</td>\n",
       "      <td>155.0</td>\n",
       "      <td>135.0</td>\n",
       "      <td>91.0</td>\n",
       "      <td>54.0</td>\n",
       "      <td>45.0</td>\n",
       "      <td>117.775</td>\n",
       "    </tr>\n",
       "    <tr>\n",
       "      <th>2018-08-08 06:00:00</th>\n",
       "      <td>60</td>\n",
       "      <td>8</td>\n",
       "      <td>8</td>\n",
       "      <td>2</td>\n",
       "      <td>86.0</td>\n",
       "      <td>104.0</td>\n",
       "      <td>104.0</td>\n",
       "      <td>157.0</td>\n",
       "      <td>154.0</td>\n",
       "      <td>230.0</td>\n",
       "      <td>...</td>\n",
       "      <td>79.0</td>\n",
       "      <td>44.0</td>\n",
       "      <td>46.0</td>\n",
       "      <td>50.0</td>\n",
       "      <td>108.0</td>\n",
       "      <td>121.0</td>\n",
       "      <td>125.0</td>\n",
       "      <td>101.0</td>\n",
       "      <td>156.0</td>\n",
       "      <td>105.775</td>\n",
       "    </tr>\n",
       "    <tr>\n",
       "      <th>2018-06-09 15:00:00</th>\n",
       "      <td>97</td>\n",
       "      <td>6</td>\n",
       "      <td>9</td>\n",
       "      <td>5</td>\n",
       "      <td>90.0</td>\n",
       "      <td>86.0</td>\n",
       "      <td>91.0</td>\n",
       "      <td>74.0</td>\n",
       "      <td>65.0</td>\n",
       "      <td>89.0</td>\n",
       "      <td>...</td>\n",
       "      <td>82.0</td>\n",
       "      <td>121.0</td>\n",
       "      <td>80.0</td>\n",
       "      <td>85.0</td>\n",
       "      <td>78.0</td>\n",
       "      <td>72.0</td>\n",
       "      <td>117.0</td>\n",
       "      <td>124.0</td>\n",
       "      <td>116.0</td>\n",
       "      <td>86.700</td>\n",
       "    </tr>\n",
       "    <tr>\n",
       "      <th>2018-04-06 20:00:00</th>\n",
       "      <td>105</td>\n",
       "      <td>4</td>\n",
       "      <td>6</td>\n",
       "      <td>4</td>\n",
       "      <td>63.0</td>\n",
       "      <td>49.0</td>\n",
       "      <td>79.0</td>\n",
       "      <td>98.0</td>\n",
       "      <td>86.0</td>\n",
       "      <td>59.0</td>\n",
       "      <td>...</td>\n",
       "      <td>89.0</td>\n",
       "      <td>63.0</td>\n",
       "      <td>61.0</td>\n",
       "      <td>35.0</td>\n",
       "      <td>45.0</td>\n",
       "      <td>38.0</td>\n",
       "      <td>98.0</td>\n",
       "      <td>66.0</td>\n",
       "      <td>34.0</td>\n",
       "      <td>54.875</td>\n",
       "    </tr>\n",
       "    <tr>\n",
       "      <th>2018-05-17 02:00:00</th>\n",
       "      <td>139</td>\n",
       "      <td>5</td>\n",
       "      <td>17</td>\n",
       "      <td>3</td>\n",
       "      <td>80.0</td>\n",
       "      <td>156.0</td>\n",
       "      <td>119.0</td>\n",
       "      <td>89.0</td>\n",
       "      <td>64.0</td>\n",
       "      <td>63.0</td>\n",
       "      <td>...</td>\n",
       "      <td>88.0</td>\n",
       "      <td>92.0</td>\n",
       "      <td>104.0</td>\n",
       "      <td>57.0</td>\n",
       "      <td>91.0</td>\n",
       "      <td>123.0</td>\n",
       "      <td>67.0</td>\n",
       "      <td>71.0</td>\n",
       "      <td>65.0</td>\n",
       "      <td>72.400</td>\n",
       "    </tr>\n",
       "    <tr>\n",
       "      <th>2018-03-14 17:00:00</th>\n",
       "      <td>57</td>\n",
       "      <td>3</td>\n",
       "      <td>14</td>\n",
       "      <td>2</td>\n",
       "      <td>59.0</td>\n",
       "      <td>51.0</td>\n",
       "      <td>72.0</td>\n",
       "      <td>67.0</td>\n",
       "      <td>41.0</td>\n",
       "      <td>58.0</td>\n",
       "      <td>...</td>\n",
       "      <td>40.0</td>\n",
       "      <td>109.0</td>\n",
       "      <td>35.0</td>\n",
       "      <td>64.0</td>\n",
       "      <td>69.0</td>\n",
       "      <td>50.0</td>\n",
       "      <td>40.0</td>\n",
       "      <td>34.0</td>\n",
       "      <td>75.0</td>\n",
       "      <td>52.050</td>\n",
       "    </tr>\n",
       "    <tr>\n",
       "      <th>2018-08-31 15:00:00</th>\n",
       "      <td>116</td>\n",
       "      <td>8</td>\n",
       "      <td>31</td>\n",
       "      <td>4</td>\n",
       "      <td>133.0</td>\n",
       "      <td>166.0</td>\n",
       "      <td>136.0</td>\n",
       "      <td>167.0</td>\n",
       "      <td>191.0</td>\n",
       "      <td>203.0</td>\n",
       "      <td>...</td>\n",
       "      <td>342.0</td>\n",
       "      <td>254.0</td>\n",
       "      <td>156.0</td>\n",
       "      <td>91.0</td>\n",
       "      <td>154.0</td>\n",
       "      <td>173.0</td>\n",
       "      <td>156.0</td>\n",
       "      <td>227.0</td>\n",
       "      <td>226.0</td>\n",
       "      <td>168.975</td>\n",
       "    </tr>\n",
       "    <tr>\n",
       "      <th>2018-03-20 16:00:00</th>\n",
       "      <td>75</td>\n",
       "      <td>3</td>\n",
       "      <td>20</td>\n",
       "      <td>1</td>\n",
       "      <td>74.0</td>\n",
       "      <td>29.0</td>\n",
       "      <td>44.0</td>\n",
       "      <td>30.0</td>\n",
       "      <td>43.0</td>\n",
       "      <td>58.0</td>\n",
       "      <td>...</td>\n",
       "      <td>57.0</td>\n",
       "      <td>65.0</td>\n",
       "      <td>44.0</td>\n",
       "      <td>48.0</td>\n",
       "      <td>50.0</td>\n",
       "      <td>45.0</td>\n",
       "      <td>39.0</td>\n",
       "      <td>83.0</td>\n",
       "      <td>69.0</td>\n",
       "      <td>50.400</td>\n",
       "    </tr>\n",
       "    <tr>\n",
       "      <th>2018-08-04 12:00:00</th>\n",
       "      <td>96</td>\n",
       "      <td>8</td>\n",
       "      <td>4</td>\n",
       "      <td>5</td>\n",
       "      <td>97.0</td>\n",
       "      <td>82.0</td>\n",
       "      <td>129.0</td>\n",
       "      <td>120.0</td>\n",
       "      <td>23.0</td>\n",
       "      <td>45.0</td>\n",
       "      <td>...</td>\n",
       "      <td>75.0</td>\n",
       "      <td>106.0</td>\n",
       "      <td>96.0</td>\n",
       "      <td>105.0</td>\n",
       "      <td>159.0</td>\n",
       "      <td>114.0</td>\n",
       "      <td>87.0</td>\n",
       "      <td>54.0</td>\n",
       "      <td>86.0</td>\n",
       "      <td>113.125</td>\n",
       "    </tr>\n",
       "  </tbody>\n",
       "</table>\n",
       "<p>10 rows × 35 columns</p>\n",
       "</div>"
      ],
      "text/plain": [
       "                     num_orders  month  day  dayofweek  lag_1  lag_2  lag_3  \\\n",
       "datetime                                                                      \n",
       "2018-05-23 19:00:00          81      5   23          2   46.0   55.0  121.0   \n",
       "2018-08-15 12:00:00          90      8   15          2  120.0  166.0  131.0   \n",
       "2018-08-08 06:00:00          60      8    8          2   86.0  104.0  104.0   \n",
       "2018-06-09 15:00:00          97      6    9          5   90.0   86.0   91.0   \n",
       "2018-04-06 20:00:00         105      4    6          4   63.0   49.0   79.0   \n",
       "2018-05-17 02:00:00         139      5   17          3   80.0  156.0  119.0   \n",
       "2018-03-14 17:00:00          57      3   14          2   59.0   51.0   72.0   \n",
       "2018-08-31 15:00:00         116      8   31          4  133.0  166.0  136.0   \n",
       "2018-03-20 16:00:00          75      3   20          1   74.0   29.0   44.0   \n",
       "2018-08-04 12:00:00          96      8    4          5   97.0   82.0  129.0   \n",
       "\n",
       "                     lag_4  lag_5  lag_6  ...  lag_22  lag_23  lag_24  lag_25  \\\n",
       "datetime                                  ...                                   \n",
       "2018-05-23 19:00:00  116.0  111.0   44.0  ...    77.0    77.0    76.0    44.0   \n",
       "2018-08-15 12:00:00   92.0   28.0   36.0  ...   112.0    64.0   114.0   162.0   \n",
       "2018-08-08 06:00:00  157.0  154.0  230.0  ...    79.0    44.0    46.0    50.0   \n",
       "2018-06-09 15:00:00   74.0   65.0   89.0  ...    82.0   121.0    80.0    85.0   \n",
       "2018-04-06 20:00:00   98.0   86.0   59.0  ...    89.0    63.0    61.0    35.0   \n",
       "2018-05-17 02:00:00   89.0   64.0   63.0  ...    88.0    92.0   104.0    57.0   \n",
       "2018-03-14 17:00:00   67.0   41.0   58.0  ...    40.0   109.0    35.0    64.0   \n",
       "2018-08-31 15:00:00  167.0  191.0  203.0  ...   342.0   254.0   156.0    91.0   \n",
       "2018-03-20 16:00:00   30.0   43.0   58.0  ...    57.0    65.0    44.0    48.0   \n",
       "2018-08-04 12:00:00  120.0   23.0   45.0  ...    75.0   106.0    96.0   105.0   \n",
       "\n",
       "                     lag_26  lag_27  lag_28  lag_29  lag_30  rolling_mean  \n",
       "datetime                                                                   \n",
       "2018-05-23 19:00:00    64.0   124.0    60.0    62.0    66.0        71.750  \n",
       "2018-08-15 12:00:00   155.0   135.0    91.0    54.0    45.0       117.775  \n",
       "2018-08-08 06:00:00   108.0   121.0   125.0   101.0   156.0       105.775  \n",
       "2018-06-09 15:00:00    78.0    72.0   117.0   124.0   116.0        86.700  \n",
       "2018-04-06 20:00:00    45.0    38.0    98.0    66.0    34.0        54.875  \n",
       "2018-05-17 02:00:00    91.0   123.0    67.0    71.0    65.0        72.400  \n",
       "2018-03-14 17:00:00    69.0    50.0    40.0    34.0    75.0        52.050  \n",
       "2018-08-31 15:00:00   154.0   173.0   156.0   227.0   226.0       168.975  \n",
       "2018-03-20 16:00:00    50.0    45.0    39.0    83.0    69.0        50.400  \n",
       "2018-08-04 12:00:00   159.0   114.0    87.0    54.0    86.0       113.125  \n",
       "\n",
       "[10 rows x 35 columns]"
      ]
     },
     "execution_count": 13,
     "metadata": {},
     "output_type": "execute_result"
    }
   ],
   "source": [
    "#проверим новый датасет\n",
    "df.sample(10)"
   ]
  },
  {
   "cell_type": "markdown",
   "metadata": {},
   "source": [
    "Проверим RMSE на двух константных моделях: прогноз медианы и прогноз предыдущего значения ряда."
   ]
  },
  {
   "cell_type": "code",
   "execution_count": 14,
   "metadata": {},
   "outputs": [
    {
     "name": "stdout",
     "output_type": "stream",
     "text": [
      "RMSE константной модели, прогнозирующей медиану: 84.54772153207533\n",
      "RMSE константной модели, прогнозирующей предыдущее значение ряда: 81.82849573915023\n"
     ]
    }
   ],
   "source": [
    "train, test = train_test_split(df, shuffle=False, test_size=0.1)\n",
    "train = train.dropna()\n",
    "\n",
    "#константная модель, прогнозирующая медиану\n",
    "pred_median = np.ones(test.shape) * train['num_orders'].median()\n",
    "rmse_median = mean_squared_error(test, pred_median)**0.5\n",
    "print(\"RMSE константной модели, прогнозирующей медиану:\", rmse_median)\n",
    "\n",
    "#константная модель, прогнозирующая предыдущее значение ряда\n",
    "pred_previous = pd.Series(train['num_orders'].iloc[-len(test):])\n",
    "print(\"RMSE константной модели, прогнозирующей предыдущее значение ряда:\",\n",
    "      rmse(test['num_orders'], pred_previous))"
   ]
  },
  {
   "cell_type": "code",
   "execution_count": 15,
   "metadata": {},
   "outputs": [
    {
     "name": "stdout",
     "output_type": "stream",
     "text": [
      "Размер обучающей выборки: (3934, 34)\n",
      "Размер тестовой выборки: (442, 34)\n"
     ]
    }
   ],
   "source": [
    "#подготовим обучающую и тестовую выборки\n",
    "features_train = train.drop(['num_orders'], axis=1)\n",
    "target_train = train['num_orders']\n",
    "\n",
    "features_test = test.drop(['num_orders'], axis=1)\n",
    "target_test = test['num_orders']\n",
    "print('Размер обучающей выборки:', features_train.shape)\n",
    "print('Размер тестовой выборки:', features_test.shape)"
   ]
  },
  {
   "cell_type": "markdown",
   "metadata": {},
   "source": [
    "Можно приступать к обучению моделей."
   ]
  },
  {
   "cell_type": "markdown",
   "metadata": {},
   "source": [
    "### Линейная регрессия"
   ]
  },
  {
   "cell_type": "code",
   "execution_count": 16,
   "metadata": {},
   "outputs": [
    {
     "name": "stdout",
     "output_type": "stream",
     "text": [
      "RMSE линейной регрессии составляет: 25.162063268252812\n"
     ]
    }
   ],
   "source": [
    "#здесь используем стандартные параметры\n",
    "\n",
    "linear_model = LinearRegression()\n",
    "linear_model.fit(features_train, target_train)\n",
    " \n",
    "linear_prediction = linear_model.predict(features_train)\n",
    "print('RMSE линейной регрессии составляет:', rmse(target_train, linear_prediction))"
   ]
  },
  {
   "cell_type": "markdown",
   "metadata": {},
   "source": [
    "Линейная регрессия продемонстрировала очень хороший результат RMSE - 25.16. Посмотрим, что покажут более сложные модели."
   ]
  },
  {
   "cell_type": "markdown",
   "metadata": {},
   "source": [
    "### Случайный лес"
   ]
  },
  {
   "cell_type": "code",
   "execution_count": 17,
   "metadata": {},
   "outputs": [
    {
     "name": "stdout",
     "output_type": "stream",
     "text": [
      "Лучшие параметры случайного леса: {'max_depth': 17, 'n_estimators': 40}\n",
      "RMSE случайного леса составляет: 9.437120311120644\n"
     ]
    }
   ],
   "source": [
    "tss = TimeSeriesSplit(n_splits = 5)\n",
    "\n",
    "forest_model = RandomForestRegressor(random_state=12345)\n",
    "forest_params = {'n_estimators':range(10, 50, 10), 'max_depth':range(10, 20)}\n",
    "forest_grid = GridSearchCV(forest_model, forest_params, cv=tss, scoring = 'neg_root_mean_squared_error', n_jobs=-1)\n",
    "forest_grid.fit(features_train, target_train)\n",
    "forest_prediction = forest_grid.predict(features_train)\n",
    "\n",
    "print('Лучшие параметры случайного леса:', forest_grid.best_params_)\n",
    "print('RMSE случайного леса составляет:', rmse(target_train, forest_prediction))"
   ]
  },
  {
   "cell_type": "markdown",
   "metadata": {},
   "source": [
    "RMSE случайного леса на обучающей выборке составил 9,43. "
   ]
  },
  {
   "cell_type": "markdown",
   "metadata": {},
   "source": [
    "### Catboost"
   ]
  },
  {
   "cell_type": "code",
   "execution_count": 18,
   "metadata": {},
   "outputs": [
    {
     "name": "stdout",
     "output_type": "stream",
     "text": [
      "Лучшие параметры Catboost: {'depth': 10, 'learning_rate': 0.1}\n",
      "RMSE Catboost составляет: 14.407305245937813\n"
     ]
    }
   ],
   "source": [
    "cat_model = CatBoostRegressor(iterations=100, verbose=False, random_state=12345)\n",
    "cat_params = {'learning_rate':[0.1, 0.2], #скорость обучения\n",
    "              'depth':[10, 15, 20]} #depth - глубина дерева\n",
    "cat_grid = GridSearchCV(cat_model, cat_params, cv=tss, scoring = 'neg_root_mean_squared_error', n_jobs=-1)\n",
    "cat_grid.fit(features_train, target_train)\n",
    "cat_prediction = cat_grid.predict(features_train)\n",
    "\n",
    "print('Лучшие параметры Catboost:', cat_grid.best_params_)\n",
    "print('RMSE Catboost составляет:', rmse(target_train, cat_prediction))"
   ]
  },
  {
   "cell_type": "markdown",
   "metadata": {},
   "source": [
    "Catboost показал результат RMSE хуже, чем лес: 14.40."
   ]
  },
  {
   "cell_type": "markdown",
   "metadata": {},
   "source": [
    "### LightGBM"
   ]
  },
  {
   "cell_type": "code",
   "execution_count": 19,
   "metadata": {},
   "outputs": [
    {
     "name": "stdout",
     "output_type": "stream",
     "text": [
      "Лучшие параметры LightGBM OE: {'n_estimators': 150, 'num_leaves': 10}\n",
      "RMSE LightGBM составляет: 16.947848800689265\n"
     ]
    }
   ],
   "source": [
    "gbm_model = LGBMRegressor(random_state=12345)\n",
    "gbm_params = {'n_estimators':[100, 150], #количество деревьев решений\n",
    "              'num_leaves':[10, 15, 20]} #количество терминальных узлов (листьев) дерева\n",
    "gbm_grid = GridSearchCV(gbm_model, gbm_params, cv=tss, scoring = 'neg_root_mean_squared_error', n_jobs=-1)\n",
    "gbm_grid.fit(features_train, target_train)\n",
    "gbm_prediction = gbm_grid.predict(features_train)\n",
    "\n",
    "print('Лучшие параметры LightGBM OE:', gbm_grid.best_params_)\n",
    "print('RMSE LightGBM составляет:', rmse(target_train, gbm_prediction))"
   ]
  },
  {
   "cell_type": "markdown",
   "metadata": {},
   "source": [
    "LightGBM продемонстрировал результат еще хуже, чем случайный лес и Catboost и его RMSE составил 16.94."
   ]
  },
  {
   "cell_type": "markdown",
   "metadata": {},
   "source": [
    "### Вывод по моделям"
   ]
  },
  {
   "cell_type": "markdown",
   "metadata": {},
   "source": [
    "1. Все 4 модели продемонстрировали результат RMSE ниже 48.\n",
    "2. Самый лучший результат продемонстрировали случайный лес и Catboost, именно их и проверим на тестовой выборке."
   ]
  },
  {
   "cell_type": "markdown",
   "metadata": {},
   "source": [
    "## Тестирование"
   ]
  },
  {
   "cell_type": "markdown",
   "metadata": {},
   "source": [
    "Создадим сравнительную таблицу с результатами RMSE."
   ]
  },
  {
   "cell_type": "code",
   "execution_count": 20,
   "metadata": {},
   "outputs": [
    {
     "data": {
      "text/html": [
       "<div>\n",
       "<style scoped>\n",
       "    .dataframe tbody tr th:only-of-type {\n",
       "        vertical-align: middle;\n",
       "    }\n",
       "\n",
       "    .dataframe tbody tr th {\n",
       "        vertical-align: top;\n",
       "    }\n",
       "\n",
       "    .dataframe thead th {\n",
       "        text-align: right;\n",
       "    }\n",
       "</style>\n",
       "<table border=\"1\" class=\"dataframe\">\n",
       "  <thead>\n",
       "    <tr style=\"text-align: right;\">\n",
       "      <th></th>\n",
       "      <th>Модель</th>\n",
       "      <th>RMSE</th>\n",
       "    </tr>\n",
       "  </thead>\n",
       "  <tbody>\n",
       "    <tr>\n",
       "      <th>0</th>\n",
       "      <td>Linear Regression</td>\n",
       "      <td>25.16</td>\n",
       "    </tr>\n",
       "    <tr>\n",
       "      <th>1</th>\n",
       "      <td>RandomForest</td>\n",
       "      <td>9.43</td>\n",
       "    </tr>\n",
       "    <tr>\n",
       "      <th>2</th>\n",
       "      <td>CatBoost</td>\n",
       "      <td>14.40</td>\n",
       "    </tr>\n",
       "    <tr>\n",
       "      <th>3</th>\n",
       "      <td>LightGBM</td>\n",
       "      <td>16.94</td>\n",
       "    </tr>\n",
       "    <tr>\n",
       "      <th>4</th>\n",
       "      <td>Constant Median</td>\n",
       "      <td>84.54</td>\n",
       "    </tr>\n",
       "    <tr>\n",
       "      <th>5</th>\n",
       "      <td>Constant Previous</td>\n",
       "      <td>81.82</td>\n",
       "    </tr>\n",
       "  </tbody>\n",
       "</table>\n",
       "</div>"
      ],
      "text/plain": [
       "              Модель   RMSE\n",
       "0  Linear Regression  25.16\n",
       "1       RandomForest   9.43\n",
       "2           CatBoost  14.40\n",
       "3           LightGBM  16.94\n",
       "4    Constant Median  84.54\n",
       "5  Constant Previous  81.82"
      ]
     },
     "metadata": {},
     "output_type": "display_data"
    }
   ],
   "source": [
    "data={'Модель': ['Linear Regression', 'RandomForest', 'CatBoost', 'LightGBM', 'Constant Median', 'Constant Previous'],\n",
    "      'RMSE': [25.16, 9.43, 14.40, 16.94, 84.54, 81.82]}\n",
    "data_pivot=pd.DataFrame.from_dict(data)\n",
    "display(data_pivot)"
   ]
  },
  {
   "cell_type": "markdown",
   "metadata": {},
   "source": [
    "Проверим RMSE случайного леса и Catboost на тестовой выборке."
   ]
  },
  {
   "cell_type": "code",
   "execution_count": 21,
   "metadata": {},
   "outputs": [
    {
     "name": "stdout",
     "output_type": "stream",
     "text": [
      "RMSE случайного леса на тестовой выборке составляет: 43.78905280006859\n"
     ]
    }
   ],
   "source": [
    "forest = RandomForestRegressor(random_state=12345, max_depth=17, n_estimators=40)\n",
    "forest.fit(features_train, target_train)\n",
    "forest_pred = forest.predict(features_test)\n",
    "print('RMSE случайного леса на тестовой выборке составляет:', rmse(target_test, forest_pred))"
   ]
  },
  {
   "cell_type": "code",
   "execution_count": 22,
   "metadata": {},
   "outputs": [
    {
     "name": "stdout",
     "output_type": "stream",
     "text": [
      "RMSE Catboost на тестовой выборке составляет: 46.54525607876236\n"
     ]
    }
   ],
   "source": [
    "catboost = CatBoostRegressor(iterations=100, verbose=False, random_state=12345,\n",
    "                            learning_rate=0.1, depth=10)\n",
    "catboost.fit(features_train, target_train)\n",
    "catboost_pred = catboost.predict(features_test)\n",
    "print('RMSE Catboost на тестовой выборке составляет:', rmse(target_test, catboost_pred))"
   ]
  },
  {
   "cell_type": "markdown",
   "metadata": {},
   "source": [
    "На тестовой выборке RMSE оказался в разы хуже, чем на обучающей выборке, но все-равно в порог RMSE до 48 модели уложились. Лучший результат показал случайный лес с результатов 43.78."
   ]
  },
  {
   "cell_type": "markdown",
   "metadata": {},
   "source": [
    "Посмотрим на график важности факторов."
   ]
  },
  {
   "cell_type": "code",
   "execution_count": 23,
   "metadata": {},
   "outputs": [
    {
     "data": {
      "image/png": "[encoded data removed]",
      "text/plain": [
       "<Figure size 720x504 with 1 Axes>"
      ]
     },
     "metadata": {
      "needs_background": "light"
     },
     "output_type": "display_data"
    }
   ],
   "source": [
    "feature_names = features_train.columns \n",
    "model = RandomForestRegressor(n_estimators=40, max_depth=18, random_state=12345)\n",
    "model.fit(features_train, target_train)\n",
    "pred = model.predict(features_test)\n",
    "importances = model.feature_importances_\n",
    "model_importances = pd.Series(importances, index=feature_names)\n",
    "\n",
    "std = np.std([model.feature_importances_ for tree in str(1000)], axis=0)\n",
    "\n",
    "fig, ax = plt.subplots(figsize=(10,7))\n",
    "model_importances.plot.bar(yerr=std, ax=ax)\n",
    "ax.set_title(\"Feature importances\")\n",
    "ax.set_ylabel(\"Mean decrease in impurity\")\n",
    "fig.tight_layout()"
   ]
  },
  {
   "cell_type": "markdown",
   "metadata": {},
   "source": [
    "И посмотрим на графике, как соотносятся предсказания модели с актуальными данными из выгрузки по заказам."
   ]
  },
  {
   "cell_type": "code",
   "execution_count": 24,
   "metadata": {},
   "outputs": [
    {
     "data": {
      "image/png": "[encoded data removed]",
      "text/plain": [
       "<Figure size 1080x720 with 1 Axes>"
      ]
     },
     "metadata": {
      "needs_background": "light"
     },
     "output_type": "display_data"
    }
   ],
   "source": [
    "plt.figure(figsize=(15, 10))\n",
    "plt.plot(features_test.index, target_test, label='Actual orders')\n",
    "plt.plot(features_test.index, forest_pred, label='Predicted orders')\n",
    "plt.legend()\n",
    "plt.show()"
   ]
  },
  {
   "cell_type": "markdown",
   "metadata": {},
   "source": [
    "На графике видно, что модель в целом с предсказаниями справляется неплохо, за исключением редких больших пиковых значений."
   ]
  },
  {
   "cell_type": "markdown",
   "metadata": {},
   "source": [
    "## Выводы"
   ]
  },
  {
   "cell_type": "markdown",
   "metadata": {},
   "source": [
    "1. В датасете всего 2 столбца - с датой и количеством заказов. Типы данных верные: столбец с датой формата Datetime, столбец с количеством заказов num_orders формата int64. В датасете содержатся данные с 00:00 часов 1 марта 2018 г. по 23:50 часов 31 августа 2018 г. Пропусков в датасете нет. Датасет упорядочен по индексу, можно приступать к анализу.\n",
    "2. Было проведено ресемплирование датасета по 1 часу. По тренду видно, что количество заказов такси стало непрерывно увеличиваться с июня. По сезонности видно, что пик заказов приходится на временной отрезок с 0 до 2 часов ночи.\n",
    "3. При подготовке датасета к работе с моделями:\n",
    "    1. Были создаеы дополнительные признаки для датасета: месяц, день, день недели, отстающие значения, скользящее среднее.\n",
    "    2. Создана константная модель для проверки наших моделей на адекватность.\n",
    "    3. Подготовлена обучающая и тестовая выборки в соотношении 9:1.\n",
    "4. RMSE константной модели, прогнозирующей медиану составил 84.54772153207533. RMSE константной модели, прогнозирующей предыдущее значение ряда составил 81.82849573915023.\n",
    "5. Были обучены 4 модели, которые показали следующие результаты на обучающей выборке.\n",
    "    1. RMSE линейной регрессии составляет 25.16.\n",
    "    2. RMSE случайного леса на обучающей выборке составил 9,43.\n",
    "    3. RMSE Catboost составил 14.40.\n",
    "    4. LightGBM продемонстрировал результат хуже, чем случайный лес и Catboost и его RMSE составил 16.94.\n",
    "6. Для проверки RMSE на тестовой выборке были выбраны 2 модели:\n",
    "    1. RMSE случайного леса на тестовой выборке составил 43.78.\n",
    "    2. RMSE Catboost на тестовой выборке составил 46.54.\n",
    "7. В качестве основной модели для продакшна был выбран случайный лес.\n",
    "8. Обе проверенные модели на тестовой выборке не превысили порог RMSE, равный 48."
   ]
  }
 ],
 "metadata": {
  "ExecuteTimeLog": [
   {
    "duration": 54,
    "start_time": "2022-06-01T11:17:44.573Z"
   },
   {
    "duration": 1396,
    "start_time": "2022-06-01T11:17:54.854Z"
   },
   {
    "duration": 116,
    "start_time": "2022-06-01T11:17:56.252Z"
   },
   {
    "duration": 13,
    "start_time": "2022-06-01T11:17:56.369Z"
   },
   {
    "duration": 12,
    "start_time": "2022-06-01T11:18:56.416Z"
   },
   {
    "duration": 7,
    "start_time": "2022-06-01T11:21:33.824Z"
   },
   {
    "duration": 3,
    "start_time": "2022-06-01T11:25:49.519Z"
   },
   {
    "duration": 56,
    "start_time": "2022-06-01T15:09:17.471Z"
   },
   {
    "duration": 2043,
    "start_time": "2022-06-01T15:10:26.292Z"
   },
   {
    "duration": 120,
    "start_time": "2022-06-01T15:10:28.337Z"
   },
   {
    "duration": 12,
    "start_time": "2022-06-01T15:10:28.458Z"
   },
   {
    "duration": 11,
    "start_time": "2022-06-01T15:10:28.471Z"
   },
   {
    "duration": 4,
    "start_time": "2022-06-01T15:10:28.526Z"
   },
   {
    "duration": 10,
    "start_time": "2022-06-01T15:10:28.532Z"
   },
   {
    "duration": 23,
    "start_time": "2022-06-01T15:10:28.544Z"
   },
   {
    "duration": 7,
    "start_time": "2022-06-01T15:27:09.532Z"
   },
   {
    "duration": 519,
    "start_time": "2022-06-01T15:27:18.954Z"
   },
   {
    "duration": 211,
    "start_time": "2022-06-01T15:27:25.751Z"
   },
   {
    "duration": 213,
    "start_time": "2022-06-01T15:27:30.590Z"
   },
   {
    "duration": 293,
    "start_time": "2022-06-01T15:27:35.396Z"
   },
   {
    "duration": 234,
    "start_time": "2022-06-01T15:27:38.938Z"
   },
   {
    "duration": 217,
    "start_time": "2022-06-01T15:28:34.643Z"
   },
   {
    "duration": 219,
    "start_time": "2022-06-01T15:28:49.337Z"
   },
   {
    "duration": 5,
    "start_time": "2022-06-01T15:30:05.228Z"
   },
   {
    "duration": 219,
    "start_time": "2022-06-01T15:30:06.509Z"
   },
   {
    "duration": 217,
    "start_time": "2022-06-01T15:30:12.175Z"
   },
   {
    "duration": 137,
    "start_time": "2022-06-01T15:30:33.786Z"
   },
   {
    "duration": 412,
    "start_time": "2022-06-01T15:31:03.247Z"
   },
   {
    "duration": 8,
    "start_time": "2022-06-01T15:31:20.417Z"
   },
   {
    "duration": 92,
    "start_time": "2022-06-01T15:33:02.495Z"
   },
   {
    "duration": 11,
    "start_time": "2022-06-01T15:33:05.004Z"
   },
   {
    "duration": 11,
    "start_time": "2022-06-01T15:33:13.409Z"
   },
   {
    "duration": 1238,
    "start_time": "2022-06-01T15:33:20.062Z"
   },
   {
    "duration": 47,
    "start_time": "2022-06-01T15:33:21.302Z"
   },
   {
    "duration": 11,
    "start_time": "2022-06-01T15:33:21.351Z"
   },
   {
    "duration": 22,
    "start_time": "2022-06-01T15:33:21.364Z"
   },
   {
    "duration": 20,
    "start_time": "2022-06-01T15:33:21.387Z"
   },
   {
    "duration": 19,
    "start_time": "2022-06-01T15:33:21.408Z"
   },
   {
    "duration": 25,
    "start_time": "2022-06-01T15:33:21.429Z"
   },
   {
    "duration": 30,
    "start_time": "2022-06-01T15:33:21.456Z"
   },
   {
    "duration": 617,
    "start_time": "2022-06-01T15:33:21.488Z"
   },
   {
    "duration": 758,
    "start_time": "2022-06-01T15:33:29.960Z"
   },
   {
    "duration": 659,
    "start_time": "2022-06-01T15:34:03.472Z"
   },
   {
    "duration": 570,
    "start_time": "2022-06-01T15:35:02.338Z"
   },
   {
    "duration": 803,
    "start_time": "2022-06-01T15:35:08.267Z"
   },
   {
    "duration": 752,
    "start_time": "2022-06-01T15:37:06.383Z"
   },
   {
    "duration": 1323,
    "start_time": "2022-06-01T15:55:08.421Z"
   },
   {
    "duration": 50,
    "start_time": "2022-06-01T15:55:09.746Z"
   },
   {
    "duration": 11,
    "start_time": "2022-06-01T15:55:09.798Z"
   },
   {
    "duration": 16,
    "start_time": "2022-06-01T15:55:09.810Z"
   },
   {
    "duration": 22,
    "start_time": "2022-06-01T15:55:09.830Z"
   },
   {
    "duration": 27,
    "start_time": "2022-06-01T15:55:09.854Z"
   },
   {
    "duration": 26,
    "start_time": "2022-06-01T15:55:09.883Z"
   },
   {
    "duration": 873,
    "start_time": "2022-06-01T15:55:09.910Z"
   },
   {
    "duration": 732,
    "start_time": "2022-06-01T15:55:10.784Z"
   },
   {
    "duration": 123,
    "start_time": "2022-06-01T15:55:45.373Z"
   },
   {
    "duration": 642,
    "start_time": "2022-06-01T15:55:52.462Z"
   },
   {
    "duration": 753,
    "start_time": "2022-06-01T15:56:31.482Z"
   },
   {
    "duration": 208,
    "start_time": "2022-06-01T15:58:29.754Z"
   },
   {
    "duration": 146,
    "start_time": "2022-06-01T15:58:38.753Z"
   },
   {
    "duration": 705,
    "start_time": "2022-06-01T15:59:26.602Z"
   },
   {
    "duration": 18,
    "start_time": "2022-06-01T17:10:22.521Z"
   },
   {
    "duration": 22,
    "start_time": "2022-06-01T17:10:29.422Z"
   },
   {
    "duration": 27,
    "start_time": "2022-06-01T17:10:45.207Z"
   },
   {
    "duration": 30,
    "start_time": "2022-06-01T17:11:01.941Z"
   },
   {
    "duration": 10,
    "start_time": "2022-06-01T17:12:47.812Z"
   },
   {
    "duration": 7,
    "start_time": "2022-06-01T17:12:55.104Z"
   },
   {
    "duration": 11,
    "start_time": "2022-06-01T17:13:21.384Z"
   },
   {
    "duration": 9,
    "start_time": "2022-06-01T17:14:25.282Z"
   },
   {
    "duration": 16,
    "start_time": "2022-06-01T17:23:58.480Z"
   },
   {
    "duration": 4,
    "start_time": "2022-06-01T17:24:05.887Z"
   },
   {
    "duration": 23,
    "start_time": "2022-06-01T17:24:10.699Z"
   },
   {
    "duration": 26,
    "start_time": "2022-06-01T17:25:56.878Z"
   },
   {
    "duration": 25,
    "start_time": "2022-06-01T17:26:31.569Z"
   },
   {
    "duration": 29,
    "start_time": "2022-06-01T17:27:20.001Z"
   },
   {
    "duration": 18,
    "start_time": "2022-06-01T17:27:27.412Z"
   },
   {
    "duration": 28,
    "start_time": "2022-06-01T17:28:01.014Z"
   },
   {
    "duration": 24,
    "start_time": "2022-06-01T17:28:07.450Z"
   },
   {
    "duration": 55,
    "start_time": "2022-06-01T17:28:40.489Z"
   },
   {
    "duration": 23,
    "start_time": "2022-06-01T17:29:20.131Z"
   },
   {
    "duration": 22,
    "start_time": "2022-06-01T17:31:11.939Z"
   },
   {
    "duration": 1316,
    "start_time": "2022-06-01T17:34:14.957Z"
   },
   {
    "duration": 53,
    "start_time": "2022-06-01T17:34:16.274Z"
   },
   {
    "duration": 14,
    "start_time": "2022-06-01T17:34:16.329Z"
   },
   {
    "duration": 12,
    "start_time": "2022-06-01T17:34:16.346Z"
   },
   {
    "duration": 4,
    "start_time": "2022-06-01T17:34:16.360Z"
   },
   {
    "duration": 13,
    "start_time": "2022-06-01T17:34:16.366Z"
   },
   {
    "duration": 15,
    "start_time": "2022-06-01T17:34:16.380Z"
   },
   {
    "duration": 865,
    "start_time": "2022-06-01T17:34:16.397Z"
   },
   {
    "duration": 726,
    "start_time": "2022-06-01T17:34:17.264Z"
   },
   {
    "duration": 256,
    "start_time": "2022-06-01T17:34:17.993Z"
   },
   {
    "duration": 18,
    "start_time": "2022-06-01T17:34:18.251Z"
   },
   {
    "duration": 25,
    "start_time": "2022-06-01T17:34:18.271Z"
   },
   {
    "duration": 144,
    "start_time": "2022-06-01T17:34:18.297Z"
   },
   {
    "duration": 0,
    "start_time": "2022-06-01T17:34:18.443Z"
   },
   {
    "duration": 15,
    "start_time": "2022-06-01T17:43:57.009Z"
   },
   {
    "duration": 3,
    "start_time": "2022-06-01T17:44:01.600Z"
   },
   {
    "duration": 21,
    "start_time": "2022-06-01T17:44:05.767Z"
   },
   {
    "duration": 22,
    "start_time": "2022-06-01T17:44:53.665Z"
   },
   {
    "duration": 20,
    "start_time": "2022-06-01T17:45:45.748Z"
   },
   {
    "duration": 25,
    "start_time": "2022-06-01T17:46:27.849Z"
   },
   {
    "duration": 23,
    "start_time": "2022-06-01T17:46:54.491Z"
   },
   {
    "duration": 9,
    "start_time": "2022-06-01T17:47:28.371Z"
   },
   {
    "duration": 15,
    "start_time": "2022-06-01T17:47:36.222Z"
   },
   {
    "duration": 12,
    "start_time": "2022-06-01T17:48:37.799Z"
   },
   {
    "duration": 25,
    "start_time": "2022-06-01T17:57:37.348Z"
   },
   {
    "duration": 12,
    "start_time": "2022-06-01T17:57:42.383Z"
   },
   {
    "duration": 12,
    "start_time": "2022-06-01T17:58:43.241Z"
   },
   {
    "duration": 1603,
    "start_time": "2022-06-01T19:12:36.883Z"
   },
   {
    "duration": 123,
    "start_time": "2022-06-01T19:12:38.489Z"
   },
   {
    "duration": 15,
    "start_time": "2022-06-01T19:12:38.614Z"
   },
   {
    "duration": 13,
    "start_time": "2022-06-01T19:12:38.632Z"
   },
   {
    "duration": 4,
    "start_time": "2022-06-01T19:12:38.647Z"
   },
   {
    "duration": 18,
    "start_time": "2022-06-01T19:12:38.652Z"
   },
   {
    "duration": 17,
    "start_time": "2022-06-01T19:12:38.672Z"
   },
   {
    "duration": 977,
    "start_time": "2022-06-01T19:12:38.691Z"
   },
   {
    "duration": 808,
    "start_time": "2022-06-01T19:12:39.670Z"
   },
   {
    "duration": 300,
    "start_time": "2022-06-01T19:12:40.481Z"
   },
   {
    "duration": 3,
    "start_time": "2022-06-01T19:12:40.783Z"
   },
   {
    "duration": 41,
    "start_time": "2022-06-01T19:12:40.787Z"
   },
   {
    "duration": 42,
    "start_time": "2022-06-01T19:12:40.830Z"
   },
   {
    "duration": 34,
    "start_time": "2022-06-01T19:12:40.874Z"
   },
   {
    "duration": 7,
    "start_time": "2022-06-01T19:12:40.910Z"
   },
   {
    "duration": 1446,
    "start_time": "2022-06-01T19:13:33.530Z"
   },
   {
    "duration": 50,
    "start_time": "2022-06-01T19:13:34.978Z"
   },
   {
    "duration": 17,
    "start_time": "2022-06-01T19:13:35.030Z"
   },
   {
    "duration": 18,
    "start_time": "2022-06-01T19:13:35.049Z"
   },
   {
    "duration": 4,
    "start_time": "2022-06-01T19:13:35.069Z"
   },
   {
    "duration": 27,
    "start_time": "2022-06-01T19:13:35.075Z"
   },
   {
    "duration": 13,
    "start_time": "2022-06-01T19:13:35.104Z"
   },
   {
    "duration": 969,
    "start_time": "2022-06-01T19:13:35.119Z"
   },
   {
    "duration": 833,
    "start_time": "2022-06-01T19:13:36.090Z"
   },
   {
    "duration": 303,
    "start_time": "2022-06-01T19:13:36.925Z"
   },
   {
    "duration": 3,
    "start_time": "2022-06-01T19:13:37.230Z"
   },
   {
    "duration": 38,
    "start_time": "2022-06-01T19:13:37.235Z"
   },
   {
    "duration": 49,
    "start_time": "2022-06-01T19:13:37.276Z"
   },
   {
    "duration": 17,
    "start_time": "2022-06-01T19:13:37.327Z"
   },
   {
    "duration": 10,
    "start_time": "2022-06-01T19:13:37.346Z"
   },
   {
    "duration": 1359,
    "start_time": "2022-06-01T19:13:53.529Z"
   },
   {
    "duration": 49,
    "start_time": "2022-06-01T19:13:54.890Z"
   },
   {
    "duration": 14,
    "start_time": "2022-06-01T19:13:54.940Z"
   },
   {
    "duration": 15,
    "start_time": "2022-06-01T19:13:54.956Z"
   },
   {
    "duration": 3,
    "start_time": "2022-06-01T19:13:54.973Z"
   },
   {
    "duration": 12,
    "start_time": "2022-06-01T19:13:54.977Z"
   },
   {
    "duration": 12,
    "start_time": "2022-06-01T19:13:55.000Z"
   },
   {
    "duration": 970,
    "start_time": "2022-06-01T19:13:55.014Z"
   },
   {
    "duration": 823,
    "start_time": "2022-06-01T19:13:55.986Z"
   },
   {
    "duration": 285,
    "start_time": "2022-06-01T19:13:56.811Z"
   },
   {
    "duration": 4,
    "start_time": "2022-06-01T19:13:57.098Z"
   },
   {
    "duration": 45,
    "start_time": "2022-06-01T19:13:57.104Z"
   },
   {
    "duration": 37,
    "start_time": "2022-06-01T19:13:57.151Z"
   },
   {
    "duration": 19,
    "start_time": "2022-06-01T19:13:57.191Z"
   },
   {
    "duration": 19,
    "start_time": "2022-06-01T19:13:57.212Z"
   },
   {
    "duration": 1331,
    "start_time": "2022-06-01T19:14:07.132Z"
   },
   {
    "duration": 48,
    "start_time": "2022-06-01T19:14:08.465Z"
   },
   {
    "duration": 12,
    "start_time": "2022-06-01T19:14:08.515Z"
   },
   {
    "duration": 11,
    "start_time": "2022-06-01T19:14:08.528Z"
   },
   {
    "duration": 6,
    "start_time": "2022-06-01T19:14:08.541Z"
   },
   {
    "duration": 17,
    "start_time": "2022-06-01T19:14:08.549Z"
   },
   {
    "duration": 13,
    "start_time": "2022-06-01T19:14:08.567Z"
   },
   {
    "duration": 987,
    "start_time": "2022-06-01T19:14:08.581Z"
   },
   {
    "duration": 862,
    "start_time": "2022-06-01T19:14:09.570Z"
   },
   {
    "duration": 301,
    "start_time": "2022-06-01T19:14:10.434Z"
   },
   {
    "duration": 3,
    "start_time": "2022-06-01T19:14:10.738Z"
   },
   {
    "duration": 25,
    "start_time": "2022-06-01T19:14:10.743Z"
   },
   {
    "duration": 51,
    "start_time": "2022-06-01T19:14:10.770Z"
   },
   {
    "duration": 14,
    "start_time": "2022-06-01T19:14:10.824Z"
   },
   {
    "duration": 9,
    "start_time": "2022-06-01T19:14:10.839Z"
   },
   {
    "duration": 1393,
    "start_time": "2022-06-01T19:14:46.183Z"
   },
   {
    "duration": 49,
    "start_time": "2022-06-01T19:14:47.578Z"
   },
   {
    "duration": 13,
    "start_time": "2022-06-01T19:14:47.629Z"
   },
   {
    "duration": 13,
    "start_time": "2022-06-01T19:14:47.645Z"
   },
   {
    "duration": 3,
    "start_time": "2022-06-01T19:14:47.659Z"
   },
   {
    "duration": 14,
    "start_time": "2022-06-01T19:14:47.664Z"
   },
   {
    "duration": 32,
    "start_time": "2022-06-01T19:14:47.679Z"
   },
   {
    "duration": 943,
    "start_time": "2022-06-01T19:14:47.713Z"
   },
   {
    "duration": 838,
    "start_time": "2022-06-01T19:14:48.657Z"
   },
   {
    "duration": 284,
    "start_time": "2022-06-01T19:14:49.497Z"
   },
   {
    "duration": 4,
    "start_time": "2022-06-01T19:14:49.783Z"
   },
   {
    "duration": 20,
    "start_time": "2022-06-01T19:14:49.800Z"
   },
   {
    "duration": 31,
    "start_time": "2022-06-01T19:14:49.822Z"
   },
   {
    "duration": 184,
    "start_time": "2022-06-01T19:14:49.854Z"
   },
   {
    "duration": 0,
    "start_time": "2022-06-01T19:14:50.040Z"
   },
   {
    "duration": 1410,
    "start_time": "2022-06-01T19:17:18.125Z"
   },
   {
    "duration": 48,
    "start_time": "2022-06-01T19:17:19.537Z"
   },
   {
    "duration": 13,
    "start_time": "2022-06-01T19:17:19.587Z"
   },
   {
    "duration": 13,
    "start_time": "2022-06-01T19:17:19.603Z"
   },
   {
    "duration": 3,
    "start_time": "2022-06-01T19:17:19.618Z"
   },
   {
    "duration": 11,
    "start_time": "2022-06-01T19:17:19.623Z"
   },
   {
    "duration": 23,
    "start_time": "2022-06-01T19:17:19.636Z"
   },
   {
    "duration": 931,
    "start_time": "2022-06-01T19:17:19.661Z"
   },
   {
    "duration": 861,
    "start_time": "2022-06-01T19:17:20.594Z"
   },
   {
    "duration": 322,
    "start_time": "2022-06-01T19:17:21.458Z"
   },
   {
    "duration": 4,
    "start_time": "2022-06-01T19:17:21.782Z"
   },
   {
    "duration": 43,
    "start_time": "2022-06-01T19:17:21.790Z"
   },
   {
    "duration": 47,
    "start_time": "2022-06-01T19:17:21.835Z"
   },
   {
    "duration": 22,
    "start_time": "2022-06-01T19:17:21.884Z"
   },
   {
    "duration": 15,
    "start_time": "2022-06-01T19:17:21.908Z"
   },
   {
    "duration": 7,
    "start_time": "2022-06-01T19:17:58.918Z"
   },
   {
    "duration": 6,
    "start_time": "2022-06-01T19:18:09.819Z"
   },
   {
    "duration": 7,
    "start_time": "2022-06-01T19:18:52.202Z"
   },
   {
    "duration": 1394,
    "start_time": "2022-06-01T19:19:52.210Z"
   },
   {
    "duration": 49,
    "start_time": "2022-06-01T19:19:53.606Z"
   },
   {
    "duration": 14,
    "start_time": "2022-06-01T19:19:53.657Z"
   },
   {
    "duration": 18,
    "start_time": "2022-06-01T19:19:53.673Z"
   },
   {
    "duration": 3,
    "start_time": "2022-06-01T19:19:53.693Z"
   },
   {
    "duration": 21,
    "start_time": "2022-06-01T19:19:53.699Z"
   },
   {
    "duration": 15,
    "start_time": "2022-06-01T19:19:53.721Z"
   },
   {
    "duration": 910,
    "start_time": "2022-06-01T19:19:53.738Z"
   },
   {
    "duration": 796,
    "start_time": "2022-06-01T19:19:54.649Z"
   },
   {
    "duration": 290,
    "start_time": "2022-06-01T19:19:55.447Z"
   },
   {
    "duration": 2,
    "start_time": "2022-06-01T19:19:55.739Z"
   },
   {
    "duration": 29,
    "start_time": "2022-06-01T19:19:55.743Z"
   },
   {
    "duration": 38,
    "start_time": "2022-06-01T19:19:55.774Z"
   },
   {
    "duration": 157,
    "start_time": "2022-06-01T19:19:55.815Z"
   },
   {
    "duration": 0,
    "start_time": "2022-06-01T19:19:55.973Z"
   },
   {
    "duration": 1922,
    "start_time": "2022-06-01T19:20:15.895Z"
   },
   {
    "duration": 89,
    "start_time": "2022-06-01T19:20:17.819Z"
   },
   {
    "duration": 12,
    "start_time": "2022-06-01T19:20:17.910Z"
   },
   {
    "duration": 31,
    "start_time": "2022-06-01T19:20:17.924Z"
   },
   {
    "duration": 3,
    "start_time": "2022-06-01T19:20:18.000Z"
   },
   {
    "duration": 24,
    "start_time": "2022-06-01T19:20:18.005Z"
   },
   {
    "duration": 70,
    "start_time": "2022-06-01T19:20:18.031Z"
   },
   {
    "duration": 1190,
    "start_time": "2022-06-01T19:20:18.102Z"
   },
   {
    "duration": 823,
    "start_time": "2022-06-01T19:20:19.294Z"
   },
   {
    "duration": 293,
    "start_time": "2022-06-01T19:20:20.120Z"
   },
   {
    "duration": 3,
    "start_time": "2022-06-01T19:20:20.414Z"
   },
   {
    "duration": 37,
    "start_time": "2022-06-01T19:20:20.419Z"
   },
   {
    "duration": 43,
    "start_time": "2022-06-01T19:20:20.457Z"
   },
   {
    "duration": 14,
    "start_time": "2022-06-01T19:20:20.502Z"
   },
   {
    "duration": 25,
    "start_time": "2022-06-01T19:20:20.517Z"
   },
   {
    "duration": 24,
    "start_time": "2022-06-01T19:23:51.985Z"
   },
   {
    "duration": 1329,
    "start_time": "2022-06-01T19:24:13.839Z"
   },
   {
    "duration": 46,
    "start_time": "2022-06-01T19:24:15.170Z"
   },
   {
    "duration": 11,
    "start_time": "2022-06-01T19:24:15.218Z"
   },
   {
    "duration": 16,
    "start_time": "2022-06-01T19:24:15.231Z"
   },
   {
    "duration": 4,
    "start_time": "2022-06-01T19:24:15.249Z"
   },
   {
    "duration": 27,
    "start_time": "2022-06-01T19:24:15.255Z"
   },
   {
    "duration": 10,
    "start_time": "2022-06-01T19:24:15.284Z"
   },
   {
    "duration": 865,
    "start_time": "2022-06-01T19:24:15.295Z"
   },
   {
    "duration": 738,
    "start_time": "2022-06-01T19:24:16.162Z"
   },
   {
    "duration": 291,
    "start_time": "2022-06-01T19:24:16.902Z"
   },
   {
    "duration": 3,
    "start_time": "2022-06-01T19:24:17.199Z"
   },
   {
    "duration": 31,
    "start_time": "2022-06-01T19:24:17.204Z"
   },
   {
    "duration": 41,
    "start_time": "2022-06-01T19:24:17.237Z"
   },
   {
    "duration": 32,
    "start_time": "2022-06-01T19:24:17.281Z"
   },
   {
    "duration": 10,
    "start_time": "2022-06-01T19:24:17.314Z"
   },
   {
    "duration": 173,
    "start_time": "2022-06-01T19:24:17.326Z"
   },
   {
    "duration": 1283,
    "start_time": "2022-06-01T19:24:27.674Z"
   },
   {
    "duration": 44,
    "start_time": "2022-06-01T19:24:28.959Z"
   },
   {
    "duration": 10,
    "start_time": "2022-06-01T19:24:29.005Z"
   },
   {
    "duration": 10,
    "start_time": "2022-06-01T19:24:29.017Z"
   },
   {
    "duration": 3,
    "start_time": "2022-06-01T19:24:29.030Z"
   },
   {
    "duration": 13,
    "start_time": "2022-06-01T19:24:29.034Z"
   },
   {
    "duration": 13,
    "start_time": "2022-06-01T19:24:29.048Z"
   },
   {
    "duration": 893,
    "start_time": "2022-06-01T19:24:29.063Z"
   },
   {
    "duration": 753,
    "start_time": "2022-06-01T19:24:29.958Z"
   },
   {
    "duration": 283,
    "start_time": "2022-06-01T19:24:30.713Z"
   },
   {
    "duration": 4,
    "start_time": "2022-06-01T19:24:30.997Z"
   },
   {
    "duration": 33,
    "start_time": "2022-06-01T19:24:31.002Z"
   },
   {
    "duration": 35,
    "start_time": "2022-06-01T19:24:31.037Z"
   },
   {
    "duration": 30,
    "start_time": "2022-06-01T19:24:31.075Z"
   },
   {
    "duration": 6,
    "start_time": "2022-06-01T19:24:31.107Z"
   },
   {
    "duration": 94,
    "start_time": "2022-06-01T19:24:31.115Z"
   },
   {
    "duration": 1437,
    "start_time": "2022-06-01T19:24:42.470Z"
   },
   {
    "duration": 47,
    "start_time": "2022-06-01T19:24:43.909Z"
   },
   {
    "duration": 12,
    "start_time": "2022-06-01T19:24:43.957Z"
   },
   {
    "duration": 11,
    "start_time": "2022-06-01T19:24:43.971Z"
   },
   {
    "duration": 3,
    "start_time": "2022-06-01T19:24:43.985Z"
   },
   {
    "duration": 16,
    "start_time": "2022-06-01T19:24:43.989Z"
   },
   {
    "duration": 9,
    "start_time": "2022-06-01T19:24:44.006Z"
   },
   {
    "duration": 852,
    "start_time": "2022-06-01T19:24:44.016Z"
   },
   {
    "duration": 796,
    "start_time": "2022-06-01T19:24:44.870Z"
   },
   {
    "duration": 283,
    "start_time": "2022-06-01T19:24:45.668Z"
   },
   {
    "duration": 2,
    "start_time": "2022-06-01T19:24:45.953Z"
   },
   {
    "duration": 30,
    "start_time": "2022-06-01T19:24:45.957Z"
   },
   {
    "duration": 31,
    "start_time": "2022-06-01T19:24:45.999Z"
   },
   {
    "duration": 15,
    "start_time": "2022-06-01T19:24:46.032Z"
   },
   {
    "duration": 13,
    "start_time": "2022-06-01T19:24:46.048Z"
   },
   {
    "duration": 240,
    "start_time": "2022-06-01T19:24:46.063Z"
   },
   {
    "duration": 230663,
    "start_time": "2022-06-01T19:30:44.627Z"
   },
   {
    "duration": 1337,
    "start_time": "2022-06-01T20:32:41.139Z"
   },
   {
    "duration": 49,
    "start_time": "2022-06-01T20:32:42.478Z"
   },
   {
    "duration": 13,
    "start_time": "2022-06-01T20:32:42.529Z"
   },
   {
    "duration": 21,
    "start_time": "2022-06-01T20:32:42.543Z"
   },
   {
    "duration": 26,
    "start_time": "2022-06-01T20:32:42.566Z"
   },
   {
    "duration": 25,
    "start_time": "2022-06-01T20:32:42.594Z"
   },
   {
    "duration": 33,
    "start_time": "2022-06-01T20:32:42.621Z"
   },
   {
    "duration": 900,
    "start_time": "2022-06-01T20:32:42.656Z"
   },
   {
    "duration": 796,
    "start_time": "2022-06-01T20:32:43.558Z"
   },
   {
    "duration": 277,
    "start_time": "2022-06-01T20:32:44.357Z"
   },
   {
    "duration": 2,
    "start_time": "2022-06-01T20:32:44.636Z"
   },
   {
    "duration": 27,
    "start_time": "2022-06-01T20:32:44.640Z"
   },
   {
    "duration": 47,
    "start_time": "2022-06-01T20:32:44.669Z"
   },
   {
    "duration": 14,
    "start_time": "2022-06-01T20:32:44.718Z"
   },
   {
    "duration": 6,
    "start_time": "2022-06-01T20:32:44.734Z"
   },
   {
    "duration": 160,
    "start_time": "2022-06-01T20:32:44.742Z"
   },
   {
    "duration": 234453,
    "start_time": "2022-06-01T20:32:44.904Z"
   },
   {
    "duration": 1769,
    "start_time": "2022-06-02T06:08:52.077Z"
   },
   {
    "duration": 119,
    "start_time": "2022-06-02T06:08:53.848Z"
   },
   {
    "duration": 13,
    "start_time": "2022-06-02T06:08:53.969Z"
   },
   {
    "duration": 20,
    "start_time": "2022-06-02T06:08:53.984Z"
   },
   {
    "duration": 3,
    "start_time": "2022-06-02T06:08:54.006Z"
   },
   {
    "duration": 12,
    "start_time": "2022-06-02T06:08:54.011Z"
   },
   {
    "duration": 11,
    "start_time": "2022-06-02T06:08:54.024Z"
   },
   {
    "duration": 940,
    "start_time": "2022-06-02T06:08:54.037Z"
   },
   {
    "duration": 751,
    "start_time": "2022-06-02T06:08:54.980Z"
   },
   {
    "duration": 277,
    "start_time": "2022-06-02T06:08:55.733Z"
   },
   {
    "duration": 3,
    "start_time": "2022-06-02T06:08:56.012Z"
   },
   {
    "duration": 29,
    "start_time": "2022-06-02T06:08:56.026Z"
   },
   {
    "duration": 32,
    "start_time": "2022-06-02T06:08:56.057Z"
   },
   {
    "duration": 42,
    "start_time": "2022-06-02T06:08:56.092Z"
   },
   {
    "duration": 7,
    "start_time": "2022-06-02T06:08:56.136Z"
   },
   {
    "duration": 184,
    "start_time": "2022-06-02T06:08:56.145Z"
   },
   {
    "duration": 225387,
    "start_time": "2022-06-02T06:08:56.331Z"
   },
   {
    "duration": 1602,
    "start_time": "2022-06-02T06:42:31.697Z"
   },
   {
    "duration": 50,
    "start_time": "2022-06-02T06:42:33.301Z"
   },
   {
    "duration": 14,
    "start_time": "2022-06-02T06:42:33.353Z"
   },
   {
    "duration": 17,
    "start_time": "2022-06-02T06:42:33.369Z"
   },
   {
    "duration": 9,
    "start_time": "2022-06-02T06:42:33.389Z"
   },
   {
    "duration": 26,
    "start_time": "2022-06-02T06:42:33.400Z"
   },
   {
    "duration": 16,
    "start_time": "2022-06-02T06:42:33.428Z"
   },
   {
    "duration": 1000,
    "start_time": "2022-06-02T06:42:33.446Z"
   },
   {
    "duration": 933,
    "start_time": "2022-06-02T06:42:34.448Z"
   },
   {
    "duration": 330,
    "start_time": "2022-06-02T06:42:35.383Z"
   },
   {
    "duration": 14,
    "start_time": "2022-06-02T06:42:35.715Z"
   },
   {
    "duration": 45,
    "start_time": "2022-06-02T06:42:35.731Z"
   },
   {
    "duration": 40,
    "start_time": "2022-06-02T06:42:35.778Z"
   },
   {
    "duration": 14,
    "start_time": "2022-06-02T06:42:35.828Z"
   },
   {
    "duration": 18,
    "start_time": "2022-06-02T06:42:35.844Z"
   },
   {
    "duration": 267,
    "start_time": "2022-06-02T06:42:35.865Z"
   },
   {
    "duration": 246551,
    "start_time": "2022-06-02T06:42:36.134Z"
   },
   {
    "duration": 4651304,
    "start_time": "2022-06-02T06:46:42.687Z"
   },
   {
    "duration": 133,
    "start_time": "2022-06-02T08:04:13.993Z"
   },
   {
    "duration": 4,
    "start_time": "2022-06-02T08:22:08.502Z"
   },
   {
    "duration": 346237,
    "start_time": "2022-06-02T08:22:15.013Z"
   },
   {
    "duration": 30586,
    "start_time": "2022-06-02T08:59:08.144Z"
   },
   {
    "duration": 430872,
    "start_time": "2022-06-02T09:06:08.866Z"
   },
   {
    "duration": 1471,
    "start_time": "2022-06-02T09:58:29.815Z"
   },
   {
    "duration": 51,
    "start_time": "2022-06-02T09:58:31.289Z"
   },
   {
    "duration": 15,
    "start_time": "2022-06-02T09:58:31.342Z"
   },
   {
    "duration": 32,
    "start_time": "2022-06-02T09:58:31.359Z"
   },
   {
    "duration": 14,
    "start_time": "2022-06-02T09:58:31.393Z"
   },
   {
    "duration": 45,
    "start_time": "2022-06-02T09:58:31.412Z"
   },
   {
    "duration": 101,
    "start_time": "2022-06-02T09:58:31.459Z"
   },
   {
    "duration": 955,
    "start_time": "2022-06-02T09:58:31.562Z"
   },
   {
    "duration": 829,
    "start_time": "2022-06-02T09:58:32.520Z"
   },
   {
    "duration": 304,
    "start_time": "2022-06-02T09:58:33.351Z"
   },
   {
    "duration": 2,
    "start_time": "2022-06-02T09:58:33.657Z"
   },
   {
    "duration": 30,
    "start_time": "2022-06-02T09:58:33.661Z"
   },
   {
    "duration": 50,
    "start_time": "2022-06-02T09:58:33.693Z"
   },
   {
    "duration": 14,
    "start_time": "2022-06-02T09:58:33.745Z"
   },
   {
    "duration": 13,
    "start_time": "2022-06-02T09:58:33.760Z"
   },
   {
    "duration": 158,
    "start_time": "2022-06-02T09:58:33.774Z"
   },
   {
    "duration": 228271,
    "start_time": "2022-06-02T09:58:33.935Z"
   },
   {
    "duration": 4800502,
    "start_time": "2022-06-02T10:02:22.208Z"
   },
   {
    "duration": 1605,
    "start_time": "2022-06-02T14:10:09.160Z"
   },
   {
    "duration": 55,
    "start_time": "2022-06-02T14:10:10.768Z"
   },
   {
    "duration": 16,
    "start_time": "2022-06-02T14:10:10.828Z"
   },
   {
    "duration": 39,
    "start_time": "2022-06-02T14:10:10.847Z"
   },
   {
    "duration": 6,
    "start_time": "2022-06-02T14:10:10.889Z"
   },
   {
    "duration": 17,
    "start_time": "2022-06-02T14:10:10.898Z"
   },
   {
    "duration": 16,
    "start_time": "2022-06-02T14:10:10.917Z"
   },
   {
    "duration": 1071,
    "start_time": "2022-06-02T14:10:10.935Z"
   },
   {
    "duration": 939,
    "start_time": "2022-06-02T14:10:12.009Z"
   },
   {
    "duration": 330,
    "start_time": "2022-06-02T14:10:12.952Z"
   },
   {
    "duration": 4,
    "start_time": "2022-06-02T14:10:13.283Z"
   },
   {
    "duration": 46,
    "start_time": "2022-06-02T14:10:13.288Z"
   },
   {
    "duration": 37,
    "start_time": "2022-06-02T14:10:13.337Z"
   },
   {
    "duration": 23,
    "start_time": "2022-06-02T14:10:13.376Z"
   },
   {
    "duration": 29,
    "start_time": "2022-06-02T14:10:13.400Z"
   },
   {
    "duration": 327,
    "start_time": "2022-06-02T14:10:13.431Z"
   },
   {
    "duration": 253280,
    "start_time": "2022-06-02T14:10:13.762Z"
   },
   {
    "duration": 2150,
    "start_time": "2022-06-02T15:04:35.274Z"
   },
   {
    "duration": 117,
    "start_time": "2022-06-02T15:04:37.441Z"
   },
   {
    "duration": 13,
    "start_time": "2022-06-02T15:04:37.560Z"
   },
   {
    "duration": 10,
    "start_time": "2022-06-02T15:04:37.575Z"
   },
   {
    "duration": 3,
    "start_time": "2022-06-02T15:04:37.586Z"
   },
   {
    "duration": 31,
    "start_time": "2022-06-02T15:04:37.590Z"
   },
   {
    "duration": 25,
    "start_time": "2022-06-02T15:04:37.623Z"
   },
   {
    "duration": 971,
    "start_time": "2022-06-02T15:04:37.650Z"
   },
   {
    "duration": 868,
    "start_time": "2022-06-02T15:04:38.623Z"
   },
   {
    "duration": 350,
    "start_time": "2022-06-02T15:04:39.494Z"
   },
   {
    "duration": 4,
    "start_time": "2022-06-02T15:04:39.846Z"
   },
   {
    "duration": 34,
    "start_time": "2022-06-02T15:04:39.852Z"
   },
   {
    "duration": 56,
    "start_time": "2022-06-02T15:04:39.888Z"
   },
   {
    "duration": 18,
    "start_time": "2022-06-02T15:04:39.946Z"
   },
   {
    "duration": 7,
    "start_time": "2022-06-02T15:04:39.966Z"
   },
   {
    "duration": 154,
    "start_time": "2022-06-02T15:04:39.975Z"
   },
   {
    "duration": 250968,
    "start_time": "2022-06-02T15:04:40.133Z"
   },
   {
    "duration": 1596,
    "start_time": "2022-06-03T12:11:53.481Z"
   },
   {
    "duration": 155,
    "start_time": "2022-06-03T12:11:55.079Z"
   },
   {
    "duration": 21,
    "start_time": "2022-06-03T12:11:55.235Z"
   },
   {
    "duration": 13,
    "start_time": "2022-06-03T12:11:55.257Z"
   },
   {
    "duration": 3,
    "start_time": "2022-06-03T12:11:55.272Z"
   },
   {
    "duration": 10,
    "start_time": "2022-06-03T12:11:55.277Z"
   },
   {
    "duration": 9,
    "start_time": "2022-06-03T12:11:55.289Z"
   },
   {
    "duration": 1025,
    "start_time": "2022-06-03T12:11:55.300Z"
   },
   {
    "duration": 878,
    "start_time": "2022-06-03T12:11:56.327Z"
   },
   {
    "duration": 294,
    "start_time": "2022-06-03T12:11:57.207Z"
   },
   {
    "duration": 3,
    "start_time": "2022-06-03T12:11:57.503Z"
   },
   {
    "duration": 44,
    "start_time": "2022-06-03T12:11:57.507Z"
   },
   {
    "duration": 34,
    "start_time": "2022-06-03T12:11:57.552Z"
   },
   {
    "duration": 13,
    "start_time": "2022-06-03T12:11:57.589Z"
   },
   {
    "duration": 6,
    "start_time": "2022-06-03T12:11:57.604Z"
   },
   {
    "duration": 236,
    "start_time": "2022-06-03T12:11:57.612Z"
   },
   {
    "duration": 258034,
    "start_time": "2022-06-03T12:11:57.849Z"
   },
   {
    "duration": 1405,
    "start_time": "2022-06-03T13:06:42.131Z"
   },
   {
    "duration": 141,
    "start_time": "2022-06-03T13:06:43.538Z"
   },
   {
    "duration": 13,
    "start_time": "2022-06-03T13:06:43.681Z"
   },
   {
    "duration": 12,
    "start_time": "2022-06-03T13:06:43.696Z"
   },
   {
    "duration": 4,
    "start_time": "2022-06-03T13:06:43.710Z"
   },
   {
    "duration": 10,
    "start_time": "2022-06-03T13:06:43.716Z"
   },
   {
    "duration": 31,
    "start_time": "2022-06-03T13:06:43.728Z"
   },
   {
    "duration": 1000,
    "start_time": "2022-06-03T13:06:43.760Z"
   },
   {
    "duration": 853,
    "start_time": "2022-06-03T13:06:44.762Z"
   },
   {
    "duration": 288,
    "start_time": "2022-06-03T13:06:45.617Z"
   },
   {
    "duration": 3,
    "start_time": "2022-06-03T13:06:45.908Z"
   },
   {
    "duration": 53,
    "start_time": "2022-06-03T13:06:45.912Z"
   },
   {
    "duration": 39,
    "start_time": "2022-06-03T13:06:45.968Z"
   },
   {
    "duration": 13,
    "start_time": "2022-06-03T13:06:46.010Z"
   },
   {
    "duration": 8,
    "start_time": "2022-06-03T13:06:46.025Z"
   },
   {
    "duration": 53,
    "start_time": "2022-06-03T13:06:46.041Z"
   },
   {
    "duration": 264143,
    "start_time": "2022-06-03T13:06:46.240Z"
   },
   {
    "duration": 1455,
    "start_time": "2022-06-03T13:53:59.014Z"
   },
   {
    "duration": 63,
    "start_time": "2022-06-03T13:54:00.474Z"
   },
   {
    "duration": 14,
    "start_time": "2022-06-03T13:54:00.539Z"
   },
   {
    "duration": 59,
    "start_time": "2022-06-03T13:54:00.555Z"
   },
   {
    "duration": 7,
    "start_time": "2022-06-03T13:54:00.617Z"
   },
   {
    "duration": 25,
    "start_time": "2022-06-03T13:54:00.626Z"
   },
   {
    "duration": 34,
    "start_time": "2022-06-03T13:54:00.653Z"
   },
   {
    "duration": 1016,
    "start_time": "2022-06-03T13:54:00.689Z"
   },
   {
    "duration": 950,
    "start_time": "2022-06-03T13:54:01.707Z"
   },
   {
    "duration": 318,
    "start_time": "2022-06-03T13:54:02.663Z"
   },
   {
    "duration": 3,
    "start_time": "2022-06-03T13:54:02.983Z"
   },
   {
    "duration": 27,
    "start_time": "2022-06-03T13:54:02.987Z"
   },
   {
    "duration": 40,
    "start_time": "2022-06-03T13:54:03.016Z"
   },
   {
    "duration": 17,
    "start_time": "2022-06-03T13:54:03.060Z"
   },
   {
    "duration": 7,
    "start_time": "2022-06-03T13:54:03.079Z"
   },
   {
    "duration": 60,
    "start_time": "2022-06-03T13:54:03.088Z"
   },
   {
    "duration": 263678,
    "start_time": "2022-06-03T13:54:03.151Z"
   },
   {
    "duration": 4796703,
    "start_time": "2022-06-03T13:58:26.831Z"
   },
   {
    "duration": 314723,
    "start_time": "2022-06-03T15:18:23.536Z"
   },
   {
    "duration": 9,
    "start_time": "2022-06-03T15:48:23.733Z"
   },
   {
    "duration": 2497,
    "start_time": "2022-06-03T15:48:23.826Z"
   },
   {
    "duration": 7076,
    "start_time": "2022-06-03T15:48:26.325Z"
   },
   {
    "duration": 28,
    "start_time": "2022-06-03T15:48:33.402Z"
   },
   {
    "duration": 0,
    "start_time": "2022-06-03T15:48:33.431Z"
   },
   {
    "duration": 0,
    "start_time": "2022-06-03T15:48:33.433Z"
   },
   {
    "duration": 0,
    "start_time": "2022-06-03T15:48:33.434Z"
   },
   {
    "duration": 28,
    "start_time": "2022-06-03T15:49:06.744Z"
   },
   {
    "duration": 0,
    "start_time": "2022-06-03T15:49:06.773Z"
   },
   {
    "duration": 0,
    "start_time": "2022-06-03T15:49:06.774Z"
   },
   {
    "duration": 129,
    "start_time": "2022-06-03T15:49:17.060Z"
   },
   {
    "duration": 0,
    "start_time": "2022-06-03T15:49:17.191Z"
   },
   {
    "duration": 2537,
    "start_time": "2022-06-03T15:50:05.093Z"
   },
   {
    "duration": 0,
    "start_time": "2022-06-03T15:50:07.632Z"
   },
   {
    "duration": 2592,
    "start_time": "2022-06-03T15:51:44.474Z"
   },
   {
    "duration": 2551,
    "start_time": "2022-06-03T15:52:03.607Z"
   },
   {
    "duration": 3041,
    "start_time": "2022-06-03T15:52:17.700Z"
   },
   {
    "duration": 442,
    "start_time": "2022-06-03T15:52:37.520Z"
   },
   {
    "duration": 1361,
    "start_time": "2022-06-03T15:55:27.865Z"
   },
   {
    "duration": 48,
    "start_time": "2022-06-03T15:55:29.228Z"
   },
   {
    "duration": 12,
    "start_time": "2022-06-03T15:55:29.277Z"
   },
   {
    "duration": 22,
    "start_time": "2022-06-03T15:55:29.291Z"
   },
   {
    "duration": 13,
    "start_time": "2022-06-03T15:55:29.315Z"
   },
   {
    "duration": 23,
    "start_time": "2022-06-03T15:55:29.330Z"
   },
   {
    "duration": 14,
    "start_time": "2022-06-03T15:55:29.355Z"
   },
   {
    "duration": 958,
    "start_time": "2022-06-03T15:55:29.371Z"
   },
   {
    "duration": 842,
    "start_time": "2022-06-03T15:55:30.331Z"
   },
   {
    "duration": 277,
    "start_time": "2022-06-03T15:55:31.175Z"
   },
   {
    "duration": 3,
    "start_time": "2022-06-03T15:55:31.454Z"
   },
   {
    "duration": 45,
    "start_time": "2022-06-03T15:55:31.458Z"
   },
   {
    "duration": 37,
    "start_time": "2022-06-03T15:55:31.505Z"
   },
   {
    "duration": 13,
    "start_time": "2022-06-03T15:55:31.545Z"
   },
   {
    "duration": 9,
    "start_time": "2022-06-03T15:55:31.560Z"
   },
   {
    "duration": 170,
    "start_time": "2022-06-03T15:55:31.571Z"
   },
   {
    "duration": 235730,
    "start_time": "2022-06-03T15:55:31.743Z"
   },
   {
    "duration": 4559962,
    "start_time": "2022-06-03T15:59:27.475Z"
   },
   {
    "duration": 29811,
    "start_time": "2022-06-03T17:15:27.438Z"
   },
   {
    "duration": 9,
    "start_time": "2022-06-03T17:15:57.251Z"
   },
   {
    "duration": 2595,
    "start_time": "2022-06-03T17:15:57.262Z"
   },
   {
    "duration": 7073,
    "start_time": "2022-06-03T17:15:59.858Z"
   },
   {
    "duration": 3038,
    "start_time": "2022-06-03T17:16:06.933Z"
   },
   {
    "duration": 400,
    "start_time": "2022-06-03T17:16:09.973Z"
   },
   {
    "duration": 1801,
    "start_time": "2022-06-04T17:46:13.316Z"
   },
   {
    "duration": 157,
    "start_time": "2022-06-04T17:46:15.121Z"
   },
   {
    "duration": 23,
    "start_time": "2022-06-04T17:46:15.280Z"
   },
   {
    "duration": 23,
    "start_time": "2022-06-04T17:46:15.304Z"
   },
   {
    "duration": 3,
    "start_time": "2022-06-04T17:46:15.331Z"
   },
   {
    "duration": 12,
    "start_time": "2022-06-04T17:46:15.336Z"
   },
   {
    "duration": 11,
    "start_time": "2022-06-04T17:46:15.350Z"
   },
   {
    "duration": 1081,
    "start_time": "2022-06-04T17:46:15.363Z"
   },
   {
    "duration": 926,
    "start_time": "2022-06-04T17:46:16.447Z"
   },
   {
    "duration": 215,
    "start_time": "2022-06-04T17:46:17.375Z"
   },
   {
    "duration": 10,
    "start_time": "2022-06-04T17:46:17.596Z"
   },
   {
    "duration": 190,
    "start_time": "2022-06-04T17:46:17.613Z"
   },
   {
    "duration": 149,
    "start_time": "2022-06-04T17:46:17.812Z"
   },
   {
    "duration": 0,
    "start_time": "2022-06-04T17:46:17.963Z"
   },
   {
    "duration": 0,
    "start_time": "2022-06-04T17:46:17.964Z"
   },
   {
    "duration": 0,
    "start_time": "2022-06-04T17:46:17.966Z"
   },
   {
    "duration": 0,
    "start_time": "2022-06-04T17:46:17.967Z"
   },
   {
    "duration": 0,
    "start_time": "2022-06-04T17:46:17.968Z"
   },
   {
    "duration": 0,
    "start_time": "2022-06-04T17:46:17.970Z"
   },
   {
    "duration": 0,
    "start_time": "2022-06-04T17:46:17.971Z"
   },
   {
    "duration": 0,
    "start_time": "2022-06-04T17:46:17.973Z"
   },
   {
    "duration": 0,
    "start_time": "2022-06-04T17:46:17.990Z"
   },
   {
    "duration": 1,
    "start_time": "2022-06-04T17:46:17.996Z"
   },
   {
    "duration": 0,
    "start_time": "2022-06-04T17:46:17.997Z"
   },
   {
    "duration": 1777,
    "start_time": "2022-06-04T17:47:27.240Z"
   },
   {
    "duration": 49,
    "start_time": "2022-06-04T17:47:29.022Z"
   },
   {
    "duration": 11,
    "start_time": "2022-06-04T17:47:29.073Z"
   },
   {
    "duration": 33,
    "start_time": "2022-06-04T17:47:29.086Z"
   },
   {
    "duration": 11,
    "start_time": "2022-06-04T17:47:29.121Z"
   },
   {
    "duration": 12,
    "start_time": "2022-06-04T17:47:29.134Z"
   },
   {
    "duration": 11,
    "start_time": "2022-06-04T17:47:29.148Z"
   },
   {
    "duration": 1096,
    "start_time": "2022-06-04T17:47:29.160Z"
   },
   {
    "duration": 973,
    "start_time": "2022-06-04T17:47:30.259Z"
   },
   {
    "duration": 235,
    "start_time": "2022-06-04T17:47:31.235Z"
   },
   {
    "duration": 4,
    "start_time": "2022-06-04T17:47:31.472Z"
   },
   {
    "duration": 37,
    "start_time": "2022-06-04T17:47:31.491Z"
   },
   {
    "duration": 47,
    "start_time": "2022-06-04T17:47:31.529Z"
   },
   {
    "duration": 133,
    "start_time": "2022-06-04T17:47:31.578Z"
   },
   {
    "duration": 24,
    "start_time": "2022-06-04T17:47:31.718Z"
   },
   {
    "duration": 253,
    "start_time": "2022-06-04T17:47:31.745Z"
   },
   {
    "duration": 172147,
    "start_time": "2022-06-04T17:47:32.004Z"
   }
  ],
  "kernelspec": {
   "display_name": "Python 3 (ipykernel)",
   "language": "python",
   "name": "python3"
  },
  "language_info": {
   "codemirror_mode": {
    "name": "ipython",
    "version": 3
   },
   "file_extension": ".py",
   "mimetype": "text/x-python",
   "name": "python",
   "nbconvert_exporter": "python",
   "pygments_lexer": "ipython3",
   "version": "3.9.10"
  },
  "toc": {
   "base_numbering": 1,
   "nav_menu": {},
   "number_sections": true,
   "sideBar": true,
   "skip_h1_title": true,
   "title_cell": "Содержание",
   "title_sidebar": "Contents",
   "toc_cell": true,
   "toc_position": {
    "height": "calc(100% - 180px)",
    "left": "10px",
    "top": "150px",
    "width": "358.188px"
   },
   "toc_section_display": true,
   "toc_window_display": false
  }
 },
 "nbformat": 4,
 "nbformat_minor": 2
}
