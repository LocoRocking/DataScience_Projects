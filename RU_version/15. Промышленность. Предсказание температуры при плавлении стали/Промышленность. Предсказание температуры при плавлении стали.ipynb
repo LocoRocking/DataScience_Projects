{
 "cells": [
  {
   "cell_type": "markdown",
   "id": "5644cf74",
   "metadata": {},
   "source": [
    "# Промышленность"
   ]
  },
  {
   "cell_type": "markdown",
   "id": "16065230",
   "metadata": {},
   "source": [
    "Чтобы оптимизировать производственные расходы, металлургический комбинат ООО «Так закаляем сталь» решил уменьшить потребление электроэнергии на этапе обработки стали. Вам предстоит построить модель, которая предскажет температуру стали."
   ]
  },
  {
   "cell_type": "markdown",
   "id": "1bf94ca0",
   "metadata": {},
   "source": [
    "## Описание этапа обработки\n",
    "\n",
    "Сталь обрабатывают в металлическом ковше вместимостью около 100 тонн. Чтобы ковш выдерживал высокие температуры, изнутри его облицовывают огнеупорным кирпичом. Расплавленную сталь заливают в ковш и подогревают до нужной температуры графитовыми электродами. Они установлены в крышке ковша. \n",
    "\n",
    "Из сплава выводится сера (десульфурация), добавлением примесей корректируется химический состав и отбираются пробы. Сталь легируют — изменяют её состав — подавая куски сплава из бункера для сыпучих материалов или проволоку через специальный трайб-аппарат (англ. tribe, «масса»).\n",
    "\n",
    "Перед тем как первый раз ввести легирующие добавки, измеряют температуру стали и производят её химический анализ. Потом температуру на несколько минут повышают, добавляют легирующие материалы и продувают сплав инертным газом. Затем его перемешивают и снова проводят измерения. Такой цикл повторяется до достижения целевого химического состава и оптимальной температуры плавки.\n",
    "\n",
    "Тогда расплавленная сталь отправляется на доводку металла или поступает в машину непрерывной разливки. Оттуда готовый продукт выходит в виде заготовок-слябов (англ. *slab*, «плита»)."
   ]
  },
  {
   "cell_type": "markdown",
   "id": "783bb404",
   "metadata": {},
   "source": [
    "### Описание данных\n",
    "\n",
    "Данные состоят из файлов, полученных из разных источников:\n",
    "\n",
    "- `data_arc.csv` — данные об электродах;\n",
    "- `data_bulk.csv` — данные о подаче сыпучих материалов (объём);\n",
    "- `data_bulk_time.csv` — данные о подаче сыпучих материалов (время);\n",
    "- `data_gas.csv` — данные о продувке сплава газом;\n",
    "- `data_temp.csv` — результаты измерения температуры;\n",
    "- `data_wire.csv` — данные о проволочных материалах (объём);\n",
    "- `data_wire_time.csv` — данные о проволочных материалах (время).\n",
    "\n",
    "Во всех файлах столбец `key` содержит номер партии. В файлах может быть несколько строк с одинаковым значением `key`: они соответствуют разным итерациям обработки."
   ]
  },
  {
   "cell_type": "code",
   "execution_count": 1,
   "id": "489fb568",
   "metadata": {},
   "outputs": [],
   "source": [
    "#импорт необходимых библиотек\n",
    "import pandas as pd\n",
    "import numpy as np\n",
    "import seaborn as sns\n",
    "import matplotlib.pyplot as plt\n",
    "\n",
    "from sklearn.metrics import mean_absolute_error as mae\n",
    "from sklearn.model_selection import train_test_split\n",
    "from sklearn.model_selection import GridSearchCV, cross_val_score\n",
    "\n",
    "from catboost import CatBoostRegressor\n",
    "from lightgbm import LGBMRegressor\n",
    "from sklearn.ensemble import RandomForestRegressor\n",
    "from sklearn.linear_model import LinearRegression\n",
    "from sklearn.dummy import DummyRegressor\n",
    "\n",
    "import warnings\n",
    "warnings.filterwarnings('ignore')"
   ]
  },
  {
   "cell_type": "code",
   "execution_count": 2,
   "id": "1c5ac6f4",
   "metadata": {},
   "outputs": [],
   "source": [
    "#загрузим датасеты\n",
    "try:\n",
    "    df_arc = pd.read_csv('/datasets/final_steel/data_arc.csv')\n",
    "    df_bulk = pd.read_csv('/datasets/final_steel/data_bulk.csv')\n",
    "    df_bulk_time = pd.read_csv('/datasets/final_steel/data_bulk_time.csv')\n",
    "    df_gas = pd.read_csv('/datasets/final_steel/data_gas.csv')\n",
    "    df_temp = pd.read_csv('/datasets/final_steel/data_temp.csv')\n",
    "    df_wire = pd.read_csv('/datasets/final_steel/data_wire.csv')\n",
    "    df_wire_time = pd.read_csv('/datasets/final_steel/data_wire_time.csv')\n",
    "except FileNotFoundError:\n",
    "    print(\"File not found.\")\n",
    "except pd.errors.EmptyDataError:\n",
    "    print(\"No data\")\n",
    "except pd.errors.ParserError:\n",
    "    print(\"Parse error\")\n",
    "except Exception:\n",
    "    print(\"Some other exception\")"
   ]
  },
  {
   "cell_type": "markdown",
   "id": "44eb8367",
   "metadata": {},
   "source": [
    "## Подготовка данных"
   ]
  },
  {
   "cell_type": "markdown",
   "id": "f4a43903",
   "metadata": {},
   "source": [
    "На этом этапе изучим общую информацию о датасетах."
   ]
  },
  {
   "cell_type": "markdown",
   "id": "e7926dd4",
   "metadata": {},
   "source": [
    "### Данные об электродах"
   ]
  },
  {
   "cell_type": "markdown",
   "id": "e8ed0719",
   "metadata": {},
   "source": [
    "Этими графитовыми электродами подогревают сталь до нужной температуры."
   ]
  },
  {
   "cell_type": "code",
   "execution_count": 3,
   "id": "a607624f",
   "metadata": {},
   "outputs": [
    {
     "data": {
      "text/html": [
       "<div>\n",
       "<style scoped>\n",
       "    .dataframe tbody tr th:only-of-type {\n",
       "        vertical-align: middle;\n",
       "    }\n",
       "\n",
       "    .dataframe tbody tr th {\n",
       "        vertical-align: top;\n",
       "    }\n",
       "\n",
       "    .dataframe thead th {\n",
       "        text-align: right;\n",
       "    }\n",
       "</style>\n",
       "<table border=\"1\" class=\"dataframe\">\n",
       "  <thead>\n",
       "    <tr style=\"text-align: right;\">\n",
       "      <th></th>\n",
       "      <th>key</th>\n",
       "      <th>Начало нагрева дугой</th>\n",
       "      <th>Конец нагрева дугой</th>\n",
       "      <th>Активная мощность</th>\n",
       "      <th>Реактивная мощность</th>\n",
       "    </tr>\n",
       "  </thead>\n",
       "  <tbody>\n",
       "    <tr>\n",
       "      <th>5932</th>\n",
       "      <td>1292</td>\n",
       "      <td>2019-06-18 23:41:02</td>\n",
       "      <td>2019-06-18 23:45:02</td>\n",
       "      <td>0.998083</td>\n",
       "      <td>0.918491</td>\n",
       "    </tr>\n",
       "    <tr>\n",
       "      <th>1676</th>\n",
       "      <td>361</td>\n",
       "      <td>2019-05-17 02:12:44</td>\n",
       "      <td>2019-05-17 02:14:48</td>\n",
       "      <td>0.425813</td>\n",
       "      <td>0.311488</td>\n",
       "    </tr>\n",
       "    <tr>\n",
       "      <th>974</th>\n",
       "      <td>210</td>\n",
       "      <td>2019-05-11 01:14:03</td>\n",
       "      <td>2019-05-11 01:16:33</td>\n",
       "      <td>0.520379</td>\n",
       "      <td>0.387384</td>\n",
       "    </tr>\n",
       "    <tr>\n",
       "      <th>866</th>\n",
       "      <td>183</td>\n",
       "      <td>2019-05-10 04:38:34</td>\n",
       "      <td>2019-05-10 04:42:07</td>\n",
       "      <td>0.769795</td>\n",
       "      <td>0.616236</td>\n",
       "    </tr>\n",
       "    <tr>\n",
       "      <th>4387</th>\n",
       "      <td>944</td>\n",
       "      <td>2019-06-07 08:49:47</td>\n",
       "      <td>2019-06-07 08:52:54</td>\n",
       "      <td>0.663982</td>\n",
       "      <td>0.485957</td>\n",
       "    </tr>\n",
       "  </tbody>\n",
       "</table>\n",
       "</div>"
      ],
      "text/plain": [
       "       key Начало нагрева дугой  Конец нагрева дугой  Активная мощность  \\\n",
       "5932  1292  2019-06-18 23:41:02  2019-06-18 23:45:02           0.998083   \n",
       "1676   361  2019-05-17 02:12:44  2019-05-17 02:14:48           0.425813   \n",
       "974    210  2019-05-11 01:14:03  2019-05-11 01:16:33           0.520379   \n",
       "866    183  2019-05-10 04:38:34  2019-05-10 04:42:07           0.769795   \n",
       "4387   944  2019-06-07 08:49:47  2019-06-07 08:52:54           0.663982   \n",
       "\n",
       "      Реактивная мощность  \n",
       "5932             0.918491  \n",
       "1676             0.311488  \n",
       "974              0.387384  \n",
       "866              0.616236  \n",
       "4387             0.485957  "
      ]
     },
     "execution_count": 3,
     "metadata": {},
     "output_type": "execute_result"
    }
   ],
   "source": [
    "df_arc.sample(5)"
   ]
  },
  {
   "cell_type": "code",
   "execution_count": 4,
   "id": "36140630",
   "metadata": {},
   "outputs": [
    {
     "name": "stdout",
     "output_type": "stream",
     "text": [
      "<class 'pandas.core.frame.DataFrame'>\n",
      "RangeIndex: 14876 entries, 0 to 14875\n",
      "Data columns (total 5 columns):\n",
      " #   Column                Non-Null Count  Dtype  \n",
      "---  ------                --------------  -----  \n",
      " 0   key                   14876 non-null  int64  \n",
      " 1   Начало нагрева дугой  14876 non-null  object \n",
      " 2   Конец нагрева дугой   14876 non-null  object \n",
      " 3   Активная мощность     14876 non-null  float64\n",
      " 4   Реактивная мощность   14876 non-null  float64\n",
      "dtypes: float64(2), int64(1), object(2)\n",
      "memory usage: 581.2+ KB\n"
     ]
    }
   ],
   "source": [
    "df_arc.info()"
   ]
  },
  {
   "cell_type": "markdown",
   "id": "81a00f38",
   "metadata": {},
   "source": [
    "В данном датасете 5 столбцов и 14 876 строк. Пропусков нет. Столбцы \"Начало нагрева дугой\" и \"Конец нагрева дугой\" нужно привести к типу datetime."
   ]
  },
  {
   "cell_type": "code",
   "execution_count": 5,
   "id": "a0b46c71",
   "metadata": {},
   "outputs": [
    {
     "data": {
      "text/plain": [
       "key                              int64\n",
       "Начало нагрева дугой    datetime64[ns]\n",
       "Конец нагрева дугой     datetime64[ns]\n",
       "Активная мощность              float64\n",
       "Реактивная мощность            float64\n",
       "dtype: object"
      ]
     },
     "execution_count": 5,
     "metadata": {},
     "output_type": "execute_result"
    }
   ],
   "source": [
    "#изменим тип данных на datetime\n",
    "df_arc['Начало нагрева дугой'] = pd.to_datetime(df_arc['Начало нагрева дугой'], format='%Y-%m-%d %H:%M:%S')\n",
    "df_arc['Конец нагрева дугой'] = pd.to_datetime(df_arc['Конец нагрева дугой'], format='%Y-%m-%d %H:%M:%S')\n",
    "#и проверим, что тип данных успешно изменен\n",
    "df_arc.dtypes"
   ]
  },
  {
   "cell_type": "code",
   "execution_count": 6,
   "id": "1abc5f3b",
   "metadata": {},
   "outputs": [
    {
     "name": "stdout",
     "output_type": "stream",
     "text": [
      "Количество дубликатов в датасете df_arc: 0\n"
     ]
    }
   ],
   "source": [
    "#проверим датасет на наличие дубликатов\n",
    "print('Количество дубликатов в датасете df_arc:', df_arc.duplicated().sum())"
   ]
  },
  {
   "cell_type": "code",
   "execution_count": 7,
   "id": "28c74a7a",
   "metadata": {},
   "outputs": [
    {
     "data": {
      "text/html": [
       "<div>\n",
       "<style scoped>\n",
       "    .dataframe tbody tr th:only-of-type {\n",
       "        vertical-align: middle;\n",
       "    }\n",
       "\n",
       "    .dataframe tbody tr th {\n",
       "        vertical-align: top;\n",
       "    }\n",
       "\n",
       "    .dataframe thead th {\n",
       "        text-align: right;\n",
       "    }\n",
       "</style>\n",
       "<table border=\"1\" class=\"dataframe\">\n",
       "  <thead>\n",
       "    <tr style=\"text-align: right;\">\n",
       "      <th></th>\n",
       "      <th>key</th>\n",
       "      <th>Активная мощность</th>\n",
       "      <th>Реактивная мощность</th>\n",
       "    </tr>\n",
       "  </thead>\n",
       "  <tbody>\n",
       "    <tr>\n",
       "      <th>count</th>\n",
       "      <td>14876.000000</td>\n",
       "      <td>14876.000000</td>\n",
       "      <td>14876.000000</td>\n",
       "    </tr>\n",
       "    <tr>\n",
       "      <th>mean</th>\n",
       "      <td>1615.220422</td>\n",
       "      <td>0.670441</td>\n",
       "      <td>0.452592</td>\n",
       "    </tr>\n",
       "    <tr>\n",
       "      <th>std</th>\n",
       "      <td>934.571502</td>\n",
       "      <td>0.408159</td>\n",
       "      <td>5.878702</td>\n",
       "    </tr>\n",
       "    <tr>\n",
       "      <th>min</th>\n",
       "      <td>1.000000</td>\n",
       "      <td>0.030002</td>\n",
       "      <td>-715.504924</td>\n",
       "    </tr>\n",
       "    <tr>\n",
       "      <th>25%</th>\n",
       "      <td>806.000000</td>\n",
       "      <td>0.395297</td>\n",
       "      <td>0.290991</td>\n",
       "    </tr>\n",
       "    <tr>\n",
       "      <th>50%</th>\n",
       "      <td>1617.000000</td>\n",
       "      <td>0.555517</td>\n",
       "      <td>0.415962</td>\n",
       "    </tr>\n",
       "    <tr>\n",
       "      <th>75%</th>\n",
       "      <td>2429.000000</td>\n",
       "      <td>0.857034</td>\n",
       "      <td>0.637371</td>\n",
       "    </tr>\n",
       "    <tr>\n",
       "      <th>max</th>\n",
       "      <td>3241.000000</td>\n",
       "      <td>3.731596</td>\n",
       "      <td>2.676388</td>\n",
       "    </tr>\n",
       "  </tbody>\n",
       "</table>\n",
       "</div>"
      ],
      "text/plain": [
       "                key  Активная мощность  Реактивная мощность\n",
       "count  14876.000000       14876.000000         14876.000000\n",
       "mean    1615.220422           0.670441             0.452592\n",
       "std      934.571502           0.408159             5.878702\n",
       "min        1.000000           0.030002          -715.504924\n",
       "25%      806.000000           0.395297             0.290991\n",
       "50%     1617.000000           0.555517             0.415962\n",
       "75%     2429.000000           0.857034             0.637371\n",
       "max     3241.000000           3.731596             2.676388"
      ]
     },
     "execution_count": 7,
     "metadata": {},
     "output_type": "execute_result"
    }
   ],
   "source": [
    "#посмотрим описательную статистику\n",
    "df_arc.describe()"
   ]
  },
  {
   "cell_type": "markdown",
   "id": "c85b1c8b",
   "metadata": {},
   "source": [
    "В реактивной мощности есть явный выброс, равный -715.504924."
   ]
  },
  {
   "cell_type": "code",
   "execution_count": 8,
   "id": "9aaee723",
   "metadata": {},
   "outputs": [
    {
     "data": {
      "text/plain": [
       "<AxesSubplot:xlabel='Реактивная мощность'>"
      ]
     },
     "execution_count": 8,
     "metadata": {},
     "output_type": "execute_result"
    },
    {
     "data": {
      "image/png": "[encoded data removed]",
      "text/plain": [
       "<Figure size 432x288 with 1 Axes>"
      ]
     },
     "metadata": {
      "needs_background": "light"
     },
     "output_type": "display_data"
    }
   ],
   "source": [
    "#посмотрим на boxplot, чтобы подтвердить, что это выброс\n",
    "sns.boxplot(df_arc['Реактивная мощность'])"
   ]
  },
  {
   "cell_type": "markdown",
   "id": "8afd9008",
   "metadata": {},
   "source": [
    "Да, это явный выброс и от него нужно избавиться."
   ]
  },
  {
   "cell_type": "code",
   "execution_count": 9,
   "id": "ada32ef0",
   "metadata": {},
   "outputs": [
    {
     "data": {
      "text/html": [
       "<div>\n",
       "<style scoped>\n",
       "    .dataframe tbody tr th:only-of-type {\n",
       "        vertical-align: middle;\n",
       "    }\n",
       "\n",
       "    .dataframe tbody tr th {\n",
       "        vertical-align: top;\n",
       "    }\n",
       "\n",
       "    .dataframe thead th {\n",
       "        text-align: right;\n",
       "    }\n",
       "</style>\n",
       "<table border=\"1\" class=\"dataframe\">\n",
       "  <thead>\n",
       "    <tr style=\"text-align: right;\">\n",
       "      <th></th>\n",
       "      <th>key</th>\n",
       "      <th>Начало нагрева дугой</th>\n",
       "      <th>Конец нагрева дугой</th>\n",
       "      <th>Активная мощность</th>\n",
       "      <th>Реактивная мощность</th>\n",
       "    </tr>\n",
       "  </thead>\n",
       "  <tbody>\n",
       "    <tr>\n",
       "      <th>9780</th>\n",
       "      <td>2116</td>\n",
       "      <td>2019-07-24 00:44:48</td>\n",
       "      <td>2019-07-24 00:46:37</td>\n",
       "      <td>0.495782</td>\n",
       "      <td>-715.504924</td>\n",
       "    </tr>\n",
       "  </tbody>\n",
       "</table>\n",
       "</div>"
      ],
      "text/plain": [
       "       key Начало нагрева дугой Конец нагрева дугой  Активная мощность  \\\n",
       "9780  2116  2019-07-24 00:44:48 2019-07-24 00:46:37           0.495782   \n",
       "\n",
       "      Реактивная мощность  \n",
       "9780          -715.504924  "
      ]
     },
     "execution_count": 9,
     "metadata": {},
     "output_type": "execute_result"
    }
   ],
   "source": [
    "df_arc[df_arc['Реактивная мощность'] < 0]"
   ]
  },
  {
   "cell_type": "code",
   "execution_count": 10,
   "id": "ef5d77ae",
   "metadata": {},
   "outputs": [
    {
     "data": {
      "text/html": [
       "<div>\n",
       "<style scoped>\n",
       "    .dataframe tbody tr th:only-of-type {\n",
       "        vertical-align: middle;\n",
       "    }\n",
       "\n",
       "    .dataframe tbody tr th {\n",
       "        vertical-align: top;\n",
       "    }\n",
       "\n",
       "    .dataframe thead th {\n",
       "        text-align: right;\n",
       "    }\n",
       "</style>\n",
       "<table border=\"1\" class=\"dataframe\">\n",
       "  <thead>\n",
       "    <tr style=\"text-align: right;\">\n",
       "      <th></th>\n",
       "      <th>key</th>\n",
       "      <th>Начало нагрева дугой</th>\n",
       "      <th>Конец нагрева дугой</th>\n",
       "      <th>Активная мощность</th>\n",
       "      <th>Реактивная мощность</th>\n",
       "    </tr>\n",
       "  </thead>\n",
       "  <tbody>\n",
       "    <tr>\n",
       "      <th>9778</th>\n",
       "      <td>2116</td>\n",
       "      <td>2019-07-24 00:29:52</td>\n",
       "      <td>2019-07-24 00:31:54</td>\n",
       "      <td>0.433266</td>\n",
       "      <td>0.306141</td>\n",
       "    </tr>\n",
       "    <tr>\n",
       "      <th>9779</th>\n",
       "      <td>2116</td>\n",
       "      <td>2019-07-24 00:35:50</td>\n",
       "      <td>2019-07-24 00:38:05</td>\n",
       "      <td>0.620265</td>\n",
       "      <td>0.408352</td>\n",
       "    </tr>\n",
       "    <tr>\n",
       "      <th>9780</th>\n",
       "      <td>2116</td>\n",
       "      <td>2019-07-24 00:44:48</td>\n",
       "      <td>2019-07-24 00:46:37</td>\n",
       "      <td>0.495782</td>\n",
       "      <td>-715.504924</td>\n",
       "    </tr>\n",
       "    <tr>\n",
       "      <th>9781</th>\n",
       "      <td>2116</td>\n",
       "      <td>2019-07-24 00:51:51</td>\n",
       "      <td>2019-07-24 00:52:58</td>\n",
       "      <td>0.299368</td>\n",
       "      <td>0.198796</td>\n",
       "    </tr>\n",
       "  </tbody>\n",
       "</table>\n",
       "</div>"
      ],
      "text/plain": [
       "       key Начало нагрева дугой Конец нагрева дугой  Активная мощность  \\\n",
       "9778  2116  2019-07-24 00:29:52 2019-07-24 00:31:54           0.433266   \n",
       "9779  2116  2019-07-24 00:35:50 2019-07-24 00:38:05           0.620265   \n",
       "9780  2116  2019-07-24 00:44:48 2019-07-24 00:46:37           0.495782   \n",
       "9781  2116  2019-07-24 00:51:51 2019-07-24 00:52:58           0.299368   \n",
       "\n",
       "      Реактивная мощность  \n",
       "9778             0.306141  \n",
       "9779             0.408352  \n",
       "9780          -715.504924  \n",
       "9781             0.198796  "
      ]
     },
     "execution_count": 10,
     "metadata": {},
     "output_type": "execute_result"
    }
   ],
   "source": [
    "#проверим, что эта строка не последняя в партии\n",
    "df_arc[df_arc['key'] == 2116]"
   ]
  },
  {
   "cell_type": "code",
   "execution_count": 11,
   "id": "40b0f5b9",
   "metadata": {},
   "outputs": [],
   "source": [
    "#всего одна позиция, можно удалить\n",
    "df_arc = df_arc[df_arc['Реактивная мощность'] >= 0]"
   ]
  },
  {
   "cell_type": "code",
   "execution_count": 12,
   "id": "31d959ad",
   "metadata": {},
   "outputs": [
    {
     "data": {
      "image/png": "[encoded data removed]",
      "text/plain": [
       "<Figure size 864x576 with 1 Axes>"
      ]
     },
     "metadata": {
      "needs_background": "light"
     },
     "output_type": "display_data"
    },
    {
     "data": {
      "image/png": "[encoded data removed]",
      "text/plain": [
       "<Figure size 864x576 with 1 Axes>"
      ]
     },
     "metadata": {
      "needs_background": "light"
     },
     "output_type": "display_data"
    }
   ],
   "source": [
    "#рассмотрим плотность распределения\n",
    "plt.figure(figsize=(12,8))\n",
    "sns.histplot(df_arc['Активная мощность'], kde=True)\n",
    "plt.show()\n",
    "\n",
    "plt.figure(figsize=(12,8))\n",
    "sns.histplot(df_arc['Реактивная мощность'], kde=True)\n",
    "plt.show()"
   ]
  },
  {
   "cell_type": "markdown",
   "id": "89fbf489",
   "metadata": {},
   "source": [
    "В целом распределение нормальное с перекосом вправо."
   ]
  },
  {
   "cell_type": "markdown",
   "id": "dad87f24",
   "metadata": {},
   "source": [
    "#### Итог по датасету с данными об электродах.\n",
    "1. В датасете 14 876 строк и 5 столбцов.\n",
    "2. Пропусков и дубликатов нет.\n",
    "3. Столбцы `Начало нагрева дугой` и `Конец нагрева дугой` приведены к типу `datetime`.\n",
    "4. Был удален один выброс."
   ]
  },
  {
   "cell_type": "markdown",
   "id": "98a0005f",
   "metadata": {},
   "source": [
    "### Данные о подаче сыпучих материалов (объем и время)"
   ]
  },
  {
   "cell_type": "markdown",
   "id": "e907f251",
   "metadata": {},
   "source": [
    "Сыпучие материалы используются для легирования стали и изменения химического состава сплава."
   ]
  },
  {
   "cell_type": "code",
   "execution_count": 13,
   "id": "905e94b3",
   "metadata": {},
   "outputs": [
    {
     "data": {
      "text/html": [
       "<div>\n",
       "<style scoped>\n",
       "    .dataframe tbody tr th:only-of-type {\n",
       "        vertical-align: middle;\n",
       "    }\n",
       "\n",
       "    .dataframe tbody tr th {\n",
       "        vertical-align: top;\n",
       "    }\n",
       "\n",
       "    .dataframe thead th {\n",
       "        text-align: right;\n",
       "    }\n",
       "</style>\n",
       "<table border=\"1\" class=\"dataframe\">\n",
       "  <thead>\n",
       "    <tr style=\"text-align: right;\">\n",
       "      <th></th>\n",
       "      <th>key</th>\n",
       "      <th>Bulk 1</th>\n",
       "      <th>Bulk 2</th>\n",
       "      <th>Bulk 3</th>\n",
       "      <th>Bulk 4</th>\n",
       "      <th>Bulk 5</th>\n",
       "      <th>Bulk 6</th>\n",
       "      <th>Bulk 7</th>\n",
       "      <th>Bulk 8</th>\n",
       "      <th>Bulk 9</th>\n",
       "      <th>Bulk 10</th>\n",
       "      <th>Bulk 11</th>\n",
       "      <th>Bulk 12</th>\n",
       "      <th>Bulk 13</th>\n",
       "      <th>Bulk 14</th>\n",
       "      <th>Bulk 15</th>\n",
       "    </tr>\n",
       "  </thead>\n",
       "  <tbody>\n",
       "    <tr>\n",
       "      <th>1886</th>\n",
       "      <td>1949</td>\n",
       "      <td>NaN</td>\n",
       "      <td>NaN</td>\n",
       "      <td>NaN</td>\n",
       "      <td>NaN</td>\n",
       "      <td>NaN</td>\n",
       "      <td>47.0</td>\n",
       "      <td>NaN</td>\n",
       "      <td>NaN</td>\n",
       "      <td>NaN</td>\n",
       "      <td>NaN</td>\n",
       "      <td>50.0</td>\n",
       "      <td>206.0</td>\n",
       "      <td>NaN</td>\n",
       "      <td>200.0</td>\n",
       "      <td>NaN</td>\n",
       "    </tr>\n",
       "    <tr>\n",
       "      <th>2238</th>\n",
       "      <td>2319</td>\n",
       "      <td>NaN</td>\n",
       "      <td>NaN</td>\n",
       "      <td>NaN</td>\n",
       "      <td>90.0</td>\n",
       "      <td>NaN</td>\n",
       "      <td>NaN</td>\n",
       "      <td>NaN</td>\n",
       "      <td>NaN</td>\n",
       "      <td>NaN</td>\n",
       "      <td>36.0</td>\n",
       "      <td>NaN</td>\n",
       "      <td>257.0</td>\n",
       "      <td>NaN</td>\n",
       "      <td>108.0</td>\n",
       "      <td>224.0</td>\n",
       "    </tr>\n",
       "    <tr>\n",
       "      <th>2505</th>\n",
       "      <td>2598</td>\n",
       "      <td>NaN</td>\n",
       "      <td>NaN</td>\n",
       "      <td>NaN</td>\n",
       "      <td>NaN</td>\n",
       "      <td>NaN</td>\n",
       "      <td>82.0</td>\n",
       "      <td>NaN</td>\n",
       "      <td>NaN</td>\n",
       "      <td>NaN</td>\n",
       "      <td>NaN</td>\n",
       "      <td>NaN</td>\n",
       "      <td>NaN</td>\n",
       "      <td>NaN</td>\n",
       "      <td>150.0</td>\n",
       "      <td>NaN</td>\n",
       "    </tr>\n",
       "    <tr>\n",
       "      <th>1250</th>\n",
       "      <td>1301</td>\n",
       "      <td>NaN</td>\n",
       "      <td>NaN</td>\n",
       "      <td>27.0</td>\n",
       "      <td>NaN</td>\n",
       "      <td>NaN</td>\n",
       "      <td>NaN</td>\n",
       "      <td>NaN</td>\n",
       "      <td>NaN</td>\n",
       "      <td>NaN</td>\n",
       "      <td>NaN</td>\n",
       "      <td>NaN</td>\n",
       "      <td>257.0</td>\n",
       "      <td>NaN</td>\n",
       "      <td>135.0</td>\n",
       "      <td>203.0</td>\n",
       "    </tr>\n",
       "    <tr>\n",
       "      <th>1096</th>\n",
       "      <td>1144</td>\n",
       "      <td>NaN</td>\n",
       "      <td>NaN</td>\n",
       "      <td>395.0</td>\n",
       "      <td>NaN</td>\n",
       "      <td>NaN</td>\n",
       "      <td>NaN</td>\n",
       "      <td>NaN</td>\n",
       "      <td>NaN</td>\n",
       "      <td>NaN</td>\n",
       "      <td>NaN</td>\n",
       "      <td>NaN</td>\n",
       "      <td>509.0</td>\n",
       "      <td>NaN</td>\n",
       "      <td>204.0</td>\n",
       "      <td>204.0</td>\n",
       "    </tr>\n",
       "  </tbody>\n",
       "</table>\n",
       "</div>"
      ],
      "text/plain": [
       "       key  Bulk 1  Bulk 2  Bulk 3  Bulk 4  Bulk 5  Bulk 6  Bulk 7  Bulk 8  \\\n",
       "1886  1949     NaN     NaN     NaN     NaN     NaN    47.0     NaN     NaN   \n",
       "2238  2319     NaN     NaN     NaN    90.0     NaN     NaN     NaN     NaN   \n",
       "2505  2598     NaN     NaN     NaN     NaN     NaN    82.0     NaN     NaN   \n",
       "1250  1301     NaN     NaN    27.0     NaN     NaN     NaN     NaN     NaN   \n",
       "1096  1144     NaN     NaN   395.0     NaN     NaN     NaN     NaN     NaN   \n",
       "\n",
       "      Bulk 9  Bulk 10  Bulk 11  Bulk 12  Bulk 13  Bulk 14  Bulk 15  \n",
       "1886     NaN      NaN     50.0    206.0      NaN    200.0      NaN  \n",
       "2238     NaN     36.0      NaN    257.0      NaN    108.0    224.0  \n",
       "2505     NaN      NaN      NaN      NaN      NaN    150.0      NaN  \n",
       "1250     NaN      NaN      NaN    257.0      NaN    135.0    203.0  \n",
       "1096     NaN      NaN      NaN    509.0      NaN    204.0    204.0  "
      ]
     },
     "execution_count": 13,
     "metadata": {},
     "output_type": "execute_result"
    }
   ],
   "source": [
    "df_bulk.sample(5)"
   ]
  },
  {
   "cell_type": "code",
   "execution_count": 14,
   "id": "737fd221",
   "metadata": {},
   "outputs": [
    {
     "name": "stdout",
     "output_type": "stream",
     "text": [
      "<class 'pandas.core.frame.DataFrame'>\n",
      "RangeIndex: 3129 entries, 0 to 3128\n",
      "Data columns (total 16 columns):\n",
      " #   Column   Non-Null Count  Dtype  \n",
      "---  ------   --------------  -----  \n",
      " 0   key      3129 non-null   int64  \n",
      " 1   Bulk 1   252 non-null    float64\n",
      " 2   Bulk 2   22 non-null     float64\n",
      " 3   Bulk 3   1298 non-null   float64\n",
      " 4   Bulk 4   1014 non-null   float64\n",
      " 5   Bulk 5   77 non-null     float64\n",
      " 6   Bulk 6   576 non-null    float64\n",
      " 7   Bulk 7   25 non-null     float64\n",
      " 8   Bulk 8   1 non-null      float64\n",
      " 9   Bulk 9   19 non-null     float64\n",
      " 10  Bulk 10  176 non-null    float64\n",
      " 11  Bulk 11  177 non-null    float64\n",
      " 12  Bulk 12  2450 non-null   float64\n",
      " 13  Bulk 13  18 non-null     float64\n",
      " 14  Bulk 14  2806 non-null   float64\n",
      " 15  Bulk 15  2248 non-null   float64\n",
      "dtypes: float64(15), int64(1)\n",
      "memory usage: 391.2 KB\n"
     ]
    }
   ],
   "source": [
    "df_bulk.info()"
   ]
  },
  {
   "cell_type": "code",
   "execution_count": 15,
   "id": "fa6f1069",
   "metadata": {},
   "outputs": [
    {
     "name": "stdout",
     "output_type": "stream",
     "text": [
      "Количество дубликатов в датасете df_bulk: 0\n"
     ]
    }
   ],
   "source": [
    "print('Количество дубликатов в датасете df_bulk:', df_bulk.duplicated().sum())"
   ]
  },
  {
   "cell_type": "code",
   "execution_count": 16,
   "id": "c56a4cb7",
   "metadata": {},
   "outputs": [
    {
     "data": {
      "text/html": [
       "<div>\n",
       "<style scoped>\n",
       "    .dataframe tbody tr th:only-of-type {\n",
       "        vertical-align: middle;\n",
       "    }\n",
       "\n",
       "    .dataframe tbody tr th {\n",
       "        vertical-align: top;\n",
       "    }\n",
       "\n",
       "    .dataframe thead th {\n",
       "        text-align: right;\n",
       "    }\n",
       "</style>\n",
       "<table border=\"1\" class=\"dataframe\">\n",
       "  <thead>\n",
       "    <tr style=\"text-align: right;\">\n",
       "      <th></th>\n",
       "      <th>key</th>\n",
       "      <th>Bulk 1</th>\n",
       "      <th>Bulk 2</th>\n",
       "      <th>Bulk 3</th>\n",
       "      <th>Bulk 4</th>\n",
       "      <th>Bulk 5</th>\n",
       "      <th>Bulk 6</th>\n",
       "      <th>Bulk 7</th>\n",
       "      <th>Bulk 8</th>\n",
       "      <th>Bulk 9</th>\n",
       "      <th>Bulk 10</th>\n",
       "      <th>Bulk 11</th>\n",
       "      <th>Bulk 12</th>\n",
       "      <th>Bulk 13</th>\n",
       "      <th>Bulk 14</th>\n",
       "      <th>Bulk 15</th>\n",
       "    </tr>\n",
       "  </thead>\n",
       "  <tbody>\n",
       "    <tr>\n",
       "      <th>1093</th>\n",
       "      <td>1141</td>\n",
       "      <td>NaN</td>\n",
       "      <td>NaN</td>\n",
       "      <td>NaN</td>\n",
       "      <td>NaN</td>\n",
       "      <td>2019-06-13 23:19:08</td>\n",
       "      <td>NaN</td>\n",
       "      <td>NaN</td>\n",
       "      <td>NaN</td>\n",
       "      <td>NaN</td>\n",
       "      <td>NaN</td>\n",
       "      <td>NaN</td>\n",
       "      <td>NaN</td>\n",
       "      <td>NaN</td>\n",
       "      <td>NaN</td>\n",
       "      <td>NaN</td>\n",
       "    </tr>\n",
       "    <tr>\n",
       "      <th>515</th>\n",
       "      <td>544</td>\n",
       "      <td>NaN</td>\n",
       "      <td>NaN</td>\n",
       "      <td>NaN</td>\n",
       "      <td>NaN</td>\n",
       "      <td>NaN</td>\n",
       "      <td>2019-05-23 11:26:21</td>\n",
       "      <td>NaN</td>\n",
       "      <td>NaN</td>\n",
       "      <td>NaN</td>\n",
       "      <td>NaN</td>\n",
       "      <td>NaN</td>\n",
       "      <td>2019-05-23 11:19:16</td>\n",
       "      <td>NaN</td>\n",
       "      <td>2019-05-23 11:19:16</td>\n",
       "      <td>2019-05-23 11:19:16</td>\n",
       "    </tr>\n",
       "    <tr>\n",
       "      <th>1305</th>\n",
       "      <td>1357</td>\n",
       "      <td>NaN</td>\n",
       "      <td>NaN</td>\n",
       "      <td>NaN</td>\n",
       "      <td>2019-06-21 10:40:00</td>\n",
       "      <td>NaN</td>\n",
       "      <td>NaN</td>\n",
       "      <td>NaN</td>\n",
       "      <td>NaN</td>\n",
       "      <td>NaN</td>\n",
       "      <td>NaN</td>\n",
       "      <td>NaN</td>\n",
       "      <td>2019-06-21 10:28:43</td>\n",
       "      <td>NaN</td>\n",
       "      <td>2019-06-21 10:28:43</td>\n",
       "      <td>2019-06-21 10:28:43</td>\n",
       "    </tr>\n",
       "    <tr>\n",
       "      <th>1777</th>\n",
       "      <td>1839</td>\n",
       "      <td>NaN</td>\n",
       "      <td>NaN</td>\n",
       "      <td>2019-07-07 18:16:24</td>\n",
       "      <td>NaN</td>\n",
       "      <td>NaN</td>\n",
       "      <td>NaN</td>\n",
       "      <td>NaN</td>\n",
       "      <td>NaN</td>\n",
       "      <td>NaN</td>\n",
       "      <td>NaN</td>\n",
       "      <td>NaN</td>\n",
       "      <td>NaN</td>\n",
       "      <td>NaN</td>\n",
       "      <td>NaN</td>\n",
       "      <td>NaN</td>\n",
       "    </tr>\n",
       "    <tr>\n",
       "      <th>862</th>\n",
       "      <td>898</td>\n",
       "      <td>NaN</td>\n",
       "      <td>NaN</td>\n",
       "      <td>NaN</td>\n",
       "      <td>2019-06-05 12:05:24</td>\n",
       "      <td>NaN</td>\n",
       "      <td>NaN</td>\n",
       "      <td>NaN</td>\n",
       "      <td>NaN</td>\n",
       "      <td>NaN</td>\n",
       "      <td>NaN</td>\n",
       "      <td>NaN</td>\n",
       "      <td>2019-06-05 11:42:28</td>\n",
       "      <td>NaN</td>\n",
       "      <td>2019-06-05 11:42:28</td>\n",
       "      <td>2019-06-05 11:42:28</td>\n",
       "    </tr>\n",
       "  </tbody>\n",
       "</table>\n",
       "</div>"
      ],
      "text/plain": [
       "       key Bulk 1 Bulk 2               Bulk 3               Bulk 4  \\\n",
       "1093  1141    NaN    NaN                  NaN                  NaN   \n",
       "515    544    NaN    NaN                  NaN                  NaN   \n",
       "1305  1357    NaN    NaN                  NaN  2019-06-21 10:40:00   \n",
       "1777  1839    NaN    NaN  2019-07-07 18:16:24                  NaN   \n",
       "862    898    NaN    NaN                  NaN  2019-06-05 12:05:24   \n",
       "\n",
       "                   Bulk 5               Bulk 6 Bulk 7 Bulk 8 Bulk 9 Bulk 10  \\\n",
       "1093  2019-06-13 23:19:08                  NaN    NaN    NaN    NaN     NaN   \n",
       "515                   NaN  2019-05-23 11:26:21    NaN    NaN    NaN     NaN   \n",
       "1305                  NaN                  NaN    NaN    NaN    NaN     NaN   \n",
       "1777                  NaN                  NaN    NaN    NaN    NaN     NaN   \n",
       "862                   NaN                  NaN    NaN    NaN    NaN     NaN   \n",
       "\n",
       "     Bulk 11              Bulk 12 Bulk 13              Bulk 14  \\\n",
       "1093     NaN                  NaN     NaN                  NaN   \n",
       "515      NaN  2019-05-23 11:19:16     NaN  2019-05-23 11:19:16   \n",
       "1305     NaN  2019-06-21 10:28:43     NaN  2019-06-21 10:28:43   \n",
       "1777     NaN                  NaN     NaN                  NaN   \n",
       "862      NaN  2019-06-05 11:42:28     NaN  2019-06-05 11:42:28   \n",
       "\n",
       "                  Bulk 15  \n",
       "1093                  NaN  \n",
       "515   2019-05-23 11:19:16  \n",
       "1305  2019-06-21 10:28:43  \n",
       "1777                  NaN  \n",
       "862   2019-06-05 11:42:28  "
      ]
     },
     "execution_count": 16,
     "metadata": {},
     "output_type": "execute_result"
    }
   ],
   "source": [
    "df_bulk_time.sample(5)"
   ]
  },
  {
   "cell_type": "code",
   "execution_count": 17,
   "id": "b4d9d816",
   "metadata": {},
   "outputs": [
    {
     "name": "stdout",
     "output_type": "stream",
     "text": [
      "<class 'pandas.core.frame.DataFrame'>\n",
      "RangeIndex: 3129 entries, 0 to 3128\n",
      "Data columns (total 16 columns):\n",
      " #   Column   Non-Null Count  Dtype \n",
      "---  ------   --------------  ----- \n",
      " 0   key      3129 non-null   int64 \n",
      " 1   Bulk 1   252 non-null    object\n",
      " 2   Bulk 2   22 non-null     object\n",
      " 3   Bulk 3   1298 non-null   object\n",
      " 4   Bulk 4   1014 non-null   object\n",
      " 5   Bulk 5   77 non-null     object\n",
      " 6   Bulk 6   576 non-null    object\n",
      " 7   Bulk 7   25 non-null     object\n",
      " 8   Bulk 8   1 non-null      object\n",
      " 9   Bulk 9   19 non-null     object\n",
      " 10  Bulk 10  176 non-null    object\n",
      " 11  Bulk 11  177 non-null    object\n",
      " 12  Bulk 12  2450 non-null   object\n",
      " 13  Bulk 13  18 non-null     object\n",
      " 14  Bulk 14  2806 non-null   object\n",
      " 15  Bulk 15  2248 non-null   object\n",
      "dtypes: int64(1), object(15)\n",
      "memory usage: 391.2+ KB\n"
     ]
    }
   ],
   "source": [
    "df_bulk_time.info()"
   ]
  },
  {
   "cell_type": "code",
   "execution_count": 18,
   "id": "312617b9",
   "metadata": {},
   "outputs": [
    {
     "name": "stdout",
     "output_type": "stream",
     "text": [
      "Количество дубликатов в датасете df_bulk_time: 0\n"
     ]
    }
   ],
   "source": [
    "print('Количество дубликатов в датасете df_bulk_time:', df_bulk_time.duplicated().sum())"
   ]
  },
  {
   "cell_type": "markdown",
   "id": "26b424eb",
   "metadata": {},
   "source": [
    "В представленных датасетах по 3129 строк и по 16 столбцов. Дубликатов нет. Данные во всех столбцах кроме 'key' типа object. Очень много пропусков и я связываю это с тем, что данные примеси добавлялись не в каждый сплав и не каждый раз, а только при необходимости изменить состав. Количество пропусков и заполненных значений по каждому столбцу в обеих таблицах совпадают. Проводить дальнейший анализ данных датасетов не вижу особого смысла, потому что в связи с непостоянством использования данных материалов будет много выбросов и аномалий."
   ]
  },
  {
   "cell_type": "markdown",
   "id": "a83b5188",
   "metadata": {},
   "source": [
    "### Данные о проволочных материалах (объем и время)"
   ]
  },
  {
   "cell_type": "markdown",
   "id": "d243b5a6",
   "metadata": {},
   "source": [
    "Следом рассмотрим датасеты с проволочными материалами, т.к. они тоже используются для легирования стали."
   ]
  },
  {
   "cell_type": "code",
   "execution_count": 19,
   "id": "3ffa03fa",
   "metadata": {},
   "outputs": [
    {
     "data": {
      "text/html": [
       "<div>\n",
       "<style scoped>\n",
       "    .dataframe tbody tr th:only-of-type {\n",
       "        vertical-align: middle;\n",
       "    }\n",
       "\n",
       "    .dataframe tbody tr th {\n",
       "        vertical-align: top;\n",
       "    }\n",
       "\n",
       "    .dataframe thead th {\n",
       "        text-align: right;\n",
       "    }\n",
       "</style>\n",
       "<table border=\"1\" class=\"dataframe\">\n",
       "  <thead>\n",
       "    <tr style=\"text-align: right;\">\n",
       "      <th></th>\n",
       "      <th>key</th>\n",
       "      <th>Wire 1</th>\n",
       "      <th>Wire 2</th>\n",
       "      <th>Wire 3</th>\n",
       "      <th>Wire 4</th>\n",
       "      <th>Wire 5</th>\n",
       "      <th>Wire 6</th>\n",
       "      <th>Wire 7</th>\n",
       "      <th>Wire 8</th>\n",
       "      <th>Wire 9</th>\n",
       "    </tr>\n",
       "  </thead>\n",
       "  <tbody>\n",
       "    <tr>\n",
       "      <th>60</th>\n",
       "      <td>69</td>\n",
       "      <td>191.362092</td>\n",
       "      <td>9.085441</td>\n",
       "      <td>NaN</td>\n",
       "      <td>NaN</td>\n",
       "      <td>NaN</td>\n",
       "      <td>NaN</td>\n",
       "      <td>NaN</td>\n",
       "      <td>NaN</td>\n",
       "      <td>NaN</td>\n",
       "    </tr>\n",
       "    <tr>\n",
       "      <th>2599</th>\n",
       "      <td>2733</td>\n",
       "      <td>97.056953</td>\n",
       "      <td>NaN</td>\n",
       "      <td>NaN</td>\n",
       "      <td>NaN</td>\n",
       "      <td>NaN</td>\n",
       "      <td>NaN</td>\n",
       "      <td>NaN</td>\n",
       "      <td>NaN</td>\n",
       "      <td>NaN</td>\n",
       "    </tr>\n",
       "    <tr>\n",
       "      <th>2200</th>\n",
       "      <td>2311</td>\n",
       "      <td>101.075520</td>\n",
       "      <td>41.258881</td>\n",
       "      <td>NaN</td>\n",
       "      <td>NaN</td>\n",
       "      <td>NaN</td>\n",
       "      <td>NaN</td>\n",
       "      <td>NaN</td>\n",
       "      <td>NaN</td>\n",
       "      <td>NaN</td>\n",
       "    </tr>\n",
       "    <tr>\n",
       "      <th>2866</th>\n",
       "      <td>3019</td>\n",
       "      <td>159.126236</td>\n",
       "      <td>23.223200</td>\n",
       "      <td>NaN</td>\n",
       "      <td>NaN</td>\n",
       "      <td>NaN</td>\n",
       "      <td>NaN</td>\n",
       "      <td>NaN</td>\n",
       "      <td>NaN</td>\n",
       "      <td>NaN</td>\n",
       "    </tr>\n",
       "    <tr>\n",
       "      <th>443</th>\n",
       "      <td>475</td>\n",
       "      <td>97.811997</td>\n",
       "      <td>13.210080</td>\n",
       "      <td>NaN</td>\n",
       "      <td>NaN</td>\n",
       "      <td>NaN</td>\n",
       "      <td>NaN</td>\n",
       "      <td>NaN</td>\n",
       "      <td>NaN</td>\n",
       "      <td>NaN</td>\n",
       "    </tr>\n",
       "  </tbody>\n",
       "</table>\n",
       "</div>"
      ],
      "text/plain": [
       "       key      Wire 1     Wire 2  Wire 3  Wire 4  Wire 5  Wire 6  Wire 7  \\\n",
       "60      69  191.362092   9.085441     NaN     NaN     NaN     NaN     NaN   \n",
       "2599  2733   97.056953        NaN     NaN     NaN     NaN     NaN     NaN   \n",
       "2200  2311  101.075520  41.258881     NaN     NaN     NaN     NaN     NaN   \n",
       "2866  3019  159.126236  23.223200     NaN     NaN     NaN     NaN     NaN   \n",
       "443    475   97.811997  13.210080     NaN     NaN     NaN     NaN     NaN   \n",
       "\n",
       "      Wire 8  Wire 9  \n",
       "60       NaN     NaN  \n",
       "2599     NaN     NaN  \n",
       "2200     NaN     NaN  \n",
       "2866     NaN     NaN  \n",
       "443      NaN     NaN  "
      ]
     },
     "execution_count": 19,
     "metadata": {},
     "output_type": "execute_result"
    }
   ],
   "source": [
    "df_wire.sample(5)"
   ]
  },
  {
   "cell_type": "code",
   "execution_count": 20,
   "id": "32ee9cf2",
   "metadata": {},
   "outputs": [
    {
     "name": "stdout",
     "output_type": "stream",
     "text": [
      "<class 'pandas.core.frame.DataFrame'>\n",
      "RangeIndex: 3081 entries, 0 to 3080\n",
      "Data columns (total 10 columns):\n",
      " #   Column  Non-Null Count  Dtype  \n",
      "---  ------  --------------  -----  \n",
      " 0   key     3081 non-null   int64  \n",
      " 1   Wire 1  3055 non-null   float64\n",
      " 2   Wire 2  1079 non-null   float64\n",
      " 3   Wire 3  63 non-null     float64\n",
      " 4   Wire 4  14 non-null     float64\n",
      " 5   Wire 5  1 non-null      float64\n",
      " 6   Wire 6  73 non-null     float64\n",
      " 7   Wire 7  11 non-null     float64\n",
      " 8   Wire 8  19 non-null     float64\n",
      " 9   Wire 9  29 non-null     float64\n",
      "dtypes: float64(9), int64(1)\n",
      "memory usage: 240.8 KB\n"
     ]
    }
   ],
   "source": [
    "df_wire.info()"
   ]
  },
  {
   "cell_type": "code",
   "execution_count": 21,
   "id": "171b28a7",
   "metadata": {},
   "outputs": [
    {
     "name": "stdout",
     "output_type": "stream",
     "text": [
      "Количество дубликатов в датасете df_wire: 0\n"
     ]
    }
   ],
   "source": [
    "print('Количество дубликатов в датасете df_wire:', df_wire.duplicated().sum())"
   ]
  },
  {
   "cell_type": "code",
   "execution_count": 22,
   "id": "1f08f77a",
   "metadata": {},
   "outputs": [
    {
     "data": {
      "text/html": [
       "<div>\n",
       "<style scoped>\n",
       "    .dataframe tbody tr th:only-of-type {\n",
       "        vertical-align: middle;\n",
       "    }\n",
       "\n",
       "    .dataframe tbody tr th {\n",
       "        vertical-align: top;\n",
       "    }\n",
       "\n",
       "    .dataframe thead th {\n",
       "        text-align: right;\n",
       "    }\n",
       "</style>\n",
       "<table border=\"1\" class=\"dataframe\">\n",
       "  <thead>\n",
       "    <tr style=\"text-align: right;\">\n",
       "      <th></th>\n",
       "      <th>key</th>\n",
       "      <th>Wire 1</th>\n",
       "      <th>Wire 2</th>\n",
       "      <th>Wire 3</th>\n",
       "      <th>Wire 4</th>\n",
       "      <th>Wire 5</th>\n",
       "      <th>Wire 6</th>\n",
       "      <th>Wire 7</th>\n",
       "      <th>Wire 8</th>\n",
       "      <th>Wire 9</th>\n",
       "    </tr>\n",
       "  </thead>\n",
       "  <tbody>\n",
       "    <tr>\n",
       "      <th>597</th>\n",
       "      <td>633</td>\n",
       "      <td>2019-05-26 16:47:29</td>\n",
       "      <td>2019-05-26 16:47:46</td>\n",
       "      <td>NaN</td>\n",
       "      <td>NaN</td>\n",
       "      <td>NaN</td>\n",
       "      <td>NaN</td>\n",
       "      <td>NaN</td>\n",
       "      <td>NaN</td>\n",
       "      <td>NaN</td>\n",
       "    </tr>\n",
       "    <tr>\n",
       "      <th>2012</th>\n",
       "      <td>2110</td>\n",
       "      <td>2019-07-23 19:15:41</td>\n",
       "      <td>NaN</td>\n",
       "      <td>2019-07-23 18:07:01</td>\n",
       "      <td>2019-07-23 18:09:32</td>\n",
       "      <td>NaN</td>\n",
       "      <td>2019-07-23 18:02:33</td>\n",
       "      <td>2019-07-23 19:16:46</td>\n",
       "      <td>NaN</td>\n",
       "      <td>NaN</td>\n",
       "    </tr>\n",
       "    <tr>\n",
       "      <th>1076</th>\n",
       "      <td>1143</td>\n",
       "      <td>2019-06-14 01:03:07</td>\n",
       "      <td>NaN</td>\n",
       "      <td>NaN</td>\n",
       "      <td>NaN</td>\n",
       "      <td>NaN</td>\n",
       "      <td>NaN</td>\n",
       "      <td>NaN</td>\n",
       "      <td>NaN</td>\n",
       "      <td>NaN</td>\n",
       "    </tr>\n",
       "    <tr>\n",
       "      <th>1406</th>\n",
       "      <td>1478</td>\n",
       "      <td>2019-06-25 18:26:02</td>\n",
       "      <td>NaN</td>\n",
       "      <td>NaN</td>\n",
       "      <td>NaN</td>\n",
       "      <td>NaN</td>\n",
       "      <td>NaN</td>\n",
       "      <td>NaN</td>\n",
       "      <td>NaN</td>\n",
       "      <td>NaN</td>\n",
       "    </tr>\n",
       "    <tr>\n",
       "      <th>2678</th>\n",
       "      <td>2819</td>\n",
       "      <td>2019-08-17 18:23:09</td>\n",
       "      <td>2019-08-17 18:23:26</td>\n",
       "      <td>NaN</td>\n",
       "      <td>NaN</td>\n",
       "      <td>NaN</td>\n",
       "      <td>NaN</td>\n",
       "      <td>NaN</td>\n",
       "      <td>NaN</td>\n",
       "      <td>NaN</td>\n",
       "    </tr>\n",
       "  </tbody>\n",
       "</table>\n",
       "</div>"
      ],
      "text/plain": [
       "       key               Wire 1               Wire 2               Wire 3  \\\n",
       "597    633  2019-05-26 16:47:29  2019-05-26 16:47:46                  NaN   \n",
       "2012  2110  2019-07-23 19:15:41                  NaN  2019-07-23 18:07:01   \n",
       "1076  1143  2019-06-14 01:03:07                  NaN                  NaN   \n",
       "1406  1478  2019-06-25 18:26:02                  NaN                  NaN   \n",
       "2678  2819  2019-08-17 18:23:09  2019-08-17 18:23:26                  NaN   \n",
       "\n",
       "                   Wire 4 Wire 5               Wire 6               Wire 7  \\\n",
       "597                   NaN    NaN                  NaN                  NaN   \n",
       "2012  2019-07-23 18:09:32    NaN  2019-07-23 18:02:33  2019-07-23 19:16:46   \n",
       "1076                  NaN    NaN                  NaN                  NaN   \n",
       "1406                  NaN    NaN                  NaN                  NaN   \n",
       "2678                  NaN    NaN                  NaN                  NaN   \n",
       "\n",
       "     Wire 8 Wire 9  \n",
       "597     NaN    NaN  \n",
       "2012    NaN    NaN  \n",
       "1076    NaN    NaN  \n",
       "1406    NaN    NaN  \n",
       "2678    NaN    NaN  "
      ]
     },
     "execution_count": 22,
     "metadata": {},
     "output_type": "execute_result"
    }
   ],
   "source": [
    "df_wire_time.sample(5)"
   ]
  },
  {
   "cell_type": "code",
   "execution_count": 23,
   "id": "bcb55558",
   "metadata": {},
   "outputs": [
    {
     "name": "stdout",
     "output_type": "stream",
     "text": [
      "<class 'pandas.core.frame.DataFrame'>\n",
      "RangeIndex: 3081 entries, 0 to 3080\n",
      "Data columns (total 10 columns):\n",
      " #   Column  Non-Null Count  Dtype \n",
      "---  ------  --------------  ----- \n",
      " 0   key     3081 non-null   int64 \n",
      " 1   Wire 1  3055 non-null   object\n",
      " 2   Wire 2  1079 non-null   object\n",
      " 3   Wire 3  63 non-null     object\n",
      " 4   Wire 4  14 non-null     object\n",
      " 5   Wire 5  1 non-null      object\n",
      " 6   Wire 6  73 non-null     object\n",
      " 7   Wire 7  11 non-null     object\n",
      " 8   Wire 8  19 non-null     object\n",
      " 9   Wire 9  29 non-null     object\n",
      "dtypes: int64(1), object(9)\n",
      "memory usage: 240.8+ KB\n"
     ]
    }
   ],
   "source": [
    "df_wire_time.info()"
   ]
  },
  {
   "cell_type": "code",
   "execution_count": 24,
   "id": "44c8699c",
   "metadata": {},
   "outputs": [
    {
     "name": "stdout",
     "output_type": "stream",
     "text": [
      "Количество дубликатов в датасете df_wire_time: 0\n"
     ]
    }
   ],
   "source": [
    "print('Количество дубликатов в датасете df_wire_time:', df_wire_time.duplicated().sum())"
   ]
  },
  {
   "cell_type": "markdown",
   "id": "d89c986c",
   "metadata": {},
   "source": [
    "В данных датасетах по 3081 строке и по 10 столбцов. Дубликатов нет. Данные во всех столбцах кроме 'key' типа object.\n",
    "\n",
    "Здесь мы видим точно такую же картину, как и в предыдущих датасетах: очень много пропусков, количество пропусков в каждом столбце обоих датасетов совпадают, проволока Wire 5 использовалась всего один раз, но при этом проволока Wire 1 использовалась в 99 % случаев."
   ]
  },
  {
   "cell_type": "markdown",
   "id": "6b5b535d",
   "metadata": {},
   "source": [
    "### Данные о продувке сплава газом"
   ]
  },
  {
   "cell_type": "markdown",
   "id": "1470e66e",
   "metadata": {},
   "source": [
    "Газ используется для продувки сплава после добавления легирующих материалов."
   ]
  },
  {
   "cell_type": "code",
   "execution_count": 25,
   "id": "e069b385",
   "metadata": {},
   "outputs": [
    {
     "data": {
      "text/html": [
       "<div>\n",
       "<style scoped>\n",
       "    .dataframe tbody tr th:only-of-type {\n",
       "        vertical-align: middle;\n",
       "    }\n",
       "\n",
       "    .dataframe tbody tr th {\n",
       "        vertical-align: top;\n",
       "    }\n",
       "\n",
       "    .dataframe thead th {\n",
       "        text-align: right;\n",
       "    }\n",
       "</style>\n",
       "<table border=\"1\" class=\"dataframe\">\n",
       "  <thead>\n",
       "    <tr style=\"text-align: right;\">\n",
       "      <th></th>\n",
       "      <th>key</th>\n",
       "      <th>Газ 1</th>\n",
       "    </tr>\n",
       "  </thead>\n",
       "  <tbody>\n",
       "    <tr>\n",
       "      <th>699</th>\n",
       "      <td>702</td>\n",
       "      <td>15.429043</td>\n",
       "    </tr>\n",
       "    <tr>\n",
       "      <th>2807</th>\n",
       "      <td>2810</td>\n",
       "      <td>8.286403</td>\n",
       "    </tr>\n",
       "    <tr>\n",
       "      <th>677</th>\n",
       "      <td>680</td>\n",
       "      <td>9.893150</td>\n",
       "    </tr>\n",
       "    <tr>\n",
       "      <th>1035</th>\n",
       "      <td>1038</td>\n",
       "      <td>8.382230</td>\n",
       "    </tr>\n",
       "    <tr>\n",
       "      <th>1592</th>\n",
       "      <td>1595</td>\n",
       "      <td>12.107606</td>\n",
       "    </tr>\n",
       "  </tbody>\n",
       "</table>\n",
       "</div>"
      ],
      "text/plain": [
       "       key      Газ 1\n",
       "699    702  15.429043\n",
       "2807  2810   8.286403\n",
       "677    680   9.893150\n",
       "1035  1038   8.382230\n",
       "1592  1595  12.107606"
      ]
     },
     "execution_count": 25,
     "metadata": {},
     "output_type": "execute_result"
    }
   ],
   "source": [
    "df_gas.sample(5)"
   ]
  },
  {
   "cell_type": "code",
   "execution_count": 26,
   "id": "8d15645e",
   "metadata": {},
   "outputs": [
    {
     "name": "stdout",
     "output_type": "stream",
     "text": [
      "<class 'pandas.core.frame.DataFrame'>\n",
      "RangeIndex: 3239 entries, 0 to 3238\n",
      "Data columns (total 2 columns):\n",
      " #   Column  Non-Null Count  Dtype  \n",
      "---  ------  --------------  -----  \n",
      " 0   key     3239 non-null   int64  \n",
      " 1   Газ 1   3239 non-null   float64\n",
      "dtypes: float64(1), int64(1)\n",
      "memory usage: 50.7 KB\n"
     ]
    }
   ],
   "source": [
    "df_gas.info()"
   ]
  },
  {
   "cell_type": "code",
   "execution_count": 27,
   "id": "0c444e48",
   "metadata": {},
   "outputs": [
    {
     "name": "stdout",
     "output_type": "stream",
     "text": [
      "Количество дубликатов в датасете df_gas: 0\n"
     ]
    }
   ],
   "source": [
    "print('Количество дубликатов в датасете df_gas:', df_gas.duplicated().sum())"
   ]
  },
  {
   "cell_type": "markdown",
   "id": "da092ec3",
   "metadata": {},
   "source": [
    "В данном датасете 3239 строк и всего 2 столбца. Пропусков и дубликатов нет."
   ]
  },
  {
   "cell_type": "code",
   "execution_count": 28,
   "id": "5105f0d9",
   "metadata": {},
   "outputs": [
    {
     "data": {
      "text/html": [
       "<div>\n",
       "<style scoped>\n",
       "    .dataframe tbody tr th:only-of-type {\n",
       "        vertical-align: middle;\n",
       "    }\n",
       "\n",
       "    .dataframe tbody tr th {\n",
       "        vertical-align: top;\n",
       "    }\n",
       "\n",
       "    .dataframe thead th {\n",
       "        text-align: right;\n",
       "    }\n",
       "</style>\n",
       "<table border=\"1\" class=\"dataframe\">\n",
       "  <thead>\n",
       "    <tr style=\"text-align: right;\">\n",
       "      <th></th>\n",
       "      <th>key</th>\n",
       "      <th>Газ 1</th>\n",
       "    </tr>\n",
       "  </thead>\n",
       "  <tbody>\n",
       "    <tr>\n",
       "      <th>count</th>\n",
       "      <td>3239.000000</td>\n",
       "      <td>3239.000000</td>\n",
       "    </tr>\n",
       "    <tr>\n",
       "      <th>mean</th>\n",
       "      <td>1621.861377</td>\n",
       "      <td>11.002062</td>\n",
       "    </tr>\n",
       "    <tr>\n",
       "      <th>std</th>\n",
       "      <td>935.386334</td>\n",
       "      <td>6.220327</td>\n",
       "    </tr>\n",
       "    <tr>\n",
       "      <th>min</th>\n",
       "      <td>1.000000</td>\n",
       "      <td>0.008399</td>\n",
       "    </tr>\n",
       "    <tr>\n",
       "      <th>25%</th>\n",
       "      <td>812.500000</td>\n",
       "      <td>7.043089</td>\n",
       "    </tr>\n",
       "    <tr>\n",
       "      <th>50%</th>\n",
       "      <td>1622.000000</td>\n",
       "      <td>9.836267</td>\n",
       "    </tr>\n",
       "    <tr>\n",
       "      <th>75%</th>\n",
       "      <td>2431.500000</td>\n",
       "      <td>13.769915</td>\n",
       "    </tr>\n",
       "    <tr>\n",
       "      <th>max</th>\n",
       "      <td>3241.000000</td>\n",
       "      <td>77.995040</td>\n",
       "    </tr>\n",
       "  </tbody>\n",
       "</table>\n",
       "</div>"
      ],
      "text/plain": [
       "               key        Газ 1\n",
       "count  3239.000000  3239.000000\n",
       "mean   1621.861377    11.002062\n",
       "std     935.386334     6.220327\n",
       "min       1.000000     0.008399\n",
       "25%     812.500000     7.043089\n",
       "50%    1622.000000     9.836267\n",
       "75%    2431.500000    13.769915\n",
       "max    3241.000000    77.995040"
      ]
     },
     "execution_count": 28,
     "metadata": {},
     "output_type": "execute_result"
    }
   ],
   "source": [
    "#посмотрим на описательную статистику\n",
    "df_gas.describe()"
   ]
  },
  {
   "cell_type": "markdown",
   "id": "bd7f99e2",
   "metadata": {},
   "source": [
    "Максимальное значение в 77.99 выглядит как выброс. Построим boxplot."
   ]
  },
  {
   "cell_type": "code",
   "execution_count": 29,
   "id": "d8664b7a",
   "metadata": {},
   "outputs": [
    {
     "data": {
      "image/png": "[encoded data removed]",
      "text/plain": [
       "<Figure size 864x360 with 1 Axes>"
      ]
     },
     "metadata": {
      "needs_background": "light"
     },
     "output_type": "display_data"
    }
   ],
   "source": [
    "plt.figure(figsize=(12,5))\n",
    "sns.boxplot(df_gas['Газ 1'])\n",
    "plt.show()"
   ]
  },
  {
   "cell_type": "markdown",
   "id": "6e79504b",
   "metadata": {},
   "source": [
    "Судя по boxplot явные выбросы начинаются после 40. Рассчитаем точное значение начала выбросов по формуле: q_3 (3 квартиль) + 3 * irq (межквартильный размах). Получается, что 13,76 + 3*(13,76 - 7,04) = 33,92 и все значения с 34 это выбросы."
   ]
  },
  {
   "cell_type": "code",
   "execution_count": 30,
   "id": "409a2ae9",
   "metadata": {},
   "outputs": [
    {
     "data": {
      "image/png": "[encoded data removed]",
      "text/plain": [
       "<Figure size 864x576 with 1 Axes>"
      ]
     },
     "metadata": {
      "needs_background": "light"
     },
     "output_type": "display_data"
    }
   ],
   "source": [
    "#рассмотрим плотность распределения\n",
    "plt.figure(figsize=(12,8))\n",
    "sns.histplot(df_gas['Газ 1'], kde=True)\n",
    "plt.show()"
   ]
  },
  {
   "cell_type": "markdown",
   "id": "9da30de3",
   "metadata": {},
   "source": [
    "Распределение нормальное."
   ]
  },
  {
   "cell_type": "markdown",
   "id": "f9510057",
   "metadata": {},
   "source": [
    "### Результаты измерения температуры"
   ]
  },
  {
   "cell_type": "code",
   "execution_count": 31,
   "id": "293666a9",
   "metadata": {},
   "outputs": [
    {
     "data": {
      "text/html": [
       "<div>\n",
       "<style scoped>\n",
       "    .dataframe tbody tr th:only-of-type {\n",
       "        vertical-align: middle;\n",
       "    }\n",
       "\n",
       "    .dataframe tbody tr th {\n",
       "        vertical-align: top;\n",
       "    }\n",
       "\n",
       "    .dataframe thead th {\n",
       "        text-align: right;\n",
       "    }\n",
       "</style>\n",
       "<table border=\"1\" class=\"dataframe\">\n",
       "  <thead>\n",
       "    <tr style=\"text-align: right;\">\n",
       "      <th></th>\n",
       "      <th>key</th>\n",
       "      <th>Время замера</th>\n",
       "      <th>Температура</th>\n",
       "    </tr>\n",
       "  </thead>\n",
       "  <tbody>\n",
       "    <tr>\n",
       "      <th>0</th>\n",
       "      <td>1</td>\n",
       "      <td>2019-05-03 11:16:18</td>\n",
       "      <td>1571.0</td>\n",
       "    </tr>\n",
       "    <tr>\n",
       "      <th>1</th>\n",
       "      <td>1</td>\n",
       "      <td>2019-05-03 11:25:53</td>\n",
       "      <td>1604.0</td>\n",
       "    </tr>\n",
       "    <tr>\n",
       "      <th>2</th>\n",
       "      <td>1</td>\n",
       "      <td>2019-05-03 11:29:11</td>\n",
       "      <td>1618.0</td>\n",
       "    </tr>\n",
       "    <tr>\n",
       "      <th>3</th>\n",
       "      <td>1</td>\n",
       "      <td>2019-05-03 11:30:01</td>\n",
       "      <td>1601.0</td>\n",
       "    </tr>\n",
       "    <tr>\n",
       "      <th>4</th>\n",
       "      <td>1</td>\n",
       "      <td>2019-05-03 11:30:39</td>\n",
       "      <td>1613.0</td>\n",
       "    </tr>\n",
       "    <tr>\n",
       "      <th>5</th>\n",
       "      <td>2</td>\n",
       "      <td>2019-05-03 11:37:27</td>\n",
       "      <td>1581.0</td>\n",
       "    </tr>\n",
       "    <tr>\n",
       "      <th>6</th>\n",
       "      <td>2</td>\n",
       "      <td>2019-05-03 11:38:00</td>\n",
       "      <td>1577.0</td>\n",
       "    </tr>\n",
       "    <tr>\n",
       "      <th>7</th>\n",
       "      <td>2</td>\n",
       "      <td>2019-05-03 11:49:38</td>\n",
       "      <td>1589.0</td>\n",
       "    </tr>\n",
       "    <tr>\n",
       "      <th>8</th>\n",
       "      <td>2</td>\n",
       "      <td>2019-05-03 11:55:50</td>\n",
       "      <td>1604.0</td>\n",
       "    </tr>\n",
       "    <tr>\n",
       "      <th>9</th>\n",
       "      <td>2</td>\n",
       "      <td>2019-05-03 11:58:24</td>\n",
       "      <td>1608.0</td>\n",
       "    </tr>\n",
       "  </tbody>\n",
       "</table>\n",
       "</div>"
      ],
      "text/plain": [
       "   key         Время замера  Температура\n",
       "0    1  2019-05-03 11:16:18       1571.0\n",
       "1    1  2019-05-03 11:25:53       1604.0\n",
       "2    1  2019-05-03 11:29:11       1618.0\n",
       "3    1  2019-05-03 11:30:01       1601.0\n",
       "4    1  2019-05-03 11:30:39       1613.0\n",
       "5    2  2019-05-03 11:37:27       1581.0\n",
       "6    2  2019-05-03 11:38:00       1577.0\n",
       "7    2  2019-05-03 11:49:38       1589.0\n",
       "8    2  2019-05-03 11:55:50       1604.0\n",
       "9    2  2019-05-03 11:58:24       1608.0"
      ]
     },
     "execution_count": 31,
     "metadata": {},
     "output_type": "execute_result"
    }
   ],
   "source": [
    "df_temp.head(10)"
   ]
  },
  {
   "cell_type": "code",
   "execution_count": 32,
   "id": "0c437ebe",
   "metadata": {},
   "outputs": [
    {
     "name": "stdout",
     "output_type": "stream",
     "text": [
      "<class 'pandas.core.frame.DataFrame'>\n",
      "RangeIndex: 15907 entries, 0 to 15906\n",
      "Data columns (total 3 columns):\n",
      " #   Column        Non-Null Count  Dtype  \n",
      "---  ------        --------------  -----  \n",
      " 0   key           15907 non-null  int64  \n",
      " 1   Время замера  15907 non-null  object \n",
      " 2   Температура   13006 non-null  float64\n",
      "dtypes: float64(1), int64(1), object(1)\n",
      "memory usage: 372.9+ KB\n"
     ]
    }
   ],
   "source": [
    "df_temp.info()"
   ]
  },
  {
   "cell_type": "code",
   "execution_count": 33,
   "id": "10f94e96",
   "metadata": {},
   "outputs": [
    {
     "name": "stdout",
     "output_type": "stream",
     "text": [
      "Количество дубликатов в датасете df_temp: 0\n"
     ]
    }
   ],
   "source": [
    "print('Количество дубликатов в датасете df_temp:', df_temp.duplicated().sum())"
   ]
  },
  {
   "cell_type": "markdown",
   "id": "c1604c78",
   "metadata": {},
   "source": [
    "В данном датасете 15 907 строк и 3 столбца. В столбце \"Температура\" есть 2 906 пропусков. Дубликаты отсутствуют"
   ]
  },
  {
   "cell_type": "code",
   "execution_count": 34,
   "id": "7324101a",
   "metadata": {},
   "outputs": [
    {
     "data": {
      "text/plain": [
       "key                      int64\n",
       "Время замера    datetime64[ns]\n",
       "Температура            float64\n",
       "dtype: object"
      ]
     },
     "execution_count": 34,
     "metadata": {},
     "output_type": "execute_result"
    }
   ],
   "source": [
    "#сразу приведем \"Время замера\" к типу datetime\n",
    "df_temp['Время замера'] = pd.to_datetime(df_temp['Время замера'], format='%Y-%m-%d %H:%M:%S')\n",
    "df_temp.dtypes"
   ]
  },
  {
   "cell_type": "code",
   "execution_count": 35,
   "id": "dee52c87",
   "metadata": {},
   "outputs": [
    {
     "data": {
      "text/html": [
       "<div>\n",
       "<style scoped>\n",
       "    .dataframe tbody tr th:only-of-type {\n",
       "        vertical-align: middle;\n",
       "    }\n",
       "\n",
       "    .dataframe tbody tr th {\n",
       "        vertical-align: top;\n",
       "    }\n",
       "\n",
       "    .dataframe thead th {\n",
       "        text-align: right;\n",
       "    }\n",
       "</style>\n",
       "<table border=\"1\" class=\"dataframe\">\n",
       "  <thead>\n",
       "    <tr style=\"text-align: right;\">\n",
       "      <th></th>\n",
       "      <th>key</th>\n",
       "      <th>Температура</th>\n",
       "    </tr>\n",
       "  </thead>\n",
       "  <tbody>\n",
       "    <tr>\n",
       "      <th>count</th>\n",
       "      <td>15907.000000</td>\n",
       "      <td>13006.000000</td>\n",
       "    </tr>\n",
       "    <tr>\n",
       "      <th>mean</th>\n",
       "      <td>1607.880870</td>\n",
       "      <td>1591.840920</td>\n",
       "    </tr>\n",
       "    <tr>\n",
       "      <th>std</th>\n",
       "      <td>942.212073</td>\n",
       "      <td>21.375851</td>\n",
       "    </tr>\n",
       "    <tr>\n",
       "      <th>min</th>\n",
       "      <td>1.000000</td>\n",
       "      <td>1191.000000</td>\n",
       "    </tr>\n",
       "    <tr>\n",
       "      <th>25%</th>\n",
       "      <td>790.000000</td>\n",
       "      <td>1581.000000</td>\n",
       "    </tr>\n",
       "    <tr>\n",
       "      <th>50%</th>\n",
       "      <td>1618.000000</td>\n",
       "      <td>1591.000000</td>\n",
       "    </tr>\n",
       "    <tr>\n",
       "      <th>75%</th>\n",
       "      <td>2427.000000</td>\n",
       "      <td>1601.000000</td>\n",
       "    </tr>\n",
       "    <tr>\n",
       "      <th>max</th>\n",
       "      <td>3241.000000</td>\n",
       "      <td>1705.000000</td>\n",
       "    </tr>\n",
       "  </tbody>\n",
       "</table>\n",
       "</div>"
      ],
      "text/plain": [
       "                key   Температура\n",
       "count  15907.000000  13006.000000\n",
       "mean    1607.880870   1591.840920\n",
       "std      942.212073     21.375851\n",
       "min        1.000000   1191.000000\n",
       "25%      790.000000   1581.000000\n",
       "50%     1618.000000   1591.000000\n",
       "75%     2427.000000   1601.000000\n",
       "max     3241.000000   1705.000000"
      ]
     },
     "execution_count": 35,
     "metadata": {},
     "output_type": "execute_result"
    }
   ],
   "source": [
    "#взглянем на описательную статистику\n",
    "df_temp.describe()"
   ]
  },
  {
   "cell_type": "code",
   "execution_count": 36,
   "id": "48d7d4f0",
   "metadata": {},
   "outputs": [
    {
     "data": {
      "image/png": "[encoded data removed]",
      "text/plain": [
       "<Figure size 864x360 with 1 Axes>"
      ]
     },
     "metadata": {
      "needs_background": "light"
     },
     "output_type": "display_data"
    }
   ],
   "source": [
    "#построим boxplot\n",
    "plt.figure(figsize=(12,5))\n",
    "sns.boxplot(df_temp['Температура'])\n",
    "plt.show()"
   ]
  },
  {
   "cell_type": "markdown",
   "id": "c68a2dce",
   "metadata": {},
   "source": [
    "Есть выбросы в промежутке до 1400 градусов. Посмотрим на распределение."
   ]
  },
  {
   "cell_type": "code",
   "execution_count": 37,
   "id": "7a9beef1",
   "metadata": {},
   "outputs": [
    {
     "data": {
      "image/png": "[encoded data removed]",
      "text/plain": [
       "<Figure size 864x576 with 1 Axes>"
      ]
     },
     "metadata": {
      "needs_background": "light"
     },
     "output_type": "display_data"
    }
   ],
   "source": [
    "plt.figure(figsize=(12,8))\n",
    "sns.histplot(df_temp['Температура'], kde=True)\n",
    "plt.show()"
   ]
  },
  {
   "cell_type": "markdown",
   "id": "cf376c0d",
   "metadata": {},
   "source": [
    "Распределение абсолютно нормальное."
   ]
  },
  {
   "cell_type": "markdown",
   "id": "7d43d484",
   "metadata": {},
   "source": [
    "## Предобработка данных"
   ]
  },
  {
   "cell_type": "markdown",
   "id": "edc4af1d",
   "metadata": {},
   "source": [
    "Рассчитаем полную мощность и продолжительность нагрева графитовыми электродами."
   ]
  },
  {
   "cell_type": "code",
   "execution_count": 38,
   "id": "920780b4",
   "metadata": {},
   "outputs": [
    {
     "data": {
      "text/html": [
       "<div>\n",
       "<style scoped>\n",
       "    .dataframe tbody tr th:only-of-type {\n",
       "        vertical-align: middle;\n",
       "    }\n",
       "\n",
       "    .dataframe tbody tr th {\n",
       "        vertical-align: top;\n",
       "    }\n",
       "\n",
       "    .dataframe thead th {\n",
       "        text-align: right;\n",
       "    }\n",
       "</style>\n",
       "<table border=\"1\" class=\"dataframe\">\n",
       "  <thead>\n",
       "    <tr style=\"text-align: right;\">\n",
       "      <th></th>\n",
       "      <th>key</th>\n",
       "      <th>full_power</th>\n",
       "      <th>heating_time</th>\n",
       "    </tr>\n",
       "  </thead>\n",
       "  <tbody>\n",
       "    <tr>\n",
       "      <th>0</th>\n",
       "      <td>1</td>\n",
       "      <td>5.826395</td>\n",
       "      <td>1098</td>\n",
       "    </tr>\n",
       "    <tr>\n",
       "      <th>1</th>\n",
       "      <td>2</td>\n",
       "      <td>3.649216</td>\n",
       "      <td>811</td>\n",
       "    </tr>\n",
       "    <tr>\n",
       "      <th>2</th>\n",
       "      <td>3</td>\n",
       "      <td>2.989534</td>\n",
       "      <td>655</td>\n",
       "    </tr>\n",
       "    <tr>\n",
       "      <th>3</th>\n",
       "      <td>4</td>\n",
       "      <td>3.814962</td>\n",
       "      <td>741</td>\n",
       "    </tr>\n",
       "    <tr>\n",
       "      <th>4</th>\n",
       "      <td>5</td>\n",
       "      <td>4.035758</td>\n",
       "      <td>869</td>\n",
       "    </tr>\n",
       "    <tr>\n",
       "      <th>...</th>\n",
       "      <td>...</td>\n",
       "      <td>...</td>\n",
       "      <td>...</td>\n",
       "    </tr>\n",
       "    <tr>\n",
       "      <th>3209</th>\n",
       "      <td>3237</td>\n",
       "      <td>4.844982</td>\n",
       "      <td>909</td>\n",
       "    </tr>\n",
       "    <tr>\n",
       "      <th>3210</th>\n",
       "      <td>3238</td>\n",
       "      <td>2.696542</td>\n",
       "      <td>546</td>\n",
       "    </tr>\n",
       "    <tr>\n",
       "      <th>3211</th>\n",
       "      <td>3239</td>\n",
       "      <td>5.611883</td>\n",
       "      <td>1216</td>\n",
       "    </tr>\n",
       "    <tr>\n",
       "      <th>3212</th>\n",
       "      <td>3240</td>\n",
       "      <td>3.891856</td>\n",
       "      <td>839</td>\n",
       "    </tr>\n",
       "    <tr>\n",
       "      <th>3213</th>\n",
       "      <td>3241</td>\n",
       "      <td>2.999516</td>\n",
       "      <td>659</td>\n",
       "    </tr>\n",
       "  </tbody>\n",
       "</table>\n",
       "<p>3214 rows × 3 columns</p>\n",
       "</div>"
      ],
      "text/plain": [
       "       key  full_power  heating_time\n",
       "0        1    5.826395          1098\n",
       "1        2    3.649216           811\n",
       "2        3    2.989534           655\n",
       "3        4    3.814962           741\n",
       "4        5    4.035758           869\n",
       "...    ...         ...           ...\n",
       "3209  3237    4.844982           909\n",
       "3210  3238    2.696542           546\n",
       "3211  3239    5.611883          1216\n",
       "3212  3240    3.891856           839\n",
       "3213  3241    2.999516           659\n",
       "\n",
       "[3214 rows x 3 columns]"
      ]
     },
     "execution_count": 38,
     "metadata": {},
     "output_type": "execute_result"
    }
   ],
   "source": [
    "#добавление столбца с полной мощностью\n",
    "df_arc['full_power'] = np.sqrt(df_arc['Активная мощность']**2 + df_arc['Реактивная мощность']**2)\n",
    "\n",
    "#рассчитаем продолжительность нагрева в секундах\n",
    "df_arc['heating_time'] = ((df_arc['Конец нагрева дугой'] - df_arc['Начало нагрева дугой'])\n",
    "                          .dt.total_seconds().astype(int))\n",
    "\n",
    "#сгруппируем данные по ключу и создадим финальный датасет\n",
    "df_arc_final=df_arc.groupby('key').sum()[['full_power', 'heating_time']].reset_index()\n",
    "\n",
    "#посмотрим на получившийся датасет\n",
    "df_arc_final"
   ]
  },
  {
   "cell_type": "markdown",
   "id": "6381a008",
   "metadata": {},
   "source": [
    "Теперь заполним пропуски нулями в датасетах df_bulk и df_wire."
   ]
  },
  {
   "cell_type": "code",
   "execution_count": 39,
   "id": "6862f3ee",
   "metadata": {},
   "outputs": [
    {
     "data": {
      "text/html": [
       "<div>\n",
       "<style scoped>\n",
       "    .dataframe tbody tr th:only-of-type {\n",
       "        vertical-align: middle;\n",
       "    }\n",
       "\n",
       "    .dataframe tbody tr th {\n",
       "        vertical-align: top;\n",
       "    }\n",
       "\n",
       "    .dataframe thead th {\n",
       "        text-align: right;\n",
       "    }\n",
       "</style>\n",
       "<table border=\"1\" class=\"dataframe\">\n",
       "  <thead>\n",
       "    <tr style=\"text-align: right;\">\n",
       "      <th></th>\n",
       "      <th>key</th>\n",
       "      <th>Bulk 1</th>\n",
       "      <th>Bulk 2</th>\n",
       "      <th>Bulk 3</th>\n",
       "      <th>Bulk 4</th>\n",
       "      <th>Bulk 5</th>\n",
       "      <th>Bulk 6</th>\n",
       "      <th>Bulk 7</th>\n",
       "      <th>Bulk 8</th>\n",
       "      <th>Bulk 9</th>\n",
       "      <th>Bulk 10</th>\n",
       "      <th>Bulk 11</th>\n",
       "      <th>Bulk 12</th>\n",
       "      <th>Bulk 13</th>\n",
       "      <th>Bulk 14</th>\n",
       "      <th>Bulk 15</th>\n",
       "    </tr>\n",
       "  </thead>\n",
       "  <tbody>\n",
       "    <tr>\n",
       "      <th>2619</th>\n",
       "      <td>2718</td>\n",
       "      <td>0.0</td>\n",
       "      <td>0.0</td>\n",
       "      <td>66.0</td>\n",
       "      <td>0.0</td>\n",
       "      <td>0.0</td>\n",
       "      <td>0.0</td>\n",
       "      <td>0.0</td>\n",
       "      <td>0.0</td>\n",
       "      <td>0.0</td>\n",
       "      <td>0.0</td>\n",
       "      <td>0.0</td>\n",
       "      <td>202.0</td>\n",
       "      <td>0.0</td>\n",
       "      <td>150.0</td>\n",
       "      <td>108.0</td>\n",
       "    </tr>\n",
       "    <tr>\n",
       "      <th>1477</th>\n",
       "      <td>1533</td>\n",
       "      <td>0.0</td>\n",
       "      <td>0.0</td>\n",
       "      <td>0.0</td>\n",
       "      <td>0.0</td>\n",
       "      <td>0.0</td>\n",
       "      <td>0.0</td>\n",
       "      <td>0.0</td>\n",
       "      <td>0.0</td>\n",
       "      <td>0.0</td>\n",
       "      <td>0.0</td>\n",
       "      <td>0.0</td>\n",
       "      <td>258.0</td>\n",
       "      <td>0.0</td>\n",
       "      <td>150.0</td>\n",
       "      <td>205.0</td>\n",
       "    </tr>\n",
       "    <tr>\n",
       "      <th>2945</th>\n",
       "      <td>3054</td>\n",
       "      <td>0.0</td>\n",
       "      <td>0.0</td>\n",
       "      <td>104.0</td>\n",
       "      <td>124.0</td>\n",
       "      <td>0.0</td>\n",
       "      <td>0.0</td>\n",
       "      <td>0.0</td>\n",
       "      <td>0.0</td>\n",
       "      <td>0.0</td>\n",
       "      <td>0.0</td>\n",
       "      <td>0.0</td>\n",
       "      <td>360.0</td>\n",
       "      <td>0.0</td>\n",
       "      <td>194.0</td>\n",
       "      <td>262.0</td>\n",
       "    </tr>\n",
       "  </tbody>\n",
       "</table>\n",
       "</div>"
      ],
      "text/plain": [
       "       key  Bulk 1  Bulk 2  Bulk 3  Bulk 4  Bulk 5  Bulk 6  Bulk 7  Bulk 8  \\\n",
       "2619  2718     0.0     0.0    66.0     0.0     0.0     0.0     0.0     0.0   \n",
       "1477  1533     0.0     0.0     0.0     0.0     0.0     0.0     0.0     0.0   \n",
       "2945  3054     0.0     0.0   104.0   124.0     0.0     0.0     0.0     0.0   \n",
       "\n",
       "      Bulk 9  Bulk 10  Bulk 11  Bulk 12  Bulk 13  Bulk 14  Bulk 15  \n",
       "2619     0.0      0.0      0.0    202.0      0.0    150.0    108.0  \n",
       "1477     0.0      0.0      0.0    258.0      0.0    150.0    205.0  \n",
       "2945     0.0      0.0      0.0    360.0      0.0    194.0    262.0  "
      ]
     },
     "metadata": {},
     "output_type": "display_data"
    },
    {
     "data": {
      "text/html": [
       "<div>\n",
       "<style scoped>\n",
       "    .dataframe tbody tr th:only-of-type {\n",
       "        vertical-align: middle;\n",
       "    }\n",
       "\n",
       "    .dataframe tbody tr th {\n",
       "        vertical-align: top;\n",
       "    }\n",
       "\n",
       "    .dataframe thead th {\n",
       "        text-align: right;\n",
       "    }\n",
       "</style>\n",
       "<table border=\"1\" class=\"dataframe\">\n",
       "  <thead>\n",
       "    <tr style=\"text-align: right;\">\n",
       "      <th></th>\n",
       "      <th>key</th>\n",
       "      <th>Wire 1</th>\n",
       "      <th>Wire 2</th>\n",
       "      <th>Wire 3</th>\n",
       "      <th>Wire 4</th>\n",
       "      <th>Wire 5</th>\n",
       "      <th>Wire 6</th>\n",
       "      <th>Wire 7</th>\n",
       "      <th>Wire 8</th>\n",
       "      <th>Wire 9</th>\n",
       "    </tr>\n",
       "  </thead>\n",
       "  <tbody>\n",
       "    <tr>\n",
       "      <th>865</th>\n",
       "      <td>919</td>\n",
       "      <td>46.144798</td>\n",
       "      <td>132.100800</td>\n",
       "      <td>0.0</td>\n",
       "      <td>0.0</td>\n",
       "      <td>0.0</td>\n",
       "      <td>0.0</td>\n",
       "      <td>0.0</td>\n",
       "      <td>0.0</td>\n",
       "      <td>0.0</td>\n",
       "    </tr>\n",
       "    <tr>\n",
       "      <th>1076</th>\n",
       "      <td>1143</td>\n",
       "      <td>139.183196</td>\n",
       "      <td>0.000000</td>\n",
       "      <td>0.0</td>\n",
       "      <td>0.0</td>\n",
       "      <td>0.0</td>\n",
       "      <td>0.0</td>\n",
       "      <td>0.0</td>\n",
       "      <td>0.0</td>\n",
       "      <td>0.0</td>\n",
       "    </tr>\n",
       "    <tr>\n",
       "      <th>1521</th>\n",
       "      <td>1600</td>\n",
       "      <td>104.083198</td>\n",
       "      <td>133.367524</td>\n",
       "      <td>0.0</td>\n",
       "      <td>0.0</td>\n",
       "      <td>0.0</td>\n",
       "      <td>0.0</td>\n",
       "      <td>0.0</td>\n",
       "      <td>0.0</td>\n",
       "      <td>0.0</td>\n",
       "    </tr>\n",
       "  </tbody>\n",
       "</table>\n",
       "</div>"
      ],
      "text/plain": [
       "       key      Wire 1      Wire 2  Wire 3  Wire 4  Wire 5  Wire 6  Wire 7  \\\n",
       "865    919   46.144798  132.100800     0.0     0.0     0.0     0.0     0.0   \n",
       "1076  1143  139.183196    0.000000     0.0     0.0     0.0     0.0     0.0   \n",
       "1521  1600  104.083198  133.367524     0.0     0.0     0.0     0.0     0.0   \n",
       "\n",
       "      Wire 8  Wire 9  \n",
       "865      0.0     0.0  \n",
       "1076     0.0     0.0  \n",
       "1521     0.0     0.0  "
      ]
     },
     "metadata": {},
     "output_type": "display_data"
    }
   ],
   "source": [
    "df_bulk = df_bulk.fillna(0)\n",
    "df_wire = df_wire.fillna(0)\n",
    "\n",
    "#проверим результат\n",
    "display(df_bulk.sample(3))\n",
    "display(df_wire.sample(3))"
   ]
  },
  {
   "cell_type": "markdown",
   "id": "86613851",
   "metadata": {},
   "source": [
    "Как мы уже определили ранее, в датасете с газом значения выше 34 являются выбросами. Отфильтруем датасет и уберем эти 18 строк."
   ]
  },
  {
   "cell_type": "code",
   "execution_count": 40,
   "id": "322aa4d3",
   "metadata": {},
   "outputs": [],
   "source": [
    "df_gas = df_gas[df_gas['Газ 1'] < 34]"
   ]
  },
  {
   "cell_type": "code",
   "execution_count": 41,
   "id": "b7fdea6e",
   "metadata": {},
   "outputs": [
    {
     "name": "stdout",
     "output_type": "stream",
     "text": [
      "<class 'pandas.core.frame.DataFrame'>\n",
      "Int64Index: 3221 entries, 0 to 3238\n",
      "Data columns (total 2 columns):\n",
      " #   Column  Non-Null Count  Dtype  \n",
      "---  ------  --------------  -----  \n",
      " 0   key     3221 non-null   int64  \n",
      " 1   gas     3221 non-null   float64\n",
      "dtypes: float64(1), int64(1)\n",
      "memory usage: 75.5 KB\n"
     ]
    }
   ],
   "source": [
    "#переименуем в датасете df_gas название столбца, чтобы в финальном датасете все столбцы были в одном стиле\n",
    "df_gas = df_gas.rename(columns = {'Газ 1': 'gas'})\n",
    "df_gas.info()"
   ]
  },
  {
   "cell_type": "markdown",
   "id": "7973ef00",
   "metadata": {},
   "source": [
    "Перейдем к финальному датасету с температурой. Из него нужно удалить выбросы менее 1300 градусов, т.к. 1300 градусов является начальной температурой плавления стали. После этого удалим из датасета партии, в которых только одно время замера, а нам нужны как минимум 2, т.к. начальная температура является признаком, а конечная температура - это целевой признак. Также нужно выделить начальную и конечную температуру одной партии и время работы с партией."
   ]
  },
  {
   "cell_type": "code",
   "execution_count": 42,
   "id": "1e5e1391",
   "metadata": {},
   "outputs": [],
   "source": [
    "#отфильтруем выбросы ниже 1300 градусов\n",
    "df_temp = df_temp.query('Температура >= 1300')"
   ]
  },
  {
   "cell_type": "code",
   "execution_count": 43,
   "id": "1275c2f0",
   "metadata": {},
   "outputs": [],
   "source": [
    "#группируем данные по ключу и считаем количество замеров\n",
    "temp_count = (df_temp.groupby('key')['key'].count())\\\n",
    "             [(df_temp.groupby('key')['key'].count()) > 1].index\n",
    "\n",
    "#удаляем индексы с одним замером из датасета\n",
    "df_temp = df_temp[df_temp['key'].isin(temp_count)]"
   ]
  },
  {
   "cell_type": "code",
   "execution_count": 44,
   "id": "07ba1b29",
   "metadata": {},
   "outputs": [
    {
     "data": {
      "text/html": [
       "<div>\n",
       "<style scoped>\n",
       "    .dataframe tbody tr th:only-of-type {\n",
       "        vertical-align: middle;\n",
       "    }\n",
       "\n",
       "    .dataframe tbody tr th {\n",
       "        vertical-align: top;\n",
       "    }\n",
       "\n",
       "    .dataframe thead th {\n",
       "        text-align: right;\n",
       "    }\n",
       "</style>\n",
       "<table border=\"1\" class=\"dataframe\">\n",
       "  <thead>\n",
       "    <tr style=\"text-align: right;\">\n",
       "      <th></th>\n",
       "      <th>key</th>\n",
       "      <th>start_temp</th>\n",
       "      <th>final_temp</th>\n",
       "      <th>duration</th>\n",
       "    </tr>\n",
       "  </thead>\n",
       "  <tbody>\n",
       "    <tr>\n",
       "      <th>0</th>\n",
       "      <td>1</td>\n",
       "      <td>1571.0</td>\n",
       "      <td>1613.0</td>\n",
       "      <td>861</td>\n",
       "    </tr>\n",
       "    <tr>\n",
       "      <th>1</th>\n",
       "      <td>2</td>\n",
       "      <td>1581.0</td>\n",
       "      <td>1602.0</td>\n",
       "      <td>1305</td>\n",
       "    </tr>\n",
       "    <tr>\n",
       "      <th>2</th>\n",
       "      <td>3</td>\n",
       "      <td>1596.0</td>\n",
       "      <td>1599.0</td>\n",
       "      <td>1300</td>\n",
       "    </tr>\n",
       "    <tr>\n",
       "      <th>3</th>\n",
       "      <td>4</td>\n",
       "      <td>1601.0</td>\n",
       "      <td>1625.0</td>\n",
       "      <td>388</td>\n",
       "    </tr>\n",
       "    <tr>\n",
       "      <th>4</th>\n",
       "      <td>5</td>\n",
       "      <td>1576.0</td>\n",
       "      <td>1602.0</td>\n",
       "      <td>762</td>\n",
       "    </tr>\n",
       "    <tr>\n",
       "      <th>...</th>\n",
       "      <td>...</td>\n",
       "      <td>...</td>\n",
       "      <td>...</td>\n",
       "      <td>...</td>\n",
       "    </tr>\n",
       "    <tr>\n",
       "      <th>2470</th>\n",
       "      <td>2495</td>\n",
       "      <td>1570.0</td>\n",
       "      <td>1591.0</td>\n",
       "      <td>1137</td>\n",
       "    </tr>\n",
       "    <tr>\n",
       "      <th>2471</th>\n",
       "      <td>2496</td>\n",
       "      <td>1554.0</td>\n",
       "      <td>1591.0</td>\n",
       "      <td>1618</td>\n",
       "    </tr>\n",
       "    <tr>\n",
       "      <th>2472</th>\n",
       "      <td>2497</td>\n",
       "      <td>1571.0</td>\n",
       "      <td>1589.0</td>\n",
       "      <td>717</td>\n",
       "    </tr>\n",
       "    <tr>\n",
       "      <th>2473</th>\n",
       "      <td>2498</td>\n",
       "      <td>1591.0</td>\n",
       "      <td>1594.0</td>\n",
       "      <td>1302</td>\n",
       "    </tr>\n",
       "    <tr>\n",
       "      <th>2474</th>\n",
       "      <td>2499</td>\n",
       "      <td>1569.0</td>\n",
       "      <td>1603.0</td>\n",
       "      <td>1203</td>\n",
       "    </tr>\n",
       "  </tbody>\n",
       "</table>\n",
       "<p>2475 rows × 4 columns</p>\n",
       "</div>"
      ],
      "text/plain": [
       "       key  start_temp  final_temp  duration\n",
       "0        1      1571.0      1613.0       861\n",
       "1        2      1581.0      1602.0      1305\n",
       "2        3      1596.0      1599.0      1300\n",
       "3        4      1601.0      1625.0       388\n",
       "4        5      1576.0      1602.0       762\n",
       "...    ...         ...         ...       ...\n",
       "2470  2495      1570.0      1591.0      1137\n",
       "2471  2496      1554.0      1591.0      1618\n",
       "2472  2497      1571.0      1589.0       717\n",
       "2473  2498      1591.0      1594.0      1302\n",
       "2474  2499      1569.0      1603.0      1203\n",
       "\n",
       "[2475 rows x 4 columns]"
      ]
     },
     "execution_count": 44,
     "metadata": {},
     "output_type": "execute_result"
    }
   ],
   "source": [
    "#создаем датасет с группировкой по ключу и агрегирующей функцией min, примененной к времени замера\n",
    "start_temp = df_temp.groupby('key').agg('min')['Время замера']\n",
    "start_temp = pd.DataFrame(start_temp)\n",
    "start_temp = start_temp.merge(df_temp, on='Время замера', how='left')\n",
    "start_temp.set_axis(['start_time', 'key', 'start_temp'], axis = 'columns', inplace = True)\n",
    "\n",
    "\n",
    "#создаем второй датасет с группировкой по ключу и агрегирующей функцией max, примененной к времени замера\n",
    "final_temp = df_temp.groupby('key').agg('max')['Время замера']\n",
    "final_temp = pd.DataFrame(final_temp)\n",
    "final_temp = final_temp.merge(df_temp, on='Время замера', how='left')\n",
    "final_temp.set_axis(['final_time', 'key', 'final_temp'], axis = 'columns', inplace = True)\n",
    "\n",
    "#объединим таблицы в датасет\n",
    "df_final_temp = start_temp.merge(final_temp, on='key', how='left')\\\n",
    "                  .reindex(columns=['key', 'start_time', 'start_temp', 'final_time', 'final_temp'])\n",
    "\n",
    "#добавим столбец с продолжительностью работы с партией\n",
    "df_final_temp['duration'] = ((df_final_temp['final_time'] - df_final_temp['start_time'])\n",
    "                             .dt.total_seconds().astype(int))\n",
    "\n",
    "#оставим только нужные столбцы\n",
    "df_final_temp = df_final_temp[['key', 'start_temp', 'final_temp', 'duration']]\n",
    "\n",
    "df_final_temp"
   ]
  },
  {
   "cell_type": "code",
   "execution_count": 45,
   "id": "ee9ee3d8",
   "metadata": {},
   "outputs": [
    {
     "name": "stdout",
     "output_type": "stream",
     "text": [
      "Количество пропусков в датасете: 0\n"
     ]
    }
   ],
   "source": [
    "print('Количество пропусков в датасете:', df_final_temp.isna().sum().sum())"
   ]
  },
  {
   "cell_type": "markdown",
   "id": "4017fbda",
   "metadata": {},
   "source": [
    "Объединим данные для финального датасета."
   ]
  },
  {
   "cell_type": "code",
   "execution_count": 46,
   "id": "956839ef",
   "metadata": {},
   "outputs": [
    {
     "data": {
      "text/html": [
       "<div>\n",
       "<style scoped>\n",
       "    .dataframe tbody tr th:only-of-type {\n",
       "        vertical-align: middle;\n",
       "    }\n",
       "\n",
       "    .dataframe tbody tr th {\n",
       "        vertical-align: top;\n",
       "    }\n",
       "\n",
       "    .dataframe thead th {\n",
       "        text-align: right;\n",
       "    }\n",
       "</style>\n",
       "<table border=\"1\" class=\"dataframe\">\n",
       "  <thead>\n",
       "    <tr style=\"text-align: right;\">\n",
       "      <th></th>\n",
       "      <th>key</th>\n",
       "      <th>start_temp</th>\n",
       "      <th>final_temp</th>\n",
       "      <th>duration</th>\n",
       "      <th>full_power</th>\n",
       "      <th>heating_time</th>\n",
       "      <th>gas</th>\n",
       "      <th>Bulk 1</th>\n",
       "      <th>Bulk 2</th>\n",
       "      <th>Bulk 3</th>\n",
       "      <th>...</th>\n",
       "      <th>Bulk 15</th>\n",
       "      <th>Wire 1</th>\n",
       "      <th>Wire 2</th>\n",
       "      <th>Wire 3</th>\n",
       "      <th>Wire 4</th>\n",
       "      <th>Wire 5</th>\n",
       "      <th>Wire 6</th>\n",
       "      <th>Wire 7</th>\n",
       "      <th>Wire 8</th>\n",
       "      <th>Wire 9</th>\n",
       "    </tr>\n",
       "  </thead>\n",
       "  <tbody>\n",
       "    <tr>\n",
       "      <th>1616</th>\n",
       "      <td>1738</td>\n",
       "      <td>1577.0</td>\n",
       "      <td>1600.0</td>\n",
       "      <td>999</td>\n",
       "      <td>3.758005</td>\n",
       "      <td>719</td>\n",
       "      <td>9.699940</td>\n",
       "      <td>0.0</td>\n",
       "      <td>0.0</td>\n",
       "      <td>0.0</td>\n",
       "      <td>...</td>\n",
       "      <td>203.0</td>\n",
       "      <td>143.067596</td>\n",
       "      <td>0.0</td>\n",
       "      <td>0.0</td>\n",
       "      <td>0.0</td>\n",
       "      <td>0.0</td>\n",
       "      <td>0.0</td>\n",
       "      <td>0.0</td>\n",
       "      <td>0.0</td>\n",
       "      <td>0.0</td>\n",
       "    </tr>\n",
       "    <tr>\n",
       "      <th>544</th>\n",
       "      <td>597</td>\n",
       "      <td>1606.0</td>\n",
       "      <td>1599.0</td>\n",
       "      <td>1470</td>\n",
       "      <td>1.707895</td>\n",
       "      <td>358</td>\n",
       "      <td>7.584491</td>\n",
       "      <td>0.0</td>\n",
       "      <td>0.0</td>\n",
       "      <td>0.0</td>\n",
       "      <td>...</td>\n",
       "      <td>0.0</td>\n",
       "      <td>165.204010</td>\n",
       "      <td>0.0</td>\n",
       "      <td>0.0</td>\n",
       "      <td>0.0</td>\n",
       "      <td>0.0</td>\n",
       "      <td>0.0</td>\n",
       "      <td>0.0</td>\n",
       "      <td>0.0</td>\n",
       "      <td>0.0</td>\n",
       "    </tr>\n",
       "    <tr>\n",
       "      <th>815</th>\n",
       "      <td>892</td>\n",
       "      <td>1615.0</td>\n",
       "      <td>1595.0</td>\n",
       "      <td>1221</td>\n",
       "      <td>1.372468</td>\n",
       "      <td>298</td>\n",
       "      <td>6.722087</td>\n",
       "      <td>0.0</td>\n",
       "      <td>0.0</td>\n",
       "      <td>0.0</td>\n",
       "      <td>...</td>\n",
       "      <td>102.0</td>\n",
       "      <td>102.726000</td>\n",
       "      <td>0.0</td>\n",
       "      <td>0.0</td>\n",
       "      <td>0.0</td>\n",
       "      <td>0.0</td>\n",
       "      <td>0.0</td>\n",
       "      <td>0.0</td>\n",
       "      <td>0.0</td>\n",
       "      <td>0.0</td>\n",
       "    </tr>\n",
       "    <tr>\n",
       "      <th>2012</th>\n",
       "      <td>2161</td>\n",
       "      <td>1614.0</td>\n",
       "      <td>1591.0</td>\n",
       "      <td>2112</td>\n",
       "      <td>2.688493</td>\n",
       "      <td>624</td>\n",
       "      <td>11.674069</td>\n",
       "      <td>0.0</td>\n",
       "      <td>0.0</td>\n",
       "      <td>0.0</td>\n",
       "      <td>...</td>\n",
       "      <td>228.0</td>\n",
       "      <td>64.122238</td>\n",
       "      <td>0.0</td>\n",
       "      <td>0.0</td>\n",
       "      <td>0.0</td>\n",
       "      <td>0.0</td>\n",
       "      <td>0.0</td>\n",
       "      <td>0.0</td>\n",
       "      <td>0.0</td>\n",
       "      <td>0.0</td>\n",
       "    </tr>\n",
       "    <tr>\n",
       "      <th>432</th>\n",
       "      <td>481</td>\n",
       "      <td>1590.0</td>\n",
       "      <td>1601.0</td>\n",
       "      <td>2066</td>\n",
       "      <td>4.933154</td>\n",
       "      <td>952</td>\n",
       "      <td>9.359756</td>\n",
       "      <td>0.0</td>\n",
       "      <td>0.0</td>\n",
       "      <td>342.0</td>\n",
       "      <td>...</td>\n",
       "      <td>103.0</td>\n",
       "      <td>65.239197</td>\n",
       "      <td>0.0</td>\n",
       "      <td>0.0</td>\n",
       "      <td>0.0</td>\n",
       "      <td>0.0</td>\n",
       "      <td>0.0</td>\n",
       "      <td>0.0</td>\n",
       "      <td>0.0</td>\n",
       "      <td>0.0</td>\n",
       "    </tr>\n",
       "  </tbody>\n",
       "</table>\n",
       "<p>5 rows × 31 columns</p>\n",
       "</div>"
      ],
      "text/plain": [
       "       key  start_temp  final_temp  duration  full_power  heating_time  \\\n",
       "1616  1738      1577.0      1600.0       999    3.758005           719   \n",
       "544    597      1606.0      1599.0      1470    1.707895           358   \n",
       "815    892      1615.0      1595.0      1221    1.372468           298   \n",
       "2012  2161      1614.0      1591.0      2112    2.688493           624   \n",
       "432    481      1590.0      1601.0      2066    4.933154           952   \n",
       "\n",
       "            gas  Bulk 1  Bulk 2  Bulk 3  ...  Bulk 15      Wire 1  Wire 2  \\\n",
       "1616   9.699940     0.0     0.0     0.0  ...    203.0  143.067596     0.0   \n",
       "544    7.584491     0.0     0.0     0.0  ...      0.0  165.204010     0.0   \n",
       "815    6.722087     0.0     0.0     0.0  ...    102.0  102.726000     0.0   \n",
       "2012  11.674069     0.0     0.0     0.0  ...    228.0   64.122238     0.0   \n",
       "432    9.359756     0.0     0.0   342.0  ...    103.0   65.239197     0.0   \n",
       "\n",
       "      Wire 3  Wire 4  Wire 5  Wire 6  Wire 7  Wire 8  Wire 9  \n",
       "1616     0.0     0.0     0.0     0.0     0.0     0.0     0.0  \n",
       "544      0.0     0.0     0.0     0.0     0.0     0.0     0.0  \n",
       "815      0.0     0.0     0.0     0.0     0.0     0.0     0.0  \n",
       "2012     0.0     0.0     0.0     0.0     0.0     0.0     0.0  \n",
       "432      0.0     0.0     0.0     0.0     0.0     0.0     0.0  \n",
       "\n",
       "[5 rows x 31 columns]"
      ]
     },
     "metadata": {},
     "output_type": "display_data"
    },
    {
     "name": "stdout",
     "output_type": "stream",
     "text": [
      "<class 'pandas.core.frame.DataFrame'>\n",
      "Int64Index: 2313 entries, 0 to 2312\n",
      "Data columns (total 31 columns):\n",
      " #   Column        Non-Null Count  Dtype  \n",
      "---  ------        --------------  -----  \n",
      " 0   key           2313 non-null   int64  \n",
      " 1   start_temp    2313 non-null   float64\n",
      " 2   final_temp    2313 non-null   float64\n",
      " 3   duration      2313 non-null   int32  \n",
      " 4   full_power    2313 non-null   float64\n",
      " 5   heating_time  2313 non-null   int32  \n",
      " 6   gas           2313 non-null   float64\n",
      " 7   Bulk 1        2313 non-null   float64\n",
      " 8   Bulk 2        2313 non-null   float64\n",
      " 9   Bulk 3        2313 non-null   float64\n",
      " 10  Bulk 4        2313 non-null   float64\n",
      " 11  Bulk 5        2313 non-null   float64\n",
      " 12  Bulk 6        2313 non-null   float64\n",
      " 13  Bulk 7        2313 non-null   float64\n",
      " 14  Bulk 8        2313 non-null   float64\n",
      " 15  Bulk 9        2313 non-null   float64\n",
      " 16  Bulk 10       2313 non-null   float64\n",
      " 17  Bulk 11       2313 non-null   float64\n",
      " 18  Bulk 12       2313 non-null   float64\n",
      " 19  Bulk 13       2313 non-null   float64\n",
      " 20  Bulk 14       2313 non-null   float64\n",
      " 21  Bulk 15       2313 non-null   float64\n",
      " 22  Wire 1        2313 non-null   float64\n",
      " 23  Wire 2        2313 non-null   float64\n",
      " 24  Wire 3        2313 non-null   float64\n",
      " 25  Wire 4        2313 non-null   float64\n",
      " 26  Wire 5        2313 non-null   float64\n",
      " 27  Wire 6        2313 non-null   float64\n",
      " 28  Wire 7        2313 non-null   float64\n",
      " 29  Wire 8        2313 non-null   float64\n",
      " 30  Wire 9        2313 non-null   float64\n",
      "dtypes: float64(28), int32(2), int64(1)\n",
      "memory usage: 560.2 KB\n"
     ]
    }
   ],
   "source": [
    "df_final = df_final_temp.merge(df_arc_final, on='key')\n",
    "df_final = df_final.merge(df_gas, on='key')\n",
    "df_final = df_final.merge(df_bulk, on='key')\n",
    "df_final = df_final.merge(df_wire, on='key')\n",
    "display(df_final.sample(5))\n",
    "df_final.info()"
   ]
  },
  {
   "cell_type": "markdown",
   "id": "007dc98e",
   "metadata": {},
   "source": [
    "Получили итоговый датасет, состоящий из 2313 строк и 31 столбца. Пропусков нет."
   ]
  },
  {
   "cell_type": "markdown",
   "id": "75794c5a",
   "metadata": {},
   "source": [
    "Теперь проверим корелляцию признаков между собой, может какие-то можно удалить, чтобы модель обучалась быстрее."
   ]
  },
  {
   "cell_type": "code",
   "execution_count": 47,
   "id": "389736ed",
   "metadata": {},
   "outputs": [
    {
     "data": {
      "image/png": "[encoded data removed]",
      "text/plain": [
       "<Figure size 1800x1800 with 2 Axes>"
      ]
     },
     "metadata": {
      "needs_background": "light"
     },
     "output_type": "display_data"
    }
   ],
   "source": [
    "plt.figure(figsize=(25,25))\n",
    "sns.heatmap(df_final.corr(), annot=True, cmap='RdYlGn', center=0, square=True)\n",
    "plt.show()"
   ]
  },
  {
   "cell_type": "markdown",
   "id": "0b1e75d1",
   "metadata": {},
   "source": [
    "Видим, что по столбцу `Wire 5` везде нулевая корреляция. Проверим, может он вообще пустой."
   ]
  },
  {
   "cell_type": "code",
   "execution_count": 48,
   "id": "eec03b18",
   "metadata": {},
   "outputs": [
    {
     "data": {
      "text/html": [
       "<div>\n",
       "<style scoped>\n",
       "    .dataframe tbody tr th:only-of-type {\n",
       "        vertical-align: middle;\n",
       "    }\n",
       "\n",
       "    .dataframe tbody tr th {\n",
       "        vertical-align: top;\n",
       "    }\n",
       "\n",
       "    .dataframe thead th {\n",
       "        text-align: right;\n",
       "    }\n",
       "</style>\n",
       "<table border=\"1\" class=\"dataframe\">\n",
       "  <thead>\n",
       "    <tr style=\"text-align: right;\">\n",
       "      <th></th>\n",
       "      <th>key</th>\n",
       "      <th>start_temp</th>\n",
       "      <th>final_temp</th>\n",
       "      <th>duration</th>\n",
       "      <th>full_power</th>\n",
       "      <th>heating_time</th>\n",
       "      <th>gas</th>\n",
       "      <th>Bulk 1</th>\n",
       "      <th>Bulk 2</th>\n",
       "      <th>Bulk 3</th>\n",
       "      <th>...</th>\n",
       "      <th>Bulk 15</th>\n",
       "      <th>Wire 1</th>\n",
       "      <th>Wire 2</th>\n",
       "      <th>Wire 3</th>\n",
       "      <th>Wire 4</th>\n",
       "      <th>Wire 5</th>\n",
       "      <th>Wire 6</th>\n",
       "      <th>Wire 7</th>\n",
       "      <th>Wire 8</th>\n",
       "      <th>Wire 9</th>\n",
       "    </tr>\n",
       "  </thead>\n",
       "  <tbody>\n",
       "  </tbody>\n",
       "</table>\n",
       "<p>0 rows × 31 columns</p>\n",
       "</div>"
      ],
      "text/plain": [
       "Empty DataFrame\n",
       "Columns: [key, start_temp, final_temp, duration, full_power, heating_time, gas, Bulk 1, Bulk 2, Bulk 3, Bulk 4, Bulk 5, Bulk 6, Bulk 7, Bulk 8, Bulk 9, Bulk 10, Bulk 11, Bulk 12, Bulk 13, Bulk 14, Bulk 15, Wire 1, Wire 2, Wire 3, Wire 4, Wire 5, Wire 6, Wire 7, Wire 8, Wire 9]\n",
       "Index: []\n",
       "\n",
       "[0 rows x 31 columns]"
      ]
     },
     "execution_count": 48,
     "metadata": {},
     "output_type": "execute_result"
    }
   ],
   "source": [
    "df_final[df_final['Wire 5'] > 0]"
   ]
  },
  {
   "cell_type": "markdown",
   "id": "c9843cc9",
   "metadata": {},
   "source": [
    "Столбец `Wire 5` не содержит ни одного значения выше нуля, можно его удалить. Также видим корреляцию в 0,97 между столбцами `Bulk 9` и `Wire 8`, а также коррелляцию в 0.98 между столбцами `heating_time` и `full_power`. Поэтому столбцы `Wire 8` и `heating_time` тоже можно удалить."
   ]
  },
  {
   "cell_type": "code",
   "execution_count": 49,
   "id": "5b4d6524",
   "metadata": {},
   "outputs": [],
   "source": [
    "df_final = df_final.drop(['heating_time', 'Wire 5', 'Wire 8'], axis=1)"
   ]
  },
  {
   "cell_type": "markdown",
   "id": "0e2247f8",
   "metadata": {},
   "source": [
    "Наш датасет готов к обучению моделей."
   ]
  },
  {
   "cell_type": "markdown",
   "id": "cdcb249e",
   "metadata": {},
   "source": [
    "### Вывод по разделу:\n",
    "1. В датасет df_arc были добавлены столбцы с полной мощностью и продолжительностью нагрева.\n",
    "2. В датасетах df_bulk и df_wire все пропуски были заменены нулями, т.к. пропуск означает то, что на конкретном этапе нагрева данные добавки не использовались.\n",
    "3. В датасете df_gas были удалены выбросы со значением свыше 34.\n",
    "4. В датасете df_temp были удалены выбросы ниже 1300 градусов, т.к. это минимальная температура плавления стали. Еще были отфильтрованы ключи со всего одним временем замера. Также была определена начальная и конечная температура сплава в одной партии, где конечная температура будет являться целевым признаком.\n",
    "5. Все обработанные датасеты были объединены в один датасет df_final по ключу `key`. Получилось 2313 строк и 30 столбцов.\n",
    "6. Для финального датасета был построен heatmap с корреляцией признаков. В результате из датасета был удален столбец `Wire 5`, т.к. он оказался пустым без единого значения, столбец `Wire 8`, т.к. у него была корреляция со столбцом `Bulk 9`, равная 0,97 и столбец `heating_time`, т.к. у него была корреляция со столбцов `full_power` равная 0,98."
   ]
  },
  {
   "cell_type": "markdown",
   "id": "d45cfa31",
   "metadata": {},
   "source": [
    "## Обучение моделей"
   ]
  },
  {
   "cell_type": "markdown",
   "id": "55da8cf5",
   "metadata": {},
   "source": [
    "Обучим 4 модели: линейную регрессию, случайный лес, Catboost и LightGBM."
   ]
  },
  {
   "cell_type": "code",
   "execution_count": 50,
   "id": "d8bcbb6f",
   "metadata": {},
   "outputs": [
    {
     "name": "stdout",
     "output_type": "stream",
     "text": [
      "Размер датасета с признаками: (2313, 26)\n",
      "Размер датасета с целевым признаком: (2313,)\n"
     ]
    }
   ],
   "source": [
    "#разделим признаки\n",
    "features = df_final.drop(['key', 'final_temp'], axis=1)\n",
    "target = df_final['final_temp']\n",
    "\n",
    "print('Размер датасета с признаками:', features.shape)\n",
    "print('Размер датасета с целевым признаком:', target.shape)"
   ]
  },
  {
   "cell_type": "code",
   "execution_count": 51,
   "id": "92cbc721",
   "metadata": {},
   "outputs": [
    {
     "name": "stdout",
     "output_type": "stream",
     "text": [
      "Размер обучающей выборки: 1734\n",
      "Размер тестовой выборки: 579\n"
     ]
    }
   ],
   "source": [
    "#выделим обучающую и тестовую выборки в соотношении 3:1\n",
    "features_train, features_test, target_train, target_test = train_test_split(\n",
    "    features, target, test_size=0.25, random_state=20220809)\n",
    "print('Размер обучающей выборки:', len(target_train))\n",
    "print('Размер тестовой выборки:', len(target_test))"
   ]
  },
  {
   "cell_type": "markdown",
   "id": "59c815fd",
   "metadata": {},
   "source": [
    "### Линейная регрессия"
   ]
  },
  {
   "cell_type": "markdown",
   "id": "324fe3c2",
   "metadata": {},
   "source": [
    "Первой обучим линейную регрессию."
   ]
  },
  {
   "cell_type": "code",
   "execution_count": 53,
   "id": "857038bd",
   "metadata": {},
   "outputs": [
    {
     "name": "stdout",
     "output_type": "stream",
     "text": [
      "MAE линейной регрессии на обучающей выборке: 5.891506941288785\n"
     ]
    }
   ],
   "source": [
    "linear_model = LinearRegression(n_jobs=-1)\n",
    "linear_model.fit(features_train, target_train)\n",
    "linear_score = cross_val_score(linear_model, features_train, target_train,\n",
    "                               cv=5, scoring='neg_mean_absolute_error').mean()\n",
    " \n",
    "print('MAE линейной регрессии на обучающей выборке:', abs(linear_score))"
   ]
  },
  {
   "cell_type": "markdown",
   "id": "18ae6d4a",
   "metadata": {},
   "source": [
    "При кросс-валидации уже на линейной регрессии получили отличный результат MAE - 5.89."
   ]
  },
  {
   "cell_type": "markdown",
   "id": "358779ae",
   "metadata": {},
   "source": [
    "### Случайный лес"
   ]
  },
  {
   "cell_type": "code",
   "execution_count": 54,
   "id": "c12966e8",
   "metadata": {},
   "outputs": [
    {
     "name": "stdout",
     "output_type": "stream",
     "text": [
      "Лучшие параметры случайного леса: {'max_depth': 25, 'n_estimators': 400}\n",
      "MAE случайного леса на обучающей выборке: 5.921362280958269\n",
      "CPU times: total: 17.6 s\n",
      "Wall time: 6min 34s\n"
     ]
    }
   ],
   "source": [
    "%%time\n",
    "\n",
    "forest_model = RandomForestRegressor(random_state=20220809)\n",
    "forest_params = {'n_estimators':range(50, 500, 50), 'max_depth':range(10, 50, 5)}\n",
    "forest_grid = GridSearchCV(forest_model, forest_params, cv=5, scoring='neg_mean_absolute_error', n_jobs=-1)\n",
    "forest_grid.fit(features_train, target_train)\n",
    "forest_score = cross_val_score(forest_grid, features_train, target_train,\n",
    "                               cv=5, scoring='neg_mean_absolute_error').mean()\n",
    "\n",
    "print('Лучшие параметры случайного леса:', forest_grid.best_params_)\n",
    "print('MAE случайного леса на обучающей выборке:', abs(forest_score))"
   ]
  },
  {
   "cell_type": "markdown",
   "id": "76e9ea65",
   "metadata": {},
   "source": [
    "У случайного леса метрика MAE чуть хуже, чем у линейной регрессии - 5.92."
   ]
  },
  {
   "cell_type": "markdown",
   "id": "e28e1a8b",
   "metadata": {},
   "source": [
    "### Catboost"
   ]
  },
  {
   "cell_type": "code",
   "execution_count": 55,
   "id": "8433a699",
   "metadata": {},
   "outputs": [
    {
     "name": "stdout",
     "output_type": "stream",
     "text": [
      "Лучшие параметры Catboost: {'depth': 7, 'learning_rate': 0.1}\n",
      "MAE Catboost на обучающей выборке: 5.771511321025834\n",
      "CPU times: total: 12 s\n",
      "Wall time: 15min 5s\n"
     ]
    }
   ],
   "source": [
    "%%time\n",
    "\n",
    "cat_model = CatBoostRegressor(iterations=100, verbose=False, random_state=20220809)\n",
    "cat_params = {'learning_rate':[0.01, 0.05, 0.1], 'depth':range(5, 15, 2)}\n",
    "cat_grid = GridSearchCV(cat_model, cat_params, cv=5, scoring='neg_mean_absolute_error', n_jobs=-1)\n",
    "cat_grid.fit(features_train, target_train)\n",
    "cat_score = cross_val_score(cat_grid, features_train, target_train,\n",
    "                               cv=5, scoring='neg_mean_absolute_error').mean()\n",
    "\n",
    "print('Лучшие параметры Catboost:', cat_grid.best_params_)\n",
    "print('MAE Catboost на обучающей выборке:', abs(cat_score))"
   ]
  },
  {
   "cell_type": "markdown",
   "id": "9601bd6f",
   "metadata": {},
   "source": [
    "Catboost продемонстрировал результат еще лучше, чем предыдущие модели - 5.77."
   ]
  },
  {
   "cell_type": "markdown",
   "id": "0acfd795",
   "metadata": {},
   "source": [
    "### LightGBM"
   ]
  },
  {
   "cell_type": "code",
   "execution_count": 56,
   "id": "31f23eb8",
   "metadata": {},
   "outputs": [
    {
     "name": "stdout",
     "output_type": "stream",
     "text": [
      "Лучшие параметры LightGBM: {'n_estimators': 100, 'num_leaves': 18}\n",
      "MAE LightGBM на обучающей выборке: 5.747921134654371\n",
      "CPU times: total: 6.31 s\n",
      "Wall time: 21.6 s\n"
     ]
    }
   ],
   "source": [
    "%%time\n",
    "\n",
    "gbm_model = LGBMRegressor(random_state=20220809)\n",
    "gbm_params = {'n_estimators':range(50, 500, 50), 'num_leaves':range(10, 20, 2)}\n",
    "gbm_grid = GridSearchCV(gbm_model, gbm_params, cv=5, scoring='neg_mean_absolute_error', n_jobs=-1)\n",
    "gbm_grid.fit(features_train, target_train)\n",
    "gbm_score = cross_val_score(gbm_grid, features_train, target_train,\n",
    "                               cv=5, scoring='neg_mean_absolute_error').mean()\n",
    "\n",
    "print('Лучшие параметры LightGBM:', gbm_grid.best_params_)\n",
    "print('MAE LightGBM на обучающей выборке:', abs(gbm_score))"
   ]
  },
  {
   "cell_type": "markdown",
   "id": "af2489fd",
   "metadata": {},
   "source": [
    "LightGBM показал самый лучший результат MAE среди четырех моделей - 5.74, при этом он еще и работает быстрее, чем Catboost и случайный лес.\n",
    "\n",
    "Для проверки на тестовой выборке остановимся на LightGBM."
   ]
  },
  {
   "cell_type": "markdown",
   "id": "49ca3f1b",
   "metadata": {},
   "source": [
    "Создадим сводную таблицу с результатами работы моделей."
   ]
  },
  {
   "cell_type": "code",
   "execution_count": 57,
   "id": "1c415e00",
   "metadata": {},
   "outputs": [
    {
     "data": {
      "text/html": [
       "<div>\n",
       "<style scoped>\n",
       "    .dataframe tbody tr th:only-of-type {\n",
       "        vertical-align: middle;\n",
       "    }\n",
       "\n",
       "    .dataframe tbody tr th {\n",
       "        vertical-align: top;\n",
       "    }\n",
       "\n",
       "    .dataframe thead th {\n",
       "        text-align: right;\n",
       "    }\n",
       "</style>\n",
       "<table border=\"1\" class=\"dataframe\">\n",
       "  <thead>\n",
       "    <tr style=\"text-align: right;\">\n",
       "      <th></th>\n",
       "      <th>Модель</th>\n",
       "      <th>MAE</th>\n",
       "    </tr>\n",
       "  </thead>\n",
       "  <tbody>\n",
       "    <tr>\n",
       "      <th>0</th>\n",
       "      <td>Linear Regression</td>\n",
       "      <td>5.89</td>\n",
       "    </tr>\n",
       "    <tr>\n",
       "      <th>1</th>\n",
       "      <td>RandomForest</td>\n",
       "      <td>5.92</td>\n",
       "    </tr>\n",
       "    <tr>\n",
       "      <th>2</th>\n",
       "      <td>CatBoost</td>\n",
       "      <td>5.77</td>\n",
       "    </tr>\n",
       "    <tr>\n",
       "      <th>3</th>\n",
       "      <td>LightGBM</td>\n",
       "      <td>5.74</td>\n",
       "    </tr>\n",
       "  </tbody>\n",
       "</table>\n",
       "</div>"
      ],
      "text/plain": [
       "              Модель   MAE\n",
       "0  Linear Regression  5.89\n",
       "1       RandomForest  5.92\n",
       "2           CatBoost  5.77\n",
       "3           LightGBM  5.74"
      ]
     },
     "metadata": {},
     "output_type": "display_data"
    }
   ],
   "source": [
    "data={'Модель': ['Linear Regression', 'RandomForest', 'CatBoost', 'LightGBM'],\n",
    "      'MAE': [5.89, 5.92, 5.77, 5.74]}\n",
    "data_pivot=pd.DataFrame.from_dict(data)\n",
    "display(data_pivot)"
   ]
  },
  {
   "cell_type": "markdown",
   "id": "4b116533",
   "metadata": {},
   "source": [
    "### Тестирование модели"
   ]
  },
  {
   "cell_type": "code",
   "execution_count": 61,
   "id": "11ea4f1a",
   "metadata": {},
   "outputs": [
    {
     "name": "stdout",
     "output_type": "stream",
     "text": [
      "MAE LightGBM на тестовой выборке составляет: 5.532867650633162\n"
     ]
    }
   ],
   "source": [
    "gbm_test_model = gbm_grid.best_estimator_\n",
    "gbm_test_model.fit(features_train, target_train)\n",
    "gbm_predictions = gbm_test_model.predict(features_test)\n",
    "print('MAE LightGBM на тестовой выборке составляет:', mae(target_test, gbm_predictions))"
   ]
  },
  {
   "cell_type": "markdown",
   "id": "5f750238",
   "metadata": {},
   "source": [
    "Получили отличный результат MAE на тестовой выборке - 5.53. Для проверки адекватности модели сравним результат с Dummy моделью."
   ]
  },
  {
   "cell_type": "code",
   "execution_count": 62,
   "id": "e39f60be",
   "metadata": {},
   "outputs": [
    {
     "name": "stdout",
     "output_type": "stream",
     "text": [
      "MAE Dummy модели на тестовой выборке составляет: 7.74702137280799\n"
     ]
    }
   ],
   "source": [
    "dummy = DummyRegressor(strategy=\"mean\")\n",
    "dummy.fit(features_train, target_train)\n",
    "dummy_predictions = dummy.predict(features_test)\n",
    "print('MAE Dummy модели на тестовой выборке составляет:', mae(target_test, dummy_predictions))"
   ]
  },
  {
   "cell_type": "markdown",
   "id": "5b6a0c0a",
   "metadata": {},
   "source": [
    "Dummy модель продемонстрировала MAE в 7.74. Результат хуже, чем у всех наших моделей."
   ]
  },
  {
   "cell_type": "markdown",
   "id": "6105c284",
   "metadata": {},
   "source": [
    "Посмотрим на гистограмму важности признаков."
   ]
  },
  {
   "cell_type": "code",
   "execution_count": 63,
   "id": "fd9f7b23",
   "metadata": {},
   "outputs": [
    {
     "data": {
      "image/png": "[encoded data removed]",
      "text/plain": [
       "<Figure size 1080x360 with 1 Axes>"
      ]
     },
     "metadata": {
      "needs_background": "light"
     },
     "output_type": "display_data"
    }
   ],
   "source": [
    "importances = pd.Series(gbm_test_model.feature_importances_, index=features_train.columns)\n",
    "\n",
    "plt.figure(figsize=(15,5))\n",
    "importances.plot.bar()\n",
    "plt.show()"
   ]
  },
  {
   "cell_type": "markdown",
   "id": "6a8c46ce",
   "metadata": {},
   "source": [
    "Самыми важными признаками при обучении оказались: `start_temp`, `duration` и `full_power`, которые были подготовлены и выделены нами самостоятельно."
   ]
  },
  {
   "cell_type": "markdown",
   "id": "80c690f2",
   "metadata": {},
   "source": [
    "### Вывод по разделу\n"
   ]
  },
  {
   "cell_type": "markdown",
   "id": "cc6d9932",
   "metadata": {},
   "source": [
    "1. Были обучены 4 модели: линейная регрессия, случайный лес Catboost и LightGBM. Лучшую метрику MAE достиг LightGBM - 5.74, следом идет Catboost с результатом 5.77. В результате было принято решение на тестовой выборке проверять LightGBM.\n",
    "2. На тестовой выборке LightGBM достиг отличный результат МАЕ равный 5.53.\n",
    "3. Исходя из гистограммы важности признаков самыми важными признаками при обучении оказались: start_temp, duration и full_power, которые были подготовлены и выделены нами самостоятельно."
   ]
  },
  {
   "cell_type": "markdown",
   "id": "078c9619",
   "metadata": {},
   "source": [
    "## Общий вывод"
   ]
  },
  {
   "cell_type": "markdown",
   "id": "9f9c7b82",
   "metadata": {},
   "source": [
    "1. ***Были загружены и изучены 7 датасетов:***\n",
    "    - `data_arc` — данные об электродах;\n",
    "    - `data_bulk` — данные о подаче сыпучих материалов (объём);\n",
    "    - `data_bulk_time` — данные о подаче сыпучих материалов (время);\n",
    "    - `data_gas` — данные о продувке сплава газом;\n",
    "    - `data_temp` — результаты измерения температуры;\n",
    "    - `data_wire` — данные о проволочных материалах (объём);\n",
    "    - `data_wire_time` — данные о проволочных материалах (время).\n",
    "\n",
    "В датасете `data_arc` 5 столбцов и 14 876 строк. Пропусков и дубликатов нет. Столбцы \"Начало нагрева дугой\" и \"Конец нагрева дугой\" были приведены к типу datetime. В столбце `реактивная мощность` найден выброс, равный -715.504924, который был удален. Распределение в датасете в целом нормальное, с перекосом вправо.<br>\n",
    "В датасетах `data_bulk` и `data_bulk_time` по 3129 строк и 16 столбцов. Дубликатов нет. В данных очень много пропусков, потому что данные примеси добавлялись не в каждый сплав и не каждый раз, а только при необходимости изменить состав.<br>\n",
    "В датасетах `data_wire` и `data_wire_time` по 3081 строке и по 10 столбцов. Дубликатов нет. Здесь наблюдается точно такая же картина, как и в предыдущих датасетах `bulk`: очень много пропусков по той же причине.<br>\n",
    "В датасете `data_gas` 3239 строк и всего 2 столбца. Пропусков и дубликатов нет. Было определено, что все значения свыше 34 являются выбросами.\n",
    "В датасете `data_temp` 15 907 строк и 3 столбца. В столбце \"Температура\" есть 2 906 пропусков. Дубликаты отсутствуют. Столбец \"Время замера\" был приведен к типу datetime. В датасете были обнаружены выбросы. Распределение абсолютно нормальное.\n",
    "\n",
    "2. ***При предобработке данных:***\n",
    "    1. В датасет df_arc были добавлены столбцы с полной мощностью и продолжительностью нагрева. \n",
    "    2. В датасетах df_bulk и df_wire все пропуски были заменены нулями, т.к. пропуск означает то, что на конкретном этапе нагрева данные добавки не использовались.\n",
    "    3. В датасете df_gas были удалены выбросы со значением свыше 34.\n",
    "    4. В датасете df_temp были удалены выбросы ниже 1300 градусов, т.к. это минимальная температура плавления стали. Также были отфильтрованы ключи со всего одним временем замера. Была определена начальная и конечная температура сплава в одной партии, где конечная температура будет являться целевым признаком.\n",
    "    5. Все обработанные датасеты были объединены в один датасет `df_final` по ключу `key`. Получилось 2313 строк и 31 столбца.\n",
    "    6. Датасеты `data_bulk_time` и `data_wire_time` не были использованы при формировании финального датасета.\n",
    "    7. Для финального датасета был построен heatmap с корреляцией признаков. В результате из датасета был удален столбец `Wire 5`, т.к. он оказался пустым без единого значения, столбец `Wire 8`, т.к. у него была корреляция со столбцом `Bulk 9`, равная 0,97 и столбец `heating_time`, т.к. у него была корреляция со столбцов `full_power` равная 0,98.\n",
    "    \n",
    "3. ***Обучение моделей:***\n",
    "    1. Были обучены 4 модели: линейная регрессия, случайный лес Catboost и LightGBM. Лучшую метрику MAE достиг LightGBM - 5.74, следом идет Catboost с результатом 5.77. В результате было принято решение на тестовой выборке проверять LightGBM.\n",
    "    2. **На тестовой выборке LightGBM достиг отличный результат МАЕ равный 5.53.**\n",
    "    3. Исходя из гистограммы важности признаков самыми важными признаками при обучении оказались: start_temp, duration и full_power, которые были подготовлены и выделены нами самостоятельно.\n",
    "\n",
    "4. ***Рекомендации заказчику для экономии энергоресурсов:***\n",
    "    1. Судя по модели, самым важным фактором является начальная температура. Это значит, что управляя ею, мы сможем управлять энергозатратами. Теперь надо разработать мероприятия для этого решения. И тут возникает вопрос: можно ли управлять начальной температурой и что для этого нужно сделать?\n",
    "    2. У нас есть разброс в измерениях. Тогда задачу можно поставить так: нужно уменьшить разброс в измерениях, а в данном случае в температуре. Один из подходов такой: наверняка есть границы, в пределах которых колебания температур - дело нормальное. Предлагаю фиксировать случаи, когда температура выходит за эти границы, скажем отмечать, как \"1\". И тогда для таких моментов времени собирать инфо по производству: а что был за материал (химия материала), что был за газ (химический состав газа), какая бригада работала, что там было с электродами, ну и остальные моменты, связанные со знанием процесса производства. И тут мы можем находить реальные причины (через корреляции, проверки гипотез, разные модели), фиксировать эти причины и на основании этого разрабатывать более эффективные энергосберегательные мероприятия."
   ]
  },
  {
   "cell_type": "code",
   "execution_count": null,
   "id": "0a317099",
   "metadata": {},
   "outputs": [],
   "source": []
  }
 ],
 "metadata": {
  "ExecuteTimeLog": [
   {
    "duration": 1271,
    "start_time": "2022-08-10T05:09:27.484Z"
   },
   {
    "duration": 450,
    "start_time": "2022-08-10T05:09:32.156Z"
   },
   {
    "duration": 186,
    "start_time": "2022-08-10T05:09:47.537Z"
   },
   {
    "duration": 1241,
    "start_time": "2022-08-10T07:26:10.326Z"
   },
   {
    "duration": 32,
    "start_time": "2022-08-10T07:26:11.569Z"
   },
   {
    "duration": 519,
    "start_time": "2022-08-10T07:26:11.602Z"
   },
   {
    "duration": 13,
    "start_time": "2022-08-10T07:26:12.122Z"
   },
   {
    "duration": 11,
    "start_time": "2022-08-10T07:26:12.137Z"
   },
   {
    "duration": 14,
    "start_time": "2022-08-10T07:26:12.149Z"
   },
   {
    "duration": 15,
    "start_time": "2022-08-10T07:26:12.164Z"
   },
   {
    "duration": 19,
    "start_time": "2022-08-10T07:26:12.181Z"
   },
   {
    "duration": 111,
    "start_time": "2022-08-10T07:26:12.202Z"
   },
   {
    "duration": 9,
    "start_time": "2022-08-10T07:26:12.314Z"
   },
   {
    "duration": 20,
    "start_time": "2022-08-10T07:26:12.325Z"
   },
   {
    "duration": 10112,
    "start_time": "2022-08-13T05:58:28.139Z"
   },
   {
    "duration": 1112,
    "start_time": "2022-08-13T05:58:43.538Z"
   },
   {
    "duration": 108,
    "start_time": "2022-08-13T05:58:51.941Z"
   },
   {
    "duration": 81,
    "start_time": "2022-08-13T05:58:52.073Z"
   },
   {
    "duration": 102,
    "start_time": "2022-08-13T05:58:52.538Z"
   },
   {
    "duration": 102,
    "start_time": "2022-08-13T05:58:52.641Z"
   },
   {
    "duration": 199,
    "start_time": "2022-08-13T05:58:52.839Z"
   },
   {
    "duration": 902,
    "start_time": "2022-08-13T05:58:53.838Z"
   },
   {
    "duration": 102,
    "start_time": "2022-08-13T05:58:54.742Z"
   },
   {
    "duration": 194,
    "start_time": "2022-08-13T05:58:54.846Z"
   },
   {
    "duration": 4,
    "start_time": "2022-08-13T05:58:55.042Z"
   },
   {
    "duration": 6008,
    "start_time": "2022-08-13T05:58:55.048Z"
   },
   {
    "duration": 281,
    "start_time": "2022-08-13T05:59:01.058Z"
   },
   {
    "duration": 114,
    "start_time": "2022-08-13T05:59:01.341Z"
   },
   {
    "duration": 12,
    "start_time": "2022-08-13T05:59:01.539Z"
   },
   {
    "duration": 203,
    "start_time": "2022-08-13T05:59:01.640Z"
   },
   {
    "duration": 195,
    "start_time": "2022-08-13T05:59:01.845Z"
   },
   {
    "duration": 10,
    "start_time": "2022-08-13T05:59:02.041Z"
   },
   {
    "duration": 286,
    "start_time": "2022-08-13T05:59:02.151Z"
   },
   {
    "duration": 113,
    "start_time": "2022-08-13T05:59:02.442Z"
   },
   {
    "duration": 195,
    "start_time": "2022-08-13T05:59:02.645Z"
   },
   {
    "duration": 200,
    "start_time": "2022-08-13T05:59:02.841Z"
   },
   {
    "duration": 197,
    "start_time": "2022-08-13T05:59:03.042Z"
   },
   {
    "duration": 97,
    "start_time": "2022-08-13T05:59:03.240Z"
   },
   {
    "duration": 207,
    "start_time": "2022-08-13T05:59:03.339Z"
   },
   {
    "duration": 291,
    "start_time": "2022-08-13T05:59:03.549Z"
   },
   {
    "duration": 401,
    "start_time": "2022-08-13T05:59:03.842Z"
   },
   {
    "duration": 397,
    "start_time": "2022-08-13T05:59:04.245Z"
   },
   {
    "duration": 806,
    "start_time": "2022-08-13T05:59:04.644Z"
   },
   {
    "duration": 2306,
    "start_time": "2022-08-13T05:59:05.639Z"
   },
   {
    "duration": 95,
    "start_time": "2022-08-13T05:59:07.948Z"
   },
   {
    "duration": 296,
    "start_time": "2022-08-13T05:59:08.045Z"
   },
   {
    "duration": 92,
    "start_time": "2022-08-13T05:59:08.347Z"
   },
   {
    "duration": 295,
    "start_time": "2022-08-13T05:59:08.442Z"
   },
   {
    "duration": 213,
    "start_time": "2022-08-13T05:59:08.739Z"
   },
   {
    "duration": 788,
    "start_time": "2022-08-13T05:59:08.954Z"
   },
   {
    "duration": 4696,
    "start_time": "2022-08-13T05:59:09.744Z"
   },
   {
    "duration": 105,
    "start_time": "2022-08-13T06:03:35.939Z"
   },
   {
    "duration": 304,
    "start_time": "2022-08-13T06:03:43.339Z"
   },
   {
    "duration": 6,
    "start_time": "2022-08-13T06:03:47.238Z"
   },
   {
    "duration": 103,
    "start_time": "2022-08-13T06:03:48.039Z"
   }
  ],
  "kernelspec": {
   "display_name": "Python 3 (ipykernel)",
   "language": "python",
   "name": "python3"
  },
  "language_info": {
   "codemirror_mode": {
    "name": "ipython",
    "version": 3
   },
   "file_extension": ".py",
   "mimetype": "text/x-python",
   "name": "python",
   "nbconvert_exporter": "python",
   "pygments_lexer": "ipython3",
   "version": "3.9.12"
  },
  "toc": {
   "base_numbering": 1,
   "nav_menu": {},
   "number_sections": true,
   "sideBar": true,
   "skip_h1_title": true,
   "title_cell": "Table of Contents",
   "title_sidebar": "Contents",
   "toc_cell": false,
   "toc_position": {},
   "toc_section_display": true,
   "toc_window_display": false
  }
 },
 "nbformat": 4,
 "nbformat_minor": 5
}
