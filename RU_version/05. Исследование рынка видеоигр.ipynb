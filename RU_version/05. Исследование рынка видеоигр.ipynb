{
 "cells": [
  {
   "cell_type": "markdown",
   "metadata": {},
   "source": [
    "## Введение"
   ]
  },
  {
   "cell_type": "markdown",
   "metadata": {},
   "source": [
    "Вы работаете в интернет-магазине «Стримчик», который продаёт по всему миру компьютерные игры. Из открытых источников доступны исторические данные о продажах игр, оценки пользователей и экспертов, жанры и платформы (например, Xbox или PlayStation). Вам нужно выявить определяющие успешность игры закономерности. Это позволит сделать ставку на потенциально популярный продукт и спланировать рекламные кампании."
   ]
  },
  {
   "cell_type": "markdown",
   "metadata": {},
   "source": [
    "<font size = 3> <b> Описание данных: </b> </font>\n",
    "- `Name` — название игры\n",
    "- `Platform` — платформа\n",
    "- `Year_of_Release` — год выпуска\n",
    "- `Genre` — жанр игры\n",
    "- `NA_sales` — продажи в Северной Америке (миллионы проданных копий)\n",
    "- `EU_sales` — продажи в Европе (миллионы проданных копий)\n",
    "- `JP_sales` — продажи в Японии (миллионы проданных копий)\n",
    "- `Other_sales` — продажи в других странах (миллионы проданных копий)\n",
    "- `Critic_Score` — оценка критиков (максимум 100)\n",
    "- `User_Score` — оценка пользователей (максимум 10)\n",
    "- `Rating` — рейтинг от организации ESRB (англ. Entertainment Software Rating Board). Эта ассоциация определяет рейтинг компьютерных игр и присваивает им подходящую возрастную категорию.\n",
    "\n",
    "Данные за 2016 год могут быть неполными."
   ]
  },
  {
   "cell_type": "code",
   "execution_count": 1,
   "metadata": {},
   "outputs": [],
   "source": [
    "#импортируем необходимые библиотеки\n",
    "import pandas as pd\n",
    "import numpy as np\n",
    "import math\n",
    "import matplotlib.pyplot as plt\n",
    "import seaborn as sns\n",
    "from scipy import stats as st\n",
    "import warnings\n",
    "warnings.filterwarnings('ignore')"
   ]
  },
  {
   "cell_type": "code",
   "execution_count": 2,
   "metadata": {},
   "outputs": [],
   "source": [
    "#сохраним данные в датасет\n",
    "df = pd.read_csv('/datasets/games.csv')"
   ]
  },
  {
   "cell_type": "code",
   "execution_count": 3,
   "metadata": {},
   "outputs": [
    {
     "data": {
      "text/html": [
       "<div>\n",
       "<style scoped>\n",
       "    .dataframe tbody tr th:only-of-type {\n",
       "        vertical-align: middle;\n",
       "    }\n",
       "\n",
       "    .dataframe tbody tr th {\n",
       "        vertical-align: top;\n",
       "    }\n",
       "\n",
       "    .dataframe thead th {\n",
       "        text-align: right;\n",
       "    }\n",
       "</style>\n",
       "<table border=\"1\" class=\"dataframe\">\n",
       "  <thead>\n",
       "    <tr style=\"text-align: right;\">\n",
       "      <th></th>\n",
       "      <th>Name</th>\n",
       "      <th>Platform</th>\n",
       "      <th>Year_of_Release</th>\n",
       "      <th>Genre</th>\n",
       "      <th>NA_sales</th>\n",
       "      <th>EU_sales</th>\n",
       "      <th>JP_sales</th>\n",
       "      <th>Other_sales</th>\n",
       "      <th>Critic_Score</th>\n",
       "      <th>User_Score</th>\n",
       "      <th>Rating</th>\n",
       "    </tr>\n",
       "  </thead>\n",
       "  <tbody>\n",
       "    <tr>\n",
       "      <td>6663</td>\n",
       "      <td>Samurai Shodown II</td>\n",
       "      <td>NG</td>\n",
       "      <td>1994.0</td>\n",
       "      <td>Fighting</td>\n",
       "      <td>0.00</td>\n",
       "      <td>0.00</td>\n",
       "      <td>0.25</td>\n",
       "      <td>0.00</td>\n",
       "      <td>NaN</td>\n",
       "      <td>NaN</td>\n",
       "      <td>NaN</td>\n",
       "    </tr>\n",
       "    <tr>\n",
       "      <td>14985</td>\n",
       "      <td>Doki Oki</td>\n",
       "      <td>PS</td>\n",
       "      <td>1995.0</td>\n",
       "      <td>Adventure</td>\n",
       "      <td>0.00</td>\n",
       "      <td>0.00</td>\n",
       "      <td>0.02</td>\n",
       "      <td>0.00</td>\n",
       "      <td>NaN</td>\n",
       "      <td>NaN</td>\n",
       "      <td>NaN</td>\n",
       "    </tr>\n",
       "    <tr>\n",
       "      <td>16023</td>\n",
       "      <td>Elminage II DS Remix: Sousei no Megami to Unma...</td>\n",
       "      <td>DS</td>\n",
       "      <td>2010.0</td>\n",
       "      <td>Role-Playing</td>\n",
       "      <td>0.00</td>\n",
       "      <td>0.00</td>\n",
       "      <td>0.02</td>\n",
       "      <td>0.00</td>\n",
       "      <td>NaN</td>\n",
       "      <td>NaN</td>\n",
       "      <td>NaN</td>\n",
       "    </tr>\n",
       "    <tr>\n",
       "      <td>6463</td>\n",
       "      <td>Call of Duty: Black Ops 3</td>\n",
       "      <td>PC</td>\n",
       "      <td>2015.0</td>\n",
       "      <td>Shooter</td>\n",
       "      <td>0.00</td>\n",
       "      <td>0.25</td>\n",
       "      <td>0.00</td>\n",
       "      <td>0.01</td>\n",
       "      <td>NaN</td>\n",
       "      <td>NaN</td>\n",
       "      <td>NaN</td>\n",
       "    </tr>\n",
       "    <tr>\n",
       "      <td>12351</td>\n",
       "      <td>F1 2001</td>\n",
       "      <td>XB</td>\n",
       "      <td>2001.0</td>\n",
       "      <td>Racing</td>\n",
       "      <td>0.05</td>\n",
       "      <td>0.01</td>\n",
       "      <td>0.00</td>\n",
       "      <td>0.00</td>\n",
       "      <td>83.0</td>\n",
       "      <td>5.5</td>\n",
       "      <td>E</td>\n",
       "    </tr>\n",
       "    <tr>\n",
       "      <td>4238</td>\n",
       "      <td>Hydro Thunder</td>\n",
       "      <td>PS</td>\n",
       "      <td>1999.0</td>\n",
       "      <td>Racing</td>\n",
       "      <td>0.26</td>\n",
       "      <td>0.17</td>\n",
       "      <td>0.00</td>\n",
       "      <td>0.03</td>\n",
       "      <td>NaN</td>\n",
       "      <td>NaN</td>\n",
       "      <td>NaN</td>\n",
       "    </tr>\n",
       "    <tr>\n",
       "      <td>13393</td>\n",
       "      <td>Turok: Dinosaur Hunter</td>\n",
       "      <td>N64</td>\n",
       "      <td>1997.0</td>\n",
       "      <td>Shooter</td>\n",
       "      <td>0.00</td>\n",
       "      <td>0.00</td>\n",
       "      <td>0.05</td>\n",
       "      <td>0.00</td>\n",
       "      <td>NaN</td>\n",
       "      <td>NaN</td>\n",
       "      <td>NaN</td>\n",
       "    </tr>\n",
       "    <tr>\n",
       "      <td>4816</td>\n",
       "      <td>Rocket Power: Dream Scheme</td>\n",
       "      <td>GBA</td>\n",
       "      <td>2001.0</td>\n",
       "      <td>Action</td>\n",
       "      <td>0.29</td>\n",
       "      <td>0.11</td>\n",
       "      <td>0.00</td>\n",
       "      <td>0.01</td>\n",
       "      <td>NaN</td>\n",
       "      <td>NaN</td>\n",
       "      <td>NaN</td>\n",
       "    </tr>\n",
       "    <tr>\n",
       "      <td>13570</td>\n",
       "      <td>Disney Planes Fire &amp; Rescue</td>\n",
       "      <td>Wii</td>\n",
       "      <td>2014.0</td>\n",
       "      <td>Action</td>\n",
       "      <td>0.00</td>\n",
       "      <td>0.04</td>\n",
       "      <td>0.00</td>\n",
       "      <td>0.00</td>\n",
       "      <td>NaN</td>\n",
       "      <td>NaN</td>\n",
       "      <td>NaN</td>\n",
       "    </tr>\n",
       "    <tr>\n",
       "      <td>6242</td>\n",
       "      <td>Nichibutsu Arcade Classics</td>\n",
       "      <td>SNES</td>\n",
       "      <td>1995.0</td>\n",
       "      <td>Misc</td>\n",
       "      <td>0.00</td>\n",
       "      <td>0.00</td>\n",
       "      <td>0.28</td>\n",
       "      <td>0.00</td>\n",
       "      <td>NaN</td>\n",
       "      <td>NaN</td>\n",
       "      <td>NaN</td>\n",
       "    </tr>\n",
       "  </tbody>\n",
       "</table>\n",
       "</div>"
      ],
      "text/plain": [
       "                                                    Name Platform  \\\n",
       "6663                                  Samurai Shodown II       NG   \n",
       "14985                                           Doki Oki       PS   \n",
       "16023  Elminage II DS Remix: Sousei no Megami to Unma...       DS   \n",
       "6463                           Call of Duty: Black Ops 3       PC   \n",
       "12351                                            F1 2001       XB   \n",
       "4238                                       Hydro Thunder       PS   \n",
       "13393                             Turok: Dinosaur Hunter      N64   \n",
       "4816                          Rocket Power: Dream Scheme      GBA   \n",
       "13570                        Disney Planes Fire & Rescue      Wii   \n",
       "6242                          Nichibutsu Arcade Classics     SNES   \n",
       "\n",
       "       Year_of_Release         Genre  NA_sales  EU_sales  JP_sales  \\\n",
       "6663            1994.0      Fighting      0.00      0.00      0.25   \n",
       "14985           1995.0     Adventure      0.00      0.00      0.02   \n",
       "16023           2010.0  Role-Playing      0.00      0.00      0.02   \n",
       "6463            2015.0       Shooter      0.00      0.25      0.00   \n",
       "12351           2001.0        Racing      0.05      0.01      0.00   \n",
       "4238            1999.0        Racing      0.26      0.17      0.00   \n",
       "13393           1997.0       Shooter      0.00      0.00      0.05   \n",
       "4816            2001.0        Action      0.29      0.11      0.00   \n",
       "13570           2014.0        Action      0.00      0.04      0.00   \n",
       "6242            1995.0          Misc      0.00      0.00      0.28   \n",
       "\n",
       "       Other_sales  Critic_Score User_Score Rating  \n",
       "6663          0.00           NaN        NaN    NaN  \n",
       "14985         0.00           NaN        NaN    NaN  \n",
       "16023         0.00           NaN        NaN    NaN  \n",
       "6463          0.01           NaN        NaN    NaN  \n",
       "12351         0.00          83.0        5.5      E  \n",
       "4238          0.03           NaN        NaN    NaN  \n",
       "13393         0.00           NaN        NaN    NaN  \n",
       "4816          0.01           NaN        NaN    NaN  \n",
       "13570         0.00           NaN        NaN    NaN  \n",
       "6242          0.00           NaN        NaN    NaN  "
      ]
     },
     "execution_count": 3,
     "metadata": {},
     "output_type": "execute_result"
    }
   ],
   "source": [
    "#посмотрим 10 разных строк датасета\n",
    "df.sample(10)"
   ]
  },
  {
   "cell_type": "code",
   "execution_count": 4,
   "metadata": {},
   "outputs": [
    {
     "name": "stdout",
     "output_type": "stream",
     "text": [
      "<class 'pandas.core.frame.DataFrame'>\n",
      "RangeIndex: 16715 entries, 0 to 16714\n",
      "Data columns (total 11 columns):\n",
      "Name               16713 non-null object\n",
      "Platform           16715 non-null object\n",
      "Year_of_Release    16446 non-null float64\n",
      "Genre              16713 non-null object\n",
      "NA_sales           16715 non-null float64\n",
      "EU_sales           16715 non-null float64\n",
      "JP_sales           16715 non-null float64\n",
      "Other_sales        16715 non-null float64\n",
      "Critic_Score       8137 non-null float64\n",
      "User_Score         10014 non-null object\n",
      "Rating             9949 non-null object\n",
      "dtypes: float64(6), object(5)\n",
      "memory usage: 1.4+ MB\n"
     ]
    }
   ],
   "source": [
    "#посмотрим информацию о датасете\n",
    "df.info()"
   ]
  },
  {
   "cell_type": "code",
   "execution_count": 5,
   "metadata": {},
   "outputs": [
    {
     "name": "stdout",
     "output_type": "stream",
     "text": [
      "Количество дубликатов:  0\n"
     ]
    }
   ],
   "source": [
    "#и сразу проверим количество дубликатов\n",
    "print('Количество дубликатов: ', df.duplicated().sum())"
   ]
  },
  {
   "cell_type": "markdown",
   "metadata": {},
   "source": [
    "<font size = 3> <b> Вывод: </b> </font>\n",
    "1. В датасете 16715 строк и 11 столбцов. Представлены данные за большой период: с 1980 года по 2016 год.\n",
    "2. Нужно привести названия столбцов к нижнему регистру. Также сменим тип данных в столбце `Year_of_Release`с float на int, а в столбце `User_Score` с object на float.\n",
    "3. Много пропусков содержится в 4 столбцах: `Year_of_Release`, `Critic_Score`, `User_Score` и `Rating`. Что делать с пропусками решим при предобработке.\n",
    "4. Явных дубликатов нет."
   ]
  },
  {
   "cell_type": "markdown",
   "metadata": {},
   "source": [
    "## Подготовка данных"
   ]
  },
  {
   "cell_type": "markdown",
   "metadata": {},
   "source": [
    "### Замена названий столбцов"
   ]
  },
  {
   "cell_type": "markdown",
   "metadata": {},
   "source": [
    "Приведем названия столбцов к нижнему регистру."
   ]
  },
  {
   "cell_type": "code",
   "execution_count": 6,
   "metadata": {},
   "outputs": [],
   "source": [
    "df.columns = df.columns.str.lower()"
   ]
  },
  {
   "cell_type": "code",
   "execution_count": 7,
   "metadata": {},
   "outputs": [
    {
     "data": {
      "text/html": [
       "<div>\n",
       "<style scoped>\n",
       "    .dataframe tbody tr th:only-of-type {\n",
       "        vertical-align: middle;\n",
       "    }\n",
       "\n",
       "    .dataframe tbody tr th {\n",
       "        vertical-align: top;\n",
       "    }\n",
       "\n",
       "    .dataframe thead th {\n",
       "        text-align: right;\n",
       "    }\n",
       "</style>\n",
       "<table border=\"1\" class=\"dataframe\">\n",
       "  <thead>\n",
       "    <tr style=\"text-align: right;\">\n",
       "      <th></th>\n",
       "      <th>name</th>\n",
       "      <th>platform</th>\n",
       "      <th>year_of_release</th>\n",
       "      <th>genre</th>\n",
       "      <th>na_sales</th>\n",
       "      <th>eu_sales</th>\n",
       "      <th>jp_sales</th>\n",
       "      <th>other_sales</th>\n",
       "      <th>critic_score</th>\n",
       "      <th>user_score</th>\n",
       "      <th>rating</th>\n",
       "    </tr>\n",
       "  </thead>\n",
       "  <tbody>\n",
       "    <tr>\n",
       "      <td>5760</td>\n",
       "      <td>Vigilante 8</td>\n",
       "      <td>N64</td>\n",
       "      <td>1998.0</td>\n",
       "      <td>Racing</td>\n",
       "      <td>0.25</td>\n",
       "      <td>0.06</td>\n",
       "      <td>0.00</td>\n",
       "      <td>0.00</td>\n",
       "      <td>NaN</td>\n",
       "      <td>NaN</td>\n",
       "      <td>NaN</td>\n",
       "    </tr>\n",
       "    <tr>\n",
       "      <td>9104</td>\n",
       "      <td>Ford Racing Off Road</td>\n",
       "      <td>PSP</td>\n",
       "      <td>2008.0</td>\n",
       "      <td>Racing</td>\n",
       "      <td>0.05</td>\n",
       "      <td>0.08</td>\n",
       "      <td>0.00</td>\n",
       "      <td>0.02</td>\n",
       "      <td>47.0</td>\n",
       "      <td>tbd</td>\n",
       "      <td>E</td>\n",
       "    </tr>\n",
       "    <tr>\n",
       "      <td>12444</td>\n",
       "      <td>Akai Katana Shin</td>\n",
       "      <td>X360</td>\n",
       "      <td>2011.0</td>\n",
       "      <td>Shooter</td>\n",
       "      <td>0.04</td>\n",
       "      <td>0.00</td>\n",
       "      <td>0.01</td>\n",
       "      <td>0.00</td>\n",
       "      <td>NaN</td>\n",
       "      <td>NaN</td>\n",
       "      <td>NaN</td>\n",
       "    </tr>\n",
       "    <tr>\n",
       "      <td>9316</td>\n",
       "      <td>Monster Jam</td>\n",
       "      <td>DS</td>\n",
       "      <td>2007.0</td>\n",
       "      <td>Racing</td>\n",
       "      <td>0.12</td>\n",
       "      <td>0.00</td>\n",
       "      <td>0.00</td>\n",
       "      <td>0.01</td>\n",
       "      <td>NaN</td>\n",
       "      <td>tbd</td>\n",
       "      <td>E</td>\n",
       "    </tr>\n",
       "    <tr>\n",
       "      <td>6474</td>\n",
       "      <td>Star Trek: Invasion</td>\n",
       "      <td>PS</td>\n",
       "      <td>2000.0</td>\n",
       "      <td>Simulation</td>\n",
       "      <td>0.15</td>\n",
       "      <td>0.10</td>\n",
       "      <td>0.00</td>\n",
       "      <td>0.02</td>\n",
       "      <td>76.0</td>\n",
       "      <td>tbd</td>\n",
       "      <td>E</td>\n",
       "    </tr>\n",
       "  </tbody>\n",
       "</table>\n",
       "</div>"
      ],
      "text/plain": [
       "                       name platform  year_of_release       genre  na_sales  \\\n",
       "5760            Vigilante 8      N64           1998.0      Racing      0.25   \n",
       "9104   Ford Racing Off Road      PSP           2008.0      Racing      0.05   \n",
       "12444      Akai Katana Shin     X360           2011.0     Shooter      0.04   \n",
       "9316            Monster Jam       DS           2007.0      Racing      0.12   \n",
       "6474    Star Trek: Invasion       PS           2000.0  Simulation      0.15   \n",
       "\n",
       "       eu_sales  jp_sales  other_sales  critic_score user_score rating  \n",
       "5760       0.06      0.00         0.00           NaN        NaN    NaN  \n",
       "9104       0.08      0.00         0.02          47.0        tbd      E  \n",
       "12444      0.00      0.01         0.00           NaN        NaN    NaN  \n",
       "9316       0.00      0.00         0.01           NaN        tbd      E  \n",
       "6474       0.10      0.00         0.02          76.0        tbd      E  "
      ]
     },
     "execution_count": 7,
     "metadata": {},
     "output_type": "execute_result"
    }
   ],
   "source": [
    "df.sample(5)"
   ]
  },
  {
   "cell_type": "markdown",
   "metadata": {},
   "source": [
    "### Изменение типов данных"
   ]
  },
  {
   "cell_type": "markdown",
   "metadata": {},
   "source": [
    "Изменим типы данных в столбце `year_of_release` c float на int, а в столбце `user_score` с object на float."
   ]
  },
  {
   "cell_type": "code",
   "execution_count": 8,
   "metadata": {},
   "outputs": [],
   "source": [
    "#укажем, что нужно игнорировать ошибки в строках с NaN\n",
    "df['year_of_release'] = df['year_of_release'].astype('Int32', errors='ignore')\n",
    "df['user_score'] = df['user_score'].astype('Float32', errors='ignore')"
   ]
  },
  {
   "cell_type": "markdown",
   "metadata": {},
   "source": [
    "Проверим, что изменение типа данных прошло успешно."
   ]
  },
  {
   "cell_type": "code",
   "execution_count": 9,
   "metadata": {},
   "outputs": [
    {
     "name": "stdout",
     "output_type": "stream",
     "text": [
      "<class 'pandas.core.frame.DataFrame'>\n",
      "RangeIndex: 16715 entries, 0 to 16714\n",
      "Data columns (total 11 columns):\n",
      "name               16713 non-null object\n",
      "platform           16715 non-null object\n",
      "year_of_release    16446 non-null Int32\n",
      "genre              16713 non-null object\n",
      "na_sales           16715 non-null float64\n",
      "eu_sales           16715 non-null float64\n",
      "jp_sales           16715 non-null float64\n",
      "other_sales        16715 non-null float64\n",
      "critic_score       8137 non-null float64\n",
      "user_score         10014 non-null object\n",
      "rating             9949 non-null object\n",
      "dtypes: Int32(1), float64(5), object(5)\n",
      "memory usage: 1.4+ MB\n"
     ]
    }
   ],
   "source": [
    "df.info()"
   ]
  },
  {
   "cell_type": "markdown",
   "metadata": {},
   "source": [
    "Как видим, тип данных в столбце `user_score` не изменился. Проверим, какие значения есть в этом столбце и что помешало сменить тип данных."
   ]
  },
  {
   "cell_type": "code",
   "execution_count": 10,
   "metadata": {},
   "outputs": [
    {
     "data": {
      "text/plain": [
       "array(['8', nan, '8.3', '8.5', '6.6', '8.4', '8.6', '7.7', '6.3', '7.4',\n",
       "       '8.2', '9', '7.9', '8.1', '8.7', '7.1', '3.4', '5.3', '4.8', '3.2',\n",
       "       '8.9', '6.4', '7.8', '7.5', '2.6', '7.2', '9.2', '7', '7.3', '4.3',\n",
       "       '7.6', '5.7', '5', '9.1', '6.5', 'tbd', '8.8', '6.9', '9.4', '6.8',\n",
       "       '6.1', '6.7', '5.4', '4', '4.9', '4.5', '9.3', '6.2', '4.2', '6',\n",
       "       '3.7', '4.1', '5.8', '5.6', '5.5', '4.4', '4.6', '5.9', '3.9',\n",
       "       '3.1', '2.9', '5.2', '3.3', '4.7', '5.1', '3.5', '2.5', '1.9', '3',\n",
       "       '2.7', '2.2', '2', '9.5', '2.1', '3.6', '2.8', '1.8', '3.8', '0',\n",
       "       '1.6', '9.6', '2.4', '1.7', '1.1', '0.3', '1.5', '0.7', '1.2',\n",
       "       '2.3', '0.5', '1.3', '0.2', '0.6', '1.4', '0.9', '1', '9.7'],\n",
       "      dtype=object)"
      ]
     },
     "execution_count": 10,
     "metadata": {},
     "output_type": "execute_result"
    }
   ],
   "source": [
    "df['user_score'].unique()"
   ]
  },
  {
   "cell_type": "markdown",
   "metadata": {},
   "source": [
    "Смене типа данных мешает TBD - аббревиатура от английского To Be Determined (будет определено) или To Be Decided (будет решено). Используется, если какая-то информация еще не определена или решение по вопросу не принято. То есть рейтинг игры на момент выгрузки еще не был сформирован. Заменим tbd значениями NaN, чтобы они не мешали в последующих расчетах."
   ]
  },
  {
   "cell_type": "code",
   "execution_count": 11,
   "metadata": {},
   "outputs": [],
   "source": [
    "#заменим tbd значениями NaN,\n",
    "df['user_score']= df['user_score'].replace('tbd', 'nan')"
   ]
  },
  {
   "cell_type": "code",
   "execution_count": 12,
   "metadata": {},
   "outputs": [],
   "source": [
    "#и поменяем тип данных в столбце\n",
    "df['user_score'] = df['user_score'].astype('Float32', errors='ignore')"
   ]
  },
  {
   "cell_type": "markdown",
   "metadata": {},
   "source": [
    "### Замена пропусков"
   ]
  },
  {
   "cell_type": "markdown",
   "metadata": {},
   "source": []
  },
  {
   "cell_type": "code",
   "execution_count": 13,
   "metadata": {},
   "outputs": [
    {
     "data": {
      "text/plain": [
       "name                  2\n",
       "platform              0\n",
       "year_of_release     269\n",
       "genre                 2\n",
       "na_sales              0\n",
       "eu_sales              0\n",
       "jp_sales              0\n",
       "other_sales           0\n",
       "critic_score       8578\n",
       "user_score         9125\n",
       "rating             6766\n",
       "dtype: int64"
      ]
     },
     "execution_count": 13,
     "metadata": {},
     "output_type": "execute_result"
    }
   ],
   "source": [
    "df.isna().sum()"
   ]
  },
  {
   "cell_type": "markdown",
   "metadata": {},
   "source": [
    "Как мы видим, в датасете есть следующие пропуски:\n",
    "1. В столбцах `name` и `genre` по 2 пропуска.\n",
    "2. В каждом из столбцов `critic_score`, `user_score` и `rating` более 6000 пропусков.\n",
    "Посмотрим на пропуски в столбцах `name` и `genre`."
   ]
  },
  {
   "cell_type": "code",
   "execution_count": 14,
   "metadata": {},
   "outputs": [
    {
     "data": {
      "text/html": [
       "<div>\n",
       "<style scoped>\n",
       "    .dataframe tbody tr th:only-of-type {\n",
       "        vertical-align: middle;\n",
       "    }\n",
       "\n",
       "    .dataframe tbody tr th {\n",
       "        vertical-align: top;\n",
       "    }\n",
       "\n",
       "    .dataframe thead th {\n",
       "        text-align: right;\n",
       "    }\n",
       "</style>\n",
       "<table border=\"1\" class=\"dataframe\">\n",
       "  <thead>\n",
       "    <tr style=\"text-align: right;\">\n",
       "      <th></th>\n",
       "      <th>name</th>\n",
       "      <th>platform</th>\n",
       "      <th>year_of_release</th>\n",
       "      <th>genre</th>\n",
       "      <th>na_sales</th>\n",
       "      <th>eu_sales</th>\n",
       "      <th>jp_sales</th>\n",
       "      <th>other_sales</th>\n",
       "      <th>critic_score</th>\n",
       "      <th>user_score</th>\n",
       "      <th>rating</th>\n",
       "    </tr>\n",
       "  </thead>\n",
       "  <tbody>\n",
       "    <tr>\n",
       "      <td>659</td>\n",
       "      <td>NaN</td>\n",
       "      <td>GEN</td>\n",
       "      <td>1993</td>\n",
       "      <td>NaN</td>\n",
       "      <td>1.78</td>\n",
       "      <td>0.53</td>\n",
       "      <td>0.00</td>\n",
       "      <td>0.08</td>\n",
       "      <td>NaN</td>\n",
       "      <td>NaN</td>\n",
       "      <td>NaN</td>\n",
       "    </tr>\n",
       "    <tr>\n",
       "      <td>14244</td>\n",
       "      <td>NaN</td>\n",
       "      <td>GEN</td>\n",
       "      <td>1993</td>\n",
       "      <td>NaN</td>\n",
       "      <td>0.00</td>\n",
       "      <td>0.00</td>\n",
       "      <td>0.03</td>\n",
       "      <td>0.00</td>\n",
       "      <td>NaN</td>\n",
       "      <td>NaN</td>\n",
       "      <td>NaN</td>\n",
       "    </tr>\n",
       "  </tbody>\n",
       "</table>\n",
       "</div>"
      ],
      "text/plain": [
       "      name platform  year_of_release genre  na_sales  eu_sales  jp_sales  \\\n",
       "659    NaN      GEN             1993   NaN      1.78      0.53      0.00   \n",
       "14244  NaN      GEN             1993   NaN      0.00      0.00      0.03   \n",
       "\n",
       "       other_sales  critic_score  user_score rating  \n",
       "659           0.08           NaN         NaN    NaN  \n",
       "14244         0.00           NaN         NaN    NaN  "
      ]
     },
     "execution_count": 14,
     "metadata": {},
     "output_type": "execute_result"
    }
   ],
   "source": [
    "df.loc[df['name'].isna()]"
   ]
  },
  {
   "cell_type": "markdown",
   "metadata": {},
   "source": [
    "Как мы видим, пропуски в столбцах `name` и `genre` содержатся в одних и тех же строчках каких-то игр 1993 г. и эти строчки можно удалить, т.к. заменить данные нам нечем и потеря двух строчек на исследовании никак не скажется."
   ]
  },
  {
   "cell_type": "code",
   "execution_count": 15,
   "metadata": {},
   "outputs": [],
   "source": [
    "df = df.dropna(subset = ['name'])"
   ]
  },
  {
   "cell_type": "markdown",
   "metadata": {},
   "source": [
    "Посмотрим на пропуски в столбце `year_of_release`."
   ]
  },
  {
   "cell_type": "code",
   "execution_count": 16,
   "metadata": {},
   "outputs": [
    {
     "data": {
      "text/plain": [
       "<IntegerArray>\n",
       "[2006, 1985, 2008, 2009, 1996, 1989, 1984, 2005, 1999, 2007, 2010, 2013, 2004,\n",
       " 1990, 1988, 2002, 2001, 2011, 1998, 2015, 2012, 2014, 1992, 1997, 1993, 1994,\n",
       " 1982, 2016, 2003, 1986, 2000,  NaN, 1995, 1991, 1981, 1987, 1980, 1983]\n",
       "Length: 38, dtype: Int32"
      ]
     },
     "execution_count": 16,
     "metadata": {},
     "output_type": "execute_result"
    }
   ],
   "source": [
    "df['year_of_release'].unique()"
   ]
  },
  {
   "cell_type": "code",
   "execution_count": 17,
   "metadata": {},
   "outputs": [
    {
     "data": {
      "text/html": [
       "<div>\n",
       "<style scoped>\n",
       "    .dataframe tbody tr th:only-of-type {\n",
       "        vertical-align: middle;\n",
       "    }\n",
       "\n",
       "    .dataframe tbody tr th {\n",
       "        vertical-align: top;\n",
       "    }\n",
       "\n",
       "    .dataframe thead th {\n",
       "        text-align: right;\n",
       "    }\n",
       "</style>\n",
       "<table border=\"1\" class=\"dataframe\">\n",
       "  <thead>\n",
       "    <tr style=\"text-align: right;\">\n",
       "      <th></th>\n",
       "      <th>name</th>\n",
       "      <th>platform</th>\n",
       "      <th>year_of_release</th>\n",
       "      <th>genre</th>\n",
       "      <th>na_sales</th>\n",
       "      <th>eu_sales</th>\n",
       "      <th>jp_sales</th>\n",
       "      <th>other_sales</th>\n",
       "      <th>critic_score</th>\n",
       "      <th>user_score</th>\n",
       "      <th>rating</th>\n",
       "    </tr>\n",
       "  </thead>\n",
       "  <tbody>\n",
       "    <tr>\n",
       "      <td>183</td>\n",
       "      <td>Madden NFL 2004</td>\n",
       "      <td>PS2</td>\n",
       "      <td>NaN</td>\n",
       "      <td>Sports</td>\n",
       "      <td>4.26</td>\n",
       "      <td>0.26</td>\n",
       "      <td>0.01</td>\n",
       "      <td>0.71</td>\n",
       "      <td>94.0</td>\n",
       "      <td>8.5</td>\n",
       "      <td>E</td>\n",
       "    </tr>\n",
       "    <tr>\n",
       "      <td>377</td>\n",
       "      <td>FIFA Soccer 2004</td>\n",
       "      <td>PS2</td>\n",
       "      <td>NaN</td>\n",
       "      <td>Sports</td>\n",
       "      <td>0.59</td>\n",
       "      <td>2.36</td>\n",
       "      <td>0.04</td>\n",
       "      <td>0.51</td>\n",
       "      <td>84.0</td>\n",
       "      <td>6.4</td>\n",
       "      <td>E</td>\n",
       "    </tr>\n",
       "    <tr>\n",
       "      <td>456</td>\n",
       "      <td>LEGO Batman: The Videogame</td>\n",
       "      <td>Wii</td>\n",
       "      <td>NaN</td>\n",
       "      <td>Action</td>\n",
       "      <td>1.80</td>\n",
       "      <td>0.97</td>\n",
       "      <td>0.00</td>\n",
       "      <td>0.29</td>\n",
       "      <td>74.0</td>\n",
       "      <td>7.9</td>\n",
       "      <td>E10+</td>\n",
       "    </tr>\n",
       "    <tr>\n",
       "      <td>475</td>\n",
       "      <td>wwe Smackdown vs. Raw 2006</td>\n",
       "      <td>PS2</td>\n",
       "      <td>NaN</td>\n",
       "      <td>Fighting</td>\n",
       "      <td>1.57</td>\n",
       "      <td>1.02</td>\n",
       "      <td>0.00</td>\n",
       "      <td>0.41</td>\n",
       "      <td>NaN</td>\n",
       "      <td>NaN</td>\n",
       "      <td>NaN</td>\n",
       "    </tr>\n",
       "    <tr>\n",
       "      <td>609</td>\n",
       "      <td>Space Invaders</td>\n",
       "      <td>2600</td>\n",
       "      <td>NaN</td>\n",
       "      <td>Shooter</td>\n",
       "      <td>2.36</td>\n",
       "      <td>0.14</td>\n",
       "      <td>0.00</td>\n",
       "      <td>0.03</td>\n",
       "      <td>NaN</td>\n",
       "      <td>NaN</td>\n",
       "      <td>NaN</td>\n",
       "    </tr>\n",
       "    <tr>\n",
       "      <td>...</td>\n",
       "      <td>...</td>\n",
       "      <td>...</td>\n",
       "      <td>...</td>\n",
       "      <td>...</td>\n",
       "      <td>...</td>\n",
       "      <td>...</td>\n",
       "      <td>...</td>\n",
       "      <td>...</td>\n",
       "      <td>...</td>\n",
       "      <td>...</td>\n",
       "      <td>...</td>\n",
       "    </tr>\n",
       "    <tr>\n",
       "      <td>16373</td>\n",
       "      <td>PDC World Championship Darts 2008</td>\n",
       "      <td>PSP</td>\n",
       "      <td>NaN</td>\n",
       "      <td>Sports</td>\n",
       "      <td>0.01</td>\n",
       "      <td>0.00</td>\n",
       "      <td>0.00</td>\n",
       "      <td>0.00</td>\n",
       "      <td>43.0</td>\n",
       "      <td>NaN</td>\n",
       "      <td>E10+</td>\n",
       "    </tr>\n",
       "    <tr>\n",
       "      <td>16405</td>\n",
       "      <td>Freaky Flyers</td>\n",
       "      <td>GC</td>\n",
       "      <td>NaN</td>\n",
       "      <td>Racing</td>\n",
       "      <td>0.01</td>\n",
       "      <td>0.00</td>\n",
       "      <td>0.00</td>\n",
       "      <td>0.00</td>\n",
       "      <td>69.0</td>\n",
       "      <td>6.5</td>\n",
       "      <td>T</td>\n",
       "    </tr>\n",
       "    <tr>\n",
       "      <td>16448</td>\n",
       "      <td>Inversion</td>\n",
       "      <td>PC</td>\n",
       "      <td>NaN</td>\n",
       "      <td>Shooter</td>\n",
       "      <td>0.01</td>\n",
       "      <td>0.00</td>\n",
       "      <td>0.00</td>\n",
       "      <td>0.00</td>\n",
       "      <td>59.0</td>\n",
       "      <td>6.7</td>\n",
       "      <td>M</td>\n",
       "    </tr>\n",
       "    <tr>\n",
       "      <td>16458</td>\n",
       "      <td>Hakuouki: Shinsengumi Kitan</td>\n",
       "      <td>PS3</td>\n",
       "      <td>NaN</td>\n",
       "      <td>Adventure</td>\n",
       "      <td>0.01</td>\n",
       "      <td>0.00</td>\n",
       "      <td>0.00</td>\n",
       "      <td>0.00</td>\n",
       "      <td>NaN</td>\n",
       "      <td>NaN</td>\n",
       "      <td>NaN</td>\n",
       "    </tr>\n",
       "    <tr>\n",
       "      <td>16522</td>\n",
       "      <td>Virtua Quest</td>\n",
       "      <td>GC</td>\n",
       "      <td>NaN</td>\n",
       "      <td>Role-Playing</td>\n",
       "      <td>0.01</td>\n",
       "      <td>0.00</td>\n",
       "      <td>0.00</td>\n",
       "      <td>0.00</td>\n",
       "      <td>55.0</td>\n",
       "      <td>5.5</td>\n",
       "      <td>T</td>\n",
       "    </tr>\n",
       "  </tbody>\n",
       "</table>\n",
       "<p>269 rows × 11 columns</p>\n",
       "</div>"
      ],
      "text/plain": [
       "                                    name platform  year_of_release  \\\n",
       "183                      Madden NFL 2004      PS2              NaN   \n",
       "377                     FIFA Soccer 2004      PS2              NaN   \n",
       "456           LEGO Batman: The Videogame      Wii              NaN   \n",
       "475           wwe Smackdown vs. Raw 2006      PS2              NaN   \n",
       "609                       Space Invaders     2600              NaN   \n",
       "...                                  ...      ...              ...   \n",
       "16373  PDC World Championship Darts 2008      PSP              NaN   \n",
       "16405                      Freaky Flyers       GC              NaN   \n",
       "16448                          Inversion       PC              NaN   \n",
       "16458        Hakuouki: Shinsengumi Kitan      PS3              NaN   \n",
       "16522                       Virtua Quest       GC              NaN   \n",
       "\n",
       "              genre  na_sales  eu_sales  jp_sales  other_sales  critic_score  \\\n",
       "183          Sports      4.26      0.26      0.01         0.71          94.0   \n",
       "377          Sports      0.59      2.36      0.04         0.51          84.0   \n",
       "456          Action      1.80      0.97      0.00         0.29          74.0   \n",
       "475        Fighting      1.57      1.02      0.00         0.41           NaN   \n",
       "609         Shooter      2.36      0.14      0.00         0.03           NaN   \n",
       "...             ...       ...       ...       ...          ...           ...   \n",
       "16373        Sports      0.01      0.00      0.00         0.00          43.0   \n",
       "16405        Racing      0.01      0.00      0.00         0.00          69.0   \n",
       "16448       Shooter      0.01      0.00      0.00         0.00          59.0   \n",
       "16458     Adventure      0.01      0.00      0.00         0.00           NaN   \n",
       "16522  Role-Playing      0.01      0.00      0.00         0.00          55.0   \n",
       "\n",
       "       user_score rating  \n",
       "183           8.5      E  \n",
       "377           6.4      E  \n",
       "456           7.9   E10+  \n",
       "475           NaN    NaN  \n",
       "609           NaN    NaN  \n",
       "...           ...    ...  \n",
       "16373         NaN   E10+  \n",
       "16405         6.5      T  \n",
       "16448         6.7      M  \n",
       "16458         NaN    NaN  \n",
       "16522         5.5      T  \n",
       "\n",
       "[269 rows x 11 columns]"
      ]
     },
     "execution_count": 17,
     "metadata": {},
     "output_type": "execute_result"
    }
   ],
   "source": [
    "df.loc[df['year_of_release'].isna()]"
   ]
  },
  {
   "cell_type": "markdown",
   "metadata": {},
   "source": [
    "Эти пропуски нам заменить нечем, поэтому тоже удалим данные строки. Удалится всего 1,5 % датасета, поэтому это тоже не окажет существенного влияния на результаты."
   ]
  },
  {
   "cell_type": "code",
   "execution_count": 18,
   "metadata": {},
   "outputs": [],
   "source": [
    "df = df.dropna(subset = ['year_of_release'])"
   ]
  },
  {
   "cell_type": "markdown",
   "metadata": {},
   "source": [
    "Пропуски в столбцах `critic_score`, `user_score` и `rating` образовались, скорее всего, из-за того, что как мы видим в датасете находятся игры, выпущенные начиная с 1980 г., компания ESRB основана только в 1994 г., а агрегатор оценок Metacritic вообще в 2001 г. В связи с этим многие игры датасета не получили возрастной рейтинг и пользовательскую оценку, плюс в датасете есть малоизвестные игры, количество оценок у которых было настолько мало, что рейтинг не сформировался.\n",
    "\n",
    "Эти данные нам заменить нечем, поэтому оставим пропуски, как есть."
   ]
  },
  {
   "cell_type": "markdown",
   "metadata": {},
   "source": [
    "Посмотрим, какие есть данные в столбцах c платформой, рейтингом и жанром игры."
   ]
  },
  {
   "cell_type": "code",
   "execution_count": 19,
   "metadata": {},
   "outputs": [
    {
     "data": {
      "text/plain": [
       "PS2     2127\n",
       "DS      2121\n",
       "PS3     1306\n",
       "Wii     1286\n",
       "X360    1232\n",
       "PSP     1193\n",
       "PS      1190\n",
       "PC       957\n",
       "GBA      811\n",
       "XB       803\n",
       "GC       542\n",
       "3DS      512\n",
       "PSV      429\n",
       "PS4      392\n",
       "N64      316\n",
       "XOne     247\n",
       "SNES     239\n",
       "SAT      173\n",
       "WiiU     147\n",
       "2600     116\n",
       "NES       98\n",
       "GB        97\n",
       "DC        52\n",
       "GEN       27\n",
       "NG        12\n",
       "WS         6\n",
       "SCD        6\n",
       "3DO        3\n",
       "TG16       2\n",
       "GG         1\n",
       "PCFX       1\n",
       "Name: platform, dtype: int64"
      ]
     },
     "execution_count": 19,
     "metadata": {},
     "output_type": "execute_result"
    }
   ],
   "source": [
    "df['platform'].value_counts()"
   ]
  },
  {
   "cell_type": "code",
   "execution_count": 20,
   "metadata": {},
   "outputs": [
    {
     "data": {
      "text/plain": [
       "Action          3307\n",
       "Sports          2306\n",
       "Misc            1721\n",
       "Role-Playing    1481\n",
       "Shooter         1296\n",
       "Adventure       1293\n",
       "Racing          1226\n",
       "Platform         878\n",
       "Simulation       857\n",
       "Fighting         837\n",
       "Strategy         673\n",
       "Puzzle           569\n",
       "Name: genre, dtype: int64"
      ]
     },
     "execution_count": 20,
     "metadata": {},
     "output_type": "execute_result"
    }
   ],
   "source": [
    "df['genre'].value_counts()"
   ]
  },
  {
   "cell_type": "code",
   "execution_count": 21,
   "metadata": {},
   "outputs": [
    {
     "data": {
      "text/plain": [
       "E       3921\n",
       "T       2905\n",
       "M       1536\n",
       "E10+    1393\n",
       "EC         8\n",
       "K-A        3\n",
       "RP         1\n",
       "AO         1\n",
       "Name: rating, dtype: int64"
      ]
     },
     "execution_count": 21,
     "metadata": {},
     "output_type": "execute_result"
    }
   ],
   "source": [
    "df['rating'].value_counts()"
   ]
  },
  {
   "cell_type": "markdown",
   "metadata": {},
   "source": [
    "<b>Рейтинги ESRB:</b>\n",
    "\n",
    "`EC` — Early Childhood - «Для детей младшего возраста»: Игра подходит для детей от 3 лет и не содержит материалов, которые родители могли бы счесть неподходящими.\n",
    "\n",
    "`E` — Everyone - «Для всех»: Содержание вполне подходит для возрастной категории от 6 лет.\n",
    "\n",
    "`E10+` — Everyone 10+ (Первоначально \"K-A\") - «Для всех от 10 лет и старше»: Проекты с данным рейтингом могут содержать или немного больше мультипликационного или мягкого насилия, или несколько откровенные сцены, или минимальное количество крови.\n",
    "\n",
    "`T` — Teen - «Подросткам»: Игра подходит для лиц от 13 лет. Проекты из данной категории могут содержать насилие, непристойные сцены, грубый юмор, в меру откровенное сексуальное содержимое, кровь или нечастое использование ненормативной лексики.\n",
    "\n",
    "`M` — Mature - «Для взрослых»: Материалы игры не подходят для подростков младше 17 лет.\n",
    "\n",
    "`AO` — Adults Only - «Только для взрослых»: Содержание игры только для взрослых старше 18 лет.\n",
    "\n",
    "`RP` — Rating Pending - «Рейтинг ожидается»: Продукт был отправлен в ESRB и ожидает присвоения рейтинга."
   ]
  },
  {
   "cell_type": "markdown",
   "metadata": {},
   "source": [
    "Исходя из данных о рейтинге можно объединить `E10+` и `K-A`, т.к. это одна и та же категория."
   ]
  },
  {
   "cell_type": "code",
   "execution_count": 22,
   "metadata": {},
   "outputs": [],
   "source": [
    "df['rating']= df['rating'].replace('K-A', 'E10+')"
   ]
  },
  {
   "cell_type": "code",
   "execution_count": 23,
   "metadata": {},
   "outputs": [],
   "source": [
    "df['rating'] = df['rating'].fillna('no_rating')"
   ]
  },
  {
   "cell_type": "code",
   "execution_count": 24,
   "metadata": {},
   "outputs": [
    {
     "data": {
      "text/plain": [
       "no_rating    6676\n",
       "E            3921\n",
       "T            2905\n",
       "M            1536\n",
       "E10+         1396\n",
       "EC              8\n",
       "RP              1\n",
       "AO              1\n",
       "Name: rating, dtype: int64"
      ]
     },
     "execution_count": 24,
     "metadata": {},
     "output_type": "execute_result"
    }
   ],
   "source": [
    "df['rating'].value_counts()"
   ]
  },
  {
   "cell_type": "markdown",
   "metadata": {},
   "source": [
    "В других столбцах с данными всё хорошо, названия корректны."
   ]
  },
  {
   "cell_type": "markdown",
   "metadata": {},
   "source": [
    "### Суммарные продажи"
   ]
  },
  {
   "cell_type": "markdown",
   "metadata": {},
   "source": [
    "Добавим в датасет столбец с суммарными продажами по всем регионам."
   ]
  },
  {
   "cell_type": "code",
   "execution_count": 25,
   "metadata": {},
   "outputs": [],
   "source": [
    "df['total_sales'] = df['na_sales'] + df['eu_sales'] + df['jp_sales'] + df['other_sales']"
   ]
  },
  {
   "cell_type": "code",
   "execution_count": 26,
   "metadata": {},
   "outputs": [
    {
     "data": {
      "text/html": [
       "<div>\n",
       "<style scoped>\n",
       "    .dataframe tbody tr th:only-of-type {\n",
       "        vertical-align: middle;\n",
       "    }\n",
       "\n",
       "    .dataframe tbody tr th {\n",
       "        vertical-align: top;\n",
       "    }\n",
       "\n",
       "    .dataframe thead th {\n",
       "        text-align: right;\n",
       "    }\n",
       "</style>\n",
       "<table border=\"1\" class=\"dataframe\">\n",
       "  <thead>\n",
       "    <tr style=\"text-align: right;\">\n",
       "      <th></th>\n",
       "      <th>name</th>\n",
       "      <th>platform</th>\n",
       "      <th>year_of_release</th>\n",
       "      <th>genre</th>\n",
       "      <th>na_sales</th>\n",
       "      <th>eu_sales</th>\n",
       "      <th>jp_sales</th>\n",
       "      <th>other_sales</th>\n",
       "      <th>critic_score</th>\n",
       "      <th>user_score</th>\n",
       "      <th>rating</th>\n",
       "      <th>total_sales</th>\n",
       "    </tr>\n",
       "  </thead>\n",
       "  <tbody>\n",
       "    <tr>\n",
       "      <td>7638</td>\n",
       "      <td>Wizards of Waverly Place: Spellbound</td>\n",
       "      <td>DS</td>\n",
       "      <td>2010</td>\n",
       "      <td>Misc</td>\n",
       "      <td>0.16</td>\n",
       "      <td>0.03</td>\n",
       "      <td>0.00</td>\n",
       "      <td>0.01</td>\n",
       "      <td>NaN</td>\n",
       "      <td>NaN</td>\n",
       "      <td>E</td>\n",
       "      <td>0.20</td>\n",
       "    </tr>\n",
       "    <tr>\n",
       "      <td>3538</td>\n",
       "      <td>Disney Universe</td>\n",
       "      <td>X360</td>\n",
       "      <td>2011</td>\n",
       "      <td>Action</td>\n",
       "      <td>0.37</td>\n",
       "      <td>0.14</td>\n",
       "      <td>0.00</td>\n",
       "      <td>0.05</td>\n",
       "      <td>66.0</td>\n",
       "      <td>5.3</td>\n",
       "      <td>E10+</td>\n",
       "      <td>0.56</td>\n",
       "    </tr>\n",
       "    <tr>\n",
       "      <td>8950</td>\n",
       "      <td>Jurassic: The Hunted</td>\n",
       "      <td>Wii</td>\n",
       "      <td>2009</td>\n",
       "      <td>Shooter</td>\n",
       "      <td>0.14</td>\n",
       "      <td>0.00</td>\n",
       "      <td>0.00</td>\n",
       "      <td>0.01</td>\n",
       "      <td>NaN</td>\n",
       "      <td>NaN</td>\n",
       "      <td>T</td>\n",
       "      <td>0.15</td>\n",
       "    </tr>\n",
       "    <tr>\n",
       "      <td>8153</td>\n",
       "      <td>Armored Core: Last Raven</td>\n",
       "      <td>PS2</td>\n",
       "      <td>2005</td>\n",
       "      <td>Simulation</td>\n",
       "      <td>0.05</td>\n",
       "      <td>0.04</td>\n",
       "      <td>0.08</td>\n",
       "      <td>0.01</td>\n",
       "      <td>59.0</td>\n",
       "      <td>8.9</td>\n",
       "      <td>T</td>\n",
       "      <td>0.18</td>\n",
       "    </tr>\n",
       "    <tr>\n",
       "      <td>11630</td>\n",
       "      <td>ZhuZhu Babies</td>\n",
       "      <td>DS</td>\n",
       "      <td>2011</td>\n",
       "      <td>Simulation</td>\n",
       "      <td>0.06</td>\n",
       "      <td>0.01</td>\n",
       "      <td>0.00</td>\n",
       "      <td>0.01</td>\n",
       "      <td>NaN</td>\n",
       "      <td>NaN</td>\n",
       "      <td>E</td>\n",
       "      <td>0.08</td>\n",
       "    </tr>\n",
       "    <tr>\n",
       "      <td>16184</td>\n",
       "      <td>Higurashi no Naku Koro ni Iki</td>\n",
       "      <td>PS3</td>\n",
       "      <td>2015</td>\n",
       "      <td>Action</td>\n",
       "      <td>0.00</td>\n",
       "      <td>0.00</td>\n",
       "      <td>0.01</td>\n",
       "      <td>0.00</td>\n",
       "      <td>NaN</td>\n",
       "      <td>NaN</td>\n",
       "      <td>no_rating</td>\n",
       "      <td>0.01</td>\n",
       "    </tr>\n",
       "    <tr>\n",
       "      <td>1137</td>\n",
       "      <td>Kinectimals</td>\n",
       "      <td>X360</td>\n",
       "      <td>2010</td>\n",
       "      <td>Simulation</td>\n",
       "      <td>1.02</td>\n",
       "      <td>0.46</td>\n",
       "      <td>0.00</td>\n",
       "      <td>0.13</td>\n",
       "      <td>74.0</td>\n",
       "      <td>3.1</td>\n",
       "      <td>E</td>\n",
       "      <td>1.61</td>\n",
       "    </tr>\n",
       "    <tr>\n",
       "      <td>14755</td>\n",
       "      <td>Yahari Game Demo Ore no Seishun Love-Kome wa M...</td>\n",
       "      <td>PSV</td>\n",
       "      <td>2016</td>\n",
       "      <td>Adventure</td>\n",
       "      <td>0.00</td>\n",
       "      <td>0.00</td>\n",
       "      <td>0.03</td>\n",
       "      <td>0.00</td>\n",
       "      <td>NaN</td>\n",
       "      <td>NaN</td>\n",
       "      <td>no_rating</td>\n",
       "      <td>0.03</td>\n",
       "    </tr>\n",
       "    <tr>\n",
       "      <td>7240</td>\n",
       "      <td>NFL Quarterback Club 2002</td>\n",
       "      <td>PS2</td>\n",
       "      <td>2001</td>\n",
       "      <td>Sports</td>\n",
       "      <td>0.11</td>\n",
       "      <td>0.08</td>\n",
       "      <td>0.00</td>\n",
       "      <td>0.03</td>\n",
       "      <td>67.0</td>\n",
       "      <td>7.8</td>\n",
       "      <td>E</td>\n",
       "      <td>0.22</td>\n",
       "    </tr>\n",
       "    <tr>\n",
       "      <td>7392</td>\n",
       "      <td>Ninja Gaiden: Dragon Sword</td>\n",
       "      <td>DS</td>\n",
       "      <td>2008</td>\n",
       "      <td>Action</td>\n",
       "      <td>0.16</td>\n",
       "      <td>0.01</td>\n",
       "      <td>0.02</td>\n",
       "      <td>0.02</td>\n",
       "      <td>83.0</td>\n",
       "      <td>7.8</td>\n",
       "      <td>T</td>\n",
       "      <td>0.21</td>\n",
       "    </tr>\n",
       "  </tbody>\n",
       "</table>\n",
       "</div>"
      ],
      "text/plain": [
       "                                                    name platform  \\\n",
       "7638                Wizards of Waverly Place: Spellbound       DS   \n",
       "3538                                     Disney Universe     X360   \n",
       "8950                                Jurassic: The Hunted      Wii   \n",
       "8153                            Armored Core: Last Raven      PS2   \n",
       "11630                                      ZhuZhu Babies       DS   \n",
       "16184                      Higurashi no Naku Koro ni Iki      PS3   \n",
       "1137                                         Kinectimals     X360   \n",
       "14755  Yahari Game Demo Ore no Seishun Love-Kome wa M...      PSV   \n",
       "7240                           NFL Quarterback Club 2002      PS2   \n",
       "7392                          Ninja Gaiden: Dragon Sword       DS   \n",
       "\n",
       "       year_of_release       genre  na_sales  eu_sales  jp_sales  other_sales  \\\n",
       "7638              2010        Misc      0.16      0.03      0.00         0.01   \n",
       "3538              2011      Action      0.37      0.14      0.00         0.05   \n",
       "8950              2009     Shooter      0.14      0.00      0.00         0.01   \n",
       "8153              2005  Simulation      0.05      0.04      0.08         0.01   \n",
       "11630             2011  Simulation      0.06      0.01      0.00         0.01   \n",
       "16184             2015      Action      0.00      0.00      0.01         0.00   \n",
       "1137              2010  Simulation      1.02      0.46      0.00         0.13   \n",
       "14755             2016   Adventure      0.00      0.00      0.03         0.00   \n",
       "7240              2001      Sports      0.11      0.08      0.00         0.03   \n",
       "7392              2008      Action      0.16      0.01      0.02         0.02   \n",
       "\n",
       "       critic_score  user_score     rating  total_sales  \n",
       "7638            NaN         NaN          E         0.20  \n",
       "3538           66.0         5.3       E10+         0.56  \n",
       "8950            NaN         NaN          T         0.15  \n",
       "8153           59.0         8.9          T         0.18  \n",
       "11630           NaN         NaN          E         0.08  \n",
       "16184           NaN         NaN  no_rating         0.01  \n",
       "1137           74.0         3.1          E         1.61  \n",
       "14755           NaN         NaN  no_rating         0.03  \n",
       "7240           67.0         7.8          E         0.22  \n",
       "7392           83.0         7.8          T         0.21  "
      ]
     },
     "execution_count": 26,
     "metadata": {},
     "output_type": "execute_result"
    }
   ],
   "source": [
    "df.sample(10)"
   ]
  },
  {
   "cell_type": "markdown",
   "metadata": {},
   "source": [
    "Столбец добавлен, всё посчиталось правильно, тип данных верный."
   ]
  },
  {
   "cell_type": "markdown",
   "metadata": {},
   "source": [
    "### Вывод по разделу"
   ]
  },
  {
   "cell_type": "markdown",
   "metadata": {},
   "source": [
    "1. Названия столбцов были приведены к нижнему регистру.\n",
    "2. Были изменены типы данных в столбце `year_of_release` c float на int, а в столбце `user_score` с object на float.\n",
    "3. Данные со значениями tbd в столбце `user_score` были заменены значениями NaN, т.к. рейтинг у игры не сформирован и взять данные для замены негде.\n",
    "4. Были удалены две строки с пропусками в столбцах `name` и `genre`.\n",
    "5. Были удалены 269 строк с пропусками в столбце `year_of_release`, т.к. эти данные заменить нечем.\n",
    "6. Пропуски в столбцах `critic_score`, `user_score` и `rating` оставили, как есть.\n",
    "7. В датасет был добавлен столбец с суммарными продажи во всех регионах."
   ]
  },
  {
   "cell_type": "markdown",
   "metadata": {},
   "source": [
    "## Исследовательский анализ данных"
   ]
  },
  {
   "cell_type": "markdown",
   "metadata": {},
   "source": [
    "<b>На этом шаге мы:</b>\n",
    "- Посмотрим, сколько игр выпускалось в разные годы.\n",
    "- Посмотрим, как менялись продажи по платформам. Выберем платформы с наибольшими суммарными продажами и построим распределение по годам. Ответим на вопрос, за какой характерный срок появляются новые и исчезают старые платформы?\n",
    "- Возьмем данные за соответствующий актуальный период. Актуальный период определим самостоятельно в результате исследования предыдущих вопросов. Основной фактор — эти данные помогут построить прогноз на 2017 год.\n",
    "- Решим, какие платформы лидируют по продажам, растут или падают? Выберем несколько потенциально прибыльных платформ.\n",
    "- Построим график «ящик с усами» по глобальным продажам игр в разбивке по платформам. Опишем результат.\n",
    "- Посмотрим, как влияют на продажи внутри одной популярной платформы отзывы пользователей и критиков. Построим диаграмму рассеяния и посчитаем корреляцию между отзывами и продажами. Сформулируем выводы.\n",
    "- Посмотрим на общее распределение игр по жанрам. Что можно сказать о самых прибыльных жанрах? Выделяются ли жанры с высокими и низкими продажами?"
   ]
  },
  {
   "cell_type": "markdown",
   "metadata": {},
   "source": [
    "### Сколько игр выпускалось в разные годы"
   ]
  },
  {
   "cell_type": "code",
   "execution_count": 27,
   "metadata": {},
   "outputs": [
    {
     "data": {
      "image/png": "[encoded data removed]",
      "text/plain": [
       "<Figure size 720x504 with 1 Axes>"
      ]
     },
     "metadata": {
      "needs_background": "light"
     },
     "output_type": "display_data"
    }
   ],
   "source": [
    "df.pivot_table(index='year_of_release', values='name', aggfunc='count')\\\n",
    ".plot(y='name', kind='bar', color = plt.cm.colors.cnames.keys(), figsize=(10,7))\n",
    "plt.xlabel('Год выпуска', fontsize=12)\n",
    "plt.ylabel('Количество игр', fontsize=12)\n",
    "plt.title('Сколько игр выпускалось в разные годы', fontsize=13, fontweight='bold')\n",
    "plt.show()"
   ]
  },
  {
   "cell_type": "markdown",
   "metadata": {},
   "source": [
    "Как видим, до 1995 года игры были очень нишевым продуктом и выпускались в небольших количествах. С 1995 года пошел рост количества игровых релизов в год, что можно связать с выходом и популяризацией Playstation 1 в декабре 1994 года в Японии и в сентябре 1995 г. в Европе и Северной Америке. \n",
    "\n",
    "После этого наблюдается планомерный рост количества вышедших игр в год, пока в 2002 не произошел скачок количества релизов практически в 2 раза, что можно связать с набравшей популярность среди игроков и разработчиков игр вышедшей в конце 2000 г. Playstation 2.\n",
    "\n",
    "Ну а пик количества релизов пришелся на 2008-2009 г., что опять можно связать с выходом нового поколения консолей Playstation 3 и Xbox 360 в 2006-2007 г.\n",
    "\n",
    "После пика происходит достаточно резкое снижение количества выпущенных игр в 2012 г., что можно связать и с закатом поколения Playstation 3/Xbox 360 и с набирающим популярность сегментом мобильных игр, которые на сегодняшний день по оборотам обходят весь суммарный сегмент PC и консольных игр вместе взятых."
   ]
  },
  {
   "cell_type": "markdown",
   "metadata": {},
   "source": [
    "### Как менялись продажи по платформам"
   ]
  },
  {
   "cell_type": "code",
   "execution_count": 28,
   "metadata": {},
   "outputs": [
    {
     "data": {
      "image/png": "[encoded data removed]",
      "text/plain": [
       "<Figure size 720x504 with 1 Axes>"
      ]
     },
     "metadata": {
      "needs_background": "light"
     },
     "output_type": "display_data"
    }
   ],
   "source": [
    "df.pivot_table(index='platform', values='total_sales', aggfunc='sum')\\\n",
    ".sort_values(by='total_sales', ascending=True)\\\n",
    ".plot(y='total_sales', kind='barh', color = plt.cm.colors.cnames.keys(), figsize=(10,7))\n",
    "plt.xlabel('Продано на платформе (млн. копий)', fontsize=12)\n",
    "plt.ylabel('Платформа', fontsize=12)\n",
    "plt.title('Продажи игр по платформам', fontsize=13, fontweight='bold')\n",
    "plt.show()"
   ]
  },
  {
   "cell_type": "markdown",
   "metadata": {},
   "source": [
    "Ожидаемо больше всего продаж на Playstation 2, ведь она до сих пор является самой популярной консолью в мире, хотя Nintendo DS уже практически сравнялась с ней по количеству проданных консолей, а Nintendo Switch имеет все шансы догнать ее. И, соответственно, чем больше продано консолей, тем больше игр покупают на этой платформе.\n",
    "\n",
    "На втором месте Xbox 360, от которого никто не ожидал такого успеха в позапрошлом поколении игр, а следом разместились Playstation 3, Nintendo Wii и DS, а также Playstation 1."
   ]
  },
  {
   "cell_type": "markdown",
   "metadata": {},
   "source": [
    "Построим по 6 самым популярным платформам распределение по годам."
   ]
  },
  {
   "cell_type": "code",
   "execution_count": 29,
   "metadata": {},
   "outputs": [],
   "source": [
    "def hists(platform, title, color):\n",
    "    df[df['platform'] == platform]\\\n",
    "        .groupby('year_of_release')\\\n",
    "        .agg({'total_sales':'sum'})\\\n",
    "        .plot(kind='bar', figsize=(10,7), grid=True, color = color)\n",
    "    plt.xlabel('Год выпуска игр')\n",
    "    plt.ylabel('Продано за год (млн. копий)')\n",
    "    plt.title(title)"
   ]
  },
  {
   "cell_type": "code",
   "execution_count": 30,
   "metadata": {},
   "outputs": [
    {
     "data": {
      "image/png": "[encoded data removed]",
      "text/plain": [
       "<Figure size 720x504 with 1 Axes>"
      ]
     },
     "metadata": {
      "needs_background": "light"
     },
     "output_type": "display_data"
    }
   ],
   "source": [
    "hists ('PS2', 'Playstation 2', 'mediumblue')"
   ]
  },
  {
   "cell_type": "code",
   "execution_count": 31,
   "metadata": {},
   "outputs": [
    {
     "data": {
      "image/png": "[encoded data removed]",
      "text/plain": [
       "<Figure size 720x504 with 1 Axes>"
      ]
     },
     "metadata": {
      "needs_background": "light"
     },
     "output_type": "display_data"
    }
   ],
   "source": [
    "hists ('X360', 'XBOX 360', 'g')"
   ]
  },
  {
   "cell_type": "code",
   "execution_count": 32,
   "metadata": {},
   "outputs": [
    {
     "data": {
      "image/png": "[encoded data removed]",
      "text/plain": [
       "<Figure size 720x504 with 1 Axes>"
      ]
     },
     "metadata": {
      "needs_background": "light"
     },
     "output_type": "display_data"
    }
   ],
   "source": [
    "hists ('PS3', 'Playstation 3', 'k')"
   ]
  },
  {
   "cell_type": "code",
   "execution_count": 33,
   "metadata": {},
   "outputs": [
    {
     "data": {
      "image/png": "[encoded data removed]",
      "text/plain": [
       "<Figure size 720x504 with 1 Axes>"
      ]
     },
     "metadata": {
      "needs_background": "light"
     },
     "output_type": "display_data"
    }
   ],
   "source": [
    "hists ('Wii', 'Nintendo Wii', 'c')"
   ]
  },
  {
   "cell_type": "code",
   "execution_count": 34,
   "metadata": {},
   "outputs": [
    {
     "data": {
      "image/png": "[encoded data removed]",
      "text/plain": [
       "<Figure size 720x504 with 1 Axes>"
      ]
     },
     "metadata": {
      "needs_background": "light"
     },
     "output_type": "display_data"
    }
   ],
   "source": [
    "hists ('DS', 'Nintendo DS', 'y')"
   ]
  },
  {
   "cell_type": "code",
   "execution_count": 35,
   "metadata": {},
   "outputs": [
    {
     "data": {
      "image/png": "[encoded data removed]",
      "text/plain": [
       "<Figure size 720x504 with 1 Axes>"
      ]
     },
     "metadata": {
      "needs_background": "light"
     },
     "output_type": "display_data"
    }
   ],
   "source": [
    "hists ('PS', 'Playstation 1', 'grey')"
   ]
  },
  {
   "cell_type": "markdown",
   "metadata": {},
   "source": [
    "Как видно из гистограмм, жизненный цикл консолей составляет в среднем до 10 лет, но основные продажи игр составляют всего 7-8 лет, в остальные года осуществляются остаточные продажи для тех, кто по каким-то причинам не приобрел консоль следующего поколения. Пик продаж приходится на третий - шестой года жизненного цикла консолей."
   ]
  },
  {
   "cell_type": "markdown",
   "metadata": {},
   "source": [
    "### Определение актуального периода и платформ"
   ]
  },
  {
   "cell_type": "markdown",
   "metadata": {},
   "source": [
    "Исходя из предыдущих данных можно сделать вывод, что определенные ранее самые популярные консоли для анализа нам не интересны в связи с неактуальностью, потому что их жизненный цикл уже закончен или заканчивается и они нам для прогноза продаж на 2017 г. не подойдут. Нужно определить наиболее актуальные платформы за 2014-2016 г., т.к. в конце 2013 г. появилось восьмое поколение консолей."
   ]
  },
  {
   "cell_type": "code",
   "execution_count": 36,
   "metadata": {},
   "outputs": [
    {
     "data": {
      "image/png": "[encoded data removed]",
      "text/plain": [
       "<Figure size 720x504 with 1 Axes>"
      ]
     },
     "metadata": {
      "needs_background": "light"
     },
     "output_type": "display_data"
    }
   ],
   "source": [
    "df.query('year_of_release >= 2014')\\\n",
    ".pivot_table(index='platform', values='total_sales', aggfunc='sum')\\\n",
    ".sort_values(by='total_sales', ascending=True)\\\n",
    ".plot(y='total_sales', kind='barh', figsize=(10,7), grid = True)\n",
    "plt.xlabel('Продано на платформе (млн. копий)', fontsize=12)\n",
    "plt.ylabel('Платформа', fontsize=12)\n",
    "plt.title('Продажи игр по платформам c 2014 г.', fontsize=13, fontweight='bold')\n",
    "plt.show()"
   ]
  },
  {
   "cell_type": "markdown",
   "metadata": {},
   "source": [
    "Как видим, самые популярные платформы в период с 2014 по 2016 г. составляют PS4, Xbox One, Nintendo 3DS, PS 3, Xbox 360, Nintendo Wii U, PC, PS Vita, Nintendo Wii и PSP. Как мы уже знаем, PS 3, Xbox 360, Nintendo Wii и PSP работают в данный период по принципу остаточных продаж, т.к. пик продаж на них остался далеко позади и при прогнозе на 2017 г. на них ориентироваться не стоит."
   ]
  },
  {
   "cell_type": "markdown",
   "metadata": {},
   "source": [
    "Для удобства создадим отдельный датасет с актуальными платформами."
   ]
  },
  {
   "cell_type": "code",
   "execution_count": 37,
   "metadata": {},
   "outputs": [],
   "source": [
    "top_df = df.query('year_of_release >= 2014 and platform == [\"PS4\", \"XOne\", \"WiiU\", \"3DS\", \"PC\", \"PSV\"]')"
   ]
  },
  {
   "cell_type": "code",
   "execution_count": 38,
   "metadata": {},
   "outputs": [
    {
     "data": {
      "image/png": "[encoded data removed]",
      "text/plain": [
       "<Figure size 720x504 with 1 Axes>"
      ]
     },
     "metadata": {
      "needs_background": "light"
     },
     "output_type": "display_data"
    }
   ],
   "source": [
    "top_df.pivot_table(index='year_of_release', columns='platform', values='total_sales', aggfunc='sum')\\\n",
    ".plot(figsize=(10,7), grid=True)\n",
    "plt.xlabel('Год релиза игры', fontsize=12)\n",
    "plt.ylabel('Продажи игр (млн. копий)', fontsize=12)\n",
    "plt.title('Продажи игр на актуальных платформах', fontsize=13, fontweight='bold')\n",
    "plt.xticks(np.arange(2014,2017,1))\n",
    "plt.show()"
   ]
  },
  {
   "cell_type": "markdown",
   "metadata": {},
   "source": [
    "Как видно, безоговорочным лидером по количеству проданных копий игр является Playstation 4. Следом почти с двукратным отрывом идет Xbox One. И только две эти платформы показывали рост проданных копий игр с 2014 г., у остальных платформ идет медленный спад количества продаж. Как видим, за 2016 г. по всем платформам уменьшилось количество проданных копий игр в сравнении с предыдущим годом, из чего можно сделать вывод, что данные в датасете представлены не за весь 2016 г., ведь в конце 2015 г. на PS4 вышла коллекция Uncharted, а в мае 2016 г. Uncharted 4, что должно было привести к увеличению проданных игр за 2016 г., а не к его снижению."
   ]
  },
  {
   "cell_type": "markdown",
   "metadata": {},
   "source": [
    "### Ящик с усами"
   ]
  },
  {
   "cell_type": "markdown",
   "metadata": {},
   "source": [
    "Построим \"ящик с усами\" по нашим актуальным игровым платформам."
   ]
  },
  {
   "cell_type": "code",
   "execution_count": 39,
   "metadata": {},
   "outputs": [
    {
     "data": {
      "image/png": "[encoded data removed]",
      "text/plain": [
       "<Figure size 1080x720 with 1 Axes>"
      ]
     },
     "metadata": {
      "needs_background": "light"
     },
     "output_type": "display_data"
    }
   ],
   "source": [
    "#построим boxplot в SeaBorn, т.к. он выглядит более красиво\n",
    "plt.figure(figsize=(15,10))\n",
    "sns.boxplot(data=top_df, x='platform', y='total_sales')\n",
    "plt.title('Boxplot', fontsize=13, fontweight='bold')\n",
    "plt.xlabel('Платформа', fontsize=12)\n",
    "plt.ylabel('Продажи (млн. копий)',fontsize=12)\n",
    "plt.ylim([0, 2])\n",
    "plt.show()"
   ]
  },
  {
   "cell_type": "markdown",
   "metadata": {},
   "source": [
    "Как видим, на PS4 продажи игр выше, чем на остальных платформах, что не удивительно, т.к. PS4 была самой популярной платформой в мире из актуальных платформ того времени.\n",
    "\n",
    "При этом медиана у Xbox One и Wii U находится чуть выше, потому что там в целом количество продаж ниже (XBOX больше всего популярна только в Северной Америке, а WiiU на азиатском рынке) и, соответственно, медиана будет находиться выше. \n",
    "\n",
    "Затем идут 3DS, PC и PS Vita. 3DS и PS Vita являются нишевыми продуктами направленными на портативный гейминг, поэтому в эпоху гейминга на смартфонах они пользуются популярностью в основном в Азии и на международном рынке представлены слабо. РС в данном рейтинге находится на такой низкой позиции, потому что на представленных в датасете рынках он не особо популярен, в отличие от РФ, Восточной Европы, Китая, Индии и многих других стран. Связано это с тем, что на консолях нет региональных цен на игры, в отличие от таковых в том же Steam и поэтому на развивающихся рынках выходит дешевле играть на PC."
   ]
  },
  {
   "cell_type": "markdown",
   "metadata": {},
   "source": [
    "### Как влияют на продажи внутри одной популярной платформы отзывы пользователей и критиков"
   ]
  },
  {
   "cell_type": "markdown",
   "metadata": {},
   "source": [
    "Итак, исходя из гистограмм и \"ящика с усами\" мы пришли к выводу, что самой популярной из актуальных платформ является PlayStation 4. Проверим, как влияют на продажи внутри PS4 отзывы пользователей и критиков."
   ]
  },
  {
   "cell_type": "code",
   "execution_count": 40,
   "metadata": {},
   "outputs": [
    {
     "data": {
      "image/png": "[encoded data removed]",
      "text/plain": [
       "<Figure size 864x576 with 1 Axes>"
      ]
     },
     "metadata": {
      "needs_background": "light"
     },
     "output_type": "display_data"
    }
   ],
   "source": [
    "#для начала построим диаграмму рассеяния для оценок пользователей\n",
    "plt.figure(figsize=(12,8))\n",
    "sns.scatterplot(x='user_score', y='total_sales', data=df.query('platform == \"PS4\"'))\n",
    "plt.title('Оценки пользователей на PlayStation 4', fontsize=13, fontweight='bold')\n",
    "plt.xlabel('Оценка игроков', fontsize=12)\n",
    "plt.ylabel('Продажи (млн. копий)',fontsize=12)\n",
    "plt.show()"
   ]
  },
  {
   "cell_type": "markdown",
   "metadata": {},
   "source": [
    "Как видим по диаграмме, особой зависимости между оценкой пользователей и количеством проданных копий игр нет."
   ]
  },
  {
   "cell_type": "code",
   "execution_count": 41,
   "metadata": {},
   "outputs": [
    {
     "data": {
      "image/png": "[encoded data removed]",
      "text/plain": [
       "<Figure size 864x576 with 1 Axes>"
      ]
     },
     "metadata": {
      "needs_background": "light"
     },
     "output_type": "display_data"
    }
   ],
   "source": [
    "#теперь рассмотрим зависимость между оценкой критиков и продажами игр\n",
    "#для начала построим диаграмму рассеяния для оценок пользователей\n",
    "plt.figure(figsize=(12,8))\n",
    "sns.scatterplot(x='critic_score', y='total_sales', data=df.query('platform == \"PS4\"'))\n",
    "plt.title('Оценки критиков на PlayStation 4', fontsize=13, fontweight='bold')\n",
    "plt.xlabel('Оценка критиков', fontsize=12)\n",
    "plt.ylabel('Продажи (млн. копий)',fontsize=12)\n",
    "plt.show()"
   ]
  },
  {
   "cell_type": "markdown",
   "metadata": {},
   "source": [
    "Здесь уже видная бОльшая взаимосвязь между оценкой критиков и количеством продаж.\n",
    "\n",
    "Теперь рассмотрим корреляцию между оценками и продажами."
   ]
  },
  {
   "cell_type": "code",
   "execution_count": 42,
   "metadata": {},
   "outputs": [
    {
     "data": {
      "text/html": [
       "<div>\n",
       "<style scoped>\n",
       "    .dataframe tbody tr th:only-of-type {\n",
       "        vertical-align: middle;\n",
       "    }\n",
       "\n",
       "    .dataframe tbody tr th {\n",
       "        vertical-align: top;\n",
       "    }\n",
       "\n",
       "    .dataframe thead th {\n",
       "        text-align: right;\n",
       "    }\n",
       "</style>\n",
       "<table border=\"1\" class=\"dataframe\">\n",
       "  <thead>\n",
       "    <tr style=\"text-align: right;\">\n",
       "      <th></th>\n",
       "      <th>total_sales</th>\n",
       "      <th>critic_score</th>\n",
       "      <th>user_score</th>\n",
       "    </tr>\n",
       "  </thead>\n",
       "  <tbody>\n",
       "    <tr>\n",
       "      <td>total_sales</td>\n",
       "      <td>1.000000</td>\n",
       "      <td>0.406568</td>\n",
       "      <td>-0.031957</td>\n",
       "    </tr>\n",
       "    <tr>\n",
       "      <td>critic_score</td>\n",
       "      <td>0.406568</td>\n",
       "      <td>1.000000</td>\n",
       "      <td>0.557654</td>\n",
       "    </tr>\n",
       "    <tr>\n",
       "      <td>user_score</td>\n",
       "      <td>-0.031957</td>\n",
       "      <td>0.557654</td>\n",
       "      <td>1.000000</td>\n",
       "    </tr>\n",
       "  </tbody>\n",
       "</table>\n",
       "</div>"
      ],
      "text/plain": [
       "              total_sales  critic_score  user_score\n",
       "total_sales      1.000000      0.406568   -0.031957\n",
       "critic_score     0.406568      1.000000    0.557654\n",
       "user_score      -0.031957      0.557654    1.000000"
      ]
     },
     "execution_count": 42,
     "metadata": {},
     "output_type": "execute_result"
    }
   ],
   "source": [
    "df.query('platform == \"PS4\"')[['total_sales', 'critic_score','user_score']].corr()"
   ]
  },
  {
   "cell_type": "code",
   "execution_count": 43,
   "metadata": {},
   "outputs": [
    {
     "data": {
      "image/png": "[encoded data removed]",
      "text/plain": [
       "<Figure size 504x504 with 2 Axes>"
      ]
     },
     "metadata": {
      "needs_background": "light"
     },
     "output_type": "display_data"
    }
   ],
   "source": [
    "#и визуализируем корреляцию\n",
    "plt.figure(figsize=(7,7))\n",
    "sns.heatmap(df.query('platform == \"PS4\"')\n",
    "            [['total_sales', 'critic_score','user_score']]\n",
    "            .corr(), cmap='RdYlGn', annot=True)\n",
    "plt.title('Корреляция между оценками и продажами на PlayStation 4')\n",
    "plt.show()"
   ]
  },
  {
   "cell_type": "markdown",
   "metadata": {},
   "source": [
    "Данные из `Heatmap` подтвердили, что между оценками пользователей и количеством проданных копий игр вообще нет связи, а вот оценки критиков оказывают несущественное влияние на продажи игр.\n",
    "\n",
    "Посмотрим на ситуацию с корреляцией на других актуальных платформах, исключив из данных PlayStation 4."
   ]
  },
  {
   "cell_type": "code",
   "execution_count": 44,
   "metadata": {},
   "outputs": [
    {
     "data": {
      "image/png": "[encoded data removed]",
      "text/plain": [
       "<Figure size 864x576 with 1 Axes>"
      ]
     },
     "metadata": {
      "needs_background": "light"
     },
     "output_type": "display_data"
    }
   ],
   "source": [
    "plt.figure(figsize=(12,8))\n",
    "sns.scatterplot(x='user_score', y='total_sales', data=df.query('platform != \"PS4\"'))\n",
    "plt.title('Оценки пользователей на всех актуальных платформах', fontsize=13, fontweight='bold')\n",
    "plt.xlabel('Оценка игроков', fontsize=12)\n",
    "plt.ylabel('Продажи (млн. копий)',fontsize=12)\n",
    "plt.ylim([0, 20])\n",
    "plt.show()"
   ]
  },
  {
   "cell_type": "code",
   "execution_count": 45,
   "metadata": {},
   "outputs": [
    {
     "data": {
      "image/png": "[encoded data removed]",
      "text/plain": [
       "<Figure size 864x576 with 1 Axes>"
      ]
     },
     "metadata": {
      "needs_background": "light"
     },
     "output_type": "display_data"
    }
   ],
   "source": [
    "plt.figure(figsize=(12,8))\n",
    "sns.scatterplot(x='critic_score', y='total_sales', data=df.query('platform != \"PS4\"'))\n",
    "plt.title('Оценки критиков на всех актуальных платформах', fontsize=13, fontweight='bold')\n",
    "plt.xlabel('Оценка критиков', fontsize=12)\n",
    "plt.ylabel('Продажи (млн. копий)',fontsize=12)\n",
    "plt.ylim([0, 20])\n",
    "plt.show()"
   ]
  },
  {
   "cell_type": "code",
   "execution_count": 46,
   "metadata": {},
   "outputs": [
    {
     "data": {
      "text/html": [
       "<div>\n",
       "<style scoped>\n",
       "    .dataframe tbody tr th:only-of-type {\n",
       "        vertical-align: middle;\n",
       "    }\n",
       "\n",
       "    .dataframe tbody tr th {\n",
       "        vertical-align: top;\n",
       "    }\n",
       "\n",
       "    .dataframe thead th {\n",
       "        text-align: right;\n",
       "    }\n",
       "</style>\n",
       "<table border=\"1\" class=\"dataframe\">\n",
       "  <thead>\n",
       "    <tr style=\"text-align: right;\">\n",
       "      <th></th>\n",
       "      <th>total_sales</th>\n",
       "      <th>critic_score</th>\n",
       "      <th>user_score</th>\n",
       "    </tr>\n",
       "  </thead>\n",
       "  <tbody>\n",
       "    <tr>\n",
       "      <td>total_sales</td>\n",
       "      <td>1.000000</td>\n",
       "      <td>0.240339</td>\n",
       "      <td>0.092717</td>\n",
       "    </tr>\n",
       "    <tr>\n",
       "      <td>critic_score</td>\n",
       "      <td>0.240339</td>\n",
       "      <td>1.000000</td>\n",
       "      <td>0.583367</td>\n",
       "    </tr>\n",
       "    <tr>\n",
       "      <td>user_score</td>\n",
       "      <td>0.092717</td>\n",
       "      <td>0.583367</td>\n",
       "      <td>1.000000</td>\n",
       "    </tr>\n",
       "  </tbody>\n",
       "</table>\n",
       "</div>"
      ],
      "text/plain": [
       "              total_sales  critic_score  user_score\n",
       "total_sales      1.000000      0.240339    0.092717\n",
       "critic_score     0.240339      1.000000    0.583367\n",
       "user_score       0.092717      0.583367    1.000000"
      ]
     },
     "execution_count": 46,
     "metadata": {},
     "output_type": "execute_result"
    }
   ],
   "source": [
    "df.query('platform != \"PS4\"')[['total_sales', 'critic_score','user_score']].corr()"
   ]
  },
  {
   "cell_type": "code",
   "execution_count": 47,
   "metadata": {},
   "outputs": [
    {
     "data": {
      "image/png": "[encoded data removed]",
      "text/plain": [
       "<Figure size 504x504 with 2 Axes>"
      ]
     },
     "metadata": {
      "needs_background": "light"
     },
     "output_type": "display_data"
    }
   ],
   "source": [
    "plt.figure(figsize=(7,7))\n",
    "sns.heatmap(df.query('platform != \"PS4\"')\n",
    "            [['total_sales', 'critic_score','user_score']]\n",
    "            .corr(), cmap='RdYlGn', annot=True)\n",
    "plt.title('Корреляция между оценками и продажами на всех актуальных платформах')\n",
    "plt.show()"
   ]
  },
  {
   "cell_type": "markdown",
   "metadata": {},
   "source": [
    "Видно, что по всем актуальная платформам зависимость между оценкой критиков и количеством проданных копий еще ниже, пользовательская оценка также не оказывает никакого влияния на продажи."
   ]
  },
  {
   "cell_type": "markdown",
   "metadata": {},
   "source": [
    "### Распределение игр по жанрам"
   ]
  },
  {
   "cell_type": "code",
   "execution_count": 48,
   "metadata": {},
   "outputs": [
    {
     "data": {
      "image/png": "[encoded data removed]",
      "text/plain": [
       "<Figure size 720x504 with 1 Axes>"
      ]
     },
     "metadata": {
      "needs_background": "light"
     },
     "output_type": "display_data"
    }
   ],
   "source": [
    "top_df.pivot_table(index='genre', values='total_sales', aggfunc='sum')\\\n",
    ".sort_values(by='total_sales', ascending=False)\\\n",
    ".plot(y='total_sales', kind='bar', color=np.random.rand(12,3), figsize=(10,7))\n",
    "plt.xlabel('Жанр игры', fontsize=12)\n",
    "plt.ylabel('Продажи (млн. копий)', fontsize=12)\n",
    "plt.title('Количество продаж игр по жанрам', fontsize=13, fontweight='bold')\n",
    "plt.show()"
   ]
  },
  {
   "cell_type": "markdown",
   "metadata": {},
   "source": [
    "Как и ожидалось, самые популярные жанры на актуальных платформах - шутер, экшен и РПГ. Самые непопулярные жанры - симуляторы, стратегии и игры-паззлы. Это всё объясняется тем, что основные продажи приходятся на консоли, а там как раз симуляторы, стратегии и игры-паззлы не пользуются популярностью, в отличие от PC."
   ]
  },
  {
   "cell_type": "markdown",
   "metadata": {},
   "source": [
    "Посмотрим на количество выпускаемых игр по жанрам."
   ]
  },
  {
   "cell_type": "code",
   "execution_count": 49,
   "metadata": {},
   "outputs": [
    {
     "data": {
      "image/png": "[encoded data removed]",
      "text/plain": [
       "<Figure size 720x504 with 1 Axes>"
      ]
     },
     "metadata": {
      "needs_background": "light"
     },
     "output_type": "display_data"
    }
   ],
   "source": [
    "top_df.pivot_table(index='genre', values='name', aggfunc='count')\\\n",
    ".sort_values(by='name', ascending=False)\\\n",
    ".plot(y='name', kind='bar', color=np.random.rand(12,3), figsize=(10,7))\n",
    "plt.xlabel('Жанр игры', fontsize=12)\n",
    "plt.ylabel('Количество игр', fontsize=12)\n",
    "plt.title('Количество выпущенных игр по жанрам', fontsize=13, fontweight='bold')\n",
    "plt.show()"
   ]
  },
  {
   "cell_type": "markdown",
   "metadata": {},
   "source": [
    "По количеству выпущенных игр безоговорочно лидирует `Action`, потому что под эту категорию подходит большое множество совершенно разнообразных игр. А вот количество выпущенных шутеров в 3 раза меньше, чем экшенов, но при этом по количеству проданных копий они находятся почти на одном уровне."
   ]
  },
  {
   "cell_type": "markdown",
   "metadata": {},
   "source": [
    "### Вывод по разделу"
   ]
  },
  {
   "cell_type": "markdown",
   "metadata": {},
   "source": [
    "1. До 1995 года игры выпускались в небольших количествах. С 1995 года пошел рост количества игровых релизов в год. В 2002 произошел скачок количества игровых релизов практически в 2 раза, что можно связать с набравшей популярность среди игроков и разработчиков игр Playstation 2.\n",
    "2. Пик количества игровых релизов пришелся на 2008-2009 г. После пика происходит достаточно резкое снижение количества выпущенных игр в 2012 г., что можно связать и с закатом поколения Playstation 3/Xbox 360 и с набирающим популярность сегментом мобильных игр, которые на сегодняшний день по оборотам обходят весь суммарный сегмент PC и консольных игр вместе взятых.\n",
    "2. Больше всего продано игр было на Playstation 2. На втором месте Xbox 360, а следом разместились Playstation 3, Nintendo Wii и DS, а также Playstation 1.\n",
    "3. Жизненный цикл консолей составляет в среднем до 10 лет, но основные продажи игр составляют всего 7-8 лет, а пик продаж приходится на третий - шестой года жизненного цикла консолей.\n",
    "4. Определенные выше самые популярные консоли для анализа нам не интересны в связи с неактуальностью, потому что их жизненный цикл уже заканчивается или закончен и они нам для прогноза продаж на 2017 г. не подойдут.\n",
    "5. Самые популярные платформы в период с 2014 по 2016 г. составляют `PS4`, `Xbox One`, `Nintendo 3DS`, PS 3, Xbox 360, `Nintendo Wii U`, `PC`, `PS Vita`, Nintendo Wii и PSP. Как мы уже знаем, PS 3, Xbox 360, Nintendo Wii и PSP работают в данный период по принципу остаточных продаж, т.к. пик продаж на них остался далеко позади и при прогнозе на 2017 г. на них ориентироваться не стоит.\n",
    "6. На PS4 продажи игр выше, чем на остальных платформах, поэтому ее и будем рассматривать как самую популярную актуальную платформу. \n",
    "7. Между оценками пользователей и количеством проданных копий игр вообще нет связи, а вот оценки критиков оказывают несущественное влияние на продажи игр.\n",
    "8. Самые популярные жанры на актуальных платформах - экшен, шутер и РПГ. Самые непопулярные жанры - симуляторы, стратегии и игры-паззлы. При этом самым продаваемым жанром является шутер."
   ]
  },
  {
   "cell_type": "markdown",
   "metadata": {},
   "source": [
    "## Портрет пользователя каждого региона"
   ]
  },
  {
   "cell_type": "markdown",
   "metadata": {},
   "source": [
    "На этом шаге определим для пользователя каждого региона (NA, EU, JP):\n",
    "- Самые популярные платформы (топ-5).\n",
    "- Самые популярные жанры (топ-5).\n",
    "- Влияет ли рейтинг ESRB на продажи в отдельном регионе?"
   ]
  },
  {
   "cell_type": "markdown",
   "metadata": {},
   "source": [
    "### Самые популярные платформы"
   ]
  },
  {
   "cell_type": "code",
   "execution_count": 50,
   "metadata": {},
   "outputs": [
    {
     "data": {
      "text/html": [
       "<div>\n",
       "<style scoped>\n",
       "    .dataframe tbody tr th:only-of-type {\n",
       "        vertical-align: middle;\n",
       "    }\n",
       "\n",
       "    .dataframe tbody tr th {\n",
       "        vertical-align: top;\n",
       "    }\n",
       "\n",
       "    .dataframe thead th {\n",
       "        text-align: right;\n",
       "    }\n",
       "</style>\n",
       "<table border=\"1\" class=\"dataframe\">\n",
       "  <thead>\n",
       "    <tr style=\"text-align: right;\">\n",
       "      <th></th>\n",
       "      <th>eu_sales</th>\n",
       "      <th>jp_sales</th>\n",
       "      <th>na_sales</th>\n",
       "    </tr>\n",
       "    <tr>\n",
       "      <th>platform</th>\n",
       "      <th></th>\n",
       "      <th></th>\n",
       "      <th></th>\n",
       "    </tr>\n",
       "  </thead>\n",
       "  <tbody>\n",
       "    <tr>\n",
       "      <td>3DS</td>\n",
       "      <td>16.12</td>\n",
       "      <td>44.24</td>\n",
       "      <td>22.64</td>\n",
       "    </tr>\n",
       "    <tr>\n",
       "      <td>PC</td>\n",
       "      <td>17.97</td>\n",
       "      <td>0.00</td>\n",
       "      <td>7.23</td>\n",
       "    </tr>\n",
       "    <tr>\n",
       "      <td>PS4</td>\n",
       "      <td>130.04</td>\n",
       "      <td>15.02</td>\n",
       "      <td>98.61</td>\n",
       "    </tr>\n",
       "    <tr>\n",
       "      <td>PSV</td>\n",
       "      <td>3.53</td>\n",
       "      <td>14.54</td>\n",
       "      <td>2.52</td>\n",
       "    </tr>\n",
       "    <tr>\n",
       "      <td>WiiU</td>\n",
       "      <td>13.15</td>\n",
       "      <td>7.31</td>\n",
       "      <td>19.36</td>\n",
       "    </tr>\n",
       "    <tr>\n",
       "      <td>XOne</td>\n",
       "      <td>46.25</td>\n",
       "      <td>0.32</td>\n",
       "      <td>81.27</td>\n",
       "    </tr>\n",
       "  </tbody>\n",
       "</table>\n",
       "</div>"
      ],
      "text/plain": [
       "          eu_sales  jp_sales  na_sales\n",
       "platform                              \n",
       "3DS          16.12     44.24     22.64\n",
       "PC           17.97      0.00      7.23\n",
       "PS4         130.04     15.02     98.61\n",
       "PSV           3.53     14.54      2.52\n",
       "WiiU         13.15      7.31     19.36\n",
       "XOne         46.25      0.32     81.27"
      ]
     },
     "execution_count": 50,
     "metadata": {},
     "output_type": "execute_result"
    }
   ],
   "source": [
    "regions = top_df.pivot_table(index='platform', values=('na_sales', 'eu_sales','jp_sales'), aggfunc='sum')\n",
    "regions"
   ]
  },
  {
   "cell_type": "code",
   "execution_count": 51,
   "metadata": {},
   "outputs": [
    {
     "data": {
      "image/png": "[encoded data removed]",
      "text/plain": [
       "<Figure size 1440x720 with 3 Axes>"
      ]
     },
     "metadata": {
      "needs_background": "light"
     },
     "output_type": "display_data"
    }
   ],
   "source": [
    "#посмотрим на топ-5 жанров по регионам\n",
    "fig, axes = plt.subplots(1, 3, figsize=(20, 10))\n",
    "\n",
    "regions.sort_values(by ='na_sales', ascending=False).head(5)\\\n",
    ".plot(ax=axes[0], y='na_sales', kind='bar', title='Продажи в Северной Америке')\n",
    "\n",
    "regions.sort_values(by ='eu_sales', ascending=False).head(5)\\\n",
    ".plot(ax=axes[1], y='eu_sales', kind='bar', title='Продажи в Европе')\n",
    "\n",
    "regions.sort_values(by ='jp_sales', ascending=False).head(5)\\\n",
    ".plot(ax=axes[2], y='jp_sales', kind='bar', title='Продажи в Японии')\n",
    "plt.show()"
   ]
  },
  {
   "cell_type": "markdown",
   "metadata": {},
   "source": [
    "Из этих данных мы видим, что рынки Северной Америки и Европы похожи и лидирующее место на этих рынках занимает PlayStation 4, а на втором месте идет Xbox One.\n",
    "\n",
    "Но если в Америке PS4 опережает XOne всего на 17 %, то в Европе PS4 опережает XOne почти в 3 раза.\n",
    "\n",
    "Третье место в Европе занимает PC, видимо благодаря Германии и Восточной Европе, потому что в этих странах PC составляет подавляющую роль среди игровых платформ, а вот в Америке РС не пользуется популярностью, потому что там больше играют на консолях.\n",
    "\n",
    "В Японии сформирован другой рынок, на котором доминируют японские игровые платформы от Sony и Nintendo и преобладает портативный гейминг, поэтому на данный момент в Японии Nintendo Switch больше, чем всех остальных игровых платформ вместе взятых."
   ]
  },
  {
   "cell_type": "markdown",
   "metadata": {},
   "source": [
    "### Самые популярные жанры"
   ]
  },
  {
   "cell_type": "code",
   "execution_count": 52,
   "metadata": {},
   "outputs": [
    {
     "data": {
      "text/html": [
       "<div>\n",
       "<style scoped>\n",
       "    .dataframe tbody tr th:only-of-type {\n",
       "        vertical-align: middle;\n",
       "    }\n",
       "\n",
       "    .dataframe tbody tr th {\n",
       "        vertical-align: top;\n",
       "    }\n",
       "\n",
       "    .dataframe thead th {\n",
       "        text-align: right;\n",
       "    }\n",
       "</style>\n",
       "<table border=\"1\" class=\"dataframe\">\n",
       "  <thead>\n",
       "    <tr style=\"text-align: right;\">\n",
       "      <th></th>\n",
       "      <th>eu_sales</th>\n",
       "      <th>jp_sales</th>\n",
       "      <th>na_sales</th>\n",
       "    </tr>\n",
       "    <tr>\n",
       "      <th>genre</th>\n",
       "      <th></th>\n",
       "      <th></th>\n",
       "      <th></th>\n",
       "    </tr>\n",
       "  </thead>\n",
       "  <tbody>\n",
       "    <tr>\n",
       "      <td>Action</td>\n",
       "      <td>63.49</td>\n",
       "      <td>24.71</td>\n",
       "      <td>60.16</td>\n",
       "    </tr>\n",
       "    <tr>\n",
       "      <td>Adventure</td>\n",
       "      <td>4.96</td>\n",
       "      <td>3.18</td>\n",
       "      <td>3.92</td>\n",
       "    </tr>\n",
       "    <tr>\n",
       "      <td>Fighting</td>\n",
       "      <td>6.03</td>\n",
       "      <td>5.01</td>\n",
       "      <td>11.23</td>\n",
       "    </tr>\n",
       "    <tr>\n",
       "      <td>Misc</td>\n",
       "      <td>8.38</td>\n",
       "      <td>5.17</td>\n",
       "      <td>10.26</td>\n",
       "    </tr>\n",
       "    <tr>\n",
       "      <td>Platform</td>\n",
       "      <td>6.35</td>\n",
       "      <td>2.67</td>\n",
       "      <td>6.45</td>\n",
       "    </tr>\n",
       "    <tr>\n",
       "      <td>Puzzle</td>\n",
       "      <td>0.52</td>\n",
       "      <td>0.89</td>\n",
       "      <td>0.65</td>\n",
       "    </tr>\n",
       "    <tr>\n",
       "      <td>Racing</td>\n",
       "      <td>12.92</td>\n",
       "      <td>1.64</td>\n",
       "      <td>7.72</td>\n",
       "    </tr>\n",
       "    <tr>\n",
       "      <td>Role-Playing</td>\n",
       "      <td>25.94</td>\n",
       "      <td>28.70</td>\n",
       "      <td>29.74</td>\n",
       "    </tr>\n",
       "    <tr>\n",
       "      <td>Shooter</td>\n",
       "      <td>56.23</td>\n",
       "      <td>4.21</td>\n",
       "      <td>66.29</td>\n",
       "    </tr>\n",
       "    <tr>\n",
       "      <td>Simulation</td>\n",
       "      <td>6.97</td>\n",
       "      <td>2.29</td>\n",
       "      <td>2.27</td>\n",
       "    </tr>\n",
       "    <tr>\n",
       "      <td>Sports</td>\n",
       "      <td>33.48</td>\n",
       "      <td>2.07</td>\n",
       "      <td>31.96</td>\n",
       "    </tr>\n",
       "    <tr>\n",
       "      <td>Strategy</td>\n",
       "      <td>1.79</td>\n",
       "      <td>0.89</td>\n",
       "      <td>0.98</td>\n",
       "    </tr>\n",
       "  </tbody>\n",
       "</table>\n",
       "</div>"
      ],
      "text/plain": [
       "              eu_sales  jp_sales  na_sales\n",
       "genre                                     \n",
       "Action           63.49     24.71     60.16\n",
       "Adventure         4.96      3.18      3.92\n",
       "Fighting          6.03      5.01     11.23\n",
       "Misc              8.38      5.17     10.26\n",
       "Platform          6.35      2.67      6.45\n",
       "Puzzle            0.52      0.89      0.65\n",
       "Racing           12.92      1.64      7.72\n",
       "Role-Playing     25.94     28.70     29.74\n",
       "Shooter          56.23      4.21     66.29\n",
       "Simulation        6.97      2.29      2.27\n",
       "Sports           33.48      2.07     31.96\n",
       "Strategy          1.79      0.89      0.98"
      ]
     },
     "execution_count": 52,
     "metadata": {},
     "output_type": "execute_result"
    }
   ],
   "source": [
    "reg_genre = top_df.pivot_table(index='genre', values=('na_sales', 'eu_sales','jp_sales'), aggfunc='sum')\n",
    "reg_genre"
   ]
  },
  {
   "cell_type": "markdown",
   "metadata": {},
   "source": [
    "Рассмотрим топ-5 жанров по регионам."
   ]
  },
  {
   "cell_type": "code",
   "execution_count": 53,
   "metadata": {},
   "outputs": [
    {
     "data": {
      "image/png": "[encoded data removed]",
      "text/plain": [
       "<Figure size 1584x720 with 3 Axes>"
      ]
     },
     "metadata": {
      "needs_background": "light"
     },
     "output_type": "display_data"
    }
   ],
   "source": [
    "fig, axes = plt.subplots(1, 3, figsize=(22, 10))\n",
    "\n",
    "reg_genre.sort_values(by ='na_sales', ascending=False).head(5)\\\n",
    ".plot(ax=axes[0], y='na_sales', kind='barh', color='g', title='Топ жанров в Северной Америке')\n",
    "\n",
    "reg_genre.sort_values(by ='eu_sales', ascending=False).head(5)\\\n",
    ".plot(ax=axes[1], y='eu_sales', kind='barh', color='b', title='Топ жанров в Европе')\n",
    "\n",
    "reg_genre.sort_values(by ='jp_sales', ascending=False).head(5)\\\n",
    ".plot(ax=axes[2], y='jp_sales', kind='barh', color='r', title='Топ жанров в Японии')\n",
    "plt.show()"
   ]
  },
  {
   "cell_type": "markdown",
   "metadata": {},
   "source": [
    "Как видно, в Европе и Северной Америке ситуация снова очень похожа: там лидируют шутеры, экшены, спортивные игры, РПГ и только на 5 месте есть различия - в Америке более популярны файтинги, а в Европе гонки.\n",
    "\n",
    "Япония снова идет по своему пути и там самым популярным жанром являются РПГ (JRPG и MMORPG), потом идут экшены, misc (игры, которые не подходят под какой-то определенный жанр), файтинги и замыкают пятерку шутеры. \n",
    "\n",
    "Плюс в Японии отрыв между вторым местом (экшен) и третьим местом (misc) составляет примерно 5 раз, в то время как в Европе и Северной Америке убывание популярностей жанров идет в более плавном порядке."
   ]
  },
  {
   "cell_type": "markdown",
   "metadata": {},
   "source": [
    "### Влияет ли рейтинг ESRB на продажи в отдельном регионе?"
   ]
  },
  {
   "cell_type": "code",
   "execution_count": 54,
   "metadata": {},
   "outputs": [
    {
     "data": {
      "text/html": [
       "<div>\n",
       "<style scoped>\n",
       "    .dataframe tbody tr th:only-of-type {\n",
       "        vertical-align: middle;\n",
       "    }\n",
       "\n",
       "    .dataframe tbody tr th {\n",
       "        vertical-align: top;\n",
       "    }\n",
       "\n",
       "    .dataframe thead th {\n",
       "        text-align: right;\n",
       "    }\n",
       "</style>\n",
       "<table border=\"1\" class=\"dataframe\">\n",
       "  <thead>\n",
       "    <tr style=\"text-align: right;\">\n",
       "      <th></th>\n",
       "      <th>eu_sales</th>\n",
       "      <th>jp_sales</th>\n",
       "      <th>na_sales</th>\n",
       "    </tr>\n",
       "    <tr>\n",
       "      <th>rating</th>\n",
       "      <th></th>\n",
       "      <th></th>\n",
       "      <th></th>\n",
       "    </tr>\n",
       "  </thead>\n",
       "  <tbody>\n",
       "    <tr>\n",
       "      <td>E</td>\n",
       "      <td>45.90</td>\n",
       "      <td>8.29</td>\n",
       "      <td>37.65</td>\n",
       "    </tr>\n",
       "    <tr>\n",
       "      <td>E10+</td>\n",
       "      <td>17.89</td>\n",
       "      <td>4.32</td>\n",
       "      <td>23.53</td>\n",
       "    </tr>\n",
       "    <tr>\n",
       "      <td>M</td>\n",
       "      <td>82.38</td>\n",
       "      <td>6.40</td>\n",
       "      <td>82.23</td>\n",
       "    </tr>\n",
       "    <tr>\n",
       "      <td>T</td>\n",
       "      <td>30.09</td>\n",
       "      <td>11.99</td>\n",
       "      <td>32.46</td>\n",
       "    </tr>\n",
       "    <tr>\n",
       "      <td>no_rating</td>\n",
       "      <td>50.80</td>\n",
       "      <td>50.43</td>\n",
       "      <td>55.76</td>\n",
       "    </tr>\n",
       "  </tbody>\n",
       "</table>\n",
       "</div>"
      ],
      "text/plain": [
       "           eu_sales  jp_sales  na_sales\n",
       "rating                                 \n",
       "E             45.90      8.29     37.65\n",
       "E10+          17.89      4.32     23.53\n",
       "M             82.38      6.40     82.23\n",
       "T             30.09     11.99     32.46\n",
       "no_rating     50.80     50.43     55.76"
      ]
     },
     "execution_count": 54,
     "metadata": {},
     "output_type": "execute_result"
    }
   ],
   "source": [
    "esrb = top_df.pivot_table(index = ['rating'], values = ('na_sales', 'eu_sales','jp_sales'), aggfunc = 'sum')\n",
    "esrb"
   ]
  },
  {
   "cell_type": "markdown",
   "metadata": {},
   "source": [
    "Напомним, что:\n",
    "`E` — Everyone - «Для всех»: Содержание вполне подходит для возрастной категории от 6 лет.\n",
    "\n",
    "`E10+` — Everyone 10+ (Первоначально \"K-A\") - «Для всех от 10 лет и старше»: Проекты с данным рейтингом могут содержать или немного больше мультипликационного или мягкого насилия, или несколько откровенные сцены, или минимальное количество крови.\n",
    "\n",
    "`T` — Teen - «Подросткам»: Игра подходит для лиц от 13 лет. Проекты из данной категории могут содержать насилие, непристойные сцены, грубый юмор, в меру откровенное сексуальное содержимое, кровь или нечастое использование ненормативной лексики.\n",
    "\n",
    "`M` — Mature - «Для взрослых»: Материалы игры не подходят для подростков младше 17 лет."
   ]
  },
  {
   "cell_type": "markdown",
   "metadata": {},
   "source": [
    "Рассмотрим количество продаж по рейтингу в разных регионах."
   ]
  },
  {
   "cell_type": "code",
   "execution_count": 55,
   "metadata": {},
   "outputs": [
    {
     "data": {
      "image/png": "[encoded data removed]",
      "text/plain": [
       "<Figure size 1440x720 with 3 Axes>"
      ]
     },
     "metadata": {
      "needs_background": "light"
     },
     "output_type": "display_data"
    }
   ],
   "source": [
    "fig, axes = plt.subplots(1, 3, figsize=(20, 10))\n",
    "\n",
    "esrb.sort_values(by ='na_sales', ascending=True)\\\n",
    ".plot(ax=axes[0], y='na_sales', kind='barh', color='g', title='Рейтинги в Северной Америке (продажи)')\n",
    "\n",
    "esrb.sort_values(by ='eu_sales', ascending=True).head(5)\\\n",
    ".plot(ax=axes[1], y='eu_sales', kind='barh', color='b', title='Рейтинги в Европе (продажи)')\n",
    "\n",
    "esrb.sort_values(by ='jp_sales', ascending=True).head(5)\\\n",
    ".plot(ax=axes[2], y='jp_sales', kind='barh', color='r', title='Рейтинги в Японии (продажи)')\n",
    "plt.show()"
   ]
  },
  {
   "cell_type": "markdown",
   "metadata": {},
   "source": [
    "И снова видим, что продажи игр в зависимости от рейтинга в Северной Америке и Европе полностью совпадают: на первом месте игры с рейтингом `Mature - «Для взрослых»`, что говорит о взрослой играющей аудитории и любви к шутерам и экшенам (где зачастую используется самый взрослый рейтинг), на втором месте идут игры без рейтинга, что возможно, т.к. компании-разработчики не обязаны предоставлять игру на определение рейтинга до начала официальных продаж и рейтинг может быть присвоен позже, а в выгрузку эти рейтинги потом не добавили. Затем с отставанием почти в 2 раза от игр с рейтингом `M` идут игры с рейтингом `Everyone - «Для всех»`, а далее идут игры для подростков и для детей от 10 лет.\n",
    "\n",
    "Японский рынок снова отличается и там лидируют игры без рейтинга ESRB, т.к. это северо-американская компания и в Японии ею промаркированы игры, которые выходили в Северной Америке. А т.к. японский рынок самобытен, там есть собственная рейтинговая организация (CERO) и подавляющее большинство составляют японские игры, поэтому там так много игр без присвоенного рейтинга ESRB. Самым популярным рейтингом из игр, оцененных ESRB, в Японии является рейтинг `Teen - «Подросткам»`, что как раз подразумевает популярность менее кровавых и жестоких (по сравнению с шутерами и экшенами) RPG и говорит нам о более молодой играющей аудитории, затем идут игры с рейтингом `Everyone - «Для всех»`, затем игры `Mature - «Для взрослых»` и замыкают список игры для подростков и для детей от 10 лет."
   ]
  },
  {
   "cell_type": "markdown",
   "metadata": {},
   "source": [
    "### Вывод по разделу"
   ]
  },
  {
   "cell_type": "markdown",
   "metadata": {},
   "source": [
    "1. В целом, игровые рынки Европы и Северной Америки очень похожи, там популярны одни и те же домашние платформы, жанры игр и игры с определенным рейтингом ESRB. Среди платформ там лидируют PlayStation 4 и Xbox One, среди жанров экшены и шутеры, а самый популярный рейтинг игр `M — Mature - «Для взрослых»`.\n",
    "2. В Японии сформирован другой игровой рынок, направленный на портативный гейминг, т.к. там лидирует Nintendo 3DS, а также популярны ролевые игры от внутренних разработчиков (JRPG) и с рейтингом `Teen - «Подросткам»`."
   ]
  },
  {
   "cell_type": "markdown",
   "metadata": {},
   "source": [
    "## Проверка гипотез"
   ]
  },
  {
   "cell_type": "markdown",
   "metadata": {},
   "source": [
    "### Средние пользовательские рейтинги платформ Xbox One и PC одинаковые"
   ]
  },
  {
   "cell_type": "markdown",
   "metadata": {},
   "source": [
    " Сформулируем нулевую и альтернативную гипотезы. В нулевой гипотезе должен присутствовать знак равенства, следовательно:\n",
    "- Нулевая гипотеза (H0): Средние пользовательские рейтинги платформ Xbox One и PC одинаковые.\n",
    "- Альтернативная гипотеза (H1): Средние пользовательские рейтинги платформ Xbox One и PC отличаются.\n",
    "\n",
    "Принимать или отвергать нулевую гипотезу будем по p-value - это вероятность получить наблюдаемый или ещё более далёкий от предполагаемого результат при условии, что нулевая гипотеза верна.\n",
    "\n",
    "Установим общепринятый уровень <b>p-value, равный 0,05.</b>"
   ]
  },
  {
   "cell_type": "markdown",
   "metadata": {},
   "source": [
    "Сравним дисперсии рейтингов по выборке. Т.к. мы используем не всю совокупность, а выборку из неё, укажем параметр <b>ddof=1.</b>"
   ]
  },
  {
   "cell_type": "code",
   "execution_count": 56,
   "metadata": {},
   "outputs": [
    {
     "name": "stdout",
     "output_type": "stream",
     "text": [
      "Дисперсия пользовательского рейтинга на Xbox One 1.8910067\n",
      "Дисперсия пользовательского рейтинга на PC 2.9011543\n"
     ]
    }
   ],
   "source": [
    "xone = top_df.query('platform == \"XOne\" & user_score != \"nan\"')['user_score']\n",
    "pc = top_df.query('platform == \"PC\" & user_score != \"nan\"')['user_score']\n",
    "print('Дисперсия пользовательского рейтинга на Xbox One', np.var(xone, ddof=1))\n",
    "print('Дисперсия пользовательского рейтинга на PC', np.var(pc, ddof=1))"
   ]
  },
  {
   "cell_type": "markdown",
   "metadata": {},
   "source": [
    "Дисперсии отличаются более, чем на 5 %, поэтому параметр <b>equal_var = False.</b>\n",
    "И т.к. проверяем гипотезу о равенстве среднего двух генеральных совокупностей по взятым из них выборкам,применим метод <b>scipy.stats.ttest_ind</b>"
   ]
  },
  {
   "cell_type": "code",
   "execution_count": 57,
   "metadata": {},
   "outputs": [
    {
     "name": "stdout",
     "output_type": "stream",
     "text": [
      "p-значение: 0.116\n",
      "Не получилось отвергнуть нулевую гипотезу\n"
     ]
    }
   ],
   "source": [
    "alpha = 0.05 \n",
    "results = st.ttest_ind(xone, pc, equal_var= False)\n",
    "\n",
    "print('p-значение:', results.pvalue.round(3))\n",
    "\n",
    "if (results.pvalue < alpha):\n",
    "    print(\"Отвергаем нулевую гипотезу\")\n",
    "else:\n",
    "    print(\"Не получилось отвергнуть нулевую гипотезу\")"
   ]
  },
  {
   "cell_type": "markdown",
   "metadata": {},
   "source": [
    "Итак, нам не получилось отвергнуть нулевую гипотезу, соответственно пользовательские рейтинги игр на Xbox One и РС примерно сопоставимы."
   ]
  },
  {
   "cell_type": "markdown",
   "metadata": {},
   "source": [
    "### Средние пользовательские рейтинги жанров Action и Sports разные"
   ]
  },
  {
   "cell_type": "markdown",
   "metadata": {},
   "source": [
    "Сформулируем нулевую и альтернативную гипотезы:\n",
    "- Нулевая гипотеза (H0): Средние пользовательские рейтинги жанров Action и Sports одинаковые.\n",
    "- Альтернативная гипотеза (H1): Средние пользовательские рейтинги жанров Action и Sports разные.\n",
    "\n",
    "Проделаем все те же действия, что и при проверке первой гипотезы."
   ]
  },
  {
   "cell_type": "code",
   "execution_count": 58,
   "metadata": {},
   "outputs": [
    {
     "name": "stdout",
     "output_type": "stream",
     "text": [
      "Дисперсия пользовательского рейтинга жанра Action 1.8450643\n",
      "Дисперсия пользовательского рейтинга жанра Sports 2.64045\n"
     ]
    }
   ],
   "source": [
    "action = top_df.query('genre == \"Action\" & user_score != \"nan\"')['user_score']\n",
    "sports = top_df.query('genre == \"Sports\" & user_score != \"nan\"')['user_score']\n",
    "print('Дисперсия пользовательского рейтинга жанра Action', np.var(action, ddof=1))\n",
    "print('Дисперсия пользовательского рейтинга жанра Sports', np.var(sports, ddof=1))"
   ]
  },
  {
   "cell_type": "markdown",
   "metadata": {},
   "source": [
    "Дисперсии отличаются более, чем на 5 %, поэтому параметр <b>equal_var = False.</b>\n",
    "И т.к. проверяем гипотезу о равенстве среднего двух генеральных совокупностей по взятым из них выборкам,применим метод <b>scipy.stats.ttest_ind</b>. Установим общепринятый уровень <b>p-value, равный 0,05.</b>"
   ]
  },
  {
   "cell_type": "code",
   "execution_count": 59,
   "metadata": {},
   "outputs": [
    {
     "name": "stdout",
     "output_type": "stream",
     "text": [
      "p-значение: 0.0\n",
      "Отвергаем нулевую гипотезу\n"
     ]
    }
   ],
   "source": [
    "alpha = 0.05 \n",
    "results = st.ttest_ind(action, sports, equal_var= False)\n",
    "\n",
    "print('p-значение:', results.pvalue.round(3))\n",
    "\n",
    "if (results.pvalue < alpha):\n",
    "    print(\"Отвергаем нулевую гипотезу\")\n",
    "else:\n",
    "    print(\"Не получилось отвергнуть нулевую гипотезу\")"
   ]
  },
  {
   "cell_type": "markdown",
   "metadata": {},
   "source": [
    "P-value получился равен нулю, т.е. вероятность того, что средние пользовательские рейтинги жанров Action и Sports одинаковые очень мала и мы отвергаем нулевую гипотезу.\n",
    "\n",
    "С уверенностью можно сказать, что средние пользовательские рейтинги жанров Action и Sports разные. Посмотрим на разницу."
   ]
  },
  {
   "cell_type": "code",
   "execution_count": 60,
   "metadata": {},
   "outputs": [
    {
     "name": "stdout",
     "output_type": "stream",
     "text": [
      "Средний пользовательский рейтинг жанра Action: 6.8281627\n",
      "Средний пользовательский рейтинг жанра Sports: 5.6360464\n",
      "Разница составляет: 0.17\n"
     ]
    }
   ],
   "source": [
    "print ('Средний пользовательский рейтинг жанра Action:', action.mean())\n",
    "print ('Средний пользовательский рейтинг жанра Sports:', sports.mean())\n",
    "print ('Разница составляет:', (1 - (sports.mean()/action.mean())).round(2))"
   ]
  },
  {
   "cell_type": "markdown",
   "metadata": {},
   "source": [
    "У жанра Action средний пользовательский рейтинг выше, чем у жанра Sports, на 17 %."
   ]
  },
  {
   "cell_type": "markdown",
   "metadata": {},
   "source": [
    "### Вывод по разделу"
   ]
  },
  {
   "cell_type": "markdown",
   "metadata": {},
   "source": [
    "Итак, обе наши гипотезы подтвердились и делаем вывод, что:\n",
    "1. Средние пользовательские рейтинги платформ Xbox One и PC одинаковые;\n",
    "2. Средние пользовательские рейтинги жанров Action и Sports разные."
   ]
  },
  {
   "cell_type": "markdown",
   "metadata": {},
   "source": [
    "## Общий вывод"
   ]
  },
  {
   "cell_type": "markdown",
   "metadata": {},
   "source": [
    "1. <b>В датасете 16715 строк и 11 столбцов. Представлены данные за большой период: с 1980 года по 2016 год.</b>\n",
    "2. <b>При подготовке данных к анализу:</b>\n",
    "    - Названия столбцов были приведены к нижнему регистру.\n",
    "    - Были изменены типы данных в столбце year_of_release c float на int, а в столбце user_score с object на float.\n",
    "    - Данные со значениями tbd в столбце user_score были заменены значениями NaN, т.к. рейтинг у игры не сформирован и взять данные для замены негде.\n",
    "    - Были удалены две строки с пропусками в столбцах name и genre.\n",
    "    - Были удалены 269 строк с пропусками в столбце year_of_release, т.к. эти данные заменить нечем.\n",
    "    - Пропуски в столбцах critic_score, user_score и rating оставили, как есть.\n",
    "    - В датасет был добавлен столбец с суммарными продажи во всех регионах.\n",
    "3. <b>Результаты исследовательского анализа данных:</b>\n",
    "    1. До 1995 года игры выпускались в небольших количествах. С 1995 года пошел рост количества игровых релизов в год. В 2002 произошел скачок количества игровых релизов практически в 2 раза, что можно связать с набравшей популярность среди игроков и разработчиков игр Playstation 2.\n",
    "    2. Пик количества игровых релизов пришелся на 2008-2009 г. После пика происходит достаточно резкое снижение количества выпущенных игр в 2012 г., что можно связать и с закатом поколения Playstation 3/Xbox 360 и с набирающим популярность сегментом мобильных игр, которые на сегодняшний день по оборотам обходят весь суммарный сегмент PC и консольных игр вместе взятых.\n",
    "    3. Больше всего продано игр было на Playstation 2. На втором месте Xbox 360, а следом разместились Playstation 3, Nintendo Wii и DS, а также Playstation 1.\n",
    "    4. Жизненный цикл консолей составляет в среднем до 10 лет, но основные продажи игр составляют всего 7-8 лет, а пик продаж приходится на третий - шестой года жизненного цикла консолей.\n",
    "    5. Определенные выше самые популярные консоли для анализа нам не интересны в связи с неактуальностью, потому что их жизненный цикл уже заканчивается или закончен и они нам для прогноза продаж на 2017 г. не подойдут.\n",
    "    6. Самые популярные платформы в период с 2014 по 2016 г. составляют `PS4`, `Xbox One`, `Nintendo 3DS`, PS 3, Xbox 360, `Nintendo Wii U`, `PC`, `PS Vita`, Nintendo Wii и PSP. Как мы уже знаем, PS 3, Xbox 360, Nintendo Wii и PSP работают в данный период по принципу остаточных продаж, т.к. пик продаж на них остался далеко позади и при прогнозе на 2017 г. на них ориентироваться не стоит.\n",
    "    7. На PS4 продажи игр выше, чем на остальных платформах, поэтому ее и будем рассматривать как самую популярную актуальную платформу.\n",
    "    8. Между оценками пользователей и количеством проданных копий игр вообще нет связи, а вот оценки критиков оказывают несущественное влияние на продажи игр.\n",
    "    9. Самые популярные жанры на актуальных платформах - экшен, шутер и РПГ. Самые непопулярные жанры - симуляторы, стратегии и игры-паззлы. При этом самым продаваемым жанром является шутер.\n",
    "4. <b>Составлен портрет пользователя каждого региона:</b>\n",
    "    - В целом, игровые рынки Европы и Северной Америки очень похожи, там популярны одни и те же домашние платформы, жанры игр и игры с определенным рейтингом ESRB. Среди платформ там лидируют PlayStation 4 и Xbox One, среди жанров экшены и шутеры, а самый популярный рейтинг игр `M — Mature - «Для взрослых»`.\n",
    "    - В Японии сформирован другой игровой рынок, направленный на портативный гейминг, т.к. там лидирует Nintendo 3DS, а также популярны ролевые игры от внутренних разработчиков (JRPG) и игры с рейтингом `Teen - «Подросткам»`.\n",
    "5. <b>При проверке гипотез, они обе подтвердились, из чего мы делаем вывод, что:</b>\n",
    "    - Средние пользовательские рейтинги платформ Xbox One и PC одинаковые;\n",
    "    - Средние пользовательские рейтинги жанров Action и Sports разные."
   ]
  }
 ],
 "metadata": {
  "ExecuteTimeLog": [
   {
    "duration": 391,
    "start_time": "2022-02-21T09:09:48.411Z"
   },
   {
    "duration": 1534,
    "start_time": "2022-02-21T09:09:54.781Z"
   },
   {
    "duration": 48,
    "start_time": "2022-02-21T09:09:56.318Z"
   },
   {
    "duration": 30,
    "start_time": "2022-02-21T09:10:11.817Z"
   },
   {
    "duration": 15,
    "start_time": "2022-02-21T09:10:35.658Z"
   },
   {
    "duration": 28,
    "start_time": "2022-02-21T09:15:12.070Z"
   },
   {
    "duration": 23,
    "start_time": "2022-02-21T09:15:22.148Z"
   },
   {
    "duration": 23,
    "start_time": "2022-02-21T09:15:27.453Z"
   },
   {
    "duration": 22,
    "start_time": "2022-02-21T09:15:31.689Z"
   },
   {
    "duration": 23,
    "start_time": "2022-02-21T09:15:35.478Z"
   },
   {
    "duration": 26,
    "start_time": "2022-02-21T09:20:06.343Z"
   },
   {
    "duration": 4,
    "start_time": "2022-02-21T09:27:41.233Z"
   },
   {
    "duration": 20,
    "start_time": "2022-02-21T09:27:50.399Z"
   },
   {
    "duration": 961,
    "start_time": "2022-02-21T09:30:33.761Z"
   },
   {
    "duration": 5,
    "start_time": "2022-02-21T09:31:32.396Z"
   },
   {
    "duration": 6,
    "start_time": "2022-02-21T09:32:31.174Z"
   },
   {
    "duration": 1486,
    "start_time": "2022-02-21T09:32:37.133Z"
   },
   {
    "duration": 44,
    "start_time": "2022-02-21T09:32:38.622Z"
   },
   {
    "duration": 28,
    "start_time": "2022-02-21T09:32:38.669Z"
   },
   {
    "duration": 38,
    "start_time": "2022-02-21T09:32:38.699Z"
   },
   {
    "duration": 25,
    "start_time": "2022-02-21T09:32:38.740Z"
   },
   {
    "duration": 4,
    "start_time": "2022-02-21T09:32:38.768Z"
   },
   {
    "duration": 65,
    "start_time": "2022-02-21T09:32:38.775Z"
   },
   {
    "duration": 7,
    "start_time": "2022-02-21T09:32:38.843Z"
   },
   {
    "duration": 8,
    "start_time": "2022-02-21T09:32:38.853Z"
   },
   {
    "duration": 14,
    "start_time": "2022-02-21T09:33:16.824Z"
   },
   {
    "duration": 1476,
    "start_time": "2022-02-21T09:33:43.244Z"
   },
   {
    "duration": 47,
    "start_time": "2022-02-21T09:33:44.723Z"
   },
   {
    "duration": 53,
    "start_time": "2022-02-21T09:33:44.774Z"
   },
   {
    "duration": 14,
    "start_time": "2022-02-21T09:33:44.830Z"
   },
   {
    "duration": 35,
    "start_time": "2022-02-21T09:33:44.846Z"
   },
   {
    "duration": 5,
    "start_time": "2022-02-21T09:33:44.883Z"
   },
   {
    "duration": 54,
    "start_time": "2022-02-21T09:33:44.890Z"
   },
   {
    "duration": 28,
    "start_time": "2022-02-21T09:33:44.947Z"
   },
   {
    "duration": 29,
    "start_time": "2022-02-21T09:33:44.977Z"
   },
   {
    "duration": 1617,
    "start_time": "2022-02-21T09:34:03.907Z"
   },
   {
    "duration": 43,
    "start_time": "2022-02-21T09:34:05.527Z"
   },
   {
    "duration": 28,
    "start_time": "2022-02-21T09:34:05.573Z"
   },
   {
    "duration": 16,
    "start_time": "2022-02-21T09:34:05.627Z"
   },
   {
    "duration": 26,
    "start_time": "2022-02-21T09:34:05.646Z"
   },
   {
    "duration": 4,
    "start_time": "2022-02-21T09:34:05.675Z"
   },
   {
    "duration": 57,
    "start_time": "2022-02-21T09:34:05.682Z"
   },
   {
    "duration": 8,
    "start_time": "2022-02-21T09:34:05.742Z"
   },
   {
    "duration": 19,
    "start_time": "2022-02-21T09:34:05.752Z"
   },
   {
    "duration": 1533,
    "start_time": "2022-02-21T09:34:49.483Z"
   },
   {
    "duration": 43,
    "start_time": "2022-02-21T09:34:51.019Z"
   },
   {
    "duration": 28,
    "start_time": "2022-02-21T09:34:51.066Z"
   },
   {
    "duration": 36,
    "start_time": "2022-02-21T09:34:51.097Z"
   },
   {
    "duration": 25,
    "start_time": "2022-02-21T09:34:51.135Z"
   },
   {
    "duration": 4,
    "start_time": "2022-02-21T09:34:51.163Z"
   },
   {
    "duration": 67,
    "start_time": "2022-02-21T09:34:51.170Z"
   },
   {
    "duration": 7,
    "start_time": "2022-02-21T09:34:51.241Z"
   },
   {
    "duration": 22,
    "start_time": "2022-02-21T09:34:51.251Z"
   },
   {
    "duration": 1777,
    "start_time": "2022-02-21T09:35:18.320Z"
   },
   {
    "duration": 52,
    "start_time": "2022-02-21T09:35:20.099Z"
   },
   {
    "duration": 27,
    "start_time": "2022-02-21T09:35:20.154Z"
   },
   {
    "duration": 42,
    "start_time": "2022-02-21T09:35:20.184Z"
   },
   {
    "duration": 24,
    "start_time": "2022-02-21T09:35:20.229Z"
   },
   {
    "duration": 5,
    "start_time": "2022-02-21T09:35:20.255Z"
   },
   {
    "duration": 25,
    "start_time": "2022-02-21T09:35:20.262Z"
   },
   {
    "duration": 8,
    "start_time": "2022-02-21T09:35:20.326Z"
   },
   {
    "duration": 15,
    "start_time": "2022-02-21T09:35:20.338Z"
   },
   {
    "duration": 1485,
    "start_time": "2022-02-21T09:35:53.057Z"
   },
   {
    "duration": 44,
    "start_time": "2022-02-21T09:35:54.545Z"
   },
   {
    "duration": 43,
    "start_time": "2022-02-21T09:35:54.593Z"
   },
   {
    "duration": 17,
    "start_time": "2022-02-21T09:35:54.640Z"
   },
   {
    "duration": 73,
    "start_time": "2022-02-21T09:35:54.659Z"
   },
   {
    "duration": 4,
    "start_time": "2022-02-21T09:35:54.735Z"
   },
   {
    "duration": 22,
    "start_time": "2022-02-21T09:35:54.742Z"
   },
   {
    "duration": 63,
    "start_time": "2022-02-21T09:35:54.767Z"
   },
   {
    "duration": 15,
    "start_time": "2022-02-21T09:35:54.833Z"
   },
   {
    "duration": 1541,
    "start_time": "2022-02-21T09:36:20.085Z"
   },
   {
    "duration": 44,
    "start_time": "2022-02-21T09:36:21.629Z"
   },
   {
    "duration": 27,
    "start_time": "2022-02-21T09:36:21.676Z"
   },
   {
    "duration": 38,
    "start_time": "2022-02-21T09:36:21.707Z"
   },
   {
    "duration": 22,
    "start_time": "2022-02-21T09:36:21.748Z"
   },
   {
    "duration": 5,
    "start_time": "2022-02-21T09:36:21.772Z"
   },
   {
    "duration": 61,
    "start_time": "2022-02-21T09:36:21.780Z"
   },
   {
    "duration": 10,
    "start_time": "2022-02-21T09:36:21.845Z"
   },
   {
    "duration": 15,
    "start_time": "2022-02-21T09:36:21.857Z"
   },
   {
    "duration": 438,
    "start_time": "2022-02-21T09:40:29.103Z"
   },
   {
    "duration": 6,
    "start_time": "2022-02-21T09:40:39.647Z"
   },
   {
    "duration": 16,
    "start_time": "2022-02-21T09:40:41.027Z"
   },
   {
    "duration": 12,
    "start_time": "2022-02-21T09:55:07.813Z"
   },
   {
    "duration": 7,
    "start_time": "2022-02-21T09:55:18.177Z"
   },
   {
    "duration": 5,
    "start_time": "2022-02-21T10:05:40.003Z"
   },
   {
    "duration": 41,
    "start_time": "2022-02-21T10:06:18.746Z"
   },
   {
    "duration": 309,
    "start_time": "2022-02-21T10:06:37.404Z"
   },
   {
    "duration": 16,
    "start_time": "2022-02-21T10:06:48.473Z"
   },
   {
    "duration": 20,
    "start_time": "2022-02-21T10:06:54.747Z"
   },
   {
    "duration": 312,
    "start_time": "2022-02-21T10:06:59.916Z"
   },
   {
    "duration": 398,
    "start_time": "2022-02-21T10:07:17.466Z"
   },
   {
    "duration": 35,
    "start_time": "2022-02-21T10:07:22.215Z"
   },
   {
    "duration": 3514,
    "start_time": "2022-02-21T10:08:06.975Z"
   },
   {
    "duration": 57,
    "start_time": "2022-02-21T10:08:10.492Z"
   },
   {
    "duration": 27,
    "start_time": "2022-02-21T10:08:10.552Z"
   },
   {
    "duration": 49,
    "start_time": "2022-02-21T10:08:10.582Z"
   },
   {
    "duration": 26,
    "start_time": "2022-02-21T10:08:10.634Z"
   },
   {
    "duration": 5,
    "start_time": "2022-02-21T10:08:10.662Z"
   },
   {
    "duration": 61,
    "start_time": "2022-02-21T10:08:10.669Z"
   },
   {
    "duration": 16,
    "start_time": "2022-02-21T10:08:10.733Z"
   },
   {
    "duration": 25,
    "start_time": "2022-02-21T10:08:10.753Z"
   },
   {
    "duration": 9,
    "start_time": "2022-02-21T10:08:10.781Z"
   },
   {
    "duration": 58,
    "start_time": "2022-02-21T10:08:10.793Z"
   },
   {
    "duration": 4,
    "start_time": "2022-02-21T10:08:10.855Z"
   },
   {
    "duration": 430,
    "start_time": "2022-02-21T10:08:39.333Z"
   },
   {
    "duration": 11,
    "start_time": "2022-02-21T10:08:57.984Z"
   },
   {
    "duration": 1707,
    "start_time": "2022-02-21T10:11:30.721Z"
   },
   {
    "duration": 49,
    "start_time": "2022-02-21T10:11:32.431Z"
   },
   {
    "duration": 44,
    "start_time": "2022-02-21T10:11:32.483Z"
   },
   {
    "duration": 19,
    "start_time": "2022-02-21T10:11:32.531Z"
   },
   {
    "duration": 27,
    "start_time": "2022-02-21T10:11:32.553Z"
   },
   {
    "duration": 4,
    "start_time": "2022-02-21T10:11:32.582Z"
   },
   {
    "duration": 57,
    "start_time": "2022-02-21T10:11:32.589Z"
   },
   {
    "duration": 8,
    "start_time": "2022-02-21T10:11:32.650Z"
   },
   {
    "duration": 32,
    "start_time": "2022-02-21T10:11:32.661Z"
   },
   {
    "duration": 33,
    "start_time": "2022-02-21T10:11:32.697Z"
   },
   {
    "duration": 32,
    "start_time": "2022-02-21T10:11:32.732Z"
   },
   {
    "duration": 20,
    "start_time": "2022-02-21T10:11:32.767Z"
   },
   {
    "duration": 236,
    "start_time": "2022-02-21T12:46:12.913Z"
   },
   {
    "duration": 471,
    "start_time": "2022-02-21T12:46:18.043Z"
   },
   {
    "duration": 2110,
    "start_time": "2022-02-21T12:46:25.077Z"
   },
   {
    "duration": 49,
    "start_time": "2022-02-21T12:46:27.190Z"
   },
   {
    "duration": 26,
    "start_time": "2022-02-21T12:46:27.243Z"
   },
   {
    "duration": 37,
    "start_time": "2022-02-21T12:46:27.274Z"
   },
   {
    "duration": 26,
    "start_time": "2022-02-21T12:46:27.313Z"
   },
   {
    "duration": 5,
    "start_time": "2022-02-21T12:46:27.342Z"
   },
   {
    "duration": 23,
    "start_time": "2022-02-21T12:46:27.349Z"
   },
   {
    "duration": 42,
    "start_time": "2022-02-21T12:46:27.374Z"
   },
   {
    "duration": 15,
    "start_time": "2022-02-21T12:46:27.420Z"
   },
   {
    "duration": 9,
    "start_time": "2022-02-21T12:46:27.437Z"
   },
   {
    "duration": 966,
    "start_time": "2022-02-21T12:46:27.449Z"
   },
   {
    "duration": 276,
    "start_time": "2022-02-21T12:46:28.143Z"
   },
   {
    "duration": 17,
    "start_time": "2022-02-21T12:46:35.666Z"
   },
   {
    "duration": 126,
    "start_time": "2022-02-21T12:47:14.567Z"
   },
   {
    "duration": 129,
    "start_time": "2022-02-21T12:47:22.382Z"
   },
   {
    "duration": 14,
    "start_time": "2022-02-21T12:47:25.995Z"
   },
   {
    "duration": 9,
    "start_time": "2022-02-21T12:47:38.539Z"
   },
   {
    "duration": 8,
    "start_time": "2022-02-21T12:47:49.527Z"
   },
   {
    "duration": 7,
    "start_time": "2022-02-21T12:48:07.383Z"
   },
   {
    "duration": 14,
    "start_time": "2022-02-21T12:48:14.821Z"
   },
   {
    "duration": 35,
    "start_time": "2022-02-21T12:51:51.692Z"
   },
   {
    "duration": 2115,
    "start_time": "2022-02-21T12:51:59.959Z"
   },
   {
    "duration": 49,
    "start_time": "2022-02-21T12:52:02.080Z"
   },
   {
    "duration": 27,
    "start_time": "2022-02-21T12:52:02.132Z"
   },
   {
    "duration": 15,
    "start_time": "2022-02-21T12:52:02.162Z"
   },
   {
    "duration": 47,
    "start_time": "2022-02-21T12:52:02.180Z"
   },
   {
    "duration": 4,
    "start_time": "2022-02-21T12:52:02.230Z"
   },
   {
    "duration": 24,
    "start_time": "2022-02-21T12:52:02.236Z"
   },
   {
    "duration": 15,
    "start_time": "2022-02-21T12:52:02.263Z"
   },
   {
    "duration": 39,
    "start_time": "2022-02-21T12:52:02.280Z"
   },
   {
    "duration": 15,
    "start_time": "2022-02-21T12:52:02.322Z"
   },
   {
    "duration": 9,
    "start_time": "2022-02-21T12:52:02.339Z"
   },
   {
    "duration": 8,
    "start_time": "2022-02-21T12:52:02.350Z"
   },
   {
    "duration": 50,
    "start_time": "2022-02-21T12:52:02.361Z"
   },
   {
    "duration": 27,
    "start_time": "2022-02-21T12:56:38.319Z"
   },
   {
    "duration": 12,
    "start_time": "2022-02-21T12:57:04.200Z"
   },
   {
    "duration": 10,
    "start_time": "2022-02-21T12:59:37.148Z"
   },
   {
    "duration": 21,
    "start_time": "2022-02-21T12:59:50.186Z"
   },
   {
    "duration": 10,
    "start_time": "2022-02-21T13:02:39.571Z"
   },
   {
    "duration": 187,
    "start_time": "2022-02-21T13:02:51.471Z"
   },
   {
    "duration": 175,
    "start_time": "2022-02-21T13:02:54.844Z"
   },
   {
    "duration": 15,
    "start_time": "2022-02-21T13:02:59.084Z"
   },
   {
    "duration": 43,
    "start_time": "2022-02-21T13:04:11.070Z"
   },
   {
    "duration": 18,
    "start_time": "2022-02-21T13:04:13.379Z"
   },
   {
    "duration": 1595,
    "start_time": "2022-02-21T13:04:30.738Z"
   },
   {
    "duration": 60,
    "start_time": "2022-02-21T13:04:32.336Z"
   },
   {
    "duration": 29,
    "start_time": "2022-02-21T13:04:32.399Z"
   },
   {
    "duration": 18,
    "start_time": "2022-02-21T13:04:32.431Z"
   },
   {
    "duration": 23,
    "start_time": "2022-02-21T13:04:32.452Z"
   },
   {
    "duration": 33,
    "start_time": "2022-02-21T13:04:32.478Z"
   },
   {
    "duration": 23,
    "start_time": "2022-02-21T13:04:32.513Z"
   },
   {
    "duration": 9,
    "start_time": "2022-02-21T13:04:32.540Z"
   },
   {
    "duration": 14,
    "start_time": "2022-02-21T13:04:32.552Z"
   },
   {
    "duration": 46,
    "start_time": "2022-02-21T13:04:32.569Z"
   },
   {
    "duration": 7,
    "start_time": "2022-02-21T13:04:32.618Z"
   },
   {
    "duration": 9,
    "start_time": "2022-02-21T13:04:32.628Z"
   },
   {
    "duration": 23,
    "start_time": "2022-02-21T13:04:32.640Z"
   },
   {
    "duration": 44,
    "start_time": "2022-02-21T13:04:32.666Z"
   },
   {
    "duration": 44,
    "start_time": "2022-02-21T13:04:32.714Z"
   },
   {
    "duration": 19,
    "start_time": "2022-02-21T13:04:32.760Z"
   },
   {
    "duration": 13,
    "start_time": "2022-02-21T13:06:56.820Z"
   },
   {
    "duration": 22,
    "start_time": "2022-02-21T13:06:59.906Z"
   },
   {
    "duration": 9,
    "start_time": "2022-02-21T13:08:22.179Z"
   },
   {
    "duration": 6,
    "start_time": "2022-02-21T13:08:23.905Z"
   },
   {
    "duration": 7,
    "start_time": "2022-02-21T13:08:30.749Z"
   },
   {
    "duration": 5,
    "start_time": "2022-02-21T13:08:49.580Z"
   },
   {
    "duration": 634,
    "start_time": "2022-02-21T13:08:55.387Z"
   },
   {
    "duration": 5,
    "start_time": "2022-02-21T13:09:10.283Z"
   },
   {
    "duration": 8,
    "start_time": "2022-02-21T13:09:12.921Z"
   },
   {
    "duration": 5,
    "start_time": "2022-02-21T13:09:31.344Z"
   },
   {
    "duration": 8,
    "start_time": "2022-02-21T13:09:33.553Z"
   },
   {
    "duration": 9,
    "start_time": "2022-02-21T13:09:57.813Z"
   },
   {
    "duration": 8,
    "start_time": "2022-02-21T13:10:00.974Z"
   },
   {
    "duration": 8,
    "start_time": "2022-02-21T13:10:06.140Z"
   },
   {
    "duration": 5,
    "start_time": "2022-02-21T13:10:19.982Z"
   },
   {
    "duration": 9,
    "start_time": "2022-02-21T13:10:22.551Z"
   },
   {
    "duration": 2596,
    "start_time": "2022-02-21T13:10:28.799Z"
   },
   {
    "duration": 68,
    "start_time": "2022-02-21T13:10:31.398Z"
   },
   {
    "duration": 53,
    "start_time": "2022-02-21T13:10:31.470Z"
   },
   {
    "duration": 30,
    "start_time": "2022-02-21T13:10:31.526Z"
   },
   {
    "duration": 26,
    "start_time": "2022-02-21T13:10:31.559Z"
   },
   {
    "duration": 4,
    "start_time": "2022-02-21T13:10:31.588Z"
   },
   {
    "duration": 40,
    "start_time": "2022-02-21T13:10:31.594Z"
   },
   {
    "duration": 9,
    "start_time": "2022-02-21T13:10:31.637Z"
   },
   {
    "duration": 15,
    "start_time": "2022-02-21T13:10:31.651Z"
   },
   {
    "duration": 7,
    "start_time": "2022-02-21T13:10:31.710Z"
   },
   {
    "duration": 10,
    "start_time": "2022-02-21T13:10:31.720Z"
   },
   {
    "duration": 23,
    "start_time": "2022-02-21T13:10:31.732Z"
   },
   {
    "duration": 15,
    "start_time": "2022-02-21T13:10:31.757Z"
   },
   {
    "duration": 42,
    "start_time": "2022-02-21T13:10:31.775Z"
   },
   {
    "duration": 17,
    "start_time": "2022-02-21T13:10:31.820Z"
   },
   {
    "duration": 15,
    "start_time": "2022-02-21T13:10:49.698Z"
   },
   {
    "duration": 13,
    "start_time": "2022-02-21T13:11:14.358Z"
   },
   {
    "duration": 7,
    "start_time": "2022-02-21T13:11:18.028Z"
   },
   {
    "duration": 8,
    "start_time": "2022-02-21T13:11:20.282Z"
   },
   {
    "duration": 7,
    "start_time": "2022-02-21T13:11:38.198Z"
   },
   {
    "duration": 4,
    "start_time": "2022-02-21T13:11:49.264Z"
   },
   {
    "duration": 7,
    "start_time": "2022-02-21T13:11:50.613Z"
   },
   {
    "duration": 34,
    "start_time": "2022-02-21T13:13:39.920Z"
   },
   {
    "duration": 10,
    "start_time": "2022-02-21T13:16:54.964Z"
   },
   {
    "duration": 21,
    "start_time": "2022-02-21T13:17:04.081Z"
   },
   {
    "duration": 10,
    "start_time": "2022-02-21T13:21:26.537Z"
   },
   {
    "duration": 12,
    "start_time": "2022-02-21T14:30:53.893Z"
   },
   {
    "duration": 9,
    "start_time": "2022-02-21T14:38:46.162Z"
   },
   {
    "duration": 11,
    "start_time": "2022-02-21T14:39:29.099Z"
   },
   {
    "duration": 73,
    "start_time": "2022-02-21T14:42:20.347Z"
   },
   {
    "duration": 7,
    "start_time": "2022-02-21T14:42:29.965Z"
   },
   {
    "duration": 25,
    "start_time": "2022-02-21T14:42:45.055Z"
   },
   {
    "duration": 1520,
    "start_time": "2022-02-21T14:51:30.271Z"
   },
   {
    "duration": 52,
    "start_time": "2022-02-21T14:51:31.793Z"
   },
   {
    "duration": 27,
    "start_time": "2022-02-21T14:51:31.848Z"
   },
   {
    "duration": 38,
    "start_time": "2022-02-21T14:51:31.877Z"
   },
   {
    "duration": 26,
    "start_time": "2022-02-21T14:51:31.917Z"
   },
   {
    "duration": 4,
    "start_time": "2022-02-21T14:51:31.945Z"
   },
   {
    "duration": 21,
    "start_time": "2022-02-21T14:51:31.951Z"
   },
   {
    "duration": 39,
    "start_time": "2022-02-21T14:51:31.976Z"
   },
   {
    "duration": 17,
    "start_time": "2022-02-21T14:51:32.018Z"
   },
   {
    "duration": 7,
    "start_time": "2022-02-21T14:51:32.037Z"
   },
   {
    "duration": 8,
    "start_time": "2022-02-21T14:51:32.047Z"
   },
   {
    "duration": 9,
    "start_time": "2022-02-21T14:51:32.057Z"
   },
   {
    "duration": 46,
    "start_time": "2022-02-21T14:51:32.069Z"
   },
   {
    "duration": 20,
    "start_time": "2022-02-21T14:51:32.117Z"
   },
   {
    "duration": 12,
    "start_time": "2022-02-21T14:51:32.139Z"
   },
   {
    "duration": 9,
    "start_time": "2022-02-21T14:51:32.154Z"
   },
   {
    "duration": 73,
    "start_time": "2022-02-21T14:51:32.165Z"
   },
   {
    "duration": 10,
    "start_time": "2022-02-21T14:51:32.240Z"
   },
   {
    "duration": 9,
    "start_time": "2022-02-21T14:51:32.252Z"
   },
   {
    "duration": 10,
    "start_time": "2022-02-21T14:51:32.264Z"
   },
   {
    "duration": 13,
    "start_time": "2022-02-21T14:51:32.311Z"
   },
   {
    "duration": 24,
    "start_time": "2022-02-21T14:51:32.326Z"
   },
   {
    "duration": 6,
    "start_time": "2022-02-21T15:15:41.214Z"
   },
   {
    "duration": 821,
    "start_time": "2022-02-22T08:14:07.796Z"
   },
   {
    "duration": 1015,
    "start_time": "2022-02-22T08:14:15.774Z"
   },
   {
    "duration": 46,
    "start_time": "2022-02-22T08:14:16.791Z"
   },
   {
    "duration": 15,
    "start_time": "2022-02-22T08:14:16.838Z"
   },
   {
    "duration": 8,
    "start_time": "2022-02-22T08:14:16.855Z"
   },
   {
    "duration": 18,
    "start_time": "2022-02-22T08:14:16.864Z"
   },
   {
    "duration": 2,
    "start_time": "2022-02-22T08:14:16.884Z"
   },
   {
    "duration": 12,
    "start_time": "2022-02-22T08:14:16.888Z"
   },
   {
    "duration": 5,
    "start_time": "2022-02-22T08:14:16.902Z"
   },
   {
    "duration": 40,
    "start_time": "2022-02-22T08:14:16.909Z"
   },
   {
    "duration": 4,
    "start_time": "2022-02-22T08:14:16.951Z"
   },
   {
    "duration": 6,
    "start_time": "2022-02-22T08:14:16.957Z"
   },
   {
    "duration": 6,
    "start_time": "2022-02-22T08:14:16.964Z"
   },
   {
    "duration": 11,
    "start_time": "2022-02-22T08:14:16.971Z"
   },
   {
    "duration": 11,
    "start_time": "2022-02-22T08:14:16.983Z"
   },
   {
    "duration": 9,
    "start_time": "2022-02-22T08:14:16.995Z"
   },
   {
    "duration": 5,
    "start_time": "2022-02-22T08:14:17.005Z"
   },
   {
    "duration": 49,
    "start_time": "2022-02-22T08:14:17.012Z"
   },
   {
    "duration": 6,
    "start_time": "2022-02-22T08:14:17.063Z"
   },
   {
    "duration": 6,
    "start_time": "2022-02-22T08:14:17.071Z"
   },
   {
    "duration": 7,
    "start_time": "2022-02-22T08:14:17.079Z"
   },
   {
    "duration": 9,
    "start_time": "2022-02-22T08:14:17.087Z"
   },
   {
    "duration": 15,
    "start_time": "2022-02-22T08:14:17.097Z"
   },
   {
    "duration": 39,
    "start_time": "2022-02-22T08:14:17.114Z"
   },
   {
    "duration": 1147,
    "start_time": "2022-02-22T08:20:30.341Z"
   },
   {
    "duration": 45,
    "start_time": "2022-02-22T08:20:31.490Z"
   },
   {
    "duration": 16,
    "start_time": "2022-02-22T08:20:31.539Z"
   },
   {
    "duration": 16,
    "start_time": "2022-02-22T08:20:31.557Z"
   },
   {
    "duration": 23,
    "start_time": "2022-02-22T08:20:31.575Z"
   },
   {
    "duration": 3,
    "start_time": "2022-02-22T08:20:31.600Z"
   },
   {
    "duration": 41,
    "start_time": "2022-02-22T08:20:31.606Z"
   },
   {
    "duration": 5,
    "start_time": "2022-02-22T08:20:31.649Z"
   },
   {
    "duration": 9,
    "start_time": "2022-02-22T08:20:31.655Z"
   },
   {
    "duration": 5,
    "start_time": "2022-02-22T08:20:31.665Z"
   },
   {
    "duration": 9,
    "start_time": "2022-02-22T08:20:31.672Z"
   },
   {
    "duration": 9,
    "start_time": "2022-02-22T08:20:31.682Z"
   },
   {
    "duration": 11,
    "start_time": "2022-02-22T08:20:31.692Z"
   },
   {
    "duration": 12,
    "start_time": "2022-02-22T08:20:31.705Z"
   },
   {
    "duration": 9,
    "start_time": "2022-02-22T08:20:31.746Z"
   },
   {
    "duration": 9,
    "start_time": "2022-02-22T08:20:31.756Z"
   },
   {
    "duration": 19,
    "start_time": "2022-02-22T08:20:31.766Z"
   },
   {
    "duration": 6,
    "start_time": "2022-02-22T08:20:31.786Z"
   },
   {
    "duration": 15,
    "start_time": "2022-02-22T08:20:31.793Z"
   },
   {
    "duration": 8,
    "start_time": "2022-02-22T08:20:31.810Z"
   },
   {
    "duration": 7,
    "start_time": "2022-02-22T08:20:31.845Z"
   },
   {
    "duration": 7,
    "start_time": "2022-02-22T08:20:31.854Z"
   },
   {
    "duration": 15,
    "start_time": "2022-02-22T08:20:31.863Z"
   },
   {
    "duration": 4,
    "start_time": "2022-02-22T08:26:14.933Z"
   },
   {
    "duration": 6,
    "start_time": "2022-02-22T08:26:23.580Z"
   },
   {
    "duration": 1056,
    "start_time": "2022-02-22T08:26:38.015Z"
   },
   {
    "duration": 34,
    "start_time": "2022-02-22T08:26:39.074Z"
   },
   {
    "duration": 15,
    "start_time": "2022-02-22T08:26:39.110Z"
   },
   {
    "duration": 9,
    "start_time": "2022-02-22T08:26:39.127Z"
   },
   {
    "duration": 13,
    "start_time": "2022-02-22T08:26:39.145Z"
   },
   {
    "duration": 3,
    "start_time": "2022-02-22T08:26:39.159Z"
   },
   {
    "duration": 13,
    "start_time": "2022-02-22T08:26:39.163Z"
   },
   {
    "duration": 5,
    "start_time": "2022-02-22T08:26:39.178Z"
   },
   {
    "duration": 8,
    "start_time": "2022-02-22T08:26:39.185Z"
   },
   {
    "duration": 9,
    "start_time": "2022-02-22T08:26:39.194Z"
   },
   {
    "duration": 6,
    "start_time": "2022-02-22T08:26:39.205Z"
   },
   {
    "duration": 36,
    "start_time": "2022-02-22T08:26:39.212Z"
   },
   {
    "duration": 9,
    "start_time": "2022-02-22T08:26:39.250Z"
   },
   {
    "duration": 11,
    "start_time": "2022-02-22T08:26:39.260Z"
   },
   {
    "duration": 7,
    "start_time": "2022-02-22T08:26:39.273Z"
   },
   {
    "duration": 7,
    "start_time": "2022-02-22T08:26:39.281Z"
   },
   {
    "duration": 17,
    "start_time": "2022-02-22T08:26:39.289Z"
   },
   {
    "duration": 41,
    "start_time": "2022-02-22T08:26:39.307Z"
   },
   {
    "duration": 5,
    "start_time": "2022-02-22T08:26:39.350Z"
   },
   {
    "duration": 7,
    "start_time": "2022-02-22T08:26:39.357Z"
   },
   {
    "duration": 9,
    "start_time": "2022-02-22T08:26:39.365Z"
   },
   {
    "duration": 4,
    "start_time": "2022-02-22T08:26:39.375Z"
   },
   {
    "duration": 5,
    "start_time": "2022-02-22T08:26:39.382Z"
   },
   {
    "duration": 14,
    "start_time": "2022-02-22T08:26:39.388Z"
   },
   {
    "duration": 405,
    "start_time": "2022-02-22T08:46:21.701Z"
   },
   {
    "duration": 348,
    "start_time": "2022-02-22T08:46:54.623Z"
   },
   {
    "duration": 160,
    "start_time": "2022-02-22T09:14:23.381Z"
   },
   {
    "duration": 323,
    "start_time": "2022-02-22T09:14:30.390Z"
   },
   {
    "duration": 312,
    "start_time": "2022-02-22T09:20:43.978Z"
   },
   {
    "duration": 363,
    "start_time": "2022-02-22T09:20:55.998Z"
   },
   {
    "duration": 303,
    "start_time": "2022-02-22T09:21:21.699Z"
   },
   {
    "duration": 305,
    "start_time": "2022-02-22T09:31:12.199Z"
   },
   {
    "duration": 355,
    "start_time": "2022-02-22T09:31:45.768Z"
   },
   {
    "duration": 112,
    "start_time": "2022-02-22T09:38:49.327Z"
   },
   {
    "duration": 448,
    "start_time": "2022-02-22T09:39:06.869Z"
   },
   {
    "duration": 1916,
    "start_time": "2022-02-22T09:39:11.072Z"
   },
   {
    "duration": 4,
    "start_time": "2022-02-22T09:39:21.034Z"
   },
   {
    "duration": 227,
    "start_time": "2022-02-22T09:39:23.167Z"
   },
   {
    "duration": 106,
    "start_time": "2022-02-22T09:39:34.945Z"
   },
   {
    "duration": 4,
    "start_time": "2022-02-22T09:39:51.586Z"
   },
   {
    "duration": 222,
    "start_time": "2022-02-22T09:39:52.356Z"
   },
   {
    "duration": 1504,
    "start_time": "2022-02-22T09:42:05.649Z"
   },
   {
    "duration": 225,
    "start_time": "2022-02-22T09:42:44.015Z"
   },
   {
    "duration": 1061,
    "start_time": "2022-02-22T09:42:57.301Z"
   },
   {
    "duration": 37,
    "start_time": "2022-02-22T09:42:58.364Z"
   },
   {
    "duration": 17,
    "start_time": "2022-02-22T09:42:58.403Z"
   },
   {
    "duration": 23,
    "start_time": "2022-02-22T09:42:58.422Z"
   },
   {
    "duration": 14,
    "start_time": "2022-02-22T09:42:58.447Z"
   },
   {
    "duration": 3,
    "start_time": "2022-02-22T09:42:58.462Z"
   },
   {
    "duration": 13,
    "start_time": "2022-02-22T09:42:58.467Z"
   },
   {
    "duration": 9,
    "start_time": "2022-02-22T09:42:58.482Z"
   },
   {
    "duration": 10,
    "start_time": "2022-02-22T09:42:58.493Z"
   },
   {
    "duration": 5,
    "start_time": "2022-02-22T09:42:58.504Z"
   },
   {
    "duration": 36,
    "start_time": "2022-02-22T09:42:58.510Z"
   },
   {
    "duration": 7,
    "start_time": "2022-02-22T09:42:58.548Z"
   },
   {
    "duration": 10,
    "start_time": "2022-02-22T09:42:58.556Z"
   },
   {
    "duration": 13,
    "start_time": "2022-02-22T09:42:58.568Z"
   },
   {
    "duration": 12,
    "start_time": "2022-02-22T09:42:58.582Z"
   },
   {
    "duration": 10,
    "start_time": "2022-02-22T09:42:58.595Z"
   },
   {
    "duration": 43,
    "start_time": "2022-02-22T09:42:58.607Z"
   },
   {
    "duration": 7,
    "start_time": "2022-02-22T09:42:58.652Z"
   },
   {
    "duration": 13,
    "start_time": "2022-02-22T09:42:58.660Z"
   },
   {
    "duration": 10,
    "start_time": "2022-02-22T09:42:58.674Z"
   },
   {
    "duration": 10,
    "start_time": "2022-02-22T09:42:58.685Z"
   },
   {
    "duration": 8,
    "start_time": "2022-02-22T09:42:58.696Z"
   },
   {
    "duration": 10,
    "start_time": "2022-02-22T09:42:58.706Z"
   },
   {
    "duration": 39,
    "start_time": "2022-02-22T09:42:58.718Z"
   },
   {
    "duration": 380,
    "start_time": "2022-02-22T09:42:58.759Z"
   },
   {
    "duration": 510,
    "start_time": "2022-02-22T09:42:59.141Z"
   },
   {
    "duration": 4,
    "start_time": "2022-02-22T09:42:59.653Z"
   },
   {
    "duration": 418,
    "start_time": "2022-02-22T09:42:59.659Z"
   },
   {
    "duration": 246,
    "start_time": "2022-02-22T09:43:00.078Z"
   },
   {
    "duration": 235,
    "start_time": "2022-02-22T09:43:00.325Z"
   },
   {
    "duration": 286,
    "start_time": "2022-02-22T09:43:00.562Z"
   },
   {
    "duration": 230,
    "start_time": "2022-02-22T09:43:00.849Z"
   },
   {
    "duration": 232,
    "start_time": "2022-02-22T09:43:01.081Z"
   },
   {
    "duration": 885,
    "start_time": "2022-02-22T09:44:07.344Z"
   },
   {
    "duration": 227,
    "start_time": "2022-02-22T09:44:08.476Z"
   },
   {
    "duration": 3,
    "start_time": "2022-02-22T09:44:30.261Z"
   },
   {
    "duration": 4,
    "start_time": "2022-02-22T09:44:35.147Z"
   },
   {
    "duration": 225,
    "start_time": "2022-02-22T09:44:35.615Z"
   },
   {
    "duration": 222,
    "start_time": "2022-02-22T09:44:36.747Z"
   },
   {
    "duration": 4,
    "start_time": "2022-02-22T09:45:48.026Z"
   },
   {
    "duration": 227,
    "start_time": "2022-02-22T09:45:49.244Z"
   },
   {
    "duration": 227,
    "start_time": "2022-02-22T09:45:52.439Z"
   },
   {
    "duration": 3,
    "start_time": "2022-02-22T09:48:36.343Z"
   },
   {
    "duration": 231,
    "start_time": "2022-02-22T09:48:37.098Z"
   },
   {
    "duration": 4,
    "start_time": "2022-02-22T09:53:36.190Z"
   },
   {
    "duration": 245,
    "start_time": "2022-02-22T09:53:44.659Z"
   },
   {
    "duration": 223,
    "start_time": "2022-02-22T09:53:51.476Z"
   },
   {
    "duration": 305,
    "start_time": "2022-02-22T09:55:13.194Z"
   },
   {
    "duration": 229,
    "start_time": "2022-02-22T09:57:57.021Z"
   },
   {
    "duration": 230,
    "start_time": "2022-02-22T09:58:15.138Z"
   },
   {
    "duration": 337,
    "start_time": "2022-02-22T09:59:27.443Z"
   },
   {
    "duration": 230,
    "start_time": "2022-02-22T10:00:06.379Z"
   },
   {
    "duration": 235,
    "start_time": "2022-02-22T10:00:23.682Z"
   },
   {
    "duration": 218,
    "start_time": "2022-02-22T10:00:32.861Z"
   },
   {
    "duration": 218,
    "start_time": "2022-02-22T10:00:43.961Z"
   },
   {
    "duration": 240,
    "start_time": "2022-02-22T10:00:48.408Z"
   },
   {
    "duration": 221,
    "start_time": "2022-02-22T10:01:12.154Z"
   },
   {
    "duration": 235,
    "start_time": "2022-02-22T10:01:58.938Z"
   },
   {
    "duration": 306,
    "start_time": "2022-02-22T10:02:23.602Z"
   },
   {
    "duration": 245,
    "start_time": "2022-02-22T10:20:17.447Z"
   },
   {
    "duration": 218,
    "start_time": "2022-02-22T10:20:26.653Z"
   },
   {
    "duration": 230,
    "start_time": "2022-02-22T10:20:56.420Z"
   },
   {
    "duration": 231,
    "start_time": "2022-02-22T10:21:32.500Z"
   },
   {
    "duration": 222,
    "start_time": "2022-02-22T10:21:45.063Z"
   },
   {
    "duration": 605,
    "start_time": "2022-02-22T10:22:15.912Z"
   },
   {
    "duration": 530,
    "start_time": "2022-02-22T10:22:28.210Z"
   },
   {
    "duration": 329,
    "start_time": "2022-02-22T10:22:33.571Z"
   },
   {
    "duration": 345,
    "start_time": "2022-02-22T10:22:40.259Z"
   },
   {
    "duration": 222,
    "start_time": "2022-02-22T10:23:44.908Z"
   },
   {
    "duration": 213,
    "start_time": "2022-02-22T10:23:57.177Z"
   },
   {
    "duration": 291,
    "start_time": "2022-02-22T11:33:08.543Z"
   },
   {
    "duration": 218,
    "start_time": "2022-02-22T11:34:53.939Z"
   },
   {
    "duration": 211,
    "start_time": "2022-02-22T11:39:25.506Z"
   },
   {
    "duration": 212,
    "start_time": "2022-02-22T11:39:31.218Z"
   },
   {
    "duration": 213,
    "start_time": "2022-02-22T11:40:08.009Z"
   },
   {
    "duration": 211,
    "start_time": "2022-02-22T11:40:19.498Z"
   },
   {
    "duration": 115,
    "start_time": "2022-02-22T11:48:21.127Z"
   },
   {
    "duration": 130,
    "start_time": "2022-02-22T11:48:35.882Z"
   },
   {
    "duration": 116,
    "start_time": "2022-02-22T11:48:52.682Z"
   },
   {
    "duration": 8,
    "start_time": "2022-02-22T11:50:01.077Z"
   },
   {
    "duration": 16,
    "start_time": "2022-02-22T11:50:14.001Z"
   },
   {
    "duration": 6,
    "start_time": "2022-02-22T11:50:57.955Z"
   },
   {
    "duration": 1063,
    "start_time": "2022-02-22T11:53:15.217Z"
   },
   {
    "duration": 75,
    "start_time": "2022-02-22T11:53:16.282Z"
   },
   {
    "duration": 16,
    "start_time": "2022-02-22T11:53:16.361Z"
   },
   {
    "duration": 14,
    "start_time": "2022-02-22T11:53:16.378Z"
   },
   {
    "duration": 14,
    "start_time": "2022-02-22T11:53:16.456Z"
   },
   {
    "duration": 4,
    "start_time": "2022-02-22T11:53:16.472Z"
   },
   {
    "duration": 20,
    "start_time": "2022-02-22T11:53:16.478Z"
   },
   {
    "duration": 47,
    "start_time": "2022-02-22T11:53:16.499Z"
   },
   {
    "duration": 9,
    "start_time": "2022-02-22T11:53:16.547Z"
   },
   {
    "duration": 5,
    "start_time": "2022-02-22T11:53:16.558Z"
   },
   {
    "duration": 15,
    "start_time": "2022-02-22T11:53:16.565Z"
   },
   {
    "duration": 8,
    "start_time": "2022-02-22T11:53:16.581Z"
   },
   {
    "duration": 57,
    "start_time": "2022-02-22T11:53:16.590Z"
   },
   {
    "duration": 12,
    "start_time": "2022-02-22T11:53:16.648Z"
   },
   {
    "duration": 11,
    "start_time": "2022-02-22T11:53:16.662Z"
   },
   {
    "duration": 10,
    "start_time": "2022-02-22T11:53:16.675Z"
   },
   {
    "duration": 67,
    "start_time": "2022-02-22T11:53:16.687Z"
   },
   {
    "duration": 6,
    "start_time": "2022-02-22T11:53:16.755Z"
   },
   {
    "duration": 5,
    "start_time": "2022-02-22T11:53:16.763Z"
   },
   {
    "duration": 7,
    "start_time": "2022-02-22T11:53:16.770Z"
   },
   {
    "duration": 9,
    "start_time": "2022-02-22T11:53:16.778Z"
   },
   {
    "duration": 4,
    "start_time": "2022-02-22T11:53:16.789Z"
   },
   {
    "duration": 6,
    "start_time": "2022-02-22T11:53:16.847Z"
   },
   {
    "duration": 10,
    "start_time": "2022-02-22T11:53:16.854Z"
   },
   {
    "duration": 14,
    "start_time": "2022-02-22T11:53:16.865Z"
   },
   {
    "duration": 389,
    "start_time": "2022-02-22T11:53:16.880Z"
   },
   {
    "duration": 310,
    "start_time": "2022-02-22T11:53:17.271Z"
   },
   {
    "duration": 3,
    "start_time": "2022-02-22T11:53:17.582Z"
   },
   {
    "duration": 251,
    "start_time": "2022-02-22T11:53:17.587Z"
   },
   {
    "duration": 244,
    "start_time": "2022-02-22T11:53:17.840Z"
   },
   {
    "duration": 238,
    "start_time": "2022-02-22T11:53:18.086Z"
   },
   {
    "duration": 302,
    "start_time": "2022-02-22T11:53:18.326Z"
   },
   {
    "duration": 235,
    "start_time": "2022-02-22T11:53:18.630Z"
   },
   {
    "duration": 235,
    "start_time": "2022-02-22T11:53:18.867Z"
   },
   {
    "duration": 226,
    "start_time": "2022-02-22T11:53:19.104Z"
   },
   {
    "duration": 19,
    "start_time": "2022-02-22T11:53:19.332Z"
   },
   {
    "duration": 7,
    "start_time": "2022-02-22T11:54:27.051Z"
   },
   {
    "duration": 396,
    "start_time": "2022-02-22T11:56:10.153Z"
   },
   {
    "duration": 8238,
    "start_time": "2022-02-22T11:56:17.737Z"
   },
   {
    "duration": 14,
    "start_time": "2022-02-22T11:56:55.746Z"
   },
   {
    "duration": 102,
    "start_time": "2022-02-22T11:58:10.628Z"
   },
   {
    "duration": 285,
    "start_time": "2022-02-22T11:58:17.454Z"
   },
   {
    "duration": 252,
    "start_time": "2022-02-22T11:58:36.866Z"
   },
   {
    "duration": 7,
    "start_time": "2022-02-22T11:58:56.865Z"
   },
   {
    "duration": 267,
    "start_time": "2022-02-22T11:58:58.164Z"
   },
   {
    "duration": 229,
    "start_time": "2022-02-22T12:03:10.823Z"
   },
   {
    "duration": 257,
    "start_time": "2022-02-22T12:03:23.797Z"
   },
   {
    "duration": 266,
    "start_time": "2022-02-22T12:03:30.370Z"
   },
   {
    "duration": 265,
    "start_time": "2022-02-22T12:03:41.766Z"
   },
   {
    "duration": 301,
    "start_time": "2022-02-22T12:04:59.685Z"
   },
   {
    "duration": 219,
    "start_time": "2022-02-22T12:05:08.627Z"
   },
   {
    "duration": 216,
    "start_time": "2022-02-22T12:05:14.333Z"
   },
   {
    "duration": 214,
    "start_time": "2022-02-22T12:05:21.021Z"
   },
   {
    "duration": 224,
    "start_time": "2022-02-22T12:05:26.185Z"
   },
   {
    "duration": 217,
    "start_time": "2022-02-22T12:05:37.558Z"
   },
   {
    "duration": 223,
    "start_time": "2022-02-22T12:05:42.313Z"
   },
   {
    "duration": 332,
    "start_time": "2022-02-22T12:05:48.600Z"
   },
   {
    "duration": 247,
    "start_time": "2022-02-22T12:05:53.243Z"
   },
   {
    "duration": 216,
    "start_time": "2022-02-22T12:05:58.626Z"
   },
   {
    "duration": 223,
    "start_time": "2022-02-22T12:06:03.365Z"
   },
   {
    "duration": 282,
    "start_time": "2022-02-22T12:06:07.931Z"
   },
   {
    "duration": 225,
    "start_time": "2022-02-22T12:06:14.975Z"
   },
   {
    "duration": 222,
    "start_time": "2022-02-22T12:10:38.806Z"
   },
   {
    "duration": 223,
    "start_time": "2022-02-22T12:11:13.914Z"
   },
   {
    "duration": 206,
    "start_time": "2022-02-22T13:10:09.916Z"
   },
   {
    "duration": 383,
    "start_time": "2022-02-22T13:10:33.466Z"
   },
   {
    "duration": 234,
    "start_time": "2022-02-22T13:10:40.187Z"
   },
   {
    "duration": 244,
    "start_time": "2022-02-22T13:11:05.348Z"
   },
   {
    "duration": 236,
    "start_time": "2022-02-22T13:11:23.195Z"
   },
   {
    "duration": 333,
    "start_time": "2022-02-22T13:11:30.369Z"
   },
   {
    "duration": 351,
    "start_time": "2022-02-22T13:11:43.155Z"
   },
   {
    "duration": 439,
    "start_time": "2022-02-22T13:11:54.770Z"
   },
   {
    "duration": 928,
    "start_time": "2022-02-22T13:12:44.038Z"
   },
   {
    "duration": 111,
    "start_time": "2022-02-22T13:14:03.884Z"
   },
   {
    "duration": 122,
    "start_time": "2022-02-22T13:14:09.972Z"
   },
   {
    "duration": 339,
    "start_time": "2022-02-22T13:14:22.057Z"
   },
   {
    "duration": 339,
    "start_time": "2022-02-22T13:15:09.213Z"
   },
   {
    "duration": 332,
    "start_time": "2022-02-22T13:15:15.926Z"
   },
   {
    "duration": 397,
    "start_time": "2022-02-22T13:18:56.695Z"
   },
   {
    "duration": 360,
    "start_time": "2022-02-22T13:20:46.585Z"
   },
   {
    "duration": 347,
    "start_time": "2022-02-22T13:20:52.552Z"
   },
   {
    "duration": 462,
    "start_time": "2022-02-22T13:20:58.405Z"
   },
   {
    "duration": 318,
    "start_time": "2022-02-22T13:33:29.139Z"
   },
   {
    "duration": 328,
    "start_time": "2022-02-22T13:33:48.718Z"
   },
   {
    "duration": 323,
    "start_time": "2022-02-22T13:33:56.606Z"
   },
   {
    "duration": 398,
    "start_time": "2022-02-22T13:52:35.348Z"
   },
   {
    "duration": 329,
    "start_time": "2022-02-22T13:53:41.705Z"
   },
   {
    "duration": 351,
    "start_time": "2022-02-22T13:54:23.645Z"
   },
   {
    "duration": 329,
    "start_time": "2022-02-22T13:56:37.401Z"
   },
   {
    "duration": 13,
    "start_time": "2022-02-22T14:00:16.066Z"
   },
   {
    "duration": 6,
    "start_time": "2022-02-22T14:00:53.946Z"
   },
   {
    "duration": 8,
    "start_time": "2022-02-22T14:01:03.776Z"
   },
   {
    "duration": 344,
    "start_time": "2022-02-22T14:03:35.747Z"
   },
   {
    "duration": 342,
    "start_time": "2022-02-22T14:03:44.433Z"
   },
   {
    "duration": 439,
    "start_time": "2022-02-22T14:03:58.476Z"
   },
   {
    "duration": 286,
    "start_time": "2022-02-22T14:04:39.844Z"
   },
   {
    "duration": 414,
    "start_time": "2022-02-22T14:09:14.621Z"
   },
   {
    "duration": 236,
    "start_time": "2022-02-22T14:10:22.165Z"
   },
   {
    "duration": 113,
    "start_time": "2022-02-22T14:10:28.216Z"
   },
   {
    "duration": 1024,
    "start_time": "2022-02-22T14:10:31.602Z"
   },
   {
    "duration": 407,
    "start_time": "2022-02-22T14:11:32.167Z"
   },
   {
    "duration": 297,
    "start_time": "2022-02-22T14:11:53.036Z"
   },
   {
    "duration": 1104,
    "start_time": "2022-02-22T14:12:26.963Z"
   },
   {
    "duration": 46,
    "start_time": "2022-02-22T14:12:28.069Z"
   },
   {
    "duration": 15,
    "start_time": "2022-02-22T14:12:28.117Z"
   },
   {
    "duration": 9,
    "start_time": "2022-02-22T14:12:28.134Z"
   },
   {
    "duration": 13,
    "start_time": "2022-02-22T14:12:28.145Z"
   },
   {
    "duration": 2,
    "start_time": "2022-02-22T14:12:28.160Z"
   },
   {
    "duration": 14,
    "start_time": "2022-02-22T14:12:28.164Z"
   },
   {
    "duration": 15,
    "start_time": "2022-02-22T14:12:28.180Z"
   },
   {
    "duration": 18,
    "start_time": "2022-02-22T14:12:28.197Z"
   },
   {
    "duration": 19,
    "start_time": "2022-02-22T14:12:28.216Z"
   },
   {
    "duration": 18,
    "start_time": "2022-02-22T14:12:28.236Z"
   },
   {
    "duration": 14,
    "start_time": "2022-02-22T14:12:28.256Z"
   },
   {
    "duration": 10,
    "start_time": "2022-02-22T14:12:28.272Z"
   },
   {
    "duration": 19,
    "start_time": "2022-02-22T14:12:28.284Z"
   },
   {
    "duration": 13,
    "start_time": "2022-02-22T14:12:28.304Z"
   },
   {
    "duration": 16,
    "start_time": "2022-02-22T14:12:28.319Z"
   },
   {
    "duration": 19,
    "start_time": "2022-02-22T14:12:28.336Z"
   },
   {
    "duration": 6,
    "start_time": "2022-02-22T14:12:28.357Z"
   },
   {
    "duration": 17,
    "start_time": "2022-02-22T14:12:28.365Z"
   },
   {
    "duration": 14,
    "start_time": "2022-02-22T14:12:28.383Z"
   },
   {
    "duration": 11,
    "start_time": "2022-02-22T14:12:28.398Z"
   },
   {
    "duration": 18,
    "start_time": "2022-02-22T14:12:28.410Z"
   },
   {
    "duration": 15,
    "start_time": "2022-02-22T14:12:28.430Z"
   },
   {
    "duration": 21,
    "start_time": "2022-02-22T14:12:28.447Z"
   },
   {
    "duration": 20,
    "start_time": "2022-02-22T14:12:28.470Z"
   },
   {
    "duration": 358,
    "start_time": "2022-02-22T14:12:28.492Z"
   },
   {
    "duration": 311,
    "start_time": "2022-02-22T14:12:28.851Z"
   },
   {
    "duration": 5,
    "start_time": "2022-02-22T14:12:29.164Z"
   },
   {
    "duration": 250,
    "start_time": "2022-02-22T14:12:29.171Z"
   },
   {
    "duration": 245,
    "start_time": "2022-02-22T14:12:29.423Z"
   },
   {
    "duration": 232,
    "start_time": "2022-02-22T14:12:29.670Z"
   },
   {
    "duration": 310,
    "start_time": "2022-02-22T14:12:29.904Z"
   },
   {
    "duration": 232,
    "start_time": "2022-02-22T14:12:30.216Z"
   },
   {
    "duration": 225,
    "start_time": "2022-02-22T14:12:30.449Z"
   },
   {
    "duration": 230,
    "start_time": "2022-02-22T14:12:30.676Z"
   },
   {
    "duration": 7,
    "start_time": "2022-02-22T14:12:30.908Z"
   },
   {
    "duration": 336,
    "start_time": "2022-02-22T14:12:30.917Z"
   },
   {
    "duration": 333,
    "start_time": "2022-02-22T14:12:31.255Z"
   },
   {
    "duration": 340,
    "start_time": "2022-02-22T14:12:31.589Z"
   },
   {
    "duration": 359,
    "start_time": "2022-02-22T14:12:31.931Z"
   },
   {
    "duration": 10,
    "start_time": "2022-02-22T14:12:32.292Z"
   },
   {
    "duration": 311,
    "start_time": "2022-02-22T14:12:32.303Z"
   },
   {
    "duration": 427,
    "start_time": "2022-02-22T14:12:32.615Z"
   },
   {
    "duration": 332,
    "start_time": "2022-02-22T14:12:56.572Z"
   },
   {
    "duration": 453,
    "start_time": "2022-02-22T14:13:26.109Z"
   },
   {
    "duration": 14,
    "start_time": "2022-02-22T14:14:01.048Z"
   },
   {
    "duration": 319,
    "start_time": "2022-02-22T14:14:33.798Z"
   },
   {
    "duration": 397,
    "start_time": "2022-02-22T14:14:57.574Z"
   },
   {
    "duration": 325,
    "start_time": "2022-02-22T14:15:34.122Z"
   },
   {
    "duration": 1098,
    "start_time": "2022-02-22T14:15:53.682Z"
   },
   {
    "duration": 37,
    "start_time": "2022-02-22T14:15:54.782Z"
   },
   {
    "duration": 17,
    "start_time": "2022-02-22T14:15:54.821Z"
   },
   {
    "duration": 15,
    "start_time": "2022-02-22T14:15:54.840Z"
   },
   {
    "duration": 15,
    "start_time": "2022-02-22T14:15:54.857Z"
   },
   {
    "duration": 3,
    "start_time": "2022-02-22T14:15:54.874Z"
   },
   {
    "duration": 14,
    "start_time": "2022-02-22T14:15:54.879Z"
   },
   {
    "duration": 5,
    "start_time": "2022-02-22T14:15:54.896Z"
   },
   {
    "duration": 51,
    "start_time": "2022-02-22T14:15:54.904Z"
   },
   {
    "duration": 5,
    "start_time": "2022-02-22T14:15:54.957Z"
   },
   {
    "duration": 5,
    "start_time": "2022-02-22T14:15:54.963Z"
   },
   {
    "duration": 5,
    "start_time": "2022-02-22T14:15:54.970Z"
   },
   {
    "duration": 8,
    "start_time": "2022-02-22T14:15:54.977Z"
   },
   {
    "duration": 60,
    "start_time": "2022-02-22T14:15:54.987Z"
   },
   {
    "duration": 8,
    "start_time": "2022-02-22T14:15:55.048Z"
   },
   {
    "duration": 8,
    "start_time": "2022-02-22T14:15:55.058Z"
   },
   {
    "duration": 18,
    "start_time": "2022-02-22T14:15:55.067Z"
   },
   {
    "duration": 61,
    "start_time": "2022-02-22T14:15:55.087Z"
   },
   {
    "duration": 6,
    "start_time": "2022-02-22T14:15:55.150Z"
   },
   {
    "duration": 8,
    "start_time": "2022-02-22T14:15:55.157Z"
   },
   {
    "duration": 7,
    "start_time": "2022-02-22T14:15:55.167Z"
   },
   {
    "duration": 5,
    "start_time": "2022-02-22T14:15:55.175Z"
   },
   {
    "duration": 6,
    "start_time": "2022-02-22T14:15:55.183Z"
   },
   {
    "duration": 56,
    "start_time": "2022-02-22T14:15:55.190Z"
   },
   {
    "duration": 15,
    "start_time": "2022-02-22T14:15:55.247Z"
   },
   {
    "duration": 521,
    "start_time": "2022-02-22T14:15:55.264Z"
   },
   {
    "duration": 313,
    "start_time": "2022-02-22T14:15:55.786Z"
   },
   {
    "duration": 4,
    "start_time": "2022-02-22T14:15:56.100Z"
   },
   {
    "duration": 247,
    "start_time": "2022-02-22T14:15:56.106Z"
   },
   {
    "duration": 237,
    "start_time": "2022-02-22T14:15:56.355Z"
   },
   {
    "duration": 234,
    "start_time": "2022-02-22T14:15:56.594Z"
   },
   {
    "duration": 292,
    "start_time": "2022-02-22T14:15:56.830Z"
   },
   {
    "duration": 233,
    "start_time": "2022-02-22T14:15:57.124Z"
   },
   {
    "duration": 233,
    "start_time": "2022-02-22T14:15:57.358Z"
   },
   {
    "duration": 229,
    "start_time": "2022-02-22T14:15:57.592Z"
   },
   {
    "duration": 7,
    "start_time": "2022-02-22T14:15:57.823Z"
   },
   {
    "duration": 239,
    "start_time": "2022-02-22T14:15:57.832Z"
   },
   {
    "duration": 333,
    "start_time": "2022-02-22T14:15:58.073Z"
   },
   {
    "duration": 360,
    "start_time": "2022-02-22T14:15:58.408Z"
   },
   {
    "duration": 362,
    "start_time": "2022-02-22T14:15:58.770Z"
   },
   {
    "duration": 21,
    "start_time": "2022-02-22T14:15:59.133Z"
   },
   {
    "duration": 299,
    "start_time": "2022-02-22T14:15:59.155Z"
   },
   {
    "duration": 436,
    "start_time": "2022-02-22T14:15:59.456Z"
   },
   {
    "duration": 466,
    "start_time": "2022-02-22T14:15:59.894Z"
   },
   {
    "duration": 15,
    "start_time": "2022-02-22T14:16:00.362Z"
   },
   {
    "duration": 382,
    "start_time": "2022-02-22T14:16:00.379Z"
   },
   {
    "duration": 242,
    "start_time": "2022-02-22T14:20:33.160Z"
   },
   {
    "duration": 489,
    "start_time": "2022-02-22T14:22:07.032Z"
   },
   {
    "duration": 538,
    "start_time": "2022-02-22T14:23:18.703Z"
   },
   {
    "duration": 1066,
    "start_time": "2022-02-22T14:25:12.515Z"
   },
   {
    "duration": 37,
    "start_time": "2022-02-22T14:25:13.583Z"
   },
   {
    "duration": 15,
    "start_time": "2022-02-22T14:25:13.622Z"
   },
   {
    "duration": 10,
    "start_time": "2022-02-22T14:25:13.639Z"
   },
   {
    "duration": 13,
    "start_time": "2022-02-22T14:25:13.650Z"
   },
   {
    "duration": 3,
    "start_time": "2022-02-22T14:25:13.664Z"
   },
   {
    "duration": 13,
    "start_time": "2022-02-22T14:25:13.668Z"
   },
   {
    "duration": 5,
    "start_time": "2022-02-22T14:25:13.682Z"
   },
   {
    "duration": 8,
    "start_time": "2022-02-22T14:25:13.689Z"
   },
   {
    "duration": 4,
    "start_time": "2022-02-22T14:25:13.699Z"
   },
   {
    "duration": 43,
    "start_time": "2022-02-22T14:25:13.705Z"
   },
   {
    "duration": 10,
    "start_time": "2022-02-22T14:25:13.749Z"
   },
   {
    "duration": 9,
    "start_time": "2022-02-22T14:25:13.760Z"
   },
   {
    "duration": 11,
    "start_time": "2022-02-22T14:25:13.771Z"
   },
   {
    "duration": 8,
    "start_time": "2022-02-22T14:25:13.783Z"
   },
   {
    "duration": 13,
    "start_time": "2022-02-22T14:25:13.793Z"
   },
   {
    "duration": 39,
    "start_time": "2022-02-22T14:25:13.808Z"
   },
   {
    "duration": 6,
    "start_time": "2022-02-22T14:25:13.849Z"
   },
   {
    "duration": 6,
    "start_time": "2022-02-22T14:25:13.857Z"
   },
   {
    "duration": 8,
    "start_time": "2022-02-22T14:25:13.864Z"
   },
   {
    "duration": 9,
    "start_time": "2022-02-22T14:25:13.873Z"
   },
   {
    "duration": 5,
    "start_time": "2022-02-22T14:25:13.883Z"
   },
   {
    "duration": 8,
    "start_time": "2022-02-22T14:25:13.890Z"
   },
   {
    "duration": 5,
    "start_time": "2022-02-22T14:25:13.899Z"
   },
   {
    "duration": 49,
    "start_time": "2022-02-22T14:25:13.906Z"
   },
   {
    "duration": 347,
    "start_time": "2022-02-22T14:25:13.957Z"
   },
   {
    "duration": 312,
    "start_time": "2022-02-22T14:25:14.308Z"
   },
   {
    "duration": 3,
    "start_time": "2022-02-22T14:25:14.622Z"
   },
   {
    "duration": 245,
    "start_time": "2022-02-22T14:25:14.626Z"
   },
   {
    "duration": 246,
    "start_time": "2022-02-22T14:25:14.873Z"
   },
   {
    "duration": 244,
    "start_time": "2022-02-22T14:25:15.121Z"
   },
   {
    "duration": 294,
    "start_time": "2022-02-22T14:25:15.367Z"
   },
   {
    "duration": 228,
    "start_time": "2022-02-22T14:25:15.663Z"
   },
   {
    "duration": 229,
    "start_time": "2022-02-22T14:25:15.893Z"
   },
   {
    "duration": 239,
    "start_time": "2022-02-22T14:25:16.123Z"
   },
   {
    "duration": 8,
    "start_time": "2022-02-22T14:25:16.363Z"
   },
   {
    "duration": 263,
    "start_time": "2022-02-22T14:25:16.373Z"
   },
   {
    "duration": 332,
    "start_time": "2022-02-22T14:25:16.638Z"
   },
   {
    "duration": 371,
    "start_time": "2022-02-22T14:25:16.972Z"
   },
   {
    "duration": 365,
    "start_time": "2022-02-22T14:25:17.344Z"
   },
   {
    "duration": 13,
    "start_time": "2022-02-22T14:25:17.711Z"
   },
   {
    "duration": 340,
    "start_time": "2022-02-22T14:25:17.726Z"
   },
   {
    "duration": 421,
    "start_time": "2022-02-22T14:25:18.068Z"
   },
   {
    "duration": 589,
    "start_time": "2022-02-22T14:25:18.490Z"
   },
   {
    "duration": 67,
    "start_time": "2022-02-22T14:25:19.080Z"
   },
   {
    "duration": 413,
    "start_time": "2022-02-22T14:25:19.148Z"
   },
   {
    "duration": 464,
    "start_time": "2022-02-22T14:25:19.563Z"
   },
   {
    "duration": 340,
    "start_time": "2022-02-22T14:26:22.349Z"
   },
   {
    "duration": 178,
    "start_time": "2022-02-22T14:27:21.301Z"
   },
   {
    "duration": 350,
    "start_time": "2022-02-22T14:27:37.198Z"
   },
   {
    "duration": 341,
    "start_time": "2022-02-22T14:27:51.861Z"
   },
   {
    "duration": 218,
    "start_time": "2022-02-22T14:28:27.240Z"
   },
   {
    "duration": 373,
    "start_time": "2022-02-22T14:28:37.302Z"
   },
   {
    "duration": 14,
    "start_time": "2022-02-22T14:29:05.713Z"
   },
   {
    "duration": 2218,
    "start_time": "2022-02-22T14:35:57.096Z"
   },
   {
    "duration": 124,
    "start_time": "2022-02-22T14:36:19.695Z"
   },
   {
    "duration": 13,
    "start_time": "2022-02-22T14:36:26.363Z"
   },
   {
    "duration": 1103,
    "start_time": "2022-02-22T15:36:39.760Z"
   },
   {
    "duration": 35,
    "start_time": "2022-02-22T15:36:40.865Z"
   },
   {
    "duration": 17,
    "start_time": "2022-02-22T15:36:40.902Z"
   },
   {
    "duration": 10,
    "start_time": "2022-02-22T15:36:40.920Z"
   },
   {
    "duration": 20,
    "start_time": "2022-02-22T15:36:40.932Z"
   },
   {
    "duration": 2,
    "start_time": "2022-02-22T15:36:40.954Z"
   },
   {
    "duration": 14,
    "start_time": "2022-02-22T15:36:40.958Z"
   },
   {
    "duration": 6,
    "start_time": "2022-02-22T15:36:40.973Z"
   },
   {
    "duration": 10,
    "start_time": "2022-02-22T15:36:40.982Z"
   },
   {
    "duration": 4,
    "start_time": "2022-02-22T15:36:40.994Z"
   },
   {
    "duration": 5,
    "start_time": "2022-02-22T15:36:40.999Z"
   },
   {
    "duration": 7,
    "start_time": "2022-02-22T15:36:41.005Z"
   },
   {
    "duration": 8,
    "start_time": "2022-02-22T15:36:41.013Z"
   },
   {
    "duration": 32,
    "start_time": "2022-02-22T15:36:41.023Z"
   },
   {
    "duration": 8,
    "start_time": "2022-02-22T15:36:41.056Z"
   },
   {
    "duration": 6,
    "start_time": "2022-02-22T15:36:41.066Z"
   },
   {
    "duration": 18,
    "start_time": "2022-02-22T15:36:41.073Z"
   },
   {
    "duration": 5,
    "start_time": "2022-02-22T15:36:41.093Z"
   },
   {
    "duration": 7,
    "start_time": "2022-02-22T15:36:41.099Z"
   },
   {
    "duration": 38,
    "start_time": "2022-02-22T15:36:41.107Z"
   },
   {
    "duration": 6,
    "start_time": "2022-02-22T15:36:41.146Z"
   },
   {
    "duration": 9,
    "start_time": "2022-02-22T15:36:41.153Z"
   },
   {
    "duration": 7,
    "start_time": "2022-02-22T15:36:41.164Z"
   },
   {
    "duration": 6,
    "start_time": "2022-02-22T15:36:41.173Z"
   },
   {
    "duration": 14,
    "start_time": "2022-02-22T15:36:41.180Z"
   },
   {
    "duration": 370,
    "start_time": "2022-02-22T15:36:41.195Z"
   },
   {
    "duration": 397,
    "start_time": "2022-02-22T15:36:41.568Z"
   },
   {
    "duration": 4,
    "start_time": "2022-02-22T15:36:41.967Z"
   },
   {
    "duration": 360,
    "start_time": "2022-02-22T15:36:41.972Z"
   },
   {
    "duration": 241,
    "start_time": "2022-02-22T15:36:42.334Z"
   },
   {
    "duration": 232,
    "start_time": "2022-02-22T15:36:42.577Z"
   },
   {
    "duration": 291,
    "start_time": "2022-02-22T15:36:42.811Z"
   },
   {
    "duration": 244,
    "start_time": "2022-02-22T15:36:43.104Z"
   },
   {
    "duration": 249,
    "start_time": "2022-02-22T15:36:43.350Z"
   },
   {
    "duration": 229,
    "start_time": "2022-02-22T15:36:43.601Z"
   },
   {
    "duration": 15,
    "start_time": "2022-02-22T15:36:43.832Z"
   },
   {
    "duration": 237,
    "start_time": "2022-02-22T15:36:43.848Z"
   },
   {
    "duration": 435,
    "start_time": "2022-02-22T15:36:44.087Z"
   },
   {
    "duration": 371,
    "start_time": "2022-02-22T15:36:44.524Z"
   },
   {
    "duration": 339,
    "start_time": "2022-02-22T15:36:44.897Z"
   },
   {
    "duration": 15,
    "start_time": "2022-02-22T15:36:45.237Z"
   },
   {
    "duration": 287,
    "start_time": "2022-02-22T15:36:45.254Z"
   },
   {
    "duration": 414,
    "start_time": "2022-02-22T15:36:45.546Z"
   },
   {
    "duration": 405,
    "start_time": "2022-02-22T15:36:45.962Z"
   },
   {
    "duration": 12,
    "start_time": "2022-02-22T15:36:46.368Z"
   },
   {
    "duration": 371,
    "start_time": "2022-02-22T15:36:46.381Z"
   },
   {
    "duration": 12,
    "start_time": "2022-02-22T15:36:46.753Z"
   },
   {
    "duration": 403,
    "start_time": "2022-02-22T15:36:46.767Z"
   },
   {
    "duration": -591,
    "start_time": "2022-02-22T15:36:47.762Z"
   },
   {
    "duration": 2,
    "start_time": "2022-02-22T15:43:21.607Z"
   },
   {
    "duration": 9,
    "start_time": "2022-02-22T15:43:51.655Z"
   },
   {
    "duration": 522,
    "start_time": "2022-02-22T15:43:53.513Z"
   },
   {
    "duration": 233,
    "start_time": "2022-02-22T15:45:08.716Z"
   },
   {
    "duration": 210,
    "start_time": "2022-02-22T15:45:51.229Z"
   },
   {
    "duration": 238,
    "start_time": "2022-02-22T15:46:16.977Z"
   },
   {
    "duration": 233,
    "start_time": "2022-02-22T15:46:22.957Z"
   },
   {
    "duration": 151,
    "start_time": "2022-02-22T15:46:38.046Z"
   },
   {
    "duration": 331,
    "start_time": "2022-02-22T15:46:44.410Z"
   },
   {
    "duration": 360,
    "start_time": "2022-02-22T15:47:44.711Z"
   },
   {
    "duration": 332,
    "start_time": "2022-02-22T15:48:31.758Z"
   },
   {
    "duration": 335,
    "start_time": "2022-02-22T15:48:44.636Z"
   },
   {
    "duration": 443,
    "start_time": "2022-02-22T15:49:01.495Z"
   },
   {
    "duration": 349,
    "start_time": "2022-02-22T15:49:07.442Z"
   },
   {
    "duration": 335,
    "start_time": "2022-02-22T15:50:23.436Z"
   },
   {
    "duration": 326,
    "start_time": "2022-02-22T15:50:41.003Z"
   },
   {
    "duration": 330,
    "start_time": "2022-02-22T15:54:54.327Z"
   },
   {
    "duration": 565,
    "start_time": "2022-02-22T15:55:16.470Z"
   },
   {
    "duration": 239,
    "start_time": "2022-02-22T15:55:27.393Z"
   },
   {
    "duration": 242,
    "start_time": "2022-02-22T15:55:33.223Z"
   },
   {
    "duration": 304,
    "start_time": "2022-02-22T15:55:38.634Z"
   },
   {
    "duration": 604,
    "start_time": "2022-02-22T15:55:45.584Z"
   },
   {
    "duration": 254,
    "start_time": "2022-02-22T15:55:49.256Z"
   },
   {
    "duration": 238,
    "start_time": "2022-02-22T15:55:55.294Z"
   },
   {
    "duration": 257,
    "start_time": "2022-02-22T15:56:01.308Z"
   },
   {
    "duration": 234,
    "start_time": "2022-02-22T15:56:04.865Z"
   },
   {
    "duration": 243,
    "start_time": "2022-02-22T15:56:08.543Z"
   },
   {
    "duration": 241,
    "start_time": "2022-02-22T15:56:12.687Z"
   },
   {
    "duration": 236,
    "start_time": "2022-02-22T15:56:17.270Z"
   },
   {
    "duration": 338,
    "start_time": "2022-02-22T15:56:22.751Z"
   },
   {
    "duration": 239,
    "start_time": "2022-02-22T15:56:29.770Z"
   },
   {
    "duration": 313,
    "start_time": "2022-02-22T15:56:33.778Z"
   },
   {
    "duration": 597,
    "start_time": "2022-02-22T15:56:37.631Z"
   },
   {
    "duration": 239,
    "start_time": "2022-02-22T15:56:47.668Z"
   },
   {
    "duration": 239,
    "start_time": "2022-02-22T15:56:51.429Z"
   },
   {
    "duration": 118,
    "start_time": "2022-02-22T15:56:54.299Z"
   },
   {
    "duration": 240,
    "start_time": "2022-02-22T15:56:57.456Z"
   },
   {
    "duration": 291,
    "start_time": "2022-02-22T15:57:01.464Z"
   },
   {
    "duration": 238,
    "start_time": "2022-02-22T15:57:04.830Z"
   },
   {
    "duration": 239,
    "start_time": "2022-02-22T15:57:09.608Z"
   },
   {
    "duration": 235,
    "start_time": "2022-02-22T15:57:15.527Z"
   },
   {
    "duration": 242,
    "start_time": "2022-02-22T15:57:21.046Z"
   },
   {
    "duration": 237,
    "start_time": "2022-02-22T15:57:25.023Z"
   },
   {
    "duration": 315,
    "start_time": "2022-02-22T15:57:28.992Z"
   },
   {
    "duration": 236,
    "start_time": "2022-02-22T15:57:33.571Z"
   },
   {
    "duration": 242,
    "start_time": "2022-02-22T15:57:39.704Z"
   },
   {
    "duration": 246,
    "start_time": "2022-02-22T15:57:43.660Z"
   },
   {
    "duration": 304,
    "start_time": "2022-02-22T15:57:46.359Z"
   },
   {
    "duration": 255,
    "start_time": "2022-02-22T15:57:50.460Z"
   },
   {
    "duration": 238,
    "start_time": "2022-02-22T15:57:54.421Z"
   },
   {
    "duration": 237,
    "start_time": "2022-02-22T15:57:56.894Z"
   },
   {
    "duration": 247,
    "start_time": "2022-02-22T15:58:01.157Z"
   },
   {
    "duration": 237,
    "start_time": "2022-02-22T15:58:04.098Z"
   },
   {
    "duration": 240,
    "start_time": "2022-02-22T15:58:08.121Z"
   },
   {
    "duration": 311,
    "start_time": "2022-02-22T15:58:11.271Z"
   },
   {
    "duration": 244,
    "start_time": "2022-02-22T15:58:14.646Z"
   },
   {
    "duration": 245,
    "start_time": "2022-02-22T15:58:18.371Z"
   },
   {
    "duration": 262,
    "start_time": "2022-02-22T15:59:05.214Z"
   },
   {
    "duration": 241,
    "start_time": "2022-02-22T16:01:27.462Z"
   },
   {
    "duration": 240,
    "start_time": "2022-02-22T16:01:30.338Z"
   },
   {
    "duration": 238,
    "start_time": "2022-02-22T16:01:33.294Z"
   },
   {
    "duration": 239,
    "start_time": "2022-02-22T16:01:37.751Z"
   },
   {
    "duration": 237,
    "start_time": "2022-02-22T16:01:40.303Z"
   },
   {
    "duration": 241,
    "start_time": "2022-02-22T16:01:42.166Z"
   },
   {
    "duration": 301,
    "start_time": "2022-02-22T16:01:46.402Z"
   },
   {
    "duration": 321,
    "start_time": "2022-02-22T16:01:48.981Z"
   },
   {
    "duration": 234,
    "start_time": "2022-02-22T16:02:42.552Z"
   },
   {
    "duration": 238,
    "start_time": "2022-02-22T16:03:41.010Z"
   },
   {
    "duration": 233,
    "start_time": "2022-02-22T16:05:03.701Z"
   },
   {
    "duration": 323,
    "start_time": "2022-02-22T16:05:28.498Z"
   },
   {
    "duration": 231,
    "start_time": "2022-02-22T16:05:33.117Z"
   },
   {
    "duration": 233,
    "start_time": "2022-02-22T16:05:36.815Z"
   },
   {
    "duration": 233,
    "start_time": "2022-02-22T16:05:40.304Z"
   },
   {
    "duration": 247,
    "start_time": "2022-02-22T16:05:46.258Z"
   },
   {
    "duration": 231,
    "start_time": "2022-02-22T16:05:56.058Z"
   },
   {
    "duration": 249,
    "start_time": "2022-02-22T16:06:03.847Z"
   },
   {
    "duration": 309,
    "start_time": "2022-02-22T16:07:07.141Z"
   },
   {
    "duration": 365,
    "start_time": "2022-02-22T16:11:27.879Z"
   },
   {
    "duration": 1098,
    "start_time": "2022-02-22T16:22:57.548Z"
   },
   {
    "duration": 47,
    "start_time": "2022-02-22T16:22:58.647Z"
   },
   {
    "duration": 16,
    "start_time": "2022-02-22T16:22:58.696Z"
   },
   {
    "duration": 14,
    "start_time": "2022-02-22T16:22:58.714Z"
   },
   {
    "duration": 13,
    "start_time": "2022-02-22T16:22:58.730Z"
   },
   {
    "duration": 3,
    "start_time": "2022-02-22T16:22:58.745Z"
   },
   {
    "duration": 14,
    "start_time": "2022-02-22T16:22:58.750Z"
   },
   {
    "duration": 5,
    "start_time": "2022-02-22T16:22:58.766Z"
   },
   {
    "duration": 13,
    "start_time": "2022-02-22T16:22:58.772Z"
   },
   {
    "duration": 6,
    "start_time": "2022-02-22T16:22:58.787Z"
   },
   {
    "duration": 18,
    "start_time": "2022-02-22T16:22:58.794Z"
   },
   {
    "duration": 8,
    "start_time": "2022-02-22T16:22:58.813Z"
   },
   {
    "duration": 12,
    "start_time": "2022-02-22T16:22:58.822Z"
   },
   {
    "duration": 30,
    "start_time": "2022-02-22T16:22:58.835Z"
   },
   {
    "duration": 12,
    "start_time": "2022-02-22T16:22:58.867Z"
   },
   {
    "duration": 6,
    "start_time": "2022-02-22T16:22:58.881Z"
   },
   {
    "duration": 18,
    "start_time": "2022-02-22T16:22:58.889Z"
   },
   {
    "duration": 6,
    "start_time": "2022-02-22T16:22:58.909Z"
   },
   {
    "duration": 6,
    "start_time": "2022-02-22T16:22:58.917Z"
   },
   {
    "duration": 25,
    "start_time": "2022-02-22T16:22:58.924Z"
   },
   {
    "duration": 8,
    "start_time": "2022-02-22T16:22:58.950Z"
   },
   {
    "duration": 6,
    "start_time": "2022-02-22T16:22:58.959Z"
   },
   {
    "duration": 9,
    "start_time": "2022-02-22T16:22:58.968Z"
   },
   {
    "duration": 8,
    "start_time": "2022-02-22T16:22:58.979Z"
   },
   {
    "duration": 13,
    "start_time": "2022-02-22T16:22:58.988Z"
   },
   {
    "duration": 373,
    "start_time": "2022-02-22T16:22:59.002Z"
   },
   {
    "duration": 415,
    "start_time": "2022-02-22T16:22:59.377Z"
   },
   {
    "duration": 3,
    "start_time": "2022-02-22T16:22:59.847Z"
   },
   {
    "duration": 300,
    "start_time": "2022-02-22T16:22:59.851Z"
   },
   {
    "duration": 256,
    "start_time": "2022-02-22T16:23:00.153Z"
   },
   {
    "duration": 263,
    "start_time": "2022-02-22T16:23:00.410Z"
   },
   {
    "duration": 323,
    "start_time": "2022-02-22T16:23:00.674Z"
   },
   {
    "duration": 260,
    "start_time": "2022-02-22T16:23:00.999Z"
   },
   {
    "duration": 247,
    "start_time": "2022-02-22T16:23:01.260Z"
   },
   {
    "duration": 231,
    "start_time": "2022-02-22T16:23:01.509Z"
   },
   {
    "duration": 8,
    "start_time": "2022-02-22T16:23:01.745Z"
   },
   {
    "duration": 335,
    "start_time": "2022-02-22T16:23:01.754Z"
   },
   {
    "duration": 320,
    "start_time": "2022-02-22T16:23:02.091Z"
   },
   {
    "duration": 380,
    "start_time": "2022-02-22T16:23:02.413Z"
   },
   {
    "duration": 330,
    "start_time": "2022-02-22T16:23:02.795Z"
   },
   {
    "duration": 19,
    "start_time": "2022-02-22T16:23:03.127Z"
   },
   {
    "duration": 287,
    "start_time": "2022-02-22T16:23:03.148Z"
   },
   {
    "duration": 421,
    "start_time": "2022-02-22T16:23:03.436Z"
   },
   {
    "duration": 411,
    "start_time": "2022-02-22T16:23:03.859Z"
   },
   {
    "duration": 12,
    "start_time": "2022-02-22T16:23:04.271Z"
   },
   {
    "duration": 364,
    "start_time": "2022-02-22T16:23:04.285Z"
   },
   {
    "duration": 242,
    "start_time": "2022-02-22T16:23:04.651Z"
   },
   {
    "duration": 236,
    "start_time": "2022-02-22T16:23:04.895Z"
   },
   {
    "duration": 313,
    "start_time": "2022-02-26T08:36:47.312Z"
   },
   {
    "duration": 1162,
    "start_time": "2022-02-26T08:37:05.719Z"
   },
   {
    "duration": 49,
    "start_time": "2022-02-26T08:37:06.883Z"
   },
   {
    "duration": 19,
    "start_time": "2022-02-26T08:37:06.934Z"
   },
   {
    "duration": 15,
    "start_time": "2022-02-26T08:37:06.955Z"
   },
   {
    "duration": 19,
    "start_time": "2022-02-26T08:37:06.972Z"
   },
   {
    "duration": 3,
    "start_time": "2022-02-26T08:37:06.992Z"
   },
   {
    "duration": 20,
    "start_time": "2022-02-26T08:37:06.996Z"
   },
   {
    "duration": 8,
    "start_time": "2022-02-26T08:37:07.019Z"
   },
   {
    "duration": 13,
    "start_time": "2022-02-26T08:37:07.029Z"
   },
   {
    "duration": 5,
    "start_time": "2022-02-26T08:37:07.044Z"
   },
   {
    "duration": 21,
    "start_time": "2022-02-26T08:37:07.051Z"
   },
   {
    "duration": 9,
    "start_time": "2022-02-26T08:37:07.074Z"
   },
   {
    "duration": 12,
    "start_time": "2022-02-26T08:37:07.085Z"
   },
   {
    "duration": 29,
    "start_time": "2022-02-26T08:37:07.099Z"
   },
   {
    "duration": 25,
    "start_time": "2022-02-26T08:37:07.130Z"
   },
   {
    "duration": 8,
    "start_time": "2022-02-26T08:37:07.156Z"
   },
   {
    "duration": 21,
    "start_time": "2022-02-26T08:37:07.169Z"
   },
   {
    "duration": 9,
    "start_time": "2022-02-26T08:37:07.192Z"
   },
   {
    "duration": 8,
    "start_time": "2022-02-26T08:37:07.203Z"
   },
   {
    "duration": 9,
    "start_time": "2022-02-26T08:37:07.213Z"
   },
   {
    "duration": 10,
    "start_time": "2022-02-26T08:37:07.224Z"
   },
   {
    "duration": 35,
    "start_time": "2022-02-26T08:37:07.236Z"
   },
   {
    "duration": 8,
    "start_time": "2022-02-26T08:37:07.275Z"
   },
   {
    "duration": 10,
    "start_time": "2022-02-26T08:37:07.285Z"
   },
   {
    "duration": 22,
    "start_time": "2022-02-26T08:37:07.297Z"
   },
   {
    "duration": 498,
    "start_time": "2022-02-26T08:37:07.321Z"
   },
   {
    "duration": 586,
    "start_time": "2022-02-26T08:37:07.821Z"
   },
   {
    "duration": 4,
    "start_time": "2022-02-26T08:37:08.408Z"
   },
   {
    "duration": 378,
    "start_time": "2022-02-26T08:37:08.469Z"
   },
   {
    "duration": 313,
    "start_time": "2022-02-26T08:37:08.849Z"
   },
   {
    "duration": 302,
    "start_time": "2022-02-26T08:37:09.169Z"
   },
   {
    "duration": 374,
    "start_time": "2022-02-26T08:37:09.473Z"
   },
   {
    "duration": 305,
    "start_time": "2022-02-26T08:37:09.849Z"
   },
   {
    "duration": 315,
    "start_time": "2022-02-26T08:37:10.156Z"
   },
   {
    "duration": 307,
    "start_time": "2022-02-26T08:37:10.472Z"
   },
   {
    "duration": 8,
    "start_time": "2022-02-26T08:37:10.781Z"
   },
   {
    "duration": 311,
    "start_time": "2022-02-26T08:37:10.791Z"
   },
   {
    "duration": 411,
    "start_time": "2022-02-26T08:37:11.105Z"
   },
   {
    "duration": 402,
    "start_time": "2022-02-26T08:37:11.519Z"
   },
   {
    "duration": 427,
    "start_time": "2022-02-26T08:37:11.923Z"
   },
   {
    "duration": 19,
    "start_time": "2022-02-26T08:37:12.351Z"
   },
   {
    "duration": 345,
    "start_time": "2022-02-26T08:37:12.372Z"
   },
   {
    "duration": 523,
    "start_time": "2022-02-26T08:37:12.718Z"
   },
   {
    "duration": 517,
    "start_time": "2022-02-26T08:37:13.242Z"
   },
   {
    "duration": 20,
    "start_time": "2022-02-26T08:37:13.761Z"
   },
   {
    "duration": 441,
    "start_time": "2022-02-26T08:37:13.782Z"
   },
   {
    "duration": 323,
    "start_time": "2022-02-26T08:37:14.225Z"
   },
   {
    "duration": 313,
    "start_time": "2022-02-26T08:37:14.550Z"
   },
   {
    "duration": 374,
    "start_time": "2022-02-26T08:37:14.865Z"
   },
   {
    "duration": 11,
    "start_time": "2022-02-26T08:37:43.813Z"
   },
   {
    "duration": 8,
    "start_time": "2022-02-26T08:37:54.880Z"
   },
   {
    "duration": 10,
    "start_time": "2022-02-26T08:38:20.763Z"
   },
   {
    "duration": 8,
    "start_time": "2022-02-26T08:38:22.399Z"
   },
   {
    "duration": 259,
    "start_time": "2022-02-26T08:40:46.872Z"
   },
   {
    "duration": 247,
    "start_time": "2022-02-26T08:40:51.644Z"
   },
   {
    "duration": 12,
    "start_time": "2022-02-26T08:41:05.384Z"
   },
   {
    "duration": 9,
    "start_time": "2022-02-26T08:41:05.991Z"
   },
   {
    "duration": 256,
    "start_time": "2022-02-26T08:41:06.748Z"
   },
   {
    "duration": 240,
    "start_time": "2022-02-26T08:41:32.316Z"
   },
   {
    "duration": 14,
    "start_time": "2022-02-26T08:41:59.520Z"
   },
   {
    "duration": 9,
    "start_time": "2022-02-26T08:42:00.079Z"
   },
   {
    "duration": 283,
    "start_time": "2022-02-26T08:42:00.987Z"
   },
   {
    "duration": 263,
    "start_time": "2022-02-26T08:42:56.391Z"
   },
   {
    "duration": 264,
    "start_time": "2022-02-26T08:43:39.055Z"
   },
   {
    "duration": 256,
    "start_time": "2022-02-26T08:43:44.992Z"
   },
   {
    "duration": 254,
    "start_time": "2022-02-26T08:44:16.306Z"
   },
   {
    "duration": 346,
    "start_time": "2022-02-26T08:44:26.363Z"
   },
   {
    "duration": 248,
    "start_time": "2022-02-26T08:45:29.558Z"
   },
   {
    "duration": 234,
    "start_time": "2022-02-26T08:45:34.481Z"
   },
   {
    "duration": 247,
    "start_time": "2022-02-26T08:45:57.953Z"
   },
   {
    "duration": 263,
    "start_time": "2022-02-26T08:55:14.755Z"
   },
   {
    "duration": 18,
    "start_time": "2022-02-26T08:55:47.779Z"
   },
   {
    "duration": 18,
    "start_time": "2022-02-26T08:56:41.215Z"
   },
   {
    "duration": 482,
    "start_time": "2022-02-26T08:57:42.764Z"
   },
   {
    "duration": 188,
    "start_time": "2022-02-26T08:57:53.168Z"
   },
   {
    "duration": 182,
    "start_time": "2022-02-26T08:58:07.528Z"
   },
   {
    "duration": 183,
    "start_time": "2022-02-26T08:58:23.814Z"
   },
   {
    "duration": 303,
    "start_time": "2022-02-26T08:58:40.177Z"
   },
   {
    "duration": 19,
    "start_time": "2022-02-26T08:59:01.099Z"
   },
   {
    "duration": 347,
    "start_time": "2022-02-26T08:59:47.496Z"
   },
   {
    "duration": 654,
    "start_time": "2022-02-26T09:00:03.889Z"
   },
   {
    "duration": 461,
    "start_time": "2022-02-26T09:00:25.836Z"
   },
   {
    "duration": 978,
    "start_time": "2022-02-26T09:00:59.018Z"
   },
   {
    "duration": 820,
    "start_time": "2022-02-26T09:01:26.674Z"
   },
   {
    "duration": 790,
    "start_time": "2022-02-26T09:01:34.990Z"
   },
   {
    "duration": 761,
    "start_time": "2022-02-26T09:02:28.150Z"
   },
   {
    "duration": 690,
    "start_time": "2022-02-26T09:03:30.093Z"
   },
   {
    "duration": 780,
    "start_time": "2022-02-26T09:04:06.085Z"
   },
   {
    "duration": 644,
    "start_time": "2022-02-26T09:04:15.653Z"
   },
   {
    "duration": 430,
    "start_time": "2022-02-26T09:04:57.103Z"
   },
   {
    "duration": 512,
    "start_time": "2022-02-26T09:05:21.390Z"
   },
   {
    "duration": 461,
    "start_time": "2022-02-26T09:05:28.699Z"
   },
   {
    "duration": 548,
    "start_time": "2022-02-26T09:05:46.543Z"
   },
   {
    "duration": 1231,
    "start_time": "2022-02-26T09:10:08.936Z"
   },
   {
    "duration": 55,
    "start_time": "2022-02-26T09:10:10.169Z"
   },
   {
    "duration": 21,
    "start_time": "2022-02-26T09:10:10.226Z"
   },
   {
    "duration": 12,
    "start_time": "2022-02-26T09:10:10.249Z"
   },
   {
    "duration": 27,
    "start_time": "2022-02-26T09:10:10.264Z"
   },
   {
    "duration": 3,
    "start_time": "2022-02-26T09:10:10.293Z"
   },
   {
    "duration": 19,
    "start_time": "2022-02-26T09:10:10.298Z"
   },
   {
    "duration": 6,
    "start_time": "2022-02-26T09:10:10.318Z"
   },
   {
    "duration": 13,
    "start_time": "2022-02-26T09:10:10.326Z"
   },
   {
    "duration": 6,
    "start_time": "2022-02-26T09:10:10.369Z"
   },
   {
    "duration": 6,
    "start_time": "2022-02-26T09:10:10.377Z"
   },
   {
    "duration": 7,
    "start_time": "2022-02-26T09:10:10.385Z"
   },
   {
    "duration": 10,
    "start_time": "2022-02-26T09:10:10.394Z"
   },
   {
    "duration": 14,
    "start_time": "2022-02-26T09:10:10.406Z"
   },
   {
    "duration": 11,
    "start_time": "2022-02-26T09:10:10.422Z"
   },
   {
    "duration": 39,
    "start_time": "2022-02-26T09:10:10.435Z"
   },
   {
    "duration": 29,
    "start_time": "2022-02-26T09:10:10.476Z"
   },
   {
    "duration": 7,
    "start_time": "2022-02-26T09:10:10.507Z"
   },
   {
    "duration": 8,
    "start_time": "2022-02-26T09:10:10.516Z"
   },
   {
    "duration": 10,
    "start_time": "2022-02-26T09:10:10.525Z"
   },
   {
    "duration": 35,
    "start_time": "2022-02-26T09:10:10.537Z"
   },
   {
    "duration": 5,
    "start_time": "2022-02-26T09:10:10.574Z"
   },
   {
    "duration": 15,
    "start_time": "2022-02-26T09:10:10.581Z"
   },
   {
    "duration": 10,
    "start_time": "2022-02-26T09:10:10.598Z"
   },
   {
    "duration": 19,
    "start_time": "2022-02-26T09:10:10.610Z"
   },
   {
    "duration": 551,
    "start_time": "2022-02-26T09:10:10.632Z"
   },
   {
    "duration": 673,
    "start_time": "2022-02-26T09:10:11.187Z"
   },
   {
    "duration": 10,
    "start_time": "2022-02-26T09:10:11.862Z"
   },
   {
    "duration": 324,
    "start_time": "2022-02-26T09:10:11.874Z"
   },
   {
    "duration": 323,
    "start_time": "2022-02-26T09:10:12.200Z"
   },
   {
    "duration": 326,
    "start_time": "2022-02-26T09:10:12.525Z"
   },
   {
    "duration": 393,
    "start_time": "2022-02-26T09:10:12.853Z"
   },
   {
    "duration": 310,
    "start_time": "2022-02-26T09:10:13.248Z"
   },
   {
    "duration": 297,
    "start_time": "2022-02-26T09:10:13.560Z"
   },
   {
    "duration": 316,
    "start_time": "2022-02-26T09:10:13.859Z"
   },
   {
    "duration": 9,
    "start_time": "2022-02-26T09:10:14.177Z"
   },
   {
    "duration": 303,
    "start_time": "2022-02-26T09:10:14.187Z"
   },
   {
    "duration": 415,
    "start_time": "2022-02-26T09:10:14.492Z"
   },
   {
    "duration": 397,
    "start_time": "2022-02-26T09:10:14.910Z"
   },
   {
    "duration": 398,
    "start_time": "2022-02-26T09:10:15.309Z"
   },
   {
    "duration": 14,
    "start_time": "2022-02-26T09:10:15.709Z"
   },
   {
    "duration": 374,
    "start_time": "2022-02-26T09:10:15.724Z"
   },
   {
    "duration": 466,
    "start_time": "2022-02-26T09:10:16.100Z"
   },
   {
    "duration": 498,
    "start_time": "2022-02-26T09:10:16.569Z"
   },
   {
    "duration": 15,
    "start_time": "2022-02-26T09:10:17.069Z"
   },
   {
    "duration": 445,
    "start_time": "2022-02-26T09:10:17.086Z"
   },
   {
    "duration": 336,
    "start_time": "2022-02-26T09:10:17.532Z"
   },
   {
    "duration": 320,
    "start_time": "2022-02-26T09:10:17.870Z"
   },
   {
    "duration": 12,
    "start_time": "2022-02-26T09:10:18.192Z"
   },
   {
    "duration": 24,
    "start_time": "2022-02-26T09:10:18.206Z"
   },
   {
    "duration": 477,
    "start_time": "2022-02-26T09:10:18.232Z"
   },
   {
    "duration": 18,
    "start_time": "2022-02-26T09:10:18.711Z"
   },
   {
    "duration": 906,
    "start_time": "2022-02-26T09:10:38.852Z"
   },
   {
    "duration": 450,
    "start_time": "2022-02-26T09:10:51.747Z"
   },
   {
    "duration": 458,
    "start_time": "2022-02-26T09:11:00.008Z"
   },
   {
    "duration": 545,
    "start_time": "2022-02-26T09:11:38.977Z"
   },
   {
    "duration": 447,
    "start_time": "2022-02-26T09:12:26.463Z"
   },
   {
    "duration": 12,
    "start_time": "2022-02-26T09:13:49.802Z"
   },
   {
    "duration": 1268,
    "start_time": "2022-02-26T09:13:56.525Z"
   },
   {
    "duration": 18,
    "start_time": "2022-02-26T09:14:00.221Z"
   },
   {
    "duration": 16,
    "start_time": "2022-02-26T09:14:10.451Z"
   },
   {
    "duration": 467,
    "start_time": "2022-02-26T09:14:35.376Z"
   },
   {
    "duration": 571,
    "start_time": "2022-02-26T09:16:10.585Z"
   },
   {
    "duration": 685,
    "start_time": "2022-02-26T09:16:42.987Z"
   },
   {
    "duration": 774,
    "start_time": "2022-02-26T09:16:56.180Z"
   },
   {
    "duration": 670,
    "start_time": "2022-02-26T09:17:07.219Z"
   },
   {
    "duration": 680,
    "start_time": "2022-02-26T09:18:10.685Z"
   },
   {
    "duration": 667,
    "start_time": "2022-02-26T09:18:56.514Z"
   },
   {
    "duration": 873,
    "start_time": "2022-02-26T09:19:12.974Z"
   },
   {
    "duration": 914,
    "start_time": "2022-02-26T09:19:17.943Z"
   },
   {
    "duration": 789,
    "start_time": "2022-02-26T09:19:23.204Z"
   },
   {
    "duration": 678,
    "start_time": "2022-02-26T09:19:39.213Z"
   },
   {
    "duration": 615,
    "start_time": "2022-02-26T09:19:49.045Z"
   },
   {
    "duration": 519,
    "start_time": "2022-02-26T09:19:57.176Z"
   },
   {
    "duration": 728,
    "start_time": "2022-02-26T09:20:02.225Z"
   },
   {
    "duration": 766,
    "start_time": "2022-02-26T09:20:08.617Z"
   },
   {
    "duration": 83,
    "start_time": "2022-02-26T09:32:00.199Z"
   },
   {
    "duration": 20,
    "start_time": "2022-02-26T09:33:06.680Z"
   },
   {
    "duration": 720,
    "start_time": "2022-02-26T09:36:28.565Z"
   },
   {
    "duration": 702,
    "start_time": "2022-02-26T09:36:45.584Z"
   },
   {
    "duration": 681,
    "start_time": "2022-02-26T09:36:56.307Z"
   },
   {
    "duration": 642,
    "start_time": "2022-02-26T09:37:28.513Z"
   },
   {
    "duration": 650,
    "start_time": "2022-02-26T09:37:58.593Z"
   },
   {
    "duration": 149,
    "start_time": "2022-02-26T10:07:35.848Z"
   },
   {
    "duration": 264,
    "start_time": "2022-02-26T10:07:48.952Z"
   },
   {
    "duration": 8,
    "start_time": "2022-02-26T10:08:10.961Z"
   },
   {
    "duration": 10,
    "start_time": "2022-02-26T10:08:28.304Z"
   },
   {
    "duration": 133,
    "start_time": "2022-02-26T10:11:53.762Z"
   },
   {
    "duration": 19,
    "start_time": "2022-02-26T10:12:27.440Z"
   },
   {
    "duration": 13,
    "start_time": "2022-02-26T10:12:33.277Z"
   },
   {
    "duration": 221,
    "start_time": "2022-02-26T13:30:46.364Z"
   },
   {
    "duration": 1229,
    "start_time": "2022-02-26T13:31:41.882Z"
   },
   {
    "duration": 43,
    "start_time": "2022-02-26T13:31:43.113Z"
   },
   {
    "duration": 20,
    "start_time": "2022-02-26T13:31:43.158Z"
   },
   {
    "duration": 15,
    "start_time": "2022-02-26T13:31:43.180Z"
   },
   {
    "duration": 16,
    "start_time": "2022-02-26T13:31:43.197Z"
   },
   {
    "duration": 3,
    "start_time": "2022-02-26T13:31:43.215Z"
   },
   {
    "duration": 17,
    "start_time": "2022-02-26T13:31:43.219Z"
   },
   {
    "duration": 26,
    "start_time": "2022-02-26T13:31:43.237Z"
   },
   {
    "duration": 15,
    "start_time": "2022-02-26T13:31:43.266Z"
   },
   {
    "duration": 5,
    "start_time": "2022-02-26T13:31:43.284Z"
   },
   {
    "duration": 5,
    "start_time": "2022-02-26T13:31:43.291Z"
   },
   {
    "duration": 6,
    "start_time": "2022-02-26T13:31:43.298Z"
   },
   {
    "duration": 11,
    "start_time": "2022-02-26T13:31:43.305Z"
   },
   {
    "duration": 17,
    "start_time": "2022-02-26T13:31:43.318Z"
   },
   {
    "duration": 32,
    "start_time": "2022-02-26T13:31:43.337Z"
   },
   {
    "duration": 26,
    "start_time": "2022-02-26T13:31:43.371Z"
   },
   {
    "duration": 40,
    "start_time": "2022-02-26T13:31:43.399Z"
   },
   {
    "duration": 7,
    "start_time": "2022-02-26T13:31:43.440Z"
   },
   {
    "duration": 11,
    "start_time": "2022-02-26T13:31:43.449Z"
   },
   {
    "duration": 12,
    "start_time": "2022-02-26T13:31:43.462Z"
   },
   {
    "duration": 12,
    "start_time": "2022-02-26T13:31:43.476Z"
   },
   {
    "duration": 9,
    "start_time": "2022-02-26T13:31:43.489Z"
   },
   {
    "duration": 9,
    "start_time": "2022-02-26T13:31:43.500Z"
   },
   {
    "duration": 11,
    "start_time": "2022-02-26T13:31:43.511Z"
   },
   {
    "duration": 16,
    "start_time": "2022-02-26T13:31:43.524Z"
   },
   {
    "duration": 912,
    "start_time": "2022-02-26T13:31:43.541Z"
   },
   {
    "duration": 368,
    "start_time": "2022-02-26T13:31:44.457Z"
   },
   {
    "duration": 3,
    "start_time": "2022-02-26T13:31:44.827Z"
   },
   {
    "duration": 290,
    "start_time": "2022-02-26T13:31:44.832Z"
   },
   {
    "duration": 293,
    "start_time": "2022-02-26T13:31:45.124Z"
   },
   {
    "duration": 278,
    "start_time": "2022-02-26T13:31:45.418Z"
   },
   {
    "duration": 419,
    "start_time": "2022-02-26T13:31:45.698Z"
   },
   {
    "duration": 261,
    "start_time": "2022-02-26T13:31:46.119Z"
   },
   {
    "duration": 263,
    "start_time": "2022-02-26T13:31:46.382Z"
   },
   {
    "duration": 259,
    "start_time": "2022-02-26T13:31:46.647Z"
   },
   {
    "duration": 8,
    "start_time": "2022-02-26T13:31:46.907Z"
   },
   {
    "duration": 280,
    "start_time": "2022-02-26T13:31:46.917Z"
   },
   {
    "duration": 373,
    "start_time": "2022-02-26T13:31:47.199Z"
   },
   {
    "duration": 414,
    "start_time": "2022-02-26T13:31:47.573Z"
   },
   {
    "duration": 390,
    "start_time": "2022-02-26T13:31:47.989Z"
   },
   {
    "duration": 11,
    "start_time": "2022-02-26T13:31:48.381Z"
   },
   {
    "duration": 312,
    "start_time": "2022-02-26T13:31:48.394Z"
   },
   {
    "duration": 655,
    "start_time": "2022-02-26T13:31:48.708Z"
   },
   {
    "duration": 491,
    "start_time": "2022-02-26T13:31:49.365Z"
   },
   {
    "duration": 15,
    "start_time": "2022-02-26T13:31:49.857Z"
   },
   {
    "duration": 413,
    "start_time": "2022-02-26T13:31:49.874Z"
   },
   {
    "duration": 282,
    "start_time": "2022-02-26T13:31:50.288Z"
   },
   {
    "duration": 271,
    "start_time": "2022-02-26T13:31:50.572Z"
   },
   {
    "duration": 25,
    "start_time": "2022-02-26T13:31:50.845Z"
   },
   {
    "duration": 419,
    "start_time": "2022-02-26T13:31:50.872Z"
   },
   {
    "duration": 16,
    "start_time": "2022-02-26T13:31:51.292Z"
   },
   {
    "duration": 620,
    "start_time": "2022-02-26T13:31:51.310Z"
   },
   {
    "duration": 15,
    "start_time": "2022-02-26T13:31:51.932Z"
   },
   {
    "duration": 681,
    "start_time": "2022-02-26T13:31:51.963Z"
   },
   {
    "duration": 19,
    "start_time": "2022-02-26T13:31:52.646Z"
   },
   {
    "duration": 6,
    "start_time": "2022-02-26T13:31:52.666Z"
   },
   {
    "duration": 5,
    "start_time": "2022-02-26T13:32:31.453Z"
   },
   {
    "duration": 12,
    "start_time": "2022-02-26T13:39:43.492Z"
   },
   {
    "duration": 13,
    "start_time": "2022-02-26T13:40:12.355Z"
   },
   {
    "duration": 5,
    "start_time": "2022-02-26T13:41:21.621Z"
   },
   {
    "duration": 5,
    "start_time": "2022-02-26T13:48:03.228Z"
   },
   {
    "duration": 6,
    "start_time": "2022-02-26T13:48:47.928Z"
   },
   {
    "duration": 5,
    "start_time": "2022-02-26T13:49:07.833Z"
   },
   {
    "duration": 5,
    "start_time": "2022-02-26T13:49:21.176Z"
   },
   {
    "duration": 6,
    "start_time": "2022-02-26T13:49:30.053Z"
   },
   {
    "duration": 1341,
    "start_time": "2022-02-26T13:52:13.144Z"
   },
   {
    "duration": 38,
    "start_time": "2022-02-26T13:52:14.487Z"
   },
   {
    "duration": 18,
    "start_time": "2022-02-26T13:52:14.527Z"
   },
   {
    "duration": 20,
    "start_time": "2022-02-26T13:52:14.547Z"
   },
   {
    "duration": 16,
    "start_time": "2022-02-26T13:52:14.569Z"
   },
   {
    "duration": 3,
    "start_time": "2022-02-26T13:52:14.587Z"
   },
   {
    "duration": 17,
    "start_time": "2022-02-26T13:52:14.592Z"
   },
   {
    "duration": 6,
    "start_time": "2022-02-26T13:52:14.611Z"
   },
   {
    "duration": 11,
    "start_time": "2022-02-26T13:52:14.619Z"
   },
   {
    "duration": 32,
    "start_time": "2022-02-26T13:52:14.632Z"
   },
   {
    "duration": 8,
    "start_time": "2022-02-26T13:52:14.666Z"
   },
   {
    "duration": 8,
    "start_time": "2022-02-26T13:52:14.675Z"
   },
   {
    "duration": 15,
    "start_time": "2022-02-26T13:52:14.684Z"
   },
   {
    "duration": 15,
    "start_time": "2022-02-26T13:52:14.701Z"
   },
   {
    "duration": 19,
    "start_time": "2022-02-26T13:52:14.717Z"
   },
   {
    "duration": 19,
    "start_time": "2022-02-26T13:52:14.738Z"
   },
   {
    "duration": 20,
    "start_time": "2022-02-26T13:52:14.763Z"
   },
   {
    "duration": 7,
    "start_time": "2022-02-26T13:52:14.785Z"
   },
   {
    "duration": 10,
    "start_time": "2022-02-26T13:52:14.793Z"
   },
   {
    "duration": 14,
    "start_time": "2022-02-26T13:52:14.804Z"
   },
   {
    "duration": 10,
    "start_time": "2022-02-26T13:52:14.820Z"
   },
   {
    "duration": 13,
    "start_time": "2022-02-26T13:52:14.831Z"
   },
   {
    "duration": 20,
    "start_time": "2022-02-26T13:52:14.848Z"
   },
   {
    "duration": 5,
    "start_time": "2022-02-26T13:52:14.871Z"
   },
   {
    "duration": 20,
    "start_time": "2022-02-26T13:52:14.878Z"
   },
   {
    "duration": 422,
    "start_time": "2022-02-26T13:52:14.899Z"
   },
   {
    "duration": 349,
    "start_time": "2022-02-26T13:52:15.323Z"
   },
   {
    "duration": 3,
    "start_time": "2022-02-26T13:52:15.674Z"
   },
   {
    "duration": 269,
    "start_time": "2022-02-26T13:52:15.679Z"
   },
   {
    "duration": 274,
    "start_time": "2022-02-26T13:52:15.950Z"
   },
   {
    "duration": 256,
    "start_time": "2022-02-26T13:52:16.226Z"
   },
   {
    "duration": 321,
    "start_time": "2022-02-26T13:52:16.484Z"
   },
   {
    "duration": 273,
    "start_time": "2022-02-26T13:52:16.807Z"
   },
   {
    "duration": 254,
    "start_time": "2022-02-26T13:52:17.081Z"
   },
   {
    "duration": 262,
    "start_time": "2022-02-26T13:52:17.337Z"
   },
   {
    "duration": 9,
    "start_time": "2022-02-26T13:52:17.601Z"
   },
   {
    "duration": 265,
    "start_time": "2022-02-26T13:52:17.612Z"
   },
   {
    "duration": 364,
    "start_time": "2022-02-26T13:52:17.879Z"
   },
   {
    "duration": 419,
    "start_time": "2022-02-26T13:52:18.244Z"
   },
   {
    "duration": 413,
    "start_time": "2022-02-26T13:52:18.664Z"
   },
   {
    "duration": 11,
    "start_time": "2022-02-26T13:52:19.079Z"
   },
   {
    "duration": 312,
    "start_time": "2022-02-26T13:52:19.091Z"
   },
   {
    "duration": 470,
    "start_time": "2022-02-26T13:52:19.405Z"
   },
   {
    "duration": 451,
    "start_time": "2022-02-26T13:52:19.877Z"
   },
   {
    "duration": 15,
    "start_time": "2022-02-26T13:52:20.330Z"
   },
   {
    "duration": 434,
    "start_time": "2022-02-26T13:52:20.346Z"
   },
   {
    "duration": 276,
    "start_time": "2022-02-26T13:52:20.782Z"
   },
   {
    "duration": 269,
    "start_time": "2022-02-26T13:52:21.060Z"
   },
   {
    "duration": 16,
    "start_time": "2022-02-26T13:52:21.331Z"
   },
   {
    "duration": 397,
    "start_time": "2022-02-26T13:52:21.349Z"
   },
   {
    "duration": 24,
    "start_time": "2022-02-26T13:52:21.747Z"
   },
   {
    "duration": 590,
    "start_time": "2022-02-26T13:52:21.773Z"
   },
   {
    "duration": 15,
    "start_time": "2022-02-26T13:52:22.365Z"
   },
   {
    "duration": 591,
    "start_time": "2022-02-26T13:52:22.382Z"
   },
   {
    "duration": 13,
    "start_time": "2022-02-26T13:52:22.975Z"
   },
   {
    "duration": 15,
    "start_time": "2022-02-26T13:52:22.990Z"
   },
   {
    "duration": 21,
    "start_time": "2022-02-26T13:52:23.007Z"
   },
   {
    "duration": 12,
    "start_time": "2022-02-26T13:52:23.030Z"
   },
   {
    "duration": 18,
    "start_time": "2022-02-26T13:52:23.044Z"
   },
   {
    "duration": 1174,
    "start_time": "2022-02-26T14:03:28.465Z"
   },
   {
    "duration": 37,
    "start_time": "2022-02-26T14:03:29.641Z"
   },
   {
    "duration": 17,
    "start_time": "2022-02-26T14:03:29.680Z"
   },
   {
    "duration": 10,
    "start_time": "2022-02-26T14:03:29.699Z"
   },
   {
    "duration": 23,
    "start_time": "2022-02-26T14:03:29.711Z"
   },
   {
    "duration": 27,
    "start_time": "2022-02-26T14:03:29.736Z"
   },
   {
    "duration": 16,
    "start_time": "2022-02-26T14:03:29.765Z"
   },
   {
    "duration": 12,
    "start_time": "2022-02-26T14:03:29.783Z"
   },
   {
    "duration": 12,
    "start_time": "2022-02-26T14:03:29.798Z"
   },
   {
    "duration": 5,
    "start_time": "2022-02-26T14:03:29.813Z"
   },
   {
    "duration": 9,
    "start_time": "2022-02-26T14:03:29.820Z"
   },
   {
    "duration": 11,
    "start_time": "2022-02-26T14:03:29.831Z"
   },
   {
    "duration": 24,
    "start_time": "2022-02-26T14:03:29.844Z"
   },
   {
    "duration": 13,
    "start_time": "2022-02-26T14:03:29.869Z"
   },
   {
    "duration": 19,
    "start_time": "2022-02-26T14:03:29.884Z"
   },
   {
    "duration": 9,
    "start_time": "2022-02-26T14:03:29.904Z"
   },
   {
    "duration": 21,
    "start_time": "2022-02-26T14:03:29.915Z"
   },
   {
    "duration": 7,
    "start_time": "2022-02-26T14:03:29.937Z"
   },
   {
    "duration": 22,
    "start_time": "2022-02-26T14:03:29.946Z"
   },
   {
    "duration": 8,
    "start_time": "2022-02-26T14:03:29.970Z"
   },
   {
    "duration": 11,
    "start_time": "2022-02-26T14:03:29.979Z"
   },
   {
    "duration": 8,
    "start_time": "2022-02-26T14:03:29.992Z"
   },
   {
    "duration": 14,
    "start_time": "2022-02-26T14:03:30.001Z"
   },
   {
    "duration": 15,
    "start_time": "2022-02-26T14:03:30.017Z"
   },
   {
    "duration": 34,
    "start_time": "2022-02-26T14:03:30.034Z"
   },
   {
    "duration": 413,
    "start_time": "2022-02-26T14:03:30.069Z"
   },
   {
    "duration": 347,
    "start_time": "2022-02-26T14:03:30.486Z"
   },
   {
    "duration": 3,
    "start_time": "2022-02-26T14:03:30.835Z"
   },
   {
    "duration": 365,
    "start_time": "2022-02-26T14:03:30.840Z"
   },
   {
    "duration": 271,
    "start_time": "2022-02-26T14:03:31.207Z"
   },
   {
    "duration": 260,
    "start_time": "2022-02-26T14:03:31.480Z"
   },
   {
    "duration": 333,
    "start_time": "2022-02-26T14:03:31.742Z"
   },
   {
    "duration": 263,
    "start_time": "2022-02-26T14:03:32.077Z"
   },
   {
    "duration": 255,
    "start_time": "2022-02-26T14:03:32.341Z"
   },
   {
    "duration": 257,
    "start_time": "2022-02-26T14:03:32.598Z"
   },
   {
    "duration": 9,
    "start_time": "2022-02-26T14:03:32.856Z"
   },
   {
    "duration": 261,
    "start_time": "2022-02-26T14:03:32.866Z"
   },
   {
    "duration": 362,
    "start_time": "2022-02-26T14:03:33.129Z"
   },
   {
    "duration": 382,
    "start_time": "2022-02-26T14:03:33.492Z"
   },
   {
    "duration": 391,
    "start_time": "2022-02-26T14:03:33.875Z"
   },
   {
    "duration": 12,
    "start_time": "2022-02-26T14:03:34.267Z"
   },
   {
    "duration": 323,
    "start_time": "2022-02-26T14:03:34.281Z"
   },
   {
    "duration": 477,
    "start_time": "2022-02-26T14:03:34.606Z"
   },
   {
    "duration": 454,
    "start_time": "2022-02-26T14:03:35.085Z"
   },
   {
    "duration": 23,
    "start_time": "2022-02-26T14:03:35.541Z"
   },
   {
    "duration": 408,
    "start_time": "2022-02-26T14:03:35.565Z"
   },
   {
    "duration": 378,
    "start_time": "2022-02-26T14:03:35.975Z"
   },
   {
    "duration": 371,
    "start_time": "2022-02-26T14:03:36.362Z"
   },
   {
    "duration": 29,
    "start_time": "2022-02-26T14:03:36.736Z"
   },
   {
    "duration": 402,
    "start_time": "2022-02-26T14:03:36.767Z"
   },
   {
    "duration": 16,
    "start_time": "2022-02-26T14:03:37.171Z"
   },
   {
    "duration": 634,
    "start_time": "2022-02-26T14:03:37.189Z"
   },
   {
    "duration": 20,
    "start_time": "2022-02-26T14:03:37.825Z"
   },
   {
    "duration": 574,
    "start_time": "2022-02-26T14:03:37.847Z"
   },
   {
    "duration": 12,
    "start_time": "2022-02-26T14:03:38.424Z"
   },
   {
    "duration": 9,
    "start_time": "2022-02-26T14:03:38.438Z"
   },
   {
    "duration": 25,
    "start_time": "2022-02-26T14:03:38.449Z"
   },
   {
    "duration": 6,
    "start_time": "2022-02-26T14:03:38.476Z"
   },
   {
    "duration": 8,
    "start_time": "2022-02-26T14:03:38.484Z"
   },
   {
    "duration": 1523,
    "start_time": "2022-03-07T07:25:29.878Z"
   },
   {
    "duration": 47,
    "start_time": "2022-03-07T07:25:31.404Z"
   },
   {
    "duration": 27,
    "start_time": "2022-03-07T07:25:31.454Z"
   },
   {
    "duration": 18,
    "start_time": "2022-03-07T07:25:31.484Z"
   },
   {
    "duration": 37,
    "start_time": "2022-03-07T07:25:31.505Z"
   },
   {
    "duration": 6,
    "start_time": "2022-03-07T07:25:31.544Z"
   },
   {
    "duration": 24,
    "start_time": "2022-03-07T07:25:31.552Z"
   },
   {
    "duration": 7,
    "start_time": "2022-03-07T07:25:31.580Z"
   },
   {
    "duration": 51,
    "start_time": "2022-03-07T07:25:31.590Z"
   },
   {
    "duration": 7,
    "start_time": "2022-03-07T07:25:31.643Z"
   },
   {
    "duration": 8,
    "start_time": "2022-03-07T07:25:31.653Z"
   },
   {
    "duration": 17,
    "start_time": "2022-03-07T07:25:31.663Z"
   },
   {
    "duration": 17,
    "start_time": "2022-03-07T07:25:31.683Z"
   },
   {
    "duration": 41,
    "start_time": "2022-03-07T07:25:31.703Z"
   },
   {
    "duration": 20,
    "start_time": "2022-03-07T07:25:31.747Z"
   },
   {
    "duration": 10,
    "start_time": "2022-03-07T07:25:31.770Z"
   },
   {
    "duration": 64,
    "start_time": "2022-03-07T07:25:31.782Z"
   },
   {
    "duration": 9,
    "start_time": "2022-03-07T07:25:31.848Z"
   },
   {
    "duration": 11,
    "start_time": "2022-03-07T07:25:31.859Z"
   },
   {
    "duration": 11,
    "start_time": "2022-03-07T07:25:31.873Z"
   },
   {
    "duration": 53,
    "start_time": "2022-03-07T07:25:31.887Z"
   },
   {
    "duration": 7,
    "start_time": "2022-03-07T07:25:31.943Z"
   },
   {
    "duration": 10,
    "start_time": "2022-03-07T07:25:31.957Z"
   },
   {
    "duration": 12,
    "start_time": "2022-03-07T07:25:31.970Z"
   },
   {
    "duration": 63,
    "start_time": "2022-03-07T07:25:31.984Z"
   },
   {
    "duration": 661,
    "start_time": "2022-03-07T07:25:32.049Z"
   },
   {
    "duration": 559,
    "start_time": "2022-03-07T07:25:32.712Z"
   },
   {
    "duration": 5,
    "start_time": "2022-03-07T07:25:33.273Z"
   },
   {
    "duration": 428,
    "start_time": "2022-03-07T07:25:33.280Z"
   },
   {
    "duration": 430,
    "start_time": "2022-03-07T07:25:33.710Z"
   },
   {
    "duration": 416,
    "start_time": "2022-03-07T07:25:34.143Z"
   },
   {
    "duration": 479,
    "start_time": "2022-03-07T07:25:34.562Z"
   },
   {
    "duration": 418,
    "start_time": "2022-03-07T07:25:35.044Z"
   },
   {
    "duration": 424,
    "start_time": "2022-03-07T07:25:35.464Z"
   },
   {
    "duration": 414,
    "start_time": "2022-03-07T07:25:35.890Z"
   },
   {
    "duration": 10,
    "start_time": "2022-03-07T07:25:36.306Z"
   },
   {
    "duration": 415,
    "start_time": "2022-03-07T07:25:36.318Z"
   },
   {
    "duration": 600,
    "start_time": "2022-03-07T07:25:36.735Z"
   },
   {
    "duration": 526,
    "start_time": "2022-03-07T07:25:37.339Z"
   },
   {
    "duration": 679,
    "start_time": "2022-03-07T07:25:37.868Z"
   },
   {
    "duration": 19,
    "start_time": "2022-03-07T07:25:38.550Z"
   },
   {
    "duration": 469,
    "start_time": "2022-03-07T07:25:38.572Z"
   },
   {
    "duration": 698,
    "start_time": "2022-03-07T07:25:39.044Z"
   },
   {
    "duration": 647,
    "start_time": "2022-03-07T07:25:39.745Z"
   },
   {
    "duration": 19,
    "start_time": "2022-03-07T07:25:40.394Z"
   },
   {
    "duration": 565,
    "start_time": "2022-03-07T07:25:40.416Z"
   },
   {
    "duration": 471,
    "start_time": "2022-03-07T07:25:40.984Z"
   },
   {
    "duration": 450,
    "start_time": "2022-03-07T07:25:41.458Z"
   },
   {
    "duration": 34,
    "start_time": "2022-03-07T07:25:41.911Z"
   },
   {
    "duration": 635,
    "start_time": "2022-03-07T07:25:41.947Z"
   },
   {
    "duration": 22,
    "start_time": "2022-03-07T07:25:42.584Z"
   },
   {
    "duration": 987,
    "start_time": "2022-03-07T07:25:42.608Z"
   },
   {
    "duration": 36,
    "start_time": "2022-03-07T07:25:43.598Z"
   },
   {
    "duration": 961,
    "start_time": "2022-03-07T07:25:43.636Z"
   },
   {
    "duration": 34,
    "start_time": "2022-03-07T07:25:44.600Z"
   },
   {
    "duration": 9,
    "start_time": "2022-03-07T07:25:44.637Z"
   },
   {
    "duration": 17,
    "start_time": "2022-03-07T07:25:44.648Z"
   },
   {
    "duration": 6,
    "start_time": "2022-03-07T07:25:44.668Z"
   },
   {
    "duration": 13,
    "start_time": "2022-03-07T07:25:44.676Z"
   },
   {
    "duration": 1114,
    "start_time": "2022-03-07T10:56:36.027Z"
   },
   {
    "duration": 31,
    "start_time": "2022-03-07T10:56:37.143Z"
   },
   {
    "duration": 17,
    "start_time": "2022-03-07T10:56:37.176Z"
   },
   {
    "duration": 23,
    "start_time": "2022-03-07T10:56:37.194Z"
   },
   {
    "duration": 23,
    "start_time": "2022-03-07T10:56:37.218Z"
   },
   {
    "duration": 3,
    "start_time": "2022-03-07T10:56:37.243Z"
   },
   {
    "duration": 16,
    "start_time": "2022-03-07T10:56:37.247Z"
   },
   {
    "duration": 6,
    "start_time": "2022-03-07T10:56:37.266Z"
   },
   {
    "duration": 9,
    "start_time": "2022-03-07T10:56:37.274Z"
   },
   {
    "duration": 7,
    "start_time": "2022-03-07T10:56:37.284Z"
   },
   {
    "duration": 6,
    "start_time": "2022-03-07T10:56:37.293Z"
   },
   {
    "duration": 7,
    "start_time": "2022-03-07T10:56:37.301Z"
   },
   {
    "duration": 30,
    "start_time": "2022-03-07T10:56:37.310Z"
   },
   {
    "duration": 21,
    "start_time": "2022-03-07T10:56:37.342Z"
   },
   {
    "duration": 15,
    "start_time": "2022-03-07T10:56:37.365Z"
   },
   {
    "duration": 13,
    "start_time": "2022-03-07T10:56:37.381Z"
   },
   {
    "duration": 28,
    "start_time": "2022-03-07T10:56:37.396Z"
   },
   {
    "duration": 11,
    "start_time": "2022-03-07T10:56:37.426Z"
   },
   {
    "duration": 8,
    "start_time": "2022-03-07T10:56:37.439Z"
   },
   {
    "duration": 27,
    "start_time": "2022-03-07T10:56:37.449Z"
   },
   {
    "duration": 21,
    "start_time": "2022-03-07T10:56:37.477Z"
   },
   {
    "duration": 14,
    "start_time": "2022-03-07T10:56:37.499Z"
   },
   {
    "duration": 8,
    "start_time": "2022-03-07T10:56:37.518Z"
   },
   {
    "duration": 19,
    "start_time": "2022-03-07T10:56:37.529Z"
   },
   {
    "duration": 10,
    "start_time": "2022-03-07T10:56:37.550Z"
   },
   {
    "duration": 29,
    "start_time": "2022-03-07T10:56:37.561Z"
   },
   {
    "duration": 428,
    "start_time": "2022-03-07T10:56:37.592Z"
   },
   {
    "duration": 354,
    "start_time": "2022-03-07T10:56:38.022Z"
   },
   {
    "duration": 4,
    "start_time": "2022-03-07T10:56:38.378Z"
   },
   {
    "duration": 274,
    "start_time": "2022-03-07T10:56:38.384Z"
   },
   {
    "duration": 274,
    "start_time": "2022-03-07T10:56:38.659Z"
   },
   {
    "duration": 262,
    "start_time": "2022-03-07T10:56:38.935Z"
   },
   {
    "duration": 328,
    "start_time": "2022-03-07T10:56:39.198Z"
   },
   {
    "duration": 253,
    "start_time": "2022-03-07T10:56:39.527Z"
   },
   {
    "duration": 270,
    "start_time": "2022-03-07T10:56:39.782Z"
   },
   {
    "duration": 252,
    "start_time": "2022-03-07T10:56:40.053Z"
   },
   {
    "duration": 7,
    "start_time": "2022-03-07T10:56:40.307Z"
   },
   {
    "duration": 257,
    "start_time": "2022-03-07T10:56:40.316Z"
   },
   {
    "duration": 349,
    "start_time": "2022-03-07T10:56:40.574Z"
   },
   {
    "duration": 411,
    "start_time": "2022-03-07T10:56:40.924Z"
   },
   {
    "duration": 381,
    "start_time": "2022-03-07T10:56:41.338Z"
   },
   {
    "duration": 18,
    "start_time": "2022-03-07T10:56:41.721Z"
   },
   {
    "duration": 319,
    "start_time": "2022-03-07T10:56:41.741Z"
   },
   {
    "duration": 437,
    "start_time": "2022-03-07T10:56:42.062Z"
   },
   {
    "duration": 473,
    "start_time": "2022-03-07T10:56:42.502Z"
   },
   {
    "duration": 15,
    "start_time": "2022-03-07T10:56:42.977Z"
   },
   {
    "duration": 413,
    "start_time": "2022-03-07T10:56:42.994Z"
   },
   {
    "duration": 287,
    "start_time": "2022-03-07T10:56:43.409Z"
   },
   {
    "duration": 283,
    "start_time": "2022-03-07T10:56:43.698Z"
   },
   {
    "duration": 16,
    "start_time": "2022-03-07T10:56:43.983Z"
   },
   {
    "duration": 409,
    "start_time": "2022-03-07T10:56:44.001Z"
   },
   {
    "duration": 29,
    "start_time": "2022-03-07T10:56:44.411Z"
   },
   {
    "duration": 615,
    "start_time": "2022-03-07T10:56:44.442Z"
   },
   {
    "duration": 21,
    "start_time": "2022-03-07T10:56:45.060Z"
   },
   {
    "duration": 611,
    "start_time": "2022-03-07T10:56:45.083Z"
   },
   {
    "duration": 12,
    "start_time": "2022-03-07T10:56:45.696Z"
   },
   {
    "duration": 8,
    "start_time": "2022-03-07T10:56:45.710Z"
   },
   {
    "duration": 29,
    "start_time": "2022-03-07T10:56:45.719Z"
   },
   {
    "duration": 6,
    "start_time": "2022-03-07T10:56:45.750Z"
   },
   {
    "duration": 6,
    "start_time": "2022-03-07T10:56:45.757Z"
   },
   {
    "duration": 269,
    "start_time": "2022-03-07T10:57:57.070Z"
   },
   {
    "duration": 7,
    "start_time": "2022-03-07T10:58:02.678Z"
   },
   {
    "duration": 1170,
    "start_time": "2022-03-07T10:58:10.819Z"
   },
   {
    "duration": 37,
    "start_time": "2022-03-07T10:58:11.991Z"
   },
   {
    "duration": 18,
    "start_time": "2022-03-07T10:58:12.030Z"
   },
   {
    "duration": 9,
    "start_time": "2022-03-07T10:58:12.050Z"
   },
   {
    "duration": 16,
    "start_time": "2022-03-07T10:58:12.061Z"
   },
   {
    "duration": 3,
    "start_time": "2022-03-07T10:58:12.078Z"
   },
   {
    "duration": 15,
    "start_time": "2022-03-07T10:58:12.083Z"
   },
   {
    "duration": 38,
    "start_time": "2022-03-07T10:58:12.100Z"
   },
   {
    "duration": 10,
    "start_time": "2022-03-07T10:58:12.140Z"
   },
   {
    "duration": 5,
    "start_time": "2022-03-07T10:58:12.152Z"
   },
   {
    "duration": 11,
    "start_time": "2022-03-07T10:58:12.158Z"
   },
   {
    "duration": 8,
    "start_time": "2022-03-07T10:58:12.170Z"
   },
   {
    "duration": 12,
    "start_time": "2022-03-07T10:58:12.180Z"
   },
   {
    "duration": 16,
    "start_time": "2022-03-07T10:58:12.193Z"
   },
   {
    "duration": 32,
    "start_time": "2022-03-07T10:58:12.211Z"
   },
   {
    "duration": 7,
    "start_time": "2022-03-07T10:58:12.244Z"
   },
   {
    "duration": 20,
    "start_time": "2022-03-07T10:58:12.253Z"
   },
   {
    "duration": 6,
    "start_time": "2022-03-07T10:58:12.275Z"
   },
   {
    "duration": 8,
    "start_time": "2022-03-07T10:58:12.283Z"
   },
   {
    "duration": 8,
    "start_time": "2022-03-07T10:58:12.293Z"
   },
   {
    "duration": 38,
    "start_time": "2022-03-07T10:58:12.302Z"
   },
   {
    "duration": 4,
    "start_time": "2022-03-07T10:58:12.342Z"
   },
   {
    "duration": 9,
    "start_time": "2022-03-07T10:58:12.349Z"
   },
   {
    "duration": 8,
    "start_time": "2022-03-07T10:58:12.360Z"
   },
   {
    "duration": 12,
    "start_time": "2022-03-07T10:58:12.369Z"
   },
   {
    "duration": 17,
    "start_time": "2022-03-07T10:58:12.382Z"
   },
   {
    "duration": 449,
    "start_time": "2022-03-07T10:58:12.401Z"
   },
   {
    "duration": 358,
    "start_time": "2022-03-07T10:58:12.851Z"
   },
   {
    "duration": 3,
    "start_time": "2022-03-07T10:58:13.211Z"
   },
   {
    "duration": 276,
    "start_time": "2022-03-07T10:58:13.216Z"
   },
   {
    "duration": 266,
    "start_time": "2022-03-07T10:58:13.494Z"
   },
   {
    "duration": 263,
    "start_time": "2022-03-07T10:58:13.762Z"
   },
   {
    "duration": 343,
    "start_time": "2022-03-07T10:58:14.026Z"
   },
   {
    "duration": 266,
    "start_time": "2022-03-07T10:58:14.371Z"
   },
   {
    "duration": 254,
    "start_time": "2022-03-07T10:58:14.639Z"
   },
   {
    "duration": 275,
    "start_time": "2022-03-07T10:58:14.895Z"
   },
   {
    "duration": 7,
    "start_time": "2022-03-07T10:58:15.172Z"
   },
   {
    "duration": 296,
    "start_time": "2022-03-07T10:58:15.181Z"
   },
   {
    "duration": 359,
    "start_time": "2022-03-07T10:58:15.478Z"
   },
   {
    "duration": 380,
    "start_time": "2022-03-07T10:58:15.839Z"
   },
   {
    "duration": 555,
    "start_time": "2022-03-07T10:58:16.221Z"
   },
   {
    "duration": 69,
    "start_time": "2022-03-07T10:58:16.778Z"
   },
   {
    "duration": 325,
    "start_time": "2022-03-07T10:58:16.848Z"
   },
   {
    "duration": 435,
    "start_time": "2022-03-07T10:58:17.175Z"
   },
   {
    "duration": 465,
    "start_time": "2022-03-07T10:58:17.611Z"
   },
   {
    "duration": 14,
    "start_time": "2022-03-07T10:58:18.078Z"
   },
   {
    "duration": 447,
    "start_time": "2022-03-07T10:58:18.093Z"
   },
   {
    "duration": 503,
    "start_time": "2022-03-07T10:58:18.542Z"
   },
   {
    "duration": 280,
    "start_time": "2022-03-07T10:58:19.047Z"
   },
   {
    "duration": 20,
    "start_time": "2022-03-07T10:58:19.329Z"
   },
   {
    "duration": 394,
    "start_time": "2022-03-07T10:58:19.351Z"
   },
   {
    "duration": 16,
    "start_time": "2022-03-07T10:58:19.747Z"
   },
   {
    "duration": 607,
    "start_time": "2022-03-07T10:58:19.764Z"
   },
   {
    "duration": 15,
    "start_time": "2022-03-07T10:58:20.373Z"
   },
   {
    "duration": 574,
    "start_time": "2022-03-07T10:58:20.390Z"
   },
   {
    "duration": 12,
    "start_time": "2022-03-07T10:58:20.966Z"
   },
   {
    "duration": 5,
    "start_time": "2022-03-07T10:58:20.980Z"
   },
   {
    "duration": 19,
    "start_time": "2022-03-07T10:58:20.986Z"
   },
   {
    "duration": 21,
    "start_time": "2022-03-07T10:58:21.007Z"
   },
   {
    "duration": 16,
    "start_time": "2022-03-07T10:58:21.030Z"
   },
   {
    "duration": 12,
    "start_time": "2022-03-07T10:59:15.152Z"
   },
   {
    "duration": 3,
    "start_time": "2022-03-07T10:59:38.781Z"
   },
   {
    "duration": 34,
    "start_time": "2022-03-07T10:59:38.786Z"
   },
   {
    "duration": 15,
    "start_time": "2022-03-07T10:59:38.822Z"
   },
   {
    "duration": 13,
    "start_time": "2022-03-07T10:59:38.839Z"
   },
   {
    "duration": 14,
    "start_time": "2022-03-07T10:59:38.854Z"
   },
   {
    "duration": 3,
    "start_time": "2022-03-07T10:59:38.869Z"
   },
   {
    "duration": 23,
    "start_time": "2022-03-07T10:59:38.873Z"
   },
   {
    "duration": 11,
    "start_time": "2022-03-07T10:59:38.897Z"
   },
   {
    "duration": 29,
    "start_time": "2022-03-07T10:59:38.911Z"
   },
   {
    "duration": 6,
    "start_time": "2022-03-07T10:59:38.943Z"
   },
   {
    "duration": 5,
    "start_time": "2022-03-07T10:59:38.951Z"
   },
   {
    "duration": 7,
    "start_time": "2022-03-07T10:59:38.957Z"
   },
   {
    "duration": 10,
    "start_time": "2022-03-07T10:59:38.966Z"
   },
   {
    "duration": 14,
    "start_time": "2022-03-07T10:59:38.978Z"
   },
   {
    "duration": 14,
    "start_time": "2022-03-07T10:59:38.994Z"
   },
   {
    "duration": 7,
    "start_time": "2022-03-07T10:59:39.037Z"
   },
   {
    "duration": 21,
    "start_time": "2022-03-07T10:59:39.045Z"
   },
   {
    "duration": 7,
    "start_time": "2022-03-07T10:59:39.067Z"
   },
   {
    "duration": 8,
    "start_time": "2022-03-07T10:59:39.076Z"
   },
   {
    "duration": 11,
    "start_time": "2022-03-07T10:59:39.085Z"
   },
   {
    "duration": 8,
    "start_time": "2022-03-07T10:59:39.098Z"
   },
   {
    "duration": 7,
    "start_time": "2022-03-07T10:59:39.138Z"
   },
   {
    "duration": 9,
    "start_time": "2022-03-07T10:59:39.147Z"
   },
   {
    "duration": 1175,
    "start_time": "2022-03-07T11:00:04.924Z"
   },
   {
    "duration": 45,
    "start_time": "2022-03-07T11:00:06.100Z"
   },
   {
    "duration": 18,
    "start_time": "2022-03-07T11:00:06.147Z"
   },
   {
    "duration": 10,
    "start_time": "2022-03-07T11:00:06.167Z"
   },
   {
    "duration": 15,
    "start_time": "2022-03-07T11:00:06.178Z"
   },
   {
    "duration": 3,
    "start_time": "2022-03-07T11:00:06.195Z"
   },
   {
    "duration": 39,
    "start_time": "2022-03-07T11:00:06.200Z"
   },
   {
    "duration": 7,
    "start_time": "2022-03-07T11:00:06.241Z"
   },
   {
    "duration": 15,
    "start_time": "2022-03-07T11:00:06.250Z"
   },
   {
    "duration": 6,
    "start_time": "2022-03-07T11:00:06.267Z"
   },
   {
    "duration": 13,
    "start_time": "2022-03-07T11:00:06.274Z"
   },
   {
    "duration": 8,
    "start_time": "2022-03-07T11:00:06.289Z"
   },
   {
    "duration": 14,
    "start_time": "2022-03-07T11:00:06.299Z"
   },
   {
    "duration": 32,
    "start_time": "2022-03-07T11:00:06.314Z"
   },
   {
    "duration": 8,
    "start_time": "2022-03-07T11:00:06.348Z"
   },
   {
    "duration": 10,
    "start_time": "2022-03-07T11:00:06.358Z"
   },
   {
    "duration": 24,
    "start_time": "2022-03-07T11:00:06.369Z"
   },
   {
    "duration": 8,
    "start_time": "2022-03-07T11:00:06.395Z"
   },
   {
    "duration": 34,
    "start_time": "2022-03-07T11:00:06.405Z"
   },
   {
    "duration": 8,
    "start_time": "2022-03-07T11:00:06.441Z"
   },
   {
    "duration": 12,
    "start_time": "2022-03-07T11:00:06.450Z"
   },
   {
    "duration": 7,
    "start_time": "2022-03-07T11:00:06.463Z"
   },
   {
    "duration": 21,
    "start_time": "2022-03-07T11:00:06.472Z"
   },
   {
    "duration": 14,
    "start_time": "2022-03-07T11:00:06.495Z"
   },
   {
    "duration": 3,
    "start_time": "2022-03-07T11:01:32.209Z"
   },
   {
    "duration": 42,
    "start_time": "2022-03-07T11:01:32.214Z"
   },
   {
    "duration": 17,
    "start_time": "2022-03-07T11:01:32.258Z"
   },
   {
    "duration": 11,
    "start_time": "2022-03-07T11:01:32.277Z"
   },
   {
    "duration": 48,
    "start_time": "2022-03-07T11:01:32.290Z"
   },
   {
    "duration": 4,
    "start_time": "2022-03-07T11:01:32.340Z"
   },
   {
    "duration": 19,
    "start_time": "2022-03-07T11:01:32.347Z"
   },
   {
    "duration": 10,
    "start_time": "2022-03-07T11:01:32.368Z"
   },
   {
    "duration": 13,
    "start_time": "2022-03-07T11:01:32.379Z"
   },
   {
    "duration": 6,
    "start_time": "2022-03-07T11:01:32.394Z"
   },
   {
    "duration": 9,
    "start_time": "2022-03-07T11:01:32.401Z"
   },
   {
    "duration": 30,
    "start_time": "2022-03-07T11:01:32.411Z"
   },
   {
    "duration": 13,
    "start_time": "2022-03-07T11:01:32.443Z"
   },
   {
    "duration": 18,
    "start_time": "2022-03-07T11:01:32.458Z"
   },
   {
    "duration": 11,
    "start_time": "2022-03-07T11:01:32.478Z"
   },
   {
    "duration": 11,
    "start_time": "2022-03-07T11:01:32.491Z"
   },
   {
    "duration": 34,
    "start_time": "2022-03-07T11:01:32.504Z"
   },
   {
    "duration": 7,
    "start_time": "2022-03-07T11:01:32.540Z"
   },
   {
    "duration": 9,
    "start_time": "2022-03-07T11:01:32.549Z"
   },
   {
    "duration": 8,
    "start_time": "2022-03-07T11:01:32.560Z"
   },
   {
    "duration": 10,
    "start_time": "2022-03-07T11:01:32.570Z"
   },
   {
    "duration": 7,
    "start_time": "2022-03-07T11:01:32.582Z"
   },
   {
    "duration": 10,
    "start_time": "2022-03-07T11:01:32.591Z"
   },
   {
    "duration": 39,
    "start_time": "2022-03-07T11:01:32.603Z"
   },
   {
    "duration": 7,
    "start_time": "2022-03-07T11:01:32.644Z"
   },
   {
    "duration": 1151,
    "start_time": "2022-03-07T11:03:40.934Z"
   },
   {
    "duration": 33,
    "start_time": "2022-03-07T11:03:42.087Z"
   },
   {
    "duration": 22,
    "start_time": "2022-03-07T11:03:42.122Z"
   },
   {
    "duration": 9,
    "start_time": "2022-03-07T11:03:42.146Z"
   },
   {
    "duration": 15,
    "start_time": "2022-03-07T11:03:42.156Z"
   },
   {
    "duration": 2,
    "start_time": "2022-03-07T11:03:42.173Z"
   },
   {
    "duration": 15,
    "start_time": "2022-03-07T11:03:42.177Z"
   },
   {
    "duration": 6,
    "start_time": "2022-03-07T11:03:42.194Z"
   },
   {
    "duration": 42,
    "start_time": "2022-03-07T11:03:42.202Z"
   },
   {
    "duration": 5,
    "start_time": "2022-03-07T11:03:42.246Z"
   },
   {
    "duration": 6,
    "start_time": "2022-03-07T11:03:42.252Z"
   },
   {
    "duration": 7,
    "start_time": "2022-03-07T11:03:42.259Z"
   },
   {
    "duration": 11,
    "start_time": "2022-03-07T11:03:42.267Z"
   },
   {
    "duration": 15,
    "start_time": "2022-03-07T11:03:42.279Z"
   },
   {
    "duration": 11,
    "start_time": "2022-03-07T11:03:42.295Z"
   },
   {
    "duration": 35,
    "start_time": "2022-03-07T11:03:42.307Z"
   },
   {
    "duration": 24,
    "start_time": "2022-03-07T11:03:42.343Z"
   },
   {
    "duration": 6,
    "start_time": "2022-03-07T11:03:42.368Z"
   },
   {
    "duration": 14,
    "start_time": "2022-03-07T11:03:42.376Z"
   },
   {
    "duration": 11,
    "start_time": "2022-03-07T11:03:42.392Z"
   },
   {
    "duration": 10,
    "start_time": "2022-03-07T11:03:42.404Z"
   },
   {
    "duration": 27,
    "start_time": "2022-03-07T11:03:42.415Z"
   },
   {
    "duration": 5,
    "start_time": "2022-03-07T11:03:42.445Z"
   },
   {
    "duration": 11,
    "start_time": "2022-03-07T11:03:42.452Z"
   },
   {
    "duration": 7,
    "start_time": "2022-03-07T11:03:42.464Z"
   },
   {
    "duration": 1377,
    "start_time": "2022-03-07T11:04:53.136Z"
   },
   {
    "duration": 33,
    "start_time": "2022-03-07T11:04:54.515Z"
   },
   {
    "duration": 20,
    "start_time": "2022-03-07T11:04:54.550Z"
   },
   {
    "duration": 10,
    "start_time": "2022-03-07T11:04:54.572Z"
   },
   {
    "duration": 16,
    "start_time": "2022-03-07T11:04:54.583Z"
   },
   {
    "duration": 3,
    "start_time": "2022-03-07T11:04:54.601Z"
   },
   {
    "duration": 40,
    "start_time": "2022-03-07T11:04:54.605Z"
   },
   {
    "duration": 6,
    "start_time": "2022-03-07T11:04:54.647Z"
   },
   {
    "duration": 10,
    "start_time": "2022-03-07T11:04:54.655Z"
   },
   {
    "duration": 5,
    "start_time": "2022-03-07T11:04:54.667Z"
   },
   {
    "duration": 6,
    "start_time": "2022-03-07T11:04:54.673Z"
   },
   {
    "duration": 7,
    "start_time": "2022-03-07T11:04:54.681Z"
   },
   {
    "duration": 11,
    "start_time": "2022-03-07T11:04:54.689Z"
   },
   {
    "duration": 48,
    "start_time": "2022-03-07T11:04:54.701Z"
   },
   {
    "duration": 9,
    "start_time": "2022-03-07T11:04:54.751Z"
   },
   {
    "duration": 10,
    "start_time": "2022-03-07T11:04:54.762Z"
   },
   {
    "duration": 21,
    "start_time": "2022-03-07T11:04:54.774Z"
   },
   {
    "duration": 7,
    "start_time": "2022-03-07T11:04:54.798Z"
   },
   {
    "duration": 38,
    "start_time": "2022-03-07T11:04:54.807Z"
   },
   {
    "duration": 10,
    "start_time": "2022-03-07T11:04:54.846Z"
   },
   {
    "duration": 10,
    "start_time": "2022-03-07T11:04:54.857Z"
   },
   {
    "duration": 7,
    "start_time": "2022-03-07T11:04:54.868Z"
   },
   {
    "duration": 6,
    "start_time": "2022-03-07T11:04:54.880Z"
   },
   {
    "duration": 8,
    "start_time": "2022-03-07T11:04:54.888Z"
   },
   {
    "duration": 9,
    "start_time": "2022-03-07T11:04:54.898Z"
   },
   {
    "duration": 41,
    "start_time": "2022-03-07T11:04:54.909Z"
   },
   {
    "duration": 432,
    "start_time": "2022-03-07T11:04:54.952Z"
   },
   {
    "duration": 369,
    "start_time": "2022-03-07T11:04:55.385Z"
   },
   {
    "duration": 4,
    "start_time": "2022-03-07T11:04:55.755Z"
   },
   {
    "duration": 281,
    "start_time": "2022-03-07T11:04:55.761Z"
   },
   {
    "duration": 270,
    "start_time": "2022-03-07T11:04:56.043Z"
   },
   {
    "duration": 265,
    "start_time": "2022-03-07T11:04:56.315Z"
   },
   {
    "duration": 350,
    "start_time": "2022-03-07T11:04:56.582Z"
   },
   {
    "duration": 273,
    "start_time": "2022-03-07T11:04:56.937Z"
   },
   {
    "duration": 262,
    "start_time": "2022-03-07T11:04:57.211Z"
   },
   {
    "duration": 250,
    "start_time": "2022-03-07T11:04:57.475Z"
   },
   {
    "duration": 14,
    "start_time": "2022-03-07T11:04:57.726Z"
   },
   {
    "duration": 256,
    "start_time": "2022-03-07T11:04:57.741Z"
   },
   {
    "duration": 366,
    "start_time": "2022-03-07T11:04:57.999Z"
   },
   {
    "duration": 365,
    "start_time": "2022-03-07T11:04:58.366Z"
   },
   {
    "duration": 386,
    "start_time": "2022-03-07T11:04:58.733Z"
   },
   {
    "duration": 18,
    "start_time": "2022-03-07T11:04:59.121Z"
   },
   {
    "duration": 314,
    "start_time": "2022-03-07T11:04:59.140Z"
   },
   {
    "duration": 426,
    "start_time": "2022-03-07T11:04:59.456Z"
   },
   {
    "duration": 501,
    "start_time": "2022-03-07T11:04:59.883Z"
   },
   {
    "duration": 14,
    "start_time": "2022-03-07T11:05:00.386Z"
   },
   {
    "duration": 471,
    "start_time": "2022-03-07T11:05:00.401Z"
   },
   {
    "duration": 498,
    "start_time": "2022-03-07T11:05:00.874Z"
   },
   {
    "duration": 290,
    "start_time": "2022-03-07T11:05:01.374Z"
   },
   {
    "duration": 15,
    "start_time": "2022-03-07T11:05:01.666Z"
   },
   {
    "duration": 438,
    "start_time": "2022-03-07T11:05:01.683Z"
   },
   {
    "duration": 24,
    "start_time": "2022-03-07T11:05:02.123Z"
   },
   {
    "duration": 643,
    "start_time": "2022-03-07T11:05:02.149Z"
   },
   {
    "duration": 15,
    "start_time": "2022-03-07T11:05:02.793Z"
   },
   {
    "duration": 607,
    "start_time": "2022-03-07T11:05:02.810Z"
   },
   {
    "duration": 18,
    "start_time": "2022-03-07T11:05:03.419Z"
   },
   {
    "duration": 6,
    "start_time": "2022-03-07T11:05:03.439Z"
   },
   {
    "duration": 20,
    "start_time": "2022-03-07T11:05:03.446Z"
   },
   {
    "duration": 8,
    "start_time": "2022-03-07T11:05:03.467Z"
   },
   {
    "duration": 10,
    "start_time": "2022-03-07T11:05:03.477Z"
   },
   {
    "duration": 823,
    "start_time": "2022-03-07T11:07:44.606Z"
   },
   {
    "duration": 809,
    "start_time": "2022-03-07T11:07:49.094Z"
   },
   {
    "duration": 488,
    "start_time": "2022-03-07T11:07:52.128Z"
   },
   {
    "duration": 566,
    "start_time": "2022-03-07T11:08:02.658Z"
   },
   {
    "duration": 1325,
    "start_time": "2022-03-07T11:56:12.157Z"
   },
   {
    "duration": 79,
    "start_time": "2022-03-07T11:56:13.484Z"
   },
   {
    "duration": 18,
    "start_time": "2022-03-07T11:56:13.567Z"
   },
   {
    "duration": 51,
    "start_time": "2022-03-07T11:56:13.587Z"
   },
   {
    "duration": 16,
    "start_time": "2022-03-07T11:56:13.640Z"
   },
   {
    "duration": 3,
    "start_time": "2022-03-07T11:56:13.658Z"
   },
   {
    "duration": 25,
    "start_time": "2022-03-07T11:56:13.664Z"
   },
   {
    "duration": 15,
    "start_time": "2022-03-07T11:56:13.690Z"
   },
   {
    "duration": 13,
    "start_time": "2022-03-07T11:56:13.707Z"
   },
   {
    "duration": 18,
    "start_time": "2022-03-07T11:56:13.721Z"
   },
   {
    "duration": 6,
    "start_time": "2022-03-07T11:56:13.740Z"
   },
   {
    "duration": 6,
    "start_time": "2022-03-07T11:56:13.747Z"
   },
   {
    "duration": 13,
    "start_time": "2022-03-07T11:56:13.755Z"
   },
   {
    "duration": 17,
    "start_time": "2022-03-07T11:56:13.769Z"
   },
   {
    "duration": 12,
    "start_time": "2022-03-07T11:56:13.787Z"
   },
   {
    "duration": 7,
    "start_time": "2022-03-07T11:56:13.800Z"
   },
   {
    "duration": 44,
    "start_time": "2022-03-07T11:56:13.809Z"
   },
   {
    "duration": 7,
    "start_time": "2022-03-07T11:56:13.855Z"
   },
   {
    "duration": 7,
    "start_time": "2022-03-07T11:56:13.864Z"
   },
   {
    "duration": 8,
    "start_time": "2022-03-07T11:56:13.872Z"
   },
   {
    "duration": 8,
    "start_time": "2022-03-07T11:56:13.882Z"
   },
   {
    "duration": 3,
    "start_time": "2022-03-07T11:56:13.894Z"
   },
   {
    "duration": 39,
    "start_time": "2022-03-07T11:56:13.899Z"
   },
   {
    "duration": 8,
    "start_time": "2022-03-07T11:56:13.939Z"
   },
   {
    "duration": 7,
    "start_time": "2022-03-07T11:56:13.949Z"
   },
   {
    "duration": 18,
    "start_time": "2022-03-07T11:56:13.957Z"
   },
   {
    "duration": 446,
    "start_time": "2022-03-07T11:56:13.976Z"
   },
   {
    "duration": 360,
    "start_time": "2022-03-07T11:56:14.424Z"
   },
   {
    "duration": 4,
    "start_time": "2022-03-07T11:56:14.786Z"
   },
   {
    "duration": 305,
    "start_time": "2022-03-07T11:56:14.792Z"
   },
   {
    "duration": 292,
    "start_time": "2022-03-07T11:56:15.100Z"
   },
   {
    "duration": 272,
    "start_time": "2022-03-07T11:56:15.394Z"
   },
   {
    "duration": 347,
    "start_time": "2022-03-07T11:56:15.668Z"
   },
   {
    "duration": 271,
    "start_time": "2022-03-07T11:56:16.017Z"
   },
   {
    "duration": 274,
    "start_time": "2022-03-07T11:56:16.290Z"
   },
   {
    "duration": 273,
    "start_time": "2022-03-07T11:56:16.567Z"
   },
   {
    "duration": 9,
    "start_time": "2022-03-07T11:56:16.842Z"
   },
   {
    "duration": 276,
    "start_time": "2022-03-07T11:56:16.853Z"
   },
   {
    "duration": 362,
    "start_time": "2022-03-07T11:56:17.130Z"
   },
   {
    "duration": 368,
    "start_time": "2022-03-07T11:56:17.494Z"
   },
   {
    "duration": 373,
    "start_time": "2022-03-07T11:56:17.863Z"
   },
   {
    "duration": 12,
    "start_time": "2022-03-07T11:56:18.238Z"
   },
   {
    "duration": 319,
    "start_time": "2022-03-07T11:56:18.251Z"
   },
   {
    "duration": 431,
    "start_time": "2022-03-07T11:56:18.571Z"
   },
   {
    "duration": 489,
    "start_time": "2022-03-07T11:56:19.004Z"
   },
   {
    "duration": 15,
    "start_time": "2022-03-07T11:56:19.494Z"
   },
   {
    "duration": 445,
    "start_time": "2022-03-07T11:56:19.511Z"
   },
   {
    "duration": 291,
    "start_time": "2022-03-07T11:56:19.958Z"
   },
   {
    "duration": 289,
    "start_time": "2022-03-07T11:56:20.252Z"
   },
   {
    "duration": 16,
    "start_time": "2022-03-07T11:56:20.543Z"
   },
   {
    "duration": 592,
    "start_time": "2022-03-07T11:56:20.561Z"
   },
   {
    "duration": 17,
    "start_time": "2022-03-07T11:56:21.155Z"
   },
   {
    "duration": 599,
    "start_time": "2022-03-07T11:56:21.174Z"
   },
   {
    "duration": 15,
    "start_time": "2022-03-07T11:56:21.775Z"
   },
   {
    "duration": 593,
    "start_time": "2022-03-07T11:56:21.792Z"
   },
   {
    "duration": 12,
    "start_time": "2022-03-07T11:56:22.387Z"
   },
   {
    "duration": 8,
    "start_time": "2022-03-07T11:56:22.400Z"
   },
   {
    "duration": 13,
    "start_time": "2022-03-07T11:56:22.409Z"
   },
   {
    "duration": 6,
    "start_time": "2022-03-07T11:56:22.438Z"
   },
   {
    "duration": 7,
    "start_time": "2022-03-07T11:56:22.445Z"
   }
  ],
  "celltoolbar": "Необработанный формат ячейки",
  "kernelspec": {
   "display_name": "Python 3 (ipykernel)",
   "language": "python",
   "name": "python3"
  },
  "language_info": {
   "codemirror_mode": {
    "name": "ipython",
    "version": 3
   },
   "file_extension": ".py",
   "mimetype": "text/x-python",
   "name": "python",
   "nbconvert_exporter": "python",
   "pygments_lexer": "ipython3",
   "version": "3.9.10"
  },
  "toc": {
   "base_numbering": 1,
   "nav_menu": {},
   "number_sections": true,
   "sideBar": true,
   "skip_h1_title": true,
   "title_cell": "Table of Contents",
   "title_sidebar": "Contents",
   "toc_cell": false,
   "toc_position": {
    "height": "calc(100% - 180px)",
    "left": "10px",
    "top": "150px",
    "width": "358.188px"
   },
   "toc_section_display": true,
   "toc_window_display": false
  }
 },
 "nbformat": 4,
 "nbformat_minor": 2
}
