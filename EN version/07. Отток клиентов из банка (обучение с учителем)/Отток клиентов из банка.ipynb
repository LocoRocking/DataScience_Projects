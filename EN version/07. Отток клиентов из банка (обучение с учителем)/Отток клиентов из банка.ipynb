{
 "cells": [
  {
   "cell_type": "markdown",
   "metadata": {
    "toc": true
   },
   "source": [
    "<h1>Содержание<span class=\"tocSkip\"></span></h1>\n",
    "<div class=\"toc\"><ul class=\"toc-item\"><li><span><a href=\"#Подготовка-данных\" data-toc-modified-id=\"Подготовка-данных-1\"><span class=\"toc-item-num\">1&nbsp;&nbsp;</span>Подготовка данных</a></span><ul class=\"toc-item\"><li><span><a href=\"#Предобработка-данных\" data-toc-modified-id=\"Предобработка-данных-1.1\"><span class=\"toc-item-num\">1.1&nbsp;&nbsp;</span>Предобработка данных</a></span></li><li><span><a href=\"#Подготовка-признаков\" data-toc-modified-id=\"Подготовка-признаков-1.2\"><span class=\"toc-item-num\">1.2&nbsp;&nbsp;</span>Подготовка признаков</a></span></li><li><span><a href=\"#Вывод\" data-toc-modified-id=\"Вывод-1.3\"><span class=\"toc-item-num\">1.3&nbsp;&nbsp;</span>Вывод</a></span></li></ul></li><li><span><a href=\"#Исследование-задачи\" data-toc-modified-id=\"Исследование-задачи-2\"><span class=\"toc-item-num\">2&nbsp;&nbsp;</span>Исследование задачи</a></span><ul class=\"toc-item\"><li><span><a href=\"#Дерево-решений\" data-toc-modified-id=\"Дерево-решений-2.1\"><span class=\"toc-item-num\">2.1&nbsp;&nbsp;</span>Дерево решений</a></span></li><li><span><a href=\"#Случайный-лес\" data-toc-modified-id=\"Случайный-лес-2.2\"><span class=\"toc-item-num\">2.2&nbsp;&nbsp;</span>Случайный лес</a></span></li><li><span><a href=\"#Логистическая-регрессия\" data-toc-modified-id=\"Логистическая-регрессия-2.3\"><span class=\"toc-item-num\">2.3&nbsp;&nbsp;</span>Логистическая регрессия</a></span></li><li><span><a href=\"#Вывод\" data-toc-modified-id=\"Вывод-2.4\"><span class=\"toc-item-num\">2.4&nbsp;&nbsp;</span>Вывод</a></span></li></ul></li><li><span><a href=\"#Борьба-с-дисбалансом\" data-toc-modified-id=\"Борьба-с-дисбалансом-3\"><span class=\"toc-item-num\">3&nbsp;&nbsp;</span>Борьба с дисбалансом</a></span><ul class=\"toc-item\"><li><span><a href=\"#Взвешивание-классов\" data-toc-modified-id=\"Взвешивание-классов-3.1\"><span class=\"toc-item-num\">3.1&nbsp;&nbsp;</span>Взвешивание классов</a></span></li><li><span><a href=\"#Изменение-порога\" data-toc-modified-id=\"Изменение-порога-3.2\"><span class=\"toc-item-num\">3.2&nbsp;&nbsp;</span>Изменение порога</a></span></li><li><span><a href=\"#Upsampling\" data-toc-modified-id=\"Upsampling-3.3\"><span class=\"toc-item-num\">3.3&nbsp;&nbsp;</span>Upsampling</a></span><ul class=\"toc-item\"><li><span><a href=\"#Дерево-решений\" data-toc-modified-id=\"Дерево-решений-3.3.1\"><span class=\"toc-item-num\">3.3.1&nbsp;&nbsp;</span>Дерево решений</a></span></li><li><span><a href=\"#Случайный-лес\" data-toc-modified-id=\"Случайный-лес-3.3.2\"><span class=\"toc-item-num\">3.3.2&nbsp;&nbsp;</span>Случайный лес</a></span></li><li><span><a href=\"#Логистическая-регрессия\" data-toc-modified-id=\"Логистическая-регрессия-3.3.3\"><span class=\"toc-item-num\">3.3.3&nbsp;&nbsp;</span>Логистическая регрессия</a></span></li></ul></li><li><span><a href=\"#Downsampling\" data-toc-modified-id=\"Downsampling-3.4\"><span class=\"toc-item-num\">3.4&nbsp;&nbsp;</span>Downsampling</a></span><ul class=\"toc-item\"><li><span><a href=\"#Дерево-решений\" data-toc-modified-id=\"Дерево-решений-3.4.1\"><span class=\"toc-item-num\">3.4.1&nbsp;&nbsp;</span>Дерево решений</a></span></li><li><span><a href=\"#Случайный-лес\" data-toc-modified-id=\"Случайный-лес-3.4.2\"><span class=\"toc-item-num\">3.4.2&nbsp;&nbsp;</span>Случайный лес</a></span></li><li><span><a href=\"#Логистическая-регрессия\" data-toc-modified-id=\"Логистическая-регрессия-3.4.3\"><span class=\"toc-item-num\">3.4.3&nbsp;&nbsp;</span>Логистическая регрессия</a></span></li></ul></li><li><span><a href=\"#Вывод\" data-toc-modified-id=\"Вывод-3.5\"><span class=\"toc-item-num\">3.5&nbsp;&nbsp;</span>Вывод</a></span></li></ul></li><li><span><a href=\"#Тестирование-модели\" data-toc-modified-id=\"Тестирование-модели-4\"><span class=\"toc-item-num\">4&nbsp;&nbsp;</span>Тестирование модели</a></span><ul class=\"toc-item\"><li><span><a href=\"#Дерево-решений\" data-toc-modified-id=\"Дерево-решений-4.1\"><span class=\"toc-item-num\">4.1&nbsp;&nbsp;</span>Дерево решений</a></span></li><li><span><a href=\"#Случайный-лес\" data-toc-modified-id=\"Случайный-лес-4.2\"><span class=\"toc-item-num\">4.2&nbsp;&nbsp;</span>Случайный лес</a></span></li><li><span><a href=\"#Логистическая-регрессия\" data-toc-modified-id=\"Логистическая-регрессия-4.3\"><span class=\"toc-item-num\">4.3&nbsp;&nbsp;</span>Логистическая регрессия</a></span></li><li><span><a href=\"#Вывод\" data-toc-modified-id=\"Вывод-4.4\"><span class=\"toc-item-num\">4.4&nbsp;&nbsp;</span>Вывод</a></span></li></ul></li><li><span><a href=\"#Вывод-по-проекту\" data-toc-modified-id=\"Вывод-по-проекту-5\"><span class=\"toc-item-num\">5&nbsp;&nbsp;</span>Вывод по проекту</a></span></li><li><span><a href=\"#Чек-лист-готовности-проекта\" data-toc-modified-id=\"Чек-лист-готовности-проекта-6\"><span class=\"toc-item-num\">6&nbsp;&nbsp;</span>Чек-лист готовности проекта</a></span></li></ul></div>"
   ]
  },
  {
   "cell_type": "markdown",
   "metadata": {},
   "source": [
    "# Отток клиентов"
   ]
  },
  {
   "cell_type": "markdown",
   "metadata": {},
   "source": [
    "Из «Бета-Банка» стали уходить клиенты. Каждый месяц. Немного, но заметно. Банковские маркетологи посчитали: сохранять текущих клиентов дешевле, чем привлекать новых.\n",
    "\n",
    "Нужно спрогнозировать, уйдёт клиент из банка в ближайшее время или нет. Вам предоставлены исторические данные о поведении клиентов и расторжении договоров с банком. \n",
    "\n",
    "Постройте модель с предельно большим значением *F1*-меры. Чтобы сдать проект успешно, нужно довести метрику до 0.59. Проверьте *F1*-меру на тестовой выборке самостоятельно.\n",
    "\n",
    "Дополнительно измеряйте *AUC-ROC*, сравнивайте её значение с *F1*-мерой.\n",
    "\n",
    "Источник данных: [https://www.kaggle.com/barelydedicated/bank-customer-churn-modeling](https://www.kaggle.com/barelydedicated/bank-customer-churn-modeling)"
   ]
  },
  {
   "cell_type": "markdown",
   "metadata": {},
   "source": [
    "<b>Признаки</b>\n",
    "- `RowNumber` — индекс строки в данных\n",
    "- `CustomerId` — уникальный идентификатор клиента\n",
    "- `Surname` — фамилия\n",
    "- `CreditScore` — кредитный рейтинг\n",
    "- `Geography` — страна проживания\n",
    "- `Gender` — пол\n",
    "- `Age` — возраст\n",
    "- `Tenure` — сколько лет человек является клиентом банка\n",
    "- `Balance` — баланс на счёте\n",
    "- `NumOfProducts` — количество продуктов банка, используемых клиентом\n",
    "- `HasCrCard` — наличие кредитной карты\n",
    "- `IsActiveMember` — активность клиента\n",
    "- `EstimatedSalary` — предполагаемая зарплата\n",
    "\n",
    "<b>Целевой признак</b>\n",
    "- `Exited` — факт ухода клиента"
   ]
  },
  {
   "cell_type": "markdown",
   "metadata": {},
   "source": [
    "## Подготовка данных"
   ]
  },
  {
   "cell_type": "code",
   "execution_count": 1,
   "metadata": {},
   "outputs": [],
   "source": [
    "#импорт необходимых библиотек\n",
    "import pandas as pd\n",
    "import numpy as np\n",
    "import matplotlib.pyplot as plt\n",
    "\n",
    "from sklearn.model_selection import train_test_split\n",
    "from sklearn.tree import DecisionTreeClassifier\n",
    "from sklearn.ensemble import RandomForestClassifier\n",
    "from sklearn.linear_model import LogisticRegression\n",
    "\n",
    "from sklearn.preprocessing import OrdinalEncoder\n",
    "from sklearn.preprocessing import StandardScaler\n",
    "\n",
    "from sklearn.metrics import accuracy_score\n",
    "from sklearn.metrics import precision_score\n",
    "from sklearn.metrics import recall_score\n",
    "from sklearn.metrics import f1_score\n",
    "from sklearn.metrics import roc_curve\n",
    "from sklearn.metrics import roc_auc_score\n",
    "from sklearn.utils import shuffle\n",
    "\n",
    "import warnings\n",
    "warnings.filterwarnings('ignore')"
   ]
  },
  {
   "cell_type": "code",
   "execution_count": 2,
   "metadata": {},
   "outputs": [
    {
     "data": {
      "text/html": [
       "<div>\n",
       "<style scoped>\n",
       "    .dataframe tbody tr th:only-of-type {\n",
       "        vertical-align: middle;\n",
       "    }\n",
       "\n",
       "    .dataframe tbody tr th {\n",
       "        vertical-align: top;\n",
       "    }\n",
       "\n",
       "    .dataframe thead th {\n",
       "        text-align: right;\n",
       "    }\n",
       "</style>\n",
       "<table border=\"1\" class=\"dataframe\">\n",
       "  <thead>\n",
       "    <tr style=\"text-align: right;\">\n",
       "      <th></th>\n",
       "      <th>RowNumber</th>\n",
       "      <th>CustomerId</th>\n",
       "      <th>Surname</th>\n",
       "      <th>CreditScore</th>\n",
       "      <th>Geography</th>\n",
       "      <th>Gender</th>\n",
       "      <th>Age</th>\n",
       "      <th>Tenure</th>\n",
       "      <th>Balance</th>\n",
       "      <th>NumOfProducts</th>\n",
       "      <th>HasCrCard</th>\n",
       "      <th>IsActiveMember</th>\n",
       "      <th>EstimatedSalary</th>\n",
       "      <th>Exited</th>\n",
       "    </tr>\n",
       "  </thead>\n",
       "  <tbody>\n",
       "    <tr>\n",
       "      <th>9538</th>\n",
       "      <td>9539</td>\n",
       "      <td>15572767</td>\n",
       "      <td>Shelby</td>\n",
       "      <td>777</td>\n",
       "      <td>France</td>\n",
       "      <td>Male</td>\n",
       "      <td>29</td>\n",
       "      <td>2.0</td>\n",
       "      <td>0.00</td>\n",
       "      <td>2</td>\n",
       "      <td>1</td>\n",
       "      <td>0</td>\n",
       "      <td>124489.88</td>\n",
       "      <td>0</td>\n",
       "    </tr>\n",
       "    <tr>\n",
       "      <th>8811</th>\n",
       "      <td>8812</td>\n",
       "      <td>15616168</td>\n",
       "      <td>Ojiofor</td>\n",
       "      <td>610</td>\n",
       "      <td>France</td>\n",
       "      <td>Female</td>\n",
       "      <td>35</td>\n",
       "      <td>7.0</td>\n",
       "      <td>81905.95</td>\n",
       "      <td>1</td>\n",
       "      <td>1</td>\n",
       "      <td>1</td>\n",
       "      <td>61623.19</td>\n",
       "      <td>0</td>\n",
       "    </tr>\n",
       "    <tr>\n",
       "      <th>2145</th>\n",
       "      <td>2146</td>\n",
       "      <td>15639322</td>\n",
       "      <td>Grave</td>\n",
       "      <td>633</td>\n",
       "      <td>Spain</td>\n",
       "      <td>Male</td>\n",
       "      <td>33</td>\n",
       "      <td>4.0</td>\n",
       "      <td>137847.41</td>\n",
       "      <td>2</td>\n",
       "      <td>1</td>\n",
       "      <td>0</td>\n",
       "      <td>98349.13</td>\n",
       "      <td>0</td>\n",
       "    </tr>\n",
       "    <tr>\n",
       "      <th>7900</th>\n",
       "      <td>7901</td>\n",
       "      <td>15653275</td>\n",
       "      <td>Lei</td>\n",
       "      <td>785</td>\n",
       "      <td>Spain</td>\n",
       "      <td>Female</td>\n",
       "      <td>54</td>\n",
       "      <td>1.0</td>\n",
       "      <td>0.00</td>\n",
       "      <td>2</td>\n",
       "      <td>1</td>\n",
       "      <td>0</td>\n",
       "      <td>45113.92</td>\n",
       "      <td>1</td>\n",
       "    </tr>\n",
       "    <tr>\n",
       "      <th>773</th>\n",
       "      <td>774</td>\n",
       "      <td>15685320</td>\n",
       "      <td>Johnstone</td>\n",
       "      <td>767</td>\n",
       "      <td>France</td>\n",
       "      <td>Male</td>\n",
       "      <td>36</td>\n",
       "      <td>3.0</td>\n",
       "      <td>139180.20</td>\n",
       "      <td>1</td>\n",
       "      <td>0</td>\n",
       "      <td>0</td>\n",
       "      <td>123880.19</td>\n",
       "      <td>0</td>\n",
       "    </tr>\n",
       "    <tr>\n",
       "      <th>8063</th>\n",
       "      <td>8064</td>\n",
       "      <td>15663888</td>\n",
       "      <td>Connor</td>\n",
       "      <td>549</td>\n",
       "      <td>Germany</td>\n",
       "      <td>Male</td>\n",
       "      <td>34</td>\n",
       "      <td>6.0</td>\n",
       "      <td>204017.40</td>\n",
       "      <td>2</td>\n",
       "      <td>1</td>\n",
       "      <td>0</td>\n",
       "      <td>109538.35</td>\n",
       "      <td>0</td>\n",
       "    </tr>\n",
       "    <tr>\n",
       "      <th>5659</th>\n",
       "      <td>5660</td>\n",
       "      <td>15638607</td>\n",
       "      <td>Nwabugwu</td>\n",
       "      <td>546</td>\n",
       "      <td>France</td>\n",
       "      <td>Female</td>\n",
       "      <td>52</td>\n",
       "      <td>2.0</td>\n",
       "      <td>0.00</td>\n",
       "      <td>1</td>\n",
       "      <td>1</td>\n",
       "      <td>0</td>\n",
       "      <td>137332.37</td>\n",
       "      <td>1</td>\n",
       "    </tr>\n",
       "    <tr>\n",
       "      <th>5051</th>\n",
       "      <td>5052</td>\n",
       "      <td>15572728</td>\n",
       "      <td>Ross</td>\n",
       "      <td>704</td>\n",
       "      <td>Spain</td>\n",
       "      <td>Male</td>\n",
       "      <td>36</td>\n",
       "      <td>8.0</td>\n",
       "      <td>127397.34</td>\n",
       "      <td>1</td>\n",
       "      <td>1</td>\n",
       "      <td>0</td>\n",
       "      <td>151335.24</td>\n",
       "      <td>0</td>\n",
       "    </tr>\n",
       "    <tr>\n",
       "      <th>7522</th>\n",
       "      <td>7523</td>\n",
       "      <td>15729718</td>\n",
       "      <td>Stelzer</td>\n",
       "      <td>610</td>\n",
       "      <td>France</td>\n",
       "      <td>Male</td>\n",
       "      <td>41</td>\n",
       "      <td>6.0</td>\n",
       "      <td>0.00</td>\n",
       "      <td>3</td>\n",
       "      <td>0</td>\n",
       "      <td>0</td>\n",
       "      <td>56118.81</td>\n",
       "      <td>1</td>\n",
       "    </tr>\n",
       "    <tr>\n",
       "      <th>9281</th>\n",
       "      <td>9282</td>\n",
       "      <td>15679966</td>\n",
       "      <td>Marsh</td>\n",
       "      <td>661</td>\n",
       "      <td>France</td>\n",
       "      <td>Female</td>\n",
       "      <td>31</td>\n",
       "      <td>NaN</td>\n",
       "      <td>133964.30</td>\n",
       "      <td>1</td>\n",
       "      <td>1</td>\n",
       "      <td>1</td>\n",
       "      <td>166187.10</td>\n",
       "      <td>0</td>\n",
       "    </tr>\n",
       "  </tbody>\n",
       "</table>\n",
       "</div>"
      ],
      "text/plain": [
       "      RowNumber  CustomerId    Surname  CreditScore Geography  Gender  Age  \\\n",
       "9538       9539    15572767     Shelby          777    France    Male   29   \n",
       "8811       8812    15616168    Ojiofor          610    France  Female   35   \n",
       "2145       2146    15639322      Grave          633     Spain    Male   33   \n",
       "7900       7901    15653275        Lei          785     Spain  Female   54   \n",
       "773         774    15685320  Johnstone          767    France    Male   36   \n",
       "8063       8064    15663888     Connor          549   Germany    Male   34   \n",
       "5659       5660    15638607   Nwabugwu          546    France  Female   52   \n",
       "5051       5052    15572728       Ross          704     Spain    Male   36   \n",
       "7522       7523    15729718    Stelzer          610    France    Male   41   \n",
       "9281       9282    15679966      Marsh          661    France  Female   31   \n",
       "\n",
       "      Tenure    Balance  NumOfProducts  HasCrCard  IsActiveMember  \\\n",
       "9538     2.0       0.00              2          1               0   \n",
       "8811     7.0   81905.95              1          1               1   \n",
       "2145     4.0  137847.41              2          1               0   \n",
       "7900     1.0       0.00              2          1               0   \n",
       "773      3.0  139180.20              1          0               0   \n",
       "8063     6.0  204017.40              2          1               0   \n",
       "5659     2.0       0.00              1          1               0   \n",
       "5051     8.0  127397.34              1          1               0   \n",
       "7522     6.0       0.00              3          0               0   \n",
       "9281     NaN  133964.30              1          1               1   \n",
       "\n",
       "      EstimatedSalary  Exited  \n",
       "9538        124489.88       0  \n",
       "8811         61623.19       0  \n",
       "2145         98349.13       0  \n",
       "7900         45113.92       1  \n",
       "773         123880.19       0  \n",
       "8063        109538.35       0  \n",
       "5659        137332.37       1  \n",
       "5051        151335.24       0  \n",
       "7522         56118.81       1  \n",
       "9281        166187.10       0  "
      ]
     },
     "execution_count": 2,
     "metadata": {},
     "output_type": "execute_result"
    }
   ],
   "source": [
    "#посмотрим на данные в датасете\n",
    "df=pd.read_csv('/datasets/Churn.csv')\n",
    "df.sample(10)"
   ]
  },
  {
   "cell_type": "markdown",
   "metadata": {},
   "source": [
    "Так как нам нужно предсказать столбец `Exited`, в котором только значения 0 или 1, перед нами стоит задача классификации."
   ]
  },
  {
   "cell_type": "code",
   "execution_count": 3,
   "metadata": {},
   "outputs": [
    {
     "name": "stdout",
     "output_type": "stream",
     "text": [
      "<class 'pandas.core.frame.DataFrame'>\n",
      "RangeIndex: 10000 entries, 0 to 9999\n",
      "Data columns (total 14 columns):\n",
      " #   Column           Non-Null Count  Dtype  \n",
      "---  ------           --------------  -----  \n",
      " 0   RowNumber        10000 non-null  int64  \n",
      " 1   CustomerId       10000 non-null  int64  \n",
      " 2   Surname          10000 non-null  object \n",
      " 3   CreditScore      10000 non-null  int64  \n",
      " 4   Geography        10000 non-null  object \n",
      " 5   Gender           10000 non-null  object \n",
      " 6   Age              10000 non-null  int64  \n",
      " 7   Tenure           9091 non-null   float64\n",
      " 8   Balance          10000 non-null  float64\n",
      " 9   NumOfProducts    10000 non-null  int64  \n",
      " 10  HasCrCard        10000 non-null  int64  \n",
      " 11  IsActiveMember   10000 non-null  int64  \n",
      " 12  EstimatedSalary  10000 non-null  float64\n",
      " 13  Exited           10000 non-null  int64  \n",
      "dtypes: float64(3), int64(8), object(3)\n",
      "memory usage: 1.1+ MB\n"
     ]
    }
   ],
   "source": [
    "df.info()"
   ]
  },
  {
   "cell_type": "markdown",
   "metadata": {},
   "source": [
    "### Предобработка данных"
   ]
  },
  {
   "cell_type": "markdown",
   "metadata": {},
   "source": [
    "В датасете 14 столбцов и 10000 строк. Пропуски есть только в столбце `Tenure`.\n",
    "\n",
    "Приведем названия столбцов к нижнему регистру."
   ]
  },
  {
   "cell_type": "code",
   "execution_count": 4,
   "metadata": {},
   "outputs": [],
   "source": [
    "df.columns = df.columns.str.lower()"
   ]
  },
  {
   "cell_type": "code",
   "execution_count": 5,
   "metadata": {},
   "outputs": [
    {
     "data": {
      "text/plain": [
       "1.0     952\n",
       "2.0     950\n",
       "8.0     933\n",
       "3.0     928\n",
       "5.0     927\n",
       "7.0     925\n",
       "4.0     885\n",
       "9.0     882\n",
       "6.0     881\n",
       "10.0    446\n",
       "0.0     382\n",
       "Name: tenure, dtype: int64"
      ]
     },
     "execution_count": 5,
     "metadata": {},
     "output_type": "execute_result"
    }
   ],
   "source": [
    "#посмотрим какие значения есть в столбце tenure.\n",
    "df['tenure'].value_counts()"
   ]
  },
  {
   "cell_type": "markdown",
   "metadata": {},
   "source": [
    "В этом столбце значения от 0 до 10. Т.к. в этом столбце содержится информация о количестве лет, проведенных клиентом с банком, заменим пропуски на медианы в зависимости от возраста клиента."
   ]
  },
  {
   "cell_type": "code",
   "execution_count": 6,
   "metadata": {},
   "outputs": [],
   "source": [
    "df['tenure']= df['tenure'].fillna(df.groupby('age')['tenure'].transform('median')).astype('int32', errors= 'ignore')"
   ]
  },
  {
   "cell_type": "code",
   "execution_count": 7,
   "metadata": {},
   "outputs": [
    {
     "name": "stdout",
     "output_type": "stream",
     "text": [
      "Количество дубликатов: 0\n"
     ]
    }
   ],
   "source": [
    "#проверим датасет на пропуски\n",
    "print('Количество дубликатов:', df.duplicated().sum())"
   ]
  },
  {
   "cell_type": "markdown",
   "metadata": {},
   "source": [
    "Столбцы датасета `rownumber — индекс строки в данных`, `customerid — уникальный идентификатор клиента` и `surname — фамилия клиента` не несут никакой полезной информации для алгоритма и только могут его запутать дополнительными данными, поэтому их нужно удалить из датасета."
   ]
  },
  {
   "cell_type": "code",
   "execution_count": 8,
   "metadata": {},
   "outputs": [],
   "source": [
    "df = df.drop(['rownumber', 'customerid', 'surname'], axis = 1)"
   ]
  },
  {
   "cell_type": "code",
   "execution_count": 9,
   "metadata": {},
   "outputs": [
    {
     "name": "stdout",
     "output_type": "stream",
     "text": [
      "<class 'pandas.core.frame.DataFrame'>\n",
      "RangeIndex: 10000 entries, 0 to 9999\n",
      "Data columns (total 11 columns):\n",
      " #   Column           Non-Null Count  Dtype  \n",
      "---  ------           --------------  -----  \n",
      " 0   creditscore      10000 non-null  int64  \n",
      " 1   geography        10000 non-null  object \n",
      " 2   gender           10000 non-null  object \n",
      " 3   age              10000 non-null  int64  \n",
      " 4   tenure           10000 non-null  int32  \n",
      " 5   balance          10000 non-null  float64\n",
      " 6   numofproducts    10000 non-null  int64  \n",
      " 7   hascrcard        10000 non-null  int64  \n",
      " 8   isactivemember   10000 non-null  int64  \n",
      " 9   estimatedsalary  10000 non-null  float64\n",
      " 10  exited           10000 non-null  int64  \n",
      "dtypes: float64(2), int32(1), int64(6), object(2)\n",
      "memory usage: 820.4+ KB\n"
     ]
    }
   ],
   "source": [
    "#проверим наш финальный датасет\n",
    "df.info()"
   ]
  },
  {
   "cell_type": "markdown",
   "metadata": {},
   "source": [
    "### Подготовка признаков"
   ]
  },
  {
   "cell_type": "markdown",
   "metadata": {},
   "source": [
    "Как видно из информации о датасете, столбцы `geography` и `gender` имеют категориальные признаки, поэтому их нужно перевести в численные. Посмотрим, какие значения содержатся в данных столбцах."
   ]
  },
  {
   "cell_type": "code",
   "execution_count": 10,
   "metadata": {},
   "outputs": [
    {
     "data": {
      "text/plain": [
       "France     5014\n",
       "Germany    2509\n",
       "Spain      2477\n",
       "Name: geography, dtype: int64"
      ]
     },
     "metadata": {},
     "output_type": "display_data"
    },
    {
     "data": {
      "text/plain": [
       "Male      5457\n",
       "Female    4543\n",
       "Name: gender, dtype: int64"
      ]
     },
     "metadata": {},
     "output_type": "display_data"
    }
   ],
   "source": [
    "display(df['geography'].value_counts())\n",
    "display(df['gender'].value_counts())"
   ]
  },
  {
   "cell_type": "markdown",
   "metadata": {},
   "source": [
    "В столбце `geography` 3 значения, а в столбце `gender` всего 2. Значит можем преобразовать эти столбцы при помощи метода One-Hot Encoding (OHE)."
   ]
  },
  {
   "cell_type": "code",
   "execution_count": 11,
   "metadata": {},
   "outputs": [
    {
     "data": {
      "text/html": [
       "<div>\n",
       "<style scoped>\n",
       "    .dataframe tbody tr th:only-of-type {\n",
       "        vertical-align: middle;\n",
       "    }\n",
       "\n",
       "    .dataframe tbody tr th {\n",
       "        vertical-align: top;\n",
       "    }\n",
       "\n",
       "    .dataframe thead th {\n",
       "        text-align: right;\n",
       "    }\n",
       "</style>\n",
       "<table border=\"1\" class=\"dataframe\">\n",
       "  <thead>\n",
       "    <tr style=\"text-align: right;\">\n",
       "      <th></th>\n",
       "      <th>creditscore</th>\n",
       "      <th>age</th>\n",
       "      <th>tenure</th>\n",
       "      <th>balance</th>\n",
       "      <th>numofproducts</th>\n",
       "      <th>hascrcard</th>\n",
       "      <th>isactivemember</th>\n",
       "      <th>estimatedsalary</th>\n",
       "      <th>exited</th>\n",
       "      <th>geography_Germany</th>\n",
       "      <th>geography_Spain</th>\n",
       "      <th>gender_Male</th>\n",
       "    </tr>\n",
       "  </thead>\n",
       "  <tbody>\n",
       "    <tr>\n",
       "      <th>7228</th>\n",
       "      <td>539</td>\n",
       "      <td>47</td>\n",
       "      <td>2</td>\n",
       "      <td>127286.04</td>\n",
       "      <td>2</td>\n",
       "      <td>1</td>\n",
       "      <td>1</td>\n",
       "      <td>166929.43</td>\n",
       "      <td>1</td>\n",
       "      <td>0</td>\n",
       "      <td>0</td>\n",
       "      <td>0</td>\n",
       "    </tr>\n",
       "    <tr>\n",
       "      <th>2126</th>\n",
       "      <td>790</td>\n",
       "      <td>40</td>\n",
       "      <td>9</td>\n",
       "      <td>0.00</td>\n",
       "      <td>2</td>\n",
       "      <td>1</td>\n",
       "      <td>1</td>\n",
       "      <td>70607.10</td>\n",
       "      <td>0</td>\n",
       "      <td>0</td>\n",
       "      <td>0</td>\n",
       "      <td>0</td>\n",
       "    </tr>\n",
       "    <tr>\n",
       "      <th>3979</th>\n",
       "      <td>685</td>\n",
       "      <td>40</td>\n",
       "      <td>7</td>\n",
       "      <td>0.00</td>\n",
       "      <td>1</td>\n",
       "      <td>1</td>\n",
       "      <td>0</td>\n",
       "      <td>72852.74</td>\n",
       "      <td>1</td>\n",
       "      <td>0</td>\n",
       "      <td>0</td>\n",
       "      <td>0</td>\n",
       "    </tr>\n",
       "    <tr>\n",
       "      <th>8223</th>\n",
       "      <td>483</td>\n",
       "      <td>27</td>\n",
       "      <td>1</td>\n",
       "      <td>77805.66</td>\n",
       "      <td>1</td>\n",
       "      <td>1</td>\n",
       "      <td>1</td>\n",
       "      <td>2101.89</td>\n",
       "      <td>0</td>\n",
       "      <td>0</td>\n",
       "      <td>0</td>\n",
       "      <td>1</td>\n",
       "    </tr>\n",
       "    <tr>\n",
       "      <th>9523</th>\n",
       "      <td>660</td>\n",
       "      <td>32</td>\n",
       "      <td>0</td>\n",
       "      <td>114668.89</td>\n",
       "      <td>1</td>\n",
       "      <td>1</td>\n",
       "      <td>0</td>\n",
       "      <td>84605.00</td>\n",
       "      <td>0</td>\n",
       "      <td>0</td>\n",
       "      <td>0</td>\n",
       "      <td>0</td>\n",
       "    </tr>\n",
       "  </tbody>\n",
       "</table>\n",
       "</div>"
      ],
      "text/plain": [
       "      creditscore  age  tenure    balance  numofproducts  hascrcard  \\\n",
       "7228          539   47       2  127286.04              2          1   \n",
       "2126          790   40       9       0.00              2          1   \n",
       "3979          685   40       7       0.00              1          1   \n",
       "8223          483   27       1   77805.66              1          1   \n",
       "9523          660   32       0  114668.89              1          1   \n",
       "\n",
       "      isactivemember  estimatedsalary  exited  geography_Germany  \\\n",
       "7228               1        166929.43       1                  0   \n",
       "2126               1         70607.10       0                  0   \n",
       "3979               0         72852.74       1                  0   \n",
       "8223               1          2101.89       0                  0   \n",
       "9523               0         84605.00       0                  0   \n",
       "\n",
       "      geography_Spain  gender_Male  \n",
       "7228                0            0  \n",
       "2126                0            0  \n",
       "3979                0            0  \n",
       "8223                0            1  \n",
       "9523                0            0  "
      ]
     },
     "execution_count": 11,
     "metadata": {},
     "output_type": "execute_result"
    }
   ],
   "source": [
    "df_ohe = pd.get_dummies(df, drop_first=True)\n",
    "\n",
    "#посмотрим на получившийся датасет\n",
    "df_ohe.sample(5)"
   ]
  },
  {
   "cell_type": "markdown",
   "metadata": {},
   "source": [
    "Преобразование категориальных данных в численные прошло успешно."
   ]
  },
  {
   "cell_type": "markdown",
   "metadata": {},
   "source": [
    "Выделим признаки и целевой признак, а затем разделим их на обучающую, валидационную и тестовую выборки."
   ]
  },
  {
   "cell_type": "code",
   "execution_count": 12,
   "metadata": {},
   "outputs": [
    {
     "name": "stdout",
     "output_type": "stream",
     "text": [
      "Размер обучающей выборки: 6000\n",
      "Размер тестовой выборки: 2000\n",
      "Размер валидационной выборки: 2000\n"
     ]
    }
   ],
   "source": [
    "features = df_ohe.drop('exited', axis=1)\n",
    "target = df_ohe['exited']\n",
    "\n",
    "#выделим из датасета 20 % на тестовую выборку\n",
    "features_train, features_test, target_train, target_test = train_test_split(\n",
    "    features, target, test_size=0.2, random_state=12345)\n",
    "\n",
    "#и выделим еще 20 % от оставшегося датасета на валидационную выборку\n",
    "features_train, features_valid, target_train, target_valid = train_test_split(\n",
    "    features_train, target_train, test_size=0.25, random_state=12345)\n",
    "\n",
    "print('Размер обучающей выборки:', len(target_train))\n",
    "print('Размер тестовой выборки:', len(target_test))\n",
    "print('Размер валидационной выборки:', len(target_valid))"
   ]
  },
  {
   "cell_type": "markdown",
   "metadata": {},
   "source": [
    "Теперь проведем масштабирование признаков при помощи стандартизации данных. Для этого воспользуемся методом Scaler."
   ]
  },
  {
   "cell_type": "code",
   "execution_count": 13,
   "metadata": {},
   "outputs": [
    {
     "name": "stdout",
     "output_type": "stream",
     "text": [
      "      creditscore       age    tenure   balance  numofproducts  hascrcard  \\\n",
      "700      1.010884 -0.650691 -0.006688 -1.232442       0.816929          1   \n",
      "8855     0.464204  0.399118  1.800811  0.825139      -0.896909          0   \n",
      "5186    -0.134048 -0.650691  1.439311 -1.232442       0.816929          1   \n",
      "6692     0.103190  0.017370 -0.006688  0.983684      -0.896909          0   \n",
      "3073    -1.248036 -0.650691 -0.006688  0.525774       0.816929          1   \n",
      "\n",
      "      isactivemember  estimatedsalary  geography_Germany  geography_Spain  \\\n",
      "700                0        -0.074874                  0                0   \n",
      "8855               0         1.540853                  0                1   \n",
      "5186               0         0.198757                  0                0   \n",
      "6692               0        -1.397280                  0                0   \n",
      "3073               1         1.254902                  1                0   \n",
      "\n",
      "      gender_Male  \n",
      "700             0  \n",
      "8855            1  \n",
      "5186            1  \n",
      "6692            0  \n",
      "3073            0  \n"
     ]
    }
   ],
   "source": [
    "#для начала выделим столбцы, которые будем масштабировать.\n",
    "numeric=['creditscore', 'age', 'tenure', 'balance', 'numofproducts','estimatedsalary']\n",
    "\n",
    "#теперь проведем масштабирование при помощи Scaler\n",
    "scaler = StandardScaler()\n",
    "scaler.fit((features_train[numeric]))\n",
    "features_train[numeric]=scaler.transform(features_train[numeric])\n",
    "features_valid[numeric]=scaler.transform(features_valid[numeric])\n",
    "features_test[numeric]=scaler.transform(features_test[numeric])\n",
    "\n",
    "#проверим, что масштабирование прошло успешно\n",
    "print(features_train.sample(5))"
   ]
  },
  {
   "cell_type": "markdown",
   "metadata": {},
   "source": [
    "### Вывод\n",
    "1. Так как нам нужно предсказать столбец `exited`, в котором только значения 0 или 1, перед нами стоит задача классификации.\n",
    "2. В датасете 14 столбцов и 10000 строк. Пропуски были только в столбце `tenure`.\n",
    "3. Пропуски в столбце `tenure` были заменены на медианы в зависимости от возраста клиента.\n",
    "4. Столбцы датасета `rownumber — индекс строки в данных`, `customerid — уникальный идентификатор клиента` и `surname — фамилия клиента` не несут никакой полезной информации для алгоритма, поэтому были удалены из датасета.\n",
    "5. Столбцы `geography` и `gender` были преобразованы из категориальных в численные.\n",
    "6. В датасете было проведено масштабирование признаков при помощи стандартизации данных.\n",
    "7. Из датасета были выделены обучающая, тестовая и валидационная выборки."
   ]
  },
  {
   "cell_type": "markdown",
   "metadata": {},
   "source": [
    "## Исследование задачи"
   ]
  },
  {
   "cell_type": "markdown",
   "metadata": {},
   "source": [
    "На этом шаге мы обучим модели без учета дисбаланса классов. Но для начала посмотрим на соотношение 0 и 1 в столбце `exited`."
   ]
  },
  {
   "cell_type": "code",
   "execution_count": 14,
   "metadata": {},
   "outputs": [
    {
     "data": {
      "text/plain": [
       "0    7963\n",
       "1    2037\n",
       "Name: exited, dtype: int64"
      ]
     },
     "execution_count": 14,
     "metadata": {},
     "output_type": "execute_result"
    }
   ],
   "source": [
    "target.value_counts()"
   ]
  },
  {
   "cell_type": "markdown",
   "metadata": {},
   "source": [
    "Дисбаланс большой, соотношение 80 % к 20 %. Для наглядности посмотрим на дисбаланс на диаграмме."
   ]
  },
  {
   "cell_type": "code",
   "execution_count": 15,
   "metadata": {},
   "outputs": [
    {
     "data": {
      "image/png": "[encoded data removed]",
      "text/plain": [
       "<Figure size 432x288 with 1 Axes>"
      ]
     },
     "metadata": {},
     "output_type": "display_data"
    }
   ],
   "source": [
    "target.value_counts().plot(kind='pie', autopct='%1.1f%%')\n",
    "plt.title('Количество положительных и отрицательных классов')\n",
    "plt.xlabel('Количество', fontsize=12)\n",
    "plt.ylabel('Класс', fontsize=12)\n",
    "plt.show()"
   ]
  },
  {
   "cell_type": "markdown",
   "metadata": {},
   "source": [
    "Обучим три модели без учета дисбаланса классов."
   ]
  },
  {
   "cell_type": "markdown",
   "metadata": {},
   "source": [
    "### Дерево решений"
   ]
  },
  {
   "cell_type": "code",
   "execution_count": 16,
   "metadata": {},
   "outputs": [
    {
     "name": "stdout",
     "output_type": "stream",
     "text": [
      "Лучший результат f1 для дерева: 0.5828571428571429 с max_depth 10 и min_samples_leaf 38\n",
      "Лучший результат auc_roc для дерева: 0.8373940383297913 с max_depth 10 и min_samples_leaf 38\n"
     ]
    }
   ],
   "source": [
    "best_hp_f1 = [] #hp - это аббревиатура от гиперпараметров\n",
    "best_f1 = 0\n",
    "best_hp_auc_roc = []\n",
    "best_auc_roc = 0\n",
    "best_tree = None\n",
    "for depth in range(1, 20):\n",
    "    for min_samples_leaf in range(1, 50):\n",
    "        tree_model = DecisionTreeClassifier(random_state=12345, max_depth=depth, min_samples_leaf=min_samples_leaf)\n",
    "        tree_model.fit(features_train, target_train)\n",
    "        tree_predictions = tree_model.predict(features_valid)\n",
    "        f1 = f1_score(target_valid, tree_predictions)\n",
    "        probabilities_valid = tree_model.predict_proba(features_valid)\n",
    "        probabilities_one_valid = probabilities_valid[:, 1]\n",
    "        auc_roc = roc_auc_score(target_valid, probabilities_one_valid)\n",
    "        if f1 > best_f1:\n",
    "            best_f1 = f1\n",
    "            best_hp_f1 = [depth, min_samples_leaf]\n",
    "            best_tree = tree_model\n",
    "            best_auc_roc = auc_roc\n",
    "            best_tree_depth = depth\n",
    "            best_leaf = min_samples_leaf\n",
    "            \n",
    "            \n",
    "print('Лучший результат f1 для дерева: {} с max_depth {} и min_samples_leaf {}'\n",
    "      .format(best_f1, best_hp_f1[0], best_hp_f1[1]))\n",
    "print('Лучший результат auc_roc для дерева: {} с max_depth {} и min_samples_leaf {}'\n",
    "      .format(best_auc_roc, best_hp_f1[0], best_hp_f1[1]))"
   ]
  },
  {
   "cell_type": "markdown",
   "metadata": {},
   "source": [
    "Получили f1 равным 0,58. Неплохо, но это меньше чем 0,59. \n",
    "\n",
    "Также выяснили, что параметры f1 и AUC-ROC при изменении гиперпараметров меняются синхронно: чем выше получается f1, тем выше и AUC-ROC.\n",
    "\n",
    "Измерим площадь ROC-кривой, чтобы выявить, как сильно наша модель отличается от случайной и какова вероятность положительного класса."
   ]
  },
  {
   "cell_type": "code",
   "execution_count": 17,
   "metadata": {},
   "outputs": [
    {
     "data": {
      "image/png": "[encoded data removed]",
      "text/plain": [
       "<Figure size 432x288 with 1 Axes>"
      ]
     },
     "metadata": {
      "needs_background": "light"
     },
     "output_type": "display_data"
    }
   ],
   "source": [
    "#посмотрим на гистограмму ROC-кривой\n",
    "fpr, tpr, thresholds = roc_curve(target_valid, probabilities_one_valid)\n",
    "\n",
    "plt.figure()\n",
    "plt.plot(fpr, tpr)\n",
    "plt.plot([0, 1], [0, 1], linestyle='--')\n",
    "plt.xlim([0.0, 1.0])\n",
    "plt.ylim([0.0, 1.0])\n",
    "plt.xlabel('False Positive Rate')\n",
    "plt.ylabel('True Positive Rate')\n",
    "plt.title('ROC-кривая дерева решений')\n",
    "plt.show() "
   ]
  },
  {
   "cell_type": "markdown",
   "metadata": {},
   "source": [
    "Исходя из гистограммы, модель дерева решений работает адекватно и существенно отличается от случайной модели."
   ]
  },
  {
   "cell_type": "markdown",
   "metadata": {},
   "source": [
    "### Случайный лес"
   ]
  },
  {
   "cell_type": "code",
   "execution_count": 18,
   "metadata": {},
   "outputs": [
    {
     "name": "stdout",
     "output_type": "stream",
     "text": [
      "Лучший результат f1 для леса: 0.5705128205128206 с max_depth 11 и n_estimators 18\n",
      "Лучший результат auc_roc для дерева: 0.8396424205913349 с max_depth 11 и n_estimators 18\n"
     ]
    }
   ],
   "source": [
    "best_hp_f1 = []\n",
    "best_f1 = 0\n",
    "best_hp_auc_roc = []\n",
    "best_auc_roc = 0\n",
    "best_forest = None\n",
    "for depth in range(1, 15):\n",
    "    for est in range(1, 50):\n",
    "        forest_model = RandomForestClassifier(random_state=12345, n_estimators=est, max_depth=depth)\n",
    "        forest_model.fit(features_train, target_train)\n",
    "        forest_predictions = forest_model.predict(features_valid)\n",
    "        f1 = f1_score(target_valid, forest_predictions)\n",
    "        probabilities_valid = forest_model.predict_proba(features_valid)\n",
    "        probabilities_one_valid = probabilities_valid[:, 1]\n",
    "        auc_roc = roc_auc_score(target_valid, probabilities_one_valid)\n",
    "        if f1 > best_f1:\n",
    "            best_f1 = f1\n",
    "            best_hp_f1 = [depth, est]\n",
    "            best_forest = forest_model\n",
    "            best_auc_roc = auc_roc\n",
    "            best_forest_depth = depth\n",
    "            best_est = est\n",
    "\n",
    "print('Лучший результат f1 для леса: {} с max_depth {} и n_estimators {}'\n",
    "      .format(best_f1, best_hp_f1[0], best_hp_f1[1]))\n",
    "print('Лучший результат auc_roc для дерева: {} с max_depth {} и n_estimators {}'\n",
    "      .format(best_auc_roc, best_hp_f1[0], best_hp_f1[1]))"
   ]
  },
  {
   "cell_type": "markdown",
   "metadata": {},
   "source": [
    "Получили f1 равный 0,57. Результат хуже, чем у дерева решений."
   ]
  },
  {
   "cell_type": "code",
   "execution_count": 19,
   "metadata": {},
   "outputs": [
    {
     "data": {
      "image/png": "[encoded data removed]",
      "text/plain": [
       "<Figure size 432x288 with 1 Axes>"
      ]
     },
     "metadata": {
      "needs_background": "light"
     },
     "output_type": "display_data"
    }
   ],
   "source": [
    "#и посмотрим на гистограмму ROC-кривой\n",
    "fpr, tpr, thresholds = roc_curve(target_valid, probabilities_one_valid)\n",
    "\n",
    "plt.figure()\n",
    "plt.plot(fpr, tpr)\n",
    "plt.plot([0.0, 1.0], [0.0, 1.0], linestyle='--')\n",
    "plt.xlim([0.0, 1.0])\n",
    "plt.ylim([0.0, 1.0])\n",
    "plt.xlabel('False Positive Rate')\n",
    "plt.ylabel('True Positive Rate')\n",
    "plt.title('ROC-кривая случайного леса')\n",
    "plt.show() "
   ]
  },
  {
   "cell_type": "markdown",
   "metadata": {},
   "source": [
    "Судя по ROC-кривой модель работает адекватно."
   ]
  },
  {
   "cell_type": "markdown",
   "metadata": {},
   "source": [
    "### Логистическая регрессия"
   ]
  },
  {
   "cell_type": "code",
   "execution_count": 20,
   "metadata": {},
   "outputs": [
    {
     "name": "stdout",
     "output_type": "stream",
     "text": [
      "F1 логистической регрессии: 0.30131826741996237\n",
      "AUC_ROC логистической регрессии: 0.7703296196744973\n"
     ]
    }
   ],
   "source": [
    "reg_model = LogisticRegression(random_state=12345, solver='liblinear')\n",
    "reg_model.fit(features_train, target_train)\n",
    "reg_predictions = reg_model.predict(features_valid)\n",
    "f1 = f1_score(target_valid, reg_predictions)\n",
    "probabilities_valid = reg_model.predict_proba(features_valid)\n",
    "probabilities_one_valid = probabilities_valid[:, 1]\n",
    "auc_roc = roc_auc_score(target_valid, probabilities_one_valid)\n",
    "\n",
    "print('F1 логистической регрессии:', f1)\n",
    "print('AUC_ROC логистической регрессии:', auc_roc)"
   ]
  },
  {
   "cell_type": "markdown",
   "metadata": {},
   "source": [
    "Показатель f1 совсем низкий: всего 0,3. Данная модель никуда не годится."
   ]
  },
  {
   "cell_type": "code",
   "execution_count": 21,
   "metadata": {},
   "outputs": [
    {
     "name": "stdout",
     "output_type": "stream",
     "text": [
      "0.7703296196744973\n"
     ]
    }
   ],
   "source": [
    "#измерим ROC-кривую\n",
    "probabilities_valid = reg_model.predict_proba(features_valid)\n",
    "probabilities_one_valid = probabilities_valid[:, 1]\n",
    "\n",
    "auc_roc = roc_auc_score(target_valid, probabilities_one_valid)\n",
    "\n",
    "print(auc_roc)"
   ]
  },
  {
   "cell_type": "code",
   "execution_count": 22,
   "metadata": {},
   "outputs": [
    {
     "data": {
      "image/png": "[encoded data removed]",
      "text/plain": [
       "<Figure size 432x288 with 1 Axes>"
      ]
     },
     "metadata": {
      "needs_background": "light"
     },
     "output_type": "display_data"
    }
   ],
   "source": [
    "#и посмотрим на гистограмму ROC-кривой\n",
    "fpr, tpr, thresholds = roc_curve(target_valid, probabilities_one_valid)\n",
    "\n",
    "plt.figure()\n",
    "plt.plot(fpr, tpr)\n",
    "plt.plot([0.0, 1.0], [0.0, 1.0], linestyle='--')\n",
    "plt.xlim([0.0, 1.0])\n",
    "plt.ylim([0.0, 1.0])\n",
    "plt.xlabel('False Positive Rate')\n",
    "plt.ylabel('True Positive Rate')\n",
    "plt.title('ROC-кривая логистической регрессии')\n",
    "plt.show() "
   ]
  },
  {
   "cell_type": "markdown",
   "metadata": {},
   "source": [
    "Данная модель оказалось самой слабой и не сильно превосходит случайные модели."
   ]
  },
  {
   "cell_type": "markdown",
   "metadata": {},
   "source": [
    "### Вывод\n",
    "\n",
    "На этом шаге были обучены три модели без учета дисбаланса классов.\n",
    "1. По дереву решений получили f1 равным 0,58. Это самый высокий результат из трех моделей, но все-равно недостаточно высокий для сдачи нашего проекта заказчику.\n",
    "2. По случайному лесу получили f1 равный 0,55. Результат хуже, чем у дерева решений.\n",
    "3. Логистическая регрессия в данной ситуации оказалась самой слабой моделью и в текущем состоянии никуда не годится."
   ]
  },
  {
   "cell_type": "markdown",
   "metadata": {},
   "source": [
    "## Борьба с дисбалансом"
   ]
  },
  {
   "cell_type": "markdown",
   "metadata": {},
   "source": [
    "Для борьбы с дисбалансом используем несколько способов:\n",
    "\n",
    "1. Взвешивание классов\n",
    "2. Изменение порога\n",
    "3. Увеличение выборки (Upsampling)\n",
    "4. Уменьшение выборки (Downsampling)"
   ]
  },
  {
   "cell_type": "markdown",
   "metadata": {},
   "source": [
    "### Взвешивание классов"
   ]
  },
  {
   "cell_type": "code",
   "execution_count": 23,
   "metadata": {},
   "outputs": [
    {
     "name": "stdout",
     "output_type": "stream",
     "text": [
      "F1 дерева решений со сбалансированными классами составляет 0.555765595463138\n",
      "AUC_ROC дерева решений со сбалансированными классами составляет: 0.8310168664433915\n"
     ]
    }
   ],
   "source": [
    "#проверим на дереве решений\n",
    "tree_model_bal = DecisionTreeClassifier(random_state=12345,\n",
    "                                        max_depth=best_tree_depth,\n",
    "                                        min_samples_leaf=best_leaf,\n",
    "                                        class_weight='balanced')\n",
    "tree_model_bal.fit(features_train, target_train)\n",
    "tree_bal_predictions = tree_model_bal.predict(features_valid)\n",
    "f1_tree_bal = f1_score(target_valid, tree_bal_predictions)\n",
    "probabilities_valid = tree_model_bal.predict_proba(features_valid)\n",
    "probabilities_one_valid = probabilities_valid[:, 1]\n",
    "auc_roc_tree_bal = roc_auc_score(target_valid, probabilities_one_valid)\n",
    "\n",
    "print('F1 дерева решений со сбалансированными классами составляет', f1_tree_bal)\n",
    "print('AUC_ROC дерева решений со сбалансированными классами составляет:', auc_roc_tree_bal)"
   ]
  },
  {
   "cell_type": "markdown",
   "metadata": {},
   "source": [
    "Ранее было 0,58, а после взвешивания стало 0,55, т.е. результат ухудшился."
   ]
  },
  {
   "cell_type": "code",
   "execution_count": 24,
   "metadata": {},
   "outputs": [
    {
     "name": "stdout",
     "output_type": "stream",
     "text": [
      "F1 случайного леса со сбалансированными классами составляет 0.5607476635514018\n",
      "AUC_ROC случайного леса со сбалансированными классами составляет: 0.8357520596262393\n"
     ]
    }
   ],
   "source": [
    "#случайный лес\n",
    "forest_model_bal = RandomForestClassifier(random_state=12345,\n",
    "                                          n_estimators=best_est,\n",
    "                                          max_depth=best_forest_depth,\n",
    "                                          class_weight='balanced')\n",
    "forest_model_bal.fit(features_train, target_train)\n",
    "forest_bal_predictions = forest_model_bal.predict(features_valid)\n",
    "f1_forest_bal = f1_score(target_valid, forest_bal_predictions)\n",
    "probabilities_valid = forest_model_bal.predict_proba(features_valid)\n",
    "probabilities_one_valid = probabilities_valid[:, 1]\n",
    "auc_roc_forest_bal = roc_auc_score(target_valid, probabilities_one_valid)\n",
    "print('F1 случайного леса со сбалансированными классами составляет', f1_forest_bal)\n",
    "print('AUC_ROC случайного леса со сбалансированными классами составляет:', auc_roc_forest_bal)"
   ]
  },
  {
   "cell_type": "markdown",
   "metadata": {},
   "source": [
    "У случайного леса f1 снизился с 0,57 до 0,56."
   ]
  },
  {
   "cell_type": "code",
   "execution_count": 25,
   "metadata": {},
   "outputs": [
    {
     "name": "stdout",
     "output_type": "stream",
     "text": [
      "F1 логистической регрессии со сбалансированными классами составляет 0.4741532976827095\n",
      "AUC_ROC логистической регрессии со сбалансированными классами составляет 0.7725644909786543\n"
     ]
    }
   ],
   "source": [
    "#логистическая регрессия\n",
    "reg_model_bal = LogisticRegression(random_state=12345, solver='liblinear', class_weight='balanced')\n",
    "reg_model_bal.fit(features_train, target_train)\n",
    "reg_bal_predictions = reg_model_bal.predict(features_valid)\n",
    "f1_reg_bal = f1_score(target_valid, reg_bal_predictions)\n",
    "probabilities_valid = reg_model_bal.predict_proba(features_valid)\n",
    "probabilities_one_valid = probabilities_valid[:, 1]\n",
    "auc_roc_reg_bal = roc_auc_score(target_valid, probabilities_one_valid)\n",
    "print('F1 логистической регрессии со сбалансированными классами составляет', f1_reg_bal)\n",
    "print('AUC_ROC логистической регрессии со сбалансированными классами составляет', auc_roc_reg_bal)"
   ]
  },
  {
   "cell_type": "markdown",
   "metadata": {},
   "source": [
    "По логистической регрессии произошел существенный прирост f1 и составил 0,47, но до 0,59 еще очень далеко."
   ]
  },
  {
   "cell_type": "markdown",
   "metadata": {},
   "source": [
    "Взвешивание классов почти не дало существенного прироста f1 и разница только заметна по логистической регрессии."
   ]
  },
  {
   "cell_type": "markdown",
   "metadata": {},
   "source": [
    "### Изменение порога"
   ]
  },
  {
   "cell_type": "code",
   "execution_count": 26,
   "metadata": {},
   "outputs": [
    {
     "name": "stdout",
     "output_type": "stream",
     "text": [
      "Лучший порог = 0.46 | Точность = 0.656, Полнота = 0.547, f1 = 0.60\n"
     ]
    }
   ],
   "source": [
    "#проверим, как изменение порога влияет на дерево решений\n",
    "#проверим, как изменение порога влияет на дерево решений\n",
    "best_threshold_tree = 0\n",
    "best_f1_th_tree = 0\n",
    "best_precision = 0\n",
    "best_recall = 0\n",
    "probabilities_valid = best_tree.predict_proba(features_valid)\n",
    "probabilities_one_valid = probabilities_valid[:, 1]\n",
    "\n",
    "for threshold in np.arange(0, 1, 0.02):\n",
    "    predicted_valid = probabilities_one_valid > threshold \n",
    "    precision = precision_score(target_valid, predicted_valid)\n",
    "    recall = recall_score(target_valid, predicted_valid)\n",
    "    f1 = f1_score(target_valid, predicted_valid)\n",
    "    if f1 > best_f1_th_tree:\n",
    "        best_f1_th_tree = f1\n",
    "        best_threshold_tree = threshold\n",
    "        best_precision = precision\n",
    "        best_recall = recall\n",
    "print(\"Лучший порог = {:.2f} | Точность = {:.3f}, Полнота = {:.3f}, f1 = {:.2f}\"\n",
    "          .format(best_threshold_tree, best_precision, best_recall, best_f1_th_tree))"
   ]
  },
  {
   "cell_type": "markdown",
   "metadata": {},
   "source": [
    "<b>Для дерева решений f1 преодолел необходимый порог и достиг показателя 0,6 с порогом 0,46.</b>"
   ]
  },
  {
   "cell_type": "code",
   "execution_count": 27,
   "metadata": {},
   "outputs": [
    {
     "name": "stdout",
     "output_type": "stream",
     "text": [
      "Лучший порог = 0.34 | Точность = 0.591, Полнота = 0.573, f1 = 0.58\n"
     ]
    }
   ],
   "source": [
    "#проверим, как изменение порога влияет на случайный лес\n",
    "best_threshold_forest = 0\n",
    "best_f1_th_forest = 0\n",
    "best_precision = 0\n",
    "best_recall = 0\n",
    "probabilities_valid = best_forest.predict_proba(features_valid)\n",
    "probabilities_one_valid = probabilities_valid[:, 1]\n",
    "\n",
    "for threshold in np.arange(0, 1, 0.02):\n",
    "    predicted_valid = probabilities_one_valid > threshold \n",
    "    precision = precision_score(target_valid, predicted_valid)\n",
    "    recall = recall_score(target_valid, predicted_valid)\n",
    "    f1 = f1_score(target_valid, predicted_valid)\n",
    "    if f1 > best_f1_th_forest:\n",
    "        best_f1_th_forest = f1\n",
    "        best_threshold_forest = threshold\n",
    "        best_precision = precision\n",
    "        best_recall = recall\n",
    "print(\"Лучший порог = {:.2f} | Точность = {:.3f}, Полнота = {:.3f}, f1 = {:.2f}\"\n",
    "          .format(best_threshold_forest, best_precision, best_recall, best_f1_th_forest))"
   ]
  },
  {
   "cell_type": "markdown",
   "metadata": {},
   "source": [
    "Лучший порог - 0,34, но с ним случайный лес не достиг нужного значения f1 в 0,59."
   ]
  },
  {
   "cell_type": "code",
   "execution_count": 28,
   "metadata": {},
   "outputs": [
    {
     "name": "stdout",
     "output_type": "stream",
     "text": [
      "Лучший порог = 0.32 | Точность = 0.500, Полнота = 0.488, f1 = 0.49\n"
     ]
    }
   ],
   "source": [
    "#проверим, как изменение порога влияет на логистическую регрессию\n",
    "best_threshold_reg = 0\n",
    "best_f1_th_reg = 0\n",
    "best_precision = 0\n",
    "best_recall = 0\n",
    "probabilities_valid = reg_model.predict_proba(features_valid)\n",
    "probabilities_one_valid = probabilities_valid[:, 1]\n",
    "\n",
    "for threshold in np.arange(0, 1, 0.02):\n",
    "    predicted_valid = probabilities_one_valid > threshold \n",
    "    precision = precision_score(target_valid, predicted_valid)\n",
    "    recall = recall_score(target_valid, predicted_valid)\n",
    "    f1 = f1_score(target_valid, predicted_valid)\n",
    "    if f1 > best_f1_th_reg:\n",
    "        best_f1_th_reg = f1\n",
    "        best_threshold_reg = threshold\n",
    "        best_precision = precision\n",
    "        best_recall = recall\n",
    "print(\"Лучший порог = {:.2f} | Точность = {:.3f}, Полнота = {:.3f}, f1 = {:.2f}\"\n",
    "          .format(best_threshold_reg, best_precision, best_recall, best_f1_th_reg))"
   ]
  },
  {
   "cell_type": "markdown",
   "metadata": {},
   "source": [
    "По логистической регрессии f1 увеличился до 0,49."
   ]
  },
  {
   "cell_type": "markdown",
   "metadata": {},
   "source": [
    "### Upsampling"
   ]
  },
  {
   "cell_type": "markdown",
   "metadata": {},
   "source": [
    "Для борьбы с дисбалансом классов будем использовать технику Upsampling и для этого напишем функцию."
   ]
  },
  {
   "cell_type": "code",
   "execution_count": 29,
   "metadata": {},
   "outputs": [],
   "source": [
    "def upsample(features, target, repeat):\n",
    "    features_zeros = features[target == 0]\n",
    "    features_ones = features[target == 1]\n",
    "    target_zeros = target[target == 0]\n",
    "    target_ones = target[target == 1]\n",
    "\n",
    "    features_upsampled = pd.concat([features_zeros] + [features_ones] * repeat)\n",
    "    target_upsampled = pd.concat([target_zeros] + [target_ones] * repeat)\n",
    "    \n",
    "    #перемешаем данные\n",
    "    features_upsampled, target_upsampled = shuffle(\n",
    "        features_upsampled, target_upsampled, random_state=12345)\n",
    "    \n",
    "    return features_upsampled, target_upsampled\n",
    "\n",
    "features_upsampled, target_upsampled = upsample(features_train, target_train, 4)"
   ]
  },
  {
   "cell_type": "code",
   "execution_count": 30,
   "metadata": {},
   "outputs": [
    {
     "data": {
      "text/plain": [
       "1    4876\n",
       "0    4781\n",
       "Name: exited, dtype: int64"
      ]
     },
     "execution_count": 30,
     "metadata": {},
     "output_type": "execute_result"
    }
   ],
   "source": [
    "target_upsampled.value_counts()"
   ]
  },
  {
   "cell_type": "code",
   "execution_count": 31,
   "metadata": {},
   "outputs": [
    {
     "data": {
      "image/png": "[encoded data removed]",
      "text/plain": [
       "<Figure size 432x288 with 1 Axes>"
      ]
     },
     "metadata": {
      "needs_background": "light"
     },
     "output_type": "display_data"
    }
   ],
   "source": [
    "#посмотрим на гистограмме соотношение классов\n",
    "target_upsampled.value_counts().plot(kind='barh')\n",
    "plt.title('Количество положительных и отрицательных классов')\n",
    "plt.xlabel('Количество', fontsize=12)\n",
    "plt.ylabel('Класс', fontsize=12)\n",
    "plt.show()"
   ]
  },
  {
   "cell_type": "markdown",
   "metadata": {},
   "source": [
    "Проверим на увеличенной выборке наши модели."
   ]
  },
  {
   "cell_type": "markdown",
   "metadata": {},
   "source": [
    "#### Дерево решений"
   ]
  },
  {
   "cell_type": "code",
   "execution_count": 32,
   "metadata": {},
   "outputs": [
    {
     "name": "stdout",
     "output_type": "stream",
     "text": [
      "Лучший результат f1 для дерева с увеличенной выборкой: 0.5795918367346938 с max_depth 7 и min_samples_leaf 42\n",
      "Лучший результат auc_roc для дерева с увеличенной выборкой: 0.8423557387394118 с max_depth 7 и min_samples_leaf 42\n"
     ]
    }
   ],
   "source": [
    "best_hp_f1_up_tree = []\n",
    "best_f1_up_tree = 0\n",
    "best_hp_auc_roc_up_tree = []\n",
    "best_auc_roc_up_tree = 0\n",
    "best_tree_up = None\n",
    "for depth in range(1, 20):\n",
    "    for min_samples_leaf in range(1, 50):\n",
    "        tree_model_up = DecisionTreeClassifier(random_state=12345, max_depth=depth, min_samples_leaf=min_samples_leaf)\n",
    "        tree_model_up.fit(features_upsampled, target_upsampled)\n",
    "        tree_predictions_up = tree_model_up.predict(features_valid)\n",
    "        f1 = f1_score(target_valid, tree_predictions_up)\n",
    "        probabilities_valid = tree_model_up.predict_proba(features_valid)\n",
    "        probabilities_one_valid = probabilities_valid[:, 1]\n",
    "        auc_roc = roc_auc_score(target_valid, probabilities_one_valid)\n",
    "\n",
    "        if f1 > best_f1_up_tree:\n",
    "            best_f1_up_tree = f1\n",
    "            best_hp_f1_up_tree = [depth, min_samples_leaf]\n",
    "            best_tree_up = tree_model_up\n",
    "            best_auc_roc_up_tree = auc_roc\n",
    "           \n",
    "print('Лучший результат f1 для дерева с увеличенной выборкой: {} с max_depth {} и min_samples_leaf {}'\n",
    "      .format(best_f1_up_tree, best_hp_f1_up_tree[0], best_hp_f1_up_tree[1]))\n",
    "print('Лучший результат auc_roc для дерева с увеличенной выборкой: {} с max_depth {} и min_samples_leaf {}'\n",
    "      .format(best_auc_roc_up_tree, best_hp_f1_up_tree[0], best_hp_f1_up_tree[1]))"
   ]
  },
  {
   "cell_type": "code",
   "execution_count": 33,
   "metadata": {},
   "outputs": [
    {
     "data": {
      "image/png": "[encoded data removed]",
      "text/plain": [
       "<Figure size 432x288 with 1 Axes>"
      ]
     },
     "metadata": {
      "needs_background": "light"
     },
     "output_type": "display_data"
    }
   ],
   "source": [
    "#и посмотрим на гистограмму ROC-кривой\n",
    "fpr, tpr, thresholds = roc_curve(target_valid, probabilities_one_valid)\n",
    "\n",
    "plt.figure()\n",
    "plt.plot(fpr, tpr)\n",
    "plt.plot([0, 1], [0, 1], linestyle='--')\n",
    "plt.xlim([0.0, 1.0])\n",
    "plt.ylim([0.0, 1.0])\n",
    "plt.xlabel('False Positive Rate')\n",
    "plt.ylabel('True Positive Rate')\n",
    "plt.title('ROC-кривая дерева решений')\n",
    "plt.show() "
   ]
  },
  {
   "cell_type": "markdown",
   "metadata": {},
   "source": [
    "При увеличении выборки f1 дерева решений стал 0,57 вместо 0,58, а AUC ROC остался на прежнем уровне, т.е. положительных изменений не произошло."
   ]
  },
  {
   "cell_type": "markdown",
   "metadata": {},
   "source": [
    "#### Случайный лес"
   ]
  },
  {
   "cell_type": "code",
   "execution_count": 34,
   "metadata": {},
   "outputs": [
    {
     "name": "stdout",
     "output_type": "stream",
     "text": [
      "Лучший результат f1 для леса на увеличенной выборке: 0.5997521685254027 с max_depth 13 и n_estimators 41\n",
      "Лучший результат auc_roc для дерева на увеличенной выборке: 0.8447368462882222 с max_depth 13 и n_estimators 41\n"
     ]
    }
   ],
   "source": [
    "#проверим увеличенную выборку на случайном лесе\n",
    "best_hp_f1_up_forest = []\n",
    "best_f1_up_forest = 0\n",
    "best_hp_auc_roc_up_forest = []\n",
    "best_auc_roc_up_forest = 0\n",
    "best_forest_up = None\n",
    "for depth in range(1, 15):\n",
    "    for est in range(1, 50):\n",
    "        forest_model_up = RandomForestClassifier(random_state=12345, n_estimators=est, max_depth=depth)\n",
    "        forest_model_up.fit(features_upsampled, target_upsampled)\n",
    "        forest_predictions_up = forest_model_up.predict(features_valid)\n",
    "        f1 = f1_score(target_valid, forest_predictions_up)\n",
    "        probabilities_valid = forest_model_up.predict_proba(features_valid)\n",
    "        probabilities_one_valid = probabilities_valid[:, 1]\n",
    "        auc_roc = roc_auc_score(target_valid, probabilities_one_valid)\n",
    "        if f1 > best_f1_up_forest:\n",
    "            best_f1_up_forest = f1\n",
    "            best_hp_f1_up_forest = [depth, est]\n",
    "            best_forest_up = forest_model_up\n",
    "            best_auc_roc_up_forest = auc_roc\n",
    "            \n",
    "print('Лучший результат f1 для леса на увеличенной выборке: {} с max_depth {} и n_estimators {}'\n",
    "      .format(best_f1_up_forest, best_hp_f1_up_forest[0], best_hp_f1_up_forest[1]))\n",
    "print('Лучший результат auc_roc для дерева на увеличенной выборке: {} с max_depth {} и n_estimators {}'\n",
    "      .format(best_auc_roc_up_forest, best_hp_f1_up_forest[0], best_hp_f1_up_forest[1]))"
   ]
  },
  {
   "cell_type": "markdown",
   "metadata": {},
   "source": [
    "<b>На увеличенной выборке достигнут показатель f1 в 0,59.</b>"
   ]
  },
  {
   "cell_type": "code",
   "execution_count": 35,
   "metadata": {},
   "outputs": [
    {
     "data": {
      "image/png": "[encoded data removed]",
      "text/plain": [
       "<Figure size 432x288 with 1 Axes>"
      ]
     },
     "metadata": {
      "needs_background": "light"
     },
     "output_type": "display_data"
    }
   ],
   "source": [
    "#и посмотрим на гистограмму ROC-кривой\n",
    "fpr, tpr, thresholds = roc_curve(target_valid, probabilities_one_valid)\n",
    "\n",
    "plt.figure()\n",
    "plt.plot(fpr, tpr)\n",
    "plt.plot([0.0, 1.0], [0.0, 1.0], linestyle='--')\n",
    "plt.xlim([0.0, 1.0])\n",
    "plt.ylim([0.0, 1.0])\n",
    "plt.xlabel('False Positive Rate')\n",
    "plt.ylabel('True Positive Rate')\n",
    "plt.title('ROC-кривая случайного леса')\n",
    "plt.show() "
   ]
  },
  {
   "cell_type": "markdown",
   "metadata": {},
   "source": [
    "#### Логистическая регрессия"
   ]
  },
  {
   "cell_type": "code",
   "execution_count": 36,
   "metadata": {},
   "outputs": [
    {
     "name": "stdout",
     "output_type": "stream",
     "text": [
      "F1 логистической регрессии на увеличенной выборке: 0.4771126760563381\n",
      "AUC_ROC логистической регрессии на увеличенной выборке: 0.7725597224054591\n"
     ]
    }
   ],
   "source": [
    "reg_model_up = LogisticRegression(random_state=12345, solver='liblinear')\n",
    "reg_model_up.fit(features_upsampled, target_upsampled)\n",
    "reg_up_predictions = reg_model_up.predict(features_valid)\n",
    "f1_reg_up = f1_score(target_valid, reg_up_predictions)\n",
    "probabilities_valid = reg_model_up.predict_proba(features_valid)\n",
    "probabilities_one_valid = probabilities_valid[:, 1]\n",
    "\n",
    "auc_roc_reg_up = roc_auc_score(target_valid, probabilities_one_valid)\n",
    "\n",
    "print('F1 логистической регрессии на увеличенной выборке:', f1_reg_up)\n",
    "print('AUC_ROC логистической регрессии на увеличенной выборке:', auc_roc_reg_up)"
   ]
  },
  {
   "cell_type": "code",
   "execution_count": 37,
   "metadata": {},
   "outputs": [
    {
     "data": {
      "image/png": "[encoded data removed]",
      "text/plain": [
       "<Figure size 432x288 with 1 Axes>"
      ]
     },
     "metadata": {
      "needs_background": "light"
     },
     "output_type": "display_data"
    }
   ],
   "source": [
    "#и посмотрим на гистограмму ROC-кривой\n",
    "fpr, tpr, thresholds = roc_curve(target_valid, probabilities_one_valid)\n",
    "\n",
    "plt.figure()\n",
    "plt.plot(fpr, tpr)\n",
    "plt.plot([0.0, 1.0], [0.0, 1.0], linestyle='--')\n",
    "plt.xlim([0.0, 1.0])\n",
    "plt.ylim([0.0, 1.0])\n",
    "plt.xlabel('False Positive Rate')\n",
    "plt.ylabel('True Positive Rate')\n",
    "plt.title('ROC-кривая логистической регрессии')\n",
    "plt.show() "
   ]
  },
  {
   "cell_type": "markdown",
   "metadata": {},
   "source": [
    "При помощи upsampling нужный показатель f1 был достигнут только на случайном лесе. Две остальные модели прироста f1 не показали."
   ]
  },
  {
   "cell_type": "markdown",
   "metadata": {},
   "source": [
    "### Downsampling"
   ]
  },
  {
   "cell_type": "markdown",
   "metadata": {},
   "source": [
    "Техникой downsampling случайным образом отбросим часть из отрицательных объектов для уменьшения выборки."
   ]
  },
  {
   "cell_type": "code",
   "execution_count": 38,
   "metadata": {},
   "outputs": [],
   "source": [
    "def downsample(features, target, fraction):\n",
    "    features_zeros = features[target == 0]\n",
    "    features_ones = features[target == 1]\n",
    "    target_zeros = target[target == 0]\n",
    "    target_ones = target[target == 1]\n",
    "\n",
    "    features_downsampled = pd.concat(\n",
    "        [features_zeros.sample(frac=fraction, random_state=12345)] + [features_ones])\n",
    "    target_downsampled = pd.concat(\n",
    "        [target_zeros.sample(frac=fraction, random_state=12345)] + [target_ones])\n",
    "    \n",
    "    features_downsampled, target_downsampled = shuffle(\n",
    "        features_downsampled, target_downsampled, random_state=12345)\n",
    "    \n",
    "    return features_downsampled, target_downsampled\n",
    "\n",
    "features_downsampled, target_downsampled = downsample(features_train, target_train, 0.25)"
   ]
  },
  {
   "cell_type": "code",
   "execution_count": 39,
   "metadata": {},
   "outputs": [
    {
     "data": {
      "text/plain": [
       "1    1219\n",
       "0    1195\n",
       "Name: exited, dtype: int64"
      ]
     },
     "execution_count": 39,
     "metadata": {},
     "output_type": "execute_result"
    }
   ],
   "source": [
    "#проверим количество получившихся объектов\n",
    "target_downsampled.value_counts()"
   ]
  },
  {
   "cell_type": "code",
   "execution_count": 40,
   "metadata": {},
   "outputs": [
    {
     "data": {
      "image/png": "[encoded data removed]",
      "text/plain": [
       "<Figure size 432x288 with 1 Axes>"
      ]
     },
     "metadata": {
      "needs_background": "light"
     },
     "output_type": "display_data"
    }
   ],
   "source": [
    "target_downsampled.value_counts().plot(kind='barh')\n",
    "plt.title('Количество положительных и отрицательных классов')\n",
    "plt.xlabel('Количество', fontsize=12)\n",
    "plt.ylabel('Класс', fontsize=12)\n",
    "plt.show()"
   ]
  },
  {
   "cell_type": "markdown",
   "metadata": {},
   "source": [
    "Баланс классов достигнут. Проверим уменьшенную выборку на наших моделях."
   ]
  },
  {
   "cell_type": "markdown",
   "metadata": {},
   "source": [
    "#### Дерево решений"
   ]
  },
  {
   "cell_type": "code",
   "execution_count": 41,
   "metadata": {},
   "outputs": [
    {
     "name": "stdout",
     "output_type": "stream",
     "text": [
      "Лучший результат f1 для дерева с уменьшенной выборкой: 0.5533522190745986 с max_depth 6 и min_samples_leaf 14\n",
      "Лучший результат auc_roc для дерева с уменьшенной выборкой: 0.8145350879563326 с max_depth 6 и min_samples_leaf 14\n"
     ]
    }
   ],
   "source": [
    "#проверим уменьшенную выборку на дереве решений\n",
    "best_hp_f1_down_tree = []\n",
    "best_f1_down_tree = 0\n",
    "best_hp_auc_roc_down_tree = []\n",
    "best_auc_roc_down_tree = 0\n",
    "best_tree_down = None\n",
    "for depth in range(1, 20):\n",
    "    for min_samples_leaf in range(1, 50):\n",
    "        tree_model_down = DecisionTreeClassifier(random_state=12345, max_depth=depth, min_samples_leaf=min_samples_leaf)\n",
    "        tree_model_down.fit(features_downsampled, target_downsampled)\n",
    "        tree_predictions_down = tree_model_down.predict(features_valid)\n",
    "        f1 = f1_score(target_valid, tree_predictions_down)\n",
    "        probabilities_valid = tree_model_down.predict_proba(features_valid)\n",
    "        probabilities_one_valid = probabilities_valid[:, 1]\n",
    "        auc_roc = roc_auc_score(target_valid, probabilities_one_valid)\n",
    "        if f1 > best_f1_down_tree:\n",
    "            best_f1_down_tree = f1\n",
    "            best_hp_f1_down_tree = [depth, min_samples_leaf]\n",
    "            best_tree_down = tree_model_down\n",
    "            best_auc_roc_down_tree = auc_roc\n",
    "            \n",
    "print('Лучший результат f1 для дерева с уменьшенной выборкой: {} с max_depth {} и min_samples_leaf {}'\n",
    "      .format(best_f1_down_tree, best_hp_f1_down_tree[0], best_hp_f1_down_tree[1]))\n",
    "print('Лучший результат auc_roc для дерева с уменьшенной выборкой: {} с max_depth {} и min_samples_leaf {}'\n",
    "      .format(best_auc_roc_down_tree, best_hp_f1_down_tree[0], best_hp_f1_down_tree[1]))"
   ]
  },
  {
   "cell_type": "markdown",
   "metadata": {},
   "source": [
    "Результат ухудшился по сравнению с увеличенной выборкой и f1 составляет 0,55."
   ]
  },
  {
   "cell_type": "code",
   "execution_count": 42,
   "metadata": {},
   "outputs": [
    {
     "data": {
      "image/png": "[encoded data removed]",
      "text/plain": [
       "<Figure size 432x288 with 1 Axes>"
      ]
     },
     "metadata": {
      "needs_background": "light"
     },
     "output_type": "display_data"
    }
   ],
   "source": [
    "#и посмотрим на гистограмму ROC-кривой\n",
    "fpr, tpr, thresholds = roc_curve(target_valid, probabilities_one_valid)\n",
    "\n",
    "plt.figure()\n",
    "plt.plot(fpr, tpr)\n",
    "plt.plot([0, 1], [0, 1], linestyle='--')\n",
    "plt.xlim([0.0, 1.0])\n",
    "plt.ylim([0.0, 1.0])\n",
    "plt.xlabel('False Positive Rate')\n",
    "plt.ylabel('True Positive Rate')\n",
    "plt.title('ROC-кривая дерева решений')\n",
    "plt.show() "
   ]
  },
  {
   "cell_type": "markdown",
   "metadata": {},
   "source": [
    "#### Случайный лес"
   ]
  },
  {
   "cell_type": "code",
   "execution_count": 43,
   "metadata": {},
   "outputs": [
    {
     "name": "stdout",
     "output_type": "stream",
     "text": [
      "Лучший результат f1 для леса на уменьшенной выборке: 0.5694980694980695 с max_depth 9 и n_estimators 9\n",
      "Лучший результат auc_roc для дерева на уменьшенной выборке: 0.8355032990578889 с max_depth 9 и n_estimators 9\n"
     ]
    }
   ],
   "source": [
    "#проверим уменьшенную выборку на случайном лесе\n",
    "#проверим увеличенную выборку на случайном лесе\n",
    "best_hp_f1_down_forest = []\n",
    "best_f1_down_forest = 0\n",
    "best_hp_auc_roc_down_forest = []\n",
    "best_auc_roc_down_forest = 0\n",
    "best_forest_down = None\n",
    "for depth in range(1, 15):\n",
    "    for est in range(1, 50):\n",
    "        forest_model_down = RandomForestClassifier(random_state=12345, n_estimators=est, max_depth=depth)\n",
    "        forest_model_down.fit(features_downsampled, target_downsampled)\n",
    "        forest_predictions_down = forest_model_down.predict(features_valid)\n",
    "        f1 = f1_score(target_valid, forest_predictions_down)\n",
    "        probabilities_valid = forest_model_down.predict_proba(features_valid)\n",
    "        probabilities_one_valid = probabilities_valid[:, 1]\n",
    "        auc_roc = roc_auc_score(target_valid, probabilities_one_valid)\n",
    "        if f1 > best_f1_down_forest:\n",
    "            best_f1_down_forest = f1\n",
    "            best_hp_f1_down_forest = [depth, est]\n",
    "            best_forest_down = forest_model_down\n",
    "            best_auc_roc_down_forest = auc_roc\n",
    "            \n",
    "print('Лучший результат f1 для леса на уменьшенной выборке: {} с max_depth {} и n_estimators {}'\n",
    "      .format(best_f1_down_forest, best_hp_f1_down_forest[0], best_hp_f1_down_forest[1]))\n",
    "print('Лучший результат auc_roc для дерева на уменьшенной выборке: {} с max_depth {} и n_estimators {}'\n",
    "      .format(best_auc_roc_down_forest, best_hp_f1_down_forest[0], best_hp_f1_down_forest[1]))"
   ]
  },
  {
   "cell_type": "markdown",
   "metadata": {},
   "source": [
    "Качество модели уменьшилось по сравнению с upsampling."
   ]
  },
  {
   "cell_type": "code",
   "execution_count": 44,
   "metadata": {},
   "outputs": [
    {
     "data": {
      "image/png": "[encoded data removed]",
      "text/plain": [
       "<Figure size 432x288 with 1 Axes>"
      ]
     },
     "metadata": {
      "needs_background": "light"
     },
     "output_type": "display_data"
    }
   ],
   "source": [
    "#и посмотрим на гистограмму ROC-кривой\n",
    "fpr, tpr, thresholds = roc_curve(target_valid, probabilities_one_valid)\n",
    "\n",
    "plt.figure()\n",
    "plt.plot(fpr, tpr)\n",
    "plt.plot([0.0, 1.0], [0.0, 1.0], linestyle='--')\n",
    "plt.xlim([0.0, 1.0])\n",
    "plt.ylim([0.0, 1.0])\n",
    "plt.xlabel('False Positive Rate')\n",
    "plt.ylabel('True Positive Rate')\n",
    "plt.title('ROC-кривая случайного леса')\n",
    "plt.show() "
   ]
  },
  {
   "cell_type": "markdown",
   "metadata": {},
   "source": [
    "#### Логистическая регрессия"
   ]
  },
  {
   "cell_type": "code",
   "execution_count": 45,
   "metadata": {},
   "outputs": [
    {
     "name": "stdout",
     "output_type": "stream",
     "text": [
      "F1 логистической регрессии на уменьшенной выборке: 0.47493403693931396\n",
      "AUC_ROC логистической регрессии на уменьшенной выборке: 0.7737709399970436\n"
     ]
    }
   ],
   "source": [
    "reg_model_down = LogisticRegression(random_state=12345, solver='liblinear')\n",
    "reg_model_down.fit(features_downsampled, target_downsampled)\n",
    "reg_down_predictions = reg_model_down.predict(features_valid)\n",
    "f1_reg_down = f1_score(target_valid, reg_down_predictions)\n",
    "probabilities_valid = reg_model_down.predict_proba(features_valid)\n",
    "probabilities_one_valid = probabilities_valid[:, 1]\n",
    "auc_roc_reg_down = roc_auc_score(target_valid, probabilities_one_valid)\n",
    "\n",
    "print('F1 логистической регрессии на уменьшенной выборке:', f1_reg_down)\n",
    "print('AUC_ROC логистической регрессии на уменьшенной выборке:', auc_roc_reg_down)"
   ]
  },
  {
   "cell_type": "markdown",
   "metadata": {},
   "source": [
    "Логистическая регрессия показывает такой же результат, как и при балансировке классов или увеличении выборки."
   ]
  },
  {
   "cell_type": "code",
   "execution_count": 46,
   "metadata": {},
   "outputs": [
    {
     "data": {
      "image/png": "[encoded data removed]",
      "text/plain": [
       "<Figure size 432x288 with 1 Axes>"
      ]
     },
     "metadata": {
      "needs_background": "light"
     },
     "output_type": "display_data"
    }
   ],
   "source": [
    "#и посмотрим на гистограмму ROC-кривой\n",
    "fpr, tpr, thresholds = roc_curve(target_valid, probabilities_one_valid)\n",
    "\n",
    "plt.figure()\n",
    "plt.plot(fpr, tpr)\n",
    "plt.plot([0.0, 1.0], [0.0, 1.0], linestyle='--')\n",
    "plt.xlim([0.0, 1.0])\n",
    "plt.ylim([0.0, 1.0])\n",
    "plt.xlabel('False Positive Rate')\n",
    "plt.ylabel('True Positive Rate')\n",
    "plt.title('ROC-кривая логистической регрессии')\n",
    "plt.show() "
   ]
  },
  {
   "cell_type": "markdown",
   "metadata": {},
   "source": [
    "В результате уменьшения выборки качество дерева решений и случайного леса ухудшилось, а качество работы логистической регрессии осталось на прежнем уровне и не изменилось."
   ]
  },
  {
   "cell_type": "markdown",
   "metadata": {},
   "source": [
    "### Вывод"
   ]
  },
  {
   "cell_type": "markdown",
   "metadata": {},
   "source": [
    "1. Для борьбы с дисбалансом были использованы несколько способов:\n",
    "- Взвешивание классов\n",
    "- Изменение порога\n",
    "- Увеличение выборки (Upsampling)\n",
    "- Уменьшение выборки (Downsampling).\n",
    "2. Изменение порога дерева решений до 0.46 увеличило f1 до 0,6 и позволило преодолеть необходимый порог.\n",
    "3. Способом upsampling на валидационной выборке было достигнуто пороговое значение f1 для случайного леса. \n",
    "4. f1 для логистической регрессии достигает при использовании всех этих способов максимум 0,49."
   ]
  },
  {
   "cell_type": "code",
   "execution_count": 47,
   "metadata": {},
   "outputs": [
    {
     "data": {
      "text/html": [
       "<div>\n",
       "<style scoped>\n",
       "    .dataframe tbody tr th:only-of-type {\n",
       "        vertical-align: middle;\n",
       "    }\n",
       "\n",
       "    .dataframe tbody tr th {\n",
       "        vertical-align: top;\n",
       "    }\n",
       "\n",
       "    .dataframe thead th {\n",
       "        text-align: right;\n",
       "    }\n",
       "</style>\n",
       "<table border=\"1\" class=\"dataframe\">\n",
       "  <thead>\n",
       "    <tr style=\"text-align: right;\">\n",
       "      <th></th>\n",
       "      <th>ML-модель</th>\n",
       "      <th>F1_balanced</th>\n",
       "      <th>AUC-ROC_balanced</th>\n",
       "    </tr>\n",
       "  </thead>\n",
       "  <tbody>\n",
       "    <tr>\n",
       "      <th>0</th>\n",
       "      <td>Дерево решений</td>\n",
       "      <td>0.555766</td>\n",
       "      <td>0.831017</td>\n",
       "    </tr>\n",
       "    <tr>\n",
       "      <th>1</th>\n",
       "      <td>Случайный лес</td>\n",
       "      <td>0.560748</td>\n",
       "      <td>0.835752</td>\n",
       "    </tr>\n",
       "    <tr>\n",
       "      <th>2</th>\n",
       "      <td>Логистическая регрессия</td>\n",
       "      <td>0.474153</td>\n",
       "      <td>0.772564</td>\n",
       "    </tr>\n",
       "  </tbody>\n",
       "</table>\n",
       "</div>"
      ],
      "text/plain": [
       "                 ML-модель  F1_balanced  AUC-ROC_balanced\n",
       "0           Дерево решений     0.555766          0.831017\n",
       "1            Случайный лес     0.560748          0.835752\n",
       "2  Логистическая регрессия     0.474153          0.772564"
      ]
     },
     "execution_count": 47,
     "metadata": {},
     "output_type": "execute_result"
    }
   ],
   "source": [
    "#сводная таблица по взвешиванию классов\n",
    "pivot_balanced = pd.DataFrame({'ML-модель': ['Дерево решений', 'Случайный лес', 'Логистическая регрессия'],\n",
    "        'F1_balanced': [f1_tree_bal, f1_forest_bal, f1_reg_bal],\n",
    "        'AUC-ROC_balanced': [auc_roc_tree_bal, auc_roc_forest_bal, auc_roc_reg_bal]})\n",
    "pivot_balanced"
   ]
  },
  {
   "cell_type": "code",
   "execution_count": 48,
   "metadata": {},
   "outputs": [
    {
     "data": {
      "text/html": [
       "<div>\n",
       "<style scoped>\n",
       "    .dataframe tbody tr th:only-of-type {\n",
       "        vertical-align: middle;\n",
       "    }\n",
       "\n",
       "    .dataframe tbody tr th {\n",
       "        vertical-align: top;\n",
       "    }\n",
       "\n",
       "    .dataframe thead th {\n",
       "        text-align: right;\n",
       "    }\n",
       "</style>\n",
       "<table border=\"1\" class=\"dataframe\">\n",
       "  <thead>\n",
       "    <tr style=\"text-align: right;\">\n",
       "      <th></th>\n",
       "      <th>ML-модель</th>\n",
       "      <th>Best f1</th>\n",
       "      <th>Best threshold</th>\n",
       "    </tr>\n",
       "  </thead>\n",
       "  <tbody>\n",
       "    <tr>\n",
       "      <th>0</th>\n",
       "      <td>Дерево решений</td>\n",
       "      <td>0.596932</td>\n",
       "      <td>0.46</td>\n",
       "    </tr>\n",
       "    <tr>\n",
       "      <th>1</th>\n",
       "      <td>Случайный лес</td>\n",
       "      <td>0.581818</td>\n",
       "      <td>0.34</td>\n",
       "    </tr>\n",
       "    <tr>\n",
       "      <th>2</th>\n",
       "      <td>Логистическая регрессия</td>\n",
       "      <td>0.494179</td>\n",
       "      <td>0.32</td>\n",
       "    </tr>\n",
       "  </tbody>\n",
       "</table>\n",
       "</div>"
      ],
      "text/plain": [
       "                 ML-модель   Best f1  Best threshold\n",
       "0           Дерево решений  0.596932            0.46\n",
       "1            Случайный лес  0.581818            0.34\n",
       "2  Логистическая регрессия  0.494179            0.32"
      ]
     },
     "execution_count": 48,
     "metadata": {},
     "output_type": "execute_result"
    }
   ],
   "source": [
    "#сводная таблица для изменения порога\n",
    "pivot_threshold = pd.DataFrame({'ML-модель': ['Дерево решений', 'Случайный лес', 'Логистическая регрессия'],\n",
    "        'Best f1': [best_f1_th_tree, best_f1_th_forest, best_f1_th_reg],\n",
    "        'Best threshold': [best_threshold_tree, best_threshold_forest, best_threshold_reg]})\n",
    "pivot_threshold"
   ]
  },
  {
   "cell_type": "code",
   "execution_count": 49,
   "metadata": {},
   "outputs": [
    {
     "data": {
      "text/html": [
       "<div>\n",
       "<style scoped>\n",
       "    .dataframe tbody tr th:only-of-type {\n",
       "        vertical-align: middle;\n",
       "    }\n",
       "\n",
       "    .dataframe tbody tr th {\n",
       "        vertical-align: top;\n",
       "    }\n",
       "\n",
       "    .dataframe thead th {\n",
       "        text-align: right;\n",
       "    }\n",
       "</style>\n",
       "<table border=\"1\" class=\"dataframe\">\n",
       "  <thead>\n",
       "    <tr style=\"text-align: right;\">\n",
       "      <th></th>\n",
       "      <th>ML-модель</th>\n",
       "      <th>F1_upsampled</th>\n",
       "      <th>AUC-ROC_upsampled</th>\n",
       "      <th>Best params for f1 (depth, leaf/est)</th>\n",
       "    </tr>\n",
       "  </thead>\n",
       "  <tbody>\n",
       "    <tr>\n",
       "      <th>0</th>\n",
       "      <td>Дерево решений</td>\n",
       "      <td>0.579592</td>\n",
       "      <td>0.842356</td>\n",
       "      <td>[7, 42]</td>\n",
       "    </tr>\n",
       "    <tr>\n",
       "      <th>1</th>\n",
       "      <td>Случайный лес</td>\n",
       "      <td>0.599752</td>\n",
       "      <td>0.844737</td>\n",
       "      <td>[13, 41]</td>\n",
       "    </tr>\n",
       "    <tr>\n",
       "      <th>2</th>\n",
       "      <td>Логистическая регрессия</td>\n",
       "      <td>0.477113</td>\n",
       "      <td>0.772560</td>\n",
       "      <td>No</td>\n",
       "    </tr>\n",
       "  </tbody>\n",
       "</table>\n",
       "</div>"
      ],
      "text/plain": [
       "                 ML-модель  F1_upsampled  AUC-ROC_upsampled  \\\n",
       "0           Дерево решений      0.579592           0.842356   \n",
       "1            Случайный лес      0.599752           0.844737   \n",
       "2  Логистическая регрессия      0.477113           0.772560   \n",
       "\n",
       "  Best params for f1 (depth, leaf/est)  \n",
       "0                              [7, 42]  \n",
       "1                             [13, 41]  \n",
       "2                                   No  "
      ]
     },
     "execution_count": 49,
     "metadata": {},
     "output_type": "execute_result"
    }
   ],
   "source": [
    "#сводная таблица для увеличенной выборки\n",
    "pivot_upsampling = pd.DataFrame({'ML-модель': ['Дерево решений', 'Случайный лес', 'Логистическая регрессия'],\n",
    "        'F1_upsampled': [best_f1_up_tree, best_f1_up_forest, f1_reg_up],\n",
    "        'AUC-ROC_upsampled': [best_auc_roc_up_tree, best_auc_roc_up_forest, auc_roc_reg_up],\n",
    "        'Best params for f1 (depth, leaf/est)':[best_hp_f1_up_tree, best_hp_f1_up_forest, 'No']})\n",
    "        \n",
    "pivot_upsampling"
   ]
  },
  {
   "cell_type": "code",
   "execution_count": 50,
   "metadata": {},
   "outputs": [
    {
     "data": {
      "text/html": [
       "<div>\n",
       "<style scoped>\n",
       "    .dataframe tbody tr th:only-of-type {\n",
       "        vertical-align: middle;\n",
       "    }\n",
       "\n",
       "    .dataframe tbody tr th {\n",
       "        vertical-align: top;\n",
       "    }\n",
       "\n",
       "    .dataframe thead th {\n",
       "        text-align: right;\n",
       "    }\n",
       "</style>\n",
       "<table border=\"1\" class=\"dataframe\">\n",
       "  <thead>\n",
       "    <tr style=\"text-align: right;\">\n",
       "      <th></th>\n",
       "      <th>ML-модель</th>\n",
       "      <th>F1_downsampled</th>\n",
       "      <th>AUC-ROC_downsampled</th>\n",
       "      <th>Best params for f1 (depth, leaf/est)</th>\n",
       "    </tr>\n",
       "  </thead>\n",
       "  <tbody>\n",
       "    <tr>\n",
       "      <th>0</th>\n",
       "      <td>Дерево решений</td>\n",
       "      <td>0.553352</td>\n",
       "      <td>0.814535</td>\n",
       "      <td>[6, 14]</td>\n",
       "    </tr>\n",
       "    <tr>\n",
       "      <th>1</th>\n",
       "      <td>Случайный лес</td>\n",
       "      <td>0.569498</td>\n",
       "      <td>0.835503</td>\n",
       "      <td>[9, 9]</td>\n",
       "    </tr>\n",
       "    <tr>\n",
       "      <th>2</th>\n",
       "      <td>Логистическая регрессия</td>\n",
       "      <td>0.474934</td>\n",
       "      <td>0.773771</td>\n",
       "      <td>No</td>\n",
       "    </tr>\n",
       "  </tbody>\n",
       "</table>\n",
       "</div>"
      ],
      "text/plain": [
       "                 ML-модель  F1_downsampled  AUC-ROC_downsampled  \\\n",
       "0           Дерево решений        0.553352             0.814535   \n",
       "1            Случайный лес        0.569498             0.835503   \n",
       "2  Логистическая регрессия        0.474934             0.773771   \n",
       "\n",
       "  Best params for f1 (depth, leaf/est)  \n",
       "0                              [6, 14]  \n",
       "1                               [9, 9]  \n",
       "2                                   No  "
      ]
     },
     "execution_count": 50,
     "metadata": {},
     "output_type": "execute_result"
    }
   ],
   "source": [
    "#сводная таблица для уменьшенной выборки\n",
    "pivot_downsampling = pd.DataFrame({'ML-модель': ['Дерево решений', 'Случайный лес', 'Логистическая регрессия'],\n",
    "        'F1_downsampled': [best_f1_down_tree, best_f1_down_forest, f1_reg_down],\n",
    "        'AUC-ROC_downsampled': [best_auc_roc_down_tree, best_auc_roc_down_forest, auc_roc_reg_down],\n",
    "        'Best params for f1 (depth, leaf/est)':[best_hp_f1_down_tree, best_hp_f1_down_forest, 'No']})\n",
    "pivot_downsampling"
   ]
  },
  {
   "cell_type": "markdown",
   "metadata": {},
   "source": [
    "## Тестирование модели"
   ]
  },
  {
   "cell_type": "markdown",
   "metadata": {},
   "source": [
    "Для тестовой выборки будем использовать модели, показавшие лучший результат при увеличении выборки методом `upsampling`."
   ]
  },
  {
   "cell_type": "markdown",
   "metadata": {},
   "source": [
    "### Дерево решений"
   ]
  },
  {
   "cell_type": "code",
   "execution_count": 51,
   "metadata": {},
   "outputs": [
    {
     "name": "stdout",
     "output_type": "stream",
     "text": [
      "f1 финального дерева решений составляет: 0.6058879392212726\n",
      "AUC-ROC финального дерева решений составляет: 0.8462260541247129\n"
     ]
    }
   ],
   "source": [
    "final_tree = best_tree_up\n",
    "                                    \n",
    "final_tree_predictions = final_tree.predict(features_test)\n",
    "probabilities_test = final_tree.predict_proba(features_test)\n",
    "probabilities_one_test = probabilities_test[:, 1]\n",
    "auc_roc = roc_auc_score(target_test, probabilities_one_test)\n",
    "\n",
    "print('f1 финального дерева решений составляет:', f1_score(target_test, final_tree_predictions))\n",
    "print('AUC-ROC финального дерева решений составляет:', auc_roc)"
   ]
  },
  {
   "cell_type": "markdown",
   "metadata": {},
   "source": [
    "Замечательно, дерево решений преодолело минимальный порог в 0,59."
   ]
  },
  {
   "cell_type": "markdown",
   "metadata": {},
   "source": [
    "AUC-ROC тоже подрос на один пункт по сравнению с предыдущими обученными моделями дерева."
   ]
  },
  {
   "cell_type": "code",
   "execution_count": 52,
   "metadata": {},
   "outputs": [
    {
     "data": {
      "image/png": "[encoded data removed]",
      "text/plain": [
       "<Figure size 432x288 with 1 Axes>"
      ]
     },
     "metadata": {
      "needs_background": "light"
     },
     "output_type": "display_data"
    }
   ],
   "source": [
    "fpr, tpr, thresholds = roc_curve(target_test, probabilities_one_test)\n",
    "\n",
    "plt.figure()\n",
    "plt.plot(fpr, tpr)\n",
    "plt.plot([0, 1], [0, 1], linestyle='--')\n",
    "plt.xlim([0.0, 1.0])\n",
    "plt.ylim([0.0, 1.0])\n",
    "plt.xlabel('False Positive Rate')\n",
    "plt.ylabel('True Positive Rate')\n",
    "plt.title('ROC-кривая дерева решений')\n",
    "plt.show() "
   ]
  },
  {
   "cell_type": "markdown",
   "metadata": {},
   "source": [
    "Дерево решений с поставленной задачей справилось. Проверим оставшиеся модели."
   ]
  },
  {
   "cell_type": "markdown",
   "metadata": {},
   "source": [
    "### Случайный лес"
   ]
  },
  {
   "cell_type": "code",
   "execution_count": 53,
   "metadata": {},
   "outputs": [
    {
     "name": "stdout",
     "output_type": "stream",
     "text": [
      "f1 финального случайного леса составляет: 0.6263345195729537\n",
      "AUC-ROC финального случайного леса составляет: 0.8543394012842598\n"
     ]
    }
   ],
   "source": [
    "final_forest = best_forest_up\n",
    "                                                                                                              \n",
    "final_forest_predictions = final_forest.predict(features_test)\n",
    "probabilities_test = final_forest.predict_proba(features_test)\n",
    "probabilities_one_test = probabilities_test[:, 1]\n",
    "auc_roc = roc_auc_score(target_test, probabilities_one_test)\n",
    "\n",
    "print('f1 финального случайного леса составляет:', f1_score(target_test, final_forest_predictions))\n",
    "print('AUC-ROC финального случайного леса составляет:', auc_roc)"
   ]
  },
  {
   "cell_type": "markdown",
   "metadata": {},
   "source": [
    "F1 случайного леса составляет 0.62 и превосходит предсказания на валидационной выборке."
   ]
  },
  {
   "cell_type": "code",
   "execution_count": 54,
   "metadata": {},
   "outputs": [
    {
     "data": {
      "image/png": "[encoded data removed]",
      "text/plain": [
       "<Figure size 432x288 with 1 Axes>"
      ]
     },
     "metadata": {
      "needs_background": "light"
     },
     "output_type": "display_data"
    }
   ],
   "source": [
    "#и посмотрим на гистограмму ROC-кривой\n",
    "fpr, tpr, thresholds = roc_curve(target_test, probabilities_one_test)\n",
    "\n",
    "plt.figure()\n",
    "plt.plot(fpr, tpr)\n",
    "plt.plot([0.0, 1.0], [0.0, 1.0], linestyle='--')\n",
    "plt.xlim([0.0, 1.0])\n",
    "plt.ylim([0.0, 1.0])\n",
    "plt.xlabel('False Positive Rate')\n",
    "plt.ylabel('True Positive Rate')\n",
    "plt.title('ROC-кривая случайного леса')\n",
    "plt.show() "
   ]
  },
  {
   "cell_type": "markdown",
   "metadata": {},
   "source": [
    "По случайному лесу добились очень хорошего показателя и в качестве предсказаний и в AUC-ROC."
   ]
  },
  {
   "cell_type": "markdown",
   "metadata": {},
   "source": [
    "### Логистическая регрессия"
   ]
  },
  {
   "cell_type": "code",
   "execution_count": 55,
   "metadata": {},
   "outputs": [
    {
     "name": "stdout",
     "output_type": "stream",
     "text": [
      "F1 финальной логистической регрессии: 0.504983388704319\n",
      "AUC-ROC финальной логистической регрессии: 0.7638248487726879\n"
     ]
    }
   ],
   "source": [
    "final_regression = reg_model_up\n",
    "\n",
    "final_regression_predictions = final_regression.predict(features_test)\n",
    "probabilities_test = final_regression.predict_proba(features_test)\n",
    "probabilities_one_test = probabilities_test[:, 1]\n",
    "auc_roc = roc_auc_score(target_test, probabilities_one_test)\n",
    "\n",
    "print('F1 финальной логистической регрессии:', f1_score(target_test, final_regression_predictions))\n",
    "print('AUC-ROC финальной логистической регрессии:', auc_roc)"
   ]
  },
  {
   "cell_type": "markdown",
   "metadata": {},
   "source": [
    "Логистическая регрессия оказалась очень далеко от требуемого результата, поэтому данная модель не подходит для решения поставленной задачи."
   ]
  },
  {
   "cell_type": "code",
   "execution_count": 56,
   "metadata": {},
   "outputs": [
    {
     "data": {
      "image/png": "[encoded data removed]",
      "text/plain": [
       "<Figure size 432x288 with 1 Axes>"
      ]
     },
     "metadata": {
      "needs_background": "light"
     },
     "output_type": "display_data"
    }
   ],
   "source": [
    "#и посмотрим на гистограмму ROC-кривой\n",
    "fpr, tpr, thresholds = roc_curve(target_test, probabilities_one_test)\n",
    "\n",
    "plt.figure()\n",
    "plt.plot(fpr, tpr)\n",
    "plt.plot([0.0, 1.0], [0.0, 1.0], linestyle='--')\n",
    "plt.xlim([0.0, 1.0])\n",
    "plt.ylim([0.0, 1.0])\n",
    "plt.xlabel('False Positive Rate')\n",
    "plt.ylabel('True Positive Rate')\n",
    "plt.title('ROC-кривая логистической регрессии')\n",
    "plt.show() "
   ]
  },
  {
   "cell_type": "markdown",
   "metadata": {},
   "source": [
    "### Вывод"
   ]
  },
  {
   "cell_type": "markdown",
   "metadata": {},
   "source": [
    "1. Дерево решений показало хороший результат f1 - 0.605.\n",
    "2. Случайный лес показал лучший результат f1 среди всех использованных моделей - 0.626, именно эту модель и будем использовать в решении поставленных задач.\n",
    "3. Логистическая регрессия снова находится в аутсайдерах и не достигла порогового значения f1 в 0.59, поэтому эта модель нам не подходит."
   ]
  },
  {
   "cell_type": "markdown",
   "metadata": {},
   "source": [
    "## Вывод по проекту"
   ]
  },
  {
   "cell_type": "markdown",
   "metadata": {},
   "source": [
    "1. Так как нам нужно предсказать столбец `exited`, в котором только значения 0 или 1, перед нами стояла задача бинарной классификации.\n",
    "2. Была проведена предобработка данных:\n",
    "    1.  Пропуски в столбце `tenure` были заменены на медианы в зависимости от возраста клиента.\n",
    "    2. Столбцы датасета `rownumber — индекс строки в данных`, `customerid — уникальный идентификатор клиента` и `surname — фамилия клиента` не несли никакой полезной информации для алгоритма, поэтому были удалены из датасета.\n",
    "    3. Столбцы `geography` и `gender` были преобразованы из категориальных в численные.\n",
    "    4. В датасете было проведено масштабирование признаков при помощи стандартизации данных.\n",
    "    5. Из датасета были выделены обучающая, тестовая и валидационная выборки.\n",
    "3. Были обучены три модели без учета дисбаланса классов:\n",
    "    1. По дереву решений получили f1 равным 0,58. Это был самый высокий результат из трех моделей, но все-равно недостаточно высокий для сдачи нашего проекта заказчику.\n",
    "    2. По случайному лесу получили f1 равный 0,55. Результат оказался хуже, чем у дерева решений.\n",
    "    3. Логистическая регрессия в данной ситуации оказалась самой слабой моделью с f1 равным 0.3.\n",
    "4. Для борьбы с дисбалансом были использованы несколько способов:\n",
    "    - Взвешивание классов\n",
    "    - Изменение порога\n",
    "    - Увеличение выборки (Upsampling)\n",
    "    - Уменьшение выборки (Downsampling).\n",
    "    1. Изменение порога дерева решений до 0.46 увеличило f1 до 0,6 и позволило преодолеть необходимый порог.\n",
    "    2. Способом upsampling на валидационной выборке было достигнуто пороговое значение f1 в 0.59 для случайного леса. \n",
    "    3. f1 для логистической регрессии достиг при использовании всех перечисленных способов максимум 0.48.\n",
    "5. При проверке на тестовой выборке:\n",
    "    1. Дерево решений показало хороший результат f1 - 0.605.\n",
    "    2. <b>Случайный лес показал лучший результат f1 среди всех использованных моделей - 0.626, именно эту модель и будем использовать в решении поставленных задач.</b>\n",
    "    3. Логистическая регрессия не достигла порогового значения f1 в 0.59, поэтому данная модель в решении поставленной задачи нам не подходит."
   ]
  }
 ],
 "metadata": {
  "ExecuteTimeLog": [
   {
    "duration": 1989,
    "start_time": "2022-03-26T12:51:10.562Z"
   },
   {
    "duration": 84,
    "start_time": "2022-03-26T12:51:12.553Z"
   },
   {
    "duration": 41,
    "start_time": "2022-03-26T12:51:21.359Z"
   },
   {
    "duration": 29,
    "start_time": "2022-03-26T12:51:36.637Z"
   },
   {
    "duration": 16,
    "start_time": "2022-03-26T12:52:45.390Z"
   },
   {
    "duration": 2906,
    "start_time": "2022-03-26T12:58:34.088Z"
   },
   {
    "duration": 4,
    "start_time": "2022-03-26T12:59:11.895Z"
   },
   {
    "duration": 6,
    "start_time": "2022-03-26T13:37:45.549Z"
   },
   {
    "duration": 7,
    "start_time": "2022-03-26T13:41:22.312Z"
   },
   {
    "duration": 7,
    "start_time": "2022-03-26T13:43:51.670Z"
   },
   {
    "duration": 11,
    "start_time": "2022-03-26T13:45:29.143Z"
   },
   {
    "duration": 5,
    "start_time": "2022-03-26T13:49:03.986Z"
   },
   {
    "duration": 17,
    "start_time": "2022-03-26T13:49:19.012Z"
   },
   {
    "duration": 1601,
    "start_time": "2022-03-26T13:49:34.264Z"
   },
   {
    "duration": 65,
    "start_time": "2022-03-26T13:49:35.867Z"
   },
   {
    "duration": 14,
    "start_time": "2022-03-26T13:49:35.934Z"
   },
   {
    "duration": 14,
    "start_time": "2022-03-26T13:49:35.949Z"
   },
   {
    "duration": 13,
    "start_time": "2022-03-26T13:49:35.966Z"
   },
   {
    "duration": 55,
    "start_time": "2022-03-26T13:49:35.981Z"
   },
   {
    "duration": 15,
    "start_time": "2022-03-26T13:49:36.038Z"
   },
   {
    "duration": 4,
    "start_time": "2022-03-26T13:49:36.055Z"
   },
   {
    "duration": 18,
    "start_time": "2022-03-26T13:49:36.061Z"
   },
   {
    "duration": 1637,
    "start_time": "2022-03-26T13:52:59.079Z"
   },
   {
    "duration": 49,
    "start_time": "2022-03-26T13:53:00.718Z"
   },
   {
    "duration": 15,
    "start_time": "2022-03-26T13:53:00.769Z"
   },
   {
    "duration": 4,
    "start_time": "2022-03-26T13:53:00.786Z"
   },
   {
    "duration": 16,
    "start_time": "2022-03-26T13:53:00.792Z"
   },
   {
    "duration": 24,
    "start_time": "2022-03-26T13:53:00.810Z"
   },
   {
    "duration": 22,
    "start_time": "2022-03-26T13:53:00.836Z"
   },
   {
    "duration": 20,
    "start_time": "2022-03-26T13:53:00.860Z"
   },
   {
    "duration": 39,
    "start_time": "2022-03-26T13:53:00.882Z"
   },
   {
    "duration": 162,
    "start_time": "2022-03-26T14:02:59.387Z"
   },
   {
    "duration": 13,
    "start_time": "2022-03-26T14:03:12.119Z"
   },
   {
    "duration": 28,
    "start_time": "2022-03-26T14:06:46.836Z"
   },
   {
    "duration": 21,
    "start_time": "2022-03-26T14:07:14.579Z"
   },
   {
    "duration": 21,
    "start_time": "2022-03-26T14:07:26.780Z"
   },
   {
    "duration": 22,
    "start_time": "2022-03-26T14:18:00.019Z"
   },
   {
    "duration": 128,
    "start_time": "2022-03-26T14:21:38.805Z"
   },
   {
    "duration": 2103,
    "start_time": "2022-03-26T14:21:46.433Z"
   },
   {
    "duration": 103,
    "start_time": "2022-03-26T14:21:48.538Z"
   },
   {
    "duration": 15,
    "start_time": "2022-03-26T14:21:48.642Z"
   },
   {
    "duration": 4,
    "start_time": "2022-03-26T14:21:48.659Z"
   },
   {
    "duration": 70,
    "start_time": "2022-03-26T14:21:48.665Z"
   },
   {
    "duration": 9,
    "start_time": "2022-03-26T14:21:48.738Z"
   },
   {
    "duration": 19,
    "start_time": "2022-03-26T14:21:48.749Z"
   },
   {
    "duration": 63,
    "start_time": "2022-03-26T14:21:48.770Z"
   },
   {
    "duration": 20,
    "start_time": "2022-03-26T14:21:48.835Z"
   },
   {
    "duration": 10,
    "start_time": "2022-03-26T14:21:48.857Z"
   },
   {
    "duration": 84,
    "start_time": "2022-03-26T14:21:48.869Z"
   },
   {
    "duration": 93,
    "start_time": "2022-03-26T14:21:48.955Z"
   },
   {
    "duration": 42,
    "start_time": "2022-03-26T14:22:26.018Z"
   },
   {
    "duration": 115,
    "start_time": "2022-03-26T14:51:21.512Z"
   },
   {
    "duration": 4,
    "start_time": "2022-03-26T14:51:28.534Z"
   },
   {
    "duration": 2151,
    "start_time": "2022-03-26T14:58:44.397Z"
   },
   {
    "duration": 92,
    "start_time": "2022-03-26T14:58:46.550Z"
   },
   {
    "duration": 14,
    "start_time": "2022-03-26T14:58:46.644Z"
   },
   {
    "duration": 3,
    "start_time": "2022-03-26T14:58:46.660Z"
   },
   {
    "duration": 11,
    "start_time": "2022-03-26T14:58:46.664Z"
   },
   {
    "duration": 6,
    "start_time": "2022-03-26T14:58:46.732Z"
   },
   {
    "duration": 15,
    "start_time": "2022-03-26T14:58:46.740Z"
   },
   {
    "duration": 4,
    "start_time": "2022-03-26T14:58:46.757Z"
   },
   {
    "duration": 14,
    "start_time": "2022-03-26T14:58:46.763Z"
   },
   {
    "duration": 9,
    "start_time": "2022-03-26T14:58:46.780Z"
   },
   {
    "duration": 59,
    "start_time": "2022-03-26T14:58:46.791Z"
   },
   {
    "duration": 30,
    "start_time": "2022-03-26T14:58:46.851Z"
   },
   {
    "duration": 11,
    "start_time": "2022-03-26T14:58:46.883Z"
   },
   {
    "duration": 11,
    "start_time": "2022-03-26T14:58:57.791Z"
   },
   {
    "duration": 171,
    "start_time": "2022-03-26T14:59:11.140Z"
   },
   {
    "duration": 13,
    "start_time": "2022-03-26T14:59:19.673Z"
   },
   {
    "duration": 1575,
    "start_time": "2022-03-26T15:05:30.533Z"
   },
   {
    "duration": 59,
    "start_time": "2022-03-26T15:05:32.110Z"
   },
   {
    "duration": 19,
    "start_time": "2022-03-26T15:05:32.171Z"
   },
   {
    "duration": 7,
    "start_time": "2022-03-26T15:05:32.192Z"
   },
   {
    "duration": 11,
    "start_time": "2022-03-26T15:05:32.203Z"
   },
   {
    "duration": 6,
    "start_time": "2022-03-26T15:05:32.232Z"
   },
   {
    "duration": 14,
    "start_time": "2022-03-26T15:05:32.240Z"
   },
   {
    "duration": 8,
    "start_time": "2022-03-26T15:05:32.255Z"
   },
   {
    "duration": 24,
    "start_time": "2022-03-26T15:05:32.264Z"
   },
   {
    "duration": 11,
    "start_time": "2022-03-26T15:05:32.290Z"
   },
   {
    "duration": 48,
    "start_time": "2022-03-26T15:05:32.302Z"
   },
   {
    "duration": 33,
    "start_time": "2022-03-26T15:05:32.351Z"
   },
   {
    "duration": 12,
    "start_time": "2022-03-26T15:05:32.386Z"
   },
   {
    "duration": 112,
    "start_time": "2022-03-26T15:09:38.640Z"
   },
   {
    "duration": 6,
    "start_time": "2022-03-26T15:09:43.559Z"
   },
   {
    "duration": 178,
    "start_time": "2022-03-26T15:10:41.542Z"
   },
   {
    "duration": 132,
    "start_time": "2022-03-26T15:11:20.609Z"
   },
   {
    "duration": 141,
    "start_time": "2022-03-26T15:12:24.635Z"
   },
   {
    "duration": 127,
    "start_time": "2022-03-26T15:12:38.457Z"
   },
   {
    "duration": 315,
    "start_time": "2022-03-26T15:18:28.949Z"
   },
   {
    "duration": 15694,
    "start_time": "2022-03-26T15:18:38.700Z"
   },
   {
    "duration": 16167,
    "start_time": "2022-03-26T15:20:32.503Z"
   },
   {
    "duration": 8,
    "start_time": "2022-03-26T15:26:38.128Z"
   },
   {
    "duration": 120,
    "start_time": "2022-03-26T15:29:51.155Z"
   },
   {
    "duration": 130,
    "start_time": "2022-03-26T15:30:49.186Z"
   },
   {
    "duration": 178,
    "start_time": "2022-03-26T15:38:20.970Z"
   },
   {
    "duration": 17,
    "start_time": "2022-03-26T15:38:51.339Z"
   },
   {
    "duration": 2991,
    "start_time": "2022-03-26T15:51:31.334Z"
   },
   {
    "duration": 73,
    "start_time": "2022-03-26T15:51:34.328Z"
   },
   {
    "duration": 19,
    "start_time": "2022-03-26T15:51:34.403Z"
   },
   {
    "duration": 4,
    "start_time": "2022-03-26T15:51:34.425Z"
   },
   {
    "duration": 12,
    "start_time": "2022-03-26T15:51:34.443Z"
   },
   {
    "duration": 9,
    "start_time": "2022-03-26T15:51:34.457Z"
   },
   {
    "duration": 17,
    "start_time": "2022-03-26T15:51:34.469Z"
   },
   {
    "duration": 7,
    "start_time": "2022-03-26T15:51:34.489Z"
   },
   {
    "duration": 18,
    "start_time": "2022-03-26T15:51:34.542Z"
   },
   {
    "duration": 12,
    "start_time": "2022-03-26T15:51:34.562Z"
   },
   {
    "duration": 27,
    "start_time": "2022-03-26T15:51:34.576Z"
   },
   {
    "duration": 43,
    "start_time": "2022-03-26T15:51:34.643Z"
   },
   {
    "duration": 15,
    "start_time": "2022-03-26T15:51:34.688Z"
   },
   {
    "duration": 7,
    "start_time": "2022-03-26T15:51:34.706Z"
   },
   {
    "duration": 223,
    "start_time": "2022-03-26T15:51:34.742Z"
   },
   {
    "duration": 20910,
    "start_time": "2022-03-26T15:51:34.968Z"
   },
   {
    "duration": 9,
    "start_time": "2022-03-26T15:51:55.881Z"
   },
   {
    "duration": 200,
    "start_time": "2022-03-26T15:51:55.893Z"
   },
   {
    "duration": 247102,
    "start_time": "2022-03-26T15:51:56.096Z"
   },
   {
    "duration": 10,
    "start_time": "2022-03-26T15:56:03.201Z"
   },
   {
    "duration": 207,
    "start_time": "2022-03-26T15:56:03.213Z"
   },
   {
    "duration": 1976,
    "start_time": "2022-03-26T16:18:21.108Z"
   },
   {
    "duration": 57,
    "start_time": "2022-03-26T16:18:23.087Z"
   },
   {
    "duration": 18,
    "start_time": "2022-03-26T16:18:23.146Z"
   },
   {
    "duration": 4,
    "start_time": "2022-03-26T16:18:23.166Z"
   },
   {
    "duration": 9,
    "start_time": "2022-03-26T16:18:23.173Z"
   },
   {
    "duration": 9,
    "start_time": "2022-03-26T16:18:23.184Z"
   },
   {
    "duration": 61,
    "start_time": "2022-03-26T16:18:23.195Z"
   },
   {
    "duration": 5,
    "start_time": "2022-03-26T16:18:23.258Z"
   },
   {
    "duration": 17,
    "start_time": "2022-03-26T16:18:23.265Z"
   },
   {
    "duration": 13,
    "start_time": "2022-03-26T16:18:23.284Z"
   },
   {
    "duration": 59,
    "start_time": "2022-03-26T16:18:23.299Z"
   },
   {
    "duration": 41,
    "start_time": "2022-03-26T16:18:23.360Z"
   },
   {
    "duration": 14,
    "start_time": "2022-03-26T16:18:23.403Z"
   },
   {
    "duration": 7,
    "start_time": "2022-03-26T16:18:23.445Z"
   },
   {
    "duration": 221,
    "start_time": "2022-03-26T16:18:23.454Z"
   },
   {
    "duration": 20097,
    "start_time": "2022-03-26T16:18:23.677Z"
   },
   {
    "duration": 10,
    "start_time": "2022-03-26T16:18:43.776Z"
   },
   {
    "duration": 215,
    "start_time": "2022-03-26T16:18:43.788Z"
   },
   {
    "duration": 246015,
    "start_time": "2022-03-26T16:18:44.007Z"
   },
   {
    "duration": 26,
    "start_time": "2022-03-26T16:22:50.025Z"
   },
   {
    "duration": 236,
    "start_time": "2022-03-26T16:22:50.054Z"
   },
   {
    "duration": 162,
    "start_time": "2022-03-26T16:24:26.064Z"
   },
   {
    "duration": 131,
    "start_time": "2022-03-26T16:24:31.553Z"
   },
   {
    "duration": 180,
    "start_time": "2022-03-26T16:24:39.169Z"
   },
   {
    "duration": 182,
    "start_time": "2022-03-26T16:24:46.256Z"
   },
   {
    "duration": 181,
    "start_time": "2022-03-26T16:25:06.353Z"
   },
   {
    "duration": 61555,
    "start_time": "2022-03-26T16:25:47.507Z"
   },
   {
    "duration": 32,
    "start_time": "2022-03-26T16:30:23.304Z"
   },
   {
    "duration": 99,
    "start_time": "2022-03-26T16:31:38.843Z"
   },
   {
    "duration": 183,
    "start_time": "2022-03-26T16:31:52.163Z"
   },
   {
    "duration": 175,
    "start_time": "2022-03-26T16:32:10.327Z"
   },
   {
    "duration": 19,
    "start_time": "2022-03-26T16:39:56.835Z"
   },
   {
    "duration": 179,
    "start_time": "2022-03-26T16:41:27.810Z"
   },
   {
    "duration": 16,
    "start_time": "2022-03-26T16:42:10.160Z"
   },
   {
    "duration": 161,
    "start_time": "2022-03-26T16:42:11.561Z"
   },
   {
    "duration": 173,
    "start_time": "2022-03-26T16:42:31.809Z"
   },
   {
    "duration": 168,
    "start_time": "2022-03-26T16:42:37.894Z"
   },
   {
    "duration": 8,
    "start_time": "2022-03-26T16:43:09.453Z"
   },
   {
    "duration": 206,
    "start_time": "2022-03-26T16:56:09.566Z"
   },
   {
    "duration": 38,
    "start_time": "2022-03-26T16:56:16.833Z"
   },
   {
    "duration": 107,
    "start_time": "2022-03-26T16:58:24.330Z"
   },
   {
    "duration": 35,
    "start_time": "2022-03-26T17:00:54.634Z"
   },
   {
    "duration": 152,
    "start_time": "2022-03-26T17:02:49.963Z"
   },
   {
    "duration": 102,
    "start_time": "2022-03-26T17:02:54.007Z"
   },
   {
    "duration": 82,
    "start_time": "2022-03-26T17:10:58.533Z"
   },
   {
    "duration": 88,
    "start_time": "2022-03-26T17:11:30.905Z"
   },
   {
    "duration": 1942,
    "start_time": "2022-03-26T17:12:02.055Z"
   },
   {
    "duration": 70,
    "start_time": "2022-03-26T17:12:04.000Z"
   },
   {
    "duration": 18,
    "start_time": "2022-03-26T17:12:04.072Z"
   },
   {
    "duration": 5,
    "start_time": "2022-03-26T17:12:04.093Z"
   },
   {
    "duration": 11,
    "start_time": "2022-03-26T17:12:04.100Z"
   },
   {
    "duration": 8,
    "start_time": "2022-03-26T17:12:04.142Z"
   },
   {
    "duration": 17,
    "start_time": "2022-03-26T17:12:04.152Z"
   },
   {
    "duration": 6,
    "start_time": "2022-03-26T17:12:04.171Z"
   },
   {
    "duration": 17,
    "start_time": "2022-03-26T17:12:04.179Z"
   },
   {
    "duration": 50,
    "start_time": "2022-03-26T17:12:04.200Z"
   },
   {
    "duration": 33,
    "start_time": "2022-03-26T17:12:04.252Z"
   },
   {
    "duration": 164,
    "start_time": "2022-03-26T17:12:04.287Z"
   },
   {
    "duration": 21,
    "start_time": "2022-03-26T17:12:04.454Z"
   },
   {
    "duration": 65,
    "start_time": "2022-03-26T17:12:04.478Z"
   },
   {
    "duration": 625,
    "start_time": "2022-03-26T17:12:04.546Z"
   },
   {
    "duration": 21970,
    "start_time": "2022-03-26T17:12:05.174Z"
   },
   {
    "duration": 11,
    "start_time": "2022-03-26T17:12:27.147Z"
   },
   {
    "duration": 218,
    "start_time": "2022-03-26T17:12:27.160Z"
   },
   {
    "duration": 61697,
    "start_time": "2022-03-26T17:12:27.381Z"
   },
   {
    "duration": 15,
    "start_time": "2022-03-26T17:13:29.080Z"
   },
   {
    "duration": 202,
    "start_time": "2022-03-26T17:13:29.098Z"
   },
   {
    "duration": 43,
    "start_time": "2022-03-26T17:13:29.302Z"
   },
   {
    "duration": 106,
    "start_time": "2022-03-26T17:13:29.348Z"
   },
   {
    "duration": 366,
    "start_time": "2022-03-26T17:13:29.457Z"
   },
   {
    "duration": 46,
    "start_time": "2022-03-26T17:13:29.825Z"
   },
   {
    "duration": 110,
    "start_time": "2022-03-26T17:13:29.874Z"
   },
   {
    "duration": 62,
    "start_time": "2022-03-26T17:13:29.987Z"
   },
   {
    "duration": 199,
    "start_time": "2022-03-26T17:13:30.057Z"
   },
   {
    "duration": 21,
    "start_time": "2022-03-26T17:13:30.258Z"
   },
   {
    "duration": 7,
    "start_time": "2022-03-26T17:13:30.282Z"
   },
   {
    "duration": 196,
    "start_time": "2022-03-26T17:13:30.292Z"
   },
   {
    "duration": 55,
    "start_time": "2022-03-26T17:13:50.069Z"
   },
   {
    "duration": 37,
    "start_time": "2022-03-26T17:14:02.254Z"
   },
   {
    "duration": 50,
    "start_time": "2022-03-27T07:57:38.098Z"
   },
   {
    "duration": 3015,
    "start_time": "2022-03-27T07:57:45.095Z"
   },
   {
    "duration": 108,
    "start_time": "2022-03-27T07:57:48.113Z"
   },
   {
    "duration": 67,
    "start_time": "2022-03-27T07:57:48.222Z"
   },
   {
    "duration": 4,
    "start_time": "2022-03-27T07:57:48.296Z"
   },
   {
    "duration": 12,
    "start_time": "2022-03-27T07:57:48.303Z"
   },
   {
    "duration": 7,
    "start_time": "2022-03-27T07:57:48.317Z"
   },
   {
    "duration": 77,
    "start_time": "2022-03-27T07:57:48.325Z"
   },
   {
    "duration": 5,
    "start_time": "2022-03-27T07:57:48.404Z"
   },
   {
    "duration": 18,
    "start_time": "2022-03-27T07:57:48.410Z"
   },
   {
    "duration": 72,
    "start_time": "2022-03-27T07:57:48.430Z"
   },
   {
    "duration": 21,
    "start_time": "2022-03-27T07:57:48.504Z"
   },
   {
    "duration": 96,
    "start_time": "2022-03-27T07:57:48.527Z"
   },
   {
    "duration": 13,
    "start_time": "2022-03-27T07:57:48.624Z"
   },
   {
    "duration": 21,
    "start_time": "2022-03-27T07:57:48.682Z"
   },
   {
    "duration": 304,
    "start_time": "2022-03-27T07:57:48.706Z"
   },
   {
    "duration": 16504,
    "start_time": "2022-03-27T07:57:49.012Z"
   },
   {
    "duration": 8,
    "start_time": "2022-03-27T07:58:05.518Z"
   },
   {
    "duration": 122,
    "start_time": "2022-03-27T07:58:05.528Z"
   },
   {
    "duration": 43992,
    "start_time": "2022-03-27T07:58:05.652Z"
   },
   {
    "duration": 11,
    "start_time": "2022-03-27T07:58:49.645Z"
   },
   {
    "duration": 129,
    "start_time": "2022-03-27T07:58:49.657Z"
   },
   {
    "duration": 94,
    "start_time": "2022-03-27T07:58:49.788Z"
   },
   {
    "duration": 99,
    "start_time": "2022-03-27T07:58:49.885Z"
   },
   {
    "duration": 215,
    "start_time": "2022-03-27T07:58:49.986Z"
   },
   {
    "duration": 33,
    "start_time": "2022-03-27T07:58:50.204Z"
   },
   {
    "duration": 90,
    "start_time": "2022-03-27T07:58:50.238Z"
   },
   {
    "duration": 62,
    "start_time": "2022-03-27T07:58:50.330Z"
   },
   {
    "duration": 217,
    "start_time": "2022-03-27T07:58:50.394Z"
   },
   {
    "duration": 17,
    "start_time": "2022-03-27T07:58:50.613Z"
   },
   {
    "duration": 17,
    "start_time": "2022-03-27T07:58:50.632Z"
   },
   {
    "duration": 135,
    "start_time": "2022-03-27T07:58:50.650Z"
   },
   {
    "duration": 61,
    "start_time": "2022-03-27T08:06:35.121Z"
   },
   {
    "duration": 98,
    "start_time": "2022-03-27T08:06:53.046Z"
   },
   {
    "duration": 95,
    "start_time": "2022-03-27T08:08:51.262Z"
   },
   {
    "duration": 60,
    "start_time": "2022-03-27T08:09:22.299Z"
   },
   {
    "duration": 64,
    "start_time": "2022-03-27T08:10:19.984Z"
   },
   {
    "duration": 263,
    "start_time": "2022-03-27T08:11:19.554Z"
   },
   {
    "duration": 219,
    "start_time": "2022-03-27T08:12:48.003Z"
   },
   {
    "duration": 231,
    "start_time": "2022-03-27T08:13:54.388Z"
   },
   {
    "duration": 12984,
    "start_time": "2022-03-27T08:17:13.731Z"
   },
   {
    "duration": 17213,
    "start_time": "2022-03-27T08:18:13.679Z"
   },
   {
    "duration": 13137,
    "start_time": "2022-03-27T08:18:53.101Z"
   },
   {
    "duration": 17225,
    "start_time": "2022-03-27T08:19:25.121Z"
   },
   {
    "duration": 17636,
    "start_time": "2022-03-27T08:20:16.510Z"
   },
   {
    "duration": 6,
    "start_time": "2022-03-27T08:20:36.906Z"
   },
   {
    "duration": 120,
    "start_time": "2022-03-27T08:20:50.558Z"
   },
   {
    "duration": 1406,
    "start_time": "2022-03-27T08:26:49.737Z"
   },
   {
    "duration": 41,
    "start_time": "2022-03-27T08:26:51.145Z"
   },
   {
    "duration": 12,
    "start_time": "2022-03-27T08:26:51.188Z"
   },
   {
    "duration": 3,
    "start_time": "2022-03-27T08:26:51.202Z"
   },
   {
    "duration": 7,
    "start_time": "2022-03-27T08:26:51.206Z"
   },
   {
    "duration": 7,
    "start_time": "2022-03-27T08:26:51.214Z"
   },
   {
    "duration": 11,
    "start_time": "2022-03-27T08:26:51.223Z"
   },
   {
    "duration": 4,
    "start_time": "2022-03-27T08:26:51.235Z"
   },
   {
    "duration": 12,
    "start_time": "2022-03-27T08:26:51.240Z"
   },
   {
    "duration": 33,
    "start_time": "2022-03-27T08:26:51.254Z"
   },
   {
    "duration": 16,
    "start_time": "2022-03-27T08:26:51.289Z"
   },
   {
    "duration": 26,
    "start_time": "2022-03-27T08:26:51.306Z"
   },
   {
    "duration": 10,
    "start_time": "2022-03-27T08:26:51.333Z"
   },
   {
    "duration": 7,
    "start_time": "2022-03-27T08:26:51.344Z"
   },
   {
    "duration": 148,
    "start_time": "2022-03-27T08:26:51.352Z"
   },
   {
    "duration": 13255,
    "start_time": "2022-03-27T08:26:51.501Z"
   },
   {
    "duration": 7,
    "start_time": "2022-03-27T08:27:04.758Z"
   },
   {
    "duration": 160,
    "start_time": "2022-03-27T08:27:04.767Z"
   },
   {
    "duration": 54941,
    "start_time": "2022-03-27T08:27:04.929Z"
   },
   {
    "duration": 16,
    "start_time": "2022-03-27T08:27:59.871Z"
   },
   {
    "duration": 149,
    "start_time": "2022-03-27T08:27:59.889Z"
   },
   {
    "duration": 51,
    "start_time": "2022-03-27T08:28:00.040Z"
   },
   {
    "duration": 95,
    "start_time": "2022-03-27T08:28:00.093Z"
   },
   {
    "duration": 330,
    "start_time": "2022-03-27T08:28:00.190Z"
   },
   {
    "duration": 33,
    "start_time": "2022-03-27T08:28:00.521Z"
   },
   {
    "duration": 93,
    "start_time": "2022-03-27T08:28:00.556Z"
   },
   {
    "duration": 32,
    "start_time": "2022-03-27T08:28:00.651Z"
   },
   {
    "duration": 247,
    "start_time": "2022-03-27T08:28:00.687Z"
   },
   {
    "duration": 79,
    "start_time": "2022-03-27T08:28:00.935Z"
   },
   {
    "duration": 233,
    "start_time": "2022-03-27T08:28:01.016Z"
   },
   {
    "duration": 17,
    "start_time": "2022-03-27T08:28:01.252Z"
   },
   {
    "duration": 14,
    "start_time": "2022-03-27T08:28:01.271Z"
   },
   {
    "duration": 147,
    "start_time": "2022-03-27T08:28:01.287Z"
   },
   {
    "duration": 20001,
    "start_time": "2022-03-27T08:28:01.436Z"
   },
   {
    "duration": 6,
    "start_time": "2022-03-27T08:28:21.438Z"
   },
   {
    "duration": 109,
    "start_time": "2022-03-27T08:28:21.445Z"
   },
   {
    "duration": 38367,
    "start_time": "2022-03-27T08:28:21.555Z"
   },
   {
    "duration": 53468,
    "start_time": "2022-03-27T08:32:01.893Z"
   },
   {
    "duration": 25,
    "start_time": "2022-03-27T08:33:16.651Z"
   },
   {
    "duration": 23,
    "start_time": "2022-03-27T08:33:23.759Z"
   },
   {
    "duration": 24,
    "start_time": "2022-03-27T08:33:33.356Z"
   },
   {
    "duration": 24,
    "start_time": "2022-03-27T08:33:39.350Z"
   },
   {
    "duration": 20,
    "start_time": "2022-03-27T08:35:04.753Z"
   },
   {
    "duration": 100,
    "start_time": "2022-03-27T08:35:19.307Z"
   },
   {
    "duration": 17,
    "start_time": "2022-03-27T08:36:14.750Z"
   },
   {
    "duration": 100,
    "start_time": "2022-03-27T08:36:30.304Z"
   },
   {
    "duration": 10,
    "start_time": "2022-03-27T08:40:16.618Z"
   },
   {
    "duration": 5,
    "start_time": "2022-03-27T08:40:49.777Z"
   },
   {
    "duration": 101,
    "start_time": "2022-03-27T08:41:37.520Z"
   },
   {
    "duration": 6316,
    "start_time": "2022-03-27T08:46:30.602Z"
   },
   {
    "duration": 96,
    "start_time": "2022-03-27T08:48:45.915Z"
   },
   {
    "duration": 100,
    "start_time": "2022-03-27T08:49:11.830Z"
   },
   {
    "duration": 6359,
    "start_time": "2022-03-27T08:49:26.787Z"
   },
   {
    "duration": 7,
    "start_time": "2022-03-27T08:49:46.182Z"
   },
   {
    "duration": 105,
    "start_time": "2022-03-27T08:52:28.220Z"
   },
   {
    "duration": 25525,
    "start_time": "2022-03-27T08:52:28.327Z"
   },
   {
    "duration": 14,
    "start_time": "2022-03-27T08:52:53.854Z"
   },
   {
    "duration": 114,
    "start_time": "2022-03-27T08:52:53.869Z"
   },
   {
    "duration": 20,
    "start_time": "2022-03-27T09:48:57.523Z"
   },
   {
    "duration": 13,
    "start_time": "2022-03-27T09:50:28.732Z"
   },
   {
    "duration": 16,
    "start_time": "2022-03-27T09:51:11.154Z"
   },
   {
    "duration": 105,
    "start_time": "2022-03-27T09:51:12.083Z"
   },
   {
    "duration": 1490,
    "start_time": "2022-03-27T09:58:04.850Z"
   },
   {
    "duration": 51,
    "start_time": "2022-03-27T09:58:06.342Z"
   },
   {
    "duration": 11,
    "start_time": "2022-03-27T09:58:06.395Z"
   },
   {
    "duration": 6,
    "start_time": "2022-03-27T09:58:06.407Z"
   },
   {
    "duration": 9,
    "start_time": "2022-03-27T09:58:06.414Z"
   },
   {
    "duration": 13,
    "start_time": "2022-03-27T09:58:06.425Z"
   },
   {
    "duration": 13,
    "start_time": "2022-03-27T09:58:06.439Z"
   },
   {
    "duration": 4,
    "start_time": "2022-03-27T09:58:06.453Z"
   },
   {
    "duration": 22,
    "start_time": "2022-03-27T09:58:06.459Z"
   },
   {
    "duration": 9,
    "start_time": "2022-03-27T09:58:06.483Z"
   },
   {
    "duration": 17,
    "start_time": "2022-03-27T09:58:06.494Z"
   },
   {
    "duration": 26,
    "start_time": "2022-03-27T09:58:06.512Z"
   },
   {
    "duration": 42,
    "start_time": "2022-03-27T09:58:06.539Z"
   },
   {
    "duration": 5,
    "start_time": "2022-03-27T09:58:06.585Z"
   },
   {
    "duration": 121,
    "start_time": "2022-03-27T09:58:06.591Z"
   },
   {
    "duration": 13112,
    "start_time": "2022-03-27T09:58:06.714Z"
   },
   {
    "duration": 7,
    "start_time": "2022-03-27T09:58:19.827Z"
   },
   {
    "duration": 114,
    "start_time": "2022-03-27T09:58:19.836Z"
   },
   {
    "duration": 38678,
    "start_time": "2022-03-27T09:58:19.951Z"
   },
   {
    "duration": 10,
    "start_time": "2022-03-27T09:58:58.630Z"
   },
   {
    "duration": 111,
    "start_time": "2022-03-27T09:58:58.641Z"
   },
   {
    "duration": 37,
    "start_time": "2022-03-27T09:58:58.754Z"
   },
   {
    "duration": 91,
    "start_time": "2022-03-27T09:58:58.795Z"
   },
   {
    "duration": 281,
    "start_time": "2022-03-27T09:58:58.888Z"
   },
   {
    "duration": 24,
    "start_time": "2022-03-27T09:58:59.180Z"
   },
   {
    "duration": 75,
    "start_time": "2022-03-27T09:58:59.206Z"
   },
   {
    "duration": 22,
    "start_time": "2022-03-27T09:58:59.282Z"
   },
   {
    "duration": 223,
    "start_time": "2022-03-27T09:58:59.306Z"
   },
   {
    "duration": 82,
    "start_time": "2022-03-27T09:58:59.531Z"
   },
   {
    "duration": 213,
    "start_time": "2022-03-27T09:58:59.615Z"
   },
   {
    "duration": 16,
    "start_time": "2022-03-27T09:58:59.830Z"
   },
   {
    "duration": 5,
    "start_time": "2022-03-27T09:58:59.848Z"
   },
   {
    "duration": 119,
    "start_time": "2022-03-27T09:58:59.854Z"
   },
   {
    "duration": 17670,
    "start_time": "2022-03-27T09:58:59.974Z"
   },
   {
    "duration": 8,
    "start_time": "2022-03-27T09:59:17.646Z"
   },
   {
    "duration": 127,
    "start_time": "2022-03-27T09:59:17.656Z"
   },
   {
    "duration": 54453,
    "start_time": "2022-03-27T09:59:17.785Z"
   },
   {
    "duration": 19,
    "start_time": "2022-03-27T10:00:12.239Z"
   },
   {
    "duration": 127,
    "start_time": "2022-03-27T10:00:12.259Z"
   },
   {
    "duration": 25,
    "start_time": "2022-03-27T10:00:12.388Z"
   },
   {
    "duration": 71,
    "start_time": "2022-03-27T10:00:12.418Z"
   },
   {
    "duration": 302,
    "start_time": "2022-03-27T10:00:12.492Z"
   },
   {
    "duration": 12,
    "start_time": "2022-03-27T10:00:12.796Z"
   },
   {
    "duration": 10,
    "start_time": "2022-03-27T10:00:12.809Z"
   },
   {
    "duration": 110,
    "start_time": "2022-03-27T10:00:12.820Z"
   },
   {
    "duration": 6769,
    "start_time": "2022-03-27T10:00:12.932Z"
   },
   {
    "duration": 6,
    "start_time": "2022-03-27T10:00:19.702Z"
   },
   {
    "duration": 115,
    "start_time": "2022-03-27T10:00:19.710Z"
   },
   {
    "duration": 26055,
    "start_time": "2022-03-27T10:00:19.827Z"
   },
   {
    "duration": 12,
    "start_time": "2022-03-27T10:00:45.883Z"
   },
   {
    "duration": 111,
    "start_time": "2022-03-27T10:00:45.897Z"
   },
   {
    "duration": 78,
    "start_time": "2022-03-27T10:00:46.010Z"
   },
   {
    "duration": 96,
    "start_time": "2022-03-27T10:00:46.089Z"
   },
   {
    "duration": 200,
    "start_time": "2022-03-27T10:00:46.187Z"
   },
   {
    "duration": 62,
    "start_time": "2022-03-27T10:02:38.649Z"
   },
   {
    "duration": 63,
    "start_time": "2022-03-27T10:02:40.696Z"
   },
   {
    "duration": 205,
    "start_time": "2022-03-27T10:02:55.610Z"
   },
   {
    "duration": 94,
    "start_time": "2022-03-27T10:03:23.130Z"
   },
   {
    "duration": 97,
    "start_time": "2022-03-27T10:03:30.550Z"
   },
   {
    "duration": 255,
    "start_time": "2022-03-27T10:03:38.398Z"
   },
   {
    "duration": 63,
    "start_time": "2022-03-27T10:06:23.498Z"
   },
   {
    "duration": 60,
    "start_time": "2022-03-27T10:06:27.049Z"
   },
   {
    "duration": 184,
    "start_time": "2022-03-27T10:06:30.041Z"
   },
   {
    "duration": 63,
    "start_time": "2022-03-27T18:34:31.661Z"
   },
   {
    "duration": 1595,
    "start_time": "2022-03-27T18:34:37.446Z"
   },
   {
    "duration": 45,
    "start_time": "2022-03-27T18:34:39.043Z"
   },
   {
    "duration": 14,
    "start_time": "2022-03-27T18:34:39.090Z"
   },
   {
    "duration": 3,
    "start_time": "2022-03-27T18:34:39.109Z"
   },
   {
    "duration": 13,
    "start_time": "2022-03-27T18:34:39.114Z"
   },
   {
    "duration": 7,
    "start_time": "2022-03-27T18:34:39.129Z"
   },
   {
    "duration": 13,
    "start_time": "2022-03-27T18:34:39.137Z"
   },
   {
    "duration": 4,
    "start_time": "2022-03-27T18:34:39.152Z"
   },
   {
    "duration": 58,
    "start_time": "2022-03-27T18:34:39.158Z"
   },
   {
    "duration": 11,
    "start_time": "2022-03-27T18:34:39.219Z"
   },
   {
    "duration": 18,
    "start_time": "2022-03-27T18:34:39.232Z"
   },
   {
    "duration": 28,
    "start_time": "2022-03-27T18:34:39.252Z"
   },
   {
    "duration": 43,
    "start_time": "2022-03-27T18:34:39.282Z"
   },
   {
    "duration": 6,
    "start_time": "2022-03-27T18:34:39.330Z"
   },
   {
    "duration": 171,
    "start_time": "2022-03-27T18:34:39.339Z"
   },
   {
    "duration": 14885,
    "start_time": "2022-03-27T18:34:39.512Z"
   },
   {
    "duration": 15,
    "start_time": "2022-03-27T18:34:54.399Z"
   },
   {
    "duration": 136,
    "start_time": "2022-03-27T18:34:54.416Z"
   },
   {
    "duration": 44577,
    "start_time": "2022-03-27T18:34:54.554Z"
   },
   {
    "duration": 13,
    "start_time": "2022-03-27T18:35:39.132Z"
   },
   {
    "duration": 127,
    "start_time": "2022-03-27T18:35:39.146Z"
   },
   {
    "duration": 38,
    "start_time": "2022-03-27T18:35:39.276Z"
   },
   {
    "duration": 99,
    "start_time": "2022-03-27T18:35:39.317Z"
   },
   {
    "duration": 299,
    "start_time": "2022-03-27T18:35:39.418Z"
   },
   {
    "duration": 28,
    "start_time": "2022-03-27T18:35:39.718Z"
   },
   {
    "duration": 80,
    "start_time": "2022-03-27T18:35:39.748Z"
   },
   {
    "duration": 21,
    "start_time": "2022-03-27T18:35:39.829Z"
   },
   {
    "duration": 161,
    "start_time": "2022-03-27T18:35:39.910Z"
   },
   {
    "duration": 92,
    "start_time": "2022-03-27T18:35:40.073Z"
   },
   {
    "duration": 194,
    "start_time": "2022-03-27T18:35:40.166Z"
   },
   {
    "duration": 13,
    "start_time": "2022-03-27T18:35:40.361Z"
   },
   {
    "duration": 5,
    "start_time": "2022-03-27T18:35:40.375Z"
   },
   {
    "duration": 142,
    "start_time": "2022-03-27T18:35:40.382Z"
   },
   {
    "duration": 18822,
    "start_time": "2022-03-27T18:35:40.526Z"
   },
   {
    "duration": 7,
    "start_time": "2022-03-27T18:35:59.350Z"
   },
   {
    "duration": 126,
    "start_time": "2022-03-27T18:35:59.359Z"
   },
   {
    "duration": 58496,
    "start_time": "2022-03-27T18:35:59.486Z"
   },
   {
    "duration": 30,
    "start_time": "2022-03-27T18:36:57.984Z"
   },
   {
    "duration": 132,
    "start_time": "2022-03-27T18:36:58.015Z"
   },
   {
    "duration": 70,
    "start_time": "2022-03-27T18:36:58.149Z"
   },
   {
    "duration": 101,
    "start_time": "2022-03-27T18:36:58.309Z"
   },
   {
    "duration": 221,
    "start_time": "2022-03-27T18:36:58.413Z"
   },
   {
    "duration": 11,
    "start_time": "2022-03-27T18:36:58.636Z"
   },
   {
    "duration": 4,
    "start_time": "2022-03-27T18:36:58.649Z"
   },
   {
    "duration": 132,
    "start_time": "2022-03-27T18:36:58.655Z"
   },
   {
    "duration": 7372,
    "start_time": "2022-03-27T18:36:58.788Z"
   },
   {
    "duration": 7,
    "start_time": "2022-03-27T18:37:06.162Z"
   },
   {
    "duration": 132,
    "start_time": "2022-03-27T18:37:06.171Z"
   },
   {
    "duration": 28469,
    "start_time": "2022-03-27T18:37:06.308Z"
   },
   {
    "duration": 19,
    "start_time": "2022-03-27T18:37:34.780Z"
   },
   {
    "duration": 134,
    "start_time": "2022-03-27T18:37:34.809Z"
   },
   {
    "duration": 17,
    "start_time": "2022-03-27T18:37:34.945Z"
   },
   {
    "duration": 101,
    "start_time": "2022-03-27T18:37:35.014Z"
   },
   {
    "duration": 300,
    "start_time": "2022-03-27T18:37:35.119Z"
   },
   {
    "duration": 110,
    "start_time": "2022-03-27T18:37:35.421Z"
   },
   {
    "duration": 9,
    "start_time": "2022-03-27T18:38:58.784Z"
   },
   {
    "duration": 12,
    "start_time": "2022-03-27T18:40:54.335Z"
   },
   {
    "duration": 10,
    "start_time": "2022-03-27T18:50:28.564Z"
   },
   {
    "duration": 30,
    "start_time": "2022-03-27T18:53:57.814Z"
   },
   {
    "duration": 8,
    "start_time": "2022-03-27T19:01:14.776Z"
   },
   {
    "duration": 10,
    "start_time": "2022-03-27T19:02:37.100Z"
   },
   {
    "duration": 116,
    "start_time": "2022-03-27T19:03:00.982Z"
   },
   {
    "duration": 29,
    "start_time": "2022-03-27T19:08:52.000Z"
   },
   {
    "duration": 11,
    "start_time": "2022-03-27T19:09:29.075Z"
   },
   {
    "duration": 71,
    "start_time": "2022-03-27T19:14:13.996Z"
   },
   {
    "duration": 831,
    "start_time": "2022-03-27T19:14:19.485Z"
   },
   {
    "duration": 29,
    "start_time": "2022-03-27T19:14:37.630Z"
   },
   {
    "duration": 337,
    "start_time": "2022-03-27T19:15:01.595Z"
   },
   {
    "duration": 361,
    "start_time": "2022-03-27T19:16:48.595Z"
   },
   {
    "duration": 26,
    "start_time": "2022-03-27T19:17:08.619Z"
   },
   {
    "duration": 115,
    "start_time": "2022-03-27T19:17:24.079Z"
   },
   {
    "duration": 25,
    "start_time": "2022-03-27T19:18:10.729Z"
   },
   {
    "duration": 206,
    "start_time": "2022-03-27T19:18:13.047Z"
   },
   {
    "duration": 125,
    "start_time": "2022-03-27T19:18:17.853Z"
   },
   {
    "duration": 36,
    "start_time": "2022-03-27T19:21:05.139Z"
   },
   {
    "duration": 15,
    "start_time": "2022-03-27T19:25:27.609Z"
   },
   {
    "duration": 130,
    "start_time": "2022-03-27T19:25:50.999Z"
   },
   {
    "duration": 1273,
    "start_time": "2022-03-27T19:37:41.142Z"
   },
   {
    "duration": 39,
    "start_time": "2022-03-27T19:37:42.417Z"
   },
   {
    "duration": 12,
    "start_time": "2022-03-27T19:37:42.458Z"
   },
   {
    "duration": 3,
    "start_time": "2022-03-27T19:37:42.471Z"
   },
   {
    "duration": 7,
    "start_time": "2022-03-27T19:37:42.476Z"
   },
   {
    "duration": 5,
    "start_time": "2022-03-27T19:37:42.485Z"
   },
   {
    "duration": 27,
    "start_time": "2022-03-27T19:37:42.491Z"
   },
   {
    "duration": 3,
    "start_time": "2022-03-27T19:37:42.520Z"
   },
   {
    "duration": 12,
    "start_time": "2022-03-27T19:37:42.525Z"
   },
   {
    "duration": 9,
    "start_time": "2022-03-27T19:37:42.538Z"
   },
   {
    "duration": 18,
    "start_time": "2022-03-27T19:37:42.549Z"
   },
   {
    "duration": 57,
    "start_time": "2022-03-27T19:37:42.569Z"
   },
   {
    "duration": 11,
    "start_time": "2022-03-27T19:37:42.627Z"
   },
   {
    "duration": 4,
    "start_time": "2022-03-27T19:37:42.641Z"
   },
   {
    "duration": 162,
    "start_time": "2022-03-27T19:37:42.646Z"
   },
   {
    "duration": 14232,
    "start_time": "2022-03-27T19:37:42.810Z"
   },
   {
    "duration": 7,
    "start_time": "2022-03-27T19:37:57.043Z"
   },
   {
    "duration": 129,
    "start_time": "2022-03-27T19:37:57.052Z"
   },
   {
    "duration": 43255,
    "start_time": "2022-03-27T19:37:57.183Z"
   },
   {
    "duration": 11,
    "start_time": "2022-03-27T19:38:40.440Z"
   },
   {
    "duration": 130,
    "start_time": "2022-03-27T19:38:40.453Z"
   },
   {
    "duration": 127,
    "start_time": "2022-03-27T19:38:40.586Z"
   },
   {
    "duration": 103,
    "start_time": "2022-03-27T19:38:40.716Z"
   },
   {
    "duration": 272,
    "start_time": "2022-03-27T19:38:40.822Z"
   },
   {
    "duration": 31,
    "start_time": "2022-03-27T19:38:41.096Z"
   },
   {
    "duration": 68,
    "start_time": "2022-03-27T19:38:41.129Z"
   },
   {
    "duration": 100,
    "start_time": "2022-03-27T19:38:41.209Z"
   },
   {
    "duration": 163,
    "start_time": "2022-03-27T19:38:41.313Z"
   },
   {
    "duration": 95,
    "start_time": "2022-03-27T19:38:41.479Z"
   },
   {
    "duration": 233,
    "start_time": "2022-03-27T19:38:41.576Z"
   },
   {
    "duration": 14,
    "start_time": "2022-03-27T19:38:41.810Z"
   },
   {
    "duration": 5,
    "start_time": "2022-03-27T19:38:41.825Z"
   },
   {
    "duration": 134,
    "start_time": "2022-03-27T19:38:41.832Z"
   },
   {
    "duration": 18670,
    "start_time": "2022-03-27T19:38:41.968Z"
   },
   {
    "duration": 7,
    "start_time": "2022-03-27T19:39:00.640Z"
   },
   {
    "duration": 128,
    "start_time": "2022-03-27T19:39:00.648Z"
   },
   {
    "duration": 58481,
    "start_time": "2022-03-27T19:39:00.778Z"
   },
   {
    "duration": 25,
    "start_time": "2022-03-27T19:39:59.261Z"
   },
   {
    "duration": 137,
    "start_time": "2022-03-27T19:39:59.288Z"
   },
   {
    "duration": 182,
    "start_time": "2022-03-27T19:39:59.427Z"
   },
   {
    "duration": 93,
    "start_time": "2022-03-27T19:39:59.616Z"
   },
   {
    "duration": 210,
    "start_time": "2022-03-27T19:39:59.711Z"
   },
   {
    "duration": 11,
    "start_time": "2022-03-27T19:39:59.923Z"
   },
   {
    "duration": 5,
    "start_time": "2022-03-27T19:39:59.935Z"
   },
   {
    "duration": 132,
    "start_time": "2022-03-27T19:39:59.942Z"
   },
   {
    "duration": 7624,
    "start_time": "2022-03-27T19:40:00.076Z"
   },
   {
    "duration": 13,
    "start_time": "2022-03-27T19:40:07.702Z"
   },
   {
    "duration": 143,
    "start_time": "2022-03-27T19:40:07.717Z"
   },
   {
    "duration": 29695,
    "start_time": "2022-03-27T19:40:07.863Z"
   },
   {
    "duration": 16,
    "start_time": "2022-03-27T19:40:37.559Z"
   },
   {
    "duration": 138,
    "start_time": "2022-03-27T19:40:37.577Z"
   },
   {
    "duration": 93,
    "start_time": "2022-03-27T19:40:37.716Z"
   },
   {
    "duration": 97,
    "start_time": "2022-03-27T19:40:37.812Z"
   },
   {
    "duration": 222,
    "start_time": "2022-03-27T19:40:37.912Z"
   },
   {
    "duration": 41,
    "start_time": "2022-03-27T19:40:38.136Z"
   },
   {
    "duration": 7,
    "start_time": "2022-03-27T19:40:38.179Z"
   },
   {
    "duration": 145,
    "start_time": "2022-03-27T19:40:38.188Z"
   },
   {
    "duration": 351,
    "start_time": "2022-03-27T19:40:38.334Z"
   },
   {
    "duration": 33,
    "start_time": "2022-03-27T19:40:38.687Z"
   },
   {
    "duration": 125,
    "start_time": "2022-03-27T19:40:38.722Z"
   },
   {
    "duration": 65,
    "start_time": "2022-03-27T19:40:38.850Z"
   },
   {
    "duration": 98,
    "start_time": "2022-03-27T19:40:38.917Z"
   },
   {
    "duration": 385,
    "start_time": "2022-03-27T19:40:39.017Z"
   },
   {
    "duration": 72,
    "start_time": "2022-03-30T12:18:34.499Z"
   },
   {
    "duration": 2917,
    "start_time": "2022-03-30T12:19:10.162Z"
   },
   {
    "duration": 81,
    "start_time": "2022-03-30T12:19:13.083Z"
   },
   {
    "duration": 19,
    "start_time": "2022-03-30T12:19:13.167Z"
   },
   {
    "duration": 7,
    "start_time": "2022-03-30T12:19:13.188Z"
   },
   {
    "duration": 12,
    "start_time": "2022-03-30T12:19:13.198Z"
   },
   {
    "duration": 32,
    "start_time": "2022-03-30T12:19:13.212Z"
   },
   {
    "duration": 19,
    "start_time": "2022-03-30T12:19:13.246Z"
   },
   {
    "duration": 6,
    "start_time": "2022-03-30T12:19:13.267Z"
   },
   {
    "duration": 30,
    "start_time": "2022-03-30T12:19:13.275Z"
   },
   {
    "duration": 47,
    "start_time": "2022-03-30T12:19:13.308Z"
   },
   {
    "duration": 28,
    "start_time": "2022-03-30T12:19:13.358Z"
   },
   {
    "duration": 15,
    "start_time": "2022-03-30T12:19:13.388Z"
   },
   {
    "duration": 47,
    "start_time": "2022-03-30T12:19:13.442Z"
   },
   {
    "duration": 7,
    "start_time": "2022-03-30T12:19:13.494Z"
   },
   {
    "duration": 206,
    "start_time": "2022-03-30T12:19:13.503Z"
   },
   {
    "duration": 21005,
    "start_time": "2022-03-30T12:19:13.712Z"
   },
   {
    "duration": 10,
    "start_time": "2022-03-30T12:19:34.720Z"
   },
   {
    "duration": 183,
    "start_time": "2022-03-30T12:19:34.744Z"
   },
   {
    "duration": 63236,
    "start_time": "2022-03-30T12:19:34.929Z"
   },
   {
    "duration": 26,
    "start_time": "2022-03-30T12:20:38.167Z"
   },
   {
    "duration": 195,
    "start_time": "2022-03-30T12:20:38.195Z"
   },
   {
    "duration": 52,
    "start_time": "2022-03-30T12:20:38.392Z"
   },
   {
    "duration": 195,
    "start_time": "2022-03-30T12:20:38.448Z"
   },
   {
    "duration": 274,
    "start_time": "2022-03-30T12:20:38.647Z"
   },
   {
    "duration": 44,
    "start_time": "2022-03-30T12:20:38.924Z"
   },
   {
    "duration": 108,
    "start_time": "2022-03-30T12:20:38.970Z"
   },
   {
    "duration": 63,
    "start_time": "2022-03-30T12:20:39.081Z"
   },
   {
    "duration": 204,
    "start_time": "2022-03-30T12:20:39.147Z"
   },
   {
    "duration": 125,
    "start_time": "2022-03-30T12:20:39.353Z"
   },
   {
    "duration": 242,
    "start_time": "2022-03-30T12:20:39.481Z"
   },
   {
    "duration": 31,
    "start_time": "2022-03-30T12:20:39.725Z"
   },
   {
    "duration": 7,
    "start_time": "2022-03-30T12:20:39.758Z"
   },
   {
    "duration": 185,
    "start_time": "2022-03-30T12:20:39.767Z"
   },
   {
    "duration": 30592,
    "start_time": "2022-03-30T12:20:39.955Z"
   },
   {
    "duration": 10,
    "start_time": "2022-03-30T12:21:10.549Z"
   },
   {
    "duration": 204,
    "start_time": "2022-03-30T12:21:10.561Z"
   },
   {
    "duration": 95444,
    "start_time": "2022-03-30T12:21:10.767Z"
   },
   {
    "duration": 41,
    "start_time": "2022-03-30T12:22:46.214Z"
   },
   {
    "duration": 252,
    "start_time": "2022-03-30T12:22:46.257Z"
   },
   {
    "duration": 66,
    "start_time": "2022-03-30T12:22:46.513Z"
   },
   {
    "duration": 105,
    "start_time": "2022-03-30T12:22:46.645Z"
   },
   {
    "duration": 278,
    "start_time": "2022-03-30T12:22:46.753Z"
   },
   {
    "duration": 16,
    "start_time": "2022-03-30T12:22:47.042Z"
   },
   {
    "duration": 7,
    "start_time": "2022-03-30T12:22:47.060Z"
   },
   {
    "duration": 237,
    "start_time": "2022-03-30T12:22:47.070Z"
   },
   {
    "duration": 13635,
    "start_time": "2022-03-30T12:22:47.310Z"
   },
   {
    "duration": 10,
    "start_time": "2022-03-30T12:23:00.947Z"
   },
   {
    "duration": 211,
    "start_time": "2022-03-30T12:23:00.959Z"
   },
   {
    "duration": 43789,
    "start_time": "2022-03-30T12:23:01.172Z"
   },
   {
    "duration": 14,
    "start_time": "2022-03-30T12:23:44.963Z"
   },
   {
    "duration": 232,
    "start_time": "2022-03-30T12:23:44.979Z"
   },
   {
    "duration": 39,
    "start_time": "2022-03-30T12:23:45.213Z"
   },
   {
    "duration": 107,
    "start_time": "2022-03-30T12:23:45.345Z"
   },
   {
    "duration": 261,
    "start_time": "2022-03-30T12:23:45.544Z"
   },
   {
    "duration": 69,
    "start_time": "2022-03-30T12:23:45.808Z"
   },
   {
    "duration": 13,
    "start_time": "2022-03-30T12:23:45.880Z"
   },
   {
    "duration": 210,
    "start_time": "2022-03-30T12:23:45.895Z"
   },
   {
    "duration": 522,
    "start_time": "2022-03-30T12:23:46.108Z"
   },
   {
    "duration": 32,
    "start_time": "2022-03-30T12:23:46.633Z"
   },
   {
    "duration": 205,
    "start_time": "2022-03-30T12:23:46.667Z"
   },
   {
    "duration": 77,
    "start_time": "2022-03-30T12:23:46.874Z"
   },
   {
    "duration": 98,
    "start_time": "2022-03-30T12:23:46.955Z"
   },
   {
    "duration": 461,
    "start_time": "2022-03-30T12:23:47.056Z"
   },
   {
    "duration": 30423,
    "start_time": "2022-03-30T12:25:21.693Z"
   },
   {
    "duration": 49,
    "start_time": "2022-03-30T12:36:39.224Z"
   },
   {
    "duration": 43,
    "start_time": "2022-03-30T12:36:56.847Z"
   },
   {
    "duration": 37,
    "start_time": "2022-03-30T12:37:05.016Z"
   },
   {
    "duration": 45,
    "start_time": "2022-03-30T12:37:34.509Z"
   },
   {
    "duration": 730,
    "start_time": "2022-03-30T12:38:20.633Z"
   },
   {
    "duration": 3177,
    "start_time": "2022-03-30T12:38:32.157Z"
   },
   {
    "duration": 7,
    "start_time": "2022-03-30T12:39:05.681Z"
   },
   {
    "duration": 26884,
    "start_time": "2022-03-30T12:39:13.575Z"
   },
   {
    "duration": 245,
    "start_time": "2022-03-30T12:43:23.130Z"
   },
   {
    "duration": 201,
    "start_time": "2022-03-30T12:43:38.959Z"
   },
   {
    "duration": 190,
    "start_time": "2022-03-30T12:43:51.034Z"
   },
   {
    "duration": 214,
    "start_time": "2022-03-30T12:43:55.770Z"
   },
   {
    "duration": 627,
    "start_time": "2022-03-30T12:44:13.575Z"
   },
   {
    "duration": 208,
    "start_time": "2022-03-30T12:44:27.478Z"
   },
   {
    "duration": 221,
    "start_time": "2022-03-30T12:44:32.680Z"
   },
   {
    "duration": 586,
    "start_time": "2022-03-30T12:44:42.347Z"
   },
   {
    "duration": 27827,
    "start_time": "2022-03-30T12:45:00.227Z"
   },
   {
    "duration": 27193,
    "start_time": "2022-03-30T12:45:40.513Z"
   },
   {
    "duration": 27145,
    "start_time": "2022-03-30T12:46:25.943Z"
   },
   {
    "duration": 26680,
    "start_time": "2022-03-30T12:47:47.153Z"
   },
   {
    "duration": 27127,
    "start_time": "2022-03-30T12:48:29.625Z"
   },
   {
    "duration": 2141,
    "start_time": "2022-03-30T12:51:29.578Z"
   },
   {
    "duration": 61,
    "start_time": "2022-03-30T12:51:31.721Z"
   },
   {
    "duration": 19,
    "start_time": "2022-03-30T12:51:31.785Z"
   },
   {
    "duration": 17,
    "start_time": "2022-03-30T12:51:31.808Z"
   },
   {
    "duration": 21,
    "start_time": "2022-03-30T12:51:31.827Z"
   },
   {
    "duration": 38,
    "start_time": "2022-03-30T12:51:31.850Z"
   },
   {
    "duration": 28,
    "start_time": "2022-03-30T12:51:31.890Z"
   },
   {
    "duration": 6,
    "start_time": "2022-03-30T12:51:31.920Z"
   },
   {
    "duration": 23,
    "start_time": "2022-03-30T12:51:31.929Z"
   },
   {
    "duration": 15,
    "start_time": "2022-03-30T12:51:31.956Z"
   },
   {
    "duration": 28,
    "start_time": "2022-03-30T12:51:31.974Z"
   },
   {
    "duration": 49,
    "start_time": "2022-03-30T12:51:32.005Z"
   },
   {
    "duration": 50,
    "start_time": "2022-03-30T12:51:32.057Z"
   },
   {
    "duration": 39,
    "start_time": "2022-03-30T12:51:32.109Z"
   },
   {
    "duration": 236,
    "start_time": "2022-03-30T12:51:32.151Z"
   },
   {
    "duration": 29261,
    "start_time": "2022-03-30T12:51:32.389Z"
   },
   {
    "duration": 173,
    "start_time": "2022-03-30T12:52:01.652Z"
   },
   {
    "duration": 0,
    "start_time": "2022-03-30T12:52:01.829Z"
   },
   {
    "duration": 0,
    "start_time": "2022-03-30T12:52:01.831Z"
   },
   {
    "duration": 1,
    "start_time": "2022-03-30T12:52:01.832Z"
   },
   {
    "duration": 0,
    "start_time": "2022-03-30T12:52:01.844Z"
   },
   {
    "duration": 0,
    "start_time": "2022-03-30T12:52:01.846Z"
   },
   {
    "duration": 0,
    "start_time": "2022-03-30T12:52:01.848Z"
   },
   {
    "duration": 0,
    "start_time": "2022-03-30T12:52:01.850Z"
   },
   {
    "duration": 0,
    "start_time": "2022-03-30T12:52:01.852Z"
   },
   {
    "duration": 0,
    "start_time": "2022-03-30T12:52:01.854Z"
   },
   {
    "duration": 0,
    "start_time": "2022-03-30T12:52:01.856Z"
   },
   {
    "duration": 0,
    "start_time": "2022-03-30T12:52:01.858Z"
   },
   {
    "duration": 0,
    "start_time": "2022-03-30T12:52:01.860Z"
   },
   {
    "duration": 0,
    "start_time": "2022-03-30T12:52:01.863Z"
   },
   {
    "duration": 0,
    "start_time": "2022-03-30T12:52:01.864Z"
   },
   {
    "duration": 0,
    "start_time": "2022-03-30T12:52:01.866Z"
   },
   {
    "duration": 0,
    "start_time": "2022-03-30T12:52:01.868Z"
   },
   {
    "duration": 0,
    "start_time": "2022-03-30T12:52:01.870Z"
   },
   {
    "duration": 0,
    "start_time": "2022-03-30T12:52:01.872Z"
   },
   {
    "duration": 0,
    "start_time": "2022-03-30T12:52:01.874Z"
   },
   {
    "duration": 0,
    "start_time": "2022-03-30T12:52:01.876Z"
   },
   {
    "duration": 0,
    "start_time": "2022-03-30T12:52:01.878Z"
   },
   {
    "duration": 0,
    "start_time": "2022-03-30T12:52:01.880Z"
   },
   {
    "duration": 0,
    "start_time": "2022-03-30T12:52:01.943Z"
   },
   {
    "duration": 0,
    "start_time": "2022-03-30T12:52:01.945Z"
   },
   {
    "duration": 0,
    "start_time": "2022-03-30T12:52:01.947Z"
   },
   {
    "duration": 0,
    "start_time": "2022-03-30T12:52:01.948Z"
   },
   {
    "duration": 0,
    "start_time": "2022-03-30T12:52:01.950Z"
   },
   {
    "duration": 0,
    "start_time": "2022-03-30T12:52:01.951Z"
   },
   {
    "duration": 0,
    "start_time": "2022-03-30T12:52:01.952Z"
   },
   {
    "duration": 0,
    "start_time": "2022-03-30T12:52:01.953Z"
   },
   {
    "duration": 0,
    "start_time": "2022-03-30T12:52:01.955Z"
   },
   {
    "duration": 0,
    "start_time": "2022-03-30T12:52:01.956Z"
   },
   {
    "duration": 0,
    "start_time": "2022-03-30T12:52:01.957Z"
   },
   {
    "duration": 0,
    "start_time": "2022-03-30T12:52:01.959Z"
   },
   {
    "duration": 0,
    "start_time": "2022-03-30T12:52:01.960Z"
   },
   {
    "duration": 0,
    "start_time": "2022-03-30T12:52:01.961Z"
   },
   {
    "duration": 0,
    "start_time": "2022-03-30T12:52:01.962Z"
   },
   {
    "duration": 0,
    "start_time": "2022-03-30T12:52:01.964Z"
   },
   {
    "duration": 0,
    "start_time": "2022-03-30T12:52:01.965Z"
   },
   {
    "duration": 0,
    "start_time": "2022-03-30T12:52:01.967Z"
   },
   {
    "duration": 0,
    "start_time": "2022-03-30T12:52:01.968Z"
   },
   {
    "duration": 0,
    "start_time": "2022-03-30T12:52:01.970Z"
   },
   {
    "duration": 0,
    "start_time": "2022-03-30T12:52:01.971Z"
   },
   {
    "duration": 0,
    "start_time": "2022-03-30T12:52:01.973Z"
   },
   {
    "duration": 0,
    "start_time": "2022-03-30T12:52:01.974Z"
   },
   {
    "duration": 0,
    "start_time": "2022-03-30T12:52:01.976Z"
   },
   {
    "duration": 1985,
    "start_time": "2022-03-30T12:53:21.163Z"
   },
   {
    "duration": 59,
    "start_time": "2022-03-30T12:53:23.153Z"
   },
   {
    "duration": 29,
    "start_time": "2022-03-30T12:53:23.214Z"
   },
   {
    "duration": 4,
    "start_time": "2022-03-30T12:53:23.245Z"
   },
   {
    "duration": 12,
    "start_time": "2022-03-30T12:53:23.252Z"
   },
   {
    "duration": 13,
    "start_time": "2022-03-30T12:53:23.266Z"
   },
   {
    "duration": 17,
    "start_time": "2022-03-30T12:53:23.281Z"
   },
   {
    "duration": 6,
    "start_time": "2022-03-30T12:53:23.300Z"
   },
   {
    "duration": 17,
    "start_time": "2022-03-30T12:53:23.344Z"
   },
   {
    "duration": 12,
    "start_time": "2022-03-30T12:53:23.364Z"
   },
   {
    "duration": 66,
    "start_time": "2022-03-30T12:53:23.378Z"
   },
   {
    "duration": 16,
    "start_time": "2022-03-30T12:53:23.446Z"
   },
   {
    "duration": 49,
    "start_time": "2022-03-30T12:53:23.464Z"
   },
   {
    "duration": 7,
    "start_time": "2022-03-30T12:53:23.545Z"
   },
   {
    "duration": 173,
    "start_time": "2022-03-30T12:53:23.554Z"
   },
   {
    "duration": 28240,
    "start_time": "2022-03-30T12:53:23.730Z"
   },
   {
    "duration": 9,
    "start_time": "2022-03-30T12:53:51.972Z"
   },
   {
    "duration": 197,
    "start_time": "2022-03-30T12:53:51.983Z"
   },
   {
    "duration": 61775,
    "start_time": "2022-03-30T12:53:52.182Z"
   },
   {
    "duration": 27,
    "start_time": "2022-03-30T12:54:53.960Z"
   },
   {
    "duration": 192,
    "start_time": "2022-03-30T12:54:53.990Z"
   },
   {
    "duration": 68,
    "start_time": "2022-03-30T12:54:54.184Z"
   },
   {
    "duration": 14,
    "start_time": "2022-03-30T12:54:54.344Z"
   },
   {
    "duration": 275,
    "start_time": "2022-03-30T12:54:54.445Z"
   },
   {
    "duration": 41,
    "start_time": "2022-03-30T12:54:54.723Z"
   },
   {
    "duration": 113,
    "start_time": "2022-03-30T12:54:54.766Z"
   },
   {
    "duration": 64,
    "start_time": "2022-03-30T12:54:54.882Z"
   },
   {
    "duration": 214,
    "start_time": "2022-03-30T12:54:54.952Z"
   },
   {
    "duration": 121,
    "start_time": "2022-03-30T12:54:55.169Z"
   },
   {
    "duration": 230,
    "start_time": "2022-03-30T12:54:55.292Z"
   },
   {
    "duration": 32,
    "start_time": "2022-03-30T12:54:55.524Z"
   },
   {
    "duration": 8,
    "start_time": "2022-03-30T12:54:55.558Z"
   },
   {
    "duration": 189,
    "start_time": "2022-03-30T12:54:55.568Z"
   },
   {
    "duration": 28152,
    "start_time": "2022-03-30T12:54:55.759Z"
   },
   {
    "duration": 10,
    "start_time": "2022-03-30T12:55:23.914Z"
   },
   {
    "duration": 199,
    "start_time": "2022-03-30T12:55:23.926Z"
   },
   {
    "duration": 85839,
    "start_time": "2022-03-30T12:55:24.127Z"
   },
   {
    "duration": 33,
    "start_time": "2022-03-30T12:56:49.969Z"
   },
   {
    "duration": 207,
    "start_time": "2022-03-30T12:56:50.004Z"
   },
   {
    "duration": 58,
    "start_time": "2022-03-30T12:56:50.213Z"
   },
   {
    "duration": 102,
    "start_time": "2022-03-30T12:56:50.350Z"
   },
   {
    "duration": 370,
    "start_time": "2022-03-30T12:56:50.456Z"
   },
   {
    "duration": 26,
    "start_time": "2022-03-30T12:56:50.830Z"
   },
   {
    "duration": 8,
    "start_time": "2022-03-30T12:56:50.858Z"
   },
   {
    "duration": 197,
    "start_time": "2022-03-30T12:56:50.868Z"
   },
   {
    "duration": 10028,
    "start_time": "2022-03-30T12:56:51.067Z"
   },
   {
    "duration": 11,
    "start_time": "2022-03-30T12:57:01.097Z"
   },
   {
    "duration": 203,
    "start_time": "2022-03-30T12:57:01.110Z"
   },
   {
    "duration": 40542,
    "start_time": "2022-03-30T12:57:01.315Z"
   },
   {
    "duration": 14,
    "start_time": "2022-03-30T12:57:41.859Z"
   },
   {
    "duration": 201,
    "start_time": "2022-03-30T12:57:41.876Z"
   },
   {
    "duration": 68,
    "start_time": "2022-03-30T12:57:42.079Z"
   },
   {
    "duration": 100,
    "start_time": "2022-03-30T12:57:42.151Z"
   },
   {
    "duration": 373,
    "start_time": "2022-03-30T12:57:42.255Z"
   },
   {
    "duration": 52,
    "start_time": "2022-03-30T12:57:42.631Z"
   },
   {
    "duration": 10,
    "start_time": "2022-03-30T12:57:42.685Z"
   },
   {
    "duration": 204,
    "start_time": "2022-03-30T12:57:42.697Z"
   },
   {
    "duration": 499,
    "start_time": "2022-03-30T12:57:42.904Z"
   },
   {
    "duration": 42,
    "start_time": "2022-03-30T12:57:43.406Z"
   },
   {
    "duration": 203,
    "start_time": "2022-03-30T12:57:43.451Z"
   },
   {
    "duration": 90,
    "start_time": "2022-03-30T12:57:43.656Z"
   },
   {
    "duration": 101,
    "start_time": "2022-03-30T12:57:43.750Z"
   },
   {
    "duration": 353,
    "start_time": "2022-03-30T12:57:43.947Z"
   },
   {
    "duration": 62689,
    "start_time": "2022-03-30T13:09:14.275Z"
   },
   {
    "duration": 171,
    "start_time": "2022-03-30T13:13:18.762Z"
   },
   {
    "duration": 120349,
    "start_time": "2022-03-30T13:13:32.560Z"
   },
   {
    "duration": 58,
    "start_time": "2022-03-30T13:16:32.287Z"
   },
   {
    "duration": 2131,
    "start_time": "2022-03-30T13:20:45.712Z"
   },
   {
    "duration": 59,
    "start_time": "2022-03-30T13:20:47.845Z"
   },
   {
    "duration": 19,
    "start_time": "2022-03-30T13:20:47.907Z"
   },
   {
    "duration": 18,
    "start_time": "2022-03-30T13:20:47.928Z"
   },
   {
    "duration": 13,
    "start_time": "2022-03-30T13:20:47.949Z"
   },
   {
    "duration": 8,
    "start_time": "2022-03-30T13:20:47.964Z"
   },
   {
    "duration": 18,
    "start_time": "2022-03-30T13:20:47.974Z"
   },
   {
    "duration": 5,
    "start_time": "2022-03-30T13:20:47.994Z"
   },
   {
    "duration": 55,
    "start_time": "2022-03-30T13:20:48.002Z"
   },
   {
    "duration": 13,
    "start_time": "2022-03-30T13:20:48.059Z"
   },
   {
    "duration": 31,
    "start_time": "2022-03-30T13:20:48.075Z"
   },
   {
    "duration": 44,
    "start_time": "2022-03-30T13:20:48.108Z"
   },
   {
    "duration": 54,
    "start_time": "2022-03-30T13:20:48.155Z"
   },
   {
    "duration": 30,
    "start_time": "2022-03-30T13:20:48.214Z"
   },
   {
    "duration": 170,
    "start_time": "2022-03-30T13:20:48.246Z"
   },
   {
    "duration": 28595,
    "start_time": "2022-03-30T13:20:48.418Z"
   },
   {
    "duration": 0,
    "start_time": "2022-03-30T13:21:17.017Z"
   },
   {
    "duration": 0,
    "start_time": "2022-03-30T13:21:17.018Z"
   },
   {
    "duration": 0,
    "start_time": "2022-03-30T13:21:17.019Z"
   },
   {
    "duration": 0,
    "start_time": "2022-03-30T13:21:17.021Z"
   },
   {
    "duration": 0,
    "start_time": "2022-03-30T13:21:17.022Z"
   },
   {
    "duration": 0,
    "start_time": "2022-03-30T13:21:17.023Z"
   },
   {
    "duration": 0,
    "start_time": "2022-03-30T13:21:17.024Z"
   },
   {
    "duration": 0,
    "start_time": "2022-03-30T13:21:17.043Z"
   },
   {
    "duration": 0,
    "start_time": "2022-03-30T13:21:17.044Z"
   },
   {
    "duration": 0,
    "start_time": "2022-03-30T13:21:17.046Z"
   },
   {
    "duration": 0,
    "start_time": "2022-03-30T13:21:17.047Z"
   },
   {
    "duration": 0,
    "start_time": "2022-03-30T13:21:17.049Z"
   },
   {
    "duration": 0,
    "start_time": "2022-03-30T13:21:17.051Z"
   },
   {
    "duration": 0,
    "start_time": "2022-03-30T13:21:17.052Z"
   },
   {
    "duration": 0,
    "start_time": "2022-03-30T13:21:17.053Z"
   },
   {
    "duration": 0,
    "start_time": "2022-03-30T13:21:17.055Z"
   },
   {
    "duration": 0,
    "start_time": "2022-03-30T13:21:17.056Z"
   },
   {
    "duration": 0,
    "start_time": "2022-03-30T13:21:17.058Z"
   },
   {
    "duration": 0,
    "start_time": "2022-03-30T13:21:17.059Z"
   },
   {
    "duration": 0,
    "start_time": "2022-03-30T13:21:17.060Z"
   },
   {
    "duration": 0,
    "start_time": "2022-03-30T13:21:17.062Z"
   },
   {
    "duration": 0,
    "start_time": "2022-03-30T13:21:17.063Z"
   },
   {
    "duration": 0,
    "start_time": "2022-03-30T13:21:17.065Z"
   },
   {
    "duration": 0,
    "start_time": "2022-03-30T13:21:17.066Z"
   },
   {
    "duration": 0,
    "start_time": "2022-03-30T13:21:17.068Z"
   },
   {
    "duration": 0,
    "start_time": "2022-03-30T13:21:17.070Z"
   },
   {
    "duration": 0,
    "start_time": "2022-03-30T13:21:17.071Z"
   },
   {
    "duration": 0,
    "start_time": "2022-03-30T13:21:17.073Z"
   },
   {
    "duration": 0,
    "start_time": "2022-03-30T13:21:17.074Z"
   },
   {
    "duration": 0,
    "start_time": "2022-03-30T13:21:17.076Z"
   },
   {
    "duration": 0,
    "start_time": "2022-03-30T13:21:17.077Z"
   },
   {
    "duration": 0,
    "start_time": "2022-03-30T13:21:17.078Z"
   },
   {
    "duration": 0,
    "start_time": "2022-03-30T13:21:17.079Z"
   },
   {
    "duration": 0,
    "start_time": "2022-03-30T13:21:17.081Z"
   },
   {
    "duration": 0,
    "start_time": "2022-03-30T13:21:17.082Z"
   },
   {
    "duration": 0,
    "start_time": "2022-03-30T13:21:17.144Z"
   },
   {
    "duration": 0,
    "start_time": "2022-03-30T13:21:17.145Z"
   },
   {
    "duration": 0,
    "start_time": "2022-03-30T13:21:17.148Z"
   },
   {
    "duration": 0,
    "start_time": "2022-03-30T13:21:17.150Z"
   },
   {
    "duration": 0,
    "start_time": "2022-03-30T13:21:17.152Z"
   },
   {
    "duration": 1,
    "start_time": "2022-03-30T13:21:17.154Z"
   },
   {
    "duration": 0,
    "start_time": "2022-03-30T13:21:17.157Z"
   },
   {
    "duration": 0,
    "start_time": "2022-03-30T13:21:17.159Z"
   },
   {
    "duration": 0,
    "start_time": "2022-03-30T13:21:17.162Z"
   },
   {
    "duration": 0,
    "start_time": "2022-03-30T13:21:17.164Z"
   },
   {
    "duration": 0,
    "start_time": "2022-03-30T13:21:17.166Z"
   },
   {
    "duration": 0,
    "start_time": "2022-03-30T13:21:17.168Z"
   },
   {
    "duration": 2146,
    "start_time": "2022-03-30T13:22:03.063Z"
   },
   {
    "duration": 90,
    "start_time": "2022-03-30T13:22:05.211Z"
   },
   {
    "duration": 24,
    "start_time": "2022-03-30T13:22:05.304Z"
   },
   {
    "duration": 5,
    "start_time": "2022-03-30T13:22:05.331Z"
   },
   {
    "duration": 16,
    "start_time": "2022-03-30T13:22:05.340Z"
   },
   {
    "duration": 9,
    "start_time": "2022-03-30T13:22:05.359Z"
   },
   {
    "duration": 18,
    "start_time": "2022-03-30T13:22:05.370Z"
   },
   {
    "duration": 5,
    "start_time": "2022-03-30T13:22:05.391Z"
   },
   {
    "duration": 55,
    "start_time": "2022-03-30T13:22:05.399Z"
   },
   {
    "duration": 15,
    "start_time": "2022-03-30T13:22:05.457Z"
   },
   {
    "duration": 29,
    "start_time": "2022-03-30T13:22:05.475Z"
   },
   {
    "duration": 47,
    "start_time": "2022-03-30T13:22:05.507Z"
   },
   {
    "duration": 47,
    "start_time": "2022-03-30T13:22:05.557Z"
   },
   {
    "duration": 35,
    "start_time": "2022-03-30T13:22:05.608Z"
   },
   {
    "duration": 198,
    "start_time": "2022-03-30T13:22:05.645Z"
   },
   {
    "duration": 26858,
    "start_time": "2022-03-30T13:22:05.845Z"
   },
   {
    "duration": 11,
    "start_time": "2022-03-30T13:22:32.705Z"
   },
   {
    "duration": 214,
    "start_time": "2022-03-30T13:22:32.719Z"
   },
   {
    "duration": 125933,
    "start_time": "2022-03-30T13:22:32.943Z"
   },
   {
    "duration": 0,
    "start_time": "2022-03-30T13:24:38.880Z"
   },
   {
    "duration": 0,
    "start_time": "2022-03-30T13:24:38.882Z"
   },
   {
    "duration": 0,
    "start_time": "2022-03-30T13:24:38.885Z"
   },
   {
    "duration": 0,
    "start_time": "2022-03-30T13:24:38.887Z"
   },
   {
    "duration": 0,
    "start_time": "2022-03-30T13:24:38.890Z"
   },
   {
    "duration": 0,
    "start_time": "2022-03-30T13:24:38.893Z"
   },
   {
    "duration": 0,
    "start_time": "2022-03-30T13:24:38.895Z"
   },
   {
    "duration": 0,
    "start_time": "2022-03-30T13:24:38.897Z"
   },
   {
    "duration": 0,
    "start_time": "2022-03-30T13:24:38.900Z"
   },
   {
    "duration": 0,
    "start_time": "2022-03-30T13:24:38.902Z"
   },
   {
    "duration": 0,
    "start_time": "2022-03-30T13:24:38.943Z"
   },
   {
    "duration": 0,
    "start_time": "2022-03-30T13:24:38.945Z"
   },
   {
    "duration": 0,
    "start_time": "2022-03-30T13:24:38.947Z"
   },
   {
    "duration": 0,
    "start_time": "2022-03-30T13:24:38.948Z"
   },
   {
    "duration": 0,
    "start_time": "2022-03-30T13:24:38.949Z"
   },
   {
    "duration": 0,
    "start_time": "2022-03-30T13:24:38.950Z"
   },
   {
    "duration": 0,
    "start_time": "2022-03-30T13:24:38.951Z"
   },
   {
    "duration": 0,
    "start_time": "2022-03-30T13:24:38.953Z"
   },
   {
    "duration": 0,
    "start_time": "2022-03-30T13:24:38.954Z"
   },
   {
    "duration": 0,
    "start_time": "2022-03-30T13:24:38.956Z"
   },
   {
    "duration": 0,
    "start_time": "2022-03-30T13:24:38.957Z"
   },
   {
    "duration": 0,
    "start_time": "2022-03-30T13:24:38.958Z"
   },
   {
    "duration": 0,
    "start_time": "2022-03-30T13:24:38.959Z"
   },
   {
    "duration": 0,
    "start_time": "2022-03-30T13:24:38.960Z"
   },
   {
    "duration": 1,
    "start_time": "2022-03-30T13:24:38.961Z"
   },
   {
    "duration": 0,
    "start_time": "2022-03-30T13:24:38.963Z"
   },
   {
    "duration": 0,
    "start_time": "2022-03-30T13:24:38.964Z"
   },
   {
    "duration": 0,
    "start_time": "2022-03-30T13:24:38.965Z"
   },
   {
    "duration": 0,
    "start_time": "2022-03-30T13:24:38.967Z"
   },
   {
    "duration": 0,
    "start_time": "2022-03-30T13:24:38.968Z"
   },
   {
    "duration": 0,
    "start_time": "2022-03-30T13:24:38.969Z"
   },
   {
    "duration": 0,
    "start_time": "2022-03-30T13:24:38.970Z"
   },
   {
    "duration": 0,
    "start_time": "2022-03-30T13:24:38.971Z"
   },
   {
    "duration": 0,
    "start_time": "2022-03-30T13:24:38.973Z"
   },
   {
    "duration": 0,
    "start_time": "2022-03-30T13:24:38.974Z"
   },
   {
    "duration": 0,
    "start_time": "2022-03-30T13:24:38.975Z"
   },
   {
    "duration": 0,
    "start_time": "2022-03-30T13:24:38.976Z"
   },
   {
    "duration": 0,
    "start_time": "2022-03-30T13:24:38.977Z"
   },
   {
    "duration": 0,
    "start_time": "2022-03-30T13:24:38.979Z"
   },
   {
    "duration": 0,
    "start_time": "2022-03-30T13:24:38.980Z"
   },
   {
    "duration": 0,
    "start_time": "2022-03-30T13:24:38.981Z"
   },
   {
    "duration": 0,
    "start_time": "2022-03-30T13:24:38.982Z"
   },
   {
    "duration": 0,
    "start_time": "2022-03-30T13:24:38.983Z"
   },
   {
    "duration": 0,
    "start_time": "2022-03-30T13:24:38.984Z"
   },
   {
    "duration": 1935,
    "start_time": "2022-03-30T13:25:10.326Z"
   },
   {
    "duration": 58,
    "start_time": "2022-03-30T13:25:12.264Z"
   },
   {
    "duration": 22,
    "start_time": "2022-03-30T13:25:12.324Z"
   },
   {
    "duration": 5,
    "start_time": "2022-03-30T13:25:12.348Z"
   },
   {
    "duration": 8,
    "start_time": "2022-03-30T13:25:12.357Z"
   },
   {
    "duration": 9,
    "start_time": "2022-03-30T13:25:12.367Z"
   },
   {
    "duration": 16,
    "start_time": "2022-03-30T13:25:12.379Z"
   },
   {
    "duration": 5,
    "start_time": "2022-03-30T13:25:12.397Z"
   },
   {
    "duration": 18,
    "start_time": "2022-03-30T13:25:12.443Z"
   },
   {
    "duration": 14,
    "start_time": "2022-03-30T13:25:12.463Z"
   },
   {
    "duration": 26,
    "start_time": "2022-03-30T13:25:12.479Z"
   },
   {
    "duration": 16,
    "start_time": "2022-03-30T13:25:12.544Z"
   },
   {
    "duration": 47,
    "start_time": "2022-03-30T13:25:12.562Z"
   },
   {
    "duration": 33,
    "start_time": "2022-03-30T13:25:12.614Z"
   },
   {
    "duration": 165,
    "start_time": "2022-03-30T13:25:12.649Z"
   },
   {
    "duration": 27316,
    "start_time": "2022-03-30T13:25:12.816Z"
   },
   {
    "duration": 13,
    "start_time": "2022-03-30T13:25:40.134Z"
   },
   {
    "duration": 199,
    "start_time": "2022-03-30T13:25:40.149Z"
   },
   {
    "duration": 121365,
    "start_time": "2022-03-30T13:25:40.350Z"
   },
   {
    "duration": 31,
    "start_time": "2022-03-30T13:27:41.717Z"
   },
   {
    "duration": 195,
    "start_time": "2022-03-30T13:27:41.751Z"
   },
   {
    "duration": 196,
    "start_time": "2022-03-30T13:27:41.948Z"
   },
   {
    "duration": 12,
    "start_time": "2022-03-30T13:27:42.146Z"
   },
   {
    "duration": 365,
    "start_time": "2022-03-30T13:27:42.160Z"
   },
   {
    "duration": 50,
    "start_time": "2022-03-30T13:27:42.527Z"
   },
   {
    "duration": 120,
    "start_time": "2022-03-30T13:27:42.580Z"
   },
   {
    "duration": 141,
    "start_time": "2022-03-30T13:27:42.702Z"
   },
   {
    "duration": 197,
    "start_time": "2022-03-30T13:27:42.846Z"
   },
   {
    "duration": 169,
    "start_time": "2022-03-30T13:27:43.045Z"
   },
   {
    "duration": 305,
    "start_time": "2022-03-30T13:27:43.217Z"
   },
   {
    "duration": 29,
    "start_time": "2022-03-30T13:27:43.525Z"
   },
   {
    "duration": 14,
    "start_time": "2022-03-30T13:27:43.556Z"
   },
   {
    "duration": 195,
    "start_time": "2022-03-30T13:27:43.572Z"
   },
   {
    "duration": 32154,
    "start_time": "2022-03-30T13:27:43.769Z"
   },
   {
    "duration": 22,
    "start_time": "2022-03-30T13:28:15.926Z"
   },
   {
    "duration": 290,
    "start_time": "2022-03-30T13:28:15.951Z"
   },
   {
    "duration": 117853,
    "start_time": "2022-03-30T13:28:16.244Z"
   },
   {
    "duration": 44,
    "start_time": "2022-03-30T13:30:14.099Z"
   },
   {
    "duration": 286,
    "start_time": "2022-03-30T13:30:14.145Z"
   },
   {
    "duration": 122,
    "start_time": "2022-03-30T13:30:14.433Z"
   },
   {
    "duration": 96,
    "start_time": "2022-03-30T13:30:14.647Z"
   },
   {
    "duration": 282,
    "start_time": "2022-03-30T13:30:14.747Z"
   },
   {
    "duration": 23,
    "start_time": "2022-03-30T13:30:15.031Z"
   },
   {
    "duration": 24,
    "start_time": "2022-03-30T13:30:15.072Z"
   },
   {
    "duration": 187,
    "start_time": "2022-03-30T13:30:15.104Z"
   },
   {
    "duration": 10784,
    "start_time": "2022-03-30T13:30:15.293Z"
   },
   {
    "duration": 12,
    "start_time": "2022-03-30T13:30:26.080Z"
   },
   {
    "duration": 204,
    "start_time": "2022-03-30T13:30:26.095Z"
   },
   {
    "duration": 118,
    "start_time": "2022-03-30T13:35:06.784Z"
   },
   {
    "duration": 3456,
    "start_time": "2022-03-30T13:35:15.702Z"
   },
   {
    "duration": 80,
    "start_time": "2022-03-30T13:35:19.161Z"
   },
   {
    "duration": 18,
    "start_time": "2022-03-30T13:35:19.243Z"
   },
   {
    "duration": 4,
    "start_time": "2022-03-30T13:35:19.262Z"
   },
   {
    "duration": 12,
    "start_time": "2022-03-30T13:35:19.269Z"
   },
   {
    "duration": 9,
    "start_time": "2022-03-30T13:35:19.283Z"
   },
   {
    "duration": 16,
    "start_time": "2022-03-30T13:35:19.294Z"
   },
   {
    "duration": 6,
    "start_time": "2022-03-30T13:35:19.342Z"
   },
   {
    "duration": 20,
    "start_time": "2022-03-30T13:35:19.350Z"
   },
   {
    "duration": 11,
    "start_time": "2022-03-30T13:35:19.372Z"
   },
   {
    "duration": 61,
    "start_time": "2022-03-30T13:35:19.385Z"
   },
   {
    "duration": 15,
    "start_time": "2022-03-30T13:35:19.448Z"
   },
   {
    "duration": 47,
    "start_time": "2022-03-30T13:35:19.465Z"
   },
   {
    "duration": 7,
    "start_time": "2022-03-30T13:35:19.544Z"
   },
   {
    "duration": 175,
    "start_time": "2022-03-30T13:35:19.553Z"
   },
   {
    "duration": 30835,
    "start_time": "2022-03-30T13:35:19.731Z"
   },
   {
    "duration": 14,
    "start_time": "2022-03-30T13:35:50.569Z"
   },
   {
    "duration": 257,
    "start_time": "2022-03-30T13:35:50.586Z"
   },
   {
    "duration": 136074,
    "start_time": "2022-03-30T13:35:50.846Z"
   },
   {
    "duration": 27,
    "start_time": "2022-03-30T13:38:06.922Z"
   },
   {
    "duration": 208,
    "start_time": "2022-03-30T13:38:06.951Z"
   },
   {
    "duration": 88,
    "start_time": "2022-03-30T13:38:07.161Z"
   },
   {
    "duration": 190,
    "start_time": "2022-03-30T13:38:07.253Z"
   },
   {
    "duration": 282,
    "start_time": "2022-03-30T13:38:07.446Z"
   },
   {
    "duration": 54,
    "start_time": "2022-03-30T13:38:07.731Z"
   },
   {
    "duration": 192,
    "start_time": "2022-03-30T13:38:07.787Z"
   },
   {
    "duration": 64,
    "start_time": "2022-03-30T13:38:07.981Z"
   },
   {
    "duration": 204,
    "start_time": "2022-03-30T13:38:08.050Z"
   },
   {
    "duration": 117,
    "start_time": "2022-03-30T13:38:08.256Z"
   },
   {
    "duration": 248,
    "start_time": "2022-03-30T13:38:08.375Z"
   },
   {
    "duration": 16,
    "start_time": "2022-03-30T13:38:08.642Z"
   },
   {
    "duration": 8,
    "start_time": "2022-03-30T13:38:08.661Z"
   },
   {
    "duration": 199,
    "start_time": "2022-03-30T13:38:08.672Z"
   },
   {
    "duration": 31156,
    "start_time": "2022-03-30T13:38:08.874Z"
   },
   {
    "duration": 19,
    "start_time": "2022-03-30T13:38:40.033Z"
   },
   {
    "duration": 204,
    "start_time": "2022-03-30T13:38:40.055Z"
   },
   {
    "duration": 90498,
    "start_time": "2022-03-30T13:38:40.262Z"
   },
   {
    "duration": 28,
    "start_time": "2022-03-30T13:40:10.762Z"
   },
   {
    "duration": 203,
    "start_time": "2022-03-30T13:40:10.792Z"
   },
   {
    "duration": 57,
    "start_time": "2022-03-30T13:40:10.998Z"
   },
   {
    "duration": 101,
    "start_time": "2022-03-30T13:40:11.152Z"
   },
   {
    "duration": 373,
    "start_time": "2022-03-30T13:40:11.255Z"
   },
   {
    "duration": 20,
    "start_time": "2022-03-30T13:40:11.631Z"
   },
   {
    "duration": 7,
    "start_time": "2022-03-30T13:40:11.653Z"
   },
   {
    "duration": 189,
    "start_time": "2022-03-30T13:40:11.662Z"
   },
   {
    "duration": 10309,
    "start_time": "2022-03-30T13:40:11.853Z"
   },
   {
    "duration": 10,
    "start_time": "2022-03-30T13:40:22.164Z"
   },
   {
    "duration": 204,
    "start_time": "2022-03-30T13:40:22.176Z"
   },
   {
    "duration": 44004,
    "start_time": "2022-03-30T13:40:22.383Z"
   },
   {
    "duration": 14,
    "start_time": "2022-03-30T13:41:06.390Z"
   },
   {
    "duration": 212,
    "start_time": "2022-03-30T13:41:06.406Z"
   },
   {
    "duration": 32,
    "start_time": "2022-03-30T13:41:06.620Z"
   },
   {
    "duration": 190,
    "start_time": "2022-03-30T13:41:06.655Z"
   },
   {
    "duration": 277,
    "start_time": "2022-03-30T13:41:06.849Z"
   },
   {
    "duration": 52,
    "start_time": "2022-03-30T13:41:07.128Z"
   },
   {
    "duration": 10,
    "start_time": "2022-03-30T13:41:07.183Z"
   },
   {
    "duration": 202,
    "start_time": "2022-03-30T13:41:07.196Z"
   },
   {
    "duration": 498,
    "start_time": "2022-03-30T13:41:07.400Z"
   },
   {
    "duration": 28,
    "start_time": "2022-03-30T13:41:07.900Z"
   },
   {
    "duration": 187,
    "start_time": "2022-03-30T13:41:07.942Z"
   },
   {
    "duration": 111,
    "start_time": "2022-03-30T13:41:08.132Z"
   },
   {
    "duration": 109,
    "start_time": "2022-03-30T13:41:08.246Z"
   },
   {
    "duration": 372,
    "start_time": "2022-03-30T13:41:08.444Z"
   },
   {
    "duration": 124,
    "start_time": "2022-03-30T13:41:08.818Z"
   },
   {
    "duration": 49,
    "start_time": "2022-03-30T13:54:52.176Z"
   },
   {
    "duration": 1603,
    "start_time": "2022-03-30T13:55:57.627Z"
   },
   {
    "duration": 48,
    "start_time": "2022-03-30T13:55:59.232Z"
   },
   {
    "duration": 15,
    "start_time": "2022-03-30T13:55:59.282Z"
   },
   {
    "duration": 3,
    "start_time": "2022-03-30T13:55:59.300Z"
   },
   {
    "duration": 11,
    "start_time": "2022-03-30T13:55:59.305Z"
   },
   {
    "duration": 22,
    "start_time": "2022-03-30T13:55:59.318Z"
   },
   {
    "duration": 13,
    "start_time": "2022-03-30T13:55:59.342Z"
   },
   {
    "duration": 5,
    "start_time": "2022-03-30T13:55:59.356Z"
   },
   {
    "duration": 14,
    "start_time": "2022-03-30T13:55:59.362Z"
   },
   {
    "duration": 10,
    "start_time": "2022-03-30T13:55:59.379Z"
   },
   {
    "duration": 48,
    "start_time": "2022-03-30T13:55:59.391Z"
   },
   {
    "duration": 12,
    "start_time": "2022-03-30T13:55:59.440Z"
   },
   {
    "duration": 38,
    "start_time": "2022-03-30T13:55:59.454Z"
   },
   {
    "duration": 6,
    "start_time": "2022-03-30T13:55:59.494Z"
   },
   {
    "duration": 138,
    "start_time": "2022-03-30T13:55:59.502Z"
   },
   {
    "duration": 18698,
    "start_time": "2022-03-30T13:55:59.642Z"
   },
   {
    "duration": 8,
    "start_time": "2022-03-30T13:56:18.341Z"
   },
   {
    "duration": 131,
    "start_time": "2022-03-30T13:56:18.351Z"
   },
   {
    "duration": 80890,
    "start_time": "2022-03-30T13:56:18.483Z"
   },
   {
    "duration": 15,
    "start_time": "2022-03-30T13:57:39.375Z"
   },
   {
    "duration": 124,
    "start_time": "2022-03-30T13:57:39.391Z"
   },
   {
    "duration": 120,
    "start_time": "2022-03-30T13:57:39.517Z"
   },
   {
    "duration": 98,
    "start_time": "2022-03-30T13:57:39.640Z"
   },
   {
    "duration": 212,
    "start_time": "2022-03-30T13:57:39.741Z"
   },
   {
    "duration": 30,
    "start_time": "2022-03-30T13:57:39.954Z"
   },
   {
    "duration": 138,
    "start_time": "2022-03-30T13:57:39.986Z"
   },
   {
    "duration": 30,
    "start_time": "2022-03-30T13:57:40.126Z"
   },
   {
    "duration": 368,
    "start_time": "2022-03-30T13:57:40.161Z"
   },
   {
    "duration": 73,
    "start_time": "2022-03-30T13:57:40.531Z"
   },
   {
    "duration": 189,
    "start_time": "2022-03-30T13:57:40.606Z"
   },
   {
    "duration": 12,
    "start_time": "2022-03-30T13:57:40.839Z"
   },
   {
    "duration": 5,
    "start_time": "2022-03-30T13:57:40.853Z"
   },
   {
    "duration": 125,
    "start_time": "2022-03-30T13:57:40.859Z"
   },
   {
    "duration": 18840,
    "start_time": "2022-03-30T13:57:40.986Z"
   },
   {
    "duration": 13,
    "start_time": "2022-03-30T13:57:59.828Z"
   },
   {
    "duration": 123,
    "start_time": "2022-03-30T13:57:59.842Z"
   },
   {
    "duration": 58115,
    "start_time": "2022-03-30T13:57:59.967Z"
   },
   {
    "duration": 24,
    "start_time": "2022-03-30T13:58:58.084Z"
   },
   {
    "duration": 140,
    "start_time": "2022-03-30T13:58:58.111Z"
   },
   {
    "duration": 89,
    "start_time": "2022-03-30T13:58:58.253Z"
   },
   {
    "duration": 104,
    "start_time": "2022-03-30T13:58:58.344Z"
   },
   {
    "duration": 229,
    "start_time": "2022-03-30T13:58:58.540Z"
   },
   {
    "duration": 11,
    "start_time": "2022-03-30T13:58:58.771Z"
   },
   {
    "duration": 6,
    "start_time": "2022-03-30T13:58:58.784Z"
   },
   {
    "duration": 132,
    "start_time": "2022-03-30T13:58:58.791Z"
   },
   {
    "duration": 7159,
    "start_time": "2022-03-30T13:58:58.925Z"
   },
   {
    "duration": 8,
    "start_time": "2022-03-30T13:59:06.086Z"
   },
   {
    "duration": 129,
    "start_time": "2022-03-30T13:59:06.096Z"
   },
   {
    "duration": 27644,
    "start_time": "2022-03-30T13:59:06.227Z"
   },
   {
    "duration": 13,
    "start_time": "2022-03-30T13:59:33.873Z"
   },
   {
    "duration": 133,
    "start_time": "2022-03-30T13:59:33.888Z"
   },
   {
    "duration": 28,
    "start_time": "2022-03-30T13:59:34.023Z"
   },
   {
    "duration": 184,
    "start_time": "2022-03-30T13:59:34.053Z"
   },
   {
    "duration": 216,
    "start_time": "2022-03-30T13:59:34.240Z"
   },
   {
    "duration": 30,
    "start_time": "2022-03-30T13:59:34.457Z"
   },
   {
    "duration": 7,
    "start_time": "2022-03-30T13:59:34.489Z"
   },
   {
    "duration": 140,
    "start_time": "2022-03-30T13:59:34.497Z"
   },
   {
    "duration": 312,
    "start_time": "2022-03-30T13:59:34.639Z"
   },
   {
    "duration": 23,
    "start_time": "2022-03-30T13:59:34.953Z"
   },
   {
    "duration": 132,
    "start_time": "2022-03-30T13:59:34.978Z"
   },
   {
    "duration": 37,
    "start_time": "2022-03-30T13:59:35.111Z"
   },
   {
    "duration": 97,
    "start_time": "2022-03-30T13:59:35.150Z"
   },
   {
    "duration": 302,
    "start_time": "2022-03-30T13:59:35.343Z"
   },
   {
    "duration": 1434,
    "start_time": "2022-03-30T14:01:34.109Z"
   },
   {
    "duration": 38,
    "start_time": "2022-03-30T14:01:35.545Z"
   },
   {
    "duration": 13,
    "start_time": "2022-03-30T14:01:35.585Z"
   },
   {
    "duration": 3,
    "start_time": "2022-03-30T14:01:35.600Z"
   },
   {
    "duration": 9,
    "start_time": "2022-03-30T14:01:35.605Z"
   },
   {
    "duration": 22,
    "start_time": "2022-03-30T14:01:35.616Z"
   },
   {
    "duration": 15,
    "start_time": "2022-03-30T14:01:35.640Z"
   },
   {
    "duration": 5,
    "start_time": "2022-03-30T14:01:35.657Z"
   },
   {
    "duration": 27,
    "start_time": "2022-03-30T14:01:35.664Z"
   },
   {
    "duration": 11,
    "start_time": "2022-03-30T14:01:35.694Z"
   },
   {
    "duration": 36,
    "start_time": "2022-03-30T14:01:35.707Z"
   },
   {
    "duration": 12,
    "start_time": "2022-03-30T14:01:35.745Z"
   },
   {
    "duration": 42,
    "start_time": "2022-03-30T14:01:35.759Z"
   },
   {
    "duration": 6,
    "start_time": "2022-03-30T14:01:35.802Z"
   },
   {
    "duration": 122,
    "start_time": "2022-03-30T14:01:35.810Z"
   },
   {
    "duration": 18371,
    "start_time": "2022-03-30T14:01:35.937Z"
   },
   {
    "duration": 7,
    "start_time": "2022-03-30T14:01:54.310Z"
   },
   {
    "duration": 128,
    "start_time": "2022-03-30T14:01:54.319Z"
   },
   {
    "duration": 79506,
    "start_time": "2022-03-30T14:01:54.449Z"
   },
   {
    "duration": 16,
    "start_time": "2022-03-30T14:03:13.957Z"
   },
   {
    "duration": 125,
    "start_time": "2022-03-30T14:03:13.974Z"
   },
   {
    "duration": 40,
    "start_time": "2022-03-30T14:03:14.101Z"
   },
   {
    "duration": 97,
    "start_time": "2022-03-30T14:03:14.143Z"
   },
   {
    "duration": 209,
    "start_time": "2022-03-30T14:03:14.242Z"
   },
   {
    "duration": 29,
    "start_time": "2022-03-30T14:03:14.453Z"
   },
   {
    "duration": 128,
    "start_time": "2022-03-30T14:03:14.484Z"
   },
   {
    "duration": 38,
    "start_time": "2022-03-30T14:03:14.614Z"
   },
   {
    "duration": 282,
    "start_time": "2022-03-30T14:03:14.739Z"
   },
   {
    "duration": 197,
    "start_time": "2022-03-30T14:03:15.023Z"
   },
   {
    "duration": 407,
    "start_time": "2022-03-30T14:03:15.222Z"
   },
   {
    "duration": 17,
    "start_time": "2022-03-30T14:03:15.630Z"
   },
   {
    "duration": 17,
    "start_time": "2022-03-30T14:03:15.649Z"
   },
   {
    "duration": 123,
    "start_time": "2022-03-30T14:03:15.668Z"
   },
   {
    "duration": 18781,
    "start_time": "2022-03-30T14:03:15.793Z"
   },
   {
    "duration": 7,
    "start_time": "2022-03-30T14:03:34.576Z"
   },
   {
    "duration": 122,
    "start_time": "2022-03-30T14:03:34.585Z"
   },
   {
    "duration": 55787,
    "start_time": "2022-03-30T14:03:34.709Z"
   },
   {
    "duration": 25,
    "start_time": "2022-03-30T14:04:30.498Z"
   },
   {
    "duration": 138,
    "start_time": "2022-03-30T14:04:30.525Z"
   },
   {
    "duration": 77,
    "start_time": "2022-03-30T14:04:30.665Z"
   },
   {
    "duration": 103,
    "start_time": "2022-03-30T14:04:30.744Z"
   },
   {
    "duration": 224,
    "start_time": "2022-03-30T14:04:30.937Z"
   },
   {
    "duration": 12,
    "start_time": "2022-03-30T14:04:31.162Z"
   },
   {
    "duration": 16,
    "start_time": "2022-03-30T14:04:31.176Z"
   },
   {
    "duration": 121,
    "start_time": "2022-03-30T14:04:31.194Z"
   },
   {
    "duration": 6955,
    "start_time": "2022-03-30T14:04:31.316Z"
   },
   {
    "duration": 7,
    "start_time": "2022-03-30T14:04:38.273Z"
   },
   {
    "duration": 127,
    "start_time": "2022-03-30T14:04:38.282Z"
   },
   {
    "duration": 27528,
    "start_time": "2022-03-30T14:04:38.411Z"
   },
   {
    "duration": 11,
    "start_time": "2022-03-30T14:05:05.941Z"
   },
   {
    "duration": 126,
    "start_time": "2022-03-30T14:05:05.954Z"
   },
   {
    "duration": 59,
    "start_time": "2022-03-30T14:05:06.082Z"
   },
   {
    "duration": 107,
    "start_time": "2022-03-30T14:05:06.145Z"
   },
   {
    "duration": 300,
    "start_time": "2022-03-30T14:05:06.254Z"
   },
   {
    "duration": 30,
    "start_time": "2022-03-30T14:05:06.556Z"
   },
   {
    "duration": 8,
    "start_time": "2022-03-30T14:05:06.588Z"
   },
   {
    "duration": 133,
    "start_time": "2022-03-30T14:05:06.597Z"
   },
   {
    "duration": 327,
    "start_time": "2022-03-30T14:05:06.732Z"
   },
   {
    "duration": 24,
    "start_time": "2022-03-30T14:05:07.061Z"
   },
   {
    "duration": 126,
    "start_time": "2022-03-30T14:05:07.086Z"
   },
   {
    "duration": 30,
    "start_time": "2022-03-30T14:05:07.213Z"
   },
   {
    "duration": 101,
    "start_time": "2022-03-30T14:05:07.245Z"
   },
   {
    "duration": 397,
    "start_time": "2022-03-30T14:05:07.348Z"
   },
   {
    "duration": 5,
    "start_time": "2022-03-30T14:07:01.891Z"
   },
   {
    "duration": 338,
    "start_time": "2022-03-30T14:07:12.470Z"
   },
   {
    "duration": 24335,
    "start_time": "2022-03-30T14:12:10.321Z"
   },
   {
    "duration": 1425,
    "start_time": "2022-03-30T14:16:44.726Z"
   },
   {
    "duration": 44,
    "start_time": "2022-03-30T14:16:46.153Z"
   },
   {
    "duration": 14,
    "start_time": "2022-03-30T14:16:46.198Z"
   },
   {
    "duration": 3,
    "start_time": "2022-03-30T14:16:46.214Z"
   },
   {
    "duration": 10,
    "start_time": "2022-03-30T14:16:46.218Z"
   },
   {
    "duration": 11,
    "start_time": "2022-03-30T14:16:46.229Z"
   },
   {
    "duration": 12,
    "start_time": "2022-03-30T14:16:46.241Z"
   },
   {
    "duration": 4,
    "start_time": "2022-03-30T14:16:46.254Z"
   },
   {
    "duration": 16,
    "start_time": "2022-03-30T14:16:46.260Z"
   },
   {
    "duration": 8,
    "start_time": "2022-03-30T14:16:46.279Z"
   },
   {
    "duration": 19,
    "start_time": "2022-03-30T14:16:46.288Z"
   },
   {
    "duration": 38,
    "start_time": "2022-03-30T14:16:46.308Z"
   },
   {
    "duration": 30,
    "start_time": "2022-03-30T14:16:46.348Z"
   },
   {
    "duration": 4,
    "start_time": "2022-03-30T14:16:46.380Z"
   },
   {
    "duration": 127,
    "start_time": "2022-03-30T14:16:46.386Z"
   },
   {
    "duration": 18390,
    "start_time": "2022-03-30T14:16:46.515Z"
   },
   {
    "duration": 7,
    "start_time": "2022-03-30T14:17:04.907Z"
   },
   {
    "duration": 125,
    "start_time": "2022-03-30T14:17:04.916Z"
   },
   {
    "duration": 80353,
    "start_time": "2022-03-30T14:17:05.043Z"
   },
   {
    "duration": 15,
    "start_time": "2022-03-30T14:18:25.398Z"
   },
   {
    "duration": 127,
    "start_time": "2022-03-30T14:18:25.415Z"
   },
   {
    "duration": 24,
    "start_time": "2022-03-30T14:18:25.544Z"
   },
   {
    "duration": 101,
    "start_time": "2022-03-30T14:18:25.642Z"
   },
   {
    "duration": 207,
    "start_time": "2022-03-30T14:18:25.747Z"
   },
   {
    "duration": 28,
    "start_time": "2022-03-30T14:18:25.956Z"
   },
   {
    "duration": 133,
    "start_time": "2022-03-30T14:18:25.986Z"
   },
   {
    "duration": 36,
    "start_time": "2022-03-30T14:18:26.121Z"
   },
   {
    "duration": 286,
    "start_time": "2022-03-30T14:18:26.239Z"
   },
   {
    "duration": 200,
    "start_time": "2022-03-30T14:18:26.527Z"
   },
   {
    "duration": 371,
    "start_time": "2022-03-30T14:18:26.729Z"
   },
   {
    "duration": 11,
    "start_time": "2022-03-30T14:18:27.102Z"
   },
   {
    "duration": 5,
    "start_time": "2022-03-30T14:18:27.115Z"
   },
   {
    "duration": 121,
    "start_time": "2022-03-30T14:18:27.137Z"
   },
   {
    "duration": 24008,
    "start_time": "2022-03-30T14:18:27.261Z"
   },
   {
    "duration": 8,
    "start_time": "2022-03-30T14:18:51.270Z"
   },
   {
    "duration": 127,
    "start_time": "2022-03-30T14:18:51.280Z"
   },
   {
    "duration": 117,
    "start_time": "2022-03-30T14:18:51.408Z"
   },
   {
    "duration": 0,
    "start_time": "2022-03-30T14:18:51.526Z"
   },
   {
    "duration": 0,
    "start_time": "2022-03-30T14:18:51.528Z"
   },
   {
    "duration": 0,
    "start_time": "2022-03-30T14:18:51.537Z"
   },
   {
    "duration": 0,
    "start_time": "2022-03-30T14:18:51.538Z"
   },
   {
    "duration": 0,
    "start_time": "2022-03-30T14:18:51.539Z"
   },
   {
    "duration": 0,
    "start_time": "2022-03-30T14:18:51.540Z"
   },
   {
    "duration": 0,
    "start_time": "2022-03-30T14:18:51.541Z"
   },
   {
    "duration": 0,
    "start_time": "2022-03-30T14:18:51.542Z"
   },
   {
    "duration": 0,
    "start_time": "2022-03-30T14:18:51.543Z"
   },
   {
    "duration": 0,
    "start_time": "2022-03-30T14:18:51.544Z"
   },
   {
    "duration": 0,
    "start_time": "2022-03-30T14:18:51.545Z"
   },
   {
    "duration": 0,
    "start_time": "2022-03-30T14:18:51.546Z"
   },
   {
    "duration": 0,
    "start_time": "2022-03-30T14:18:51.547Z"
   },
   {
    "duration": 0,
    "start_time": "2022-03-30T14:18:51.548Z"
   },
   {
    "duration": 0,
    "start_time": "2022-03-30T14:18:51.549Z"
   },
   {
    "duration": 0,
    "start_time": "2022-03-30T14:18:51.550Z"
   },
   {
    "duration": 0,
    "start_time": "2022-03-30T14:18:51.551Z"
   },
   {
    "duration": 0,
    "start_time": "2022-03-30T14:18:51.552Z"
   },
   {
    "duration": 0,
    "start_time": "2022-03-30T14:18:51.552Z"
   },
   {
    "duration": 0,
    "start_time": "2022-03-30T14:18:51.554Z"
   },
   {
    "duration": 0,
    "start_time": "2022-03-30T14:18:51.554Z"
   },
   {
    "duration": 0,
    "start_time": "2022-03-30T14:18:51.555Z"
   },
   {
    "duration": 0,
    "start_time": "2022-03-30T14:18:51.557Z"
   },
   {
    "duration": 0,
    "start_time": "2022-03-30T14:18:51.558Z"
   },
   {
    "duration": 0,
    "start_time": "2022-03-30T14:18:51.559Z"
   },
   {
    "duration": 0,
    "start_time": "2022-03-30T14:18:51.560Z"
   },
   {
    "duration": 1662,
    "start_time": "2022-03-30T14:19:51.051Z"
   },
   {
    "duration": 44,
    "start_time": "2022-03-30T14:19:52.715Z"
   },
   {
    "duration": 17,
    "start_time": "2022-03-30T14:19:52.761Z"
   },
   {
    "duration": 3,
    "start_time": "2022-03-30T14:19:52.780Z"
   },
   {
    "duration": 26,
    "start_time": "2022-03-30T14:19:52.785Z"
   },
   {
    "duration": 12,
    "start_time": "2022-03-30T14:19:52.812Z"
   },
   {
    "duration": 16,
    "start_time": "2022-03-30T14:19:52.826Z"
   },
   {
    "duration": 6,
    "start_time": "2022-03-30T14:19:52.844Z"
   },
   {
    "duration": 20,
    "start_time": "2022-03-30T14:19:52.852Z"
   },
   {
    "duration": 10,
    "start_time": "2022-03-30T14:19:52.875Z"
   },
   {
    "duration": 21,
    "start_time": "2022-03-30T14:19:52.887Z"
   },
   {
    "duration": 16,
    "start_time": "2022-03-30T14:19:52.937Z"
   },
   {
    "duration": 45,
    "start_time": "2022-03-30T14:19:52.954Z"
   },
   {
    "duration": 6,
    "start_time": "2022-03-30T14:19:53.002Z"
   },
   {
    "duration": 131,
    "start_time": "2022-03-30T14:19:53.010Z"
   },
   {
    "duration": 18490,
    "start_time": "2022-03-30T14:19:53.143Z"
   },
   {
    "duration": 8,
    "start_time": "2022-03-30T14:20:11.635Z"
   },
   {
    "duration": 128,
    "start_time": "2022-03-30T14:20:11.645Z"
   },
   {
    "duration": 80378,
    "start_time": "2022-03-30T14:20:11.774Z"
   },
   {
    "duration": 16,
    "start_time": "2022-03-30T14:21:32.153Z"
   },
   {
    "duration": 126,
    "start_time": "2022-03-30T14:21:32.171Z"
   },
   {
    "duration": 42,
    "start_time": "2022-03-30T14:21:32.299Z"
   },
   {
    "duration": 190,
    "start_time": "2022-03-30T14:21:32.347Z"
   },
   {
    "duration": 211,
    "start_time": "2022-03-30T14:21:32.541Z"
   },
   {
    "duration": 29,
    "start_time": "2022-03-30T14:21:32.754Z"
   },
   {
    "duration": 130,
    "start_time": "2022-03-30T14:21:32.784Z"
   },
   {
    "duration": 35,
    "start_time": "2022-03-30T14:21:32.916Z"
   },
   {
    "duration": 372,
    "start_time": "2022-03-30T14:21:32.954Z"
   },
   {
    "duration": 196,
    "start_time": "2022-03-30T14:21:33.327Z"
   },
   {
    "duration": 382,
    "start_time": "2022-03-30T14:21:33.525Z"
   },
   {
    "duration": 13,
    "start_time": "2022-03-30T14:21:33.908Z"
   },
   {
    "duration": 16,
    "start_time": "2022-03-30T14:21:33.923Z"
   },
   {
    "duration": 117,
    "start_time": "2022-03-30T14:21:33.940Z"
   },
   {
    "duration": 23976,
    "start_time": "2022-03-30T14:21:34.058Z"
   },
   {
    "duration": 8,
    "start_time": "2022-03-30T14:21:58.036Z"
   },
   {
    "duration": 125,
    "start_time": "2022-03-30T14:21:58.046Z"
   },
   {
    "duration": 107985,
    "start_time": "2022-03-30T14:21:58.173Z"
   },
   {
    "duration": 27,
    "start_time": "2022-03-30T14:23:46.160Z"
   },
   {
    "duration": 135,
    "start_time": "2022-03-30T14:23:46.188Z"
   },
   {
    "duration": 119,
    "start_time": "2022-03-30T14:23:46.324Z"
   },
   {
    "duration": 99,
    "start_time": "2022-03-30T14:23:46.446Z"
   },
   {
    "duration": 284,
    "start_time": "2022-03-30T14:23:46.548Z"
   },
   {
    "duration": 11,
    "start_time": "2022-03-30T14:23:46.837Z"
   },
   {
    "duration": 4,
    "start_time": "2022-03-30T14:23:46.850Z"
   },
   {
    "duration": 132,
    "start_time": "2022-03-30T14:23:46.855Z"
   },
   {
    "duration": 7175,
    "start_time": "2022-03-30T14:23:46.989Z"
   },
   {
    "duration": 8,
    "start_time": "2022-03-30T14:23:54.166Z"
   },
   {
    "duration": 129,
    "start_time": "2022-03-30T14:23:54.175Z"
   },
   {
    "duration": 27766,
    "start_time": "2022-03-30T14:23:54.305Z"
   },
   {
    "duration": 12,
    "start_time": "2022-03-30T14:24:22.073Z"
   },
   {
    "duration": 135,
    "start_time": "2022-03-30T14:24:22.087Z"
   },
   {
    "duration": 20,
    "start_time": "2022-03-30T14:24:22.224Z"
   },
   {
    "duration": 100,
    "start_time": "2022-03-30T14:24:22.248Z"
   },
   {
    "duration": 215,
    "start_time": "2022-03-30T14:24:22.445Z"
   },
   {
    "duration": 32,
    "start_time": "2022-03-30T14:24:22.662Z"
   },
   {
    "duration": 8,
    "start_time": "2022-03-30T14:24:22.696Z"
   },
   {
    "duration": 135,
    "start_time": "2022-03-30T14:24:22.705Z"
   },
   {
    "duration": 330,
    "start_time": "2022-03-30T14:24:22.842Z"
   },
   {
    "duration": 25,
    "start_time": "2022-03-30T14:24:23.174Z"
   },
   {
    "duration": 141,
    "start_time": "2022-03-30T14:24:23.201Z"
   },
   {
    "duration": 100,
    "start_time": "2022-03-30T14:24:23.344Z"
   },
   {
    "duration": 97,
    "start_time": "2022-03-30T14:24:23.447Z"
   },
   {
    "duration": 412,
    "start_time": "2022-03-30T14:24:23.547Z"
   },
   {
    "duration": 1467,
    "start_time": "2022-03-30T14:32:47.507Z"
   },
   {
    "duration": 40,
    "start_time": "2022-03-30T14:32:48.976Z"
   },
   {
    "duration": 12,
    "start_time": "2022-03-30T14:32:49.018Z"
   },
   {
    "duration": 6,
    "start_time": "2022-03-30T14:32:49.032Z"
   },
   {
    "duration": 9,
    "start_time": "2022-03-30T14:32:49.040Z"
   },
   {
    "duration": 8,
    "start_time": "2022-03-30T14:32:49.050Z"
   },
   {
    "duration": 13,
    "start_time": "2022-03-30T14:32:49.060Z"
   },
   {
    "duration": 5,
    "start_time": "2022-03-30T14:32:49.075Z"
   },
   {
    "duration": 20,
    "start_time": "2022-03-30T14:32:49.081Z"
   },
   {
    "duration": 9,
    "start_time": "2022-03-30T14:32:49.103Z"
   },
   {
    "duration": 41,
    "start_time": "2022-03-30T14:32:49.113Z"
   },
   {
    "duration": 10,
    "start_time": "2022-03-30T14:32:49.156Z"
   },
   {
    "duration": 29,
    "start_time": "2022-03-30T14:32:49.168Z"
   },
   {
    "duration": 5,
    "start_time": "2022-03-30T14:32:49.201Z"
   },
   {
    "duration": 139,
    "start_time": "2022-03-30T14:32:49.207Z"
   },
   {
    "duration": 18423,
    "start_time": "2022-03-30T14:32:49.348Z"
   },
   {
    "duration": 8,
    "start_time": "2022-03-30T14:33:07.773Z"
   },
   {
    "duration": 130,
    "start_time": "2022-03-30T14:33:07.783Z"
   },
   {
    "duration": 79628,
    "start_time": "2022-03-30T14:33:07.915Z"
   },
   {
    "duration": 15,
    "start_time": "2022-03-30T14:34:27.545Z"
   },
   {
    "duration": 125,
    "start_time": "2022-03-30T14:34:27.561Z"
   },
   {
    "duration": 55,
    "start_time": "2022-03-30T14:34:27.687Z"
   },
   {
    "duration": 9,
    "start_time": "2022-03-30T14:34:27.837Z"
   },
   {
    "duration": 294,
    "start_time": "2022-03-30T14:34:27.849Z"
   },
   {
    "duration": 28,
    "start_time": "2022-03-30T14:34:28.144Z"
   },
   {
    "duration": 124,
    "start_time": "2022-03-30T14:34:28.174Z"
   },
   {
    "duration": 44,
    "start_time": "2022-03-30T14:34:28.299Z"
   },
   {
    "duration": 331,
    "start_time": "2022-03-30T14:34:28.346Z"
   },
   {
    "duration": 188,
    "start_time": "2022-03-30T14:34:28.678Z"
   },
   {
    "duration": 339,
    "start_time": "2022-03-30T14:34:28.868Z"
   },
   {
    "duration": 10,
    "start_time": "2022-03-30T14:34:29.209Z"
   },
   {
    "duration": 4,
    "start_time": "2022-03-30T14:34:29.221Z"
   },
   {
    "duration": 113,
    "start_time": "2022-03-30T14:34:29.238Z"
   },
   {
    "duration": 23742,
    "start_time": "2022-03-30T14:34:29.352Z"
   },
   {
    "duration": 8,
    "start_time": "2022-03-30T14:34:53.095Z"
   },
   {
    "duration": 121,
    "start_time": "2022-03-30T14:34:53.104Z"
   },
   {
    "duration": 107802,
    "start_time": "2022-03-30T14:34:53.227Z"
   },
   {
    "duration": 32,
    "start_time": "2022-03-30T14:36:41.031Z"
   },
   {
    "duration": 126,
    "start_time": "2022-03-30T14:36:41.065Z"
   },
   {
    "duration": 48,
    "start_time": "2022-03-30T14:36:41.194Z"
   },
   {
    "duration": 100,
    "start_time": "2022-03-30T14:36:41.337Z"
   },
   {
    "duration": 211,
    "start_time": "2022-03-30T14:36:41.440Z"
   },
   {
    "duration": 10,
    "start_time": "2022-03-30T14:36:41.653Z"
   },
   {
    "duration": 8,
    "start_time": "2022-03-30T14:36:41.665Z"
   },
   {
    "duration": 121,
    "start_time": "2022-03-30T14:36:41.674Z"
   },
   {
    "duration": 9654,
    "start_time": "2022-03-30T14:36:41.796Z"
   },
   {
    "duration": 7,
    "start_time": "2022-03-30T14:36:51.451Z"
   },
   {
    "duration": 124,
    "start_time": "2022-03-30T14:36:51.460Z"
   },
   {
    "duration": 49724,
    "start_time": "2022-03-30T14:36:51.586Z"
   },
   {
    "duration": 11,
    "start_time": "2022-03-30T14:37:41.311Z"
   },
   {
    "duration": 125,
    "start_time": "2022-03-30T14:37:41.324Z"
   },
   {
    "duration": 87,
    "start_time": "2022-03-30T14:37:41.451Z"
   },
   {
    "duration": 101,
    "start_time": "2022-03-30T14:37:41.541Z"
   },
   {
    "duration": 215,
    "start_time": "2022-03-30T14:37:41.644Z"
   },
   {
    "duration": 31,
    "start_time": "2022-03-30T14:37:41.861Z"
   },
   {
    "duration": 8,
    "start_time": "2022-03-30T14:37:41.894Z"
   },
   {
    "duration": 136,
    "start_time": "2022-03-30T14:37:41.903Z"
   },
   {
    "duration": 345,
    "start_time": "2022-03-30T14:37:42.041Z"
   },
   {
    "duration": 24,
    "start_time": "2022-03-30T14:37:42.388Z"
   },
   {
    "duration": 131,
    "start_time": "2022-03-30T14:37:42.414Z"
   },
   {
    "duration": 105,
    "start_time": "2022-03-30T14:37:42.546Z"
   },
   {
    "duration": 13,
    "start_time": "2022-03-30T14:37:42.738Z"
   },
   {
    "duration": 402,
    "start_time": "2022-03-30T14:37:42.754Z"
   },
   {
    "duration": 27,
    "start_time": "2022-03-30T15:16:36.159Z"
   },
   {
    "duration": 107,
    "start_time": "2022-03-30T15:44:19.899Z"
   },
   {
    "duration": 1435,
    "start_time": "2022-03-30T15:44:31.229Z"
   },
   {
    "duration": 40,
    "start_time": "2022-03-30T15:44:32.666Z"
   },
   {
    "duration": 13,
    "start_time": "2022-03-30T15:44:32.708Z"
   },
   {
    "duration": 15,
    "start_time": "2022-03-30T15:44:32.723Z"
   },
   {
    "duration": 6,
    "start_time": "2022-03-30T15:44:32.740Z"
   },
   {
    "duration": 10,
    "start_time": "2022-03-30T15:44:32.748Z"
   },
   {
    "duration": 15,
    "start_time": "2022-03-30T15:44:32.760Z"
   },
   {
    "duration": 4,
    "start_time": "2022-03-30T15:44:32.777Z"
   },
   {
    "duration": 18,
    "start_time": "2022-03-30T15:44:32.783Z"
   },
   {
    "duration": 12,
    "start_time": "2022-03-30T15:44:32.803Z"
   },
   {
    "duration": 37,
    "start_time": "2022-03-30T15:44:32.817Z"
   },
   {
    "duration": 10,
    "start_time": "2022-03-30T15:44:32.856Z"
   },
   {
    "duration": 31,
    "start_time": "2022-03-30T15:44:32.867Z"
   },
   {
    "duration": 5,
    "start_time": "2022-03-30T15:44:32.901Z"
   },
   {
    "duration": 139,
    "start_time": "2022-03-30T15:44:32.907Z"
   },
   {
    "duration": 18335,
    "start_time": "2022-03-30T15:44:33.047Z"
   },
   {
    "duration": 7,
    "start_time": "2022-03-30T15:44:51.384Z"
   },
   {
    "duration": 123,
    "start_time": "2022-03-30T15:44:51.393Z"
   },
   {
    "duration": 80615,
    "start_time": "2022-03-30T15:44:51.517Z"
   },
   {
    "duration": 16,
    "start_time": "2022-03-30T15:46:12.135Z"
   },
   {
    "duration": 129,
    "start_time": "2022-03-30T15:46:12.153Z"
   },
   {
    "duration": 56,
    "start_time": "2022-03-30T15:46:12.284Z"
   },
   {
    "duration": 102,
    "start_time": "2022-03-30T15:46:12.341Z"
   },
   {
    "duration": 213,
    "start_time": "2022-03-30T15:46:12.445Z"
   },
   {
    "duration": 30,
    "start_time": "2022-03-30T15:46:12.660Z"
   },
   {
    "duration": 134,
    "start_time": "2022-03-30T15:46:12.692Z"
   },
   {
    "duration": 30,
    "start_time": "2022-03-30T15:46:12.827Z"
   },
   {
    "duration": 361,
    "start_time": "2022-03-30T15:46:12.859Z"
   },
   {
    "duration": 206,
    "start_time": "2022-03-30T15:46:13.222Z"
   },
   {
    "duration": 379,
    "start_time": "2022-03-30T15:46:13.430Z"
   },
   {
    "duration": 11,
    "start_time": "2022-03-30T15:46:13.811Z"
   },
   {
    "duration": 15,
    "start_time": "2022-03-30T15:46:13.824Z"
   },
   {
    "duration": 120,
    "start_time": "2022-03-30T15:46:13.840Z"
   },
   {
    "duration": 24696,
    "start_time": "2022-03-30T15:46:13.961Z"
   },
   {
    "duration": 7,
    "start_time": "2022-03-30T15:46:38.659Z"
   },
   {
    "duration": 132,
    "start_time": "2022-03-30T15:46:38.668Z"
   },
   {
    "duration": 108981,
    "start_time": "2022-03-30T15:46:38.802Z"
   },
   {
    "duration": 27,
    "start_time": "2022-03-30T15:48:27.784Z"
   },
   {
    "duration": 138,
    "start_time": "2022-03-30T15:48:27.813Z"
   },
   {
    "duration": 88,
    "start_time": "2022-03-30T15:48:27.952Z"
   },
   {
    "duration": 96,
    "start_time": "2022-03-30T15:48:28.046Z"
   },
   {
    "duration": 218,
    "start_time": "2022-03-30T15:48:28.144Z"
   },
   {
    "duration": 12,
    "start_time": "2022-03-30T15:48:28.364Z"
   },
   {
    "duration": 5,
    "start_time": "2022-03-30T15:48:28.378Z"
   },
   {
    "duration": 135,
    "start_time": "2022-03-30T15:48:28.385Z"
   },
   {
    "duration": 10140,
    "start_time": "2022-03-30T15:48:28.521Z"
   },
   {
    "duration": 8,
    "start_time": "2022-03-30T15:48:38.663Z"
   },
   {
    "duration": 139,
    "start_time": "2022-03-30T15:48:38.673Z"
   },
   {
    "duration": 51543,
    "start_time": "2022-03-30T15:48:38.814Z"
   },
   {
    "duration": 11,
    "start_time": "2022-03-30T15:49:30.359Z"
   },
   {
    "duration": 140,
    "start_time": "2022-03-30T15:49:30.372Z"
   },
   {
    "duration": 28,
    "start_time": "2022-03-30T15:49:30.513Z"
   },
   {
    "duration": 198,
    "start_time": "2022-03-30T15:49:30.544Z"
   },
   {
    "duration": 225,
    "start_time": "2022-03-30T15:49:30.746Z"
   },
   {
    "duration": 10,
    "start_time": "2022-03-30T15:49:30.974Z"
   },
   {
    "duration": 64,
    "start_time": "2022-03-30T15:49:30.986Z"
   },
   {
    "duration": 10,
    "start_time": "2022-03-30T15:49:31.052Z"
   },
   {
    "duration": 138,
    "start_time": "2022-03-30T15:49:31.065Z"
   },
   {
    "duration": 345,
    "start_time": "2022-03-30T15:49:31.205Z"
   },
   {
    "duration": 25,
    "start_time": "2022-03-30T15:49:31.552Z"
   },
   {
    "duration": 138,
    "start_time": "2022-03-30T15:49:31.579Z"
   },
   {
    "duration": 120,
    "start_time": "2022-03-30T15:49:31.719Z"
   },
   {
    "duration": 103,
    "start_time": "2022-03-30T15:49:31.841Z"
   },
   {
    "duration": 401,
    "start_time": "2022-03-30T15:49:31.947Z"
   },
   {
    "duration": 4,
    "start_time": "2022-03-30T15:50:21.541Z"
   },
   {
    "duration": 12,
    "start_time": "2022-03-30T15:50:28.436Z"
   },
   {
    "duration": 188,
    "start_time": "2022-03-30T16:02:03.847Z"
   },
   {
    "duration": 196,
    "start_time": "2022-03-30T16:02:38.798Z"
   },
   {
    "duration": 351,
    "start_time": "2022-03-30T16:03:02.358Z"
   },
   {
    "duration": 11,
    "start_time": "2022-03-30T16:05:05.008Z"
   },
   {
    "duration": 10,
    "start_time": "2022-03-30T16:05:14.495Z"
   },
   {
    "duration": 10,
    "start_time": "2022-03-30T16:05:37.620Z"
   },
   {
    "duration": 24023,
    "start_time": "2022-03-30T16:07:34.675Z"
   },
   {
    "duration": 24114,
    "start_time": "2022-03-30T16:08:35.831Z"
   },
   {
    "duration": 107,
    "start_time": "2022-03-30T16:10:10.584Z"
   },
   {
    "duration": 24232,
    "start_time": "2022-03-30T16:10:15.110Z"
   },
   {
    "duration": 24624,
    "start_time": "2022-03-30T16:10:45.386Z"
   },
   {
    "duration": 4,
    "start_time": "2022-03-30T16:12:48.529Z"
   },
   {
    "duration": 5,
    "start_time": "2022-03-30T16:12:53.839Z"
   },
   {
    "duration": 11,
    "start_time": "2022-03-30T16:13:12.796Z"
   },
   {
    "duration": 108679,
    "start_time": "2022-03-30T16:14:45.043Z"
   },
   {
    "duration": 10,
    "start_time": "2022-03-30T16:18:28.910Z"
   },
   {
    "duration": 28,
    "start_time": "2022-03-30T16:18:35.715Z"
   },
   {
    "duration": 11,
    "start_time": "2022-03-30T16:18:40.776Z"
   },
   {
    "duration": 9,
    "start_time": "2022-03-30T16:19:24.577Z"
   },
   {
    "duration": 11,
    "start_time": "2022-03-30T16:19:32.074Z"
   },
   {
    "duration": 10,
    "start_time": "2022-03-30T16:19:49.974Z"
   },
   {
    "duration": 17,
    "start_time": "2022-03-30T16:21:01.016Z"
   },
   {
    "duration": 11,
    "start_time": "2022-03-30T16:21:09.208Z"
   },
   {
    "duration": 11,
    "start_time": "2022-03-30T16:21:21.573Z"
   },
   {
    "duration": 10,
    "start_time": "2022-03-30T16:21:28.838Z"
   },
   {
    "duration": 11,
    "start_time": "2022-03-30T16:21:33.981Z"
   },
   {
    "duration": 13,
    "start_time": "2022-03-30T16:22:19.666Z"
   },
   {
    "duration": 9638,
    "start_time": "2022-03-30T16:24:30.958Z"
   },
   {
    "duration": 49722,
    "start_time": "2022-03-30T16:25:34.608Z"
   },
   {
    "duration": 21,
    "start_time": "2022-03-30T16:26:37.543Z"
   },
   {
    "duration": 12,
    "start_time": "2022-03-30T16:28:42.843Z"
   },
   {
    "duration": 12,
    "start_time": "2022-03-30T16:29:12.913Z"
   },
   {
    "duration": 14,
    "start_time": "2022-03-30T16:30:02.145Z"
   },
   {
    "duration": 11,
    "start_time": "2022-03-30T16:30:08.100Z"
   },
   {
    "duration": 13,
    "start_time": "2022-03-30T16:30:11.664Z"
   },
   {
    "duration": 12,
    "start_time": "2022-03-30T16:30:29.804Z"
   },
   {
    "duration": 28,
    "start_time": "2022-03-30T16:32:58.975Z"
   },
   {
    "duration": 8,
    "start_time": "2022-03-30T16:33:16.435Z"
   },
   {
    "duration": 9,
    "start_time": "2022-03-30T16:33:31.055Z"
   },
   {
    "duration": 31,
    "start_time": "2022-03-30T16:33:32.688Z"
   },
   {
    "duration": 8,
    "start_time": "2022-03-30T16:33:59.657Z"
   },
   {
    "duration": 27,
    "start_time": "2022-03-30T16:34:35.340Z"
   },
   {
    "duration": 28,
    "start_time": "2022-03-30T16:35:18.601Z"
   },
   {
    "duration": 110,
    "start_time": "2022-03-30T16:35:19.800Z"
   },
   {
    "duration": 12,
    "start_time": "2022-03-30T16:36:09.076Z"
   },
   {
    "duration": 28,
    "start_time": "2022-03-30T16:36:10.923Z"
   },
   {
    "duration": 1370,
    "start_time": "2022-03-30T16:40:07.585Z"
   },
   {
    "duration": 39,
    "start_time": "2022-03-30T16:40:08.957Z"
   },
   {
    "duration": 14,
    "start_time": "2022-03-30T16:40:08.998Z"
   },
   {
    "duration": 3,
    "start_time": "2022-03-30T16:40:09.013Z"
   },
   {
    "duration": 19,
    "start_time": "2022-03-30T16:40:09.019Z"
   },
   {
    "duration": 6,
    "start_time": "2022-03-30T16:40:09.040Z"
   },
   {
    "duration": 14,
    "start_time": "2022-03-30T16:40:09.048Z"
   },
   {
    "duration": 4,
    "start_time": "2022-03-30T16:40:09.064Z"
   },
   {
    "duration": 14,
    "start_time": "2022-03-30T16:40:09.069Z"
   },
   {
    "duration": 9,
    "start_time": "2022-03-30T16:40:09.085Z"
   },
   {
    "duration": 48,
    "start_time": "2022-03-30T16:40:09.096Z"
   },
   {
    "duration": 12,
    "start_time": "2022-03-30T16:40:09.146Z"
   },
   {
    "duration": 30,
    "start_time": "2022-03-30T16:40:09.160Z"
   },
   {
    "duration": 5,
    "start_time": "2022-03-30T16:40:09.193Z"
   },
   {
    "duration": 129,
    "start_time": "2022-03-30T16:40:09.200Z"
   },
   {
    "duration": 18420,
    "start_time": "2022-03-30T16:40:09.331Z"
   },
   {
    "duration": 8,
    "start_time": "2022-03-30T16:40:27.752Z"
   },
   {
    "duration": 127,
    "start_time": "2022-03-30T16:40:27.762Z"
   },
   {
    "duration": 80099,
    "start_time": "2022-03-30T16:40:27.890Z"
   },
   {
    "duration": 16,
    "start_time": "2022-03-30T16:41:47.991Z"
   },
   {
    "duration": 134,
    "start_time": "2022-03-30T16:41:48.008Z"
   },
   {
    "duration": 24,
    "start_time": "2022-03-30T16:41:48.144Z"
   },
   {
    "duration": 101,
    "start_time": "2022-03-30T16:41:48.239Z"
   },
   {
    "duration": 219,
    "start_time": "2022-03-30T16:41:48.341Z"
   },
   {
    "duration": 31,
    "start_time": "2022-03-30T16:41:48.562Z"
   },
   {
    "duration": 130,
    "start_time": "2022-03-30T16:41:48.595Z"
   },
   {
    "duration": 32,
    "start_time": "2022-03-30T16:41:48.727Z"
   },
   {
    "duration": 359,
    "start_time": "2022-03-30T16:41:48.761Z"
   },
   {
    "duration": 193,
    "start_time": "2022-03-30T16:41:49.122Z"
   },
   {
    "duration": 461,
    "start_time": "2022-03-30T16:41:49.317Z"
   },
   {
    "duration": 0,
    "start_time": "2022-03-30T16:41:49.780Z"
   },
   {
    "duration": 0,
    "start_time": "2022-03-30T16:41:49.782Z"
   },
   {
    "duration": 0,
    "start_time": "2022-03-30T16:41:49.783Z"
   },
   {
    "duration": 0,
    "start_time": "2022-03-30T16:41:49.785Z"
   },
   {
    "duration": 0,
    "start_time": "2022-03-30T16:41:49.787Z"
   },
   {
    "duration": 0,
    "start_time": "2022-03-30T16:41:49.788Z"
   },
   {
    "duration": 0,
    "start_time": "2022-03-30T16:41:49.789Z"
   },
   {
    "duration": 0,
    "start_time": "2022-03-30T16:41:49.790Z"
   },
   {
    "duration": 0,
    "start_time": "2022-03-30T16:41:49.792Z"
   },
   {
    "duration": 0,
    "start_time": "2022-03-30T16:41:49.793Z"
   },
   {
    "duration": 0,
    "start_time": "2022-03-30T16:41:49.794Z"
   },
   {
    "duration": 0,
    "start_time": "2022-03-30T16:41:49.796Z"
   },
   {
    "duration": 0,
    "start_time": "2022-03-30T16:41:49.797Z"
   },
   {
    "duration": 0,
    "start_time": "2022-03-30T16:41:49.798Z"
   },
   {
    "duration": 0,
    "start_time": "2022-03-30T16:41:49.800Z"
   },
   {
    "duration": 0,
    "start_time": "2022-03-30T16:41:49.801Z"
   },
   {
    "duration": 0,
    "start_time": "2022-03-30T16:41:49.803Z"
   },
   {
    "duration": 0,
    "start_time": "2022-03-30T16:41:49.838Z"
   },
   {
    "duration": 0,
    "start_time": "2022-03-30T16:41:49.840Z"
   },
   {
    "duration": 0,
    "start_time": "2022-03-30T16:41:49.841Z"
   },
   {
    "duration": 0,
    "start_time": "2022-03-30T16:41:49.842Z"
   },
   {
    "duration": 0,
    "start_time": "2022-03-30T16:41:49.844Z"
   },
   {
    "duration": 0,
    "start_time": "2022-03-30T16:41:49.846Z"
   },
   {
    "duration": 0,
    "start_time": "2022-03-30T16:41:49.847Z"
   },
   {
    "duration": 0,
    "start_time": "2022-03-30T16:41:49.848Z"
   },
   {
    "duration": 0,
    "start_time": "2022-03-30T16:41:49.850Z"
   },
   {
    "duration": 0,
    "start_time": "2022-03-30T16:41:49.851Z"
   },
   {
    "duration": 0,
    "start_time": "2022-03-30T16:41:49.852Z"
   },
   {
    "duration": 0,
    "start_time": "2022-03-30T16:41:49.854Z"
   },
   {
    "duration": 0,
    "start_time": "2022-03-30T16:41:49.855Z"
   },
   {
    "duration": 0,
    "start_time": "2022-03-30T16:41:49.857Z"
   },
   {
    "duration": 0,
    "start_time": "2022-03-30T16:41:49.858Z"
   },
   {
    "duration": 0,
    "start_time": "2022-03-30T16:41:49.859Z"
   },
   {
    "duration": 0,
    "start_time": "2022-03-30T16:41:49.861Z"
   },
   {
    "duration": 0,
    "start_time": "2022-03-30T16:41:49.863Z"
   },
   {
    "duration": 0,
    "start_time": "2022-03-30T16:41:49.864Z"
   },
   {
    "duration": 0,
    "start_time": "2022-03-30T16:41:49.865Z"
   },
   {
    "duration": 1376,
    "start_time": "2022-03-30T16:43:02.362Z"
   },
   {
    "duration": 39,
    "start_time": "2022-03-30T16:43:03.740Z"
   },
   {
    "duration": 15,
    "start_time": "2022-03-30T16:43:03.780Z"
   },
   {
    "duration": 4,
    "start_time": "2022-03-30T16:43:03.797Z"
   },
   {
    "duration": 10,
    "start_time": "2022-03-30T16:43:03.803Z"
   },
   {
    "duration": 28,
    "start_time": "2022-03-30T16:43:03.815Z"
   },
   {
    "duration": 15,
    "start_time": "2022-03-30T16:43:03.845Z"
   },
   {
    "duration": 4,
    "start_time": "2022-03-30T16:43:03.862Z"
   },
   {
    "duration": 14,
    "start_time": "2022-03-30T16:43:03.868Z"
   },
   {
    "duration": 10,
    "start_time": "2022-03-30T16:43:03.884Z"
   },
   {
    "duration": 51,
    "start_time": "2022-03-30T16:43:03.895Z"
   },
   {
    "duration": 10,
    "start_time": "2022-03-30T16:43:03.948Z"
   },
   {
    "duration": 33,
    "start_time": "2022-03-30T16:43:03.960Z"
   },
   {
    "duration": 5,
    "start_time": "2022-03-30T16:43:03.996Z"
   },
   {
    "duration": 128,
    "start_time": "2022-03-30T16:43:04.003Z"
   },
   {
    "duration": 18285,
    "start_time": "2022-03-30T16:43:04.137Z"
   },
   {
    "duration": 16,
    "start_time": "2022-03-30T16:43:22.423Z"
   },
   {
    "duration": 114,
    "start_time": "2022-03-30T16:43:22.440Z"
   },
   {
    "duration": 80578,
    "start_time": "2022-03-30T16:43:22.556Z"
   },
   {
    "duration": 16,
    "start_time": "2022-03-30T16:44:43.136Z"
   },
   {
    "duration": 131,
    "start_time": "2022-03-30T16:44:43.154Z"
   },
   {
    "duration": 53,
    "start_time": "2022-03-30T16:44:43.287Z"
   },
   {
    "duration": 103,
    "start_time": "2022-03-30T16:44:43.343Z"
   },
   {
    "duration": 302,
    "start_time": "2022-03-30T16:44:43.448Z"
   },
   {
    "duration": 28,
    "start_time": "2022-03-30T16:44:43.752Z"
   },
   {
    "duration": 131,
    "start_time": "2022-03-30T16:44:43.781Z"
   },
   {
    "duration": 33,
    "start_time": "2022-03-30T16:44:43.913Z"
   },
   {
    "duration": 365,
    "start_time": "2022-03-30T16:44:43.948Z"
   },
   {
    "duration": 185,
    "start_time": "2022-03-30T16:44:44.315Z"
   },
   {
    "duration": 305,
    "start_time": "2022-03-30T16:44:44.501Z"
   },
   {
    "duration": 11,
    "start_time": "2022-03-30T16:44:44.808Z"
   },
   {
    "duration": 17,
    "start_time": "2022-03-30T16:44:44.821Z"
   },
   {
    "duration": 116,
    "start_time": "2022-03-30T16:44:44.840Z"
   },
   {
    "duration": 24741,
    "start_time": "2022-03-30T16:44:44.957Z"
   },
   {
    "duration": 8,
    "start_time": "2022-03-30T16:45:09.699Z"
   },
   {
    "duration": 129,
    "start_time": "2022-03-30T16:45:09.708Z"
   },
   {
    "duration": 107555,
    "start_time": "2022-03-30T16:45:09.839Z"
   },
   {
    "duration": 25,
    "start_time": "2022-03-30T16:46:57.395Z"
   },
   {
    "duration": 121,
    "start_time": "2022-03-30T16:46:57.422Z"
   },
   {
    "duration": 93,
    "start_time": "2022-03-30T16:46:57.545Z"
   },
   {
    "duration": 98,
    "start_time": "2022-03-30T16:46:57.647Z"
   },
   {
    "duration": 296,
    "start_time": "2022-03-30T16:46:57.748Z"
   },
   {
    "duration": 11,
    "start_time": "2022-03-30T16:46:58.045Z"
   },
   {
    "duration": 10,
    "start_time": "2022-03-30T16:46:58.058Z"
   },
   {
    "duration": 123,
    "start_time": "2022-03-30T16:46:58.070Z"
   },
   {
    "duration": 9439,
    "start_time": "2022-03-30T16:46:58.194Z"
   },
   {
    "duration": 7,
    "start_time": "2022-03-30T16:47:07.635Z"
   },
   {
    "duration": 124,
    "start_time": "2022-03-30T16:47:07.643Z"
   },
   {
    "duration": 48711,
    "start_time": "2022-03-30T16:47:07.769Z"
   },
   {
    "duration": 11,
    "start_time": "2022-03-30T16:47:56.482Z"
   },
   {
    "duration": 126,
    "start_time": "2022-03-30T16:47:56.495Z"
   },
   {
    "duration": 28,
    "start_time": "2022-03-30T16:47:56.623Z"
   },
   {
    "duration": 92,
    "start_time": "2022-03-30T16:47:56.653Z"
   },
   {
    "duration": 212,
    "start_time": "2022-03-30T16:47:56.838Z"
   },
   {
    "duration": 9,
    "start_time": "2022-03-30T16:47:57.052Z"
   },
   {
    "duration": 20,
    "start_time": "2022-03-30T16:47:57.062Z"
   },
   {
    "duration": 20,
    "start_time": "2022-03-30T16:47:57.083Z"
   },
   {
    "duration": 12,
    "start_time": "2022-03-30T16:47:57.105Z"
   },
   {
    "duration": 19,
    "start_time": "2022-03-30T16:47:57.118Z"
   },
   {
    "duration": 8,
    "start_time": "2022-03-30T16:47:57.139Z"
   },
   {
    "duration": 133,
    "start_time": "2022-03-30T16:47:57.149Z"
   },
   {
    "duration": 28,
    "start_time": "2022-03-30T16:47:57.283Z"
   },
   {
    "duration": 42,
    "start_time": "2022-03-30T16:47:57.313Z"
   },
   {
    "duration": 116,
    "start_time": "2022-03-30T16:47:57.357Z"
   },
   {
    "duration": 66,
    "start_time": "2022-03-30T16:47:57.475Z"
   },
   {
    "duration": 101,
    "start_time": "2022-03-30T16:47:57.544Z"
   },
   {
    "duration": 382,
    "start_time": "2022-03-30T16:47:57.648Z"
   },
   {
    "duration": 1692,
    "start_time": "2022-03-31T19:03:09.073Z"
   },
   {
    "duration": 53,
    "start_time": "2022-03-31T19:03:10.767Z"
   },
   {
    "duration": 12,
    "start_time": "2022-03-31T19:03:10.822Z"
   },
   {
    "duration": 2,
    "start_time": "2022-03-31T19:03:10.836Z"
   },
   {
    "duration": 8,
    "start_time": "2022-03-31T19:03:10.839Z"
   },
   {
    "duration": 6,
    "start_time": "2022-03-31T19:03:10.849Z"
   },
   {
    "duration": 11,
    "start_time": "2022-03-31T19:03:10.856Z"
   },
   {
    "duration": 5,
    "start_time": "2022-03-31T19:03:10.880Z"
   },
   {
    "duration": 13,
    "start_time": "2022-03-31T19:03:10.886Z"
   },
   {
    "duration": 8,
    "start_time": "2022-03-31T19:03:10.901Z"
   },
   {
    "duration": 20,
    "start_time": "2022-03-31T19:03:10.911Z"
   },
   {
    "duration": 12,
    "start_time": "2022-03-31T19:03:10.933Z"
   },
   {
    "duration": 59,
    "start_time": "2022-03-31T19:03:10.946Z"
   },
   {
    "duration": 4,
    "start_time": "2022-03-31T19:03:11.007Z"
   },
   {
    "duration": 101,
    "start_time": "2022-03-31T19:03:11.013Z"
   },
   {
    "duration": 17005,
    "start_time": "2022-03-31T19:03:11.116Z"
   },
   {
    "duration": 7,
    "start_time": "2022-03-31T19:03:28.123Z"
   },
   {
    "duration": 120,
    "start_time": "2022-03-31T19:03:28.132Z"
   },
   {
    "duration": 80106,
    "start_time": "2022-03-31T19:03:28.253Z"
   },
   {
    "duration": 26,
    "start_time": "2022-03-31T19:04:48.360Z"
   },
   {
    "duration": 102,
    "start_time": "2022-03-31T19:04:48.387Z"
   },
   {
    "duration": 91,
    "start_time": "2022-03-31T19:04:48.491Z"
   },
   {
    "duration": 10,
    "start_time": "2022-03-31T19:04:48.584Z"
   },
   {
    "duration": 200,
    "start_time": "2022-03-31T19:04:48.681Z"
   },
   {
    "duration": 152,
    "start_time": "2022-03-31T19:04:48.883Z"
   },
   {
    "duration": 0,
    "start_time": "2022-03-31T19:04:49.038Z"
   },
   {
    "duration": 0,
    "start_time": "2022-03-31T19:04:49.039Z"
   },
   {
    "duration": 0,
    "start_time": "2022-03-31T19:04:49.040Z"
   },
   {
    "duration": 0,
    "start_time": "2022-03-31T19:04:49.041Z"
   },
   {
    "duration": 0,
    "start_time": "2022-03-31T19:04:49.042Z"
   },
   {
    "duration": 0,
    "start_time": "2022-03-31T19:04:49.043Z"
   },
   {
    "duration": 0,
    "start_time": "2022-03-31T19:04:49.044Z"
   },
   {
    "duration": 0,
    "start_time": "2022-03-31T19:04:49.045Z"
   },
   {
    "duration": 0,
    "start_time": "2022-03-31T19:04:49.046Z"
   },
   {
    "duration": 0,
    "start_time": "2022-03-31T19:04:49.047Z"
   },
   {
    "duration": 0,
    "start_time": "2022-03-31T19:04:49.048Z"
   },
   {
    "duration": 0,
    "start_time": "2022-03-31T19:04:49.048Z"
   },
   {
    "duration": 0,
    "start_time": "2022-03-31T19:04:49.049Z"
   },
   {
    "duration": 0,
    "start_time": "2022-03-31T19:04:49.050Z"
   },
   {
    "duration": 0,
    "start_time": "2022-03-31T19:04:49.051Z"
   },
   {
    "duration": 0,
    "start_time": "2022-03-31T19:04:49.051Z"
   },
   {
    "duration": 0,
    "start_time": "2022-03-31T19:04:49.052Z"
   },
   {
    "duration": 0,
    "start_time": "2022-03-31T19:04:49.053Z"
   },
   {
    "duration": 0,
    "start_time": "2022-03-31T19:04:49.054Z"
   },
   {
    "duration": 0,
    "start_time": "2022-03-31T19:04:49.081Z"
   },
   {
    "duration": 0,
    "start_time": "2022-03-31T19:04:49.082Z"
   },
   {
    "duration": 0,
    "start_time": "2022-03-31T19:04:49.083Z"
   },
   {
    "duration": 0,
    "start_time": "2022-03-31T19:04:49.084Z"
   },
   {
    "duration": 0,
    "start_time": "2022-03-31T19:04:49.085Z"
   },
   {
    "duration": 0,
    "start_time": "2022-03-31T19:04:49.085Z"
   },
   {
    "duration": 0,
    "start_time": "2022-03-31T19:04:49.086Z"
   },
   {
    "duration": 0,
    "start_time": "2022-03-31T19:04:49.087Z"
   },
   {
    "duration": 0,
    "start_time": "2022-03-31T19:04:49.088Z"
   },
   {
    "duration": 0,
    "start_time": "2022-03-31T19:04:49.089Z"
   },
   {
    "duration": 0,
    "start_time": "2022-03-31T19:04:49.090Z"
   },
   {
    "duration": 0,
    "start_time": "2022-03-31T19:04:49.091Z"
   },
   {
    "duration": 0,
    "start_time": "2022-03-31T19:04:49.092Z"
   },
   {
    "duration": 0,
    "start_time": "2022-03-31T19:04:49.093Z"
   },
   {
    "duration": 0,
    "start_time": "2022-03-31T19:04:49.094Z"
   },
   {
    "duration": 0,
    "start_time": "2022-03-31T19:04:49.095Z"
   },
   {
    "duration": 0,
    "start_time": "2022-03-31T19:04:49.096Z"
   },
   {
    "duration": 0,
    "start_time": "2022-03-31T19:04:49.097Z"
   },
   {
    "duration": 0,
    "start_time": "2022-03-31T19:04:49.098Z"
   },
   {
    "duration": 0,
    "start_time": "2022-03-31T19:04:49.099Z"
   },
   {
    "duration": 0,
    "start_time": "2022-03-31T19:04:49.099Z"
   },
   {
    "duration": 0,
    "start_time": "2022-03-31T19:04:49.100Z"
   },
   {
    "duration": 0,
    "start_time": "2022-03-31T19:04:49.101Z"
   },
   {
    "duration": 8,
    "start_time": "2022-03-31T19:06:23.026Z"
   },
   {
    "duration": 1525,
    "start_time": "2022-03-31T19:09:48.465Z"
   },
   {
    "duration": 45,
    "start_time": "2022-03-31T19:09:49.992Z"
   },
   {
    "duration": 13,
    "start_time": "2022-03-31T19:09:50.039Z"
   },
   {
    "duration": 3,
    "start_time": "2022-03-31T19:09:50.053Z"
   },
   {
    "duration": 8,
    "start_time": "2022-03-31T19:09:50.058Z"
   },
   {
    "duration": 17,
    "start_time": "2022-03-31T19:09:50.067Z"
   },
   {
    "duration": 14,
    "start_time": "2022-03-31T19:09:50.085Z"
   },
   {
    "duration": 10,
    "start_time": "2022-03-31T19:09:50.101Z"
   },
   {
    "duration": 21,
    "start_time": "2022-03-31T19:09:50.112Z"
   },
   {
    "duration": 14,
    "start_time": "2022-03-31T19:09:50.135Z"
   },
   {
    "duration": 23,
    "start_time": "2022-03-31T19:09:50.150Z"
   },
   {
    "duration": 11,
    "start_time": "2022-03-31T19:09:50.175Z"
   },
   {
    "duration": 29,
    "start_time": "2022-03-31T19:09:50.187Z"
   },
   {
    "duration": 5,
    "start_time": "2022-03-31T19:09:50.217Z"
   },
   {
    "duration": 143,
    "start_time": "2022-03-31T19:09:50.224Z"
   },
   {
    "duration": 24513,
    "start_time": "2022-03-31T19:09:50.368Z"
   },
   {
    "duration": 8,
    "start_time": "2022-03-31T19:10:14.883Z"
   },
   {
    "duration": 175,
    "start_time": "2022-03-31T19:10:14.893Z"
   },
   {
    "duration": 107701,
    "start_time": "2022-03-31T19:10:15.070Z"
   },
   {
    "duration": 21,
    "start_time": "2022-03-31T19:12:02.772Z"
   },
   {
    "duration": 156,
    "start_time": "2022-03-31T19:12:02.794Z"
   },
   {
    "duration": 135,
    "start_time": "2022-03-31T19:12:02.952Z"
   },
   {
    "duration": 105,
    "start_time": "2022-03-31T19:12:03.089Z"
   },
   {
    "duration": 198,
    "start_time": "2022-03-31T19:12:03.286Z"
   },
   {
    "duration": 106,
    "start_time": "2022-03-31T19:12:03.485Z"
   },
   {
    "duration": 0,
    "start_time": "2022-03-31T19:12:03.593Z"
   },
   {
    "duration": 0,
    "start_time": "2022-03-31T19:12:03.594Z"
   },
   {
    "duration": 0,
    "start_time": "2022-03-31T19:12:03.595Z"
   },
   {
    "duration": 0,
    "start_time": "2022-03-31T19:12:03.596Z"
   },
   {
    "duration": 0,
    "start_time": "2022-03-31T19:12:03.597Z"
   },
   {
    "duration": 0,
    "start_time": "2022-03-31T19:12:03.598Z"
   },
   {
    "duration": 0,
    "start_time": "2022-03-31T19:12:03.599Z"
   },
   {
    "duration": 0,
    "start_time": "2022-03-31T19:12:03.600Z"
   },
   {
    "duration": 0,
    "start_time": "2022-03-31T19:12:03.601Z"
   },
   {
    "duration": 0,
    "start_time": "2022-03-31T19:12:03.602Z"
   },
   {
    "duration": 0,
    "start_time": "2022-03-31T19:12:03.603Z"
   },
   {
    "duration": 0,
    "start_time": "2022-03-31T19:12:03.605Z"
   },
   {
    "duration": 0,
    "start_time": "2022-03-31T19:12:03.605Z"
   },
   {
    "duration": 0,
    "start_time": "2022-03-31T19:12:03.606Z"
   },
   {
    "duration": 0,
    "start_time": "2022-03-31T19:12:03.607Z"
   },
   {
    "duration": 0,
    "start_time": "2022-03-31T19:12:03.608Z"
   },
   {
    "duration": 0,
    "start_time": "2022-03-31T19:12:03.609Z"
   },
   {
    "duration": 0,
    "start_time": "2022-03-31T19:12:03.610Z"
   },
   {
    "duration": 0,
    "start_time": "2022-03-31T19:12:03.611Z"
   },
   {
    "duration": 0,
    "start_time": "2022-03-31T19:12:03.612Z"
   },
   {
    "duration": 0,
    "start_time": "2022-03-31T19:12:03.613Z"
   },
   {
    "duration": 0,
    "start_time": "2022-03-31T19:12:03.614Z"
   },
   {
    "duration": 0,
    "start_time": "2022-03-31T19:12:03.615Z"
   },
   {
    "duration": 0,
    "start_time": "2022-03-31T19:12:03.616Z"
   },
   {
    "duration": 0,
    "start_time": "2022-03-31T19:12:03.617Z"
   },
   {
    "duration": 0,
    "start_time": "2022-03-31T19:12:03.618Z"
   },
   {
    "duration": 0,
    "start_time": "2022-03-31T19:12:03.619Z"
   },
   {
    "duration": 0,
    "start_time": "2022-03-31T19:12:03.620Z"
   },
   {
    "duration": 0,
    "start_time": "2022-03-31T19:12:03.621Z"
   },
   {
    "duration": 0,
    "start_time": "2022-03-31T19:12:03.622Z"
   },
   {
    "duration": 0,
    "start_time": "2022-03-31T19:12:03.623Z"
   },
   {
    "duration": 0,
    "start_time": "2022-03-31T19:12:03.624Z"
   },
   {
    "duration": 0,
    "start_time": "2022-03-31T19:12:03.625Z"
   },
   {
    "duration": 0,
    "start_time": "2022-03-31T19:12:03.626Z"
   },
   {
    "duration": 0,
    "start_time": "2022-03-31T19:12:03.627Z"
   },
   {
    "duration": 0,
    "start_time": "2022-03-31T19:12:03.681Z"
   },
   {
    "duration": 0,
    "start_time": "2022-03-31T19:12:03.682Z"
   },
   {
    "duration": 0,
    "start_time": "2022-03-31T19:12:03.683Z"
   },
   {
    "duration": 0,
    "start_time": "2022-03-31T19:12:03.685Z"
   },
   {
    "duration": 1,
    "start_time": "2022-03-31T19:12:03.685Z"
   },
   {
    "duration": 0,
    "start_time": "2022-03-31T19:12:03.686Z"
   },
   {
    "duration": 0,
    "start_time": "2022-03-31T19:12:03.687Z"
   },
   {
    "duration": 1522,
    "start_time": "2022-03-31T19:13:35.906Z"
   },
   {
    "duration": 43,
    "start_time": "2022-03-31T19:13:37.430Z"
   },
   {
    "duration": 16,
    "start_time": "2022-03-31T19:13:37.474Z"
   },
   {
    "duration": 7,
    "start_time": "2022-03-31T19:13:37.495Z"
   },
   {
    "duration": 9,
    "start_time": "2022-03-31T19:13:37.503Z"
   },
   {
    "duration": 7,
    "start_time": "2022-03-31T19:13:37.513Z"
   },
   {
    "duration": 12,
    "start_time": "2022-03-31T19:13:37.522Z"
   },
   {
    "duration": 4,
    "start_time": "2022-03-31T19:13:37.535Z"
   },
   {
    "duration": 11,
    "start_time": "2022-03-31T19:13:37.541Z"
   },
   {
    "duration": 9,
    "start_time": "2022-03-31T19:13:37.555Z"
   },
   {
    "duration": 18,
    "start_time": "2022-03-31T19:13:37.581Z"
   },
   {
    "duration": 11,
    "start_time": "2022-03-31T19:13:37.601Z"
   },
   {
    "duration": 29,
    "start_time": "2022-03-31T19:13:37.614Z"
   },
   {
    "duration": 5,
    "start_time": "2022-03-31T19:13:37.644Z"
   },
   {
    "duration": 89,
    "start_time": "2022-03-31T19:13:37.681Z"
   },
   {
    "duration": 17134,
    "start_time": "2022-03-31T19:13:37.772Z"
   },
   {
    "duration": 6,
    "start_time": "2022-03-31T19:13:54.907Z"
   },
   {
    "duration": 111,
    "start_time": "2022-03-31T19:13:54.915Z"
   },
   {
    "duration": 77635,
    "start_time": "2022-03-31T19:13:55.027Z"
   },
   {
    "duration": 20,
    "start_time": "2022-03-31T19:15:12.664Z"
   },
   {
    "duration": 102,
    "start_time": "2022-03-31T19:15:12.686Z"
   },
   {
    "duration": 97,
    "start_time": "2022-03-31T19:15:12.790Z"
   },
   {
    "duration": 101,
    "start_time": "2022-03-31T19:15:12.889Z"
   },
   {
    "duration": 272,
    "start_time": "2022-03-31T19:15:12.992Z"
   },
   {
    "duration": 47,
    "start_time": "2022-03-31T19:15:13.266Z"
   },
   {
    "duration": 158,
    "start_time": "2022-03-31T19:15:13.314Z"
   },
   {
    "duration": 31,
    "start_time": "2022-03-31T19:15:13.473Z"
   },
   {
    "duration": 422,
    "start_time": "2022-03-31T19:15:13.509Z"
   },
   {
    "duration": 180,
    "start_time": "2022-03-31T19:15:13.933Z"
   },
   {
    "duration": 388,
    "start_time": "2022-03-31T19:15:14.115Z"
   },
   {
    "duration": 10,
    "start_time": "2022-03-31T19:15:14.505Z"
   },
   {
    "duration": 4,
    "start_time": "2022-03-31T19:15:14.517Z"
   },
   {
    "duration": 108,
    "start_time": "2022-03-31T19:15:14.523Z"
   },
   {
    "duration": 22716,
    "start_time": "2022-03-31T19:15:14.633Z"
   },
   {
    "duration": 6,
    "start_time": "2022-03-31T19:15:37.351Z"
   },
   {
    "duration": 113,
    "start_time": "2022-03-31T19:15:37.359Z"
   },
   {
    "duration": 100446,
    "start_time": "2022-03-31T19:15:37.474Z"
   },
   {
    "duration": 22,
    "start_time": "2022-03-31T19:17:17.922Z"
   },
   {
    "duration": 115,
    "start_time": "2022-03-31T19:17:17.946Z"
   },
   {
    "duration": 36,
    "start_time": "2022-03-31T19:17:18.063Z"
   },
   {
    "duration": 86,
    "start_time": "2022-03-31T19:17:18.101Z"
   },
   {
    "duration": 295,
    "start_time": "2022-03-31T19:17:18.189Z"
   },
   {
    "duration": 13,
    "start_time": "2022-03-31T19:17:18.486Z"
   },
   {
    "duration": 6,
    "start_time": "2022-03-31T19:17:18.501Z"
   },
   {
    "duration": 156,
    "start_time": "2022-03-31T19:17:18.508Z"
   },
   {
    "duration": 12427,
    "start_time": "2022-03-31T19:17:18.665Z"
   },
   {
    "duration": 9,
    "start_time": "2022-03-31T19:17:31.094Z"
   },
   {
    "duration": 165,
    "start_time": "2022-03-31T19:17:31.104Z"
   },
   {
    "duration": 65910,
    "start_time": "2022-03-31T19:17:31.271Z"
   },
   {
    "duration": 10,
    "start_time": "2022-03-31T19:18:37.183Z"
   },
   {
    "duration": 116,
    "start_time": "2022-03-31T19:18:37.194Z"
   },
   {
    "duration": 169,
    "start_time": "2022-03-31T19:18:37.312Z"
   },
   {
    "duration": 10,
    "start_time": "2022-03-31T19:18:37.482Z"
   },
   {
    "duration": 309,
    "start_time": "2022-03-31T19:18:37.494Z"
   },
   {
    "duration": 9,
    "start_time": "2022-03-31T19:18:37.805Z"
   },
   {
    "duration": 14,
    "start_time": "2022-03-31T19:18:37.816Z"
   },
   {
    "duration": 14,
    "start_time": "2022-03-31T19:18:37.832Z"
   },
   {
    "duration": 11,
    "start_time": "2022-03-31T19:18:37.847Z"
   },
   {
    "duration": 26,
    "start_time": "2022-03-31T19:18:37.859Z"
   },
   {
    "duration": 10,
    "start_time": "2022-03-31T19:18:37.887Z"
   },
   {
    "duration": 107,
    "start_time": "2022-03-31T19:18:37.899Z"
   },
   {
    "duration": 22,
    "start_time": "2022-03-31T19:18:38.007Z"
   },
   {
    "duration": 21,
    "start_time": "2022-03-31T19:18:38.030Z"
   },
   {
    "duration": 188,
    "start_time": "2022-03-31T19:18:38.052Z"
   },
   {
    "duration": 39,
    "start_time": "2022-03-31T19:18:38.242Z"
   },
   {
    "duration": 105,
    "start_time": "2022-03-31T19:18:38.283Z"
   },
   {
    "duration": 275,
    "start_time": "2022-03-31T19:18:38.390Z"
   },
   {
    "duration": 15312,
    "start_time": "2022-03-31T19:21:12.099Z"
   },
   {
    "duration": 19928,
    "start_time": "2022-03-31T19:21:37.219Z"
   },
   {
    "duration": 21402,
    "start_time": "2022-03-31T19:22:08.466Z"
   },
   {
    "duration": 1867,
    "start_time": "2022-03-31T19:32:03.422Z"
   },
   {
    "duration": 73,
    "start_time": "2022-03-31T19:32:05.291Z"
   },
   {
    "duration": 15,
    "start_time": "2022-03-31T19:32:05.366Z"
   },
   {
    "duration": 7,
    "start_time": "2022-03-31T19:32:05.383Z"
   },
   {
    "duration": 9,
    "start_time": "2022-03-31T19:32:05.393Z"
   },
   {
    "duration": 8,
    "start_time": "2022-03-31T19:32:05.403Z"
   },
   {
    "duration": 14,
    "start_time": "2022-03-31T19:32:05.413Z"
   },
   {
    "duration": 4,
    "start_time": "2022-03-31T19:32:05.428Z"
   },
   {
    "duration": 15,
    "start_time": "2022-03-31T19:32:05.434Z"
   },
   {
    "duration": 31,
    "start_time": "2022-03-31T19:32:05.451Z"
   },
   {
    "duration": 22,
    "start_time": "2022-03-31T19:32:05.483Z"
   },
   {
    "duration": 11,
    "start_time": "2022-03-31T19:32:05.507Z"
   },
   {
    "duration": 61,
    "start_time": "2022-03-31T19:32:05.520Z"
   },
   {
    "duration": 5,
    "start_time": "2022-03-31T19:32:05.585Z"
   },
   {
    "duration": 139,
    "start_time": "2022-03-31T19:32:05.592Z"
   },
   {
    "duration": 23945,
    "start_time": "2022-03-31T19:32:05.733Z"
   },
   {
    "duration": 8,
    "start_time": "2022-03-31T19:32:29.681Z"
   },
   {
    "duration": 116,
    "start_time": "2022-03-31T19:32:29.691Z"
   },
   {
    "duration": 106381,
    "start_time": "2022-03-31T19:32:29.808Z"
   },
   {
    "duration": 17,
    "start_time": "2022-03-31T19:34:16.191Z"
   },
   {
    "duration": 168,
    "start_time": "2022-03-31T19:34:16.210Z"
   },
   {
    "duration": 108,
    "start_time": "2022-03-31T19:34:16.380Z"
   },
   {
    "duration": 99,
    "start_time": "2022-03-31T19:34:16.491Z"
   },
   {
    "duration": 277,
    "start_time": "2022-03-31T19:34:16.592Z"
   },
   {
    "duration": 30,
    "start_time": "2022-03-31T19:34:16.871Z"
   },
   {
    "duration": 134,
    "start_time": "2022-03-31T19:34:16.903Z"
   },
   {
    "duration": 43,
    "start_time": "2022-03-31T19:34:17.039Z"
   },
   {
    "duration": 306,
    "start_time": "2022-03-31T19:34:17.087Z"
   },
   {
    "duration": 186,
    "start_time": "2022-03-31T19:34:17.395Z"
   },
   {
    "duration": 344,
    "start_time": "2022-03-31T19:34:17.582Z"
   },
   {
    "duration": 11,
    "start_time": "2022-03-31T19:34:17.928Z"
   },
   {
    "duration": 6,
    "start_time": "2022-03-31T19:34:17.940Z"
   },
   {
    "duration": 109,
    "start_time": "2022-03-31T19:34:17.947Z"
   },
   {
    "duration": 31274,
    "start_time": "2022-03-31T19:34:18.057Z"
   },
   {
    "duration": 7,
    "start_time": "2022-03-31T19:34:49.333Z"
   },
   {
    "duration": 160,
    "start_time": "2022-03-31T19:34:49.342Z"
   },
   {
    "duration": 133034,
    "start_time": "2022-03-31T19:34:49.504Z"
   },
   {
    "duration": 23,
    "start_time": "2022-03-31T19:37:02.539Z"
   },
   {
    "duration": 113,
    "start_time": "2022-03-31T19:37:02.563Z"
   },
   {
    "duration": 104,
    "start_time": "2022-03-31T19:37:02.677Z"
   },
   {
    "duration": 101,
    "start_time": "2022-03-31T19:37:02.787Z"
   },
   {
    "duration": 298,
    "start_time": "2022-03-31T19:37:02.890Z"
   },
   {
    "duration": 11,
    "start_time": "2022-03-31T19:37:03.190Z"
   },
   {
    "duration": 4,
    "start_time": "2022-03-31T19:37:03.203Z"
   },
   {
    "duration": 119,
    "start_time": "2022-03-31T19:37:03.209Z"
   },
   {
    "duration": 8865,
    "start_time": "2022-03-31T19:37:03.330Z"
   },
   {
    "duration": 6,
    "start_time": "2022-03-31T19:37:12.197Z"
   },
   {
    "duration": 111,
    "start_time": "2022-03-31T19:37:12.204Z"
   },
   {
    "duration": 55228,
    "start_time": "2022-03-31T19:37:12.316Z"
   },
   {
    "duration": 12,
    "start_time": "2022-03-31T19:38:07.546Z"
   },
   {
    "duration": 165,
    "start_time": "2022-03-31T19:38:07.559Z"
   },
   {
    "duration": 62,
    "start_time": "2022-03-31T19:38:07.725Z"
   },
   {
    "duration": 104,
    "start_time": "2022-03-31T19:38:07.790Z"
   },
   {
    "duration": 288,
    "start_time": "2022-03-31T19:38:07.899Z"
   },
   {
    "duration": 11,
    "start_time": "2022-03-31T19:38:08.188Z"
   },
   {
    "duration": 13,
    "start_time": "2022-03-31T19:38:08.200Z"
   },
   {
    "duration": 14,
    "start_time": "2022-03-31T19:38:08.215Z"
   },
   {
    "duration": 13,
    "start_time": "2022-03-31T19:38:08.230Z"
   },
   {
    "duration": 11,
    "start_time": "2022-03-31T19:38:08.244Z"
   },
   {
    "duration": 27,
    "start_time": "2022-03-31T19:38:08.256Z"
   },
   {
    "duration": 104,
    "start_time": "2022-03-31T19:38:08.285Z"
   },
   {
    "duration": 25,
    "start_time": "2022-03-31T19:38:08.391Z"
   },
   {
    "duration": 24,
    "start_time": "2022-03-31T19:38:08.417Z"
   },
   {
    "duration": 139,
    "start_time": "2022-03-31T19:38:08.442Z"
   },
   {
    "duration": 97,
    "start_time": "2022-03-31T19:38:08.583Z"
   },
   {
    "duration": 102,
    "start_time": "2022-03-31T19:38:08.690Z"
   },
   {
    "duration": 386,
    "start_time": "2022-03-31T19:38:08.795Z"
   },
   {
    "duration": 71,
    "start_time": "2022-04-02T06:16:37.693Z"
   },
   {
    "duration": 2063,
    "start_time": "2022-04-02T06:16:46.224Z"
   },
   {
    "duration": 58,
    "start_time": "2022-04-02T06:16:48.290Z"
   },
   {
    "duration": 22,
    "start_time": "2022-04-02T06:16:48.350Z"
   },
   {
    "duration": 4,
    "start_time": "2022-04-02T06:16:48.375Z"
   },
   {
    "duration": 9,
    "start_time": "2022-04-02T06:16:48.382Z"
   },
   {
    "duration": 7,
    "start_time": "2022-04-02T06:16:48.393Z"
   },
   {
    "duration": 15,
    "start_time": "2022-04-02T06:16:48.403Z"
   },
   {
    "duration": 48,
    "start_time": "2022-04-02T06:16:48.420Z"
   },
   {
    "duration": 21,
    "start_time": "2022-04-02T06:16:48.470Z"
   },
   {
    "duration": 14,
    "start_time": "2022-04-02T06:16:48.493Z"
   },
   {
    "duration": 66,
    "start_time": "2022-04-02T06:16:48.510Z"
   },
   {
    "duration": 17,
    "start_time": "2022-04-02T06:16:48.579Z"
   },
   {
    "duration": 76,
    "start_time": "2022-04-02T06:16:48.599Z"
   },
   {
    "duration": 7,
    "start_time": "2022-04-02T06:16:48.682Z"
   },
   {
    "duration": 181,
    "start_time": "2022-04-02T06:16:48.692Z"
   },
   {
    "duration": 174,
    "start_time": "2022-04-02T06:16:48.876Z"
   },
   {
    "duration": 1,
    "start_time": "2022-04-02T06:16:49.054Z"
   },
   {
    "duration": 0,
    "start_time": "2022-04-02T06:16:49.057Z"
   },
   {
    "duration": 0,
    "start_time": "2022-04-02T06:16:49.060Z"
   },
   {
    "duration": 0,
    "start_time": "2022-04-02T06:16:49.068Z"
   },
   {
    "duration": 0,
    "start_time": "2022-04-02T06:16:49.071Z"
   },
   {
    "duration": 0,
    "start_time": "2022-04-02T06:16:49.073Z"
   },
   {
    "duration": 0,
    "start_time": "2022-04-02T06:16:49.075Z"
   },
   {
    "duration": 0,
    "start_time": "2022-04-02T06:16:49.077Z"
   },
   {
    "duration": 0,
    "start_time": "2022-04-02T06:16:49.079Z"
   },
   {
    "duration": 0,
    "start_time": "2022-04-02T06:16:49.082Z"
   },
   {
    "duration": 0,
    "start_time": "2022-04-02T06:16:49.084Z"
   },
   {
    "duration": 0,
    "start_time": "2022-04-02T06:16:49.086Z"
   },
   {
    "duration": 0,
    "start_time": "2022-04-02T06:16:49.089Z"
   },
   {
    "duration": 0,
    "start_time": "2022-04-02T06:16:49.091Z"
   },
   {
    "duration": 0,
    "start_time": "2022-04-02T06:16:49.094Z"
   },
   {
    "duration": 0,
    "start_time": "2022-04-02T06:16:49.096Z"
   },
   {
    "duration": 0,
    "start_time": "2022-04-02T06:16:49.099Z"
   },
   {
    "duration": 0,
    "start_time": "2022-04-02T06:16:49.100Z"
   },
   {
    "duration": 0,
    "start_time": "2022-04-02T06:16:49.102Z"
   },
   {
    "duration": 0,
    "start_time": "2022-04-02T06:16:49.168Z"
   },
   {
    "duration": 0,
    "start_time": "2022-04-02T06:16:49.170Z"
   },
   {
    "duration": 0,
    "start_time": "2022-04-02T06:16:49.172Z"
   },
   {
    "duration": 0,
    "start_time": "2022-04-02T06:16:49.174Z"
   },
   {
    "duration": 0,
    "start_time": "2022-04-02T06:16:49.176Z"
   },
   {
    "duration": 0,
    "start_time": "2022-04-02T06:16:49.177Z"
   },
   {
    "duration": 0,
    "start_time": "2022-04-02T06:16:49.179Z"
   },
   {
    "duration": 0,
    "start_time": "2022-04-02T06:16:49.181Z"
   },
   {
    "duration": 0,
    "start_time": "2022-04-02T06:16:49.183Z"
   },
   {
    "duration": 0,
    "start_time": "2022-04-02T06:16:49.185Z"
   },
   {
    "duration": 0,
    "start_time": "2022-04-02T06:16:49.186Z"
   },
   {
    "duration": 0,
    "start_time": "2022-04-02T06:16:49.189Z"
   },
   {
    "duration": 0,
    "start_time": "2022-04-02T06:16:49.190Z"
   },
   {
    "duration": 0,
    "start_time": "2022-04-02T06:16:49.192Z"
   },
   {
    "duration": 0,
    "start_time": "2022-04-02T06:16:49.194Z"
   },
   {
    "duration": 0,
    "start_time": "2022-04-02T06:16:49.195Z"
   },
   {
    "duration": 0,
    "start_time": "2022-04-02T06:16:49.197Z"
   },
   {
    "duration": 0,
    "start_time": "2022-04-02T06:16:49.198Z"
   },
   {
    "duration": 0,
    "start_time": "2022-04-02T06:16:49.199Z"
   },
   {
    "duration": 0,
    "start_time": "2022-04-02T06:16:49.201Z"
   },
   {
    "duration": 0,
    "start_time": "2022-04-02T06:16:49.202Z"
   },
   {
    "duration": 0,
    "start_time": "2022-04-02T06:16:49.267Z"
   },
   {
    "duration": 0,
    "start_time": "2022-04-02T06:16:49.269Z"
   },
   {
    "duration": 0,
    "start_time": "2022-04-02T06:16:49.271Z"
   },
   {
    "duration": 0,
    "start_time": "2022-04-02T06:16:49.272Z"
   },
   {
    "duration": 0,
    "start_time": "2022-04-02T06:16:49.273Z"
   },
   {
    "duration": 0,
    "start_time": "2022-04-02T06:16:49.274Z"
   },
   {
    "duration": 0,
    "start_time": "2022-04-02T06:16:49.276Z"
   },
   {
    "duration": 0,
    "start_time": "2022-04-02T06:16:49.278Z"
   },
   {
    "duration": 0,
    "start_time": "2022-04-02T06:16:49.279Z"
   },
   {
    "duration": 0,
    "start_time": "2022-04-02T06:16:49.280Z"
   },
   {
    "duration": 0,
    "start_time": "2022-04-02T06:16:49.282Z"
   },
   {
    "duration": 2484,
    "start_time": "2022-04-02T06:18:11.896Z"
   },
   {
    "duration": 84,
    "start_time": "2022-04-02T06:18:14.385Z"
   },
   {
    "duration": 30,
    "start_time": "2022-04-02T06:18:14.472Z"
   },
   {
    "duration": 5,
    "start_time": "2022-04-02T06:18:14.506Z"
   },
   {
    "duration": 9,
    "start_time": "2022-04-02T06:18:14.514Z"
   },
   {
    "duration": 45,
    "start_time": "2022-04-02T06:18:14.525Z"
   },
   {
    "duration": 17,
    "start_time": "2022-04-02T06:18:14.572Z"
   },
   {
    "duration": 5,
    "start_time": "2022-04-02T06:18:14.591Z"
   },
   {
    "duration": 17,
    "start_time": "2022-04-02T06:18:14.599Z"
   },
   {
    "duration": 59,
    "start_time": "2022-04-02T06:18:14.618Z"
   },
   {
    "duration": 29,
    "start_time": "2022-04-02T06:18:14.679Z"
   },
   {
    "duration": 17,
    "start_time": "2022-04-02T06:18:14.710Z"
   },
   {
    "duration": 47,
    "start_time": "2022-04-02T06:18:14.767Z"
   },
   {
    "duration": 56,
    "start_time": "2022-04-02T06:18:14.818Z"
   },
   {
    "duration": 307,
    "start_time": "2022-04-02T06:18:14.876Z"
   },
   {
    "duration": 30535,
    "start_time": "2022-04-02T06:18:15.185Z"
   },
   {
    "duration": 10,
    "start_time": "2022-04-02T06:18:45.723Z"
   },
   {
    "duration": 192,
    "start_time": "2022-04-02T06:18:45.735Z"
   },
   {
    "duration": 115233,
    "start_time": "2022-04-02T06:18:45.929Z"
   },
   {
    "duration": 19,
    "start_time": "2022-04-02T06:20:41.168Z"
   },
   {
    "duration": 194,
    "start_time": "2022-04-02T06:20:41.189Z"
   },
   {
    "duration": 88,
    "start_time": "2022-04-02T06:20:41.385Z"
   },
   {
    "duration": 107,
    "start_time": "2022-04-02T06:20:41.476Z"
   },
   {
    "duration": 270,
    "start_time": "2022-04-02T06:20:41.666Z"
   },
   {
    "duration": 48,
    "start_time": "2022-04-02T06:20:41.939Z"
   },
   {
    "duration": 171,
    "start_time": "2022-04-02T06:20:41.990Z"
   },
   {
    "duration": 37,
    "start_time": "2022-04-02T06:20:42.167Z"
   },
   {
    "duration": 368,
    "start_time": "2022-04-02T06:20:42.269Z"
   },
   {
    "duration": 298,
    "start_time": "2022-04-02T06:20:42.640Z"
   },
   {
    "duration": 458,
    "start_time": "2022-04-02T06:20:42.941Z"
   },
   {
    "duration": 16,
    "start_time": "2022-04-02T06:20:43.401Z"
   },
   {
    "duration": 7,
    "start_time": "2022-04-02T06:20:43.420Z"
   },
   {
    "duration": 186,
    "start_time": "2022-04-02T06:20:43.430Z"
   },
   {
    "duration": 34502,
    "start_time": "2022-04-02T06:20:43.619Z"
   },
   {
    "duration": 10,
    "start_time": "2022-04-02T06:21:18.123Z"
   },
   {
    "duration": 196,
    "start_time": "2022-04-02T06:21:18.136Z"
   },
   {
    "duration": 160965,
    "start_time": "2022-04-02T06:21:18.334Z"
   },
   {
    "duration": 31,
    "start_time": "2022-04-02T06:23:59.302Z"
   },
   {
    "duration": 204,
    "start_time": "2022-04-02T06:23:59.336Z"
   },
   {
    "duration": 131,
    "start_time": "2022-04-02T06:23:59.543Z"
   },
   {
    "duration": 12,
    "start_time": "2022-04-02T06:23:59.771Z"
   },
   {
    "duration": 367,
    "start_time": "2022-04-02T06:23:59.786Z"
   },
   {
    "duration": 23,
    "start_time": "2022-04-02T06:24:00.156Z"
   },
   {
    "duration": 6,
    "start_time": "2022-04-02T06:24:00.181Z"
   },
   {
    "duration": 197,
    "start_time": "2022-04-02T06:24:00.190Z"
   },
   {
    "duration": 13520,
    "start_time": "2022-04-02T06:24:00.390Z"
   },
   {
    "duration": 11,
    "start_time": "2022-04-02T06:24:13.913Z"
   },
   {
    "duration": 202,
    "start_time": "2022-04-02T06:24:13.926Z"
   },
   {
    "duration": 68343,
    "start_time": "2022-04-02T06:24:14.130Z"
   },
   {
    "duration": 14,
    "start_time": "2022-04-02T06:25:22.475Z"
   },
   {
    "duration": 196,
    "start_time": "2022-04-02T06:25:22.492Z"
   },
   {
    "duration": 82,
    "start_time": "2022-04-02T06:25:22.691Z"
   },
   {
    "duration": 101,
    "start_time": "2022-04-02T06:25:22.777Z"
   },
   {
    "duration": 363,
    "start_time": "2022-04-02T06:25:22.881Z"
   },
   {
    "duration": 22,
    "start_time": "2022-04-02T06:25:23.247Z"
   },
   {
    "duration": 13,
    "start_time": "2022-04-02T06:25:23.271Z"
   },
   {
    "duration": 15,
    "start_time": "2022-04-02T06:25:23.287Z"
   },
   {
    "duration": 15,
    "start_time": "2022-04-02T06:25:23.304Z"
   },
   {
    "duration": 51,
    "start_time": "2022-04-02T06:25:23.322Z"
   },
   {
    "duration": 12,
    "start_time": "2022-04-02T06:25:23.376Z"
   },
   {
    "duration": 214,
    "start_time": "2022-04-02T06:25:23.390Z"
   },
   {
    "duration": 32,
    "start_time": "2022-04-02T06:25:23.606Z"
   },
   {
    "duration": 48,
    "start_time": "2022-04-02T06:25:23.641Z"
   },
   {
    "duration": 204,
    "start_time": "2022-04-02T06:25:23.692Z"
   },
   {
    "duration": 73,
    "start_time": "2022-04-02T06:25:23.898Z"
   },
   {
    "duration": 193,
    "start_time": "2022-04-02T06:25:23.975Z"
   },
   {
    "duration": 387,
    "start_time": "2022-04-02T06:25:24.171Z"
   },
   {
    "duration": 2050,
    "start_time": "2022-04-02T06:31:12.904Z"
   },
   {
    "duration": 63,
    "start_time": "2022-04-02T06:31:14.957Z"
   },
   {
    "duration": 19,
    "start_time": "2022-04-02T06:31:15.022Z"
   },
   {
    "duration": 24,
    "start_time": "2022-04-02T06:31:15.043Z"
   },
   {
    "duration": 11,
    "start_time": "2022-04-02T06:31:15.071Z"
   },
   {
    "duration": 10,
    "start_time": "2022-04-02T06:31:15.084Z"
   },
   {
    "duration": 20,
    "start_time": "2022-04-02T06:31:15.096Z"
   },
   {
    "duration": 5,
    "start_time": "2022-04-02T06:31:15.118Z"
   },
   {
    "duration": 54,
    "start_time": "2022-04-02T06:31:15.125Z"
   },
   {
    "duration": 13,
    "start_time": "2022-04-02T06:31:15.182Z"
   },
   {
    "duration": 31,
    "start_time": "2022-04-02T06:31:15.197Z"
   },
   {
    "duration": 48,
    "start_time": "2022-04-02T06:31:15.230Z"
   },
   {
    "duration": 50,
    "start_time": "2022-04-02T06:31:15.281Z"
   },
   {
    "duration": 35,
    "start_time": "2022-04-02T06:31:15.336Z"
   },
   {
    "duration": 196,
    "start_time": "2022-04-02T06:31:15.374Z"
   },
   {
    "duration": 29356,
    "start_time": "2022-04-02T06:31:15.572Z"
   },
   {
    "duration": 209,
    "start_time": "2022-04-02T06:31:44.931Z"
   },
   {
    "duration": 123819,
    "start_time": "2022-04-02T06:31:45.142Z"
   },
   {
    "duration": 206,
    "start_time": "2022-04-02T06:33:48.967Z"
   },
   {
    "duration": 99,
    "start_time": "2022-04-02T06:33:49.176Z"
   },
   {
    "duration": 192,
    "start_time": "2022-04-02T06:33:49.278Z"
   },
   {
    "duration": 285,
    "start_time": "2022-04-02T06:33:49.474Z"
   },
   {
    "duration": 44,
    "start_time": "2022-04-02T06:33:49.761Z"
   },
   {
    "duration": 187,
    "start_time": "2022-04-02T06:33:49.807Z"
   },
   {
    "duration": 81,
    "start_time": "2022-04-02T06:33:49.996Z"
   },
   {
    "duration": 299,
    "start_time": "2022-04-02T06:33:50.170Z"
   },
   {
    "duration": 290,
    "start_time": "2022-04-02T06:33:50.472Z"
   },
   {
    "duration": 456,
    "start_time": "2022-04-02T06:33:50.768Z"
   },
   {
    "duration": 16,
    "start_time": "2022-04-02T06:33:51.226Z"
   },
   {
    "duration": 23,
    "start_time": "2022-04-02T06:33:51.244Z"
   },
   {
    "duration": 186,
    "start_time": "2022-04-02T06:33:51.269Z"
   },
   {
    "duration": 36812,
    "start_time": "2022-04-02T06:33:51.457Z"
   },
   {
    "duration": 182,
    "start_time": "2022-04-02T06:34:28.271Z"
   },
   {
    "duration": 164787,
    "start_time": "2022-04-02T06:34:28.455Z"
   },
   {
    "duration": 188,
    "start_time": "2022-04-02T06:37:13.244Z"
   },
   {
    "duration": 136,
    "start_time": "2022-04-02T06:37:13.434Z"
   },
   {
    "duration": 284,
    "start_time": "2022-04-02T06:37:13.573Z"
   },
   {
    "duration": 16,
    "start_time": "2022-04-02T06:37:13.867Z"
   },
   {
    "duration": 25,
    "start_time": "2022-04-02T06:37:13.885Z"
   },
   {
    "duration": 190,
    "start_time": "2022-04-02T06:37:13.912Z"
   },
   {
    "duration": 15781,
    "start_time": "2022-04-02T06:37:14.108Z"
   },
   {
    "duration": 182,
    "start_time": "2022-04-02T06:37:29.891Z"
   },
   {
    "duration": 77752,
    "start_time": "2022-04-02T06:37:30.075Z"
   },
   {
    "duration": 189,
    "start_time": "2022-04-02T06:38:47.829Z"
   },
   {
    "duration": 152,
    "start_time": "2022-04-02T06:38:48.020Z"
   },
   {
    "duration": 283,
    "start_time": "2022-04-02T06:38:48.175Z"
   },
   {
    "duration": 17,
    "start_time": "2022-04-02T06:38:48.460Z"
   },
   {
    "duration": 14,
    "start_time": "2022-04-02T06:38:48.479Z"
   },
   {
    "duration": 22,
    "start_time": "2022-04-02T06:38:48.495Z"
   },
   {
    "duration": 16,
    "start_time": "2022-04-02T06:38:48.519Z"
   },
   {
    "duration": 46,
    "start_time": "2022-04-02T06:38:48.537Z"
   },
   {
    "duration": 191,
    "start_time": "2022-04-02T06:38:48.585Z"
   },
   {
    "duration": 57,
    "start_time": "2022-04-02T06:38:48.778Z"
   },
   {
    "duration": 274,
    "start_time": "2022-04-02T06:38:48.837Z"
   },
   {
    "duration": 56,
    "start_time": "2022-04-02T06:38:49.113Z"
   },
   {
    "duration": 280,
    "start_time": "2022-04-02T06:38:49.173Z"
   },
   {
    "duration": 28645,
    "start_time": "2022-04-02T07:18:52.532Z"
   },
   {
    "duration": 1846,
    "start_time": "2022-04-02T07:20:32.559Z"
   },
   {
    "duration": 53,
    "start_time": "2022-04-02T07:20:34.408Z"
   },
   {
    "duration": 18,
    "start_time": "2022-04-02T07:20:34.467Z"
   },
   {
    "duration": 4,
    "start_time": "2022-04-02T07:20:34.488Z"
   },
   {
    "duration": 16,
    "start_time": "2022-04-02T07:20:34.494Z"
   },
   {
    "duration": 8,
    "start_time": "2022-04-02T07:20:34.512Z"
   },
   {
    "duration": 49,
    "start_time": "2022-04-02T07:20:34.522Z"
   },
   {
    "duration": 6,
    "start_time": "2022-04-02T07:20:34.573Z"
   },
   {
    "duration": 22,
    "start_time": "2022-04-02T07:20:34.581Z"
   },
   {
    "duration": 12,
    "start_time": "2022-04-02T07:20:34.607Z"
   },
   {
    "duration": 56,
    "start_time": "2022-04-02T07:20:34.621Z"
   },
   {
    "duration": 15,
    "start_time": "2022-04-02T07:20:34.679Z"
   },
   {
    "duration": 43,
    "start_time": "2022-04-02T07:20:34.696Z"
   },
   {
    "duration": 8,
    "start_time": "2022-04-02T07:20:34.766Z"
   },
   {
    "duration": 161,
    "start_time": "2022-04-02T07:20:34.776Z"
   },
   {
    "duration": 27703,
    "start_time": "2022-04-02T07:20:34.939Z"
   },
   {
    "duration": 278,
    "start_time": "2022-04-02T07:21:02.645Z"
   },
   {
    "duration": 122868,
    "start_time": "2022-04-02T07:21:02.925Z"
   },
   {
    "duration": 199,
    "start_time": "2022-04-02T07:23:05.796Z"
   },
   {
    "duration": 171,
    "start_time": "2022-04-02T07:23:05.997Z"
   },
   {
    "duration": 104,
    "start_time": "2022-04-02T07:23:06.171Z"
   },
   {
    "duration": 356,
    "start_time": "2022-04-02T07:23:06.277Z"
   },
   {
    "duration": 53,
    "start_time": "2022-04-02T07:23:06.635Z"
   },
   {
    "duration": 167,
    "start_time": "2022-04-02T07:23:06.691Z"
   },
   {
    "duration": 103,
    "start_time": "2022-04-02T07:23:06.868Z"
   },
   {
    "duration": 363,
    "start_time": "2022-04-02T07:23:06.975Z"
   },
   {
    "duration": 279,
    "start_time": "2022-04-02T07:23:07.340Z"
   },
   {
    "duration": 392,
    "start_time": "2022-04-02T07:23:07.625Z"
   },
   {
    "duration": 16,
    "start_time": "2022-04-02T07:23:08.019Z"
   },
   {
    "duration": 16,
    "start_time": "2022-04-02T07:23:08.037Z"
   },
   {
    "duration": 170,
    "start_time": "2022-04-02T07:23:08.066Z"
   },
   {
    "duration": 36674,
    "start_time": "2022-04-02T07:23:08.238Z"
   },
   {
    "duration": 181,
    "start_time": "2022-04-02T07:23:44.914Z"
   },
   {
    "duration": 171854,
    "start_time": "2022-04-02T07:23:45.098Z"
   },
   {
    "duration": 188,
    "start_time": "2022-04-02T07:26:36.955Z"
   },
   {
    "duration": 130,
    "start_time": "2022-04-02T07:26:37.145Z"
   },
   {
    "duration": 221,
    "start_time": "2022-04-02T07:26:37.367Z"
   },
   {
    "duration": 16,
    "start_time": "2022-04-02T07:26:37.590Z"
   },
   {
    "duration": 6,
    "start_time": "2022-04-02T07:26:37.608Z"
   },
   {
    "duration": 191,
    "start_time": "2022-04-02T07:26:37.617Z"
   },
   {
    "duration": 16260,
    "start_time": "2022-04-02T07:26:37.810Z"
   },
   {
    "duration": 195,
    "start_time": "2022-04-02T07:26:54.072Z"
   },
   {
    "duration": 79368,
    "start_time": "2022-04-02T07:26:54.270Z"
   },
   {
    "duration": 201,
    "start_time": "2022-04-02T07:28:13.641Z"
   },
   {
    "duration": 126,
    "start_time": "2022-04-02T07:28:13.845Z"
   },
   {
    "duration": 282,
    "start_time": "2022-04-02T07:28:13.974Z"
   },
   {
    "duration": 18,
    "start_time": "2022-04-02T07:28:14.258Z"
   },
   {
    "duration": 14,
    "start_time": "2022-04-02T07:28:14.278Z"
   },
   {
    "duration": 19,
    "start_time": "2022-04-02T07:28:14.294Z"
   },
   {
    "duration": 16,
    "start_time": "2022-04-02T07:28:14.315Z"
   },
   {
    "duration": 50,
    "start_time": "2022-04-02T07:28:14.333Z"
   },
   {
    "duration": 188,
    "start_time": "2022-04-02T07:28:14.385Z"
   },
   {
    "duration": 58,
    "start_time": "2022-04-02T07:28:14.575Z"
   },
   {
    "duration": 326,
    "start_time": "2022-04-02T07:28:14.636Z"
   },
   {
    "duration": 109,
    "start_time": "2022-04-02T07:28:14.968Z"
   },
   {
    "duration": 196,
    "start_time": "2022-04-02T07:28:15.169Z"
   },
   {
    "duration": 72,
    "start_time": "2022-04-02T14:35:37.204Z"
   },
   {
    "duration": 2063,
    "start_time": "2022-04-02T14:37:01.866Z"
   },
   {
    "duration": 56,
    "start_time": "2022-04-02T14:37:03.931Z"
   },
   {
    "duration": 19,
    "start_time": "2022-04-02T14:37:03.989Z"
   },
   {
    "duration": 6,
    "start_time": "2022-04-02T14:37:04.011Z"
   },
   {
    "duration": 8,
    "start_time": "2022-04-02T14:37:04.021Z"
   },
   {
    "duration": 42,
    "start_time": "2022-04-02T14:37:04.032Z"
   },
   {
    "duration": 18,
    "start_time": "2022-04-02T14:37:04.077Z"
   },
   {
    "duration": 6,
    "start_time": "2022-04-02T14:37:04.098Z"
   },
   {
    "duration": 62,
    "start_time": "2022-04-02T14:37:04.107Z"
   },
   {
    "duration": 15,
    "start_time": "2022-04-02T14:37:04.172Z"
   },
   {
    "duration": 28,
    "start_time": "2022-04-02T14:37:04.189Z"
   },
   {
    "duration": 51,
    "start_time": "2022-04-02T14:37:04.219Z"
   },
   {
    "duration": 43,
    "start_time": "2022-04-02T14:37:04.272Z"
   },
   {
    "duration": 7,
    "start_time": "2022-04-02T14:37:04.319Z"
   },
   {
    "duration": 181,
    "start_time": "2022-04-02T14:37:04.328Z"
   },
   {
    "duration": 27535,
    "start_time": "2022-04-02T14:37:04.511Z"
   },
   {
    "duration": 195,
    "start_time": "2022-04-02T14:37:32.048Z"
   },
   {
    "duration": 125132,
    "start_time": "2022-04-02T14:37:32.246Z"
   },
   {
    "duration": 194,
    "start_time": "2022-04-02T14:39:37.381Z"
   },
   {
    "duration": 97,
    "start_time": "2022-04-02T14:39:37.578Z"
   },
   {
    "duration": 98,
    "start_time": "2022-04-02T14:39:37.677Z"
   },
   {
    "duration": 355,
    "start_time": "2022-04-02T14:39:37.778Z"
   },
   {
    "duration": 51,
    "start_time": "2022-04-02T14:39:38.135Z"
   },
   {
    "duration": 180,
    "start_time": "2022-04-02T14:39:38.189Z"
   },
   {
    "duration": 104,
    "start_time": "2022-04-02T14:39:38.371Z"
   },
   {
    "duration": 444,
    "start_time": "2022-04-02T14:39:38.477Z"
   },
   {
    "duration": 276,
    "start_time": "2022-04-02T14:39:38.924Z"
   },
   {
    "duration": 411,
    "start_time": "2022-04-02T14:39:39.202Z"
   },
   {
    "duration": 17,
    "start_time": "2022-04-02T14:39:39.615Z"
   },
   {
    "duration": 7,
    "start_time": "2022-04-02T14:39:39.634Z"
   },
   {
    "duration": 168,
    "start_time": "2022-04-02T14:39:39.667Z"
   },
   {
    "duration": 37851,
    "start_time": "2022-04-02T14:39:39.837Z"
   },
   {
    "duration": 187,
    "start_time": "2022-04-02T14:40:17.690Z"
   },
   {
    "duration": 189455,
    "start_time": "2022-04-02T14:40:17.879Z"
   },
   {
    "duration": 198,
    "start_time": "2022-04-02T14:43:27.337Z"
   },
   {
    "duration": 133,
    "start_time": "2022-04-02T14:43:27.539Z"
   },
   {
    "duration": 293,
    "start_time": "2022-04-02T14:43:27.677Z"
   },
   {
    "duration": 18,
    "start_time": "2022-04-02T14:43:27.972Z"
   },
   {
    "duration": 24,
    "start_time": "2022-04-02T14:43:27.992Z"
   },
   {
    "duration": 190,
    "start_time": "2022-04-02T14:43:28.019Z"
   },
   {
    "duration": 16156,
    "start_time": "2022-04-02T14:43:28.216Z"
   },
   {
    "duration": 194,
    "start_time": "2022-04-02T14:43:44.375Z"
   },
   {
    "duration": 77319,
    "start_time": "2022-04-02T14:43:44.572Z"
   },
   {
    "duration": 206,
    "start_time": "2022-04-02T14:45:01.894Z"
   },
   {
    "duration": 74,
    "start_time": "2022-04-02T14:45:02.103Z"
   },
   {
    "duration": 366,
    "start_time": "2022-04-02T14:45:02.181Z"
   },
   {
    "duration": 21,
    "start_time": "2022-04-02T14:45:02.549Z"
   },
   {
    "duration": 14,
    "start_time": "2022-04-02T14:45:02.572Z"
   },
   {
    "duration": 17,
    "start_time": "2022-04-02T14:45:02.588Z"
   },
   {
    "duration": 15,
    "start_time": "2022-04-02T14:45:02.607Z"
   },
   {
    "duration": 53,
    "start_time": "2022-04-02T14:45:02.624Z"
   },
   {
    "duration": 197,
    "start_time": "2022-04-02T14:45:02.679Z"
   },
   {
    "duration": 58,
    "start_time": "2022-04-02T14:45:02.878Z"
   },
   {
    "duration": 270,
    "start_time": "2022-04-02T14:45:02.938Z"
   },
   {
    "duration": 65,
    "start_time": "2022-04-02T14:45:03.211Z"
   },
   {
    "duration": 274,
    "start_time": "2022-04-02T14:45:03.279Z"
   }
  ],
  "kernelspec": {
   "display_name": "Python 3 (ipykernel)",
   "language": "python",
   "name": "python3"
  },
  "language_info": {
   "codemirror_mode": {
    "name": "ipython",
    "version": 3
   },
   "file_extension": ".py",
   "mimetype": "text/x-python",
   "name": "python",
   "nbconvert_exporter": "python",
   "pygments_lexer": "ipython3",
   "version": "3.9.10"
  },
  "toc": {
   "base_numbering": 1,
   "nav_menu": {},
   "number_sections": true,
   "sideBar": true,
   "skip_h1_title": true,
   "title_cell": "Содержание",
   "title_sidebar": "Contents",
   "toc_cell": true,
   "toc_position": {
    "height": "calc(100% - 180px)",
    "left": "10px",
    "top": "150px",
    "width": "358.188px"
   },
   "toc_section_display": true,
   "toc_window_display": true
  }
 },
 "nbformat": 4,
 "nbformat_minor": 2
}
