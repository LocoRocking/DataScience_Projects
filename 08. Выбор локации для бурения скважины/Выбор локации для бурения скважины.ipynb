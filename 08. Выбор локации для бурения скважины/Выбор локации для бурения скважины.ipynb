{
 "cells": [
  {
   "cell_type": "markdown",
   "metadata": {},
   "source": [
    "# Выбор локации для скважины"
   ]
  },
  {
   "cell_type": "markdown",
   "metadata": {},
   "source": [
    "Допустим, вы работаете в добывающей компании «ГлавРосГосНефть». Нужно решить, где бурить новую скважину.\n",
    "\n",
    "Вам предоставлены пробы нефти в трёх регионах: в каждом 10 000 месторождений, где измерили качество нефти и объём её запасов. Постройте модель машинного обучения, которая поможет определить регион, где добыча принесёт наибольшую прибыль. Проанализируйте возможную прибыль и риски техникой *Bootstrap.*\n",
    "\n",
    "Шаги для выбора локации:\n",
    "\n",
    "- В избранном регионе ищут месторождения, для каждого определяют значения признаков;\n",
    "- Строят модель и оценивают объём запасов;\n",
    "- Выбирают месторождения с самым высокими оценками значений. Количество месторождений зависит от бюджета компании и стоимости разработки одной скважины;\n",
    "- Прибыль равна суммарной прибыли отобранных месторождений.\n",
    "\n",
    "<b>Описание данных:</b>\n",
    "- `id` — уникальный идентификатор скважины;\n",
    "- `f0, f1, f2` — три признака точек (неважно, что они означают, но сами признаки значимы);\n",
    "- `product` — объём запасов в скважине (тыс. баррелей)."
   ]
  },
  {
   "cell_type": "markdown",
   "metadata": {},
   "source": [
    "## Загрузка и подготовка данных"
   ]
  },
  {
   "cell_type": "code",
   "execution_count": 1,
   "metadata": {},
   "outputs": [],
   "source": [
    "#для начала импортируем необходимые библиотеки\n",
    "import pandas as pd\n",
    "import numpy as np\n",
    "import seaborn as sns\n",
    "import matplotlib.pyplot as plt\n",
    "\n",
    "from sklearn.model_selection import train_test_split\n",
    "from sklearn.linear_model import LinearRegression\n",
    "from sklearn.metrics import mean_squared_error\n",
    "\n",
    "import warnings\n",
    "warnings.filterwarnings('ignore')"
   ]
  },
  {
   "cell_type": "code",
   "execution_count": 2,
   "metadata": {},
   "outputs": [],
   "source": [
    "#загрузим и сохраним датасеты\n",
    "geo1=pd.read_csv('/datasets/geo_data_0.csv')\n",
    "geo2=pd.read_csv('/datasets/geo_data_1.csv')\n",
    "geo3=pd.read_csv('/datasets/geo_data_2.csv')"
   ]
  },
  {
   "cell_type": "code",
   "execution_count": 3,
   "metadata": {},
   "outputs": [
    {
     "data": {
      "text/html": [
       "<div>\n",
       "<style scoped>\n",
       "    .dataframe tbody tr th:only-of-type {\n",
       "        vertical-align: middle;\n",
       "    }\n",
       "\n",
       "    .dataframe tbody tr th {\n",
       "        vertical-align: top;\n",
       "    }\n",
       "\n",
       "    .dataframe thead th {\n",
       "        text-align: right;\n",
       "    }\n",
       "</style>\n",
       "<table border=\"1\" class=\"dataframe\">\n",
       "  <thead>\n",
       "    <tr style=\"text-align: right;\">\n",
       "      <th></th>\n",
       "      <th>id</th>\n",
       "      <th>f0</th>\n",
       "      <th>f1</th>\n",
       "      <th>f2</th>\n",
       "      <th>product</th>\n",
       "    </tr>\n",
       "  </thead>\n",
       "  <tbody>\n",
       "    <tr>\n",
       "      <th>66314</th>\n",
       "      <td>vwpkP</td>\n",
       "      <td>-1.101797</td>\n",
       "      <td>0.121504</td>\n",
       "      <td>1.482206</td>\n",
       "      <td>57.872273</td>\n",
       "    </tr>\n",
       "    <tr>\n",
       "      <th>55395</th>\n",
       "      <td>3nULw</td>\n",
       "      <td>-0.861821</td>\n",
       "      <td>0.258906</td>\n",
       "      <td>4.378768</td>\n",
       "      <td>101.887198</td>\n",
       "    </tr>\n",
       "    <tr>\n",
       "      <th>7872</th>\n",
       "      <td>cGjna</td>\n",
       "      <td>1.665297</td>\n",
       "      <td>-0.451329</td>\n",
       "      <td>7.328783</td>\n",
       "      <td>168.590683</td>\n",
       "    </tr>\n",
       "    <tr>\n",
       "      <th>88459</th>\n",
       "      <td>nMwtL</td>\n",
       "      <td>1.500548</td>\n",
       "      <td>-0.206621</td>\n",
       "      <td>9.495703</td>\n",
       "      <td>148.010514</td>\n",
       "    </tr>\n",
       "    <tr>\n",
       "      <th>13443</th>\n",
       "      <td>GiXNe</td>\n",
       "      <td>0.873081</td>\n",
       "      <td>-0.699405</td>\n",
       "      <td>6.156894</td>\n",
       "      <td>149.501962</td>\n",
       "    </tr>\n",
       "  </tbody>\n",
       "</table>\n",
       "</div>"
      ],
      "text/plain": [
       "          id        f0        f1        f2     product\n",
       "66314  vwpkP -1.101797  0.121504  1.482206   57.872273\n",
       "55395  3nULw -0.861821  0.258906  4.378768  101.887198\n",
       "7872   cGjna  1.665297 -0.451329  7.328783  168.590683\n",
       "88459  nMwtL  1.500548 -0.206621  9.495703  148.010514\n",
       "13443  GiXNe  0.873081 -0.699405  6.156894  149.501962"
      ]
     },
     "execution_count": 3,
     "metadata": {},
     "output_type": "execute_result"
    }
   ],
   "source": [
    "geo1.sample(5)"
   ]
  },
  {
   "cell_type": "markdown",
   "metadata": {},
   "source": [
    "Проверим все три датасета на пропуски, дубликаты, а также корелляцию данных внутри датасета."
   ]
  },
  {
   "cell_type": "markdown",
   "metadata": {},
   "source": [
    "#### Знакомство с первым датасетом"
   ]
  },
  {
   "cell_type": "code",
   "execution_count": 4,
   "metadata": {},
   "outputs": [
    {
     "name": "stdout",
     "output_type": "stream",
     "text": [
      "<class 'pandas.core.frame.DataFrame'>\n",
      "RangeIndex: 100000 entries, 0 to 99999\n",
      "Data columns (total 5 columns):\n",
      " #   Column   Non-Null Count   Dtype  \n",
      "---  ------   --------------   -----  \n",
      " 0   id       100000 non-null  object \n",
      " 1   f0       100000 non-null  float64\n",
      " 2   f1       100000 non-null  float64\n",
      " 3   f2       100000 non-null  float64\n",
      " 4   product  100000 non-null  float64\n",
      "dtypes: float64(4), object(1)\n",
      "memory usage: 3.8+ MB\n"
     ]
    }
   ],
   "source": [
    "geo1.info()"
   ]
  },
  {
   "cell_type": "code",
   "execution_count": 5,
   "metadata": {},
   "outputs": [
    {
     "name": "stdout",
     "output_type": "stream",
     "text": [
      "Количество пропусков в первом датасете: 0\n"
     ]
    }
   ],
   "source": [
    "print('Количество пропусков в первом датасете:', geo1.duplicated().sum())"
   ]
  },
  {
   "cell_type": "code",
   "execution_count": 6,
   "metadata": {},
   "outputs": [
    {
     "data": {
      "text/plain": [
       "<AxesSubplot:>"
      ]
     },
     "execution_count": 6,
     "metadata": {},
     "output_type": "execute_result"
    },
    {
     "data": {
      "image/png": "[encoded data removed]",
      "text/plain": [
       "<Figure size 432x288 with 2 Axes>"
      ]
     },
     "metadata": {
      "needs_background": "light"
     },
     "output_type": "display_data"
    }
   ],
   "source": [
    "sns.heatmap(geo1.corr(), annot=True, cmap='RdYlGn', center=0)"
   ]
  },
  {
   "cell_type": "markdown",
   "metadata": {},
   "source": [
    "По результатам изучения первого датасета можно сказать следующее:\n",
    "- датасет содержит 100 000 строк и 5 столбцов;\n",
    "- пропусков и дубликатов нет;\n",
    "- корреляции между признаками f0, f1 и объемом запасов практически нет;\n",
    "- есть средняя корреляция между признаком f2 и объемом запасов."
   ]
  },
  {
   "cell_type": "markdown",
   "metadata": {},
   "source": [
    "#### Знакомство со вторым датасетом"
   ]
  },
  {
   "cell_type": "code",
   "execution_count": 7,
   "metadata": {},
   "outputs": [
    {
     "name": "stdout",
     "output_type": "stream",
     "text": [
      "<class 'pandas.core.frame.DataFrame'>\n",
      "RangeIndex: 100000 entries, 0 to 99999\n",
      "Data columns (total 5 columns):\n",
      " #   Column   Non-Null Count   Dtype  \n",
      "---  ------   --------------   -----  \n",
      " 0   id       100000 non-null  object \n",
      " 1   f0       100000 non-null  float64\n",
      " 2   f1       100000 non-null  float64\n",
      " 3   f2       100000 non-null  float64\n",
      " 4   product  100000 non-null  float64\n",
      "dtypes: float64(4), object(1)\n",
      "memory usage: 3.8+ MB\n"
     ]
    }
   ],
   "source": [
    "geo2.info()"
   ]
  },
  {
   "cell_type": "code",
   "execution_count": 8,
   "metadata": {},
   "outputs": [
    {
     "name": "stdout",
     "output_type": "stream",
     "text": [
      "Количество пропусков во втором датасете: 0\n"
     ]
    }
   ],
   "source": [
    "print('Количество пропусков во втором датасете:', geo2.duplicated().sum())"
   ]
  },
  {
   "cell_type": "code",
   "execution_count": 9,
   "metadata": {},
   "outputs": [
    {
     "data": {
      "text/plain": [
       "<AxesSubplot:>"
      ]
     },
     "execution_count": 9,
     "metadata": {},
     "output_type": "execute_result"
    },
    {
     "data": {
      "image/png": "[encoded data removed]",
      "text/plain": [
       "<Figure size 432x288 with 2 Axes>"
      ]
     },
     "metadata": {
      "needs_background": "light"
     },
     "output_type": "display_data"
    }
   ],
   "source": [
    "sns.heatmap(geo2.corr(), annot=True, cmap='RdYlGn', center=0)"
   ]
  },
  {
   "cell_type": "markdown",
   "metadata": {},
   "source": [
    "По результатам изучения второго датасета можно сказать следующее:\n",
    "- датасет содержит 100 000 строк и 5 столбцов;\n",
    "- пропусков и дубликатов нет;\n",
    "- корреляции между признаками f0, f1 и объемом запасов практически нет;\n",
    "- корреляция между признаком f2 и объемом запасов равна единице, то есть между двумя этими признаками есть прямая взаимозависимость и связь."
   ]
  },
  {
   "cell_type": "markdown",
   "metadata": {},
   "source": [
    "#### Знакомство со третьим датасетом"
   ]
  },
  {
   "cell_type": "code",
   "execution_count": 10,
   "metadata": {},
   "outputs": [
    {
     "name": "stdout",
     "output_type": "stream",
     "text": [
      "<class 'pandas.core.frame.DataFrame'>\n",
      "RangeIndex: 100000 entries, 0 to 99999\n",
      "Data columns (total 5 columns):\n",
      " #   Column   Non-Null Count   Dtype  \n",
      "---  ------   --------------   -----  \n",
      " 0   id       100000 non-null  object \n",
      " 1   f0       100000 non-null  float64\n",
      " 2   f1       100000 non-null  float64\n",
      " 3   f2       100000 non-null  float64\n",
      " 4   product  100000 non-null  float64\n",
      "dtypes: float64(4), object(1)\n",
      "memory usage: 3.8+ MB\n"
     ]
    }
   ],
   "source": [
    "geo3.info()"
   ]
  },
  {
   "cell_type": "code",
   "execution_count": 11,
   "metadata": {},
   "outputs": [
    {
     "name": "stdout",
     "output_type": "stream",
     "text": [
      "Количество пропусков в третьем датасете: 0\n"
     ]
    }
   ],
   "source": [
    "print('Количество пропусков в третьем датасете:', geo3.duplicated().sum())"
   ]
  },
  {
   "cell_type": "code",
   "execution_count": 12,
   "metadata": {},
   "outputs": [
    {
     "data": {
      "text/plain": [
       "<AxesSubplot:>"
      ]
     },
     "execution_count": 12,
     "metadata": {},
     "output_type": "execute_result"
    },
    {
     "data": {
      "image/png": "[encoded data removed]",
      "text/plain": [
       "<Figure size 432x288 with 2 Axes>"
      ]
     },
     "metadata": {
      "needs_background": "light"
     },
     "output_type": "display_data"
    }
   ],
   "source": [
    "sns.heatmap(geo3.corr(), annot=True, cmap='RdYlGn', center=0)"
   ]
  },
  {
   "cell_type": "markdown",
   "metadata": {},
   "source": [
    "По результатам изучения третьего датасета можно сказать следующее:\n",
    "- датасет содержит 100 000 строк и 5 столбцов;\n",
    "- пропусков и дубликатов нет;\n",
    "- корреляции между признаками f0, f1 и объемом запасов практически нет;\n",
    "- есть средняя корреляция между признаком f2 и объемом запасов в скважине ."
   ]
  },
  {
   "cell_type": "markdown",
   "metadata": {},
   "source": [
    "#### Удаление столбцов"
   ]
  },
  {
   "cell_type": "markdown",
   "metadata": {},
   "source": [
    "Удалим ненужный нам столбец `id` из всех датасетов, т.к. он не нужен для обучения модели."
   ]
  },
  {
   "cell_type": "code",
   "execution_count": 13,
   "metadata": {},
   "outputs": [
    {
     "data": {
      "text/html": [
       "<div>\n",
       "<style scoped>\n",
       "    .dataframe tbody tr th:only-of-type {\n",
       "        vertical-align: middle;\n",
       "    }\n",
       "\n",
       "    .dataframe tbody tr th {\n",
       "        vertical-align: top;\n",
       "    }\n",
       "\n",
       "    .dataframe thead th {\n",
       "        text-align: right;\n",
       "    }\n",
       "</style>\n",
       "<table border=\"1\" class=\"dataframe\">\n",
       "  <thead>\n",
       "    <tr style=\"text-align: right;\">\n",
       "      <th></th>\n",
       "      <th>f0</th>\n",
       "      <th>f1</th>\n",
       "      <th>f2</th>\n",
       "      <th>product</th>\n",
       "    </tr>\n",
       "  </thead>\n",
       "  <tbody>\n",
       "    <tr>\n",
       "      <th>3133</th>\n",
       "      <td>-0.293830</td>\n",
       "      <td>1.016207</td>\n",
       "      <td>5.439318</td>\n",
       "      <td>93.853574</td>\n",
       "    </tr>\n",
       "    <tr>\n",
       "      <th>37058</th>\n",
       "      <td>0.559960</td>\n",
       "      <td>0.933408</td>\n",
       "      <td>1.763766</td>\n",
       "      <td>26.251373</td>\n",
       "    </tr>\n",
       "    <tr>\n",
       "      <th>11087</th>\n",
       "      <td>0.344323</td>\n",
       "      <td>0.801355</td>\n",
       "      <td>0.321195</td>\n",
       "      <td>28.439257</td>\n",
       "    </tr>\n",
       "    <tr>\n",
       "      <th>6820</th>\n",
       "      <td>0.636404</td>\n",
       "      <td>-0.684702</td>\n",
       "      <td>3.565889</td>\n",
       "      <td>181.413563</td>\n",
       "    </tr>\n",
       "    <tr>\n",
       "      <th>61431</th>\n",
       "      <td>-1.070765</td>\n",
       "      <td>0.367306</td>\n",
       "      <td>-1.628127</td>\n",
       "      <td>33.080863</td>\n",
       "    </tr>\n",
       "  </tbody>\n",
       "</table>\n",
       "</div>"
      ],
      "text/plain": [
       "             f0        f1        f2     product\n",
       "3133  -0.293830  1.016207  5.439318   93.853574\n",
       "37058  0.559960  0.933408  1.763766   26.251373\n",
       "11087  0.344323  0.801355  0.321195   28.439257\n",
       "6820   0.636404 -0.684702  3.565889  181.413563\n",
       "61431 -1.070765  0.367306 -1.628127   33.080863"
      ]
     },
     "execution_count": 13,
     "metadata": {},
     "output_type": "execute_result"
    }
   ],
   "source": [
    "geo1=geo1.drop(['id'], axis=1)\n",
    "geo2=geo2.drop(['id'], axis=1)\n",
    "geo3=geo3.drop(['id'], axis=1)\n",
    "geo1.sample(5)"
   ]
  },
  {
   "cell_type": "markdown",
   "metadata": {},
   "source": [
    "### Вывод по разделу"
   ]
  },
  {
   "cell_type": "markdown",
   "metadata": {},
   "source": [
    "1. Все 3 датасета уже подготовлены для машинного обучения, в них содержится 100 000 строк и 5 столбцов.\n",
    "2. Во всех датасетах уже изначально было произведено масштабирование признаков.\n",
    "3. Столбец `id` содержит тип данных `object`, все остальные столбцы - `float64`.\n",
    "4. Пропусков и дубликатов в датасетах нет.\n",
    "5. Корреляции во всех датасетах между признаками f0, f1 и объемом запасов в скважине практически нет.\n",
    "6. В первом и третьем датасетах есть средняя корреляция между признаком f2 и объемом запасов в скважине, а во втором датасете корреляция между этими признаками равна 1.\n",
    "7. Из всех датасетов удален столбец `id`, т.к. он не нужен для машинного обучения."
   ]
  },
  {
   "cell_type": "markdown",
   "metadata": {},
   "source": [
    "## Обучение и проверка модели"
   ]
  },
  {
   "cell_type": "markdown",
   "metadata": {},
   "source": [
    "Обучим модель линейной регрессии в которой для каждого региона:\n",
    "1. Разделим выборку на обучающую и валидационную.\n",
    "2. Обучим модель.\n",
    "3. Напечатаем на экране средний запас предсказанного сырья и RMSE модели."
   ]
  },
  {
   "cell_type": "code",
   "execution_count": 14,
   "metadata": {},
   "outputs": [],
   "source": [
    "#разделим выборку на обучающую и валидационную\n",
    "features_train_1, features_valid_1, target_train_1, target_valid_1 = train_test_split(\n",
    "    geo1.drop(['product'], axis=1), geo1['product'], test_size=0.25, random_state=12345)\n",
    "\n",
    "features_train_2, features_valid_2, target_train_2, target_valid_2 = train_test_split(\n",
    "    geo2.drop(['product'], axis=1), geo2['product'], test_size=0.25, random_state=12345)\n",
    "\n",
    "features_train_3, features_valid_3, target_train_3, target_valid_3 = train_test_split(\n",
    "    geo3.drop(['product'], axis=1), geo3['product'], test_size=0.25, random_state=12345)"
   ]
  },
  {
   "cell_type": "code",
   "execution_count": 15,
   "metadata": {},
   "outputs": [],
   "source": [
    "#для этого напишем функцию\n",
    "def model_fit(features_train, features_valid, target_train, target_valid):\n",
    "        \n",
    "    model = LinearRegression()\n",
    "    model.fit(features_train, target_train)\n",
    "    predictions = model.predict(features_valid)\n",
    "\n",
    "    predictions_mean = predictions.mean()\n",
    "    rmse = mean_squared_error(target_valid, predictions)**0.5\n",
    "\n",
    "    print('Cредний предсказанный запас сырья: {:.2f}'.format(predictions_mean))\n",
    "    print('RMSE модели: {:.2f}'.format(rmse))\n",
    "    \n",
    "    return predictions"
   ]
  },
  {
   "cell_type": "code",
   "execution_count": 16,
   "metadata": {},
   "outputs": [
    {
     "name": "stdout",
     "output_type": "stream",
     "text": [
      "Cредний предсказанный запас сырья: 92.59\n",
      "RMSE модели: 37.58\n"
     ]
    }
   ],
   "source": [
    "#предсказание по первому датасету\n",
    "predictions_1 = model_fit(features_train_1, features_valid_1, target_train_1, target_valid_1)"
   ]
  },
  {
   "cell_type": "code",
   "execution_count": 17,
   "metadata": {},
   "outputs": [
    {
     "name": "stdout",
     "output_type": "stream",
     "text": [
      "Cредний предсказанный запас сырья: 68.73\n",
      "RMSE модели: 0.89\n"
     ]
    }
   ],
   "source": [
    "#предсказание по второму датасету\n",
    "predictions_2 = model_fit(features_train_2, features_valid_2, target_train_2, target_valid_2)"
   ]
  },
  {
   "cell_type": "code",
   "execution_count": 18,
   "metadata": {},
   "outputs": [
    {
     "name": "stdout",
     "output_type": "stream",
     "text": [
      "Cредний предсказанный запас сырья: 94.97\n",
      "RMSE модели: 40.03\n"
     ]
    }
   ],
   "source": [
    "#предсказание по третьему датасету\n",
    "predictions_3 = model_fit(features_train_3, features_valid_3, target_train_3, target_valid_3)"
   ]
  },
  {
   "cell_type": "markdown",
   "metadata": {},
   "source": [
    "### Вывод по разделу"
   ]
  },
  {
   "cell_type": "markdown",
   "metadata": {},
   "source": [
    "1. Выборка была разбита на обучающую и валидационную.\n",
    "2. Была написана функция для обучения модели по каждому датасету и сохранены результаты предсказаний для каждого датасета.\n",
    "3. Предсказание по 1 и 3 датасету примерно одинаково и в них прогнозируется высокий уровень запаса сырья в скважинах, но при этом и RMSE данных моделей достаточно высок, поэтому точность предсказаний под вопросом.\n",
    "4. Предсказание по 2 датасету говорит о меньшем количестве сырья в скважинах, но и RMSE данной модели ниже 1, что может говорить о точности предсказаний, либо переобучении модели, т.к. в данном датасете была высокая корреляция между признаками и целевым признаком."
   ]
  },
  {
   "cell_type": "markdown",
   "metadata": {},
   "source": [
    "## Подготовка к расчёту прибыли"
   ]
  },
  {
   "cell_type": "markdown",
   "metadata": {},
   "source": [
    "Сохраним все используемые данные в отдельные переменные."
   ]
  },
  {
   "cell_type": "code",
   "execution_count": 19,
   "metadata": {},
   "outputs": [],
   "source": [
    "#переменная с точками для исследования\n",
    "RESEARCH_POINTS = 500\n",
    "\n",
    "#лучшие точки для разработки\n",
    "BEST_POINTS = 200\n",
    "\n",
    "#бюджет\n",
    "BUDGET = 10000000000\n",
    "\n",
    "#доход\n",
    "INCOME = 450000"
   ]
  },
  {
   "cell_type": "markdown",
   "metadata": {},
   "source": [
    "Рассчитаем доступный бюджет на каждую скважину, а также минимальное количество баррелей, необходимое для добычи из одной скважины, чтобы окупить затраты."
   ]
  },
  {
   "cell_type": "code",
   "execution_count": 20,
   "metadata": {},
   "outputs": [
    {
     "name": "stdout",
     "output_type": "stream",
     "text": [
      "Бюджет на разработку одной точки: 50000000.0\n"
     ]
    }
   ],
   "source": [
    "budget_per_point = BUDGET / BEST_POINTS\n",
    "print('Бюджет на разработку одной точки:', budget_per_point)"
   ]
  },
  {
   "cell_type": "markdown",
   "metadata": {},
   "source": [
    "Бюджет на разработку одной точки составляет 50 млн. Посчитаем сколько нужно добывать бареллей из данной скважины, чтобы окупить затраты на ее бурение."
   ]
  },
  {
   "cell_type": "code",
   "execution_count": 21,
   "metadata": {},
   "outputs": [
    {
     "name": "stdout",
     "output_type": "stream",
     "text": [
      "Минимальное количество баррелей для окупаемости: 111.11111111111111\n"
     ]
    }
   ],
   "source": [
    "min_barrels = budget_per_point / INCOME\n",
    "print('Минимальное количество баррелей для окупаемости:', min_barrels)"
   ]
  },
  {
   "cell_type": "markdown",
   "metadata": {},
   "source": [
    "Вспомним, какие объемы добычи предсказывает наша модель по трем регионам."
   ]
  },
  {
   "cell_type": "code",
   "execution_count": 22,
   "metadata": {},
   "outputs": [
    {
     "name": "stdout",
     "output_type": "stream",
     "text": [
      "Средний запас сырья по первому региону: 92.59 тыс. баррелей\n",
      "Средний запас сырья по второму региону: 68.73 тыс. баррелей\n",
      "Средний запас сырья по третьему региону: 94.97 тыс. баррелей\n"
     ]
    }
   ],
   "source": [
    "print('Средний запас сырья по первому региону: {:.2f} тыс. баррелей'.format(predictions_1.mean()))\n",
    "print('Средний запас сырья по второму региону: {:.2f} тыс. баррелей'.format(predictions_2.mean()))\n",
    "print('Средний запас сырья по третьему региону: {:.2f} тыс. баррелей'.format(predictions_3.mean()))"
   ]
  },
  {
   "cell_type": "markdown",
   "metadata": {},
   "source": [
    "### Вывод по разделу"
   ]
  },
  {
   "cell_type": "markdown",
   "metadata": {},
   "source": [
    "Мы выяснили, что для окупаемости затрат на разработку из каждой скважины нужно добывать 111,11 тысяч баррелей и исходя из значений нашей модели предсказания, ни один из регионов не обеспечит необходимый запас сырья, т.к. максимальное значение указано в регионе 3 со средним показателем 94.97 тыс. баррелей.\n",
    "\n",
    "Посмотрим на доход с лучших скважин."
   ]
  },
  {
   "cell_type": "markdown",
   "metadata": {},
   "source": [
    "## Расчёт прибыли и рисков "
   ]
  },
  {
   "cell_type": "markdown",
   "metadata": {},
   "source": [
    "### Расчет прибыли"
   ]
  },
  {
   "cell_type": "markdown",
   "metadata": {},
   "source": [
    "Для начала создадим функцию, которая будет брать 200 точек с максимальным объемом добычи из наших датасетов по каждому региону и считать по ним суммарную прибыль."
   ]
  },
  {
   "cell_type": "code",
   "execution_count": 23,
   "metadata": {},
   "outputs": [],
   "source": [
    "#переведем наши предсказания в формат Series, чтобы их можно было отсортировать\n",
    "predictions_1 = pd.Series(predictions_1, index=target_valid_1.index)\n",
    "predictions_2 = pd.Series(predictions_2, index=target_valid_2.index)\n",
    "predictions_3 = pd.Series(predictions_3, index=target_valid_3.index)"
   ]
  },
  {
   "cell_type": "code",
   "execution_count": 24,
   "metadata": {},
   "outputs": [],
   "source": [
    "def profit(target, predictions):\n",
    "    predictions_sorted=predictions.sort_values(ascending=False)\n",
    "    volume = target[predictions_sorted.index][:200]\n",
    "    return ((volume.sum() * INCOME - BUDGET))"
   ]
  },
  {
   "cell_type": "code",
   "execution_count": 25,
   "metadata": {},
   "outputs": [
    {
     "name": "stdout",
     "output_type": "stream",
     "text": [
      "Предполагаемая прибыль в первом регионе из 200 лучших скважин 3320826043.14 рублей\n",
      "Предполагаемая прибыль во втором регионе из 200 лучших скважин 2415086696.68 рублей\n",
      "Предполагаемая прибыль в третьем регионе из 200 лучших скважин 2710349963.60 рублей\n"
     ]
    }
   ],
   "source": [
    "print('Предполагаемая прибыль в первом регионе из 200 лучших скважин {:.2f} рублей'\n",
    "      .format(profit(target_valid_1, predictions_1)))\n",
    "print('Предполагаемая прибыль во втором регионе из 200 лучших скважин {:.2f} рублей'\n",
    "      .format(profit(target_valid_2, predictions_2)))\n",
    "print('Предполагаемая прибыль в третьем регионе из 200 лучших скважин {:.2f} рублей'\n",
    "      .format(profit(target_valid_3, predictions_3)))"
   ]
  },
  {
   "cell_type": "markdown",
   "metadata": {},
   "source": [
    "### Расчет рисков"
   ]
  },
  {
   "cell_type": "markdown",
   "metadata": {},
   "source": [
    "На этом этапе:\n",
    "\n",
    "1. Применим технику Bootstrap с 1000 выборок, чтобы найти распределение прибыли.\n",
    "2. Найдем среднюю прибыль, 95%-й доверительный интервал и риск убытков. Убыток — это отрицательная прибыль."
   ]
  },
  {
   "cell_type": "code",
   "execution_count": 26,
   "metadata": {},
   "outputs": [],
   "source": [
    "#сначала напишем функцию\n",
    "def bootstrap(target_valid, predictions, geo):\n",
    "    state = np.random.RandomState(12345)\n",
    "    values = []\n",
    "    target_valid = target_valid\n",
    "    predictions = predictions\n",
    "    for i in range(1000):\n",
    "        target_subsample = target_valid.sample(RESEARCH_POINTS, replace=True, random_state=state)\n",
    "        predictions_subsample = predictions[target_subsample.index]\n",
    "        values.append(profit(target_subsample, predictions_subsample))\n",
    "        \n",
    "    values = pd.Series(values)\n",
    "    \n",
    "    lower = values.quantile(0.025)\n",
    "    upper = values.quantile(0.975)\n",
    "    mean = values.mean()\n",
    "    risk = (values < 0).mean()*100\n",
    "    \n",
    "    print('Регион', geo)\n",
    "    print('Средняя прибыль: {:,.2f}'.format(mean))\n",
    "    print('Доверительный интервал, min: {:,.2f}'.format(lower))\n",
    "    print('Доверительный интервал, max: {:,.2f}'.format(upper))\n",
    "    print('Риск убытков: {} %'.format(risk))"
   ]
  },
  {
   "cell_type": "code",
   "execution_count": 27,
   "metadata": {},
   "outputs": [
    {
     "name": "stdout",
     "output_type": "stream",
     "text": [
      "Регион 1\n",
      "Средняя прибыль: 425,938,526.91\n",
      "Доверительный интервал, min: -102,090,094.84\n",
      "Доверительный интервал, max: 947,976,353.36\n",
      "Риск убытков: 6.0 %\n"
     ]
    }
   ],
   "source": [
    "bootstrap (target_valid_1, predictions_1, 1)"
   ]
  },
  {
   "cell_type": "code",
   "execution_count": 28,
   "metadata": {},
   "outputs": [
    {
     "name": "stdout",
     "output_type": "stream",
     "text": [
      "Регион 2\n",
      "Средняя прибыль: 515,222,773.44\n",
      "Доверительный интервал, min: 68,873,225.37\n",
      "Доверительный интервал, max: 931,547,591.26\n",
      "Риск убытков: 1.0 %\n"
     ]
    }
   ],
   "source": [
    "bootstrap (target_valid_2, predictions_2, 2)"
   ]
  },
  {
   "cell_type": "code",
   "execution_count": 29,
   "metadata": {},
   "outputs": [
    {
     "name": "stdout",
     "output_type": "stream",
     "text": [
      "Регион 3\n",
      "Средняя прибыль: 435,008,362.78\n",
      "Доверительный интервал, min: -128,880,547.33\n",
      "Доверительный интервал, max: 969,706,954.18\n",
      "Риск убытков: 6.4 %\n"
     ]
    }
   ],
   "source": [
    "bootstrap (target_valid_3, predictions_3, 3)"
   ]
  },
  {
   "cell_type": "markdown",
   "metadata": {},
   "source": [
    "### Вывод по разделу"
   ]
  },
  {
   "cell_type": "markdown",
   "metadata": {},
   "source": [
    "Исходя из расчетов средних показателей самым наименее рискованным и при этом прибыльным является второй регион. Плюс там 5% квантиль является положительным числом, поэтому чисто теоретически уйти в убытки в этом регионе не получится.\n",
    "\n",
    "Но помня, что там есть высокая корреляция между признаками и целевым признаком, а RMSE составляет всего 0,89, этим данным я бы не доверял и рекомендовал для разработки первый регион, т.к. там самый высокий показатель прибыли из всех трех регионов, если добывать из 200 лучших скважин (3,32 млрд. рублей), плюс он является менее рискованным, чем третий регион."
   ]
  },
  {
   "cell_type": "markdown",
   "metadata": {},
   "source": [
    "## Вывод"
   ]
  },
  {
   "cell_type": "markdown",
   "metadata": {},
   "source": [
    "1. Подготовка данных:\n",
    "    1. Все 3 датасета уже были подготовлены для машинного обучения, в них содержится 100 000 строк и 5 столбцов. Во всех датасетах уже изначально было произведено масштабирование признаков. Пропусков и дубликатов в датасетах нет.\n",
    "    2. Корреляции во всех датасетах между признаками f0, f1 и объемом запасов в скважине практически нет. В первом и третьем датасетах есть средняя корреляция между признаком f2 и объемом запасов в скважине, а во втором датасете корреляция между этими признаками равна 1.\n",
    "    3. Из всех датасетов удален столбец id, т.к. он не нужен для машинного обучения.\n",
    "2. Обучение модели:\n",
    "    1. Для обучения выборка была разбита на обучающую и валидационную.\n",
    "    2. Была написана функция для обучения модели по каждому датасету и сохранены результаты предсказаний для каждого датасета.\n",
    "    3. Предсказание по 1 и 3 датасету примерно одинаково и в них прогнозируется высокий уровень запаса сырья в скважинах, но при этом и RMSE данных моделей достаточно высок, поэтому точность предсказаний под вопросом.\n",
    "    4. Предсказание по 2 датасету говорит о меньшем количестве сырья в скважинах, но и RMSE данной модели ниже 1, что может говорить о точности предсказаний, но скорее говорит о переобучении модели, т.к. в данном датасете была высокая корреляция между признаками и целевым признаком.\n",
    "3. Мы выяснили, что для окупаемости затрат на разработку из каждой скважины нужно добывать 111,11 тысяч баррелей и исходя из значений нашей модели предсказания, ни один из регионов не обеспечит необходимый запас сырья, т.к. максимальное значение указано в регионе 3 со средним показателем 94.97 тыс. баррелей.\n",
    "4. Исходя из расчетов средних показателей самым наименее рискованным и при этом прибыльным является второй регион. Плюс там 5% квантиль является положительным числом, поэтому чисто теоретически уйти в убытки в этом регионе не получится.\n",
    "Но помня, что там есть высокая корреляция между признаками и целевым признаком, а RMSE составляет всего 0,89, этим данным я бы не доверял и рекомендовал для разработки первый регион, т.к. там самый высокий показатель прибыли из всех трех регионов, если добывать из 200 лучших скважин (3,32 млрд. рублей), плюс он является менее рискованным, чем третий регион."
   ]
  }
 ],
 "metadata": {
  "ExecuteTimeLog": [
   {
    "duration": 47,
    "start_time": "2022-04-08T08:47:44.461Z"
   },
   {
    "duration": 2070,
    "start_time": "2022-04-08T08:47:49.349Z"
   },
   {
    "duration": 1820,
    "start_time": "2022-04-08T08:47:52.225Z"
   },
   {
    "duration": 16,
    "start_time": "2022-04-08T08:50:16.747Z"
   },
   {
    "duration": 14,
    "start_time": "2022-04-08T08:53:00.801Z"
   },
   {
    "duration": 47,
    "start_time": "2022-04-08T08:55:26.342Z"
   },
   {
    "duration": 283,
    "start_time": "2022-04-08T08:56:03.557Z"
   },
   {
    "duration": 301,
    "start_time": "2022-04-08T08:56:11.686Z"
   },
   {
    "duration": 301,
    "start_time": "2022-04-08T08:56:23.130Z"
   },
   {
    "duration": 319,
    "start_time": "2022-04-08T08:56:45.353Z"
   },
   {
    "duration": 260,
    "start_time": "2022-04-08T08:56:58.865Z"
   },
   {
    "duration": 285,
    "start_time": "2022-04-08T08:57:04.284Z"
   },
   {
    "duration": 364,
    "start_time": "2022-04-08T08:57:16.693Z"
   },
   {
    "duration": 294,
    "start_time": "2022-04-08T08:57:25.375Z"
   },
   {
    "duration": 313,
    "start_time": "2022-04-08T08:57:37.397Z"
   },
   {
    "duration": 15,
    "start_time": "2022-04-08T09:01:56.498Z"
   },
   {
    "duration": 49,
    "start_time": "2022-04-08T09:02:06.725Z"
   },
   {
    "duration": 306,
    "start_time": "2022-04-08T09:02:21.334Z"
   },
   {
    "duration": 303,
    "start_time": "2022-04-08T09:03:06.216Z"
   },
   {
    "duration": 324,
    "start_time": "2022-04-08T09:03:24.413Z"
   },
   {
    "duration": 260,
    "start_time": "2022-04-08T09:03:29.462Z"
   },
   {
    "duration": 299,
    "start_time": "2022-04-08T09:03:46.340Z"
   },
   {
    "duration": 15,
    "start_time": "2022-04-08T09:06:15.631Z"
   },
   {
    "duration": 46,
    "start_time": "2022-04-08T09:06:30.285Z"
   },
   {
    "duration": 44,
    "start_time": "2022-04-08T09:06:37.310Z"
   },
   {
    "duration": 283,
    "start_time": "2022-04-08T09:06:49.232Z"
   },
   {
    "duration": 14,
    "start_time": "2022-04-08T09:08:08.846Z"
   },
   {
    "duration": 19,
    "start_time": "2022-04-08T09:11:10.365Z"
   },
   {
    "duration": 75,
    "start_time": "2022-04-08T09:11:24.425Z"
   },
   {
    "duration": 13,
    "start_time": "2022-04-08T09:11:54.021Z"
   },
   {
    "duration": 1443,
    "start_time": "2022-04-08T09:12:00.410Z"
   },
   {
    "duration": 368,
    "start_time": "2022-04-08T09:12:01.856Z"
   },
   {
    "duration": 17,
    "start_time": "2022-04-08T09:12:02.226Z"
   },
   {
    "duration": 21,
    "start_time": "2022-04-08T09:12:02.244Z"
   },
   {
    "duration": 54,
    "start_time": "2022-04-08T09:12:02.267Z"
   },
   {
    "duration": 335,
    "start_time": "2022-04-08T09:12:02.322Z"
   },
   {
    "duration": 15,
    "start_time": "2022-04-08T09:12:02.659Z"
   },
   {
    "duration": 64,
    "start_time": "2022-04-08T09:12:02.676Z"
   },
   {
    "duration": 302,
    "start_time": "2022-04-08T09:12:02.741Z"
   },
   {
    "duration": 16,
    "start_time": "2022-04-08T09:12:03.044Z"
   },
   {
    "duration": 51,
    "start_time": "2022-04-08T09:12:03.061Z"
   },
   {
    "duration": 429,
    "start_time": "2022-04-08T09:12:03.138Z"
   },
   {
    "duration": 72,
    "start_time": "2022-04-08T09:12:03.568Z"
   },
   {
    "duration": 1350,
    "start_time": "2022-04-08T09:12:14.862Z"
   },
   {
    "duration": 427,
    "start_time": "2022-04-08T09:12:16.214Z"
   },
   {
    "duration": 17,
    "start_time": "2022-04-08T09:12:16.643Z"
   },
   {
    "duration": 16,
    "start_time": "2022-04-08T09:12:16.661Z"
   },
   {
    "duration": 158,
    "start_time": "2022-04-08T09:12:16.680Z"
   },
   {
    "duration": 518,
    "start_time": "2022-04-08T09:12:16.840Z"
   },
   {
    "duration": 15,
    "start_time": "2022-04-08T09:12:17.360Z"
   },
   {
    "duration": 107,
    "start_time": "2022-04-08T09:12:17.377Z"
   },
   {
    "duration": 421,
    "start_time": "2022-04-08T09:12:17.538Z"
   },
   {
    "duration": 15,
    "start_time": "2022-04-08T09:12:17.961Z"
   },
   {
    "duration": 103,
    "start_time": "2022-04-08T09:12:17.978Z"
   },
   {
    "duration": 349,
    "start_time": "2022-04-08T09:12:18.083Z"
   },
   {
    "duration": 27,
    "start_time": "2022-04-08T09:12:18.438Z"
   },
   {
    "duration": 1458,
    "start_time": "2022-04-08T09:22:57.115Z"
   },
   {
    "duration": 340,
    "start_time": "2022-04-08T09:22:58.575Z"
   },
   {
    "duration": 22,
    "start_time": "2022-04-08T09:22:58.917Z"
   },
   {
    "duration": 16,
    "start_time": "2022-04-08T09:22:58.940Z"
   },
   {
    "duration": 49,
    "start_time": "2022-04-08T09:22:58.959Z"
   },
   {
    "duration": 339,
    "start_time": "2022-04-08T09:22:59.010Z"
   },
   {
    "duration": 16,
    "start_time": "2022-04-08T09:22:59.351Z"
   },
   {
    "duration": 47,
    "start_time": "2022-04-08T09:22:59.369Z"
   },
   {
    "duration": 322,
    "start_time": "2022-04-08T09:22:59.418Z"
   },
   {
    "duration": 15,
    "start_time": "2022-04-08T09:22:59.742Z"
   },
   {
    "duration": 44,
    "start_time": "2022-04-08T09:22:59.759Z"
   },
   {
    "duration": 335,
    "start_time": "2022-04-08T09:22:59.805Z"
   },
   {
    "duration": 37,
    "start_time": "2022-04-08T09:23:00.143Z"
   },
   {
    "duration": 39,
    "start_time": "2022-04-08T09:52:59.534Z"
   },
   {
    "duration": 3,
    "start_time": "2022-04-08T09:56:26.863Z"
   },
   {
    "duration": 4,
    "start_time": "2022-04-08T09:58:13.751Z"
   },
   {
    "duration": 129,
    "start_time": "2022-04-08T09:58:22.034Z"
   },
   {
    "duration": 104,
    "start_time": "2022-04-08T09:58:27.348Z"
   },
   {
    "duration": 4,
    "start_time": "2022-04-08T09:58:46.841Z"
   },
   {
    "duration": 33,
    "start_time": "2022-04-08T09:58:48.709Z"
   },
   {
    "duration": 3,
    "start_time": "2022-04-08T09:59:00.955Z"
   },
   {
    "duration": 13,
    "start_time": "2022-04-08T09:59:02.270Z"
   },
   {
    "duration": 1399,
    "start_time": "2022-04-08T09:59:20.344Z"
   },
   {
    "duration": 344,
    "start_time": "2022-04-08T09:59:21.745Z"
   },
   {
    "duration": 16,
    "start_time": "2022-04-08T09:59:22.091Z"
   },
   {
    "duration": 13,
    "start_time": "2022-04-08T09:59:22.109Z"
   },
   {
    "duration": 57,
    "start_time": "2022-04-08T09:59:22.124Z"
   },
   {
    "duration": 380,
    "start_time": "2022-04-08T09:59:22.183Z"
   },
   {
    "duration": 14,
    "start_time": "2022-04-08T09:59:22.564Z"
   },
   {
    "duration": 99,
    "start_time": "2022-04-08T09:59:22.579Z"
   },
   {
    "duration": 469,
    "start_time": "2022-04-08T09:59:22.680Z"
   },
   {
    "duration": 15,
    "start_time": "2022-04-08T09:59:23.151Z"
   },
   {
    "duration": 123,
    "start_time": "2022-04-08T09:59:23.167Z"
   },
   {
    "duration": 422,
    "start_time": "2022-04-08T09:59:23.338Z"
   },
   {
    "duration": 77,
    "start_time": "2022-04-08T09:59:23.762Z"
   },
   {
    "duration": 36,
    "start_time": "2022-04-08T09:59:23.841Z"
   },
   {
    "duration": 59,
    "start_time": "2022-04-08T09:59:23.879Z"
   },
   {
    "duration": 36,
    "start_time": "2022-04-08T09:59:23.940Z"
   },
   {
    "duration": 1379,
    "start_time": "2022-04-08T09:59:40.384Z"
   },
   {
    "duration": 391,
    "start_time": "2022-04-08T09:59:41.766Z"
   },
   {
    "duration": 17,
    "start_time": "2022-04-08T09:59:42.159Z"
   },
   {
    "duration": 15,
    "start_time": "2022-04-08T09:59:42.177Z"
   },
   {
    "duration": 67,
    "start_time": "2022-04-08T09:59:42.194Z"
   },
   {
    "duration": 387,
    "start_time": "2022-04-08T09:59:42.262Z"
   },
   {
    "duration": 15,
    "start_time": "2022-04-08T09:59:42.650Z"
   },
   {
    "duration": 95,
    "start_time": "2022-04-08T09:59:42.666Z"
   },
   {
    "duration": 490,
    "start_time": "2022-04-08T09:59:42.763Z"
   },
   {
    "duration": 15,
    "start_time": "2022-04-08T09:59:43.255Z"
   },
   {
    "duration": 99,
    "start_time": "2022-04-08T09:59:43.271Z"
   },
   {
    "duration": 485,
    "start_time": "2022-04-08T09:59:43.371Z"
   },
   {
    "duration": 89,
    "start_time": "2022-04-08T09:59:43.858Z"
   },
   {
    "duration": 112,
    "start_time": "2022-04-08T09:59:43.950Z"
   },
   {
    "duration": 5,
    "start_time": "2022-04-08T09:59:44.065Z"
   },
   {
    "duration": 75,
    "start_time": "2022-04-08T09:59:44.072Z"
   },
   {
    "duration": 21,
    "start_time": "2022-04-08T10:15:46.268Z"
   },
   {
    "duration": 15,
    "start_time": "2022-04-08T10:17:01.467Z"
   },
   {
    "duration": 1419,
    "start_time": "2022-04-08T10:26:15.315Z"
   },
   {
    "duration": 351,
    "start_time": "2022-04-08T10:26:16.736Z"
   },
   {
    "duration": 18,
    "start_time": "2022-04-08T10:26:17.089Z"
   },
   {
    "duration": 16,
    "start_time": "2022-04-08T10:26:17.109Z"
   },
   {
    "duration": 52,
    "start_time": "2022-04-08T10:26:17.139Z"
   },
   {
    "duration": 347,
    "start_time": "2022-04-08T10:26:17.193Z"
   },
   {
    "duration": 15,
    "start_time": "2022-04-08T10:26:17.542Z"
   },
   {
    "duration": 53,
    "start_time": "2022-04-08T10:26:17.558Z"
   },
   {
    "duration": 315,
    "start_time": "2022-04-08T10:26:17.613Z"
   },
   {
    "duration": 20,
    "start_time": "2022-04-08T10:26:17.930Z"
   },
   {
    "duration": 49,
    "start_time": "2022-04-08T10:26:17.951Z"
   },
   {
    "duration": 329,
    "start_time": "2022-04-08T10:26:18.001Z"
   },
   {
    "duration": 27,
    "start_time": "2022-04-08T10:26:18.337Z"
   },
   {
    "duration": 43,
    "start_time": "2022-04-08T10:26:18.366Z"
   },
   {
    "duration": 4,
    "start_time": "2022-04-08T10:26:18.411Z"
   },
   {
    "duration": 35,
    "start_time": "2022-04-08T10:26:18.416Z"
   },
   {
    "duration": 191,
    "start_time": "2022-04-08T10:26:18.453Z"
   },
   {
    "duration": 198,
    "start_time": "2022-04-08T10:26:18.647Z"
   },
   {
    "duration": 1394,
    "start_time": "2022-04-08T10:43:53.211Z"
   },
   {
    "duration": 343,
    "start_time": "2022-04-08T10:43:54.607Z"
   },
   {
    "duration": 15,
    "start_time": "2022-04-08T10:43:54.952Z"
   },
   {
    "duration": 15,
    "start_time": "2022-04-08T10:43:54.969Z"
   },
   {
    "duration": 63,
    "start_time": "2022-04-08T10:43:54.986Z"
   },
   {
    "duration": 298,
    "start_time": "2022-04-08T10:43:55.051Z"
   },
   {
    "duration": 14,
    "start_time": "2022-04-08T10:43:55.350Z"
   },
   {
    "duration": 45,
    "start_time": "2022-04-08T10:43:55.366Z"
   },
   {
    "duration": 305,
    "start_time": "2022-04-08T10:43:55.413Z"
   },
   {
    "duration": 24,
    "start_time": "2022-04-08T10:43:55.719Z"
   },
   {
    "duration": 46,
    "start_time": "2022-04-08T10:43:55.744Z"
   },
   {
    "duration": 324,
    "start_time": "2022-04-08T10:43:55.792Z"
   },
   {
    "duration": 36,
    "start_time": "2022-04-08T10:43:56.117Z"
   },
   {
    "duration": 35,
    "start_time": "2022-04-08T10:43:56.156Z"
   },
   {
    "duration": 4,
    "start_time": "2022-04-08T10:43:56.193Z"
   },
   {
    "duration": 44,
    "start_time": "2022-04-08T10:43:56.199Z"
   },
   {
    "duration": 194,
    "start_time": "2022-04-08T10:43:56.245Z"
   },
   {
    "duration": 105,
    "start_time": "2022-04-08T10:43:56.441Z"
   },
   {
    "duration": 93,
    "start_time": "2022-04-08T10:43:56.549Z"
   },
   {
    "duration": 100,
    "start_time": "2022-04-08T10:43:56.645Z"
   },
   {
    "duration": 4,
    "start_time": "2022-04-08T10:47:51.569Z"
   },
   {
    "duration": 109,
    "start_time": "2022-04-08T10:51:12.676Z"
   },
   {
    "duration": 3,
    "start_time": "2022-04-08T10:51:19.549Z"
   },
   {
    "duration": 3,
    "start_time": "2022-04-08T10:51:25.724Z"
   },
   {
    "duration": 3,
    "start_time": "2022-04-08T10:51:41.220Z"
   },
   {
    "duration": 4,
    "start_time": "2022-04-08T10:52:16.955Z"
   },
   {
    "duration": 3,
    "start_time": "2022-04-08T11:13:44.854Z"
   },
   {
    "duration": 1604,
    "start_time": "2022-04-08T11:13:52.534Z"
   },
   {
    "duration": 698,
    "start_time": "2022-04-08T11:13:54.140Z"
   },
   {
    "duration": 15,
    "start_time": "2022-04-08T11:13:54.840Z"
   },
   {
    "duration": 14,
    "start_time": "2022-04-08T11:13:54.857Z"
   },
   {
    "duration": 110,
    "start_time": "2022-04-08T11:13:54.873Z"
   },
   {
    "duration": 373,
    "start_time": "2022-04-08T11:13:54.985Z"
   },
   {
    "duration": 16,
    "start_time": "2022-04-08T11:13:55.360Z"
   },
   {
    "duration": 63,
    "start_time": "2022-04-08T11:13:55.378Z"
   },
   {
    "duration": 296,
    "start_time": "2022-04-08T11:13:55.443Z"
   },
   {
    "duration": 16,
    "start_time": "2022-04-08T11:13:55.741Z"
   },
   {
    "duration": 49,
    "start_time": "2022-04-08T11:13:55.759Z"
   },
   {
    "duration": 316,
    "start_time": "2022-04-08T11:13:55.810Z"
   },
   {
    "duration": 31,
    "start_time": "2022-04-08T11:13:56.127Z"
   },
   {
    "duration": 34,
    "start_time": "2022-04-08T11:13:56.160Z"
   },
   {
    "duration": 4,
    "start_time": "2022-04-08T11:13:56.196Z"
   },
   {
    "duration": 43,
    "start_time": "2022-04-08T11:13:56.201Z"
   },
   {
    "duration": 195,
    "start_time": "2022-04-08T11:13:56.246Z"
   },
   {
    "duration": 111,
    "start_time": "2022-04-08T11:13:56.443Z"
   },
   {
    "duration": 84,
    "start_time": "2022-04-08T11:13:56.556Z"
   },
   {
    "duration": 97,
    "start_time": "2022-04-08T11:13:56.642Z"
   },
   {
    "duration": 10,
    "start_time": "2022-04-08T11:13:56.741Z"
   },
   {
    "duration": 7,
    "start_time": "2022-04-08T11:13:56.753Z"
   },
   {
    "duration": 7,
    "start_time": "2022-04-08T11:13:56.761Z"
   },
   {
    "duration": 8,
    "start_time": "2022-04-08T11:22:00.214Z"
   },
   {
    "duration": 27,
    "start_time": "2022-04-08T11:25:05.798Z"
   },
   {
    "duration": 3,
    "start_time": "2022-04-08T11:25:26.162Z"
   },
   {
    "duration": 11,
    "start_time": "2022-04-08T11:25:28.037Z"
   },
   {
    "duration": 5,
    "start_time": "2022-04-08T11:27:07.109Z"
   },
   {
    "duration": 4,
    "start_time": "2022-04-08T11:28:01.012Z"
   },
   {
    "duration": 4,
    "start_time": "2022-04-08T11:28:01.625Z"
   },
   {
    "duration": 137,
    "start_time": "2022-04-08T11:28:02.283Z"
   },
   {
    "duration": 9,
    "start_time": "2022-04-08T11:28:57.386Z"
   },
   {
    "duration": 3,
    "start_time": "2022-04-08T11:29:03.063Z"
   },
   {
    "duration": 3,
    "start_time": "2022-04-08T11:29:03.454Z"
   },
   {
    "duration": 10,
    "start_time": "2022-04-08T11:29:03.870Z"
   },
   {
    "duration": 1821,
    "start_time": "2022-04-08T11:32:04.740Z"
   },
   {
    "duration": 807,
    "start_time": "2022-04-08T11:32:06.564Z"
   },
   {
    "duration": 16,
    "start_time": "2022-04-08T11:32:07.373Z"
   },
   {
    "duration": 59,
    "start_time": "2022-04-08T11:32:07.391Z"
   },
   {
    "duration": 52,
    "start_time": "2022-04-08T11:32:07.453Z"
   },
   {
    "duration": 352,
    "start_time": "2022-04-08T11:32:07.507Z"
   },
   {
    "duration": 15,
    "start_time": "2022-04-08T11:32:07.860Z"
   },
   {
    "duration": 63,
    "start_time": "2022-04-08T11:32:07.877Z"
   },
   {
    "duration": 315,
    "start_time": "2022-04-08T11:32:07.942Z"
   },
   {
    "duration": 14,
    "start_time": "2022-04-08T11:32:08.259Z"
   },
   {
    "duration": 64,
    "start_time": "2022-04-08T11:32:08.275Z"
   },
   {
    "duration": 316,
    "start_time": "2022-04-08T11:32:08.341Z"
   },
   {
    "duration": 30,
    "start_time": "2022-04-08T11:32:08.659Z"
   },
   {
    "duration": 60,
    "start_time": "2022-04-08T11:32:08.693Z"
   },
   {
    "duration": 4,
    "start_time": "2022-04-08T11:32:08.754Z"
   },
   {
    "duration": 79,
    "start_time": "2022-04-08T11:32:08.760Z"
   },
   {
    "duration": 110,
    "start_time": "2022-04-08T11:32:08.842Z"
   },
   {
    "duration": 187,
    "start_time": "2022-04-08T11:32:08.955Z"
   },
   {
    "duration": 94,
    "start_time": "2022-04-08T11:32:09.145Z"
   },
   {
    "duration": 104,
    "start_time": "2022-04-08T11:32:09.242Z"
   },
   {
    "duration": 12,
    "start_time": "2022-04-08T11:32:09.348Z"
   },
   {
    "duration": 10,
    "start_time": "2022-04-08T11:32:09.362Z"
   },
   {
    "duration": 106,
    "start_time": "2022-04-08T11:32:09.373Z"
   },
   {
    "duration": 0,
    "start_time": "2022-04-08T11:32:09.481Z"
   },
   {
    "duration": 0,
    "start_time": "2022-04-08T11:32:09.482Z"
   },
   {
    "duration": 0,
    "start_time": "2022-04-08T11:32:09.483Z"
   },
   {
    "duration": 1391,
    "start_time": "2022-04-08T11:32:24.512Z"
   },
   {
    "duration": 356,
    "start_time": "2022-04-08T11:32:25.905Z"
   },
   {
    "duration": 16,
    "start_time": "2022-04-08T11:32:26.262Z"
   },
   {
    "duration": 14,
    "start_time": "2022-04-08T11:32:26.280Z"
   },
   {
    "duration": 64,
    "start_time": "2022-04-08T11:32:26.296Z"
   },
   {
    "duration": 324,
    "start_time": "2022-04-08T11:32:26.361Z"
   },
   {
    "duration": 22,
    "start_time": "2022-04-08T11:32:26.739Z"
   },
   {
    "duration": 102,
    "start_time": "2022-04-08T11:32:26.763Z"
   },
   {
    "duration": 478,
    "start_time": "2022-04-08T11:32:26.867Z"
   },
   {
    "duration": 14,
    "start_time": "2022-04-08T11:32:27.347Z"
   },
   {
    "duration": 105,
    "start_time": "2022-04-08T11:32:27.363Z"
   },
   {
    "duration": 493,
    "start_time": "2022-04-08T11:32:27.470Z"
   },
   {
    "duration": 80,
    "start_time": "2022-04-08T11:32:27.964Z"
   },
   {
    "duration": 91,
    "start_time": "2022-04-08T11:32:28.047Z"
   },
   {
    "duration": 4,
    "start_time": "2022-04-08T11:32:28.139Z"
   },
   {
    "duration": 95,
    "start_time": "2022-04-08T11:32:28.145Z"
   },
   {
    "duration": 111,
    "start_time": "2022-04-08T11:32:28.242Z"
   },
   {
    "duration": 103,
    "start_time": "2022-04-08T11:32:28.439Z"
   },
   {
    "duration": 94,
    "start_time": "2022-04-08T11:32:28.545Z"
   },
   {
    "duration": 105,
    "start_time": "2022-04-08T11:32:28.645Z"
   },
   {
    "duration": 32,
    "start_time": "2022-04-08T11:32:28.752Z"
   },
   {
    "duration": 36,
    "start_time": "2022-04-08T11:32:28.786Z"
   },
   {
    "duration": 24,
    "start_time": "2022-04-08T11:32:28.823Z"
   },
   {
    "duration": 13,
    "start_time": "2022-04-08T11:32:28.849Z"
   },
   {
    "duration": 107,
    "start_time": "2022-04-08T11:32:28.863Z"
   },
   {
    "duration": 1439,
    "start_time": "2022-04-08T11:41:14.461Z"
   },
   {
    "duration": 352,
    "start_time": "2022-04-08T11:41:15.903Z"
   },
   {
    "duration": 16,
    "start_time": "2022-04-08T11:41:16.257Z"
   },
   {
    "duration": 16,
    "start_time": "2022-04-08T11:41:16.275Z"
   },
   {
    "duration": 68,
    "start_time": "2022-04-08T11:41:16.293Z"
   },
   {
    "duration": 301,
    "start_time": "2022-04-08T11:41:16.363Z"
   },
   {
    "duration": 15,
    "start_time": "2022-04-08T11:41:16.666Z"
   },
   {
    "duration": 65,
    "start_time": "2022-04-08T11:41:16.683Z"
   },
   {
    "duration": 287,
    "start_time": "2022-04-08T11:41:16.750Z"
   },
   {
    "duration": 19,
    "start_time": "2022-04-08T11:41:17.038Z"
   },
   {
    "duration": 50,
    "start_time": "2022-04-08T11:41:17.059Z"
   },
   {
    "duration": 339,
    "start_time": "2022-04-08T11:41:17.110Z"
   },
   {
    "duration": 27,
    "start_time": "2022-04-08T11:41:17.451Z"
   },
   {
    "duration": 43,
    "start_time": "2022-04-08T11:41:17.480Z"
   },
   {
    "duration": 5,
    "start_time": "2022-04-08T11:41:17.525Z"
   },
   {
    "duration": 17,
    "start_time": "2022-04-08T11:41:17.547Z"
   },
   {
    "duration": 194,
    "start_time": "2022-04-08T11:41:17.566Z"
   },
   {
    "duration": 188,
    "start_time": "2022-04-08T11:41:17.763Z"
   },
   {
    "duration": 98,
    "start_time": "2022-04-08T11:41:17.953Z"
   },
   {
    "duration": 10,
    "start_time": "2022-04-08T11:41:18.053Z"
   },
   {
    "duration": 4,
    "start_time": "2022-04-08T11:41:18.147Z"
   },
   {
    "duration": 16,
    "start_time": "2022-04-08T11:41:18.153Z"
   },
   {
    "duration": 9,
    "start_time": "2022-04-08T11:41:18.171Z"
   },
   {
    "duration": 8,
    "start_time": "2022-04-08T11:41:18.182Z"
   },
   {
    "duration": 26,
    "start_time": "2022-04-08T11:41:18.192Z"
   },
   {
    "duration": 4,
    "start_time": "2022-04-08T12:21:04.482Z"
   },
   {
    "duration": 9,
    "start_time": "2022-04-08T12:21:05.289Z"
   },
   {
    "duration": 9,
    "start_time": "2022-04-08T12:42:12.798Z"
   },
   {
    "duration": 100,
    "start_time": "2022-04-08T12:43:32.068Z"
   },
   {
    "duration": 106,
    "start_time": "2022-04-08T12:43:40.537Z"
   },
   {
    "duration": 9,
    "start_time": "2022-04-08T12:43:55.413Z"
   },
   {
    "duration": 18,
    "start_time": "2022-04-08T12:45:21.362Z"
   },
   {
    "duration": 100,
    "start_time": "2022-04-08T12:50:32.138Z"
   },
   {
    "duration": 3,
    "start_time": "2022-04-08T12:50:59.914Z"
   },
   {
    "duration": 9,
    "start_time": "2022-04-08T12:51:07.616Z"
   },
   {
    "duration": 1343,
    "start_time": "2022-04-08T12:51:17.291Z"
   },
   {
    "duration": 553,
    "start_time": "2022-04-08T12:51:18.636Z"
   },
   {
    "duration": 71,
    "start_time": "2022-04-08T12:51:19.191Z"
   },
   {
    "duration": 15,
    "start_time": "2022-04-08T12:51:19.264Z"
   },
   {
    "duration": 106,
    "start_time": "2022-04-08T12:51:19.280Z"
   },
   {
    "duration": 505,
    "start_time": "2022-04-08T12:51:19.387Z"
   },
   {
    "duration": 65,
    "start_time": "2022-04-08T12:51:19.894Z"
   },
   {
    "duration": 104,
    "start_time": "2022-04-08T12:51:19.961Z"
   },
   {
    "duration": 441,
    "start_time": "2022-04-08T12:51:20.067Z"
   },
   {
    "duration": 47,
    "start_time": "2022-04-08T12:51:20.511Z"
   },
   {
    "duration": 51,
    "start_time": "2022-04-08T12:51:20.560Z"
   },
   {
    "duration": 322,
    "start_time": "2022-04-08T12:51:20.612Z"
   },
   {
    "duration": 32,
    "start_time": "2022-04-08T12:51:20.936Z"
   },
   {
    "duration": 37,
    "start_time": "2022-04-08T12:51:20.970Z"
   },
   {
    "duration": 4,
    "start_time": "2022-04-08T12:51:21.009Z"
   },
   {
    "duration": 40,
    "start_time": "2022-04-08T12:51:21.014Z"
   },
   {
    "duration": 101,
    "start_time": "2022-04-08T12:51:21.056Z"
   },
   {
    "duration": 104,
    "start_time": "2022-04-08T12:51:21.252Z"
   },
   {
    "duration": 92,
    "start_time": "2022-04-08T12:51:21.358Z"
   },
   {
    "duration": 99,
    "start_time": "2022-04-08T12:51:21.453Z"
   },
   {
    "duration": 7,
    "start_time": "2022-04-08T12:51:21.553Z"
   },
   {
    "duration": 8,
    "start_time": "2022-04-08T12:51:21.561Z"
   },
   {
    "duration": 7,
    "start_time": "2022-04-08T12:51:21.571Z"
   },
   {
    "duration": 9,
    "start_time": "2022-04-08T12:51:21.579Z"
   },
   {
    "duration": 114,
    "start_time": "2022-04-08T12:51:21.589Z"
   },
   {
    "duration": 0,
    "start_time": "2022-04-08T12:51:21.705Z"
   },
   {
    "duration": 0,
    "start_time": "2022-04-08T12:51:21.706Z"
   },
   {
    "duration": 0,
    "start_time": "2022-04-08T12:51:21.707Z"
   },
   {
    "duration": 3,
    "start_time": "2022-04-08T12:51:31.467Z"
   },
   {
    "duration": 4,
    "start_time": "2022-04-08T12:52:43.279Z"
   },
   {
    "duration": 9,
    "start_time": "2022-04-08T12:52:44.600Z"
   },
   {
    "duration": 3,
    "start_time": "2022-04-08T12:53:08.025Z"
   },
   {
    "duration": 12,
    "start_time": "2022-04-08T12:53:08.960Z"
   },
   {
    "duration": 3,
    "start_time": "2022-04-08T12:53:26.352Z"
   },
   {
    "duration": 10,
    "start_time": "2022-04-08T12:53:27.094Z"
   },
   {
    "duration": 3,
    "start_time": "2022-04-08T12:53:32.417Z"
   },
   {
    "duration": 10,
    "start_time": "2022-04-08T12:53:33.085Z"
   },
   {
    "duration": 3,
    "start_time": "2022-04-08T12:53:48.205Z"
   },
   {
    "duration": 18,
    "start_time": "2022-04-08T12:54:24.352Z"
   },
   {
    "duration": 1618,
    "start_time": "2022-04-08T13:03:27.471Z"
   },
   {
    "duration": 699,
    "start_time": "2022-04-08T13:03:29.091Z"
   },
   {
    "duration": 15,
    "start_time": "2022-04-08T13:03:29.792Z"
   },
   {
    "duration": 15,
    "start_time": "2022-04-08T13:03:29.809Z"
   },
   {
    "duration": 50,
    "start_time": "2022-04-08T13:03:29.847Z"
   },
   {
    "duration": 364,
    "start_time": "2022-04-08T13:03:29.899Z"
   },
   {
    "duration": 16,
    "start_time": "2022-04-08T13:03:30.265Z"
   },
   {
    "duration": 64,
    "start_time": "2022-04-08T13:03:30.283Z"
   },
   {
    "duration": 290,
    "start_time": "2022-04-08T13:03:30.349Z"
   },
   {
    "duration": 15,
    "start_time": "2022-04-08T13:03:30.647Z"
   },
   {
    "duration": 54,
    "start_time": "2022-04-08T13:03:30.664Z"
   },
   {
    "duration": 334,
    "start_time": "2022-04-08T13:03:30.719Z"
   },
   {
    "duration": 28,
    "start_time": "2022-04-08T13:03:31.055Z"
   },
   {
    "duration": 44,
    "start_time": "2022-04-08T13:03:31.085Z"
   },
   {
    "duration": 18,
    "start_time": "2022-04-08T13:03:31.130Z"
   },
   {
    "duration": 30,
    "start_time": "2022-04-08T13:03:31.150Z"
   },
   {
    "duration": 108,
    "start_time": "2022-04-08T13:03:31.247Z"
   },
   {
    "duration": 200,
    "start_time": "2022-04-08T13:03:31.357Z"
   },
   {
    "duration": 189,
    "start_time": "2022-04-08T13:03:31.560Z"
   },
   {
    "duration": 20,
    "start_time": "2022-04-08T13:03:31.751Z"
   },
   {
    "duration": 14,
    "start_time": "2022-04-08T13:03:31.773Z"
   },
   {
    "duration": 25,
    "start_time": "2022-04-08T13:03:31.789Z"
   },
   {
    "duration": 30,
    "start_time": "2022-04-08T13:03:31.815Z"
   },
   {
    "duration": 11,
    "start_time": "2022-04-08T13:03:31.848Z"
   },
   {
    "duration": 32,
    "start_time": "2022-04-08T13:03:31.861Z"
   },
   {
    "duration": 17,
    "start_time": "2022-04-08T13:03:31.895Z"
   },
   {
    "duration": 5,
    "start_time": "2022-04-08T13:06:45.375Z"
   },
   {
    "duration": 114,
    "start_time": "2022-04-08T13:07:21.616Z"
   },
   {
    "duration": 7,
    "start_time": "2022-04-08T13:08:01.988Z"
   },
   {
    "duration": 21,
    "start_time": "2022-04-08T13:08:03.241Z"
   },
   {
    "duration": 1374,
    "start_time": "2022-04-08T13:08:15.864Z"
   },
   {
    "duration": 375,
    "start_time": "2022-04-08T13:08:17.240Z"
   },
   {
    "duration": 16,
    "start_time": "2022-04-08T13:08:17.617Z"
   },
   {
    "duration": 23,
    "start_time": "2022-04-08T13:08:17.634Z"
   },
   {
    "duration": 51,
    "start_time": "2022-04-08T13:08:17.659Z"
   },
   {
    "duration": 342,
    "start_time": "2022-04-08T13:08:17.712Z"
   },
   {
    "duration": 15,
    "start_time": "2022-04-08T13:08:18.056Z"
   },
   {
    "duration": 52,
    "start_time": "2022-04-08T13:08:18.073Z"
   },
   {
    "duration": 291,
    "start_time": "2022-04-08T13:08:18.147Z"
   },
   {
    "duration": 16,
    "start_time": "2022-04-08T13:08:18.447Z"
   },
   {
    "duration": 53,
    "start_time": "2022-04-08T13:08:18.465Z"
   },
   {
    "duration": 319,
    "start_time": "2022-04-08T13:08:18.520Z"
   },
   {
    "duration": 28,
    "start_time": "2022-04-08T13:08:18.847Z"
   },
   {
    "duration": 37,
    "start_time": "2022-04-08T13:08:18.877Z"
   },
   {
    "duration": 3,
    "start_time": "2022-04-08T13:08:18.916Z"
   },
   {
    "duration": 41,
    "start_time": "2022-04-08T13:08:18.921Z"
   },
   {
    "duration": 93,
    "start_time": "2022-04-08T13:08:18.963Z"
   },
   {
    "duration": 104,
    "start_time": "2022-04-08T13:08:19.150Z"
   },
   {
    "duration": 93,
    "start_time": "2022-04-08T13:08:19.257Z"
   },
   {
    "duration": 101,
    "start_time": "2022-04-08T13:08:19.353Z"
   },
   {
    "duration": 6,
    "start_time": "2022-04-08T13:08:19.456Z"
   },
   {
    "duration": 6,
    "start_time": "2022-04-08T13:08:19.464Z"
   },
   {
    "duration": 6,
    "start_time": "2022-04-08T13:08:19.471Z"
   },
   {
    "duration": 9,
    "start_time": "2022-04-08T13:08:19.479Z"
   },
   {
    "duration": 28,
    "start_time": "2022-04-08T13:08:19.489Z"
   },
   {
    "duration": 5,
    "start_time": "2022-04-08T13:08:19.519Z"
   },
   {
    "duration": 145,
    "start_time": "2022-04-08T13:08:19.526Z"
   },
   {
    "duration": 5,
    "start_time": "2022-04-08T13:09:19.821Z"
   },
   {
    "duration": 15,
    "start_time": "2022-04-08T13:09:20.819Z"
   },
   {
    "duration": 1849,
    "start_time": "2022-04-08T13:09:49.225Z"
   },
   {
    "duration": 522,
    "start_time": "2022-04-08T13:09:51.076Z"
   },
   {
    "duration": 17,
    "start_time": "2022-04-08T13:09:51.600Z"
   },
   {
    "duration": 15,
    "start_time": "2022-04-08T13:09:51.618Z"
   },
   {
    "duration": 64,
    "start_time": "2022-04-08T13:09:51.635Z"
   },
   {
    "duration": 346,
    "start_time": "2022-04-08T13:09:51.701Z"
   },
   {
    "duration": 16,
    "start_time": "2022-04-08T13:09:52.049Z"
   },
   {
    "duration": 50,
    "start_time": "2022-04-08T13:09:52.067Z"
   },
   {
    "duration": 314,
    "start_time": "2022-04-08T13:09:52.119Z"
   },
   {
    "duration": 24,
    "start_time": "2022-04-08T13:09:52.434Z"
   },
   {
    "duration": 46,
    "start_time": "2022-04-08T13:09:52.460Z"
   },
   {
    "duration": 327,
    "start_time": "2022-04-08T13:09:52.508Z"
   },
   {
    "duration": 33,
    "start_time": "2022-04-08T13:09:52.837Z"
   },
   {
    "duration": 38,
    "start_time": "2022-04-08T13:09:52.873Z"
   },
   {
    "duration": 4,
    "start_time": "2022-04-08T13:09:52.913Z"
   },
   {
    "duration": 38,
    "start_time": "2022-04-08T13:09:52.919Z"
   },
   {
    "duration": 196,
    "start_time": "2022-04-08T13:09:52.959Z"
   },
   {
    "duration": 194,
    "start_time": "2022-04-08T13:09:53.158Z"
   },
   {
    "duration": 109,
    "start_time": "2022-04-08T13:09:53.354Z"
   },
   {
    "duration": 85,
    "start_time": "2022-04-08T13:09:53.465Z"
   },
   {
    "duration": 6,
    "start_time": "2022-04-08T13:09:53.552Z"
   },
   {
    "duration": 6,
    "start_time": "2022-04-08T13:09:53.560Z"
   },
   {
    "duration": 6,
    "start_time": "2022-04-08T13:09:53.568Z"
   },
   {
    "duration": 6,
    "start_time": "2022-04-08T13:09:53.576Z"
   },
   {
    "duration": 129,
    "start_time": "2022-04-08T13:09:53.583Z"
   },
   {
    "duration": 0,
    "start_time": "2022-04-08T13:09:53.714Z"
   },
   {
    "duration": 0,
    "start_time": "2022-04-08T13:09:53.715Z"
   },
   {
    "duration": 2005,
    "start_time": "2022-04-08T13:10:12.460Z"
   },
   {
    "duration": 391,
    "start_time": "2022-04-08T13:10:14.467Z"
   },
   {
    "duration": 18,
    "start_time": "2022-04-08T13:10:14.860Z"
   },
   {
    "duration": 28,
    "start_time": "2022-04-08T13:10:14.879Z"
   },
   {
    "duration": 78,
    "start_time": "2022-04-08T13:10:14.910Z"
   },
   {
    "duration": 337,
    "start_time": "2022-04-08T13:10:14.990Z"
   },
   {
    "duration": 25,
    "start_time": "2022-04-08T13:10:15.328Z"
   },
   {
    "duration": 48,
    "start_time": "2022-04-08T13:10:15.354Z"
   },
   {
    "duration": 322,
    "start_time": "2022-04-08T13:10:15.404Z"
   },
   {
    "duration": 25,
    "start_time": "2022-04-08T13:10:15.728Z"
   },
   {
    "duration": 49,
    "start_time": "2022-04-08T13:10:15.755Z"
   },
   {
    "duration": 331,
    "start_time": "2022-04-08T13:10:15.806Z"
   },
   {
    "duration": 32,
    "start_time": "2022-04-08T13:10:16.138Z"
   },
   {
    "duration": 36,
    "start_time": "2022-04-08T13:10:16.173Z"
   },
   {
    "duration": 4,
    "start_time": "2022-04-08T13:10:16.211Z"
   },
   {
    "duration": 39,
    "start_time": "2022-04-08T13:10:16.216Z"
   },
   {
    "duration": 195,
    "start_time": "2022-04-08T13:10:16.258Z"
   },
   {
    "duration": 199,
    "start_time": "2022-04-08T13:10:16.455Z"
   },
   {
    "duration": 93,
    "start_time": "2022-04-08T13:10:16.657Z"
   },
   {
    "duration": 101,
    "start_time": "2022-04-08T13:10:16.753Z"
   },
   {
    "duration": 14,
    "start_time": "2022-04-08T13:10:16.856Z"
   },
   {
    "duration": 8,
    "start_time": "2022-04-08T13:10:16.871Z"
   },
   {
    "duration": 7,
    "start_time": "2022-04-08T13:10:16.881Z"
   },
   {
    "duration": 6,
    "start_time": "2022-04-08T13:10:16.890Z"
   },
   {
    "duration": 29,
    "start_time": "2022-04-08T13:10:16.898Z"
   },
   {
    "duration": 4,
    "start_time": "2022-04-08T13:10:16.929Z"
   },
   {
    "duration": 1279,
    "start_time": "2022-04-08T13:10:16.935Z"
   },
   {
    "duration": 5,
    "start_time": "2022-04-08T13:11:49.261Z"
   },
   {
    "duration": 1217,
    "start_time": "2022-04-08T13:11:50.487Z"
   },
   {
    "duration": 1394,
    "start_time": "2022-04-08T13:11:58.528Z"
   },
   {
    "duration": 351,
    "start_time": "2022-04-08T13:11:59.924Z"
   },
   {
    "duration": 17,
    "start_time": "2022-04-08T13:12:00.277Z"
   },
   {
    "duration": 15,
    "start_time": "2022-04-08T13:12:00.349Z"
   },
   {
    "duration": 102,
    "start_time": "2022-04-08T13:12:00.366Z"
   },
   {
    "duration": 503,
    "start_time": "2022-04-08T13:12:00.469Z"
   },
   {
    "duration": 14,
    "start_time": "2022-04-08T13:12:00.973Z"
   },
   {
    "duration": 104,
    "start_time": "2022-04-08T13:12:00.989Z"
   },
   {
    "duration": 510,
    "start_time": "2022-04-08T13:12:01.148Z"
   },
   {
    "duration": 15,
    "start_time": "2022-04-08T13:12:01.661Z"
   },
   {
    "duration": 105,
    "start_time": "2022-04-08T13:12:01.678Z"
   },
   {
    "duration": 380,
    "start_time": "2022-04-08T13:12:01.784Z"
   },
   {
    "duration": 27,
    "start_time": "2022-04-08T13:12:02.166Z"
   },
   {
    "duration": 54,
    "start_time": "2022-04-08T13:12:02.195Z"
   },
   {
    "duration": 4,
    "start_time": "2022-04-08T13:12:02.251Z"
   },
   {
    "duration": 28,
    "start_time": "2022-04-08T13:12:02.256Z"
   },
   {
    "duration": 111,
    "start_time": "2022-04-08T13:12:02.349Z"
   },
   {
    "duration": 189,
    "start_time": "2022-04-08T13:12:02.463Z"
   },
   {
    "duration": 95,
    "start_time": "2022-04-08T13:12:02.658Z"
   },
   {
    "duration": 9,
    "start_time": "2022-04-08T13:12:02.755Z"
   },
   {
    "duration": 7,
    "start_time": "2022-04-08T13:12:02.766Z"
   },
   {
    "duration": 7,
    "start_time": "2022-04-08T13:12:02.775Z"
   },
   {
    "duration": 9,
    "start_time": "2022-04-08T13:12:02.783Z"
   },
   {
    "duration": 9,
    "start_time": "2022-04-08T13:12:02.794Z"
   },
   {
    "duration": 29,
    "start_time": "2022-04-08T13:12:02.805Z"
   },
   {
    "duration": 14,
    "start_time": "2022-04-08T13:12:02.836Z"
   },
   {
    "duration": 1266,
    "start_time": "2022-04-08T13:12:02.851Z"
   },
   {
    "duration": 5,
    "start_time": "2022-04-08T13:14:57.345Z"
   },
   {
    "duration": 1204,
    "start_time": "2022-04-08T13:14:58.370Z"
   },
   {
    "duration": 5,
    "start_time": "2022-04-08T13:15:35.889Z"
   },
   {
    "duration": 110,
    "start_time": "2022-04-08T13:15:36.825Z"
   },
   {
    "duration": 5,
    "start_time": "2022-04-08T13:16:00.292Z"
   },
   {
    "duration": 1258,
    "start_time": "2022-04-08T13:16:01.263Z"
   },
   {
    "duration": 1336,
    "start_time": "2022-04-08T13:16:49.184Z"
   },
   {
    "duration": 331,
    "start_time": "2022-04-08T13:16:50.522Z"
   },
   {
    "duration": 16,
    "start_time": "2022-04-08T13:16:50.855Z"
   },
   {
    "duration": 14,
    "start_time": "2022-04-08T13:16:50.873Z"
   },
   {
    "duration": 65,
    "start_time": "2022-04-08T13:16:50.890Z"
   },
   {
    "duration": 306,
    "start_time": "2022-04-08T13:16:50.957Z"
   },
   {
    "duration": 15,
    "start_time": "2022-04-08T13:16:51.265Z"
   },
   {
    "duration": 44,
    "start_time": "2022-04-08T13:16:51.282Z"
   },
   {
    "duration": 308,
    "start_time": "2022-04-08T13:16:51.327Z"
   },
   {
    "duration": 23,
    "start_time": "2022-04-08T13:16:51.636Z"
   },
   {
    "duration": 45,
    "start_time": "2022-04-08T13:16:51.661Z"
   },
   {
    "duration": 445,
    "start_time": "2022-04-08T13:16:51.708Z"
   },
   {
    "duration": 26,
    "start_time": "2022-04-08T13:16:52.154Z"
   },
   {
    "duration": 88,
    "start_time": "2022-04-08T13:16:52.183Z"
   },
   {
    "duration": 4,
    "start_time": "2022-04-08T13:16:52.273Z"
   },
   {
    "duration": 74,
    "start_time": "2022-04-08T13:16:52.278Z"
   },
   {
    "duration": 197,
    "start_time": "2022-04-08T13:16:52.354Z"
   },
   {
    "duration": 195,
    "start_time": "2022-04-08T13:16:52.553Z"
   },
   {
    "duration": 6,
    "start_time": "2022-04-08T13:16:52.750Z"
   },
   {
    "duration": 7,
    "start_time": "2022-04-08T13:16:52.848Z"
   },
   {
    "duration": 6,
    "start_time": "2022-04-08T13:16:52.857Z"
   },
   {
    "duration": 7,
    "start_time": "2022-04-08T13:16:52.865Z"
   },
   {
    "duration": 5,
    "start_time": "2022-04-08T13:16:52.874Z"
   },
   {
    "duration": 9,
    "start_time": "2022-04-08T13:16:52.880Z"
   },
   {
    "duration": 66,
    "start_time": "2022-04-08T13:16:52.890Z"
   },
   {
    "duration": 4,
    "start_time": "2022-04-08T13:16:52.958Z"
   },
   {
    "duration": 1637,
    "start_time": "2022-04-08T13:16:52.963Z"
   },
   {
    "duration": 5,
    "start_time": "2022-04-08T13:18:49.807Z"
   },
   {
    "duration": 1206,
    "start_time": "2022-04-08T13:18:50.630Z"
   },
   {
    "duration": 5,
    "start_time": "2022-04-08T13:19:03.395Z"
   },
   {
    "duration": 1206,
    "start_time": "2022-04-08T13:19:04.520Z"
   },
   {
    "duration": 1223,
    "start_time": "2022-04-08T13:20:49.772Z"
   },
   {
    "duration": 1260,
    "start_time": "2022-04-08T13:21:21.214Z"
   },
   {
    "duration": 3,
    "start_time": "2022-04-08T13:22:20.071Z"
   },
   {
    "duration": 19,
    "start_time": "2022-04-08T13:22:21.248Z"
   },
   {
    "duration": 5,
    "start_time": "2022-04-08T13:22:41.598Z"
   },
   {
    "duration": 17,
    "start_time": "2022-04-08T13:22:42.280Z"
   },
   {
    "duration": 3,
    "start_time": "2022-04-08T13:23:05.181Z"
   },
   {
    "duration": 17,
    "start_time": "2022-04-08T13:23:06.064Z"
   },
   {
    "duration": 4,
    "start_time": "2022-04-08T13:23:21.581Z"
   },
   {
    "duration": 19,
    "start_time": "2022-04-08T13:23:22.315Z"
   },
   {
    "duration": 1360,
    "start_time": "2022-04-08T13:23:55.962Z"
   },
   {
    "duration": 336,
    "start_time": "2022-04-08T13:23:57.324Z"
   },
   {
    "duration": 16,
    "start_time": "2022-04-08T13:23:57.661Z"
   },
   {
    "duration": 15,
    "start_time": "2022-04-08T13:23:57.678Z"
   },
   {
    "duration": 56,
    "start_time": "2022-04-08T13:23:57.694Z"
   },
   {
    "duration": 324,
    "start_time": "2022-04-08T13:23:57.752Z"
   },
   {
    "duration": 15,
    "start_time": "2022-04-08T13:23:58.077Z"
   },
   {
    "duration": 62,
    "start_time": "2022-04-08T13:23:58.093Z"
   },
   {
    "duration": 301,
    "start_time": "2022-04-08T13:23:58.157Z"
   },
   {
    "duration": 14,
    "start_time": "2022-04-08T13:23:58.461Z"
   },
   {
    "duration": 46,
    "start_time": "2022-04-08T13:23:58.476Z"
   },
   {
    "duration": 339,
    "start_time": "2022-04-08T13:23:58.524Z"
   },
   {
    "duration": 28,
    "start_time": "2022-04-08T13:23:58.865Z"
   },
   {
    "duration": 53,
    "start_time": "2022-04-08T13:23:58.895Z"
   },
   {
    "duration": 4,
    "start_time": "2022-04-08T13:23:58.950Z"
   },
   {
    "duration": 21,
    "start_time": "2022-04-08T13:23:58.956Z"
   },
   {
    "duration": 173,
    "start_time": "2022-04-08T13:23:58.978Z"
   },
   {
    "duration": 201,
    "start_time": "2022-04-08T13:23:59.153Z"
   },
   {
    "duration": 94,
    "start_time": "2022-04-08T13:23:59.356Z"
   },
   {
    "duration": 104,
    "start_time": "2022-04-08T13:23:59.452Z"
   },
   {
    "duration": 12,
    "start_time": "2022-04-08T13:23:59.557Z"
   },
   {
    "duration": 7,
    "start_time": "2022-04-08T13:23:59.570Z"
   },
   {
    "duration": 8,
    "start_time": "2022-04-08T13:23:59.579Z"
   },
   {
    "duration": 8,
    "start_time": "2022-04-08T13:23:59.588Z"
   },
   {
    "duration": 20,
    "start_time": "2022-04-08T13:23:59.597Z"
   },
   {
    "duration": 4,
    "start_time": "2022-04-08T13:23:59.619Z"
   },
   {
    "duration": 1252,
    "start_time": "2022-04-08T13:23:59.625Z"
   },
   {
    "duration": 1267,
    "start_time": "2022-04-08T13:24:00.880Z"
   },
   {
    "duration": 1227,
    "start_time": "2022-04-08T13:24:02.149Z"
   },
   {
    "duration": 1432,
    "start_time": "2022-04-08T14:27:17.027Z"
   },
   {
    "duration": 347,
    "start_time": "2022-04-08T14:27:18.461Z"
   },
   {
    "duration": 16,
    "start_time": "2022-04-08T14:27:18.810Z"
   },
   {
    "duration": 21,
    "start_time": "2022-04-08T14:27:18.828Z"
   },
   {
    "duration": 49,
    "start_time": "2022-04-08T14:27:18.851Z"
   },
   {
    "duration": 347,
    "start_time": "2022-04-08T14:27:18.902Z"
   },
   {
    "duration": 14,
    "start_time": "2022-04-08T14:27:19.251Z"
   },
   {
    "duration": 46,
    "start_time": "2022-04-08T14:27:19.266Z"
   },
   {
    "duration": 337,
    "start_time": "2022-04-08T14:27:19.313Z"
   },
   {
    "duration": 14,
    "start_time": "2022-04-08T14:27:19.653Z"
   },
   {
    "duration": 53,
    "start_time": "2022-04-08T14:27:19.669Z"
   },
   {
    "duration": 323,
    "start_time": "2022-04-08T14:27:19.724Z"
   },
   {
    "duration": 29,
    "start_time": "2022-04-08T14:27:20.049Z"
   },
   {
    "duration": 61,
    "start_time": "2022-04-08T14:27:20.080Z"
   },
   {
    "duration": 3,
    "start_time": "2022-04-08T14:27:20.144Z"
   },
   {
    "duration": 26,
    "start_time": "2022-04-08T14:27:20.149Z"
   },
   {
    "duration": 173,
    "start_time": "2022-04-08T14:27:20.178Z"
   },
   {
    "duration": 198,
    "start_time": "2022-04-08T14:27:20.353Z"
   },
   {
    "duration": 103,
    "start_time": "2022-04-08T14:27:20.554Z"
   },
   {
    "duration": 89,
    "start_time": "2022-04-08T14:27:20.659Z"
   },
   {
    "duration": 7,
    "start_time": "2022-04-08T14:27:20.749Z"
   },
   {
    "duration": 10,
    "start_time": "2022-04-08T14:27:20.758Z"
   },
   {
    "duration": 7,
    "start_time": "2022-04-08T14:27:20.769Z"
   },
   {
    "duration": 8,
    "start_time": "2022-04-08T14:27:20.777Z"
   },
   {
    "duration": 22,
    "start_time": "2022-04-08T14:27:20.786Z"
   },
   {
    "duration": 5,
    "start_time": "2022-04-08T14:27:20.810Z"
   },
   {
    "duration": 1339,
    "start_time": "2022-04-08T14:27:20.817Z"
   },
   {
    "duration": 1276,
    "start_time": "2022-04-08T14:27:22.159Z"
   },
   {
    "duration": 1271,
    "start_time": "2022-04-08T14:27:23.437Z"
   },
   {
    "duration": 1745,
    "start_time": "2022-04-08T14:32:31.829Z"
   },
   {
    "duration": 703,
    "start_time": "2022-04-08T14:32:33.576Z"
   },
   {
    "duration": 70,
    "start_time": "2022-04-08T14:32:34.281Z"
   },
   {
    "duration": 15,
    "start_time": "2022-04-08T14:32:34.353Z"
   },
   {
    "duration": 106,
    "start_time": "2022-04-08T14:32:34.370Z"
   },
   {
    "duration": 387,
    "start_time": "2022-04-08T14:32:34.478Z"
   },
   {
    "duration": 17,
    "start_time": "2022-04-08T14:32:34.867Z"
   },
   {
    "duration": 73,
    "start_time": "2022-04-08T14:32:34.886Z"
   },
   {
    "duration": 293,
    "start_time": "2022-04-08T14:32:34.961Z"
   },
   {
    "duration": 16,
    "start_time": "2022-04-08T14:32:35.257Z"
   },
   {
    "duration": 73,
    "start_time": "2022-04-08T14:32:35.275Z"
   },
   {
    "duration": 314,
    "start_time": "2022-04-08T14:32:35.350Z"
   },
   {
    "duration": 30,
    "start_time": "2022-04-08T14:32:35.666Z"
   },
   {
    "duration": 56,
    "start_time": "2022-04-08T14:32:35.698Z"
   },
   {
    "duration": 3,
    "start_time": "2022-04-08T14:32:35.756Z"
   },
   {
    "duration": 25,
    "start_time": "2022-04-08T14:32:35.761Z"
   },
   {
    "duration": 106,
    "start_time": "2022-04-08T14:32:35.852Z"
   },
   {
    "duration": 191,
    "start_time": "2022-04-08T14:32:35.963Z"
   },
   {
    "duration": 94,
    "start_time": "2022-04-08T14:32:36.156Z"
   },
   {
    "duration": 102,
    "start_time": "2022-04-08T14:32:36.253Z"
   },
   {
    "duration": 6,
    "start_time": "2022-04-08T14:32:36.357Z"
   },
   {
    "duration": 7,
    "start_time": "2022-04-08T14:32:36.365Z"
   },
   {
    "duration": 7,
    "start_time": "2022-04-08T14:32:36.375Z"
   },
   {
    "duration": 17,
    "start_time": "2022-04-08T14:32:36.383Z"
   },
   {
    "duration": 23,
    "start_time": "2022-04-08T14:32:36.401Z"
   },
   {
    "duration": 22,
    "start_time": "2022-04-08T14:32:36.426Z"
   },
   {
    "duration": 1360,
    "start_time": "2022-04-08T14:32:36.450Z"
   },
   {
    "duration": 1316,
    "start_time": "2022-04-08T14:32:37.816Z"
   },
   {
    "duration": 1262,
    "start_time": "2022-04-08T14:32:39.134Z"
   },
   {
    "duration": 1378,
    "start_time": "2022-04-08T14:46:15.259Z"
   },
   {
    "duration": 349,
    "start_time": "2022-04-08T14:46:16.639Z"
   },
   {
    "duration": 17,
    "start_time": "2022-04-08T14:46:16.989Z"
   },
   {
    "duration": 14,
    "start_time": "2022-04-08T14:46:17.008Z"
   },
   {
    "duration": 62,
    "start_time": "2022-04-08T14:46:17.023Z"
   },
   {
    "duration": 303,
    "start_time": "2022-04-08T14:46:17.086Z"
   },
   {
    "duration": 16,
    "start_time": "2022-04-08T14:46:17.390Z"
   },
   {
    "duration": 59,
    "start_time": "2022-04-08T14:46:17.408Z"
   },
   {
    "duration": 279,
    "start_time": "2022-04-08T14:46:17.469Z"
   },
   {
    "duration": 14,
    "start_time": "2022-04-08T14:46:17.751Z"
   },
   {
    "duration": 43,
    "start_time": "2022-04-08T14:46:17.766Z"
   },
   {
    "duration": 313,
    "start_time": "2022-04-08T14:46:17.811Z"
   },
   {
    "duration": 35,
    "start_time": "2022-04-08T14:46:18.126Z"
   },
   {
    "duration": 33,
    "start_time": "2022-04-08T14:46:18.162Z"
   },
   {
    "duration": 4,
    "start_time": "2022-04-08T14:46:18.196Z"
   },
   {
    "duration": 50,
    "start_time": "2022-04-08T14:46:18.201Z"
   },
   {
    "duration": 106,
    "start_time": "2022-04-08T14:46:18.253Z"
   },
   {
    "duration": 94,
    "start_time": "2022-04-08T14:46:18.363Z"
   },
   {
    "duration": 104,
    "start_time": "2022-04-08T14:46:18.549Z"
   },
   {
    "duration": 8,
    "start_time": "2022-04-08T14:46:18.655Z"
   },
   {
    "duration": 7,
    "start_time": "2022-04-08T14:46:18.664Z"
   },
   {
    "duration": 9,
    "start_time": "2022-04-08T14:46:18.672Z"
   },
   {
    "duration": 8,
    "start_time": "2022-04-08T14:46:18.682Z"
   },
   {
    "duration": 10,
    "start_time": "2022-04-08T14:46:18.692Z"
   },
   {
    "duration": 21,
    "start_time": "2022-04-08T14:46:18.704Z"
   },
   {
    "duration": 4,
    "start_time": "2022-04-08T14:46:18.727Z"
   },
   {
    "duration": 1262,
    "start_time": "2022-04-08T14:46:18.733Z"
   },
   {
    "duration": 1284,
    "start_time": "2022-04-08T14:46:19.998Z"
   },
   {
    "duration": 1199,
    "start_time": "2022-04-08T14:46:21.284Z"
   },
   {
    "duration": 5,
    "start_time": "2022-04-08T14:46:48.116Z"
   },
   {
    "duration": 12,
    "start_time": "2022-04-09T08:57:55.159Z"
   },
   {
    "duration": 2257,
    "start_time": "2022-04-09T08:59:07.632Z"
   },
   {
    "duration": 451,
    "start_time": "2022-04-09T08:59:09.892Z"
   },
   {
    "duration": 23,
    "start_time": "2022-04-09T08:59:10.345Z"
   },
   {
    "duration": 22,
    "start_time": "2022-04-09T08:59:10.371Z"
   },
   {
    "duration": 104,
    "start_time": "2022-04-09T08:59:10.395Z"
   },
   {
    "duration": 474,
    "start_time": "2022-04-09T08:59:10.502Z"
   },
   {
    "duration": 19,
    "start_time": "2022-04-09T08:59:10.978Z"
   },
   {
    "duration": 113,
    "start_time": "2022-04-09T08:59:10.999Z"
   },
   {
    "duration": 398,
    "start_time": "2022-04-09T08:59:11.114Z"
   },
   {
    "duration": 34,
    "start_time": "2022-04-09T08:59:11.518Z"
   },
   {
    "duration": 99,
    "start_time": "2022-04-09T08:59:11.555Z"
   },
   {
    "duration": 407,
    "start_time": "2022-04-09T08:59:11.657Z"
   },
   {
    "duration": 36,
    "start_time": "2022-04-09T08:59:12.067Z"
   },
   {
    "duration": 71,
    "start_time": "2022-04-09T08:59:12.106Z"
   },
   {
    "duration": 6,
    "start_time": "2022-04-09T08:59:12.179Z"
   },
   {
    "duration": 59,
    "start_time": "2022-04-09T08:59:12.187Z"
   },
   {
    "duration": 110,
    "start_time": "2022-04-09T08:59:12.249Z"
   },
   {
    "duration": 104,
    "start_time": "2022-04-09T08:59:12.442Z"
   },
   {
    "duration": 6,
    "start_time": "2022-04-09T08:59:12.549Z"
   },
   {
    "duration": 16,
    "start_time": "2022-04-09T08:59:12.645Z"
   },
   {
    "duration": 16,
    "start_time": "2022-04-09T08:59:12.664Z"
   },
   {
    "duration": 11,
    "start_time": "2022-04-09T08:59:12.682Z"
   },
   {
    "duration": 5,
    "start_time": "2022-04-09T08:59:12.743Z"
   },
   {
    "duration": 9,
    "start_time": "2022-04-09T08:59:12.750Z"
   },
   {
    "duration": 194,
    "start_time": "2022-04-09T08:59:12.761Z"
   },
   {
    "duration": 0,
    "start_time": "2022-04-09T08:59:12.958Z"
   },
   {
    "duration": 0,
    "start_time": "2022-04-09T08:59:12.960Z"
   },
   {
    "duration": 0,
    "start_time": "2022-04-09T08:59:12.961Z"
   },
   {
    "duration": 0,
    "start_time": "2022-04-09T08:59:12.963Z"
   },
   {
    "duration": 2549,
    "start_time": "2022-04-09T08:59:56.725Z"
   },
   {
    "duration": 882,
    "start_time": "2022-04-09T08:59:59.277Z"
   },
   {
    "duration": 84,
    "start_time": "2022-04-09T09:00:00.161Z"
   },
   {
    "duration": 21,
    "start_time": "2022-04-09T09:00:00.247Z"
   },
   {
    "duration": 144,
    "start_time": "2022-04-09T09:00:00.272Z"
   },
   {
    "duration": 433,
    "start_time": "2022-04-09T09:00:00.418Z"
   },
   {
    "duration": 21,
    "start_time": "2022-04-09T09:00:00.853Z"
   },
   {
    "duration": 97,
    "start_time": "2022-04-09T09:00:00.876Z"
   },
   {
    "duration": 436,
    "start_time": "2022-04-09T09:00:00.975Z"
   },
   {
    "duration": 33,
    "start_time": "2022-04-09T09:00:01.413Z"
   },
   {
    "duration": 107,
    "start_time": "2022-04-09T09:00:01.449Z"
   },
   {
    "duration": 412,
    "start_time": "2022-04-09T09:00:01.559Z"
   },
   {
    "duration": 35,
    "start_time": "2022-04-09T09:00:01.973Z"
   },
   {
    "duration": 71,
    "start_time": "2022-04-09T09:00:02.012Z"
   },
   {
    "duration": 35,
    "start_time": "2022-04-09T09:00:02.085Z"
   },
   {
    "duration": 142,
    "start_time": "2022-04-09T09:00:02.122Z"
   },
   {
    "duration": 180,
    "start_time": "2022-04-09T09:00:02.267Z"
   },
   {
    "duration": 212,
    "start_time": "2022-04-09T09:00:02.451Z"
   },
   {
    "duration": 194,
    "start_time": "2022-04-09T09:00:02.665Z"
   },
   {
    "duration": 41,
    "start_time": "2022-04-09T09:00:02.861Z"
   },
   {
    "duration": 22,
    "start_time": "2022-04-09T09:00:02.904Z"
   },
   {
    "duration": 34,
    "start_time": "2022-04-09T09:00:02.928Z"
   },
   {
    "duration": 15,
    "start_time": "2022-04-09T09:00:02.964Z"
   },
   {
    "duration": 22,
    "start_time": "2022-04-09T09:00:02.981Z"
   },
   {
    "duration": 46,
    "start_time": "2022-04-09T09:00:03.005Z"
   },
   {
    "duration": 7,
    "start_time": "2022-04-09T09:00:03.054Z"
   },
   {
    "duration": 1795,
    "start_time": "2022-04-09T09:00:03.064Z"
   },
   {
    "duration": 1766,
    "start_time": "2022-04-09T09:00:04.861Z"
   },
   {
    "duration": 1752,
    "start_time": "2022-04-09T09:00:06.630Z"
   }
  ],
  "kernelspec": {
   "display_name": "Python 3 (ipykernel)",
   "language": "python",
   "name": "python3"
  },
  "language_info": {
   "codemirror_mode": {
    "name": "ipython",
    "version": 3
   },
   "file_extension": ".py",
   "mimetype": "text/x-python",
   "name": "python",
   "nbconvert_exporter": "python",
   "pygments_lexer": "ipython3",
   "version": "3.9.10"
  },
  "toc": {
   "base_numbering": 1,
   "nav_menu": {},
   "number_sections": true,
   "sideBar": true,
   "skip_h1_title": true,
   "title_cell": "Table of Contents",
   "title_sidebar": "Contents",
   "toc_cell": false,
   "toc_position": {
    "height": "calc(100% - 180px)",
    "left": "10px",
    "top": "150px",
    "width": "358.188px"
   },
   "toc_section_display": true,
   "toc_window_display": true
  }
 },
 "nbformat": 4,
 "nbformat_minor": 2
}
