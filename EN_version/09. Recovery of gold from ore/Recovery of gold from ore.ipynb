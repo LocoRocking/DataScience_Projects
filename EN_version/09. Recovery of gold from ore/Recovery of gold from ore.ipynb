{
 "cells": [
  {
   "cell_type": "markdown",
   "metadata": {},
   "source": [
    "# Recovery of gold from ore"
   ]
  },
  {
   "cell_type": "markdown",
   "metadata": {},
   "source": [
    "Prepare a prototype machine learning model for Zifra. The company develops solutions for the efficient operation of industrial enterprises.\n",
    "\n",
    "The model should predict the recovery rate of gold from gold ore. Use data with mining and cleaning parameters.\n",
    "\n",
    "The model will help optimize production so as not to launch an enterprise with unprofitable characteristics.\n",
    "\n",
    "You need:\n",
    "\n",
    "1. Prepare data;\n",
    "2. Conduct exploratory data analysis;\n",
    "3. Build and train the model.\n",
    "\n",
    "Refer to the *pandas*, *matplotlib* and *sklearn.* libraries to complete the project. Their documentation will help you."
   ]
  },
  {
   "cell_type": "markdown",
   "metadata": {},
   "source": [
    "<font size=4><b>Data Description </font></b>\n",
    "\n",
    "<b>Technological process</b>\n",
    "- `Rougher feed` - feedstock\n",
    "- `Rougher additions` (or reagent additions) - flotation reagents: Xanthate, Sulphate, Depressant\n",
    "- `Xanthate` - xanthate (promoter, or flotation activator);\n",
    "- `Sulphate` - sulfate (in this production, sodium sulfide);\n",
    "- `Depressant` - depressant (sodium silicate).\n",
    "- `Rougher process` (English \"rough process\") - flotation\n",
    "- `Rougher tails` - dump tails\n",
    "- `Float banks` - flotation unit\n",
    "- `Cleaner process` - cleaning\n",
    "- `Rougher Au` - rough gold concentrate\n",
    "- `Final Au` - final gold concentrate\n",
    "\n",
    "<b>Stage parameters</b>\n",
    "- `air amount` - air volume\n",
    "- `fluid levels` - fluid level\n",
    "- `feed size` — size of feed granules\n",
    "- `feed rate` — feed rate\n",
    "\n",
    "<b>Name of signs</b>\n",
    "    \n",
    "    The name of the features should be:\n",
    "    [stage].[parameter_type].[parameter_name]\n",
    "    Example: rougher.input.feed_ag\n",
    "Possible values for block [stage]:\n",
    "- `rougher` - flotation\n",
    "- `primary_cleaner` - primary cleaning\n",
    "- `secondary_cleaner` - secondary cleaning\n",
    "- `final` - final characteristics\n",
    "Possible values for block [parameter_type]:\n",
    "- `input` — raw material parameters\n",
    "- `output` — product parameters\n",
    "- `state` — parameters characterizing the current state of the stage\n",
    "- `calculation` — calculated characteristics"
   ]
  },
  {
   "cell_type": "markdown",
   "metadata": {},
   "source": [
    "## Data preparation"
   ]
  },
  {
   "cell_type": "code",
   "execution_count": 1,
   "metadata": {},
   "outputs": [],
   "source": [
    "#import the necessary libraries\n",
    "\n",
    "import pandas as pd\n",
    "import numpy as np\n",
    "import matplotlib.pyplot as plt\n",
    "import seaborn as sns\n",
    "\n",
    "from sklearn.model_selection import cross_val_score\n",
    "from sklearn.metrics import make_scorer\n",
    "from sklearn.metrics import mean_absolute_error\n",
    "\n",
    "from sklearn.tree import DecisionTreeRegressor\n",
    "from sklearn.linear_model import LinearRegression\n",
    "from sklearn.ensemble import RandomForestRegressor\n",
    "from sklearn.dummy import DummyRegressor\n",
    "\n",
    "import warnings\n",
    "warnings.filterwarnings(\"ignore\")"
   ]
  },
  {
   "cell_type": "markdown",
   "metadata": {},
   "source": [
    "### Let's download our datasets and study them."
   ]
  },
  {
   "cell_type": "code",
   "execution_count": 2,
   "metadata": {},
   "outputs": [],
   "source": [
    "df_train=pd.read_csv('/datasets/gold_recovery_train_new.csv')\n",
    "df_test=pd.read_csv('/datasets/gold_recovery_test_new.csv')\n",
    "df_full=pd.read_csv('/datasets/gold_recovery_full_new.csv')"
   ]
  },
  {
   "cell_type": "code",
   "execution_count": 3,
   "metadata": {},
   "outputs": [
    {
     "data": {
      "text/html": [
       "<div>\n",
       "<style scoped>\n",
       "    .dataframe tbody tr th:only-of-type {\n",
       "        vertical-align: middle;\n",
       "    }\n",
       "\n",
       "    .dataframe tbody tr th {\n",
       "        vertical-align: top;\n",
       "    }\n",
       "\n",
       "    .dataframe thead th {\n",
       "        text-align: right;\n",
       "    }\n",
       "</style>\n",
       "<table border=\"1\" class=\"dataframe\">\n",
       "  <thead>\n",
       "    <tr style=\"text-align: right;\">\n",
       "      <th></th>\n",
       "      <th>date</th>\n",
       "      <th>final.output.concentrate_ag</th>\n",
       "      <th>final.output.concentrate_pb</th>\n",
       "      <th>final.output.concentrate_sol</th>\n",
       "      <th>final.output.concentrate_au</th>\n",
       "      <th>final.output.recovery</th>\n",
       "      <th>final.output.tail_ag</th>\n",
       "      <th>final.output.tail_pb</th>\n",
       "      <th>final.output.tail_sol</th>\n",
       "      <th>final.output.tail_au</th>\n",
       "      <th>...</th>\n",
       "      <th>secondary_cleaner.state.floatbank4_a_air</th>\n",
       "      <th>secondary_cleaner.state.floatbank4_a_level</th>\n",
       "      <th>secondary_cleaner.state.floatbank4_b_air</th>\n",
       "      <th>secondary_cleaner.state.floatbank4_b_level</th>\n",
       "      <th>secondary_cleaner.state.floatbank5_a_air</th>\n",
       "      <th>secondary_cleaner.state.floatbank5_a_level</th>\n",
       "      <th>secondary_cleaner.state.floatbank5_b_air</th>\n",
       "      <th>secondary_cleaner.state.floatbank5_b_level</th>\n",
       "      <th>secondary_cleaner.state.floatbank6_a_air</th>\n",
       "      <th>secondary_cleaner.state.floatbank6_a_level</th>\n",
       "    </tr>\n",
       "  </thead>\n",
       "  <tbody>\n",
       "    <tr>\n",
       "      <th>7110</th>\n",
       "      <td>2017-04-26 04:59:59</td>\n",
       "      <td>4.739294</td>\n",
       "      <td>11.429776</td>\n",
       "      <td>10.917536</td>\n",
       "      <td>44.751161</td>\n",
       "      <td>67.819950</td>\n",
       "      <td>7.917520</td>\n",
       "      <td>2.897718</td>\n",
       "      <td>11.362627</td>\n",
       "      <td>2.476118</td>\n",
       "      <td>...</td>\n",
       "      <td>25.022697</td>\n",
       "      <td>-399.359066</td>\n",
       "      <td>23.014381</td>\n",
       "      <td>-401.643835</td>\n",
       "      <td>25.986139</td>\n",
       "      <td>-449.535871</td>\n",
       "      <td>23.980067</td>\n",
       "      <td>-449.963188</td>\n",
       "      <td>29.983001</td>\n",
       "      <td>-499.733962</td>\n",
       "    </tr>\n",
       "    <tr>\n",
       "      <th>9371</th>\n",
       "      <td>2017-08-14 13:59:59</td>\n",
       "      <td>4.146732</td>\n",
       "      <td>12.258958</td>\n",
       "      <td>6.588644</td>\n",
       "      <td>45.568230</td>\n",
       "      <td>58.451934</td>\n",
       "      <td>7.330122</td>\n",
       "      <td>4.352353</td>\n",
       "      <td>11.610819</td>\n",
       "      <td>3.844961</td>\n",
       "      <td>...</td>\n",
       "      <td>14.491141</td>\n",
       "      <td>-496.034882</td>\n",
       "      <td>10.933114</td>\n",
       "      <td>-400.526508</td>\n",
       "      <td>13.993115</td>\n",
       "      <td>-501.986808</td>\n",
       "      <td>11.027800</td>\n",
       "      <td>-490.753082</td>\n",
       "      <td>15.007717</td>\n",
       "      <td>-500.975730</td>\n",
       "    </tr>\n",
       "    <tr>\n",
       "      <th>10708</th>\n",
       "      <td>2018-03-02 01:59:59</td>\n",
       "      <td>5.630798</td>\n",
       "      <td>9.087935</td>\n",
       "      <td>7.728026</td>\n",
       "      <td>45.848497</td>\n",
       "      <td>82.410431</td>\n",
       "      <td>11.064872</td>\n",
       "      <td>1.854523</td>\n",
       "      <td>9.533747</td>\n",
       "      <td>2.111315</td>\n",
       "      <td>...</td>\n",
       "      <td>23.038633</td>\n",
       "      <td>-499.136165</td>\n",
       "      <td>14.905711</td>\n",
       "      <td>-499.707745</td>\n",
       "      <td>17.997966</td>\n",
       "      <td>-500.146531</td>\n",
       "      <td>11.995316</td>\n",
       "      <td>-500.080325</td>\n",
       "      <td>11.991255</td>\n",
       "      <td>-500.139998</td>\n",
       "    </tr>\n",
       "    <tr>\n",
       "      <th>8179</th>\n",
       "      <td>2017-06-22 21:59:59</td>\n",
       "      <td>4.392976</td>\n",
       "      <td>10.307967</td>\n",
       "      <td>7.982713</td>\n",
       "      <td>46.500742</td>\n",
       "      <td>60.680880</td>\n",
       "      <td>7.988811</td>\n",
       "      <td>2.744073</td>\n",
       "      <td>9.989456</td>\n",
       "      <td>2.616254</td>\n",
       "      <td>...</td>\n",
       "      <td>17.966142</td>\n",
       "      <td>-500.696054</td>\n",
       "      <td>13.000774</td>\n",
       "      <td>-378.990232</td>\n",
       "      <td>17.991933</td>\n",
       "      <td>-500.564871</td>\n",
       "      <td>12.954428</td>\n",
       "      <td>-500.084513</td>\n",
       "      <td>15.031805</td>\n",
       "      <td>-500.812208</td>\n",
       "    </tr>\n",
       "    <tr>\n",
       "      <th>9116</th>\n",
       "      <td>2017-08-03 08:59:59</td>\n",
       "      <td>4.125936</td>\n",
       "      <td>12.279839</td>\n",
       "      <td>7.182092</td>\n",
       "      <td>43.283941</td>\n",
       "      <td>63.900497</td>\n",
       "      <td>7.020990</td>\n",
       "      <td>2.972639</td>\n",
       "      <td>10.590239</td>\n",
       "      <td>2.694817</td>\n",
       "      <td>...</td>\n",
       "      <td>12.956764</td>\n",
       "      <td>-500.618027</td>\n",
       "      <td>9.958967</td>\n",
       "      <td>-400.223280</td>\n",
       "      <td>11.027740</td>\n",
       "      <td>-500.570397</td>\n",
       "      <td>9.005407</td>\n",
       "      <td>-500.010508</td>\n",
       "      <td>11.992647</td>\n",
       "      <td>-499.959797</td>\n",
       "    </tr>\n",
       "    <tr>\n",
       "      <th>11588</th>\n",
       "      <td>2018-04-14 14:59:59</td>\n",
       "      <td>5.065759</td>\n",
       "      <td>10.120619</td>\n",
       "      <td>8.418366</td>\n",
       "      <td>46.082425</td>\n",
       "      <td>73.247413</td>\n",
       "      <td>13.708169</td>\n",
       "      <td>4.290441</td>\n",
       "      <td>7.427641</td>\n",
       "      <td>3.859482</td>\n",
       "      <td>...</td>\n",
       "      <td>23.007960</td>\n",
       "      <td>-499.749842</td>\n",
       "      <td>15.944663</td>\n",
       "      <td>-500.055470</td>\n",
       "      <td>18.016808</td>\n",
       "      <td>-500.153581</td>\n",
       "      <td>11.989890</td>\n",
       "      <td>-500.133370</td>\n",
       "      <td>14.992885</td>\n",
       "      <td>-500.430278</td>\n",
       "    </tr>\n",
       "    <tr>\n",
       "      <th>9620</th>\n",
       "      <td>2017-08-25 04:59:59</td>\n",
       "      <td>3.780079</td>\n",
       "      <td>11.014068</td>\n",
       "      <td>7.650390</td>\n",
       "      <td>46.470614</td>\n",
       "      <td>64.267521</td>\n",
       "      <td>7.492244</td>\n",
       "      <td>3.029109</td>\n",
       "      <td>10.471294</td>\n",
       "      <td>2.290094</td>\n",
       "      <td>...</td>\n",
       "      <td>14.507842</td>\n",
       "      <td>-501.521336</td>\n",
       "      <td>10.971956</td>\n",
       "      <td>-401.586911</td>\n",
       "      <td>13.996969</td>\n",
       "      <td>-501.058801</td>\n",
       "      <td>11.009226</td>\n",
       "      <td>-499.983335</td>\n",
       "      <td>15.008976</td>\n",
       "      <td>-500.397137</td>\n",
       "    </tr>\n",
       "    <tr>\n",
       "      <th>5147</th>\n",
       "      <td>2017-01-26 17:59:59</td>\n",
       "      <td>4.855644</td>\n",
       "      <td>8.470465</td>\n",
       "      <td>14.549406</td>\n",
       "      <td>46.365969</td>\n",
       "      <td>70.450308</td>\n",
       "      <td>10.390029</td>\n",
       "      <td>2.316145</td>\n",
       "      <td>11.614787</td>\n",
       "      <td>2.764194</td>\n",
       "      <td>...</td>\n",
       "      <td>21.051144</td>\n",
       "      <td>-500.560153</td>\n",
       "      <td>21.081949</td>\n",
       "      <td>-499.906959</td>\n",
       "      <td>23.008898</td>\n",
       "      <td>-499.629288</td>\n",
       "      <td>20.028300</td>\n",
       "      <td>-500.040448</td>\n",
       "      <td>25.011028</td>\n",
       "      <td>-599.830110</td>\n",
       "    </tr>\n",
       "    <tr>\n",
       "      <th>1392</th>\n",
       "      <td>2016-03-19 17:00:00</td>\n",
       "      <td>5.182911</td>\n",
       "      <td>11.070075</td>\n",
       "      <td>8.178016</td>\n",
       "      <td>42.374954</td>\n",
       "      <td>73.178089</td>\n",
       "      <td>11.689246</td>\n",
       "      <td>2.034504</td>\n",
       "      <td>16.457291</td>\n",
       "      <td>2.837874</td>\n",
       "      <td>...</td>\n",
       "      <td>11.975794</td>\n",
       "      <td>-500.799122</td>\n",
       "      <td>12.057243</td>\n",
       "      <td>-499.912854</td>\n",
       "      <td>11.946417</td>\n",
       "      <td>-500.431818</td>\n",
       "      <td>10.009150</td>\n",
       "      <td>-499.966885</td>\n",
       "      <td>19.954936</td>\n",
       "      <td>-499.739188</td>\n",
       "    </tr>\n",
       "    <tr>\n",
       "      <th>97</th>\n",
       "      <td>2016-01-20 16:00:00</td>\n",
       "      <td>6.641615</td>\n",
       "      <td>8.990178</td>\n",
       "      <td>NaN</td>\n",
       "      <td>44.161305</td>\n",
       "      <td>64.045287</td>\n",
       "      <td>12.460954</td>\n",
       "      <td>1.905541</td>\n",
       "      <td>4.360854</td>\n",
       "      <td>3.075640</td>\n",
       "      <td>...</td>\n",
       "      <td>13.977521</td>\n",
       "      <td>-550.386614</td>\n",
       "      <td>12.000013</td>\n",
       "      <td>-550.451984</td>\n",
       "      <td>9.963179</td>\n",
       "      <td>-500.873518</td>\n",
       "      <td>8.051530</td>\n",
       "      <td>-499.780601</td>\n",
       "      <td>11.956762</td>\n",
       "      <td>-599.938457</td>\n",
       "    </tr>\n",
       "  </tbody>\n",
       "</table>\n",
       "<p>10 rows × 87 columns</p>\n",
       "</div>"
      ],
      "text/plain": [
       "                      date  final.output.concentrate_ag  \\\n",
       "7110   2017-04-26 04:59:59                     4.739294   \n",
       "9371   2017-08-14 13:59:59                     4.146732   \n",
       "10708  2018-03-02 01:59:59                     5.630798   \n",
       "8179   2017-06-22 21:59:59                     4.392976   \n",
       "9116   2017-08-03 08:59:59                     4.125936   \n",
       "11588  2018-04-14 14:59:59                     5.065759   \n",
       "9620   2017-08-25 04:59:59                     3.780079   \n",
       "5147   2017-01-26 17:59:59                     4.855644   \n",
       "1392   2016-03-19 17:00:00                     5.182911   \n",
       "97     2016-01-20 16:00:00                     6.641615   \n",
       "\n",
       "       final.output.concentrate_pb  final.output.concentrate_sol  \\\n",
       "7110                     11.429776                     10.917536   \n",
       "9371                     12.258958                      6.588644   \n",
       "10708                     9.087935                      7.728026   \n",
       "8179                     10.307967                      7.982713   \n",
       "9116                     12.279839                      7.182092   \n",
       "11588                    10.120619                      8.418366   \n",
       "9620                     11.014068                      7.650390   \n",
       "5147                      8.470465                     14.549406   \n",
       "1392                     11.070075                      8.178016   \n",
       "97                        8.990178                           NaN   \n",
       "\n",
       "       final.output.concentrate_au  final.output.recovery  \\\n",
       "7110                     44.751161              67.819950   \n",
       "9371                     45.568230              58.451934   \n",
       "10708                    45.848497              82.410431   \n",
       "8179                     46.500742              60.680880   \n",
       "9116                     43.283941              63.900497   \n",
       "11588                    46.082425              73.247413   \n",
       "9620                     46.470614              64.267521   \n",
       "5147                     46.365969              70.450308   \n",
       "1392                     42.374954              73.178089   \n",
       "97                       44.161305              64.045287   \n",
       "\n",
       "       final.output.tail_ag  final.output.tail_pb  final.output.tail_sol  \\\n",
       "7110               7.917520              2.897718              11.362627   \n",
       "9371               7.330122              4.352353              11.610819   \n",
       "10708             11.064872              1.854523               9.533747   \n",
       "8179               7.988811              2.744073               9.989456   \n",
       "9116               7.020990              2.972639              10.590239   \n",
       "11588             13.708169              4.290441               7.427641   \n",
       "9620               7.492244              3.029109              10.471294   \n",
       "5147              10.390029              2.316145              11.614787   \n",
       "1392              11.689246              2.034504              16.457291   \n",
       "97                12.460954              1.905541               4.360854   \n",
       "\n",
       "       final.output.tail_au  ...  secondary_cleaner.state.floatbank4_a_air  \\\n",
       "7110               2.476118  ...                                 25.022697   \n",
       "9371               3.844961  ...                                 14.491141   \n",
       "10708              2.111315  ...                                 23.038633   \n",
       "8179               2.616254  ...                                 17.966142   \n",
       "9116               2.694817  ...                                 12.956764   \n",
       "11588              3.859482  ...                                 23.007960   \n",
       "9620               2.290094  ...                                 14.507842   \n",
       "5147               2.764194  ...                                 21.051144   \n",
       "1392               2.837874  ...                                 11.975794   \n",
       "97                 3.075640  ...                                 13.977521   \n",
       "\n",
       "       secondary_cleaner.state.floatbank4_a_level  \\\n",
       "7110                                  -399.359066   \n",
       "9371                                  -496.034882   \n",
       "10708                                 -499.136165   \n",
       "8179                                  -500.696054   \n",
       "9116                                  -500.618027   \n",
       "11588                                 -499.749842   \n",
       "9620                                  -501.521336   \n",
       "5147                                  -500.560153   \n",
       "1392                                  -500.799122   \n",
       "97                                    -550.386614   \n",
       "\n",
       "       secondary_cleaner.state.floatbank4_b_air  \\\n",
       "7110                                  23.014381   \n",
       "9371                                  10.933114   \n",
       "10708                                 14.905711   \n",
       "8179                                  13.000774   \n",
       "9116                                   9.958967   \n",
       "11588                                 15.944663   \n",
       "9620                                  10.971956   \n",
       "5147                                  21.081949   \n",
       "1392                                  12.057243   \n",
       "97                                    12.000013   \n",
       "\n",
       "       secondary_cleaner.state.floatbank4_b_level  \\\n",
       "7110                                  -401.643835   \n",
       "9371                                  -400.526508   \n",
       "10708                                 -499.707745   \n",
       "8179                                  -378.990232   \n",
       "9116                                  -400.223280   \n",
       "11588                                 -500.055470   \n",
       "9620                                  -401.586911   \n",
       "5147                                  -499.906959   \n",
       "1392                                  -499.912854   \n",
       "97                                    -550.451984   \n",
       "\n",
       "       secondary_cleaner.state.floatbank5_a_air  \\\n",
       "7110                                  25.986139   \n",
       "9371                                  13.993115   \n",
       "10708                                 17.997966   \n",
       "8179                                  17.991933   \n",
       "9116                                  11.027740   \n",
       "11588                                 18.016808   \n",
       "9620                                  13.996969   \n",
       "5147                                  23.008898   \n",
       "1392                                  11.946417   \n",
       "97                                     9.963179   \n",
       "\n",
       "       secondary_cleaner.state.floatbank5_a_level  \\\n",
       "7110                                  -449.535871   \n",
       "9371                                  -501.986808   \n",
       "10708                                 -500.146531   \n",
       "8179                                  -500.564871   \n",
       "9116                                  -500.570397   \n",
       "11588                                 -500.153581   \n",
       "9620                                  -501.058801   \n",
       "5147                                  -499.629288   \n",
       "1392                                  -500.431818   \n",
       "97                                    -500.873518   \n",
       "\n",
       "       secondary_cleaner.state.floatbank5_b_air  \\\n",
       "7110                                  23.980067   \n",
       "9371                                  11.027800   \n",
       "10708                                 11.995316   \n",
       "8179                                  12.954428   \n",
       "9116                                   9.005407   \n",
       "11588                                 11.989890   \n",
       "9620                                  11.009226   \n",
       "5147                                  20.028300   \n",
       "1392                                  10.009150   \n",
       "97                                     8.051530   \n",
       "\n",
       "       secondary_cleaner.state.floatbank5_b_level  \\\n",
       "7110                                  -449.963188   \n",
       "9371                                  -490.753082   \n",
       "10708                                 -500.080325   \n",
       "8179                                  -500.084513   \n",
       "9116                                  -500.010508   \n",
       "11588                                 -500.133370   \n",
       "9620                                  -499.983335   \n",
       "5147                                  -500.040448   \n",
       "1392                                  -499.966885   \n",
       "97                                    -499.780601   \n",
       "\n",
       "       secondary_cleaner.state.floatbank6_a_air  \\\n",
       "7110                                  29.983001   \n",
       "9371                                  15.007717   \n",
       "10708                                 11.991255   \n",
       "8179                                  15.031805   \n",
       "9116                                  11.992647   \n",
       "11588                                 14.992885   \n",
       "9620                                  15.008976   \n",
       "5147                                  25.011028   \n",
       "1392                                  19.954936   \n",
       "97                                    11.956762   \n",
       "\n",
       "       secondary_cleaner.state.floatbank6_a_level  \n",
       "7110                                  -499.733962  \n",
       "9371                                  -500.975730  \n",
       "10708                                 -500.139998  \n",
       "8179                                  -500.812208  \n",
       "9116                                  -499.959797  \n",
       "11588                                 -500.430278  \n",
       "9620                                  -500.397137  \n",
       "5147                                  -599.830110  \n",
       "1392                                  -499.739188  \n",
       "97                                    -599.938457  \n",
       "\n",
       "[10 rows x 87 columns]"
      ]
     },
     "execution_count": 3,
     "metadata": {},
     "output_type": "execute_result"
    }
   ],
   "source": [
    "#training set\n",
    "df_train.sample(10)"
   ]
  },
  {
   "cell_type": "code",
   "execution_count": 4,
   "metadata": {},
   "outputs": [
    {
     "name": "stdout",
     "output_type": "stream",
     "text": [
      "<class 'pandas.core.frame.DataFrame'>\n",
      "RangeIndex: 14149 entries, 0 to 14148\n",
      "Data columns (total 87 columns):\n",
      " #   Column                                              Non-Null Count  Dtype  \n",
      "---  ------                                              --------------  -----  \n",
      " 0   date                                                14149 non-null  object \n",
      " 1   final.output.concentrate_ag                         14148 non-null  float64\n",
      " 2   final.output.concentrate_pb                         14148 non-null  float64\n",
      " 3   final.output.concentrate_sol                        13938 non-null  float64\n",
      " 4   final.output.concentrate_au                         14149 non-null  float64\n",
      " 5   final.output.recovery                               14149 non-null  float64\n",
      " 6   final.output.tail_ag                                14149 non-null  float64\n",
      " 7   final.output.tail_pb                                14049 non-null  float64\n",
      " 8   final.output.tail_sol                               14144 non-null  float64\n",
      " 9   final.output.tail_au                                14149 non-null  float64\n",
      " 10  primary_cleaner.input.sulfate                       14129 non-null  float64\n",
      " 11  primary_cleaner.input.depressant                    14117 non-null  float64\n",
      " 12  primary_cleaner.input.feed_size                     14149 non-null  float64\n",
      " 13  primary_cleaner.input.xanthate                      14049 non-null  float64\n",
      " 14  primary_cleaner.output.concentrate_ag               14149 non-null  float64\n",
      " 15  primary_cleaner.output.concentrate_pb               14063 non-null  float64\n",
      " 16  primary_cleaner.output.concentrate_sol              13863 non-null  float64\n",
      " 17  primary_cleaner.output.concentrate_au               14149 non-null  float64\n",
      " 18  primary_cleaner.output.tail_ag                      14148 non-null  float64\n",
      " 19  primary_cleaner.output.tail_pb                      14134 non-null  float64\n",
      " 20  primary_cleaner.output.tail_sol                     14103 non-null  float64\n",
      " 21  primary_cleaner.output.tail_au                      14149 non-null  float64\n",
      " 22  primary_cleaner.state.floatbank8_a_air              14145 non-null  float64\n",
      " 23  primary_cleaner.state.floatbank8_a_level            14148 non-null  float64\n",
      " 24  primary_cleaner.state.floatbank8_b_air              14145 non-null  float64\n",
      " 25  primary_cleaner.state.floatbank8_b_level            14148 non-null  float64\n",
      " 26  primary_cleaner.state.floatbank8_c_air              14147 non-null  float64\n",
      " 27  primary_cleaner.state.floatbank8_c_level            14148 non-null  float64\n",
      " 28  primary_cleaner.state.floatbank8_d_air              14146 non-null  float64\n",
      " 29  primary_cleaner.state.floatbank8_d_level            14148 non-null  float64\n",
      " 30  rougher.calculation.sulfate_to_au_concentrate       14148 non-null  float64\n",
      " 31  rougher.calculation.floatbank10_sulfate_to_au_feed  14148 non-null  float64\n",
      " 32  rougher.calculation.floatbank11_sulfate_to_au_feed  14148 non-null  float64\n",
      " 33  rougher.calculation.au_pb_ratio                     14149 non-null  float64\n",
      " 34  rougher.input.feed_ag                               14149 non-null  float64\n",
      " 35  rougher.input.feed_pb                               14049 non-null  float64\n",
      " 36  rougher.input.feed_rate                             14141 non-null  float64\n",
      " 37  rougher.input.feed_size                             14005 non-null  float64\n",
      " 38  rougher.input.feed_sol                              14071 non-null  float64\n",
      " 39  rougher.input.feed_au                               14149 non-null  float64\n",
      " 40  rougher.input.floatbank10_sulfate                   14120 non-null  float64\n",
      " 41  rougher.input.floatbank10_xanthate                  14141 non-null  float64\n",
      " 42  rougher.input.floatbank11_sulfate                   14113 non-null  float64\n",
      " 43  rougher.input.floatbank11_xanthate                  13721 non-null  float64\n",
      " 44  rougher.output.concentrate_ag                       14149 non-null  float64\n",
      " 45  rougher.output.concentrate_pb                       14149 non-null  float64\n",
      " 46  rougher.output.concentrate_sol                      14127 non-null  float64\n",
      " 47  rougher.output.concentrate_au                       14149 non-null  float64\n",
      " 48  rougher.output.recovery                             14149 non-null  float64\n",
      " 49  rougher.output.tail_ag                              14148 non-null  float64\n",
      " 50  rougher.output.tail_pb                              14149 non-null  float64\n",
      " 51  rougher.output.tail_sol                             14149 non-null  float64\n",
      " 52  rougher.output.tail_au                              14149 non-null  float64\n",
      " 53  rougher.state.floatbank10_a_air                     14148 non-null  float64\n",
      " 54  rougher.state.floatbank10_a_level                   14148 non-null  float64\n",
      " 55  rougher.state.floatbank10_b_air                     14148 non-null  float64\n",
      " 56  rougher.state.floatbank10_b_level                   14148 non-null  float64\n",
      " 57  rougher.state.floatbank10_c_air                     14148 non-null  float64\n",
      " 58  rougher.state.floatbank10_c_level                   14148 non-null  float64\n",
      " 59  rougher.state.floatbank10_d_air                     14149 non-null  float64\n",
      " 60  rougher.state.floatbank10_d_level                   14149 non-null  float64\n",
      " 61  rougher.state.floatbank10_e_air                     13713 non-null  float64\n",
      " 62  rougher.state.floatbank10_e_level                   14149 non-null  float64\n",
      " 63  rougher.state.floatbank10_f_air                     14149 non-null  float64\n",
      " 64  rougher.state.floatbank10_f_level                   14149 non-null  float64\n",
      " 65  secondary_cleaner.output.tail_ag                    14147 non-null  float64\n",
      " 66  secondary_cleaner.output.tail_pb                    14139 non-null  float64\n",
      " 67  secondary_cleaner.output.tail_sol                   12544 non-null  float64\n",
      " 68  secondary_cleaner.output.tail_au                    14149 non-null  float64\n",
      " 69  secondary_cleaner.state.floatbank2_a_air            13932 non-null  float64\n",
      " 70  secondary_cleaner.state.floatbank2_a_level          14148 non-null  float64\n",
      " 71  secondary_cleaner.state.floatbank2_b_air            14128 non-null  float64\n",
      " 72  secondary_cleaner.state.floatbank2_b_level          14148 non-null  float64\n",
      " 73  secondary_cleaner.state.floatbank3_a_air            14145 non-null  float64\n",
      " 74  secondary_cleaner.state.floatbank3_a_level          14148 non-null  float64\n",
      " 75  secondary_cleaner.state.floatbank3_b_air            14148 non-null  float64\n",
      " 76  secondary_cleaner.state.floatbank3_b_level          14148 non-null  float64\n",
      " 77  secondary_cleaner.state.floatbank4_a_air            14143 non-null  float64\n",
      " 78  secondary_cleaner.state.floatbank4_a_level          14148 non-null  float64\n",
      " 79  secondary_cleaner.state.floatbank4_b_air            14148 non-null  float64\n",
      " 80  secondary_cleaner.state.floatbank4_b_level          14148 non-null  float64\n",
      " 81  secondary_cleaner.state.floatbank5_a_air            14148 non-null  float64\n",
      " 82  secondary_cleaner.state.floatbank5_a_level          14148 non-null  float64\n",
      " 83  secondary_cleaner.state.floatbank5_b_air            14148 non-null  float64\n",
      " 84  secondary_cleaner.state.floatbank5_b_level          14148 non-null  float64\n",
      " 85  secondary_cleaner.state.floatbank6_a_air            14147 non-null  float64\n",
      " 86  secondary_cleaner.state.floatbank6_a_level          14148 non-null  float64\n",
      "dtypes: float64(86), object(1)\n",
      "memory usage: 9.4+ MB\n"
     ]
    }
   ],
   "source": [
    "#training set\n",
    "df_train.info()"
   ]
  },
  {
   "cell_type": "code",
   "execution_count": 5,
   "metadata": {},
   "outputs": [
    {
     "name": "stdout",
     "output_type": "stream",
     "text": [
      "Rows, columns in the training sample: (14149, 87)\n",
      "Number of gaps in the training set: 0\n"
     ]
    }
   ],
   "source": [
    "print('Rows, columns in the training sample:', df_train.shape)\n",
    "print('Number of gaps in the training set:', df_train.duplicated().sum())"
   ]
  },
  {
   "cell_type": "markdown",
   "metadata": {},
   "source": [
    "The training sample contains 14149 rows and 87 columns, some columns have gaps, there are no duplicates in the training dataset. All features, except for the date column, have the data type `float64`."
   ]
  },
  {
   "cell_type": "code",
   "execution_count": 6,
   "metadata": {},
   "outputs": [
    {
     "data": {
      "text/html": [
       "<div>\n",
       "<style scoped>\n",
       "    .dataframe tbody tr th:only-of-type {\n",
       "        vertical-align: middle;\n",
       "    }\n",
       "\n",
       "    .dataframe tbody tr th {\n",
       "        vertical-align: top;\n",
       "    }\n",
       "\n",
       "    .dataframe thead th {\n",
       "        text-align: right;\n",
       "    }\n",
       "</style>\n",
       "<table border=\"1\" class=\"dataframe\">\n",
       "  <thead>\n",
       "    <tr style=\"text-align: right;\">\n",
       "      <th></th>\n",
       "      <th>date</th>\n",
       "      <th>primary_cleaner.input.sulfate</th>\n",
       "      <th>primary_cleaner.input.depressant</th>\n",
       "      <th>primary_cleaner.input.feed_size</th>\n",
       "      <th>primary_cleaner.input.xanthate</th>\n",
       "      <th>primary_cleaner.state.floatbank8_a_air</th>\n",
       "      <th>primary_cleaner.state.floatbank8_a_level</th>\n",
       "      <th>primary_cleaner.state.floatbank8_b_air</th>\n",
       "      <th>primary_cleaner.state.floatbank8_b_level</th>\n",
       "      <th>primary_cleaner.state.floatbank8_c_air</th>\n",
       "      <th>...</th>\n",
       "      <th>secondary_cleaner.state.floatbank4_a_air</th>\n",
       "      <th>secondary_cleaner.state.floatbank4_a_level</th>\n",
       "      <th>secondary_cleaner.state.floatbank4_b_air</th>\n",
       "      <th>secondary_cleaner.state.floatbank4_b_level</th>\n",
       "      <th>secondary_cleaner.state.floatbank5_a_air</th>\n",
       "      <th>secondary_cleaner.state.floatbank5_a_level</th>\n",
       "      <th>secondary_cleaner.state.floatbank5_b_air</th>\n",
       "      <th>secondary_cleaner.state.floatbank5_b_level</th>\n",
       "      <th>secondary_cleaner.state.floatbank6_a_air</th>\n",
       "      <th>secondary_cleaner.state.floatbank6_a_level</th>\n",
       "    </tr>\n",
       "  </thead>\n",
       "  <tbody>\n",
       "    <tr>\n",
       "      <th>4052</th>\n",
       "      <td>2017-11-06 22:59:59</td>\n",
       "      <td>209.022333</td>\n",
       "      <td>9.902682</td>\n",
       "      <td>6.06</td>\n",
       "      <td>2.136155</td>\n",
       "      <td>1600.846311</td>\n",
       "      <td>-499.126554</td>\n",
       "      <td>1602.485329</td>\n",
       "      <td>-495.316956</td>\n",
       "      <td>1498.457946</td>\n",
       "      <td>...</td>\n",
       "      <td>21.035201</td>\n",
       "      <td>-499.861146</td>\n",
       "      <td>18.992534</td>\n",
       "      <td>-499.837546</td>\n",
       "      <td>14.977894</td>\n",
       "      <td>-500.493057</td>\n",
       "      <td>10.739988</td>\n",
       "      <td>-499.791331</td>\n",
       "      <td>16.008219</td>\n",
       "      <td>-499.758430</td>\n",
       "    </tr>\n",
       "    <tr>\n",
       "      <th>1603</th>\n",
       "      <td>2016-11-17 21:59:59</td>\n",
       "      <td>198.939953</td>\n",
       "      <td>9.045445</td>\n",
       "      <td>7.31</td>\n",
       "      <td>1.295780</td>\n",
       "      <td>1596.659871</td>\n",
       "      <td>-499.904189</td>\n",
       "      <td>1602.869473</td>\n",
       "      <td>-499.764414</td>\n",
       "      <td>1600.651979</td>\n",
       "      <td>...</td>\n",
       "      <td>15.976558</td>\n",
       "      <td>-500.085141</td>\n",
       "      <td>13.982873</td>\n",
       "      <td>-496.343858</td>\n",
       "      <td>16.183099</td>\n",
       "      <td>-499.740854</td>\n",
       "      <td>13.985090</td>\n",
       "      <td>-499.956737</td>\n",
       "      <td>21.999183</td>\n",
       "      <td>-499.285569</td>\n",
       "    </tr>\n",
       "    <tr>\n",
       "      <th>4003</th>\n",
       "      <td>2017-11-04 16:59:59</td>\n",
       "      <td>165.732867</td>\n",
       "      <td>10.055889</td>\n",
       "      <td>6.22</td>\n",
       "      <td>2.399743</td>\n",
       "      <td>1600.709681</td>\n",
       "      <td>-500.193120</td>\n",
       "      <td>1599.432946</td>\n",
       "      <td>-497.691892</td>\n",
       "      <td>1521.047497</td>\n",
       "      <td>...</td>\n",
       "      <td>20.017685</td>\n",
       "      <td>-499.909662</td>\n",
       "      <td>17.941286</td>\n",
       "      <td>-499.863393</td>\n",
       "      <td>14.017193</td>\n",
       "      <td>-499.391497</td>\n",
       "      <td>10.027675</td>\n",
       "      <td>-499.799905</td>\n",
       "      <td>14.006807</td>\n",
       "      <td>-500.062543</td>\n",
       "    </tr>\n",
       "    <tr>\n",
       "      <th>3836</th>\n",
       "      <td>2017-10-28 16:59:59</td>\n",
       "      <td>99.332190</td>\n",
       "      <td>8.445943</td>\n",
       "      <td>6.82</td>\n",
       "      <td>1.753049</td>\n",
       "      <td>1597.538344</td>\n",
       "      <td>-500.185875</td>\n",
       "      <td>1601.025915</td>\n",
       "      <td>-502.861397</td>\n",
       "      <td>1600.864170</td>\n",
       "      <td>...</td>\n",
       "      <td>18.012991</td>\n",
       "      <td>-500.979304</td>\n",
       "      <td>16.094022</td>\n",
       "      <td>-500.106464</td>\n",
       "      <td>15.014246</td>\n",
       "      <td>-500.080236</td>\n",
       "      <td>10.982499</td>\n",
       "      <td>-500.116136</td>\n",
       "      <td>15.997517</td>\n",
       "      <td>-499.877206</td>\n",
       "    </tr>\n",
       "    <tr>\n",
       "      <th>1088</th>\n",
       "      <td>2016-10-26 11:59:59</td>\n",
       "      <td>150.032409</td>\n",
       "      <td>5.478359</td>\n",
       "      <td>7.10</td>\n",
       "      <td>0.698515</td>\n",
       "      <td>1612.586060</td>\n",
       "      <td>-499.593440</td>\n",
       "      <td>1699.790915</td>\n",
       "      <td>-500.507830</td>\n",
       "      <td>1700.839811</td>\n",
       "      <td>...</td>\n",
       "      <td>20.010274</td>\n",
       "      <td>-500.018624</td>\n",
       "      <td>17.067633</td>\n",
       "      <td>-499.697293</td>\n",
       "      <td>16.989144</td>\n",
       "      <td>-500.343614</td>\n",
       "      <td>14.010132</td>\n",
       "      <td>-494.957502</td>\n",
       "      <td>25.005508</td>\n",
       "      <td>-498.730209</td>\n",
       "    </tr>\n",
       "    <tr>\n",
       "      <th>3455</th>\n",
       "      <td>2017-10-11 05:59:59</td>\n",
       "      <td>173.027055</td>\n",
       "      <td>7.012145</td>\n",
       "      <td>6.51</td>\n",
       "      <td>2.315499</td>\n",
       "      <td>1403.920470</td>\n",
       "      <td>-500.041790</td>\n",
       "      <td>1400.881509</td>\n",
       "      <td>-496.599522</td>\n",
       "      <td>1396.890964</td>\n",
       "      <td>...</td>\n",
       "      <td>18.006338</td>\n",
       "      <td>-501.496274</td>\n",
       "      <td>15.984915</td>\n",
       "      <td>-400.294843</td>\n",
       "      <td>12.989143</td>\n",
       "      <td>-500.214602</td>\n",
       "      <td>10.000137</td>\n",
       "      <td>-499.674221</td>\n",
       "      <td>13.998606</td>\n",
       "      <td>-499.835755</td>\n",
       "    </tr>\n",
       "    <tr>\n",
       "      <th>3818</th>\n",
       "      <td>2017-10-27 22:59:59</td>\n",
       "      <td>229.767535</td>\n",
       "      <td>13.977277</td>\n",
       "      <td>6.41</td>\n",
       "      <td>2.041729</td>\n",
       "      <td>1597.741407</td>\n",
       "      <td>-500.096218</td>\n",
       "      <td>1600.788220</td>\n",
       "      <td>-502.628161</td>\n",
       "      <td>1599.885761</td>\n",
       "      <td>...</td>\n",
       "      <td>18.003162</td>\n",
       "      <td>-501.953984</td>\n",
       "      <td>16.028517</td>\n",
       "      <td>-501.211807</td>\n",
       "      <td>14.977547</td>\n",
       "      <td>-500.432245</td>\n",
       "      <td>10.969379</td>\n",
       "      <td>-499.942006</td>\n",
       "      <td>15.981079</td>\n",
       "      <td>-499.608890</td>\n",
       "    </tr>\n",
       "    <tr>\n",
       "      <th>3928</th>\n",
       "      <td>2017-11-01 12:59:59</td>\n",
       "      <td>204.203950</td>\n",
       "      <td>9.000325</td>\n",
       "      <td>7.49</td>\n",
       "      <td>3.296680</td>\n",
       "      <td>1800.491247</td>\n",
       "      <td>-496.285383</td>\n",
       "      <td>1784.201672</td>\n",
       "      <td>-503.100053</td>\n",
       "      <td>1334.752364</td>\n",
       "      <td>...</td>\n",
       "      <td>18.051130</td>\n",
       "      <td>-500.297033</td>\n",
       "      <td>16.002175</td>\n",
       "      <td>-500.952289</td>\n",
       "      <td>14.990877</td>\n",
       "      <td>-499.515130</td>\n",
       "      <td>10.984340</td>\n",
       "      <td>-500.210509</td>\n",
       "      <td>15.976134</td>\n",
       "      <td>-500.508675</td>\n",
       "    </tr>\n",
       "    <tr>\n",
       "      <th>2056</th>\n",
       "      <td>2016-12-07 11:59:59</td>\n",
       "      <td>182.778686</td>\n",
       "      <td>8.123847</td>\n",
       "      <td>7.55</td>\n",
       "      <td>1.035201</td>\n",
       "      <td>1503.322777</td>\n",
       "      <td>-499.497244</td>\n",
       "      <td>1501.383528</td>\n",
       "      <td>-500.181911</td>\n",
       "      <td>1499.531665</td>\n",
       "      <td>...</td>\n",
       "      <td>17.979817</td>\n",
       "      <td>-499.964793</td>\n",
       "      <td>15.958878</td>\n",
       "      <td>-498.951891</td>\n",
       "      <td>15.948906</td>\n",
       "      <td>-500.201512</td>\n",
       "      <td>11.990257</td>\n",
       "      <td>-500.055077</td>\n",
       "      <td>21.020662</td>\n",
       "      <td>-500.426535</td>\n",
       "    </tr>\n",
       "    <tr>\n",
       "      <th>2545</th>\n",
       "      <td>2016-12-28 21:59:59</td>\n",
       "      <td>132.409631</td>\n",
       "      <td>9.386254</td>\n",
       "      <td>7.28</td>\n",
       "      <td>1.197853</td>\n",
       "      <td>1657.655745</td>\n",
       "      <td>-499.117709</td>\n",
       "      <td>1700.015357</td>\n",
       "      <td>-497.716302</td>\n",
       "      <td>1700.525575</td>\n",
       "      <td>...</td>\n",
       "      <td>17.053344</td>\n",
       "      <td>-499.983235</td>\n",
       "      <td>15.023645</td>\n",
       "      <td>-500.762681</td>\n",
       "      <td>14.991294</td>\n",
       "      <td>-498.703609</td>\n",
       "      <td>11.991495</td>\n",
       "      <td>-499.678263</td>\n",
       "      <td>20.994038</td>\n",
       "      <td>-498.671950</td>\n",
       "    </tr>\n",
       "  </tbody>\n",
       "</table>\n",
       "<p>10 rows × 53 columns</p>\n",
       "</div>"
      ],
      "text/plain": [
       "                     date  primary_cleaner.input.sulfate  \\\n",
       "4052  2017-11-06 22:59:59                     209.022333   \n",
       "1603  2016-11-17 21:59:59                     198.939953   \n",
       "4003  2017-11-04 16:59:59                     165.732867   \n",
       "3836  2017-10-28 16:59:59                      99.332190   \n",
       "1088  2016-10-26 11:59:59                     150.032409   \n",
       "3455  2017-10-11 05:59:59                     173.027055   \n",
       "3818  2017-10-27 22:59:59                     229.767535   \n",
       "3928  2017-11-01 12:59:59                     204.203950   \n",
       "2056  2016-12-07 11:59:59                     182.778686   \n",
       "2545  2016-12-28 21:59:59                     132.409631   \n",
       "\n",
       "      primary_cleaner.input.depressant  primary_cleaner.input.feed_size  \\\n",
       "4052                          9.902682                             6.06   \n",
       "1603                          9.045445                             7.31   \n",
       "4003                         10.055889                             6.22   \n",
       "3836                          8.445943                             6.82   \n",
       "1088                          5.478359                             7.10   \n",
       "3455                          7.012145                             6.51   \n",
       "3818                         13.977277                             6.41   \n",
       "3928                          9.000325                             7.49   \n",
       "2056                          8.123847                             7.55   \n",
       "2545                          9.386254                             7.28   \n",
       "\n",
       "      primary_cleaner.input.xanthate  primary_cleaner.state.floatbank8_a_air  \\\n",
       "4052                        2.136155                             1600.846311   \n",
       "1603                        1.295780                             1596.659871   \n",
       "4003                        2.399743                             1600.709681   \n",
       "3836                        1.753049                             1597.538344   \n",
       "1088                        0.698515                             1612.586060   \n",
       "3455                        2.315499                             1403.920470   \n",
       "3818                        2.041729                             1597.741407   \n",
       "3928                        3.296680                             1800.491247   \n",
       "2056                        1.035201                             1503.322777   \n",
       "2545                        1.197853                             1657.655745   \n",
       "\n",
       "      primary_cleaner.state.floatbank8_a_level  \\\n",
       "4052                               -499.126554   \n",
       "1603                               -499.904189   \n",
       "4003                               -500.193120   \n",
       "3836                               -500.185875   \n",
       "1088                               -499.593440   \n",
       "3455                               -500.041790   \n",
       "3818                               -500.096218   \n",
       "3928                               -496.285383   \n",
       "2056                               -499.497244   \n",
       "2545                               -499.117709   \n",
       "\n",
       "      primary_cleaner.state.floatbank8_b_air  \\\n",
       "4052                             1602.485329   \n",
       "1603                             1602.869473   \n",
       "4003                             1599.432946   \n",
       "3836                             1601.025915   \n",
       "1088                             1699.790915   \n",
       "3455                             1400.881509   \n",
       "3818                             1600.788220   \n",
       "3928                             1784.201672   \n",
       "2056                             1501.383528   \n",
       "2545                             1700.015357   \n",
       "\n",
       "      primary_cleaner.state.floatbank8_b_level  \\\n",
       "4052                               -495.316956   \n",
       "1603                               -499.764414   \n",
       "4003                               -497.691892   \n",
       "3836                               -502.861397   \n",
       "1088                               -500.507830   \n",
       "3455                               -496.599522   \n",
       "3818                               -502.628161   \n",
       "3928                               -503.100053   \n",
       "2056                               -500.181911   \n",
       "2545                               -497.716302   \n",
       "\n",
       "      primary_cleaner.state.floatbank8_c_air  ...  \\\n",
       "4052                             1498.457946  ...   \n",
       "1603                             1600.651979  ...   \n",
       "4003                             1521.047497  ...   \n",
       "3836                             1600.864170  ...   \n",
       "1088                             1700.839811  ...   \n",
       "3455                             1396.890964  ...   \n",
       "3818                             1599.885761  ...   \n",
       "3928                             1334.752364  ...   \n",
       "2056                             1499.531665  ...   \n",
       "2545                             1700.525575  ...   \n",
       "\n",
       "      secondary_cleaner.state.floatbank4_a_air  \\\n",
       "4052                                 21.035201   \n",
       "1603                                 15.976558   \n",
       "4003                                 20.017685   \n",
       "3836                                 18.012991   \n",
       "1088                                 20.010274   \n",
       "3455                                 18.006338   \n",
       "3818                                 18.003162   \n",
       "3928                                 18.051130   \n",
       "2056                                 17.979817   \n",
       "2545                                 17.053344   \n",
       "\n",
       "      secondary_cleaner.state.floatbank4_a_level  \\\n",
       "4052                                 -499.861146   \n",
       "1603                                 -500.085141   \n",
       "4003                                 -499.909662   \n",
       "3836                                 -500.979304   \n",
       "1088                                 -500.018624   \n",
       "3455                                 -501.496274   \n",
       "3818                                 -501.953984   \n",
       "3928                                 -500.297033   \n",
       "2056                                 -499.964793   \n",
       "2545                                 -499.983235   \n",
       "\n",
       "      secondary_cleaner.state.floatbank4_b_air  \\\n",
       "4052                                 18.992534   \n",
       "1603                                 13.982873   \n",
       "4003                                 17.941286   \n",
       "3836                                 16.094022   \n",
       "1088                                 17.067633   \n",
       "3455                                 15.984915   \n",
       "3818                                 16.028517   \n",
       "3928                                 16.002175   \n",
       "2056                                 15.958878   \n",
       "2545                                 15.023645   \n",
       "\n",
       "      secondary_cleaner.state.floatbank4_b_level  \\\n",
       "4052                                 -499.837546   \n",
       "1603                                 -496.343858   \n",
       "4003                                 -499.863393   \n",
       "3836                                 -500.106464   \n",
       "1088                                 -499.697293   \n",
       "3455                                 -400.294843   \n",
       "3818                                 -501.211807   \n",
       "3928                                 -500.952289   \n",
       "2056                                 -498.951891   \n",
       "2545                                 -500.762681   \n",
       "\n",
       "      secondary_cleaner.state.floatbank5_a_air  \\\n",
       "4052                                 14.977894   \n",
       "1603                                 16.183099   \n",
       "4003                                 14.017193   \n",
       "3836                                 15.014246   \n",
       "1088                                 16.989144   \n",
       "3455                                 12.989143   \n",
       "3818                                 14.977547   \n",
       "3928                                 14.990877   \n",
       "2056                                 15.948906   \n",
       "2545                                 14.991294   \n",
       "\n",
       "      secondary_cleaner.state.floatbank5_a_level  \\\n",
       "4052                                 -500.493057   \n",
       "1603                                 -499.740854   \n",
       "4003                                 -499.391497   \n",
       "3836                                 -500.080236   \n",
       "1088                                 -500.343614   \n",
       "3455                                 -500.214602   \n",
       "3818                                 -500.432245   \n",
       "3928                                 -499.515130   \n",
       "2056                                 -500.201512   \n",
       "2545                                 -498.703609   \n",
       "\n",
       "      secondary_cleaner.state.floatbank5_b_air  \\\n",
       "4052                                 10.739988   \n",
       "1603                                 13.985090   \n",
       "4003                                 10.027675   \n",
       "3836                                 10.982499   \n",
       "1088                                 14.010132   \n",
       "3455                                 10.000137   \n",
       "3818                                 10.969379   \n",
       "3928                                 10.984340   \n",
       "2056                                 11.990257   \n",
       "2545                                 11.991495   \n",
       "\n",
       "      secondary_cleaner.state.floatbank5_b_level  \\\n",
       "4052                                 -499.791331   \n",
       "1603                                 -499.956737   \n",
       "4003                                 -499.799905   \n",
       "3836                                 -500.116136   \n",
       "1088                                 -494.957502   \n",
       "3455                                 -499.674221   \n",
       "3818                                 -499.942006   \n",
       "3928                                 -500.210509   \n",
       "2056                                 -500.055077   \n",
       "2545                                 -499.678263   \n",
       "\n",
       "      secondary_cleaner.state.floatbank6_a_air  \\\n",
       "4052                                 16.008219   \n",
       "1603                                 21.999183   \n",
       "4003                                 14.006807   \n",
       "3836                                 15.997517   \n",
       "1088                                 25.005508   \n",
       "3455                                 13.998606   \n",
       "3818                                 15.981079   \n",
       "3928                                 15.976134   \n",
       "2056                                 21.020662   \n",
       "2545                                 20.994038   \n",
       "\n",
       "      secondary_cleaner.state.floatbank6_a_level  \n",
       "4052                                 -499.758430  \n",
       "1603                                 -499.285569  \n",
       "4003                                 -500.062543  \n",
       "3836                                 -499.877206  \n",
       "1088                                 -498.730209  \n",
       "3455                                 -499.835755  \n",
       "3818                                 -499.608890  \n",
       "3928                                 -500.508675  \n",
       "2056                                 -500.426535  \n",
       "2545                                 -498.671950  \n",
       "\n",
       "[10 rows x 53 columns]"
      ]
     },
     "execution_count": 6,
     "metadata": {},
     "output_type": "execute_result"
    }
   ],
   "source": [
    "#test set\n",
    "df_test.sample(10)"
   ]
  },
  {
   "cell_type": "code",
   "execution_count": 7,
   "metadata": {},
   "outputs": [
    {
     "name": "stdout",
     "output_type": "stream",
     "text": [
      "<class 'pandas.core.frame.DataFrame'>\n",
      "RangeIndex: 5290 entries, 0 to 5289\n",
      "Data columns (total 53 columns):\n",
      " #   Column                                      Non-Null Count  Dtype  \n",
      "---  ------                                      --------------  -----  \n",
      " 0   date                                        5290 non-null   object \n",
      " 1   primary_cleaner.input.sulfate               5286 non-null   float64\n",
      " 2   primary_cleaner.input.depressant            5285 non-null   float64\n",
      " 3   primary_cleaner.input.feed_size             5290 non-null   float64\n",
      " 4   primary_cleaner.input.xanthate              5286 non-null   float64\n",
      " 5   primary_cleaner.state.floatbank8_a_air      5290 non-null   float64\n",
      " 6   primary_cleaner.state.floatbank8_a_level    5290 non-null   float64\n",
      " 7   primary_cleaner.state.floatbank8_b_air      5290 non-null   float64\n",
      " 8   primary_cleaner.state.floatbank8_b_level    5290 non-null   float64\n",
      " 9   primary_cleaner.state.floatbank8_c_air      5290 non-null   float64\n",
      " 10  primary_cleaner.state.floatbank8_c_level    5290 non-null   float64\n",
      " 11  primary_cleaner.state.floatbank8_d_air      5290 non-null   float64\n",
      " 12  primary_cleaner.state.floatbank8_d_level    5290 non-null   float64\n",
      " 13  rougher.input.feed_ag                       5290 non-null   float64\n",
      " 14  rougher.input.feed_pb                       5290 non-null   float64\n",
      " 15  rougher.input.feed_rate                     5287 non-null   float64\n",
      " 16  rougher.input.feed_size                     5289 non-null   float64\n",
      " 17  rougher.input.feed_sol                      5269 non-null   float64\n",
      " 18  rougher.input.feed_au                       5290 non-null   float64\n",
      " 19  rougher.input.floatbank10_sulfate           5285 non-null   float64\n",
      " 20  rougher.input.floatbank10_xanthate          5290 non-null   float64\n",
      " 21  rougher.input.floatbank11_sulfate           5282 non-null   float64\n",
      " 22  rougher.input.floatbank11_xanthate          5265 non-null   float64\n",
      " 23  rougher.state.floatbank10_a_air             5290 non-null   float64\n",
      " 24  rougher.state.floatbank10_a_level           5290 non-null   float64\n",
      " 25  rougher.state.floatbank10_b_air             5290 non-null   float64\n",
      " 26  rougher.state.floatbank10_b_level           5290 non-null   float64\n",
      " 27  rougher.state.floatbank10_c_air             5290 non-null   float64\n",
      " 28  rougher.state.floatbank10_c_level           5290 non-null   float64\n",
      " 29  rougher.state.floatbank10_d_air             5290 non-null   float64\n",
      " 30  rougher.state.floatbank10_d_level           5290 non-null   float64\n",
      " 31  rougher.state.floatbank10_e_air             5290 non-null   float64\n",
      " 32  rougher.state.floatbank10_e_level           5290 non-null   float64\n",
      " 33  rougher.state.floatbank10_f_air             5290 non-null   float64\n",
      " 34  rougher.state.floatbank10_f_level           5290 non-null   float64\n",
      " 35  secondary_cleaner.state.floatbank2_a_air    5287 non-null   float64\n",
      " 36  secondary_cleaner.state.floatbank2_a_level  5290 non-null   float64\n",
      " 37  secondary_cleaner.state.floatbank2_b_air    5288 non-null   float64\n",
      " 38  secondary_cleaner.state.floatbank2_b_level  5290 non-null   float64\n",
      " 39  secondary_cleaner.state.floatbank3_a_air    5281 non-null   float64\n",
      " 40  secondary_cleaner.state.floatbank3_a_level  5290 non-null   float64\n",
      " 41  secondary_cleaner.state.floatbank3_b_air    5290 non-null   float64\n",
      " 42  secondary_cleaner.state.floatbank3_b_level  5290 non-null   float64\n",
      " 43  secondary_cleaner.state.floatbank4_a_air    5290 non-null   float64\n",
      " 44  secondary_cleaner.state.floatbank4_a_level  5290 non-null   float64\n",
      " 45  secondary_cleaner.state.floatbank4_b_air    5290 non-null   float64\n",
      " 46  secondary_cleaner.state.floatbank4_b_level  5290 non-null   float64\n",
      " 47  secondary_cleaner.state.floatbank5_a_air    5290 non-null   float64\n",
      " 48  secondary_cleaner.state.floatbank5_a_level  5290 non-null   float64\n",
      " 49  secondary_cleaner.state.floatbank5_b_air    5290 non-null   float64\n",
      " 50  secondary_cleaner.state.floatbank5_b_level  5290 non-null   float64\n",
      " 51  secondary_cleaner.state.floatbank6_a_air    5290 non-null   float64\n",
      " 52  secondary_cleaner.state.floatbank6_a_level  5290 non-null   float64\n",
      "dtypes: float64(52), object(1)\n",
      "memory usage: 2.1+ MB\n"
     ]
    }
   ],
   "source": [
    "#test set\n",
    "df_test.info()"
   ]
  },
  {
   "cell_type": "code",
   "execution_count": 8,
   "metadata": {},
   "outputs": [
    {
     "name": "stdout",
     "output_type": "stream",
     "text": [
      "Rows, columns in the test set: (5290, 53)\n",
      "The number of gaps in the test sample: 0\n"
     ]
    }
   ],
   "source": [
    "print('Rows, columns in the test set:', df_test.shape)\n",
    "print('The number of gaps in the test sample:', df_test.duplicated().sum())"
   ]
  },
  {
   "cell_type": "markdown",
   "metadata": {},
   "source": [
    "The test sample has 5290 rows and 53 columns. There are gaps in some columns, there are no duplicates in the test dataset. All features, except for the date column, have the data type `float64`.\n",
    "\n",
    "Also, there are fewer columns in the test sample, because some parameters are not available because they are measured and/or calculated much later. Because of this, the test sample lacks some features that may be in the training one. Also, there are no target features in the test set."
   ]
  },
  {
   "cell_type": "code",
   "execution_count": 9,
   "metadata": {},
   "outputs": [
    {
     "data": {
      "text/html": [
       "<div>\n",
       "<style scoped>\n",
       "    .dataframe tbody tr th:only-of-type {\n",
       "        vertical-align: middle;\n",
       "    }\n",
       "\n",
       "    .dataframe tbody tr th {\n",
       "        vertical-align: top;\n",
       "    }\n",
       "\n",
       "    .dataframe thead th {\n",
       "        text-align: right;\n",
       "    }\n",
       "</style>\n",
       "<table border=\"1\" class=\"dataframe\">\n",
       "  <thead>\n",
       "    <tr style=\"text-align: right;\">\n",
       "      <th></th>\n",
       "      <th>date</th>\n",
       "      <th>final.output.concentrate_ag</th>\n",
       "      <th>final.output.concentrate_pb</th>\n",
       "      <th>final.output.concentrate_sol</th>\n",
       "      <th>final.output.concentrate_au</th>\n",
       "      <th>final.output.recovery</th>\n",
       "      <th>final.output.tail_ag</th>\n",
       "      <th>final.output.tail_pb</th>\n",
       "      <th>final.output.tail_sol</th>\n",
       "      <th>final.output.tail_au</th>\n",
       "      <th>...</th>\n",
       "      <th>secondary_cleaner.state.floatbank4_a_air</th>\n",
       "      <th>secondary_cleaner.state.floatbank4_a_level</th>\n",
       "      <th>secondary_cleaner.state.floatbank4_b_air</th>\n",
       "      <th>secondary_cleaner.state.floatbank4_b_level</th>\n",
       "      <th>secondary_cleaner.state.floatbank5_a_air</th>\n",
       "      <th>secondary_cleaner.state.floatbank5_a_level</th>\n",
       "      <th>secondary_cleaner.state.floatbank5_b_air</th>\n",
       "      <th>secondary_cleaner.state.floatbank5_b_level</th>\n",
       "      <th>secondary_cleaner.state.floatbank6_a_air</th>\n",
       "      <th>secondary_cleaner.state.floatbank6_a_level</th>\n",
       "    </tr>\n",
       "  </thead>\n",
       "  <tbody>\n",
       "    <tr>\n",
       "      <th>12531</th>\n",
       "      <td>2017-09-10 21:59:59</td>\n",
       "      <td>3.777672</td>\n",
       "      <td>11.216129</td>\n",
       "      <td>9.018074</td>\n",
       "      <td>45.652966</td>\n",
       "      <td>66.801943</td>\n",
       "      <td>6.254362</td>\n",
       "      <td>3.507853</td>\n",
       "      <td>12.510260</td>\n",
       "      <td>2.473804</td>\n",
       "      <td>...</td>\n",
       "      <td>13.005513</td>\n",
       "      <td>-500.723393</td>\n",
       "      <td>9.988733</td>\n",
       "      <td>-400.325717</td>\n",
       "      <td>12.040111</td>\n",
       "      <td>-501.153851</td>\n",
       "      <td>10.003145</td>\n",
       "      <td>-500.328300</td>\n",
       "      <td>12.992106</td>\n",
       "      <td>-501.320836</td>\n",
       "    </tr>\n",
       "    <tr>\n",
       "      <th>10404</th>\n",
       "      <td>2017-06-05 14:59:59</td>\n",
       "      <td>4.043866</td>\n",
       "      <td>10.827329</td>\n",
       "      <td>7.970562</td>\n",
       "      <td>46.098884</td>\n",
       "      <td>58.249341</td>\n",
       "      <td>8.755297</td>\n",
       "      <td>3.895361</td>\n",
       "      <td>9.943779</td>\n",
       "      <td>3.904728</td>\n",
       "      <td>...</td>\n",
       "      <td>15.038197</td>\n",
       "      <td>-501.476327</td>\n",
       "      <td>10.062347</td>\n",
       "      <td>-380.538255</td>\n",
       "      <td>14.991715</td>\n",
       "      <td>-500.061799</td>\n",
       "      <td>10.015020</td>\n",
       "      <td>-499.996819</td>\n",
       "      <td>14.999666</td>\n",
       "      <td>-501.105637</td>\n",
       "    </tr>\n",
       "    <tr>\n",
       "      <th>17424</th>\n",
       "      <td>2018-05-09 03:59:59</td>\n",
       "      <td>6.232963</td>\n",
       "      <td>5.986693</td>\n",
       "      <td>8.146103</td>\n",
       "      <td>48.471262</td>\n",
       "      <td>65.036847</td>\n",
       "      <td>6.938775</td>\n",
       "      <td>NaN</td>\n",
       "      <td>11.662271</td>\n",
       "      <td>0.635702</td>\n",
       "      <td>...</td>\n",
       "      <td>29.965665</td>\n",
       "      <td>-498.846511</td>\n",
       "      <td>19.953706</td>\n",
       "      <td>-499.235253</td>\n",
       "      <td>24.988497</td>\n",
       "      <td>-498.844677</td>\n",
       "      <td>23.007752</td>\n",
       "      <td>-499.870546</td>\n",
       "      <td>24.992695</td>\n",
       "      <td>-498.830091</td>\n",
       "    </tr>\n",
       "    <tr>\n",
       "      <th>12223</th>\n",
       "      <td>2017-08-24 11:59:59</td>\n",
       "      <td>3.292886</td>\n",
       "      <td>11.047340</td>\n",
       "      <td>8.667386</td>\n",
       "      <td>47.322161</td>\n",
       "      <td>61.268792</td>\n",
       "      <td>6.130815</td>\n",
       "      <td>3.359307</td>\n",
       "      <td>13.346533</td>\n",
       "      <td>2.758989</td>\n",
       "      <td>...</td>\n",
       "      <td>14.530339</td>\n",
       "      <td>-500.114349</td>\n",
       "      <td>10.957434</td>\n",
       "      <td>-400.577760</td>\n",
       "      <td>13.982984</td>\n",
       "      <td>-499.958997</td>\n",
       "      <td>10.979061</td>\n",
       "      <td>-499.808171</td>\n",
       "      <td>15.003201</td>\n",
       "      <td>-499.908845</td>\n",
       "    </tr>\n",
       "    <tr>\n",
       "      <th>17794</th>\n",
       "      <td>2018-05-27 14:59:59</td>\n",
       "      <td>5.308093</td>\n",
       "      <td>8.153463</td>\n",
       "      <td>7.706759</td>\n",
       "      <td>45.611482</td>\n",
       "      <td>69.142663</td>\n",
       "      <td>10.901165</td>\n",
       "      <td>1.720957</td>\n",
       "      <td>11.227634</td>\n",
       "      <td>2.588476</td>\n",
       "      <td>...</td>\n",
       "      <td>30.050913</td>\n",
       "      <td>-500.289927</td>\n",
       "      <td>20.040544</td>\n",
       "      <td>-500.917722</td>\n",
       "      <td>17.957996</td>\n",
       "      <td>-499.892027</td>\n",
       "      <td>13.991066</td>\n",
       "      <td>-499.567960</td>\n",
       "      <td>13.984557</td>\n",
       "      <td>-499.447314</td>\n",
       "    </tr>\n",
       "    <tr>\n",
       "      <th>5606</th>\n",
       "      <td>2016-10-19 14:59:59</td>\n",
       "      <td>5.920312</td>\n",
       "      <td>9.493453</td>\n",
       "      <td>10.558988</td>\n",
       "      <td>45.753045</td>\n",
       "      <td>68.067256</td>\n",
       "      <td>10.483837</td>\n",
       "      <td>2.735762</td>\n",
       "      <td>9.243042</td>\n",
       "      <td>3.888944</td>\n",
       "      <td>...</td>\n",
       "      <td>20.002724</td>\n",
       "      <td>-500.319794</td>\n",
       "      <td>16.872004</td>\n",
       "      <td>-499.504803</td>\n",
       "      <td>7.740364</td>\n",
       "      <td>-500.214034</td>\n",
       "      <td>13.965547</td>\n",
       "      <td>-500.136920</td>\n",
       "      <td>24.975138</td>\n",
       "      <td>-500.010853</td>\n",
       "    </tr>\n",
       "    <tr>\n",
       "      <th>1520</th>\n",
       "      <td>2016-03-25 01:00:00</td>\n",
       "      <td>4.721692</td>\n",
       "      <td>9.492105</td>\n",
       "      <td>1.554662</td>\n",
       "      <td>47.300603</td>\n",
       "      <td>60.030546</td>\n",
       "      <td>10.962125</td>\n",
       "      <td>1.581000</td>\n",
       "      <td>15.561504</td>\n",
       "      <td>2.849966</td>\n",
       "      <td>...</td>\n",
       "      <td>11.941252</td>\n",
       "      <td>-500.913714</td>\n",
       "      <td>11.955028</td>\n",
       "      <td>-500.093786</td>\n",
       "      <td>12.044271</td>\n",
       "      <td>-500.233996</td>\n",
       "      <td>10.053465</td>\n",
       "      <td>-500.078801</td>\n",
       "      <td>19.983221</td>\n",
       "      <td>-500.548953</td>\n",
       "    </tr>\n",
       "    <tr>\n",
       "      <th>12318</th>\n",
       "      <td>2017-08-29 00:59:59</td>\n",
       "      <td>3.236922</td>\n",
       "      <td>11.349650</td>\n",
       "      <td>8.400407</td>\n",
       "      <td>46.931363</td>\n",
       "      <td>53.932494</td>\n",
       "      <td>5.358956</td>\n",
       "      <td>3.843407</td>\n",
       "      <td>13.891215</td>\n",
       "      <td>3.554395</td>\n",
       "      <td>...</td>\n",
       "      <td>14.484383</td>\n",
       "      <td>-498.844376</td>\n",
       "      <td>10.978127</td>\n",
       "      <td>-399.540251</td>\n",
       "      <td>14.004149</td>\n",
       "      <td>-498.656048</td>\n",
       "      <td>11.021210</td>\n",
       "      <td>-499.848257</td>\n",
       "      <td>15.006959</td>\n",
       "      <td>-499.953883</td>\n",
       "    </tr>\n",
       "    <tr>\n",
       "      <th>11963</th>\n",
       "      <td>2017-08-13 02:59:59</td>\n",
       "      <td>4.178409</td>\n",
       "      <td>11.787611</td>\n",
       "      <td>6.106826</td>\n",
       "      <td>46.089479</td>\n",
       "      <td>61.327425</td>\n",
       "      <td>6.930655</td>\n",
       "      <td>2.773742</td>\n",
       "      <td>10.029802</td>\n",
       "      <td>2.290166</td>\n",
       "      <td>...</td>\n",
       "      <td>14.514409</td>\n",
       "      <td>-499.399063</td>\n",
       "      <td>10.934502</td>\n",
       "      <td>-400.101302</td>\n",
       "      <td>13.953986</td>\n",
       "      <td>-502.467885</td>\n",
       "      <td>11.027579</td>\n",
       "      <td>-500.732192</td>\n",
       "      <td>15.031651</td>\n",
       "      <td>-499.837570</td>\n",
       "    </tr>\n",
       "    <tr>\n",
       "      <th>16489</th>\n",
       "      <td>2018-03-24 03:59:59</td>\n",
       "      <td>4.798752</td>\n",
       "      <td>12.106684</td>\n",
       "      <td>7.003147</td>\n",
       "      <td>44.557762</td>\n",
       "      <td>77.614812</td>\n",
       "      <td>8.671922</td>\n",
       "      <td>2.120878</td>\n",
       "      <td>9.192446</td>\n",
       "      <td>2.033508</td>\n",
       "      <td>...</td>\n",
       "      <td>23.031155</td>\n",
       "      <td>-500.506670</td>\n",
       "      <td>14.955128</td>\n",
       "      <td>-499.614551</td>\n",
       "      <td>30.010790</td>\n",
       "      <td>-500.233109</td>\n",
       "      <td>15.015079</td>\n",
       "      <td>-499.767163</td>\n",
       "      <td>13.023883</td>\n",
       "      <td>-500.603166</td>\n",
       "    </tr>\n",
       "  </tbody>\n",
       "</table>\n",
       "<p>10 rows × 87 columns</p>\n",
       "</div>"
      ],
      "text/plain": [
       "                      date  final.output.concentrate_ag  \\\n",
       "12531  2017-09-10 21:59:59                     3.777672   \n",
       "10404  2017-06-05 14:59:59                     4.043866   \n",
       "17424  2018-05-09 03:59:59                     6.232963   \n",
       "12223  2017-08-24 11:59:59                     3.292886   \n",
       "17794  2018-05-27 14:59:59                     5.308093   \n",
       "5606   2016-10-19 14:59:59                     5.920312   \n",
       "1520   2016-03-25 01:00:00                     4.721692   \n",
       "12318  2017-08-29 00:59:59                     3.236922   \n",
       "11963  2017-08-13 02:59:59                     4.178409   \n",
       "16489  2018-03-24 03:59:59                     4.798752   \n",
       "\n",
       "       final.output.concentrate_pb  final.output.concentrate_sol  \\\n",
       "12531                    11.216129                      9.018074   \n",
       "10404                    10.827329                      7.970562   \n",
       "17424                     5.986693                      8.146103   \n",
       "12223                    11.047340                      8.667386   \n",
       "17794                     8.153463                      7.706759   \n",
       "5606                      9.493453                     10.558988   \n",
       "1520                      9.492105                      1.554662   \n",
       "12318                    11.349650                      8.400407   \n",
       "11963                    11.787611                      6.106826   \n",
       "16489                    12.106684                      7.003147   \n",
       "\n",
       "       final.output.concentrate_au  final.output.recovery  \\\n",
       "12531                    45.652966              66.801943   \n",
       "10404                    46.098884              58.249341   \n",
       "17424                    48.471262              65.036847   \n",
       "12223                    47.322161              61.268792   \n",
       "17794                    45.611482              69.142663   \n",
       "5606                     45.753045              68.067256   \n",
       "1520                     47.300603              60.030546   \n",
       "12318                    46.931363              53.932494   \n",
       "11963                    46.089479              61.327425   \n",
       "16489                    44.557762              77.614812   \n",
       "\n",
       "       final.output.tail_ag  final.output.tail_pb  final.output.tail_sol  \\\n",
       "12531              6.254362              3.507853              12.510260   \n",
       "10404              8.755297              3.895361               9.943779   \n",
       "17424              6.938775                   NaN              11.662271   \n",
       "12223              6.130815              3.359307              13.346533   \n",
       "17794             10.901165              1.720957              11.227634   \n",
       "5606              10.483837              2.735762               9.243042   \n",
       "1520              10.962125              1.581000              15.561504   \n",
       "12318              5.358956              3.843407              13.891215   \n",
       "11963              6.930655              2.773742              10.029802   \n",
       "16489              8.671922              2.120878               9.192446   \n",
       "\n",
       "       final.output.tail_au  ...  secondary_cleaner.state.floatbank4_a_air  \\\n",
       "12531              2.473804  ...                                 13.005513   \n",
       "10404              3.904728  ...                                 15.038197   \n",
       "17424              0.635702  ...                                 29.965665   \n",
       "12223              2.758989  ...                                 14.530339   \n",
       "17794              2.588476  ...                                 30.050913   \n",
       "5606               3.888944  ...                                 20.002724   \n",
       "1520               2.849966  ...                                 11.941252   \n",
       "12318              3.554395  ...                                 14.484383   \n",
       "11963              2.290166  ...                                 14.514409   \n",
       "16489              2.033508  ...                                 23.031155   \n",
       "\n",
       "       secondary_cleaner.state.floatbank4_a_level  \\\n",
       "12531                                 -500.723393   \n",
       "10404                                 -501.476327   \n",
       "17424                                 -498.846511   \n",
       "12223                                 -500.114349   \n",
       "17794                                 -500.289927   \n",
       "5606                                  -500.319794   \n",
       "1520                                  -500.913714   \n",
       "12318                                 -498.844376   \n",
       "11963                                 -499.399063   \n",
       "16489                                 -500.506670   \n",
       "\n",
       "       secondary_cleaner.state.floatbank4_b_air  \\\n",
       "12531                                  9.988733   \n",
       "10404                                 10.062347   \n",
       "17424                                 19.953706   \n",
       "12223                                 10.957434   \n",
       "17794                                 20.040544   \n",
       "5606                                  16.872004   \n",
       "1520                                  11.955028   \n",
       "12318                                 10.978127   \n",
       "11963                                 10.934502   \n",
       "16489                                 14.955128   \n",
       "\n",
       "       secondary_cleaner.state.floatbank4_b_level  \\\n",
       "12531                                 -400.325717   \n",
       "10404                                 -380.538255   \n",
       "17424                                 -499.235253   \n",
       "12223                                 -400.577760   \n",
       "17794                                 -500.917722   \n",
       "5606                                  -499.504803   \n",
       "1520                                  -500.093786   \n",
       "12318                                 -399.540251   \n",
       "11963                                 -400.101302   \n",
       "16489                                 -499.614551   \n",
       "\n",
       "       secondary_cleaner.state.floatbank5_a_air  \\\n",
       "12531                                 12.040111   \n",
       "10404                                 14.991715   \n",
       "17424                                 24.988497   \n",
       "12223                                 13.982984   \n",
       "17794                                 17.957996   \n",
       "5606                                   7.740364   \n",
       "1520                                  12.044271   \n",
       "12318                                 14.004149   \n",
       "11963                                 13.953986   \n",
       "16489                                 30.010790   \n",
       "\n",
       "       secondary_cleaner.state.floatbank5_a_level  \\\n",
       "12531                                 -501.153851   \n",
       "10404                                 -500.061799   \n",
       "17424                                 -498.844677   \n",
       "12223                                 -499.958997   \n",
       "17794                                 -499.892027   \n",
       "5606                                  -500.214034   \n",
       "1520                                  -500.233996   \n",
       "12318                                 -498.656048   \n",
       "11963                                 -502.467885   \n",
       "16489                                 -500.233109   \n",
       "\n",
       "       secondary_cleaner.state.floatbank5_b_air  \\\n",
       "12531                                 10.003145   \n",
       "10404                                 10.015020   \n",
       "17424                                 23.007752   \n",
       "12223                                 10.979061   \n",
       "17794                                 13.991066   \n",
       "5606                                  13.965547   \n",
       "1520                                  10.053465   \n",
       "12318                                 11.021210   \n",
       "11963                                 11.027579   \n",
       "16489                                 15.015079   \n",
       "\n",
       "       secondary_cleaner.state.floatbank5_b_level  \\\n",
       "12531                                 -500.328300   \n",
       "10404                                 -499.996819   \n",
       "17424                                 -499.870546   \n",
       "12223                                 -499.808171   \n",
       "17794                                 -499.567960   \n",
       "5606                                  -500.136920   \n",
       "1520                                  -500.078801   \n",
       "12318                                 -499.848257   \n",
       "11963                                 -500.732192   \n",
       "16489                                 -499.767163   \n",
       "\n",
       "       secondary_cleaner.state.floatbank6_a_air  \\\n",
       "12531                                 12.992106   \n",
       "10404                                 14.999666   \n",
       "17424                                 24.992695   \n",
       "12223                                 15.003201   \n",
       "17794                                 13.984557   \n",
       "5606                                  24.975138   \n",
       "1520                                  19.983221   \n",
       "12318                                 15.006959   \n",
       "11963                                 15.031651   \n",
       "16489                                 13.023883   \n",
       "\n",
       "       secondary_cleaner.state.floatbank6_a_level  \n",
       "12531                                 -501.320836  \n",
       "10404                                 -501.105637  \n",
       "17424                                 -498.830091  \n",
       "12223                                 -499.908845  \n",
       "17794                                 -499.447314  \n",
       "5606                                  -500.010853  \n",
       "1520                                  -500.548953  \n",
       "12318                                 -499.953883  \n",
       "11963                                 -499.837570  \n",
       "16489                                 -500.603166  \n",
       "\n",
       "[10 rows x 87 columns]"
      ]
     },
     "execution_count": 9,
     "metadata": {},
     "output_type": "execute_result"
    }
   ],
   "source": [
    "#initial data\n",
    "df_full.sample(10)"
   ]
  },
  {
   "cell_type": "code",
   "execution_count": 10,
   "metadata": {},
   "outputs": [
    {
     "name": "stdout",
     "output_type": "stream",
     "text": [
      "<class 'pandas.core.frame.DataFrame'>\n",
      "RangeIndex: 19439 entries, 0 to 19438\n",
      "Data columns (total 87 columns):\n",
      " #   Column                                              Non-Null Count  Dtype  \n",
      "---  ------                                              --------------  -----  \n",
      " 0   date                                                19439 non-null  object \n",
      " 1   final.output.concentrate_ag                         19438 non-null  float64\n",
      " 2   final.output.concentrate_pb                         19438 non-null  float64\n",
      " 3   final.output.concentrate_sol                        19228 non-null  float64\n",
      " 4   final.output.concentrate_au                         19439 non-null  float64\n",
      " 5   final.output.recovery                               19439 non-null  float64\n",
      " 6   final.output.tail_ag                                19438 non-null  float64\n",
      " 7   final.output.tail_pb                                19338 non-null  float64\n",
      " 8   final.output.tail_sol                               19433 non-null  float64\n",
      " 9   final.output.tail_au                                19439 non-null  float64\n",
      " 10  primary_cleaner.input.sulfate                       19415 non-null  float64\n",
      " 11  primary_cleaner.input.depressant                    19402 non-null  float64\n",
      " 12  primary_cleaner.input.feed_size                     19439 non-null  float64\n",
      " 13  primary_cleaner.input.xanthate                      19335 non-null  float64\n",
      " 14  primary_cleaner.output.concentrate_ag               19439 non-null  float64\n",
      " 15  primary_cleaner.output.concentrate_pb               19323 non-null  float64\n",
      " 16  primary_cleaner.output.concentrate_sol              19069 non-null  float64\n",
      " 17  primary_cleaner.output.concentrate_au               19439 non-null  float64\n",
      " 18  primary_cleaner.output.tail_ag                      19435 non-null  float64\n",
      " 19  primary_cleaner.output.tail_pb                      19418 non-null  float64\n",
      " 20  primary_cleaner.output.tail_sol                     19377 non-null  float64\n",
      " 21  primary_cleaner.output.tail_au                      19439 non-null  float64\n",
      " 22  primary_cleaner.state.floatbank8_a_air              19435 non-null  float64\n",
      " 23  primary_cleaner.state.floatbank8_a_level            19438 non-null  float64\n",
      " 24  primary_cleaner.state.floatbank8_b_air              19435 non-null  float64\n",
      " 25  primary_cleaner.state.floatbank8_b_level            19438 non-null  float64\n",
      " 26  primary_cleaner.state.floatbank8_c_air              19437 non-null  float64\n",
      " 27  primary_cleaner.state.floatbank8_c_level            19438 non-null  float64\n",
      " 28  primary_cleaner.state.floatbank8_d_air              19436 non-null  float64\n",
      " 29  primary_cleaner.state.floatbank8_d_level            19438 non-null  float64\n",
      " 30  rougher.calculation.sulfate_to_au_concentrate       19437 non-null  float64\n",
      " 31  rougher.calculation.floatbank10_sulfate_to_au_feed  19437 non-null  float64\n",
      " 32  rougher.calculation.floatbank11_sulfate_to_au_feed  19437 non-null  float64\n",
      " 33  rougher.calculation.au_pb_ratio                     19439 non-null  float64\n",
      " 34  rougher.input.feed_ag                               19439 non-null  float64\n",
      " 35  rougher.input.feed_pb                               19339 non-null  float64\n",
      " 36  rougher.input.feed_rate                             19428 non-null  float64\n",
      " 37  rougher.input.feed_size                             19294 non-null  float64\n",
      " 38  rougher.input.feed_sol                              19340 non-null  float64\n",
      " 39  rougher.input.feed_au                               19439 non-null  float64\n",
      " 40  rougher.input.floatbank10_sulfate                   19405 non-null  float64\n",
      " 41  rougher.input.floatbank10_xanthate                  19431 non-null  float64\n",
      " 42  rougher.input.floatbank11_sulfate                   19395 non-null  float64\n",
      " 43  rougher.input.floatbank11_xanthate                  18986 non-null  float64\n",
      " 44  rougher.output.concentrate_ag                       19439 non-null  float64\n",
      " 45  rougher.output.concentrate_pb                       19439 non-null  float64\n",
      " 46  rougher.output.concentrate_sol                      19416 non-null  float64\n",
      " 47  rougher.output.concentrate_au                       19439 non-null  float64\n",
      " 48  rougher.output.recovery                             19439 non-null  float64\n",
      " 49  rougher.output.tail_ag                              19438 non-null  float64\n",
      " 50  rougher.output.tail_pb                              19439 non-null  float64\n",
      " 51  rougher.output.tail_sol                             19439 non-null  float64\n",
      " 52  rougher.output.tail_au                              19439 non-null  float64\n",
      " 53  rougher.state.floatbank10_a_air                     19438 non-null  float64\n",
      " 54  rougher.state.floatbank10_a_level                   19438 non-null  float64\n",
      " 55  rougher.state.floatbank10_b_air                     19438 non-null  float64\n",
      " 56  rougher.state.floatbank10_b_level                   19438 non-null  float64\n",
      " 57  rougher.state.floatbank10_c_air                     19438 non-null  float64\n",
      " 58  rougher.state.floatbank10_c_level                   19438 non-null  float64\n",
      " 59  rougher.state.floatbank10_d_air                     19439 non-null  float64\n",
      " 60  rougher.state.floatbank10_d_level                   19439 non-null  float64\n",
      " 61  rougher.state.floatbank10_e_air                     19003 non-null  float64\n",
      " 62  rougher.state.floatbank10_e_level                   19439 non-null  float64\n",
      " 63  rougher.state.floatbank10_f_air                     19439 non-null  float64\n",
      " 64  rougher.state.floatbank10_f_level                   19439 non-null  float64\n",
      " 65  secondary_cleaner.output.tail_ag                    19437 non-null  float64\n",
      " 66  secondary_cleaner.output.tail_pb                    19427 non-null  float64\n",
      " 67  secondary_cleaner.output.tail_sol                   17691 non-null  float64\n",
      " 68  secondary_cleaner.output.tail_au                    19439 non-null  float64\n",
      " 69  secondary_cleaner.state.floatbank2_a_air            19219 non-null  float64\n",
      " 70  secondary_cleaner.state.floatbank2_a_level          19438 non-null  float64\n",
      " 71  secondary_cleaner.state.floatbank2_b_air            19416 non-null  float64\n",
      " 72  secondary_cleaner.state.floatbank2_b_level          19438 non-null  float64\n",
      " 73  secondary_cleaner.state.floatbank3_a_air            19426 non-null  float64\n",
      " 74  secondary_cleaner.state.floatbank3_a_level          19438 non-null  float64\n",
      " 75  secondary_cleaner.state.floatbank3_b_air            19438 non-null  float64\n",
      " 76  secondary_cleaner.state.floatbank3_b_level          19438 non-null  float64\n",
      " 77  secondary_cleaner.state.floatbank4_a_air            19433 non-null  float64\n",
      " 78  secondary_cleaner.state.floatbank4_a_level          19438 non-null  float64\n",
      " 79  secondary_cleaner.state.floatbank4_b_air            19438 non-null  float64\n",
      " 80  secondary_cleaner.state.floatbank4_b_level          19438 non-null  float64\n",
      " 81  secondary_cleaner.state.floatbank5_a_air            19438 non-null  float64\n",
      " 82  secondary_cleaner.state.floatbank5_a_level          19438 non-null  float64\n",
      " 83  secondary_cleaner.state.floatbank5_b_air            19438 non-null  float64\n",
      " 84  secondary_cleaner.state.floatbank5_b_level          19438 non-null  float64\n",
      " 85  secondary_cleaner.state.floatbank6_a_air            19437 non-null  float64\n",
      " 86  secondary_cleaner.state.floatbank6_a_level          19438 non-null  float64\n",
      "dtypes: float64(86), object(1)\n",
      "memory usage: 12.9+ MB\n"
     ]
    }
   ],
   "source": [
    "#initial data\n",
    "df_full.info()"
   ]
  },
  {
   "cell_type": "code",
   "execution_count": 11,
   "metadata": {},
   "outputs": [
    {
     "name": "stdout",
     "output_type": "stream",
     "text": [
      "Rows, columns in the original selection: (19439, 87)\n",
      "Number of gaps in the original sample: 0\n"
     ]
    }
   ],
   "source": [
    "print('Rows, columns in the original selection:', df_full.shape)\n",
    "print('Number of gaps in the original sample:', df_full.duplicated().sum())"
   ]
  },
  {
   "cell_type": "markdown",
   "metadata": {},
   "source": [
    "### Enrichment efficiency calculation"
   ]
  },
  {
   "cell_type": "markdown",
   "metadata": {},
   "source": [
    "Enrichment efficiency is calculated by the formula:\n",
    "\n",
    "$\n",
    "Recovery = \\frac{C*(F-T)}{F*(C-T)}*100%\n",
    "$\n",
    "\n",
    "where:\n",
    "- C is the proportion of gold in the concentrate after flotation/refining;\n",
    "- F is the proportion of gold in the raw material/concentrate before flotation/refining;\n",
    "- T is the proportion of gold in tailings after flotation/cleaning.\n",
    "\n",
    "Calculate recovery on the training set for the feature `rougher.output.recovery`"
   ]
  },
  {
   "cell_type": "code",
   "execution_count": 12,
   "metadata": {},
   "outputs": [],
   "source": [
    "C = df_train['rougher.output.concentrate_au']\n",
    "F = df_train['rougher.input.feed_au']\n",
    "T = df_train['rougher.output.tail_au']"
   ]
  },
  {
   "cell_type": "code",
   "execution_count": 13,
   "metadata": {},
   "outputs": [],
   "source": [
    "recovery = ((C*(F-T))/(F*(C-T)))*100\n",
    "mae = mean_absolute_error(df_train['rougher.output.recovery'], recovery)"
   ]
  },
  {
   "cell_type": "code",
   "execution_count": 14,
   "metadata": {
    "scrolled": true
   },
   "outputs": [
    {
     "name": "stdout",
     "output_type": "stream",
     "text": [
      "The MAE index is: 9.73512347450521e-15\n"
     ]
    }
   ],
   "source": [
    "print('The MAE index is:', mae)"
   ]
  },
  {
   "cell_type": "markdown",
   "metadata": {},
   "source": [
    "The MAE value is 9.73, which is a good result, which means that the enrichment efficiency is calculated correctly."
   ]
  },
  {
   "cell_type": "markdown",
   "metadata": {},
   "source": [
    "### Analysis of features not available in the test sample"
   ]
  },
  {
   "cell_type": "code",
   "execution_count": 15,
   "metadata": {},
   "outputs": [
    {
     "name": "stdout",
     "output_type": "stream",
     "text": [
      "final.output.concentrate_ag\n",
      "final.output.concentrate_pb\n",
      "final.output.concentrate_sol\n",
      "final.output.concentrate_au\n",
      "final.output.recovery\n",
      "final.output.tail_ag\n",
      "final.output.tail_pb\n",
      "final.output.tail_sol\n",
      "final.output.tail_au\n",
      "primary_cleaner.output.concentrate_ag\n",
      "primary_cleaner.output.concentrate_pb\n",
      "primary_cleaner.output.concentrate_sol\n",
      "primary_cleaner.output.concentrate_au\n",
      "primary_cleaner.output.tail_ag\n",
      "primary_cleaner.output.tail_pb\n",
      "primary_cleaner.output.tail_sol\n",
      "primary_cleaner.output.tail_au\n",
      "rougher.calculation.sulfate_to_au_concentrate\n",
      "rougher.calculation.floatbank10_sulfate_to_au_feed\n",
      "rougher.calculation.floatbank11_sulfate_to_au_feed\n",
      "rougher.calculation.au_pb_ratio\n",
      "rougher.output.concentrate_ag\n",
      "rougher.output.concentrate_pb\n",
      "rougher.output.concentrate_sol\n",
      "rougher.output.concentrate_au\n",
      "rougher.output.recovery\n",
      "rougher.output.tail_ag\n",
      "rougher.output.tail_pb\n",
      "rougher.output.tail_sol\n",
      "rougher.output.tail_au\n",
      "secondary_cleaner.output.tail_ag\n",
      "secondary_cleaner.output.tail_pb\n",
      "secondary_cleaner.output.tail_sol\n",
      "secondary_cleaner.output.tail_au\n"
     ]
    }
   ],
   "source": [
    "for column in list(df_train.columns):\n",
    "    if column not in list(df_test.columns):\n",
    "        print(column)"
   ]
  },
  {
   "cell_type": "markdown",
   "metadata": {},
   "source": [
    "In the test sample at all stages, there are no output parameters of the product `(output)`: metal concentration `(concentrate)` and final tailings `(tail)` for metals (Au, Ag, Pb) and salts (Sol). These data are not suitable for model training, as they appear during or after the measurement of the target features. Also in the test sample there are no calculated signs at the flotation stage - `calculation`.\n",
    "\n",
    "These columns must be removed from the training dataset, with the exception of the `final.output.recovery` and `rougher.output.recovery` columns, because they are targets."
   ]
  },
  {
   "cell_type": "markdown",
   "metadata": {},
   "source": [
    "### Data preprocessing"
   ]
  },
  {
   "cell_type": "markdown",
   "metadata": {},
   "source": [
    "Let's immediately remove the extra columns from the training sample and select the columns with the target features."
   ]
  },
  {
   "cell_type": "code",
   "execution_count": 16,
   "metadata": {},
   "outputs": [],
   "source": [
    "#save target features separately\n",
    "target_train = df_train[['final.output.recovery', 'rougher.output.recovery']]"
   ]
  },
  {
   "cell_type": "code",
   "execution_count": 17,
   "metadata": {},
   "outputs": [
    {
     "data": {
      "text/plain": [
       "(14149, 53)"
      ]
     },
     "execution_count": 17,
     "metadata": {},
     "output_type": "execute_result"
    }
   ],
   "source": [
    "#remove columns from the training set\n",
    "for column in list(df_train.columns):\n",
    "    if column not in list(df_test.columns):\n",
    "        df_train.drop(column, axis=1, inplace=True)\n",
    "        \n",
    "df_train.shape"
   ]
  },
  {
   "cell_type": "code",
   "execution_count": 18,
   "metadata": {},
   "outputs": [],
   "source": [
    "#add columns with target features to the training dataset again\n",
    "df_train = df_train.join(target_train)"
   ]
  },
  {
   "cell_type": "code",
   "execution_count": 19,
   "metadata": {},
   "outputs": [
    {
     "data": {
      "text/plain": [
       "(14149, 55)"
      ]
     },
     "execution_count": 19,
     "metadata": {},
     "output_type": "execute_result"
    }
   ],
   "source": [
    "df_train.shape"
   ]
  },
  {
   "cell_type": "markdown",
   "metadata": {},
   "source": [
    "Let's convert all date columns to `datetime` format."
   ]
  },
  {
   "cell_type": "code",
   "execution_count": 20,
   "metadata": {},
   "outputs": [],
   "source": [
    "df_train['date'] = pd.to_datetime(df_train['date'], format='%Y-%m-%d %H:%M:%S')\n",
    "df_test['date'] = pd.to_datetime(df_test['date'], format='%Y-%m-%d %H:%M:%S')\n",
    "df_full['date'] = pd.to_datetime(df_full['date'], format='%Y-%m-%d %H:%M:%S')"
   ]
  },
  {
   "cell_type": "code",
   "execution_count": 21,
   "metadata": {},
   "outputs": [],
   "source": [
    "# index our datasets by date\n",
    "df_train= df_train.set_index('date')\n",
    "df_test= df_test.set_index('date')\n",
    "df_full = df_full.set_index('date')"
   ]
  },
  {
   "cell_type": "markdown",
   "metadata": {},
   "source": [
    "Now let's replace gaps in datasets with data from adjacent rows."
   ]
  },
  {
   "cell_type": "code",
   "execution_count": 22,
   "metadata": {
    "scrolled": true
   },
   "outputs": [],
   "source": [
    "df_train = df_train.fillna(method='ffill')\n",
    "df_test = df_test.fillna(method='ffill')\n",
    "df_full = df_full.fillna(method='ffill')\n",
    "target_train = target_train.fillna(method='ffill')"
   ]
  },
  {
   "cell_type": "markdown",
   "metadata": {},
   "source": [
    "### Section Conclusion"
   ]
  },
  {
   "cell_type": "markdown",
   "metadata": {},
   "source": [
    "1. The training sample contains 14149 rows and 87 columns, some columns have gaps, there are no duplicates in the training dataset. All features except the date column have a float64 data type.\n",
    "2. There are 5290 rows and 53 columns in the test set. There are gaps in some columns, there are no duplicates in the test dataset. All features, except for the date column, have the data type `float64`. Also, there are fewer columns in the test sample, because some parameters are not available because they are measured and/or calculated much later. Because of this, the test set lacks some features that may be in the training set. Also, there are no target features in the test set.\n",
    "3. The enrichment efficiency in the training sample is calculated correctly, because the MAE index was 9.73, which is a good result and indicates the correctness of the calculations.\n",
    "4. In the test sample at all stages, there are no output parameters of the product (output): metal concentration (concentrate) and tailings (tail) for metals (Au, Ag, Pb) and salts (Sol). These data are not suitable for training the model, as they appear during or after the measurement of the target features. Also, in the test sample, there are no calculated signs at the flotation stage - calculation. The column data was removed from the training dataset, and the `final.output.recovery` and `rougher.output.recovery` columns were assigned as target features.\n",
    "5. When preprocessing:\n",
    "- date columns have been converted to `datetime` format;\n",
    "- Gaps in datasets have been replaced with data from adjacent rows."
   ]
  },
  {
   "cell_type": "markdown",
   "metadata": {},
   "source": [
    "## Data analysis"
   ]
  },
  {
   "cell_type": "markdown",
   "metadata": {},
   "source": [
    "### Let's see how the concentration of metals (Au, Ag, Pb) changes at different stages of purification."
   ]
  },
  {
   "cell_type": "markdown",
   "metadata": {},
   "source": [
    "Let's build histograms for the change in the concentration of each metal (gold, silver, lead) at all stages of purification:\n",
    "1. Feedstock;\n",
    "2. Flotation;\n",
    "3. Primary processing;\n",
    "4. Final concentrate."
   ]
  },
  {
   "cell_type": "code",
   "execution_count": 23,
   "metadata": {},
   "outputs": [],
   "source": [
    "#create constants with data on metals\n",
    "#gold\n",
    "AU = df_full[['rougher.input.feed_au', 'rougher.output.concentrate_au',\n",
    "              'primary_cleaner.output.concentrate_au', 'final.output.concentrate_au']]\n",
    "#silver\n",
    "AG = df_full[['rougher.input.feed_ag', 'rougher.output.concentrate_ag',\n",
    "              'primary_cleaner.output.concentrate_ag', 'final.output.concentrate_ag']]\n",
    "#lead\n",
    "PB = df_full[['rougher.input.feed_pb', 'rougher.output.concentrate_pb',\n",
    "              'primary_cleaner.output.concentrate_pb', 'final.output.concentrate_pb']]"
   ]
  },
  {
   "cell_type": "code",
   "execution_count": 24,
   "metadata": {},
   "outputs": [
    {
     "data": {
      "image/png": "[encoded data removed]",
      "text/plain": [
       "<Figure size 720x576 with 1 Axes>"
      ]
     },
     "metadata": {
      "needs_background": "light"
     },
     "output_type": "display_data"
    }
   ],
   "source": [
    "ax = sns.displot(AU, kind='kde', legend=False)\n",
    "plt.legend(labels = ['Feedstock', 'After flotation', 'Primary treatment', 'Final concentrate'])\n",
    "plt.title('Change in gold concentration at different stages of purification')\n",
    "ax.fig.set_figwidth(10)\n",
    "ax.fig.set_figheight(8)\n",
    "plt.show()"
   ]
  },
  {
   "cell_type": "markdown",
   "metadata": {},
   "source": [
    "As can be seen from the histogram, after passing through all stages of purification, the concentration of gold increases."
   ]
  },
  {
   "cell_type": "code",
   "execution_count": 25,
   "metadata": {},
   "outputs": [
    {
     "data": {
      "image/png": "[encoded data removed]",
      "text/plain": [
       "<Figure size 720x576 with 1 Axes>"
      ]
     },
     "metadata": {
      "needs_background": "light"
     },
     "output_type": "display_data"
    }
   ],
   "source": [
    "ax = sns.displot(AG, kind='kde', legend=False)\n",
    "plt.legend(labels = ['Feedstock', 'After flotation', 'Primary treatment', 'Final concentrate'])\n",
    "plt.title('Change in silver concentration at different stages of purification')\n",
    "ax.fig.set_figwidth(10)\n",
    "ax.fig.set_figheight(8)\n",
    "plt.show()"
   ]
  },
  {
   "cell_type": "markdown",
   "metadata": {},
   "source": [
    "The concentration of silver after treatment, on the contrary, decreased."
   ]
  },
  {
   "cell_type": "code",
   "execution_count": 26,
   "metadata": {},
   "outputs": [
    {
     "data": {
      "image/png": "[encoded data removed]",
      "text/plain": [
       "<Figure size 720x576 with 1 Axes>"
      ]
     },
     "metadata": {
      "needs_background": "light"
     },
     "output_type": "display_data"
    }
   ],
   "source": [
    "ax = sns.displot(PB, kind='kde', legend=False)\n",
    "plt.legend(labels = ['Feedstock', 'After flotation', 'Primary treatment', 'Final concentrate'])\n",
    "plt.title('Change in lead concentration at different stages of purification')\n",
    "ax.fig.set_figwidth(10)\n",
    "ax.fig.set_figheight(8)\n",
    "plt.show()"
   ]
  },
  {
   "cell_type": "markdown",
   "metadata": {},
   "source": [
    "Lead shows the same trend as gold and its concentration has increased after purification."
   ]
  },
  {
   "cell_type": "markdown",
   "metadata": {},
   "source": [
    "### Let us compare the size distributions of raw material granules on the training and test samples."
   ]
  },
  {
   "cell_type": "code",
   "execution_count": 27,
   "metadata": {},
   "outputs": [
    {
     "data": {
      "image/png": "[encoded data removed]",
      "text/plain": [
       "<Figure size 864x576 with 1 Axes>"
      ]
     },
     "metadata": {
      "needs_background": "light"
     },
     "output_type": "display_data"
    }
   ],
   "source": [
    "plt.figure(figsize=(12,8))\n",
    "sns.distplot(df_test['rougher.input.feed_size'], label='Test sample')\n",
    "sns.distplot(df_train['rougher.input.feed_size'], label='Training sample')\n",
    "plt.legend()\n",
    "plt.show()"
   ]
  },
  {
   "cell_type": "markdown",
   "metadata": {},
   "source": [
    "The distributions on the training and test sets are similar, so the model will work correctly."
   ]
  },
  {
   "cell_type": "markdown",
   "metadata": {},
   "source": [
    "### The study of the total concentration of all substances at different stages."
   ]
  },
  {
   "cell_type": "code",
   "execution_count": 28,
   "metadata": {},
   "outputs": [],
   "source": [
    "#raw material\n",
    "sum_feed = (df_full['rougher.input.feed_ag'] +\n",
    "            df_full['rougher.input.feed_pb'] +\n",
    "            df_full['rougher.input.feed_sol'] +\n",
    "            df_full['rougher.input.feed_au'])"
   ]
  },
  {
   "cell_type": "code",
   "execution_count": 29,
   "metadata": {},
   "outputs": [],
   "source": [
    "#flotation\n",
    "sum_rougher = (df_full['rougher.output.concentrate_ag'] + \n",
    "               df_full['rougher.output.concentrate_pb'] + \n",
    "               df_full['rougher.output.concentrate_sol'] + \n",
    "               df_full['rougher.output.concentrate_au'])"
   ]
  },
  {
   "cell_type": "code",
   "execution_count": 30,
   "metadata": {},
   "outputs": [],
   "source": [
    "#primary cleaning\n",
    "sum_primary = (df_full['primary_cleaner.output.concentrate_ag'] + \n",
    "               df_full['primary_cleaner.output.concentrate_pb'] + \n",
    "               df_full['primary_cleaner.output.concentrate_sol'] + \n",
    "               df_full['primary_cleaner.output.concentrate_au'])"
   ]
  },
  {
   "cell_type": "code",
   "execution_count": 31,
   "metadata": {},
   "outputs": [],
   "source": [
    "#final concentration\n",
    "sum_final = (df_full['final.output.concentrate_ag'] + \n",
    "             df_full['final.output.concentrate_pb'] + \n",
    "             df_full['final.output.concentrate_sol'] + \n",
    "             df_full['final.output.concentrate_au'])"
   ]
  },
  {
   "cell_type": "code",
   "execution_count": 32,
   "metadata": {},
   "outputs": [
    {
     "data": {
      "image/png": "[encoded data removed]",
      "text/plain": [
       "<Figure size 1008x576 with 1 Axes>"
      ]
     },
     "metadata": {
      "needs_background": "light"
     },
     "output_type": "display_data"
    }
   ],
   "source": [
    "plt.figure(figsize=(14,8))\n",
    "sns.distplot(sum_feed, label='Feedstock')\n",
    "sns.distplot(sum_rougher, label='Flotation')\n",
    "sns.distplot(sum_primary, label='Primary cleaning')\n",
    "sns.distplot(sum_final, label='Final Concentration')\n",
    "plt.legend()\n",
    "plt.show()"
   ]
  },
  {
   "cell_type": "markdown",
   "metadata": {},
   "source": [
    "The histogram shows that in the raw material and crude concentrate the concentration of all substances practically does not change, but in the final concentrate the concentration of all substances almost doubles."
   ]
  },
  {
   "cell_type": "markdown",
   "metadata": {},
   "source": [
    "The histogram also shows emissions near zero at the stage of flotation, primary purification and final concentration, but these data are not in the training and test samples, and there are no such emissions in the feedstock, so these emissions will not affect our models in any way. Let's check it out just in case."
   ]
  },
  {
   "cell_type": "code",
   "execution_count": 33,
   "metadata": {},
   "outputs": [],
   "source": [
    "train_feed = (df_train['rougher.input.feed_ag'] +\n",
    "              df_train['rougher.input.feed_pb'] +\n",
    "              df_train['rougher.input.feed_sol'] +\n",
    "              df_train['rougher.input.feed_au'])"
   ]
  },
  {
   "cell_type": "code",
   "execution_count": 34,
   "metadata": {},
   "outputs": [
    {
     "data": {
      "image/png": "[encoded data removed]",
      "text/plain": [
       "<Figure size 864x576 with 1 Axes>"
      ]
     },
     "metadata": {
      "needs_background": "light"
     },
     "output_type": "display_data"
    }
   ],
   "source": [
    "plt.figure(figsize=(12,8))\n",
    "sns.distplot(train_feed, label='Raw material in the training sample')\n",
    "plt.legend()\n",
    "plt.show()"
   ]
  },
  {
   "cell_type": "markdown",
   "metadata": {},
   "source": [
    "When checking, it turned out that there are small emissions near zero, so we will filter them out."
   ]
  },
  {
   "cell_type": "code",
   "execution_count": 35,
   "metadata": {},
   "outputs": [],
   "source": [
    "df_train = df_train[(df_train['rougher.input.feed_ag']>1)\n",
    "                    &(df_train['rougher.input.feed_pb']>1)\n",
    "                    &(df_train['rougher.input.feed_sol']>1)\n",
    "                    &(df_train['rougher.input.feed_au']>1)]"
   ]
  },
  {
   "cell_type": "code",
   "execution_count": 36,
   "metadata": {},
   "outputs": [],
   "source": [
    "test_feed = (df_test['rougher.input.feed_ag'] +\n",
    "             df_test['rougher.input.feed_pb'] +\n",
    "             df_test['rougher.input.feed_sol'] +\n",
    "             df_test['rougher.input.feed_au'])"
   ]
  },
  {
   "cell_type": "code",
   "execution_count": 37,
   "metadata": {},
   "outputs": [
    {
     "data": {
      "image/png": "[encoded data removed]",
      "text/plain": [
       "<Figure size 864x576 with 1 Axes>"
      ]
     },
     "metadata": {
      "needs_background": "light"
     },
     "output_type": "display_data"
    }
   ],
   "source": [
    "plt.figure(figsize=(12,8))\n",
    "sns.distplot(test_feed, label='Feedstock in the test sample')\n",
    "plt.legend()\n",
    "plt.show()"
   ]
  },
  {
   "cell_type": "markdown",
   "metadata": {},
   "source": [
    "There are no outliers in the test sample, so we leave it as it is."
   ]
  },
  {
   "cell_type": "markdown",
   "metadata": {},
   "source": [
    "### Section Conclusion"
   ]
  },
  {
   "cell_type": "markdown",
   "metadata": {},
   "source": [
    "After analyzing the data, the following conclusions were drawn:\n",
    "1. After passing through all stages of purification, the concentration of gold and lead increases, while the concentration of silver, on the contrary, decreases.\n",
    "2. The distribution of raw material granule sizes on the training and test sets is similar, so the model will work correctly.\n",
    "3. When studying the total concentration of all substances at different stages: in raw materials and rough concentrate, it practically does not change, but in the final concentrate, the concentration of all substances almost doubles."
   ]
  },
  {
   "cell_type": "markdown",
   "metadata": {},
   "source": [
    "## Model"
   ]
  },
  {
   "cell_type": "markdown",
   "metadata": {},
   "source": [
    "### sMAPE"
   ]
  },
  {
   "cell_type": "markdown",
   "metadata": {},
   "source": [
    "To solve the problem, we introduce a new quality metric - <b>sMAPE</b> (Symmetric Mean Absolute Percentage Error).\n",
    "It is similar to MAE, but is expressed not in absolute terms, but in relative terms. Why symmetrical? It equally takes into account the scale of both the target feature and the prediction.\n",
    "\n",
    "For regression problems, the smaller the value of the metric, the better."
   ]
  },
  {
   "cell_type": "code",
   "execution_count": 38,
   "metadata": {},
   "outputs": [],
   "source": [
    "#create a function to calculate sMAPE\n",
    "def smape (target, predictions):\n",
    "    return 1/len(target)*sum(abs(target-predictions)/((abs(target)+abs(predictions))/2))*100"
   ]
  },
  {
   "cell_type": "code",
   "execution_count": 39,
   "metadata": {},
   "outputs": [],
   "source": [
    "#create a new metric to evaluate the quality of the model\n",
    "smape_score = make_scorer(smape)"
   ]
  },
  {
   "cell_type": "code",
   "execution_count": 40,
   "metadata": {},
   "outputs": [],
   "source": [
    "def total_smape (smape_rougher, smape_final):\n",
    "    return 0.25 * smape_rougher + 0.75 * smape_final"
   ]
  },
  {
   "cell_type": "code",
   "execution_count": 41,
   "metadata": {},
   "outputs": [],
   "source": [
    "#create samples with features and target features (separately for flotation and separately for the final concentrate)\n",
    "features_train = df_train.drop(['rougher.output.recovery', 'final.output.recovery'], axis = 1) #common features for two target features\n",
    "target_rougher_train = df_train['rougher.output.recovery'] #target feature for the flotation stage\n",
    "target_final_train = df_train['final.output.recovery'] #target trait for final concentration"
   ]
  },
  {
   "cell_type": "markdown",
   "metadata": {},
   "source": [
    "#### Decision tree"
   ]
  },
  {
   "cell_type": "code",
   "execution_count": 42,
   "metadata": {},
   "outputs": [],
   "source": [
    "def tree(features, target):\n",
    "    best_tree = None\n",
    "    best_depth = 0\n",
    "    best_smape = 20\n",
    "    for depth in range(1, 10):\n",
    "        model = DecisionTreeRegressor(random_state=12345, max_depth=depth)\n",
    "        model.fit(features, target)\n",
    "        smape_score_tree = cross_val_score(model,\n",
    "                                           features,\n",
    "                                           target,\n",
    "                                           cv=5,\n",
    "                                           scoring=smape_score,\n",
    "                                           n_jobs=-1).mean()\n",
    "        if smape_score_tree < best_smape:\n",
    "            best_tree = model\n",
    "            best_smape = smape_score_tree\n",
    "            best_depth = depth\n",
    "    print('Best sMAPE result: {} with max_depth {}'\n",
    "      .format(best_smape, best_depth))\n",
    "    return best_tree, best_smape"
   ]
  },
  {
   "cell_type": "code",
   "execution_count": 43,
   "metadata": {},
   "outputs": [
    {
     "name": "stdout",
     "output_type": "stream",
     "text": [
      "Best sMAPE result: 11.531455970056712 with max_depth 4\n"
     ]
    }
   ],
   "source": [
    "#look at the results of the decision tree model for the flotation step\n",
    "tree_rougher, tree_rougher_smape = tree(features_train, target_rougher_train)"
   ]
  },
  {
   "cell_type": "code",
   "execution_count": 44,
   "metadata": {},
   "outputs": [
    {
     "name": "stdout",
     "output_type": "stream",
     "text": [
      "Best sMAPE result: 10.312148747789308 with max_depth 2\n"
     ]
    }
   ],
   "source": [
    "#look at the results of the decision tree model at the final stage\n",
    "tree_final, tree_final_smape = tree(features_train, target_final_train)"
   ]
  },
  {
   "cell_type": "code",
   "execution_count": 45,
   "metadata": {},
   "outputs": [
    {
     "name": "stdout",
     "output_type": "stream",
     "text": [
      "Final sMAPE for the decision tree: 10.61697555335616\n"
     ]
    }
   ],
   "source": [
    "#final sMAPE of the decision tree\n",
    "tree_total_smape = total_smape(tree_rougher_smape, tree_final_smape)\n",
    "print('Final sMAPE for the decision tree:', tree_total_smape)"
   ]
  },
  {
   "cell_type": "markdown",
   "metadata": {},
   "source": [
    "#### Random forest"
   ]
  },
  {
   "cell_type": "code",
   "execution_count": 46,
   "metadata": {},
   "outputs": [],
   "source": [
    "def forest(features, target):\n",
    "    best_forest = None\n",
    "    best_est = 0\n",
    "    best_depth = 0\n",
    "    best_smape = 20\n",
    "    for depth in range(1, 10):\n",
    "        for est in range(1,10):\n",
    "            model = RandomForestRegressor(random_state=12345, n_estimators=est, max_depth=depth)\n",
    "            model.fit(features, target)\n",
    "            smape_score_forest = cross_val_score(model,\n",
    "                                                 features,\n",
    "                                                 target,\n",
    "                                                 cv=5,\n",
    "                                                 scoring=smape_score,\n",
    "                                                 n_jobs=-1).mean()\n",
    "            if smape_score_forest < best_smape:\n",
    "                best_forest = model\n",
    "                best_smape = smape_score_forest\n",
    "                best_depth = depth\n",
    "                best_est = est\n",
    "    print('Best sMAPE result: {} with max_depth {} and n_estimators {}'\n",
    "      .format(best_smape, best_depth, best_est))\n",
    "    return (best_forest, best_smape)"
   ]
  },
  {
   "cell_type": "code",
   "execution_count": 47,
   "metadata": {},
   "outputs": [
    {
     "name": "stdout",
     "output_type": "stream",
     "text": [
      "Best sMAPE result: 10.901806523121152 with max_depth 5 and n_estimators 6\n"
     ]
    }
   ],
   "source": [
    "#look at the results of the random forest model for the flotation stage\n",
    "forest_rougher, forest_rougher_smape = forest(features_train, target_rougher_train)"
   ]
  },
  {
   "cell_type": "code",
   "execution_count": 48,
   "metadata": {},
   "outputs": [
    {
     "name": "stdout",
     "output_type": "stream",
     "text": [
      "Best sMAPE result: 10.021508844838745 with max_depth 5 and n_estimators 7\n"
     ]
    }
   ],
   "source": [
    "#look at the results of the random forest model at the final stage\n",
    "forest_final, forest_final_smape = forest(features_train, target_final_train)"
   ]
  },
  {
   "cell_type": "code",
   "execution_count": 49,
   "metadata": {},
   "outputs": [
    {
     "name": "stdout",
     "output_type": "stream",
     "text": [
      "Final sMAPE for Random Forest: 10.241583264409346\n"
     ]
    }
   ],
   "source": [
    "#final sMAPE by random forest\n",
    "forest_total_smape = total_smape(forest_rougher_smape, forest_final_smape)\n",
    "print('Final sMAPE for Random Forest:',forest_total_smape)"
   ]
  },
  {
   "cell_type": "markdown",
   "metadata": {},
   "source": [
    "#### Linear regression"
   ]
  },
  {
   "cell_type": "code",
   "execution_count": 50,
   "metadata": {},
   "outputs": [],
   "source": [
    "def reg_model(features, target):\n",
    "    regression_model = LinearRegression()\n",
    "    regression_model.fit(features, target)\n",
    "    smape_score_regression = cross_val_score(regression_model,\n",
    "                                             features,\n",
    "                                             target,\n",
    "                                             cv=5,\n",
    "                                             scoring=smape_score,\n",
    "                                             n_jobs=-1).mean()\n",
    "    print('Best sMAPE result:', smape_score_regression)\n",
    "    return (regression_model, smape_score_regression)"
   ]
  },
  {
   "cell_type": "code",
   "execution_count": 51,
   "metadata": {},
   "outputs": [
    {
     "name": "stdout",
     "output_type": "stream",
     "text": [
      "Best sMAPE result: 12.774081397480378\n"
     ]
    }
   ],
   "source": [
    "#look at the results of the linear regression model for the flotation stage\n",
    "regression_rougher, regression_rougher_smape = reg_model(features_train, target_rougher_train)"
   ]
  },
  {
   "cell_type": "code",
   "execution_count": 52,
   "metadata": {},
   "outputs": [
    {
     "name": "stdout",
     "output_type": "stream",
     "text": [
      "Best sMAPE result: 11.971313778991808\n"
     ]
    }
   ],
   "source": [
    "#look at the results of the linear regression model at the final stage\n",
    "regression_final, regression_final_smape = reg_model(features_train, target_final_train)"
   ]
  },
  {
   "cell_type": "code",
   "execution_count": 53,
   "metadata": {},
   "outputs": [
    {
     "name": "stdout",
     "output_type": "stream",
     "text": [
      "Final sMAPE for linear regression: 12.172005683613952\n"
     ]
    }
   ],
   "source": [
    "#final sMAPE by linear regression\n",
    "regression_total_smape = total_smape(regression_rougher_smape, regression_final_smape)\n",
    "print('Final sMAPE for linear regression:', regression_total_smape)"
   ]
  },
  {
   "cell_type": "markdown",
   "metadata": {},
   "source": [
    "The best result of the final sMAPE among the three models was demonstrated by the random forest with a score of 10.241."
   ]
  },
  {
   "cell_type": "markdown",
   "metadata": {},
   "source": [
    "### Model validation on a test set"
   ]
  },
  {
   "cell_type": "markdown",
   "metadata": {},
   "source": [
    "So, we have determined that our best model turned out to be a random forest. Let's check the results of his work on a test sample."
   ]
  },
  {
   "cell_type": "code",
   "execution_count": 54,
   "metadata": {},
   "outputs": [],
   "source": [
    "#to start, prepare a test sample\n",
    "features_test = df_test #common features for two target features\n",
    "\n",
    "#target features will be taken from the full dataset, because they are not in the test sample\n",
    "target_rougher_test = df_full['rougher.output.recovery'][df_test.index] #target feature for the flotation stage\n",
    "target_final_test = df_full['final.output.recovery'][df_test.index] #target trait for final concentration"
   ]
  },
  {
   "cell_type": "markdown",
   "metadata": {},
   "source": [
    "We will use random forest models with parameters that showed the best result on the training set."
   ]
  },
  {
   "cell_type": "code",
   "execution_count": 55,
   "metadata": {},
   "outputs": [
    {
     "name": "stdout",
     "output_type": "stream",
     "text": [
      "sMAPE of a random forest on a test set: 12.098099816552534\n"
     ]
    }
   ],
   "source": [
    "forest_model_rougher = RandomForestRegressor(random_state=12345, n_estimators=6, max_depth=5)\n",
    "forest_model_rougher.fit(features_test, target_rougher_test)\n",
    "smape_forest_model_rougher = cross_val_score(forest_model_rougher,\n",
    "                                             features_test,\n",
    "                                             target_rougher_test,\n",
    "                                             cv=5,\n",
    "                                             scoring=smape_score,\n",
    "                                             n_jobs=-1).mean()\n",
    "print('sMAPE of a random forest on a test set:', smape_forest_model_rougher)"
   ]
  },
  {
   "cell_type": "code",
   "execution_count": 56,
   "metadata": {},
   "outputs": [
    {
     "name": "stdout",
     "output_type": "stream",
     "text": [
      "sMAPE of a random forest on a test set: 13.132207921468947\n"
     ]
    }
   ],
   "source": [
    "forest_model_final = RandomForestRegressor(random_state=12345, n_estimators=7, max_depth=5)\n",
    "forest_model_final.fit(features_test, target_final_test)\n",
    "smape_forest_model_final = cross_val_score(forest_model_final,\n",
    "                                             features_test,\n",
    "                                             target_final_test,\n",
    "                                             cv=5,\n",
    "                                             scoring=smape_score,\n",
    "                                             n_jobs=-1).mean()\n",
    "print('sMAPE of a random forest on a test set:', smape_forest_model_final)"
   ]
  },
  {
   "cell_type": "code",
   "execution_count": 57,
   "metadata": {},
   "outputs": [
    {
     "name": "stdout",
     "output_type": "stream",
     "text": [
      "The final sMAPE of the random forest on the test set: 12.873680895239843\n"
     ]
    }
   ],
   "source": [
    "forest_total_test_smape = total_smape(smape_forest_model_rougher, smape_forest_model_final)\n",
    "print('The final sMAPE of the random forest on the test set:', forest_total_test_smape)"
   ]
  },
  {
   "cell_type": "markdown",
   "metadata": {},
   "source": [
    "The result of sMAPE turned out to be worse than on the training sample - 12.873. Let's try to check the linear regression indicator on the test sample."
   ]
  },
  {
   "cell_type": "code",
   "execution_count": 58,
   "metadata": {},
   "outputs": [
    {
     "name": "stdout",
     "output_type": "stream",
     "text": [
      "Best sMAPE result: 12.99859233173789\n"
     ]
    }
   ],
   "source": [
    "#look at the results of the test sample for the flotation stage\n",
    "regression_test_rougher, regression_test_rougher_smape = reg_model(features_test, target_rougher_test)"
   ]
  },
  {
   "cell_type": "code",
   "execution_count": 59,
   "metadata": {},
   "outputs": [
    {
     "name": "stdout",
     "output_type": "stream",
     "text": [
      "Best sMAPE result: 10.41710705921383\n"
     ]
    }
   ],
   "source": [
    "#look at the results of the test sample at the final stage\n",
    "regression_test_final, regression_test_final_smape = reg_model(features_test, target_final_test)"
   ]
  },
  {
   "cell_type": "code",
   "execution_count": 60,
   "metadata": {},
   "outputs": [
    {
     "name": "stdout",
     "output_type": "stream",
     "text": [
      "Final sMAPE on the test set: 11.062478377344846\n"
     ]
    }
   ],
   "source": [
    "regression_total_test_smape = total_smape(regression_test_rougher_smape, regression_test_final_smape)\n",
    "print('Final sMAPE on the test set:', regression_total_test_smape)"
   ]
  },
  {
   "cell_type": "markdown",
   "metadata": {},
   "source": [
    "The final sMAPE of the linear regression on the test set was 11.062. The result is good and better than random forest, so we will use linear regression."
   ]
  },
  {
   "cell_type": "markdown",
   "metadata": {},
   "source": [
    "### Checking the model for adequacy"
   ]
  },
  {
   "cell_type": "markdown",
   "metadata": {},
   "source": [
    "Let's compare our model with the constant model from DummyRegressor, which predicts the mean from the target values, to make sure it works adequately."
   ]
  },
  {
   "cell_type": "code",
   "execution_count": 61,
   "metadata": {},
   "outputs": [],
   "source": [
    "#train the dummy model\n",
    "dummy_rougher = DummyRegressor(strategy='mean')\n",
    "dummy_rougher.fit(features_train, target_rougher_train)\n",
    "dummy_rougher_predict = dummy_rougher.predict(features_test)\n",
    "\n",
    "dummy_final = DummyRegressor(strategy='mean')\n",
    "dummy_final.fit(features_train, target_final_train)\n",
    "dummy_final_predict = dummy_rougher.predict(features_test)"
   ]
  },
  {
   "cell_type": "code",
   "execution_count": 62,
   "metadata": {},
   "outputs": [
    {
     "name": "stdout",
     "output_type": "stream",
     "text": [
      "The final sMAPE Dummy model is: 17.854900797328266\n"
     ]
    }
   ],
   "source": [
    "#and check the resulting sMAPE result\n",
    "smape_dummy_rougher_test = smape(target_rougher_test, dummy_rougher_predict)\n",
    "smape_dummy_final_test = smape(target_final_test, dummy_final_predict)\n",
    "\n",
    "dummy_total_test_smape = total_smape(smape_dummy_rougher_test, smape_dummy_final_test)\n",
    "print('The final sMAPE Dummy model is:', dummy_total_test_smape)"
   ]
  },
  {
   "cell_type": "markdown",
   "metadata": {},
   "source": [
    "The final sMAPE Dummy of the model was 17.854, which means that our model works adequately, because the final sMAPE on it was 11.062."
   ]
  },
  {
   "cell_type": "markdown",
   "metadata": {},
   "source": [
    "### Section Conclusion"
   ]
  },
  {
   "cell_type": "markdown",
   "metadata": {},
   "source": [
    "1. To solve the problem, a new quality metric was introduced - sMAPE (Symmetric Mean Absolute Percentage Error).\n",
    "2. 3 models were trained: decision tree, random forest and linear regression.\n",
    "3. The following sMAPE results were obtained for 3 models:\n",
    "    1. Decision tree - 10.616;\n",
    "    2. Random forest - 10.241;\n",
    "    3. Linear regression - 12.172.\n",
    "4. Based on the results of testing the model on the test sample, linear regression was recognized as the best and we got the sMAPE indicator - 11.062, which is a good result.\n",
    "5. Based on the test, our model works adequately."
   ]
  },
  {
   "cell_type": "markdown",
   "metadata": {},
   "source": [
    "## General Conclusion"
   ]
  },
  {
   "cell_type": "markdown",
   "metadata": {},
   "source": [
    "1. The enrichment efficiency in the training sample is calculated correctly, because the MAE index was 9.73, which is good. result and indicates the correctness of the calculations.\n",
    "2. In the test sample at all stages, there are no output parameters of the product (output): metal concentration (concentrate) and tailings (tail) for metals (Au, Ag, Pb) and salts (Sol). These data are not suitable for training the model, as they appear during or after the measurement of the target features. Also, in the test sample, there are no calculated signs at the flotation stage - calculation. The column data was removed from the training dataset, and the final.output.recovery and rougher.output.recovery columns were assigned as target features.\n",
    "3. After passing through all stages of purification, the concentration of gold and lead increases, while the concentration of silver, on the contrary, decreases.\n",
    "4. The distribution of raw material granule sizes on the training and test sets is similar, so the model will work correctly.\n",
    "5. In the study of the total concentration of all substances at different stages: in raw materials and rough concentrate, it practically does not change, but in the final concentrate, the concentration of all substances almost doubles.\n",
    "6. To solve the problem, a new quality metric was introduced - sMAPE (Symmetric Mean Absolute Percentage Error).\n",
    "7. Linear regression was recognized as the best and, based on the results of checking the model on the test sample, we got the result sMAPE - 11.062, which is a good result."
   ]
  },
  {
   "cell_type": "code",
   "execution_count": null,
   "metadata": {},
   "outputs": [],
   "source": []
  }
 ],
 "metadata": {
  "ExecuteTimeLog": [
   {
    "duration": 1708,
    "start_time": "2022-04-21T07:43:16.237Z"
   },
   {
    "duration": 256,
    "start_time": "2022-04-21T07:47:45.145Z"
   },
   {
    "duration": 637,
    "start_time": "2022-04-21T07:48:35.844Z"
   },
   {
    "duration": 25,
    "start_time": "2022-04-21T07:49:33.492Z"
   },
   {
    "duration": 16,
    "start_time": "2022-04-21T07:49:56.077Z"
   },
   {
    "duration": 23,
    "start_time": "2022-04-21T07:50:37.911Z"
   },
   {
    "duration": 13,
    "start_time": "2022-04-21T07:50:50.359Z"
   },
   {
    "duration": 22,
    "start_time": "2022-04-21T07:51:10.214Z"
   },
   {
    "duration": 11,
    "start_time": "2022-04-21T07:51:55.622Z"
   },
   {
    "duration": 21,
    "start_time": "2022-04-21T07:52:36.399Z"
   },
   {
    "duration": 15,
    "start_time": "2022-04-21T07:52:48.119Z"
   },
   {
    "duration": 99,
    "start_time": "2022-04-21T07:59:51.119Z"
   },
   {
    "duration": 4,
    "start_time": "2022-04-21T07:59:57.945Z"
   },
   {
    "duration": 9,
    "start_time": "2022-04-21T08:00:37.724Z"
   },
   {
    "duration": 119,
    "start_time": "2022-04-21T08:01:41.811Z"
   },
   {
    "duration": 233,
    "start_time": "2022-04-21T08:02:25.240Z"
   },
   {
    "duration": 107,
    "start_time": "2022-04-21T08:02:30.568Z"
   },
   {
    "duration": 110,
    "start_time": "2022-04-21T08:03:10.785Z"
   },
   {
    "duration": 106,
    "start_time": "2022-04-21T08:03:38.620Z"
   },
   {
    "duration": 108,
    "start_time": "2022-04-21T08:05:05.461Z"
   },
   {
    "duration": 20,
    "start_time": "2022-04-21T08:05:32.133Z"
   },
   {
    "duration": 20,
    "start_time": "2022-04-21T08:07:54.932Z"
   },
   {
    "duration": 82,
    "start_time": "2022-04-21T08:08:17.077Z"
   },
   {
    "duration": 3,
    "start_time": "2022-04-21T08:09:47.105Z"
   },
   {
    "duration": 4,
    "start_time": "2022-04-21T08:10:05.289Z"
   },
   {
    "duration": 1005,
    "start_time": "2022-04-21T08:19:15.717Z"
   },
   {
    "duration": 689,
    "start_time": "2022-04-21T08:19:48.584Z"
   },
   {
    "duration": 629,
    "start_time": "2022-04-21T08:21:21.971Z"
   },
   {
    "duration": 200,
    "start_time": "2022-04-21T08:23:34.132Z"
   },
   {
    "duration": 185,
    "start_time": "2022-04-21T08:23:39.431Z"
   },
   {
    "duration": 180,
    "start_time": "2022-04-21T08:23:51.511Z"
   },
   {
    "duration": 13,
    "start_time": "2022-04-21T08:48:23.646Z"
   },
   {
    "duration": 3,
    "start_time": "2022-04-21T08:48:47.214Z"
   },
   {
    "duration": 7,
    "start_time": "2022-04-21T08:49:46.623Z"
   },
   {
    "duration": 10,
    "start_time": "2022-04-21T08:49:53.527Z"
   },
   {
    "duration": 209,
    "start_time": "2022-04-21T08:50:00.197Z"
   },
   {
    "duration": 5,
    "start_time": "2022-04-21T08:50:03.958Z"
   },
   {
    "duration": 4,
    "start_time": "2022-04-21T08:50:23.129Z"
   },
   {
    "duration": 6,
    "start_time": "2022-04-21T08:54:12.595Z"
   },
   {
    "duration": 4,
    "start_time": "2022-04-21T08:54:18.734Z"
   },
   {
    "duration": 9,
    "start_time": "2022-04-21T08:54:27.212Z"
   },
   {
    "duration": 4,
    "start_time": "2022-04-21T08:54:31.385Z"
   },
   {
    "duration": 4,
    "start_time": "2022-04-21T08:54:39.913Z"
   },
   {
    "duration": 3,
    "start_time": "2022-04-21T08:54:43.278Z"
   },
   {
    "duration": 6,
    "start_time": "2022-04-21T08:55:14.512Z"
   },
   {
    "duration": 8,
    "start_time": "2022-04-21T08:57:30.938Z"
   },
   {
    "duration": 6,
    "start_time": "2022-04-21T08:57:35.494Z"
   },
   {
    "duration": 3,
    "start_time": "2022-04-21T08:57:36.454Z"
   },
   {
    "duration": 6,
    "start_time": "2022-04-21T08:57:59.774Z"
   },
   {
    "duration": 3,
    "start_time": "2022-04-21T08:58:00.379Z"
   },
   {
    "duration": 5,
    "start_time": "2022-04-21T08:58:10.796Z"
   },
   {
    "duration": 4,
    "start_time": "2022-04-21T08:58:11.766Z"
   },
   {
    "duration": 7,
    "start_time": "2022-04-21T09:31:43.245Z"
   },
   {
    "duration": 8,
    "start_time": "2022-04-21T09:34:19.707Z"
   },
   {
    "duration": 9,
    "start_time": "2022-04-21T09:50:12.992Z"
   },
   {
    "duration": 3207,
    "start_time": "2022-04-21T09:50:22.027Z"
   },
   {
    "duration": 5,
    "start_time": "2022-04-21T09:50:31.471Z"
   },
   {
    "duration": 8,
    "start_time": "2022-04-21T09:50:46.997Z"
   },
   {
    "duration": 14,
    "start_time": "2022-04-21T09:51:41.320Z"
   },
   {
    "duration": 64,
    "start_time": "2022-04-21T09:52:08.798Z"
   },
   {
    "duration": 4,
    "start_time": "2022-04-21T09:52:25.334Z"
   },
   {
    "duration": 12,
    "start_time": "2022-04-21T09:56:06.512Z"
   },
   {
    "duration": 3,
    "start_time": "2022-04-21T09:56:36.062Z"
   },
   {
    "duration": 4,
    "start_time": "2022-04-21T09:56:54.834Z"
   },
   {
    "duration": 1499,
    "start_time": "2022-04-21T09:57:01.552Z"
   },
   {
    "duration": 1061,
    "start_time": "2022-04-21T09:57:03.053Z"
   },
   {
    "duration": 91,
    "start_time": "2022-04-21T09:57:04.116Z"
   },
   {
    "duration": 22,
    "start_time": "2022-04-21T09:57:04.209Z"
   },
   {
    "duration": 305,
    "start_time": "2022-04-21T09:57:04.233Z"
   },
   {
    "duration": 75,
    "start_time": "2022-04-21T09:57:04.540Z"
   },
   {
    "duration": 11,
    "start_time": "2022-04-21T09:57:04.617Z"
   },
   {
    "duration": 75,
    "start_time": "2022-04-21T09:57:04.630Z"
   },
   {
    "duration": 22,
    "start_time": "2022-04-21T09:57:04.706Z"
   },
   {
    "duration": 71,
    "start_time": "2022-04-21T09:57:04.730Z"
   },
   {
    "duration": 241,
    "start_time": "2022-04-21T09:57:04.803Z"
   },
   {
    "duration": 55,
    "start_time": "2022-04-21T09:57:05.046Z"
   },
   {
    "duration": 29,
    "start_time": "2022-04-21T09:57:05.103Z"
   },
   {
    "duration": 5,
    "start_time": "2022-04-21T09:57:05.133Z"
   },
   {
    "duration": 12,
    "start_time": "2022-04-21T09:57:05.139Z"
   },
   {
    "duration": 5,
    "start_time": "2022-04-21T09:57:05.152Z"
   },
   {
    "duration": 157,
    "start_time": "2022-04-21T09:57:05.158Z"
   },
   {
    "duration": 922,
    "start_time": "2022-04-21T10:01:12.971Z"
   },
   {
    "duration": 34,
    "start_time": "2022-04-21T10:01:15.469Z"
   },
   {
    "duration": 16,
    "start_time": "2022-04-21T10:01:17.423Z"
   },
   {
    "duration": 3320,
    "start_time": "2022-04-21T10:03:15.179Z"
   },
   {
    "duration": 1555,
    "start_time": "2022-04-21T10:09:23.000Z"
   },
   {
    "duration": 614,
    "start_time": "2022-04-21T10:09:24.557Z"
   },
   {
    "duration": 32,
    "start_time": "2022-04-21T10:09:25.172Z"
   },
   {
    "duration": 19,
    "start_time": "2022-04-21T10:09:25.206Z"
   },
   {
    "duration": 132,
    "start_time": "2022-04-21T10:09:25.226Z"
   },
   {
    "duration": 22,
    "start_time": "2022-04-21T10:09:25.360Z"
   },
   {
    "duration": 24,
    "start_time": "2022-04-21T10:09:25.384Z"
   },
   {
    "duration": 21,
    "start_time": "2022-04-21T10:09:25.410Z"
   },
   {
    "duration": 21,
    "start_time": "2022-04-21T10:09:25.432Z"
   },
   {
    "duration": 17,
    "start_time": "2022-04-21T10:09:25.456Z"
   },
   {
    "duration": 110,
    "start_time": "2022-04-21T10:09:25.474Z"
   },
   {
    "duration": 3,
    "start_time": "2022-04-21T10:09:25.585Z"
   },
   {
    "duration": 18,
    "start_time": "2022-04-21T10:09:25.589Z"
   },
   {
    "duration": 4,
    "start_time": "2022-04-21T10:09:25.608Z"
   },
   {
    "duration": 10,
    "start_time": "2022-04-21T10:09:25.613Z"
   },
   {
    "duration": 8,
    "start_time": "2022-04-21T10:09:25.624Z"
   },
   {
    "duration": 87,
    "start_time": "2022-04-21T10:09:25.634Z"
   },
   {
    "duration": 13,
    "start_time": "2022-04-21T10:09:25.722Z"
   },
   {
    "duration": 10,
    "start_time": "2022-04-21T10:10:30.362Z"
   },
   {
    "duration": 6,
    "start_time": "2022-04-21T10:11:51.101Z"
   },
   {
    "duration": 26,
    "start_time": "2022-04-21T10:12:52.643Z"
   },
   {
    "duration": 6,
    "start_time": "2022-04-21T10:13:05.602Z"
   },
   {
    "duration": 6,
    "start_time": "2022-04-21T10:14:02.621Z"
   },
   {
    "duration": 6,
    "start_time": "2022-04-21T10:14:12.329Z"
   },
   {
    "duration": 6,
    "start_time": "2022-04-21T10:15:46.642Z"
   },
   {
    "duration": 72,
    "start_time": "2022-04-21T10:18:02.857Z"
   },
   {
    "duration": 42,
    "start_time": "2022-04-21T10:18:15.627Z"
   },
   {
    "duration": 99,
    "start_time": "2022-04-21T10:18:31.633Z"
   },
   {
    "duration": 1707,
    "start_time": "2022-04-21T10:19:03.325Z"
   },
   {
    "duration": 1031,
    "start_time": "2022-04-21T10:19:05.034Z"
   },
   {
    "duration": 33,
    "start_time": "2022-04-21T10:19:06.067Z"
   },
   {
    "duration": 16,
    "start_time": "2022-04-21T10:19:06.102Z"
   },
   {
    "duration": 124,
    "start_time": "2022-04-21T10:19:06.121Z"
   },
   {
    "duration": 22,
    "start_time": "2022-04-21T10:19:06.247Z"
   },
   {
    "duration": 14,
    "start_time": "2022-04-21T10:19:06.270Z"
   },
   {
    "duration": 32,
    "start_time": "2022-04-21T10:19:06.285Z"
   },
   {
    "duration": 21,
    "start_time": "2022-04-21T10:19:06.318Z"
   },
   {
    "duration": 15,
    "start_time": "2022-04-21T10:19:06.341Z"
   },
   {
    "duration": 118,
    "start_time": "2022-04-21T10:19:06.358Z"
   },
   {
    "duration": 3,
    "start_time": "2022-04-21T10:19:06.478Z"
   },
   {
    "duration": 13,
    "start_time": "2022-04-21T10:19:06.482Z"
   },
   {
    "duration": 3,
    "start_time": "2022-04-21T10:19:06.500Z"
   },
   {
    "duration": 11,
    "start_time": "2022-04-21T10:19:06.505Z"
   },
   {
    "duration": 9,
    "start_time": "2022-04-21T10:19:06.518Z"
   },
   {
    "duration": 78,
    "start_time": "2022-04-21T10:19:06.528Z"
   },
   {
    "duration": 14,
    "start_time": "2022-04-21T10:19:06.608Z"
   },
   {
    "duration": 12,
    "start_time": "2022-04-21T10:19:06.624Z"
   },
   {
    "duration": 19,
    "start_time": "2022-04-21T10:19:06.638Z"
   },
   {
    "duration": 42,
    "start_time": "2022-04-21T10:19:06.658Z"
   },
   {
    "duration": 1836,
    "start_time": "2022-04-21T10:19:27.700Z"
   },
   {
    "duration": 2011,
    "start_time": "2022-04-21T10:19:29.538Z"
   },
   {
    "duration": 25,
    "start_time": "2022-04-21T10:19:31.551Z"
   },
   {
    "duration": 30,
    "start_time": "2022-04-21T10:19:31.578Z"
   },
   {
    "duration": 123,
    "start_time": "2022-04-21T10:19:31.611Z"
   },
   {
    "duration": 22,
    "start_time": "2022-04-21T10:19:31.736Z"
   },
   {
    "duration": 21,
    "start_time": "2022-04-21T10:19:31.760Z"
   },
   {
    "duration": 49,
    "start_time": "2022-04-21T10:19:31.783Z"
   },
   {
    "duration": 30,
    "start_time": "2022-04-21T10:19:31.834Z"
   },
   {
    "duration": 41,
    "start_time": "2022-04-21T10:19:31.866Z"
   },
   {
    "duration": 103,
    "start_time": "2022-04-21T10:19:31.909Z"
   },
   {
    "duration": 2,
    "start_time": "2022-04-21T10:19:32.014Z"
   },
   {
    "duration": 15,
    "start_time": "2022-04-21T10:19:32.018Z"
   },
   {
    "duration": 8,
    "start_time": "2022-04-21T10:19:32.035Z"
   },
   {
    "duration": 12,
    "start_time": "2022-04-21T10:19:32.044Z"
   },
   {
    "duration": 7,
    "start_time": "2022-04-21T10:19:32.058Z"
   },
   {
    "duration": 82,
    "start_time": "2022-04-21T10:19:32.066Z"
   },
   {
    "duration": 15,
    "start_time": "2022-04-21T10:19:32.150Z"
   },
   {
    "duration": 35,
    "start_time": "2022-04-21T10:19:32.166Z"
   },
   {
    "duration": 20,
    "start_time": "2022-04-21T10:19:32.202Z"
   },
   {
    "duration": 27,
    "start_time": "2022-04-21T10:19:32.223Z"
   },
   {
    "duration": 2017,
    "start_time": "2022-04-21T10:19:52.616Z"
   },
   {
    "duration": 1207,
    "start_time": "2022-04-21T10:19:54.634Z"
   },
   {
    "duration": 89,
    "start_time": "2022-04-21T10:19:55.843Z"
   },
   {
    "duration": 71,
    "start_time": "2022-04-21T10:19:55.934Z"
   },
   {
    "duration": 144,
    "start_time": "2022-04-21T10:19:56.009Z"
   },
   {
    "duration": 24,
    "start_time": "2022-04-21T10:19:56.155Z"
   },
   {
    "duration": 28,
    "start_time": "2022-04-21T10:19:56.180Z"
   },
   {
    "duration": 19,
    "start_time": "2022-04-21T10:19:56.210Z"
   },
   {
    "duration": 23,
    "start_time": "2022-04-21T10:19:56.231Z"
   },
   {
    "duration": 54,
    "start_time": "2022-04-21T10:19:56.256Z"
   },
   {
    "duration": 153,
    "start_time": "2022-04-21T10:19:56.312Z"
   },
   {
    "duration": 3,
    "start_time": "2022-04-21T10:19:56.468Z"
   },
   {
    "duration": 19,
    "start_time": "2022-04-21T10:19:56.473Z"
   },
   {
    "duration": 5,
    "start_time": "2022-04-21T10:19:56.495Z"
   },
   {
    "duration": 22,
    "start_time": "2022-04-21T10:19:56.501Z"
   },
   {
    "duration": 11,
    "start_time": "2022-04-21T10:19:56.525Z"
   },
   {
    "duration": 77,
    "start_time": "2022-04-21T10:19:56.538Z"
   },
   {
    "duration": 10,
    "start_time": "2022-04-21T10:19:56.617Z"
   },
   {
    "duration": 15,
    "start_time": "2022-04-21T10:19:56.628Z"
   },
   {
    "duration": 12,
    "start_time": "2022-04-21T10:19:56.645Z"
   },
   {
    "duration": 17,
    "start_time": "2022-04-21T10:19:56.659Z"
   },
   {
    "duration": 1616,
    "start_time": "2022-04-21T10:24:00.818Z"
   },
   {
    "duration": 616,
    "start_time": "2022-04-21T10:24:02.435Z"
   },
   {
    "duration": 25,
    "start_time": "2022-04-21T10:24:03.053Z"
   },
   {
    "duration": 33,
    "start_time": "2022-04-21T10:24:03.080Z"
   },
   {
    "duration": 124,
    "start_time": "2022-04-21T10:24:03.115Z"
   },
   {
    "duration": 22,
    "start_time": "2022-04-21T10:24:03.241Z"
   },
   {
    "duration": 14,
    "start_time": "2022-04-21T10:24:03.265Z"
   },
   {
    "duration": 40,
    "start_time": "2022-04-21T10:24:03.281Z"
   },
   {
    "duration": 21,
    "start_time": "2022-04-21T10:24:03.323Z"
   },
   {
    "duration": 19,
    "start_time": "2022-04-21T10:24:03.346Z"
   },
   {
    "duration": 111,
    "start_time": "2022-04-21T10:24:03.367Z"
   },
   {
    "duration": 3,
    "start_time": "2022-04-21T10:24:03.480Z"
   },
   {
    "duration": 22,
    "start_time": "2022-04-21T10:24:03.484Z"
   },
   {
    "duration": 6,
    "start_time": "2022-04-21T10:24:03.508Z"
   },
   {
    "duration": 10,
    "start_time": "2022-04-21T10:24:03.515Z"
   },
   {
    "duration": 8,
    "start_time": "2022-04-21T10:24:03.527Z"
   },
   {
    "duration": 87,
    "start_time": "2022-04-21T10:24:03.537Z"
   },
   {
    "duration": 5,
    "start_time": "2022-04-21T10:24:03.626Z"
   },
   {
    "duration": 14,
    "start_time": "2022-04-21T10:24:03.633Z"
   },
   {
    "duration": 15,
    "start_time": "2022-04-21T10:24:03.649Z"
   },
   {
    "duration": 34,
    "start_time": "2022-04-21T10:24:03.666Z"
   },
   {
    "duration": 14,
    "start_time": "2022-04-21T10:24:53.052Z"
   },
   {
    "duration": 2062,
    "start_time": "2022-04-21T10:30:35.814Z"
   },
   {
    "duration": 641,
    "start_time": "2022-04-21T10:30:37.878Z"
   },
   {
    "duration": 25,
    "start_time": "2022-04-21T10:30:38.520Z"
   },
   {
    "duration": 16,
    "start_time": "2022-04-21T10:30:38.547Z"
   },
   {
    "duration": 131,
    "start_time": "2022-04-21T10:30:38.564Z"
   },
   {
    "duration": 22,
    "start_time": "2022-04-21T10:30:38.700Z"
   },
   {
    "duration": 13,
    "start_time": "2022-04-21T10:30:38.724Z"
   },
   {
    "duration": 20,
    "start_time": "2022-04-21T10:30:38.739Z"
   },
   {
    "duration": 42,
    "start_time": "2022-04-21T10:30:38.760Z"
   },
   {
    "duration": 17,
    "start_time": "2022-04-21T10:30:38.804Z"
   },
   {
    "duration": 107,
    "start_time": "2022-04-21T10:30:38.822Z"
   },
   {
    "duration": 3,
    "start_time": "2022-04-21T10:30:38.930Z"
   },
   {
    "duration": 10,
    "start_time": "2022-04-21T10:30:38.934Z"
   },
   {
    "duration": 3,
    "start_time": "2022-04-21T10:30:38.946Z"
   },
   {
    "duration": 7,
    "start_time": "2022-04-21T10:30:38.950Z"
   },
   {
    "duration": 4,
    "start_time": "2022-04-21T10:30:38.959Z"
   },
   {
    "duration": 91,
    "start_time": "2022-04-21T10:30:38.965Z"
   },
   {
    "duration": 111,
    "start_time": "2022-04-21T10:30:39.058Z"
   },
   {
    "duration": 0,
    "start_time": "2022-04-21T10:30:39.171Z"
   },
   {
    "duration": 0,
    "start_time": "2022-04-21T10:30:39.172Z"
   },
   {
    "duration": 0,
    "start_time": "2022-04-21T10:30:39.173Z"
   },
   {
    "duration": 1476,
    "start_time": "2022-04-21T10:32:20.593Z"
   },
   {
    "duration": 641,
    "start_time": "2022-04-21T10:32:22.071Z"
   },
   {
    "duration": 25,
    "start_time": "2022-04-21T10:32:22.713Z"
   },
   {
    "duration": 15,
    "start_time": "2022-04-21T10:32:22.740Z"
   },
   {
    "duration": 141,
    "start_time": "2022-04-21T10:32:22.756Z"
   },
   {
    "duration": 19,
    "start_time": "2022-04-21T10:32:22.899Z"
   },
   {
    "duration": 26,
    "start_time": "2022-04-21T10:32:22.920Z"
   },
   {
    "duration": 27,
    "start_time": "2022-04-21T10:32:22.947Z"
   },
   {
    "duration": 20,
    "start_time": "2022-04-21T10:32:22.975Z"
   },
   {
    "duration": 28,
    "start_time": "2022-04-21T10:32:22.999Z"
   },
   {
    "duration": 91,
    "start_time": "2022-04-21T10:32:23.028Z"
   },
   {
    "duration": 2,
    "start_time": "2022-04-21T10:32:23.121Z"
   },
   {
    "duration": 10,
    "start_time": "2022-04-21T10:32:23.125Z"
   },
   {
    "duration": 4,
    "start_time": "2022-04-21T10:32:23.136Z"
   },
   {
    "duration": 9,
    "start_time": "2022-04-21T10:32:23.142Z"
   },
   {
    "duration": 3,
    "start_time": "2022-04-21T10:32:23.152Z"
   },
   {
    "duration": 92,
    "start_time": "2022-04-21T10:32:23.156Z"
   },
   {
    "duration": 5,
    "start_time": "2022-04-21T10:32:23.249Z"
   },
   {
    "duration": 18,
    "start_time": "2022-04-21T10:32:23.256Z"
   },
   {
    "duration": 12,
    "start_time": "2022-04-21T10:32:23.275Z"
   },
   {
    "duration": 16,
    "start_time": "2022-04-21T10:32:23.300Z"
   },
   {
    "duration": 1510,
    "start_time": "2022-04-21T10:33:55.170Z"
   },
   {
    "duration": 660,
    "start_time": "2022-04-21T10:33:56.682Z"
   },
   {
    "duration": 26,
    "start_time": "2022-04-21T10:33:57.344Z"
   },
   {
    "duration": 32,
    "start_time": "2022-04-21T10:33:57.372Z"
   },
   {
    "duration": 116,
    "start_time": "2022-04-21T10:33:57.406Z"
   },
   {
    "duration": 23,
    "start_time": "2022-04-21T10:33:57.523Z"
   },
   {
    "duration": 12,
    "start_time": "2022-04-21T10:33:57.547Z"
   },
   {
    "duration": 39,
    "start_time": "2022-04-21T10:33:57.561Z"
   },
   {
    "duration": 21,
    "start_time": "2022-04-21T10:33:57.602Z"
   },
   {
    "duration": 20,
    "start_time": "2022-04-21T10:33:57.624Z"
   },
   {
    "duration": 104,
    "start_time": "2022-04-21T10:33:57.646Z"
   },
   {
    "duration": 4,
    "start_time": "2022-04-21T10:33:57.751Z"
   },
   {
    "duration": 9,
    "start_time": "2022-04-21T10:33:57.756Z"
   },
   {
    "duration": 3,
    "start_time": "2022-04-21T10:33:57.768Z"
   },
   {
    "duration": 28,
    "start_time": "2022-04-21T10:33:57.772Z"
   },
   {
    "duration": 4,
    "start_time": "2022-04-21T10:33:57.802Z"
   },
   {
    "duration": 69,
    "start_time": "2022-04-21T10:33:57.807Z"
   },
   {
    "duration": 22,
    "start_time": "2022-04-21T10:33:57.878Z"
   },
   {
    "duration": 12,
    "start_time": "2022-04-21T10:33:57.902Z"
   },
   {
    "duration": 14,
    "start_time": "2022-04-21T10:33:57.916Z"
   },
   {
    "duration": 15,
    "start_time": "2022-04-21T10:33:57.932Z"
   },
   {
    "duration": 2290,
    "start_time": "2022-04-22T06:53:27.658Z"
   },
   {
    "duration": 930,
    "start_time": "2022-04-22T06:53:29.951Z"
   },
   {
    "duration": 60,
    "start_time": "2022-04-22T06:53:30.883Z"
   },
   {
    "duration": 28,
    "start_time": "2022-04-22T06:53:30.946Z"
   },
   {
    "duration": 290,
    "start_time": "2022-04-22T06:53:30.979Z"
   },
   {
    "duration": 110,
    "start_time": "2022-04-22T06:53:31.325Z"
   },
   {
    "duration": 28,
    "start_time": "2022-04-22T06:53:31.438Z"
   },
   {
    "duration": 156,
    "start_time": "2022-04-22T06:53:31.469Z"
   },
   {
    "duration": 110,
    "start_time": "2022-04-22T06:53:31.628Z"
   },
   {
    "duration": 100,
    "start_time": "2022-04-22T06:53:31.741Z"
   },
   {
    "duration": 317,
    "start_time": "2022-04-22T06:53:31.844Z"
   },
   {
    "duration": 60,
    "start_time": "2022-04-22T06:53:32.163Z"
   },
   {
    "duration": 15,
    "start_time": "2022-04-22T06:53:32.226Z"
   },
   {
    "duration": 5,
    "start_time": "2022-04-22T06:53:32.245Z"
   },
   {
    "duration": 18,
    "start_time": "2022-04-22T06:53:32.253Z"
   },
   {
    "duration": 10,
    "start_time": "2022-04-22T06:53:32.324Z"
   },
   {
    "duration": 288,
    "start_time": "2022-04-22T06:53:32.337Z"
   },
   {
    "duration": 13,
    "start_time": "2022-04-22T06:53:32.628Z"
   },
   {
    "duration": 21,
    "start_time": "2022-04-22T06:53:32.644Z"
   },
   {
    "duration": 81,
    "start_time": "2022-04-22T06:53:32.669Z"
   },
   {
    "duration": 77,
    "start_time": "2022-04-22T06:53:32.754Z"
   },
   {
    "duration": 167,
    "start_time": "2022-04-22T07:03:48.729Z"
   },
   {
    "duration": 15,
    "start_time": "2022-04-22T07:07:21.698Z"
   },
   {
    "duration": 9,
    "start_time": "2022-04-22T07:16:54.267Z"
   },
   {
    "duration": 8,
    "start_time": "2022-04-22T07:18:51.891Z"
   },
   {
    "duration": 1359,
    "start_time": "2022-04-22T07:19:46.988Z"
   },
   {
    "duration": 1772,
    "start_time": "2022-04-22T07:20:29.555Z"
   },
   {
    "duration": 1749,
    "start_time": "2022-04-22T07:20:52.848Z"
   },
   {
    "duration": 1632,
    "start_time": "2022-04-22T07:21:06.169Z"
   },
   {
    "duration": 1638,
    "start_time": "2022-04-22T07:21:28.356Z"
   },
   {
    "duration": 1908,
    "start_time": "2022-04-22T07:26:21.197Z"
   },
   {
    "duration": 2003,
    "start_time": "2022-04-22T07:26:42.605Z"
   },
   {
    "duration": 14,
    "start_time": "2022-04-22T07:27:06.876Z"
   },
   {
    "duration": 13,
    "start_time": "2022-04-22T07:27:13.012Z"
   },
   {
    "duration": 1963,
    "start_time": "2022-04-22T07:27:23.635Z"
   },
   {
    "duration": 2149,
    "start_time": "2022-04-22T07:28:07.301Z"
   },
   {
    "duration": 2247,
    "start_time": "2022-04-22T07:28:16.174Z"
   },
   {
    "duration": 2083,
    "start_time": "2022-04-22T07:28:24.487Z"
   },
   {
    "duration": 2086,
    "start_time": "2022-04-22T07:28:33.219Z"
   },
   {
    "duration": 2060,
    "start_time": "2022-04-22T07:28:40.539Z"
   },
   {
    "duration": 3102,
    "start_time": "2022-04-22T07:29:22.742Z"
   },
   {
    "duration": 862,
    "start_time": "2022-04-22T07:29:25.847Z"
   },
   {
    "duration": 47,
    "start_time": "2022-04-22T07:29:26.711Z"
   },
   {
    "duration": 25,
    "start_time": "2022-04-22T07:29:26.762Z"
   },
   {
    "duration": 217,
    "start_time": "2022-04-22T07:29:26.790Z"
   },
   {
    "duration": 46,
    "start_time": "2022-04-22T07:29:27.009Z"
   },
   {
    "duration": 21,
    "start_time": "2022-04-22T07:29:27.057Z"
   },
   {
    "duration": 65,
    "start_time": "2022-04-22T07:29:27.080Z"
   },
   {
    "duration": 36,
    "start_time": "2022-04-22T07:29:27.148Z"
   },
   {
    "duration": 49,
    "start_time": "2022-04-22T07:29:27.188Z"
   },
   {
    "duration": 184,
    "start_time": "2022-04-22T07:29:27.240Z"
   },
   {
    "duration": 4,
    "start_time": "2022-04-22T07:29:27.426Z"
   },
   {
    "duration": 15,
    "start_time": "2022-04-22T07:29:27.432Z"
   },
   {
    "duration": 5,
    "start_time": "2022-04-22T07:29:27.449Z"
   },
   {
    "duration": 9,
    "start_time": "2022-04-22T07:29:27.456Z"
   },
   {
    "duration": 6,
    "start_time": "2022-04-22T07:29:27.470Z"
   },
   {
    "duration": 134,
    "start_time": "2022-04-22T07:29:27.479Z"
   },
   {
    "duration": 13,
    "start_time": "2022-04-22T07:29:27.616Z"
   },
   {
    "duration": 19,
    "start_time": "2022-04-22T07:29:27.631Z"
   },
   {
    "duration": 17,
    "start_time": "2022-04-22T07:29:27.652Z"
   },
   {
    "duration": 17,
    "start_time": "2022-04-22T07:29:27.672Z"
   },
   {
    "duration": 9,
    "start_time": "2022-04-22T07:29:27.725Z"
   },
   {
    "duration": 2230,
    "start_time": "2022-04-22T07:29:27.736Z"
   },
   {
    "duration": 15,
    "start_time": "2022-04-22T07:29:49.662Z"
   },
   {
    "duration": 13,
    "start_time": "2022-04-22T07:30:39.235Z"
   },
   {
    "duration": 5,
    "start_time": "2022-04-22T07:31:19.293Z"
   },
   {
    "duration": 14,
    "start_time": "2022-04-22T07:31:25.679Z"
   },
   {
    "duration": 1900,
    "start_time": "2022-04-22T07:31:28.986Z"
   },
   {
    "duration": 1685,
    "start_time": "2022-04-22T07:32:37.629Z"
   },
   {
    "duration": 16,
    "start_time": "2022-04-22T07:32:45.237Z"
   },
   {
    "duration": 16,
    "start_time": "2022-04-22T07:32:49.973Z"
   },
   {
    "duration": 1407,
    "start_time": "2022-04-22T07:33:41.162Z"
   },
   {
    "duration": 20,
    "start_time": "2022-04-22T07:35:36.154Z"
   },
   {
    "duration": 16,
    "start_time": "2022-04-22T07:36:21.186Z"
   },
   {
    "duration": 8,
    "start_time": "2022-04-22T07:37:17.172Z"
   },
   {
    "duration": 1332,
    "start_time": "2022-04-22T07:37:18.780Z"
   },
   {
    "duration": 1351,
    "start_time": "2022-04-22T07:37:31.330Z"
   },
   {
    "duration": 1412,
    "start_time": "2022-04-22T07:37:39.771Z"
   },
   {
    "duration": 330,
    "start_time": "2022-04-22T07:38:02.574Z"
   },
   {
    "duration": 1334,
    "start_time": "2022-04-22T07:38:06.991Z"
   },
   {
    "duration": 14,
    "start_time": "2022-04-22T07:38:51.541Z"
   },
   {
    "duration": 14,
    "start_time": "2022-04-22T07:38:57.266Z"
   },
   {
    "duration": 789,
    "start_time": "2022-04-22T07:39:17.407Z"
   },
   {
    "duration": 1319,
    "start_time": "2022-04-22T07:39:26.558Z"
   },
   {
    "duration": 1624,
    "start_time": "2022-04-22T07:42:23.663Z"
   },
   {
    "duration": 2084,
    "start_time": "2022-04-22T07:42:31.760Z"
   },
   {
    "duration": 2858,
    "start_time": "2022-04-22T07:43:23.395Z"
   },
   {
    "duration": 2385,
    "start_time": "2022-04-22T07:43:26.257Z"
   },
   {
    "duration": 45,
    "start_time": "2022-04-22T07:43:28.645Z"
   },
   {
    "duration": 48,
    "start_time": "2022-04-22T07:43:28.692Z"
   },
   {
    "duration": 214,
    "start_time": "2022-04-22T07:43:28.744Z"
   },
   {
    "duration": 38,
    "start_time": "2022-04-22T07:43:28.961Z"
   },
   {
    "duration": 23,
    "start_time": "2022-04-22T07:43:29.025Z"
   },
   {
    "duration": 41,
    "start_time": "2022-04-22T07:43:29.051Z"
   },
   {
    "duration": 70,
    "start_time": "2022-04-22T07:43:29.094Z"
   },
   {
    "duration": 70,
    "start_time": "2022-04-22T07:43:29.166Z"
   },
   {
    "duration": 222,
    "start_time": "2022-04-22T07:43:29.239Z"
   },
   {
    "duration": 4,
    "start_time": "2022-04-22T07:43:29.463Z"
   },
   {
    "duration": 27,
    "start_time": "2022-04-22T07:43:29.470Z"
   },
   {
    "duration": 14,
    "start_time": "2022-04-22T07:43:29.501Z"
   },
   {
    "duration": 12,
    "start_time": "2022-04-22T07:43:29.527Z"
   },
   {
    "duration": 8,
    "start_time": "2022-04-22T07:43:29.542Z"
   },
   {
    "duration": 189,
    "start_time": "2022-04-22T07:43:29.552Z"
   },
   {
    "duration": 11,
    "start_time": "2022-04-22T07:43:29.744Z"
   },
   {
    "duration": 27,
    "start_time": "2022-04-22T07:43:29.757Z"
   },
   {
    "duration": 42,
    "start_time": "2022-04-22T07:43:29.787Z"
   },
   {
    "duration": 19,
    "start_time": "2022-04-22T07:43:29.831Z"
   },
   {
    "duration": 8,
    "start_time": "2022-04-22T07:43:29.853Z"
   },
   {
    "duration": 2800,
    "start_time": "2022-04-22T07:43:29.864Z"
   },
   {
    "duration": 1677,
    "start_time": "2022-04-22T07:43:46.213Z"
   },
   {
    "duration": 1639,
    "start_time": "2022-04-22T07:44:43.650Z"
   },
   {
    "duration": 1842,
    "start_time": "2022-04-22T07:44:52.654Z"
   },
   {
    "duration": 1755,
    "start_time": "2022-04-22T07:45:03.233Z"
   },
   {
    "duration": 1718,
    "start_time": "2022-04-22T07:45:12.168Z"
   },
   {
    "duration": 1720,
    "start_time": "2022-04-22T07:45:23.660Z"
   },
   {
    "duration": 1719,
    "start_time": "2022-04-22T07:50:55.668Z"
   },
   {
    "duration": 2369,
    "start_time": "2022-04-22T07:51:11.276Z"
   },
   {
    "duration": 862,
    "start_time": "2022-04-22T07:51:13.648Z"
   },
   {
    "duration": 47,
    "start_time": "2022-04-22T07:51:14.512Z"
   },
   {
    "duration": 27,
    "start_time": "2022-04-22T07:51:14.561Z"
   },
   {
    "duration": 226,
    "start_time": "2022-04-22T07:51:14.591Z"
   },
   {
    "duration": 42,
    "start_time": "2022-04-22T07:51:14.825Z"
   },
   {
    "duration": 22,
    "start_time": "2022-04-22T07:51:14.869Z"
   },
   {
    "duration": 64,
    "start_time": "2022-04-22T07:51:14.893Z"
   },
   {
    "duration": 35,
    "start_time": "2022-04-22T07:51:14.960Z"
   },
   {
    "duration": 62,
    "start_time": "2022-04-22T07:51:14.997Z"
   },
   {
    "duration": 248,
    "start_time": "2022-04-22T07:51:15.063Z"
   },
   {
    "duration": 11,
    "start_time": "2022-04-22T07:51:15.314Z"
   },
   {
    "duration": 21,
    "start_time": "2022-04-22T07:51:15.327Z"
   },
   {
    "duration": 6,
    "start_time": "2022-04-22T07:51:15.354Z"
   },
   {
    "duration": 15,
    "start_time": "2022-04-22T07:51:15.362Z"
   },
   {
    "duration": 8,
    "start_time": "2022-04-22T07:51:15.379Z"
   },
   {
    "duration": 140,
    "start_time": "2022-04-22T07:51:15.389Z"
   },
   {
    "duration": 11,
    "start_time": "2022-04-22T07:51:15.531Z"
   },
   {
    "duration": 23,
    "start_time": "2022-04-22T07:51:15.544Z"
   },
   {
    "duration": 22,
    "start_time": "2022-04-22T07:51:15.569Z"
   },
   {
    "duration": 43,
    "start_time": "2022-04-22T07:51:15.593Z"
   },
   {
    "duration": 9,
    "start_time": "2022-04-22T07:51:15.638Z"
   },
   {
    "duration": 1947,
    "start_time": "2022-04-22T07:51:15.649Z"
   },
   {
    "duration": 1892,
    "start_time": "2022-04-22T07:51:50.677Z"
   },
   {
    "duration": 1751,
    "start_time": "2022-04-22T07:52:00.676Z"
   },
   {
    "duration": 1766,
    "start_time": "2022-04-22T07:52:08.636Z"
   },
   {
    "duration": 1806,
    "start_time": "2022-04-22T07:52:16.742Z"
   },
   {
    "duration": 1793,
    "start_time": "2022-04-22T07:52:30.401Z"
   },
   {
    "duration": 1808,
    "start_time": "2022-04-22T07:52:34.083Z"
   },
   {
    "duration": 1807,
    "start_time": "2022-04-22T07:52:41.854Z"
   },
   {
    "duration": 1878,
    "start_time": "2022-04-22T07:54:49.432Z"
   },
   {
    "duration": 1857,
    "start_time": "2022-04-22T07:54:59.123Z"
   },
   {
    "duration": 1790,
    "start_time": "2022-04-22T07:55:14.844Z"
   },
   {
    "duration": 1878,
    "start_time": "2022-04-22T07:55:24.401Z"
   },
   {
    "duration": 1761,
    "start_time": "2022-04-22T07:55:30.480Z"
   },
   {
    "duration": 1772,
    "start_time": "2022-04-22T07:57:44.161Z"
   },
   {
    "duration": 1996,
    "start_time": "2022-04-22T07:58:22.882Z"
   },
   {
    "duration": 100,
    "start_time": "2022-04-22T07:58:48.729Z"
   },
   {
    "duration": 1794,
    "start_time": "2022-04-22T07:58:53.460Z"
   },
   {
    "duration": 2459,
    "start_time": "2022-04-22T08:00:33.614Z"
   },
   {
    "duration": 3390,
    "start_time": "2022-04-22T08:00:50.885Z"
   },
   {
    "duration": 93,
    "start_time": "2022-04-22T08:01:12.400Z"
   },
   {
    "duration": 1851,
    "start_time": "2022-04-22T08:01:16.409Z"
   },
   {
    "duration": 1796,
    "start_time": "2022-04-22T08:02:32.740Z"
   },
   {
    "duration": 1806,
    "start_time": "2022-04-22T08:03:49.959Z"
   },
   {
    "duration": 3176,
    "start_time": "2022-04-22T08:16:42.375Z"
   },
   {
    "duration": 2012,
    "start_time": "2022-04-22T08:16:59.270Z"
   },
   {
    "duration": 2418,
    "start_time": "2022-04-22T08:34:13.157Z"
   },
   {
    "duration": 2294,
    "start_time": "2022-04-22T08:34:32.381Z"
   },
   {
    "duration": 2503,
    "start_time": "2022-04-22T08:37:28.550Z"
   },
   {
    "duration": 968,
    "start_time": "2022-04-22T08:37:36.971Z"
   },
   {
    "duration": 766,
    "start_time": "2022-04-22T08:37:46.946Z"
   },
   {
    "duration": 964,
    "start_time": "2022-04-22T08:38:00.053Z"
   },
   {
    "duration": 1446,
    "start_time": "2022-04-22T08:38:13.066Z"
   },
   {
    "duration": 2400,
    "start_time": "2022-04-22T08:38:22.426Z"
   },
   {
    "duration": 763,
    "start_time": "2022-04-22T08:38:31.545Z"
   },
   {
    "duration": 728,
    "start_time": "2022-04-22T08:38:54.898Z"
   },
   {
    "duration": 753,
    "start_time": "2022-04-22T08:39:00.150Z"
   },
   {
    "duration": 1120,
    "start_time": "2022-04-22T08:39:06.846Z"
   },
   {
    "duration": 1422,
    "start_time": "2022-04-22T08:39:19.656Z"
   },
   {
    "duration": 1111,
    "start_time": "2022-04-22T08:39:35.818Z"
   },
   {
    "duration": 1258,
    "start_time": "2022-04-22T08:39:48.512Z"
   },
   {
    "duration": 748,
    "start_time": "2022-04-22T08:40:02.768Z"
   },
   {
    "duration": 1122,
    "start_time": "2022-04-22T08:40:19.244Z"
   },
   {
    "duration": 19,
    "start_time": "2022-04-22T08:40:42.512Z"
   },
   {
    "duration": 854,
    "start_time": "2022-04-22T08:40:53.823Z"
   },
   {
    "duration": 1074,
    "start_time": "2022-04-22T08:41:02.129Z"
   },
   {
    "duration": 1007,
    "start_time": "2022-04-22T08:41:12.668Z"
   },
   {
    "duration": 4444,
    "start_time": "2022-04-22T08:41:30.942Z"
   },
   {
    "duration": 1233,
    "start_time": "2022-04-22T08:41:38.620Z"
   },
   {
    "duration": 4005,
    "start_time": "2022-04-22T08:44:48.087Z"
   },
   {
    "duration": 1272,
    "start_time": "2022-04-22T08:44:52.096Z"
   },
   {
    "duration": 83,
    "start_time": "2022-04-22T08:44:53.371Z"
   },
   {
    "duration": 42,
    "start_time": "2022-04-22T08:44:53.457Z"
   },
   {
    "duration": 264,
    "start_time": "2022-04-22T08:44:53.524Z"
   },
   {
    "duration": 72,
    "start_time": "2022-04-22T08:44:53.791Z"
   },
   {
    "duration": 31,
    "start_time": "2022-04-22T08:44:53.866Z"
   },
   {
    "duration": 71,
    "start_time": "2022-04-22T08:44:53.900Z"
   },
   {
    "duration": 78,
    "start_time": "2022-04-22T08:44:53.974Z"
   },
   {
    "duration": 41,
    "start_time": "2022-04-22T08:44:54.055Z"
   },
   {
    "duration": 204,
    "start_time": "2022-04-22T08:44:54.098Z"
   },
   {
    "duration": 4,
    "start_time": "2022-04-22T08:44:54.304Z"
   },
   {
    "duration": 22,
    "start_time": "2022-04-22T08:44:54.311Z"
   },
   {
    "duration": 6,
    "start_time": "2022-04-22T08:44:54.337Z"
   },
   {
    "duration": 28,
    "start_time": "2022-04-22T08:44:54.345Z"
   },
   {
    "duration": 9,
    "start_time": "2022-04-22T08:44:54.376Z"
   },
   {
    "duration": 145,
    "start_time": "2022-04-22T08:44:54.387Z"
   },
   {
    "duration": 11,
    "start_time": "2022-04-22T08:44:54.534Z"
   },
   {
    "duration": 31,
    "start_time": "2022-04-22T08:44:54.547Z"
   },
   {
    "duration": 16,
    "start_time": "2022-04-22T08:44:54.580Z"
   },
   {
    "duration": 41,
    "start_time": "2022-04-22T08:44:54.599Z"
   },
   {
    "duration": 9,
    "start_time": "2022-04-22T08:44:54.642Z"
   },
   {
    "duration": 1919,
    "start_time": "2022-04-22T08:44:54.654Z"
   },
   {
    "duration": 1883,
    "start_time": "2022-04-22T08:44:56.576Z"
   },
   {
    "duration": 1820,
    "start_time": "2022-04-22T08:44:58.461Z"
   },
   {
    "duration": 0,
    "start_time": "2022-04-22T08:58:00.947Z"
   },
   {
    "duration": 2036,
    "start_time": "2022-04-22T08:58:11.718Z"
   },
   {
    "duration": 886,
    "start_time": "2022-04-22T08:58:13.757Z"
   },
   {
    "duration": 43,
    "start_time": "2022-04-22T08:58:14.645Z"
   },
   {
    "duration": 55,
    "start_time": "2022-04-22T08:58:14.690Z"
   },
   {
    "duration": 207,
    "start_time": "2022-04-22T08:58:14.749Z"
   },
   {
    "duration": 38,
    "start_time": "2022-04-22T08:58:14.959Z"
   },
   {
    "duration": 50,
    "start_time": "2022-04-22T08:58:14.999Z"
   },
   {
    "duration": 41,
    "start_time": "2022-04-22T08:58:15.052Z"
   },
   {
    "duration": 60,
    "start_time": "2022-04-22T08:58:15.096Z"
   },
   {
    "duration": 30,
    "start_time": "2022-04-22T08:58:15.159Z"
   },
   {
    "duration": 227,
    "start_time": "2022-04-22T08:58:15.192Z"
   },
   {
    "duration": 7,
    "start_time": "2022-04-22T08:58:15.425Z"
   },
   {
    "duration": 27,
    "start_time": "2022-04-22T08:58:15.435Z"
   },
   {
    "duration": 5,
    "start_time": "2022-04-22T08:58:15.466Z"
   },
   {
    "duration": 27,
    "start_time": "2022-04-22T08:58:15.473Z"
   },
   {
    "duration": 7,
    "start_time": "2022-04-22T08:58:15.503Z"
   },
   {
    "duration": 117,
    "start_time": "2022-04-22T08:58:15.513Z"
   },
   {
    "duration": 16,
    "start_time": "2022-04-22T08:58:15.632Z"
   },
   {
    "duration": 23,
    "start_time": "2022-04-22T08:58:15.650Z"
   },
   {
    "duration": 28,
    "start_time": "2022-04-22T08:58:15.676Z"
   },
   {
    "duration": 33,
    "start_time": "2022-04-22T08:58:15.706Z"
   },
   {
    "duration": 8,
    "start_time": "2022-04-22T08:58:15.742Z"
   },
   {
    "duration": 1920,
    "start_time": "2022-04-22T08:58:15.753Z"
   },
   {
    "duration": 1788,
    "start_time": "2022-04-22T08:58:17.676Z"
   },
   {
    "duration": 1678,
    "start_time": "2022-04-22T08:58:19.466Z"
   },
   {
    "duration": 936,
    "start_time": "2022-04-22T08:58:21.147Z"
   },
   {
    "duration": 6,
    "start_time": "2022-04-22T09:07:57.912Z"
   },
   {
    "duration": 5,
    "start_time": "2022-04-22T09:08:28.874Z"
   },
   {
    "duration": 6,
    "start_time": "2022-04-22T09:11:22.914Z"
   },
   {
    "duration": 179,
    "start_time": "2022-04-22T09:15:49.281Z"
   },
   {
    "duration": 3705,
    "start_time": "2022-04-22T09:16:01.162Z"
   },
   {
    "duration": 1640,
    "start_time": "2022-04-22T09:16:04.870Z"
   },
   {
    "duration": 50,
    "start_time": "2022-04-22T09:16:06.513Z"
   },
   {
    "duration": 27,
    "start_time": "2022-04-22T09:16:06.565Z"
   },
   {
    "duration": 228,
    "start_time": "2022-04-22T09:16:06.596Z"
   },
   {
    "duration": 37,
    "start_time": "2022-04-22T09:16:06.827Z"
   },
   {
    "duration": 27,
    "start_time": "2022-04-22T09:16:06.867Z"
   },
   {
    "duration": 59,
    "start_time": "2022-04-22T09:16:06.896Z"
   },
   {
    "duration": 39,
    "start_time": "2022-04-22T09:16:06.958Z"
   },
   {
    "duration": 29,
    "start_time": "2022-04-22T09:16:07.024Z"
   },
   {
    "duration": 208,
    "start_time": "2022-04-22T09:16:07.055Z"
   },
   {
    "duration": 4,
    "start_time": "2022-04-22T09:16:07.266Z"
   },
   {
    "duration": 22,
    "start_time": "2022-04-22T09:16:07.273Z"
   },
   {
    "duration": 5,
    "start_time": "2022-04-22T09:16:07.302Z"
   },
   {
    "duration": 15,
    "start_time": "2022-04-22T09:16:07.325Z"
   },
   {
    "duration": 7,
    "start_time": "2022-04-22T09:16:07.343Z"
   },
   {
    "duration": 158,
    "start_time": "2022-04-22T09:16:07.353Z"
   },
   {
    "duration": 12,
    "start_time": "2022-04-22T09:16:07.514Z"
   },
   {
    "duration": 22,
    "start_time": "2022-04-22T09:16:07.528Z"
   },
   {
    "duration": 28,
    "start_time": "2022-04-22T09:16:07.552Z"
   },
   {
    "duration": 46,
    "start_time": "2022-04-22T09:16:07.582Z"
   },
   {
    "duration": 9,
    "start_time": "2022-04-22T09:16:07.630Z"
   },
   {
    "duration": 1752,
    "start_time": "2022-04-22T09:16:07.641Z"
   },
   {
    "duration": 1823,
    "start_time": "2022-04-22T09:16:09.396Z"
   },
   {
    "duration": 1759,
    "start_time": "2022-04-22T09:16:11.225Z"
   },
   {
    "duration": 1056,
    "start_time": "2022-04-22T09:16:12.987Z"
   },
   {
    "duration": 6,
    "start_time": "2022-04-22T09:16:14.045Z"
   },
   {
    "duration": 11,
    "start_time": "2022-04-22T09:16:14.053Z"
   },
   {
    "duration": 7,
    "start_time": "2022-04-22T09:16:14.066Z"
   },
   {
    "duration": 8,
    "start_time": "2022-04-22T09:16:14.075Z"
   },
   {
    "duration": 2591,
    "start_time": "2022-04-22T09:16:14.085Z"
   },
   {
    "duration": 4541,
    "start_time": "2022-04-22T09:17:31.606Z"
   },
   {
    "duration": 1948,
    "start_time": "2022-04-22T09:17:52.868Z"
   },
   {
    "duration": 2663,
    "start_time": "2022-04-22T09:19:35.420Z"
   },
   {
    "duration": 3412,
    "start_time": "2022-04-22T09:19:52.027Z"
   },
   {
    "duration": 2681,
    "start_time": "2022-04-22T09:20:02.764Z"
   },
   {
    "duration": 193,
    "start_time": "2022-04-22T09:23:15.063Z"
   },
   {
    "duration": 21,
    "start_time": "2022-04-22T09:23:37.320Z"
   },
   {
    "duration": 3038,
    "start_time": "2022-04-22T09:24:15.170Z"
   },
   {
    "duration": 1037,
    "start_time": "2022-04-22T09:24:18.217Z"
   },
   {
    "duration": 79,
    "start_time": "2022-04-22T09:24:19.258Z"
   },
   {
    "duration": 34,
    "start_time": "2022-04-22T09:24:19.340Z"
   },
   {
    "duration": 249,
    "start_time": "2022-04-22T09:24:19.380Z"
   },
   {
    "duration": 53,
    "start_time": "2022-04-22T09:24:19.634Z"
   },
   {
    "duration": 48,
    "start_time": "2022-04-22T09:24:19.690Z"
   },
   {
    "duration": 48,
    "start_time": "2022-04-22T09:24:19.742Z"
   },
   {
    "duration": 86,
    "start_time": "2022-04-22T09:24:19.793Z"
   },
   {
    "duration": 48,
    "start_time": "2022-04-22T09:24:19.882Z"
   },
   {
    "duration": 269,
    "start_time": "2022-04-22T09:24:19.934Z"
   },
   {
    "duration": 5,
    "start_time": "2022-04-22T09:24:20.207Z"
   },
   {
    "duration": 27,
    "start_time": "2022-04-22T09:24:20.216Z"
   },
   {
    "duration": 13,
    "start_time": "2022-04-22T09:24:20.255Z"
   },
   {
    "duration": 25,
    "start_time": "2022-04-22T09:24:20.272Z"
   },
   {
    "duration": 11,
    "start_time": "2022-04-22T09:24:20.326Z"
   },
   {
    "duration": 208,
    "start_time": "2022-04-22T09:24:20.341Z"
   },
   {
    "duration": 14,
    "start_time": "2022-04-22T09:24:20.552Z"
   },
   {
    "duration": 25,
    "start_time": "2022-04-22T09:24:20.569Z"
   },
   {
    "duration": 76,
    "start_time": "2022-04-22T09:24:20.596Z"
   },
   {
    "duration": 32,
    "start_time": "2022-04-22T09:24:20.675Z"
   },
   {
    "duration": 12,
    "start_time": "2022-04-22T09:24:20.711Z"
   },
   {
    "duration": 2205,
    "start_time": "2022-04-22T09:24:20.732Z"
   },
   {
    "duration": 1983,
    "start_time": "2022-04-22T09:24:22.943Z"
   },
   {
    "duration": 2900,
    "start_time": "2022-04-22T09:24:24.932Z"
   },
   {
    "duration": 2119,
    "start_time": "2022-04-22T09:24:27.836Z"
   },
   {
    "duration": 8,
    "start_time": "2022-04-22T09:24:29.957Z"
   },
   {
    "duration": 2778,
    "start_time": "2022-04-22T09:24:29.969Z"
   },
   {
    "duration": 0,
    "start_time": "2022-04-22T09:24:32.751Z"
   },
   {
    "duration": 0,
    "start_time": "2022-04-22T09:24:32.754Z"
   },
   {
    "duration": 0,
    "start_time": "2022-04-22T09:24:32.756Z"
   },
   {
    "duration": 22,
    "start_time": "2022-04-22T09:26:13.788Z"
   },
   {
    "duration": 2248,
    "start_time": "2022-04-22T09:28:07.943Z"
   },
   {
    "duration": 1010,
    "start_time": "2022-04-22T09:28:10.194Z"
   },
   {
    "duration": 61,
    "start_time": "2022-04-22T09:28:11.206Z"
   },
   {
    "duration": 61,
    "start_time": "2022-04-22T09:28:11.269Z"
   },
   {
    "duration": 251,
    "start_time": "2022-04-22T09:28:11.334Z"
   },
   {
    "duration": 60,
    "start_time": "2022-04-22T09:28:11.587Z"
   },
   {
    "duration": 27,
    "start_time": "2022-04-22T09:28:11.650Z"
   },
   {
    "duration": 59,
    "start_time": "2022-04-22T09:28:11.680Z"
   },
   {
    "duration": 61,
    "start_time": "2022-04-22T09:28:11.742Z"
   },
   {
    "duration": 55,
    "start_time": "2022-04-22T09:28:11.806Z"
   },
   {
    "duration": 192,
    "start_time": "2022-04-22T09:28:11.863Z"
   },
   {
    "duration": 5,
    "start_time": "2022-04-22T09:28:12.057Z"
   },
   {
    "duration": 20,
    "start_time": "2022-04-22T09:28:12.064Z"
   },
   {
    "duration": 7,
    "start_time": "2022-04-22T09:28:12.090Z"
   },
   {
    "duration": 27,
    "start_time": "2022-04-22T09:28:12.100Z"
   },
   {
    "duration": 8,
    "start_time": "2022-04-22T09:28:12.131Z"
   },
   {
    "duration": 166,
    "start_time": "2022-04-22T09:28:12.142Z"
   },
   {
    "duration": 18,
    "start_time": "2022-04-22T09:28:12.310Z"
   },
   {
    "duration": 25,
    "start_time": "2022-04-22T09:28:12.331Z"
   },
   {
    "duration": 77,
    "start_time": "2022-04-22T09:28:12.360Z"
   },
   {
    "duration": 21,
    "start_time": "2022-04-22T09:28:12.441Z"
   },
   {
    "duration": 9,
    "start_time": "2022-04-22T09:28:12.465Z"
   },
   {
    "duration": 2106,
    "start_time": "2022-04-22T09:28:12.476Z"
   },
   {
    "duration": 1905,
    "start_time": "2022-04-22T09:28:14.585Z"
   },
   {
    "duration": 1690,
    "start_time": "2022-04-22T09:28:16.494Z"
   },
   {
    "duration": 1315,
    "start_time": "2022-04-22T09:28:18.186Z"
   },
   {
    "duration": 39,
    "start_time": "2022-04-22T09:28:19.504Z"
   },
   {
    "duration": 6,
    "start_time": "2022-04-22T09:28:19.547Z"
   },
   {
    "duration": 18,
    "start_time": "2022-04-22T09:28:19.556Z"
   },
   {
    "duration": 3397,
    "start_time": "2022-04-22T09:28:19.577Z"
   },
   {
    "duration": 0,
    "start_time": "2022-04-22T09:28:22.977Z"
   },
   {
    "duration": 0,
    "start_time": "2022-04-22T09:28:22.981Z"
   },
   {
    "duration": 2247,
    "start_time": "2022-04-22T09:39:35.061Z"
   },
   {
    "duration": 1263,
    "start_time": "2022-04-22T09:39:37.312Z"
   },
   {
    "duration": 79,
    "start_time": "2022-04-22T09:39:38.578Z"
   },
   {
    "duration": 41,
    "start_time": "2022-04-22T09:39:38.659Z"
   },
   {
    "duration": 252,
    "start_time": "2022-04-22T09:39:38.726Z"
   },
   {
    "duration": 58,
    "start_time": "2022-04-22T09:39:38.982Z"
   },
   {
    "duration": 29,
    "start_time": "2022-04-22T09:39:39.043Z"
   },
   {
    "duration": 73,
    "start_time": "2022-04-22T09:39:39.075Z"
   },
   {
    "duration": 40,
    "start_time": "2022-04-22T09:39:39.151Z"
   },
   {
    "duration": 48,
    "start_time": "2022-04-22T09:39:39.193Z"
   },
   {
    "duration": 219,
    "start_time": "2022-04-22T09:39:39.245Z"
   },
   {
    "duration": 5,
    "start_time": "2022-04-22T09:39:39.467Z"
   },
   {
    "duration": 17,
    "start_time": "2022-04-22T09:39:39.475Z"
   },
   {
    "duration": 6,
    "start_time": "2022-04-22T09:39:39.496Z"
   },
   {
    "duration": 36,
    "start_time": "2022-04-22T09:39:39.505Z"
   },
   {
    "duration": 30,
    "start_time": "2022-04-22T09:39:39.543Z"
   },
   {
    "duration": 162,
    "start_time": "2022-04-22T09:39:39.576Z"
   },
   {
    "duration": 16,
    "start_time": "2022-04-22T09:39:39.741Z"
   },
   {
    "duration": 30,
    "start_time": "2022-04-22T09:39:39.761Z"
   },
   {
    "duration": 45,
    "start_time": "2022-04-22T09:39:39.794Z"
   },
   {
    "duration": 27,
    "start_time": "2022-04-22T09:39:39.842Z"
   },
   {
    "duration": 10,
    "start_time": "2022-04-22T09:39:39.872Z"
   },
   {
    "duration": 1941,
    "start_time": "2022-04-22T09:39:39.884Z"
   },
   {
    "duration": 1887,
    "start_time": "2022-04-22T09:39:41.828Z"
   },
   {
    "duration": 1666,
    "start_time": "2022-04-22T09:39:43.718Z"
   },
   {
    "duration": 1058,
    "start_time": "2022-04-22T09:39:45.386Z"
   },
   {
    "duration": 8,
    "start_time": "2022-04-22T09:39:46.448Z"
   },
   {
    "duration": 9,
    "start_time": "2022-04-22T09:39:46.461Z"
   },
   {
    "duration": 10,
    "start_time": "2022-04-22T09:39:46.473Z"
   },
   {
    "duration": 6,
    "start_time": "2022-04-22T09:39:46.485Z"
   },
   {
    "duration": 2479,
    "start_time": "2022-04-22T09:39:46.493Z"
   },
   {
    "duration": 28,
    "start_time": "2022-04-22T09:41:08.561Z"
   },
   {
    "duration": 7,
    "start_time": "2022-04-22T09:42:01.089Z"
   },
   {
    "duration": 706,
    "start_time": "2022-04-22T09:42:23.296Z"
   },
   {
    "duration": 7,
    "start_time": "2022-04-22T09:43:01.150Z"
   },
   {
    "duration": 670,
    "start_time": "2022-04-22T09:43:02.346Z"
   },
   {
    "duration": 6,
    "start_time": "2022-04-22T09:48:20.414Z"
   },
   {
    "duration": 2047,
    "start_time": "2022-04-22T09:48:21.215Z"
   },
   {
    "duration": 763,
    "start_time": "2022-04-22T09:48:34.083Z"
   },
   {
    "duration": 291,
    "start_time": "2022-04-22T09:48:42.071Z"
   },
   {
    "duration": 23,
    "start_time": "2022-04-22T09:48:48.279Z"
   },
   {
    "duration": 1023,
    "start_time": "2022-04-22T09:48:57.772Z"
   },
   {
    "duration": 7,
    "start_time": "2022-04-22T09:49:05.547Z"
   },
   {
    "duration": 1782,
    "start_time": "2022-04-22T09:49:06.566Z"
   },
   {
    "duration": 562,
    "start_time": "2022-04-22T09:49:11.557Z"
   },
   {
    "duration": 540,
    "start_time": "2022-04-22T09:49:38.649Z"
   },
   {
    "duration": 63,
    "start_time": "2022-04-22T09:53:46.567Z"
   },
   {
    "duration": 11,
    "start_time": "2022-04-22T09:57:04.404Z"
   },
   {
    "duration": 14,
    "start_time": "2022-04-22T09:57:10.092Z"
   },
   {
    "duration": 842,
    "start_time": "2022-04-22T09:57:19.532Z"
   },
   {
    "duration": 15,
    "start_time": "2022-04-22T09:57:50.583Z"
   },
   {
    "duration": 6,
    "start_time": "2022-04-22T09:57:52.607Z"
   },
   {
    "duration": 743,
    "start_time": "2022-04-22T09:57:54.546Z"
   },
   {
    "duration": 18,
    "start_time": "2022-04-22T09:59:18.184Z"
   },
   {
    "duration": 2452,
    "start_time": "2022-04-22T10:00:57.754Z"
   },
   {
    "duration": 932,
    "start_time": "2022-04-22T10:01:00.209Z"
   },
   {
    "duration": 48,
    "start_time": "2022-04-22T10:01:01.145Z"
   },
   {
    "duration": 66,
    "start_time": "2022-04-22T10:01:01.196Z"
   },
   {
    "duration": 263,
    "start_time": "2022-04-22T10:01:01.266Z"
   },
   {
    "duration": 51,
    "start_time": "2022-04-22T10:01:01.535Z"
   },
   {
    "duration": 38,
    "start_time": "2022-04-22T10:01:01.588Z"
   },
   {
    "duration": 43,
    "start_time": "2022-04-22T10:01:01.630Z"
   },
   {
    "duration": 87,
    "start_time": "2022-04-22T10:01:01.675Z"
   },
   {
    "duration": 34,
    "start_time": "2022-04-22T10:01:01.764Z"
   },
   {
    "duration": 182,
    "start_time": "2022-04-22T10:01:01.800Z"
   },
   {
    "duration": 4,
    "start_time": "2022-04-22T10:01:01.985Z"
   },
   {
    "duration": 19,
    "start_time": "2022-04-22T10:01:01.992Z"
   },
   {
    "duration": 7,
    "start_time": "2022-04-22T10:01:02.034Z"
   },
   {
    "duration": 40,
    "start_time": "2022-04-22T10:01:02.044Z"
   },
   {
    "duration": 15,
    "start_time": "2022-04-22T10:01:02.086Z"
   },
   {
    "duration": 165,
    "start_time": "2022-04-22T10:01:02.103Z"
   },
   {
    "duration": 4,
    "start_time": "2022-04-22T10:01:02.271Z"
   },
   {
    "duration": 22,
    "start_time": "2022-04-22T10:01:02.278Z"
   },
   {
    "duration": 44,
    "start_time": "2022-04-22T10:01:02.303Z"
   },
   {
    "duration": 26,
    "start_time": "2022-04-22T10:01:02.351Z"
   },
   {
    "duration": 12,
    "start_time": "2022-04-22T10:01:02.379Z"
   },
   {
    "duration": 1849,
    "start_time": "2022-04-22T10:01:02.394Z"
   },
   {
    "duration": 1877,
    "start_time": "2022-04-22T10:01:04.260Z"
   },
   {
    "duration": 1761,
    "start_time": "2022-04-22T10:01:06.141Z"
   },
   {
    "duration": 1008,
    "start_time": "2022-04-22T10:01:07.905Z"
   },
   {
    "duration": 15,
    "start_time": "2022-04-22T10:01:08.916Z"
   },
   {
    "duration": 19,
    "start_time": "2022-04-22T10:01:08.934Z"
   },
   {
    "duration": 22,
    "start_time": "2022-04-22T10:01:08.957Z"
   },
   {
    "duration": 16,
    "start_time": "2022-04-22T10:01:08.982Z"
   },
   {
    "duration": 2236,
    "start_time": "2022-04-22T10:01:09.001Z"
   },
   {
    "duration": 11,
    "start_time": "2022-04-22T10:01:11.240Z"
   },
   {
    "duration": 888,
    "start_time": "2022-04-22T10:01:11.255Z"
   },
   {
    "duration": 14,
    "start_time": "2022-04-22T10:01:12.153Z"
   },
   {
    "duration": 230,
    "start_time": "2022-04-22T10:01:12.169Z"
   },
   {
    "duration": 3393,
    "start_time": "2022-04-22T10:02:13.952Z"
   },
   {
    "duration": 1969,
    "start_time": "2022-04-22T10:02:17.349Z"
   },
   {
    "duration": 61,
    "start_time": "2022-04-22T10:02:19.321Z"
   },
   {
    "duration": 45,
    "start_time": "2022-04-22T10:02:19.384Z"
   },
   {
    "duration": 232,
    "start_time": "2022-04-22T10:02:19.437Z"
   },
   {
    "duration": 65,
    "start_time": "2022-04-22T10:02:19.673Z"
   },
   {
    "duration": 31,
    "start_time": "2022-04-22T10:02:19.741Z"
   },
   {
    "duration": 66,
    "start_time": "2022-04-22T10:02:19.774Z"
   },
   {
    "duration": 44,
    "start_time": "2022-04-22T10:02:19.843Z"
   },
   {
    "duration": 47,
    "start_time": "2022-04-22T10:02:19.890Z"
   },
   {
    "duration": 199,
    "start_time": "2022-04-22T10:02:19.940Z"
   },
   {
    "duration": 7,
    "start_time": "2022-04-22T10:02:20.143Z"
   },
   {
    "duration": 26,
    "start_time": "2022-04-22T10:02:20.158Z"
   },
   {
    "duration": 8,
    "start_time": "2022-04-22T10:02:20.190Z"
   },
   {
    "duration": 31,
    "start_time": "2022-04-22T10:02:20.201Z"
   },
   {
    "duration": 8,
    "start_time": "2022-04-22T10:02:20.235Z"
   },
   {
    "duration": 180,
    "start_time": "2022-04-22T10:02:20.248Z"
   },
   {
    "duration": 4,
    "start_time": "2022-04-22T10:02:20.431Z"
   },
   {
    "duration": 58,
    "start_time": "2022-04-22T10:02:20.438Z"
   },
   {
    "duration": 18,
    "start_time": "2022-04-22T10:02:20.500Z"
   },
   {
    "duration": 33,
    "start_time": "2022-04-22T10:02:20.524Z"
   },
   {
    "duration": 15,
    "start_time": "2022-04-22T10:02:20.559Z"
   },
   {
    "duration": 1894,
    "start_time": "2022-04-22T10:02:20.579Z"
   },
   {
    "duration": 1860,
    "start_time": "2022-04-22T10:02:22.476Z"
   },
   {
    "duration": 2030,
    "start_time": "2022-04-22T10:02:24.342Z"
   },
   {
    "duration": 1281,
    "start_time": "2022-04-22T10:02:26.375Z"
   },
   {
    "duration": 9,
    "start_time": "2022-04-22T10:02:27.659Z"
   },
   {
    "duration": 9,
    "start_time": "2022-04-22T10:02:27.671Z"
   },
   {
    "duration": 8,
    "start_time": "2022-04-22T10:02:27.683Z"
   },
   {
    "duration": 12,
    "start_time": "2022-04-22T10:02:27.694Z"
   },
   {
    "duration": 2517,
    "start_time": "2022-04-22T10:02:27.709Z"
   },
   {
    "duration": 7,
    "start_time": "2022-04-22T10:02:30.229Z"
   },
   {
    "duration": 927,
    "start_time": "2022-04-22T10:02:30.239Z"
   },
   {
    "duration": 16,
    "start_time": "2022-04-22T10:02:31.169Z"
   },
   {
    "duration": 7,
    "start_time": "2022-04-22T10:02:31.189Z"
   },
   {
    "duration": 584,
    "start_time": "2022-04-22T10:02:31.199Z"
   },
   {
    "duration": 1876,
    "start_time": "2022-04-23T16:02:15.773Z"
   },
   {
    "duration": 848,
    "start_time": "2022-04-23T16:02:17.652Z"
   },
   {
    "duration": 40,
    "start_time": "2022-04-23T16:02:18.502Z"
   },
   {
    "duration": 16,
    "start_time": "2022-04-23T16:02:18.544Z"
   },
   {
    "duration": 126,
    "start_time": "2022-04-23T16:02:18.563Z"
   },
   {
    "duration": 22,
    "start_time": "2022-04-23T16:02:18.690Z"
   },
   {
    "duration": 25,
    "start_time": "2022-04-23T16:02:18.714Z"
   },
   {
    "duration": 32,
    "start_time": "2022-04-23T16:02:18.741Z"
   },
   {
    "duration": 58,
    "start_time": "2022-04-23T16:02:18.775Z"
   },
   {
    "duration": 18,
    "start_time": "2022-04-23T16:02:18.835Z"
   },
   {
    "duration": 104,
    "start_time": "2022-04-23T16:02:18.854Z"
   },
   {
    "duration": 3,
    "start_time": "2022-04-23T16:02:18.960Z"
   },
   {
    "duration": 13,
    "start_time": "2022-04-23T16:02:18.965Z"
   },
   {
    "duration": 3,
    "start_time": "2022-04-23T16:02:18.981Z"
   },
   {
    "duration": 7,
    "start_time": "2022-04-23T16:02:18.987Z"
   },
   {
    "duration": 33,
    "start_time": "2022-04-23T16:02:18.996Z"
   },
   {
    "duration": 104,
    "start_time": "2022-04-23T16:02:19.032Z"
   },
   {
    "duration": 4,
    "start_time": "2022-04-23T16:02:19.139Z"
   },
   {
    "duration": 20,
    "start_time": "2022-04-23T16:02:19.145Z"
   },
   {
    "duration": 11,
    "start_time": "2022-04-23T16:02:19.166Z"
   },
   {
    "duration": 20,
    "start_time": "2022-04-23T16:02:19.179Z"
   },
   {
    "duration": 32,
    "start_time": "2022-04-23T16:02:19.201Z"
   },
   {
    "duration": 1257,
    "start_time": "2022-04-23T16:02:19.235Z"
   },
   {
    "duration": 1382,
    "start_time": "2022-04-23T16:02:20.495Z"
   },
   {
    "duration": 1394,
    "start_time": "2022-04-23T16:02:21.879Z"
   },
   {
    "duration": 779,
    "start_time": "2022-04-23T16:02:23.275Z"
   },
   {
    "duration": 4,
    "start_time": "2022-04-23T16:02:24.055Z"
   },
   {
    "duration": 11,
    "start_time": "2022-04-23T16:02:24.061Z"
   },
   {
    "duration": 12,
    "start_time": "2022-04-23T16:02:24.073Z"
   },
   {
    "duration": 9,
    "start_time": "2022-04-23T16:02:24.087Z"
   },
   {
    "duration": 1405,
    "start_time": "2022-04-23T16:02:24.097Z"
   },
   {
    "duration": 4,
    "start_time": "2022-04-23T16:02:25.504Z"
   },
   {
    "duration": 561,
    "start_time": "2022-04-23T16:02:25.510Z"
   },
   {
    "duration": 7,
    "start_time": "2022-04-23T16:02:26.072Z"
   },
   {
    "duration": 13,
    "start_time": "2022-04-23T16:02:26.081Z"
   },
   {
    "duration": 273,
    "start_time": "2022-04-23T16:02:26.096Z"
   },
   {
    "duration": 12,
    "start_time": "2022-04-24T07:05:38.907Z"
   },
   {
    "duration": 65,
    "start_time": "2022-04-24T07:05:41.852Z"
   },
   {
    "duration": 3,
    "start_time": "2022-04-24T07:05:44.144Z"
   },
   {
    "duration": 3052,
    "start_time": "2022-04-24T07:06:15.309Z"
   },
   {
    "duration": 2085,
    "start_time": "2022-04-24T07:06:18.365Z"
   },
   {
    "duration": 170,
    "start_time": "2022-04-24T07:06:20.454Z"
   },
   {
    "duration": 41,
    "start_time": "2022-04-24T07:06:20.627Z"
   },
   {
    "duration": 298,
    "start_time": "2022-04-24T07:06:20.726Z"
   },
   {
    "duration": 59,
    "start_time": "2022-04-24T07:06:21.028Z"
   },
   {
    "duration": 60,
    "start_time": "2022-04-24T07:06:21.090Z"
   },
   {
    "duration": 73,
    "start_time": "2022-04-24T07:06:21.153Z"
   },
   {
    "duration": 60,
    "start_time": "2022-04-24T07:06:21.229Z"
   },
   {
    "duration": 68,
    "start_time": "2022-04-24T07:06:21.292Z"
   },
   {
    "duration": 204,
    "start_time": "2022-04-24T07:06:21.364Z"
   },
   {
    "duration": 5,
    "start_time": "2022-04-24T07:06:21.572Z"
   },
   {
    "duration": 14,
    "start_time": "2022-04-24T07:06:21.580Z"
   },
   {
    "duration": 7,
    "start_time": "2022-04-24T07:06:21.627Z"
   },
   {
    "duration": 26,
    "start_time": "2022-04-24T07:06:21.636Z"
   },
   {
    "duration": 6,
    "start_time": "2022-04-24T07:06:21.664Z"
   },
   {
    "duration": 154,
    "start_time": "2022-04-24T07:06:21.672Z"
   },
   {
    "duration": 4,
    "start_time": "2022-04-24T07:06:21.828Z"
   },
   {
    "duration": 24,
    "start_time": "2022-04-24T07:06:21.836Z"
   },
   {
    "duration": 20,
    "start_time": "2022-04-24T07:06:21.864Z"
   },
   {
    "duration": 49,
    "start_time": "2022-04-24T07:06:21.886Z"
   },
   {
    "duration": 12,
    "start_time": "2022-04-24T07:06:21.938Z"
   },
   {
    "duration": 2169,
    "start_time": "2022-04-24T07:06:21.953Z"
   },
   {
    "duration": 1731,
    "start_time": "2022-04-24T07:06:24.124Z"
   },
   {
    "duration": 1594,
    "start_time": "2022-04-24T07:06:25.858Z"
   },
   {
    "duration": 1346,
    "start_time": "2022-04-24T07:06:27.455Z"
   },
   {
    "duration": 8,
    "start_time": "2022-04-24T07:06:28.804Z"
   },
   {
    "duration": 30,
    "start_time": "2022-04-24T07:06:28.814Z"
   },
   {
    "duration": 14,
    "start_time": "2022-04-24T07:06:28.847Z"
   },
   {
    "duration": 14,
    "start_time": "2022-04-24T07:06:28.864Z"
   },
   {
    "duration": 2766,
    "start_time": "2022-04-24T07:06:28.881Z"
   },
   {
    "duration": 8,
    "start_time": "2022-04-24T07:06:31.650Z"
   },
   {
    "duration": 1029,
    "start_time": "2022-04-24T07:06:31.661Z"
   },
   {
    "duration": 15,
    "start_time": "2022-04-24T07:06:32.693Z"
   },
   {
    "duration": 7,
    "start_time": "2022-04-24T07:06:32.723Z"
   },
   {
    "duration": 483,
    "start_time": "2022-04-24T07:06:32.732Z"
   },
   {
    "duration": 6,
    "start_time": "2022-04-24T07:06:33.226Z"
   },
   {
    "duration": 12,
    "start_time": "2022-04-24T07:06:33.235Z"
   },
   {
    "duration": 9,
    "start_time": "2022-04-24T07:06:33.251Z"
   },
   {
    "duration": 4,
    "start_time": "2022-04-24T07:14:48.202Z"
   },
   {
    "duration": 2273,
    "start_time": "2022-04-24T07:36:54.152Z"
   },
   {
    "duration": 1537,
    "start_time": "2022-04-24T07:36:56.428Z"
   },
   {
    "duration": 161,
    "start_time": "2022-04-24T07:36:57.968Z"
   },
   {
    "duration": 93,
    "start_time": "2022-04-24T07:36:58.133Z"
   },
   {
    "duration": 397,
    "start_time": "2022-04-24T07:36:58.229Z"
   },
   {
    "duration": 38,
    "start_time": "2022-04-24T07:36:58.628Z"
   },
   {
    "duration": 78,
    "start_time": "2022-04-24T07:36:58.668Z"
   },
   {
    "duration": 89,
    "start_time": "2022-04-24T07:36:58.749Z"
   },
   {
    "duration": 89,
    "start_time": "2022-04-24T07:36:58.841Z"
   },
   {
    "duration": 27,
    "start_time": "2022-04-24T07:36:58.934Z"
   },
   {
    "duration": 375,
    "start_time": "2022-04-24T07:36:58.963Z"
   },
   {
    "duration": 4,
    "start_time": "2022-04-24T07:36:59.341Z"
   },
   {
    "duration": 15,
    "start_time": "2022-04-24T07:36:59.347Z"
   },
   {
    "duration": 5,
    "start_time": "2022-04-24T07:36:59.364Z"
   },
   {
    "duration": 62,
    "start_time": "2022-04-24T07:36:59.371Z"
   },
   {
    "duration": 5,
    "start_time": "2022-04-24T07:36:59.436Z"
   },
   {
    "duration": 282,
    "start_time": "2022-04-24T07:36:59.444Z"
   },
   {
    "duration": 29,
    "start_time": "2022-04-24T07:36:59.729Z"
   },
   {
    "duration": 72,
    "start_time": "2022-04-24T07:36:59.761Z"
   },
   {
    "duration": 27,
    "start_time": "2022-04-24T07:36:59.835Z"
   },
   {
    "duration": 77,
    "start_time": "2022-04-24T07:36:59.865Z"
   },
   {
    "duration": 2369,
    "start_time": "2022-04-24T07:36:59.944Z"
   },
   {
    "duration": 1536,
    "start_time": "2022-04-24T07:37:02.317Z"
   },
   {
    "duration": 1485,
    "start_time": "2022-04-24T07:37:03.856Z"
   },
   {
    "duration": 915,
    "start_time": "2022-04-24T07:37:05.343Z"
   },
   {
    "duration": 7,
    "start_time": "2022-04-24T07:37:06.261Z"
   },
   {
    "duration": 11,
    "start_time": "2022-04-24T07:37:06.270Z"
   },
   {
    "duration": 5,
    "start_time": "2022-04-24T07:37:06.289Z"
   },
   {
    "duration": 6,
    "start_time": "2022-04-24T07:37:06.324Z"
   },
   {
    "duration": 1866,
    "start_time": "2022-04-24T07:37:06.332Z"
   },
   {
    "duration": 7,
    "start_time": "2022-04-24T07:37:08.200Z"
   },
   {
    "duration": 847,
    "start_time": "2022-04-24T07:37:08.209Z"
   },
   {
    "duration": 12,
    "start_time": "2022-04-24T07:37:09.059Z"
   },
   {
    "duration": 9,
    "start_time": "2022-04-24T07:37:09.074Z"
   },
   {
    "duration": 478,
    "start_time": "2022-04-24T07:37:09.085Z"
   },
   {
    "duration": 5,
    "start_time": "2022-04-24T07:37:09.566Z"
   },
   {
    "duration": 9,
    "start_time": "2022-04-24T07:37:09.573Z"
   },
   {
    "duration": 10,
    "start_time": "2022-04-24T07:37:09.584Z"
   },
   {
    "duration": 32,
    "start_time": "2022-04-24T07:37:09.597Z"
   },
   {
    "duration": 7,
    "start_time": "2022-04-24T07:37:09.631Z"
   },
   {
    "duration": 6,
    "start_time": "2022-04-24T07:37:34.119Z"
   },
   {
    "duration": 11,
    "start_time": "2022-04-24T07:40:59.170Z"
   },
   {
    "duration": 276,
    "start_time": "2022-04-24T07:44:24.479Z"
   },
   {
    "duration": 15,
    "start_time": "2022-04-24T07:44:57.653Z"
   },
   {
    "duration": 6,
    "start_time": "2022-04-24T07:45:01.680Z"
   },
   {
    "duration": 6,
    "start_time": "2022-04-24T07:45:22.697Z"
   },
   {
    "duration": 15,
    "start_time": "2022-04-24T07:47:37.738Z"
   },
   {
    "duration": 6,
    "start_time": "2022-04-24T07:47:42.338Z"
   },
   {
    "duration": 6,
    "start_time": "2022-04-24T07:47:55.011Z"
   },
   {
    "duration": 12,
    "start_time": "2022-04-24T07:48:41.267Z"
   },
   {
    "duration": 12,
    "start_time": "2022-04-24T07:48:50.183Z"
   },
   {
    "duration": 93,
    "start_time": "2022-04-24T07:48:56.749Z"
   },
   {
    "duration": 11,
    "start_time": "2022-04-24T07:49:10.377Z"
   },
   {
    "duration": 2369,
    "start_time": "2022-04-24T07:49:38.115Z"
   },
   {
    "duration": 1249,
    "start_time": "2022-04-24T07:49:40.487Z"
   },
   {
    "duration": 108,
    "start_time": "2022-04-24T07:49:41.740Z"
   },
   {
    "duration": 87,
    "start_time": "2022-04-24T07:49:41.852Z"
   },
   {
    "duration": 513,
    "start_time": "2022-04-24T07:49:41.941Z"
   },
   {
    "duration": 106,
    "start_time": "2022-04-24T07:49:42.457Z"
   },
   {
    "duration": 75,
    "start_time": "2022-04-24T07:49:42.567Z"
   },
   {
    "duration": 93,
    "start_time": "2022-04-24T07:49:42.645Z"
   },
   {
    "duration": 110,
    "start_time": "2022-04-24T07:49:42.741Z"
   },
   {
    "duration": 91,
    "start_time": "2022-04-24T07:49:42.856Z"
   },
   {
    "duration": 396,
    "start_time": "2022-04-24T07:49:42.949Z"
   },
   {
    "duration": 5,
    "start_time": "2022-04-24T07:49:43.347Z"
   },
   {
    "duration": 21,
    "start_time": "2022-04-24T07:49:43.355Z"
   },
   {
    "duration": 6,
    "start_time": "2022-04-24T07:49:43.441Z"
   },
   {
    "duration": 19,
    "start_time": "2022-04-24T07:49:43.450Z"
   },
   {
    "duration": 10,
    "start_time": "2022-04-24T07:49:43.471Z"
   },
   {
    "duration": 6,
    "start_time": "2022-04-24T07:49:43.525Z"
   },
   {
    "duration": 626,
    "start_time": "2022-04-24T07:49:43.533Z"
   },
   {
    "duration": 0,
    "start_time": "2022-04-24T07:49:44.163Z"
   },
   {
    "duration": 0,
    "start_time": "2022-04-24T07:49:44.165Z"
   },
   {
    "duration": 0,
    "start_time": "2022-04-24T07:49:44.167Z"
   },
   {
    "duration": 0,
    "start_time": "2022-04-24T07:49:44.224Z"
   },
   {
    "duration": 0,
    "start_time": "2022-04-24T07:49:44.226Z"
   },
   {
    "duration": 0,
    "start_time": "2022-04-24T07:49:44.228Z"
   },
   {
    "duration": 0,
    "start_time": "2022-04-24T07:49:44.230Z"
   },
   {
    "duration": 0,
    "start_time": "2022-04-24T07:49:44.232Z"
   },
   {
    "duration": 0,
    "start_time": "2022-04-24T07:49:44.234Z"
   },
   {
    "duration": 0,
    "start_time": "2022-04-24T07:49:44.236Z"
   },
   {
    "duration": 0,
    "start_time": "2022-04-24T07:49:44.238Z"
   },
   {
    "duration": 0,
    "start_time": "2022-04-24T07:49:44.240Z"
   },
   {
    "duration": 0,
    "start_time": "2022-04-24T07:49:44.242Z"
   },
   {
    "duration": 0,
    "start_time": "2022-04-24T07:49:44.245Z"
   },
   {
    "duration": 0,
    "start_time": "2022-04-24T07:49:44.247Z"
   },
   {
    "duration": 0,
    "start_time": "2022-04-24T07:49:44.249Z"
   },
   {
    "duration": 0,
    "start_time": "2022-04-24T07:49:44.251Z"
   },
   {
    "duration": 0,
    "start_time": "2022-04-24T07:49:44.253Z"
   },
   {
    "duration": 0,
    "start_time": "2022-04-24T07:49:44.255Z"
   },
   {
    "duration": 0,
    "start_time": "2022-04-24T07:49:44.257Z"
   },
   {
    "duration": 0,
    "start_time": "2022-04-24T07:49:44.258Z"
   },
   {
    "duration": 1,
    "start_time": "2022-04-24T07:49:44.259Z"
   },
   {
    "duration": 0,
    "start_time": "2022-04-24T07:49:44.261Z"
   },
   {
    "duration": 0,
    "start_time": "2022-04-24T07:49:44.263Z"
   },
   {
    "duration": 0,
    "start_time": "2022-04-24T07:49:44.326Z"
   },
   {
    "duration": 0,
    "start_time": "2022-04-24T07:49:44.327Z"
   },
   {
    "duration": 0,
    "start_time": "2022-04-24T07:49:44.332Z"
   },
   {
    "duration": 0,
    "start_time": "2022-04-24T07:49:44.334Z"
   },
   {
    "duration": 40,
    "start_time": "2022-04-24T07:50:21.222Z"
   },
   {
    "duration": 6,
    "start_time": "2022-04-24T07:50:22.330Z"
   },
   {
    "duration": 2560,
    "start_time": "2022-04-24T07:50:36.876Z"
   },
   {
    "duration": 1728,
    "start_time": "2022-04-24T07:50:39.440Z"
   },
   {
    "duration": 111,
    "start_time": "2022-04-24T07:50:41.171Z"
   },
   {
    "duration": 57,
    "start_time": "2022-04-24T07:50:41.286Z"
   },
   {
    "duration": 201,
    "start_time": "2022-04-24T07:50:41.346Z"
   },
   {
    "duration": 42,
    "start_time": "2022-04-24T07:50:41.550Z"
   },
   {
    "duration": 54,
    "start_time": "2022-04-24T07:50:41.595Z"
   },
   {
    "duration": 51,
    "start_time": "2022-04-24T07:50:41.652Z"
   },
   {
    "duration": 47,
    "start_time": "2022-04-24T07:50:41.725Z"
   },
   {
    "duration": 48,
    "start_time": "2022-04-24T07:50:41.778Z"
   },
   {
    "duration": 260,
    "start_time": "2022-04-24T07:50:41.829Z"
   },
   {
    "duration": 4,
    "start_time": "2022-04-24T07:50:42.092Z"
   },
   {
    "duration": 34,
    "start_time": "2022-04-24T07:50:42.100Z"
   },
   {
    "duration": 7,
    "start_time": "2022-04-24T07:50:42.137Z"
   },
   {
    "duration": 24,
    "start_time": "2022-04-24T07:50:42.146Z"
   },
   {
    "duration": 27,
    "start_time": "2022-04-24T07:50:42.172Z"
   },
   {
    "duration": 24,
    "start_time": "2022-04-24T07:50:42.201Z"
   },
   {
    "duration": 49,
    "start_time": "2022-04-24T07:50:42.228Z"
   },
   {
    "duration": 8,
    "start_time": "2022-04-24T07:50:42.280Z"
   },
   {
    "duration": 137,
    "start_time": "2022-04-24T07:50:42.290Z"
   },
   {
    "duration": 21,
    "start_time": "2022-04-24T07:50:42.429Z"
   },
   {
    "duration": 38,
    "start_time": "2022-04-24T07:50:42.452Z"
   },
   {
    "duration": 31,
    "start_time": "2022-04-24T07:50:42.493Z"
   },
   {
    "duration": 11,
    "start_time": "2022-04-24T07:50:42.527Z"
   },
   {
    "duration": 1845,
    "start_time": "2022-04-24T07:50:42.540Z"
   },
   {
    "duration": 2036,
    "start_time": "2022-04-24T07:50:44.388Z"
   },
   {
    "duration": 2125,
    "start_time": "2022-04-24T07:50:46.427Z"
   },
   {
    "duration": 1232,
    "start_time": "2022-04-24T07:50:48.558Z"
   },
   {
    "duration": 7,
    "start_time": "2022-04-24T07:50:49.795Z"
   },
   {
    "duration": 30,
    "start_time": "2022-04-24T07:50:49.805Z"
   },
   {
    "duration": 17,
    "start_time": "2022-04-24T07:50:49.838Z"
   },
   {
    "duration": 11,
    "start_time": "2022-04-24T07:50:49.859Z"
   },
   {
    "duration": 2591,
    "start_time": "2022-04-24T07:50:49.873Z"
   },
   {
    "duration": 6,
    "start_time": "2022-04-24T07:50:52.468Z"
   },
   {
    "duration": 1035,
    "start_time": "2022-04-24T07:50:52.477Z"
   },
   {
    "duration": 36,
    "start_time": "2022-04-24T07:50:53.514Z"
   },
   {
    "duration": 6,
    "start_time": "2022-04-24T07:50:53.553Z"
   },
   {
    "duration": 549,
    "start_time": "2022-04-24T07:50:53.561Z"
   },
   {
    "duration": 17,
    "start_time": "2022-04-24T07:50:54.113Z"
   },
   {
    "duration": 22,
    "start_time": "2022-04-24T07:50:54.133Z"
   },
   {
    "duration": 9,
    "start_time": "2022-04-24T07:50:54.158Z"
   },
   {
    "duration": 16,
    "start_time": "2022-04-24T07:50:54.170Z"
   },
   {
    "duration": 10,
    "start_time": "2022-04-24T07:50:54.189Z"
   },
   {
    "duration": 224,
    "start_time": "2022-04-24T07:50:54.202Z"
   },
   {
    "duration": 0,
    "start_time": "2022-04-24T07:50:54.428Z"
   },
   {
    "duration": 1,
    "start_time": "2022-04-24T07:50:54.429Z"
   },
   {
    "duration": 2961,
    "start_time": "2022-04-24T07:51:31.194Z"
   },
   {
    "duration": 1754,
    "start_time": "2022-04-24T07:51:34.160Z"
   },
   {
    "duration": 54,
    "start_time": "2022-04-24T07:51:35.917Z"
   },
   {
    "duration": 25,
    "start_time": "2022-04-24T07:51:35.974Z"
   },
   {
    "duration": 227,
    "start_time": "2022-04-24T07:51:36.024Z"
   },
   {
    "duration": 41,
    "start_time": "2022-04-24T07:51:36.253Z"
   },
   {
    "duration": 54,
    "start_time": "2022-04-24T07:51:36.296Z"
   },
   {
    "duration": 57,
    "start_time": "2022-04-24T07:51:36.353Z"
   },
   {
    "duration": 62,
    "start_time": "2022-04-24T07:51:36.427Z"
   },
   {
    "duration": 55,
    "start_time": "2022-04-24T07:51:36.494Z"
   },
   {
    "duration": 258,
    "start_time": "2022-04-24T07:51:36.552Z"
   },
   {
    "duration": 4,
    "start_time": "2022-04-24T07:51:36.812Z"
   },
   {
    "duration": 14,
    "start_time": "2022-04-24T07:51:36.827Z"
   },
   {
    "duration": 12,
    "start_time": "2022-04-24T07:51:36.844Z"
   },
   {
    "duration": 16,
    "start_time": "2022-04-24T07:51:36.858Z"
   },
   {
    "duration": 13,
    "start_time": "2022-04-24T07:51:36.876Z"
   },
   {
    "duration": 39,
    "start_time": "2022-04-24T07:51:36.892Z"
   },
   {
    "duration": 151,
    "start_time": "2022-04-24T07:51:36.938Z"
   },
   {
    "duration": 198,
    "start_time": "2022-04-24T07:51:37.091Z"
   },
   {
    "duration": 0,
    "start_time": "2022-04-24T07:51:37.293Z"
   },
   {
    "duration": 0,
    "start_time": "2022-04-24T07:51:37.294Z"
   },
   {
    "duration": 0,
    "start_time": "2022-04-24T07:51:37.296Z"
   },
   {
    "duration": 0,
    "start_time": "2022-04-24T07:51:37.298Z"
   },
   {
    "duration": 1,
    "start_time": "2022-04-24T07:51:37.299Z"
   },
   {
    "duration": 0,
    "start_time": "2022-04-24T07:51:37.301Z"
   },
   {
    "duration": 0,
    "start_time": "2022-04-24T07:51:37.303Z"
   },
   {
    "duration": 0,
    "start_time": "2022-04-24T07:51:37.304Z"
   },
   {
    "duration": 0,
    "start_time": "2022-04-24T07:51:37.306Z"
   },
   {
    "duration": 0,
    "start_time": "2022-04-24T07:51:37.325Z"
   },
   {
    "duration": 0,
    "start_time": "2022-04-24T07:51:37.327Z"
   },
   {
    "duration": 0,
    "start_time": "2022-04-24T07:51:37.329Z"
   },
   {
    "duration": 0,
    "start_time": "2022-04-24T07:51:37.334Z"
   },
   {
    "duration": 0,
    "start_time": "2022-04-24T07:51:37.336Z"
   },
   {
    "duration": 0,
    "start_time": "2022-04-24T07:51:37.338Z"
   },
   {
    "duration": 0,
    "start_time": "2022-04-24T07:51:37.340Z"
   },
   {
    "duration": 0,
    "start_time": "2022-04-24T07:51:37.342Z"
   },
   {
    "duration": 0,
    "start_time": "2022-04-24T07:51:37.345Z"
   },
   {
    "duration": 0,
    "start_time": "2022-04-24T07:51:37.361Z"
   },
   {
    "duration": 0,
    "start_time": "2022-04-24T07:51:37.362Z"
   },
   {
    "duration": 0,
    "start_time": "2022-04-24T07:51:37.364Z"
   },
   {
    "duration": 0,
    "start_time": "2022-04-24T07:51:37.366Z"
   },
   {
    "duration": 0,
    "start_time": "2022-04-24T07:51:37.367Z"
   },
   {
    "duration": 0,
    "start_time": "2022-04-24T07:51:37.369Z"
   },
   {
    "duration": 0,
    "start_time": "2022-04-24T07:51:37.371Z"
   },
   {
    "duration": 0,
    "start_time": "2022-04-24T07:51:37.373Z"
   },
   {
    "duration": 0,
    "start_time": "2022-04-24T07:51:37.375Z"
   },
   {
    "duration": 7,
    "start_time": "2022-04-24T07:51:56.618Z"
   },
   {
    "duration": 5,
    "start_time": "2022-04-24T07:51:58.919Z"
   },
   {
    "duration": 2657,
    "start_time": "2022-04-24T07:52:08.611Z"
   },
   {
    "duration": 1379,
    "start_time": "2022-04-24T07:52:11.324Z"
   },
   {
    "duration": 48,
    "start_time": "2022-04-24T07:52:12.706Z"
   },
   {
    "duration": 27,
    "start_time": "2022-04-24T07:52:12.757Z"
   },
   {
    "duration": 224,
    "start_time": "2022-04-24T07:52:12.787Z"
   },
   {
    "duration": 45,
    "start_time": "2022-04-24T07:52:13.013Z"
   },
   {
    "duration": 29,
    "start_time": "2022-04-24T07:52:13.060Z"
   },
   {
    "duration": 60,
    "start_time": "2022-04-24T07:52:13.091Z"
   },
   {
    "duration": 38,
    "start_time": "2022-04-24T07:52:13.153Z"
   },
   {
    "duration": 50,
    "start_time": "2022-04-24T07:52:13.195Z"
   },
   {
    "duration": 194,
    "start_time": "2022-04-24T07:52:13.247Z"
   },
   {
    "duration": 6,
    "start_time": "2022-04-24T07:52:13.443Z"
   },
   {
    "duration": 18,
    "start_time": "2022-04-24T07:52:13.451Z"
   },
   {
    "duration": 5,
    "start_time": "2022-04-24T07:52:13.472Z"
   },
   {
    "duration": 45,
    "start_time": "2022-04-24T07:52:13.479Z"
   },
   {
    "duration": 6,
    "start_time": "2022-04-24T07:52:13.527Z"
   },
   {
    "duration": 7,
    "start_time": "2022-04-24T07:52:13.535Z"
   },
   {
    "duration": 136,
    "start_time": "2022-04-24T07:52:13.544Z"
   },
   {
    "duration": 9,
    "start_time": "2022-04-24T07:52:13.682Z"
   },
   {
    "duration": 30,
    "start_time": "2022-04-24T07:52:13.694Z"
   },
   {
    "duration": 21,
    "start_time": "2022-04-24T07:52:13.727Z"
   },
   {
    "duration": 18,
    "start_time": "2022-04-24T07:52:13.750Z"
   },
   {
    "duration": 21,
    "start_time": "2022-04-24T07:52:13.771Z"
   },
   {
    "duration": 8,
    "start_time": "2022-04-24T07:52:13.826Z"
   },
   {
    "duration": 1873,
    "start_time": "2022-04-24T07:52:13.836Z"
   },
   {
    "duration": 2057,
    "start_time": "2022-04-24T07:52:15.712Z"
   },
   {
    "duration": 2070,
    "start_time": "2022-04-24T07:52:17.773Z"
   },
   {
    "duration": 1293,
    "start_time": "2022-04-24T07:52:19.851Z"
   },
   {
    "duration": 8,
    "start_time": "2022-04-24T07:52:21.147Z"
   },
   {
    "duration": 9,
    "start_time": "2022-04-24T07:52:21.158Z"
   },
   {
    "duration": 13,
    "start_time": "2022-04-24T07:52:21.170Z"
   },
   {
    "duration": 17,
    "start_time": "2022-04-24T07:52:21.186Z"
   },
   {
    "duration": 2584,
    "start_time": "2022-04-24T07:52:21.224Z"
   },
   {
    "duration": 14,
    "start_time": "2022-04-24T07:52:23.811Z"
   },
   {
    "duration": 919,
    "start_time": "2022-04-24T07:52:23.829Z"
   },
   {
    "duration": 18,
    "start_time": "2022-04-24T07:52:24.751Z"
   },
   {
    "duration": 8,
    "start_time": "2022-04-24T07:52:24.772Z"
   },
   {
    "duration": 730,
    "start_time": "2022-04-24T07:52:24.784Z"
   },
   {
    "duration": 5,
    "start_time": "2022-04-24T07:52:25.526Z"
   },
   {
    "duration": 16,
    "start_time": "2022-04-24T07:52:25.533Z"
   },
   {
    "duration": 8,
    "start_time": "2022-04-24T07:52:25.552Z"
   },
   {
    "duration": 10,
    "start_time": "2022-04-24T07:52:25.563Z"
   },
   {
    "duration": 7,
    "start_time": "2022-04-24T07:52:25.576Z"
   },
   {
    "duration": 216,
    "start_time": "2022-04-24T07:52:25.586Z"
   },
   {
    "duration": 0,
    "start_time": "2022-04-24T07:52:25.804Z"
   },
   {
    "duration": 0,
    "start_time": "2022-04-24T07:52:25.806Z"
   },
   {
    "duration": 3622,
    "start_time": "2022-04-24T07:53:00.903Z"
   },
   {
    "duration": 1659,
    "start_time": "2022-04-24T07:53:04.534Z"
   },
   {
    "duration": 69,
    "start_time": "2022-04-24T07:53:06.196Z"
   },
   {
    "duration": 31,
    "start_time": "2022-04-24T07:53:06.268Z"
   },
   {
    "duration": 440,
    "start_time": "2022-04-24T07:53:06.302Z"
   },
   {
    "duration": 93,
    "start_time": "2022-04-24T07:53:06.749Z"
   },
   {
    "duration": 83,
    "start_time": "2022-04-24T07:53:06.846Z"
   },
   {
    "duration": 110,
    "start_time": "2022-04-24T07:53:06.933Z"
   },
   {
    "duration": 114,
    "start_time": "2022-04-24T07:53:07.048Z"
   },
   {
    "duration": 87,
    "start_time": "2022-04-24T07:53:07.165Z"
   },
   {
    "duration": 509,
    "start_time": "2022-04-24T07:53:07.255Z"
   },
   {
    "duration": 5,
    "start_time": "2022-04-24T07:53:07.767Z"
   },
   {
    "duration": 16,
    "start_time": "2022-04-24T07:53:07.827Z"
   },
   {
    "duration": 7,
    "start_time": "2022-04-24T07:53:07.851Z"
   },
   {
    "duration": 63,
    "start_time": "2022-04-24T07:53:07.860Z"
   },
   {
    "duration": 9,
    "start_time": "2022-04-24T07:53:07.926Z"
   },
   {
    "duration": 24,
    "start_time": "2022-04-24T07:53:07.938Z"
   },
   {
    "duration": 308,
    "start_time": "2022-04-24T07:53:07.964Z"
   },
   {
    "duration": 7,
    "start_time": "2022-04-24T07:53:08.274Z"
   },
   {
    "duration": 78,
    "start_time": "2022-04-24T07:53:08.284Z"
   },
   {
    "duration": 67,
    "start_time": "2022-04-24T07:53:08.365Z"
   },
   {
    "duration": 19,
    "start_time": "2022-04-24T07:53:08.439Z"
   },
   {
    "duration": 71,
    "start_time": "2022-04-24T07:53:08.461Z"
   },
   {
    "duration": 13,
    "start_time": "2022-04-24T07:53:08.536Z"
   },
   {
    "duration": 3345,
    "start_time": "2022-04-24T07:53:08.552Z"
   },
   {
    "duration": 1819,
    "start_time": "2022-04-24T07:53:11.900Z"
   },
   {
    "duration": 1964,
    "start_time": "2022-04-24T07:53:13.725Z"
   },
   {
    "duration": 963,
    "start_time": "2022-04-24T07:53:15.692Z"
   },
   {
    "duration": 6,
    "start_time": "2022-04-24T07:53:16.657Z"
   },
   {
    "duration": 10,
    "start_time": "2022-04-24T07:53:16.666Z"
   },
   {
    "duration": 22,
    "start_time": "2022-04-24T07:53:16.679Z"
   },
   {
    "duration": 26,
    "start_time": "2022-04-24T07:53:16.703Z"
   },
   {
    "duration": 2428,
    "start_time": "2022-04-24T07:53:16.732Z"
   },
   {
    "duration": 5,
    "start_time": "2022-04-24T07:53:19.162Z"
   },
   {
    "duration": 721,
    "start_time": "2022-04-24T07:53:19.169Z"
   },
   {
    "duration": 14,
    "start_time": "2022-04-24T07:53:19.892Z"
   },
   {
    "duration": 19,
    "start_time": "2022-04-24T07:53:19.909Z"
   },
   {
    "duration": 540,
    "start_time": "2022-04-24T07:53:19.931Z"
   },
   {
    "duration": 5,
    "start_time": "2022-04-24T07:53:20.474Z"
   },
   {
    "duration": 11,
    "start_time": "2022-04-24T07:53:20.482Z"
   },
   {
    "duration": 32,
    "start_time": "2022-04-24T07:53:20.499Z"
   },
   {
    "duration": 14,
    "start_time": "2022-04-24T07:53:20.534Z"
   },
   {
    "duration": 11,
    "start_time": "2022-04-24T07:53:20.551Z"
   },
   {
    "duration": 326669,
    "start_time": "2022-04-24T07:53:20.564Z"
   },
   {
    "duration": 7,
    "start_time": "2022-04-24T07:58:47.236Z"
   },
   {
    "duration": 7,
    "start_time": "2022-04-24T07:58:47.245Z"
   },
   {
    "duration": 6,
    "start_time": "2022-04-24T07:58:47.255Z"
   },
   {
    "duration": 398,
    "start_time": "2022-04-24T07:58:47.263Z"
   },
   {
    "duration": 2118,
    "start_time": "2022-04-24T08:14:10.942Z"
   },
   {
    "duration": 841,
    "start_time": "2022-04-24T08:14:13.063Z"
   },
   {
    "duration": 47,
    "start_time": "2022-04-24T08:14:13.907Z"
   },
   {
    "duration": 26,
    "start_time": "2022-04-24T08:14:13.957Z"
   },
   {
    "duration": 221,
    "start_time": "2022-04-24T08:14:13.986Z"
   },
   {
    "duration": 46,
    "start_time": "2022-04-24T08:14:14.210Z"
   },
   {
    "duration": 37,
    "start_time": "2022-04-24T08:14:14.259Z"
   },
   {
    "duration": 57,
    "start_time": "2022-04-24T08:14:14.298Z"
   },
   {
    "duration": 36,
    "start_time": "2022-04-24T08:14:14.358Z"
   },
   {
    "duration": 50,
    "start_time": "2022-04-24T08:14:14.398Z"
   },
   {
    "duration": 187,
    "start_time": "2022-04-24T08:14:14.450Z"
   },
   {
    "duration": 3,
    "start_time": "2022-04-24T08:14:14.640Z"
   },
   {
    "duration": 14,
    "start_time": "2022-04-24T08:14:14.645Z"
   },
   {
    "duration": 5,
    "start_time": "2022-04-24T08:14:14.661Z"
   },
   {
    "duration": 12,
    "start_time": "2022-04-24T08:14:14.668Z"
   },
   {
    "duration": 47,
    "start_time": "2022-04-24T08:14:14.683Z"
   },
   {
    "duration": 7,
    "start_time": "2022-04-24T08:14:14.732Z"
   },
   {
    "duration": 7,
    "start_time": "2022-04-24T08:14:14.742Z"
   },
   {
    "duration": 127,
    "start_time": "2022-04-24T08:14:14.752Z"
   },
   {
    "duration": 7,
    "start_time": "2022-04-24T08:14:14.882Z"
   },
   {
    "duration": 7,
    "start_time": "2022-04-24T08:14:14.892Z"
   },
   {
    "duration": 19,
    "start_time": "2022-04-24T08:14:14.925Z"
   },
   {
    "duration": 19,
    "start_time": "2022-04-24T08:14:14.946Z"
   },
   {
    "duration": 17,
    "start_time": "2022-04-24T08:14:14.967Z"
   },
   {
    "duration": 40,
    "start_time": "2022-04-24T08:14:14.986Z"
   },
   {
    "duration": 1836,
    "start_time": "2022-04-24T08:14:15.029Z"
   },
   {
    "duration": 1791,
    "start_time": "2022-04-24T08:14:16.868Z"
   },
   {
    "duration": 1590,
    "start_time": "2022-04-24T08:14:18.665Z"
   },
   {
    "duration": 1022,
    "start_time": "2022-04-24T08:14:20.257Z"
   },
   {
    "duration": 6,
    "start_time": "2022-04-24T08:14:21.281Z"
   },
   {
    "duration": 7,
    "start_time": "2022-04-24T08:14:21.290Z"
   },
   {
    "duration": 25,
    "start_time": "2022-04-24T08:14:21.299Z"
   },
   {
    "duration": 8,
    "start_time": "2022-04-24T08:14:21.327Z"
   },
   {
    "duration": 1976,
    "start_time": "2022-04-24T08:14:21.338Z"
   },
   {
    "duration": 11,
    "start_time": "2022-04-24T08:14:23.317Z"
   },
   {
    "duration": 825,
    "start_time": "2022-04-24T08:14:23.331Z"
   },
   {
    "duration": 12,
    "start_time": "2022-04-24T08:14:24.159Z"
   },
   {
    "duration": 7,
    "start_time": "2022-04-24T08:14:24.174Z"
   },
   {
    "duration": 473,
    "start_time": "2022-04-24T08:14:24.183Z"
   },
   {
    "duration": 4,
    "start_time": "2022-04-24T08:14:24.659Z"
   },
   {
    "duration": 9,
    "start_time": "2022-04-24T08:14:24.665Z"
   },
   {
    "duration": 7,
    "start_time": "2022-04-24T08:14:24.677Z"
   },
   {
    "duration": 10,
    "start_time": "2022-04-24T08:14:24.687Z"
   },
   {
    "duration": 28,
    "start_time": "2022-04-24T08:14:24.700Z"
   },
   {
    "duration": 332718,
    "start_time": "2022-04-24T08:14:24.731Z"
   },
   {
    "duration": 10,
    "start_time": "2022-04-24T08:31:49.861Z"
   },
   {
    "duration": 178,
    "start_time": "2022-04-24T08:31:51.849Z"
   },
   {
    "duration": 7,
    "start_time": "2022-04-24T08:33:03.536Z"
   },
   {
    "duration": 19895,
    "start_time": "2022-04-24T08:33:05.371Z"
   },
   {
    "duration": 7,
    "start_time": "2022-04-24T08:35:13.040Z"
   },
   {
    "duration": 7,
    "start_time": "2022-04-24T08:35:20.966Z"
   },
   {
    "duration": 3658,
    "start_time": "2022-04-24T08:35:22.338Z"
   },
   {
    "duration": 7,
    "start_time": "2022-04-24T08:35:42.947Z"
   },
   {
    "duration": 20329,
    "start_time": "2022-04-24T08:35:43.803Z"
   },
   {
    "duration": 6,
    "start_time": "2022-04-24T08:36:16.496Z"
   },
   {
    "duration": 20711,
    "start_time": "2022-04-24T08:36:17.274Z"
   },
   {
    "duration": 8,
    "start_time": "2022-04-24T08:36:53.761Z"
   },
   {
    "duration": 156738,
    "start_time": "2022-04-24T08:36:57.479Z"
   },
   {
    "duration": 2772,
    "start_time": "2022-04-24T08:40:26.074Z"
   },
   {
    "duration": 1707,
    "start_time": "2022-04-24T08:40:28.850Z"
   },
   {
    "duration": 96,
    "start_time": "2022-04-24T08:40:30.560Z"
   },
   {
    "duration": 78,
    "start_time": "2022-04-24T08:40:30.659Z"
   },
   {
    "duration": 396,
    "start_time": "2022-04-24T08:40:30.739Z"
   },
   {
    "duration": 88,
    "start_time": "2022-04-24T08:40:31.137Z"
   },
   {
    "duration": 21,
    "start_time": "2022-04-24T08:40:31.228Z"
   },
   {
    "duration": 93,
    "start_time": "2022-04-24T08:40:31.251Z"
   },
   {
    "duration": 38,
    "start_time": "2022-04-24T08:40:31.346Z"
   },
   {
    "duration": 57,
    "start_time": "2022-04-24T08:40:31.390Z"
   },
   {
    "duration": 189,
    "start_time": "2022-04-24T08:40:31.449Z"
   },
   {
    "duration": 4,
    "start_time": "2022-04-24T08:40:31.641Z"
   },
   {
    "duration": 88,
    "start_time": "2022-04-24T08:40:31.647Z"
   },
   {
    "duration": 22,
    "start_time": "2022-04-24T08:40:31.737Z"
   },
   {
    "duration": 33,
    "start_time": "2022-04-24T08:40:31.762Z"
   },
   {
    "duration": 25,
    "start_time": "2022-04-24T08:40:31.798Z"
   },
   {
    "duration": 25,
    "start_time": "2022-04-24T08:40:31.826Z"
   },
   {
    "duration": 33,
    "start_time": "2022-04-24T08:40:31.854Z"
   },
   {
    "duration": 196,
    "start_time": "2022-04-24T08:40:31.890Z"
   },
   {
    "duration": 9,
    "start_time": "2022-04-24T08:40:32.089Z"
   },
   {
    "duration": 29,
    "start_time": "2022-04-24T08:40:32.101Z"
   },
   {
    "duration": 43,
    "start_time": "2022-04-24T08:40:32.133Z"
   },
   {
    "duration": 51,
    "start_time": "2022-04-24T08:40:32.179Z"
   },
   {
    "duration": 29,
    "start_time": "2022-04-24T08:40:32.234Z"
   },
   {
    "duration": 12,
    "start_time": "2022-04-24T08:40:32.266Z"
   },
   {
    "duration": 1993,
    "start_time": "2022-04-24T08:40:32.280Z"
   },
   {
    "duration": 1675,
    "start_time": "2022-04-24T08:40:34.276Z"
   },
   {
    "duration": 1598,
    "start_time": "2022-04-24T08:40:35.956Z"
   },
   {
    "duration": 1016,
    "start_time": "2022-04-24T08:40:37.556Z"
   },
   {
    "duration": 8,
    "start_time": "2022-04-24T08:40:38.574Z"
   },
   {
    "duration": 13,
    "start_time": "2022-04-24T08:40:38.584Z"
   },
   {
    "duration": 27,
    "start_time": "2022-04-24T08:40:38.599Z"
   },
   {
    "duration": 9,
    "start_time": "2022-04-24T08:40:38.629Z"
   },
   {
    "duration": 2593,
    "start_time": "2022-04-24T08:40:38.641Z"
   },
   {
    "duration": 7,
    "start_time": "2022-04-24T08:40:41.238Z"
   },
   {
    "duration": 856,
    "start_time": "2022-04-24T08:40:41.247Z"
   },
   {
    "duration": 21,
    "start_time": "2022-04-24T08:40:42.105Z"
   },
   {
    "duration": 6,
    "start_time": "2022-04-24T08:40:42.128Z"
   },
   {
    "duration": 471,
    "start_time": "2022-04-24T08:40:42.136Z"
   },
   {
    "duration": 15,
    "start_time": "2022-04-24T08:40:42.609Z"
   },
   {
    "duration": 3,
    "start_time": "2022-04-24T08:40:42.627Z"
   },
   {
    "duration": 6,
    "start_time": "2022-04-24T08:40:42.633Z"
   },
   {
    "duration": 9,
    "start_time": "2022-04-24T08:40:42.641Z"
   },
   {
    "duration": 7,
    "start_time": "2022-04-24T08:40:42.653Z"
   },
   {
    "duration": 2742,
    "start_time": "2022-04-24T09:18:10.209Z"
   },
   {
    "duration": 853,
    "start_time": "2022-04-24T09:18:12.955Z"
   },
   {
    "duration": 52,
    "start_time": "2022-04-24T09:18:13.811Z"
   },
   {
    "duration": 34,
    "start_time": "2022-04-24T09:18:13.867Z"
   },
   {
    "duration": 228,
    "start_time": "2022-04-24T09:18:13.929Z"
   },
   {
    "duration": 39,
    "start_time": "2022-04-24T09:18:14.159Z"
   },
   {
    "duration": 49,
    "start_time": "2022-04-24T09:18:14.200Z"
   },
   {
    "duration": 42,
    "start_time": "2022-04-24T09:18:14.251Z"
   },
   {
    "duration": 70,
    "start_time": "2022-04-24T09:18:14.296Z"
   },
   {
    "duration": 26,
    "start_time": "2022-04-24T09:18:14.370Z"
   },
   {
    "duration": 210,
    "start_time": "2022-04-24T09:18:14.399Z"
   },
   {
    "duration": 3,
    "start_time": "2022-04-24T09:18:14.612Z"
   },
   {
    "duration": 14,
    "start_time": "2022-04-24T09:18:14.623Z"
   },
   {
    "duration": 19,
    "start_time": "2022-04-24T09:18:14.640Z"
   },
   {
    "duration": 10,
    "start_time": "2022-04-24T09:18:14.662Z"
   },
   {
    "duration": 6,
    "start_time": "2022-04-24T09:18:14.678Z"
   },
   {
    "duration": 43,
    "start_time": "2022-04-24T09:18:14.687Z"
   },
   {
    "duration": 6,
    "start_time": "2022-04-24T09:18:14.734Z"
   },
   {
    "duration": 145,
    "start_time": "2022-04-24T09:18:14.742Z"
   },
   {
    "duration": 7,
    "start_time": "2022-04-24T09:18:14.889Z"
   },
   {
    "duration": 29,
    "start_time": "2022-04-24T09:18:14.898Z"
   },
   {
    "duration": 28,
    "start_time": "2022-04-24T09:18:14.933Z"
   },
   {
    "duration": 20,
    "start_time": "2022-04-24T09:18:14.963Z"
   },
   {
    "duration": 47,
    "start_time": "2022-04-24T09:18:14.986Z"
   },
   {
    "duration": 12,
    "start_time": "2022-04-24T09:18:15.036Z"
   },
   {
    "duration": 2059,
    "start_time": "2022-04-24T09:18:15.050Z"
   },
   {
    "duration": 1854,
    "start_time": "2022-04-24T09:18:17.112Z"
   },
   {
    "duration": 1795,
    "start_time": "2022-04-24T09:18:18.971Z"
   },
   {
    "duration": 959,
    "start_time": "2022-04-24T09:18:20.768Z"
   },
   {
    "duration": 12,
    "start_time": "2022-04-24T09:18:21.729Z"
   },
   {
    "duration": 11,
    "start_time": "2022-04-24T09:18:21.744Z"
   },
   {
    "duration": 9,
    "start_time": "2022-04-24T09:18:21.757Z"
   },
   {
    "duration": 11,
    "start_time": "2022-04-24T09:18:21.769Z"
   },
   {
    "duration": 2187,
    "start_time": "2022-04-24T09:18:21.782Z"
   },
   {
    "duration": 7,
    "start_time": "2022-04-24T09:18:23.972Z"
   },
   {
    "duration": 979,
    "start_time": "2022-04-24T09:18:23.982Z"
   },
   {
    "duration": 16,
    "start_time": "2022-04-24T09:18:24.964Z"
   },
   {
    "duration": 6,
    "start_time": "2022-04-24T09:18:24.983Z"
   },
   {
    "duration": 750,
    "start_time": "2022-04-24T09:18:24.992Z"
   },
   {
    "duration": 5,
    "start_time": "2022-04-24T09:18:25.745Z"
   },
   {
    "duration": 11,
    "start_time": "2022-04-24T09:18:25.753Z"
   },
   {
    "duration": 9,
    "start_time": "2022-04-24T09:18:25.767Z"
   },
   {
    "duration": 6,
    "start_time": "2022-04-24T09:18:25.779Z"
   },
   {
    "duration": 57,
    "start_time": "2022-04-24T09:18:25.788Z"
   },
   {
    "duration": 2392,
    "start_time": "2022-04-24T10:05:43.589Z"
   },
   {
    "duration": 865,
    "start_time": "2022-04-24T10:05:45.984Z"
   },
   {
    "duration": 46,
    "start_time": "2022-04-24T10:05:46.851Z"
   },
   {
    "duration": 43,
    "start_time": "2022-04-24T10:05:46.900Z"
   },
   {
    "duration": 228,
    "start_time": "2022-04-24T10:05:46.946Z"
   },
   {
    "duration": 51,
    "start_time": "2022-04-24T10:05:47.177Z"
   },
   {
    "duration": 23,
    "start_time": "2022-04-24T10:05:47.234Z"
   },
   {
    "duration": 36,
    "start_time": "2022-04-24T10:05:47.259Z"
   },
   {
    "duration": 78,
    "start_time": "2022-04-24T10:05:47.298Z"
   },
   {
    "duration": 56,
    "start_time": "2022-04-24T10:05:47.381Z"
   },
   {
    "duration": 194,
    "start_time": "2022-04-24T10:05:47.439Z"
   },
   {
    "duration": 9,
    "start_time": "2022-04-24T10:05:47.636Z"
   },
   {
    "duration": 16,
    "start_time": "2022-04-24T10:05:47.648Z"
   },
   {
    "duration": 14,
    "start_time": "2022-04-24T10:05:47.667Z"
   },
   {
    "duration": 21,
    "start_time": "2022-04-24T10:05:47.684Z"
   },
   {
    "duration": 38,
    "start_time": "2022-04-24T10:05:47.707Z"
   },
   {
    "duration": 32,
    "start_time": "2022-04-24T10:05:47.747Z"
   },
   {
    "duration": 21,
    "start_time": "2022-04-24T10:05:47.781Z"
   },
   {
    "duration": 133,
    "start_time": "2022-04-24T10:05:47.804Z"
   },
   {
    "duration": 9,
    "start_time": "2022-04-24T10:05:47.940Z"
   },
   {
    "duration": 22,
    "start_time": "2022-04-24T10:05:47.952Z"
   },
   {
    "duration": 48,
    "start_time": "2022-04-24T10:05:47.977Z"
   },
   {
    "duration": 50,
    "start_time": "2022-04-24T10:05:48.030Z"
   },
   {
    "duration": 22,
    "start_time": "2022-04-24T10:05:48.083Z"
   },
   {
    "duration": 11,
    "start_time": "2022-04-24T10:05:48.108Z"
   },
   {
    "duration": 1871,
    "start_time": "2022-04-24T10:05:48.122Z"
   },
   {
    "duration": 2103,
    "start_time": "2022-04-24T10:05:49.996Z"
   },
   {
    "duration": 1854,
    "start_time": "2022-04-24T10:05:52.108Z"
   },
   {
    "duration": 1324,
    "start_time": "2022-04-24T10:05:53.965Z"
   },
   {
    "duration": 7,
    "start_time": "2022-04-24T10:05:55.291Z"
   },
   {
    "duration": 6,
    "start_time": "2022-04-24T10:05:55.301Z"
   },
   {
    "duration": 9,
    "start_time": "2022-04-24T10:05:55.332Z"
   },
   {
    "duration": 18,
    "start_time": "2022-04-24T10:05:55.343Z"
   },
   {
    "duration": 1998,
    "start_time": "2022-04-24T10:05:55.363Z"
   },
   {
    "duration": 5,
    "start_time": "2022-04-24T10:05:57.364Z"
   },
   {
    "duration": 772,
    "start_time": "2022-04-24T10:05:57.373Z"
   },
   {
    "duration": 13,
    "start_time": "2022-04-24T10:05:58.148Z"
   },
   {
    "duration": 12,
    "start_time": "2022-04-24T10:05:58.163Z"
   },
   {
    "duration": 512,
    "start_time": "2022-04-24T10:05:58.178Z"
   },
   {
    "duration": 5,
    "start_time": "2022-04-24T10:05:58.692Z"
   },
   {
    "duration": 29,
    "start_time": "2022-04-24T10:05:58.699Z"
   },
   {
    "duration": 25,
    "start_time": "2022-04-24T10:05:58.731Z"
   },
   {
    "duration": 13,
    "start_time": "2022-04-24T10:05:58.758Z"
   },
   {
    "duration": 15,
    "start_time": "2022-04-24T10:05:58.774Z"
   },
   {
    "duration": 199,
    "start_time": "2022-04-24T10:05:58.792Z"
   },
   {
    "duration": 0,
    "start_time": "2022-04-24T10:05:58.993Z"
   },
   {
    "duration": 0,
    "start_time": "2022-04-24T10:05:58.995Z"
   },
   {
    "duration": 0,
    "start_time": "2022-04-24T10:05:58.997Z"
   },
   {
    "duration": 0,
    "start_time": "2022-04-24T10:05:58.998Z"
   },
   {
    "duration": 0,
    "start_time": "2022-04-24T10:05:59.000Z"
   },
   {
    "duration": 0,
    "start_time": "2022-04-24T10:05:59.002Z"
   },
   {
    "duration": 0,
    "start_time": "2022-04-24T10:05:59.003Z"
   },
   {
    "duration": 0,
    "start_time": "2022-04-24T10:05:59.005Z"
   },
   {
    "duration": 0,
    "start_time": "2022-04-24T10:05:59.006Z"
   },
   {
    "duration": 16,
    "start_time": "2022-04-24T10:05:59.007Z"
   },
   {
    "duration": 2061,
    "start_time": "2022-04-24T10:06:56.441Z"
   },
   {
    "duration": 1214,
    "start_time": "2022-04-24T10:06:58.505Z"
   },
   {
    "duration": 45,
    "start_time": "2022-04-24T10:06:59.724Z"
   },
   {
    "duration": 28,
    "start_time": "2022-04-24T10:06:59.771Z"
   },
   {
    "duration": 213,
    "start_time": "2022-04-24T10:06:59.832Z"
   },
   {
    "duration": 39,
    "start_time": "2022-04-24T10:07:00.048Z"
   },
   {
    "duration": 62,
    "start_time": "2022-04-24T10:07:00.090Z"
   },
   {
    "duration": 37,
    "start_time": "2022-04-24T10:07:00.155Z"
   },
   {
    "duration": 60,
    "start_time": "2022-04-24T10:07:00.195Z"
   },
   {
    "duration": 40,
    "start_time": "2022-04-24T10:07:00.258Z"
   },
   {
    "duration": 208,
    "start_time": "2022-04-24T10:07:00.302Z"
   },
   {
    "duration": 17,
    "start_time": "2022-04-24T10:07:00.513Z"
   },
   {
    "duration": 21,
    "start_time": "2022-04-24T10:07:00.532Z"
   },
   {
    "duration": 5,
    "start_time": "2022-04-24T10:07:00.559Z"
   },
   {
    "duration": 14,
    "start_time": "2022-04-24T10:07:00.567Z"
   },
   {
    "duration": 13,
    "start_time": "2022-04-24T10:07:00.584Z"
   },
   {
    "duration": 6,
    "start_time": "2022-04-24T10:07:00.625Z"
   },
   {
    "duration": 43,
    "start_time": "2022-04-24T10:07:00.633Z"
   },
   {
    "duration": 131,
    "start_time": "2022-04-24T10:07:00.679Z"
   },
   {
    "duration": 16,
    "start_time": "2022-04-24T10:07:00.813Z"
   },
   {
    "duration": 40,
    "start_time": "2022-04-24T10:07:00.832Z"
   },
   {
    "duration": 32,
    "start_time": "2022-04-24T10:07:00.875Z"
   },
   {
    "duration": 45,
    "start_time": "2022-04-24T10:07:00.909Z"
   },
   {
    "duration": 23,
    "start_time": "2022-04-24T10:07:00.956Z"
   },
   {
    "duration": 8,
    "start_time": "2022-04-24T10:07:00.982Z"
   },
   {
    "duration": 1897,
    "start_time": "2022-04-24T10:07:00.992Z"
   },
   {
    "duration": 1778,
    "start_time": "2022-04-24T10:07:02.892Z"
   },
   {
    "duration": 1696,
    "start_time": "2022-04-24T10:07:04.673Z"
   },
   {
    "duration": 937,
    "start_time": "2022-04-24T10:07:06.371Z"
   },
   {
    "duration": 17,
    "start_time": "2022-04-24T10:07:07.310Z"
   },
   {
    "duration": 16,
    "start_time": "2022-04-24T10:07:07.330Z"
   },
   {
    "duration": 8,
    "start_time": "2022-04-24T10:07:07.349Z"
   },
   {
    "duration": 11,
    "start_time": "2022-04-24T10:07:07.359Z"
   },
   {
    "duration": 1874,
    "start_time": "2022-04-24T10:07:07.372Z"
   },
   {
    "duration": 6,
    "start_time": "2022-04-24T10:07:09.248Z"
   },
   {
    "duration": 702,
    "start_time": "2022-04-24T10:07:09.257Z"
   },
   {
    "duration": 13,
    "start_time": "2022-04-24T10:07:09.962Z"
   },
   {
    "duration": 6,
    "start_time": "2022-04-24T10:07:09.978Z"
   },
   {
    "duration": 509,
    "start_time": "2022-04-24T10:07:09.987Z"
   },
   {
    "duration": 5,
    "start_time": "2022-04-24T10:07:10.499Z"
   },
   {
    "duration": 20,
    "start_time": "2022-04-24T10:07:10.511Z"
   },
   {
    "duration": 10,
    "start_time": "2022-04-24T10:07:10.533Z"
   },
   {
    "duration": 15,
    "start_time": "2022-04-24T10:07:10.545Z"
   },
   {
    "duration": 7,
    "start_time": "2022-04-24T10:07:10.563Z"
   },
   {
    "duration": 22149,
    "start_time": "2022-04-24T10:07:10.572Z"
   },
   {
    "duration": 22402,
    "start_time": "2022-04-24T10:07:32.725Z"
   },
   {
    "duration": 189,
    "start_time": "2022-04-24T10:07:55.129Z"
   },
   {
    "duration": 0,
    "start_time": "2022-04-24T10:07:55.324Z"
   },
   {
    "duration": 0,
    "start_time": "2022-04-24T10:07:55.326Z"
   },
   {
    "duration": 0,
    "start_time": "2022-04-24T10:07:55.328Z"
   },
   {
    "duration": 0,
    "start_time": "2022-04-24T10:07:55.329Z"
   },
   {
    "duration": 0,
    "start_time": "2022-04-24T10:07:55.331Z"
   },
   {
    "duration": 0,
    "start_time": "2022-04-24T10:07:55.332Z"
   },
   {
    "duration": 0,
    "start_time": "2022-04-24T10:07:55.333Z"
   },
   {
    "duration": 0,
    "start_time": "2022-04-24T10:07:55.334Z"
   },
   {
    "duration": 2876,
    "start_time": "2022-04-24T10:12:13.878Z"
   },
   {
    "duration": 1277,
    "start_time": "2022-04-24T10:12:16.758Z"
   },
   {
    "duration": 89,
    "start_time": "2022-04-24T10:12:18.037Z"
   },
   {
    "duration": 38,
    "start_time": "2022-04-24T10:12:18.131Z"
   },
   {
    "duration": 245,
    "start_time": "2022-04-24T10:12:18.171Z"
   },
   {
    "duration": 42,
    "start_time": "2022-04-24T10:12:18.425Z"
   },
   {
    "duration": 59,
    "start_time": "2022-04-24T10:12:18.470Z"
   },
   {
    "duration": 36,
    "start_time": "2022-04-24T10:12:18.531Z"
   },
   {
    "duration": 68,
    "start_time": "2022-04-24T10:12:18.569Z"
   },
   {
    "duration": 35,
    "start_time": "2022-04-24T10:12:18.642Z"
   },
   {
    "duration": 224,
    "start_time": "2022-04-24T10:12:18.679Z"
   },
   {
    "duration": 7,
    "start_time": "2022-04-24T10:12:18.912Z"
   },
   {
    "duration": 33,
    "start_time": "2022-04-24T10:12:18.922Z"
   },
   {
    "duration": 97,
    "start_time": "2022-04-24T10:12:18.959Z"
   },
   {
    "duration": 40,
    "start_time": "2022-04-24T10:12:19.059Z"
   },
   {
    "duration": 35,
    "start_time": "2022-04-24T10:12:19.102Z"
   },
   {
    "duration": 27,
    "start_time": "2022-04-24T10:12:19.140Z"
   },
   {
    "duration": 12,
    "start_time": "2022-04-24T10:12:19.170Z"
   },
   {
    "duration": 173,
    "start_time": "2022-04-24T10:12:19.185Z"
   },
   {
    "duration": 8,
    "start_time": "2022-04-24T10:12:19.361Z"
   },
   {
    "duration": 9,
    "start_time": "2022-04-24T10:12:19.371Z"
   },
   {
    "duration": 48,
    "start_time": "2022-04-24T10:12:19.383Z"
   },
   {
    "duration": 28,
    "start_time": "2022-04-24T10:12:19.433Z"
   },
   {
    "duration": 23,
    "start_time": "2022-04-24T10:12:19.463Z"
   },
   {
    "duration": 9,
    "start_time": "2022-04-24T10:12:19.489Z"
   },
   {
    "duration": 2202,
    "start_time": "2022-04-24T10:12:19.524Z"
   },
   {
    "duration": 2172,
    "start_time": "2022-04-24T10:12:21.729Z"
   },
   {
    "duration": 1642,
    "start_time": "2022-04-24T10:12:23.908Z"
   },
   {
    "duration": 1286,
    "start_time": "2022-04-24T10:12:25.553Z"
   },
   {
    "duration": 7,
    "start_time": "2022-04-24T10:12:26.841Z"
   },
   {
    "duration": 10,
    "start_time": "2022-04-24T10:12:26.851Z"
   },
   {
    "duration": 8,
    "start_time": "2022-04-24T10:12:26.865Z"
   },
   {
    "duration": 11,
    "start_time": "2022-04-24T10:12:26.876Z"
   },
   {
    "duration": 1884,
    "start_time": "2022-04-24T10:12:26.924Z"
   },
   {
    "duration": 17,
    "start_time": "2022-04-24T10:12:28.810Z"
   },
   {
    "duration": 691,
    "start_time": "2022-04-24T10:12:28.829Z"
   },
   {
    "duration": 13,
    "start_time": "2022-04-24T10:12:29.525Z"
   },
   {
    "duration": 6,
    "start_time": "2022-04-24T10:12:29.541Z"
   },
   {
    "duration": 493,
    "start_time": "2022-04-24T10:12:29.549Z"
   },
   {
    "duration": 5,
    "start_time": "2022-04-24T10:12:30.045Z"
   },
   {
    "duration": 17,
    "start_time": "2022-04-24T10:12:30.053Z"
   },
   {
    "duration": 19,
    "start_time": "2022-04-24T10:12:30.073Z"
   },
   {
    "duration": 19,
    "start_time": "2022-04-24T10:12:30.095Z"
   },
   {
    "duration": 33,
    "start_time": "2022-04-24T10:12:30.117Z"
   },
   {
    "duration": 23173,
    "start_time": "2022-04-24T10:12:30.153Z"
   },
   {
    "duration": 21065,
    "start_time": "2022-04-24T10:12:53.328Z"
   },
   {
    "duration": 4,
    "start_time": "2022-04-24T10:13:14.395Z"
   },
   {
    "duration": 130,
    "start_time": "2022-04-24T10:13:14.402Z"
   },
   {
    "duration": 0,
    "start_time": "2022-04-24T10:13:14.534Z"
   },
   {
    "duration": 0,
    "start_time": "2022-04-24T10:13:14.536Z"
   },
   {
    "duration": 0,
    "start_time": "2022-04-24T10:13:14.538Z"
   },
   {
    "duration": 0,
    "start_time": "2022-04-24T10:13:14.541Z"
   },
   {
    "duration": 0,
    "start_time": "2022-04-24T10:13:14.543Z"
   },
   {
    "duration": 0,
    "start_time": "2022-04-24T10:13:14.545Z"
   },
   {
    "duration": 0,
    "start_time": "2022-04-24T10:13:14.547Z"
   },
   {
    "duration": 4,
    "start_time": "2022-04-24T10:56:16.713Z"
   },
   {
    "duration": 2715,
    "start_time": "2022-04-24T10:56:30.623Z"
   },
   {
    "duration": 839,
    "start_time": "2022-04-24T10:56:33.342Z"
   },
   {
    "duration": 61,
    "start_time": "2022-04-24T10:56:34.184Z"
   },
   {
    "duration": 26,
    "start_time": "2022-04-24T10:56:34.250Z"
   },
   {
    "duration": 225,
    "start_time": "2022-04-24T10:56:34.279Z"
   },
   {
    "duration": 64,
    "start_time": "2022-04-24T10:56:34.506Z"
   },
   {
    "duration": 54,
    "start_time": "2022-04-24T10:56:34.573Z"
   },
   {
    "duration": 55,
    "start_time": "2022-04-24T10:56:34.630Z"
   },
   {
    "duration": 60,
    "start_time": "2022-04-24T10:56:34.688Z"
   },
   {
    "duration": 26,
    "start_time": "2022-04-24T10:56:34.754Z"
   },
   {
    "duration": 213,
    "start_time": "2022-04-24T10:56:34.783Z"
   },
   {
    "duration": 4,
    "start_time": "2022-04-24T10:56:34.999Z"
   },
   {
    "duration": 22,
    "start_time": "2022-04-24T10:56:35.006Z"
   },
   {
    "duration": 6,
    "start_time": "2022-04-24T10:56:35.031Z"
   },
   {
    "duration": 15,
    "start_time": "2022-04-24T10:56:35.040Z"
   },
   {
    "duration": 8,
    "start_time": "2022-04-24T10:56:35.058Z"
   },
   {
    "duration": 10,
    "start_time": "2022-04-24T10:56:35.069Z"
   },
   {
    "duration": 8,
    "start_time": "2022-04-24T10:56:35.126Z"
   },
   {
    "duration": 172,
    "start_time": "2022-04-24T10:56:35.137Z"
   },
   {
    "duration": 16,
    "start_time": "2022-04-24T10:56:35.312Z"
   },
   {
    "duration": 16,
    "start_time": "2022-04-24T10:56:35.331Z"
   },
   {
    "duration": 24,
    "start_time": "2022-04-24T10:56:35.350Z"
   },
   {
    "duration": 20,
    "start_time": "2022-04-24T10:56:35.377Z"
   },
   {
    "duration": 39,
    "start_time": "2022-04-24T10:56:35.400Z"
   },
   {
    "duration": 8,
    "start_time": "2022-04-24T10:56:35.442Z"
   },
   {
    "duration": 1829,
    "start_time": "2022-04-24T10:56:35.452Z"
   },
   {
    "duration": 1866,
    "start_time": "2022-04-24T10:56:37.284Z"
   },
   {
    "duration": 1902,
    "start_time": "2022-04-24T10:56:39.156Z"
   },
   {
    "duration": 1022,
    "start_time": "2022-04-24T10:56:41.061Z"
   },
   {
    "duration": 7,
    "start_time": "2022-04-24T10:56:42.085Z"
   },
   {
    "duration": 12,
    "start_time": "2022-04-24T10:56:42.094Z"
   },
   {
    "duration": 19,
    "start_time": "2022-04-24T10:56:42.108Z"
   },
   {
    "duration": 5,
    "start_time": "2022-04-24T10:56:42.130Z"
   },
   {
    "duration": 2270,
    "start_time": "2022-04-24T10:56:42.138Z"
   },
   {
    "duration": 6,
    "start_time": "2022-04-24T10:56:44.410Z"
   },
   {
    "duration": 702,
    "start_time": "2022-04-24T10:56:44.425Z"
   },
   {
    "duration": 14,
    "start_time": "2022-04-24T10:56:45.129Z"
   },
   {
    "duration": 7,
    "start_time": "2022-04-24T10:56:45.146Z"
   },
   {
    "duration": 493,
    "start_time": "2022-04-24T10:56:45.155Z"
   },
   {
    "duration": 4,
    "start_time": "2022-04-24T10:56:45.651Z"
   },
   {
    "duration": 11,
    "start_time": "2022-04-24T10:56:45.657Z"
   },
   {
    "duration": 17,
    "start_time": "2022-04-24T10:56:45.672Z"
   },
   {
    "duration": 16,
    "start_time": "2022-04-24T10:56:45.691Z"
   },
   {
    "duration": 18,
    "start_time": "2022-04-24T10:56:45.710Z"
   },
   {
    "duration": 21097,
    "start_time": "2022-04-24T10:56:45.731Z"
   },
   {
    "duration": 19655,
    "start_time": "2022-04-24T10:57:06.830Z"
   },
   {
    "duration": 5,
    "start_time": "2022-04-24T10:57:26.488Z"
   },
   {
    "duration": 132,
    "start_time": "2022-04-24T10:57:26.496Z"
   },
   {
    "duration": 0,
    "start_time": "2022-04-24T10:57:26.630Z"
   },
   {
    "duration": 0,
    "start_time": "2022-04-24T10:57:26.632Z"
   },
   {
    "duration": 0,
    "start_time": "2022-04-24T10:57:26.634Z"
   },
   {
    "duration": 0,
    "start_time": "2022-04-24T10:57:26.635Z"
   },
   {
    "duration": 0,
    "start_time": "2022-04-24T10:57:26.638Z"
   },
   {
    "duration": 0,
    "start_time": "2022-04-24T10:57:26.639Z"
   },
   {
    "duration": 0,
    "start_time": "2022-04-24T10:57:26.642Z"
   },
   {
    "duration": 126,
    "start_time": "2022-04-24T11:00:13.260Z"
   },
   {
    "duration": 0,
    "start_time": "2022-04-24T11:00:13.388Z"
   },
   {
    "duration": 0,
    "start_time": "2022-04-24T11:00:13.390Z"
   },
   {
    "duration": 0,
    "start_time": "2022-04-24T11:00:13.391Z"
   },
   {
    "duration": 0,
    "start_time": "2022-04-24T11:00:13.393Z"
   },
   {
    "duration": 0,
    "start_time": "2022-04-24T11:00:13.395Z"
   },
   {
    "duration": 0,
    "start_time": "2022-04-24T11:00:13.396Z"
   },
   {
    "duration": 1,
    "start_time": "2022-04-24T11:00:13.397Z"
   },
   {
    "duration": 8,
    "start_time": "2022-04-24T11:00:30.835Z"
   },
   {
    "duration": 652,
    "start_time": "2022-04-24T11:00:30.847Z"
   },
   {
    "duration": 0,
    "start_time": "2022-04-24T11:00:31.503Z"
   },
   {
    "duration": 0,
    "start_time": "2022-04-24T11:00:31.505Z"
   },
   {
    "duration": 0,
    "start_time": "2022-04-24T11:00:31.508Z"
   },
   {
    "duration": 0,
    "start_time": "2022-04-24T11:00:31.526Z"
   },
   {
    "duration": 1,
    "start_time": "2022-04-24T11:00:31.527Z"
   },
   {
    "duration": 0,
    "start_time": "2022-04-24T11:00:31.529Z"
   },
   {
    "duration": 2667,
    "start_time": "2022-04-24T11:01:16.220Z"
   },
   {
    "duration": 1237,
    "start_time": "2022-04-24T11:01:18.891Z"
   },
   {
    "duration": 53,
    "start_time": "2022-04-24T11:01:20.131Z"
   },
   {
    "duration": 61,
    "start_time": "2022-04-24T11:01:20.186Z"
   },
   {
    "duration": 205,
    "start_time": "2022-04-24T11:01:20.252Z"
   },
   {
    "duration": 37,
    "start_time": "2022-04-24T11:01:20.460Z"
   },
   {
    "duration": 62,
    "start_time": "2022-04-24T11:01:20.501Z"
   },
   {
    "duration": 69,
    "start_time": "2022-04-24T11:01:20.567Z"
   },
   {
    "duration": 63,
    "start_time": "2022-04-24T11:01:20.640Z"
   },
   {
    "duration": 47,
    "start_time": "2022-04-24T11:01:20.726Z"
   },
   {
    "duration": 270,
    "start_time": "2022-04-24T11:01:20.777Z"
   },
   {
    "duration": 5,
    "start_time": "2022-04-24T11:01:21.050Z"
   },
   {
    "duration": 20,
    "start_time": "2022-04-24T11:01:21.058Z"
   },
   {
    "duration": 7,
    "start_time": "2022-04-24T11:01:21.083Z"
   },
   {
    "duration": 46,
    "start_time": "2022-04-24T11:01:21.092Z"
   },
   {
    "duration": 6,
    "start_time": "2022-04-24T11:01:21.141Z"
   },
   {
    "duration": 15,
    "start_time": "2022-04-24T11:01:21.149Z"
   },
   {
    "duration": 16,
    "start_time": "2022-04-24T11:01:21.167Z"
   },
   {
    "duration": 186,
    "start_time": "2022-04-24T11:01:21.185Z"
   },
   {
    "duration": 9,
    "start_time": "2022-04-24T11:01:21.374Z"
   },
   {
    "duration": 9,
    "start_time": "2022-04-24T11:01:21.387Z"
   },
   {
    "duration": 52,
    "start_time": "2022-04-24T11:01:21.399Z"
   },
   {
    "duration": 21,
    "start_time": "2022-04-24T11:01:21.454Z"
   },
   {
    "duration": 51,
    "start_time": "2022-04-24T11:01:21.479Z"
   },
   {
    "duration": 11,
    "start_time": "2022-04-24T11:01:21.533Z"
   },
   {
    "duration": 2426,
    "start_time": "2022-04-24T11:01:21.547Z"
   },
   {
    "duration": 1674,
    "start_time": "2022-04-24T11:01:23.977Z"
   },
   {
    "duration": 1503,
    "start_time": "2022-04-24T11:01:25.653Z"
   },
   {
    "duration": 1027,
    "start_time": "2022-04-24T11:01:27.159Z"
   },
   {
    "duration": 6,
    "start_time": "2022-04-24T11:01:28.188Z"
   },
   {
    "duration": 27,
    "start_time": "2022-04-24T11:01:28.197Z"
   },
   {
    "duration": 7,
    "start_time": "2022-04-24T11:01:28.227Z"
   },
   {
    "duration": 8,
    "start_time": "2022-04-24T11:01:28.237Z"
   },
   {
    "duration": 1845,
    "start_time": "2022-04-24T11:01:28.247Z"
   },
   {
    "duration": 8,
    "start_time": "2022-04-24T11:01:30.096Z"
   },
   {
    "duration": 898,
    "start_time": "2022-04-24T11:01:30.107Z"
   },
   {
    "duration": 26,
    "start_time": "2022-04-24T11:01:31.008Z"
   },
   {
    "duration": 7,
    "start_time": "2022-04-24T11:01:31.038Z"
   },
   {
    "duration": 803,
    "start_time": "2022-04-24T11:01:31.048Z"
   },
   {
    "duration": 7,
    "start_time": "2022-04-24T11:01:31.854Z"
   },
   {
    "duration": 10,
    "start_time": "2022-04-24T11:01:31.870Z"
   },
   {
    "duration": 21,
    "start_time": "2022-04-24T11:01:31.883Z"
   },
   {
    "duration": 27,
    "start_time": "2022-04-24T11:01:31.907Z"
   },
   {
    "duration": 20,
    "start_time": "2022-04-24T11:01:31.937Z"
   },
   {
    "duration": 24696,
    "start_time": "2022-04-24T11:01:31.959Z"
   },
   {
    "duration": 21748,
    "start_time": "2022-04-24T11:01:56.658Z"
   },
   {
    "duration": 4,
    "start_time": "2022-04-24T11:02:18.408Z"
   },
   {
    "duration": 16,
    "start_time": "2022-04-24T11:02:18.415Z"
   },
   {
    "duration": 615,
    "start_time": "2022-04-24T11:02:18.433Z"
   },
   {
    "duration": 0,
    "start_time": "2022-04-24T11:02:19.051Z"
   },
   {
    "duration": 0,
    "start_time": "2022-04-24T11:02:19.052Z"
   },
   {
    "duration": 0,
    "start_time": "2022-04-24T11:02:19.054Z"
   },
   {
    "duration": 0,
    "start_time": "2022-04-24T11:02:19.055Z"
   },
   {
    "duration": 0,
    "start_time": "2022-04-24T11:02:19.057Z"
   },
   {
    "duration": 0,
    "start_time": "2022-04-24T11:02:19.058Z"
   },
   {
    "duration": 10,
    "start_time": "2022-04-24T11:03:53.094Z"
   },
   {
    "duration": 2806,
    "start_time": "2022-04-24T11:28:35.064Z"
   },
   {
    "duration": 1313,
    "start_time": "2022-04-24T11:28:37.873Z"
   },
   {
    "duration": 63,
    "start_time": "2022-04-24T11:28:39.189Z"
   },
   {
    "duration": 38,
    "start_time": "2022-04-24T11:28:39.259Z"
   },
   {
    "duration": 300,
    "start_time": "2022-04-24T11:28:39.300Z"
   },
   {
    "duration": 49,
    "start_time": "2022-04-24T11:28:39.603Z"
   },
   {
    "duration": 35,
    "start_time": "2022-04-24T11:28:39.655Z"
   },
   {
    "duration": 67,
    "start_time": "2022-04-24T11:28:39.693Z"
   },
   {
    "duration": 39,
    "start_time": "2022-04-24T11:28:39.763Z"
   },
   {
    "duration": 46,
    "start_time": "2022-04-24T11:28:39.805Z"
   },
   {
    "duration": 214,
    "start_time": "2022-04-24T11:28:39.854Z"
   },
   {
    "duration": 5,
    "start_time": "2022-04-24T11:28:40.071Z"
   },
   {
    "duration": 18,
    "start_time": "2022-04-24T11:28:40.080Z"
   },
   {
    "duration": 26,
    "start_time": "2022-04-24T11:28:40.102Z"
   },
   {
    "duration": 20,
    "start_time": "2022-04-24T11:28:40.131Z"
   },
   {
    "duration": 25,
    "start_time": "2022-04-24T11:28:40.154Z"
   },
   {
    "duration": 16,
    "start_time": "2022-04-24T11:28:40.182Z"
   },
   {
    "duration": 28,
    "start_time": "2022-04-24T11:28:40.201Z"
   },
   {
    "duration": 149,
    "start_time": "2022-04-24T11:28:40.235Z"
   },
   {
    "duration": 6,
    "start_time": "2022-04-24T11:28:40.387Z"
   },
   {
    "duration": 30,
    "start_time": "2022-04-24T11:28:40.396Z"
   },
   {
    "duration": 40,
    "start_time": "2022-04-24T11:28:40.429Z"
   },
   {
    "duration": 32,
    "start_time": "2022-04-24T11:28:40.472Z"
   },
   {
    "duration": 33,
    "start_time": "2022-04-24T11:28:40.507Z"
   },
   {
    "duration": 12,
    "start_time": "2022-04-24T11:28:40.542Z"
   },
   {
    "duration": 2101,
    "start_time": "2022-04-24T11:28:40.556Z"
   },
   {
    "duration": 2185,
    "start_time": "2022-04-24T11:28:42.661Z"
   },
   {
    "duration": 1945,
    "start_time": "2022-04-24T11:28:44.853Z"
   },
   {
    "duration": 949,
    "start_time": "2022-04-24T11:28:46.801Z"
   },
   {
    "duration": 8,
    "start_time": "2022-04-24T11:28:47.754Z"
   },
   {
    "duration": 8,
    "start_time": "2022-04-24T11:28:47.766Z"
   },
   {
    "duration": 12,
    "start_time": "2022-04-24T11:28:47.778Z"
   },
   {
    "duration": 33,
    "start_time": "2022-04-24T11:28:47.792Z"
   },
   {
    "duration": 2359,
    "start_time": "2022-04-24T11:28:47.829Z"
   },
   {
    "duration": 7,
    "start_time": "2022-04-24T11:28:50.191Z"
   },
   {
    "duration": 945,
    "start_time": "2022-04-24T11:28:50.203Z"
   },
   {
    "duration": 17,
    "start_time": "2022-04-24T11:28:51.152Z"
   },
   {
    "duration": 7,
    "start_time": "2022-04-24T11:28:51.172Z"
   },
   {
    "duration": 708,
    "start_time": "2022-04-24T11:28:51.182Z"
   },
   {
    "duration": 6,
    "start_time": "2022-04-24T11:28:51.893Z"
   },
   {
    "duration": 23,
    "start_time": "2022-04-24T11:28:51.903Z"
   },
   {
    "duration": 11,
    "start_time": "2022-04-24T11:28:51.930Z"
   },
   {
    "duration": 11,
    "start_time": "2022-04-24T11:28:51.944Z"
   },
   {
    "duration": 16,
    "start_time": "2022-04-24T11:28:51.958Z"
   },
   {
    "duration": 28206,
    "start_time": "2022-04-24T11:28:51.977Z"
   },
   {
    "duration": 20482,
    "start_time": "2022-04-24T11:29:20.186Z"
   },
   {
    "duration": 7,
    "start_time": "2022-04-24T11:29:40.671Z"
   },
   {
    "duration": 11,
    "start_time": "2022-04-24T11:29:40.682Z"
   },
   {
    "duration": 605523,
    "start_time": "2022-04-24T11:29:40.697Z"
   },
   {
    "duration": 620955,
    "start_time": "2022-04-24T11:39:46.226Z"
   },
   {
    "duration": 4,
    "start_time": "2022-04-24T11:50:07.183Z"
   },
   {
    "duration": 9,
    "start_time": "2022-04-24T11:50:07.190Z"
   },
   {
    "duration": 3040,
    "start_time": "2022-04-24T11:50:07.202Z"
   },
   {
    "duration": 2881,
    "start_time": "2022-04-24T11:50:10.246Z"
   },
   {
    "duration": 8,
    "start_time": "2022-04-24T11:50:13.136Z"
   },
   {
    "duration": 5,
    "start_time": "2022-04-24T11:58:09.906Z"
   },
   {
    "duration": 2642,
    "start_time": "2022-04-24T11:58:10.693Z"
   },
   {
    "duration": 5,
    "start_time": "2022-04-24T11:59:51.369Z"
   },
   {
    "duration": 2345,
    "start_time": "2022-04-24T11:59:52.282Z"
   },
   {
    "duration": 3073,
    "start_time": "2022-04-24T11:59:55.775Z"
   },
   {
    "duration": 4,
    "start_time": "2022-04-24T11:59:59.791Z"
   },
   {
    "duration": 6,
    "start_time": "2022-04-24T12:00:57.700Z"
   },
   {
    "duration": 5,
    "start_time": "2022-04-24T12:02:34.524Z"
   },
   {
    "duration": 5,
    "start_time": "2022-04-24T12:02:42.288Z"
   },
   {
    "duration": 178,
    "start_time": "2022-04-24T12:03:58.722Z"
   },
   {
    "duration": 2303,
    "start_time": "2022-04-24T12:04:33.359Z"
   },
   {
    "duration": 1051,
    "start_time": "2022-04-24T12:04:35.666Z"
   },
   {
    "duration": 63,
    "start_time": "2022-04-24T12:04:36.720Z"
   },
   {
    "duration": 58,
    "start_time": "2022-04-24T12:04:36.787Z"
   },
   {
    "duration": 370,
    "start_time": "2022-04-24T12:04:36.847Z"
   },
   {
    "duration": 44,
    "start_time": "2022-04-24T12:04:37.219Z"
   },
   {
    "duration": 30,
    "start_time": "2022-04-24T12:04:37.266Z"
   },
   {
    "duration": 48,
    "start_time": "2022-04-24T12:04:37.326Z"
   },
   {
    "duration": 63,
    "start_time": "2022-04-24T12:04:37.377Z"
   },
   {
    "duration": 39,
    "start_time": "2022-04-24T12:04:37.445Z"
   },
   {
    "duration": 268,
    "start_time": "2022-04-24T12:04:37.486Z"
   },
   {
    "duration": 4,
    "start_time": "2022-04-24T12:04:37.757Z"
   },
   {
    "duration": 27,
    "start_time": "2022-04-24T12:04:37.764Z"
   },
   {
    "duration": 7,
    "start_time": "2022-04-24T12:04:37.793Z"
   },
   {
    "duration": 29,
    "start_time": "2022-04-24T12:04:37.802Z"
   },
   {
    "duration": 8,
    "start_time": "2022-04-24T12:04:37.834Z"
   },
   {
    "duration": 10,
    "start_time": "2022-04-24T12:04:37.845Z"
   },
   {
    "duration": 21,
    "start_time": "2022-04-24T12:04:37.858Z"
   },
   {
    "duration": 189,
    "start_time": "2022-04-24T12:04:37.882Z"
   },
   {
    "duration": 9,
    "start_time": "2022-04-24T12:04:38.074Z"
   },
   {
    "duration": 15,
    "start_time": "2022-04-24T12:04:38.086Z"
   },
   {
    "duration": 48,
    "start_time": "2022-04-24T12:04:38.103Z"
   },
   {
    "duration": 29,
    "start_time": "2022-04-24T12:04:38.154Z"
   },
   {
    "duration": 36,
    "start_time": "2022-04-24T12:04:38.186Z"
   },
   {
    "duration": 11,
    "start_time": "2022-04-24T12:04:38.224Z"
   },
   {
    "duration": 2023,
    "start_time": "2022-04-24T12:04:38.238Z"
   },
   {
    "duration": 1577,
    "start_time": "2022-04-24T12:04:40.264Z"
   },
   {
    "duration": 1987,
    "start_time": "2022-04-24T12:04:41.852Z"
   },
   {
    "duration": 1142,
    "start_time": "2022-04-24T12:04:43.841Z"
   },
   {
    "duration": 6,
    "start_time": "2022-04-24T12:04:44.987Z"
   },
   {
    "duration": 29,
    "start_time": "2022-04-24T12:04:44.996Z"
   },
   {
    "duration": 17,
    "start_time": "2022-04-24T12:04:45.028Z"
   },
   {
    "duration": 18,
    "start_time": "2022-04-24T12:04:45.047Z"
   },
   {
    "duration": 2217,
    "start_time": "2022-04-24T12:04:45.068Z"
   },
   {
    "duration": 7,
    "start_time": "2022-04-24T12:04:47.288Z"
   },
   {
    "duration": 769,
    "start_time": "2022-04-24T12:04:47.297Z"
   },
   {
    "duration": 16,
    "start_time": "2022-04-24T12:04:48.069Z"
   },
   {
    "duration": 11,
    "start_time": "2022-04-24T12:04:48.087Z"
   },
   {
    "duration": 469,
    "start_time": "2022-04-24T12:04:48.101Z"
   },
   {
    "duration": 5,
    "start_time": "2022-04-24T12:04:48.574Z"
   },
   {
    "duration": 7,
    "start_time": "2022-04-24T12:04:48.581Z"
   },
   {
    "duration": 7,
    "start_time": "2022-04-24T12:04:48.591Z"
   },
   {
    "duration": 6,
    "start_time": "2022-04-24T12:04:48.625Z"
   },
   {
    "duration": 7,
    "start_time": "2022-04-24T12:04:48.633Z"
   },
   {
    "duration": 26276,
    "start_time": "2022-04-24T12:04:48.643Z"
   },
   {
    "duration": 28023,
    "start_time": "2022-04-24T12:05:14.927Z"
   },
   {
    "duration": 392,
    "start_time": "2022-04-24T12:05:42.953Z"
   },
   {
    "duration": 0,
    "start_time": "2022-04-24T12:05:43.348Z"
   },
   {
    "duration": 0,
    "start_time": "2022-04-24T12:05:43.350Z"
   },
   {
    "duration": 0,
    "start_time": "2022-04-24T12:05:43.351Z"
   },
   {
    "duration": 0,
    "start_time": "2022-04-24T12:05:43.352Z"
   },
   {
    "duration": 0,
    "start_time": "2022-04-24T12:05:43.354Z"
   },
   {
    "duration": 0,
    "start_time": "2022-04-24T12:05:43.355Z"
   },
   {
    "duration": 0,
    "start_time": "2022-04-24T12:05:43.356Z"
   },
   {
    "duration": 0,
    "start_time": "2022-04-24T12:05:43.357Z"
   },
   {
    "duration": 4,
    "start_time": "2022-04-24T12:06:45.351Z"
   },
   {
    "duration": 10,
    "start_time": "2022-04-24T12:06:47.944Z"
   },
   {
    "duration": 11,
    "start_time": "2022-04-24T12:06:54.050Z"
   },
   {
    "duration": 639436,
    "start_time": "2022-04-24T12:06:54.064Z"
   },
   {
    "duration": 668055,
    "start_time": "2022-04-24T12:17:33.503Z"
   },
   {
    "duration": 4,
    "start_time": "2022-04-24T12:28:41.562Z"
   },
   {
    "duration": 15,
    "start_time": "2022-04-24T12:28:41.569Z"
   },
   {
    "duration": 2541,
    "start_time": "2022-04-24T12:28:41.587Z"
   },
   {
    "duration": 2607,
    "start_time": "2022-04-24T12:28:44.132Z"
   },
   {
    "duration": 14,
    "start_time": "2022-04-24T12:28:46.824Z"
   },
   {
    "duration": 4,
    "start_time": "2022-04-24T12:36:26.492Z"
   },
   {
    "duration": 5,
    "start_time": "2022-04-24T12:38:14.304Z"
   },
   {
    "duration": 5,
    "start_time": "2022-04-24T12:40:02.839Z"
   },
   {
    "duration": 45,
    "start_time": "2022-04-24T12:40:02.848Z"
   },
   {
    "duration": 0,
    "start_time": "2022-04-24T12:40:02.896Z"
   },
   {
    "duration": 0,
    "start_time": "2022-04-24T12:40:02.898Z"
   },
   {
    "duration": 7,
    "start_time": "2022-04-24T12:41:21.061Z"
   },
   {
    "duration": 2363,
    "start_time": "2022-04-24T12:41:21.071Z"
   },
   {
    "duration": 1887,
    "start_time": "2022-04-24T12:41:23.439Z"
   },
   {
    "duration": 6,
    "start_time": "2022-04-24T12:41:25.330Z"
   },
   {
    "duration": 3401,
    "start_time": "2022-04-24T12:58:57.593Z"
   },
   {
    "duration": 1109,
    "start_time": "2022-04-24T12:59:00.997Z"
   },
   {
    "duration": 72,
    "start_time": "2022-04-24T12:59:02.108Z"
   },
   {
    "duration": 66,
    "start_time": "2022-04-24T12:59:02.184Z"
   },
   {
    "duration": 291,
    "start_time": "2022-04-24T12:59:02.254Z"
   },
   {
    "duration": 44,
    "start_time": "2022-04-24T12:59:02.549Z"
   },
   {
    "duration": 54,
    "start_time": "2022-04-24T12:59:02.597Z"
   },
   {
    "duration": 51,
    "start_time": "2022-04-24T12:59:02.654Z"
   },
   {
    "duration": 45,
    "start_time": "2022-04-24T12:59:02.711Z"
   },
   {
    "duration": 34,
    "start_time": "2022-04-24T12:59:02.761Z"
   },
   {
    "duration": 234,
    "start_time": "2022-04-24T12:59:02.798Z"
   },
   {
    "duration": 12,
    "start_time": "2022-04-24T12:59:03.035Z"
   },
   {
    "duration": 21,
    "start_time": "2022-04-24T12:59:03.050Z"
   },
   {
    "duration": 11,
    "start_time": "2022-04-24T12:59:03.074Z"
   },
   {
    "duration": 37,
    "start_time": "2022-04-24T12:59:03.088Z"
   },
   {
    "duration": 14,
    "start_time": "2022-04-24T12:59:03.128Z"
   },
   {
    "duration": 11,
    "start_time": "2022-04-24T12:59:03.145Z"
   },
   {
    "duration": 17,
    "start_time": "2022-04-24T12:59:03.159Z"
   },
   {
    "duration": 167,
    "start_time": "2022-04-24T12:59:03.179Z"
   },
   {
    "duration": 7,
    "start_time": "2022-04-24T12:59:03.349Z"
   },
   {
    "duration": 17,
    "start_time": "2022-04-24T12:59:03.358Z"
   },
   {
    "duration": 63,
    "start_time": "2022-04-24T12:59:03.377Z"
   },
   {
    "duration": 28,
    "start_time": "2022-04-24T12:59:03.445Z"
   },
   {
    "duration": 27,
    "start_time": "2022-04-24T12:59:03.476Z"
   },
   {
    "duration": 21,
    "start_time": "2022-04-24T12:59:03.507Z"
   },
   {
    "duration": 2279,
    "start_time": "2022-04-24T12:59:03.532Z"
   },
   {
    "duration": 2397,
    "start_time": "2022-04-24T12:59:05.819Z"
   },
   {
    "duration": 2241,
    "start_time": "2022-04-24T12:59:08.229Z"
   },
   {
    "duration": 1578,
    "start_time": "2022-04-24T12:59:10.473Z"
   },
   {
    "duration": 11,
    "start_time": "2022-04-24T12:59:12.054Z"
   },
   {
    "duration": 33,
    "start_time": "2022-04-24T12:59:12.069Z"
   },
   {
    "duration": 11,
    "start_time": "2022-04-24T12:59:12.107Z"
   },
   {
    "duration": 17,
    "start_time": "2022-04-24T12:59:12.123Z"
   },
   {
    "duration": 2804,
    "start_time": "2022-04-24T12:59:12.144Z"
   },
   {
    "duration": 11,
    "start_time": "2022-04-24T12:59:14.951Z"
   },
   {
    "duration": 972,
    "start_time": "2022-04-24T12:59:14.965Z"
   },
   {
    "duration": 17,
    "start_time": "2022-04-24T12:59:15.940Z"
   },
   {
    "duration": 8,
    "start_time": "2022-04-24T12:59:15.961Z"
   },
   {
    "duration": 1571,
    "start_time": "2022-04-24T12:59:15.974Z"
   },
   {
    "duration": 6,
    "start_time": "2022-04-24T12:59:17.549Z"
   },
   {
    "duration": 64,
    "start_time": "2022-04-24T12:59:17.559Z"
   },
   {
    "duration": 5,
    "start_time": "2022-04-24T12:59:17.643Z"
   },
   {
    "duration": 11,
    "start_time": "2022-04-24T12:59:17.652Z"
   },
   {
    "duration": 14,
    "start_time": "2022-04-24T12:59:17.667Z"
   },
   {
    "duration": 30171,
    "start_time": "2022-04-24T12:59:17.725Z"
   },
   {
    "duration": 21299,
    "start_time": "2022-04-24T12:59:47.900Z"
   },
   {
    "duration": 6,
    "start_time": "2022-04-24T13:00:09.203Z"
   },
   {
    "duration": 13,
    "start_time": "2022-04-24T13:00:09.225Z"
   },
   {
    "duration": 709940,
    "start_time": "2022-04-24T13:00:09.241Z"
   },
   {
    "duration": 714915,
    "start_time": "2022-04-24T13:11:59.186Z"
   },
   {
    "duration": 5,
    "start_time": "2022-04-24T13:23:54.103Z"
   },
   {
    "duration": 27,
    "start_time": "2022-04-24T13:23:54.110Z"
   },
   {
    "duration": 3985,
    "start_time": "2022-04-24T13:23:54.140Z"
   },
   {
    "duration": 3300,
    "start_time": "2022-04-24T13:23:58.128Z"
   },
   {
    "duration": 7,
    "start_time": "2022-04-24T13:24:01.433Z"
   },
   {
    "duration": 98,
    "start_time": "2022-04-24T13:24:01.453Z"
   },
   {
    "duration": 2379,
    "start_time": "2022-04-24T13:24:01.554Z"
   },
   {
    "duration": 2396,
    "start_time": "2022-04-24T13:24:03.938Z"
   },
   {
    "duration": 12,
    "start_time": "2022-04-24T13:24:06.343Z"
   },
   {
    "duration": 2183,
    "start_time": "2022-04-24T13:26:41.098Z"
   },
   {
    "duration": 1206,
    "start_time": "2022-04-24T13:26:43.284Z"
   },
   {
    "duration": 55,
    "start_time": "2022-04-24T13:26:44.493Z"
   },
   {
    "duration": 26,
    "start_time": "2022-04-24T13:26:44.552Z"
   },
   {
    "duration": 212,
    "start_time": "2022-04-24T13:26:44.580Z"
   },
   {
    "duration": 53,
    "start_time": "2022-04-24T13:26:44.794Z"
   },
   {
    "duration": 25,
    "start_time": "2022-04-24T13:26:44.850Z"
   },
   {
    "duration": 77,
    "start_time": "2022-04-24T13:26:44.878Z"
   },
   {
    "duration": 50,
    "start_time": "2022-04-24T13:26:44.957Z"
   },
   {
    "duration": 27,
    "start_time": "2022-04-24T13:26:45.034Z"
   },
   {
    "duration": 190,
    "start_time": "2022-04-24T13:26:45.064Z"
   },
   {
    "duration": 4,
    "start_time": "2022-04-24T13:26:45.256Z"
   },
   {
    "duration": 185,
    "start_time": "2022-04-24T13:26:45.262Z"
   },
   {
    "duration": 0,
    "start_time": "2022-04-24T13:26:45.451Z"
   },
   {
    "duration": 0,
    "start_time": "2022-04-24T13:26:45.453Z"
   },
   {
    "duration": 0,
    "start_time": "2022-04-24T13:26:45.454Z"
   },
   {
    "duration": 0,
    "start_time": "2022-04-24T13:26:45.455Z"
   },
   {
    "duration": 0,
    "start_time": "2022-04-24T13:26:45.457Z"
   },
   {
    "duration": 0,
    "start_time": "2022-04-24T13:26:45.458Z"
   },
   {
    "duration": 0,
    "start_time": "2022-04-24T13:26:45.460Z"
   },
   {
    "duration": 0,
    "start_time": "2022-04-24T13:26:45.462Z"
   },
   {
    "duration": 0,
    "start_time": "2022-04-24T13:26:45.463Z"
   },
   {
    "duration": 0,
    "start_time": "2022-04-24T13:26:45.464Z"
   },
   {
    "duration": 0,
    "start_time": "2022-04-24T13:26:45.466Z"
   },
   {
    "duration": 0,
    "start_time": "2022-04-24T13:26:45.467Z"
   },
   {
    "duration": 0,
    "start_time": "2022-04-24T13:26:45.469Z"
   },
   {
    "duration": 0,
    "start_time": "2022-04-24T13:26:45.470Z"
   },
   {
    "duration": 0,
    "start_time": "2022-04-24T13:26:45.472Z"
   },
   {
    "duration": 0,
    "start_time": "2022-04-24T13:26:45.473Z"
   },
   {
    "duration": 0,
    "start_time": "2022-04-24T13:26:45.475Z"
   },
   {
    "duration": 0,
    "start_time": "2022-04-24T13:26:45.476Z"
   },
   {
    "duration": 0,
    "start_time": "2022-04-24T13:26:45.477Z"
   },
   {
    "duration": 0,
    "start_time": "2022-04-24T13:26:45.525Z"
   },
   {
    "duration": 0,
    "start_time": "2022-04-24T13:26:45.527Z"
   },
   {
    "duration": 0,
    "start_time": "2022-04-24T13:26:45.538Z"
   },
   {
    "duration": 0,
    "start_time": "2022-04-24T13:26:45.542Z"
   },
   {
    "duration": 0,
    "start_time": "2022-04-24T13:26:45.544Z"
   },
   {
    "duration": 0,
    "start_time": "2022-04-24T13:26:45.545Z"
   },
   {
    "duration": 0,
    "start_time": "2022-04-24T13:26:45.547Z"
   },
   {
    "duration": 0,
    "start_time": "2022-04-24T13:26:45.549Z"
   },
   {
    "duration": 0,
    "start_time": "2022-04-24T13:26:45.550Z"
   },
   {
    "duration": 0,
    "start_time": "2022-04-24T13:26:45.552Z"
   },
   {
    "duration": 0,
    "start_time": "2022-04-24T13:26:45.553Z"
   },
   {
    "duration": 0,
    "start_time": "2022-04-24T13:26:45.555Z"
   },
   {
    "duration": 0,
    "start_time": "2022-04-24T13:26:45.556Z"
   },
   {
    "duration": 0,
    "start_time": "2022-04-24T13:26:45.559Z"
   },
   {
    "duration": 0,
    "start_time": "2022-04-24T13:26:45.560Z"
   },
   {
    "duration": 0,
    "start_time": "2022-04-24T13:26:45.561Z"
   },
   {
    "duration": 0,
    "start_time": "2022-04-24T13:26:45.562Z"
   },
   {
    "duration": 0,
    "start_time": "2022-04-24T13:26:45.563Z"
   },
   {
    "duration": 0,
    "start_time": "2022-04-24T13:26:45.565Z"
   },
   {
    "duration": 0,
    "start_time": "2022-04-24T13:26:45.567Z"
   },
   {
    "duration": 0,
    "start_time": "2022-04-24T13:26:45.569Z"
   },
   {
    "duration": 0,
    "start_time": "2022-04-24T13:26:45.570Z"
   },
   {
    "duration": 0,
    "start_time": "2022-04-24T13:26:45.572Z"
   },
   {
    "duration": 0,
    "start_time": "2022-04-24T13:26:45.573Z"
   },
   {
    "duration": 0,
    "start_time": "2022-04-24T13:26:45.574Z"
   },
   {
    "duration": 4444,
    "start_time": "2022-04-24T13:28:14.587Z"
   },
   {
    "duration": 1150,
    "start_time": "2022-04-24T13:28:19.035Z"
   },
   {
    "duration": 68,
    "start_time": "2022-04-24T13:28:20.188Z"
   },
   {
    "duration": 43,
    "start_time": "2022-04-24T13:28:20.259Z"
   },
   {
    "duration": 281,
    "start_time": "2022-04-24T13:28:20.306Z"
   },
   {
    "duration": 60,
    "start_time": "2022-04-24T13:28:20.590Z"
   },
   {
    "duration": 30,
    "start_time": "2022-04-24T13:28:20.653Z"
   },
   {
    "duration": 73,
    "start_time": "2022-04-24T13:28:20.686Z"
   },
   {
    "duration": 75,
    "start_time": "2022-04-24T13:28:20.762Z"
   },
   {
    "duration": 38,
    "start_time": "2022-04-24T13:28:20.840Z"
   },
   {
    "duration": 203,
    "start_time": "2022-04-24T13:28:20.881Z"
   },
   {
    "duration": 5,
    "start_time": "2022-04-24T13:28:21.087Z"
   },
   {
    "duration": 26,
    "start_time": "2022-04-24T13:28:21.094Z"
   },
   {
    "duration": 34,
    "start_time": "2022-04-24T13:28:21.126Z"
   },
   {
    "duration": 32,
    "start_time": "2022-04-24T13:28:21.164Z"
   },
   {
    "duration": 28,
    "start_time": "2022-04-24T13:28:21.200Z"
   },
   {
    "duration": 150,
    "start_time": "2022-04-24T13:28:21.232Z"
   },
   {
    "duration": 7,
    "start_time": "2022-04-24T13:28:21.384Z"
   },
   {
    "duration": 36,
    "start_time": "2022-04-24T13:28:21.394Z"
   },
   {
    "duration": 62,
    "start_time": "2022-04-24T13:28:21.433Z"
   },
   {
    "duration": 31,
    "start_time": "2022-04-24T13:28:21.497Z"
   },
   {
    "duration": 29,
    "start_time": "2022-04-24T13:28:21.531Z"
   },
   {
    "duration": 19,
    "start_time": "2022-04-24T13:28:21.563Z"
   },
   {
    "duration": 2262,
    "start_time": "2022-04-24T13:28:21.585Z"
   },
   {
    "duration": 1831,
    "start_time": "2022-04-24T13:28:23.850Z"
   },
   {
    "duration": 2065,
    "start_time": "2022-04-24T13:28:25.684Z"
   },
   {
    "duration": 1211,
    "start_time": "2022-04-24T13:28:27.752Z"
   },
   {
    "duration": 8,
    "start_time": "2022-04-24T13:28:28.967Z"
   },
   {
    "duration": 20,
    "start_time": "2022-04-24T13:28:28.978Z"
   },
   {
    "duration": 27,
    "start_time": "2022-04-24T13:28:29.001Z"
   },
   {
    "duration": 9,
    "start_time": "2022-04-24T13:28:29.031Z"
   },
   {
    "duration": 2129,
    "start_time": "2022-04-24T13:28:29.043Z"
   },
   {
    "duration": 8,
    "start_time": "2022-04-24T13:28:31.176Z"
   },
   {
    "duration": 971,
    "start_time": "2022-04-24T13:28:31.187Z"
   },
   {
    "duration": 14,
    "start_time": "2022-04-24T13:28:32.160Z"
   },
   {
    "duration": 11,
    "start_time": "2022-04-24T13:28:32.178Z"
   },
   {
    "duration": 694,
    "start_time": "2022-04-24T13:28:32.192Z"
   },
   {
    "duration": 5,
    "start_time": "2022-04-24T13:28:32.889Z"
   },
   {
    "duration": 10,
    "start_time": "2022-04-24T13:28:32.897Z"
   },
   {
    "duration": 11,
    "start_time": "2022-04-24T13:28:32.925Z"
   },
   {
    "duration": 24,
    "start_time": "2022-04-24T13:28:32.947Z"
   },
   {
    "duration": 22,
    "start_time": "2022-04-24T13:28:32.974Z"
   },
   {
    "duration": 23865,
    "start_time": "2022-04-24T13:28:32.998Z"
   },
   {
    "duration": 24481,
    "start_time": "2022-04-24T13:28:56.866Z"
   },
   {
    "duration": 6,
    "start_time": "2022-04-24T13:29:21.351Z"
   },
   {
    "duration": 20,
    "start_time": "2022-04-24T13:29:21.360Z"
   },
   {
    "duration": 655291,
    "start_time": "2022-04-24T13:29:21.384Z"
   },
   {
    "duration": 671751,
    "start_time": "2022-04-24T13:40:16.677Z"
   },
   {
    "duration": 8,
    "start_time": "2022-04-24T13:51:28.431Z"
   },
   {
    "duration": 29,
    "start_time": "2022-04-24T13:51:28.445Z"
   },
   {
    "duration": 4986,
    "start_time": "2022-04-24T13:51:28.477Z"
   },
   {
    "duration": 3214,
    "start_time": "2022-04-24T13:51:33.530Z"
   },
   {
    "duration": 63,
    "start_time": "2022-04-24T13:51:36.764Z"
   },
   {
    "duration": 56,
    "start_time": "2022-04-24T13:51:36.831Z"
   },
   {
    "duration": 2876,
    "start_time": "2022-04-24T13:51:36.890Z"
   },
   {
    "duration": 2367,
    "start_time": "2022-04-24T13:51:39.788Z"
   },
   {
    "duration": 17,
    "start_time": "2022-04-24T13:51:42.173Z"
   },
   {
    "duration": 45,
    "start_time": "2022-04-25T13:14:36.262Z"
   },
   {
    "duration": 1587,
    "start_time": "2022-04-25T13:19:07.428Z"
   },
   {
    "duration": 621,
    "start_time": "2022-04-25T13:19:09.017Z"
   },
   {
    "duration": 31,
    "start_time": "2022-04-25T13:19:09.639Z"
   },
   {
    "duration": 16,
    "start_time": "2022-04-25T13:19:09.672Z"
   },
   {
    "duration": 126,
    "start_time": "2022-04-25T13:19:09.690Z"
   },
   {
    "duration": 20,
    "start_time": "2022-04-25T13:19:09.817Z"
   },
   {
    "duration": 13,
    "start_time": "2022-04-25T13:19:09.847Z"
   },
   {
    "duration": 20,
    "start_time": "2022-04-25T13:19:09.861Z"
   },
   {
    "duration": 21,
    "start_time": "2022-04-25T13:19:09.882Z"
   },
   {
    "duration": 44,
    "start_time": "2022-04-25T13:19:09.904Z"
   },
   {
    "duration": 88,
    "start_time": "2022-04-25T13:19:09.949Z"
   },
   {
    "duration": 3,
    "start_time": "2022-04-25T13:19:10.048Z"
   },
   {
    "duration": 10,
    "start_time": "2022-04-25T13:19:10.053Z"
   },
   {
    "duration": 8,
    "start_time": "2022-04-25T13:19:10.066Z"
   },
   {
    "duration": 8,
    "start_time": "2022-04-25T13:19:10.076Z"
   },
   {
    "duration": 3,
    "start_time": "2022-04-25T13:19:10.086Z"
   },
   {
    "duration": 103,
    "start_time": "2022-04-25T13:19:10.091Z"
   },
   {
    "duration": 5,
    "start_time": "2022-04-25T13:19:10.195Z"
   },
   {
    "duration": 7,
    "start_time": "2022-04-25T13:19:10.201Z"
   },
   {
    "duration": 15,
    "start_time": "2022-04-25T13:19:10.210Z"
   },
   {
    "duration": 27,
    "start_time": "2022-04-25T13:19:10.227Z"
   },
   {
    "duration": 16,
    "start_time": "2022-04-25T13:19:10.256Z"
   },
   {
    "duration": 6,
    "start_time": "2022-04-25T13:19:10.273Z"
   },
   {
    "duration": 1324,
    "start_time": "2022-04-25T13:19:10.280Z"
   },
   {
    "duration": 1180,
    "start_time": "2022-04-25T13:19:11.606Z"
   },
   {
    "duration": 1193,
    "start_time": "2022-04-25T13:19:12.788Z"
   },
   {
    "duration": 601,
    "start_time": "2022-04-25T13:19:13.982Z"
   },
   {
    "duration": 4,
    "start_time": "2022-04-25T13:19:14.584Z"
   },
   {
    "duration": 9,
    "start_time": "2022-04-25T13:19:14.589Z"
   },
   {
    "duration": 5,
    "start_time": "2022-04-25T13:19:14.600Z"
   },
   {
    "duration": 5,
    "start_time": "2022-04-25T13:19:14.607Z"
   },
   {
    "duration": 1494,
    "start_time": "2022-04-25T13:19:14.613Z"
   },
   {
    "duration": 5,
    "start_time": "2022-04-25T13:19:16.109Z"
   },
   {
    "duration": 454,
    "start_time": "2022-04-25T13:19:16.115Z"
   },
   {
    "duration": 10,
    "start_time": "2022-04-25T13:19:16.571Z"
   },
   {
    "duration": 4,
    "start_time": "2022-04-25T13:19:16.582Z"
   },
   {
    "duration": 263,
    "start_time": "2022-04-25T13:19:16.587Z"
   },
   {
    "duration": 3,
    "start_time": "2022-04-25T13:19:16.851Z"
   },
   {
    "duration": 5,
    "start_time": "2022-04-25T13:19:16.856Z"
   },
   {
    "duration": 5,
    "start_time": "2022-04-25T13:19:16.862Z"
   },
   {
    "duration": 7,
    "start_time": "2022-04-25T13:19:16.872Z"
   },
   {
    "duration": 5,
    "start_time": "2022-04-25T13:19:16.880Z"
   },
   {
    "duration": 14482,
    "start_time": "2022-04-25T13:19:16.886Z"
   },
   {
    "duration": 14527,
    "start_time": "2022-04-25T13:19:31.369Z"
   },
   {
    "duration": 4,
    "start_time": "2022-04-25T13:19:45.898Z"
   },
   {
    "duration": 6,
    "start_time": "2022-04-25T13:19:45.904Z"
   },
   {
    "duration": 421923,
    "start_time": "2022-04-25T13:19:45.911Z"
   },
   {
    "duration": 420722,
    "start_time": "2022-04-25T13:26:47.836Z"
   },
   {
    "duration": 4,
    "start_time": "2022-04-25T13:33:48.560Z"
   },
   {
    "duration": 4,
    "start_time": "2022-04-25T13:33:48.567Z"
   },
   {
    "duration": 1375,
    "start_time": "2022-04-25T13:33:48.573Z"
   },
   {
    "duration": 1502,
    "start_time": "2022-04-25T13:33:49.950Z"
   },
   {
    "duration": 4,
    "start_time": "2022-04-25T13:33:51.454Z"
   },
   {
    "duration": 13,
    "start_time": "2022-04-25T13:33:51.549Z"
   },
   {
    "duration": 1109,
    "start_time": "2022-04-25T13:33:51.648Z"
   },
   {
    "duration": 1095,
    "start_time": "2022-04-25T13:33:52.759Z"
   },
   {
    "duration": 92,
    "start_time": "2022-04-25T13:33:53.857Z"
   },
   {
    "duration": 3,
    "start_time": "2022-04-25T13:38:53.714Z"
   },
   {
    "duration": 1661,
    "start_time": "2022-04-25T13:39:03.172Z"
   },
   {
    "duration": 681,
    "start_time": "2022-04-25T13:39:04.835Z"
   },
   {
    "duration": 30,
    "start_time": "2022-04-25T13:39:05.518Z"
   },
   {
    "duration": 17,
    "start_time": "2022-04-25T13:39:05.550Z"
   },
   {
    "duration": 124,
    "start_time": "2022-04-25T13:39:05.569Z"
   },
   {
    "duration": 23,
    "start_time": "2022-04-25T13:39:05.694Z"
   },
   {
    "duration": 31,
    "start_time": "2022-04-25T13:39:05.719Z"
   },
   {
    "duration": 22,
    "start_time": "2022-04-25T13:39:05.753Z"
   },
   {
    "duration": 23,
    "start_time": "2022-04-25T13:39:05.776Z"
   },
   {
    "duration": 47,
    "start_time": "2022-04-25T13:39:05.801Z"
   },
   {
    "duration": 87,
    "start_time": "2022-04-25T13:39:05.850Z"
   },
   {
    "duration": 3,
    "start_time": "2022-04-25T13:39:05.947Z"
   },
   {
    "duration": 9,
    "start_time": "2022-04-25T13:39:05.952Z"
   },
   {
    "duration": 3,
    "start_time": "2022-04-25T13:39:05.963Z"
   },
   {
    "duration": 15,
    "start_time": "2022-04-25T13:39:05.968Z"
   },
   {
    "duration": 4,
    "start_time": "2022-04-25T13:39:05.985Z"
   },
   {
    "duration": 114,
    "start_time": "2022-04-25T13:39:05.990Z"
   },
   {
    "duration": 6,
    "start_time": "2022-04-25T13:39:06.105Z"
   },
   {
    "duration": 25,
    "start_time": "2022-04-25T13:39:06.113Z"
   },
   {
    "duration": 31,
    "start_time": "2022-04-25T13:39:06.140Z"
   },
   {
    "duration": 21,
    "start_time": "2022-04-25T13:39:06.175Z"
   },
   {
    "duration": 17,
    "start_time": "2022-04-25T13:39:06.198Z"
   },
   {
    "duration": 6,
    "start_time": "2022-04-25T13:39:06.217Z"
   },
   {
    "duration": 1759,
    "start_time": "2022-04-25T13:39:06.225Z"
   },
   {
    "duration": 1539,
    "start_time": "2022-04-25T13:39:07.987Z"
   },
   {
    "duration": 1379,
    "start_time": "2022-04-25T13:39:09.529Z"
   },
   {
    "duration": 832,
    "start_time": "2022-04-25T13:39:10.911Z"
   },
   {
    "duration": 5,
    "start_time": "2022-04-25T13:39:11.751Z"
   },
   {
    "duration": 6,
    "start_time": "2022-04-25T13:39:11.758Z"
   },
   {
    "duration": 5,
    "start_time": "2022-04-25T13:39:11.766Z"
   },
   {
    "duration": 7,
    "start_time": "2022-04-25T13:39:11.773Z"
   },
   {
    "duration": 1772,
    "start_time": "2022-04-25T13:39:11.782Z"
   },
   {
    "duration": 6,
    "start_time": "2022-04-25T13:39:13.557Z"
   },
   {
    "duration": 642,
    "start_time": "2022-04-25T13:39:13.565Z"
   },
   {
    "duration": 13,
    "start_time": "2022-04-25T13:39:14.210Z"
   },
   {
    "duration": 6,
    "start_time": "2022-04-25T13:39:14.225Z"
   },
   {
    "duration": 403,
    "start_time": "2022-04-25T13:39:14.249Z"
   },
   {
    "duration": 4,
    "start_time": "2022-04-25T13:39:14.655Z"
   },
   {
    "duration": 8,
    "start_time": "2022-04-25T13:39:14.661Z"
   },
   {
    "duration": 6,
    "start_time": "2022-04-25T13:39:14.671Z"
   },
   {
    "duration": 11,
    "start_time": "2022-04-25T13:39:14.679Z"
   },
   {
    "duration": 6,
    "start_time": "2022-04-25T13:39:14.692Z"
   },
   {
    "duration": 18907,
    "start_time": "2022-04-25T13:39:14.700Z"
   },
   {
    "duration": 18538,
    "start_time": "2022-04-25T13:39:33.610Z"
   },
   {
    "duration": 5,
    "start_time": "2022-04-25T13:39:52.150Z"
   },
   {
    "duration": 10,
    "start_time": "2022-04-25T13:39:52.156Z"
   },
   {
    "duration": 418015,
    "start_time": "2022-04-25T13:39:52.167Z"
   },
   {
    "duration": 405145,
    "start_time": "2022-04-25T13:46:50.184Z"
   },
   {
    "duration": 3,
    "start_time": "2022-04-25T13:53:35.331Z"
   },
   {
    "duration": 4,
    "start_time": "2022-04-25T13:53:35.347Z"
   },
   {
    "duration": 1797,
    "start_time": "2022-04-25T13:53:35.352Z"
   },
   {
    "duration": 1402,
    "start_time": "2022-04-25T13:53:37.151Z"
   },
   {
    "duration": 94,
    "start_time": "2022-04-25T13:53:38.555Z"
   },
   {
    "duration": 13,
    "start_time": "2022-04-25T13:53:38.651Z"
   },
   {
    "duration": 1105,
    "start_time": "2022-04-25T13:53:38.747Z"
   },
   {
    "duration": 1995,
    "start_time": "2022-04-25T13:53:39.856Z"
   },
   {
    "duration": 95,
    "start_time": "2022-04-25T13:53:41.853Z"
   },
   {
    "duration": 115,
    "start_time": "2022-04-25T14:09:16.946Z"
   },
   {
    "duration": 2225,
    "start_time": "2022-04-25T14:13:12.924Z"
   },
   {
    "duration": 3630,
    "start_time": "2022-04-25T14:14:13.068Z"
   },
   {
    "duration": 4,
    "start_time": "2022-04-25T14:16:43.215Z"
   },
   {
    "duration": 2105,
    "start_time": "2022-04-25T14:18:46.352Z"
   },
   {
    "duration": 2503,
    "start_time": "2022-04-25T14:18:49.171Z"
   },
   {
    "duration": 4,
    "start_time": "2022-04-25T14:31:31.724Z"
   },
   {
    "duration": 8,
    "start_time": "2022-04-25T14:37:27.876Z"
   },
   {
    "duration": 11,
    "start_time": "2022-04-25T14:40:47.669Z"
   },
   {
    "duration": 5,
    "start_time": "2022-04-25T14:41:04.074Z"
   },
   {
    "duration": 34,
    "start_time": "2022-04-25T14:43:46.612Z"
   },
   {
    "duration": 3,
    "start_time": "2022-04-25T14:46:00.306Z"
   },
   {
    "duration": 46,
    "start_time": "2022-04-25T14:46:01.995Z"
   },
   {
    "duration": 6,
    "start_time": "2022-04-25T14:47:43.653Z"
   },
   {
    "duration": 46,
    "start_time": "2022-04-25T14:47:45.836Z"
   },
   {
    "duration": 16,
    "start_time": "2022-04-25T14:48:45.959Z"
   },
   {
    "duration": 7,
    "start_time": "2022-04-25T14:50:49.512Z"
   },
   {
    "duration": 6,
    "start_time": "2022-04-25T14:55:19.846Z"
   },
   {
    "duration": 15,
    "start_time": "2022-04-25T14:55:23.452Z"
   },
   {
    "duration": 5,
    "start_time": "2022-04-25T14:56:44.772Z"
   },
   {
    "duration": 10,
    "start_time": "2022-04-25T14:56:46.206Z"
   },
   {
    "duration": 7,
    "start_time": "2022-04-25T14:57:07.218Z"
   },
   {
    "duration": 1533,
    "start_time": "2022-04-25T15:02:08.850Z"
   },
   {
    "duration": 662,
    "start_time": "2022-04-25T15:02:10.385Z"
   },
   {
    "duration": 27,
    "start_time": "2022-04-25T15:02:11.049Z"
   },
   {
    "duration": 17,
    "start_time": "2022-04-25T15:02:11.078Z"
   },
   {
    "duration": 136,
    "start_time": "2022-04-25T15:02:11.097Z"
   },
   {
    "duration": 26,
    "start_time": "2022-04-25T15:02:11.235Z"
   },
   {
    "duration": 14,
    "start_time": "2022-04-25T15:02:11.263Z"
   },
   {
    "duration": 21,
    "start_time": "2022-04-25T15:02:11.278Z"
   },
   {
    "duration": 51,
    "start_time": "2022-04-25T15:02:11.300Z"
   },
   {
    "duration": 18,
    "start_time": "2022-04-25T15:02:11.353Z"
   },
   {
    "duration": 122,
    "start_time": "2022-04-25T15:02:11.372Z"
   },
   {
    "duration": 3,
    "start_time": "2022-04-25T15:02:11.495Z"
   },
   {
    "duration": 10,
    "start_time": "2022-04-25T15:02:11.499Z"
   },
   {
    "duration": 3,
    "start_time": "2022-04-25T15:02:11.512Z"
   },
   {
    "duration": 33,
    "start_time": "2022-04-25T15:02:11.517Z"
   },
   {
    "duration": 4,
    "start_time": "2022-04-25T15:02:11.552Z"
   },
   {
    "duration": 104,
    "start_time": "2022-04-25T15:02:11.558Z"
   },
   {
    "duration": 6,
    "start_time": "2022-04-25T15:02:11.663Z"
   },
   {
    "duration": 5,
    "start_time": "2022-04-25T15:02:11.672Z"
   },
   {
    "duration": 21,
    "start_time": "2022-04-25T15:02:11.679Z"
   },
   {
    "duration": 18,
    "start_time": "2022-04-25T15:02:11.703Z"
   },
   {
    "duration": 21,
    "start_time": "2022-04-25T15:02:11.748Z"
   },
   {
    "duration": 8,
    "start_time": "2022-04-25T15:02:11.771Z"
   },
   {
    "duration": 1559,
    "start_time": "2022-04-25T15:02:11.781Z"
   },
   {
    "duration": 1473,
    "start_time": "2022-04-25T15:02:13.343Z"
   },
   {
    "duration": 1414,
    "start_time": "2022-04-25T15:02:14.818Z"
   },
   {
    "duration": 913,
    "start_time": "2022-04-25T15:02:16.234Z"
   },
   {
    "duration": 5,
    "start_time": "2022-04-25T15:02:17.150Z"
   },
   {
    "duration": 8,
    "start_time": "2022-04-25T15:02:17.157Z"
   },
   {
    "duration": 5,
    "start_time": "2022-04-25T15:02:17.167Z"
   },
   {
    "duration": 6,
    "start_time": "2022-04-25T15:02:17.174Z"
   },
   {
    "duration": 1912,
    "start_time": "2022-04-25T15:02:17.182Z"
   },
   {
    "duration": 5,
    "start_time": "2022-04-25T15:02:19.096Z"
   },
   {
    "duration": 589,
    "start_time": "2022-04-25T15:02:19.103Z"
   },
   {
    "duration": 14,
    "start_time": "2022-04-25T15:02:19.694Z"
   },
   {
    "duration": 5,
    "start_time": "2022-04-25T15:02:19.710Z"
   },
   {
    "duration": 435,
    "start_time": "2022-04-25T15:02:19.717Z"
   },
   {
    "duration": 4,
    "start_time": "2022-04-25T15:02:20.154Z"
   },
   {
    "duration": 8,
    "start_time": "2022-04-25T15:02:20.160Z"
   },
   {
    "duration": 6,
    "start_time": "2022-04-25T15:02:20.170Z"
   },
   {
    "duration": 9,
    "start_time": "2022-04-25T15:02:20.181Z"
   },
   {
    "duration": 8,
    "start_time": "2022-04-25T15:02:20.192Z"
   },
   {
    "duration": 19457,
    "start_time": "2022-04-25T15:02:20.202Z"
   },
   {
    "duration": 18424,
    "start_time": "2022-04-25T15:02:39.661Z"
   },
   {
    "duration": 4,
    "start_time": "2022-04-25T15:02:58.087Z"
   },
   {
    "duration": 8,
    "start_time": "2022-04-25T15:02:58.094Z"
   },
   {
    "duration": 489976,
    "start_time": "2022-04-25T15:02:58.104Z"
   },
   {
    "duration": 455654,
    "start_time": "2022-04-25T15:11:08.082Z"
   },
   {
    "duration": 12,
    "start_time": "2022-04-25T15:18:43.738Z"
   },
   {
    "duration": 5,
    "start_time": "2022-04-25T15:18:43.751Z"
   },
   {
    "duration": 1693,
    "start_time": "2022-04-25T15:18:43.758Z"
   },
   {
    "duration": 1705,
    "start_time": "2022-04-25T15:18:45.454Z"
   },
   {
    "duration": 87,
    "start_time": "2022-04-25T15:18:47.162Z"
   },
   {
    "duration": 7,
    "start_time": "2022-04-25T15:18:47.251Z"
   },
   {
    "duration": 2241,
    "start_time": "2022-04-25T15:18:47.260Z"
   },
   {
    "duration": 2817,
    "start_time": "2022-04-25T15:18:49.503Z"
   },
   {
    "duration": 4,
    "start_time": "2022-04-25T15:18:52.321Z"
   },
   {
    "duration": 1430,
    "start_time": "2022-04-25T15:18:52.327Z"
   },
   {
    "duration": 1401,
    "start_time": "2022-04-25T15:18:53.847Z"
   },
   {
    "duration": 3,
    "start_time": "2022-04-25T15:18:55.250Z"
   },
   {
    "duration": 9,
    "start_time": "2022-04-25T15:18:55.254Z"
   },
   {
    "duration": 7,
    "start_time": "2022-04-25T15:18:55.265Z"
   }
  ],
  "kernelspec": {
   "display_name": "Python 3 (ipykernel)",
   "language": "python",
   "name": "python3"
  },
  "language_info": {
   "codemirror_mode": {
    "name": "ipython",
    "version": 3
   },
   "file_extension": ".py",
   "mimetype": "text/x-python",
   "name": "python",
   "nbconvert_exporter": "python",
   "pygments_lexer": "ipython3",
   "version": "3.9.10"
  },
  "toc": {
   "base_numbering": 1,
   "nav_menu": {},
   "number_sections": true,
   "sideBar": true,
   "skip_h1_title": true,
   "title_cell": "Содержание",
   "title_sidebar": "Contents",
   "toc_cell": true,
   "toc_position": {
    "height": "calc(100% - 180px)",
    "left": "10px",
    "top": "150px",
    "width": "261.188px"
   },
   "toc_section_display": true,
   "toc_window_display": true
  }
 },
 "nbformat": 4,
 "nbformat_minor": 2
}
