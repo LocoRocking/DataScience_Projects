{
 "cells": [
  {
   "cell_type": "markdown",
   "metadata": {},
   "source": [
    "#  Forecasting taxi orders"
   ]
  },
  {
   "cell_type": "markdown",
   "metadata": {},
   "source": [
    "The Clear Taxi company has collected historical data on taxi orders at airports. To attract more drivers during the peak period, you need to predict the number of taxi orders for the next hour. Build a model for such a prediction.\n",
    "\n",
    "The value of the *RMSE* metric on the test set should not exceed 48.\n",
    "\n",
    "You need:\n",
    "\n",
    "1. Load the data and resample it one hour at a time.\n",
    "2. Analyze the data.\n",
    "3. Train different models with different hyperparameters. Make a test sample of 10% of the original data.\n",
    "4. Check the data on the test sample and draw conclusions.\n",
    "\n",
    "\n",
    "The data is in the `taxi.csv` file. The number of orders is in the `num_orders` column."
   ]
  },
  {
   "cell_type": "markdown",
   "metadata": {},
   "source": [
    "<font size=3><b>Project steps</b></font>\n",
    "\n",
    "1. Load the data and resample it one hour at a time.\n",
    "2. Analyze the data.\n",
    "3. Train different models with different hyperparameters. Make a test sample of 10% of the original data.\n",
    "4. Check the data on the test sample and draw conclusions."
   ]
  },
  {
   "cell_type": "markdown",
   "metadata": {},
   "source": [
    "## Data preparation"
   ]
  },
  {
   "cell_type": "code",
   "execution_count": 1,
   "metadata": {},
   "outputs": [],
   "source": [
    "import  scipy.signal.signaltools\n",
    "\n",
    "def _centered(arr, newsize):\n",
    "    # Return the center newsize portion of the array.\n",
    "    newsize = np.asarray(newsize)\n",
    "    currsize = np.array(arr.shape)\n",
    "    startind = (currsize - newsize) // 2\n",
    "    endind = startind + newsize\n",
    "    myslice = [slice(startind[k], endind[k]) for k in range(len(endind))]\n",
    "    return arr[tuple(myslice)]\n",
    "\n",
    "scipy.signal.signaltools._centered = _centered"
   ]
  },
  {
   "cell_type": "code",
   "execution_count": 2,
   "metadata": {},
   "outputs": [],
   "source": [
    "#load the necessary libraries\n",
    "import pandas as pd\n",
    "import numpy as np\n",
    "import matplotlib.pyplot as plt\n",
    "\n",
    "from statsmodels.tsa.seasonal import seasonal_decompose\n",
    "\n",
    "from sklearn.model_selection import train_test_split\n",
    "from sklearn.model_selection import GridSearchCV\n",
    "from sklearn.model_selection import TimeSeriesSplit\n",
    "from sklearn.metrics import mean_squared_error\n",
    "\n",
    "from catboost import CatBoostRegressor\n",
    "from lightgbm import LGBMRegressor\n",
    "from sklearn.ensemble import RandomForestRegressor\n",
    "from sklearn.linear_model import LinearRegression\n",
    "\n",
    "import warnings\n",
    "warnings.filterwarnings('ignore')"
   ]
  },
  {
   "cell_type": "code",
   "execution_count": 3,
   "metadata": {},
   "outputs": [],
   "source": [
    "#save the dataset and set the table index to the datetime column\n",
    "try:\n",
    "    df_taxi = pd.read_csv('/datasets/taxi.csv', index_col='datetime', parse_dates=[0])\n",
    "except FileNotFoundError:\n",
    "    print(\"File not found.\")\n",
    "except pd.errors.EmptyDataError:\n",
    "    print(\"No data\")\n",
    "except pd.errors.ParserError:\n",
    "    print(\"Parse error\")\n",
    "except Exception:\n",
    "    print(\"Some other exception\")"
   ]
  },
  {
   "cell_type": "code",
   "execution_count": 4,
   "metadata": {},
   "outputs": [
    {
     "data": {
      "text/html": [
       "<div>\n",
       "<style scoped>\n",
       "    .dataframe tbody tr th:only-of-type {\n",
       "        vertical-align: middle;\n",
       "    }\n",
       "\n",
       "    .dataframe tbody tr th {\n",
       "        vertical-align: top;\n",
       "    }\n",
       "\n",
       "    .dataframe thead th {\n",
       "        text-align: right;\n",
       "    }\n",
       "</style>\n",
       "<table border=\"1\" class=\"dataframe\">\n",
       "  <thead>\n",
       "    <tr style=\"text-align: right;\">\n",
       "      <th></th>\n",
       "      <th>num_orders</th>\n",
       "    </tr>\n",
       "    <tr>\n",
       "      <th>datetime</th>\n",
       "      <th></th>\n",
       "    </tr>\n",
       "  </thead>\n",
       "  <tbody>\n",
       "    <tr>\n",
       "      <th>2018-03-01 00:00:00</th>\n",
       "      <td>9</td>\n",
       "    </tr>\n",
       "    <tr>\n",
       "      <th>2018-03-01 00:10:00</th>\n",
       "      <td>14</td>\n",
       "    </tr>\n",
       "    <tr>\n",
       "      <th>2018-03-01 00:20:00</th>\n",
       "      <td>28</td>\n",
       "    </tr>\n",
       "    <tr>\n",
       "      <th>2018-03-01 00:30:00</th>\n",
       "      <td>20</td>\n",
       "    </tr>\n",
       "    <tr>\n",
       "      <th>2018-03-01 00:40:00</th>\n",
       "      <td>32</td>\n",
       "    </tr>\n",
       "  </tbody>\n",
       "</table>\n",
       "</div>"
      ],
      "text/plain": [
       "                     num_orders\n",
       "datetime                       \n",
       "2018-03-01 00:00:00           9\n",
       "2018-03-01 00:10:00          14\n",
       "2018-03-01 00:20:00          28\n",
       "2018-03-01 00:30:00          20\n",
       "2018-03-01 00:40:00          32"
      ]
     },
     "execution_count": 4,
     "metadata": {},
     "output_type": "execute_result"
    }
   ],
   "source": [
    "#sort the table index and get acquainted with the dataset\n",
    "df_taxi.sort_index(inplace=True)\n",
    "df_taxi.head(5)"
   ]
  },
  {
   "cell_type": "markdown",
   "metadata": {},
   "source": [
    "There are only 2 columns in the dataset - with the date and the number of orders. Let's check the data types."
   ]
  },
  {
   "cell_type": "code",
   "execution_count": 5,
   "metadata": {},
   "outputs": [
    {
     "name": "stdout",
     "output_type": "stream",
     "text": [
      "<class 'pandas.core.frame.DataFrame'>\n",
      "DatetimeIndex: 26496 entries, 2018-03-01 00:00:00 to 2018-08-31 23:50:00\n",
      "Data columns (total 1 columns):\n",
      " #   Column      Non-Null Count  Dtype\n",
      "---  ------      --------------  -----\n",
      " 0   num_orders  26496 non-null  int64\n",
      "dtypes: int64(1)\n",
      "memory usage: 414.0 KB\n"
     ]
    }
   ],
   "source": [
    "df_taxi.info()"
   ]
  },
  {
   "cell_type": "markdown",
   "metadata": {},
   "source": [
    "The data types are correct: a column with a date in the `Datetime` format, a column with the number of orders `num_orders` in the `int64` format. The dataset contains data from 00:00 on March 1, 2018 to 23:50 on August 31, 2018. There are no gaps in the dataset."
   ]
  },
  {
   "cell_type": "code",
   "execution_count": 6,
   "metadata": {},
   "outputs": [
    {
     "name": "stdout",
     "output_type": "stream",
     "text": [
      "True\n"
     ]
    }
   ],
   "source": [
    "#check if the dataset is ordered by index\n",
    "print(df_taxi.index.is_monotonic)"
   ]
  },
  {
   "cell_type": "markdown",
   "metadata": {},
   "source": [
    "The dataset is ordered by index, you can start the analysis."
   ]
  },
  {
   "cell_type": "markdown",
   "metadata": {},
   "source": [
    "## Data analysis"
   ]
  },
  {
   "cell_type": "markdown",
   "metadata": {},
   "source": [
    "At this stage, we will resample the dataset for 1 hour, and also look at the trends and seasonality of the dataset."
   ]
  },
  {
   "cell_type": "code",
   "execution_count": 7,
   "metadata": {},
   "outputs": [],
   "source": [
    "#resampling\n",
    "df_taxi = df_taxi.resample('1H').sum()"
   ]
  },
  {
   "cell_type": "markdown",
   "metadata": {},
   "source": [
    "The number of rows should decrease by 6 times, since before that there was an unloading every 10 minutes. Let's check."
   ]
  },
  {
   "cell_type": "code",
   "execution_count": 8,
   "metadata": {},
   "outputs": [
    {
     "name": "stdout",
     "output_type": "stream",
     "text": [
      "<class 'pandas.core.frame.DataFrame'>\n",
      "DatetimeIndex: 4416 entries, 2018-03-01 00:00:00 to 2018-08-31 23:00:00\n",
      "Freq: H\n",
      "Data columns (total 1 columns):\n",
      " #   Column      Non-Null Count  Dtype\n",
      "---  ------      --------------  -----\n",
      " 0   num_orders  4416 non-null   int64\n",
      "dtypes: int64(1)\n",
      "memory usage: 69.0 KB\n"
     ]
    }
   ],
   "source": [
    "df_taxi.info()"
   ]
  },
  {
   "cell_type": "markdown",
   "metadata": {},
   "source": [
    "Yes, the number of lines has decreased by 6 times. Now let's look at trends and seasonality."
   ]
  },
  {
   "cell_type": "code",
   "execution_count": 9,
   "metadata": {},
   "outputs": [
    {
     "data": {
      "image/png": "[encoded data removed]",
      "text/plain": [
       "<Figure size 864x864 with 3 Axes>"
      ]
     },
     "metadata": {
      "needs_background": "light"
     },
     "output_type": "display_data"
    }
   ],
   "source": [
    "decomposed = seasonal_decompose(df_taxi)\n",
    "\n",
    "plt.figure(figsize=(12, 12))\n",
    "\n",
    "plt.subplot(311)\n",
    "decomposed.trend.plot(ax=plt.gca())\n",
    "plt.title('Trend')\n",
    "\n",
    "plt.subplot(312)\n",
    "decomposed.seasonal.plot(ax=plt.gca())\n",
    "plt.title('Seasonality')\n",
    "\n",
    "plt.subplot(313)\n",
    "decomposed.resid.plot(ax=plt.gca())\n",
    "plt.title('Remainder')\n",
    "plt.tight_layout()"
   ]
  },
  {
   "cell_type": "markdown",
   "metadata": {},
   "source": [
    "According to the trend, we can see that the number of taxi orders has been continuously increasing since June. In terms of seasonality, nothing is clear, let's take a period of time for the last month of the sample - August."
   ]
  },
  {
   "cell_type": "code",
   "execution_count": 10,
   "metadata": {},
   "outputs": [
    {
     "data": {
      "image/png": "[encoded data removed]",
      "text/plain": [
       "<Figure size 864x864 with 3 Axes>"
      ]
     },
     "metadata": {
      "needs_background": "light"
     },
     "output_type": "display_data"
    }
   ],
   "source": [
    "decomposed_aug = seasonal_decompose(df_taxi['2018-08-01':'2018-08-31'])\n",
    "\n",
    "plt.figure(figsize=(12, 12))\n",
    "\n",
    "plt.subplot(311)\n",
    "decomposed_aug.trend.plot(ax=plt.gca())\n",
    "plt.title('August trend')\n",
    "\n",
    "plt.subplot(312)\n",
    "decomposed_aug.seasonal.plot(ax=plt.gca())\n",
    "plt.title('Seasonality for August')\n",
    "\n",
    "plt.subplot(313)\n",
    "decomposed_aug.resid.plot(ax=plt.gca())\n",
    "plt.title('August balance')\n",
    "plt.tight_layout()"
   ]
  },
  {
   "cell_type": "markdown",
   "metadata": {},
   "source": [
    "We also see an increase in the trend throughout August, and seasonality again shows complete stability, like an astronaut's cardiogram. Consider the seasonality in the context of one day, so that you can draw some conclusions."
   ]
  },
  {
   "cell_type": "code",
   "execution_count": 11,
   "metadata": {},
   "outputs": [
    {
     "data": {
      "text/plain": [
       "Text(0.5, 1.0, 'Seasonality per day')"
      ]
     },
     "execution_count": 11,
     "metadata": {},
     "output_type": "execute_result"
    },
    {
     "data": {
      "image/png": "[encoded data removed]",
      "text/plain": [
       "<Figure size 864x864 with 1 Axes>"
      ]
     },
     "metadata": {
      "needs_background": "light"
     },
     "output_type": "display_data"
    }
   ],
   "source": [
    "decomposed_day = seasonal_decompose(df_taxi['2018-08-01':'2018-08-02'])\n",
    "plt.figure(figsize=(12, 12))\n",
    "plt.subplot(312)\n",
    "decomposed_day.seasonal.plot(ax=plt.gca())\n",
    "plt.title('Seasonality per day')"
   ]
  },
  {
   "cell_type": "markdown",
   "metadata": {},
   "source": [
    "Now you can see better that at 6 am the increase in the number of orders begins, then a sharp drop in the number of orders from 11 am to 12 pm, then again an increase in the number of orders until 4 pm, then again a fall, and then an increase in the number of orders from 6 pm to 2 hours of the night, after which there is a sharp decrease in orders and at 6 am a new cycle begins. The peak of orders falls on the time period from 0 to 2 am."
   ]
  },
  {
   "cell_type": "markdown",
   "metadata": {},
   "source": [
    "## Training"
   ]
  },
  {
   "cell_type": "markdown",
   "metadata": {},
   "source": [
    "### Feature preparation"
   ]
  },
  {
   "cell_type": "markdown",
   "metadata": {},
   "source": [
    "Let's prepare our dataset for working with models. For this we:\n",
    "1. Let's create additional features for the dataset.\n",
    "2. Let's create a constant model to test our models for adequacy.\n",
    "3. Let's prepare the training and test sets in the ratio of 9:1."
   ]
  },
  {
   "cell_type": "markdown",
   "metadata": {},
   "source": [
    "Let's create new features for the dataset:\n",
    "1. Calendar features (month, day, day of the week).\n",
    "2. Lagging values.\n",
    "3. Moving average."
   ]
  },
  {
   "cell_type": "code",
   "execution_count": 12,
   "metadata": {},
   "outputs": [],
   "source": [
    "#create a function for calculating RMSE\n",
    "def rmse(target, prediction):\n",
    "    return mean_squared_error(target, prediction)**0.5"
   ]
  },
  {
   "cell_type": "code",
   "execution_count": 13,
   "metadata": {},
   "outputs": [],
   "source": [
    "def make_features(data, max_lag, rolling_mean_size):\n",
    "    df = data.copy(deep=True)\n",
    "    df['month'] = df.index.month\n",
    "    df['day'] = df.index.day\n",
    "    df['dayofweek'] = df.index.dayofweek\n",
    "    \n",
    "    for lag in range(1, max_lag + 1):\n",
    "        df['lag_{}'.format(lag)] = df['num_orders'].shift(lag)\n",
    "\n",
    "    df['rolling_mean'] = df['num_orders'].shift().rolling(rolling_mean_size).mean()\n",
    "    \n",
    "    return df\n",
    "\n",
    "#take arbitrary values\n",
    "df = make_features(df_taxi, 30, 40)"
   ]
  },
  {
   "cell_type": "code",
   "execution_count": 14,
   "metadata": {
    "scrolled": true
   },
   "outputs": [
    {
     "data": {
      "text/html": [
       "<div>\n",
       "<style scoped>\n",
       "    .dataframe tbody tr th:only-of-type {\n",
       "        vertical-align: middle;\n",
       "    }\n",
       "\n",
       "    .dataframe tbody tr th {\n",
       "        vertical-align: top;\n",
       "    }\n",
       "\n",
       "    .dataframe thead th {\n",
       "        text-align: right;\n",
       "    }\n",
       "</style>\n",
       "<table border=\"1\" class=\"dataframe\">\n",
       "  <thead>\n",
       "    <tr style=\"text-align: right;\">\n",
       "      <th></th>\n",
       "      <th>num_orders</th>\n",
       "      <th>month</th>\n",
       "      <th>day</th>\n",
       "      <th>dayofweek</th>\n",
       "      <th>lag_1</th>\n",
       "      <th>lag_2</th>\n",
       "      <th>lag_3</th>\n",
       "      <th>lag_4</th>\n",
       "      <th>lag_5</th>\n",
       "      <th>lag_6</th>\n",
       "      <th>...</th>\n",
       "      <th>lag_22</th>\n",
       "      <th>lag_23</th>\n",
       "      <th>lag_24</th>\n",
       "      <th>lag_25</th>\n",
       "      <th>lag_26</th>\n",
       "      <th>lag_27</th>\n",
       "      <th>lag_28</th>\n",
       "      <th>lag_29</th>\n",
       "      <th>lag_30</th>\n",
       "      <th>rolling_mean</th>\n",
       "    </tr>\n",
       "    <tr>\n",
       "      <th>datetime</th>\n",
       "      <th></th>\n",
       "      <th></th>\n",
       "      <th></th>\n",
       "      <th></th>\n",
       "      <th></th>\n",
       "      <th></th>\n",
       "      <th></th>\n",
       "      <th></th>\n",
       "      <th></th>\n",
       "      <th></th>\n",
       "      <th></th>\n",
       "      <th></th>\n",
       "      <th></th>\n",
       "      <th></th>\n",
       "      <th></th>\n",
       "      <th></th>\n",
       "      <th></th>\n",
       "      <th></th>\n",
       "      <th></th>\n",
       "      <th></th>\n",
       "      <th></th>\n",
       "    </tr>\n",
       "  </thead>\n",
       "  <tbody>\n",
       "    <tr>\n",
       "      <th>2018-06-21 05:00:00</th>\n",
       "      <td>40</td>\n",
       "      <td>6</td>\n",
       "      <td>21</td>\n",
       "      <td>3</td>\n",
       "      <td>110.0</td>\n",
       "      <td>124.0</td>\n",
       "      <td>97.0</td>\n",
       "      <td>118.0</td>\n",
       "      <td>134.0</td>\n",
       "      <td>107.0</td>\n",
       "      <td>...</td>\n",
       "      <td>24.0</td>\n",
       "      <td>95.0</td>\n",
       "      <td>52.0</td>\n",
       "      <td>115.0</td>\n",
       "      <td>93.0</td>\n",
       "      <td>137.0</td>\n",
       "      <td>95.0</td>\n",
       "      <td>126.0</td>\n",
       "      <td>86.0</td>\n",
       "      <td>87.375</td>\n",
       "    </tr>\n",
       "    <tr>\n",
       "      <th>2018-07-27 05:00:00</th>\n",
       "      <td>64</td>\n",
       "      <td>7</td>\n",
       "      <td>27</td>\n",
       "      <td>4</td>\n",
       "      <td>109.0</td>\n",
       "      <td>131.0</td>\n",
       "      <td>161.0</td>\n",
       "      <td>108.0</td>\n",
       "      <td>222.0</td>\n",
       "      <td>117.0</td>\n",
       "      <td>...</td>\n",
       "      <td>39.0</td>\n",
       "      <td>21.0</td>\n",
       "      <td>83.0</td>\n",
       "      <td>131.0</td>\n",
       "      <td>141.0</td>\n",
       "      <td>197.0</td>\n",
       "      <td>73.0</td>\n",
       "      <td>149.0</td>\n",
       "      <td>138.0</td>\n",
       "      <td>108.675</td>\n",
       "    </tr>\n",
       "    <tr>\n",
       "      <th>2018-04-25 08:00:00</th>\n",
       "      <td>58</td>\n",
       "      <td>4</td>\n",
       "      <td>25</td>\n",
       "      <td>2</td>\n",
       "      <td>27.0</td>\n",
       "      <td>6.0</td>\n",
       "      <td>38.0</td>\n",
       "      <td>38.0</td>\n",
       "      <td>52.0</td>\n",
       "      <td>68.0</td>\n",
       "      <td>...</td>\n",
       "      <td>74.0</td>\n",
       "      <td>58.0</td>\n",
       "      <td>54.0</td>\n",
       "      <td>17.0</td>\n",
       "      <td>2.0</td>\n",
       "      <td>36.0</td>\n",
       "      <td>28.0</td>\n",
       "      <td>76.0</td>\n",
       "      <td>83.0</td>\n",
       "      <td>63.425</td>\n",
       "    </tr>\n",
       "    <tr>\n",
       "      <th>2018-04-11 01:00:00</th>\n",
       "      <td>49</td>\n",
       "      <td>4</td>\n",
       "      <td>11</td>\n",
       "      <td>2</td>\n",
       "      <td>99.0</td>\n",
       "      <td>79.0</td>\n",
       "      <td>52.0</td>\n",
       "      <td>53.0</td>\n",
       "      <td>58.0</td>\n",
       "      <td>71.0</td>\n",
       "      <td>...</td>\n",
       "      <td>47.0</td>\n",
       "      <td>45.0</td>\n",
       "      <td>51.0</td>\n",
       "      <td>88.0</td>\n",
       "      <td>66.0</td>\n",
       "      <td>72.0</td>\n",
       "      <td>46.0</td>\n",
       "      <td>57.0</td>\n",
       "      <td>62.0</td>\n",
       "      <td>58.200</td>\n",
       "    </tr>\n",
       "    <tr>\n",
       "      <th>2018-08-29 16:00:00</th>\n",
       "      <td>220</td>\n",
       "      <td>8</td>\n",
       "      <td>29</td>\n",
       "      <td>2</td>\n",
       "      <td>163.0</td>\n",
       "      <td>196.0</td>\n",
       "      <td>135.0</td>\n",
       "      <td>167.0</td>\n",
       "      <td>179.0</td>\n",
       "      <td>183.0</td>\n",
       "      <td>...</td>\n",
       "      <td>113.0</td>\n",
       "      <td>211.0</td>\n",
       "      <td>148.0</td>\n",
       "      <td>184.0</td>\n",
       "      <td>134.0</td>\n",
       "      <td>113.0</td>\n",
       "      <td>131.0</td>\n",
       "      <td>141.0</td>\n",
       "      <td>183.0</td>\n",
       "      <td>141.200</td>\n",
       "    </tr>\n",
       "    <tr>\n",
       "      <th>2018-04-13 08:00:00</th>\n",
       "      <td>60</td>\n",
       "      <td>4</td>\n",
       "      <td>13</td>\n",
       "      <td>4</td>\n",
       "      <td>38.0</td>\n",
       "      <td>9.0</td>\n",
       "      <td>26.0</td>\n",
       "      <td>59.0</td>\n",
       "      <td>73.0</td>\n",
       "      <td>39.0</td>\n",
       "      <td>...</td>\n",
       "      <td>103.0</td>\n",
       "      <td>78.0</td>\n",
       "      <td>67.0</td>\n",
       "      <td>5.0</td>\n",
       "      <td>2.0</td>\n",
       "      <td>3.0</td>\n",
       "      <td>30.0</td>\n",
       "      <td>72.0</td>\n",
       "      <td>76.0</td>\n",
       "      <td>61.675</td>\n",
       "    </tr>\n",
       "    <tr>\n",
       "      <th>2018-06-15 10:00:00</th>\n",
       "      <td>122</td>\n",
       "      <td>6</td>\n",
       "      <td>15</td>\n",
       "      <td>4</td>\n",
       "      <td>74.0</td>\n",
       "      <td>69.0</td>\n",
       "      <td>27.0</td>\n",
       "      <td>26.0</td>\n",
       "      <td>79.0</td>\n",
       "      <td>103.0</td>\n",
       "      <td>...</td>\n",
       "      <td>101.0</td>\n",
       "      <td>63.0</td>\n",
       "      <td>94.0</td>\n",
       "      <td>84.0</td>\n",
       "      <td>66.0</td>\n",
       "      <td>31.0</td>\n",
       "      <td>19.0</td>\n",
       "      <td>36.0</td>\n",
       "      <td>117.0</td>\n",
       "      <td>82.900</td>\n",
       "    </tr>\n",
       "    <tr>\n",
       "      <th>2018-05-17 12:00:00</th>\n",
       "      <td>62</td>\n",
       "      <td>5</td>\n",
       "      <td>17</td>\n",
       "      <td>3</td>\n",
       "      <td>92.0</td>\n",
       "      <td>92.0</td>\n",
       "      <td>91.0</td>\n",
       "      <td>61.0</td>\n",
       "      <td>27.0</td>\n",
       "      <td>2.0</td>\n",
       "      <td>...</td>\n",
       "      <td>65.0</td>\n",
       "      <td>73.0</td>\n",
       "      <td>43.0</td>\n",
       "      <td>83.0</td>\n",
       "      <td>76.0</td>\n",
       "      <td>77.0</td>\n",
       "      <td>62.0</td>\n",
       "      <td>33.0</td>\n",
       "      <td>20.0</td>\n",
       "      <td>74.625</td>\n",
       "    </tr>\n",
       "    <tr>\n",
       "      <th>2018-07-31 22:00:00</th>\n",
       "      <td>124</td>\n",
       "      <td>7</td>\n",
       "      <td>31</td>\n",
       "      <td>1</td>\n",
       "      <td>131.0</td>\n",
       "      <td>98.0</td>\n",
       "      <td>85.0</td>\n",
       "      <td>42.0</td>\n",
       "      <td>112.0</td>\n",
       "      <td>100.0</td>\n",
       "      <td>...</td>\n",
       "      <td>179.0</td>\n",
       "      <td>101.0</td>\n",
       "      <td>111.0</td>\n",
       "      <td>122.0</td>\n",
       "      <td>76.0</td>\n",
       "      <td>125.0</td>\n",
       "      <td>78.0</td>\n",
       "      <td>156.0</td>\n",
       "      <td>127.0</td>\n",
       "      <td>101.400</td>\n",
       "    </tr>\n",
       "    <tr>\n",
       "      <th>2018-06-09 02:00:00</th>\n",
       "      <td>138</td>\n",
       "      <td>6</td>\n",
       "      <td>9</td>\n",
       "      <td>5</td>\n",
       "      <td>118.0</td>\n",
       "      <td>147.0</td>\n",
       "      <td>53.0</td>\n",
       "      <td>106.0</td>\n",
       "      <td>114.0</td>\n",
       "      <td>85.0</td>\n",
       "      <td>...</td>\n",
       "      <td>83.0</td>\n",
       "      <td>110.0</td>\n",
       "      <td>142.0</td>\n",
       "      <td>69.0</td>\n",
       "      <td>159.0</td>\n",
       "      <td>107.0</td>\n",
       "      <td>94.0</td>\n",
       "      <td>86.0</td>\n",
       "      <td>61.0</td>\n",
       "      <td>85.425</td>\n",
       "    </tr>\n",
       "  </tbody>\n",
       "</table>\n",
       "<p>10 rows × 35 columns</p>\n",
       "</div>"
      ],
      "text/plain": [
       "                     num_orders  month  day  dayofweek  lag_1  lag_2  lag_3  \\\n",
       "datetime                                                                      \n",
       "2018-06-21 05:00:00          40      6   21          3  110.0  124.0   97.0   \n",
       "2018-07-27 05:00:00          64      7   27          4  109.0  131.0  161.0   \n",
       "2018-04-25 08:00:00          58      4   25          2   27.0    6.0   38.0   \n",
       "2018-04-11 01:00:00          49      4   11          2   99.0   79.0   52.0   \n",
       "2018-08-29 16:00:00         220      8   29          2  163.0  196.0  135.0   \n",
       "2018-04-13 08:00:00          60      4   13          4   38.0    9.0   26.0   \n",
       "2018-06-15 10:00:00         122      6   15          4   74.0   69.0   27.0   \n",
       "2018-05-17 12:00:00          62      5   17          3   92.0   92.0   91.0   \n",
       "2018-07-31 22:00:00         124      7   31          1  131.0   98.0   85.0   \n",
       "2018-06-09 02:00:00         138      6    9          5  118.0  147.0   53.0   \n",
       "\n",
       "                     lag_4  lag_5  lag_6  ...  lag_22  lag_23  lag_24  lag_25  \\\n",
       "datetime                                  ...                                   \n",
       "2018-06-21 05:00:00  118.0  134.0  107.0  ...    24.0    95.0    52.0   115.0   \n",
       "2018-07-27 05:00:00  108.0  222.0  117.0  ...    39.0    21.0    83.0   131.0   \n",
       "2018-04-25 08:00:00   38.0   52.0   68.0  ...    74.0    58.0    54.0    17.0   \n",
       "2018-04-11 01:00:00   53.0   58.0   71.0  ...    47.0    45.0    51.0    88.0   \n",
       "2018-08-29 16:00:00  167.0  179.0  183.0  ...   113.0   211.0   148.0   184.0   \n",
       "2018-04-13 08:00:00   59.0   73.0   39.0  ...   103.0    78.0    67.0     5.0   \n",
       "2018-06-15 10:00:00   26.0   79.0  103.0  ...   101.0    63.0    94.0    84.0   \n",
       "2018-05-17 12:00:00   61.0   27.0    2.0  ...    65.0    73.0    43.0    83.0   \n",
       "2018-07-31 22:00:00   42.0  112.0  100.0  ...   179.0   101.0   111.0   122.0   \n",
       "2018-06-09 02:00:00  106.0  114.0   85.0  ...    83.0   110.0   142.0    69.0   \n",
       "\n",
       "                     lag_26  lag_27  lag_28  lag_29  lag_30  rolling_mean  \n",
       "datetime                                                                   \n",
       "2018-06-21 05:00:00    93.0   137.0    95.0   126.0    86.0        87.375  \n",
       "2018-07-27 05:00:00   141.0   197.0    73.0   149.0   138.0       108.675  \n",
       "2018-04-25 08:00:00     2.0    36.0    28.0    76.0    83.0        63.425  \n",
       "2018-04-11 01:00:00    66.0    72.0    46.0    57.0    62.0        58.200  \n",
       "2018-08-29 16:00:00   134.0   113.0   131.0   141.0   183.0       141.200  \n",
       "2018-04-13 08:00:00     2.0     3.0    30.0    72.0    76.0        61.675  \n",
       "2018-06-15 10:00:00    66.0    31.0    19.0    36.0   117.0        82.900  \n",
       "2018-05-17 12:00:00    76.0    77.0    62.0    33.0    20.0        74.625  \n",
       "2018-07-31 22:00:00    76.0   125.0    78.0   156.0   127.0       101.400  \n",
       "2018-06-09 02:00:00   159.0   107.0    94.0    86.0    61.0        85.425  \n",
       "\n",
       "[10 rows x 35 columns]"
      ]
     },
     "execution_count": 14,
     "metadata": {},
     "output_type": "execute_result"
    }
   ],
   "source": [
    "#check new dataset\n",
    "df.sample(10)"
   ]
  },
  {
   "cell_type": "markdown",
   "metadata": {},
   "source": [
    "Let's check the RMSE on two constant models: the median forecast and the forecast of the previous value of the series."
   ]
  },
  {
   "cell_type": "code",
   "execution_count": 15,
   "metadata": {},
   "outputs": [
    {
     "name": "stdout",
     "output_type": "stream",
     "text": [
      "RMSE of a constant model predicting the median: 84.54772153207533\n",
      "RMSE of a constant model predicting the previous value of the series: 81.82849573915023\n"
     ]
    }
   ],
   "source": [
    "train, test = train_test_split(df, shuffle=False, test_size=0.1)\n",
    "train = train.dropna()\n",
    "\n",
    "#constant model predicting the median\n",
    "pred_median = np.ones(test.shape) * train['num_orders'].median()\n",
    "rmse_median = mean_squared_error(test, pred_median)**0.5\n",
    "print(\"RMSE of a constant model predicting the median:\", rmse_median)\n",
    "\n",
    "#constant model that predicts the previous value of the series\n",
    "pred_previous = pd.Series(train['num_orders'].iloc[-len(test):])\n",
    "print(\"RMSE of a constant model predicting the previous value of the series:\",\n",
    "      rmse(test['num_orders'], pred_previous))"
   ]
  },
  {
   "cell_type": "code",
   "execution_count": 16,
   "metadata": {},
   "outputs": [
    {
     "name": "stdout",
     "output_type": "stream",
     "text": [
      "Training sample size: (3934, 34)\n",
      "Test sample size: (442, 34)\n"
     ]
    }
   ],
   "source": [
    "#prepare training and test sets\n",
    "features_train = train.drop(['num_orders'], axis=1)\n",
    "target_train = train['num_orders']\n",
    "\n",
    "features_test = test.drop(['num_orders'], axis=1)\n",
    "target_test = test['num_orders']\n",
    "print('Training sample size:', features_train.shape)\n",
    "print('Test sample size:', features_test.shape)"
   ]
  },
  {
   "cell_type": "markdown",
   "metadata": {},
   "source": [
    "We can start training models."
   ]
  },
  {
   "cell_type": "markdown",
   "metadata": {},
   "source": [
    "### Linear regression"
   ]
  },
  {
   "cell_type": "code",
   "execution_count": 17,
   "metadata": {},
   "outputs": [
    {
     "name": "stdout",
     "output_type": "stream",
     "text": [
      "The RMSE of linear regression is: 25.162063268252812\n"
     ]
    }
   ],
   "source": [
    "#here we use standard parameters\n",
    "\n",
    "linear_model = LinearRegression()\n",
    "linear_model.fit(features_train, target_train)\n",
    " \n",
    "linear_prediction = linear_model.predict(features_train)\n",
    "print('The RMSE of linear regression is:', rmse(target_train, linear_prediction))"
   ]
  },
  {
   "cell_type": "markdown",
   "metadata": {},
   "source": [
    "Linear regression showed a very good RMSE result of 25.16. Let's see what more complex models show."
   ]
  },
  {
   "cell_type": "markdown",
   "metadata": {},
   "source": [
    "### Random Forest"
   ]
  },
  {
   "cell_type": "code",
   "execution_count": 18,
   "metadata": {},
   "outputs": [
    {
     "name": "stdout",
     "output_type": "stream",
     "text": [
      "Best Random Forest parametres: {'max_depth': 17, 'n_estimators': 40}\n",
      "The RMSE of a random forest is: 9.437120311120644\n"
     ]
    }
   ],
   "source": [
    "tss = TimeSeriesSplit(n_splits = 5)\n",
    "\n",
    "forest_model = RandomForestRegressor(random_state=12345)\n",
    "forest_params = {'n_estimators':range(10, 50, 10), 'max_depth':range(10, 20)}\n",
    "forest_grid = GridSearchCV(forest_model, forest_params, cv=tss, scoring = 'neg_root_mean_squared_error', n_jobs=-1)\n",
    "forest_grid.fit(features_train, target_train)\n",
    "forest_prediction = forest_grid.predict(features_train)\n",
    "\n",
    "print('Best Random Forest parametres:', forest_grid.best_params_)\n",
    "print('The RMSE of a random forest is:', rmse(target_train, forest_prediction))"
   ]
  },
  {
   "cell_type": "markdown",
   "metadata": {},
   "source": [
    "The RMSE of the random forest on the training set was 9.43."
   ]
  },
  {
   "cell_type": "markdown",
   "metadata": {},
   "source": [
    "### Catboost"
   ]
  },
  {
   "cell_type": "code",
   "execution_count": 19,
   "metadata": {},
   "outputs": [
    {
     "name": "stdout",
     "output_type": "stream",
     "text": [
      "Best Catboost parametres: {'depth': 10, 'learning_rate': 0.1}\n",
      "RMSE Catboost is: 14.407305245937813\n"
     ]
    }
   ],
   "source": [
    "cat_model = CatBoostRegressor(iterations=100, verbose=False, random_state=12345)\n",
    "cat_params = {'learning_rate':[0.1, 0.2],\n",
    "              'depth':[10, 15, 20]}\n",
    "cat_grid = GridSearchCV(cat_model, cat_params, cv=tss, scoring = 'neg_root_mean_squared_error', n_jobs=-1)\n",
    "cat_grid.fit(features_train, target_train)\n",
    "cat_prediction = cat_grid.predict(features_train)\n",
    "\n",
    "print('Best Catboost parametres:', cat_grid.best_params_)\n",
    "print('RMSE Catboost is:', rmse(target_train, cat_prediction))"
   ]
  },
  {
   "cell_type": "markdown",
   "metadata": {},
   "source": [
    "Catboost showed a worse RMSE result than the forest: 14.40."
   ]
  },
  {
   "cell_type": "markdown",
   "metadata": {},
   "source": [
    "### LightGBM"
   ]
  },
  {
   "cell_type": "code",
   "execution_count": 20,
   "metadata": {},
   "outputs": [
    {
     "name": "stdout",
     "output_type": "stream",
     "text": [
      "Best params LightGBM OE: {'n_estimators': 150, 'num_leaves': 10}\n",
      "RMSE LightGBM is: 16.947848800689265\n"
     ]
    }
   ],
   "source": [
    "gbm_model = LGBMRegressor(random_state=12345)\n",
    "gbm_params = {'n_estimators':[100, 150],\n",
    "              'num_leaves':[10, 15, 20]}\n",
    "gbm_grid = GridSearchCV(gbm_model, gbm_params, cv=tss, scoring = 'neg_root_mean_squared_error', n_jobs=-1)\n",
    "gbm_grid.fit(features_train, target_train)\n",
    "gbm_prediction = gbm_grid.predict(features_train)\n",
    "\n",
    "print('Best params LightGBM OE:', gbm_grid.best_params_)\n",
    "print('RMSE LightGBM is:', rmse(target_train, gbm_prediction))"
   ]
  },
  {
   "cell_type": "markdown",
   "metadata": {},
   "source": [
    "LightGBM performed even worse than random forest and Catboost and its RMSE was 16.94."
   ]
  },
  {
   "cell_type": "markdown",
   "metadata": {},
   "source": [
    "### Conclusion by models"
   ]
  },
  {
   "cell_type": "markdown",
   "metadata": {},
   "source": [
    "1. All 4 models showed an RMSE result below 48.\n",
    "2. The best result was demonstrated by random forest and Catboost, and we will check them on the test sample."
   ]
  },
  {
   "cell_type": "markdown",
   "metadata": {},
   "source": [
    "## Testing"
   ]
  },
  {
   "cell_type": "markdown",
   "metadata": {},
   "source": [
    "Let's create a comparison table with the RMSE results."
   ]
  },
  {
   "cell_type": "code",
   "execution_count": 21,
   "metadata": {},
   "outputs": [
    {
     "data": {
      "text/html": [
       "<div>\n",
       "<style scoped>\n",
       "    .dataframe tbody tr th:only-of-type {\n",
       "        vertical-align: middle;\n",
       "    }\n",
       "\n",
       "    .dataframe tbody tr th {\n",
       "        vertical-align: top;\n",
       "    }\n",
       "\n",
       "    .dataframe thead th {\n",
       "        text-align: right;\n",
       "    }\n",
       "</style>\n",
       "<table border=\"1\" class=\"dataframe\">\n",
       "  <thead>\n",
       "    <tr style=\"text-align: right;\">\n",
       "      <th></th>\n",
       "      <th>Model</th>\n",
       "      <th>RMSE</th>\n",
       "    </tr>\n",
       "  </thead>\n",
       "  <tbody>\n",
       "    <tr>\n",
       "      <th>0</th>\n",
       "      <td>Linear Regression</td>\n",
       "      <td>25.16</td>\n",
       "    </tr>\n",
       "    <tr>\n",
       "      <th>1</th>\n",
       "      <td>RandomForest</td>\n",
       "      <td>9.43</td>\n",
       "    </tr>\n",
       "    <tr>\n",
       "      <th>2</th>\n",
       "      <td>CatBoost</td>\n",
       "      <td>14.40</td>\n",
       "    </tr>\n",
       "    <tr>\n",
       "      <th>3</th>\n",
       "      <td>LightGBM</td>\n",
       "      <td>16.94</td>\n",
       "    </tr>\n",
       "    <tr>\n",
       "      <th>4</th>\n",
       "      <td>Constant Median</td>\n",
       "      <td>84.54</td>\n",
       "    </tr>\n",
       "    <tr>\n",
       "      <th>5</th>\n",
       "      <td>Constant Previous</td>\n",
       "      <td>81.82</td>\n",
       "    </tr>\n",
       "  </tbody>\n",
       "</table>\n",
       "</div>"
      ],
      "text/plain": [
       "               Model   RMSE\n",
       "0  Linear Regression  25.16\n",
       "1       RandomForest   9.43\n",
       "2           CatBoost  14.40\n",
       "3           LightGBM  16.94\n",
       "4    Constant Median  84.54\n",
       "5  Constant Previous  81.82"
      ]
     },
     "metadata": {},
     "output_type": "display_data"
    }
   ],
   "source": [
    "data={'Model': ['Linear Regression', 'RandomForest', 'CatBoost', 'LightGBM', 'Constant Median', 'Constant Previous'],\n",
    "      'RMSE': [25.16, 9.43, 14.40, 16.94, 84.54, 81.82]}\n",
    "data_pivot=pd.DataFrame.from_dict(data)\n",
    "display(data_pivot)"
   ]
  },
  {
   "cell_type": "markdown",
   "metadata": {},
   "source": [
    "Let's check the RMSE of the random forest and Catboost on the test set."
   ]
  },
  {
   "cell_type": "code",
   "execution_count": 22,
   "metadata": {},
   "outputs": [
    {
     "name": "stdout",
     "output_type": "stream",
     "text": [
      "The RMSE of the random forest on the test set is: 43.78905280006859\n"
     ]
    }
   ],
   "source": [
    "forest = RandomForestRegressor(random_state=12345, max_depth=17, n_estimators=40)\n",
    "forest.fit(features_train, target_train)\n",
    "forest_pred = forest.predict(features_test)\n",
    "print('The RMSE of the random forest on the test set is:', rmse(target_test, forest_pred))"
   ]
  },
  {
   "cell_type": "code",
   "execution_count": 23,
   "metadata": {},
   "outputs": [
    {
     "name": "stdout",
     "output_type": "stream",
     "text": [
      "RMSE Catboost on the test set is: 46.54525607876236\n"
     ]
    }
   ],
   "source": [
    "catboost = CatBoostRegressor(iterations=100, verbose=False, random_state=12345,\n",
    "                            learning_rate=0.1, depth=10)\n",
    "catboost.fit(features_train, target_train)\n",
    "catboost_pred = catboost.predict(features_test)\n",
    "print('RMSE Catboost on the test set is:', rmse(target_test, catboost_pred))"
   ]
  },
  {
   "cell_type": "markdown",
   "metadata": {},
   "source": [
    "On the test set, RMSE turned out to be several times worse than on the training set, but all the same, the models met the RMSE threshold up to 48. The best result showed a random forest with a score of 43.78."
   ]
  },
  {
   "cell_type": "markdown",
   "metadata": {},
   "source": [
    "Let's look at the graph of the importance of factors."
   ]
  },
  {
   "cell_type": "code",
   "execution_count": 24,
   "metadata": {},
   "outputs": [
    {
     "data": {
      "image/png": "[encoded data removed]",
      "text/plain": [
       "<Figure size 720x504 with 1 Axes>"
      ]
     },
     "metadata": {
      "needs_background": "light"
     },
     "output_type": "display_data"
    }
   ],
   "source": [
    "feature_names = features_train.columns \n",
    "model = RandomForestRegressor(n_estimators=40, max_depth=18, random_state=12345)\n",
    "model.fit(features_train, target_train)\n",
    "pred = model.predict(features_test)\n",
    "importances = model.feature_importances_\n",
    "model_importances = pd.Series(importances, index=feature_names)\n",
    "\n",
    "std = np.std([model.feature_importances_ for tree in str(1000)], axis=0)\n",
    "\n",
    "fig, ax = plt.subplots(figsize=(10,7))\n",
    "model_importances.plot.bar(yerr=std, ax=ax)\n",
    "ax.set_title(\"Feature importances\")\n",
    "ax.set_ylabel(\"Mean decrease in impurity\")\n",
    "fig.tight_layout()"
   ]
  },
  {
   "cell_type": "markdown",
   "metadata": {},
   "source": [
    "And let's see on the graph how the predictions of the model correlate with the actual data from the unloading of orders."
   ]
  },
  {
   "cell_type": "code",
   "execution_count": 25,
   "metadata": {},
   "outputs": [
    {
     "data": {
      "image/png": "[encoded data removed]",
      "text/plain": [
       "<Figure size 1080x720 with 1 Axes>"
      ]
     },
     "metadata": {
      "needs_background": "light"
     },
     "output_type": "display_data"
    }
   ],
   "source": [
    "plt.figure(figsize=(15, 10))\n",
    "plt.plot(features_test.index, target_test, label='Actual orders')\n",
    "plt.plot(features_test.index, forest_pred, label='Predicted orders')\n",
    "plt.legend()\n",
    "plt.show()"
   ]
  },
  {
   "cell_type": "markdown",
   "metadata": {},
   "source": [
    "The graph shows that the model as a whole copes well with predictions, with the exception of rare large peaks."
   ]
  },
  {
   "cell_type": "markdown",
   "metadata": {},
   "source": [
    "## Conclusion"
   ]
  },
  {
   "cell_type": "markdown",
   "metadata": {},
   "source": [
    "1. There are only 2 columns in the dataset - with the date and the number of orders. The data types are correct: a column with a date in the Datetime format, a column with the number of orders num_orders in the int64 format. The dataset contains data from 00:00 on March 1, 2018 to 23:50 on August 31, 2018. There are no gaps in the dataset. The dataset is ordered by index, you can start the analysis.\n",
    "2. The dataset was resampled for 1 hour. The trend shows that the number of taxi orders has been continuously increasing since June. According to seasonality, it can be seen that the peak of orders falls on the time period from 0 to 2 am.\n",
    "3. When preparing a dataset for working with models:\n",
    "    1. Additional features were created for the dataset: month, day, day of the week, lagging values, moving average.\n",
    "    2. A constant model has been created to test our models for adequacy.\n",
    "    3. Prepared training and test samples in the ratio of 9:1.\n",
    "4. The RMSE of the constant model predicting the median was 84.54772153207533. The RMSE of the constant model predicting the previous value of the series was 81.82849573915023.\n",
    "5. 4 models were trained, which showed the following results on the training set.\n",
    "    1. The RMSE of the linear regression is 25.16.\n",
    "    2. The RMSE of the random forest on the training set was 9.43.\n",
    "    3. RMSE Catboost was 14.40.\n",
    "    4. LightGBM performed worse than Random Forest and Catboost and its RMSE was 16.94.\n",
    "6. To test RMSE on a test sample, 2 models were selected:\n",
    "    1. The RMSE of the random forest on the test set was 43.78.\n",
    "    2. RMSE Catboost on the test set was 46.54.\n",
    "7. A random forest was chosen as the main model for production.\n",
    "8. Both tested models did not exceed the RMSE threshold of 48 in the test sample."
   ]
  },
  {
   "cell_type": "code",
   "execution_count": null,
   "metadata": {},
   "outputs": [],
   "source": []
  }
 ],
 "metadata": {
  "ExecuteTimeLog": [
   {
    "duration": 54,
    "start_time": "2022-06-01T11:17:44.573Z"
   },
   {
    "duration": 1396,
    "start_time": "2022-06-01T11:17:54.854Z"
   },
   {
    "duration": 116,
    "start_time": "2022-06-01T11:17:56.252Z"
   },
   {
    "duration": 13,
    "start_time": "2022-06-01T11:17:56.369Z"
   },
   {
    "duration": 12,
    "start_time": "2022-06-01T11:18:56.416Z"
   },
   {
    "duration": 7,
    "start_time": "2022-06-01T11:21:33.824Z"
   },
   {
    "duration": 3,
    "start_time": "2022-06-01T11:25:49.519Z"
   },
   {
    "duration": 56,
    "start_time": "2022-06-01T15:09:17.471Z"
   },
   {
    "duration": 2043,
    "start_time": "2022-06-01T15:10:26.292Z"
   },
   {
    "duration": 120,
    "start_time": "2022-06-01T15:10:28.337Z"
   },
   {
    "duration": 12,
    "start_time": "2022-06-01T15:10:28.458Z"
   },
   {
    "duration": 11,
    "start_time": "2022-06-01T15:10:28.471Z"
   },
   {
    "duration": 4,
    "start_time": "2022-06-01T15:10:28.526Z"
   },
   {
    "duration": 10,
    "start_time": "2022-06-01T15:10:28.532Z"
   },
   {
    "duration": 23,
    "start_time": "2022-06-01T15:10:28.544Z"
   },
   {
    "duration": 7,
    "start_time": "2022-06-01T15:27:09.532Z"
   },
   {
    "duration": 519,
    "start_time": "2022-06-01T15:27:18.954Z"
   },
   {
    "duration": 211,
    "start_time": "2022-06-01T15:27:25.751Z"
   },
   {
    "duration": 213,
    "start_time": "2022-06-01T15:27:30.590Z"
   },
   {
    "duration": 293,
    "start_time": "2022-06-01T15:27:35.396Z"
   },
   {
    "duration": 234,
    "start_time": "2022-06-01T15:27:38.938Z"
   },
   {
    "duration": 217,
    "start_time": "2022-06-01T15:28:34.643Z"
   },
   {
    "duration": 219,
    "start_time": "2022-06-01T15:28:49.337Z"
   },
   {
    "duration": 5,
    "start_time": "2022-06-01T15:30:05.228Z"
   },
   {
    "duration": 219,
    "start_time": "2022-06-01T15:30:06.509Z"
   },
   {
    "duration": 217,
    "start_time": "2022-06-01T15:30:12.175Z"
   },
   {
    "duration": 137,
    "start_time": "2022-06-01T15:30:33.786Z"
   },
   {
    "duration": 412,
    "start_time": "2022-06-01T15:31:03.247Z"
   },
   {
    "duration": 8,
    "start_time": "2022-06-01T15:31:20.417Z"
   },
   {
    "duration": 92,
    "start_time": "2022-06-01T15:33:02.495Z"
   },
   {
    "duration": 11,
    "start_time": "2022-06-01T15:33:05.004Z"
   },
   {
    "duration": 11,
    "start_time": "2022-06-01T15:33:13.409Z"
   },
   {
    "duration": 1238,
    "start_time": "2022-06-01T15:33:20.062Z"
   },
   {
    "duration": 47,
    "start_time": "2022-06-01T15:33:21.302Z"
   },
   {
    "duration": 11,
    "start_time": "2022-06-01T15:33:21.351Z"
   },
   {
    "duration": 22,
    "start_time": "2022-06-01T15:33:21.364Z"
   },
   {
    "duration": 20,
    "start_time": "2022-06-01T15:33:21.387Z"
   },
   {
    "duration": 19,
    "start_time": "2022-06-01T15:33:21.408Z"
   },
   {
    "duration": 25,
    "start_time": "2022-06-01T15:33:21.429Z"
   },
   {
    "duration": 30,
    "start_time": "2022-06-01T15:33:21.456Z"
   },
   {
    "duration": 617,
    "start_time": "2022-06-01T15:33:21.488Z"
   },
   {
    "duration": 758,
    "start_time": "2022-06-01T15:33:29.960Z"
   },
   {
    "duration": 659,
    "start_time": "2022-06-01T15:34:03.472Z"
   },
   {
    "duration": 570,
    "start_time": "2022-06-01T15:35:02.338Z"
   },
   {
    "duration": 803,
    "start_time": "2022-06-01T15:35:08.267Z"
   },
   {
    "duration": 752,
    "start_time": "2022-06-01T15:37:06.383Z"
   },
   {
    "duration": 1323,
    "start_time": "2022-06-01T15:55:08.421Z"
   },
   {
    "duration": 50,
    "start_time": "2022-06-01T15:55:09.746Z"
   },
   {
    "duration": 11,
    "start_time": "2022-06-01T15:55:09.798Z"
   },
   {
    "duration": 16,
    "start_time": "2022-06-01T15:55:09.810Z"
   },
   {
    "duration": 22,
    "start_time": "2022-06-01T15:55:09.830Z"
   },
   {
    "duration": 27,
    "start_time": "2022-06-01T15:55:09.854Z"
   },
   {
    "duration": 26,
    "start_time": "2022-06-01T15:55:09.883Z"
   },
   {
    "duration": 873,
    "start_time": "2022-06-01T15:55:09.910Z"
   },
   {
    "duration": 732,
    "start_time": "2022-06-01T15:55:10.784Z"
   },
   {
    "duration": 123,
    "start_time": "2022-06-01T15:55:45.373Z"
   },
   {
    "duration": 642,
    "start_time": "2022-06-01T15:55:52.462Z"
   },
   {
    "duration": 753,
    "start_time": "2022-06-01T15:56:31.482Z"
   },
   {
    "duration": 208,
    "start_time": "2022-06-01T15:58:29.754Z"
   },
   {
    "duration": 146,
    "start_time": "2022-06-01T15:58:38.753Z"
   },
   {
    "duration": 705,
    "start_time": "2022-06-01T15:59:26.602Z"
   },
   {
    "duration": 18,
    "start_time": "2022-06-01T17:10:22.521Z"
   },
   {
    "duration": 22,
    "start_time": "2022-06-01T17:10:29.422Z"
   },
   {
    "duration": 27,
    "start_time": "2022-06-01T17:10:45.207Z"
   },
   {
    "duration": 30,
    "start_time": "2022-06-01T17:11:01.941Z"
   },
   {
    "duration": 10,
    "start_time": "2022-06-01T17:12:47.812Z"
   },
   {
    "duration": 7,
    "start_time": "2022-06-01T17:12:55.104Z"
   },
   {
    "duration": 11,
    "start_time": "2022-06-01T17:13:21.384Z"
   },
   {
    "duration": 9,
    "start_time": "2022-06-01T17:14:25.282Z"
   },
   {
    "duration": 16,
    "start_time": "2022-06-01T17:23:58.480Z"
   },
   {
    "duration": 4,
    "start_time": "2022-06-01T17:24:05.887Z"
   },
   {
    "duration": 23,
    "start_time": "2022-06-01T17:24:10.699Z"
   },
   {
    "duration": 26,
    "start_time": "2022-06-01T17:25:56.878Z"
   },
   {
    "duration": 25,
    "start_time": "2022-06-01T17:26:31.569Z"
   },
   {
    "duration": 29,
    "start_time": "2022-06-01T17:27:20.001Z"
   },
   {
    "duration": 18,
    "start_time": "2022-06-01T17:27:27.412Z"
   },
   {
    "duration": 28,
    "start_time": "2022-06-01T17:28:01.014Z"
   },
   {
    "duration": 24,
    "start_time": "2022-06-01T17:28:07.450Z"
   },
   {
    "duration": 55,
    "start_time": "2022-06-01T17:28:40.489Z"
   },
   {
    "duration": 23,
    "start_time": "2022-06-01T17:29:20.131Z"
   },
   {
    "duration": 22,
    "start_time": "2022-06-01T17:31:11.939Z"
   },
   {
    "duration": 1316,
    "start_time": "2022-06-01T17:34:14.957Z"
   },
   {
    "duration": 53,
    "start_time": "2022-06-01T17:34:16.274Z"
   },
   {
    "duration": 14,
    "start_time": "2022-06-01T17:34:16.329Z"
   },
   {
    "duration": 12,
    "start_time": "2022-06-01T17:34:16.346Z"
   },
   {
    "duration": 4,
    "start_time": "2022-06-01T17:34:16.360Z"
   },
   {
    "duration": 13,
    "start_time": "2022-06-01T17:34:16.366Z"
   },
   {
    "duration": 15,
    "start_time": "2022-06-01T17:34:16.380Z"
   },
   {
    "duration": 865,
    "start_time": "2022-06-01T17:34:16.397Z"
   },
   {
    "duration": 726,
    "start_time": "2022-06-01T17:34:17.264Z"
   },
   {
    "duration": 256,
    "start_time": "2022-06-01T17:34:17.993Z"
   },
   {
    "duration": 18,
    "start_time": "2022-06-01T17:34:18.251Z"
   },
   {
    "duration": 25,
    "start_time": "2022-06-01T17:34:18.271Z"
   },
   {
    "duration": 144,
    "start_time": "2022-06-01T17:34:18.297Z"
   },
   {
    "duration": 0,
    "start_time": "2022-06-01T17:34:18.443Z"
   },
   {
    "duration": 15,
    "start_time": "2022-06-01T17:43:57.009Z"
   },
   {
    "duration": 3,
    "start_time": "2022-06-01T17:44:01.600Z"
   },
   {
    "duration": 21,
    "start_time": "2022-06-01T17:44:05.767Z"
   },
   {
    "duration": 22,
    "start_time": "2022-06-01T17:44:53.665Z"
   },
   {
    "duration": 20,
    "start_time": "2022-06-01T17:45:45.748Z"
   },
   {
    "duration": 25,
    "start_time": "2022-06-01T17:46:27.849Z"
   },
   {
    "duration": 23,
    "start_time": "2022-06-01T17:46:54.491Z"
   },
   {
    "duration": 9,
    "start_time": "2022-06-01T17:47:28.371Z"
   },
   {
    "duration": 15,
    "start_time": "2022-06-01T17:47:36.222Z"
   },
   {
    "duration": 12,
    "start_time": "2022-06-01T17:48:37.799Z"
   },
   {
    "duration": 25,
    "start_time": "2022-06-01T17:57:37.348Z"
   },
   {
    "duration": 12,
    "start_time": "2022-06-01T17:57:42.383Z"
   },
   {
    "duration": 12,
    "start_time": "2022-06-01T17:58:43.241Z"
   },
   {
    "duration": 1603,
    "start_time": "2022-06-01T19:12:36.883Z"
   },
   {
    "duration": 123,
    "start_time": "2022-06-01T19:12:38.489Z"
   },
   {
    "duration": 15,
    "start_time": "2022-06-01T19:12:38.614Z"
   },
   {
    "duration": 13,
    "start_time": "2022-06-01T19:12:38.632Z"
   },
   {
    "duration": 4,
    "start_time": "2022-06-01T19:12:38.647Z"
   },
   {
    "duration": 18,
    "start_time": "2022-06-01T19:12:38.652Z"
   },
   {
    "duration": 17,
    "start_time": "2022-06-01T19:12:38.672Z"
   },
   {
    "duration": 977,
    "start_time": "2022-06-01T19:12:38.691Z"
   },
   {
    "duration": 808,
    "start_time": "2022-06-01T19:12:39.670Z"
   },
   {
    "duration": 300,
    "start_time": "2022-06-01T19:12:40.481Z"
   },
   {
    "duration": 3,
    "start_time": "2022-06-01T19:12:40.783Z"
   },
   {
    "duration": 41,
    "start_time": "2022-06-01T19:12:40.787Z"
   },
   {
    "duration": 42,
    "start_time": "2022-06-01T19:12:40.830Z"
   },
   {
    "duration": 34,
    "start_time": "2022-06-01T19:12:40.874Z"
   },
   {
    "duration": 7,
    "start_time": "2022-06-01T19:12:40.910Z"
   },
   {
    "duration": 1446,
    "start_time": "2022-06-01T19:13:33.530Z"
   },
   {
    "duration": 50,
    "start_time": "2022-06-01T19:13:34.978Z"
   },
   {
    "duration": 17,
    "start_time": "2022-06-01T19:13:35.030Z"
   },
   {
    "duration": 18,
    "start_time": "2022-06-01T19:13:35.049Z"
   },
   {
    "duration": 4,
    "start_time": "2022-06-01T19:13:35.069Z"
   },
   {
    "duration": 27,
    "start_time": "2022-06-01T19:13:35.075Z"
   },
   {
    "duration": 13,
    "start_time": "2022-06-01T19:13:35.104Z"
   },
   {
    "duration": 969,
    "start_time": "2022-06-01T19:13:35.119Z"
   },
   {
    "duration": 833,
    "start_time": "2022-06-01T19:13:36.090Z"
   },
   {
    "duration": 303,
    "start_time": "2022-06-01T19:13:36.925Z"
   },
   {
    "duration": 3,
    "start_time": "2022-06-01T19:13:37.230Z"
   },
   {
    "duration": 38,
    "start_time": "2022-06-01T19:13:37.235Z"
   },
   {
    "duration": 49,
    "start_time": "2022-06-01T19:13:37.276Z"
   },
   {
    "duration": 17,
    "start_time": "2022-06-01T19:13:37.327Z"
   },
   {
    "duration": 10,
    "start_time": "2022-06-01T19:13:37.346Z"
   },
   {
    "duration": 1359,
    "start_time": "2022-06-01T19:13:53.529Z"
   },
   {
    "duration": 49,
    "start_time": "2022-06-01T19:13:54.890Z"
   },
   {
    "duration": 14,
    "start_time": "2022-06-01T19:13:54.940Z"
   },
   {
    "duration": 15,
    "start_time": "2022-06-01T19:13:54.956Z"
   },
   {
    "duration": 3,
    "start_time": "2022-06-01T19:13:54.973Z"
   },
   {
    "duration": 12,
    "start_time": "2022-06-01T19:13:54.977Z"
   },
   {
    "duration": 12,
    "start_time": "2022-06-01T19:13:55.000Z"
   },
   {
    "duration": 970,
    "start_time": "2022-06-01T19:13:55.014Z"
   },
   {
    "duration": 823,
    "start_time": "2022-06-01T19:13:55.986Z"
   },
   {
    "duration": 285,
    "start_time": "2022-06-01T19:13:56.811Z"
   },
   {
    "duration": 4,
    "start_time": "2022-06-01T19:13:57.098Z"
   },
   {
    "duration": 45,
    "start_time": "2022-06-01T19:13:57.104Z"
   },
   {
    "duration": 37,
    "start_time": "2022-06-01T19:13:57.151Z"
   },
   {
    "duration": 19,
    "start_time": "2022-06-01T19:13:57.191Z"
   },
   {
    "duration": 19,
    "start_time": "2022-06-01T19:13:57.212Z"
   },
   {
    "duration": 1331,
    "start_time": "2022-06-01T19:14:07.132Z"
   },
   {
    "duration": 48,
    "start_time": "2022-06-01T19:14:08.465Z"
   },
   {
    "duration": 12,
    "start_time": "2022-06-01T19:14:08.515Z"
   },
   {
    "duration": 11,
    "start_time": "2022-06-01T19:14:08.528Z"
   },
   {
    "duration": 6,
    "start_time": "2022-06-01T19:14:08.541Z"
   },
   {
    "duration": 17,
    "start_time": "2022-06-01T19:14:08.549Z"
   },
   {
    "duration": 13,
    "start_time": "2022-06-01T19:14:08.567Z"
   },
   {
    "duration": 987,
    "start_time": "2022-06-01T19:14:08.581Z"
   },
   {
    "duration": 862,
    "start_time": "2022-06-01T19:14:09.570Z"
   },
   {
    "duration": 301,
    "start_time": "2022-06-01T19:14:10.434Z"
   },
   {
    "duration": 3,
    "start_time": "2022-06-01T19:14:10.738Z"
   },
   {
    "duration": 25,
    "start_time": "2022-06-01T19:14:10.743Z"
   },
   {
    "duration": 51,
    "start_time": "2022-06-01T19:14:10.770Z"
   },
   {
    "duration": 14,
    "start_time": "2022-06-01T19:14:10.824Z"
   },
   {
    "duration": 9,
    "start_time": "2022-06-01T19:14:10.839Z"
   },
   {
    "duration": 1393,
    "start_time": "2022-06-01T19:14:46.183Z"
   },
   {
    "duration": 49,
    "start_time": "2022-06-01T19:14:47.578Z"
   },
   {
    "duration": 13,
    "start_time": "2022-06-01T19:14:47.629Z"
   },
   {
    "duration": 13,
    "start_time": "2022-06-01T19:14:47.645Z"
   },
   {
    "duration": 3,
    "start_time": "2022-06-01T19:14:47.659Z"
   },
   {
    "duration": 14,
    "start_time": "2022-06-01T19:14:47.664Z"
   },
   {
    "duration": 32,
    "start_time": "2022-06-01T19:14:47.679Z"
   },
   {
    "duration": 943,
    "start_time": "2022-06-01T19:14:47.713Z"
   },
   {
    "duration": 838,
    "start_time": "2022-06-01T19:14:48.657Z"
   },
   {
    "duration": 284,
    "start_time": "2022-06-01T19:14:49.497Z"
   },
   {
    "duration": 4,
    "start_time": "2022-06-01T19:14:49.783Z"
   },
   {
    "duration": 20,
    "start_time": "2022-06-01T19:14:49.800Z"
   },
   {
    "duration": 31,
    "start_time": "2022-06-01T19:14:49.822Z"
   },
   {
    "duration": 184,
    "start_time": "2022-06-01T19:14:49.854Z"
   },
   {
    "duration": 0,
    "start_time": "2022-06-01T19:14:50.040Z"
   },
   {
    "duration": 1410,
    "start_time": "2022-06-01T19:17:18.125Z"
   },
   {
    "duration": 48,
    "start_time": "2022-06-01T19:17:19.537Z"
   },
   {
    "duration": 13,
    "start_time": "2022-06-01T19:17:19.587Z"
   },
   {
    "duration": 13,
    "start_time": "2022-06-01T19:17:19.603Z"
   },
   {
    "duration": 3,
    "start_time": "2022-06-01T19:17:19.618Z"
   },
   {
    "duration": 11,
    "start_time": "2022-06-01T19:17:19.623Z"
   },
   {
    "duration": 23,
    "start_time": "2022-06-01T19:17:19.636Z"
   },
   {
    "duration": 931,
    "start_time": "2022-06-01T19:17:19.661Z"
   },
   {
    "duration": 861,
    "start_time": "2022-06-01T19:17:20.594Z"
   },
   {
    "duration": 322,
    "start_time": "2022-06-01T19:17:21.458Z"
   },
   {
    "duration": 4,
    "start_time": "2022-06-01T19:17:21.782Z"
   },
   {
    "duration": 43,
    "start_time": "2022-06-01T19:17:21.790Z"
   },
   {
    "duration": 47,
    "start_time": "2022-06-01T19:17:21.835Z"
   },
   {
    "duration": 22,
    "start_time": "2022-06-01T19:17:21.884Z"
   },
   {
    "duration": 15,
    "start_time": "2022-06-01T19:17:21.908Z"
   },
   {
    "duration": 7,
    "start_time": "2022-06-01T19:17:58.918Z"
   },
   {
    "duration": 6,
    "start_time": "2022-06-01T19:18:09.819Z"
   },
   {
    "duration": 7,
    "start_time": "2022-06-01T19:18:52.202Z"
   },
   {
    "duration": 1394,
    "start_time": "2022-06-01T19:19:52.210Z"
   },
   {
    "duration": 49,
    "start_time": "2022-06-01T19:19:53.606Z"
   },
   {
    "duration": 14,
    "start_time": "2022-06-01T19:19:53.657Z"
   },
   {
    "duration": 18,
    "start_time": "2022-06-01T19:19:53.673Z"
   },
   {
    "duration": 3,
    "start_time": "2022-06-01T19:19:53.693Z"
   },
   {
    "duration": 21,
    "start_time": "2022-06-01T19:19:53.699Z"
   },
   {
    "duration": 15,
    "start_time": "2022-06-01T19:19:53.721Z"
   },
   {
    "duration": 910,
    "start_time": "2022-06-01T19:19:53.738Z"
   },
   {
    "duration": 796,
    "start_time": "2022-06-01T19:19:54.649Z"
   },
   {
    "duration": 290,
    "start_time": "2022-06-01T19:19:55.447Z"
   },
   {
    "duration": 2,
    "start_time": "2022-06-01T19:19:55.739Z"
   },
   {
    "duration": 29,
    "start_time": "2022-06-01T19:19:55.743Z"
   },
   {
    "duration": 38,
    "start_time": "2022-06-01T19:19:55.774Z"
   },
   {
    "duration": 157,
    "start_time": "2022-06-01T19:19:55.815Z"
   },
   {
    "duration": 0,
    "start_time": "2022-06-01T19:19:55.973Z"
   },
   {
    "duration": 1922,
    "start_time": "2022-06-01T19:20:15.895Z"
   },
   {
    "duration": 89,
    "start_time": "2022-06-01T19:20:17.819Z"
   },
   {
    "duration": 12,
    "start_time": "2022-06-01T19:20:17.910Z"
   },
   {
    "duration": 31,
    "start_time": "2022-06-01T19:20:17.924Z"
   },
   {
    "duration": 3,
    "start_time": "2022-06-01T19:20:18.000Z"
   },
   {
    "duration": 24,
    "start_time": "2022-06-01T19:20:18.005Z"
   },
   {
    "duration": 70,
    "start_time": "2022-06-01T19:20:18.031Z"
   },
   {
    "duration": 1190,
    "start_time": "2022-06-01T19:20:18.102Z"
   },
   {
    "duration": 823,
    "start_time": "2022-06-01T19:20:19.294Z"
   },
   {
    "duration": 293,
    "start_time": "2022-06-01T19:20:20.120Z"
   },
   {
    "duration": 3,
    "start_time": "2022-06-01T19:20:20.414Z"
   },
   {
    "duration": 37,
    "start_time": "2022-06-01T19:20:20.419Z"
   },
   {
    "duration": 43,
    "start_time": "2022-06-01T19:20:20.457Z"
   },
   {
    "duration": 14,
    "start_time": "2022-06-01T19:20:20.502Z"
   },
   {
    "duration": 25,
    "start_time": "2022-06-01T19:20:20.517Z"
   },
   {
    "duration": 24,
    "start_time": "2022-06-01T19:23:51.985Z"
   },
   {
    "duration": 1329,
    "start_time": "2022-06-01T19:24:13.839Z"
   },
   {
    "duration": 46,
    "start_time": "2022-06-01T19:24:15.170Z"
   },
   {
    "duration": 11,
    "start_time": "2022-06-01T19:24:15.218Z"
   },
   {
    "duration": 16,
    "start_time": "2022-06-01T19:24:15.231Z"
   },
   {
    "duration": 4,
    "start_time": "2022-06-01T19:24:15.249Z"
   },
   {
    "duration": 27,
    "start_time": "2022-06-01T19:24:15.255Z"
   },
   {
    "duration": 10,
    "start_time": "2022-06-01T19:24:15.284Z"
   },
   {
    "duration": 865,
    "start_time": "2022-06-01T19:24:15.295Z"
   },
   {
    "duration": 738,
    "start_time": "2022-06-01T19:24:16.162Z"
   },
   {
    "duration": 291,
    "start_time": "2022-06-01T19:24:16.902Z"
   },
   {
    "duration": 3,
    "start_time": "2022-06-01T19:24:17.199Z"
   },
   {
    "duration": 31,
    "start_time": "2022-06-01T19:24:17.204Z"
   },
   {
    "duration": 41,
    "start_time": "2022-06-01T19:24:17.237Z"
   },
   {
    "duration": 32,
    "start_time": "2022-06-01T19:24:17.281Z"
   },
   {
    "duration": 10,
    "start_time": "2022-06-01T19:24:17.314Z"
   },
   {
    "duration": 173,
    "start_time": "2022-06-01T19:24:17.326Z"
   },
   {
    "duration": 1283,
    "start_time": "2022-06-01T19:24:27.674Z"
   },
   {
    "duration": 44,
    "start_time": "2022-06-01T19:24:28.959Z"
   },
   {
    "duration": 10,
    "start_time": "2022-06-01T19:24:29.005Z"
   },
   {
    "duration": 10,
    "start_time": "2022-06-01T19:24:29.017Z"
   },
   {
    "duration": 3,
    "start_time": "2022-06-01T19:24:29.030Z"
   },
   {
    "duration": 13,
    "start_time": "2022-06-01T19:24:29.034Z"
   },
   {
    "duration": 13,
    "start_time": "2022-06-01T19:24:29.048Z"
   },
   {
    "duration": 893,
    "start_time": "2022-06-01T19:24:29.063Z"
   },
   {
    "duration": 753,
    "start_time": "2022-06-01T19:24:29.958Z"
   },
   {
    "duration": 283,
    "start_time": "2022-06-01T19:24:30.713Z"
   },
   {
    "duration": 4,
    "start_time": "2022-06-01T19:24:30.997Z"
   },
   {
    "duration": 33,
    "start_time": "2022-06-01T19:24:31.002Z"
   },
   {
    "duration": 35,
    "start_time": "2022-06-01T19:24:31.037Z"
   },
   {
    "duration": 30,
    "start_time": "2022-06-01T19:24:31.075Z"
   },
   {
    "duration": 6,
    "start_time": "2022-06-01T19:24:31.107Z"
   },
   {
    "duration": 94,
    "start_time": "2022-06-01T19:24:31.115Z"
   },
   {
    "duration": 1437,
    "start_time": "2022-06-01T19:24:42.470Z"
   },
   {
    "duration": 47,
    "start_time": "2022-06-01T19:24:43.909Z"
   },
   {
    "duration": 12,
    "start_time": "2022-06-01T19:24:43.957Z"
   },
   {
    "duration": 11,
    "start_time": "2022-06-01T19:24:43.971Z"
   },
   {
    "duration": 3,
    "start_time": "2022-06-01T19:24:43.985Z"
   },
   {
    "duration": 16,
    "start_time": "2022-06-01T19:24:43.989Z"
   },
   {
    "duration": 9,
    "start_time": "2022-06-01T19:24:44.006Z"
   },
   {
    "duration": 852,
    "start_time": "2022-06-01T19:24:44.016Z"
   },
   {
    "duration": 796,
    "start_time": "2022-06-01T19:24:44.870Z"
   },
   {
    "duration": 283,
    "start_time": "2022-06-01T19:24:45.668Z"
   },
   {
    "duration": 2,
    "start_time": "2022-06-01T19:24:45.953Z"
   },
   {
    "duration": 30,
    "start_time": "2022-06-01T19:24:45.957Z"
   },
   {
    "duration": 31,
    "start_time": "2022-06-01T19:24:45.999Z"
   },
   {
    "duration": 15,
    "start_time": "2022-06-01T19:24:46.032Z"
   },
   {
    "duration": 13,
    "start_time": "2022-06-01T19:24:46.048Z"
   },
   {
    "duration": 240,
    "start_time": "2022-06-01T19:24:46.063Z"
   },
   {
    "duration": 230663,
    "start_time": "2022-06-01T19:30:44.627Z"
   },
   {
    "duration": 1337,
    "start_time": "2022-06-01T20:32:41.139Z"
   },
   {
    "duration": 49,
    "start_time": "2022-06-01T20:32:42.478Z"
   },
   {
    "duration": 13,
    "start_time": "2022-06-01T20:32:42.529Z"
   },
   {
    "duration": 21,
    "start_time": "2022-06-01T20:32:42.543Z"
   },
   {
    "duration": 26,
    "start_time": "2022-06-01T20:32:42.566Z"
   },
   {
    "duration": 25,
    "start_time": "2022-06-01T20:32:42.594Z"
   },
   {
    "duration": 33,
    "start_time": "2022-06-01T20:32:42.621Z"
   },
   {
    "duration": 900,
    "start_time": "2022-06-01T20:32:42.656Z"
   },
   {
    "duration": 796,
    "start_time": "2022-06-01T20:32:43.558Z"
   },
   {
    "duration": 277,
    "start_time": "2022-06-01T20:32:44.357Z"
   },
   {
    "duration": 2,
    "start_time": "2022-06-01T20:32:44.636Z"
   },
   {
    "duration": 27,
    "start_time": "2022-06-01T20:32:44.640Z"
   },
   {
    "duration": 47,
    "start_time": "2022-06-01T20:32:44.669Z"
   },
   {
    "duration": 14,
    "start_time": "2022-06-01T20:32:44.718Z"
   },
   {
    "duration": 6,
    "start_time": "2022-06-01T20:32:44.734Z"
   },
   {
    "duration": 160,
    "start_time": "2022-06-01T20:32:44.742Z"
   },
   {
    "duration": 234453,
    "start_time": "2022-06-01T20:32:44.904Z"
   },
   {
    "duration": 1769,
    "start_time": "2022-06-02T06:08:52.077Z"
   },
   {
    "duration": 119,
    "start_time": "2022-06-02T06:08:53.848Z"
   },
   {
    "duration": 13,
    "start_time": "2022-06-02T06:08:53.969Z"
   },
   {
    "duration": 20,
    "start_time": "2022-06-02T06:08:53.984Z"
   },
   {
    "duration": 3,
    "start_time": "2022-06-02T06:08:54.006Z"
   },
   {
    "duration": 12,
    "start_time": "2022-06-02T06:08:54.011Z"
   },
   {
    "duration": 11,
    "start_time": "2022-06-02T06:08:54.024Z"
   },
   {
    "duration": 940,
    "start_time": "2022-06-02T06:08:54.037Z"
   },
   {
    "duration": 751,
    "start_time": "2022-06-02T06:08:54.980Z"
   },
   {
    "duration": 277,
    "start_time": "2022-06-02T06:08:55.733Z"
   },
   {
    "duration": 3,
    "start_time": "2022-06-02T06:08:56.012Z"
   },
   {
    "duration": 29,
    "start_time": "2022-06-02T06:08:56.026Z"
   },
   {
    "duration": 32,
    "start_time": "2022-06-02T06:08:56.057Z"
   },
   {
    "duration": 42,
    "start_time": "2022-06-02T06:08:56.092Z"
   },
   {
    "duration": 7,
    "start_time": "2022-06-02T06:08:56.136Z"
   },
   {
    "duration": 184,
    "start_time": "2022-06-02T06:08:56.145Z"
   },
   {
    "duration": 225387,
    "start_time": "2022-06-02T06:08:56.331Z"
   },
   {
    "duration": 1602,
    "start_time": "2022-06-02T06:42:31.697Z"
   },
   {
    "duration": 50,
    "start_time": "2022-06-02T06:42:33.301Z"
   },
   {
    "duration": 14,
    "start_time": "2022-06-02T06:42:33.353Z"
   },
   {
    "duration": 17,
    "start_time": "2022-06-02T06:42:33.369Z"
   },
   {
    "duration": 9,
    "start_time": "2022-06-02T06:42:33.389Z"
   },
   {
    "duration": 26,
    "start_time": "2022-06-02T06:42:33.400Z"
   },
   {
    "duration": 16,
    "start_time": "2022-06-02T06:42:33.428Z"
   },
   {
    "duration": 1000,
    "start_time": "2022-06-02T06:42:33.446Z"
   },
   {
    "duration": 933,
    "start_time": "2022-06-02T06:42:34.448Z"
   },
   {
    "duration": 330,
    "start_time": "2022-06-02T06:42:35.383Z"
   },
   {
    "duration": 14,
    "start_time": "2022-06-02T06:42:35.715Z"
   },
   {
    "duration": 45,
    "start_time": "2022-06-02T06:42:35.731Z"
   },
   {
    "duration": 40,
    "start_time": "2022-06-02T06:42:35.778Z"
   },
   {
    "duration": 14,
    "start_time": "2022-06-02T06:42:35.828Z"
   },
   {
    "duration": 18,
    "start_time": "2022-06-02T06:42:35.844Z"
   },
   {
    "duration": 267,
    "start_time": "2022-06-02T06:42:35.865Z"
   },
   {
    "duration": 246551,
    "start_time": "2022-06-02T06:42:36.134Z"
   },
   {
    "duration": 4651304,
    "start_time": "2022-06-02T06:46:42.687Z"
   },
   {
    "duration": 133,
    "start_time": "2022-06-02T08:04:13.993Z"
   },
   {
    "duration": 4,
    "start_time": "2022-06-02T08:22:08.502Z"
   },
   {
    "duration": 346237,
    "start_time": "2022-06-02T08:22:15.013Z"
   },
   {
    "duration": 30586,
    "start_time": "2022-06-02T08:59:08.144Z"
   },
   {
    "duration": 430872,
    "start_time": "2022-06-02T09:06:08.866Z"
   },
   {
    "duration": 1471,
    "start_time": "2022-06-02T09:58:29.815Z"
   },
   {
    "duration": 51,
    "start_time": "2022-06-02T09:58:31.289Z"
   },
   {
    "duration": 15,
    "start_time": "2022-06-02T09:58:31.342Z"
   },
   {
    "duration": 32,
    "start_time": "2022-06-02T09:58:31.359Z"
   },
   {
    "duration": 14,
    "start_time": "2022-06-02T09:58:31.393Z"
   },
   {
    "duration": 45,
    "start_time": "2022-06-02T09:58:31.412Z"
   },
   {
    "duration": 101,
    "start_time": "2022-06-02T09:58:31.459Z"
   },
   {
    "duration": 955,
    "start_time": "2022-06-02T09:58:31.562Z"
   },
   {
    "duration": 829,
    "start_time": "2022-06-02T09:58:32.520Z"
   },
   {
    "duration": 304,
    "start_time": "2022-06-02T09:58:33.351Z"
   },
   {
    "duration": 2,
    "start_time": "2022-06-02T09:58:33.657Z"
   },
   {
    "duration": 30,
    "start_time": "2022-06-02T09:58:33.661Z"
   },
   {
    "duration": 50,
    "start_time": "2022-06-02T09:58:33.693Z"
   },
   {
    "duration": 14,
    "start_time": "2022-06-02T09:58:33.745Z"
   },
   {
    "duration": 13,
    "start_time": "2022-06-02T09:58:33.760Z"
   },
   {
    "duration": 158,
    "start_time": "2022-06-02T09:58:33.774Z"
   },
   {
    "duration": 228271,
    "start_time": "2022-06-02T09:58:33.935Z"
   },
   {
    "duration": 4800502,
    "start_time": "2022-06-02T10:02:22.208Z"
   },
   {
    "duration": 1605,
    "start_time": "2022-06-02T14:10:09.160Z"
   },
   {
    "duration": 55,
    "start_time": "2022-06-02T14:10:10.768Z"
   },
   {
    "duration": 16,
    "start_time": "2022-06-02T14:10:10.828Z"
   },
   {
    "duration": 39,
    "start_time": "2022-06-02T14:10:10.847Z"
   },
   {
    "duration": 6,
    "start_time": "2022-06-02T14:10:10.889Z"
   },
   {
    "duration": 17,
    "start_time": "2022-06-02T14:10:10.898Z"
   },
   {
    "duration": 16,
    "start_time": "2022-06-02T14:10:10.917Z"
   },
   {
    "duration": 1071,
    "start_time": "2022-06-02T14:10:10.935Z"
   },
   {
    "duration": 939,
    "start_time": "2022-06-02T14:10:12.009Z"
   },
   {
    "duration": 330,
    "start_time": "2022-06-02T14:10:12.952Z"
   },
   {
    "duration": 4,
    "start_time": "2022-06-02T14:10:13.283Z"
   },
   {
    "duration": 46,
    "start_time": "2022-06-02T14:10:13.288Z"
   },
   {
    "duration": 37,
    "start_time": "2022-06-02T14:10:13.337Z"
   },
   {
    "duration": 23,
    "start_time": "2022-06-02T14:10:13.376Z"
   },
   {
    "duration": 29,
    "start_time": "2022-06-02T14:10:13.400Z"
   },
   {
    "duration": 327,
    "start_time": "2022-06-02T14:10:13.431Z"
   },
   {
    "duration": 253280,
    "start_time": "2022-06-02T14:10:13.762Z"
   },
   {
    "duration": 2150,
    "start_time": "2022-06-02T15:04:35.274Z"
   },
   {
    "duration": 117,
    "start_time": "2022-06-02T15:04:37.441Z"
   },
   {
    "duration": 13,
    "start_time": "2022-06-02T15:04:37.560Z"
   },
   {
    "duration": 10,
    "start_time": "2022-06-02T15:04:37.575Z"
   },
   {
    "duration": 3,
    "start_time": "2022-06-02T15:04:37.586Z"
   },
   {
    "duration": 31,
    "start_time": "2022-06-02T15:04:37.590Z"
   },
   {
    "duration": 25,
    "start_time": "2022-06-02T15:04:37.623Z"
   },
   {
    "duration": 971,
    "start_time": "2022-06-02T15:04:37.650Z"
   },
   {
    "duration": 868,
    "start_time": "2022-06-02T15:04:38.623Z"
   },
   {
    "duration": 350,
    "start_time": "2022-06-02T15:04:39.494Z"
   },
   {
    "duration": 4,
    "start_time": "2022-06-02T15:04:39.846Z"
   },
   {
    "duration": 34,
    "start_time": "2022-06-02T15:04:39.852Z"
   },
   {
    "duration": 56,
    "start_time": "2022-06-02T15:04:39.888Z"
   },
   {
    "duration": 18,
    "start_time": "2022-06-02T15:04:39.946Z"
   },
   {
    "duration": 7,
    "start_time": "2022-06-02T15:04:39.966Z"
   },
   {
    "duration": 154,
    "start_time": "2022-06-02T15:04:39.975Z"
   },
   {
    "duration": 250968,
    "start_time": "2022-06-02T15:04:40.133Z"
   },
   {
    "duration": 1596,
    "start_time": "2022-06-03T12:11:53.481Z"
   },
   {
    "duration": 155,
    "start_time": "2022-06-03T12:11:55.079Z"
   },
   {
    "duration": 21,
    "start_time": "2022-06-03T12:11:55.235Z"
   },
   {
    "duration": 13,
    "start_time": "2022-06-03T12:11:55.257Z"
   },
   {
    "duration": 3,
    "start_time": "2022-06-03T12:11:55.272Z"
   },
   {
    "duration": 10,
    "start_time": "2022-06-03T12:11:55.277Z"
   },
   {
    "duration": 9,
    "start_time": "2022-06-03T12:11:55.289Z"
   },
   {
    "duration": 1025,
    "start_time": "2022-06-03T12:11:55.300Z"
   },
   {
    "duration": 878,
    "start_time": "2022-06-03T12:11:56.327Z"
   },
   {
    "duration": 294,
    "start_time": "2022-06-03T12:11:57.207Z"
   },
   {
    "duration": 3,
    "start_time": "2022-06-03T12:11:57.503Z"
   },
   {
    "duration": 44,
    "start_time": "2022-06-03T12:11:57.507Z"
   },
   {
    "duration": 34,
    "start_time": "2022-06-03T12:11:57.552Z"
   },
   {
    "duration": 13,
    "start_time": "2022-06-03T12:11:57.589Z"
   },
   {
    "duration": 6,
    "start_time": "2022-06-03T12:11:57.604Z"
   },
   {
    "duration": 236,
    "start_time": "2022-06-03T12:11:57.612Z"
   },
   {
    "duration": 258034,
    "start_time": "2022-06-03T12:11:57.849Z"
   },
   {
    "duration": 1405,
    "start_time": "2022-06-03T13:06:42.131Z"
   },
   {
    "duration": 141,
    "start_time": "2022-06-03T13:06:43.538Z"
   },
   {
    "duration": 13,
    "start_time": "2022-06-03T13:06:43.681Z"
   },
   {
    "duration": 12,
    "start_time": "2022-06-03T13:06:43.696Z"
   },
   {
    "duration": 4,
    "start_time": "2022-06-03T13:06:43.710Z"
   },
   {
    "duration": 10,
    "start_time": "2022-06-03T13:06:43.716Z"
   },
   {
    "duration": 31,
    "start_time": "2022-06-03T13:06:43.728Z"
   },
   {
    "duration": 1000,
    "start_time": "2022-06-03T13:06:43.760Z"
   },
   {
    "duration": 853,
    "start_time": "2022-06-03T13:06:44.762Z"
   },
   {
    "duration": 288,
    "start_time": "2022-06-03T13:06:45.617Z"
   },
   {
    "duration": 3,
    "start_time": "2022-06-03T13:06:45.908Z"
   },
   {
    "duration": 53,
    "start_time": "2022-06-03T13:06:45.912Z"
   },
   {
    "duration": 39,
    "start_time": "2022-06-03T13:06:45.968Z"
   },
   {
    "duration": 13,
    "start_time": "2022-06-03T13:06:46.010Z"
   },
   {
    "duration": 8,
    "start_time": "2022-06-03T13:06:46.025Z"
   },
   {
    "duration": 53,
    "start_time": "2022-06-03T13:06:46.041Z"
   },
   {
    "duration": 264143,
    "start_time": "2022-06-03T13:06:46.240Z"
   },
   {
    "duration": 1455,
    "start_time": "2022-06-03T13:53:59.014Z"
   },
   {
    "duration": 63,
    "start_time": "2022-06-03T13:54:00.474Z"
   },
   {
    "duration": 14,
    "start_time": "2022-06-03T13:54:00.539Z"
   },
   {
    "duration": 59,
    "start_time": "2022-06-03T13:54:00.555Z"
   },
   {
    "duration": 7,
    "start_time": "2022-06-03T13:54:00.617Z"
   },
   {
    "duration": 25,
    "start_time": "2022-06-03T13:54:00.626Z"
   },
   {
    "duration": 34,
    "start_time": "2022-06-03T13:54:00.653Z"
   },
   {
    "duration": 1016,
    "start_time": "2022-06-03T13:54:00.689Z"
   },
   {
    "duration": 950,
    "start_time": "2022-06-03T13:54:01.707Z"
   },
   {
    "duration": 318,
    "start_time": "2022-06-03T13:54:02.663Z"
   },
   {
    "duration": 3,
    "start_time": "2022-06-03T13:54:02.983Z"
   },
   {
    "duration": 27,
    "start_time": "2022-06-03T13:54:02.987Z"
   },
   {
    "duration": 40,
    "start_time": "2022-06-03T13:54:03.016Z"
   },
   {
    "duration": 17,
    "start_time": "2022-06-03T13:54:03.060Z"
   },
   {
    "duration": 7,
    "start_time": "2022-06-03T13:54:03.079Z"
   },
   {
    "duration": 60,
    "start_time": "2022-06-03T13:54:03.088Z"
   },
   {
    "duration": 263678,
    "start_time": "2022-06-03T13:54:03.151Z"
   },
   {
    "duration": 4796703,
    "start_time": "2022-06-03T13:58:26.831Z"
   },
   {
    "duration": 314723,
    "start_time": "2022-06-03T15:18:23.536Z"
   },
   {
    "duration": 9,
    "start_time": "2022-06-03T15:48:23.733Z"
   },
   {
    "duration": 2497,
    "start_time": "2022-06-03T15:48:23.826Z"
   },
   {
    "duration": 7076,
    "start_time": "2022-06-03T15:48:26.325Z"
   },
   {
    "duration": 28,
    "start_time": "2022-06-03T15:48:33.402Z"
   },
   {
    "duration": 0,
    "start_time": "2022-06-03T15:48:33.431Z"
   },
   {
    "duration": 0,
    "start_time": "2022-06-03T15:48:33.433Z"
   },
   {
    "duration": 0,
    "start_time": "2022-06-03T15:48:33.434Z"
   },
   {
    "duration": 28,
    "start_time": "2022-06-03T15:49:06.744Z"
   },
   {
    "duration": 0,
    "start_time": "2022-06-03T15:49:06.773Z"
   },
   {
    "duration": 0,
    "start_time": "2022-06-03T15:49:06.774Z"
   },
   {
    "duration": 129,
    "start_time": "2022-06-03T15:49:17.060Z"
   },
   {
    "duration": 0,
    "start_time": "2022-06-03T15:49:17.191Z"
   },
   {
    "duration": 2537,
    "start_time": "2022-06-03T15:50:05.093Z"
   },
   {
    "duration": 0,
    "start_time": "2022-06-03T15:50:07.632Z"
   },
   {
    "duration": 2592,
    "start_time": "2022-06-03T15:51:44.474Z"
   },
   {
    "duration": 2551,
    "start_time": "2022-06-03T15:52:03.607Z"
   },
   {
    "duration": 3041,
    "start_time": "2022-06-03T15:52:17.700Z"
   },
   {
    "duration": 442,
    "start_time": "2022-06-03T15:52:37.520Z"
   },
   {
    "duration": 1361,
    "start_time": "2022-06-03T15:55:27.865Z"
   },
   {
    "duration": 48,
    "start_time": "2022-06-03T15:55:29.228Z"
   },
   {
    "duration": 12,
    "start_time": "2022-06-03T15:55:29.277Z"
   },
   {
    "duration": 22,
    "start_time": "2022-06-03T15:55:29.291Z"
   },
   {
    "duration": 13,
    "start_time": "2022-06-03T15:55:29.315Z"
   },
   {
    "duration": 23,
    "start_time": "2022-06-03T15:55:29.330Z"
   },
   {
    "duration": 14,
    "start_time": "2022-06-03T15:55:29.355Z"
   },
   {
    "duration": 958,
    "start_time": "2022-06-03T15:55:29.371Z"
   },
   {
    "duration": 842,
    "start_time": "2022-06-03T15:55:30.331Z"
   },
   {
    "duration": 277,
    "start_time": "2022-06-03T15:55:31.175Z"
   },
   {
    "duration": 3,
    "start_time": "2022-06-03T15:55:31.454Z"
   },
   {
    "duration": 45,
    "start_time": "2022-06-03T15:55:31.458Z"
   },
   {
    "duration": 37,
    "start_time": "2022-06-03T15:55:31.505Z"
   },
   {
    "duration": 13,
    "start_time": "2022-06-03T15:55:31.545Z"
   },
   {
    "duration": 9,
    "start_time": "2022-06-03T15:55:31.560Z"
   },
   {
    "duration": 170,
    "start_time": "2022-06-03T15:55:31.571Z"
   },
   {
    "duration": 235730,
    "start_time": "2022-06-03T15:55:31.743Z"
   },
   {
    "duration": 4559962,
    "start_time": "2022-06-03T15:59:27.475Z"
   },
   {
    "duration": 29811,
    "start_time": "2022-06-03T17:15:27.438Z"
   },
   {
    "duration": 9,
    "start_time": "2022-06-03T17:15:57.251Z"
   },
   {
    "duration": 2595,
    "start_time": "2022-06-03T17:15:57.262Z"
   },
   {
    "duration": 7073,
    "start_time": "2022-06-03T17:15:59.858Z"
   },
   {
    "duration": 3038,
    "start_time": "2022-06-03T17:16:06.933Z"
   },
   {
    "duration": 400,
    "start_time": "2022-06-03T17:16:09.973Z"
   },
   {
    "duration": 1801,
    "start_time": "2022-06-04T17:46:13.316Z"
   },
   {
    "duration": 157,
    "start_time": "2022-06-04T17:46:15.121Z"
   },
   {
    "duration": 23,
    "start_time": "2022-06-04T17:46:15.280Z"
   },
   {
    "duration": 23,
    "start_time": "2022-06-04T17:46:15.304Z"
   },
   {
    "duration": 3,
    "start_time": "2022-06-04T17:46:15.331Z"
   },
   {
    "duration": 12,
    "start_time": "2022-06-04T17:46:15.336Z"
   },
   {
    "duration": 11,
    "start_time": "2022-06-04T17:46:15.350Z"
   },
   {
    "duration": 1081,
    "start_time": "2022-06-04T17:46:15.363Z"
   },
   {
    "duration": 926,
    "start_time": "2022-06-04T17:46:16.447Z"
   },
   {
    "duration": 215,
    "start_time": "2022-06-04T17:46:17.375Z"
   },
   {
    "duration": 10,
    "start_time": "2022-06-04T17:46:17.596Z"
   },
   {
    "duration": 190,
    "start_time": "2022-06-04T17:46:17.613Z"
   },
   {
    "duration": 149,
    "start_time": "2022-06-04T17:46:17.812Z"
   },
   {
    "duration": 0,
    "start_time": "2022-06-04T17:46:17.963Z"
   },
   {
    "duration": 0,
    "start_time": "2022-06-04T17:46:17.964Z"
   },
   {
    "duration": 0,
    "start_time": "2022-06-04T17:46:17.966Z"
   },
   {
    "duration": 0,
    "start_time": "2022-06-04T17:46:17.967Z"
   },
   {
    "duration": 0,
    "start_time": "2022-06-04T17:46:17.968Z"
   },
   {
    "duration": 0,
    "start_time": "2022-06-04T17:46:17.970Z"
   },
   {
    "duration": 0,
    "start_time": "2022-06-04T17:46:17.971Z"
   },
   {
    "duration": 0,
    "start_time": "2022-06-04T17:46:17.973Z"
   },
   {
    "duration": 0,
    "start_time": "2022-06-04T17:46:17.990Z"
   },
   {
    "duration": 1,
    "start_time": "2022-06-04T17:46:17.996Z"
   },
   {
    "duration": 0,
    "start_time": "2022-06-04T17:46:17.997Z"
   },
   {
    "duration": 1777,
    "start_time": "2022-06-04T17:47:27.240Z"
   },
   {
    "duration": 49,
    "start_time": "2022-06-04T17:47:29.022Z"
   },
   {
    "duration": 11,
    "start_time": "2022-06-04T17:47:29.073Z"
   },
   {
    "duration": 33,
    "start_time": "2022-06-04T17:47:29.086Z"
   },
   {
    "duration": 11,
    "start_time": "2022-06-04T17:47:29.121Z"
   },
   {
    "duration": 12,
    "start_time": "2022-06-04T17:47:29.134Z"
   },
   {
    "duration": 11,
    "start_time": "2022-06-04T17:47:29.148Z"
   },
   {
    "duration": 1096,
    "start_time": "2022-06-04T17:47:29.160Z"
   },
   {
    "duration": 973,
    "start_time": "2022-06-04T17:47:30.259Z"
   },
   {
    "duration": 235,
    "start_time": "2022-06-04T17:47:31.235Z"
   },
   {
    "duration": 4,
    "start_time": "2022-06-04T17:47:31.472Z"
   },
   {
    "duration": 37,
    "start_time": "2022-06-04T17:47:31.491Z"
   },
   {
    "duration": 47,
    "start_time": "2022-06-04T17:47:31.529Z"
   },
   {
    "duration": 133,
    "start_time": "2022-06-04T17:47:31.578Z"
   },
   {
    "duration": 24,
    "start_time": "2022-06-04T17:47:31.718Z"
   },
   {
    "duration": 253,
    "start_time": "2022-06-04T17:47:31.745Z"
   },
   {
    "duration": 172147,
    "start_time": "2022-06-04T17:47:32.004Z"
   }
  ],
  "kernelspec": {
   "display_name": "Python 3 (ipykernel)",
   "language": "python",
   "name": "python3"
  },
  "language_info": {
   "codemirror_mode": {
    "name": "ipython",
    "version": 3
   },
   "file_extension": ".py",
   "mimetype": "text/x-python",
   "name": "python",
   "nbconvert_exporter": "python",
   "pygments_lexer": "ipython3",
   "version": "3.9.10"
  },
  "toc": {
   "base_numbering": 1,
   "nav_menu": {},
   "number_sections": true,
   "sideBar": true,
   "skip_h1_title": true,
   "title_cell": "Содержание",
   "title_sidebar": "Contents",
   "toc_cell": true,
   "toc_position": {
    "height": "calc(100% - 180px)",
    "left": "10px",
    "top": "150px",
    "width": "358.188px"
   },
   "toc_section_display": true,
   "toc_window_display": false
  }
 },
 "nbformat": 4,
 "nbformat_minor": 2
}
