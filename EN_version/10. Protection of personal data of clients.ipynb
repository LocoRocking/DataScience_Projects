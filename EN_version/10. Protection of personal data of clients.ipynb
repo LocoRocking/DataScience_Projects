{
 "cells": [
  {
   "cell_type": "markdown",
   "metadata": {
    "toc": true
   },
   "source": [
    "<h1>Содержание<span class=\"tocSkip\"></span></h1>\n",
    "<div class=\"toc\"><ul class=\"toc-item\"><li><span><a href=\"#Загрузка-данных\" data-toc-modified-id=\"Загрузка-данных-1\"><span class=\"toc-item-num\">1&nbsp;&nbsp;</span>Загрузка данных</a></span><ul class=\"toc-item\"><li><span><a href=\"#Вывод-по-разделу\" data-toc-modified-id=\"Вывод-по-разделу-1.1\"><span class=\"toc-item-num\">1.1&nbsp;&nbsp;</span>Вывод по разделу</a></span></li></ul></li><li><span><a href=\"#Умножение-матриц\" data-toc-modified-id=\"Умножение-матриц-2\"><span class=\"toc-item-num\">2&nbsp;&nbsp;</span>Умножение матриц</a></span><ul class=\"toc-item\"><li><span><a href=\"#Вывод-по-разделу:\" data-toc-modified-id=\"Вывод-по-разделу:-2.1\"><span class=\"toc-item-num\">2.1&nbsp;&nbsp;</span>Вывод по разделу:</a></span></li></ul></li><li><span><a href=\"#Алгоритм-преобразования\" data-toc-modified-id=\"Алгоритм-преобразования-3\"><span class=\"toc-item-num\">3&nbsp;&nbsp;</span>Алгоритм преобразования</a></span></li><li><span><a href=\"#Проверка-алгоритма\" data-toc-modified-id=\"Проверка-алгоритма-4\"><span class=\"toc-item-num\">4&nbsp;&nbsp;</span>Проверка алгоритма</a></span><ul class=\"toc-item\"><li><span><a href=\"#Вывод-по-разделу\" data-toc-modified-id=\"Вывод-по-разделу-4.1\"><span class=\"toc-item-num\">4.1&nbsp;&nbsp;</span>Вывод по разделу</a></span></li></ul></li><li><span><a href=\"#Вывод:\" data-toc-modified-id=\"Вывод:-5\"><span class=\"toc-item-num\">5&nbsp;&nbsp;</span>Вывод:</a></span></li><li><span><a href=\"#Чек-лист-проверки\" data-toc-modified-id=\"Чек-лист-проверки-6\"><span class=\"toc-item-num\">6&nbsp;&nbsp;</span>Чек-лист проверки</a></span></li></ul></div>"
   ]
  },
  {
   "cell_type": "markdown",
   "metadata": {},
   "source": [
    "# Защита персональных данных клиентов"
   ]
  },
  {
   "cell_type": "markdown",
   "metadata": {},
   "source": [
    "Вам нужно защитить данные клиентов страховой компании «Хоть потоп». Разработайте такой метод преобразования данных, чтобы по ним было сложно восстановить персональную информацию. Обоснуйте корректность его работы.\n",
    "\n",
    "Нужно защитить данные, чтобы при преобразовании качество моделей машинного обучения не ухудшилось. Подбирать наилучшую модель не требуется."
   ]
  },
  {
   "cell_type": "markdown",
   "metadata": {},
   "source": [
    "<font size = 3><b>Описание данных</b></font>\n",
    "- <b>Признаки</b>: пол, возраст и зарплата застрахованного, количество членов его семьи.\n",
    "- <b>Целевой признак</b>: количество страховых выплат клиенту за последние 5 лет."
   ]
  },
  {
   "cell_type": "markdown",
   "metadata": {},
   "source": [
    "## Загрузка данных"
   ]
  },
  {
   "cell_type": "code",
   "execution_count": 1,
   "metadata": {},
   "outputs": [],
   "source": [
    "#импортируем необходимые библиотеки\n",
    "import pandas as pd\n",
    "import numpy as np\n",
    "\n",
    "from sklearn.model_selection import train_test_split\n",
    "from sklearn.linear_model import LinearRegression\n",
    "from sklearn.metrics import r2_score"
   ]
  },
  {
   "cell_type": "code",
   "execution_count": 2,
   "metadata": {},
   "outputs": [],
   "source": [
    "#загрузим наш датасет\n",
    "df = pd.read_csv('/datasets/insurance.csv')"
   ]
  },
  {
   "cell_type": "code",
   "execution_count": 3,
   "metadata": {},
   "outputs": [
    {
     "data": {
      "text/html": [
       "<div>\n",
       "<style scoped>\n",
       "    .dataframe tbody tr th:only-of-type {\n",
       "        vertical-align: middle;\n",
       "    }\n",
       "\n",
       "    .dataframe tbody tr th {\n",
       "        vertical-align: top;\n",
       "    }\n",
       "\n",
       "    .dataframe thead th {\n",
       "        text-align: right;\n",
       "    }\n",
       "</style>\n",
       "<table border=\"1\" class=\"dataframe\">\n",
       "  <thead>\n",
       "    <tr style=\"text-align: right;\">\n",
       "      <th></th>\n",
       "      <th>Пол</th>\n",
       "      <th>Возраст</th>\n",
       "      <th>Зарплата</th>\n",
       "      <th>Члены семьи</th>\n",
       "      <th>Страховые выплаты</th>\n",
       "    </tr>\n",
       "  </thead>\n",
       "  <tbody>\n",
       "    <tr>\n",
       "      <th>2698</th>\n",
       "      <td>1</td>\n",
       "      <td>20.0</td>\n",
       "      <td>43300.0</td>\n",
       "      <td>0</td>\n",
       "      <td>0</td>\n",
       "    </tr>\n",
       "    <tr>\n",
       "      <th>4174</th>\n",
       "      <td>1</td>\n",
       "      <td>38.0</td>\n",
       "      <td>40700.0</td>\n",
       "      <td>1</td>\n",
       "      <td>0</td>\n",
       "    </tr>\n",
       "    <tr>\n",
       "      <th>939</th>\n",
       "      <td>1</td>\n",
       "      <td>35.0</td>\n",
       "      <td>36100.0</td>\n",
       "      <td>2</td>\n",
       "      <td>0</td>\n",
       "    </tr>\n",
       "    <tr>\n",
       "      <th>555</th>\n",
       "      <td>0</td>\n",
       "      <td>20.0</td>\n",
       "      <td>40300.0</td>\n",
       "      <td>1</td>\n",
       "      <td>0</td>\n",
       "    </tr>\n",
       "    <tr>\n",
       "      <th>3078</th>\n",
       "      <td>0</td>\n",
       "      <td>27.0</td>\n",
       "      <td>52500.0</td>\n",
       "      <td>2</td>\n",
       "      <td>0</td>\n",
       "    </tr>\n",
       "  </tbody>\n",
       "</table>\n",
       "</div>"
      ],
      "text/plain": [
       "      Пол  Возраст  Зарплата  Члены семьи  Страховые выплаты\n",
       "2698    1     20.0   43300.0            0                  0\n",
       "4174    1     38.0   40700.0            1                  0\n",
       "939     1     35.0   36100.0            2                  0\n",
       "555     0     20.0   40300.0            1                  0\n",
       "3078    0     27.0   52500.0            2                  0"
      ]
     },
     "execution_count": 3,
     "metadata": {},
     "output_type": "execute_result"
    }
   ],
   "source": [
    "#посмотрим на данные\n",
    "df.sample(5)"
   ]
  },
  {
   "cell_type": "code",
   "execution_count": 4,
   "metadata": {},
   "outputs": [
    {
     "name": "stdout",
     "output_type": "stream",
     "text": [
      "<class 'pandas.core.frame.DataFrame'>\n",
      "RangeIndex: 5000 entries, 0 to 4999\n",
      "Data columns (total 5 columns):\n",
      " #   Column             Non-Null Count  Dtype  \n",
      "---  ------             --------------  -----  \n",
      " 0   Пол                5000 non-null   int64  \n",
      " 1   Возраст            5000 non-null   float64\n",
      " 2   Зарплата           5000 non-null   float64\n",
      " 3   Члены семьи        5000 non-null   int64  \n",
      " 4   Страховые выплаты  5000 non-null   int64  \n",
      "dtypes: float64(2), int64(3)\n",
      "memory usage: 195.4 KB\n"
     ]
    }
   ],
   "source": [
    "#и посмотрим общую информацию о датасете\n",
    "df.info()"
   ]
  },
  {
   "cell_type": "markdown",
   "metadata": {},
   "source": [
    "У нас 3 столбца формата `int64` и 2 столбца формата `float64`. Как видно, в столбцах `Возраст` и `Зарплата` после запятой идут нули, поэтому можем преобразовать эти столбцы также в целочисленный формат."
   ]
  },
  {
   "cell_type": "code",
   "execution_count": 5,
   "metadata": {
    "scrolled": true
   },
   "outputs": [
    {
     "name": "stdout",
     "output_type": "stream",
     "text": [
      "<class 'pandas.core.frame.DataFrame'>\n",
      "RangeIndex: 5000 entries, 0 to 4999\n",
      "Data columns (total 5 columns):\n",
      " #   Column             Non-Null Count  Dtype\n",
      "---  ------             --------------  -----\n",
      " 0   Пол                5000 non-null   int64\n",
      " 1   Возраст            5000 non-null   int64\n",
      " 2   Зарплата           5000 non-null   int64\n",
      " 3   Члены семьи        5000 non-null   int64\n",
      " 4   Страховые выплаты  5000 non-null   int64\n",
      "dtypes: int64(5)\n",
      "memory usage: 195.4 KB\n"
     ]
    }
   ],
   "source": [
    "df = df.astype(int)\n",
    "df.info()"
   ]
  },
  {
   "cell_type": "code",
   "execution_count": 6,
   "metadata": {},
   "outputs": [
    {
     "name": "stdout",
     "output_type": "stream",
     "text": [
      "Количество дубликатов: 153 что составляет 3.06 процентов от датасета.\n"
     ]
    }
   ],
   "source": [
    "#посмотрим на количество дубликатов\n",
    "print('Количество дубликатов:', df.duplicated().sum(),\n",
    "      'что составляет', (df.duplicated().sum()/len(df))*100, 'процентов от датасета.')"
   ]
  },
  {
   "cell_type": "markdown",
   "metadata": {},
   "source": [
    "Хотя и не совсем понятно, дубликаты это или совпадения, т.к. данные обезличены, но лучше эти дубликаты удалить, потому что их количество невелико и на результатах исследования это удаление никак не скажется."
   ]
  },
  {
   "cell_type": "code",
   "execution_count": 7,
   "metadata": {},
   "outputs": [
    {
     "name": "stdout",
     "output_type": "stream",
     "text": [
      "<class 'pandas.core.frame.DataFrame'>\n",
      "Int64Index: 4847 entries, 0 to 4999\n",
      "Data columns (total 5 columns):\n",
      " #   Column             Non-Null Count  Dtype\n",
      "---  ------             --------------  -----\n",
      " 0   Пол                4847 non-null   int64\n",
      " 1   Возраст            4847 non-null   int64\n",
      " 2   Зарплата           4847 non-null   int64\n",
      " 3   Члены семьи        4847 non-null   int64\n",
      " 4   Страховые выплаты  4847 non-null   int64\n",
      "dtypes: int64(5)\n",
      "memory usage: 227.2 KB\n"
     ]
    }
   ],
   "source": [
    "df.drop_duplicates(inplace=True)\n",
    "df.info()"
   ]
  },
  {
   "cell_type": "code",
   "execution_count": 8,
   "metadata": {},
   "outputs": [
    {
     "data": {
      "text/plain": [
       "Пол                  0\n",
       "Возраст              0\n",
       "Зарплата             0\n",
       "Члены семьи          0\n",
       "Страховые выплаты    0\n",
       "dtype: int64"
      ]
     },
     "execution_count": 8,
     "metadata": {},
     "output_type": "execute_result"
    }
   ],
   "source": [
    "#теперь проверим датасет на пропуски\n",
    "df.isna().sum()"
   ]
  },
  {
   "cell_type": "markdown",
   "metadata": {},
   "source": [
    "Посмотрим на таблицу с описательной статистикой и есть ли какие-то аномалии в данных."
   ]
  },
  {
   "cell_type": "code",
   "execution_count": 9,
   "metadata": {},
   "outputs": [
    {
     "data": {
      "text/html": [
       "<div>\n",
       "<style scoped>\n",
       "    .dataframe tbody tr th:only-of-type {\n",
       "        vertical-align: middle;\n",
       "    }\n",
       "\n",
       "    .dataframe tbody tr th {\n",
       "        vertical-align: top;\n",
       "    }\n",
       "\n",
       "    .dataframe thead th {\n",
       "        text-align: right;\n",
       "    }\n",
       "</style>\n",
       "<table border=\"1\" class=\"dataframe\">\n",
       "  <thead>\n",
       "    <tr style=\"text-align: right;\">\n",
       "      <th></th>\n",
       "      <th>Пол</th>\n",
       "      <th>Возраст</th>\n",
       "      <th>Зарплата</th>\n",
       "      <th>Члены семьи</th>\n",
       "      <th>Страховые выплаты</th>\n",
       "    </tr>\n",
       "  </thead>\n",
       "  <tbody>\n",
       "    <tr>\n",
       "      <th>count</th>\n",
       "      <td>4847.000000</td>\n",
       "      <td>4847.000000</td>\n",
       "      <td>4847.000000</td>\n",
       "      <td>4847.000000</td>\n",
       "      <td>4847.000000</td>\n",
       "    </tr>\n",
       "    <tr>\n",
       "      <th>mean</th>\n",
       "      <td>0.498453</td>\n",
       "      <td>31.023932</td>\n",
       "      <td>39895.811223</td>\n",
       "      <td>1.203425</td>\n",
       "      <td>0.152259</td>\n",
       "    </tr>\n",
       "    <tr>\n",
       "      <th>std</th>\n",
       "      <td>0.500049</td>\n",
       "      <td>8.487995</td>\n",
       "      <td>9972.952441</td>\n",
       "      <td>1.098664</td>\n",
       "      <td>0.468934</td>\n",
       "    </tr>\n",
       "    <tr>\n",
       "      <th>min</th>\n",
       "      <td>0.000000</td>\n",
       "      <td>18.000000</td>\n",
       "      <td>5300.000000</td>\n",
       "      <td>0.000000</td>\n",
       "      <td>0.000000</td>\n",
       "    </tr>\n",
       "    <tr>\n",
       "      <th>25%</th>\n",
       "      <td>0.000000</td>\n",
       "      <td>24.000000</td>\n",
       "      <td>33200.000000</td>\n",
       "      <td>0.000000</td>\n",
       "      <td>0.000000</td>\n",
       "    </tr>\n",
       "    <tr>\n",
       "      <th>50%</th>\n",
       "      <td>0.000000</td>\n",
       "      <td>30.000000</td>\n",
       "      <td>40200.000000</td>\n",
       "      <td>1.000000</td>\n",
       "      <td>0.000000</td>\n",
       "    </tr>\n",
       "    <tr>\n",
       "      <th>75%</th>\n",
       "      <td>1.000000</td>\n",
       "      <td>37.000000</td>\n",
       "      <td>46600.000000</td>\n",
       "      <td>2.000000</td>\n",
       "      <td>0.000000</td>\n",
       "    </tr>\n",
       "    <tr>\n",
       "      <th>max</th>\n",
       "      <td>1.000000</td>\n",
       "      <td>65.000000</td>\n",
       "      <td>79000.000000</td>\n",
       "      <td>6.000000</td>\n",
       "      <td>5.000000</td>\n",
       "    </tr>\n",
       "  </tbody>\n",
       "</table>\n",
       "</div>"
      ],
      "text/plain": [
       "               Пол      Возраст      Зарплата  Члены семьи  Страховые выплаты\n",
       "count  4847.000000  4847.000000   4847.000000  4847.000000        4847.000000\n",
       "mean      0.498453    31.023932  39895.811223     1.203425           0.152259\n",
       "std       0.500049     8.487995   9972.952441     1.098664           0.468934\n",
       "min       0.000000    18.000000   5300.000000     0.000000           0.000000\n",
       "25%       0.000000    24.000000  33200.000000     0.000000           0.000000\n",
       "50%       0.000000    30.000000  40200.000000     1.000000           0.000000\n",
       "75%       1.000000    37.000000  46600.000000     2.000000           0.000000\n",
       "max       1.000000    65.000000  79000.000000     6.000000           5.000000"
      ]
     },
     "metadata": {},
     "output_type": "display_data"
    }
   ],
   "source": [
    "display(df.describe())"
   ]
  },
  {
   "cell_type": "markdown",
   "metadata": {},
   "source": [
    "Исходя из таблицы, в данных нет аномалий.\n",
    "- В столбце \"Пол\" всего два значения, 0 и 1, что говорит о мужском и женском поле; \n",
    "- В столбце \"Возраст\" указан возраст от 18 до 65 лет, как раз минимальный и максимальный возраст возможности оформления большинства страховых продуктов.\n",
    "- В столбце \"Зарплата\" значения от 5300 рублей до 79000 рублей, что говорит о том, что данные были выгружены либо много лет назад, либо здесь содержится информация в основном о небольших регионах с невысоким уровнем дохода.\n",
    "- В столбце \"Члены семьи\" значения от 0 до 6, что тоже является абсолютно нормальными значениями.\n",
    "- И в столбце \"Страховые выплаты\" указано количество обращений за выплатами за последние 5 лет и как мы видим, даже в третьем квантиле указано значение 0, среднее значение составляет всего 0,148, а максимальное значение составляет 5 обращений, что говорит о том, что большинство людей не обращается за страховыми выплатами."
   ]
  },
  {
   "cell_type": "code",
   "execution_count": 10,
   "metadata": {},
   "outputs": [
    {
     "data": {
      "text/plain": [
       "0    4284\n",
       "1     423\n",
       "2     114\n",
       "3      18\n",
       "4       7\n",
       "5       1\n",
       "Name: Страховые выплаты, dtype: int64"
      ]
     },
     "execution_count": 10,
     "metadata": {},
     "output_type": "execute_result"
    }
   ],
   "source": [
    "#посмотрим на количество страховых выплат подробнее\n",
    "df['Страховые выплаты'].value_counts()"
   ]
  },
  {
   "cell_type": "markdown",
   "metadata": {},
   "source": [
    "### Вывод по разделу\n",
    "1. В датасете 5000 строк и 5 столбцов.\n",
    "2. Весь датасет был переведен в формат `int32`.\n",
    "3. В датасете были обнаружены и впоследствии удалены 153 дубликата.\n",
    "4. Пропусков в датасете нет.\n",
    "\n",
    "<b>Наш датасет готов исследованию.</b>"
   ]
  },
  {
   "cell_type": "markdown",
   "metadata": {},
   "source": [
    "## Умножение матриц"
   ]
  },
  {
   "cell_type": "markdown",
   "metadata": {},
   "source": [
    "В этом задании вы можете записывать формулы в *Jupyter Notebook.*\n",
    "\n",
    "Чтобы записать формулу внутри текста, окружите её символами доллара \\\\$; если снаружи —  двойными символами \\\\$\\\\$. Эти формулы записываются на языке вёрстки *LaTeX.* \n",
    "\n",
    "Для примера мы записали формулы линейной регрессии. Можете их скопировать и отредактировать, чтобы решить задачу.\n",
    "\n",
    "Работать в *LaTeX* необязательно."
   ]
  },
  {
   "cell_type": "markdown",
   "metadata": {},
   "source": [
    "Обозначения:\n",
    "\n",
    "- $X$ — матрица признаков (нулевой столбец состоит из единиц)\n",
    "\n",
    "- $y$ — вектор целевого признака\n",
    "\n",
    "- $P$ — матрица, на которую умножаются признаки\n",
    "\n",
    "- $w$ — вектор весов линейной регрессии (нулевой элемент равен сдвигу)"
   ]
  },
  {
   "cell_type": "markdown",
   "metadata": {},
   "source": [
    "Предсказания:\n",
    "\n",
    "$$\n",
    "a = Xw\n",
    "$$\n",
    "\n",
    "Задача обучения:\n",
    "\n",
    "$$\n",
    "w = \\arg\\min_w MSE(Xw, y)\n",
    "$$\n",
    "\n",
    "Формула обучения:\n",
    "\n",
    "$$\n",
    "w = (X^T X)^{-1} X^T y\n",
    "$$"
   ]
  },
  {
   "cell_type": "markdown",
   "metadata": {},
   "source": [
    "**Вопрос:**\n",
    "признаки умножают на обратимую матрицу. Изменится ли качество линейной регрессии?\n",
    "\n",
    "**Ответ:**\n",
    "качество линейной регрессии не изменится.\n",
    "\n",
    "**Обоснование:**"
   ]
  },
  {
   "cell_type": "markdown",
   "metadata": {},
   "source": [
    "Создадим новую матрицу признаков из нашей старой матрицы $X$, умноженной на обратимую матрицу $P$:\n",
    "\n",
    "$$\n",
    "X_p = X * P\n",
    "$$"
   ]
  },
  {
   "cell_type": "markdown",
   "metadata": {},
   "source": [
    "Теперь создадим новый вектор весов, используя свойство транспонированных и обратимых матриц, а также единичную матрицу $E$:\n",
    "\n",
    "$$\n",
    "w_p = ((XP)^T XP)^{-1} (XP)^T y = (P^T X^T XP)^{-1} P^T X^T y = (P^T(X^T X)P)^{-1} P^T X^T y = P^{-1}(X^T X)^{-1}(P^T)^{-1}  P^T X^T y = = P^{-1}(X^T X)^{-1}EX^T y = P^{-1}(X^T X)^{-1}X^T y\n",
    "$$"
   ]
  },
  {
   "cell_type": "markdown",
   "metadata": {},
   "source": [
    "Итоговая формула получилась: $w_p = P^{-1}(X^T X)^{-1}X^T y$, в которой $(X^T X)^{-1}X^T y$ равно формуле обучения $w$."
   ]
  },
  {
   "cell_type": "markdown",
   "metadata": {},
   "source": [
    "Получилось, что $w_p = P^{-1}w$"
   ]
  },
  {
   "cell_type": "markdown",
   "metadata": {},
   "source": [
    "Теперь построим предсказание по выведенной формуле: $a_p = X_p w_p = X P P^{-1} w$.\n",
    "\n",
    "$P P^{-1}$ равно единичной матрице $E$ и получается, что $a_p = XEw = Xw$"
   ]
  },
  {
   "cell_type": "markdown",
   "metadata": {},
   "source": [
    "И, следовательно, $a = a_p$"
   ]
  },
  {
   "cell_type": "markdown",
   "metadata": {},
   "source": [
    "### Вывод по разделу:\n",
    "При умножении признаков линейной регрессии на обратимую матрицу качество модели не изменится."
   ]
  },
  {
   "cell_type": "markdown",
   "metadata": {},
   "source": [
    "## Алгоритм преобразования"
   ]
  },
  {
   "cell_type": "markdown",
   "metadata": {},
   "source": [
    "**Алгоритм**\n",
    "\n",
    "Для защиты информации умножим матрицу признаков на обратимую матрицу $P$, которая генерируется случайным образом.\n",
    "\n",
    "Этапы алгоритма:\n",
    "1. Создание случайной квадратной обратимой матрицы с количеством столбцов, которое соответствует количеству признаков.\n",
    "2. Проверка матрицы на обратимость.\n",
    "3. Умножение матрицы признаков на случайную обратимую матрицу.\n",
    "4. Применение модели на преобразованных признаках.\n",
    "5. Сравнить метрики R2 на исходных признаках и на признаках, умноженных на обратимую матрицу."
   ]
  },
  {
   "cell_type": "markdown",
   "metadata": {},
   "source": [
    "**Обоснование**\n",
    "\n",
    "Как мы выяснили выше, обратимая матрица не должна ухудшить качество модели."
   ]
  },
  {
   "cell_type": "markdown",
   "metadata": {},
   "source": [
    "## Проверка алгоритма"
   ]
  },
  {
   "cell_type": "code",
   "execution_count": 11,
   "metadata": {},
   "outputs": [],
   "source": [
    "#выделим из датасета признаки и целевой признак\n",
    "features= df.drop('Страховые выплаты', axis=1)\n",
    "target = df['Страховые выплаты']"
   ]
  },
  {
   "cell_type": "code",
   "execution_count": 12,
   "metadata": {},
   "outputs": [
    {
     "name": "stdout",
     "output_type": "stream",
     "text": [
      "(3635, 4)\n",
      "(1212, 4)\n"
     ]
    }
   ],
   "source": [
    "#разделим на обучающую и тестовую выборки\n",
    "(features_train, features_test, target_train, target_test) =\\\n",
    "train_test_split(features, target, test_size = 0.25, random_state=12345)\n",
    "print(features_train.shape)\n",
    "print(features_test.shape)"
   ]
  },
  {
   "cell_type": "code",
   "execution_count": 13,
   "metadata": {},
   "outputs": [],
   "source": [
    "def score(features, target):\n",
    "    model = LinearRegression()\n",
    "    model.fit(features, target)\n",
    "    predictions = model.predict(features)\n",
    "    r2 = r2_score(target, predictions)\n",
    "    return r2"
   ]
  },
  {
   "cell_type": "code",
   "execution_count": 14,
   "metadata": {},
   "outputs": [
    {
     "name": "stdout",
     "output_type": "stream",
     "text": [
      "R2_score стандартной модели: 0.43215820265809746\n"
     ]
    }
   ],
   "source": [
    "print('R2_score стандартной модели:', score(features_train, target_train))"
   ]
  },
  {
   "cell_type": "markdown",
   "metadata": {},
   "source": [
    "Создадим случайную матрицу размера 4х4, потому что у нас 4 признака и обратимая матрица должна быть квадратной."
   ]
  },
  {
   "cell_type": "code",
   "execution_count": 17,
   "metadata": {},
   "outputs": [],
   "source": [
    "def rnd_matrix(n):\n",
    "    random_matrix = np.random.normal(size=(4, 4))\n",
    "    try:\n",
    "        np.linalg.inv(random_matrix) # выполняется операция создания обратной матрицы\n",
    "    except LinAlgError: # если возникает ошибка, т.е. обратной матрицы не существует, выполняется еще одна попытка\n",
    "        rnd_matrix(n)\n",
    "    return random_matrix"
   ]
  },
  {
   "cell_type": "code",
   "execution_count": 18,
   "metadata": {},
   "outputs": [],
   "source": [
    "invert_matrix = rnd_matrix(10)"
   ]
  },
  {
   "cell_type": "markdown",
   "metadata": {},
   "source": [
    "Матрица является обратимой. Теперь умножим матрицу с признаками на нашу случайную матрицу $P$."
   ]
  },
  {
   "cell_type": "code",
   "execution_count": 19,
   "metadata": {},
   "outputs": [
    {
     "name": "stdout",
     "output_type": "stream",
     "text": [
      "(3635, 4)\n",
      "(1212, 4)\n"
     ]
    }
   ],
   "source": [
    "features_train_matrix = features_train @ invert_matrix\n",
    "features_test_matrix = features_test @ invert_matrix\n",
    "print(features_train_matrix.shape)\n",
    "print(features_test_matrix.shape)"
   ]
  },
  {
   "cell_type": "code",
   "execution_count": 20,
   "metadata": {},
   "outputs": [
    {
     "data": {
      "text/html": [
       "<div>\n",
       "<style scoped>\n",
       "    .dataframe tbody tr th:only-of-type {\n",
       "        vertical-align: middle;\n",
       "    }\n",
       "\n",
       "    .dataframe tbody tr th {\n",
       "        vertical-align: top;\n",
       "    }\n",
       "\n",
       "    .dataframe thead th {\n",
       "        text-align: right;\n",
       "    }\n",
       "</style>\n",
       "<table border=\"1\" class=\"dataframe\">\n",
       "  <thead>\n",
       "    <tr style=\"text-align: right;\">\n",
       "      <th></th>\n",
       "      <th>0</th>\n",
       "      <th>1</th>\n",
       "      <th>2</th>\n",
       "      <th>3</th>\n",
       "    </tr>\n",
       "  </thead>\n",
       "  <tbody>\n",
       "    <tr>\n",
       "      <th>687</th>\n",
       "      <td>-11571.768578</td>\n",
       "      <td>-65181.931521</td>\n",
       "      <td>47333.739449</td>\n",
       "      <td>-7784.717002</td>\n",
       "    </tr>\n",
       "    <tr>\n",
       "      <th>1372</th>\n",
       "      <td>-12329.572599</td>\n",
       "      <td>-69445.057848</td>\n",
       "      <td>50432.238462</td>\n",
       "      <td>-8295.994773</td>\n",
       "    </tr>\n",
       "    <tr>\n",
       "      <th>3156</th>\n",
       "      <td>-6604.854183</td>\n",
       "      <td>-37155.375270</td>\n",
       "      <td>26990.526536</td>\n",
       "      <td>-4446.209742</td>\n",
       "    </tr>\n",
       "    <tr>\n",
       "      <th>3921</th>\n",
       "      <td>-7282.698435</td>\n",
       "      <td>-40960.294214</td>\n",
       "      <td>29759.428680</td>\n",
       "      <td>-4905.313108</td>\n",
       "    </tr>\n",
       "    <tr>\n",
       "      <th>1355</th>\n",
       "      <td>-8626.927174</td>\n",
       "      <td>-48580.638826</td>\n",
       "      <td>35280.742207</td>\n",
       "      <td>-5804.425927</td>\n",
       "    </tr>\n",
       "  </tbody>\n",
       "</table>\n",
       "</div>"
      ],
      "text/plain": [
       "                 0             1             2            3\n",
       "687  -11571.768578 -65181.931521  47333.739449 -7784.717002\n",
       "1372 -12329.572599 -69445.057848  50432.238462 -8295.994773\n",
       "3156  -6604.854183 -37155.375270  26990.526536 -4446.209742\n",
       "3921  -7282.698435 -40960.294214  29759.428680 -4905.313108\n",
       "1355  -8626.927174 -48580.638826  35280.742207 -5804.425927"
      ]
     },
     "metadata": {},
     "output_type": "display_data"
    },
    {
     "data": {
      "text/html": [
       "<div>\n",
       "<style scoped>\n",
       "    .dataframe tbody tr th:only-of-type {\n",
       "        vertical-align: middle;\n",
       "    }\n",
       "\n",
       "    .dataframe tbody tr th {\n",
       "        vertical-align: top;\n",
       "    }\n",
       "\n",
       "    .dataframe thead th {\n",
       "        text-align: right;\n",
       "    }\n",
       "</style>\n",
       "<table border=\"1\" class=\"dataframe\">\n",
       "  <thead>\n",
       "    <tr style=\"text-align: right;\">\n",
       "      <th></th>\n",
       "      <th>0</th>\n",
       "      <th>1</th>\n",
       "      <th>2</th>\n",
       "      <th>3</th>\n",
       "    </tr>\n",
       "  </thead>\n",
       "  <tbody>\n",
       "    <tr>\n",
       "      <th>1931</th>\n",
       "      <td>-8981.327088</td>\n",
       "      <td>-50556.926765</td>\n",
       "      <td>36723.187985</td>\n",
       "      <td>-6045.387801</td>\n",
       "    </tr>\n",
       "    <tr>\n",
       "      <th>540</th>\n",
       "      <td>-10515.452896</td>\n",
       "      <td>-59241.615355</td>\n",
       "      <td>43021.773785</td>\n",
       "      <td>-7074.871630</td>\n",
       "    </tr>\n",
       "    <tr>\n",
       "      <th>1502</th>\n",
       "      <td>-12729.600220</td>\n",
       "      <td>-71731.356579</td>\n",
       "      <td>52088.242012</td>\n",
       "      <td>-8563.342167</td>\n",
       "    </tr>\n",
       "    <tr>\n",
       "      <th>731</th>\n",
       "      <td>-9617.341032</td>\n",
       "      <td>-54218.539115</td>\n",
       "      <td>39369.130630</td>\n",
       "      <td>-6469.697980</td>\n",
       "    </tr>\n",
       "    <tr>\n",
       "      <th>2134</th>\n",
       "      <td>-8147.157972</td>\n",
       "      <td>-45835.470381</td>\n",
       "      <td>33295.217613</td>\n",
       "      <td>-5484.213545</td>\n",
       "    </tr>\n",
       "  </tbody>\n",
       "</table>\n",
       "</div>"
      ],
      "text/plain": [
       "                 0             1             2            3\n",
       "1931  -8981.327088 -50556.926765  36723.187985 -6045.387801\n",
       "540  -10515.452896 -59241.615355  43021.773785 -7074.871630\n",
       "1502 -12729.600220 -71731.356579  52088.242012 -8563.342167\n",
       "731   -9617.341032 -54218.539115  39369.130630 -6469.697980\n",
       "2134  -8147.157972 -45835.470381  33295.217613 -5484.213545"
      ]
     },
     "metadata": {},
     "output_type": "display_data"
    }
   ],
   "source": [
    "#посмотрим, как выглядят преобразовынные матрицы\n",
    "display(features_train_matrix.sample(5))\n",
    "display(features_test_matrix.sample(5))"
   ]
  },
  {
   "cell_type": "markdown",
   "metadata": {},
   "source": [
    "Размеры выборок совпадают с изначальными. Проверим качество работы модели на новых признаках."
   ]
  },
  {
   "cell_type": "code",
   "execution_count": 21,
   "metadata": {},
   "outputs": [
    {
     "name": "stdout",
     "output_type": "stream",
     "text": [
      "R2_score на преобразованной обучающей выборке: 0.43215820265810256\n"
     ]
    }
   ],
   "source": [
    "#проверим r2 на преобразованной обучающей выборке\n",
    "print('R2_score на преобразованной обучающей выборке:', score(features_train_matrix, target_train))"
   ]
  },
  {
   "cell_type": "code",
   "execution_count": 22,
   "metadata": {},
   "outputs": [
    {
     "name": "stdout",
     "output_type": "stream",
     "text": [
      "R2_score на тестовой выборке: 0.425552801076332\n"
     ]
    }
   ],
   "source": [
    "#и проверим совпадает ли r2 на тестовых выборках\n",
    "print('R2_score на тестовой выборке:', score(features_test, target_test))"
   ]
  },
  {
   "cell_type": "code",
   "execution_count": 23,
   "metadata": {
    "scrolled": true
   },
   "outputs": [
    {
     "name": "stdout",
     "output_type": "stream",
     "text": [
      "R2_score на преобразованной тестовой выборке: 0.42555280107633287\n"
     ]
    }
   ],
   "source": [
    "print('R2_score на преобразованной тестовой выборке:', score(features_test_matrix, target_test))"
   ]
  },
  {
   "cell_type": "markdown",
   "metadata": {},
   "source": [
    "Как видим, метрика R2 не изменилась и совпадает на обычной и преобразованной выборках."
   ]
  },
  {
   "cell_type": "markdown",
   "metadata": {},
   "source": [
    "### Вывод по разделу\n",
    "Качество линейной регрессии не изменилось и метрика R2 совпадает на стандартных и преобразованных данных, а это означает, что нам удалось защитить данные клиентов и при этом не ухудшить качество модели."
   ]
  },
  {
   "cell_type": "markdown",
   "metadata": {},
   "source": [
    "## Вывод:\n",
    "1. Знакомство с данными:\n",
    "    - В датасете 5000 строк и 5 столбцов.\n",
    "    - Весь датасет был переведен в формат `int32`.\n",
    "    - В датасете были обнаружены и впоследствии удалены 153 дубликата.\n",
    "    - Пропусков в датасете нет.\n",
    "2. При изучении было выяснено, что в случае умножения признаков линейной регрессии на обратимую матрицу качество модели не меняется.\n",
    "3. Для защиты информации умножим матрицу признаков на обратимую матрицу $P$, которая генерируется случайным образом. Алгоритм преобразования:\n",
    "    1. Создание случайной квадратной обратимой матрицы с количеством столбцов, которое соответствует количеству признаков.\n",
    "    2. Проверка матрицы на обратимость.\n",
    "    3. Умножение матрицы признаков на случайную обратимую матрицу.\n",
    "    4. Применение модели на преобразованных признаках.\n",
    "    5. Сравнить метрики R2 на исходных признаках и на признаках, умноженных на обратимую матрицу.\n",
    "4. После преобразования данных путем умножения признаков на матрицу качество линейной регрессии не изменилось и метрика R2 совпадает на стандартных и преобразованных данных, а это означает, что нам удалось защитить данные клиентов и при этом не ухудшить качество модели."
   ]
  }
 ],
 "metadata": {
  "ExecuteTimeLog": [
   {
    "duration": 1750,
    "start_time": "2022-05-04T13:30:41.321Z"
   },
   {
    "duration": 148,
    "start_time": "2022-05-08T12:24:48.283Z"
   },
   {
    "duration": 71,
    "start_time": "2022-05-08T12:25:07.645Z"
   },
   {
    "duration": 1526,
    "start_time": "2022-05-08T12:25:11.242Z"
   },
   {
    "duration": 12,
    "start_time": "2022-05-08T12:25:13.440Z"
   },
   {
    "duration": 11,
    "start_time": "2022-05-08T12:25:42.910Z"
   },
   {
    "duration": 19,
    "start_time": "2022-05-08T12:26:00.222Z"
   },
   {
    "duration": 10,
    "start_time": "2022-05-08T12:26:06.404Z"
   },
   {
    "duration": 15,
    "start_time": "2022-05-08T12:26:34.600Z"
   },
   {
    "duration": 61,
    "start_time": "2022-05-08T12:30:47.319Z"
   },
   {
    "duration": 9,
    "start_time": "2022-05-08T12:32:14.512Z"
   },
   {
    "duration": 4,
    "start_time": "2022-05-08T12:32:22.108Z"
   },
   {
    "duration": 16,
    "start_time": "2022-05-08T12:32:31.428Z"
   },
   {
    "duration": 7,
    "start_time": "2022-05-08T12:33:27.753Z"
   },
   {
    "duration": 8,
    "start_time": "2022-05-08T12:35:03.382Z"
   },
   {
    "duration": 22,
    "start_time": "2022-05-08T12:36:31.884Z"
   },
   {
    "duration": 11,
    "start_time": "2022-05-08T12:39:14.817Z"
   },
   {
    "duration": 6,
    "start_time": "2022-05-08T12:39:24.776Z"
   },
   {
    "duration": 17,
    "start_time": "2022-05-08T12:44:50.220Z"
   },
   {
    "duration": 142,
    "start_time": "2022-05-08T13:09:49.176Z"
   },
   {
    "duration": 161,
    "start_time": "2022-05-08T13:10:03.706Z"
   },
   {
    "duration": 5,
    "start_time": "2022-05-08T14:47:54.332Z"
   },
   {
    "duration": 1241,
    "start_time": "2022-05-08T14:48:12.181Z"
   },
   {
    "duration": 13,
    "start_time": "2022-05-08T14:48:13.424Z"
   },
   {
    "duration": 19,
    "start_time": "2022-05-08T14:48:13.439Z"
   },
   {
    "duration": 12,
    "start_time": "2022-05-08T14:48:13.460Z"
   },
   {
    "duration": 13,
    "start_time": "2022-05-08T14:48:13.492Z"
   },
   {
    "duration": 9,
    "start_time": "2022-05-08T14:48:13.507Z"
   },
   {
    "duration": 14,
    "start_time": "2022-05-08T14:48:13.518Z"
   },
   {
    "duration": 6,
    "start_time": "2022-05-08T14:48:13.535Z"
   },
   {
    "duration": 5,
    "start_time": "2022-05-08T14:48:13.543Z"
   },
   {
    "duration": 205,
    "start_time": "2022-05-08T14:50:10.211Z"
   },
   {
    "duration": 146,
    "start_time": "2022-05-08T14:50:18.971Z"
   },
   {
    "duration": 142,
    "start_time": "2022-05-08T14:50:23.408Z"
   },
   {
    "duration": 5,
    "start_time": "2022-05-08T14:50:34.589Z"
   },
   {
    "duration": 3,
    "start_time": "2022-05-08T14:54:34.415Z"
   },
   {
    "duration": 135,
    "start_time": "2022-05-08T14:56:07.473Z"
   },
   {
    "duration": 123,
    "start_time": "2022-05-08T14:56:14.164Z"
   },
   {
    "duration": 9,
    "start_time": "2022-05-08T14:57:20.550Z"
   },
   {
    "duration": 3,
    "start_time": "2022-05-08T14:57:24.331Z"
   },
   {
    "duration": 9,
    "start_time": "2022-05-08T14:57:25.067Z"
   },
   {
    "duration": 3,
    "start_time": "2022-05-08T14:57:56.624Z"
   },
   {
    "duration": 150,
    "start_time": "2022-05-08T14:57:57.258Z"
   },
   {
    "duration": 121,
    "start_time": "2022-05-08T14:58:27.083Z"
   },
   {
    "duration": 4,
    "start_time": "2022-05-08T14:58:43.172Z"
   },
   {
    "duration": 16,
    "start_time": "2022-05-08T14:58:43.970Z"
   },
   {
    "duration": 4,
    "start_time": "2022-05-08T14:59:16.645Z"
   },
   {
    "duration": 16,
    "start_time": "2022-05-08T14:59:17.110Z"
   },
   {
    "duration": 4,
    "start_time": "2022-05-08T15:03:21.047Z"
   },
   {
    "duration": 88,
    "start_time": "2022-05-08T15:03:22.121Z"
   },
   {
    "duration": 5,
    "start_time": "2022-05-08T15:04:52.410Z"
   },
   {
    "duration": 5,
    "start_time": "2022-05-08T15:07:28.740Z"
   },
   {
    "duration": 4,
    "start_time": "2022-05-08T15:12:53.192Z"
   },
   {
    "duration": 11,
    "start_time": "2022-05-08T15:13:54.570Z"
   },
   {
    "duration": 5,
    "start_time": "2022-05-08T15:13:59.141Z"
   },
   {
    "duration": 7,
    "start_time": "2022-05-08T15:15:04.879Z"
   },
   {
    "duration": 8,
    "start_time": "2022-05-08T15:16:21.314Z"
   },
   {
    "duration": 8,
    "start_time": "2022-05-08T15:16:35.970Z"
   },
   {
    "duration": 5,
    "start_time": "2022-05-08T15:18:02.679Z"
   },
   {
    "duration": 9,
    "start_time": "2022-05-08T15:18:05.370Z"
   },
   {
    "duration": 8,
    "start_time": "2022-05-08T15:18:06.721Z"
   },
   {
    "duration": 19,
    "start_time": "2022-05-08T15:20:50.820Z"
   },
   {
    "duration": 18,
    "start_time": "2022-05-08T15:21:03.600Z"
   },
   {
    "duration": 1252,
    "start_time": "2022-05-08T15:45:11.188Z"
   },
   {
    "duration": 18,
    "start_time": "2022-05-08T15:45:12.442Z"
   },
   {
    "duration": 17,
    "start_time": "2022-05-08T15:45:12.467Z"
   },
   {
    "duration": 12,
    "start_time": "2022-05-08T15:45:12.493Z"
   },
   {
    "duration": 16,
    "start_time": "2022-05-08T15:45:12.507Z"
   },
   {
    "duration": 9,
    "start_time": "2022-05-08T15:45:12.525Z"
   },
   {
    "duration": 12,
    "start_time": "2022-05-08T15:45:12.536Z"
   },
   {
    "duration": 6,
    "start_time": "2022-05-08T15:45:12.550Z"
   },
   {
    "duration": 4,
    "start_time": "2022-05-08T15:45:12.593Z"
   },
   {
    "duration": 8,
    "start_time": "2022-05-08T15:45:12.599Z"
   },
   {
    "duration": 6,
    "start_time": "2022-05-08T15:45:12.609Z"
   },
   {
    "duration": 79,
    "start_time": "2022-05-08T15:45:12.617Z"
   },
   {
    "duration": 97,
    "start_time": "2022-05-08T15:45:12.700Z"
   },
   {
    "duration": 9,
    "start_time": "2022-05-08T15:45:12.799Z"
   },
   {
    "duration": 83,
    "start_time": "2022-05-08T15:45:12.811Z"
   },
   {
    "duration": 113,
    "start_time": "2022-05-08T15:45:12.897Z"
   },
   {
    "duration": 186,
    "start_time": "2022-05-08T15:45:13.012Z"
   },
   {
    "duration": 33,
    "start_time": "2022-05-08T15:45:13.200Z"
   },
   {
    "duration": 1286,
    "start_time": "2022-05-08T15:51:10.251Z"
   },
   {
    "duration": 17,
    "start_time": "2022-05-08T15:51:11.539Z"
   },
   {
    "duration": 16,
    "start_time": "2022-05-08T15:51:11.557Z"
   },
   {
    "duration": 11,
    "start_time": "2022-05-08T15:51:11.575Z"
   },
   {
    "duration": 24,
    "start_time": "2022-05-08T15:51:11.588Z"
   },
   {
    "duration": 20,
    "start_time": "2022-05-08T15:51:11.616Z"
   },
   {
    "duration": 13,
    "start_time": "2022-05-08T15:51:11.639Z"
   },
   {
    "duration": 6,
    "start_time": "2022-05-08T15:51:11.654Z"
   },
   {
    "duration": 4,
    "start_time": "2022-05-08T15:51:11.663Z"
   },
   {
    "duration": 10,
    "start_time": "2022-05-08T15:51:11.669Z"
   },
   {
    "duration": 13,
    "start_time": "2022-05-08T15:51:11.699Z"
   },
   {
    "duration": 16,
    "start_time": "2022-05-08T15:51:11.717Z"
   },
   {
    "duration": 172,
    "start_time": "2022-05-08T15:51:11.735Z"
   },
   {
    "duration": 20,
    "start_time": "2022-05-08T15:51:11.910Z"
   },
   {
    "duration": 62,
    "start_time": "2022-05-08T15:51:11.932Z"
   },
   {
    "duration": 99,
    "start_time": "2022-05-08T15:51:11.996Z"
   },
   {
    "duration": 114,
    "start_time": "2022-05-08T15:51:12.102Z"
   },
   {
    "duration": 11,
    "start_time": "2022-05-08T15:51:12.218Z"
   },
   {
    "duration": 1322,
    "start_time": "2022-05-08T15:51:46.073Z"
   },
   {
    "duration": 20,
    "start_time": "2022-05-08T15:51:47.402Z"
   },
   {
    "duration": 16,
    "start_time": "2022-05-08T15:51:47.429Z"
   },
   {
    "duration": 11,
    "start_time": "2022-05-08T15:51:47.447Z"
   },
   {
    "duration": 12,
    "start_time": "2022-05-08T15:51:47.459Z"
   },
   {
    "duration": 32,
    "start_time": "2022-05-08T15:51:47.473Z"
   },
   {
    "duration": 28,
    "start_time": "2022-05-08T15:51:47.509Z"
   },
   {
    "duration": 7,
    "start_time": "2022-05-08T15:51:47.539Z"
   },
   {
    "duration": 5,
    "start_time": "2022-05-08T15:51:47.549Z"
   },
   {
    "duration": 7,
    "start_time": "2022-05-08T15:51:47.556Z"
   },
   {
    "duration": 3,
    "start_time": "2022-05-08T15:51:47.566Z"
   },
   {
    "duration": 46,
    "start_time": "2022-05-08T15:51:47.571Z"
   },
   {
    "duration": 71,
    "start_time": "2022-05-08T15:51:47.628Z"
   },
   {
    "duration": 114,
    "start_time": "2022-05-08T15:51:47.701Z"
   },
   {
    "duration": 85,
    "start_time": "2022-05-08T15:51:47.817Z"
   },
   {
    "duration": 115,
    "start_time": "2022-05-08T15:51:47.904Z"
   },
   {
    "duration": 88,
    "start_time": "2022-05-08T15:51:48.024Z"
   },
   {
    "duration": 30,
    "start_time": "2022-05-08T15:51:48.115Z"
   },
   {
    "duration": 1140,
    "start_time": "2022-05-08T17:26:28.507Z"
   },
   {
    "duration": 12,
    "start_time": "2022-05-08T17:26:29.649Z"
   },
   {
    "duration": 15,
    "start_time": "2022-05-08T17:26:29.663Z"
   },
   {
    "duration": 10,
    "start_time": "2022-05-08T17:26:29.681Z"
   },
   {
    "duration": 24,
    "start_time": "2022-05-08T17:26:29.692Z"
   },
   {
    "duration": 8,
    "start_time": "2022-05-08T17:26:29.718Z"
   },
   {
    "duration": 12,
    "start_time": "2022-05-08T17:26:29.727Z"
   },
   {
    "duration": 6,
    "start_time": "2022-05-08T17:26:29.741Z"
   },
   {
    "duration": 5,
    "start_time": "2022-05-08T17:26:29.748Z"
   },
   {
    "duration": 5,
    "start_time": "2022-05-08T17:26:29.756Z"
   },
   {
    "duration": 45,
    "start_time": "2022-05-08T17:26:29.763Z"
   },
   {
    "duration": 17,
    "start_time": "2022-05-08T17:26:29.810Z"
   },
   {
    "duration": 99,
    "start_time": "2022-05-08T17:26:29.909Z"
   },
   {
    "duration": 5,
    "start_time": "2022-05-08T17:26:30.010Z"
   },
   {
    "duration": 8,
    "start_time": "2022-05-08T17:26:30.017Z"
   },
   {
    "duration": 92,
    "start_time": "2022-05-08T17:26:30.027Z"
   },
   {
    "duration": 99,
    "start_time": "2022-05-08T17:26:30.209Z"
   },
   {
    "duration": 8,
    "start_time": "2022-05-08T17:26:30.309Z"
   },
   {
    "duration": 47,
    "start_time": "2022-05-10T07:27:45.288Z"
   },
   {
    "duration": 1069,
    "start_time": "2022-05-10T07:27:57.243Z"
   },
   {
    "duration": 12,
    "start_time": "2022-05-10T07:27:58.314Z"
   },
   {
    "duration": 17,
    "start_time": "2022-05-10T07:27:59.039Z"
   },
   {
    "duration": 11,
    "start_time": "2022-05-10T07:28:02.652Z"
   },
   {
    "duration": 60,
    "start_time": "2022-05-10T07:31:59.901Z"
   },
   {
    "duration": 12,
    "start_time": "2022-05-10T07:32:04.752Z"
   },
   {
    "duration": 17,
    "start_time": "2022-05-10T07:32:15.948Z"
   },
   {
    "duration": 9,
    "start_time": "2022-05-10T07:32:23.226Z"
   },
   {
    "duration": 9,
    "start_time": "2022-05-10T07:32:32.698Z"
   },
   {
    "duration": 9,
    "start_time": "2022-05-10T07:32:38.999Z"
   },
   {
    "duration": 5,
    "start_time": "2022-05-10T07:35:25.068Z"
   },
   {
    "duration": 5,
    "start_time": "2022-05-10T07:35:28.561Z"
   },
   {
    "duration": 7,
    "start_time": "2022-05-10T07:37:24.694Z"
   },
   {
    "duration": 9,
    "start_time": "2022-05-10T07:40:30.487Z"
   },
   {
    "duration": 1094,
    "start_time": "2022-05-10T07:41:32.499Z"
   },
   {
    "duration": 11,
    "start_time": "2022-05-10T07:41:33.595Z"
   },
   {
    "duration": 15,
    "start_time": "2022-05-10T07:41:33.608Z"
   },
   {
    "duration": 11,
    "start_time": "2022-05-10T07:41:33.625Z"
   },
   {
    "duration": 12,
    "start_time": "2022-05-10T07:41:33.637Z"
   },
   {
    "duration": 24,
    "start_time": "2022-05-10T07:41:33.650Z"
   },
   {
    "duration": 10,
    "start_time": "2022-05-10T07:41:33.676Z"
   },
   {
    "duration": 5,
    "start_time": "2022-05-10T07:41:33.687Z"
   },
   {
    "duration": 10,
    "start_time": "2022-05-10T07:41:33.694Z"
   },
   {
    "duration": 6,
    "start_time": "2022-05-10T07:41:33.706Z"
   },
   {
    "duration": 7,
    "start_time": "2022-05-10T07:41:33.714Z"
   },
   {
    "duration": 54,
    "start_time": "2022-05-10T07:41:33.723Z"
   },
   {
    "duration": 101,
    "start_time": "2022-05-10T07:41:33.779Z"
   },
   {
    "duration": 7,
    "start_time": "2022-05-10T07:41:33.882Z"
   },
   {
    "duration": 9,
    "start_time": "2022-05-10T07:41:33.891Z"
   },
   {
    "duration": 173,
    "start_time": "2022-05-10T07:41:33.901Z"
   },
   {
    "duration": 9,
    "start_time": "2022-05-10T07:41:34.076Z"
   },
   {
    "duration": 187,
    "start_time": "2022-05-10T07:41:34.087Z"
   },
   {
    "duration": 9,
    "start_time": "2022-05-10T07:41:34.276Z"
   },
   {
    "duration": 13,
    "start_time": "2022-05-10T07:42:04.198Z"
   },
   {
    "duration": 3,
    "start_time": "2022-05-10T07:43:35.847Z"
   },
   {
    "duration": 3,
    "start_time": "2022-05-10T07:44:01.344Z"
   },
   {
    "duration": 6,
    "start_time": "2022-05-10T07:44:20.330Z"
   },
   {
    "duration": 1209,
    "start_time": "2022-05-10T07:44:30.348Z"
   },
   {
    "duration": 13,
    "start_time": "2022-05-10T07:44:31.559Z"
   },
   {
    "duration": 18,
    "start_time": "2022-05-10T07:44:31.574Z"
   },
   {
    "duration": 14,
    "start_time": "2022-05-10T07:44:31.595Z"
   },
   {
    "duration": 17,
    "start_time": "2022-05-10T07:44:31.611Z"
   },
   {
    "duration": 13,
    "start_time": "2022-05-10T07:44:31.629Z"
   },
   {
    "duration": 36,
    "start_time": "2022-05-10T07:44:31.644Z"
   },
   {
    "duration": 7,
    "start_time": "2022-05-10T07:44:31.682Z"
   },
   {
    "duration": 16,
    "start_time": "2022-05-10T07:44:31.691Z"
   },
   {
    "duration": 30,
    "start_time": "2022-05-10T07:44:31.711Z"
   },
   {
    "duration": 14,
    "start_time": "2022-05-10T07:44:31.743Z"
   },
   {
    "duration": 27,
    "start_time": "2022-05-10T07:44:31.759Z"
   },
   {
    "duration": 189,
    "start_time": "2022-05-10T07:44:31.788Z"
   },
   {
    "duration": 7,
    "start_time": "2022-05-10T07:44:31.979Z"
   },
   {
    "duration": 12,
    "start_time": "2022-05-10T07:44:31.988Z"
   },
   {
    "duration": 16,
    "start_time": "2022-05-10T07:44:32.002Z"
   },
   {
    "duration": 255,
    "start_time": "2022-05-10T07:44:32.020Z"
   },
   {
    "duration": 0,
    "start_time": "2022-05-10T07:44:32.277Z"
   },
   {
    "duration": 0,
    "start_time": "2022-05-10T07:44:32.279Z"
   },
   {
    "duration": 0,
    "start_time": "2022-05-10T07:44:32.280Z"
   },
   {
    "duration": 0,
    "start_time": "2022-05-10T07:44:32.281Z"
   },
   {
    "duration": 1108,
    "start_time": "2022-05-10T07:44:58.961Z"
   },
   {
    "duration": 13,
    "start_time": "2022-05-10T07:45:00.071Z"
   },
   {
    "duration": 15,
    "start_time": "2022-05-10T07:45:00.086Z"
   },
   {
    "duration": 18,
    "start_time": "2022-05-10T07:45:00.103Z"
   },
   {
    "duration": 10,
    "start_time": "2022-05-10T07:45:00.123Z"
   },
   {
    "duration": 7,
    "start_time": "2022-05-10T07:45:00.135Z"
   },
   {
    "duration": 17,
    "start_time": "2022-05-10T07:45:00.144Z"
   },
   {
    "duration": 11,
    "start_time": "2022-05-10T07:45:00.163Z"
   },
   {
    "duration": 6,
    "start_time": "2022-05-10T07:45:00.175Z"
   },
   {
    "duration": 9,
    "start_time": "2022-05-10T07:45:00.183Z"
   },
   {
    "duration": 8,
    "start_time": "2022-05-10T07:45:00.193Z"
   },
   {
    "duration": 76,
    "start_time": "2022-05-10T07:45:00.202Z"
   },
   {
    "duration": 100,
    "start_time": "2022-05-10T07:45:00.281Z"
   },
   {
    "duration": 20,
    "start_time": "2022-05-10T07:45:00.384Z"
   },
   {
    "duration": 16,
    "start_time": "2022-05-10T07:45:00.406Z"
   },
   {
    "duration": 26,
    "start_time": "2022-05-10T07:45:00.424Z"
   },
   {
    "duration": 23,
    "start_time": "2022-05-10T07:45:00.452Z"
   },
   {
    "duration": 111,
    "start_time": "2022-05-10T07:45:00.477Z"
   },
   {
    "duration": 84,
    "start_time": "2022-05-10T07:45:00.590Z"
   },
   {
    "duration": 105,
    "start_time": "2022-05-10T07:45:00.676Z"
   },
   {
    "duration": 20,
    "start_time": "2022-05-10T07:45:00.783Z"
   },
   {
    "duration": 1086,
    "start_time": "2022-05-10T07:45:45.440Z"
   },
   {
    "duration": 13,
    "start_time": "2022-05-10T07:45:46.528Z"
   },
   {
    "duration": 24,
    "start_time": "2022-05-10T07:45:46.543Z"
   },
   {
    "duration": 19,
    "start_time": "2022-05-10T07:45:46.569Z"
   },
   {
    "duration": 27,
    "start_time": "2022-05-10T07:45:46.592Z"
   },
   {
    "duration": 8,
    "start_time": "2022-05-10T07:45:46.621Z"
   },
   {
    "duration": 14,
    "start_time": "2022-05-10T07:45:46.630Z"
   },
   {
    "duration": 9,
    "start_time": "2022-05-10T07:45:46.646Z"
   },
   {
    "duration": 11,
    "start_time": "2022-05-10T07:45:46.657Z"
   },
   {
    "duration": 28,
    "start_time": "2022-05-10T07:45:46.671Z"
   },
   {
    "duration": 11,
    "start_time": "2022-05-10T07:45:46.701Z"
   },
   {
    "duration": 31,
    "start_time": "2022-05-10T07:45:46.714Z"
   },
   {
    "duration": 127,
    "start_time": "2022-05-10T07:45:46.747Z"
   },
   {
    "duration": 9,
    "start_time": "2022-05-10T07:45:46.876Z"
   },
   {
    "duration": 8,
    "start_time": "2022-05-10T07:45:46.887Z"
   },
   {
    "duration": 8,
    "start_time": "2022-05-10T07:45:46.896Z"
   },
   {
    "duration": 6,
    "start_time": "2022-05-10T07:45:46.906Z"
   },
   {
    "duration": 72,
    "start_time": "2022-05-10T07:45:46.914Z"
   },
   {
    "duration": 93,
    "start_time": "2022-05-10T07:45:46.988Z"
   },
   {
    "duration": 197,
    "start_time": "2022-05-10T07:45:47.083Z"
   },
   {
    "duration": 10,
    "start_time": "2022-05-10T07:45:47.282Z"
   },
   {
    "duration": 1130,
    "start_time": "2022-05-10T07:57:03.344Z"
   },
   {
    "duration": 13,
    "start_time": "2022-05-10T07:57:04.476Z"
   },
   {
    "duration": 18,
    "start_time": "2022-05-10T07:57:04.491Z"
   },
   {
    "duration": 12,
    "start_time": "2022-05-10T07:57:04.511Z"
   },
   {
    "duration": 11,
    "start_time": "2022-05-10T07:57:04.524Z"
   },
   {
    "duration": 7,
    "start_time": "2022-05-10T07:57:04.537Z"
   },
   {
    "duration": 37,
    "start_time": "2022-05-10T07:57:04.546Z"
   },
   {
    "duration": 5,
    "start_time": "2022-05-10T07:57:04.585Z"
   },
   {
    "duration": 5,
    "start_time": "2022-05-10T07:57:04.592Z"
   },
   {
    "duration": 6,
    "start_time": "2022-05-10T07:57:04.599Z"
   },
   {
    "duration": 3,
    "start_time": "2022-05-10T07:57:04.607Z"
   },
   {
    "duration": 64,
    "start_time": "2022-05-10T07:57:04.612Z"
   },
   {
    "duration": 96,
    "start_time": "2022-05-10T07:57:04.678Z"
   },
   {
    "duration": 7,
    "start_time": "2022-05-10T07:57:04.776Z"
   },
   {
    "duration": 6,
    "start_time": "2022-05-10T07:57:04.784Z"
   },
   {
    "duration": 10,
    "start_time": "2022-05-10T07:57:04.791Z"
   },
   {
    "duration": 8,
    "start_time": "2022-05-10T07:57:04.803Z"
   },
   {
    "duration": 99,
    "start_time": "2022-05-10T07:57:04.875Z"
   },
   {
    "duration": 13,
    "start_time": "2022-05-10T07:57:04.976Z"
   },
   {
    "duration": 182,
    "start_time": "2022-05-10T07:57:04.991Z"
   },
   {
    "duration": 11,
    "start_time": "2022-05-10T07:57:05.175Z"
   },
   {
    "duration": 58,
    "start_time": "2022-05-11T15:44:28.486Z"
   },
   {
    "duration": 1473,
    "start_time": "2022-05-11T15:45:07.654Z"
   },
   {
    "duration": 35,
    "start_time": "2022-05-11T15:45:10.620Z"
   },
   {
    "duration": 36,
    "start_time": "2022-05-11T15:45:17.501Z"
   },
   {
    "duration": 8,
    "start_time": "2022-05-11T15:55:22.986Z"
   },
   {
    "duration": 6,
    "start_time": "2022-05-11T15:56:18.490Z"
   },
   {
    "duration": 1222,
    "start_time": "2022-05-11T15:59:57.171Z"
   },
   {
    "duration": 18,
    "start_time": "2022-05-11T15:59:58.395Z"
   },
   {
    "duration": 20,
    "start_time": "2022-05-11T15:59:58.415Z"
   },
   {
    "duration": 17,
    "start_time": "2022-05-11T15:59:58.437Z"
   },
   {
    "duration": 12,
    "start_time": "2022-05-11T15:59:58.457Z"
   },
   {
    "duration": 6,
    "start_time": "2022-05-11T15:59:58.471Z"
   },
   {
    "duration": 12,
    "start_time": "2022-05-11T15:59:58.479Z"
   },
   {
    "duration": 6,
    "start_time": "2022-05-11T15:59:58.493Z"
   },
   {
    "duration": 65,
    "start_time": "2022-05-11T15:59:58.500Z"
   },
   {
    "duration": 6,
    "start_time": "2022-05-11T15:59:58.566Z"
   },
   {
    "duration": 12,
    "start_time": "2022-05-11T15:59:58.573Z"
   },
   {
    "duration": 8,
    "start_time": "2022-05-11T15:59:58.587Z"
   },
   {
    "duration": 7,
    "start_time": "2022-05-11T15:59:58.597Z"
   },
   {
    "duration": 126,
    "start_time": "2022-05-11T15:59:58.607Z"
   },
   {
    "duration": 16,
    "start_time": "2022-05-11T15:59:58.735Z"
   },
   {
    "duration": 8,
    "start_time": "2022-05-11T15:59:58.753Z"
   },
   {
    "duration": 7,
    "start_time": "2022-05-11T15:59:58.764Z"
   },
   {
    "duration": 8,
    "start_time": "2022-05-11T15:59:58.773Z"
   },
   {
    "duration": 74,
    "start_time": "2022-05-11T15:59:58.783Z"
   },
   {
    "duration": 91,
    "start_time": "2022-05-11T15:59:58.859Z"
   },
   {
    "duration": 9,
    "start_time": "2022-05-11T15:59:58.952Z"
   },
   {
    "duration": 178,
    "start_time": "2022-05-11T15:59:58.963Z"
   },
   {
    "duration": 16,
    "start_time": "2022-05-11T15:59:59.145Z"
   }
  ],
  "kernelspec": {
   "display_name": "Python 3 (ipykernel)",
   "language": "python",
   "name": "python3"
  },
  "language_info": {
   "codemirror_mode": {
    "name": "ipython",
    "version": 3
   },
   "file_extension": ".py",
   "mimetype": "text/x-python",
   "name": "python",
   "nbconvert_exporter": "python",
   "pygments_lexer": "ipython3",
   "version": "3.9.10"
  },
  "toc": {
   "base_numbering": 1,
   "nav_menu": {},
   "number_sections": true,
   "sideBar": true,
   "skip_h1_title": true,
   "title_cell": "Содержание",
   "title_sidebar": "Contents",
   "toc_cell": true,
   "toc_position": {
    "height": "calc(100% - 180px)",
    "left": "10px",
    "top": "150px",
    "width": "165px"
   },
   "toc_section_display": true,
   "toc_window_display": true
  }
 },
 "nbformat": 4,
 "nbformat_minor": 2
}
