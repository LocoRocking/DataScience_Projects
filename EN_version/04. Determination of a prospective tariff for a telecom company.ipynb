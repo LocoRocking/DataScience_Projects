{
 "cells": [
  {
   "cell_type": "markdown",
   "metadata": {},
   "source": [
    "## Introduction"
   ]
  },
  {
   "cell_type": "markdown",
   "metadata": {},
   "source": [
    "### Project Description\n",
    "\n",
    "You are an analyst at Megaline, a federal mobile operator. Clients are offered two tariff plans: \"Smart\" and \"Ultra\". To adjust the advertising budget, the commercial department wants to understand which tariff brings in more money. You have to make a preliminary analysis of tariffs on a small sample of customers. At your disposal are the data of 500 Megaline users: who they are, where they are from, what tariff they use, how many calls and messages each sent in 2018. It is necessary to analyze the behavior of customers and draw a conclusion - which tariff is better.\n",
    "\n",
    "<b>Description of tariffs:</b>\n",
    "\n",
    "- <b>Tariff \"Smart\"</b><br>\n",
    "    Monthly fee: 550 rubles<br>\n",
    "    Includes 500 minutes of calls, 50 messages and 15 GB of internet traffic<br>\n",
    "    The cost of services above the tariff package:<br>\n",
    "    - minute of conversation: 3 rubles<br>\n",
    "    - message: 3 rubles<br>\n",
    "    - 1 GB of Internet traffic: 200 rubles<br>\n",
    "<br>\n",
    "- <b>Tariff \"Ultra\"</b><br>\n",
    "    Monthly fee: 1950 rubles<br>\n",
    "    Includes 3,000 minutes of calls, 1,000 messages and 30 GB of internet traffic<br>\n",
    "    The cost of services above the tariff package:<br>\n",
    "    - minute of conversation: 1 ruble<br>\n",
    "    - message: 1 ruble<br>\n",
    "    - 1 GB of Internet traffic: 150 rubles<br>"
   ]
  },
  {
   "cell_type": "markdown",
   "metadata": {},
   "source": [
    "### Data Description\n",
    "- Table <font size = 4><b>`users`</b></font> (user information):\n",
    "    - `user_id` - unique user ID\n",
    "    - `first_name` — username\n",
    "    - `last_name` — user last name\n",
    "    - `age` — user age (years)\n",
    "    - `reg_date` — tariff connection date (day, month, year)\n",
    "    - `churn_date` — date when the tariff was terminated (if the value is omitted, then the tariff was still valid at the time of data upload)\n",
    "    - `city` — user's city of residence\n",
    "    - `tarif` — tariff plan name\n",
    "<br>\n",
    "<br>\n",
    "- Table <font size = 4><b>`calls`</b></font> (call information):\n",
    "    - `id` — unique call number\n",
    "    - `call_date` — call date\n",
    "    - `duration` — call duration in minutes\n",
    "    - `user_id` — identifier of the user who made the call\n",
    "<br>\n",
    "<br>\n",
    "- Table <font size = 4><b>`messages`</b></font> (message information):\n",
    "    - `id` — unique message number\n",
    "    - `message_date` — message date\n",
    "    - `user_id` - ID of the user who sent the message\n",
    "<br>\n",
    "<br>\n",
    "- Table <font size = 4><b>`internet`</b></font> (information about internet sessions):\n",
    "    - `id` — unique session number\n",
    "    - `mb_used` — amount of Internet traffic spent per session (in megabytes)\n",
    "    - `session_date` — internet session date\n",
    "    - `user_id` - user ID\n",
    "<br>\n",
    "<br>\n",
    "- Table <font size = 4><b>`tariffs`</b></font> (information about tariffs):\n",
    "    - `tariff_name` — tariff name\n",
    "    - `rub_monthly_fee` — monthly subscription fee in rubles\n",
    "    - `minutes_included` - the number of minutes of conversation per month included in the subscription fee\n",
    "    - `messages_included` - the number of messages per month included in the subscription fee\n",
    "    - `mb_per_month_included` - the amount of Internet traffic included in the subscription fee (in megabytes)\n",
    "    - `rub_per_minute` - the cost of a minute of conversation in excess of the tariff package (for example, if the tariff includes 100 minutes of conversation per month, then a fee will be charged from 101 minutes)\n",
    "    - `rub_per_message` - the cost of sending a message in excess of the tariff package\n",
    "    - `rub_per_gb` - the cost of an additional gigabyte of Internet traffic in excess of the tariff package (1 gigabyte = 1024 megabytes)"
   ]
  },
  {
   "cell_type": "markdown",
   "metadata": {},
   "source": [
    "### Introduction to dataset"
   ]
  },
  {
   "cell_type": "code",
   "execution_count": 1,
   "metadata": {},
   "outputs": [],
   "source": [
    "#import the necessary libraries\n",
    "import pandas as pd\n",
    "import numpy as np\n",
    "from scipy import stats as st\n",
    "import math\n",
    "import matplotlib.pyplot as plt\n",
    "import warnings\n",
    "warnings.filterwarnings(\"ignore\")"
   ]
  },
  {
   "cell_type": "code",
   "execution_count": 2,
   "metadata": {},
   "outputs": [],
   "source": [
    "#read and save data from files\n",
    "calls = pd.read_csv('/datasets/calls.csv') #call information\n",
    "internet = pd.read_csv('/datasets/internet.csv') #information about internet sessions\n",
    "messages = pd.read_csv('/datasets/messages.csv') #message information\n",
    "tariffs = pd.read_csv('/datasets/tariffs.csv') #information about tariffs\n",
    "users = pd.read_csv('/datasets/users.csv') #user information"
   ]
  },
  {
   "cell_type": "markdown",
   "metadata": {},
   "source": [
    "<font size = 3><b>Dataset with information about calls</b></font>"
   ]
  },
  {
   "cell_type": "code",
   "execution_count": 3,
   "metadata": {},
   "outputs": [
    {
     "data": {
      "text/html": [
       "<div>\n",
       "<style scoped>\n",
       "    .dataframe tbody tr th:only-of-type {\n",
       "        vertical-align: middle;\n",
       "    }\n",
       "\n",
       "    .dataframe tbody tr th {\n",
       "        vertical-align: top;\n",
       "    }\n",
       "\n",
       "    .dataframe thead th {\n",
       "        text-align: right;\n",
       "    }\n",
       "</style>\n",
       "<table border=\"1\" class=\"dataframe\">\n",
       "  <thead>\n",
       "    <tr style=\"text-align: right;\">\n",
       "      <th></th>\n",
       "      <th>id</th>\n",
       "      <th>call_date</th>\n",
       "      <th>duration</th>\n",
       "      <th>user_id</th>\n",
       "    </tr>\n",
       "  </thead>\n",
       "  <tbody>\n",
       "    <tr>\n",
       "      <th>165470</th>\n",
       "      <td>1409_95</td>\n",
       "      <td>2018-12-30</td>\n",
       "      <td>0.00</td>\n",
       "      <td>1409</td>\n",
       "    </tr>\n",
       "    <tr>\n",
       "      <th>34429</th>\n",
       "      <td>1085_132</td>\n",
       "      <td>2018-08-21</td>\n",
       "      <td>12.53</td>\n",
       "      <td>1085</td>\n",
       "    </tr>\n",
       "    <tr>\n",
       "      <th>66422</th>\n",
       "      <td>1168_1573</td>\n",
       "      <td>2018-04-14</td>\n",
       "      <td>9.29</td>\n",
       "      <td>1168</td>\n",
       "    </tr>\n",
       "    <tr>\n",
       "      <th>177671</th>\n",
       "      <td>1439_218</td>\n",
       "      <td>2018-11-28</td>\n",
       "      <td>9.51</td>\n",
       "      <td>1439</td>\n",
       "    </tr>\n",
       "    <tr>\n",
       "      <th>195897</th>\n",
       "      <td>1480_208</td>\n",
       "      <td>2018-07-21</td>\n",
       "      <td>5.05</td>\n",
       "      <td>1480</td>\n",
       "    </tr>\n",
       "    <tr>\n",
       "      <th>22364</th>\n",
       "      <td>1057_813</td>\n",
       "      <td>2018-09-30</td>\n",
       "      <td>10.91</td>\n",
       "      <td>1057</td>\n",
       "    </tr>\n",
       "    <tr>\n",
       "      <th>34342</th>\n",
       "      <td>1085_45</td>\n",
       "      <td>2018-12-12</td>\n",
       "      <td>11.02</td>\n",
       "      <td>1085</td>\n",
       "    </tr>\n",
       "    <tr>\n",
       "      <th>57169</th>\n",
       "      <td>1145_0</td>\n",
       "      <td>2018-10-18</td>\n",
       "      <td>0.00</td>\n",
       "      <td>1145</td>\n",
       "    </tr>\n",
       "    <tr>\n",
       "      <th>110898</th>\n",
       "      <td>1284_496</td>\n",
       "      <td>2018-08-29</td>\n",
       "      <td>1.56</td>\n",
       "      <td>1284</td>\n",
       "    </tr>\n",
       "    <tr>\n",
       "      <th>118534</th>\n",
       "      <td>1307_8</td>\n",
       "      <td>2018-05-31</td>\n",
       "      <td>9.74</td>\n",
       "      <td>1307</td>\n",
       "    </tr>\n",
       "  </tbody>\n",
       "</table>\n",
       "</div>"
      ],
      "text/plain": [
       "               id   call_date  duration  user_id\n",
       "165470    1409_95  2018-12-30      0.00     1409\n",
       "34429    1085_132  2018-08-21     12.53     1085\n",
       "66422   1168_1573  2018-04-14      9.29     1168\n",
       "177671   1439_218  2018-11-28      9.51     1439\n",
       "195897   1480_208  2018-07-21      5.05     1480\n",
       "22364    1057_813  2018-09-30     10.91     1057\n",
       "34342     1085_45  2018-12-12     11.02     1085\n",
       "57169      1145_0  2018-10-18      0.00     1145\n",
       "110898   1284_496  2018-08-29      1.56     1284\n",
       "118534     1307_8  2018-05-31      9.74     1307"
      ]
     },
     "execution_count": 3,
     "metadata": {},
     "output_type": "execute_result"
    }
   ],
   "source": [
    "calls.sample(10)"
   ]
  },
  {
   "cell_type": "code",
   "execution_count": 4,
   "metadata": {},
   "outputs": [
    {
     "name": "stdout",
     "output_type": "stream",
     "text": [
      "<class 'pandas.core.frame.DataFrame'>\n",
      "RangeIndex: 202607 entries, 0 to 202606\n",
      "Data columns (total 4 columns):\n",
      " #   Column     Non-Null Count   Dtype  \n",
      "---  ------     --------------   -----  \n",
      " 0   id         202607 non-null  object \n",
      " 1   call_date  202607 non-null  object \n",
      " 2   duration   202607 non-null  float64\n",
      " 3   user_id    202607 non-null  int64  \n",
      "dtypes: float64(1), int64(1), object(2)\n",
      "memory usage: 6.2+ MB\n"
     ]
    }
   ],
   "source": [
    "calls.info()"
   ]
  },
  {
   "cell_type": "code",
   "execution_count": 5,
   "metadata": {},
   "outputs": [
    {
     "name": "stdout",
     "output_type": "stream",
     "text": [
      "Number of duplicates: 0\n"
     ]
    }
   ],
   "source": [
    "print('Number of duplicates:', calls.duplicated().sum())"
   ]
  },
  {
   "cell_type": "markdown",
   "metadata": {},
   "source": [
    "- This dataset has 4 columns and 202,607 rows.\n",
    "- There are no passes.\n",
    "- There are no duplicates.\n",
    "- There are no problems with column names.\n",
    "- It is necessary to cast the column with the date of the call to the datetime type.\n",
    "- Leave zero values in the call duration column as they are, these are missed calls.\n",
    "- The data in the `duration` column will be rounded up to the nearest integer and the format will be changed to int32."
   ]
  },
  {
   "cell_type": "markdown",
   "metadata": {},
   "source": [
    "<font size = 3><b>Dataset with information about Internet sessions</b></font>"
   ]
  },
  {
   "cell_type": "code",
   "execution_count": 6,
   "metadata": {},
   "outputs": [
    {
     "data": {
      "text/html": [
       "<div>\n",
       "<style scoped>\n",
       "    .dataframe tbody tr th:only-of-type {\n",
       "        vertical-align: middle;\n",
       "    }\n",
       "\n",
       "    .dataframe tbody tr th {\n",
       "        vertical-align: top;\n",
       "    }\n",
       "\n",
       "    .dataframe thead th {\n",
       "        text-align: right;\n",
       "    }\n",
       "</style>\n",
       "<table border=\"1\" class=\"dataframe\">\n",
       "  <thead>\n",
       "    <tr style=\"text-align: right;\">\n",
       "      <th></th>\n",
       "      <th>Unnamed: 0</th>\n",
       "      <th>id</th>\n",
       "      <th>mb_used</th>\n",
       "      <th>session_date</th>\n",
       "      <th>user_id</th>\n",
       "    </tr>\n",
       "  </thead>\n",
       "  <tbody>\n",
       "    <tr>\n",
       "      <th>10329</th>\n",
       "      <td>10329</td>\n",
       "      <td>1035_164</td>\n",
       "      <td>724.93</td>\n",
       "      <td>2018-10-21</td>\n",
       "      <td>1035</td>\n",
       "    </tr>\n",
       "    <tr>\n",
       "      <th>52094</th>\n",
       "      <td>52094</td>\n",
       "      <td>1176_249</td>\n",
       "      <td>255.86</td>\n",
       "      <td>2018-05-17</td>\n",
       "      <td>1176</td>\n",
       "    </tr>\n",
       "    <tr>\n",
       "      <th>147076</th>\n",
       "      <td>147076</td>\n",
       "      <td>1492_26</td>\n",
       "      <td>752.10</td>\n",
       "      <td>2018-10-04</td>\n",
       "      <td>1492</td>\n",
       "    </tr>\n",
       "    <tr>\n",
       "      <th>17635</th>\n",
       "      <td>17635</td>\n",
       "      <td>1061_24</td>\n",
       "      <td>225.00</td>\n",
       "      <td>2018-11-23</td>\n",
       "      <td>1061</td>\n",
       "    </tr>\n",
       "    <tr>\n",
       "      <th>89618</th>\n",
       "      <td>89618</td>\n",
       "      <td>1302_418</td>\n",
       "      <td>625.39</td>\n",
       "      <td>2018-06-20</td>\n",
       "      <td>1302</td>\n",
       "    </tr>\n",
       "    <tr>\n",
       "      <th>41616</th>\n",
       "      <td>41616</td>\n",
       "      <td>1145_352</td>\n",
       "      <td>1073.89</td>\n",
       "      <td>2018-05-28</td>\n",
       "      <td>1145</td>\n",
       "    </tr>\n",
       "    <tr>\n",
       "      <th>113059</th>\n",
       "      <td>113059</td>\n",
       "      <td>1382_52</td>\n",
       "      <td>330.69</td>\n",
       "      <td>2018-04-24</td>\n",
       "      <td>1382</td>\n",
       "    </tr>\n",
       "    <tr>\n",
       "      <th>104940</th>\n",
       "      <td>104940</td>\n",
       "      <td>1355_152</td>\n",
       "      <td>0.00</td>\n",
       "      <td>2018-09-12</td>\n",
       "      <td>1355</td>\n",
       "    </tr>\n",
       "    <tr>\n",
       "      <th>32767</th>\n",
       "      <td>32767</td>\n",
       "      <td>1114_164</td>\n",
       "      <td>1026.84</td>\n",
       "      <td>2018-12-04</td>\n",
       "      <td>1114</td>\n",
       "    </tr>\n",
       "    <tr>\n",
       "      <th>136286</th>\n",
       "      <td>136286</td>\n",
       "      <td>1457_128</td>\n",
       "      <td>822.65</td>\n",
       "      <td>2018-10-12</td>\n",
       "      <td>1457</td>\n",
       "    </tr>\n",
       "  </tbody>\n",
       "</table>\n",
       "</div>"
      ],
      "text/plain": [
       "        Unnamed: 0        id  mb_used session_date  user_id\n",
       "10329        10329  1035_164   724.93   2018-10-21     1035\n",
       "52094        52094  1176_249   255.86   2018-05-17     1176\n",
       "147076      147076   1492_26   752.10   2018-10-04     1492\n",
       "17635        17635   1061_24   225.00   2018-11-23     1061\n",
       "89618        89618  1302_418   625.39   2018-06-20     1302\n",
       "41616        41616  1145_352  1073.89   2018-05-28     1145\n",
       "113059      113059   1382_52   330.69   2018-04-24     1382\n",
       "104940      104940  1355_152     0.00   2018-09-12     1355\n",
       "32767        32767  1114_164  1026.84   2018-12-04     1114\n",
       "136286      136286  1457_128   822.65   2018-10-12     1457"
      ]
     },
     "execution_count": 6,
     "metadata": {},
     "output_type": "execute_result"
    }
   ],
   "source": [
    "internet.sample(10)"
   ]
  },
  {
   "cell_type": "code",
   "execution_count": 7,
   "metadata": {},
   "outputs": [
    {
     "name": "stdout",
     "output_type": "stream",
     "text": [
      "<class 'pandas.core.frame.DataFrame'>\n",
      "RangeIndex: 149396 entries, 0 to 149395\n",
      "Data columns (total 5 columns):\n",
      " #   Column        Non-Null Count   Dtype  \n",
      "---  ------        --------------   -----  \n",
      " 0   Unnamed: 0    149396 non-null  int64  \n",
      " 1   id            149396 non-null  object \n",
      " 2   mb_used       149396 non-null  float64\n",
      " 3   session_date  149396 non-null  object \n",
      " 4   user_id       149396 non-null  int64  \n",
      "dtypes: float64(1), int64(2), object(2)\n",
      "memory usage: 5.7+ MB\n"
     ]
    }
   ],
   "source": [
    "internet.info()"
   ]
  },
  {
   "cell_type": "code",
   "execution_count": 8,
   "metadata": {},
   "outputs": [
    {
     "name": "stdout",
     "output_type": "stream",
     "text": [
      "Number of duplicates: 0\n"
     ]
    }
   ],
   "source": [
    "print('Number of duplicates:', internet.duplicated().sum())"
   ]
  },
  {
   "cell_type": "markdown",
   "metadata": {},
   "source": [
    "- This dataset has 5 columns and 149,396 rows.\n",
    "- There are no passes.\n",
    "- There are no duplicates.\n",
    "- There are no problems with column names.\n",
    "- The `Unnamed` column duplicates the indexes, so it can be removed.\n",
    "- You need to convert the date column to the datetime type.\n",
    "- The data in the Internet traffic column will be rounded to whole numbers.\n",
    "- Add a column with traffic rounded to Gigabytes."
   ]
  },
  {
   "cell_type": "markdown",
   "metadata": {},
   "source": [
    "<font size = 3><b>Dataset with information about messages</b></font>"
   ]
  },
  {
   "cell_type": "code",
   "execution_count": 9,
   "metadata": {},
   "outputs": [
    {
     "data": {
      "text/html": [
       "<div>\n",
       "<style scoped>\n",
       "    .dataframe tbody tr th:only-of-type {\n",
       "        vertical-align: middle;\n",
       "    }\n",
       "\n",
       "    .dataframe tbody tr th {\n",
       "        vertical-align: top;\n",
       "    }\n",
       "\n",
       "    .dataframe thead th {\n",
       "        text-align: right;\n",
       "    }\n",
       "</style>\n",
       "<table border=\"1\" class=\"dataframe\">\n",
       "  <thead>\n",
       "    <tr style=\"text-align: right;\">\n",
       "      <th></th>\n",
       "      <th>id</th>\n",
       "      <th>message_date</th>\n",
       "      <th>user_id</th>\n",
       "    </tr>\n",
       "  </thead>\n",
       "  <tbody>\n",
       "    <tr>\n",
       "      <th>28353</th>\n",
       "      <td>1122_176</td>\n",
       "      <td>2018-12-10</td>\n",
       "      <td>1122</td>\n",
       "    </tr>\n",
       "    <tr>\n",
       "      <th>96015</th>\n",
       "      <td>1395_2</td>\n",
       "      <td>2018-11-11</td>\n",
       "      <td>1395</td>\n",
       "    </tr>\n",
       "    <tr>\n",
       "      <th>5747</th>\n",
       "      <td>1023_92</td>\n",
       "      <td>2018-12-18</td>\n",
       "      <td>1023</td>\n",
       "    </tr>\n",
       "    <tr>\n",
       "      <th>602</th>\n",
       "      <td>1003_36</td>\n",
       "      <td>2018-11-11</td>\n",
       "      <td>1003</td>\n",
       "    </tr>\n",
       "    <tr>\n",
       "      <th>64547</th>\n",
       "      <td>1277_1224</td>\n",
       "      <td>2018-03-10</td>\n",
       "      <td>1277</td>\n",
       "    </tr>\n",
       "    <tr>\n",
       "      <th>543</th>\n",
       "      <td>1002_47</td>\n",
       "      <td>2018-10-18</td>\n",
       "      <td>1002</td>\n",
       "    </tr>\n",
       "    <tr>\n",
       "      <th>101163</th>\n",
       "      <td>1414_107</td>\n",
       "      <td>2018-12-21</td>\n",
       "      <td>1414</td>\n",
       "    </tr>\n",
       "    <tr>\n",
       "      <th>112547</th>\n",
       "      <td>1453_572</td>\n",
       "      <td>2018-10-09</td>\n",
       "      <td>1453</td>\n",
       "    </tr>\n",
       "    <tr>\n",
       "      <th>81114</th>\n",
       "      <td>1340_88</td>\n",
       "      <td>2018-07-18</td>\n",
       "      <td>1340</td>\n",
       "    </tr>\n",
       "    <tr>\n",
       "      <th>111820</th>\n",
       "      <td>1452_209</td>\n",
       "      <td>2018-09-25</td>\n",
       "      <td>1452</td>\n",
       "    </tr>\n",
       "  </tbody>\n",
       "</table>\n",
       "</div>"
      ],
      "text/plain": [
       "               id message_date  user_id\n",
       "28353    1122_176   2018-12-10     1122\n",
       "96015      1395_2   2018-11-11     1395\n",
       "5747      1023_92   2018-12-18     1023\n",
       "602       1003_36   2018-11-11     1003\n",
       "64547   1277_1224   2018-03-10     1277\n",
       "543       1002_47   2018-10-18     1002\n",
       "101163   1414_107   2018-12-21     1414\n",
       "112547   1453_572   2018-10-09     1453\n",
       "81114     1340_88   2018-07-18     1340\n",
       "111820   1452_209   2018-09-25     1452"
      ]
     },
     "execution_count": 9,
     "metadata": {},
     "output_type": "execute_result"
    }
   ],
   "source": [
    "messages.sample(10)"
   ]
  },
  {
   "cell_type": "code",
   "execution_count": 10,
   "metadata": {},
   "outputs": [
    {
     "name": "stdout",
     "output_type": "stream",
     "text": [
      "<class 'pandas.core.frame.DataFrame'>\n",
      "RangeIndex: 123036 entries, 0 to 123035\n",
      "Data columns (total 3 columns):\n",
      " #   Column        Non-Null Count   Dtype \n",
      "---  ------        --------------   ----- \n",
      " 0   id            123036 non-null  object\n",
      " 1   message_date  123036 non-null  object\n",
      " 2   user_id       123036 non-null  int64 \n",
      "dtypes: int64(1), object(2)\n",
      "memory usage: 2.8+ MB\n"
     ]
    }
   ],
   "source": [
    "messages.info()"
   ]
  },
  {
   "cell_type": "code",
   "execution_count": 11,
   "metadata": {},
   "outputs": [
    {
     "name": "stdout",
     "output_type": "stream",
     "text": [
      "Number of duplicates: 0\n"
     ]
    }
   ],
   "source": [
    "print('Number of duplicates:', messages.duplicated().sum())"
   ]
  },
  {
   "cell_type": "markdown",
   "metadata": {},
   "source": [
    "- This dataset has 3 columns and 123,036 rows.\n",
    "- There are no passes.\n",
    "- There are no duplicates.\n",
    "- There are no problems with column names.\n",
    "- You need to convert the date column to the datetime type."
   ]
  },
  {
   "cell_type": "markdown",
   "metadata": {},
   "source": [
    "<font size = 3><b>Dataset with information about tariffs</b></font>"
   ]
  },
  {
   "cell_type": "code",
   "execution_count": 12,
   "metadata": {},
   "outputs": [
    {
     "data": {
      "text/html": [
       "<div>\n",
       "<style scoped>\n",
       "    .dataframe tbody tr th:only-of-type {\n",
       "        vertical-align: middle;\n",
       "    }\n",
       "\n",
       "    .dataframe tbody tr th {\n",
       "        vertical-align: top;\n",
       "    }\n",
       "\n",
       "    .dataframe thead th {\n",
       "        text-align: right;\n",
       "    }\n",
       "</style>\n",
       "<table border=\"1\" class=\"dataframe\">\n",
       "  <thead>\n",
       "    <tr style=\"text-align: right;\">\n",
       "      <th></th>\n",
       "      <th>messages_included</th>\n",
       "      <th>mb_per_month_included</th>\n",
       "      <th>minutes_included</th>\n",
       "      <th>rub_monthly_fee</th>\n",
       "      <th>rub_per_gb</th>\n",
       "      <th>rub_per_message</th>\n",
       "      <th>rub_per_minute</th>\n",
       "      <th>tariff_name</th>\n",
       "    </tr>\n",
       "  </thead>\n",
       "  <tbody>\n",
       "    <tr>\n",
       "      <th>0</th>\n",
       "      <td>50</td>\n",
       "      <td>15360</td>\n",
       "      <td>500</td>\n",
       "      <td>550</td>\n",
       "      <td>200</td>\n",
       "      <td>3</td>\n",
       "      <td>3</td>\n",
       "      <td>smart</td>\n",
       "    </tr>\n",
       "    <tr>\n",
       "      <th>1</th>\n",
       "      <td>1000</td>\n",
       "      <td>30720</td>\n",
       "      <td>3000</td>\n",
       "      <td>1950</td>\n",
       "      <td>150</td>\n",
       "      <td>1</td>\n",
       "      <td>1</td>\n",
       "      <td>ultra</td>\n",
       "    </tr>\n",
       "  </tbody>\n",
       "</table>\n",
       "</div>"
      ],
      "text/plain": [
       "   messages_included  mb_per_month_included  minutes_included  \\\n",
       "0                 50                  15360               500   \n",
       "1               1000                  30720              3000   \n",
       "\n",
       "   rub_monthly_fee  rub_per_gb  rub_per_message  rub_per_minute tariff_name  \n",
       "0              550         200                3               3       smart  \n",
       "1             1950         150                1               1       ultra  "
      ]
     },
     "execution_count": 12,
     "metadata": {},
     "output_type": "execute_result"
    }
   ],
   "source": [
    "tariffs.head()"
   ]
  },
  {
   "cell_type": "code",
   "execution_count": 13,
   "metadata": {},
   "outputs": [
    {
     "name": "stdout",
     "output_type": "stream",
     "text": [
      "<class 'pandas.core.frame.DataFrame'>\n",
      "RangeIndex: 2 entries, 0 to 1\n",
      "Data columns (total 8 columns):\n",
      " #   Column                 Non-Null Count  Dtype \n",
      "---  ------                 --------------  ----- \n",
      " 0   messages_included      2 non-null      int64 \n",
      " 1   mb_per_month_included  2 non-null      int64 \n",
      " 2   minutes_included       2 non-null      int64 \n",
      " 3   rub_monthly_fee        2 non-null      int64 \n",
      " 4   rub_per_gb             2 non-null      int64 \n",
      " 5   rub_per_message        2 non-null      int64 \n",
      " 6   rub_per_minute         2 non-null      int64 \n",
      " 7   tariff_name            2 non-null      object\n",
      "dtypes: int64(7), object(1)\n",
      "memory usage: 256.0+ bytes\n"
     ]
    }
   ],
   "source": [
    "tariffs.info()"
   ]
  },
  {
   "cell_type": "markdown",
   "metadata": {},
   "source": [
    "- This dataset has 8 columns and only 2 rows with two different tariffs.\n",
    "- There are no passes.\n",
    "- There are no problems with column names.\n",
    "- All columns of the desired type."
   ]
  },
  {
   "cell_type": "markdown",
   "metadata": {},
   "source": [
    "<font size = 3><b>Dataset with information about users</b></font>"
   ]
  },
  {
   "cell_type": "code",
   "execution_count": 14,
   "metadata": {},
   "outputs": [
    {
     "data": {
      "text/html": [
       "<div>\n",
       "<style scoped>\n",
       "    .dataframe tbody tr th:only-of-type {\n",
       "        vertical-align: middle;\n",
       "    }\n",
       "\n",
       "    .dataframe tbody tr th {\n",
       "        vertical-align: top;\n",
       "    }\n",
       "\n",
       "    .dataframe thead th {\n",
       "        text-align: right;\n",
       "    }\n",
       "</style>\n",
       "<table border=\"1\" class=\"dataframe\">\n",
       "  <thead>\n",
       "    <tr style=\"text-align: right;\">\n",
       "      <th></th>\n",
       "      <th>user_id</th>\n",
       "      <th>age</th>\n",
       "      <th>churn_date</th>\n",
       "      <th>city</th>\n",
       "      <th>first_name</th>\n",
       "      <th>last_name</th>\n",
       "      <th>reg_date</th>\n",
       "      <th>tariff</th>\n",
       "    </tr>\n",
       "  </thead>\n",
       "  <tbody>\n",
       "    <tr>\n",
       "      <th>207</th>\n",
       "      <td>1207</td>\n",
       "      <td>57</td>\n",
       "      <td>NaN</td>\n",
       "      <td>Балашиха</td>\n",
       "      <td>Яна</td>\n",
       "      <td>Зеленина</td>\n",
       "      <td>2018-08-12</td>\n",
       "      <td>smart</td>\n",
       "    </tr>\n",
       "    <tr>\n",
       "      <th>446</th>\n",
       "      <td>1446</td>\n",
       "      <td>64</td>\n",
       "      <td>NaN</td>\n",
       "      <td>Липецк</td>\n",
       "      <td>Антонина</td>\n",
       "      <td>Артемчук</td>\n",
       "      <td>2018-08-31</td>\n",
       "      <td>smart</td>\n",
       "    </tr>\n",
       "    <tr>\n",
       "      <th>498</th>\n",
       "      <td>1498</td>\n",
       "      <td>68</td>\n",
       "      <td>2018-10-25</td>\n",
       "      <td>Владикавказ</td>\n",
       "      <td>Всеволод</td>\n",
       "      <td>Акимчин</td>\n",
       "      <td>2018-07-19</td>\n",
       "      <td>smart</td>\n",
       "    </tr>\n",
       "    <tr>\n",
       "      <th>374</th>\n",
       "      <td>1374</td>\n",
       "      <td>67</td>\n",
       "      <td>NaN</td>\n",
       "      <td>Махачкала</td>\n",
       "      <td>Леонид</td>\n",
       "      <td>Аркадьев</td>\n",
       "      <td>2018-04-01</td>\n",
       "      <td>smart</td>\n",
       "    </tr>\n",
       "    <tr>\n",
       "      <th>298</th>\n",
       "      <td>1298</td>\n",
       "      <td>29</td>\n",
       "      <td>NaN</td>\n",
       "      <td>Новосибирск</td>\n",
       "      <td>Надежда</td>\n",
       "      <td>Чеснокова</td>\n",
       "      <td>2018-07-26</td>\n",
       "      <td>smart</td>\n",
       "    </tr>\n",
       "    <tr>\n",
       "      <th>459</th>\n",
       "      <td>1459</td>\n",
       "      <td>31</td>\n",
       "      <td>NaN</td>\n",
       "      <td>Магнитогорск</td>\n",
       "      <td>Леон</td>\n",
       "      <td>Ёрохов</td>\n",
       "      <td>2018-10-10</td>\n",
       "      <td>smart</td>\n",
       "    </tr>\n",
       "    <tr>\n",
       "      <th>474</th>\n",
       "      <td>1474</td>\n",
       "      <td>66</td>\n",
       "      <td>NaN</td>\n",
       "      <td>Набережные Челны</td>\n",
       "      <td>Олег</td>\n",
       "      <td>Любимов</td>\n",
       "      <td>2018-11-11</td>\n",
       "      <td>ultra</td>\n",
       "    </tr>\n",
       "    <tr>\n",
       "      <th>219</th>\n",
       "      <td>1219</td>\n",
       "      <td>75</td>\n",
       "      <td>NaN</td>\n",
       "      <td>Киров</td>\n",
       "      <td>Кузьма</td>\n",
       "      <td>Некрасов</td>\n",
       "      <td>2018-01-21</td>\n",
       "      <td>smart</td>\n",
       "    </tr>\n",
       "    <tr>\n",
       "      <th>480</th>\n",
       "      <td>1480</td>\n",
       "      <td>29</td>\n",
       "      <td>2018-09-26</td>\n",
       "      <td>Новокузнецк</td>\n",
       "      <td>Гелена</td>\n",
       "      <td>Емельянова</td>\n",
       "      <td>2018-02-14</td>\n",
       "      <td>smart</td>\n",
       "    </tr>\n",
       "    <tr>\n",
       "      <th>76</th>\n",
       "      <td>1076</td>\n",
       "      <td>40</td>\n",
       "      <td>NaN</td>\n",
       "      <td>Уфа</td>\n",
       "      <td>Фёдор</td>\n",
       "      <td>Шарапов</td>\n",
       "      <td>2018-03-10</td>\n",
       "      <td>smart</td>\n",
       "    </tr>\n",
       "  </tbody>\n",
       "</table>\n",
       "</div>"
      ],
      "text/plain": [
       "     user_id  age  churn_date              city first_name   last_name  \\\n",
       "207     1207   57         NaN          Балашиха        Яна    Зеленина   \n",
       "446     1446   64         NaN            Липецк   Антонина    Артемчук   \n",
       "498     1498   68  2018-10-25       Владикавказ   Всеволод     Акимчин   \n",
       "374     1374   67         NaN         Махачкала     Леонид    Аркадьев   \n",
       "298     1298   29         NaN       Новосибирск    Надежда   Чеснокова   \n",
       "459     1459   31         NaN      Магнитогорск       Леон      Ёрохов   \n",
       "474     1474   66         NaN  Набережные Челны       Олег     Любимов   \n",
       "219     1219   75         NaN             Киров     Кузьма    Некрасов   \n",
       "480     1480   29  2018-09-26       Новокузнецк     Гелена  Емельянова   \n",
       "76      1076   40         NaN               Уфа      Фёдор     Шарапов   \n",
       "\n",
       "       reg_date tariff  \n",
       "207  2018-08-12  smart  \n",
       "446  2018-08-31  smart  \n",
       "498  2018-07-19  smart  \n",
       "374  2018-04-01  smart  \n",
       "298  2018-07-26  smart  \n",
       "459  2018-10-10  smart  \n",
       "474  2018-11-11  ultra  \n",
       "219  2018-01-21  smart  \n",
       "480  2018-02-14  smart  \n",
       "76   2018-03-10  smart  "
      ]
     },
     "execution_count": 14,
     "metadata": {},
     "output_type": "execute_result"
    }
   ],
   "source": [
    "users.sample(10)"
   ]
  },
  {
   "cell_type": "code",
   "execution_count": 15,
   "metadata": {},
   "outputs": [
    {
     "name": "stdout",
     "output_type": "stream",
     "text": [
      "<class 'pandas.core.frame.DataFrame'>\n",
      "RangeIndex: 500 entries, 0 to 499\n",
      "Data columns (total 8 columns):\n",
      " #   Column      Non-Null Count  Dtype \n",
      "---  ------      --------------  ----- \n",
      " 0   user_id     500 non-null    int64 \n",
      " 1   age         500 non-null    int64 \n",
      " 2   churn_date  38 non-null     object\n",
      " 3   city        500 non-null    object\n",
      " 4   first_name  500 non-null    object\n",
      " 5   last_name   500 non-null    object\n",
      " 6   reg_date    500 non-null    object\n",
      " 7   tariff      500 non-null    object\n",
      "dtypes: int64(2), object(6)\n",
      "memory usage: 31.4+ KB\n"
     ]
    }
   ],
   "source": [
    "users.info()"
   ]
  },
  {
   "cell_type": "code",
   "execution_count": 16,
   "metadata": {},
   "outputs": [
    {
     "name": "stdout",
     "output_type": "stream",
     "text": [
      "Number of duplicates: 0\n"
     ]
    }
   ],
   "source": [
    "print('Number of duplicates:', users.duplicated().sum())"
   ]
  },
  {
   "cell_type": "markdown",
   "metadata": {},
   "source": [
    "- This dataset has 8 columns and 500 rows.\n",
    "- There are gaps in the `churn_date` column, but this is normal, because omission means that the tariff was valid at the time of uploading the data. Let's cast this column to the datetime type.\n",
    "- There are no duplicates.\n",
    "- There are no problems with column names.\n",
    "- You need to convert the date column to the datetime type."
   ]
  },
  {
   "cell_type": "markdown",
   "metadata": {},
   "source": [
    "### Section Conclusion"
   ]
  },
  {
   "cell_type": "markdown",
   "metadata": {},
   "source": [
    "- All datasets are loaded and studied.\n",
    "- No gaps or obvious duplicates found.\n",
    "- Defined goals for preprocessing and changing data types.\n",
    "<br>\n",
    "<br>\n",
    "<br>"
   ]
  },
  {
   "cell_type": "markdown",
   "metadata": {},
   "source": [
    "## Data preparation"
   ]
  },
  {
   "cell_type": "markdown",
   "metadata": {},
   "source": [
    "<b>At this stage</b>:\n",
    "1. Let's bring the data to the required types. We will find and correct errors in the data, if any.\n",
    "2. Let's calculate for each user:\n",
    "    - the number of calls made and spent minutes of conversation by month;\n",
    "    - the number of sent messages by month;\n",
    "    - the amount of Internet traffic used by months;\n",
    "    - monthly revenue from each user."
   ]
  },
  {
   "cell_type": "markdown",
   "metadata": {},
   "source": [
    "### Data preprocessing"
   ]
  },
  {
   "cell_type": "markdown",
   "metadata": {},
   "source": [
    "<font size = 3><b>Let's cast data in columns with dates to the datetime type.</b></font>"
   ]
  },
  {
   "cell_type": "code",
   "execution_count": 17,
   "metadata": {},
   "outputs": [],
   "source": [
    "calls['call_date'] = pd.to_datetime(calls['call_date'], format ='%Y-%m-%d')"
   ]
  },
  {
   "cell_type": "code",
   "execution_count": 18,
   "metadata": {},
   "outputs": [],
   "source": [
    "internet['session_date'] = pd.to_datetime(internet['session_date'], format ='%Y-%m-%d')"
   ]
  },
  {
   "cell_type": "code",
   "execution_count": 19,
   "metadata": {},
   "outputs": [],
   "source": [
    "messages['message_date'] = pd.to_datetime(messages['message_date'], format ='%Y-%m-%d')"
   ]
  },
  {
   "cell_type": "code",
   "execution_count": 20,
   "metadata": {},
   "outputs": [],
   "source": [
    "users['reg_date'] = pd.to_datetime(users['reg_date'], format ='%Y-%m-%d')"
   ]
  },
  {
   "cell_type": "code",
   "execution_count": 21,
   "metadata": {},
   "outputs": [],
   "source": [
    "users['churn_date'] = pd.to_datetime(users['churn_date'], format ='%Y-%m-%d')"
   ]
  },
  {
   "cell_type": "markdown",
   "metadata": {},
   "source": [
    "<font size = 3><b>Let's add month columns to datasets with calls, messages, and internet sessions.</b></font>"
   ]
  },
  {
   "cell_type": "markdown",
   "metadata": {},
   "source": [
    "Let's add a column with the year to the largest dataset to find out for how many years the data was uploaded."
   ]
  },
  {
   "cell_type": "code",
   "execution_count": 22,
   "metadata": {},
   "outputs": [],
   "source": [
    "calls['year'] = calls['call_date'].dt.year"
   ]
  },
  {
   "cell_type": "code",
   "execution_count": 23,
   "metadata": {},
   "outputs": [
    {
     "data": {
      "text/plain": [
       "array([2018], dtype=int64)"
      ]
     },
     "execution_count": 23,
     "metadata": {},
     "output_type": "execute_result"
    }
   ],
   "source": [
    "calls['year'].unique()"
   ]
  },
  {
   "cell_type": "markdown",
   "metadata": {},
   "source": [
    "As you can see, only one year is represented here, so you can only add a column with months."
   ]
  },
  {
   "cell_type": "code",
   "execution_count": 24,
   "metadata": {},
   "outputs": [
    {
     "data": {
      "text/html": [
       "<div>\n",
       "<style scoped>\n",
       "    .dataframe tbody tr th:only-of-type {\n",
       "        vertical-align: middle;\n",
       "    }\n",
       "\n",
       "    .dataframe tbody tr th {\n",
       "        vertical-align: top;\n",
       "    }\n",
       "\n",
       "    .dataframe thead th {\n",
       "        text-align: right;\n",
       "    }\n",
       "</style>\n",
       "<table border=\"1\" class=\"dataframe\">\n",
       "  <thead>\n",
       "    <tr style=\"text-align: right;\">\n",
       "      <th></th>\n",
       "      <th>id</th>\n",
       "      <th>call_date</th>\n",
       "      <th>duration</th>\n",
       "      <th>user_id</th>\n",
       "    </tr>\n",
       "  </thead>\n",
       "  <tbody>\n",
       "    <tr>\n",
       "      <th>0</th>\n",
       "      <td>1000_0</td>\n",
       "      <td>2018-07-25</td>\n",
       "      <td>0.00</td>\n",
       "      <td>1000</td>\n",
       "    </tr>\n",
       "    <tr>\n",
       "      <th>1</th>\n",
       "      <td>1000_1</td>\n",
       "      <td>2018-08-17</td>\n",
       "      <td>0.00</td>\n",
       "      <td>1000</td>\n",
       "    </tr>\n",
       "    <tr>\n",
       "      <th>2</th>\n",
       "      <td>1000_2</td>\n",
       "      <td>2018-06-11</td>\n",
       "      <td>2.85</td>\n",
       "      <td>1000</td>\n",
       "    </tr>\n",
       "    <tr>\n",
       "      <th>3</th>\n",
       "      <td>1000_3</td>\n",
       "      <td>2018-09-21</td>\n",
       "      <td>13.80</td>\n",
       "      <td>1000</td>\n",
       "    </tr>\n",
       "    <tr>\n",
       "      <th>4</th>\n",
       "      <td>1000_4</td>\n",
       "      <td>2018-12-15</td>\n",
       "      <td>5.18</td>\n",
       "      <td>1000</td>\n",
       "    </tr>\n",
       "    <tr>\n",
       "      <th>...</th>\n",
       "      <td>...</td>\n",
       "      <td>...</td>\n",
       "      <td>...</td>\n",
       "      <td>...</td>\n",
       "    </tr>\n",
       "    <tr>\n",
       "      <th>202602</th>\n",
       "      <td>1499_215</td>\n",
       "      <td>2018-12-26</td>\n",
       "      <td>0.76</td>\n",
       "      <td>1499</td>\n",
       "    </tr>\n",
       "    <tr>\n",
       "      <th>202603</th>\n",
       "      <td>1499_216</td>\n",
       "      <td>2018-10-18</td>\n",
       "      <td>18.83</td>\n",
       "      <td>1499</td>\n",
       "    </tr>\n",
       "    <tr>\n",
       "      <th>202604</th>\n",
       "      <td>1499_217</td>\n",
       "      <td>2018-11-10</td>\n",
       "      <td>10.81</td>\n",
       "      <td>1499</td>\n",
       "    </tr>\n",
       "    <tr>\n",
       "      <th>202605</th>\n",
       "      <td>1499_218</td>\n",
       "      <td>2018-10-06</td>\n",
       "      <td>4.27</td>\n",
       "      <td>1499</td>\n",
       "    </tr>\n",
       "    <tr>\n",
       "      <th>202606</th>\n",
       "      <td>1499_219</td>\n",
       "      <td>2018-12-14</td>\n",
       "      <td>19.62</td>\n",
       "      <td>1499</td>\n",
       "    </tr>\n",
       "  </tbody>\n",
       "</table>\n",
       "<p>202607 rows × 4 columns</p>\n",
       "</div>"
      ],
      "text/plain": [
       "              id  call_date  duration  user_id\n",
       "0         1000_0 2018-07-25      0.00     1000\n",
       "1         1000_1 2018-08-17      0.00     1000\n",
       "2         1000_2 2018-06-11      2.85     1000\n",
       "3         1000_3 2018-09-21     13.80     1000\n",
       "4         1000_4 2018-12-15      5.18     1000\n",
       "...          ...        ...       ...      ...\n",
       "202602  1499_215 2018-12-26      0.76     1499\n",
       "202603  1499_216 2018-10-18     18.83     1499\n",
       "202604  1499_217 2018-11-10     10.81     1499\n",
       "202605  1499_218 2018-10-06      4.27     1499\n",
       "202606  1499_219 2018-12-14     19.62     1499\n",
       "\n",
       "[202607 rows x 4 columns]"
      ]
     },
     "execution_count": 24,
     "metadata": {},
     "output_type": "execute_result"
    }
   ],
   "source": [
    "calls.drop(['year'], axis = 1)"
   ]
  },
  {
   "cell_type": "markdown",
   "metadata": {},
   "source": [
    "Let's add columns with the month to the datasets with calls, messages and Internet sessions, because we will be analyzing usage data by month."
   ]
  },
  {
   "cell_type": "code",
   "execution_count": 25,
   "metadata": {},
   "outputs": [],
   "source": [
    "calls['month'] = calls['call_date'].dt.month"
   ]
  },
  {
   "cell_type": "code",
   "execution_count": 26,
   "metadata": {},
   "outputs": [],
   "source": [
    "internet['month'] = internet['session_date'].dt.month"
   ]
  },
  {
   "cell_type": "code",
   "execution_count": 27,
   "metadata": {},
   "outputs": [],
   "source": [
    "messages['month'] = messages['message_date'].dt.month"
   ]
  },
  {
   "cell_type": "markdown",
   "metadata": {},
   "source": [
    "<font size = 3><b>Let's round the data in the columns with minutes and Internet traffic.</b></font>"
   ]
  },
  {
   "cell_type": "code",
   "execution_count": 28,
   "metadata": {},
   "outputs": [
    {
     "data": {
      "text/plain": [
       "0          0\n",
       "1          0\n",
       "2          3\n",
       "3         14\n",
       "4          6\n",
       "          ..\n",
       "202602     1\n",
       "202603    19\n",
       "202604    11\n",
       "202605     5\n",
       "202606    20\n",
       "Name: duration, Length: 202607, dtype: int32"
      ]
     },
     "execution_count": 28,
     "metadata": {},
     "output_type": "execute_result"
    }
   ],
   "source": [
    "np.ceil(calls['duration']).astype('int32')"
   ]
  },
  {
   "cell_type": "code",
   "execution_count": 29,
   "metadata": {},
   "outputs": [
    {
     "data": {
      "text/plain": [
       "0          113\n",
       "1         1053\n",
       "2         1198\n",
       "3          551\n",
       "4          303\n",
       "          ... \n",
       "149391     319\n",
       "149392     491\n",
       "149393       0\n",
       "149394    1247\n",
       "149395     545\n",
       "Name: mb_used, Length: 149396, dtype: int32"
      ]
     },
     "execution_count": 29,
     "metadata": {},
     "output_type": "execute_result"
    }
   ],
   "source": [
    "np.ceil(internet['mb_used']).astype('int32')"
   ]
  },
  {
   "cell_type": "markdown",
   "metadata": {},
   "source": [
    "<font size = 3><b>Let's remove the `Unnamed` column from the dataset with Internet traffic.</b></font>"
   ]
  },
  {
   "cell_type": "code",
   "execution_count": 30,
   "metadata": {},
   "outputs": [],
   "source": [
    "internet.drop(['Unnamed: 0'], axis = 1, inplace=True)"
   ]
  },
  {
   "cell_type": "markdown",
   "metadata": {},
   "source": [
    "<font size = 3><b>Let's group the data for their subsequent merging into one dataset.</b></font><br>"
   ]
  },
  {
   "cell_type": "code",
   "execution_count": 31,
   "metadata": {},
   "outputs": [],
   "source": [
    "calls_df = (\n",
    "    calls.groupby(['user_id', 'month'], as_index=False)\n",
    "    .agg({'duration':['sum', 'count']})\n",
    "    .astype('int32')\n",
    ")"
   ]
  },
  {
   "cell_type": "code",
   "execution_count": 32,
   "metadata": {},
   "outputs": [],
   "source": [
    "#rename columns\n",
    "calls_df.columns=['user_id', 'month', 'call_duration', 'call_count']"
   ]
  },
  {
   "cell_type": "code",
   "execution_count": 33,
   "metadata": {},
   "outputs": [],
   "source": [
    "internet_df = internet.groupby(['user_id', 'month'], as_index=False).agg({'mb_used':'sum'})"
   ]
  },
  {
   "cell_type": "code",
   "execution_count": 34,
   "metadata": {},
   "outputs": [],
   "source": [
    "messages_df = (\n",
    "    messages.groupby(['user_id', 'month'], as_index=False)\n",
    "    .agg({'id':'count'})\n",
    "    .rename(columns={'id':'total_messages'})\n",
    "    .astype('int32')\n",
    ")"
   ]
  },
  {
   "cell_type": "markdown",
   "metadata": {},
   "source": [
    "<font size = 3><b>Let's add columns with used gigabytes.</b></font><br>\n",
    "To do this, we divide the data from the column with used megabytes by 1024 and round up to an integer."
   ]
  },
  {
   "cell_type": "code",
   "execution_count": 35,
   "metadata": {},
   "outputs": [
    {
     "data": {
      "text/plain": [
       "0        3\n",
       "1       23\n",
       "2       14\n",
       "3       14\n",
       "4       15\n",
       "        ..\n",
       "3198    21\n",
       "3199     2\n",
       "3200    18\n",
       "3201    18\n",
       "3202    13\n",
       "Name: gb_used, Length: 3203, dtype: int32"
      ]
     },
     "execution_count": 35,
     "metadata": {},
     "output_type": "execute_result"
    }
   ],
   "source": [
    "#first in dataset with internet traffic\n",
    "internet_df['gb_used'] = internet_df['mb_used'] / 1024\n",
    "np.ceil(internet_df['gb_used']).astype('int32')"
   ]
  },
  {
   "cell_type": "code",
   "execution_count": 36,
   "metadata": {},
   "outputs": [],
   "source": [
    "#and in the dataset with information about the tariff\n",
    "tariffs['gb_included'] = tariffs['mb_per_month_included']/1024"
   ]
  },
  {
   "cell_type": "markdown",
   "metadata": {},
   "source": [
    "<font size = 3><b>Combine all data into one dataset.</b></font><br>"
   ]
  },
  {
   "cell_type": "markdown",
   "metadata": {},
   "source": [
    "To add a dataset with tariffs, you need to rename the `tariff_name` column to `tariff` in it so that the merge is successful."
   ]
  },
  {
   "cell_type": "code",
   "execution_count": 37,
   "metadata": {},
   "outputs": [],
   "source": [
    "tariffs = tariffs.rename(columns={'tariff_name':'tariff'})"
   ]
  },
  {
   "cell_type": "code",
   "execution_count": 38,
   "metadata": {},
   "outputs": [],
   "source": [
    "df = (\n",
    "    internet_df.merge(messages_df, on =['user_id', 'month'], how='outer')\n",
    "    .merge(calls_df, on =['user_id', 'month'], how='outer')\n",
    "    .merge(users, on =['user_id'], how='left')\n",
    "    .merge(tariffs, on =['tariff'],how='left')\n",
    ")"
   ]
  },
  {
   "cell_type": "markdown",
   "metadata": {},
   "source": [
    "Let's remove columns from the new dataset that we will not use in the analysis."
   ]
  },
  {
   "cell_type": "code",
   "execution_count": 39,
   "metadata": {},
   "outputs": [
    {
     "data": {
      "text/plain": [
       "(3214, 22)"
      ]
     },
     "execution_count": 39,
     "metadata": {},
     "output_type": "execute_result"
    }
   ],
   "source": [
    "df.shape"
   ]
  },
  {
   "cell_type": "code",
   "execution_count": 40,
   "metadata": {},
   "outputs": [
    {
     "data": {
      "text/plain": [
       "498"
      ]
     },
     "execution_count": 40,
     "metadata": {},
     "output_type": "execute_result"
    }
   ],
   "source": [
    "df.user_id.nunique()"
   ]
  },
  {
   "cell_type": "code",
   "execution_count": 41,
   "metadata": {},
   "outputs": [],
   "source": [
    "df.drop(['first_name','last_name', 'reg_date', 'mb_per_month_included', 'churn_date', 'mb_used'], axis = 1, inplace=True)"
   ]
  },
  {
   "cell_type": "code",
   "execution_count": 42,
   "metadata": {},
   "outputs": [
    {
     "data": {
      "text/html": [
       "<div>\n",
       "<style scoped>\n",
       "    .dataframe tbody tr th:only-of-type {\n",
       "        vertical-align: middle;\n",
       "    }\n",
       "\n",
       "    .dataframe tbody tr th {\n",
       "        vertical-align: top;\n",
       "    }\n",
       "\n",
       "    .dataframe thead th {\n",
       "        text-align: right;\n",
       "    }\n",
       "</style>\n",
       "<table border=\"1\" class=\"dataframe\">\n",
       "  <thead>\n",
       "    <tr style=\"text-align: right;\">\n",
       "      <th></th>\n",
       "      <th>user_id</th>\n",
       "      <th>month</th>\n",
       "      <th>gb_used</th>\n",
       "      <th>total_messages</th>\n",
       "      <th>call_duration</th>\n",
       "      <th>call_count</th>\n",
       "      <th>age</th>\n",
       "      <th>city</th>\n",
       "      <th>tariff</th>\n",
       "      <th>messages_included</th>\n",
       "      <th>minutes_included</th>\n",
       "      <th>rub_monthly_fee</th>\n",
       "      <th>rub_per_gb</th>\n",
       "      <th>rub_per_message</th>\n",
       "      <th>rub_per_minute</th>\n",
       "      <th>gb_included</th>\n",
       "    </tr>\n",
       "  </thead>\n",
       "  <tbody>\n",
       "    <tr>\n",
       "      <th>2412</th>\n",
       "      <td>1380</td>\n",
       "      <td>11</td>\n",
       "      <td>31.913867</td>\n",
       "      <td>27.0</td>\n",
       "      <td>562.0</td>\n",
       "      <td>94.0</td>\n",
       "      <td>45</td>\n",
       "      <td>Ростов-на-Дону</td>\n",
       "      <td>ultra</td>\n",
       "      <td>1000</td>\n",
       "      <td>3000</td>\n",
       "      <td>1950</td>\n",
       "      <td>150</td>\n",
       "      <td>1</td>\n",
       "      <td>1</td>\n",
       "      <td>30.0</td>\n",
       "    </tr>\n",
       "    <tr>\n",
       "      <th>2701</th>\n",
       "      <td>1423</td>\n",
       "      <td>5</td>\n",
       "      <td>16.493408</td>\n",
       "      <td>47.0</td>\n",
       "      <td>122.0</td>\n",
       "      <td>23.0</td>\n",
       "      <td>50</td>\n",
       "      <td>Астрахань</td>\n",
       "      <td>smart</td>\n",
       "      <td>50</td>\n",
       "      <td>500</td>\n",
       "      <td>550</td>\n",
       "      <td>200</td>\n",
       "      <td>3</td>\n",
       "      <td>3</td>\n",
       "      <td>15.0</td>\n",
       "    </tr>\n",
       "    <tr>\n",
       "      <th>2157</th>\n",
       "      <td>1340</td>\n",
       "      <td>11</td>\n",
       "      <td>15.463506</td>\n",
       "      <td>9.0</td>\n",
       "      <td>508.0</td>\n",
       "      <td>69.0</td>\n",
       "      <td>50</td>\n",
       "      <td>Пенза</td>\n",
       "      <td>smart</td>\n",
       "      <td>50</td>\n",
       "      <td>500</td>\n",
       "      <td>550</td>\n",
       "      <td>200</td>\n",
       "      <td>3</td>\n",
       "      <td>3</td>\n",
       "      <td>15.0</td>\n",
       "    </tr>\n",
       "    <tr>\n",
       "      <th>1083</th>\n",
       "      <td>1171</td>\n",
       "      <td>11</td>\n",
       "      <td>15.909043</td>\n",
       "      <td>78.0</td>\n",
       "      <td>673.0</td>\n",
       "      <td>93.0</td>\n",
       "      <td>47</td>\n",
       "      <td>Москва</td>\n",
       "      <td>smart</td>\n",
       "      <td>50</td>\n",
       "      <td>500</td>\n",
       "      <td>550</td>\n",
       "      <td>200</td>\n",
       "      <td>3</td>\n",
       "      <td>3</td>\n",
       "      <td>15.0</td>\n",
       "    </tr>\n",
       "    <tr>\n",
       "      <th>291</th>\n",
       "      <td>1046</td>\n",
       "      <td>12</td>\n",
       "      <td>21.327646</td>\n",
       "      <td>48.0</td>\n",
       "      <td>523.0</td>\n",
       "      <td>81.0</td>\n",
       "      <td>72</td>\n",
       "      <td>Тула</td>\n",
       "      <td>smart</td>\n",
       "      <td>50</td>\n",
       "      <td>500</td>\n",
       "      <td>550</td>\n",
       "      <td>200</td>\n",
       "      <td>3</td>\n",
       "      <td>3</td>\n",
       "      <td>15.0</td>\n",
       "    </tr>\n",
       "    <tr>\n",
       "      <th>468</th>\n",
       "      <td>1073</td>\n",
       "      <td>10</td>\n",
       "      <td>16.454004</td>\n",
       "      <td>34.0</td>\n",
       "      <td>434.0</td>\n",
       "      <td>70.0</td>\n",
       "      <td>63</td>\n",
       "      <td>Владикавказ</td>\n",
       "      <td>smart</td>\n",
       "      <td>50</td>\n",
       "      <td>500</td>\n",
       "      <td>550</td>\n",
       "      <td>200</td>\n",
       "      <td>3</td>\n",
       "      <td>3</td>\n",
       "      <td>15.0</td>\n",
       "    </tr>\n",
       "    <tr>\n",
       "      <th>452</th>\n",
       "      <td>1071</td>\n",
       "      <td>4</td>\n",
       "      <td>16.090557</td>\n",
       "      <td>16.0</td>\n",
       "      <td>307.0</td>\n",
       "      <td>36.0</td>\n",
       "      <td>20</td>\n",
       "      <td>Омск</td>\n",
       "      <td>smart</td>\n",
       "      <td>50</td>\n",
       "      <td>500</td>\n",
       "      <td>550</td>\n",
       "      <td>200</td>\n",
       "      <td>3</td>\n",
       "      <td>3</td>\n",
       "      <td>15.0</td>\n",
       "    </tr>\n",
       "    <tr>\n",
       "      <th>3135</th>\n",
       "      <td>1487</td>\n",
       "      <td>12</td>\n",
       "      <td>11.763428</td>\n",
       "      <td>20.0</td>\n",
       "      <td>140.0</td>\n",
       "      <td>30.0</td>\n",
       "      <td>72</td>\n",
       "      <td>Кострома</td>\n",
       "      <td>smart</td>\n",
       "      <td>50</td>\n",
       "      <td>500</td>\n",
       "      <td>550</td>\n",
       "      <td>200</td>\n",
       "      <td>3</td>\n",
       "      <td>3</td>\n",
       "      <td>15.0</td>\n",
       "    </tr>\n",
       "    <tr>\n",
       "      <th>299</th>\n",
       "      <td>1048</td>\n",
       "      <td>12</td>\n",
       "      <td>7.985576</td>\n",
       "      <td>78.0</td>\n",
       "      <td>648.0</td>\n",
       "      <td>97.0</td>\n",
       "      <td>73</td>\n",
       "      <td>Новокузнецк</td>\n",
       "      <td>ultra</td>\n",
       "      <td>1000</td>\n",
       "      <td>3000</td>\n",
       "      <td>1950</td>\n",
       "      <td>150</td>\n",
       "      <td>1</td>\n",
       "      <td>1</td>\n",
       "      <td>30.0</td>\n",
       "    </tr>\n",
       "    <tr>\n",
       "      <th>1887</th>\n",
       "      <td>1299</td>\n",
       "      <td>3</td>\n",
       "      <td>21.136797</td>\n",
       "      <td>38.0</td>\n",
       "      <td>677.0</td>\n",
       "      <td>82.0</td>\n",
       "      <td>37</td>\n",
       "      <td>Уфа</td>\n",
       "      <td>smart</td>\n",
       "      <td>50</td>\n",
       "      <td>500</td>\n",
       "      <td>550</td>\n",
       "      <td>200</td>\n",
       "      <td>3</td>\n",
       "      <td>3</td>\n",
       "      <td>15.0</td>\n",
       "    </tr>\n",
       "  </tbody>\n",
       "</table>\n",
       "</div>"
      ],
      "text/plain": [
       "      user_id  month    gb_used  total_messages  call_duration  call_count  \\\n",
       "2412     1380     11  31.913867            27.0          562.0        94.0   \n",
       "2701     1423      5  16.493408            47.0          122.0        23.0   \n",
       "2157     1340     11  15.463506             9.0          508.0        69.0   \n",
       "1083     1171     11  15.909043            78.0          673.0        93.0   \n",
       "291      1046     12  21.327646            48.0          523.0        81.0   \n",
       "468      1073     10  16.454004            34.0          434.0        70.0   \n",
       "452      1071      4  16.090557            16.0          307.0        36.0   \n",
       "3135     1487     12  11.763428            20.0          140.0        30.0   \n",
       "299      1048     12   7.985576            78.0          648.0        97.0   \n",
       "1887     1299      3  21.136797            38.0          677.0        82.0   \n",
       "\n",
       "      age            city tariff  messages_included  minutes_included  \\\n",
       "2412   45  Ростов-на-Дону  ultra               1000              3000   \n",
       "2701   50       Астрахань  smart                 50               500   \n",
       "2157   50           Пенза  smart                 50               500   \n",
       "1083   47          Москва  smart                 50               500   \n",
       "291    72            Тула  smart                 50               500   \n",
       "468    63     Владикавказ  smart                 50               500   \n",
       "452    20            Омск  smart                 50               500   \n",
       "3135   72        Кострома  smart                 50               500   \n",
       "299    73     Новокузнецк  ultra               1000              3000   \n",
       "1887   37             Уфа  smart                 50               500   \n",
       "\n",
       "      rub_monthly_fee  rub_per_gb  rub_per_message  rub_per_minute  \\\n",
       "2412             1950         150                1               1   \n",
       "2701              550         200                3               3   \n",
       "2157              550         200                3               3   \n",
       "1083              550         200                3               3   \n",
       "291               550         200                3               3   \n",
       "468               550         200                3               3   \n",
       "452               550         200                3               3   \n",
       "3135              550         200                3               3   \n",
       "299              1950         150                1               1   \n",
       "1887              550         200                3               3   \n",
       "\n",
       "      gb_included  \n",
       "2412         30.0  \n",
       "2701         15.0  \n",
       "2157         15.0  \n",
       "1083         15.0  \n",
       "291          15.0  \n",
       "468          15.0  \n",
       "452          15.0  \n",
       "3135         15.0  \n",
       "299          30.0  \n",
       "1887         15.0  "
      ]
     },
     "execution_count": 42,
     "metadata": {},
     "output_type": "execute_result"
    }
   ],
   "source": [
    "df.sample(10)"
   ]
  },
  {
   "cell_type": "markdown",
   "metadata": {},
   "source": [
    "Let's check the new dataset for gaps and duplicates."
   ]
  },
  {
   "cell_type": "code",
   "execution_count": 43,
   "metadata": {},
   "outputs": [
    {
     "name": "stdout",
     "output_type": "stream",
     "text": [
      "<class 'pandas.core.frame.DataFrame'>\n",
      "Int64Index: 3214 entries, 0 to 3213\n",
      "Data columns (total 16 columns):\n",
      " #   Column             Non-Null Count  Dtype  \n",
      "---  ------             --------------  -----  \n",
      " 0   user_id            3214 non-null   int64  \n",
      " 1   month              3214 non-null   int64  \n",
      " 2   gb_used            3203 non-null   float64\n",
      " 3   total_messages     2717 non-null   float64\n",
      " 4   call_duration      3174 non-null   float64\n",
      " 5   call_count         3174 non-null   float64\n",
      " 6   age                3214 non-null   int64  \n",
      " 7   city               3214 non-null   object \n",
      " 8   tariff             3214 non-null   object \n",
      " 9   messages_included  3214 non-null   int64  \n",
      " 10  minutes_included   3214 non-null   int64  \n",
      " 11  rub_monthly_fee    3214 non-null   int64  \n",
      " 12  rub_per_gb         3214 non-null   int64  \n",
      " 13  rub_per_message    3214 non-null   int64  \n",
      " 14  rub_per_minute     3214 non-null   int64  \n",
      " 15  gb_included        3214 non-null   float64\n",
      "dtypes: float64(5), int64(9), object(2)\n",
      "memory usage: 426.9+ KB\n"
     ]
    }
   ],
   "source": [
    "df.info()"
   ]
  },
  {
   "cell_type": "code",
   "execution_count": 44,
   "metadata": {},
   "outputs": [
    {
     "name": "stdout",
     "output_type": "stream",
     "text": [
      "Number of duplicates in the dataset: 0\n"
     ]
    }
   ],
   "source": [
    "print ('Number of duplicates in the dataset:', df.duplicated().sum())"
   ]
  },
  {
   "cell_type": "markdown",
   "metadata": {},
   "source": [
    "As you can see, missing values appeared in the columns with used GB, minutes and SMS, which most likely indicate that the subscriber did not use these services in a particular month. So let's replace them with zeros."
   ]
  },
  {
   "cell_type": "code",
   "execution_count": 45,
   "metadata": {},
   "outputs": [],
   "source": [
    "df['gb_used'] = df['gb_used'].fillna(0)"
   ]
  },
  {
   "cell_type": "code",
   "execution_count": 46,
   "metadata": {},
   "outputs": [],
   "source": [
    "df['total_messages'] = df['total_messages'].fillna(0)"
   ]
  },
  {
   "cell_type": "code",
   "execution_count": 47,
   "metadata": {},
   "outputs": [],
   "source": [
    "df['call_duration'] = df['call_duration'].fillna(0)"
   ]
  },
  {
   "cell_type": "code",
   "execution_count": 48,
   "metadata": {},
   "outputs": [
    {
     "name": "stdout",
     "output_type": "stream",
     "text": [
      "<class 'pandas.core.frame.DataFrame'>\n",
      "Int64Index: 3214 entries, 0 to 3213\n",
      "Data columns (total 16 columns):\n",
      " #   Column             Non-Null Count  Dtype  \n",
      "---  ------             --------------  -----  \n",
      " 0   user_id            3214 non-null   int64  \n",
      " 1   month              3214 non-null   int64  \n",
      " 2   gb_used            3214 non-null   float64\n",
      " 3   total_messages     3214 non-null   float64\n",
      " 4   call_duration      3214 non-null   float64\n",
      " 5   call_count         3174 non-null   float64\n",
      " 6   age                3214 non-null   int64  \n",
      " 7   city               3214 non-null   object \n",
      " 8   tariff             3214 non-null   object \n",
      " 9   messages_included  3214 non-null   int64  \n",
      " 10  minutes_included   3214 non-null   int64  \n",
      " 11  rub_monthly_fee    3214 non-null   int64  \n",
      " 12  rub_per_gb         3214 non-null   int64  \n",
      " 13  rub_per_message    3214 non-null   int64  \n",
      " 14  rub_per_minute     3214 non-null   int64  \n",
      " 15  gb_included        3214 non-null   float64\n",
      "dtypes: float64(5), int64(9), object(2)\n",
      "memory usage: 426.9+ KB\n"
     ]
    }
   ],
   "source": [
    "#check again the number of gaps in the dataset\n",
    "df.info()"
   ]
  },
  {
   "cell_type": "markdown",
   "metadata": {},
   "source": [
    "The gap remained only in the 'churn_date' column, but as we remember, it should be so."
   ]
  },
  {
   "cell_type": "markdown",
   "metadata": {},
   "source": [
    "### Preparing data for analysis"
   ]
  },
  {
   "cell_type": "markdown",
   "metadata": {},
   "source": [
    "Let's calculate in the pivot table by months:\n",
    "- number of calls made and spent minutes of conversation;\n",
    "- the number of sent messages;\n",
    "- the amount of Internet traffic used."
   ]
  },
  {
   "cell_type": "code",
   "execution_count": 49,
   "metadata": {},
   "outputs": [
    {
     "data": {
      "text/html": [
       "<div>\n",
       "<style scoped>\n",
       "    .dataframe tbody tr th:only-of-type {\n",
       "        vertical-align: middle;\n",
       "    }\n",
       "\n",
       "    .dataframe tbody tr th {\n",
       "        vertical-align: top;\n",
       "    }\n",
       "\n",
       "    .dataframe thead tr th {\n",
       "        text-align: left;\n",
       "    }\n",
       "\n",
       "    .dataframe thead tr:last-of-type th {\n",
       "        text-align: right;\n",
       "    }\n",
       "</style>\n",
       "<table border=\"1\" class=\"dataframe\">\n",
       "  <thead>\n",
       "    <tr>\n",
       "      <th></th>\n",
       "      <th></th>\n",
       "      <th colspan=\"12\" halign=\"left\">sum</th>\n",
       "    </tr>\n",
       "    <tr>\n",
       "      <th></th>\n",
       "      <th></th>\n",
       "      <th>age</th>\n",
       "      <th>call_count</th>\n",
       "      <th>call_duration</th>\n",
       "      <th>gb_included</th>\n",
       "      <th>gb_used</th>\n",
       "      <th>messages_included</th>\n",
       "      <th>minutes_included</th>\n",
       "      <th>rub_monthly_fee</th>\n",
       "      <th>rub_per_gb</th>\n",
       "      <th>rub_per_message</th>\n",
       "      <th>rub_per_minute</th>\n",
       "      <th>total_messages</th>\n",
       "    </tr>\n",
       "    <tr>\n",
       "      <th>user_id</th>\n",
       "      <th>month</th>\n",
       "      <th></th>\n",
       "      <th></th>\n",
       "      <th></th>\n",
       "      <th></th>\n",
       "      <th></th>\n",
       "      <th></th>\n",
       "      <th></th>\n",
       "      <th></th>\n",
       "      <th></th>\n",
       "      <th></th>\n",
       "      <th></th>\n",
       "      <th></th>\n",
       "    </tr>\n",
       "  </thead>\n",
       "  <tbody>\n",
       "    <tr>\n",
       "      <th rowspan=\"5\" valign=\"top\">1000</th>\n",
       "      <th>5</th>\n",
       "      <td>52</td>\n",
       "      <td>22.0</td>\n",
       "      <td>150.0</td>\n",
       "      <td>30.0</td>\n",
       "      <td>2.200674</td>\n",
       "      <td>1000</td>\n",
       "      <td>3000</td>\n",
       "      <td>1950</td>\n",
       "      <td>150</td>\n",
       "      <td>1</td>\n",
       "      <td>1</td>\n",
       "      <td>22.0</td>\n",
       "    </tr>\n",
       "    <tr>\n",
       "      <th>6</th>\n",
       "      <td>52</td>\n",
       "      <td>43.0</td>\n",
       "      <td>158.0</td>\n",
       "      <td>30.0</td>\n",
       "      <td>22.689229</td>\n",
       "      <td>1000</td>\n",
       "      <td>3000</td>\n",
       "      <td>1950</td>\n",
       "      <td>150</td>\n",
       "      <td>1</td>\n",
       "      <td>1</td>\n",
       "      <td>60.0</td>\n",
       "    </tr>\n",
       "    <tr>\n",
       "      <th>7</th>\n",
       "      <td>52</td>\n",
       "      <td>47.0</td>\n",
       "      <td>318.0</td>\n",
       "      <td>30.0</td>\n",
       "      <td>13.675430</td>\n",
       "      <td>1000</td>\n",
       "      <td>3000</td>\n",
       "      <td>1950</td>\n",
       "      <td>150</td>\n",
       "      <td>1</td>\n",
       "      <td>1</td>\n",
       "      <td>75.0</td>\n",
       "    </tr>\n",
       "    <tr>\n",
       "      <th>8</th>\n",
       "      <td>52</td>\n",
       "      <td>52.0</td>\n",
       "      <td>389.0</td>\n",
       "      <td>30.0</td>\n",
       "      <td>13.726494</td>\n",
       "      <td>1000</td>\n",
       "      <td>3000</td>\n",
       "      <td>1950</td>\n",
       "      <td>150</td>\n",
       "      <td>1</td>\n",
       "      <td>1</td>\n",
       "      <td>81.0</td>\n",
       "    </tr>\n",
       "    <tr>\n",
       "      <th>9</th>\n",
       "      <td>52</td>\n",
       "      <td>58.0</td>\n",
       "      <td>440.0</td>\n",
       "      <td>30.0</td>\n",
       "      <td>14.227451</td>\n",
       "      <td>1000</td>\n",
       "      <td>3000</td>\n",
       "      <td>1950</td>\n",
       "      <td>150</td>\n",
       "      <td>1</td>\n",
       "      <td>1</td>\n",
       "      <td>57.0</td>\n",
       "    </tr>\n",
       "    <tr>\n",
       "      <th>...</th>\n",
       "      <th>...</th>\n",
       "      <td>...</td>\n",
       "      <td>...</td>\n",
       "      <td>...</td>\n",
       "      <td>...</td>\n",
       "      <td>...</td>\n",
       "      <td>...</td>\n",
       "      <td>...</td>\n",
       "      <td>...</td>\n",
       "      <td>...</td>\n",
       "      <td>...</td>\n",
       "      <td>...</td>\n",
       "      <td>...</td>\n",
       "    </tr>\n",
       "    <tr>\n",
       "      <th>1498</th>\n",
       "      <th>10</th>\n",
       "      <td>68</td>\n",
       "      <td>41.0</td>\n",
       "      <td>232.0</td>\n",
       "      <td>15.0</td>\n",
       "      <td>20.097031</td>\n",
       "      <td>50</td>\n",
       "      <td>500</td>\n",
       "      <td>550</td>\n",
       "      <td>200</td>\n",
       "      <td>3</td>\n",
       "      <td>3</td>\n",
       "      <td>42.0</td>\n",
       "    </tr>\n",
       "    <tr>\n",
       "      <th rowspan=\"4\" valign=\"top\">1499</th>\n",
       "      <th>9</th>\n",
       "      <td>35</td>\n",
       "      <td>9.0</td>\n",
       "      <td>64.0</td>\n",
       "      <td>15.0</td>\n",
       "      <td>1.802490</td>\n",
       "      <td>50</td>\n",
       "      <td>500</td>\n",
       "      <td>550</td>\n",
       "      <td>200</td>\n",
       "      <td>3</td>\n",
       "      <td>3</td>\n",
       "      <td>11.0</td>\n",
       "    </tr>\n",
       "    <tr>\n",
       "      <th>10</th>\n",
       "      <td>35</td>\n",
       "      <td>68.0</td>\n",
       "      <td>429.0</td>\n",
       "      <td>15.0</td>\n",
       "      <td>17.371592</td>\n",
       "      <td>50</td>\n",
       "      <td>500</td>\n",
       "      <td>550</td>\n",
       "      <td>200</td>\n",
       "      <td>3</td>\n",
       "      <td>3</td>\n",
       "      <td>48.0</td>\n",
       "    </tr>\n",
       "    <tr>\n",
       "      <th>11</th>\n",
       "      <td>35</td>\n",
       "      <td>74.0</td>\n",
       "      <td>576.0</td>\n",
       "      <td>15.0</td>\n",
       "      <td>17.542295</td>\n",
       "      <td>50</td>\n",
       "      <td>500</td>\n",
       "      <td>550</td>\n",
       "      <td>200</td>\n",
       "      <td>3</td>\n",
       "      <td>3</td>\n",
       "      <td>59.0</td>\n",
       "    </tr>\n",
       "    <tr>\n",
       "      <th>12</th>\n",
       "      <td>35</td>\n",
       "      <td>69.0</td>\n",
       "      <td>465.0</td>\n",
       "      <td>15.0</td>\n",
       "      <td>12.749590</td>\n",
       "      <td>50</td>\n",
       "      <td>500</td>\n",
       "      <td>550</td>\n",
       "      <td>200</td>\n",
       "      <td>3</td>\n",
       "      <td>3</td>\n",
       "      <td>66.0</td>\n",
       "    </tr>\n",
       "  </tbody>\n",
       "</table>\n",
       "<p>3214 rows × 12 columns</p>\n",
       "</div>"
      ],
      "text/plain": [
       "              sum                                                  \\\n",
       "              age call_count call_duration gb_included    gb_used   \n",
       "user_id month                                                       \n",
       "1000    5      52       22.0         150.0        30.0   2.200674   \n",
       "        6      52       43.0         158.0        30.0  22.689229   \n",
       "        7      52       47.0         318.0        30.0  13.675430   \n",
       "        8      52       52.0         389.0        30.0  13.726494   \n",
       "        9      52       58.0         440.0        30.0  14.227451   \n",
       "...            ..        ...           ...         ...        ...   \n",
       "1498    10     68       41.0         232.0        15.0  20.097031   \n",
       "1499    9      35        9.0          64.0        15.0   1.802490   \n",
       "        10     35       68.0         429.0        15.0  17.371592   \n",
       "        11     35       74.0         576.0        15.0  17.542295   \n",
       "        12     35       69.0         465.0        15.0  12.749590   \n",
       "\n",
       "                                                                             \\\n",
       "              messages_included minutes_included rub_monthly_fee rub_per_gb   \n",
       "user_id month                                                                 \n",
       "1000    5                  1000             3000            1950        150   \n",
       "        6                  1000             3000            1950        150   \n",
       "        7                  1000             3000            1950        150   \n",
       "        8                  1000             3000            1950        150   \n",
       "        9                  1000             3000            1950        150   \n",
       "...                         ...              ...             ...        ...   \n",
       "1498    10                   50              500             550        200   \n",
       "1499    9                    50              500             550        200   \n",
       "        10                   50              500             550        200   \n",
       "        11                   50              500             550        200   \n",
       "        12                   50              500             550        200   \n",
       "\n",
       "                                                             \n",
       "              rub_per_message rub_per_minute total_messages  \n",
       "user_id month                                                \n",
       "1000    5                   1              1           22.0  \n",
       "        6                   1              1           60.0  \n",
       "        7                   1              1           75.0  \n",
       "        8                   1              1           81.0  \n",
       "        9                   1              1           57.0  \n",
       "...                       ...            ...            ...  \n",
       "1498    10                  3              3           42.0  \n",
       "1499    9                   3              3           11.0  \n",
       "        10                  3              3           48.0  \n",
       "        11                  3              3           59.0  \n",
       "        12                  3              3           66.0  \n",
       "\n",
       "[3214 rows x 12 columns]"
      ]
     },
     "metadata": {},
     "output_type": "display_data"
    }
   ],
   "source": [
    "display(df.pivot_table(index=['user_id', 'month'], aggfunc=['sum']))"
   ]
  },
  {
   "cell_type": "markdown",
   "metadata": {},
   "source": [
    "Let's write a function to calculate the monthly revenue from each user."
   ]
  },
  {
   "cell_type": "code",
   "execution_count": 50,
   "metadata": {},
   "outputs": [],
   "source": [
    "def monthly_income(row):\n",
    "    # add the cost of the tariff immediately\n",
    "    price = row['rub_monthly_fee']\n",
    "    #calculate the amount for overspending calls\n",
    "    if row['call_duration'] > row['minutes_included']:\n",
    "        price += (row['call_duration'] - row['minutes_included']) * row['rub_per_minute']\n",
    "    #do the same for messages\n",
    "    if row['total_messages'] > row['messages_included']:\n",
    "        price += (row['total_messages'] - row['messages_included']) * row['rub_per_message']\n",
    "    #and calculate the cost of additional traffic\n",
    "    if row['gb_used'] > row['gb_included']:\n",
    "        price += (row['gb_used'] - row['gb_included']) * row['rub_per_gb']\n",
    "    return price"
   ]
  },
  {
   "cell_type": "code",
   "execution_count": 51,
   "metadata": {},
   "outputs": [],
   "source": [
    "df['monthly_income'] = df.apply(monthly_income, axis=1)"
   ]
  },
  {
   "cell_type": "code",
   "execution_count": 52,
   "metadata": {},
   "outputs": [
    {
     "data": {
      "text/plain": [
       "count    3214.000000\n",
       "mean     1461.596724\n",
       "std       777.924452\n",
       "min       550.000000\n",
       "25%       655.750000\n",
       "50%      1513.160156\n",
       "75%      1950.000000\n",
       "max      6540.775391\n",
       "Name: monthly_income, dtype: float64"
      ]
     },
     "execution_count": 52,
     "metadata": {},
     "output_type": "execute_result"
    }
   ],
   "source": [
    "df['monthly_income'].describe()"
   ]
  },
  {
   "cell_type": "code",
   "execution_count": 53,
   "metadata": {
    "scrolled": true
   },
   "outputs": [
    {
     "data": {
      "text/html": [
       "<div>\n",
       "<style scoped>\n",
       "    .dataframe tbody tr th:only-of-type {\n",
       "        vertical-align: middle;\n",
       "    }\n",
       "\n",
       "    .dataframe tbody tr th {\n",
       "        vertical-align: top;\n",
       "    }\n",
       "\n",
       "    .dataframe thead th {\n",
       "        text-align: right;\n",
       "    }\n",
       "</style>\n",
       "<table border=\"1\" class=\"dataframe\">\n",
       "  <thead>\n",
       "    <tr style=\"text-align: right;\">\n",
       "      <th></th>\n",
       "      <th>user_id</th>\n",
       "      <th>month</th>\n",
       "      <th>gb_used</th>\n",
       "      <th>total_messages</th>\n",
       "      <th>call_duration</th>\n",
       "      <th>call_count</th>\n",
       "      <th>age</th>\n",
       "      <th>city</th>\n",
       "      <th>tariff</th>\n",
       "      <th>messages_included</th>\n",
       "      <th>minutes_included</th>\n",
       "      <th>rub_monthly_fee</th>\n",
       "      <th>rub_per_gb</th>\n",
       "      <th>rub_per_message</th>\n",
       "      <th>rub_per_minute</th>\n",
       "      <th>gb_included</th>\n",
       "      <th>monthly_income</th>\n",
       "    </tr>\n",
       "  </thead>\n",
       "  <tbody>\n",
       "    <tr>\n",
       "      <th>2586</th>\n",
       "      <td>1404</td>\n",
       "      <td>6</td>\n",
       "      <td>16.086699</td>\n",
       "      <td>57.0</td>\n",
       "      <td>183.0</td>\n",
       "      <td>29.0</td>\n",
       "      <td>61</td>\n",
       "      <td>Иркутск</td>\n",
       "      <td>smart</td>\n",
       "      <td>50</td>\n",
       "      <td>500</td>\n",
       "      <td>550</td>\n",
       "      <td>200</td>\n",
       "      <td>3</td>\n",
       "      <td>3</td>\n",
       "      <td>15.0</td>\n",
       "      <td>788.339844</td>\n",
       "    </tr>\n",
       "    <tr>\n",
       "      <th>108</th>\n",
       "      <td>1015</td>\n",
       "      <td>4</td>\n",
       "      <td>0.720830</td>\n",
       "      <td>3.0</td>\n",
       "      <td>9.0</td>\n",
       "      <td>2.0</td>\n",
       "      <td>26</td>\n",
       "      <td>Челябинск</td>\n",
       "      <td>smart</td>\n",
       "      <td>50</td>\n",
       "      <td>500</td>\n",
       "      <td>550</td>\n",
       "      <td>200</td>\n",
       "      <td>3</td>\n",
       "      <td>3</td>\n",
       "      <td>15.0</td>\n",
       "      <td>550.000000</td>\n",
       "    </tr>\n",
       "    <tr>\n",
       "      <th>1697</th>\n",
       "      <td>1268</td>\n",
       "      <td>10</td>\n",
       "      <td>18.781729</td>\n",
       "      <td>45.0</td>\n",
       "      <td>279.0</td>\n",
       "      <td>37.0</td>\n",
       "      <td>18</td>\n",
       "      <td>Москва</td>\n",
       "      <td>smart</td>\n",
       "      <td>50</td>\n",
       "      <td>500</td>\n",
       "      <td>550</td>\n",
       "      <td>200</td>\n",
       "      <td>3</td>\n",
       "      <td>3</td>\n",
       "      <td>15.0</td>\n",
       "      <td>1306.345703</td>\n",
       "    </tr>\n",
       "    <tr>\n",
       "      <th>349</th>\n",
       "      <td>1055</td>\n",
       "      <td>9</td>\n",
       "      <td>18.370625</td>\n",
       "      <td>31.0</td>\n",
       "      <td>439.0</td>\n",
       "      <td>65.0</td>\n",
       "      <td>39</td>\n",
       "      <td>Казань</td>\n",
       "      <td>smart</td>\n",
       "      <td>50</td>\n",
       "      <td>500</td>\n",
       "      <td>550</td>\n",
       "      <td>200</td>\n",
       "      <td>3</td>\n",
       "      <td>3</td>\n",
       "      <td>15.0</td>\n",
       "      <td>1224.125000</td>\n",
       "    </tr>\n",
       "    <tr>\n",
       "      <th>28</th>\n",
       "      <td>1004</td>\n",
       "      <td>11</td>\n",
       "      <td>15.250020</td>\n",
       "      <td>158.0</td>\n",
       "      <td>109.0</td>\n",
       "      <td>19.0</td>\n",
       "      <td>68</td>\n",
       "      <td>Новокузнецк</td>\n",
       "      <td>ultra</td>\n",
       "      <td>1000</td>\n",
       "      <td>3000</td>\n",
       "      <td>1950</td>\n",
       "      <td>150</td>\n",
       "      <td>1</td>\n",
       "      <td>1</td>\n",
       "      <td>30.0</td>\n",
       "      <td>1950.000000</td>\n",
       "    </tr>\n",
       "    <tr>\n",
       "      <th>2927</th>\n",
       "      <td>1457</td>\n",
       "      <td>12</td>\n",
       "      <td>21.184531</td>\n",
       "      <td>36.0</td>\n",
       "      <td>467.0</td>\n",
       "      <td>66.0</td>\n",
       "      <td>35</td>\n",
       "      <td>Саратов</td>\n",
       "      <td>smart</td>\n",
       "      <td>50</td>\n",
       "      <td>500</td>\n",
       "      <td>550</td>\n",
       "      <td>200</td>\n",
       "      <td>3</td>\n",
       "      <td>3</td>\n",
       "      <td>15.0</td>\n",
       "      <td>1786.906250</td>\n",
       "    </tr>\n",
       "    <tr>\n",
       "      <th>1100</th>\n",
       "      <td>1174</td>\n",
       "      <td>2</td>\n",
       "      <td>11.067764</td>\n",
       "      <td>19.0</td>\n",
       "      <td>111.0</td>\n",
       "      <td>18.0</td>\n",
       "      <td>29</td>\n",
       "      <td>Санкт-Петербург</td>\n",
       "      <td>smart</td>\n",
       "      <td>50</td>\n",
       "      <td>500</td>\n",
       "      <td>550</td>\n",
       "      <td>200</td>\n",
       "      <td>3</td>\n",
       "      <td>3</td>\n",
       "      <td>15.0</td>\n",
       "      <td>550.000000</td>\n",
       "    </tr>\n",
       "    <tr>\n",
       "      <th>2059</th>\n",
       "      <td>1326</td>\n",
       "      <td>7</td>\n",
       "      <td>16.598359</td>\n",
       "      <td>29.0</td>\n",
       "      <td>263.0</td>\n",
       "      <td>29.0</td>\n",
       "      <td>37</td>\n",
       "      <td>Санкт-Петербург</td>\n",
       "      <td>smart</td>\n",
       "      <td>50</td>\n",
       "      <td>500</td>\n",
       "      <td>550</td>\n",
       "      <td>200</td>\n",
       "      <td>3</td>\n",
       "      <td>3</td>\n",
       "      <td>15.0</td>\n",
       "      <td>869.671875</td>\n",
       "    </tr>\n",
       "    <tr>\n",
       "      <th>384</th>\n",
       "      <td>1061</td>\n",
       "      <td>7</td>\n",
       "      <td>9.004775</td>\n",
       "      <td>6.0</td>\n",
       "      <td>287.0</td>\n",
       "      <td>51.0</td>\n",
       "      <td>41</td>\n",
       "      <td>Санкт-Петербург</td>\n",
       "      <td>smart</td>\n",
       "      <td>50</td>\n",
       "      <td>500</td>\n",
       "      <td>550</td>\n",
       "      <td>200</td>\n",
       "      <td>3</td>\n",
       "      <td>3</td>\n",
       "      <td>15.0</td>\n",
       "      <td>550.000000</td>\n",
       "    </tr>\n",
       "    <tr>\n",
       "      <th>1727</th>\n",
       "      <td>1274</td>\n",
       "      <td>10</td>\n",
       "      <td>15.705146</td>\n",
       "      <td>84.0</td>\n",
       "      <td>691.0</td>\n",
       "      <td>83.0</td>\n",
       "      <td>53</td>\n",
       "      <td>Волгоград</td>\n",
       "      <td>smart</td>\n",
       "      <td>50</td>\n",
       "      <td>500</td>\n",
       "      <td>550</td>\n",
       "      <td>200</td>\n",
       "      <td>3</td>\n",
       "      <td>3</td>\n",
       "      <td>15.0</td>\n",
       "      <td>1366.029297</td>\n",
       "    </tr>\n",
       "  </tbody>\n",
       "</table>\n",
       "</div>"
      ],
      "text/plain": [
       "      user_id  month    gb_used  total_messages  call_duration  call_count  \\\n",
       "2586     1404      6  16.086699            57.0          183.0        29.0   \n",
       "108      1015      4   0.720830             3.0            9.0         2.0   \n",
       "1697     1268     10  18.781729            45.0          279.0        37.0   \n",
       "349      1055      9  18.370625            31.0          439.0        65.0   \n",
       "28       1004     11  15.250020           158.0          109.0        19.0   \n",
       "2927     1457     12  21.184531            36.0          467.0        66.0   \n",
       "1100     1174      2  11.067764            19.0          111.0        18.0   \n",
       "2059     1326      7  16.598359            29.0          263.0        29.0   \n",
       "384      1061      7   9.004775             6.0          287.0        51.0   \n",
       "1727     1274     10  15.705146            84.0          691.0        83.0   \n",
       "\n",
       "      age             city tariff  messages_included  minutes_included  \\\n",
       "2586   61          Иркутск  smart                 50               500   \n",
       "108    26        Челябинск  smart                 50               500   \n",
       "1697   18           Москва  smart                 50               500   \n",
       "349    39           Казань  smart                 50               500   \n",
       "28     68      Новокузнецк  ultra               1000              3000   \n",
       "2927   35          Саратов  smart                 50               500   \n",
       "1100   29  Санкт-Петербург  smart                 50               500   \n",
       "2059   37  Санкт-Петербург  smart                 50               500   \n",
       "384    41  Санкт-Петербург  smart                 50               500   \n",
       "1727   53        Волгоград  smart                 50               500   \n",
       "\n",
       "      rub_monthly_fee  rub_per_gb  rub_per_message  rub_per_minute  \\\n",
       "2586              550         200                3               3   \n",
       "108               550         200                3               3   \n",
       "1697              550         200                3               3   \n",
       "349               550         200                3               3   \n",
       "28               1950         150                1               1   \n",
       "2927              550         200                3               3   \n",
       "1100              550         200                3               3   \n",
       "2059              550         200                3               3   \n",
       "384               550         200                3               3   \n",
       "1727              550         200                3               3   \n",
       "\n",
       "      gb_included  monthly_income  \n",
       "2586         15.0      788.339844  \n",
       "108          15.0      550.000000  \n",
       "1697         15.0     1306.345703  \n",
       "349          15.0     1224.125000  \n",
       "28           30.0     1950.000000  \n",
       "2927         15.0     1786.906250  \n",
       "1100         15.0      550.000000  \n",
       "2059         15.0      869.671875  \n",
       "384          15.0      550.000000  \n",
       "1727         15.0     1366.029297  "
      ]
     },
     "execution_count": 53,
     "metadata": {},
     "output_type": "execute_result"
    }
   ],
   "source": [
    "df.sample(10)"
   ]
  },
  {
   "cell_type": "markdown",
   "metadata": {},
   "source": [
    "### Section Conclusion"
   ]
  },
  {
   "cell_type": "markdown",
   "metadata": {},
   "source": [
    "1. Data preprocessing was carried out:\n",
    "    - brought data in date columns to datetime type;\n",
    "    - added month columns to datasets with calls, messages and internet sessions;\n",
    "    - rounded up the data in the columns with minutes and Internet traffic;\n",
    "    - converted MB to GB;\n",
    "    - grouped the data and combined them into a new dataset;\n",
    "    - removed columns from the new dataset that will not be used in further analysis;\n",
    "2. Prepared data for analysis:\n",
    "    - calculated in the summary table by month:\n",
    "        1. number of calls made and spent minutes of conversation;\n",
    "        2. the number of sent messages;\n",
    "        3. the amount of Internet traffic used;\n",
    "    - calculated the monthly revenue from each user.\n",
    "<br>\n",
    "<br>"
   ]
  },
  {
   "cell_type": "markdown",
   "metadata": {},
   "source": [
    "## Data analysis"
   ]
  },
  {
   "cell_type": "markdown",
   "metadata": {},
   "source": [
    "In this section, we will analyze the data, namely:\n",
    "- how many minutes of conversation, how many messages and what volume of Internet traffic is required for users of each tariff per month?\n",
    "- calculate the mean, variance and standard deviation;\n",
    "- build histograms;\n",
    "- Describe the distributions."
   ]
  },
  {
   "cell_type": "markdown",
   "metadata": {},
   "source": [
    "### Number of users of different tariffs"
   ]
  },
  {
   "cell_type": "markdown",
   "metadata": {},
   "source": [
    "Let's see the distribution of users on the histogram depending on the tariff used."
   ]
  },
  {
   "cell_type": "code",
   "execution_count": 54,
   "metadata": {},
   "outputs": [
    {
     "data": {
      "image/png": "[encoded data removed]",
      "text/plain": [
       "<Figure size 432x432 with 1 Axes>"
      ]
     },
     "metadata": {},
     "output_type": "display_data"
    }
   ],
   "source": [
    "df.pivot_table(index='tariff', values='user_id', aggfunc = 'count')\\\n",
    ".plot(kind='pie', subplots = True, fontsize=12, figsize= (6,6), title = 'Number of users',\\\n",
    "     autopct =lambda p: '{:.0f}%'.format(p))\n",
    "plt.show()"
   ]
  },
  {
   "cell_type": "markdown",
   "metadata": {},
   "source": [
    "As you can see on the histogram, there are more than 2 times more Smart tariff users than Ultra tariff users."
   ]
  },
  {
   "cell_type": "markdown",
   "metadata": {},
   "source": [
    "For convenience, we distinguish two groups of users depending on the tariff they use."
   ]
  },
  {
   "cell_type": "code",
   "execution_count": 55,
   "metadata": {},
   "outputs": [],
   "source": [
    "df_smart = df.query('tariff == \"smart\"')\n",
    "df_ultra = df.query('tariff == \"ultra\"')"
   ]
  },
  {
   "cell_type": "markdown",
   "metadata": {},
   "source": [
    "### Call duration depending on the tariff"
   ]
  },
  {
   "cell_type": "code",
   "execution_count": 56,
   "metadata": {},
   "outputs": [
    {
     "data": {
      "text/plain": [
       "count    2229.000000\n",
       "mean      393.929565\n",
       "std       179.969846\n",
       "min         0.000000\n",
       "25%       267.000000\n",
       "50%       397.000000\n",
       "75%       515.000000\n",
       "max      1354.000000\n",
       "Name: call_duration, dtype: float64"
      ]
     },
     "metadata": {},
     "output_type": "display_data"
    },
    {
     "name": "stdout",
     "output_type": "stream",
     "text": [
      "The dispersion is: 32375.0\n"
     ]
    }
   ],
   "source": [
    "#look at the description and variance for the Smart tariff\n",
    "display(df_smart['call_duration'].describe())\n",
    "print('The dispersion is:', np.var(df_smart['call_duration']).round())"
   ]
  },
  {
   "cell_type": "markdown",
   "metadata": {},
   "source": [
    "As you can see, the median and mean are almost the same, but the standard deviation is high, which indicates a large scatter in the data."
   ]
  },
  {
   "cell_type": "code",
   "execution_count": 57,
   "metadata": {},
   "outputs": [
    {
     "data": {
      "text/plain": [
       "count     985.000000\n",
       "mean      496.588832\n",
       "std       299.864584\n",
       "min         0.000000\n",
       "25%       267.000000\n",
       "50%       488.000000\n",
       "75%       711.000000\n",
       "max      1578.000000\n",
       "Name: call_duration, dtype: float64"
      ]
     },
     "metadata": {},
     "output_type": "display_data"
    },
    {
     "name": "stdout",
     "output_type": "stream",
     "text": [
      "The dispersion is: 89827.0\n"
     ]
    }
   ],
   "source": [
    "#look at the description for the Ultra tariff\n",
    "display(df_ultra['call_duration'].describe())\n",
    "print('The dispersion is:', np.var(df_ultra['call_duration']).round())"
   ]
  },
  {
   "cell_type": "markdown",
   "metadata": {},
   "source": [
    "Everything is exactly the same as in the previous tariff: the median and mean are almost the same, and the standard deviation is even higher here."
   ]
  },
  {
   "cell_type": "markdown",
   "metadata": {},
   "source": [
    "For convenience, let's create a function to call histograms, because Next, we will build histograms for messages and Internet traffic."
   ]
  },
  {
   "cell_type": "code",
   "execution_count": 58,
   "metadata": {},
   "outputs": [],
   "source": [
    "def histograms(df_smart, df_ultra, name, bins, length):\n",
    "    ax = (df_smart\n",
    "          .plot(kind = 'hist',\n",
    "                bins = bins,\n",
    "                range = length,\n",
    "                alpha = 0.7,\n",
    "                grid = True,\n",
    "                density = True,\n",
    "                legend = True,\n",
    "                linewidth = 3,\n",
    "                figsize=(12,6),\n",
    "                label = 'smart')\n",
    "         )\n",
    "    (df_ultra\n",
    "     .plot(kind = 'hist',\n",
    "           ax = ax,\n",
    "           bins = bins,\n",
    "           range = length,\n",
    "           alpha = 0.6,\n",
    "           grid = True,\n",
    "           density = True,\n",
    "           legend = True,\n",
    "           linewidth = 3,\n",
    "           figsize=(12,6),\n",
    "           label = 'ultra')\n",
    "    )\n",
    "\n",
    "    ax.set_title(name, fontsize=12)\n",
    "    ax.set_xlabel(name, fontsize=12)\n",
    "    ax.set_ylabel('Value Frequency', fontsize=12)\n",
    "    plt.show()"
   ]
  },
  {
   "cell_type": "code",
   "execution_count": 59,
   "metadata": {},
   "outputs": [
    {
     "data": {
      "image/png": "[encoded data removed]",
      "text/plain": [
       "<Figure size 864x432 with 1 Axes>"
      ]
     },
     "metadata": {
      "needs_background": "light"
     },
     "output_type": "display_data"
    }
   ],
   "source": [
    "histograms(df_smart['call_duration'], df_ultra['call_duration'], 'Talk time (min)', bins = 30, length = (0, 1500))"
   ]
  },
  {
   "cell_type": "markdown",
   "metadata": {},
   "source": [
    "Most Smart subscribers are within their 500 minute limit and only a few pay for additional minutes. Most speak for 400 to 500 minutes per month, which is just within the mean and median values.<br>\n",
    "The histogram shows that the Ultra tariff has a more even distribution.<br>\n",
    "On the Ultra tariff, subscribers talk more, but no one uses their limit of 3000 minutes in full. At the same time, it is clear that the Ultra tariff has significantly more calls up to 200 minutes per month than the Smart tariff."
   ]
  },
  {
   "cell_type": "markdown",
   "metadata": {},
   "source": [
    "Let's look at the share of subscribers exceeding the limits per month by minutes."
   ]
  },
  {
   "cell_type": "code",
   "execution_count": 60,
   "metadata": {},
   "outputs": [
    {
     "name": "stdout",
     "output_type": "stream",
     "text": [
      "Exceeding the limit by minutes on the Smart tariff: 0.28\n",
      "Exceeding the limit by minutes on the Ultra tariff: 0.0\n"
     ]
    }
   ],
   "source": [
    "print('Exceeding the limit by minutes on the Smart tariff:',\n",
    "      (df_smart.query('call_duration > 500')['call_duration'].count()\n",
    "      /len(df_smart)).round(2))\n",
    "print('Exceeding the limit by minutes on the Ultra tariff:',\n",
    "      (df_ultra.query('call_duration > 3000')['call_duration'].count()\n",
    "      /len(df_ultra)).round(2))"
   ]
  },
  {
   "cell_type": "markdown",
   "metadata": {},
   "source": [
    "34% of Smart tariff subscribers exceed their monthly limit by minutes."
   ]
  },
  {
   "cell_type": "markdown",
   "metadata": {},
   "source": [
    "### Number of messages depending on the tariff"
   ]
  },
  {
   "cell_type": "code",
   "execution_count": 61,
   "metadata": {},
   "outputs": [
    {
     "data": {
      "text/plain": [
       "count    2229.000000\n",
       "mean       33.384029\n",
       "std        28.227876\n",
       "min         0.000000\n",
       "25%        10.000000\n",
       "50%        28.000000\n",
       "75%        51.000000\n",
       "max       143.000000\n",
       "Name: total_messages, dtype: float64"
      ]
     },
     "metadata": {},
     "output_type": "display_data"
    },
    {
     "name": "stdout",
     "output_type": "stream",
     "text": [
      "The dispersion is: 796.0\n"
     ]
    }
   ],
   "source": [
    "#look at the description for the Smart tariff\n",
    "display(df_smart['total_messages'].describe())\n",
    "print('The dispersion is:', np.var(df_smart['total_messages']).round())"
   ]
  },
  {
   "cell_type": "code",
   "execution_count": 62,
   "metadata": {},
   "outputs": [
    {
     "data": {
      "text/plain": [
       "count    985.000000\n",
       "mean      49.363452\n",
       "std       47.804457\n",
       "min        0.000000\n",
       "25%        6.000000\n",
       "50%       38.000000\n",
       "75%       79.000000\n",
       "max      224.000000\n",
       "Name: total_messages, dtype: float64"
      ]
     },
     "metadata": {},
     "output_type": "display_data"
    },
    {
     "name": "stdout",
     "output_type": "stream",
     "text": [
      "The dispersion is: 2283.0\n"
     ]
    }
   ],
   "source": [
    "#look at the description for the Ultra tariff\n",
    "display(df_ultra['total_messages'].describe())\n",
    "print('The dispersion is:', np.var(df_ultra['total_messages']).round())"
   ]
  },
  {
   "cell_type": "markdown",
   "metadata": {},
   "source": [
    "For both rates, the mean is greater than the median. The standard deviation of the Ultra fare is significantly larger than that of the Smart fare, indicating a larger spread.<br>\n",
    "But in general, based on the description, we can conclude that SMS is practically not used anymore."
   ]
  },
  {
   "cell_type": "code",
   "execution_count": 63,
   "metadata": {},
   "outputs": [
    {
     "data": {
      "image/png": "[encoded data removed]",
      "text/plain": [
       "<Figure size 864x432 with 1 Axes>"
      ]
     },
     "metadata": {
      "needs_background": "light"
     },
     "output_type": "display_data"
    }
   ],
   "source": [
    "#build a histogram\n",
    "histograms(df_smart['total_messages'], df_ultra['total_messages'], 'Number of messages', bins = 15, length = (0, 200))"
   ]
  },
  {
   "cell_type": "markdown",
   "metadata": {},
   "source": [
    "Most of the values are in the range from 0 to 15 values, which most likely means correspondence with banks, yes NPS surveys. The remaining subscribers use an average of up to 75 messages per month.<br>\n",
    "On the Ultra plan, SMS is used more often, but no one even comes close to the 1000 message limit.<br>\n",
    "But on the Smart tariff, a considerable number of users exceed their limit of 50 SMS."
   ]
  },
  {
   "cell_type": "markdown",
   "metadata": {},
   "source": [
    "Let's look at the number of subscribers exceeding the limits per month reported."
   ]
  },
  {
   "cell_type": "code",
   "execution_count": 64,
   "metadata": {},
   "outputs": [
    {
     "name": "stdout",
     "output_type": "stream",
     "text": [
      "Exceeding the limit on messages on the Smart tariff: 0.25\n",
      "Exceeding the limit on messages on the Ultra tariff: 0.0\n"
     ]
    }
   ],
   "source": [
    "print('Exceeding the limit on messages on the Smart tariff:',\n",
    "      (df_smart.query('total_messages > 50')['total_messages'].count()\n",
    "      /len(df_smart)).round(2))\n",
    "print('Exceeding the limit on messages on the Ultra tariff:',\n",
    "      (df_ultra.query('total_messages > 1000')['total_messages'].count()\n",
    "      /len(df_ultra)).round(2))"
   ]
  },
  {
   "cell_type": "markdown",
   "metadata": {},
   "source": [
    "On the Smart tariff, 25% of subscribers exceed the limit by messages, which is lower than the number of those exceeding the limit by minutes."
   ]
  },
  {
   "cell_type": "markdown",
   "metadata": {},
   "source": [
    "### Internet traffic consumption depending on the tariff"
   ]
  },
  {
   "cell_type": "code",
   "execution_count": 65,
   "metadata": {},
   "outputs": [
    {
     "data": {
      "text/plain": [
       "count    2229.000000\n",
       "mean       15.828503\n",
       "std         5.732887\n",
       "min         0.000000\n",
       "25%        12.346689\n",
       "50%        16.119961\n",
       "75%        19.573174\n",
       "max        37.648877\n",
       "Name: gb_used, dtype: float64"
      ]
     },
     "metadata": {},
     "output_type": "display_data"
    },
    {
     "name": "stdout",
     "output_type": "stream",
     "text": [
      "The dispersion is: 33.0\n"
     ]
    }
   ],
   "source": [
    "#look at the description for the Smart tariff\n",
    "display(df_smart['gb_used'].describe())\n",
    "print('The dispersion is:', np.var(df_smart['gb_used']).round())"
   ]
  },
  {
   "cell_type": "code",
   "execution_count": 66,
   "metadata": {},
   "outputs": [
    {
     "data": {
      "text/plain": [
       "count    985.000000\n",
       "mean      19.012505\n",
       "std        9.850753\n",
       "min        0.000000\n",
       "25%       11.494395\n",
       "50%       18.855479\n",
       "75%       26.208682\n",
       "max       48.579775\n",
       "Name: gb_used, dtype: float64"
      ]
     },
     "metadata": {},
     "output_type": "display_data"
    },
    {
     "name": "stdout",
     "output_type": "stream",
     "text": [
      "The dispersion is: 97.0\n"
     ]
    }
   ],
   "source": [
    "#look at the description for the Ultra tariff\n",
    "display(df_ultra['gb_used'].describe())\n",
    "print('The dispersion is:', np.var(df_ultra['gb_used']).round())"
   ]
  },
  {
   "cell_type": "markdown",
   "metadata": {},
   "source": [
    "As can be seen from the description, on the Smart tariff, the average and median are higher than the monthly traffic limit, i.e. more than 50% of subscribers purchase additional traffic.<br>\n",
    "At the Ultra tariff, the average and median are within the limit, and approximately 15% of subscribers purchase additional traffic.<br>\n",
    "The average for both tariffs is close to the median. The standard deviation on the Ultra tariff is almost twice as high as on Smart, which indicates a wider spread of data."
   ]
  },
  {
   "cell_type": "code",
   "execution_count": 67,
   "metadata": {},
   "outputs": [
    {
     "data": {
      "image/png": "[encoded data removed]",
      "text/plain": [
       "<Figure size 864x432 with 1 Axes>"
      ]
     },
     "metadata": {
      "needs_background": "light"
     },
     "output_type": "display_data"
    }
   ],
   "source": [
    "#build a histogram\n",
    "histograms(df_smart['gb_used'], df_ultra['gb_used'], 'Internet traffic (GB)', bins = 15, length = (0, 50))"
   ]
  },
  {
   "cell_type": "markdown",
   "metadata": {},
   "source": [
    "On both tariffs, most subscribers use traffic from 13 to 20 GB. Users of the Ultra tariff here also often get out of the limit, unlike minutes and messages. The distribution of data on the Ultra tariff is more even."
   ]
  },
  {
   "cell_type": "markdown",
   "metadata": {},
   "source": [
    "Let's look at the number of subscribers exceeding the Internet traffic limits."
   ]
  },
  {
   "cell_type": "code",
   "execution_count": 68,
   "metadata": {
    "scrolled": true
   },
   "outputs": [
    {
     "name": "stdout",
     "output_type": "stream",
     "text": [
      "Exceeding the Internet traffic limit on the Smart tariff: 0.59\n",
      "Exceeding the Internet traffic limit on the Ultra tariff: 0.14\n"
     ]
    }
   ],
   "source": [
    "print('Exceeding the Internet traffic limit on the Smart tariff:',\n",
    "      (df_smart.query('gb_used > 15')['gb_used'].count()\n",
    "      /len(df_smart)).round(2))\n",
    "print('Exceeding the Internet traffic limit on the Ultra tariff:',\n",
    "      (df_ultra.query('gb_used > 30')['gb_used'].count()\n",
    "      /len(df_ultra)).round(2))"
   ]
  },
  {
   "cell_type": "markdown",
   "metadata": {},
   "source": [
    "From these data, we can conclude that the majority of Smart tariff subscribers do not have enough Internet traffic included in the tariff."
   ]
  },
  {
   "cell_type": "markdown",
   "metadata": {},
   "source": [
    "### Price and overpayment"
   ]
  },
  {
   "cell_type": "code",
   "execution_count": 69,
   "metadata": {},
   "outputs": [
    {
     "data": {
      "text/plain": [
       "count    2229.000000\n",
       "mean     1197.218927\n",
       "std       767.412027\n",
       "min       550.000000\n",
       "25%       550.000000\n",
       "50%       925.582031\n",
       "75%      1602.906250\n",
       "max      6540.775391\n",
       "Name: monthly_income, dtype: float64"
      ]
     },
     "metadata": {},
     "output_type": "display_data"
    },
    {
     "name": "stdout",
     "output_type": "stream",
     "text": [
      "The dispersion is: 588657.0\n"
     ]
    }
   ],
   "source": [
    "#look at the description for the Smart tariff\n",
    "display(df_smart['monthly_income'].describe())\n",
    "print('The dispersion is:', np.var(df_smart['monthly_income']).round())"
   ]
  },
  {
   "cell_type": "code",
   "execution_count": 70,
   "metadata": {},
   "outputs": [
    {
     "data": {
      "text/plain": [
       "1798.4378906250001"
      ]
     },
     "execution_count": 70,
     "metadata": {},
     "output_type": "execute_result"
    }
   ],
   "source": [
    "#find a quantile with a border of 1950 rubles at the Smart tariff\n",
    "df_smart['monthly_income'].quantile(0.8)"
   ]
  },
  {
   "cell_type": "code",
   "execution_count": 71,
   "metadata": {},
   "outputs": [
    {
     "data": {
      "text/plain": [
       "count     985.000000\n",
       "mean     2059.868918\n",
       "std       354.880790\n",
       "min      1950.000000\n",
       "25%      1950.000000\n",
       "50%      1950.000000\n",
       "75%      1950.000000\n",
       "max      4736.966309\n",
       "Name: monthly_income, dtype: float64"
      ]
     },
     "metadata": {},
     "output_type": "display_data"
    },
    {
     "name": "stdout",
     "output_type": "stream",
     "text": [
      "Дисперсия составляет: 125813.0\n"
     ]
    }
   ],
   "source": [
    "#look at the description for the Ultra tariff\n",
    "display(df_ultra['monthly_income'].describe())\n",
    "print('The dispersion is:', np.var(df_ultra['monthly_income']).round())"
   ]
  },
  {
   "cell_type": "markdown",
   "metadata": {},
   "source": [
    "There is a very interesting situation with the Smart tariff: a significant part of users pay much more for the tariff than the monthly fee of 550 rubles. The average is at the level of 1294 rubles, and the median is at the level of 1038 rubles. 20% of Smart tariff subscribers can switch to Ultra tariff, because they pay the same or even more. This became clear because in the 80th quintile, the monthly payment of users of the Smart tariff is 1950 rubles.<br>\n",
    "At the Ultra tariff, the situation is opposite - most subscribers spend packages within the tariff."
   ]
  },
  {
   "cell_type": "markdown",
   "metadata": {},
   "source": [
    "Let's build a histogram with the ratio of revenue between tariffs."
   ]
  },
  {
   "cell_type": "code",
   "execution_count": 72,
   "metadata": {},
   "outputs": [
    {
     "data": {
      "image/png": "[encoded data removed]",
      "text/plain": [
       "<Figure size 432x432 with 1 Axes>"
      ]
     },
     "metadata": {},
     "output_type": "display_data"
    }
   ],
   "source": [
    "df.pivot_table(index='tariff', values='monthly_income', aggfunc = 'sum')\\\n",
    ".plot(kind='pie', subplots = True, fontsize=12, figsize= (6,6), title = 'Number of users',\\\n",
    "     autopct =lambda p: '{:.0f}%'.format(p))\n",
    "plt.show()"
   ]
  },
  {
   "cell_type": "markdown",
   "metadata": {},
   "source": [
    "Smart users brought in 18% more revenue than Ultra users, but their number is 2 times more, that is, the Smart tariff is cheaper for users."
   ]
  },
  {
   "cell_type": "code",
   "execution_count": 73,
   "metadata": {},
   "outputs": [
    {
     "data": {
      "image/png": "[encoded data removed]",
      "text/plain": [
       "<Figure size 864x432 with 1 Axes>"
      ]
     },
     "metadata": {
      "needs_background": "light"
     },
     "output_type": "display_data"
    }
   ],
   "source": [
    "#build a histogram\n",
    "histograms(df_smart['monthly_income'], df_ultra['monthly_income'], 'Revenue per month (rub.)', bins = 30, length = (540, 5000))"
   ]
  },
  {
   "cell_type": "code",
   "execution_count": 74,
   "metadata": {},
   "outputs": [
    {
     "name": "stdout",
     "output_type": "stream",
     "text": [
      "Overpayment in excess of the monthly fee on the Smart tariff: 0.73\n",
      "Overpayment in excess of the subscription fee on the Ultra tariff: 0.14\n"
     ]
    }
   ],
   "source": [
    "print('Overpayment in excess of the monthly fee on the Smart tariff:',\n",
    "      (df_smart.query('monthly_income > 550')['monthly_income'].count()\n",
    "      /len(df_smart)).round(2))\n",
    "print('Overpayment in excess of the subscription fee on the Ultra tariff:',\n",
    "      (df_ultra.query('monthly_income > 1950')['monthly_income'].count()\n",
    "      /len(df_ultra)).round(2))"
   ]
  },
  {
   "cell_type": "markdown",
   "metadata": {},
   "source": [
    "The histogram shows everything the same as it was in the description - 75% of Smart tariff users very often overpay in excess of the monthly fee, in contrast to the Ultra tariff, where the vast majority of users fit into package limits and monthly fees."
   ]
  },
  {
   "cell_type": "markdown",
   "metadata": {},
   "source": [
    "### Section Conclusion"
   ]
  },
  {
   "cell_type": "markdown",
   "metadata": {},
   "source": [
    "<font size = 3><b>Based on the analysis of the data, the following conclusions can be drawn:</b></font>\n",
    "1. The number of users on the Smart tariff exceeds the number of users on the Ultra tariff by more than 2 times.\n",
    "2. In terms of the number of minutes and messages on the Smart tariff, most users fit into the tariff limits, but 59% of users purchase additional Internet traffic.\n",
    "3. Ultra tariff users do not use the entire package of minutes and messages, and only 14% of users do not fit into the Internet traffic limit.\n",
    "4. As many as 75% of users overpay in excess of the monthly fee on the Smart tariff, while only 14 users of the Ultra tariff pay in excess of the monthly fee (exactly 14% of users who exceed the limit on Internet traffic).\n",
    "5. Approximately 20% of Smart tariff subscribers can switch to the Ultra tariff painlessly, because they pay 1950 rubles or more per month.\n",
    "6. Already now we can say that the Ultra tariff is more profitable for the operator, because its users pay an average of 2071 rubles per month, and users of the Smart tariff pay an average of 1294 rubles per month. At the same time, users of the Ultra tariff do not use all communication packages provided by the operator, which also brings additional benefits to the mobile operator.\n",
    "<br>\n",
    "<br>"
   ]
  },
  {
   "cell_type": "markdown",
   "metadata": {},
   "source": [
    "## Hypothesis testing"
   ]
  },
  {
   "cell_type": "markdown",
   "metadata": {},
   "source": [
    "In this section, we will test 2 hypotheses:\n",
    "1. That the average revenue of Ultra and Smart users is different;\n",
    "2. The average revenue of users from Moscow differs from the revenue of users from other regions."
   ]
  },
  {
   "cell_type": "markdown",
   "metadata": {},
   "source": [
    "### Hypothesis 1: The average revenue from users of Ultra and Smart tariffs is different"
   ]
  },
  {
   "cell_type": "markdown",
   "metadata": {},
   "source": [
    "Let's compare the average revenue in Smart and Ultra tariffs. We formulate the null and alternative hypotheses.<br>\n",
    "<b>Null hypothesis (H0):</b> сthe average revenue for Smart and Ultra tariffs does not differ.<br>\n",
    "    <b>Alternative hypothesis (H1):</b> the average revenue for Smart and Ultra tariffs is different. The alternative hypothesis is two-sided - it does not matter to us in which direction the deviation will be, the very fact of the presence of the deviation is important, i.e. the fact that the average revenue for tariffs is not equal."
   ]
  },
  {
   "cell_type": "markdown",
   "metadata": {},
   "source": [
    "Let's test the hypothesis about the equality of the average values of revenue."
   ]
  },
  {
   "cell_type": "code",
   "execution_count": 75,
   "metadata": {},
   "outputs": [
    {
     "name": "stdout",
     "output_type": "stream",
     "text": [
      "Average revenue under the Smart tariff: 1197.218926999215\n",
      "Average revenue under the Ultra tariff: 2059.8689175523477\n"
     ]
    }
   ],
   "source": [
    "print('Average revenue under the Smart tariff:', df_smart['monthly_income'].mean())\n",
    "print('Average revenue under the Ultra tariff:', df_ultra['monthly_income'].mean())"
   ]
  },
  {
   "cell_type": "markdown",
   "metadata": {},
   "source": [
    "As you can see, the difference in average revenue is already more than 30%, so we specify the `equal_var=False` parameter."
   ]
  },
  {
   "cell_type": "markdown",
   "metadata": {},
   "source": [
    "Set the significance level (alpha) to 0.05.\n",
    "Because we test the hypothesis about the equality of the mean of two populations by samples, we apply the scipy.stats.ttest_ind method"
   ]
  },
  {
   "cell_type": "code",
   "execution_count": 76,
   "metadata": {
    "scrolled": true
   },
   "outputs": [
    {
     "name": "stdout",
     "output_type": "stream",
     "text": [
      "p-value: 0.0\n",
      "Rejecting the null hypothesis\n"
     ]
    }
   ],
   "source": [
    "smart_mean = df_smart['monthly_income']\n",
    "ultra_mean = df_ultra['monthly_income']\n",
    "\n",
    "alpha = 0.05 \n",
    "results = st.ttest_ind(\n",
    "    smart_mean,\n",
    "    ultra_mean,\n",
    "    equal_var=False)\n",
    "\n",
    "print('p-value:', results.pvalue)\n",
    "\n",
    "if results.pvalue < alpha:\n",
    "    print(\"Rejecting the null hypothesis\")\n",
    "else:\n",
    "    print(\"Failed to reject the null hypothesis\")"
   ]
  },
  {
   "cell_type": "markdown",
   "metadata": {},
   "source": [
    "The null hypothesis is rejected, which means we accept as true the alternative hypothesis that the average revenue for the Smart and Ultra tariffs is different."
   ]
  },
  {
   "cell_type": "markdown",
   "metadata": {},
   "source": [
    "<b>So, our main hypothesis is confirmed and the average revenue of users of the Ultra and Smart tariffs differs.</b>"
   ]
  },
  {
   "cell_type": "markdown",
   "metadata": {},
   "source": [
    "### Hypothesis 2: The average revenue of users from Moscow differs from the revenue of users from other regions"
   ]
  },
  {
   "cell_type": "markdown",
   "metadata": {},
   "source": [
    "<b>Null hypothesis (H0):</b> The average revenue of users from Moscow does not differ from the revenue of users from other regions.<br>\n",
    "<b>Alternative hypothesis (H1):</b> The average revenue of users from Moscow differs from the revenue of users from other regions."
   ]
  },
  {
   "cell_type": "code",
   "execution_count": 77,
   "metadata": {},
   "outputs": [],
   "source": [
    "#filter the dataset by city\n",
    "moscow = df.query('city == \"Москва\"')\n",
    "others = df.query('city != \"Москва\"')"
   ]
  },
  {
   "cell_type": "code",
   "execution_count": 78,
   "metadata": {},
   "outputs": [
    {
     "name": "stdout",
     "output_type": "stream",
     "text": [
      "Moscow average: 1484.8365688292758\n",
      "Average values for other cities: 1456.1416552115347\n"
     ]
    }
   ],
   "source": [
    "#look at the averages of these samples\n",
    "print ('Moscow average:', moscow['monthly_income'].mean())\n",
    "print ('Average values for other cities:', others['monthly_income'].mean())"
   ]
  },
  {
   "cell_type": "markdown",
   "metadata": {},
   "source": [
    "The difference between the two averages is only 1.5%, so we use the `equal_var=True` parameter"
   ]
  },
  {
   "cell_type": "markdown",
   "metadata": {},
   "source": [
    "Set the significance level (alpha) to 0.05.\n",
    "Because we test the hypothesis about the equality of the mean of two populations by samples, we apply the scipy.stats.ttest_ind method"
   ]
  },
  {
   "cell_type": "code",
   "execution_count": 79,
   "metadata": {},
   "outputs": [
    {
     "name": "stdout",
     "output_type": "stream",
     "text": [
      "p-value: 0.4119903138820259\n",
      "Failed to reject the null hypothesis\n"
     ]
    }
   ],
   "source": [
    "moscow_mean = moscow['monthly_income']\n",
    "others_mean = others['monthly_income']\n",
    "\n",
    "alpha = 0.05 \n",
    "results = st.ttest_ind(\n",
    "    moscow_mean,\n",
    "    others_mean,\n",
    "    equal_var=True)\n",
    "\n",
    "print('p-value:', results.pvalue)\n",
    "\n",
    "if results.pvalue < alpha:\n",
    "    print(\"Rejecting the null hypothesis\")\n",
    "else:\n",
    "    print(\"Failed to reject the null hypothesis\")"
   ]
  },
  {
   "cell_type": "markdown",
   "metadata": {},
   "source": [
    "As you can see, the null hypothesis could not be rejected and the revenue from users from Moscow does not differ from the revenue from users from other cities."
   ]
  },
  {
   "cell_type": "markdown",
   "metadata": {},
   "source": [
    "<b>Our main hypothesis is rejected and the average revenue of users from Moscow does not differ from the revenue of users from other regions.</b>"
   ]
  },
  {
   "cell_type": "markdown",
   "metadata": {},
   "source": [
    "### Section Conclusion"
   ]
  },
  {
   "cell_type": "markdown",
   "metadata": {},
   "source": [
    "Based on the statistical analysis, we came to the following conclusions:\n",
    "1. Hypothesis 1 was confirmed and the average <b>revenue from users of the \"Ultra\" and \"Smart\" tariffs differs.</b>\n",
    "2. Hypothesis 2 is refuted and the average <b>revenue of users from Moscow does not differ from the revenue of users from other regions.</b>"
   ]
  },
  {
   "cell_type": "markdown",
   "metadata": {},
   "source": [
    "## General conclusion"
   ]
  },
  {
   "cell_type": "markdown",
   "metadata": {},
   "source": [
    "Clients are offered two tariff plans: \"Smart\" and \"Ultra\". To adjust the advertising budget, the commercial department wants to understand which tariff brings in more money. We had to make a preliminary analysis of tariffs on a small sample of customers. We have at our disposal the data of 500 Megaline users: who they are, where they are from, what tariff they use, how many calls and messages each sent in 2018. It was necessary to analyze the behavior of customers and draw a conclusion - which tariff is better.\n",
    "1. <b>5 datasets were presented and studied:</b> with calls, messages, Internet traffic, tariffs and users.\n",
    "2. <b>These datasets were pre-processed:</b>\n",
    "    - brought data in date columns to datetime type;\n",
    "    - added month columns to datasets with calls, messages and internet sessions;\n",
    "    - rounded up the data in the columns with minutes and Internet traffic;\n",
    "    - converted MB to GB;\n",
    "    - grouped the data and combined them into a new dataset;\n",
    "    - removed columns from the new dataset that will not be used in further analysis;\n",
    "3. <b>Prepared data for analysis:</b>\n",
    "     - calculated in the summary table by month:\n",
    "         1. number of calls made and spent minutes of conversation;\n",
    "         2. the number of sent messages;\n",
    "         3. the amount of Internet traffic used;\n",
    "     - calculated the monthly revenue from each user.\n",
    "4. <b>During the exploratory data analysis, the following conclusions were made:</b>\n",
    "    1. The number of users on the Smart tariff exceeds the number of users on the Ultra tariff by more than 2 times.\n",
    "    2. In terms of the number of minutes and messages on the Smart tariff, most users fit into the tariff limits, but 59% of users purchase additional Internet traffic.\n",
    "    3. Ultra tariff users do not use the entire package of minutes and messages, and only 14% of users do not fit into the Internet traffic limit.\n",
    "    4. Already 75% of users overpay in excess of the monthly fee on the Smart tariff, while only 14 Ultra tariff users pay in excess of the monthly fee (exactly 14% of users who exceed the limit on Internet traffic).\n",
    "    5. Approximately 20% of Smart tariff subscribers can switch to the Ultra tariff painlessly, because they pay 1950 rubles or more per month.\n",
    "    6. Already now we can say that the Ultra tariff is more profitable for the operator, because its users pay an average of 2071 rubles per month, and users of the Smart tariff pay an average of 1294 rubles per month. At the same time, users of the Ultra tariff do not use all communication packages provided by the operator, which also brings additional benefits to the mobile operator.\n",
    "5. <b>Based on the statistical analysis of the data, we came to the following conclusions:</b>\n",
    "    1. Hypothesis 1 was confirmed and the average revenue from users of the Ultra and Smart tariffs differs. Ultra tariff users pay 38% more monthly than Smart tariff users.\n",
    "    2. Hypothesis 2 is refuted and the average revenue of users from Moscow does not differ from the revenue of users from other regions."
   ]
  },
  {
   "cell_type": "code",
   "execution_count": null,
   "metadata": {},
   "outputs": [],
   "source": []
  }
 ],
 "metadata": {
  "ExecuteTimeLog": [
   {
    "duration": 1130,
    "start_time": "2022-02-12T10:10:15.575Z"
   },
   {
    "duration": 2546,
    "start_time": "2022-02-12T10:10:56.237Z"
   },
   {
    "duration": 358,
    "start_time": "2022-02-12T10:11:41.890Z"
   },
   {
    "duration": 11,
    "start_time": "2022-02-12T10:28:43.636Z"
   },
   {
    "duration": 19,
    "start_time": "2022-02-12T10:30:50.319Z"
   },
   {
    "duration": 318,
    "start_time": "2022-02-12T10:36:09.208Z"
   },
   {
    "duration": 9,
    "start_time": "2022-02-12T10:36:17.935Z"
   },
   {
    "duration": 17,
    "start_time": "2022-02-12T10:36:45.477Z"
   },
   {
    "duration": 15,
    "start_time": "2022-02-12T10:37:15.642Z"
   },
   {
    "duration": 87,
    "start_time": "2022-02-12T10:40:26.589Z"
   },
   {
    "duration": 47,
    "start_time": "2022-02-12T10:41:12.245Z"
   },
   {
    "duration": 7,
    "start_time": "2022-02-12T11:27:57.582Z"
   },
   {
    "duration": 14,
    "start_time": "2022-02-12T11:28:32.084Z"
   },
   {
    "duration": 41,
    "start_time": "2022-02-12T11:28:44.938Z"
   },
   {
    "duration": 97,
    "start_time": "2022-02-12T11:29:27.981Z"
   },
   {
    "duration": 12,
    "start_time": "2022-02-12T11:31:06.775Z"
   },
   {
    "duration": 11,
    "start_time": "2022-02-12T11:31:23.800Z"
   },
   {
    "duration": 10,
    "start_time": "2022-02-12T11:31:42.282Z"
   },
   {
    "duration": 1323,
    "start_time": "2022-02-12T11:33:32.089Z"
   },
   {
    "duration": 1242,
    "start_time": "2022-02-12T11:34:20.022Z"
   },
   {
    "duration": 8,
    "start_time": "2022-02-12T11:34:27.977Z"
   },
   {
    "duration": 8,
    "start_time": "2022-02-12T11:34:36.449Z"
   },
   {
    "duration": 6,
    "start_time": "2022-02-12T11:34:51.259Z"
   },
   {
    "duration": 10,
    "start_time": "2022-02-12T11:38:14.529Z"
   },
   {
    "duration": 5,
    "start_time": "2022-02-12T11:38:46.325Z"
   },
   {
    "duration": 6,
    "start_time": "2022-02-12T11:39:05.469Z"
   },
   {
    "duration": 1065,
    "start_time": "2022-02-12T11:43:47.339Z"
   },
   {
    "duration": 360,
    "start_time": "2022-02-12T11:43:48.406Z"
   },
   {
    "duration": 15,
    "start_time": "2022-02-12T11:43:48.768Z"
   },
   {
    "duration": 19,
    "start_time": "2022-02-12T11:43:48.785Z"
   },
   {
    "duration": 100,
    "start_time": "2022-02-12T11:43:48.805Z"
   },
   {
    "duration": 11,
    "start_time": "2022-02-12T11:43:48.907Z"
   },
   {
    "duration": 22,
    "start_time": "2022-02-12T11:43:48.920Z"
   },
   {
    "duration": 70,
    "start_time": "2022-02-12T11:43:48.944Z"
   },
   {
    "duration": 10,
    "start_time": "2022-02-12T11:43:49.017Z"
   },
   {
    "duration": 14,
    "start_time": "2022-02-12T11:43:49.029Z"
   },
   {
    "duration": 59,
    "start_time": "2022-02-12T11:43:49.045Z"
   },
   {
    "duration": 9,
    "start_time": "2022-02-12T11:43:49.105Z"
   },
   {
    "duration": 13,
    "start_time": "2022-02-12T11:43:49.115Z"
   },
   {
    "duration": 21,
    "start_time": "2022-02-12T11:43:49.130Z"
   },
   {
    "duration": 17,
    "start_time": "2022-02-12T11:43:49.153Z"
   },
   {
    "duration": 7,
    "start_time": "2022-02-12T11:43:49.172Z"
   },
   {
    "duration": 35,
    "start_time": "2022-02-12T12:18:26.588Z"
   },
   {
    "duration": 7,
    "start_time": "2022-02-12T12:21:13.849Z"
   },
   {
    "duration": 20,
    "start_time": "2022-02-12T12:22:26.091Z"
   },
   {
    "duration": 18,
    "start_time": "2022-02-12T12:23:11.773Z"
   },
   {
    "duration": 5,
    "start_time": "2022-02-12T12:24:01.242Z"
   },
   {
    "duration": 1017,
    "start_time": "2022-02-12T12:26:33.284Z"
   },
   {
    "duration": 2082,
    "start_time": "2022-02-12T12:26:34.303Z"
   },
   {
    "duration": 16,
    "start_time": "2022-02-12T12:26:36.388Z"
   },
   {
    "duration": 21,
    "start_time": "2022-02-12T12:26:36.406Z"
   },
   {
    "duration": 123,
    "start_time": "2022-02-12T12:26:36.429Z"
   },
   {
    "duration": 23,
    "start_time": "2022-02-12T12:26:36.553Z"
   },
   {
    "duration": 15,
    "start_time": "2022-02-12T12:26:36.577Z"
   },
   {
    "duration": 78,
    "start_time": "2022-02-12T12:26:36.594Z"
   },
   {
    "duration": 10,
    "start_time": "2022-02-12T12:26:36.674Z"
   },
   {
    "duration": 14,
    "start_time": "2022-02-12T12:26:36.685Z"
   },
   {
    "duration": 38,
    "start_time": "2022-02-12T12:26:36.701Z"
   },
   {
    "duration": 35,
    "start_time": "2022-02-12T12:26:36.740Z"
   },
   {
    "duration": 6,
    "start_time": "2022-02-12T12:26:36.776Z"
   },
   {
    "duration": 11,
    "start_time": "2022-02-12T12:26:36.784Z"
   },
   {
    "duration": 7,
    "start_time": "2022-02-12T12:26:36.797Z"
   },
   {
    "duration": 7,
    "start_time": "2022-02-12T12:26:36.805Z"
   },
   {
    "duration": 59,
    "start_time": "2022-02-12T12:26:36.813Z"
   },
   {
    "duration": 21,
    "start_time": "2022-02-12T12:26:36.873Z"
   },
   {
    "duration": 17,
    "start_time": "2022-02-12T12:26:36.895Z"
   },
   {
    "duration": 4,
    "start_time": "2022-02-12T12:26:36.914Z"
   },
   {
    "duration": 390,
    "start_time": "2022-02-12T12:47:50.984Z"
   },
   {
    "duration": 6,
    "start_time": "2022-02-12T12:48:06.534Z"
   },
   {
    "duration": 5,
    "start_time": "2022-02-12T12:48:56.175Z"
   },
   {
    "duration": 5,
    "start_time": "2022-02-12T12:50:57.255Z"
   },
   {
    "duration": 984,
    "start_time": "2022-02-12T12:51:08.617Z"
   },
   {
    "duration": 373,
    "start_time": "2022-02-12T12:51:09.603Z"
   },
   {
    "duration": 15,
    "start_time": "2022-02-12T12:51:09.979Z"
   },
   {
    "duration": 19,
    "start_time": "2022-02-12T12:51:09.996Z"
   },
   {
    "duration": 109,
    "start_time": "2022-02-12T12:51:10.016Z"
   },
   {
    "duration": 11,
    "start_time": "2022-02-12T12:51:10.127Z"
   },
   {
    "duration": 18,
    "start_time": "2022-02-12T12:51:10.139Z"
   },
   {
    "duration": 66,
    "start_time": "2022-02-12T12:51:10.158Z"
   },
   {
    "duration": 9,
    "start_time": "2022-02-12T12:51:10.227Z"
   },
   {
    "duration": 14,
    "start_time": "2022-02-12T12:51:10.238Z"
   },
   {
    "duration": 37,
    "start_time": "2022-02-12T12:51:10.271Z"
   },
   {
    "duration": 7,
    "start_time": "2022-02-12T12:51:10.310Z"
   },
   {
    "duration": 8,
    "start_time": "2022-02-12T12:51:10.318Z"
   },
   {
    "duration": 12,
    "start_time": "2022-02-12T12:51:10.327Z"
   },
   {
    "duration": 35,
    "start_time": "2022-02-12T12:51:10.340Z"
   },
   {
    "duration": 6,
    "start_time": "2022-02-12T12:51:10.377Z"
   },
   {
    "duration": 27,
    "start_time": "2022-02-12T12:51:10.385Z"
   },
   {
    "duration": 21,
    "start_time": "2022-02-12T12:51:10.414Z"
   },
   {
    "duration": 43,
    "start_time": "2022-02-12T12:51:10.436Z"
   },
   {
    "duration": 4,
    "start_time": "2022-02-12T12:51:10.481Z"
   },
   {
    "duration": 9,
    "start_time": "2022-02-12T12:51:10.487Z"
   },
   {
    "duration": 22,
    "start_time": "2022-02-12T12:51:10.497Z"
   },
   {
    "duration": 16,
    "start_time": "2022-02-12T12:51:10.521Z"
   },
   {
    "duration": 39,
    "start_time": "2022-02-12T12:51:10.538Z"
   },
   {
    "duration": 7,
    "start_time": "2022-02-12T12:51:10.578Z"
   },
   {
    "duration": 4,
    "start_time": "2022-02-12T12:51:10.587Z"
   },
   {
    "duration": 12,
    "start_time": "2022-02-12T12:56:02.342Z"
   },
   {
    "duration": 584,
    "start_time": "2022-02-12T12:57:21.361Z"
   },
   {
    "duration": 303,
    "start_time": "2022-02-12T12:57:35.931Z"
   },
   {
    "duration": 362,
    "start_time": "2022-02-12T12:57:46.012Z"
   },
   {
    "duration": 307,
    "start_time": "2022-02-12T12:58:13.886Z"
   },
   {
    "duration": 339,
    "start_time": "2022-02-12T12:59:03.962Z"
   },
   {
    "duration": 303,
    "start_time": "2022-02-12T12:59:18.265Z"
   },
   {
    "duration": 297,
    "start_time": "2022-02-12T12:59:56.790Z"
   },
   {
    "duration": 361,
    "start_time": "2022-02-12T13:00:01.820Z"
   },
   {
    "duration": 314,
    "start_time": "2022-02-12T13:00:23.360Z"
   },
   {
    "duration": 330,
    "start_time": "2022-02-12T13:00:31.317Z"
   },
   {
    "duration": 304,
    "start_time": "2022-02-12T13:00:41.891Z"
   },
   {
    "duration": 319,
    "start_time": "2022-02-12T13:00:46.486Z"
   },
   {
    "duration": 318,
    "start_time": "2022-02-12T13:00:49.535Z"
   },
   {
    "duration": 1025,
    "start_time": "2022-02-12T13:01:03.474Z"
   },
   {
    "duration": 362,
    "start_time": "2022-02-12T13:01:04.501Z"
   },
   {
    "duration": 17,
    "start_time": "2022-02-12T13:01:04.865Z"
   },
   {
    "duration": 19,
    "start_time": "2022-02-12T13:01:04.884Z"
   },
   {
    "duration": 94,
    "start_time": "2022-02-12T13:01:04.905Z"
   },
   {
    "duration": 12,
    "start_time": "2022-02-12T13:01:05.000Z"
   },
   {
    "duration": 17,
    "start_time": "2022-02-12T13:01:05.014Z"
   },
   {
    "duration": 76,
    "start_time": "2022-02-12T13:01:05.034Z"
   },
   {
    "duration": 10,
    "start_time": "2022-02-12T13:01:05.112Z"
   },
   {
    "duration": 14,
    "start_time": "2022-02-12T13:01:05.123Z"
   },
   {
    "duration": 53,
    "start_time": "2022-02-12T13:01:05.138Z"
   },
   {
    "duration": 7,
    "start_time": "2022-02-12T13:01:05.193Z"
   },
   {
    "duration": 7,
    "start_time": "2022-02-12T13:01:05.201Z"
   },
   {
    "duration": 11,
    "start_time": "2022-02-12T13:01:05.209Z"
   },
   {
    "duration": 5,
    "start_time": "2022-02-12T13:01:05.221Z"
   },
   {
    "duration": 5,
    "start_time": "2022-02-12T13:01:05.228Z"
   },
   {
    "duration": 53,
    "start_time": "2022-02-12T13:01:05.235Z"
   },
   {
    "duration": 18,
    "start_time": "2022-02-12T13:01:05.289Z"
   },
   {
    "duration": 15,
    "start_time": "2022-02-12T13:01:05.309Z"
   },
   {
    "duration": 3,
    "start_time": "2022-02-12T13:01:05.326Z"
   },
   {
    "duration": 6,
    "start_time": "2022-02-12T13:01:05.331Z"
   },
   {
    "duration": 36,
    "start_time": "2022-02-12T13:01:05.338Z"
   },
   {
    "duration": 15,
    "start_time": "2022-02-12T13:01:05.376Z"
   },
   {
    "duration": 13,
    "start_time": "2022-02-12T13:01:05.393Z"
   },
   {
    "duration": 5,
    "start_time": "2022-02-12T13:01:05.407Z"
   },
   {
    "duration": 7,
    "start_time": "2022-02-12T13:01:05.413Z"
   },
   {
    "duration": 15,
    "start_time": "2022-02-12T13:01:05.421Z"
   },
   {
    "duration": 403,
    "start_time": "2022-02-12T13:01:26.542Z"
   },
   {
    "duration": 4,
    "start_time": "2022-02-12T13:01:30.973Z"
   },
   {
    "duration": 311,
    "start_time": "2022-02-12T13:11:35.106Z"
   },
   {
    "duration": 5,
    "start_time": "2022-02-12T13:11:40.681Z"
   },
   {
    "duration": 101,
    "start_time": "2022-02-12T13:13:46.819Z"
   },
   {
    "duration": 309,
    "start_time": "2022-02-12T13:13:55.835Z"
   },
   {
    "duration": 5,
    "start_time": "2022-02-12T13:14:05.926Z"
   },
   {
    "duration": 1035,
    "start_time": "2022-02-12T13:14:22.768Z"
   },
   {
    "duration": 354,
    "start_time": "2022-02-12T13:14:23.805Z"
   },
   {
    "duration": 16,
    "start_time": "2022-02-12T13:14:24.161Z"
   },
   {
    "duration": 20,
    "start_time": "2022-02-12T13:14:24.178Z"
   },
   {
    "duration": 98,
    "start_time": "2022-02-12T13:14:24.199Z"
   },
   {
    "duration": 11,
    "start_time": "2022-02-12T13:14:24.299Z"
   },
   {
    "duration": 16,
    "start_time": "2022-02-12T13:14:24.311Z"
   },
   {
    "duration": 71,
    "start_time": "2022-02-12T13:14:24.329Z"
   },
   {
    "duration": 10,
    "start_time": "2022-02-12T13:14:24.402Z"
   },
   {
    "duration": 12,
    "start_time": "2022-02-12T13:14:24.414Z"
   },
   {
    "duration": 57,
    "start_time": "2022-02-12T13:14:24.428Z"
   },
   {
    "duration": 8,
    "start_time": "2022-02-12T13:14:24.486Z"
   },
   {
    "duration": 6,
    "start_time": "2022-02-12T13:14:24.495Z"
   },
   {
    "duration": 11,
    "start_time": "2022-02-12T13:14:24.502Z"
   },
   {
    "duration": 6,
    "start_time": "2022-02-12T13:14:24.514Z"
   },
   {
    "duration": 7,
    "start_time": "2022-02-12T13:14:24.521Z"
   },
   {
    "duration": 55,
    "start_time": "2022-02-12T13:14:24.529Z"
   },
   {
    "duration": 20,
    "start_time": "2022-02-12T13:14:24.586Z"
   },
   {
    "duration": 17,
    "start_time": "2022-02-12T13:14:24.608Z"
   },
   {
    "duration": 4,
    "start_time": "2022-02-12T13:14:24.626Z"
   },
   {
    "duration": 7,
    "start_time": "2022-02-12T13:14:24.631Z"
   },
   {
    "duration": 43,
    "start_time": "2022-02-12T13:14:24.639Z"
   },
   {
    "duration": 16,
    "start_time": "2022-02-12T13:14:24.684Z"
   },
   {
    "duration": 14,
    "start_time": "2022-02-12T13:14:24.701Z"
   },
   {
    "duration": 5,
    "start_time": "2022-02-12T13:14:24.716Z"
   },
   {
    "duration": 7,
    "start_time": "2022-02-12T13:14:24.722Z"
   },
   {
    "duration": 13,
    "start_time": "2022-02-12T13:14:24.732Z"
   },
   {
    "duration": 25,
    "start_time": "2022-02-12T13:14:24.746Z"
   },
   {
    "duration": 2912,
    "start_time": "2022-02-12T13:16:06.122Z"
   },
   {
    "duration": 1057,
    "start_time": "2022-02-12T13:16:50.547Z"
   },
   {
    "duration": 346,
    "start_time": "2022-02-12T13:16:51.606Z"
   },
   {
    "duration": 15,
    "start_time": "2022-02-12T13:16:51.954Z"
   },
   {
    "duration": 19,
    "start_time": "2022-02-12T13:16:51.970Z"
   },
   {
    "duration": 97,
    "start_time": "2022-02-12T13:16:51.991Z"
   },
   {
    "duration": 11,
    "start_time": "2022-02-12T13:16:52.089Z"
   },
   {
    "duration": 17,
    "start_time": "2022-02-12T13:16:52.101Z"
   },
   {
    "duration": 69,
    "start_time": "2022-02-12T13:16:52.120Z"
   },
   {
    "duration": 9,
    "start_time": "2022-02-12T13:16:52.191Z"
   },
   {
    "duration": 14,
    "start_time": "2022-02-12T13:16:52.201Z"
   },
   {
    "duration": 33,
    "start_time": "2022-02-12T13:16:52.217Z"
   },
   {
    "duration": 21,
    "start_time": "2022-02-12T13:16:52.252Z"
   },
   {
    "duration": 6,
    "start_time": "2022-02-12T13:16:52.274Z"
   },
   {
    "duration": 14,
    "start_time": "2022-02-12T13:16:52.282Z"
   },
   {
    "duration": 14,
    "start_time": "2022-02-12T13:16:52.297Z"
   },
   {
    "duration": 17,
    "start_time": "2022-02-12T13:16:52.313Z"
   },
   {
    "duration": 28,
    "start_time": "2022-02-12T13:16:52.331Z"
   },
   {
    "duration": 23,
    "start_time": "2022-02-12T13:16:52.360Z"
   },
   {
    "duration": 16,
    "start_time": "2022-02-12T13:16:52.385Z"
   },
   {
    "duration": 4,
    "start_time": "2022-02-12T13:16:52.402Z"
   },
   {
    "duration": 9,
    "start_time": "2022-02-12T13:16:52.407Z"
   },
   {
    "duration": 26,
    "start_time": "2022-02-12T13:16:52.418Z"
   },
   {
    "duration": 28,
    "start_time": "2022-02-12T13:16:52.446Z"
   },
   {
    "duration": 13,
    "start_time": "2022-02-12T13:16:52.476Z"
   },
   {
    "duration": 6,
    "start_time": "2022-02-12T13:16:52.490Z"
   },
   {
    "duration": 4,
    "start_time": "2022-02-12T13:16:52.497Z"
   },
   {
    "duration": 15,
    "start_time": "2022-02-12T13:16:52.503Z"
   },
   {
    "duration": 8,
    "start_time": "2022-02-12T13:16:52.520Z"
   },
   {
    "duration": 348,
    "start_time": "2022-02-12T13:17:19.294Z"
   },
   {
    "duration": 315,
    "start_time": "2022-02-12T13:19:31.757Z"
   },
   {
    "duration": 1054,
    "start_time": "2022-02-12T13:19:39.649Z"
   },
   {
    "duration": 356,
    "start_time": "2022-02-12T13:19:40.705Z"
   },
   {
    "duration": 16,
    "start_time": "2022-02-12T13:19:41.062Z"
   },
   {
    "duration": 19,
    "start_time": "2022-02-12T13:19:41.079Z"
   },
   {
    "duration": 93,
    "start_time": "2022-02-12T13:19:41.099Z"
   },
   {
    "duration": 11,
    "start_time": "2022-02-12T13:19:41.194Z"
   },
   {
    "duration": 16,
    "start_time": "2022-02-12T13:19:41.207Z"
   },
   {
    "duration": 66,
    "start_time": "2022-02-12T13:19:41.225Z"
   },
   {
    "duration": 10,
    "start_time": "2022-02-12T13:19:41.293Z"
   },
   {
    "duration": 13,
    "start_time": "2022-02-12T13:19:41.304Z"
   },
   {
    "duration": 54,
    "start_time": "2022-02-12T13:19:41.319Z"
   },
   {
    "duration": 7,
    "start_time": "2022-02-12T13:19:41.374Z"
   },
   {
    "duration": 6,
    "start_time": "2022-02-12T13:19:41.383Z"
   },
   {
    "duration": 10,
    "start_time": "2022-02-12T13:19:41.391Z"
   },
   {
    "duration": 6,
    "start_time": "2022-02-12T13:19:41.402Z"
   },
   {
    "duration": 6,
    "start_time": "2022-02-12T13:19:41.410Z"
   },
   {
    "duration": 25,
    "start_time": "2022-02-12T13:19:41.417Z"
   },
   {
    "duration": 44,
    "start_time": "2022-02-12T13:19:41.444Z"
   },
   {
    "duration": 15,
    "start_time": "2022-02-12T13:19:41.489Z"
   },
   {
    "duration": 3,
    "start_time": "2022-02-12T13:19:41.506Z"
   },
   {
    "duration": 5,
    "start_time": "2022-02-12T13:19:41.511Z"
   },
   {
    "duration": 25,
    "start_time": "2022-02-12T13:19:41.517Z"
   },
   {
    "duration": 32,
    "start_time": "2022-02-12T13:19:41.544Z"
   },
   {
    "duration": 13,
    "start_time": "2022-02-12T13:19:41.577Z"
   },
   {
    "duration": 5,
    "start_time": "2022-02-12T13:19:41.591Z"
   },
   {
    "duration": 5,
    "start_time": "2022-02-12T13:19:41.598Z"
   },
   {
    "duration": 17,
    "start_time": "2022-02-12T13:19:41.604Z"
   },
   {
    "duration": 9,
    "start_time": "2022-02-12T13:19:41.622Z"
   },
   {
    "duration": 1012,
    "start_time": "2022-02-12T13:21:01.288Z"
   },
   {
    "duration": 331,
    "start_time": "2022-02-12T13:21:02.302Z"
   },
   {
    "duration": 15,
    "start_time": "2022-02-12T13:21:02.635Z"
   },
   {
    "duration": 21,
    "start_time": "2022-02-12T13:21:02.651Z"
   },
   {
    "duration": 85,
    "start_time": "2022-02-12T13:21:02.674Z"
   },
   {
    "duration": 18,
    "start_time": "2022-02-12T13:21:02.760Z"
   },
   {
    "duration": 15,
    "start_time": "2022-02-12T13:21:02.780Z"
   },
   {
    "duration": 77,
    "start_time": "2022-02-12T13:21:02.797Z"
   },
   {
    "duration": 10,
    "start_time": "2022-02-12T13:21:02.876Z"
   },
   {
    "duration": 14,
    "start_time": "2022-02-12T13:21:02.888Z"
   },
   {
    "duration": 33,
    "start_time": "2022-02-12T13:21:02.903Z"
   },
   {
    "duration": 7,
    "start_time": "2022-02-12T13:21:02.937Z"
   },
   {
    "duration": 29,
    "start_time": "2022-02-12T13:21:02.946Z"
   },
   {
    "duration": 10,
    "start_time": "2022-02-12T13:21:02.977Z"
   },
   {
    "duration": 9,
    "start_time": "2022-02-12T13:21:02.989Z"
   },
   {
    "duration": 12,
    "start_time": "2022-02-12T13:21:02.999Z"
   },
   {
    "duration": 33,
    "start_time": "2022-02-12T13:21:03.012Z"
   },
   {
    "duration": 31,
    "start_time": "2022-02-12T13:21:03.047Z"
   },
   {
    "duration": 15,
    "start_time": "2022-02-12T13:21:03.080Z"
   },
   {
    "duration": 3,
    "start_time": "2022-02-12T13:21:03.097Z"
   },
   {
    "duration": 36,
    "start_time": "2022-02-12T13:21:03.102Z"
   },
   {
    "duration": 24,
    "start_time": "2022-02-12T13:21:03.139Z"
   },
   {
    "duration": 15,
    "start_time": "2022-02-12T13:21:03.165Z"
   },
   {
    "duration": 13,
    "start_time": "2022-02-12T13:21:03.182Z"
   },
   {
    "duration": 6,
    "start_time": "2022-02-12T13:21:03.196Z"
   },
   {
    "duration": 7,
    "start_time": "2022-02-12T13:21:03.203Z"
   },
   {
    "duration": 13,
    "start_time": "2022-02-12T13:21:03.211Z"
   },
   {
    "duration": 7,
    "start_time": "2022-02-12T13:21:03.226Z"
   },
   {
    "duration": 1223,
    "start_time": "2022-02-12T13:24:55.631Z"
   },
   {
    "duration": 426,
    "start_time": "2022-02-12T13:24:56.856Z"
   },
   {
    "duration": 15,
    "start_time": "2022-02-12T13:24:57.283Z"
   },
   {
    "duration": 17,
    "start_time": "2022-02-12T13:24:57.300Z"
   },
   {
    "duration": 91,
    "start_time": "2022-02-12T13:24:57.318Z"
   },
   {
    "duration": 11,
    "start_time": "2022-02-12T13:24:57.410Z"
   },
   {
    "duration": 16,
    "start_time": "2022-02-12T13:24:57.422Z"
   },
   {
    "duration": 74,
    "start_time": "2022-02-12T13:24:57.439Z"
   },
   {
    "duration": 10,
    "start_time": "2022-02-12T13:24:57.515Z"
   },
   {
    "duration": 14,
    "start_time": "2022-02-12T13:24:57.526Z"
   },
   {
    "duration": 52,
    "start_time": "2022-02-12T13:24:57.541Z"
   },
   {
    "duration": 7,
    "start_time": "2022-02-12T13:24:57.595Z"
   },
   {
    "duration": 6,
    "start_time": "2022-02-12T13:24:57.604Z"
   },
   {
    "duration": 10,
    "start_time": "2022-02-12T13:24:57.612Z"
   },
   {
    "duration": 5,
    "start_time": "2022-02-12T13:24:57.624Z"
   },
   {
    "duration": 8,
    "start_time": "2022-02-12T13:24:57.631Z"
   },
   {
    "duration": 51,
    "start_time": "2022-02-12T13:24:57.641Z"
   },
   {
    "duration": 18,
    "start_time": "2022-02-12T13:24:57.694Z"
   },
   {
    "duration": 15,
    "start_time": "2022-02-12T13:24:57.714Z"
   },
   {
    "duration": 3,
    "start_time": "2022-02-12T13:24:57.731Z"
   },
   {
    "duration": 8,
    "start_time": "2022-02-12T13:24:57.735Z"
   },
   {
    "duration": 43,
    "start_time": "2022-02-12T13:24:57.744Z"
   },
   {
    "duration": 16,
    "start_time": "2022-02-12T13:24:57.789Z"
   },
   {
    "duration": 14,
    "start_time": "2022-02-12T13:24:57.806Z"
   },
   {
    "duration": 6,
    "start_time": "2022-02-12T13:24:57.821Z"
   },
   {
    "duration": 5,
    "start_time": "2022-02-12T13:24:57.828Z"
   },
   {
    "duration": 13,
    "start_time": "2022-02-12T13:24:57.836Z"
   },
   {
    "duration": 26,
    "start_time": "2022-02-12T13:24:57.851Z"
   },
   {
    "duration": 1068,
    "start_time": "2022-02-12T13:25:36.749Z"
   },
   {
    "duration": 360,
    "start_time": "2022-02-12T13:25:37.819Z"
   },
   {
    "duration": 16,
    "start_time": "2022-02-12T13:25:38.361Z"
   },
   {
    "duration": 18,
    "start_time": "2022-02-12T13:25:38.819Z"
   },
   {
    "duration": 86,
    "start_time": "2022-02-12T13:25:39.271Z"
   },
   {
    "duration": 12,
    "start_time": "2022-02-12T13:25:40.243Z"
   },
   {
    "duration": 15,
    "start_time": "2022-02-12T13:25:40.510Z"
   },
   {
    "duration": 66,
    "start_time": "2022-02-12T13:25:40.799Z"
   },
   {
    "duration": 10,
    "start_time": "2022-02-12T13:25:41.508Z"
   },
   {
    "duration": 13,
    "start_time": "2022-02-12T13:25:41.757Z"
   },
   {
    "duration": 39,
    "start_time": "2022-02-12T13:25:42.008Z"
   },
   {
    "duration": 8,
    "start_time": "2022-02-12T13:25:42.792Z"
   },
   {
    "duration": 6,
    "start_time": "2022-02-12T13:25:43.105Z"
   },
   {
    "duration": 10,
    "start_time": "2022-02-12T13:25:43.911Z"
   },
   {
    "duration": 7,
    "start_time": "2022-02-12T13:25:44.171Z"
   },
   {
    "duration": 6,
    "start_time": "2022-02-12T13:25:44.559Z"
   },
   {
    "duration": 29,
    "start_time": "2022-02-12T13:25:46.938Z"
   },
   {
    "duration": 21,
    "start_time": "2022-02-12T13:25:47.217Z"
   },
   {
    "duration": 17,
    "start_time": "2022-02-12T13:25:47.439Z"
   },
   {
    "duration": 4,
    "start_time": "2022-02-12T13:25:47.716Z"
   },
   {
    "duration": 4,
    "start_time": "2022-02-12T13:25:47.971Z"
   },
   {
    "duration": 21,
    "start_time": "2022-02-12T13:25:48.728Z"
   },
   {
    "duration": 16,
    "start_time": "2022-02-12T13:25:48.992Z"
   },
   {
    "duration": 16,
    "start_time": "2022-02-12T13:25:49.220Z"
   },
   {
    "duration": 7,
    "start_time": "2022-02-12T13:25:49.799Z"
   },
   {
    "duration": 5,
    "start_time": "2022-02-12T13:25:50.079Z"
   },
   {
    "duration": 11,
    "start_time": "2022-02-12T13:25:51.724Z"
   },
   {
    "duration": 10,
    "start_time": "2022-02-12T13:25:52.964Z"
   },
   {
    "duration": 347,
    "start_time": "2022-02-12T13:26:11.008Z"
   },
   {
    "duration": 313,
    "start_time": "2022-02-12T13:26:50.074Z"
   },
   {
    "duration": 1113,
    "start_time": "2022-02-12T13:28:36.004Z"
   },
   {
    "duration": 424,
    "start_time": "2022-02-12T13:28:37.119Z"
   },
   {
    "duration": 20,
    "start_time": "2022-02-12T13:28:37.545Z"
   },
   {
    "duration": 26,
    "start_time": "2022-02-12T13:28:37.568Z"
   },
   {
    "duration": 114,
    "start_time": "2022-02-12T13:28:37.596Z"
   },
   {
    "duration": 20,
    "start_time": "2022-02-12T13:28:37.712Z"
   },
   {
    "duration": 41,
    "start_time": "2022-02-12T13:28:37.734Z"
   },
   {
    "duration": 78,
    "start_time": "2022-02-12T13:28:37.777Z"
   },
   {
    "duration": 22,
    "start_time": "2022-02-12T13:28:37.857Z"
   },
   {
    "duration": 13,
    "start_time": "2022-02-12T13:28:37.882Z"
   },
   {
    "duration": 42,
    "start_time": "2022-02-12T13:28:37.897Z"
   },
   {
    "duration": 32,
    "start_time": "2022-02-12T13:28:37.941Z"
   },
   {
    "duration": 6,
    "start_time": "2022-02-12T13:28:37.975Z"
   },
   {
    "duration": 12,
    "start_time": "2022-02-12T13:28:37.983Z"
   },
   {
    "duration": 8,
    "start_time": "2022-02-12T13:28:37.997Z"
   },
   {
    "duration": 10,
    "start_time": "2022-02-12T13:28:38.006Z"
   },
   {
    "duration": 56,
    "start_time": "2022-02-12T13:28:38.018Z"
   },
   {
    "duration": 23,
    "start_time": "2022-02-12T13:28:38.076Z"
   },
   {
    "duration": 20,
    "start_time": "2022-02-12T13:28:38.101Z"
   },
   {
    "duration": 6,
    "start_time": "2022-02-12T13:28:38.123Z"
   },
   {
    "duration": 17,
    "start_time": "2022-02-12T13:28:38.131Z"
   },
   {
    "duration": 37,
    "start_time": "2022-02-12T13:28:38.149Z"
   },
   {
    "duration": 20,
    "start_time": "2022-02-12T13:28:38.188Z"
   },
   {
    "duration": 15,
    "start_time": "2022-02-12T13:28:38.210Z"
   },
   {
    "duration": 12,
    "start_time": "2022-02-12T13:28:38.227Z"
   },
   {
    "duration": 11,
    "start_time": "2022-02-12T13:28:38.241Z"
   },
   {
    "duration": 26,
    "start_time": "2022-02-12T13:28:38.255Z"
   },
   {
    "duration": 22,
    "start_time": "2022-02-12T13:28:38.282Z"
   },
   {
    "duration": 2,
    "start_time": "2022-02-12T13:28:38.306Z"
   },
   {
    "duration": 10,
    "start_time": "2022-02-12T13:28:38.309Z"
   },
   {
    "duration": 25,
    "start_time": "2022-02-12T13:28:38.320Z"
   },
   {
    "duration": 14,
    "start_time": "2022-02-12T13:28:54.598Z"
   },
   {
    "duration": 140,
    "start_time": "2022-02-12T13:29:42.271Z"
   },
   {
    "duration": 348,
    "start_time": "2022-02-12T13:29:48.810Z"
   },
   {
    "duration": 1049,
    "start_time": "2022-02-12T13:30:00.528Z"
   },
   {
    "duration": 374,
    "start_time": "2022-02-12T13:30:01.579Z"
   },
   {
    "duration": 18,
    "start_time": "2022-02-12T13:30:01.955Z"
   },
   {
    "duration": 21,
    "start_time": "2022-02-12T13:30:01.975Z"
   },
   {
    "duration": 103,
    "start_time": "2022-02-12T13:30:01.997Z"
   },
   {
    "duration": 12,
    "start_time": "2022-02-12T13:30:02.102Z"
   },
   {
    "duration": 16,
    "start_time": "2022-02-12T13:30:02.116Z"
   },
   {
    "duration": 73,
    "start_time": "2022-02-12T13:30:02.133Z"
   },
   {
    "duration": 10,
    "start_time": "2022-02-12T13:30:02.209Z"
   },
   {
    "duration": 14,
    "start_time": "2022-02-12T13:30:02.221Z"
   },
   {
    "duration": 59,
    "start_time": "2022-02-12T13:30:02.236Z"
   },
   {
    "duration": 8,
    "start_time": "2022-02-12T13:30:02.296Z"
   },
   {
    "duration": 7,
    "start_time": "2022-02-12T13:30:02.306Z"
   },
   {
    "duration": 13,
    "start_time": "2022-02-12T13:30:02.315Z"
   },
   {
    "duration": 6,
    "start_time": "2022-02-12T13:30:02.329Z"
   },
   {
    "duration": 8,
    "start_time": "2022-02-12T13:30:02.337Z"
   },
   {
    "duration": 47,
    "start_time": "2022-02-12T13:30:02.347Z"
   },
   {
    "duration": 19,
    "start_time": "2022-02-12T13:30:02.396Z"
   },
   {
    "duration": 15,
    "start_time": "2022-02-12T13:30:02.417Z"
   },
   {
    "duration": 4,
    "start_time": "2022-02-12T13:30:02.434Z"
   },
   {
    "duration": 9,
    "start_time": "2022-02-12T13:30:02.439Z"
   },
   {
    "duration": 22,
    "start_time": "2022-02-12T13:30:02.471Z"
   },
   {
    "duration": 16,
    "start_time": "2022-02-12T13:30:02.495Z"
   },
   {
    "duration": 14,
    "start_time": "2022-02-12T13:30:02.513Z"
   },
   {
    "duration": 6,
    "start_time": "2022-02-12T13:30:02.529Z"
   },
   {
    "duration": 6,
    "start_time": "2022-02-12T13:30:02.536Z"
   },
   {
    "duration": 36,
    "start_time": "2022-02-12T13:30:02.545Z"
   },
   {
    "duration": 8,
    "start_time": "2022-02-12T13:30:02.583Z"
   },
   {
    "duration": 14,
    "start_time": "2022-02-12T13:30:02.593Z"
   },
   {
    "duration": 795,
    "start_time": "2022-02-12T13:30:02.608Z"
   },
   {
    "duration": 2,
    "start_time": "2022-02-12T13:30:03.404Z"
   },
   {
    "duration": 4,
    "start_time": "2022-02-12T13:30:03.408Z"
   },
   {
    "duration": 3,
    "start_time": "2022-02-12T13:30:03.414Z"
   },
   {
    "duration": 725,
    "start_time": "2022-02-12T13:31:27.513Z"
   },
   {
    "duration": 996,
    "start_time": "2022-02-12T13:31:33.097Z"
   },
   {
    "duration": 350,
    "start_time": "2022-02-12T13:31:34.097Z"
   },
   {
    "duration": 15,
    "start_time": "2022-02-12T13:31:34.449Z"
   },
   {
    "duration": 26,
    "start_time": "2022-02-12T13:31:34.466Z"
   },
   {
    "duration": 91,
    "start_time": "2022-02-12T13:31:34.493Z"
   },
   {
    "duration": 11,
    "start_time": "2022-02-12T13:31:34.585Z"
   },
   {
    "duration": 21,
    "start_time": "2022-02-12T13:31:34.599Z"
   },
   {
    "duration": 74,
    "start_time": "2022-02-12T13:31:34.622Z"
   },
   {
    "duration": 10,
    "start_time": "2022-02-12T13:31:34.697Z"
   },
   {
    "duration": 43,
    "start_time": "2022-02-12T13:31:34.708Z"
   },
   {
    "duration": 46,
    "start_time": "2022-02-12T13:31:34.753Z"
   },
   {
    "duration": 8,
    "start_time": "2022-02-12T13:31:34.800Z"
   },
   {
    "duration": 17,
    "start_time": "2022-02-12T13:31:34.809Z"
   },
   {
    "duration": 28,
    "start_time": "2022-02-12T13:31:34.828Z"
   },
   {
    "duration": 16,
    "start_time": "2022-02-12T13:31:34.858Z"
   },
   {
    "duration": 8,
    "start_time": "2022-02-12T13:31:34.875Z"
   },
   {
    "duration": 42,
    "start_time": "2022-02-12T13:31:34.884Z"
   },
   {
    "duration": 18,
    "start_time": "2022-02-12T13:31:34.927Z"
   },
   {
    "duration": 16,
    "start_time": "2022-02-12T13:31:34.947Z"
   },
   {
    "duration": 4,
    "start_time": "2022-02-12T13:31:34.964Z"
   },
   {
    "duration": 24,
    "start_time": "2022-02-12T13:31:34.972Z"
   },
   {
    "duration": 47,
    "start_time": "2022-02-12T13:31:34.999Z"
   },
   {
    "duration": 15,
    "start_time": "2022-02-12T13:31:35.048Z"
   },
   {
    "duration": 13,
    "start_time": "2022-02-12T13:31:35.065Z"
   },
   {
    "duration": 6,
    "start_time": "2022-02-12T13:31:35.079Z"
   },
   {
    "duration": 11,
    "start_time": "2022-02-12T13:31:35.086Z"
   },
   {
    "duration": 28,
    "start_time": "2022-02-12T13:31:35.098Z"
   },
   {
    "duration": 14,
    "start_time": "2022-02-12T13:31:35.128Z"
   },
   {
    "duration": 14,
    "start_time": "2022-02-12T13:31:35.143Z"
   },
   {
    "duration": 400,
    "start_time": "2022-02-12T13:31:35.158Z"
   },
   {
    "duration": -888,
    "start_time": "2022-02-12T13:31:36.447Z"
   },
   {
    "duration": -889,
    "start_time": "2022-02-12T13:31:36.449Z"
   },
   {
    "duration": 136,
    "start_time": "2022-02-12T13:36:05.295Z"
   },
   {
    "duration": 312,
    "start_time": "2022-02-12T13:36:13.724Z"
   },
   {
    "duration": 364,
    "start_time": "2022-02-12T13:39:06.396Z"
   },
   {
    "duration": 308,
    "start_time": "2022-02-12T13:39:23.900Z"
   },
   {
    "duration": 333,
    "start_time": "2022-02-12T13:39:31.534Z"
   },
   {
    "duration": 377,
    "start_time": "2022-02-12T13:42:26.033Z"
   },
   {
    "duration": 320,
    "start_time": "2022-02-12T13:42:59.835Z"
   },
   {
    "duration": 328,
    "start_time": "2022-02-12T13:43:58.958Z"
   },
   {
    "duration": 43,
    "start_time": "2022-02-12T13:51:23.046Z"
   },
   {
    "duration": 8,
    "start_time": "2022-02-12T13:51:41.115Z"
   },
   {
    "duration": 43,
    "start_time": "2022-02-12T13:52:36.744Z"
   },
   {
    "duration": 342,
    "start_time": "2022-02-12T13:55:32.200Z"
   },
   {
    "duration": 8,
    "start_time": "2022-02-12T13:55:32.755Z"
   },
   {
    "duration": 1028,
    "start_time": "2022-02-12T13:55:46.383Z"
   },
   {
    "duration": 395,
    "start_time": "2022-02-12T13:55:47.413Z"
   },
   {
    "duration": 16,
    "start_time": "2022-02-12T13:55:47.810Z"
   },
   {
    "duration": 20,
    "start_time": "2022-02-12T13:55:47.828Z"
   },
   {
    "duration": 100,
    "start_time": "2022-02-12T13:55:47.849Z"
   },
   {
    "duration": 22,
    "start_time": "2022-02-12T13:55:47.950Z"
   },
   {
    "duration": 15,
    "start_time": "2022-02-12T13:55:47.974Z"
   },
   {
    "duration": 63,
    "start_time": "2022-02-12T13:55:47.992Z"
   },
   {
    "duration": 22,
    "start_time": "2022-02-12T13:55:48.058Z"
   },
   {
    "duration": 13,
    "start_time": "2022-02-12T13:55:48.081Z"
   },
   {
    "duration": 37,
    "start_time": "2022-02-12T13:55:48.096Z"
   },
   {
    "duration": 7,
    "start_time": "2022-02-12T13:55:48.135Z"
   },
   {
    "duration": 33,
    "start_time": "2022-02-12T13:55:48.143Z"
   },
   {
    "duration": 11,
    "start_time": "2022-02-12T13:55:48.178Z"
   },
   {
    "duration": 6,
    "start_time": "2022-02-12T13:55:48.191Z"
   },
   {
    "duration": 7,
    "start_time": "2022-02-12T13:55:48.198Z"
   },
   {
    "duration": 27,
    "start_time": "2022-02-12T13:55:48.207Z"
   },
   {
    "duration": 49,
    "start_time": "2022-02-12T13:55:48.236Z"
   },
   {
    "duration": 18,
    "start_time": "2022-02-12T13:55:48.287Z"
   },
   {
    "duration": 4,
    "start_time": "2022-02-12T13:55:48.307Z"
   },
   {
    "duration": 7,
    "start_time": "2022-02-12T13:55:48.313Z"
   },
   {
    "duration": 22,
    "start_time": "2022-02-12T13:55:48.322Z"
   },
   {
    "duration": 18,
    "start_time": "2022-02-12T13:55:48.372Z"
   },
   {
    "duration": 15,
    "start_time": "2022-02-12T13:55:48.392Z"
   },
   {
    "duration": 7,
    "start_time": "2022-02-12T13:55:48.409Z"
   },
   {
    "duration": 5,
    "start_time": "2022-02-12T13:55:48.418Z"
   },
   {
    "duration": 12,
    "start_time": "2022-02-12T13:55:48.424Z"
   },
   {
    "duration": 40,
    "start_time": "2022-02-12T13:55:48.438Z"
   },
   {
    "duration": 12,
    "start_time": "2022-02-12T13:55:48.480Z"
   },
   {
    "duration": 433,
    "start_time": "2022-02-12T13:55:48.493Z"
   },
   {
    "duration": -872,
    "start_time": "2022-02-12T13:55:49.799Z"
   },
   {
    "duration": -872,
    "start_time": "2022-02-12T13:55:49.800Z"
   },
   {
    "duration": -873,
    "start_time": "2022-02-12T13:55:49.802Z"
   },
   {
    "duration": -874,
    "start_time": "2022-02-12T13:55:49.803Z"
   },
   {
    "duration": 44,
    "start_time": "2022-02-12T13:55:56.466Z"
   },
   {
    "duration": 359,
    "start_time": "2022-02-12T13:56:21.287Z"
   },
   {
    "duration": 44,
    "start_time": "2022-02-12T13:56:36.250Z"
   },
   {
    "duration": 307,
    "start_time": "2022-02-12T13:56:37.643Z"
   },
   {
    "duration": 45,
    "start_time": "2022-02-12T13:57:13.515Z"
   },
   {
    "duration": 379,
    "start_time": "2022-02-12T13:57:14.808Z"
   },
   {
    "duration": 8,
    "start_time": "2022-02-12T13:57:16.168Z"
   },
   {
    "duration": 67,
    "start_time": "2022-02-12T13:57:34.496Z"
   },
   {
    "duration": 321,
    "start_time": "2022-02-12T13:57:35.350Z"
   },
   {
    "duration": 12,
    "start_time": "2022-02-12T13:57:48.737Z"
   },
   {
    "duration": 12,
    "start_time": "2022-02-12T13:58:48.061Z"
   },
   {
    "duration": 309,
    "start_time": "2022-02-12T13:58:49.008Z"
   },
   {
    "duration": 15,
    "start_time": "2022-02-12T13:59:59.084Z"
   },
   {
    "duration": 8,
    "start_time": "2022-02-12T14:00:00.068Z"
   },
   {
    "duration": 12,
    "start_time": "2022-02-12T14:01:52.139Z"
   },
   {
    "duration": 16,
    "start_time": "2022-02-12T14:02:56.991Z"
   },
   {
    "duration": 8,
    "start_time": "2022-02-12T14:03:25.831Z"
   },
   {
    "duration": 152,
    "start_time": "2022-02-12T14:04:26.964Z"
   },
   {
    "duration": 15,
    "start_time": "2022-02-12T14:04:33.579Z"
   },
   {
    "duration": 8,
    "start_time": "2022-02-12T14:04:34.543Z"
   },
   {
    "duration": 333,
    "start_time": "2022-02-12T14:07:35.812Z"
   },
   {
    "duration": 1046,
    "start_time": "2022-02-12T14:07:45.138Z"
   },
   {
    "duration": 374,
    "start_time": "2022-02-12T14:07:46.186Z"
   },
   {
    "duration": 14,
    "start_time": "2022-02-12T14:07:46.562Z"
   },
   {
    "duration": 18,
    "start_time": "2022-02-12T14:07:46.578Z"
   },
   {
    "duration": 96,
    "start_time": "2022-02-12T14:07:46.598Z"
   },
   {
    "duration": 12,
    "start_time": "2022-02-12T14:07:46.696Z"
   },
   {
    "duration": 15,
    "start_time": "2022-02-12T14:07:46.710Z"
   },
   {
    "duration": 74,
    "start_time": "2022-02-12T14:07:46.727Z"
   },
   {
    "duration": 10,
    "start_time": "2022-02-12T14:07:46.803Z"
   },
   {
    "duration": 14,
    "start_time": "2022-02-12T14:07:46.815Z"
   },
   {
    "duration": 55,
    "start_time": "2022-02-12T14:07:46.830Z"
   },
   {
    "duration": 8,
    "start_time": "2022-02-12T14:07:46.887Z"
   },
   {
    "duration": 7,
    "start_time": "2022-02-12T14:07:46.896Z"
   },
   {
    "duration": 11,
    "start_time": "2022-02-12T14:07:46.904Z"
   },
   {
    "duration": 6,
    "start_time": "2022-02-12T14:07:46.916Z"
   },
   {
    "duration": 9,
    "start_time": "2022-02-12T14:07:46.923Z"
   },
   {
    "duration": 51,
    "start_time": "2022-02-12T14:07:46.933Z"
   },
   {
    "duration": 20,
    "start_time": "2022-02-12T14:07:46.986Z"
   },
   {
    "duration": 17,
    "start_time": "2022-02-12T14:07:47.008Z"
   },
   {
    "duration": 3,
    "start_time": "2022-02-12T14:07:47.027Z"
   },
   {
    "duration": 5,
    "start_time": "2022-02-12T14:07:47.032Z"
   },
   {
    "duration": 47,
    "start_time": "2022-02-12T14:07:47.039Z"
   },
   {
    "duration": 20,
    "start_time": "2022-02-12T14:07:47.088Z"
   },
   {
    "duration": 14,
    "start_time": "2022-02-12T14:07:47.110Z"
   },
   {
    "duration": 6,
    "start_time": "2022-02-12T14:07:47.125Z"
   },
   {
    "duration": 4,
    "start_time": "2022-02-12T14:07:47.133Z"
   },
   {
    "duration": 34,
    "start_time": "2022-02-12T14:07:47.140Z"
   },
   {
    "duration": 9,
    "start_time": "2022-02-12T14:07:47.175Z"
   },
   {
    "duration": 11,
    "start_time": "2022-02-12T14:07:47.185Z"
   },
   {
    "duration": 18,
    "start_time": "2022-02-12T14:07:47.197Z"
   },
   {
    "duration": 12,
    "start_time": "2022-02-12T14:07:47.216Z"
   },
   {
    "duration": 42,
    "start_time": "2022-02-12T14:07:47.229Z"
   },
   {
    "duration": 400,
    "start_time": "2022-02-12T14:07:47.273Z"
   },
   {
    "duration": -896,
    "start_time": "2022-02-12T14:07:48.571Z"
   },
   {
    "duration": -896,
    "start_time": "2022-02-12T14:07:48.572Z"
   },
   {
    "duration": 6,
    "start_time": "2022-02-12T14:09:59.631Z"
   },
   {
    "duration": 4,
    "start_time": "2022-02-12T14:11:25.297Z"
   },
   {
    "duration": 3,
    "start_time": "2022-02-12T14:11:29.338Z"
   },
   {
    "duration": 8,
    "start_time": "2022-02-12T14:11:37.310Z"
   },
   {
    "duration": 2,
    "start_time": "2022-02-12T14:11:54.564Z"
   },
   {
    "duration": 383,
    "start_time": "2022-02-12T14:13:14.667Z"
   },
   {
    "duration": 323,
    "start_time": "2022-02-12T14:13:33.636Z"
   },
   {
    "duration": 319,
    "start_time": "2022-02-12T14:14:12.026Z"
   },
   {
    "duration": 14,
    "start_time": "2022-02-12T14:15:22.135Z"
   },
   {
    "duration": 15,
    "start_time": "2022-02-12T14:15:25.764Z"
   },
   {
    "duration": 4,
    "start_time": "2022-02-12T14:18:20.254Z"
   },
   {
    "duration": 8,
    "start_time": "2022-02-12T14:18:24.348Z"
   },
   {
    "duration": 1035,
    "start_time": "2022-02-12T14:19:18.974Z"
   },
   {
    "duration": 378,
    "start_time": "2022-02-12T14:19:20.011Z"
   },
   {
    "duration": 17,
    "start_time": "2022-02-12T14:19:20.391Z"
   },
   {
    "duration": 19,
    "start_time": "2022-02-12T14:19:20.410Z"
   },
   {
    "duration": 93,
    "start_time": "2022-02-12T14:19:20.431Z"
   },
   {
    "duration": 13,
    "start_time": "2022-02-12T14:19:20.526Z"
   },
   {
    "duration": 30,
    "start_time": "2022-02-12T14:19:20.541Z"
   },
   {
    "duration": 58,
    "start_time": "2022-02-12T14:19:20.573Z"
   },
   {
    "duration": 9,
    "start_time": "2022-02-12T14:19:20.633Z"
   },
   {
    "duration": 31,
    "start_time": "2022-02-12T14:19:20.644Z"
   },
   {
    "duration": 45,
    "start_time": "2022-02-12T14:19:20.677Z"
   },
   {
    "duration": 8,
    "start_time": "2022-02-12T14:19:20.723Z"
   },
   {
    "duration": 14,
    "start_time": "2022-02-12T14:19:20.732Z"
   },
   {
    "duration": 18,
    "start_time": "2022-02-12T14:19:20.748Z"
   },
   {
    "duration": 19,
    "start_time": "2022-02-12T14:19:20.767Z"
   },
   {
    "duration": 14,
    "start_time": "2022-02-12T14:19:20.788Z"
   },
   {
    "duration": 29,
    "start_time": "2022-02-12T14:19:20.803Z"
   },
   {
    "duration": 19,
    "start_time": "2022-02-12T14:19:20.833Z"
   },
   {
    "duration": 20,
    "start_time": "2022-02-12T14:19:20.854Z"
   },
   {
    "duration": 4,
    "start_time": "2022-02-12T14:19:20.875Z"
   },
   {
    "duration": 17,
    "start_time": "2022-02-12T14:19:20.881Z"
   },
   {
    "duration": 36,
    "start_time": "2022-02-12T14:19:20.899Z"
   },
   {
    "duration": 23,
    "start_time": "2022-02-12T14:19:20.936Z"
   },
   {
    "duration": 14,
    "start_time": "2022-02-12T14:19:20.961Z"
   },
   {
    "duration": 6,
    "start_time": "2022-02-12T14:19:20.976Z"
   },
   {
    "duration": 5,
    "start_time": "2022-02-12T14:19:20.983Z"
   },
   {
    "duration": 15,
    "start_time": "2022-02-12T14:19:20.991Z"
   },
   {
    "duration": 11,
    "start_time": "2022-02-12T14:19:21.008Z"
   },
   {
    "duration": 11,
    "start_time": "2022-02-12T14:19:21.021Z"
   },
   {
    "duration": 108,
    "start_time": "2022-02-12T14:19:21.034Z"
   },
   {
    "duration": -916,
    "start_time": "2022-02-12T14:19:22.060Z"
   },
   {
    "duration": -917,
    "start_time": "2022-02-12T14:19:22.061Z"
   },
   {
    "duration": -918,
    "start_time": "2022-02-12T14:19:22.063Z"
   },
   {
    "duration": -918,
    "start_time": "2022-02-12T14:19:22.064Z"
   },
   {
    "duration": -919,
    "start_time": "2022-02-12T14:19:22.066Z"
   },
   {
    "duration": -920,
    "start_time": "2022-02-12T14:19:22.068Z"
   },
   {
    "duration": -920,
    "start_time": "2022-02-12T14:19:22.069Z"
   },
   {
    "duration": 1072,
    "start_time": "2022-02-12T14:19:32.667Z"
   },
   {
    "duration": 353,
    "start_time": "2022-02-12T14:19:33.741Z"
   },
   {
    "duration": 16,
    "start_time": "2022-02-12T14:19:34.096Z"
   },
   {
    "duration": 19,
    "start_time": "2022-02-12T14:19:34.114Z"
   },
   {
    "duration": 85,
    "start_time": "2022-02-12T14:19:34.135Z"
   },
   {
    "duration": 12,
    "start_time": "2022-02-12T14:19:34.222Z"
   },
   {
    "duration": 16,
    "start_time": "2022-02-12T14:19:34.236Z"
   },
   {
    "duration": 72,
    "start_time": "2022-02-12T14:19:34.254Z"
   },
   {
    "duration": 9,
    "start_time": "2022-02-12T14:19:34.328Z"
   },
   {
    "duration": 33,
    "start_time": "2022-02-12T14:19:34.339Z"
   },
   {
    "duration": 36,
    "start_time": "2022-02-12T14:19:34.373Z"
   },
   {
    "duration": 7,
    "start_time": "2022-02-12T14:19:34.411Z"
   },
   {
    "duration": 8,
    "start_time": "2022-02-12T14:19:34.419Z"
   },
   {
    "duration": 13,
    "start_time": "2022-02-12T14:19:34.429Z"
   },
   {
    "duration": 30,
    "start_time": "2022-02-12T14:19:34.444Z"
   },
   {
    "duration": 6,
    "start_time": "2022-02-12T14:19:34.476Z"
   },
   {
    "duration": 37,
    "start_time": "2022-02-12T14:19:34.483Z"
   },
   {
    "duration": 50,
    "start_time": "2022-02-12T14:19:34.522Z"
   },
   {
    "duration": 24,
    "start_time": "2022-02-12T14:19:34.574Z"
   },
   {
    "duration": 4,
    "start_time": "2022-02-12T14:19:34.600Z"
   },
   {
    "duration": 16,
    "start_time": "2022-02-12T14:19:34.606Z"
   },
   {
    "duration": 25,
    "start_time": "2022-02-12T14:19:34.624Z"
   },
   {
    "duration": 24,
    "start_time": "2022-02-12T14:19:34.651Z"
   },
   {
    "duration": 17,
    "start_time": "2022-02-12T14:19:34.677Z"
   },
   {
    "duration": 7,
    "start_time": "2022-02-12T14:19:34.695Z"
   },
   {
    "duration": 4,
    "start_time": "2022-02-12T14:19:34.704Z"
   },
   {
    "duration": 11,
    "start_time": "2022-02-12T14:19:34.710Z"
   },
   {
    "duration": 9,
    "start_time": "2022-02-12T14:19:34.723Z"
   },
   {
    "duration": 3,
    "start_time": "2022-02-12T14:19:34.733Z"
   },
   {
    "duration": 50,
    "start_time": "2022-02-12T14:19:34.738Z"
   },
   {
    "duration": 12,
    "start_time": "2022-02-12T14:19:34.790Z"
   },
   {
    "duration": 16,
    "start_time": "2022-02-12T14:19:34.804Z"
   },
   {
    "duration": 2,
    "start_time": "2022-02-12T14:19:34.821Z"
   },
   {
    "duration": 48,
    "start_time": "2022-02-12T14:19:34.825Z"
   },
   {
    "duration": 15,
    "start_time": "2022-02-12T14:19:34.875Z"
   },
   {
    "duration": 4,
    "start_time": "2022-02-12T14:19:34.892Z"
   },
   {
    "duration": 6,
    "start_time": "2022-02-12T14:19:34.898Z"
   },
   {
    "duration": 991,
    "start_time": "2022-02-12T14:21:27.613Z"
   },
   {
    "duration": 371,
    "start_time": "2022-02-12T14:21:28.607Z"
   },
   {
    "duration": 17,
    "start_time": "2022-02-12T14:21:28.981Z"
   },
   {
    "duration": 20,
    "start_time": "2022-02-12T14:21:29.000Z"
   },
   {
    "duration": 105,
    "start_time": "2022-02-12T14:21:29.022Z"
   },
   {
    "duration": 11,
    "start_time": "2022-02-12T14:21:29.128Z"
   },
   {
    "duration": 30,
    "start_time": "2022-02-12T14:21:29.141Z"
   },
   {
    "duration": 56,
    "start_time": "2022-02-12T14:21:29.173Z"
   },
   {
    "duration": 10,
    "start_time": "2022-02-12T14:21:29.232Z"
   },
   {
    "duration": 31,
    "start_time": "2022-02-12T14:21:29.244Z"
   },
   {
    "duration": 36,
    "start_time": "2022-02-12T14:21:29.277Z"
   },
   {
    "duration": 7,
    "start_time": "2022-02-12T14:21:29.314Z"
   },
   {
    "duration": 8,
    "start_time": "2022-02-12T14:21:29.323Z"
   },
   {
    "duration": 13,
    "start_time": "2022-02-12T14:21:29.332Z"
   },
   {
    "duration": 32,
    "start_time": "2022-02-12T14:21:29.346Z"
   },
   {
    "duration": 8,
    "start_time": "2022-02-12T14:21:29.380Z"
   },
   {
    "duration": 40,
    "start_time": "2022-02-12T14:21:29.390Z"
   },
   {
    "duration": 41,
    "start_time": "2022-02-12T14:21:29.432Z"
   },
   {
    "duration": 25,
    "start_time": "2022-02-12T14:21:29.476Z"
   },
   {
    "duration": 6,
    "start_time": "2022-02-12T14:21:29.503Z"
   },
   {
    "duration": 8,
    "start_time": "2022-02-12T14:21:29.510Z"
   },
   {
    "duration": 24,
    "start_time": "2022-02-12T14:21:29.520Z"
   },
   {
    "duration": 31,
    "start_time": "2022-02-12T14:21:29.546Z"
   },
   {
    "duration": 13,
    "start_time": "2022-02-12T14:21:29.579Z"
   },
   {
    "duration": 5,
    "start_time": "2022-02-12T14:21:29.594Z"
   },
   {
    "duration": 7,
    "start_time": "2022-02-12T14:21:29.601Z"
   },
   {
    "duration": 10,
    "start_time": "2022-02-12T14:21:29.611Z"
   },
   {
    "duration": 8,
    "start_time": "2022-02-12T14:21:29.623Z"
   },
   {
    "duration": 3,
    "start_time": "2022-02-12T14:21:29.633Z"
   },
   {
    "duration": 54,
    "start_time": "2022-02-12T14:21:29.637Z"
   },
   {
    "duration": 13,
    "start_time": "2022-02-12T14:21:29.693Z"
   },
   {
    "duration": 17,
    "start_time": "2022-02-12T14:21:29.708Z"
   },
   {
    "duration": 4,
    "start_time": "2022-02-12T14:21:29.727Z"
   },
   {
    "duration": 51,
    "start_time": "2022-02-12T14:21:29.733Z"
   },
   {
    "duration": 16,
    "start_time": "2022-02-12T14:21:29.786Z"
   },
   {
    "duration": 3,
    "start_time": "2022-02-12T14:21:29.804Z"
   },
   {
    "duration": 14,
    "start_time": "2022-02-12T14:21:42.443Z"
   },
   {
    "duration": 17,
    "start_time": "2022-02-12T14:21:43.106Z"
   },
   {
    "duration": 1219,
    "start_time": "2022-02-12T14:21:48.983Z"
   },
   {
    "duration": 369,
    "start_time": "2022-02-12T14:21:50.203Z"
   },
   {
    "duration": 15,
    "start_time": "2022-02-12T14:21:50.574Z"
   },
   {
    "duration": 18,
    "start_time": "2022-02-12T14:21:50.591Z"
   },
   {
    "duration": 103,
    "start_time": "2022-02-12T14:21:50.610Z"
   },
   {
    "duration": 16,
    "start_time": "2022-02-12T14:21:50.716Z"
   },
   {
    "duration": 38,
    "start_time": "2022-02-12T14:21:50.734Z"
   },
   {
    "duration": 97,
    "start_time": "2022-02-12T14:21:50.774Z"
   },
   {
    "duration": 13,
    "start_time": "2022-02-12T14:21:50.874Z"
   },
   {
    "duration": 20,
    "start_time": "2022-02-12T14:21:50.889Z"
   },
   {
    "duration": 39,
    "start_time": "2022-02-12T14:21:50.911Z"
   },
   {
    "duration": 12,
    "start_time": "2022-02-12T14:21:50.972Z"
   },
   {
    "duration": 24,
    "start_time": "2022-02-12T14:21:50.987Z"
   },
   {
    "duration": 23,
    "start_time": "2022-02-12T14:21:51.013Z"
   },
   {
    "duration": 33,
    "start_time": "2022-02-12T14:21:51.038Z"
   },
   {
    "duration": 21,
    "start_time": "2022-02-12T14:21:51.073Z"
   },
   {
    "duration": 37,
    "start_time": "2022-02-12T14:21:51.096Z"
   },
   {
    "duration": 20,
    "start_time": "2022-02-12T14:21:51.135Z"
   },
   {
    "duration": 17,
    "start_time": "2022-02-12T14:21:51.156Z"
   },
   {
    "duration": 5,
    "start_time": "2022-02-12T14:21:51.174Z"
   },
   {
    "duration": 14,
    "start_time": "2022-02-12T14:21:51.181Z"
   },
   {
    "duration": 51,
    "start_time": "2022-02-12T14:21:51.197Z"
   },
   {
    "duration": 18,
    "start_time": "2022-02-12T14:21:51.250Z"
   },
   {
    "duration": 22,
    "start_time": "2022-02-12T14:21:51.269Z"
   },
   {
    "duration": 25,
    "start_time": "2022-02-12T14:21:51.293Z"
   },
   {
    "duration": 11,
    "start_time": "2022-02-12T14:21:51.320Z"
   },
   {
    "duration": 21,
    "start_time": "2022-02-12T14:21:51.335Z"
   },
   {
    "duration": 11,
    "start_time": "2022-02-12T14:21:51.359Z"
   },
   {
    "duration": 6,
    "start_time": "2022-02-12T14:21:51.372Z"
   },
   {
    "duration": 26,
    "start_time": "2022-02-12T14:21:51.379Z"
   },
   {
    "duration": 11,
    "start_time": "2022-02-12T14:21:51.407Z"
   },
   {
    "duration": 16,
    "start_time": "2022-02-12T14:21:51.419Z"
   },
   {
    "duration": 5,
    "start_time": "2022-02-12T14:21:51.436Z"
   },
   {
    "duration": 41,
    "start_time": "2022-02-12T14:21:51.444Z"
   },
   {
    "duration": 12,
    "start_time": "2022-02-12T14:21:51.487Z"
   },
   {
    "duration": 6,
    "start_time": "2022-02-12T14:21:51.500Z"
   },
   {
    "duration": 1024,
    "start_time": "2022-02-12T14:22:42.270Z"
   },
   {
    "duration": 347,
    "start_time": "2022-02-12T14:22:43.295Z"
   },
   {
    "duration": 16,
    "start_time": "2022-02-12T14:22:43.644Z"
   },
   {
    "duration": 18,
    "start_time": "2022-02-12T14:22:43.661Z"
   },
   {
    "duration": 91,
    "start_time": "2022-02-12T14:22:43.681Z"
   },
   {
    "duration": 11,
    "start_time": "2022-02-12T14:22:44.143Z"
   },
   {
    "duration": 16,
    "start_time": "2022-02-12T14:22:44.310Z"
   },
   {
    "duration": 64,
    "start_time": "2022-02-12T14:22:44.496Z"
   },
   {
    "duration": 10,
    "start_time": "2022-02-12T14:22:45.099Z"
   },
   {
    "duration": 14,
    "start_time": "2022-02-12T14:22:45.290Z"
   },
   {
    "duration": 35,
    "start_time": "2022-02-12T14:22:45.474Z"
   },
   {
    "duration": 8,
    "start_time": "2022-02-12T14:22:46.037Z"
   },
   {
    "duration": 6,
    "start_time": "2022-02-12T14:22:46.210Z"
   },
   {
    "duration": 11,
    "start_time": "2022-02-12T14:22:46.771Z"
   },
   {
    "duration": 6,
    "start_time": "2022-02-12T14:22:46.980Z"
   },
   {
    "duration": 6,
    "start_time": "2022-02-12T14:22:47.176Z"
   },
   {
    "duration": 25,
    "start_time": "2022-02-12T14:22:48.648Z"
   },
   {
    "duration": 19,
    "start_time": "2022-02-12T14:22:48.846Z"
   },
   {
    "duration": 16,
    "start_time": "2022-02-12T14:22:49.044Z"
   },
   {
    "duration": 4,
    "start_time": "2022-02-12T14:22:49.238Z"
   },
   {
    "duration": 5,
    "start_time": "2022-02-12T14:22:49.434Z"
   },
   {
    "duration": 21,
    "start_time": "2022-02-12T14:22:50.447Z"
   },
   {
    "duration": 16,
    "start_time": "2022-02-12T14:22:50.662Z"
   },
   {
    "duration": 15,
    "start_time": "2022-02-12T14:22:50.888Z"
   },
   {
    "duration": 6,
    "start_time": "2022-02-12T14:22:54.572Z"
   },
   {
    "duration": 5,
    "start_time": "2022-02-12T14:22:54.881Z"
   },
   {
    "duration": 11,
    "start_time": "2022-02-12T14:22:57.532Z"
   },
   {
    "duration": 10,
    "start_time": "2022-02-12T14:23:13.735Z"
   },
   {
    "duration": 9,
    "start_time": "2022-02-12T14:23:22.307Z"
   },
   {
    "duration": 4,
    "start_time": "2022-02-12T14:23:23.584Z"
   },
   {
    "duration": 12,
    "start_time": "2022-02-12T14:23:37.537Z"
   },
   {
    "duration": 7,
    "start_time": "2022-02-12T14:23:44.038Z"
   },
   {
    "duration": 26,
    "start_time": "2022-02-12T14:23:58.123Z"
   },
   {
    "duration": 8,
    "start_time": "2022-02-12T14:24:05.523Z"
   },
   {
    "duration": 14,
    "start_time": "2022-02-12T14:24:08.081Z"
   },
   {
    "duration": 496,
    "start_time": "2022-02-12T14:24:17.580Z"
   },
   {
    "duration": 9,
    "start_time": "2022-02-12T14:24:22.994Z"
   },
   {
    "duration": 17,
    "start_time": "2022-02-12T14:24:30.540Z"
   },
   {
    "duration": 8,
    "start_time": "2022-02-12T14:24:38.554Z"
   },
   {
    "duration": 8,
    "start_time": "2022-02-12T14:25:01.476Z"
   },
   {
    "duration": 5,
    "start_time": "2022-02-12T14:25:06.359Z"
   },
   {
    "duration": 8,
    "start_time": "2022-02-12T14:25:07.550Z"
   },
   {
    "duration": 19,
    "start_time": "2022-02-12T14:25:13.897Z"
   },
   {
    "duration": 14,
    "start_time": "2022-02-12T14:25:14.842Z"
   },
   {
    "duration": 14,
    "start_time": "2022-02-12T14:25:22.065Z"
   },
   {
    "duration": 12,
    "start_time": "2022-02-12T14:25:22.795Z"
   },
   {
    "duration": 995,
    "start_time": "2022-02-12T14:25:32.394Z"
   },
   {
    "duration": 362,
    "start_time": "2022-02-12T14:25:33.391Z"
   },
   {
    "duration": 17,
    "start_time": "2022-02-12T14:25:33.755Z"
   },
   {
    "duration": 24,
    "start_time": "2022-02-12T14:25:33.774Z"
   },
   {
    "duration": 96,
    "start_time": "2022-02-12T14:25:33.800Z"
   },
   {
    "duration": 11,
    "start_time": "2022-02-12T14:25:33.897Z"
   },
   {
    "duration": 26,
    "start_time": "2022-02-12T14:25:33.910Z"
   },
   {
    "duration": 69,
    "start_time": "2022-02-12T14:25:33.938Z"
   },
   {
    "duration": 10,
    "start_time": "2022-02-12T14:25:34.009Z"
   },
   {
    "duration": 27,
    "start_time": "2022-02-12T14:25:34.020Z"
   },
   {
    "duration": 46,
    "start_time": "2022-02-12T14:25:34.049Z"
   },
   {
    "duration": 8,
    "start_time": "2022-02-12T14:25:34.097Z"
   },
   {
    "duration": 23,
    "start_time": "2022-02-12T14:25:34.107Z"
   },
   {
    "duration": 16,
    "start_time": "2022-02-12T14:25:34.132Z"
   },
   {
    "duration": 15,
    "start_time": "2022-02-12T14:25:34.150Z"
   },
   {
    "duration": 27,
    "start_time": "2022-02-12T14:25:34.167Z"
   },
   {
    "duration": 35,
    "start_time": "2022-02-12T14:25:34.196Z"
   },
   {
    "duration": 20,
    "start_time": "2022-02-12T14:25:34.233Z"
   },
   {
    "duration": 17,
    "start_time": "2022-02-12T14:25:34.254Z"
   },
   {
    "duration": 9,
    "start_time": "2022-02-12T14:25:34.273Z"
   },
   {
    "duration": 15,
    "start_time": "2022-02-12T14:25:34.284Z"
   },
   {
    "duration": 35,
    "start_time": "2022-02-12T14:25:34.301Z"
   },
   {
    "duration": 16,
    "start_time": "2022-02-12T14:25:34.339Z"
   },
   {
    "duration": 14,
    "start_time": "2022-02-12T14:25:34.356Z"
   },
   {
    "duration": 11,
    "start_time": "2022-02-12T14:25:34.372Z"
   },
   {
    "duration": 9,
    "start_time": "2022-02-12T14:25:34.384Z"
   },
   {
    "duration": 12,
    "start_time": "2022-02-12T14:25:34.395Z"
   },
   {
    "duration": 9,
    "start_time": "2022-02-12T14:25:34.408Z"
   },
   {
    "duration": 2,
    "start_time": "2022-02-12T14:25:34.419Z"
   },
   {
    "duration": 24,
    "start_time": "2022-02-12T14:25:34.423Z"
   },
   {
    "duration": 27,
    "start_time": "2022-02-12T14:25:34.448Z"
   },
   {
    "duration": 15,
    "start_time": "2022-02-12T14:25:34.477Z"
   },
   {
    "duration": 3,
    "start_time": "2022-02-12T14:25:34.493Z"
   },
   {
    "duration": 11,
    "start_time": "2022-02-12T14:25:34.497Z"
   },
   {
    "duration": 18,
    "start_time": "2022-02-12T14:25:34.509Z"
   },
   {
    "duration": 10,
    "start_time": "2022-02-12T14:25:34.529Z"
   },
   {
    "duration": 2,
    "start_time": "2022-02-12T14:25:34.540Z"
   },
   {
    "duration": 12,
    "start_time": "2022-02-12T14:25:47.900Z"
   },
   {
    "duration": 8,
    "start_time": "2022-02-12T14:25:48.588Z"
   },
   {
    "duration": 19,
    "start_time": "2022-02-12T14:25:56.284Z"
   },
   {
    "duration": 13,
    "start_time": "2022-02-12T14:25:56.835Z"
   },
   {
    "duration": 14,
    "start_time": "2022-02-12T14:26:14.352Z"
   },
   {
    "duration": 1055,
    "start_time": "2022-02-12T14:44:44.549Z"
   },
   {
    "duration": 364,
    "start_time": "2022-02-12T14:44:45.606Z"
   },
   {
    "duration": 15,
    "start_time": "2022-02-12T14:44:45.972Z"
   },
   {
    "duration": 18,
    "start_time": "2022-02-12T14:44:45.989Z"
   },
   {
    "duration": 110,
    "start_time": "2022-02-12T14:44:46.008Z"
   },
   {
    "duration": 13,
    "start_time": "2022-02-12T14:44:46.119Z"
   },
   {
    "duration": 16,
    "start_time": "2022-02-12T14:44:46.133Z"
   },
   {
    "duration": 79,
    "start_time": "2022-02-12T14:44:46.151Z"
   },
   {
    "duration": 10,
    "start_time": "2022-02-12T14:44:46.232Z"
   },
   {
    "duration": 29,
    "start_time": "2022-02-12T14:44:46.243Z"
   },
   {
    "duration": 36,
    "start_time": "2022-02-12T14:44:46.274Z"
   },
   {
    "duration": 8,
    "start_time": "2022-02-12T14:44:46.312Z"
   },
   {
    "duration": 6,
    "start_time": "2022-02-12T14:44:46.321Z"
   },
   {
    "duration": 10,
    "start_time": "2022-02-12T14:44:46.329Z"
   },
   {
    "duration": 30,
    "start_time": "2022-02-12T14:44:46.341Z"
   },
   {
    "duration": 5,
    "start_time": "2022-02-12T14:44:46.373Z"
   },
   {
    "duration": 26,
    "start_time": "2022-02-12T14:44:46.380Z"
   },
   {
    "duration": 19,
    "start_time": "2022-02-12T14:44:46.408Z"
   },
   {
    "duration": 15,
    "start_time": "2022-02-12T14:44:46.429Z"
   },
   {
    "duration": 28,
    "start_time": "2022-02-12T14:44:46.446Z"
   },
   {
    "duration": 5,
    "start_time": "2022-02-12T14:44:46.476Z"
   },
   {
    "duration": 21,
    "start_time": "2022-02-12T14:44:46.482Z"
   },
   {
    "duration": 15,
    "start_time": "2022-02-12T14:44:46.505Z"
   },
   {
    "duration": 13,
    "start_time": "2022-02-12T14:44:46.521Z"
   },
   {
    "duration": 6,
    "start_time": "2022-02-12T14:44:46.535Z"
   },
   {
    "duration": 30,
    "start_time": "2022-02-12T14:44:46.542Z"
   },
   {
    "duration": 10,
    "start_time": "2022-02-12T14:44:46.575Z"
   },
   {
    "duration": 8,
    "start_time": "2022-02-12T14:44:46.587Z"
   },
   {
    "duration": 2,
    "start_time": "2022-02-12T14:44:46.597Z"
   },
   {
    "duration": 21,
    "start_time": "2022-02-12T14:44:46.601Z"
   },
   {
    "duration": 10,
    "start_time": "2022-02-12T14:44:46.624Z"
   },
   {
    "duration": 36,
    "start_time": "2022-02-12T14:44:46.635Z"
   },
   {
    "duration": 3,
    "start_time": "2022-02-12T14:44:46.673Z"
   },
   {
    "duration": 18,
    "start_time": "2022-02-12T14:44:46.677Z"
   },
   {
    "duration": 4,
    "start_time": "2022-02-12T14:44:46.697Z"
   },
   {
    "duration": 12,
    "start_time": "2022-02-12T14:44:46.702Z"
   },
   {
    "duration": 11,
    "start_time": "2022-02-12T14:45:12.209Z"
   },
   {
    "duration": 21,
    "start_time": "2022-02-12T14:45:16.271Z"
   },
   {
    "duration": 19,
    "start_time": "2022-02-12T14:47:16.029Z"
   },
   {
    "duration": 6,
    "start_time": "2022-02-12T14:47:17.279Z"
   },
   {
    "duration": 14,
    "start_time": "2022-02-12T14:47:18.441Z"
   },
   {
    "duration": 10,
    "start_time": "2022-02-12T14:47:44.751Z"
   },
   {
    "duration": 376,
    "start_time": "2022-02-12T14:49:42.737Z"
   },
   {
    "duration": 9,
    "start_time": "2022-02-12T14:50:09.441Z"
   },
   {
    "duration": 9,
    "start_time": "2022-02-12T14:50:39.911Z"
   },
   {
    "duration": 25,
    "start_time": "2022-02-12T14:53:52.570Z"
   },
   {
    "duration": 7757,
    "start_time": "2022-02-12T14:54:17.655Z"
   },
   {
    "duration": 5,
    "start_time": "2022-02-12T14:54:28.546Z"
   },
   {
    "duration": 8,
    "start_time": "2022-02-12T14:54:48.219Z"
   },
   {
    "duration": 1030,
    "start_time": "2022-02-12T14:58:01.665Z"
   },
   {
    "duration": 352,
    "start_time": "2022-02-12T14:58:02.697Z"
   },
   {
    "duration": 15,
    "start_time": "2022-02-12T14:58:03.051Z"
   },
   {
    "duration": 18,
    "start_time": "2022-02-12T14:58:03.067Z"
   },
   {
    "duration": 98,
    "start_time": "2022-02-12T14:58:03.087Z"
   },
   {
    "duration": 14,
    "start_time": "2022-02-12T14:58:03.187Z"
   },
   {
    "duration": 15,
    "start_time": "2022-02-12T14:58:03.203Z"
   },
   {
    "duration": 86,
    "start_time": "2022-02-12T14:58:03.219Z"
   },
   {
    "duration": 10,
    "start_time": "2022-02-12T14:58:03.307Z"
   },
   {
    "duration": 17,
    "start_time": "2022-02-12T14:58:03.319Z"
   },
   {
    "duration": 50,
    "start_time": "2022-02-12T14:58:03.338Z"
   },
   {
    "duration": 7,
    "start_time": "2022-02-12T14:58:03.389Z"
   },
   {
    "duration": 9,
    "start_time": "2022-02-12T14:58:03.398Z"
   },
   {
    "duration": 10,
    "start_time": "2022-02-12T14:58:03.408Z"
   },
   {
    "duration": 5,
    "start_time": "2022-02-12T14:58:03.420Z"
   },
   {
    "duration": 6,
    "start_time": "2022-02-12T14:58:03.427Z"
   },
   {
    "duration": 56,
    "start_time": "2022-02-12T14:58:03.434Z"
   },
   {
    "duration": 19,
    "start_time": "2022-02-12T14:58:03.492Z"
   },
   {
    "duration": 15,
    "start_time": "2022-02-12T14:58:03.513Z"
   },
   {
    "duration": 3,
    "start_time": "2022-02-12T14:58:03.530Z"
   },
   {
    "duration": 8,
    "start_time": "2022-02-12T14:58:03.535Z"
   },
   {
    "duration": 41,
    "start_time": "2022-02-12T14:58:03.544Z"
   },
   {
    "duration": 7,
    "start_time": "2022-02-12T14:58:03.586Z"
   },
   {
    "duration": 14,
    "start_time": "2022-02-12T14:58:03.594Z"
   },
   {
    "duration": 22,
    "start_time": "2022-02-12T14:58:03.609Z"
   },
   {
    "duration": 40,
    "start_time": "2022-02-12T14:58:03.632Z"
   },
   {
    "duration": 14,
    "start_time": "2022-02-12T14:58:03.675Z"
   },
   {
    "duration": 4,
    "start_time": "2022-02-12T14:58:03.691Z"
   },
   {
    "duration": 5,
    "start_time": "2022-02-12T14:58:03.697Z"
   },
   {
    "duration": 15,
    "start_time": "2022-02-12T14:58:03.703Z"
   },
   {
    "duration": 8,
    "start_time": "2022-02-12T14:58:03.719Z"
   },
   {
    "duration": 4,
    "start_time": "2022-02-12T14:58:03.728Z"
   },
   {
    "duration": 40,
    "start_time": "2022-02-12T14:58:03.733Z"
   },
   {
    "duration": 12,
    "start_time": "2022-02-12T14:58:03.775Z"
   },
   {
    "duration": 17,
    "start_time": "2022-02-12T14:58:03.788Z"
   },
   {
    "duration": 3,
    "start_time": "2022-02-12T14:58:03.807Z"
   },
   {
    "duration": 23,
    "start_time": "2022-02-12T14:58:03.812Z"
   },
   {
    "duration": 4,
    "start_time": "2022-02-12T14:58:03.836Z"
   },
   {
    "duration": 38,
    "start_time": "2022-02-12T14:58:03.842Z"
   },
   {
    "duration": 8,
    "start_time": "2022-02-12T14:58:03.882Z"
   },
   {
    "duration": 8,
    "start_time": "2022-02-12T14:58:03.891Z"
   },
   {
    "duration": 1034,
    "start_time": "2022-02-12T15:00:18.454Z"
   },
   {
    "duration": 368,
    "start_time": "2022-02-12T15:00:19.490Z"
   },
   {
    "duration": 16,
    "start_time": "2022-02-12T15:00:19.862Z"
   },
   {
    "duration": 19,
    "start_time": "2022-02-12T15:00:19.879Z"
   },
   {
    "duration": 105,
    "start_time": "2022-02-12T15:00:19.899Z"
   },
   {
    "duration": 11,
    "start_time": "2022-02-12T15:00:20.006Z"
   },
   {
    "duration": 17,
    "start_time": "2022-02-12T15:00:20.019Z"
   },
   {
    "duration": 82,
    "start_time": "2022-02-12T15:00:20.038Z"
   },
   {
    "duration": 11,
    "start_time": "2022-02-12T15:00:20.122Z"
   },
   {
    "duration": 14,
    "start_time": "2022-02-12T15:00:20.135Z"
   },
   {
    "duration": 55,
    "start_time": "2022-02-12T15:00:20.150Z"
   },
   {
    "duration": 7,
    "start_time": "2022-02-12T15:00:20.207Z"
   },
   {
    "duration": 6,
    "start_time": "2022-02-12T15:00:20.216Z"
   },
   {
    "duration": 12,
    "start_time": "2022-02-12T15:00:20.223Z"
   },
   {
    "duration": 7,
    "start_time": "2022-02-12T15:00:20.236Z"
   },
   {
    "duration": 30,
    "start_time": "2022-02-12T15:00:20.244Z"
   },
   {
    "duration": 25,
    "start_time": "2022-02-12T15:00:20.276Z"
   },
   {
    "duration": 20,
    "start_time": "2022-02-12T15:00:20.303Z"
   },
   {
    "duration": 16,
    "start_time": "2022-02-12T15:00:20.324Z"
   },
   {
    "duration": 4,
    "start_time": "2022-02-12T15:00:20.341Z"
   },
   {
    "duration": 8,
    "start_time": "2022-02-12T15:00:20.371Z"
   },
   {
    "duration": 29,
    "start_time": "2022-02-12T15:00:20.380Z"
   },
   {
    "duration": 7,
    "start_time": "2022-02-12T15:00:20.411Z"
   },
   {
    "duration": 14,
    "start_time": "2022-02-12T15:00:20.420Z"
   },
   {
    "duration": 21,
    "start_time": "2022-02-12T15:00:20.435Z"
   },
   {
    "duration": 17,
    "start_time": "2022-02-12T15:00:20.471Z"
   },
   {
    "duration": 14,
    "start_time": "2022-02-12T15:00:20.489Z"
   },
   {
    "duration": 4,
    "start_time": "2022-02-12T15:00:20.505Z"
   },
   {
    "duration": 7,
    "start_time": "2022-02-12T15:00:20.511Z"
   },
   {
    "duration": 16,
    "start_time": "2022-02-12T15:00:20.519Z"
   },
   {
    "duration": 9,
    "start_time": "2022-02-12T15:00:20.537Z"
   },
   {
    "duration": 25,
    "start_time": "2022-02-12T15:00:20.547Z"
   },
   {
    "duration": 25,
    "start_time": "2022-02-12T15:00:20.574Z"
   },
   {
    "duration": 12,
    "start_time": "2022-02-12T15:00:20.601Z"
   },
   {
    "duration": 15,
    "start_time": "2022-02-12T15:00:20.614Z"
   },
   {
    "duration": 3,
    "start_time": "2022-02-12T15:00:20.631Z"
   },
   {
    "duration": 40,
    "start_time": "2022-02-12T15:00:20.636Z"
   },
   {
    "duration": 5,
    "start_time": "2022-02-12T15:00:20.677Z"
   },
   {
    "duration": 19,
    "start_time": "2022-02-12T15:00:20.684Z"
   },
   {
    "duration": 16,
    "start_time": "2022-02-12T15:00:20.705Z"
   },
   {
    "duration": 17,
    "start_time": "2022-02-12T15:00:20.722Z"
   },
   {
    "duration": 4,
    "start_time": "2022-02-12T15:00:20.740Z"
   },
   {
    "duration": 11,
    "start_time": "2022-02-12T15:00:20.745Z"
   },
   {
    "duration": 18,
    "start_time": "2022-02-12T15:00:20.757Z"
   },
   {
    "duration": 8,
    "start_time": "2022-02-12T15:00:50.396Z"
   },
   {
    "duration": 1001,
    "start_time": "2022-02-12T15:08:14.306Z"
   },
   {
    "duration": 355,
    "start_time": "2022-02-12T15:08:15.309Z"
   },
   {
    "duration": 16,
    "start_time": "2022-02-12T15:08:15.666Z"
   },
   {
    "duration": 19,
    "start_time": "2022-02-12T15:08:15.684Z"
   },
   {
    "duration": 114,
    "start_time": "2022-02-12T15:08:15.704Z"
   },
   {
    "duration": 13,
    "start_time": "2022-02-12T15:08:15.819Z"
   },
   {
    "duration": 17,
    "start_time": "2022-02-12T15:08:15.833Z"
   },
   {
    "duration": 75,
    "start_time": "2022-02-12T15:08:15.852Z"
   },
   {
    "duration": 9,
    "start_time": "2022-02-12T15:08:15.929Z"
   },
   {
    "duration": 14,
    "start_time": "2022-02-12T15:08:15.940Z"
   },
   {
    "duration": 50,
    "start_time": "2022-02-12T15:08:15.956Z"
   },
   {
    "duration": 7,
    "start_time": "2022-02-12T15:08:16.008Z"
   },
   {
    "duration": 7,
    "start_time": "2022-02-12T15:08:16.017Z"
   },
   {
    "duration": 12,
    "start_time": "2022-02-12T15:08:16.025Z"
   },
   {
    "duration": 6,
    "start_time": "2022-02-12T15:08:16.038Z"
   },
   {
    "duration": 6,
    "start_time": "2022-02-12T15:08:16.071Z"
   },
   {
    "duration": 30,
    "start_time": "2022-02-12T15:08:16.078Z"
   },
   {
    "duration": 18,
    "start_time": "2022-02-12T15:08:16.110Z"
   },
   {
    "duration": 16,
    "start_time": "2022-02-12T15:08:16.130Z"
   },
   {
    "duration": 25,
    "start_time": "2022-02-12T15:08:16.147Z"
   },
   {
    "duration": 6,
    "start_time": "2022-02-12T15:08:16.173Z"
   },
   {
    "duration": 24,
    "start_time": "2022-02-12T15:08:16.181Z"
   },
   {
    "duration": 5,
    "start_time": "2022-02-12T15:08:16.209Z"
   },
   {
    "duration": 14,
    "start_time": "2022-02-12T15:08:16.216Z"
   },
   {
    "duration": 46,
    "start_time": "2022-02-12T15:08:16.232Z"
   },
   {
    "duration": 17,
    "start_time": "2022-02-12T15:08:16.280Z"
   },
   {
    "duration": 15,
    "start_time": "2022-02-12T15:08:16.298Z"
   },
   {
    "duration": 6,
    "start_time": "2022-02-12T15:08:16.314Z"
   },
   {
    "duration": 5,
    "start_time": "2022-02-12T15:08:16.322Z"
   },
   {
    "duration": 15,
    "start_time": "2022-02-12T15:08:16.328Z"
   },
   {
    "duration": 9,
    "start_time": "2022-02-12T15:08:16.372Z"
   },
   {
    "duration": 3,
    "start_time": "2022-02-12T15:08:16.383Z"
   },
   {
    "duration": 133,
    "start_time": "2022-02-12T15:08:16.388Z"
   },
   {
    "duration": -1013,
    "start_time": "2022-02-12T15:08:17.536Z"
   },
   {
    "duration": -1014,
    "start_time": "2022-02-12T15:08:17.539Z"
   },
   {
    "duration": -1014,
    "start_time": "2022-02-12T15:08:17.540Z"
   },
   {
    "duration": -1015,
    "start_time": "2022-02-12T15:08:17.542Z"
   },
   {
    "duration": -1015,
    "start_time": "2022-02-12T15:08:17.544Z"
   },
   {
    "duration": -1020,
    "start_time": "2022-02-12T15:08:17.550Z"
   },
   {
    "duration": -1022,
    "start_time": "2022-02-12T15:08:17.553Z"
   },
   {
    "duration": -1021,
    "start_time": "2022-02-12T15:08:17.554Z"
   },
   {
    "duration": -1022,
    "start_time": "2022-02-12T15:08:17.556Z"
   },
   {
    "duration": -1022,
    "start_time": "2022-02-12T15:08:17.558Z"
   },
   {
    "duration": -1022,
    "start_time": "2022-02-12T15:08:17.559Z"
   },
   {
    "duration": -1023,
    "start_time": "2022-02-12T15:08:17.562Z"
   },
   {
    "duration": -1028,
    "start_time": "2022-02-12T15:08:17.568Z"
   },
   {
    "duration": -1054,
    "start_time": "2022-02-12T15:08:40.258Z"
   },
   {
    "duration": 8149,
    "start_time": "2022-02-12T15:08:42.933Z"
   },
   {
    "duration": 20,
    "start_time": "2022-02-12T15:08:58.991Z"
   },
   {
    "duration": 5,
    "start_time": "2022-02-12T15:09:01.292Z"
   },
   {
    "duration": 24,
    "start_time": "2022-02-12T15:09:22.534Z"
   },
   {
    "duration": 11,
    "start_time": "2022-02-12T15:09:24.221Z"
   },
   {
    "duration": 16,
    "start_time": "2022-02-12T15:12:29.059Z"
   },
   {
    "duration": 3,
    "start_time": "2022-02-12T15:12:31.249Z"
   },
   {
    "duration": 9,
    "start_time": "2022-02-12T15:12:43.246Z"
   },
   {
    "duration": 5,
    "start_time": "2022-02-12T15:12:58.330Z"
   },
   {
    "duration": 985,
    "start_time": "2022-02-12T15:13:04.730Z"
   },
   {
    "duration": 366,
    "start_time": "2022-02-12T15:13:05.717Z"
   },
   {
    "duration": 14,
    "start_time": "2022-02-12T15:13:06.086Z"
   },
   {
    "duration": 17,
    "start_time": "2022-02-12T15:13:06.102Z"
   },
   {
    "duration": 94,
    "start_time": "2022-02-12T15:13:06.121Z"
   },
   {
    "duration": 12,
    "start_time": "2022-02-12T15:13:06.216Z"
   },
   {
    "duration": 16,
    "start_time": "2022-02-12T15:13:06.229Z"
   },
   {
    "duration": 69,
    "start_time": "2022-02-12T15:13:06.247Z"
   },
   {
    "duration": 9,
    "start_time": "2022-02-12T15:13:06.319Z"
   },
   {
    "duration": 14,
    "start_time": "2022-02-12T15:13:06.330Z"
   },
   {
    "duration": 51,
    "start_time": "2022-02-12T15:13:06.345Z"
   },
   {
    "duration": 7,
    "start_time": "2022-02-12T15:13:06.398Z"
   },
   {
    "duration": 7,
    "start_time": "2022-02-12T15:13:06.406Z"
   },
   {
    "duration": 10,
    "start_time": "2022-02-12T15:13:06.414Z"
   },
   {
    "duration": 6,
    "start_time": "2022-02-12T15:13:06.426Z"
   },
   {
    "duration": 6,
    "start_time": "2022-02-12T15:13:06.433Z"
   },
   {
    "duration": 54,
    "start_time": "2022-02-12T15:13:06.440Z"
   },
   {
    "duration": 19,
    "start_time": "2022-02-12T15:13:06.496Z"
   },
   {
    "duration": 16,
    "start_time": "2022-02-12T15:13:06.516Z"
   },
   {
    "duration": 3,
    "start_time": "2022-02-12T15:13:06.534Z"
   },
   {
    "duration": 6,
    "start_time": "2022-02-12T15:13:06.538Z"
   },
   {
    "duration": 39,
    "start_time": "2022-02-12T15:13:06.546Z"
   },
   {
    "duration": 4,
    "start_time": "2022-02-12T15:13:06.587Z"
   },
   {
    "duration": 14,
    "start_time": "2022-02-12T15:13:06.592Z"
   },
   {
    "duration": 20,
    "start_time": "2022-02-12T15:13:06.608Z"
   },
   {
    "duration": 16,
    "start_time": "2022-02-12T15:13:06.629Z"
   },
   {
    "duration": 35,
    "start_time": "2022-02-12T15:13:06.647Z"
   },
   {
    "duration": 6,
    "start_time": "2022-02-12T15:13:06.684Z"
   },
   {
    "duration": 5,
    "start_time": "2022-02-12T15:13:06.691Z"
   },
   {
    "duration": 13,
    "start_time": "2022-02-12T15:13:06.697Z"
   },
   {
    "duration": 9,
    "start_time": "2022-02-12T15:13:06.712Z"
   },
   {
    "duration": 2,
    "start_time": "2022-02-12T15:13:06.723Z"
   },
   {
    "duration": 26,
    "start_time": "2022-02-12T15:13:06.727Z"
   },
   {
    "duration": 16,
    "start_time": "2022-02-12T15:13:06.755Z"
   },
   {
    "duration": 10,
    "start_time": "2022-02-12T15:13:06.773Z"
   },
   {
    "duration": 12,
    "start_time": "2022-02-12T15:13:06.785Z"
   },
   {
    "duration": 17,
    "start_time": "2022-02-12T15:13:06.799Z"
   },
   {
    "duration": 4,
    "start_time": "2022-02-12T15:13:06.817Z"
   },
   {
    "duration": 52,
    "start_time": "2022-02-12T15:13:06.822Z"
   },
   {
    "duration": 6,
    "start_time": "2022-02-12T15:13:06.875Z"
   },
   {
    "duration": 14,
    "start_time": "2022-02-12T15:13:06.882Z"
   },
   {
    "duration": 6,
    "start_time": "2022-02-12T15:13:06.898Z"
   },
   {
    "duration": 7,
    "start_time": "2022-02-12T15:13:06.906Z"
   },
   {
    "duration": 5,
    "start_time": "2022-02-12T15:13:06.915Z"
   },
   {
    "duration": 7,
    "start_time": "2022-02-12T15:13:06.921Z"
   },
   {
    "duration": 8,
    "start_time": "2022-02-12T15:13:06.930Z"
   },
   {
    "duration": 32,
    "start_time": "2022-02-12T15:13:06.939Z"
   },
   {
    "duration": 837,
    "start_time": "2022-02-12T15:20:12.520Z"
   },
   {
    "duration": 20,
    "start_time": "2022-02-12T15:20:54.962Z"
   },
   {
    "duration": 313,
    "start_time": "2022-02-12T15:23:46.388Z"
   },
   {
    "duration": 4,
    "start_time": "2022-02-12T15:24:36.895Z"
   },
   {
    "duration": 31,
    "start_time": "2022-02-12T15:27:08.201Z"
   },
   {
    "duration": 47,
    "start_time": "2022-02-12T15:29:30.744Z"
   },
   {
    "duration": 32,
    "start_time": "2022-02-12T15:29:45.192Z"
   },
   {
    "duration": 1080,
    "start_time": "2022-02-12T15:30:56.633Z"
   },
   {
    "duration": 358,
    "start_time": "2022-02-12T15:30:57.715Z"
   },
   {
    "duration": 15,
    "start_time": "2022-02-12T15:30:58.075Z"
   },
   {
    "duration": 17,
    "start_time": "2022-02-12T15:30:58.092Z"
   },
   {
    "duration": 103,
    "start_time": "2022-02-12T15:30:58.111Z"
   },
   {
    "duration": 12,
    "start_time": "2022-02-12T15:30:58.216Z"
   },
   {
    "duration": 17,
    "start_time": "2022-02-12T15:30:58.230Z"
   },
   {
    "duration": 80,
    "start_time": "2022-02-12T15:30:58.249Z"
   },
   {
    "duration": 10,
    "start_time": "2022-02-12T15:30:58.332Z"
   },
   {
    "duration": 31,
    "start_time": "2022-02-12T15:30:58.344Z"
   },
   {
    "duration": 45,
    "start_time": "2022-02-12T15:30:58.377Z"
   },
   {
    "duration": 7,
    "start_time": "2022-02-12T15:30:58.424Z"
   },
   {
    "duration": 7,
    "start_time": "2022-02-12T15:30:58.433Z"
   },
   {
    "duration": 33,
    "start_time": "2022-02-12T15:30:58.441Z"
   },
   {
    "duration": 6,
    "start_time": "2022-02-12T15:30:58.476Z"
   },
   {
    "duration": 6,
    "start_time": "2022-02-12T15:30:58.483Z"
   },
   {
    "duration": 29,
    "start_time": "2022-02-12T15:30:58.491Z"
   },
   {
    "duration": 21,
    "start_time": "2022-02-12T15:30:58.521Z"
   },
   {
    "duration": 42,
    "start_time": "2022-02-12T15:30:58.543Z"
   },
   {
    "duration": 4,
    "start_time": "2022-02-12T15:30:58.587Z"
   },
   {
    "duration": 6,
    "start_time": "2022-02-12T15:30:58.592Z"
   },
   {
    "duration": 22,
    "start_time": "2022-02-12T15:30:58.599Z"
   },
   {
    "duration": 4,
    "start_time": "2022-02-12T15:30:58.623Z"
   },
   {
    "duration": 15,
    "start_time": "2022-02-12T15:30:58.629Z"
   },
   {
    "duration": 41,
    "start_time": "2022-02-12T15:30:58.646Z"
   },
   {
    "duration": 18,
    "start_time": "2022-02-12T15:30:58.689Z"
   },
   {
    "duration": 13,
    "start_time": "2022-02-12T15:30:58.710Z"
   },
   {
    "duration": 5,
    "start_time": "2022-02-12T15:30:58.725Z"
   },
   {
    "duration": 5,
    "start_time": "2022-02-12T15:30:58.732Z"
   },
   {
    "duration": 39,
    "start_time": "2022-02-12T15:30:58.739Z"
   },
   {
    "duration": 15,
    "start_time": "2022-02-12T15:30:58.780Z"
   },
   {
    "duration": 4,
    "start_time": "2022-02-12T15:30:58.796Z"
   },
   {
    "duration": 23,
    "start_time": "2022-02-12T15:30:58.801Z"
   },
   {
    "duration": 3,
    "start_time": "2022-02-12T15:30:58.825Z"
   },
   {
    "duration": 15,
    "start_time": "2022-02-12T15:30:58.830Z"
   },
   {
    "duration": 31,
    "start_time": "2022-02-12T15:30:58.847Z"
   },
   {
    "duration": 3,
    "start_time": "2022-02-12T15:30:58.880Z"
   },
   {
    "duration": 20,
    "start_time": "2022-02-12T15:30:58.884Z"
   },
   {
    "duration": 5,
    "start_time": "2022-02-12T15:30:58.905Z"
   },
   {
    "duration": 16,
    "start_time": "2022-02-12T15:30:58.911Z"
   },
   {
    "duration": 10,
    "start_time": "2022-02-12T15:30:58.929Z"
   },
   {
    "duration": 9,
    "start_time": "2022-02-12T15:30:58.940Z"
   },
   {
    "duration": 3,
    "start_time": "2022-02-12T15:30:58.971Z"
   },
   {
    "duration": 5,
    "start_time": "2022-02-12T15:30:58.975Z"
   },
   {
    "duration": 9,
    "start_time": "2022-02-12T15:30:58.981Z"
   },
   {
    "duration": 14,
    "start_time": "2022-02-12T15:30:58.992Z"
   },
   {
    "duration": 33,
    "start_time": "2022-02-12T15:30:59.007Z"
   },
   {
    "duration": 453,
    "start_time": "2022-02-12T15:32:14.612Z"
   },
   {
    "duration": 16,
    "start_time": "2022-02-12T15:32:15.165Z"
   },
   {
    "duration": 1022,
    "start_time": "2022-02-12T15:32:33.226Z"
   },
   {
    "duration": 356,
    "start_time": "2022-02-12T15:32:34.250Z"
   },
   {
    "duration": 15,
    "start_time": "2022-02-12T15:32:34.608Z"
   },
   {
    "duration": 19,
    "start_time": "2022-02-12T15:32:34.624Z"
   },
   {
    "duration": 89,
    "start_time": "2022-02-12T15:32:34.645Z"
   },
   {
    "duration": 12,
    "start_time": "2022-02-12T15:32:34.736Z"
   },
   {
    "duration": 24,
    "start_time": "2022-02-12T15:32:34.750Z"
   },
   {
    "duration": 62,
    "start_time": "2022-02-12T15:32:34.776Z"
   },
   {
    "duration": 10,
    "start_time": "2022-02-12T15:32:34.842Z"
   },
   {
    "duration": 31,
    "start_time": "2022-02-12T15:32:34.855Z"
   },
   {
    "duration": 39,
    "start_time": "2022-02-12T15:32:34.888Z"
   },
   {
    "duration": 9,
    "start_time": "2022-02-12T15:32:34.929Z"
   },
   {
    "duration": 36,
    "start_time": "2022-02-12T15:32:34.940Z"
   },
   {
    "duration": 12,
    "start_time": "2022-02-12T15:32:34.978Z"
   },
   {
    "duration": 7,
    "start_time": "2022-02-12T15:32:34.992Z"
   },
   {
    "duration": 5,
    "start_time": "2022-02-12T15:32:35.001Z"
   },
   {
    "duration": 28,
    "start_time": "2022-02-12T15:32:35.007Z"
   },
   {
    "duration": 23,
    "start_time": "2022-02-12T15:32:35.071Z"
   },
   {
    "duration": 17,
    "start_time": "2022-02-12T15:32:35.096Z"
   },
   {
    "duration": 4,
    "start_time": "2022-02-12T15:32:35.114Z"
   },
   {
    "duration": 7,
    "start_time": "2022-02-12T15:32:35.119Z"
   },
   {
    "duration": 24,
    "start_time": "2022-02-12T15:32:35.128Z"
   },
   {
    "duration": 5,
    "start_time": "2022-02-12T15:32:35.172Z"
   },
   {
    "duration": 13,
    "start_time": "2022-02-12T15:32:35.178Z"
   },
   {
    "duration": 21,
    "start_time": "2022-02-12T15:32:35.193Z"
   },
   {
    "duration": 16,
    "start_time": "2022-02-12T15:32:35.216Z"
   },
   {
    "duration": 38,
    "start_time": "2022-02-12T15:32:35.235Z"
   },
   {
    "duration": 5,
    "start_time": "2022-02-12T15:32:35.275Z"
   },
   {
    "duration": 5,
    "start_time": "2022-02-12T15:32:35.281Z"
   },
   {
    "duration": 12,
    "start_time": "2022-02-12T15:32:35.287Z"
   },
   {
    "duration": 8,
    "start_time": "2022-02-12T15:32:35.301Z"
   },
   {
    "duration": 3,
    "start_time": "2022-02-12T15:32:35.311Z"
   },
   {
    "duration": 25,
    "start_time": "2022-02-12T15:32:35.315Z"
   },
   {
    "duration": 2,
    "start_time": "2022-02-12T15:32:35.342Z"
   },
   {
    "duration": 31,
    "start_time": "2022-02-12T15:32:35.346Z"
   },
   {
    "duration": 15,
    "start_time": "2022-02-12T15:32:35.379Z"
   },
   {
    "duration": 3,
    "start_time": "2022-02-12T15:32:35.396Z"
   },
   {
    "duration": 23,
    "start_time": "2022-02-12T15:32:35.400Z"
   },
   {
    "duration": 5,
    "start_time": "2022-02-12T15:32:35.424Z"
   },
   {
    "duration": 16,
    "start_time": "2022-02-12T15:32:35.430Z"
   },
   {
    "duration": 6,
    "start_time": "2022-02-12T15:32:35.474Z"
   },
   {
    "duration": 8,
    "start_time": "2022-02-12T15:32:35.482Z"
   },
   {
    "duration": 5,
    "start_time": "2022-02-12T15:32:35.492Z"
   },
   {
    "duration": 8,
    "start_time": "2022-02-12T15:32:35.499Z"
   },
   {
    "duration": 9,
    "start_time": "2022-02-12T15:32:35.508Z"
   },
   {
    "duration": 12,
    "start_time": "2022-02-12T15:32:35.518Z"
   },
   {
    "duration": 46,
    "start_time": "2022-02-12T15:32:35.532Z"
   },
   {
    "duration": 14,
    "start_time": "2022-02-12T15:34:27.010Z"
   },
   {
    "duration": 13,
    "start_time": "2022-02-12T15:34:30.691Z"
   },
   {
    "duration": 430,
    "start_time": "2022-02-12T15:34:44.157Z"
   },
   {
    "duration": 17,
    "start_time": "2022-02-12T15:34:51.227Z"
   },
   {
    "duration": 22,
    "start_time": "2022-02-12T15:35:27.621Z"
   },
   {
    "duration": 11,
    "start_time": "2022-02-12T15:37:39.333Z"
   },
   {
    "duration": 18,
    "start_time": "2022-02-12T15:37:41.356Z"
   },
   {
    "duration": 14,
    "start_time": "2022-02-12T15:37:46.186Z"
   },
   {
    "duration": 21,
    "start_time": "2022-02-12T15:37:46.850Z"
   },
   {
    "duration": 46,
    "start_time": "2022-02-12T15:48:17.143Z"
   },
   {
    "duration": 1007,
    "start_time": "2022-02-12T15:51:54.391Z"
   },
   {
    "duration": 356,
    "start_time": "2022-02-12T15:51:55.399Z"
   },
   {
    "duration": 15,
    "start_time": "2022-02-12T15:51:55.756Z"
   },
   {
    "duration": 19,
    "start_time": "2022-02-12T15:51:55.773Z"
   },
   {
    "duration": 108,
    "start_time": "2022-02-12T15:51:55.793Z"
   },
   {
    "duration": 11,
    "start_time": "2022-02-12T15:51:55.903Z"
   },
   {
    "duration": 15,
    "start_time": "2022-02-12T15:51:55.916Z"
   },
   {
    "duration": 79,
    "start_time": "2022-02-12T15:51:55.934Z"
   },
   {
    "duration": 12,
    "start_time": "2022-02-12T15:51:56.015Z"
   },
   {
    "duration": 13,
    "start_time": "2022-02-12T15:51:56.029Z"
   },
   {
    "duration": 63,
    "start_time": "2022-02-12T15:51:56.044Z"
   },
   {
    "duration": 8,
    "start_time": "2022-02-12T15:51:56.108Z"
   },
   {
    "duration": 10,
    "start_time": "2022-02-12T15:51:56.117Z"
   },
   {
    "duration": 11,
    "start_time": "2022-02-12T15:51:56.128Z"
   },
   {
    "duration": 33,
    "start_time": "2022-02-12T15:51:56.141Z"
   },
   {
    "duration": 5,
    "start_time": "2022-02-12T15:51:56.176Z"
   },
   {
    "duration": 25,
    "start_time": "2022-02-12T15:51:56.183Z"
   },
   {
    "duration": 19,
    "start_time": "2022-02-12T15:51:56.209Z"
   },
   {
    "duration": 16,
    "start_time": "2022-02-12T15:51:56.229Z"
   },
   {
    "duration": 25,
    "start_time": "2022-02-12T15:51:56.247Z"
   },
   {
    "duration": 6,
    "start_time": "2022-02-12T15:51:56.273Z"
   },
   {
    "duration": 25,
    "start_time": "2022-02-12T15:51:56.280Z"
   },
   {
    "duration": 4,
    "start_time": "2022-02-12T15:51:56.308Z"
   },
   {
    "duration": 15,
    "start_time": "2022-02-12T15:51:56.313Z"
   },
   {
    "duration": 43,
    "start_time": "2022-02-12T15:51:56.329Z"
   },
   {
    "duration": 16,
    "start_time": "2022-02-12T15:51:56.373Z"
   },
   {
    "duration": 15,
    "start_time": "2022-02-12T15:51:56.390Z"
   },
   {
    "duration": 6,
    "start_time": "2022-02-12T15:51:56.406Z"
   },
   {
    "duration": 5,
    "start_time": "2022-02-12T15:51:56.414Z"
   },
   {
    "duration": 14,
    "start_time": "2022-02-12T15:51:56.421Z"
   },
   {
    "duration": 36,
    "start_time": "2022-02-12T15:51:56.436Z"
   },
   {
    "duration": 4,
    "start_time": "2022-02-12T15:51:56.474Z"
   },
   {
    "duration": 32,
    "start_time": "2022-02-12T15:51:56.480Z"
   },
   {
    "duration": 3,
    "start_time": "2022-02-12T15:51:56.514Z"
   },
   {
    "duration": 20,
    "start_time": "2022-02-12T15:51:56.519Z"
   },
   {
    "duration": 43,
    "start_time": "2022-02-12T15:51:56.541Z"
   },
   {
    "duration": 4,
    "start_time": "2022-02-12T15:51:56.586Z"
   },
   {
    "duration": 30,
    "start_time": "2022-02-12T15:51:56.592Z"
   },
   {
    "duration": 6,
    "start_time": "2022-02-12T15:51:56.623Z"
   },
   {
    "duration": 17,
    "start_time": "2022-02-12T15:51:56.631Z"
   },
   {
    "duration": 26,
    "start_time": "2022-02-12T15:51:56.649Z"
   },
   {
    "duration": 7,
    "start_time": "2022-02-12T15:51:56.677Z"
   },
   {
    "duration": 3,
    "start_time": "2022-02-12T15:51:56.685Z"
   },
   {
    "duration": 10,
    "start_time": "2022-02-12T15:51:56.689Z"
   },
   {
    "duration": 8,
    "start_time": "2022-02-12T15:51:56.700Z"
   },
   {
    "duration": 11,
    "start_time": "2022-02-12T15:51:56.709Z"
   },
   {
    "duration": 53,
    "start_time": "2022-02-12T15:51:56.721Z"
   },
   {
    "duration": 8075,
    "start_time": "2022-02-12T15:51:56.775Z"
   },
   {
    "duration": 8321,
    "start_time": "2022-02-12T15:52:13.166Z"
   },
   {
    "duration": 15,
    "start_time": "2022-02-12T15:52:30.651Z"
   },
   {
    "duration": 8043,
    "start_time": "2022-02-12T15:54:31.146Z"
   },
   {
    "duration": 8833,
    "start_time": "2022-02-12T15:54:56.031Z"
   },
   {
    "duration": 1042,
    "start_time": "2022-02-12T15:55:27.961Z"
   },
   {
    "duration": 354,
    "start_time": "2022-02-12T15:55:29.005Z"
   },
   {
    "duration": 14,
    "start_time": "2022-02-12T15:55:29.361Z"
   },
   {
    "duration": 18,
    "start_time": "2022-02-12T15:55:29.377Z"
   },
   {
    "duration": 99,
    "start_time": "2022-02-12T15:55:29.396Z"
   },
   {
    "duration": 11,
    "start_time": "2022-02-12T15:55:29.497Z"
   },
   {
    "duration": 17,
    "start_time": "2022-02-12T15:55:29.510Z"
   },
   {
    "duration": 81,
    "start_time": "2022-02-12T15:55:29.530Z"
   },
   {
    "duration": 10,
    "start_time": "2022-02-12T15:55:29.612Z"
   },
   {
    "duration": 15,
    "start_time": "2022-02-12T15:55:29.624Z"
   },
   {
    "duration": 55,
    "start_time": "2022-02-12T15:55:29.641Z"
   },
   {
    "duration": 9,
    "start_time": "2022-02-12T15:55:29.698Z"
   },
   {
    "duration": 8,
    "start_time": "2022-02-12T15:55:29.708Z"
   },
   {
    "duration": 12,
    "start_time": "2022-02-12T15:55:29.717Z"
   },
   {
    "duration": 6,
    "start_time": "2022-02-12T15:55:29.731Z"
   },
   {
    "duration": 33,
    "start_time": "2022-02-12T15:55:29.739Z"
   },
   {
    "duration": 28,
    "start_time": "2022-02-12T15:55:29.774Z"
   },
   {
    "duration": 21,
    "start_time": "2022-02-12T15:55:29.804Z"
   },
   {
    "duration": 17,
    "start_time": "2022-02-12T15:55:29.826Z"
   },
   {
    "duration": 28,
    "start_time": "2022-02-12T15:55:29.845Z"
   },
   {
    "duration": 6,
    "start_time": "2022-02-12T15:55:29.875Z"
   },
   {
    "duration": 25,
    "start_time": "2022-02-12T15:55:29.883Z"
   },
   {
    "duration": 6,
    "start_time": "2022-02-12T15:55:29.913Z"
   },
   {
    "duration": 16,
    "start_time": "2022-02-12T15:55:29.922Z"
   },
   {
    "duration": 53,
    "start_time": "2022-02-12T15:55:29.940Z"
   },
   {
    "duration": 19,
    "start_time": "2022-02-12T15:55:29.995Z"
   },
   {
    "duration": 17,
    "start_time": "2022-02-12T15:55:30.016Z"
   },
   {
    "duration": 6,
    "start_time": "2022-02-12T15:55:30.035Z"
   },
   {
    "duration": 12,
    "start_time": "2022-02-12T15:55:30.043Z"
   },
   {
    "duration": 15,
    "start_time": "2022-02-12T15:55:30.071Z"
   },
   {
    "duration": 11,
    "start_time": "2022-02-12T15:55:30.088Z"
   },
   {
    "duration": 5,
    "start_time": "2022-02-12T15:55:30.100Z"
   },
   {
    "duration": 32,
    "start_time": "2022-02-12T15:55:30.106Z"
   },
   {
    "duration": 3,
    "start_time": "2022-02-12T15:55:30.139Z"
   },
   {
    "duration": 21,
    "start_time": "2022-02-12T15:55:30.143Z"
   },
   {
    "duration": 17,
    "start_time": "2022-02-12T15:55:30.171Z"
   },
   {
    "duration": 8,
    "start_time": "2022-02-12T15:55:30.189Z"
   },
   {
    "duration": 28,
    "start_time": "2022-02-12T15:55:30.198Z"
   },
   {
    "duration": 5,
    "start_time": "2022-02-12T15:55:30.227Z"
   },
   {
    "duration": 16,
    "start_time": "2022-02-12T15:55:30.234Z"
   },
   {
    "duration": 21,
    "start_time": "2022-02-12T15:55:30.251Z"
   },
   {
    "duration": 14,
    "start_time": "2022-02-12T15:55:30.274Z"
   },
   {
    "duration": 14,
    "start_time": "2022-02-12T15:55:30.290Z"
   },
   {
    "duration": 10,
    "start_time": "2022-02-12T15:55:30.306Z"
   },
   {
    "duration": 21,
    "start_time": "2022-02-12T15:55:30.318Z"
   },
   {
    "duration": 13,
    "start_time": "2022-02-12T15:55:30.341Z"
   },
   {
    "duration": 39,
    "start_time": "2022-02-12T15:55:30.356Z"
   },
   {
    "duration": 8402,
    "start_time": "2022-02-12T15:55:30.396Z"
   },
   {
    "duration": -1151,
    "start_time": "2022-02-12T15:55:39.951Z"
   },
   {
    "duration": 9130,
    "start_time": "2022-02-12T15:57:13.445Z"
   },
   {
    "duration": 1030,
    "start_time": "2022-02-12T15:58:45.671Z"
   },
   {
    "duration": 373,
    "start_time": "2022-02-12T15:58:46.703Z"
   },
   {
    "duration": 17,
    "start_time": "2022-02-12T15:58:47.078Z"
   },
   {
    "duration": 19,
    "start_time": "2022-02-12T15:58:47.096Z"
   },
   {
    "duration": 105,
    "start_time": "2022-02-12T15:58:47.116Z"
   },
   {
    "duration": 12,
    "start_time": "2022-02-12T15:58:47.222Z"
   },
   {
    "duration": 16,
    "start_time": "2022-02-12T15:58:47.235Z"
   },
   {
    "duration": 71,
    "start_time": "2022-02-12T15:58:47.254Z"
   },
   {
    "duration": 9,
    "start_time": "2022-02-12T15:58:47.327Z"
   },
   {
    "duration": 14,
    "start_time": "2022-02-12T15:58:47.338Z"
   },
   {
    "duration": 37,
    "start_time": "2022-02-12T15:58:47.371Z"
   },
   {
    "duration": 8,
    "start_time": "2022-02-12T15:58:47.410Z"
   },
   {
    "duration": 10,
    "start_time": "2022-02-12T15:58:47.419Z"
   },
   {
    "duration": 13,
    "start_time": "2022-02-12T15:58:47.431Z"
   },
   {
    "duration": 27,
    "start_time": "2022-02-12T15:58:47.446Z"
   },
   {
    "duration": 7,
    "start_time": "2022-02-12T15:58:47.474Z"
   },
   {
    "duration": 27,
    "start_time": "2022-02-12T15:58:47.482Z"
   },
   {
    "duration": 19,
    "start_time": "2022-02-12T15:58:47.511Z"
   },
   {
    "duration": 45,
    "start_time": "2022-02-12T15:58:47.531Z"
   },
   {
    "duration": 5,
    "start_time": "2022-02-12T15:58:47.577Z"
   },
   {
    "duration": 6,
    "start_time": "2022-02-12T15:58:47.583Z"
   },
   {
    "duration": 22,
    "start_time": "2022-02-12T15:58:47.591Z"
   },
   {
    "duration": 4,
    "start_time": "2022-02-12T15:58:47.616Z"
   },
   {
    "duration": 14,
    "start_time": "2022-02-12T15:58:47.622Z"
   },
   {
    "duration": 41,
    "start_time": "2022-02-12T15:58:47.638Z"
   },
   {
    "duration": 15,
    "start_time": "2022-02-12T15:58:47.681Z"
   },
   {
    "duration": 14,
    "start_time": "2022-02-12T15:58:47.697Z"
   },
   {
    "duration": 5,
    "start_time": "2022-02-12T15:58:47.712Z"
   },
   {
    "duration": 10,
    "start_time": "2022-02-12T15:58:47.718Z"
   },
   {
    "duration": 15,
    "start_time": "2022-02-12T15:58:47.729Z"
   },
   {
    "duration": 8,
    "start_time": "2022-02-12T15:58:47.745Z"
   },
   {
    "duration": 18,
    "start_time": "2022-02-12T15:58:47.754Z"
   },
   {
    "duration": 25,
    "start_time": "2022-02-12T15:58:47.774Z"
   },
   {
    "duration": 3,
    "start_time": "2022-02-12T15:58:47.800Z"
   },
   {
    "duration": 15,
    "start_time": "2022-02-12T15:58:47.804Z"
   },
   {
    "duration": 15,
    "start_time": "2022-02-12T15:58:47.821Z"
   },
   {
    "duration": 3,
    "start_time": "2022-02-12T15:58:47.837Z"
   },
   {
    "duration": 40,
    "start_time": "2022-02-12T15:58:47.842Z"
   },
   {
    "duration": 5,
    "start_time": "2022-02-12T15:58:47.883Z"
   },
   {
    "duration": 13,
    "start_time": "2022-02-12T15:58:47.889Z"
   },
   {
    "duration": 8,
    "start_time": "2022-02-12T15:58:47.903Z"
   },
   {
    "duration": 9,
    "start_time": "2022-02-12T15:58:47.913Z"
   },
   {
    "duration": 5,
    "start_time": "2022-02-12T15:58:47.923Z"
   },
   {
    "duration": 9,
    "start_time": "2022-02-12T15:58:47.929Z"
   },
   {
    "duration": 9,
    "start_time": "2022-02-12T15:58:47.939Z"
   },
   {
    "duration": 22,
    "start_time": "2022-02-12T15:58:47.949Z"
   },
   {
    "duration": 31,
    "start_time": "2022-02-12T15:58:47.973Z"
   },
   {
    "duration": 8092,
    "start_time": "2022-02-12T15:58:48.005Z"
   },
   {
    "duration": -1160,
    "start_time": "2022-02-12T15:58:57.259Z"
   },
   {
    "duration": 8202,
    "start_time": "2022-02-12T15:59:46.871Z"
   },
   {
    "duration": 8518,
    "start_time": "2022-02-12T16:00:07.500Z"
   },
   {
    "duration": 1181,
    "start_time": "2022-02-12T16:04:02.149Z"
   },
   {
    "duration": 380,
    "start_time": "2022-02-12T16:04:03.332Z"
   },
   {
    "duration": 20,
    "start_time": "2022-02-12T16:04:03.714Z"
   },
   {
    "duration": 29,
    "start_time": "2022-02-12T16:04:03.736Z"
   },
   {
    "duration": 91,
    "start_time": "2022-02-12T16:04:03.766Z"
   },
   {
    "duration": 16,
    "start_time": "2022-02-12T16:04:03.859Z"
   },
   {
    "duration": 15,
    "start_time": "2022-02-12T16:04:03.877Z"
   },
   {
    "duration": 58,
    "start_time": "2022-02-12T16:04:03.894Z"
   },
   {
    "duration": 10,
    "start_time": "2022-02-12T16:04:03.971Z"
   },
   {
    "duration": 15,
    "start_time": "2022-02-12T16:04:03.983Z"
   },
   {
    "duration": 43,
    "start_time": "2022-02-12T16:04:04.000Z"
   },
   {
    "duration": 28,
    "start_time": "2022-02-12T16:04:04.045Z"
   },
   {
    "duration": 7,
    "start_time": "2022-02-12T16:04:04.075Z"
   },
   {
    "duration": 16,
    "start_time": "2022-02-12T16:04:04.084Z"
   },
   {
    "duration": 9,
    "start_time": "2022-02-12T16:04:04.101Z"
   },
   {
    "duration": 8,
    "start_time": "2022-02-12T16:04:04.112Z"
   },
   {
    "duration": 28,
    "start_time": "2022-02-12T16:04:04.122Z"
   },
   {
    "duration": 38,
    "start_time": "2022-02-12T16:04:04.152Z"
   },
   {
    "duration": 17,
    "start_time": "2022-02-12T16:04:04.192Z"
   },
   {
    "duration": 4,
    "start_time": "2022-02-12T16:04:04.211Z"
   },
   {
    "duration": 6,
    "start_time": "2022-02-12T16:04:04.216Z"
   },
   {
    "duration": 22,
    "start_time": "2022-02-12T16:04:04.223Z"
   },
   {
    "duration": 5,
    "start_time": "2022-02-12T16:04:04.273Z"
   },
   {
    "duration": 13,
    "start_time": "2022-02-12T16:04:04.280Z"
   },
   {
    "duration": 25,
    "start_time": "2022-02-12T16:04:04.295Z"
   },
   {
    "duration": 20,
    "start_time": "2022-02-12T16:04:04.321Z"
   },
   {
    "duration": 39,
    "start_time": "2022-02-12T16:04:04.343Z"
   },
   {
    "duration": 5,
    "start_time": "2022-02-12T16:04:04.384Z"
   },
   {
    "duration": 6,
    "start_time": "2022-02-12T16:04:04.390Z"
   },
   {
    "duration": 14,
    "start_time": "2022-02-12T16:04:04.398Z"
   },
   {
    "duration": 15,
    "start_time": "2022-02-12T16:04:04.414Z"
   },
   {
    "duration": 4,
    "start_time": "2022-02-12T16:04:04.430Z"
   },
   {
    "duration": 38,
    "start_time": "2022-02-12T16:04:04.435Z"
   },
   {
    "duration": 3,
    "start_time": "2022-02-12T16:04:04.475Z"
   },
   {
    "duration": 14,
    "start_time": "2022-02-12T16:04:04.479Z"
   },
   {
    "duration": 16,
    "start_time": "2022-02-12T16:04:04.494Z"
   },
   {
    "duration": 3,
    "start_time": "2022-02-12T16:04:04.511Z"
   },
   {
    "duration": 23,
    "start_time": "2022-02-12T16:04:04.516Z"
   },
   {
    "duration": 6,
    "start_time": "2022-02-12T16:04:04.540Z"
   },
   {
    "duration": 14,
    "start_time": "2022-02-12T16:04:04.571Z"
   },
   {
    "duration": 7,
    "start_time": "2022-02-12T16:04:04.587Z"
   },
   {
    "duration": 7,
    "start_time": "2022-02-12T16:04:04.596Z"
   },
   {
    "duration": 4,
    "start_time": "2022-02-12T16:04:04.605Z"
   },
   {
    "duration": 9,
    "start_time": "2022-02-12T16:04:04.610Z"
   },
   {
    "duration": 9,
    "start_time": "2022-02-12T16:04:04.620Z"
   },
   {
    "duration": 12,
    "start_time": "2022-02-12T16:04:04.630Z"
   },
   {
    "duration": 49,
    "start_time": "2022-02-12T16:04:04.643Z"
   },
   {
    "duration": 11335,
    "start_time": "2022-02-12T16:04:04.693Z"
   },
   {
    "duration": -1158,
    "start_time": "2022-02-12T16:04:17.188Z"
   },
   {
    "duration": 4,
    "start_time": "2022-02-12T16:06:25.018Z"
   },
   {
    "duration": 8151,
    "start_time": "2022-02-12T16:06:37.952Z"
   },
   {
    "duration": -1181,
    "start_time": "2022-02-12T16:06:47.287Z"
   },
   {
    "duration": 3,
    "start_time": "2022-02-12T16:07:05.580Z"
   },
   {
    "duration": 7908,
    "start_time": "2022-02-12T16:07:06.740Z"
   },
   {
    "duration": 3,
    "start_time": "2022-02-12T16:07:38.227Z"
   },
   {
    "duration": 11287,
    "start_time": "2022-02-12T16:07:42.067Z"
   },
   {
    "duration": 8369,
    "start_time": "2022-02-12T16:07:54.349Z"
   },
   {
    "duration": 14265,
    "start_time": "2022-02-12T16:08:17.708Z"
   },
   {
    "duration": 1118,
    "start_time": "2022-02-12T16:09:18.600Z"
   },
   {
    "duration": 376,
    "start_time": "2022-02-12T16:09:19.720Z"
   },
   {
    "duration": 16,
    "start_time": "2022-02-12T16:09:20.098Z"
   },
   {
    "duration": 18,
    "start_time": "2022-02-12T16:09:20.115Z"
   },
   {
    "duration": 92,
    "start_time": "2022-02-12T16:09:20.135Z"
   },
   {
    "duration": 12,
    "start_time": "2022-02-12T16:09:20.229Z"
   },
   {
    "duration": 17,
    "start_time": "2022-02-12T16:09:20.242Z"
   },
   {
    "duration": 68,
    "start_time": "2022-02-12T16:09:20.260Z"
   },
   {
    "duration": 10,
    "start_time": "2022-02-12T16:09:20.330Z"
   },
   {
    "duration": 30,
    "start_time": "2022-02-12T16:09:20.341Z"
   },
   {
    "duration": 36,
    "start_time": "2022-02-12T16:09:20.373Z"
   },
   {
    "duration": 7,
    "start_time": "2022-02-12T16:09:20.411Z"
   },
   {
    "duration": 10,
    "start_time": "2022-02-12T16:09:20.419Z"
   },
   {
    "duration": 12,
    "start_time": "2022-02-12T16:09:20.430Z"
   },
   {
    "duration": 32,
    "start_time": "2022-02-12T16:09:20.443Z"
   },
   {
    "duration": 6,
    "start_time": "2022-02-12T16:09:20.477Z"
   },
   {
    "duration": 36,
    "start_time": "2022-02-12T16:09:20.485Z"
   },
   {
    "duration": 20,
    "start_time": "2022-02-12T16:09:20.523Z"
   },
   {
    "duration": 37,
    "start_time": "2022-02-12T16:09:20.544Z"
   },
   {
    "duration": 5,
    "start_time": "2022-02-12T16:09:20.583Z"
   },
   {
    "duration": 6,
    "start_time": "2022-02-12T16:09:20.589Z"
   },
   {
    "duration": 22,
    "start_time": "2022-02-12T16:09:20.597Z"
   },
   {
    "duration": 4,
    "start_time": "2022-02-12T16:09:20.621Z"
   },
   {
    "duration": 13,
    "start_time": "2022-02-12T16:09:20.626Z"
   },
   {
    "duration": 44,
    "start_time": "2022-02-12T16:09:20.641Z"
   },
   {
    "duration": 15,
    "start_time": "2022-02-12T16:09:20.687Z"
   },
   {
    "duration": 13,
    "start_time": "2022-02-12T16:09:20.706Z"
   },
   {
    "duration": 5,
    "start_time": "2022-02-12T16:09:20.721Z"
   },
   {
    "duration": 4,
    "start_time": "2022-02-12T16:09:20.727Z"
   },
   {
    "duration": 39,
    "start_time": "2022-02-12T16:09:20.732Z"
   },
   {
    "duration": 17,
    "start_time": "2022-02-12T16:09:20.773Z"
   },
   {
    "duration": 3,
    "start_time": "2022-02-12T16:09:20.791Z"
   },
   {
    "duration": 23,
    "start_time": "2022-02-12T16:09:20.796Z"
   },
   {
    "duration": 2,
    "start_time": "2022-02-12T16:09:20.821Z"
   },
   {
    "duration": 28,
    "start_time": "2022-02-12T16:09:20.825Z"
   },
   {
    "duration": 28,
    "start_time": "2022-02-12T16:09:20.855Z"
   },
   {
    "duration": 4,
    "start_time": "2022-02-12T16:09:20.886Z"
   },
   {
    "duration": 24,
    "start_time": "2022-02-12T16:09:20.892Z"
   },
   {
    "duration": 5,
    "start_time": "2022-02-12T16:09:20.918Z"
   },
   {
    "duration": 16,
    "start_time": "2022-02-12T16:09:20.924Z"
   },
   {
    "duration": 9,
    "start_time": "2022-02-12T16:09:20.942Z"
   },
   {
    "duration": 25,
    "start_time": "2022-02-12T16:09:20.953Z"
   },
   {
    "duration": 3,
    "start_time": "2022-02-12T16:09:20.979Z"
   },
   {
    "duration": 9,
    "start_time": "2022-02-12T16:09:20.984Z"
   },
   {
    "duration": 8,
    "start_time": "2022-02-12T16:09:20.995Z"
   },
   {
    "duration": 15,
    "start_time": "2022-02-12T16:09:21.004Z"
   },
   {
    "duration": 33,
    "start_time": "2022-02-12T16:09:21.021Z"
   },
   {
    "duration": 4,
    "start_time": "2022-02-12T16:09:21.072Z"
   },
   {
    "duration": 11132,
    "start_time": "2022-02-12T16:09:21.078Z"
   },
   {
    "duration": -1181,
    "start_time": "2022-02-12T16:09:33.392Z"
   },
   {
    "duration": 13,
    "start_time": "2022-02-12T16:12:11.020Z"
   },
   {
    "duration": 16,
    "start_time": "2022-02-12T16:12:21.483Z"
   },
   {
    "duration": 565,
    "start_time": "2022-02-12T16:14:25.464Z"
   },
   {
    "duration": 32,
    "start_time": "2022-02-12T16:14:28.960Z"
   },
   {
    "duration": 13,
    "start_time": "2022-02-12T16:14:43.578Z"
   },
   {
    "duration": 1115,
    "start_time": "2022-02-12T16:15:08.987Z"
   },
   {
    "duration": 359,
    "start_time": "2022-02-12T16:15:10.104Z"
   },
   {
    "duration": 17,
    "start_time": "2022-02-12T16:15:10.465Z"
   },
   {
    "duration": 18,
    "start_time": "2022-02-12T16:15:10.484Z"
   },
   {
    "duration": 127,
    "start_time": "2022-02-12T16:15:10.504Z"
   },
   {
    "duration": 12,
    "start_time": "2022-02-12T16:15:10.632Z"
   },
   {
    "duration": 28,
    "start_time": "2022-02-12T16:15:10.646Z"
   },
   {
    "duration": 64,
    "start_time": "2022-02-12T16:15:10.676Z"
   },
   {
    "duration": 10,
    "start_time": "2022-02-12T16:15:10.742Z"
   },
   {
    "duration": 27,
    "start_time": "2022-02-12T16:15:10.753Z"
   },
   {
    "duration": 40,
    "start_time": "2022-02-12T16:15:10.781Z"
   },
   {
    "duration": 9,
    "start_time": "2022-02-12T16:15:10.823Z"
   },
   {
    "duration": 8,
    "start_time": "2022-02-12T16:15:10.833Z"
   },
   {
    "duration": 34,
    "start_time": "2022-02-12T16:15:10.842Z"
   },
   {
    "duration": 6,
    "start_time": "2022-02-12T16:15:10.878Z"
   },
   {
    "duration": 8,
    "start_time": "2022-02-12T16:15:10.886Z"
   },
   {
    "duration": 28,
    "start_time": "2022-02-12T16:15:10.896Z"
   },
   {
    "duration": 53,
    "start_time": "2022-02-12T16:15:10.925Z"
   },
   {
    "duration": 20,
    "start_time": "2022-02-12T16:15:10.979Z"
   },
   {
    "duration": 4,
    "start_time": "2022-02-12T16:15:11.001Z"
   },
   {
    "duration": 10,
    "start_time": "2022-02-12T16:15:11.007Z"
   },
   {
    "duration": 22,
    "start_time": "2022-02-12T16:15:11.019Z"
   },
   {
    "duration": 4,
    "start_time": "2022-02-12T16:15:11.045Z"
   },
   {
    "duration": 14,
    "start_time": "2022-02-12T16:15:11.072Z"
   },
   {
    "duration": 21,
    "start_time": "2022-02-12T16:15:11.087Z"
   },
   {
    "duration": 16,
    "start_time": "2022-02-12T16:15:11.110Z"
   },
   {
    "duration": 14,
    "start_time": "2022-02-12T16:15:11.127Z"
   },
   {
    "duration": 29,
    "start_time": "2022-02-12T16:15:11.143Z"
   },
   {
    "duration": 5,
    "start_time": "2022-02-12T16:15:11.174Z"
   },
   {
    "duration": 12,
    "start_time": "2022-02-12T16:15:11.180Z"
   },
   {
    "duration": 10,
    "start_time": "2022-02-12T16:15:11.193Z"
   },
   {
    "duration": 3,
    "start_time": "2022-02-12T16:15:11.204Z"
   },
   {
    "duration": 30,
    "start_time": "2022-02-12T16:15:11.209Z"
   },
   {
    "duration": 3,
    "start_time": "2022-02-12T16:15:11.240Z"
   },
   {
    "duration": 36,
    "start_time": "2022-02-12T16:15:11.244Z"
   },
   {
    "duration": 16,
    "start_time": "2022-02-12T16:15:11.282Z"
   },
   {
    "duration": 3,
    "start_time": "2022-02-12T16:15:11.300Z"
   },
   {
    "duration": 20,
    "start_time": "2022-02-12T16:15:11.305Z"
   },
   {
    "duration": 4,
    "start_time": "2022-02-12T16:15:11.327Z"
   },
   {
    "duration": 15,
    "start_time": "2022-02-12T16:15:11.333Z"
   },
   {
    "duration": 26,
    "start_time": "2022-02-12T16:15:11.350Z"
   },
   {
    "duration": 7,
    "start_time": "2022-02-12T16:15:11.377Z"
   },
   {
    "duration": 4,
    "start_time": "2022-02-12T16:15:11.386Z"
   },
   {
    "duration": 9,
    "start_time": "2022-02-12T16:15:11.391Z"
   },
   {
    "duration": 8,
    "start_time": "2022-02-12T16:15:11.402Z"
   },
   {
    "duration": 13,
    "start_time": "2022-02-12T16:15:11.411Z"
   },
   {
    "duration": 46,
    "start_time": "2022-02-12T16:15:11.426Z"
   },
   {
    "duration": 16,
    "start_time": "2022-02-12T16:15:11.474Z"
   },
   {
    "duration": 5,
    "start_time": "2022-02-12T16:15:11.492Z"
   },
   {
    "duration": 245,
    "start_time": "2022-02-12T16:15:11.498Z"
   },
   {
    "duration": 552,
    "start_time": "2022-02-12T16:15:11.745Z"
   },
   {
    "duration": 15,
    "start_time": "2022-02-12T16:15:21.760Z"
   },
   {
    "duration": 18,
    "start_time": "2022-02-12T16:16:07.254Z"
   },
   {
    "duration": 9,
    "start_time": "2022-02-12T16:17:30.626Z"
   },
   {
    "duration": 1170,
    "start_time": "2022-02-12T16:17:51.145Z"
   },
   {
    "duration": 351,
    "start_time": "2022-02-12T16:17:52.317Z"
   },
   {
    "duration": 23,
    "start_time": "2022-02-12T16:17:52.670Z"
   },
   {
    "duration": 32,
    "start_time": "2022-02-12T16:17:52.695Z"
   },
   {
    "duration": 133,
    "start_time": "2022-02-12T16:17:52.728Z"
   },
   {
    "duration": 16,
    "start_time": "2022-02-12T16:17:52.863Z"
   },
   {
    "duration": 16,
    "start_time": "2022-02-12T16:17:52.881Z"
   },
   {
    "duration": 76,
    "start_time": "2022-02-12T16:17:52.899Z"
   },
   {
    "duration": 10,
    "start_time": "2022-02-12T16:17:52.977Z"
   },
   {
    "duration": 14,
    "start_time": "2022-02-12T16:17:52.989Z"
   },
   {
    "duration": 37,
    "start_time": "2022-02-12T16:17:53.005Z"
   },
   {
    "duration": 33,
    "start_time": "2022-02-12T16:17:53.043Z"
   },
   {
    "duration": 9,
    "start_time": "2022-02-12T16:17:53.077Z"
   },
   {
    "duration": 11,
    "start_time": "2022-02-12T16:17:53.088Z"
   },
   {
    "duration": 6,
    "start_time": "2022-02-12T16:17:53.100Z"
   },
   {
    "duration": 6,
    "start_time": "2022-02-12T16:17:53.108Z"
   },
   {
    "duration": 26,
    "start_time": "2022-02-12T16:17:53.115Z"
   },
   {
    "duration": 38,
    "start_time": "2022-02-12T16:17:53.143Z"
   },
   {
    "duration": 16,
    "start_time": "2022-02-12T16:17:53.183Z"
   },
   {
    "duration": 4,
    "start_time": "2022-02-12T16:17:53.200Z"
   },
   {
    "duration": 5,
    "start_time": "2022-02-12T16:17:53.205Z"
   },
   {
    "duration": 25,
    "start_time": "2022-02-12T16:17:53.212Z"
   },
   {
    "duration": 4,
    "start_time": "2022-02-12T16:17:53.240Z"
   },
   {
    "duration": 38,
    "start_time": "2022-02-12T16:17:53.246Z"
   },
   {
    "duration": 21,
    "start_time": "2022-02-12T16:17:53.286Z"
   },
   {
    "duration": 16,
    "start_time": "2022-02-12T16:17:53.309Z"
   },
   {
    "duration": 14,
    "start_time": "2022-02-12T16:17:53.326Z"
   },
   {
    "duration": 32,
    "start_time": "2022-02-12T16:17:53.342Z"
   },
   {
    "duration": 5,
    "start_time": "2022-02-12T16:17:53.376Z"
   },
   {
    "duration": 11,
    "start_time": "2022-02-12T16:17:53.383Z"
   },
   {
    "duration": 10,
    "start_time": "2022-02-12T16:17:53.396Z"
   },
   {
    "duration": 3,
    "start_time": "2022-02-12T16:17:53.408Z"
   },
   {
    "duration": 33,
    "start_time": "2022-02-12T16:17:53.413Z"
   },
   {
    "duration": 3,
    "start_time": "2022-02-12T16:17:53.471Z"
   },
   {
    "duration": 16,
    "start_time": "2022-02-12T16:17:53.476Z"
   },
   {
    "duration": 22,
    "start_time": "2022-02-12T16:17:53.494Z"
   },
   {
    "duration": 4,
    "start_time": "2022-02-12T16:17:53.518Z"
   },
   {
    "duration": 48,
    "start_time": "2022-02-12T16:17:53.524Z"
   },
   {
    "duration": 7,
    "start_time": "2022-02-12T16:17:53.574Z"
   },
   {
    "duration": 14,
    "start_time": "2022-02-12T16:17:53.582Z"
   },
   {
    "duration": 9,
    "start_time": "2022-02-12T16:17:53.597Z"
   },
   {
    "duration": 10,
    "start_time": "2022-02-12T16:17:53.608Z"
   },
   {
    "duration": 5,
    "start_time": "2022-02-12T16:17:53.619Z"
   },
   {
    "duration": 7,
    "start_time": "2022-02-12T16:17:53.626Z"
   },
   {
    "duration": 13,
    "start_time": "2022-02-12T16:17:53.634Z"
   },
   {
    "duration": 23,
    "start_time": "2022-02-12T16:17:53.649Z"
   },
   {
    "duration": 30,
    "start_time": "2022-02-12T16:17:53.674Z"
   },
   {
    "duration": 12,
    "start_time": "2022-02-12T16:17:53.705Z"
   },
   {
    "duration": 7,
    "start_time": "2022-02-12T16:17:53.719Z"
   },
   {
    "duration": 275,
    "start_time": "2022-02-12T16:17:53.728Z"
   },
   {
    "duration": 15,
    "start_time": "2022-02-12T16:17:54.004Z"
   },
   {
    "duration": 3,
    "start_time": "2022-02-12T16:22:12.197Z"
   },
   {
    "duration": 1127,
    "start_time": "2022-02-12T16:23:22.276Z"
   },
   {
    "duration": 370,
    "start_time": "2022-02-12T16:23:23.405Z"
   },
   {
    "duration": 16,
    "start_time": "2022-02-12T16:23:23.776Z"
   },
   {
    "duration": 20,
    "start_time": "2022-02-12T16:23:23.794Z"
   },
   {
    "duration": 110,
    "start_time": "2022-02-12T16:23:23.816Z"
   },
   {
    "duration": 15,
    "start_time": "2022-02-12T16:23:23.928Z"
   },
   {
    "duration": 34,
    "start_time": "2022-02-12T16:23:23.945Z"
   },
   {
    "duration": 62,
    "start_time": "2022-02-12T16:23:23.981Z"
   },
   {
    "duration": 10,
    "start_time": "2022-02-12T16:23:24.045Z"
   },
   {
    "duration": 14,
    "start_time": "2022-02-12T16:23:24.072Z"
   },
   {
    "duration": 37,
    "start_time": "2022-02-12T16:23:24.088Z"
   },
   {
    "duration": 7,
    "start_time": "2022-02-12T16:23:24.127Z"
   },
   {
    "duration": 7,
    "start_time": "2022-02-12T16:23:24.135Z"
   },
   {
    "duration": 37,
    "start_time": "2022-02-12T16:23:24.143Z"
   },
   {
    "duration": 7,
    "start_time": "2022-02-12T16:23:24.181Z"
   },
   {
    "duration": 6,
    "start_time": "2022-02-12T16:23:24.189Z"
   },
   {
    "duration": 36,
    "start_time": "2022-02-12T16:23:24.197Z"
   },
   {
    "duration": 44,
    "start_time": "2022-02-12T16:23:24.235Z"
   },
   {
    "duration": 20,
    "start_time": "2022-02-12T16:23:24.280Z"
   },
   {
    "duration": 4,
    "start_time": "2022-02-12T16:23:24.302Z"
   },
   {
    "duration": 6,
    "start_time": "2022-02-12T16:23:24.307Z"
   },
   {
    "duration": 23,
    "start_time": "2022-02-12T16:23:24.314Z"
   },
   {
    "duration": 4,
    "start_time": "2022-02-12T16:23:24.338Z"
   },
   {
    "duration": 37,
    "start_time": "2022-02-12T16:23:24.344Z"
   },
   {
    "duration": 21,
    "start_time": "2022-02-12T16:23:24.382Z"
   },
   {
    "duration": 16,
    "start_time": "2022-02-12T16:23:24.405Z"
   },
   {
    "duration": 13,
    "start_time": "2022-02-12T16:23:24.424Z"
   },
   {
    "duration": 5,
    "start_time": "2022-02-12T16:23:24.439Z"
   },
   {
    "duration": 27,
    "start_time": "2022-02-12T16:23:24.445Z"
   },
   {
    "duration": 10,
    "start_time": "2022-02-12T16:23:24.474Z"
   },
   {
    "duration": 2,
    "start_time": "2022-02-12T16:23:24.486Z"
   },
   {
    "duration": 5,
    "start_time": "2022-02-12T16:23:24.489Z"
   },
   {
    "duration": 24,
    "start_time": "2022-02-12T16:23:24.496Z"
   },
   {
    "duration": 3,
    "start_time": "2022-02-12T16:23:24.521Z"
   },
   {
    "duration": 13563,
    "start_time": "2022-02-12T16:23:24.525Z"
   },
   {
    "duration": -1225,
    "start_time": "2022-02-12T16:23:39.315Z"
   },
   {
    "duration": -1225,
    "start_time": "2022-02-12T16:23:39.317Z"
   },
   {
    "duration": -1227,
    "start_time": "2022-02-12T16:23:39.320Z"
   },
   {
    "duration": -1228,
    "start_time": "2022-02-12T16:23:39.322Z"
   },
   {
    "duration": -1229,
    "start_time": "2022-02-12T16:23:39.324Z"
   },
   {
    "duration": -1245,
    "start_time": "2022-02-12T16:23:39.341Z"
   },
   {
    "duration": -1247,
    "start_time": "2022-02-12T16:23:39.344Z"
   },
   {
    "duration": -1251,
    "start_time": "2022-02-12T16:23:39.349Z"
   },
   {
    "duration": -1252,
    "start_time": "2022-02-12T16:23:39.351Z"
   },
   {
    "duration": -1254,
    "start_time": "2022-02-12T16:23:39.354Z"
   },
   {
    "duration": -1254,
    "start_time": "2022-02-12T16:23:39.355Z"
   },
   {
    "duration": -1255,
    "start_time": "2022-02-12T16:23:39.357Z"
   },
   {
    "duration": -1256,
    "start_time": "2022-02-12T16:23:39.359Z"
   },
   {
    "duration": -1261,
    "start_time": "2022-02-12T16:23:39.365Z"
   },
   {
    "duration": -1262,
    "start_time": "2022-02-12T16:23:39.367Z"
   },
   {
    "duration": -1263,
    "start_time": "2022-02-12T16:23:39.369Z"
   },
   {
    "duration": -1264,
    "start_time": "2022-02-12T16:23:39.371Z"
   },
   {
    "duration": -1265,
    "start_time": "2022-02-12T16:23:39.373Z"
   },
   {
    "duration": 2037,
    "start_time": "2022-02-12T16:24:00.329Z"
   },
   {
    "duration": 359,
    "start_time": "2022-02-12T16:24:02.368Z"
   },
   {
    "duration": 16,
    "start_time": "2022-02-12T16:24:02.729Z"
   },
   {
    "duration": 18,
    "start_time": "2022-02-12T16:24:02.747Z"
   },
   {
    "duration": 88,
    "start_time": "2022-02-12T16:24:02.766Z"
   },
   {
    "duration": 24,
    "start_time": "2022-02-12T16:24:02.856Z"
   },
   {
    "duration": 23,
    "start_time": "2022-02-12T16:24:02.882Z"
   },
   {
    "duration": 78,
    "start_time": "2022-02-12T16:24:02.907Z"
   },
   {
    "duration": 10,
    "start_time": "2022-02-12T16:24:02.988Z"
   },
   {
    "duration": 14,
    "start_time": "2022-02-12T16:24:03.000Z"
   },
   {
    "duration": 56,
    "start_time": "2022-02-12T16:24:03.016Z"
   },
   {
    "duration": 9,
    "start_time": "2022-02-12T16:24:03.074Z"
   },
   {
    "duration": 9,
    "start_time": "2022-02-12T16:24:03.084Z"
   },
   {
    "duration": 13,
    "start_time": "2022-02-12T16:24:03.094Z"
   },
   {
    "duration": 8,
    "start_time": "2022-02-12T16:24:03.108Z"
   },
   {
    "duration": 7,
    "start_time": "2022-02-12T16:24:03.118Z"
   },
   {
    "duration": 53,
    "start_time": "2022-02-12T16:24:03.126Z"
   },
   {
    "duration": 22,
    "start_time": "2022-02-12T16:24:03.181Z"
   },
   {
    "duration": 16,
    "start_time": "2022-02-12T16:24:03.205Z"
   },
   {
    "duration": 4,
    "start_time": "2022-02-12T16:24:03.223Z"
   },
   {
    "duration": 7,
    "start_time": "2022-02-12T16:24:03.229Z"
   },
   {
    "duration": 48,
    "start_time": "2022-02-12T16:24:03.238Z"
   },
   {
    "duration": 5,
    "start_time": "2022-02-12T16:24:03.287Z"
   },
   {
    "duration": 13,
    "start_time": "2022-02-12T16:24:03.293Z"
   },
   {
    "duration": 21,
    "start_time": "2022-02-12T16:24:03.307Z"
   },
   {
    "duration": 42,
    "start_time": "2022-02-12T16:24:03.330Z"
   },
   {
    "duration": 14,
    "start_time": "2022-02-12T16:24:03.375Z"
   },
   {
    "duration": 5,
    "start_time": "2022-02-12T16:24:03.391Z"
   },
   {
    "duration": 4,
    "start_time": "2022-02-12T16:24:03.398Z"
   },
   {
    "duration": 13,
    "start_time": "2022-02-12T16:24:03.404Z"
   },
   {
    "duration": 2,
    "start_time": "2022-02-12T16:24:03.418Z"
   },
   {
    "duration": 8,
    "start_time": "2022-02-12T16:24:03.421Z"
   },
   {
    "duration": 50,
    "start_time": "2022-02-12T16:24:03.431Z"
   },
   {
    "duration": 3,
    "start_time": "2022-02-12T16:24:03.483Z"
   },
   {
    "duration": 20,
    "start_time": "2022-02-12T16:24:03.488Z"
   },
   {
    "duration": 24,
    "start_time": "2022-02-12T16:24:03.510Z"
   },
   {
    "duration": 7,
    "start_time": "2022-02-12T16:24:03.536Z"
   },
   {
    "duration": 4,
    "start_time": "2022-02-12T16:24:03.545Z"
   },
   {
    "duration": 4,
    "start_time": "2022-02-12T16:24:03.572Z"
   },
   {
    "duration": 28,
    "start_time": "2022-02-12T16:24:03.577Z"
   },
   {
    "duration": 7,
    "start_time": "2022-02-12T16:24:03.606Z"
   },
   {
    "duration": 21,
    "start_time": "2022-02-12T16:24:03.615Z"
   },
   {
    "duration": 34,
    "start_time": "2022-02-12T16:24:03.638Z"
   },
   {
    "duration": 7,
    "start_time": "2022-02-12T16:24:03.674Z"
   },
   {
    "duration": 3,
    "start_time": "2022-02-12T16:24:03.683Z"
   },
   {
    "duration": 7,
    "start_time": "2022-02-12T16:24:03.688Z"
   },
   {
    "duration": 11,
    "start_time": "2022-02-12T16:24:03.697Z"
   },
   {
    "duration": 12,
    "start_time": "2022-02-12T16:24:03.709Z"
   },
   {
    "duration": 34,
    "start_time": "2022-02-12T16:24:03.722Z"
   },
   {
    "duration": 18,
    "start_time": "2022-02-12T16:24:03.772Z"
   },
   {
    "duration": 4,
    "start_time": "2022-02-12T16:24:03.792Z"
   },
   {
    "duration": 207,
    "start_time": "2022-02-12T16:24:03.798Z"
   },
   {
    "duration": 16,
    "start_time": "2022-02-12T16:24:04.007Z"
   },
   {
    "duration": 1132,
    "start_time": "2022-02-12T16:34:50.977Z"
   },
   {
    "duration": 360,
    "start_time": "2022-02-12T16:34:52.110Z"
   },
   {
    "duration": 16,
    "start_time": "2022-02-12T16:34:52.473Z"
   },
   {
    "duration": 18,
    "start_time": "2022-02-12T16:34:52.491Z"
   },
   {
    "duration": 115,
    "start_time": "2022-02-12T16:34:52.510Z"
   },
   {
    "duration": 11,
    "start_time": "2022-02-12T16:34:52.627Z"
   },
   {
    "duration": 16,
    "start_time": "2022-02-12T16:34:52.640Z"
   },
   {
    "duration": 69,
    "start_time": "2022-02-12T16:34:52.673Z"
   },
   {
    "duration": 15,
    "start_time": "2022-02-12T16:34:52.745Z"
   },
   {
    "duration": 21,
    "start_time": "2022-02-12T16:34:52.772Z"
   },
   {
    "duration": 51,
    "start_time": "2022-02-12T16:34:52.795Z"
   },
   {
    "duration": 29,
    "start_time": "2022-02-12T16:34:52.848Z"
   },
   {
    "duration": 7,
    "start_time": "2022-02-12T16:34:52.879Z"
   },
   {
    "duration": 11,
    "start_time": "2022-02-12T16:34:52.888Z"
   },
   {
    "duration": 6,
    "start_time": "2022-02-12T16:34:52.901Z"
   },
   {
    "duration": 16,
    "start_time": "2022-02-12T16:34:52.909Z"
   },
   {
    "duration": 51,
    "start_time": "2022-02-12T16:34:52.927Z"
   },
   {
    "duration": 21,
    "start_time": "2022-02-12T16:34:52.979Z"
   },
   {
    "duration": 17,
    "start_time": "2022-02-12T16:34:53.002Z"
   },
   {
    "duration": 5,
    "start_time": "2022-02-12T16:34:53.021Z"
   },
   {
    "duration": 7,
    "start_time": "2022-02-12T16:34:53.027Z"
   },
   {
    "duration": 57,
    "start_time": "2022-02-12T16:34:53.036Z"
   },
   {
    "duration": 4,
    "start_time": "2022-02-12T16:34:53.096Z"
   },
   {
    "duration": 12,
    "start_time": "2022-02-12T16:34:53.102Z"
   },
   {
    "duration": 20,
    "start_time": "2022-02-12T16:34:53.116Z"
   },
   {
    "duration": 16,
    "start_time": "2022-02-12T16:34:53.137Z"
   },
   {
    "duration": 26,
    "start_time": "2022-02-12T16:34:53.155Z"
   },
   {
    "duration": 5,
    "start_time": "2022-02-12T16:34:53.183Z"
   },
   {
    "duration": 4,
    "start_time": "2022-02-12T16:34:53.190Z"
   },
   {
    "duration": 13,
    "start_time": "2022-02-12T16:34:53.196Z"
   },
   {
    "duration": 2,
    "start_time": "2022-02-12T16:34:53.211Z"
   },
   {
    "duration": 7,
    "start_time": "2022-02-12T16:34:53.215Z"
   },
   {
    "duration": 53,
    "start_time": "2022-02-12T16:34:53.223Z"
   },
   {
    "duration": 2,
    "start_time": "2022-02-12T16:34:53.278Z"
   },
   {
    "duration": 16,
    "start_time": "2022-02-12T16:34:53.282Z"
   },
   {
    "duration": 15,
    "start_time": "2022-02-12T16:34:53.300Z"
   },
   {
    "duration": 15,
    "start_time": "2022-02-12T16:34:53.317Z"
   },
   {
    "duration": 4,
    "start_time": "2022-02-12T16:34:53.333Z"
   },
   {
    "duration": 8,
    "start_time": "2022-02-12T16:34:53.338Z"
   },
   {
    "duration": 33,
    "start_time": "2022-02-12T16:34:53.348Z"
   },
   {
    "duration": 6,
    "start_time": "2022-02-12T16:34:53.383Z"
   },
   {
    "duration": 15,
    "start_time": "2022-02-12T16:34:53.390Z"
   },
   {
    "duration": 12,
    "start_time": "2022-02-12T16:34:53.407Z"
   },
   {
    "duration": 10,
    "start_time": "2022-02-12T16:34:53.421Z"
   },
   {
    "duration": 4,
    "start_time": "2022-02-12T16:34:53.433Z"
   },
   {
    "duration": 10,
    "start_time": "2022-02-12T16:34:53.438Z"
   },
   {
    "duration": 24,
    "start_time": "2022-02-12T16:34:53.450Z"
   },
   {
    "duration": 11,
    "start_time": "2022-02-12T16:34:53.475Z"
   },
   {
    "duration": 32,
    "start_time": "2022-02-12T16:34:53.487Z"
   },
   {
    "duration": 13,
    "start_time": "2022-02-12T16:34:53.521Z"
   },
   {
    "duration": 5,
    "start_time": "2022-02-12T16:34:53.535Z"
   },
   {
    "duration": 250,
    "start_time": "2022-02-12T16:34:53.542Z"
   },
   {
    "duration": 16,
    "start_time": "2022-02-12T16:34:53.794Z"
   },
   {
    "duration": 1025,
    "start_time": "2022-02-12T16:52:36.782Z"
   },
   {
    "duration": 363,
    "start_time": "2022-02-12T16:52:37.809Z"
   },
   {
    "duration": 17,
    "start_time": "2022-02-12T16:52:38.174Z"
   },
   {
    "duration": 22,
    "start_time": "2022-02-12T16:52:38.193Z"
   },
   {
    "duration": 111,
    "start_time": "2022-02-12T16:52:38.217Z"
   },
   {
    "duration": 12,
    "start_time": "2022-02-12T16:52:38.330Z"
   },
   {
    "duration": 28,
    "start_time": "2022-02-12T16:52:38.344Z"
   },
   {
    "duration": 58,
    "start_time": "2022-02-12T16:52:38.374Z"
   },
   {
    "duration": 10,
    "start_time": "2022-02-12T16:52:38.434Z"
   },
   {
    "duration": 31,
    "start_time": "2022-02-12T16:52:38.445Z"
   },
   {
    "duration": 38,
    "start_time": "2022-02-12T16:52:38.477Z"
   },
   {
    "duration": 7,
    "start_time": "2022-02-12T16:52:38.516Z"
   },
   {
    "duration": 16,
    "start_time": "2022-02-12T16:52:38.525Z"
   },
   {
    "duration": 18,
    "start_time": "2022-02-12T16:52:38.542Z"
   },
   {
    "duration": 12,
    "start_time": "2022-02-12T16:52:38.562Z"
   },
   {
    "duration": 13,
    "start_time": "2022-02-12T16:52:38.576Z"
   },
   {
    "duration": 29,
    "start_time": "2022-02-12T16:52:38.590Z"
   },
   {
    "duration": 19,
    "start_time": "2022-02-12T16:52:38.621Z"
   },
   {
    "duration": 32,
    "start_time": "2022-02-12T16:52:38.642Z"
   },
   {
    "duration": 4,
    "start_time": "2022-02-12T16:52:38.676Z"
   },
   {
    "duration": 7,
    "start_time": "2022-02-12T16:52:38.682Z"
   },
   {
    "duration": 23,
    "start_time": "2022-02-12T16:52:38.690Z"
   },
   {
    "duration": 5,
    "start_time": "2022-02-12T16:52:38.716Z"
   },
   {
    "duration": 13,
    "start_time": "2022-02-12T16:52:38.723Z"
   },
   {
    "duration": 46,
    "start_time": "2022-02-12T16:52:38.737Z"
   },
   {
    "duration": 17,
    "start_time": "2022-02-12T16:52:38.784Z"
   },
   {
    "duration": 14,
    "start_time": "2022-02-12T16:52:38.802Z"
   },
   {
    "duration": 5,
    "start_time": "2022-02-12T16:52:38.817Z"
   },
   {
    "duration": 6,
    "start_time": "2022-02-12T16:52:38.823Z"
   },
   {
    "duration": 15,
    "start_time": "2022-02-12T16:52:38.830Z"
   },
   {
    "duration": 2,
    "start_time": "2022-02-12T16:52:38.846Z"
   },
   {
    "duration": 8,
    "start_time": "2022-02-12T16:52:38.850Z"
   },
   {
    "duration": 20,
    "start_time": "2022-02-12T16:52:38.871Z"
   },
   {
    "duration": 2,
    "start_time": "2022-02-12T16:52:38.893Z"
   },
   {
    "duration": 16,
    "start_time": "2022-02-12T16:52:38.897Z"
   },
   {
    "duration": 15,
    "start_time": "2022-02-12T16:52:38.914Z"
   },
   {
    "duration": 7,
    "start_time": "2022-02-12T16:52:38.931Z"
   },
   {
    "duration": 4,
    "start_time": "2022-02-12T16:52:38.939Z"
   },
   {
    "duration": 29,
    "start_time": "2022-02-12T16:52:38.944Z"
   },
   {
    "duration": 19,
    "start_time": "2022-02-12T16:52:38.975Z"
   },
   {
    "duration": 4,
    "start_time": "2022-02-12T16:52:38.996Z"
   },
   {
    "duration": 22,
    "start_time": "2022-02-12T16:52:39.002Z"
   },
   {
    "duration": 9,
    "start_time": "2022-02-12T16:52:39.025Z"
   },
   {
    "duration": 9,
    "start_time": "2022-02-12T16:52:39.035Z"
   },
   {
    "duration": 8,
    "start_time": "2022-02-12T16:52:39.046Z"
   },
   {
    "duration": 8,
    "start_time": "2022-02-12T16:52:39.056Z"
   },
   {
    "duration": 8,
    "start_time": "2022-02-12T16:52:39.065Z"
   },
   {
    "duration": 13,
    "start_time": "2022-02-12T16:52:39.075Z"
   },
   {
    "duration": 30,
    "start_time": "2022-02-12T16:52:39.089Z"
   },
   {
    "duration": 10,
    "start_time": "2022-02-12T16:52:39.121Z"
   },
   {
    "duration": 4,
    "start_time": "2022-02-12T16:52:39.132Z"
   },
   {
    "duration": 169,
    "start_time": "2022-02-12T16:52:39.137Z"
   },
   {
    "duration": 13,
    "start_time": "2022-02-12T16:52:39.308Z"
   },
   {
    "duration": 395,
    "start_time": "2022-02-12T17:00:10.262Z"
   },
   {
    "duration": 15,
    "start_time": "2022-02-12T17:00:18.017Z"
   },
   {
    "duration": 14,
    "start_time": "2022-02-12T17:00:26.678Z"
   },
   {
    "duration": 14,
    "start_time": "2022-02-12T17:00:30.675Z"
   },
   {
    "duration": 14,
    "start_time": "2022-02-12T17:00:33.309Z"
   },
   {
    "duration": 13,
    "start_time": "2022-02-12T17:00:37.331Z"
   },
   {
    "duration": 8,
    "start_time": "2022-02-12T17:01:20.522Z"
   },
   {
    "duration": 3,
    "start_time": "2022-02-12T17:01:31.754Z"
   },
   {
    "duration": 8,
    "start_time": "2022-02-12T17:01:32.713Z"
   },
   {
    "duration": 1017,
    "start_time": "2022-02-12T17:01:43.279Z"
   },
   {
    "duration": 361,
    "start_time": "2022-02-12T17:01:44.297Z"
   },
   {
    "duration": 15,
    "start_time": "2022-02-12T17:01:44.660Z"
   },
   {
    "duration": 17,
    "start_time": "2022-02-12T17:01:44.677Z"
   },
   {
    "duration": 105,
    "start_time": "2022-02-12T17:01:44.696Z"
   },
   {
    "duration": 11,
    "start_time": "2022-02-12T17:01:44.803Z"
   },
   {
    "duration": 16,
    "start_time": "2022-02-12T17:01:44.816Z"
   },
   {
    "duration": 83,
    "start_time": "2022-02-12T17:01:44.834Z"
   },
   {
    "duration": 10,
    "start_time": "2022-02-12T17:01:44.919Z"
   },
   {
    "duration": 14,
    "start_time": "2022-02-12T17:01:44.931Z"
   },
   {
    "duration": 49,
    "start_time": "2022-02-12T17:01:44.946Z"
   },
   {
    "duration": 9,
    "start_time": "2022-02-12T17:01:44.996Z"
   },
   {
    "duration": 8,
    "start_time": "2022-02-12T17:01:45.007Z"
   },
   {
    "duration": 12,
    "start_time": "2022-02-12T17:01:45.017Z"
   },
   {
    "duration": 6,
    "start_time": "2022-02-12T17:01:45.031Z"
   },
   {
    "duration": 6,
    "start_time": "2022-02-12T17:01:45.039Z"
   },
   {
    "duration": 27,
    "start_time": "2022-02-12T17:01:45.072Z"
   },
   {
    "duration": 20,
    "start_time": "2022-02-12T17:01:45.101Z"
   },
   {
    "duration": 17,
    "start_time": "2022-02-12T17:01:45.123Z"
   },
   {
    "duration": 5,
    "start_time": "2022-02-12T17:01:45.142Z"
   },
   {
    "duration": 6,
    "start_time": "2022-02-12T17:01:45.172Z"
   },
   {
    "duration": 21,
    "start_time": "2022-02-12T17:01:45.180Z"
   },
   {
    "duration": 4,
    "start_time": "2022-02-12T17:01:45.204Z"
   },
   {
    "duration": 13,
    "start_time": "2022-02-12T17:01:45.210Z"
   },
   {
    "duration": 49,
    "start_time": "2022-02-12T17:01:45.224Z"
   },
   {
    "duration": 16,
    "start_time": "2022-02-12T17:01:45.275Z"
   },
   {
    "duration": 15,
    "start_time": "2022-02-12T17:01:45.295Z"
   },
   {
    "duration": 6,
    "start_time": "2022-02-12T17:01:45.312Z"
   },
   {
    "duration": 5,
    "start_time": "2022-02-12T17:01:45.319Z"
   },
   {
    "duration": 12,
    "start_time": "2022-02-12T17:01:45.325Z"
   },
   {
    "duration": 50,
    "start_time": "2022-02-12T17:01:45.339Z"
   },
   {
    "duration": 3,
    "start_time": "2022-02-12T17:01:45.390Z"
   },
   {
    "duration": 13,
    "start_time": "2022-02-12T17:01:45.394Z"
   },
   {
    "duration": 15,
    "start_time": "2022-02-12T17:01:45.409Z"
   },
   {
    "duration": 7,
    "start_time": "2022-02-12T17:01:45.425Z"
   },
   {
    "duration": 2,
    "start_time": "2022-02-12T17:01:45.434Z"
   },
   {
    "duration": 8,
    "start_time": "2022-02-12T17:01:45.438Z"
   },
   {
    "duration": 38,
    "start_time": "2022-02-12T17:01:45.448Z"
   },
   {
    "duration": 4,
    "start_time": "2022-02-12T17:01:45.487Z"
   },
   {
    "duration": 13,
    "start_time": "2022-02-12T17:01:45.493Z"
   },
   {
    "duration": 10,
    "start_time": "2022-02-12T17:01:45.507Z"
   },
   {
    "duration": 9,
    "start_time": "2022-02-12T17:01:45.518Z"
   },
   {
    "duration": 5,
    "start_time": "2022-02-12T17:01:45.528Z"
   },
   {
    "duration": 14,
    "start_time": "2022-02-12T17:01:45.534Z"
   },
   {
    "duration": 11,
    "start_time": "2022-02-12T17:01:45.549Z"
   },
   {
    "duration": 11,
    "start_time": "2022-02-12T17:01:45.562Z"
   },
   {
    "duration": 33,
    "start_time": "2022-02-12T17:01:45.575Z"
   },
   {
    "duration": 3,
    "start_time": "2022-02-12T17:01:45.610Z"
   },
   {
    "duration": 193,
    "start_time": "2022-02-12T17:01:45.615Z"
   },
   {
    "duration": 15,
    "start_time": "2022-02-12T17:01:45.809Z"
   },
   {
    "duration": 8,
    "start_time": "2022-02-12T17:17:15.412Z"
   },
   {
    "duration": 416,
    "start_time": "2022-02-12T17:22:29.596Z"
   },
   {
    "duration": 129,
    "start_time": "2022-02-12T17:22:51.219Z"
   },
   {
    "duration": 126,
    "start_time": "2022-02-12T17:23:39.987Z"
   },
   {
    "duration": 128,
    "start_time": "2022-02-12T17:23:52.013Z"
   },
   {
    "duration": 119,
    "start_time": "2022-02-12T17:25:27.309Z"
   },
   {
    "duration": 122,
    "start_time": "2022-02-12T17:25:46.499Z"
   },
   {
    "duration": 121,
    "start_time": "2022-02-12T17:25:57.212Z"
   },
   {
    "duration": 125,
    "start_time": "2022-02-12T17:26:05.305Z"
   },
   {
    "duration": 95,
    "start_time": "2022-02-12T17:26:57.661Z"
   },
   {
    "duration": 132,
    "start_time": "2022-02-12T17:30:17.340Z"
   },
   {
    "duration": 98,
    "start_time": "2022-02-12T17:30:44.261Z"
   },
   {
    "duration": 8,
    "start_time": "2022-02-12T17:45:53.436Z"
   },
   {
    "duration": 8,
    "start_time": "2022-02-12T17:54:14.696Z"
   },
   {
    "duration": 313,
    "start_time": "2022-02-12T17:57:43.714Z"
   },
   {
    "duration": 339,
    "start_time": "2022-02-12T17:57:51.598Z"
   },
   {
    "duration": 338,
    "start_time": "2022-02-12T17:58:17.284Z"
   },
   {
    "duration": 1173,
    "start_time": "2022-02-12T17:58:47.142Z"
   },
   {
    "duration": 381,
    "start_time": "2022-02-12T17:58:48.317Z"
   },
   {
    "duration": 15,
    "start_time": "2022-02-12T17:58:48.700Z"
   },
   {
    "duration": 20,
    "start_time": "2022-02-12T17:58:48.717Z"
   },
   {
    "duration": 95,
    "start_time": "2022-02-12T17:58:48.738Z"
   },
   {
    "duration": 12,
    "start_time": "2022-02-12T17:58:48.834Z"
   },
   {
    "duration": 29,
    "start_time": "2022-02-12T17:58:48.848Z"
   },
   {
    "duration": 74,
    "start_time": "2022-02-12T17:58:48.878Z"
   },
   {
    "duration": 17,
    "start_time": "2022-02-12T17:58:48.955Z"
   },
   {
    "duration": 12,
    "start_time": "2022-02-12T17:58:48.974Z"
   },
   {
    "duration": 34,
    "start_time": "2022-02-12T17:58:48.988Z"
   },
   {
    "duration": 8,
    "start_time": "2022-02-12T17:58:49.023Z"
   },
   {
    "duration": 6,
    "start_time": "2022-02-12T17:58:49.033Z"
   },
   {
    "duration": 34,
    "start_time": "2022-02-12T17:58:49.040Z"
   },
   {
    "duration": 6,
    "start_time": "2022-02-12T17:58:49.076Z"
   },
   {
    "duration": 7,
    "start_time": "2022-02-12T17:58:49.083Z"
   },
   {
    "duration": 28,
    "start_time": "2022-02-12T17:58:49.091Z"
   },
   {
    "duration": 18,
    "start_time": "2022-02-12T17:58:49.121Z"
   },
   {
    "duration": 40,
    "start_time": "2022-02-12T17:58:49.140Z"
   },
   {
    "duration": 3,
    "start_time": "2022-02-12T17:58:49.182Z"
   },
   {
    "duration": 6,
    "start_time": "2022-02-12T17:58:49.187Z"
   },
   {
    "duration": 27,
    "start_time": "2022-02-12T17:58:49.195Z"
   },
   {
    "duration": 3,
    "start_time": "2022-02-12T17:58:49.224Z"
   },
   {
    "duration": 13,
    "start_time": "2022-02-12T17:58:49.229Z"
   },
   {
    "duration": 37,
    "start_time": "2022-02-12T17:58:49.244Z"
   },
   {
    "duration": 15,
    "start_time": "2022-02-12T17:58:49.283Z"
   },
   {
    "duration": 15,
    "start_time": "2022-02-12T17:58:49.301Z"
   },
   {
    "duration": 6,
    "start_time": "2022-02-12T17:58:49.318Z"
   },
   {
    "duration": 16,
    "start_time": "2022-02-12T17:58:49.326Z"
   },
   {
    "duration": 25,
    "start_time": "2022-02-12T17:58:49.343Z"
   },
   {
    "duration": 26,
    "start_time": "2022-02-12T17:58:49.369Z"
   },
   {
    "duration": 2,
    "start_time": "2022-02-12T17:58:49.397Z"
   },
   {
    "duration": 16,
    "start_time": "2022-02-12T17:58:49.400Z"
   },
   {
    "duration": 15,
    "start_time": "2022-02-12T17:58:49.418Z"
   },
   {
    "duration": 7,
    "start_time": "2022-02-12T17:58:49.435Z"
   },
   {
    "duration": 3,
    "start_time": "2022-02-12T17:58:49.443Z"
   },
   {
    "duration": 24,
    "start_time": "2022-02-12T17:58:49.448Z"
   },
   {
    "duration": 41,
    "start_time": "2022-02-12T17:58:49.474Z"
   },
   {
    "duration": 6,
    "start_time": "2022-02-12T17:58:49.516Z"
   },
   {
    "duration": 26,
    "start_time": "2022-02-12T17:58:49.523Z"
   },
   {
    "duration": 25,
    "start_time": "2022-02-12T17:58:49.551Z"
   },
   {
    "duration": 22,
    "start_time": "2022-02-12T17:58:49.577Z"
   },
   {
    "duration": 12,
    "start_time": "2022-02-12T17:58:49.601Z"
   },
   {
    "duration": 25,
    "start_time": "2022-02-12T17:58:49.615Z"
   },
   {
    "duration": 28,
    "start_time": "2022-02-12T17:58:49.643Z"
   },
   {
    "duration": 20,
    "start_time": "2022-02-12T17:58:49.672Z"
   },
   {
    "duration": 454,
    "start_time": "2022-02-12T17:58:49.694Z"
   },
   {
    "duration": -82,
    "start_time": "2022-02-12T17:58:50.232Z"
   },
   {
    "duration": -83,
    "start_time": "2022-02-12T17:58:50.234Z"
   },
   {
    "duration": -104,
    "start_time": "2022-02-12T17:58:50.256Z"
   },
   {
    "duration": -105,
    "start_time": "2022-02-12T17:58:50.258Z"
   },
   {
    "duration": -107,
    "start_time": "2022-02-12T17:58:50.260Z"
   },
   {
    "duration": -108,
    "start_time": "2022-02-12T17:58:50.262Z"
   },
   {
    "duration": -109,
    "start_time": "2022-02-12T17:58:50.264Z"
   },
   {
    "duration": -109,
    "start_time": "2022-02-12T17:58:50.265Z"
   },
   {
    "duration": 991,
    "start_time": "2022-02-12T17:59:10.513Z"
   },
   {
    "duration": 366,
    "start_time": "2022-02-12T17:59:11.507Z"
   },
   {
    "duration": 15,
    "start_time": "2022-02-12T17:59:11.875Z"
   },
   {
    "duration": 18,
    "start_time": "2022-02-12T17:59:11.891Z"
   },
   {
    "duration": 108,
    "start_time": "2022-02-12T17:59:11.910Z"
   },
   {
    "duration": 12,
    "start_time": "2022-02-12T17:59:12.020Z"
   },
   {
    "duration": 16,
    "start_time": "2022-02-12T17:59:12.033Z"
   },
   {
    "duration": 78,
    "start_time": "2022-02-12T17:59:12.051Z"
   },
   {
    "duration": 10,
    "start_time": "2022-02-12T17:59:12.132Z"
   },
   {
    "duration": 13,
    "start_time": "2022-02-12T17:59:12.144Z"
   },
   {
    "duration": 45,
    "start_time": "2022-02-12T17:59:12.159Z"
   },
   {
    "duration": 8,
    "start_time": "2022-02-12T17:59:12.205Z"
   },
   {
    "duration": 7,
    "start_time": "2022-02-12T17:59:12.214Z"
   },
   {
    "duration": 10,
    "start_time": "2022-02-12T17:59:12.222Z"
   },
   {
    "duration": 5,
    "start_time": "2022-02-12T17:59:12.234Z"
   },
   {
    "duration": 6,
    "start_time": "2022-02-12T17:59:12.271Z"
   },
   {
    "duration": 26,
    "start_time": "2022-02-12T17:59:12.278Z"
   },
   {
    "duration": 19,
    "start_time": "2022-02-12T17:59:12.305Z"
   },
   {
    "duration": 20,
    "start_time": "2022-02-12T17:59:12.325Z"
   },
   {
    "duration": 25,
    "start_time": "2022-02-12T17:59:12.347Z"
   },
   {
    "duration": 6,
    "start_time": "2022-02-12T17:59:12.374Z"
   },
   {
    "duration": 22,
    "start_time": "2022-02-12T17:59:12.381Z"
   },
   {
    "duration": 6,
    "start_time": "2022-02-12T17:59:12.404Z"
   },
   {
    "duration": 13,
    "start_time": "2022-02-12T17:59:12.412Z"
   },
   {
    "duration": 44,
    "start_time": "2022-02-12T17:59:12.427Z"
   },
   {
    "duration": 16,
    "start_time": "2022-02-12T17:59:12.473Z"
   },
   {
    "duration": 13,
    "start_time": "2022-02-12T17:59:12.493Z"
   },
   {
    "duration": 10,
    "start_time": "2022-02-12T17:59:12.508Z"
   },
   {
    "duration": 15,
    "start_time": "2022-02-12T17:59:12.520Z"
   },
   {
    "duration": 11,
    "start_time": "2022-02-12T17:59:12.536Z"
   },
   {
    "duration": 35,
    "start_time": "2022-02-12T17:59:12.548Z"
   },
   {
    "duration": 3,
    "start_time": "2022-02-12T17:59:12.585Z"
   },
   {
    "duration": 13,
    "start_time": "2022-02-12T17:59:12.589Z"
   },
   {
    "duration": 15,
    "start_time": "2022-02-12T17:59:12.604Z"
   },
   {
    "duration": 7,
    "start_time": "2022-02-12T17:59:12.620Z"
   },
   {
    "duration": 4,
    "start_time": "2022-02-12T17:59:12.628Z"
   },
   {
    "duration": 9,
    "start_time": "2022-02-12T17:59:12.633Z"
   },
   {
    "duration": 39,
    "start_time": "2022-02-12T17:59:12.643Z"
   },
   {
    "duration": 4,
    "start_time": "2022-02-12T17:59:12.684Z"
   },
   {
    "duration": 12,
    "start_time": "2022-02-12T17:59:12.689Z"
   },
   {
    "duration": 6,
    "start_time": "2022-02-12T17:59:12.703Z"
   },
   {
    "duration": 8,
    "start_time": "2022-02-12T17:59:12.711Z"
   },
   {
    "duration": 4,
    "start_time": "2022-02-12T17:59:12.720Z"
   },
   {
    "duration": 11,
    "start_time": "2022-02-12T17:59:12.725Z"
   },
   {
    "duration": 7,
    "start_time": "2022-02-12T17:59:12.737Z"
   },
   {
    "duration": 26,
    "start_time": "2022-02-12T17:59:12.746Z"
   },
   {
    "duration": 7774,
    "start_time": "2022-02-12T17:59:12.773Z"
   },
   {
    "duration": -120,
    "start_time": "2022-02-12T17:59:20.669Z"
   },
   {
    "duration": -121,
    "start_time": "2022-02-12T17:59:20.671Z"
   },
   {
    "duration": -122,
    "start_time": "2022-02-12T17:59:20.673Z"
   },
   {
    "duration": -123,
    "start_time": "2022-02-12T17:59:20.675Z"
   },
   {
    "duration": -124,
    "start_time": "2022-02-12T17:59:20.677Z"
   },
   {
    "duration": -125,
    "start_time": "2022-02-12T17:59:20.679Z"
   },
   {
    "duration": -125,
    "start_time": "2022-02-12T17:59:20.681Z"
   },
   {
    "duration": -125,
    "start_time": "2022-02-12T17:59:20.682Z"
   },
   {
    "duration": 1032,
    "start_time": "2022-02-12T18:01:52.371Z"
   },
   {
    "duration": 352,
    "start_time": "2022-02-12T18:01:53.405Z"
   },
   {
    "duration": 15,
    "start_time": "2022-02-12T18:01:53.759Z"
   },
   {
    "duration": 18,
    "start_time": "2022-02-12T18:01:53.776Z"
   },
   {
    "duration": 100,
    "start_time": "2022-02-12T18:01:53.796Z"
   },
   {
    "duration": 12,
    "start_time": "2022-02-12T18:01:53.897Z"
   },
   {
    "duration": 16,
    "start_time": "2022-02-12T18:01:53.911Z"
   },
   {
    "duration": 74,
    "start_time": "2022-02-12T18:01:53.928Z"
   },
   {
    "duration": 10,
    "start_time": "2022-02-12T18:01:54.004Z"
   },
   {
    "duration": 13,
    "start_time": "2022-02-12T18:01:54.016Z"
   },
   {
    "duration": 51,
    "start_time": "2022-02-12T18:01:54.030Z"
   },
   {
    "duration": 6,
    "start_time": "2022-02-12T18:01:54.083Z"
   },
   {
    "duration": 6,
    "start_time": "2022-02-12T18:01:54.091Z"
   },
   {
    "duration": 10,
    "start_time": "2022-02-12T18:01:54.098Z"
   },
   {
    "duration": 5,
    "start_time": "2022-02-12T18:01:54.110Z"
   },
   {
    "duration": 6,
    "start_time": "2022-02-12T18:01:54.117Z"
   },
   {
    "duration": 54,
    "start_time": "2022-02-12T18:01:54.124Z"
   },
   {
    "duration": 19,
    "start_time": "2022-02-12T18:01:54.179Z"
   },
   {
    "duration": 16,
    "start_time": "2022-02-12T18:01:54.199Z"
   },
   {
    "duration": 3,
    "start_time": "2022-02-12T18:01:54.217Z"
   },
   {
    "duration": 5,
    "start_time": "2022-02-12T18:01:54.222Z"
   },
   {
    "duration": 23,
    "start_time": "2022-02-12T18:01:54.229Z"
   },
   {
    "duration": 6,
    "start_time": "2022-02-12T18:01:54.272Z"
   },
   {
    "duration": 13,
    "start_time": "2022-02-12T18:01:54.279Z"
   },
   {
    "duration": 20,
    "start_time": "2022-02-12T18:01:54.293Z"
   },
   {
    "duration": 16,
    "start_time": "2022-02-12T18:01:54.314Z"
   },
   {
    "duration": 39,
    "start_time": "2022-02-12T18:01:54.333Z"
   },
   {
    "duration": 4,
    "start_time": "2022-02-12T18:01:54.374Z"
   },
   {
    "duration": 4,
    "start_time": "2022-02-12T18:01:54.380Z"
   },
   {
    "duration": 12,
    "start_time": "2022-02-12T18:01:54.385Z"
   },
   {
    "duration": 18,
    "start_time": "2022-02-12T18:01:54.398Z"
   },
   {
    "duration": 2,
    "start_time": "2022-02-12T18:01:54.417Z"
   },
   {
    "duration": 15,
    "start_time": "2022-02-12T18:01:54.421Z"
   },
   {
    "duration": 35,
    "start_time": "2022-02-12T18:01:54.438Z"
   },
   {
    "duration": 7,
    "start_time": "2022-02-12T18:01:54.475Z"
   },
   {
    "duration": 3,
    "start_time": "2022-02-12T18:01:54.483Z"
   },
   {
    "duration": 6,
    "start_time": "2022-02-12T18:01:54.488Z"
   },
   {
    "duration": 24,
    "start_time": "2022-02-12T18:01:54.496Z"
   },
   {
    "duration": 5,
    "start_time": "2022-02-12T18:01:54.521Z"
   },
   {
    "duration": 19,
    "start_time": "2022-02-12T18:01:54.527Z"
   },
   {
    "duration": 26,
    "start_time": "2022-02-12T18:01:54.547Z"
   },
   {
    "duration": 8,
    "start_time": "2022-02-12T18:01:54.575Z"
   },
   {
    "duration": 3,
    "start_time": "2022-02-12T18:01:54.584Z"
   },
   {
    "duration": 11,
    "start_time": "2022-02-12T18:01:54.588Z"
   },
   {
    "duration": 8,
    "start_time": "2022-02-12T18:01:54.600Z"
   },
   {
    "duration": 11,
    "start_time": "2022-02-12T18:01:54.610Z"
   },
   {
    "duration": 377,
    "start_time": "2022-02-12T18:01:54.623Z"
   },
   {
    "duration": -86,
    "start_time": "2022-02-12T18:01:55.088Z"
   },
   {
    "duration": -87,
    "start_time": "2022-02-12T18:01:55.090Z"
   },
   {
    "duration": -88,
    "start_time": "2022-02-12T18:01:55.092Z"
   },
   {
    "duration": -88,
    "start_time": "2022-02-12T18:01:55.093Z"
   },
   {
    "duration": -89,
    "start_time": "2022-02-12T18:01:55.095Z"
   },
   {
    "duration": -90,
    "start_time": "2022-02-12T18:01:55.097Z"
   },
   {
    "duration": -91,
    "start_time": "2022-02-12T18:01:55.099Z"
   },
   {
    "duration": -92,
    "start_time": "2022-02-12T18:01:55.101Z"
   },
   {
    "duration": 308,
    "start_time": "2022-02-12T18:02:06.770Z"
   },
   {
    "duration": 7682,
    "start_time": "2022-02-12T18:02:33.928Z"
   },
   {
    "duration": 398,
    "start_time": "2022-02-12T18:04:05.267Z"
   },
   {
    "duration": 5,
    "start_time": "2022-02-12T18:04:10.334Z"
   },
   {
    "duration": 19,
    "start_time": "2022-02-12T18:05:22.545Z"
   },
   {
    "duration": 969,
    "start_time": "2022-02-12T18:05:51.331Z"
   },
   {
    "duration": 365,
    "start_time": "2022-02-12T18:05:52.302Z"
   },
   {
    "duration": 16,
    "start_time": "2022-02-12T18:05:52.669Z"
   },
   {
    "duration": 19,
    "start_time": "2022-02-12T18:05:52.686Z"
   },
   {
    "duration": 121,
    "start_time": "2022-02-12T18:05:52.707Z"
   },
   {
    "duration": 12,
    "start_time": "2022-02-12T18:05:52.830Z"
   },
   {
    "duration": 29,
    "start_time": "2022-02-12T18:05:52.844Z"
   },
   {
    "duration": 61,
    "start_time": "2022-02-12T18:05:52.876Z"
   },
   {
    "duration": 11,
    "start_time": "2022-02-12T18:05:52.939Z"
   },
   {
    "duration": 32,
    "start_time": "2022-02-12T18:05:52.951Z"
   },
   {
    "duration": 37,
    "start_time": "2022-02-12T18:05:52.984Z"
   },
   {
    "duration": 7,
    "start_time": "2022-02-12T18:05:53.022Z"
   },
   {
    "duration": 7,
    "start_time": "2022-02-12T18:05:53.031Z"
   },
   {
    "duration": 35,
    "start_time": "2022-02-12T18:05:53.039Z"
   },
   {
    "duration": 7,
    "start_time": "2022-02-12T18:05:53.075Z"
   },
   {
    "duration": 6,
    "start_time": "2022-02-12T18:05:53.083Z"
   },
   {
    "duration": 26,
    "start_time": "2022-02-12T18:05:53.090Z"
   },
   {
    "duration": 19,
    "start_time": "2022-02-12T18:05:53.118Z"
   },
   {
    "duration": 43,
    "start_time": "2022-02-12T18:05:53.139Z"
   },
   {
    "duration": 4,
    "start_time": "2022-02-12T18:05:53.184Z"
   },
   {
    "duration": 15,
    "start_time": "2022-02-12T18:05:53.189Z"
   },
   {
    "duration": 23,
    "start_time": "2022-02-12T18:05:53.205Z"
   },
   {
    "duration": 4,
    "start_time": "2022-02-12T18:05:53.232Z"
   },
   {
    "duration": 13,
    "start_time": "2022-02-12T18:05:53.239Z"
   },
   {
    "duration": 34,
    "start_time": "2022-02-12T18:05:53.253Z"
   },
   {
    "duration": 17,
    "start_time": "2022-02-12T18:05:53.288Z"
   },
   {
    "duration": 14,
    "start_time": "2022-02-12T18:05:53.306Z"
   },
   {
    "duration": 6,
    "start_time": "2022-02-12T18:05:53.322Z"
   },
   {
    "duration": 5,
    "start_time": "2022-02-12T18:05:53.330Z"
   },
   {
    "duration": 44,
    "start_time": "2022-02-12T18:05:53.337Z"
   },
   {
    "duration": 21,
    "start_time": "2022-02-12T18:05:53.383Z"
   },
   {
    "duration": 3,
    "start_time": "2022-02-12T18:05:53.405Z"
   },
   {
    "duration": 16,
    "start_time": "2022-02-12T18:05:53.409Z"
   },
   {
    "duration": 15,
    "start_time": "2022-02-12T18:05:53.426Z"
   },
   {
    "duration": 7,
    "start_time": "2022-02-12T18:05:53.442Z"
   },
   {
    "duration": 20,
    "start_time": "2022-02-12T18:05:53.451Z"
   },
   {
    "duration": 4,
    "start_time": "2022-02-12T18:05:53.473Z"
   },
   {
    "duration": 23,
    "start_time": "2022-02-12T18:05:53.479Z"
   },
   {
    "duration": 5,
    "start_time": "2022-02-12T18:05:53.504Z"
   },
   {
    "duration": 18,
    "start_time": "2022-02-12T18:05:53.511Z"
   },
   {
    "duration": 11,
    "start_time": "2022-02-12T18:05:53.530Z"
   },
   {
    "duration": 30,
    "start_time": "2022-02-12T18:05:53.542Z"
   },
   {
    "duration": 4,
    "start_time": "2022-02-12T18:05:53.574Z"
   },
   {
    "duration": 5,
    "start_time": "2022-02-12T18:05:53.579Z"
   },
   {
    "duration": 8,
    "start_time": "2022-02-12T18:05:53.586Z"
   },
   {
    "duration": 12,
    "start_time": "2022-02-12T18:05:53.595Z"
   },
   {
    "duration": 30,
    "start_time": "2022-02-12T18:05:53.609Z"
   },
   {
    "duration": 3,
    "start_time": "2022-02-12T18:05:53.641Z"
   },
   {
    "duration": 198,
    "start_time": "2022-02-12T18:05:53.645Z"
   },
   {
    "duration": 14,
    "start_time": "2022-02-12T18:05:53.845Z"
   },
   {
    "duration": 115,
    "start_time": "2022-02-12T18:05:53.860Z"
   },
   {
    "duration": 100,
    "start_time": "2022-02-12T18:05:53.976Z"
   },
   {
    "duration": 7,
    "start_time": "2022-02-12T18:05:54.077Z"
   },
   {
    "duration": 8,
    "start_time": "2022-02-12T18:05:54.085Z"
   },
   {
    "duration": 4,
    "start_time": "2022-02-12T18:06:42.914Z"
   },
   {
    "duration": 1016,
    "start_time": "2022-02-12T18:06:58.688Z"
   },
   {
    "duration": 369,
    "start_time": "2022-02-12T18:06:59.706Z"
   },
   {
    "duration": 18,
    "start_time": "2022-02-12T18:07:00.077Z"
   },
   {
    "duration": 21,
    "start_time": "2022-02-12T18:07:00.098Z"
   },
   {
    "duration": 124,
    "start_time": "2022-02-12T18:07:00.121Z"
   },
   {
    "duration": 11,
    "start_time": "2022-02-12T18:07:00.247Z"
   },
   {
    "duration": 24,
    "start_time": "2022-02-12T18:07:00.260Z"
   },
   {
    "duration": 56,
    "start_time": "2022-02-12T18:07:00.285Z"
   },
   {
    "duration": 9,
    "start_time": "2022-02-12T18:07:00.344Z"
   },
   {
    "duration": 26,
    "start_time": "2022-02-12T18:07:00.355Z"
   },
   {
    "duration": 34,
    "start_time": "2022-02-12T18:07:00.383Z"
   },
   {
    "duration": 7,
    "start_time": "2022-02-12T18:07:00.419Z"
   },
   {
    "duration": 12,
    "start_time": "2022-02-12T18:07:00.427Z"
   },
   {
    "duration": 14,
    "start_time": "2022-02-12T18:07:00.440Z"
   },
   {
    "duration": 6,
    "start_time": "2022-02-12T18:07:00.472Z"
   },
   {
    "duration": 10,
    "start_time": "2022-02-12T18:07:00.479Z"
   },
   {
    "duration": 29,
    "start_time": "2022-02-12T18:07:00.491Z"
   },
   {
    "duration": 20,
    "start_time": "2022-02-12T18:07:00.521Z"
   },
   {
    "duration": 34,
    "start_time": "2022-02-12T18:07:00.542Z"
   },
   {
    "duration": 5,
    "start_time": "2022-02-12T18:07:00.577Z"
   },
   {
    "duration": 11,
    "start_time": "2022-02-12T18:07:00.583Z"
   },
   {
    "duration": 29,
    "start_time": "2022-02-12T18:07:00.595Z"
   },
   {
    "duration": 4,
    "start_time": "2022-02-12T18:07:00.625Z"
   },
   {
    "duration": 15,
    "start_time": "2022-02-12T18:07:00.630Z"
   },
   {
    "duration": 36,
    "start_time": "2022-02-12T18:07:00.647Z"
   },
   {
    "duration": 15,
    "start_time": "2022-02-12T18:07:00.685Z"
   },
   {
    "duration": 14,
    "start_time": "2022-02-12T18:07:00.703Z"
   },
   {
    "duration": 5,
    "start_time": "2022-02-12T18:07:00.718Z"
   },
   {
    "duration": 14,
    "start_time": "2022-02-12T18:07:00.725Z"
   },
   {
    "duration": 17,
    "start_time": "2022-02-12T18:07:00.740Z"
   },
   {
    "duration": 27,
    "start_time": "2022-02-12T18:07:00.759Z"
   },
   {
    "duration": 2,
    "start_time": "2022-02-12T18:07:00.788Z"
   },
   {
    "duration": 27,
    "start_time": "2022-02-12T18:07:00.791Z"
   },
   {
    "duration": 16,
    "start_time": "2022-02-12T18:07:00.820Z"
   },
   {
    "duration": 9,
    "start_time": "2022-02-12T18:07:00.838Z"
   },
   {
    "duration": 5,
    "start_time": "2022-02-12T18:07:00.849Z"
   },
   {
    "duration": 9,
    "start_time": "2022-02-12T18:07:00.856Z"
   },
   {
    "duration": 24,
    "start_time": "2022-02-12T18:07:00.867Z"
   },
   {
    "duration": 4,
    "start_time": "2022-02-12T18:07:00.893Z"
   },
   {
    "duration": 23,
    "start_time": "2022-02-12T18:07:00.898Z"
   },
   {
    "duration": 12,
    "start_time": "2022-02-12T18:07:00.923Z"
   },
   {
    "duration": 9,
    "start_time": "2022-02-12T18:07:00.936Z"
   },
   {
    "duration": 4,
    "start_time": "2022-02-12T18:07:00.946Z"
   },
   {
    "duration": 8,
    "start_time": "2022-02-12T18:07:00.951Z"
   },
   {
    "duration": 9,
    "start_time": "2022-02-12T18:07:00.961Z"
   },
   {
    "duration": 14,
    "start_time": "2022-02-12T18:07:00.972Z"
   },
   {
    "duration": 34,
    "start_time": "2022-02-12T18:07:00.988Z"
   },
   {
    "duration": 4,
    "start_time": "2022-02-12T18:07:01.023Z"
   },
   {
    "duration": 195,
    "start_time": "2022-02-12T18:07:01.029Z"
   },
   {
    "duration": 17,
    "start_time": "2022-02-12T18:07:01.226Z"
   },
   {
    "duration": 128,
    "start_time": "2022-02-12T18:07:01.245Z"
   },
   {
    "duration": 106,
    "start_time": "2022-02-12T18:07:01.375Z"
   },
   {
    "duration": 9,
    "start_time": "2022-02-12T18:07:01.483Z"
   },
   {
    "duration": 15,
    "start_time": "2022-02-12T18:07:01.493Z"
   },
   {
    "duration": 8,
    "start_time": "2022-02-12T18:07:49.027Z"
   },
   {
    "duration": 8,
    "start_time": "2022-02-12T18:08:05.181Z"
   },
   {
    "duration": 10,
    "start_time": "2022-02-12T18:08:39.620Z"
   },
   {
    "duration": 10,
    "start_time": "2022-02-12T18:11:46.856Z"
   },
   {
    "duration": 1053,
    "start_time": "2022-02-12T18:14:15.545Z"
   },
   {
    "duration": 370,
    "start_time": "2022-02-12T18:14:16.599Z"
   },
   {
    "duration": 24,
    "start_time": "2022-02-12T18:14:16.971Z"
   },
   {
    "duration": 32,
    "start_time": "2022-02-12T18:14:16.998Z"
   },
   {
    "duration": 141,
    "start_time": "2022-02-12T18:14:17.032Z"
   },
   {
    "duration": 17,
    "start_time": "2022-02-12T18:14:17.175Z"
   },
   {
    "duration": 26,
    "start_time": "2022-02-12T18:14:17.194Z"
   },
   {
    "duration": 104,
    "start_time": "2022-02-12T18:14:17.223Z"
   },
   {
    "duration": 14,
    "start_time": "2022-02-12T18:14:17.329Z"
   },
   {
    "duration": 33,
    "start_time": "2022-02-12T18:14:17.345Z"
   },
   {
    "duration": 54,
    "start_time": "2022-02-12T18:14:17.380Z"
   },
   {
    "duration": 10,
    "start_time": "2022-02-12T18:14:17.436Z"
   },
   {
    "duration": 24,
    "start_time": "2022-02-12T18:14:17.448Z"
   },
   {
    "duration": 11,
    "start_time": "2022-02-12T18:14:17.475Z"
   },
   {
    "duration": 6,
    "start_time": "2022-02-12T18:14:17.488Z"
   },
   {
    "duration": 5,
    "start_time": "2022-02-12T18:14:17.496Z"
   },
   {
    "duration": 26,
    "start_time": "2022-02-12T18:14:17.503Z"
   },
   {
    "duration": 48,
    "start_time": "2022-02-12T18:14:17.531Z"
   },
   {
    "duration": 16,
    "start_time": "2022-02-12T18:14:17.581Z"
   },
   {
    "duration": 3,
    "start_time": "2022-02-12T18:14:17.599Z"
   },
   {
    "duration": 6,
    "start_time": "2022-02-12T18:14:17.604Z"
   },
   {
    "duration": 23,
    "start_time": "2022-02-12T18:14:17.611Z"
   },
   {
    "duration": 4,
    "start_time": "2022-02-12T18:14:17.637Z"
   },
   {
    "duration": 38,
    "start_time": "2022-02-12T18:14:17.643Z"
   },
   {
    "duration": 20,
    "start_time": "2022-02-12T18:14:17.683Z"
   },
   {
    "duration": 16,
    "start_time": "2022-02-12T18:14:17.704Z"
   },
   {
    "duration": 13,
    "start_time": "2022-02-12T18:14:17.721Z"
   },
   {
    "duration": 5,
    "start_time": "2022-02-12T18:14:17.735Z"
   },
   {
    "duration": 31,
    "start_time": "2022-02-12T18:14:17.741Z"
   },
   {
    "duration": 11,
    "start_time": "2022-02-12T18:14:17.773Z"
   },
   {
    "duration": 20,
    "start_time": "2022-02-12T18:14:17.785Z"
   },
   {
    "duration": 3,
    "start_time": "2022-02-12T18:14:17.807Z"
   },
   {
    "duration": 16,
    "start_time": "2022-02-12T18:14:17.811Z"
   },
   {
    "duration": 45,
    "start_time": "2022-02-12T18:14:17.828Z"
   },
   {
    "duration": 9,
    "start_time": "2022-02-12T18:14:17.875Z"
   },
   {
    "duration": 3,
    "start_time": "2022-02-12T18:14:17.885Z"
   },
   {
    "duration": 9,
    "start_time": "2022-02-12T18:14:17.889Z"
   },
   {
    "duration": 25,
    "start_time": "2022-02-12T18:14:17.900Z"
   },
   {
    "duration": 4,
    "start_time": "2022-02-12T18:14:17.927Z"
   },
   {
    "duration": 21,
    "start_time": "2022-02-12T18:14:17.933Z"
   },
   {
    "duration": 20,
    "start_time": "2022-02-12T18:14:17.956Z"
   },
   {
    "duration": 7,
    "start_time": "2022-02-12T18:14:17.977Z"
   },
   {
    "duration": 5,
    "start_time": "2022-02-12T18:14:17.986Z"
   },
   {
    "duration": 8,
    "start_time": "2022-02-12T18:14:17.993Z"
   },
   {
    "duration": 10,
    "start_time": "2022-02-12T18:14:18.002Z"
   },
   {
    "duration": 13,
    "start_time": "2022-02-12T18:14:18.014Z"
   },
   {
    "duration": 62,
    "start_time": "2022-02-12T18:14:18.029Z"
   },
   {
    "duration": 5,
    "start_time": "2022-02-12T18:14:18.093Z"
   },
   {
    "duration": 312,
    "start_time": "2022-02-12T18:14:18.100Z"
   },
   {
    "duration": 23,
    "start_time": "2022-02-12T18:14:18.414Z"
   },
   {
    "duration": 162,
    "start_time": "2022-02-12T18:14:18.439Z"
   },
   {
    "duration": 161,
    "start_time": "2022-02-12T18:14:18.603Z"
   },
   {
    "duration": 14,
    "start_time": "2022-02-12T18:14:18.766Z"
   },
   {
    "duration": 8,
    "start_time": "2022-02-12T18:14:18.782Z"
   },
   {
    "duration": 8,
    "start_time": "2022-02-12T18:14:18.792Z"
   },
   {
    "duration": 5,
    "start_time": "2022-02-12T18:24:25.174Z"
   },
   {
    "duration": 1126,
    "start_time": "2022-02-12T18:27:29.247Z"
   },
   {
    "duration": 853,
    "start_time": "2022-02-12T18:27:36.652Z"
   },
   {
    "duration": 98,
    "start_time": "2022-02-12T18:27:49.892Z"
   },
   {
    "duration": 372,
    "start_time": "2022-02-12T18:28:12.382Z"
   },
   {
    "duration": 4,
    "start_time": "2022-02-12T18:29:19.873Z"
   },
   {
    "duration": 749,
    "start_time": "2022-02-12T18:29:20.664Z"
   },
   {
    "duration": 4,
    "start_time": "2022-02-12T18:29:47.175Z"
   },
   {
    "duration": 196,
    "start_time": "2022-02-12T18:29:48.261Z"
   },
   {
    "duration": 206,
    "start_time": "2022-02-12T18:30:01.950Z"
   },
   {
    "duration": 5,
    "start_time": "2022-02-12T18:30:28.148Z"
   },
   {
    "duration": 775,
    "start_time": "2022-02-12T18:30:28.831Z"
   },
   {
    "duration": 6,
    "start_time": "2022-02-12T18:32:01.801Z"
   },
   {
    "duration": 6,
    "start_time": "2022-02-12T18:32:17.462Z"
   },
   {
    "duration": 440,
    "start_time": "2022-02-12T18:32:18.071Z"
   },
   {
    "duration": 5,
    "start_time": "2022-02-12T18:32:53.718Z"
   },
   {
    "duration": 315,
    "start_time": "2022-02-12T18:32:54.190Z"
   },
   {
    "duration": 5,
    "start_time": "2022-02-12T18:33:22.335Z"
   },
   {
    "duration": 366,
    "start_time": "2022-02-12T18:33:22.916Z"
   },
   {
    "duration": 324,
    "start_time": "2022-02-12T18:34:51.401Z"
   },
   {
    "duration": 1026,
    "start_time": "2022-02-12T18:42:28.089Z"
   },
   {
    "duration": 367,
    "start_time": "2022-02-12T18:42:29.117Z"
   },
   {
    "duration": 17,
    "start_time": "2022-02-12T18:42:29.489Z"
   },
   {
    "duration": 20,
    "start_time": "2022-02-12T18:42:29.508Z"
   },
   {
    "duration": 108,
    "start_time": "2022-02-12T18:42:29.529Z"
   },
   {
    "duration": 11,
    "start_time": "2022-02-12T18:42:29.639Z"
   },
   {
    "duration": 31,
    "start_time": "2022-02-12T18:42:29.653Z"
   },
   {
    "duration": 62,
    "start_time": "2022-02-12T18:42:29.686Z"
   },
   {
    "duration": 23,
    "start_time": "2022-02-12T18:42:29.750Z"
   },
   {
    "duration": 15,
    "start_time": "2022-02-12T18:42:29.775Z"
   },
   {
    "duration": 41,
    "start_time": "2022-02-12T18:42:29.792Z"
   },
   {
    "duration": 8,
    "start_time": "2022-02-12T18:42:29.835Z"
   },
   {
    "duration": 6,
    "start_time": "2022-02-12T18:42:29.872Z"
   },
   {
    "duration": 12,
    "start_time": "2022-02-12T18:42:29.880Z"
   },
   {
    "duration": 6,
    "start_time": "2022-02-12T18:42:29.893Z"
   },
   {
    "duration": 5,
    "start_time": "2022-02-12T18:42:29.901Z"
   },
   {
    "duration": 27,
    "start_time": "2022-02-12T18:42:29.907Z"
   },
   {
    "duration": 48,
    "start_time": "2022-02-12T18:42:29.935Z"
   },
   {
    "duration": 17,
    "start_time": "2022-02-12T18:42:29.984Z"
   },
   {
    "duration": 4,
    "start_time": "2022-02-12T18:42:30.002Z"
   },
   {
    "duration": 8,
    "start_time": "2022-02-12T18:42:30.008Z"
   },
   {
    "duration": 26,
    "start_time": "2022-02-12T18:42:30.019Z"
   },
   {
    "duration": 26,
    "start_time": "2022-02-12T18:42:30.046Z"
   },
   {
    "duration": 13,
    "start_time": "2022-02-12T18:42:30.074Z"
   },
   {
    "duration": 28,
    "start_time": "2022-02-12T18:42:30.089Z"
   },
   {
    "duration": 16,
    "start_time": "2022-02-12T18:42:30.119Z"
   },
   {
    "duration": 35,
    "start_time": "2022-02-12T18:42:30.137Z"
   },
   {
    "duration": 5,
    "start_time": "2022-02-12T18:42:30.174Z"
   },
   {
    "duration": 5,
    "start_time": "2022-02-12T18:42:30.181Z"
   },
   {
    "duration": 22,
    "start_time": "2022-02-12T18:42:30.187Z"
   },
   {
    "duration": 33,
    "start_time": "2022-02-12T18:42:30.211Z"
   },
   {
    "duration": 7,
    "start_time": "2022-02-12T18:42:30.246Z"
   },
   {
    "duration": 26,
    "start_time": "2022-02-12T18:42:30.255Z"
   },
   {
    "duration": 17,
    "start_time": "2022-02-12T18:42:30.283Z"
   },
   {
    "duration": 10,
    "start_time": "2022-02-12T18:42:30.302Z"
   },
   {
    "duration": 5,
    "start_time": "2022-02-12T18:42:30.314Z"
   },
   {
    "duration": 9,
    "start_time": "2022-02-12T18:42:30.321Z"
   },
   {
    "duration": 35,
    "start_time": "2022-02-12T18:42:30.332Z"
   },
   {
    "duration": 6,
    "start_time": "2022-02-12T18:42:30.369Z"
   },
   {
    "duration": 24,
    "start_time": "2022-02-12T18:42:30.376Z"
   },
   {
    "duration": 11,
    "start_time": "2022-02-12T18:42:30.401Z"
   },
   {
    "duration": 11,
    "start_time": "2022-02-12T18:42:30.414Z"
   },
   {
    "duration": 9,
    "start_time": "2022-02-12T18:42:30.427Z"
   },
   {
    "duration": 10,
    "start_time": "2022-02-12T18:42:30.437Z"
   },
   {
    "duration": 13,
    "start_time": "2022-02-12T18:42:30.449Z"
   },
   {
    "duration": 23,
    "start_time": "2022-02-12T18:42:30.464Z"
   },
   {
    "duration": 32,
    "start_time": "2022-02-12T18:42:30.488Z"
   },
   {
    "duration": 5,
    "start_time": "2022-02-12T18:42:30.522Z"
   },
   {
    "duration": 198,
    "start_time": "2022-02-12T18:42:30.528Z"
   },
   {
    "duration": 14,
    "start_time": "2022-02-12T18:42:30.728Z"
   },
   {
    "duration": 119,
    "start_time": "2022-02-12T18:42:30.743Z"
   },
   {
    "duration": 117,
    "start_time": "2022-02-12T18:42:30.864Z"
   },
   {
    "duration": 11,
    "start_time": "2022-02-12T18:42:30.985Z"
   },
   {
    "duration": 14,
    "start_time": "2022-02-12T18:42:30.998Z"
   },
   {
    "duration": 16,
    "start_time": "2022-02-12T18:42:31.014Z"
   },
   {
    "duration": 9,
    "start_time": "2022-02-12T18:42:31.032Z"
   },
   {
    "duration": 421,
    "start_time": "2022-02-12T18:42:31.043Z"
   },
   {
    "duration": 7,
    "start_time": "2022-02-12T18:44:39.089Z"
   },
   {
    "duration": 6,
    "start_time": "2022-02-12T18:45:45.237Z"
   },
   {
    "duration": 6,
    "start_time": "2022-02-12T18:46:56.411Z"
   },
   {
    "duration": 8,
    "start_time": "2022-02-12T18:47:36.646Z"
   },
   {
    "duration": 7,
    "start_time": "2022-02-12T18:52:42.307Z"
   },
   {
    "duration": 1063,
    "start_time": "2022-02-12T18:52:52.936Z"
   },
   {
    "duration": 371,
    "start_time": "2022-02-12T18:52:54.001Z"
   },
   {
    "duration": 15,
    "start_time": "2022-02-12T18:52:54.374Z"
   },
   {
    "duration": 18,
    "start_time": "2022-02-12T18:52:54.391Z"
   },
   {
    "duration": 109,
    "start_time": "2022-02-12T18:52:54.411Z"
   },
   {
    "duration": 13,
    "start_time": "2022-02-12T18:52:54.521Z"
   },
   {
    "duration": 31,
    "start_time": "2022-02-12T18:52:54.536Z"
   },
   {
    "duration": 108,
    "start_time": "2022-02-12T18:52:54.581Z"
   },
   {
    "duration": 14,
    "start_time": "2022-02-12T18:52:54.692Z"
   },
   {
    "duration": 22,
    "start_time": "2022-02-12T18:52:54.708Z"
   },
   {
    "duration": 75,
    "start_time": "2022-02-12T18:52:54.732Z"
   },
   {
    "duration": 8,
    "start_time": "2022-02-12T18:52:54.809Z"
   },
   {
    "duration": 9,
    "start_time": "2022-02-12T18:52:54.818Z"
   },
   {
    "duration": 11,
    "start_time": "2022-02-12T18:52:54.829Z"
   },
   {
    "duration": 7,
    "start_time": "2022-02-12T18:52:54.841Z"
   },
   {
    "duration": 28,
    "start_time": "2022-02-12T18:52:54.849Z"
   },
   {
    "duration": 30,
    "start_time": "2022-02-12T18:52:54.879Z"
   },
   {
    "duration": 32,
    "start_time": "2022-02-12T18:52:54.911Z"
   },
   {
    "duration": 51,
    "start_time": "2022-02-12T18:52:54.945Z"
   },
   {
    "duration": 6,
    "start_time": "2022-02-12T18:52:54.998Z"
   },
   {
    "duration": 7,
    "start_time": "2022-02-12T18:52:55.006Z"
   },
   {
    "duration": 23,
    "start_time": "2022-02-12T18:52:55.014Z"
   },
   {
    "duration": 4,
    "start_time": "2022-02-12T18:52:55.041Z"
   },
   {
    "duration": 36,
    "start_time": "2022-02-12T18:52:55.047Z"
   },
   {
    "duration": 20,
    "start_time": "2022-02-12T18:52:55.085Z"
   },
   {
    "duration": 16,
    "start_time": "2022-02-12T18:52:55.106Z"
   },
   {
    "duration": 14,
    "start_time": "2022-02-12T18:52:55.123Z"
   },
   {
    "duration": 4,
    "start_time": "2022-02-12T18:52:55.138Z"
   },
   {
    "duration": 28,
    "start_time": "2022-02-12T18:52:55.144Z"
   },
   {
    "duration": 10,
    "start_time": "2022-02-12T18:52:55.173Z"
   },
   {
    "duration": 19,
    "start_time": "2022-02-12T18:52:55.185Z"
   },
   {
    "duration": 2,
    "start_time": "2022-02-12T18:52:55.206Z"
   },
   {
    "duration": 15,
    "start_time": "2022-02-12T18:52:55.209Z"
   },
   {
    "duration": 49,
    "start_time": "2022-02-12T18:52:55.226Z"
   },
   {
    "duration": 7,
    "start_time": "2022-02-12T18:52:55.277Z"
   },
   {
    "duration": 3,
    "start_time": "2022-02-12T18:52:55.285Z"
   },
   {
    "duration": 4,
    "start_time": "2022-02-12T18:52:55.290Z"
   },
   {
    "duration": 23,
    "start_time": "2022-02-12T18:52:55.295Z"
   },
   {
    "duration": 4,
    "start_time": "2022-02-12T18:52:55.320Z"
   },
   {
    "duration": 15,
    "start_time": "2022-02-12T18:52:55.326Z"
   },
   {
    "duration": 32,
    "start_time": "2022-02-12T18:52:55.343Z"
   },
   {
    "duration": 7,
    "start_time": "2022-02-12T18:52:55.377Z"
   },
   {
    "duration": 2,
    "start_time": "2022-02-12T18:52:55.386Z"
   },
   {
    "duration": 8,
    "start_time": "2022-02-12T18:52:55.390Z"
   },
   {
    "duration": 9,
    "start_time": "2022-02-12T18:52:55.399Z"
   },
   {
    "duration": 13,
    "start_time": "2022-02-12T18:52:55.409Z"
   },
   {
    "duration": 35,
    "start_time": "2022-02-12T18:52:55.423Z"
   },
   {
    "duration": 12,
    "start_time": "2022-02-12T18:52:55.460Z"
   },
   {
    "duration": 184,
    "start_time": "2022-02-12T18:52:55.474Z"
   },
   {
    "duration": 13,
    "start_time": "2022-02-12T18:52:55.660Z"
   },
   {
    "duration": 110,
    "start_time": "2022-02-12T18:52:55.675Z"
   },
   {
    "duration": 107,
    "start_time": "2022-02-12T18:52:55.787Z"
   },
   {
    "duration": 7,
    "start_time": "2022-02-12T18:52:55.895Z"
   },
   {
    "duration": 8,
    "start_time": "2022-02-12T18:52:55.904Z"
   },
   {
    "duration": 7,
    "start_time": "2022-02-12T18:52:55.914Z"
   },
   {
    "duration": 4,
    "start_time": "2022-02-12T18:52:55.923Z"
   },
   {
    "duration": 366,
    "start_time": "2022-02-12T18:52:55.929Z"
   },
   {
    "duration": 9,
    "start_time": "2022-02-12T18:52:56.297Z"
   },
   {
    "duration": -240,
    "start_time": "2022-02-12T18:53:36.690Z"
   },
   {
    "duration": 9,
    "start_time": "2022-02-12T18:53:41.102Z"
   },
   {
    "duration": 9,
    "start_time": "2022-02-12T18:55:39.952Z"
   },
   {
    "duration": 298,
    "start_time": "2022-02-12T18:57:36.959Z"
   },
   {
    "duration": 1043,
    "start_time": "2022-02-12T18:58:31.759Z"
   },
   {
    "duration": 358,
    "start_time": "2022-02-12T18:58:32.804Z"
   },
   {
    "duration": 15,
    "start_time": "2022-02-12T18:58:33.166Z"
   },
   {
    "duration": 20,
    "start_time": "2022-02-12T18:58:33.182Z"
   },
   {
    "duration": 99,
    "start_time": "2022-02-12T18:58:33.203Z"
   },
   {
    "duration": 11,
    "start_time": "2022-02-12T18:58:33.303Z"
   },
   {
    "duration": 16,
    "start_time": "2022-02-12T18:58:33.316Z"
   },
   {
    "duration": 77,
    "start_time": "2022-02-12T18:58:33.335Z"
   },
   {
    "duration": 10,
    "start_time": "2022-02-12T18:58:33.415Z"
   },
   {
    "duration": 14,
    "start_time": "2022-02-12T18:58:33.426Z"
   },
   {
    "duration": 59,
    "start_time": "2022-02-12T18:58:33.442Z"
   },
   {
    "duration": 8,
    "start_time": "2022-02-12T18:58:33.503Z"
   },
   {
    "duration": 7,
    "start_time": "2022-02-12T18:58:33.512Z"
   },
   {
    "duration": 11,
    "start_time": "2022-02-12T18:58:33.520Z"
   },
   {
    "duration": 6,
    "start_time": "2022-02-12T18:58:33.532Z"
   },
   {
    "duration": 37,
    "start_time": "2022-02-12T18:58:33.540Z"
   },
   {
    "duration": 26,
    "start_time": "2022-02-12T18:58:33.578Z"
   },
   {
    "duration": 18,
    "start_time": "2022-02-12T18:58:33.606Z"
   },
   {
    "duration": 15,
    "start_time": "2022-02-12T18:58:33.626Z"
   },
   {
    "duration": 29,
    "start_time": "2022-02-12T18:58:33.643Z"
   },
   {
    "duration": 5,
    "start_time": "2022-02-12T18:58:33.673Z"
   },
   {
    "duration": 21,
    "start_time": "2022-02-12T18:58:33.680Z"
   },
   {
    "duration": 4,
    "start_time": "2022-02-12T18:58:33.702Z"
   },
   {
    "duration": 13,
    "start_time": "2022-02-12T18:58:33.708Z"
   },
   {
    "duration": 20,
    "start_time": "2022-02-12T18:58:33.723Z"
   },
   {
    "duration": 36,
    "start_time": "2022-02-12T18:58:33.747Z"
   },
   {
    "duration": 14,
    "start_time": "2022-02-12T18:58:33.785Z"
   },
   {
    "duration": 5,
    "start_time": "2022-02-12T18:58:33.801Z"
   },
   {
    "duration": 3,
    "start_time": "2022-02-12T18:58:33.808Z"
   },
   {
    "duration": 14,
    "start_time": "2022-02-12T18:58:33.813Z"
   },
   {
    "duration": 48,
    "start_time": "2022-02-12T18:58:33.828Z"
   },
   {
    "duration": 3,
    "start_time": "2022-02-12T18:58:33.877Z"
   },
   {
    "duration": 13,
    "start_time": "2022-02-12T18:58:33.882Z"
   },
   {
    "duration": 16,
    "start_time": "2022-02-12T18:58:33.896Z"
   },
   {
    "duration": 8,
    "start_time": "2022-02-12T18:58:33.913Z"
   },
   {
    "duration": 3,
    "start_time": "2022-02-12T18:58:33.923Z"
   },
   {
    "duration": 8,
    "start_time": "2022-02-12T18:58:33.928Z"
   },
   {
    "duration": 43,
    "start_time": "2022-02-12T18:58:33.937Z"
   },
   {
    "duration": 5,
    "start_time": "2022-02-12T18:58:33.982Z"
   },
   {
    "duration": 13,
    "start_time": "2022-02-12T18:58:33.989Z"
   },
   {
    "duration": 8,
    "start_time": "2022-02-12T18:58:34.004Z"
   },
   {
    "duration": 9,
    "start_time": "2022-02-12T18:58:34.013Z"
   },
   {
    "duration": 5,
    "start_time": "2022-02-12T18:58:34.023Z"
   },
   {
    "duration": 9,
    "start_time": "2022-02-12T18:58:34.029Z"
   },
   {
    "duration": 8,
    "start_time": "2022-02-12T18:58:34.039Z"
   },
   {
    "duration": 26,
    "start_time": "2022-02-12T18:58:34.049Z"
   },
   {
    "duration": 30,
    "start_time": "2022-02-12T18:58:34.076Z"
   },
   {
    "duration": 3,
    "start_time": "2022-02-12T18:58:34.108Z"
   },
   {
    "duration": 194,
    "start_time": "2022-02-12T18:58:34.113Z"
   },
   {
    "duration": 15,
    "start_time": "2022-02-12T18:58:34.308Z"
   },
   {
    "duration": 105,
    "start_time": "2022-02-12T18:58:34.324Z"
   },
   {
    "duration": 106,
    "start_time": "2022-02-12T18:58:34.431Z"
   },
   {
    "duration": 7,
    "start_time": "2022-02-12T18:58:34.539Z"
   },
   {
    "duration": 9,
    "start_time": "2022-02-12T18:58:34.547Z"
   },
   {
    "duration": 7,
    "start_time": "2022-02-12T18:58:34.571Z"
   },
   {
    "duration": 4,
    "start_time": "2022-02-12T18:58:34.580Z"
   },
   {
    "duration": 368,
    "start_time": "2022-02-12T18:58:34.585Z"
   },
   {
    "duration": 19,
    "start_time": "2022-02-12T18:58:34.955Z"
   },
   {
    "duration": 11,
    "start_time": "2022-02-12T18:58:34.975Z"
   },
   {
    "duration": 9,
    "start_time": "2022-02-12T18:58:34.988Z"
   },
   {
    "duration": 324,
    "start_time": "2022-02-12T18:58:34.998Z"
   },
   {
    "duration": 5,
    "start_time": "2022-02-12T18:58:56.851Z"
   },
   {
    "duration": 333,
    "start_time": "2022-02-12T18:58:58.849Z"
   },
   {
    "duration": 5,
    "start_time": "2022-02-12T18:59:06.251Z"
   },
   {
    "duration": 393,
    "start_time": "2022-02-12T18:59:06.993Z"
   },
   {
    "duration": 5,
    "start_time": "2022-02-12T18:59:15.688Z"
   },
   {
    "duration": 324,
    "start_time": "2022-02-12T18:59:16.263Z"
   },
   {
    "duration": 5,
    "start_time": "2022-02-12T18:59:22.847Z"
   },
   {
    "duration": 321,
    "start_time": "2022-02-12T18:59:23.448Z"
   },
   {
    "duration": 293,
    "start_time": "2022-02-12T18:59:30.013Z"
   },
   {
    "duration": 8,
    "start_time": "2022-02-12T19:06:52.497Z"
   },
   {
    "duration": 8,
    "start_time": "2022-02-12T19:09:50.800Z"
   },
   {
    "duration": 9,
    "start_time": "2022-02-12T19:10:21.437Z"
   },
   {
    "duration": 274,
    "start_time": "2022-02-12T19:16:48.352Z"
   },
   {
    "duration": 262,
    "start_time": "2022-02-12T19:19:52.518Z"
   },
   {
    "duration": 273,
    "start_time": "2022-02-12T19:19:56.551Z"
   },
   {
    "duration": 278,
    "start_time": "2022-02-12T19:20:19.459Z"
   },
   {
    "duration": 9,
    "start_time": "2022-02-12T19:23:21.747Z"
   },
   {
    "duration": 9,
    "start_time": "2022-02-12T19:29:47.159Z"
   },
   {
    "duration": 9,
    "start_time": "2022-02-12T19:29:59.008Z"
   },
   {
    "duration": 9,
    "start_time": "2022-02-12T19:31:41.524Z"
   },
   {
    "duration": 9,
    "start_time": "2022-02-12T19:32:59.111Z"
   },
   {
    "duration": 9,
    "start_time": "2022-02-12T19:33:18.980Z"
   },
   {
    "duration": 8,
    "start_time": "2022-02-12T19:33:36.231Z"
   },
   {
    "duration": 8,
    "start_time": "2022-02-12T19:33:55.539Z"
   },
   {
    "duration": 10,
    "start_time": "2022-02-12T19:34:10.213Z"
   },
   {
    "duration": 11,
    "start_time": "2022-02-12T19:34:34.842Z"
   },
   {
    "duration": 9,
    "start_time": "2022-02-12T19:34:42.525Z"
   },
   {
    "duration": 1046,
    "start_time": "2022-02-12T19:34:54.540Z"
   },
   {
    "duration": 396,
    "start_time": "2022-02-12T19:34:55.588Z"
   },
   {
    "duration": 15,
    "start_time": "2022-02-12T19:34:55.986Z"
   },
   {
    "duration": 18,
    "start_time": "2022-02-12T19:34:56.003Z"
   },
   {
    "duration": 101,
    "start_time": "2022-02-12T19:34:56.023Z"
   },
   {
    "duration": 12,
    "start_time": "2022-02-12T19:34:56.125Z"
   },
   {
    "duration": 26,
    "start_time": "2022-02-12T19:34:56.139Z"
   },
   {
    "duration": 64,
    "start_time": "2022-02-12T19:34:56.166Z"
   },
   {
    "duration": 9,
    "start_time": "2022-02-12T19:34:56.232Z"
   },
   {
    "duration": 13,
    "start_time": "2022-02-12T19:34:56.243Z"
   },
   {
    "duration": 36,
    "start_time": "2022-02-12T19:34:56.257Z"
   },
   {
    "duration": 7,
    "start_time": "2022-02-12T19:34:56.294Z"
   },
   {
    "duration": 6,
    "start_time": "2022-02-12T19:34:56.303Z"
   },
   {
    "duration": 10,
    "start_time": "2022-02-12T19:34:56.311Z"
   },
   {
    "duration": 6,
    "start_time": "2022-02-12T19:34:56.322Z"
   },
   {
    "duration": 6,
    "start_time": "2022-02-12T19:34:56.329Z"
   },
   {
    "duration": 24,
    "start_time": "2022-02-12T19:34:56.337Z"
   },
   {
    "duration": 25,
    "start_time": "2022-02-12T19:34:56.363Z"
   },
   {
    "duration": 17,
    "start_time": "2022-02-12T19:34:56.390Z"
   },
   {
    "duration": 4,
    "start_time": "2022-02-12T19:34:56.408Z"
   },
   {
    "duration": 13,
    "start_time": "2022-02-12T19:34:56.414Z"
   },
   {
    "duration": 28,
    "start_time": "2022-02-12T19:34:56.429Z"
   },
   {
    "duration": 4,
    "start_time": "2022-02-12T19:34:56.459Z"
   },
   {
    "duration": 16,
    "start_time": "2022-02-12T19:34:56.464Z"
   },
   {
    "duration": 20,
    "start_time": "2022-02-12T19:34:56.482Z"
   },
   {
    "duration": 15,
    "start_time": "2022-02-12T19:34:56.504Z"
   },
   {
    "duration": 15,
    "start_time": "2022-02-12T19:34:56.522Z"
   },
   {
    "duration": 13,
    "start_time": "2022-02-12T19:34:56.540Z"
   },
   {
    "duration": 5,
    "start_time": "2022-02-12T19:34:56.555Z"
   },
   {
    "duration": 14,
    "start_time": "2022-02-12T19:34:56.561Z"
   },
   {
    "duration": 23,
    "start_time": "2022-02-12T19:34:56.576Z"
   },
   {
    "duration": 2,
    "start_time": "2022-02-12T19:34:56.600Z"
   },
   {
    "duration": 16,
    "start_time": "2022-02-12T19:34:56.603Z"
   },
   {
    "duration": 14,
    "start_time": "2022-02-12T19:34:56.620Z"
   },
   {
    "duration": 7,
    "start_time": "2022-02-12T19:34:56.636Z"
   },
   {
    "duration": 4,
    "start_time": "2022-02-12T19:34:56.644Z"
   },
   {
    "duration": 9,
    "start_time": "2022-02-12T19:34:56.649Z"
   },
   {
    "duration": 24,
    "start_time": "2022-02-12T19:34:56.659Z"
   },
   {
    "duration": 4,
    "start_time": "2022-02-12T19:34:56.684Z"
   },
   {
    "duration": 16,
    "start_time": "2022-02-12T19:34:56.689Z"
   },
   {
    "duration": 12,
    "start_time": "2022-02-12T19:34:56.707Z"
   },
   {
    "duration": 8,
    "start_time": "2022-02-12T19:34:56.720Z"
   },
   {
    "duration": 5,
    "start_time": "2022-02-12T19:34:56.730Z"
   },
   {
    "duration": 9,
    "start_time": "2022-02-12T19:34:56.736Z"
   },
   {
    "duration": 9,
    "start_time": "2022-02-12T19:34:56.746Z"
   },
   {
    "duration": 12,
    "start_time": "2022-02-12T19:34:56.756Z"
   },
   {
    "duration": 34,
    "start_time": "2022-02-12T19:34:56.769Z"
   },
   {
    "duration": 3,
    "start_time": "2022-02-12T19:34:56.805Z"
   },
   {
    "duration": 203,
    "start_time": "2022-02-12T19:34:56.809Z"
   },
   {
    "duration": 68,
    "start_time": "2022-02-12T19:34:57.013Z"
   },
   {
    "duration": 106,
    "start_time": "2022-02-12T19:34:57.083Z"
   },
   {
    "duration": 115,
    "start_time": "2022-02-12T19:34:57.190Z"
   },
   {
    "duration": 7,
    "start_time": "2022-02-12T19:34:57.306Z"
   },
   {
    "duration": 9,
    "start_time": "2022-02-12T19:34:57.314Z"
   },
   {
    "duration": 47,
    "start_time": "2022-02-12T19:34:57.324Z"
   },
   {
    "duration": 4,
    "start_time": "2022-02-12T19:34:57.373Z"
   },
   {
    "duration": 484,
    "start_time": "2022-02-12T19:34:57.379Z"
   },
   {
    "duration": 13,
    "start_time": "2022-02-12T19:34:57.864Z"
   },
   {
    "duration": 7,
    "start_time": "2022-02-12T19:34:57.879Z"
   },
   {
    "duration": 7,
    "start_time": "2022-02-12T19:34:57.888Z"
   },
   {
    "duration": 288,
    "start_time": "2022-02-12T19:34:57.897Z"
   },
   {
    "duration": 9,
    "start_time": "2022-02-12T19:34:58.187Z"
   },
   {
    "duration": 10,
    "start_time": "2022-02-12T19:34:58.198Z"
   },
   {
    "duration": 9,
    "start_time": "2022-02-12T19:34:58.209Z"
   },
   {
    "duration": 297,
    "start_time": "2022-02-12T19:34:58.219Z"
   },
   {
    "duration": 8,
    "start_time": "2022-02-12T19:34:58.517Z"
   },
   {
    "duration": -307,
    "start_time": "2022-02-12T19:36:22.889Z"
   },
   {
    "duration": 8,
    "start_time": "2022-02-12T19:36:44.005Z"
   },
   {
    "duration": 11,
    "start_time": "2022-02-12T19:37:37.776Z"
   },
   {
    "duration": 330,
    "start_time": "2022-02-12T19:41:48.805Z"
   },
   {
    "duration": 373,
    "start_time": "2022-02-12T19:42:12.124Z"
   },
   {
    "duration": 297,
    "start_time": "2022-02-12T19:42:21.296Z"
   },
   {
    "duration": 381,
    "start_time": "2022-02-12T19:42:27.649Z"
   },
   {
    "duration": 326,
    "start_time": "2022-02-12T19:42:34.157Z"
   },
   {
    "duration": 348,
    "start_time": "2022-02-12T19:43:29.692Z"
   },
   {
    "duration": 101,
    "start_time": "2022-02-12T19:48:05.848Z"
   },
   {
    "duration": 331,
    "start_time": "2022-02-12T19:52:46.704Z"
   },
   {
    "duration": 104,
    "start_time": "2022-02-12T19:54:38.763Z"
   },
   {
    "duration": 3291,
    "start_time": "2022-02-12T19:54:51.066Z"
   },
   {
    "duration": 369,
    "start_time": "2022-02-12T19:55:44.131Z"
   },
   {
    "duration": 778,
    "start_time": "2022-02-12T19:56:27.095Z"
   },
   {
    "duration": 629,
    "start_time": "2022-02-12T19:56:52.908Z"
   },
   {
    "duration": 97,
    "start_time": "2022-02-12T19:59:49.666Z"
   },
   {
    "duration": 8,
    "start_time": "2022-02-12T20:14:12.477Z"
   },
   {
    "duration": 1071,
    "start_time": "2022-02-12T20:29:19.436Z"
   },
   {
    "duration": 370,
    "start_time": "2022-02-12T20:29:20.508Z"
   },
   {
    "duration": 16,
    "start_time": "2022-02-12T20:29:20.880Z"
   },
   {
    "duration": 18,
    "start_time": "2022-02-12T20:29:20.897Z"
   },
   {
    "duration": 100,
    "start_time": "2022-02-12T20:29:20.917Z"
   },
   {
    "duration": 12,
    "start_time": "2022-02-12T20:29:21.019Z"
   },
   {
    "duration": 16,
    "start_time": "2022-02-12T20:29:21.032Z"
   },
   {
    "duration": 78,
    "start_time": "2022-02-12T20:29:21.050Z"
   },
   {
    "duration": 10,
    "start_time": "2022-02-12T20:29:21.130Z"
   },
   {
    "duration": 33,
    "start_time": "2022-02-12T20:29:21.142Z"
   },
   {
    "duration": 37,
    "start_time": "2022-02-12T20:29:21.177Z"
   },
   {
    "duration": 8,
    "start_time": "2022-02-12T20:29:21.215Z"
   },
   {
    "duration": 8,
    "start_time": "2022-02-12T20:29:21.225Z"
   },
   {
    "duration": 11,
    "start_time": "2022-02-12T20:29:21.234Z"
   },
   {
    "duration": 31,
    "start_time": "2022-02-12T20:29:21.246Z"
   },
   {
    "duration": 8,
    "start_time": "2022-02-12T20:29:21.278Z"
   },
   {
    "duration": 26,
    "start_time": "2022-02-12T20:29:21.287Z"
   },
   {
    "duration": 20,
    "start_time": "2022-02-12T20:29:21.315Z"
   },
   {
    "duration": 41,
    "start_time": "2022-02-12T20:29:21.336Z"
   },
   {
    "duration": 4,
    "start_time": "2022-02-12T20:29:21.378Z"
   },
   {
    "duration": 7,
    "start_time": "2022-02-12T20:29:21.383Z"
   },
   {
    "duration": 22,
    "start_time": "2022-02-12T20:29:21.392Z"
   },
   {
    "duration": 4,
    "start_time": "2022-02-12T20:29:21.415Z"
   },
   {
    "duration": 14,
    "start_time": "2022-02-12T20:29:21.421Z"
   },
   {
    "duration": 41,
    "start_time": "2022-02-12T20:29:21.436Z"
   },
   {
    "duration": 16,
    "start_time": "2022-02-12T20:29:21.478Z"
   },
   {
    "duration": 13,
    "start_time": "2022-02-12T20:29:21.498Z"
   },
   {
    "duration": 5,
    "start_time": "2022-02-12T20:29:21.513Z"
   },
   {
    "duration": 5,
    "start_time": "2022-02-12T20:29:21.519Z"
   },
   {
    "duration": 16,
    "start_time": "2022-02-12T20:29:21.525Z"
   },
   {
    "duration": 42,
    "start_time": "2022-02-12T20:29:21.542Z"
   },
   {
    "duration": 3,
    "start_time": "2022-02-12T20:29:21.585Z"
   },
   {
    "duration": 14,
    "start_time": "2022-02-12T20:29:21.589Z"
   },
   {
    "duration": 16,
    "start_time": "2022-02-12T20:29:21.604Z"
   },
   {
    "duration": 8,
    "start_time": "2022-02-12T20:29:21.621Z"
   },
   {
    "duration": 3,
    "start_time": "2022-02-12T20:29:21.630Z"
   },
   {
    "duration": 9,
    "start_time": "2022-02-12T20:29:21.634Z"
   },
   {
    "duration": 39,
    "start_time": "2022-02-12T20:29:21.645Z"
   },
   {
    "duration": 5,
    "start_time": "2022-02-12T20:29:21.685Z"
   },
   {
    "duration": 13,
    "start_time": "2022-02-12T20:29:21.691Z"
   },
   {
    "duration": 10,
    "start_time": "2022-02-12T20:29:21.706Z"
   },
   {
    "duration": 8,
    "start_time": "2022-02-12T20:29:21.717Z"
   },
   {
    "duration": 7,
    "start_time": "2022-02-12T20:29:21.726Z"
   },
   {
    "duration": 10,
    "start_time": "2022-02-12T20:29:21.734Z"
   },
   {
    "duration": 8,
    "start_time": "2022-02-12T20:29:21.745Z"
   },
   {
    "duration": 21,
    "start_time": "2022-02-12T20:29:21.755Z"
   },
   {
    "duration": 33,
    "start_time": "2022-02-12T20:29:21.778Z"
   },
   {
    "duration": 4,
    "start_time": "2022-02-12T20:29:21.812Z"
   },
   {
    "duration": 190,
    "start_time": "2022-02-12T20:29:21.817Z"
   },
   {
    "duration": 15,
    "start_time": "2022-02-12T20:29:22.009Z"
   },
   {
    "duration": 110,
    "start_time": "2022-02-12T20:29:22.026Z"
   },
   {
    "duration": 7,
    "start_time": "2022-02-12T20:29:22.137Z"
   },
   {
    "duration": 10,
    "start_time": "2022-02-12T20:29:22.146Z"
   },
   {
    "duration": 20,
    "start_time": "2022-02-12T20:29:22.157Z"
   },
   {
    "duration": 4,
    "start_time": "2022-02-12T20:29:22.178Z"
   },
   {
    "duration": 341,
    "start_time": "2022-02-12T20:29:22.184Z"
   },
   {
    "duration": 9,
    "start_time": "2022-02-12T20:29:22.527Z"
   },
   {
    "duration": 9,
    "start_time": "2022-02-12T20:29:22.537Z"
   },
   {
    "duration": 27,
    "start_time": "2022-02-12T20:29:22.547Z"
   },
   {
    "duration": 314,
    "start_time": "2022-02-12T20:29:22.575Z"
   },
   {
    "duration": 8,
    "start_time": "2022-02-12T20:29:22.891Z"
   },
   {
    "duration": 8,
    "start_time": "2022-02-12T20:29:22.901Z"
   },
   {
    "duration": 8,
    "start_time": "2022-02-12T20:29:22.911Z"
   },
   {
    "duration": 303,
    "start_time": "2022-02-12T20:29:22.920Z"
   },
   {
    "duration": 8,
    "start_time": "2022-02-12T20:29:23.224Z"
   },
   {
    "duration": 7,
    "start_time": "2022-02-12T20:29:23.234Z"
   },
   {
    "duration": 7,
    "start_time": "2022-02-12T20:29:23.243Z"
   },
   {
    "duration": 106,
    "start_time": "2022-02-12T20:29:23.272Z"
   },
   {
    "duration": 328,
    "start_time": "2022-02-12T20:29:23.380Z"
   },
   {
    "duration": 8,
    "start_time": "2022-02-12T20:29:23.710Z"
   },
   {
    "duration": 300,
    "start_time": "2022-02-13T12:11:54.636Z"
   },
   {
    "duration": 1511,
    "start_time": "2022-02-13T12:12:07.914Z"
   },
   {
    "duration": 430,
    "start_time": "2022-02-13T12:12:09.427Z"
   },
   {
    "duration": 18,
    "start_time": "2022-02-13T12:12:09.860Z"
   },
   {
    "duration": 26,
    "start_time": "2022-02-13T12:12:09.881Z"
   },
   {
    "duration": 117,
    "start_time": "2022-02-13T12:12:09.910Z"
   },
   {
    "duration": 16,
    "start_time": "2022-02-13T12:12:10.029Z"
   },
   {
    "duration": 23,
    "start_time": "2022-02-13T12:12:10.047Z"
   },
   {
    "duration": 96,
    "start_time": "2022-02-13T12:12:10.072Z"
   },
   {
    "duration": 12,
    "start_time": "2022-02-13T12:12:10.171Z"
   },
   {
    "duration": 31,
    "start_time": "2022-02-13T12:12:10.186Z"
   },
   {
    "duration": 47,
    "start_time": "2022-02-13T12:12:10.219Z"
   },
   {
    "duration": 18,
    "start_time": "2022-02-13T12:12:10.268Z"
   },
   {
    "duration": 12,
    "start_time": "2022-02-13T12:12:10.308Z"
   },
   {
    "duration": 15,
    "start_time": "2022-02-13T12:12:10.323Z"
   },
   {
    "duration": 9,
    "start_time": "2022-02-13T12:12:10.340Z"
   },
   {
    "duration": 10,
    "start_time": "2022-02-13T12:12:10.351Z"
   },
   {
    "duration": 66,
    "start_time": "2022-02-13T12:12:10.363Z"
   },
   {
    "duration": 24,
    "start_time": "2022-02-13T12:12:10.431Z"
   },
   {
    "duration": 20,
    "start_time": "2022-02-13T12:12:10.457Z"
   },
   {
    "duration": 30,
    "start_time": "2022-02-13T12:12:10.480Z"
   },
   {
    "duration": 6,
    "start_time": "2022-02-13T12:12:10.512Z"
   },
   {
    "duration": 27,
    "start_time": "2022-02-13T12:12:10.520Z"
   },
   {
    "duration": 5,
    "start_time": "2022-02-13T12:12:10.550Z"
   },
   {
    "duration": 51,
    "start_time": "2022-02-13T12:12:10.557Z"
   },
   {
    "duration": 25,
    "start_time": "2022-02-13T12:12:10.609Z"
   },
   {
    "duration": 18,
    "start_time": "2022-02-13T12:12:10.636Z"
   },
   {
    "duration": 17,
    "start_time": "2022-02-13T12:12:10.659Z"
   },
   {
    "duration": 33,
    "start_time": "2022-02-13T12:12:10.679Z"
   },
   {
    "duration": 6,
    "start_time": "2022-02-13T12:12:10.714Z"
   },
   {
    "duration": 14,
    "start_time": "2022-02-13T12:12:10.723Z"
   },
   {
    "duration": 25,
    "start_time": "2022-02-13T12:12:10.739Z"
   },
   {
    "duration": 3,
    "start_time": "2022-02-13T12:12:10.807Z"
   },
   {
    "duration": 19,
    "start_time": "2022-02-13T12:12:10.813Z"
   },
   {
    "duration": 19,
    "start_time": "2022-02-13T12:12:10.834Z"
   },
   {
    "duration": 9,
    "start_time": "2022-02-13T12:12:10.855Z"
   },
   {
    "duration": 3,
    "start_time": "2022-02-13T12:12:10.866Z"
   },
   {
    "duration": 39,
    "start_time": "2022-02-13T12:12:10.871Z"
   },
   {
    "duration": 26,
    "start_time": "2022-02-13T12:12:10.912Z"
   },
   {
    "duration": 6,
    "start_time": "2022-02-13T12:12:10.940Z"
   },
   {
    "duration": 18,
    "start_time": "2022-02-13T12:12:10.949Z"
   },
   {
    "duration": 41,
    "start_time": "2022-02-13T12:12:10.969Z"
   },
   {
    "duration": 11,
    "start_time": "2022-02-13T12:12:11.012Z"
   },
   {
    "duration": 3,
    "start_time": "2022-02-13T12:12:11.025Z"
   },
   {
    "duration": 10,
    "start_time": "2022-02-13T12:12:11.030Z"
   },
   {
    "duration": 8,
    "start_time": "2022-02-13T12:12:11.042Z"
   },
   {
    "duration": 14,
    "start_time": "2022-02-13T12:12:11.052Z"
   },
   {
    "duration": 72,
    "start_time": "2022-02-13T12:12:11.068Z"
   },
   {
    "duration": 5,
    "start_time": "2022-02-13T12:12:11.143Z"
   },
   {
    "duration": 236,
    "start_time": "2022-02-13T12:12:11.150Z"
   },
   {
    "duration": 28,
    "start_time": "2022-02-13T12:12:11.388Z"
   },
   {
    "duration": 141,
    "start_time": "2022-02-13T12:12:11.418Z"
   },
   {
    "duration": 11,
    "start_time": "2022-02-13T12:12:11.562Z"
   },
   {
    "duration": 32,
    "start_time": "2022-02-13T12:12:11.576Z"
   },
   {
    "duration": 13,
    "start_time": "2022-02-13T12:12:11.611Z"
   },
   {
    "duration": 5,
    "start_time": "2022-02-13T12:12:11.626Z"
   },
   {
    "duration": 426,
    "start_time": "2022-02-13T12:12:11.633Z"
   },
   {
    "duration": 11,
    "start_time": "2022-02-13T12:12:12.061Z"
   },
   {
    "duration": 36,
    "start_time": "2022-02-13T12:12:12.074Z"
   },
   {
    "duration": 10,
    "start_time": "2022-02-13T12:12:12.112Z"
   },
   {
    "duration": 343,
    "start_time": "2022-02-13T12:12:12.124Z"
   },
   {
    "duration": 9,
    "start_time": "2022-02-13T12:12:12.469Z"
   },
   {
    "duration": 32,
    "start_time": "2022-02-13T12:12:12.480Z"
   },
   {
    "duration": 9,
    "start_time": "2022-02-13T12:12:12.514Z"
   },
   {
    "duration": 345,
    "start_time": "2022-02-13T12:12:12.525Z"
   },
   {
    "duration": 10,
    "start_time": "2022-02-13T12:12:12.872Z"
   },
   {
    "duration": 29,
    "start_time": "2022-02-13T12:12:12.884Z"
   },
   {
    "duration": 10,
    "start_time": "2022-02-13T12:12:12.914Z"
   },
   {
    "duration": 144,
    "start_time": "2022-02-13T12:12:12.926Z"
   },
   {
    "duration": 401,
    "start_time": "2022-02-13T12:12:13.072Z"
   },
   {
    "duration": 10,
    "start_time": "2022-02-13T12:12:13.475Z"
   },
   {
    "duration": 24,
    "start_time": "2022-02-13T12:12:13.487Z"
   },
   {
    "duration": 81,
    "start_time": "2022-02-13T12:13:48.005Z"
   },
   {
    "duration": 361,
    "start_time": "2022-02-13T12:16:26.203Z"
   },
   {
    "duration": 7,
    "start_time": "2022-02-13T12:16:36.703Z"
   },
   {
    "duration": 7,
    "start_time": "2022-02-13T12:16:54.528Z"
   },
   {
    "duration": 7,
    "start_time": "2022-02-13T12:18:10.054Z"
   },
   {
    "duration": 5,
    "start_time": "2022-02-13T12:22:21.882Z"
   },
   {
    "duration": 5,
    "start_time": "2022-02-13T12:22:58.905Z"
   },
   {
    "duration": 102,
    "start_time": "2022-02-13T12:34:05.600Z"
   },
   {
    "duration": 9,
    "start_time": "2022-02-13T12:34:12.857Z"
   },
   {
    "duration": 25,
    "start_time": "2022-02-13T12:34:22.156Z"
   },
   {
    "duration": 15,
    "start_time": "2022-02-13T12:34:28.155Z"
   },
   {
    "duration": 82,
    "start_time": "2022-02-13T12:35:59.974Z"
   },
   {
    "duration": 6,
    "start_time": "2022-02-13T12:44:12.634Z"
   },
   {
    "duration": 6,
    "start_time": "2022-02-13T12:44:15.523Z"
   },
   {
    "duration": 241,
    "start_time": "2022-02-13T12:46:44.581Z"
   },
   {
    "duration": 5,
    "start_time": "2022-02-13T12:46:50.364Z"
   },
   {
    "duration": 5,
    "start_time": "2022-02-13T12:47:48.950Z"
   },
   {
    "duration": 5,
    "start_time": "2022-02-13T12:51:01.044Z"
   },
   {
    "duration": 1123,
    "start_time": "2022-02-13T12:51:47.666Z"
   },
   {
    "duration": 392,
    "start_time": "2022-02-13T12:51:48.791Z"
   },
   {
    "duration": 19,
    "start_time": "2022-02-13T12:51:49.186Z"
   },
   {
    "duration": 23,
    "start_time": "2022-02-13T12:51:49.207Z"
   },
   {
    "duration": 121,
    "start_time": "2022-02-13T12:51:49.232Z"
   },
   {
    "duration": 16,
    "start_time": "2022-02-13T12:51:49.355Z"
   },
   {
    "duration": 41,
    "start_time": "2022-02-13T12:51:49.373Z"
   },
   {
    "duration": 72,
    "start_time": "2022-02-13T12:51:49.417Z"
   },
   {
    "duration": 13,
    "start_time": "2022-02-13T12:51:49.511Z"
   },
   {
    "duration": 26,
    "start_time": "2022-02-13T12:51:49.526Z"
   },
   {
    "duration": 66,
    "start_time": "2022-02-13T12:51:49.554Z"
   },
   {
    "duration": 9,
    "start_time": "2022-02-13T12:51:49.622Z"
   },
   {
    "duration": 9,
    "start_time": "2022-02-13T12:51:49.633Z"
   },
   {
    "duration": 15,
    "start_time": "2022-02-13T12:51:49.644Z"
   },
   {
    "duration": 10,
    "start_time": "2022-02-13T12:51:49.661Z"
   },
   {
    "duration": 49,
    "start_time": "2022-02-13T12:51:49.673Z"
   },
   {
    "duration": 31,
    "start_time": "2022-02-13T12:51:49.724Z"
   },
   {
    "duration": 24,
    "start_time": "2022-02-13T12:51:49.756Z"
   },
   {
    "duration": 36,
    "start_time": "2022-02-13T12:51:49.782Z"
   },
   {
    "duration": 5,
    "start_time": "2022-02-13T12:51:49.821Z"
   },
   {
    "duration": 8,
    "start_time": "2022-02-13T12:51:49.829Z"
   },
   {
    "duration": 29,
    "start_time": "2022-02-13T12:51:49.839Z"
   },
   {
    "duration": 39,
    "start_time": "2022-02-13T12:51:49.870Z"
   },
   {
    "duration": 16,
    "start_time": "2022-02-13T12:51:49.912Z"
   },
   {
    "duration": 25,
    "start_time": "2022-02-13T12:51:49.930Z"
   },
   {
    "duration": 57,
    "start_time": "2022-02-13T12:51:49.957Z"
   },
   {
    "duration": 17,
    "start_time": "2022-02-13T12:51:50.021Z"
   },
   {
    "duration": 8,
    "start_time": "2022-02-13T12:51:50.041Z"
   },
   {
    "duration": 13,
    "start_time": "2022-02-13T12:51:50.051Z"
   },
   {
    "duration": 45,
    "start_time": "2022-02-13T12:51:50.066Z"
   },
   {
    "duration": 27,
    "start_time": "2022-02-13T12:51:50.113Z"
   },
   {
    "duration": 3,
    "start_time": "2022-02-13T12:51:50.142Z"
   },
   {
    "duration": 23,
    "start_time": "2022-02-13T12:51:50.147Z"
   },
   {
    "duration": 50,
    "start_time": "2022-02-13T12:51:50.172Z"
   },
   {
    "duration": 10,
    "start_time": "2022-02-13T12:51:50.224Z"
   },
   {
    "duration": 4,
    "start_time": "2022-02-13T12:51:50.236Z"
   },
   {
    "duration": 8,
    "start_time": "2022-02-13T12:51:50.243Z"
   },
   {
    "duration": 26,
    "start_time": "2022-02-13T12:51:50.253Z"
   },
   {
    "duration": 31,
    "start_time": "2022-02-13T12:51:50.281Z"
   },
   {
    "duration": 22,
    "start_time": "2022-02-13T12:51:50.314Z"
   },
   {
    "duration": 13,
    "start_time": "2022-02-13T12:51:50.337Z"
   },
   {
    "duration": 9,
    "start_time": "2022-02-13T12:51:50.352Z"
   },
   {
    "duration": 7,
    "start_time": "2022-02-13T12:51:50.363Z"
   },
   {
    "duration": 4,
    "start_time": "2022-02-13T12:51:50.408Z"
   },
   {
    "duration": 8,
    "start_time": "2022-02-13T12:51:50.414Z"
   },
   {
    "duration": 14,
    "start_time": "2022-02-13T12:51:50.424Z"
   },
   {
    "duration": 40,
    "start_time": "2022-02-13T12:51:50.440Z"
   },
   {
    "duration": 26,
    "start_time": "2022-02-13T12:51:50.482Z"
   },
   {
    "duration": 228,
    "start_time": "2022-02-13T12:51:50.511Z"
   },
   {
    "duration": 18,
    "start_time": "2022-02-13T12:51:50.741Z"
   },
   {
    "duration": 136,
    "start_time": "2022-02-13T12:51:50.761Z"
   },
   {
    "duration": 15,
    "start_time": "2022-02-13T12:51:50.899Z"
   },
   {
    "duration": 33,
    "start_time": "2022-02-13T12:51:50.916Z"
   },
   {
    "duration": 10,
    "start_time": "2022-02-13T12:51:50.951Z"
   },
   {
    "duration": 6,
    "start_time": "2022-02-13T12:51:50.963Z"
   },
   {
    "duration": 526,
    "start_time": "2022-02-13T12:51:50.970Z"
   },
   {
    "duration": 19,
    "start_time": "2022-02-13T12:51:51.499Z"
   },
   {
    "duration": 28,
    "start_time": "2022-02-13T12:51:51.520Z"
   },
   {
    "duration": 19,
    "start_time": "2022-02-13T12:51:51.550Z"
   },
   {
    "duration": 360,
    "start_time": "2022-02-13T12:51:51.571Z"
   },
   {
    "duration": 10,
    "start_time": "2022-02-13T12:51:51.933Z"
   },
   {
    "duration": 12,
    "start_time": "2022-02-13T12:51:51.945Z"
   },
   {
    "duration": 10,
    "start_time": "2022-02-13T12:51:51.960Z"
   },
   {
    "duration": 360,
    "start_time": "2022-02-13T12:51:51.972Z"
   },
   {
    "duration": 12,
    "start_time": "2022-02-13T12:51:52.335Z"
   },
   {
    "duration": 13,
    "start_time": "2022-02-13T12:51:52.349Z"
   },
   {
    "duration": 48,
    "start_time": "2022-02-13T12:51:52.364Z"
   },
   {
    "duration": 154,
    "start_time": "2022-02-13T12:51:52.414Z"
   },
   {
    "duration": 381,
    "start_time": "2022-02-13T12:51:52.570Z"
   },
   {
    "duration": 10,
    "start_time": "2022-02-13T12:51:52.953Z"
   },
   {
    "duration": 501,
    "start_time": "2022-02-13T12:51:52.965Z"
   },
   {
    "duration": -435,
    "start_time": "2022-02-13T12:51:53.903Z"
   },
   {
    "duration": -436,
    "start_time": "2022-02-13T12:51:53.905Z"
   },
   {
    "duration": -437,
    "start_time": "2022-02-13T12:51:53.907Z"
   },
   {
    "duration": -437,
    "start_time": "2022-02-13T12:51:53.909Z"
   },
   {
    "duration": -439,
    "start_time": "2022-02-13T12:51:53.912Z"
   },
   {
    "duration": 5,
    "start_time": "2022-02-13T12:52:27.676Z"
   },
   {
    "duration": 1217,
    "start_time": "2022-02-13T12:52:45.377Z"
   },
   {
    "duration": 425,
    "start_time": "2022-02-13T12:52:46.596Z"
   },
   {
    "duration": 22,
    "start_time": "2022-02-13T12:52:47.024Z"
   },
   {
    "duration": 66,
    "start_time": "2022-02-13T12:52:47.049Z"
   },
   {
    "duration": 136,
    "start_time": "2022-02-13T12:52:47.118Z"
   },
   {
    "duration": 15,
    "start_time": "2022-02-13T12:52:47.256Z"
   },
   {
    "duration": 61,
    "start_time": "2022-02-13T12:52:47.273Z"
   },
   {
    "duration": 83,
    "start_time": "2022-02-13T12:52:47.337Z"
   },
   {
    "duration": 12,
    "start_time": "2022-02-13T12:52:47.423Z"
   },
   {
    "duration": 39,
    "start_time": "2022-02-13T12:52:47.436Z"
   },
   {
    "duration": 73,
    "start_time": "2022-02-13T12:52:47.477Z"
   },
   {
    "duration": 8,
    "start_time": "2022-02-13T12:52:47.553Z"
   },
   {
    "duration": 12,
    "start_time": "2022-02-13T12:52:47.563Z"
   },
   {
    "duration": 36,
    "start_time": "2022-02-13T12:52:47.577Z"
   },
   {
    "duration": 13,
    "start_time": "2022-02-13T12:52:47.615Z"
   },
   {
    "duration": 10,
    "start_time": "2022-02-13T12:52:47.630Z"
   },
   {
    "duration": 31,
    "start_time": "2022-02-13T12:52:47.642Z"
   },
   {
    "duration": 46,
    "start_time": "2022-02-13T12:52:47.676Z"
   },
   {
    "duration": 19,
    "start_time": "2022-02-13T12:52:47.725Z"
   },
   {
    "duration": 5,
    "start_time": "2022-02-13T12:52:47.746Z"
   },
   {
    "duration": 10,
    "start_time": "2022-02-13T12:52:47.753Z"
   },
   {
    "duration": 55,
    "start_time": "2022-02-13T12:52:47.765Z"
   },
   {
    "duration": 5,
    "start_time": "2022-02-13T12:52:47.824Z"
   },
   {
    "duration": 15,
    "start_time": "2022-02-13T12:52:47.832Z"
   },
   {
    "duration": 24,
    "start_time": "2022-02-13T12:52:47.849Z"
   },
   {
    "duration": 47,
    "start_time": "2022-02-13T12:52:47.875Z"
   },
   {
    "duration": 16,
    "start_time": "2022-02-13T12:52:47.924Z"
   },
   {
    "duration": 21,
    "start_time": "2022-02-13T12:52:47.942Z"
   },
   {
    "duration": 25,
    "start_time": "2022-02-13T12:52:47.965Z"
   },
   {
    "duration": 30,
    "start_time": "2022-02-13T12:52:47.992Z"
   },
   {
    "duration": 40,
    "start_time": "2022-02-13T12:52:48.024Z"
   },
   {
    "duration": 3,
    "start_time": "2022-02-13T12:52:48.066Z"
   },
   {
    "duration": 35,
    "start_time": "2022-02-13T12:52:48.071Z"
   },
   {
    "duration": 34,
    "start_time": "2022-02-13T12:52:48.108Z"
   },
   {
    "duration": 10,
    "start_time": "2022-02-13T12:52:48.144Z"
   },
   {
    "duration": 14,
    "start_time": "2022-02-13T12:52:48.156Z"
   },
   {
    "duration": 21,
    "start_time": "2022-02-13T12:52:48.172Z"
   },
   {
    "duration": 41,
    "start_time": "2022-02-13T12:52:48.195Z"
   },
   {
    "duration": 6,
    "start_time": "2022-02-13T12:52:48.238Z"
   },
   {
    "duration": 33,
    "start_time": "2022-02-13T12:52:48.246Z"
   },
   {
    "duration": 27,
    "start_time": "2022-02-13T12:52:48.282Z"
   },
   {
    "duration": 22,
    "start_time": "2022-02-13T12:52:48.311Z"
   },
   {
    "duration": 24,
    "start_time": "2022-02-13T12:52:48.335Z"
   },
   {
    "duration": 22,
    "start_time": "2022-02-13T12:52:48.361Z"
   },
   {
    "duration": 30,
    "start_time": "2022-02-13T12:52:48.385Z"
   },
   {
    "duration": 29,
    "start_time": "2022-02-13T12:52:48.417Z"
   },
   {
    "duration": 53,
    "start_time": "2022-02-13T12:52:48.448Z"
   },
   {
    "duration": 4,
    "start_time": "2022-02-13T12:52:48.503Z"
   },
   {
    "duration": 233,
    "start_time": "2022-02-13T12:52:48.509Z"
   },
   {
    "duration": 19,
    "start_time": "2022-02-13T12:52:48.744Z"
   },
   {
    "duration": 132,
    "start_time": "2022-02-13T12:52:48.765Z"
   },
   {
    "duration": 14,
    "start_time": "2022-02-13T12:52:48.899Z"
   },
   {
    "duration": 30,
    "start_time": "2022-02-13T12:52:48.915Z"
   },
   {
    "duration": 25,
    "start_time": "2022-02-13T12:52:48.948Z"
   },
   {
    "duration": 21,
    "start_time": "2022-02-13T12:52:48.975Z"
   },
   {
    "duration": 415,
    "start_time": "2022-02-13T12:52:48.998Z"
   },
   {
    "duration": 11,
    "start_time": "2022-02-13T12:52:49.415Z"
   },
   {
    "duration": 23,
    "start_time": "2022-02-13T12:52:49.428Z"
   },
   {
    "duration": 13,
    "start_time": "2022-02-13T12:52:49.453Z"
   },
   {
    "duration": 357,
    "start_time": "2022-02-13T12:52:49.468Z"
   },
   {
    "duration": 10,
    "start_time": "2022-02-13T12:52:49.827Z"
   },
   {
    "duration": 15,
    "start_time": "2022-02-13T12:52:49.839Z"
   },
   {
    "duration": 13,
    "start_time": "2022-02-13T12:52:49.856Z"
   },
   {
    "duration": 373,
    "start_time": "2022-02-13T12:52:49.871Z"
   },
   {
    "duration": 10,
    "start_time": "2022-02-13T12:52:50.246Z"
   },
   {
    "duration": 10,
    "start_time": "2022-02-13T12:52:50.258Z"
   },
   {
    "duration": 44,
    "start_time": "2022-02-13T12:52:50.270Z"
   },
   {
    "duration": 137,
    "start_time": "2022-02-13T12:52:50.320Z"
   },
   {
    "duration": 398,
    "start_time": "2022-02-13T12:52:50.459Z"
   },
   {
    "duration": 10,
    "start_time": "2022-02-13T12:52:50.859Z"
   },
   {
    "duration": 7,
    "start_time": "2022-02-13T12:52:50.871Z"
   },
   {
    "duration": 29,
    "start_time": "2022-02-13T12:52:50.880Z"
   },
   {
    "duration": 12,
    "start_time": "2022-02-13T12:52:50.911Z"
   },
   {
    "duration": 6,
    "start_time": "2022-02-13T12:52:50.925Z"
   },
   {
    "duration": 93,
    "start_time": "2022-02-13T12:52:50.934Z"
   },
   {
    "duration": -433,
    "start_time": "2022-02-13T12:52:51.462Z"
   },
   {
    "duration": 8,
    "start_time": "2022-02-13T12:53:32.127Z"
   },
   {
    "duration": 92,
    "start_time": "2022-02-13T13:00:49.382Z"
   },
   {
    "duration": 1341,
    "start_time": "2022-02-13T14:38:46.123Z"
   },
   {
    "duration": 424,
    "start_time": "2022-02-13T14:38:47.466Z"
   },
   {
    "duration": 20,
    "start_time": "2022-02-13T14:38:47.892Z"
   },
   {
    "duration": 28,
    "start_time": "2022-02-13T14:38:47.914Z"
   },
   {
    "duration": 126,
    "start_time": "2022-02-13T14:38:47.944Z"
   },
   {
    "duration": 15,
    "start_time": "2022-02-13T14:38:48.072Z"
   },
   {
    "duration": 32,
    "start_time": "2022-02-13T14:38:48.089Z"
   },
   {
    "duration": 90,
    "start_time": "2022-02-13T14:38:48.124Z"
   },
   {
    "duration": 12,
    "start_time": "2022-02-13T14:38:48.217Z"
   },
   {
    "duration": 22,
    "start_time": "2022-02-13T14:38:48.231Z"
   },
   {
    "duration": 70,
    "start_time": "2022-02-13T14:38:48.255Z"
   },
   {
    "duration": 9,
    "start_time": "2022-02-13T14:38:48.327Z"
   },
   {
    "duration": 12,
    "start_time": "2022-02-13T14:38:48.339Z"
   },
   {
    "duration": 20,
    "start_time": "2022-02-13T14:38:48.353Z"
   },
   {
    "duration": 40,
    "start_time": "2022-02-13T14:38:48.375Z"
   },
   {
    "duration": 12,
    "start_time": "2022-02-13T14:38:48.418Z"
   },
   {
    "duration": 41,
    "start_time": "2022-02-13T14:38:48.432Z"
   },
   {
    "duration": 41,
    "start_time": "2022-02-13T14:38:48.475Z"
   },
   {
    "duration": 20,
    "start_time": "2022-02-13T14:38:48.518Z"
   },
   {
    "duration": 5,
    "start_time": "2022-02-13T14:38:48.540Z"
   },
   {
    "duration": 10,
    "start_time": "2022-02-13T14:38:48.547Z"
   },
   {
    "duration": 51,
    "start_time": "2022-02-13T14:38:48.560Z"
   },
   {
    "duration": 5,
    "start_time": "2022-02-13T14:38:48.616Z"
   },
   {
    "duration": 18,
    "start_time": "2022-02-13T14:38:48.624Z"
   },
   {
    "duration": 26,
    "start_time": "2022-02-13T14:38:48.645Z"
   },
   {
    "duration": 45,
    "start_time": "2022-02-13T14:38:48.673Z"
   },
   {
    "duration": 17,
    "start_time": "2022-02-13T14:38:48.720Z"
   },
   {
    "duration": 8,
    "start_time": "2022-02-13T14:38:48.739Z"
   },
   {
    "duration": 11,
    "start_time": "2022-02-13T14:38:48.750Z"
   },
   {
    "duration": 13,
    "start_time": "2022-02-13T14:38:48.764Z"
   },
   {
    "duration": 50,
    "start_time": "2022-02-13T14:38:48.779Z"
   },
   {
    "duration": 3,
    "start_time": "2022-02-13T14:38:48.831Z"
   },
   {
    "duration": 21,
    "start_time": "2022-02-13T14:38:48.836Z"
   },
   {
    "duration": 20,
    "start_time": "2022-02-13T14:38:48.860Z"
   },
   {
    "duration": 33,
    "start_time": "2022-02-13T14:38:48.882Z"
   },
   {
    "duration": 5,
    "start_time": "2022-02-13T14:38:48.917Z"
   },
   {
    "duration": 15,
    "start_time": "2022-02-13T14:38:48.924Z"
   },
   {
    "duration": 28,
    "start_time": "2022-02-13T14:38:48.941Z"
   },
   {
    "duration": 6,
    "start_time": "2022-02-13T14:38:48.972Z"
   },
   {
    "duration": 39,
    "start_time": "2022-02-13T14:38:48.980Z"
   },
   {
    "duration": 16,
    "start_time": "2022-02-13T14:38:49.021Z"
   },
   {
    "duration": 12,
    "start_time": "2022-02-13T14:38:49.039Z"
   },
   {
    "duration": 7,
    "start_time": "2022-02-13T14:38:49.053Z"
   },
   {
    "duration": 9,
    "start_time": "2022-02-13T14:38:49.062Z"
   },
   {
    "duration": 9,
    "start_time": "2022-02-13T14:38:49.073Z"
   },
   {
    "duration": 9,
    "start_time": "2022-02-13T14:38:49.107Z"
   },
   {
    "duration": 41,
    "start_time": "2022-02-13T14:38:49.118Z"
   },
   {
    "duration": 5,
    "start_time": "2022-02-13T14:38:49.161Z"
   },
   {
    "duration": 259,
    "start_time": "2022-02-13T14:38:49.168Z"
   },
   {
    "duration": 19,
    "start_time": "2022-02-13T14:38:49.428Z"
   },
   {
    "duration": 141,
    "start_time": "2022-02-13T14:38:49.450Z"
   },
   {
    "duration": 17,
    "start_time": "2022-02-13T14:38:49.593Z"
   },
   {
    "duration": 10,
    "start_time": "2022-02-13T14:38:49.613Z"
   },
   {
    "duration": 18,
    "start_time": "2022-02-13T14:38:49.625Z"
   },
   {
    "duration": 9,
    "start_time": "2022-02-13T14:38:49.645Z"
   },
   {
    "duration": 421,
    "start_time": "2022-02-13T14:38:49.656Z"
   },
   {
    "duration": 11,
    "start_time": "2022-02-13T14:38:50.079Z"
   },
   {
    "duration": 12,
    "start_time": "2022-02-13T14:38:50.108Z"
   },
   {
    "duration": 11,
    "start_time": "2022-02-13T14:38:50.123Z"
   },
   {
    "duration": 373,
    "start_time": "2022-02-13T14:38:50.137Z"
   },
   {
    "duration": 11,
    "start_time": "2022-02-13T14:38:50.512Z"
   },
   {
    "duration": 17,
    "start_time": "2022-02-13T14:38:50.526Z"
   },
   {
    "duration": 11,
    "start_time": "2022-02-13T14:38:50.545Z"
   },
   {
    "duration": 379,
    "start_time": "2022-02-13T14:38:50.558Z"
   },
   {
    "duration": 11,
    "start_time": "2022-02-13T14:38:50.940Z"
   },
   {
    "duration": 13,
    "start_time": "2022-02-13T14:38:50.953Z"
   },
   {
    "duration": 41,
    "start_time": "2022-02-13T14:38:50.969Z"
   },
   {
    "duration": 156,
    "start_time": "2022-02-13T14:38:51.017Z"
   },
   {
    "duration": 423,
    "start_time": "2022-02-13T14:38:51.175Z"
   },
   {
    "duration": 14,
    "start_time": "2022-02-13T14:38:51.601Z"
   },
   {
    "duration": 16,
    "start_time": "2022-02-13T14:38:51.618Z"
   },
   {
    "duration": 10,
    "start_time": "2022-02-13T14:38:51.637Z"
   },
   {
    "duration": 10,
    "start_time": "2022-02-13T14:38:51.650Z"
   },
   {
    "duration": 16,
    "start_time": "2022-02-13T14:38:51.662Z"
   },
   {
    "duration": 30,
    "start_time": "2022-02-13T14:38:51.680Z"
   },
   {
    "duration": 351,
    "start_time": "2022-02-13T14:50:01.025Z"
   },
   {
    "duration": 120,
    "start_time": "2022-02-13T14:50:15.200Z"
   },
   {
    "duration": 8,
    "start_time": "2022-02-13T14:51:46.973Z"
   },
   {
    "duration": 403,
    "start_time": "2022-02-13T14:51:47.626Z"
   },
   {
    "duration": 259,
    "start_time": "2022-02-13T14:54:04.067Z"
   },
   {
    "duration": 7,
    "start_time": "2022-02-13T14:54:11.893Z"
   },
   {
    "duration": 6,
    "start_time": "2022-02-13T14:54:16.157Z"
   },
   {
    "duration": 7,
    "start_time": "2022-02-13T14:54:21.487Z"
   },
   {
    "duration": 7,
    "start_time": "2022-02-13T14:54:24.615Z"
   },
   {
    "duration": 7,
    "start_time": "2022-02-13T14:54:29.225Z"
   },
   {
    "duration": 6,
    "start_time": "2022-02-13T14:56:18.995Z"
   },
   {
    "duration": 1168,
    "start_time": "2022-02-13T14:57:12.108Z"
   },
   {
    "duration": 407,
    "start_time": "2022-02-13T14:57:13.278Z"
   },
   {
    "duration": 22,
    "start_time": "2022-02-13T14:57:13.687Z"
   },
   {
    "duration": 39,
    "start_time": "2022-02-13T14:57:13.712Z"
   },
   {
    "duration": 132,
    "start_time": "2022-02-13T14:57:13.754Z"
   },
   {
    "duration": 21,
    "start_time": "2022-02-13T14:57:13.888Z"
   },
   {
    "duration": 20,
    "start_time": "2022-02-13T14:57:13.911Z"
   },
   {
    "duration": 126,
    "start_time": "2022-02-13T14:57:13.933Z"
   },
   {
    "duration": 18,
    "start_time": "2022-02-13T14:57:14.064Z"
   },
   {
    "duration": 39,
    "start_time": "2022-02-13T14:57:14.085Z"
   },
   {
    "duration": 50,
    "start_time": "2022-02-13T14:57:14.128Z"
   },
   {
    "duration": 35,
    "start_time": "2022-02-13T14:57:14.181Z"
   },
   {
    "duration": 10,
    "start_time": "2022-02-13T14:57:14.218Z"
   },
   {
    "duration": 15,
    "start_time": "2022-02-13T14:57:14.231Z"
   },
   {
    "duration": 16,
    "start_time": "2022-02-13T14:57:14.249Z"
   },
   {
    "duration": 18,
    "start_time": "2022-02-13T14:57:14.268Z"
   },
   {
    "duration": 47,
    "start_time": "2022-02-13T14:57:14.307Z"
   },
   {
    "duration": 52,
    "start_time": "2022-02-13T14:57:14.357Z"
   },
   {
    "duration": 30,
    "start_time": "2022-02-13T14:57:14.411Z"
   },
   {
    "duration": 7,
    "start_time": "2022-02-13T14:57:14.444Z"
   },
   {
    "duration": 11,
    "start_time": "2022-02-13T14:57:14.453Z"
   },
   {
    "duration": 50,
    "start_time": "2022-02-13T14:57:14.466Z"
   },
   {
    "duration": 7,
    "start_time": "2022-02-13T14:57:14.519Z"
   },
   {
    "duration": 15,
    "start_time": "2022-02-13T14:57:14.528Z"
   },
   {
    "duration": 26,
    "start_time": "2022-02-13T14:57:14.545Z"
   },
   {
    "duration": 44,
    "start_time": "2022-02-13T14:57:14.573Z"
   },
   {
    "duration": 17,
    "start_time": "2022-02-13T14:57:14.623Z"
   },
   {
    "duration": 6,
    "start_time": "2022-02-13T14:57:14.644Z"
   },
   {
    "duration": 12,
    "start_time": "2022-02-13T14:57:14.652Z"
   },
   {
    "duration": 42,
    "start_time": "2022-02-13T14:57:14.666Z"
   },
   {
    "duration": 24,
    "start_time": "2022-02-13T14:57:14.710Z"
   },
   {
    "duration": 3,
    "start_time": "2022-02-13T14:57:14.736Z"
   },
   {
    "duration": 18,
    "start_time": "2022-02-13T14:57:14.742Z"
   },
   {
    "duration": 24,
    "start_time": "2022-02-13T14:57:14.762Z"
   },
   {
    "duration": 370,
    "start_time": "2022-02-13T14:57:14.808Z"
   },
   {
    "duration": -1149,
    "start_time": "2022-02-13T14:57:16.329Z"
   },
   {
    "duration": -1151,
    "start_time": "2022-02-13T14:57:16.332Z"
   },
   {
    "duration": -1152,
    "start_time": "2022-02-13T14:57:16.334Z"
   },
   {
    "duration": -1153,
    "start_time": "2022-02-13T14:57:16.337Z"
   },
   {
    "duration": -1154,
    "start_time": "2022-02-13T14:57:16.339Z"
   },
   {
    "duration": -1156,
    "start_time": "2022-02-13T14:57:16.342Z"
   },
   {
    "duration": -1158,
    "start_time": "2022-02-13T14:57:16.344Z"
   },
   {
    "duration": -1158,
    "start_time": "2022-02-13T14:57:16.345Z"
   },
   {
    "duration": -1159,
    "start_time": "2022-02-13T14:57:16.347Z"
   },
   {
    "duration": -1161,
    "start_time": "2022-02-13T14:57:16.349Z"
   },
   {
    "duration": -1162,
    "start_time": "2022-02-13T14:57:16.351Z"
   },
   {
    "duration": -1163,
    "start_time": "2022-02-13T14:57:16.353Z"
   },
   {
    "duration": -1164,
    "start_time": "2022-02-13T14:57:16.355Z"
   },
   {
    "duration": -1165,
    "start_time": "2022-02-13T14:57:16.357Z"
   },
   {
    "duration": -1172,
    "start_time": "2022-02-13T14:57:16.364Z"
   },
   {
    "duration": -1174,
    "start_time": "2022-02-13T14:57:16.367Z"
   },
   {
    "duration": -1176,
    "start_time": "2022-02-13T14:57:16.370Z"
   },
   {
    "duration": -1179,
    "start_time": "2022-02-13T14:57:16.373Z"
   },
   {
    "duration": -1179,
    "start_time": "2022-02-13T14:57:16.374Z"
   },
   {
    "duration": -1181,
    "start_time": "2022-02-13T14:57:16.377Z"
   },
   {
    "duration": -1183,
    "start_time": "2022-02-13T14:57:16.379Z"
   },
   {
    "duration": -1183,
    "start_time": "2022-02-13T14:57:16.381Z"
   },
   {
    "duration": -1185,
    "start_time": "2022-02-13T14:57:16.384Z"
   },
   {
    "duration": -1186,
    "start_time": "2022-02-13T14:57:16.386Z"
   },
   {
    "duration": -1187,
    "start_time": "2022-02-13T14:57:16.388Z"
   },
   {
    "duration": -1188,
    "start_time": "2022-02-13T14:57:16.390Z"
   },
   {
    "duration": -1189,
    "start_time": "2022-02-13T14:57:16.392Z"
   },
   {
    "duration": -1191,
    "start_time": "2022-02-13T14:57:16.395Z"
   },
   {
    "duration": -1196,
    "start_time": "2022-02-13T14:57:16.401Z"
   },
   {
    "duration": -1198,
    "start_time": "2022-02-13T14:57:16.404Z"
   },
   {
    "duration": -1198,
    "start_time": "2022-02-13T14:57:16.406Z"
   },
   {
    "duration": -1199,
    "start_time": "2022-02-13T14:57:16.408Z"
   },
   {
    "duration": -1197,
    "start_time": "2022-02-13T14:57:16.410Z"
   },
   {
    "duration": -1198,
    "start_time": "2022-02-13T14:57:16.413Z"
   },
   {
    "duration": -1199,
    "start_time": "2022-02-13T14:57:16.415Z"
   },
   {
    "duration": -1199,
    "start_time": "2022-02-13T14:57:16.417Z"
   },
   {
    "duration": -1200,
    "start_time": "2022-02-13T14:57:16.419Z"
   },
   {
    "duration": -1202,
    "start_time": "2022-02-13T14:57:16.422Z"
   },
   {
    "duration": -1202,
    "start_time": "2022-02-13T14:57:16.424Z"
   },
   {
    "duration": -1203,
    "start_time": "2022-02-13T14:57:16.426Z"
   },
   {
    "duration": -1208,
    "start_time": "2022-02-13T14:57:16.432Z"
   },
   {
    "duration": 1147,
    "start_time": "2022-02-13T14:59:50.558Z"
   },
   {
    "duration": 423,
    "start_time": "2022-02-13T14:59:51.707Z"
   },
   {
    "duration": 19,
    "start_time": "2022-02-13T14:59:52.133Z"
   },
   {
    "duration": 23,
    "start_time": "2022-02-13T14:59:52.154Z"
   },
   {
    "duration": 122,
    "start_time": "2022-02-13T14:59:52.179Z"
   },
   {
    "duration": 15,
    "start_time": "2022-02-13T14:59:52.307Z"
   },
   {
    "duration": 28,
    "start_time": "2022-02-13T14:59:52.324Z"
   },
   {
    "duration": 94,
    "start_time": "2022-02-13T14:59:52.355Z"
   },
   {
    "duration": 12,
    "start_time": "2022-02-13T14:59:52.452Z"
   },
   {
    "duration": 20,
    "start_time": "2022-02-13T14:59:52.466Z"
   },
   {
    "duration": 52,
    "start_time": "2022-02-13T14:59:52.508Z"
   },
   {
    "duration": 11,
    "start_time": "2022-02-13T14:59:52.562Z"
   },
   {
    "duration": 34,
    "start_time": "2022-02-13T14:59:52.575Z"
   },
   {
    "duration": 16,
    "start_time": "2022-02-13T14:59:52.611Z"
   },
   {
    "duration": 13,
    "start_time": "2022-02-13T14:59:52.629Z"
   },
   {
    "duration": 11,
    "start_time": "2022-02-13T14:59:52.646Z"
   },
   {
    "duration": 55,
    "start_time": "2022-02-13T14:59:52.659Z"
   },
   {
    "duration": 24,
    "start_time": "2022-02-13T14:59:52.717Z"
   },
   {
    "duration": 21,
    "start_time": "2022-02-13T14:59:52.743Z"
   },
   {
    "duration": 5,
    "start_time": "2022-02-13T14:59:52.766Z"
   },
   {
    "duration": 35,
    "start_time": "2022-02-13T14:59:52.773Z"
   },
   {
    "duration": 31,
    "start_time": "2022-02-13T14:59:52.810Z"
   },
   {
    "duration": 7,
    "start_time": "2022-02-13T14:59:52.847Z"
   },
   {
    "duration": 20,
    "start_time": "2022-02-13T14:59:52.857Z"
   },
   {
    "duration": 42,
    "start_time": "2022-02-13T14:59:52.879Z"
   },
   {
    "duration": 20,
    "start_time": "2022-02-13T14:59:52.923Z"
   },
   {
    "duration": 18,
    "start_time": "2022-02-13T14:59:52.945Z"
   },
   {
    "duration": 6,
    "start_time": "2022-02-13T14:59:52.965Z"
   },
   {
    "duration": 38,
    "start_time": "2022-02-13T14:59:52.973Z"
   },
   {
    "duration": 16,
    "start_time": "2022-02-13T14:59:53.013Z"
   },
   {
    "duration": 28,
    "start_time": "2022-02-13T14:59:53.031Z"
   },
   {
    "duration": 3,
    "start_time": "2022-02-13T14:59:53.060Z"
   },
   {
    "duration": 42,
    "start_time": "2022-02-13T14:59:53.065Z"
   },
   {
    "duration": 21,
    "start_time": "2022-02-13T14:59:53.109Z"
   },
   {
    "duration": 361,
    "start_time": "2022-02-13T14:59:53.132Z"
   },
   {
    "duration": -1159,
    "start_time": "2022-02-13T14:59:54.655Z"
   },
   {
    "duration": -1160,
    "start_time": "2022-02-13T14:59:54.657Z"
   },
   {
    "duration": -1162,
    "start_time": "2022-02-13T14:59:54.660Z"
   },
   {
    "duration": -1163,
    "start_time": "2022-02-13T14:59:54.662Z"
   },
   {
    "duration": -1169,
    "start_time": "2022-02-13T14:59:54.669Z"
   },
   {
    "duration": -1170,
    "start_time": "2022-02-13T14:59:54.671Z"
   },
   {
    "duration": -1171,
    "start_time": "2022-02-13T14:59:54.674Z"
   },
   {
    "duration": -1172,
    "start_time": "2022-02-13T14:59:54.676Z"
   },
   {
    "duration": -1173,
    "start_time": "2022-02-13T14:59:54.678Z"
   },
   {
    "duration": -1175,
    "start_time": "2022-02-13T14:59:54.681Z"
   },
   {
    "duration": -1176,
    "start_time": "2022-02-13T14:59:54.683Z"
   },
   {
    "duration": -1183,
    "start_time": "2022-02-13T14:59:54.691Z"
   },
   {
    "duration": -1185,
    "start_time": "2022-02-13T14:59:54.694Z"
   },
   {
    "duration": -1186,
    "start_time": "2022-02-13T14:59:54.696Z"
   },
   {
    "duration": -1187,
    "start_time": "2022-02-13T14:59:54.698Z"
   },
   {
    "duration": -1189,
    "start_time": "2022-02-13T14:59:54.701Z"
   },
   {
    "duration": -1190,
    "start_time": "2022-02-13T14:59:54.703Z"
   },
   {
    "duration": -1191,
    "start_time": "2022-02-13T14:59:54.705Z"
   },
   {
    "duration": -1192,
    "start_time": "2022-02-13T14:59:54.707Z"
   },
   {
    "duration": -1193,
    "start_time": "2022-02-13T14:59:54.709Z"
   },
   {
    "duration": -1194,
    "start_time": "2022-02-13T14:59:54.711Z"
   },
   {
    "duration": -1195,
    "start_time": "2022-02-13T14:59:54.713Z"
   },
   {
    "duration": -1197,
    "start_time": "2022-02-13T14:59:54.716Z"
   },
   {
    "duration": -1197,
    "start_time": "2022-02-13T14:59:54.718Z"
   },
   {
    "duration": -1198,
    "start_time": "2022-02-13T14:59:54.720Z"
   },
   {
    "duration": -1199,
    "start_time": "2022-02-13T14:59:54.722Z"
   },
   {
    "duration": -1201,
    "start_time": "2022-02-13T14:59:54.725Z"
   },
   {
    "duration": -1202,
    "start_time": "2022-02-13T14:59:54.727Z"
   },
   {
    "duration": -1204,
    "start_time": "2022-02-13T14:59:54.730Z"
   },
   {
    "duration": -1205,
    "start_time": "2022-02-13T14:59:54.732Z"
   },
   {
    "duration": -1206,
    "start_time": "2022-02-13T14:59:54.734Z"
   },
   {
    "duration": -1207,
    "start_time": "2022-02-13T14:59:54.736Z"
   },
   {
    "duration": -1209,
    "start_time": "2022-02-13T14:59:54.739Z"
   },
   {
    "duration": -1218,
    "start_time": "2022-02-13T14:59:54.749Z"
   },
   {
    "duration": -1221,
    "start_time": "2022-02-13T14:59:54.753Z"
   },
   {
    "duration": -1222,
    "start_time": "2022-02-13T14:59:54.755Z"
   },
   {
    "duration": -1228,
    "start_time": "2022-02-13T14:59:54.762Z"
   },
   {
    "duration": -1229,
    "start_time": "2022-02-13T14:59:54.765Z"
   },
   {
    "duration": -1231,
    "start_time": "2022-02-13T14:59:54.768Z"
   },
   {
    "duration": -1234,
    "start_time": "2022-02-13T14:59:54.772Z"
   },
   {
    "duration": -1238,
    "start_time": "2022-02-13T14:59:54.777Z"
   },
   {
    "duration": 1281,
    "start_time": "2022-02-13T15:00:20.446Z"
   },
   {
    "duration": 481,
    "start_time": "2022-02-13T15:00:21.729Z"
   },
   {
    "duration": 28,
    "start_time": "2022-02-13T15:00:22.213Z"
   },
   {
    "duration": 27,
    "start_time": "2022-02-13T15:00:22.244Z"
   },
   {
    "duration": 142,
    "start_time": "2022-02-13T15:00:22.273Z"
   },
   {
    "duration": 15,
    "start_time": "2022-02-13T15:00:22.417Z"
   },
   {
    "duration": 33,
    "start_time": "2022-02-13T15:00:22.434Z"
   },
   {
    "duration": 108,
    "start_time": "2022-02-13T15:00:22.470Z"
   },
   {
    "duration": 24,
    "start_time": "2022-02-13T15:00:22.583Z"
   },
   {
    "duration": 30,
    "start_time": "2022-02-13T15:00:22.611Z"
   },
   {
    "duration": 62,
    "start_time": "2022-02-13T15:00:22.643Z"
   },
   {
    "duration": 10,
    "start_time": "2022-02-13T15:00:22.707Z"
   },
   {
    "duration": 35,
    "start_time": "2022-02-13T15:00:22.718Z"
   },
   {
    "duration": 44,
    "start_time": "2022-02-13T15:00:22.756Z"
   },
   {
    "duration": 14,
    "start_time": "2022-02-13T15:00:22.803Z"
   },
   {
    "duration": 34,
    "start_time": "2022-02-13T15:00:22.819Z"
   },
   {
    "duration": 40,
    "start_time": "2022-02-13T15:00:22.856Z"
   },
   {
    "duration": 26,
    "start_time": "2022-02-13T15:00:22.898Z"
   },
   {
    "duration": 24,
    "start_time": "2022-02-13T15:00:22.927Z"
   },
   {
    "duration": 12,
    "start_time": "2022-02-13T15:00:22.953Z"
   },
   {
    "duration": 29,
    "start_time": "2022-02-13T15:00:22.967Z"
   },
   {
    "duration": 57,
    "start_time": "2022-02-13T15:00:22.998Z"
   },
   {
    "duration": 14,
    "start_time": "2022-02-13T15:00:23.058Z"
   },
   {
    "duration": 29,
    "start_time": "2022-02-13T15:00:23.073Z"
   },
   {
    "duration": 31,
    "start_time": "2022-02-13T15:00:23.104Z"
   },
   {
    "duration": 27,
    "start_time": "2022-02-13T15:00:23.137Z"
   },
   {
    "duration": 23,
    "start_time": "2022-02-13T15:00:23.169Z"
   },
   {
    "duration": 23,
    "start_time": "2022-02-13T15:00:23.195Z"
   },
   {
    "duration": 41,
    "start_time": "2022-02-13T15:00:23.220Z"
   },
   {
    "duration": 51,
    "start_time": "2022-02-13T15:00:23.264Z"
   },
   {
    "duration": 33,
    "start_time": "2022-02-13T15:00:23.318Z"
   },
   {
    "duration": 4,
    "start_time": "2022-02-13T15:00:23.353Z"
   },
   {
    "duration": 34,
    "start_time": "2022-02-13T15:00:23.359Z"
   },
   {
    "duration": 20,
    "start_time": "2022-02-13T15:00:23.395Z"
   },
   {
    "duration": 10,
    "start_time": "2022-02-13T15:00:23.417Z"
   },
   {
    "duration": 4,
    "start_time": "2022-02-13T15:00:23.430Z"
   },
   {
    "duration": 11,
    "start_time": "2022-02-13T15:00:23.436Z"
   },
   {
    "duration": 38,
    "start_time": "2022-02-13T15:00:23.449Z"
   },
   {
    "duration": 18,
    "start_time": "2022-02-13T15:00:23.489Z"
   },
   {
    "duration": 17,
    "start_time": "2022-02-13T15:00:23.510Z"
   },
   {
    "duration": 15,
    "start_time": "2022-02-13T15:00:23.529Z"
   },
   {
    "duration": 14,
    "start_time": "2022-02-13T15:00:23.547Z"
   },
   {
    "duration": 7,
    "start_time": "2022-02-13T15:00:23.563Z"
   },
   {
    "duration": 35,
    "start_time": "2022-02-13T15:00:23.573Z"
   },
   {
    "duration": 9,
    "start_time": "2022-02-13T15:00:23.610Z"
   },
   {
    "duration": 25,
    "start_time": "2022-02-13T15:00:23.621Z"
   },
   {
    "duration": 49,
    "start_time": "2022-02-13T15:00:23.648Z"
   },
   {
    "duration": 8,
    "start_time": "2022-02-13T15:00:23.699Z"
   },
   {
    "duration": 359,
    "start_time": "2022-02-13T15:00:23.709Z"
   },
   {
    "duration": 20,
    "start_time": "2022-02-13T15:00:24.070Z"
   },
   {
    "duration": 146,
    "start_time": "2022-02-13T15:00:24.093Z"
   },
   {
    "duration": 9,
    "start_time": "2022-02-13T15:00:24.244Z"
   },
   {
    "duration": 16,
    "start_time": "2022-02-13T15:00:24.255Z"
   },
   {
    "duration": 37,
    "start_time": "2022-02-13T15:00:24.273Z"
   },
   {
    "duration": 8,
    "start_time": "2022-02-13T15:00:24.313Z"
   },
   {
    "duration": 670,
    "start_time": "2022-02-13T15:00:24.323Z"
   },
   {
    "duration": 21,
    "start_time": "2022-02-13T15:00:24.996Z"
   },
   {
    "duration": 13,
    "start_time": "2022-02-13T15:00:25.019Z"
   },
   {
    "duration": 11,
    "start_time": "2022-02-13T15:00:25.035Z"
   },
   {
    "duration": 384,
    "start_time": "2022-02-13T15:00:25.049Z"
   },
   {
    "duration": 10,
    "start_time": "2022-02-13T15:00:25.435Z"
   },
   {
    "duration": 17,
    "start_time": "2022-02-13T15:00:25.447Z"
   },
   {
    "duration": 10,
    "start_time": "2022-02-13T15:00:25.466Z"
   },
   {
    "duration": 414,
    "start_time": "2022-02-13T15:00:25.478Z"
   },
   {
    "duration": 20,
    "start_time": "2022-02-13T15:00:25.894Z"
   },
   {
    "duration": 14,
    "start_time": "2022-02-13T15:00:25.917Z"
   },
   {
    "duration": 8,
    "start_time": "2022-02-13T15:00:25.934Z"
   },
   {
    "duration": 12,
    "start_time": "2022-02-13T15:00:25.944Z"
   },
   {
    "duration": 182,
    "start_time": "2022-02-13T15:00:25.959Z"
   },
   {
    "duration": 408,
    "start_time": "2022-02-13T15:00:26.144Z"
   },
   {
    "duration": 11,
    "start_time": "2022-02-13T15:00:26.554Z"
   },
   {
    "duration": 15,
    "start_time": "2022-02-13T15:00:26.567Z"
   },
   {
    "duration": 25,
    "start_time": "2022-02-13T15:00:26.584Z"
   },
   {
    "duration": 12,
    "start_time": "2022-02-13T15:00:26.612Z"
   },
   {
    "duration": 11,
    "start_time": "2022-02-13T15:00:26.626Z"
   },
   {
    "duration": 11,
    "start_time": "2022-02-13T15:00:26.639Z"
   },
   {
    "duration": 1197,
    "start_time": "2022-02-19T15:32:28.529Z"
   },
   {
    "duration": 402,
    "start_time": "2022-02-19T15:32:29.728Z"
   },
   {
    "duration": 19,
    "start_time": "2022-02-19T15:32:30.132Z"
   },
   {
    "duration": 23,
    "start_time": "2022-02-19T15:32:30.153Z"
   },
   {
    "duration": 123,
    "start_time": "2022-02-19T15:32:30.178Z"
   },
   {
    "duration": 18,
    "start_time": "2022-02-19T15:32:30.303Z"
   },
   {
    "duration": 18,
    "start_time": "2022-02-19T15:32:30.323Z"
   },
   {
    "duration": 90,
    "start_time": "2022-02-19T15:32:30.342Z"
   },
   {
    "duration": 11,
    "start_time": "2022-02-19T15:32:30.435Z"
   },
   {
    "duration": 15,
    "start_time": "2022-02-19T15:32:30.449Z"
   },
   {
    "duration": 66,
    "start_time": "2022-02-19T15:32:30.466Z"
   },
   {
    "duration": 10,
    "start_time": "2022-02-19T15:32:30.534Z"
   },
   {
    "duration": 10,
    "start_time": "2022-02-19T15:32:30.546Z"
   },
   {
    "duration": 13,
    "start_time": "2022-02-19T15:32:30.557Z"
   },
   {
    "duration": 5,
    "start_time": "2022-02-19T15:32:30.572Z"
   },
   {
    "duration": 10,
    "start_time": "2022-02-19T15:32:30.579Z"
   },
   {
    "duration": 55,
    "start_time": "2022-02-19T15:32:30.590Z"
   },
   {
    "duration": 22,
    "start_time": "2022-02-19T15:32:30.647Z"
   },
   {
    "duration": 19,
    "start_time": "2022-02-19T15:32:30.671Z"
   },
   {
    "duration": 27,
    "start_time": "2022-02-19T15:32:30.693Z"
   },
   {
    "duration": 15,
    "start_time": "2022-02-19T15:32:30.722Z"
   },
   {
    "duration": 35,
    "start_time": "2022-02-19T15:32:30.739Z"
   },
   {
    "duration": 7,
    "start_time": "2022-02-19T15:32:30.776Z"
   },
   {
    "duration": 40,
    "start_time": "2022-02-19T15:32:30.785Z"
   },
   {
    "duration": 23,
    "start_time": "2022-02-19T15:32:30.827Z"
   },
   {
    "duration": 20,
    "start_time": "2022-02-19T15:32:30.852Z"
   },
   {
    "duration": 16,
    "start_time": "2022-02-19T15:32:30.877Z"
   },
   {
    "duration": 26,
    "start_time": "2022-02-19T15:32:30.896Z"
   },
   {
    "duration": 6,
    "start_time": "2022-02-19T15:32:30.924Z"
   },
   {
    "duration": 33,
    "start_time": "2022-02-19T15:32:30.932Z"
   },
   {
    "duration": 24,
    "start_time": "2022-02-19T15:32:30.967Z"
   },
   {
    "duration": 81,
    "start_time": "2022-02-19T15:32:30.993Z"
   },
   {
    "duration": 76,
    "start_time": "2022-02-19T15:32:31.076Z"
   },
   {
    "duration": 22,
    "start_time": "2022-02-19T15:32:31.154Z"
   },
   {
    "duration": 26,
    "start_time": "2022-02-19T15:32:31.178Z"
   },
   {
    "duration": 20,
    "start_time": "2022-02-19T15:32:31.206Z"
   },
   {
    "duration": 29,
    "start_time": "2022-02-19T15:32:31.228Z"
   },
   {
    "duration": 51,
    "start_time": "2022-02-19T15:32:31.259Z"
   },
   {
    "duration": 7,
    "start_time": "2022-02-19T15:32:31.312Z"
   },
   {
    "duration": 23,
    "start_time": "2022-02-19T15:32:31.321Z"
   },
   {
    "duration": 15,
    "start_time": "2022-02-19T15:32:31.346Z"
   },
   {
    "duration": 26,
    "start_time": "2022-02-19T15:32:31.362Z"
   },
   {
    "duration": 3,
    "start_time": "2022-02-19T15:32:31.390Z"
   },
   {
    "duration": 8,
    "start_time": "2022-02-19T15:32:31.395Z"
   },
   {
    "duration": 10,
    "start_time": "2022-02-19T15:32:31.404Z"
   },
   {
    "duration": 14,
    "start_time": "2022-02-19T15:32:31.416Z"
   },
   {
    "duration": 44,
    "start_time": "2022-02-19T15:32:31.432Z"
   },
   {
    "duration": 5,
    "start_time": "2022-02-19T15:32:31.478Z"
   },
   {
    "duration": 268,
    "start_time": "2022-02-19T15:32:31.484Z"
   },
   {
    "duration": 26,
    "start_time": "2022-02-19T15:32:31.754Z"
   },
   {
    "duration": 132,
    "start_time": "2022-02-19T15:32:31.782Z"
   },
   {
    "duration": 8,
    "start_time": "2022-02-19T15:32:31.919Z"
   },
   {
    "duration": 39,
    "start_time": "2022-02-19T15:32:31.929Z"
   },
   {
    "duration": 19,
    "start_time": "2022-02-19T15:32:31.970Z"
   },
   {
    "duration": 33,
    "start_time": "2022-02-19T15:32:31.991Z"
   },
   {
    "duration": 441,
    "start_time": "2022-02-19T15:32:32.026Z"
   },
   {
    "duration": 10,
    "start_time": "2022-02-19T15:32:32.469Z"
   },
   {
    "duration": 13,
    "start_time": "2022-02-19T15:32:32.482Z"
   },
   {
    "duration": 31,
    "start_time": "2022-02-19T15:32:32.497Z"
   },
   {
    "duration": 530,
    "start_time": "2022-02-19T15:32:32.530Z"
   },
   {
    "duration": 10,
    "start_time": "2022-02-19T15:32:33.063Z"
   },
   {
    "duration": 40,
    "start_time": "2022-02-19T15:32:33.075Z"
   },
   {
    "duration": 22,
    "start_time": "2022-02-19T15:32:33.117Z"
   },
   {
    "duration": 385,
    "start_time": "2022-02-19T15:32:33.141Z"
   },
   {
    "duration": 10,
    "start_time": "2022-02-19T15:32:33.528Z"
   },
   {
    "duration": 9,
    "start_time": "2022-02-19T15:32:33.540Z"
   },
   {
    "duration": 5,
    "start_time": "2022-02-19T15:32:33.550Z"
   },
   {
    "duration": 12,
    "start_time": "2022-02-19T15:32:33.557Z"
   },
   {
    "duration": 151,
    "start_time": "2022-02-19T15:32:33.571Z"
   },
   {
    "duration": 394,
    "start_time": "2022-02-19T15:32:33.724Z"
   },
   {
    "duration": 9,
    "start_time": "2022-02-19T15:32:34.120Z"
   },
   {
    "duration": 22,
    "start_time": "2022-02-19T15:32:34.131Z"
   },
   {
    "duration": 10,
    "start_time": "2022-02-19T15:32:34.155Z"
   },
   {
    "duration": 13,
    "start_time": "2022-02-19T15:32:34.167Z"
   },
   {
    "duration": 6,
    "start_time": "2022-02-19T15:32:34.182Z"
   },
   {
    "duration": 9,
    "start_time": "2022-02-19T15:32:34.190Z"
   },
   {
    "duration": 5,
    "start_time": "2022-02-19T15:33:55.565Z"
   },
   {
    "duration": 5,
    "start_time": "2022-02-19T15:33:59.705Z"
   },
   {
    "duration": 8,
    "start_time": "2022-02-19T15:34:35.977Z"
   },
   {
    "duration": 1022,
    "start_time": "2022-02-20T07:49:32.809Z"
   },
   {
    "duration": 333,
    "start_time": "2022-02-20T07:49:33.833Z"
   },
   {
    "duration": 16,
    "start_time": "2022-02-20T07:49:34.167Z"
   },
   {
    "duration": 20,
    "start_time": "2022-02-20T07:49:34.185Z"
   },
   {
    "duration": 95,
    "start_time": "2022-02-20T07:49:34.207Z"
   },
   {
    "duration": 22,
    "start_time": "2022-02-20T07:49:34.303Z"
   },
   {
    "duration": 16,
    "start_time": "2022-02-20T07:49:34.327Z"
   },
   {
    "duration": 76,
    "start_time": "2022-02-20T07:49:34.346Z"
   },
   {
    "duration": 9,
    "start_time": "2022-02-20T07:49:34.424Z"
   },
   {
    "duration": 19,
    "start_time": "2022-02-20T07:49:34.435Z"
   },
   {
    "duration": 35,
    "start_time": "2022-02-20T07:49:34.456Z"
   },
   {
    "duration": 26,
    "start_time": "2022-02-20T07:49:34.493Z"
   },
   {
    "duration": 7,
    "start_time": "2022-02-20T07:49:34.520Z"
   },
   {
    "duration": 14,
    "start_time": "2022-02-20T07:49:34.528Z"
   },
   {
    "duration": 6,
    "start_time": "2022-02-20T07:49:34.544Z"
   },
   {
    "duration": 6,
    "start_time": "2022-02-20T07:49:34.552Z"
   },
   {
    "duration": 25,
    "start_time": "2022-02-20T07:49:34.560Z"
   },
   {
    "duration": 49,
    "start_time": "2022-02-20T07:49:34.587Z"
   },
   {
    "duration": 17,
    "start_time": "2022-02-20T07:49:34.637Z"
   },
   {
    "duration": 4,
    "start_time": "2022-02-20T07:49:34.656Z"
   },
   {
    "duration": 6,
    "start_time": "2022-02-20T07:49:34.661Z"
   },
   {
    "duration": 25,
    "start_time": "2022-02-20T07:49:34.669Z"
   },
   {
    "duration": 6,
    "start_time": "2022-02-20T07:49:34.718Z"
   },
   {
    "duration": 26,
    "start_time": "2022-02-20T07:49:34.726Z"
   },
   {
    "duration": 23,
    "start_time": "2022-02-20T07:49:34.754Z"
   },
   {
    "duration": 17,
    "start_time": "2022-02-20T07:49:34.779Z"
   },
   {
    "duration": 30,
    "start_time": "2022-02-20T07:49:34.798Z"
   },
   {
    "duration": 7,
    "start_time": "2022-02-20T07:49:34.829Z"
   },
   {
    "duration": 5,
    "start_time": "2022-02-20T07:49:34.838Z"
   },
   {
    "duration": 13,
    "start_time": "2022-02-20T07:49:34.845Z"
   },
   {
    "duration": 22,
    "start_time": "2022-02-20T07:49:34.859Z"
   },
   {
    "duration": 36,
    "start_time": "2022-02-20T07:49:34.883Z"
   },
   {
    "duration": 22,
    "start_time": "2022-02-20T07:49:34.920Z"
   },
   {
    "duration": 16,
    "start_time": "2022-02-20T07:49:34.943Z"
   },
   {
    "duration": 5,
    "start_time": "2022-02-20T07:49:34.960Z"
   },
   {
    "duration": 3,
    "start_time": "2022-02-20T07:49:34.967Z"
   },
   {
    "duration": 4,
    "start_time": "2022-02-20T07:49:34.972Z"
   },
   {
    "duration": 41,
    "start_time": "2022-02-20T07:49:34.978Z"
   },
   {
    "duration": 4,
    "start_time": "2022-02-20T07:49:35.020Z"
   },
   {
    "duration": 8,
    "start_time": "2022-02-20T07:49:35.025Z"
   },
   {
    "duration": 6,
    "start_time": "2022-02-20T07:49:35.035Z"
   },
   {
    "duration": 15,
    "start_time": "2022-02-20T07:49:35.043Z"
   },
   {
    "duration": 8,
    "start_time": "2022-02-20T07:49:35.059Z"
   },
   {
    "duration": 8,
    "start_time": "2022-02-20T07:49:35.069Z"
   },
   {
    "duration": 4,
    "start_time": "2022-02-20T07:49:35.078Z"
   },
   {
    "duration": 4,
    "start_time": "2022-02-20T07:49:35.118Z"
   },
   {
    "duration": 4,
    "start_time": "2022-02-20T07:49:35.124Z"
   },
   {
    "duration": 15,
    "start_time": "2022-02-20T07:49:35.130Z"
   },
   {
    "duration": 43,
    "start_time": "2022-02-20T07:49:35.146Z"
   },
   {
    "duration": 5,
    "start_time": "2022-02-20T07:49:35.190Z"
   },
   {
    "duration": 223,
    "start_time": "2022-02-20T07:49:35.196Z"
   },
   {
    "duration": 9,
    "start_time": "2022-02-20T07:49:35.421Z"
   },
   {
    "duration": 19,
    "start_time": "2022-02-20T07:49:35.431Z"
   },
   {
    "duration": 136,
    "start_time": "2022-02-20T07:49:35.452Z"
   },
   {
    "duration": 9,
    "start_time": "2022-02-20T07:49:35.590Z"
   },
   {
    "duration": 24,
    "start_time": "2022-02-20T07:49:35.600Z"
   },
   {
    "duration": 9,
    "start_time": "2022-02-20T07:49:35.625Z"
   },
   {
    "duration": 6,
    "start_time": "2022-02-20T07:49:35.636Z"
   },
   {
    "duration": 419,
    "start_time": "2022-02-20T07:49:35.644Z"
   },
   {
    "duration": 10,
    "start_time": "2022-02-20T07:49:36.065Z"
   },
   {
    "duration": 10,
    "start_time": "2022-02-20T07:49:36.077Z"
   },
   {
    "duration": 39,
    "start_time": "2022-02-20T07:49:36.089Z"
   },
   {
    "duration": 348,
    "start_time": "2022-02-20T07:49:36.130Z"
   },
   {
    "duration": 9,
    "start_time": "2022-02-20T07:49:36.479Z"
   },
   {
    "duration": 13,
    "start_time": "2022-02-20T07:49:36.490Z"
   },
   {
    "duration": 10,
    "start_time": "2022-02-20T07:49:36.519Z"
   },
   {
    "duration": 352,
    "start_time": "2022-02-20T07:49:36.530Z"
   },
   {
    "duration": 9,
    "start_time": "2022-02-20T07:49:36.888Z"
   },
   {
    "duration": 25,
    "start_time": "2022-02-20T07:49:36.899Z"
   },
   {
    "duration": 6,
    "start_time": "2022-02-20T07:49:36.926Z"
   },
   {
    "duration": 9,
    "start_time": "2022-02-20T07:49:36.933Z"
   },
   {
    "duration": 129,
    "start_time": "2022-02-20T07:49:36.943Z"
   },
   {
    "duration": 390,
    "start_time": "2022-02-20T07:49:37.073Z"
   },
   {
    "duration": 9,
    "start_time": "2022-02-20T07:49:37.464Z"
   },
   {
    "duration": 15,
    "start_time": "2022-02-20T07:49:37.475Z"
   },
   {
    "duration": 10,
    "start_time": "2022-02-20T07:49:37.492Z"
   },
   {
    "duration": 17,
    "start_time": "2022-02-20T07:49:37.504Z"
   },
   {
    "duration": 12,
    "start_time": "2022-02-20T07:49:37.522Z"
   },
   {
    "duration": 20,
    "start_time": "2022-02-20T07:49:37.536Z"
   },
   {
    "duration": 1038,
    "start_time": "2022-02-20T07:53:04.036Z"
   },
   {
    "duration": 353,
    "start_time": "2022-02-20T07:53:05.076Z"
   },
   {
    "duration": 15,
    "start_time": "2022-02-20T07:53:05.432Z"
   },
   {
    "duration": 21,
    "start_time": "2022-02-20T07:53:05.449Z"
   },
   {
    "duration": 102,
    "start_time": "2022-02-20T07:53:05.471Z"
   },
   {
    "duration": 12,
    "start_time": "2022-02-20T07:53:05.574Z"
   },
   {
    "duration": 31,
    "start_time": "2022-02-20T07:53:05.588Z"
   },
   {
    "duration": 63,
    "start_time": "2022-02-20T07:53:05.622Z"
   },
   {
    "duration": 10,
    "start_time": "2022-02-20T07:53:05.687Z"
   },
   {
    "duration": 28,
    "start_time": "2022-02-20T07:53:05.699Z"
   },
   {
    "duration": 44,
    "start_time": "2022-02-20T07:53:05.728Z"
   },
   {
    "duration": 10,
    "start_time": "2022-02-20T07:53:05.774Z"
   },
   {
    "duration": 37,
    "start_time": "2022-02-20T07:53:05.786Z"
   },
   {
    "duration": 12,
    "start_time": "2022-02-20T07:53:05.825Z"
   },
   {
    "duration": 7,
    "start_time": "2022-02-20T07:53:05.839Z"
   },
   {
    "duration": 8,
    "start_time": "2022-02-20T07:53:05.848Z"
   },
   {
    "duration": 1431,
    "start_time": "2022-02-20T07:53:05.858Z"
   },
   {
    "duration": -122,
    "start_time": "2022-02-20T07:53:07.414Z"
   },
   {
    "duration": -123,
    "start_time": "2022-02-20T07:53:07.417Z"
   },
   {
    "duration": -124,
    "start_time": "2022-02-20T07:53:07.419Z"
   },
   {
    "duration": -127,
    "start_time": "2022-02-20T07:53:07.423Z"
   },
   {
    "duration": -129,
    "start_time": "2022-02-20T07:53:07.426Z"
   },
   {
    "duration": -132,
    "start_time": "2022-02-20T07:53:07.430Z"
   },
   {
    "duration": -134,
    "start_time": "2022-02-20T07:53:07.433Z"
   },
   {
    "duration": -136,
    "start_time": "2022-02-20T07:53:07.436Z"
   },
   {
    "duration": -139,
    "start_time": "2022-02-20T07:53:07.439Z"
   },
   {
    "duration": -141,
    "start_time": "2022-02-20T07:53:07.442Z"
   },
   {
    "duration": -143,
    "start_time": "2022-02-20T07:53:07.445Z"
   },
   {
    "duration": -145,
    "start_time": "2022-02-20T07:53:07.448Z"
   },
   {
    "duration": -146,
    "start_time": "2022-02-20T07:53:07.451Z"
   },
   {
    "duration": -148,
    "start_time": "2022-02-20T07:53:07.454Z"
   },
   {
    "duration": -164,
    "start_time": "2022-02-20T07:53:07.471Z"
   },
   {
    "duration": -166,
    "start_time": "2022-02-20T07:53:07.474Z"
   },
   {
    "duration": -169,
    "start_time": "2022-02-20T07:53:07.477Z"
   },
   {
    "duration": -171,
    "start_time": "2022-02-20T07:53:07.480Z"
   },
   {
    "duration": -173,
    "start_time": "2022-02-20T07:53:07.483Z"
   },
   {
    "duration": -174,
    "start_time": "2022-02-20T07:53:07.485Z"
   },
   {
    "duration": -175,
    "start_time": "2022-02-20T07:53:07.487Z"
   },
   {
    "duration": -176,
    "start_time": "2022-02-20T07:53:07.490Z"
   },
   {
    "duration": -177,
    "start_time": "2022-02-20T07:53:07.492Z"
   },
   {
    "duration": -179,
    "start_time": "2022-02-20T07:53:07.495Z"
   },
   {
    "duration": -182,
    "start_time": "2022-02-20T07:53:07.498Z"
   },
   {
    "duration": -183,
    "start_time": "2022-02-20T07:53:07.500Z"
   },
   {
    "duration": -184,
    "start_time": "2022-02-20T07:53:07.502Z"
   },
   {
    "duration": -186,
    "start_time": "2022-02-20T07:53:07.505Z"
   },
   {
    "duration": -187,
    "start_time": "2022-02-20T07:53:07.507Z"
   },
   {
    "duration": -189,
    "start_time": "2022-02-20T07:53:07.510Z"
   },
   {
    "duration": -190,
    "start_time": "2022-02-20T07:53:07.512Z"
   },
   {
    "duration": -192,
    "start_time": "2022-02-20T07:53:07.515Z"
   },
   {
    "duration": -193,
    "start_time": "2022-02-20T07:53:07.517Z"
   },
   {
    "duration": -195,
    "start_time": "2022-02-20T07:53:07.520Z"
   },
   {
    "duration": -197,
    "start_time": "2022-02-20T07:53:07.522Z"
   },
   {
    "duration": -199,
    "start_time": "2022-02-20T07:53:07.525Z"
   },
   {
    "duration": -200,
    "start_time": "2022-02-20T07:53:07.527Z"
   },
   {
    "duration": -202,
    "start_time": "2022-02-20T07:53:07.530Z"
   },
   {
    "duration": -203,
    "start_time": "2022-02-20T07:53:07.532Z"
   },
   {
    "duration": -205,
    "start_time": "2022-02-20T07:53:07.535Z"
   },
   {
    "duration": -206,
    "start_time": "2022-02-20T07:53:07.537Z"
   },
   {
    "duration": -208,
    "start_time": "2022-02-20T07:53:07.540Z"
   },
   {
    "duration": -210,
    "start_time": "2022-02-20T07:53:07.543Z"
   },
   {
    "duration": -211,
    "start_time": "2022-02-20T07:53:07.545Z"
   },
   {
    "duration": -213,
    "start_time": "2022-02-20T07:53:07.548Z"
   },
   {
    "duration": -214,
    "start_time": "2022-02-20T07:53:07.550Z"
   },
   {
    "duration": -216,
    "start_time": "2022-02-20T07:53:07.553Z"
   },
   {
    "duration": -219,
    "start_time": "2022-02-20T07:53:07.556Z"
   },
   {
    "duration": -220,
    "start_time": "2022-02-20T07:53:07.558Z"
   },
   {
    "duration": -228,
    "start_time": "2022-02-20T07:53:07.567Z"
   },
   {
    "duration": -230,
    "start_time": "2022-02-20T07:53:07.570Z"
   },
   {
    "duration": -231,
    "start_time": "2022-02-20T07:53:07.572Z"
   },
   {
    "duration": -238,
    "start_time": "2022-02-20T07:53:07.580Z"
   },
   {
    "duration": -241,
    "start_time": "2022-02-20T07:53:07.584Z"
   },
   {
    "duration": -243,
    "start_time": "2022-02-20T07:53:07.587Z"
   },
   {
    "duration": -246,
    "start_time": "2022-02-20T07:53:07.591Z"
   },
   {
    "duration": -248,
    "start_time": "2022-02-20T07:53:07.593Z"
   },
   {
    "duration": -249,
    "start_time": "2022-02-20T07:53:07.595Z"
   },
   {
    "duration": -251,
    "start_time": "2022-02-20T07:53:07.598Z"
   },
   {
    "duration": -252,
    "start_time": "2022-02-20T07:53:07.600Z"
   },
   {
    "duration": -253,
    "start_time": "2022-02-20T07:53:07.602Z"
   },
   {
    "duration": -255,
    "start_time": "2022-02-20T07:53:07.605Z"
   },
   {
    "duration": 1020,
    "start_time": "2022-02-20T07:53:32.691Z"
   },
   {
    "duration": 350,
    "start_time": "2022-02-20T07:53:33.713Z"
   },
   {
    "duration": 16,
    "start_time": "2022-02-20T07:53:34.065Z"
   },
   {
    "duration": 22,
    "start_time": "2022-02-20T07:53:34.083Z"
   },
   {
    "duration": 93,
    "start_time": "2022-02-20T07:53:34.106Z"
   },
   {
    "duration": 20,
    "start_time": "2022-02-20T07:53:34.201Z"
   },
   {
    "duration": 19,
    "start_time": "2022-02-20T07:53:34.223Z"
   },
   {
    "duration": 55,
    "start_time": "2022-02-20T07:53:34.245Z"
   },
   {
    "duration": 22,
    "start_time": "2022-02-20T07:53:34.302Z"
   },
   {
    "duration": 16,
    "start_time": "2022-02-20T07:53:34.326Z"
   },
   {
    "duration": 40,
    "start_time": "2022-02-20T07:53:34.343Z"
   },
   {
    "duration": 7,
    "start_time": "2022-02-20T07:53:34.385Z"
   },
   {
    "duration": 7,
    "start_time": "2022-02-20T07:53:34.419Z"
   },
   {
    "duration": 14,
    "start_time": "2022-02-20T07:53:34.428Z"
   },
   {
    "duration": 7,
    "start_time": "2022-02-20T07:53:34.444Z"
   },
   {
    "duration": 7,
    "start_time": "2022-02-20T07:53:34.453Z"
   },
   {
    "duration": 27,
    "start_time": "2022-02-20T07:53:34.462Z"
   },
   {
    "duration": 47,
    "start_time": "2022-02-20T07:53:34.490Z"
   },
   {
    "duration": 17,
    "start_time": "2022-02-20T07:53:34.538Z"
   },
   {
    "duration": 4,
    "start_time": "2022-02-20T07:53:34.556Z"
   },
   {
    "duration": 6,
    "start_time": "2022-02-20T07:53:34.562Z"
   },
   {
    "duration": 28,
    "start_time": "2022-02-20T07:53:34.569Z"
   },
   {
    "duration": 21,
    "start_time": "2022-02-20T07:53:34.601Z"
   },
   {
    "duration": 19,
    "start_time": "2022-02-20T07:53:34.624Z"
   },
   {
    "duration": 23,
    "start_time": "2022-02-20T07:53:34.645Z"
   },
   {
    "duration": 18,
    "start_time": "2022-02-20T07:53:34.669Z"
   },
   {
    "duration": 38,
    "start_time": "2022-02-20T07:53:34.688Z"
   },
   {
    "duration": 6,
    "start_time": "2022-02-20T07:53:34.728Z"
   },
   {
    "duration": 5,
    "start_time": "2022-02-20T07:53:34.736Z"
   },
   {
    "duration": 11,
    "start_time": "2022-02-20T07:53:34.743Z"
   },
   {
    "duration": 21,
    "start_time": "2022-02-20T07:53:34.755Z"
   },
   {
    "duration": 3,
    "start_time": "2022-02-20T07:53:34.778Z"
   },
   {
    "duration": 43,
    "start_time": "2022-02-20T07:53:34.782Z"
   },
   {
    "duration": 17,
    "start_time": "2022-02-20T07:53:34.826Z"
   },
   {
    "duration": 6,
    "start_time": "2022-02-20T07:53:34.844Z"
   },
   {
    "duration": 2,
    "start_time": "2022-02-20T07:53:34.852Z"
   },
   {
    "duration": 5,
    "start_time": "2022-02-20T07:53:34.856Z"
   },
   {
    "duration": 20,
    "start_time": "2022-02-20T07:53:34.862Z"
   },
   {
    "duration": 3,
    "start_time": "2022-02-20T07:53:34.884Z"
   },
   {
    "duration": 31,
    "start_time": "2022-02-20T07:53:34.889Z"
   },
   {
    "duration": 7,
    "start_time": "2022-02-20T07:53:34.921Z"
   },
   {
    "duration": 18,
    "start_time": "2022-02-20T07:53:34.929Z"
   },
   {
    "duration": 8,
    "start_time": "2022-02-20T07:53:34.948Z"
   },
   {
    "duration": 7,
    "start_time": "2022-02-20T07:53:34.958Z"
   },
   {
    "duration": 3,
    "start_time": "2022-02-20T07:53:34.966Z"
   },
   {
    "duration": 5,
    "start_time": "2022-02-20T07:53:34.970Z"
   },
   {
    "duration": 5,
    "start_time": "2022-02-20T07:53:34.976Z"
   },
   {
    "duration": 41,
    "start_time": "2022-02-20T07:53:34.982Z"
   },
   {
    "duration": 31,
    "start_time": "2022-02-20T07:53:35.024Z"
   },
   {
    "duration": 4,
    "start_time": "2022-02-20T07:53:35.056Z"
   },
   {
    "duration": 211,
    "start_time": "2022-02-20T07:53:35.061Z"
   },
   {
    "duration": 8,
    "start_time": "2022-02-20T07:53:35.274Z"
   },
   {
    "duration": 16,
    "start_time": "2022-02-20T07:53:35.284Z"
   },
   {
    "duration": 132,
    "start_time": "2022-02-20T07:53:35.302Z"
   },
   {
    "duration": 9,
    "start_time": "2022-02-20T07:53:35.436Z"
   },
   {
    "duration": 13,
    "start_time": "2022-02-20T07:53:35.447Z"
   },
   {
    "duration": 11,
    "start_time": "2022-02-20T07:53:35.462Z"
   },
   {
    "duration": 6,
    "start_time": "2022-02-20T07:53:35.475Z"
   },
   {
    "duration": 424,
    "start_time": "2022-02-20T07:53:35.483Z"
   },
   {
    "duration": 17,
    "start_time": "2022-02-20T07:53:35.909Z"
   },
   {
    "duration": 12,
    "start_time": "2022-02-20T07:53:35.927Z"
   },
   {
    "duration": 9,
    "start_time": "2022-02-20T07:53:35.941Z"
   },
   {
    "duration": 351,
    "start_time": "2022-02-20T07:53:35.952Z"
   },
   {
    "duration": 16,
    "start_time": "2022-02-20T07:53:36.305Z"
   },
   {
    "duration": 10,
    "start_time": "2022-02-20T07:53:36.323Z"
   },
   {
    "duration": 7,
    "start_time": "2022-02-20T07:53:36.335Z"
   },
   {
    "duration": 347,
    "start_time": "2022-02-20T07:53:36.344Z"
   },
   {
    "duration": 8,
    "start_time": "2022-02-20T07:53:36.695Z"
   },
   {
    "duration": 19,
    "start_time": "2022-02-20T07:53:36.705Z"
   },
   {
    "duration": 4,
    "start_time": "2022-02-20T07:53:36.726Z"
   },
   {
    "duration": 8,
    "start_time": "2022-02-20T07:53:36.732Z"
   },
   {
    "duration": 143,
    "start_time": "2022-02-20T07:53:36.742Z"
   },
   {
    "duration": 387,
    "start_time": "2022-02-20T07:53:36.887Z"
   },
   {
    "duration": 8,
    "start_time": "2022-02-20T07:53:37.276Z"
   },
   {
    "duration": 5,
    "start_time": "2022-02-20T07:53:37.286Z"
   },
   {
    "duration": 6,
    "start_time": "2022-02-20T07:53:37.292Z"
   },
   {
    "duration": 8,
    "start_time": "2022-02-20T07:53:37.319Z"
   },
   {
    "duration": 7,
    "start_time": "2022-02-20T07:53:37.329Z"
   },
   {
    "duration": 9,
    "start_time": "2022-02-20T07:53:37.337Z"
   },
   {
    "duration": 294,
    "start_time": "2022-02-20T07:55:01.737Z"
   },
   {
    "duration": 1016,
    "start_time": "2022-02-20T07:55:17.248Z"
   },
   {
    "duration": 343,
    "start_time": "2022-02-20T07:55:18.266Z"
   },
   {
    "duration": 17,
    "start_time": "2022-02-20T07:55:18.611Z"
   },
   {
    "duration": 25,
    "start_time": "2022-02-20T07:55:18.631Z"
   },
   {
    "duration": 107,
    "start_time": "2022-02-20T07:55:18.658Z"
   },
   {
    "duration": 12,
    "start_time": "2022-02-20T07:55:18.767Z"
   },
   {
    "duration": 42,
    "start_time": "2022-02-20T07:55:18.781Z"
   },
   {
    "duration": 64,
    "start_time": "2022-02-20T07:55:18.825Z"
   },
   {
    "duration": 29,
    "start_time": "2022-02-20T07:55:18.891Z"
   },
   {
    "duration": 13,
    "start_time": "2022-02-20T07:55:18.922Z"
   },
   {
    "duration": 58,
    "start_time": "2022-02-20T07:55:18.937Z"
   },
   {
    "duration": 7,
    "start_time": "2022-02-20T07:55:18.997Z"
   },
   {
    "duration": 37,
    "start_time": "2022-02-20T07:55:19.006Z"
   },
   {
    "duration": 38,
    "start_time": "2022-02-20T07:55:19.044Z"
   },
   {
    "duration": 16,
    "start_time": "2022-02-20T07:55:19.084Z"
   },
   {
    "duration": 22,
    "start_time": "2022-02-20T07:55:19.102Z"
   },
   {
    "duration": 42,
    "start_time": "2022-02-20T07:55:19.126Z"
   },
   {
    "duration": 33,
    "start_time": "2022-02-20T07:55:19.170Z"
   },
   {
    "duration": 18,
    "start_time": "2022-02-20T07:55:19.205Z"
   },
   {
    "duration": 5,
    "start_time": "2022-02-20T07:55:19.225Z"
   },
   {
    "duration": 8,
    "start_time": "2022-02-20T07:55:19.232Z"
   },
   {
    "duration": 24,
    "start_time": "2022-02-20T07:55:19.241Z"
   },
   {
    "duration": 4,
    "start_time": "2022-02-20T07:55:19.269Z"
   },
   {
    "duration": 45,
    "start_time": "2022-02-20T07:55:19.275Z"
   },
   {
    "duration": 567,
    "start_time": "2022-02-20T07:55:19.321Z"
   },
   {
    "duration": -102,
    "start_time": "2022-02-20T07:55:19.993Z"
   },
   {
    "duration": -105,
    "start_time": "2022-02-20T07:55:19.996Z"
   },
   {
    "duration": -107,
    "start_time": "2022-02-20T07:55:19.999Z"
   },
   {
    "duration": -109,
    "start_time": "2022-02-20T07:55:20.002Z"
   },
   {
    "duration": -111,
    "start_time": "2022-02-20T07:55:20.005Z"
   },
   {
    "duration": -126,
    "start_time": "2022-02-20T07:55:20.021Z"
   },
   {
    "duration": -137,
    "start_time": "2022-02-20T07:55:20.032Z"
   },
   {
    "duration": -139,
    "start_time": "2022-02-20T07:55:20.035Z"
   },
   {
    "duration": -140,
    "start_time": "2022-02-20T07:55:20.037Z"
   },
   {
    "duration": -142,
    "start_time": "2022-02-20T07:55:20.040Z"
   },
   {
    "duration": -144,
    "start_time": "2022-02-20T07:55:20.043Z"
   },
   {
    "duration": -151,
    "start_time": "2022-02-20T07:55:20.050Z"
   },
   {
    "duration": -153,
    "start_time": "2022-02-20T07:55:20.053Z"
   },
   {
    "duration": -154,
    "start_time": "2022-02-20T07:55:20.055Z"
   },
   {
    "duration": -155,
    "start_time": "2022-02-20T07:55:20.058Z"
   },
   {
    "duration": -157,
    "start_time": "2022-02-20T07:55:20.061Z"
   },
   {
    "duration": -163,
    "start_time": "2022-02-20T07:55:20.068Z"
   },
   {
    "duration": -164,
    "start_time": "2022-02-20T07:55:20.070Z"
   },
   {
    "duration": -166,
    "start_time": "2022-02-20T07:55:20.073Z"
   },
   {
    "duration": -169,
    "start_time": "2022-02-20T07:55:20.077Z"
   },
   {
    "duration": -174,
    "start_time": "2022-02-20T07:55:20.083Z"
   },
   {
    "duration": -176,
    "start_time": "2022-02-20T07:55:20.086Z"
   },
   {
    "duration": -178,
    "start_time": "2022-02-20T07:55:20.089Z"
   },
   {
    "duration": -179,
    "start_time": "2022-02-20T07:55:20.091Z"
   },
   {
    "duration": -185,
    "start_time": "2022-02-20T07:55:20.098Z"
   },
   {
    "duration": -187,
    "start_time": "2022-02-20T07:55:20.101Z"
   },
   {
    "duration": -190,
    "start_time": "2022-02-20T07:55:20.105Z"
   },
   {
    "duration": -190,
    "start_time": "2022-02-20T07:55:20.107Z"
   },
   {
    "duration": -193,
    "start_time": "2022-02-20T07:55:20.111Z"
   },
   {
    "duration": -199,
    "start_time": "2022-02-20T07:55:20.118Z"
   },
   {
    "duration": -202,
    "start_time": "2022-02-20T07:55:20.122Z"
   },
   {
    "duration": -204,
    "start_time": "2022-02-20T07:55:20.125Z"
   },
   {
    "duration": -211,
    "start_time": "2022-02-20T07:55:20.133Z"
   },
   {
    "duration": -212,
    "start_time": "2022-02-20T07:55:20.136Z"
   },
   {
    "duration": -214,
    "start_time": "2022-02-20T07:55:20.139Z"
   },
   {
    "duration": -216,
    "start_time": "2022-02-20T07:55:20.142Z"
   },
   {
    "duration": -223,
    "start_time": "2022-02-20T07:55:20.150Z"
   },
   {
    "duration": -225,
    "start_time": "2022-02-20T07:55:20.153Z"
   },
   {
    "duration": -226,
    "start_time": "2022-02-20T07:55:20.156Z"
   },
   {
    "duration": -228,
    "start_time": "2022-02-20T07:55:20.159Z"
   },
   {
    "duration": -236,
    "start_time": "2022-02-20T07:55:20.168Z"
   },
   {
    "duration": -238,
    "start_time": "2022-02-20T07:55:20.171Z"
   },
   {
    "duration": -240,
    "start_time": "2022-02-20T07:55:20.174Z"
   },
   {
    "duration": -243,
    "start_time": "2022-02-20T07:55:20.178Z"
   },
   {
    "duration": -250,
    "start_time": "2022-02-20T07:55:20.186Z"
   },
   {
    "duration": -251,
    "start_time": "2022-02-20T07:55:20.189Z"
   },
   {
    "duration": -254,
    "start_time": "2022-02-20T07:55:20.193Z"
   },
   {
    "duration": -261,
    "start_time": "2022-02-20T07:55:20.201Z"
   },
   {
    "duration": -263,
    "start_time": "2022-02-20T07:55:20.204Z"
   },
   {
    "duration": -264,
    "start_time": "2022-02-20T07:55:20.206Z"
   },
   {
    "duration": -266,
    "start_time": "2022-02-20T07:55:20.209Z"
   },
   {
    "duration": -274,
    "start_time": "2022-02-20T07:55:20.218Z"
   },
   {
    "duration": -276,
    "start_time": "2022-02-20T07:55:20.221Z"
   },
   {
    "duration": -278,
    "start_time": "2022-02-20T07:55:20.224Z"
   },
   {
    "duration": 22,
    "start_time": "2022-02-20T07:55:55.249Z"
   },
   {
    "duration": 5,
    "start_time": "2022-02-20T07:55:56.186Z"
   },
   {
    "duration": 18,
    "start_time": "2022-02-20T07:55:58.586Z"
   },
   {
    "duration": 247,
    "start_time": "2022-02-20T07:56:04.385Z"
   },
   {
    "duration": 17,
    "start_time": "2022-02-20T07:56:05.989Z"
   },
   {
    "duration": 16,
    "start_time": "2022-02-20T07:56:06.905Z"
   },
   {
    "duration": 4768,
    "start_time": "2022-02-20T07:56:22.052Z"
   },
   {
    "duration": 23,
    "start_time": "2022-02-20T07:56:56.693Z"
   },
   {
    "duration": 6,
    "start_time": "2022-02-20T07:57:15.434Z"
   },
   {
    "duration": 983,
    "start_time": "2022-02-20T07:57:51.480Z"
   },
   {
    "duration": 347,
    "start_time": "2022-02-20T07:57:52.464Z"
   },
   {
    "duration": 16,
    "start_time": "2022-02-20T07:57:52.813Z"
   },
   {
    "duration": 20,
    "start_time": "2022-02-20T07:57:52.831Z"
   },
   {
    "duration": 105,
    "start_time": "2022-02-20T07:57:52.852Z"
   },
   {
    "duration": 13,
    "start_time": "2022-02-20T07:57:52.959Z"
   },
   {
    "duration": 16,
    "start_time": "2022-02-20T07:57:52.974Z"
   },
   {
    "duration": 80,
    "start_time": "2022-02-20T07:57:52.992Z"
   },
   {
    "duration": 10,
    "start_time": "2022-02-20T07:57:53.074Z"
   },
   {
    "duration": 16,
    "start_time": "2022-02-20T07:57:53.086Z"
   },
   {
    "duration": 39,
    "start_time": "2022-02-20T07:57:53.119Z"
   },
   {
    "duration": 7,
    "start_time": "2022-02-20T07:57:53.160Z"
   },
   {
    "duration": 7,
    "start_time": "2022-02-20T07:57:53.168Z"
   },
   {
    "duration": 15,
    "start_time": "2022-02-20T07:57:53.176Z"
   },
   {
    "duration": 25,
    "start_time": "2022-02-20T07:57:53.193Z"
   },
   {
    "duration": 5,
    "start_time": "2022-02-20T07:57:53.220Z"
   },
   {
    "duration": 28,
    "start_time": "2022-02-20T07:57:53.227Z"
   },
   {
    "duration": 20,
    "start_time": "2022-02-20T07:57:53.257Z"
   },
   {
    "duration": 42,
    "start_time": "2022-02-20T07:57:53.278Z"
   },
   {
    "duration": 5,
    "start_time": "2022-02-20T07:57:53.322Z"
   },
   {
    "duration": 7,
    "start_time": "2022-02-20T07:57:53.328Z"
   },
   {
    "duration": 24,
    "start_time": "2022-02-20T07:57:53.337Z"
   },
   {
    "duration": 5,
    "start_time": "2022-02-20T07:57:53.364Z"
   },
   {
    "duration": 19,
    "start_time": "2022-02-20T07:57:53.371Z"
   },
   {
    "duration": 46,
    "start_time": "2022-02-20T07:57:53.392Z"
   },
   {
    "duration": 5,
    "start_time": "2022-02-20T07:57:53.440Z"
   },
   {
    "duration": 19,
    "start_time": "2022-02-20T07:57:53.447Z"
   },
   {
    "duration": 16,
    "start_time": "2022-02-20T07:57:53.467Z"
   },
   {
    "duration": 6,
    "start_time": "2022-02-20T07:57:53.484Z"
   },
   {
    "duration": 29,
    "start_time": "2022-02-20T07:57:53.492Z"
   },
   {
    "duration": 8,
    "start_time": "2022-02-20T07:57:53.522Z"
   },
   {
    "duration": 21,
    "start_time": "2022-02-20T07:57:53.532Z"
   },
   {
    "duration": 3,
    "start_time": "2022-02-20T07:57:53.555Z"
   },
   {
    "duration": 14,
    "start_time": "2022-02-20T07:57:53.560Z"
   },
   {
    "duration": 46,
    "start_time": "2022-02-20T07:57:53.575Z"
   },
   {
    "duration": 7,
    "start_time": "2022-02-20T07:57:53.623Z"
   },
   {
    "duration": 4,
    "start_time": "2022-02-20T07:57:53.631Z"
   },
   {
    "duration": 4,
    "start_time": "2022-02-20T07:57:53.637Z"
   },
   {
    "duration": 83,
    "start_time": "2022-02-20T07:57:53.643Z"
   },
   {
    "duration": 3,
    "start_time": "2022-02-20T07:57:53.727Z"
   },
   {
    "duration": 7,
    "start_time": "2022-02-20T07:57:53.732Z"
   },
   {
    "duration": 7,
    "start_time": "2022-02-20T07:57:53.741Z"
   },
   {
    "duration": 15,
    "start_time": "2022-02-20T07:57:53.750Z"
   },
   {
    "duration": 9,
    "start_time": "2022-02-20T07:57:53.767Z"
   },
   {
    "duration": 57,
    "start_time": "2022-02-20T07:57:53.777Z"
   },
   {
    "duration": 3,
    "start_time": "2022-02-20T07:57:53.835Z"
   },
   {
    "duration": 4,
    "start_time": "2022-02-20T07:57:53.840Z"
   },
   {
    "duration": 4,
    "start_time": "2022-02-20T07:57:53.846Z"
   },
   {
    "duration": 8,
    "start_time": "2022-02-20T07:57:53.851Z"
   },
   {
    "duration": 35,
    "start_time": "2022-02-20T07:57:53.860Z"
   },
   {
    "duration": 24,
    "start_time": "2022-02-20T07:57:53.897Z"
   },
   {
    "duration": 479,
    "start_time": "2022-02-20T07:57:53.923Z"
   },
   {
    "duration": 7,
    "start_time": "2022-02-20T07:57:54.404Z"
   },
   {
    "duration": 17,
    "start_time": "2022-02-20T07:57:54.419Z"
   },
   {
    "duration": 125,
    "start_time": "2022-02-20T07:57:54.438Z"
   },
   {
    "duration": 9,
    "start_time": "2022-02-20T07:57:54.564Z"
   },
   {
    "duration": 10,
    "start_time": "2022-02-20T07:57:54.575Z"
   },
   {
    "duration": 34,
    "start_time": "2022-02-20T07:57:54.587Z"
   },
   {
    "duration": 5,
    "start_time": "2022-02-20T07:57:54.623Z"
   },
   {
    "duration": 399,
    "start_time": "2022-02-20T07:57:54.630Z"
   },
   {
    "duration": 10,
    "start_time": "2022-02-20T07:57:55.031Z"
   },
   {
    "duration": 10,
    "start_time": "2022-02-20T07:57:55.043Z"
   },
   {
    "duration": 8,
    "start_time": "2022-02-20T07:57:55.055Z"
   },
   {
    "duration": 360,
    "start_time": "2022-02-20T07:57:55.064Z"
   },
   {
    "duration": 9,
    "start_time": "2022-02-20T07:57:55.426Z"
   },
   {
    "duration": 8,
    "start_time": "2022-02-20T07:57:55.436Z"
   },
   {
    "duration": 8,
    "start_time": "2022-02-20T07:57:55.446Z"
   },
   {
    "duration": 417,
    "start_time": "2022-02-20T07:57:55.459Z"
   },
   {
    "duration": 9,
    "start_time": "2022-02-20T07:57:55.878Z"
   },
   {
    "duration": 10,
    "start_time": "2022-02-20T07:57:55.889Z"
   },
   {
    "duration": 20,
    "start_time": "2022-02-20T07:57:55.901Z"
   },
   {
    "duration": 8,
    "start_time": "2022-02-20T07:57:55.923Z"
   },
   {
    "duration": 128,
    "start_time": "2022-02-20T07:57:55.933Z"
   },
   {
    "duration": 392,
    "start_time": "2022-02-20T07:57:56.063Z"
   },
   {
    "duration": 9,
    "start_time": "2022-02-20T07:57:56.456Z"
   },
   {
    "duration": 4,
    "start_time": "2022-02-20T07:57:56.467Z"
   },
   {
    "duration": 6,
    "start_time": "2022-02-20T07:57:56.472Z"
   },
   {
    "duration": 9,
    "start_time": "2022-02-20T07:57:56.480Z"
   },
   {
    "duration": 30,
    "start_time": "2022-02-20T07:57:56.491Z"
   },
   {
    "duration": 5,
    "start_time": "2022-02-20T07:57:56.522Z"
   },
   {
    "duration": 6,
    "start_time": "2022-02-20T08:00:30.708Z"
   },
   {
    "duration": 6,
    "start_time": "2022-02-20T08:00:53.514Z"
   },
   {
    "duration": 6,
    "start_time": "2022-02-20T08:01:11.552Z"
   },
   {
    "duration": 1038,
    "start_time": "2022-02-20T08:01:25.942Z"
   },
   {
    "duration": 354,
    "start_time": "2022-02-20T08:01:26.982Z"
   },
   {
    "duration": 16,
    "start_time": "2022-02-20T08:01:27.338Z"
   },
   {
    "duration": 21,
    "start_time": "2022-02-20T08:01:27.356Z"
   },
   {
    "duration": 99,
    "start_time": "2022-02-20T08:01:27.379Z"
   },
   {
    "duration": 12,
    "start_time": "2022-02-20T08:01:27.480Z"
   },
   {
    "duration": 32,
    "start_time": "2022-02-20T08:01:27.494Z"
   },
   {
    "duration": 66,
    "start_time": "2022-02-20T08:01:27.528Z"
   },
   {
    "duration": 26,
    "start_time": "2022-02-20T08:01:27.596Z"
   },
   {
    "duration": 14,
    "start_time": "2022-02-20T08:01:27.624Z"
   },
   {
    "duration": 39,
    "start_time": "2022-02-20T08:01:27.640Z"
   },
   {
    "duration": 8,
    "start_time": "2022-02-20T08:01:27.681Z"
   },
   {
    "duration": 30,
    "start_time": "2022-02-20T08:01:27.691Z"
   },
   {
    "duration": 12,
    "start_time": "2022-02-20T08:01:27.723Z"
   },
   {
    "duration": 6,
    "start_time": "2022-02-20T08:01:27.737Z"
   },
   {
    "duration": 6,
    "start_time": "2022-02-20T08:01:27.745Z"
   },
   {
    "duration": 27,
    "start_time": "2022-02-20T08:01:27.753Z"
   },
   {
    "duration": 49,
    "start_time": "2022-02-20T08:01:27.782Z"
   },
   {
    "duration": 18,
    "start_time": "2022-02-20T08:01:27.833Z"
   },
   {
    "duration": 4,
    "start_time": "2022-02-20T08:01:27.852Z"
   },
   {
    "duration": 6,
    "start_time": "2022-02-20T08:01:27.857Z"
   },
   {
    "duration": 25,
    "start_time": "2022-02-20T08:01:27.865Z"
   },
   {
    "duration": 29,
    "start_time": "2022-02-20T08:01:27.894Z"
   },
   {
    "duration": 21,
    "start_time": "2022-02-20T08:01:27.925Z"
   },
   {
    "duration": 24,
    "start_time": "2022-02-20T08:01:27.948Z"
   },
   {
    "duration": 18,
    "start_time": "2022-02-20T08:01:27.974Z"
   },
   {
    "duration": 36,
    "start_time": "2022-02-20T08:01:27.994Z"
   },
   {
    "duration": 7,
    "start_time": "2022-02-20T08:01:28.031Z"
   },
   {
    "duration": 8,
    "start_time": "2022-02-20T08:01:28.039Z"
   },
   {
    "duration": 11,
    "start_time": "2022-02-20T08:01:28.049Z"
   },
   {
    "duration": 23,
    "start_time": "2022-02-20T08:01:28.062Z"
   },
   {
    "duration": 3,
    "start_time": "2022-02-20T08:01:28.120Z"
   },
   {
    "duration": 19,
    "start_time": "2022-02-20T08:01:28.125Z"
   },
   {
    "duration": 19,
    "start_time": "2022-02-20T08:01:28.146Z"
   },
   {
    "duration": 6,
    "start_time": "2022-02-20T08:01:28.167Z"
   },
   {
    "duration": 10,
    "start_time": "2022-02-20T08:01:28.174Z"
   },
   {
    "duration": 5,
    "start_time": "2022-02-20T08:01:28.186Z"
   },
   {
    "duration": 93,
    "start_time": "2022-02-20T08:01:28.193Z"
   },
   {
    "duration": 3,
    "start_time": "2022-02-20T08:01:28.288Z"
   },
   {
    "duration": 6,
    "start_time": "2022-02-20T08:01:28.293Z"
   },
   {
    "duration": 21,
    "start_time": "2022-02-20T08:01:28.301Z"
   },
   {
    "duration": 15,
    "start_time": "2022-02-20T08:01:28.324Z"
   },
   {
    "duration": 29,
    "start_time": "2022-02-20T08:01:28.341Z"
   },
   {
    "duration": 31,
    "start_time": "2022-02-20T08:01:28.372Z"
   },
   {
    "duration": 4,
    "start_time": "2022-02-20T08:01:28.404Z"
   },
   {
    "duration": 10,
    "start_time": "2022-02-20T08:01:28.409Z"
   },
   {
    "duration": 3,
    "start_time": "2022-02-20T08:01:28.420Z"
   },
   {
    "duration": 8,
    "start_time": "2022-02-20T08:01:28.425Z"
   },
   {
    "duration": 40,
    "start_time": "2022-02-20T08:01:28.435Z"
   },
   {
    "duration": 4,
    "start_time": "2022-02-20T08:01:28.476Z"
   },
   {
    "duration": 500,
    "start_time": "2022-02-20T08:01:28.481Z"
   },
   {
    "duration": 7,
    "start_time": "2022-02-20T08:01:28.983Z"
   },
   {
    "duration": 29,
    "start_time": "2022-02-20T08:01:28.992Z"
   },
   {
    "duration": 119,
    "start_time": "2022-02-20T08:01:29.022Z"
   },
   {
    "duration": 9,
    "start_time": "2022-02-20T08:01:29.142Z"
   },
   {
    "duration": 9,
    "start_time": "2022-02-20T08:01:29.153Z"
   },
   {
    "duration": 8,
    "start_time": "2022-02-20T08:01:29.164Z"
   },
   {
    "duration": 4,
    "start_time": "2022-02-20T08:01:29.173Z"
   },
   {
    "duration": 426,
    "start_time": "2022-02-20T08:01:29.179Z"
   },
   {
    "duration": 19,
    "start_time": "2022-02-20T08:01:29.607Z"
   },
   {
    "duration": 9,
    "start_time": "2022-02-20T08:01:29.627Z"
   },
   {
    "duration": 9,
    "start_time": "2022-02-20T08:01:29.637Z"
   },
   {
    "duration": 361,
    "start_time": "2022-02-20T08:01:29.647Z"
   },
   {
    "duration": 15,
    "start_time": "2022-02-20T08:01:30.009Z"
   },
   {
    "duration": 11,
    "start_time": "2022-02-20T08:01:30.025Z"
   },
   {
    "duration": 9,
    "start_time": "2022-02-20T08:01:30.037Z"
   },
   {
    "duration": 390,
    "start_time": "2022-02-20T08:01:30.047Z"
   },
   {
    "duration": 9,
    "start_time": "2022-02-20T08:01:30.442Z"
   },
   {
    "duration": 24,
    "start_time": "2022-02-20T08:01:30.453Z"
   },
   {
    "duration": 30,
    "start_time": "2022-02-20T08:01:30.479Z"
   },
   {
    "duration": 47,
    "start_time": "2022-02-20T08:01:30.510Z"
   },
   {
    "duration": 130,
    "start_time": "2022-02-20T08:01:30.559Z"
   },
   {
    "duration": 377,
    "start_time": "2022-02-20T08:01:30.691Z"
   },
   {
    "duration": 10,
    "start_time": "2022-02-20T08:01:31.070Z"
   },
   {
    "duration": 5,
    "start_time": "2022-02-20T08:01:31.082Z"
   },
   {
    "duration": 6,
    "start_time": "2022-02-20T08:01:31.089Z"
   },
   {
    "duration": 9,
    "start_time": "2022-02-20T08:01:31.119Z"
   },
   {
    "duration": 5,
    "start_time": "2022-02-20T08:01:31.130Z"
   },
   {
    "duration": 14,
    "start_time": "2022-02-20T08:01:31.137Z"
   },
   {
    "duration": 6,
    "start_time": "2022-02-20T08:09:56.151Z"
   },
   {
    "duration": 4,
    "start_time": "2022-02-20T08:10:02.720Z"
   },
   {
    "duration": 4,
    "start_time": "2022-02-20T08:11:31.323Z"
   },
   {
    "duration": 8,
    "start_time": "2022-02-20T08:13:36.151Z"
   },
   {
    "duration": 4,
    "start_time": "2022-02-20T08:14:16.364Z"
   },
   {
    "duration": 7,
    "start_time": "2022-02-20T08:14:40.866Z"
   },
   {
    "duration": 23,
    "start_time": "2022-02-20T08:15:32.786Z"
   },
   {
    "duration": 20,
    "start_time": "2022-02-20T08:15:46.151Z"
   },
   {
    "duration": 991,
    "start_time": "2022-02-20T08:18:25.985Z"
   },
   {
    "duration": 365,
    "start_time": "2022-02-20T08:18:26.978Z"
   },
   {
    "duration": 17,
    "start_time": "2022-02-20T08:18:27.345Z"
   },
   {
    "duration": 21,
    "start_time": "2022-02-20T08:18:27.364Z"
   },
   {
    "duration": 96,
    "start_time": "2022-02-20T08:18:27.387Z"
   },
   {
    "duration": 13,
    "start_time": "2022-02-20T08:18:27.484Z"
   },
   {
    "duration": 28,
    "start_time": "2022-02-20T08:18:27.498Z"
   },
   {
    "duration": 61,
    "start_time": "2022-02-20T08:18:27.528Z"
   },
   {
    "duration": 10,
    "start_time": "2022-02-20T08:18:27.592Z"
   },
   {
    "duration": 12,
    "start_time": "2022-02-20T08:18:27.620Z"
   },
   {
    "duration": 37,
    "start_time": "2022-02-20T08:18:27.634Z"
   },
   {
    "duration": 8,
    "start_time": "2022-02-20T08:18:27.673Z"
   },
   {
    "duration": 6,
    "start_time": "2022-02-20T08:18:27.683Z"
   },
   {
    "duration": 10,
    "start_time": "2022-02-20T08:18:27.719Z"
   },
   {
    "duration": 6,
    "start_time": "2022-02-20T08:18:27.731Z"
   },
   {
    "duration": 8,
    "start_time": "2022-02-20T08:18:27.739Z"
   },
   {
    "duration": 27,
    "start_time": "2022-02-20T08:18:27.749Z"
   },
   {
    "duration": 49,
    "start_time": "2022-02-20T08:18:27.777Z"
   },
   {
    "duration": 16,
    "start_time": "2022-02-20T08:18:27.828Z"
   },
   {
    "duration": 4,
    "start_time": "2022-02-20T08:18:27.846Z"
   },
   {
    "duration": 7,
    "start_time": "2022-02-20T08:18:27.851Z"
   },
   {
    "duration": 23,
    "start_time": "2022-02-20T08:18:27.859Z"
   },
   {
    "duration": 5,
    "start_time": "2022-02-20T08:18:27.883Z"
   },
   {
    "duration": 43,
    "start_time": "2022-02-20T08:18:27.889Z"
   },
   {
    "duration": 23,
    "start_time": "2022-02-20T08:18:27.934Z"
   },
   {
    "duration": 17,
    "start_time": "2022-02-20T08:18:27.958Z"
   },
   {
    "duration": 15,
    "start_time": "2022-02-20T08:18:27.978Z"
   },
   {
    "duration": 26,
    "start_time": "2022-02-20T08:18:27.995Z"
   },
   {
    "duration": 6,
    "start_time": "2022-02-20T08:18:28.022Z"
   },
   {
    "duration": 9,
    "start_time": "2022-02-20T08:18:28.030Z"
   },
   {
    "duration": 21,
    "start_time": "2022-02-20T08:18:28.041Z"
   },
   {
    "duration": 2,
    "start_time": "2022-02-20T08:18:28.064Z"
   },
   {
    "duration": 16,
    "start_time": "2022-02-20T08:18:28.067Z"
   },
   {
    "duration": 44,
    "start_time": "2022-02-20T08:18:28.084Z"
   },
   {
    "duration": 9,
    "start_time": "2022-02-20T08:18:28.129Z"
   },
   {
    "duration": 3,
    "start_time": "2022-02-20T08:18:28.140Z"
   },
   {
    "duration": 7,
    "start_time": "2022-02-20T08:18:28.145Z"
   },
   {
    "duration": 114,
    "start_time": "2022-02-20T08:18:28.153Z"
   },
   {
    "duration": 4,
    "start_time": "2022-02-20T08:18:28.269Z"
   },
   {
    "duration": 6,
    "start_time": "2022-02-20T08:18:28.275Z"
   },
   {
    "duration": 10,
    "start_time": "2022-02-20T08:18:28.283Z"
   },
   {
    "duration": 28,
    "start_time": "2022-02-20T08:18:28.295Z"
   },
   {
    "duration": 9,
    "start_time": "2022-02-20T08:18:28.324Z"
   },
   {
    "duration": 30,
    "start_time": "2022-02-20T08:18:28.334Z"
   },
   {
    "duration": 5,
    "start_time": "2022-02-20T08:18:28.365Z"
   },
   {
    "duration": 13,
    "start_time": "2022-02-20T08:18:28.372Z"
   },
   {
    "duration": 6,
    "start_time": "2022-02-20T08:18:28.387Z"
   },
   {
    "duration": 28,
    "start_time": "2022-02-20T08:18:28.395Z"
   },
   {
    "duration": 41,
    "start_time": "2022-02-20T08:18:28.425Z"
   },
   {
    "duration": 4,
    "start_time": "2022-02-20T08:18:28.468Z"
   },
   {
    "duration": 470,
    "start_time": "2022-02-20T08:18:28.473Z"
   },
   {
    "duration": 9,
    "start_time": "2022-02-20T08:18:28.944Z"
   },
   {
    "duration": 21,
    "start_time": "2022-02-20T08:18:28.955Z"
   },
   {
    "duration": 126,
    "start_time": "2022-02-20T08:18:28.978Z"
   },
   {
    "duration": 13,
    "start_time": "2022-02-20T08:18:29.106Z"
   },
   {
    "duration": 9,
    "start_time": "2022-02-20T08:18:29.120Z"
   },
   {
    "duration": 9,
    "start_time": "2022-02-20T08:18:29.130Z"
   },
   {
    "duration": 5,
    "start_time": "2022-02-20T08:18:29.141Z"
   },
   {
    "duration": 424,
    "start_time": "2022-02-20T08:18:29.148Z"
   },
   {
    "duration": 11,
    "start_time": "2022-02-20T08:18:29.574Z"
   },
   {
    "duration": 10,
    "start_time": "2022-02-20T08:18:29.586Z"
   },
   {
    "duration": 27,
    "start_time": "2022-02-20T08:18:29.598Z"
   },
   {
    "duration": 348,
    "start_time": "2022-02-20T08:18:29.627Z"
   },
   {
    "duration": 10,
    "start_time": "2022-02-20T08:18:29.977Z"
   },
   {
    "duration": 9,
    "start_time": "2022-02-20T08:18:29.988Z"
   },
   {
    "duration": 26,
    "start_time": "2022-02-20T08:18:29.999Z"
   },
   {
    "duration": 398,
    "start_time": "2022-02-20T08:18:30.027Z"
   },
   {
    "duration": 10,
    "start_time": "2022-02-20T08:18:30.426Z"
   },
   {
    "duration": 16,
    "start_time": "2022-02-20T08:18:30.437Z"
   },
   {
    "duration": 5,
    "start_time": "2022-02-20T08:18:30.455Z"
   },
   {
    "duration": 21,
    "start_time": "2022-02-20T08:18:30.461Z"
   },
   {
    "duration": 130,
    "start_time": "2022-02-20T08:18:30.484Z"
   },
   {
    "duration": 396,
    "start_time": "2022-02-20T08:18:30.616Z"
   },
   {
    "duration": 14,
    "start_time": "2022-02-20T08:18:31.013Z"
   },
   {
    "duration": 4,
    "start_time": "2022-02-20T08:18:31.028Z"
   },
   {
    "duration": 7,
    "start_time": "2022-02-20T08:18:31.033Z"
   },
   {
    "duration": 19,
    "start_time": "2022-02-20T08:18:31.041Z"
   },
   {
    "duration": 4,
    "start_time": "2022-02-20T08:18:31.061Z"
   },
   {
    "duration": 14,
    "start_time": "2022-02-20T08:18:31.066Z"
   },
   {
    "duration": 358,
    "start_time": "2022-02-20T08:18:52.186Z"
   },
   {
    "duration": 5,
    "start_time": "2022-02-20T08:19:08.882Z"
   },
   {
    "duration": 340,
    "start_time": "2022-02-20T08:19:12.142Z"
   },
   {
    "duration": 1071,
    "start_time": "2022-02-20T08:21:38.686Z"
   },
   {
    "duration": 346,
    "start_time": "2022-02-20T08:21:39.759Z"
   },
   {
    "duration": 18,
    "start_time": "2022-02-20T08:21:40.107Z"
   },
   {
    "duration": 22,
    "start_time": "2022-02-20T08:21:40.127Z"
   },
   {
    "duration": 108,
    "start_time": "2022-02-20T08:21:40.151Z"
   },
   {
    "duration": 14,
    "start_time": "2022-02-20T08:21:40.261Z"
   },
   {
    "duration": 16,
    "start_time": "2022-02-20T08:21:40.277Z"
   },
   {
    "duration": 81,
    "start_time": "2022-02-20T08:21:40.296Z"
   },
   {
    "duration": 10,
    "start_time": "2022-02-20T08:21:40.379Z"
   },
   {
    "duration": 31,
    "start_time": "2022-02-20T08:21:40.391Z"
   },
   {
    "duration": 39,
    "start_time": "2022-02-20T08:21:40.424Z"
   },
   {
    "duration": 8,
    "start_time": "2022-02-20T08:21:40.464Z"
   },
   {
    "duration": 8,
    "start_time": "2022-02-20T08:21:40.473Z"
   },
   {
    "duration": 11,
    "start_time": "2022-02-20T08:21:40.483Z"
   },
   {
    "duration": 7,
    "start_time": "2022-02-20T08:21:40.519Z"
   },
   {
    "duration": 8,
    "start_time": "2022-02-20T08:21:40.528Z"
   },
   {
    "duration": 27,
    "start_time": "2022-02-20T08:21:40.537Z"
   },
   {
    "duration": 20,
    "start_time": "2022-02-20T08:21:40.565Z"
   },
   {
    "duration": 45,
    "start_time": "2022-02-20T08:21:40.587Z"
   },
   {
    "duration": 4,
    "start_time": "2022-02-20T08:21:40.634Z"
   },
   {
    "duration": 7,
    "start_time": "2022-02-20T08:21:40.640Z"
   },
   {
    "duration": 25,
    "start_time": "2022-02-20T08:21:40.648Z"
   },
   {
    "duration": 5,
    "start_time": "2022-02-20T08:21:40.677Z"
   },
   {
    "duration": 44,
    "start_time": "2022-02-20T08:21:40.684Z"
   },
   {
    "duration": 23,
    "start_time": "2022-02-20T08:21:40.730Z"
   },
   {
    "duration": 19,
    "start_time": "2022-02-20T08:21:40.755Z"
   },
   {
    "duration": 17,
    "start_time": "2022-02-20T08:21:40.776Z"
   },
   {
    "duration": 27,
    "start_time": "2022-02-20T08:21:40.794Z"
   },
   {
    "duration": 6,
    "start_time": "2022-02-20T08:21:40.823Z"
   },
   {
    "duration": 10,
    "start_time": "2022-02-20T08:21:40.831Z"
   },
   {
    "duration": 22,
    "start_time": "2022-02-20T08:21:40.843Z"
   },
   {
    "duration": 2,
    "start_time": "2022-02-20T08:21:40.867Z"
   },
   {
    "duration": 48,
    "start_time": "2022-02-20T08:21:40.871Z"
   },
   {
    "duration": 18,
    "start_time": "2022-02-20T08:21:40.920Z"
   },
   {
    "duration": 8,
    "start_time": "2022-02-20T08:21:40.939Z"
   },
   {
    "duration": 3,
    "start_time": "2022-02-20T08:21:40.948Z"
   },
   {
    "duration": 6,
    "start_time": "2022-02-20T08:21:40.953Z"
   },
   {
    "duration": 87,
    "start_time": "2022-02-20T08:21:40.961Z"
   },
   {
    "duration": 4,
    "start_time": "2022-02-20T08:21:41.049Z"
   },
   {
    "duration": 4,
    "start_time": "2022-02-20T08:21:41.055Z"
   },
   {
    "duration": 7,
    "start_time": "2022-02-20T08:21:41.061Z"
   },
   {
    "duration": 15,
    "start_time": "2022-02-20T08:21:41.069Z"
   },
   {
    "duration": 36,
    "start_time": "2022-02-20T08:21:41.085Z"
   },
   {
    "duration": 32,
    "start_time": "2022-02-20T08:21:41.122Z"
   },
   {
    "duration": 4,
    "start_time": "2022-02-20T08:21:41.155Z"
   },
   {
    "duration": 5,
    "start_time": "2022-02-20T08:21:41.160Z"
   },
   {
    "duration": 5,
    "start_time": "2022-02-20T08:21:41.166Z"
   },
   {
    "duration": 7,
    "start_time": "2022-02-20T08:21:41.173Z"
   },
   {
    "duration": 69,
    "start_time": "2022-02-20T08:21:41.182Z"
   },
   {
    "duration": 5,
    "start_time": "2022-02-20T08:21:41.253Z"
   },
   {
    "duration": 459,
    "start_time": "2022-02-20T08:21:41.260Z"
   },
   {
    "duration": 10,
    "start_time": "2022-02-20T08:21:41.720Z"
   },
   {
    "duration": 16,
    "start_time": "2022-02-20T08:21:41.732Z"
   },
   {
    "duration": 127,
    "start_time": "2022-02-20T08:21:41.750Z"
   },
   {
    "duration": 9,
    "start_time": "2022-02-20T08:21:41.878Z"
   },
   {
    "duration": 9,
    "start_time": "2022-02-20T08:21:41.889Z"
   },
   {
    "duration": 26,
    "start_time": "2022-02-20T08:21:41.899Z"
   },
   {
    "duration": 4,
    "start_time": "2022-02-20T08:21:41.927Z"
   },
   {
    "duration": 353,
    "start_time": "2022-02-20T08:21:41.933Z"
   },
   {
    "duration": 11,
    "start_time": "2022-02-20T08:21:42.288Z"
   },
   {
    "duration": 21,
    "start_time": "2022-02-20T08:21:42.303Z"
   },
   {
    "duration": 8,
    "start_time": "2022-02-20T08:21:42.326Z"
   },
   {
    "duration": 335,
    "start_time": "2022-02-20T08:21:42.335Z"
   },
   {
    "duration": 8,
    "start_time": "2022-02-20T08:21:42.672Z"
   },
   {
    "duration": 9,
    "start_time": "2022-02-20T08:21:42.682Z"
   },
   {
    "duration": 9,
    "start_time": "2022-02-20T08:21:42.719Z"
   },
   {
    "duration": 633,
    "start_time": "2022-02-20T08:21:42.729Z"
   },
   {
    "duration": 9,
    "start_time": "2022-02-20T08:21:43.366Z"
   },
   {
    "duration": 9,
    "start_time": "2022-02-20T08:21:43.377Z"
   },
   {
    "duration": 10,
    "start_time": "2022-02-20T08:21:43.387Z"
   },
   {
    "duration": 26,
    "start_time": "2022-02-20T08:21:43.398Z"
   },
   {
    "duration": 122,
    "start_time": "2022-02-20T08:21:43.426Z"
   },
   {
    "duration": 395,
    "start_time": "2022-02-20T08:21:43.549Z"
   },
   {
    "duration": 9,
    "start_time": "2022-02-20T08:21:43.945Z"
   },
   {
    "duration": 4,
    "start_time": "2022-02-20T08:21:43.956Z"
   },
   {
    "duration": 6,
    "start_time": "2022-02-20T08:21:43.962Z"
   },
   {
    "duration": 11,
    "start_time": "2022-02-20T08:21:43.970Z"
   },
   {
    "duration": 4,
    "start_time": "2022-02-20T08:21:43.982Z"
   },
   {
    "duration": 35,
    "start_time": "2022-02-20T08:21:43.987Z"
   },
   {
    "duration": 1046,
    "start_time": "2022-02-20T08:32:21.627Z"
   },
   {
    "duration": 364,
    "start_time": "2022-02-20T08:32:22.675Z"
   },
   {
    "duration": 19,
    "start_time": "2022-02-20T08:32:23.041Z"
   },
   {
    "duration": 21,
    "start_time": "2022-02-20T08:32:23.062Z"
   },
   {
    "duration": 100,
    "start_time": "2022-02-20T08:32:23.085Z"
   },
   {
    "duration": 14,
    "start_time": "2022-02-20T08:32:23.186Z"
   },
   {
    "duration": 29,
    "start_time": "2022-02-20T08:32:23.201Z"
   },
   {
    "duration": 64,
    "start_time": "2022-02-20T08:32:23.232Z"
   },
   {
    "duration": 27,
    "start_time": "2022-02-20T08:32:23.299Z"
   },
   {
    "duration": 14,
    "start_time": "2022-02-20T08:32:23.328Z"
   },
   {
    "duration": 40,
    "start_time": "2022-02-20T08:32:23.343Z"
   },
   {
    "duration": 8,
    "start_time": "2022-02-20T08:32:23.385Z"
   },
   {
    "duration": 6,
    "start_time": "2022-02-20T08:32:23.419Z"
   },
   {
    "duration": 13,
    "start_time": "2022-02-20T08:32:23.427Z"
   },
   {
    "duration": 7,
    "start_time": "2022-02-20T08:32:23.441Z"
   },
   {
    "duration": 9,
    "start_time": "2022-02-20T08:32:23.450Z"
   },
   {
    "duration": 27,
    "start_time": "2022-02-20T08:32:23.461Z"
   },
   {
    "duration": 46,
    "start_time": "2022-02-20T08:32:23.489Z"
   },
   {
    "duration": 18,
    "start_time": "2022-02-20T08:32:23.537Z"
   },
   {
    "duration": 4,
    "start_time": "2022-02-20T08:32:23.557Z"
   },
   {
    "duration": 10,
    "start_time": "2022-02-20T08:32:23.562Z"
   },
   {
    "duration": 25,
    "start_time": "2022-02-20T08:32:23.573Z"
   },
   {
    "duration": 5,
    "start_time": "2022-02-20T08:32:23.620Z"
   },
   {
    "duration": 20,
    "start_time": "2022-02-20T08:32:23.627Z"
   },
   {
    "duration": 24,
    "start_time": "2022-02-20T08:32:23.648Z"
   },
   {
    "duration": 17,
    "start_time": "2022-02-20T08:32:23.674Z"
   },
   {
    "duration": 15,
    "start_time": "2022-02-20T08:32:23.719Z"
   },
   {
    "duration": 7,
    "start_time": "2022-02-20T08:32:23.737Z"
   },
   {
    "duration": 6,
    "start_time": "2022-02-20T08:32:23.746Z"
   },
   {
    "duration": 13,
    "start_time": "2022-02-20T08:32:23.753Z"
   },
   {
    "duration": 51,
    "start_time": "2022-02-20T08:32:23.768Z"
   },
   {
    "duration": 3,
    "start_time": "2022-02-20T08:32:23.820Z"
   },
   {
    "duration": 15,
    "start_time": "2022-02-20T08:32:23.825Z"
   },
   {
    "duration": 18,
    "start_time": "2022-02-20T08:32:23.842Z"
   },
   {
    "duration": 8,
    "start_time": "2022-02-20T08:32:23.861Z"
   },
   {
    "duration": 3,
    "start_time": "2022-02-20T08:32:23.870Z"
   },
   {
    "duration": 7,
    "start_time": "2022-02-20T08:32:23.875Z"
   },
   {
    "duration": 49,
    "start_time": "2022-02-20T08:32:23.883Z"
   },
   {
    "duration": 3,
    "start_time": "2022-02-20T08:32:23.934Z"
   },
   {
    "duration": 5,
    "start_time": "2022-02-20T08:32:23.939Z"
   },
   {
    "duration": 5,
    "start_time": "2022-02-20T08:32:23.946Z"
   },
   {
    "duration": 18,
    "start_time": "2022-02-20T08:32:23.952Z"
   },
   {
    "duration": 11,
    "start_time": "2022-02-20T08:32:23.971Z"
   },
   {
    "duration": 35,
    "start_time": "2022-02-20T08:32:23.984Z"
   },
   {
    "duration": 4,
    "start_time": "2022-02-20T08:32:24.021Z"
   },
   {
    "duration": 13,
    "start_time": "2022-02-20T08:32:24.027Z"
   },
   {
    "duration": 7,
    "start_time": "2022-02-20T08:32:24.041Z"
   },
   {
    "duration": 9,
    "start_time": "2022-02-20T08:32:24.050Z"
   },
   {
    "duration": 34,
    "start_time": "2022-02-20T08:32:24.061Z"
   },
   {
    "duration": 24,
    "start_time": "2022-02-20T08:32:24.097Z"
   },
   {
    "duration": 204,
    "start_time": "2022-02-20T08:32:24.123Z"
   },
   {
    "duration": 9,
    "start_time": "2022-02-20T08:32:24.328Z"
   },
   {
    "duration": 17,
    "start_time": "2022-02-20T08:32:24.338Z"
   },
   {
    "duration": 145,
    "start_time": "2022-02-20T08:32:24.357Z"
   },
   {
    "duration": 16,
    "start_time": "2022-02-20T08:32:24.504Z"
   },
   {
    "duration": 9,
    "start_time": "2022-02-20T08:32:24.521Z"
   },
   {
    "duration": 9,
    "start_time": "2022-02-20T08:32:24.531Z"
   },
   {
    "duration": 4,
    "start_time": "2022-02-20T08:32:24.542Z"
   },
   {
    "duration": 428,
    "start_time": "2022-02-20T08:32:24.548Z"
   },
   {
    "duration": 12,
    "start_time": "2022-02-20T08:32:24.978Z"
   },
   {
    "duration": 28,
    "start_time": "2022-02-20T08:32:24.992Z"
   },
   {
    "duration": 12,
    "start_time": "2022-02-20T08:32:25.022Z"
   },
   {
    "duration": 358,
    "start_time": "2022-02-20T08:32:25.036Z"
   },
   {
    "duration": 9,
    "start_time": "2022-02-20T08:32:25.396Z"
   },
   {
    "duration": 9,
    "start_time": "2022-02-20T08:32:25.419Z"
   },
   {
    "duration": 8,
    "start_time": "2022-02-20T08:32:25.430Z"
   },
   {
    "duration": 358,
    "start_time": "2022-02-20T08:32:25.440Z"
   },
   {
    "duration": 9,
    "start_time": "2022-02-20T08:32:25.800Z"
   },
   {
    "duration": 9,
    "start_time": "2022-02-20T08:32:25.820Z"
   },
   {
    "duration": 5,
    "start_time": "2022-02-20T08:32:25.831Z"
   },
   {
    "duration": 9,
    "start_time": "2022-02-20T08:32:25.838Z"
   },
   {
    "duration": 150,
    "start_time": "2022-02-20T08:32:25.849Z"
   },
   {
    "duration": 400,
    "start_time": "2022-02-20T08:32:26.000Z"
   },
   {
    "duration": 9,
    "start_time": "2022-02-20T08:32:26.401Z"
   },
   {
    "duration": 4,
    "start_time": "2022-02-20T08:32:26.418Z"
   },
   {
    "duration": 6,
    "start_time": "2022-02-20T08:32:26.423Z"
   },
   {
    "duration": 9,
    "start_time": "2022-02-20T08:32:26.431Z"
   },
   {
    "duration": 7,
    "start_time": "2022-02-20T08:32:26.441Z"
   },
   {
    "duration": 8,
    "start_time": "2022-02-20T08:32:26.450Z"
   },
   {
    "duration": 6,
    "start_time": "2022-02-20T08:35:12.576Z"
   },
   {
    "duration": 1034,
    "start_time": "2022-02-20T08:35:53.035Z"
   },
   {
    "duration": 349,
    "start_time": "2022-02-20T08:35:54.071Z"
   },
   {
    "duration": 18,
    "start_time": "2022-02-20T08:35:54.422Z"
   },
   {
    "duration": 20,
    "start_time": "2022-02-20T08:35:54.441Z"
   },
   {
    "duration": 116,
    "start_time": "2022-02-20T08:35:54.463Z"
   },
   {
    "duration": 13,
    "start_time": "2022-02-20T08:35:54.581Z"
   },
   {
    "duration": 28,
    "start_time": "2022-02-20T08:35:54.596Z"
   },
   {
    "duration": 62,
    "start_time": "2022-02-20T08:35:54.627Z"
   },
   {
    "duration": 10,
    "start_time": "2022-02-20T08:35:54.691Z"
   },
   {
    "duration": 14,
    "start_time": "2022-02-20T08:35:54.719Z"
   },
   {
    "duration": 42,
    "start_time": "2022-02-20T08:35:54.735Z"
   },
   {
    "duration": 7,
    "start_time": "2022-02-20T08:35:54.779Z"
   },
   {
    "duration": 32,
    "start_time": "2022-02-20T08:35:54.788Z"
   },
   {
    "duration": 10,
    "start_time": "2022-02-20T08:35:54.822Z"
   },
   {
    "duration": 8,
    "start_time": "2022-02-20T08:35:54.834Z"
   },
   {
    "duration": 7,
    "start_time": "2022-02-20T08:35:54.843Z"
   },
   {
    "duration": 28,
    "start_time": "2022-02-20T08:35:54.852Z"
   },
   {
    "duration": 48,
    "start_time": "2022-02-20T08:35:54.882Z"
   },
   {
    "duration": 18,
    "start_time": "2022-02-20T08:35:54.931Z"
   },
   {
    "duration": 4,
    "start_time": "2022-02-20T08:35:54.951Z"
   },
   {
    "duration": 10,
    "start_time": "2022-02-20T08:35:54.956Z"
   },
   {
    "duration": 25,
    "start_time": "2022-02-20T08:35:54.968Z"
   },
   {
    "duration": 24,
    "start_time": "2022-02-20T08:35:54.997Z"
   },
   {
    "duration": 20,
    "start_time": "2022-02-20T08:35:55.024Z"
   },
   {
    "duration": 22,
    "start_time": "2022-02-20T08:35:55.045Z"
   },
   {
    "duration": 16,
    "start_time": "2022-02-20T08:35:55.069Z"
   },
   {
    "duration": 38,
    "start_time": "2022-02-20T08:35:55.087Z"
   },
   {
    "duration": 6,
    "start_time": "2022-02-20T08:35:55.127Z"
   },
   {
    "duration": 8,
    "start_time": "2022-02-20T08:35:55.134Z"
   },
   {
    "duration": 13,
    "start_time": "2022-02-20T08:35:55.143Z"
   },
   {
    "duration": 20,
    "start_time": "2022-02-20T08:35:55.158Z"
   },
   {
    "duration": 3,
    "start_time": "2022-02-20T08:35:55.179Z"
   },
   {
    "duration": 44,
    "start_time": "2022-02-20T08:35:55.183Z"
   },
   {
    "duration": 16,
    "start_time": "2022-02-20T08:35:55.229Z"
   },
   {
    "duration": 8,
    "start_time": "2022-02-20T08:35:55.247Z"
   },
   {
    "duration": 3,
    "start_time": "2022-02-20T08:35:55.257Z"
   },
   {
    "duration": 5,
    "start_time": "2022-02-20T08:35:55.262Z"
   },
   {
    "duration": 23,
    "start_time": "2022-02-20T08:35:55.268Z"
   },
   {
    "duration": 28,
    "start_time": "2022-02-20T08:35:55.293Z"
   },
   {
    "duration": 5,
    "start_time": "2022-02-20T08:35:55.322Z"
   },
   {
    "duration": 5,
    "start_time": "2022-02-20T08:35:55.329Z"
   },
   {
    "duration": 17,
    "start_time": "2022-02-20T08:35:55.335Z"
   },
   {
    "duration": 8,
    "start_time": "2022-02-20T08:35:55.354Z"
   },
   {
    "duration": 9,
    "start_time": "2022-02-20T08:35:55.363Z"
   },
   {
    "duration": 3,
    "start_time": "2022-02-20T08:35:55.374Z"
   },
   {
    "duration": 41,
    "start_time": "2022-02-20T08:35:55.378Z"
   },
   {
    "duration": 3,
    "start_time": "2022-02-20T08:35:55.421Z"
   },
   {
    "duration": 10,
    "start_time": "2022-02-20T08:35:55.426Z"
   },
   {
    "duration": 33,
    "start_time": "2022-02-20T08:35:55.437Z"
   },
   {
    "duration": 4,
    "start_time": "2022-02-20T08:35:55.472Z"
   },
   {
    "duration": 233,
    "start_time": "2022-02-20T08:35:55.478Z"
   },
   {
    "duration": 19,
    "start_time": "2022-02-20T08:35:55.719Z"
   },
   {
    "duration": 19,
    "start_time": "2022-02-20T08:35:55.740Z"
   },
   {
    "duration": 131,
    "start_time": "2022-02-20T08:35:55.762Z"
   },
   {
    "duration": 8,
    "start_time": "2022-02-20T08:35:55.895Z"
   },
   {
    "duration": 18,
    "start_time": "2022-02-20T08:35:55.904Z"
   },
   {
    "duration": 9,
    "start_time": "2022-02-20T08:35:55.924Z"
   },
   {
    "duration": 5,
    "start_time": "2022-02-20T08:35:55.935Z"
   },
   {
    "duration": 421,
    "start_time": "2022-02-20T08:35:55.941Z"
   },
   {
    "duration": 9,
    "start_time": "2022-02-20T08:35:56.364Z"
   },
   {
    "duration": 10,
    "start_time": "2022-02-20T08:35:56.375Z"
   },
   {
    "duration": 8,
    "start_time": "2022-02-20T08:35:56.387Z"
   },
   {
    "duration": 340,
    "start_time": "2022-02-20T08:35:56.419Z"
   },
   {
    "duration": 8,
    "start_time": "2022-02-20T08:35:56.761Z"
   },
   {
    "duration": 14,
    "start_time": "2022-02-20T08:35:56.771Z"
   },
   {
    "duration": 9,
    "start_time": "2022-02-20T08:35:56.786Z"
   },
   {
    "duration": 366,
    "start_time": "2022-02-20T08:35:56.797Z"
   },
   {
    "duration": 9,
    "start_time": "2022-02-20T08:35:57.167Z"
   },
   {
    "duration": 8,
    "start_time": "2022-02-20T08:35:57.178Z"
   },
   {
    "duration": 33,
    "start_time": "2022-02-20T08:35:57.188Z"
   },
   {
    "duration": 9,
    "start_time": "2022-02-20T08:35:57.222Z"
   },
   {
    "duration": 123,
    "start_time": "2022-02-20T08:35:57.233Z"
   },
   {
    "duration": 385,
    "start_time": "2022-02-20T08:35:57.358Z"
   },
   {
    "duration": 10,
    "start_time": "2022-02-20T08:35:57.745Z"
   },
   {
    "duration": 4,
    "start_time": "2022-02-20T08:35:57.757Z"
   },
   {
    "duration": 5,
    "start_time": "2022-02-20T08:35:57.763Z"
   },
   {
    "duration": 8,
    "start_time": "2022-02-20T08:35:57.770Z"
   },
   {
    "duration": 42,
    "start_time": "2022-02-20T08:35:57.779Z"
   },
   {
    "duration": 7,
    "start_time": "2022-02-20T08:35:57.823Z"
   },
   {
    "duration": 5,
    "start_time": "2022-02-20T08:45:19.108Z"
   },
   {
    "duration": 6,
    "start_time": "2022-02-20T08:48:30.257Z"
   },
   {
    "duration": 1112,
    "start_time": "2022-02-20T08:50:12.556Z"
   },
   {
    "duration": 411,
    "start_time": "2022-02-20T08:50:13.669Z"
   },
   {
    "duration": 17,
    "start_time": "2022-02-20T08:50:14.081Z"
   },
   {
    "duration": 25,
    "start_time": "2022-02-20T08:50:14.100Z"
   },
   {
    "duration": 119,
    "start_time": "2022-02-20T08:50:14.127Z"
   },
   {
    "duration": 13,
    "start_time": "2022-02-20T08:50:14.249Z"
   },
   {
    "duration": 16,
    "start_time": "2022-02-20T08:50:14.263Z"
   },
   {
    "duration": 100,
    "start_time": "2022-02-20T08:50:14.281Z"
   },
   {
    "duration": 10,
    "start_time": "2022-02-20T08:50:14.384Z"
   },
   {
    "duration": 39,
    "start_time": "2022-02-20T08:50:14.396Z"
   },
   {
    "duration": 49,
    "start_time": "2022-02-20T08:50:14.438Z"
   },
   {
    "duration": 7,
    "start_time": "2022-02-20T08:50:14.489Z"
   },
   {
    "duration": 28,
    "start_time": "2022-02-20T08:50:14.498Z"
   },
   {
    "duration": 18,
    "start_time": "2022-02-20T08:50:14.528Z"
   },
   {
    "duration": 6,
    "start_time": "2022-02-20T08:50:14.548Z"
   },
   {
    "duration": 8,
    "start_time": "2022-02-20T08:50:14.556Z"
   },
   {
    "duration": 28,
    "start_time": "2022-02-20T08:50:14.566Z"
   },
   {
    "duration": 52,
    "start_time": "2022-02-20T08:50:14.595Z"
   },
   {
    "duration": 19,
    "start_time": "2022-02-20T08:50:14.649Z"
   },
   {
    "duration": 4,
    "start_time": "2022-02-20T08:50:14.669Z"
   },
   {
    "duration": 5,
    "start_time": "2022-02-20T08:50:14.675Z"
   },
   {
    "duration": 42,
    "start_time": "2022-02-20T08:50:14.682Z"
   },
   {
    "duration": 8,
    "start_time": "2022-02-20T08:50:14.726Z"
   },
   {
    "duration": 24,
    "start_time": "2022-02-20T08:50:14.737Z"
   },
   {
    "duration": 24,
    "start_time": "2022-02-20T08:50:14.763Z"
   },
   {
    "duration": 51,
    "start_time": "2022-02-20T08:50:14.789Z"
   },
   {
    "duration": 15,
    "start_time": "2022-02-20T08:50:14.846Z"
   },
   {
    "duration": 6,
    "start_time": "2022-02-20T08:50:14.864Z"
   },
   {
    "duration": 6,
    "start_time": "2022-02-20T08:50:14.871Z"
   },
   {
    "duration": 43,
    "start_time": "2022-02-20T08:50:14.878Z"
   },
   {
    "duration": 27,
    "start_time": "2022-02-20T08:50:14.923Z"
   },
   {
    "duration": 3,
    "start_time": "2022-02-20T08:50:14.952Z"
   },
   {
    "duration": 13,
    "start_time": "2022-02-20T08:50:14.957Z"
   },
   {
    "duration": 19,
    "start_time": "2022-02-20T08:50:14.972Z"
   },
   {
    "duration": 28,
    "start_time": "2022-02-20T08:50:14.992Z"
   },
   {
    "duration": 8,
    "start_time": "2022-02-20T08:50:15.022Z"
   },
   {
    "duration": 23,
    "start_time": "2022-02-20T08:50:15.033Z"
   },
   {
    "duration": 23,
    "start_time": "2022-02-20T08:50:15.057Z"
   },
   {
    "duration": 4,
    "start_time": "2022-02-20T08:50:15.082Z"
   },
   {
    "duration": 5,
    "start_time": "2022-02-20T08:50:15.088Z"
   },
   {
    "duration": 32,
    "start_time": "2022-02-20T08:50:15.095Z"
   },
   {
    "duration": 32,
    "start_time": "2022-02-20T08:50:15.129Z"
   },
   {
    "duration": 9,
    "start_time": "2022-02-20T08:50:15.163Z"
   },
   {
    "duration": 8,
    "start_time": "2022-02-20T08:50:15.173Z"
   },
   {
    "duration": 4,
    "start_time": "2022-02-20T08:50:15.182Z"
   },
   {
    "duration": 5,
    "start_time": "2022-02-20T08:50:15.187Z"
   },
   {
    "duration": 4,
    "start_time": "2022-02-20T08:50:15.193Z"
   },
   {
    "duration": 25,
    "start_time": "2022-02-20T08:50:15.199Z"
   },
   {
    "duration": 41,
    "start_time": "2022-02-20T08:50:15.226Z"
   },
   {
    "duration": 3,
    "start_time": "2022-02-20T08:50:15.269Z"
   },
   {
    "duration": 228,
    "start_time": "2022-02-20T08:50:15.274Z"
   },
   {
    "duration": 7,
    "start_time": "2022-02-20T08:50:15.504Z"
   },
   {
    "duration": 23,
    "start_time": "2022-02-20T08:50:15.513Z"
   },
   {
    "duration": 126,
    "start_time": "2022-02-20T08:50:15.538Z"
   },
   {
    "duration": 8,
    "start_time": "2022-02-20T08:50:15.666Z"
   },
   {
    "duration": 9,
    "start_time": "2022-02-20T08:50:15.676Z"
   },
   {
    "duration": 9,
    "start_time": "2022-02-20T08:50:15.686Z"
   },
   {
    "duration": 30,
    "start_time": "2022-02-20T08:50:15.697Z"
   },
   {
    "duration": 426,
    "start_time": "2022-02-20T08:50:15.728Z"
   },
   {
    "duration": 10,
    "start_time": "2022-02-20T08:50:16.156Z"
   },
   {
    "duration": 9,
    "start_time": "2022-02-20T08:50:16.168Z"
   },
   {
    "duration": 8,
    "start_time": "2022-02-20T08:50:16.179Z"
   },
   {
    "duration": 380,
    "start_time": "2022-02-20T08:50:16.188Z"
   },
   {
    "duration": 9,
    "start_time": "2022-02-20T08:50:16.570Z"
   },
   {
    "duration": 11,
    "start_time": "2022-02-20T08:50:16.580Z"
   },
   {
    "duration": 39,
    "start_time": "2022-02-20T08:50:16.592Z"
   },
   {
    "duration": 352,
    "start_time": "2022-02-20T08:50:16.632Z"
   },
   {
    "duration": 8,
    "start_time": "2022-02-20T08:50:16.986Z"
   },
   {
    "duration": 28,
    "start_time": "2022-02-20T08:50:16.996Z"
   },
   {
    "duration": 7,
    "start_time": "2022-02-20T08:50:17.030Z"
   },
   {
    "duration": 10,
    "start_time": "2022-02-20T08:50:17.039Z"
   },
   {
    "duration": 128,
    "start_time": "2022-02-20T08:50:17.051Z"
   },
   {
    "duration": 438,
    "start_time": "2022-02-20T08:50:17.181Z"
   },
   {
    "duration": 11,
    "start_time": "2022-02-20T08:50:17.621Z"
   },
   {
    "duration": 4,
    "start_time": "2022-02-20T08:50:17.635Z"
   },
   {
    "duration": 5,
    "start_time": "2022-02-20T08:50:17.641Z"
   },
   {
    "duration": 8,
    "start_time": "2022-02-20T08:50:17.648Z"
   },
   {
    "duration": 5,
    "start_time": "2022-02-20T08:50:17.657Z"
   },
   {
    "duration": 63,
    "start_time": "2022-02-20T08:50:17.664Z"
   },
   {
    "duration": 1014,
    "start_time": "2022-02-20T08:57:20.748Z"
   },
   {
    "duration": 354,
    "start_time": "2022-02-20T08:57:21.764Z"
   },
   {
    "duration": 16,
    "start_time": "2022-02-20T08:57:22.120Z"
   },
   {
    "duration": 18,
    "start_time": "2022-02-20T08:57:22.138Z"
   },
   {
    "duration": 111,
    "start_time": "2022-02-20T08:57:22.158Z"
   },
   {
    "duration": 13,
    "start_time": "2022-02-20T08:57:22.271Z"
   },
   {
    "duration": 19,
    "start_time": "2022-02-20T08:57:22.285Z"
   },
   {
    "duration": 62,
    "start_time": "2022-02-20T08:57:22.320Z"
   },
   {
    "duration": 10,
    "start_time": "2022-02-20T08:57:22.384Z"
   },
   {
    "duration": 32,
    "start_time": "2022-02-20T08:57:22.396Z"
   },
   {
    "duration": 42,
    "start_time": "2022-02-20T08:57:22.430Z"
   },
   {
    "duration": 8,
    "start_time": "2022-02-20T08:57:22.474Z"
   },
   {
    "duration": 8,
    "start_time": "2022-02-20T08:57:22.483Z"
   },
   {
    "duration": 33,
    "start_time": "2022-02-20T08:57:22.492Z"
   },
   {
    "duration": 9,
    "start_time": "2022-02-20T08:57:22.527Z"
   },
   {
    "duration": 7,
    "start_time": "2022-02-20T08:57:22.537Z"
   },
   {
    "duration": 28,
    "start_time": "2022-02-20T08:57:22.546Z"
   },
   {
    "duration": 42,
    "start_time": "2022-02-20T08:57:22.577Z"
   },
   {
    "duration": 18,
    "start_time": "2022-02-20T08:57:22.621Z"
   },
   {
    "duration": 4,
    "start_time": "2022-02-20T08:57:22.641Z"
   },
   {
    "duration": 8,
    "start_time": "2022-02-20T08:57:22.646Z"
   },
   {
    "duration": 24,
    "start_time": "2022-02-20T08:57:22.656Z"
   },
   {
    "duration": 4,
    "start_time": "2022-02-20T08:57:22.684Z"
   },
   {
    "duration": 44,
    "start_time": "2022-02-20T08:57:22.690Z"
   },
   {
    "duration": 24,
    "start_time": "2022-02-20T08:57:22.736Z"
   },
   {
    "duration": 17,
    "start_time": "2022-02-20T08:57:22.762Z"
   },
   {
    "duration": 38,
    "start_time": "2022-02-20T08:57:22.781Z"
   },
   {
    "duration": 8,
    "start_time": "2022-02-20T08:57:22.820Z"
   },
   {
    "duration": 6,
    "start_time": "2022-02-20T08:57:22.829Z"
   },
   {
    "duration": 13,
    "start_time": "2022-02-20T08:57:22.837Z"
   },
   {
    "duration": 20,
    "start_time": "2022-02-20T08:57:22.852Z"
   },
   {
    "duration": 3,
    "start_time": "2022-02-20T08:57:22.874Z"
   },
   {
    "duration": 41,
    "start_time": "2022-02-20T08:57:22.878Z"
   },
   {
    "duration": 19,
    "start_time": "2022-02-20T08:57:22.921Z"
   },
   {
    "duration": 9,
    "start_time": "2022-02-20T08:57:22.942Z"
   },
   {
    "duration": 4,
    "start_time": "2022-02-20T08:57:22.953Z"
   },
   {
    "duration": 5,
    "start_time": "2022-02-20T08:57:22.959Z"
   },
   {
    "duration": 54,
    "start_time": "2022-02-20T08:57:22.965Z"
   },
   {
    "duration": 4,
    "start_time": "2022-02-20T08:57:23.021Z"
   },
   {
    "duration": 5,
    "start_time": "2022-02-20T08:57:23.027Z"
   },
   {
    "duration": 7,
    "start_time": "2022-02-20T08:57:23.033Z"
   },
   {
    "duration": 16,
    "start_time": "2022-02-20T08:57:23.042Z"
   },
   {
    "duration": 17,
    "start_time": "2022-02-20T08:57:23.060Z"
   },
   {
    "duration": 8,
    "start_time": "2022-02-20T08:57:23.079Z"
   },
   {
    "duration": 32,
    "start_time": "2022-02-20T08:57:23.089Z"
   },
   {
    "duration": 4,
    "start_time": "2022-02-20T08:57:23.123Z"
   },
   {
    "duration": 5,
    "start_time": "2022-02-20T08:57:23.129Z"
   },
   {
    "duration": 9,
    "start_time": "2022-02-20T08:57:23.135Z"
   },
   {
    "duration": 34,
    "start_time": "2022-02-20T08:57:23.145Z"
   },
   {
    "duration": 5,
    "start_time": "2022-02-20T08:57:23.181Z"
   },
   {
    "duration": 220,
    "start_time": "2022-02-20T08:57:23.187Z"
   },
   {
    "duration": 10,
    "start_time": "2022-02-20T08:57:23.409Z"
   },
   {
    "duration": 15,
    "start_time": "2022-02-20T08:57:23.421Z"
   },
   {
    "duration": 131,
    "start_time": "2022-02-20T08:57:23.438Z"
   },
   {
    "duration": 8,
    "start_time": "2022-02-20T08:57:23.570Z"
   },
   {
    "duration": 15,
    "start_time": "2022-02-20T08:57:23.579Z"
   },
   {
    "duration": 24,
    "start_time": "2022-02-20T08:57:23.595Z"
   },
   {
    "duration": 5,
    "start_time": "2022-02-20T08:57:23.621Z"
   },
   {
    "duration": 398,
    "start_time": "2022-02-20T08:57:23.627Z"
   },
   {
    "duration": 10,
    "start_time": "2022-02-20T08:57:24.026Z"
   },
   {
    "duration": 14,
    "start_time": "2022-02-20T08:57:24.038Z"
   },
   {
    "duration": 9,
    "start_time": "2022-02-20T08:57:24.055Z"
   },
   {
    "duration": 355,
    "start_time": "2022-02-20T08:57:24.066Z"
   },
   {
    "duration": 10,
    "start_time": "2022-02-20T08:57:24.423Z"
   },
   {
    "duration": 10,
    "start_time": "2022-02-20T08:57:24.435Z"
   },
   {
    "duration": 9,
    "start_time": "2022-02-20T08:57:24.447Z"
   },
   {
    "duration": 364,
    "start_time": "2022-02-20T08:57:24.458Z"
   },
   {
    "duration": 10,
    "start_time": "2022-02-20T08:57:24.826Z"
   },
   {
    "duration": 10,
    "start_time": "2022-02-20T08:57:24.838Z"
   },
   {
    "duration": 6,
    "start_time": "2022-02-20T08:57:24.850Z"
   },
   {
    "duration": 10,
    "start_time": "2022-02-20T08:57:24.858Z"
   },
   {
    "duration": 156,
    "start_time": "2022-02-20T08:57:24.869Z"
   },
   {
    "duration": 393,
    "start_time": "2022-02-20T08:57:25.027Z"
   },
   {
    "duration": 10,
    "start_time": "2022-02-20T08:57:25.422Z"
   },
   {
    "duration": 5,
    "start_time": "2022-02-20T08:57:25.434Z"
   },
   {
    "duration": 6,
    "start_time": "2022-02-20T08:57:25.441Z"
   },
   {
    "duration": 16,
    "start_time": "2022-02-20T08:57:25.449Z"
   },
   {
    "duration": 11,
    "start_time": "2022-02-20T08:57:25.467Z"
   },
   {
    "duration": 10,
    "start_time": "2022-02-20T08:57:25.479Z"
   }
  ],
  "kernelspec": {
   "display_name": "Python 3 (ipykernel)",
   "language": "python",
   "name": "python3"
  },
  "language_info": {
   "codemirror_mode": {
    "name": "ipython",
    "version": 3
   },
   "file_extension": ".py",
   "mimetype": "text/x-python",
   "name": "python",
   "nbconvert_exporter": "python",
   "pygments_lexer": "ipython3",
   "version": "3.9.10"
  },
  "toc": {
   "base_numbering": 1,
   "nav_menu": {},
   "number_sections": true,
   "sideBar": true,
   "skip_h1_title": true,
   "title_cell": "Table of Contents",
   "title_sidebar": "Contents",
   "toc_cell": false,
   "toc_position": {
    "height": "calc(100% - 180px)",
    "left": "10px",
    "top": "150px",
    "width": "358.188px"
   },
   "toc_section_display": true,
   "toc_window_display": true
  }
 },
 "nbformat": 4,
 "nbformat_minor": 2
}
