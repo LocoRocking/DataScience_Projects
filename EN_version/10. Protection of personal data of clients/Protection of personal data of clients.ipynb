{
 "cells": [
  {
   "cell_type": "markdown",
   "metadata": {},
   "source": [
    "# Protection of personal data of clients"
   ]
  },
  {
   "cell_type": "markdown",
   "metadata": {},
   "source": [
    "You need to protect the data of customers of the insurance company \"Though the Flood\". Develop a data transformation method that makes it difficult to recover personal information from it. Justify the correctness of his work.\n",
    "\n",
    "You need to protect the data so that the quality of the machine learning models does not deteriorate during the transformation. There is no need to select the best model."
   ]
  },
  {
   "cell_type": "markdown",
   "metadata": {},
   "source": [
    "<font size = 3><b>Data Description</b></font>\n",
    "- <b>Features</b>: sex, age and salary of the insured, the number of members of his family.\n",
    "- <b>Target feature</b>: the number of insurance payments to the client over the past 5 years."
   ]
  },
  {
   "cell_type": "markdown",
   "metadata": {},
   "source": [
    "## Loading data"
   ]
  },
  {
   "cell_type": "code",
   "execution_count": 1,
   "metadata": {},
   "outputs": [],
   "source": [
    "#import the necessary libraries\n",
    "import pandas as pd\n",
    "import numpy as np\n",
    "\n",
    "from sklearn.model_selection import train_test_split\n",
    "from sklearn.linear_model import LinearRegression\n",
    "from sklearn.metrics import r2_score"
   ]
  },
  {
   "cell_type": "code",
   "execution_count": 2,
   "metadata": {},
   "outputs": [],
   "source": [
    "#load our dataset\n",
    "df = pd.read_csv('/datasets/insurance.csv')"
   ]
  },
  {
   "cell_type": "code",
   "execution_count": 3,
   "metadata": {},
   "outputs": [
    {
     "data": {
      "text/html": [
       "<div>\n",
       "<style scoped>\n",
       "    .dataframe tbody tr th:only-of-type {\n",
       "        vertical-align: middle;\n",
       "    }\n",
       "\n",
       "    .dataframe tbody tr th {\n",
       "        vertical-align: top;\n",
       "    }\n",
       "\n",
       "    .dataframe thead th {\n",
       "        text-align: right;\n",
       "    }\n",
       "</style>\n",
       "<table border=\"1\" class=\"dataframe\">\n",
       "  <thead>\n",
       "    <tr style=\"text-align: right;\">\n",
       "      <th></th>\n",
       "      <th>Пол</th>\n",
       "      <th>Возраст</th>\n",
       "      <th>Зарплата</th>\n",
       "      <th>Члены семьи</th>\n",
       "      <th>Страховые выплаты</th>\n",
       "    </tr>\n",
       "  </thead>\n",
       "  <tbody>\n",
       "    <tr>\n",
       "      <th>4251</th>\n",
       "      <td>0</td>\n",
       "      <td>18.0</td>\n",
       "      <td>25500.0</td>\n",
       "      <td>2</td>\n",
       "      <td>0</td>\n",
       "    </tr>\n",
       "    <tr>\n",
       "      <th>3011</th>\n",
       "      <td>1</td>\n",
       "      <td>36.0</td>\n",
       "      <td>68500.0</td>\n",
       "      <td>1</td>\n",
       "      <td>0</td>\n",
       "    </tr>\n",
       "    <tr>\n",
       "      <th>3828</th>\n",
       "      <td>0</td>\n",
       "      <td>32.0</td>\n",
       "      <td>32000.0</td>\n",
       "      <td>0</td>\n",
       "      <td>0</td>\n",
       "    </tr>\n",
       "    <tr>\n",
       "      <th>1357</th>\n",
       "      <td>0</td>\n",
       "      <td>29.0</td>\n",
       "      <td>38600.0</td>\n",
       "      <td>2</td>\n",
       "      <td>0</td>\n",
       "    </tr>\n",
       "    <tr>\n",
       "      <th>3060</th>\n",
       "      <td>0</td>\n",
       "      <td>20.0</td>\n",
       "      <td>36600.0</td>\n",
       "      <td>1</td>\n",
       "      <td>0</td>\n",
       "    </tr>\n",
       "  </tbody>\n",
       "</table>\n",
       "</div>"
      ],
      "text/plain": [
       "      Пол  Возраст  Зарплата  Члены семьи  Страховые выплаты\n",
       "4251    0     18.0   25500.0            2                  0\n",
       "3011    1     36.0   68500.0            1                  0\n",
       "3828    0     32.0   32000.0            0                  0\n",
       "1357    0     29.0   38600.0            2                  0\n",
       "3060    0     20.0   36600.0            1                  0"
      ]
     },
     "execution_count": 3,
     "metadata": {},
     "output_type": "execute_result"
    }
   ],
   "source": [
    "#look at the data\n",
    "df.sample(5)"
   ]
  },
  {
   "cell_type": "code",
   "execution_count": 4,
   "metadata": {},
   "outputs": [
    {
     "name": "stdout",
     "output_type": "stream",
     "text": [
      "<class 'pandas.core.frame.DataFrame'>\n",
      "RangeIndex: 5000 entries, 0 to 4999\n",
      "Data columns (total 5 columns):\n",
      " #   Column             Non-Null Count  Dtype  \n",
      "---  ------             --------------  -----  \n",
      " 0   Пол                5000 non-null   int64  \n",
      " 1   Возраст            5000 non-null   float64\n",
      " 2   Зарплата           5000 non-null   float64\n",
      " 3   Члены семьи        5000 non-null   int64  \n",
      " 4   Страховые выплаты  5000 non-null   int64  \n",
      "dtypes: float64(2), int64(3)\n",
      "memory usage: 195.4 KB\n"
     ]
    }
   ],
   "source": [
    "#and see general information about the dataset\n",
    "df.info()"
   ]
  },
  {
   "cell_type": "markdown",
   "metadata": {},
   "source": [
    "We have 3 `int64` format columns and 2 `float64` format columns. As you can see, the `Age` and `Salary` columns have zeros after the comma, so we can convert these columns to integer format as well."
   ]
  },
  {
   "cell_type": "code",
   "execution_count": 5,
   "metadata": {
    "scrolled": true
   },
   "outputs": [
    {
     "name": "stdout",
     "output_type": "stream",
     "text": [
      "<class 'pandas.core.frame.DataFrame'>\n",
      "RangeIndex: 5000 entries, 0 to 4999\n",
      "Data columns (total 5 columns):\n",
      " #   Column             Non-Null Count  Dtype\n",
      "---  ------             --------------  -----\n",
      " 0   Пол                5000 non-null   int32\n",
      " 1   Возраст            5000 non-null   int32\n",
      " 2   Зарплата           5000 non-null   int32\n",
      " 3   Члены семьи        5000 non-null   int32\n",
      " 4   Страховые выплаты  5000 non-null   int32\n",
      "dtypes: int32(5)\n",
      "memory usage: 97.8 KB\n"
     ]
    }
   ],
   "source": [
    "df = df.astype(int)\n",
    "df.info()"
   ]
  },
  {
   "cell_type": "code",
   "execution_count": 6,
   "metadata": {},
   "outputs": [
    {
     "name": "stdout",
     "output_type": "stream",
     "text": [
      "Number of duplicates: 153 what is 3.06 percent of the dataset.\n"
     ]
    }
   ],
   "source": [
    "#look at the number of duplicates\n",
    "print('Number of duplicates:', df.duplicated().sum(),\n",
    "      'what is', (df.duplicated().sum()/len(df))*100, 'percent of the dataset.')"
   ]
  },
  {
   "cell_type": "markdown",
   "metadata": {},
   "source": [
    "Although it is not entirely clear whether these are duplicates or coincidences, because the data is anonymized, but it is better to delete these duplicates, because their number is small and this deletion will not affect the results of the study."
   ]
  },
  {
   "cell_type": "code",
   "execution_count": 7,
   "metadata": {},
   "outputs": [
    {
     "name": "stdout",
     "output_type": "stream",
     "text": [
      "<class 'pandas.core.frame.DataFrame'>\n",
      "Int64Index: 4847 entries, 0 to 4999\n",
      "Data columns (total 5 columns):\n",
      " #   Column             Non-Null Count  Dtype\n",
      "---  ------             --------------  -----\n",
      " 0   Пол                4847 non-null   int32\n",
      " 1   Возраст            4847 non-null   int32\n",
      " 2   Зарплата           4847 non-null   int32\n",
      " 3   Члены семьи        4847 non-null   int32\n",
      " 4   Страховые выплаты  4847 non-null   int32\n",
      "dtypes: int32(5)\n",
      "memory usage: 132.5 KB\n"
     ]
    }
   ],
   "source": [
    "df.drop_duplicates(inplace=True)\n",
    "df.info()"
   ]
  },
  {
   "cell_type": "code",
   "execution_count": 8,
   "metadata": {},
   "outputs": [
    {
     "data": {
      "text/plain": [
       "Пол                  0\n",
       "Возраст              0\n",
       "Зарплата             0\n",
       "Члены семьи          0\n",
       "Страховые выплаты    0\n",
       "dtype: int64"
      ]
     },
     "execution_count": 8,
     "metadata": {},
     "output_type": "execute_result"
    }
   ],
   "source": [
    "#now check the dataset for gaps\n",
    "df.isna().sum()"
   ]
  },
  {
   "cell_type": "markdown",
   "metadata": {},
   "source": [
    "Let's look at a table with descriptive statistics and see if there are any anomalies in the data."
   ]
  },
  {
   "cell_type": "code",
   "execution_count": 9,
   "metadata": {},
   "outputs": [
    {
     "data": {
      "text/html": [
       "<div>\n",
       "<style scoped>\n",
       "    .dataframe tbody tr th:only-of-type {\n",
       "        vertical-align: middle;\n",
       "    }\n",
       "\n",
       "    .dataframe tbody tr th {\n",
       "        vertical-align: top;\n",
       "    }\n",
       "\n",
       "    .dataframe thead th {\n",
       "        text-align: right;\n",
       "    }\n",
       "</style>\n",
       "<table border=\"1\" class=\"dataframe\">\n",
       "  <thead>\n",
       "    <tr style=\"text-align: right;\">\n",
       "      <th></th>\n",
       "      <th>Пол</th>\n",
       "      <th>Возраст</th>\n",
       "      <th>Зарплата</th>\n",
       "      <th>Члены семьи</th>\n",
       "      <th>Страховые выплаты</th>\n",
       "    </tr>\n",
       "  </thead>\n",
       "  <tbody>\n",
       "    <tr>\n",
       "      <th>count</th>\n",
       "      <td>4847.000000</td>\n",
       "      <td>4847.000000</td>\n",
       "      <td>4847.000000</td>\n",
       "      <td>4847.000000</td>\n",
       "      <td>4847.000000</td>\n",
       "    </tr>\n",
       "    <tr>\n",
       "      <th>mean</th>\n",
       "      <td>0.498453</td>\n",
       "      <td>31.023932</td>\n",
       "      <td>39895.811223</td>\n",
       "      <td>1.203425</td>\n",
       "      <td>0.152259</td>\n",
       "    </tr>\n",
       "    <tr>\n",
       "      <th>std</th>\n",
       "      <td>0.500049</td>\n",
       "      <td>8.487995</td>\n",
       "      <td>9972.952441</td>\n",
       "      <td>1.098664</td>\n",
       "      <td>0.468934</td>\n",
       "    </tr>\n",
       "    <tr>\n",
       "      <th>min</th>\n",
       "      <td>0.000000</td>\n",
       "      <td>18.000000</td>\n",
       "      <td>5300.000000</td>\n",
       "      <td>0.000000</td>\n",
       "      <td>0.000000</td>\n",
       "    </tr>\n",
       "    <tr>\n",
       "      <th>25%</th>\n",
       "      <td>0.000000</td>\n",
       "      <td>24.000000</td>\n",
       "      <td>33200.000000</td>\n",
       "      <td>0.000000</td>\n",
       "      <td>0.000000</td>\n",
       "    </tr>\n",
       "    <tr>\n",
       "      <th>50%</th>\n",
       "      <td>0.000000</td>\n",
       "      <td>30.000000</td>\n",
       "      <td>40200.000000</td>\n",
       "      <td>1.000000</td>\n",
       "      <td>0.000000</td>\n",
       "    </tr>\n",
       "    <tr>\n",
       "      <th>75%</th>\n",
       "      <td>1.000000</td>\n",
       "      <td>37.000000</td>\n",
       "      <td>46600.000000</td>\n",
       "      <td>2.000000</td>\n",
       "      <td>0.000000</td>\n",
       "    </tr>\n",
       "    <tr>\n",
       "      <th>max</th>\n",
       "      <td>1.000000</td>\n",
       "      <td>65.000000</td>\n",
       "      <td>79000.000000</td>\n",
       "      <td>6.000000</td>\n",
       "      <td>5.000000</td>\n",
       "    </tr>\n",
       "  </tbody>\n",
       "</table>\n",
       "</div>"
      ],
      "text/plain": [
       "               Пол      Возраст      Зарплата  Члены семьи  Страховые выплаты\n",
       "count  4847.000000  4847.000000   4847.000000  4847.000000        4847.000000\n",
       "mean      0.498453    31.023932  39895.811223     1.203425           0.152259\n",
       "std       0.500049     8.487995   9972.952441     1.098664           0.468934\n",
       "min       0.000000    18.000000   5300.000000     0.000000           0.000000\n",
       "25%       0.000000    24.000000  33200.000000     0.000000           0.000000\n",
       "50%       0.000000    30.000000  40200.000000     1.000000           0.000000\n",
       "75%       1.000000    37.000000  46600.000000     2.000000           0.000000\n",
       "max       1.000000    65.000000  79000.000000     6.000000           5.000000"
      ]
     },
     "metadata": {},
     "output_type": "display_data"
    }
   ],
   "source": [
    "display(df.describe())"
   ]
  },
  {
   "cell_type": "markdown",
   "metadata": {},
   "source": [
    "Based on the table, there are no anomalies in the data.\n",
    "- In the \"Gender\" column, there are only two values, 0 and 1, which indicates the male and female gender;\n",
    "- The column \"Age\" indicates the age from 18 to 65 years, just the minimum and maximum age for the possibility of applying for most insurance products.\n",
    "- The \"Salary\" column contains values ​​from 5,300 rubles to 79,000 rubles, which indicates that the data was uploaded either many years ago, or it contains information mainly about small regions with a low level of income.\n",
    "- In the \"Family Members\" column, the values ​​are from 0 to 6, which are also absolutely normal values.\n",
    "- And in the column \"Insurance payments\" the number of applications for payments for the last 5 years is indicated, and as we can see, even in the third quintile the value is 0, the average value is only 0.148, and the maximum value is 5 applications, which indicates that the majority people do not apply for insurance payments."
   ]
  },
  {
   "cell_type": "code",
   "execution_count": 10,
   "metadata": {},
   "outputs": [
    {
     "data": {
      "text/plain": [
       "0    4284\n",
       "1     423\n",
       "2     114\n",
       "3      18\n",
       "4       7\n",
       "5       1\n",
       "Name: Страховые выплаты, dtype: int64"
      ]
     },
     "execution_count": 10,
     "metadata": {},
     "output_type": "execute_result"
    }
   ],
   "source": [
    "#let's look at the number of insurance payments in more detail\n",
    "df['Страховые выплаты'].value_counts()"
   ]
  },
  {
   "cell_type": "markdown",
   "metadata": {},
   "source": [
    "### Section Conclusion\n",
    "1. The dataset has 5000 rows and 5 columns.\n",
    "2. The entire dataset has been converted to `int32` format.\n",
    "3. 153 duplicates were found in the dataset and subsequently removed.\n",
    "4. There are no gaps in the dataset.\n",
    "\n",
    "<b>Our dataset is ready for research.</b>"
   ]
  },
  {
   "cell_type": "markdown",
   "metadata": {},
   "source": [
    "## Matrix multiplication"
   ]
  },
  {
   "cell_type": "markdown",
   "metadata": {},
   "source": [
    "Notation:\n",
    "\n",
    "- $X$ - feature matrix (zero column consists of ones)\n",
    "\n",
    "- $y$ - target feature vector\n",
    "\n",
    "- $P$ - the matrix by which features are multiplied\n",
    "\n",
    "- $w$ - vector of linear regression weights (zero element equals shift)"
   ]
  },
  {
   "cell_type": "markdown",
   "metadata": {},
   "source": [
    "Predictions:\n",
    "\n",
    "$$\n",
    "a = Xw\n",
    "$$\n",
    "\n",
    "Learning task:\n",
    "\n",
    "$$\n",
    "w = \\arg\\min_w MSE(Xw, y)\n",
    "$$\n",
    "\n",
    "Learning Formula:\n",
    "\n",
    "$$\n",
    "w = (X^T X)^{-1} X^T y\n",
    "$$"
   ]
  },
  {
   "cell_type": "markdown",
   "metadata": {},
   "source": [
    "**Question:**\n",
    "features are multiplied by an invertible matrix. Will the quality of linear regression change?\n",
    "\n",
    "**Answer:**\n",
    "the quality of the linear regression will not change.\n",
    "\n",
    "**Rationale:**"
   ]
  },
  {
   "cell_type": "markdown",
   "metadata": {},
   "source": [
    "Let's create a new feature matrix from our old $X$ matrix multiplied by the invertible $P$ matrix:\n",
    "\n",
    "$$\n",
    "X_p = X * P\n",
    "$$"
   ]
  },
  {
   "cell_type": "markdown",
   "metadata": {},
   "source": [
    "Now let's create a new weight vector using the property of transposed and invertible matrices, as well as the identity matrix $E$:\n",
    "\n",
    "$$\n",
    "w_p = ((XP)^T XP)^{-1} (XP)^T y = (P^T X^T XP)^{-1} P^T X^T y = (P^T(X^T X)P)^{-1} P^T X^T y = P^{-1}(X^T X)^{-1}(P^T)^{-1}  P^T X^T y = = P^{-1}(X^T X)^{-1}EX^T y = P^{-1}(X^T X)^{-1}X^T y\n",
    "$$"
   ]
  },
  {
   "cell_type": "markdown",
   "metadata": {},
   "source": [
    "The final formula is: $w_p = P^{-1}(X^T X)^{-1}X^T y$, wherein $(X^T X)^{-1}X^T y$ equal to learning formula $w$."
   ]
  },
  {
   "cell_type": "markdown",
   "metadata": {},
   "source": [
    "It turned out that $w_p = P^{-1}w$"
   ]
  },
  {
   "cell_type": "markdown",
   "metadata": {},
   "source": [
    "Now let's build a prediction according to the derived formula: $a_p = X_p w_p = X P P^{-1} w$.\n",
    "\n",
    "$P P^{-1}$ is equal to the identity matrix $E$ and it turns out that $a_p = XEw = Xw$"
   ]
  },
  {
   "cell_type": "markdown",
   "metadata": {},
   "source": [
    "And therefore $a = a_p$"
   ]
  },
  {
   "cell_type": "markdown",
   "metadata": {},
   "source": [
    "### Section Conclusion:\n",
    "When multiplying linear regression features by an invertible matrix, the quality of the model will not change."
   ]
  },
  {
   "cell_type": "markdown",
   "metadata": {},
   "source": [
    "## Conversion algorithm"
   ]
  },
  {
   "cell_type": "markdown",
   "metadata": {},
   "source": [
    "**Algorithm**\n",
    "\n",
    "To protect information, we multiply the feature matrix by the reversible matrix $P$, which is randomly generated.\n",
    "\n",
    "Algorithm steps:\n",
    "1. Creation of a random square invertible matrix with the number of columns that corresponds to the number of features.\n",
    "2. Checking the matrix for invertibility.\n",
    "3. Multiplication of the feature matrix by a random invertible matrix.\n",
    "4. Application of the model on the transformed features.\n",
    "5. Compare the R2 metrics on the original features and on the features multiplied by the invertible matrix."
   ]
  },
  {
   "cell_type": "markdown",
   "metadata": {},
   "source": [
    "**Rationale**\n",
    "\n",
    "As we found out above, an invertible matrix should not degrade the quality of the model."
   ]
  },
  {
   "cell_type": "markdown",
   "metadata": {},
   "source": [
    "## Algorithm verification"
   ]
  },
  {
   "cell_type": "code",
   "execution_count": 11,
   "metadata": {},
   "outputs": [],
   "source": [
    "#select the features and the target feature from the dataset\n",
    "features= df.drop('Страховые выплаты', axis=1)\n",
    "target = df['Страховые выплаты']"
   ]
  },
  {
   "cell_type": "code",
   "execution_count": 12,
   "metadata": {},
   "outputs": [
    {
     "name": "stdout",
     "output_type": "stream",
     "text": [
      "(3635, 4)\n",
      "(1212, 4)\n"
     ]
    }
   ],
   "source": [
    "#divide into training and test sets\n",
    "(features_train, features_test, target_train, target_test) =\\\n",
    "train_test_split(features, target, test_size = 0.25, random_state=12345)\n",
    "print(features_train.shape)\n",
    "print(features_test.shape)"
   ]
  },
  {
   "cell_type": "code",
   "execution_count": 13,
   "metadata": {},
   "outputs": [],
   "source": [
    "def score(features, target):\n",
    "    model = LinearRegression()\n",
    "    model.fit(features, target)\n",
    "    predictions = model.predict(features)\n",
    "    r2 = r2_score(target, predictions)\n",
    "    return r2"
   ]
  },
  {
   "cell_type": "code",
   "execution_count": 14,
   "metadata": {},
   "outputs": [
    {
     "name": "stdout",
     "output_type": "stream",
     "text": [
      "R2_score of the standard model: 0.43215820265809757\n"
     ]
    }
   ],
   "source": [
    "print('R2_score of the standard model:', score(features_train, target_train))"
   ]
  },
  {
   "cell_type": "markdown",
   "metadata": {},
   "source": [
    "Let's create a random 4x4 matrix because we have 4 features and the invertible matrix must be square."
   ]
  },
  {
   "cell_type": "code",
   "execution_count": 15,
   "metadata": {},
   "outputs": [],
   "source": [
    "def rnd_matrix(n):\n",
    "    random_matrix = np.random.normal(size=(4, 4))\n",
    "    try:\n",
    "        np.linalg.inv(random_matrix) #the operation of creating an inverse matrix is performed\n",
    "    except LinAlgError: #if an error occurs, i.e. inverse matrix does not exist, another attempt is made\n",
    "        rnd_matrix(n)\n",
    "    return random_matrix"
   ]
  },
  {
   "cell_type": "code",
   "execution_count": 16,
   "metadata": {},
   "outputs": [],
   "source": [
    "invert_matrix = rnd_matrix(10)"
   ]
  },
  {
   "cell_type": "markdown",
   "metadata": {},
   "source": [
    "The matrix is invertible. Now let's multiply the feature matrix by our random matrix $P$."
   ]
  },
  {
   "cell_type": "code",
   "execution_count": 17,
   "metadata": {},
   "outputs": [
    {
     "name": "stdout",
     "output_type": "stream",
     "text": [
      "(3635, 4)\n",
      "(1212, 4)\n"
     ]
    }
   ],
   "source": [
    "features_train_matrix = features_train @ invert_matrix\n",
    "features_test_matrix = features_test @ invert_matrix\n",
    "print(features_train_matrix.shape)\n",
    "print(features_test_matrix.shape)"
   ]
  },
  {
   "cell_type": "code",
   "execution_count": 18,
   "metadata": {},
   "outputs": [
    {
     "data": {
      "text/html": [
       "<div>\n",
       "<style scoped>\n",
       "    .dataframe tbody tr th:only-of-type {\n",
       "        vertical-align: middle;\n",
       "    }\n",
       "\n",
       "    .dataframe tbody tr th {\n",
       "        vertical-align: top;\n",
       "    }\n",
       "\n",
       "    .dataframe thead th {\n",
       "        text-align: right;\n",
       "    }\n",
       "</style>\n",
       "<table border=\"1\" class=\"dataframe\">\n",
       "  <thead>\n",
       "    <tr style=\"text-align: right;\">\n",
       "      <th></th>\n",
       "      <th>0</th>\n",
       "      <th>1</th>\n",
       "      <th>2</th>\n",
       "      <th>3</th>\n",
       "    </tr>\n",
       "  </thead>\n",
       "  <tbody>\n",
       "    <tr>\n",
       "      <th>3276</th>\n",
       "      <td>-21252.989164</td>\n",
       "      <td>7897.305473</td>\n",
       "      <td>-21162.869576</td>\n",
       "      <td>-13262.665168</td>\n",
       "    </tr>\n",
       "    <tr>\n",
       "      <th>1181</th>\n",
       "      <td>-16911.058479</td>\n",
       "      <td>6245.532620</td>\n",
       "      <td>-16835.978179</td>\n",
       "      <td>-10552.268596</td>\n",
       "    </tr>\n",
       "    <tr>\n",
       "      <th>1536</th>\n",
       "      <td>-31165.140885</td>\n",
       "      <td>11577.573899</td>\n",
       "      <td>-31034.477950</td>\n",
       "      <td>-19448.268589</td>\n",
       "    </tr>\n",
       "    <tr>\n",
       "      <th>4563</th>\n",
       "      <td>-36040.458276</td>\n",
       "      <td>13438.258338</td>\n",
       "      <td>-35896.378786</td>\n",
       "      <td>-22492.177977</td>\n",
       "    </tr>\n",
       "    <tr>\n",
       "      <th>3645</th>\n",
       "      <td>-16358.617730</td>\n",
       "      <td>6075.479714</td>\n",
       "      <td>-16287.603514</td>\n",
       "      <td>-10208.146652</td>\n",
       "    </tr>\n",
       "  </tbody>\n",
       "</table>\n",
       "</div>"
      ],
      "text/plain": [
       "                 0             1             2             3\n",
       "3276 -21252.989164   7897.305473 -21162.869576 -13262.665168\n",
       "1181 -16911.058479   6245.532620 -16835.978179 -10552.268596\n",
       "1536 -31165.140885  11577.573899 -31034.477950 -19448.268589\n",
       "4563 -36040.458276  13438.258338 -35896.378786 -22492.177977\n",
       "3645 -16358.617730   6075.479714 -16287.603514 -10208.146652"
      ]
     },
     "metadata": {},
     "output_type": "display_data"
    },
    {
     "data": {
      "text/html": [
       "<div>\n",
       "<style scoped>\n",
       "    .dataframe tbody tr th:only-of-type {\n",
       "        vertical-align: middle;\n",
       "    }\n",
       "\n",
       "    .dataframe tbody tr th {\n",
       "        vertical-align: top;\n",
       "    }\n",
       "\n",
       "    .dataframe thead th {\n",
       "        text-align: right;\n",
       "    }\n",
       "</style>\n",
       "<table border=\"1\" class=\"dataframe\">\n",
       "  <thead>\n",
       "    <tr style=\"text-align: right;\">\n",
       "      <th></th>\n",
       "      <th>0</th>\n",
       "      <th>1</th>\n",
       "      <th>2</th>\n",
       "      <th>3</th>\n",
       "    </tr>\n",
       "  </thead>\n",
       "  <tbody>\n",
       "    <tr>\n",
       "      <th>561</th>\n",
       "      <td>-25123.408109</td>\n",
       "      <td>9361.850884</td>\n",
       "      <td>-25021.531045</td>\n",
       "      <td>-15678.717988</td>\n",
       "    </tr>\n",
       "    <tr>\n",
       "      <th>4308</th>\n",
       "      <td>-29197.694380</td>\n",
       "      <td>10838.886012</td>\n",
       "      <td>-29074.072859</td>\n",
       "      <td>-18220.372670</td>\n",
       "    </tr>\n",
       "    <tr>\n",
       "      <th>4646</th>\n",
       "      <td>-30015.029767</td>\n",
       "      <td>11188.451856</td>\n",
       "      <td>-29894.615317</td>\n",
       "      <td>-18731.751846</td>\n",
       "    </tr>\n",
       "    <tr>\n",
       "      <th>3301</th>\n",
       "      <td>-25734.863095</td>\n",
       "      <td>9552.878820</td>\n",
       "      <td>-25626.548444</td>\n",
       "      <td>-16059.551968</td>\n",
       "    </tr>\n",
       "    <tr>\n",
       "      <th>2926</th>\n",
       "      <td>-25484.283457</td>\n",
       "      <td>9489.105735</td>\n",
       "      <td>-25381.532894</td>\n",
       "      <td>-15904.071324</td>\n",
       "    </tr>\n",
       "  </tbody>\n",
       "</table>\n",
       "</div>"
      ],
      "text/plain": [
       "                 0             1             2             3\n",
       "561  -25123.408109   9361.850884 -25021.531045 -15678.717988\n",
       "4308 -29197.694380  10838.886012 -29074.072859 -18220.372670\n",
       "4646 -30015.029767  11188.451856 -29894.615317 -18731.751846\n",
       "3301 -25734.863095   9552.878820 -25626.548444 -16059.551968\n",
       "2926 -25484.283457   9489.105735 -25381.532894 -15904.071324"
      ]
     },
     "metadata": {},
     "output_type": "display_data"
    }
   ],
   "source": [
    "# let's see how the transformed matrices look like\n",
    "display(features_train_matrix.sample(5))\n",
    "display(features_test_matrix.sample(5))"
   ]
  },
  {
   "cell_type": "markdown",
   "metadata": {},
   "source": [
    "The sample sizes are the same as the original ones. Let's check the quality of the model on new features."
   ]
  },
  {
   "cell_type": "code",
   "execution_count": 19,
   "metadata": {},
   "outputs": [
    {
     "name": "stdout",
     "output_type": "stream",
     "text": [
      "R2_score on the transformed training set: 0.432158202658095\n"
     ]
    }
   ],
   "source": [
    "#check r2 on the transformed training set\n",
    "print('R2_score on the transformed training set:', score(features_train_matrix, target_train))"
   ]
  },
  {
   "cell_type": "code",
   "execution_count": 20,
   "metadata": {},
   "outputs": [
    {
     "name": "stdout",
     "output_type": "stream",
     "text": [
      "R2_score on the test set: 0.425552801076332\n"
     ]
    }
   ],
   "source": [
    "#and check if r2 matches on test samples\n",
    "print('R2_score on the test set:', score(features_test, target_test))"
   ]
  },
  {
   "cell_type": "code",
   "execution_count": 21,
   "metadata": {
    "scrolled": true
   },
   "outputs": [
    {
     "name": "stdout",
     "output_type": "stream",
     "text": [
      "R2_score on the transformed test set: 0.4255528010763677\n"
     ]
    }
   ],
   "source": [
    "print('R2_score on the transformed test set:', score(features_test_matrix, target_test))"
   ]
  },
  {
   "cell_type": "markdown",
   "metadata": {},
   "source": [
    "As you can see, the R2 metric has not changed and is the same on the normal and transformed samples."
   ]
  },
  {
   "cell_type": "markdown",
   "metadata": {},
   "source": [
    "### Section Conclusion\n",
    "The quality of the linear regression has not changed and the R2 metric is the same on the standard and transformed data, which means that we were able to protect customer data without compromising the quality of the model."
   ]
  },
  {
   "cell_type": "markdown",
   "metadata": {},
   "source": [
    "## Conclusion:\n",
    "1. Getting to know the data:\n",
    "    - The dataset has 5000 rows and 5 columns.\n",
    "    - The entire dataset has been converted to `int32` format.\n",
    "    - 153 duplicates were found in the dataset and subsequently removed.\n",
    "    - There are no gaps in the dataset.\n",
    "2. During the study, it was found that in the case of multiplying the signs of linear regression by an invertible matrix, the quality of the model does not change.\n",
    "3. To protect information, we multiply the feature matrix by the reversible matrix $P$, which is randomly generated. Conversion algorithm:\n",
    "    1. Creation of a random square invertible matrix with the number of columns that corresponds to the number of features.\n",
    "    2. Checking the matrix for invertibility.\n",
    "    3. Multiplication of the feature matrix by a random invertible matrix.\n",
    "    4. Application of the model on the transformed features.\n",
    "    5. Compare the R2 metrics on the original features and on the features multiplied by the invertible matrix.\n",
    "4. After transforming the data by multiplying the features by the matrix, the quality of the linear regression has not changed and the R2 metric is the same on the standard and transformed data, which means that we managed to protect customer data without compromising the quality of the model."
   ]
  },
  {
   "cell_type": "code",
   "execution_count": null,
   "metadata": {},
   "outputs": [],
   "source": []
  }
 ],
 "metadata": {
  "ExecuteTimeLog": [
   {
    "duration": 1750,
    "start_time": "2022-05-04T13:30:41.321Z"
   },
   {
    "duration": 148,
    "start_time": "2022-05-08T12:24:48.283Z"
   },
   {
    "duration": 71,
    "start_time": "2022-05-08T12:25:07.645Z"
   },
   {
    "duration": 1526,
    "start_time": "2022-05-08T12:25:11.242Z"
   },
   {
    "duration": 12,
    "start_time": "2022-05-08T12:25:13.440Z"
   },
   {
    "duration": 11,
    "start_time": "2022-05-08T12:25:42.910Z"
   },
   {
    "duration": 19,
    "start_time": "2022-05-08T12:26:00.222Z"
   },
   {
    "duration": 10,
    "start_time": "2022-05-08T12:26:06.404Z"
   },
   {
    "duration": 15,
    "start_time": "2022-05-08T12:26:34.600Z"
   },
   {
    "duration": 61,
    "start_time": "2022-05-08T12:30:47.319Z"
   },
   {
    "duration": 9,
    "start_time": "2022-05-08T12:32:14.512Z"
   },
   {
    "duration": 4,
    "start_time": "2022-05-08T12:32:22.108Z"
   },
   {
    "duration": 16,
    "start_time": "2022-05-08T12:32:31.428Z"
   },
   {
    "duration": 7,
    "start_time": "2022-05-08T12:33:27.753Z"
   },
   {
    "duration": 8,
    "start_time": "2022-05-08T12:35:03.382Z"
   },
   {
    "duration": 22,
    "start_time": "2022-05-08T12:36:31.884Z"
   },
   {
    "duration": 11,
    "start_time": "2022-05-08T12:39:14.817Z"
   },
   {
    "duration": 6,
    "start_time": "2022-05-08T12:39:24.776Z"
   },
   {
    "duration": 17,
    "start_time": "2022-05-08T12:44:50.220Z"
   },
   {
    "duration": 142,
    "start_time": "2022-05-08T13:09:49.176Z"
   },
   {
    "duration": 161,
    "start_time": "2022-05-08T13:10:03.706Z"
   },
   {
    "duration": 5,
    "start_time": "2022-05-08T14:47:54.332Z"
   },
   {
    "duration": 1241,
    "start_time": "2022-05-08T14:48:12.181Z"
   },
   {
    "duration": 13,
    "start_time": "2022-05-08T14:48:13.424Z"
   },
   {
    "duration": 19,
    "start_time": "2022-05-08T14:48:13.439Z"
   },
   {
    "duration": 12,
    "start_time": "2022-05-08T14:48:13.460Z"
   },
   {
    "duration": 13,
    "start_time": "2022-05-08T14:48:13.492Z"
   },
   {
    "duration": 9,
    "start_time": "2022-05-08T14:48:13.507Z"
   },
   {
    "duration": 14,
    "start_time": "2022-05-08T14:48:13.518Z"
   },
   {
    "duration": 6,
    "start_time": "2022-05-08T14:48:13.535Z"
   },
   {
    "duration": 5,
    "start_time": "2022-05-08T14:48:13.543Z"
   },
   {
    "duration": 205,
    "start_time": "2022-05-08T14:50:10.211Z"
   },
   {
    "duration": 146,
    "start_time": "2022-05-08T14:50:18.971Z"
   },
   {
    "duration": 142,
    "start_time": "2022-05-08T14:50:23.408Z"
   },
   {
    "duration": 5,
    "start_time": "2022-05-08T14:50:34.589Z"
   },
   {
    "duration": 3,
    "start_time": "2022-05-08T14:54:34.415Z"
   },
   {
    "duration": 135,
    "start_time": "2022-05-08T14:56:07.473Z"
   },
   {
    "duration": 123,
    "start_time": "2022-05-08T14:56:14.164Z"
   },
   {
    "duration": 9,
    "start_time": "2022-05-08T14:57:20.550Z"
   },
   {
    "duration": 3,
    "start_time": "2022-05-08T14:57:24.331Z"
   },
   {
    "duration": 9,
    "start_time": "2022-05-08T14:57:25.067Z"
   },
   {
    "duration": 3,
    "start_time": "2022-05-08T14:57:56.624Z"
   },
   {
    "duration": 150,
    "start_time": "2022-05-08T14:57:57.258Z"
   },
   {
    "duration": 121,
    "start_time": "2022-05-08T14:58:27.083Z"
   },
   {
    "duration": 4,
    "start_time": "2022-05-08T14:58:43.172Z"
   },
   {
    "duration": 16,
    "start_time": "2022-05-08T14:58:43.970Z"
   },
   {
    "duration": 4,
    "start_time": "2022-05-08T14:59:16.645Z"
   },
   {
    "duration": 16,
    "start_time": "2022-05-08T14:59:17.110Z"
   },
   {
    "duration": 4,
    "start_time": "2022-05-08T15:03:21.047Z"
   },
   {
    "duration": 88,
    "start_time": "2022-05-08T15:03:22.121Z"
   },
   {
    "duration": 5,
    "start_time": "2022-05-08T15:04:52.410Z"
   },
   {
    "duration": 5,
    "start_time": "2022-05-08T15:07:28.740Z"
   },
   {
    "duration": 4,
    "start_time": "2022-05-08T15:12:53.192Z"
   },
   {
    "duration": 11,
    "start_time": "2022-05-08T15:13:54.570Z"
   },
   {
    "duration": 5,
    "start_time": "2022-05-08T15:13:59.141Z"
   },
   {
    "duration": 7,
    "start_time": "2022-05-08T15:15:04.879Z"
   },
   {
    "duration": 8,
    "start_time": "2022-05-08T15:16:21.314Z"
   },
   {
    "duration": 8,
    "start_time": "2022-05-08T15:16:35.970Z"
   },
   {
    "duration": 5,
    "start_time": "2022-05-08T15:18:02.679Z"
   },
   {
    "duration": 9,
    "start_time": "2022-05-08T15:18:05.370Z"
   },
   {
    "duration": 8,
    "start_time": "2022-05-08T15:18:06.721Z"
   },
   {
    "duration": 19,
    "start_time": "2022-05-08T15:20:50.820Z"
   },
   {
    "duration": 18,
    "start_time": "2022-05-08T15:21:03.600Z"
   },
   {
    "duration": 1252,
    "start_time": "2022-05-08T15:45:11.188Z"
   },
   {
    "duration": 18,
    "start_time": "2022-05-08T15:45:12.442Z"
   },
   {
    "duration": 17,
    "start_time": "2022-05-08T15:45:12.467Z"
   },
   {
    "duration": 12,
    "start_time": "2022-05-08T15:45:12.493Z"
   },
   {
    "duration": 16,
    "start_time": "2022-05-08T15:45:12.507Z"
   },
   {
    "duration": 9,
    "start_time": "2022-05-08T15:45:12.525Z"
   },
   {
    "duration": 12,
    "start_time": "2022-05-08T15:45:12.536Z"
   },
   {
    "duration": 6,
    "start_time": "2022-05-08T15:45:12.550Z"
   },
   {
    "duration": 4,
    "start_time": "2022-05-08T15:45:12.593Z"
   },
   {
    "duration": 8,
    "start_time": "2022-05-08T15:45:12.599Z"
   },
   {
    "duration": 6,
    "start_time": "2022-05-08T15:45:12.609Z"
   },
   {
    "duration": 79,
    "start_time": "2022-05-08T15:45:12.617Z"
   },
   {
    "duration": 97,
    "start_time": "2022-05-08T15:45:12.700Z"
   },
   {
    "duration": 9,
    "start_time": "2022-05-08T15:45:12.799Z"
   },
   {
    "duration": 83,
    "start_time": "2022-05-08T15:45:12.811Z"
   },
   {
    "duration": 113,
    "start_time": "2022-05-08T15:45:12.897Z"
   },
   {
    "duration": 186,
    "start_time": "2022-05-08T15:45:13.012Z"
   },
   {
    "duration": 33,
    "start_time": "2022-05-08T15:45:13.200Z"
   },
   {
    "duration": 1286,
    "start_time": "2022-05-08T15:51:10.251Z"
   },
   {
    "duration": 17,
    "start_time": "2022-05-08T15:51:11.539Z"
   },
   {
    "duration": 16,
    "start_time": "2022-05-08T15:51:11.557Z"
   },
   {
    "duration": 11,
    "start_time": "2022-05-08T15:51:11.575Z"
   },
   {
    "duration": 24,
    "start_time": "2022-05-08T15:51:11.588Z"
   },
   {
    "duration": 20,
    "start_time": "2022-05-08T15:51:11.616Z"
   },
   {
    "duration": 13,
    "start_time": "2022-05-08T15:51:11.639Z"
   },
   {
    "duration": 6,
    "start_time": "2022-05-08T15:51:11.654Z"
   },
   {
    "duration": 4,
    "start_time": "2022-05-08T15:51:11.663Z"
   },
   {
    "duration": 10,
    "start_time": "2022-05-08T15:51:11.669Z"
   },
   {
    "duration": 13,
    "start_time": "2022-05-08T15:51:11.699Z"
   },
   {
    "duration": 16,
    "start_time": "2022-05-08T15:51:11.717Z"
   },
   {
    "duration": 172,
    "start_time": "2022-05-08T15:51:11.735Z"
   },
   {
    "duration": 20,
    "start_time": "2022-05-08T15:51:11.910Z"
   },
   {
    "duration": 62,
    "start_time": "2022-05-08T15:51:11.932Z"
   },
   {
    "duration": 99,
    "start_time": "2022-05-08T15:51:11.996Z"
   },
   {
    "duration": 114,
    "start_time": "2022-05-08T15:51:12.102Z"
   },
   {
    "duration": 11,
    "start_time": "2022-05-08T15:51:12.218Z"
   },
   {
    "duration": 1322,
    "start_time": "2022-05-08T15:51:46.073Z"
   },
   {
    "duration": 20,
    "start_time": "2022-05-08T15:51:47.402Z"
   },
   {
    "duration": 16,
    "start_time": "2022-05-08T15:51:47.429Z"
   },
   {
    "duration": 11,
    "start_time": "2022-05-08T15:51:47.447Z"
   },
   {
    "duration": 12,
    "start_time": "2022-05-08T15:51:47.459Z"
   },
   {
    "duration": 32,
    "start_time": "2022-05-08T15:51:47.473Z"
   },
   {
    "duration": 28,
    "start_time": "2022-05-08T15:51:47.509Z"
   },
   {
    "duration": 7,
    "start_time": "2022-05-08T15:51:47.539Z"
   },
   {
    "duration": 5,
    "start_time": "2022-05-08T15:51:47.549Z"
   },
   {
    "duration": 7,
    "start_time": "2022-05-08T15:51:47.556Z"
   },
   {
    "duration": 3,
    "start_time": "2022-05-08T15:51:47.566Z"
   },
   {
    "duration": 46,
    "start_time": "2022-05-08T15:51:47.571Z"
   },
   {
    "duration": 71,
    "start_time": "2022-05-08T15:51:47.628Z"
   },
   {
    "duration": 114,
    "start_time": "2022-05-08T15:51:47.701Z"
   },
   {
    "duration": 85,
    "start_time": "2022-05-08T15:51:47.817Z"
   },
   {
    "duration": 115,
    "start_time": "2022-05-08T15:51:47.904Z"
   },
   {
    "duration": 88,
    "start_time": "2022-05-08T15:51:48.024Z"
   },
   {
    "duration": 30,
    "start_time": "2022-05-08T15:51:48.115Z"
   },
   {
    "duration": 1140,
    "start_time": "2022-05-08T17:26:28.507Z"
   },
   {
    "duration": 12,
    "start_time": "2022-05-08T17:26:29.649Z"
   },
   {
    "duration": 15,
    "start_time": "2022-05-08T17:26:29.663Z"
   },
   {
    "duration": 10,
    "start_time": "2022-05-08T17:26:29.681Z"
   },
   {
    "duration": 24,
    "start_time": "2022-05-08T17:26:29.692Z"
   },
   {
    "duration": 8,
    "start_time": "2022-05-08T17:26:29.718Z"
   },
   {
    "duration": 12,
    "start_time": "2022-05-08T17:26:29.727Z"
   },
   {
    "duration": 6,
    "start_time": "2022-05-08T17:26:29.741Z"
   },
   {
    "duration": 5,
    "start_time": "2022-05-08T17:26:29.748Z"
   },
   {
    "duration": 5,
    "start_time": "2022-05-08T17:26:29.756Z"
   },
   {
    "duration": 45,
    "start_time": "2022-05-08T17:26:29.763Z"
   },
   {
    "duration": 17,
    "start_time": "2022-05-08T17:26:29.810Z"
   },
   {
    "duration": 99,
    "start_time": "2022-05-08T17:26:29.909Z"
   },
   {
    "duration": 5,
    "start_time": "2022-05-08T17:26:30.010Z"
   },
   {
    "duration": 8,
    "start_time": "2022-05-08T17:26:30.017Z"
   },
   {
    "duration": 92,
    "start_time": "2022-05-08T17:26:30.027Z"
   },
   {
    "duration": 99,
    "start_time": "2022-05-08T17:26:30.209Z"
   },
   {
    "duration": 8,
    "start_time": "2022-05-08T17:26:30.309Z"
   },
   {
    "duration": 47,
    "start_time": "2022-05-10T07:27:45.288Z"
   },
   {
    "duration": 1069,
    "start_time": "2022-05-10T07:27:57.243Z"
   },
   {
    "duration": 12,
    "start_time": "2022-05-10T07:27:58.314Z"
   },
   {
    "duration": 17,
    "start_time": "2022-05-10T07:27:59.039Z"
   },
   {
    "duration": 11,
    "start_time": "2022-05-10T07:28:02.652Z"
   },
   {
    "duration": 60,
    "start_time": "2022-05-10T07:31:59.901Z"
   },
   {
    "duration": 12,
    "start_time": "2022-05-10T07:32:04.752Z"
   },
   {
    "duration": 17,
    "start_time": "2022-05-10T07:32:15.948Z"
   },
   {
    "duration": 9,
    "start_time": "2022-05-10T07:32:23.226Z"
   },
   {
    "duration": 9,
    "start_time": "2022-05-10T07:32:32.698Z"
   },
   {
    "duration": 9,
    "start_time": "2022-05-10T07:32:38.999Z"
   },
   {
    "duration": 5,
    "start_time": "2022-05-10T07:35:25.068Z"
   },
   {
    "duration": 5,
    "start_time": "2022-05-10T07:35:28.561Z"
   },
   {
    "duration": 7,
    "start_time": "2022-05-10T07:37:24.694Z"
   },
   {
    "duration": 9,
    "start_time": "2022-05-10T07:40:30.487Z"
   },
   {
    "duration": 1094,
    "start_time": "2022-05-10T07:41:32.499Z"
   },
   {
    "duration": 11,
    "start_time": "2022-05-10T07:41:33.595Z"
   },
   {
    "duration": 15,
    "start_time": "2022-05-10T07:41:33.608Z"
   },
   {
    "duration": 11,
    "start_time": "2022-05-10T07:41:33.625Z"
   },
   {
    "duration": 12,
    "start_time": "2022-05-10T07:41:33.637Z"
   },
   {
    "duration": 24,
    "start_time": "2022-05-10T07:41:33.650Z"
   },
   {
    "duration": 10,
    "start_time": "2022-05-10T07:41:33.676Z"
   },
   {
    "duration": 5,
    "start_time": "2022-05-10T07:41:33.687Z"
   },
   {
    "duration": 10,
    "start_time": "2022-05-10T07:41:33.694Z"
   },
   {
    "duration": 6,
    "start_time": "2022-05-10T07:41:33.706Z"
   },
   {
    "duration": 7,
    "start_time": "2022-05-10T07:41:33.714Z"
   },
   {
    "duration": 54,
    "start_time": "2022-05-10T07:41:33.723Z"
   },
   {
    "duration": 101,
    "start_time": "2022-05-10T07:41:33.779Z"
   },
   {
    "duration": 7,
    "start_time": "2022-05-10T07:41:33.882Z"
   },
   {
    "duration": 9,
    "start_time": "2022-05-10T07:41:33.891Z"
   },
   {
    "duration": 173,
    "start_time": "2022-05-10T07:41:33.901Z"
   },
   {
    "duration": 9,
    "start_time": "2022-05-10T07:41:34.076Z"
   },
   {
    "duration": 187,
    "start_time": "2022-05-10T07:41:34.087Z"
   },
   {
    "duration": 9,
    "start_time": "2022-05-10T07:41:34.276Z"
   },
   {
    "duration": 13,
    "start_time": "2022-05-10T07:42:04.198Z"
   },
   {
    "duration": 3,
    "start_time": "2022-05-10T07:43:35.847Z"
   },
   {
    "duration": 3,
    "start_time": "2022-05-10T07:44:01.344Z"
   },
   {
    "duration": 6,
    "start_time": "2022-05-10T07:44:20.330Z"
   },
   {
    "duration": 1209,
    "start_time": "2022-05-10T07:44:30.348Z"
   },
   {
    "duration": 13,
    "start_time": "2022-05-10T07:44:31.559Z"
   },
   {
    "duration": 18,
    "start_time": "2022-05-10T07:44:31.574Z"
   },
   {
    "duration": 14,
    "start_time": "2022-05-10T07:44:31.595Z"
   },
   {
    "duration": 17,
    "start_time": "2022-05-10T07:44:31.611Z"
   },
   {
    "duration": 13,
    "start_time": "2022-05-10T07:44:31.629Z"
   },
   {
    "duration": 36,
    "start_time": "2022-05-10T07:44:31.644Z"
   },
   {
    "duration": 7,
    "start_time": "2022-05-10T07:44:31.682Z"
   },
   {
    "duration": 16,
    "start_time": "2022-05-10T07:44:31.691Z"
   },
   {
    "duration": 30,
    "start_time": "2022-05-10T07:44:31.711Z"
   },
   {
    "duration": 14,
    "start_time": "2022-05-10T07:44:31.743Z"
   },
   {
    "duration": 27,
    "start_time": "2022-05-10T07:44:31.759Z"
   },
   {
    "duration": 189,
    "start_time": "2022-05-10T07:44:31.788Z"
   },
   {
    "duration": 7,
    "start_time": "2022-05-10T07:44:31.979Z"
   },
   {
    "duration": 12,
    "start_time": "2022-05-10T07:44:31.988Z"
   },
   {
    "duration": 16,
    "start_time": "2022-05-10T07:44:32.002Z"
   },
   {
    "duration": 255,
    "start_time": "2022-05-10T07:44:32.020Z"
   },
   {
    "duration": 0,
    "start_time": "2022-05-10T07:44:32.277Z"
   },
   {
    "duration": 0,
    "start_time": "2022-05-10T07:44:32.279Z"
   },
   {
    "duration": 0,
    "start_time": "2022-05-10T07:44:32.280Z"
   },
   {
    "duration": 0,
    "start_time": "2022-05-10T07:44:32.281Z"
   },
   {
    "duration": 1108,
    "start_time": "2022-05-10T07:44:58.961Z"
   },
   {
    "duration": 13,
    "start_time": "2022-05-10T07:45:00.071Z"
   },
   {
    "duration": 15,
    "start_time": "2022-05-10T07:45:00.086Z"
   },
   {
    "duration": 18,
    "start_time": "2022-05-10T07:45:00.103Z"
   },
   {
    "duration": 10,
    "start_time": "2022-05-10T07:45:00.123Z"
   },
   {
    "duration": 7,
    "start_time": "2022-05-10T07:45:00.135Z"
   },
   {
    "duration": 17,
    "start_time": "2022-05-10T07:45:00.144Z"
   },
   {
    "duration": 11,
    "start_time": "2022-05-10T07:45:00.163Z"
   },
   {
    "duration": 6,
    "start_time": "2022-05-10T07:45:00.175Z"
   },
   {
    "duration": 9,
    "start_time": "2022-05-10T07:45:00.183Z"
   },
   {
    "duration": 8,
    "start_time": "2022-05-10T07:45:00.193Z"
   },
   {
    "duration": 76,
    "start_time": "2022-05-10T07:45:00.202Z"
   },
   {
    "duration": 100,
    "start_time": "2022-05-10T07:45:00.281Z"
   },
   {
    "duration": 20,
    "start_time": "2022-05-10T07:45:00.384Z"
   },
   {
    "duration": 16,
    "start_time": "2022-05-10T07:45:00.406Z"
   },
   {
    "duration": 26,
    "start_time": "2022-05-10T07:45:00.424Z"
   },
   {
    "duration": 23,
    "start_time": "2022-05-10T07:45:00.452Z"
   },
   {
    "duration": 111,
    "start_time": "2022-05-10T07:45:00.477Z"
   },
   {
    "duration": 84,
    "start_time": "2022-05-10T07:45:00.590Z"
   },
   {
    "duration": 105,
    "start_time": "2022-05-10T07:45:00.676Z"
   },
   {
    "duration": 20,
    "start_time": "2022-05-10T07:45:00.783Z"
   },
   {
    "duration": 1086,
    "start_time": "2022-05-10T07:45:45.440Z"
   },
   {
    "duration": 13,
    "start_time": "2022-05-10T07:45:46.528Z"
   },
   {
    "duration": 24,
    "start_time": "2022-05-10T07:45:46.543Z"
   },
   {
    "duration": 19,
    "start_time": "2022-05-10T07:45:46.569Z"
   },
   {
    "duration": 27,
    "start_time": "2022-05-10T07:45:46.592Z"
   },
   {
    "duration": 8,
    "start_time": "2022-05-10T07:45:46.621Z"
   },
   {
    "duration": 14,
    "start_time": "2022-05-10T07:45:46.630Z"
   },
   {
    "duration": 9,
    "start_time": "2022-05-10T07:45:46.646Z"
   },
   {
    "duration": 11,
    "start_time": "2022-05-10T07:45:46.657Z"
   },
   {
    "duration": 28,
    "start_time": "2022-05-10T07:45:46.671Z"
   },
   {
    "duration": 11,
    "start_time": "2022-05-10T07:45:46.701Z"
   },
   {
    "duration": 31,
    "start_time": "2022-05-10T07:45:46.714Z"
   },
   {
    "duration": 127,
    "start_time": "2022-05-10T07:45:46.747Z"
   },
   {
    "duration": 9,
    "start_time": "2022-05-10T07:45:46.876Z"
   },
   {
    "duration": 8,
    "start_time": "2022-05-10T07:45:46.887Z"
   },
   {
    "duration": 8,
    "start_time": "2022-05-10T07:45:46.896Z"
   },
   {
    "duration": 6,
    "start_time": "2022-05-10T07:45:46.906Z"
   },
   {
    "duration": 72,
    "start_time": "2022-05-10T07:45:46.914Z"
   },
   {
    "duration": 93,
    "start_time": "2022-05-10T07:45:46.988Z"
   },
   {
    "duration": 197,
    "start_time": "2022-05-10T07:45:47.083Z"
   },
   {
    "duration": 10,
    "start_time": "2022-05-10T07:45:47.282Z"
   },
   {
    "duration": 1130,
    "start_time": "2022-05-10T07:57:03.344Z"
   },
   {
    "duration": 13,
    "start_time": "2022-05-10T07:57:04.476Z"
   },
   {
    "duration": 18,
    "start_time": "2022-05-10T07:57:04.491Z"
   },
   {
    "duration": 12,
    "start_time": "2022-05-10T07:57:04.511Z"
   },
   {
    "duration": 11,
    "start_time": "2022-05-10T07:57:04.524Z"
   },
   {
    "duration": 7,
    "start_time": "2022-05-10T07:57:04.537Z"
   },
   {
    "duration": 37,
    "start_time": "2022-05-10T07:57:04.546Z"
   },
   {
    "duration": 5,
    "start_time": "2022-05-10T07:57:04.585Z"
   },
   {
    "duration": 5,
    "start_time": "2022-05-10T07:57:04.592Z"
   },
   {
    "duration": 6,
    "start_time": "2022-05-10T07:57:04.599Z"
   },
   {
    "duration": 3,
    "start_time": "2022-05-10T07:57:04.607Z"
   },
   {
    "duration": 64,
    "start_time": "2022-05-10T07:57:04.612Z"
   },
   {
    "duration": 96,
    "start_time": "2022-05-10T07:57:04.678Z"
   },
   {
    "duration": 7,
    "start_time": "2022-05-10T07:57:04.776Z"
   },
   {
    "duration": 6,
    "start_time": "2022-05-10T07:57:04.784Z"
   },
   {
    "duration": 10,
    "start_time": "2022-05-10T07:57:04.791Z"
   },
   {
    "duration": 8,
    "start_time": "2022-05-10T07:57:04.803Z"
   },
   {
    "duration": 99,
    "start_time": "2022-05-10T07:57:04.875Z"
   },
   {
    "duration": 13,
    "start_time": "2022-05-10T07:57:04.976Z"
   },
   {
    "duration": 182,
    "start_time": "2022-05-10T07:57:04.991Z"
   },
   {
    "duration": 11,
    "start_time": "2022-05-10T07:57:05.175Z"
   },
   {
    "duration": 58,
    "start_time": "2022-05-11T15:44:28.486Z"
   },
   {
    "duration": 1473,
    "start_time": "2022-05-11T15:45:07.654Z"
   },
   {
    "duration": 35,
    "start_time": "2022-05-11T15:45:10.620Z"
   },
   {
    "duration": 36,
    "start_time": "2022-05-11T15:45:17.501Z"
   },
   {
    "duration": 8,
    "start_time": "2022-05-11T15:55:22.986Z"
   },
   {
    "duration": 6,
    "start_time": "2022-05-11T15:56:18.490Z"
   },
   {
    "duration": 1222,
    "start_time": "2022-05-11T15:59:57.171Z"
   },
   {
    "duration": 18,
    "start_time": "2022-05-11T15:59:58.395Z"
   },
   {
    "duration": 20,
    "start_time": "2022-05-11T15:59:58.415Z"
   },
   {
    "duration": 17,
    "start_time": "2022-05-11T15:59:58.437Z"
   },
   {
    "duration": 12,
    "start_time": "2022-05-11T15:59:58.457Z"
   },
   {
    "duration": 6,
    "start_time": "2022-05-11T15:59:58.471Z"
   },
   {
    "duration": 12,
    "start_time": "2022-05-11T15:59:58.479Z"
   },
   {
    "duration": 6,
    "start_time": "2022-05-11T15:59:58.493Z"
   },
   {
    "duration": 65,
    "start_time": "2022-05-11T15:59:58.500Z"
   },
   {
    "duration": 6,
    "start_time": "2022-05-11T15:59:58.566Z"
   },
   {
    "duration": 12,
    "start_time": "2022-05-11T15:59:58.573Z"
   },
   {
    "duration": 8,
    "start_time": "2022-05-11T15:59:58.587Z"
   },
   {
    "duration": 7,
    "start_time": "2022-05-11T15:59:58.597Z"
   },
   {
    "duration": 126,
    "start_time": "2022-05-11T15:59:58.607Z"
   },
   {
    "duration": 16,
    "start_time": "2022-05-11T15:59:58.735Z"
   },
   {
    "duration": 8,
    "start_time": "2022-05-11T15:59:58.753Z"
   },
   {
    "duration": 7,
    "start_time": "2022-05-11T15:59:58.764Z"
   },
   {
    "duration": 8,
    "start_time": "2022-05-11T15:59:58.773Z"
   },
   {
    "duration": 74,
    "start_time": "2022-05-11T15:59:58.783Z"
   },
   {
    "duration": 91,
    "start_time": "2022-05-11T15:59:58.859Z"
   },
   {
    "duration": 9,
    "start_time": "2022-05-11T15:59:58.952Z"
   },
   {
    "duration": 178,
    "start_time": "2022-05-11T15:59:58.963Z"
   },
   {
    "duration": 16,
    "start_time": "2022-05-11T15:59:59.145Z"
   }
  ],
  "kernelspec": {
   "display_name": "Python 3 (ipykernel)",
   "language": "python",
   "name": "python3"
  },
  "language_info": {
   "codemirror_mode": {
    "name": "ipython",
    "version": 3
   },
   "file_extension": ".py",
   "mimetype": "text/x-python",
   "name": "python",
   "nbconvert_exporter": "python",
   "pygments_lexer": "ipython3",
   "version": "3.9.10"
  },
  "toc": {
   "base_numbering": 1,
   "nav_menu": {},
   "number_sections": true,
   "sideBar": true,
   "skip_h1_title": true,
   "title_cell": "Содержание",
   "title_sidebar": "Contents",
   "toc_cell": true,
   "toc_position": {
    "height": "calc(100% - 180px)",
    "left": "10px",
    "top": "150px",
    "width": "165px"
   },
   "toc_section_display": true,
   "toc_window_display": true
  }
 },
 "nbformat": 4,
 "nbformat_minor": 2
}
