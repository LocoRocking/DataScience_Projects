{
 "cells": [
  {
   "cell_type": "markdown",
   "metadata": {},
   "source": [
    "# Wikishop project with BERT"
   ]
  },
  {
   "cell_type": "markdown",
   "metadata": {},
   "source": [
    "Online store \"Wikishop\" launches a new service. Now users can edit and supplement product descriptions, just like in wiki communities. That is, clients propose their edits and comment on the changes of others. The store needs a tool that will look for toxic comments and submit them for moderation.\n",
    "\n",
    "Train the model to classify comments as positive or negative. At your disposal is a dataset with markup on the toxicity of edits.\n",
    "\n",
    "Build a model with a quality metric *F1* of at least 0.75.\n",
    "\n",
    "**Instructions for the implementation of the project**\n",
    "\n",
    "1. Download and prepare data.\n",
    "2. Train different models.\n",
    "3. Draw conclusions.\n",
    "\n",
    "You don't have to use *BERT* to run the project, but you can try.\n",
    "\n",
    "**Data Description**\n",
    "\n",
    "The data is in the `toxic_comments.csv` file. The *text* column contains the text of the comment, and *toxic* is the target attribute."
   ]
  },
  {
   "cell_type": "markdown",
   "metadata": {},
   "source": [
    "## Preparation"
   ]
  },
  {
   "cell_type": "code",
   "execution_count": 1,
   "metadata": {},
   "outputs": [],
   "source": [
    "#load the necessary libraries\n",
    "import pandas as pd\n",
    "import numpy as np\n",
    "import matplotlib.pyplot as plt\n",
    "%matplotlib inline\n",
    "import re\n",
    "from tqdm import notebook\n",
    "\n",
    "import nltk\n",
    "from nltk.corpus import stopwords as nltk_stopwords\n",
    "import torch\n",
    "import transformers\n",
    "from transformers import BertTokenizer\n",
    "from transformers import AutoModel, AutoTokenizer\n",
    "\n",
    "from sklearn.feature_extraction.text import TfidfVectorizer, CountVectorizer\n",
    "from sklearn.model_selection import train_test_split, GridSearchCV\n",
    "from sklearn.metrics import f1_score\n",
    "from sklearn.model_selection import cross_val_score\n",
    "\n",
    "from sklearn.tree import DecisionTreeClassifier\n",
    "from sklearn.ensemble import RandomForestClassifier\n",
    "from sklearn.linear_model import LogisticRegression\n",
    "from catboost import CatBoost, CatBoostClassifier\n",
    "from lightgbm import LGBMClassifier\n",
    "from sklearn.dummy import DummyClassifier\n",
    "\n",
    "import warnings\n",
    "warnings.filterwarnings(\"ignore\")"
   ]
  },
  {
   "cell_type": "code",
   "execution_count": 2,
   "metadata": {},
   "outputs": [],
   "source": [
    "#save the dataset\n",
    "try:\n",
    "    toxic = pd.read_csv('/datasets/toxic_comments.csv')\n",
    "except FileNotFoundError:\n",
    "    print(\"File not found.\")\n",
    "except pd.errors.EmptyDataError:\n",
    "    print(\"No data\")\n",
    "except pd.errors.ParserError:\n",
    "    print(\"Parse error\")\n",
    "except Exception:\n",
    "    print(\"Some other exception\")"
   ]
  },
  {
   "cell_type": "code",
   "execution_count": 3,
   "metadata": {},
   "outputs": [
    {
     "data": {
      "text/html": [
       "<div>\n",
       "<style scoped>\n",
       "    .dataframe tbody tr th:only-of-type {\n",
       "        vertical-align: middle;\n",
       "    }\n",
       "\n",
       "    .dataframe tbody tr th {\n",
       "        vertical-align: top;\n",
       "    }\n",
       "\n",
       "    .dataframe thead th {\n",
       "        text-align: right;\n",
       "    }\n",
       "</style>\n",
       "<table border=\"1\" class=\"dataframe\">\n",
       "  <thead>\n",
       "    <tr style=\"text-align: right;\">\n",
       "      <th></th>\n",
       "      <th>text</th>\n",
       "      <th>toxic</th>\n",
       "    </tr>\n",
       "  </thead>\n",
       "  <tbody>\n",
       "    <tr>\n",
       "      <th>0</th>\n",
       "      <td>Explanation\\nWhy the edits made under my usern...</td>\n",
       "      <td>0</td>\n",
       "    </tr>\n",
       "    <tr>\n",
       "      <th>1</th>\n",
       "      <td>D'aww! He matches this background colour I'm s...</td>\n",
       "      <td>0</td>\n",
       "    </tr>\n",
       "    <tr>\n",
       "      <th>2</th>\n",
       "      <td>Hey man, I'm really not trying to edit war. It...</td>\n",
       "      <td>0</td>\n",
       "    </tr>\n",
       "    <tr>\n",
       "      <th>3</th>\n",
       "      <td>\"\\nMore\\nI can't make any real suggestions on ...</td>\n",
       "      <td>0</td>\n",
       "    </tr>\n",
       "    <tr>\n",
       "      <th>4</th>\n",
       "      <td>You, sir, are my hero. Any chance you remember...</td>\n",
       "      <td>0</td>\n",
       "    </tr>\n",
       "    <tr>\n",
       "      <th>5</th>\n",
       "      <td>\"\\n\\nCongratulations from me as well, use the ...</td>\n",
       "      <td>0</td>\n",
       "    </tr>\n",
       "    <tr>\n",
       "      <th>6</th>\n",
       "      <td>COCKSUCKER BEFORE YOU PISS AROUND ON MY WORK</td>\n",
       "      <td>1</td>\n",
       "    </tr>\n",
       "    <tr>\n",
       "      <th>7</th>\n",
       "      <td>Your vandalism to the Matt Shirvington article...</td>\n",
       "      <td>0</td>\n",
       "    </tr>\n",
       "    <tr>\n",
       "      <th>8</th>\n",
       "      <td>Sorry if the word 'nonsense' was offensive to ...</td>\n",
       "      <td>0</td>\n",
       "    </tr>\n",
       "    <tr>\n",
       "      <th>9</th>\n",
       "      <td>alignment on this subject and which are contra...</td>\n",
       "      <td>0</td>\n",
       "    </tr>\n",
       "  </tbody>\n",
       "</table>\n",
       "</div>"
      ],
      "text/plain": [
       "                                                text  toxic\n",
       "0  Explanation\\nWhy the edits made under my usern...      0\n",
       "1  D'aww! He matches this background colour I'm s...      0\n",
       "2  Hey man, I'm really not trying to edit war. It...      0\n",
       "3  \"\\nMore\\nI can't make any real suggestions on ...      0\n",
       "4  You, sir, are my hero. Any chance you remember...      0\n",
       "5  \"\\n\\nCongratulations from me as well, use the ...      0\n",
       "6       COCKSUCKER BEFORE YOU PISS AROUND ON MY WORK      1\n",
       "7  Your vandalism to the Matt Shirvington article...      0\n",
       "8  Sorry if the word 'nonsense' was offensive to ...      0\n",
       "9  alignment on this subject and which are contra...      0"
      ]
     },
     "execution_count": 3,
     "metadata": {},
     "output_type": "execute_result"
    }
   ],
   "source": [
    "#look at the dataset\n",
    "toxic.head(10)"
   ]
  },
  {
   "cell_type": "code",
   "execution_count": 4,
   "metadata": {},
   "outputs": [
    {
     "name": "stdout",
     "output_type": "stream",
     "text": [
      "<class 'pandas.core.frame.DataFrame'>\n",
      "RangeIndex: 159571 entries, 0 to 159570\n",
      "Data columns (total 2 columns):\n",
      " #   Column  Non-Null Count   Dtype \n",
      "---  ------  --------------   ----- \n",
      " 0   text    159571 non-null  object\n",
      " 1   toxic   159571 non-null  int64 \n",
      "dtypes: int64(1), object(1)\n",
      "memory usage: 2.4+ MB\n"
     ]
    }
   ],
   "source": [
    "#take a look at general information about the dataset\n",
    "toxic.info()"
   ]
  },
  {
   "cell_type": "markdown",
   "metadata": {},
   "source": [
    "The dataset has two columns and 159,571 rows. There are no passes. Let's see if there are duplicates in the dataset."
   ]
  },
  {
   "cell_type": "code",
   "execution_count": 5,
   "metadata": {},
   "outputs": [
    {
     "name": "stdout",
     "output_type": "stream",
     "text": [
      "Number of gaps in the dataset: 0\n"
     ]
    }
   ],
   "source": [
    "print('Number of gaps in the dataset:', toxic.duplicated().sum())"
   ]
  },
  {
   "cell_type": "markdown",
   "metadata": {},
   "source": [
    "And now let's look at the ratio of negative comments (feature 1) and positive comments (feature 0)."
   ]
  },
  {
   "cell_type": "code",
   "execution_count": 6,
   "metadata": {},
   "outputs": [
    {
     "data": {
      "text/plain": [
       "(-1.25, 1.25, -1.25, 1.25)"
      ]
     },
     "execution_count": 6,
     "metadata": {},
     "output_type": "execute_result"
    },
    {
     "data": {
      "image/png": "[encoded data removed]",
      "text/plain": [
       "<Figure size 360x360 with 1 Axes>"
      ]
     },
     "metadata": {},
     "output_type": "display_data"
    }
   ],
   "source": [
    "toxic['toxic'].value_counts().plot(kind='pie', autopct='%1.1f%%', figsize=(5,5))\n",
    "plt.legend(['Positive','Negative'])\n",
    "plt.title('The ratio of comments in the dataset')\n",
    "plt.axis('off')"
   ]
  },
  {
   "cell_type": "markdown",
   "metadata": {},
   "source": [
    "There are only 10.2% of negative comments, 89.8% of positive comments, there is a large imbalance in the sample."
   ]
  },
  {
   "cell_type": "markdown",
   "metadata": {},
   "source": [
    "Let's take 5,000 random entries from the sample so as not to create embeddings for too long and add negative and positive comments in a 50/50 ratio."
   ]
  },
  {
   "cell_type": "code",
   "execution_count": 7,
   "metadata": {},
   "outputs": [
    {
     "data": {
      "text/plain": [
       "(-1.25, 1.25, -1.25, 1.25)"
      ]
     },
     "execution_count": 7,
     "metadata": {},
     "output_type": "execute_result"
    },
    {
     "data": {
      "image/png": "[encoded data removed]",
      "text/plain": [
       "<Figure size 360x360 with 1 Axes>"
      ]
     },
     "metadata": {},
     "output_type": "display_data"
    }
   ],
   "source": [
    "batch_toxic = toxic.sample(5000, random_state=12345).reset_index(drop=True)\n",
    "\n",
    "#check the ratio of positive and negative comments\n",
    "batch_toxic['toxic'].value_counts().plot(kind='pie', autopct='%1.1f%%', figsize=(5,5))\n",
    "plt.legend(['Positive','Negative'])\n",
    "plt.title('The ratio of comments in the dataset')\n",
    "plt.axis('off')"
   ]
  },
  {
   "cell_type": "markdown",
   "metadata": {},
   "source": [
    "We initialize the tokenizer as an object of the BertTokenizer() class."
   ]
  },
  {
   "cell_type": "code",
   "execution_count": 8,
   "metadata": {},
   "outputs": [
    {
     "name": "stdout",
     "output_type": "stream",
     "text": [
      "(5000, 512)\n"
     ]
    },
    {
     "name": "stderr",
     "output_type": "stream",
     "text": [
      "Some weights of the model checkpoint at unitary/toxic-bert were not used when initializing BertModel: ['classifier.bias', 'classifier.weight']\n",
      "- This IS expected if you are initializing BertModel from the checkpoint of a model trained on another task or with another architecture (e.g. initializing a BertForSequenceClassification model from a BertForPreTraining model).\n",
      "- This IS NOT expected if you are initializing BertModel from the checkpoint of a model that you expect to be exactly identical (initializing a BertForSequenceClassification model from a BertForSequenceClassification model).\n"
     ]
    }
   ],
   "source": [
    "#take an already trained model to detect toxic comments\n",
    "tokenizer = AutoTokenizer.from_pretrained('unitary/toxic-bert')\n",
    "\n",
    "tokenized = batch_toxic['text'].apply(\n",
    "    lambda x: tokenizer.encode(x, add_special_tokens=True, truncation=True, max_length=512))\n",
    "\n",
    "max_len = 0\n",
    "for i in tokenized.values:\n",
    "    if len(i) > max_len:\n",
    "        max_len = len(i)\n",
    "\n",
    "padded = np.array([i + [0]*(max_len - len(i)) for i in tokenized.values])\n",
    "\n",
    "attention_mask = np.where(padded != 0, 1, 0)\n",
    "print(attention_mask.shape)\n",
    "\n",
    "#initialize the BertModel class model itself\n",
    "model = AutoModel.from_pretrained('unitary/toxic-bert')"
   ]
  },
  {
   "cell_type": "code",
   "execution_count": 9,
   "metadata": {},
   "outputs": [
    {
     "data": {
      "application/vnd.jupyter.widget-view+json": {
       "model_id": "138a26992b874a09a3ba0e415d3528e0",
       "version_major": 2,
       "version_minor": 0
      },
      "text/plain": [
       "  0%|          | 0/25 [00:00<?, ?it/s]"
      ]
     },
     "metadata": {},
     "output_type": "display_data"
    },
    {
     "name": "stdout",
     "output_type": "stream",
     "text": [
      "CPU times: total: 4h 35min 46s\n",
      "Wall time: 46min 50s\n"
     ]
    }
   ],
   "source": [
    "%%time\n",
    "\n",
    "#the BERT model creates embeddings in batches. To have enough RAM, let's make the batch size small\n",
    "batch_size = 200\n",
    "\n",
    "#make an empty list for storing embeddings\n",
    "embeddings = []\n",
    "\n",
    "\n",
    "#Let's make a batch loop. The notebook function will display progress\n",
    "for i in notebook.tqdm(range(padded.shape[0] // batch_size)):\n",
    "        \n",
    "        #convert data to tensors format\n",
    "        batch = torch.LongTensor(padded[batch_size*i:batch_size*(i+1)])\n",
    "        #transform the mask\n",
    "        attention_mask_batch = torch.LongTensor(attention_mask[batch_size*i:batch_size*(i+1)])\n",
    "        \n",
    "        with torch.no_grad():\n",
    "            #to get embeddings for a batch, pass data and a mask to the model\n",
    "            batch_embeddings = model(batch, attention_mask=attention_mask_batch)\n",
    "        \n",
    "        #convert elements using numpy() method to type numpy.array\n",
    "        embeddings.append(batch_embeddings[0][:,0,:].numpy())"
   ]
  },
  {
   "cell_type": "code",
   "execution_count": 10,
   "metadata": {},
   "outputs": [],
   "source": [
    "#collect all embeddings in a feature matrix\n",
    "features = np.concatenate(embeddings) \n",
    "#and load the target feature\n",
    "target = batch_toxic['toxic']"
   ]
  },
  {
   "cell_type": "code",
   "execution_count": 11,
   "metadata": {},
   "outputs": [
    {
     "name": "stdout",
     "output_type": "stream",
     "text": [
      "Training sample size: 3000\n",
      "Test sample size: 1000\n",
      "Validation sample size: 1000\n"
     ]
    }
   ],
   "source": [
    "#prepare training, validation and test sets in a ratio of 3:1:1\n",
    "features_train, features_test, target_train, target_test = train_test_split(\n",
    "    features, target, test_size=0.2, random_state=12345)\n",
    "\n",
    "features_train, features_valid, target_train, target_valid = train_test_split(\n",
    "    features_train, target_train, test_size=0.25, random_state=12345)\n",
    "\n",
    "print('Training sample size:', len(target_train))\n",
    "print('Test sample size:', len(target_test))\n",
    "print('Validation sample size:', len(target_valid))"
   ]
  },
  {
   "cell_type": "markdown",
   "metadata": {},
   "source": [
    "Embeddings are ready, now we will train models on them."
   ]
  },
  {
   "cell_type": "markdown",
   "metadata": {},
   "source": [
    "## Training"
   ]
  },
  {
   "cell_type": "markdown",
   "metadata": {},
   "source": [
    "We will train 4 models: logistic regression, random forest, Catboost and LightGBM."
   ]
  },
  {
   "cell_type": "code",
   "execution_count": 12,
   "metadata": {},
   "outputs": [
    {
     "name": "stdout",
     "output_type": "stream",
     "text": [
      "F1 logistic regression: 0.9525318309141838\n",
      "CPU times: total: 4.83 s\n",
      "Wall time: 4.61 s\n"
     ]
    }
   ],
   "source": [
    "%%time\n",
    "\n",
    "#logistic regression\n",
    "logistic_model = LogisticRegression(random_state=12345, solver='saga')\n",
    "logistic_model.fit(features_train, target_train)\n",
    "\n",
    "print('F1 logistic regression:', cross_val_score(\n",
    "    logistic_model, features_valid, target_valid, cv=5, scoring='f1').mean())"
   ]
  },
  {
   "cell_type": "markdown",
   "metadata": {},
   "source": []
  },
  {
   "cell_type": "code",
   "execution_count": 13,
   "metadata": {},
   "outputs": [
    {
     "name": "stdout",
     "output_type": "stream",
     "text": [
      "Best Random Forest Options: {'max_depth': 12, 'n_estimators': 40}\n",
      "F1 of the random forest is: 0.9349524658348187\n",
      "CPU times: total: 3.41 s\n",
      "Wall time: 30.4 s\n"
     ]
    }
   ],
   "source": [
    "%%time\n",
    "\n",
    "#random forest\n",
    "\n",
    "forest_model = RandomForestClassifier(random_state=12345)\n",
    "forest_params = {'n_estimators':range(10, 50, 10), 'max_depth':range(10, 20)}\n",
    "forest_grid = GridSearchCV(forest_model, forest_params, cv=5, scoring='f1', n_jobs=-1)\n",
    "forest_grid.fit(features_train, target_train)\n",
    "\n",
    "print('Best Random Forest Options:', forest_grid.best_params_)\n",
    "print('F1 of the random forest is:',  cross_val_score(\n",
    "    forest_grid, features_valid, target_valid, cv=5, scoring='f1').mean())"
   ]
  },
  {
   "cell_type": "markdown",
   "metadata": {},
   "source": []
  },
  {
   "cell_type": "code",
   "execution_count": 14,
   "metadata": {},
   "outputs": [
    {
     "name": "stdout",
     "output_type": "stream",
     "text": [
      "Best Catboost Options: {'depth': 7, 'learning_rate': 0.05}\n",
      "F1 Catboost makes up: 0.9525318309141838\n",
      "CPU times: total: 4min 10s\n",
      "Wall time: 5min 24s\n"
     ]
    }
   ],
   "source": [
    "%%time\n",
    "\n",
    "#Catboost\n",
    "\n",
    "cat_model = CatBoostClassifier(iterations=100, verbose=False, random_state=12345)\n",
    "cat_params = {'learning_rate':[0.05, 0.1],\n",
    "              'depth':[5, 7]}\n",
    "cat_grid = GridSearchCV(cat_model, cat_params, cv=3, scoring='f1', n_jobs=-1)\n",
    "cat_grid.fit(features_train, target_train)\n",
    "\n",
    "print('Best Catboost Options:', cat_grid.best_params_)\n",
    "print('F1 Catboost makes up:', cross_val_score(\n",
    "    cat_grid, features_valid, target_valid, cv=5, scoring='f1').mean())"
   ]
  },
  {
   "cell_type": "markdown",
   "metadata": {},
   "source": []
  },
  {
   "cell_type": "code",
   "execution_count": 15,
   "metadata": {},
   "outputs": [
    {
     "name": "stdout",
     "output_type": "stream",
     "text": [
      "Best LightGBM Options: {'n_estimators': 150, 'num_leaves': 15}\n",
      "F1 LightGBM is: 0.9471536796536796\n",
      "CPU times: total: 46.2 s\n",
      "Wall time: 1min 41s\n"
     ]
    }
   ],
   "source": [
    "%%time\n",
    "\n",
    "#LightGBM\n",
    "\n",
    "gbm_model = LGBMClassifier(random_state=12345)\n",
    "gbm_params = {'n_estimators':[100, 150],\n",
    "              'num_leaves':[10, 15, 20]}\n",
    "gbm_grid = GridSearchCV(gbm_model, gbm_params, cv=5, scoring='f1', n_jobs=-1)\n",
    "gbm_grid.fit(features_train, target_train)\n",
    "\n",
    "print('Best LightGBM Options:', gbm_grid.best_params_)\n",
    "print('F1 LightGBM is:', cross_val_score(\n",
    "    gbm_grid, features_valid, target_valid, cv=5, scoring='f1').mean())"
   ]
  },
  {
   "cell_type": "markdown",
   "metadata": {},
   "source": [
    "All models showed an excellent f1 result, and the smallest result was obtained for the random forest equal to 0.934. At the same time, Catboost turned out to be slightly better than all with a score of 0.952. We will check it on a test sample."
   ]
  },
  {
   "cell_type": "markdown",
   "metadata": {},
   "source": [
    "Let's check the adequacy of our model in comparison with the constant model."
   ]
  },
  {
   "cell_type": "code",
   "execution_count": 16,
   "metadata": {},
   "outputs": [
    {
     "name": "stdout",
     "output_type": "stream",
     "text": [
      "Accuracy: 0.894\n",
      "F1 Dummy: 0.0\n"
     ]
    }
   ],
   "source": [
    "dummy_clf = DummyClassifier(strategy=\"prior\")\n",
    "dummy_clf.fit(features_train, target_train)\n",
    "dummy_clf_pred = dummy_clf.predict(features_train)\n",
    "print('Accuracy:', dummy_clf.score(dummy_clf_pred, target_train))\n",
    "print('F1 Dummy:', cross_val_score(dummy_clf, features_valid, target_valid, cv=5, scoring='f1').mean())"
   ]
  },
  {
   "cell_type": "markdown",
   "metadata": {},
   "source": [
    "F1 of the Dummy model is 0.0, and the accuracy is 0.894, which is logical, because this is the ratio of zeros and ones in the dataset."
   ]
  },
  {
   "cell_type": "code",
   "execution_count": 17,
   "metadata": {},
   "outputs": [
    {
     "data": {
      "text/html": [
       "<div>\n",
       "<style scoped>\n",
       "    .dataframe tbody tr th:only-of-type {\n",
       "        vertical-align: middle;\n",
       "    }\n",
       "\n",
       "    .dataframe tbody tr th {\n",
       "        vertical-align: top;\n",
       "    }\n",
       "\n",
       "    .dataframe thead th {\n",
       "        text-align: right;\n",
       "    }\n",
       "</style>\n",
       "<table border=\"1\" class=\"dataframe\">\n",
       "  <thead>\n",
       "    <tr style=\"text-align: right;\">\n",
       "      <th></th>\n",
       "      <th>Model</th>\n",
       "      <th>F1:</th>\n",
       "    </tr>\n",
       "  </thead>\n",
       "  <tbody>\n",
       "    <tr>\n",
       "      <th>0</th>\n",
       "      <td>Linear Regression</td>\n",
       "      <td>0.952</td>\n",
       "    </tr>\n",
       "    <tr>\n",
       "      <th>1</th>\n",
       "      <td>RandomForest</td>\n",
       "      <td>0.934</td>\n",
       "    </tr>\n",
       "    <tr>\n",
       "      <th>2</th>\n",
       "      <td>Catboost</td>\n",
       "      <td>0.952</td>\n",
       "    </tr>\n",
       "    <tr>\n",
       "      <th>3</th>\n",
       "      <td>LightGBM</td>\n",
       "      <td>0.947</td>\n",
       "    </tr>\n",
       "    <tr>\n",
       "      <th>4</th>\n",
       "      <td>Dummy Model</td>\n",
       "      <td>0.000</td>\n",
       "    </tr>\n",
       "  </tbody>\n",
       "</table>\n",
       "</div>"
      ],
      "text/plain": [
       "               Model    F1:\n",
       "0  Linear Regression  0.952\n",
       "1       RandomForest  0.934\n",
       "2           Catboost  0.952\n",
       "3           LightGBM  0.947\n",
       "4        Dummy Model  0.000"
      ]
     },
     "metadata": {},
     "output_type": "display_data"
    }
   ],
   "source": [
    "data={'Model': ['Linear Regression', 'RandomForest', 'Catboost', 'LightGBM', 'Dummy Model'],\n",
    "      'F1:': [0.952, 0.934, 0.952, 0.947, 0.0]}\n",
    "data_pivot=pd.DataFrame.from_dict(data)\n",
    "display(data_pivot)"
   ]
  },
  {
   "cell_type": "markdown",
   "metadata": {},
   "source": [
    "Let's check Catboost with the best parameters on a test set."
   ]
  },
  {
   "cell_type": "code",
   "execution_count": 18,
   "metadata": {},
   "outputs": [
    {
     "name": "stdout",
     "output_type": "stream",
     "text": [
      "F1 Catboost on the test set is: 0.9646054171054171\n"
     ]
    }
   ],
   "source": [
    "model = CatBoostClassifier(iterations=100, verbose=False,\n",
    "                           random_state=12345, learning_rate=0.05, depth=7)\n",
    "model.fit(features_train, target_train)\n",
    "predictions = model.predict(features_test)\n",
    "print('F1 Catboost on the test set is:',\n",
    "     cross_val_score(model, features_test, target_test, cv=5, scoring='f1').mean())"
   ]
  },
  {
   "cell_type": "markdown",
   "metadata": {},
   "source": [
    "We got an excellent result f1 equal to 0.964, which is even higher than on the validation set."
   ]
  },
  {
   "cell_type": "markdown",
   "metadata": {},
   "source": [
    "## Conclusion"
   ]
  },
  {
   "cell_type": "markdown",
   "metadata": {},
   "source": [
    "1. A pre-trained BERT neural network was used to prepare the text.\n",
    "2. A sample of 5000 random records was taken from the entire dataset to create embeddings.\n",
    "3. Four models were chosen for training: logistic regression, random forest, Catboost and LightGBM.\n",
    "4. All models showed an excellent result f1, but the Catboost model showed a slightly better result and f1 equal to 0.964 was obtained on the training set, and this result exceeded the result of the validation set."
   ]
  },
  {
   "cell_type": "code",
   "execution_count": null,
   "metadata": {},
   "outputs": [],
   "source": []
  }
 ],
 "metadata": {
  "kernelspec": {
   "display_name": "Python 3 (ipykernel)",
   "language": "python",
   "name": "python3"
  },
  "language_info": {
   "codemirror_mode": {
    "name": "ipython",
    "version": 3
   },
   "file_extension": ".py",
   "mimetype": "text/x-python",
   "name": "python",
   "nbconvert_exporter": "python",
   "pygments_lexer": "ipython3",
   "version": "3.9.10"
  },
  "toc": {
   "base_numbering": 1,
   "nav_menu": {},
   "number_sections": true,
   "sideBar": true,
   "skip_h1_title": true,
   "title_cell": "Содержание",
   "title_sidebar": "Contents",
   "toc_cell": true,
   "toc_position": {
    "height": "calc(100% - 180px)",
    "left": "10px",
    "top": "150px",
    "width": "302.391px"
   },
   "toc_section_display": true,
   "toc_window_display": false
  }
 },
 "nbformat": 4,
 "nbformat_minor": 2
}
