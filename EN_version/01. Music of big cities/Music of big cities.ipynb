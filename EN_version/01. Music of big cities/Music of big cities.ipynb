{
 "cells": [
  {
   "cell_type": "markdown",
   "metadata": {
    "id": "E0vqbgi9ay0H"
   },
   "source": [
    "# Yandex Music"
   ]
  },
  {
   "cell_type": "markdown",
   "metadata": {
    "id": "VUC88oWjTJw2"
   },
   "source": [
    "Comparison of Moscow and St. Petersburg is surrounded by myths. For example:\n",
    " * Moscow is a metropolis subject to the rigid rhythm of the working week;\n",
    " * Petersburg - the cultural capital, with its own tastes.\n",
    "\n",
    "Using Yandex.Music data, you will compare the behavior of users in the two capitals.\n",
    "\n",
    "**Purpose of the study** — test three hypotheses:\n",
    "1. User activity depends on the day of the week. Moreover, in Moscow and St. Petersburg, this manifests itself in different ways.\n",
    "2. On Monday morning, certain genres dominate in Moscow, while others dominate in St. Petersburg. Similarly, Friday nights are dominated by different genres, depending on the city. \n",
    "3. Moscow and St. Petersburg prefer different genres of music. In Moscow, they listen to pop music more often, in St. Petersburg - Russian rap.\n",
    "\n",
    "**Research progress**\n",
    "\n",
    "You will receive data on user behavior from the `yandex_music_project.csv` file. Nothing is known about the quality of the data. Therefore, before testing hypotheses, a review of the data is needed.\n",
    "\n",
    "You will check the data for errors and assess their impact on the study. Then, in the pre-processing phase, you will look for opportunities to correct the most critical data errors.\n",
    " \n",
    "Thus, the study will take place in three stages:\n",
    " 1. Data overview.\n",
    " 2. Data preprocessing.\n",
    " 3. Hypothesis testing.\n",
    "\n"
   ]
  },
  {
   "cell_type": "markdown",
   "metadata": {
    "id": "Ml1hmfXC_Zcs"
   },
   "source": [
    "## Data overview\n",
    "\n",
    "Get the first idea about Yandex.Music data."
   ]
  },
  {
   "cell_type": "markdown",
   "metadata": {
    "id": "57eAOGIz_Zcs"
   },
   "source": [
    "The main analytics tool is `pandas`. Import this library."
   ]
  },
  {
   "cell_type": "code",
   "execution_count": 612,
   "metadata": {
    "id": "AXN7PHPN_Zcs"
   },
   "outputs": [],
   "source": [
    "import pandas as pd # pandas library import"
   ]
  },
  {
   "cell_type": "markdown",
   "metadata": {
    "id": "SG23P8tt_Zcs"
   },
   "source": [
    "Read the `yandex_music_project.csv` file from the `/datasets` folder and save it in the `df` variable:"
   ]
  },
  {
   "cell_type": "code",
   "execution_count": 613,
   "metadata": {
    "id": "fFVu7vqh_Zct"
   },
   "outputs": [],
   "source": [
    "df = pd.read_csv('/datasets/yandex_music_project.csv') # reading data file and saving to df"
   ]
  },
  {
   "cell_type": "markdown",
   "metadata": {
    "id": "rDoOMd3uTqnZ"
   },
   "source": [
    "Display the first ten rows of the table:"
   ]
  },
  {
   "cell_type": "code",
   "execution_count": 614,
   "metadata": {
    "id": "oWTVX3gW_Zct"
   },
   "outputs": [
    {
     "data": {
      "text/html": [
       "<div>\n",
       "<style scoped>\n",
       "    .dataframe tbody tr th:only-of-type {\n",
       "        vertical-align: middle;\n",
       "    }\n",
       "\n",
       "    .dataframe tbody tr th {\n",
       "        vertical-align: top;\n",
       "    }\n",
       "\n",
       "    .dataframe thead th {\n",
       "        text-align: right;\n",
       "    }\n",
       "</style>\n",
       "<table border=\"1\" class=\"dataframe\">\n",
       "  <thead>\n",
       "    <tr style=\"text-align: right;\">\n",
       "      <th></th>\n",
       "      <th>userID</th>\n",
       "      <th>Track</th>\n",
       "      <th>artist</th>\n",
       "      <th>genre</th>\n",
       "      <th>City</th>\n",
       "      <th>time</th>\n",
       "      <th>Day</th>\n",
       "    </tr>\n",
       "  </thead>\n",
       "  <tbody>\n",
       "    <tr>\n",
       "      <td>0</td>\n",
       "      <td>FFB692EC</td>\n",
       "      <td>Kamigata To Boots</td>\n",
       "      <td>The Mass Missile</td>\n",
       "      <td>rock</td>\n",
       "      <td>Saint-Petersburg</td>\n",
       "      <td>20:28:33</td>\n",
       "      <td>Wednesday</td>\n",
       "    </tr>\n",
       "    <tr>\n",
       "      <td>1</td>\n",
       "      <td>55204538</td>\n",
       "      <td>Delayed Because of Accident</td>\n",
       "      <td>Andreas Rönnberg</td>\n",
       "      <td>rock</td>\n",
       "      <td>Moscow</td>\n",
       "      <td>14:07:09</td>\n",
       "      <td>Friday</td>\n",
       "    </tr>\n",
       "    <tr>\n",
       "      <td>2</td>\n",
       "      <td>20EC38</td>\n",
       "      <td>Funiculì funiculà</td>\n",
       "      <td>Mario Lanza</td>\n",
       "      <td>pop</td>\n",
       "      <td>Saint-Petersburg</td>\n",
       "      <td>20:58:07</td>\n",
       "      <td>Wednesday</td>\n",
       "    </tr>\n",
       "    <tr>\n",
       "      <td>3</td>\n",
       "      <td>A3DD03C9</td>\n",
       "      <td>Dragons in the Sunset</td>\n",
       "      <td>Fire + Ice</td>\n",
       "      <td>folk</td>\n",
       "      <td>Saint-Petersburg</td>\n",
       "      <td>08:37:09</td>\n",
       "      <td>Monday</td>\n",
       "    </tr>\n",
       "    <tr>\n",
       "      <td>4</td>\n",
       "      <td>E2DC1FAE</td>\n",
       "      <td>Soul People</td>\n",
       "      <td>Space Echo</td>\n",
       "      <td>dance</td>\n",
       "      <td>Moscow</td>\n",
       "      <td>08:34:34</td>\n",
       "      <td>Monday</td>\n",
       "    </tr>\n",
       "    <tr>\n",
       "      <td>5</td>\n",
       "      <td>842029A1</td>\n",
       "      <td>Преданная</td>\n",
       "      <td>IMPERVTOR</td>\n",
       "      <td>rusrap</td>\n",
       "      <td>Saint-Petersburg</td>\n",
       "      <td>13:09:41</td>\n",
       "      <td>Friday</td>\n",
       "    </tr>\n",
       "    <tr>\n",
       "      <td>6</td>\n",
       "      <td>4CB90AA5</td>\n",
       "      <td>True</td>\n",
       "      <td>Roman Messer</td>\n",
       "      <td>dance</td>\n",
       "      <td>Moscow</td>\n",
       "      <td>13:00:07</td>\n",
       "      <td>Wednesday</td>\n",
       "    </tr>\n",
       "    <tr>\n",
       "      <td>7</td>\n",
       "      <td>F03E1C1F</td>\n",
       "      <td>Feeling This Way</td>\n",
       "      <td>Polina Griffith</td>\n",
       "      <td>dance</td>\n",
       "      <td>Moscow</td>\n",
       "      <td>20:47:49</td>\n",
       "      <td>Wednesday</td>\n",
       "    </tr>\n",
       "    <tr>\n",
       "      <td>8</td>\n",
       "      <td>8FA1D3BE</td>\n",
       "      <td>И вновь продолжается бой</td>\n",
       "      <td>NaN</td>\n",
       "      <td>ruspop</td>\n",
       "      <td>Moscow</td>\n",
       "      <td>09:17:40</td>\n",
       "      <td>Friday</td>\n",
       "    </tr>\n",
       "    <tr>\n",
       "      <td>9</td>\n",
       "      <td>E772D5C0</td>\n",
       "      <td>Pessimist</td>\n",
       "      <td>NaN</td>\n",
       "      <td>dance</td>\n",
       "      <td>Saint-Petersburg</td>\n",
       "      <td>21:20:49</td>\n",
       "      <td>Wednesday</td>\n",
       "    </tr>\n",
       "  </tbody>\n",
       "</table>\n",
       "</div>"
      ],
      "text/plain": [
       "     userID                        Track            artist   genre  \\\n",
       "0  FFB692EC            Kamigata To Boots  The Mass Missile    rock   \n",
       "1  55204538  Delayed Because of Accident  Andreas Rönnberg    rock   \n",
       "2    20EC38            Funiculì funiculà       Mario Lanza     pop   \n",
       "3  A3DD03C9        Dragons in the Sunset        Fire + Ice    folk   \n",
       "4  E2DC1FAE                  Soul People        Space Echo   dance   \n",
       "5  842029A1                    Преданная         IMPERVTOR  rusrap   \n",
       "6  4CB90AA5                         True      Roman Messer   dance   \n",
       "7  F03E1C1F             Feeling This Way   Polina Griffith   dance   \n",
       "8  8FA1D3BE     И вновь продолжается бой               NaN  ruspop   \n",
       "9  E772D5C0                    Pessimist               NaN   dance   \n",
       "\n",
       "             City        time        Day  \n",
       "0  Saint-Petersburg  20:28:33  Wednesday  \n",
       "1            Moscow  14:07:09     Friday  \n",
       "2  Saint-Petersburg  20:58:07  Wednesday  \n",
       "3  Saint-Petersburg  08:37:09     Monday  \n",
       "4            Moscow  08:34:34     Monday  \n",
       "5  Saint-Petersburg  13:09:41     Friday  \n",
       "6            Moscow  13:00:07  Wednesday  \n",
       "7            Moscow  20:47:49  Wednesday  \n",
       "8            Moscow  09:17:40     Friday  \n",
       "9  Saint-Petersburg  21:20:49  Wednesday  "
      ]
     },
     "metadata": {},
     "output_type": "display_data"
    }
   ],
   "source": [
    "display(df.head(10)) # getting first 10 rows of df table"
   ]
  },
  {
   "cell_type": "markdown",
   "metadata": {
    "id": "EO73Kwic_Zct"
   },
   "source": [
    "One command to get general information about the table:"
   ]
  },
  {
   "cell_type": "code",
   "execution_count": 615,
   "metadata": {
    "id": "DSf2kIb-_Zct"
   },
   "outputs": [
    {
     "name": "stdout",
     "output_type": "stream",
     "text": [
      "<class 'pandas.core.frame.DataFrame'>\n",
      "RangeIndex: 65079 entries, 0 to 65078\n",
      "Data columns (total 7 columns):\n",
      "  userID    65079 non-null object\n",
      "Track       63848 non-null object\n",
      "artist      57876 non-null object\n",
      "genre       63881 non-null object\n",
      "  City      65079 non-null object\n",
      "time        65079 non-null object\n",
      "Day         65079 non-null object\n",
      "dtypes: object(7)\n",
      "memory usage: 3.5+ MB\n"
     ]
    }
   ],
   "source": [
    "df.info() # getting general information about data in df table"
   ]
  },
  {
   "cell_type": "markdown",
   "metadata": {
    "id": "TaQ2Iwbr_Zct"
   },
   "source": [
    "So the table has seven columns. The data type in all columns is `object`.\n",
    "\n",
    "According to data documentation:\n",
    "* `userID` — user ID;\n",
    "* `Track` — name of the track;  \n",
    "* `artist` — artist name;\n",
    "* `genre` — genre name;\n",
    "* `City` — user's city;\n",
    "* `time` — listening start time;\n",
    "* `Day` — day of the week.\n",
    "\n",
    "There are three style violations in the column headings:\n",
    "1. Lowercase letters are combined with uppercase.\n",
    "2. There are gaps.\n",
    "3. Snake register is not used.\n",
    "\n",
    "\n",
    "\n",
    "The number of values in the columns varies. This means there are missing values in the data.\n"
   ]
  },
  {
   "cell_type": "markdown",
   "metadata": {
    "id": "MCB6-dXG_Zct"
   },
   "source": [
    "**Conclusions**\n",
    "\n",
    "Each line of the table contains data about the track you have listened to. Some of the columns describe the composition itself: title, artist and genre. The rest of the data tells about the user: what city he is from, when he listened to music.\n",
    "\n",
    "Preliminarily, it can be argued that there is enough data to test hypotheses. But there are gaps in the data, and discrepancies in the names of the columns with good style.\n",
    "\n",
    "To move forward, you need to fix problems in the data."
   ]
  },
  {
   "cell_type": "markdown",
   "metadata": {
    "id": "SjYF6Ub9_Zct"
   },
   "source": [
    "## Data preprocessing\n",
    "Correct the style in the column headings, eliminate gaps. Then check the data for duplicates."
   ]
  },
  {
   "cell_type": "markdown",
   "metadata": {
    "id": "dIaKXr29_Zct"
   },
   "source": [
    "### Heading style\n",
    "Display the column names:"
   ]
  },
  {
   "cell_type": "code",
   "execution_count": 616,
   "metadata": {
    "id": "oKOTdF_Q_Zct"
   },
   "outputs": [
    {
     "data": {
      "text/plain": [
       "Index(['  userID', 'Track', 'artist', 'genre', '  City  ', 'time', 'Day'], dtype='object')"
      ]
     },
     "metadata": {},
     "output_type": "display_data"
    }
   ],
   "source": [
    "display(df.columns) # list of column names of table df"
   ]
  },
  {
   "cell_type": "markdown",
   "metadata": {
    "id": "zj5534cv_Zct"
   },
   "source": [
    "Get your titles in good style:\n",
    "* write a few words in the title in \"snake_register\",\n",
    "* make all characters lowercase,\n",
    "* fill in the gaps.\n",
    "\n",
    "To do this, rename the columns like this:\n",
    "* `'  userID'` → `'user_id'`;\n",
    "* `'Track'` → `'track'`;\n",
    "* `'  City  '` → `'city'`;\n",
    "* `'Day'` → `'day'`."
   ]
  },
  {
   "cell_type": "code",
   "execution_count": 617,
   "metadata": {
    "id": "ISlFqs5y_Zct"
   },
   "outputs": [],
   "source": [
    "df = df.rename(columns = {'  userID' : 'user_id', 'Track': 'track', '  City  ' : 'city', 'Day' : 'day'}) # renaming columns"
   ]
  },
  {
   "cell_type": "markdown",
   "metadata": {
    "id": "1dqbh00J_Zct"
   },
   "source": [
    "Check the result. To do this, display the column names again:"
   ]
  },
  {
   "cell_type": "code",
   "execution_count": 618,
   "metadata": {
    "id": "d4NOAmTW_Zct"
   },
   "outputs": [
    {
     "data": {
      "text/plain": [
       "Index(['user_id', 'track', 'artist', 'genre', 'city', 'time', 'day'], dtype='object')"
      ]
     },
     "metadata": {},
     "output_type": "display_data"
    }
   ],
   "source": [
    "display(df.columns) # check results - list column names"
   ]
  },
  {
   "cell_type": "markdown",
   "metadata": {
    "id": "5ISfbcfY_Zct"
   },
   "source": [
    "### Missing values\n",
    "First, count how many missing values are in the table. Two `pandas` methods are sufficient for this:"
   ]
  },
  {
   "cell_type": "code",
   "execution_count": 619,
   "metadata": {
    "id": "RskX29qr_Zct"
   },
   "outputs": [
    {
     "data": {
      "text/plain": [
       "user_id       0\n",
       "track      1231\n",
       "artist     7203\n",
       "genre      1198\n",
       "city          0\n",
       "time          0\n",
       "day           0\n",
       "dtype: int64"
      ]
     },
     "metadata": {},
     "output_type": "display_data"
    }
   ],
   "source": [
    "display(df.isna().sum()) # skip count"
   ]
  },
  {
   "cell_type": "markdown",
   "metadata": {
    "id": "qubhgnlO_Zct"
   },
   "source": [
    "Not all missing values affect the study. So in `track` and `artist` the gaps are not important for your work. It suffices to replace them with explicit notation.\n",
    "\n",
    "But omissions in `genre` can interfere with the comparison of musical tastes in Moscow and St. Petersburg. In practice, it would be correct to determine the cause of the gaps and restore the data. This option is not available in the curriculum. Have to:\n",
    "* fill in these gaps with explicit notation,\n",
    "* estimate how much they will damage the calculations. "
   ]
  },
  {
   "cell_type": "markdown",
   "metadata": {
    "id": "fSv2laPA_Zct"
   },
   "source": [
    "Replace the missing values in the `track`, `artist` and `genre` columns with the string `'unknown'`. To do this, create a `columns_to_replace` list, iterate through its elements with a `for` loop, and for each column, replace the missing values:"
   ]
  },
  {
   "cell_type": "code",
   "execution_count": 620,
   "metadata": {
    "id": "KplB5qWs_Zct"
   },
   "outputs": [],
   "source": [
    "columns_to_replace = ['track', 'artist', 'genre']\n",
    "for column in columns_to_replace:\n",
    "    df[column] = df[column].fillna('unknown')"
   ]
  },
  {
   "cell_type": "markdown",
   "metadata": {
    "id": "Ilsm-MZo_Zct"
   },
   "source": [
    "Make sure there are no gaps in the table. To do this, count the missing values again."
   ]
  },
  {
   "cell_type": "code",
   "execution_count": 621,
   "metadata": {
    "id": "Tq4nYRX4_Zct"
   },
   "outputs": [
    {
     "data": {
      "text/plain": [
       "user_id    0\n",
       "track      0\n",
       "artist     0\n",
       "genre      0\n",
       "city       0\n",
       "time       0\n",
       "day        0\n",
       "dtype: int64"
      ]
     },
     "metadata": {},
     "output_type": "display_data"
    }
   ],
   "source": [
    "display(df.isna().sum()) # skip count"
   ]
  },
  {
   "cell_type": "markdown",
   "metadata": {
    "id": "BWKRtBJ3_Zct"
   },
   "source": [
    "### Duplicates\n",
    "Count explicit duplicates in a table with one command:"
   ]
  },
  {
   "cell_type": "code",
   "execution_count": 622,
   "metadata": {
    "id": "36eES_S0_Zct"
   },
   "outputs": [
    {
     "name": "stdout",
     "output_type": "stream",
     "text": [
      "3826\n"
     ]
    }
   ],
   "source": [
    "print(df.duplicated().sum()) # counting clear duplicates"
   ]
  },
  {
   "cell_type": "markdown",
   "metadata": {
    "id": "Ot25h6XR_Zct"
   },
   "source": [
    "Call the special `pandas` method to remove obvious duplicates:"
   ]
  },
  {
   "cell_type": "code",
   "execution_count": 623,
   "metadata": {
    "id": "exFHq6tt_Zct"
   },
   "outputs": [],
   "source": [
    "df = df.drop_duplicates().reset_index(drop=True)  # removal of explicit duplicates (with the removal of old indexes and the formation of new ones)"
   ]
  },
  {
   "cell_type": "markdown",
   "metadata": {
    "id": "Im2YwBEG_Zct"
   },
   "source": [
    "Once again, count the obvious duplicates in the table - make sure you get rid of them completely:"
   ]
  },
  {
   "cell_type": "code",
   "execution_count": 624,
   "metadata": {
    "id": "-8PuNWQ0_Zct"
   },
   "outputs": [
    {
     "name": "stdout",
     "output_type": "stream",
     "text": [
      "0\n"
     ]
    }
   ],
   "source": [
    "print(df.duplicated().sum()) # check for duplicates"
   ]
  },
  {
   "cell_type": "markdown",
   "metadata": {
    "id": "QlFBsxAr_Zct"
   },
   "source": [
    "Now get rid of the implicit duplicates in the `genre` column. For example, the name of the same genre can be spelled slightly differently. Such errors will also affect the result of the study."
   ]
  },
  {
   "cell_type": "markdown",
   "metadata": {
    "id": "eSjWwsOh_Zct"
   },
   "source": [
    "Display a list of unique genre names sorted alphabetically. For this:\n",
    "* retrieve desired dataframe column, \n",
    "* apply sort method to it,\n",
    "* for a sorted column, call a method that will return the unique values from the column."
   ]
  },
  {
   "cell_type": "code",
   "execution_count": 625,
   "metadata": {
    "id": "JIUcqzZN_Zct"
   },
   "outputs": [
    {
     "name": "stdout",
     "output_type": "stream",
     "text": [
      "['acid' 'acoustic' 'action' 'adult' 'africa' 'afrikaans' 'alternative'\n",
      " 'alternativepunk' 'ambient' 'americana' 'animated' 'anime' 'arabesk'\n",
      " 'arabic' 'arena' 'argentinetango' 'art' 'audiobook' 'author' 'avantgarde'\n",
      " 'axé' 'baile' 'balkan' 'beats' 'bigroom' 'black' 'bluegrass' 'blues'\n",
      " 'bollywood' 'bossa' 'brazilian' 'breakbeat' 'breaks' 'broadway'\n",
      " 'cantautori' 'cantopop' 'canzone' 'caribbean' 'caucasian' 'celtic'\n",
      " 'chamber' 'chanson' 'children' 'chill' 'chinese' 'choral' 'christian'\n",
      " 'christmas' 'classical' 'classicmetal' 'club' 'colombian' 'comedy'\n",
      " 'conjazz' 'contemporary' 'country' 'cuban' 'dance' 'dancehall' 'dancepop'\n",
      " 'dark' 'death' 'deep' 'deutschrock' 'deutschspr' 'dirty' 'disco' 'dnb'\n",
      " 'documentary' 'downbeat' 'downtempo' 'drum' 'dub' 'dubstep' 'eastern'\n",
      " 'easy' 'electronic' 'electropop' 'emo' 'entehno' 'epicmetal' 'estrada'\n",
      " 'ethnic' 'eurofolk' 'european' 'experimental' 'extrememetal' 'fado'\n",
      " 'fairytail' 'film' 'fitness' 'flamenco' 'folk' 'folklore' 'folkmetal'\n",
      " 'folkrock' 'folktronica' 'forró' 'frankreich' 'französisch' 'french'\n",
      " 'funk' 'future' 'gangsta' 'garage' 'german' 'ghazal' 'gitarre' 'glitch'\n",
      " 'gospel' 'gothic' 'grime' 'grunge' 'gypsy' 'handsup' \"hard'n'heavy\"\n",
      " 'hardcore' 'hardstyle' 'hardtechno' 'hip' 'hip-hop' 'hiphop' 'historisch'\n",
      " 'holiday' 'hop' 'horror' 'house' 'hymn' 'idm' 'independent' 'indian'\n",
      " 'indie' 'indipop' 'industrial' 'inspirational' 'instrumental'\n",
      " 'international' 'irish' 'jam' 'japanese' 'jazz' 'jewish' 'jpop' 'jungle'\n",
      " 'k-pop' 'karadeniz' 'karaoke' 'kayokyoku' 'korean' 'laiko' 'latin'\n",
      " 'latino' 'leftfield' 'local' 'lounge' 'loungeelectronic' 'lovers'\n",
      " 'malaysian' 'mandopop' 'marschmusik' 'meditative' 'mediterranean'\n",
      " 'melodic' 'metal' 'metalcore' 'mexican' 'middle' 'minimal'\n",
      " 'miscellaneous' 'modern' 'mood' 'mpb' 'muslim' 'native' 'neoklassik'\n",
      " 'neue' 'new' 'newage' 'newwave' 'nu' 'nujazz' 'numetal' 'oceania' 'old'\n",
      " 'opera' 'orchestral' 'other' 'piano' 'podcasts' 'pop' 'popdance'\n",
      " 'popelectronic' 'popeurodance' 'poprussian' 'post' 'posthardcore'\n",
      " 'postrock' 'power' 'progmetal' 'progressive' 'psychedelic' 'punjabi'\n",
      " 'punk' 'quebecois' 'ragga' 'ram' 'rancheras' 'rap' 'rave' 'reggae'\n",
      " 'reggaeton' 'regional' 'relax' 'religious' 'retro' 'rhythm' 'rnb' 'rnr'\n",
      " 'rock' 'rockabilly' 'rockalternative' 'rockindie' 'rockother' 'romance'\n",
      " 'roots' 'ruspop' 'rusrap' 'rusrock' 'russian' 'salsa' 'samba' 'scenic'\n",
      " 'schlager' 'self' 'sertanejo' 'shanson' 'shoegazing' 'showtunes' 'singer'\n",
      " 'ska' 'skarock' 'slow' 'smooth' 'soft' 'soul' 'soulful' 'sound'\n",
      " 'soundtrack' 'southern' 'specialty' 'speech' 'spiritual' 'sport'\n",
      " 'stonerrock' 'surf' 'swing' 'synthpop' 'synthrock' 'sängerportrait'\n",
      " 'tango' 'tanzorchester' 'taraftar' 'tatar' 'tech' 'techno' 'teen'\n",
      " 'thrash' 'top' 'traditional' 'tradjazz' 'trance' 'tribal' 'trip'\n",
      " 'triphop' 'tropical' 'türk' 'türkçe' 'ukrrock' 'unknown' 'urban' 'uzbek'\n",
      " 'variété' 'vi' 'videogame' 'vocal' 'western' 'world' 'worldbeat' 'ïîï'\n",
      " 'электроника']\n"
     ]
    }
   ],
   "source": [
    "print(df['genre'].sort_values().unique())"
   ]
  },
  {
   "cell_type": "markdown",
   "metadata": {
    "id": "qej-Qmuo_Zct"
   },
   "source": [
    "Look through the list and look for implicit duplicates of the name `hiphop`. These may be misspelled titles or alternative titles in the same genre.\n",
    "\n",
    "You will see the following implicit duplicates:\n",
    "* *hip*,\n",
    "* *hop*,\n",
    "* *hip-hop*.\n",
    "\n",
    "To clear the table of them, write the `replace_wrong_genres()` function with two parameters: \n",
    "* `wrong_genres` — list of duplicates,\n",
    "* `correct_genre` — string with correct value.\n",
    "\n",
    "The function should correct the `genre` column in the `df` table: replace each value from the `wrong_genres` list with a value from `correct_genre`."
   ]
  },
  {
   "cell_type": "code",
   "execution_count": 626,
   "metadata": {
    "id": "ErNDkmns_Zct"
   },
   "outputs": [],
   "source": [
    "def replace_wrong_genres(wrong_genres, correct_genre):\n",
    "    for wrong_genre in wrong_genres:\n",
    "        df['genre'] = df['genre'].replace(wrong_genre, correct_genre)"
   ]
  },
  {
   "cell_type": "markdown",
   "metadata": {
    "id": "aDoBJxbA_Zct"
   },
   "source": [
    "Call `replace_wrong_genres()` and pass it arguments such that it eliminates implicit duplicates: instead of `hip`, `hop` and `hip-hop` the table should have the value `hiphop`:"
   ]
  },
  {
   "cell_type": "code",
   "execution_count": 627,
   "metadata": {
    "id": "YN5i2hpmSo09"
   },
   "outputs": [],
   "source": [
    "duplicates = ['hip', 'hop', 'hip-hop']\n",
    "correct = 'hiphop'\n",
    "replace_wrong_genres(duplicates, correct)"
   ]
  },
  {
   "cell_type": "markdown",
   "metadata": {
    "id": "zQKF16_RG15m"
   },
   "source": [
    "Check that you have replaced the wrong names:\n",
    "\n",
    "*   hip\n",
    "*   hop\n",
    "*   hip-hop\n",
    "\n",
    "Print a sorted list of unique values in the `genre` column:"
   ]
  },
  {
   "cell_type": "code",
   "execution_count": 628,
   "metadata": {
    "id": "wvixALnFG15m"
   },
   "outputs": [
    {
     "name": "stdout",
     "output_type": "stream",
     "text": [
      "['acid' 'acoustic' 'action' 'adult' 'africa' 'afrikaans' 'alternative'\n",
      " 'alternativepunk' 'ambient' 'americana' 'animated' 'anime' 'arabesk'\n",
      " 'arabic' 'arena' 'argentinetango' 'art' 'audiobook' 'author' 'avantgarde'\n",
      " 'axé' 'baile' 'balkan' 'beats' 'bigroom' 'black' 'bluegrass' 'blues'\n",
      " 'bollywood' 'bossa' 'brazilian' 'breakbeat' 'breaks' 'broadway'\n",
      " 'cantautori' 'cantopop' 'canzone' 'caribbean' 'caucasian' 'celtic'\n",
      " 'chamber' 'chanson' 'children' 'chill' 'chinese' 'choral' 'christian'\n",
      " 'christmas' 'classical' 'classicmetal' 'club' 'colombian' 'comedy'\n",
      " 'conjazz' 'contemporary' 'country' 'cuban' 'dance' 'dancehall' 'dancepop'\n",
      " 'dark' 'death' 'deep' 'deutschrock' 'deutschspr' 'dirty' 'disco' 'dnb'\n",
      " 'documentary' 'downbeat' 'downtempo' 'drum' 'dub' 'dubstep' 'eastern'\n",
      " 'easy' 'electronic' 'electropop' 'emo' 'entehno' 'epicmetal' 'estrada'\n",
      " 'ethnic' 'eurofolk' 'european' 'experimental' 'extrememetal' 'fado'\n",
      " 'fairytail' 'film' 'fitness' 'flamenco' 'folk' 'folklore' 'folkmetal'\n",
      " 'folkrock' 'folktronica' 'forró' 'frankreich' 'französisch' 'french'\n",
      " 'funk' 'future' 'gangsta' 'garage' 'german' 'ghazal' 'gitarre' 'glitch'\n",
      " 'gospel' 'gothic' 'grime' 'grunge' 'gypsy' 'handsup' \"hard'n'heavy\"\n",
      " 'hardcore' 'hardstyle' 'hardtechno' 'hiphop' 'historisch' 'holiday'\n",
      " 'horror' 'house' 'hymn' 'idm' 'independent' 'indian' 'indie' 'indipop'\n",
      " 'industrial' 'inspirational' 'instrumental' 'international' 'irish' 'jam'\n",
      " 'japanese' 'jazz' 'jewish' 'jpop' 'jungle' 'k-pop' 'karadeniz' 'karaoke'\n",
      " 'kayokyoku' 'korean' 'laiko' 'latin' 'latino' 'leftfield' 'local'\n",
      " 'lounge' 'loungeelectronic' 'lovers' 'malaysian' 'mandopop' 'marschmusik'\n",
      " 'meditative' 'mediterranean' 'melodic' 'metal' 'metalcore' 'mexican'\n",
      " 'middle' 'minimal' 'miscellaneous' 'modern' 'mood' 'mpb' 'muslim'\n",
      " 'native' 'neoklassik' 'neue' 'new' 'newage' 'newwave' 'nu' 'nujazz'\n",
      " 'numetal' 'oceania' 'old' 'opera' 'orchestral' 'other' 'piano' 'podcasts'\n",
      " 'pop' 'popdance' 'popelectronic' 'popeurodance' 'poprussian' 'post'\n",
      " 'posthardcore' 'postrock' 'power' 'progmetal' 'progressive' 'psychedelic'\n",
      " 'punjabi' 'punk' 'quebecois' 'ragga' 'ram' 'rancheras' 'rap' 'rave'\n",
      " 'reggae' 'reggaeton' 'regional' 'relax' 'religious' 'retro' 'rhythm'\n",
      " 'rnb' 'rnr' 'rock' 'rockabilly' 'rockalternative' 'rockindie' 'rockother'\n",
      " 'romance' 'roots' 'ruspop' 'rusrap' 'rusrock' 'russian' 'salsa' 'samba'\n",
      " 'scenic' 'schlager' 'self' 'sertanejo' 'shanson' 'shoegazing' 'showtunes'\n",
      " 'singer' 'ska' 'skarock' 'slow' 'smooth' 'soft' 'soul' 'soulful' 'sound'\n",
      " 'soundtrack' 'southern' 'specialty' 'speech' 'spiritual' 'sport'\n",
      " 'stonerrock' 'surf' 'swing' 'synthpop' 'synthrock' 'sängerportrait'\n",
      " 'tango' 'tanzorchester' 'taraftar' 'tatar' 'tech' 'techno' 'teen'\n",
      " 'thrash' 'top' 'traditional' 'tradjazz' 'trance' 'tribal' 'trip'\n",
      " 'triphop' 'tropical' 'türk' 'türkçe' 'ukrrock' 'unknown' 'urban' 'uzbek'\n",
      " 'variété' 'vi' 'videogame' 'vocal' 'western' 'world' 'worldbeat' 'ïîï'\n",
      " 'электроника']\n"
     ]
    }
   ],
   "source": [
    "print(df['genre'].sort_values().unique()) # Checking for Implicit Duplicates"
   ]
  },
  {
   "cell_type": "markdown",
   "metadata": {
    "id": "jz6a9-7HQUDd"
   },
   "source": [
    "**Conclusions**\n",
    "\n",
    "Preprocessing found three problems in the data:\n",
    "\n",
    "- header style violations,\n",
    "- missing values,\n",
    "- duplicates - explicit and implicit.\n",
    "\n",
    "You've fixed the headers to make the table easier to work with. Without duplicates, the study will become more accurate.\n",
    "\n",
    "You have replaced missing values with `'unknown'`. It remains to be seen whether the gaps in the `genre` column will harm the study.\n",
    "\n",
    "Now we can move on to hypothesis testing."
   ]
  },
  {
   "cell_type": "markdown",
   "metadata": {
    "id": "WttZHXH0SqKk"
   },
   "source": [
    "## Hypothesis testing"
   ]
  },
  {
   "cell_type": "markdown",
   "metadata": {
    "id": "Im936VVi_Zcu"
   },
   "source": [
    "### Comparison of user behavior of two capitals"
   ]
  },
  {
   "cell_type": "markdown",
   "metadata": {
    "id": "nwt_MuaL_Zcu"
   },
   "source": [
    "The first hypothesis states that users listen to music differently in Moscow and St. Petersburg. Check this assumption against the data on the three days of the week - Monday, Wednesday and Friday. For this:\n",
    "\n",
    "* Separate users of Moscow and St. Petersburg\n",
    "* Compare how many tracks each group of users listened to on Monday, Wednesday and Friday.\n"
   ]
  },
  {
   "cell_type": "markdown",
   "metadata": {
    "id": "8Dw_YMmT_Zcu"
   },
   "source": [
    "For training, first perform each of the calculations separately.\n",
    "\n",
    "Estimate user activity in each city. Group the data by city and count the plays in each group.\n",
    "\n"
   ]
  },
  {
   "cell_type": "code",
   "execution_count": 629,
   "metadata": {
    "id": "0_Qs96oh_Zcu"
   },
   "outputs": [
    {
     "data": {
      "text/plain": [
       "city\n",
       "Moscow              42741\n",
       "Saint-Petersburg    18512\n",
       "Name: time, dtype: int64"
      ]
     },
     "execution_count": 629,
     "metadata": {},
     "output_type": "execute_result"
    }
   ],
   "source": [
    "df.groupby('city')['time'].count()"
   ]
  },
  {
   "cell_type": "markdown",
   "metadata": {
    "id": "dzli3w8o_Zcu"
   },
   "source": [
    "There are more auditions in Moscow than in St. Petersburg. It does not follow from this that Moscow users listen to music more often. There are simply more users in Moscow.\n",
    "\n",
    "Now group the data by day of the week and count the plays on Monday, Wednesday, and Friday. Please note that the data only contains information about the plays for these days only.\n"
   ]
  },
  {
   "cell_type": "code",
   "execution_count": 630,
   "metadata": {
    "id": "uZMKjiJz_Zcu"
   },
   "outputs": [
    {
     "data": {
      "text/plain": [
       "day\n",
       "Friday       21840\n",
       "Monday       21354\n",
       "Wednesday    18059\n",
       "Name: time, dtype: int64"
      ]
     },
     "execution_count": 630,
     "metadata": {},
     "output_type": "execute_result"
    }
   ],
   "source": [
    "df.groupby('day')['time'].count()# Play count for each of the three days"
   ]
  },
  {
   "cell_type": "markdown",
   "metadata": {
    "id": "cC2tNrlL_Zcu"
   },
   "source": [
    "On average, users from the two cities are less active on Wednesdays. But the picture may change if we consider each city separately."
   ]
  },
  {
   "cell_type": "markdown",
   "metadata": {
    "id": "POzs8bGa_Zcu"
   },
   "source": [
    "You have seen how grouping by city and by day of the week works. Now write a function that combines these two calculations.\n",
    "\n",
    "Create a `number_tracks()` function that will count the plays for a given day and city. She needs two parameters:\n",
    "* day of the week,\n",
    "* city name.\n",
    "\n",
    "In the function, save to a variable the rows of the source table that have the value:\n",
    "  * in the `day` column is equal to the `day` parameter,\n",
    "  * in the `city` column is equal to the `city` parameter.\n",
    "\n",
    "To do this, apply sequential filtering with logical indexing.\n",
    "\n",
    "Then count the values in the `user_id` column of the resulting table. Save the result to a new variable. Return this variable from the function."
   ]
  },
  {
   "cell_type": "code",
   "execution_count": 631,
   "metadata": {
    "id": "Nz3GdQB1_Zcu"
   },
   "outputs": [],
   "source": [
    "def number_tracks(day, city):\n",
    "    track_list = df[(df['day'] == day) & (df['city'] == city)]\n",
    "    track_list_count = track_list['user_id'].count()\n",
    "    return track_list_count\n",
    "\n",
    "# <create number_tracks() function>\n",
    "# A function is declared with two parameters: day, city.\n",
    "# The track_list variable stores those rows of the df table for which\n",
    "# the value in the 'day' column is equal to the day parameter and at the same time the value\n",
    "# in the 'city' column is equal to the city parameter (use sequential filtering\n",
    "# using logical indexing).\n",
    "# The track_list_count variable stores the number of values in the 'user_id' column,\n",
    "# calculated by the count() method for the track_list table.\n",
    "# The function returns a number - the value of track_list_count.\n",
    "\n",
    "# Function for counting plays for a specific city and day.\n",
    "# Using sequential filtering with logical indexing, it\n",
    "# first get the rows with the desired day from the source table,\n",
    "# then from the result it will filter the rows with the desired city,\n",
    "# the count() method will count the number of values in the user_id column.\n",
    "# This is the number the function will return as a result"
   ]
  },
  {
   "cell_type": "markdown",
   "metadata": {
    "id": "ytf7xFrFJQ2r"
   },
   "source": [
    "Call `number_tracks()` six times, changing the parameters so that you get data for each city on each of the three days."
   ]
  },
  {
   "cell_type": "code",
   "execution_count": 632,
   "metadata": {
    "id": "rJcRATNQ_Zcu"
   },
   "outputs": [
    {
     "data": {
      "text/plain": [
       "15740"
      ]
     },
     "execution_count": 632,
     "metadata": {},
     "output_type": "execute_result"
    }
   ],
   "source": [
    "number_tracks('Monday','Moscow') # number of auditions in Moscow on Mondays"
   ]
  },
  {
   "cell_type": "code",
   "execution_count": 633,
   "metadata": {
    "id": "hq_ncZ5T_Zcu"
   },
   "outputs": [
    {
     "data": {
      "text/plain": [
       "5614"
      ]
     },
     "execution_count": 633,
     "metadata": {},
     "output_type": "execute_result"
    }
   ],
   "source": [
    "number_tracks('Monday','Saint-Petersburg') # number of auditions in St. Petersburg on Mondays"
   ]
  },
  {
   "cell_type": "code",
   "execution_count": 634,
   "metadata": {
    "id": "_NTy2VPU_Zcu"
   },
   "outputs": [
    {
     "data": {
      "text/plain": [
       "11056"
      ]
     },
     "execution_count": 634,
     "metadata": {},
     "output_type": "execute_result"
    }
   ],
   "source": [
    "number_tracks('Wednesday','Moscow') # number of auditions in Moscow on Wednesdays"
   ]
  },
  {
   "cell_type": "code",
   "execution_count": 635,
   "metadata": {
    "id": "j2y3TAwo_Zcu"
   },
   "outputs": [
    {
     "data": {
      "text/plain": [
       "7003"
      ]
     },
     "execution_count": 635,
     "metadata": {},
     "output_type": "execute_result"
    }
   ],
   "source": [
    "number_tracks('Wednesday','Saint-Petersburg') # number of auditions in St. Petersburg on Wednesdays"
   ]
  },
  {
   "cell_type": "code",
   "execution_count": 636,
   "metadata": {
    "id": "vYDw5u_K_Zcu"
   },
   "outputs": [
    {
     "data": {
      "text/plain": [
       "15945"
      ]
     },
     "execution_count": 636,
     "metadata": {},
     "output_type": "execute_result"
    }
   ],
   "source": [
    "number_tracks('Friday','Moscow') # number of auditions in Moscow on Fridays"
   ]
  },
  {
   "cell_type": "code",
   "execution_count": 637,
   "metadata": {
    "id": "8_yzFtW3_Zcu"
   },
   "outputs": [
    {
     "data": {
      "text/plain": [
       "5895"
      ]
     },
     "execution_count": 637,
     "metadata": {},
     "output_type": "execute_result"
    }
   ],
   "source": [
    "number_tracks('Friday','Saint-Petersburg') # number of auditions in St. Petersburg on Fridays"
   ]
  },
  {
   "cell_type": "markdown",
   "metadata": {
    "id": "7QXffbO-_Zcu"
   },
   "source": [
    "Create a table using the `pd.DataFrame` constructor, where\n",
    "* column names — `['city', 'monday', 'wednesday', 'friday']`;\n",
    "* data is the results you got with `number_tracks`."
   ]
  },
  {
   "cell_type": "code",
   "execution_count": 638,
   "metadata": {
    "id": "APAcLpOr_Zcu"
   },
   "outputs": [
    {
     "data": {
      "text/html": [
       "<div>\n",
       "<style scoped>\n",
       "    .dataframe tbody tr th:only-of-type {\n",
       "        vertical-align: middle;\n",
       "    }\n",
       "\n",
       "    .dataframe tbody tr th {\n",
       "        vertical-align: top;\n",
       "    }\n",
       "\n",
       "    .dataframe thead th {\n",
       "        text-align: right;\n",
       "    }\n",
       "</style>\n",
       "<table border=\"1\" class=\"dataframe\">\n",
       "  <thead>\n",
       "    <tr style=\"text-align: right;\">\n",
       "      <th></th>\n",
       "      <th>city</th>\n",
       "      <th>monday</th>\n",
       "      <th>wednesday</th>\n",
       "      <th>friday</th>\n",
       "    </tr>\n",
       "  </thead>\n",
       "  <tbody>\n",
       "    <tr>\n",
       "      <td>0</td>\n",
       "      <td>Moscow</td>\n",
       "      <td>15740</td>\n",
       "      <td>11056</td>\n",
       "      <td>15945</td>\n",
       "    </tr>\n",
       "    <tr>\n",
       "      <td>1</td>\n",
       "      <td>Saint-Petersburg</td>\n",
       "      <td>5614</td>\n",
       "      <td>7003</td>\n",
       "      <td>5895</td>\n",
       "    </tr>\n",
       "  </tbody>\n",
       "</table>\n",
       "</div>"
      ],
      "text/plain": [
       "               city  monday  wednesday  friday\n",
       "0            Moscow   15740      11056   15945\n",
       "1  Saint-Petersburg    5614       7003    5895"
      ]
     },
     "execution_count": 638,
     "metadata": {},
     "output_type": "execute_result"
    }
   ],
   "source": [
    "data = [['Moscow', 15740, 11056, 15945],\n",
    "       ['Saint-Petersburg', 5614, 7003, 5895]]\n",
    "columns = ['city', 'monday', 'wednesday', 'friday']\n",
    "pd.DataFrame(data = data, columns = columns)\n",
    "# Results table"
   ]
  },
  {
   "cell_type": "markdown",
   "metadata": {
    "id": "-EgPIHYu_Zcu"
   },
   "source": [
    "**Conclusions**\n",
    "\n",
    "The data shows the difference in user behavior:\n",
    "\n",
    "- In Moscow, the peak of listening falls on Monday and Friday, and on Wednesday there is a noticeable decline.\n",
    "- In St. Petersburg, on the contrary, they listen to music more on Wednesdays. Activity on Monday and Friday here is almost equally inferior to Wednesday.\n",
    "\n",
    "So the data support the first hypothesis."
   ]
  },
  {
   "cell_type": "markdown",
   "metadata": {
    "id": "atZAxtq4_Zcu"
   },
   "source": [
    "### Music at the beginning and end of the week"
   ]
  },
  {
   "cell_type": "markdown",
   "metadata": {
    "id": "eXrQqXFH_Zcu"
   },
   "source": [
    "According to the second hypothesis, on Monday morning certain genres predominate in Moscow, while others dominate in St. Petersburg. Similarly, Friday evenings are dominated by different genres, depending on the city."
   ]
  },
  {
   "cell_type": "markdown",
   "metadata": {
    "id": "S8UcW6Hw_Zcu"
   },
   "source": [
    "Save tables with data in two variables:\n",
    "* in Moscow - in `moscow_general`;\n",
    "* in St. Petersburg - in `spb_general`."
   ]
  },
  {
   "cell_type": "code",
   "execution_count": 639,
   "metadata": {
    "id": "qeaFfM_P_Zcu"
   },
   "outputs": [],
   "source": [
    "moscow_general = df[df['city'] == 'Moscow']\n",
    "# getting the moscow_general table from those rows of the df table,\n",
    "# for which the value in the 'city' column is 'Moscow'"
   ]
  },
  {
   "cell_type": "code",
   "execution_count": 640,
   "metadata": {
    "id": "ORaVRKto_Zcu"
   },
   "outputs": [],
   "source": [
    "spb_general = df[df['city'] == 'Saint-Petersburg']\n",
    "# getting the spb_general table from those rows of the df table,\n",
    "# for which the value in the 'city' column is 'Saint-Petersburg'"
   ]
  },
  {
   "cell_type": "markdown",
   "metadata": {
    "id": "MEJV-CX2_Zcu"
   },
   "source": [
    "Create a function `genre_weekday()` with four parameters:\n",
    "* table (dataframe) with data,\n",
    "* day of the week,\n",
    "* initial timestamp in 'hh:mm' format, \n",
    "* last timestamp in 'hh:mm' format.\n",
    "\n",
    "The function should return information about the top 10 genres of those tracks that were listened to on the specified day, in the interval between two timestamps."
   ]
  },
  {
   "cell_type": "code",
   "execution_count": 641,
   "metadata": {
    "id": "laJT9BYl_Zcu"
   },
   "outputs": [],
   "source": [
    "def genre_weekday(df, day, time1, time2):\n",
    "    genre_df = df[(df['day'] == day) & (df['time'] > time1) & (df['time'] < time2)]\n",
    "    genre_df_count = genre_df.groupby('genre')['genre'].count()\n",
    "    genre_df_sorted = genre_df_count.sort_values(ascending = False)\n",
    "    return genre_df_sorted.head(10)\n",
    "    \n",
    "\n",
    "# Declaring the function genre_weekday() with parameters table, day, time1, time2,\n",
    "# which returns information about the most popular genres on the specified day in\n",
    "# given time:\n",
    "# 1) the genre_df variable saves those rows of the transmitted dataframe table, for\n",
    "# of which at the same time:\n",
    "# - the value in the day column is equal to the value of the day argument\n",
    "# - the value in the time column is greater than the value of the time1 argument\n",
    "# - the value in the time column is less than the value of the time2 argument\n",
    "# Use sequential filtering with boolean indexing.\n",
    "# 2) group dataframe genre_df by genre column, take one of its\n",
    "# columns and use the count() method to count the number of entries for each\n",
    "# of present genres, write the resulting Series to a variable\n",
    "#genre_df_count\n",
    "# 3) sort genre_df_count in descending order of occurrence and save\n",
    "# into the genre_df_sorted variable\n",
    "# 4) return a Series of the first 10 genre_df_sorted values, these will be the top 10\n",
    "# popular genres (on the specified day, at the specified time)"
   ]
  },
  {
   "cell_type": "markdown",
   "metadata": {
    "id": "la2s2_PF_Zcu"
   },
   "source": [
    "Compare the results of the `genre_weekday()` function for Moscow and St. Petersburg on Monday morning (from 7:00 to 11:00) and Friday evening (from 17:00 to 23:00):"
   ]
  },
  {
   "cell_type": "code",
   "execution_count": 642,
   "metadata": {
    "id": "yz7itPUQ_Zcu"
   },
   "outputs": [
    {
     "data": {
      "text/plain": [
       "genre\n",
       "pop            781\n",
       "dance          549\n",
       "electronic     480\n",
       "rock           474\n",
       "hiphop         286\n",
       "ruspop         186\n",
       "world          181\n",
       "rusrap         175\n",
       "alternative    164\n",
       "unknown        161\n",
       "Name: genre, dtype: int64"
      ]
     },
     "execution_count": 642,
     "metadata": {},
     "output_type": "execute_result"
    }
   ],
   "source": [
    "genre_weekday(moscow_general, 'Monday', '07:00', '11:00')\n",
    "# function call for Monday morning in Moscow (instead of df - moscow_general table)\n",
    "# time objects are strings and are compared as strings\n",
    "# call example: genre_weekday(moscow_general, 'Monday', '07:00', '11:00')"
   ]
  },
  {
   "cell_type": "code",
   "execution_count": 643,
   "metadata": {
    "id": "kwUcHPdy_Zcu"
   },
   "outputs": [
    {
     "data": {
      "text/plain": [
       "genre\n",
       "pop            218\n",
       "dance          182\n",
       "rock           162\n",
       "electronic     147\n",
       "hiphop          80\n",
       "ruspop          64\n",
       "alternative     58\n",
       "rusrap          55\n",
       "jazz            44\n",
       "classical       40\n",
       "Name: genre, dtype: int64"
      ]
     },
     "execution_count": 643,
     "metadata": {},
     "output_type": "execute_result"
    }
   ],
   "source": [
    "genre_weekday(spb_general, 'Monday', '07:00', '11:00')\n",
    "# function call for Monday morning in St. Petersburg (instead of df - spb_general table)"
   ]
  },
  {
   "cell_type": "code",
   "execution_count": 644,
   "metadata": {
    "id": "EzXVRE1o_Zcu"
   },
   "outputs": [
    {
     "data": {
      "text/plain": [
       "genre\n",
       "pop            713\n",
       "rock           517\n",
       "dance          495\n",
       "electronic     482\n",
       "hiphop         273\n",
       "world          208\n",
       "ruspop         170\n",
       "alternative    163\n",
       "classical      163\n",
       "rusrap         142\n",
       "Name: genre, dtype: int64"
      ]
     },
     "execution_count": 644,
     "metadata": {},
     "output_type": "execute_result"
    }
   ],
   "source": [
    "genre_weekday(moscow_general, 'Friday', '17:00', '23:00')\n",
    "# function call for Friday evening in Moscow"
   ]
  },
  {
   "cell_type": "code",
   "execution_count": 645,
   "metadata": {
    "id": "JZaEKu5v_Zcu"
   },
   "outputs": [
    {
     "data": {
      "text/plain": [
       "genre\n",
       "pop            256\n",
       "rock           216\n",
       "electronic     216\n",
       "dance          210\n",
       "hiphop          97\n",
       "alternative     63\n",
       "jazz            61\n",
       "classical       60\n",
       "rusrap          59\n",
       "world           54\n",
       "Name: genre, dtype: int64"
      ]
     },
     "execution_count": 645,
     "metadata": {},
     "output_type": "execute_result"
    }
   ],
   "source": [
    "genre_weekday(spb_general, 'Friday', '17:00', '23:00')\n",
    "# function call for Friday evening in St. Petersburg"
   ]
  },
  {
   "cell_type": "markdown",
   "metadata": {
    "id": "wrCe4MNX_Zcu"
   },
   "source": [
    "**Conclusions**\n",
    "\n",
    "If we compare the top 10 genres on Monday morning, we can draw the following conclusions:\n",
    "\n",
    "1. In Moscow and St. Petersburg they listen to similar music. The only difference is that the Moscow rating includes the “world” genre, while the St. Petersburg rating includes jazz and classical.\n",
    "\n",
    "2. There were so many missing values in Moscow that the value `'unknown'` took tenth place among the most popular genres. This means that missing values occupy a significant share in the data and threaten the reliability of the study.\n",
    "\n",
    "Friday night does not change this picture. Some genres rise a little higher, others go down, but overall the top 10 stays the same.\n",
    "\n",
    "Thus, the second hypothesis was only partially confirmed:\n",
    "* Users listen to similar music at the beginning of the week and at the end.\n",
    "* The difference between Moscow and St. Petersburg is not very pronounced. In Moscow, they listen to Russian popular music more often, in St. Petersburg - jazz.\n",
    "\n",
    "However, gaps in the data cast doubt on this result. There are so many of them in Moscow that the top 10 ranking could look different if it were not for the lost genre data."
   ]
  },
  {
   "cell_type": "markdown",
   "metadata": {
    "id": "JolODAqr_Zcu"
   },
   "source": [
    "### Genre preferences in Moscow and St. Petersburg\n",
    "\n",
    "Hypothesis: St. Petersburg is the capital of rap, the music of this genre is listened to more often than in Moscow. And Moscow is a city of contrasts, which, nevertheless, is dominated by pop music."
   ]
  },
  {
   "cell_type": "markdown",
   "metadata": {
    "id": "DlegSvaT_Zcu"
   },
   "source": [
    "Group the `moscow_general` table by genre and count the plays of each genre's tracks using the `count()` method. Then sort the result in descending order and store it in the `moscow_genres` table."
   ]
  },
  {
   "cell_type": "code",
   "execution_count": 646,
   "metadata": {
    "id": "r19lIPke_Zcu"
   },
   "outputs": [],
   "source": [
    "moscow_genres = moscow_general.groupby('genre')['genre'].count().sort_values(ascending = False)\n",
    "# in one line: grouping the moscow_general table by the 'genre' column,\n",
    "# counting the number of 'genre' values in this grouping using the count() method,\n",
    "# sort the resulting Series in descending order and save to moscow_genres"
   ]
  },
  {
   "cell_type": "markdown",
   "metadata": {
    "id": "6kMuomxTiIr8"
   },
   "source": [
    "Print the first ten lines of `moscow_genres` to the screen:"
   ]
  },
  {
   "cell_type": "code",
   "execution_count": 647,
   "metadata": {
    "id": "WhCSooF8_Zcv"
   },
   "outputs": [
    {
     "data": {
      "text/plain": [
       "genre\n",
       "pop            5892\n",
       "dance          4435\n",
       "rock           3965\n",
       "electronic     3786\n",
       "hiphop         2096\n",
       "classical      1616\n",
       "world          1432\n",
       "alternative    1379\n",
       "ruspop         1372\n",
       "rusrap         1161\n",
       "Name: genre, dtype: int64"
      ]
     },
     "execution_count": 647,
     "metadata": {},
     "output_type": "execute_result"
    }
   ],
   "source": [
    "moscow_genres.head(10)\n",
    "# view the first 10 lines of moscow_genres"
   ]
  },
  {
   "cell_type": "markdown",
   "metadata": {
    "id": "cnPG2vnN_Zcv"
   },
   "source": [
    "Now repeat the same for Petersburg.\n",
    "\n",
    "Group the `spb_general` table by genre. Count the number of listens to tracks of each genre. Sort the result in descending order and store it in the `spb_genres` table:\n"
   ]
  },
  {
   "cell_type": "code",
   "execution_count": 648,
   "metadata": {
    "id": "gluLIpE7_Zcv"
   },
   "outputs": [],
   "source": [
    "spb_genres = spb_general.groupby('genre')['genre'].count().sort_values(ascending = False)\n",
    "# in one line: group spb_general table by 'genre' column,\n",
    "# counting the number of 'genre' values in this grouping using the count() method,\n",
    "# sort the resulting Series in descending order and store it in spb_genres"
   ]
  },
  {
   "cell_type": "markdown",
   "metadata": {
    "id": "5Doha_ODgyQ8"
   },
   "source": [
    "Print the first ten lines of `spb_genres` to the screen:"
   ]
  },
  {
   "cell_type": "code",
   "execution_count": 649,
   "metadata": {
    "id": "uaGJHjVU_Zcv"
   },
   "outputs": [
    {
     "data": {
      "text/plain": [
       "genre\n",
       "pop            2431\n",
       "dance          1932\n",
       "rock           1879\n",
       "electronic     1736\n",
       "hiphop          960\n",
       "alternative     649\n",
       "classical       646\n",
       "rusrap          564\n",
       "ruspop          538\n",
       "world           515\n",
       "Name: genre, dtype: int64"
      ]
     },
     "execution_count": 649,
     "metadata": {},
     "output_type": "execute_result"
    }
   ],
   "source": [
    "spb_genres.head(10) # view the first 10 lines of spb_genres"
   ]
  },
  {
   "cell_type": "markdown",
   "metadata": {
    "id": "RY51YJYu_Zcv"
   },
   "source": [
    "**Conclusions**"
   ]
  },
  {
   "cell_type": "markdown",
   "metadata": {
    "id": "nVhnJEm__Zcv"
   },
   "source": [
    "The hypothesis was partially confirmed:\n",
    "* Pop music is the most popular genre in Moscow, as the hypothesis suggested. Moreover, in the top 10 genres there is a similar genre - Russian popular music.\n",
    "* Contrary to expectations, rap is equally popular in Moscow and St. Petersburg.\n"
   ]
  },
  {
   "cell_type": "markdown",
   "metadata": {
    "id": "ykKQ0N65_Zcv"
   },
   "source": [
    "## Research results"
   ]
  },
  {
   "cell_type": "markdown",
   "metadata": {
    "id": "tjUwbHb3_Zcv"
   },
   "source": [
    "You tested three hypotheses and found:\n",
    "\n",
    "1. The day of the week affects the activity of users in Moscow and St. Petersburg in different ways.\n",
    "\n",
    "The first hypothesis was fully confirmed.\n",
    "\n",
    "2. Musical preferences do not change much during the week - be it Moscow or St. Petersburg. Small differences are noticeable at the beginning of the week, on Mondays:\n",
    "* in Moscow they listen to music of the “world” genre,\n",
    "* in St. Petersburg - jazz and classical music.\n",
    "\n",
    "Thus, the second hypothesis was only partly confirmed. This result could have been different were it not for gaps in the data.\n",
    "\n",
    "3. The tastes of Moscow and St. Petersburg users have more in common than differences. Contrary to expectations, genre preferences in St. Petersburg resemble those in Moscow.\n",
    "\n",
    "The third hypothesis was not confirmed. If there are differences in preferences, they are invisible to the bulk of users.\n",
    "\n",
    "**In practice, studies contain tests of statistical hypotheses.**\n",
    "From the data of one service, it is not always possible to draw a conclusion about all the inhabitants of the city.\n",
    "Tests of statistical hypotheses will show how reliable they are, based on the available data.\n",
    "You will learn more about hypothesis testing methods in the following topics."
   ]
  }
 ],
 "metadata": {
  "ExecuteTimeLog": [
   {
    "duration": 385,
    "start_time": "2021-12-26T13:27:04.203Z"
   },
   {
    "duration": 97,
    "start_time": "2021-12-26T13:27:19.045Z"
   },
   {
    "duration": 402,
    "start_time": "2021-12-26T13:27:39.199Z"
   },
   {
    "duration": 362,
    "start_time": "2021-12-26T13:28:09.765Z"
   },
   {
    "duration": 311,
    "start_time": "2021-12-26T13:33:24.561Z"
   },
   {
    "duration": 431,
    "start_time": "2021-12-26T13:33:52.278Z"
   },
   {
    "duration": 295,
    "start_time": "2021-12-26T13:34:02.930Z"
   },
   {
    "duration": 749,
    "start_time": "2021-12-26T13:34:30.297Z"
   },
   {
    "duration": 311,
    "start_time": "2021-12-26T13:34:34.356Z"
   },
   {
    "duration": 88,
    "start_time": "2021-12-26T13:34:45.542Z"
   },
   {
    "duration": 479,
    "start_time": "2021-12-26T13:35:00.504Z"
   },
   {
    "duration": 180,
    "start_time": "2021-12-26T13:35:09.154Z"
   },
   {
    "duration": 27,
    "start_time": "2021-12-26T13:35:19.280Z"
   },
   {
    "duration": 10,
    "start_time": "2021-12-26T13:35:26.138Z"
   },
   {
    "duration": 24,
    "start_time": "2021-12-26T13:35:32.584Z"
   },
   {
    "duration": 32,
    "start_time": "2021-12-26T13:35:54.341Z"
   },
   {
    "duration": 350,
    "start_time": "2021-12-26T14:35:50.363Z"
   },
   {
    "duration": 6,
    "start_time": "2021-12-26T14:36:03.555Z"
   },
   {
    "duration": 148,
    "start_time": "2021-12-26T14:37:48.637Z"
   },
   {
    "duration": 89,
    "start_time": "2021-12-26T14:38:25.424Z"
   },
   {
    "duration": 28,
    "start_time": "2021-12-26T14:40:00.524Z"
   },
   {
    "duration": 7,
    "start_time": "2021-12-26T14:40:10.291Z"
   },
   {
    "duration": 28,
    "start_time": "2021-12-26T14:42:08.642Z"
   },
   {
    "duration": 8123,
    "start_time": "2021-12-26T14:52:07.616Z"
   },
   {
    "duration": 9365,
    "start_time": "2021-12-26T14:52:57.291Z"
   },
   {
    "duration": 9,
    "start_time": "2021-12-26T14:53:30.010Z"
   },
   {
    "duration": 30,
    "start_time": "2021-12-26T15:07:58.685Z"
   },
   {
    "duration": 4297,
    "start_time": "2021-12-26T15:08:06.925Z"
   },
   {
    "duration": -784,
    "start_time": "2021-12-26T15:08:12.010Z"
   },
   {
    "duration": 10,
    "start_time": "2021-12-26T15:08:11.286Z"
   },
   {
    "duration": 10,
    "start_time": "2021-12-26T15:08:17.328Z"
   },
   {
    "duration": 3799,
    "start_time": "2021-12-26T15:09:01.681Z"
   },
   {
    "duration": 3546,
    "start_time": "2021-12-26T15:11:17.469Z"
   },
   {
    "duration": 11,
    "start_time": "2021-12-26T15:11:40.834Z"
   },
   {
    "duration": 12,
    "start_time": "2021-12-26T15:11:52.268Z"
   },
   {
    "duration": 10,
    "start_time": "2021-12-26T15:11:55.853Z"
   },
   {
    "duration": 11,
    "start_time": "2021-12-26T15:12:21.534Z"
   },
   {
    "duration": 9,
    "start_time": "2021-12-26T15:12:25.501Z"
   },
   {
    "duration": 355,
    "start_time": "2021-12-26T15:12:33.174Z"
   },
   {
    "duration": 346,
    "start_time": "2021-12-26T15:13:06.299Z"
   },
   {
    "duration": 3,
    "start_time": "2021-12-26T15:13:31.919Z"
   },
   {
    "duration": 205,
    "start_time": "2021-12-26T15:13:31.925Z"
   },
   {
    "duration": 17,
    "start_time": "2021-12-26T15:13:32.133Z"
   },
   {
    "duration": 33,
    "start_time": "2021-12-26T15:13:32.152Z"
   },
   {
    "duration": 5,
    "start_time": "2021-12-26T15:13:32.188Z"
   },
   {
    "duration": 51,
    "start_time": "2021-12-26T15:13:32.195Z"
   },
   {
    "duration": 5,
    "start_time": "2021-12-26T15:13:32.248Z"
   },
   {
    "duration": 29,
    "start_time": "2021-12-26T15:13:32.257Z"
   },
   {
    "duration": 43,
    "start_time": "2021-12-26T15:13:32.290Z"
   },
   {
    "duration": 27,
    "start_time": "2021-12-26T15:13:32.336Z"
   },
   {
    "duration": 3,
    "start_time": "2021-12-26T15:13:32.366Z"
   },
   {
    "duration": 8,
    "start_time": "2021-12-26T15:13:32.371Z"
   },
   {
    "duration": 5,
    "start_time": "2021-12-26T15:13:32.381Z"
   },
   {
    "duration": 34,
    "start_time": "2021-12-26T15:13:32.389Z"
   },
   {
    "duration": 7,
    "start_time": "2021-12-26T15:13:32.425Z"
   },
   {
    "duration": 5,
    "start_time": "2021-12-26T15:13:32.434Z"
   },
   {
    "duration": 6,
    "start_time": "2021-12-26T15:13:32.441Z"
   },
   {
    "duration": 4,
    "start_time": "2021-12-26T15:13:32.449Z"
   },
   {
    "duration": 5,
    "start_time": "2021-12-26T15:13:32.456Z"
   },
   {
    "duration": 8,
    "start_time": "2021-12-26T15:13:32.463Z"
   },
   {
    "duration": 7,
    "start_time": "2021-12-26T15:13:32.473Z"
   },
   {
    "duration": 41,
    "start_time": "2021-12-26T15:13:32.482Z"
   },
   {
    "duration": 3,
    "start_time": "2021-12-26T15:13:32.528Z"
   },
   {
    "duration": 5,
    "start_time": "2021-12-26T15:13:32.534Z"
   },
   {
    "duration": 8,
    "start_time": "2021-12-26T15:13:32.541Z"
   },
   {
    "duration": 8,
    "start_time": "2021-12-26T15:13:32.551Z"
   },
   {
    "duration": 6,
    "start_time": "2021-12-26T15:13:32.561Z"
   },
   {
    "duration": 4,
    "start_time": "2021-12-26T15:13:32.570Z"
   },
   {
    "duration": 5,
    "start_time": "2021-12-26T15:13:32.576Z"
   },
   {
    "duration": 5,
    "start_time": "2021-12-26T15:13:32.584Z"
   },
   {
    "duration": 3,
    "start_time": "2021-12-26T15:13:32.624Z"
   },
   {
    "duration": 4,
    "start_time": "2021-12-26T15:13:32.631Z"
   },
   {
    "duration": 8,
    "start_time": "2021-12-26T15:13:32.638Z"
   },
   {
    "duration": 9,
    "start_time": "2021-12-26T15:13:32.648Z"
   },
   {
    "duration": 8,
    "start_time": "2021-12-26T15:13:32.659Z"
   },
   {
    "duration": 11,
    "start_time": "2021-12-26T15:13:32.669Z"
   },
   {
    "duration": 10,
    "start_time": "2021-12-26T15:13:32.682Z"
   },
   {
    "duration": 29,
    "start_time": "2021-12-26T15:13:32.694Z"
   },
   {
    "duration": 23,
    "start_time": "2021-12-26T15:14:36.907Z"
   },
   {
    "duration": 30,
    "start_time": "2021-12-26T15:14:38.936Z"
   },
   {
    "duration": 77,
    "start_time": "2021-12-26T15:15:42.222Z"
   },
   {
    "duration": 86,
    "start_time": "2021-12-26T15:16:31.790Z"
   },
   {
    "duration": 82,
    "start_time": "2021-12-26T15:16:41.815Z"
   },
   {
    "duration": 9,
    "start_time": "2021-12-26T15:18:58.121Z"
   },
   {
    "duration": 265,
    "start_time": "2021-12-26T15:20:26.239Z"
   },
   {
    "duration": 59,
    "start_time": "2021-12-26T15:21:31.519Z"
   },
   {
    "duration": 3,
    "start_time": "2021-12-26T15:21:38.329Z"
   },
   {
    "duration": 206,
    "start_time": "2021-12-26T15:21:38.335Z"
   },
   {
    "duration": 15,
    "start_time": "2021-12-26T15:21:38.544Z"
   },
   {
    "duration": 53,
    "start_time": "2021-12-26T15:21:38.561Z"
   },
   {
    "duration": 17,
    "start_time": "2021-12-26T15:21:38.616Z"
   },
   {
    "duration": 38,
    "start_time": "2021-12-26T15:21:38.635Z"
   },
   {
    "duration": 5,
    "start_time": "2021-12-26T15:21:38.676Z"
   },
   {
    "duration": 44,
    "start_time": "2021-12-26T15:21:38.685Z"
   },
   {
    "duration": 34,
    "start_time": "2021-12-26T15:21:38.732Z"
   },
   {
    "duration": 29,
    "start_time": "2021-12-26T15:21:38.768Z"
   },
   {
    "duration": 91,
    "start_time": "2021-12-26T15:21:38.800Z"
   },
   {
    "duration": 99,
    "start_time": "2021-12-26T15:21:38.893Z"
   },
   {
    "duration": 78,
    "start_time": "2021-12-26T15:21:38.995Z"
   },
   {
    "duration": 59,
    "start_time": "2021-12-26T15:21:39.076Z"
   },
   {
    "duration": 4,
    "start_time": "2021-12-26T15:21:39.137Z"
   },
   {
    "duration": 20,
    "start_time": "2021-12-26T15:21:39.143Z"
   },
   {
    "duration": 32,
    "start_time": "2021-12-26T15:21:39.166Z"
   },
   {
    "duration": 17,
    "start_time": "2021-12-26T15:21:39.200Z"
   },
   {
    "duration": 30,
    "start_time": "2021-12-26T15:21:39.219Z"
   },
   {
    "duration": 18,
    "start_time": "2021-12-26T15:21:39.252Z"
   },
   {
    "duration": 23,
    "start_time": "2021-12-26T15:21:39.272Z"
   },
   {
    "duration": 31,
    "start_time": "2021-12-26T15:21:39.297Z"
   },
   {
    "duration": 31,
    "start_time": "2021-12-26T15:21:39.333Z"
   },
   {
    "duration": 22,
    "start_time": "2021-12-26T15:21:39.367Z"
   },
   {
    "duration": 25,
    "start_time": "2021-12-26T15:21:39.391Z"
   },
   {
    "duration": 27,
    "start_time": "2021-12-26T15:21:39.419Z"
   },
   {
    "duration": 30,
    "start_time": "2021-12-26T15:21:39.448Z"
   },
   {
    "duration": 35,
    "start_time": "2021-12-26T15:21:39.480Z"
   },
   {
    "duration": 8,
    "start_time": "2021-12-26T15:21:39.517Z"
   },
   {
    "duration": 11,
    "start_time": "2021-12-26T15:21:39.528Z"
   },
   {
    "duration": 9,
    "start_time": "2021-12-26T15:21:39.541Z"
   },
   {
    "duration": 7,
    "start_time": "2021-12-26T15:21:39.552Z"
   },
   {
    "duration": 11,
    "start_time": "2021-12-26T15:21:39.561Z"
   },
   {
    "duration": 6,
    "start_time": "2021-12-26T15:21:39.574Z"
   },
   {
    "duration": 6,
    "start_time": "2021-12-26T15:21:39.582Z"
   },
   {
    "duration": 5,
    "start_time": "2021-12-26T15:21:39.590Z"
   },
   {
    "duration": 25,
    "start_time": "2021-12-26T15:21:39.598Z"
   },
   {
    "duration": 6,
    "start_time": "2021-12-26T15:21:39.625Z"
   },
   {
    "duration": 275,
    "start_time": "2021-12-26T15:21:58.727Z"
   },
   {
    "duration": 356,
    "start_time": "2021-12-26T15:22:09.389Z"
   },
   {
    "duration": 4,
    "start_time": "2021-12-26T15:22:23.270Z"
   },
   {
    "duration": 177,
    "start_time": "2021-12-26T15:22:23.277Z"
   },
   {
    "duration": 15,
    "start_time": "2021-12-26T15:22:23.457Z"
   },
   {
    "duration": 51,
    "start_time": "2021-12-26T15:22:23.475Z"
   },
   {
    "duration": 6,
    "start_time": "2021-12-26T15:22:23.529Z"
   },
   {
    "duration": 21,
    "start_time": "2021-12-26T15:22:23.537Z"
   },
   {
    "duration": 5,
    "start_time": "2021-12-26T15:22:23.561Z"
   },
   {
    "duration": 62,
    "start_time": "2021-12-26T15:22:23.570Z"
   },
   {
    "duration": 21,
    "start_time": "2021-12-26T15:22:23.636Z"
   },
   {
    "duration": 27,
    "start_time": "2021-12-26T15:22:23.660Z"
   },
   {
    "duration": 102,
    "start_time": "2021-12-26T15:22:23.690Z"
   },
   {
    "duration": 107,
    "start_time": "2021-12-26T15:22:23.795Z"
   },
   {
    "duration": 74,
    "start_time": "2021-12-26T15:22:23.904Z"
   },
   {
    "duration": 388,
    "start_time": "2021-12-26T15:22:23.981Z"
   },
   {
    "duration": -830,
    "start_time": "2021-12-26T15:22:25.203Z"
   },
   {
    "duration": -834,
    "start_time": "2021-12-26T15:22:25.209Z"
   },
   {
    "duration": -834,
    "start_time": "2021-12-26T15:22:25.211Z"
   },
   {
    "duration": -834,
    "start_time": "2021-12-26T15:22:25.213Z"
   },
   {
    "duration": -834,
    "start_time": "2021-12-26T15:22:25.215Z"
   },
   {
    "duration": -833,
    "start_time": "2021-12-26T15:22:25.216Z"
   },
   {
    "duration": -832,
    "start_time": "2021-12-26T15:22:25.217Z"
   },
   {
    "duration": -832,
    "start_time": "2021-12-26T15:22:25.219Z"
   },
   {
    "duration": -830,
    "start_time": "2021-12-26T15:22:25.220Z"
   },
   {
    "duration": -833,
    "start_time": "2021-12-26T15:22:25.225Z"
   },
   {
    "duration": -832,
    "start_time": "2021-12-26T15:22:25.226Z"
   },
   {
    "duration": -832,
    "start_time": "2021-12-26T15:22:25.228Z"
   },
   {
    "duration": -833,
    "start_time": "2021-12-26T15:22:25.232Z"
   },
   {
    "duration": -832,
    "start_time": "2021-12-26T15:22:25.234Z"
   },
   {
    "duration": -831,
    "start_time": "2021-12-26T15:22:25.235Z"
   },
   {
    "duration": -831,
    "start_time": "2021-12-26T15:22:25.237Z"
   },
   {
    "duration": -830,
    "start_time": "2021-12-26T15:22:25.238Z"
   },
   {
    "duration": -830,
    "start_time": "2021-12-26T15:22:25.240Z"
   },
   {
    "duration": -834,
    "start_time": "2021-12-26T15:22:25.245Z"
   },
   {
    "duration": -824,
    "start_time": "2021-12-26T15:22:25.246Z"
   },
   {
    "duration": -824,
    "start_time": "2021-12-26T15:22:25.248Z"
   },
   {
    "duration": -822,
    "start_time": "2021-12-26T15:22:25.249Z"
   },
   {
    "duration": -822,
    "start_time": "2021-12-26T15:22:25.251Z"
   },
   {
    "duration": -821,
    "start_time": "2021-12-26T15:22:25.252Z"
   },
   {
    "duration": 291,
    "start_time": "2021-12-26T15:22:51.944Z"
   },
   {
    "duration": 276,
    "start_time": "2021-12-26T15:23:57.654Z"
   },
   {
    "duration": 7,
    "start_time": "2021-12-26T15:26:54.952Z"
   },
   {
    "duration": 284,
    "start_time": "2021-12-26T15:28:31.463Z"
   },
   {
    "duration": 289,
    "start_time": "2021-12-26T15:28:48.407Z"
   },
   {
    "duration": 516,
    "start_time": "2021-12-26T15:29:48.337Z"
   },
   {
    "duration": 47,
    "start_time": "2021-12-26T15:30:55.561Z"
   },
   {
    "duration": 59,
    "start_time": "2021-12-26T15:31:48.473Z"
   },
   {
    "duration": 15,
    "start_time": "2021-12-26T15:37:35.492Z"
   },
   {
    "duration": 13,
    "start_time": "2021-12-26T15:38:12.613Z"
   },
   {
    "duration": 8,
    "start_time": "2021-12-26T15:38:47.974Z"
   },
   {
    "duration": 91,
    "start_time": "2021-12-26T15:39:47.850Z"
   },
   {
    "duration": 53,
    "start_time": "2021-12-26T15:40:05.430Z"
   },
   {
    "duration": 4,
    "start_time": "2021-12-26T15:40:23.860Z"
   },
   {
    "duration": 178,
    "start_time": "2021-12-26T15:40:23.867Z"
   },
   {
    "duration": 15,
    "start_time": "2021-12-26T15:40:24.048Z"
   },
   {
    "duration": 33,
    "start_time": "2021-12-26T15:40:24.066Z"
   },
   {
    "duration": 6,
    "start_time": "2021-12-26T15:40:24.123Z"
   },
   {
    "duration": 20,
    "start_time": "2021-12-26T15:40:24.131Z"
   },
   {
    "duration": 6,
    "start_time": "2021-12-26T15:40:24.153Z"
   },
   {
    "duration": 66,
    "start_time": "2021-12-26T15:40:24.163Z"
   },
   {
    "duration": 22,
    "start_time": "2021-12-26T15:40:24.232Z"
   },
   {
    "duration": 30,
    "start_time": "2021-12-26T15:40:24.256Z"
   },
   {
    "duration": 109,
    "start_time": "2021-12-26T15:40:24.289Z"
   },
   {
    "duration": 97,
    "start_time": "2021-12-26T15:40:24.401Z"
   },
   {
    "duration": 78,
    "start_time": "2021-12-26T15:40:24.501Z"
   },
   {
    "duration": 66,
    "start_time": "2021-12-26T15:40:24.582Z"
   },
   {
    "duration": 4,
    "start_time": "2021-12-26T15:40:24.650Z"
   },
   {
    "duration": 15,
    "start_time": "2021-12-26T15:40:24.657Z"
   },
   {
    "duration": 84,
    "start_time": "2021-12-26T15:40:24.675Z"
   },
   {
    "duration": 4,
    "start_time": "2021-12-26T15:40:24.762Z"
   },
   {
    "duration": 12,
    "start_time": "2021-12-26T15:40:24.769Z"
   },
   {
    "duration": 12,
    "start_time": "2021-12-26T15:40:24.783Z"
   },
   {
    "duration": 12,
    "start_time": "2021-12-26T15:40:24.797Z"
   },
   {
    "duration": 13,
    "start_time": "2021-12-26T15:40:24.811Z"
   },
   {
    "duration": 3,
    "start_time": "2021-12-26T15:40:24.829Z"
   },
   {
    "duration": 4,
    "start_time": "2021-12-26T15:40:24.835Z"
   },
   {
    "duration": 5,
    "start_time": "2021-12-26T15:40:24.841Z"
   },
   {
    "duration": 9,
    "start_time": "2021-12-26T15:40:24.849Z"
   },
   {
    "duration": 5,
    "start_time": "2021-12-26T15:40:24.860Z"
   },
   {
    "duration": 5,
    "start_time": "2021-12-26T15:40:24.867Z"
   },
   {
    "duration": 7,
    "start_time": "2021-12-26T15:40:24.874Z"
   },
   {
    "duration": 41,
    "start_time": "2021-12-26T15:40:24.883Z"
   },
   {
    "duration": 9,
    "start_time": "2021-12-26T15:40:24.926Z"
   },
   {
    "duration": 6,
    "start_time": "2021-12-26T15:40:24.938Z"
   },
   {
    "duration": 9,
    "start_time": "2021-12-26T15:40:24.946Z"
   },
   {
    "duration": 5,
    "start_time": "2021-12-26T15:40:24.957Z"
   },
   {
    "duration": 6,
    "start_time": "2021-12-26T15:40:24.965Z"
   },
   {
    "duration": 6,
    "start_time": "2021-12-26T15:40:24.973Z"
   },
   {
    "duration": 5,
    "start_time": "2021-12-26T15:40:24.981Z"
   },
   {
    "duration": 35,
    "start_time": "2021-12-26T15:40:24.988Z"
   },
   {
    "duration": 44,
    "start_time": "2021-12-26T15:43:18.025Z"
   },
   {
    "duration": 16,
    "start_time": "2021-12-26T15:43:38.506Z"
   },
   {
    "duration": 15,
    "start_time": "2021-12-26T15:44:52.685Z"
   },
   {
    "duration": 14,
    "start_time": "2021-12-26T15:44:59.611Z"
   },
   {
    "duration": 15,
    "start_time": "2021-12-26T15:45:29.632Z"
   },
   {
    "duration": 4,
    "start_time": "2021-12-26T15:47:35.730Z"
   },
   {
    "duration": 4,
    "start_time": "2021-12-26T16:05:01.269Z"
   },
   {
    "duration": 5,
    "start_time": "2021-12-26T16:06:28.467Z"
   },
   {
    "duration": 585,
    "start_time": "2021-12-26T16:07:53.180Z"
   },
   {
    "duration": 293,
    "start_time": "2021-12-26T16:07:59.492Z"
   },
   {
    "duration": 813,
    "start_time": "2021-12-26T16:08:23.160Z"
   },
   {
    "duration": 4,
    "start_time": "2021-12-26T16:08:56.026Z"
   },
   {
    "duration": 192,
    "start_time": "2021-12-26T16:08:56.033Z"
   },
   {
    "duration": 16,
    "start_time": "2021-12-26T16:08:56.228Z"
   },
   {
    "duration": 46,
    "start_time": "2021-12-26T16:08:56.247Z"
   },
   {
    "duration": 16,
    "start_time": "2021-12-26T16:08:56.295Z"
   },
   {
    "duration": 29,
    "start_time": "2021-12-26T16:08:56.314Z"
   },
   {
    "duration": 23,
    "start_time": "2021-12-26T16:08:56.346Z"
   },
   {
    "duration": 53,
    "start_time": "2021-12-26T16:08:56.371Z"
   },
   {
    "duration": 36,
    "start_time": "2021-12-26T16:08:56.428Z"
   },
   {
    "duration": 39,
    "start_time": "2021-12-26T16:08:56.466Z"
   },
   {
    "duration": 80,
    "start_time": "2021-12-26T16:08:56.507Z"
   },
   {
    "duration": 100,
    "start_time": "2021-12-26T16:08:56.590Z"
   },
   {
    "duration": 82,
    "start_time": "2021-12-26T16:08:56.692Z"
   },
   {
    "duration": 58,
    "start_time": "2021-12-26T16:08:56.777Z"
   },
   {
    "duration": 25,
    "start_time": "2021-12-26T16:08:56.838Z"
   },
   {
    "duration": 20,
    "start_time": "2021-12-26T16:08:56.865Z"
   },
   {
    "duration": 73,
    "start_time": "2021-12-26T16:08:56.888Z"
   },
   {
    "duration": 19,
    "start_time": "2021-12-26T16:08:56.963Z"
   },
   {
    "duration": 26,
    "start_time": "2021-12-26T16:08:56.985Z"
   },
   {
    "duration": 9,
    "start_time": "2021-12-26T16:08:57.014Z"
   },
   {
    "duration": 556,
    "start_time": "2021-12-26T16:08:57.025Z"
   },
   {
    "duration": -896,
    "start_time": "2021-12-26T16:08:58.480Z"
   },
   {
    "duration": -897,
    "start_time": "2021-12-26T16:08:58.483Z"
   },
   {
    "duration": -896,
    "start_time": "2021-12-26T16:08:58.485Z"
   },
   {
    "duration": -896,
    "start_time": "2021-12-26T16:08:58.486Z"
   },
   {
    "duration": -898,
    "start_time": "2021-12-26T16:08:58.490Z"
   },
   {
    "duration": -899,
    "start_time": "2021-12-26T16:08:58.492Z"
   },
   {
    "duration": -899,
    "start_time": "2021-12-26T16:08:58.493Z"
   },
   {
    "duration": -899,
    "start_time": "2021-12-26T16:08:58.495Z"
   },
   {
    "duration": -900,
    "start_time": "2021-12-26T16:08:58.497Z"
   },
   {
    "duration": -901,
    "start_time": "2021-12-26T16:08:58.499Z"
   },
   {
    "duration": -900,
    "start_time": "2021-12-26T16:08:58.500Z"
   },
   {
    "duration": -901,
    "start_time": "2021-12-26T16:08:58.502Z"
   },
   {
    "duration": -903,
    "start_time": "2021-12-26T16:08:58.506Z"
   },
   {
    "duration": -904,
    "start_time": "2021-12-26T16:08:58.508Z"
   },
   {
    "duration": -904,
    "start_time": "2021-12-26T16:08:58.510Z"
   },
   {
    "duration": -903,
    "start_time": "2021-12-26T16:08:58.511Z"
   },
   {
    "duration": -903,
    "start_time": "2021-12-26T16:08:58.513Z"
   },
   {
    "duration": 4,
    "start_time": "2021-12-26T16:09:13.400Z"
   },
   {
    "duration": 215,
    "start_time": "2021-12-26T16:09:13.408Z"
   },
   {
    "duration": 15,
    "start_time": "2021-12-26T16:09:13.626Z"
   },
   {
    "duration": 35,
    "start_time": "2021-12-26T16:09:13.644Z"
   },
   {
    "duration": 5,
    "start_time": "2021-12-26T16:09:13.682Z"
   },
   {
    "duration": 53,
    "start_time": "2021-12-26T16:09:13.690Z"
   },
   {
    "duration": 6,
    "start_time": "2021-12-26T16:09:13.745Z"
   },
   {
    "duration": 35,
    "start_time": "2021-12-26T16:09:13.753Z"
   },
   {
    "duration": 51,
    "start_time": "2021-12-26T16:09:13.793Z"
   },
   {
    "duration": 29,
    "start_time": "2021-12-26T16:09:13.847Z"
   },
   {
    "duration": 127,
    "start_time": "2021-12-26T16:09:13.878Z"
   },
   {
    "duration": 94,
    "start_time": "2021-12-26T16:09:14.007Z"
   },
   {
    "duration": 77,
    "start_time": "2021-12-26T16:09:14.103Z"
   },
   {
    "duration": 65,
    "start_time": "2021-12-26T16:09:14.183Z"
   },
   {
    "duration": 3,
    "start_time": "2021-12-26T16:09:14.251Z"
   },
   {
    "duration": 22,
    "start_time": "2021-12-26T16:09:14.257Z"
   },
   {
    "duration": 69,
    "start_time": "2021-12-26T16:09:14.281Z"
   },
   {
    "duration": 24,
    "start_time": "2021-12-26T16:09:14.352Z"
   },
   {
    "duration": 14,
    "start_time": "2021-12-26T16:09:14.378Z"
   },
   {
    "duration": 4,
    "start_time": "2021-12-26T16:09:14.394Z"
   },
   {
    "duration": 1201,
    "start_time": "2021-12-26T16:09:14.424Z"
   },
   {
    "duration": -896,
    "start_time": "2021-12-26T16:09:16.525Z"
   },
   {
    "duration": -897,
    "start_time": "2021-12-26T16:09:16.527Z"
   },
   {
    "duration": -896,
    "start_time": "2021-12-26T16:09:16.529Z"
   },
   {
    "duration": -898,
    "start_time": "2021-12-26T16:09:16.533Z"
   },
   {
    "duration": -900,
    "start_time": "2021-12-26T16:09:16.538Z"
   },
   {
    "duration": -900,
    "start_time": "2021-12-26T16:09:16.540Z"
   },
   {
    "duration": -899,
    "start_time": "2021-12-26T16:09:16.541Z"
   },
   {
    "duration": -902,
    "start_time": "2021-12-26T16:09:16.546Z"
   },
   {
    "duration": -903,
    "start_time": "2021-12-26T16:09:16.550Z"
   },
   {
    "duration": -905,
    "start_time": "2021-12-26T16:09:16.554Z"
   },
   {
    "duration": -907,
    "start_time": "2021-12-26T16:09:16.558Z"
   },
   {
    "duration": -906,
    "start_time": "2021-12-26T16:09:16.559Z"
   },
   {
    "duration": -957,
    "start_time": "2021-12-26T16:09:16.613Z"
   },
   {
    "duration": -958,
    "start_time": "2021-12-26T16:09:16.616Z"
   },
   {
    "duration": -958,
    "start_time": "2021-12-26T16:09:16.618Z"
   },
   {
    "duration": -960,
    "start_time": "2021-12-26T16:09:16.622Z"
   },
   {
    "duration": -959,
    "start_time": "2021-12-26T16:09:16.623Z"
   },
   {
    "duration": 825,
    "start_time": "2021-12-26T16:09:32.546Z"
   },
   {
    "duration": 7182,
    "start_time": "2021-12-26T16:10:19.839Z"
   },
   {
    "duration": 579,
    "start_time": "2021-12-26T16:10:47.257Z"
   },
   {
    "duration": 1135,
    "start_time": "2021-12-26T16:12:14.966Z"
   },
   {
    "duration": 977,
    "start_time": "2021-12-26T16:12:36.945Z"
   },
   {
    "duration": 4,
    "start_time": "2021-12-26T16:13:14.762Z"
   },
   {
    "duration": 3,
    "start_time": "2021-12-26T16:13:25.560Z"
   },
   {
    "duration": 167,
    "start_time": "2021-12-26T16:13:25.566Z"
   },
   {
    "duration": 16,
    "start_time": "2021-12-26T16:13:25.736Z"
   },
   {
    "duration": 34,
    "start_time": "2021-12-26T16:13:25.755Z"
   },
   {
    "duration": 33,
    "start_time": "2021-12-26T16:13:25.792Z"
   },
   {
    "duration": 26,
    "start_time": "2021-12-26T16:13:25.827Z"
   },
   {
    "duration": 7,
    "start_time": "2021-12-26T16:13:25.855Z"
   },
   {
    "duration": 59,
    "start_time": "2021-12-26T16:13:25.865Z"
   },
   {
    "duration": 24,
    "start_time": "2021-12-26T16:13:25.928Z"
   },
   {
    "duration": 32,
    "start_time": "2021-12-26T16:13:25.954Z"
   },
   {
    "duration": 116,
    "start_time": "2021-12-26T16:13:25.989Z"
   },
   {
    "duration": 100,
    "start_time": "2021-12-26T16:13:26.123Z"
   },
   {
    "duration": 74,
    "start_time": "2021-12-26T16:13:26.225Z"
   },
   {
    "duration": 67,
    "start_time": "2021-12-26T16:13:26.302Z"
   },
   {
    "duration": 5,
    "start_time": "2021-12-26T16:13:26.372Z"
   },
   {
    "duration": 43,
    "start_time": "2021-12-26T16:13:26.380Z"
   },
   {
    "duration": 54,
    "start_time": "2021-12-26T16:13:26.426Z"
   },
   {
    "duration": 14,
    "start_time": "2021-12-26T16:13:26.483Z"
   },
   {
    "duration": 35,
    "start_time": "2021-12-26T16:13:26.499Z"
   },
   {
    "duration": 4,
    "start_time": "2021-12-26T16:13:26.536Z"
   },
   {
    "duration": 940,
    "start_time": "2021-12-26T16:13:26.543Z"
   },
   {
    "duration": -910,
    "start_time": "2021-12-26T16:13:28.396Z"
   },
   {
    "duration": -910,
    "start_time": "2021-12-26T16:13:28.398Z"
   },
   {
    "duration": -911,
    "start_time": "2021-12-26T16:13:28.400Z"
   },
   {
    "duration": -911,
    "start_time": "2021-12-26T16:13:28.401Z"
   },
   {
    "duration": -911,
    "start_time": "2021-12-26T16:13:28.403Z"
   },
   {
    "duration": -911,
    "start_time": "2021-12-26T16:13:28.404Z"
   },
   {
    "duration": -911,
    "start_time": "2021-12-26T16:13:28.406Z"
   },
   {
    "duration": -911,
    "start_time": "2021-12-26T16:13:28.408Z"
   },
   {
    "duration": -912,
    "start_time": "2021-12-26T16:13:28.410Z"
   },
   {
    "duration": -914,
    "start_time": "2021-12-26T16:13:28.414Z"
   },
   {
    "duration": -915,
    "start_time": "2021-12-26T16:13:28.416Z"
   },
   {
    "duration": -915,
    "start_time": "2021-12-26T16:13:28.417Z"
   },
   {
    "duration": -915,
    "start_time": "2021-12-26T16:13:28.419Z"
   },
   {
    "duration": -915,
    "start_time": "2021-12-26T16:13:28.420Z"
   },
   {
    "duration": -914,
    "start_time": "2021-12-26T16:13:28.422Z"
   },
   {
    "duration": -914,
    "start_time": "2021-12-26T16:13:28.423Z"
   },
   {
    "duration": -914,
    "start_time": "2021-12-26T16:13:28.425Z"
   },
   {
    "duration": 1167,
    "start_time": "2021-12-26T16:14:23.371Z"
   },
   {
    "duration": 994,
    "start_time": "2021-12-26T16:14:33.009Z"
   },
   {
    "duration": 25,
    "start_time": "2021-12-26T16:15:46.411Z"
   },
   {
    "duration": 43,
    "start_time": "2021-12-26T16:15:50.381Z"
   },
   {
    "duration": 3,
    "start_time": "2021-12-26T16:16:07.922Z"
   },
   {
    "duration": 205,
    "start_time": "2021-12-26T16:16:07.928Z"
   },
   {
    "duration": 20,
    "start_time": "2021-12-26T16:16:08.138Z"
   },
   {
    "duration": 39,
    "start_time": "2021-12-26T16:16:08.162Z"
   },
   {
    "duration": 23,
    "start_time": "2021-12-26T16:16:08.204Z"
   },
   {
    "duration": 25,
    "start_time": "2021-12-26T16:16:08.231Z"
   },
   {
    "duration": 7,
    "start_time": "2021-12-26T16:16:08.259Z"
   },
   {
    "duration": 93,
    "start_time": "2021-12-26T16:16:08.269Z"
   },
   {
    "duration": 35,
    "start_time": "2021-12-26T16:16:08.368Z"
   },
   {
    "duration": 53,
    "start_time": "2021-12-26T16:16:08.423Z"
   },
   {
    "duration": 135,
    "start_time": "2021-12-26T16:16:08.479Z"
   },
   {
    "duration": 111,
    "start_time": "2021-12-26T16:16:08.624Z"
   },
   {
    "duration": 91,
    "start_time": "2021-12-26T16:16:08.738Z"
   },
   {
    "duration": 107,
    "start_time": "2021-12-26T16:16:08.833Z"
   },
   {
    "duration": 5,
    "start_time": "2021-12-26T16:16:08.943Z"
   },
   {
    "duration": 22,
    "start_time": "2021-12-26T16:16:08.951Z"
   },
   {
    "duration": 75,
    "start_time": "2021-12-26T16:16:08.976Z"
   },
   {
    "duration": 17,
    "start_time": "2021-12-26T16:16:09.054Z"
   },
   {
    "duration": 19,
    "start_time": "2021-12-26T16:16:09.074Z"
   },
   {
    "duration": 33,
    "start_time": "2021-12-26T16:16:09.095Z"
   },
   {
    "duration": 664,
    "start_time": "2021-12-26T16:16:09.131Z"
   },
   {
    "duration": -911,
    "start_time": "2021-12-26T16:16:10.711Z"
   },
   {
    "duration": -911,
    "start_time": "2021-12-26T16:16:10.713Z"
   },
   {
    "duration": -911,
    "start_time": "2021-12-26T16:16:10.715Z"
   },
   {
    "duration": -913,
    "start_time": "2021-12-26T16:16:10.719Z"
   },
   {
    "duration": -913,
    "start_time": "2021-12-26T16:16:10.721Z"
   },
   {
    "duration": -913,
    "start_time": "2021-12-26T16:16:10.723Z"
   },
   {
    "duration": -912,
    "start_time": "2021-12-26T16:16:10.724Z"
   },
   {
    "duration": -911,
    "start_time": "2021-12-26T16:16:10.725Z"
   },
   {
    "duration": -911,
    "start_time": "2021-12-26T16:16:10.727Z"
   },
   {
    "duration": -910,
    "start_time": "2021-12-26T16:16:10.728Z"
   },
   {
    "duration": -910,
    "start_time": "2021-12-26T16:16:10.730Z"
   },
   {
    "duration": -911,
    "start_time": "2021-12-26T16:16:10.734Z"
   },
   {
    "duration": -911,
    "start_time": "2021-12-26T16:16:10.736Z"
   },
   {
    "duration": -910,
    "start_time": "2021-12-26T16:16:10.737Z"
   },
   {
    "duration": -910,
    "start_time": "2021-12-26T16:16:10.739Z"
   },
   {
    "duration": -912,
    "start_time": "2021-12-26T16:16:10.743Z"
   },
   {
    "duration": -912,
    "start_time": "2021-12-26T16:16:10.744Z"
   },
   {
    "duration": 730,
    "start_time": "2021-12-26T16:16:21.499Z"
   },
   {
    "duration": 464,
    "start_time": "2021-12-26T16:18:39.933Z"
   },
   {
    "duration": 5,
    "start_time": "2021-12-26T16:18:45.005Z"
   },
   {
    "duration": 1128,
    "start_time": "2021-12-26T16:18:48.546Z"
   },
   {
    "duration": 5,
    "start_time": "2021-12-26T16:18:59.715Z"
   },
   {
    "duration": 1224,
    "start_time": "2021-12-26T16:19:01.753Z"
   },
   {
    "duration": 253,
    "start_time": "2021-12-26T16:19:53.924Z"
   },
   {
    "duration": 975,
    "start_time": "2021-12-26T16:19:59.309Z"
   },
   {
    "duration": 965,
    "start_time": "2021-12-26T16:20:24.237Z"
   },
   {
    "duration": 5,
    "start_time": "2021-12-26T16:21:23.346Z"
   },
   {
    "duration": 20,
    "start_time": "2021-12-26T16:21:27.720Z"
   },
   {
    "duration": 18,
    "start_time": "2021-12-26T16:21:29.424Z"
   },
   {
    "duration": 4,
    "start_time": "2021-12-26T16:22:30.358Z"
   },
   {
    "duration": 189,
    "start_time": "2021-12-26T16:22:30.365Z"
   },
   {
    "duration": 15,
    "start_time": "2021-12-26T16:22:30.557Z"
   },
   {
    "duration": 51,
    "start_time": "2021-12-26T16:22:30.575Z"
   },
   {
    "duration": 14,
    "start_time": "2021-12-26T16:22:30.629Z"
   },
   {
    "duration": 31,
    "start_time": "2021-12-26T16:22:30.646Z"
   },
   {
    "duration": 6,
    "start_time": "2021-12-26T16:22:30.680Z"
   },
   {
    "duration": 61,
    "start_time": "2021-12-26T16:22:30.690Z"
   },
   {
    "duration": 25,
    "start_time": "2021-12-26T16:22:30.753Z"
   },
   {
    "duration": 52,
    "start_time": "2021-12-26T16:22:30.780Z"
   },
   {
    "duration": 93,
    "start_time": "2021-12-26T16:22:30.834Z"
   },
   {
    "duration": 134,
    "start_time": "2021-12-26T16:22:30.930Z"
   },
   {
    "duration": 125,
    "start_time": "2021-12-26T16:22:31.067Z"
   },
   {
    "duration": 108,
    "start_time": "2021-12-26T16:22:31.195Z"
   },
   {
    "duration": 5,
    "start_time": "2021-12-26T16:22:31.306Z"
   },
   {
    "duration": 25,
    "start_time": "2021-12-26T16:22:31.314Z"
   },
   {
    "duration": 94,
    "start_time": "2021-12-26T16:22:31.341Z"
   },
   {
    "duration": 16,
    "start_time": "2021-12-26T16:22:31.438Z"
   },
   {
    "duration": 14,
    "start_time": "2021-12-26T16:22:31.459Z"
   },
   {
    "duration": 4,
    "start_time": "2021-12-26T16:22:31.476Z"
   },
   {
    "duration": 60,
    "start_time": "2021-12-26T16:22:31.482Z"
   },
   {
    "duration": 16,
    "start_time": "2021-12-26T16:22:31.545Z"
   },
   {
    "duration": 21,
    "start_time": "2021-12-26T16:22:31.564Z"
   },
   {
    "duration": 48,
    "start_time": "2021-12-26T16:22:31.588Z"
   },
   {
    "duration": 22,
    "start_time": "2021-12-26T16:22:31.638Z"
   },
   {
    "duration": 19,
    "start_time": "2021-12-26T16:22:31.663Z"
   },
   {
    "duration": 38,
    "start_time": "2021-12-26T16:22:31.685Z"
   },
   {
    "duration": 3,
    "start_time": "2021-12-26T16:22:31.726Z"
   },
   {
    "duration": 7,
    "start_time": "2021-12-26T16:22:31.731Z"
   },
   {
    "duration": 9,
    "start_time": "2021-12-26T16:22:31.740Z"
   },
   {
    "duration": 8,
    "start_time": "2021-12-26T16:22:31.752Z"
   },
   {
    "duration": 6,
    "start_time": "2021-12-26T16:22:31.762Z"
   },
   {
    "duration": 10,
    "start_time": "2021-12-26T16:22:31.771Z"
   },
   {
    "duration": 7,
    "start_time": "2021-12-26T16:22:31.784Z"
   },
   {
    "duration": 32,
    "start_time": "2021-12-26T16:22:31.793Z"
   },
   {
    "duration": 6,
    "start_time": "2021-12-26T16:22:31.827Z"
   },
   {
    "duration": 5,
    "start_time": "2021-12-26T16:22:31.836Z"
   },
   {
    "duration": 6,
    "start_time": "2021-12-26T16:22:31.843Z"
   },
   {
    "duration": 161,
    "start_time": "2021-12-26T16:25:32.460Z"
   },
   {
    "duration": 6,
    "start_time": "2021-12-26T16:25:39.495Z"
   },
   {
    "duration": 297,
    "start_time": "2021-12-26T16:26:43.086Z"
   },
   {
    "duration": 12,
    "start_time": "2021-12-26T16:26:51.021Z"
   },
   {
    "duration": 14,
    "start_time": "2021-12-26T16:27:52.383Z"
   },
   {
    "duration": 12,
    "start_time": "2021-12-26T16:28:11.111Z"
   },
   {
    "duration": 5,
    "start_time": "2021-12-26T16:34:01.804Z"
   },
   {
    "duration": 5,
    "start_time": "2021-12-26T16:34:08.673Z"
   },
   {
    "duration": 568,
    "start_time": "2021-12-26T16:34:50.276Z"
   },
   {
    "duration": 8,
    "start_time": "2021-12-26T16:36:53.804Z"
   },
   {
    "duration": 581,
    "start_time": "2021-12-26T16:36:59.074Z"
   },
   {
    "duration": 6,
    "start_time": "2021-12-26T16:37:28.645Z"
   },
   {
    "duration": 27,
    "start_time": "2021-12-26T16:37:32.528Z"
   },
   {
    "duration": 28,
    "start_time": "2021-12-26T16:37:56.555Z"
   },
   {
    "duration": 31,
    "start_time": "2021-12-26T16:38:05.189Z"
   },
   {
    "duration": 29,
    "start_time": "2021-12-26T16:38:07.999Z"
   },
   {
    "duration": 4,
    "start_time": "2021-12-26T16:38:47.843Z"
   },
   {
    "duration": 224,
    "start_time": "2021-12-26T16:38:47.849Z"
   },
   {
    "duration": 21,
    "start_time": "2021-12-26T16:38:48.077Z"
   },
   {
    "duration": 60,
    "start_time": "2021-12-26T16:38:48.100Z"
   },
   {
    "duration": 5,
    "start_time": "2021-12-26T16:38:48.163Z"
   },
   {
    "duration": 29,
    "start_time": "2021-12-26T16:38:48.171Z"
   },
   {
    "duration": 5,
    "start_time": "2021-12-26T16:38:48.223Z"
   },
   {
    "duration": 45,
    "start_time": "2021-12-26T16:38:48.231Z"
   },
   {
    "duration": 51,
    "start_time": "2021-12-26T16:38:48.280Z"
   },
   {
    "duration": 31,
    "start_time": "2021-12-26T16:38:48.334Z"
   },
   {
    "duration": 98,
    "start_time": "2021-12-26T16:38:48.368Z"
   },
   {
    "duration": 131,
    "start_time": "2021-12-26T16:38:48.469Z"
   },
   {
    "duration": 85,
    "start_time": "2021-12-26T16:38:48.603Z"
   },
   {
    "duration": 69,
    "start_time": "2021-12-26T16:38:48.690Z"
   },
   {
    "duration": 5,
    "start_time": "2021-12-26T16:38:48.761Z"
   },
   {
    "duration": 21,
    "start_time": "2021-12-26T16:38:48.768Z"
   },
   {
    "duration": 79,
    "start_time": "2021-12-26T16:38:48.792Z"
   },
   {
    "duration": 16,
    "start_time": "2021-12-26T16:38:48.873Z"
   },
   {
    "duration": 47,
    "start_time": "2021-12-26T16:38:48.891Z"
   },
   {
    "duration": 5,
    "start_time": "2021-12-26T16:38:48.941Z"
   },
   {
    "duration": 25,
    "start_time": "2021-12-26T16:38:48.949Z"
   },
   {
    "duration": 46,
    "start_time": "2021-12-26T16:38:48.977Z"
   },
   {
    "duration": 21,
    "start_time": "2021-12-26T16:38:49.026Z"
   },
   {
    "duration": 18,
    "start_time": "2021-12-26T16:38:49.050Z"
   },
   {
    "duration": 54,
    "start_time": "2021-12-26T16:38:49.071Z"
   },
   {
    "duration": 25,
    "start_time": "2021-12-26T16:38:49.127Z"
   },
   {
    "duration": 12,
    "start_time": "2021-12-26T16:38:49.157Z"
   },
   {
    "duration": 16,
    "start_time": "2021-12-26T16:38:49.171Z"
   },
   {
    "duration": 53,
    "start_time": "2021-12-26T16:38:49.189Z"
   },
   {
    "duration": 6,
    "start_time": "2021-12-26T16:38:49.245Z"
   },
   {
    "duration": 39,
    "start_time": "2021-12-26T16:38:49.254Z"
   },
   {
    "duration": 46,
    "start_time": "2021-12-26T16:38:49.296Z"
   },
   {
    "duration": 3,
    "start_time": "2021-12-26T16:38:49.345Z"
   },
   {
    "duration": 8,
    "start_time": "2021-12-26T16:38:49.350Z"
   },
   {
    "duration": 7,
    "start_time": "2021-12-26T16:38:49.360Z"
   },
   {
    "duration": 7,
    "start_time": "2021-12-26T16:38:49.369Z"
   },
   {
    "duration": 9,
    "start_time": "2021-12-26T16:38:49.378Z"
   },
   {
    "duration": 37,
    "start_time": "2021-12-26T16:38:49.389Z"
   },
   {
    "duration": 30,
    "start_time": "2021-12-26T16:39:19.070Z"
   },
   {
    "duration": 28,
    "start_time": "2021-12-26T16:39:35.961Z"
   },
   {
    "duration": 18,
    "start_time": "2021-12-26T16:40:24.747Z"
   },
   {
    "duration": 14,
    "start_time": "2021-12-26T16:40:28.571Z"
   },
   {
    "duration": 29,
    "start_time": "2021-12-26T16:40:52.633Z"
   },
   {
    "duration": 31,
    "start_time": "2021-12-26T16:41:06.209Z"
   },
   {
    "duration": 47,
    "start_time": "2021-12-26T16:41:56.494Z"
   },
   {
    "duration": 45,
    "start_time": "2021-12-26T16:42:04.168Z"
   },
   {
    "duration": 4,
    "start_time": "2021-12-26T16:43:43.923Z"
   },
   {
    "duration": 214,
    "start_time": "2021-12-26T16:43:43.931Z"
   },
   {
    "duration": 17,
    "start_time": "2021-12-26T16:43:44.149Z"
   },
   {
    "duration": 60,
    "start_time": "2021-12-26T16:43:44.170Z"
   },
   {
    "duration": 11,
    "start_time": "2021-12-26T16:43:44.233Z"
   },
   {
    "duration": 26,
    "start_time": "2021-12-26T16:43:44.246Z"
   },
   {
    "duration": 5,
    "start_time": "2021-12-26T16:43:44.275Z"
   },
   {
    "duration": 62,
    "start_time": "2021-12-26T16:43:44.283Z"
   },
   {
    "duration": 25,
    "start_time": "2021-12-26T16:43:44.351Z"
   },
   {
    "duration": 46,
    "start_time": "2021-12-26T16:43:44.380Z"
   },
   {
    "duration": 99,
    "start_time": "2021-12-26T16:43:44.429Z"
   },
   {
    "duration": 109,
    "start_time": "2021-12-26T16:43:44.531Z"
   },
   {
    "duration": 88,
    "start_time": "2021-12-26T16:43:44.643Z"
   },
   {
    "duration": 58,
    "start_time": "2021-12-26T16:43:44.733Z"
   },
   {
    "duration": 5,
    "start_time": "2021-12-26T16:43:44.793Z"
   },
   {
    "duration": 15,
    "start_time": "2021-12-26T16:43:44.824Z"
   },
   {
    "duration": 62,
    "start_time": "2021-12-26T16:43:44.842Z"
   },
   {
    "duration": 28,
    "start_time": "2021-12-26T16:43:44.907Z"
   },
   {
    "duration": 15,
    "start_time": "2021-12-26T16:43:44.937Z"
   },
   {
    "duration": 6,
    "start_time": "2021-12-26T16:43:44.955Z"
   },
   {
    "duration": 60,
    "start_time": "2021-12-26T16:43:44.963Z"
   },
   {
    "duration": 20,
    "start_time": "2021-12-26T16:43:45.026Z"
   },
   {
    "duration": 28,
    "start_time": "2021-12-26T16:43:45.049Z"
   },
   {
    "duration": 51,
    "start_time": "2021-12-26T16:43:45.079Z"
   },
   {
    "duration": 26,
    "start_time": "2021-12-26T16:43:45.133Z"
   },
   {
    "duration": 21,
    "start_time": "2021-12-26T16:43:45.162Z"
   },
   {
    "duration": 46,
    "start_time": "2021-12-26T16:43:45.188Z"
   },
   {
    "duration": 38,
    "start_time": "2021-12-26T16:43:45.238Z"
   },
   {
    "duration": 20,
    "start_time": "2021-12-26T16:43:45.278Z"
   },
   {
    "duration": 7,
    "start_time": "2021-12-26T16:43:45.301Z"
   },
   {
    "duration": 46,
    "start_time": "2021-12-26T16:43:45.311Z"
   },
   {
    "duration": 37,
    "start_time": "2021-12-26T16:43:45.360Z"
   },
   {
    "duration": 36,
    "start_time": "2021-12-26T16:43:45.399Z"
   },
   {
    "duration": 35,
    "start_time": "2021-12-26T16:43:45.437Z"
   },
   {
    "duration": 2,
    "start_time": "2021-12-26T16:43:45.475Z"
   },
   {
    "duration": 42,
    "start_time": "2021-12-26T16:43:45.480Z"
   },
   {
    "duration": 4,
    "start_time": "2021-12-26T16:43:45.525Z"
   },
   {
    "duration": 15,
    "start_time": "2021-12-26T16:43:45.531Z"
   },
   {
    "duration": 5,
    "start_time": "2021-12-26T16:47:34.161Z"
   },
   {
    "duration": 6,
    "start_time": "2021-12-26T16:47:44.094Z"
   },
   {
    "duration": 384,
    "start_time": "2021-12-26T16:47:51.758Z"
   },
   {
    "duration": 283,
    "start_time": "2021-12-26T16:48:07.010Z"
   },
   {
    "duration": 6,
    "start_time": "2021-12-26T16:48:14.549Z"
   },
   {
    "duration": 6,
    "start_time": "2021-12-26T16:48:27.757Z"
   },
   {
    "duration": 6,
    "start_time": "2021-12-26T16:48:41.637Z"
   },
   {
    "duration": 4,
    "start_time": "2021-12-26T16:48:56.599Z"
   },
   {
    "duration": 209,
    "start_time": "2021-12-26T16:48:56.605Z"
   },
   {
    "duration": 17,
    "start_time": "2021-12-26T16:48:56.817Z"
   },
   {
    "duration": 58,
    "start_time": "2021-12-26T16:48:56.836Z"
   },
   {
    "duration": 19,
    "start_time": "2021-12-26T16:48:56.896Z"
   },
   {
    "duration": 52,
    "start_time": "2021-12-26T16:48:56.918Z"
   },
   {
    "duration": 6,
    "start_time": "2021-12-26T16:48:56.972Z"
   },
   {
    "duration": 51,
    "start_time": "2021-12-26T16:48:56.980Z"
   },
   {
    "duration": 50,
    "start_time": "2021-12-26T16:48:57.036Z"
   },
   {
    "duration": 30,
    "start_time": "2021-12-26T16:48:57.089Z"
   },
   {
    "duration": 100,
    "start_time": "2021-12-26T16:48:57.121Z"
   },
   {
    "duration": 99,
    "start_time": "2021-12-26T16:48:57.224Z"
   },
   {
    "duration": 80,
    "start_time": "2021-12-26T16:48:57.326Z"
   },
   {
    "duration": 67,
    "start_time": "2021-12-26T16:48:57.409Z"
   },
   {
    "duration": 24,
    "start_time": "2021-12-26T16:48:57.479Z"
   },
   {
    "duration": 51,
    "start_time": "2021-12-26T16:48:57.506Z"
   },
   {
    "duration": 69,
    "start_time": "2021-12-26T16:48:57.559Z"
   },
   {
    "duration": 22,
    "start_time": "2021-12-26T16:48:57.631Z"
   },
   {
    "duration": 13,
    "start_time": "2021-12-26T16:48:57.655Z"
   },
   {
    "duration": 18,
    "start_time": "2021-12-26T16:48:57.671Z"
   },
   {
    "duration": 41,
    "start_time": "2021-12-26T16:48:57.691Z"
   },
   {
    "duration": 31,
    "start_time": "2021-12-26T16:48:57.734Z"
   },
   {
    "duration": 33,
    "start_time": "2021-12-26T16:48:57.767Z"
   },
   {
    "duration": 40,
    "start_time": "2021-12-26T16:48:57.802Z"
   },
   {
    "duration": 33,
    "start_time": "2021-12-26T16:48:57.844Z"
   },
   {
    "duration": 18,
    "start_time": "2021-12-26T16:48:57.879Z"
   },
   {
    "duration": 32,
    "start_time": "2021-12-26T16:48:57.902Z"
   },
   {
    "duration": 35,
    "start_time": "2021-12-26T16:48:57.936Z"
   },
   {
    "duration": 104,
    "start_time": "2021-12-26T16:48:57.973Z"
   },
   {
    "duration": -970,
    "start_time": "2021-12-26T16:48:59.050Z"
   },
   {
    "duration": -972,
    "start_time": "2021-12-26T16:48:59.053Z"
   },
   {
    "duration": -977,
    "start_time": "2021-12-26T16:48:59.059Z"
   },
   {
    "duration": -976,
    "start_time": "2021-12-26T16:48:59.060Z"
   },
   {
    "duration": -977,
    "start_time": "2021-12-26T16:48:59.062Z"
   },
   {
    "duration": -976,
    "start_time": "2021-12-26T16:48:59.063Z"
   },
   {
    "duration": -977,
    "start_time": "2021-12-26T16:48:59.065Z"
   },
   {
    "duration": -976,
    "start_time": "2021-12-26T16:48:59.066Z"
   },
   {
    "duration": -977,
    "start_time": "2021-12-26T16:48:59.068Z"
   },
   {
    "duration": 16,
    "start_time": "2021-12-26T16:49:35.120Z"
   },
   {
    "duration": 31,
    "start_time": "2021-12-26T16:49:43.839Z"
   },
   {
    "duration": 5,
    "start_time": "2021-12-26T16:50:23.435Z"
   },
   {
    "duration": 29,
    "start_time": "2021-12-26T16:50:26.715Z"
   },
   {
    "duration": 29,
    "start_time": "2021-12-26T16:50:30.920Z"
   },
   {
    "duration": 29,
    "start_time": "2021-12-26T16:50:34.404Z"
   },
   {
    "duration": 30,
    "start_time": "2021-12-26T16:50:36.591Z"
   },
   {
    "duration": 3,
    "start_time": "2021-12-26T16:50:51.751Z"
   },
   {
    "duration": 177,
    "start_time": "2021-12-26T16:50:51.756Z"
   },
   {
    "duration": 15,
    "start_time": "2021-12-26T16:50:51.936Z"
   },
   {
    "duration": 37,
    "start_time": "2021-12-26T16:50:51.954Z"
   },
   {
    "duration": 5,
    "start_time": "2021-12-26T16:50:51.994Z"
   },
   {
    "duration": 17,
    "start_time": "2021-12-26T16:50:52.024Z"
   },
   {
    "duration": 6,
    "start_time": "2021-12-26T16:50:52.044Z"
   },
   {
    "duration": 34,
    "start_time": "2021-12-26T16:50:52.054Z"
   },
   {
    "duration": 25,
    "start_time": "2021-12-26T16:50:52.127Z"
   },
   {
    "duration": 35,
    "start_time": "2021-12-26T16:50:52.156Z"
   },
   {
    "duration": 130,
    "start_time": "2021-12-26T16:50:52.193Z"
   },
   {
    "duration": 102,
    "start_time": "2021-12-26T16:50:52.325Z"
   },
   {
    "duration": 72,
    "start_time": "2021-12-26T16:50:52.429Z"
   },
   {
    "duration": 68,
    "start_time": "2021-12-26T16:50:52.503Z"
   },
   {
    "duration": 4,
    "start_time": "2021-12-26T16:50:52.573Z"
   },
   {
    "duration": 15,
    "start_time": "2021-12-26T16:50:52.579Z"
   },
   {
    "duration": 77,
    "start_time": "2021-12-26T16:50:52.596Z"
   },
   {
    "duration": 15,
    "start_time": "2021-12-26T16:50:52.675Z"
   },
   {
    "duration": 34,
    "start_time": "2021-12-26T16:50:52.692Z"
   },
   {
    "duration": 4,
    "start_time": "2021-12-26T16:50:52.728Z"
   },
   {
    "duration": 29,
    "start_time": "2021-12-26T16:50:52.735Z"
   },
   {
    "duration": 17,
    "start_time": "2021-12-26T16:50:52.766Z"
   },
   {
    "duration": 46,
    "start_time": "2021-12-26T16:50:52.786Z"
   },
   {
    "duration": 18,
    "start_time": "2021-12-26T16:50:52.835Z"
   },
   {
    "duration": 18,
    "start_time": "2021-12-26T16:50:52.855Z"
   },
   {
    "duration": 49,
    "start_time": "2021-12-26T16:50:52.876Z"
   },
   {
    "duration": 12,
    "start_time": "2021-12-26T16:50:52.929Z"
   },
   {
    "duration": 24,
    "start_time": "2021-12-26T16:50:52.944Z"
   },
   {
    "duration": 15,
    "start_time": "2021-12-26T16:50:52.970Z"
   },
   {
    "duration": 37,
    "start_time": "2021-12-26T16:50:52.988Z"
   },
   {
    "duration": 34,
    "start_time": "2021-12-26T16:50:53.028Z"
   },
   {
    "duration": 27,
    "start_time": "2021-12-26T16:50:53.064Z"
   },
   {
    "duration": 49,
    "start_time": "2021-12-26T16:50:53.093Z"
   },
   {
    "duration": 34,
    "start_time": "2021-12-26T16:50:53.144Z"
   },
   {
    "duration": 3,
    "start_time": "2021-12-26T16:50:53.180Z"
   },
   {
    "duration": 40,
    "start_time": "2021-12-26T16:50:53.185Z"
   },
   {
    "duration": 9,
    "start_time": "2021-12-26T16:50:53.227Z"
   },
   {
    "duration": 9,
    "start_time": "2021-12-26T16:50:53.238Z"
   },
   {
    "duration": 6,
    "start_time": "2021-12-26T16:51:48.233Z"
   },
   {
    "duration": 30,
    "start_time": "2021-12-26T16:51:59.581Z"
   },
   {
    "duration": 30,
    "start_time": "2021-12-26T16:52:02.577Z"
   },
   {
    "duration": 29,
    "start_time": "2021-12-26T16:52:03.997Z"
   },
   {
    "duration": 28,
    "start_time": "2021-12-26T16:52:05.417Z"
   },
   {
    "duration": 5,
    "start_time": "2021-12-26T16:53:04.120Z"
   },
   {
    "duration": 29,
    "start_time": "2021-12-26T16:53:06.925Z"
   },
   {
    "duration": 28,
    "start_time": "2021-12-26T16:53:08.484Z"
   },
   {
    "duration": 28,
    "start_time": "2021-12-26T16:53:09.431Z"
   },
   {
    "duration": 29,
    "start_time": "2021-12-26T16:53:10.233Z"
   },
   {
    "duration": 6,
    "start_time": "2021-12-26T16:54:06.913Z"
   },
   {
    "duration": 674,
    "start_time": "2021-12-26T16:54:10.715Z"
   },
   {
    "duration": 5,
    "start_time": "2021-12-26T16:54:42.864Z"
   },
   {
    "duration": 38,
    "start_time": "2021-12-26T16:54:48.898Z"
   },
   {
    "duration": 53,
    "start_time": "2021-12-26T16:55:01.083Z"
   },
   {
    "duration": 6,
    "start_time": "2021-12-26T16:55:22.868Z"
   },
   {
    "duration": 47,
    "start_time": "2021-12-26T16:55:27.028Z"
   },
   {
    "duration": 31,
    "start_time": "2021-12-26T16:55:28.209Z"
   },
   {
    "duration": 42,
    "start_time": "2021-12-26T16:55:29.427Z"
   },
   {
    "duration": 38,
    "start_time": "2021-12-26T16:55:30.316Z"
   },
   {
    "duration": 29,
    "start_time": "2021-12-26T16:55:49.079Z"
   },
   {
    "duration": 31,
    "start_time": "2021-12-26T16:56:02.792Z"
   },
   {
    "duration": 44,
    "start_time": "2021-12-26T16:56:16.175Z"
   },
   {
    "duration": 28,
    "start_time": "2021-12-26T16:56:51.850Z"
   },
   {
    "duration": 35,
    "start_time": "2021-12-26T16:56:58.229Z"
   },
   {
    "duration": 29,
    "start_time": "2021-12-26T16:57:04.782Z"
   },
   {
    "duration": 29,
    "start_time": "2021-12-26T16:57:10.141Z"
   },
   {
    "duration": 41,
    "start_time": "2021-12-26T16:57:28.718Z"
   },
   {
    "duration": 36,
    "start_time": "2021-12-26T16:57:42.731Z"
   },
   {
    "duration": 122,
    "start_time": "2021-12-26T16:58:03.003Z"
   },
   {
    "duration": 84,
    "start_time": "2021-12-26T16:58:07.465Z"
   },
   {
    "duration": 27,
    "start_time": "2021-12-26T16:58:11.756Z"
   },
   {
    "duration": 15,
    "start_time": "2021-12-26T16:58:23.227Z"
   },
   {
    "duration": 13,
    "start_time": "2021-12-26T16:58:24.159Z"
   },
   {
    "duration": 5,
    "start_time": "2021-12-26T16:58:25.903Z"
   },
   {
    "duration": 28,
    "start_time": "2021-12-26T16:58:27.312Z"
   },
   {
    "duration": 37,
    "start_time": "2021-12-26T16:58:28.656Z"
   },
   {
    "duration": 26,
    "start_time": "2021-12-26T16:59:34.623Z"
   },
   {
    "duration": 5,
    "start_time": "2021-12-26T17:18:36.934Z"
   },
   {
    "duration": 23,
    "start_time": "2021-12-26T17:18:49.391Z"
   },
   {
    "duration": 17,
    "start_time": "2021-12-26T17:18:50.292Z"
   },
   {
    "duration": 23,
    "start_time": "2021-12-26T17:18:51.184Z"
   },
   {
    "duration": 17,
    "start_time": "2021-12-26T17:18:52.128Z"
   },
   {
    "duration": 11,
    "start_time": "2021-12-26T17:32:33.586Z"
   },
   {
    "duration": 7,
    "start_time": "2021-12-26T17:32:36.126Z"
   },
   {
    "duration": 12,
    "start_time": "2021-12-26T17:33:21.541Z"
   },
   {
    "duration": 7,
    "start_time": "2021-12-26T17:33:23.596Z"
   },
   {
    "duration": 4,
    "start_time": "2021-12-26T17:33:41.975Z"
   },
   {
    "duration": 170,
    "start_time": "2021-12-26T17:33:41.982Z"
   },
   {
    "duration": 16,
    "start_time": "2021-12-26T17:33:42.156Z"
   },
   {
    "duration": 54,
    "start_time": "2021-12-26T17:33:42.175Z"
   },
   {
    "duration": 15,
    "start_time": "2021-12-26T17:33:42.231Z"
   },
   {
    "duration": 27,
    "start_time": "2021-12-26T17:33:42.248Z"
   },
   {
    "duration": 5,
    "start_time": "2021-12-26T17:33:42.278Z"
   },
   {
    "duration": 55,
    "start_time": "2021-12-26T17:33:42.286Z"
   },
   {
    "duration": 28,
    "start_time": "2021-12-26T17:33:42.345Z"
   },
   {
    "duration": 54,
    "start_time": "2021-12-26T17:33:42.377Z"
   },
   {
    "duration": 107,
    "start_time": "2021-12-26T17:33:42.434Z"
   },
   {
    "duration": 124,
    "start_time": "2021-12-26T17:33:42.544Z"
   },
   {
    "duration": 88,
    "start_time": "2021-12-26T17:33:42.671Z"
   },
   {
    "duration": 64,
    "start_time": "2021-12-26T17:33:42.761Z"
   },
   {
    "duration": 5,
    "start_time": "2021-12-26T17:33:42.827Z"
   },
   {
    "duration": 24,
    "start_time": "2021-12-26T17:33:42.834Z"
   },
   {
    "duration": 73,
    "start_time": "2021-12-26T17:33:42.860Z"
   },
   {
    "duration": 22,
    "start_time": "2021-12-26T17:33:42.936Z"
   },
   {
    "duration": 32,
    "start_time": "2021-12-26T17:33:42.961Z"
   },
   {
    "duration": 8,
    "start_time": "2021-12-26T17:33:42.997Z"
   },
   {
    "duration": 36,
    "start_time": "2021-12-26T17:33:43.008Z"
   },
   {
    "duration": 21,
    "start_time": "2021-12-26T17:33:43.047Z"
   },
   {
    "duration": 26,
    "start_time": "2021-12-26T17:33:43.070Z"
   },
   {
    "duration": 39,
    "start_time": "2021-12-26T17:33:43.099Z"
   },
   {
    "duration": 42,
    "start_time": "2021-12-26T17:33:43.141Z"
   },
   {
    "duration": 41,
    "start_time": "2021-12-26T17:33:43.187Z"
   },
   {
    "duration": 31,
    "start_time": "2021-12-26T17:33:43.233Z"
   },
   {
    "duration": 47,
    "start_time": "2021-12-26T17:33:43.266Z"
   },
   {
    "duration": 23,
    "start_time": "2021-12-26T17:33:43.315Z"
   },
   {
    "duration": 5,
    "start_time": "2021-12-26T17:33:43.341Z"
   },
   {
    "duration": 95,
    "start_time": "2021-12-26T17:33:43.349Z"
   },
   {
    "duration": 24,
    "start_time": "2021-12-26T17:33:43.447Z"
   },
   {
    "duration": 66,
    "start_time": "2021-12-26T17:33:43.473Z"
   },
   {
    "duration": 26,
    "start_time": "2021-12-26T17:33:43.541Z"
   },
   {
    "duration": 24,
    "start_time": "2021-12-26T17:33:43.570Z"
   },
   {
    "duration": 12,
    "start_time": "2021-12-26T17:33:43.596Z"
   },
   {
    "duration": 34,
    "start_time": "2021-12-26T17:33:43.610Z"
   },
   {
    "duration": 34,
    "start_time": "2021-12-26T17:33:43.647Z"
   },
   {
    "duration": 4,
    "start_time": "2021-12-26T17:38:10.138Z"
   },
   {
    "duration": 227,
    "start_time": "2021-12-26T17:38:10.145Z"
   },
   {
    "duration": 18,
    "start_time": "2021-12-26T17:38:10.376Z"
   },
   {
    "duration": 85,
    "start_time": "2021-12-26T17:38:10.398Z"
   },
   {
    "duration": 23,
    "start_time": "2021-12-26T17:38:10.486Z"
   },
   {
    "duration": 36,
    "start_time": "2021-12-26T17:38:10.511Z"
   },
   {
    "duration": 7,
    "start_time": "2021-12-26T17:38:10.550Z"
   },
   {
    "duration": 38,
    "start_time": "2021-12-26T17:38:10.560Z"
   },
   {
    "duration": 35,
    "start_time": "2021-12-26T17:38:10.626Z"
   },
   {
    "duration": 63,
    "start_time": "2021-12-26T17:38:10.664Z"
   },
   {
    "duration": 118,
    "start_time": "2021-12-26T17:38:10.730Z"
   },
   {
    "duration": 122,
    "start_time": "2021-12-26T17:38:10.850Z"
   },
   {
    "duration": 82,
    "start_time": "2021-12-26T17:38:10.974Z"
   },
   {
    "duration": 90,
    "start_time": "2021-12-26T17:38:11.059Z"
   },
   {
    "duration": 8,
    "start_time": "2021-12-26T17:38:11.152Z"
   },
   {
    "duration": 18,
    "start_time": "2021-12-26T17:38:11.163Z"
   },
   {
    "duration": 83,
    "start_time": "2021-12-26T17:38:11.184Z"
   },
   {
    "duration": 20,
    "start_time": "2021-12-26T17:38:11.270Z"
   },
   {
    "duration": 42,
    "start_time": "2021-12-26T17:38:11.293Z"
   },
   {
    "duration": 6,
    "start_time": "2021-12-26T17:38:11.338Z"
   },
   {
    "duration": 40,
    "start_time": "2021-12-26T17:38:11.348Z"
   },
   {
    "duration": 54,
    "start_time": "2021-12-26T17:38:11.392Z"
   },
   {
    "duration": 31,
    "start_time": "2021-12-26T17:38:11.449Z"
   },
   {
    "duration": 52,
    "start_time": "2021-12-26T17:38:11.483Z"
   },
   {
    "duration": 26,
    "start_time": "2021-12-26T17:38:11.538Z"
   },
   {
    "duration": 24,
    "start_time": "2021-12-26T17:38:11.566Z"
   },
   {
    "duration": 13,
    "start_time": "2021-12-26T17:38:11.627Z"
   },
   {
    "duration": 23,
    "start_time": "2021-12-26T17:38:11.644Z"
   },
   {
    "duration": 16,
    "start_time": "2021-12-26T17:38:11.670Z"
   },
   {
    "duration": 6,
    "start_time": "2021-12-26T17:38:11.723Z"
   },
   {
    "duration": 33,
    "start_time": "2021-12-26T17:38:11.731Z"
   },
   {
    "duration": 19,
    "start_time": "2021-12-26T17:38:11.766Z"
   },
   {
    "duration": 65,
    "start_time": "2021-12-26T17:38:11.788Z"
   },
   {
    "duration": 24,
    "start_time": "2021-12-26T17:38:11.856Z"
   },
   {
    "duration": 12,
    "start_time": "2021-12-26T17:38:11.883Z"
   },
   {
    "duration": 7,
    "start_time": "2021-12-26T17:38:11.927Z"
   },
   {
    "duration": 16,
    "start_time": "2021-12-26T17:38:11.937Z"
   },
   {
    "duration": 6,
    "start_time": "2021-12-26T17:38:11.955Z"
   }
  ],
  "colab": {
   "collapsed_sections": [
    "E0vqbgi9ay0H",
    "VUC88oWjTJw2"
   ],
   "name": "yandex_music_project_2021.2.ipynb",
   "provenance": []
  },
  "kernelspec": {
   "display_name": "Python 3 (ipykernel)",
   "language": "python",
   "name": "python3"
  },
  "language_info": {
   "codemirror_mode": {
    "name": "ipython",
    "version": 3
   },
   "file_extension": ".py",
   "mimetype": "text/x-python",
   "name": "python",
   "nbconvert_exporter": "python",
   "pygments_lexer": "ipython3",
   "version": "3.9.10"
  },
  "toc": {
   "base_numbering": 1,
   "nav_menu": {},
   "number_sections": true,
   "sideBar": true,
   "skip_h1_title": true,
   "title_cell": "Table of Contents",
   "title_sidebar": "Contents",
   "toc_cell": false,
   "toc_position": {
    "height": "calc(100% - 180px)",
    "left": "10px",
    "top": "150px",
    "width": "358.188px"
   },
   "toc_section_display": true,
   "toc_window_display": true
  }
 },
 "nbformat": 4,
 "nbformat_minor": 1
}
