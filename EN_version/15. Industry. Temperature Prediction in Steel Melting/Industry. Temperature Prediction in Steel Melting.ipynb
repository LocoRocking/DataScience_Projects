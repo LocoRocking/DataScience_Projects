{
 "cells": [
  {
   "cell_type": "markdown",
   "id": "5644cf74",
   "metadata": {},
   "source": [
    "# Industry. Temperature Prediction in Steel Melting"
   ]
  },
  {
   "cell_type": "markdown",
   "id": "16065230",
   "metadata": {},
   "source": [
    "In order to optimize production costs, the smelter decided to reduce electricity consumption during the steel processing stage. You have to build a model that predicts the temperature of the steel."
   ]
  },
  {
   "cell_type": "markdown",
   "id": "1bf94ca0",
   "metadata": {},
   "source": [
    "## Description of the processing step\n",
    "\n",
    "Steel is processed in a metal ladle with a capacity of about 100 tons. In order for the ladle to withstand high temperatures, it is lined with refractory bricks from the inside. Molten steel is poured into a ladle and heated to the desired temperature with graphite electrodes. They are installed in the lid of the bucket.\n",
    "\n",
    "Sulfur is removed from the alloy (desulfurization), the chemical composition is corrected by adding impurities, and samples are taken. Steel is alloyed - its composition is changed - by feeding pieces of alloy from a bunker for bulk materials or wire through a special tribe apparatus.\n",
    "\n",
    "Before introducing alloying additives for the first time, the temperature of the steel is measured and its chemical analysis is carried out. Then the temperature is raised for several minutes, alloying materials are added and the alloy is purged with an inert gas. Then it is stirred and measured again. This cycle is repeated until the target chemical composition and optimum melting temperature are reached.\n",
    "\n",
    "Then the molten steel is sent to finish the metal or enters the continuous casting machine. From there, the finished product comes out in the form of slab blanks."
   ]
  },
  {
   "cell_type": "markdown",
   "id": "783bb404",
   "metadata": {},
   "source": [
    "### Data Description\n",
    "\n",
    "The data consists of files obtained from different sources:\n",
    "\n",
    "- `data_arc.csv` — electrode data;\n",
    "- `data_bulk.csv` - data on the supply of bulk materials (volume);\n",
    "- `data_bulk_time.csv` - data on the supply of bulk materials (time);\n",
    "- `data_gas.csv` — data on alloy gas purge;\n",
    "- `data_temp.csv` - temperature measurement results;\n",
    "- `data_wire.csv` - data on wire materials (volume);\n",
    "- `data_wire_time.csv` - data on wire materials (time).\n",
    "\n",
    "In all files, the `key` column contains the batch number. Files can have multiple lines with the same `key` value: they correspond to different processing iterations."
   ]
  },
  {
   "cell_type": "code",
   "execution_count": 1,
   "id": "489fb568",
   "metadata": {},
   "outputs": [],
   "source": [
    "#import required libraries\n",
    "import pandas as pd\n",
    "import numpy as np\n",
    "import seaborn as sns\n",
    "import matplotlib.pyplot as plt\n",
    "\n",
    "from sklearn.metrics import mean_absolute_error as mae\n",
    "from sklearn.model_selection import train_test_split\n",
    "from sklearn.model_selection import GridSearchCV, cross_val_score\n",
    "\n",
    "from catboost import CatBoostRegressor\n",
    "from lightgbm import LGBMRegressor\n",
    "from sklearn.ensemble import RandomForestRegressor\n",
    "from sklearn.linear_model import LinearRegression\n",
    "from sklearn.dummy import DummyRegressor\n",
    "\n",
    "import warnings\n",
    "warnings.filterwarnings('ignore')"
   ]
  },
  {
   "cell_type": "code",
   "execution_count": 2,
   "id": "1c5ac6f4",
   "metadata": {},
   "outputs": [],
   "source": [
    "#load datasets\n",
    "try:\n",
    "    df_arc = pd.read_csv('/datasets/final_steel/data_arc.csv')\n",
    "    df_bulk = pd.read_csv('/datasets/final_steel/data_bulk.csv')\n",
    "    df_bulk_time = pd.read_csv('/datasets/final_steel/data_bulk_time.csv')\n",
    "    df_gas = pd.read_csv('/datasets/final_steel/data_gas.csv')\n",
    "    df_temp = pd.read_csv('/datasets/final_steel/data_temp.csv')\n",
    "    df_wire = pd.read_csv('/datasets/final_steel/data_wire.csv')\n",
    "    df_wire_time = pd.read_csv('/datasets/final_steel/data_wire_time.csv')\n",
    "except FileNotFoundError:\n",
    "    print(\"File not found.\")\n",
    "except pd.errors.EmptyDataError:\n",
    "    print(\"No data\")\n",
    "except pd.errors.ParserError:\n",
    "    print(\"Parse error\")\n",
    "except Exception:\n",
    "    print(\"Some other exception\")"
   ]
  },
  {
   "cell_type": "markdown",
   "id": "44eb8367",
   "metadata": {},
   "source": [
    "## Data preparation"
   ]
  },
  {
   "cell_type": "markdown",
   "id": "f4a43903",
   "metadata": {},
   "source": [
    "At this stage, we will study general information about datasets."
   ]
  },
  {
   "cell_type": "markdown",
   "id": "e7926dd4",
   "metadata": {},
   "source": [
    "### Electrode Data"
   ]
  },
  {
   "cell_type": "markdown",
   "id": "e8ed0719",
   "metadata": {},
   "source": [
    "These graphite electrodes heat the steel to the desired temperature."
   ]
  },
  {
   "cell_type": "code",
   "execution_count": 3,
   "id": "a607624f",
   "metadata": {},
   "outputs": [
    {
     "data": {
      "text/html": [
       "<div>\n",
       "<style scoped>\n",
       "    .dataframe tbody tr th:only-of-type {\n",
       "        vertical-align: middle;\n",
       "    }\n",
       "\n",
       "    .dataframe tbody tr th {\n",
       "        vertical-align: top;\n",
       "    }\n",
       "\n",
       "    .dataframe thead th {\n",
       "        text-align: right;\n",
       "    }\n",
       "</style>\n",
       "<table border=\"1\" class=\"dataframe\">\n",
       "  <thead>\n",
       "    <tr style=\"text-align: right;\">\n",
       "      <th></th>\n",
       "      <th>key</th>\n",
       "      <th>Начало нагрева дугой</th>\n",
       "      <th>Конец нагрева дугой</th>\n",
       "      <th>Активная мощность</th>\n",
       "      <th>Реактивная мощность</th>\n",
       "    </tr>\n",
       "  </thead>\n",
       "  <tbody>\n",
       "    <tr>\n",
       "      <th>656</th>\n",
       "      <td>142</td>\n",
       "      <td>2019-05-08 16:41:46</td>\n",
       "      <td>2019-05-08 16:43:37</td>\n",
       "      <td>0.462461</td>\n",
       "      <td>0.330141</td>\n",
       "    </tr>\n",
       "    <tr>\n",
       "      <th>7256</th>\n",
       "      <td>1575</td>\n",
       "      <td>2019-06-29 03:01:15</td>\n",
       "      <td>2019-06-29 03:02:41</td>\n",
       "      <td>0.337043</td>\n",
       "      <td>0.255709</td>\n",
       "    </tr>\n",
       "    <tr>\n",
       "      <th>13007</th>\n",
       "      <td>2828</td>\n",
       "      <td>2019-08-18 01:15:52</td>\n",
       "      <td>2019-08-18 01:18:56</td>\n",
       "      <td>0.789564</td>\n",
       "      <td>0.500891</td>\n",
       "    </tr>\n",
       "    <tr>\n",
       "      <th>13292</th>\n",
       "      <td>2893</td>\n",
       "      <td>2019-08-20 08:43:20</td>\n",
       "      <td>2019-08-20 08:44:14</td>\n",
       "      <td>0.212033</td>\n",
       "      <td>0.145487</td>\n",
       "    </tr>\n",
       "    <tr>\n",
       "      <th>14131</th>\n",
       "      <td>3072</td>\n",
       "      <td>2019-08-26 18:07:45</td>\n",
       "      <td>2019-08-26 18:09:49</td>\n",
       "      <td>0.482527</td>\n",
       "      <td>0.295017</td>\n",
       "    </tr>\n",
       "  </tbody>\n",
       "</table>\n",
       "</div>"
      ],
      "text/plain": [
       "        key Начало нагрева дугой  Конец нагрева дугой  Активная мощность  \\\n",
       "656     142  2019-05-08 16:41:46  2019-05-08 16:43:37           0.462461   \n",
       "7256   1575  2019-06-29 03:01:15  2019-06-29 03:02:41           0.337043   \n",
       "13007  2828  2019-08-18 01:15:52  2019-08-18 01:18:56           0.789564   \n",
       "13292  2893  2019-08-20 08:43:20  2019-08-20 08:44:14           0.212033   \n",
       "14131  3072  2019-08-26 18:07:45  2019-08-26 18:09:49           0.482527   \n",
       "\n",
       "       Реактивная мощность  \n",
       "656               0.330141  \n",
       "7256              0.255709  \n",
       "13007             0.500891  \n",
       "13292             0.145487  \n",
       "14131             0.295017  "
      ]
     },
     "execution_count": 3,
     "metadata": {},
     "output_type": "execute_result"
    }
   ],
   "source": [
    "df_arc.sample(5)"
   ]
  },
  {
   "cell_type": "code",
   "execution_count": 4,
   "id": "36140630",
   "metadata": {},
   "outputs": [
    {
     "name": "stdout",
     "output_type": "stream",
     "text": [
      "<class 'pandas.core.frame.DataFrame'>\n",
      "RangeIndex: 14876 entries, 0 to 14875\n",
      "Data columns (total 5 columns):\n",
      " #   Column                Non-Null Count  Dtype  \n",
      "---  ------                --------------  -----  \n",
      " 0   key                   14876 non-null  int64  \n",
      " 1   Начало нагрева дугой  14876 non-null  object \n",
      " 2   Конец нагрева дугой   14876 non-null  object \n",
      " 3   Активная мощность     14876 non-null  float64\n",
      " 4   Реактивная мощность   14876 non-null  float64\n",
      "dtypes: float64(2), int64(1), object(2)\n",
      "memory usage: 581.2+ KB\n"
     ]
    }
   ],
   "source": [
    "df_arc.info()"
   ]
  },
  {
   "cell_type": "markdown",
   "id": "81a00f38",
   "metadata": {},
   "source": [
    "This dataset has 5 columns and 14,876 rows. There are no passes. The columns \"Start of arc heating\" and \"End of arc heating\" must be cast to the datetime type."
   ]
  },
  {
   "cell_type": "code",
   "execution_count": 5,
   "id": "a0b46c71",
   "metadata": {},
   "outputs": [
    {
     "data": {
      "text/plain": [
       "key                              int64\n",
       "Начало нагрева дугой    datetime64[ns]\n",
       "Конец нагрева дугой     datetime64[ns]\n",
       "Активная мощность              float64\n",
       "Реактивная мощность            float64\n",
       "dtype: object"
      ]
     },
     "execution_count": 5,
     "metadata": {},
     "output_type": "execute_result"
    }
   ],
   "source": [
    "#change data type to datetime\n",
    "df_arc['Начало нагрева дугой'] = pd.to_datetime(df_arc['Начало нагрева дугой'], format='%Y-%m-%d %H:%M:%S')\n",
    "df_arc['Конец нагрева дугой'] = pd.to_datetime(df_arc['Конец нагрева дугой'], format='%Y-%m-%d %H:%M:%S')\n",
    "#and check that the data type has been successfully changed\n",
    "df_arc.dtypes"
   ]
  },
  {
   "cell_type": "code",
   "execution_count": 6,
   "id": "1abc5f3b",
   "metadata": {},
   "outputs": [
    {
     "name": "stdout",
     "output_type": "stream",
     "text": [
      "Number of duplicates in df_arc dataset: 0\n"
     ]
    }
   ],
   "source": [
    "#check the dataset for duplicates\n",
    "print('Number of duplicates in df_arc dataset:', df_arc.duplicated().sum())"
   ]
  },
  {
   "cell_type": "code",
   "execution_count": 7,
   "id": "28c74a7a",
   "metadata": {},
   "outputs": [
    {
     "data": {
      "text/html": [
       "<div>\n",
       "<style scoped>\n",
       "    .dataframe tbody tr th:only-of-type {\n",
       "        vertical-align: middle;\n",
       "    }\n",
       "\n",
       "    .dataframe tbody tr th {\n",
       "        vertical-align: top;\n",
       "    }\n",
       "\n",
       "    .dataframe thead th {\n",
       "        text-align: right;\n",
       "    }\n",
       "</style>\n",
       "<table border=\"1\" class=\"dataframe\">\n",
       "  <thead>\n",
       "    <tr style=\"text-align: right;\">\n",
       "      <th></th>\n",
       "      <th>key</th>\n",
       "      <th>Активная мощность</th>\n",
       "      <th>Реактивная мощность</th>\n",
       "    </tr>\n",
       "  </thead>\n",
       "  <tbody>\n",
       "    <tr>\n",
       "      <th>count</th>\n",
       "      <td>14876.000000</td>\n",
       "      <td>14876.000000</td>\n",
       "      <td>14876.000000</td>\n",
       "    </tr>\n",
       "    <tr>\n",
       "      <th>mean</th>\n",
       "      <td>1615.220422</td>\n",
       "      <td>0.670441</td>\n",
       "      <td>0.452592</td>\n",
       "    </tr>\n",
       "    <tr>\n",
       "      <th>std</th>\n",
       "      <td>934.571502</td>\n",
       "      <td>0.408159</td>\n",
       "      <td>5.878702</td>\n",
       "    </tr>\n",
       "    <tr>\n",
       "      <th>min</th>\n",
       "      <td>1.000000</td>\n",
       "      <td>0.030002</td>\n",
       "      <td>-715.504924</td>\n",
       "    </tr>\n",
       "    <tr>\n",
       "      <th>25%</th>\n",
       "      <td>806.000000</td>\n",
       "      <td>0.395297</td>\n",
       "      <td>0.290991</td>\n",
       "    </tr>\n",
       "    <tr>\n",
       "      <th>50%</th>\n",
       "      <td>1617.000000</td>\n",
       "      <td>0.555517</td>\n",
       "      <td>0.415962</td>\n",
       "    </tr>\n",
       "    <tr>\n",
       "      <th>75%</th>\n",
       "      <td>2429.000000</td>\n",
       "      <td>0.857034</td>\n",
       "      <td>0.637371</td>\n",
       "    </tr>\n",
       "    <tr>\n",
       "      <th>max</th>\n",
       "      <td>3241.000000</td>\n",
       "      <td>3.731596</td>\n",
       "      <td>2.676388</td>\n",
       "    </tr>\n",
       "  </tbody>\n",
       "</table>\n",
       "</div>"
      ],
      "text/plain": [
       "                key  Активная мощность  Реактивная мощность\n",
       "count  14876.000000       14876.000000         14876.000000\n",
       "mean    1615.220422           0.670441             0.452592\n",
       "std      934.571502           0.408159             5.878702\n",
       "min        1.000000           0.030002          -715.504924\n",
       "25%      806.000000           0.395297             0.290991\n",
       "50%     1617.000000           0.555517             0.415962\n",
       "75%     2429.000000           0.857034             0.637371\n",
       "max     3241.000000           3.731596             2.676388"
      ]
     },
     "execution_count": 7,
     "metadata": {},
     "output_type": "execute_result"
    }
   ],
   "source": [
    "#see descriptive statistics\n",
    "df_arc.describe()"
   ]
  },
  {
   "cell_type": "markdown",
   "id": "c85b1c8b",
   "metadata": {},
   "source": [
    "There is a clear spike in reactive power equal to -715.504924."
   ]
  },
  {
   "cell_type": "code",
   "execution_count": 8,
   "id": "9aaee723",
   "metadata": {},
   "outputs": [
    {
     "data": {
      "text/plain": [
       "<AxesSubplot:xlabel='Реактивная мощность'>"
      ]
     },
     "execution_count": 8,
     "metadata": {},
     "output_type": "execute_result"
    },
    {
     "data": {
      "image/png": "[encoded data removed]",
      "text/plain": [
       "<Figure size 432x288 with 1 Axes>"
      ]
     },
     "metadata": {
      "needs_background": "light"
     },
     "output_type": "display_data"
    }
   ],
   "source": [
    "#look at the boxplot to confirm it's an outlier\n",
    "sns.boxplot(df_arc['Реактивная мощность'])"
   ]
  },
  {
   "cell_type": "markdown",
   "id": "8afd9008",
   "metadata": {},
   "source": [
    "Yes, this is a clear outlier and needs to be eliminated."
   ]
  },
  {
   "cell_type": "code",
   "execution_count": 9,
   "id": "ada32ef0",
   "metadata": {},
   "outputs": [
    {
     "data": {
      "text/html": [
       "<div>\n",
       "<style scoped>\n",
       "    .dataframe tbody tr th:only-of-type {\n",
       "        vertical-align: middle;\n",
       "    }\n",
       "\n",
       "    .dataframe tbody tr th {\n",
       "        vertical-align: top;\n",
       "    }\n",
       "\n",
       "    .dataframe thead th {\n",
       "        text-align: right;\n",
       "    }\n",
       "</style>\n",
       "<table border=\"1\" class=\"dataframe\">\n",
       "  <thead>\n",
       "    <tr style=\"text-align: right;\">\n",
       "      <th></th>\n",
       "      <th>key</th>\n",
       "      <th>Начало нагрева дугой</th>\n",
       "      <th>Конец нагрева дугой</th>\n",
       "      <th>Активная мощность</th>\n",
       "      <th>Реактивная мощность</th>\n",
       "    </tr>\n",
       "  </thead>\n",
       "  <tbody>\n",
       "    <tr>\n",
       "      <th>9780</th>\n",
       "      <td>2116</td>\n",
       "      <td>2019-07-24 00:44:48</td>\n",
       "      <td>2019-07-24 00:46:37</td>\n",
       "      <td>0.495782</td>\n",
       "      <td>-715.504924</td>\n",
       "    </tr>\n",
       "  </tbody>\n",
       "</table>\n",
       "</div>"
      ],
      "text/plain": [
       "       key Начало нагрева дугой Конец нагрева дугой  Активная мощность  \\\n",
       "9780  2116  2019-07-24 00:44:48 2019-07-24 00:46:37           0.495782   \n",
       "\n",
       "      Реактивная мощность  \n",
       "9780          -715.504924  "
      ]
     },
     "execution_count": 9,
     "metadata": {},
     "output_type": "execute_result"
    }
   ],
   "source": [
    "df_arc[df_arc['Реактивная мощность'] < 0]"
   ]
  },
  {
   "cell_type": "code",
   "execution_count": 10,
   "id": "ef5d77ae",
   "metadata": {},
   "outputs": [
    {
     "data": {
      "text/html": [
       "<div>\n",
       "<style scoped>\n",
       "    .dataframe tbody tr th:only-of-type {\n",
       "        vertical-align: middle;\n",
       "    }\n",
       "\n",
       "    .dataframe tbody tr th {\n",
       "        vertical-align: top;\n",
       "    }\n",
       "\n",
       "    .dataframe thead th {\n",
       "        text-align: right;\n",
       "    }\n",
       "</style>\n",
       "<table border=\"1\" class=\"dataframe\">\n",
       "  <thead>\n",
       "    <tr style=\"text-align: right;\">\n",
       "      <th></th>\n",
       "      <th>key</th>\n",
       "      <th>Начало нагрева дугой</th>\n",
       "      <th>Конец нагрева дугой</th>\n",
       "      <th>Активная мощность</th>\n",
       "      <th>Реактивная мощность</th>\n",
       "    </tr>\n",
       "  </thead>\n",
       "  <tbody>\n",
       "    <tr>\n",
       "      <th>9778</th>\n",
       "      <td>2116</td>\n",
       "      <td>2019-07-24 00:29:52</td>\n",
       "      <td>2019-07-24 00:31:54</td>\n",
       "      <td>0.433266</td>\n",
       "      <td>0.306141</td>\n",
       "    </tr>\n",
       "    <tr>\n",
       "      <th>9779</th>\n",
       "      <td>2116</td>\n",
       "      <td>2019-07-24 00:35:50</td>\n",
       "      <td>2019-07-24 00:38:05</td>\n",
       "      <td>0.620265</td>\n",
       "      <td>0.408352</td>\n",
       "    </tr>\n",
       "    <tr>\n",
       "      <th>9780</th>\n",
       "      <td>2116</td>\n",
       "      <td>2019-07-24 00:44:48</td>\n",
       "      <td>2019-07-24 00:46:37</td>\n",
       "      <td>0.495782</td>\n",
       "      <td>-715.504924</td>\n",
       "    </tr>\n",
       "    <tr>\n",
       "      <th>9781</th>\n",
       "      <td>2116</td>\n",
       "      <td>2019-07-24 00:51:51</td>\n",
       "      <td>2019-07-24 00:52:58</td>\n",
       "      <td>0.299368</td>\n",
       "      <td>0.198796</td>\n",
       "    </tr>\n",
       "  </tbody>\n",
       "</table>\n",
       "</div>"
      ],
      "text/plain": [
       "       key Начало нагрева дугой Конец нагрева дугой  Активная мощность  \\\n",
       "9778  2116  2019-07-24 00:29:52 2019-07-24 00:31:54           0.433266   \n",
       "9779  2116  2019-07-24 00:35:50 2019-07-24 00:38:05           0.620265   \n",
       "9780  2116  2019-07-24 00:44:48 2019-07-24 00:46:37           0.495782   \n",
       "9781  2116  2019-07-24 00:51:51 2019-07-24 00:52:58           0.299368   \n",
       "\n",
       "      Реактивная мощность  \n",
       "9778             0.306141  \n",
       "9779             0.408352  \n",
       "9780          -715.504924  \n",
       "9781             0.198796  "
      ]
     },
     "execution_count": 10,
     "metadata": {},
     "output_type": "execute_result"
    }
   ],
   "source": [
    "#check that this line is not the last one in the batch\n",
    "df_arc[df_arc['key'] == 2116]"
   ]
  },
  {
   "cell_type": "code",
   "execution_count": 11,
   "id": "40b0f5b9",
   "metadata": {},
   "outputs": [],
   "source": [
    "#only one position, can be deleted\n",
    "df_arc = df_arc[df_arc['Реактивная мощность'] >= 0]"
   ]
  },
  {
   "cell_type": "code",
   "execution_count": 12,
   "id": "31d959ad",
   "metadata": {},
   "outputs": [
    {
     "data": {
      "image/png": "[encoded data removed]",
      "text/plain": [
       "<Figure size 864x576 with 1 Axes>"
      ]
     },
     "metadata": {
      "needs_background": "light"
     },
     "output_type": "display_data"
    },
    {
     "data": {
      "image/png": "[encoded data removed]",
      "text/plain": [
       "<Figure size 864x576 with 1 Axes>"
      ]
     },
     "metadata": {
      "needs_background": "light"
     },
     "output_type": "display_data"
    }
   ],
   "source": [
    "#consider the distribution density\n",
    "plt.figure(figsize=(12,8))\n",
    "sns.histplot(df_arc['Активная мощность'], kde=True)\n",
    "plt.show()\n",
    "\n",
    "plt.figure(figsize=(12,8))\n",
    "sns.histplot(df_arc['Реактивная мощность'], kde=True)\n",
    "plt.show()"
   ]
  },
  {
   "cell_type": "markdown",
   "id": "89fbf489",
   "metadata": {},
   "source": [
    "In general, the distribution is normal, skewed to the right."
   ]
  },
  {
   "cell_type": "markdown",
   "id": "dad87f24",
   "metadata": {},
   "source": [
    "#### The result of the dataset with data on the electrodes.\n",
    "1. The dataset has 14,876 rows and 5 columns.\n",
    "2. There are no passes or duplicates.\n",
    "3. Columns `Arc heating start` and `Arc heating end` have been changed to `datetime` type.\n",
    "4. One outlier has been removed."
   ]
  },
  {
   "cell_type": "markdown",
   "id": "98a0005f",
   "metadata": {},
   "source": [
    "### Bulk materials feeding data (volume and time)"
   ]
  },
  {
   "cell_type": "markdown",
   "id": "e907f251",
   "metadata": {},
   "source": [
    "Bulk materials are used to alloy steel and change the chemical composition of the alloy."
   ]
  },
  {
   "cell_type": "code",
   "execution_count": 13,
   "id": "905e94b3",
   "metadata": {},
   "outputs": [
    {
     "data": {
      "text/html": [
       "<div>\n",
       "<style scoped>\n",
       "    .dataframe tbody tr th:only-of-type {\n",
       "        vertical-align: middle;\n",
       "    }\n",
       "\n",
       "    .dataframe tbody tr th {\n",
       "        vertical-align: top;\n",
       "    }\n",
       "\n",
       "    .dataframe thead th {\n",
       "        text-align: right;\n",
       "    }\n",
       "</style>\n",
       "<table border=\"1\" class=\"dataframe\">\n",
       "  <thead>\n",
       "    <tr style=\"text-align: right;\">\n",
       "      <th></th>\n",
       "      <th>key</th>\n",
       "      <th>Bulk 1</th>\n",
       "      <th>Bulk 2</th>\n",
       "      <th>Bulk 3</th>\n",
       "      <th>Bulk 4</th>\n",
       "      <th>Bulk 5</th>\n",
       "      <th>Bulk 6</th>\n",
       "      <th>Bulk 7</th>\n",
       "      <th>Bulk 8</th>\n",
       "      <th>Bulk 9</th>\n",
       "      <th>Bulk 10</th>\n",
       "      <th>Bulk 11</th>\n",
       "      <th>Bulk 12</th>\n",
       "      <th>Bulk 13</th>\n",
       "      <th>Bulk 14</th>\n",
       "      <th>Bulk 15</th>\n",
       "    </tr>\n",
       "  </thead>\n",
       "  <tbody>\n",
       "    <tr>\n",
       "      <th>513</th>\n",
       "      <td>542</td>\n",
       "      <td>NaN</td>\n",
       "      <td>NaN</td>\n",
       "      <td>NaN</td>\n",
       "      <td>144.0</td>\n",
       "      <td>NaN</td>\n",
       "      <td>NaN</td>\n",
       "      <td>NaN</td>\n",
       "      <td>NaN</td>\n",
       "      <td>NaN</td>\n",
       "      <td>NaN</td>\n",
       "      <td>NaN</td>\n",
       "      <td>227.0</td>\n",
       "      <td>NaN</td>\n",
       "      <td>140.0</td>\n",
       "      <td>224.0</td>\n",
       "    </tr>\n",
       "    <tr>\n",
       "      <th>2209</th>\n",
       "      <td>2289</td>\n",
       "      <td>NaN</td>\n",
       "      <td>NaN</td>\n",
       "      <td>186.0</td>\n",
       "      <td>NaN</td>\n",
       "      <td>NaN</td>\n",
       "      <td>NaN</td>\n",
       "      <td>NaN</td>\n",
       "      <td>NaN</td>\n",
       "      <td>NaN</td>\n",
       "      <td>NaN</td>\n",
       "      <td>NaN</td>\n",
       "      <td>395.0</td>\n",
       "      <td>NaN</td>\n",
       "      <td>128.0</td>\n",
       "      <td>227.0</td>\n",
       "    </tr>\n",
       "    <tr>\n",
       "      <th>2227</th>\n",
       "      <td>2307</td>\n",
       "      <td>NaN</td>\n",
       "      <td>NaN</td>\n",
       "      <td>36.0</td>\n",
       "      <td>NaN</td>\n",
       "      <td>NaN</td>\n",
       "      <td>NaN</td>\n",
       "      <td>NaN</td>\n",
       "      <td>NaN</td>\n",
       "      <td>NaN</td>\n",
       "      <td>NaN</td>\n",
       "      <td>47.0</td>\n",
       "      <td>204.0</td>\n",
       "      <td>NaN</td>\n",
       "      <td>99.0</td>\n",
       "      <td>104.0</td>\n",
       "    </tr>\n",
       "    <tr>\n",
       "      <th>443</th>\n",
       "      <td>469</td>\n",
       "      <td>NaN</td>\n",
       "      <td>NaN</td>\n",
       "      <td>NaN</td>\n",
       "      <td>25.0</td>\n",
       "      <td>NaN</td>\n",
       "      <td>NaN</td>\n",
       "      <td>NaN</td>\n",
       "      <td>NaN</td>\n",
       "      <td>NaN</td>\n",
       "      <td>106.0</td>\n",
       "      <td>NaN</td>\n",
       "      <td>207.0</td>\n",
       "      <td>NaN</td>\n",
       "      <td>254.0</td>\n",
       "      <td>204.0</td>\n",
       "    </tr>\n",
       "    <tr>\n",
       "      <th>1323</th>\n",
       "      <td>1375</td>\n",
       "      <td>NaN</td>\n",
       "      <td>NaN</td>\n",
       "      <td>87.0</td>\n",
       "      <td>NaN</td>\n",
       "      <td>NaN</td>\n",
       "      <td>NaN</td>\n",
       "      <td>NaN</td>\n",
       "      <td>NaN</td>\n",
       "      <td>NaN</td>\n",
       "      <td>NaN</td>\n",
       "      <td>NaN</td>\n",
       "      <td>206.0</td>\n",
       "      <td>NaN</td>\n",
       "      <td>190.0</td>\n",
       "      <td>106.0</td>\n",
       "    </tr>\n",
       "  </tbody>\n",
       "</table>\n",
       "</div>"
      ],
      "text/plain": [
       "       key  Bulk 1  Bulk 2  Bulk 3  Bulk 4  Bulk 5  Bulk 6  Bulk 7  Bulk 8  \\\n",
       "513    542     NaN     NaN     NaN   144.0     NaN     NaN     NaN     NaN   \n",
       "2209  2289     NaN     NaN   186.0     NaN     NaN     NaN     NaN     NaN   \n",
       "2227  2307     NaN     NaN    36.0     NaN     NaN     NaN     NaN     NaN   \n",
       "443    469     NaN     NaN     NaN    25.0     NaN     NaN     NaN     NaN   \n",
       "1323  1375     NaN     NaN    87.0     NaN     NaN     NaN     NaN     NaN   \n",
       "\n",
       "      Bulk 9  Bulk 10  Bulk 11  Bulk 12  Bulk 13  Bulk 14  Bulk 15  \n",
       "513      NaN      NaN      NaN    227.0      NaN    140.0    224.0  \n",
       "2209     NaN      NaN      NaN    395.0      NaN    128.0    227.0  \n",
       "2227     NaN      NaN     47.0    204.0      NaN     99.0    104.0  \n",
       "443      NaN    106.0      NaN    207.0      NaN    254.0    204.0  \n",
       "1323     NaN      NaN      NaN    206.0      NaN    190.0    106.0  "
      ]
     },
     "execution_count": 13,
     "metadata": {},
     "output_type": "execute_result"
    }
   ],
   "source": [
    "df_bulk.sample(5)"
   ]
  },
  {
   "cell_type": "code",
   "execution_count": 14,
   "id": "737fd221",
   "metadata": {},
   "outputs": [
    {
     "name": "stdout",
     "output_type": "stream",
     "text": [
      "<class 'pandas.core.frame.DataFrame'>\n",
      "RangeIndex: 3129 entries, 0 to 3128\n",
      "Data columns (total 16 columns):\n",
      " #   Column   Non-Null Count  Dtype  \n",
      "---  ------   --------------  -----  \n",
      " 0   key      3129 non-null   int64  \n",
      " 1   Bulk 1   252 non-null    float64\n",
      " 2   Bulk 2   22 non-null     float64\n",
      " 3   Bulk 3   1298 non-null   float64\n",
      " 4   Bulk 4   1014 non-null   float64\n",
      " 5   Bulk 5   77 non-null     float64\n",
      " 6   Bulk 6   576 non-null    float64\n",
      " 7   Bulk 7   25 non-null     float64\n",
      " 8   Bulk 8   1 non-null      float64\n",
      " 9   Bulk 9   19 non-null     float64\n",
      " 10  Bulk 10  176 non-null    float64\n",
      " 11  Bulk 11  177 non-null    float64\n",
      " 12  Bulk 12  2450 non-null   float64\n",
      " 13  Bulk 13  18 non-null     float64\n",
      " 14  Bulk 14  2806 non-null   float64\n",
      " 15  Bulk 15  2248 non-null   float64\n",
      "dtypes: float64(15), int64(1)\n",
      "memory usage: 391.2 KB\n"
     ]
    }
   ],
   "source": [
    "df_bulk.info()"
   ]
  },
  {
   "cell_type": "code",
   "execution_count": 15,
   "id": "fa6f1069",
   "metadata": {},
   "outputs": [
    {
     "name": "stdout",
     "output_type": "stream",
     "text": [
      "The number of duplicates in the df_bulk dataset: 0\n"
     ]
    }
   ],
   "source": [
    "print('The number of duplicates in the df_bulk dataset:', df_bulk.duplicated().sum())"
   ]
  },
  {
   "cell_type": "code",
   "execution_count": 16,
   "id": "c56a4cb7",
   "metadata": {},
   "outputs": [
    {
     "data": {
      "text/html": [
       "<div>\n",
       "<style scoped>\n",
       "    .dataframe tbody tr th:only-of-type {\n",
       "        vertical-align: middle;\n",
       "    }\n",
       "\n",
       "    .dataframe tbody tr th {\n",
       "        vertical-align: top;\n",
       "    }\n",
       "\n",
       "    .dataframe thead th {\n",
       "        text-align: right;\n",
       "    }\n",
       "</style>\n",
       "<table border=\"1\" class=\"dataframe\">\n",
       "  <thead>\n",
       "    <tr style=\"text-align: right;\">\n",
       "      <th></th>\n",
       "      <th>key</th>\n",
       "      <th>Bulk 1</th>\n",
       "      <th>Bulk 2</th>\n",
       "      <th>Bulk 3</th>\n",
       "      <th>Bulk 4</th>\n",
       "      <th>Bulk 5</th>\n",
       "      <th>Bulk 6</th>\n",
       "      <th>Bulk 7</th>\n",
       "      <th>Bulk 8</th>\n",
       "      <th>Bulk 9</th>\n",
       "      <th>Bulk 10</th>\n",
       "      <th>Bulk 11</th>\n",
       "      <th>Bulk 12</th>\n",
       "      <th>Bulk 13</th>\n",
       "      <th>Bulk 14</th>\n",
       "      <th>Bulk 15</th>\n",
       "    </tr>\n",
       "  </thead>\n",
       "  <tbody>\n",
       "    <tr>\n",
       "      <th>274</th>\n",
       "      <td>292</td>\n",
       "      <td>NaN</td>\n",
       "      <td>NaN</td>\n",
       "      <td>NaN</td>\n",
       "      <td>2019-05-14 07:57:59</td>\n",
       "      <td>NaN</td>\n",
       "      <td>NaN</td>\n",
       "      <td>NaN</td>\n",
       "      <td>NaN</td>\n",
       "      <td>NaN</td>\n",
       "      <td>2019-05-14 07:57:59</td>\n",
       "      <td>NaN</td>\n",
       "      <td>2019-05-14 07:47:20</td>\n",
       "      <td>NaN</td>\n",
       "      <td>2019-05-14 07:47:20</td>\n",
       "      <td>2019-05-14 07:47:20</td>\n",
       "    </tr>\n",
       "    <tr>\n",
       "      <th>3049</th>\n",
       "      <td>3158</td>\n",
       "      <td>NaN</td>\n",
       "      <td>NaN</td>\n",
       "      <td>2019-08-29 08:08:47</td>\n",
       "      <td>NaN</td>\n",
       "      <td>NaN</td>\n",
       "      <td>NaN</td>\n",
       "      <td>NaN</td>\n",
       "      <td>NaN</td>\n",
       "      <td>NaN</td>\n",
       "      <td>NaN</td>\n",
       "      <td>NaN</td>\n",
       "      <td>2019-08-29 08:04:03</td>\n",
       "      <td>NaN</td>\n",
       "      <td>2019-08-29 08:04:03</td>\n",
       "      <td>NaN</td>\n",
       "    </tr>\n",
       "    <tr>\n",
       "      <th>1163</th>\n",
       "      <td>1211</td>\n",
       "      <td>NaN</td>\n",
       "      <td>NaN</td>\n",
       "      <td>NaN</td>\n",
       "      <td>NaN</td>\n",
       "      <td>NaN</td>\n",
       "      <td>NaN</td>\n",
       "      <td>NaN</td>\n",
       "      <td>NaN</td>\n",
       "      <td>NaN</td>\n",
       "      <td>NaN</td>\n",
       "      <td>NaN</td>\n",
       "      <td>2019-06-16 03:54:45</td>\n",
       "      <td>NaN</td>\n",
       "      <td>2019-06-16 03:54:45</td>\n",
       "      <td>2019-06-16 03:54:45</td>\n",
       "    </tr>\n",
       "    <tr>\n",
       "      <th>1127</th>\n",
       "      <td>1175</td>\n",
       "      <td>NaN</td>\n",
       "      <td>NaN</td>\n",
       "      <td>NaN</td>\n",
       "      <td>NaN</td>\n",
       "      <td>NaN</td>\n",
       "      <td>NaN</td>\n",
       "      <td>NaN</td>\n",
       "      <td>NaN</td>\n",
       "      <td>NaN</td>\n",
       "      <td>NaN</td>\n",
       "      <td>NaN</td>\n",
       "      <td>2019-06-15 00:01:00</td>\n",
       "      <td>NaN</td>\n",
       "      <td>2019-06-15 00:01:00</td>\n",
       "      <td>2019-06-15 00:01:00</td>\n",
       "    </tr>\n",
       "    <tr>\n",
       "      <th>2729</th>\n",
       "      <td>2832</td>\n",
       "      <td>NaN</td>\n",
       "      <td>NaN</td>\n",
       "      <td>2019-08-18 04:50:47</td>\n",
       "      <td>NaN</td>\n",
       "      <td>NaN</td>\n",
       "      <td>NaN</td>\n",
       "      <td>NaN</td>\n",
       "      <td>NaN</td>\n",
       "      <td>NaN</td>\n",
       "      <td>NaN</td>\n",
       "      <td>NaN</td>\n",
       "      <td>2019-08-18 04:43:11</td>\n",
       "      <td>NaN</td>\n",
       "      <td>2019-08-18 04:43:11</td>\n",
       "      <td>2019-08-18 04:43:11</td>\n",
       "    </tr>\n",
       "  </tbody>\n",
       "</table>\n",
       "</div>"
      ],
      "text/plain": [
       "       key Bulk 1 Bulk 2               Bulk 3               Bulk 4 Bulk 5  \\\n",
       "274    292    NaN    NaN                  NaN  2019-05-14 07:57:59    NaN   \n",
       "3049  3158    NaN    NaN  2019-08-29 08:08:47                  NaN    NaN   \n",
       "1163  1211    NaN    NaN                  NaN                  NaN    NaN   \n",
       "1127  1175    NaN    NaN                  NaN                  NaN    NaN   \n",
       "2729  2832    NaN    NaN  2019-08-18 04:50:47                  NaN    NaN   \n",
       "\n",
       "     Bulk 6 Bulk 7 Bulk 8 Bulk 9              Bulk 10 Bulk 11  \\\n",
       "274     NaN    NaN    NaN    NaN  2019-05-14 07:57:59     NaN   \n",
       "3049    NaN    NaN    NaN    NaN                  NaN     NaN   \n",
       "1163    NaN    NaN    NaN    NaN                  NaN     NaN   \n",
       "1127    NaN    NaN    NaN    NaN                  NaN     NaN   \n",
       "2729    NaN    NaN    NaN    NaN                  NaN     NaN   \n",
       "\n",
       "                  Bulk 12 Bulk 13              Bulk 14              Bulk 15  \n",
       "274   2019-05-14 07:47:20     NaN  2019-05-14 07:47:20  2019-05-14 07:47:20  \n",
       "3049  2019-08-29 08:04:03     NaN  2019-08-29 08:04:03                  NaN  \n",
       "1163  2019-06-16 03:54:45     NaN  2019-06-16 03:54:45  2019-06-16 03:54:45  \n",
       "1127  2019-06-15 00:01:00     NaN  2019-06-15 00:01:00  2019-06-15 00:01:00  \n",
       "2729  2019-08-18 04:43:11     NaN  2019-08-18 04:43:11  2019-08-18 04:43:11  "
      ]
     },
     "execution_count": 16,
     "metadata": {},
     "output_type": "execute_result"
    }
   ],
   "source": [
    "df_bulk_time.sample(5)"
   ]
  },
  {
   "cell_type": "code",
   "execution_count": 17,
   "id": "b4d9d816",
   "metadata": {},
   "outputs": [
    {
     "name": "stdout",
     "output_type": "stream",
     "text": [
      "<class 'pandas.core.frame.DataFrame'>\n",
      "RangeIndex: 3129 entries, 0 to 3128\n",
      "Data columns (total 16 columns):\n",
      " #   Column   Non-Null Count  Dtype \n",
      "---  ------   --------------  ----- \n",
      " 0   key      3129 non-null   int64 \n",
      " 1   Bulk 1   252 non-null    object\n",
      " 2   Bulk 2   22 non-null     object\n",
      " 3   Bulk 3   1298 non-null   object\n",
      " 4   Bulk 4   1014 non-null   object\n",
      " 5   Bulk 5   77 non-null     object\n",
      " 6   Bulk 6   576 non-null    object\n",
      " 7   Bulk 7   25 non-null     object\n",
      " 8   Bulk 8   1 non-null      object\n",
      " 9   Bulk 9   19 non-null     object\n",
      " 10  Bulk 10  176 non-null    object\n",
      " 11  Bulk 11  177 non-null    object\n",
      " 12  Bulk 12  2450 non-null   object\n",
      " 13  Bulk 13  18 non-null     object\n",
      " 14  Bulk 14  2806 non-null   object\n",
      " 15  Bulk 15  2248 non-null   object\n",
      "dtypes: int64(1), object(15)\n",
      "memory usage: 391.2+ KB\n"
     ]
    }
   ],
   "source": [
    "df_bulk_time.info()"
   ]
  },
  {
   "cell_type": "code",
   "execution_count": 18,
   "id": "312617b9",
   "metadata": {},
   "outputs": [
    {
     "name": "stdout",
     "output_type": "stream",
     "text": [
      "Number of duplicates in df_bulk_time dataset: 0\n"
     ]
    }
   ],
   "source": [
    "print('Number of duplicates in df_bulk_time dataset:', df_bulk_time.duplicated().sum())"
   ]
  },
  {
   "cell_type": "markdown",
   "id": "26b424eb",
   "metadata": {},
   "source": [
    "The presented datasets have 3129 rows and 16 columns. There are no duplicates. Data in all columns except 'key' of type object. There are a lot of gaps and I attribute this to the fact that these impurities were not added to every alloy and not every time, but only if necessary to change the composition. The number of gaps and filled values for each column in both tables are the same. I don’t see much point in further analysis of these datasets, because due to the variability in the use of these materials, there will be many outliers and anomalies."
   ]
  },
  {
   "cell_type": "markdown",
   "id": "a83b5188",
   "metadata": {},
   "source": [
    "### Wire materials data (volume and time)"
   ]
  },
  {
   "cell_type": "markdown",
   "id": "d243b5a6",
   "metadata": {},
   "source": [
    "Next, consider datasets with wire materials, because they are also used for alloying steel."
   ]
  },
  {
   "cell_type": "code",
   "execution_count": 19,
   "id": "3ffa03fa",
   "metadata": {},
   "outputs": [
    {
     "data": {
      "text/html": [
       "<div>\n",
       "<style scoped>\n",
       "    .dataframe tbody tr th:only-of-type {\n",
       "        vertical-align: middle;\n",
       "    }\n",
       "\n",
       "    .dataframe tbody tr th {\n",
       "        vertical-align: top;\n",
       "    }\n",
       "\n",
       "    .dataframe thead th {\n",
       "        text-align: right;\n",
       "    }\n",
       "</style>\n",
       "<table border=\"1\" class=\"dataframe\">\n",
       "  <thead>\n",
       "    <tr style=\"text-align: right;\">\n",
       "      <th></th>\n",
       "      <th>key</th>\n",
       "      <th>Wire 1</th>\n",
       "      <th>Wire 2</th>\n",
       "      <th>Wire 3</th>\n",
       "      <th>Wire 4</th>\n",
       "      <th>Wire 5</th>\n",
       "      <th>Wire 6</th>\n",
       "      <th>Wire 7</th>\n",
       "      <th>Wire 8</th>\n",
       "      <th>Wire 9</th>\n",
       "    </tr>\n",
       "  </thead>\n",
       "  <tbody>\n",
       "    <tr>\n",
       "      <th>2946</th>\n",
       "      <td>3105</td>\n",
       "      <td>104.176804</td>\n",
       "      <td>NaN</td>\n",
       "      <td>NaN</td>\n",
       "      <td>NaN</td>\n",
       "      <td>NaN</td>\n",
       "      <td>NaN</td>\n",
       "      <td>NaN</td>\n",
       "      <td>NaN</td>\n",
       "      <td>NaN</td>\n",
       "    </tr>\n",
       "    <tr>\n",
       "      <th>327</th>\n",
       "      <td>353</td>\n",
       "      <td>63.367203</td>\n",
       "      <td>NaN</td>\n",
       "      <td>NaN</td>\n",
       "      <td>NaN</td>\n",
       "      <td>NaN</td>\n",
       "      <td>NaN</td>\n",
       "      <td>NaN</td>\n",
       "      <td>NaN</td>\n",
       "      <td>NaN</td>\n",
       "    </tr>\n",
       "    <tr>\n",
       "      <th>1802</th>\n",
       "      <td>1892</td>\n",
       "      <td>104.972397</td>\n",
       "      <td>NaN</td>\n",
       "      <td>NaN</td>\n",
       "      <td>NaN</td>\n",
       "      <td>NaN</td>\n",
       "      <td>NaN</td>\n",
       "      <td>NaN</td>\n",
       "      <td>NaN</td>\n",
       "      <td>NaN</td>\n",
       "    </tr>\n",
       "    <tr>\n",
       "      <th>2874</th>\n",
       "      <td>3027</td>\n",
       "      <td>70.019043</td>\n",
       "      <td>15.08</td>\n",
       "      <td>NaN</td>\n",
       "      <td>NaN</td>\n",
       "      <td>NaN</td>\n",
       "      <td>NaN</td>\n",
       "      <td>NaN</td>\n",
       "      <td>NaN</td>\n",
       "      <td>NaN</td>\n",
       "    </tr>\n",
       "    <tr>\n",
       "      <th>2776</th>\n",
       "      <td>2929</td>\n",
       "      <td>107.059677</td>\n",
       "      <td>NaN</td>\n",
       "      <td>NaN</td>\n",
       "      <td>NaN</td>\n",
       "      <td>NaN</td>\n",
       "      <td>NaN</td>\n",
       "      <td>NaN</td>\n",
       "      <td>NaN</td>\n",
       "      <td>NaN</td>\n",
       "    </tr>\n",
       "  </tbody>\n",
       "</table>\n",
       "</div>"
      ],
      "text/plain": [
       "       key      Wire 1  Wire 2  Wire 3  Wire 4  Wire 5  Wire 6  Wire 7  \\\n",
       "2946  3105  104.176804     NaN     NaN     NaN     NaN     NaN     NaN   \n",
       "327    353   63.367203     NaN     NaN     NaN     NaN     NaN     NaN   \n",
       "1802  1892  104.972397     NaN     NaN     NaN     NaN     NaN     NaN   \n",
       "2874  3027   70.019043   15.08     NaN     NaN     NaN     NaN     NaN   \n",
       "2776  2929  107.059677     NaN     NaN     NaN     NaN     NaN     NaN   \n",
       "\n",
       "      Wire 8  Wire 9  \n",
       "2946     NaN     NaN  \n",
       "327      NaN     NaN  \n",
       "1802     NaN     NaN  \n",
       "2874     NaN     NaN  \n",
       "2776     NaN     NaN  "
      ]
     },
     "execution_count": 19,
     "metadata": {},
     "output_type": "execute_result"
    }
   ],
   "source": [
    "df_wire.sample(5)"
   ]
  },
  {
   "cell_type": "code",
   "execution_count": 20,
   "id": "32ee9cf2",
   "metadata": {},
   "outputs": [
    {
     "name": "stdout",
     "output_type": "stream",
     "text": [
      "<class 'pandas.core.frame.DataFrame'>\n",
      "RangeIndex: 3081 entries, 0 to 3080\n",
      "Data columns (total 10 columns):\n",
      " #   Column  Non-Null Count  Dtype  \n",
      "---  ------  --------------  -----  \n",
      " 0   key     3081 non-null   int64  \n",
      " 1   Wire 1  3055 non-null   float64\n",
      " 2   Wire 2  1079 non-null   float64\n",
      " 3   Wire 3  63 non-null     float64\n",
      " 4   Wire 4  14 non-null     float64\n",
      " 5   Wire 5  1 non-null      float64\n",
      " 6   Wire 6  73 non-null     float64\n",
      " 7   Wire 7  11 non-null     float64\n",
      " 8   Wire 8  19 non-null     float64\n",
      " 9   Wire 9  29 non-null     float64\n",
      "dtypes: float64(9), int64(1)\n",
      "memory usage: 240.8 KB\n"
     ]
    }
   ],
   "source": [
    "df_wire.info()"
   ]
  },
  {
   "cell_type": "code",
   "execution_count": 21,
   "id": "171b28a7",
   "metadata": {},
   "outputs": [
    {
     "name": "stdout",
     "output_type": "stream",
     "text": [
      "Number of duplicates in df_wire dataset: 0\n"
     ]
    }
   ],
   "source": [
    "print('Number of duplicates in df_wire dataset:', df_wire.duplicated().sum())"
   ]
  },
  {
   "cell_type": "code",
   "execution_count": 22,
   "id": "1f08f77a",
   "metadata": {},
   "outputs": [
    {
     "data": {
      "text/html": [
       "<div>\n",
       "<style scoped>\n",
       "    .dataframe tbody tr th:only-of-type {\n",
       "        vertical-align: middle;\n",
       "    }\n",
       "\n",
       "    .dataframe tbody tr th {\n",
       "        vertical-align: top;\n",
       "    }\n",
       "\n",
       "    .dataframe thead th {\n",
       "        text-align: right;\n",
       "    }\n",
       "</style>\n",
       "<table border=\"1\" class=\"dataframe\">\n",
       "  <thead>\n",
       "    <tr style=\"text-align: right;\">\n",
       "      <th></th>\n",
       "      <th>key</th>\n",
       "      <th>Wire 1</th>\n",
       "      <th>Wire 2</th>\n",
       "      <th>Wire 3</th>\n",
       "      <th>Wire 4</th>\n",
       "      <th>Wire 5</th>\n",
       "      <th>Wire 6</th>\n",
       "      <th>Wire 7</th>\n",
       "      <th>Wire 8</th>\n",
       "      <th>Wire 9</th>\n",
       "    </tr>\n",
       "  </thead>\n",
       "  <tbody>\n",
       "    <tr>\n",
       "      <th>463</th>\n",
       "      <td>495</td>\n",
       "      <td>2019-05-21 19:16:00</td>\n",
       "      <td>NaN</td>\n",
       "      <td>NaN</td>\n",
       "      <td>NaN</td>\n",
       "      <td>NaN</td>\n",
       "      <td>NaN</td>\n",
       "      <td>NaN</td>\n",
       "      <td>NaN</td>\n",
       "      <td>NaN</td>\n",
       "    </tr>\n",
       "    <tr>\n",
       "      <th>1185</th>\n",
       "      <td>1253</td>\n",
       "      <td>2019-06-17 17:05:01</td>\n",
       "      <td>NaN</td>\n",
       "      <td>NaN</td>\n",
       "      <td>NaN</td>\n",
       "      <td>NaN</td>\n",
       "      <td>NaN</td>\n",
       "      <td>NaN</td>\n",
       "      <td>NaN</td>\n",
       "      <td>NaN</td>\n",
       "    </tr>\n",
       "    <tr>\n",
       "      <th>2675</th>\n",
       "      <td>2816</td>\n",
       "      <td>2019-08-17 16:09:29</td>\n",
       "      <td>NaN</td>\n",
       "      <td>NaN</td>\n",
       "      <td>NaN</td>\n",
       "      <td>NaN</td>\n",
       "      <td>NaN</td>\n",
       "      <td>NaN</td>\n",
       "      <td>NaN</td>\n",
       "      <td>NaN</td>\n",
       "    </tr>\n",
       "    <tr>\n",
       "      <th>233</th>\n",
       "      <td>255</td>\n",
       "      <td>2019-05-12 22:36:44</td>\n",
       "      <td>NaN</td>\n",
       "      <td>NaN</td>\n",
       "      <td>NaN</td>\n",
       "      <td>NaN</td>\n",
       "      <td>NaN</td>\n",
       "      <td>NaN</td>\n",
       "      <td>NaN</td>\n",
       "      <td>NaN</td>\n",
       "    </tr>\n",
       "    <tr>\n",
       "      <th>1749</th>\n",
       "      <td>1839</td>\n",
       "      <td>2019-07-07 18:14:50</td>\n",
       "      <td>2019-07-07 18:20:06</td>\n",
       "      <td>2019-07-07 18:33:17</td>\n",
       "      <td>NaN</td>\n",
       "      <td>NaN</td>\n",
       "      <td>NaN</td>\n",
       "      <td>NaN</td>\n",
       "      <td>NaN</td>\n",
       "      <td>NaN</td>\n",
       "    </tr>\n",
       "  </tbody>\n",
       "</table>\n",
       "</div>"
      ],
      "text/plain": [
       "       key               Wire 1               Wire 2               Wire 3  \\\n",
       "463    495  2019-05-21 19:16:00                  NaN                  NaN   \n",
       "1185  1253  2019-06-17 17:05:01                  NaN                  NaN   \n",
       "2675  2816  2019-08-17 16:09:29                  NaN                  NaN   \n",
       "233    255  2019-05-12 22:36:44                  NaN                  NaN   \n",
       "1749  1839  2019-07-07 18:14:50  2019-07-07 18:20:06  2019-07-07 18:33:17   \n",
       "\n",
       "     Wire 4 Wire 5 Wire 6 Wire 7 Wire 8 Wire 9  \n",
       "463     NaN    NaN    NaN    NaN    NaN    NaN  \n",
       "1185    NaN    NaN    NaN    NaN    NaN    NaN  \n",
       "2675    NaN    NaN    NaN    NaN    NaN    NaN  \n",
       "233     NaN    NaN    NaN    NaN    NaN    NaN  \n",
       "1749    NaN    NaN    NaN    NaN    NaN    NaN  "
      ]
     },
     "execution_count": 22,
     "metadata": {},
     "output_type": "execute_result"
    }
   ],
   "source": [
    "df_wire_time.sample(5)"
   ]
  },
  {
   "cell_type": "code",
   "execution_count": 23,
   "id": "bcb55558",
   "metadata": {},
   "outputs": [
    {
     "name": "stdout",
     "output_type": "stream",
     "text": [
      "<class 'pandas.core.frame.DataFrame'>\n",
      "RangeIndex: 3081 entries, 0 to 3080\n",
      "Data columns (total 10 columns):\n",
      " #   Column  Non-Null Count  Dtype \n",
      "---  ------  --------------  ----- \n",
      " 0   key     3081 non-null   int64 \n",
      " 1   Wire 1  3055 non-null   object\n",
      " 2   Wire 2  1079 non-null   object\n",
      " 3   Wire 3  63 non-null     object\n",
      " 4   Wire 4  14 non-null     object\n",
      " 5   Wire 5  1 non-null      object\n",
      " 6   Wire 6  73 non-null     object\n",
      " 7   Wire 7  11 non-null     object\n",
      " 8   Wire 8  19 non-null     object\n",
      " 9   Wire 9  29 non-null     object\n",
      "dtypes: int64(1), object(9)\n",
      "memory usage: 240.8+ KB\n"
     ]
    }
   ],
   "source": [
    "df_wire_time.info()"
   ]
  },
  {
   "cell_type": "code",
   "execution_count": 24,
   "id": "44c8699c",
   "metadata": {},
   "outputs": [
    {
     "name": "stdout",
     "output_type": "stream",
     "text": [
      "Number of duplicates in df_wire_time dataset: 0\n"
     ]
    }
   ],
   "source": [
    "print('Number of duplicates in df_wire_time dataset:', df_wire_time.duplicated().sum())"
   ]
  },
  {
   "cell_type": "markdown",
   "id": "d89c986c",
   "metadata": {},
   "source": [
    "These datasets have 3081 rows and 10 columns. There are no duplicates. Data in all columns except 'key' of type object.\n",
    "\n",
    "Here we see exactly the same picture as in the previous datasets: there are a lot of gaps, the number of gaps in each column of both datasets is the same, Wire 5 was used only once, but Wire 1 was used in 99% of cases."
   ]
  },
  {
   "cell_type": "markdown",
   "id": "6b5b535d",
   "metadata": {},
   "source": [
    "### Alloy gas purge data"
   ]
  },
  {
   "cell_type": "markdown",
   "id": "1470e66e",
   "metadata": {},
   "source": [
    "The gas is used to purge the alloy after addition of alloying materials."
   ]
  },
  {
   "cell_type": "code",
   "execution_count": 25,
   "id": "e069b385",
   "metadata": {},
   "outputs": [
    {
     "data": {
      "text/html": [
       "<div>\n",
       "<style scoped>\n",
       "    .dataframe tbody tr th:only-of-type {\n",
       "        vertical-align: middle;\n",
       "    }\n",
       "\n",
       "    .dataframe tbody tr th {\n",
       "        vertical-align: top;\n",
       "    }\n",
       "\n",
       "    .dataframe thead th {\n",
       "        text-align: right;\n",
       "    }\n",
       "</style>\n",
       "<table border=\"1\" class=\"dataframe\">\n",
       "  <thead>\n",
       "    <tr style=\"text-align: right;\">\n",
       "      <th></th>\n",
       "      <th>key</th>\n",
       "      <th>Газ 1</th>\n",
       "    </tr>\n",
       "  </thead>\n",
       "  <tbody>\n",
       "    <tr>\n",
       "      <th>720</th>\n",
       "      <td>723</td>\n",
       "      <td>10.321414</td>\n",
       "    </tr>\n",
       "    <tr>\n",
       "      <th>2604</th>\n",
       "      <td>2607</td>\n",
       "      <td>5.088828</td>\n",
       "    </tr>\n",
       "    <tr>\n",
       "      <th>2082</th>\n",
       "      <td>2085</td>\n",
       "      <td>3.908491</td>\n",
       "    </tr>\n",
       "    <tr>\n",
       "      <th>628</th>\n",
       "      <td>631</td>\n",
       "      <td>7.950360</td>\n",
       "    </tr>\n",
       "    <tr>\n",
       "      <th>3221</th>\n",
       "      <td>3224</td>\n",
       "      <td>8.640841</td>\n",
       "    </tr>\n",
       "  </tbody>\n",
       "</table>\n",
       "</div>"
      ],
      "text/plain": [
       "       key      Газ 1\n",
       "720    723  10.321414\n",
       "2604  2607   5.088828\n",
       "2082  2085   3.908491\n",
       "628    631   7.950360\n",
       "3221  3224   8.640841"
      ]
     },
     "execution_count": 25,
     "metadata": {},
     "output_type": "execute_result"
    }
   ],
   "source": [
    "df_gas.sample(5)"
   ]
  },
  {
   "cell_type": "code",
   "execution_count": 26,
   "id": "8d15645e",
   "metadata": {},
   "outputs": [
    {
     "name": "stdout",
     "output_type": "stream",
     "text": [
      "<class 'pandas.core.frame.DataFrame'>\n",
      "RangeIndex: 3239 entries, 0 to 3238\n",
      "Data columns (total 2 columns):\n",
      " #   Column  Non-Null Count  Dtype  \n",
      "---  ------  --------------  -----  \n",
      " 0   key     3239 non-null   int64  \n",
      " 1   Газ 1   3239 non-null   float64\n",
      "dtypes: float64(1), int64(1)\n",
      "memory usage: 50.7 KB\n"
     ]
    }
   ],
   "source": [
    "df_gas.info()"
   ]
  },
  {
   "cell_type": "code",
   "execution_count": 27,
   "id": "0c444e48",
   "metadata": {},
   "outputs": [
    {
     "name": "stdout",
     "output_type": "stream",
     "text": [
      "Number of duplicates in df_gas dataset: 0\n"
     ]
    }
   ],
   "source": [
    "print('Number of duplicates in df_gas dataset:', df_gas.duplicated().sum())"
   ]
  },
  {
   "cell_type": "markdown",
   "id": "da092ec3",
   "metadata": {},
   "source": [
    "This dataset has 3239 rows and only 2 columns. There are no gaps or duplicates."
   ]
  },
  {
   "cell_type": "code",
   "execution_count": 28,
   "id": "5105f0d9",
   "metadata": {},
   "outputs": [
    {
     "data": {
      "text/html": [
       "<div>\n",
       "<style scoped>\n",
       "    .dataframe tbody tr th:only-of-type {\n",
       "        vertical-align: middle;\n",
       "    }\n",
       "\n",
       "    .dataframe tbody tr th {\n",
       "        vertical-align: top;\n",
       "    }\n",
       "\n",
       "    .dataframe thead th {\n",
       "        text-align: right;\n",
       "    }\n",
       "</style>\n",
       "<table border=\"1\" class=\"dataframe\">\n",
       "  <thead>\n",
       "    <tr style=\"text-align: right;\">\n",
       "      <th></th>\n",
       "      <th>key</th>\n",
       "      <th>Газ 1</th>\n",
       "    </tr>\n",
       "  </thead>\n",
       "  <tbody>\n",
       "    <tr>\n",
       "      <th>count</th>\n",
       "      <td>3239.000000</td>\n",
       "      <td>3239.000000</td>\n",
       "    </tr>\n",
       "    <tr>\n",
       "      <th>mean</th>\n",
       "      <td>1621.861377</td>\n",
       "      <td>11.002062</td>\n",
       "    </tr>\n",
       "    <tr>\n",
       "      <th>std</th>\n",
       "      <td>935.386334</td>\n",
       "      <td>6.220327</td>\n",
       "    </tr>\n",
       "    <tr>\n",
       "      <th>min</th>\n",
       "      <td>1.000000</td>\n",
       "      <td>0.008399</td>\n",
       "    </tr>\n",
       "    <tr>\n",
       "      <th>25%</th>\n",
       "      <td>812.500000</td>\n",
       "      <td>7.043089</td>\n",
       "    </tr>\n",
       "    <tr>\n",
       "      <th>50%</th>\n",
       "      <td>1622.000000</td>\n",
       "      <td>9.836267</td>\n",
       "    </tr>\n",
       "    <tr>\n",
       "      <th>75%</th>\n",
       "      <td>2431.500000</td>\n",
       "      <td>13.769915</td>\n",
       "    </tr>\n",
       "    <tr>\n",
       "      <th>max</th>\n",
       "      <td>3241.000000</td>\n",
       "      <td>77.995040</td>\n",
       "    </tr>\n",
       "  </tbody>\n",
       "</table>\n",
       "</div>"
      ],
      "text/plain": [
       "               key        Газ 1\n",
       "count  3239.000000  3239.000000\n",
       "mean   1621.861377    11.002062\n",
       "std     935.386334     6.220327\n",
       "min       1.000000     0.008399\n",
       "25%     812.500000     7.043089\n",
       "50%    1622.000000     9.836267\n",
       "75%    2431.500000    13.769915\n",
       "max    3241.000000    77.995040"
      ]
     },
     "execution_count": 28,
     "metadata": {},
     "output_type": "execute_result"
    }
   ],
   "source": [
    "#look at descriptive statistics\n",
    "df_gas.describe()"
   ]
  },
  {
   "cell_type": "markdown",
   "id": "bd7f99e2",
   "metadata": {},
   "source": [
    "The maximum value of 77.99 looks like an outlier. Let's build a boxplot."
   ]
  },
  {
   "cell_type": "code",
   "execution_count": 29,
   "id": "d8664b7a",
   "metadata": {},
   "outputs": [
    {
     "data": {
      "image/png": "[encoded data removed]",
      "text/plain": [
       "<Figure size 864x360 with 1 Axes>"
      ]
     },
     "metadata": {
      "needs_background": "light"
     },
     "output_type": "display_data"
    }
   ],
   "source": [
    "plt.figure(figsize=(12,5))\n",
    "sns.boxplot(df_gas['Газ 1'])\n",
    "plt.show()"
   ]
  },
  {
   "cell_type": "markdown",
   "id": "6e79504b",
   "metadata": {},
   "source": [
    "Judging by the boxplot, explicit outliers start after 40. Let's calculate the exact value of the start of outliers using the formula: q_3 (3rd quartile) + 3 * irq (interquartile range). It turns out that 13.76 + 3*(13.76 - 7.04) = 33.92 and all values from 34 are outliers."
   ]
  },
  {
   "cell_type": "code",
   "execution_count": 30,
   "id": "409a2ae9",
   "metadata": {},
   "outputs": [
    {
     "data": {
      "image/png": "[encoded data removed]",
      "text/plain": [
       "<Figure size 864x576 with 1 Axes>"
      ]
     },
     "metadata": {
      "needs_background": "light"
     },
     "output_type": "display_data"
    }
   ],
   "source": [
    "#consider the distribution density\n",
    "plt.figure(figsize=(12,8))\n",
    "sns.histplot(df_gas['Газ 1'], kde=True)\n",
    "plt.show()"
   ]
  },
  {
   "cell_type": "markdown",
   "id": "9da30de3",
   "metadata": {},
   "source": [
    "The distribution is normal."
   ]
  },
  {
   "cell_type": "markdown",
   "id": "f9510057",
   "metadata": {},
   "source": [
    "### Temperature measurement results"
   ]
  },
  {
   "cell_type": "code",
   "execution_count": 31,
   "id": "293666a9",
   "metadata": {},
   "outputs": [
    {
     "data": {
      "text/html": [
       "<div>\n",
       "<style scoped>\n",
       "    .dataframe tbody tr th:only-of-type {\n",
       "        vertical-align: middle;\n",
       "    }\n",
       "\n",
       "    .dataframe tbody tr th {\n",
       "        vertical-align: top;\n",
       "    }\n",
       "\n",
       "    .dataframe thead th {\n",
       "        text-align: right;\n",
       "    }\n",
       "</style>\n",
       "<table border=\"1\" class=\"dataframe\">\n",
       "  <thead>\n",
       "    <tr style=\"text-align: right;\">\n",
       "      <th></th>\n",
       "      <th>key</th>\n",
       "      <th>Время замера</th>\n",
       "      <th>Температура</th>\n",
       "    </tr>\n",
       "  </thead>\n",
       "  <tbody>\n",
       "    <tr>\n",
       "      <th>0</th>\n",
       "      <td>1</td>\n",
       "      <td>2019-05-03 11:16:18</td>\n",
       "      <td>1571.0</td>\n",
       "    </tr>\n",
       "    <tr>\n",
       "      <th>1</th>\n",
       "      <td>1</td>\n",
       "      <td>2019-05-03 11:25:53</td>\n",
       "      <td>1604.0</td>\n",
       "    </tr>\n",
       "    <tr>\n",
       "      <th>2</th>\n",
       "      <td>1</td>\n",
       "      <td>2019-05-03 11:29:11</td>\n",
       "      <td>1618.0</td>\n",
       "    </tr>\n",
       "    <tr>\n",
       "      <th>3</th>\n",
       "      <td>1</td>\n",
       "      <td>2019-05-03 11:30:01</td>\n",
       "      <td>1601.0</td>\n",
       "    </tr>\n",
       "    <tr>\n",
       "      <th>4</th>\n",
       "      <td>1</td>\n",
       "      <td>2019-05-03 11:30:39</td>\n",
       "      <td>1613.0</td>\n",
       "    </tr>\n",
       "    <tr>\n",
       "      <th>5</th>\n",
       "      <td>2</td>\n",
       "      <td>2019-05-03 11:37:27</td>\n",
       "      <td>1581.0</td>\n",
       "    </tr>\n",
       "    <tr>\n",
       "      <th>6</th>\n",
       "      <td>2</td>\n",
       "      <td>2019-05-03 11:38:00</td>\n",
       "      <td>1577.0</td>\n",
       "    </tr>\n",
       "    <tr>\n",
       "      <th>7</th>\n",
       "      <td>2</td>\n",
       "      <td>2019-05-03 11:49:38</td>\n",
       "      <td>1589.0</td>\n",
       "    </tr>\n",
       "    <tr>\n",
       "      <th>8</th>\n",
       "      <td>2</td>\n",
       "      <td>2019-05-03 11:55:50</td>\n",
       "      <td>1604.0</td>\n",
       "    </tr>\n",
       "    <tr>\n",
       "      <th>9</th>\n",
       "      <td>2</td>\n",
       "      <td>2019-05-03 11:58:24</td>\n",
       "      <td>1608.0</td>\n",
       "    </tr>\n",
       "  </tbody>\n",
       "</table>\n",
       "</div>"
      ],
      "text/plain": [
       "   key         Время замера  Температура\n",
       "0    1  2019-05-03 11:16:18       1571.0\n",
       "1    1  2019-05-03 11:25:53       1604.0\n",
       "2    1  2019-05-03 11:29:11       1618.0\n",
       "3    1  2019-05-03 11:30:01       1601.0\n",
       "4    1  2019-05-03 11:30:39       1613.0\n",
       "5    2  2019-05-03 11:37:27       1581.0\n",
       "6    2  2019-05-03 11:38:00       1577.0\n",
       "7    2  2019-05-03 11:49:38       1589.0\n",
       "8    2  2019-05-03 11:55:50       1604.0\n",
       "9    2  2019-05-03 11:58:24       1608.0"
      ]
     },
     "execution_count": 31,
     "metadata": {},
     "output_type": "execute_result"
    }
   ],
   "source": [
    "df_temp.head(10)"
   ]
  },
  {
   "cell_type": "code",
   "execution_count": 32,
   "id": "0c437ebe",
   "metadata": {},
   "outputs": [
    {
     "name": "stdout",
     "output_type": "stream",
     "text": [
      "<class 'pandas.core.frame.DataFrame'>\n",
      "RangeIndex: 15907 entries, 0 to 15906\n",
      "Data columns (total 3 columns):\n",
      " #   Column        Non-Null Count  Dtype  \n",
      "---  ------        --------------  -----  \n",
      " 0   key           15907 non-null  int64  \n",
      " 1   Время замера  15907 non-null  object \n",
      " 2   Температура   13006 non-null  float64\n",
      "dtypes: float64(1), int64(1), object(1)\n",
      "memory usage: 372.9+ KB\n"
     ]
    }
   ],
   "source": [
    "df_temp.info()"
   ]
  },
  {
   "cell_type": "code",
   "execution_count": 33,
   "id": "10f94e96",
   "metadata": {},
   "outputs": [
    {
     "name": "stdout",
     "output_type": "stream",
     "text": [
      "Number of duplicates in df_temp dataset: 0\n"
     ]
    }
   ],
   "source": [
    "print('Number of duplicates in df_temp dataset:', df_temp.duplicated().sum())"
   ]
  },
  {
   "cell_type": "markdown",
   "id": "c1604c78",
   "metadata": {},
   "source": [
    "This dataset has 15,907 rows and 3 columns. There are 2,906 gaps in the Temperature column. There are no duplicates."
   ]
  },
  {
   "cell_type": "code",
   "execution_count": 34,
   "id": "7324101a",
   "metadata": {},
   "outputs": [
    {
     "data": {
      "text/plain": [
       "key                      int64\n",
       "Время замера    datetime64[ns]\n",
       "Температура            float64\n",
       "dtype: object"
      ]
     },
     "execution_count": 34,
     "metadata": {},
     "output_type": "execute_result"
    }
   ],
   "source": [
    "#immediately cast \"Sampling time\" to datetime type\n",
    "df_temp['Время замера'] = pd.to_datetime(df_temp['Время замера'], format='%Y-%m-%d %H:%M:%S')\n",
    "df_temp.dtypes"
   ]
  },
  {
   "cell_type": "code",
   "execution_count": 35,
   "id": "dee52c87",
   "metadata": {},
   "outputs": [
    {
     "data": {
      "text/html": [
       "<div>\n",
       "<style scoped>\n",
       "    .dataframe tbody tr th:only-of-type {\n",
       "        vertical-align: middle;\n",
       "    }\n",
       "\n",
       "    .dataframe tbody tr th {\n",
       "        vertical-align: top;\n",
       "    }\n",
       "\n",
       "    .dataframe thead th {\n",
       "        text-align: right;\n",
       "    }\n",
       "</style>\n",
       "<table border=\"1\" class=\"dataframe\">\n",
       "  <thead>\n",
       "    <tr style=\"text-align: right;\">\n",
       "      <th></th>\n",
       "      <th>key</th>\n",
       "      <th>Температура</th>\n",
       "    </tr>\n",
       "  </thead>\n",
       "  <tbody>\n",
       "    <tr>\n",
       "      <th>count</th>\n",
       "      <td>15907.000000</td>\n",
       "      <td>13006.000000</td>\n",
       "    </tr>\n",
       "    <tr>\n",
       "      <th>mean</th>\n",
       "      <td>1607.880870</td>\n",
       "      <td>1591.840920</td>\n",
       "    </tr>\n",
       "    <tr>\n",
       "      <th>std</th>\n",
       "      <td>942.212073</td>\n",
       "      <td>21.375851</td>\n",
       "    </tr>\n",
       "    <tr>\n",
       "      <th>min</th>\n",
       "      <td>1.000000</td>\n",
       "      <td>1191.000000</td>\n",
       "    </tr>\n",
       "    <tr>\n",
       "      <th>25%</th>\n",
       "      <td>790.000000</td>\n",
       "      <td>1581.000000</td>\n",
       "    </tr>\n",
       "    <tr>\n",
       "      <th>50%</th>\n",
       "      <td>1618.000000</td>\n",
       "      <td>1591.000000</td>\n",
       "    </tr>\n",
       "    <tr>\n",
       "      <th>75%</th>\n",
       "      <td>2427.000000</td>\n",
       "      <td>1601.000000</td>\n",
       "    </tr>\n",
       "    <tr>\n",
       "      <th>max</th>\n",
       "      <td>3241.000000</td>\n",
       "      <td>1705.000000</td>\n",
       "    </tr>\n",
       "  </tbody>\n",
       "</table>\n",
       "</div>"
      ],
      "text/plain": [
       "                key   Температура\n",
       "count  15907.000000  13006.000000\n",
       "mean    1607.880870   1591.840920\n",
       "std      942.212073     21.375851\n",
       "min        1.000000   1191.000000\n",
       "25%      790.000000   1581.000000\n",
       "50%     1618.000000   1591.000000\n",
       "75%     2427.000000   1601.000000\n",
       "max     3241.000000   1705.000000"
      ]
     },
     "execution_count": 35,
     "metadata": {},
     "output_type": "execute_result"
    }
   ],
   "source": [
    "#look at the descriptive statistics\n",
    "df_temp.describe()"
   ]
  },
  {
   "cell_type": "code",
   "execution_count": 36,
   "id": "48d7d4f0",
   "metadata": {},
   "outputs": [
    {
     "data": {
      "image/png": "[encoded data removed]",
      "text/plain": [
       "<Figure size 864x360 with 1 Axes>"
      ]
     },
     "metadata": {
      "needs_background": "light"
     },
     "output_type": "display_data"
    }
   ],
   "source": [
    "#build a boxplot\n",
    "plt.figure(figsize=(12,5))\n",
    "sns.boxplot(df_temp['Температура'])\n",
    "plt.show()"
   ]
  },
  {
   "cell_type": "markdown",
   "id": "c68a2dce",
   "metadata": {},
   "source": [
    "There are emissions in the range up to 1400 degrees. Let's look at the distribution."
   ]
  },
  {
   "cell_type": "code",
   "execution_count": 37,
   "id": "7a9beef1",
   "metadata": {},
   "outputs": [
    {
     "data": {
      "image/png": "[encoded data removed]",
      "text/plain": [
       "<Figure size 864x576 with 1 Axes>"
      ]
     },
     "metadata": {
      "needs_background": "light"
     },
     "output_type": "display_data"
    }
   ],
   "source": [
    "plt.figure(figsize=(12,8))\n",
    "sns.histplot(df_temp['Температура'], kde=True)\n",
    "plt.show()"
   ]
  },
  {
   "cell_type": "markdown",
   "id": "cf376c0d",
   "metadata": {},
   "source": [
    "The distribution is absolutely normal."
   ]
  },
  {
   "cell_type": "markdown",
   "id": "7d43d484",
   "metadata": {},
   "source": [
    "## Data preprocessing"
   ]
  },
  {
   "cell_type": "markdown",
   "id": "edc4af1d",
   "metadata": {},
   "source": [
    "Calculate the total power and duration of heating by graphite electrodes."
   ]
  },
  {
   "cell_type": "code",
   "execution_count": 38,
   "id": "920780b4",
   "metadata": {},
   "outputs": [
    {
     "data": {
      "text/html": [
       "<div>\n",
       "<style scoped>\n",
       "    .dataframe tbody tr th:only-of-type {\n",
       "        vertical-align: middle;\n",
       "    }\n",
       "\n",
       "    .dataframe tbody tr th {\n",
       "        vertical-align: top;\n",
       "    }\n",
       "\n",
       "    .dataframe thead th {\n",
       "        text-align: right;\n",
       "    }\n",
       "</style>\n",
       "<table border=\"1\" class=\"dataframe\">\n",
       "  <thead>\n",
       "    <tr style=\"text-align: right;\">\n",
       "      <th></th>\n",
       "      <th>key</th>\n",
       "      <th>full_power</th>\n",
       "      <th>heating_time</th>\n",
       "    </tr>\n",
       "  </thead>\n",
       "  <tbody>\n",
       "    <tr>\n",
       "      <th>0</th>\n",
       "      <td>1</td>\n",
       "      <td>5.826395</td>\n",
       "      <td>1098</td>\n",
       "    </tr>\n",
       "    <tr>\n",
       "      <th>1</th>\n",
       "      <td>2</td>\n",
       "      <td>3.649216</td>\n",
       "      <td>811</td>\n",
       "    </tr>\n",
       "    <tr>\n",
       "      <th>2</th>\n",
       "      <td>3</td>\n",
       "      <td>2.989534</td>\n",
       "      <td>655</td>\n",
       "    </tr>\n",
       "    <tr>\n",
       "      <th>3</th>\n",
       "      <td>4</td>\n",
       "      <td>3.814962</td>\n",
       "      <td>741</td>\n",
       "    </tr>\n",
       "    <tr>\n",
       "      <th>4</th>\n",
       "      <td>5</td>\n",
       "      <td>4.035758</td>\n",
       "      <td>869</td>\n",
       "    </tr>\n",
       "    <tr>\n",
       "      <th>...</th>\n",
       "      <td>...</td>\n",
       "      <td>...</td>\n",
       "      <td>...</td>\n",
       "    </tr>\n",
       "    <tr>\n",
       "      <th>3209</th>\n",
       "      <td>3237</td>\n",
       "      <td>4.844982</td>\n",
       "      <td>909</td>\n",
       "    </tr>\n",
       "    <tr>\n",
       "      <th>3210</th>\n",
       "      <td>3238</td>\n",
       "      <td>2.696542</td>\n",
       "      <td>546</td>\n",
       "    </tr>\n",
       "    <tr>\n",
       "      <th>3211</th>\n",
       "      <td>3239</td>\n",
       "      <td>5.611883</td>\n",
       "      <td>1216</td>\n",
       "    </tr>\n",
       "    <tr>\n",
       "      <th>3212</th>\n",
       "      <td>3240</td>\n",
       "      <td>3.891856</td>\n",
       "      <td>839</td>\n",
       "    </tr>\n",
       "    <tr>\n",
       "      <th>3213</th>\n",
       "      <td>3241</td>\n",
       "      <td>2.999516</td>\n",
       "      <td>659</td>\n",
       "    </tr>\n",
       "  </tbody>\n",
       "</table>\n",
       "<p>3214 rows × 3 columns</p>\n",
       "</div>"
      ],
      "text/plain": [
       "       key  full_power  heating_time\n",
       "0        1    5.826395          1098\n",
       "1        2    3.649216           811\n",
       "2        3    2.989534           655\n",
       "3        4    3.814962           741\n",
       "4        5    4.035758           869\n",
       "...    ...         ...           ...\n",
       "3209  3237    4.844982           909\n",
       "3210  3238    2.696542           546\n",
       "3211  3239    5.611883          1216\n",
       "3212  3240    3.891856           839\n",
       "3213  3241    2.999516           659\n",
       "\n",
       "[3214 rows x 3 columns]"
      ]
     },
     "execution_count": 38,
     "metadata": {},
     "output_type": "execute_result"
    }
   ],
   "source": [
    "#add column with full power\n",
    "df_arc['full_power'] = np.sqrt(df_arc['Активная мощность']**2 + df_arc['Реактивная мощность']**2)\n",
    "\n",
    "#calculate the duration of heating in seconds\n",
    "df_arc['heating_time'] = ((df_arc['Конец нагрева дугой'] - df_arc['Начало нагрева дугой'])\n",
    "                          .dt.total_seconds().astype(int))\n",
    "\n",
    "#group the data by key and create the final dataset\n",
    "df_arc_final=df_arc.groupby('key').sum()[['full_power', 'heating_time']].reset_index()\n",
    "\n",
    "#look at the resulting dataset\n",
    "df_arc_final"
   ]
  },
  {
   "cell_type": "markdown",
   "id": "6381a008",
   "metadata": {},
   "source": [
    "Now let's fill in the gaps with zeros in the df_bulk and df_wire datasets."
   ]
  },
  {
   "cell_type": "code",
   "execution_count": 39,
   "id": "6862f3ee",
   "metadata": {},
   "outputs": [
    {
     "data": {
      "text/html": [
       "<div>\n",
       "<style scoped>\n",
       "    .dataframe tbody tr th:only-of-type {\n",
       "        vertical-align: middle;\n",
       "    }\n",
       "\n",
       "    .dataframe tbody tr th {\n",
       "        vertical-align: top;\n",
       "    }\n",
       "\n",
       "    .dataframe thead th {\n",
       "        text-align: right;\n",
       "    }\n",
       "</style>\n",
       "<table border=\"1\" class=\"dataframe\">\n",
       "  <thead>\n",
       "    <tr style=\"text-align: right;\">\n",
       "      <th></th>\n",
       "      <th>key</th>\n",
       "      <th>Bulk 1</th>\n",
       "      <th>Bulk 2</th>\n",
       "      <th>Bulk 3</th>\n",
       "      <th>Bulk 4</th>\n",
       "      <th>Bulk 5</th>\n",
       "      <th>Bulk 6</th>\n",
       "      <th>Bulk 7</th>\n",
       "      <th>Bulk 8</th>\n",
       "      <th>Bulk 9</th>\n",
       "      <th>Bulk 10</th>\n",
       "      <th>Bulk 11</th>\n",
       "      <th>Bulk 12</th>\n",
       "      <th>Bulk 13</th>\n",
       "      <th>Bulk 14</th>\n",
       "      <th>Bulk 15</th>\n",
       "    </tr>\n",
       "  </thead>\n",
       "  <tbody>\n",
       "    <tr>\n",
       "      <th>844</th>\n",
       "      <td>880</td>\n",
       "      <td>27.0</td>\n",
       "      <td>0.0</td>\n",
       "      <td>186.0</td>\n",
       "      <td>79.0</td>\n",
       "      <td>0.0</td>\n",
       "      <td>0.0</td>\n",
       "      <td>0.0</td>\n",
       "      <td>0.0</td>\n",
       "      <td>0.0</td>\n",
       "      <td>0.0</td>\n",
       "      <td>0.0</td>\n",
       "      <td>462.0</td>\n",
       "      <td>0.0</td>\n",
       "      <td>186.0</td>\n",
       "      <td>0.0</td>\n",
       "    </tr>\n",
       "    <tr>\n",
       "      <th>1539</th>\n",
       "      <td>1597</td>\n",
       "      <td>0.0</td>\n",
       "      <td>0.0</td>\n",
       "      <td>131.0</td>\n",
       "      <td>0.0</td>\n",
       "      <td>0.0</td>\n",
       "      <td>0.0</td>\n",
       "      <td>0.0</td>\n",
       "      <td>0.0</td>\n",
       "      <td>0.0</td>\n",
       "      <td>0.0</td>\n",
       "      <td>0.0</td>\n",
       "      <td>410.0</td>\n",
       "      <td>0.0</td>\n",
       "      <td>278.0</td>\n",
       "      <td>205.0</td>\n",
       "    </tr>\n",
       "    <tr>\n",
       "      <th>1630</th>\n",
       "      <td>1690</td>\n",
       "      <td>0.0</td>\n",
       "      <td>0.0</td>\n",
       "      <td>123.0</td>\n",
       "      <td>0.0</td>\n",
       "      <td>0.0</td>\n",
       "      <td>0.0</td>\n",
       "      <td>0.0</td>\n",
       "      <td>0.0</td>\n",
       "      <td>0.0</td>\n",
       "      <td>0.0</td>\n",
       "      <td>0.0</td>\n",
       "      <td>157.0</td>\n",
       "      <td>0.0</td>\n",
       "      <td>141.0</td>\n",
       "      <td>104.0</td>\n",
       "    </tr>\n",
       "  </tbody>\n",
       "</table>\n",
       "</div>"
      ],
      "text/plain": [
       "       key  Bulk 1  Bulk 2  Bulk 3  Bulk 4  Bulk 5  Bulk 6  Bulk 7  Bulk 8  \\\n",
       "844    880    27.0     0.0   186.0    79.0     0.0     0.0     0.0     0.0   \n",
       "1539  1597     0.0     0.0   131.0     0.0     0.0     0.0     0.0     0.0   \n",
       "1630  1690     0.0     0.0   123.0     0.0     0.0     0.0     0.0     0.0   \n",
       "\n",
       "      Bulk 9  Bulk 10  Bulk 11  Bulk 12  Bulk 13  Bulk 14  Bulk 15  \n",
       "844      0.0      0.0      0.0    462.0      0.0    186.0      0.0  \n",
       "1539     0.0      0.0      0.0    410.0      0.0    278.0    205.0  \n",
       "1630     0.0      0.0      0.0    157.0      0.0    141.0    104.0  "
      ]
     },
     "metadata": {},
     "output_type": "display_data"
    },
    {
     "data": {
      "text/html": [
       "<div>\n",
       "<style scoped>\n",
       "    .dataframe tbody tr th:only-of-type {\n",
       "        vertical-align: middle;\n",
       "    }\n",
       "\n",
       "    .dataframe tbody tr th {\n",
       "        vertical-align: top;\n",
       "    }\n",
       "\n",
       "    .dataframe thead th {\n",
       "        text-align: right;\n",
       "    }\n",
       "</style>\n",
       "<table border=\"1\" class=\"dataframe\">\n",
       "  <thead>\n",
       "    <tr style=\"text-align: right;\">\n",
       "      <th></th>\n",
       "      <th>key</th>\n",
       "      <th>Wire 1</th>\n",
       "      <th>Wire 2</th>\n",
       "      <th>Wire 3</th>\n",
       "      <th>Wire 4</th>\n",
       "      <th>Wire 5</th>\n",
       "      <th>Wire 6</th>\n",
       "      <th>Wire 7</th>\n",
       "      <th>Wire 8</th>\n",
       "      <th>Wire 9</th>\n",
       "    </tr>\n",
       "  </thead>\n",
       "  <tbody>\n",
       "    <tr>\n",
       "      <th>2449</th>\n",
       "      <td>2576</td>\n",
       "      <td>35.075039</td>\n",
       "      <td>0.000000</td>\n",
       "      <td>0.0</td>\n",
       "      <td>0.0</td>\n",
       "      <td>0.0</td>\n",
       "      <td>45.233757</td>\n",
       "      <td>0.0</td>\n",
       "      <td>0.0</td>\n",
       "      <td>0.0</td>\n",
       "    </tr>\n",
       "    <tr>\n",
       "      <th>2433</th>\n",
       "      <td>2560</td>\n",
       "      <td>77.138877</td>\n",
       "      <td>3.981120</td>\n",
       "      <td>0.0</td>\n",
       "      <td>0.0</td>\n",
       "      <td>0.0</td>\n",
       "      <td>0.000000</td>\n",
       "      <td>0.0</td>\n",
       "      <td>0.0</td>\n",
       "      <td>0.0</td>\n",
       "    </tr>\n",
       "    <tr>\n",
       "      <th>68</th>\n",
       "      <td>77</td>\n",
       "      <td>110.292000</td>\n",
       "      <td>45.135998</td>\n",
       "      <td>0.0</td>\n",
       "      <td>0.0</td>\n",
       "      <td>0.0</td>\n",
       "      <td>0.000000</td>\n",
       "      <td>0.0</td>\n",
       "      <td>0.0</td>\n",
       "      <td>0.0</td>\n",
       "    </tr>\n",
       "  </tbody>\n",
       "</table>\n",
       "</div>"
      ],
      "text/plain": [
       "       key      Wire 1     Wire 2  Wire 3  Wire 4  Wire 5     Wire 6  Wire 7  \\\n",
       "2449  2576   35.075039   0.000000     0.0     0.0     0.0  45.233757     0.0   \n",
       "2433  2560   77.138877   3.981120     0.0     0.0     0.0   0.000000     0.0   \n",
       "68      77  110.292000  45.135998     0.0     0.0     0.0   0.000000     0.0   \n",
       "\n",
       "      Wire 8  Wire 9  \n",
       "2449     0.0     0.0  \n",
       "2433     0.0     0.0  \n",
       "68       0.0     0.0  "
      ]
     },
     "metadata": {},
     "output_type": "display_data"
    }
   ],
   "source": [
    "df_bulk = df_bulk.fillna(0)\n",
    "df_wire = df_wire.fillna(0)\n",
    "\n",
    "#check the result\n",
    "display(df_bulk.sample(3))\n",
    "display(df_wire.sample(3))"
   ]
  },
  {
   "cell_type": "markdown",
   "id": "86613851",
   "metadata": {},
   "source": [
    "As we have already defined earlier, in the gas dataset, values above 34 are outliers. Let's filter the dataset and remove these 18 rows."
   ]
  },
  {
   "cell_type": "code",
   "execution_count": 40,
   "id": "322aa4d3",
   "metadata": {},
   "outputs": [],
   "source": [
    "df_gas = df_gas[df_gas['Газ 1'] < 34]"
   ]
  },
  {
   "cell_type": "code",
   "execution_count": 41,
   "id": "b7fdea6e",
   "metadata": {},
   "outputs": [
    {
     "name": "stdout",
     "output_type": "stream",
     "text": [
      "<class 'pandas.core.frame.DataFrame'>\n",
      "Int64Index: 3221 entries, 0 to 3238\n",
      "Data columns (total 2 columns):\n",
      " #   Column  Non-Null Count  Dtype  \n",
      "---  ------  --------------  -----  \n",
      " 0   key     3221 non-null   int64  \n",
      " 1   gas     3221 non-null   float64\n",
      "dtypes: float64(1), int64(1)\n",
      "memory usage: 75.5 KB\n"
     ]
    }
   ],
   "source": [
    "#rename the column name in the df_gas dataset so that all columns in the final dataset are in the same style\n",
    "df_gas = df_gas.rename(columns = {'Газ 1': 'gas'})\n",
    "df_gas.info()"
   ]
  },
  {
   "cell_type": "markdown",
   "id": "7973ef00",
   "metadata": {},
   "source": [
    "Let's move on to the final temperature dataset. It is necessary to remove emissions less than 1300 degrees from it, because. 1300 degrees is the initial melting point of steel. After that, we will remove from the dataset the parties in which there is only one measurement time, and we need at least 2, because. the start temperature is the feature and the end temperature is the target feature. You also need to highlight the initial and final temperature of one batch and the time of work with the batch."
   ]
  },
  {
   "cell_type": "code",
   "execution_count": 42,
   "id": "1e5e1391",
   "metadata": {},
   "outputs": [],
   "source": [
    "#filter outliers below 1300 degrees\n",
    "df_temp = df_temp.query('Температура >= 1300')"
   ]
  },
  {
   "cell_type": "code",
   "execution_count": 43,
   "id": "1275c2f0",
   "metadata": {},
   "outputs": [],
   "source": [
    "#group data by key and count the number of measurements\n",
    "temp_count = (df_temp.groupby('key')['key'].count())\\\n",
    "             [(df_temp.groupby('key')['key'].count()) > 1].index\n",
    "\n",
    "#delete indexes with one measurement from the dataset\n",
    "df_temp = df_temp[df_temp['key'].isin(temp_count)]"
   ]
  },
  {
   "cell_type": "code",
   "execution_count": 44,
   "id": "07ba1b29",
   "metadata": {},
   "outputs": [
    {
     "data": {
      "text/html": [
       "<div>\n",
       "<style scoped>\n",
       "    .dataframe tbody tr th:only-of-type {\n",
       "        vertical-align: middle;\n",
       "    }\n",
       "\n",
       "    .dataframe tbody tr th {\n",
       "        vertical-align: top;\n",
       "    }\n",
       "\n",
       "    .dataframe thead th {\n",
       "        text-align: right;\n",
       "    }\n",
       "</style>\n",
       "<table border=\"1\" class=\"dataframe\">\n",
       "  <thead>\n",
       "    <tr style=\"text-align: right;\">\n",
       "      <th></th>\n",
       "      <th>key</th>\n",
       "      <th>start_temp</th>\n",
       "      <th>final_temp</th>\n",
       "      <th>duration</th>\n",
       "    </tr>\n",
       "  </thead>\n",
       "  <tbody>\n",
       "    <tr>\n",
       "      <th>0</th>\n",
       "      <td>1</td>\n",
       "      <td>1571.0</td>\n",
       "      <td>1613.0</td>\n",
       "      <td>861</td>\n",
       "    </tr>\n",
       "    <tr>\n",
       "      <th>1</th>\n",
       "      <td>2</td>\n",
       "      <td>1581.0</td>\n",
       "      <td>1602.0</td>\n",
       "      <td>1305</td>\n",
       "    </tr>\n",
       "    <tr>\n",
       "      <th>2</th>\n",
       "      <td>3</td>\n",
       "      <td>1596.0</td>\n",
       "      <td>1599.0</td>\n",
       "      <td>1300</td>\n",
       "    </tr>\n",
       "    <tr>\n",
       "      <th>3</th>\n",
       "      <td>4</td>\n",
       "      <td>1601.0</td>\n",
       "      <td>1625.0</td>\n",
       "      <td>388</td>\n",
       "    </tr>\n",
       "    <tr>\n",
       "      <th>4</th>\n",
       "      <td>5</td>\n",
       "      <td>1576.0</td>\n",
       "      <td>1602.0</td>\n",
       "      <td>762</td>\n",
       "    </tr>\n",
       "    <tr>\n",
       "      <th>...</th>\n",
       "      <td>...</td>\n",
       "      <td>...</td>\n",
       "      <td>...</td>\n",
       "      <td>...</td>\n",
       "    </tr>\n",
       "    <tr>\n",
       "      <th>2470</th>\n",
       "      <td>2495</td>\n",
       "      <td>1570.0</td>\n",
       "      <td>1591.0</td>\n",
       "      <td>1137</td>\n",
       "    </tr>\n",
       "    <tr>\n",
       "      <th>2471</th>\n",
       "      <td>2496</td>\n",
       "      <td>1554.0</td>\n",
       "      <td>1591.0</td>\n",
       "      <td>1618</td>\n",
       "    </tr>\n",
       "    <tr>\n",
       "      <th>2472</th>\n",
       "      <td>2497</td>\n",
       "      <td>1571.0</td>\n",
       "      <td>1589.0</td>\n",
       "      <td>717</td>\n",
       "    </tr>\n",
       "    <tr>\n",
       "      <th>2473</th>\n",
       "      <td>2498</td>\n",
       "      <td>1591.0</td>\n",
       "      <td>1594.0</td>\n",
       "      <td>1302</td>\n",
       "    </tr>\n",
       "    <tr>\n",
       "      <th>2474</th>\n",
       "      <td>2499</td>\n",
       "      <td>1569.0</td>\n",
       "      <td>1603.0</td>\n",
       "      <td>1203</td>\n",
       "    </tr>\n",
       "  </tbody>\n",
       "</table>\n",
       "<p>2475 rows × 4 columns</p>\n",
       "</div>"
      ],
      "text/plain": [
       "       key  start_temp  final_temp  duration\n",
       "0        1      1571.0      1613.0       861\n",
       "1        2      1581.0      1602.0      1305\n",
       "2        3      1596.0      1599.0      1300\n",
       "3        4      1601.0      1625.0       388\n",
       "4        5      1576.0      1602.0       762\n",
       "...    ...         ...         ...       ...\n",
       "2470  2495      1570.0      1591.0      1137\n",
       "2471  2496      1554.0      1591.0      1618\n",
       "2472  2497      1571.0      1589.0       717\n",
       "2473  2498      1591.0      1594.0      1302\n",
       "2474  2499      1569.0      1603.0      1203\n",
       "\n",
       "[2475 rows x 4 columns]"
      ]
     },
     "execution_count": 44,
     "metadata": {},
     "output_type": "execute_result"
    }
   ],
   "source": [
    "#create a dataset with grouping by key and aggregating function min applied to the sampling time\n",
    "start_temp = df_temp.groupby('key').agg('min')['Время замера']\n",
    "start_temp = pd.DataFrame(start_temp)\n",
    "start_temp = start_temp.merge(df_temp, on='Время замера', how='left')\n",
    "start_temp.set_axis(['start_time', 'key', 'start_temp'], axis = 'columns', inplace = True)\n",
    "\n",
    "\n",
    "#create a second dataset with grouping by key and aggregating function max applied to the sampling time\n",
    "final_temp = df_temp.groupby('key').agg('max')['Время замера']\n",
    "final_temp = pd.DataFrame(final_temp)\n",
    "final_temp = final_temp.merge(df_temp, on='Время замера', how='left')\n",
    "final_temp.set_axis(['final_time', 'key', 'final_temp'], axis = 'columns', inplace = True)\n",
    "\n",
    "#combine the tables into a dataset\n",
    "df_final_temp = start_temp.merge(final_temp, on='key', how='left')\\\n",
    "                  .reindex(columns=['key', 'start_time', 'start_temp', 'final_time', 'final_temp'])\n",
    "\n",
    "#add a column with the duration of the batch\n",
    "df_final_temp['duration'] = ((df_final_temp['final_time'] - df_final_temp['start_time'])\n",
    "                             .dt.total_seconds().astype(int))\n",
    "\n",
    "# leave only the required columns\n",
    "df_final_temp = df_final_temp[['key', 'start_temp', 'final_temp', 'duration']]\n",
    "\n",
    "df_final_temp"
   ]
  },
  {
   "cell_type": "code",
   "execution_count": 45,
   "id": "ee9ee3d8",
   "metadata": {},
   "outputs": [
    {
     "name": "stdout",
     "output_type": "stream",
     "text": [
      "Number of gaps in the dataset: 0\n"
     ]
    }
   ],
   "source": [
    "print('Number of gaps in the dataset:', df_final_temp.isna().sum().sum())"
   ]
  },
  {
   "cell_type": "markdown",
   "id": "4017fbda",
   "metadata": {},
   "source": [
    "Let's merge the data for the final dataset."
   ]
  },
  {
   "cell_type": "code",
   "execution_count": 46,
   "id": "956839ef",
   "metadata": {},
   "outputs": [
    {
     "data": {
      "text/html": [
       "<div>\n",
       "<style scoped>\n",
       "    .dataframe tbody tr th:only-of-type {\n",
       "        vertical-align: middle;\n",
       "    }\n",
       "\n",
       "    .dataframe tbody tr th {\n",
       "        vertical-align: top;\n",
       "    }\n",
       "\n",
       "    .dataframe thead th {\n",
       "        text-align: right;\n",
       "    }\n",
       "</style>\n",
       "<table border=\"1\" class=\"dataframe\">\n",
       "  <thead>\n",
       "    <tr style=\"text-align: right;\">\n",
       "      <th></th>\n",
       "      <th>key</th>\n",
       "      <th>start_temp</th>\n",
       "      <th>final_temp</th>\n",
       "      <th>duration</th>\n",
       "      <th>full_power</th>\n",
       "      <th>heating_time</th>\n",
       "      <th>gas</th>\n",
       "      <th>Bulk 1</th>\n",
       "      <th>Bulk 2</th>\n",
       "      <th>Bulk 3</th>\n",
       "      <th>...</th>\n",
       "      <th>Bulk 15</th>\n",
       "      <th>Wire 1</th>\n",
       "      <th>Wire 2</th>\n",
       "      <th>Wire 3</th>\n",
       "      <th>Wire 4</th>\n",
       "      <th>Wire 5</th>\n",
       "      <th>Wire 6</th>\n",
       "      <th>Wire 7</th>\n",
       "      <th>Wire 8</th>\n",
       "      <th>Wire 9</th>\n",
       "    </tr>\n",
       "  </thead>\n",
       "  <tbody>\n",
       "    <tr>\n",
       "      <th>700</th>\n",
       "      <td>769</td>\n",
       "      <td>1586.0</td>\n",
       "      <td>1595.0</td>\n",
       "      <td>2304</td>\n",
       "      <td>3.351600</td>\n",
       "      <td>728</td>\n",
       "      <td>5.548130</td>\n",
       "      <td>0.0</td>\n",
       "      <td>0.0</td>\n",
       "      <td>155.0</td>\n",
       "      <td>...</td>\n",
       "      <td>205.0</td>\n",
       "      <td>222.300003</td>\n",
       "      <td>0.090480</td>\n",
       "      <td>0.0</td>\n",
       "      <td>0.0</td>\n",
       "      <td>0.0</td>\n",
       "      <td>0.000000</td>\n",
       "      <td>0.0</td>\n",
       "      <td>0.0</td>\n",
       "      <td>0.0</td>\n",
       "    </tr>\n",
       "    <tr>\n",
       "      <th>2240</th>\n",
       "      <td>2420</td>\n",
       "      <td>1559.0</td>\n",
       "      <td>1580.0</td>\n",
       "      <td>1135</td>\n",
       "      <td>3.723962</td>\n",
       "      <td>808</td>\n",
       "      <td>2.188564</td>\n",
       "      <td>0.0</td>\n",
       "      <td>0.0</td>\n",
       "      <td>102.0</td>\n",
       "      <td>...</td>\n",
       "      <td>0.0</td>\n",
       "      <td>85.044960</td>\n",
       "      <td>60.078716</td>\n",
       "      <td>0.0</td>\n",
       "      <td>0.0</td>\n",
       "      <td>0.0</td>\n",
       "      <td>0.000000</td>\n",
       "      <td>0.0</td>\n",
       "      <td>0.0</td>\n",
       "      <td>0.0</td>\n",
       "    </tr>\n",
       "    <tr>\n",
       "      <th>111</th>\n",
       "      <td>132</td>\n",
       "      <td>1623.0</td>\n",
       "      <td>1609.0</td>\n",
       "      <td>934</td>\n",
       "      <td>1.780656</td>\n",
       "      <td>381</td>\n",
       "      <td>5.169614</td>\n",
       "      <td>0.0</td>\n",
       "      <td>0.0</td>\n",
       "      <td>0.0</td>\n",
       "      <td>...</td>\n",
       "      <td>0.0</td>\n",
       "      <td>0.000000</td>\n",
       "      <td>0.000000</td>\n",
       "      <td>0.0</td>\n",
       "      <td>0.0</td>\n",
       "      <td>0.0</td>\n",
       "      <td>28.108082</td>\n",
       "      <td>0.0</td>\n",
       "      <td>0.0</td>\n",
       "      <td>0.0</td>\n",
       "    </tr>\n",
       "    <tr>\n",
       "      <th>1313</th>\n",
       "      <td>1418</td>\n",
       "      <td>1561.0</td>\n",
       "      <td>1576.0</td>\n",
       "      <td>778</td>\n",
       "      <td>4.545594</td>\n",
       "      <td>795</td>\n",
       "      <td>14.182904</td>\n",
       "      <td>46.0</td>\n",
       "      <td>0.0</td>\n",
       "      <td>291.0</td>\n",
       "      <td>...</td>\n",
       "      <td>104.0</td>\n",
       "      <td>59.155198</td>\n",
       "      <td>40.112801</td>\n",
       "      <td>0.0</td>\n",
       "      <td>0.0</td>\n",
       "      <td>0.0</td>\n",
       "      <td>0.000000</td>\n",
       "      <td>0.0</td>\n",
       "      <td>0.0</td>\n",
       "      <td>0.0</td>\n",
       "    </tr>\n",
       "    <tr>\n",
       "      <th>1617</th>\n",
       "      <td>1739</td>\n",
       "      <td>1606.0</td>\n",
       "      <td>1592.0</td>\n",
       "      <td>1494</td>\n",
       "      <td>1.783217</td>\n",
       "      <td>348</td>\n",
       "      <td>14.960796</td>\n",
       "      <td>0.0</td>\n",
       "      <td>0.0</td>\n",
       "      <td>0.0</td>\n",
       "      <td>...</td>\n",
       "      <td>204.0</td>\n",
       "      <td>147.092408</td>\n",
       "      <td>0.000000</td>\n",
       "      <td>0.0</td>\n",
       "      <td>0.0</td>\n",
       "      <td>0.0</td>\n",
       "      <td>0.000000</td>\n",
       "      <td>0.0</td>\n",
       "      <td>0.0</td>\n",
       "      <td>0.0</td>\n",
       "    </tr>\n",
       "  </tbody>\n",
       "</table>\n",
       "<p>5 rows × 31 columns</p>\n",
       "</div>"
      ],
      "text/plain": [
       "       key  start_temp  final_temp  duration  full_power  heating_time  \\\n",
       "700    769      1586.0      1595.0      2304    3.351600           728   \n",
       "2240  2420      1559.0      1580.0      1135    3.723962           808   \n",
       "111    132      1623.0      1609.0       934    1.780656           381   \n",
       "1313  1418      1561.0      1576.0       778    4.545594           795   \n",
       "1617  1739      1606.0      1592.0      1494    1.783217           348   \n",
       "\n",
       "            gas  Bulk 1  Bulk 2  Bulk 3  ...  Bulk 15      Wire 1     Wire 2  \\\n",
       "700    5.548130     0.0     0.0   155.0  ...    205.0  222.300003   0.090480   \n",
       "2240   2.188564     0.0     0.0   102.0  ...      0.0   85.044960  60.078716   \n",
       "111    5.169614     0.0     0.0     0.0  ...      0.0    0.000000   0.000000   \n",
       "1313  14.182904    46.0     0.0   291.0  ...    104.0   59.155198  40.112801   \n",
       "1617  14.960796     0.0     0.0     0.0  ...    204.0  147.092408   0.000000   \n",
       "\n",
       "      Wire 3  Wire 4  Wire 5     Wire 6  Wire 7  Wire 8  Wire 9  \n",
       "700      0.0     0.0     0.0   0.000000     0.0     0.0     0.0  \n",
       "2240     0.0     0.0     0.0   0.000000     0.0     0.0     0.0  \n",
       "111      0.0     0.0     0.0  28.108082     0.0     0.0     0.0  \n",
       "1313     0.0     0.0     0.0   0.000000     0.0     0.0     0.0  \n",
       "1617     0.0     0.0     0.0   0.000000     0.0     0.0     0.0  \n",
       "\n",
       "[5 rows x 31 columns]"
      ]
     },
     "metadata": {},
     "output_type": "display_data"
    },
    {
     "name": "stdout",
     "output_type": "stream",
     "text": [
      "<class 'pandas.core.frame.DataFrame'>\n",
      "Int64Index: 2313 entries, 0 to 2312\n",
      "Data columns (total 31 columns):\n",
      " #   Column        Non-Null Count  Dtype  \n",
      "---  ------        --------------  -----  \n",
      " 0   key           2313 non-null   int64  \n",
      " 1   start_temp    2313 non-null   float64\n",
      " 2   final_temp    2313 non-null   float64\n",
      " 3   duration      2313 non-null   int32  \n",
      " 4   full_power    2313 non-null   float64\n",
      " 5   heating_time  2313 non-null   int32  \n",
      " 6   gas           2313 non-null   float64\n",
      " 7   Bulk 1        2313 non-null   float64\n",
      " 8   Bulk 2        2313 non-null   float64\n",
      " 9   Bulk 3        2313 non-null   float64\n",
      " 10  Bulk 4        2313 non-null   float64\n",
      " 11  Bulk 5        2313 non-null   float64\n",
      " 12  Bulk 6        2313 non-null   float64\n",
      " 13  Bulk 7        2313 non-null   float64\n",
      " 14  Bulk 8        2313 non-null   float64\n",
      " 15  Bulk 9        2313 non-null   float64\n",
      " 16  Bulk 10       2313 non-null   float64\n",
      " 17  Bulk 11       2313 non-null   float64\n",
      " 18  Bulk 12       2313 non-null   float64\n",
      " 19  Bulk 13       2313 non-null   float64\n",
      " 20  Bulk 14       2313 non-null   float64\n",
      " 21  Bulk 15       2313 non-null   float64\n",
      " 22  Wire 1        2313 non-null   float64\n",
      " 23  Wire 2        2313 non-null   float64\n",
      " 24  Wire 3        2313 non-null   float64\n",
      " 25  Wire 4        2313 non-null   float64\n",
      " 26  Wire 5        2313 non-null   float64\n",
      " 27  Wire 6        2313 non-null   float64\n",
      " 28  Wire 7        2313 non-null   float64\n",
      " 29  Wire 8        2313 non-null   float64\n",
      " 30  Wire 9        2313 non-null   float64\n",
      "dtypes: float64(28), int32(2), int64(1)\n",
      "memory usage: 560.2 KB\n"
     ]
    }
   ],
   "source": [
    "df_final = df_final_temp.merge(df_arc_final, on='key')\n",
    "df_final = df_final.merge(df_gas, on='key')\n",
    "df_final = df_final.merge(df_bulk, on='key')\n",
    "df_final = df_final.merge(df_wire, on='key')\n",
    "display(df_final.sample(5))\n",
    "df_final.info()"
   ]
  },
  {
   "cell_type": "markdown",
   "id": "007dc98e",
   "metadata": {},
   "source": [
    "We received the final dataset, consisting of 2313 rows and 31 columns. There are no passes."
   ]
  },
  {
   "cell_type": "markdown",
   "id": "75794c5a",
   "metadata": {},
   "source": [
    "Now let's check the correlation of features with each other, maybe some can be removed so that the model learns faster."
   ]
  },
  {
   "cell_type": "code",
   "execution_count": 47,
   "id": "389736ed",
   "metadata": {},
   "outputs": [
    {
     "data": {
      "image/png": "[encoded data removed]",
      "text/plain": [
       "<Figure size 1800x1800 with 2 Axes>"
      ]
     },
     "metadata": {
      "needs_background": "light"
     },
     "output_type": "display_data"
    }
   ],
   "source": [
    "plt.figure(figsize=(25,25))\n",
    "sns.heatmap(df_final.corr(), annot=True, cmap='RdYlGn', center=0, square=True)\n",
    "plt.show()"
   ]
  },
  {
   "cell_type": "markdown",
   "id": "0b1e75d1",
   "metadata": {},
   "source": [
    "We see that the `Wire 5` column has zero correlation everywhere. Let's see if it's empty at all."
   ]
  },
  {
   "cell_type": "code",
   "execution_count": 48,
   "id": "eec03b18",
   "metadata": {},
   "outputs": [
    {
     "data": {
      "text/html": [
       "<div>\n",
       "<style scoped>\n",
       "    .dataframe tbody tr th:only-of-type {\n",
       "        vertical-align: middle;\n",
       "    }\n",
       "\n",
       "    .dataframe tbody tr th {\n",
       "        vertical-align: top;\n",
       "    }\n",
       "\n",
       "    .dataframe thead th {\n",
       "        text-align: right;\n",
       "    }\n",
       "</style>\n",
       "<table border=\"1\" class=\"dataframe\">\n",
       "  <thead>\n",
       "    <tr style=\"text-align: right;\">\n",
       "      <th></th>\n",
       "      <th>key</th>\n",
       "      <th>start_temp</th>\n",
       "      <th>final_temp</th>\n",
       "      <th>duration</th>\n",
       "      <th>full_power</th>\n",
       "      <th>heating_time</th>\n",
       "      <th>gas</th>\n",
       "      <th>Bulk 1</th>\n",
       "      <th>Bulk 2</th>\n",
       "      <th>Bulk 3</th>\n",
       "      <th>...</th>\n",
       "      <th>Bulk 15</th>\n",
       "      <th>Wire 1</th>\n",
       "      <th>Wire 2</th>\n",
       "      <th>Wire 3</th>\n",
       "      <th>Wire 4</th>\n",
       "      <th>Wire 5</th>\n",
       "      <th>Wire 6</th>\n",
       "      <th>Wire 7</th>\n",
       "      <th>Wire 8</th>\n",
       "      <th>Wire 9</th>\n",
       "    </tr>\n",
       "  </thead>\n",
       "  <tbody>\n",
       "  </tbody>\n",
       "</table>\n",
       "<p>0 rows × 31 columns</p>\n",
       "</div>"
      ],
      "text/plain": [
       "Empty DataFrame\n",
       "Columns: [key, start_temp, final_temp, duration, full_power, heating_time, gas, Bulk 1, Bulk 2, Bulk 3, Bulk 4, Bulk 5, Bulk 6, Bulk 7, Bulk 8, Bulk 9, Bulk 10, Bulk 11, Bulk 12, Bulk 13, Bulk 14, Bulk 15, Wire 1, Wire 2, Wire 3, Wire 4, Wire 5, Wire 6, Wire 7, Wire 8, Wire 9]\n",
       "Index: []\n",
       "\n",
       "[0 rows x 31 columns]"
      ]
     },
     "execution_count": 48,
     "metadata": {},
     "output_type": "execute_result"
    }
   ],
   "source": [
    "df_final[df_final['Wire 5'] > 0]"
   ]
  },
  {
   "cell_type": "markdown",
   "id": "c9843cc9",
   "metadata": {},
   "source": [
    "The `Wire 5` column does not contain any value above zero, you can delete it. We also see a correlation of 0.97 between the `Bulk 9` and `Wire 8` columns, as well as a correlation of 0.98 between the `heating_time` and `full_power` columns. Therefore, the `Wire 8` and `heating_time` columns can also be removed."
   ]
  },
  {
   "cell_type": "code",
   "execution_count": 49,
   "id": "5b4d6524",
   "metadata": {},
   "outputs": [],
   "source": [
    "df_final = df_final.drop(['heating_time', 'Wire 5', 'Wire 8'], axis=1)"
   ]
  },
  {
   "cell_type": "markdown",
   "id": "0e2247f8",
   "metadata": {},
   "source": [
    "Our dataset is ready for model training."
   ]
  },
  {
   "cell_type": "markdown",
   "id": "cdcb249e",
   "metadata": {},
   "source": [
    "### Section Conclusion:\n",
    "1. Columns with `total power` and `heating duration` have been added to the df_arc dataset.\n",
    "2. In the df_bulk and df_wire datasets, all gaps were replaced with zeros, because omission means that these additives were not used at a particular stage of heating.\n",
    "3. In the df_gas dataset, outliers with a value greater than 34 have been removed.\n",
    "4. In the df_temp dataset, outliers below 1300 degrees were removed, because is the minimum melting point of steel. Keys with only one measurement time were also filtered out. Also, the initial and final temperature of the alloy in one batch was determined, where the final temperature will be the target feature.\n",
    "5. All processed datasets were merged into one df_final dataset by the `key` key. It turned out 2313 rows and 30 columns.\n",
    "6. For the final dataset, a heatmap with feature correlation was built. As a result, the `Wire 5` column was removed from the dataset, because it turned out to be empty without a single value, the `Wire 8` column, because it had a correlation with the `Bulk 9` column of 0.97 and the `heating_time` column, as it had a correlation from the `full_power` columns of 0.98."
   ]
  },
  {
   "cell_type": "markdown",
   "id": "d45cfa31",
   "metadata": {},
   "source": [
    "## Model Training"
   ]
  },
  {
   "cell_type": "markdown",
   "id": "55da8cf5",
   "metadata": {},
   "source": [
    "We will train 4 models: linear regression, random forest, Catboost and LightGBM."
   ]
  },
  {
   "cell_type": "code",
   "execution_count": 50,
   "id": "d8bcbb6f",
   "metadata": {},
   "outputs": [
    {
     "name": "stdout",
     "output_type": "stream",
     "text": [
      "Dataset size with features: (2313, 26)\n",
      "Dataset size with target feature: (2313,)\n"
     ]
    }
   ],
   "source": [
    "#separate signs\n",
    "features = df_final.drop(['key', 'final_temp'], axis=1)\n",
    "target = df_final['final_temp']\n",
    "\n",
    "print('Dataset size with features:', features.shape)\n",
    "print('Dataset size with target feature:', target.shape)"
   ]
  },
  {
   "cell_type": "code",
   "execution_count": 51,
   "id": "92cbc721",
   "metadata": {},
   "outputs": [
    {
     "name": "stdout",
     "output_type": "stream",
     "text": [
      "Training sample size: 1734\n",
      "Test sample size: 579\n"
     ]
    }
   ],
   "source": [
    "#select the training and test sets in a ratio of 3:1\n",
    "features_train, features_test, target_train, target_test = train_test_split(\n",
    "    features, target, test_size=0.25, random_state=20220809)\n",
    "print('Training sample size:', len(target_train))\n",
    "print('Test sample size:', len(target_test))"
   ]
  },
  {
   "cell_type": "markdown",
   "id": "59c815fd",
   "metadata": {},
   "source": [
    "### Linear regression"
   ]
  },
  {
   "cell_type": "markdown",
   "id": "324fe3c2",
   "metadata": {},
   "source": [
    "First, we will train linear regression."
   ]
  },
  {
   "cell_type": "code",
   "execution_count": 52,
   "id": "857038bd",
   "metadata": {},
   "outputs": [
    {
     "name": "stdout",
     "output_type": "stream",
     "text": [
      "MAE of linear regression on the training set: 5.891506941288741\n"
     ]
    }
   ],
   "source": [
    "linear_model = LinearRegression(n_jobs=-1)\n",
    "linear_model.fit(features_train, target_train)\n",
    "linear_score = cross_val_score(linear_model, features_train, target_train,\n",
    "                               cv=5, scoring='neg_mean_absolute_error').mean()\n",
    " \n",
    "print('MAE of linear regression on the training set:', abs(linear_score))"
   ]
  },
  {
   "cell_type": "markdown",
   "id": "18ae6d4a",
   "metadata": {},
   "source": [
    "With cross-validation, already on linear regression, we got an excellent result MAE 5.89."
   ]
  },
  {
   "cell_type": "markdown",
   "id": "358779ae",
   "metadata": {},
   "source": [
    "### Random forest"
   ]
  },
  {
   "cell_type": "code",
   "execution_count": 53,
   "id": "c12966e8",
   "metadata": {},
   "outputs": [
    {
     "name": "stdout",
     "output_type": "stream",
     "text": [
      "Best Random Forest Options: {'max_depth': 25, 'n_estimators': 400}\n",
      "MAE of the random forest on the training set: 5.921362280958269\n",
      "CPU times: total: 19.8 s\n",
      "Wall time: 6min 38s\n"
     ]
    }
   ],
   "source": [
    "%%time\n",
    "\n",
    "forest_model = RandomForestRegressor(random_state=20220809)\n",
    "forest_params = {'n_estimators':range(50, 500, 50), 'max_depth':range(10, 50, 5)}\n",
    "forest_grid = GridSearchCV(forest_model, forest_params, cv=5, scoring='neg_mean_absolute_error', n_jobs=-1)\n",
    "forest_grid.fit(features_train, target_train)\n",
    "forest_score = cross_val_score(forest_grid, features_train, target_train,\n",
    "                               cv=5, scoring='neg_mean_absolute_error').mean()\n",
    "\n",
    "print('Best Random Forest Options:', forest_grid.best_params_)\n",
    "print('MAE of the random forest on the training set:', abs(forest_score))"
   ]
  },
  {
   "cell_type": "markdown",
   "id": "76e9ea65",
   "metadata": {},
   "source": [
    "Random forest has a slightly worse MAE metric than linear regression and is equal to 5.92."
   ]
  },
  {
   "cell_type": "markdown",
   "id": "e28e1a8b",
   "metadata": {},
   "source": [
    "### Catboost"
   ]
  },
  {
   "cell_type": "code",
   "execution_count": 54,
   "id": "8433a699",
   "metadata": {},
   "outputs": [
    {
     "name": "stdout",
     "output_type": "stream",
     "text": [
      "Best Catboost Options: {'depth': 7, 'learning_rate': 0.1}\n",
      "MAE Catboost on training set: 5.771511321025834\n",
      "CPU times: total: 12.5 s\n",
      "Wall time: 15min 6s\n"
     ]
    }
   ],
   "source": [
    "%%time\n",
    "\n",
    "cat_model = CatBoostRegressor(iterations=100, verbose=False, random_state=20220809)\n",
    "cat_params = {'learning_rate':[0.01, 0.05, 0.1], 'depth':range(5, 15, 2)}\n",
    "cat_grid = GridSearchCV(cat_model, cat_params, cv=5, scoring='neg_mean_absolute_error', n_jobs=-1)\n",
    "cat_grid.fit(features_train, target_train)\n",
    "cat_score = cross_val_score(cat_grid, features_train, target_train,\n",
    "                               cv=5, scoring='neg_mean_absolute_error').mean()\n",
    "\n",
    "print('Best Catboost Options:', cat_grid.best_params_)\n",
    "print('MAE Catboost on training set:', abs(cat_score))"
   ]
  },
  {
   "cell_type": "markdown",
   "id": "9601bd6f",
   "metadata": {},
   "source": [
    "Catboost showed the result even better than the previous models - 5.77."
   ]
  },
  {
   "cell_type": "markdown",
   "id": "0acfd795",
   "metadata": {},
   "source": [
    "### LightGBM"
   ]
  },
  {
   "cell_type": "code",
   "execution_count": 55,
   "id": "31f23eb8",
   "metadata": {},
   "outputs": [
    {
     "name": "stdout",
     "output_type": "stream",
     "text": [
      "Best LightGBM Options: {'n_estimators': 100, 'num_leaves': 18}\n",
      "MAE LightGBM on the training set: 5.747921134654371\n",
      "CPU times: total: 8 s\n",
      "Wall time: 19.6 s\n"
     ]
    }
   ],
   "source": [
    "%%time\n",
    "\n",
    "gbm_model = LGBMRegressor(random_state=20220809)\n",
    "gbm_params = {'n_estimators':range(50, 500, 50), 'num_leaves':range(10, 20, 2)}\n",
    "gbm_grid = GridSearchCV(gbm_model, gbm_params, cv=5, scoring='neg_mean_absolute_error', n_jobs=-1)\n",
    "gbm_grid.fit(features_train, target_train)\n",
    "gbm_score = cross_val_score(gbm_grid, features_train, target_train,\n",
    "                               cv=5, scoring='neg_mean_absolute_error').mean()\n",
    "\n",
    "print('Best LightGBM Options:', gbm_grid.best_params_)\n",
    "print('MAE LightGBM on the training set:', abs(gbm_score))"
   ]
  },
  {
   "cell_type": "markdown",
   "id": "af2489fd",
   "metadata": {},
   "source": [
    "LightGBM showed the best MAE result among the four models - 5.74, while it is also faster than Catboost and random forest.\n",
    "\n",
    "To check on the test sample, let's focus on LightGBM."
   ]
  },
  {
   "cell_type": "markdown",
   "id": "49ca3f1b",
   "metadata": {},
   "source": [
    "Let's create a pivot table with the results of the models."
   ]
  },
  {
   "cell_type": "code",
   "execution_count": 56,
   "id": "1c415e00",
   "metadata": {},
   "outputs": [
    {
     "data": {
      "text/html": [
       "<div>\n",
       "<style scoped>\n",
       "    .dataframe tbody tr th:only-of-type {\n",
       "        vertical-align: middle;\n",
       "    }\n",
       "\n",
       "    .dataframe tbody tr th {\n",
       "        vertical-align: top;\n",
       "    }\n",
       "\n",
       "    .dataframe thead th {\n",
       "        text-align: right;\n",
       "    }\n",
       "</style>\n",
       "<table border=\"1\" class=\"dataframe\">\n",
       "  <thead>\n",
       "    <tr style=\"text-align: right;\">\n",
       "      <th></th>\n",
       "      <th>Model</th>\n",
       "      <th>MAE</th>\n",
       "    </tr>\n",
       "  </thead>\n",
       "  <tbody>\n",
       "    <tr>\n",
       "      <th>0</th>\n",
       "      <td>Linear Regression</td>\n",
       "      <td>5.89</td>\n",
       "    </tr>\n",
       "    <tr>\n",
       "      <th>1</th>\n",
       "      <td>RandomForest</td>\n",
       "      <td>5.92</td>\n",
       "    </tr>\n",
       "    <tr>\n",
       "      <th>2</th>\n",
       "      <td>CatBoost</td>\n",
       "      <td>5.77</td>\n",
       "    </tr>\n",
       "    <tr>\n",
       "      <th>3</th>\n",
       "      <td>LightGBM</td>\n",
       "      <td>5.74</td>\n",
       "    </tr>\n",
       "  </tbody>\n",
       "</table>\n",
       "</div>"
      ],
      "text/plain": [
       "               Model   MAE\n",
       "0  Linear Regression  5.89\n",
       "1       RandomForest  5.92\n",
       "2           CatBoost  5.77\n",
       "3           LightGBM  5.74"
      ]
     },
     "metadata": {},
     "output_type": "display_data"
    }
   ],
   "source": [
    "data={'Model': ['Linear Regression', 'RandomForest', 'CatBoost', 'LightGBM'],\n",
    "      'MAE': [5.89, 5.92, 5.77, 5.74]}\n",
    "data_pivot=pd.DataFrame.from_dict(data)\n",
    "display(data_pivot)"
   ]
  },
  {
   "cell_type": "markdown",
   "id": "4b116533",
   "metadata": {},
   "source": [
    "### Model testing"
   ]
  },
  {
   "cell_type": "code",
   "execution_count": 57,
   "id": "11ea4f1a",
   "metadata": {},
   "outputs": [
    {
     "name": "stdout",
     "output_type": "stream",
     "text": [
      "MAE LightGBM on the test set is: 5.532867650633162\n"
     ]
    }
   ],
   "source": [
    "gbm_test_model = gbm_grid.best_estimator_\n",
    "gbm_test_model.fit(features_train, target_train)\n",
    "gbm_predictions = gbm_test_model.predict(features_test)\n",
    "print('MAE LightGBM on the test set is:', mae(target_test, gbm_predictions))"
   ]
  },
  {
   "cell_type": "markdown",
   "id": "5f750238",
   "metadata": {},
   "source": [
    "We got an excellent MAE result on the test sample equal to 5.53. To check the adequacy of the model, we compare the result with the Dummy model."
   ]
  },
  {
   "cell_type": "code",
   "execution_count": 58,
   "id": "e39f60be",
   "metadata": {},
   "outputs": [
    {
     "name": "stdout",
     "output_type": "stream",
     "text": [
      "The MAE Dummy of the model on the test set is: 7.74702137280799\n"
     ]
    }
   ],
   "source": [
    "dummy = DummyRegressor(strategy=\"mean\")\n",
    "dummy.fit(features_train, target_train)\n",
    "dummy_predictions = dummy.predict(features_test)\n",
    "print('The MAE Dummy of the model on the test set is:', mae(target_test, dummy_predictions))"
   ]
  },
  {
   "cell_type": "markdown",
   "id": "5b6a0c0a",
   "metadata": {},
   "source": [
    "The dummy model demonstrated MAE at 7.74. The result is worse than all our models."
   ]
  },
  {
   "cell_type": "markdown",
   "id": "6105c284",
   "metadata": {},
   "source": [
    "Let's look at the feature importance histogram."
   ]
  },
  {
   "cell_type": "code",
   "execution_count": 59,
   "id": "fd9f7b23",
   "metadata": {},
   "outputs": [
    {
     "data": {
      "image/png": "[encoded data removed]",
      "text/plain": [
       "<Figure size 1080x360 with 1 Axes>"
      ]
     },
     "metadata": {
      "needs_background": "light"
     },
     "output_type": "display_data"
    }
   ],
   "source": [
    "importances = pd.Series(gbm_test_model.feature_importances_, index=features_train.columns)\n",
    "\n",
    "plt.figure(figsize=(15,5))\n",
    "importances.plot.bar()\n",
    "plt.show()"
   ]
  },
  {
   "cell_type": "markdown",
   "id": "6a8c46ce",
   "metadata": {},
   "source": [
    "The most important features during training turned out to be: `start_temp`, `duration` and `full_power`, which were prepared and highlighted by us ourselves."
   ]
  },
  {
   "cell_type": "markdown",
   "id": "80c690f2",
   "metadata": {},
   "source": [
    "### Section Conclusion:"
   ]
  },
  {
   "cell_type": "markdown",
   "id": "cc6d9932",
   "metadata": {},
   "source": [
    "1. 4 models were trained: Linear Regression, Catboost Random Forest and LightGBM. The best MAE metric was achieved by LightGBM at 5.74, followed by Catboost at 5.77. As a result, it was decided to test LightGBM on a test sample.\n",
    "2. On the test sample, LightGBM achieved an excellent MAE result of 5.53.\n",
    "3. Based on the histogram of the importance of features, the most important features during training turned out to be: start_temp, duration and full_power, which were prepared and selected by us independently."
   ]
  },
  {
   "cell_type": "markdown",
   "id": "078c9619",
   "metadata": {},
   "source": [
    "## General Conclusion:"
   ]
  },
  {
   "cell_type": "markdown",
   "id": "9f9c7b82",
   "metadata": {},
   "source": [
    "1. ***7 datasets were uploaded and studied:***\n",
    "    - `data_arc` - data about electrodes;\n",
    "    - `data_bulk` - data on the supply of bulk materials (volume);\n",
    "    - `data_bulk_time` - data on the supply of bulk materials (time);\n",
    "    - `data_gas` — data on alloy gas purge;\n",
    "    - `data_temp` - temperature measurement results;\n",
    "    - `data_wire` - data on wire materials (volume);\n",
    "    - `data_wire_time` - wire materials data (time).\n",
    "\n",
    "The `data_arc` dataset has 5 columns and 14,876 rows. There are no gaps or duplicates. The columns \"Start of arc heating\" and \"End of arc heating\" have been converted to the datetime type. An outlier equal to -715.504924 was found in the `reactive power` column and was removed. The distribution in the dataset is generally normal, skewed to the right.<br>\n",
    "The `data_bulk` and `data_bulk_time` datasets have 3129 rows and 16 columns. There are no duplicates. There are a lot of gaps in the data, because these impurities were not added to every alloy and not every time, but only if necessary to change the composition.<br>\n",
    "Datasets `data_wire` and `data_wire_time` have 3081 rows and 10 columns. There are no duplicates. Here we see exactly the same picture as in the previous `bulk` datasets: a lot of gaps for the same reason.<br>\n",
    "The `data_gas` dataset has 3239 rows and only 2 columns. There are no gaps or duplicates. All values ​​above 34 were determined to be outliers.\n",
    "The `data_temp` dataset has 15,907 rows and 3 columns. There are 2,906 gaps in the Temperature column. There are no duplicates. The column \"Sampling time\" has been converted to datetime type. Outliers were found in the dataset. The distribution is absolutely normal.\n",
    "\n",
    "2. ***When preprocessing data:***\n",
    "    1. Columns with `total power` and `heating time` have been added to the df_arc dataset.\n",
    "    2. In the df_bulk and df_wire datasets, all gaps were replaced with zeros, because omission means that these additives were not used at a particular stage of heating.\n",
    "    3. In the df_gas dataset, outliers with a value greater than 34 have been removed.\n",
    "    4. In the df_temp dataset, outliers below 1300 degrees were removed, because is the minimum melting point of steel. Keys with only one sampling time were also filtered out. The initial and final temperature of the alloy in one batch was determined, where the final temperature will be the target feature.\n",
    "    5. All processed datasets were combined into one dataset `df_final` by the key `key`. It turned out 2313 rows and 31 columns.\n",
    "    6. Datasets `data_bulk_time` and `data_wire_time` were not used in the formation of the final dataset.\n",
    "    7. For the final dataset, a heatmap with feature correlation was built. As a result, the `Wire 5` column was removed from the dataset, because it turned out to be empty without a single value, the `Wire 8` column, because it had a correlation with the `Bulk 9` column of 0.97 and the `heating_time` column, as it had a correlation from the `full_power` columns of 0.98.\n",
    "    \n",
    "3. ***Model training:***\n",
    "    1. 4 models were trained: Linear Regression, Catboost Random Forest and LightGBM. The best MAE metric was achieved by LightGBM at 5.74, followed by Catboost at 5.77. As a result, it was decided to test LightGBM on a test sample.\n",
    "    2. **LightGBM achieved an excellent MAE score of 5.53 on the test set.**\n",
    "    3. Based on the histogram of the importance of features, the most important features during training turned out to be: start_temp, duration and full_power, which were prepared and selected by us independently.\n",
    "\n",
    "4. ***Recommendations for the customer to save energy resources:***\n",
    "    1. Judging by the model, the most important factor is the initial temperature. This means that by managing it, we will be able to manage energy costs. Now we need to develop measures for this solution. And here the question arises: is it possible to control the initial temperature and what needs to be done for this?\n",
    "    2. We have a variation in measurements. Then the problem can be formulated as follows: it is necessary to reduce the spread in measurements, and in this case in temperature. One of the approaches is this: there are certainly boundaries within which temperature fluctuations are normal. I propose to fix cases when the temperature goes beyond these limits, say, mark it as \"1\". And then for such moments of time to collect information on production: what was the material (chemistry of the material), what was the gas (chemical composition of the gas), which team worked, what happened with the electrodes, and other points related to the knowledge of the process production. And here we can find real reasons (through correlations, hypothesis testing, different models), fix these reasons and, based on this, develop more effective energy-saving measures."
   ]
  },
  {
   "cell_type": "code",
   "execution_count": null,
   "id": "0a317099",
   "metadata": {},
   "outputs": [],
   "source": []
  }
 ],
 "metadata": {
  "ExecuteTimeLog": [
   {
    "duration": 1271,
    "start_time": "2022-08-10T05:09:27.484Z"
   },
   {
    "duration": 450,
    "start_time": "2022-08-10T05:09:32.156Z"
   },
   {
    "duration": 186,
    "start_time": "2022-08-10T05:09:47.537Z"
   },
   {
    "duration": 1241,
    "start_time": "2022-08-10T07:26:10.326Z"
   },
   {
    "duration": 32,
    "start_time": "2022-08-10T07:26:11.569Z"
   },
   {
    "duration": 519,
    "start_time": "2022-08-10T07:26:11.602Z"
   },
   {
    "duration": 13,
    "start_time": "2022-08-10T07:26:12.122Z"
   },
   {
    "duration": 11,
    "start_time": "2022-08-10T07:26:12.137Z"
   },
   {
    "duration": 14,
    "start_time": "2022-08-10T07:26:12.149Z"
   },
   {
    "duration": 15,
    "start_time": "2022-08-10T07:26:12.164Z"
   },
   {
    "duration": 19,
    "start_time": "2022-08-10T07:26:12.181Z"
   },
   {
    "duration": 111,
    "start_time": "2022-08-10T07:26:12.202Z"
   },
   {
    "duration": 9,
    "start_time": "2022-08-10T07:26:12.314Z"
   },
   {
    "duration": 20,
    "start_time": "2022-08-10T07:26:12.325Z"
   },
   {
    "duration": 10112,
    "start_time": "2022-08-13T05:58:28.139Z"
   },
   {
    "duration": 1112,
    "start_time": "2022-08-13T05:58:43.538Z"
   },
   {
    "duration": 108,
    "start_time": "2022-08-13T05:58:51.941Z"
   },
   {
    "duration": 81,
    "start_time": "2022-08-13T05:58:52.073Z"
   },
   {
    "duration": 102,
    "start_time": "2022-08-13T05:58:52.538Z"
   },
   {
    "duration": 102,
    "start_time": "2022-08-13T05:58:52.641Z"
   },
   {
    "duration": 199,
    "start_time": "2022-08-13T05:58:52.839Z"
   },
   {
    "duration": 902,
    "start_time": "2022-08-13T05:58:53.838Z"
   },
   {
    "duration": 102,
    "start_time": "2022-08-13T05:58:54.742Z"
   },
   {
    "duration": 194,
    "start_time": "2022-08-13T05:58:54.846Z"
   },
   {
    "duration": 4,
    "start_time": "2022-08-13T05:58:55.042Z"
   },
   {
    "duration": 6008,
    "start_time": "2022-08-13T05:58:55.048Z"
   },
   {
    "duration": 281,
    "start_time": "2022-08-13T05:59:01.058Z"
   },
   {
    "duration": 114,
    "start_time": "2022-08-13T05:59:01.341Z"
   },
   {
    "duration": 12,
    "start_time": "2022-08-13T05:59:01.539Z"
   },
   {
    "duration": 203,
    "start_time": "2022-08-13T05:59:01.640Z"
   },
   {
    "duration": 195,
    "start_time": "2022-08-13T05:59:01.845Z"
   },
   {
    "duration": 10,
    "start_time": "2022-08-13T05:59:02.041Z"
   },
   {
    "duration": 286,
    "start_time": "2022-08-13T05:59:02.151Z"
   },
   {
    "duration": 113,
    "start_time": "2022-08-13T05:59:02.442Z"
   },
   {
    "duration": 195,
    "start_time": "2022-08-13T05:59:02.645Z"
   },
   {
    "duration": 200,
    "start_time": "2022-08-13T05:59:02.841Z"
   },
   {
    "duration": 197,
    "start_time": "2022-08-13T05:59:03.042Z"
   },
   {
    "duration": 97,
    "start_time": "2022-08-13T05:59:03.240Z"
   },
   {
    "duration": 207,
    "start_time": "2022-08-13T05:59:03.339Z"
   },
   {
    "duration": 291,
    "start_time": "2022-08-13T05:59:03.549Z"
   },
   {
    "duration": 401,
    "start_time": "2022-08-13T05:59:03.842Z"
   },
   {
    "duration": 397,
    "start_time": "2022-08-13T05:59:04.245Z"
   },
   {
    "duration": 806,
    "start_time": "2022-08-13T05:59:04.644Z"
   },
   {
    "duration": 2306,
    "start_time": "2022-08-13T05:59:05.639Z"
   },
   {
    "duration": 95,
    "start_time": "2022-08-13T05:59:07.948Z"
   },
   {
    "duration": 296,
    "start_time": "2022-08-13T05:59:08.045Z"
   },
   {
    "duration": 92,
    "start_time": "2022-08-13T05:59:08.347Z"
   },
   {
    "duration": 295,
    "start_time": "2022-08-13T05:59:08.442Z"
   },
   {
    "duration": 213,
    "start_time": "2022-08-13T05:59:08.739Z"
   },
   {
    "duration": 788,
    "start_time": "2022-08-13T05:59:08.954Z"
   },
   {
    "duration": 4696,
    "start_time": "2022-08-13T05:59:09.744Z"
   },
   {
    "duration": 105,
    "start_time": "2022-08-13T06:03:35.939Z"
   },
   {
    "duration": 304,
    "start_time": "2022-08-13T06:03:43.339Z"
   },
   {
    "duration": 6,
    "start_time": "2022-08-13T06:03:47.238Z"
   },
   {
    "duration": 103,
    "start_time": "2022-08-13T06:03:48.039Z"
   }
  ],
  "kernelspec": {
   "display_name": "Python 3 (ipykernel)",
   "language": "python",
   "name": "python3"
  },
  "language_info": {
   "codemirror_mode": {
    "name": "ipython",
    "version": 3
   },
   "file_extension": ".py",
   "mimetype": "text/x-python",
   "name": "python",
   "nbconvert_exporter": "python",
   "pygments_lexer": "ipython3",
   "version": "3.9.12"
  },
  "toc": {
   "base_numbering": 1,
   "nav_menu": {},
   "number_sections": true,
   "sideBar": true,
   "skip_h1_title": true,
   "title_cell": "Table of Contents",
   "title_sidebar": "Contents",
   "toc_cell": false,
   "toc_position": {},
   "toc_section_display": true,
   "toc_window_display": false
  }
 },
 "nbformat": 4,
 "nbformat_minor": 5
}
