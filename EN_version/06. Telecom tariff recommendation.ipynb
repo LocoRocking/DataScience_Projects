{
 "cells": [
  {
   "cell_type": "markdown",
   "metadata": {},
   "source": [
    "# Рекомендация тарифов"
   ]
  },
  {
   "cell_type": "markdown",
   "metadata": {},
   "source": [
    "В вашем распоряжении данные о поведении клиентов, которые уже перешли на эти тарифы (из проекта курса «Статистический анализ данных»). Нужно построить модель для задачи классификации, которая выберет подходящий тариф. Предобработка данных не понадобится — вы её уже сделали.\n",
    "\n",
    "Постройте модель с максимально большим значением *accuracy*. Чтобы сдать проект успешно, нужно довести долю правильных ответов по крайней мере до 0.75. Проверьте *accuracy* на тестовой выборке самостоятельно."
   ]
  },
  {
   "cell_type": "markdown",
   "metadata": {},
   "source": [
    "## Откройте и изучите файл"
   ]
  },
  {
   "cell_type": "code",
   "execution_count": 1,
   "metadata": {},
   "outputs": [],
   "source": [
    "import pandas as pd\n",
    "from sklearn.tree import DecisionTreeClassifier\n",
    "from sklearn.ensemble import RandomForestClassifier\n",
    "from sklearn.linear_model import LogisticRegression\n",
    "from sklearn.model_selection import train_test_split\n",
    "from sklearn.metrics import accuracy_score\n",
    "from sklearn.metrics import classification_report\n",
    "from sklearn.dummy import DummyClassifier\n",
    "import warnings\n",
    "warnings.filterwarnings('ignore')"
   ]
  },
  {
   "cell_type": "markdown",
   "metadata": {},
   "source": [
    "Прочитаем файл и сохраним в датасет `df`."
   ]
  },
  {
   "cell_type": "code",
   "execution_count": 2,
   "metadata": {},
   "outputs": [],
   "source": [
    "df = pd.read_csv('/datasets/users_behavior.csv')"
   ]
  },
  {
   "cell_type": "code",
   "execution_count": 3,
   "metadata": {},
   "outputs": [
    {
     "name": "stdout",
     "output_type": "stream",
     "text": [
      "<class 'pandas.core.frame.DataFrame'>\n",
      "RangeIndex: 3214 entries, 0 to 3213\n",
      "Data columns (total 5 columns):\n",
      "calls       3214 non-null float64\n",
      "minutes     3214 non-null float64\n",
      "messages    3214 non-null float64\n",
      "mb_used     3214 non-null float64\n",
      "is_ultra    3214 non-null int64\n",
      "dtypes: float64(4), int64(1)\n",
      "memory usage: 125.7 KB\n"
     ]
    }
   ],
   "source": [
    "df.info()"
   ]
  },
  {
   "cell_type": "code",
   "execution_count": 4,
   "metadata": {},
   "outputs": [
    {
     "data": {
      "text/html": [
       "<div>\n",
       "<style scoped>\n",
       "    .dataframe tbody tr th:only-of-type {\n",
       "        vertical-align: middle;\n",
       "    }\n",
       "\n",
       "    .dataframe tbody tr th {\n",
       "        vertical-align: top;\n",
       "    }\n",
       "\n",
       "    .dataframe thead th {\n",
       "        text-align: right;\n",
       "    }\n",
       "</style>\n",
       "<table border=\"1\" class=\"dataframe\">\n",
       "  <thead>\n",
       "    <tr style=\"text-align: right;\">\n",
       "      <th></th>\n",
       "      <th>calls</th>\n",
       "      <th>minutes</th>\n",
       "      <th>messages</th>\n",
       "      <th>mb_used</th>\n",
       "      <th>is_ultra</th>\n",
       "    </tr>\n",
       "  </thead>\n",
       "  <tbody>\n",
       "    <tr>\n",
       "      <td>2583</td>\n",
       "      <td>41.0</td>\n",
       "      <td>250.28</td>\n",
       "      <td>6.0</td>\n",
       "      <td>14495.76</td>\n",
       "      <td>0</td>\n",
       "    </tr>\n",
       "    <tr>\n",
       "      <td>2531</td>\n",
       "      <td>124.0</td>\n",
       "      <td>786.97</td>\n",
       "      <td>73.0</td>\n",
       "      <td>27387.22</td>\n",
       "      <td>0</td>\n",
       "    </tr>\n",
       "    <tr>\n",
       "      <td>1116</td>\n",
       "      <td>101.0</td>\n",
       "      <td>694.20</td>\n",
       "      <td>41.0</td>\n",
       "      <td>9351.78</td>\n",
       "      <td>0</td>\n",
       "    </tr>\n",
       "    <tr>\n",
       "      <td>812</td>\n",
       "      <td>52.0</td>\n",
       "      <td>389.15</td>\n",
       "      <td>50.0</td>\n",
       "      <td>12774.10</td>\n",
       "      <td>0</td>\n",
       "    </tr>\n",
       "    <tr>\n",
       "      <td>2678</td>\n",
       "      <td>4.0</td>\n",
       "      <td>22.17</td>\n",
       "      <td>42.0</td>\n",
       "      <td>22635.73</td>\n",
       "      <td>0</td>\n",
       "    </tr>\n",
       "    <tr>\n",
       "      <td>126</td>\n",
       "      <td>129.0</td>\n",
       "      <td>848.86</td>\n",
       "      <td>0.0</td>\n",
       "      <td>13866.31</td>\n",
       "      <td>1</td>\n",
       "    </tr>\n",
       "    <tr>\n",
       "      <td>3010</td>\n",
       "      <td>66.0</td>\n",
       "      <td>522.07</td>\n",
       "      <td>13.0</td>\n",
       "      <td>21978.09</td>\n",
       "      <td>0</td>\n",
       "    </tr>\n",
       "    <tr>\n",
       "      <td>1325</td>\n",
       "      <td>96.0</td>\n",
       "      <td>612.26</td>\n",
       "      <td>0.0</td>\n",
       "      <td>17911.89</td>\n",
       "      <td>0</td>\n",
       "    </tr>\n",
       "    <tr>\n",
       "      <td>1781</td>\n",
       "      <td>36.0</td>\n",
       "      <td>285.92</td>\n",
       "      <td>109.0</td>\n",
       "      <td>19103.31</td>\n",
       "      <td>0</td>\n",
       "    </tr>\n",
       "    <tr>\n",
       "      <td>2608</td>\n",
       "      <td>68.0</td>\n",
       "      <td>391.55</td>\n",
       "      <td>31.0</td>\n",
       "      <td>24081.51</td>\n",
       "      <td>0</td>\n",
       "    </tr>\n",
       "  </tbody>\n",
       "</table>\n",
       "</div>"
      ],
      "text/plain": [
       "      calls  minutes  messages   mb_used  is_ultra\n",
       "2583   41.0   250.28       6.0  14495.76         0\n",
       "2531  124.0   786.97      73.0  27387.22         0\n",
       "1116  101.0   694.20      41.0   9351.78         0\n",
       "812    52.0   389.15      50.0  12774.10         0\n",
       "2678    4.0    22.17      42.0  22635.73         0\n",
       "126   129.0   848.86       0.0  13866.31         1\n",
       "3010   66.0   522.07      13.0  21978.09         0\n",
       "1325   96.0   612.26       0.0  17911.89         0\n",
       "1781   36.0   285.92     109.0  19103.31         0\n",
       "2608   68.0   391.55      31.0  24081.51         0"
      ]
     },
     "execution_count": 4,
     "metadata": {},
     "output_type": "execute_result"
    }
   ],
   "source": [
    "df.sample(10)"
   ]
  },
  {
   "cell_type": "markdown",
   "metadata": {},
   "source": [
    "В датасете 3214 строк и 5 столбцов:\n",
    "- `сalls` — количество звонков;\n",
    "- `minutes` — суммарная длительность звонков в минутах;\n",
    "- `messages` — количество sms-сообщений;\n",
    "- `mb_used` — израсходованный интернет-трафик в Мб;\n",
    "- `is_ultra` — каким тарифом пользовался в течение месяца («Ультра» — 1, «Смарт» — 0).\n",
    "\n",
    "Преодобработка данных не требуется, пропусков нет. Переходим к разбивке датасета на выборки."
   ]
  },
  {
   "cell_type": "markdown",
   "metadata": {},
   "source": [
    "## Разбейте данные на выборки"
   ]
  },
  {
   "cell_type": "markdown",
   "metadata": {},
   "source": [
    "Сначала разделим наш датасет на признаки (`calls`, `minutes`, `messages`, `mb_used`) и целевой признак (`is_ultra`)."
   ]
  },
  {
   "cell_type": "code",
   "execution_count": 5,
   "metadata": {},
   "outputs": [],
   "source": [
    "features = df.drop(['is_ultra'], axis=1)\n",
    "target = df['is_ultra']"
   ]
  },
  {
   "cell_type": "markdown",
   "metadata": {},
   "source": [
    "Теперь разделим наш датасет на обучающую, тестовую и валидационную выборки в соотношении 60:20:20.\n",
    "\n",
    "Сначала выделим обучающую и тестовую выборки в соотношении 80:20."
   ]
  },
  {
   "cell_type": "code",
   "execution_count": 6,
   "metadata": {},
   "outputs": [],
   "source": [
    "train_features, test_features, train_target, test_target = train_test_split(\n",
    "    features, target, test_size=0.2, random_state=12345)"
   ]
  },
  {
   "cell_type": "markdown",
   "metadata": {},
   "source": [
    "И выделим из полученной обучающей выборки еще 25 % для валидационной выборки. Такой процент используем, т.к. мы будем выделять валидационную выборку не из первоначального датасета, а из 80 % от него."
   ]
  },
  {
   "cell_type": "code",
   "execution_count": 7,
   "metadata": {},
   "outputs": [],
   "source": [
    "train_features, valid_features, train_target, valid_target = train_test_split(\n",
    "    train_features, train_target, test_size=0.25, random_state=12345)"
   ]
  },
  {
   "cell_type": "code",
   "execution_count": 8,
   "metadata": {},
   "outputs": [
    {
     "name": "stdout",
     "output_type": "stream",
     "text": [
      "Размер обучающей выборки: 1928\n",
      "Размер тестовой выборки: 643\n",
      "Размер валидационной выборки: 643\n"
     ]
    }
   ],
   "source": [
    "print('Размер обучающей выборки:', len(train_target))\n",
    "print('Размер тестовой выборки:', len(test_target))\n",
    "print('Размер валидационной выборки:', len(valid_target))"
   ]
  },
  {
   "cell_type": "markdown",
   "metadata": {},
   "source": [
    "Разделение датасета на 3 выборки прошло корректно. Приступаем к обучению моделей."
   ]
  },
  {
   "cell_type": "markdown",
   "metadata": {},
   "source": [
    "## Исследуйте модели"
   ]
  },
  {
   "cell_type": "markdown",
   "metadata": {},
   "source": [
    "Поскольку перед нами стоит задача классификации, мы исследуем три модели машинного обучения:\n",
    "- Дерево решений;\n",
    "- Случайный лес;\n",
    "- Логистическая регрессия."
   ]
  },
  {
   "cell_type": "markdown",
   "metadata": {},
   "source": [
    "### Дерево решений"
   ]
  },
  {
   "cell_type": "code",
   "execution_count": 9,
   "metadata": {},
   "outputs": [
    {
     "data": {
      "text/plain": [
       "0.7122861586314152"
      ]
     },
     "execution_count": 9,
     "metadata": {},
     "output_type": "execute_result"
    }
   ],
   "source": [
    "#Обучим модель со стандартными параметрами\n",
    "model = DecisionTreeClassifier(random_state=12345)\n",
    "model.fit(train_features, train_target)\n",
    "predictions = model.predict(valid_features)\n",
    "accuracy_score(valid_target, predictions)"
   ]
  },
  {
   "cell_type": "markdown",
   "metadata": {},
   "source": [
    "Доля правильных ответов составляет всего 0.71, что очень мало. Проверим качество модели путем изменения гиперпараметра глубины дерева - `maх_depth` и гиперпараметра минимального числа объектов в листе - `min_samples_leaf`. Идеальные значения `min_samples_leaf` имеют тенденцию находиться в диапазоне от 1 до 20 для алгоритма CART (classification and regression trees – это аббревиатура, обозначающая методы классификации и регрессии с использованием дерева решений). Также параметр `min_samples_leaf` является наиболее ответственным за производительность конечных деревьев."
   ]
  },
  {
   "cell_type": "code",
   "execution_count": 10,
   "metadata": {},
   "outputs": [
    {
     "name": "stdout",
     "output_type": "stream",
     "text": [
      "Лучший результат: 0.7916018662519441 с глубиной дерева 7 и с числом объектов в листе 19\n"
     ]
    }
   ],
   "source": [
    "best_tree = None\n",
    "best_result = 0\n",
    "for depth in range(1, 10):\n",
    "    for leaf in range(1, 20):\n",
    "        tree_model = DecisionTreeClassifier(random_state=12345, max_depth=depth, min_samples_leaf=leaf)\n",
    "        tree_model.fit(train_features, train_target)\n",
    "        tree_predictions = tree_model.predict(valid_features)\n",
    "        result = accuracy_score(valid_target, tree_predictions)\n",
    "        if result > best_result:\n",
    "            best_tree = tree_model\n",
    "            best_result = result\n",
    "            best_depth = depth\n",
    "            best_leaf = leaf\n",
    "print('Лучший результат:', best_result, 'с глубиной дерева', best_depth, 'и с числом объектов в листе', leaf)"
   ]
  },
  {
   "cell_type": "markdown",
   "metadata": {},
   "source": [
    "Получили результат с долей правильных ответов 0,79, при глубине дерева 7 и с 19 объектами в листе. Мы преодолели планку качества точности предсказания в 0,75 путем изменения гиперпараметров."
   ]
  },
  {
   "cell_type": "markdown",
   "metadata": {},
   "source": [
    "### Случайный лес"
   ]
  },
  {
   "cell_type": "markdown",
   "metadata": {},
   "source": [
    "Рассмотрим теперь другую модель - случайный лес. Сделаем цикл с перебором количества деревьев от 1 до 30, чтобы выбрать лучшие гиперпараметры."
   ]
  },
  {
   "cell_type": "code",
   "execution_count": 11,
   "metadata": {},
   "outputs": [
    {
     "name": "stdout",
     "output_type": "stream",
     "text": [
      "Лучший результат: 0.7931570762052877 с количеством деревьев 22\n"
     ]
    }
   ],
   "source": [
    "best_forest = None\n",
    "best_result = 0\n",
    "for est in range(1, 30):\n",
    "    forest_model = RandomForestClassifier(random_state=12345, n_estimators=est)\n",
    "    forest_model.fit(train_features, train_target)\n",
    "    result = forest_model.score(valid_features, valid_target)\n",
    "    if result > best_result:\n",
    "        best_forest = forest_model\n",
    "        best_result = result\n",
    "        best_est = est\n",
    "print('Лучший результат:', best_result, 'с количеством деревьев', best_est)"
   ]
  },
  {
   "cell_type": "markdown",
   "metadata": {},
   "source": [
    "Как видим, получили тот же результат точности предсказания 0,79, как и в случае с деревом решений. При этом случайный лес работает с более низкой скоростью, чем дерево решений, поэтому предпочтение пока отдаем первой модели."
   ]
  },
  {
   "cell_type": "markdown",
   "metadata": {},
   "source": [
    "### Логистическая регрессия"
   ]
  },
  {
   "cell_type": "markdown",
   "metadata": {},
   "source": [
    "И проверим точность нашей последней модели - логистическая регрессия. Это самая простая модель с малым количеством параметров и без склонности к переобучению."
   ]
  },
  {
   "cell_type": "code",
   "execution_count": 12,
   "metadata": {},
   "outputs": [
    {
     "name": "stdout",
     "output_type": "stream",
     "text": [
      "Точность логистической регрессии: 0.6967340590979783\n"
     ]
    }
   ],
   "source": [
    "reg_model = LogisticRegression(random_state=12345)\n",
    "reg_model.fit(train_features, train_target)\n",
    "result = reg_model.score(valid_features, valid_target)\n",
    "print('Точность логистической регрессии:', result)"
   ]
  },
  {
   "cell_type": "markdown",
   "metadata": {},
   "source": [
    "Качество предсказаний логистической регрессии составляет всего 0,69, что очень мало и не преодолевает минимальный порог в 0,75."
   ]
  },
  {
   "cell_type": "markdown",
   "metadata": {},
   "source": [
    "### Вывод по разделу"
   ]
  },
  {
   "cell_type": "markdown",
   "metadata": {},
   "source": [
    "Мы оценили качество трех обученных моделей на валидационной выборке и выяснили, что:\n",
    "1. Качество дерева решений составляет 0,79.\n",
    "2. Качество случайного леса также составляет 0,79.\n",
    "3. Качество логистической регрессии составило 0,69 и она не преодолела минимальный порог точности.\n",
    "4. У дерева решений и случайного леса одинаковый показатель качества, но при этом дерево решений работает быстрее, поэтому пока отдаем предпочтение данной модели."
   ]
  },
  {
   "cell_type": "markdown",
   "metadata": {},
   "source": [
    "## Проверьте модель на тестовой выборке"
   ]
  },
  {
   "cell_type": "markdown",
   "metadata": {},
   "source": [
    "Проверим качество всех трех моделей на тестовой выборке, может здесь результаты будут отличаться от валидационной выборки."
   ]
  },
  {
   "cell_type": "code",
   "execution_count": 13,
   "metadata": {},
   "outputs": [
    {
     "name": "stdout",
     "output_type": "stream",
     "text": [
      "Качество дерева решений на тестовой выборке: 0.7931570762052877\n",
      "Качество случайного леса на тестовой выборке: 0.7838258164852255\n",
      "Качество логистической регрессии на тестовой выборке: 0.702954898911353\n"
     ]
    }
   ],
   "source": [
    "#дерево решений\n",
    "print('Качество дерева решений на тестовой выборке:', best_tree.score(test_features, test_target))\n",
    "\n",
    "#случайный лес\n",
    "print('Качество случайного леса на тестовой выборке:', best_forest.score(test_features, test_target))\n",
    "\n",
    "#логистическая регрессия\n",
    "print('Качество логистической регрессии на тестовой выборке:', reg_model.score(test_features, test_target))"
   ]
  },
  {
   "cell_type": "markdown",
   "metadata": {},
   "source": [
    "<font size=\"5\"><b>Вывод:</b> </font>\n",
    "\n",
    "Итак, мы окончательно подтвердили предыдущие выводы и лучшей обученной моделью является <b>дерево решений с качеством предсказаний 0,79.</b>"
   ]
  },
  {
   "cell_type": "markdown",
   "metadata": {},
   "source": [
    "## (бонус) Проверьте модели на адекватность"
   ]
  },
  {
   "cell_type": "markdown",
   "metadata": {},
   "source": [
    "Для проверки модели на адекватность используем метод DummyClassifier.\n",
    "\n",
    "DummyClassifier - это классификатор,который делает прогнозы,используя простые правила.\n",
    "\n",
    "Стратегия использования для создания прогнозов:\n",
    "- «Стратифицированный»: генерирует прогнозы с учетом распределения классов обучающей выборки.\n",
    "- «Most_frequent»: всегда предсказывает наиболее частую метку в обучающем наборе.\n",
    "- «Prior»: всегда предсказывает класс, который максимизирует предыдущий класс (например, «most_frequent»), а predict_proba возвращает предыдущий класс.\n",
    "- «Uniform»: генерирует прогнозы равномерно в случайном порядке.\n",
    "- «Константа»: всегда предсказывает постоянную метку, предоставленную пользователем. Это полезно для показателей, которые оценивают класс, не являющийся большинством"
   ]
  },
  {
   "cell_type": "code",
   "execution_count": 15,
   "metadata": {},
   "outputs": [
    {
     "name": "stdout",
     "output_type": "stream",
     "text": [
      "Точность для стратегии most_frequent : 0.6951788491446346\n",
      "Точность для стратегии prior : 0.6951788491446346\n",
      "Точность для стратегии stratified : 0.5754276827371695\n",
      "Точность для стратегии uniform : 0.48989113530326595\n"
     ]
    }
   ],
   "source": [
    "strategy = ['most_frequent', 'prior', 'stratified', 'uniform']\n",
    "for index in strategy:\n",
    "    dummy_clf = DummyClassifier(strategy=index, random_state=12345)\n",
    "    dummy_clf.fit(train_features, train_target)\n",
    "    score = dummy_clf.score(test_features, test_target)\n",
    "    print('Точность для стратегии', index, ':', score)"
   ]
  },
  {
   "cell_type": "markdown",
   "metadata": {},
   "source": [
    "Как видим, при использовании самых простых способов обучения точность не достигает показателя нашего дерева решений, значит наша модель работает адекватно."
   ]
  }
 ],
 "metadata": {
  "ExecuteTimeLog": [
   {
    "duration": 878,
    "start_time": "2022-03-10T12:06:12.524Z"
   },
   {
    "duration": 23,
    "start_time": "2022-03-10T12:07:04.641Z"
   },
   {
    "duration": 21,
    "start_time": "2022-03-10T12:40:45.653Z"
   },
   {
    "duration": 15,
    "start_time": "2022-03-10T12:40:50.832Z"
   },
   {
    "duration": 11,
    "start_time": "2022-03-10T12:41:07.008Z"
   },
   {
    "duration": 16,
    "start_time": "2022-03-10T12:41:24.598Z"
   },
   {
    "duration": 5,
    "start_time": "2022-03-10T12:52:04.107Z"
   },
   {
    "duration": 482,
    "start_time": "2022-03-10T12:56:48.404Z"
   },
   {
    "duration": 1421,
    "start_time": "2022-03-10T12:57:00.742Z"
   },
   {
    "duration": 33,
    "start_time": "2022-03-10T12:57:02.166Z"
   },
   {
    "duration": 9,
    "start_time": "2022-03-10T12:57:02.202Z"
   },
   {
    "duration": 30,
    "start_time": "2022-03-10T12:57:02.214Z"
   },
   {
    "duration": 6,
    "start_time": "2022-03-10T12:57:02.247Z"
   },
   {
    "duration": 477,
    "start_time": "2022-03-10T12:57:02.257Z"
   },
   {
    "duration": 7,
    "start_time": "2022-03-10T12:57:43.245Z"
   },
   {
    "duration": 8,
    "start_time": "2022-03-10T13:00:08.488Z"
   },
   {
    "duration": 395,
    "start_time": "2022-03-10T13:01:04.670Z"
   },
   {
    "duration": 4,
    "start_time": "2022-03-10T13:01:09.772Z"
   },
   {
    "duration": 6,
    "start_time": "2022-03-10T13:02:12.198Z"
   },
   {
    "duration": 6,
    "start_time": "2022-03-10T13:03:00.314Z"
   },
   {
    "duration": 6,
    "start_time": "2022-03-10T13:03:20.076Z"
   },
   {
    "duration": 370,
    "start_time": "2022-03-10T13:12:26.696Z"
   },
   {
    "duration": 1442,
    "start_time": "2022-03-10T13:14:44.123Z"
   },
   {
    "duration": 22,
    "start_time": "2022-03-10T13:14:45.568Z"
   },
   {
    "duration": 9,
    "start_time": "2022-03-10T13:14:45.594Z"
   },
   {
    "duration": 38,
    "start_time": "2022-03-10T13:14:45.606Z"
   },
   {
    "duration": 4,
    "start_time": "2022-03-10T13:14:45.647Z"
   },
   {
    "duration": 9,
    "start_time": "2022-03-10T13:14:45.654Z"
   },
   {
    "duration": 10,
    "start_time": "2022-03-10T13:14:45.665Z"
   },
   {
    "duration": 526,
    "start_time": "2022-03-10T13:14:45.678Z"
   },
   {
    "duration": -895,
    "start_time": "2022-03-10T13:14:47.102Z"
   },
   {
    "duration": 21,
    "start_time": "2022-03-10T13:15:34.059Z"
   },
   {
    "duration": 1405,
    "start_time": "2022-03-10T13:15:41.545Z"
   },
   {
    "duration": 41,
    "start_time": "2022-03-10T13:15:42.953Z"
   },
   {
    "duration": 9,
    "start_time": "2022-03-10T13:15:42.997Z"
   },
   {
    "duration": 25,
    "start_time": "2022-03-10T13:15:43.009Z"
   },
   {
    "duration": 5,
    "start_time": "2022-03-10T13:15:43.037Z"
   },
   {
    "duration": 10,
    "start_time": "2022-03-10T13:15:43.044Z"
   },
   {
    "duration": 6,
    "start_time": "2022-03-10T13:15:43.056Z"
   },
   {
    "duration": 5,
    "start_time": "2022-03-10T13:15:43.065Z"
   },
   {
    "duration": 29,
    "start_time": "2022-03-10T13:15:43.072Z"
   },
   {
    "duration": 21,
    "start_time": "2022-03-10T13:15:51.603Z"
   },
   {
    "duration": 1295,
    "start_time": "2022-03-10T13:15:58.175Z"
   },
   {
    "duration": 26,
    "start_time": "2022-03-10T13:15:59.473Z"
   },
   {
    "duration": 9,
    "start_time": "2022-03-10T13:15:59.502Z"
   },
   {
    "duration": 38,
    "start_time": "2022-03-10T13:15:59.514Z"
   },
   {
    "duration": 5,
    "start_time": "2022-03-10T13:15:59.555Z"
   },
   {
    "duration": 11,
    "start_time": "2022-03-10T13:15:59.562Z"
   },
   {
    "duration": 7,
    "start_time": "2022-03-10T13:15:59.575Z"
   },
   {
    "duration": 6,
    "start_time": "2022-03-10T13:15:59.585Z"
   },
   {
    "duration": 55,
    "start_time": "2022-03-10T13:15:59.593Z"
   },
   {
    "duration": 595,
    "start_time": "2022-03-10T13:18:15.256Z"
   },
   {
    "duration": 20,
    "start_time": "2022-03-10T13:19:25.910Z"
   },
   {
    "duration": 22,
    "start_time": "2022-03-10T13:19:35.678Z"
   },
   {
    "duration": 21,
    "start_time": "2022-03-10T13:19:40.896Z"
   },
   {
    "duration": 22,
    "start_time": "2022-03-10T13:19:46.486Z"
   },
   {
    "duration": 20,
    "start_time": "2022-03-10T13:21:48.287Z"
   },
   {
    "duration": 32,
    "start_time": "2022-03-10T13:26:16.776Z"
   },
   {
    "duration": 36,
    "start_time": "2022-03-10T13:27:27.829Z"
   },
   {
    "duration": 36,
    "start_time": "2022-03-10T13:28:11.775Z"
   },
   {
    "duration": 64,
    "start_time": "2022-03-10T13:28:21.150Z"
   },
   {
    "duration": 71,
    "start_time": "2022-03-10T13:28:40.219Z"
   },
   {
    "duration": 34,
    "start_time": "2022-03-10T13:28:53.830Z"
   },
   {
    "duration": 72,
    "start_time": "2022-03-10T13:29:00.254Z"
   },
   {
    "duration": 376,
    "start_time": "2022-03-10T13:29:55.116Z"
   },
   {
    "duration": 69,
    "start_time": "2022-03-10T13:30:02.719Z"
   },
   {
    "duration": 69,
    "start_time": "2022-03-10T13:30:58.316Z"
   },
   {
    "duration": 46,
    "start_time": "2022-03-10T13:31:07.186Z"
   },
   {
    "duration": 409,
    "start_time": "2022-03-10T13:33:04.567Z"
   },
   {
    "duration": 1424,
    "start_time": "2022-03-10T13:33:11.665Z"
   },
   {
    "duration": 23,
    "start_time": "2022-03-10T13:33:13.092Z"
   },
   {
    "duration": 9,
    "start_time": "2022-03-10T13:33:13.119Z"
   },
   {
    "duration": 20,
    "start_time": "2022-03-10T13:33:13.133Z"
   },
   {
    "duration": 6,
    "start_time": "2022-03-10T13:33:13.155Z"
   },
   {
    "duration": 9,
    "start_time": "2022-03-10T13:33:13.165Z"
   },
   {
    "duration": 9,
    "start_time": "2022-03-10T13:33:13.177Z"
   },
   {
    "duration": 49,
    "start_time": "2022-03-10T13:33:13.189Z"
   },
   {
    "duration": 24,
    "start_time": "2022-03-10T13:33:13.243Z"
   },
   {
    "duration": 831,
    "start_time": "2022-03-10T13:33:13.270Z"
   },
   {
    "duration": 1380,
    "start_time": "2022-03-10T13:33:42.881Z"
   },
   {
    "duration": 23,
    "start_time": "2022-03-10T13:33:44.264Z"
   },
   {
    "duration": 9,
    "start_time": "2022-03-10T13:33:44.290Z"
   },
   {
    "duration": 33,
    "start_time": "2022-03-10T13:33:44.302Z"
   },
   {
    "duration": 6,
    "start_time": "2022-03-10T13:33:44.337Z"
   },
   {
    "duration": 10,
    "start_time": "2022-03-10T13:33:44.345Z"
   },
   {
    "duration": 7,
    "start_time": "2022-03-10T13:33:44.357Z"
   },
   {
    "duration": 6,
    "start_time": "2022-03-10T13:33:44.366Z"
   },
   {
    "duration": 58,
    "start_time": "2022-03-10T13:33:44.375Z"
   },
   {
    "duration": 743,
    "start_time": "2022-03-10T13:33:44.436Z"
   },
   {
    "duration": 634,
    "start_time": "2022-03-10T13:33:54.446Z"
   },
   {
    "duration": 680,
    "start_time": "2022-03-10T13:34:07.337Z"
   },
   {
    "duration": 825,
    "start_time": "2022-03-10T13:35:25.350Z"
   },
   {
    "duration": 340,
    "start_time": "2022-03-10T13:35:33.695Z"
   },
   {
    "duration": 316,
    "start_time": "2022-03-10T13:35:48.180Z"
   },
   {
    "duration": 989,
    "start_time": "2022-03-10T13:36:07.546Z"
   },
   {
    "duration": 1139,
    "start_time": "2022-03-10T13:36:12.181Z"
   },
   {
    "duration": 71,
    "start_time": "2022-03-10T13:36:33.045Z"
   },
   {
    "duration": 1543,
    "start_time": "2022-03-10T13:38:01.403Z"
   },
   {
    "duration": 22,
    "start_time": "2022-03-10T13:38:02.949Z"
   },
   {
    "duration": 10,
    "start_time": "2022-03-10T13:38:02.974Z"
   },
   {
    "duration": 22,
    "start_time": "2022-03-10T13:38:02.986Z"
   },
   {
    "duration": 22,
    "start_time": "2022-03-10T13:38:03.010Z"
   },
   {
    "duration": 12,
    "start_time": "2022-03-10T13:38:03.035Z"
   },
   {
    "duration": 12,
    "start_time": "2022-03-10T13:38:03.049Z"
   },
   {
    "duration": 9,
    "start_time": "2022-03-10T13:38:03.065Z"
   },
   {
    "duration": 21,
    "start_time": "2022-03-10T13:38:03.076Z"
   },
   {
    "duration": 593,
    "start_time": "2022-03-10T13:38:03.099Z"
   },
   {
    "duration": 1514,
    "start_time": "2022-03-10T13:38:34.722Z"
   },
   {
    "duration": 23,
    "start_time": "2022-03-10T13:38:36.239Z"
   },
   {
    "duration": 10,
    "start_time": "2022-03-10T13:38:36.265Z"
   },
   {
    "duration": 28,
    "start_time": "2022-03-10T13:38:36.278Z"
   },
   {
    "duration": 5,
    "start_time": "2022-03-10T13:38:36.308Z"
   },
   {
    "duration": 23,
    "start_time": "2022-03-10T13:38:36.315Z"
   },
   {
    "duration": 6,
    "start_time": "2022-03-10T13:38:36.341Z"
   },
   {
    "duration": 6,
    "start_time": "2022-03-10T13:38:36.350Z"
   },
   {
    "duration": 22,
    "start_time": "2022-03-10T13:38:36.358Z"
   },
   {
    "duration": 519,
    "start_time": "2022-03-10T13:38:36.382Z"
   },
   {
    "duration": 122,
    "start_time": "2022-03-10T13:38:47.063Z"
   },
   {
    "duration": 119,
    "start_time": "2022-03-10T13:39:18.744Z"
   },
   {
    "duration": 108,
    "start_time": "2022-03-10T13:39:29.856Z"
   },
   {
    "duration": 763,
    "start_time": "2022-03-10T13:40:22.205Z"
   },
   {
    "duration": 756,
    "start_time": "2022-03-10T13:40:26.336Z"
   },
   {
    "duration": 444,
    "start_time": "2022-03-10T13:40:34.946Z"
   },
   {
    "duration": 67,
    "start_time": "2022-03-10T13:40:46.492Z"
   },
   {
    "duration": 4,
    "start_time": "2022-03-10T13:40:57.368Z"
   },
   {
    "duration": 1449,
    "start_time": "2022-03-10T13:41:04.226Z"
   },
   {
    "duration": 23,
    "start_time": "2022-03-10T13:41:05.678Z"
   },
   {
    "duration": 9,
    "start_time": "2022-03-10T13:41:05.704Z"
   },
   {
    "duration": 30,
    "start_time": "2022-03-10T13:41:05.716Z"
   },
   {
    "duration": 5,
    "start_time": "2022-03-10T13:41:05.749Z"
   },
   {
    "duration": 8,
    "start_time": "2022-03-10T13:41:05.756Z"
   },
   {
    "duration": 8,
    "start_time": "2022-03-10T13:41:05.767Z"
   },
   {
    "duration": 5,
    "start_time": "2022-03-10T13:41:05.777Z"
   },
   {
    "duration": 62,
    "start_time": "2022-03-10T13:41:05.785Z"
   },
   {
    "duration": 67,
    "start_time": "2022-03-10T13:41:05.850Z"
   },
   {
    "duration": 79,
    "start_time": "2022-03-10T13:41:32.984Z"
   },
   {
    "duration": 84,
    "start_time": "2022-03-10T13:41:49.999Z"
   },
   {
    "duration": 76,
    "start_time": "2022-03-10T13:41:56.289Z"
   },
   {
    "duration": 74,
    "start_time": "2022-03-10T13:42:05.945Z"
   },
   {
    "duration": 80,
    "start_time": "2022-03-10T13:42:56.224Z"
   },
   {
    "duration": 75,
    "start_time": "2022-03-10T13:45:53.801Z"
   },
   {
    "duration": 79,
    "start_time": "2022-03-10T13:46:04.635Z"
   },
   {
    "duration": 66,
    "start_time": "2022-03-10T13:46:10.396Z"
   },
   {
    "duration": 2754,
    "start_time": "2022-03-10T13:48:16.982Z"
   },
   {
    "duration": 2777,
    "start_time": "2022-03-10T13:48:46.089Z"
   },
   {
    "duration": 1104,
    "start_time": "2022-03-10T13:50:30.546Z"
   },
   {
    "duration": 1327,
    "start_time": "2022-03-10T13:55:11.640Z"
   },
   {
    "duration": 22,
    "start_time": "2022-03-10T13:55:12.970Z"
   },
   {
    "duration": 9,
    "start_time": "2022-03-10T13:55:12.995Z"
   },
   {
    "duration": 38,
    "start_time": "2022-03-10T13:55:13.007Z"
   },
   {
    "duration": 5,
    "start_time": "2022-03-10T13:55:13.047Z"
   },
   {
    "duration": 11,
    "start_time": "2022-03-10T13:55:13.055Z"
   },
   {
    "duration": 8,
    "start_time": "2022-03-10T13:55:13.068Z"
   },
   {
    "duration": 7,
    "start_time": "2022-03-10T13:55:13.078Z"
   },
   {
    "duration": 58,
    "start_time": "2022-03-10T13:55:13.089Z"
   },
   {
    "duration": 1122,
    "start_time": "2022-03-10T13:55:13.150Z"
   },
   {
    "duration": 1140,
    "start_time": "2022-03-10T13:57:06.945Z"
   },
   {
    "duration": 1096,
    "start_time": "2022-03-10T14:00:53.958Z"
   },
   {
    "duration": 1093,
    "start_time": "2022-03-10T14:02:20.562Z"
   },
   {
    "duration": 2745,
    "start_time": "2022-03-10T14:02:27.765Z"
   },
   {
    "duration": 2403,
    "start_time": "2022-03-10T14:03:13.178Z"
   },
   {
    "duration": 1123,
    "start_time": "2022-03-10T14:03:30.709Z"
   },
   {
    "duration": 2417,
    "start_time": "2022-03-10T14:03:37.930Z"
   },
   {
    "duration": 494,
    "start_time": "2022-03-10T14:12:55.200Z"
   },
   {
    "duration": 1541,
    "start_time": "2022-03-10T14:13:03.728Z"
   },
   {
    "duration": 33,
    "start_time": "2022-03-10T14:13:05.272Z"
   },
   {
    "duration": 9,
    "start_time": "2022-03-10T14:13:05.309Z"
   },
   {
    "duration": 24,
    "start_time": "2022-03-10T14:13:05.320Z"
   },
   {
    "duration": 7,
    "start_time": "2022-03-10T14:13:05.346Z"
   },
   {
    "duration": 8,
    "start_time": "2022-03-10T14:13:05.356Z"
   },
   {
    "duration": 6,
    "start_time": "2022-03-10T14:13:05.366Z"
   },
   {
    "duration": 5,
    "start_time": "2022-03-10T14:13:05.375Z"
   },
   {
    "duration": 61,
    "start_time": "2022-03-10T14:13:05.384Z"
   },
   {
    "duration": 843,
    "start_time": "2022-03-10T14:13:05.447Z"
   },
   {
    "duration": -1014,
    "start_time": "2022-03-10T14:13:07.306Z"
   },
   {
    "duration": 606,
    "start_time": "2022-03-10T14:13:32.010Z"
   },
   {
    "duration": 574,
    "start_time": "2022-03-10T14:14:06.074Z"
   },
   {
    "duration": 564,
    "start_time": "2022-03-10T14:14:16.306Z"
   },
   {
    "duration": 1100,
    "start_time": "2022-03-10T14:14:25.519Z"
   },
   {
    "duration": 4,
    "start_time": "2022-03-10T14:14:35.427Z"
   },
   {
    "duration": 24,
    "start_time": "2022-03-10T14:19:48.104Z"
   },
   {
    "duration": 18,
    "start_time": "2022-03-10T14:20:02.876Z"
   },
   {
    "duration": 28,
    "start_time": "2022-03-10T14:20:37.938Z"
   },
   {
    "duration": 1431,
    "start_time": "2022-03-10T14:21:31.536Z"
   },
   {
    "duration": 22,
    "start_time": "2022-03-10T14:21:32.970Z"
   },
   {
    "duration": 8,
    "start_time": "2022-03-10T14:21:32.995Z"
   },
   {
    "duration": 37,
    "start_time": "2022-03-10T14:21:33.006Z"
   },
   {
    "duration": 5,
    "start_time": "2022-03-10T14:21:33.045Z"
   },
   {
    "duration": 9,
    "start_time": "2022-03-10T14:21:33.052Z"
   },
   {
    "duration": 6,
    "start_time": "2022-03-10T14:21:33.064Z"
   },
   {
    "duration": 6,
    "start_time": "2022-03-10T14:21:33.072Z"
   },
   {
    "duration": 57,
    "start_time": "2022-03-10T14:21:33.081Z"
   },
   {
    "duration": 1136,
    "start_time": "2022-03-10T14:21:33.140Z"
   },
   {
    "duration": 2403,
    "start_time": "2022-03-10T14:21:34.279Z"
   },
   {
    "duration": 16,
    "start_time": "2022-03-10T14:21:36.684Z"
   },
   {
    "duration": 17,
    "start_time": "2022-03-10T14:30:06.183Z"
   },
   {
    "duration": 2449,
    "start_time": "2022-03-10T14:35:59.456Z"
   },
   {
    "duration": 1115,
    "start_time": "2022-03-10T14:36:50.511Z"
   },
   {
    "duration": 1277,
    "start_time": "2022-03-10T15:09:36.588Z"
   },
   {
    "duration": 22,
    "start_time": "2022-03-10T15:09:37.867Z"
   },
   {
    "duration": 9,
    "start_time": "2022-03-10T15:09:37.892Z"
   },
   {
    "duration": 37,
    "start_time": "2022-03-10T15:09:37.904Z"
   },
   {
    "duration": 5,
    "start_time": "2022-03-10T15:09:37.943Z"
   },
   {
    "duration": 12,
    "start_time": "2022-03-10T15:09:37.951Z"
   },
   {
    "duration": 9,
    "start_time": "2022-03-10T15:09:37.965Z"
   },
   {
    "duration": 7,
    "start_time": "2022-03-10T15:09:37.976Z"
   },
   {
    "duration": 59,
    "start_time": "2022-03-10T15:09:37.987Z"
   },
   {
    "duration": 1612,
    "start_time": "2022-03-10T15:09:38.049Z"
   },
   {
    "duration": 2688,
    "start_time": "2022-03-10T15:09:39.664Z"
   },
   {
    "duration": 16,
    "start_time": "2022-03-10T15:09:42.354Z"
   },
   {
    "duration": 1586,
    "start_time": "2022-03-10T15:10:08.168Z"
   },
   {
    "duration": 25,
    "start_time": "2022-03-10T15:10:09.756Z"
   },
   {
    "duration": 10,
    "start_time": "2022-03-10T15:10:09.832Z"
   },
   {
    "duration": 25,
    "start_time": "2022-03-10T15:10:09.845Z"
   },
   {
    "duration": 5,
    "start_time": "2022-03-10T15:10:09.872Z"
   },
   {
    "duration": 8,
    "start_time": "2022-03-10T15:10:09.932Z"
   },
   {
    "duration": 7,
    "start_time": "2022-03-10T15:10:09.942Z"
   },
   {
    "duration": 6,
    "start_time": "2022-03-10T15:10:09.952Z"
   },
   {
    "duration": 79,
    "start_time": "2022-03-10T15:10:09.961Z"
   },
   {
    "duration": 1100,
    "start_time": "2022-03-10T15:10:10.043Z"
   },
   {
    "duration": 2405,
    "start_time": "2022-03-10T15:10:11.146Z"
   },
   {
    "duration": 17,
    "start_time": "2022-03-10T15:10:13.553Z"
   },
   {
    "duration": 563,
    "start_time": "2022-03-10T15:16:30.179Z"
   },
   {
    "duration": 1723,
    "start_time": "2022-03-10T15:16:39.114Z"
   },
   {
    "duration": 26,
    "start_time": "2022-03-10T15:16:40.841Z"
   },
   {
    "duration": 13,
    "start_time": "2022-03-10T15:16:40.871Z"
   },
   {
    "duration": 52,
    "start_time": "2022-03-10T15:16:40.887Z"
   },
   {
    "duration": 6,
    "start_time": "2022-03-10T15:16:40.942Z"
   },
   {
    "duration": 11,
    "start_time": "2022-03-10T15:16:40.951Z"
   },
   {
    "duration": 13,
    "start_time": "2022-03-10T15:16:40.965Z"
   },
   {
    "duration": 6,
    "start_time": "2022-03-10T15:16:40.982Z"
   },
   {
    "duration": 55,
    "start_time": "2022-03-10T15:16:40.991Z"
   },
   {
    "duration": 1131,
    "start_time": "2022-03-10T15:16:41.048Z"
   },
   {
    "duration": 2944,
    "start_time": "2022-03-10T15:16:42.182Z"
   },
   {
    "duration": 18,
    "start_time": "2022-03-10T15:16:45.133Z"
   },
   {
    "duration": 8,
    "start_time": "2022-03-10T15:16:45.154Z"
   },
   {
    "duration": 17,
    "start_time": "2022-03-10T15:17:46.402Z"
   },
   {
    "duration": 19,
    "start_time": "2022-03-10T15:18:41.462Z"
   },
   {
    "duration": 1354,
    "start_time": "2022-03-10T15:19:29.836Z"
   },
   {
    "duration": 33,
    "start_time": "2022-03-10T15:19:31.193Z"
   },
   {
    "duration": 9,
    "start_time": "2022-03-10T15:19:31.229Z"
   },
   {
    "duration": 27,
    "start_time": "2022-03-10T15:19:31.242Z"
   },
   {
    "duration": 5,
    "start_time": "2022-03-10T15:19:31.272Z"
   },
   {
    "duration": 10,
    "start_time": "2022-03-10T15:19:31.279Z"
   },
   {
    "duration": 7,
    "start_time": "2022-03-10T15:19:31.292Z"
   },
   {
    "duration": 34,
    "start_time": "2022-03-10T15:19:31.303Z"
   },
   {
    "duration": 31,
    "start_time": "2022-03-10T15:19:31.340Z"
   },
   {
    "duration": 1132,
    "start_time": "2022-03-10T15:19:31.374Z"
   },
   {
    "duration": 2391,
    "start_time": "2022-03-10T15:19:32.509Z"
   },
   {
    "duration": 31,
    "start_time": "2022-03-10T15:19:34.902Z"
   },
   {
    "duration": 17,
    "start_time": "2022-03-10T15:19:34.935Z"
   },
   {
    "duration": 553,
    "start_time": "2022-03-10T15:37:01.148Z"
   },
   {
    "duration": 1317,
    "start_time": "2022-03-10T15:37:38.644Z"
   },
   {
    "duration": 23,
    "start_time": "2022-03-10T15:37:39.963Z"
   },
   {
    "duration": 10,
    "start_time": "2022-03-10T15:37:39.990Z"
   },
   {
    "duration": 50,
    "start_time": "2022-03-10T15:37:40.003Z"
   },
   {
    "duration": 5,
    "start_time": "2022-03-10T15:37:40.055Z"
   },
   {
    "duration": 10,
    "start_time": "2022-03-10T15:37:40.062Z"
   },
   {
    "duration": 61,
    "start_time": "2022-03-10T15:37:40.074Z"
   },
   {
    "duration": 4,
    "start_time": "2022-03-10T15:37:40.138Z"
   },
   {
    "duration": 21,
    "start_time": "2022-03-10T15:37:40.146Z"
   },
   {
    "duration": 1419,
    "start_time": "2022-03-10T15:37:40.169Z"
   },
   {
    "duration": 2469,
    "start_time": "2022-03-10T15:37:41.590Z"
   },
   {
    "duration": 16,
    "start_time": "2022-03-10T15:37:44.061Z"
   },
   {
    "duration": 17,
    "start_time": "2022-03-10T15:37:44.080Z"
   },
   {
    "duration": 496,
    "start_time": "2022-03-10T15:37:44.100Z"
   },
   {
    "duration": 11,
    "start_time": "2022-03-10T15:39:30.264Z"
   },
   {
    "duration": 10,
    "start_time": "2022-03-10T15:39:57.482Z"
   },
   {
    "duration": 565,
    "start_time": "2022-03-10T15:40:23.156Z"
   },
   {
    "duration": 11,
    "start_time": "2022-03-10T15:40:30.089Z"
   },
   {
    "duration": 1386,
    "start_time": "2022-03-10T15:41:01.282Z"
   },
   {
    "duration": 34,
    "start_time": "2022-03-10T15:41:02.671Z"
   },
   {
    "duration": 9,
    "start_time": "2022-03-10T15:41:02.708Z"
   },
   {
    "duration": 28,
    "start_time": "2022-03-10T15:41:02.719Z"
   },
   {
    "duration": 5,
    "start_time": "2022-03-10T15:41:02.749Z"
   },
   {
    "duration": 11,
    "start_time": "2022-03-10T15:41:02.757Z"
   },
   {
    "duration": 7,
    "start_time": "2022-03-10T15:41:02.771Z"
   },
   {
    "duration": 6,
    "start_time": "2022-03-10T15:41:02.782Z"
   },
   {
    "duration": 515,
    "start_time": "2022-03-10T15:41:02.791Z"
   },
   {
    "duration": -498,
    "start_time": "2022-03-10T15:41:03.806Z"
   },
   {
    "duration": -497,
    "start_time": "2022-03-10T15:41:03.807Z"
   },
   {
    "duration": -499,
    "start_time": "2022-03-10T15:41:03.810Z"
   },
   {
    "duration": -528,
    "start_time": "2022-03-10T15:41:03.841Z"
   },
   {
    "duration": -529,
    "start_time": "2022-03-10T15:41:03.843Z"
   },
   {
    "duration": 1481,
    "start_time": "2022-03-10T15:42:05.490Z"
   },
   {
    "duration": 23,
    "start_time": "2022-03-10T15:42:06.974Z"
   },
   {
    "duration": 9,
    "start_time": "2022-03-10T15:42:07.000Z"
   },
   {
    "duration": 39,
    "start_time": "2022-03-10T15:42:07.012Z"
   },
   {
    "duration": 5,
    "start_time": "2022-03-10T15:42:07.054Z"
   },
   {
    "duration": 7,
    "start_time": "2022-03-10T15:42:07.061Z"
   },
   {
    "duration": 7,
    "start_time": "2022-03-10T15:42:07.070Z"
   },
   {
    "duration": 5,
    "start_time": "2022-03-10T15:42:07.080Z"
   },
   {
    "duration": 57,
    "start_time": "2022-03-10T15:42:07.088Z"
   },
   {
    "duration": 1174,
    "start_time": "2022-03-10T15:42:07.148Z"
   },
   {
    "duration": 2639,
    "start_time": "2022-03-10T15:42:08.324Z"
   },
   {
    "duration": 16,
    "start_time": "2022-03-10T15:42:10.966Z"
   },
   {
    "duration": 17,
    "start_time": "2022-03-10T15:42:10.984Z"
   },
   {
    "duration": 37,
    "start_time": "2022-03-10T15:42:11.003Z"
   },
   {
    "duration": 11,
    "start_time": "2022-03-10T15:42:27.914Z"
   },
   {
    "duration": 12,
    "start_time": "2022-03-10T15:57:26.735Z"
   },
   {
    "duration": 1339,
    "start_time": "2022-03-10T15:58:23.841Z"
   },
   {
    "duration": 23,
    "start_time": "2022-03-10T15:58:25.182Z"
   },
   {
    "duration": 9,
    "start_time": "2022-03-10T15:58:25.207Z"
   },
   {
    "duration": 33,
    "start_time": "2022-03-10T15:58:25.218Z"
   },
   {
    "duration": 5,
    "start_time": "2022-03-10T15:58:25.253Z"
   },
   {
    "duration": 10,
    "start_time": "2022-03-10T15:58:25.260Z"
   },
   {
    "duration": 7,
    "start_time": "2022-03-10T15:58:25.272Z"
   },
   {
    "duration": 5,
    "start_time": "2022-03-10T15:58:25.282Z"
   },
   {
    "duration": 60,
    "start_time": "2022-03-10T15:58:25.290Z"
   },
   {
    "duration": 1693,
    "start_time": "2022-03-10T15:58:25.354Z"
   },
   {
    "duration": 2404,
    "start_time": "2022-03-10T15:58:27.049Z"
   },
   {
    "duration": 16,
    "start_time": "2022-03-10T15:58:29.456Z"
   },
   {
    "duration": 18,
    "start_time": "2022-03-10T15:58:29.474Z"
   },
   {
    "duration": 42,
    "start_time": "2022-03-10T15:58:29.494Z"
   },
   {
    "duration": 20,
    "start_time": "2022-03-10T16:00:36.728Z"
   },
   {
    "duration": 20,
    "start_time": "2022-03-10T16:00:46.346Z"
   },
   {
    "duration": 20,
    "start_time": "2022-03-10T16:00:51.304Z"
   },
   {
    "duration": 25,
    "start_time": "2022-03-10T16:02:24.368Z"
   },
   {
    "duration": 11,
    "start_time": "2022-03-10T16:03:11.846Z"
   },
   {
    "duration": 1381,
    "start_time": "2022-03-10T16:03:18.430Z"
   },
   {
    "duration": 24,
    "start_time": "2022-03-10T16:03:19.814Z"
   },
   {
    "duration": 10,
    "start_time": "2022-03-10T16:03:19.842Z"
   },
   {
    "duration": 25,
    "start_time": "2022-03-10T16:03:19.855Z"
   },
   {
    "duration": 5,
    "start_time": "2022-03-10T16:03:19.882Z"
   },
   {
    "duration": 43,
    "start_time": "2022-03-10T16:03:19.889Z"
   },
   {
    "duration": 8,
    "start_time": "2022-03-10T16:03:19.935Z"
   },
   {
    "duration": 8,
    "start_time": "2022-03-10T16:03:19.945Z"
   },
   {
    "duration": 26,
    "start_time": "2022-03-10T16:03:19.956Z"
   },
   {
    "duration": 1181,
    "start_time": "2022-03-10T16:03:19.984Z"
   },
   {
    "duration": 2477,
    "start_time": "2022-03-10T16:03:21.167Z"
   },
   {
    "duration": 16,
    "start_time": "2022-03-10T16:03:23.647Z"
   },
   {
    "duration": 20,
    "start_time": "2022-03-10T16:03:23.666Z"
   },
   {
    "duration": 46,
    "start_time": "2022-03-10T16:03:23.689Z"
   },
   {
    "duration": 1344,
    "start_time": "2022-03-10T16:06:20.019Z"
   },
   {
    "duration": 34,
    "start_time": "2022-03-10T16:06:21.366Z"
   },
   {
    "duration": 9,
    "start_time": "2022-03-10T16:06:21.403Z"
   },
   {
    "duration": 27,
    "start_time": "2022-03-10T16:06:21.414Z"
   },
   {
    "duration": 5,
    "start_time": "2022-03-10T16:06:21.443Z"
   },
   {
    "duration": 7,
    "start_time": "2022-03-10T16:06:21.451Z"
   },
   {
    "duration": 11,
    "start_time": "2022-03-10T16:06:21.461Z"
   },
   {
    "duration": 6,
    "start_time": "2022-03-10T16:06:21.476Z"
   },
   {
    "duration": 58,
    "start_time": "2022-03-10T16:06:21.485Z"
   },
   {
    "duration": 1111,
    "start_time": "2022-03-10T16:06:21.545Z"
   },
   {
    "duration": 2791,
    "start_time": "2022-03-10T16:06:22.658Z"
   },
   {
    "duration": 16,
    "start_time": "2022-03-10T16:06:25.452Z"
   },
   {
    "duration": 17,
    "start_time": "2022-03-10T16:06:25.470Z"
   },
   {
    "duration": 46,
    "start_time": "2022-03-10T16:06:25.489Z"
   },
   {
    "duration": 1153,
    "start_time": "2022-03-11T06:24:40.513Z"
   },
   {
    "duration": 303,
    "start_time": "2022-03-14T13:04:01.330Z"
   },
   {
    "duration": 1176,
    "start_time": "2022-03-14T13:04:08.928Z"
   },
   {
    "duration": 19,
    "start_time": "2022-03-14T13:04:10.106Z"
   },
   {
    "duration": 8,
    "start_time": "2022-03-14T13:04:10.127Z"
   },
   {
    "duration": 20,
    "start_time": "2022-03-14T13:04:10.138Z"
   },
   {
    "duration": 4,
    "start_time": "2022-03-14T13:04:10.161Z"
   },
   {
    "duration": 8,
    "start_time": "2022-03-14T13:04:10.167Z"
   },
   {
    "duration": 6,
    "start_time": "2022-03-14T13:04:10.177Z"
   },
   {
    "duration": 7,
    "start_time": "2022-03-14T13:04:10.185Z"
   },
   {
    "duration": 46,
    "start_time": "2022-03-14T13:04:10.194Z"
   },
   {
    "duration": 848,
    "start_time": "2022-03-14T13:04:10.242Z"
   },
   {
    "duration": 1872,
    "start_time": "2022-03-14T13:04:11.093Z"
   },
   {
    "duration": 11,
    "start_time": "2022-03-14T13:04:12.967Z"
   },
   {
    "duration": 20,
    "start_time": "2022-03-14T13:04:12.980Z"
   },
   {
    "duration": 10,
    "start_time": "2022-03-14T13:04:13.003Z"
   },
   {
    "duration": 32,
    "start_time": "2022-03-14T13:04:13.015Z"
   },
   {
    "duration": 386,
    "start_time": "2022-03-14T13:06:48.756Z"
   },
   {
    "duration": 272,
    "start_time": "2022-03-14T13:07:28.728Z"
   },
   {
    "duration": 257,
    "start_time": "2022-03-14T13:07:56.790Z"
   },
   {
    "duration": 284,
    "start_time": "2022-03-14T13:08:07.181Z"
   },
   {
    "duration": 293,
    "start_time": "2022-03-14T13:08:13.812Z"
   },
   {
    "duration": 312,
    "start_time": "2022-03-14T13:08:40.450Z"
   },
   {
    "duration": 82,
    "start_time": "2022-03-14T13:09:58.738Z"
   },
   {
    "duration": 282,
    "start_time": "2022-03-14T13:10:03.132Z"
   },
   {
    "duration": 13,
    "start_time": "2022-03-14T13:10:12.902Z"
   },
   {
    "duration": 286,
    "start_time": "2022-03-14T13:27:08.251Z"
   },
   {
    "duration": 12,
    "start_time": "2022-03-14T13:27:19.236Z"
   },
   {
    "duration": 336,
    "start_time": "2022-03-14T13:27:45.693Z"
   },
   {
    "duration": 13,
    "start_time": "2022-03-14T13:27:52.021Z"
   },
   {
    "duration": 12,
    "start_time": "2022-03-14T14:59:42.989Z"
   },
   {
    "duration": 1094,
    "start_time": "2022-03-14T15:00:48.196Z"
   },
   {
    "duration": 21,
    "start_time": "2022-03-14T15:00:49.292Z"
   },
   {
    "duration": 13,
    "start_time": "2022-03-14T15:00:49.315Z"
   },
   {
    "duration": 33,
    "start_time": "2022-03-14T15:00:49.331Z"
   },
   {
    "duration": 4,
    "start_time": "2022-03-14T15:00:49.366Z"
   },
   {
    "duration": 22,
    "start_time": "2022-03-14T15:00:49.372Z"
   },
   {
    "duration": 12,
    "start_time": "2022-03-14T15:00:49.395Z"
   },
   {
    "duration": 10,
    "start_time": "2022-03-14T15:00:49.409Z"
   },
   {
    "duration": 24,
    "start_time": "2022-03-14T15:00:49.421Z"
   },
   {
    "duration": 869,
    "start_time": "2022-03-14T15:00:49.447Z"
   },
   {
    "duration": 1943,
    "start_time": "2022-03-14T15:00:50.318Z"
   },
   {
    "duration": 12,
    "start_time": "2022-03-14T15:00:52.263Z"
   },
   {
    "duration": 14,
    "start_time": "2022-03-14T15:00:52.276Z"
   },
   {
    "duration": 2,
    "start_time": "2022-03-14T15:00:52.292Z"
   },
   {
    "duration": 42,
    "start_time": "2022-03-14T15:00:52.296Z"
   }
  ],
  "kernelspec": {
   "display_name": "Python 3 (ipykernel)",
   "language": "python",
   "name": "python3"
  },
  "language_info": {
   "codemirror_mode": {
    "name": "ipython",
    "version": 3
   },
   "file_extension": ".py",
   "mimetype": "text/x-python",
   "name": "python",
   "nbconvert_exporter": "python",
   "pygments_lexer": "ipython3",
   "version": "3.9.10"
  },
  "toc": {
   "base_numbering": 1,
   "nav_menu": {},
   "number_sections": true,
   "sideBar": true,
   "skip_h1_title": true,
   "title_cell": "Table of Contents",
   "title_sidebar": "Contents",
   "toc_cell": false,
   "toc_position": {
    "height": "calc(100% - 180px)",
    "left": "10px",
    "top": "150px",
    "width": "358.188px"
   },
   "toc_section_display": true,
   "toc_window_display": false
  }
 },
 "nbformat": 4,
 "nbformat_minor": 2
}
