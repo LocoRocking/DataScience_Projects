{
 "cells": [
  {
   "cell_type": "markdown",
   "metadata": {},
   "source": [
    "# Determining the cost of cars"
   ]
  },
  {
   "cell_type": "markdown",
   "metadata": {},
   "source": [
    "Service for the sale of used cars \"Not beaten, not beautiful\" is developing an application to attract new customers. In it, you can quickly find out the market value of your car. At your disposal are historical data: technical specifications, equipment and prices of cars. You need to build a model to determine the cost.\n",
    "\n",
    "The customer is important:\n",
    "\n",
    "- quality of prediction;\n",
    "- prediction speed;\n",
    "- studying time."
   ]
  },
  {
   "cell_type": "markdown",
   "metadata": {},
   "source": [
    "<font size=4><b>Data Description</b></font>\n",
    "\n",
    "<b>Features:</b>\n",
    "\n",
    "- `DateCrawled` — date of downloading the profile from the database\n",
    "- `VehicleType` — car body type\n",
    "- `RegistrationYear` - year of car registration\n",
    "- `Gearbox` — gearbox type\n",
    "- `Power` - power (hp)\n",
    "- `Model` — car model\n",
    "- `Kilometer` — mileage (km)\n",
    "- `RegistrationMonth` — car registration month\n",
    "- `FuelType` — fuel type\n",
    "- `Brand` — car brand\n",
    "- `NotRepaired` - was the car under repair or not\n",
    "- `DateCreated` — date of creation of the questionnaire\n",
    "- `NumberOfPictures` - the number of photos of the car\n",
    "- `PostalCode` — postal code of the owner of the profile (user)\n",
    "- `LastSeen` — date of last user activity\n",
    "\n",
    "<b>Target feature:</b>\n",
    "- `Price` — price (euro)"
   ]
  },
  {
   "cell_type": "markdown",
   "metadata": {},
   "source": [
    "## Data preparation"
   ]
  },
  {
   "cell_type": "code",
   "execution_count": 1,
   "metadata": {},
   "outputs": [],
   "source": [
    "#load the required libraries\n",
    "import pandas as pd\n",
    "import numpy as np\n",
    "import matplotlib.pyplot as plt\n",
    "import seaborn as sns\n",
    "\n",
    "from sklearn.metrics import mean_squared_error\n",
    "from sklearn.preprocessing import OrdinalEncoder\n",
    "from sklearn.preprocessing import StandardScaler\n",
    "from sklearn.model_selection import train_test_split\n",
    "from sklearn.model_selection import GridSearchCV\n",
    "\n",
    "from sklearn.linear_model import LinearRegression\n",
    "from sklearn.ensemble import RandomForestRegressor\n",
    "from catboost import CatBoostRegressor\n",
    "from lightgbm import LGBMRegressor\n",
    "from sklearn.dummy import DummyRegressor\n",
    "\n",
    "import time\n",
    "import warnings\n",
    "warnings.filterwarnings('ignore')"
   ]
  },
  {
   "cell_type": "markdown",
   "metadata": {},
   "source": [
    "### Getting to know the data"
   ]
  },
  {
   "cell_type": "code",
   "execution_count": 2,
   "metadata": {},
   "outputs": [],
   "source": [
    "try:\n",
    "    df = pd.read_csv('C:/Users/Ruslanio/Downloads/autos.csv')\n",
    "except FileNotFoundError:\n",
    "    print(\"File not found.\")\n",
    "except pd.errors.EmptyDataError:\n",
    "    print(\"No data\")\n",
    "except pd.errors.ParserError:\n",
    "    print(\"Parse error\")\n",
    "except Exception:\n",
    "    print(\"Some other exception\")"
   ]
  },
  {
   "cell_type": "code",
   "execution_count": 3,
   "metadata": {},
   "outputs": [
    {
     "data": {
      "text/html": [
       "<div>\n",
       "<style scoped>\n",
       "    .dataframe tbody tr th:only-of-type {\n",
       "        vertical-align: middle;\n",
       "    }\n",
       "\n",
       "    .dataframe tbody tr th {\n",
       "        vertical-align: top;\n",
       "    }\n",
       "\n",
       "    .dataframe thead th {\n",
       "        text-align: right;\n",
       "    }\n",
       "</style>\n",
       "<table border=\"1\" class=\"dataframe\">\n",
       "  <thead>\n",
       "    <tr style=\"text-align: right;\">\n",
       "      <th></th>\n",
       "      <th>DateCrawled</th>\n",
       "      <th>Price</th>\n",
       "      <th>VehicleType</th>\n",
       "      <th>RegistrationYear</th>\n",
       "      <th>Gearbox</th>\n",
       "      <th>Power</th>\n",
       "      <th>Model</th>\n",
       "      <th>Kilometer</th>\n",
       "      <th>RegistrationMonth</th>\n",
       "      <th>FuelType</th>\n",
       "      <th>Brand</th>\n",
       "      <th>NotRepaired</th>\n",
       "      <th>DateCreated</th>\n",
       "      <th>NumberOfPictures</th>\n",
       "      <th>PostalCode</th>\n",
       "      <th>LastSeen</th>\n",
       "    </tr>\n",
       "  </thead>\n",
       "  <tbody>\n",
       "    <tr>\n",
       "      <th>37359</th>\n",
       "      <td>2016-03-30 13:57:24</td>\n",
       "      <td>3800</td>\n",
       "      <td>small</td>\n",
       "      <td>2008</td>\n",
       "      <td>manual</td>\n",
       "      <td>68</td>\n",
       "      <td>fusion</td>\n",
       "      <td>150000</td>\n",
       "      <td>4</td>\n",
       "      <td>gasoline</td>\n",
       "      <td>ford</td>\n",
       "      <td>no</td>\n",
       "      <td>2016-03-30 00:00:00</td>\n",
       "      <td>0</td>\n",
       "      <td>28844</td>\n",
       "      <td>2016-04-07 05:15:35</td>\n",
       "    </tr>\n",
       "    <tr>\n",
       "      <th>282031</th>\n",
       "      <td>2016-03-25 12:47:41</td>\n",
       "      <td>3950</td>\n",
       "      <td>small</td>\n",
       "      <td>2009</td>\n",
       "      <td>manual</td>\n",
       "      <td>69</td>\n",
       "      <td>ka</td>\n",
       "      <td>20000</td>\n",
       "      <td>6</td>\n",
       "      <td>petrol</td>\n",
       "      <td>ford</td>\n",
       "      <td>no</td>\n",
       "      <td>2016-03-25 00:00:00</td>\n",
       "      <td>0</td>\n",
       "      <td>45889</td>\n",
       "      <td>2016-03-30 01:46:53</td>\n",
       "    </tr>\n",
       "    <tr>\n",
       "      <th>233127</th>\n",
       "      <td>2016-04-02 09:54:53</td>\n",
       "      <td>7299</td>\n",
       "      <td>wagon</td>\n",
       "      <td>2010</td>\n",
       "      <td>manual</td>\n",
       "      <td>101</td>\n",
       "      <td>focus</td>\n",
       "      <td>60000</td>\n",
       "      <td>6</td>\n",
       "      <td>petrol</td>\n",
       "      <td>ford</td>\n",
       "      <td>no</td>\n",
       "      <td>2016-04-02 00:00:00</td>\n",
       "      <td>0</td>\n",
       "      <td>48356</td>\n",
       "      <td>2016-04-04 07:17:35</td>\n",
       "    </tr>\n",
       "    <tr>\n",
       "      <th>218227</th>\n",
       "      <td>2016-03-25 16:46:59</td>\n",
       "      <td>1500</td>\n",
       "      <td>small</td>\n",
       "      <td>2003</td>\n",
       "      <td>manual</td>\n",
       "      <td>75</td>\n",
       "      <td>corsa</td>\n",
       "      <td>90000</td>\n",
       "      <td>5</td>\n",
       "      <td>petrol</td>\n",
       "      <td>opel</td>\n",
       "      <td>no</td>\n",
       "      <td>2016-03-25 00:00:00</td>\n",
       "      <td>0</td>\n",
       "      <td>48529</td>\n",
       "      <td>2016-03-30 07:16:40</td>\n",
       "    </tr>\n",
       "    <tr>\n",
       "      <th>108567</th>\n",
       "      <td>2016-03-11 13:57:49</td>\n",
       "      <td>6300</td>\n",
       "      <td>sedan</td>\n",
       "      <td>2008</td>\n",
       "      <td>manual</td>\n",
       "      <td>177</td>\n",
       "      <td>3er</td>\n",
       "      <td>150000</td>\n",
       "      <td>4</td>\n",
       "      <td>gasoline</td>\n",
       "      <td>bmw</td>\n",
       "      <td>yes</td>\n",
       "      <td>2016-03-11 00:00:00</td>\n",
       "      <td>0</td>\n",
       "      <td>59555</td>\n",
       "      <td>2016-03-17 20:48:45</td>\n",
       "    </tr>\n",
       "    <tr>\n",
       "      <th>161010</th>\n",
       "      <td>2016-03-19 16:53:45</td>\n",
       "      <td>1200</td>\n",
       "      <td>small</td>\n",
       "      <td>2001</td>\n",
       "      <td>manual</td>\n",
       "      <td>50</td>\n",
       "      <td>polo</td>\n",
       "      <td>150000</td>\n",
       "      <td>2</td>\n",
       "      <td>petrol</td>\n",
       "      <td>volkswagen</td>\n",
       "      <td>no</td>\n",
       "      <td>2016-03-19 00:00:00</td>\n",
       "      <td>0</td>\n",
       "      <td>40599</td>\n",
       "      <td>2016-03-21 22:44:19</td>\n",
       "    </tr>\n",
       "    <tr>\n",
       "      <th>338095</th>\n",
       "      <td>2016-04-02 16:57:37</td>\n",
       "      <td>1700</td>\n",
       "      <td>NaN</td>\n",
       "      <td>1995</td>\n",
       "      <td>manual</td>\n",
       "      <td>1503</td>\n",
       "      <td>a4</td>\n",
       "      <td>150000</td>\n",
       "      <td>5</td>\n",
       "      <td>petrol</td>\n",
       "      <td>audi</td>\n",
       "      <td>no</td>\n",
       "      <td>2016-04-02 00:00:00</td>\n",
       "      <td>0</td>\n",
       "      <td>78234</td>\n",
       "      <td>2016-04-06 16:16:09</td>\n",
       "    </tr>\n",
       "    <tr>\n",
       "      <th>350434</th>\n",
       "      <td>2016-03-25 08:25:22</td>\n",
       "      <td>1450</td>\n",
       "      <td>wagon</td>\n",
       "      <td>1996</td>\n",
       "      <td>manual</td>\n",
       "      <td>170</td>\n",
       "      <td>3er</td>\n",
       "      <td>150000</td>\n",
       "      <td>8</td>\n",
       "      <td>NaN</td>\n",
       "      <td>bmw</td>\n",
       "      <td>no</td>\n",
       "      <td>2016-03-25 00:00:00</td>\n",
       "      <td>0</td>\n",
       "      <td>65933</td>\n",
       "      <td>2016-03-30 00:46:10</td>\n",
       "    </tr>\n",
       "    <tr>\n",
       "      <th>236876</th>\n",
       "      <td>2016-04-04 02:59:52</td>\n",
       "      <td>13900</td>\n",
       "      <td>suv</td>\n",
       "      <td>2004</td>\n",
       "      <td>auto</td>\n",
       "      <td>450</td>\n",
       "      <td>cayenne</td>\n",
       "      <td>150000</td>\n",
       "      <td>5</td>\n",
       "      <td>petrol</td>\n",
       "      <td>porsche</td>\n",
       "      <td>no</td>\n",
       "      <td>2016-04-04 00:00:00</td>\n",
       "      <td>0</td>\n",
       "      <td>81247</td>\n",
       "      <td>2016-04-06 09:17:16</td>\n",
       "    </tr>\n",
       "    <tr>\n",
       "      <th>184667</th>\n",
       "      <td>2016-03-25 11:41:27</td>\n",
       "      <td>650</td>\n",
       "      <td>small</td>\n",
       "      <td>2002</td>\n",
       "      <td>manual</td>\n",
       "      <td>75</td>\n",
       "      <td>twingo</td>\n",
       "      <td>150000</td>\n",
       "      <td>6</td>\n",
       "      <td>petrol</td>\n",
       "      <td>renault</td>\n",
       "      <td>no</td>\n",
       "      <td>2016-03-25 00:00:00</td>\n",
       "      <td>0</td>\n",
       "      <td>45665</td>\n",
       "      <td>2016-03-25 11:41:27</td>\n",
       "    </tr>\n",
       "  </tbody>\n",
       "</table>\n",
       "</div>"
      ],
      "text/plain": [
       "                DateCrawled  Price VehicleType  RegistrationYear Gearbox  \\\n",
       "37359   2016-03-30 13:57:24   3800       small              2008  manual   \n",
       "282031  2016-03-25 12:47:41   3950       small              2009  manual   \n",
       "233127  2016-04-02 09:54:53   7299       wagon              2010  manual   \n",
       "218227  2016-03-25 16:46:59   1500       small              2003  manual   \n",
       "108567  2016-03-11 13:57:49   6300       sedan              2008  manual   \n",
       "161010  2016-03-19 16:53:45   1200       small              2001  manual   \n",
       "338095  2016-04-02 16:57:37   1700         NaN              1995  manual   \n",
       "350434  2016-03-25 08:25:22   1450       wagon              1996  manual   \n",
       "236876  2016-04-04 02:59:52  13900         suv              2004    auto   \n",
       "184667  2016-03-25 11:41:27    650       small              2002  manual   \n",
       "\n",
       "        Power    Model  Kilometer  RegistrationMonth  FuelType       Brand  \\\n",
       "37359      68   fusion     150000                  4  gasoline        ford   \n",
       "282031     69       ka      20000                  6    petrol        ford   \n",
       "233127    101    focus      60000                  6    petrol        ford   \n",
       "218227     75    corsa      90000                  5    petrol        opel   \n",
       "108567    177      3er     150000                  4  gasoline         bmw   \n",
       "161010     50     polo     150000                  2    petrol  volkswagen   \n",
       "338095   1503       a4     150000                  5    petrol        audi   \n",
       "350434    170      3er     150000                  8       NaN         bmw   \n",
       "236876    450  cayenne     150000                  5    petrol     porsche   \n",
       "184667     75   twingo     150000                  6    petrol     renault   \n",
       "\n",
       "       NotRepaired          DateCreated  NumberOfPictures  PostalCode  \\\n",
       "37359           no  2016-03-30 00:00:00                 0       28844   \n",
       "282031          no  2016-03-25 00:00:00                 0       45889   \n",
       "233127          no  2016-04-02 00:00:00                 0       48356   \n",
       "218227          no  2016-03-25 00:00:00                 0       48529   \n",
       "108567         yes  2016-03-11 00:00:00                 0       59555   \n",
       "161010          no  2016-03-19 00:00:00                 0       40599   \n",
       "338095          no  2016-04-02 00:00:00                 0       78234   \n",
       "350434          no  2016-03-25 00:00:00                 0       65933   \n",
       "236876          no  2016-04-04 00:00:00                 0       81247   \n",
       "184667          no  2016-03-25 00:00:00                 0       45665   \n",
       "\n",
       "                   LastSeen  \n",
       "37359   2016-04-07 05:15:35  \n",
       "282031  2016-03-30 01:46:53  \n",
       "233127  2016-04-04 07:17:35  \n",
       "218227  2016-03-30 07:16:40  \n",
       "108567  2016-03-17 20:48:45  \n",
       "161010  2016-03-21 22:44:19  \n",
       "338095  2016-04-06 16:16:09  \n",
       "350434  2016-03-30 00:46:10  \n",
       "236876  2016-04-06 09:17:16  \n",
       "184667  2016-03-25 11:41:27  "
      ]
     },
     "execution_count": 3,
     "metadata": {},
     "output_type": "execute_result"
    }
   ],
   "source": [
    "#look at the dataset\n",
    "df.sample(10)"
   ]
  },
  {
   "cell_type": "code",
   "execution_count": 4,
   "metadata": {},
   "outputs": [
    {
     "name": "stdout",
     "output_type": "stream",
     "text": [
      "<class 'pandas.core.frame.DataFrame'>\n",
      "RangeIndex: 354369 entries, 0 to 354368\n",
      "Data columns (total 16 columns):\n",
      " #   Column             Non-Null Count   Dtype \n",
      "---  ------             --------------   ----- \n",
      " 0   DateCrawled        354369 non-null  object\n",
      " 1   Price              354369 non-null  int64 \n",
      " 2   VehicleType        316879 non-null  object\n",
      " 3   RegistrationYear   354369 non-null  int64 \n",
      " 4   Gearbox            334536 non-null  object\n",
      " 5   Power              354369 non-null  int64 \n",
      " 6   Model              334664 non-null  object\n",
      " 7   Kilometer          354369 non-null  int64 \n",
      " 8   RegistrationMonth  354369 non-null  int64 \n",
      " 9   FuelType           321474 non-null  object\n",
      " 10  Brand              354369 non-null  object\n",
      " 11  NotRepaired        283215 non-null  object\n",
      " 12  DateCreated        354369 non-null  object\n",
      " 13  NumberOfPictures   354369 non-null  int64 \n",
      " 14  PostalCode         354369 non-null  int64 \n",
      " 15  LastSeen           354369 non-null  object\n",
      "dtypes: int64(7), object(9)\n",
      "memory usage: 43.3+ MB\n"
     ]
    }
   ],
   "source": [
    "#look at the general information about the dataset\n",
    "df.info()"
   ]
  },
  {
   "cell_type": "markdown",
   "metadata": {},
   "source": [
    "The dataset has 354,369 rows and 16 columns. The format of the columns is correct, except for the columns with the date, but we will remove them from the dataset, because they do not carry any necessary information for training models."
   ]
  },
  {
   "cell_type": "code",
   "execution_count": 5,
   "metadata": {},
   "outputs": [
    {
     "data": {
      "text/html": [
       "<div>\n",
       "<style scoped>\n",
       "    .dataframe tbody tr th:only-of-type {\n",
       "        vertical-align: middle;\n",
       "    }\n",
       "\n",
       "    .dataframe tbody tr th {\n",
       "        vertical-align: top;\n",
       "    }\n",
       "\n",
       "    .dataframe thead th {\n",
       "        text-align: right;\n",
       "    }\n",
       "</style>\n",
       "<table border=\"1\" class=\"dataframe\">\n",
       "  <thead>\n",
       "    <tr style=\"text-align: right;\">\n",
       "      <th></th>\n",
       "      <th>Price</th>\n",
       "      <th>RegistrationYear</th>\n",
       "      <th>Power</th>\n",
       "      <th>Kilometer</th>\n",
       "      <th>RegistrationMonth</th>\n",
       "      <th>NumberOfPictures</th>\n",
       "      <th>PostalCode</th>\n",
       "    </tr>\n",
       "  </thead>\n",
       "  <tbody>\n",
       "    <tr>\n",
       "      <th>count</th>\n",
       "      <td>354369.000000</td>\n",
       "      <td>354369.000000</td>\n",
       "      <td>354369.000000</td>\n",
       "      <td>354369.000000</td>\n",
       "      <td>354369.000000</td>\n",
       "      <td>354369.0</td>\n",
       "      <td>354369.000000</td>\n",
       "    </tr>\n",
       "    <tr>\n",
       "      <th>mean</th>\n",
       "      <td>4416.656776</td>\n",
       "      <td>2004.234448</td>\n",
       "      <td>110.094337</td>\n",
       "      <td>128211.172535</td>\n",
       "      <td>5.714645</td>\n",
       "      <td>0.0</td>\n",
       "      <td>50508.689087</td>\n",
       "    </tr>\n",
       "    <tr>\n",
       "      <th>std</th>\n",
       "      <td>4514.158514</td>\n",
       "      <td>90.227958</td>\n",
       "      <td>189.850405</td>\n",
       "      <td>37905.341530</td>\n",
       "      <td>3.726421</td>\n",
       "      <td>0.0</td>\n",
       "      <td>25783.096248</td>\n",
       "    </tr>\n",
       "    <tr>\n",
       "      <th>min</th>\n",
       "      <td>0.000000</td>\n",
       "      <td>1000.000000</td>\n",
       "      <td>0.000000</td>\n",
       "      <td>5000.000000</td>\n",
       "      <td>0.000000</td>\n",
       "      <td>0.0</td>\n",
       "      <td>1067.000000</td>\n",
       "    </tr>\n",
       "    <tr>\n",
       "      <th>25%</th>\n",
       "      <td>1050.000000</td>\n",
       "      <td>1999.000000</td>\n",
       "      <td>69.000000</td>\n",
       "      <td>125000.000000</td>\n",
       "      <td>3.000000</td>\n",
       "      <td>0.0</td>\n",
       "      <td>30165.000000</td>\n",
       "    </tr>\n",
       "    <tr>\n",
       "      <th>50%</th>\n",
       "      <td>2700.000000</td>\n",
       "      <td>2003.000000</td>\n",
       "      <td>105.000000</td>\n",
       "      <td>150000.000000</td>\n",
       "      <td>6.000000</td>\n",
       "      <td>0.0</td>\n",
       "      <td>49413.000000</td>\n",
       "    </tr>\n",
       "    <tr>\n",
       "      <th>75%</th>\n",
       "      <td>6400.000000</td>\n",
       "      <td>2008.000000</td>\n",
       "      <td>143.000000</td>\n",
       "      <td>150000.000000</td>\n",
       "      <td>9.000000</td>\n",
       "      <td>0.0</td>\n",
       "      <td>71083.000000</td>\n",
       "    </tr>\n",
       "    <tr>\n",
       "      <th>max</th>\n",
       "      <td>20000.000000</td>\n",
       "      <td>9999.000000</td>\n",
       "      <td>20000.000000</td>\n",
       "      <td>150000.000000</td>\n",
       "      <td>12.000000</td>\n",
       "      <td>0.0</td>\n",
       "      <td>99998.000000</td>\n",
       "    </tr>\n",
       "  </tbody>\n",
       "</table>\n",
       "</div>"
      ],
      "text/plain": [
       "               Price  RegistrationYear          Power      Kilometer  \\\n",
       "count  354369.000000     354369.000000  354369.000000  354369.000000   \n",
       "mean     4416.656776       2004.234448     110.094337  128211.172535   \n",
       "std      4514.158514         90.227958     189.850405   37905.341530   \n",
       "min         0.000000       1000.000000       0.000000    5000.000000   \n",
       "25%      1050.000000       1999.000000      69.000000  125000.000000   \n",
       "50%      2700.000000       2003.000000     105.000000  150000.000000   \n",
       "75%      6400.000000       2008.000000     143.000000  150000.000000   \n",
       "max     20000.000000       9999.000000   20000.000000  150000.000000   \n",
       "\n",
       "       RegistrationMonth  NumberOfPictures     PostalCode  \n",
       "count      354369.000000          354369.0  354369.000000  \n",
       "mean            5.714645               0.0   50508.689087  \n",
       "std             3.726421               0.0   25783.096248  \n",
       "min             0.000000               0.0    1067.000000  \n",
       "25%             3.000000               0.0   30165.000000  \n",
       "50%             6.000000               0.0   49413.000000  \n",
       "75%             9.000000               0.0   71083.000000  \n",
       "max            12.000000               0.0   99998.000000  "
      ]
     },
     "execution_count": 5,
     "metadata": {},
     "output_type": "execute_result"
    }
   ],
   "source": [
    "#take a look at the descriptive feature statistics\n",
    "df.describe()"
   ]
  },
  {
   "cell_type": "markdown",
   "metadata": {},
   "source": [
    "There are gaps and incorrect data in the dataset, such as the year of registration of the car, power or price."
   ]
  },
  {
   "cell_type": "code",
   "execution_count": 6,
   "metadata": {},
   "outputs": [
    {
     "name": "stdout",
     "output_type": "stream",
     "text": [
      "Number of duplicates in the dataset: 4\n"
     ]
    }
   ],
   "source": [
    "#look at the number of duplicates in the dataset\n",
    "print('Number of duplicates in the dataset:', df.duplicated().sum())"
   ]
  },
  {
   "cell_type": "code",
   "execution_count": 7,
   "metadata": {},
   "outputs": [
    {
     "data": {
      "text/plain": [
       "DateCrawled              0\n",
       "Price                    0\n",
       "VehicleType          37490\n",
       "RegistrationYear         0\n",
       "Gearbox              19833\n",
       "Power                    0\n",
       "Model                19705\n",
       "Kilometer                0\n",
       "RegistrationMonth        0\n",
       "FuelType             32895\n",
       "Brand                    0\n",
       "NotRepaired          71154\n",
       "DateCreated              0\n",
       "NumberOfPictures         0\n",
       "PostalCode               0\n",
       "LastSeen                 0\n",
       "dtype: int64"
      ]
     },
     "execution_count": 7,
     "metadata": {},
     "output_type": "execute_result"
    }
   ],
   "source": [
    "#and look at the number of passes\n",
    "df.isna().sum()"
   ]
  },
  {
   "cell_type": "code",
   "execution_count": 8,
   "metadata": {},
   "outputs": [
    {
     "data": {
      "text/plain": [
       "'2016-04-07 14:36:58'"
      ]
     },
     "execution_count": 8,
     "metadata": {},
     "output_type": "execute_result"
    }
   ],
   "source": [
    "#check the maximum date of uploading the questionnaire in order to understand what year of manufacture cars can be\n",
    "df['DateCrawled'].max()"
   ]
  },
  {
   "cell_type": "markdown",
   "metadata": {},
   "source": [
    "The questionnaire was uploaded in 2016."
   ]
  },
  {
   "cell_type": "markdown",
   "metadata": {},
   "source": [
    "The dataset has many gaps in the `VehicleType`, `Gearbox`, `Model`, `FuelType` and `NotRepaired` columns."
   ]
  },
  {
   "cell_type": "markdown",
   "metadata": {},
   "source": [
    "### Data preprocessing"
   ]
  },
  {
   "cell_type": "markdown",
   "metadata": {},
   "source": [
    "First, let's remove 4 duplicates."
   ]
  },
  {
   "cell_type": "code",
   "execution_count": 9,
   "metadata": {},
   "outputs": [
    {
     "name": "stdout",
     "output_type": "stream",
     "text": [
      "Number of duplicates in the dataset: 0\n"
     ]
    }
   ],
   "source": [
    "df = df.drop_duplicates()\n",
    "print('Number of duplicates in the dataset:', df.duplicated().sum())"
   ]
  },
  {
   "cell_type": "code",
   "execution_count": 10,
   "metadata": {},
   "outputs": [],
   "source": [
    "#reduce the names of all columns to lowercase\n",
    "#df.columns = df.columns.str.lower()"
   ]
  },
  {
   "cell_type": "markdown",
   "metadata": {},
   "source": [
    "Now let's remove the columns that are not needed for our model: `DateCrawled`, `RegistrationMonth`, `DateCreated`, `NumberOfPictures`, `PostalCode`, `LastSeen`."
   ]
  },
  {
   "cell_type": "code",
   "execution_count": 11,
   "metadata": {},
   "outputs": [
    {
     "data": {
      "text/html": [
       "<div>\n",
       "<style scoped>\n",
       "    .dataframe tbody tr th:only-of-type {\n",
       "        vertical-align: middle;\n",
       "    }\n",
       "\n",
       "    .dataframe tbody tr th {\n",
       "        vertical-align: top;\n",
       "    }\n",
       "\n",
       "    .dataframe thead th {\n",
       "        text-align: right;\n",
       "    }\n",
       "</style>\n",
       "<table border=\"1\" class=\"dataframe\">\n",
       "  <thead>\n",
       "    <tr style=\"text-align: right;\">\n",
       "      <th></th>\n",
       "      <th>Price</th>\n",
       "      <th>VehicleType</th>\n",
       "      <th>RegistrationYear</th>\n",
       "      <th>Gearbox</th>\n",
       "      <th>Power</th>\n",
       "      <th>Model</th>\n",
       "      <th>Kilometer</th>\n",
       "      <th>FuelType</th>\n",
       "      <th>Brand</th>\n",
       "      <th>NotRepaired</th>\n",
       "    </tr>\n",
       "  </thead>\n",
       "  <tbody>\n",
       "    <tr>\n",
       "      <th>162343</th>\n",
       "      <td>15500</td>\n",
       "      <td>suv</td>\n",
       "      <td>2003</td>\n",
       "      <td>auto</td>\n",
       "      <td>292</td>\n",
       "      <td>NaN</td>\n",
       "      <td>100000</td>\n",
       "      <td>petrol</td>\n",
       "      <td>sonstige_autos</td>\n",
       "      <td>NaN</td>\n",
       "    </tr>\n",
       "    <tr>\n",
       "      <th>328075</th>\n",
       "      <td>4100</td>\n",
       "      <td>convertible</td>\n",
       "      <td>1996</td>\n",
       "      <td>manual</td>\n",
       "      <td>150</td>\n",
       "      <td>3er</td>\n",
       "      <td>150000</td>\n",
       "      <td>petrol</td>\n",
       "      <td>bmw</td>\n",
       "      <td>no</td>\n",
       "    </tr>\n",
       "    <tr>\n",
       "      <th>192744</th>\n",
       "      <td>2999</td>\n",
       "      <td>sedan</td>\n",
       "      <td>2005</td>\n",
       "      <td>manual</td>\n",
       "      <td>105</td>\n",
       "      <td>astra</td>\n",
       "      <td>150000</td>\n",
       "      <td>petrol</td>\n",
       "      <td>opel</td>\n",
       "      <td>no</td>\n",
       "    </tr>\n",
       "    <tr>\n",
       "      <th>328771</th>\n",
       "      <td>9000</td>\n",
       "      <td>bus</td>\n",
       "      <td>2009</td>\n",
       "      <td>manual</td>\n",
       "      <td>105</td>\n",
       "      <td>touran</td>\n",
       "      <td>150000</td>\n",
       "      <td>gasoline</td>\n",
       "      <td>volkswagen</td>\n",
       "      <td>no</td>\n",
       "    </tr>\n",
       "    <tr>\n",
       "      <th>176612</th>\n",
       "      <td>1250</td>\n",
       "      <td>bus</td>\n",
       "      <td>2000</td>\n",
       "      <td>manual</td>\n",
       "      <td>101</td>\n",
       "      <td>zafira</td>\n",
       "      <td>150000</td>\n",
       "      <td>gasoline</td>\n",
       "      <td>opel</td>\n",
       "      <td>no</td>\n",
       "    </tr>\n",
       "  </tbody>\n",
       "</table>\n",
       "</div>"
      ],
      "text/plain": [
       "        Price  VehicleType  RegistrationYear Gearbox  Power   Model  \\\n",
       "162343  15500          suv              2003    auto    292     NaN   \n",
       "328075   4100  convertible              1996  manual    150     3er   \n",
       "192744   2999        sedan              2005  manual    105   astra   \n",
       "328771   9000          bus              2009  manual    105  touran   \n",
       "176612   1250          bus              2000  manual    101  zafira   \n",
       "\n",
       "        Kilometer  FuelType           Brand NotRepaired  \n",
       "162343     100000    petrol  sonstige_autos         NaN  \n",
       "328075     150000    petrol             bmw          no  \n",
       "192744     150000    petrol            opel          no  \n",
       "328771     150000  gasoline      volkswagen          no  \n",
       "176612     150000  gasoline            opel          no  "
      ]
     },
     "execution_count": 11,
     "metadata": {},
     "output_type": "execute_result"
    }
   ],
   "source": [
    "df = df.drop(['DateCrawled', 'RegistrationMonth', 'DateCreated',\n",
    "              'NumberOfPictures', 'PostalCode', 'LastSeen'], axis=1)\n",
    "df.sample(5)"
   ]
  },
  {
   "cell_type": "code",
   "execution_count": 12,
   "metadata": {},
   "outputs": [
    {
     "data": {
      "text/plain": [
       "10772"
      ]
     },
     "execution_count": 12,
     "metadata": {},
     "output_type": "execute_result"
    }
   ],
   "source": [
    "#check how many rows with zero price\n",
    "len(df[df['Price'] == 0])"
   ]
  },
  {
   "cell_type": "markdown",
   "metadata": {},
   "source": [
    "The dataset contains data with a zero price. Because this data is the target feature, and there is nothing to replace them with, then we will not use these rows"
   ]
  },
  {
   "cell_type": "code",
   "execution_count": 13,
   "metadata": {},
   "outputs": [
    {
     "data": {
      "text/plain": [
       "0"
      ]
     },
     "execution_count": 13,
     "metadata": {},
     "output_type": "execute_result"
    }
   ],
   "source": [
    "df = df[df['Price'] > 0].reset_index(drop=True)\n",
    "len(df[df['Price'] == 0])"
   ]
  },
  {
   "cell_type": "markdown",
   "metadata": {},
   "source": [
    "Now let's move on to passes."
   ]
  },
  {
   "cell_type": "code",
   "execution_count": 14,
   "metadata": {},
   "outputs": [
    {
     "data": {
      "text/plain": [
       "Price                   0\n",
       "VehicleType         33750\n",
       "RegistrationYear        0\n",
       "Gearbox             17355\n",
       "Power                   0\n",
       "Model               17521\n",
       "Kilometer               0\n",
       "FuelType            29459\n",
       "Brand                   0\n",
       "NotRepaired         65866\n",
       "dtype: int64"
      ]
     },
     "execution_count": 14,
     "metadata": {},
     "output_type": "execute_result"
    }
   ],
   "source": [
    "#look again at the gaps\n",
    "df.isna().sum()"
   ]
  },
  {
   "cell_type": "markdown",
   "metadata": {},
   "source": [
    "<b>Let's start with the `NotRepaired` column. Let's look at the unique values in this column.</b>"
   ]
  },
  {
   "cell_type": "code",
   "execution_count": 15,
   "metadata": {},
   "outputs": [
    {
     "data": {
      "text/plain": [
       "array([nan, 'yes', 'no'], dtype=object)"
      ]
     },
     "execution_count": 15,
     "metadata": {},
     "output_type": "execute_result"
    }
   ],
   "source": [
    "df['NotRepaired'].unique()"
   ]
  },
  {
   "cell_type": "markdown",
   "metadata": {},
   "source": [
    "We have 3 values in this column: 'yes', 'no' and nan. Let's replace 'yes' with 1, 'no' with 0, we'll also replace gaps with 0, because since nothing was indicated in this column, it means, most likely, there was nothing to indicate and the car was not repaired."
   ]
  },
  {
   "cell_type": "code",
   "execution_count": 16,
   "metadata": {},
   "outputs": [],
   "source": [
    "df['NotRepaired'] = df['NotRepaired'].replace({'yes':1, 'no':0})"
   ]
  },
  {
   "cell_type": "code",
   "execution_count": 17,
   "metadata": {},
   "outputs": [],
   "source": [
    "df['NotRepaired'] = df['NotRepaired'].fillna(0).astype(int)"
   ]
  },
  {
   "cell_type": "code",
   "execution_count": 18,
   "metadata": {},
   "outputs": [
    {
     "data": {
      "text/plain": [
       "array([0, 1])"
      ]
     },
     "execution_count": 18,
     "metadata": {},
     "output_type": "execute_result"
    }
   ],
   "source": [
    "#check if the replacement was successful\n",
    "df['NotRepaired'].unique()"
   ]
  },
  {
   "cell_type": "markdown",
   "metadata": {},
   "source": [
    "<b>Now let's deal with outliers in the `RegistrationYear` and `Power` columns.</b>"
   ]
  },
  {
   "cell_type": "markdown",
   "metadata": {},
   "source": [
    "As we know, the first car was produced by Karl Benz in 1885 and it was called \"Benz Patent-Motorwagen\". Therefore, all dates before 1885 and after 2022 are outliers. And because the year of registration of the car is very important information, we cannot replace it with any average values. To determine the boundaries of outliers, we will construct a boxplot."
   ]
  },
  {
   "cell_type": "code",
   "execution_count": 19,
   "metadata": {},
   "outputs": [
    {
     "data": {
      "text/plain": [
       "(1980.0, 2020.0)"
      ]
     },
     "execution_count": 19,
     "metadata": {},
     "output_type": "execute_result"
    },
    {
     "data": {
      "image/png": "[encoded data removed]",
      "text/plain": [
       "<Figure size 432x288 with 1 Axes>"
      ]
     },
     "metadata": {
      "needs_background": "light"
     },
     "output_type": "display_data"
    }
   ],
   "source": [
    "sns.boxplot(data=df['RegistrationYear'])\n",
    "plt.ylim(1980, 2020)"
   ]
  },
  {
   "cell_type": "markdown",
   "metadata": {},
   "source": [
    "The histogram shows that emissions begin before 1986 and after 2016. Let's filter this data."
   ]
  },
  {
   "cell_type": "code",
   "execution_count": 20,
   "metadata": {},
   "outputs": [
    {
     "name": "stdout",
     "output_type": "stream",
     "text": [
      "Number of rows with incorrect year: 19436\n"
     ]
    }
   ],
   "source": [
    "print('Number of rows with incorrect year:', len(df.query('RegistrationYear < 1986 or RegistrationYear > 2016')))"
   ]
  },
  {
   "cell_type": "code",
   "execution_count": 21,
   "metadata": {},
   "outputs": [],
   "source": [
    "df = df.query('RegistrationYear >= 1986 and RegistrationYear <= 2017')"
   ]
  },
  {
   "cell_type": "markdown",
   "metadata": {},
   "source": [
    "As we remember from the descriptive table in the `Power` column, the minimum value is 0 and the maximum value is 20,000. These are clearly outliers and therefore we need to replace these data with median values depending on the car model. To date, the most powerful car is the Lotus Evija with 2,000 horsepower. But to determine the boundary of outliers, let's build a boxplot."
   ]
  },
  {
   "cell_type": "code",
   "execution_count": 22,
   "metadata": {},
   "outputs": [
    {
     "data": {
      "text/plain": [
       "(0.0, 400.0)"
      ]
     },
     "execution_count": 22,
     "metadata": {},
     "output_type": "execute_result"
    },
    {
     "data": {
      "image/png": "[encoded data removed]",
      "text/plain": [
       "<Figure size 432x288 with 1 Axes>"
      ]
     },
     "metadata": {
      "needs_background": "light"
     },
     "output_type": "display_data"
    }
   ],
   "source": [
    "sns.boxplot(data=df['Power'])\n",
    "plt.ylim(0, 400)"
   ]
  },
  {
   "cell_type": "markdown",
   "metadata": {},
   "source": [
    "You can see in the histogram that emissions start after 260 horsepower."
   ]
  },
  {
   "cell_type": "code",
   "execution_count": 23,
   "metadata": {},
   "outputs": [
    {
     "name": "stdout",
     "output_type": "stream",
     "text": [
      "Number of rows with incorrect cardinality: 40229\n"
     ]
    }
   ],
   "source": [
    "print('Number of rows with incorrect cardinality:', len(df.query('Power == 0 or Power > 260')))"
   ]
  },
  {
   "cell_type": "code",
   "execution_count": 24,
   "metadata": {},
   "outputs": [],
   "source": [
    "#replace incorrect values in the column with gaps\n",
    "df.loc[(df['Power'] == 0) | (df['Power'] > 260), 'Power'] = None"
   ]
  },
  {
   "cell_type": "code",
   "execution_count": 25,
   "metadata": {},
   "outputs": [
    {
     "data": {
      "text/plain": [
       "Price                   0\n",
       "VehicleType         29097\n",
       "RegistrationYear        0\n",
       "Gearbox             15838\n",
       "Power                4843\n",
       "Model               15839\n",
       "Kilometer               0\n",
       "FuelType            26856\n",
       "Brand                   0\n",
       "NotRepaired             0\n",
       "dtype: int64"
      ]
     },
     "execution_count": 25,
     "metadata": {},
     "output_type": "execute_result"
    }
   ],
   "source": [
    "#and now replace gaps with medians depending on the model\n",
    "df['Power'] = df['Power'].fillna(df.groupby('Model')['Power'].transform('median'))\n",
    "df.isna().sum()"
   ]
  },
  {
   "cell_type": "markdown",
   "metadata": {},
   "source": [
    "And the gaps remaining in the `Power` column will be replaced by medians depending on the brand of the car."
   ]
  },
  {
   "cell_type": "code",
   "execution_count": 26,
   "metadata": {},
   "outputs": [
    {
     "data": {
      "text/plain": [
       "Price                   0\n",
       "VehicleType         29097\n",
       "RegistrationYear        0\n",
       "Gearbox             15838\n",
       "Power                   0\n",
       "Model               15839\n",
       "Kilometer               0\n",
       "FuelType            26856\n",
       "Brand                   0\n",
       "NotRepaired             0\n",
       "dtype: int64"
      ]
     },
     "execution_count": 26,
     "metadata": {},
     "output_type": "execute_result"
    }
   ],
   "source": [
    "df['Power'] = df['Power'].fillna(df.groupby('Brand')['Power'].transform('median'))\n",
    "df.isna().sum()"
   ]
  },
  {
   "cell_type": "markdown",
   "metadata": {},
   "source": [
    "We still have gaps in the `VehicleType`, `Gearbox`, `Model` and `FuelType` columns. The data of the `Model` column is the main one for training the model and it will not be possible to restore this data, so we will replace the gaps in this column with the model type `Other`. The data of the `VehicleType`, `Gearbox` and `FuelType` columns will be filled in based on the most common data in similar car models."
   ]
  },
  {
   "cell_type": "code",
   "execution_count": 27,
   "metadata": {},
   "outputs": [
    {
     "name": "stdout",
     "output_type": "stream",
     "text": [
      "The percentage of missing data by models from the entire dataset: 4.741477374779975\n"
     ]
    }
   ],
   "source": [
    "print('The percentage of missing data by models from the entire dataset:', (df['Model'].isna().sum()/len(df))*100)"
   ]
  },
  {
   "cell_type": "markdown",
   "metadata": {},
   "source": [
    "Five percent of the dataset is a lot, you can’t delete it. Let's replace gaps with `Other`."
   ]
  },
  {
   "cell_type": "code",
   "execution_count": 28,
   "metadata": {},
   "outputs": [
    {
     "data": {
      "text/plain": [
       "0"
      ]
     },
     "execution_count": 28,
     "metadata": {},
     "output_type": "execute_result"
    }
   ],
   "source": [
    "df['Model'] = df['Model'].fillna('other')\n",
    "\n",
    "#check the number of remaining gaps in the given column\n",
    "df['Model'].isna().sum()"
   ]
  },
  {
   "cell_type": "markdown",
   "metadata": {},
   "source": [
    "There are gaps in 3 more columns. And since they contain categorical data, replacing them with a median or an average will not work. We need to calculate the most frequent number of values for a specific car model in the features in which we will replace the gaps and replace the gaps with this most frequent value.Остались пропуски еще в 3 столбцах. И так как в них содержатся категориальные данные, то заменить их медианой или средним не получится. Нужно посчитать самое частое количество значений для конкретной модели автомобиля в признаках, в которых будем заменять пропуски и заменить пропуски этим самым частым значением."
   ]
  },
  {
   "cell_type": "code",
   "execution_count": 29,
   "metadata": {},
   "outputs": [],
   "source": [
    "#let's write a lambda function, because the data is transformed by the function\n",
    "#and the standard functions of the transform method won't work for us here\n",
    "df['VehicleType'] = df['VehicleType']\\\n",
    ".fillna(df.groupby('Model')['VehicleType']\\\n",
    ".transform(lambda x: x.value_counts().idxmax())) "
   ]
  },
  {
   "cell_type": "code",
   "execution_count": 30,
   "metadata": {},
   "outputs": [],
   "source": [
    "df['Gearbox'] = df['Gearbox']\\\n",
    ".fillna(df.groupby('Model')['Gearbox']\\\n",
    ".transform(lambda x: x.value_counts().idxmax())) "
   ]
  },
  {
   "cell_type": "code",
   "execution_count": 31,
   "metadata": {},
   "outputs": [],
   "source": [
    "df['FuelType'] = df['FuelType']\\\n",
    ".fillna(df.groupby('Model')['FuelType']\\\n",
    ".transform(lambda x: x.value_counts().idxmax())) "
   ]
  },
  {
   "cell_type": "code",
   "execution_count": 32,
   "metadata": {},
   "outputs": [
    {
     "data": {
      "text/plain": [
       "Price               0\n",
       "VehicleType         0\n",
       "RegistrationYear    0\n",
       "Gearbox             0\n",
       "Power               0\n",
       "Model               0\n",
       "Kilometer           0\n",
       "FuelType            0\n",
       "Brand               0\n",
       "NotRepaired         0\n",
       "dtype: int64"
      ]
     },
     "execution_count": 32,
     "metadata": {},
     "output_type": "execute_result"
    }
   ],
   "source": [
    "#check if there are still gaps in the dataset\n",
    "df.isna().sum()"
   ]
  },
  {
   "cell_type": "markdown",
   "metadata": {},
   "source": [
    "### Data Encoding and Sampling"
   ]
  },
  {
   "cell_type": "markdown",
   "metadata": {},
   "source": [
    "Let's look again at our dataset to understand whether to use direct or ordinal encoding."
   ]
  },
  {
   "cell_type": "code",
   "execution_count": 33,
   "metadata": {},
   "outputs": [
    {
     "data": {
      "text/html": [
       "<div>\n",
       "<style scoped>\n",
       "    .dataframe tbody tr th:only-of-type {\n",
       "        vertical-align: middle;\n",
       "    }\n",
       "\n",
       "    .dataframe tbody tr th {\n",
       "        vertical-align: top;\n",
       "    }\n",
       "\n",
       "    .dataframe thead th {\n",
       "        text-align: right;\n",
       "    }\n",
       "</style>\n",
       "<table border=\"1\" class=\"dataframe\">\n",
       "  <thead>\n",
       "    <tr style=\"text-align: right;\">\n",
       "      <th></th>\n",
       "      <th>Price</th>\n",
       "      <th>VehicleType</th>\n",
       "      <th>RegistrationYear</th>\n",
       "      <th>Gearbox</th>\n",
       "      <th>Power</th>\n",
       "      <th>Model</th>\n",
       "      <th>Kilometer</th>\n",
       "      <th>FuelType</th>\n",
       "      <th>Brand</th>\n",
       "      <th>NotRepaired</th>\n",
       "    </tr>\n",
       "  </thead>\n",
       "  <tbody>\n",
       "    <tr>\n",
       "      <th>250970</th>\n",
       "      <td>8750</td>\n",
       "      <td>bus</td>\n",
       "      <td>2010</td>\n",
       "      <td>manual</td>\n",
       "      <td>109.0</td>\n",
       "      <td>berlingo</td>\n",
       "      <td>150000</td>\n",
       "      <td>gasoline</td>\n",
       "      <td>citroen</td>\n",
       "      <td>0</td>\n",
       "    </tr>\n",
       "    <tr>\n",
       "      <th>117802</th>\n",
       "      <td>3800</td>\n",
       "      <td>small</td>\n",
       "      <td>2002</td>\n",
       "      <td>manual</td>\n",
       "      <td>116.0</td>\n",
       "      <td>cooper</td>\n",
       "      <td>90000</td>\n",
       "      <td>petrol</td>\n",
       "      <td>mini</td>\n",
       "      <td>0</td>\n",
       "    </tr>\n",
       "    <tr>\n",
       "      <th>204507</th>\n",
       "      <td>2800</td>\n",
       "      <td>small</td>\n",
       "      <td>2017</td>\n",
       "      <td>auto</td>\n",
       "      <td>61.0</td>\n",
       "      <td>fortwo</td>\n",
       "      <td>150000</td>\n",
       "      <td>gasoline</td>\n",
       "      <td>smart</td>\n",
       "      <td>0</td>\n",
       "    </tr>\n",
       "    <tr>\n",
       "      <th>230940</th>\n",
       "      <td>18300</td>\n",
       "      <td>wagon</td>\n",
       "      <td>2012</td>\n",
       "      <td>auto</td>\n",
       "      <td>170.0</td>\n",
       "      <td>passat</td>\n",
       "      <td>80000</td>\n",
       "      <td>gasoline</td>\n",
       "      <td>volkswagen</td>\n",
       "      <td>0</td>\n",
       "    </tr>\n",
       "    <tr>\n",
       "      <th>222659</th>\n",
       "      <td>3890</td>\n",
       "      <td>sedan</td>\n",
       "      <td>2010</td>\n",
       "      <td>manual</td>\n",
       "      <td>60.0</td>\n",
       "      <td>punto</td>\n",
       "      <td>125000</td>\n",
       "      <td>cng</td>\n",
       "      <td>fiat</td>\n",
       "      <td>0</td>\n",
       "    </tr>\n",
       "  </tbody>\n",
       "</table>\n",
       "</div>"
      ],
      "text/plain": [
       "        Price VehicleType  RegistrationYear Gearbox  Power     Model  \\\n",
       "250970   8750         bus              2010  manual  109.0  berlingo   \n",
       "117802   3800       small              2002  manual  116.0    cooper   \n",
       "204507   2800       small              2017    auto   61.0    fortwo   \n",
       "230940  18300       wagon              2012    auto  170.0    passat   \n",
       "222659   3890       sedan              2010  manual   60.0     punto   \n",
       "\n",
       "        Kilometer  FuelType       Brand  NotRepaired  \n",
       "250970     150000  gasoline     citroen            0  \n",
       "117802      90000    petrol        mini            0  \n",
       "204507     150000  gasoline       smart            0  \n",
       "230940      80000  gasoline  volkswagen            0  \n",
       "222659     125000       cng        fiat            0  "
      ]
     },
     "execution_count": 33,
     "metadata": {},
     "output_type": "execute_result"
    }
   ],
   "source": [
    "df.sample(5)"
   ]
  },
  {
   "cell_type": "markdown",
   "metadata": {},
   "source": [
    "Let's save separately our categorical features without coding in order to compare the result of training the model on them with and without coding."
   ]
  },
  {
   "cell_type": "markdown",
   "metadata": {},
   "source": [
    "If you use direct coding (OHE), there will be a lot of columns, because we need to encode both brand and model, where there is a lot of data, so we apply ordinal coding (OE) to our categorical features. But since linear regression requires direct coding, we will prepare a separate dataset for linear regression."
   ]
  },
  {
   "cell_type": "code",
   "execution_count": 34,
   "metadata": {},
   "outputs": [
    {
     "data": {
      "text/html": [
       "<div>\n",
       "<style scoped>\n",
       "    .dataframe tbody tr th:only-of-type {\n",
       "        vertical-align: middle;\n",
       "    }\n",
       "\n",
       "    .dataframe tbody tr th {\n",
       "        vertical-align: top;\n",
       "    }\n",
       "\n",
       "    .dataframe thead th {\n",
       "        text-align: right;\n",
       "    }\n",
       "</style>\n",
       "<table border=\"1\" class=\"dataframe\">\n",
       "  <thead>\n",
       "    <tr style=\"text-align: right;\">\n",
       "      <th></th>\n",
       "      <th>Price</th>\n",
       "      <th>RegistrationYear</th>\n",
       "      <th>Power</th>\n",
       "      <th>Kilometer</th>\n",
       "      <th>NotRepaired</th>\n",
       "      <th>VehicleType_convertible</th>\n",
       "      <th>VehicleType_coupe</th>\n",
       "      <th>VehicleType_other</th>\n",
       "      <th>VehicleType_sedan</th>\n",
       "      <th>VehicleType_small</th>\n",
       "      <th>...</th>\n",
       "      <th>Brand_seat</th>\n",
       "      <th>Brand_skoda</th>\n",
       "      <th>Brand_smart</th>\n",
       "      <th>Brand_sonstige_autos</th>\n",
       "      <th>Brand_subaru</th>\n",
       "      <th>Brand_suzuki</th>\n",
       "      <th>Brand_toyota</th>\n",
       "      <th>Brand_trabant</th>\n",
       "      <th>Brand_volkswagen</th>\n",
       "      <th>Brand_volvo</th>\n",
       "    </tr>\n",
       "  </thead>\n",
       "  <tbody>\n",
       "    <tr>\n",
       "      <th>202927</th>\n",
       "      <td>1990</td>\n",
       "      <td>1993</td>\n",
       "      <td>68.0</td>\n",
       "      <td>150000</td>\n",
       "      <td>0</td>\n",
       "      <td>0</td>\n",
       "      <td>0</td>\n",
       "      <td>0</td>\n",
       "      <td>0</td>\n",
       "      <td>0</td>\n",
       "      <td>...</td>\n",
       "      <td>0</td>\n",
       "      <td>0</td>\n",
       "      <td>0</td>\n",
       "      <td>0</td>\n",
       "      <td>0</td>\n",
       "      <td>0</td>\n",
       "      <td>0</td>\n",
       "      <td>0</td>\n",
       "      <td>1</td>\n",
       "      <td>0</td>\n",
       "    </tr>\n",
       "    <tr>\n",
       "      <th>194802</th>\n",
       "      <td>600</td>\n",
       "      <td>1996</td>\n",
       "      <td>102.0</td>\n",
       "      <td>150000</td>\n",
       "      <td>0</td>\n",
       "      <td>0</td>\n",
       "      <td>1</td>\n",
       "      <td>0</td>\n",
       "      <td>0</td>\n",
       "      <td>0</td>\n",
       "      <td>...</td>\n",
       "      <td>0</td>\n",
       "      <td>0</td>\n",
       "      <td>0</td>\n",
       "      <td>0</td>\n",
       "      <td>0</td>\n",
       "      <td>0</td>\n",
       "      <td>0</td>\n",
       "      <td>0</td>\n",
       "      <td>0</td>\n",
       "      <td>0</td>\n",
       "    </tr>\n",
       "    <tr>\n",
       "      <th>23750</th>\n",
       "      <td>1499</td>\n",
       "      <td>1998</td>\n",
       "      <td>165.0</td>\n",
       "      <td>150000</td>\n",
       "      <td>0</td>\n",
       "      <td>0</td>\n",
       "      <td>0</td>\n",
       "      <td>0</td>\n",
       "      <td>1</td>\n",
       "      <td>0</td>\n",
       "      <td>...</td>\n",
       "      <td>0</td>\n",
       "      <td>0</td>\n",
       "      <td>0</td>\n",
       "      <td>0</td>\n",
       "      <td>0</td>\n",
       "      <td>0</td>\n",
       "      <td>0</td>\n",
       "      <td>0</td>\n",
       "      <td>0</td>\n",
       "      <td>0</td>\n",
       "    </tr>\n",
       "    <tr>\n",
       "      <th>136766</th>\n",
       "      <td>12500</td>\n",
       "      <td>2011</td>\n",
       "      <td>143.0</td>\n",
       "      <td>90000</td>\n",
       "      <td>1</td>\n",
       "      <td>0</td>\n",
       "      <td>0</td>\n",
       "      <td>0</td>\n",
       "      <td>1</td>\n",
       "      <td>0</td>\n",
       "      <td>...</td>\n",
       "      <td>0</td>\n",
       "      <td>0</td>\n",
       "      <td>0</td>\n",
       "      <td>0</td>\n",
       "      <td>0</td>\n",
       "      <td>0</td>\n",
       "      <td>0</td>\n",
       "      <td>0</td>\n",
       "      <td>0</td>\n",
       "      <td>0</td>\n",
       "    </tr>\n",
       "    <tr>\n",
       "      <th>151996</th>\n",
       "      <td>12200</td>\n",
       "      <td>2008</td>\n",
       "      <td>184.0</td>\n",
       "      <td>100000</td>\n",
       "      <td>0</td>\n",
       "      <td>0</td>\n",
       "      <td>0</td>\n",
       "      <td>0</td>\n",
       "      <td>0</td>\n",
       "      <td>0</td>\n",
       "      <td>...</td>\n",
       "      <td>0</td>\n",
       "      <td>0</td>\n",
       "      <td>0</td>\n",
       "      <td>0</td>\n",
       "      <td>0</td>\n",
       "      <td>0</td>\n",
       "      <td>0</td>\n",
       "      <td>0</td>\n",
       "      <td>0</td>\n",
       "      <td>0</td>\n",
       "    </tr>\n",
       "  </tbody>\n",
       "</table>\n",
       "<p>5 rows × 304 columns</p>\n",
       "</div>"
      ],
      "text/plain": [
       "        Price  RegistrationYear  Power  Kilometer  NotRepaired  \\\n",
       "202927   1990              1993   68.0     150000            0   \n",
       "194802    600              1996  102.0     150000            0   \n",
       "23750    1499              1998  165.0     150000            0   \n",
       "136766  12500              2011  143.0      90000            1   \n",
       "151996  12200              2008  184.0     100000            0   \n",
       "\n",
       "        VehicleType_convertible  VehicleType_coupe  VehicleType_other  \\\n",
       "202927                        0                  0                  0   \n",
       "194802                        0                  1                  0   \n",
       "23750                         0                  0                  0   \n",
       "136766                        0                  0                  0   \n",
       "151996                        0                  0                  0   \n",
       "\n",
       "        VehicleType_sedan  VehicleType_small  ...  Brand_seat  Brand_skoda  \\\n",
       "202927                  0                  0  ...           0            0   \n",
       "194802                  0                  0  ...           0            0   \n",
       "23750                   1                  0  ...           0            0   \n",
       "136766                  1                  0  ...           0            0   \n",
       "151996                  0                  0  ...           0            0   \n",
       "\n",
       "        Brand_smart  Brand_sonstige_autos  Brand_subaru  Brand_suzuki  \\\n",
       "202927            0                     0             0             0   \n",
       "194802            0                     0             0             0   \n",
       "23750             0                     0             0             0   \n",
       "136766            0                     0             0             0   \n",
       "151996            0                     0             0             0   \n",
       "\n",
       "        Brand_toyota  Brand_trabant  Brand_volkswagen  Brand_volvo  \n",
       "202927             0              0                 1            0  \n",
       "194802             0              0                 0            0  \n",
       "23750              0              0                 0            0  \n",
       "136766             0              0                 0            0  \n",
       "151996             0              0                 0            0  \n",
       "\n",
       "[5 rows x 304 columns]"
      ]
     },
     "execution_count": 34,
     "metadata": {},
     "output_type": "execute_result"
    }
   ],
   "source": [
    "df_ohe = pd.get_dummies(df, drop_first=True)\n",
    "df_ohe.sample(5)"
   ]
  },
  {
   "cell_type": "code",
   "execution_count": 35,
   "metadata": {},
   "outputs": [
    {
     "name": "stdout",
     "output_type": "stream",
     "text": [
      "OHE training sample size: 250539\n",
      "OHE test sample size: 83513\n"
     ]
    }
   ],
   "source": [
    "#and immediately prepare the features for linear regression\n",
    "features_ohe = df_ohe.drop(['Price'], axis=1)\n",
    "target_ohe = df_ohe['Price'].reset_index(drop=True)\n",
    "\n",
    "features_train_ohe, features_test_ohe, target_train_ohe, target_test_ohe = train_test_split(\n",
    "    features_ohe, target_ohe, test_size=0.25, random_state=12345)\n",
    "\n",
    "print('OHE training sample size:', len(target_train_ohe))\n",
    "print('OHE test sample size:', len(target_test_ohe))"
   ]
  },
  {
   "cell_type": "markdown",
   "metadata": {},
   "source": [
    "And for the other three models, we will prepare data with ordinal coding and for comparison without coding at all."
   ]
  },
  {
   "cell_type": "code",
   "execution_count": 36,
   "metadata": {},
   "outputs": [
    {
     "name": "stdout",
     "output_type": "stream",
     "text": [
      "Training sample size: 250539\n",
      "Test sample size: 83513\n"
     ]
    }
   ],
   "source": [
    "features = df.drop(['Price'], axis=1)\n",
    "target = df['Price'].reset_index(drop=True)\n",
    "\n",
    "features_train, features_test, target_train, target_test = train_test_split(\n",
    "    features, target, test_size=0.25, random_state=12345)\n",
    "\n",
    "print('Training sample size:', len(target_train))\n",
    "print('Test sample size:', len(target_test))"
   ]
  },
  {
   "cell_type": "code",
   "execution_count": 37,
   "metadata": {},
   "outputs": [],
   "source": [
    "df_oe = df.copy(deep=True)\n",
    "category = ['VehicleType', 'Gearbox', 'Model', 'FuelType', 'Brand']\n",
    "encoder = OrdinalEncoder()\n",
    "\n",
    "df_oe[category] = encoder.fit_transform(df_oe[category])"
   ]
  },
  {
   "cell_type": "code",
   "execution_count": 38,
   "metadata": {},
   "outputs": [
    {
     "data": {
      "text/html": [
       "<div>\n",
       "<style scoped>\n",
       "    .dataframe tbody tr th:only-of-type {\n",
       "        vertical-align: middle;\n",
       "    }\n",
       "\n",
       "    .dataframe tbody tr th {\n",
       "        vertical-align: top;\n",
       "    }\n",
       "\n",
       "    .dataframe thead th {\n",
       "        text-align: right;\n",
       "    }\n",
       "</style>\n",
       "<table border=\"1\" class=\"dataframe\">\n",
       "  <thead>\n",
       "    <tr style=\"text-align: right;\">\n",
       "      <th></th>\n",
       "      <th>Price</th>\n",
       "      <th>VehicleType</th>\n",
       "      <th>RegistrationYear</th>\n",
       "      <th>Gearbox</th>\n",
       "      <th>Power</th>\n",
       "      <th>Model</th>\n",
       "      <th>Kilometer</th>\n",
       "      <th>FuelType</th>\n",
       "      <th>Brand</th>\n",
       "      <th>NotRepaired</th>\n",
       "    </tr>\n",
       "  </thead>\n",
       "  <tbody>\n",
       "    <tr>\n",
       "      <th>181228</th>\n",
       "      <td>6890</td>\n",
       "      <td>7.0</td>\n",
       "      <td>2006</td>\n",
       "      <td>1.0</td>\n",
       "      <td>102.0</td>\n",
       "      <td>62.0</td>\n",
       "      <td>90000</td>\n",
       "      <td>6.0</td>\n",
       "      <td>38.0</td>\n",
       "      <td>0</td>\n",
       "    </tr>\n",
       "    <tr>\n",
       "      <th>181034</th>\n",
       "      <td>7399</td>\n",
       "      <td>4.0</td>\n",
       "      <td>2008</td>\n",
       "      <td>1.0</td>\n",
       "      <td>102.0</td>\n",
       "      <td>163.0</td>\n",
       "      <td>100000</td>\n",
       "      <td>6.0</td>\n",
       "      <td>31.0</td>\n",
       "      <td>0</td>\n",
       "    </tr>\n",
       "    <tr>\n",
       "      <th>1426</th>\n",
       "      <td>2500</td>\n",
       "      <td>4.0</td>\n",
       "      <td>2000</td>\n",
       "      <td>0.0</td>\n",
       "      <td>136.0</td>\n",
       "      <td>11.0</td>\n",
       "      <td>150000</td>\n",
       "      <td>2.0</td>\n",
       "      <td>2.0</td>\n",
       "      <td>0</td>\n",
       "    </tr>\n",
       "    <tr>\n",
       "      <th>15186</th>\n",
       "      <td>300</td>\n",
       "      <td>7.0</td>\n",
       "      <td>1998</td>\n",
       "      <td>1.0</td>\n",
       "      <td>101.0</td>\n",
       "      <td>42.0</td>\n",
       "      <td>150000</td>\n",
       "      <td>6.0</td>\n",
       "      <td>24.0</td>\n",
       "      <td>1</td>\n",
       "    </tr>\n",
       "    <tr>\n",
       "      <th>86239</th>\n",
       "      <td>2900</td>\n",
       "      <td>0.0</td>\n",
       "      <td>2011</td>\n",
       "      <td>1.0</td>\n",
       "      <td>75.0</td>\n",
       "      <td>166.0</td>\n",
       "      <td>150000</td>\n",
       "      <td>2.0</td>\n",
       "      <td>25.0</td>\n",
       "      <td>0</td>\n",
       "    </tr>\n",
       "  </tbody>\n",
       "</table>\n",
       "</div>"
      ],
      "text/plain": [
       "        Price  VehicleType  RegistrationYear  Gearbox  Power  Model  \\\n",
       "181228   6890          7.0              2006      1.0  102.0   62.0   \n",
       "181034   7399          4.0              2008      1.0  102.0  163.0   \n",
       "1426     2500          4.0              2000      0.0  136.0   11.0   \n",
       "15186     300          7.0              1998      1.0  101.0   42.0   \n",
       "86239    2900          0.0              2011      1.0   75.0  166.0   \n",
       "\n",
       "        Kilometer  FuelType  Brand  NotRepaired  \n",
       "181228      90000       6.0   38.0            0  \n",
       "181034     100000       6.0   31.0            0  \n",
       "1426       150000       2.0    2.0            0  \n",
       "15186      150000       6.0   24.0            1  \n",
       "86239      150000       2.0   25.0            0  "
      ]
     },
     "execution_count": 38,
     "metadata": {},
     "output_type": "execute_result"
    }
   ],
   "source": [
    "# check if everything worked out\n",
    "df_oe.sample(5)"
   ]
  },
  {
   "cell_type": "markdown",
   "metadata": {},
   "source": [
    "Encoding was successful. Now let's scale the features and divide our sample into training and test in a ratio of 3:1."
   ]
  },
  {
   "cell_type": "code",
   "execution_count": 39,
   "metadata": {},
   "outputs": [],
   "source": [
    "#to begin with, we separate the features and the target feature\n",
    "features_oe = df_oe.drop(['Price'], axis=1)\n",
    "target_oe = df_oe['Price'].reset_index(drop=True)"
   ]
  },
  {
   "cell_type": "code",
   "execution_count": 40,
   "metadata": {},
   "outputs": [
    {
     "data": {
      "text/html": [
       "<div>\n",
       "<style scoped>\n",
       "    .dataframe tbody tr th:only-of-type {\n",
       "        vertical-align: middle;\n",
       "    }\n",
       "\n",
       "    .dataframe tbody tr th {\n",
       "        vertical-align: top;\n",
       "    }\n",
       "\n",
       "    .dataframe thead th {\n",
       "        text-align: right;\n",
       "    }\n",
       "</style>\n",
       "<table border=\"1\" class=\"dataframe\">\n",
       "  <thead>\n",
       "    <tr style=\"text-align: right;\">\n",
       "      <th></th>\n",
       "      <th>VehicleType</th>\n",
       "      <th>RegistrationYear</th>\n",
       "      <th>Gearbox</th>\n",
       "      <th>Power</th>\n",
       "      <th>Model</th>\n",
       "      <th>Kilometer</th>\n",
       "      <th>FuelType</th>\n",
       "      <th>Brand</th>\n",
       "      <th>NotRepaired</th>\n",
       "    </tr>\n",
       "  </thead>\n",
       "  <tbody>\n",
       "    <tr>\n",
       "      <th>7075</th>\n",
       "      <td>4.0</td>\n",
       "      <td>1.056751</td>\n",
       "      <td>0.0</td>\n",
       "      <td>1.470223</td>\n",
       "      <td>11.0</td>\n",
       "      <td>-0.105326</td>\n",
       "      <td>2.0</td>\n",
       "      <td>2.0</td>\n",
       "      <td>-0.333282</td>\n",
       "    </tr>\n",
       "    <tr>\n",
       "      <th>323233</th>\n",
       "      <td>5.0</td>\n",
       "      <td>0.570431</td>\n",
       "      <td>1.0</td>\n",
       "      <td>-1.283184</td>\n",
       "      <td>224.0</td>\n",
       "      <td>0.571564</td>\n",
       "      <td>6.0</td>\n",
       "      <td>27.0</td>\n",
       "      <td>-0.333282</td>\n",
       "    </tr>\n",
       "    <tr>\n",
       "      <th>185837</th>\n",
       "      <td>7.0</td>\n",
       "      <td>0.570431</td>\n",
       "      <td>1.0</td>\n",
       "      <td>0.508716</td>\n",
       "      <td>154.0</td>\n",
       "      <td>-0.105326</td>\n",
       "      <td>2.0</td>\n",
       "      <td>10.0</td>\n",
       "      <td>-0.333282</td>\n",
       "    </tr>\n",
       "    <tr>\n",
       "      <th>124835</th>\n",
       "      <td>1.0</td>\n",
       "      <td>-0.077996</td>\n",
       "      <td>0.0</td>\n",
       "      <td>1.164289</td>\n",
       "      <td>29.0</td>\n",
       "      <td>-0.105326</td>\n",
       "      <td>6.0</td>\n",
       "      <td>1.0</td>\n",
       "      <td>-0.333282</td>\n",
       "    </tr>\n",
       "    <tr>\n",
       "      <th>233439</th>\n",
       "      <td>5.0</td>\n",
       "      <td>-0.726422</td>\n",
       "      <td>1.0</td>\n",
       "      <td>-1.370593</td>\n",
       "      <td>166.0</td>\n",
       "      <td>0.571564</td>\n",
       "      <td>6.0</td>\n",
       "      <td>24.0</td>\n",
       "      <td>-0.333282</td>\n",
       "    </tr>\n",
       "  </tbody>\n",
       "</table>\n",
       "</div>"
      ],
      "text/plain": [
       "        VehicleType  RegistrationYear  Gearbox     Power  Model  Kilometer  \\\n",
       "7075            4.0          1.056751      0.0  1.470223   11.0  -0.105326   \n",
       "323233          5.0          0.570431      1.0 -1.283184  224.0   0.571564   \n",
       "185837          7.0          0.570431      1.0  0.508716  154.0  -0.105326   \n",
       "124835          1.0         -0.077996      0.0  1.164289   29.0  -0.105326   \n",
       "233439          5.0         -0.726422      1.0 -1.370593  166.0   0.571564   \n",
       "\n",
       "        FuelType  Brand  NotRepaired  \n",
       "7075         2.0    2.0    -0.333282  \n",
       "323233       6.0   27.0    -0.333282  \n",
       "185837       2.0   10.0    -0.333282  \n",
       "124835       6.0    1.0    -0.333282  \n",
       "233439       6.0   24.0    -0.333282  "
      ]
     },
     "execution_count": 40,
     "metadata": {},
     "output_type": "execute_result"
    }
   ],
   "source": [
    "#now let's standardize the data\n",
    "scategory = ['RegistrationYear', 'Power', 'Kilometer', 'NotRepaired'] #scategory - scaled category\n",
    "scaler = StandardScaler()\n",
    "features_oe[scategory] = scaler.fit_transform(features_oe[scategory])\n",
    "features_oe.sample(5)"
   ]
  },
  {
   "cell_type": "code",
   "execution_count": 41,
   "metadata": {},
   "outputs": [
    {
     "name": "stdout",
     "output_type": "stream",
     "text": [
      "Training sample size OE: 250539\n",
      "OE test sample size: 83513\n"
     ]
    }
   ],
   "source": [
    "#and divide our sample into training and testing in a ratio of 3:1\n",
    "features_train_oe, features_test_oe, target_train_oe, target_test_oe = train_test_split(\n",
    "    features_oe, target_oe, test_size=0.25, random_state=12345)\n",
    "\n",
    "print('Training sample size OE:', len(target_train_oe))\n",
    "print('OE test sample size:', len(target_test_oe))"
   ]
  },
  {
   "cell_type": "markdown",
   "metadata": {},
   "source": [
    "All the data is prepared, you can start training the models."
   ]
  },
  {
   "cell_type": "markdown",
   "metadata": {},
   "source": [
    "### Section Conclusion"
   ]
  },
  {
   "cell_type": "markdown",
   "metadata": {},
   "source": [
    "1. There are 354,369 rows and 16 columns in the dataset. The columns are formatted correctly.\n",
    "2. There are gaps and incorrect data in the dataset, for example, the year of registration of the car, power or price.\n",
    "3. There are a lot of gaps and 4 duplicates in the dataset.\n",
    "4. 4 gaps and columns that are not needed for our model were removed: `DateCrawled`, `RegistrationMonth`, `DateCreated`, `NumberOfPictures`, `PostalCode`, `LastSeen`.\n",
    "5. Data with a zero price has been deleted, because. these data are the target feature, and there is nothing to replace them with.\n",
    "6. Columns with gaps in the model data have been removed, all other gaps have been replaced.\n",
    "7. Ordinal coding, data scaling were applied to the dataset, and the dataset was divided into training and validation samples in a ratio of 3:1."
   ]
  },
  {
   "cell_type": "markdown",
   "metadata": {},
   "source": [
    "## Model training"
   ]
  },
  {
   "cell_type": "markdown",
   "metadata": {},
   "source": [
    "Here we will train 4 models: Linear Regression, Random Forest, Catboost and LightGBM. Let's start with the simplest and fastest model - linear regression."
   ]
  },
  {
   "cell_type": "code",
   "execution_count": 42,
   "metadata": {},
   "outputs": [],
   "source": [
    "# first create a function for calculating RMSE\n",
    "def rmse(target, prediction):\n",
    "    return mean_squared_error(target, prediction)**0.5"
   ]
  },
  {
   "cell_type": "markdown",
   "metadata": {},
   "source": [
    "### Linear Regression"
   ]
  },
  {
   "cell_type": "markdown",
   "metadata": {},
   "source": [
    "To begin with, we will train the simplest model - linear regression."
   ]
  },
  {
   "cell_type": "code",
   "execution_count": 43,
   "metadata": {},
   "outputs": [
    {
     "name": "stdout",
     "output_type": "stream",
     "text": [
      "The RMSE of linear regression is: 2683.4145624547896\n",
      "Linear regression training time: 3.219515800476074\n",
      "Linear regression prediction time: 0.06758475303649902\n"
     ]
    }
   ],
   "source": [
    "linear_model = LinearRegression()\n",
    "#check the training time of linear regression\n",
    "start_lin_train = time.time()\n",
    "linear_model.fit(features_train_ohe, target_train_ohe)\n",
    "end_lin_train = time.time()\n",
    "\n",
    "#and find out the time of prediction\n",
    "start_lin_pred = time.time()\n",
    "linear_prediction = linear_model.predict(features_test_ohe)\n",
    "end_lin_pred = time.time()\n",
    "\n",
    "print('The RMSE of linear regression is:', rmse(target_test_ohe, linear_prediction))\n",
    "print('Linear regression training time:', end_lin_train - start_lin_train)\n",
    "print('Linear regression prediction time:', end_lin_pred - start_lin_pred)"
   ]
  },
  {
   "cell_type": "markdown",
   "metadata": {},
   "source": [
    "Результат RMSE линейной регрессии составил 2683.46, время обучения - 31.9 s, а на предсказание ушло 192 ms."
   ]
  },
  {
   "cell_type": "markdown",
   "metadata": {},
   "source": [
    "### Random Forest"
   ]
  },
  {
   "cell_type": "markdown",
   "metadata": {},
   "source": [
    "For the selection of random forest parameters, we use GridSearchCV."
   ]
  },
  {
   "cell_type": "code",
   "execution_count": 44,
   "metadata": {},
   "outputs": [
    {
     "name": "stdout",
     "output_type": "stream",
     "text": [
      "Best Random Forest Options: {'max_depth': 14, 'n_estimators': 40}\n",
      "The best score of random forest is: -1742.8565774729898\n",
      "CPU times: total: 12.2 s\n",
      "Wall time: 2min 40s\n"
     ]
    }
   ],
   "source": [
    "%%time\n",
    "\n",
    "forest_model = RandomForestRegressor(random_state=12345)\n",
    "forest_params = {'n_estimators':range(10, 50, 10), 'max_depth':range(10, 15)}\n",
    "forest_grid = GridSearchCV(forest_model, forest_params, cv=5, scoring = 'neg_root_mean_squared_error', n_jobs=-1)\n",
    "forest_grid.fit(features_train_oe, target_train_oe)\n",
    "\n",
    "print('Best Random Forest Options:', forest_grid.best_params_)\n",
    "print('The best score of random forest is:', forest_grid.best_score_)"
   ]
  },
  {
   "cell_type": "code",
   "execution_count": 45,
   "metadata": {},
   "outputs": [
    {
     "name": "stdout",
     "output_type": "stream",
     "text": [
      "The RMSE of a random forest is: 1487.5735854081618\n",
      "Forest training time: 11.491591215133667\n",
      "Forest prediction time: 1.2207086086273193\n"
     ]
    }
   ],
   "source": [
    "#check Forest OE training time\n",
    "forest_model = RandomForestRegressor(random_state=12345, max_depth=14, n_estimators=40)\n",
    "start_for_train = time.time()\n",
    "forest_model.fit(features_train_oe, target_train_oe)\n",
    "end_for_train = time.time()\n",
    "\n",
    "#check Forest OE prediction time\n",
    "start_for_pred = time.time()\n",
    "forest_prediction_oe = forest_model.predict(features_train_oe)\n",
    "end_for_pred = time.time()\n",
    "\n",
    "print('The RMSE of a random forest is:', rmse(target_train_oe, forest_prediction_oe))\n",
    "print('Forest training time:', end_for_train - start_for_train)\n",
    "print('Forest prediction time:', end_for_pred - start_for_pred)"
   ]
  },
  {
   "cell_type": "markdown",
   "metadata": {},
   "source": [
    "The random forest has a much better RMSE of 1487.57, but the training time was 8 min 25 s and the prediction time was 5.48 µs."
   ]
  },
  {
   "cell_type": "markdown",
   "metadata": {},
   "source": [
    "### Catboost"
   ]
  },
  {
   "cell_type": "code",
   "execution_count": 46,
   "metadata": {},
   "outputs": [],
   "source": [
    "cat_features = ['VehicleType', 'Gearbox', 'Model', 'FuelType', 'NotRepaired', 'Brand']  "
   ]
  },
  {
   "cell_type": "markdown",
   "metadata": {},
   "source": [
    "When training Catboost, we will also use GridSearchCV."
   ]
  },
  {
   "cell_type": "code",
   "execution_count": 47,
   "metadata": {},
   "outputs": [
    {
     "name": "stdout",
     "output_type": "stream",
     "text": [
      "The best parameters of Catboost OE: {'depth': 15, 'learning_rate': 0.1}\n",
      "Best score of Catboost OE: -1694.4157404783705\n",
      "CPU times: total: 1min 16s\n",
      "Wall time: 2min 28s\n"
     ]
    }
   ],
   "source": [
    "%%time\n",
    "\n",
    "cat_model_oe = CatBoostRegressor(iterations=100, verbose=False, random_state=12345)\n",
    "cat_params_oe = {'learning_rate':[0.05, 0.1], #learning rate\n",
    "                 'depth':[5, 10, 15]} #tree depth\n",
    "cat_grid_oe = GridSearchCV(cat_model_oe, cat_params_oe, cv=5, scoring = 'neg_root_mean_squared_error', n_jobs=-1)\n",
    "cat_grid_oe.fit(features_train_oe, target_train_oe)\n",
    "\n",
    "print('The best parameters of Catboost OE:', cat_grid_oe.best_params_)\n",
    "print('Best score of Catboost OE:', cat_grid_oe.best_score_)"
   ]
  },
  {
   "cell_type": "code",
   "execution_count": 48,
   "metadata": {},
   "outputs": [
    {
     "name": "stdout",
     "output_type": "stream",
     "text": [
      "RMSE Catboost OE is: 1575.1407253038112\n",
      "Catboost OE training time: 28.63345503807068\n",
      "Catboost OE prediction time: 0.0610198974609375\n"
     ]
    }
   ],
   "source": [
    "#check Catboost OE training time\n",
    "cat_model_oe = CatBoostRegressor(iterations=100, verbose=False,\n",
    "                              random_state=12345, learning_rate=0.1, depth=15)\n",
    "start_cat_train = time.time()\n",
    "cat_model_oe.fit(features_train_oe, target_train_oe)\n",
    "end_cat_train = time.time()\n",
    "\n",
    "#check Catboost OE prediction time\n",
    "start_cat_pred = time.time()\n",
    "cat_prediction_oe = cat_model_oe.predict(features_train_oe)\n",
    "end_cat_pred = time.time()\n",
    "\n",
    "print('RMSE Catboost OE is:', rmse(target_train_oe, cat_prediction_oe))\n",
    "print('Catboost OE training time:', end_cat_train - start_cat_train)\n",
    "print('Catboost OE prediction time:', end_cat_pred - start_cat_pred)"
   ]
  },
  {
   "cell_type": "code",
   "execution_count": 49,
   "metadata": {},
   "outputs": [
    {
     "name": "stdout",
     "output_type": "stream",
     "text": [
      "RMSE Catboost is: 1548.2256095897415\n",
      "Catboost training time without encoding: 37.21108889579773\n",
      "Catboost prediction time without encoding: 0.37299633026123047\n"
     ]
    }
   ],
   "source": [
    "#sampling without encoding\n",
    "cat_model = CatBoostRegressor(iterations=100, verbose=False, cat_features = cat_features,\n",
    "                              random_state=12345, learning_rate=0.1, depth=15)\n",
    "start_cat_train = time.time()\n",
    "cat_model.fit(features_train, target_train)\n",
    "end_cat_train = time.time()\n",
    "\n",
    "#check Catboost prediction time\n",
    "start_cat_pred = time.time()\n",
    "cat_prediction = cat_model.predict(features_train)\n",
    "end_cat_pred = time.time()\n",
    "\n",
    "print('RMSE Catboost is:', rmse(target_train, cat_prediction))\n",
    "print('Catboost training time without encoding:', end_cat_train - start_cat_train)\n",
    "print('Catboost prediction time without encoding:', end_cat_pred - start_cat_pred)"
   ]
  },
  {
   "cell_type": "markdown",
   "metadata": {},
   "source": [
    "Catboost performed worse than random forest and RMSE on the sample with coded features was 1575.14, and on the sample without coded features - 1548.22, which indicates that Catboost does not require feature encoding. At the same time, the training time of Catboost is higher than that of random forest, and the prediction time is better."
   ]
  },
  {
   "cell_type": "markdown",
   "metadata": {},
   "source": [
    "### LightGBM"
   ]
  },
  {
   "cell_type": "markdown",
   "metadata": {},
   "source": [
    "Light Gradient Boosted Machine (LightGBM) is an open source library that provides an efficient and efficient implementation of the gradient boosting algorithm.\n",
    "\n",
    "LightGBM extends the gradient boosting algorithm by adding an automatic feature selection type and also focusing on boosting examples with large gradients. This can lead to a dramatic acceleration of learning and improved predictive performance. Thus, LightGBM has become the de facto algorithm for machine learning competitions when working with tabular data for regression and classification predictive modeling problems.\n",
    "\n",
    "A feature of LightGBM is that it supports a number of boosting algorithms called boost types:\n",
    "1. `gbdt`: gradient boosted decision tree (GDBT);\n",
    "2. `dart`: the concept of dropout is introduced into MART, we get DART;\n",
    "3. `goss`: gradient based one-sided sampling (GOSS)."
   ]
  },
  {
   "cell_type": "code",
   "execution_count": 50,
   "metadata": {},
   "outputs": [],
   "source": [
    "#change the categorical data type to category\n",
    "features_train[['VehicleType','Gearbox', 'Model', 'FuelType','Brand','NotRepaired']]=\\\n",
    "features_train[['VehicleType','Gearbox', 'Model', 'FuelType','Brand','NotRepaired']].astype('category')"
   ]
  },
  {
   "cell_type": "code",
   "execution_count": 51,
   "metadata": {},
   "outputs": [
    {
     "name": "stdout",
     "output_type": "stream",
     "text": [
      "The best parameters of LightGBM OE: {'n_estimators': 150, 'num_leaves': 15}\n",
      "Best score LightGBM OE: -1830.2342605839992\n",
      "CPU times: total: 5.05 s\n",
      "Wall time: 5.79 s\n"
     ]
    }
   ],
   "source": [
    "%%time\n",
    "\n",
    "gbm_model_oe = LGBMRegressor(random_state=12345)\n",
    "gbm_params_oe = {'n_estimators':[100, 150], #number of decision trees\n",
    "              'num_leaves':[10, 15]} #number of terminal nodes (leaves) of the tree\n",
    "gbm_grid_oe = GridSearchCV(gbm_model_oe, gbm_params_oe, cv=5, scoring = 'neg_root_mean_squared_error', n_jobs=-1)\n",
    "gbm_grid_oe.fit(features_train_oe, target_train_oe)\n",
    "\n",
    "print('The best parameters of LightGBM OE:', gbm_grid_oe.best_params_)\n",
    "print('Best score LightGBM OE:', gbm_grid_oe.best_score_)"
   ]
  },
  {
   "cell_type": "code",
   "execution_count": 52,
   "metadata": {},
   "outputs": [
    {
     "name": "stdout",
     "output_type": "stream",
     "text": [
      "RMSE LightGBM OE is: 1811.7101608505852\n",
      "LightGBM OE training time: 0.4388260841369629\n",
      "LightGBM OE prediction time: 0.19547748565673828\n"
     ]
    }
   ],
   "source": [
    "#check the learning time of LightGBM OE\n",
    "gbm_model_oe = LGBMRegressor(random_state=12345, n_estimators=150, num_leaves=15)\n",
    "start_gbm_train = time.time()\n",
    "gbm_model_oe.fit(features_train_oe, target_train_oe)\n",
    "end_gbm_train = time.time()\n",
    "\n",
    "#check the prediction time LightGBM OE\n",
    "start_gbm_pred = time.time()\n",
    "gbm_prediction_oe = gbm_model_oe.predict(features_train_oe)\n",
    "end_gbm_pred = time.time()\n",
    "print('RMSE LightGBM OE is:', rmse(target_train_oe, gbm_prediction_oe))\n",
    "print('LightGBM OE training time:', end_gbm_train - start_gbm_train)\n",
    "print('LightGBM OE prediction time:', end_gbm_pred - start_gbm_pred)"
   ]
  },
  {
   "cell_type": "code",
   "execution_count": 53,
   "metadata": {},
   "outputs": [
    {
     "name": "stdout",
     "output_type": "stream",
     "text": [
      "RMSE LightGBM is: 1701.2660451654126\n",
      "LightGBM training time: 0.5784528255462646\n",
      "LightGBM prediction time: 0.19547748565673828\n"
     ]
    }
   ],
   "source": [
    "#selection without encoding\n",
    "gbm_model = LGBMRegressor(random_state=12345, n_estimators=150, num_leaves=15)\n",
    "start_gbm_train = time.time()\n",
    "gbm_model.fit(features_train, target_train, categorical_feature=cat_features, verbose=False)\n",
    "end_gbm_train = time.time()\n",
    "\n",
    "#check LightGBM prediction time\n",
    "start_gbm_pred\n",
    "gbm_prediction = gbm_model.predict(features_train)\n",
    "end_gbm_pred\n",
    "print('RMSE LightGBM is:', rmse(target_train, gbm_prediction))\n",
    "print('LightGBM training time:', end_gbm_train - start_gbm_train)\n",
    "print('LightGBM prediction time:', end_gbm_pred - start_gbm_pred)"
   ]
  },
  {
   "cell_type": "markdown",
   "metadata": {},
   "source": [
    "LightGBM performed even worse than Catboost with RMSE 1811.71 on the encoded sample and RMSE 1701.26 on the unencoded sample. At the same time, its learning rate is several times higher than that of all previous models, but the prediction rate is the lowest."
   ]
  },
  {
   "cell_type": "markdown",
   "metadata": {},
   "source": [
    "### Dummy Regressor"
   ]
  },
  {
   "cell_type": "markdown",
   "metadata": {},
   "source": [
    "And to check the adequacy of our models, we will train the Dummy model."
   ]
  },
  {
   "cell_type": "code",
   "execution_count": 54,
   "metadata": {},
   "outputs": [
    {
     "name": "stdout",
     "output_type": "stream",
     "text": [
      "The RMSE of the dummy model is: 4507.915668227669\n",
      "CPU times: total: 0 ns\n",
      "Wall time: 3.67 ms\n"
     ]
    }
   ],
   "source": [
    "%%time\n",
    "\n",
    "dummy_model = DummyRegressor(strategy='mean')\n",
    "dummy_model.fit(features_train, target_train)\n",
    "dummy_prediction = dummy_model.predict(features_train)\n",
    "print('The RMSE of the dummy model is:', rmse(target_train, dummy_prediction))"
   ]
  },
  {
   "cell_type": "markdown",
   "metadata": {},
   "source": [
    "All trained models performed better than DummyRegressor."
   ]
  },
  {
   "cell_type": "markdown",
   "metadata": {},
   "source": [
    "### Section Conclusion"
   ]
  },
  {
   "cell_type": "markdown",
   "metadata": {},
   "source": [
    "1. 4 models were trained: Linear Regression, Random Forest, Catboost and LightGBM.\n",
    "2. Random forest showed the best RMSE result - 1487.57, Catboost has the highest prediction rate, and LightGBM has the highest learning rate.\n",
    "3. Comparison of the Catboost and LightGBM models on coded features and standard ones showed an interesting result that these models perform better on samples that did not have feature encoding applied.\n",
    "4. All models performed better than DummyRegressor."
   ]
  },
  {
   "cell_type": "markdown",
   "metadata": {},
   "source": [
    "## Анализ моделей"
   ]
  },
  {
   "cell_type": "code",
   "execution_count": 55,
   "metadata": {},
   "outputs": [
    {
     "data": {
      "text/html": [
       "<div>\n",
       "<style scoped>\n",
       "    .dataframe tbody tr th:only-of-type {\n",
       "        vertical-align: middle;\n",
       "    }\n",
       "\n",
       "    .dataframe tbody tr th {\n",
       "        vertical-align: top;\n",
       "    }\n",
       "\n",
       "    .dataframe thead th {\n",
       "        text-align: right;\n",
       "    }\n",
       "</style>\n",
       "<table border=\"1\" class=\"dataframe\">\n",
       "  <thead>\n",
       "    <tr style=\"text-align: right;\">\n",
       "      <th></th>\n",
       "      <th>Model</th>\n",
       "      <th>RMSE</th>\n",
       "      <th>Model training time</th>\n",
       "      <th>Model prediction time</th>\n",
       "    </tr>\n",
       "  </thead>\n",
       "  <tbody>\n",
       "    <tr>\n",
       "      <th>0</th>\n",
       "      <td>Linear Regression</td>\n",
       "      <td>2683.46</td>\n",
       "      <td>26.96 s</td>\n",
       "      <td>0.14 s</td>\n",
       "    </tr>\n",
       "    <tr>\n",
       "      <th>1</th>\n",
       "      <td>RandomForest</td>\n",
       "      <td>1487.57</td>\n",
       "      <td>17.12 s</td>\n",
       "      <td>1.45 s</td>\n",
       "    </tr>\n",
       "    <tr>\n",
       "      <th>2</th>\n",
       "      <td>CatBoost OE</td>\n",
       "      <td>1575.14</td>\n",
       "      <td>58.54 s</td>\n",
       "      <td>0.21 s</td>\n",
       "    </tr>\n",
       "    <tr>\n",
       "      <th>3</th>\n",
       "      <td>CatBoost</td>\n",
       "      <td>1548.22</td>\n",
       "      <td>63.21 s</td>\n",
       "      <td>0.56 s</td>\n",
       "    </tr>\n",
       "    <tr>\n",
       "      <th>4</th>\n",
       "      <td>LightGBM OE</td>\n",
       "      <td>1811.71</td>\n",
       "      <td>4.79 s</td>\n",
       "      <td>2.02 s</td>\n",
       "    </tr>\n",
       "    <tr>\n",
       "      <th>5</th>\n",
       "      <td>LightGBM</td>\n",
       "      <td>1701.26</td>\n",
       "      <td>4.96 s</td>\n",
       "      <td>2.02 s</td>\n",
       "    </tr>\n",
       "    <tr>\n",
       "      <th>6</th>\n",
       "      <td>DummyModel</td>\n",
       "      <td>4507.91</td>\n",
       "      <td>3.52 ms</td>\n",
       "      <td>3.52 ms</td>\n",
       "    </tr>\n",
       "  </tbody>\n",
       "</table>\n",
       "</div>"
      ],
      "text/plain": [
       "               Model     RMSE Model training time Model prediction time\n",
       "0  Linear Regression  2683.46             26.96 s                0.14 s\n",
       "1       RandomForest  1487.57             17.12 s                1.45 s\n",
       "2        CatBoost OE  1575.14             58.54 s                0.21 s\n",
       "3           CatBoost  1548.22             63.21 s                0.56 s\n",
       "4        LightGBM OE  1811.71              4.79 s                2.02 s\n",
       "5           LightGBM  1701.26              4.96 s                2.02 s\n",
       "6         DummyModel  4507.91             3.52 ms               3.52 ms"
      ]
     },
     "metadata": {},
     "output_type": "display_data"
    }
   ],
   "source": [
    "#make a comparison table with the received data\n",
    "data={'Model': ['Linear Regression', 'RandomForest', 'CatBoost OE', 'CatBoost', 'LightGBM OE', 'LightGBM', 'DummyModel'],\n",
    "      'RMSE': [2683.46, 1487.57, 1575.14, '1548.22', 1811.71, '1701.26', 4507.91],\n",
    "      'Model training time':['26.96 s' , '17.12 s', '58.54 s', '63.21 s', '4.79 s', '4.96 s', '3.52 ms'],\n",
    "      'Model prediction time' : ['0.14 s', '1.45 s', '0.21 s', '0.56 s', '2.02 s', '2.02 s', '3.52 ms']}\n",
    "data_pivot=pd.DataFrame.from_dict(data)\n",
    "display(data_pivot)"
   ]
  },
  {
   "cell_type": "markdown",
   "metadata": {},
   "source": [
    "Let's check the operation of the random forest on a test sample."
   ]
  },
  {
   "cell_type": "code",
   "execution_count": 56,
   "metadata": {},
   "outputs": [
    {
     "name": "stdout",
     "output_type": "stream",
     "text": [
      "The RMSE of a random forest is: 1724.0286377522802\n"
     ]
    }
   ],
   "source": [
    "model = RandomForestRegressor(n_estimators=40, max_depth=14, random_state=12345)\n",
    "model.fit(features_train_oe, target_train_oe)\n",
    "prediction = model.predict(features_test_oe)\n",
    "print('The RMSE of a random forest is:', rmse(target_test_oe, prediction))"
   ]
  },
  {
   "cell_type": "markdown",
   "metadata": {},
   "source": [
    " On the test sample, the result turned out to be worse than on the training sample, but still this is a fairly high result."
   ]
  },
  {
   "cell_type": "code",
   "execution_count": 57,
   "metadata": {},
   "outputs": [
    {
     "data": {
      "image/png": "[encoded data removed]",
      "text/plain": [
       "<Figure size 720x504 with 1 Axes>"
      ]
     },
     "metadata": {
      "needs_background": "light"
     },
     "output_type": "display_data"
    }
   ],
   "source": [
    "feature_names = features_oe.columns \n",
    "model = RandomForestRegressor(n_estimators=40, max_depth=14, random_state=12345)\n",
    "model.fit(features_train_oe, target_train_oe)\n",
    "pred = model.predict(features_test_oe)\n",
    "importances = model.feature_importances_\n",
    "model_importances = pd.Series(importances, index=feature_names)\n",
    "\n",
    "std = np.std([model.feature_importances_ for tree in str(1000)], axis=0)\n",
    "\n",
    "fig, ax = plt.subplots(figsize=(10,7))\n",
    "model_importances.plot.bar(yerr=std, ax=ax)\n",
    "ax.set_title(\"Feature importances\")\n",
    "ax.set_ylabel(\"Mean decrease in impurity\")\n",
    "fig.tight_layout()"
   ]
  },
  {
   "cell_type": "markdown",
   "metadata": {},
   "source": [
    "## Conclusion"
   ]
  },
  {
   "cell_type": "markdown",
   "metadata": {},
   "source": [
    "1. According to the results of the study, we can conclude that gradient boosting is superior to linear regression in terms of the quality of predictions.\n",
    "2. <b>The best model</b> in terms of performance / speed <b>is Random Forest</b> because it has the lowest RMSE result among all models, and the learning and prediction speed is between Catboost and LightGBM ."
   ]
  },
  {
   "cell_type": "code",
   "execution_count": null,
   "metadata": {},
   "outputs": [],
   "source": []
  }
 ],
 "metadata": {
  "ExecuteTimeLog": [
   {
    "duration": 52,
    "start_time": "2022-05-18T11:40:18.558Z"
   },
   {
    "duration": 1922,
    "start_time": "2022-05-18T11:40:21.490Z"
   },
   {
    "duration": 2870,
    "start_time": "2022-05-18T11:40:23.414Z"
   },
   {
    "duration": 126,
    "start_time": "2022-05-18T11:40:34.390Z"
   },
   {
    "duration": 30,
    "start_time": "2022-05-18T11:44:17.832Z"
   },
   {
    "duration": 101,
    "start_time": "2022-05-18T11:47:01.358Z"
   },
   {
    "duration": 437,
    "start_time": "2022-05-18T11:48:03.775Z"
   },
   {
    "duration": 39,
    "start_time": "2022-05-18T11:48:32.825Z"
   },
   {
    "duration": 443,
    "start_time": "2022-05-18T11:48:38.043Z"
   },
   {
    "duration": 75,
    "start_time": "2022-05-18T11:49:49.749Z"
   },
   {
    "duration": 113,
    "start_time": "2022-05-18T11:49:54.598Z"
   },
   {
    "duration": 11,
    "start_time": "2022-05-18T11:52:15.689Z"
   },
   {
    "duration": 471,
    "start_time": "2022-05-18T11:54:26.901Z"
   },
   {
    "duration": 125,
    "start_time": "2022-05-18T11:54:36.864Z"
   },
   {
    "duration": 48,
    "start_time": "2022-05-18T12:03:52.006Z"
   },
   {
    "duration": 379,
    "start_time": "2022-05-18T12:07:07.565Z"
   },
   {
    "duration": 16,
    "start_time": "2022-05-18T12:07:28.519Z"
   },
   {
    "duration": 1275,
    "start_time": "2022-05-18T12:07:48.238Z"
   },
   {
    "duration": 1741,
    "start_time": "2022-05-18T12:07:49.515Z"
   },
   {
    "duration": 32,
    "start_time": "2022-05-18T12:07:51.257Z"
   },
   {
    "duration": 130,
    "start_time": "2022-05-18T12:07:51.291Z"
   },
   {
    "duration": 107,
    "start_time": "2022-05-18T12:07:51.423Z"
   },
   {
    "duration": 468,
    "start_time": "2022-05-18T12:07:51.532Z"
   },
   {
    "duration": 144,
    "start_time": "2022-05-18T12:07:52.002Z"
   },
   {
    "duration": 77,
    "start_time": "2022-05-18T12:07:52.148Z"
   },
   {
    "duration": 362,
    "start_time": "2022-05-18T12:07:52.227Z"
   },
   {
    "duration": 496,
    "start_time": "2022-05-18T12:31:52.971Z"
   },
   {
    "duration": 8,
    "start_time": "2022-05-18T12:32:11.595Z"
   },
   {
    "duration": 157,
    "start_time": "2022-05-18T12:32:54.495Z"
   },
   {
    "duration": 276,
    "start_time": "2022-05-18T12:33:03.350Z"
   },
   {
    "duration": 83,
    "start_time": "2022-05-18T12:33:20.538Z"
   },
   {
    "duration": 85,
    "start_time": "2022-05-18T12:33:33.980Z"
   },
   {
    "duration": 85,
    "start_time": "2022-05-18T12:33:36.031Z"
   },
   {
    "duration": 57,
    "start_time": "2022-05-18T12:33:51.811Z"
   },
   {
    "duration": 79,
    "start_time": "2022-05-18T12:33:55.037Z"
   },
   {
    "duration": 69,
    "start_time": "2022-05-18T12:34:53.848Z"
   },
   {
    "duration": 1524,
    "start_time": "2022-05-18T12:35:00.937Z"
   },
   {
    "duration": 1125,
    "start_time": "2022-05-18T12:35:02.464Z"
   },
   {
    "duration": 27,
    "start_time": "2022-05-18T12:35:03.591Z"
   },
   {
    "duration": 145,
    "start_time": "2022-05-18T12:35:03.621Z"
   },
   {
    "duration": 112,
    "start_time": "2022-05-18T12:35:03.768Z"
   },
   {
    "duration": 491,
    "start_time": "2022-05-18T12:35:03.882Z"
   },
   {
    "duration": 126,
    "start_time": "2022-05-18T12:35:04.375Z"
   },
   {
    "duration": 48,
    "start_time": "2022-05-18T12:35:04.502Z"
   },
   {
    "duration": 371,
    "start_time": "2022-05-18T12:35:04.552Z"
   },
   {
    "duration": 92,
    "start_time": "2022-05-18T12:35:04.926Z"
   },
   {
    "duration": 14,
    "start_time": "2022-05-18T12:35:05.019Z"
   },
   {
    "duration": 60,
    "start_time": "2022-05-18T12:35:05.035Z"
   },
   {
    "duration": 84,
    "start_time": "2022-05-18T12:35:05.097Z"
   },
   {
    "duration": 80,
    "start_time": "2022-05-18T12:35:46.674Z"
   },
   {
    "duration": 1394,
    "start_time": "2022-05-18T12:35:52.668Z"
   },
   {
    "duration": 910,
    "start_time": "2022-05-18T12:35:54.065Z"
   },
   {
    "duration": 30,
    "start_time": "2022-05-18T12:35:54.977Z"
   },
   {
    "duration": 128,
    "start_time": "2022-05-18T12:35:55.008Z"
   },
   {
    "duration": 112,
    "start_time": "2022-05-18T12:35:55.138Z"
   },
   {
    "duration": 494,
    "start_time": "2022-05-18T12:35:55.251Z"
   },
   {
    "duration": 132,
    "start_time": "2022-05-18T12:35:55.747Z"
   },
   {
    "duration": 161,
    "start_time": "2022-05-18T12:35:55.881Z"
   },
   {
    "duration": 55,
    "start_time": "2022-05-18T12:35:56.044Z"
   },
   {
    "duration": 334,
    "start_time": "2022-05-18T12:35:56.101Z"
   },
   {
    "duration": 76,
    "start_time": "2022-05-18T12:35:56.437Z"
   },
   {
    "duration": 9,
    "start_time": "2022-05-18T12:35:56.515Z"
   },
   {
    "duration": 37,
    "start_time": "2022-05-18T12:35:56.526Z"
   },
   {
    "duration": 93,
    "start_time": "2022-05-18T12:35:56.566Z"
   },
   {
    "duration": 1358,
    "start_time": "2022-05-18T12:36:25.418Z"
   },
   {
    "duration": 909,
    "start_time": "2022-05-18T12:36:26.779Z"
   },
   {
    "duration": 30,
    "start_time": "2022-05-18T12:36:27.690Z"
   },
   {
    "duration": 146,
    "start_time": "2022-05-18T12:36:27.722Z"
   },
   {
    "duration": 121,
    "start_time": "2022-05-18T12:36:27.870Z"
   },
   {
    "duration": 493,
    "start_time": "2022-05-18T12:36:27.995Z"
   },
   {
    "duration": 128,
    "start_time": "2022-05-18T12:36:28.490Z"
   },
   {
    "duration": 139,
    "start_time": "2022-05-18T12:36:28.620Z"
   },
   {
    "duration": 66,
    "start_time": "2022-05-18T12:36:28.761Z"
   },
   {
    "duration": 104,
    "start_time": "2022-05-18T12:36:28.829Z"
   },
   {
    "duration": 363,
    "start_time": "2022-05-18T12:36:28.935Z"
   },
   {
    "duration": 77,
    "start_time": "2022-05-18T12:36:29.300Z"
   },
   {
    "duration": 23,
    "start_time": "2022-05-18T12:36:29.378Z"
   },
   {
    "duration": 38,
    "start_time": "2022-05-18T12:36:29.404Z"
   },
   {
    "duration": 88,
    "start_time": "2022-05-18T12:36:29.444Z"
   },
   {
    "duration": 1395,
    "start_time": "2022-05-18T12:36:57.289Z"
   },
   {
    "duration": 817,
    "start_time": "2022-05-18T12:36:58.687Z"
   },
   {
    "duration": 27,
    "start_time": "2022-05-18T12:36:59.506Z"
   },
   {
    "duration": 143,
    "start_time": "2022-05-18T12:36:59.535Z"
   },
   {
    "duration": 107,
    "start_time": "2022-05-18T12:36:59.680Z"
   },
   {
    "duration": 466,
    "start_time": "2022-05-18T12:36:59.795Z"
   },
   {
    "duration": 141,
    "start_time": "2022-05-18T12:37:00.263Z"
   },
   {
    "duration": 149,
    "start_time": "2022-05-18T12:37:00.405Z"
   },
   {
    "duration": 60,
    "start_time": "2022-05-18T12:37:00.556Z"
   },
   {
    "duration": 110,
    "start_time": "2022-05-18T12:37:00.618Z"
   },
   {
    "duration": 3,
    "start_time": "2022-05-18T12:37:00.730Z"
   },
   {
    "duration": 96,
    "start_time": "2022-05-18T12:37:00.734Z"
   },
   {
    "duration": 11,
    "start_time": "2022-05-18T12:37:00.832Z"
   },
   {
    "duration": 80,
    "start_time": "2022-05-18T12:37:00.845Z"
   },
   {
    "duration": 84,
    "start_time": "2022-05-18T12:37:00.926Z"
   },
   {
    "duration": 326,
    "start_time": "2022-05-18T12:37:15.880Z"
   },
   {
    "duration": 77,
    "start_time": "2022-05-18T12:37:19.732Z"
   },
   {
    "duration": 291,
    "start_time": "2022-05-18T12:37:34.875Z"
   },
   {
    "duration": 76,
    "start_time": "2022-05-18T12:37:36.553Z"
   },
   {
    "duration": 1334,
    "start_time": "2022-05-18T12:38:48.193Z"
   },
   {
    "duration": 843,
    "start_time": "2022-05-18T12:38:49.529Z"
   },
   {
    "duration": 31,
    "start_time": "2022-05-18T12:38:50.373Z"
   },
   {
    "duration": 136,
    "start_time": "2022-05-18T12:38:50.406Z"
   },
   {
    "duration": 122,
    "start_time": "2022-05-18T12:38:50.544Z"
   },
   {
    "duration": 455,
    "start_time": "2022-05-18T12:38:50.668Z"
   },
   {
    "duration": 123,
    "start_time": "2022-05-18T12:38:51.124Z"
   },
   {
    "duration": 131,
    "start_time": "2022-05-18T12:38:51.249Z"
   },
   {
    "duration": 50,
    "start_time": "2022-05-18T12:38:51.382Z"
   },
   {
    "duration": 97,
    "start_time": "2022-05-18T12:38:51.434Z"
   },
   {
    "duration": 351,
    "start_time": "2022-05-18T12:38:51.533Z"
   },
   {
    "duration": 84,
    "start_time": "2022-05-18T12:38:51.886Z"
   },
   {
    "duration": 28,
    "start_time": "2022-05-18T12:38:51.972Z"
   },
   {
    "duration": 51,
    "start_time": "2022-05-18T12:38:52.002Z"
   },
   {
    "duration": 91,
    "start_time": "2022-05-18T12:38:52.055Z"
   },
   {
    "duration": 1264,
    "start_time": "2022-05-18T12:40:08.255Z"
   },
   {
    "duration": 806,
    "start_time": "2022-05-18T12:40:09.522Z"
   },
   {
    "duration": 25,
    "start_time": "2022-05-18T12:40:10.330Z"
   },
   {
    "duration": 133,
    "start_time": "2022-05-18T12:40:10.356Z"
   },
   {
    "duration": 103,
    "start_time": "2022-05-18T12:40:10.494Z"
   },
   {
    "duration": 426,
    "start_time": "2022-05-18T12:40:10.599Z"
   },
   {
    "duration": 120,
    "start_time": "2022-05-18T12:40:11.027Z"
   },
   {
    "duration": 870,
    "start_time": "2022-05-18T12:40:11.149Z"
   },
   {
    "duration": 115,
    "start_time": "2022-05-18T12:40:12.020Z"
   },
   {
    "duration": 68,
    "start_time": "2022-05-18T12:40:12.136Z"
   },
   {
    "duration": 94,
    "start_time": "2022-05-18T12:40:12.206Z"
   },
   {
    "duration": 10,
    "start_time": "2022-05-18T12:40:12.302Z"
   },
   {
    "duration": 59,
    "start_time": "2022-05-18T12:40:12.314Z"
   },
   {
    "duration": 94,
    "start_time": "2022-05-18T12:40:12.376Z"
   },
   {
    "duration": 1335,
    "start_time": "2022-05-18T12:40:26.981Z"
   },
   {
    "duration": 762,
    "start_time": "2022-05-18T12:40:28.318Z"
   },
   {
    "duration": 29,
    "start_time": "2022-05-18T12:40:29.082Z"
   },
   {
    "duration": 131,
    "start_time": "2022-05-18T12:40:29.113Z"
   },
   {
    "duration": 108,
    "start_time": "2022-05-18T12:40:29.246Z"
   },
   {
    "duration": 454,
    "start_time": "2022-05-18T12:40:29.357Z"
   },
   {
    "duration": 127,
    "start_time": "2022-05-18T12:40:29.812Z"
   },
   {
    "duration": 972,
    "start_time": "2022-05-18T12:40:29.941Z"
   },
   {
    "duration": 124,
    "start_time": "2022-05-18T12:40:30.915Z"
   },
   {
    "duration": 56,
    "start_time": "2022-05-18T12:40:31.042Z"
   },
   {
    "duration": 101,
    "start_time": "2022-05-18T12:40:31.100Z"
   },
   {
    "duration": 9,
    "start_time": "2022-05-18T12:40:31.203Z"
   },
   {
    "duration": 57,
    "start_time": "2022-05-18T12:40:31.213Z"
   },
   {
    "duration": 91,
    "start_time": "2022-05-18T12:40:31.271Z"
   },
   {
    "duration": 5,
    "start_time": "2022-05-18T12:41:26.565Z"
   },
   {
    "duration": 1501,
    "start_time": "2022-05-18T15:19:27.178Z"
   },
   {
    "duration": 2462,
    "start_time": "2022-05-18T15:19:28.682Z"
   },
   {
    "duration": 33,
    "start_time": "2022-05-18T15:19:31.146Z"
   },
   {
    "duration": 176,
    "start_time": "2022-05-18T15:19:31.181Z"
   },
   {
    "duration": 120,
    "start_time": "2022-05-18T15:19:31.360Z"
   },
   {
    "duration": 544,
    "start_time": "2022-05-18T15:19:31.481Z"
   },
   {
    "duration": 161,
    "start_time": "2022-05-18T15:19:32.026Z"
   },
   {
    "duration": 1016,
    "start_time": "2022-05-18T15:19:32.191Z"
   },
   {
    "duration": 68,
    "start_time": "2022-05-18T15:19:33.211Z"
   },
   {
    "duration": 14,
    "start_time": "2022-05-18T15:19:33.281Z"
   },
   {
    "duration": 67,
    "start_time": "2022-05-18T15:19:33.301Z"
   },
   {
    "duration": 143,
    "start_time": "2022-05-18T15:23:02.839Z"
   },
   {
    "duration": 113,
    "start_time": "2022-05-18T15:25:35.677Z"
   },
   {
    "duration": 107,
    "start_time": "2022-05-18T15:25:53.408Z"
   },
   {
    "duration": 33,
    "start_time": "2022-05-18T15:27:53.951Z"
   },
   {
    "duration": 8,
    "start_time": "2022-05-18T15:28:52.645Z"
   },
   {
    "duration": 12,
    "start_time": "2022-05-18T15:29:03.824Z"
   },
   {
    "duration": 14,
    "start_time": "2022-05-18T15:29:12.304Z"
   },
   {
    "duration": 1353,
    "start_time": "2022-05-18T15:29:53.285Z"
   },
   {
    "duration": 896,
    "start_time": "2022-05-18T15:29:54.640Z"
   },
   {
    "duration": 36,
    "start_time": "2022-05-18T15:29:55.538Z"
   },
   {
    "duration": 175,
    "start_time": "2022-05-18T15:29:55.576Z"
   },
   {
    "duration": 104,
    "start_time": "2022-05-18T15:29:55.753Z"
   },
   {
    "duration": 508,
    "start_time": "2022-05-18T15:29:55.859Z"
   },
   {
    "duration": 159,
    "start_time": "2022-05-18T15:29:56.369Z"
   },
   {
    "duration": 1118,
    "start_time": "2022-05-18T15:29:56.530Z"
   },
   {
    "duration": 71,
    "start_time": "2022-05-18T15:29:57.650Z"
   },
   {
    "duration": 11,
    "start_time": "2022-05-18T15:29:57.734Z"
   },
   {
    "duration": 89,
    "start_time": "2022-05-18T15:29:57.747Z"
   },
   {
    "duration": 90,
    "start_time": "2022-05-18T15:29:57.838Z"
   },
   {
    "duration": 23,
    "start_time": "2022-05-18T15:29:57.930Z"
   },
   {
    "duration": 48,
    "start_time": "2022-05-18T15:29:57.955Z"
   },
   {
    "duration": 51,
    "start_time": "2022-05-18T15:31:46.356Z"
   },
   {
    "duration": 291,
    "start_time": "2022-05-18T15:31:59.612Z"
   },
   {
    "duration": 49,
    "start_time": "2022-05-18T15:32:03.619Z"
   },
   {
    "duration": 124,
    "start_time": "2022-05-18T15:32:23.036Z"
   },
   {
    "duration": 7,
    "start_time": "2022-05-18T15:32:23.740Z"
   },
   {
    "duration": 1450,
    "start_time": "2022-05-18T15:32:30.799Z"
   },
   {
    "duration": 991,
    "start_time": "2022-05-18T15:32:32.252Z"
   },
   {
    "duration": 29,
    "start_time": "2022-05-18T15:32:33.245Z"
   },
   {
    "duration": 198,
    "start_time": "2022-05-18T15:32:33.276Z"
   },
   {
    "duration": 107,
    "start_time": "2022-05-18T15:32:33.476Z"
   },
   {
    "duration": 551,
    "start_time": "2022-05-18T15:32:33.584Z"
   },
   {
    "duration": 153,
    "start_time": "2022-05-18T15:32:34.137Z"
   },
   {
    "duration": 1156,
    "start_time": "2022-05-18T15:32:34.298Z"
   },
   {
    "duration": 96,
    "start_time": "2022-05-18T15:32:35.456Z"
   },
   {
    "duration": 13,
    "start_time": "2022-05-18T15:32:35.563Z"
   },
   {
    "duration": 99,
    "start_time": "2022-05-18T15:32:35.578Z"
   },
   {
    "duration": 96,
    "start_time": "2022-05-18T15:32:35.678Z"
   },
   {
    "duration": 54,
    "start_time": "2022-05-18T15:32:35.777Z"
   },
   {
    "duration": 97,
    "start_time": "2022-05-18T15:32:35.834Z"
   },
   {
    "duration": 28,
    "start_time": "2022-05-18T15:32:35.934Z"
   },
   {
    "duration": 28,
    "start_time": "2022-05-18T15:32:35.964Z"
   },
   {
    "duration": 6,
    "start_time": "2022-05-18T15:32:53.354Z"
   },
   {
    "duration": 14,
    "start_time": "2022-05-18T15:32:54.133Z"
   },
   {
    "duration": 5,
    "start_time": "2022-05-18T15:33:15.155Z"
   },
   {
    "duration": 6,
    "start_time": "2022-05-18T15:33:16.076Z"
   },
   {
    "duration": 11,
    "start_time": "2022-05-18T15:33:17.915Z"
   },
   {
    "duration": 1504,
    "start_time": "2022-05-18T15:33:24.088Z"
   },
   {
    "duration": 1039,
    "start_time": "2022-05-18T15:33:25.595Z"
   },
   {
    "duration": 28,
    "start_time": "2022-05-18T15:33:26.636Z"
   },
   {
    "duration": 172,
    "start_time": "2022-05-18T15:33:26.666Z"
   },
   {
    "duration": 122,
    "start_time": "2022-05-18T15:33:26.841Z"
   },
   {
    "duration": 594,
    "start_time": "2022-05-18T15:33:26.964Z"
   },
   {
    "duration": 209,
    "start_time": "2022-05-18T15:33:27.560Z"
   },
   {
    "duration": 1154,
    "start_time": "2022-05-18T15:33:27.772Z"
   },
   {
    "duration": 59,
    "start_time": "2022-05-18T15:33:28.930Z"
   },
   {
    "duration": 11,
    "start_time": "2022-05-18T15:33:28.992Z"
   },
   {
    "duration": 131,
    "start_time": "2022-05-18T15:33:29.005Z"
   },
   {
    "duration": 101,
    "start_time": "2022-05-18T15:33:29.138Z"
   },
   {
    "duration": 33,
    "start_time": "2022-05-18T15:33:29.240Z"
   },
   {
    "duration": 181,
    "start_time": "2022-05-18T15:33:29.276Z"
   },
   {
    "duration": 7,
    "start_time": "2022-05-18T15:33:29.460Z"
   },
   {
    "duration": 15,
    "start_time": "2022-05-18T15:33:29.469Z"
   },
   {
    "duration": 5,
    "start_time": "2022-05-18T15:33:49.173Z"
   },
   {
    "duration": 11,
    "start_time": "2022-05-18T15:39:22.422Z"
   },
   {
    "duration": 152,
    "start_time": "2022-05-18T15:39:28.789Z"
   },
   {
    "duration": 976,
    "start_time": "2022-05-18T15:40:05.222Z"
   },
   {
    "duration": 129,
    "start_time": "2022-05-18T15:40:48.821Z"
   },
   {
    "duration": 13,
    "start_time": "2022-05-18T15:41:18.156Z"
   },
   {
    "duration": 9,
    "start_time": "2022-05-18T15:41:24.940Z"
   },
   {
    "duration": 143,
    "start_time": "2022-05-18T15:42:11.264Z"
   },
   {
    "duration": 1753,
    "start_time": "2022-05-18T15:45:30.323Z"
   },
   {
    "duration": 1667,
    "start_time": "2022-05-18T15:45:38.973Z"
   },
   {
    "duration": 1678,
    "start_time": "2022-05-18T15:45:45.383Z"
   },
   {
    "duration": 1713,
    "start_time": "2022-05-18T15:45:52.537Z"
   },
   {
    "duration": 1634,
    "start_time": "2022-05-18T15:46:10.820Z"
   },
   {
    "duration": 1802,
    "start_time": "2022-05-18T15:46:25.735Z"
   },
   {
    "duration": 180,
    "start_time": "2022-05-18T15:46:55.485Z"
   },
   {
    "duration": 337,
    "start_time": "2022-05-18T15:47:31.752Z"
   },
   {
    "duration": 103,
    "start_time": "2022-05-18T15:47:53.269Z"
   },
   {
    "duration": 9,
    "start_time": "2022-05-18T15:48:25.552Z"
   },
   {
    "duration": 12,
    "start_time": "2022-05-18T15:48:51.623Z"
   },
   {
    "duration": 309,
    "start_time": "2022-05-18T15:49:22.934Z"
   },
   {
    "duration": 331,
    "start_time": "2022-05-18T15:49:42.965Z"
   },
   {
    "duration": 291,
    "start_time": "2022-05-18T15:49:49.379Z"
   },
   {
    "duration": 288,
    "start_time": "2022-05-18T15:50:13.417Z"
   },
   {
    "duration": 423,
    "start_time": "2022-05-18T15:50:18.393Z"
   },
   {
    "duration": 307,
    "start_time": "2022-05-18T15:50:52.982Z"
   },
   {
    "duration": 32,
    "start_time": "2022-05-18T15:50:57.693Z"
   },
   {
    "duration": 14,
    "start_time": "2022-05-18T15:51:07.325Z"
   },
   {
    "duration": 305,
    "start_time": "2022-05-18T15:51:22.646Z"
   },
   {
    "duration": 2641,
    "start_time": "2022-05-18T15:52:37.770Z"
   },
   {
    "duration": 2612,
    "start_time": "2022-05-18T15:53:06.223Z"
   },
   {
    "duration": 2432,
    "start_time": "2022-05-18T15:53:19.628Z"
   },
   {
    "duration": 182,
    "start_time": "2022-05-18T15:54:26.524Z"
   },
   {
    "duration": 168,
    "start_time": "2022-05-18T15:54:35.193Z"
   },
   {
    "duration": 148,
    "start_time": "2022-05-18T15:54:41.222Z"
   },
   {
    "duration": 663,
    "start_time": "2022-05-18T15:55:09.046Z"
   },
   {
    "duration": 299,
    "start_time": "2022-05-18T16:07:00.239Z"
   },
   {
    "duration": 266,
    "start_time": "2022-05-18T16:07:05.020Z"
   },
   {
    "duration": 122,
    "start_time": "2022-05-18T16:07:16.869Z"
   },
   {
    "duration": 44,
    "start_time": "2022-05-18T16:07:32.089Z"
   },
   {
    "duration": 293,
    "start_time": "2022-05-18T16:07:38.042Z"
   },
   {
    "duration": 13,
    "start_time": "2022-05-18T16:08:17.013Z"
   },
   {
    "duration": 10,
    "start_time": "2022-05-18T16:08:27.874Z"
   },
   {
    "duration": 11,
    "start_time": "2022-05-18T16:08:36.422Z"
   },
   {
    "duration": 134,
    "start_time": "2022-05-18T16:08:42.227Z"
   },
   {
    "duration": 111,
    "start_time": "2022-05-18T16:08:47.220Z"
   },
   {
    "duration": 9,
    "start_time": "2022-05-18T16:09:12.075Z"
   },
   {
    "duration": 75,
    "start_time": "2022-05-18T16:09:18.249Z"
   },
   {
    "duration": 8,
    "start_time": "2022-05-18T16:09:38.746Z"
   },
   {
    "duration": 31,
    "start_time": "2022-05-18T16:09:42.992Z"
   },
   {
    "duration": 26,
    "start_time": "2022-05-18T16:09:56.210Z"
   },
   {
    "duration": 9,
    "start_time": "2022-05-18T16:11:03.724Z"
   },
   {
    "duration": 15,
    "start_time": "2022-05-18T16:11:09.453Z"
   },
   {
    "duration": 9,
    "start_time": "2022-05-18T16:11:19.654Z"
   },
   {
    "duration": 9,
    "start_time": "2022-05-18T16:11:41.626Z"
   },
   {
    "duration": 19,
    "start_time": "2022-05-18T16:11:50.638Z"
   },
   {
    "duration": 27,
    "start_time": "2022-05-18T16:11:58.716Z"
   },
   {
    "duration": 12,
    "start_time": "2022-05-18T16:13:11.865Z"
   },
   {
    "duration": 12,
    "start_time": "2022-05-18T16:13:54.968Z"
   },
   {
    "duration": 12,
    "start_time": "2022-05-18T16:14:03.525Z"
   },
   {
    "duration": 20,
    "start_time": "2022-05-18T16:14:33.989Z"
   },
   {
    "duration": 4,
    "start_time": "2022-05-18T16:14:48.382Z"
   },
   {
    "duration": 5,
    "start_time": "2022-05-18T16:15:56.771Z"
   },
   {
    "duration": 30,
    "start_time": "2022-05-18T16:15:57.327Z"
   },
   {
    "duration": 7,
    "start_time": "2022-05-18T16:16:08.222Z"
   },
   {
    "duration": 26,
    "start_time": "2022-05-18T16:16:08.680Z"
   },
   {
    "duration": 9,
    "start_time": "2022-05-18T16:16:21.667Z"
   },
   {
    "duration": 1394,
    "start_time": "2022-05-18T16:16:27.765Z"
   },
   {
    "duration": 934,
    "start_time": "2022-05-18T16:16:29.161Z"
   },
   {
    "duration": 35,
    "start_time": "2022-05-18T16:16:30.097Z"
   },
   {
    "duration": 166,
    "start_time": "2022-05-18T16:16:30.135Z"
   },
   {
    "duration": 113,
    "start_time": "2022-05-18T16:16:30.310Z"
   },
   {
    "duration": 523,
    "start_time": "2022-05-18T16:16:30.425Z"
   },
   {
    "duration": 143,
    "start_time": "2022-05-18T16:16:30.950Z"
   },
   {
    "duration": 1145,
    "start_time": "2022-05-18T16:16:31.095Z"
   },
   {
    "duration": 67,
    "start_time": "2022-05-18T16:16:32.242Z"
   },
   {
    "duration": 11,
    "start_time": "2022-05-18T16:16:32.312Z"
   },
   {
    "duration": 75,
    "start_time": "2022-05-18T16:16:32.326Z"
   },
   {
    "duration": 84,
    "start_time": "2022-05-18T16:16:32.404Z"
   },
   {
    "duration": 31,
    "start_time": "2022-05-18T16:16:32.489Z"
   },
   {
    "duration": 125,
    "start_time": "2022-05-18T16:16:32.522Z"
   },
   {
    "duration": 8,
    "start_time": "2022-05-18T16:16:32.649Z"
   },
   {
    "duration": 8,
    "start_time": "2022-05-18T16:16:32.659Z"
   },
   {
    "duration": 43,
    "start_time": "2022-05-18T16:16:32.669Z"
   },
   {
    "duration": 12,
    "start_time": "2022-05-18T16:16:32.720Z"
   },
   {
    "duration": 4,
    "start_time": "2022-05-18T16:16:38.251Z"
   },
   {
    "duration": 12,
    "start_time": "2022-05-18T16:16:39.177Z"
   },
   {
    "duration": 4,
    "start_time": "2022-05-18T16:16:58.977Z"
   },
   {
    "duration": 12,
    "start_time": "2022-05-18T16:16:59.493Z"
   },
   {
    "duration": 5,
    "start_time": "2022-05-18T16:17:06.268Z"
   },
   {
    "duration": 12,
    "start_time": "2022-05-18T16:17:07.133Z"
   },
   {
    "duration": 9,
    "start_time": "2022-05-18T16:18:01.032Z"
   },
   {
    "duration": 10,
    "start_time": "2022-05-18T16:18:02.045Z"
   },
   {
    "duration": 5,
    "start_time": "2022-05-18T16:18:11.126Z"
   },
   {
    "duration": 21,
    "start_time": "2022-05-18T16:18:11.690Z"
   },
   {
    "duration": 1399,
    "start_time": "2022-05-18T16:18:17.624Z"
   },
   {
    "duration": 915,
    "start_time": "2022-05-18T16:18:19.025Z"
   },
   {
    "duration": 36,
    "start_time": "2022-05-18T16:18:19.944Z"
   },
   {
    "duration": 161,
    "start_time": "2022-05-18T16:18:19.998Z"
   },
   {
    "duration": 110,
    "start_time": "2022-05-18T16:18:20.161Z"
   },
   {
    "duration": 492,
    "start_time": "2022-05-18T16:18:20.272Z"
   },
   {
    "duration": 143,
    "start_time": "2022-05-18T16:18:20.766Z"
   },
   {
    "duration": 1035,
    "start_time": "2022-05-18T16:18:20.910Z"
   },
   {
    "duration": 78,
    "start_time": "2022-05-18T16:18:21.947Z"
   },
   {
    "duration": 11,
    "start_time": "2022-05-18T16:18:22.027Z"
   },
   {
    "duration": 65,
    "start_time": "2022-05-18T16:18:22.040Z"
   },
   {
    "duration": 82,
    "start_time": "2022-05-18T16:18:22.112Z"
   },
   {
    "duration": 38,
    "start_time": "2022-05-18T16:18:22.206Z"
   },
   {
    "duration": 120,
    "start_time": "2022-05-18T16:18:22.245Z"
   },
   {
    "duration": 7,
    "start_time": "2022-05-18T16:18:22.367Z"
   },
   {
    "duration": 17,
    "start_time": "2022-05-18T16:18:22.375Z"
   },
   {
    "duration": 212,
    "start_time": "2022-05-18T16:18:22.394Z"
   },
   {
    "duration": 102,
    "start_time": "2022-05-18T16:18:22.608Z"
   },
   {
    "duration": 98,
    "start_time": "2022-05-18T16:18:38.719Z"
   },
   {
    "duration": 29,
    "start_time": "2022-05-18T16:18:50.490Z"
   },
   {
    "duration": 56,
    "start_time": "2022-05-18T16:19:08.447Z"
   },
   {
    "duration": 12,
    "start_time": "2022-05-18T16:19:09.161Z"
   },
   {
    "duration": 12,
    "start_time": "2022-05-18T16:19:31.955Z"
   },
   {
    "duration": 12,
    "start_time": "2022-05-18T16:19:33.868Z"
   },
   {
    "duration": 12,
    "start_time": "2022-05-18T16:19:36.262Z"
   },
   {
    "duration": 12,
    "start_time": "2022-05-18T16:19:39.625Z"
   },
   {
    "duration": 1481,
    "start_time": "2022-05-18T16:19:56.183Z"
   },
   {
    "duration": 936,
    "start_time": "2022-05-18T16:19:57.667Z"
   },
   {
    "duration": 32,
    "start_time": "2022-05-18T16:19:58.612Z"
   },
   {
    "duration": 143,
    "start_time": "2022-05-18T16:19:58.646Z"
   },
   {
    "duration": 107,
    "start_time": "2022-05-18T16:19:58.791Z"
   },
   {
    "duration": 527,
    "start_time": "2022-05-18T16:19:58.902Z"
   },
   {
    "duration": 136,
    "start_time": "2022-05-18T16:19:59.432Z"
   },
   {
    "duration": 1116,
    "start_time": "2022-05-18T16:19:59.570Z"
   },
   {
    "duration": 72,
    "start_time": "2022-05-18T16:20:00.688Z"
   },
   {
    "duration": 12,
    "start_time": "2022-05-18T16:20:00.763Z"
   },
   {
    "duration": 81,
    "start_time": "2022-05-18T16:20:00.776Z"
   },
   {
    "duration": 98,
    "start_time": "2022-05-18T16:20:00.859Z"
   },
   {
    "duration": 32,
    "start_time": "2022-05-18T16:20:00.959Z"
   },
   {
    "duration": 154,
    "start_time": "2022-05-18T16:20:00.993Z"
   },
   {
    "duration": 8,
    "start_time": "2022-05-18T16:20:01.148Z"
   },
   {
    "duration": 11,
    "start_time": "2022-05-18T16:20:01.157Z"
   },
   {
    "duration": 43,
    "start_time": "2022-05-18T16:20:01.170Z"
   },
   {
    "duration": 31,
    "start_time": "2022-05-18T16:20:01.217Z"
   },
   {
    "duration": 70,
    "start_time": "2022-05-18T16:20:19.013Z"
   },
   {
    "duration": 449,
    "start_time": "2022-05-18T16:23:36.991Z"
   },
   {
    "duration": 3,
    "start_time": "2022-05-18T16:27:25.590Z"
   },
   {
    "duration": 13,
    "start_time": "2022-05-18T16:28:13.529Z"
   },
   {
    "duration": 46,
    "start_time": "2022-05-18T16:29:05.136Z"
   },
   {
    "duration": 45,
    "start_time": "2022-05-18T16:29:11.329Z"
   },
   {
    "duration": 11,
    "start_time": "2022-05-18T16:30:34.642Z"
   },
   {
    "duration": 27,
    "start_time": "2022-05-18T16:30:41.603Z"
   },
   {
    "duration": 47,
    "start_time": "2022-05-18T16:30:56.763Z"
   },
   {
    "duration": 50,
    "start_time": "2022-05-18T16:31:05.520Z"
   },
   {
    "duration": 27,
    "start_time": "2022-05-18T16:31:11.766Z"
   },
   {
    "duration": 41,
    "start_time": "2022-05-18T16:31:28.031Z"
   },
   {
    "duration": 18,
    "start_time": "2022-05-18T16:31:36.645Z"
   },
   {
    "duration": 23,
    "start_time": "2022-05-18T16:31:42.110Z"
   },
   {
    "duration": 14,
    "start_time": "2022-05-18T16:31:49.932Z"
   },
   {
    "duration": 14,
    "start_time": "2022-05-18T16:31:59.466Z"
   },
   {
    "duration": 66,
    "start_time": "2022-05-18T16:33:18.118Z"
   },
   {
    "duration": 22,
    "start_time": "2022-05-18T16:33:27.392Z"
   },
   {
    "duration": 11,
    "start_time": "2022-05-18T16:34:35.601Z"
   },
   {
    "duration": 149,
    "start_time": "2022-05-18T16:34:44.578Z"
   },
   {
    "duration": 8,
    "start_time": "2022-05-18T16:34:51.463Z"
   },
   {
    "duration": 108,
    "start_time": "2022-05-18T16:35:02.224Z"
   },
   {
    "duration": 93,
    "start_time": "2022-05-18T16:35:06.857Z"
   },
   {
    "duration": 84,
    "start_time": "2022-05-18T16:35:48.981Z"
   },
   {
    "duration": 6,
    "start_time": "2022-05-18T16:35:59.423Z"
   },
   {
    "duration": 88,
    "start_time": "2022-05-18T16:35:59.835Z"
   },
   {
    "duration": 1505,
    "start_time": "2022-05-18T16:36:16.317Z"
   },
   {
    "duration": 938,
    "start_time": "2022-05-18T16:36:17.826Z"
   },
   {
    "duration": 34,
    "start_time": "2022-05-18T16:36:18.766Z"
   },
   {
    "duration": 153,
    "start_time": "2022-05-18T16:36:18.805Z"
   },
   {
    "duration": 114,
    "start_time": "2022-05-18T16:36:18.961Z"
   },
   {
    "duration": 548,
    "start_time": "2022-05-18T16:36:19.077Z"
   },
   {
    "duration": 135,
    "start_time": "2022-05-18T16:36:19.631Z"
   },
   {
    "duration": 1120,
    "start_time": "2022-05-18T16:36:19.768Z"
   },
   {
    "duration": 75,
    "start_time": "2022-05-18T16:36:20.890Z"
   },
   {
    "duration": 11,
    "start_time": "2022-05-18T16:36:20.967Z"
   },
   {
    "duration": 71,
    "start_time": "2022-05-18T16:36:20.996Z"
   },
   {
    "duration": 101,
    "start_time": "2022-05-18T16:36:21.068Z"
   },
   {
    "duration": 42,
    "start_time": "2022-05-18T16:36:21.171Z"
   },
   {
    "duration": 127,
    "start_time": "2022-05-18T16:36:21.217Z"
   },
   {
    "duration": 7,
    "start_time": "2022-05-18T16:36:21.345Z"
   },
   {
    "duration": 7,
    "start_time": "2022-05-18T16:36:21.354Z"
   },
   {
    "duration": 61,
    "start_time": "2022-05-18T16:36:21.363Z"
   },
   {
    "duration": 13,
    "start_time": "2022-05-18T16:36:21.427Z"
   },
   {
    "duration": 169,
    "start_time": "2022-05-18T16:36:21.442Z"
   },
   {
    "duration": 0,
    "start_time": "2022-05-18T16:36:21.616Z"
   },
   {
    "duration": 16,
    "start_time": "2022-05-18T16:36:29.395Z"
   },
   {
    "duration": 25,
    "start_time": "2022-05-18T16:36:36.391Z"
   },
   {
    "duration": 1561,
    "start_time": "2022-05-18T16:36:44.584Z"
   },
   {
    "duration": 1044,
    "start_time": "2022-05-18T16:36:46.148Z"
   },
   {
    "duration": 38,
    "start_time": "2022-05-18T16:36:47.195Z"
   },
   {
    "duration": 175,
    "start_time": "2022-05-18T16:36:47.235Z"
   },
   {
    "duration": 143,
    "start_time": "2022-05-18T16:36:47.412Z"
   },
   {
    "duration": 596,
    "start_time": "2022-05-18T16:36:47.557Z"
   },
   {
    "duration": 153,
    "start_time": "2022-05-18T16:36:48.155Z"
   },
   {
    "duration": 1157,
    "start_time": "2022-05-18T16:36:48.313Z"
   },
   {
    "duration": 80,
    "start_time": "2022-05-18T16:36:49.472Z"
   },
   {
    "duration": 13,
    "start_time": "2022-05-18T16:36:49.554Z"
   },
   {
    "duration": 90,
    "start_time": "2022-05-18T16:36:49.570Z"
   },
   {
    "duration": 98,
    "start_time": "2022-05-18T16:36:49.662Z"
   },
   {
    "duration": 37,
    "start_time": "2022-05-18T16:36:49.762Z"
   },
   {
    "duration": 124,
    "start_time": "2022-05-18T16:36:49.812Z"
   },
   {
    "duration": 8,
    "start_time": "2022-05-18T16:36:49.938Z"
   },
   {
    "duration": 7,
    "start_time": "2022-05-18T16:36:49.948Z"
   },
   {
    "duration": 56,
    "start_time": "2022-05-18T16:36:49.957Z"
   },
   {
    "duration": 20,
    "start_time": "2022-05-18T16:36:50.015Z"
   },
   {
    "duration": 11,
    "start_time": "2022-05-18T16:36:50.037Z"
   },
   {
    "duration": 104,
    "start_time": "2022-05-18T16:36:50.050Z"
   },
   {
    "duration": 138,
    "start_time": "2022-05-18T16:37:01.136Z"
   },
   {
    "duration": 8,
    "start_time": "2022-05-18T16:37:07.643Z"
   },
   {
    "duration": 87,
    "start_time": "2022-05-18T16:37:09.187Z"
   },
   {
    "duration": 7,
    "start_time": "2022-05-18T16:37:35.611Z"
   },
   {
    "duration": 89,
    "start_time": "2022-05-18T16:37:36.328Z"
   },
   {
    "duration": 1538,
    "start_time": "2022-05-18T16:38:11.528Z"
   },
   {
    "duration": 1111,
    "start_time": "2022-05-18T16:38:13.069Z"
   },
   {
    "duration": 64,
    "start_time": "2022-05-18T16:38:14.182Z"
   },
   {
    "duration": 159,
    "start_time": "2022-05-18T16:38:14.249Z"
   },
   {
    "duration": 118,
    "start_time": "2022-05-18T16:38:14.419Z"
   },
   {
    "duration": 546,
    "start_time": "2022-05-18T16:38:14.539Z"
   },
   {
    "duration": 172,
    "start_time": "2022-05-18T16:38:15.086Z"
   },
   {
    "duration": 1270,
    "start_time": "2022-05-18T16:38:15.260Z"
   },
   {
    "duration": 85,
    "start_time": "2022-05-18T16:38:16.533Z"
   },
   {
    "duration": 13,
    "start_time": "2022-05-18T16:38:16.621Z"
   },
   {
    "duration": 87,
    "start_time": "2022-05-18T16:38:16.636Z"
   },
   {
    "duration": 111,
    "start_time": "2022-05-18T16:38:16.725Z"
   },
   {
    "duration": 23,
    "start_time": "2022-05-18T16:38:16.838Z"
   },
   {
    "duration": 151,
    "start_time": "2022-05-18T16:38:16.864Z"
   },
   {
    "duration": 8,
    "start_time": "2022-05-18T16:38:17.023Z"
   },
   {
    "duration": 12,
    "start_time": "2022-05-18T16:38:17.034Z"
   },
   {
    "duration": 62,
    "start_time": "2022-05-18T16:38:17.050Z"
   },
   {
    "duration": 19,
    "start_time": "2022-05-18T16:38:17.116Z"
   },
   {
    "duration": 14,
    "start_time": "2022-05-18T16:38:17.137Z"
   },
   {
    "duration": 96,
    "start_time": "2022-05-18T16:38:26.551Z"
   },
   {
    "duration": 46,
    "start_time": "2022-05-18T16:39:22.714Z"
   },
   {
    "duration": 98,
    "start_time": "2022-05-18T16:39:33.755Z"
   },
   {
    "duration": 78,
    "start_time": "2022-05-18T16:40:00.766Z"
   },
   {
    "duration": 102,
    "start_time": "2022-05-18T16:40:01.720Z"
   },
   {
    "duration": 1551,
    "start_time": "2022-05-18T16:40:07.140Z"
   },
   {
    "duration": 1044,
    "start_time": "2022-05-18T16:40:08.693Z"
   },
   {
    "duration": 31,
    "start_time": "2022-05-18T16:40:09.739Z"
   },
   {
    "duration": 194,
    "start_time": "2022-05-18T16:40:09.772Z"
   },
   {
    "duration": 146,
    "start_time": "2022-05-18T16:40:09.969Z"
   },
   {
    "duration": 576,
    "start_time": "2022-05-18T16:40:10.117Z"
   },
   {
    "duration": 170,
    "start_time": "2022-05-18T16:40:10.694Z"
   },
   {
    "duration": 1224,
    "start_time": "2022-05-18T16:40:10.866Z"
   },
   {
    "duration": 70,
    "start_time": "2022-05-18T16:40:12.094Z"
   },
   {
    "duration": 13,
    "start_time": "2022-05-18T16:40:12.166Z"
   },
   {
    "duration": 104,
    "start_time": "2022-05-18T16:40:12.194Z"
   },
   {
    "duration": 116,
    "start_time": "2022-05-18T16:40:12.305Z"
   },
   {
    "duration": 39,
    "start_time": "2022-05-18T16:40:12.424Z"
   },
   {
    "duration": 146,
    "start_time": "2022-05-18T16:40:12.467Z"
   },
   {
    "duration": 8,
    "start_time": "2022-05-18T16:40:12.623Z"
   },
   {
    "duration": 25,
    "start_time": "2022-05-18T16:40:12.633Z"
   },
   {
    "duration": 101,
    "start_time": "2022-05-18T16:40:12.660Z"
   },
   {
    "duration": 15,
    "start_time": "2022-05-18T16:40:12.763Z"
   },
   {
    "duration": 35,
    "start_time": "2022-05-18T16:40:12.780Z"
   },
   {
    "duration": 96,
    "start_time": "2022-05-18T16:40:12.825Z"
   },
   {
    "duration": 81,
    "start_time": "2022-05-18T16:40:12.923Z"
   },
   {
    "duration": 38,
    "start_time": "2022-05-18T16:40:19.555Z"
   },
   {
    "duration": 6,
    "start_time": "2022-05-18T16:40:32.687Z"
   },
   {
    "duration": 149,
    "start_time": "2022-05-18T16:42:48.101Z"
   },
   {
    "duration": 43,
    "start_time": "2022-05-18T16:42:53.829Z"
   },
   {
    "duration": 72,
    "start_time": "2022-05-18T16:43:10.902Z"
   },
   {
    "duration": 8,
    "start_time": "2022-05-18T16:43:44.123Z"
   },
   {
    "duration": 46,
    "start_time": "2022-05-18T16:43:45.413Z"
   },
   {
    "duration": 69,
    "start_time": "2022-05-18T16:43:46.111Z"
   },
   {
    "duration": 1514,
    "start_time": "2022-05-18T16:43:59.624Z"
   },
   {
    "duration": 993,
    "start_time": "2022-05-18T16:44:01.140Z"
   },
   {
    "duration": 34,
    "start_time": "2022-05-18T16:44:02.135Z"
   },
   {
    "duration": 187,
    "start_time": "2022-05-18T16:44:02.170Z"
   },
   {
    "duration": 123,
    "start_time": "2022-05-18T16:44:02.360Z"
   },
   {
    "duration": 608,
    "start_time": "2022-05-18T16:44:02.485Z"
   },
   {
    "duration": 191,
    "start_time": "2022-05-18T16:44:03.108Z"
   },
   {
    "duration": 1245,
    "start_time": "2022-05-18T16:44:03.313Z"
   },
   {
    "duration": 83,
    "start_time": "2022-05-18T16:44:04.560Z"
   },
   {
    "duration": 14,
    "start_time": "2022-05-18T16:44:04.645Z"
   },
   {
    "duration": 101,
    "start_time": "2022-05-18T16:44:04.661Z"
   },
   {
    "duration": 120,
    "start_time": "2022-05-18T16:44:04.764Z"
   },
   {
    "duration": 58,
    "start_time": "2022-05-18T16:44:04.886Z"
   },
   {
    "duration": 155,
    "start_time": "2022-05-18T16:44:04.946Z"
   },
   {
    "duration": 13,
    "start_time": "2022-05-18T16:44:05.104Z"
   },
   {
    "duration": 41,
    "start_time": "2022-05-18T16:44:05.121Z"
   },
   {
    "duration": 63,
    "start_time": "2022-05-18T16:44:05.164Z"
   },
   {
    "duration": 17,
    "start_time": "2022-05-18T16:44:05.236Z"
   },
   {
    "duration": 10,
    "start_time": "2022-05-18T16:44:05.255Z"
   },
   {
    "duration": 59,
    "start_time": "2022-05-18T16:44:05.268Z"
   },
   {
    "duration": 119,
    "start_time": "2022-05-18T16:44:05.333Z"
   },
   {
    "duration": 1678,
    "start_time": "2022-05-18T16:44:16.913Z"
   },
   {
    "duration": 1084,
    "start_time": "2022-05-18T16:44:18.594Z"
   },
   {
    "duration": 53,
    "start_time": "2022-05-18T16:44:19.680Z"
   },
   {
    "duration": 183,
    "start_time": "2022-05-18T16:44:19.736Z"
   },
   {
    "duration": 117,
    "start_time": "2022-05-18T16:44:19.924Z"
   },
   {
    "duration": 595,
    "start_time": "2022-05-18T16:44:20.043Z"
   },
   {
    "duration": 175,
    "start_time": "2022-05-18T16:44:20.640Z"
   },
   {
    "duration": 1218,
    "start_time": "2022-05-18T16:44:20.817Z"
   },
   {
    "duration": 86,
    "start_time": "2022-05-18T16:44:22.037Z"
   },
   {
    "duration": 13,
    "start_time": "2022-05-18T16:44:22.134Z"
   },
   {
    "duration": 95,
    "start_time": "2022-05-18T16:44:22.150Z"
   },
   {
    "duration": 109,
    "start_time": "2022-05-18T16:44:22.249Z"
   },
   {
    "duration": 50,
    "start_time": "2022-05-18T16:44:22.360Z"
   },
   {
    "duration": 148,
    "start_time": "2022-05-18T16:44:22.411Z"
   },
   {
    "duration": 7,
    "start_time": "2022-05-18T16:44:22.561Z"
   },
   {
    "duration": 12,
    "start_time": "2022-05-18T16:44:22.570Z"
   },
   {
    "duration": 85,
    "start_time": "2022-05-18T16:44:22.585Z"
   },
   {
    "duration": 15,
    "start_time": "2022-05-18T16:44:22.672Z"
   },
   {
    "duration": 38,
    "start_time": "2022-05-18T16:44:22.689Z"
   },
   {
    "duration": 74,
    "start_time": "2022-05-18T16:44:22.729Z"
   },
   {
    "duration": 119,
    "start_time": "2022-05-18T16:44:22.806Z"
   },
   {
    "duration": 129,
    "start_time": "2022-05-18T16:44:32.649Z"
   },
   {
    "duration": 39,
    "start_time": "2022-05-18T16:46:18.548Z"
   },
   {
    "duration": 17,
    "start_time": "2022-05-18T16:46:34.628Z"
   },
   {
    "duration": 1622,
    "start_time": "2022-05-18T16:46:51.175Z"
   },
   {
    "duration": 1043,
    "start_time": "2022-05-18T16:46:52.801Z"
   },
   {
    "duration": 34,
    "start_time": "2022-05-18T16:46:53.846Z"
   },
   {
    "duration": 199,
    "start_time": "2022-05-18T16:46:53.881Z"
   },
   {
    "duration": 162,
    "start_time": "2022-05-18T16:46:54.083Z"
   },
   {
    "duration": 612,
    "start_time": "2022-05-18T16:46:54.248Z"
   },
   {
    "duration": 188,
    "start_time": "2022-05-18T16:46:54.862Z"
   },
   {
    "duration": 1247,
    "start_time": "2022-05-18T16:46:55.052Z"
   },
   {
    "duration": 65,
    "start_time": "2022-05-18T16:46:56.300Z"
   },
   {
    "duration": 28,
    "start_time": "2022-05-18T16:46:56.368Z"
   },
   {
    "duration": 77,
    "start_time": "2022-05-18T16:46:56.403Z"
   },
   {
    "duration": 146,
    "start_time": "2022-05-18T16:46:56.482Z"
   },
   {
    "duration": 34,
    "start_time": "2022-05-18T16:46:56.631Z"
   },
   {
    "duration": 155,
    "start_time": "2022-05-18T16:46:56.668Z"
   },
   {
    "duration": 10,
    "start_time": "2022-05-18T16:46:56.825Z"
   },
   {
    "duration": 11,
    "start_time": "2022-05-18T16:46:56.837Z"
   },
   {
    "duration": 26,
    "start_time": "2022-05-18T16:46:56.850Z"
   },
   {
    "duration": 39,
    "start_time": "2022-05-18T16:46:56.878Z"
   },
   {
    "duration": 21,
    "start_time": "2022-05-18T16:46:56.918Z"
   },
   {
    "duration": 14,
    "start_time": "2022-05-18T16:46:56.941Z"
   },
   {
    "duration": 141,
    "start_time": "2022-05-18T16:46:56.957Z"
   },
   {
    "duration": 181,
    "start_time": "2022-05-18T16:47:49.548Z"
   },
   {
    "duration": 134,
    "start_time": "2022-05-18T16:48:08.724Z"
   },
   {
    "duration": 294,
    "start_time": "2022-05-18T16:48:47.559Z"
   },
   {
    "duration": 187,
    "start_time": "2022-05-18T16:48:54.888Z"
   },
   {
    "duration": 8,
    "start_time": "2022-05-18T16:49:04.068Z"
   },
   {
    "duration": 116,
    "start_time": "2022-05-18T16:49:04.524Z"
   },
   {
    "duration": 113,
    "start_time": "2022-05-18T16:49:09.128Z"
   },
   {
    "duration": 1596,
    "start_time": "2022-05-18T16:49:16.816Z"
   },
   {
    "duration": 1116,
    "start_time": "2022-05-18T16:49:18.415Z"
   },
   {
    "duration": 34,
    "start_time": "2022-05-18T16:49:19.533Z"
   },
   {
    "duration": 175,
    "start_time": "2022-05-18T16:49:19.570Z"
   },
   {
    "duration": 166,
    "start_time": "2022-05-18T16:49:19.747Z"
   },
   {
    "duration": 601,
    "start_time": "2022-05-18T16:49:19.916Z"
   },
   {
    "duration": 154,
    "start_time": "2022-05-18T16:49:20.518Z"
   },
   {
    "duration": 1279,
    "start_time": "2022-05-18T16:49:20.674Z"
   },
   {
    "duration": 70,
    "start_time": "2022-05-18T16:49:21.955Z"
   },
   {
    "duration": 12,
    "start_time": "2022-05-18T16:49:22.028Z"
   },
   {
    "duration": 97,
    "start_time": "2022-05-18T16:49:22.042Z"
   },
   {
    "duration": 121,
    "start_time": "2022-05-18T16:49:22.142Z"
   },
   {
    "duration": 60,
    "start_time": "2022-05-18T16:49:22.266Z"
   },
   {
    "duration": 131,
    "start_time": "2022-05-18T16:49:22.328Z"
   },
   {
    "duration": 8,
    "start_time": "2022-05-18T16:49:22.461Z"
   },
   {
    "duration": 24,
    "start_time": "2022-05-18T16:49:22.472Z"
   },
   {
    "duration": 23,
    "start_time": "2022-05-18T16:49:22.502Z"
   },
   {
    "duration": 30,
    "start_time": "2022-05-18T16:49:22.527Z"
   },
   {
    "duration": 39,
    "start_time": "2022-05-18T16:49:22.561Z"
   },
   {
    "duration": 12,
    "start_time": "2022-05-18T16:49:22.602Z"
   },
   {
    "duration": 127,
    "start_time": "2022-05-18T16:49:22.616Z"
   },
   {
    "duration": 129,
    "start_time": "2022-05-18T16:49:22.745Z"
   },
   {
    "duration": 196,
    "start_time": "2022-05-18T16:49:29.126Z"
   },
   {
    "duration": 208,
    "start_time": "2022-05-18T16:49:44.532Z"
   },
   {
    "duration": 218,
    "start_time": "2022-05-18T16:50:22.136Z"
   },
   {
    "duration": 217,
    "start_time": "2022-05-18T16:50:28.191Z"
   },
   {
    "duration": 208,
    "start_time": "2022-05-18T16:50:30.375Z"
   },
   {
    "duration": 1500,
    "start_time": "2022-05-18T16:50:41.331Z"
   },
   {
    "duration": 958,
    "start_time": "2022-05-18T16:50:42.833Z"
   },
   {
    "duration": 37,
    "start_time": "2022-05-18T16:50:43.794Z"
   },
   {
    "duration": 185,
    "start_time": "2022-05-18T16:50:43.833Z"
   },
   {
    "duration": 120,
    "start_time": "2022-05-18T16:50:44.021Z"
   },
   {
    "duration": 758,
    "start_time": "2022-05-18T16:50:44.143Z"
   },
   {
    "duration": 246,
    "start_time": "2022-05-18T16:50:44.903Z"
   },
   {
    "duration": 1361,
    "start_time": "2022-05-18T16:50:45.151Z"
   },
   {
    "duration": 63,
    "start_time": "2022-05-18T16:50:46.529Z"
   },
   {
    "duration": 12,
    "start_time": "2022-05-18T16:50:46.596Z"
   },
   {
    "duration": 100,
    "start_time": "2022-05-18T16:50:46.610Z"
   },
   {
    "duration": 112,
    "start_time": "2022-05-18T16:50:46.716Z"
   },
   {
    "duration": 36,
    "start_time": "2022-05-18T16:50:46.831Z"
   },
   {
    "duration": 149,
    "start_time": "2022-05-18T16:50:46.870Z"
   },
   {
    "duration": 7,
    "start_time": "2022-05-18T16:50:47.022Z"
   },
   {
    "duration": 8,
    "start_time": "2022-05-18T16:50:47.032Z"
   },
   {
    "duration": 33,
    "start_time": "2022-05-18T16:50:47.048Z"
   },
   {
    "duration": 52,
    "start_time": "2022-05-18T16:50:47.083Z"
   },
   {
    "duration": 19,
    "start_time": "2022-05-18T16:50:47.137Z"
   },
   {
    "duration": 11,
    "start_time": "2022-05-18T16:50:47.159Z"
   },
   {
    "duration": 154,
    "start_time": "2022-05-18T16:50:47.173Z"
   },
   {
    "duration": 226,
    "start_time": "2022-05-18T16:50:47.329Z"
   },
   {
    "duration": 1535,
    "start_time": "2022-05-18T16:51:24.755Z"
   },
   {
    "duration": 943,
    "start_time": "2022-05-18T16:51:26.293Z"
   },
   {
    "duration": 45,
    "start_time": "2022-05-18T16:51:27.240Z"
   },
   {
    "duration": 237,
    "start_time": "2022-05-18T16:51:27.288Z"
   },
   {
    "duration": 159,
    "start_time": "2022-05-18T16:51:27.531Z"
   },
   {
    "duration": 655,
    "start_time": "2022-05-18T16:51:27.692Z"
   },
   {
    "duration": 202,
    "start_time": "2022-05-18T16:51:28.349Z"
   },
   {
    "duration": 1209,
    "start_time": "2022-05-18T16:51:28.553Z"
   },
   {
    "duration": 71,
    "start_time": "2022-05-18T16:51:29.764Z"
   },
   {
    "duration": 20,
    "start_time": "2022-05-18T16:51:29.838Z"
   },
   {
    "duration": 92,
    "start_time": "2022-05-18T16:51:29.861Z"
   },
   {
    "duration": 99,
    "start_time": "2022-05-18T16:51:29.955Z"
   },
   {
    "duration": 27,
    "start_time": "2022-05-18T16:51:30.056Z"
   },
   {
    "duration": 157,
    "start_time": "2022-05-18T16:51:30.085Z"
   },
   {
    "duration": 8,
    "start_time": "2022-05-18T16:51:30.245Z"
   },
   {
    "duration": 32,
    "start_time": "2022-05-18T16:51:30.255Z"
   },
   {
    "duration": 71,
    "start_time": "2022-05-18T16:51:30.289Z"
   },
   {
    "duration": 43,
    "start_time": "2022-05-18T16:51:30.363Z"
   },
   {
    "duration": 19,
    "start_time": "2022-05-18T16:51:30.415Z"
   },
   {
    "duration": 25,
    "start_time": "2022-05-18T16:51:30.437Z"
   },
   {
    "duration": 145,
    "start_time": "2022-05-18T16:51:30.465Z"
   },
   {
    "duration": 122,
    "start_time": "2022-05-18T16:51:30.613Z"
   },
   {
    "duration": 58,
    "start_time": "2022-05-20T07:59:04.669Z"
   },
   {
    "duration": 1481,
    "start_time": "2022-05-20T07:59:10.937Z"
   },
   {
    "duration": 2717,
    "start_time": "2022-05-20T07:59:12.421Z"
   },
   {
    "duration": 29,
    "start_time": "2022-05-20T07:59:15.140Z"
   },
   {
    "duration": 136,
    "start_time": "2022-05-20T07:59:15.171Z"
   },
   {
    "duration": 99,
    "start_time": "2022-05-20T07:59:15.308Z"
   },
   {
    "duration": 455,
    "start_time": "2022-05-20T07:59:15.409Z"
   },
   {
    "duration": 126,
    "start_time": "2022-05-20T07:59:15.866Z"
   },
   {
    "duration": 959,
    "start_time": "2022-05-20T07:59:15.993Z"
   },
   {
    "duration": 61,
    "start_time": "2022-05-20T07:59:16.954Z"
   },
   {
    "duration": 11,
    "start_time": "2022-05-20T07:59:17.018Z"
   },
   {
    "duration": 76,
    "start_time": "2022-05-20T07:59:17.031Z"
   },
   {
    "duration": 81,
    "start_time": "2022-05-20T07:59:17.108Z"
   },
   {
    "duration": 18,
    "start_time": "2022-05-20T07:59:17.191Z"
   },
   {
    "duration": 104,
    "start_time": "2022-05-20T07:59:17.211Z"
   },
   {
    "duration": 6,
    "start_time": "2022-05-20T07:59:17.317Z"
   },
   {
    "duration": 9,
    "start_time": "2022-05-20T07:59:17.325Z"
   },
   {
    "duration": 15,
    "start_time": "2022-05-20T07:59:17.336Z"
   },
   {
    "duration": 47,
    "start_time": "2022-05-20T07:59:17.353Z"
   },
   {
    "duration": 13,
    "start_time": "2022-05-20T07:59:17.402Z"
   },
   {
    "duration": 10,
    "start_time": "2022-05-20T07:59:17.417Z"
   },
   {
    "duration": 120,
    "start_time": "2022-05-20T07:59:17.429Z"
   },
   {
    "duration": 104,
    "start_time": "2022-05-20T07:59:17.551Z"
   },
   {
    "duration": 154,
    "start_time": "2022-05-20T07:59:17.657Z"
   },
   {
    "duration": 14,
    "start_time": "2022-05-20T07:59:48.656Z"
   },
   {
    "duration": 14,
    "start_time": "2022-05-20T08:00:06.627Z"
   },
   {
    "duration": 15,
    "start_time": "2022-05-20T08:00:11.830Z"
   },
   {
    "duration": 507,
    "start_time": "2022-05-20T08:01:09.153Z"
   },
   {
    "duration": 175,
    "start_time": "2022-05-20T08:01:36.532Z"
   },
   {
    "duration": 159,
    "start_time": "2022-05-20T08:01:53.232Z"
   },
   {
    "duration": 25,
    "start_time": "2022-05-20T08:02:01.887Z"
   },
   {
    "duration": 15,
    "start_time": "2022-05-20T08:02:13.029Z"
   },
   {
    "duration": 14,
    "start_time": "2022-05-20T08:02:21.836Z"
   },
   {
    "duration": 19,
    "start_time": "2022-05-20T08:14:37.756Z"
   },
   {
    "duration": 76,
    "start_time": "2022-05-20T08:14:59.536Z"
   },
   {
    "duration": 30,
    "start_time": "2022-05-20T08:15:12.025Z"
   },
   {
    "duration": 444,
    "start_time": "2022-05-20T08:15:20.968Z"
   },
   {
    "duration": 519,
    "start_time": "2022-05-20T08:15:48.784Z"
   },
   {
    "duration": 1289,
    "start_time": "2022-05-20T08:15:58.648Z"
   },
   {
    "duration": 785,
    "start_time": "2022-05-20T08:15:59.939Z"
   },
   {
    "duration": 26,
    "start_time": "2022-05-20T08:16:00.726Z"
   },
   {
    "duration": 139,
    "start_time": "2022-05-20T08:16:00.754Z"
   },
   {
    "duration": 131,
    "start_time": "2022-05-20T08:16:00.895Z"
   },
   {
    "duration": 456,
    "start_time": "2022-05-20T08:16:01.028Z"
   },
   {
    "duration": 115,
    "start_time": "2022-05-20T08:16:01.486Z"
   },
   {
    "duration": 934,
    "start_time": "2022-05-20T08:16:01.602Z"
   },
   {
    "duration": 59,
    "start_time": "2022-05-20T08:16:02.537Z"
   },
   {
    "duration": 9,
    "start_time": "2022-05-20T08:16:02.599Z"
   },
   {
    "duration": 90,
    "start_time": "2022-05-20T08:16:02.610Z"
   },
   {
    "duration": 87,
    "start_time": "2022-05-20T08:16:02.702Z"
   },
   {
    "duration": 19,
    "start_time": "2022-05-20T08:16:02.791Z"
   },
   {
    "duration": 104,
    "start_time": "2022-05-20T08:16:02.811Z"
   },
   {
    "duration": 7,
    "start_time": "2022-05-20T08:16:02.916Z"
   },
   {
    "duration": 5,
    "start_time": "2022-05-20T08:16:02.925Z"
   },
   {
    "duration": 22,
    "start_time": "2022-05-20T08:16:02.932Z"
   },
   {
    "duration": 50,
    "start_time": "2022-05-20T08:16:02.956Z"
   },
   {
    "duration": 14,
    "start_time": "2022-05-20T08:16:03.008Z"
   },
   {
    "duration": 10,
    "start_time": "2022-05-20T08:16:03.024Z"
   },
   {
    "duration": 110,
    "start_time": "2022-05-20T08:16:03.035Z"
   },
   {
    "duration": 104,
    "start_time": "2022-05-20T08:16:03.147Z"
   },
   {
    "duration": 26,
    "start_time": "2022-05-20T08:16:03.252Z"
   },
   {
    "duration": 20,
    "start_time": "2022-05-20T08:24:53.810Z"
   },
   {
    "duration": 17,
    "start_time": "2022-05-20T08:25:04.351Z"
   },
   {
    "duration": 67,
    "start_time": "2022-05-20T08:25:19.500Z"
   },
   {
    "duration": 121,
    "start_time": "2022-05-20T08:25:32.115Z"
   },
   {
    "duration": 21,
    "start_time": "2022-05-20T08:25:44.742Z"
   },
   {
    "duration": 9,
    "start_time": "2022-05-20T08:25:45.894Z"
   },
   {
    "duration": 10,
    "start_time": "2022-05-20T08:25:57.238Z"
   },
   {
    "duration": 1377,
    "start_time": "2022-05-20T08:26:04.555Z"
   },
   {
    "duration": 801,
    "start_time": "2022-05-20T08:26:05.934Z"
   },
   {
    "duration": 33,
    "start_time": "2022-05-20T08:26:06.736Z"
   },
   {
    "duration": 162,
    "start_time": "2022-05-20T08:26:06.771Z"
   },
   {
    "duration": 117,
    "start_time": "2022-05-20T08:26:06.935Z"
   },
   {
    "duration": 480,
    "start_time": "2022-05-20T08:26:07.054Z"
   },
   {
    "duration": 124,
    "start_time": "2022-05-20T08:26:07.536Z"
   },
   {
    "duration": 1057,
    "start_time": "2022-05-20T08:26:07.662Z"
   },
   {
    "duration": 69,
    "start_time": "2022-05-20T08:26:08.722Z"
   },
   {
    "duration": 10,
    "start_time": "2022-05-20T08:26:08.795Z"
   },
   {
    "duration": 61,
    "start_time": "2022-05-20T08:26:08.806Z"
   },
   {
    "duration": 100,
    "start_time": "2022-05-20T08:26:08.868Z"
   },
   {
    "duration": 31,
    "start_time": "2022-05-20T08:26:08.970Z"
   },
   {
    "duration": 128,
    "start_time": "2022-05-20T08:26:09.003Z"
   },
   {
    "duration": 7,
    "start_time": "2022-05-20T08:26:09.133Z"
   },
   {
    "duration": 7,
    "start_time": "2022-05-20T08:26:09.142Z"
   },
   {
    "duration": 35,
    "start_time": "2022-05-20T08:26:09.151Z"
   },
   {
    "duration": 31,
    "start_time": "2022-05-20T08:26:09.188Z"
   },
   {
    "duration": 15,
    "start_time": "2022-05-20T08:26:09.221Z"
   },
   {
    "duration": 11,
    "start_time": "2022-05-20T08:26:09.238Z"
   },
   {
    "duration": 150,
    "start_time": "2022-05-20T08:26:09.250Z"
   },
   {
    "duration": 110,
    "start_time": "2022-05-20T08:26:09.401Z"
   },
   {
    "duration": 28,
    "start_time": "2022-05-20T08:26:09.514Z"
   },
   {
    "duration": 4,
    "start_time": "2022-05-20T08:26:09.544Z"
   },
   {
    "duration": 49,
    "start_time": "2022-05-20T08:26:09.550Z"
   },
   {
    "duration": 60,
    "start_time": "2022-05-20T08:26:09.601Z"
   },
   {
    "duration": 1336,
    "start_time": "2022-05-20T08:26:28.902Z"
   },
   {
    "duration": 833,
    "start_time": "2022-05-20T08:26:30.241Z"
   },
   {
    "duration": 32,
    "start_time": "2022-05-20T08:26:31.076Z"
   },
   {
    "duration": 155,
    "start_time": "2022-05-20T08:26:31.111Z"
   },
   {
    "duration": 123,
    "start_time": "2022-05-20T08:26:31.267Z"
   },
   {
    "duration": 543,
    "start_time": "2022-05-20T08:26:31.391Z"
   },
   {
    "duration": 150,
    "start_time": "2022-05-20T08:26:31.936Z"
   },
   {
    "duration": 1051,
    "start_time": "2022-05-20T08:26:32.087Z"
   },
   {
    "duration": 69,
    "start_time": "2022-05-20T08:26:33.140Z"
   },
   {
    "duration": 11,
    "start_time": "2022-05-20T08:26:33.213Z"
   },
   {
    "duration": 92,
    "start_time": "2022-05-20T08:26:33.226Z"
   },
   {
    "duration": 89,
    "start_time": "2022-05-20T08:26:33.320Z"
   },
   {
    "duration": 19,
    "start_time": "2022-05-20T08:26:33.411Z"
   },
   {
    "duration": 124,
    "start_time": "2022-05-20T08:26:33.431Z"
   },
   {
    "duration": 6,
    "start_time": "2022-05-20T08:26:33.557Z"
   },
   {
    "duration": 20,
    "start_time": "2022-05-20T08:26:33.565Z"
   },
   {
    "duration": 20,
    "start_time": "2022-05-20T08:26:33.590Z"
   },
   {
    "duration": 37,
    "start_time": "2022-05-20T08:26:33.612Z"
   },
   {
    "duration": 14,
    "start_time": "2022-05-20T08:26:33.652Z"
   },
   {
    "duration": 27,
    "start_time": "2022-05-20T08:26:33.668Z"
   },
   {
    "duration": 129,
    "start_time": "2022-05-20T08:26:33.698Z"
   },
   {
    "duration": 116,
    "start_time": "2022-05-20T08:26:33.829Z"
   },
   {
    "duration": 15,
    "start_time": "2022-05-20T08:26:33.946Z"
   },
   {
    "duration": 6,
    "start_time": "2022-05-20T08:26:33.963Z"
   },
   {
    "duration": 41,
    "start_time": "2022-05-20T08:26:33.971Z"
   },
   {
    "duration": 74,
    "start_time": "2022-05-20T08:26:34.014Z"
   },
   {
    "duration": 1494,
    "start_time": "2022-05-20T08:28:01.275Z"
   },
   {
    "duration": 932,
    "start_time": "2022-05-20T08:28:02.771Z"
   },
   {
    "duration": 40,
    "start_time": "2022-05-20T08:28:03.706Z"
   },
   {
    "duration": 152,
    "start_time": "2022-05-20T08:28:03.748Z"
   },
   {
    "duration": 124,
    "start_time": "2022-05-20T08:28:03.904Z"
   },
   {
    "duration": 554,
    "start_time": "2022-05-20T08:28:04.030Z"
   },
   {
    "duration": 147,
    "start_time": "2022-05-20T08:28:04.587Z"
   },
   {
    "duration": 1124,
    "start_time": "2022-05-20T08:28:04.736Z"
   },
   {
    "duration": 77,
    "start_time": "2022-05-20T08:28:05.862Z"
   },
   {
    "duration": 14,
    "start_time": "2022-05-20T08:28:05.941Z"
   },
   {
    "duration": 90,
    "start_time": "2022-05-20T08:28:05.956Z"
   },
   {
    "duration": 79,
    "start_time": "2022-05-20T08:28:06.047Z"
   },
   {
    "duration": 19,
    "start_time": "2022-05-20T08:28:06.128Z"
   },
   {
    "duration": 120,
    "start_time": "2022-05-20T08:28:06.150Z"
   },
   {
    "duration": 12,
    "start_time": "2022-05-20T08:28:06.271Z"
   },
   {
    "duration": 12,
    "start_time": "2022-05-20T08:28:06.285Z"
   },
   {
    "duration": 20,
    "start_time": "2022-05-20T08:28:06.299Z"
   },
   {
    "duration": 25,
    "start_time": "2022-05-20T08:28:06.321Z"
   },
   {
    "duration": 44,
    "start_time": "2022-05-20T08:28:06.348Z"
   },
   {
    "duration": 12,
    "start_time": "2022-05-20T08:28:06.394Z"
   },
   {
    "duration": 132,
    "start_time": "2022-05-20T08:28:06.408Z"
   },
   {
    "duration": 115,
    "start_time": "2022-05-20T08:28:06.542Z"
   },
   {
    "duration": 27,
    "start_time": "2022-05-20T08:28:06.658Z"
   },
   {
    "duration": 17,
    "start_time": "2022-05-20T08:28:06.687Z"
   },
   {
    "duration": 72,
    "start_time": "2022-05-20T08:28:06.707Z"
   },
   {
    "duration": 79,
    "start_time": "2022-05-20T08:28:06.780Z"
   },
   {
    "duration": 69,
    "start_time": "2022-05-20T09:29:04.588Z"
   },
   {
    "duration": 147,
    "start_time": "2022-05-20T09:59:27.958Z"
   },
   {
    "duration": 269,
    "start_time": "2022-05-20T09:59:41.274Z"
   },
   {
    "duration": 245,
    "start_time": "2022-05-20T10:03:50.826Z"
   },
   {
    "duration": 246,
    "start_time": "2022-05-20T10:04:10.198Z"
   },
   {
    "duration": 1423,
    "start_time": "2022-05-20T10:04:17.825Z"
   },
   {
    "duration": 991,
    "start_time": "2022-05-20T10:04:19.250Z"
   },
   {
    "duration": 28,
    "start_time": "2022-05-20T10:04:20.243Z"
   },
   {
    "duration": 124,
    "start_time": "2022-05-20T10:04:20.273Z"
   },
   {
    "duration": 107,
    "start_time": "2022-05-20T10:04:20.399Z"
   },
   {
    "duration": 443,
    "start_time": "2022-05-20T10:04:20.508Z"
   },
   {
    "duration": 122,
    "start_time": "2022-05-20T10:04:20.953Z"
   },
   {
    "duration": 963,
    "start_time": "2022-05-20T10:04:21.084Z"
   },
   {
    "duration": 70,
    "start_time": "2022-05-20T10:04:22.049Z"
   },
   {
    "duration": 11,
    "start_time": "2022-05-20T10:04:22.122Z"
   },
   {
    "duration": 83,
    "start_time": "2022-05-20T10:04:22.135Z"
   },
   {
    "duration": 94,
    "start_time": "2022-05-20T10:04:22.220Z"
   },
   {
    "duration": 19,
    "start_time": "2022-05-20T10:04:22.315Z"
   },
   {
    "duration": 110,
    "start_time": "2022-05-20T10:04:22.336Z"
   },
   {
    "duration": 7,
    "start_time": "2022-05-20T10:04:22.448Z"
   },
   {
    "duration": 6,
    "start_time": "2022-05-20T10:04:22.457Z"
   },
   {
    "duration": 36,
    "start_time": "2022-05-20T10:04:22.464Z"
   },
   {
    "duration": 35,
    "start_time": "2022-05-20T10:04:22.501Z"
   },
   {
    "duration": 15,
    "start_time": "2022-05-20T10:04:22.537Z"
   },
   {
    "duration": 34,
    "start_time": "2022-05-20T10:04:22.554Z"
   },
   {
    "duration": 107,
    "start_time": "2022-05-20T10:04:22.590Z"
   },
   {
    "duration": 119,
    "start_time": "2022-05-20T10:04:22.698Z"
   },
   {
    "duration": 25,
    "start_time": "2022-05-20T10:04:22.819Z"
   },
   {
    "duration": 3,
    "start_time": "2022-05-20T10:04:22.847Z"
   },
   {
    "duration": 70,
    "start_time": "2022-05-20T10:04:22.853Z"
   },
   {
    "duration": 271,
    "start_time": "2022-05-20T10:04:22.925Z"
   },
   {
    "duration": 265,
    "start_time": "2022-05-20T10:04:23.197Z"
   },
   {
    "duration": 282,
    "start_time": "2022-05-20T10:04:23.465Z"
   },
   {
    "duration": 63,
    "start_time": "2022-05-20T10:04:59.461Z"
   },
   {
    "duration": 1427,
    "start_time": "2022-05-20T10:48:07.498Z"
   },
   {
    "duration": 803,
    "start_time": "2022-05-20T10:48:08.927Z"
   },
   {
    "duration": 30,
    "start_time": "2022-05-20T10:48:09.732Z"
   },
   {
    "duration": 141,
    "start_time": "2022-05-20T10:48:09.763Z"
   },
   {
    "duration": 107,
    "start_time": "2022-05-20T10:48:09.906Z"
   },
   {
    "duration": 462,
    "start_time": "2022-05-20T10:48:10.014Z"
   },
   {
    "duration": 124,
    "start_time": "2022-05-20T10:48:10.477Z"
   },
   {
    "duration": 969,
    "start_time": "2022-05-20T10:48:10.603Z"
   },
   {
    "duration": 59,
    "start_time": "2022-05-20T10:48:11.574Z"
   },
   {
    "duration": 11,
    "start_time": "2022-05-20T10:48:11.635Z"
   },
   {
    "duration": 86,
    "start_time": "2022-05-20T10:48:11.647Z"
   },
   {
    "duration": 82,
    "start_time": "2022-05-20T10:48:11.735Z"
   },
   {
    "duration": 18,
    "start_time": "2022-05-20T10:48:11.819Z"
   },
   {
    "duration": 111,
    "start_time": "2022-05-20T10:48:11.839Z"
   },
   {
    "duration": 6,
    "start_time": "2022-05-20T10:48:11.952Z"
   },
   {
    "duration": 6,
    "start_time": "2022-05-20T10:48:11.960Z"
   },
   {
    "duration": 27,
    "start_time": "2022-05-20T10:48:11.967Z"
   },
   {
    "duration": 26,
    "start_time": "2022-05-20T10:48:11.995Z"
   },
   {
    "duration": 14,
    "start_time": "2022-05-20T10:48:12.022Z"
   },
   {
    "duration": 10,
    "start_time": "2022-05-20T10:48:12.037Z"
   },
   {
    "duration": 122,
    "start_time": "2022-05-20T10:48:12.048Z"
   },
   {
    "duration": 100,
    "start_time": "2022-05-20T10:48:12.171Z"
   },
   {
    "duration": 22,
    "start_time": "2022-05-20T10:48:12.272Z"
   },
   {
    "duration": 6,
    "start_time": "2022-05-20T10:48:12.295Z"
   },
   {
    "duration": 62,
    "start_time": "2022-05-20T10:48:12.303Z"
   },
   {
    "duration": 270,
    "start_time": "2022-05-20T10:48:12.367Z"
   },
   {
    "duration": 258,
    "start_time": "2022-05-20T10:48:12.639Z"
   },
   {
    "duration": 253,
    "start_time": "2022-05-20T10:48:12.899Z"
   },
   {
    "duration": 62,
    "start_time": "2022-05-20T10:48:13.154Z"
   },
   {
    "duration": 28,
    "start_time": "2022-05-20T10:50:11.906Z"
   },
   {
    "duration": 4,
    "start_time": "2022-05-20T10:56:17.613Z"
   },
   {
    "duration": 493,
    "start_time": "2022-05-20T10:57:05.689Z"
   },
   {
    "duration": 604,
    "start_time": "2022-05-20T10:59:09.741Z"
   },
   {
    "duration": 567,
    "start_time": "2022-05-20T10:59:35.407Z"
   },
   {
    "duration": 10,
    "start_time": "2022-05-20T10:59:47.160Z"
   },
   {
    "duration": 11,
    "start_time": "2022-05-20T10:59:58.864Z"
   },
   {
    "duration": 5,
    "start_time": "2022-05-20T11:00:07.717Z"
   },
   {
    "duration": 381,
    "start_time": "2022-05-20T11:00:16.356Z"
   },
   {
    "duration": 1402,
    "start_time": "2022-05-20T11:00:26.548Z"
   },
   {
    "duration": 885,
    "start_time": "2022-05-20T11:00:27.952Z"
   },
   {
    "duration": 29,
    "start_time": "2022-05-20T11:00:28.840Z"
   },
   {
    "duration": 150,
    "start_time": "2022-05-20T11:00:28.871Z"
   },
   {
    "duration": 116,
    "start_time": "2022-05-20T11:00:29.023Z"
   },
   {
    "duration": 464,
    "start_time": "2022-05-20T11:00:29.141Z"
   },
   {
    "duration": 129,
    "start_time": "2022-05-20T11:00:29.606Z"
   },
   {
    "duration": 1066,
    "start_time": "2022-05-20T11:00:29.737Z"
   },
   {
    "duration": 96,
    "start_time": "2022-05-20T11:00:30.806Z"
   },
   {
    "duration": 14,
    "start_time": "2022-05-20T11:00:30.905Z"
   },
   {
    "duration": 86,
    "start_time": "2022-05-20T11:00:30.920Z"
   },
   {
    "duration": 133,
    "start_time": "2022-05-20T11:00:31.008Z"
   },
   {
    "duration": 24,
    "start_time": "2022-05-20T11:00:31.144Z"
   },
   {
    "duration": 145,
    "start_time": "2022-05-20T11:00:31.187Z"
   },
   {
    "duration": 7,
    "start_time": "2022-05-20T11:00:31.333Z"
   },
   {
    "duration": 15,
    "start_time": "2022-05-20T11:00:31.341Z"
   },
   {
    "duration": 32,
    "start_time": "2022-05-20T11:00:31.357Z"
   },
   {
    "duration": 36,
    "start_time": "2022-05-20T11:00:31.390Z"
   },
   {
    "duration": 19,
    "start_time": "2022-05-20T11:00:31.427Z"
   },
   {
    "duration": 12,
    "start_time": "2022-05-20T11:00:31.448Z"
   },
   {
    "duration": 147,
    "start_time": "2022-05-20T11:00:31.462Z"
   },
   {
    "duration": 144,
    "start_time": "2022-05-20T11:00:31.612Z"
   },
   {
    "duration": 38,
    "start_time": "2022-05-20T11:00:31.758Z"
   },
   {
    "duration": 3,
    "start_time": "2022-05-20T11:00:31.801Z"
   },
   {
    "duration": 87,
    "start_time": "2022-05-20T11:00:31.806Z"
   },
   {
    "duration": 326,
    "start_time": "2022-05-20T11:00:31.895Z"
   },
   {
    "duration": 287,
    "start_time": "2022-05-20T11:00:32.223Z"
   },
   {
    "duration": 255,
    "start_time": "2022-05-20T11:00:32.512Z"
   },
   {
    "duration": 75,
    "start_time": "2022-05-20T11:00:32.769Z"
   },
   {
    "duration": 22,
    "start_time": "2022-05-20T11:00:32.847Z"
   },
   {
    "duration": 538,
    "start_time": "2022-05-20T11:00:32.870Z"
   },
   {
    "duration": 0,
    "start_time": "2022-05-20T11:00:33.410Z"
   },
   {
    "duration": 43,
    "start_time": "2022-05-20T11:04:07.626Z"
   },
   {
    "duration": 41,
    "start_time": "2022-05-20T11:04:29.282Z"
   },
   {
    "duration": 50,
    "start_time": "2022-05-20T11:04:35.720Z"
   },
   {
    "duration": 409,
    "start_time": "2022-05-20T11:04:40.788Z"
   },
   {
    "duration": 4,
    "start_time": "2022-05-20T11:04:42.567Z"
   },
   {
    "duration": 1352,
    "start_time": "2022-05-20T11:04:50.689Z"
   },
   {
    "duration": 854,
    "start_time": "2022-05-20T11:04:52.043Z"
   },
   {
    "duration": 28,
    "start_time": "2022-05-20T11:04:52.899Z"
   },
   {
    "duration": 148,
    "start_time": "2022-05-20T11:04:52.929Z"
   },
   {
    "duration": 106,
    "start_time": "2022-05-20T11:04:53.094Z"
   },
   {
    "duration": 491,
    "start_time": "2022-05-20T11:04:53.202Z"
   },
   {
    "duration": 140,
    "start_time": "2022-05-20T11:04:53.694Z"
   },
   {
    "duration": 1059,
    "start_time": "2022-05-20T11:04:53.835Z"
   },
   {
    "duration": 58,
    "start_time": "2022-05-20T11:04:54.896Z"
   },
   {
    "duration": 10,
    "start_time": "2022-05-20T11:04:54.957Z"
   },
   {
    "duration": 79,
    "start_time": "2022-05-20T11:04:54.969Z"
   },
   {
    "duration": 94,
    "start_time": "2022-05-20T11:04:55.049Z"
   },
   {
    "duration": 31,
    "start_time": "2022-05-20T11:04:55.145Z"
   },
   {
    "duration": 115,
    "start_time": "2022-05-20T11:04:55.178Z"
   },
   {
    "duration": 7,
    "start_time": "2022-05-20T11:04:55.295Z"
   },
   {
    "duration": 9,
    "start_time": "2022-05-20T11:04:55.304Z"
   },
   {
    "duration": 36,
    "start_time": "2022-05-20T11:04:55.314Z"
   },
   {
    "duration": 29,
    "start_time": "2022-05-20T11:04:55.352Z"
   },
   {
    "duration": 25,
    "start_time": "2022-05-20T11:04:55.382Z"
   },
   {
    "duration": 23,
    "start_time": "2022-05-20T11:04:55.409Z"
   },
   {
    "duration": 116,
    "start_time": "2022-05-20T11:04:55.434Z"
   },
   {
    "duration": 109,
    "start_time": "2022-05-20T11:04:55.552Z"
   },
   {
    "duration": 23,
    "start_time": "2022-05-20T11:04:55.663Z"
   },
   {
    "duration": 13,
    "start_time": "2022-05-20T11:04:55.688Z"
   },
   {
    "duration": 78,
    "start_time": "2022-05-20T11:04:55.703Z"
   },
   {
    "duration": 280,
    "start_time": "2022-05-20T11:04:55.782Z"
   },
   {
    "duration": 260,
    "start_time": "2022-05-20T11:04:56.064Z"
   },
   {
    "duration": 279,
    "start_time": "2022-05-20T11:04:56.327Z"
   },
   {
    "duration": 79,
    "start_time": "2022-05-20T11:04:56.608Z"
   },
   {
    "duration": 27,
    "start_time": "2022-05-20T11:04:56.689Z"
   },
   {
    "duration": 444,
    "start_time": "2022-05-20T11:04:56.718Z"
   },
   {
    "duration": 4,
    "start_time": "2022-05-20T11:04:57.164Z"
   },
   {
    "duration": 502,
    "start_time": "2022-05-20T11:05:52.151Z"
   },
   {
    "duration": 388,
    "start_time": "2022-05-20T11:06:02.286Z"
   },
   {
    "duration": 765,
    "start_time": "2022-05-20T11:06:12.947Z"
   },
   {
    "duration": 29,
    "start_time": "2022-05-20T11:06:21.833Z"
   },
   {
    "duration": 21,
    "start_time": "2022-05-20T11:07:01.104Z"
   },
   {
    "duration": 1369,
    "start_time": "2022-05-20T11:07:12.947Z"
   },
   {
    "duration": 821,
    "start_time": "2022-05-20T11:07:14.318Z"
   },
   {
    "duration": 31,
    "start_time": "2022-05-20T11:07:15.141Z"
   },
   {
    "duration": 147,
    "start_time": "2022-05-20T11:07:15.174Z"
   },
   {
    "duration": 100,
    "start_time": "2022-05-20T11:07:15.323Z"
   },
   {
    "duration": 474,
    "start_time": "2022-05-20T11:07:15.424Z"
   },
   {
    "duration": 126,
    "start_time": "2022-05-20T11:07:15.900Z"
   },
   {
    "duration": 1042,
    "start_time": "2022-05-20T11:07:16.027Z"
   },
   {
    "duration": 65,
    "start_time": "2022-05-20T11:07:17.071Z"
   },
   {
    "duration": 12,
    "start_time": "2022-05-20T11:07:17.138Z"
   },
   {
    "duration": 82,
    "start_time": "2022-05-20T11:07:17.152Z"
   },
   {
    "duration": 83,
    "start_time": "2022-05-20T11:07:17.236Z"
   },
   {
    "duration": 19,
    "start_time": "2022-05-20T11:07:17.320Z"
   },
   {
    "duration": 110,
    "start_time": "2022-05-20T11:07:17.341Z"
   },
   {
    "duration": 7,
    "start_time": "2022-05-20T11:07:17.452Z"
   },
   {
    "duration": 7,
    "start_time": "2022-05-20T11:07:17.461Z"
   },
   {
    "duration": 17,
    "start_time": "2022-05-20T11:07:17.484Z"
   },
   {
    "duration": 27,
    "start_time": "2022-05-20T11:07:17.503Z"
   },
   {
    "duration": 15,
    "start_time": "2022-05-20T11:07:17.532Z"
   },
   {
    "duration": 47,
    "start_time": "2022-05-20T11:07:17.549Z"
   },
   {
    "duration": 108,
    "start_time": "2022-05-20T11:07:17.599Z"
   },
   {
    "duration": 110,
    "start_time": "2022-05-20T11:07:17.709Z"
   },
   {
    "duration": 15,
    "start_time": "2022-05-20T11:07:17.821Z"
   },
   {
    "duration": 4,
    "start_time": "2022-05-20T11:07:17.838Z"
   },
   {
    "duration": 82,
    "start_time": "2022-05-20T11:07:17.843Z"
   },
   {
    "duration": 329,
    "start_time": "2022-05-20T11:07:17.927Z"
   },
   {
    "duration": 279,
    "start_time": "2022-05-20T11:07:18.258Z"
   },
   {
    "duration": 266,
    "start_time": "2022-05-20T11:07:18.541Z"
   },
   {
    "duration": 80,
    "start_time": "2022-05-20T11:07:18.809Z"
   },
   {
    "duration": 20,
    "start_time": "2022-05-20T11:07:18.891Z"
   },
   {
    "duration": 817,
    "start_time": "2022-05-20T11:07:18.912Z"
   },
   {
    "duration": 39,
    "start_time": "2022-05-20T11:07:19.732Z"
   },
   {
    "duration": 9,
    "start_time": "2022-05-20T11:14:03.090Z"
   },
   {
    "duration": 11,
    "start_time": "2022-05-20T11:14:32.045Z"
   },
   {
    "duration": 129,
    "start_time": "2022-05-20T11:17:19.924Z"
   },
   {
    "duration": 4,
    "start_time": "2022-05-20T11:17:54.774Z"
   },
   {
    "duration": 3,
    "start_time": "2022-05-20T11:18:01.559Z"
   },
   {
    "duration": 109,
    "start_time": "2022-05-20T11:21:34.197Z"
   },
   {
    "duration": 106,
    "start_time": "2022-05-20T11:21:45.144Z"
   },
   {
    "duration": 80,
    "start_time": "2022-05-20T11:22:27.588Z"
   },
   {
    "duration": 70,
    "start_time": "2022-05-20T11:22:33.416Z"
   },
   {
    "duration": 10,
    "start_time": "2022-05-20T11:22:39.618Z"
   },
   {
    "duration": 73,
    "start_time": "2022-05-20T11:22:54.598Z"
   },
   {
    "duration": 10,
    "start_time": "2022-05-20T11:23:00.040Z"
   },
   {
    "duration": 14,
    "start_time": "2022-05-20T11:23:13.979Z"
   },
   {
    "duration": 1340,
    "start_time": "2022-05-20T11:23:20.313Z"
   },
   {
    "duration": 804,
    "start_time": "2022-05-20T11:23:21.656Z"
   },
   {
    "duration": 36,
    "start_time": "2022-05-20T11:23:22.462Z"
   },
   {
    "duration": 144,
    "start_time": "2022-05-20T11:23:22.500Z"
   },
   {
    "duration": 107,
    "start_time": "2022-05-20T11:23:22.647Z"
   },
   {
    "duration": 466,
    "start_time": "2022-05-20T11:23:22.756Z"
   },
   {
    "duration": 134,
    "start_time": "2022-05-20T11:23:23.224Z"
   },
   {
    "duration": 967,
    "start_time": "2022-05-20T11:23:23.360Z"
   },
   {
    "duration": 61,
    "start_time": "2022-05-20T11:23:24.328Z"
   },
   {
    "duration": 10,
    "start_time": "2022-05-20T11:23:24.391Z"
   },
   {
    "duration": 80,
    "start_time": "2022-05-20T11:23:24.403Z"
   },
   {
    "duration": 83,
    "start_time": "2022-05-20T11:23:24.485Z"
   },
   {
    "duration": 32,
    "start_time": "2022-05-20T11:23:24.569Z"
   },
   {
    "duration": 113,
    "start_time": "2022-05-20T11:23:24.604Z"
   },
   {
    "duration": 8,
    "start_time": "2022-05-20T11:23:24.719Z"
   },
   {
    "duration": 7,
    "start_time": "2022-05-20T11:23:24.729Z"
   },
   {
    "duration": 17,
    "start_time": "2022-05-20T11:23:24.738Z"
   },
   {
    "duration": 48,
    "start_time": "2022-05-20T11:23:24.757Z"
   },
   {
    "duration": 15,
    "start_time": "2022-05-20T11:23:24.807Z"
   },
   {
    "duration": 10,
    "start_time": "2022-05-20T11:23:24.824Z"
   },
   {
    "duration": 147,
    "start_time": "2022-05-20T11:23:24.836Z"
   },
   {
    "duration": 119,
    "start_time": "2022-05-20T11:23:24.986Z"
   },
   {
    "duration": 17,
    "start_time": "2022-05-20T11:23:25.107Z"
   },
   {
    "duration": 9,
    "start_time": "2022-05-20T11:23:25.126Z"
   },
   {
    "duration": 78,
    "start_time": "2022-05-20T11:23:25.137Z"
   },
   {
    "duration": 281,
    "start_time": "2022-05-20T11:23:25.217Z"
   },
   {
    "duration": 276,
    "start_time": "2022-05-20T11:23:25.499Z"
   },
   {
    "duration": 264,
    "start_time": "2022-05-20T11:23:25.777Z"
   },
   {
    "duration": 67,
    "start_time": "2022-05-20T11:23:26.042Z"
   },
   {
    "duration": 18,
    "start_time": "2022-05-20T11:23:26.111Z"
   },
   {
    "duration": 807,
    "start_time": "2022-05-20T11:23:26.131Z"
   },
   {
    "duration": 28,
    "start_time": "2022-05-20T11:23:26.940Z"
   },
   {
    "duration": 19,
    "start_time": "2022-05-20T11:23:26.970Z"
   },
   {
    "duration": 93,
    "start_time": "2022-05-20T11:23:26.990Z"
   },
   {
    "duration": 119,
    "start_time": "2022-05-20T11:23:27.085Z"
   },
   {
    "duration": 4,
    "start_time": "2022-05-20T11:23:54.566Z"
   },
   {
    "duration": 99,
    "start_time": "2022-05-20T11:25:56.927Z"
   },
   {
    "duration": 1300,
    "start_time": "2022-05-20T11:26:05.338Z"
   },
   {
    "duration": 857,
    "start_time": "2022-05-20T11:26:06.640Z"
   },
   {
    "duration": 29,
    "start_time": "2022-05-20T11:26:07.499Z"
   },
   {
    "duration": 142,
    "start_time": "2022-05-20T11:26:07.529Z"
   },
   {
    "duration": 102,
    "start_time": "2022-05-20T11:26:07.683Z"
   },
   {
    "duration": 517,
    "start_time": "2022-05-20T11:26:07.786Z"
   },
   {
    "duration": 119,
    "start_time": "2022-05-20T11:26:08.305Z"
   },
   {
    "duration": 960,
    "start_time": "2022-05-20T11:26:08.426Z"
   },
   {
    "duration": 53,
    "start_time": "2022-05-20T11:26:09.387Z"
   },
   {
    "duration": 10,
    "start_time": "2022-05-20T11:26:09.443Z"
   },
   {
    "duration": 88,
    "start_time": "2022-05-20T11:26:09.454Z"
   },
   {
    "duration": 75,
    "start_time": "2022-05-20T11:26:09.544Z"
   },
   {
    "duration": 19,
    "start_time": "2022-05-20T11:26:09.621Z"
   },
   {
    "duration": 124,
    "start_time": "2022-05-20T11:26:09.641Z"
   },
   {
    "duration": 19,
    "start_time": "2022-05-20T11:26:09.767Z"
   },
   {
    "duration": 6,
    "start_time": "2022-05-20T11:26:09.787Z"
   },
   {
    "duration": 15,
    "start_time": "2022-05-20T11:26:09.794Z"
   },
   {
    "duration": 24,
    "start_time": "2022-05-20T11:26:09.810Z"
   },
   {
    "duration": 15,
    "start_time": "2022-05-20T11:26:09.836Z"
   },
   {
    "duration": 40,
    "start_time": "2022-05-20T11:26:09.852Z"
   },
   {
    "duration": 107,
    "start_time": "2022-05-20T11:26:09.894Z"
   },
   {
    "duration": 112,
    "start_time": "2022-05-20T11:26:10.003Z"
   },
   {
    "duration": 15,
    "start_time": "2022-05-20T11:26:10.116Z"
   },
   {
    "duration": 6,
    "start_time": "2022-05-20T11:26:10.133Z"
   },
   {
    "duration": 66,
    "start_time": "2022-05-20T11:26:10.141Z"
   },
   {
    "duration": 278,
    "start_time": "2022-05-20T11:26:10.209Z"
   },
   {
    "duration": 261,
    "start_time": "2022-05-20T11:26:10.489Z"
   },
   {
    "duration": 250,
    "start_time": "2022-05-20T11:26:10.753Z"
   },
   {
    "duration": 61,
    "start_time": "2022-05-20T11:26:11.005Z"
   },
   {
    "duration": 33,
    "start_time": "2022-05-20T11:26:11.067Z"
   },
   {
    "duration": 749,
    "start_time": "2022-05-20T11:26:11.101Z"
   },
   {
    "duration": 34,
    "start_time": "2022-05-20T11:26:11.852Z"
   },
   {
    "duration": 9,
    "start_time": "2022-05-20T11:26:11.887Z"
   },
   {
    "duration": 255,
    "start_time": "2022-05-20T11:26:11.898Z"
   },
   {
    "duration": 480,
    "start_time": "2022-05-20T11:26:21.455Z"
   },
   {
    "duration": 13,
    "start_time": "2022-05-20T11:26:35.030Z"
   },
   {
    "duration": 41,
    "start_time": "2022-05-20T11:26:49.366Z"
   },
   {
    "duration": 166,
    "start_time": "2022-05-20T11:27:06.571Z"
   },
   {
    "duration": 1480,
    "start_time": "2022-05-20T11:30:56.663Z"
   },
   {
    "duration": 849,
    "start_time": "2022-05-20T11:30:58.147Z"
   },
   {
    "duration": 29,
    "start_time": "2022-05-20T11:30:58.998Z"
   },
   {
    "duration": 144,
    "start_time": "2022-05-20T11:30:59.028Z"
   },
   {
    "duration": 115,
    "start_time": "2022-05-20T11:30:59.174Z"
   },
   {
    "duration": 494,
    "start_time": "2022-05-20T11:30:59.291Z"
   },
   {
    "duration": 133,
    "start_time": "2022-05-20T11:30:59.787Z"
   },
   {
    "duration": 1080,
    "start_time": "2022-05-20T11:30:59.922Z"
   },
   {
    "duration": 4,
    "start_time": "2022-05-20T11:31:01.004Z"
   },
   {
    "duration": 158,
    "start_time": "2022-05-20T11:31:01.010Z"
   },
   {
    "duration": 0,
    "start_time": "2022-05-20T11:31:01.170Z"
   },
   {
    "duration": 0,
    "start_time": "2022-05-20T11:31:01.171Z"
   },
   {
    "duration": 0,
    "start_time": "2022-05-20T11:31:01.173Z"
   },
   {
    "duration": 0,
    "start_time": "2022-05-20T11:31:01.176Z"
   },
   {
    "duration": 0,
    "start_time": "2022-05-20T11:31:01.177Z"
   },
   {
    "duration": 0,
    "start_time": "2022-05-20T11:31:01.177Z"
   },
   {
    "duration": 0,
    "start_time": "2022-05-20T11:31:01.178Z"
   },
   {
    "duration": 0,
    "start_time": "2022-05-20T11:31:01.178Z"
   },
   {
    "duration": 0,
    "start_time": "2022-05-20T11:31:01.179Z"
   },
   {
    "duration": 0,
    "start_time": "2022-05-20T11:31:01.179Z"
   },
   {
    "duration": 0,
    "start_time": "2022-05-20T11:31:01.183Z"
   },
   {
    "duration": 0,
    "start_time": "2022-05-20T11:31:01.185Z"
   },
   {
    "duration": 0,
    "start_time": "2022-05-20T11:31:01.186Z"
   },
   {
    "duration": 0,
    "start_time": "2022-05-20T11:31:01.188Z"
   },
   {
    "duration": 0,
    "start_time": "2022-05-20T11:31:01.189Z"
   },
   {
    "duration": 0,
    "start_time": "2022-05-20T11:31:01.191Z"
   },
   {
    "duration": 0,
    "start_time": "2022-05-20T11:31:01.192Z"
   },
   {
    "duration": 0,
    "start_time": "2022-05-20T11:31:01.194Z"
   },
   {
    "duration": 0,
    "start_time": "2022-05-20T11:31:01.195Z"
   },
   {
    "duration": 0,
    "start_time": "2022-05-20T11:31:01.197Z"
   },
   {
    "duration": 0,
    "start_time": "2022-05-20T11:31:01.198Z"
   },
   {
    "duration": 0,
    "start_time": "2022-05-20T11:31:01.199Z"
   },
   {
    "duration": 0,
    "start_time": "2022-05-20T11:31:01.201Z"
   },
   {
    "duration": 0,
    "start_time": "2022-05-20T11:31:01.202Z"
   },
   {
    "duration": 0,
    "start_time": "2022-05-20T11:31:01.203Z"
   },
   {
    "duration": 0,
    "start_time": "2022-05-20T11:31:01.204Z"
   },
   {
    "duration": 38,
    "start_time": "2022-05-20T11:31:48.752Z"
   },
   {
    "duration": 1399,
    "start_time": "2022-05-20T11:33:27.838Z"
   },
   {
    "duration": 824,
    "start_time": "2022-05-20T11:33:29.239Z"
   },
   {
    "duration": 35,
    "start_time": "2022-05-20T11:33:30.064Z"
   },
   {
    "duration": 130,
    "start_time": "2022-05-20T11:33:30.101Z"
   },
   {
    "duration": 130,
    "start_time": "2022-05-20T11:33:30.232Z"
   },
   {
    "duration": 493,
    "start_time": "2022-05-20T11:33:30.364Z"
   },
   {
    "duration": 132,
    "start_time": "2022-05-20T11:33:30.859Z"
   },
   {
    "duration": 1046,
    "start_time": "2022-05-20T11:33:30.993Z"
   },
   {
    "duration": 2,
    "start_time": "2022-05-20T11:33:32.041Z"
   },
   {
    "duration": 71,
    "start_time": "2022-05-20T11:33:32.046Z"
   },
   {
    "duration": 11,
    "start_time": "2022-05-20T11:33:32.119Z"
   },
   {
    "duration": 89,
    "start_time": "2022-05-20T11:33:32.131Z"
   },
   {
    "duration": 86,
    "start_time": "2022-05-20T11:33:32.222Z"
   },
   {
    "duration": 20,
    "start_time": "2022-05-20T11:33:32.310Z"
   },
   {
    "duration": 134,
    "start_time": "2022-05-20T11:33:32.333Z"
   },
   {
    "duration": 16,
    "start_time": "2022-05-20T11:33:32.468Z"
   },
   {
    "duration": 5,
    "start_time": "2022-05-20T11:33:32.486Z"
   },
   {
    "duration": 21,
    "start_time": "2022-05-20T11:33:32.493Z"
   },
   {
    "duration": 24,
    "start_time": "2022-05-20T11:33:32.516Z"
   },
   {
    "duration": 15,
    "start_time": "2022-05-20T11:33:32.554Z"
   },
   {
    "duration": 11,
    "start_time": "2022-05-20T11:33:32.584Z"
   },
   {
    "duration": 112,
    "start_time": "2022-05-20T11:33:32.597Z"
   },
   {
    "duration": 100,
    "start_time": "2022-05-20T11:33:32.710Z"
   },
   {
    "duration": 14,
    "start_time": "2022-05-20T11:33:32.812Z"
   },
   {
    "duration": 5,
    "start_time": "2022-05-20T11:33:32.828Z"
   },
   {
    "duration": 75,
    "start_time": "2022-05-20T11:33:32.834Z"
   },
   {
    "duration": 274,
    "start_time": "2022-05-20T11:33:32.910Z"
   },
   {
    "duration": 256,
    "start_time": "2022-05-20T11:33:33.188Z"
   },
   {
    "duration": 266,
    "start_time": "2022-05-20T11:33:33.446Z"
   },
   {
    "duration": 72,
    "start_time": "2022-05-20T11:33:33.714Z"
   },
   {
    "duration": 19,
    "start_time": "2022-05-20T11:33:33.788Z"
   },
   {
    "duration": 822,
    "start_time": "2022-05-20T11:33:33.808Z"
   },
   {
    "duration": 32,
    "start_time": "2022-05-20T11:33:34.631Z"
   },
   {
    "duration": 22,
    "start_time": "2022-05-20T11:33:34.664Z"
   },
   {
    "duration": 583,
    "start_time": "2022-05-20T11:33:34.689Z"
   },
   {
    "duration": 9,
    "start_time": "2022-05-20T11:33:35.274Z"
   },
   {
    "duration": 108,
    "start_time": "2022-05-20T11:56:58.038Z"
   },
   {
    "duration": 1406,
    "start_time": "2022-05-20T11:57:54.769Z"
   },
   {
    "duration": 863,
    "start_time": "2022-05-20T11:57:56.177Z"
   },
   {
    "duration": 29,
    "start_time": "2022-05-20T11:57:57.042Z"
   },
   {
    "duration": 141,
    "start_time": "2022-05-20T11:57:57.083Z"
   },
   {
    "duration": 111,
    "start_time": "2022-05-20T11:57:57.226Z"
   },
   {
    "duration": 493,
    "start_time": "2022-05-20T11:57:57.338Z"
   },
   {
    "duration": 161,
    "start_time": "2022-05-20T11:57:57.833Z"
   },
   {
    "duration": 1047,
    "start_time": "2022-05-20T11:57:57.996Z"
   },
   {
    "duration": 2,
    "start_time": "2022-05-20T11:57:59.046Z"
   },
   {
    "duration": 71,
    "start_time": "2022-05-20T11:57:59.052Z"
   },
   {
    "duration": 11,
    "start_time": "2022-05-20T11:57:59.125Z"
   },
   {
    "duration": 80,
    "start_time": "2022-05-20T11:57:59.138Z"
   },
   {
    "duration": 89,
    "start_time": "2022-05-20T11:57:59.220Z"
   },
   {
    "duration": 32,
    "start_time": "2022-05-20T11:57:59.312Z"
   },
   {
    "duration": 137,
    "start_time": "2022-05-20T11:57:59.346Z"
   },
   {
    "duration": 7,
    "start_time": "2022-05-20T11:57:59.485Z"
   },
   {
    "duration": 6,
    "start_time": "2022-05-20T11:57:59.493Z"
   },
   {
    "duration": 23,
    "start_time": "2022-05-20T11:57:59.500Z"
   },
   {
    "duration": 24,
    "start_time": "2022-05-20T11:57:59.524Z"
   },
   {
    "duration": 38,
    "start_time": "2022-05-20T11:57:59.550Z"
   },
   {
    "duration": 14,
    "start_time": "2022-05-20T11:57:59.590Z"
   },
   {
    "duration": 142,
    "start_time": "2022-05-20T11:57:59.606Z"
   },
   {
    "duration": 110,
    "start_time": "2022-05-20T11:57:59.750Z"
   },
   {
    "duration": 24,
    "start_time": "2022-05-20T11:57:59.862Z"
   },
   {
    "duration": 4,
    "start_time": "2022-05-20T11:57:59.888Z"
   },
   {
    "duration": 58,
    "start_time": "2022-05-20T11:57:59.894Z"
   },
   {
    "duration": 290,
    "start_time": "2022-05-20T11:57:59.954Z"
   },
   {
    "duration": 268,
    "start_time": "2022-05-20T11:58:00.247Z"
   },
   {
    "duration": 280,
    "start_time": "2022-05-20T11:58:00.517Z"
   },
   {
    "duration": 63,
    "start_time": "2022-05-20T11:58:00.800Z"
   },
   {
    "duration": 36,
    "start_time": "2022-05-20T11:58:00.865Z"
   },
   {
    "duration": 816,
    "start_time": "2022-05-20T11:58:00.903Z"
   },
   {
    "duration": 33,
    "start_time": "2022-05-20T11:58:01.721Z"
   },
   {
    "duration": 11,
    "start_time": "2022-05-20T11:58:01.758Z"
   },
   {
    "duration": 588,
    "start_time": "2022-05-20T11:58:01.783Z"
   },
   {
    "duration": 94,
    "start_time": "2022-05-20T11:58:02.373Z"
   },
   {
    "duration": 1510,
    "start_time": "2022-05-22T07:46:46.440Z"
   },
   {
    "duration": 2728,
    "start_time": "2022-05-22T07:46:47.953Z"
   },
   {
    "duration": 27,
    "start_time": "2022-05-22T07:46:50.683Z"
   },
   {
    "duration": 132,
    "start_time": "2022-05-22T07:46:50.711Z"
   },
   {
    "duration": 103,
    "start_time": "2022-05-22T07:46:50.846Z"
   },
   {
    "duration": 466,
    "start_time": "2022-05-22T07:46:50.951Z"
   },
   {
    "duration": 112,
    "start_time": "2022-05-22T07:46:51.419Z"
   },
   {
    "duration": 873,
    "start_time": "2022-05-22T07:46:51.533Z"
   },
   {
    "duration": 2,
    "start_time": "2022-05-22T07:46:52.408Z"
   },
   {
    "duration": 55,
    "start_time": "2022-05-22T07:46:52.412Z"
   },
   {
    "duration": 10,
    "start_time": "2022-05-22T07:46:52.469Z"
   },
   {
    "duration": 78,
    "start_time": "2022-05-22T07:46:52.480Z"
   },
   {
    "duration": 79,
    "start_time": "2022-05-22T07:46:52.559Z"
   },
   {
    "duration": 17,
    "start_time": "2022-05-22T07:46:52.640Z"
   },
   {
    "duration": 105,
    "start_time": "2022-05-22T07:46:52.659Z"
   },
   {
    "duration": 7,
    "start_time": "2022-05-22T07:46:52.765Z"
   },
   {
    "duration": 7,
    "start_time": "2022-05-22T07:46:52.773Z"
   },
   {
    "duration": 29,
    "start_time": "2022-05-22T07:46:52.781Z"
   },
   {
    "duration": 26,
    "start_time": "2022-05-22T07:46:52.812Z"
   },
   {
    "duration": 14,
    "start_time": "2022-05-22T07:46:52.840Z"
   },
   {
    "duration": 9,
    "start_time": "2022-05-22T07:46:52.855Z"
   },
   {
    "duration": 123,
    "start_time": "2022-05-22T07:46:52.866Z"
   },
   {
    "duration": 97,
    "start_time": "2022-05-22T07:46:52.991Z"
   },
   {
    "duration": 21,
    "start_time": "2022-05-22T07:46:53.090Z"
   },
   {
    "duration": 3,
    "start_time": "2022-05-22T07:46:53.113Z"
   },
   {
    "duration": 54,
    "start_time": "2022-05-22T07:46:53.117Z"
   },
   {
    "duration": 275,
    "start_time": "2022-05-22T07:46:53.173Z"
   },
   {
    "duration": 263,
    "start_time": "2022-05-22T07:46:53.451Z"
   },
   {
    "duration": 252,
    "start_time": "2022-05-22T07:46:53.715Z"
   },
   {
    "duration": 60,
    "start_time": "2022-05-22T07:46:53.969Z"
   },
   {
    "duration": 18,
    "start_time": "2022-05-22T07:46:54.030Z"
   },
   {
    "duration": 871,
    "start_time": "2022-05-22T07:46:54.050Z"
   },
   {
    "duration": 34,
    "start_time": "2022-05-22T07:46:54.925Z"
   },
   {
    "duration": 9,
    "start_time": "2022-05-22T07:46:54.961Z"
   },
   {
    "duration": 533,
    "start_time": "2022-05-22T07:46:54.971Z"
   },
   {
    "duration": 75,
    "start_time": "2022-05-22T07:46:55.506Z"
   },
   {
    "duration": 4,
    "start_time": "2022-05-22T08:32:39.512Z"
   },
   {
    "duration": 118,
    "start_time": "2022-05-22T08:38:26.317Z"
   },
   {
    "duration": 48,
    "start_time": "2022-05-22T08:41:14.150Z"
   },
   {
    "duration": 80,
    "start_time": "2022-05-22T08:41:37.929Z"
   },
   {
    "duration": 10,
    "start_time": "2022-05-22T08:47:52.349Z"
   },
   {
    "duration": 10,
    "start_time": "2022-05-22T08:48:05.020Z"
   },
   {
    "duration": 1467,
    "start_time": "2022-05-22T09:50:20.718Z"
   },
   {
    "duration": 863,
    "start_time": "2022-05-22T09:50:22.187Z"
   },
   {
    "duration": 28,
    "start_time": "2022-05-22T09:50:23.052Z"
   },
   {
    "duration": 142,
    "start_time": "2022-05-22T09:50:23.082Z"
   },
   {
    "duration": 106,
    "start_time": "2022-05-22T09:50:23.226Z"
   },
   {
    "duration": 476,
    "start_time": "2022-05-22T09:50:23.333Z"
   },
   {
    "duration": 132,
    "start_time": "2022-05-22T09:50:23.811Z"
   },
   {
    "duration": 971,
    "start_time": "2022-05-22T09:50:23.945Z"
   },
   {
    "duration": 2,
    "start_time": "2022-05-22T09:50:24.918Z"
   },
   {
    "duration": 55,
    "start_time": "2022-05-22T09:50:24.922Z"
   },
   {
    "duration": 26,
    "start_time": "2022-05-22T09:50:24.980Z"
   },
   {
    "duration": 66,
    "start_time": "2022-05-22T09:50:25.008Z"
   },
   {
    "duration": 90,
    "start_time": "2022-05-22T09:50:25.075Z"
   },
   {
    "duration": 35,
    "start_time": "2022-05-22T09:50:25.167Z"
   },
   {
    "duration": 102,
    "start_time": "2022-05-22T09:50:25.204Z"
   },
   {
    "duration": 8,
    "start_time": "2022-05-22T09:50:25.308Z"
   },
   {
    "duration": 7,
    "start_time": "2022-05-22T09:50:25.317Z"
   },
   {
    "duration": 16,
    "start_time": "2022-05-22T09:50:25.326Z"
   },
   {
    "duration": 58,
    "start_time": "2022-05-22T09:50:25.344Z"
   },
   {
    "duration": 15,
    "start_time": "2022-05-22T09:50:25.404Z"
   },
   {
    "duration": 11,
    "start_time": "2022-05-22T09:50:25.421Z"
   },
   {
    "duration": 124,
    "start_time": "2022-05-22T09:50:25.433Z"
   },
   {
    "duration": 113,
    "start_time": "2022-05-22T09:50:25.559Z"
   },
   {
    "duration": 16,
    "start_time": "2022-05-22T09:50:25.674Z"
   },
   {
    "duration": 13,
    "start_time": "2022-05-22T09:50:25.691Z"
   },
   {
    "duration": 56,
    "start_time": "2022-05-22T09:50:25.706Z"
   },
   {
    "duration": 296,
    "start_time": "2022-05-22T09:50:25.763Z"
   },
   {
    "duration": 265,
    "start_time": "2022-05-22T09:50:26.061Z"
   },
   {
    "duration": 271,
    "start_time": "2022-05-22T09:50:26.328Z"
   },
   {
    "duration": 65,
    "start_time": "2022-05-22T09:50:26.601Z"
   },
   {
    "duration": 34,
    "start_time": "2022-05-22T09:50:26.668Z"
   },
   {
    "duration": 794,
    "start_time": "2022-05-22T09:50:26.704Z"
   },
   {
    "duration": 28,
    "start_time": "2022-05-22T09:50:27.500Z"
   },
   {
    "duration": 9,
    "start_time": "2022-05-22T09:50:27.530Z"
   },
   {
    "duration": 508,
    "start_time": "2022-05-22T09:50:27.541Z"
   },
   {
    "duration": 78,
    "start_time": "2022-05-22T09:50:28.051Z"
   },
   {
    "duration": 3,
    "start_time": "2022-05-22T09:50:28.131Z"
   },
   {
    "duration": 77,
    "start_time": "2022-05-22T09:50:28.136Z"
   },
   {
    "duration": 348841,
    "start_time": "2022-05-22T09:50:28.303Z"
   },
   {
    "duration": 591558,
    "start_time": "2022-05-22T09:56:17.146Z"
   },
   {
    "duration": 1422,
    "start_time": "2022-05-22T10:09:59.560Z"
   },
   {
    "duration": 1026,
    "start_time": "2022-05-22T10:10:00.984Z"
   },
   {
    "duration": 41,
    "start_time": "2022-05-22T10:10:02.013Z"
   },
   {
    "duration": 193,
    "start_time": "2022-05-22T10:10:02.056Z"
   },
   {
    "duration": 117,
    "start_time": "2022-05-22T10:10:02.251Z"
   },
   {
    "duration": 528,
    "start_time": "2022-05-22T10:10:02.369Z"
   },
   {
    "duration": 146,
    "start_time": "2022-05-22T10:10:02.901Z"
   },
   {
    "duration": 1070,
    "start_time": "2022-05-22T10:10:03.049Z"
   },
   {
    "duration": 3,
    "start_time": "2022-05-22T10:10:04.121Z"
   },
   {
    "duration": 79,
    "start_time": "2022-05-22T10:10:04.129Z"
   },
   {
    "duration": 11,
    "start_time": "2022-05-22T10:10:04.209Z"
   },
   {
    "duration": 84,
    "start_time": "2022-05-22T10:10:04.222Z"
   },
   {
    "duration": 97,
    "start_time": "2022-05-22T10:10:04.308Z"
   },
   {
    "duration": 21,
    "start_time": "2022-05-22T10:10:04.407Z"
   },
   {
    "duration": 117,
    "start_time": "2022-05-22T10:10:04.430Z"
   },
   {
    "duration": 7,
    "start_time": "2022-05-22T10:10:04.549Z"
   },
   {
    "duration": 9,
    "start_time": "2022-05-22T10:10:04.558Z"
   },
   {
    "duration": 34,
    "start_time": "2022-05-22T10:10:04.568Z"
   },
   {
    "duration": 25,
    "start_time": "2022-05-22T10:10:04.603Z"
   },
   {
    "duration": 14,
    "start_time": "2022-05-22T10:10:04.630Z"
   },
   {
    "duration": 9,
    "start_time": "2022-05-22T10:10:04.646Z"
   },
   {
    "duration": 128,
    "start_time": "2022-05-22T10:10:04.657Z"
   },
   {
    "duration": 116,
    "start_time": "2022-05-22T10:10:04.787Z"
   },
   {
    "duration": 17,
    "start_time": "2022-05-22T10:10:04.905Z"
   },
   {
    "duration": 4,
    "start_time": "2022-05-22T10:10:04.924Z"
   },
   {
    "duration": 83,
    "start_time": "2022-05-22T10:10:04.930Z"
   },
   {
    "duration": 299,
    "start_time": "2022-05-22T10:10:05.015Z"
   },
   {
    "duration": 271,
    "start_time": "2022-05-22T10:10:05.317Z"
   },
   {
    "duration": 272,
    "start_time": "2022-05-22T10:10:05.590Z"
   },
   {
    "duration": 69,
    "start_time": "2022-05-22T10:10:05.864Z"
   },
   {
    "duration": 18,
    "start_time": "2022-05-22T10:10:05.935Z"
   },
   {
    "duration": 871,
    "start_time": "2022-05-22T10:10:05.955Z"
   },
   {
    "duration": 29,
    "start_time": "2022-05-22T10:10:06.828Z"
   },
   {
    "duration": 9,
    "start_time": "2022-05-22T10:10:06.860Z"
   },
   {
    "duration": 605,
    "start_time": "2022-05-22T10:10:06.871Z"
   },
   {
    "duration": 83,
    "start_time": "2022-05-22T10:10:07.478Z"
   },
   {
    "duration": 4,
    "start_time": "2022-05-22T10:10:07.562Z"
   },
   {
    "duration": 71,
    "start_time": "2022-05-22T10:10:07.567Z"
   },
   {
    "duration": 371278,
    "start_time": "2022-05-22T10:10:07.640Z"
   },
   {
    "duration": 0,
    "start_time": "2022-05-22T10:16:18.919Z"
   },
   {
    "duration": 0,
    "start_time": "2022-05-22T10:16:18.921Z"
   },
   {
    "duration": 1459,
    "start_time": "2022-05-22T10:18:14.602Z"
   },
   {
    "duration": 869,
    "start_time": "2022-05-22T10:18:16.064Z"
   },
   {
    "duration": 29,
    "start_time": "2022-05-22T10:18:16.935Z"
   },
   {
    "duration": 150,
    "start_time": "2022-05-22T10:18:16.965Z"
   },
   {
    "duration": 109,
    "start_time": "2022-05-22T10:18:17.117Z"
   },
   {
    "duration": 481,
    "start_time": "2022-05-22T10:18:17.228Z"
   },
   {
    "duration": 142,
    "start_time": "2022-05-22T10:18:17.711Z"
   },
   {
    "duration": 1053,
    "start_time": "2022-05-22T10:18:17.855Z"
   },
   {
    "duration": 3,
    "start_time": "2022-05-22T10:18:18.909Z"
   },
   {
    "duration": 61,
    "start_time": "2022-05-22T10:18:18.914Z"
   },
   {
    "duration": 27,
    "start_time": "2022-05-22T10:18:18.976Z"
   },
   {
    "duration": 64,
    "start_time": "2022-05-22T10:18:19.005Z"
   },
   {
    "duration": 93,
    "start_time": "2022-05-22T10:18:19.071Z"
   },
   {
    "duration": 20,
    "start_time": "2022-05-22T10:18:19.167Z"
   },
   {
    "duration": 111,
    "start_time": "2022-05-22T10:18:19.202Z"
   },
   {
    "duration": 7,
    "start_time": "2022-05-22T10:18:19.314Z"
   },
   {
    "duration": 6,
    "start_time": "2022-05-22T10:18:19.323Z"
   },
   {
    "duration": 14,
    "start_time": "2022-05-22T10:18:19.331Z"
   },
   {
    "duration": 26,
    "start_time": "2022-05-22T10:18:19.347Z"
   },
   {
    "duration": 13,
    "start_time": "2022-05-22T10:18:19.402Z"
   },
   {
    "duration": 9,
    "start_time": "2022-05-22T10:18:19.417Z"
   },
   {
    "duration": 125,
    "start_time": "2022-05-22T10:18:19.428Z"
   },
   {
    "duration": 114,
    "start_time": "2022-05-22T10:18:19.554Z"
   },
   {
    "duration": 17,
    "start_time": "2022-05-22T10:18:19.670Z"
   },
   {
    "duration": 15,
    "start_time": "2022-05-22T10:18:19.688Z"
   },
   {
    "duration": 54,
    "start_time": "2022-05-22T10:18:19.705Z"
   },
   {
    "duration": 291,
    "start_time": "2022-05-22T10:18:19.760Z"
   },
   {
    "duration": 276,
    "start_time": "2022-05-22T10:18:20.053Z"
   },
   {
    "duration": 271,
    "start_time": "2022-05-22T10:18:20.331Z"
   },
   {
    "duration": 64,
    "start_time": "2022-05-22T10:18:20.604Z"
   },
   {
    "duration": 33,
    "start_time": "2022-05-22T10:18:20.670Z"
   },
   {
    "duration": 888,
    "start_time": "2022-05-22T10:18:20.705Z"
   },
   {
    "duration": 30,
    "start_time": "2022-05-22T10:18:21.595Z"
   },
   {
    "duration": 10,
    "start_time": "2022-05-22T10:18:21.627Z"
   },
   {
    "duration": 542,
    "start_time": "2022-05-22T10:18:21.638Z"
   },
   {
    "duration": 76,
    "start_time": "2022-05-22T10:18:22.181Z"
   },
   {
    "duration": 2,
    "start_time": "2022-05-22T10:18:22.259Z"
   },
   {
    "duration": 59,
    "start_time": "2022-05-22T10:18:22.263Z"
   },
   {
    "duration": 370116,
    "start_time": "2022-05-22T10:18:22.324Z"
   },
   {
    "duration": 770212,
    "start_time": "2022-05-22T10:24:32.442Z"
   },
   {
    "duration": 1429,
    "start_time": "2022-05-22T10:48:20.648Z"
   },
   {
    "duration": 858,
    "start_time": "2022-05-22T10:48:22.080Z"
   },
   {
    "duration": 28,
    "start_time": "2022-05-22T10:48:22.939Z"
   },
   {
    "duration": 151,
    "start_time": "2022-05-22T10:48:22.969Z"
   },
   {
    "duration": 108,
    "start_time": "2022-05-22T10:48:23.122Z"
   },
   {
    "duration": 467,
    "start_time": "2022-05-22T10:48:23.232Z"
   },
   {
    "duration": 136,
    "start_time": "2022-05-22T10:48:23.702Z"
   },
   {
    "duration": 1015,
    "start_time": "2022-05-22T10:48:23.839Z"
   },
   {
    "duration": 3,
    "start_time": "2022-05-22T10:48:24.855Z"
   },
   {
    "duration": 62,
    "start_time": "2022-05-22T10:48:24.859Z"
   },
   {
    "duration": 11,
    "start_time": "2022-05-22T10:48:24.922Z"
   },
   {
    "duration": 84,
    "start_time": "2022-05-22T10:48:24.934Z"
   },
   {
    "duration": 90,
    "start_time": "2022-05-22T10:48:25.020Z"
   },
   {
    "duration": 20,
    "start_time": "2022-05-22T10:48:25.114Z"
   },
   {
    "duration": 118,
    "start_time": "2022-05-22T10:48:25.137Z"
   },
   {
    "duration": 6,
    "start_time": "2022-05-22T10:48:25.257Z"
   },
   {
    "duration": 5,
    "start_time": "2022-05-22T10:48:25.265Z"
   },
   {
    "duration": 16,
    "start_time": "2022-05-22T10:48:25.271Z"
   },
   {
    "duration": 25,
    "start_time": "2022-05-22T10:48:25.301Z"
   },
   {
    "duration": 14,
    "start_time": "2022-05-22T10:48:25.328Z"
   },
   {
    "duration": 10,
    "start_time": "2022-05-22T10:48:25.343Z"
   },
   {
    "duration": 128,
    "start_time": "2022-05-22T10:48:25.355Z"
   },
   {
    "duration": 118,
    "start_time": "2022-05-22T10:48:25.485Z"
   },
   {
    "duration": 17,
    "start_time": "2022-05-22T10:48:25.605Z"
   },
   {
    "duration": 4,
    "start_time": "2022-05-22T10:48:25.623Z"
   },
   {
    "duration": 74,
    "start_time": "2022-05-22T10:48:25.629Z"
   },
   {
    "duration": 291,
    "start_time": "2022-05-22T10:48:25.705Z"
   },
   {
    "duration": 270,
    "start_time": "2022-05-22T10:48:25.998Z"
   },
   {
    "duration": 277,
    "start_time": "2022-05-22T10:48:26.270Z"
   },
   {
    "duration": 62,
    "start_time": "2022-05-22T10:48:26.549Z"
   },
   {
    "duration": 18,
    "start_time": "2022-05-22T10:48:26.613Z"
   },
   {
    "duration": 829,
    "start_time": "2022-05-22T10:48:26.632Z"
   },
   {
    "duration": 40,
    "start_time": "2022-05-22T10:48:27.463Z"
   },
   {
    "duration": 9,
    "start_time": "2022-05-22T10:48:27.505Z"
   },
   {
    "duration": 536,
    "start_time": "2022-05-22T10:48:27.516Z"
   },
   {
    "duration": 78,
    "start_time": "2022-05-22T10:48:28.054Z"
   },
   {
    "duration": 2,
    "start_time": "2022-05-22T10:48:28.134Z"
   },
   {
    "duration": 71,
    "start_time": "2022-05-22T10:48:28.137Z"
   },
   {
    "duration": 359381,
    "start_time": "2022-05-22T10:48:28.210Z"
   },
   {
    "duration": 763565,
    "start_time": "2022-05-22T10:54:27.592Z"
   },
   {
    "duration": 1314,
    "start_time": "2022-05-22T12:06:12.513Z"
   },
   {
    "duration": 769,
    "start_time": "2022-05-22T12:06:13.830Z"
   },
   {
    "duration": 27,
    "start_time": "2022-05-22T12:06:14.600Z"
   },
   {
    "duration": 138,
    "start_time": "2022-05-22T12:06:14.630Z"
   },
   {
    "duration": 119,
    "start_time": "2022-05-22T12:06:14.770Z"
   },
   {
    "duration": 466,
    "start_time": "2022-05-22T12:06:14.892Z"
   },
   {
    "duration": 246,
    "start_time": "2022-05-22T12:06:15.360Z"
   },
   {
    "duration": 2013,
    "start_time": "2022-05-22T12:06:15.608Z"
   },
   {
    "duration": 3,
    "start_time": "2022-05-22T12:06:17.623Z"
   },
   {
    "duration": 54,
    "start_time": "2022-05-22T12:06:17.628Z"
   },
   {
    "duration": 27,
    "start_time": "2022-05-22T12:06:17.684Z"
   },
   {
    "duration": 66,
    "start_time": "2022-05-22T12:06:17.713Z"
   },
   {
    "duration": 129,
    "start_time": "2022-05-22T12:06:17.782Z"
   },
   {
    "duration": 22,
    "start_time": "2022-05-22T12:06:17.913Z"
   },
   {
    "duration": 113,
    "start_time": "2022-05-22T12:06:17.937Z"
   },
   {
    "duration": 6,
    "start_time": "2022-05-22T12:06:18.052Z"
   },
   {
    "duration": 10,
    "start_time": "2022-05-22T12:06:18.060Z"
   },
   {
    "duration": 33,
    "start_time": "2022-05-22T12:06:18.072Z"
   },
   {
    "duration": 22,
    "start_time": "2022-05-22T12:06:18.106Z"
   },
   {
    "duration": 13,
    "start_time": "2022-05-22T12:06:18.129Z"
   },
   {
    "duration": 9,
    "start_time": "2022-05-22T12:06:18.144Z"
   },
   {
    "duration": 130,
    "start_time": "2022-05-22T12:06:18.154Z"
   },
   {
    "duration": 117,
    "start_time": "2022-05-22T12:06:18.285Z"
   },
   {
    "duration": 26,
    "start_time": "2022-05-22T12:06:18.404Z"
   },
   {
    "duration": 23,
    "start_time": "2022-05-22T12:06:18.432Z"
   },
   {
    "duration": 58,
    "start_time": "2022-05-22T12:06:18.457Z"
   },
   {
    "duration": 285,
    "start_time": "2022-05-22T12:06:18.518Z"
   },
   {
    "duration": 273,
    "start_time": "2022-05-22T12:06:18.806Z"
   },
   {
    "duration": 249,
    "start_time": "2022-05-22T12:06:19.081Z"
   },
   {
    "duration": 61,
    "start_time": "2022-05-22T12:06:19.331Z"
   },
   {
    "duration": 17,
    "start_time": "2022-05-22T12:06:19.403Z"
   },
   {
    "duration": 769,
    "start_time": "2022-05-22T12:06:19.422Z"
   },
   {
    "duration": 29,
    "start_time": "2022-05-22T12:06:20.192Z"
   },
   {
    "duration": 8,
    "start_time": "2022-05-22T12:06:20.223Z"
   },
   {
    "duration": 479,
    "start_time": "2022-05-22T12:06:20.232Z"
   },
   {
    "duration": 39,
    "start_time": "2022-05-22T12:06:20.713Z"
   },
   {
    "duration": 3,
    "start_time": "2022-05-22T12:06:20.754Z"
   },
   {
    "duration": 12,
    "start_time": "2022-05-22T12:06:20.759Z"
   },
   {
    "duration": 0,
    "start_time": "2022-05-22T12:06:20.773Z"
   },
   {
    "duration": 0,
    "start_time": "2022-05-22T12:06:20.774Z"
   },
   {
    "duration": 0,
    "start_time": "2022-05-22T12:06:20.775Z"
   },
   {
    "duration": 3,
    "start_time": "2022-05-22T12:08:52.027Z"
   },
   {
    "duration": 147,
    "start_time": "2022-05-22T12:08:53.998Z"
   },
   {
    "duration": 5,
    "start_time": "2022-05-22T12:09:32.793Z"
   },
   {
    "duration": 33,
    "start_time": "2022-05-22T12:09:35.125Z"
   },
   {
    "duration": 62,
    "start_time": "2022-05-22T12:11:17.572Z"
   },
   {
    "duration": 8,
    "start_time": "2022-05-22T12:11:19.759Z"
   },
   {
    "duration": 131,
    "start_time": "2022-05-22T12:15:30.771Z"
   },
   {
    "duration": 7,
    "start_time": "2022-05-22T12:15:39.830Z"
   },
   {
    "duration": 1315,
    "start_time": "2022-05-22T12:20:30.166Z"
   },
   {
    "duration": 754,
    "start_time": "2022-05-22T12:20:31.484Z"
   },
   {
    "duration": 27,
    "start_time": "2022-05-22T12:20:32.239Z"
   },
   {
    "duration": 137,
    "start_time": "2022-05-22T12:20:32.267Z"
   },
   {
    "duration": 97,
    "start_time": "2022-05-22T12:20:32.407Z"
   },
   {
    "duration": 399,
    "start_time": "2022-05-22T12:20:32.506Z"
   },
   {
    "duration": 115,
    "start_time": "2022-05-22T12:20:32.907Z"
   },
   {
    "duration": 843,
    "start_time": "2022-05-22T12:20:33.024Z"
   },
   {
    "duration": 2,
    "start_time": "2022-05-22T12:20:33.869Z"
   },
   {
    "duration": 58,
    "start_time": "2022-05-22T12:20:33.872Z"
   },
   {
    "duration": 10,
    "start_time": "2022-05-22T12:20:33.931Z"
   },
   {
    "duration": 67,
    "start_time": "2022-05-22T12:20:33.942Z"
   },
   {
    "duration": 72,
    "start_time": "2022-05-22T12:20:34.010Z"
   },
   {
    "duration": 27,
    "start_time": "2022-05-22T12:20:34.085Z"
   },
   {
    "duration": 98,
    "start_time": "2022-05-22T12:20:34.113Z"
   },
   {
    "duration": 7,
    "start_time": "2022-05-22T12:20:34.212Z"
   },
   {
    "duration": 6,
    "start_time": "2022-05-22T12:20:34.220Z"
   },
   {
    "duration": 14,
    "start_time": "2022-05-22T12:20:34.227Z"
   },
   {
    "duration": 20,
    "start_time": "2022-05-22T12:20:34.243Z"
   },
   {
    "duration": 42,
    "start_time": "2022-05-22T12:20:34.265Z"
   },
   {
    "duration": 9,
    "start_time": "2022-05-22T12:20:34.309Z"
   },
   {
    "duration": 101,
    "start_time": "2022-05-22T12:20:34.320Z"
   },
   {
    "duration": 95,
    "start_time": "2022-05-22T12:20:34.423Z"
   },
   {
    "duration": 16,
    "start_time": "2022-05-22T12:20:34.519Z"
   },
   {
    "duration": 5,
    "start_time": "2022-05-22T12:20:34.537Z"
   },
   {
    "duration": 66,
    "start_time": "2022-05-22T12:20:34.543Z"
   },
   {
    "duration": 273,
    "start_time": "2022-05-22T12:20:34.611Z"
   },
   {
    "duration": 283,
    "start_time": "2022-05-22T12:20:34.887Z"
   },
   {
    "duration": 246,
    "start_time": "2022-05-22T12:20:35.172Z"
   },
   {
    "duration": 60,
    "start_time": "2022-05-22T12:20:35.419Z"
   },
   {
    "duration": 30,
    "start_time": "2022-05-22T12:20:35.481Z"
   },
   {
    "duration": 740,
    "start_time": "2022-05-22T12:20:35.512Z"
   },
   {
    "duration": 26,
    "start_time": "2022-05-22T12:20:36.254Z"
   },
   {
    "duration": 8,
    "start_time": "2022-05-22T12:20:36.282Z"
   },
   {
    "duration": 482,
    "start_time": "2022-05-22T12:20:36.302Z"
   },
   {
    "duration": 47,
    "start_time": "2022-05-22T12:20:36.786Z"
   },
   {
    "duration": 3,
    "start_time": "2022-05-22T12:20:36.835Z"
   },
   {
    "duration": 80,
    "start_time": "2022-05-22T12:20:36.839Z"
   },
   {
    "duration": 91,
    "start_time": "2022-05-22T12:20:36.921Z"
   },
   {
    "duration": 415156,
    "start_time": "2022-05-22T12:20:37.014Z"
   },
   {
    "duration": 24,
    "start_time": "2022-05-22T12:27:32.174Z"
   },
   {
    "duration": 0,
    "start_time": "2022-05-22T12:27:32.200Z"
   },
   {
    "duration": 0,
    "start_time": "2022-05-22T12:27:32.201Z"
   },
   {
    "duration": 0,
    "start_time": "2022-05-22T12:27:32.203Z"
   },
   {
    "duration": 0,
    "start_time": "2022-05-22T12:27:32.205Z"
   },
   {
    "duration": 41,
    "start_time": "2022-05-22T12:28:37.566Z"
   },
   {
    "duration": 777811,
    "start_time": "2022-05-22T12:32:19.494Z"
   },
   {
    "duration": 145,
    "start_time": "2022-05-22T12:47:12.092Z"
   },
   {
    "duration": 427557,
    "start_time": "2022-05-22T12:47:21.596Z"
   },
   {
    "duration": 4,
    "start_time": "2022-05-22T12:54:29.154Z"
   },
   {
    "duration": 35,
    "start_time": "2022-05-22T12:55:53.054Z"
   },
   {
    "duration": 4,
    "start_time": "2022-05-22T12:56:30.192Z"
   },
   {
    "duration": 18,
    "start_time": "2022-05-22T12:57:30.145Z"
   },
   {
    "duration": 3868,
    "start_time": "2022-05-22T13:00:29.230Z"
   },
   {
    "duration": 1392,
    "start_time": "2022-05-22T13:03:04.566Z"
   },
   {
    "duration": 830,
    "start_time": "2022-05-22T13:03:05.960Z"
   },
   {
    "duration": 30,
    "start_time": "2022-05-22T13:03:06.792Z"
   },
   {
    "duration": 145,
    "start_time": "2022-05-22T13:03:06.824Z"
   },
   {
    "duration": 112,
    "start_time": "2022-05-22T13:03:06.970Z"
   },
   {
    "duration": 464,
    "start_time": "2022-05-22T13:03:07.084Z"
   },
   {
    "duration": 126,
    "start_time": "2022-05-22T13:03:07.550Z"
   },
   {
    "duration": 961,
    "start_time": "2022-05-22T13:03:07.678Z"
   },
   {
    "duration": 2,
    "start_time": "2022-05-22T13:03:08.641Z"
   },
   {
    "duration": 70,
    "start_time": "2022-05-22T13:03:08.645Z"
   },
   {
    "duration": 9,
    "start_time": "2022-05-22T13:03:08.717Z"
   },
   {
    "duration": 80,
    "start_time": "2022-05-22T13:03:08.727Z"
   },
   {
    "duration": 80,
    "start_time": "2022-05-22T13:03:08.808Z"
   },
   {
    "duration": 20,
    "start_time": "2022-05-22T13:03:08.901Z"
   },
   {
    "duration": 105,
    "start_time": "2022-05-22T13:03:08.923Z"
   },
   {
    "duration": 8,
    "start_time": "2022-05-22T13:03:09.029Z"
   },
   {
    "duration": 7,
    "start_time": "2022-05-22T13:03:09.038Z"
   },
   {
    "duration": 15,
    "start_time": "2022-05-22T13:03:09.047Z"
   },
   {
    "duration": 55,
    "start_time": "2022-05-22T13:03:09.064Z"
   },
   {
    "duration": 12,
    "start_time": "2022-05-22T13:03:09.121Z"
   },
   {
    "duration": 10,
    "start_time": "2022-05-22T13:03:09.135Z"
   },
   {
    "duration": 112,
    "start_time": "2022-05-22T13:03:09.146Z"
   },
   {
    "duration": 103,
    "start_time": "2022-05-22T13:03:09.260Z"
   },
   {
    "duration": 14,
    "start_time": "2022-05-22T13:03:09.365Z"
   },
   {
    "duration": 6,
    "start_time": "2022-05-22T13:03:09.381Z"
   },
   {
    "duration": 66,
    "start_time": "2022-05-22T13:03:09.389Z"
   },
   {
    "duration": 269,
    "start_time": "2022-05-22T13:03:09.456Z"
   },
   {
    "duration": 585,
    "start_time": "2022-05-22T13:03:09.728Z"
   },
   {
    "duration": 529,
    "start_time": "2022-05-22T13:03:10.314Z"
   },
   {
    "duration": 166,
    "start_time": "2022-05-22T13:03:10.845Z"
   },
   {
    "duration": 19,
    "start_time": "2022-05-22T13:03:11.012Z"
   },
   {
    "duration": 1242,
    "start_time": "2022-05-22T13:03:11.033Z"
   },
   {
    "duration": 34,
    "start_time": "2022-05-22T13:03:12.277Z"
   },
   {
    "duration": 10,
    "start_time": "2022-05-22T13:03:12.313Z"
   },
   {
    "duration": 531,
    "start_time": "2022-05-22T13:03:12.325Z"
   },
   {
    "duration": 67,
    "start_time": "2022-05-22T13:03:12.858Z"
   },
   {
    "duration": 3,
    "start_time": "2022-05-22T13:03:12.927Z"
   },
   {
    "duration": 82,
    "start_time": "2022-05-22T13:03:12.931Z"
   },
   {
    "duration": 95,
    "start_time": "2022-05-22T13:03:13.015Z"
   },
   {
    "duration": 4,
    "start_time": "2022-05-22T13:03:13.202Z"
   },
   {
    "duration": 9,
    "start_time": "2022-05-22T13:03:13.208Z"
   },
   {
    "duration": 7,
    "start_time": "2022-05-22T13:03:13.218Z"
   },
   {
    "duration": 81,
    "start_time": "2022-05-22T13:03:13.226Z"
   },
   {
    "duration": 1275,
    "start_time": "2022-05-22T13:17:51.554Z"
   },
   {
    "duration": 833,
    "start_time": "2022-05-22T13:17:52.831Z"
   },
   {
    "duration": 25,
    "start_time": "2022-05-22T13:17:53.666Z"
   },
   {
    "duration": 149,
    "start_time": "2022-05-22T13:17:53.702Z"
   },
   {
    "duration": 105,
    "start_time": "2022-05-22T13:17:53.853Z"
   },
   {
    "duration": 477,
    "start_time": "2022-05-22T13:17:53.960Z"
   },
   {
    "duration": 148,
    "start_time": "2022-05-22T13:17:54.439Z"
   },
   {
    "duration": 930,
    "start_time": "2022-05-22T13:17:54.589Z"
   },
   {
    "duration": 3,
    "start_time": "2022-05-22T13:17:55.521Z"
   },
   {
    "duration": 53,
    "start_time": "2022-05-22T13:17:55.525Z"
   },
   {
    "duration": 22,
    "start_time": "2022-05-22T13:17:55.580Z"
   },
   {
    "duration": 65,
    "start_time": "2022-05-22T13:17:55.604Z"
   },
   {
    "duration": 85,
    "start_time": "2022-05-22T13:17:55.670Z"
   },
   {
    "duration": 18,
    "start_time": "2022-05-22T13:17:55.758Z"
   },
   {
    "duration": 107,
    "start_time": "2022-05-22T13:17:55.778Z"
   },
   {
    "duration": 16,
    "start_time": "2022-05-22T13:17:55.888Z"
   },
   {
    "duration": 5,
    "start_time": "2022-05-22T13:17:55.906Z"
   },
   {
    "duration": 18,
    "start_time": "2022-05-22T13:17:55.912Z"
   },
   {
    "duration": 26,
    "start_time": "2022-05-22T13:17:55.932Z"
   },
   {
    "duration": 12,
    "start_time": "2022-05-22T13:17:55.960Z"
   },
   {
    "duration": 37,
    "start_time": "2022-05-22T13:17:55.973Z"
   },
   {
    "duration": 123,
    "start_time": "2022-05-22T13:17:56.012Z"
   },
   {
    "duration": 122,
    "start_time": "2022-05-22T13:17:56.137Z"
   },
   {
    "duration": 15,
    "start_time": "2022-05-22T13:17:56.260Z"
   },
   {
    "duration": 4,
    "start_time": "2022-05-22T13:17:56.276Z"
   },
   {
    "duration": 63,
    "start_time": "2022-05-22T13:17:56.282Z"
   },
   {
    "duration": 270,
    "start_time": "2022-05-22T13:17:56.347Z"
   },
   {
    "duration": 483,
    "start_time": "2022-05-22T13:17:56.619Z"
   },
   {
    "duration": 529,
    "start_time": "2022-05-22T13:17:57.104Z"
   },
   {
    "duration": 111,
    "start_time": "2022-05-22T13:17:57.634Z"
   },
   {
    "duration": 23,
    "start_time": "2022-05-22T13:17:57.802Z"
   },
   {
    "duration": 1348,
    "start_time": "2022-05-22T13:17:57.827Z"
   },
   {
    "duration": 32,
    "start_time": "2022-05-22T13:17:59.178Z"
   },
   {
    "duration": 9,
    "start_time": "2022-05-22T13:17:59.211Z"
   },
   {
    "duration": 495,
    "start_time": "2022-05-22T13:17:59.221Z"
   },
   {
    "duration": 46,
    "start_time": "2022-05-22T13:17:59.718Z"
   },
   {
    "duration": 6,
    "start_time": "2022-05-22T13:17:59.766Z"
   },
   {
    "duration": 71,
    "start_time": "2022-05-22T13:17:59.774Z"
   },
   {
    "duration": 63,
    "start_time": "2022-05-22T13:17:59.847Z"
   },
   {
    "duration": 100,
    "start_time": "2022-05-22T13:17:59.912Z"
   },
   {
    "duration": 11,
    "start_time": "2022-05-22T13:18:00.016Z"
   },
   {
    "duration": 405795,
    "start_time": "2022-05-22T13:18:00.029Z"
   },
   {
    "duration": 28,
    "start_time": "2022-05-22T13:24:45.826Z"
   },
   {
    "duration": 1357,
    "start_time": "2022-05-22T14:25:00.016Z"
   },
   {
    "duration": 807,
    "start_time": "2022-05-22T14:25:01.376Z"
   },
   {
    "duration": 38,
    "start_time": "2022-05-22T14:25:02.185Z"
   },
   {
    "duration": 137,
    "start_time": "2022-05-22T14:25:02.225Z"
   },
   {
    "duration": 96,
    "start_time": "2022-05-22T14:25:02.365Z"
   },
   {
    "duration": 429,
    "start_time": "2022-05-22T14:25:02.463Z"
   },
   {
    "duration": 136,
    "start_time": "2022-05-22T14:25:02.893Z"
   },
   {
    "duration": 954,
    "start_time": "2022-05-22T14:25:03.030Z"
   },
   {
    "duration": 2,
    "start_time": "2022-05-22T14:25:03.986Z"
   },
   {
    "duration": 61,
    "start_time": "2022-05-22T14:25:03.990Z"
   },
   {
    "duration": 9,
    "start_time": "2022-05-22T14:25:04.053Z"
   },
   {
    "duration": 82,
    "start_time": "2022-05-22T14:25:04.064Z"
   },
   {
    "duration": 88,
    "start_time": "2022-05-22T14:25:04.148Z"
   },
   {
    "duration": 17,
    "start_time": "2022-05-22T14:25:04.239Z"
   },
   {
    "duration": 123,
    "start_time": "2022-05-22T14:25:04.257Z"
   },
   {
    "duration": 7,
    "start_time": "2022-05-22T14:25:04.382Z"
   },
   {
    "duration": 14,
    "start_time": "2022-05-22T14:25:04.391Z"
   },
   {
    "duration": 16,
    "start_time": "2022-05-22T14:25:04.419Z"
   },
   {
    "duration": 24,
    "start_time": "2022-05-22T14:25:04.436Z"
   },
   {
    "duration": 13,
    "start_time": "2022-05-22T14:25:04.461Z"
   },
   {
    "duration": 32,
    "start_time": "2022-05-22T14:25:04.475Z"
   },
   {
    "duration": 99,
    "start_time": "2022-05-22T14:25:04.509Z"
   },
   {
    "duration": 113,
    "start_time": "2022-05-22T14:25:04.610Z"
   },
   {
    "duration": 14,
    "start_time": "2022-05-22T14:25:04.725Z"
   },
   {
    "duration": 5,
    "start_time": "2022-05-22T14:25:04.741Z"
   },
   {
    "duration": 82,
    "start_time": "2022-05-22T14:25:04.748Z"
   },
   {
    "duration": 279,
    "start_time": "2022-05-22T14:25:04.831Z"
   },
   {
    "duration": 271,
    "start_time": "2022-05-22T14:25:05.112Z"
   },
   {
    "duration": 265,
    "start_time": "2022-05-22T14:25:05.385Z"
   },
   {
    "duration": 65,
    "start_time": "2022-05-22T14:25:05.652Z"
   },
   {
    "duration": 23,
    "start_time": "2022-05-22T14:25:05.719Z"
   },
   {
    "duration": 805,
    "start_time": "2022-05-22T14:25:05.743Z"
   },
   {
    "duration": 28,
    "start_time": "2022-05-22T14:25:06.550Z"
   },
   {
    "duration": 9,
    "start_time": "2022-05-22T14:25:06.580Z"
   },
   {
    "duration": 571,
    "start_time": "2022-05-22T14:25:06.602Z"
   },
   {
    "duration": 56,
    "start_time": "2022-05-22T14:25:07.174Z"
   },
   {
    "duration": 3,
    "start_time": "2022-05-22T14:25:07.232Z"
   },
   {
    "duration": 80,
    "start_time": "2022-05-22T14:25:07.236Z"
   },
   {
    "duration": 96,
    "start_time": "2022-05-22T14:25:07.318Z"
   },
   {
    "duration": 88,
    "start_time": "2022-05-22T14:25:07.417Z"
   },
   {
    "duration": 22,
    "start_time": "2022-05-22T14:25:07.510Z"
   },
   {
    "duration": 10,
    "start_time": "2022-05-22T14:25:07.534Z"
   },
   {
    "duration": 13,
    "start_time": "2022-05-22T14:25:07.546Z"
   },
   {
    "duration": 140044,
    "start_time": "2022-05-22T14:25:07.561Z"
   },
   {
    "duration": 411,
    "start_time": "2022-05-22T14:27:27.608Z"
   },
   {
    "duration": 5,
    "start_time": "2022-05-22T14:27:28.021Z"
   },
   {
    "duration": 70,
    "start_time": "2022-05-22T14:27:28.027Z"
   },
   {
    "duration": 1281,
    "start_time": "2022-05-22T14:44:49.714Z"
   },
   {
    "duration": 1193,
    "start_time": "2022-05-22T14:44:50.997Z"
   },
   {
    "duration": 25,
    "start_time": "2022-05-22T14:44:52.192Z"
   },
   {
    "duration": 128,
    "start_time": "2022-05-22T14:44:52.218Z"
   },
   {
    "duration": 98,
    "start_time": "2022-05-22T14:44:52.349Z"
   },
   {
    "duration": 408,
    "start_time": "2022-05-22T14:44:52.448Z"
   },
   {
    "duration": 111,
    "start_time": "2022-05-22T14:44:52.857Z"
   },
   {
    "duration": 910,
    "start_time": "2022-05-22T14:44:52.970Z"
   },
   {
    "duration": 2,
    "start_time": "2022-05-22T14:44:53.882Z"
   },
   {
    "duration": 55,
    "start_time": "2022-05-22T14:44:53.886Z"
   },
   {
    "duration": 10,
    "start_time": "2022-05-22T14:44:53.942Z"
   },
   {
    "duration": 66,
    "start_time": "2022-05-22T14:44:53.953Z"
   },
   {
    "duration": 82,
    "start_time": "2022-05-22T14:44:54.020Z"
   },
   {
    "duration": 18,
    "start_time": "2022-05-22T14:44:54.105Z"
   },
   {
    "duration": 99,
    "start_time": "2022-05-22T14:44:54.125Z"
   },
   {
    "duration": 7,
    "start_time": "2022-05-22T14:44:54.226Z"
   },
   {
    "duration": 10,
    "start_time": "2022-05-22T14:44:54.235Z"
   },
   {
    "duration": 14,
    "start_time": "2022-05-22T14:44:54.246Z"
   },
   {
    "duration": 40,
    "start_time": "2022-05-22T14:44:54.262Z"
   },
   {
    "duration": 12,
    "start_time": "2022-05-22T14:44:54.304Z"
   },
   {
    "duration": 9,
    "start_time": "2022-05-22T14:44:54.317Z"
   },
   {
    "duration": 112,
    "start_time": "2022-05-22T14:44:54.328Z"
   },
   {
    "duration": 96,
    "start_time": "2022-05-22T14:44:54.442Z"
   },
   {
    "duration": 14,
    "start_time": "2022-05-22T14:44:54.540Z"
   },
   {
    "duration": 4,
    "start_time": "2022-05-22T14:44:54.555Z"
   },
   {
    "duration": 63,
    "start_time": "2022-05-22T14:44:54.561Z"
   },
   {
    "duration": 254,
    "start_time": "2022-05-22T14:44:54.626Z"
   },
   {
    "duration": 245,
    "start_time": "2022-05-22T14:44:54.881Z"
   },
   {
    "duration": 247,
    "start_time": "2022-05-22T14:44:55.127Z"
   },
   {
    "duration": 64,
    "start_time": "2022-05-22T14:44:55.375Z"
   },
   {
    "duration": 23,
    "start_time": "2022-05-22T14:44:55.440Z"
   },
   {
    "duration": 697,
    "start_time": "2022-05-22T14:44:55.465Z"
   },
   {
    "duration": 25,
    "start_time": "2022-05-22T14:44:56.164Z"
   },
   {
    "duration": 14,
    "start_time": "2022-05-22T14:44:56.190Z"
   },
   {
    "duration": 471,
    "start_time": "2022-05-22T14:44:56.206Z"
   },
   {
    "duration": 47,
    "start_time": "2022-05-22T14:44:56.679Z"
   },
   {
    "duration": 2,
    "start_time": "2022-05-22T14:44:56.728Z"
   },
   {
    "duration": 79,
    "start_time": "2022-05-22T14:44:56.731Z"
   },
   {
    "duration": 91,
    "start_time": "2022-05-22T14:44:56.812Z"
   },
   {
    "duration": 103,
    "start_time": "2022-05-22T14:44:56.905Z"
   },
   {
    "duration": 4,
    "start_time": "2022-05-22T14:44:57.012Z"
   },
   {
    "duration": 5,
    "start_time": "2022-05-22T14:44:57.017Z"
   },
   {
    "duration": 5,
    "start_time": "2022-05-22T14:44:57.024Z"
   },
   {
    "duration": 7,
    "start_time": "2022-05-22T14:44:57.030Z"
   },
   {
    "duration": 5,
    "start_time": "2022-05-22T14:44:57.038Z"
   },
   {
    "duration": 7,
    "start_time": "2022-05-22T14:44:57.044Z"
   },
   {
    "duration": 4,
    "start_time": "2022-05-22T14:44:57.053Z"
   },
   {
    "duration": 61,
    "start_time": "2022-05-22T14:55:41.146Z"
   },
   {
    "duration": 12,
    "start_time": "2022-05-22T14:55:42.060Z"
   },
   {
    "duration": 11,
    "start_time": "2022-05-22T14:58:31.095Z"
   },
   {
    "duration": 11,
    "start_time": "2022-05-22T15:02:01.453Z"
   },
   {
    "duration": 3,
    "start_time": "2022-05-22T15:04:23.511Z"
   },
   {
    "duration": 10,
    "start_time": "2022-05-22T15:05:07.065Z"
   },
   {
    "duration": 11,
    "start_time": "2022-05-22T15:14:01.276Z"
   },
   {
    "duration": 1683,
    "start_time": "2022-05-22T15:14:17.119Z"
   },
   {
    "duration": 2599,
    "start_time": "2022-05-22T15:14:18.804Z"
   },
   {
    "duration": 26,
    "start_time": "2022-05-22T15:14:21.404Z"
   },
   {
    "duration": 122,
    "start_time": "2022-05-22T15:14:21.432Z"
   },
   {
    "duration": 99,
    "start_time": "2022-05-22T15:14:21.556Z"
   },
   {
    "duration": 416,
    "start_time": "2022-05-22T15:14:21.657Z"
   },
   {
    "duration": 128,
    "start_time": "2022-05-22T15:14:22.075Z"
   },
   {
    "duration": 855,
    "start_time": "2022-05-22T15:14:22.205Z"
   },
   {
    "duration": 3,
    "start_time": "2022-05-22T15:14:23.061Z"
   },
   {
    "duration": 56,
    "start_time": "2022-05-22T15:14:23.066Z"
   },
   {
    "duration": 9,
    "start_time": "2022-05-22T15:14:23.123Z"
   },
   {
    "duration": 75,
    "start_time": "2022-05-22T15:14:23.133Z"
   },
   {
    "duration": 74,
    "start_time": "2022-05-22T15:14:23.210Z"
   },
   {
    "duration": 29,
    "start_time": "2022-05-22T15:14:23.285Z"
   },
   {
    "duration": 103,
    "start_time": "2022-05-22T15:14:23.315Z"
   },
   {
    "duration": 6,
    "start_time": "2022-05-22T15:14:23.420Z"
   },
   {
    "duration": 15,
    "start_time": "2022-05-22T15:14:23.428Z"
   },
   {
    "duration": 16,
    "start_time": "2022-05-22T15:14:23.444Z"
   },
   {
    "duration": 21,
    "start_time": "2022-05-22T15:14:23.462Z"
   },
   {
    "duration": 28,
    "start_time": "2022-05-22T15:14:23.485Z"
   },
   {
    "duration": 9,
    "start_time": "2022-05-22T15:14:23.515Z"
   },
   {
    "duration": 113,
    "start_time": "2022-05-22T15:14:23.526Z"
   },
   {
    "duration": 99,
    "start_time": "2022-05-22T15:14:23.641Z"
   },
   {
    "duration": 16,
    "start_time": "2022-05-22T15:14:23.742Z"
   },
   {
    "duration": 3,
    "start_time": "2022-05-22T15:14:23.760Z"
   },
   {
    "duration": 66,
    "start_time": "2022-05-22T15:14:23.764Z"
   },
   {
    "duration": 250,
    "start_time": "2022-05-22T15:14:23.832Z"
   },
   {
    "duration": 258,
    "start_time": "2022-05-22T15:14:24.086Z"
   },
   {
    "duration": 239,
    "start_time": "2022-05-22T15:14:24.346Z"
   },
   {
    "duration": 60,
    "start_time": "2022-05-22T15:14:24.587Z"
   },
   {
    "duration": 16,
    "start_time": "2022-05-22T15:14:24.649Z"
   },
   {
    "duration": 765,
    "start_time": "2022-05-22T15:14:24.667Z"
   },
   {
    "duration": 26,
    "start_time": "2022-05-22T15:14:25.433Z"
   },
   {
    "duration": 8,
    "start_time": "2022-05-22T15:14:25.461Z"
   },
   {
    "duration": 679,
    "start_time": "2022-05-22T15:14:25.471Z"
   },
   {
    "duration": 39,
    "start_time": "2022-05-22T15:14:26.152Z"
   },
   {
    "duration": 3,
    "start_time": "2022-05-22T15:14:26.202Z"
   },
   {
    "duration": 82,
    "start_time": "2022-05-22T15:14:26.206Z"
   },
   {
    "duration": 117,
    "start_time": "2022-05-22T15:14:26.289Z"
   },
   {
    "duration": 93,
    "start_time": "2022-05-22T15:14:26.411Z"
   },
   {
    "duration": 41,
    "start_time": "2022-05-22T15:14:26.505Z"
   },
   {
    "duration": 21,
    "start_time": "2022-05-22T15:14:26.548Z"
   },
   {
    "duration": 34,
    "start_time": "2022-05-22T15:14:26.570Z"
   },
   {
    "duration": 9,
    "start_time": "2022-05-22T15:14:26.606Z"
   },
   {
    "duration": 44,
    "start_time": "2022-05-22T15:14:26.616Z"
   },
   {
    "duration": 37,
    "start_time": "2022-05-22T15:14:26.661Z"
   },
   {
    "duration": 20,
    "start_time": "2022-05-22T15:14:26.700Z"
   },
   {
    "duration": 1449,
    "start_time": "2022-05-22T15:14:50.557Z"
   },
   {
    "duration": 2544,
    "start_time": "2022-05-22T15:14:52.007Z"
   },
   {
    "duration": 29,
    "start_time": "2022-05-22T15:14:54.603Z"
   },
   {
    "duration": 274,
    "start_time": "2022-05-22T15:14:54.634Z"
   },
   {
    "duration": 127,
    "start_time": "2022-05-22T15:14:54.909Z"
   },
   {
    "duration": 411,
    "start_time": "2022-05-22T15:14:55.038Z"
   },
   {
    "duration": 116,
    "start_time": "2022-05-22T15:14:55.451Z"
   },
   {
    "duration": 858,
    "start_time": "2022-05-22T15:14:55.568Z"
   },
   {
    "duration": 2,
    "start_time": "2022-05-22T15:14:56.428Z"
   },
   {
    "duration": 58,
    "start_time": "2022-05-22T15:14:56.433Z"
   },
   {
    "duration": 9,
    "start_time": "2022-05-22T15:14:56.502Z"
   },
   {
    "duration": 60,
    "start_time": "2022-05-22T15:14:56.512Z"
   },
   {
    "duration": 87,
    "start_time": "2022-05-22T15:14:56.573Z"
   },
   {
    "duration": 19,
    "start_time": "2022-05-22T15:14:56.662Z"
   },
   {
    "duration": 109,
    "start_time": "2022-05-22T15:14:56.683Z"
   },
   {
    "duration": 9,
    "start_time": "2022-05-22T15:14:56.794Z"
   },
   {
    "duration": 5,
    "start_time": "2022-05-22T15:14:56.805Z"
   },
   {
    "duration": 14,
    "start_time": "2022-05-22T15:14:56.812Z"
   },
   {
    "duration": 22,
    "start_time": "2022-05-22T15:14:56.828Z"
   },
   {
    "duration": 12,
    "start_time": "2022-05-22T15:14:56.852Z"
   },
   {
    "duration": 39,
    "start_time": "2022-05-22T15:14:56.866Z"
   },
   {
    "duration": 104,
    "start_time": "2022-05-22T15:14:56.907Z"
   },
   {
    "duration": 97,
    "start_time": "2022-05-22T15:14:57.012Z"
   },
   {
    "duration": 14,
    "start_time": "2022-05-22T15:14:57.111Z"
   },
   {
    "duration": 3,
    "start_time": "2022-05-22T15:14:57.126Z"
   },
   {
    "duration": 49,
    "start_time": "2022-05-22T15:14:57.131Z"
   },
   {
    "duration": 266,
    "start_time": "2022-05-22T15:14:57.182Z"
   },
   {
    "duration": 243,
    "start_time": "2022-05-22T15:14:57.451Z"
   },
   {
    "duration": 244,
    "start_time": "2022-05-22T15:14:57.696Z"
   },
   {
    "duration": 61,
    "start_time": "2022-05-22T15:14:57.942Z"
   },
   {
    "duration": 16,
    "start_time": "2022-05-22T15:14:58.004Z"
   },
   {
    "duration": 745,
    "start_time": "2022-05-22T15:14:58.022Z"
   },
   {
    "duration": 25,
    "start_time": "2022-05-22T15:14:58.769Z"
   },
   {
    "duration": 8,
    "start_time": "2022-05-22T15:14:58.802Z"
   },
   {
    "duration": 508,
    "start_time": "2022-05-22T15:14:58.812Z"
   },
   {
    "duration": 40,
    "start_time": "2022-05-22T15:14:59.322Z"
   },
   {
    "duration": 2,
    "start_time": "2022-05-22T15:14:59.364Z"
   },
   {
    "duration": 89,
    "start_time": "2022-05-22T15:14:59.368Z"
   },
   {
    "duration": 143,
    "start_time": "2022-05-22T15:14:59.459Z"
   },
   {
    "duration": 4,
    "start_time": "2022-05-22T15:14:59.604Z"
   },
   {
    "duration": 9,
    "start_time": "2022-05-22T15:14:59.609Z"
   },
   {
    "duration": 8,
    "start_time": "2022-05-22T15:14:59.619Z"
   },
   {
    "duration": 6,
    "start_time": "2022-05-22T15:14:59.628Z"
   },
   {
    "duration": 10,
    "start_time": "2022-05-22T15:14:59.636Z"
   },
   {
    "duration": 56,
    "start_time": "2022-05-22T15:14:59.647Z"
   },
   {
    "duration": 7,
    "start_time": "2022-05-22T15:14:59.704Z"
   },
   {
    "duration": 14,
    "start_time": "2022-05-22T15:14:59.712Z"
   },
   {
    "duration": 2,
    "start_time": "2022-05-22T15:20:39.317Z"
   },
   {
    "duration": 1176,
    "start_time": "2022-05-22T15:22:42.478Z"
   },
   {
    "duration": 2398,
    "start_time": "2022-05-22T15:22:43.656Z"
   },
   {
    "duration": 27,
    "start_time": "2022-05-22T15:22:46.056Z"
   },
   {
    "duration": 121,
    "start_time": "2022-05-22T15:22:46.084Z"
   },
   {
    "duration": 104,
    "start_time": "2022-05-22T15:22:46.209Z"
   },
   {
    "duration": 472,
    "start_time": "2022-05-22T15:22:46.315Z"
   },
   {
    "duration": 122,
    "start_time": "2022-05-22T15:22:46.789Z"
   },
   {
    "duration": 867,
    "start_time": "2022-05-22T15:22:46.913Z"
   },
   {
    "duration": 2,
    "start_time": "2022-05-22T15:22:47.781Z"
   },
   {
    "duration": 66,
    "start_time": "2022-05-22T15:22:47.784Z"
   },
   {
    "duration": 10,
    "start_time": "2022-05-22T15:22:47.852Z"
   },
   {
    "duration": 75,
    "start_time": "2022-05-22T15:22:47.863Z"
   },
   {
    "duration": 79,
    "start_time": "2022-05-22T15:22:47.940Z"
   },
   {
    "duration": 20,
    "start_time": "2022-05-22T15:22:48.022Z"
   },
   {
    "duration": 107,
    "start_time": "2022-05-22T15:22:48.043Z"
   },
   {
    "duration": 6,
    "start_time": "2022-05-22T15:22:48.152Z"
   },
   {
    "duration": 7,
    "start_time": "2022-05-22T15:22:48.160Z"
   },
   {
    "duration": 33,
    "start_time": "2022-05-22T15:22:48.169Z"
   },
   {
    "duration": 25,
    "start_time": "2022-05-22T15:22:48.203Z"
   },
   {
    "duration": 13,
    "start_time": "2022-05-22T15:22:48.230Z"
   },
   {
    "duration": 9,
    "start_time": "2022-05-22T15:22:48.244Z"
   },
   {
    "duration": 116,
    "start_time": "2022-05-22T15:22:48.254Z"
   },
   {
    "duration": 124,
    "start_time": "2022-05-22T15:22:48.371Z"
   },
   {
    "duration": 15,
    "start_time": "2022-05-22T15:22:48.503Z"
   },
   {
    "duration": 9,
    "start_time": "2022-05-22T15:22:48.519Z"
   },
   {
    "duration": 59,
    "start_time": "2022-05-22T15:22:48.529Z"
   },
   {
    "duration": 258,
    "start_time": "2022-05-22T15:22:48.589Z"
   },
   {
    "duration": 242,
    "start_time": "2022-05-22T15:22:48.849Z"
   },
   {
    "duration": 245,
    "start_time": "2022-05-22T15:22:49.093Z"
   },
   {
    "duration": 64,
    "start_time": "2022-05-22T15:22:49.340Z"
   },
   {
    "duration": 17,
    "start_time": "2022-05-22T15:22:49.405Z"
   },
   {
    "duration": 781,
    "start_time": "2022-05-22T15:22:49.423Z"
   },
   {
    "duration": 28,
    "start_time": "2022-05-22T15:22:50.206Z"
   },
   {
    "duration": 9,
    "start_time": "2022-05-22T15:22:50.236Z"
   },
   {
    "duration": 508,
    "start_time": "2022-05-22T15:22:50.247Z"
   },
   {
    "duration": 47,
    "start_time": "2022-05-22T15:22:50.757Z"
   },
   {
    "duration": 3,
    "start_time": "2022-05-22T15:22:50.806Z"
   },
   {
    "duration": 59,
    "start_time": "2022-05-22T15:22:50.811Z"
   },
   {
    "duration": 17,
    "start_time": "2022-05-22T15:22:50.901Z"
   },
   {
    "duration": 6,
    "start_time": "2022-05-22T15:22:51.004Z"
   },
   {
    "duration": 10,
    "start_time": "2022-05-22T15:22:51.102Z"
   },
   {
    "duration": 8,
    "start_time": "2022-05-22T15:22:51.114Z"
   },
   {
    "duration": 12,
    "start_time": "2022-05-22T15:22:51.123Z"
   },
   {
    "duration": 21,
    "start_time": "2022-05-22T15:22:51.136Z"
   },
   {
    "duration": 18,
    "start_time": "2022-05-22T15:22:51.159Z"
   },
   {
    "duration": 14,
    "start_time": "2022-05-22T15:22:51.180Z"
   },
   {
    "duration": 17,
    "start_time": "2022-05-22T15:22:51.196Z"
   },
   {
    "duration": 1141,
    "start_time": "2022-05-23T09:13:55.941Z"
   },
   {
    "duration": 1010,
    "start_time": "2022-05-23T09:13:57.084Z"
   },
   {
    "duration": 29,
    "start_time": "2022-05-23T09:13:58.096Z"
   },
   {
    "duration": 121,
    "start_time": "2022-05-23T09:13:58.126Z"
   },
   {
    "duration": 100,
    "start_time": "2022-05-23T09:13:58.249Z"
   },
   {
    "duration": 412,
    "start_time": "2022-05-23T09:13:58.350Z"
   },
   {
    "duration": 124,
    "start_time": "2022-05-23T09:13:58.764Z"
   },
   {
    "duration": 931,
    "start_time": "2022-05-23T09:13:58.893Z"
   },
   {
    "duration": 2,
    "start_time": "2022-05-23T09:13:59.826Z"
   },
   {
    "duration": 56,
    "start_time": "2022-05-23T09:13:59.829Z"
   },
   {
    "duration": 12,
    "start_time": "2022-05-23T09:13:59.893Z"
   },
   {
    "duration": 60,
    "start_time": "2022-05-23T09:13:59.907Z"
   },
   {
    "duration": 84,
    "start_time": "2022-05-23T09:13:59.968Z"
   },
   {
    "duration": 17,
    "start_time": "2022-05-23T09:14:00.056Z"
   },
   {
    "duration": 116,
    "start_time": "2022-05-23T09:14:00.075Z"
   },
   {
    "duration": 7,
    "start_time": "2022-05-23T09:14:00.193Z"
   },
   {
    "duration": 9,
    "start_time": "2022-05-23T09:14:00.201Z"
   },
   {
    "duration": 16,
    "start_time": "2022-05-23T09:14:00.212Z"
   },
   {
    "duration": 24,
    "start_time": "2022-05-23T09:14:00.230Z"
   },
   {
    "duration": 40,
    "start_time": "2022-05-23T09:14:00.256Z"
   },
   {
    "duration": 11,
    "start_time": "2022-05-23T09:14:00.298Z"
   },
   {
    "duration": 108,
    "start_time": "2022-05-23T09:14:00.310Z"
   },
   {
    "duration": 94,
    "start_time": "2022-05-23T09:14:00.420Z"
   },
   {
    "duration": 14,
    "start_time": "2022-05-23T09:14:00.516Z"
   },
   {
    "duration": 12,
    "start_time": "2022-05-23T09:14:00.531Z"
   },
   {
    "duration": 75,
    "start_time": "2022-05-23T09:14:00.544Z"
   },
   {
    "duration": 274,
    "start_time": "2022-05-23T09:14:00.622Z"
   },
   {
    "duration": 242,
    "start_time": "2022-05-23T09:14:00.898Z"
   },
   {
    "duration": 240,
    "start_time": "2022-05-23T09:14:01.142Z"
   },
   {
    "duration": 58,
    "start_time": "2022-05-23T09:14:01.383Z"
   },
   {
    "duration": 14,
    "start_time": "2022-05-23T09:14:01.443Z"
   },
   {
    "duration": 767,
    "start_time": "2022-05-23T09:14:01.459Z"
   },
   {
    "duration": 27,
    "start_time": "2022-05-23T09:14:02.228Z"
   },
   {
    "duration": 10,
    "start_time": "2022-05-23T09:14:02.256Z"
   },
   {
    "duration": 527,
    "start_time": "2022-05-23T09:14:02.267Z"
   },
   {
    "duration": 43,
    "start_time": "2022-05-23T09:14:02.796Z"
   },
   {
    "duration": 3,
    "start_time": "2022-05-23T09:14:02.841Z"
   },
   {
    "duration": 87,
    "start_time": "2022-05-23T09:14:02.845Z"
   },
   {
    "duration": 160,
    "start_time": "2022-05-23T09:14:02.934Z"
   },
   {
    "duration": 9,
    "start_time": "2022-05-23T09:14:03.097Z"
   },
   {
    "duration": 5,
    "start_time": "2022-05-23T09:14:03.110Z"
   },
   {
    "duration": 80,
    "start_time": "2022-05-23T09:14:03.117Z"
   },
   {
    "duration": 15,
    "start_time": "2022-05-23T09:14:03.199Z"
   },
   {
    "duration": 13,
    "start_time": "2022-05-23T09:14:03.216Z"
   },
   {
    "duration": 12,
    "start_time": "2022-05-23T09:14:03.231Z"
   },
   {
    "duration": 15,
    "start_time": "2022-05-23T09:14:03.244Z"
   },
   {
    "duration": 10,
    "start_time": "2022-05-23T09:14:03.260Z"
   },
   {
    "duration": 7987,
    "start_time": "2022-05-23T09:14:51.784Z"
   },
   {
    "duration": 407893,
    "start_time": "2022-05-23T09:15:02.880Z"
   },
   {
    "duration": 44,
    "start_time": "2022-05-23T09:21:50.775Z"
   },
   {
    "duration": 379259,
    "start_time": "2022-05-23T09:21:50.821Z"
   },
   {
    "duration": 33,
    "start_time": "2022-05-23T09:28:10.083Z"
   },
   {
    "duration": 175,
    "start_time": "2022-05-23T09:28:10.119Z"
   },
   {
    "duration": 0,
    "start_time": "2022-05-23T09:28:10.295Z"
   },
   {
    "duration": 1714583,
    "start_time": "2022-05-23T09:41:32.419Z"
   },
   {
    "duration": 396,
    "start_time": "2022-05-23T10:10:07.004Z"
   },
   {
    "duration": 6,
    "start_time": "2022-05-23T10:10:07.401Z"
   },
   {
    "duration": 24,
    "start_time": "2022-05-23T10:10:07.408Z"
   },
   {
    "duration": 1524,
    "start_time": "2022-05-23T16:34:09.918Z"
   },
   {
    "duration": 1189,
    "start_time": "2022-05-23T16:34:13.377Z"
   },
   {
    "duration": 141,
    "start_time": "2022-05-23T17:03:05.427Z"
   },
   {
    "duration": 28,
    "start_time": "2022-05-23T17:03:11.915Z"
   },
   {
    "duration": 33,
    "start_time": "2022-05-23T17:04:56.207Z"
   },
   {
    "duration": 1574,
    "start_time": "2022-05-25T15:25:18.016Z"
   },
   {
    "duration": 2969,
    "start_time": "2022-05-25T15:25:19.592Z"
   },
   {
    "duration": 30,
    "start_time": "2022-05-25T15:25:22.563Z"
   },
   {
    "duration": 127,
    "start_time": "2022-05-25T15:25:22.594Z"
   },
   {
    "duration": 126,
    "start_time": "2022-05-25T15:25:22.723Z"
   },
   {
    "duration": 484,
    "start_time": "2022-05-25T15:25:22.850Z"
   },
   {
    "duration": 156,
    "start_time": "2022-05-25T15:25:23.336Z"
   },
   {
    "duration": 23,
    "start_time": "2022-05-25T15:25:23.494Z"
   },
   {
    "duration": 884,
    "start_time": "2022-05-25T15:25:23.519Z"
   },
   {
    "duration": 2,
    "start_time": "2022-05-25T15:25:24.405Z"
   },
   {
    "duration": 54,
    "start_time": "2022-05-25T15:25:24.409Z"
   },
   {
    "duration": 22,
    "start_time": "2022-05-25T15:25:24.464Z"
   },
   {
    "duration": 55,
    "start_time": "2022-05-25T15:25:24.489Z"
   },
   {
    "duration": 91,
    "start_time": "2022-05-25T15:25:24.547Z"
   },
   {
    "duration": 17,
    "start_time": "2022-05-25T15:25:24.639Z"
   },
   {
    "duration": 106,
    "start_time": "2022-05-25T15:25:24.658Z"
   },
   {
    "duration": 11,
    "start_time": "2022-05-25T15:25:24.765Z"
   },
   {
    "duration": 23,
    "start_time": "2022-05-25T15:25:24.777Z"
   },
   {
    "duration": 21,
    "start_time": "2022-05-25T15:25:24.801Z"
   },
   {
    "duration": 22,
    "start_time": "2022-05-25T15:25:24.824Z"
   },
   {
    "duration": 445,
    "start_time": "2022-05-25T15:25:24.847Z"
   },
   {
    "duration": 366,
    "start_time": "2022-05-25T15:25:43.594Z"
   },
   {
    "duration": 117,
    "start_time": "2022-05-25T15:25:51.287Z"
   },
   {
    "duration": 113,
    "start_time": "2022-05-25T15:27:49.604Z"
   },
   {
    "duration": 113,
    "start_time": "2022-05-25T15:27:54.147Z"
   },
   {
    "duration": 103,
    "start_time": "2022-05-25T15:28:00.054Z"
   },
   {
    "duration": 126,
    "start_time": "2022-05-25T15:28:16.158Z"
   },
   {
    "duration": 101,
    "start_time": "2022-05-25T15:28:24.990Z"
   },
   {
    "duration": 64,
    "start_time": "2022-05-25T15:28:40.124Z"
   },
   {
    "duration": 112,
    "start_time": "2022-05-25T15:28:44.642Z"
   },
   {
    "duration": 103,
    "start_time": "2022-05-25T15:28:51.491Z"
   },
   {
    "duration": 121,
    "start_time": "2022-05-25T15:28:55.736Z"
   },
   {
    "duration": 208,
    "start_time": "2022-05-25T15:29:00.590Z"
   },
   {
    "duration": 102,
    "start_time": "2022-05-25T15:30:17.835Z"
   },
   {
    "duration": 107,
    "start_time": "2022-05-25T15:30:21.694Z"
   },
   {
    "duration": 107,
    "start_time": "2022-05-25T15:30:26.537Z"
   },
   {
    "duration": 110,
    "start_time": "2022-05-25T15:30:48.440Z"
   },
   {
    "duration": 110,
    "start_time": "2022-05-25T15:31:49.336Z"
   },
   {
    "duration": 116,
    "start_time": "2022-05-25T15:32:07.987Z"
   },
   {
    "duration": 112,
    "start_time": "2022-05-25T15:32:17.044Z"
   },
   {
    "duration": 106,
    "start_time": "2022-05-25T15:32:29.548Z"
   },
   {
    "duration": 11,
    "start_time": "2022-05-25T15:33:34.693Z"
   },
   {
    "duration": 27,
    "start_time": "2022-05-25T15:33:45.518Z"
   },
   {
    "duration": 21,
    "start_time": "2022-05-25T15:34:35.117Z"
   },
   {
    "duration": 138,
    "start_time": "2022-05-25T15:35:55.697Z"
   },
   {
    "duration": 125,
    "start_time": "2022-05-25T15:36:10.708Z"
   },
   {
    "duration": 121,
    "start_time": "2022-05-25T15:36:21.621Z"
   },
   {
    "duration": 15,
    "start_time": "2022-05-25T15:37:36.730Z"
   },
   {
    "duration": 10,
    "start_time": "2022-05-25T15:37:46.622Z"
   },
   {
    "duration": 119,
    "start_time": "2022-05-25T15:37:50.790Z"
   },
   {
    "duration": 98,
    "start_time": "2022-05-25T15:37:53.749Z"
   },
   {
    "duration": 18,
    "start_time": "2022-05-25T15:41:35.590Z"
   },
   {
    "duration": 38,
    "start_time": "2022-05-25T15:41:50.317Z"
   },
   {
    "duration": 36,
    "start_time": "2022-05-25T15:42:17.594Z"
   },
   {
    "duration": 4,
    "start_time": "2022-05-25T15:43:52.935Z"
   },
   {
    "duration": 774,
    "start_time": "2022-05-25T15:43:52.941Z"
   },
   {
    "duration": 21,
    "start_time": "2022-05-25T15:43:53.719Z"
   },
   {
    "duration": 136,
    "start_time": "2022-05-25T15:43:53.742Z"
   },
   {
    "duration": 109,
    "start_time": "2022-05-25T15:43:53.883Z"
   },
   {
    "duration": 376,
    "start_time": "2022-05-25T15:43:53.994Z"
   },
   {
    "duration": 144,
    "start_time": "2022-05-25T15:43:54.371Z"
   },
   {
    "duration": 24,
    "start_time": "2022-05-25T15:43:54.518Z"
   },
   {
    "duration": 960,
    "start_time": "2022-05-25T15:43:54.544Z"
   },
   {
    "duration": 2,
    "start_time": "2022-05-25T15:43:55.508Z"
   },
   {
    "duration": 80,
    "start_time": "2022-05-25T15:43:55.514Z"
   },
   {
    "duration": 13,
    "start_time": "2022-05-25T15:43:55.596Z"
   },
   {
    "duration": 82,
    "start_time": "2022-05-25T15:43:55.610Z"
   },
   {
    "duration": 102,
    "start_time": "2022-05-25T15:43:55.695Z"
   },
   {
    "duration": 26,
    "start_time": "2022-05-25T15:43:55.799Z"
   },
   {
    "duration": 112,
    "start_time": "2022-05-25T15:43:55.827Z"
   },
   {
    "duration": 7,
    "start_time": "2022-05-25T15:43:55.941Z"
   },
   {
    "duration": 7,
    "start_time": "2022-05-25T15:43:55.950Z"
   },
   {
    "duration": 140,
    "start_time": "2022-05-25T15:43:55.958Z"
   },
   {
    "duration": 24,
    "start_time": "2022-05-25T15:43:56.100Z"
   },
   {
    "duration": 22,
    "start_time": "2022-05-25T15:43:56.126Z"
   },
   {
    "duration": 155,
    "start_time": "2022-05-25T15:43:56.150Z"
   },
   {
    "duration": 12,
    "start_time": "2022-05-25T15:43:56.306Z"
   },
   {
    "duration": 8,
    "start_time": "2022-05-25T15:43:56.320Z"
   },
   {
    "duration": 116,
    "start_time": "2022-05-25T15:43:56.330Z"
   },
   {
    "duration": 106,
    "start_time": "2022-05-25T15:43:56.448Z"
   },
   {
    "duration": 20,
    "start_time": "2022-05-25T15:43:56.555Z"
   },
   {
    "duration": 19,
    "start_time": "2022-05-25T15:43:56.578Z"
   },
   {
    "duration": 33,
    "start_time": "2022-05-25T15:43:56.600Z"
   },
   {
    "duration": 278,
    "start_time": "2022-05-25T15:43:56.635Z"
   },
   {
    "duration": 264,
    "start_time": "2022-05-25T15:43:56.915Z"
   },
   {
    "duration": 267,
    "start_time": "2022-05-25T15:43:57.182Z"
   },
   {
    "duration": 59,
    "start_time": "2022-05-25T15:44:18.585Z"
   },
   {
    "duration": 431,
    "start_time": "2022-05-25T15:44:59.442Z"
   },
   {
    "duration": 776,
    "start_time": "2022-05-25T15:47:32.046Z"
   },
   {
    "duration": 31,
    "start_time": "2022-05-25T15:49:43.994Z"
   },
   {
    "duration": 56,
    "start_time": "2022-05-25T15:49:56.734Z"
   },
   {
    "duration": 1289,
    "start_time": "2022-05-25T15:50:27.628Z"
   },
   {
    "duration": 800,
    "start_time": "2022-05-25T15:50:28.920Z"
   },
   {
    "duration": 27,
    "start_time": "2022-05-25T15:50:29.721Z"
   },
   {
    "duration": 175,
    "start_time": "2022-05-25T15:50:29.750Z"
   },
   {
    "duration": 107,
    "start_time": "2022-05-25T15:50:29.927Z"
   },
   {
    "duration": 461,
    "start_time": "2022-05-25T15:50:30.036Z"
   },
   {
    "duration": 122,
    "start_time": "2022-05-25T15:50:30.498Z"
   },
   {
    "duration": 34,
    "start_time": "2022-05-25T15:50:30.621Z"
   },
   {
    "duration": 903,
    "start_time": "2022-05-25T15:50:30.656Z"
   },
   {
    "duration": 3,
    "start_time": "2022-05-25T15:50:31.561Z"
   },
   {
    "duration": 59,
    "start_time": "2022-05-25T15:50:31.565Z"
   },
   {
    "duration": 10,
    "start_time": "2022-05-25T15:50:31.625Z"
   },
   {
    "duration": 74,
    "start_time": "2022-05-25T15:50:31.636Z"
   },
   {
    "duration": 82,
    "start_time": "2022-05-25T15:50:31.711Z"
   },
   {
    "duration": 24,
    "start_time": "2022-05-25T15:50:31.795Z"
   },
   {
    "duration": 112,
    "start_time": "2022-05-25T15:50:31.821Z"
   },
   {
    "duration": 7,
    "start_time": "2022-05-25T15:50:31.935Z"
   },
   {
    "duration": 8,
    "start_time": "2022-05-25T15:50:31.944Z"
   },
   {
    "duration": 168,
    "start_time": "2022-05-25T15:50:31.954Z"
   },
   {
    "duration": 18,
    "start_time": "2022-05-25T15:50:32.123Z"
   },
   {
    "duration": 46,
    "start_time": "2022-05-25T15:50:32.142Z"
   },
   {
    "duration": 123,
    "start_time": "2022-05-25T15:50:32.190Z"
   },
   {
    "duration": 13,
    "start_time": "2022-05-25T15:50:32.315Z"
   },
   {
    "duration": 9,
    "start_time": "2022-05-25T15:50:32.329Z"
   },
   {
    "duration": 115,
    "start_time": "2022-05-25T15:50:32.339Z"
   },
   {
    "duration": 111,
    "start_time": "2022-05-25T15:50:32.455Z"
   },
   {
    "duration": 23,
    "start_time": "2022-05-25T15:50:32.568Z"
   },
   {
    "duration": 4,
    "start_time": "2022-05-25T15:50:32.595Z"
   },
   {
    "duration": 33,
    "start_time": "2022-05-25T15:50:32.601Z"
   },
   {
    "duration": 311,
    "start_time": "2022-05-25T15:50:32.635Z"
   },
   {
    "duration": 310,
    "start_time": "2022-05-25T15:50:32.948Z"
   },
   {
    "duration": 256,
    "start_time": "2022-05-25T15:50:33.259Z"
   },
   {
    "duration": 73,
    "start_time": "2022-05-25T15:50:33.517Z"
   },
   {
    "duration": 17,
    "start_time": "2022-05-25T15:50:33.592Z"
   },
   {
    "duration": 805,
    "start_time": "2022-05-25T15:50:33.611Z"
   },
   {
    "duration": 709,
    "start_time": "2022-05-25T15:51:01.912Z"
   },
   {
    "duration": 788,
    "start_time": "2022-05-25T15:51:36.958Z"
   },
   {
    "duration": 553,
    "start_time": "2022-05-25T15:54:50.540Z"
   },
   {
    "duration": 448,
    "start_time": "2022-05-25T15:54:59.316Z"
   },
   {
    "duration": 4,
    "start_time": "2022-05-25T15:57:12.702Z"
   },
   {
    "duration": 842,
    "start_time": "2022-05-25T15:57:12.708Z"
   },
   {
    "duration": 23,
    "start_time": "2022-05-25T15:57:13.552Z"
   },
   {
    "duration": 140,
    "start_time": "2022-05-25T15:57:13.577Z"
   },
   {
    "duration": 92,
    "start_time": "2022-05-25T15:57:13.718Z"
   },
   {
    "duration": 387,
    "start_time": "2022-05-25T15:57:13.811Z"
   },
   {
    "duration": 144,
    "start_time": "2022-05-25T15:57:14.200Z"
   },
   {
    "duration": 48,
    "start_time": "2022-05-25T15:57:14.346Z"
   },
   {
    "duration": 853,
    "start_time": "2022-05-25T15:57:14.397Z"
   },
   {
    "duration": 3,
    "start_time": "2022-05-25T15:57:15.252Z"
   },
   {
    "duration": 70,
    "start_time": "2022-05-25T15:57:15.256Z"
   },
   {
    "duration": 9,
    "start_time": "2022-05-25T15:57:15.327Z"
   },
   {
    "duration": 61,
    "start_time": "2022-05-25T15:57:15.337Z"
   },
   {
    "duration": 82,
    "start_time": "2022-05-25T15:57:15.399Z"
   },
   {
    "duration": 20,
    "start_time": "2022-05-25T15:57:15.484Z"
   },
   {
    "duration": 107,
    "start_time": "2022-05-25T15:57:15.505Z"
   },
   {
    "duration": 6,
    "start_time": "2022-05-25T15:57:15.614Z"
   },
   {
    "duration": 6,
    "start_time": "2022-05-25T15:57:15.621Z"
   },
   {
    "duration": 126,
    "start_time": "2022-05-25T15:57:15.629Z"
   },
   {
    "duration": 33,
    "start_time": "2022-05-25T15:57:15.757Z"
   },
   {
    "duration": 22,
    "start_time": "2022-05-25T15:57:15.792Z"
   },
   {
    "duration": 131,
    "start_time": "2022-05-25T15:57:15.815Z"
   },
   {
    "duration": 13,
    "start_time": "2022-05-25T15:57:15.948Z"
   },
   {
    "duration": 29,
    "start_time": "2022-05-25T15:57:15.963Z"
   },
   {
    "duration": 98,
    "start_time": "2022-05-25T15:57:15.994Z"
   },
   {
    "duration": 98,
    "start_time": "2022-05-25T15:57:16.093Z"
   },
   {
    "duration": 32,
    "start_time": "2022-05-25T15:57:16.193Z"
   },
   {
    "duration": 6,
    "start_time": "2022-05-25T15:57:16.226Z"
   },
   {
    "duration": 36,
    "start_time": "2022-05-25T15:57:16.234Z"
   },
   {
    "duration": 264,
    "start_time": "2022-05-25T15:57:16.271Z"
   },
   {
    "duration": 271,
    "start_time": "2022-05-25T15:57:16.537Z"
   },
   {
    "duration": 258,
    "start_time": "2022-05-25T15:57:16.810Z"
   },
   {
    "duration": 71,
    "start_time": "2022-05-25T15:57:17.070Z"
   },
   {
    "duration": 18,
    "start_time": "2022-05-25T15:57:17.142Z"
   },
   {
    "duration": 802,
    "start_time": "2022-05-25T15:57:17.175Z"
   },
   {
    "duration": 450,
    "start_time": "2022-05-25T15:57:17.986Z"
   },
   {
    "duration": 802,
    "start_time": "2022-05-25T15:57:18.438Z"
   },
   {
    "duration": 47,
    "start_time": "2022-05-25T15:57:19.241Z"
   },
   {
    "duration": 9,
    "start_time": "2022-05-25T15:57:19.290Z"
   },
   {
    "duration": 254,
    "start_time": "2022-05-25T15:57:19.300Z"
   },
   {
    "duration": 55,
    "start_time": "2022-05-25T15:57:19.555Z"
   },
   {
    "duration": 4,
    "start_time": "2022-05-25T16:02:45.945Z"
   },
   {
    "duration": 841,
    "start_time": "2022-05-25T16:02:45.952Z"
   },
   {
    "duration": 23,
    "start_time": "2022-05-25T16:02:46.798Z"
   },
   {
    "duration": 136,
    "start_time": "2022-05-25T16:02:46.822Z"
   },
   {
    "duration": 106,
    "start_time": "2022-05-25T16:02:46.960Z"
   },
   {
    "duration": 388,
    "start_time": "2022-05-25T16:02:47.067Z"
   },
   {
    "duration": 135,
    "start_time": "2022-05-25T16:02:47.457Z"
   },
   {
    "duration": 36,
    "start_time": "2022-05-25T16:02:47.594Z"
   },
   {
    "duration": 902,
    "start_time": "2022-05-25T16:02:47.631Z"
   },
   {
    "duration": 3,
    "start_time": "2022-05-25T16:02:48.535Z"
   },
   {
    "duration": 60,
    "start_time": "2022-05-25T16:02:48.541Z"
   },
   {
    "duration": 8,
    "start_time": "2022-05-25T16:02:48.603Z"
   },
   {
    "duration": 34,
    "start_time": "2022-05-25T16:02:48.612Z"
   },
   {
    "duration": 105,
    "start_time": "2022-05-25T16:02:48.648Z"
   },
   {
    "duration": 42,
    "start_time": "2022-05-25T16:02:48.755Z"
   },
   {
    "duration": 104,
    "start_time": "2022-05-25T16:02:48.799Z"
   },
   {
    "duration": 7,
    "start_time": "2022-05-25T16:02:48.905Z"
   },
   {
    "duration": 6,
    "start_time": "2022-05-25T16:02:48.914Z"
   },
   {
    "duration": 130,
    "start_time": "2022-05-25T16:02:48.921Z"
   },
   {
    "duration": 37,
    "start_time": "2022-05-25T16:02:49.053Z"
   },
   {
    "duration": 26,
    "start_time": "2022-05-25T16:02:49.092Z"
   },
   {
    "duration": 121,
    "start_time": "2022-05-25T16:02:49.120Z"
   },
   {
    "duration": 12,
    "start_time": "2022-05-25T16:02:49.242Z"
   },
   {
    "duration": 32,
    "start_time": "2022-05-25T16:02:49.256Z"
   },
   {
    "duration": 96,
    "start_time": "2022-05-25T16:02:49.292Z"
   },
   {
    "duration": 103,
    "start_time": "2022-05-25T16:02:49.390Z"
   },
   {
    "duration": 15,
    "start_time": "2022-05-25T16:02:49.495Z"
   },
   {
    "duration": 4,
    "start_time": "2022-05-25T16:02:49.512Z"
   },
   {
    "duration": 32,
    "start_time": "2022-05-25T16:02:49.519Z"
   },
   {
    "duration": 261,
    "start_time": "2022-05-25T16:02:49.552Z"
   },
   {
    "duration": 272,
    "start_time": "2022-05-25T16:02:49.824Z"
   },
   {
    "duration": 326,
    "start_time": "2022-05-25T16:02:50.097Z"
   },
   {
    "duration": 72,
    "start_time": "2022-05-25T16:02:50.425Z"
   },
   {
    "duration": 25,
    "start_time": "2022-05-25T16:02:50.499Z"
   },
   {
    "duration": 806,
    "start_time": "2022-05-25T16:02:50.525Z"
   },
   {
    "duration": 433,
    "start_time": "2022-05-25T16:02:51.333Z"
   },
   {
    "duration": 934,
    "start_time": "2022-05-25T16:02:51.767Z"
   },
   {
    "duration": 33,
    "start_time": "2022-05-25T16:02:52.703Z"
   },
   {
    "duration": 23,
    "start_time": "2022-05-25T16:02:52.739Z"
   },
   {
    "duration": 345,
    "start_time": "2022-05-25T16:02:52.764Z"
   },
   {
    "duration": 55,
    "start_time": "2022-05-25T16:02:53.113Z"
   },
   {
    "duration": 21,
    "start_time": "2022-05-25T16:02:53.181Z"
   },
   {
    "duration": 44393,
    "start_time": "2022-05-25T16:02:53.205Z"
   },
   {
    "duration": 281,
    "start_time": "2022-05-25T16:03:37.601Z"
   },
   {
    "duration": 110,
    "start_time": "2022-05-26T16:29:15.190Z"
   },
   {
    "duration": 1803,
    "start_time": "2022-05-26T16:29:53.528Z"
   },
   {
    "duration": 1499,
    "start_time": "2022-05-26T16:29:55.334Z"
   },
   {
    "duration": 33,
    "start_time": "2022-05-26T16:29:56.834Z"
   },
   {
    "duration": 152,
    "start_time": "2022-05-26T16:29:56.869Z"
   },
   {
    "duration": 126,
    "start_time": "2022-05-26T16:29:57.024Z"
   },
   {
    "duration": 505,
    "start_time": "2022-05-26T16:29:57.151Z"
   },
   {
    "duration": 125,
    "start_time": "2022-05-26T16:29:57.658Z"
   },
   {
    "duration": 27,
    "start_time": "2022-05-26T16:29:57.786Z"
   },
   {
    "duration": 1047,
    "start_time": "2022-05-26T16:29:57.814Z"
   },
   {
    "duration": 13,
    "start_time": "2022-05-26T16:29:58.863Z"
   },
   {
    "duration": 83,
    "start_time": "2022-05-26T16:29:58.877Z"
   },
   {
    "duration": 13,
    "start_time": "2022-05-26T16:29:58.962Z"
   },
   {
    "duration": 84,
    "start_time": "2022-05-26T16:29:58.977Z"
   },
   {
    "duration": 79,
    "start_time": "2022-05-26T16:29:59.065Z"
   },
   {
    "duration": 41,
    "start_time": "2022-05-26T16:29:59.147Z"
   },
   {
    "duration": 140,
    "start_time": "2022-05-26T16:29:59.190Z"
   },
   {
    "duration": 7,
    "start_time": "2022-05-26T16:29:59.331Z"
   },
   {
    "duration": 10,
    "start_time": "2022-05-26T16:29:59.340Z"
   },
   {
    "duration": 171,
    "start_time": "2022-05-26T16:29:59.354Z"
   },
   {
    "duration": 36,
    "start_time": "2022-05-26T16:29:59.526Z"
   },
   {
    "duration": 32,
    "start_time": "2022-05-26T16:29:59.564Z"
   },
   {
    "duration": 163,
    "start_time": "2022-05-26T16:29:59.598Z"
   },
   {
    "duration": 21,
    "start_time": "2022-05-26T16:29:59.763Z"
   },
   {
    "duration": 15,
    "start_time": "2022-05-26T16:29:59.786Z"
   },
   {
    "duration": 115,
    "start_time": "2022-05-26T16:29:59.802Z"
   },
   {
    "duration": 104,
    "start_time": "2022-05-26T16:29:59.919Z"
   },
   {
    "duration": 15,
    "start_time": "2022-05-26T16:30:00.025Z"
   },
   {
    "duration": 34,
    "start_time": "2022-05-26T16:30:00.052Z"
   },
   {
    "duration": 35,
    "start_time": "2022-05-26T16:30:00.087Z"
   },
   {
    "duration": 304,
    "start_time": "2022-05-26T16:30:00.124Z"
   },
   {
    "duration": 293,
    "start_time": "2022-05-26T16:30:00.430Z"
   },
   {
    "duration": 287,
    "start_time": "2022-05-26T16:30:00.725Z"
   },
   {
    "duration": 79,
    "start_time": "2022-05-26T16:30:01.014Z"
   },
   {
    "duration": 26,
    "start_time": "2022-05-26T16:30:01.094Z"
   },
   {
    "duration": 188,
    "start_time": "2022-05-26T16:30:01.122Z"
   },
   {
    "duration": 0,
    "start_time": "2022-05-26T16:30:01.311Z"
   },
   {
    "duration": 0,
    "start_time": "2022-05-26T16:30:01.313Z"
   },
   {
    "duration": 0,
    "start_time": "2022-05-26T16:30:01.314Z"
   },
   {
    "duration": 0,
    "start_time": "2022-05-26T16:30:01.315Z"
   },
   {
    "duration": 0,
    "start_time": "2022-05-26T16:30:01.316Z"
   },
   {
    "duration": 0,
    "start_time": "2022-05-26T16:30:01.317Z"
   },
   {
    "duration": 0,
    "start_time": "2022-05-26T16:30:01.318Z"
   },
   {
    "duration": 9,
    "start_time": "2022-05-26T16:30:30.303Z"
   },
   {
    "duration": 491,
    "start_time": "2022-05-26T16:30:43.450Z"
   },
   {
    "duration": 759,
    "start_time": "2022-05-26T16:31:30.583Z"
   },
   {
    "duration": 527,
    "start_time": "2022-05-26T16:31:49.171Z"
   },
   {
    "duration": 10,
    "start_time": "2022-05-26T16:33:19.327Z"
   },
   {
    "duration": 476,
    "start_time": "2022-05-26T16:34:00.651Z"
   },
   {
    "duration": 446,
    "start_time": "2022-05-26T16:34:08.980Z"
   },
   {
    "duration": 6,
    "start_time": "2022-05-26T16:34:59.479Z"
   },
   {
    "duration": 549,
    "start_time": "2022-05-26T16:35:45.386Z"
   },
   {
    "duration": 865,
    "start_time": "2022-05-26T16:36:32.524Z"
   },
   {
    "duration": 36,
    "start_time": "2022-05-26T16:37:28.064Z"
   },
   {
    "duration": 1418,
    "start_time": "2022-05-26T16:43:45.491Z"
   },
   {
    "duration": 857,
    "start_time": "2022-05-26T16:43:46.911Z"
   },
   {
    "duration": 30,
    "start_time": "2022-05-26T16:43:47.770Z"
   },
   {
    "duration": 131,
    "start_time": "2022-05-26T16:43:47.802Z"
   },
   {
    "duration": 130,
    "start_time": "2022-05-26T16:43:47.935Z"
   },
   {
    "duration": 482,
    "start_time": "2022-05-26T16:43:48.067Z"
   },
   {
    "duration": 126,
    "start_time": "2022-05-26T16:43:48.551Z"
   },
   {
    "duration": 34,
    "start_time": "2022-05-26T16:43:48.678Z"
   },
   {
    "duration": 1008,
    "start_time": "2022-05-26T16:43:48.713Z"
   },
   {
    "duration": 3,
    "start_time": "2022-05-26T16:43:49.723Z"
   },
   {
    "duration": 76,
    "start_time": "2022-05-26T16:43:49.728Z"
   },
   {
    "duration": 11,
    "start_time": "2022-05-26T16:43:49.806Z"
   },
   {
    "duration": 84,
    "start_time": "2022-05-26T16:43:49.818Z"
   },
   {
    "duration": 94,
    "start_time": "2022-05-26T16:43:49.905Z"
   },
   {
    "duration": 19,
    "start_time": "2022-05-26T16:43:50.001Z"
   },
   {
    "duration": 148,
    "start_time": "2022-05-26T16:43:50.022Z"
   },
   {
    "duration": 9,
    "start_time": "2022-05-26T16:43:50.172Z"
   },
   {
    "duration": 13,
    "start_time": "2022-05-26T16:43:50.183Z"
   },
   {
    "duration": 135,
    "start_time": "2022-05-26T16:43:50.198Z"
   },
   {
    "duration": 39,
    "start_time": "2022-05-26T16:43:50.335Z"
   },
   {
    "duration": 24,
    "start_time": "2022-05-26T16:43:50.381Z"
   },
   {
    "duration": 149,
    "start_time": "2022-05-26T16:43:50.407Z"
   },
   {
    "duration": 23,
    "start_time": "2022-05-26T16:43:50.564Z"
   },
   {
    "duration": 18,
    "start_time": "2022-05-26T16:43:50.589Z"
   },
   {
    "duration": 113,
    "start_time": "2022-05-26T16:43:50.608Z"
   },
   {
    "duration": 101,
    "start_time": "2022-05-26T16:43:50.722Z"
   },
   {
    "duration": 13,
    "start_time": "2022-05-26T16:43:50.824Z"
   },
   {
    "duration": 26,
    "start_time": "2022-05-26T16:43:50.839Z"
   },
   {
    "duration": 39,
    "start_time": "2022-05-26T16:43:50.871Z"
   },
   {
    "duration": 286,
    "start_time": "2022-05-26T16:43:50.912Z"
   },
   {
    "duration": 300,
    "start_time": "2022-05-26T16:43:51.199Z"
   },
   {
    "duration": 292,
    "start_time": "2022-05-26T16:43:51.500Z"
   },
   {
    "duration": 78,
    "start_time": "2022-05-26T16:43:51.794Z"
   },
   {
    "duration": 34,
    "start_time": "2022-05-26T16:43:51.874Z"
   },
   {
    "duration": 834,
    "start_time": "2022-05-26T16:43:51.910Z"
   },
   {
    "duration": 457,
    "start_time": "2022-05-26T16:43:52.745Z"
   },
   {
    "duration": 865,
    "start_time": "2022-05-26T16:43:53.204Z"
   },
   {
    "duration": 36,
    "start_time": "2022-05-26T16:43:54.071Z"
   },
   {
    "duration": 11,
    "start_time": "2022-05-26T16:43:54.109Z"
   },
   {
    "duration": 270,
    "start_time": "2022-05-26T16:43:54.122Z"
   },
   {
    "duration": 43,
    "start_time": "2022-05-26T16:43:54.396Z"
   },
   {
    "duration": 79,
    "start_time": "2022-05-26T16:43:54.441Z"
   },
   {
    "duration": 19,
    "start_time": "2022-05-26T16:43:54.522Z"
   },
   {
    "duration": 1385,
    "start_time": "2022-05-26T16:44:59.428Z"
   },
   {
    "duration": 872,
    "start_time": "2022-05-26T16:45:00.816Z"
   },
   {
    "duration": 27,
    "start_time": "2022-05-26T16:45:01.689Z"
   },
   {
    "duration": 155,
    "start_time": "2022-05-26T16:45:01.718Z"
   },
   {
    "duration": 119,
    "start_time": "2022-05-26T16:45:01.879Z"
   },
   {
    "duration": 492,
    "start_time": "2022-05-26T16:45:02.000Z"
   },
   {
    "duration": 133,
    "start_time": "2022-05-26T16:45:02.497Z"
   },
   {
    "duration": 39,
    "start_time": "2022-05-26T16:45:02.632Z"
   },
   {
    "duration": 1025,
    "start_time": "2022-05-26T16:45:02.673Z"
   },
   {
    "duration": 3,
    "start_time": "2022-05-26T16:45:03.700Z"
   },
   {
    "duration": 84,
    "start_time": "2022-05-26T16:45:03.704Z"
   },
   {
    "duration": 10,
    "start_time": "2022-05-26T16:45:03.790Z"
   },
   {
    "duration": 81,
    "start_time": "2022-05-26T16:45:03.801Z"
   },
   {
    "duration": 87,
    "start_time": "2022-05-26T16:45:03.885Z"
   },
   {
    "duration": 24,
    "start_time": "2022-05-26T16:45:03.976Z"
   },
   {
    "duration": 122,
    "start_time": "2022-05-26T16:45:04.002Z"
   },
   {
    "duration": 8,
    "start_time": "2022-05-26T16:45:04.126Z"
   },
   {
    "duration": 7,
    "start_time": "2022-05-26T16:45:04.136Z"
   },
   {
    "duration": 152,
    "start_time": "2022-05-26T16:45:04.152Z"
   },
   {
    "duration": 19,
    "start_time": "2022-05-26T16:45:04.305Z"
   },
   {
    "duration": 46,
    "start_time": "2022-05-26T16:45:04.326Z"
   },
   {
    "duration": 152,
    "start_time": "2022-05-26T16:45:04.374Z"
   },
   {
    "duration": 14,
    "start_time": "2022-05-26T16:45:04.529Z"
   },
   {
    "duration": 14,
    "start_time": "2022-05-26T16:45:04.552Z"
   },
   {
    "duration": 125,
    "start_time": "2022-05-26T16:45:04.571Z"
   },
   {
    "duration": 111,
    "start_time": "2022-05-26T16:45:04.698Z"
   },
   {
    "duration": 23,
    "start_time": "2022-05-26T16:45:04.811Z"
   },
   {
    "duration": 3,
    "start_time": "2022-05-26T16:45:04.836Z"
   },
   {
    "duration": 54,
    "start_time": "2022-05-26T16:45:04.841Z"
   },
   {
    "duration": 306,
    "start_time": "2022-05-26T16:45:04.896Z"
   },
   {
    "duration": 329,
    "start_time": "2022-05-26T16:45:05.204Z"
   },
   {
    "duration": 288,
    "start_time": "2022-05-26T16:45:05.535Z"
   },
   {
    "duration": 69,
    "start_time": "2022-05-26T16:45:05.825Z"
   },
   {
    "duration": 24,
    "start_time": "2022-05-26T16:45:05.896Z"
   },
   {
    "duration": 830,
    "start_time": "2022-05-26T16:45:05.921Z"
   },
   {
    "duration": 452,
    "start_time": "2022-05-26T16:45:06.753Z"
   },
   {
    "duration": 112,
    "start_time": "2022-05-26T16:45:07.207Z"
   },
   {
    "duration": 874,
    "start_time": "2022-05-26T16:45:07.321Z"
   },
   {
    "duration": 29,
    "start_time": "2022-05-26T16:45:08.197Z"
   },
   {
    "duration": 9,
    "start_time": "2022-05-26T16:45:08.227Z"
   },
   {
    "duration": 258,
    "start_time": "2022-05-26T16:45:08.254Z"
   },
   {
    "duration": 70,
    "start_time": "2022-05-26T16:45:08.513Z"
   },
   {
    "duration": 19,
    "start_time": "2022-05-26T16:45:08.585Z"
   },
   {
    "duration": 46,
    "start_time": "2022-05-26T16:46:02.228Z"
   },
   {
    "duration": 35,
    "start_time": "2022-05-26T16:51:18.533Z"
   },
   {
    "duration": 47,
    "start_time": "2022-05-26T16:51:27.620Z"
   },
   {
    "duration": 28,
    "start_time": "2022-05-26T16:51:42.964Z"
   },
   {
    "duration": 1407,
    "start_time": "2022-05-26T16:53:45.609Z"
   },
   {
    "duration": 1160,
    "start_time": "2022-05-26T16:53:47.019Z"
   },
   {
    "duration": 28,
    "start_time": "2022-05-26T16:53:48.181Z"
   },
   {
    "duration": 118,
    "start_time": "2022-05-26T16:53:48.211Z"
   },
   {
    "duration": 111,
    "start_time": "2022-05-26T16:53:48.330Z"
   },
   {
    "duration": 472,
    "start_time": "2022-05-26T16:53:48.442Z"
   },
   {
    "duration": 175,
    "start_time": "2022-05-26T16:53:48.916Z"
   },
   {
    "duration": 84,
    "start_time": "2022-05-26T16:53:49.093Z"
   },
   {
    "duration": 1944,
    "start_time": "2022-05-26T16:53:49.179Z"
   },
   {
    "duration": 2,
    "start_time": "2022-05-26T16:53:51.126Z"
   },
   {
    "duration": 70,
    "start_time": "2022-05-26T16:53:51.130Z"
   },
   {
    "duration": 12,
    "start_time": "2022-05-26T16:53:51.202Z"
   },
   {
    "duration": 88,
    "start_time": "2022-05-26T16:53:51.216Z"
   },
   {
    "duration": 80,
    "start_time": "2022-05-26T16:53:51.307Z"
   },
   {
    "duration": 19,
    "start_time": "2022-05-26T16:53:51.389Z"
   },
   {
    "duration": 115,
    "start_time": "2022-05-26T16:53:51.410Z"
   },
   {
    "duration": 7,
    "start_time": "2022-05-26T16:53:51.527Z"
   },
   {
    "duration": 26,
    "start_time": "2022-05-26T16:53:51.536Z"
   },
   {
    "duration": 132,
    "start_time": "2022-05-26T16:53:51.564Z"
   },
   {
    "duration": 21,
    "start_time": "2022-05-26T16:53:51.698Z"
   },
   {
    "duration": 44,
    "start_time": "2022-05-26T16:53:51.720Z"
   },
   {
    "duration": 143,
    "start_time": "2022-05-26T16:53:51.767Z"
   },
   {
    "duration": 15,
    "start_time": "2022-05-26T16:53:51.912Z"
   },
   {
    "duration": 32,
    "start_time": "2022-05-26T16:53:51.929Z"
   },
   {
    "duration": 93,
    "start_time": "2022-05-26T16:53:51.964Z"
   },
   {
    "duration": 111,
    "start_time": "2022-05-26T16:53:52.064Z"
   },
   {
    "duration": 14,
    "start_time": "2022-05-26T16:53:52.177Z"
   },
   {
    "duration": 2,
    "start_time": "2022-05-26T16:53:52.194Z"
   },
   {
    "duration": 32,
    "start_time": "2022-05-26T16:53:52.198Z"
   },
   {
    "duration": 296,
    "start_time": "2022-05-26T16:53:52.232Z"
   },
   {
    "duration": 285,
    "start_time": "2022-05-26T16:53:52.531Z"
   },
   {
    "duration": 276,
    "start_time": "2022-05-26T16:53:52.818Z"
   },
   {
    "duration": 71,
    "start_time": "2022-05-26T16:53:53.096Z"
   },
   {
    "duration": 22,
    "start_time": "2022-05-26T16:53:53.169Z"
   },
   {
    "duration": 834,
    "start_time": "2022-05-26T16:53:53.193Z"
   },
   {
    "duration": 450,
    "start_time": "2022-05-26T16:53:54.029Z"
   },
   {
    "duration": 104,
    "start_time": "2022-05-26T16:53:54.480Z"
   },
   {
    "duration": 897,
    "start_time": "2022-05-26T16:53:54.586Z"
   },
   {
    "duration": 29,
    "start_time": "2022-05-26T16:53:55.486Z"
   },
   {
    "duration": 10,
    "start_time": "2022-05-26T16:53:55.517Z"
   },
   {
    "duration": 272,
    "start_time": "2022-05-26T16:53:55.528Z"
   },
   {
    "duration": 56,
    "start_time": "2022-05-26T16:53:55.802Z"
   },
   {
    "duration": 154,
    "start_time": "2022-05-26T16:54:14.746Z"
   },
   {
    "duration": 11,
    "start_time": "2022-05-26T16:54:22.593Z"
   },
   {
    "duration": 1567,
    "start_time": "2022-05-26T17:01:57.319Z"
   },
   {
    "duration": 866,
    "start_time": "2022-05-26T17:01:58.888Z"
   },
   {
    "duration": 42,
    "start_time": "2022-05-26T17:01:59.759Z"
   },
   {
    "duration": 132,
    "start_time": "2022-05-26T17:01:59.803Z"
   },
   {
    "duration": 126,
    "start_time": "2022-05-26T17:01:59.938Z"
   },
   {
    "duration": 494,
    "start_time": "2022-05-26T17:02:00.068Z"
   },
   {
    "duration": 103,
    "start_time": "2022-05-26T17:02:00.565Z"
   },
   {
    "duration": 33,
    "start_time": "2022-05-26T17:02:00.670Z"
   },
   {
    "duration": 1969,
    "start_time": "2022-05-26T17:02:00.705Z"
   },
   {
    "duration": 2,
    "start_time": "2022-05-26T17:02:02.677Z"
   },
   {
    "duration": 194,
    "start_time": "2022-05-26T17:02:02.681Z"
   },
   {
    "duration": 11,
    "start_time": "2022-05-26T17:02:02.877Z"
   },
   {
    "duration": 118,
    "start_time": "2022-05-26T17:02:02.889Z"
   },
   {
    "duration": 111,
    "start_time": "2022-05-26T17:02:03.010Z"
   },
   {
    "duration": 37,
    "start_time": "2022-05-26T17:02:03.123Z"
   },
   {
    "duration": 112,
    "start_time": "2022-05-26T17:02:03.161Z"
   },
   {
    "duration": 7,
    "start_time": "2022-05-26T17:02:03.275Z"
   },
   {
    "duration": 11,
    "start_time": "2022-05-26T17:02:03.284Z"
   },
   {
    "duration": 143,
    "start_time": "2022-05-26T17:02:03.297Z"
   },
   {
    "duration": 39,
    "start_time": "2022-05-26T17:02:03.441Z"
   },
   {
    "duration": 29,
    "start_time": "2022-05-26T17:02:03.482Z"
   },
   {
    "duration": 144,
    "start_time": "2022-05-26T17:02:03.513Z"
   },
   {
    "duration": 18,
    "start_time": "2022-05-26T17:02:03.658Z"
   },
   {
    "duration": 24,
    "start_time": "2022-05-26T17:02:03.677Z"
   },
   {
    "duration": 114,
    "start_time": "2022-05-26T17:02:03.703Z"
   },
   {
    "duration": 105,
    "start_time": "2022-05-26T17:02:03.818Z"
   },
   {
    "duration": 13,
    "start_time": "2022-05-26T17:02:03.925Z"
   },
   {
    "duration": 15,
    "start_time": "2022-05-26T17:02:03.954Z"
   },
   {
    "duration": 42,
    "start_time": "2022-05-26T17:02:03.970Z"
   },
   {
    "duration": 290,
    "start_time": "2022-05-26T17:02:04.014Z"
   },
   {
    "duration": 275,
    "start_time": "2022-05-26T17:02:04.306Z"
   },
   {
    "duration": 264,
    "start_time": "2022-05-26T17:02:04.583Z"
   },
   {
    "duration": 61,
    "start_time": "2022-05-26T17:02:04.851Z"
   },
   {
    "duration": 23,
    "start_time": "2022-05-26T17:02:04.913Z"
   },
   {
    "duration": 951,
    "start_time": "2022-05-26T17:02:04.953Z"
   },
   {
    "duration": 454,
    "start_time": "2022-05-26T17:02:05.906Z"
   },
   {
    "duration": 99,
    "start_time": "2022-05-26T17:02:06.367Z"
   },
   {
    "duration": 840,
    "start_time": "2022-05-26T17:02:06.469Z"
   },
   {
    "duration": 28,
    "start_time": "2022-05-26T17:02:07.311Z"
   },
   {
    "duration": 27,
    "start_time": "2022-05-26T17:02:07.340Z"
   },
   {
    "duration": 261,
    "start_time": "2022-05-26T17:02:07.371Z"
   },
   {
    "duration": 52,
    "start_time": "2022-05-26T17:02:07.634Z"
   },
   {
    "duration": 3,
    "start_time": "2022-05-26T17:02:07.688Z"
   },
   {
    "duration": 36880,
    "start_time": "2022-05-26T17:02:07.693Z"
   },
   {
    "duration": 192,
    "start_time": "2022-05-26T17:02:44.575Z"
   },
   {
    "duration": 269,
    "start_time": "2022-05-26T17:02:44.851Z"
   },
   {
    "duration": 54,
    "start_time": "2022-05-26T17:02:45.122Z"
   },
   {
    "duration": 171,
    "start_time": "2022-05-26T17:02:45.178Z"
   },
   {
    "duration": 55,
    "start_time": "2022-05-26T17:02:45.352Z"
   },
   {
    "duration": 40,
    "start_time": "2022-05-26T17:02:45.408Z"
   },
   {
    "duration": 39,
    "start_time": "2022-05-26T17:02:45.450Z"
   },
   {
    "duration": 14,
    "start_time": "2022-05-26T17:02:45.490Z"
   },
   {
    "duration": 0,
    "start_time": "2022-05-26T17:02:45.506Z"
   },
   {
    "duration": 0,
    "start_time": "2022-05-26T17:02:45.507Z"
   },
   {
    "duration": 0,
    "start_time": "2022-05-26T17:02:45.509Z"
   },
   {
    "duration": 0,
    "start_time": "2022-05-26T17:02:45.510Z"
   },
   {
    "duration": 0,
    "start_time": "2022-05-26T17:02:45.512Z"
   },
   {
    "duration": 0,
    "start_time": "2022-05-26T17:02:45.513Z"
   },
   {
    "duration": 1418,
    "start_time": "2022-05-26T17:03:45.148Z"
   },
   {
    "duration": 859,
    "start_time": "2022-05-26T17:03:46.569Z"
   },
   {
    "duration": 37,
    "start_time": "2022-05-26T17:03:47.430Z"
   },
   {
    "duration": 125,
    "start_time": "2022-05-26T17:03:47.469Z"
   },
   {
    "duration": 123,
    "start_time": "2022-05-26T17:03:47.596Z"
   },
   {
    "duration": 640,
    "start_time": "2022-05-26T17:03:47.720Z"
   },
   {
    "duration": 220,
    "start_time": "2022-05-26T17:03:48.363Z"
   },
   {
    "duration": 97,
    "start_time": "2022-05-26T17:03:48.584Z"
   },
   {
    "duration": 2043,
    "start_time": "2022-05-26T17:03:48.683Z"
   },
   {
    "duration": 4,
    "start_time": "2022-05-26T17:03:50.729Z"
   },
   {
    "duration": 76,
    "start_time": "2022-05-26T17:03:50.735Z"
   },
   {
    "duration": 17,
    "start_time": "2022-05-26T17:03:50.813Z"
   },
   {
    "duration": 88,
    "start_time": "2022-05-26T17:03:50.832Z"
   },
   {
    "duration": 87,
    "start_time": "2022-05-26T17:03:50.923Z"
   },
   {
    "duration": 22,
    "start_time": "2022-05-26T17:03:51.012Z"
   },
   {
    "duration": 129,
    "start_time": "2022-05-26T17:03:51.036Z"
   },
   {
    "duration": 7,
    "start_time": "2022-05-26T17:03:51.168Z"
   },
   {
    "duration": 13,
    "start_time": "2022-05-26T17:03:51.178Z"
   },
   {
    "duration": 151,
    "start_time": "2022-05-26T17:03:51.193Z"
   },
   {
    "duration": 36,
    "start_time": "2022-05-26T17:03:51.346Z"
   },
   {
    "duration": 29,
    "start_time": "2022-05-26T17:03:51.388Z"
   },
   {
    "duration": 154,
    "start_time": "2022-05-26T17:03:51.419Z"
   },
   {
    "duration": 15,
    "start_time": "2022-05-26T17:03:51.575Z"
   },
   {
    "duration": 11,
    "start_time": "2022-05-26T17:03:51.592Z"
   },
   {
    "duration": 113,
    "start_time": "2022-05-26T17:03:51.605Z"
   },
   {
    "duration": 118,
    "start_time": "2022-05-26T17:03:51.720Z"
   },
   {
    "duration": 23,
    "start_time": "2022-05-26T17:03:51.840Z"
   },
   {
    "duration": 24,
    "start_time": "2022-05-26T17:03:51.869Z"
   },
   {
    "duration": 65,
    "start_time": "2022-05-26T17:03:51.895Z"
   },
   {
    "duration": 311,
    "start_time": "2022-05-26T17:03:51.962Z"
   },
   {
    "duration": 272,
    "start_time": "2022-05-26T17:03:52.275Z"
   },
   {
    "duration": 323,
    "start_time": "2022-05-26T17:03:52.549Z"
   },
   {
    "duration": 56,
    "start_time": "2022-05-26T17:03:52.875Z"
   },
   {
    "duration": 35,
    "start_time": "2022-05-26T17:03:52.933Z"
   },
   {
    "duration": 860,
    "start_time": "2022-05-26T17:03:52.970Z"
   },
   {
    "duration": 460,
    "start_time": "2022-05-26T17:03:53.832Z"
   },
   {
    "duration": 127,
    "start_time": "2022-05-26T17:03:54.294Z"
   },
   {
    "duration": 961,
    "start_time": "2022-05-26T17:03:54.423Z"
   },
   {
    "duration": 33,
    "start_time": "2022-05-26T17:03:55.386Z"
   },
   {
    "duration": 15,
    "start_time": "2022-05-26T17:03:55.422Z"
   },
   {
    "duration": 291,
    "start_time": "2022-05-26T17:03:55.452Z"
   },
   {
    "duration": 59,
    "start_time": "2022-05-26T17:03:55.744Z"
   },
   {
    "duration": 3,
    "start_time": "2022-05-26T17:03:55.805Z"
   },
   {
    "duration": 40854,
    "start_time": "2022-05-26T17:03:55.810Z"
   },
   {
    "duration": 195,
    "start_time": "2022-05-26T17:04:36.667Z"
   },
   {
    "duration": 6,
    "start_time": "2022-05-26T17:04:36.864Z"
   },
   {
    "duration": 502370,
    "start_time": "2022-05-26T17:04:36.952Z"
   },
   {
    "duration": 143,
    "start_time": "2022-05-26T17:12:59.324Z"
   },
   {
    "duration": 4,
    "start_time": "2022-05-26T17:12:59.469Z"
   },
   {
    "duration": 425169,
    "start_time": "2022-05-26T17:12:59.474Z"
   },
   {
    "duration": 188,
    "start_time": "2022-05-26T17:20:04.645Z"
   },
   {
    "duration": 170,
    "start_time": "2022-05-26T17:20:04.835Z"
   },
   {
    "duration": 6,
    "start_time": "2022-05-26T17:20:05.006Z"
   },
   {
    "duration": 1318,
    "start_time": "2022-05-26T18:02:23.775Z"
   },
   {
    "duration": 1106,
    "start_time": "2022-05-26T18:02:25.096Z"
   },
   {
    "duration": 32,
    "start_time": "2022-05-26T18:02:26.203Z"
   },
   {
    "duration": 132,
    "start_time": "2022-05-26T18:02:26.237Z"
   },
   {
    "duration": 106,
    "start_time": "2022-05-26T18:02:26.371Z"
   },
   {
    "duration": 484,
    "start_time": "2022-05-26T18:02:26.478Z"
   },
   {
    "duration": 103,
    "start_time": "2022-05-26T18:02:26.964Z"
   },
   {
    "duration": 22,
    "start_time": "2022-05-26T18:02:27.069Z"
   },
   {
    "duration": 976,
    "start_time": "2022-05-26T18:02:27.092Z"
   },
   {
    "duration": 2,
    "start_time": "2022-05-26T18:02:28.070Z"
   },
   {
    "duration": 83,
    "start_time": "2022-05-26T18:02:28.074Z"
   },
   {
    "duration": 12,
    "start_time": "2022-05-26T18:02:28.167Z"
   },
   {
    "duration": 64,
    "start_time": "2022-05-26T18:02:28.180Z"
   },
   {
    "duration": 70,
    "start_time": "2022-05-26T18:02:28.255Z"
   },
   {
    "duration": 38,
    "start_time": "2022-05-26T18:02:28.326Z"
   },
   {
    "duration": 93,
    "start_time": "2022-05-26T18:02:28.366Z"
   },
   {
    "duration": 7,
    "start_time": "2022-05-26T18:02:28.461Z"
   },
   {
    "duration": 10,
    "start_time": "2022-05-26T18:02:28.469Z"
   },
   {
    "duration": 135,
    "start_time": "2022-05-26T18:02:28.481Z"
   },
   {
    "duration": 20,
    "start_time": "2022-05-26T18:02:28.617Z"
   },
   {
    "duration": 38,
    "start_time": "2022-05-26T18:02:28.638Z"
   },
   {
    "duration": 144,
    "start_time": "2022-05-26T18:02:28.678Z"
   },
   {
    "duration": 39,
    "start_time": "2022-05-26T18:02:28.823Z"
   },
   {
    "duration": 10,
    "start_time": "2022-05-26T18:02:28.864Z"
   },
   {
    "duration": 90,
    "start_time": "2022-05-26T18:02:28.875Z"
   },
   {
    "duration": 95,
    "start_time": "2022-05-26T18:02:28.967Z"
   },
   {
    "duration": 13,
    "start_time": "2022-05-26T18:02:29.064Z"
   },
   {
    "duration": 16,
    "start_time": "2022-05-26T18:02:29.079Z"
   },
   {
    "duration": 47,
    "start_time": "2022-05-26T18:02:29.096Z"
   },
   {
    "duration": 271,
    "start_time": "2022-05-26T18:02:29.145Z"
   },
   {
    "duration": 275,
    "start_time": "2022-05-26T18:02:29.418Z"
   },
   {
    "duration": 293,
    "start_time": "2022-05-26T18:02:29.695Z"
   },
   {
    "duration": 68,
    "start_time": "2022-05-26T18:02:29.990Z"
   },
   {
    "duration": 29,
    "start_time": "2022-05-26T18:02:30.060Z"
   },
   {
    "duration": 837,
    "start_time": "2022-05-26T18:02:30.091Z"
   },
   {
    "duration": 457,
    "start_time": "2022-05-26T18:02:30.929Z"
   },
   {
    "duration": 111,
    "start_time": "2022-05-26T18:02:31.388Z"
   },
   {
    "duration": 923,
    "start_time": "2022-05-26T18:02:31.501Z"
   },
   {
    "duration": 39,
    "start_time": "2022-05-26T18:02:32.426Z"
   },
   {
    "duration": 13,
    "start_time": "2022-05-26T18:02:32.467Z"
   },
   {
    "duration": 293,
    "start_time": "2022-05-26T18:02:32.485Z"
   },
   {
    "duration": 44,
    "start_time": "2022-05-26T18:02:32.780Z"
   },
   {
    "duration": 3,
    "start_time": "2022-05-26T18:02:32.825Z"
   },
   {
    "duration": 37340,
    "start_time": "2022-05-26T18:02:32.830Z"
   },
   {
    "duration": 281,
    "start_time": "2022-05-26T18:03:10.172Z"
   },
   {
    "duration": 6,
    "start_time": "2022-05-26T18:03:10.455Z"
   },
   {
    "duration": 505781,
    "start_time": "2022-05-26T18:03:10.462Z"
   },
   {
    "duration": 1593,
    "start_time": "2022-05-26T18:11:36.245Z"
   },
   {
    "duration": 222,
    "start_time": "2022-05-26T18:11:37.840Z"
   },
   {
    "duration": 0,
    "start_time": "2022-05-26T18:11:38.064Z"
   },
   {
    "duration": 0,
    "start_time": "2022-05-26T18:11:38.066Z"
   },
   {
    "duration": 0,
    "start_time": "2022-05-26T18:11:38.067Z"
   },
   {
    "duration": 0,
    "start_time": "2022-05-26T18:11:38.068Z"
   },
   {
    "duration": 0,
    "start_time": "2022-05-26T18:11:38.070Z"
   },
   {
    "duration": 0,
    "start_time": "2022-05-26T18:11:38.071Z"
   },
   {
    "duration": 0,
    "start_time": "2022-05-26T18:11:38.072Z"
   },
   {
    "duration": 0,
    "start_time": "2022-05-26T18:11:38.073Z"
   },
   {
    "duration": 0,
    "start_time": "2022-05-26T18:11:38.074Z"
   },
   {
    "duration": 0,
    "start_time": "2022-05-26T18:11:38.075Z"
   },
   {
    "duration": 0,
    "start_time": "2022-05-26T18:11:38.076Z"
   },
   {
    "duration": 0,
    "start_time": "2022-05-26T18:11:38.077Z"
   },
   {
    "duration": 0,
    "start_time": "2022-05-26T18:11:38.078Z"
   },
   {
    "duration": 127,
    "start_time": "2022-05-26T18:23:04.062Z"
   },
   {
    "duration": 4,
    "start_time": "2022-05-26T18:23:04.191Z"
   },
   {
    "duration": 445912,
    "start_time": "2022-05-26T18:23:04.196Z"
   },
   {
    "duration": 6539,
    "start_time": "2022-05-26T18:30:30.110Z"
   },
   {
    "duration": 21,
    "start_time": "2022-05-26T18:30:36.651Z"
   },
   {
    "duration": 0,
    "start_time": "2022-05-26T18:30:36.675Z"
   },
   {
    "duration": 0,
    "start_time": "2022-05-26T18:30:36.677Z"
   },
   {
    "duration": 0,
    "start_time": "2022-05-26T18:30:36.678Z"
   },
   {
    "duration": 0,
    "start_time": "2022-05-26T18:30:36.680Z"
   },
   {
    "duration": 0,
    "start_time": "2022-05-26T18:30:36.682Z"
   },
   {
    "duration": 0,
    "start_time": "2022-05-26T18:30:36.683Z"
   },
   {
    "duration": 0,
    "start_time": "2022-05-26T18:30:36.685Z"
   },
   {
    "duration": 0,
    "start_time": "2022-05-26T18:30:36.687Z"
   },
   {
    "duration": 29,
    "start_time": "2022-05-26T18:31:06.351Z"
   },
   {
    "duration": 37,
    "start_time": "2022-05-26T18:31:15.191Z"
   },
   {
    "duration": 28,
    "start_time": "2022-05-26T18:31:52.179Z"
   },
   {
    "duration": 6921,
    "start_time": "2022-05-26T18:32:06.086Z"
   },
   {
    "duration": 19,
    "start_time": "2022-05-26T18:32:13.009Z"
   },
   {
    "duration": 6997,
    "start_time": "2022-05-26T18:32:31.088Z"
   },
   {
    "duration": 3,
    "start_time": "2022-05-26T18:32:40.107Z"
   },
   {
    "duration": 7234,
    "start_time": "2022-05-26T18:32:50.105Z"
   },
   {
    "duration": 15,
    "start_time": "2022-05-26T18:35:03.271Z"
   },
   {
    "duration": 16,
    "start_time": "2022-05-26T18:35:13.225Z"
   },
   {
    "duration": 1175,
    "start_time": "2022-05-26T18:37:19.479Z"
   },
   {
    "duration": 15,
    "start_time": "2022-05-26T18:38:03.212Z"
   },
   {
    "duration": 31,
    "start_time": "2022-05-26T18:39:36.716Z"
   },
   {
    "duration": 5,
    "start_time": "2022-05-26T18:41:17.469Z"
   },
   {
    "duration": 1929,
    "start_time": "2022-05-26T18:52:42.498Z"
   },
   {
    "duration": 1254,
    "start_time": "2022-05-26T18:52:44.429Z"
   },
   {
    "duration": 29,
    "start_time": "2022-05-26T18:52:45.684Z"
   },
   {
    "duration": 120,
    "start_time": "2022-05-26T18:52:45.715Z"
   },
   {
    "duration": 109,
    "start_time": "2022-05-26T18:52:45.837Z"
   },
   {
    "duration": 482,
    "start_time": "2022-05-26T18:52:45.951Z"
   },
   {
    "duration": 112,
    "start_time": "2022-05-26T18:52:46.434Z"
   },
   {
    "duration": 33,
    "start_time": "2022-05-26T18:52:46.548Z"
   },
   {
    "duration": 984,
    "start_time": "2022-05-26T18:52:46.583Z"
   },
   {
    "duration": 5,
    "start_time": "2022-05-26T18:52:47.569Z"
   },
   {
    "duration": 6,
    "start_time": "2022-05-26T18:52:47.575Z"
   },
   {
    "duration": 61,
    "start_time": "2022-05-26T18:52:47.582Z"
   },
   {
    "duration": 14,
    "start_time": "2022-05-26T18:52:47.658Z"
   },
   {
    "duration": 66,
    "start_time": "2022-05-26T18:52:47.674Z"
   },
   {
    "duration": 79,
    "start_time": "2022-05-26T18:52:47.741Z"
   },
   {
    "duration": 17,
    "start_time": "2022-05-26T18:52:47.821Z"
   },
   {
    "duration": 110,
    "start_time": "2022-05-26T18:52:47.840Z"
   },
   {
    "duration": 12,
    "start_time": "2022-05-26T18:52:47.954Z"
   },
   {
    "duration": 8,
    "start_time": "2022-05-26T18:52:47.967Z"
   },
   {
    "duration": 144,
    "start_time": "2022-05-26T18:52:47.976Z"
   },
   {
    "duration": 22,
    "start_time": "2022-05-26T18:52:48.122Z"
   },
   {
    "duration": 25,
    "start_time": "2022-05-26T18:52:48.164Z"
   },
   {
    "duration": 137,
    "start_time": "2022-05-26T18:52:48.191Z"
   },
   {
    "duration": 24,
    "start_time": "2022-05-26T18:52:48.329Z"
   },
   {
    "duration": 11,
    "start_time": "2022-05-26T18:52:48.357Z"
   },
   {
    "duration": 94,
    "start_time": "2022-05-26T18:52:48.372Z"
   },
   {
    "duration": 97,
    "start_time": "2022-05-26T18:52:48.468Z"
   },
   {
    "duration": 14,
    "start_time": "2022-05-26T18:52:48.569Z"
   },
   {
    "duration": 9,
    "start_time": "2022-05-26T18:52:48.585Z"
   },
   {
    "duration": 32,
    "start_time": "2022-05-26T18:52:48.596Z"
   },
   {
    "duration": 288,
    "start_time": "2022-05-26T18:52:48.630Z"
   },
   {
    "duration": 476,
    "start_time": "2022-05-26T18:52:48.920Z"
   },
   {
    "duration": 588,
    "start_time": "2022-05-26T18:52:49.398Z"
   },
   {
    "duration": 109,
    "start_time": "2022-05-26T18:52:49.988Z"
   },
   {
    "duration": 92,
    "start_time": "2022-05-26T18:52:50.098Z"
   },
   {
    "duration": 1208,
    "start_time": "2022-05-26T18:52:50.191Z"
   },
   {
    "duration": 432,
    "start_time": "2022-05-26T18:52:51.400Z"
   },
   {
    "duration": 104,
    "start_time": "2022-05-26T18:52:51.834Z"
   },
   {
    "duration": 891,
    "start_time": "2022-05-26T18:52:51.940Z"
   },
   {
    "duration": 37,
    "start_time": "2022-05-26T18:52:52.833Z"
   },
   {
    "duration": 10,
    "start_time": "2022-05-26T18:52:52.872Z"
   },
   {
    "duration": 273,
    "start_time": "2022-05-26T18:52:52.883Z"
   },
   {
    "duration": 44,
    "start_time": "2022-05-26T18:52:53.165Z"
   },
   {
    "duration": 2,
    "start_time": "2022-05-26T18:52:53.211Z"
   },
   {
    "duration": 36755,
    "start_time": "2022-05-26T18:52:53.215Z"
   },
   {
    "duration": 192,
    "start_time": "2022-05-26T18:53:29.972Z"
   },
   {
    "duration": 90,
    "start_time": "2022-05-26T18:53:30.167Z"
   },
   {
    "duration": 99,
    "start_time": "2022-05-26T18:53:30.259Z"
   },
   {
    "duration": 23,
    "start_time": "2022-05-26T18:53:30.360Z"
   },
   {
    "duration": 4,
    "start_time": "2022-05-26T18:53:30.569Z"
   },
   {
    "duration": 1302,
    "start_time": "2022-05-26T18:54:06.393Z"
   },
   {
    "duration": 844,
    "start_time": "2022-05-26T18:54:07.697Z"
   },
   {
    "duration": 37,
    "start_time": "2022-05-26T18:54:08.543Z"
   },
   {
    "duration": 119,
    "start_time": "2022-05-26T18:54:08.582Z"
   },
   {
    "duration": 109,
    "start_time": "2022-05-26T18:54:08.702Z"
   },
   {
    "duration": 460,
    "start_time": "2022-05-26T18:54:08.813Z"
   },
   {
    "duration": 109,
    "start_time": "2022-05-26T18:54:09.275Z"
   },
   {
    "duration": 23,
    "start_time": "2022-05-26T18:54:09.385Z"
   },
   {
    "duration": 1005,
    "start_time": "2022-05-26T18:54:09.410Z"
   },
   {
    "duration": 5,
    "start_time": "2022-05-26T18:54:10.417Z"
   },
   {
    "duration": 5,
    "start_time": "2022-05-26T18:54:10.423Z"
   },
   {
    "duration": 73,
    "start_time": "2022-05-26T18:54:10.429Z"
   },
   {
    "duration": 11,
    "start_time": "2022-05-26T18:54:10.503Z"
   },
   {
    "duration": 77,
    "start_time": "2022-05-26T18:54:10.515Z"
   },
   {
    "duration": 78,
    "start_time": "2022-05-26T18:54:10.594Z"
   },
   {
    "duration": 29,
    "start_time": "2022-05-26T18:54:10.674Z"
   },
   {
    "duration": 101,
    "start_time": "2022-05-26T18:54:10.705Z"
   },
   {
    "duration": 7,
    "start_time": "2022-05-26T18:54:10.808Z"
   },
   {
    "duration": 7,
    "start_time": "2022-05-26T18:54:10.817Z"
   },
   {
    "duration": 153,
    "start_time": "2022-05-26T18:54:10.826Z"
   },
   {
    "duration": 21,
    "start_time": "2022-05-26T18:54:10.981Z"
   },
   {
    "duration": 24,
    "start_time": "2022-05-26T18:54:11.004Z"
   },
   {
    "duration": 160,
    "start_time": "2022-05-26T18:54:11.030Z"
   },
   {
    "duration": 14,
    "start_time": "2022-05-26T18:54:11.192Z"
   },
   {
    "duration": 11,
    "start_time": "2022-05-26T18:54:11.208Z"
   },
   {
    "duration": 116,
    "start_time": "2022-05-26T18:54:11.220Z"
   },
   {
    "duration": 90,
    "start_time": "2022-05-26T18:54:11.338Z"
   },
   {
    "duration": 27,
    "start_time": "2022-05-26T18:54:11.432Z"
   },
   {
    "duration": 9,
    "start_time": "2022-05-26T18:54:11.460Z"
   },
   {
    "duration": 30,
    "start_time": "2022-05-26T18:54:11.470Z"
   },
   {
    "duration": 274,
    "start_time": "2022-05-26T18:54:11.502Z"
   },
   {
    "duration": 258,
    "start_time": "2022-05-26T18:54:11.778Z"
   },
   {
    "duration": 263,
    "start_time": "2022-05-26T18:54:12.038Z"
   },
   {
    "duration": 64,
    "start_time": "2022-05-26T18:54:12.303Z"
   },
   {
    "duration": 19,
    "start_time": "2022-05-26T18:54:12.369Z"
   },
   {
    "duration": 812,
    "start_time": "2022-05-26T18:54:12.389Z"
   },
   {
    "duration": 432,
    "start_time": "2022-05-26T18:54:13.203Z"
   },
   {
    "duration": 102,
    "start_time": "2022-05-26T18:54:13.637Z"
   },
   {
    "duration": 865,
    "start_time": "2022-05-26T18:54:13.740Z"
   },
   {
    "duration": 28,
    "start_time": "2022-05-26T18:54:14.607Z"
   },
   {
    "duration": 25,
    "start_time": "2022-05-26T18:54:14.637Z"
   },
   {
    "duration": 256,
    "start_time": "2022-05-26T18:54:14.665Z"
   },
   {
    "duration": 57,
    "start_time": "2022-05-26T18:54:14.923Z"
   },
   {
    "duration": 3,
    "start_time": "2022-05-26T18:54:14.981Z"
   },
   {
    "duration": 40977,
    "start_time": "2022-05-26T18:54:14.985Z"
   },
   {
    "duration": 195,
    "start_time": "2022-05-26T18:54:55.964Z"
   },
   {
    "duration": 5,
    "start_time": "2022-05-26T18:54:56.161Z"
   },
   {
    "duration": 99,
    "start_time": "2022-05-26T18:54:56.168Z"
   },
   {
    "duration": 5,
    "start_time": "2022-05-26T18:54:56.269Z"
   },
   {
    "duration": 164,
    "start_time": "2022-05-26T18:54:56.275Z"
   },
   {
    "duration": 4,
    "start_time": "2022-05-26T18:54:56.440Z"
   },
   {
    "duration": 1415,
    "start_time": "2022-05-26T19:05:10.711Z"
   },
   {
    "duration": 915,
    "start_time": "2022-05-26T19:05:12.129Z"
   },
   {
    "duration": 44,
    "start_time": "2022-05-26T19:05:13.046Z"
   },
   {
    "duration": 175,
    "start_time": "2022-05-26T19:05:13.093Z"
   },
   {
    "duration": 112,
    "start_time": "2022-05-26T19:05:13.270Z"
   },
   {
    "duration": 502,
    "start_time": "2022-05-26T19:05:13.384Z"
   },
   {
    "duration": 115,
    "start_time": "2022-05-26T19:05:13.889Z"
   },
   {
    "duration": 23,
    "start_time": "2022-05-26T19:05:14.005Z"
   },
   {
    "duration": 1018,
    "start_time": "2022-05-26T19:05:14.029Z"
   },
   {
    "duration": 18,
    "start_time": "2022-05-26T19:05:15.049Z"
   },
   {
    "duration": 26,
    "start_time": "2022-05-26T19:05:15.071Z"
   },
   {
    "duration": 69,
    "start_time": "2022-05-26T19:05:15.099Z"
   },
   {
    "duration": 13,
    "start_time": "2022-05-26T19:05:15.170Z"
   },
   {
    "duration": 76,
    "start_time": "2022-05-26T19:05:15.190Z"
   },
   {
    "duration": 109,
    "start_time": "2022-05-26T19:05:15.268Z"
   },
   {
    "duration": 63,
    "start_time": "2022-05-26T19:05:15.379Z"
   },
   {
    "duration": 164,
    "start_time": "2022-05-26T19:05:15.445Z"
   },
   {
    "duration": 7,
    "start_time": "2022-05-26T19:05:15.611Z"
   },
   {
    "duration": 12,
    "start_time": "2022-05-26T19:05:15.620Z"
   },
   {
    "duration": 155,
    "start_time": "2022-05-26T19:05:15.633Z"
   },
   {
    "duration": 19,
    "start_time": "2022-05-26T19:05:15.789Z"
   },
   {
    "duration": 23,
    "start_time": "2022-05-26T19:05:15.809Z"
   },
   {
    "duration": 157,
    "start_time": "2022-05-26T19:05:15.835Z"
   },
   {
    "duration": 12,
    "start_time": "2022-05-26T19:05:15.994Z"
   },
   {
    "duration": 19,
    "start_time": "2022-05-26T19:05:16.008Z"
   },
   {
    "duration": 108,
    "start_time": "2022-05-26T19:05:16.029Z"
   },
   {
    "duration": 100,
    "start_time": "2022-05-26T19:05:16.139Z"
   },
   {
    "duration": 30,
    "start_time": "2022-05-26T19:05:16.241Z"
   },
   {
    "duration": 16,
    "start_time": "2022-05-26T19:05:16.276Z"
   },
   {
    "duration": 52,
    "start_time": "2022-05-26T19:05:16.293Z"
   },
   {
    "duration": 267,
    "start_time": "2022-05-26T19:05:16.347Z"
   },
   {
    "duration": 270,
    "start_time": "2022-05-26T19:05:16.615Z"
   },
   {
    "duration": 304,
    "start_time": "2022-05-26T19:05:16.887Z"
   },
   {
    "duration": 70,
    "start_time": "2022-05-26T19:05:17.194Z"
   },
   {
    "duration": 26,
    "start_time": "2022-05-26T19:05:17.266Z"
   },
   {
    "duration": 907,
    "start_time": "2022-05-26T19:05:17.294Z"
   },
   {
    "duration": 506,
    "start_time": "2022-05-26T19:05:18.203Z"
   },
   {
    "duration": 126,
    "start_time": "2022-05-26T19:05:18.711Z"
   },
   {
    "duration": 937,
    "start_time": "2022-05-26T19:05:18.839Z"
   },
   {
    "duration": 28,
    "start_time": "2022-05-26T19:05:19.777Z"
   },
   {
    "duration": 8,
    "start_time": "2022-05-26T19:05:19.809Z"
   },
   {
    "duration": 307,
    "start_time": "2022-05-26T19:05:19.819Z"
   },
   {
    "duration": 60,
    "start_time": "2022-05-26T19:05:20.128Z"
   },
   {
    "duration": 4,
    "start_time": "2022-05-26T19:05:20.190Z"
   },
   {
    "duration": 69157,
    "start_time": "2022-05-26T19:05:20.196Z"
   },
   {
    "duration": 214,
    "start_time": "2022-05-26T19:06:29.355Z"
   },
   {
    "duration": 88,
    "start_time": "2022-05-26T19:06:29.570Z"
   },
   {
    "duration": 3,
    "start_time": "2022-05-26T19:06:29.664Z"
   },
   {
    "duration": 7,
    "start_time": "2022-05-26T19:06:29.668Z"
   },
   {
    "duration": 161,
    "start_time": "2022-05-26T19:06:29.676Z"
   },
   {
    "duration": 3,
    "start_time": "2022-05-26T19:06:29.839Z"
   },
   {
    "duration": 697971,
    "start_time": "2022-05-26T19:06:29.844Z"
   },
   {
    "duration": 247,
    "start_time": "2022-05-26T19:18:07.817Z"
   },
   {
    "duration": 3,
    "start_time": "2022-05-26T19:18:08.066Z"
   },
   {
    "duration": 151,
    "start_time": "2022-05-26T19:18:08.071Z"
   },
   {
    "duration": 17,
    "start_time": "2022-05-26T19:18:08.224Z"
   },
   {
    "duration": 0,
    "start_time": "2022-05-26T19:18:08.243Z"
   },
   {
    "duration": 0,
    "start_time": "2022-05-26T19:18:08.244Z"
   },
   {
    "duration": 0,
    "start_time": "2022-05-26T19:18:08.246Z"
   },
   {
    "duration": 0,
    "start_time": "2022-05-26T19:18:08.252Z"
   },
   {
    "duration": 0,
    "start_time": "2022-05-26T19:18:08.253Z"
   },
   {
    "duration": 0,
    "start_time": "2022-05-26T19:18:08.254Z"
   },
   {
    "duration": 0,
    "start_time": "2022-05-26T19:18:08.255Z"
   },
   {
    "duration": 0,
    "start_time": "2022-05-26T19:18:08.258Z"
   },
   {
    "duration": 0,
    "start_time": "2022-05-26T19:18:08.259Z"
   },
   {
    "duration": 5178,
    "start_time": "2022-05-26T19:18:33.068Z"
   },
   {
    "duration": 46,
    "start_time": "2022-05-26T19:20:44.678Z"
   },
   {
    "duration": 7458,
    "start_time": "2022-05-26T19:20:55.487Z"
   },
   {
    "duration": 7,
    "start_time": "2022-05-26T19:25:04.259Z"
   },
   {
    "duration": 1109505,
    "start_time": "2022-05-26T19:25:04.268Z"
   },
   {
    "duration": 2110,
    "start_time": "2022-05-26T19:43:33.776Z"
   },
   {
    "duration": 3,
    "start_time": "2022-05-26T19:43:35.887Z"
   },
   {
    "duration": 110,
    "start_time": "2022-05-26T19:43:35.893Z"
   },
   {
    "duration": 16,
    "start_time": "2022-05-26T19:43:36.005Z"
   },
   {
    "duration": 0,
    "start_time": "2022-05-26T19:43:36.023Z"
   },
   {
    "duration": 0,
    "start_time": "2022-05-26T19:43:36.024Z"
   },
   {
    "duration": 0,
    "start_time": "2022-05-26T19:43:36.026Z"
   },
   {
    "duration": 2,
    "start_time": "2022-05-26T19:46:23.665Z"
   },
   {
    "duration": 508,
    "start_time": "2022-05-26T19:46:32.178Z"
   },
   {
    "duration": 505,
    "start_time": "2022-05-26T19:47:01.575Z"
   },
   {
    "duration": 524,
    "start_time": "2022-05-26T19:47:44.945Z"
   },
   {
    "duration": 20,
    "start_time": "2022-05-26T19:47:57.646Z"
   },
   {
    "duration": 26,
    "start_time": "2022-05-26T19:51:05.963Z"
   },
   {
    "duration": 20,
    "start_time": "2022-05-26T19:51:05.991Z"
   },
   {
    "duration": 0,
    "start_time": "2022-05-26T19:51:06.012Z"
   },
   {
    "duration": 13,
    "start_time": "2022-05-26T19:51:29.152Z"
   },
   {
    "duration": 15,
    "start_time": "2022-05-26T19:57:52.891Z"
   },
   {
    "duration": 16,
    "start_time": "2022-05-26T19:58:18.274Z"
   },
   {
    "duration": 0,
    "start_time": "2022-05-26T19:58:18.292Z"
   },
   {
    "duration": 17,
    "start_time": "2022-05-26T19:58:57.726Z"
   },
   {
    "duration": 15,
    "start_time": "2022-05-26T19:59:05.705Z"
   },
   {
    "duration": 11,
    "start_time": "2022-05-26T19:59:11.119Z"
   },
   {
    "duration": 11,
    "start_time": "2022-05-26T19:59:38.129Z"
   },
   {
    "duration": 16951,
    "start_time": "2022-05-26T20:01:53.356Z"
   },
   {
    "duration": 16671,
    "start_time": "2022-05-26T20:04:41.092Z"
   },
   {
    "duration": 1926,
    "start_time": "2022-05-26T20:17:47.246Z"
   },
   {
    "duration": 864,
    "start_time": "2022-05-26T20:17:49.174Z"
   },
   {
    "duration": 32,
    "start_time": "2022-05-26T20:17:50.040Z"
   },
   {
    "duration": 157,
    "start_time": "2022-05-26T20:17:50.074Z"
   },
   {
    "duration": 108,
    "start_time": "2022-05-26T20:17:50.233Z"
   },
   {
    "duration": 478,
    "start_time": "2022-05-26T20:17:50.356Z"
   },
   {
    "duration": 133,
    "start_time": "2022-05-26T20:17:50.836Z"
   },
   {
    "duration": 22,
    "start_time": "2022-05-26T20:17:50.971Z"
   },
   {
    "duration": 1010,
    "start_time": "2022-05-26T20:17:50.995Z"
   },
   {
    "duration": 2,
    "start_time": "2022-05-26T20:17:52.008Z"
   },
   {
    "duration": 71,
    "start_time": "2022-05-26T20:17:52.012Z"
   },
   {
    "duration": 12,
    "start_time": "2022-05-26T20:17:52.085Z"
   },
   {
    "duration": 91,
    "start_time": "2022-05-26T20:17:52.099Z"
   },
   {
    "duration": 75,
    "start_time": "2022-05-26T20:17:52.192Z"
   },
   {
    "duration": 24,
    "start_time": "2022-05-26T20:17:52.271Z"
   },
   {
    "duration": 106,
    "start_time": "2022-05-26T20:17:52.297Z"
   },
   {
    "duration": 7,
    "start_time": "2022-05-26T20:17:52.405Z"
   },
   {
    "duration": 8,
    "start_time": "2022-05-26T20:17:52.413Z"
   },
   {
    "duration": 154,
    "start_time": "2022-05-26T20:17:52.423Z"
   },
   {
    "duration": 21,
    "start_time": "2022-05-26T20:17:52.579Z"
   },
   {
    "duration": 28,
    "start_time": "2022-05-26T20:17:52.602Z"
   },
   {
    "duration": 148,
    "start_time": "2022-05-26T20:17:52.652Z"
   },
   {
    "duration": 14,
    "start_time": "2022-05-26T20:17:52.801Z"
   },
   {
    "duration": 10,
    "start_time": "2022-05-26T20:17:52.816Z"
   },
   {
    "duration": 107,
    "start_time": "2022-05-26T20:17:52.828Z"
   },
   {
    "duration": 102,
    "start_time": "2022-05-26T20:17:52.939Z"
   },
   {
    "duration": 26,
    "start_time": "2022-05-26T20:17:53.043Z"
   },
   {
    "duration": 5,
    "start_time": "2022-05-26T20:17:53.074Z"
   },
   {
    "duration": 33,
    "start_time": "2022-05-26T20:17:53.081Z"
   },
   {
    "duration": 268,
    "start_time": "2022-05-26T20:17:53.116Z"
   },
   {
    "duration": 257,
    "start_time": "2022-05-26T20:17:53.385Z"
   },
   {
    "duration": 252,
    "start_time": "2022-05-26T20:17:53.644Z"
   },
   {
    "duration": 70,
    "start_time": "2022-05-26T20:17:53.898Z"
   },
   {
    "duration": 17,
    "start_time": "2022-05-26T20:17:53.970Z"
   },
   {
    "duration": 760,
    "start_time": "2022-05-26T20:17:53.988Z"
   },
   {
    "duration": 428,
    "start_time": "2022-05-26T20:17:54.749Z"
   },
   {
    "duration": 126,
    "start_time": "2022-05-26T20:17:55.178Z"
   },
   {
    "duration": 902,
    "start_time": "2022-05-26T20:17:55.306Z"
   },
   {
    "duration": 27,
    "start_time": "2022-05-26T20:17:56.210Z"
   },
   {
    "duration": 27,
    "start_time": "2022-05-26T20:17:56.239Z"
   },
   {
    "duration": 261,
    "start_time": "2022-05-26T20:17:56.268Z"
   },
   {
    "duration": 54,
    "start_time": "2022-05-26T20:17:56.531Z"
   },
   {
    "duration": 3,
    "start_time": "2022-05-26T20:17:56.586Z"
   },
   {
    "duration": 43179,
    "start_time": "2022-05-26T20:17:56.590Z"
   },
   {
    "duration": 282,
    "start_time": "2022-05-26T20:18:39.771Z"
   },
   {
    "duration": 3,
    "start_time": "2022-05-26T20:18:40.059Z"
   },
   {
    "duration": 722124,
    "start_time": "2022-05-26T20:18:40.064Z"
   },
   {
    "duration": 33,
    "start_time": "2022-05-26T20:30:42.189Z"
   },
   {
    "duration": 0,
    "start_time": "2022-05-26T20:30:42.224Z"
   },
   {
    "duration": 0,
    "start_time": "2022-05-26T20:30:42.225Z"
   },
   {
    "duration": 0,
    "start_time": "2022-05-26T20:30:42.226Z"
   },
   {
    "duration": 0,
    "start_time": "2022-05-26T20:30:42.228Z"
   },
   {
    "duration": 0,
    "start_time": "2022-05-26T20:30:42.228Z"
   },
   {
    "duration": 0,
    "start_time": "2022-05-26T20:30:42.230Z"
   },
   {
    "duration": 0,
    "start_time": "2022-05-26T20:30:42.231Z"
   },
   {
    "duration": 0,
    "start_time": "2022-05-26T20:30:42.233Z"
   },
   {
    "duration": 1,
    "start_time": "2022-05-26T20:30:42.233Z"
   },
   {
    "duration": 1,
    "start_time": "2022-05-26T20:30:42.234Z"
   },
   {
    "duration": 0,
    "start_time": "2022-05-26T20:30:42.235Z"
   },
   {
    "duration": 0,
    "start_time": "2022-05-26T20:30:42.236Z"
   },
   {
    "duration": 0,
    "start_time": "2022-05-26T20:30:42.237Z"
   },
   {
    "duration": 0,
    "start_time": "2022-05-26T20:30:42.238Z"
   },
   {
    "duration": 0,
    "start_time": "2022-05-26T20:30:42.239Z"
   },
   {
    "duration": 0,
    "start_time": "2022-05-26T20:30:42.240Z"
   },
   {
    "duration": 0,
    "start_time": "2022-05-26T20:30:42.241Z"
   },
   {
    "duration": 0,
    "start_time": "2022-05-26T20:30:42.242Z"
   },
   {
    "duration": 1465,
    "start_time": "2022-05-26T20:46:09.951Z"
   },
   {
    "duration": 13400,
    "start_time": "2022-05-27T10:55:14.027Z"
   },
   {
    "duration": 26098,
    "start_time": "2022-05-27T10:55:27.432Z"
   },
   {
    "duration": 506,
    "start_time": "2022-05-27T10:55:53.532Z"
   },
   {
    "duration": 1498,
    "start_time": "2022-05-27T10:55:54.135Z"
   },
   {
    "duration": 1100,
    "start_time": "2022-05-27T10:55:55.638Z"
   },
   {
    "duration": 6310,
    "start_time": "2022-05-27T10:55:56.828Z"
   },
   {
    "duration": 1587,
    "start_time": "2022-05-27T10:56:03.141Z"
   },
   {
    "duration": 696,
    "start_time": "2022-05-27T10:56:04.736Z"
   },
   {
    "duration": 11699,
    "start_time": "2022-05-27T10:56:05.434Z"
   },
   {
    "duration": 90,
    "start_time": "2022-05-27T10:56:17.136Z"
   },
   {
    "duration": 1002,
    "start_time": "2022-05-27T10:56:17.327Z"
   },
   {
    "duration": 298,
    "start_time": "2022-05-27T10:56:18.332Z"
   },
   {
    "duration": 1610,
    "start_time": "2022-05-27T10:56:18.632Z"
   },
   {
    "duration": 907,
    "start_time": "2022-05-27T10:56:20.329Z"
   },
   {
    "duration": 192,
    "start_time": "2022-05-27T10:56:21.238Z"
   },
   {
    "duration": 904,
    "start_time": "2022-05-27T10:56:21.433Z"
   },
   {
    "duration": 92,
    "start_time": "2022-05-27T10:56:22.340Z"
   },
   {
    "duration": 199,
    "start_time": "2022-05-27T10:56:22.435Z"
   },
   {
    "duration": 2304,
    "start_time": "2022-05-27T10:56:22.636Z"
   },
   {
    "duration": 293,
    "start_time": "2022-05-27T10:56:24.942Z"
   },
   {
    "duration": 216,
    "start_time": "2022-05-27T10:56:25.329Z"
   },
   {
    "duration": 1390,
    "start_time": "2022-05-27T10:56:25.550Z"
   },
   {
    "duration": 101,
    "start_time": "2022-05-27T10:56:27.026Z"
   },
   {
    "duration": 390,
    "start_time": "2022-05-27T10:56:27.137Z"
   },
   {
    "duration": 1603,
    "start_time": "2022-05-27T10:56:27.535Z"
   },
   {
    "duration": 1384,
    "start_time": "2022-05-27T10:56:29.145Z"
   },
   {
    "duration": 295,
    "start_time": "2022-05-27T10:56:30.531Z"
   },
   {
    "duration": 600,
    "start_time": "2022-05-27T10:56:30.829Z"
   },
   {
    "duration": 826,
    "start_time": "2022-05-27T10:56:31.431Z"
   },
   {
    "duration": 2506,
    "start_time": "2022-05-27T10:56:32.328Z"
   },
   {
    "duration": 2595,
    "start_time": "2022-05-27T10:56:34.837Z"
   },
   {
    "duration": 2402,
    "start_time": "2022-05-27T10:56:37.435Z"
   },
   {
    "duration": 800,
    "start_time": "2022-05-27T10:56:39.928Z"
   },
   {
    "duration": 295,
    "start_time": "2022-05-27T10:56:40.731Z"
   },
   {
    "duration": 9400,
    "start_time": "2022-05-27T10:56:41.029Z"
   },
   {
    "duration": 4201,
    "start_time": "2022-05-27T10:56:50.431Z"
   },
   {
    "duration": 1192,
    "start_time": "2022-05-27T10:56:54.635Z"
   },
   {
    "duration": 7699,
    "start_time": "2022-05-27T10:56:55.830Z"
   },
   {
    "duration": 296,
    "start_time": "2022-05-27T10:57:03.534Z"
   },
   {
    "duration": 201,
    "start_time": "2022-05-27T10:57:03.833Z"
   },
   {
    "duration": 2491,
    "start_time": "2022-05-27T10:57:04.039Z"
   },
   {
    "duration": 495,
    "start_time": "2022-05-27T10:57:06.533Z"
   },
   {
    "duration": 3,
    "start_time": "2022-05-27T10:57:07.031Z"
   },
   {
    "duration": 1733,
    "start_time": "2022-05-28T09:43:01.942Z"
   },
   {
    "duration": 1073,
    "start_time": "2022-05-28T09:43:03.678Z"
   },
   {
    "duration": 29,
    "start_time": "2022-05-28T09:43:04.752Z"
   },
   {
    "duration": 126,
    "start_time": "2022-05-28T09:43:04.783Z"
   },
   {
    "duration": 104,
    "start_time": "2022-05-28T09:43:04.911Z"
   },
   {
    "duration": 464,
    "start_time": "2022-05-28T09:43:05.016Z"
   },
   {
    "duration": 120,
    "start_time": "2022-05-28T09:43:05.481Z"
   },
   {
    "duration": 33,
    "start_time": "2022-05-28T09:43:05.603Z"
   },
   {
    "duration": 953,
    "start_time": "2022-05-28T09:43:05.638Z"
   },
   {
    "duration": 2,
    "start_time": "2022-05-28T09:43:06.594Z"
   },
   {
    "duration": 61,
    "start_time": "2022-05-28T09:43:06.599Z"
   },
   {
    "duration": 11,
    "start_time": "2022-05-28T09:43:06.662Z"
   },
   {
    "duration": 107,
    "start_time": "2022-05-28T09:43:06.675Z"
   },
   {
    "duration": 84,
    "start_time": "2022-05-28T09:43:06.786Z"
   },
   {
    "duration": 20,
    "start_time": "2022-05-28T09:43:06.871Z"
   },
   {
    "duration": 108,
    "start_time": "2022-05-28T09:43:06.892Z"
   },
   {
    "duration": 7,
    "start_time": "2022-05-28T09:43:07.002Z"
   },
   {
    "duration": 16,
    "start_time": "2022-05-28T09:43:07.010Z"
   },
   {
    "duration": 119,
    "start_time": "2022-05-28T09:43:07.032Z"
   },
   {
    "duration": 20,
    "start_time": "2022-05-28T09:43:07.153Z"
   },
   {
    "duration": 24,
    "start_time": "2022-05-28T09:43:07.174Z"
   },
   {
    "duration": 147,
    "start_time": "2022-05-28T09:43:07.200Z"
   },
   {
    "duration": 13,
    "start_time": "2022-05-28T09:43:07.349Z"
   },
   {
    "duration": 9,
    "start_time": "2022-05-28T09:43:07.364Z"
   },
   {
    "duration": 133,
    "start_time": "2022-05-28T09:43:07.375Z"
   },
   {
    "duration": 94,
    "start_time": "2022-05-28T09:43:07.509Z"
   },
   {
    "duration": 20,
    "start_time": "2022-05-28T09:43:07.605Z"
   },
   {
    "duration": 7,
    "start_time": "2022-05-28T09:43:07.627Z"
   },
   {
    "duration": 38,
    "start_time": "2022-05-28T09:43:07.635Z"
   },
   {
    "duration": 287,
    "start_time": "2022-05-28T09:43:07.675Z"
   },
   {
    "duration": 262,
    "start_time": "2022-05-28T09:43:07.968Z"
   },
   {
    "duration": 268,
    "start_time": "2022-05-28T09:43:08.232Z"
   },
   {
    "duration": 69,
    "start_time": "2022-05-28T09:43:08.501Z"
   },
   {
    "duration": 19,
    "start_time": "2022-05-28T09:43:08.571Z"
   },
   {
    "duration": 1181,
    "start_time": "2022-05-28T09:43:08.591Z"
   },
   {
    "duration": 517,
    "start_time": "2022-05-28T09:43:09.774Z"
   },
   {
    "duration": 107,
    "start_time": "2022-05-28T09:43:10.293Z"
   },
   {
    "duration": 815,
    "start_time": "2022-05-28T09:43:10.402Z"
   },
   {
    "duration": 28,
    "start_time": "2022-05-28T09:43:11.219Z"
   },
   {
    "duration": 12,
    "start_time": "2022-05-28T09:43:11.249Z"
   },
   {
    "duration": 264,
    "start_time": "2022-05-28T09:43:11.265Z"
   },
   {
    "duration": 47,
    "start_time": "2022-05-28T09:43:11.531Z"
   },
   {
    "duration": 3,
    "start_time": "2022-05-28T09:43:11.580Z"
   },
   {
    "duration": 30272,
    "start_time": "2022-05-28T09:43:11.584Z"
   },
   {
    "duration": 269,
    "start_time": "2022-05-28T09:43:41.859Z"
   },
   {
    "duration": 91,
    "start_time": "2022-05-28T09:43:42.131Z"
   },
   {
    "duration": 750945,
    "start_time": "2022-05-28T09:43:42.224Z"
   },
   {
    "duration": 1461,
    "start_time": "2022-05-28T09:56:13.171Z"
   },
   {
    "duration": 3,
    "start_time": "2022-05-28T09:56:14.634Z"
   },
   {
    "duration": 6,
    "start_time": "2022-05-28T09:56:14.639Z"
   },
   {
    "duration": 58,
    "start_time": "2022-05-28T09:56:14.647Z"
   },
   {
    "duration": 0,
    "start_time": "2022-05-28T09:56:14.707Z"
   },
   {
    "duration": 0,
    "start_time": "2022-05-28T09:56:14.710Z"
   },
   {
    "duration": 0,
    "start_time": "2022-05-28T09:56:14.711Z"
   },
   {
    "duration": 0,
    "start_time": "2022-05-28T09:56:14.712Z"
   },
   {
    "duration": 0,
    "start_time": "2022-05-28T09:56:14.714Z"
   },
   {
    "duration": 0,
    "start_time": "2022-05-28T09:56:14.715Z"
   },
   {
    "duration": 0,
    "start_time": "2022-05-28T09:56:14.717Z"
   },
   {
    "duration": 0,
    "start_time": "2022-05-28T09:56:14.718Z"
   },
   {
    "duration": 0,
    "start_time": "2022-05-28T09:56:14.724Z"
   },
   {
    "duration": 0,
    "start_time": "2022-05-28T09:56:14.726Z"
   },
   {
    "duration": 0,
    "start_time": "2022-05-28T09:56:14.727Z"
   },
   {
    "duration": 0,
    "start_time": "2022-05-28T09:56:14.729Z"
   },
   {
    "duration": 0,
    "start_time": "2022-05-28T09:56:14.733Z"
   },
   {
    "duration": 0,
    "start_time": "2022-05-28T09:56:14.735Z"
   },
   {
    "duration": 4,
    "start_time": "2022-05-28T09:58:33.593Z"
   },
   {
    "duration": 734305,
    "start_time": "2022-05-28T09:58:33.599Z"
   },
   {
    "duration": 244,
    "start_time": "2022-05-28T10:10:47.906Z"
   },
   {
    "duration": 46,
    "start_time": "2022-05-28T10:10:48.152Z"
   },
   {
    "duration": 0,
    "start_time": "2022-05-28T10:10:48.200Z"
   },
   {
    "duration": 0,
    "start_time": "2022-05-28T10:10:48.202Z"
   },
   {
    "duration": 0,
    "start_time": "2022-05-28T10:10:48.203Z"
   },
   {
    "duration": 0,
    "start_time": "2022-05-28T10:10:48.204Z"
   },
   {
    "duration": 0,
    "start_time": "2022-05-28T10:10:48.205Z"
   },
   {
    "duration": 0,
    "start_time": "2022-05-28T10:10:48.206Z"
   },
   {
    "duration": 0,
    "start_time": "2022-05-28T10:10:48.207Z"
   },
   {
    "duration": 0,
    "start_time": "2022-05-28T10:10:48.208Z"
   },
   {
    "duration": 0,
    "start_time": "2022-05-28T10:10:48.210Z"
   },
   {
    "duration": 0,
    "start_time": "2022-05-28T10:10:48.211Z"
   },
   {
    "duration": 0,
    "start_time": "2022-05-28T10:10:48.212Z"
   },
   {
    "duration": 206,
    "start_time": "2022-05-28T10:26:42.920Z"
   },
   {
    "duration": 62893,
    "start_time": "2022-05-28T10:26:43.128Z"
   },
   {
    "duration": 134,
    "start_time": "2022-05-28T10:27:46.023Z"
   },
   {
    "duration": 3,
    "start_time": "2022-05-28T10:27:46.159Z"
   },
   {
    "duration": 118964,
    "start_time": "2022-05-28T10:27:46.165Z"
   },
   {
    "duration": 2092,
    "start_time": "2022-05-28T10:29:45.131Z"
   },
   {
    "duration": 3,
    "start_time": "2022-05-28T10:29:47.225Z"
   },
   {
    "duration": 10,
    "start_time": "2022-05-28T10:29:47.230Z"
   },
   {
    "duration": 16,
    "start_time": "2022-05-28T10:29:47.242Z"
   },
   {
    "duration": 34,
    "start_time": "2022-05-28T10:29:47.261Z"
   },
   {
    "duration": 20,
    "start_time": "2022-05-28T10:29:47.297Z"
   },
   {
    "duration": 15938,
    "start_time": "2022-05-28T10:29:47.319Z"
   },
   {
    "duration": 15636,
    "start_time": "2022-05-28T10:30:03.259Z"
   },
   {
    "duration": 2319,
    "start_time": "2022-05-28T10:34:08.106Z"
   },
   {
    "duration": 317,
    "start_time": "2022-05-28T10:34:10.427Z"
   },
   {
    "duration": 28,
    "start_time": "2022-05-28T10:34:10.745Z"
   },
   {
    "duration": 7,
    "start_time": "2022-05-28T10:34:10.774Z"
   },
   {
    "duration": 11,
    "start_time": "2022-05-28T10:34:10.823Z"
   },
   {
    "duration": 16653,
    "start_time": "2022-05-28T10:34:10.835Z"
   },
   {
    "duration": 17257,
    "start_time": "2022-05-28T10:34:27.490Z"
   },
   {
    "duration": 125,
    "start_time": "2022-05-28T10:34:55.961Z"
   },
   {
    "duration": 10,
    "start_time": "2022-05-28T10:35:20.641Z"
   },
   {
    "duration": 256867,
    "start_time": "2022-05-28T10:35:23.161Z"
   },
   {
    "duration": 40,
    "start_time": "2022-05-28T10:39:40.030Z"
   },
   {
    "duration": 2573,
    "start_time": "2022-05-28T10:40:05.665Z"
   },
   {
    "duration": 1485,
    "start_time": "2022-05-28T10:46:49.092Z"
   },
   {
    "duration": 1113,
    "start_time": "2022-05-28T10:46:50.579Z"
   },
   {
    "duration": 28,
    "start_time": "2022-05-28T10:46:51.694Z"
   },
   {
    "duration": 136,
    "start_time": "2022-05-28T10:46:51.726Z"
   },
   {
    "duration": 125,
    "start_time": "2022-05-28T10:46:51.864Z"
   },
   {
    "duration": 544,
    "start_time": "2022-05-28T10:46:51.991Z"
   },
   {
    "duration": 158,
    "start_time": "2022-05-28T10:46:52.537Z"
   },
   {
    "duration": 45,
    "start_time": "2022-05-28T10:46:52.697Z"
   },
   {
    "duration": 1079,
    "start_time": "2022-05-28T10:46:52.744Z"
   },
   {
    "duration": 3,
    "start_time": "2022-05-28T10:46:53.826Z"
   },
   {
    "duration": 66,
    "start_time": "2022-05-28T10:46:53.830Z"
   },
   {
    "duration": 29,
    "start_time": "2022-05-28T10:46:53.897Z"
   },
   {
    "duration": 70,
    "start_time": "2022-05-28T10:46:53.927Z"
   },
   {
    "duration": 93,
    "start_time": "2022-05-28T10:46:53.999Z"
   },
   {
    "duration": 31,
    "start_time": "2022-05-28T10:46:54.094Z"
   },
   {
    "duration": 107,
    "start_time": "2022-05-28T10:46:54.127Z"
   },
   {
    "duration": 7,
    "start_time": "2022-05-28T10:46:54.236Z"
   },
   {
    "duration": 6,
    "start_time": "2022-05-28T10:46:54.245Z"
   },
   {
    "duration": 150,
    "start_time": "2022-05-28T10:46:54.253Z"
   },
   {
    "duration": 29,
    "start_time": "2022-05-28T10:46:54.405Z"
   },
   {
    "duration": 25,
    "start_time": "2022-05-28T10:46:54.436Z"
   },
   {
    "duration": 141,
    "start_time": "2022-05-28T10:46:54.463Z"
   },
   {
    "duration": 24,
    "start_time": "2022-05-28T10:46:54.606Z"
   },
   {
    "duration": 11,
    "start_time": "2022-05-28T10:46:54.632Z"
   },
   {
    "duration": 114,
    "start_time": "2022-05-28T10:46:54.644Z"
   },
   {
    "duration": 114,
    "start_time": "2022-05-28T10:46:54.760Z"
   },
   {
    "duration": 15,
    "start_time": "2022-05-28T10:46:54.876Z"
   },
   {
    "duration": 2,
    "start_time": "2022-05-28T10:46:54.896Z"
   },
   {
    "duration": 64,
    "start_time": "2022-05-28T10:46:54.900Z"
   },
   {
    "duration": 267,
    "start_time": "2022-05-28T10:46:54.966Z"
   },
   {
    "duration": 272,
    "start_time": "2022-05-28T10:46:55.235Z"
   },
   {
    "duration": 262,
    "start_time": "2022-05-28T10:46:55.509Z"
   },
   {
    "duration": 66,
    "start_time": "2022-05-28T10:46:55.773Z"
   },
   {
    "duration": 20,
    "start_time": "2022-05-28T10:46:55.840Z"
   },
   {
    "duration": 967,
    "start_time": "2022-05-28T10:46:55.861Z"
   },
   {
    "duration": 448,
    "start_time": "2022-05-28T10:46:56.830Z"
   },
   {
    "duration": 103,
    "start_time": "2022-05-28T10:46:57.280Z"
   },
   {
    "duration": 914,
    "start_time": "2022-05-28T10:46:57.385Z"
   },
   {
    "duration": 40,
    "start_time": "2022-05-28T10:46:58.300Z"
   },
   {
    "duration": 12,
    "start_time": "2022-05-28T10:46:58.343Z"
   },
   {
    "duration": 310,
    "start_time": "2022-05-28T10:46:58.357Z"
   },
   {
    "duration": 56,
    "start_time": "2022-05-28T10:46:58.669Z"
   },
   {
    "duration": 3,
    "start_time": "2022-05-28T10:46:58.727Z"
   },
   {
    "duration": 31997,
    "start_time": "2022-05-28T10:46:58.732Z"
   },
   {
    "duration": 198,
    "start_time": "2022-05-28T10:47:30.731Z"
   },
   {
    "duration": 93,
    "start_time": "2022-05-28T10:47:30.931Z"
   },
   {
    "duration": 701798,
    "start_time": "2022-05-28T10:47:31.026Z"
   },
   {
    "duration": 1457,
    "start_time": "2022-05-28T10:59:12.825Z"
   },
   {
    "duration": 2,
    "start_time": "2022-05-28T10:59:14.283Z"
   },
   {
    "duration": 7,
    "start_time": "2022-05-28T10:59:14.287Z"
   },
   {
    "duration": 5,
    "start_time": "2022-05-28T10:59:14.295Z"
   },
   {
    "duration": 671167,
    "start_time": "2022-05-28T10:59:14.302Z"
   },
   {
    "duration": 205,
    "start_time": "2022-05-28T11:10:25.471Z"
   },
   {
    "duration": 59082,
    "start_time": "2022-05-28T11:10:25.677Z"
   },
   {
    "duration": 98,
    "start_time": "2022-05-28T11:11:24.760Z"
   },
   {
    "duration": 3,
    "start_time": "2022-05-28T11:11:24.860Z"
   },
   {
    "duration": 104767,
    "start_time": "2022-05-28T11:11:24.864Z"
   },
   {
    "duration": 2103,
    "start_time": "2022-05-28T11:13:09.632Z"
   },
   {
    "duration": 5101,
    "start_time": "2022-05-28T11:13:11.736Z"
   },
   {
    "duration": 2705,
    "start_time": "2022-05-28T11:13:16.838Z"
   },
   {
    "duration": 7,
    "start_time": "2022-05-28T11:13:19.545Z"
   },
   {
    "duration": 77,
    "start_time": "2022-05-28T11:13:19.553Z"
   },
   {
    "duration": 15985,
    "start_time": "2022-05-28T11:13:19.632Z"
   },
   {
    "duration": 16373,
    "start_time": "2022-05-28T11:13:35.623Z"
   },
   {
    "duration": 17880,
    "start_time": "2022-05-28T12:49:29.222Z"
   },
   {
    "duration": 18662,
    "start_time": "2022-05-28T12:49:54.723Z"
   },
   {
    "duration": 8,
    "start_time": "2022-05-28T12:51:30.748Z"
   },
   {
    "duration": 60024,
    "start_time": "2022-05-28T12:55:35.049Z"
   },
   {
    "duration": 66623,
    "start_time": "2022-05-28T12:57:24.188Z"
   },
   {
    "duration": 61764,
    "start_time": "2022-05-28T13:12:02.926Z"
   },
   {
    "duration": 1389,
    "start_time": "2022-05-28T13:13:54.864Z"
   },
   {
    "duration": 1035,
    "start_time": "2022-05-28T13:13:56.255Z"
   },
   {
    "duration": 27,
    "start_time": "2022-05-28T13:13:57.292Z"
   },
   {
    "duration": 139,
    "start_time": "2022-05-28T13:13:57.320Z"
   },
   {
    "duration": 101,
    "start_time": "2022-05-28T13:13:57.462Z"
   },
   {
    "duration": 488,
    "start_time": "2022-05-28T13:13:57.565Z"
   },
   {
    "duration": 130,
    "start_time": "2022-05-28T13:13:58.054Z"
   },
   {
    "duration": 39,
    "start_time": "2022-05-28T13:13:58.186Z"
   },
   {
    "duration": 1060,
    "start_time": "2022-05-28T13:13:58.227Z"
   },
   {
    "duration": 3,
    "start_time": "2022-05-28T13:13:59.289Z"
   },
   {
    "duration": 69,
    "start_time": "2022-05-28T13:13:59.293Z"
   },
   {
    "duration": 11,
    "start_time": "2022-05-28T13:13:59.364Z"
   },
   {
    "duration": 75,
    "start_time": "2022-05-28T13:13:59.376Z"
   },
   {
    "duration": 79,
    "start_time": "2022-05-28T13:13:59.454Z"
   },
   {
    "duration": 19,
    "start_time": "2022-05-28T13:13:59.535Z"
   },
   {
    "duration": 112,
    "start_time": "2022-05-28T13:13:59.555Z"
   },
   {
    "duration": 7,
    "start_time": "2022-05-28T13:13:59.669Z"
   },
   {
    "duration": 7,
    "start_time": "2022-05-28T13:13:59.677Z"
   },
   {
    "duration": 157,
    "start_time": "2022-05-28T13:13:59.685Z"
   },
   {
    "duration": 21,
    "start_time": "2022-05-28T13:13:59.844Z"
   },
   {
    "duration": 25,
    "start_time": "2022-05-28T13:13:59.866Z"
   },
   {
    "duration": 147,
    "start_time": "2022-05-28T13:13:59.892Z"
   },
   {
    "duration": 15,
    "start_time": "2022-05-28T13:14:00.040Z"
   },
   {
    "duration": 11,
    "start_time": "2022-05-28T13:14:00.057Z"
   },
   {
    "duration": 133,
    "start_time": "2022-05-28T13:14:00.070Z"
   },
   {
    "duration": 99,
    "start_time": "2022-05-28T13:14:00.204Z"
   },
   {
    "duration": 21,
    "start_time": "2022-05-28T13:14:00.305Z"
   },
   {
    "duration": 6,
    "start_time": "2022-05-28T13:14:00.327Z"
   },
   {
    "duration": 50,
    "start_time": "2022-05-28T13:14:00.335Z"
   },
   {
    "duration": 254,
    "start_time": "2022-05-28T13:14:00.387Z"
   },
   {
    "duration": 255,
    "start_time": "2022-05-28T13:14:00.642Z"
   },
   {
    "duration": 256,
    "start_time": "2022-05-28T13:14:00.898Z"
   },
   {
    "duration": 68,
    "start_time": "2022-05-28T13:14:01.156Z"
   },
   {
    "duration": 28,
    "start_time": "2022-05-28T13:14:01.225Z"
   },
   {
    "duration": 949,
    "start_time": "2022-05-28T13:14:01.255Z"
   },
   {
    "duration": 466,
    "start_time": "2022-05-28T13:14:02.206Z"
   },
   {
    "duration": 115,
    "start_time": "2022-05-28T13:14:02.675Z"
   },
   {
    "duration": 878,
    "start_time": "2022-05-28T13:14:02.792Z"
   },
   {
    "duration": 27,
    "start_time": "2022-05-28T13:14:03.672Z"
   },
   {
    "duration": 22,
    "start_time": "2022-05-28T13:14:03.701Z"
   },
   {
    "duration": 269,
    "start_time": "2022-05-28T13:14:03.727Z"
   },
   {
    "duration": 52,
    "start_time": "2022-05-28T13:14:03.998Z"
   },
   {
    "duration": 3,
    "start_time": "2022-05-28T13:14:04.052Z"
   },
   {
    "duration": 27169,
    "start_time": "2022-05-28T13:14:04.057Z"
   },
   {
    "duration": 706224,
    "start_time": "2022-05-28T13:14:31.229Z"
   },
   {
    "duration": 18586,
    "start_time": "2022-05-28T13:26:17.455Z"
   },
   {
    "duration": 3,
    "start_time": "2022-05-28T13:26:36.042Z"
   },
   {
    "duration": 742357,
    "start_time": "2022-05-28T13:26:36.046Z"
   },
   {
    "duration": 58774,
    "start_time": "2022-05-28T13:38:58.405Z"
   },
   {
    "duration": 63790,
    "start_time": "2022-05-28T13:39:57.181Z"
   },
   {
    "duration": 120,
    "start_time": "2022-05-28T13:41:00.973Z"
   },
   {
    "duration": 1417632,
    "start_time": "2022-05-28T13:41:01.095Z"
   },
   {
    "duration": 6825,
    "start_time": "2022-05-28T14:04:38.729Z"
   },
   {
    "duration": 7583,
    "start_time": "2022-05-28T14:04:45.555Z"
   },
   {
    "duration": 7,
    "start_time": "2022-05-28T14:04:53.140Z"
   },
   {
    "duration": 15,
    "start_time": "2022-05-28T14:04:53.149Z"
   },
   {
    "duration": 16011,
    "start_time": "2022-05-28T14:04:53.166Z"
   },
   {
    "duration": 16506,
    "start_time": "2022-05-28T14:05:09.179Z"
   },
   {
    "duration": 10,
    "start_time": "2022-05-28T15:35:48.583Z"
   },
   {
    "duration": 10,
    "start_time": "2022-05-28T15:36:20.201Z"
   },
   {
    "duration": 10,
    "start_time": "2022-05-28T15:36:43.888Z"
   },
   {
    "duration": 1258,
    "start_time": "2022-05-29T07:18:07.342Z"
   },
   {
    "duration": 1007,
    "start_time": "2022-05-29T07:18:08.602Z"
   },
   {
    "duration": 26,
    "start_time": "2022-05-29T07:18:09.610Z"
   },
   {
    "duration": 105,
    "start_time": "2022-05-29T07:18:09.638Z"
   },
   {
    "duration": 108,
    "start_time": "2022-05-29T07:18:09.745Z"
   },
   {
    "duration": 414,
    "start_time": "2022-05-29T07:18:09.855Z"
   },
   {
    "duration": 99,
    "start_time": "2022-05-29T07:18:10.271Z"
   },
   {
    "duration": 21,
    "start_time": "2022-05-29T07:18:10.371Z"
   },
   {
    "duration": 802,
    "start_time": "2022-05-29T07:18:10.393Z"
   },
   {
    "duration": 2,
    "start_time": "2022-05-29T07:18:11.198Z"
   },
   {
    "duration": 63,
    "start_time": "2022-05-29T07:18:11.201Z"
   },
   {
    "duration": 9,
    "start_time": "2022-05-29T07:18:11.266Z"
   },
   {
    "duration": 57,
    "start_time": "2022-05-29T07:18:11.277Z"
   },
   {
    "duration": 72,
    "start_time": "2022-05-29T07:18:11.336Z"
   },
   {
    "duration": 17,
    "start_time": "2022-05-29T07:18:11.410Z"
   },
   {
    "duration": 101,
    "start_time": "2022-05-29T07:18:11.429Z"
   },
   {
    "duration": 5,
    "start_time": "2022-05-29T07:18:11.532Z"
   },
   {
    "duration": 14,
    "start_time": "2022-05-29T07:18:11.539Z"
   },
   {
    "duration": 128,
    "start_time": "2022-05-29T07:18:11.554Z"
   },
   {
    "duration": 21,
    "start_time": "2022-05-29T07:18:11.684Z"
   },
   {
    "duration": 45,
    "start_time": "2022-05-29T07:18:11.707Z"
   },
   {
    "duration": 127,
    "start_time": "2022-05-29T07:18:11.754Z"
   },
   {
    "duration": 13,
    "start_time": "2022-05-29T07:18:11.882Z"
   },
   {
    "duration": 10,
    "start_time": "2022-05-29T07:18:11.897Z"
   },
   {
    "duration": 102,
    "start_time": "2022-05-29T07:18:11.909Z"
   },
   {
    "duration": 87,
    "start_time": "2022-05-29T07:18:12.013Z"
   },
   {
    "duration": 12,
    "start_time": "2022-05-29T07:18:12.102Z"
   },
   {
    "duration": 4,
    "start_time": "2022-05-29T07:18:12.117Z"
   },
   {
    "duration": 52,
    "start_time": "2022-05-29T07:18:12.122Z"
   },
   {
    "duration": 242,
    "start_time": "2022-05-29T07:18:12.176Z"
   },
   {
    "duration": 261,
    "start_time": "2022-05-29T07:18:12.419Z"
   },
   {
    "duration": 239,
    "start_time": "2022-05-29T07:18:12.682Z"
   },
   {
    "duration": 49,
    "start_time": "2022-05-29T07:18:12.923Z"
   },
   {
    "duration": 27,
    "start_time": "2022-05-29T07:18:12.973Z"
   },
   {
    "duration": 738,
    "start_time": "2022-05-29T07:18:13.002Z"
   },
   {
    "duration": 741,
    "start_time": "2022-05-29T07:18:13.742Z"
   },
   {
    "duration": 190,
    "start_time": "2022-05-29T07:18:14.485Z"
   },
   {
    "duration": 1177,
    "start_time": "2022-05-29T07:18:14.676Z"
   },
   {
    "duration": 117,
    "start_time": "2022-05-29T07:18:15.855Z"
   },
   {
    "duration": 8,
    "start_time": "2022-05-29T07:18:15.973Z"
   },
   {
    "duration": 491,
    "start_time": "2022-05-29T07:18:15.983Z"
   },
   {
    "duration": 96,
    "start_time": "2022-05-29T07:18:16.476Z"
   },
   {
    "duration": 2,
    "start_time": "2022-05-29T07:18:16.574Z"
   },
   {
    "duration": 23674,
    "start_time": "2022-05-29T07:18:16.578Z"
   },
   {
    "duration": 669425,
    "start_time": "2022-05-29T07:18:40.254Z"
   },
   {
    "duration": 17498,
    "start_time": "2022-05-29T07:29:49.680Z"
   },
   {
    "duration": 2,
    "start_time": "2022-05-29T07:30:07.180Z"
   },
   {
    "duration": 655744,
    "start_time": "2022-05-29T07:30:07.184Z"
   },
   {
    "duration": 54140,
    "start_time": "2022-05-29T07:41:02.930Z"
   },
   {
    "duration": 58616,
    "start_time": "2022-05-29T07:41:57.072Z"
   },
   {
    "duration": 106,
    "start_time": "2022-05-29T07:42:55.689Z"
   },
   {
    "duration": 770259,
    "start_time": "2022-05-29T07:42:55.796Z"
   },
   {
    "duration": 92409,
    "start_time": "2022-05-29T07:55:46.057Z"
   },
   {
    "duration": 334001,
    "start_time": "2022-05-29T07:57:18.469Z"
   },
   {
    "duration": 7,
    "start_time": "2022-05-29T08:02:52.472Z"
   },
   {
    "duration": 50,
    "start_time": "2022-05-29T08:02:52.481Z"
   },
   {
    "duration": 15892,
    "start_time": "2022-05-29T08:02:52.533Z"
   },
   {
    "duration": 15631,
    "start_time": "2022-05-29T08:03:08.427Z"
   },
   {
    "duration": 3,
    "start_time": "2022-05-29T08:55:07.192Z"
   }
  ],
  "kernelspec": {
   "display_name": "Python 3 (ipykernel)",
   "language": "python",
   "name": "python3"
  },
  "language_info": {
   "codemirror_mode": {
    "name": "ipython",
    "version": 3
   },
   "file_extension": ".py",
   "mimetype": "text/x-python",
   "name": "python",
   "nbconvert_exporter": "python",
   "pygments_lexer": "ipython3",
   "version": "3.9.10"
  },
  "toc": {
   "base_numbering": 1,
   "nav_menu": {},
   "number_sections": true,
   "sideBar": true,
   "skip_h1_title": true,
   "title_cell": "Table of Contents",
   "title_sidebar": "Contents",
   "toc_cell": false,
   "toc_position": {
    "height": "calc(100% - 180px)",
    "left": "10px",
    "top": "150px",
    "width": "255.188px"
   },
   "toc_section_display": true,
   "toc_window_display": true
  }
 },
 "nbformat": 4,
 "nbformat_minor": 2
}
